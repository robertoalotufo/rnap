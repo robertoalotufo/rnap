{
 "cells": [
  {
   "cell_type": "markdown",
   "metadata": {},
   "source": [
    "# NumPy: *broadcasting*, *reshape* e redução de eixo\n",
    "\n",
    "Entender o funcionamneto do *broadcasting*,  *reshape* e do *axis* do NumPy é muito importante. Nesse tutorial iremos ilustrar esses conceitos através de exemplos. \n",
    "\n",
    "## Reshape"
   ]
  },
  {
   "cell_type": "code",
   "execution_count": 2,
   "metadata": {
    "collapsed": false
   },
   "outputs": [
    {
     "name": "stdout",
     "output_type": "stream",
     "text": [
      "a:\n",
      "[0 1 2 3 4 5 6 7 8 9]\n",
      "A eh um array unidimensional, a.shape= (10,)\n"
     ]
    }
   ],
   "source": [
    "import numpy as np\n",
    "\n",
    "a = np.arange(10)\n",
    "print \"a:\"\n",
    "print a\n",
    "print \"A eh um array unidimensional, a.shape=\", a.shape"
   ]
  },
  {
   "cell_type": "markdown",
   "metadata": {},
   "source": [
    "Podemos utilizar o reshape para \"enxergar\" o array *a* como um array bidimensional com uma linha.\n",
    "\n",
    "Quando o valor da dimensão for -1, significa que será utilizado o valor que falta para que o reshape fique correto. Por exemplo no exemplo a seguir, o array \"a\" possui 10 elementos. Se um dos valores do shape for 1, o valor -1 terá o significado do valor 10:"
   ]
  },
  {
   "cell_type": "code",
   "execution_count": 3,
   "metadata": {
    "collapsed": false
   },
   "outputs": [
    {
     "name": "stdout",
     "output_type": "stream",
     "text": [
      "a:\n",
      "[[0 1 2 3 4 5 6 7 8 9]]\n",
      "A eh um array bidimensional linha, a.shape: (1, 10)\n"
     ]
    }
   ],
   "source": [
    "a = a.reshape(1,-1) # O -1 é uma diretiva para que o NumPy calcule automaticamente as dimensões que faltam\n",
    "print \"a:\"\n",
    "print a\n",
    "print \"A eh um array bidimensional linha, a.shape:\", a.shape"
   ]
  },
  {
   "cell_type": "markdown",
   "metadata": {},
   "source": [
    "Podemos enxergar o array *a* como um array com uma coluna:"
   ]
  },
  {
   "cell_type": "code",
   "execution_count": 4,
   "metadata": {
    "collapsed": false
   },
   "outputs": [
    {
     "name": "stdout",
     "output_type": "stream",
     "text": [
      "a:\n",
      "[[0]\n",
      " [1]\n",
      " [2]\n",
      " [3]\n",
      " [4]\n",
      " [5]\n",
      " [6]\n",
      " [7]\n",
      " [8]\n",
      " [9]]\n",
      "A eh um array bidimensional coluna, a.shape: (10, 1)\n"
     ]
    }
   ],
   "source": [
    "a = a.reshape(-1,1) \n",
    "print \"a:\"\n",
    "print a\n",
    "print \"A eh um array bidimensional coluna, a.shape:\", a.shape"
   ]
  },
  {
   "cell_type": "markdown",
   "metadata": {},
   "source": [
    "O então como um array bidimensional, desde que o número de elementos do array não exceda o número de elementos do array inicial."
   ]
  },
  {
   "cell_type": "code",
   "execution_count": 5,
   "metadata": {
    "collapsed": false
   },
   "outputs": [
    {
     "name": "stdout",
     "output_type": "stream",
     "text": [
      "a:\n",
      "[[0 1]\n",
      " [2 3]\n",
      " [4 5]\n",
      " [6 7]\n",
      " [8 9]]\n",
      "A eh um array bidimensional, a.shape: (5, 2)\n"
     ]
    }
   ],
   "source": [
    "a = a.reshape(5,-1) \n",
    "print \"a:\"\n",
    "print a\n",
    "print \"A eh um array bidimensional, a.shape:\", a.shape"
   ]
  },
  {
   "cell_type": "markdown",
   "metadata": {},
   "source": [
    "## Redução de eixo\n",
    "\n",
    "Existem várias operações no NumPy que permitem operar ao longo de eixos (colunas ou linhas ou eixos de maiores dimensões). Por exemplo, pode-se \n",
    "calcular estatísticas ao longo de um eixo. \n",
    "Um array unidimensional possui apenas um eixo (eixo 0), um array bidimensional possui dois eixos (eixos 0 e 1) e assim por diante. Muitas funções do NumPy possuem o parâmetro `axis` que indica se a operação feita para a função será aplicada ao longo de um eixo. Vejo o exemplo da média abaixo:\n"
   ]
  },
  {
   "cell_type": "code",
   "execution_count": 9,
   "metadata": {
    "collapsed": false
   },
   "outputs": [
    {
     "name": "stdout",
     "output_type": "stream",
     "text": [
      "a:\n",
      "[[ 0  1  2  3  4  5]\n",
      " [ 6  7  8  9 10 11]\n",
      " [12 13 14 15 16 17]]\n",
      "a.shape: (3, 6)\n",
      "a.max(): 17\n",
      "a.max(axis=0): [12 13 14 15 16 17]\n",
      "a.max(axis=0).shape: (6,)\n",
      "a.max(axis=1): [ 5 11 17]\n",
      "a.max(axis=1).shape: (3,)\n"
     ]
    }
   ],
   "source": [
    "a = np.arange(18).reshape(3,6)\n",
    "print 'a:\\n',a\n",
    "print 'a.shape:',a.shape\n",
    "print 'a.max():',a.max()\n",
    "print 'a.max(axis=0):', a.max(axis=0)\n",
    "print 'a.max(axis=0).shape:',a.max(axis=0).shape\n",
    "print 'a.max(axis=1):', a.max(axis=1)\n",
    "print 'a.max(axis=1).shape:',a.max(axis=1).shape"
   ]
  },
  {
   "cell_type": "markdown",
   "metadata": {},
   "source": [
    "Note que `a.max(0)` opera no eixo das linhas (pois é o primeiro eixo deste array), resultando o valor máximo de cada coluna. O resultado possui 6 elementos que é o número de colunas de a. Note que o shape foi reduzido de (3,6) para (6,), pois a operação se deu na dimensão 0 e o novo array tem uma dimensão a menos, daí o nome da operação de \"redução de eixo\".\n",
    "\n",
    "Já o `a.max(1)` opera na direção do eixo nas colunas (segundo eixo na matriz bidimensional), resultando o máximo em cada linha. O shape reduziu de (3,6) para (3,)."
   ]
  },
  {
   "cell_type": "markdown",
   "metadata": {},
   "source": [
    "## Broadcasting\n",
    "\n",
    "Nas operações em arrays como a soma entre A e B, é importante que o shape dos dois *arrays* sejam iguais. Existe a exceção que é quando é possível ocorrer a operação de broadcast.\n",
    "\n",
    "O broadcasting é uma técnica extremamente eficiente que permite processar *arrays* de dimensões diferentes, fazendo a propagação (cópia) do valor de um eixo de um elemento para o número de elemento do outro array.\n",
    "\n",
    "O broadcast pode acontecer sempre que o array possuir alguma dimensão com apenas 1 elemento.\n",
    "\n",
    "Vejamos primeiro um exemplo de soma de dois arrays de shapes iguais a (2,5):"
   ]
  },
  {
   "cell_type": "code",
   "execution_count": 18,
   "metadata": {
    "collapsed": false
   },
   "outputs": [
    {
     "name": "stdout",
     "output_type": "stream",
     "text": [
      "A=\n",
      "[[0 1 2 3 4]\n",
      " [5 6 7 8 9]]\n",
      "B=\n",
      "[[1 1 1 1 1]\n",
      " [1 1 1 1 1]]\n",
      "A+B=\n",
      "[[ 1  2  3  4  5]\n",
      " [ 6  7  8  9 10]]\n"
     ]
    }
   ],
   "source": [
    "A = np.arange(10).reshape(2,5)\n",
    "B = np.ones(shape=(2,5),dtype=int)\n",
    "print 'A=\\n', A\n",
    "print 'B=\\n', B\n",
    "print 'A+B=\\n',A+B"
   ]
  },
  {
   "cell_type": "markdown",
   "metadata": {},
   "source": [
    "Agora, o array B terá dimensões (2,1), terá apenas uma coluna. Como a soma se dará entre o array A com shape (2,5) somado ao array com shape (2,1), este último array é *broadcast* para (2,5) internamente de forma eficiente e o resultado será igual ao anterior:"
   ]
  },
  {
   "cell_type": "code",
   "execution_count": 19,
   "metadata": {
    "collapsed": false
   },
   "outputs": [
    {
     "name": "stdout",
     "output_type": "stream",
     "text": [
      "A=\n",
      "[[0 1 2 3 4]\n",
      " [5 6 7 8 9]]\n",
      "B=\n",
      "[[1]\n",
      " [1]]\n",
      "A+B=\n",
      "[[ 1  2  3  4  5]\n",
      " [ 6  7  8  9 10]]\n"
     ]
    }
   ],
   "source": [
    "A = np.arange(10).reshape(2,5)\n",
    "B = np.ones(shape=(2,1),dtype=int)\n",
    "print 'A=\\n', A\n",
    "print 'B=\\n', B\n",
    "print 'A+B=\\n',A+B"
   ]
  },
  {
   "cell_type": "markdown",
   "metadata": {},
   "source": [
    "É possível também que o broadcast aconteça nos dois arrays da operação, de forma simultânea. Por exemplo podemos ter dois arrays bidimensionais um com dimensões (2,1) e outro com dimensões (1,5). O broadcast entre os dois será possível e o resultado será shape (2,5):"
   ]
  },
  {
   "cell_type": "code",
   "execution_count": 20,
   "metadata": {
    "collapsed": false
   },
   "outputs": [
    {
     "name": "stdout",
     "output_type": "stream",
     "text": [
      "A=\n",
      "[[0 1 2 3 4]]\n",
      "B=\n",
      "[[1]\n",
      " [1]]\n",
      "A+B=\n",
      "[[1 2 3 4 5]\n",
      " [1 2 3 4 5]]\n"
     ]
    }
   ],
   "source": [
    "A = np.arange(5).reshape(1,5)\n",
    "B = np.ones(shape=(2,1),dtype=int)\n",
    "print 'A=\\n', A\n",
    "print 'B=\\n', B\n",
    "print 'A+B=\\n',A+B"
   ]
  },
  {
   "cell_type": "markdown",
   "metadata": {},
   "source": [
    "## Combinando a redução de eixo com broadcast\n",
    "\n",
    "É comum utilizar o broadcast de um array com a redução de eixo produzindo operações bastante eficientes. Por exemplo queremos que, dada uma matriz bidimensional, cada linha seja dividida pelo valor máximo da linha, de modo que cada linha seja normalizada.\n",
    "\n",
    "É possível primeiro fazer a redução do eixo, calculando o máximo em cada linha (eixo 1) e depois fazer o broadcast pela divisão do array pelo array de máximo."
   ]
  },
  {
   "cell_type": "code",
   "execution_count": 26,
   "metadata": {
    "collapsed": false
   },
   "outputs": [
    {
     "name": "stdout",
     "output_type": "stream",
     "text": [
      "A.shape: (4, 5)\n",
      "A:\n",
      "[[  0.   1.   2.   3.   4.]\n",
      " [  5.   6.   7.   8.   9.]\n",
      " [ 10.  11.  12.  13.  14.]\n",
      " [ 15.  16.  17.  18.  19.]]\n",
      "Am.shape: (4, 1)\n",
      "Am:\n",
      "[[  4.]\n",
      " [  9.]\n",
      " [ 14.]\n",
      " [ 19.]]\n",
      "B.shape: (4, 5)\n",
      "B:\n",
      "[[ 0.          0.25        0.5         0.75        1.        ]\n",
      " [ 0.55555556  0.66666667  0.77777778  0.88888889  1.        ]\n",
      " [ 0.71428571  0.78571429  0.85714286  0.92857143  1.        ]\n",
      " [ 0.78947368  0.84210526  0.89473684  0.94736842  1.        ]]\n"
     ]
    }
   ],
   "source": [
    "A = np.arange(20).reshape(4,5).astype(float)\n",
    "Am = A.max(1, keepdims=True)\n",
    "B = A/Am\n",
    "print 'A.shape:',A.shape\n",
    "print 'A:\\n', A\n",
    "print 'Am.shape:',Am.shape\n",
    "print 'Am:\\n', Am\n",
    "print 'B.shape:',B.shape\n",
    "print 'B:\\n',B\n"
   ]
  }
 ],
 "metadata": {
  "kernelspec": {
   "display_name": "Python [Root]",
   "language": "python",
   "name": "Python [Root]"
  },
  "language_info": {
   "codemirror_mode": {
    "name": "ipython",
    "version": 2
   },
   "file_extension": ".py",
   "mimetype": "text/x-python",
   "name": "python",
   "nbconvert_exporter": "python",
   "pygments_lexer": "ipython2",
   "version": "2.7.12"
  }
 },
 "nbformat": 4,
 "nbformat_minor": 0
}
