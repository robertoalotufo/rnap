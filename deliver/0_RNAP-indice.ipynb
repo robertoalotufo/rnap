{
 "cells": [
  {
   "cell_type": "markdown",
   "metadata": {
    "heading_collapsed": true
   },
   "source": [
    "# Treinamento Redes Neurais e Aprendizado Profundo de Máquina"
   ]
  },
  {
   "cell_type": "markdown",
   "metadata": {
    "hidden": true
   },
   "source": [
    "<img src=\"../figures/capacurso.png\",width=600pt>"
   ]
  },
  {
   "cell_type": "markdown",
   "metadata": {
    "heading_collapsed": true
   },
   "source": [
    "# I - Introdução ao curso"
   ]
  },
  {
   "cell_type": "markdown",
   "metadata": {
    "hidden": true
   },
   "source": [
    "1. Conteúdo e formato do curso \n",
    "2. Introdução a Aprendizagem de Máquina, Redes Neurais Profundas e Redes Convolucionais\n",
    "3. Ferramentas e Ambiente de trabalho durante o curso\n",
    "    - Jupyter, Git, Python, NumPy\n",
    "    * NB:[Git e Github](Git-basico-Git-Classroom.ipynb)\n",
    "    * NB:[Python](tutorial-python.ipynb)\n",
    "    * NB:[NumPy](tutorial-numpy.ipynb)\n",
    "    * NB:[NumPy - reshape, redução de eixo e broadcast](numpy-reshape-broadcast-reducao.ipynb)\n",
    "    * Toolbox ia898: [Tutoriais Jupyter/Python/NumPy/Proc. Imagens](../../ia898/master/0_index.ipynb)\n",
    "    \n",
    "4. [Glossário](Glossario.ipynb)"
   ]
  },
  {
   "cell_type": "markdown",
   "metadata": {},
   "source": [
    "# II - Introdução a redes neurais"
   ]
  },
  {
   "cell_type": "markdown",
   "metadata": {
    "heading_collapsed": true
   },
   "source": [
    "## Regressão Linear"
   ]
  },
  {
   "cell_type": "markdown",
   "metadata": {
    "hidden": true
   },
   "source": [
    "### Regressão Linear - codificação matricial NumPy - codificação Keras"
   ]
  },
  {
   "cell_type": "markdown",
   "metadata": {
    "hidden": true
   },
   "source": [
    "- Conceitos novos:\n",
    "- Teoria: Otimização Mínimos Quadrados usando gradiente descendente, notação matemática\n",
    "- Prática: Programação matricial; Laço de gradiente descendente; Plotando gráficos; visualizando animação da otimização na função custo e no ajuste reta\n",
    "    * NB: [Regressão Linear](Regressao-Linear.ipynb) "
   ]
  },
  {
   "cell_type": "markdown",
   "metadata": {
    "hidden": true
   },
   "source": [
    "### Regressão Linear no TensorFlow"
   ]
  },
  {
   "cell_type": "markdown",
   "metadata": {
    "hidden": true
   },
   "source": [
    "- Conceitos novos:\n",
    "- Teoria: Estilo de programação linguagem de fluxo\n",
    "- Prática: Implementação da Regressão Linear no TensorFlow\n",
    "    * NB: [Regressão Linear Tensorflow](Regressao-Linear-tensorflow.ipynb) \n",
    "    "
   ]
  },
  {
   "cell_type": "markdown",
   "metadata": {
    "heading_collapsed": true
   },
   "source": [
    "## Regressão Logística - Classificação"
   ]
  },
  {
   "cell_type": "markdown",
   "metadata": {
    "hidden": true
   },
   "source": [
    "### Softmax"
   ]
  },
  {
   "cell_type": "markdown",
   "metadata": {
    "hidden": true
   },
   "source": [
    "- Conceitos novos:\n",
    "- Teoria: Softmax para classificação multiclasse\n",
    "- Prática: Explorando comportamento do Softmax, com parâmetros interativos\n",
    " * NB: [Softmax](softmax.ipynb)\n",
    " "
   ]
  },
  {
   "cell_type": "markdown",
   "metadata": {
    "hidden": true
   },
   "source": [
    "### Regressão Logística multiclasse - Iris - implementação matricial"
   ]
  },
  {
   "cell_type": "markdown",
   "metadata": {
    "hidden": true
   },
   "source": [
    "- Conceitos novos: \n",
    "- Teoria: Classificação multiclasse com Softmax; Custo entropia cruzada; one-hot-encoding; mesmo modelo anterior de otimização\n",
    "    * NB: [Regressão Logística Multiclasse Softmax - Iris 2D - Programação matricial](Regressao-Logistica-Softmax-Iris-2D-matricial.ipynb)\n",
    "    * NB: [Regressão Logística Multiclasse Softmax - Iris 2D - programação matricial - fronteira dinâmica](Regressao-Logistica-Softmax-Iris-2D-matricial-Fronteira-Dinamica.ipynb)\n",
    "\n",
    "### Regressão Logística multiclasse - Iris - implementação no Keras"
   ]
  },
  {
   "cell_type": "markdown",
   "metadata": {
    "hidden": true
   },
   "source": [
    "- Conceitos novos:\n",
    "- Prática: Introdução inicial do Keras, mostrando que executa o mesmo exemplo anterior; criando a rede, definindo otimizador\n",
    " * NB: [Regressão Logística Multiclasse Softmax - Iris 2D - usando o Keras](Regressao-Logistica-Softmax-Iris-2D-Keras.ipynb)\n",
    " * NB: [Regressão Logística Multiclasse Softmax - Iris 2D - usando o Keras - Fronteira dinâmica](Regressao-Logistica-Softmax-Iris-2D-Keras-Fronteira-Dinamica.ipynb)\n",
    "\n",
    "### Regressão Logística multiclasse - dataset NMIST - implementação matricial"
   ]
  },
  {
   "cell_type": "markdown",
   "metadata": {
    "hidden": true
   },
   "source": [
    "- Conceitos novos:\n",
    "- Prática: dataset NMIST, Visualização dos pesos na forma de template; não é possível mais visualizar espaço de atributos nem espaço de parâmetros. Visualiza-se a queda da função de perda\n",
    " * NB: [Regressão Logística Multiclasse Softmax - MNIST - Programação Matricial](Regressao-Logistica-Softmax-MNIST-matricial.ipynb)"
   ]
  },
  {
   "cell_type": "markdown",
   "metadata": {
    "hidden": true
   },
   "source": [
    "### Regressão Logística multiclasse - dataset NMIST - implementação no Keras"
   ]
  },
  {
   "cell_type": "markdown",
   "metadata": {
    "hidden": true
   },
   "source": [
    "- Conceitos novos:\n",
    "- Prática: extraindo os pesos aprendidos da rede no Keras\n",
    " * NB: [Regressão Logística Multiclasse Softmax - MNIST - usando o Keras](Regressao-Logistica-Softmax-MNIST-Keras.ipynb)\n",
    " "
   ]
  },
  {
   "cell_type": "markdown",
   "metadata": {
    "heading_collapsed": true
   },
   "source": [
    "## Overfitting e Underfitting - Regularização"
   ]
  },
  {
   "cell_type": "markdown",
   "metadata": {
    "hidden": true
   },
   "source": [
    "### Ilustrando overfitting e underfitting, regularização com exemplo de  ajuste de polinômio"
   ]
  },
  {
   "cell_type": "markdown",
   "metadata": {
    "hidden": true
   },
   "source": [
    "- Conceitos novos:\n",
    "- Teoria: Conceito de overfitting e underfitting, conceito de regularização, função de custo\n",
    "- Prática: Explorando parâmetros de ajustes e parâmetros de regularização\n",
    " * NB: [Ajuste curvas: Overfitting - Underfitting - Regularização](overfitting_regularization.ipynb)"
   ]
  },
  {
   "cell_type": "markdown",
   "metadata": {
    "heading_collapsed": true
   },
   "source": [
    "## Ativações"
   ]
  },
  {
   "cell_type": "markdown",
   "metadata": {
    "hidden": true
   },
   "source": [
    "- Conceitos novos: \n",
    "- Teoria: introdução aos novos tipos de ativações não lineares\n",
    "- Prática: programa que implementa a equação de diversas ativações\n",
    " * NB: [Ativações](Activations.ipynb)"
   ]
  },
  {
   "cell_type": "markdown",
   "metadata": {},
   "source": [
    "## Rede Neural"
   ]
  },
  {
   "cell_type": "markdown",
   "metadata": {},
   "source": [
    "### Rede Neural - Iris dataset - implementação no Keras"
   ]
  },
  {
   "cell_type": "markdown",
   "metadata": {},
   "source": [
    "- Conceitos novos:\n",
    "- Teoria: concatenação de camadas com elemento não linear reLU; retropropagação;\n",
    "- Prática: Dificuldade de otimização, falta de atributos\n",
    " * NB: [Rede Neural 2 camadas com reLU - Iris - usando Keras](Densas-2.ipynb)"
   ]
  },
  {
   "cell_type": "markdown",
   "metadata": {},
   "source": [
    "### Rede Neural - Análise de sentimento IMDB usando rede com uma camada escondida"
   ]
  },
  {
   "cell_type": "markdown",
   "metadata": {
    "ExecuteTime": {
     "end_time": "2017-07-18T20:56:18.576824",
     "start_time": "2017-07-18T20:56:18.563622"
    }
   },
   "source": [
    "- Conceitos novos: codificação entrada one-hot, análise de texto\n",
    "- Teoria: geração de dados com one-hot encoding de várias palavras por amostra\n",
    "- Prática: Exemplo rede simples de análise de sentimentos\n",
    "  * NB: [AnaliseSentimento IMDB one-hot encoding](AnaliseSentimento_IMDB_onehotencoding.ipynb)"
   ]
  },
  {
   "cell_type": "markdown",
   "metadata": {},
   "source": [
    "### Dataset - Boston Houses"
   ]
  },
  {
   "cell_type": "markdown",
   "metadata": {},
   "source": [
    "- Conceitos novos:\n",
    "- Prática: Explorando um dataset, verificando consistência de dados\n",
    " * NB: [Conjunto de Dados Preços das casas de Boston](boston_housing.ipynb)\n",
    " "
   ]
  },
  {
   "cell_type": "markdown",
   "metadata": {},
   "source": [
    "### Rede Neural - Retropropagação - implementação matricial"
   ]
  },
  {
   "cell_type": "markdown",
   "metadata": {},
   "source": [
    "- Conceitos novos:\n",
    "- Teoria: concatenação de camadas, gradiente via backpropagation, verificação de gradiente\n",
    "- Prática: implementação matricial rede neural\n",
    " * NB: [Rede neural implementação matricial - backpropagation](neural_networks.ipynb)\n",
    " * NB: [Rede neural implementação matricial - backpropagation com Bias](neural_networks_bias.ipynb)\n",
    " "
   ]
  },
  {
   "cell_type": "markdown",
   "metadata": {},
   "source": [
    "### Rede Neural - implementação matricial com regularização L2"
   ]
  },
  {
   "cell_type": "markdown",
   "metadata": {},
   "source": [
    "- Conceitos novos:\n",
    "- Teoria: regularização L2\n",
    "- Prática: implementação matricial rede neural com regularização L2\n",
    " * NB: [Rede neural implementação matricial - regularização L2](neural_networks_l2.ipynb)"
   ]
  },
  {
   "cell_type": "markdown",
   "metadata": {},
   "source": [
    "### Rede Neural - Regularização no Keras"
   ]
  },
  {
   "cell_type": "markdown",
   "metadata": {},
   "source": [
    "- Conceitos novos:\n",
    "- Teoria: regularização L1, L2, dropout, early-stop\n",
    "- Prática: uso da regularização no Keras\n",
    " * NB: [Rede neural - regularização no Keras](Regularization.ipynb)"
   ]
  },
  {
   "cell_type": "markdown",
   "metadata": {},
   "source": [
    "### Rede Neural - implementação no TensorFlow"
   ]
  },
  {
   "cell_type": "markdown",
   "metadata": {},
   "source": [
    "- Conceitos novos:\n",
    "- Prática: implementação da rede neural utilizando o TensorFlow\n",
    " * NB: [Rede neural implementação no tensorflow](neural_networks_tf.ipynb)"
   ]
  },
  {
   "cell_type": "markdown",
   "metadata": {},
   "source": [
    "### Rede Neural - implementação básica MNIST - usar como template"
   ]
  },
  {
   "cell_type": "markdown",
   "metadata": {},
   "source": [
    "- Conceitos novos:\n",
    "- Prática: implementação básica de uma rede neural clássica no Keras - para ser utilizado como template\n",
    " * NB: [Rede neural classica Keras MNIST](neural-net-mnist.ipynb)"
   ]
  },
  {
   "cell_type": "markdown",
   "metadata": {},
   "source": [
    "## Seleção de modelo - escolha de hyperparâmetros"
   ]
  },
  {
   "cell_type": "markdown",
   "metadata": {
    "ExecuteTime": {
     "end_time": "2017-04-21T00:46:59.730628",
     "start_time": "2017-04-21T00:46:59.710761"
    }
   },
   "source": [
    "- Conceitos novos:\n",
    "- Teoria: Processo de seleção de modelo, busca de hyperparâmetros\n",
    "- Prática: Divisão do conjunto de dados: treino, validação e testes.\n",
    "- seleção de modelo, busca por ajuste de hyperparâmetros\n",
    " * NB: [Seleção de modelo](model_selection.ipynb)\n"
   ]
  },
  {
   "cell_type": "markdown",
   "metadata": {
    "heading_collapsed": true
   },
   "source": [
    "# III - Redes neurais profundas - redes convolucionais"
   ]
  },
  {
   "cell_type": "markdown",
   "metadata": {
    "heading_collapsed": true,
    "hidden": true
   },
   "source": [
    "## Introdução"
   ]
  },
  {
   "cell_type": "markdown",
   "metadata": {
    "hidden": true
   },
   "source": [
    "### Convolução Keras/TensorFlow"
   ]
  },
  {
   "cell_type": "markdown",
   "metadata": {
    "hidden": true
   },
   "source": [
    "- Conceitos novos:\n",
    "- Teoria: Convolução, processamento borda, zero-padding, dimensionalidade dos arrays\n",
    "- Prática: rede convolucional no Keras, variação de número de imagens, kernels e filtros de saída\n",
    " * NB: [Convolução](Explorando-Convolucao-no-Keras-usando-TensorFlow.ipynb)"
   ]
  },
  {
   "cell_type": "markdown",
   "metadata": {
    "hidden": true
   },
   "source": [
    "### Introdução ao Keras"
   ]
  },
  {
   "cell_type": "markdown",
   "metadata": {
    "hidden": true
   },
   "source": [
    "- Conceitos novos:\n",
    "- Prática: Keras, criando o modelo, colocando pesos, retirando pesos e retirando camadas\n",
    " * NB: [Introdução ao Keras](Introducao-CNN-Keras.ipynb)"
   ]
  },
  {
   "cell_type": "markdown",
   "metadata": {
    "hidden": true
   },
   "source": [
    "## Rede Convolucional - Exemplos simples"
   ]
  },
  {
   "cell_type": "markdown",
   "metadata": {
    "hidden": true
   },
   "source": [
    "### Rede Convolucional - Visualização camadas internas - CIFAR-10"
   ]
  },
  {
   "cell_type": "markdown",
   "metadata": {
    "hidden": true
   },
   "source": [
    "- Conceitos novos:\n",
    "- Teoria: visualização das camadas internas\n",
    "- Prática: Keras - criando a rede, treinando e avaliando\n",
    " * NB: [CIFAR-10 e rede convolucional no Keras](cifar10-CNN-features.ipynb)"
   ]
  },
  {
   "cell_type": "markdown",
   "metadata": {
    "hidden": true
   },
   "source": [
    "### Rede Convolucional - MNIST reduzido"
   ]
  },
  {
   "cell_type": "markdown",
   "metadata": {
    "hidden": true
   },
   "source": [
    "- Conceitos novos:\n",
    "- Teoria: Rede convolucional LeNet\n",
    " * NB: [KerasLenetMNIST](keras-lenet-mnist.ipynb)"
   ]
  },
  {
   "cell_type": "markdown",
   "metadata": {
    "hidden": true
   },
   "source": [
    "## Normalização batch"
   ]
  },
  {
   "cell_type": "markdown",
   "metadata": {
    "ExecuteTime": {
     "end_time": "2017-05-29T21:07:30.845708",
     "start_time": "2017-05-29T21:07:30.840479"
    },
    "hidden": true
   },
   "source": [
    "- [batch_norm_basics: Introdução - caso numérico](batch_norm_basics.ipynb)\n",
    "- [batch_norm_mnist: aplicado redes densas](batch_norm_mnist_ioffe.ipynb)\n",
    "- [batch_norm_mnist: aplicado redes convolucionais](batch_norm_mnist_conv.ipynb)"
   ]
  },
  {
   "cell_type": "markdown",
   "metadata": {
    "hidden": true
   },
   "source": [
    "## Rede Convolucional - Exemplos com redes prontas Image-Net"
   ]
  },
  {
   "cell_type": "markdown",
   "metadata": {
    "hidden": true
   },
   "source": [
    "### Redes ganhadoras da Image-Net"
   ]
  },
  {
   "cell_type": "markdown",
   "metadata": {
    "ExecuteTime": {
     "end_time": "2017-05-29T20:22:37.811363",
     "start_time": "2017-05-29T20:22:37.802959"
    },
    "hidden": true
   },
   "source": [
    "- [Models_VGG19](Models_VGG19.ipynb)\n",
    "- [Models_InceptionV3](Models_InceptionV3.ipynb)\n",
    "- [Models_ResNet50](Models_ResNet50.ipynb)"
   ]
  },
  {
   "cell_type": "markdown",
   "metadata": {
    "hidden": true
   },
   "source": [
    "## Otimizadores do Gradiente Descendente"
   ]
  },
  {
   "cell_type": "markdown",
   "metadata": {
    "hidden": true
   },
   "source": [
    "- Conceitos novos: \n",
    "- Teoria: Diversos otimizadores: SGD com momento, SGD com momento Nesterov, SGD com queda de fator de aprendizagem, RMSprop, Adadelta, Adam\n",
    "- Prática: Observação do desempenho de diversos otimizadores\n",
    " * NB: [Otimizadores](Keras-optimizers.ipynb)"
   ]
  },
  {
   "cell_type": "markdown",
   "metadata": {
    "hidden": true
   },
   "source": [
    "## Autocodificador Convolucional - Filtrando Ruído"
   ]
  },
  {
   "cell_type": "markdown",
   "metadata": {
    "hidden": true
   },
   "source": [
    "- Conceitos novos:\n",
    "- Teoria: autoencoders, autoencoders convolucionais\n",
    "- Prática: treinando autoencoders\n",
    "- NB:[Filtrando Ruido com Autoencoder](FiltrandoRuidoAutoencoder.ipynb)"
   ]
  },
  {
   "cell_type": "markdown",
   "metadata": {
    "hidden": true
   },
   "source": [
    "## Rede Totalmente Convolucional"
   ]
  },
  {
   "cell_type": "markdown",
   "metadata": {
    "hidden": true
   },
   "source": [
    "- Conceitos novos:\n",
    "- Teoria: Convertendo uma rede com camadas densas para totalmente convolucionais para otimizar varredura da imagem\n",
    "- Prática: Explorando o exemplo implementado\n",
    " * NB: [Rede totalmente convolucional](fully_convolutional.ipynb)\n",
    " "
   ]
  },
  {
   "cell_type": "markdown",
   "metadata": {
    "hidden": true
   },
   "source": [
    "- Exemplo numérico de uma rede mínima\n",
    " * NB: [Rede totalmente convolucional (exemplo numérico)](fully_convolutional_numerico.ipynb)\n",
    " "
   ]
  },
  {
   "cell_type": "markdown",
   "metadata": {
    "hidden": true
   },
   "source": [
    "## Transferência de Conhecimento -  Aprendizado com poucos dados"
   ]
  },
  {
   "cell_type": "markdown",
   "metadata": {
    "hidden": true
   },
   "source": [
    "### Rede VGG-16 treinamento do zero - Aumento de Dados"
   ]
  },
  {
   "cell_type": "markdown",
   "metadata": {
    "hidden": true
   },
   "source": [
    "- Conceitos novos:\n",
    "- Teoria: Aprendizado com poucos dados, data augmentation, treina do zero 80%\n",
    " * NB: [Aprendizado com poucos dados I](cats-and-dogs-1.ipynb)"
   ]
  },
  {
   "cell_type": "markdown",
   "metadata": {
    "hidden": true
   },
   "source": [
    "### Rede VGG-16 já treinada - Extratora de atributos"
   ]
  },
  {
   "cell_type": "markdown",
   "metadata": {
    "hidden": true
   },
   "source": [
    " - trasfer learning off-the-shelf feature extraction com VGG aprendida 90%\n",
    " * NB: [Aprendizado com poucos dados II](cats-and-dogs-2.ipynb)"
   ]
  },
  {
   "cell_type": "markdown",
   "metadata": {
    "hidden": true
   },
   "source": [
    "### Rede VGG-16 - Sintonia Fina"
   ]
  },
  {
   "cell_type": "markdown",
   "metadata": {
    "hidden": true
   },
   "source": [
    " - transfer learning,fine tuning,\n",
    " * NB: [Aprendizado com poucos dados III](cats-and-dogs-3.ipynb)\n",
    " \n",
    " * NB: [Exercício Transf. Conhecimento](Exercicio_Transf_Conhecimento.ipynb.ipynb)\n",
    " "
   ]
  },
  {
   "cell_type": "markdown",
   "metadata": {
    "heading_collapsed": true
   },
   "source": [
    "# IV - Embeddings - Atributos latentes"
   ]
  },
  {
   "cell_type": "markdown",
   "metadata": {
    "hidden": true
   },
   "source": [
    "## Sistema de Recomendação - MovieLens"
   ]
  },
  {
   "cell_type": "markdown",
   "metadata": {
    "hidden": true
   },
   "source": [
    "###  MovieLens dataset - leitura, reindexação e visualização matriz de recomendação"
   ]
  },
  {
   "cell_type": "markdown",
   "metadata": {
    "hidden": true
   },
   "source": [
    "- Conceitos novos: Matriz de recomendação, Sistema de recomendação\n",
    "- Prática: Keras - leitura dataset, reindexação, visualização matriz de recomendação\n",
    " * NB: [MovieLens Dataset](MovieLens_dataset.ipynb)"
   ]
  },
  {
   "cell_type": "markdown",
   "metadata": {
    "hidden": true
   },
   "source": [
    "### Embedding - conceitos básicos e utilização no Keras"
   ]
  },
  {
   "cell_type": "markdown",
   "metadata": {
    "hidden": true
   },
   "source": [
    "- Conceitos novos: Embedding\n",
    "- Teoria: Embedding como forma eficiente de entrada categórica\n",
    "- Prática: Keras - usando o Embedding\n",
    "* NB: [Embedding - Introdução](embedding-basics.ipynb)"
   ]
  },
  {
   "cell_type": "markdown",
   "metadata": {
    "hidden": true
   },
   "source": [
    "### Sistema de Recomendação - MovieLens"
   ]
  },
  {
   "cell_type": "markdown",
   "metadata": {
    "hidden": true
   },
   "source": [
    "- Conceitos novos: Modelagem sistema de recomendação, atributo latente\n",
    " * NB: [Sistema de Recomendação](SistemaRecomendacao.ipynb)"
   ]
  },
  {
   "cell_type": "markdown",
   "metadata": {
    "hidden": true
   },
   "source": [
    "## Previsão de vendas com embeddings"
   ]
  },
  {
   "cell_type": "markdown",
   "metadata": {
    "hidden": true
   },
   "source": [
    "- Uso generalizado de embeddings\n",
    "  * NB: [Previsão Vendas - Rossmann - Competição Kaggle](rossmann_sales_prediction_kaggle_embedding.ipynb)"
   ]
  },
  {
   "cell_type": "markdown",
   "metadata": {
    "hidden": true
   },
   "source": [
    "## Classificação de textos"
   ]
  },
  {
   "cell_type": "markdown",
   "metadata": {
    "hidden": true
   },
   "source": [
    "### Classificação de livros brasileiros"
   ]
  },
  {
   "cell_type": "markdown",
   "metadata": {
    "ExecuteTime": {
     "end_time": "2017-06-12T09:50:35.132317",
     "start_time": "2017-06-12T09:50:35.126894"
    },
    "hidden": true
   },
   "source": [
    " - NB: [Livros - Criação do dataset](livros_dataset.ipynb)\n",
    " - NB: [Livros - Identificação de autoria](livros_classif.ipynb)\n",
    " - NB: [Livros - word2vec portugues](livros_word2vec_portuguese.ipynb)\n",
    " - NB: [Livros - Identificação de autoria com word2vec portugues](livros_classif_w2v.ipynb)\n"
   ]
  },
  {
   "cell_type": "markdown",
   "metadata": {
    "hidden": true
   },
   "source": [
    "### Classificação de livros brasileiros - material auxiliar"
   ]
  },
  {
   "cell_type": "markdown",
   "metadata": {
    "hidden": true
   },
   "source": [
    " - NB: [Livros - Preprocessamento](livros_preprocessing.ipynb)\n",
    " - NB: [Livros - Identificação de autoria (aumento  de dados)](livros_classif_augm.ipynb)\n",
    " - NB: [Livros - Uso de um word2vec portugues (aumento de dados)](livros_classif_w2v_augm.ipynb)"
   ]
  },
  {
   "cell_type": "markdown",
   "metadata": {
    "hidden": true
   },
   "source": [
    "### Análise de Sentimento - IMDB"
   ]
  },
  {
   "cell_type": "markdown",
   "metadata": {
    "hidden": true
   },
   "source": [
    "\n",
    "- NB: [Análise de Sentimento](AnaliseSentimento_IMDB.ipynb)"
   ]
  },
  {
   "cell_type": "markdown",
   "metadata": {
    "hidden": true
   },
   "source": [
    "### Classificação de mensagens de newsgroups"
   ]
  },
  {
   "cell_type": "markdown",
   "metadata": {
    "ExecuteTime": {
     "end_time": "2017-06-12T09:41:35.989048",
     "start_time": "2017-06-12T09:41:35.949497"
    },
    "hidden": true
   },
   "source": [
    " - [Newsgroup Classify with Glove](newsgroups_classif_glove.ipynb)"
   ]
  },
  {
   "cell_type": "markdown",
   "metadata": {
    "heading_collapsed": true
   },
   "source": [
    "# V - Redes Neurais Recorrentes"
   ]
  },
  {
   "cell_type": "markdown",
   "metadata": {
    "hidden": true
   },
   "source": [
    "- Uso do SimpleRNN com exemplos numéricos\n",
    " * NB: [SimpleRNN_Numerical](SimpleRNN_Numerical.ipynb)"
   ]
  },
  {
   "cell_type": "markdown",
   "metadata": {
    "hidden": true
   },
   "source": [
    "- Implementação matricial da predição das camadas SimpleRNN, LSTM e GRU como referência\n",
    " * NB: [SimpleRNN-LSTM-GRU NumPy](simplernn_lstm_gru_numpy.ipynb)"
   ]
  },
  {
   "cell_type": "markdown",
   "metadata": {
    "hidden": true
   },
   "source": [
    "- Uso de rede recorrente para classificação de dígitos manuscritos (MNIST)\n",
    "    * NB: [SimpleRNN_MNIST.ipynb](SimpleRNN_MNIST.ipynb)"
   ]
  },
  {
   "cell_type": "markdown",
   "metadata": {
    "heading_collapsed": true
   },
   "source": [
    "# VI - Aplicações"
   ]
  },
  {
   "cell_type": "markdown",
   "metadata": {
    "hidden": true
   },
   "source": [
    "## Detecção de fraude - cartão de crédito"
   ]
  },
  {
   "cell_type": "markdown",
   "metadata": {
    "hidden": true
   },
   "source": [
    " - NB: [Detecção fraude - cartão de crédito (Kaggle)](credit_card_fraud_detection_kaggle.ipynb)"
   ]
  },
  {
   "cell_type": "markdown",
   "metadata": {
    "hidden": true
   },
   "source": [
    "## Face spoofing"
   ]
  },
  {
   "cell_type": "markdown",
   "metadata": {
    "hidden": true
   },
   "source": [
    "- Aplicação usando transfer learning de detecção de ataques em sistemas de reconhecimento de imagens\n",
    " * NB:[Face antispoofing](Face-anti-spoofing-FASNet.ipynb)"
   ]
  },
  {
   "cell_type": "markdown",
   "metadata": {
    "hidden": true
   },
   "source": [
    "## Skull Stripping"
   ]
  },
  {
   "cell_type": "markdown",
   "metadata": {
    "hidden": true
   },
   "source": [
    "- Aplicação de segmentação de imagens cerebrais de ressonância magnética. Retira a parte que \n",
    " * NB: [Skull Stripping 2D](2D-Skull-Stripping.ipynb)\n",
    " * NB: [Skull Stripping 2D Resultados](2D-Skull-Stripping-Resultados.ipynb)"
   ]
  },
  {
   "cell_type": "markdown",
   "metadata": {
    "heading_collapsed": true
   },
   "source": [
    "# Documentação"
   ]
  },
  {
   "cell_type": "markdown",
   "metadata": {
    "hidden": true
   },
   "source": [
    "- [Jupyter Notebook](http://jupyter-notebook.readthedocs.io/en/latest/notebook.html)\n",
    "- [NumPy](https://docs.scipy.org/doc/)\n",
    "- [Matplotlib](https://matplotlib.org/contents.html)\n",
    "- [Keras](https://keras.io/)"
   ]
  },
  {
   "cell_type": "markdown",
   "metadata": {},
   "source": [
    "# Copia"
   ]
  },
  {
   "cell_type": "code",
   "execution_count": 7,
   "metadata": {
    "collapsed": true
   },
   "outputs": [],
   "source": [
    "import os\n",
    "os.makedirs('../../rnap_in_all/src', exist_ok=True)\n",
    "os.makedirs('../../rnap_in_all/deliver', exist_ok=True)\n",
    "os.makedirs('../../rnap_in_all/data', exist_ok=True)\n",
    "os.makedirs('../../rnap_in_all/figures', exist_ok=True)"
   ]
  },
  {
   "cell_type": "code",
   "execution_count": 8,
   "metadata": {
    "ExecuteTime": {
     "end_time": "2017-06-12T22:03:20.621441",
     "start_time": "2017-06-12T22:03:20.489575"
    },
    "collapsed": false
   },
   "outputs": [],
   "source": [
    "%cp ../src/my_keras_utilities.py ../../rnap_in_all/src/"
   ]
  },
  {
   "cell_type": "code",
   "execution_count": 9,
   "metadata": {
    "collapsed": true
   },
   "outputs": [],
   "source": [
    "%cp Git-basico-Git-Classroom.ipynb ../../rnap_in_all/deliver/\n",
    "%cp tutorial-python.ipynb ../../rnap_in_all/deliver/\n",
    "%cp tutorial-numpy.ipynb ../../rnap_in_all/deliver/\n",
    "%cp numpy-reshape-broadcast-reducao.ipynb ../../rnap_in_all/deliver/\n",
    "%cp Glossario.ipynb ../../rnap_in_all/deliver/"
   ]
  },
  {
   "cell_type": "code",
   "execution_count": 10,
   "metadata": {
    "collapsed": true
   },
   "outputs": [],
   "source": [
    "%cp Regressao-Linear.ipynb ../../rnap_in_all/deliver/\n",
    "%cp Regressao-Linear-tensorflow.ipynb ../../rnap_in_all/deliver/\n",
    "%cp softmax.ipynb ../../rnap_in_all/deliver/\n",
    "%cp Regressao-Logistica-Softmax-Iris-2D-matricial.ipynb ../../rnap_in_all/deliver/\n",
    "%cp Regressao-Logistica-Softmax-Iris-2D-matricial-Fronteira-Dinamica.ipynb ../../rnap_in_all/deliver/\n",
    "%cp Regressao-Logistica-Softmax-Iris-2D-Keras.ipynb ../../rnap_in_all/deliver/\n",
    "%cp Regressao-Logistica-Softmax-Iris-2D-Keras-Fronteira-Dinamica.ipynb ../../rnap_in_all/deliver/\n",
    "%cp Regressao-Logistica-Softmax-MNIST-matricial.ipynb ../../rnap_in_all/deliver/\n",
    "%cp Regressao-Logistica-Softmax-MNIST-Keras.ipynb ../../rnap_in_all/deliver/\n",
    "%cp overfitting_regularization.ipynb ../../rnap_in_all/deliver/\n",
    "%cp Activations.ipynb ../../rnap_in_all/deliver/\n",
    "%cp Densas-2.ipynb ../../rnap_in_all/deliver/\n",
    "%cp boston_housing.ipynb ../../rnap_in_all/deliver/\n",
    "%cp neural_networks.ipynb ../../rnap_in_all/deliver/\n",
    "%cp neural_networks_bias.ipynb ../../rnap_in_all/deliver/\n",
    "%cp neural_networks_l2.ipynb ../../rnap_in_all/deliver/\n",
    "%cp Regularization.ipynb ../../rnap_in_all/deliver/\n",
    "%cp neural_networks_tf.ipynb ../../rnap_in_all/deliver/\n",
    "%cp neural-net-mnist.ipynb ../../rnap_in_all/deliver/\n",
    "%cp model_selection.ipynb ../../rnap_in_all/deliver/"
   ]
  },
  {
   "cell_type": "code",
   "execution_count": 11,
   "metadata": {
    "collapsed": false
   },
   "outputs": [],
   "source": [
    "%cp Explorando-Convolucao-no-Keras-usando-TensorFlow.ipynb ../../rnap_in_all/deliver/\n",
    "%cp Introducao-CNN-Keras.ipynb ../../rnap_in_all/deliver/\n",
    "%cp cifar10-CNN-features.ipynb ../../rnap_in_all/deliver/\n",
    "%cp keras-lenet-mnist.ipynb ../../rnap_in_all/deliver/\n",
    "%cp batch_norm_mnist_conv.ipynb ../../rnap_in_all/deliver/\n",
    "%cp batch_norm_mnist_ioffe.ipynb ../../rnap_in_all/deliver/\n",
    "%cp batch_norm_basics.ipynb ../../rnap_in_all/deliver/\n",
    "%cp Models_ResNet50.ipynb ../../rnap_in_all/deliver/\n",
    "%cp Models_InceptionV3.ipynb ../../rnap_in_all/deliver/\n",
    "%cp Models_VGG19.ipynb ../../rnap_in_all/deliver/\n",
    "%cp Keras-optimizers.ipynb ../../rnap_in_all/deliver/\n",
    "%cp FiltrandoRuidoAutoencoder.ipynb ../../rnap_in_all/deliver/\n",
    "%cp fully_convolutional.ipynb ../../rnap_in_all/deliver/\n",
    "%cp fully_convolutional_numerico.ipynb ../../rnap_in_all/deliver/\n",
    "%cp cats-and-dogs-1.ipynb ../../rnap_in_all/deliver/\n",
    "%cp cats-and-dogs-2.ipynb ../../rnap_in_all/deliver/\n",
    "%cp cats-and-dogs-3.ipynb ../../rnap_in_all/deliver/\n",
    "%cp Exercicio_Transf_Conhecimento.ipynb ../../rnap_in_all/deliver/"
   ]
  },
  {
   "cell_type": "code",
   "execution_count": 12,
   "metadata": {
    "collapsed": false
   },
   "outputs": [],
   "source": [
    "%cp MovieLens_dataset.ipynb ../../rnap_in_all/deliver/\n",
    "%cp embedding-basics.ipynb ../../rnap_in_all/deliver/\n",
    "%cp SistemaRecomendacao.ipynb ../../rnap_in_all/deliver/\n",
    "%cp rossmann_sales_prediction_kaggle_embedding.ipynb ../../rnap_in_all/deliver/\n",
    "%cp livros_dataset.ipynb ../../rnap_in_all/deliver/\n",
    "%cp livros_classif.ipynb ../../rnap_in_all/deliver/\n",
    "%cp livros_word2vec_portuguese.ipynb ../../rnap_in_all/deliver/\n",
    "%cp livros_classif_w2v.ipynb ../../rnap_in_all/deliver/\n",
    "%cp livros_preprocessing.ipynb ../../rnap_in_all/deliver/\n",
    "%cp livros_classif_augm.ipynb ../../rnap_in_all/deliver/\n",
    "%cp livros_classif_w2v_augm.ipynb ../../rnap_in_all/deliver/\n",
    "%cp AnaliseSentimento_IMDB.ipynb ../../rnap_in_all/deliver/\n",
    "%cp newsgroups_classif_glove.ipynb ../../rnap_in_all/deliver/"
   ]
  },
  {
   "cell_type": "code",
   "execution_count": 13,
   "metadata": {
    "collapsed": true
   },
   "outputs": [],
   "source": [
    "%cp SimpleRNN_Numerical.ipynb ../../rnap_in_all/deliver/\n",
    "%cp simplernn_lstm_gru_numpy.ipynb ../../rnap_in_all/deliver/\n",
    "%cp SimpleRNN_MNIST.ipynb ../../rnap_in_all/deliver/"
   ]
  },
  {
   "cell_type": "code",
   "execution_count": 14,
   "metadata": {
    "ExecuteTime": {
     "end_time": "2017-06-19T19:35:40.563567",
     "start_time": "2017-06-19T19:35:38.530146"
    },
    "collapsed": false
   },
   "outputs": [],
   "source": [
    "%cp credit_card_fraud_detection_kaggle.ipynb ../../rnap_in_all/deliver/"
   ]
  },
  {
   "cell_type": "code",
   "execution_count": 1,
   "metadata": {
    "ExecuteTime": {
     "end_time": "2017-05-21T17:31:49.662874",
     "start_time": "2017-05-21T17:31:49.659962"
    },
    "collapsed": false
   },
   "outputs": [],
   "source": [
    "# datasets: creditcard.csv, glove.6B.50d.txt, rossmann_train.csv, rossmann_store_states.csv"
   ]
  },
  {
   "cell_type": "code",
   "execution_count": null,
   "metadata": {
    "collapsed": true
   },
   "outputs": [],
   "source": []
  }
 ],
 "metadata": {
  "anaconda-cloud": {},
  "kernelspec": {
   "display_name": "Python 3",
   "language": "python",
   "name": "python3"
  },
  "language_info": {
   "codemirror_mode": {
    "name": "ipython",
    "version": 3
   },
   "file_extension": ".py",
   "mimetype": "text/x-python",
   "name": "python",
   "nbconvert_exporter": "python",
   "pygments_lexer": "ipython3",
   "version": "3.6.0"
  },
  "toc": {
   "colors": {
    "hover_highlight": "#DAA520",
    "running_highlight": "#FF0000",
    "selected_highlight": "#FFD700"
   },
   "moveMenuLeft": true,
   "nav_menu": {
    "height": "512px",
    "width": "252px"
   },
   "navigate_menu": true,
   "number_sections": true,
   "sideBar": true,
   "threshold": 4,
   "toc_cell": false,
   "toc_section_display": "block",
   "toc_window_display": false
  }
 },
 "nbformat": 4,
 "nbformat_minor": 0
}
