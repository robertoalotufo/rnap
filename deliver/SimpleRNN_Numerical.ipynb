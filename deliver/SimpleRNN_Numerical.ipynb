{
 "cells": [
  {
   "cell_type": "markdown",
   "metadata": {},
   "source": [
    "<img src='../figures/RNN_2_3_4_template.png',width=300pt></img>"
   ]
  },
  {
   "cell_type": "markdown",
   "metadata": {},
   "source": [
    "<img src='../figures/RNN_2_3_4.png',width=500pt></img>"
   ]
  },
  {
   "cell_type": "code",
   "execution_count": 1,
   "metadata": {
    "ExecuteTime": {
     "end_time": "2017-06-16T09:32:07.317456",
     "start_time": "2017-06-16T09:32:01.791260"
    },
    "collapsed": false
   },
   "outputs": [
    {
     "name": "stderr",
     "output_type": "stream",
     "text": [
      "Using TensorFlow backend.\n"
     ]
    }
   ],
   "source": [
    "import numpy as np\n",
    "\n",
    "import keras\n",
    "from keras.models import Sequential\n",
    "from keras.layers import SimpleRNN\n",
    "from keras import initializers\n"
   ]
  },
  {
   "cell_type": "code",
   "execution_count": 2,
   "metadata": {
    "ExecuteTime": {
     "end_time": "2017-06-16T09:32:10.719767",
     "start_time": "2017-06-16T09:32:10.713777"
    },
    "collapsed": false
   },
   "outputs": [],
   "source": [
    "batch_size = 1\n",
    "hidden_units = 4\n",
    "\n"
   ]
  },
  {
   "cell_type": "code",
   "execution_count": 21,
   "metadata": {
    "ExecuteTime": {
     "end_time": "2017-06-16T09:38:59.316937",
     "start_time": "2017-06-16T09:38:59.020316"
    },
    "collapsed": false
   },
   "outputs": [
    {
     "name": "stdout",
     "output_type": "stream",
     "text": [
      "_________________________________________________________________\n",
      "Layer (type)                 Output Shape              Param #   \n",
      "=================================================================\n",
      "simple_rnn_6 (SimpleRNN)     (1, 3, 4)                 28        \n",
      "=================================================================\n",
      "Total params: 28\n",
      "Trainable params: 28\n",
      "Non-trainable params: 0\n",
      "_________________________________________________________________\n",
      "None\n"
     ]
    }
   ],
   "source": [
    "model = Sequential()\n",
    "model.add(SimpleRNN(hidden_units,\n",
    "                    #kernel_initializer=initializers.RandomNormal(stddev=0.001),\n",
    "                    recurrent_initializer=initializers.Identity(gain=1.0),\n",
    "                    activation='linear',\n",
    "                    batch_input_shape= (1, 3, 2),\n",
    "                    return_sequences = True,\n",
    "                    stateful = False,\n",
    "                    unroll = True,\n",
    "                    use_bias=True),\n",
    "             )\n",
    "\n",
    "print(model.summary())"
   ]
  },
  {
   "cell_type": "code",
   "execution_count": 22,
   "metadata": {
    "ExecuteTime": {
     "end_time": "2017-06-16T09:39:00.733601",
     "start_time": "2017-06-16T09:39:00.728386"
    },
    "collapsed": false
   },
   "outputs": [
    {
     "data": {
      "text/plain": [
       "False"
      ]
     },
     "execution_count": 22,
     "metadata": {},
     "output_type": "execute_result"
    }
   ],
   "source": [
    "model.layers[0].stateful"
   ]
  },
  {
   "cell_type": "code",
   "execution_count": 23,
   "metadata": {
    "ExecuteTime": {
     "end_time": "2017-06-16T09:39:01.895610",
     "start_time": "2017-06-16T09:39:01.804498"
    },
    "collapsed": false
   },
   "outputs": [],
   "source": [
    "W1_set = np.array([\n",
    "    [ 1., 2.,  3., 4. ],\n",
    "    [ 5,  6.,  7., 8]])\n",
    "W2_set = np.array([\n",
    "    [ 1.,  0.,  0.,  0.],\n",
    "    [ 0.,  1.,  0.,  0.],\n",
    "    [ 0.,  0.,  1.,  0.],\n",
    "    [ 0.,  0.,  0.,  1.]])\n",
    "W3_set = np.array([ 0.1,  0.2,  0.3,  0.4])\n",
    "W_set = [W1_set, W2_set,W3_set]\n",
    "model.set_weights(W_set)"
   ]
  },
  {
   "cell_type": "code",
   "execution_count": 24,
   "metadata": {
    "ExecuteTime": {
     "end_time": "2017-06-16T09:39:02.645614",
     "start_time": "2017-06-16T09:39:02.633081"
    },
    "collapsed": false
   },
   "outputs": [
    {
     "name": "stdout",
     "output_type": "stream",
     "text": [
      "[[ 1.  2.  3.  4.]\n",
      " [ 5.  6.  7.  8.]]\n",
      "[[ 1.  0.  0.  0.]\n",
      " [ 0.  1.  0.  0.]\n",
      " [ 0.  0.  1.  0.]\n",
      " [ 0.  0.  0.  1.]]\n",
      "[ 0.1         0.2         0.30000001  0.40000001]\n"
     ]
    }
   ],
   "source": [
    "W = model.get_weights()\n",
    "#W1: (output,input) Kernel initializer\n",
    "#W2: (output,output) Recurrent initializer\n",
    "#W3: (output,) Bias\n",
    "for Wi in W:\n",
    "    print(Wi)"
   ]
  },
  {
   "cell_type": "code",
   "execution_count": 25,
   "metadata": {
    "ExecuteTime": {
     "end_time": "2017-06-16T09:39:03.417235",
     "start_time": "2017-06-16T09:39:03.381976"
    },
    "collapsed": false
   },
   "outputs": [
    {
     "data": {
      "text/plain": [
       "array([[[ 1.10000002,  2.20000005,  3.29999995,  4.4000001 ],\n",
       "        [ 1.20000005,  2.4000001 ,  3.5999999 ,  4.80000019],\n",
       "        [ 1.30000007,  2.60000014,  3.89999986,  5.20000029]],\n",
       "\n",
       "       [[ 1.10000002,  2.20000005,  3.29999995,  4.4000001 ],\n",
       "        [ 1.20000005,  2.4000001 ,  3.5999999 ,  4.80000019],\n",
       "        [ 1.30000007,  2.60000014,  3.89999986,  5.20000029]]], dtype=float32)"
      ]
     },
     "execution_count": 25,
     "metadata": {},
     "output_type": "execute_result"
    }
   ],
   "source": [
    "x = np.array([[[1,0],[0,0],[0,0]],\n",
    "              [[1,0],[0,0],[0,0]]])\n",
    "y = model.predict(x,batch_size=1)\n",
    "y"
   ]
  },
  {
   "cell_type": "code",
   "execution_count": null,
   "metadata": {
    "collapsed": true
   },
   "outputs": [],
   "source": []
  },
  {
   "cell_type": "markdown",
   "metadata": {},
   "source": [
    "<iframe src=\"https://docs.google.com/forms/d/e/1FAIpQLScvU9jxvImSrQFy0DxV2vJwPGeFZiHquC5x91tdVrMxZJ-vHA/viewform?embedded=true\" width=\"760\" height=\"500\" frameborder=\"0\" marginheight=\"0\" marginwidth=\"0\">Loading...</iframe>\n"
   ]
  },
  {
   "cell_type": "code",
   "execution_count": null,
   "metadata": {
    "collapsed": true
   },
   "outputs": [],
   "source": []
  }
 ],
 "metadata": {
  "kernelspec": {
   "display_name": "Python 3",
   "language": "python",
   "name": "python3"
  },
  "language_info": {
   "codemirror_mode": {
    "name": "ipython",
    "version": 3
   },
   "file_extension": ".py",
   "mimetype": "text/x-python",
   "name": "python",
   "nbconvert_exporter": "python",
   "pygments_lexer": "ipython3",
   "version": "3.6.0"
  },
  "toc": {
   "colors": {
    "hover_highlight": "#DAA520",
    "running_highlight": "#FF0000",
    "selected_highlight": "#FFD700"
   },
   "moveMenuLeft": true,
   "nav_menu": {
    "height": "12px",
    "width": "252px"
   },
   "navigate_menu": true,
   "number_sections": true,
   "sideBar": true,
   "threshold": 4,
   "toc_cell": false,
   "toc_section_display": "block",
   "toc_window_display": false
  }
 },
 "nbformat": 4,
 "nbformat_minor": 2
}
