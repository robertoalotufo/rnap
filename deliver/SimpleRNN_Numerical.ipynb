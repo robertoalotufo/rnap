{
 "cells": [
  {
   "cell_type": "markdown",
   "metadata": {},
   "source": [
    "# Redes Neurais Recorrentes"
   ]
  },
  {
   "cell_type": "markdown",
   "metadata": {},
   "source": [
    "As redes neurais recorrentes são as redes que possuem uma realimentação dos neurônios de saída para a entrada da rede.\n",
    "A figura a seguir mostra uma rede recorrente simples contendo:\n",
    "- 2 entradas\n",
    "- 4 neurônios de saídas\n",
    "- 1 bias"
   ]
  },
  {
   "cell_type": "markdown",
   "metadata": {},
   "source": [
    "<img src='../figures/RNN_2_3_4_template.png',width=300pt></img>"
   ]
  },
  {
   "cell_type": "markdown",
   "metadata": {},
   "source": [
    "Se configurarmos esta rede para processar 3 instantes de tempo (de duas entradas cada), teremos a \n",
    "rede equivalente conforme figura a seguir:"
   ]
  },
  {
   "cell_type": "markdown",
   "metadata": {},
   "source": [
    "<img src='../figures/RNN_2_3_4.png',width=500pt></img>"
   ]
  },
  {
   "cell_type": "markdown",
   "metadata": {},
   "source": [
    "Note entretanto que os parâmetros da rede são os mesmos para cada instante de tempo.\n",
    "O número total de parâmetros que precisam ser treinados nesta rede são:\n",
    "- 2 x 4 = parâmetros da rede de entrada (2 entradas x 4 saídas)\n",
    "- 4 = bias da rede de entrada (um parâmetro para cada saída)\n",
    "- 4 x 4 = parâmetros da rede recorrente (4 entradas x 4 saídas)"
   ]
  },
  {
   "cell_type": "markdown",
   "metadata": {},
   "source": [
    "Este notebook é uma demonstração da construção desta rede utilizando o Keras e valores numérico para poder acompanhar\n",
    "o processamento da rede recorrente."
   ]
  },
  {
   "cell_type": "markdown",
   "metadata": {},
   "source": [
    "## Importação"
   ]
  },
  {
   "cell_type": "markdown",
   "metadata": {},
   "source": [
    "Iremos exercitar o modelo recorrente mais simples do Keras: `SimpleRNN`"
   ]
  },
  {
   "cell_type": "code",
   "execution_count": 2,
   "metadata": {
    "ExecuteTime": {
     "end_time": "2017-06-19T21:48:30.325261",
     "start_time": "2017-06-19T21:48:24.940501"
    },
    "collapsed": false
   },
   "outputs": [
    {
     "name": "stderr",
     "output_type": "stream",
     "text": [
      "Using TensorFlow backend.\n"
     ]
    }
   ],
   "source": [
    "import numpy as np\n",
    "\n",
    "import keras\n",
    "from keras.models import Sequential\n",
    "from keras.layers import SimpleRNN\n",
    "from keras import initializers\n"
   ]
  },
  {
   "cell_type": "code",
   "execution_count": 3,
   "metadata": {
    "ExecuteTime": {
     "end_time": "2017-06-19T21:48:31.314164",
     "start_time": "2017-06-19T21:48:31.309242"
    },
    "collapsed": false
   },
   "outputs": [],
   "source": [
    "batch_size = 1\n",
    "hidden_units = 4"
   ]
  },
  {
   "cell_type": "code",
   "execution_count": 4,
   "metadata": {
    "ExecuteTime": {
     "end_time": "2017-06-19T21:48:32.438567",
     "start_time": "2017-06-19T21:48:32.254081"
    },
    "collapsed": false
   },
   "outputs": [
    {
     "name": "stdout",
     "output_type": "stream",
     "text": [
      "_________________________________________________________________\n",
      "Layer (type)                 Output Shape              Param #   \n",
      "=================================================================\n",
      "simple_rnn_1 (SimpleRNN)     (1, 4)                    28        \n",
      "=================================================================\n",
      "Total params: 28\n",
      "Trainable params: 28\n",
      "Non-trainable params: 0\n",
      "_________________________________________________________________\n",
      "None\n"
     ]
    }
   ],
   "source": [
    "model = Sequential()\n",
    "model.add(SimpleRNN(hidden_units,\n",
    "                    recurrent_initializer=initializers.Identity(gain=1.0),\n",
    "                    activation='linear',\n",
    "                    batch_input_shape= (1, 3, 2),\n",
    "                    #return_sequences = True,\n",
    "                    stateful = False,\n",
    "                    #unroll = True,\n",
    "                    use_bias=True),\n",
    "             )\n",
    "\n",
    "print(model.summary())"
   ]
  },
  {
   "cell_type": "markdown",
   "metadata": {},
   "source": [
    "## Colocando os parâmetros"
   ]
  },
  {
   "cell_type": "markdown",
   "metadata": {},
   "source": [
    "### Pesos da rede de entrada"
   ]
  },
  {
   "cell_type": "code",
   "execution_count": 9,
   "metadata": {
    "ExecuteTime": {
     "end_time": "2017-06-19T21:50:06.206732",
     "start_time": "2017-06-19T21:50:06.203230"
    },
    "collapsed": true
   },
   "outputs": [],
   "source": [
    "W1_set = np.array([\n",
    "    [ 1., 2.,  3., 4. ],\n",
    "    [ 5,  6.,  7., 8]])"
   ]
  },
  {
   "cell_type": "markdown",
   "metadata": {},
   "source": [
    "### Pesos da rede recorrente"
   ]
  },
  {
   "cell_type": "code",
   "execution_count": null,
   "metadata": {
    "collapsed": true
   },
   "outputs": [],
   "source": [
    "W2_set = np.array([\n",
    "    [ 1.,  0.,  0.,  0.],\n",
    "    [ 0.,  1.,  0.,  0.],\n",
    "    [ 0.,  0.,  1.,  0.],\n",
    "    [ 0.,  0.,  0.,  1.]])"
   ]
  },
  {
   "cell_type": "markdown",
   "metadata": {},
   "source": [
    "### Bias"
   ]
  },
  {
   "cell_type": "code",
   "execution_count": null,
   "metadata": {
    "collapsed": true
   },
   "outputs": [],
   "source": [
    "W3_set = np.array([ 0.1,  0.2,  0.3,  0.4])"
   ]
  },
  {
   "cell_type": "code",
   "execution_count": 6,
   "metadata": {
    "ExecuteTime": {
     "end_time": "2017-06-19T21:48:50.090357",
     "start_time": "2017-06-19T21:48:49.962559"
    },
    "collapsed": false
   },
   "outputs": [],
   "source": [
    "W_set = [W1_set, W2_set,W3_set]\n",
    "model.set_weights(W_set)"
   ]
  },
  {
   "cell_type": "code",
   "execution_count": 7,
   "metadata": {
    "ExecuteTime": {
     "end_time": "2017-06-19T21:48:54.260941",
     "start_time": "2017-06-19T21:48:54.247589"
    },
    "collapsed": false
   },
   "outputs": [
    {
     "name": "stdout",
     "output_type": "stream",
     "text": [
      "[[ 1.  2.  3.  4.]\n",
      " [ 5.  6.  7.  8.]]\n",
      "[[ 1.  0.  0.  0.]\n",
      " [ 0.  1.  0.  0.]\n",
      " [ 0.  0.  1.  0.]\n",
      " [ 0.  0.  0.  1.]]\n",
      "[ 0.1         0.2         0.30000001  0.40000001]\n"
     ]
    }
   ],
   "source": [
    "W = model.get_weights()\n",
    "for Wi in W:\n",
    "    print(Wi)"
   ]
  },
  {
   "cell_type": "code",
   "execution_count": 8,
   "metadata": {
    "ExecuteTime": {
     "end_time": "2017-06-19T21:48:58.091111",
     "start_time": "2017-06-19T21:48:58.055551"
    },
    "collapsed": false
   },
   "outputs": [
    {
     "data": {
      "text/plain": [
       "array([[ 1.30000007,  2.60000014,  3.89999986,  5.20000029],\n",
       "       [ 1.30000007,  2.60000014,  3.89999986,  5.20000029]], dtype=float32)"
      ]
     },
     "execution_count": 8,
     "metadata": {},
     "output_type": "execute_result"
    }
   ],
   "source": [
    "x = np.array([[[1,0],[0,0],[0,0]],\n",
    "              [[1,0],[0,0],[0,0]]])\n",
    "y = model.predict(x,batch_size=1)\n",
    "y"
   ]
  },
  {
   "cell_type": "code",
   "execution_count": null,
   "metadata": {
    "collapsed": true
   },
   "outputs": [],
   "source": []
  },
  {
   "cell_type": "markdown",
   "metadata": {},
   "source": [
    "<iframe src=\"https://docs.google.com/forms/d/e/1FAIpQLScvU9jxvImSrQFy0DxV2vJwPGeFZiHquC5x91tdVrMxZJ-vHA/viewform?embedded=true\" width=\"760\" height=\"500\" frameborder=\"0\" marginheight=\"0\" marginwidth=\"0\">Loading...</iframe>\n"
   ]
  },
  {
   "cell_type": "code",
   "execution_count": null,
   "metadata": {
    "collapsed": true
   },
   "outputs": [],
   "source": []
  }
 ],
 "metadata": {
  "kernelspec": {
   "display_name": "Python 3",
   "language": "python",
   "name": "python3"
  },
  "language_info": {
   "codemirror_mode": {
    "name": "ipython",
    "version": 3
   },
   "file_extension": ".py",
   "mimetype": "text/x-python",
   "name": "python",
   "nbconvert_exporter": "python",
   "pygments_lexer": "ipython3",
   "version": "3.6.0"
  },
  "toc": {
   "colors": {
    "hover_highlight": "#DAA520",
    "running_highlight": "#FF0000",
    "selected_highlight": "#FFD700"
   },
   "moveMenuLeft": true,
   "nav_menu": {
    "height": "12px",
    "width": "252px"
   },
   "navigate_menu": true,
   "number_sections": true,
   "sideBar": true,
   "threshold": 4,
   "toc_cell": false,
   "toc_section_display": "block",
   "toc_window_display": false
  }
 },
 "nbformat": 4,
 "nbformat_minor": 2
}
