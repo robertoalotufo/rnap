{
 "cells": [
  {
   "cell_type": "markdown",
   "metadata": {
    "deletable": true,
    "editable": true,
    "toc": "true"
   },
   "source": [
    "# Table of Contents\n",
    " <p><div class=\"lev1 toc-item\"><a href=\"#Pre-trained-word-embeddings\" data-toc-modified-id=\"Pre-trained-word-embeddings-1\"><span class=\"toc-item-num\">1&nbsp;&nbsp;</span>Pre-trained word embeddings</a></div><div class=\"lev2 toc-item\"><a href=\"#Importações\" data-toc-modified-id=\"Importações-11\"><span class=\"toc-item-num\">1.1&nbsp;&nbsp;</span>Importações</a></div><div class=\"lev2 toc-item\"><a href=\"#Training-procedure\" data-toc-modified-id=\"Training-procedure-12\"><span class=\"toc-item-num\">1.2&nbsp;&nbsp;</span>Training procedure</a></div><div class=\"lev2 toc-item\"><a href=\"#Preparação-do-dataset\" data-toc-modified-id=\"Preparação-do-dataset-13\"><span class=\"toc-item-num\">1.3&nbsp;&nbsp;</span>Preparação do dataset</a></div><div class=\"lev2 toc-item\"><a href=\"#Criação-do-modelo\" data-toc-modified-id=\"Criação-do-modelo-14\"><span class=\"toc-item-num\">1.4&nbsp;&nbsp;</span>Criação do modelo</a></div><div class=\"lev2 toc-item\"><a href=\"#Treinamento\" data-toc-modified-id=\"Treinamento-15\"><span class=\"toc-item-num\">1.5&nbsp;&nbsp;</span>Treinamento</a></div><div class=\"lev2 toc-item\"><a href=\"#Avaliação\" data-toc-modified-id=\"Avaliação-16\"><span class=\"toc-item-num\">1.6&nbsp;&nbsp;</span>Avaliação</a></div>"
   ]
  },
  {
   "cell_type": "markdown",
   "metadata": {
    "deletable": true,
    "editable": true
   },
   "source": [
    "# Pre-trained word embeddings"
   ]
  },
  {
   "cell_type": "markdown",
   "metadata": {
    "deletable": true,
    "editable": true
   },
   "source": [
    "## Importações"
   ]
  },
  {
   "cell_type": "code",
   "execution_count": 1,
   "metadata": {
    "collapsed": false,
    "deletable": true,
    "editable": true
   },
   "outputs": [
    {
     "name": "stderr",
     "output_type": "stream",
     "text": [
      "Using TensorFlow backend.\n"
     ]
    }
   ],
   "source": [
    "%matplotlib inline\n",
    "import matplotlib.pyplot as plot\n",
    "from IPython import display\n",
    "from __future__ import print_function\n",
    "\n",
    "import os\n",
    "import sys\n",
    "import numpy as np\n",
    "import numpy.random as nr\n",
    "\n",
    "from keras.preprocessing.text import Tokenizer\n",
    "from keras.preprocessing.sequence import pad_sequences\n",
    "from keras.utils import to_categorical\n",
    "from keras.layers import Dense, Input, Flatten, Dropout\n",
    "from keras.layers import Conv1D, MaxPooling1D, Embedding\n",
    "from keras.models import Model\n",
    "from keras.optimizers import (SGD, \n",
    "                              RMSprop, \n",
    "                              Adam, \n",
    "                              Adadelta, \n",
    "                              Adagrad)\n",
    "\n",
    "sys.path.append('../src')\n",
    "from my_keras_utilities import (get_available_gpus, \n",
    "                                load_model_and_history, \n",
    "                                save_model_and_history, \n",
    "                                TrainingPlotter)\n",
    "\n",
    "import os\n",
    "os.makedirs('../../models',exist_ok=True)"
   ]
  },
  {
   "cell_type": "code",
   "execution_count": 2,
   "metadata": {
    "collapsed": false,
    "deletable": true,
    "editable": true
   },
   "outputs": [
    {
     "name": "stdout",
     "output_type": "stream",
     "text": [
      "Backend:        tensorflow\n",
      "Data format:    channels_last\n",
      "Available GPUS: ['/gpu:0']\n"
     ]
    }
   ],
   "source": [
    "import keras.backend as K\n",
    "\n",
    "# K.set_image_data_format('channels_first')\n",
    "K.set_floatx('float32')\n",
    "\n",
    "print('Backend:        {}'.format(K.backend()))\n",
    "print('Data format:    {}'.format(K.image_data_format()))\n",
    "print('Available GPUS:', get_available_gpus())"
   ]
  },
  {
   "cell_type": "markdown",
   "metadata": {
    "deletable": true,
    "editable": true
   },
   "source": [
    "## Training procedure"
   ]
  },
  {
   "cell_type": "code",
   "execution_count": 3,
   "metadata": {
    "collapsed": false,
    "deletable": true,
    "editable": true
   },
   "outputs": [],
   "source": [
    "class MyCb(TrainingPlotter):\n",
    "    \n",
    "    def on_epoch_end(self, epoch, logs={}):\n",
    "        super().on_epoch_end(epoch, logs)\n",
    "\n",
    "\n",
    "def train_network(model, model_name, X_train, y_train, Xval, yval, \n",
    "                  opt='rmsprop', batch_size=60, nepochs=50000, patience=500, nr_seed=20170522, \n",
    "                  reset=False, ploss=1.0):\n",
    "\n",
    "    do_plot = (ploss > 0.0)\n",
    "    \n",
    "    model_fn = model_name + '.model'\n",
    "    if reset and os.path.isfile(model_fn):\n",
    "        os.unlink(model_name + '.model')\n",
    "        \n",
    "    if not os.path.isfile(model_fn):\n",
    "        # initialize the optimizer and model\n",
    "        print(\"[INFO] compiling model...\")\n",
    "        model.compile(loss=\"categorical_crossentropy\", optimizer=opt, metrics=[\"accuracy\"])    \n",
    "\n",
    "        # History, checkpoint, earlystop, plot losses:\n",
    "        cb = MyCb(n=1, filepath=model_name, patience=patience, plot_losses=do_plot)\n",
    "        \n",
    "    else:\n",
    "        print(\"[INFO] loading model...\")\n",
    "        model, cb = load_model_and_history(model_name)\n",
    "        cb.patience = patience\n",
    "\n",
    "    past_epochs = cb.get_nepochs()\n",
    "    tr_epochs = nepochs - past_epochs\n",
    "    \n",
    "    if do_plot:\n",
    "        vv = 0\n",
    "        fig = plot.figure(figsize=(15,6))\n",
    "        plot.ylim(0.0, ploss)\n",
    "        plot.xlim(0, nepochs)\n",
    "        plot.grid(True)\n",
    "    else:\n",
    "        vv = 2\n",
    "\n",
    "    print(\"[INFO] training for {} epochs...\".format(tr_epochs))\n",
    "    try:\n",
    "        h = model.fit(X_train, y_train, batch_size=60, epochs=tr_epochs, verbose=0, \n",
    "                      validation_data=(Xval, yval), callbacks=[cb])\n",
    "    except KeyboardInterrupt:\n",
    "        pass\n",
    "\n",
    "    return model, cb\n",
    "\n",
    "\n",
    "def test_network(model_name, X_test, y_test):\n",
    "    model, histo = load_model_and_history(model_name)\n",
    "    print('Model from epoch {}'.format(histo.best_epoch))\n",
    "    print(\"[INFO] evaluating in the test data set ...\")\n",
    "    loss, accuracy = model.evaluate(X_test, y_test, batch_size=128, verbose=1)\n",
    "    print(\"\\n[INFO] accuracy on the test data set: {:.2f}% [{:.5f}]\".format(accuracy * 100, loss))\n"
   ]
  },
  {
   "cell_type": "markdown",
   "metadata": {
    "deletable": true,
    "editable": true
   },
   "source": [
    "## Preparação do dataset"
   ]
  },
  {
   "cell_type": "code",
   "execution_count": 18,
   "metadata": {
    "collapsed": true,
    "deletable": true,
    "editable": true
   },
   "outputs": [],
   "source": [
    "BASE_DIR = '../../datasets/'\n",
    "GLOVE_DIR     = BASE_DIR\n",
    "TEXT_DATA_DIR = BASE_DIR + '20_newsgroup/'\n",
    "\n",
    "MAX_SEQUENCE_LENGTH = 500\n",
    "MIN_SEQ_WORDS       = 100\n",
    "MAX_NB_WORDS        = 20000\n",
    "EMBEDDING_DIM       = 100\n",
    "VALIDATION_SPLIT    = 0.2"
   ]
  },
  {
   "cell_type": "code",
   "execution_count": 19,
   "metadata": {
    "collapsed": false,
    "deletable": true,
    "editable": true
   },
   "outputs": [
    {
     "name": "stdout",
     "output_type": "stream",
     "text": [
      "Indexing word vectors.\n",
      "Found 400000 word vectors.\n"
     ]
    }
   ],
   "source": [
    "# first, build index mapping words in the embeddings set\n",
    "# to their embedding vector\n",
    "print('Indexing word vectors.')\n",
    "\n",
    "embeddings_index = {}\n",
    "f = open(os.path.join(GLOVE_DIR, 'glove.6B.100d.txt'), encoding='utf-8')\n",
    "for line in f:\n",
    "    values = line.split()\n",
    "    word = values[0]\n",
    "    coefs = np.asarray(values[1:], dtype='float32')\n",
    "    embeddings_index[word] = coefs\n",
    "f.close()\n",
    "\n",
    "print('Found %s word vectors.' % len(embeddings_index))\n"
   ]
  },
  {
   "cell_type": "code",
   "execution_count": 20,
   "metadata": {
    "collapsed": false,
    "deletable": true,
    "editable": true
   },
   "outputs": [
    {
     "name": "stdout",
     "output_type": "stream",
     "text": [
      "Processing text dataset\n",
      "Found 19997 texts, 20 categories.\n"
     ]
    }
   ],
   "source": [
    "# second, prepare text samples and their labels\n",
    "print('Processing text dataset')\n",
    "\n",
    "texts = []         # list of text samples\n",
    "labels_index = {}  # dictionary mapping label name to numeric id\n",
    "labels = []        # list of label ids\n",
    "\n",
    "for name in sorted(os.listdir(TEXT_DATA_DIR)):\n",
    "    path = os.path.join(TEXT_DATA_DIR, name)\n",
    "    if os.path.isdir(path):\n",
    "        label_id = len(labels_index)\n",
    "        labels_index[name] = label_id\n",
    "        for fname in sorted(os.listdir(path)):\n",
    "            if fname.isdigit():\n",
    "                fpath = os.path.join(path, fname)\n",
    "                if sys.version_info < (3,):\n",
    "                    f = open(fpath)\n",
    "                else:\n",
    "                    f = open(fpath, encoding='latin-1')\n",
    "                t = f.read()\n",
    "                i = t.find('\\n\\n')  # skip header\n",
    "                if 0 < i:\n",
    "                    t = t[i:]\n",
    "                texts.append(t)\n",
    "                labels.append(label_id)\n",
    "                f.close()\n",
    "\n",
    "print('Found {} texts, {} categories.'.format(len(texts), len(labels_index)))"
   ]
  },
  {
   "cell_type": "code",
   "execution_count": 21,
   "metadata": {
    "collapsed": false,
    "deletable": true,
    "editable": true
   },
   "outputs": [
    {
     "name": "stdout",
     "output_type": "stream",
     "text": [
      "Found 174074 unique tokens.\n",
      "Shape of data tensor: (13659, 500)\n",
      "Shape of label tensor: (13659, 20)\n"
     ]
    }
   ],
   "source": [
    "# finally, vectorize the text samples into a 2D integer tensor\n",
    "tokenizer = Tokenizer(num_words=MAX_NB_WORDS)\n",
    "tokenizer.fit_on_texts(texts)\n",
    "sequences = tokenizer.texts_to_sequences(texts)\n",
    "\n",
    "word_index = tokenizer.word_index\n",
    "print('Found {} unique tokens.'.format(len(word_index)))\n",
    "i2w = dict([(v, k) for k, v in word_index.items()])\n",
    "i2w_vec = np.array([i2w[i+1] for i in range(len(i2w))])\n",
    "\n",
    "pruned_sequences = []\n",
    "pruned_labels = []\n",
    "for seq, lab in zip(sequences, labels):\n",
    "    if len(seq) > MIN_SEQ_WORDS:\n",
    "        pruned_sequences.append(seq)\n",
    "        pruned_labels.append(lab)\n",
    "        \n",
    "data = pad_sequences(pruned_sequences, maxlen=MAX_SEQUENCE_LENGTH)\n",
    "targets = to_categorical(np.asarray(pruned_labels))\n",
    "\n",
    "print('Shape of data tensor:', data.shape)\n",
    "print('Shape of label tensor:', targets.shape)"
   ]
  },
  {
   "cell_type": "code",
   "execution_count": 22,
   "metadata": {
    "collapsed": false
   },
   "outputs": [],
   "source": [
    "if 0:\n",
    "    tok2 = Tokenizer(num_words=MAX_NB_WORDS)\n",
    "    texts2 = ['' for x in labels_index]\n",
    "    for txt, lab in zip(texts, labels):\n",
    "        texts2[lab] += txt\n",
    "\n",
    "    tok2.fit_on_texts(texts2)\n",
    "    tfidf = tok2.texts_to_matrix(texts2, mode='tfidf')\n",
    "\n",
    "    ww = np.argsort(tfidf, axis=1)[:, -8:]\n",
    "    for ng, ii in labels_index.items():\n",
    "        tfidf_indexes = ww[ii] - 1\n",
    "        tfidf_words = i2w_vec[tfidf_indexes]\n",
    "        print('{:25s}:  {}'.format(ng, tfidf_words))\n"
   ]
  },
  {
   "cell_type": "code",
   "execution_count": 23,
   "metadata": {
    "collapsed": false,
    "deletable": true,
    "editable": true,
    "scrolled": false
   },
   "outputs": [
    {
     "name": "stdout",
     "output_type": "stream",
     "text": [
      "Seq. length min/max/mean/median: 0 27442 266.008101215 150.0\n",
      "Word indexes min/max: 0 19999\n",
      "\n",
      " 4805: (253) in article 1993apr9 news columbia edu cunixf cc columbia edu robert d castro writes in article netcom com netcom com bob writes cjackson adobe com curtis jackson writes my solution is never to ride next to a car the only thing between you and them is space keep as much as possible take this one step further never in that rear 1 4 of either side of a cage when you pass make it as positive as possible and if you can't pass fully at least make sure that if you attempt it you can make the driver aware of you by at least getting into his area of vision this also applies to merging into another lane after making a pass do it as positively as possible and what i try to do is look in the rear view and then over my shoulder and after i've done that accelerate into the lane so that you have a speed should you have missed seeing a potential bdi that's trying to do the same thing as you or worse ie he may have been behind you saw you made the pass successfully but you aren't going fast enough to suite him so he tries to go around you on the right ride with four eyes rich rich dod prime com 1977 750 triumph 617 275 1800 x 4173 fear not the evil men do in the name of evil but heaven protect us from the evil men do in the name of good\n",
      "\n",
      " 1061: (109) com writes second problem i can't find any graphics program that will open and display these files i have a couple of image conversion programs none mention scf files files with the extension sci and scf are just a raw file with a 256 color palette the first 10 bytes is a kind of header with the name among unknown stuff the you have 768 bytes of palette info 3 256 for the colors rgb and then you have the picture in raw format if you dont know how to make a viewer of of this description you can get it is able to read the files regards thomas\n",
      "\n",
      " 1423: (324) the philadelphia area nextstep user group will be holding a public sneak preview of nextstep for intel processors where david labs room a1 and corner philadelphia pa when wednesday may 5th 7 pm to 9 pm nextstep is the 32 bit unix based operating environment which has until now only been available on motorola based next computers in the may 11th issue of pc magazine called nextstep a hot prospect now next is release of a version of nextstep which will run on 486 based pc's yet is identical to the 68040 version in fact nextstep 3 1 includes the ability to easily compile a program into a single binary which will run on both intel and motorola hardware nextstep 3 1 for intel processors will be demonstrated on an epson progression 486 computer nextstep is scheduled for release on may 25 at expo in san francisco the demonstration will be open to the public come one come all if you are interested in seeing the most advanced pc operating system around come on by for a brief summary of what nextstep offers see the may 11th issue of pc magazine page 66 for more information contact me jonathan the philadelphia area nextstep user group 215 653 jon afs com jonathan w drexel university college of info studies queen mcs drexel edu the experience of programming windows vs the experience of programming nextstep is like going to the dentist and having a root canal without vs going to the dentist and having your cleaned w some oxide thrown in for the entertainment side of things stone co jonathan w drexel university college of info studies queen mcs drexel edu the experience of programming windows vs the experience of programming nextstep is like going to the dentist and having a root canal without vs going to the dentist and having your cleaned w some oxide thrown in for the entertainment side of things stone co\n",
      "\n",
      " 2019: (219) this might be a silly question but i have to ask it anyway i am in the process of purchasing an eisa vl bus 486 dx2 66 computer and i found two places that sell machines that have what i want and have the same price the first is and they use a cache motherboard that's the brand of the motherboard with chip set the other is micron formerly edge technology and they use the micronics eisa vlb motherboard i said that this might be a silly question since i believe that micronics is a very well known motherboard manufacturer while i never heard of cache i am however leaning towards the machine because my impression is that they are known for building good solid machines and they have good tech support 24 hr 7 days wk and a better 2 years micron on the other hand seems to have recently edge technologies and i'm not sure how much i should trust the company i would really appreciate any input on this is the micron machine the clear choice does anyone know anything positive or negative about either company has anyone ever heard of cache motherboards should i go with micron just because it has the micronics motherboard etc thanks very much in advance for any information mohammad al\n",
      "\n",
      " 4918: (113) ritvax isc rit edu writes i get back work today look at me bike before in side i nearly shit my new dry rider cover is gone barely two weeks old and already gone god am somebody stole my trashed old honda red white blue cover off a in residential palo a couple of weeks ago the cover had holes burnt in it around the exhaust etc etc i figured it was just kids but maybe not jet netcom com j eric '92 dod kill you this is my fun account work email goes to jet nas nasa gov you got to put down the if you wanna play skate unix or die\n",
      "\n"
     ]
    },
    {
     "data": {
      "image/png": "[encoded data removed]",
      "text/plain": [
       "<matplotlib.figure.Figure at 0x7fc257a36080>"
      ]
     },
     "metadata": {},
     "output_type": "display_data"
    }
   ],
   "source": [
    "nn = np.array([len(seq) for seq in sequences])\n",
    "print('Seq. length min/max/mean/median:', nn.min(), nn.max(), nn.mean(), np.median(nn))\n",
    "print('Word indexes min/max:', data.min(), data.max(), end='\\n\\n')\n",
    "\n",
    "plot.hist(nn, bins=1000)\n",
    "plot.xlim(0, 1000)\n",
    "\n",
    "for i in nr.randint(5000, size=5):\n",
    "    seq = [x for x in data[i] if x > 0]\n",
    "    print('{:5d}: ({}) {}\\n'.format(i, len(seq), ' '.join([i2w[x] for x in seq if x > 0])))"
   ]
  },
  {
   "cell_type": "code",
   "execution_count": 24,
   "metadata": {
    "collapsed": false,
    "deletable": true,
    "editable": true
   },
   "outputs": [
    {
     "name": "stdout",
     "output_type": "stream",
     "text": [
      "(10928, 500) (10928, 20)\n",
      "(2731, 500) (2731, 20)\n"
     ]
    }
   ],
   "source": [
    "# split the data into a training set and a validation set\n",
    "nr.seed(20170531)\n",
    "indices = np.arange(data.shape[0])\n",
    "nr.shuffle(indices)\n",
    "\n",
    "sh_data = data[indices]\n",
    "sh_targets = targets[indices]\n",
    "\n",
    "num_validation_samples = int(VALIDATION_SPLIT * data.shape[0])\n",
    "\n",
    "x_train = sh_data[:-num_validation_samples]\n",
    "y_train = sh_targets[:-num_validation_samples]\n",
    "x_val = sh_data[-num_validation_samples:]\n",
    "y_val = sh_targets[-num_validation_samples:]\n",
    "\n",
    "print(x_train.shape, y_train.shape)\n",
    "print(x_val.shape, y_val.shape)"
   ]
  },
  {
   "cell_type": "code",
   "execution_count": 25,
   "metadata": {
    "collapsed": false,
    "deletable": true,
    "editable": true
   },
   "outputs": [
    {
     "name": "stdout",
     "output_type": "stream",
     "text": [
      "Preparing embedding matrix: (20000, 100)\n"
     ]
    }
   ],
   "source": [
    "print('Preparing embedding matrix: ', end='')\n",
    "\n",
    "# prepare embedding matrix\n",
    "num_words = min(MAX_NB_WORDS, len(word_index))\n",
    "embedding_matrix = np.zeros((num_words, EMBEDDING_DIM))\n",
    "\n",
    "i2w = dict([(v, k) for k, v in word_index.items()])\n",
    "for i in range(1, MAX_NB_WORDS):\n",
    "    word = i2w[i]\n",
    "    embedding_vector = embeddings_index.get(word)\n",
    "    if embedding_vector is not None:\n",
    "        # words not found in embedding index will be all-zeros.\n",
    "        embedding_matrix[i] = embedding_vector\n",
    "\n",
    "print(embedding_matrix.shape)"
   ]
  },
  {
   "cell_type": "markdown",
   "metadata": {
    "deletable": true,
    "editable": true
   },
   "source": [
    "## Criação do modelo"
   ]
  },
  {
   "cell_type": "code",
   "execution_count": 26,
   "metadata": {
    "collapsed": false,
    "deletable": true,
    "editable": true
   },
   "outputs": [
    {
     "name": "stdout",
     "output_type": "stream",
     "text": [
      "_________________________________________________________________\n",
      "Layer (type)                 Output Shape              Param #   \n",
      "=================================================================\n",
      "input_2 (InputLayer)         (None, 500)               0         \n",
      "_________________________________________________________________\n",
      "embedding_2 (Embedding)      (None, 500, 100)          2000000   \n",
      "_________________________________________________________________\n",
      "conv1d_4 (Conv1D)            (None, 496, 128)          64128     \n",
      "_________________________________________________________________\n",
      "max_pooling1d_4 (MaxPooling1 (None, 99, 128)           0         \n",
      "_________________________________________________________________\n",
      "dropout_5 (Dropout)          (None, 99, 128)           0         \n",
      "_________________________________________________________________\n",
      "conv1d_5 (Conv1D)            (None, 95, 128)           82048     \n",
      "_________________________________________________________________\n",
      "max_pooling1d_5 (MaxPooling1 (None, 47, 128)           0         \n",
      "_________________________________________________________________\n",
      "dropout_6 (Dropout)          (None, 47, 128)           0         \n",
      "_________________________________________________________________\n",
      "conv1d_6 (Conv1D)            (None, 43, 128)           82048     \n",
      "_________________________________________________________________\n",
      "max_pooling1d_6 (MaxPooling1 (None, 21, 128)           0         \n",
      "_________________________________________________________________\n",
      "flatten_2 (Flatten)          (None, 2688)              0         \n",
      "_________________________________________________________________\n",
      "dropout_7 (Dropout)          (None, 2688)              0         \n",
      "_________________________________________________________________\n",
      "dense_3 (Dense)              (None, 128)               344192    \n",
      "_________________________________________________________________\n",
      "dropout_8 (Dropout)          (None, 128)               0         \n",
      "_________________________________________________________________\n",
      "dense_4 (Dense)              (None, 20)                2580      \n",
      "=================================================================\n",
      "Total params: 2,574,996\n",
      "Trainable params: 574,996\n",
      "Non-trainable params: 2,000,000\n",
      "_________________________________________________________________\n"
     ]
    }
   ],
   "source": [
    "model_name = '../../models/word_embeddings_1'\n",
    "\n",
    "def build_net(embedding_matrix=None, input_len=None, trainable=False):\n",
    "    num_words, embedding_dim = embedding_matrix.shape\n",
    "    \n",
    "    seq_input = Input(shape=(input_len,), dtype='int32')\n",
    "    embedding_layer = Embedding(num_words, embedding_dim, weights=[embedding_matrix],\n",
    "                                input_length=input_len, trainable=trainable)(seq_input)\n",
    "\n",
    "    x = Conv1D(128, 5, activation='relu')(embedding_layer)\n",
    "    x = MaxPooling1D(5)(x)\n",
    "\n",
    "    x = Dropout(0.5)(x)\n",
    "    \n",
    "    x = Conv1D(128, 5, activation='relu')(x)\n",
    "    x = MaxPooling1D(2)(x)\n",
    "    \n",
    "    x = Dropout(0.5)(x)\n",
    "    \n",
    "    x = Conv1D(128, 5, activation='relu')(x)\n",
    "    x = MaxPooling1D(2)(x)\n",
    "    \n",
    "    x = Flatten()(x)\n",
    "    \n",
    "    x = Dropout(0.5)(x)\n",
    "    \n",
    "    x = Dense(128, activation='relu')(x)\n",
    "    \n",
    "    x = Dropout(0.5)(x)\n",
    "    \n",
    "    preds = Dense(len(labels_index), activation='softmax')(x)\n",
    "\n",
    "    model = Model(seq_input, preds)\n",
    "    return model\n",
    "\n",
    "model = build_net(embedding_matrix, input_len=MAX_SEQUENCE_LENGTH, trainable=False)\n",
    "model.summary()"
   ]
  },
  {
   "cell_type": "markdown",
   "metadata": {
    "deletable": true,
    "editable": true
   },
   "source": [
    "## Treinamento"
   ]
  },
  {
   "cell_type": "code",
   "execution_count": 27,
   "metadata": {
    "collapsed": false,
    "deletable": true,
    "editable": true,
    "scrolled": false
   },
   "outputs": [
    {
     "data": {
      "image/png": "[encoded data removed]",
      "text/plain": [
       "<matplotlib.figure.Figure at 0x7fc258205908>"
      ]
     },
     "metadata": {},
     "output_type": "display_data"
    }
   ],
   "source": [
    "fit_params = {\n",
    "    'opt':             Adam(0.001),     #SGD(lr=0.01, momentum=0.9, nesterov=True), \n",
    "    'batch_size':      64, \n",
    "    'nepochs':         100, \n",
    "    'patience':        10,\n",
    "    'nr_seed':         20170601,\n",
    "    'ploss':           2.0,\n",
    "    'reset':           True,\n",
    "}\n",
    "\n",
    "model, cb = train_network(model, model_name, x_train, y_train, x_val, y_val, **fit_params);\n"
   ]
  },
  {
   "cell_type": "markdown",
   "metadata": {
    "deletable": true,
    "editable": true
   },
   "source": [
    "## Avaliação"
   ]
  },
  {
   "cell_type": "code",
   "execution_count": 28,
   "metadata": {
    "collapsed": false,
    "deletable": true,
    "editable": true
   },
   "outputs": [
    {
     "name": "stdout",
     "output_type": "stream",
     "text": [
      "Model from epoch 44\n",
      "[INFO] evaluating in the test data set ...\n",
      "2731/2731 [==============================] - 0s     \b\b\b\b\b\b\b\b\b\b\b\b\b\b\b\b\b\b\b\b\b\b\b\b\b\b\b\b\b\b\b\b\b\b\b\b\b\b\b\b\b\b\b\b\b\b\b\b\b\b\b\b\b\b\b\b\b\b\b\b\b\b\b\b\b\b\b\b\b\b\b\b\b\b\b\b\b\b\b\b\b\b\b\b\b\b\b\b\b\b\b\b\b\b\b\b\b\b\b\b\b\b\b\b\b\b\b\b\b\b\b\b\b\b\b\b\b\b\b\b\b\b\b\b\b\b\b\b\b\b\b\b\b\b\b\b\b\b\b\b\b\b\b\b\b\b\b\b\b\b\b\b\b\b\b\b\b\b\b\b\b\b\b\b\b\b\b\b\b\b\b\b\b\b\b\b\b\b\b\b\b\b\b\b\b\b\b\b\b\b\b\b\b\b\b\b\b\b\b\b\b\b\b\b\b\b\b\b\b\b\b\b\b\b\b\b\b\b\b\b\b\b\b\b\b\b\b\b\b\b\b\b\b\b\b\b\b\b\b\b\b\b\b\b\b\b\b\b\b\b\b\b\b\b\b\b\b\b\b\b\b\b\b\b\b\b\b\b\b\b\b\b\b\b\b\b\b\b\b\b\b\b\b\b\b\b\b\b\b\b\b\b\b\b\b\b\b\b\b\b\b\b\b\b\b\b\b\b\b\b\b\b\n",
      "\n",
      "[INFO] accuracy on the test data set: 77.22% [0.68526]\n"
     ]
    }
   ],
   "source": [
    "test_network(model_name, x_val, y_val)"
   ]
  },
  {
   "cell_type": "code",
   "execution_count": null,
   "metadata": {
    "collapsed": true,
    "deletable": true,
    "editable": true
   },
   "outputs": [],
   "source": []
  }
 ],
 "metadata": {
  "kernelspec": {
   "display_name": "Python 3",
   "language": "python",
   "name": "python3"
  },
  "language_info": {
   "codemirror_mode": {
    "name": "ipython",
    "version": 3
   },
   "file_extension": ".py",
   "mimetype": "text/x-python",
   "name": "python",
   "nbconvert_exporter": "python",
   "pygments_lexer": "ipython3",
   "version": "3.4.3"
  },
  "latex_envs": {
   "LaTeX_envs_menu_present": true,
   "autocomplete": true,
   "bibliofile": "biblio.bib",
   "cite_by": "apalike",
   "current_citInitial": 1,
   "eqLabelWithNumbers": true,
   "eqNumInitial": 1,
   "hotkeys": {
    "equation": "Ctrl-E",
    "itemize": "Ctrl-I"
   },
   "labels_anchors": false,
   "latex_user_defs": false,
   "report_style_numbering": false,
   "user_envs_cfg": false
  },
  "toc": {
   "colors": {
    "hover_highlight": "#DAA520",
    "running_highlight": "#FF0000",
    "selected_highlight": "#FFD700"
   },
   "moveMenuLeft": true,
   "nav_menu": {
    "height": "12px",
    "width": "252px"
   },
   "navigate_menu": true,
   "number_sections": true,
   "sideBar": true,
   "threshold": 4,
   "toc_cell": true,
   "toc_section_display": "block",
   "toc_window_display": false,
   "widenNotebook": false
  }
 },
 "nbformat": 4,
 "nbformat_minor": 2
}
