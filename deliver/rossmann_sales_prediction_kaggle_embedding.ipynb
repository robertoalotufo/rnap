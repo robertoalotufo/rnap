{
 "cells": [
  {
   "cell_type": "code",
   "execution_count": 31,
   "metadata": {
    "ExecuteTime": {
     "end_time": "2017-06-19T00:22:24.080725",
     "start_time": "2017-06-19T00:22:19.134926"
    },
    "collapsed": false
   },
   "outputs": [],
   "source": [
    "import pandas as pd\n",
    "import numpy as np\n",
    "\n",
    "import os, sys\n",
    "np.random.seed(42)\n",
    "\n",
    "from keras.models import Model\n",
    "from keras.layers.core import Dense, Activation,Reshape\n",
    "from keras.layers import Input, concatenate\n",
    "from keras.layers.embeddings import Embedding\n",
    "from keras.optimizers import Adam\n",
    "\n",
    "sys.path.append('../src')\n",
    "from my_keras_utilities import (get_available_gpus, \n",
    "                                load_model_and_history, \n",
    "                                save_model_and_history, \n",
    "                                TrainingPlotter)"
   ]
  },
  {
   "cell_type": "markdown",
   "metadata": {},
   "source": [
    "## Funções de apoio ao treinamento"
   ]
  },
  {
   "cell_type": "code",
   "execution_count": 29,
   "metadata": {
    "collapsed": true
   },
   "outputs": [],
   "source": [
    "class MyCb(TrainingPlotter):\n",
    "    \n",
    "    def on_epoch_end(self, epoch, logs={}):\n",
    "        super().on_epoch_end(epoch, logs)\n",
    "\n",
    "\n",
    "def train_network(model, X_train, y_train, Xval, yval, \n",
    "                  model_name = None,\n",
    "                  loss=\"categorical_crossentropy\",\n",
    "                  opt='rmsprop', batch_size=60, nepochs=100, patience=10, nr_seed=20170522, \n",
    "                  shuffle=True,\n",
    "                  reset=False, ploss=1.0):\n",
    "\n",
    "    do_plot = (ploss > 0.0)\n",
    "    \n",
    "    model_fn = model_name + '.model'\n",
    "    if reset and os.path.isfile(model_fn):\n",
    "        os.unlink(model_name + '.model')\n",
    "        \n",
    "    if not os.path.isfile(model_fn):\n",
    "        # initialize the optimizer and model\n",
    "        print(\"[INFO] compiling model...\")\n",
    "        model.compile(loss=loss, optimizer=opt, metrics=[\"accuracy\"])    \n",
    "\n",
    "        # History, checkpoint, earlystop, plot losses:\n",
    "        cb = MyCb(n=1, filepath=model_name, patience=patience, plot_losses=do_plot)\n",
    "        \n",
    "    else:\n",
    "        print(\"[INFO] loading model...\")\n",
    "        model, cb = load_model_and_history(model_name)\n",
    "        cb.patience = patience\n",
    "\n",
    "    past_epochs = cb.get_nepochs()\n",
    "    tr_epochs = nepochs - past_epochs\n",
    "    \n",
    "    if do_plot:\n",
    "        import matplotlib.pyplot as plot\n",
    "        vv = 0\n",
    "        fig = plot.figure(figsize=(15,6))\n",
    "        plot.ylim(0.0, ploss)\n",
    "        plot.xlim(0, nepochs)\n",
    "        plot.grid(True)\n",
    "    else:\n",
    "        vv = 2\n",
    "\n",
    "    print(\"[INFO] training for {} epochs...\".format(tr_epochs))\n",
    "    try:\n",
    "        h = model.fit(X_train, y_train, batch_size=60, epochs=tr_epochs, verbose=0, \n",
    "                      validation_data=(Xval, yval),\n",
    "                      shuffle=shuffle,\n",
    "                      callbacks=[cb])\n",
    "    except KeyboardInterrupt:\n",
    "        pass\n",
    "\n",
    "    return model, cb\n",
    "\n",
    "def test_network(model_name, X_test, y_test):\n",
    "    model, histo = load_model_and_history(model_name)\n",
    "    print('Model from epoch {}'.format(histo.best_epoch))\n",
    "    print(\"[INFO] evaluating in the test data set ...\")\n",
    "    loss, accuracy = model.evaluate(X_test, y_test, batch_size=128, verbose=1)\n",
    "    print(\"\\n[INFO] accuracy on the test data set: {:.2f}% [{:.5f}]\".format(accuracy * 100, loss))\n"
   ]
  },
  {
   "cell_type": "markdown",
   "metadata": {},
   "source": [
    "## Leitura dos arquivos csv e salvando em pickle"
   ]
  },
  {
   "cell_type": "markdown",
   "metadata": {},
   "source": [
    "- [Cheng Guo, Felix Berkhahn, Entity Embeddings of Categorical Variables, arxiv 2016](https://arxiv.org/abs/1604.06737)\n",
    "- Kaggle: https://www.kaggle.com/c/rossmann-store-sales/data\n",
    "    "
   ]
  },
  {
   "cell_type": "code",
   "execution_count": 16,
   "metadata": {
    "ExecuteTime": {
     "end_time": "2017-06-19T00:22:24.094576",
     "start_time": "2017-06-19T00:22:24.085731"
    },
    "collapsed": true
   },
   "outputs": [],
   "source": [
    "datapath = '../../datasets/'\n",
    "train_data_file = datapath + \"rossmann_train.csv\"\n",
    "store_states_file = datapath + 'rossmann_store_states.csv'"
   ]
  },
  {
   "cell_type": "code",
   "execution_count": 17,
   "metadata": {
    "ExecuteTime": {
     "end_time": "2017-06-19T00:22:25.558625",
     "start_time": "2017-06-19T00:22:24.096965"
    },
    "collapsed": false
   },
   "outputs": [
    {
     "name": "stderr",
     "output_type": "stream",
     "text": [
      "/Applications/anaconda3/lib/python3.6/site-packages/IPython/core/interactiveshell.py:2717: DtypeWarning: Columns (7) have mixed types. Specify dtype option on import or set low_memory=False.\n",
      "  interactivity=interactivity, compiler=compiler, result=result)\n"
     ]
    },
    {
     "data": {
      "text/html": [
       "<div>\n",
       "<table border=\"1\" class=\"dataframe\">\n",
       "  <thead>\n",
       "    <tr style=\"text-align: right;\">\n",
       "      <th></th>\n",
       "      <th>Store</th>\n",
       "      <th>DayOfWeek</th>\n",
       "      <th>Date</th>\n",
       "      <th>Sales</th>\n",
       "      <th>Customers</th>\n",
       "      <th>Open</th>\n",
       "      <th>Promo</th>\n",
       "      <th>StateHoliday</th>\n",
       "      <th>SchoolHoliday</th>\n",
       "    </tr>\n",
       "  </thead>\n",
       "  <tbody>\n",
       "    <tr>\n",
       "      <th>0</th>\n",
       "      <td>1</td>\n",
       "      <td>5</td>\n",
       "      <td>2015-07-31</td>\n",
       "      <td>5263</td>\n",
       "      <td>555</td>\n",
       "      <td>1</td>\n",
       "      <td>1</td>\n",
       "      <td>0</td>\n",
       "      <td>1</td>\n",
       "    </tr>\n",
       "    <tr>\n",
       "      <th>1</th>\n",
       "      <td>2</td>\n",
       "      <td>5</td>\n",
       "      <td>2015-07-31</td>\n",
       "      <td>6064</td>\n",
       "      <td>625</td>\n",
       "      <td>1</td>\n",
       "      <td>1</td>\n",
       "      <td>0</td>\n",
       "      <td>1</td>\n",
       "    </tr>\n",
       "    <tr>\n",
       "      <th>2</th>\n",
       "      <td>3</td>\n",
       "      <td>5</td>\n",
       "      <td>2015-07-31</td>\n",
       "      <td>8314</td>\n",
       "      <td>821</td>\n",
       "      <td>1</td>\n",
       "      <td>1</td>\n",
       "      <td>0</td>\n",
       "      <td>1</td>\n",
       "    </tr>\n",
       "    <tr>\n",
       "      <th>3</th>\n",
       "      <td>4</td>\n",
       "      <td>5</td>\n",
       "      <td>2015-07-31</td>\n",
       "      <td>13995</td>\n",
       "      <td>1498</td>\n",
       "      <td>1</td>\n",
       "      <td>1</td>\n",
       "      <td>0</td>\n",
       "      <td>1</td>\n",
       "    </tr>\n",
       "    <tr>\n",
       "      <th>4</th>\n",
       "      <td>5</td>\n",
       "      <td>5</td>\n",
       "      <td>2015-07-31</td>\n",
       "      <td>4822</td>\n",
       "      <td>559</td>\n",
       "      <td>1</td>\n",
       "      <td>1</td>\n",
       "      <td>0</td>\n",
       "      <td>1</td>\n",
       "    </tr>\n",
       "  </tbody>\n",
       "</table>\n",
       "</div>"
      ],
      "text/plain": [
       "   Store  DayOfWeek        Date  Sales  Customers  Open  Promo StateHoliday  \\\n",
       "0      1          5  2015-07-31   5263        555     1      1            0   \n",
       "1      2          5  2015-07-31   6064        625     1      1            0   \n",
       "2      3          5  2015-07-31   8314        821     1      1            0   \n",
       "3      4          5  2015-07-31  13995       1498     1      1            0   \n",
       "4      5          5  2015-07-31   4822        559     1      1            0   \n",
       "\n",
       "   SchoolHoliday  \n",
       "0              1  \n",
       "1              1  \n",
       "2              1  \n",
       "3              1  \n",
       "4              1  "
      ]
     },
     "execution_count": 17,
     "metadata": {},
     "output_type": "execute_result"
    }
   ],
   "source": [
    "train_csv = pd.read_csv(train_data_file)\n",
    "train_csv.head()"
   ]
  },
  {
   "cell_type": "code",
   "execution_count": 18,
   "metadata": {
    "ExecuteTime": {
     "end_time": "2017-06-19T00:22:25.574573",
     "start_time": "2017-06-19T00:22:25.560862"
    },
    "collapsed": false
   },
   "outputs": [
    {
     "data": {
      "text/html": [
       "<div>\n",
       "<table border=\"1\" class=\"dataframe\">\n",
       "  <thead>\n",
       "    <tr style=\"text-align: right;\">\n",
       "      <th></th>\n",
       "      <th>State</th>\n",
       "    </tr>\n",
       "    <tr>\n",
       "      <th>Store</th>\n",
       "      <th></th>\n",
       "    </tr>\n",
       "  </thead>\n",
       "  <tbody>\n",
       "    <tr>\n",
       "      <th>1</th>\n",
       "      <td>HE</td>\n",
       "    </tr>\n",
       "    <tr>\n",
       "      <th>2</th>\n",
       "      <td>TH</td>\n",
       "    </tr>\n",
       "    <tr>\n",
       "      <th>3</th>\n",
       "      <td>NW</td>\n",
       "    </tr>\n",
       "    <tr>\n",
       "      <th>4</th>\n",
       "      <td>BE</td>\n",
       "    </tr>\n",
       "    <tr>\n",
       "      <th>5</th>\n",
       "      <td>SN</td>\n",
       "    </tr>\n",
       "  </tbody>\n",
       "</table>\n",
       "</div>"
      ],
      "text/plain": [
       "      State\n",
       "Store      \n",
       "1        HE\n",
       "2        TH\n",
       "3        NW\n",
       "4        BE\n",
       "5        SN"
      ]
     },
     "execution_count": 18,
     "metadata": {},
     "output_type": "execute_result"
    }
   ],
   "source": [
    "states_csv = pd.read_csv(store_states_file).set_index(['Store'])\n",
    "store_states = states_csv.as_matrix()\n",
    "states_csv.head()"
   ]
  },
  {
   "cell_type": "markdown",
   "metadata": {},
   "source": [
    "## Preparando as features"
   ]
  },
  {
   "cell_type": "code",
   "execution_count": 19,
   "metadata": {
    "ExecuteTime": {
     "end_time": "2017-06-19T00:22:28.076741",
     "start_time": "2017-06-19T00:22:25.577395"
    },
    "collapsed": false
   },
   "outputs": [
    {
     "name": "stdout",
     "output_type": "stream",
     "text": [
      "(1017209, 9)\n",
      "[[1 5 '2015-07-31' 5263 555 1 1 '0' 1]\n",
      " [2 5 '2015-07-31' 6064 625 1 1 '0' 1]\n",
      " [3 5 '2015-07-31' 8314 821 1 1 '0' 1]\n",
      " [4 5 '2015-07-31' 13995 1498 1 1 '0' 1]\n",
      " [5 5 '2015-07-31' 4822 559 1 1 '0' 1]]\n",
      "844338\n",
      "[         1          1          0       2013          0          0\n",
      " 4364656512]\n",
      "[      1115          7          1       2015         11         30\n",
      " 4675812240]\n"
     ]
    }
   ],
   "source": [
    "train_csv_array = train_csv.as_matrix()\n",
    "print(train_csv_array.shape)\n",
    "print(train_csv_array[:5])\n",
    "open_i = (train_csv_array[:,5]==1) & (train_csv_array[:,3] > 0)\n",
    "\n",
    "train_open = train_csv_array[open_i]\n",
    "n_samples = train_open.shape[0]\n",
    "print(n_samples)\n",
    "dt = np.array(train_open[:,2].astype('datetime64[D]'))\n",
    "day = dt - dt.astype('datetime64[M]')\n",
    "month = dt.astype('datetime64[M]').astype(np.int) % 12\n",
    "year = dt.astype('datetime64[Y]').astype(int) + 1970\n",
    "\n",
    "train_Xnew = np.empty((n_samples,7),dtype=np.int)\n",
    "store_index = train_csv_array[open_i,0].astype(np.int) # store_index\n",
    "train_Xnew[:,0] = store_index\n",
    "train_Xnew[:,1] = train_csv_array[open_i,1] # day_of_week\n",
    "train_Xnew[:,2] = train_csv_array[open_i,6] # promo\n",
    "train_Xnew[:,3] = year # year\n",
    "train_Xnew[:,4] = month # month\n",
    "train_Xnew[:,5] = day # day\n",
    "for i in np.arange(n_samples):\n",
    "    train_Xnew[i,6] = id(sys.intern(store_states[store_index[i] - 1,0])) # coloca string do Estado com número único\n",
    "\n",
    "train_data_y = train_csv_array[open_i,3].astype(np.int) # Sales\n",
    "\n",
    "print(train_Xnew.min(axis=0))\n",
    "print(train_Xnew.max(axis=0))"
   ]
  },
  {
   "cell_type": "markdown",
   "metadata": {},
   "source": [
    "### Normalização dos atributos categóricos"
   ]
  },
  {
   "cell_type": "code",
   "execution_count": 20,
   "metadata": {
    "ExecuteTime": {
     "end_time": "2017-06-19T00:22:28.764137",
     "start_time": "2017-06-19T00:22:28.080139"
    },
    "collapsed": false
   },
   "outputs": [],
   "source": [
    "X_norm = np.empty_like(train_Xnew)\n",
    "for i in range(X_norm.shape[1]): # para cada coluna (atributo)\n",
    "    classes, i_norm = np.unique(train_Xnew[:,i], return_inverse=True)\n",
    "    X_norm[:,i] = i_norm"
   ]
  },
  {
   "cell_type": "code",
   "execution_count": 21,
   "metadata": {
    "ExecuteTime": {
     "end_time": "2017-06-19T00:22:28.829879",
     "start_time": "2017-06-19T00:22:28.768018"
    },
    "collapsed": false
   },
   "outputs": [
    {
     "name": "stdout",
     "output_type": "stream",
     "text": [
      "[0 0 0 0 0 0 0]\n",
      "[1114    6    1    2   11   30   11]\n"
     ]
    }
   ],
   "source": [
    "print(X_norm.min(axis=0))\n",
    "print(X_norm.max(axis=0))"
   ]
  },
  {
   "cell_type": "code",
   "execution_count": 22,
   "metadata": {
    "ExecuteTime": {
     "end_time": "2017-06-19T00:22:28.908954",
     "start_time": "2017-06-19T00:22:28.843268"
    },
    "collapsed": false
   },
   "outputs": [
    {
     "name": "stdout",
     "output_type": "stream",
     "text": [
      "[0 0 0 0 0 0 0]\n",
      "[1114    6    1    2   11   30   11]\n"
     ]
    }
   ],
   "source": [
    "train_data_X = X_norm\n",
    "train_data_y = np.array(train_data_y)\n",
    "print(train_data_X.min(axis=0))\n",
    "print(train_data_X.max(axis=0))"
   ]
  },
  {
   "cell_type": "markdown",
   "metadata": {},
   "source": [
    "## Modelo"
   ]
  },
  {
   "cell_type": "markdown",
   "metadata": {},
   "source": [
    "## Carregando os dados"
   ]
  },
  {
   "cell_type": "code",
   "execution_count": 23,
   "metadata": {
    "ExecuteTime": {
     "end_time": "2017-06-19T00:22:28.915781",
     "start_time": "2017-06-19T00:22:28.912035"
    },
    "collapsed": false
   },
   "outputs": [],
   "source": [
    "(X, y) = (train_data_X, train_data_y)\n",
    "\n"
   ]
  },
  {
   "cell_type": "markdown",
   "metadata": {},
   "source": [
    "## Normalizando os valores de vendas"
   ]
  },
  {
   "cell_type": "markdown",
   "metadata": {},
   "source": [
    "$$ Sales_n = \\frac{\\log{(Sales)}}{Max(\\log(Sales))} $$\n",
    "$$ Sales = \\exp(Sales_n Max(\\log(Sales))) $$"
   ]
  },
  {
   "cell_type": "code",
   "execution_count": 24,
   "metadata": {
    "ExecuteTime": {
     "end_time": "2017-06-19T00:22:28.993111",
     "start_time": "2017-06-19T00:22:28.922932"
    },
    "collapsed": false
   },
   "outputs": [],
   "source": [
    "class log_norm():\n",
    "    def __init__(self,y):\n",
    "        self.MaxLog = np.log(y).max()\n",
    "        \n",
    "    def lognorm(self, val):\n",
    "        return np.log(val)/self.MaxLog\n",
    "    \n",
    "    def lognorm_back(self, val):\n",
    "        return np.exp(val * self.MaxLog)\n",
    "\n",
    "classnorm = log_norm(y)\n",
    "y_norm = classnorm.lognorm(y)\n",
    "y_back = classnorm.lognorm_back(y_norm)\n"
   ]
  },
  {
   "cell_type": "markdown",
   "metadata": {},
   "source": [
    "## Dividindo em Dados de treinamento e de validação"
   ]
  },
  {
   "cell_type": "code",
   "execution_count": 25,
   "metadata": {
    "ExecuteTime": {
     "end_time": "2017-06-19T00:22:29.026185",
     "start_time": "2017-06-19T00:22:28.999901"
    },
    "collapsed": false
   },
   "outputs": [
    {
     "name": "stdout",
     "output_type": "stream",
     "text": [
      "Shapes: (759904, 7) (759904,) (84434, 7) (84434,)\n",
      "X_train[:2]\n",
      " [[ 0  4  1  2  6 30  0]\n",
      " [ 1  4  1  2  6 30  1]]\n",
      "y_train[:2]\n",
      " [ 0.80570915  0.81903052]\n"
     ]
    }
   ],
   "source": [
    "num_records = len(X)\n",
    "train_ratio = 0.9\n",
    "train_size = int(train_ratio * num_records)\n",
    "\n",
    "X_train = X[:train_size]\n",
    "X_val   = X[train_size:]\n",
    "y_train = y_norm[:train_size]\n",
    "y_val   = y_norm[train_size:]\n",
    "print('Shapes:',X_train.shape,y_train.shape,X_val.shape,y_val.shape)\n",
    "print('X_train[:2]\\n',X_train[:2])\n",
    "print('y_train[:2]\\n',y_train[:2])"
   ]
  },
  {
   "cell_type": "code",
   "execution_count": 26,
   "metadata": {
    "ExecuteTime": {
     "end_time": "2017-06-19T00:22:29.104410",
     "start_time": "2017-06-19T00:22:29.030718"
    },
    "collapsed": false
   },
   "outputs": [
    {
     "name": "stdout",
     "output_type": "stream",
     "text": [
      "Number of samples used for training:  200000\n"
     ]
    }
   ],
   "source": [
    "def sample(X, y, n):\n",
    "    '''random samples'''\n",
    "    num_row = X.shape[0]\n",
    "    indices = np.random.randint(num_row, size=n)\n",
    "    return X[indices, :], y[indices]\n",
    "\n",
    "X_train, y_train = sample(X_train, y_train, 200000)  # Simulate data sparsity\n",
    "print(\"Number of samples used for training: \",y_train.shape[0])"
   ]
  },
  {
   "cell_type": "markdown",
   "metadata": {},
   "source": [
    "## Criando o modelo"
   ]
  },
  {
   "cell_type": "markdown",
   "metadata": {},
   "source": [
    "### Modelo com vários embeddings"
   ]
  },
  {
   "cell_type": "markdown",
   "metadata": {
    "ExecuteTime": {
     "end_time": "2017-06-18T10:52:54.761097",
     "start_time": "2017-06-18T10:52:54.744288"
    }
   },
   "source": [
    "\n",
    "|Característica|tipo do dado|tamanho|dimensão embedding|\n",
    "|--------------|------------|-------|------------------|\n",
    "| store      | nominal| 1115|10|\n",
    "| day of week| ordinal| 7| 6|\n",
    "|promoção| binário | 2|1|\n",
    "| ano| ordinal| 3 (2013-2015)|2|\n",
    "| mês| ordinal| 12| 6|\n",
    "| dia| ordinal| 31| 10|\n",
    "| Estado|nominal| 12| 6|\n",
    " \n"
   ]
  },
  {
   "cell_type": "code",
   "execution_count": 27,
   "metadata": {
    "ExecuteTime": {
     "end_time": "2017-06-19T00:22:29.577334",
     "start_time": "2017-06-19T00:22:29.120657"
    },
    "collapsed": false
   },
   "outputs": [
    {
     "name": "stdout",
     "output_type": "stream",
     "text": [
      "____________________________________________________________________________________________________\n",
      "Layer (type)                     Output Shape          Param #     Connected to                     \n",
      "====================================================================================================\n",
      "store_in (InputLayer)            (None, 1)             0                                            \n",
      "____________________________________________________________________________________________________\n",
      "down_in (InputLayer)             (None, 1)             0                                            \n",
      "____________________________________________________________________________________________________\n",
      "year_in (InputLayer)             (None, 1)             0                                            \n",
      "____________________________________________________________________________________________________\n",
      "month_in (InputLayer)            (None, 1)             0                                            \n",
      "____________________________________________________________________________________________________\n",
      "day_in (InputLayer)              (None, 1)             0                                            \n",
      "____________________________________________________________________________________________________\n",
      "germanstate_in (InputLayer)      (None, 1)             0                                            \n",
      "____________________________________________________________________________________________________\n",
      "store_embedding (Embedding)      (None, 1, 10)         11150                                        \n",
      "____________________________________________________________________________________________________\n",
      "dow_embedding (Embedding)        (None, 1, 6)          42                                           \n",
      "____________________________________________________________________________________________________\n",
      "promo_in (InputLayer)            (None, 1)             0                                            \n",
      "____________________________________________________________________________________________________\n",
      "year_embedding (Embedding)       (None, 1, 2)          6                                            \n",
      "____________________________________________________________________________________________________\n",
      "month_embedding (Embedding)      (None, 1, 6)          72                                           \n",
      "____________________________________________________________________________________________________\n",
      "day_embedding (Embedding)        (None, 1, 10)         310                                          \n",
      "____________________________________________________________________________________________________\n",
      "germanstate_embedding (Embedding (None, 1, 6)          72                                           \n",
      "____________________________________________________________________________________________________\n",
      "store_reshape (Reshape)          (None, 10)            0                                            \n",
      "____________________________________________________________________________________________________\n",
      "dow_reshape (Reshape)            (None, 6)             0                                            \n",
      "____________________________________________________________________________________________________\n",
      "dense_5 (Dense)                  (None, 1)             2                                            \n",
      "____________________________________________________________________________________________________\n",
      "reshape_5 (Reshape)              (None, 2)             0                                            \n",
      "____________________________________________________________________________________________________\n",
      "reshape_6 (Reshape)              (None, 6)             0                                            \n",
      "____________________________________________________________________________________________________\n",
      "reshape_7 (Reshape)              (None, 10)            0                                            \n",
      "____________________________________________________________________________________________________\n",
      "reshape_8 (Reshape)              (None, 6)             0                                            \n",
      "____________________________________________________________________________________________________\n",
      "concatenate_2 (Concatenate)      (None, 41)            0                                            \n",
      "____________________________________________________________________________________________________\n",
      "dense_6 (Dense)                  (None, 1000)          42000                                        \n",
      "____________________________________________________________________________________________________\n",
      "dense_7 (Dense)                  (None, 500)           500500                                       \n",
      "____________________________________________________________________________________________________\n",
      "dense_8 (Dense)                  (None, 1)             501                                          \n",
      "====================================================================================================\n",
      "Total params: 554,655\n",
      "Trainable params: 554,655\n",
      "Non-trainable params: 0\n",
      "____________________________________________________________________________________________________\n",
      "None\n"
     ]
    }
   ],
   "source": [
    "def build_keras_model():\n",
    "    store_in = Input(shape=(1,), dtype='int64', name='store_in')\n",
    "    x = Embedding(1115, 10, input_length=1, name='store_embedding')(store_in)\n",
    "    store_emb = Reshape(target_shape=(10,), name='store_reshape')(x)\n",
    "\n",
    "    dow_in = Input(shape=(1,), dtype='int64', name='down_in')\n",
    "    x = Embedding(7, 6, input_length=1, name='dow_embedding')(dow_in)\n",
    "    dow_emb = Reshape(target_shape=(6,), name='dow_reshape')(x)\n",
    "\n",
    "    promo_in = Input(shape=(1,), name='promo_in')\n",
    "    promo_out = Dense(1, input_dim=1)(promo_in)\n",
    "\n",
    "    year_in = Input(shape=(1,), dtype='int64', name='year_in')\n",
    "    x = Embedding(3, 2, input_length=1, name='year_embedding')(year_in)\n",
    "    year_emb = Reshape(target_shape=(2,))(x)\n",
    "\n",
    "    month_in = Input(shape=(1,), dtype='int64', name='month_in')\n",
    "    x = Embedding(12, 6, input_length=1, name='month_embedding')(month_in)\n",
    "    month_emb = Reshape(target_shape=(6,))(x)\n",
    "\n",
    "    day_in = Input(shape=(1,), dtype='int64', name='day_in')\n",
    "    x = Embedding(31, 10, input_length=1, name='day_embedding')(day_in)\n",
    "    day_emb = Reshape(target_shape=(10,))(x)\n",
    "\n",
    "    germanstate_in = Input(shape=(1,), dtype='int64', name='germanstate_in')\n",
    "    x = Embedding(12, 6, input_length=1, name='germanstate_embedding')(germanstate_in)\n",
    "    germanstate_emb = Reshape(target_shape=(6,))(x)\n",
    "\n",
    "    xin = concatenate([store_emb, dow_emb, promo_out, year_emb, month_emb, day_emb, germanstate_emb])\n",
    "    x = Dense(1000, kernel_initializer='uniform', activation='relu')(xin)\n",
    "    x = Dense(500, kernel_initializer='uniform', activation='relu')(x)\n",
    "    x_out = Dense(1, activation='sigmoid')(x)\n",
    "    \n",
    "    return Model([store_in,dow_in,promo_in,year_in,month_in,day_in,germanstate_in], x_out)\n",
    "\n",
    "model_rs = build_keras_model()\n",
    "print(model_rs.summary())"
   ]
  },
  {
   "cell_type": "markdown",
   "metadata": {},
   "source": [
    "### Treinando"
   ]
  },
  {
   "cell_type": "code",
   "execution_count": 28,
   "metadata": {
    "ExecuteTime": {
     "end_time": "2017-06-19T00:22:29.639761",
     "start_time": "2017-06-19T00:22:29.584949"
    },
    "collapsed": false
   },
   "outputs": [
    {
     "name": "stdout",
     "output_type": "stream",
     "text": [
      "(200000, 7) (84434, 7)\n",
      "Número de promoções (sem promoção, com promoção): [66745 81655 51600]\n"
     ]
    }
   ],
   "source": [
    "def split_features(X):\n",
    "    store_index = X[..., [0]]\n",
    "    day_of_week = X[..., [1]]\n",
    "    promo = X[..., [2]]\n",
    "    year = X[..., [3]]\n",
    "    month = X[..., [4]]\n",
    "    day = X[..., [5]]\n",
    "    State = X[..., [6]]\n",
    "    return [store_index,day_of_week,promo,year,month,day,State]\n",
    " \n",
    "X_train_p = split_features(X_train)\n",
    "X_val_p = split_features(X_val)\n",
    "print(X_train.shape, X_val.shape)\n",
    "print('Número de promoções (sem promoção, com promoção):',np.bincount(X_train[:,3]))"
   ]
  },
  {
   "cell_type": "code",
   "execution_count": 33,
   "metadata": {
    "collapsed": false
   },
   "outputs": [
    {
     "data": {
      "image/png": "[encoded data removed]",
      "text/plain": [
       "<matplotlib.figure.Figure at 0x119a19a90>"
      ]
     },
     "metadata": {},
     "output_type": "display_data"
    }
   ],
   "source": [
    "model_name = '../../models/rossmann'\n",
    "fit_params = {\n",
    "    'model_name': model_name,\n",
    "    'loss': 'mean_absolute_error',\n",
    "    'opt':        Adam(), \n",
    "    'batch_size': 128, \n",
    "    'nepochs':    5,\n",
    "    'patience':   15,\n",
    "    'ploss':      0.015,\n",
    "    'shuffle':    False,\n",
    "    'reset':      False,\n",
    "}\n",
    "\n",
    "train_network(model_rs, X_train_p, y_train, X_val_p, y_val, **fit_params);"
   ]
  },
  {
   "cell_type": "markdown",
   "metadata": {},
   "source": [
    "## Avaliando o modelo"
   ]
  },
  {
   "cell_type": "code",
   "execution_count": 34,
   "metadata": {
    "ExecuteTime": {
     "end_time": "2017-06-19T00:23:29.069886",
     "start_time": "2017-06-19T00:23:29.066006"
    },
    "collapsed": true
   },
   "outputs": [],
   "source": [
    "def guess(model,features):\n",
    "    features = split_features(features)\n",
    "    result = model.predict(features).flatten()\n",
    "    return result"
   ]
  },
  {
   "cell_type": "code",
   "execution_count": 35,
   "metadata": {
    "ExecuteTime": {
     "end_time": "2017-06-19T00:23:56.237968",
     "start_time": "2017-06-19T00:23:29.072044"
    },
    "collapsed": false
   },
   "outputs": [
    {
     "name": "stdout",
     "output_type": "stream",
     "text": [
      "Evaluate combined models...\n",
      "Training error...\n",
      "0.0800144725026\n",
      "Validation error...\n",
      "0.135739905436\n"
     ]
    }
   ],
   "source": [
    "def evaluate_model(model, X, y):\n",
    "    assert(min(y) > 0)\n",
    "    guessed_sales = np.array([guess(model,X)])\n",
    "    mean_sales = guessed_sales.mean(axis=0)\n",
    "    mean_sales_back = classnorm.lognorm_back(mean_sales)\n",
    "    y_back = classnorm.lognorm_back(y)\n",
    "    relative_err = np.absolute((y_back - mean_sales_back) / y_back)\n",
    "    result = np.sum(relative_err) / len(y_back)\n",
    "    return result\n",
    "\n",
    "model_rs, histo = load_model_and_history(model_name)\n",
    "\n",
    "print(\"Evaluate combined models...\")\n",
    "print(\"Training error...\")\n",
    "r_train = evaluate_model(model_rs, X_train, y_train)\n",
    "print(r_train)\n",
    "\n",
    "print(\"Validation error...\")\n",
    "r_val = evaluate_model(model_rs, X_val, y_val)\n",
    "print(r_val)"
   ]
  },
  {
   "cell_type": "markdown",
   "metadata": {
    "collapsed": true
   },
   "source": [
    "Vencedor da competição no Kaggle obteve 0.10021 [https://www.kaggle.com/c/rossmann-store-sales/leaderboard](https://www.kaggle.com/c/rossmann-store-sales/leaderboard)"
   ]
  },
  {
   "cell_type": "code",
   "execution_count": null,
   "metadata": {
    "collapsed": true
   },
   "outputs": [],
   "source": []
  }
 ],
 "metadata": {
  "kernelspec": {
   "display_name": "Python 3",
   "language": "python",
   "name": "python3"
  },
  "language_info": {
   "codemirror_mode": {
    "name": "ipython",
    "version": 3
   },
   "file_extension": ".py",
   "mimetype": "text/x-python",
   "name": "python",
   "nbconvert_exporter": "python",
   "pygments_lexer": "ipython3",
   "version": "3.6.0"
  },
  "toc": {
   "colors": {
    "hover_highlight": "#DAA520",
    "running_highlight": "#FF0000",
    "selected_highlight": "#FFD700"
   },
   "moveMenuLeft": true,
   "nav_menu": {
    "height": "226px",
    "width": "252px"
   },
   "navigate_menu": true,
   "number_sections": true,
   "sideBar": true,
   "threshold": 4,
   "toc_cell": false,
   "toc_section_display": "block",
   "toc_window_display": false
  }
 },
 "nbformat": 4,
 "nbformat_minor": 2
}
