{
 "cells": [
  {
   "cell_type": "markdown",
   "metadata": {
    "deletable": true,
    "editable": true
   },
   "source": [
    "# Previsão de vendas - lojas Rossmann - Competição Kaggle"
   ]
  },
  {
   "cell_type": "markdown",
   "metadata": {
    "deletable": true,
    "editable": true
   },
   "source": [
    "Este notebook é baseado na solução indicada pela equipe que ficou em terceiro lugar na\n",
    "Competição Kaggle - Lojas Rossmann feita em 2015 com premiação de US$ 35 mil:\n",
    "- Kaggle: https://www.kaggle.com/c/rossmann-store-sales/data\n",
    "\n",
    "Os autores utilizaram Embedding de entidades e fizeram sua solução utilizando o Keras.\n",
    "\n",
    "Eles compararam a solução deles com as outras e emitiram a seguinte opinião:\n",
    "https://www.kaggle.com/c/rossmann-store-sales/discussion/17974\n",
    "\n",
    "Eles escreveram o seguinte artigo que faz uma comparação de várias soluções, utilizando:\n",
    " - Random Forest, \n",
    " - KNN,\n",
    " - Gradiente boosting; e \n",
    " - Redes Neurais:\n",
    "\n",
    "- [Cheng Guo, Felix Berkhahn, Entity Embeddings of Categorical Variables, arxiv 2016](https://arxiv.org/abs/1604.06737)\n",
    "\n",
    "A implementação a seguir é baseada no artigo e na solução deles publicada no github:\n",
    " - https://github.com/entron/entity-embedding-rossmann"
   ]
  },
  {
   "cell_type": "markdown",
   "metadata": {
    "deletable": true,
    "editable": true
   },
   "source": [
    "## Importação dos pacotes"
   ]
  },
  {
   "cell_type": "code",
   "execution_count": 34,
   "metadata": {
    "ExecuteTime": {
     "end_time": "2017-06-26T20:06:10.137273",
     "start_time": "2017-06-26T20:06:10.114722"
    },
    "collapsed": false,
    "deletable": true,
    "editable": true
   },
   "outputs": [],
   "source": [
    "%matplotlib inline\n",
    "import pandas as pd\n",
    "import numpy as np\n",
    "\n",
    "import os, sys\n",
    "np.random.seed(42)\n",
    "\n",
    "from keras.models import Model\n",
    "from keras.layers.core import Dense, Activation, Dropout\n",
    "from keras.layers import Input, concatenate, Flatten, BatchNormalization\n",
    "from keras.layers.embeddings import Embedding\n",
    "from keras.optimizers import Adam\n",
    "\n",
    "sys.path.append('../src')\n",
    "from my_keras_utilities import (get_available_gpus, \n",
    "                                load_model_and_history, \n",
    "                                save_model_and_history, \n",
    "                                TrainingPlotter)"
   ]
  },
  {
   "cell_type": "markdown",
   "metadata": {
    "deletable": true,
    "editable": true
   },
   "source": [
    "## Funções de apoio ao treinamento"
   ]
  },
  {
   "cell_type": "code",
   "execution_count": 2,
   "metadata": {
    "ExecuteTime": {
     "end_time": "2017-06-26T20:05:30.538684",
     "start_time": "2017-06-26T20:05:30.460590"
    },
    "collapsed": true,
    "deletable": true,
    "editable": true
   },
   "outputs": [],
   "source": [
    "class MyCb(TrainingPlotter):\n",
    "    \n",
    "    def on_epoch_end(self, epoch, logs={}):\n",
    "        super().on_epoch_end(epoch, logs)\n",
    "\n",
    "\n",
    "def train_network(model, X_train, y_train, Xval, yval, \n",
    "                  model_name = None,\n",
    "                  loss=\"categorical_crossentropy\",\n",
    "                  opt='rmsprop', batch_size=60, nepochs=100, patience=10, nr_seed=20170522, \n",
    "                  shuffle=True,\n",
    "                  reset=False, ploss=1.0):\n",
    "\n",
    "    do_plot = (ploss > 0.0)\n",
    "    \n",
    "    model_fn = model_name + '.model'\n",
    "    if reset and os.path.isfile(model_fn):\n",
    "        os.unlink(model_name + '.model')\n",
    "        \n",
    "    if not os.path.isfile(model_fn):\n",
    "        # initialize the optimizer and model\n",
    "        print(\"[INFO] compiling model...\")\n",
    "        model.compile(loss=loss, optimizer=opt, metrics=[\"accuracy\"])    \n",
    "\n",
    "        # History, checkpoint, earlystop, plot losses:\n",
    "        cb = MyCb(n=1, filepath=model_name, patience=patience, plot_losses=do_plot)\n",
    "        \n",
    "    else:\n",
    "        print(\"[INFO] loading model...\")\n",
    "        model, cb = load_model_and_history(model_name)\n",
    "        cb.patience = patience\n",
    "\n",
    "    past_epochs = cb.get_nepochs()\n",
    "    tr_epochs = nepochs - past_epochs\n",
    "    \n",
    "    if do_plot:\n",
    "        import matplotlib.pyplot as plot\n",
    "        vv = 0\n",
    "        fig = plot.figure(figsize=(15,6))\n",
    "        plot.ylim(0.0, ploss)\n",
    "        plot.xlim(0, nepochs)\n",
    "        plot.grid(True)\n",
    "    else:\n",
    "        vv = 2\n",
    "\n",
    "    print(\"[INFO] training for {} epochs...\".format(tr_epochs))\n",
    "    try:\n",
    "        h = model.fit(X_train, y_train, batch_size=60, epochs=tr_epochs, verbose=0, \n",
    "                      validation_data=(Xval, yval),\n",
    "                      shuffle=shuffle,\n",
    "                      callbacks=[cb])\n",
    "    except KeyboardInterrupt:\n",
    "        pass\n",
    "\n",
    "    return model, cb\n",
    "\n",
    "def test_network(model_name, X_test, y_test):\n",
    "    model, histo = load_model_and_history(model_name)\n",
    "    print('Model from epoch {}'.format(histo.best_epoch))\n",
    "    print(\"[INFO] evaluating in the test data set ...\")\n",
    "    loss, accuracy = model.evaluate(X_test, y_test, batch_size=128, verbose=1)\n",
    "    print(\"\\n[INFO] accuracy on the test data set: {:.2f}% [{:.5f}]\".format(accuracy * 100, loss))\n"
   ]
  },
  {
   "cell_type": "markdown",
   "metadata": {
    "deletable": true,
    "editable": true
   },
   "source": [
    "## Leitura dos arquivos csv"
   ]
  },
  {
   "cell_type": "code",
   "execution_count": 3,
   "metadata": {
    "ExecuteTime": {
     "end_time": "2017-06-26T20:05:33.630945",
     "start_time": "2017-06-26T20:05:33.625992"
    },
    "collapsed": true,
    "deletable": true,
    "editable": true
   },
   "outputs": [],
   "source": [
    "datapath = '../../datasets/'\n",
    "train_data_file = datapath + \"rossmann_train.csv\"\n",
    "store_states_file = datapath + 'rossmann_store_states.csv'"
   ]
  },
  {
   "cell_type": "code",
   "execution_count": 5,
   "metadata": {
    "ExecuteTime": {
     "end_time": "2017-06-26T20:05:36.317446",
     "start_time": "2017-06-26T20:05:35.031307"
    },
    "collapsed": false,
    "deletable": true,
    "editable": true
   },
   "outputs": [
    {
     "name": "stderr",
     "output_type": "stream",
     "text": [
      "/usr/local/lib/python3.4/dist-packages/IPython/core/interactiveshell.py:2717: DtypeWarning: Columns (7) have mixed types. Specify dtype option on import or set low_memory=False.\n",
      "  interactivity=interactivity, compiler=compiler, result=result)\n"
     ]
    },
    {
     "data": {
      "text/html": [
       "<div>\n",
       "<table border=\"1\" class=\"dataframe\">\n",
       "  <thead>\n",
       "    <tr style=\"text-align: right;\">\n",
       "      <th></th>\n",
       "      <th>Store</th>\n",
       "      <th>DayOfWeek</th>\n",
       "      <th>Date</th>\n",
       "      <th>Sales</th>\n",
       "      <th>Customers</th>\n",
       "      <th>Open</th>\n",
       "      <th>Promo</th>\n",
       "      <th>StateHoliday</th>\n",
       "      <th>SchoolHoliday</th>\n",
       "    </tr>\n",
       "  </thead>\n",
       "  <tbody>\n",
       "    <tr>\n",
       "      <th>0</th>\n",
       "      <td>1</td>\n",
       "      <td>5</td>\n",
       "      <td>2015-07-31</td>\n",
       "      <td>5263</td>\n",
       "      <td>555</td>\n",
       "      <td>1</td>\n",
       "      <td>1</td>\n",
       "      <td>0</td>\n",
       "      <td>1</td>\n",
       "    </tr>\n",
       "    <tr>\n",
       "      <th>1</th>\n",
       "      <td>2</td>\n",
       "      <td>5</td>\n",
       "      <td>2015-07-31</td>\n",
       "      <td>6064</td>\n",
       "      <td>625</td>\n",
       "      <td>1</td>\n",
       "      <td>1</td>\n",
       "      <td>0</td>\n",
       "      <td>1</td>\n",
       "    </tr>\n",
       "    <tr>\n",
       "      <th>2</th>\n",
       "      <td>3</td>\n",
       "      <td>5</td>\n",
       "      <td>2015-07-31</td>\n",
       "      <td>8314</td>\n",
       "      <td>821</td>\n",
       "      <td>1</td>\n",
       "      <td>1</td>\n",
       "      <td>0</td>\n",
       "      <td>1</td>\n",
       "    </tr>\n",
       "    <tr>\n",
       "      <th>3</th>\n",
       "      <td>4</td>\n",
       "      <td>5</td>\n",
       "      <td>2015-07-31</td>\n",
       "      <td>13995</td>\n",
       "      <td>1498</td>\n",
       "      <td>1</td>\n",
       "      <td>1</td>\n",
       "      <td>0</td>\n",
       "      <td>1</td>\n",
       "    </tr>\n",
       "    <tr>\n",
       "      <th>4</th>\n",
       "      <td>5</td>\n",
       "      <td>5</td>\n",
       "      <td>2015-07-31</td>\n",
       "      <td>4822</td>\n",
       "      <td>559</td>\n",
       "      <td>1</td>\n",
       "      <td>1</td>\n",
       "      <td>0</td>\n",
       "      <td>1</td>\n",
       "    </tr>\n",
       "  </tbody>\n",
       "</table>\n",
       "</div>"
      ],
      "text/plain": [
       "   Store  DayOfWeek        Date  Sales  Customers  Open  Promo StateHoliday  \\\n",
       "0      1          5  2015-07-31   5263        555     1      1            0   \n",
       "1      2          5  2015-07-31   6064        625     1      1            0   \n",
       "2      3          5  2015-07-31   8314        821     1      1            0   \n",
       "3      4          5  2015-07-31  13995       1498     1      1            0   \n",
       "4      5          5  2015-07-31   4822        559     1      1            0   \n",
       "\n",
       "   SchoolHoliday  \n",
       "0              1  \n",
       "1              1  \n",
       "2              1  \n",
       "3              1  \n",
       "4              1  "
      ]
     },
     "execution_count": 5,
     "metadata": {},
     "output_type": "execute_result"
    }
   ],
   "source": [
    "train_csv = pd.read_csv(train_data_file)\n",
    "train_csv.head()"
   ]
  },
  {
   "cell_type": "code",
   "execution_count": 6,
   "metadata": {
    "ExecuteTime": {
     "end_time": "2017-06-26T20:05:37.848624",
     "start_time": "2017-06-26T20:05:37.830779"
    },
    "collapsed": false,
    "deletable": true,
    "editable": true
   },
   "outputs": [
    {
     "data": {
      "text/html": [
       "<div>\n",
       "<table border=\"1\" class=\"dataframe\">\n",
       "  <thead>\n",
       "    <tr style=\"text-align: right;\">\n",
       "      <th></th>\n",
       "      <th>State</th>\n",
       "    </tr>\n",
       "    <tr>\n",
       "      <th>Store</th>\n",
       "      <th></th>\n",
       "    </tr>\n",
       "  </thead>\n",
       "  <tbody>\n",
       "    <tr>\n",
       "      <th>1</th>\n",
       "      <td>HE</td>\n",
       "    </tr>\n",
       "    <tr>\n",
       "      <th>2</th>\n",
       "      <td>TH</td>\n",
       "    </tr>\n",
       "    <tr>\n",
       "      <th>3</th>\n",
       "      <td>NW</td>\n",
       "    </tr>\n",
       "    <tr>\n",
       "      <th>4</th>\n",
       "      <td>BE</td>\n",
       "    </tr>\n",
       "    <tr>\n",
       "      <th>5</th>\n",
       "      <td>SN</td>\n",
       "    </tr>\n",
       "  </tbody>\n",
       "</table>\n",
       "</div>"
      ],
      "text/plain": [
       "      State\n",
       "Store      \n",
       "1        HE\n",
       "2        TH\n",
       "3        NW\n",
       "4        BE\n",
       "5        SN"
      ]
     },
     "execution_count": 6,
     "metadata": {},
     "output_type": "execute_result"
    }
   ],
   "source": [
    "states_csv = pd.read_csv(store_states_file).set_index(['Store'])\n",
    "store_states = states_csv.as_matrix()\n",
    "states_csv.head()"
   ]
  },
  {
   "cell_type": "markdown",
   "metadata": {
    "deletable": true,
    "editable": true
   },
   "source": [
    "## Preparando as features"
   ]
  },
  {
   "cell_type": "markdown",
   "metadata": {
    "deletable": true,
    "editable": true
   },
   "source": [
    "Foram utilizadas as seguintes propriedades:\n",
    "- loja\n",
    "- dia da semana\n",
    "- houve ou não promoção\n",
    "- ano\n",
    "- mês do ano\n",
    "- dia do mês\n",
    "- Estado em que a loja se encontra\n",
    "\n",
    "O alvo é a predição:\n",
    "- valor das vendas no dia\n"
   ]
  },
  {
   "cell_type": "code",
   "execution_count": 7,
   "metadata": {
    "ExecuteTime": {
     "end_time": "2017-06-26T20:05:43.638424",
     "start_time": "2017-06-26T20:05:41.343361"
    },
    "collapsed": false,
    "deletable": true,
    "editable": true
   },
   "outputs": [
    {
     "name": "stdout",
     "output_type": "stream",
     "text": [
      "(1017209, 9)\n",
      "[[1 5 '2015-07-31' 5263 555 1 1 '0' 1]\n",
      " [2 5 '2015-07-31' 6064 625 1 1 '0' 1]\n",
      " [3 5 '2015-07-31' 8314 821 1 1 '0' 1]\n",
      " [4 5 '2015-07-31' 13995 1498 1 1 '0' 1]\n",
      " [5 5 '2015-07-31' 4822 559 1 1 '0' 1]]\n",
      "844338\n",
      "[              1               1               0            2013\n",
      "               0               0 139891963822008]\n",
      "[           1115               7               1            2015\n",
      "              11              30 139893644286136]\n"
     ]
    }
   ],
   "source": [
    "train_csv_array = train_csv.as_matrix()\n",
    "print(train_csv_array.shape)\n",
    "print(train_csv_array[:5])\n",
    "open_i = (train_csv_array[:,5]==1) & (train_csv_array[:,3] > 0)\n",
    "\n",
    "train_open = train_csv_array[open_i]\n",
    "n_samples = train_open.shape[0]\n",
    "print(n_samples)\n",
    "dt = np.array(train_open[:,2].astype('datetime64[D]'))\n",
    "day = dt - dt.astype('datetime64[M]')\n",
    "month = dt.astype('datetime64[M]').astype(np.int) % 12\n",
    "year = dt.astype('datetime64[Y]').astype(int) + 1970\n",
    "\n",
    "train_Xnew = np.empty((n_samples,7),dtype=np.int)\n",
    "store_index = train_csv_array[open_i,0].astype(np.int) # store_index\n",
    "train_Xnew[:,0] = store_index\n",
    "train_Xnew[:,1] = train_csv_array[open_i,1] # day_of_week\n",
    "train_Xnew[:,2] = train_csv_array[open_i,6] # promo\n",
    "train_Xnew[:,3] = year # year\n",
    "train_Xnew[:,4] = month # month\n",
    "train_Xnew[:,5] = day # day\n",
    "for i in np.arange(n_samples):\n",
    "    train_Xnew[i,6] = id(sys.intern(store_states[store_index[i] - 1,0])) # coloca string do Estado com número único\n",
    "\n",
    "train_data_y = train_csv_array[open_i,3].astype(np.int) # Sales\n",
    "\n",
    "print(train_Xnew.min(axis=0))\n",
    "print(train_Xnew.max(axis=0))"
   ]
  },
  {
   "cell_type": "markdown",
   "metadata": {
    "deletable": true,
    "editable": true
   },
   "source": [
    "### Normalização dos atributos categóricos"
   ]
  },
  {
   "cell_type": "markdown",
   "metadata": {
    "deletable": true,
    "editable": true
   },
   "source": [
    "Utiliza-se aqui a mesma função `np.unique` utilizada na normalização dos índices dos\n",
    "títulos de filmes do notebook movielens."
   ]
  },
  {
   "cell_type": "code",
   "execution_count": 8,
   "metadata": {
    "ExecuteTime": {
     "end_time": "2017-06-26T20:07:16.570337",
     "start_time": "2017-06-26T20:07:16.079291"
    },
    "collapsed": false,
    "deletable": true,
    "editable": true
   },
   "outputs": [],
   "source": [
    "X_norm = np.empty_like(train_Xnew)\n",
    "for i in range(X_norm.shape[1]): # para cada coluna (atributo)\n",
    "    classes, i_norm = np.unique(train_Xnew[:,i], return_inverse=True)\n",
    "    X_norm[:,i] = i_norm"
   ]
  },
  {
   "cell_type": "code",
   "execution_count": 9,
   "metadata": {
    "ExecuteTime": {
     "end_time": "2017-06-26T20:07:17.489652",
     "start_time": "2017-06-26T20:07:17.446975"
    },
    "collapsed": false,
    "deletable": true,
    "editable": true
   },
   "outputs": [
    {
     "name": "stdout",
     "output_type": "stream",
     "text": [
      "[0 0 0 0 0 0 0]\n",
      "[1114    6    1    2   11   30   11]\n"
     ]
    }
   ],
   "source": [
    "print(X_norm.min(axis=0))\n",
    "print(X_norm.max(axis=0))"
   ]
  },
  {
   "cell_type": "code",
   "execution_count": 10,
   "metadata": {
    "ExecuteTime": {
     "end_time": "2017-06-26T20:15:13.004696",
     "start_time": "2017-06-26T20:15:12.938782"
    },
    "collapsed": false,
    "deletable": true,
    "editable": true
   },
   "outputs": [
    {
     "name": "stdout",
     "output_type": "stream",
     "text": [
      "[0 0 0 0 0 0 0]\n",
      "[1114    6    1    2   11   30   11]\n"
     ]
    }
   ],
   "source": [
    "train_data_X = X_norm\n",
    "train_data_y = np.array(train_data_y)\n",
    "(X, y) = (train_data_X, train_data_y)\n",
    "print(X.min(axis=0))\n",
    "print(X.max(axis=0))"
   ]
  },
  {
   "cell_type": "markdown",
   "metadata": {
    "deletable": true,
    "editable": true
   },
   "source": [
    "## Visualizando em boxplot"
   ]
  },
  {
   "cell_type": "markdown",
   "metadata": {
    "deletable": true,
    "editable": true
   },
   "source": [
    "- [0] dia da semana (0 a 6)\n",
    "- [1] houve ou não promoção (0 ou 1)\n",
    "- [2] ano (0, 1 ou 2)\n",
    "- [3] mês do ano (0 a 11)\n",
    "- [4] dia do mês (0 a 30)\n",
    "- [5] Estado em que a loja se encontra (0 a 11)\n"
   ]
  },
  {
   "cell_type": "code",
   "execution_count": 11,
   "metadata": {
    "ExecuteTime": {
     "end_time": "2017-06-26T20:16:12.376206",
     "start_time": "2017-06-26T20:16:10.905956"
    },
    "collapsed": false,
    "deletable": true,
    "editable": true
   },
   "outputs": [
    {
     "data": {
      "text/plain": [
       "<matplotlib.axes._subplots.AxesSubplot at 0x7f3b0b0e3e48>"
      ]
     },
     "execution_count": 11,
     "metadata": {},
     "output_type": "execute_result"
    },
    {
     "data": {
      "image/png": "[encoded data removed]",
      "text/plain": [
       "<matplotlib.figure.Figure at 0x7f3b22c42438>"
      ]
     },
     "metadata": {},
     "output_type": "display_data"
    }
   ],
   "source": [
    "import seaborn as sns\n",
    "sns.boxplot(data=X[:,1:])"
   ]
  },
  {
   "cell_type": "markdown",
   "metadata": {
    "deletable": true,
    "editable": true
   },
   "source": [
    "## Normalizando os valores de vendas"
   ]
  },
  {
   "cell_type": "markdown",
   "metadata": {
    "deletable": true,
    "editable": true
   },
   "source": [
    "$$ Sales_n = \\frac{\\log{(Sales)}}{Max(\\log(Sales))} $$\n",
    "$$ Sales = \\exp(Sales_n Max(\\log(Sales))) $$"
   ]
  },
  {
   "cell_type": "code",
   "execution_count": 12,
   "metadata": {
    "ExecuteTime": {
     "end_time": "2017-06-26T20:16:15.073901",
     "start_time": "2017-06-26T20:16:15.022784"
    },
    "collapsed": false,
    "deletable": true,
    "editable": true
   },
   "outputs": [],
   "source": [
    "class log_norm():\n",
    "    def __init__(self,y):\n",
    "        self.MaxLog = np.log(y).max()\n",
    "        \n",
    "    def lognorm(self, val):\n",
    "        return np.log(val)/self.MaxLog\n",
    "    \n",
    "    def lognorm_back(self, val):\n",
    "        return np.exp(val * self.MaxLog)\n",
    "\n",
    "classnorm = log_norm(y)\n",
    "y_norm = classnorm.lognorm(y)\n",
    "y_back = classnorm.lognorm_back(y_norm)\n"
   ]
  },
  {
   "cell_type": "markdown",
   "metadata": {
    "deletable": true,
    "editable": true
   },
   "source": [
    "## Dividindo em Dados de treinamento e de validação"
   ]
  },
  {
   "cell_type": "code",
   "execution_count": 13,
   "metadata": {
    "ExecuteTime": {
     "end_time": "2017-06-26T20:16:18.889775",
     "start_time": "2017-06-26T20:16:18.876512"
    },
    "collapsed": false,
    "deletable": true,
    "editable": true
   },
   "outputs": [
    {
     "name": "stdout",
     "output_type": "stream",
     "text": [
      "Shapes: (759904, 7) (759904,) (84434, 7) (84434,)\n",
      "X_train[:2]\n",
      " [[ 0  4  1  2  6 30  5]\n",
      " [ 1  4  1  2  6 30 11]]\n",
      "y_train[:2]\n",
      " [ 0.80570915  0.81903052]\n"
     ]
    }
   ],
   "source": [
    "num_records = len(X)\n",
    "train_ratio = 0.9\n",
    "train_size = int(train_ratio * num_records)\n",
    "\n",
    "X_train = X[:train_size]\n",
    "X_val   = X[train_size:]\n",
    "y_train = y_norm[:train_size]\n",
    "y_val   = y_norm[train_size:]\n",
    "print('Shapes:',X_train.shape,y_train.shape,X_val.shape,y_val.shape)\n",
    "print('X_train[:2]\\n',X_train[:2])\n",
    "print('y_train[:2]\\n',y_train[:2])"
   ]
  },
  {
   "cell_type": "code",
   "execution_count": 14,
   "metadata": {
    "ExecuteTime": {
     "end_time": "2017-06-26T20:16:27.401444",
     "start_time": "2017-06-26T20:16:27.354815"
    },
    "collapsed": false,
    "deletable": true,
    "editable": true
   },
   "outputs": [
    {
     "name": "stdout",
     "output_type": "stream",
     "text": [
      "Number of samples used for training:  200000\n"
     ]
    }
   ],
   "source": [
    "def sample(X, y, n):\n",
    "    '''random samples'''\n",
    "    num_row = X.shape[0]\n",
    "    indices = np.random.randint(num_row, size=n)\n",
    "    return X[indices, :], y[indices]\n",
    "\n",
    "X_train, y_train = sample(X_train, y_train, 200000)  # Simulate data sparsity\n",
    "print(\"Number of samples used for training: \",y_train.shape[0])"
   ]
  },
  {
   "cell_type": "markdown",
   "metadata": {
    "deletable": true,
    "editable": true
   },
   "source": [
    "## Criando o modelo"
   ]
  },
  {
   "cell_type": "markdown",
   "metadata": {
    "deletable": true,
    "editable": true
   },
   "source": [
    "### Modelo com vários embeddings"
   ]
  },
  {
   "cell_type": "markdown",
   "metadata": {
    "ExecuteTime": {
     "end_time": "2017-06-18T10:52:54.761097",
     "start_time": "2017-06-18T10:52:54.744288"
    },
    "deletable": true,
    "editable": true
   },
   "source": [
    "\n",
    "|Característica|tipo do dado|tamanho|dimensão embedding|\n",
    "|--------------|------------|-------|------------------|\n",
    "| store      | nominal| 1115|10|\n",
    "| day of week| ordinal| 7| 6|\n",
    "|promoção| binário | 2|1|\n",
    "| ano| ordinal| 3 (2013-2015)|2|\n",
    "| mês| ordinal| 12| 6|\n",
    "| dia| ordinal| 31| 10|\n",
    "| Estado|nominal| 12| 6|\n",
    " \n"
   ]
  },
  {
   "cell_type": "code",
   "execution_count": 44,
   "metadata": {
    "ExecuteTime": {
     "end_time": "2017-06-26T20:16:55.190288",
     "start_time": "2017-06-26T20:16:54.894856"
    },
    "collapsed": false,
    "deletable": true,
    "editable": true,
    "scrolled": false
   },
   "outputs": [
    {
     "name": "stdout",
     "output_type": "stream",
     "text": [
      "____________________________________________________________________________________________________\n",
      "Layer (type)                     Output Shape          Param #     Connected to                     \n",
      "====================================================================================================\n",
      "store_in (InputLayer)            (None, 1)             0                                            \n",
      "____________________________________________________________________________________________________\n",
      "down_in (InputLayer)             (None, 1)             0                                            \n",
      "____________________________________________________________________________________________________\n",
      "year_in (InputLayer)             (None, 1)             0                                            \n",
      "____________________________________________________________________________________________________\n",
      "month_in (InputLayer)            (None, 1)             0                                            \n",
      "____________________________________________________________________________________________________\n",
      "day_in (InputLayer)              (None, 1)             0                                            \n",
      "____________________________________________________________________________________________________\n",
      "germanstate_in (InputLayer)      (None, 1)             0                                            \n",
      "____________________________________________________________________________________________________\n",
      "store_embedding (Embedding)      (None, 1, 10)         11150       store_in[0][0]                   \n",
      "____________________________________________________________________________________________________\n",
      "dow_embedding (Embedding)        (None, 1, 6)          42          down_in[0][0]                    \n",
      "____________________________________________________________________________________________________\n",
      "promo_in (InputLayer)            (None, 1)             0                                            \n",
      "____________________________________________________________________________________________________\n",
      "year_embedding (Embedding)       (None, 1, 2)          6           year_in[0][0]                    \n",
      "____________________________________________________________________________________________________\n",
      "month_embedding (Embedding)      (None, 1, 6)          72          month_in[0][0]                   \n",
      "____________________________________________________________________________________________________\n",
      "day_embedding (Embedding)        (None, 1, 10)         310         day_in[0][0]                     \n",
      "____________________________________________________________________________________________________\n",
      "germanstate_embedding (Embedding (None, 1, 6)          72          germanstate_in[0][0]             \n",
      "____________________________________________________________________________________________________\n",
      "store_flatten (Flatten)          (None, 10)            0           store_embedding[0][0]            \n",
      "____________________________________________________________________________________________________\n",
      "dow_flatten (Flatten)            (None, 6)             0           dow_embedding[0][0]              \n",
      "____________________________________________________________________________________________________\n",
      "dense_29 (Dense)                 (None, 1)             2           promo_in[0][0]                   \n",
      "____________________________________________________________________________________________________\n",
      "year_flatten (Flatten)           (None, 2)             0           year_embedding[0][0]             \n",
      "____________________________________________________________________________________________________\n",
      "month_flatten (Flatten)          (None, 6)             0           month_embedding[0][0]            \n",
      "____________________________________________________________________________________________________\n",
      "day_flatten (Flatten)            (None, 10)            0           day_embedding[0][0]              \n",
      "____________________________________________________________________________________________________\n",
      "germanstate_flatten (Flatten)    (None, 6)             0           germanstate_embedding[0][0]      \n",
      "____________________________________________________________________________________________________\n",
      "concatenate_8 (Concatenate)      (None, 41)            0           store_flatten[0][0]              \n",
      "                                                                   dow_flatten[0][0]                \n",
      "                                                                   dense_29[0][0]                   \n",
      "                                                                   year_flatten[0][0]               \n",
      "                                                                   month_flatten[0][0]              \n",
      "                                                                   day_flatten[0][0]                \n",
      "                                                                   germanstate_flatten[0][0]        \n",
      "____________________________________________________________________________________________________\n",
      "dense_30 (Dense)                 (None, 1000)          42000       concatenate_8[0][0]              \n",
      "____________________________________________________________________________________________________\n",
      "dense_31 (Dense)                 (None, 500)           500500      dense_30[0][0]                   \n",
      "____________________________________________________________________________________________________\n",
      "dense_32 (Dense)                 (None, 1)             501         dense_31[0][0]                   \n",
      "====================================================================================================\n",
      "Total params: 554,655\n",
      "Trainable params: 554,655\n",
      "Non-trainable params: 0\n",
      "____________________________________________________________________________________________________\n"
     ]
    }
   ],
   "source": [
    "def build_keras_model():\n",
    "    store_in = Input(shape=(1,), dtype='int64', name='store_in')\n",
    "    x = Embedding(1115, 10, input_length=1, name='store_embedding')(store_in)\n",
    "    store_emb = Flatten(name='store_flatten')(x)\n",
    "\n",
    "    dow_in = Input(shape=(1,), dtype='int64', name='down_in')\n",
    "    x = Embedding(7, 6, input_length=1, name='dow_embedding')(dow_in)\n",
    "    dow_emb = Flatten(name='dow_flatten')(x)\n",
    "\n",
    "    promo_in = Input(shape=(1,), name='promo_in')\n",
    "    promo_out = Dense(1, input_dim=1)(promo_in)\n",
    "\n",
    "    year_in = Input(shape=(1,), dtype='int64', name='year_in')\n",
    "    x = Embedding(3, 2, input_length=1, name='year_embedding')(year_in)\n",
    "    year_emb = Flatten(name='year_flatten')(x)\n",
    "\n",
    "    month_in = Input(shape=(1,), dtype='int64', name='month_in')\n",
    "    x = Embedding(12, 6, input_length=1, name='month_embedding')(month_in)\n",
    "    month_emb = Flatten(name='month_flatten')(x)\n",
    "\n",
    "    day_in = Input(shape=(1,), dtype='int64', name='day_in')\n",
    "    x = Embedding(31, 10, input_length=1, name='day_embedding')(day_in)\n",
    "    day_emb = Flatten(name='day_flatten')(x)\n",
    "\n",
    "    germanstate_in = Input(shape=(1,), dtype='int64', name='germanstate_in')\n",
    "    x = Embedding(12, 6, input_length=1, name='germanstate_embedding')(germanstate_in)\n",
    "    germanstate_emb = Flatten(name='germanstate_flatten')(x)\n",
    "    xin = concatenate([store_emb, dow_emb, promo_out, year_emb, month_emb, day_emb, germanstate_emb])\n",
    "    x = Dense(1000, kernel_initializer='uniform', activation='relu')(xin)\n",
    "    x = Dense(500, kernel_initializer='uniform', activation='relu')(x)\n",
    "    x_out = Dense(1, activation='sigmoid')(x)\n",
    "    \n",
    "    return Model([store_in,dow_in,promo_in,year_in,month_in,day_in,germanstate_in], x_out)\n",
    "\n",
    "model_rs = build_keras_model()\n",
    "model_rs.summary()"
   ]
  },
  {
   "cell_type": "markdown",
   "metadata": {
    "deletable": true,
    "editable": true
   },
   "source": [
    "### Treinando"
   ]
  },
  {
   "cell_type": "code",
   "execution_count": 45,
   "metadata": {
    "ExecuteTime": {
     "end_time": "2017-06-26T20:19:17.470825",
     "start_time": "2017-06-26T20:19:17.404139"
    },
    "collapsed": false,
    "deletable": true,
    "editable": true
   },
   "outputs": [
    {
     "name": "stdout",
     "output_type": "stream",
     "text": [
      "X_train.shape: (200000, 7)\n",
      "X_val.shape: (84434, 7)\n",
      "Número de promoções (sem promoção, com promoção): [110508  89492]\n"
     ]
    }
   ],
   "source": [
    "def split_features(X):\n",
    "    store_index = X[..., [0]]\n",
    "    day_of_week = X[..., [1]]\n",
    "    promo = X[..., [2]]\n",
    "    year =  X[..., [3]]\n",
    "    month = X[..., [4]]\n",
    "    day =   X[..., [5]]\n",
    "    State = X[..., [6]]\n",
    "    return [store_index,day_of_week,promo,year,month,day,State]\n",
    " \n",
    "X_train_p = split_features(X_train)\n",
    "X_val_p  =  split_features(X_val)\n",
    "print('X_train.shape:',X_train.shape)\n",
    "print('X_val.shape:', X_val.shape)\n",
    "print('Número de promoções (sem promoção, com promoção):',np.bincount(X_train[:,2]))"
   ]
  },
  {
   "cell_type": "code",
   "execution_count": 46,
   "metadata": {
    "ExecuteTime": {
     "end_time": "2017-06-26T20:24:04.249505",
     "start_time": "2017-06-26T20:19:39.693228"
    },
    "collapsed": false,
    "deletable": true,
    "editable": true
   },
   "outputs": [
    {
     "data": {
      "image/png": "[encoded data removed]",
      "text/plain": [
       "<matplotlib.figure.Figure at 0x7f3ac9b73940>"
      ]
     },
     "metadata": {},
     "output_type": "display_data"
    }
   ],
   "source": [
    "model_name = '../../models/rossmann'\n",
    "fit_params = {\n",
    "    'model_name': model_name,\n",
    "    'loss': 'mean_absolute_error',\n",
    "    'opt':        Adam(), \n",
    "    'batch_size': 128, \n",
    "    'nepochs':    5,\n",
    "    'patience':   5,\n",
    "    'ploss':      0.015,\n",
    "    'shuffle':    False,\n",
    "    'reset':      True,\n",
    "}\n",
    "\n",
    "train_network(model_rs, X_train_p, y_train, X_val_p, y_val, **fit_params);"
   ]
  },
  {
   "cell_type": "markdown",
   "metadata": {
    "deletable": true,
    "editable": true
   },
   "source": [
    "## Avaliando o modelo"
   ]
  },
  {
   "cell_type": "code",
   "execution_count": 42,
   "metadata": {
    "ExecuteTime": {
     "end_time": "2017-06-26T20:24:13.766361",
     "start_time": "2017-06-26T20:24:13.761690"
    },
    "collapsed": true,
    "deletable": true,
    "editable": true
   },
   "outputs": [],
   "source": [
    "def guess(model,features):\n",
    "    features = split_features(features)\n",
    "    result = model.predict(features).flatten()\n",
    "    return result"
   ]
  },
  {
   "cell_type": "code",
   "execution_count": 43,
   "metadata": {
    "ExecuteTime": {
     "end_time": "2017-06-26T20:24:44.759238",
     "start_time": "2017-06-26T20:24:15.946840"
    },
    "collapsed": false,
    "deletable": true,
    "editable": true
   },
   "outputs": [
    {
     "name": "stdout",
     "output_type": "stream",
     "text": [
      "Evaluate combined models...\n",
      "Training error...\n",
      "0.100896211843\n",
      "Validation error...\n",
      "0.14055088623\n"
     ]
    }
   ],
   "source": [
    "def evaluate_model(model, X, y):\n",
    "    assert(min(y) > 0)\n",
    "    guessed_sales = np.array([guess(model,X)])\n",
    "    mean_sales = guessed_sales.mean(axis=0)\n",
    "    mean_sales_back = classnorm.lognorm_back(mean_sales)\n",
    "    y_back = classnorm.lognorm_back(y)\n",
    "    relative_err = np.absolute((y_back - mean_sales_back) / y_back)\n",
    "    result = np.sum(relative_err) / len(y_back)\n",
    "    return result\n",
    "\n",
    "model_rs, histo = load_model_and_history(model_name)\n",
    "\n",
    "print(\"Evaluate combined models...\")\n",
    "print(\"Training error...\")\n",
    "r_train = evaluate_model(model_rs, X_train, y_train)\n",
    "print(r_train)\n",
    "\n",
    "print(\"Validation error...\")\n",
    "r_val = evaluate_model(model_rs, X_val, y_val)\n",
    "print(r_val)"
   ]
  },
  {
   "cell_type": "markdown",
   "metadata": {
    "collapsed": true,
    "deletable": true,
    "editable": true
   },
   "source": [
    "Vencedor da competição no Kaggle obteve 0.10021 [https://www.kaggle.com/c/rossmann-store-sales/leaderboard](https://www.kaggle.com/c/rossmann-store-sales/leaderboard)"
   ]
  },
  {
   "cell_type": "code",
   "execution_count": null,
   "metadata": {
    "collapsed": true,
    "deletable": true,
    "editable": true
   },
   "outputs": [],
   "source": []
  }
 ],
 "metadata": {
  "kernelspec": {
   "display_name": "Python 3",
   "language": "python",
   "name": "python3"
  },
  "language_info": {
   "codemirror_mode": {
    "name": "ipython",
    "version": 3
   },
   "file_extension": ".py",
   "mimetype": "text/x-python",
   "name": "python",
   "nbconvert_exporter": "python",
   "pygments_lexer": "ipython3",
   "version": "3.4.3"
  },
  "toc": {
   "colors": {
    "hover_highlight": "#DAA520",
    "running_highlight": "#FF0000",
    "selected_highlight": "#FFD700"
   },
   "moveMenuLeft": true,
   "nav_menu": {
    "height": "226px",
    "width": "252px"
   },
   "navigate_menu": true,
   "number_sections": true,
   "sideBar": true,
   "threshold": 4,
   "toc_cell": false,
   "toc_section_display": "block",
   "toc_window_display": false,
   "widenNotebook": false
  }
 },
 "nbformat": 4,
 "nbformat_minor": 2
}
