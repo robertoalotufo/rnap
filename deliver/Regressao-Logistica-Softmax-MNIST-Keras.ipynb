{
 "cells": [
  {
   "cell_type": "markdown",
   "metadata": {
    "toc": "true"
   },
   "source": [
    "# Table of Contents\n",
    " <p><div class=\"lev1 toc-item\"><a href=\"#Regressão-Softmax-com-dados-NMIST-no-Keras\" data-toc-modified-id=\"Regressão-Softmax-com-dados-NMIST-no-Keras-1\"><span class=\"toc-item-num\">1&nbsp;&nbsp;</span>Regressão Softmax com dados NMIST no Keras</a></div><div class=\"lev2 toc-item\"><a href=\"#Import-the-libraries\" data-toc-modified-id=\"Import-the-libraries-11\"><span class=\"toc-item-num\">1.1&nbsp;&nbsp;</span>Import the libraries</a></div><div class=\"lev2 toc-item\"><a href=\"#Lendo-os-dados\" data-toc-modified-id=\"Lendo-os-dados-12\"><span class=\"toc-item-num\">1.2&nbsp;&nbsp;</span>Lendo os dados</a></div><div class=\"lev1 toc-item\"><a href=\"#Reorganizando-e-normalizando-os-dados\" data-toc-modified-id=\"Reorganizando-e-normalizando-os-dados-2\"><span class=\"toc-item-num\">2&nbsp;&nbsp;</span>Reorganizando e normalizando os dados</a></div><div class=\"lev3 toc-item\"><a href=\"#Usando-apenas-500-para-treinamento-e-100-para-teste\" data-toc-modified-id=\"Usando-apenas-500-para-treinamento-e-100-para-teste-201\"><span class=\"toc-item-num\">2.0.1&nbsp;&nbsp;</span>Usando apenas 500 para treinamento e 100 para teste</a></div><div class=\"lev2 toc-item\"><a href=\"#Convertendo-o-vetor-de-classes-para-codificação-one-hot\" data-toc-modified-id=\"Convertendo-o-vetor-de-classes-para-codificação-one-hot-21\"><span class=\"toc-item-num\">2.1&nbsp;&nbsp;</span>Convertendo o vetor de classes para codificação one-hot</a></div><div class=\"lev2 toc-item\"><a href=\"#Definindo-o-modelo\" data-toc-modified-id=\"Definindo-o-modelo-22\"><span class=\"toc-item-num\">2.2&nbsp;&nbsp;</span>Definindo o modelo</a></div><div class=\"lev2 toc-item\"><a href=\"#Compilando-o-modelo\" data-toc-modified-id=\"Compilando-o-modelo-23\"><span class=\"toc-item-num\">2.3&nbsp;&nbsp;</span>Compilando o modelo</a></div><div class=\"lev2 toc-item\"><a href=\"#Plotando-curva-de-perda-durante-treinamento\" data-toc-modified-id=\"Plotando-curva-de-perda-durante-treinamento-24\"><span class=\"toc-item-num\">2.4&nbsp;&nbsp;</span>Plotando curva de perda durante treinamento</a></div><div class=\"lev2 toc-item\"><a href=\"#Calculando-o-desempenho-tanto-no-conjunto-de-treino-como-no-conjunto-de-teste\" data-toc-modified-id=\"Calculando-o-desempenho-tanto-no-conjunto-de-treino-como-no-conjunto-de-teste-25\"><span class=\"toc-item-num\">2.5&nbsp;&nbsp;</span>Calculando o desempenho tanto no conjunto de treino como no conjunto de teste</a></div><div class=\"lev2 toc-item\"><a href=\"#Imprimindo-Matriz-de-Confusão\" data-toc-modified-id=\"Imprimindo-Matriz-de-Confusão-26\"><span class=\"toc-item-num\">2.6&nbsp;&nbsp;</span>Imprimindo Matriz de Confusão</a></div>"
   ]
  },
  {
   "cell_type": "markdown",
   "metadata": {},
   "source": [
    "# Regressão Softmax com dados NMIST no Keras\n",
    "\n",
    "Este notebook implementa a Regressão Softmax utilizando o Keras.\n",
    "\n",
    "## Import the libraries"
   ]
  },
  {
   "cell_type": "code",
   "execution_count": 1,
   "metadata": {
    "ExecuteTime": {
     "end_time": "2017-05-01T20:08:40.670900",
     "start_time": "2017-05-01T20:08:39.353114"
    },
    "collapsed": true
   },
   "outputs": [],
   "source": [
    "%matplotlib inline\n",
    "import matplotlib.pyplot as plt\n",
    "import pandas as pd"
   ]
  },
  {
   "cell_type": "markdown",
   "metadata": {},
   "source": [
    "## Lendo os dados\n",
    "\n",
    "Keras also offers a collection of datasets that can be used to train and test the model. The MNIST set is a part of the available datasets and can be loaded as shown below."
   ]
  },
  {
   "cell_type": "code",
   "execution_count": 2,
   "metadata": {
    "ExecuteTime": {
     "end_time": "2017-05-01T20:09:23.440271",
     "start_time": "2017-05-01T20:08:43.773111"
    },
    "collapsed": false
   },
   "outputs": [
    {
     "name": "stderr",
     "output_type": "stream",
     "text": [
      "Using TensorFlow backend.\n"
     ]
    },
    {
     "name": "stdout",
     "output_type": "stream",
     "text": [
      "Downloading data from https://s3.amazonaws.com/img-datasets/mnist.npz\n"
     ]
    }
   ],
   "source": [
    "from keras.datasets import mnist \n",
    "# the data, shuffled and split between train and test sets \n",
    "(X_train_orig, y_train), (X_test_orig, y_test) = mnist.load_data()"
   ]
  },
  {
   "cell_type": "markdown",
   "metadata": {},
   "source": [
    "## Reorganizando e normalizando os dados"
   ]
  },
  {
   "cell_type": "code",
   "execution_count": 3,
   "metadata": {
    "ExecuteTime": {
     "end_time": "2017-05-01T20:09:36.676855",
     "start_time": "2017-05-01T20:09:35.996623"
    },
    "collapsed": false
   },
   "outputs": [
    {
     "name": "stdout",
     "output_type": "stream",
     "text": [
      "n. amostras treinamento: 60000 n. classes: 10 n. de atributos: 784\n",
      "X_train_orig shape original: (60000, 28, 28)\n",
      "X_train novo shape: (60000, 784)\n"
     ]
    }
   ],
   "source": [
    "k = nb_classes = 10\n",
    "(n,height,width) = X_train_orig.shape  # deve ser 60000 amostras de 28 x 28 pixels\n",
    "m = input_dim = height * width\n",
    "print('n. amostras treinamento:',n,'n. classes:',k,'n. de atributos:',m)\n",
    "print('X_train_orig shape original:', X_train_orig.shape)\n",
    "X_train = X_train_orig.reshape(n, input_dim)/255. \n",
    "print('X_train novo shape:', X_train.shape)\n",
    "X_test = X_test_orig.reshape(10000, input_dim)/255."
   ]
  },
  {
   "cell_type": "markdown",
   "metadata": {},
   "source": [
    "### Usando apenas 500 para treinamento e 100 para teste\n",
    "\n",
    "Para ficar igual ao exemplo usando programação matricial"
   ]
  },
  {
   "cell_type": "code",
   "execution_count": 4,
   "metadata": {
    "ExecuteTime": {
     "end_time": "2017-05-01T20:09:41.644569",
     "start_time": "2017-05-01T20:09:41.639575"
    },
    "collapsed": true
   },
   "outputs": [],
   "source": [
    "X_train = X_train[:500]\n",
    "y_train = y_train[:500]\n",
    "X_test  = X_test[:100]\n",
    "y_test  = y_test[:100]"
   ]
  },
  {
   "cell_type": "markdown",
   "metadata": {},
   "source": [
    "## Convertendo o vetor de classes para codificação one-hot"
   ]
  },
  {
   "cell_type": "code",
   "execution_count": 5,
   "metadata": {
    "ExecuteTime": {
     "end_time": "2017-05-01T20:09:49.692534",
     "start_time": "2017-05-01T20:09:49.680336"
    },
    "collapsed": false
   },
   "outputs": [
    {
     "name": "stdout",
     "output_type": "stream",
     "text": [
      "[5 0 4 1 9]\n",
      "[[ 0.  0.  0.  0.  0.  1.  0.  0.  0.  0.]\n",
      " [ 1.  0.  0.  0.  0.  0.  0.  0.  0.  0.]\n",
      " [ 0.  0.  0.  0.  1.  0.  0.  0.  0.  0.]\n",
      " [ 0.  1.  0.  0.  0.  0.  0.  0.  0.  0.]\n",
      " [ 0.  0.  0.  0.  0.  0.  0.  0.  0.  1.]]\n"
     ]
    }
   ],
   "source": [
    "from keras.utils import np_utils \n",
    "Y_train = np_utils.to_categorical(y_train, nb_classes) \n",
    "Y_test = np_utils.to_categorical(y_test, nb_classes)\n",
    "print(y_train[0:5])\n",
    "print(Y_train[0:5])"
   ]
  },
  {
   "cell_type": "markdown",
   "metadata": {},
   "source": [
    "## Definindo o modelo"
   ]
  },
  {
   "cell_type": "code",
   "execution_count": 15,
   "metadata": {
    "ExecuteTime": {
     "end_time": "2017-05-01T20:14:35.837558",
     "start_time": "2017-05-01T20:14:35.797913"
    },
    "collapsed": true
   },
   "outputs": [],
   "source": [
    "from keras.models import Sequential \n",
    "from keras.layers import Dense, Activation \n",
    "from keras.optimizers import SGD\n",
    "output_dim = nb_classes = 10 \n",
    "model = Sequential() \n",
    "model.add(Dense(output_dim, input_dim=input_dim, activation='softmax')) \n",
    "batch_size = 500\n",
    "epochs = 1000"
   ]
  },
  {
   "cell_type": "markdown",
   "metadata": {},
   "source": [
    "## Compilando o modelo"
   ]
  },
  {
   "cell_type": "code",
   "execution_count": 16,
   "metadata": {
    "ExecuteTime": {
     "end_time": "2017-05-01T20:14:44.671546",
     "start_time": "2017-05-01T20:14:37.506298"
    },
    "collapsed": false
   },
   "outputs": [
    {
     "name": "stdout",
     "output_type": "stream",
     "text": [
      "loss: 0.384124416113\n"
     ]
    }
   ],
   "source": [
    "sgd = SGD(lr= 0.5, decay=0e-6, momentum=0., nesterov=False)\n",
    "model.compile(optimizer=sgd, loss='categorical_crossentropy') \n",
    "history = model.fit(X_train, Y_train, batch_size=batch_size, epochs=epochs,verbose=0) \n",
    "loss = model.evaluate(X_test, Y_test, verbose=0)\n",
    "print('loss:',loss)"
   ]
  },
  {
   "cell_type": "markdown",
   "metadata": {},
   "source": [
    "## Plotando curva de perda durante treinamento"
   ]
  },
  {
   "cell_type": "code",
   "execution_count": 17,
   "metadata": {
    "ExecuteTime": {
     "end_time": "2017-05-01T20:14:48.906038",
     "start_time": "2017-05-01T20:14:48.653529"
    },
    "collapsed": false
   },
   "outputs": [
    {
     "data": {
      "text/plain": [
       "[<matplotlib.lines.Line2D at 0x14085d240>]"
      ]
     },
     "execution_count": 17,
     "metadata": {},
     "output_type": "execute_result"
    },
    {
     "data": {
      "image/png": "[encoded data removed]",
      "text/plain": [
       "<matplotlib.figure.Figure at 0x1407c73c8>"
      ]
     },
     "metadata": {},
     "output_type": "display_data"
    }
   ],
   "source": [
    "plt.plot(history.history['loss'])"
   ]
  },
  {
   "cell_type": "markdown",
   "metadata": {},
   "source": [
    "## Calculando o desempenho tanto no conjunto de treino como no conjunto de teste"
   ]
  },
  {
   "cell_type": "code",
   "execution_count": 12,
   "metadata": {
    "ExecuteTime": {
     "end_time": "2017-05-01T20:12:15.763383",
     "start_time": "2017-05-01T20:12:15.714497"
    },
    "collapsed": false
   },
   "outputs": [
    {
     "name": "stdout",
     "output_type": "stream",
     "text": [
      " 32/100 [========>.....................] - ETA: 0s\n",
      "Training Accuracy:  1.0\n",
      "Test Accuracy:  0.84\n"
     ]
    }
   ],
   "source": [
    "def getAccuracy(X,Y):\n",
    "    Y_hat = model.predict_classes(X)\n",
    "    accuracy = sum(Y_hat == Y)/(float(len(Y)))\n",
    "    return accuracy\n",
    "\n",
    "train_ac = getAccuracy(X_train,y_train)\n",
    "test_ac  = getAccuracy(X_test,y_test)\n",
    "print() \n",
    "print('Training Accuracy: ', train_ac)\n",
    "print('Test Accuracy: ', test_ac)\n",
    "# usual 0.868 e 0.77"
   ]
  },
  {
   "cell_type": "markdown",
   "metadata": {},
   "source": [
    "## Imprimindo Matriz de Confusão"
   ]
  },
  {
   "cell_type": "code",
   "execution_count": 14,
   "metadata": {
    "ExecuteTime": {
     "end_time": "2017-05-01T20:12:25.637881",
     "start_time": "2017-05-01T20:12:25.591111"
    },
    "collapsed": false
   },
   "outputs": [
    {
     "name": "stdout",
     "output_type": "stream",
     "text": [
      " 32/100 [========>.....................] - ETA: 0s(100,)\n",
      "y_hat:  [7 2 1 0 4 1 9 9 2 9 0 6 9 0 1 3 7 7 3 4]\n",
      "y_test: [7 2 1 0 4 1 4 9 5 9 0 6 9 0 1 5 9 7 3 4]\n",
      "(100,)\n"
     ]
    },
    {
     "data": {
      "text/html": [
       "<div>\n",
       "<table border=\"1\" class=\"dataframe\">\n",
       "  <thead>\n",
       "    <tr style=\"text-align: right;\">\n",
       "      <th>col_0</th>\n",
       "      <th>0</th>\n",
       "      <th>1</th>\n",
       "      <th>2</th>\n",
       "      <th>3</th>\n",
       "      <th>4</th>\n",
       "      <th>5</th>\n",
       "      <th>6</th>\n",
       "      <th>7</th>\n",
       "      <th>8</th>\n",
       "      <th>9</th>\n",
       "    </tr>\n",
       "    <tr>\n",
       "      <th>row_0</th>\n",
       "      <th></th>\n",
       "      <th></th>\n",
       "      <th></th>\n",
       "      <th></th>\n",
       "      <th></th>\n",
       "      <th></th>\n",
       "      <th></th>\n",
       "      <th></th>\n",
       "      <th></th>\n",
       "      <th></th>\n",
       "    </tr>\n",
       "  </thead>\n",
       "  <tbody>\n",
       "    <tr>\n",
       "      <th>0</th>\n",
       "      <td>8</td>\n",
       "      <td>0</td>\n",
       "      <td>0</td>\n",
       "      <td>0</td>\n",
       "      <td>0</td>\n",
       "      <td>0</td>\n",
       "      <td>0</td>\n",
       "      <td>0</td>\n",
       "      <td>0</td>\n",
       "      <td>0</td>\n",
       "    </tr>\n",
       "    <tr>\n",
       "      <th>1</th>\n",
       "      <td>0</td>\n",
       "      <td>14</td>\n",
       "      <td>0</td>\n",
       "      <td>0</td>\n",
       "      <td>0</td>\n",
       "      <td>0</td>\n",
       "      <td>0</td>\n",
       "      <td>0</td>\n",
       "      <td>0</td>\n",
       "      <td>0</td>\n",
       "    </tr>\n",
       "    <tr>\n",
       "      <th>2</th>\n",
       "      <td>0</td>\n",
       "      <td>0</td>\n",
       "      <td>7</td>\n",
       "      <td>0</td>\n",
       "      <td>0</td>\n",
       "      <td>1</td>\n",
       "      <td>1</td>\n",
       "      <td>1</td>\n",
       "      <td>0</td>\n",
       "      <td>0</td>\n",
       "    </tr>\n",
       "    <tr>\n",
       "      <th>3</th>\n",
       "      <td>0</td>\n",
       "      <td>0</td>\n",
       "      <td>1</td>\n",
       "      <td>11</td>\n",
       "      <td>0</td>\n",
       "      <td>2</td>\n",
       "      <td>0</td>\n",
       "      <td>0</td>\n",
       "      <td>0</td>\n",
       "      <td>0</td>\n",
       "    </tr>\n",
       "    <tr>\n",
       "      <th>4</th>\n",
       "      <td>0</td>\n",
       "      <td>0</td>\n",
       "      <td>0</td>\n",
       "      <td>0</td>\n",
       "      <td>11</td>\n",
       "      <td>1</td>\n",
       "      <td>0</td>\n",
       "      <td>0</td>\n",
       "      <td>0</td>\n",
       "      <td>0</td>\n",
       "    </tr>\n",
       "    <tr>\n",
       "      <th>5</th>\n",
       "      <td>0</td>\n",
       "      <td>0</td>\n",
       "      <td>0</td>\n",
       "      <td>0</td>\n",
       "      <td>0</td>\n",
       "      <td>2</td>\n",
       "      <td>0</td>\n",
       "      <td>0</td>\n",
       "      <td>1</td>\n",
       "      <td>0</td>\n",
       "    </tr>\n",
       "    <tr>\n",
       "      <th>6</th>\n",
       "      <td>0</td>\n",
       "      <td>0</td>\n",
       "      <td>0</td>\n",
       "      <td>0</td>\n",
       "      <td>1</td>\n",
       "      <td>0</td>\n",
       "      <td>9</td>\n",
       "      <td>0</td>\n",
       "      <td>0</td>\n",
       "      <td>0</td>\n",
       "    </tr>\n",
       "    <tr>\n",
       "      <th>7</th>\n",
       "      <td>0</td>\n",
       "      <td>0</td>\n",
       "      <td>0</td>\n",
       "      <td>0</td>\n",
       "      <td>0</td>\n",
       "      <td>1</td>\n",
       "      <td>0</td>\n",
       "      <td>12</td>\n",
       "      <td>0</td>\n",
       "      <td>2</td>\n",
       "    </tr>\n",
       "    <tr>\n",
       "      <th>8</th>\n",
       "      <td>0</td>\n",
       "      <td>0</td>\n",
       "      <td>0</td>\n",
       "      <td>0</td>\n",
       "      <td>0</td>\n",
       "      <td>0</td>\n",
       "      <td>0</td>\n",
       "      <td>0</td>\n",
       "      <td>1</td>\n",
       "      <td>0</td>\n",
       "    </tr>\n",
       "    <tr>\n",
       "      <th>9</th>\n",
       "      <td>0</td>\n",
       "      <td>0</td>\n",
       "      <td>0</td>\n",
       "      <td>0</td>\n",
       "      <td>2</td>\n",
       "      <td>0</td>\n",
       "      <td>0</td>\n",
       "      <td>2</td>\n",
       "      <td>0</td>\n",
       "      <td>9</td>\n",
       "    </tr>\n",
       "  </tbody>\n",
       "</table>\n",
       "</div>"
      ],
      "text/plain": [
       "col_0  0   1  2   3   4  5  6   7  8  9\n",
       "row_0                                  \n",
       "0      8   0  0   0   0  0  0   0  0  0\n",
       "1      0  14  0   0   0  0  0   0  0  0\n",
       "2      0   0  7   0   0  1  1   1  0  0\n",
       "3      0   0  1  11   0  2  0   0  0  0\n",
       "4      0   0  0   0  11  1  0   0  0  0\n",
       "5      0   0  0   0   0  2  0   0  1  0\n",
       "6      0   0  0   0   1  0  9   0  0  0\n",
       "7      0   0  0   0   0  1  0  12  0  2\n",
       "8      0   0  0   0   0  0  0   0  1  0\n",
       "9      0   0  0   0   2  0  0   2  0  9"
      ]
     },
     "execution_count": 14,
     "metadata": {},
     "output_type": "execute_result"
    }
   ],
   "source": [
    "y_hat = model.predict_classes(X_test)\n",
    "print(y_hat.shape)\n",
    "print('y_hat: ',y_hat[:20])\n",
    "print('y_test:',y_test[:20])\n",
    "print(y_test.shape)\n",
    "pd.crosstab(y_hat, y_test)"
   ]
  },
  {
   "cell_type": "code",
   "execution_count": null,
   "metadata": {
    "collapsed": true
   },
   "outputs": [],
   "source": []
  }
 ],
 "metadata": {
  "anaconda-cloud": {},
  "kernelspec": {
   "display_name": "Python 3",
   "language": "python",
   "name": "python3"
  },
  "language_info": {
   "codemirror_mode": {
    "name": "ipython",
    "version": 3
   },
   "file_extension": ".py",
   "mimetype": "text/x-python",
   "name": "python",
   "nbconvert_exporter": "python",
   "pygments_lexer": "ipython3",
   "version": "3.6.0"
  },
  "toc": {
   "colors": {
    "hover_highlight": "#DAA520",
    "running_highlight": "#FF0000",
    "selected_highlight": "#FFD700"
   },
   "moveMenuLeft": true,
   "nav_menu": {
    "height": "210px",
    "width": "252px"
   },
   "navigate_menu": true,
   "number_sections": true,
   "sideBar": true,
   "threshold": 4,
   "toc_cell": true,
   "toc_section_display": "block",
   "toc_window_display": false
  }
 },
 "nbformat": 4,
 "nbformat_minor": 0
}
