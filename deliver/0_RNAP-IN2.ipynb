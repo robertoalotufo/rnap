{
 "cells": [
  {
   "cell_type": "markdown",
   "metadata": {
    "toc": "true"
   },
   "source": [
    "# Table of Contents\n",
    " <p><div class=\"lev1 toc-item\"><a href=\"#Treinamento-Redes-Neurais-e-Aprendizado-Profundo-de-Máquina\" data-toc-modified-id=\"Treinamento-Redes-Neurais-e-Aprendizado-Profundo-de-Máquina-1\"><span class=\"toc-item-num\">1&nbsp;&nbsp;</span>Treinamento Redes Neurais e Aprendizado Profundo de Máquina</a></div><div class=\"lev2 toc-item\"><a href=\"#Conteúdo-para-treinamento-do-segundo-dia\" data-toc-modified-id=\"Conteúdo-para-treinamento-do-segundo-dia-11\"><span class=\"toc-item-num\">1.1&nbsp;&nbsp;</span>Conteúdo para treinamento do segundo dia</a></div><div class=\"lev3 toc-item\"><a href=\"#Glossário\" data-toc-modified-id=\"Glossário-111\"><span class=\"toc-item-num\">1.1.1&nbsp;&nbsp;</span><a href=\"Glossario.ipynb\" target=\"_blank\">Glossário</a></a></div><div class=\"lev3 toc-item\"><a href=\"#II---Introdução-a-redes-neurais\" data-toc-modified-id=\"II---Introdução-a-redes-neurais-112\"><span class=\"toc-item-num\">1.1.2&nbsp;&nbsp;</span>II - Introdução a redes neurais</a></div><div class=\"lev4 toc-item\"><a href=\"#Regressão-Linear-no-TensorFlow\" data-toc-modified-id=\"Regressão-Linear-no-TensorFlow-1121\"><span class=\"toc-item-num\">1.1.2.1&nbsp;&nbsp;</span>Regressão Linear no TensorFlow</a></div><div class=\"lev4 toc-item\"><a href=\"#Ilustrando-overfitting-e-underfitting,-regularização-com-exemplo-de--ajuste-de-polinômio\" data-toc-modified-id=\"Ilustrando-overfitting-e-underfitting,-regularização-com-exemplo-de--ajuste-de-polinômio-1122\"><span class=\"toc-item-num\">1.1.2.2&nbsp;&nbsp;</span>Ilustrando overfitting e underfitting, regularização com exemplo de  ajuste de polinômio</a></div><div class=\"lev4 toc-item\"><a href=\"#Ativações\" data-toc-modified-id=\"Ativações-1123\"><span class=\"toc-item-num\">1.1.2.3&nbsp;&nbsp;</span>Ativações</a></div><div class=\"lev4 toc-item\"><a href=\"#Dataset---Boston-Houses\" data-toc-modified-id=\"Dataset---Boston-Houses-1124\"><span class=\"toc-item-num\">1.1.2.4&nbsp;&nbsp;</span>Dataset - Boston Houses</a></div><div class=\"lev4 toc-item\"><a href=\"#Rede-Neural---implementação-matricial-com-backpropagation\" data-toc-modified-id=\"Rede-Neural---implementação-matricial-com-backpropagation-1125\"><span class=\"toc-item-num\">1.1.2.5&nbsp;&nbsp;</span>Rede Neural - implementação matricial com backpropagation</a></div><div class=\"lev4 toc-item\"><a href=\"#Rede-neural-densa-2-camadas\" data-toc-modified-id=\"Rede-neural-densa-2-camadas-1126\"><span class=\"toc-item-num\">1.1.2.6&nbsp;&nbsp;</span>Rede neural densa 2 camadas</a></div><div class=\"lev4 toc-item\"><a href=\"#Rede-Neural---implementação-matricial-com-regularização-L2\" data-toc-modified-id=\"Rede-Neural---implementação-matricial-com-regularização-L2-1127\"><span class=\"toc-item-num\">1.1.2.7&nbsp;&nbsp;</span>Rede Neural - implementação matricial com regularização L2</a></div><div class=\"lev4 toc-item\"><a href=\"#Rede-Neural---implementação-no-TensorFlow\" data-toc-modified-id=\"Rede-Neural---implementação-no-TensorFlow-1128\"><span class=\"toc-item-num\">1.1.2.8&nbsp;&nbsp;</span>Rede Neural - implementação no TensorFlow</a></div><div class=\"lev4 toc-item\"><a href=\"#Seleção-de-modelo\" data-toc-modified-id=\"Seleção-de-modelo-1129\"><span class=\"toc-item-num\">1.1.2.9&nbsp;&nbsp;</span>Seleção de modelo</a></div><div class=\"lev3 toc-item\"><a href=\"#III---Redes-neurais-profundas---redes-convolucionais\" data-toc-modified-id=\"III---Redes-neurais-profundas---redes-convolucionais-113\"><span class=\"toc-item-num\">1.1.3&nbsp;&nbsp;</span>III - Redes neurais profundas - redes convolucionais</a></div><div class=\"lev4 toc-item\"><a href=\"#Convolução-Keras/TensorFlow\" data-toc-modified-id=\"Convolução-Keras/TensorFlow-1131\"><span class=\"toc-item-num\">1.1.3.1&nbsp;&nbsp;</span>Convolução Keras/TensorFlow</a></div><div class=\"lev4 toc-item\"><a href=\"#Introdução-ao-Keras\" data-toc-modified-id=\"Introdução-ao-Keras-1132\"><span class=\"toc-item-num\">1.1.3.2&nbsp;&nbsp;</span>Introdução ao Keras</a></div>"
   ]
  },
  {
   "cell_type": "markdown",
   "metadata": {},
   "source": [
    "# Treinamento Redes Neurais e Aprendizado Profundo de Máquina\n",
    "\n",
    "<img src=\"../figures/capacurso.png\",width=600pt>\n",
    "\n"
   ]
  },
  {
   "cell_type": "markdown",
   "metadata": {},
   "source": [
    "## Conteúdo para treinamento do segundo dia\n",
    "\n",
    "### [Glossário](Glossario.ipynb)\n"
   ]
  },
  {
   "cell_type": "markdown",
   "metadata": {},
   "source": [
    "### II - Introdução a redes neurais\n",
    "\n",
    "#### Regressão Linear no TensorFlow\n",
    "- Conceitos novos:\n",
    "- Teoria: Estilo de programação linguagem de fluxo\n",
    "- Prática: Implementação da Regressão Linear no TensorFlow\n",
    "    * NB: [Regressão Linear Tensorflow](Regressao-Linear-tensorflow.ipynb) \n",
    "    "
   ]
  },
  {
   "cell_type": "markdown",
   "metadata": {
    "ExecuteTime": {
     "end_time": "2017-04-21T00:46:59.730628",
     "start_time": "2017-04-21T00:46:59.710761"
    }
   },
   "source": [
    "#### Ilustrando overfitting e underfitting, regularização com exemplo de  ajuste de polinômio\n",
    "- Conceitos novos:\n",
    "- Teoria: Conceito de overfitting e underfitting, conceito de regularização, função de custo\n",
    "- Prática: Explorando parâmetros de ajustes e parâmetros de regularização\n",
    " * NB: [Ajuste curvas: Overfitting - Underfitting - Regularização](overfitting_regularization.ipynb)\n",
    "\n",
    "#### Ativações\n",
    "- Conceitos novos: \n",
    "- Teoria: introdução aos novos tipos de ativações não lineares\n",
    "- Prática: programa que implementa a equação de diversas ativações\n",
    " * NB: [Ativações](Activations.ipynb)\n",
    "\n",
    "#### Dataset - Boston Houses\n",
    "- Conceitos novos:\n",
    "- Prática: Explorando um dataset, verificando consistência de dados\n",
    " * NB: [Conjunto de Dados Preços das casas de Boston](boston_housing.ipynb)\n",
    " \n",
    "#### Rede Neural - implementação matricial com backpropagation\n",
    "- Conceitos novos:\n",
    "- Teoria: concatenação de camadas, gradiente via backpropagation\n",
    "- Prática: implementação matricial rede neural\n",
    " * NB: [Rede neural implementação matricial - backpropagation](neural_networks.ipynb)\n",
    " * NB: [Rede neural implementação matricial - backpropagation com Bias](neural_networks_bias.ipynb)\n",
    " \n",
    "#### Rede neural densa 2 camadas\n",
    "- Conceitos novos:\n",
    "- Teoria: concatenação de camadas com elemento não linear reLU; retropropagação;\n",
    "- Prática: Dificuldade de otimização, falta de atributos\n",
    " * NB: [Rede Neural 2 camadas com reLU - Iris - usando Keras](Densas-2.ipynb)\n",
    "\n",
    "#### Rede Neural - implementação matricial com regularização L2\n",
    "- Conceitos novos:\n",
    "- Teoria: regularização L2\n",
    "- Prática: implementação matricial rede neural com regularização L2\n",
    " * NB: [Rede neural implementação matricial - regularização L2](neural_networks_l2.ipynb)\n",
    "\n",
    "#### Rede Neural - implementação no TensorFlow\n",
    "- Conceitos novos:\n",
    "- Prática: implementação da rede neural utilizando o TensorFlow\n",
    " * NB: [Rede neural implementação no tensorflow](neural_networks_tf.ipynb)\n",
    "\n",
    "#### Seleção de modelo\n",
    "- Conceitos novos:\n",
    "- Teoria: Processo de seleção de modelo, busca de hyperparâmetros\n",
    "- Prática: Divisão do conjunto de dados: treino, validação e testes.\n",
    "- seleção de modelo, busca por ajuste de hyperparâmetros\n",
    " * NB: [Seleção de modelo](model_selection.ipynb)\n",
    " "
   ]
  },
  {
   "cell_type": "markdown",
   "metadata": {},
   "source": [
    "### III - Redes neurais profundas - redes convolucionais\n",
    "\n",
    "#### Convolução Keras/TensorFlow\n",
    "- Conceitos novos:\n",
    "- Teoria: Convolução, processamento borda, zero-padding, dimensionalidade dos arrays\n",
    "- Prática: rede convolucional no Keras, variação de número de imagens, kernels e filtros de saída\n",
    " * NB: [Convolução](Explorando-Convolucao-no-Keras-usando-TensorFlow.ipynb)\n",
    "\n",
    "#### Introdução ao Keras\n",
    "- Conceitos novos:\n",
    "- Prática: Keras, criando o modelo, colocando pesos, retirando pesos e retirando camadas\n",
    " * NB: [Introdução ao Keras](Introducao-CNN-Keras.ipynb)\n"
   ]
  }
 ],
 "metadata": {
  "anaconda-cloud": {},
  "kernelspec": {
   "display_name": "Python 3",
   "language": "python",
   "name": "python3"
  },
  "language_info": {
   "codemirror_mode": {
    "name": "ipython",
    "version": 3
   },
   "file_extension": ".py",
   "mimetype": "text/x-python",
   "name": "python",
   "nbconvert_exporter": "python",
   "pygments_lexer": "ipython3",
   "version": "3.6.0"
  },
  "toc": {
   "colors": {
    "hover_highlight": "#DAA520",
    "running_highlight": "#FF0000",
    "selected_highlight": "#FFD700"
   },
   "moveMenuLeft": true,
   "nav_menu": {
    "height": "512px",
    "width": "252px"
   },
   "navigate_menu": true,
   "number_sections": true,
   "sideBar": true,
   "threshold": 4,
   "toc_cell": true,
   "toc_section_display": "block",
   "toc_window_display": false
  }
 },
 "nbformat": 4,
 "nbformat_minor": 0
}
