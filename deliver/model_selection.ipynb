{
 "cells": [
  {
   "cell_type": "markdown",
   "metadata": {
    "toc": "true"
   },
   "source": [
    "# Table of Contents\n",
    " <p><div class=\"lev1 toc-item\"><a href=\"#Avaliação-e-seleção-de-modelos\" data-toc-modified-id=\"Avaliação-e-seleção-de-modelos-1\"><span class=\"toc-item-num\">1&nbsp;&nbsp;</span>Avaliação e seleção de modelos</a></div><div class=\"lev2 toc-item\"><a href=\"#Introdução\" data-toc-modified-id=\"Introdução-11\"><span class=\"toc-item-num\">1.1&nbsp;&nbsp;</span>Introdução</a></div><div class=\"lev3 toc-item\"><a href=\"#Treinamento-e-teste\" data-toc-modified-id=\"Treinamento-e-teste-111\"><span class=\"toc-item-num\">1.1.1&nbsp;&nbsp;</span>Treinamento e teste</a></div><div class=\"lev3 toc-item\"><a href=\"#Treinamento,-validação-e-teste\" data-toc-modified-id=\"Treinamento,-validação-e-teste-112\"><span class=\"toc-item-num\">1.1.2&nbsp;&nbsp;</span>Treinamento, validação e teste</a></div><div class=\"lev3 toc-item\"><a href=\"#Validação-cruzada\" data-toc-modified-id=\"Validação-cruzada-113\"><span class=\"toc-item-num\">1.1.3&nbsp;&nbsp;</span>Validação cruzada</a></div><div class=\"lev2 toc-item\"><a href=\"#Conjuntos-de-dados\" data-toc-modified-id=\"Conjuntos-de-dados-12\"><span class=\"toc-item-num\">1.2&nbsp;&nbsp;</span>Conjuntos de dados</a></div><div class=\"lev2 toc-item\"><a href=\"#Grid-search\" data-toc-modified-id=\"Grid-search-13\"><span class=\"toc-item-num\">1.3&nbsp;&nbsp;</span>Grid-search</a></div><div class=\"lev3 toc-item\"><a href=\"#Sintonia-de-hiperparâmetros\" data-toc-modified-id=\"Sintonia-de-hiperparâmetros-131\"><span class=\"toc-item-num\">1.3.1&nbsp;&nbsp;</span>Sintonia de hiperparâmetros</a></div><div class=\"lev3 toc-item\"><a href=\"#Avaliação-de-desempenho\" data-toc-modified-id=\"Avaliação-de-desempenho-132\"><span class=\"toc-item-num\">1.3.2&nbsp;&nbsp;</span>Avaliação de desempenho</a></div><div class=\"lev2 toc-item\"><a href=\"#Random-search\" data-toc-modified-id=\"Random-search-14\"><span class=\"toc-item-num\">1.4&nbsp;&nbsp;</span>Random search</a></div><div class=\"lev3 toc-item\"><a href=\"#Sintonia-de-hiperparâmetros\" data-toc-modified-id=\"Sintonia-de-hiperparâmetros-141\"><span class=\"toc-item-num\">1.4.1&nbsp;&nbsp;</span>Sintonia de hiperparâmetros</a></div><div class=\"lev3 toc-item\"><a href=\"#Avaliação-de-desempenho\" data-toc-modified-id=\"Avaliação-de-desempenho-142\"><span class=\"toc-item-num\">1.4.2&nbsp;&nbsp;</span>Avaliação de desempenho</a></div><div class=\"lev2 toc-item\"><a href=\"#Aprendizado-neste-notebook\" data-toc-modified-id=\"Aprendizado-neste-notebook-15\"><span class=\"toc-item-num\">1.5&nbsp;&nbsp;</span>Aprendizado neste notebook</a></div>"
   ]
  },
  {
   "cell_type": "markdown",
   "metadata": {
    "deletable": true,
    "editable": true
   },
   "source": [
    "# Avaliação e seleção de modelos \n",
    "\n",
    "- conjuntos de dados\n",
    "- busca de hiperparâmetros\n",
    "- avaliação\n"
   ]
  },
  {
   "cell_type": "markdown",
   "metadata": {
    "deletable": true,
    "editable": true
   },
   "source": [
    "## Introdução"
   ]
  },
  {
   "cell_type": "markdown",
   "metadata": {
    "deletable": true,
    "editable": true
   },
   "source": [
    "### Treinamento e teste\n",
    "\n",
    "<table align='left'>\n",
    "<tr><td> <img src=\"https://sebastianraschka.com/images/blog/2016/model-evaluation-selection-part1/testing.png\" alt=\"Drawing\" style=\"width: 600px;\"/> </td></tr>\n",
    "</table>"
   ]
  },
  {
   "cell_type": "markdown",
   "metadata": {
    "deletable": true,
    "editable": true
   },
   "source": [
    "\n",
    "### Treinamento, validação e teste</h2>\n",
    "\n",
    "<table align='left'>\n",
    "<tr><td> <img src=\"https://sebastianraschka.com/images/blog/2016/model-evaluation-selection-part3/holdout-validation.png\" alt=\"Drawing\" style=\"width: 600px;\"/> </td></tr>\n",
    "</table>"
   ]
  },
  {
   "cell_type": "markdown",
   "metadata": {
    "deletable": true,
    "editable": true
   },
   "source": [
    "### Validação cruzada\n",
    "\n",
    "<table align='left'>\n",
    "<tr><td> <img src=\"https://sebastianraschka.com/images/blog/2016/model-evaluation-selection-part3/kfold.png\" alt=\"Drawing\" style=\"width: 600px;\"/> </td></tr>\n",
    "</table>"
   ]
  },
  {
   "cell_type": "code",
   "execution_count": 1,
   "metadata": {
    "collapsed": false,
    "deletable": true,
    "editable": true
   },
   "outputs": [
    {
     "name": "stderr",
     "output_type": "stream",
     "text": [
      "Using TensorFlow backend.\n"
     ]
    },
    {
     "name": "stdout",
     "output_type": "stream",
     "text": [
      "Keras:   2.0.4\n",
      "Numpy:   1.12.1\n",
      "Sklearn: 0.18.1\n"
     ]
    }
   ],
   "source": [
    "%matplotlib inline\n",
    "import matplotlib.pyplot as plot\n",
    "from IPython import display\n",
    "\n",
    "import time\n",
    "import numpy as np\n",
    "import argparse\n",
    "\n",
    "import sys\n",
    "import keras\n",
    "import sklearn\n",
    "from keras.models import Sequential, load_model, Model\n",
    "from keras.layers.convolutional import Convolution2D\n",
    "from keras.layers.convolutional import MaxPooling2D\n",
    "from keras.layers.core import Activation\n",
    "from keras.layers.core import Flatten\n",
    "from keras.layers.core import Dense\n",
    "from keras.layers.core import Dropout\n",
    "from keras.regularizers import l2\n",
    "\n",
    "from keras.optimizers import SGD\n",
    "from keras.callbacks import Callback\n",
    "from keras.callbacks import History\n",
    "from keras.callbacks import ModelCheckpoint\n",
    "from keras.callbacks import EarlyStopping\n",
    "from keras.callbacks import LearningRateScheduler\n",
    "from keras.utils import np_utils\n",
    "\n",
    "print('Keras:  ', keras.__version__)\n",
    "print('Numpy:  ', np.__version__)\n",
    "print('Sklearn:', sklearn.__version__)"
   ]
  },
  {
   "cell_type": "markdown",
   "metadata": {
    "deletable": true,
    "editable": true
   },
   "source": [
    "## Conjuntos de dados\n",
    "\n",
    "- Treinamento \n",
    "- Validação\n",
    "- Testes\n",
    "\n",
    "<table align='left'>\n",
    "<tr><td> <img src=\"https://sebastianraschka.com/images/blog/2016/model-evaluation-selection-part3/holdout-validation_01.png\" alt=\"Drawing\" style=\"width: 800px;\"/> </td></tr>\n",
    "</table>\n"
   ]
  },
  {
   "cell_type": "code",
   "execution_count": 2,
   "metadata": {
    "collapsed": false,
    "deletable": true,
    "editable": true
   },
   "outputs": [
    {
     "name": "stdout",
     "output_type": "stream",
     "text": [
      "(10000, 196) (5000, 196)\n",
      "(10000, 5) (5000, 5)\n",
      "índices para o treinamento: [   0    1    2 ..., 6663 6664 6665] (6666,)\n",
      "índices para a validação:   [6666 6667 6668 ..., 9997 9998 9999] (3334,)\n"
     ]
    }
   ],
   "source": [
    "sys.path.append('../src')\n",
    "from keras.datasets import mnist\n",
    "from my_keras_utilities import (TrainingPlotter)\n",
    "\n",
    "(X_train, y_train_), (X_test, y_test_) = mnist.load_data()\n",
    "\n",
    "X_train = X_train[y_train_ < 5, ::2, ::2].reshape(-1, 14*14) / 255.0\n",
    "X_test  = X_test[y_test_ < 5, ::2, ::2].reshape(-1, 14*14) / 255.0\n",
    "y_train = np_utils.to_categorical(y_train_[y_train_ < 5], 5)\n",
    "y_test = np_utils.to_categorical(y_test_[y_test_ < 5], 5)\n",
    "\n",
    "# print(X_train.shape, X_test.shape)\n",
    "# print(y_train.shape, y_test.shape)\n",
    "\n",
    "Xtra = X_train[:10000]\n",
    "ytra = y_train[:10000]\n",
    "Xtst = X_test[:5000]\n",
    "ytst = y_test[:5000]\n",
    "\n",
    "print(Xtra.shape, Xtst.shape)\n",
    "print(ytra.shape, ytst.shape)\n",
    "\n",
    "# determina índices para os conjuntos de teste e validação\n",
    "nn = Xtra.shape[0]\n",
    "ii = nn // 3\n",
    "ii_trn, ii_val = np.arange(2*ii), np.arange(2*ii, nn)\n",
    "print('índices para o treinamento:', ii_trn, ii_trn.shape)\n",
    "print('índices para a validação:  ', ii_val, ii_val.shape)\n",
    "\n",
    "n_features = Xtra.shape[1]\n",
    "n_classes = ytra.shape[1]"
   ]
  },
  {
   "cell_type": "code",
   "execution_count": 3,
   "metadata": {
    "collapsed": false,
    "deletable": true,
    "editable": true
   },
   "outputs": [],
   "source": [
    "from sklearn.model_selection import GridSearchCV, RandomizedSearchCV, train_test_split\n",
    "from keras.wrappers.scikit_learn import KerasClassifier\n",
    "\n",
    "counter = 0\n",
    "\n",
    "class MyKerasClassifier(KerasClassifier):\n",
    "\n",
    "    def get_params(self, deep=True):\n",
    "        return super(MyKerasClassifier, self).get_params()\n",
    "\n",
    "    def fit(self, X, y, **kwargs):\n",
    "        global counter\n",
    "        t0 = time.time()\n",
    "        \n",
    "        print('{:3d}: {}'.format(counter, self.filter_sk_params(self.build_fn)), end=' ')\n",
    "        sys.stdout.flush()\n",
    "        counter += 1\n",
    "                \n",
    "        kw = dict(callbacks=[ModelCheckpoint('../../models/_search_tmp.model', save_best_only=True), \n",
    "                             EarlyStopping(patience=15, verbose=0)])\n",
    "        kw.update(kwargs)\n",
    "        \n",
    "        hh = super(MyKerasClassifier, self).fit(X, y, **kw)\n",
    "        self.model = load_model('../../models/_search_tmp.model')\n",
    "        \n",
    "        et = time.time() - t0\n",
    "        print(' [{:.1f}s]'.format(et))\n",
    "        return hh\n",
    "        \n",
    "    def score(self, X, y, **kwargs):\n",
    "        score = super(MyKerasClassifier, self).score(X, y, **kwargs)\n",
    "        print('     score: {}'.format(score))\n",
    "        return score\n",
    "    \n",
    "def make_model(lr=0.01, momentum=0.9, dropout=0.5):\n",
    "    model = SmallFCNet.build(width=n_features, classes=n_classes, dropout=dropout)\n",
    "    optimizer = SGD(lr=lr, momentum=momentum, nesterov=True)\n",
    "    model.compile(loss=\"categorical_crossentropy\", optimizer=optimizer, metrics=[\"accuracy\"])    \n",
    "    return model"
   ]
  },
  {
   "cell_type": "code",
   "execution_count": 8,
   "metadata": {
    "collapsed": true,
    "deletable": true,
    "editable": true
   },
   "outputs": [],
   "source": [
    "def train_network(optimizer, X_train, y_train, X_test, y_test, dropout=0.5, nepochs=50, ploss=0.25):\n",
    "    print(\"[INFO] creating model...\")\n",
    "    model = SmallFCNet.build(width=n_features, classes=n_classes, dropout=dropout)\n",
    "\n",
    "    # History, checkpoint, earlystop, plot losses:\n",
    "    histo = TrainingPlotter(n=1, patience=10)\n",
    "    \n",
    "    # initialize the optimizer and model\n",
    "    print(\"[INFO] compiling model...\")\n",
    "    model.compile(loss=\"categorical_crossentropy\", optimizer=optimizer, metrics=[\"accuracy\"])    \n",
    "\n",
    "    fig = plot.figure(figsize=(15,6))\n",
    "    plot.ylim(0.0, ploss)\n",
    "    plot.xlim(0, nepochs)\n",
    "    plot.grid(True)\n",
    "\n",
    "    print(\"[INFO] training...\")\n",
    "    try:\n",
    "        histo2 = model.fit(X_train, y_train, batch_size=128, epochs=nepochs, \n",
    "                           verbose=0, validation_split=0.33, callbacks=[histo])\n",
    "    except KeyboardInterrupt:\n",
    "        pass\n",
    "\n",
    "    print(\"[INFO] evaluating...\")\n",
    "    loss, accuracy = model.evaluate(X_test, y_test, batch_size=128, verbose=1)\n",
    "    print(\"[INFO] accuracy: {:.2f}%\".format(accuracy * 100))\n",
    "    \n",
    "    return model, histo\n"
   ]
  },
  {
   "cell_type": "code",
   "execution_count": 5,
   "metadata": {
    "collapsed": true,
    "deletable": true,
    "editable": true
   },
   "outputs": [],
   "source": [
    "class SmallFCNet:\n",
    "    @staticmethod\n",
    "    def build(width, classes, dropout):\n",
    "        model = Sequential()        \n",
    "        model.add(Dense(100, activation='relu', input_dim=width))\n",
    "        model.add(Dropout(dropout))\n",
    "        model.add(Dense(classes, activation='softmax'))\n",
    "        return model\n"
   ]
  },
  {
   "cell_type": "markdown",
   "metadata": {
    "deletable": true,
    "editable": true
   },
   "source": [
    "## Grid-search\n",
    "\n",
    "### Sintonia de hiperparâmetros\n",
    "\n",
    "http://scikit-learn.org/stable/modules/generated/sklearn.model_selection.GridSearchCV.html\n",
    "\n",
    "<table align='left'>\n",
    "<tr><td> <img src=\"https://sebastianraschka.com/images/blog/2016/model-evaluation-selection-part3/holdout-validation_02.png\" alt=\"Drawing\" style=\"width: 800px;\"/> </td></tr>\n",
    "<tr><td> <img src=\"https://sebastianraschka.com/images/blog/2016/model-evaluation-selection-part3/holdout-validation_03.png\" alt=\"Drawing\" style=\"width: 800px;\"/> </td></tr>\n",
    "</table>\n"
   ]
  },
  {
   "cell_type": "code",
   "execution_count": 6,
   "metadata": {
    "collapsed": false,
    "deletable": true,
    "editable": true,
    "scrolled": false
   },
   "outputs": [
    {
     "name": "stdout",
     "output_type": "stream",
     "text": [
      "  0: {'dropout': 0.2, 'lr': 0.01, 'momentum': 0.9}  [3.9s]\n",
      "     score: 0.9577084583083383\n",
      "     score: 0.9641464146414641\n",
      "  1: {'dropout': 0.2, 'lr': 0.05, 'momentum': 0.9}  [3.4s]\n",
      "     score: 0.9721055788842231\n",
      "     score: 0.9857485748574858\n",
      "  2: {'dropout': 0.2, 'lr': 0.1, 'momentum': 0.9}  [3.5s]\n",
      "     score: 0.9778044391121775\n",
      "     score: 0.9941494149414941\n",
      "  3: {'dropout': 0.5, 'lr': 0.01, 'momentum': 0.9}  [3.6s]\n",
      "     score: 0.9577084583083383\n",
      "     score: 0.9621962196219622\n",
      "  4: {'dropout': 0.5, 'lr': 0.05, 'momentum': 0.9}  [3.8s]\n",
      "     score: 0.9697060587882423\n",
      "     score: 0.9816981698169817\n",
      "  5: {'dropout': 0.5, 'lr': 0.1, 'momentum': 0.9}  [3.7s]\n",
      "     score: 0.9754049190161967\n",
      "     score: 0.9905490549054905\n",
      "  6: {'dropout': 0.7, 'lr': 0.01, 'momentum': 0.9}  [4.0s]\n",
      "     score: 0.9535092981403719\n",
      "     score: 0.9576957695769577\n",
      "  7: {'dropout': 0.7, 'lr': 0.05, 'momentum': 0.9}  [3.9s]\n",
      "     score: 0.9661067786442712\n",
      "     score: 0.9792979297929792\n",
      "  8: {'dropout': 0.7, 'lr': 0.1, 'momentum': 0.9}  [4.2s]\n",
      "     score: 0.9739052189562087\n",
      "     score: 0.9837983798379838\n",
      "  9: {'dropout': 0.2, 'lr': 0.1, 'momentum': 0.9}  [9.8s]\n",
      "\n",
      "The parameters of the best model are:  {'dropout': 0.2, 'lr': 0.1, 'momentum': 0.9}\n"
     ]
    }
   ],
   "source": [
    "counter = 0\n",
    "my_classifier = MyKerasClassifier(make_model, batch_size=128, nb_epoch=50, verbose=0)\n",
    "\n",
    "param_grid = {\n",
    "    'lr': [0.01, 0.05, 0.1],\n",
    "    'momentum': [0.9],\n",
    "    'dropout': [0.2, 0.5, 0.7],\n",
    "}\n",
    "\n",
    "validator = GridSearchCV(my_classifier, \n",
    "                         param_grid=param_grid, \n",
    "                         cv=[(ii_trn, ii_val)],\n",
    "                         fit_params=dict(validation_data=(X_train[ii_val], y_train[ii_val])))\n",
    "\n",
    "try:\n",
    "    validator.fit(X_train, y_train)\n",
    "    print()\n",
    "except KeyboardInterrupt:\n",
    "    pass\n",
    "else:\n",
    "    print('The parameters of the best model are: ', validator.best_params_)"
   ]
  },
  {
   "cell_type": "markdown",
   "metadata": {
    "deletable": true,
    "editable": true
   },
   "source": [
    "### Avaliação de desempenho\n",
    "\n",
    "<table align='left'>\n",
    "<tr><td> <img src=\"https://sebastianraschka.com/images/blog/2016/model-evaluation-selection-part3/holdout-validation_04.png\" alt=\"Drawing\" style=\"width: 800px;\"/> </td></tr>\n",
    "<tr><td> <img src=\"https://sebastianraschka.com/images/blog/2016/model-evaluation-selection-part3/holdout-validation_05.png\" alt=\"Drawing\" style=\"width: 800px;\"/> </td></tr>\n",
    "</table>\n"
   ]
  },
  {
   "cell_type": "code",
   "execution_count": 9,
   "metadata": {
    "collapsed": false,
    "deletable": true,
    "editable": true
   },
   "outputs": [
    {
     "name": "stdout",
     "output_type": "stream",
     "text": [
      "[INFO] evaluating...\n",
      "3840/5139 [=====================>........] - ETA: 0s\b\b\b\b\b\b\b\b\b\b\b\b\b\b\b\b\b\b\b\b\b\b\b\b\b\b\b\b\b\b\b\b\b\b\b\b\b\b\b\b\b\b\b\b\b\b\b\b\b\b\b\b[INFO] accuracy: 99.34%\n"
     ]
    },
    {
     "data": {
      "image/png": "[encoded data removed]",
      "text/plain": [
       "<matplotlib.figure.Figure at 0x7fefccb99048>"
      ]
     },
     "metadata": {},
     "output_type": "display_data"
    }
   ],
   "source": [
    "best = validator.best_params_\n",
    "lr = best['lr']\n",
    "momentum = best['momentum']\n",
    "dropout = best['dropout']\n",
    "optimizer = SGD(lr=lr, momentum=momentum, nesterov=True)\n",
    "model, histo = train_network(optimizer, X_train, y_train, X_test, y_test, \n",
    "                             dropout=dropout, nepochs=100, ploss=0.25)"
   ]
  },
  {
   "cell_type": "markdown",
   "metadata": {
    "deletable": true,
    "editable": true
   },
   "source": [
    "## Random search\n",
    "\n",
    "### Sintonia de hiperparâmetros\n",
    "\n",
    "http://scikit-learn.org/stable/modules/generated/sklearn.model_selection.RandomizedSearchCV.html"
   ]
  },
  {
   "cell_type": "code",
   "execution_count": 10,
   "metadata": {
    "collapsed": false,
    "deletable": true,
    "editable": true
   },
   "outputs": [
    {
     "name": "stdout",
     "output_type": "stream",
     "text": [
      "  0: {'dropout': 0.2, 'lr': 0.26694495482957081, 'momentum': 0.9}  [4.1s]\n",
      "     score: 0.9826034793041392\n",
      "     score: 0.9971497149714972\n",
      "  1: {'dropout': 0.7, 'lr': 0.37525250918491476, 'momentum': 0.9}  [4.2s]\n",
      "     score: 0.9658068386322736\n",
      "     score: 0.9711971197119712\n",
      "  2: {'dropout': 0.5, 'lr': 0.13404415275378392, 'momentum': 0.9}  [4.7s]\n",
      "     score: 0.979004199160168\n",
      "     score: 0.9905490549054905\n",
      "  3: {'dropout': 0.5, 'lr': 0.078851464779269548, 'momentum': 0.9}  [4.4s]\n",
      "     score: 0.9718056388722256\n",
      "     score: 0.984998499849985\n",
      "  4: {'dropout': 0.2, 'lr': 0.33513353145954222, 'momentum': 0.9}  [4.5s]\n",
      "     score: 0.9853029394121176\n",
      "     score: 0.9978997899789979\n",
      "  5: {'dropout': 0.7, 'lr': 0.14630882256787744, 'momentum': 0.9}  [4.6s]\n",
      "     score: 0.9697060587882423\n",
      "     score: 0.9846984698469847\n",
      "  6: {'dropout': 0.2, 'lr': 0.30837493541632799, 'momentum': 0.9}  [5.1s]\n",
      "     score: 0.9814037192561488\n",
      "     score: 0.9957995799579958\n",
      "  7: {'dropout': 0.5, 'lr': 0.19845768220677318, 'momentum': 0.9}  [4.9s]\n",
      "     score: 0.9802039592081584\n",
      "     score: 0.9908490849084909\n",
      "  8: {'dropout': 0.7, 'lr': 0.050422434012810706, 'momentum': 0.9}  [4.9s]\n",
      "     score: 0.9706058788242351\n",
      "     score: 0.9773477347734774\n",
      "  9: {'dropout': 0.2, 'lr': 0.35517099691305842, 'momentum': 0.9}  [5.1s]\n",
      "     score: 0.9850029994001199\n",
      "     score: 0.9962496249624962\n",
      " 10: {'dropout': 0.2, 'lr': 0.054969072713919355, 'momentum': 0.9}  [5.6s]\n",
      "     score: 0.973005398920216\n",
      "     score: 0.9867986798679867\n",
      " 11: {'dropout': 0.5, 'lr': 0.39633167745399406, 'momentum': 0.9}  [5.2s]\n",
      "     score: 0.9823035392921415\n",
      "     score: 0.9902490249024902\n",
      " 12: {'dropout': 0.7, 'lr': 0.22442040465494417, 'momentum': 0.9}  [5.4s]\n",
      "     score: 0.9694061187762447\n",
      "     score: 0.9807980798079808\n",
      " 13: {'dropout': 0.5, 'lr': 0.061398106648886702, 'momentum': 0.9}  [5.5s]\n",
      "     score: 0.9763047390521895\n",
      "     score: 0.9867986798679867\n",
      " 14: {'dropout': 0.5, 'lr': 0.19812533903040283, 'momentum': 0.9}  [5.5s]\n",
      "     score: 0.9769046190761848\n",
      "     score: 0.9915991599159916\n",
      " 15: {'dropout': 0.7, 'lr': 0.25068326922160594, 'momentum': 0.9}  [6.2s]\n",
      "     score: 0.9736052789442111\n",
      "     score: 0.9864986498649865\n",
      " 16: {'dropout': 0.5, 'lr': 0.3656828638166994, 'momentum': 0.9}  [5.7s]\n",
      "     score: 0.9778044391121775\n",
      "     score: 0.9876987698769877\n",
      " 17: {'dropout': 0.5, 'lr': 0.33027469407151899, 'momentum': 0.9}  [5.9s]\n",
      "     score: 0.980503899220156\n",
      "     score: 0.9924992499249925\n",
      " 18: {'dropout': 0.5, 'lr': 0.233761707516843, 'momentum': 0.9}  [6.0s]\n",
      "     score: 0.9829034193161368\n",
      "     score: 0.9924992499249925\n",
      " 19: {'dropout': 0.7, 'lr': 0.10907045083257189, 'momentum': 0.9}  [6.1s]\n",
      "     score: 0.9712057588482303\n",
      "     score: 0.9812481248124812\n",
      " 20: {'dropout': 0.2, 'lr': 0.33513353145954222, 'momentum': 0.9}  [12.2s]\n",
      "\n",
      "The parameters of the best model are:  {'dropout': 0.2, 'lr': 0.33513353145954222, 'momentum': 0.9}\n"
     ]
    }
   ],
   "source": [
    "import scipy.stats as st\n",
    "\n",
    "counter = 0\n",
    "my_classifier = MyKerasClassifier(make_model, batch_size=128, nb_epoch=50, verbose=0)\n",
    "\n",
    "param_dist={\n",
    "    'lr':       st.uniform(0.001, 0.4),\n",
    "    'momentum': [0.9],\n",
    "    'dropout':  [0.2, 0.5, 0.7],\n",
    "}\n",
    "validator = RandomizedSearchCV(my_classifier, \n",
    "                               param_distributions=param_dist, \n",
    "                               n_iter=20,\n",
    "                               cv=[(ii_trn, ii_val)],\n",
    "                               fit_params=dict(validation_data=(X_train[ii_val], y_train[ii_val])),\n",
    "                              )\n",
    "\n",
    "try:\n",
    "    validator.fit(X_train, y_train)\n",
    "    print()\n",
    "except KeyboardInterrupt:\n",
    "    pass\n",
    "else:\n",
    "    print('The parameters of the best model are: ', validator.best_params_)"
   ]
  },
  {
   "cell_type": "markdown",
   "metadata": {
    "deletable": true,
    "editable": true
   },
   "source": [
    "### Avaliação de desempenho\n"
   ]
  },
  {
   "cell_type": "code",
   "execution_count": 11,
   "metadata": {
    "collapsed": false,
    "deletable": true,
    "editable": true,
    "scrolled": false
   },
   "outputs": [
    {
     "name": "stdout",
     "output_type": "stream",
     "text": [
      "[INFO] evaluating...\n",
      "3456/5139 [===================>..........] - ETA: 0s\b\b\b\b\b\b\b\b\b\b\b\b\b\b\b\b\b\b\b\b\b\b\b\b\b\b\b\b\b\b\b\b\b\b\b\b\b\b\b\b\b\b\b\b\b\b\b\b\b\b\b\b[INFO] accuracy: 99.24%\n"
     ]
    },
    {
     "data": {
      "image/png": "[encoded data removed]",
      "text/plain": [
       "<matplotlib.figure.Figure at 0x7fefbec6c278>"
      ]
     },
     "metadata": {},
     "output_type": "display_data"
    }
   ],
   "source": [
    "best = validator.best_params_\n",
    "lr = best['lr']\n",
    "momentum = best['momentum']\n",
    "dropout = best['dropout']\n",
    "optimizer = SGD(lr=lr, momentum=momentum, nesterov=True)\n",
    "model, histo = train_network(optimizer, X_train, y_train, X_test, y_test, \n",
    "                             dropout=dropout, nepochs=100, ploss=0.25)"
   ]
  },
  {
   "cell_type": "markdown",
   "metadata": {
    "collapsed": true,
    "deletable": true,
    "editable": true
   },
   "source": [
    "## Aprendizado neste notebook\n",
    "\n",
    "1. Early stop - não é necessário rodar todas as épocas previstas, quando a rede executada sobre os dados de validação não melhorar mais por n épocas de paciência, o treinamento pára e salva o melhor parâmetro \n",
    "2. Busca de hyperparâmetros - conceito de testar vários parâmetros e procurar o melhor deles. Há necessidade de dados de treinamento e de validação. Pode ser exaustivo ou aleatório.\n",
    "3. Esta implementação utiliza o grid-search do sklearn através do Keras\n",
    "4. Lembrar que o conjunto de teste não deveria ser utilizado mais que uma vez\n"
   ]
  }
 ],
 "metadata": {
  "anaconda-cloud": {},
  "kernelspec": {
   "display_name": "Python 3",
   "language": "python",
   "name": "python3"
  },
  "language_info": {
   "codemirror_mode": {
    "name": "ipython",
    "version": 3
   },
   "file_extension": ".py",
   "mimetype": "text/x-python",
   "name": "python",
   "nbconvert_exporter": "python",
   "pygments_lexer": "ipython3",
   "version": "3.4.3"
  },
  "latex_envs": {
   "LaTeX_envs_menu_present": true,
   "autocomplete": true,
   "bibliofile": "biblio.bib",
   "cite_by": "apalike",
   "current_citInitial": 1,
   "eqLabelWithNumbers": true,
   "eqNumInitial": 1,
   "hotkeys": {
    "equation": "Ctrl-E",
    "itemize": "Ctrl-I"
   },
   "labels_anchors": false,
   "latex_user_defs": false,
   "report_style_numbering": false,
   "user_envs_cfg": false
  },
  "toc": {
   "colors": {
    "hover_highlight": "#DAA520",
    "running_highlight": "#FF0000",
    "selected_highlight": "#FFD700"
   },
   "moveMenuLeft": true,
   "nav_menu": {
    "height": "264px",
    "width": "252px"
   },
   "navigate_menu": true,
   "number_sections": true,
   "sideBar": true,
   "threshold": 4,
   "toc_cell": true,
   "toc_section_display": "block",
   "toc_window_display": false,
   "widenNotebook": false
  }
 },
 "nbformat": 4,
 "nbformat_minor": 2
}
