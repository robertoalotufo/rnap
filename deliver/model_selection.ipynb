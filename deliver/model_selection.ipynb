{
 "cells": [
  {
   "cell_type": "markdown",
   "metadata": {},
   "source": [
    "# Avaliação e seleção de modelos \n",
    "\n",
    "- conjuntos de dados\n",
    "- busca de hiperparâmetros\n",
    "- avaliação\n"
   ]
  },
  {
   "cell_type": "markdown",
   "metadata": {},
   "source": [
    "## Índice\n",
    "- [1. Introdução](#1.-Introdução)\n",
    "- [2. Conjunto de Dados](#2.-Conjuntos-de-dados)\n",
    "- [3. Grid Search](#3.-Grid-search)\n",
    "- [4. Random search](#4.-Random-search)"
   ]
  },
  {
   "cell_type": "markdown",
   "metadata": {},
   "source": [
    "## 1. Introdução"
   ]
  },
  {
   "cell_type": "markdown",
   "metadata": {},
   "source": [
    "### 1.1. Treinamento e teste\n",
    "\n",
    "<table align='left'>\n",
    "<tr><td> <img src=\"https://sebastianraschka.com/images/blog/2016/model-evaluation-selection-part1/testing.png\" alt=\"Drawing\" style=\"width: 600px;\"/> </td></tr>\n",
    "</table>"
   ]
  },
  {
   "cell_type": "markdown",
   "metadata": {},
   "source": [
    "\n",
    "### 1.2. Treinamento, validação e teste</h2>\n",
    "\n",
    "<table align='left'>\n",
    "<tr><td> <img src=\"https://sebastianraschka.com/images/blog/2016/model-evaluation-selection-part3/holdout-validation.png\" alt=\"Drawing\" style=\"width: 600px;\"/> </td></tr>\n",
    "</table>"
   ]
  },
  {
   "cell_type": "markdown",
   "metadata": {},
   "source": [
    "### 1.3. Validação cruzada\n",
    "\n",
    "<table align='left'>\n",
    "<tr><td> <img src=\"https://sebastianraschka.com/images/blog/2016/model-evaluation-selection-part3/kfold.png\" alt=\"Drawing\" style=\"width: 600px;\"/> </td></tr>\n",
    "</table>"
   ]
  },
  {
   "cell_type": "code",
   "execution_count": 3,
   "metadata": {
    "collapsed": true
   },
   "outputs": [],
   "source": [
    "import os\n",
    "os.environ['KERAS_BACKEND'] = 'theano'\n",
    "os.environ['THEANO_FLAGS'] = 'mode=FAST_RUN,device=gpu0,floatX=float32'\n",
    "# os.environ['THEANO_FLAGS'] = 'mode=FAST_RUN,device=cpu,floatX=float32'"
   ]
  },
  {
   "cell_type": "code",
   "execution_count": 4,
   "metadata": {
    "collapsed": false
   },
   "outputs": [
    {
     "name": "stdout",
     "output_type": "stream",
     "text": [
      "Keras:   1.2.0\n",
      "Theano:  0.8.2\n",
      "Numpy:   1.11.3\n",
      "Sklearn: 0.18.1\n"
     ]
    }
   ],
   "source": [
    "%matplotlib inline\n",
    "import matplotlib.pyplot as plot\n",
    "from IPython import display\n",
    "\n",
    "import time\n",
    "import numpy as np\n",
    "import argparse\n",
    "\n",
    "import sys\n",
    "import theano\n",
    "import keras\n",
    "import sklearn\n",
    "from keras.models import Sequential, load_model, Model\n",
    "from keras.layers.convolutional import Convolution2D\n",
    "from keras.layers.convolutional import MaxPooling2D\n",
    "from keras.layers.core import Activation\n",
    "from keras.layers.core import Flatten\n",
    "from keras.layers.core import Dense\n",
    "from keras.layers.core import Dropout\n",
    "from keras.regularizers import l2\n",
    "\n",
    "from keras.optimizers import SGD\n",
    "from keras.callbacks import Callback\n",
    "from keras.callbacks import History\n",
    "from keras.callbacks import ModelCheckpoint\n",
    "from keras.callbacks import EarlyStopping\n",
    "from keras.callbacks import LearningRateScheduler\n",
    "from keras.utils import np_utils\n",
    "\n",
    "print 'Keras:  ', keras.__version__\n",
    "print 'Theano: ', theano.__version__\n",
    "print 'Numpy:  ', np.__version__\n",
    "print 'Sklearn:', sklearn.__version__"
   ]
  },
  {
   "cell_type": "code",
   "execution_count": 5,
   "metadata": {
    "collapsed": true
   },
   "outputs": [],
   "source": [
    "from sklearn.model_selection import GridSearchCV, RandomizedSearchCV, train_test_split\n",
    "from keras.wrappers.scikit_learn import KerasClassifier\n",
    "\n",
    "counter = 0\n",
    "\n",
    "class MyKerasClassifier(KerasClassifier):\n",
    "\n",
    "    def get_params(self, deep=True):\n",
    "        return super(MyKerasClassifier, self).get_params(deep)\n",
    "\n",
    "    def fit(self, X, y, **kwargs):\n",
    "        global counter\n",
    "        t0 = time.time()\n",
    "        \n",
    "        print '{:3d}: {}'.format(counter, self.filter_sk_params(self.build_fn)),\n",
    "        sys.stdout.flush()\n",
    "        counter += 1\n",
    "                \n",
    "        kw = dict(callbacks=[ModelCheckpoint('../../models/_search_tmp.model', save_best_only=True), \n",
    "                             EarlyStopping(patience=15, verbose=0)])\n",
    "        kw.update(kwargs)\n",
    "        \n",
    "        hh = super(MyKerasClassifier, self).fit(X, y, **kw)\n",
    "        self.model = load_model('../../models/_search_tmp.model')\n",
    "        \n",
    "        et = time.time() - t0\n",
    "        print ' [{:.1f}s]'.format(et)\n",
    "        return hh\n",
    "        \n",
    "    def score(self, X, y, **kwargs):\n",
    "        score = super(MyKerasClassifier, self).score(X, y, **kwargs)\n",
    "        print '     score: {}'.format(score)\n",
    "        return score\n",
    "    \n",
    "def make_model(lr=0.01, momentum=0.9, dropout=0.5):\n",
    "    model = SmallFCNet.build(width=784, classes=10, dropout=dropout)\n",
    "    optimizer = SGD(lr=lr, momentum=momentum, nesterov=True)\n",
    "    model.compile(loss=\"categorical_crossentropy\", optimizer=optimizer, metrics=[\"accuracy\"])    \n",
    "    return model\n"
   ]
  },
  {
   "cell_type": "code",
   "execution_count": 6,
   "metadata": {
    "collapsed": true
   },
   "outputs": [],
   "source": [
    "def train_network(optimizer, X_train, y_train, X_test, y_test, dropout=0.5, nepochs=50, ploss=0.25):\n",
    "    print(\"[INFO] creating model...\")\n",
    "    model = SmallFCNet.build(width=784, classes=10, dropout=dropout)\n",
    "\n",
    "    # History, checkpoint, earlystop, plot losses:\n",
    "    histo = TrainingPlotter(n=1, patience=10)\n",
    "    \n",
    "    # initialize the optimizer and model\n",
    "    print(\"[INFO] compiling model...\")\n",
    "    model.compile(loss=\"categorical_crossentropy\", optimizer=optimizer, metrics=[\"accuracy\"])    \n",
    "\n",
    "    fig = plot.figure(figsize=(15,6))\n",
    "    plot.ylim(0.0, ploss)\n",
    "    plot.xlim(0, nepochs)\n",
    "    plot.grid(True)\n",
    "\n",
    "    print(\"[INFO] training...\")\n",
    "    try:\n",
    "        histo2 = model.fit(X_train, y_train, batch_size=128, nb_epoch=nepochs, \n",
    "                           verbose=0, validation_split=0.33, callbacks=[histo])\n",
    "    except KeyboardInterrupt:\n",
    "        pass\n",
    "\n",
    "    print(\"[INFO] evaluating...\")\n",
    "    loss, accuracy = model.evaluate(X_test, y_test, batch_size=128, verbose=1)\n",
    "    print(\"[INFO] accuracy: {:.2f}%\".format(accuracy * 100))\n",
    "    \n",
    "    return model, histo\n"
   ]
  },
  {
   "cell_type": "code",
   "execution_count": 7,
   "metadata": {
    "collapsed": true
   },
   "outputs": [],
   "source": [
    "class SmallFCNet:\n",
    "    @staticmethod\n",
    "    def build(width, classes, dropout):\n",
    "        model = Sequential()        \n",
    "        model.add(Dense(1000, input_dim=width))\n",
    "        model.add(Activation(\"relu\"))\n",
    "        model.add(Dropout(dropout))\n",
    "        model.add(Dense(classes))\n",
    "        model.add(Activation(\"softmax\"))\n",
    "        return model\n"
   ]
  },
  {
   "cell_type": "markdown",
   "metadata": {},
   "source": [
    "## 2. Conjuntos de dados\n",
    "\n",
    "- Treinamento \n",
    "- Validação\n",
    "- Testes\n",
    "\n",
    "<table align='left'>\n",
    "<tr><td> <img src=\"https://sebastianraschka.com/images/blog/2016/model-evaluation-selection-part3/holdout-validation_01.png\" alt=\"Drawing\" style=\"width: 800px;\"/> </td></tr>\n",
    "</table>\n"
   ]
  },
  {
   "cell_type": "code",
   "execution_count": 8,
   "metadata": {
    "collapsed": false
   },
   "outputs": [
    {
     "name": "stdout",
     "output_type": "stream",
     "text": [
      "(60000, 784) (10000, 784)\n",
      "(60000, 10) (10000, 10)\n",
      "índices para o treinamento: [    0     1     2 ..., 39997 39998 39999]\n",
      "índices para a validação: [40000 40001 40002 ..., 59997 59998 59999]\n"
     ]
    }
   ],
   "source": [
    "sys.path.append('../src')\n",
    "from keras.datasets import mnist\n",
    "from my_keras_utilities import (TrainingPlotter)\n",
    "\n",
    "(X_train, y_train_), (X_test, y_test_) = mnist.load_data()\n",
    "\n",
    "X_train_all = X_train.reshape(-1, 28*28) / 255.0\n",
    "X_test = X_test.reshape(-1, 28*28) / 255.0\n",
    "\n",
    "y_train_all = np_utils.to_categorical(y_train_, 10)\n",
    "y_test = np_utils.to_categorical(y_test_, 10)\n",
    "\n",
    "# X_train, y_train = X_train_all[:15000], y_train_all[:15000]\n",
    "X_train, y_train = X_train_all, y_train_all\n",
    "\n",
    "print X_train.shape, X_test.shape\n",
    "print y_train.shape, y_test.shape\n",
    "\n",
    "# determina índices para os conjuntos de teste e validação\n",
    "nn = X_train.shape[0]\n",
    "ii = nn / 3\n",
    "ii_trn, ii_val = np.arange(2*ii), np.arange(2*ii, nn)\n",
    "print 'índices para o treinamento:', ii_trn\n",
    "print 'índices para a validação:', ii_val"
   ]
  },
  {
   "cell_type": "markdown",
   "metadata": {},
   "source": [
    "## 3. Grid-search\n",
    "\n",
    "### 3.1. Sintonia de hiperparâmetros\n",
    "\n",
    "http://scikit-learn.org/stable/modules/generated/sklearn.model_selection.GridSearchCV.html\n",
    "\n",
    "<table align='left'>\n",
    "<tr><td> <img src=\"https://sebastianraschka.com/images/blog/2016/model-evaluation-selection-part3/holdout-validation_02.png\" alt=\"Drawing\" style=\"width: 800px;\"/> </td></tr>\n",
    "<tr><td> <img src=\"https://sebastianraschka.com/images/blog/2016/model-evaluation-selection-part3/holdout-validation_03.png\" alt=\"Drawing\" style=\"width: 800px;\"/> </td></tr>\n",
    "</table>\n"
   ]
  },
  {
   "cell_type": "code",
   "execution_count": 7,
   "metadata": {
    "collapsed": false
   },
   "outputs": [
    {
     "name": "stdout",
     "output_type": "stream",
     "text": [
      "  0: {'dropout': 0.2, 'lr': 0.01, 'momentum': 0.9}  [75.0s]\n",
      "     score: 0.97715\n",
      "     score: 0.998975\n",
      "  1: {'dropout': 0.2, 'lr': 0.01, 'momentum': 0.999}  [28.8s]\n",
      "     score: 0.94725\n",
      "     score: 0.957025\n",
      "  2: {'dropout': 0.2, 'lr': 0.05, 'momentum': 0.9}  [50.9s]\n",
      "     score: 0.97925\n",
      "     score: 0.999825\n",
      "  3: {'dropout': 0.2, 'lr': 0.05, 'momentum': 0.999}  [27.1s]\n",
      "     score: 0.826\n",
      "     score: 0.826025\n",
      "  4: {'dropout': 0.2, 'lr': 0.1, 'momentum': 0.9}  [39.2s]\n",
      "     score: 0.978\n",
      "     score: 0.998875\n",
      "  5: {'dropout': 0.2, 'lr': 0.1, 'momentum': 0.999}  [27.4s]\n",
      "     score: 0.51975\n",
      "     score: 0.508075\n",
      "  6: {'dropout': 0.5, 'lr': 0.01, 'momentum': 0.9}  [75.8s]\n",
      "     score: 0.97815\n",
      "     score: 0.998025\n",
      "  7: {'dropout': 0.5, 'lr': 0.01, 'momentum': 0.999}  [28.8s]\n",
      "     score: 0.9515\n",
      "     score: 0.95925\n",
      "  8: {'dropout': 0.5, 'lr': 0.05, 'momentum': 0.9}  [56.9s]\n",
      "     score: 0.9798\n",
      "     score: 0.999375\n",
      "  9: {'dropout': 0.5, 'lr': 0.05, 'momentum': 0.999}  [27.3s]\n",
      "     score: 0.78905\n",
      "     score: 0.7836\n",
      " 10: {'dropout': 0.5, 'lr': 0.1, 'momentum': 0.9}  [46.4s]\n",
      "     score: 0.9789\n",
      "     score: 0.99845\n",
      " 11: {'dropout': 0.5, 'lr': 0.1, 'momentum': 0.999}  [27.0s]\n",
      "     score: 0.4256\n",
      "     score: 0.4166\n",
      " 12: {'dropout': 0.7, 'lr': 0.01, 'momentum': 0.9}  [74.7s]\n",
      "     score: 0.97725\n",
      "     score: 0.99635\n",
      " 13: {'dropout': 0.7, 'lr': 0.01, 'momentum': 0.999}  [26.9s]\n",
      "     score: 0.9366\n",
      "     score: 0.943125\n",
      " 14: {'dropout': 0.7, 'lr': 0.05, 'momentum': 0.9}  [49.6s]\n",
      "     score: 0.9792\n",
      "     score: 0.995425\n",
      " 15: {'dropout': 0.7, 'lr': 0.05, 'momentum': 0.999}  [26.5s]\n",
      "     score: 0.8548\n",
      "     score: 0.856075\n",
      " 16: {'dropout': 0.7, 'lr': 0.1, 'momentum': 0.9}  [45.1s]\n",
      "     score: 0.9757\n",
      "     score: 0.99135\n",
      " 17: {'dropout': 0.7, 'lr': 0.1, 'momentum': 0.999}  [26.7s]\n",
      "     score: 0.5146\n",
      "     score: 0.50565\n",
      " 18: {'dropout': 0.5, 'lr': 0.05, 'momentum': 0.9}  [102.7s]\n",
      "\n",
      "The parameters of the best model are:  {'dropout': 0.5, 'lr': 0.05, 'momentum': 0.9}\n"
     ]
    }
   ],
   "source": [
    "counter = 0\n",
    "my_classifier = MyKerasClassifier(make_model, batch_size=128, nb_epoch=50, verbose=0)\n",
    "\n",
    "param_grid = {\n",
    "    'lr': [0.01, 0.05, 0.1],\n",
    "    'momentum': [0.9, 0.999],\n",
    "    'dropout': [0.2, 0.5, 0.7],\n",
    "}\n",
    "\n",
    "validator = GridSearchCV(my_classifier, \n",
    "                         param_grid=param_grid, \n",
    "                         cv=[(ii_trn, ii_val)],\n",
    "                         fit_params=dict(validation_data=(X_train[ii_val], y_train[ii_val])))\n",
    "\n",
    "try:\n",
    "    validator.fit(X_train, y_train)\n",
    "    print\n",
    "except KeyboardInterrupt:\n",
    "    pass\n",
    "else:\n",
    "    print 'The parameters of the best model are: ', validator.best_params_\n"
   ]
  },
  {
   "cell_type": "markdown",
   "metadata": {},
   "source": [
    "### 3.2. Avaliação de desempenho\n",
    "\n",
    "<table align='left'>\n",
    "<tr><td> <img src=\"https://sebastianraschka.com/images/blog/2016/model-evaluation-selection-part3/holdout-validation_04.png\" alt=\"Drawing\" style=\"width: 800px;\"/> </td></tr>\n",
    "<tr><td> <img src=\"https://sebastianraschka.com/images/blog/2016/model-evaluation-selection-part3/holdout-validation_05.png\" alt=\"Drawing\" style=\"width: 800px;\"/> </td></tr>\n",
    "</table>\n"
   ]
  },
  {
   "cell_type": "code",
   "execution_count": 8,
   "metadata": {
    "collapsed": false
   },
   "outputs": [
    {
     "name": "stdout",
     "output_type": "stream",
     "text": [
      "[INFO] evaluating...\n",
      " 9856/10000 [============================>.] - ETA: 0s\b\b\b\b\b\b\b\b\b\b\b\b\b\b\b\b\b\b\b\b\b\b\b\b\b\b\b\b\b\b\b\b\b\b\b\b\b\b\b\b\b\b\b\b\b\b\b\b\b\b\b\b\b\b\b\b\b\b\b\b\b\b\b\b\b\b\b\b\b\b\b\b\b\b\b\b\b\b\b\b\b\b\b\b\b\b\b\b\b\b\b\b\b\b\b\b\b\b\b\b\b\b\b\b\b\b\b\b\b\b\b\b\b\b\b\b\b\b\b\b\b\b\b\b\b\b\b\b\b\b\b\b\b\b\b\b\b\b\b\b\b\b\b\b\b\b\b\b\b\b\b\b\b\b\b\b\b\b\b\b\b\b\b\b\b\b\b\b\b\b\b\b\b\b\b\b\b\b\b\b\b\b\b\b\b\b\b\b\b\b\b\b\b\b\b\b\b\b\b\b\b\b\b\b\b\b\b\b\b\b\b\b\b\b\b\b\b\b\b\b\b\b\b\b\b\b\b\b\b\b\b\b\b\b\b\b\b\b\b\b\b\b\b\b\b\b\b\b\b\b\b\b\b\b\b\b\b\b\b\b\b\b\b\b\b\b\b\b\b\b\b\b\b\b\b\b\b\b\b\b\b\b\b\b\b\b\b\b\b\b\b\b\b\b\b\b\b\b\b\b\b\b\b\b\b\b\b\b\b\b\b\b\b\b\b\b\b\b\b\b\b\b\b\b\b\b\b\b\b\b\b\b\b\b\b\b\b\b\b\b\b\b\b\b\b\b\b\b\b\b\b\b\b\b\b\b\b\b\b\b\b\b\b\b\b\b\b\b\b\b\b\b\b\b\b\b\b\b\b\b\b\b\b\b\b\b\b\b\b\b\b\b\b\b\b\b\b\b\b\b\b\b\b\b\b\b\b\b\b\b\b\b\b\b\b\b\b\b\b\b\b\b\b\b\b\b\b\b\b\b\b\b\b\b\b\b\b\b\b\b\b\b\b\b\b\b\b\b\b\b\b\b\b\b\b\b\b\b\b\b\b\b\b\b\b\b\b\b\b\b\b\b\b\b\b\b\b\b\b\b\b\b\b\b\b\b\b\b\b\b\b\b\b\b\b\b\b\b\b\b\b\b\b\b\b\b\b\b\b\b\b\b\b\b\b\b\b\b\b\b\b\b\b\b\b\b\b\b\b\b\b\b\b\b\b\b\b\b\b\b\b\b\b\b\b\b\b\b\b\b\b\b\b\b\b\b\b\b\b\b\b\b\b\b\b\b\b\b\b\b\b\b\b\b\b\b\b\b\b\b\b\b\b\b\b\b\b\b\b\b\b\b\b\b\b\b\b\b\b\b\b\b\b\b\b\b\b\b\b\b\b\b\b\b\b\b\b\b\b\b\b\b\b\b\b\b\b\b\b\b\b\b\b\b\b\b\b\b\b\b\b\b\b\b\b\b\b\b\b\b\b\b\b\b\b\b\b\b\b\b\b\b\b\b\b\b\b\b\b\b\b\b\b\b\b\b\b\b\b\b\b\b\b\b\b\b\b\b\b\b\b\b\b\b\b\b\b\b\b\b\b\b\b\b\b\b\b\b\b\b\b\b\b\b\b\b\b\b\b\b\b\b\b\b\b\b\b\b\b\b\b\b\b\b\b\b\b\b\b\b\b\b\b\b\b\b\b\b\b\b\b\b\b\b\b\b\b\b\b\b\b\b\b\b\b\b\b\b\b\b\b\b\b\b\b\b\b\b\b\b\b\b\b\b\b\b\b\b\b\b\b\b\b\b\b\b\b\b\b\b\b\b\b\b\b\b\b\b\b\b[INFO] accuracy: 98.34%\n"
     ]
    },
    {
     "data": {
      "image/png": "[encoded data removed]",
      "text/plain": [
       "<matplotlib.figure.Figure at 0x7fa116631d90>"
      ]
     },
     "metadata": {},
     "output_type": "display_data"
    }
   ],
   "source": [
    "best = validator.best_params_\n",
    "lr = best['lr']\n",
    "momentum = best['momentum']\n",
    "dropout = best['dropout']\n",
    "optimizer = SGD(lr=lr, momentum=momentum, nesterov=True)\n",
    "model, histo = train_network(optimizer, X_train_all, y_train_all, X_test, y_test, \n",
    "                             dropout=dropout, nepochs=100, ploss=0.25)"
   ]
  },
  {
   "cell_type": "markdown",
   "metadata": {},
   "source": [
    "## 4. Random search\n",
    "\n",
    "### 4.1. Sintonia de hiperparâmetros\n",
    "\n",
    "http://scikit-learn.org/stable/modules/generated/sklearn.model_selection.RandomizedSearchCV.html"
   ]
  },
  {
   "cell_type": "code",
   "execution_count": 9,
   "metadata": {
    "collapsed": false
   },
   "outputs": [
    {
     "name": "stdout",
     "output_type": "stream",
     "text": [
      "  0: {'dropout': 0.2, 'lr': 0.038158940899374931, 'momentum': 0.91782270426201584}  [44.3s]\n",
      "     score: 0.97745\n",
      "     score: 0.998475\n",
      "  1: {'dropout': 0.2, 'lr': 0.21227353852710479, 'momentum': 0.95057413405459468}  [32.6s]\n",
      "     score: 0.9617\n",
      "     score: 0.978675\n",
      "  2: {'dropout': 0.2, 'lr': 0.15164488083555064, 'momentum': 0.95128023432173148}  [36.9s]\n",
      "     score: 0.96885\n",
      "     score: 0.988\n",
      "  3: {'dropout': 0.7, 'lr': 0.097234429970290068, 'momentum': 0.90067270989274495}  [58.3s]\n",
      "     score: 0.9788\n",
      "     score: 0.99485\n",
      "  4: {'dropout': 0.7, 'lr': 0.010045246816194918, 'momentum': 0.91281808731639291}  [74.3s]\n",
      "     score: 0.97855\n",
      "     score: 0.996775\n",
      "  5: {'dropout': 0.2, 'lr': 0.082116531698488981, 'momentum': 0.9250058469879231}  [35.4s]\n",
      "     score: 0.97715\n",
      "     score: 0.99705\n",
      "  6: {'dropout': 0.7, 'lr': 0.11824799346847248, 'momentum': 0.90293573910764224}  [49.6s]\n",
      "     score: 0.9744\n",
      "     score: 0.99025\n",
      "  7: {'dropout': 0.7, 'lr': 0.18916888632428341, 'momentum': 0.97634178770300084}  [28.3s]\n",
      "     score: 0.78605\n",
      "     score: 0.777425\n",
      "  8: {'dropout': 0.2, 'lr': 0.2231311061492659, 'momentum': 0.91293413573626481}  [32.4s]\n",
      "     score: 0.97105\n",
      "     score: 0.98895\n",
      "  9: {'dropout': 0.5, 'lr': 0.18709060312804876, 'momentum': 0.98086320682431549}  [26.7s]\n",
      "     score: 0.88765\n",
      "     score: 0.88485\n",
      " 10: {'dropout': 0.2, 'lr': 0.1105356660884535, 'momentum': 0.93549000178596908}  [36.9s]\n",
      "     score: 0.97705\n",
      "     score: 0.997875\n",
      " 11: {'dropout': 0.5, 'lr': 0.27508693098033549, 'momentum': 0.91447929439585984}  [37.0s]\n",
      "     score: 0.9609\n",
      "     score: 0.973675\n",
      " 12: {'dropout': 0.2, 'lr': 0.27580895362153868, 'momentum': 0.98795098684957539}  [28.1s]\n",
      "     score: 0.41385\n",
      "     score: 0.4108\n",
      " 13: {'dropout': 0.2, 'lr': 0.31370307652333712, 'momentum': 0.94098162909374661}  [28.3s]\n",
      "     score: 0.9507\n",
      "     score: 0.95985\n",
      " 14: {'dropout': 0.7, 'lr': 0.38879114443352591, 'momentum': 0.91345171934724689}  [28.2s]\n",
      "     score: 0.8742\n",
      "     score: 0.86785\n",
      " 15: {'dropout': 0.7, 'lr': 0.38322437792221548, 'momentum': 0.9308943032948982}  [28.2s]\n",
      "     score: 0.8116\n",
      "     score: 0.80275\n",
      " 16: {'dropout': 0.5, 'lr': 0.3995044103902764, 'momentum': 0.95627751730476218}  [26.7s]\n",
      "     score: 0.86795\n",
      "     score: 0.869975\n",
      " 17: {'dropout': 0.7, 'lr': 0.033757704540033927, 'momentum': 0.99885597950798399}  [27.0s]\n",
      "     score: 0.8985\n",
      "     score: 0.902075\n",
      " 18: {'dropout': 0.7, 'lr': 0.13227741194409839, 'momentum': 0.90397989776069754}  [47.8s]\n",
      "     score: 0.97185\n",
      "     score: 0.988\n",
      " 19: {'dropout': 0.7, 'lr': 0.1701822427894284, 'momentum': 0.92152425750847633}  [31.5s]\n",
      "     score: 0.95085\n",
      "     score: 0.9574\n",
      " 20: {'dropout': 0.7, 'lr': 0.097234429970290068, 'momentum': 0.90067270989274495}  [103.9s]\n",
      "\n",
      "The parameters of the best model are:  {'dropout': 0.7, 'lr': 0.097234429970290068, 'momentum': 0.90067270989274495}\n"
     ]
    }
   ],
   "source": [
    "import scipy.stats as st\n",
    "\n",
    "counter = 0\n",
    "my_classifier = MyKerasClassifier(make_model, batch_size=128, nb_epoch=50, verbose=0)\n",
    "\n",
    "param_dist={\n",
    "    'lr':       st.uniform(0.001, 0.4),\n",
    "    'momentum': st.uniform(0.9, 0.099),\n",
    "    'dropout':  [0.2, 0.5, 0.7],\n",
    "}\n",
    "validator = RandomizedSearchCV(my_classifier, \n",
    "                               param_distributions=param_dist, \n",
    "                               n_iter=20,\n",
    "                               cv=[(ii_trn, ii_val)],\n",
    "                               fit_params=dict(validation_data=(X_train[ii_val], y_train[ii_val])),\n",
    "                              )\n",
    "\n",
    "try:\n",
    "    validator.fit(X_train, y_train)\n",
    "    print\n",
    "except KeyboardInterrupt:\n",
    "    pass\n",
    "else:\n",
    "    print 'The parameters of the best model are: ', validator.best_params_\n"
   ]
  },
  {
   "cell_type": "markdown",
   "metadata": {},
   "source": [
    "### 4.2. Avaliação de desempenho\n"
   ]
  },
  {
   "cell_type": "code",
   "execution_count": 10,
   "metadata": {
    "collapsed": false,
    "scrolled": false
   },
   "outputs": [
    {
     "name": "stdout",
     "output_type": "stream",
     "text": [
      "[INFO] evaluating...\n",
      " 9728/10000 [============================>.] - ETA: 0s\b\b\b\b\b\b\b\b\b\b\b\b\b\b\b\b\b\b\b\b\b\b\b\b\b\b\b\b\b\b\b\b\b\b\b\b\b\b\b\b\b\b\b\b\b\b\b\b\b\b\b\b\b\b\b\b\b\b\b\b\b\b\b\b\b\b\b\b\b\b\b\b\b\b\b\b\b\b\b\b\b\b\b\b\b\b\b\b\b\b\b\b\b\b\b\b\b\b\b\b\b\b\b\b\b\b\b\b\b\b\b\b\b\b\b\b\b\b\b\b\b\b\b\b\b\b\b\b\b\b\b\b\b\b\b\b\b\b\b\b\b\b\b\b\b\b\b\b\b\b\b\b\b\b\b\b\b\b\b\b\b\b\b\b\b\b\b\b\b\b\b\b\b\b\b\b\b\b\b\b\b\b\b\b\b\b\b\b\b\b\b\b\b\b\b\b\b\b\b\b\b\b\b\b\b\b\b\b\b\b\b\b\b\b\b\b\b\b\b\b\b\b\b\b\b\b\b\b\b\b\b\b\b\b\b\b\b\b\b\b\b\b\b\b\b\b\b\b\b\b\b\b\b\b\b\b\b\b\b\b\b\b\b\b\b\b\b\b\b\b\b\b\b\b\b\b\b\b\b\b\b\b\b\b\b\b\b\b\b\b\b\b\b\b\b\b\b\b\b\b\b\b\b\b\b\b\b\b\b\b\b\b\b\b\b\b\b\b\b\b\b\b\b\b\b\b\b\b\b\b\b\b\b\b\b\b\b\b\b\b\b\b\b\b\b\b\b\b\b\b\b\b\b\b\b\b\b\b\b\b\b\b\b\b\b\b\b\b\b\b\b\b\b\b\b\b\b\b\b\b\b\b\b\b\b\b\b\b\b\b\b\b\b\b\b\b\b\b\b\b\b\b\b\b\b\b\b\b\b\b\b\b\b\b\b\b\b\b\b\b\b\b\b\b\b\b\b\b\b\b\b\b\b\b\b\b\b\b\b\b\b\b\b\b\b\b\b\b\b\b\b\b\b\b\b\b\b\b\b\b\b\b\b\b\b\b\b\b\b\b\b\b\b\b\b\b\b\b\b\b\b\b\b\b\b\b\b\b\b\b\b\b\b\b\b\b\b\b\b\b\b\b\b\b\b\b\b\b\b\b\b\b\b\b\b\b\b\b\b\b\b\b\b\b\b\b\b\b\b\b\b\b\b\b\b\b\b\b\b\b\b\b\b\b\b\b\b\b\b\b\b\b\b\b\b\b\b\b\b\b\b\b\b\b\b\b\b\b\b\b\b\b\b\b\b\b\b\b\b\b\b\b\b\b\b\b\b\b\b\b\b\b\b\b\b\b\b\b\b\b\b\b\b\b\b\b\b\b\b\b\b\b\b\b\b\b\b\b\b\b\b\b\b\b\b\b\b\b\b\b\b\b\b\b\b\b\b\b\b\b\b\b\b\b\b\b\b\b\b\b\b\b\b\b\b\b\b\b\b\b\b\b\b\b\b\b\b\b\b\b\b\b\b\b\b\b\b\b\b\b\b\b\b\b\b\b\b\b\b\b\b\b\b\b\b\b\b\b\b\b\b\b\b\b\b\b\b\b\b\b\b\b\b\b\b\b\b\b\b\b\b\b\b\b\b\b\b\b\b\b\b\b\b\b\b\b\b\b\b\b\b\b\b\b\b\b\b\b\b\b\b\b\b\b\b\b\b\b\b\b\b\b\b\b\b\b\b\b\b\b\b\b\b\b\b\b\b\b\b\b\b\b\b\b\b\b\b\b\b\b\b\b\b\b\b\b\b\b\b\b\b\b\b\b\b\b\b\b\b\b[INFO] accuracy: 97.99%\n"
     ]
    },
    {
     "data": {
      "image/png": "[encoded data removed]",
      "text/plain": [
       "<matplotlib.figure.Figure at 0x7fa11d4bafd0>"
      ]
     },
     "metadata": {},
     "output_type": "display_data"
    }
   ],
   "source": [
    "best = validator.best_params_\n",
    "lr = best['lr']\n",
    "momentum = best['momentum']\n",
    "dropout = best['dropout']\n",
    "optimizer = SGD(lr=lr, momentum=momentum, nesterov=True)\n",
    "model, histo = train_network(optimizer, X_train_all, y_train_all, X_test, y_test, \n",
    "                             dropout=dropout, nepochs=100, ploss=0.25)"
   ]
  },
  {
   "cell_type": "markdown",
   "metadata": {
    "collapsed": true
   },
   "source": [
    "## Aprendizado neste notebook\n",
    "\n",
    "1. Early stop - não é necessário rodar todas as épocas previstas, quando a rede executada sobre os dados de validação não melhorar mais por n épocas de paciência, o treinamento pára e salva o melhor parâmetro \n",
    "2. Busca de hyperparâmetros - conceito de testar vários parâmetros e procurar o melhor deles. Há necessidade de dados de treinamento e de validação. Pode ser exaustivo ou aleatório.\n",
    "3. Esta implementação utiliza o grid-search do sklearn através do Keras\n",
    "4. Lembrar que o conjunto de teste não deveria ser utilizado mais que uma vez\n"
   ]
  }
 ],
 "metadata": {
  "anaconda-cloud": {},
  "kernelspec": {
   "display_name": "Python [Root]",
   "language": "python",
   "name": "Python [Root]"
  },
  "language_info": {
   "codemirror_mode": {
    "name": "ipython",
    "version": 2
   },
   "file_extension": ".py",
   "mimetype": "text/x-python",
   "name": "python",
   "nbconvert_exporter": "python",
   "pygments_lexer": "ipython2",
   "version": "2.7.13"
  }
 },
 "nbformat": 4,
 "nbformat_minor": 2
}
