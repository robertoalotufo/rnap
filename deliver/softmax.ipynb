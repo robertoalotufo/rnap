{
 "cells": [
  {
   "cell_type": "markdown",
   "metadata": {},
   "source": [
    "# Função Softmax \n",
    "\n",
    "A função softmax é um dos blocos básicos de redes neurais. Ela é usualmente utilizada em classificação multiclasses. Ela transforma valores (\"scores\", \"logits\") em probabilidades.\n",
    "Nesse tutorial, iremos:\n",
    "1. Ver a definição da função softmax, \n",
    "2. Implementá-la via programação matricial e \n",
    "3. Explorar o comportamento da saída variando de forma interativa os parâmetros de entrada."
   ]
  },
  {
   "cell_type": "markdown",
   "metadata": {},
   "source": [
    "## Softmax\n",
    "\n",
    "A função softmax transforma um conjunto de valores (\"scores\", \"logits\") e os transforma em probabilidades, de forma que a soma das probabilidades seja igual a 1. Ela é adequada para problemas de classificação com mais de uma classe.\n",
    "\n",
    "<img src='../figures/softmax_diagrama.jpg', width=512>\n",
    "\n",
    "A equação Softmax para uma amostra é dada por:\n",
    "\n",
    "$$ Softmax(\\boldsymbol{Z}) = \\frac{e^{\\boldsymbol{Z}}}{\\sum_{j=0}^{k-1}e^{z_j}} $$\n",
    "\n",
    "Abrindo as matrizes, para maior facilidade de visualização:\n",
    "\n",
    "$$ Softmax(\\left [  z_0 z_1 \\ldots z_{k-1} \\right ]) = \\left [ \\frac{e^{z_0}}{\\sum_{i=0}^{k-1} e^{z_i}} \\frac{e^{z_1}}{\\sum_{i=0}^{k-1} e^{z_i}} \\ldots \\frac{e^{z_{k-1}}}{\\sum_{i=0}^{k-1} e^{z_i}} \\right ] $$\n",
    "\n",
    "Quando se tem várias classes, a matriz $\\boldsymbol{Z}$ passa a ser bidimensional - $k$ classes, uma em cada coluna e $n$ amostras, uma em cada linha.\n",
    "\n",
    "$$ \\boldsymbol{Z} = z_{i,j}; i \\in (0,1,\\ldots n-1); j \\in (0,1, \\ldots k-1) $$\n",
    "\n",
    "$$ Softmax(\\boldsymbol{Z}) = \\frac{e^{\\boldsymbol{Z}}}{\\sum_{j=0}^{k-1}e^{z_{i,j}}} $$\n",
    "\n",
    "$$\n",
    "Softmax(\\begin{bmatrix}  \n",
    "z_{0,0} & z_{0,1} & \\ldots & z_{0,k-1} \\\\\n",
    "z_{1,0} & z_{1,1} & \\ldots & z_{1,k-1} \\\\\n",
    "\\vdots & \\vdots & & \\vdots \\\\\n",
    "z_{n-1,0} & z_{n-1,1} & \\ldots & z_{n-1,k-1} \n",
    " \\end{bmatrix}) = \n",
    "\\begin{bmatrix}\n",
    "\\frac{e^{z_{0,0}}}{\\sum_{j=0}^{k-1} e^{z_{0,j}}}& \\frac{e^{z_{0,1}}}{\\sum_{j=0}^{k-1} e^{z_{0,j}}} & \\ldots & \\frac{e^{z_{0,k-1}}}{\\sum_{j=0}^{k-1} e^{z_{0,j}}} \\\\\n",
    "\\frac{e^{z_{1,0}}}{\\sum_{j=0}^{k-1} e^{z_{1,j}}}& \\frac{e^{z_{1,1}}}{\\sum_{j=0}^{k-1} e^{z_{1,j}}} & \\ldots & \\frac{e^{z_{1,k-1}}}{\\sum_{j=0}^{k-1} e^{z_{1,j}}} \\\\\n",
    "\\vdots & \\vdots & & \\vdots \\\\\n",
    "\\frac{e^{z_{n-1,0}}}{\\sum_{j=0}^{k-1} e^{z_{n-1,j}}}& \\frac{e^{z_{n-1,1}}}{\\sum_{j=0}^{k-1} e^{z_{n-1,j}}} & \\ldots & \\frac{e^{z_{n-1,k-1}}}{\\sum_{j=0}^{k-1} e^{z_{n-1,j}}} \\\\\n",
    "\\end{bmatrix}\n",
    "$$"
   ]
  },
  {
   "cell_type": "code",
   "execution_count": 19,
   "metadata": {
    "collapsed": true
   },
   "outputs": [],
   "source": [
    "%matplotlib inline\n",
    "import numpy as np\n",
    "import matplotlib.pylab as plt\n",
    "np.set_printoptions(suppress=True, precision=3) # limita a precisão da impressão em 3 casas decimais \n",
    "\n",
    "#Instalar e setar no jupyter: jupyter nbextension enable --py widgetsnbextension\n",
    "import ipywidgets as widgets\n"
   ]
  },
  {
   "cell_type": "markdown",
   "metadata": {},
   "source": [
    "## Implementação matricial do Softmax\n",
    "\n",
    "A implementação matricial usando o NumPy é baseado na equação matricial, repetida aqui:\n",
    "\n",
    "$$ Softmax(\\boldsymbol{Z}) = \\frac{e^{\\boldsymbol{Z}}}{\\sum_{j=0}^{k-1}e^{z_{i,j}}} $$\n",
    "\n",
    "Note que o código é muito sucinto e quase que diretamente traduzido da equação:\n",
    "1. Calcula-se o exponencial da matriz Z, em seguida\n",
    "2. Divide-se pela soma dos scores de cada amostra, soma no eixo j. Lembrando que são\n",
    "dois eixos (i,j), em NumPy o primeiro eixo é 0 e o segundo eixo é 1. Deve-se dividir pela\n",
    "soma no eixo 1. A opção `keeepdims` permite que após esta soma, é como se o resultado fosse do mesmo tamanho da matriz original, de modo que a divisão ocorra elemento a elemento."
   ]
  },
  {
   "cell_type": "code",
   "execution_count": 20,
   "metadata": {
    "collapsed": true
   },
   "outputs": [],
   "source": [
    "def softmax(Z):\n",
    "    EZ = np.exp(Z)\n",
    "    S = EZ / EZ.sum(axis=1,keepdims = True)\n",
    "    return S"
   ]
  },
  {
   "cell_type": "markdown",
   "metadata": {},
   "source": [
    "## Testando a implementação\n",
    "\n",
    "A implementação será testada com a matriz score onde a primeira classe tem os valores variando de -2 até 6, a segunda classe tem valor fixo 1 e a terceira classe também tem valor fixo 0.2.\n",
    "Observa-se que na saída softmax, a soma dos elementos de cada amostra é 1."
   ]
  },
  {
   "cell_type": "code",
   "execution_count": 21,
   "metadata": {
    "collapsed": false
   },
   "outputs": [
    {
     "name": "stdout",
     "output_type": "stream",
     "text": [
      "scores=\n",
      "[[-2.     1.     0.2  ]\n",
      " [-1.111  1.     0.2  ]\n",
      " [-0.222  1.     0.2  ]\n",
      " [ 0.667  1.     0.2  ]\n",
      " [ 1.556  1.     0.2  ]\n",
      " [ 2.444  1.     0.2  ]\n",
      " [ 3.333  1.     0.2  ]\n",
      " [ 4.222  1.     0.2  ]\n",
      " [ 5.111  1.     0.2  ]\n",
      " [ 6.     1.     0.2  ]]\n",
      "S=\n",
      "[[ 0.033  0.667  0.3  ]\n",
      " [ 0.077  0.637  0.286]\n",
      " [ 0.169  0.573  0.258]\n",
      " [ 0.331  0.462  0.207]\n",
      " [ 0.546  0.313  0.141]\n",
      " [ 0.745  0.176  0.079]\n",
      " [ 0.877  0.085  0.038]\n",
      " [ 0.945  0.038  0.017]\n",
      " [ 0.977  0.016  0.007]\n",
      " [ 0.99   0.007  0.003]]\n"
     ]
    }
   ],
   "source": [
    "X = np.linspace(-2, 6.0,10).reshape(-1,1)\n",
    "scores = np.hstack([X, np.ones_like(X), 0.2 * np.ones_like(X)]) # 3 classes nas colunas\n",
    "S = softmax(scores)\n",
    "print 'scores=\\n',scores\n",
    "print 'S=\\n',S"
   ]
  },
  {
   "cell_type": "markdown",
   "metadata": {},
   "source": [
    "## Visualizando a variação dos valores no gráfico\n",
    "\n",
    "Repete-se o mesmo exemplo, porém agora com mais valores observando o resultado do software num gráfico. "
   ]
  },
  {
   "cell_type": "code",
   "execution_count": 22,
   "metadata": {
    "collapsed": false
   },
   "outputs": [
    {
     "data": {
      "text/plain": [
       "[<matplotlib.lines.Line2D at 0x7f34b8155210>,\n",
       " <matplotlib.lines.Line2D at 0x7f34b81613d0>,\n",
       " <matplotlib.lines.Line2D at 0x7f34b8161510>]"
      ]
     },
     "execution_count": 22,
     "metadata": {},
     "output_type": "execute_result"
    },
    {
     "data": {
      "image/png": "[encoded data removed]",
      "text/plain": [
       "<matplotlib.figure.Figure at 0x7f34b82ad7d0>"
      ]
     },
     "metadata": {},
     "output_type": "display_data"
    }
   ],
   "source": [
    "X = np.arange(-2.0, 6.0, 0.1).reshape(-1,1) # matriz n,1\n",
    "i = np.arange(X.size)\n",
    "scores = np.hstack([X, np.ones_like(X), 0.2 * np.ones_like(X)]) # 3 classes nas colunas\n",
    "S = softmax(scores)\n",
    "\n",
    "f, (ax1, ax2) = plt.subplots(2, 1, sharey=False)\n",
    "ax2.set_xlabel(\"amostras\")\n",
    "ax1.set_ylabel(\"scores de entrada\")\n",
    "ax2.set_ylabel(\"Probabilidade\")\n",
    "ax1.plot(i, scores)\n",
    "ax1.set_title('Funcao Softmax')\n",
    "ax2.plot(i, S)"
   ]
  },
  {
   "cell_type": "markdown",
   "metadata": {},
   "source": [
    "# Variando os scores de cada uma das 3 classes interativamente\n",
    "\n",
    "Exemplo com os `widgets` interativos do Jupyter onde é possível alterar os scores de cada uma das classes e ver o resultado do softmax no gráfico.\n"
   ]
  },
  {
   "cell_type": "code",
   "execution_count": 23,
   "metadata": {
    "collapsed": false
   },
   "outputs": [
    {
     "data": {
      "image/png": "[encoded data removed]",
      "text/plain": [
       "<matplotlib.figure.Figure at 0x7f34b8366e90>"
      ]
     },
     "metadata": {},
     "output_type": "display_data"
    },
    {
     "data": {
      "text/plain": [
       "<function __main__.plotmodel>"
      ]
     },
     "execution_count": 23,
     "metadata": {},
     "output_type": "execute_result"
    }
   ],
   "source": [
    "def plotmodel(s1,s2,s3):\n",
    "    scores = np.array([[s1, s2, s3]]) # shape: (1,3) 1 amostra e 3 classes\n",
    "    S = softmax(scores)[0] # amostra 0\n",
    "    plt.rcdefaults()\n",
    "    fig, ax = plt.subplots(figsize=(3, 2))\n",
    "    classes = ('0', '1', '2')\n",
    "    x_pos = [2,4,6]\n",
    "    ax.bar(x_pos, S, align='center',color='green', ecolor='black')\n",
    "    ax.set_xticks(x_pos)\n",
    "    ax.set_xticklabels(classes)\n",
    "    ax.set_ylim([0,1])\n",
    "    ax.set_xlabel('Score')\n",
    "    ax.set_ylabel('Probabilidade')\n",
    "    plt.show()\n",
    "                       \n",
    "widgets.interact(plotmodel,s1 = (1,10,.1),s2 = (1,10,.1),s3 = (1,10,.1))\n",
    "                       \n"
   ]
  },
  {
   "cell_type": "markdown",
   "metadata": {},
   "source": [
    "# Variando-se um fator multiplicativo nos scores das classes\n",
    "\n",
    "Se os scores forem multiplicados, a variação entre as probabilidades de saída ficam bastante realçadas, é como se aumentasse o contraste das diferenças entre as probabilidades. Por outro lado, se for aplicado um fator de divisão, ocorre o contrário, a diferença entre as probabilidades ficam mais parecidas.\n"
   ]
  },
  {
   "cell_type": "code",
   "execution_count": 24,
   "metadata": {
    "collapsed": false
   },
   "outputs": [
    {
     "name": "stdout",
     "output_type": "stream",
     "text": [
      "s1: 4.9\n",
      "s2: 5.5\n",
      "s3: 6.0\n"
     ]
    },
    {
     "data": {
      "image/png": "[encoded data removed]",
      "text/plain": [
       "<matplotlib.figure.Figure at 0x7f34b9167690>"
      ]
     },
     "metadata": {},
     "output_type": "display_data"
    },
    {
     "data": {
      "text/plain": [
       "<function __main__.plotmodel2>"
      ]
     },
     "execution_count": 24,
     "metadata": {},
     "output_type": "execute_result"
    }
   ],
   "source": [
    "def plotmodel2(M, s1,op):\n",
    "    scores = np.array([[s1, 5.5, 6]])\n",
    "    print \"s1:\",scores[0,0]\n",
    "    print \"s2:\",scores[0,1]\n",
    "    print \"s3:\",scores[0,2]\n",
    "    \n",
    "    if op == 1:\n",
    "        S = softmax(scores*M)[0]\n",
    "    else:\n",
    "        S = softmax(scores/M)[0]\n",
    "    plt.rcdefaults()\n",
    "    fig, ax = plt.subplots(figsize=(3, 2))\n",
    "    classes = ('0', '1', '2')\n",
    "    x_pos = [2,4,6]\n",
    "    ax.bar(x_pos, S, align='center',color='green', ecolor='black')\n",
    "    ax.set_xticks(x_pos)\n",
    "    ax.set_xticklabels(classes)\n",
    "    ax.set_ylim([0,1])\n",
    "    ax.set_xlabel('Score')\n",
    "    ax.set_ylabel('Probabilidade')\n",
    "    plt.show()\n",
    "                       \n",
    "widgets.interact(plotmodel2,M = (1,10,1),s1 = (1,10,.1),op = {'Multiplication':1,'Division':2})\n",
    "                       "
   ]
  },
  {
   "cell_type": "markdown",
   "metadata": {
    "collapsed": true
   },
   "source": [
    "# Atividades\n",
    "\n",
    "1. Observe a variação entre as probabilidades em função da variação dos scores de entrada utilizando-se as ferramentas interativas.\n"
   ]
  }
 ],
 "metadata": {
  "anaconda-cloud": {},
  "kernelspec": {
   "display_name": "Python [Root]",
   "language": "python",
   "name": "Python [Root]"
  },
  "language_info": {
   "codemirror_mode": {
    "name": "ipython",
    "version": 2
   },
   "file_extension": ".py",
   "mimetype": "text/x-python",
   "name": "python",
   "nbconvert_exporter": "python",
   "pygments_lexer": "ipython2",
   "version": "2.7.12"
  },
  "widgets": {
   "state": {
    "9756cb94952a4ebab87dfd2cc403cb05": {
     "views": [
      {
       "cell_index": 7
      }
     ]
    },
    "b531692a126f4adba72e663a0a1ae8fc": {
     "views": [
      {
       "cell_index": 8
      }
     ]
    }
   },
   "version": "1.2.0"
  }
 },
 "nbformat": 4,
 "nbformat_minor": 1
}
