{
 "cells": [
  {
   "cell_type": "markdown",
   "metadata": {},
   "source": [
    "# Instalação dos pré-requisitos para o minicurso\n",
    "Os alunos que decidirem utilizar o repositório do minicurso deverão instalar Python e os seguintes pacotes/bibliotecas:\n",
    "* Numpy\n",
    "* Matplotlib\n",
    "* Tensorflow\n",
    "* Keras \n",
    "* Pandas <br>\n",
    "O jeito mais fácil de se obter os pacotes citados é instalando o gerenciador de pacotes Anaconda."
   ]
  },
  {
   "cell_type": "markdown",
   "metadata": {},
   "source": [
    "# Windows"
   ]
  },
  {
   "cell_type": "markdown",
   "metadata": {},
   "source": [
    "### Instalando o gerenciador de pacotes Anaconda\n",
    "1. Acesse https://www.continuum.io/downloads e selecione a aba escrita Windows.\n",
    "2. Faça o download da versão 3.x referente ao seu sistema operacional (32-bits vs 64-bits).\n",
    "3. Execute o arquivo e instale o programa.\n",
    "\n",
    "Essa instalação, por padrão, já instala os pacotes ** Numpy ** e ** Matplotlib **.\n",
    "\n",
    "### Instalando o Tensorflow usando Anaconda\n",
    "1. Instalaremos a versão voltada apenas para uso de CPU, sem a necessidade de uma GPU.\n",
    "2. Pressione as teclas Win + R (tecla com o símbolo do windows), digite cmd e pressione Enter.\n",
    "3. Digite \"conda create -n tensorflow python=3.5\" (sem aspas) e pressione Enter\n",
    "4. Digite \"activate tensorflow\" (sem aspas) e pressione Enter.\n",
    "5. Digite \"pip install --ignore-installed --upgrade https://storage.googleapis.com/tensorflow/windows/cpu/tensorflow-1.2.1-cp35-cp35m-win_amd64.whl\" (sem aspas) e pressione Enter.\n",
    "6. Para mais informações acesse https://www.tensorflow.org/install/install_windows#installing_with_anaconda\n",
    "\n",
    "### Instalando Keras\n",
    "1. Digite \"pip install keras\" e pressione Enter.\n",
    "2. Note que apesar do suporte do Keras para versões 2.7-3.5 de Python, apenas as versões 3.4+ possuem instalação nativa do gerenciador de pacotes pip, se você realizou uma instalação de Python diferente da citada nessas instruções deverá ficar atento a este detalhe."
   ]
  },
  {
   "cell_type": "markdown",
   "metadata": {},
   "source": [
    "# Linux"
   ]
  },
  {
   "cell_type": "markdown",
   "metadata": {},
   "source": [
    "### Instalando o gerenciador de pacotes Anaconda\n",
    "1. Acesse https://www.continuum.io/downloads e selecione a aba escrita Linux.\n",
    "2. Faça o download da versão 3.x referente ao seu sistema operacional (32-bits vs 64-bits). Não instale a versão POWER8.\n",
    "3. Abre o terminal e digite \"bash ~/Downloads/Anaconda3-4.4.0-Linux-x86_64.sh\" e pressione Enter (caso você tenha feito o download em outra pasta, deverá mudar o caminho citado)\n",
    "4. Aceite os termos e a instalação padrão e feche o terminal após a conclusão.\n",
    "\n",
    "Essa instalação, por padrão, já instala os pacotes ** Numpy ** e ** Matplotlib **.\n",
    "\n",
    "### Instalando o Tensorflow usando Anaconda\n",
    "1. TensorFlow só oferece suporte ao Ubuntu 14.04, outras versões deverão funcionar normalmente e outras distribuições de Linux podem apresentar problemas. Instalaremos a versão voltada apenas para uso de CPU, sem a necessidade de uma GPU.\n",
    "2. Abra o terminal e digite \"conda create -n tensorflow\" (sem aspas)e pressione Enter.\n",
    "3. Após a conclusão digite \"source activate tensorflow\" (sem aspas) e pressione Enter.\n",
    "4. Digite \"pip install --ignore-installed --upgrade ** tfBinaryURL **\" (sem aspas), onde ** tfBinaryURL ** deve ser selecionado em https://www.tensorflow.org/install/install_linux#the_url_of_the_tensorflow_python_package de acordo com a sua versão instalada de Python e pressione Enter.\n",
    "5. Para mais informações acesse https://www.tensorflow.org/install/install_linux#installing_with_anaconda\n",
    "\n",
    "### Instalando Keras\n",
    "1. Digite \"sudo pip install keras\" e pressione Enter.\n",
    "2. Note que apesar do suporte do Keras para versões 2.7-3.5 de Python, apenas as versões 3.4+ possuem instalação nativa do gerenciador de pacotes pip, se você realizou uma instalação de Python diferente da citada nessas instruções deverá ficar atento a este detalhe."
   ]
  },
  {
   "cell_type": "markdown",
   "metadata": {},
   "source": [
    "# MacOS X"
   ]
  },
  {
   "cell_type": "markdown",
   "metadata": {},
   "source": [
    "### Instalando o gerenciador de pacotes Anaconda\n",
    "1. Acesse https://www.continuum.io/downloads e selecione a aba escrita macOS.\n",
    "2. Faça o download da versão 3.x escrita \"Graphical Installer\".\n",
    "3. Execute o arquivo e instale o programa.\n",
    "\n",
    "Essa instalação, por padrão, já instala os pacotes ** Numpy ** e ** Matplotlib **.\n",
    "\n",
    "### Instalando o Tensorflow usando Anaconda\n",
    "1. TensorFlow, a partir da versão 1.2 não oferece suporte a versão com GPU para mac, instalaremos a versão voltada apenas para uso de CPU, sem a necessidade de uma GPU.\n",
    "2. Abra o terminal e digite \"conda create -n tensorflow\" (sem aspas)e pressione Enter.\n",
    "3. Após a conclusão digite \"source activate tensorflow\" (sem aspas) e pressione Enter.\n",
    "4. Digite \"pip install --ignore-installed --upgrade ** TF_PYTHON_URL **\" (sem aspas), onde ** TF_PYTHON_URL ** deve ser selecionado em https://www.tensorflow.org/install/install_mac#the_url_of_the_tensorflow_python_package de acordo com a sua versão instalada de Python e pressione Enter.\n",
    "\n",
    "### Instalando Keras\n",
    "1. Digite \"pip install keras\" e pressione Enter.\n",
    "2. Note que apesar do suporte do Keras para versões 2.7-3.5 de Python, apenas as versões 3.4+ possuem instalação nativa do gerenciador de pacotes pip, se você realizou uma instalação de Python diferente da citada nessas instruções deverá ficar atento a este detalhe."
   ]
  },
  {
   "cell_type": "code",
   "execution_count": null,
   "metadata": {
    "collapsed": true
   },
   "outputs": [],
   "source": []
  }
 ],
 "metadata": {
  "kernelspec": {
   "display_name": "Python 3",
   "language": "python",
   "name": "python3"
  },
  "language_info": {
   "codemirror_mode": {
    "name": "ipython",
    "version": 3
   },
   "file_extension": ".py",
   "mimetype": "text/x-python",
   "name": "python",
   "nbconvert_exporter": "python",
   "pygments_lexer": "ipython3",
   "version": "3.6.0"
  }
 },
 "nbformat": 4,
 "nbformat_minor": 2
}
