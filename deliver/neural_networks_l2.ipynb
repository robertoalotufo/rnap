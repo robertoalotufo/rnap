{
 "cells": [
  {
   "cell_type": "markdown",
   "metadata": {
    "deletable": true,
    "editable": true,
    "toc": "true"
   },
   "source": [
    "# Table of Contents\n",
    " <p><div class=\"lev1 toc-item\"><a href=\"#Regularização-L2\" data-toc-modified-id=\"Regularização-L2-1\"><span class=\"toc-item-num\">1&nbsp;&nbsp;</span>Regularização L2</a></div><div class=\"lev2 toc-item\"><a href=\"#Preâmbulo\" data-toc-modified-id=\"Preâmbulo-11\"><span class=\"toc-item-num\">1.1&nbsp;&nbsp;</span>Preâmbulo</a></div><div class=\"lev2 toc-item\"><a href=\"#Notação-e-equações\" data-toc-modified-id=\"Notação-e-equações-12\"><span class=\"toc-item-num\">1.2&nbsp;&nbsp;</span>Notação e equações</a></div><div class=\"lev3 toc-item\"><a href=\"#Propagação-para-frente\" data-toc-modified-id=\"Propagação-para-frente-121\"><span class=\"toc-item-num\">1.2.1&nbsp;&nbsp;</span>Propagação para frente</a></div><div class=\"lev3 toc-item\"><a href=\"#Propagação-para-trás\" data-toc-modified-id=\"Propagação-para-trás-122\"><span class=\"toc-item-num\">1.2.2&nbsp;&nbsp;</span>Propagação para trás</a></div><div class=\"lev2 toc-item\"><a href=\"#Implementação\" data-toc-modified-id=\"Implementação-13\"><span class=\"toc-item-num\">1.3&nbsp;&nbsp;</span>Implementação</a></div><div class=\"lev3 toc-item\"><a href=\"#O-código\" data-toc-modified-id=\"O-código-131\"><span class=\"toc-item-num\">1.3.1&nbsp;&nbsp;</span>O código</a></div><div class=\"lev3 toc-item\"><a href=\"#Verificando-o-cálculo-do-gradiente\" data-toc-modified-id=\"Verificando-o-cálculo-do-gradiente-132\"><span class=\"toc-item-num\">1.3.2&nbsp;&nbsp;</span>Verificando o cálculo do gradiente</a></div><div class=\"lev2 toc-item\"><a href=\"#Testes\" data-toc-modified-id=\"Testes-14\"><span class=\"toc-item-num\">1.4&nbsp;&nbsp;</span>Testes</a></div><div class=\"lev3 toc-item\"><a href=\"#Boston-Housing-Data-Set\" data-toc-modified-id=\"Boston-Housing-Data-Set-141\"><span class=\"toc-item-num\">1.4.1&nbsp;&nbsp;</span>Boston Housing Data Set</a></div><div class=\"lev3 toc-item\"><a href=\"#Testes\" data-toc-modified-id=\"Testes-142\"><span class=\"toc-item-num\">1.4.2&nbsp;&nbsp;</span>Testes</a></div><div class=\"lev3 toc-item\"><a href=\"#Implementando-com-o-Keras\" data-toc-modified-id=\"Implementando-com-o-Keras-143\"><span class=\"toc-item-num\">1.4.3&nbsp;&nbsp;</span>Implementando com o Keras</a></div>"
   ]
  },
  {
   "cell_type": "markdown",
   "metadata": {
    "deletable": true,
    "editable": true
   },
   "source": [
    "# Regularização L2\n",
    "\n",
    "\n",
    "## Preâmbulo"
   ]
  },
  {
   "cell_type": "code",
   "execution_count": 1,
   "metadata": {
    "collapsed": false,
    "deletable": true,
    "editable": true
   },
   "outputs": [
    {
     "name": "stderr",
     "output_type": "stream",
     "text": [
      "Using TensorFlow backend.\n"
     ]
    }
   ],
   "source": [
    "%matplotlib inline\n",
    "import matplotlib.pyplot as plot\n",
    "from IPython.display import display\n",
    "# To support both python 2 and python 3\n",
    "from __future__ import division, print_function, unicode_literals\n",
    "\n",
    "import time\n",
    "import numpy as np\n",
    "import numpy.random as nr\n",
    "import pandas as pd\n",
    "import tensorflow as tf\n",
    "\n",
    "from keras.models import Sequential\n",
    "from keras.layers.core import Dense, Flatten, Dropout\n",
    "from keras.optimizers import SGD\n",
    "from keras.callbacks import EarlyStopping, TensorBoard\n",
    "from keras.utils import np_utils\n",
    "from keras.regularizers import l2\n",
    "\n",
    "np.set_printoptions(precision=3, linewidth=100, suppress=True)"
   ]
  },
  {
   "cell_type": "markdown",
   "metadata": {
    "deletable": true,
    "editable": true
   },
   "source": [
    "## Notação e equações\n",
    "\n",
    "<!--\n",
    "<table align='left'>\n",
    "<tr><td colspan=2> <img src=\"https://docs.google.com/drawings/d/1958hSDd7WX_ijgL9E-SMR3sgzLvBpmvD8AyEtwaxio8/pub?w=960&h=720\" alt=\"Drawing\" style=\"width: 960px;\"/> </td></tr>\n",
    "</table>\n",
    "-->"
   ]
  },
  {
   "cell_type": "markdown",
   "metadata": {
    "deletable": true,
    "editable": true
   },
   "source": [
    "### Propagação para frente\n",
    "<!--\n",
    "<table align='left'>\n",
    "<tr><td colspan=2> <img src=\"https://docs.google.com/drawings/d/1BF5HoqP0ZdiT75dwG3UJY1ZXlFBqcXPL2rH-yD_6X18/pub?w=960&amp;h=720\"> </td></tr>\n",
    "</table>\n",
    "-->"
   ]
  },
  {
   "cell_type": "markdown",
   "metadata": {
    "deletable": true,
    "editable": true
   },
   "source": [
    "\\begin{align} \n",
    "\\mathbf{a}_{(i)} & = \\begin{cases}\n",
    "\\mathbf{x}  & \\text{ if } i = 0 \\\\\n",
    "\\\\\n",
    "g \\left( \\mathbf{z}_{(i-1)} \\right ) = g \\left ( \\mathbf{a}_{(i-1)} \\cdot \\mathbf{W}_{(i-1)} \\right ) & \\text{ if } 1 \\leq i \\leq L  \\text{ where } g(\\mathbf{z}) = \\frac{1}{1+e^{-\\mathbf{z}}} \\\\\n",
    "\\end{cases}\n",
    "\\\\[3 mm]\n",
    "\\mathbf{\\hat{y}} & = \\mathbf{a}_{L}\n",
    "\\\\[3 mm]\n",
    "J & = \\begin{cases}\n",
    "- \\frac{1}{M} \\sum_{M} \\sum_{K} \\left ( \\mathbf{y} \\log{(\\mathbf{\\hat{y}})} + (1 - \\mathbf{y}) \\log{(1 - \\mathbf{\\hat{y}})} \\right ) + \\frac{1}{2M} \\sum_{L} \\sum \\sum \\mathbf{W}^{2} & \\text{ for classifier with logistic activation function } \\\\\n",
    "\\\\\n",
    "\\\\\n",
    "\\frac{1}{2M} \\sum_{M} \\sum_{P} \\left ( \\mathbf{\\hat{y}} - \\mathbf{y} \\right )^{2} + \\frac{1}{2M} \\sum_{L} \\sum \\sum \\mathbf{W}^{2} & \\text{ for regressor with linear activation function } \\\\\n",
    "\\end{cases}\n",
    "\\end{align}\n"
   ]
  },
  {
   "cell_type": "markdown",
   "metadata": {
    "deletable": true,
    "editable": true
   },
   "source": [
    "### Propagação para trás\n",
    "\n",
    "<!--\n",
    "<table align='left'>\n",
    "<tr><td colspan=2> <img src=\"https://docs.google.com/drawings/d/1LW6gUSfpf1edP08gk8GTjovFlZvqz9qKRRmt_YzP-l4/pub?w=960&amp;h=720\"> </td></tr>\n",
    "</table>\n",
    "-->"
   ]
  },
  {
   "cell_type": "markdown",
   "metadata": {
    "deletable": true,
    "editable": true
   },
   "source": [
    "\\vspace{5 mm}\n",
    "\\begin{align} \n",
    "\\boldsymbol{\\delta}_{(i)} & = \\begin{cases}\n",
    "\\frac{\\partial J}{\\partial z_{(i)}} = \\frac{\\partial J}{\\partial \\mathbf{a}_{(i)}}  \\frac{\\partial \\mathbf{a}_{(i)}}{\\partial \\mathbf{z}_{(i)}} = \\mathbf{a}_{(i)} - \\mathbf{y} & \\text{ if } i = L \\\\\n",
    "\\\\\n",
    "\\left ( \\boldsymbol{\\delta}_{(i+1)}  \\cdot \\mathbf{W}_{(i)}^{T} \\right ) \\circ \\frac{\\partial \\mathbf{a}_{(i)}}{\\partial \\mathbf{z}_{(i)}} = \\left ( \\boldsymbol{\\delta}_{(i+1)}  \\cdot \\mathbf{W}_{(i)}^{T} \\right ) \\circ \\left ( \\mathbf{a}_{(i)} (1 - \\mathbf{a}_{(i)}) \\right ) & \\text{ if } 1 \\leq i \\leq L-1 \n",
    "\\end{cases}\n",
    "\\\\[3 mm]\n",
    "\\mathbf{\\nabla}_{(i)} & = \\frac{1}{M} \\left( \\mathbf{a}_{(i)}^{T} \\cdot \\boldsymbol{\\delta}_{(i+1)} + \\lambda \\mathbf{W}_{(i)} \\right)\n",
    "\\\\[3 mm]\n",
    "\\mathbf{W}_{(i)} & = \\mathbf{W}_{(i)} - \\eta \\mathbf{\\nabla}_{(i)}\n",
    "\\end{align}"
   ]
  },
  {
   "cell_type": "markdown",
   "metadata": {
    "deletable": true,
    "editable": true
   },
   "source": [
    "## Implementação\n",
    "\n",
    "<!--\n",
    "<table align='left'>\n",
    "<tr>\n",
    "<td colspan=2> \n",
    "<b>Forward</b>\n",
    "<img src=\"https://docs.google.com/drawings/d/1gtCx1mmtt3pwlJwZaWOGW_OQ8sBttftRwH9uVmNPHaY/pub?w=960&h=720\" alt=\"Drawing\" style=\"width: 960px;\"/> \n",
    "</td>\n",
    "\n",
    "<td colspan=2> \n",
    "<b>Backward</b>\n",
    "<img src=\"https://docs.google.com/drawings/d/1C3HOnRX9bSnsvHlyWJo9pEirXE_4ms8RJWtaqMYGpQw/pub?w=960&h=720\" alt=\"Drawing\" style=\"width: 960px;\"/> \n",
    "</td>\n",
    "\n",
    "</tr>\n",
    "</table>\n",
    "-->\n"
   ]
  },
  {
   "cell_type": "markdown",
   "metadata": {
    "deletable": true,
    "editable": true
   },
   "source": [
    "### O código"
   ]
  },
  {
   "cell_type": "code",
   "execution_count": 2,
   "metadata": {
    "collapsed": false,
    "deletable": true,
    "editable": true
   },
   "outputs": [],
   "source": [
    "class BackPropNeuralNetwork:\n",
    "    \n",
    "    def __init__(self, layer_sizes=[], is_classifier=True, lambda_=0.0):\n",
    "        self.L = len(layer_sizes)\n",
    "        self.s = layer_sizes\n",
    "        self.W = None\n",
    "        self.classifier = is_classifier\n",
    "        self.costs = []\n",
    "        self.set_lambda(lambda_)\n",
    "\n",
    "    def init_weights(self, epsilon=None):\n",
    "        from numpy.random import rand\n",
    "        self.W = []\n",
    "        for i in range(self.L-1):\n",
    "            Wi = np.zeros((self.s[i+1], self.s[i]+1), np.float)\n",
    "            if epsilon != 0:\n",
    "                # Glorot Uniform or uniform with epsilon\n",
    "                eps = epsilon or np.sqrt(6.0 / (self.s[i] + self.s[i+1]))\n",
    "                Wi[:, 1:] = 2*eps*rand(self.s[i+1], self.s[i]) - eps\n",
    "            self.W.append(Wi.T)\n",
    "            \n",
    "    def set_lambda(self, value=None):\n",
    "        if value is not None:\n",
    "            self.lambda_ = value\n",
    "        return self.lambda_\n",
    "        \n",
    "    def predict(self, X):\n",
    "        a = self.compute_activations(self.W, X)\n",
    "        return a[-1]\n",
    "    \n",
    "    def evaluate(self, X, y):\n",
    "        a = self.compute_activations(self.W, X)\n",
    "        cost = self.compute_cost(a[-1], y)\n",
    "        return cost\n",
    "    \n",
    "    def compute_cost_and_gradient(self, W, X, y):\n",
    "        M, N  = X.shape\n",
    "        G = [None for n in self.s[:-1]]\n",
    "        # Forward propagation\n",
    "        a = self.compute_activations(W, X)\n",
    "        # Cost computation, without regularization\n",
    "        J = self.compute_cost(a[-1], y)\n",
    "        # Back propagation\n",
    "        d = self.compute_errors(W, a, y)\n",
    "        # Gradients\n",
    "        for j in range(self.L-1):\n",
    "            # ... add regularization to cost\n",
    "            J += 0.5 * self.lambda_ * (W[j][1:,:] * W[j][1:,:]).sum() / M\n",
    "            # ... compute gradient\n",
    "            G[j] = np.dot(a[j].T, d[j+1]) / M                    # eq. 5\n",
    "            # ... add regularization to gradient\n",
    "            G[j][1:,:] += self.lambda_ * W[j][1:,:] / M\n",
    "        return J, G\n",
    "\n",
    "    def compute_cost(self, y_pred, y_true):\n",
    "        M, P = y_true.shape\n",
    "        if self.classifier:\n",
    "            # classifier: binary cross-entropy                   # eq. 3\n",
    "            J = - (y_true * np.log(y_pred) + (1 - y_true) * np.log(1 - y_pred)).sum() / M\n",
    "        else:\n",
    "            # regressor: mean squared error                      # eq. 3\n",
    "            J = 0.5 * np.square(y_pred - y_true).sum() / M\n",
    "        return J\n",
    "    \n",
    "    def compute_activations(self, W, X):\n",
    "        a = [None for n in self.s]\n",
    "        a[0] = X                                                 # eq. 1\n",
    "        for j in range(1, self.L):\n",
    "            a[j-1] = np.insert(a[j-1], 0, 1, 1)\n",
    "            z = np.dot(a[j-1], W[j-1])                           # eq. 1\n",
    "            if j == self.L-1 and not self.classifier:\n",
    "                a[j] = z\n",
    "            else:\n",
    "                a[j] = self._logistic(z)                         # eq. 1\n",
    "        return a            \n",
    "\n",
    "    def compute_errors(self, W, a, y):\n",
    "        d = [None for n in self.s]\n",
    "        d[-1] = a[-1] - y                                        # eq. 4\n",
    "        for j in range(self.L-2, 0, -1):\n",
    "            d[j] = np.dot(d[j+1], W[j].T) * (a[j] * (1 - a[j]))  # eq. 4\n",
    "            d[j] = d[j][:,1:]\n",
    "        return d\n",
    "\n",
    "    def sgd(self, X, y, eta, batch_size, n_epochs, Xval=None, yval=None, verbose=0):\n",
    "        m, n = X.shape\n",
    "        n_batches = int(np.ceil(m / batch_size))\n",
    "        for epoch in range(n_epochs):\n",
    "            for ii in range(n_batches):\n",
    "                kk = batch_size * ii\n",
    "                X_batch, y_batch = X[kk:kk+batch_size], y[kk:kk+batch_size]\n",
    "                \n",
    "                cost, G = self.compute_cost_and_gradient(self.W, X, y)\n",
    "                for i in range(len(self.W)):\n",
    "                    self.W[i] -= eta * G[i]                      # eq. 6\n",
    "                                \n",
    "            if Xval is not None:\n",
    "                cost_val = self.evaluate(Xval, yval)\n",
    "                self.costs.append((epoch, cost, cost_val))\n",
    "                if (verbose > 0) and (not epoch % verbose):\n",
    "                    print(('{:4d} Training Cost: {:.5f}    Validation Cost: {:.5f}'.format(epoch, cost, cost_val)))\n",
    "            else:\n",
    "                self.costs.append((epoch, cost, 0))\n",
    "                if (verbose > 0) and (not epoch % verbose):\n",
    "                    print(('{:4d} Training Cost: {:.5f}'.format(epoch, cost)))\n",
    "\n",
    "        return self.costs\n",
    "\n",
    "    @staticmethod\n",
    "    def _logistic(z):\n",
    "        z = np.asarray(z)\n",
    "        z = np.minimum(z,  15)\n",
    "        z = np.maximum(z, -15)\n",
    "        return np.ones(z.shape)/(1.0 + np.exp(-z))\n"
   ]
  },
  {
   "cell_type": "markdown",
   "metadata": {
    "deletable": true,
    "editable": true
   },
   "source": [
    "### Verificando o cálculo do gradiente\n",
    "\n",
    "Para fazer uma verificação numérica da correção de nossa implementação concatenamos cada matriz $W^{(L)}$ de forma a criar um vetor $\\theta$ que contenha todos os pesos (e bias) de nossa rede neural.\n",
    "\n",
    "Para calcular o gradiente, para cada elemento do vetor $\\theta$ fazemos\n",
    "\n",
    "\n",
    "$$\n",
    "\\theta^{(i+)} = \\theta + \\begin{bmatrix}\n",
    "0 \\\\\n",
    "0\\\\ \n",
    "\\vdots \\\\ \n",
    "\\epsilon \\\\ \n",
    "\\vdots \\\\ \n",
    "0\n",
    "\\end{bmatrix} \\; \\; \\; \\; \\; \\; \\text{ e }  \\; \\; \\; \\theta^{(i-)} = \\theta - \\begin{bmatrix}\n",
    "0 \\\\\n",
    "0\\\\ \n",
    "\\vdots \\\\ \n",
    "\\epsilon \\\\ \n",
    "\\vdots \\\\ \n",
    "0\n",
    "\\end{bmatrix}\n",
    "$$\n",
    "\n",
    "Uma aproximação para o gradiente é dada por:\n",
    "\n",
    "$$\n",
    "\\frac{\\partial }{\\partial \\theta_i} J(\\theta) \\approx \\frac{J(\\theta^{(i+)}) - J(\\theta^{(i-)})}{2 \\epsilon}\n",
    "$$"
   ]
  },
  {
   "cell_type": "code",
   "execution_count": 3,
   "metadata": {
    "collapsed": false,
    "deletable": true,
    "editable": true
   },
   "outputs": [
    {
     "name": "stdout",
     "output_type": "stream",
     "text": [
      "Classificador: OK OK\n",
      "Regressor:     OK OK\n"
     ]
    }
   ],
   "source": [
    "def compute_approx_gradient(nnet, W, X, y, eps=0.0001):\n",
    "    def roll(thetas, W=W):\n",
    "        Theta, m = [], 0\n",
    "        for h, w in [t.shape for t in W]:\n",
    "            Theta.append(thetas[m:m + h*w].reshape((h,w)))\n",
    "            m += h*w\n",
    "        return Theta\n",
    "    \n",
    "    thetas = np.concatenate([t.flat for t in W])\n",
    "    agrads = np.zeros_like(thetas)\n",
    "    for i in range(thetas.shape[0]):\n",
    "        t_plus = thetas.copy()\n",
    "        t_plus[i] += eps            \n",
    "        J_plus, _ = nnet.compute_cost_and_gradient(roll(t_plus), X, y)\n",
    "\n",
    "        t_minus = thetas.copy()\n",
    "        t_minus[i] -= eps\n",
    "        J_minus, _ = nnet.compute_cost_and_gradient(roll(t_minus), X, y)\n",
    "\n",
    "        agrads[i] = (J_plus - J_minus) / (2*eps)\n",
    "\n",
    "    return agrads\n",
    "\n",
    "def gradient_check(lambda_, classif):\n",
    "    nn = BackPropNeuralNetwork([4, 5, 3], is_classifier=classif, lambda_=lambda_)\n",
    "    nn.init_weights()\n",
    "    \n",
    "    X = np.sin(np.arange(32)).reshape((8, 4)) / 10\n",
    "    y = np.zeros((8, 3))\n",
    "    for i, k in enumerate(np.mod(np.arange(8), 3)):\n",
    "        y[i,k] = 1.0\n",
    "    \n",
    "    agrad = compute_approx_gradient(nn, nn.W, X, y)\n",
    "    J, G = nn.compute_cost_and_gradient(nn.W, X, y)\n",
    "    grad = np.concatenate([t.flat for t in G])\n",
    "    \n",
    "    return np.allclose(agrad, grad)\n",
    "\n",
    "res = ['Error', 'OK']\n",
    "print('Classificador:', res[gradient_check(0.0, True)],  res[gradient_check(0.5, True)])\n",
    "print('Regressor:    ', res[gradient_check(0.0, False)], res[gradient_check(0.5, False)])\n"
   ]
  },
  {
   "cell_type": "markdown",
   "metadata": {
    "deletable": true,
    "editable": true
   },
   "source": [
    "## Testes"
   ]
  },
  {
   "cell_type": "markdown",
   "metadata": {
    "deletable": true,
    "editable": true
   },
   "source": [
    "### Boston Housing Data Set\n"
   ]
  },
  {
   "cell_type": "code",
   "execution_count": 4,
   "metadata": {
    "collapsed": false,
    "deletable": true,
    "editable": true
   },
   "outputs": [],
   "source": [
    "data = np.load('../data/boston_housing.npz')\n",
    "Xtra, ytra = data['Xtra'], data['ytra']\n",
    "Xval, yval = data['Xval'], data['yval']\n",
    "M, N = Xtra.shape"
   ]
  },
  {
   "cell_type": "markdown",
   "metadata": {
    "deletable": true,
    "editable": true
   },
   "source": [
    "### Testes"
   ]
  },
  {
   "cell_type": "code",
   "execution_count": 5,
   "metadata": {
    "collapsed": false
   },
   "outputs": [
    {
     "name": "stdout",
     "output_type": "stream",
     "text": [
      "------------------------------------------------------------\n",
      "Tuneable parameters: 561\n",
      "------------------------------------------------------------\n",
      "Trained in 6.239082s\n",
      "\n"
     ]
    }
   ],
   "source": [
    "nr.seed(20170514)\n",
    "\n",
    "layer_sizes = [N, 40, 1]\n",
    "n_epochs = 2000\n",
    "batch_size = M\n",
    "lr = 0.1\n",
    "lambda_a = 0.0\n",
    "lambda_b = 8.0\n",
    "\n",
    "nnet_a = BackPropNeuralNetwork(layer_sizes, is_classifier=False, lambda_=lambda_a)\n",
    "nnet_a.init_weights()\n",
    "W_init = [w.copy() for w in nnet_a.W]    # save the random weights to reuse in keras\n",
    "\n",
    "nnet_b = BackPropNeuralNetwork(layer_sizes, is_classifier=False, lambda_=lambda_b)\n",
    "nnet_b.W = [w.copy() for w in W_init]\n",
    "\n",
    "print('-'*60)\n",
    "print('Tuneable parameters: {}'.format(sum([w.size for w in nnet_a.W])))\n",
    "print('-'*60)\n",
    "\n",
    "try:\n",
    "    t1 = t0 = time.time()\n",
    "    costs_a = nnet_a.sgd(Xtra, ytra, lr, batch_size, n_epochs, Xval=Xval, yval=yval, verbose=0)\n",
    "    costs_b = nnet_b.sgd(Xtra, ytra, lr, batch_size, n_epochs, Xval=Xval, yval=yval, verbose=0)\n",
    "    t1 = time.time()\n",
    "except KeyboardInterrupt:\n",
    "    pass\n",
    "\n",
    "print('Trained in {:2f}s\\n'.format(t1-t0))"
   ]
  },
  {
   "cell_type": "code",
   "execution_count": 6,
   "metadata": {
    "collapsed": false,
    "deletable": true,
    "editable": true
   },
   "outputs": [
    {
     "name": "stdout",
     "output_type": "stream",
     "text": [
      "MSE:  9.725  for lambda = 0.000\n",
      "MSE:  8.665  for lambda = 8.000\n"
     ]
    },
    {
     "data": {
      "image/png": "[encoded data removed]",
      "text/plain": [
       "<matplotlib.figure.Figure at 0x7f73c395fd30>"
      ]
     },
     "metadata": {},
     "output_type": "display_data"
    }
   ],
   "source": [
    "mse_a = np.square(nnet_a.predict(Xval) - yval).mean()\n",
    "mse_b = np.square(nnet_b.predict(Xval) - yval).mean()\n",
    "print('MSE: {:6.3f}  for lambda = {:.3f}'.format(mse_a, lambda_a))\n",
    "print('MSE: {:6.3f}  for lambda = {:.3f}'.format(mse_b, lambda_b))\n",
    "\n",
    "fig = plot.figure(figsize=(15,4))\n",
    "\n",
    "fig.add_subplot(121)\n",
    "plot.plot([c1 for i, c1, c2 in costs_a], label='train')\n",
    "plot.plot([c2 for i, c1, c2 in costs_a], label='validation')\n",
    "plot.ylim(0, 50.)\n",
    "plot.legend()\n",
    "plot.grid()\n",
    "plot.title('SSE  $\\lambda = {:.3f}$'.format(lambda_a));\n",
    "\n",
    "fig.add_subplot(122)\n",
    "plot.plot([c1 for i, c1, c2 in costs_b], label='train')\n",
    "plot.plot([c2 for i, c1, c2 in costs_b], label='validation')\n",
    "plot.ylim(0, 50.)\n",
    "plot.legend()\n",
    "plot.grid()\n",
    "plot.title('SSE  $\\lambda = {:.3f}$'.format(lambda_b));"
   ]
  },
  {
   "cell_type": "markdown",
   "metadata": {
    "deletable": true,
    "editable": true
   },
   "source": [
    "### Implementando com o Keras"
   ]
  },
  {
   "cell_type": "code",
   "execution_count": 7,
   "metadata": {
    "collapsed": false
   },
   "outputs": [
    {
     "name": "stdout",
     "output_type": "stream",
     "text": [
      "_________________________________________________________________\n",
      "Layer (type)                 Output Shape              Param #   \n",
      "=================================================================\n",
      "dense_1 (Dense)              (None, 40)                520       \n",
      "_________________________________________________________________\n",
      "dense_2 (Dense)              (None, 1)                 41        \n",
      "=================================================================\n",
      "Total params: 561\n",
      "Trainable params: 561\n",
      "Non-trainable params: 0\n",
      "_________________________________________________________________\n",
      "Trained in 15.028735s\n",
      "\n"
     ]
    }
   ],
   "source": [
    "def build(lambda_=0.0):  \n",
    "    model = Sequential()\n",
    "    model.add(Dense(layer_sizes[1], activation='sigmoid', input_dim=layer_sizes[0], kernel_regularizer=l2(lambda_)))\n",
    "    for i, nn in enumerate(layer_sizes[2:-1]):\n",
    "        model.add(Dense(nn, activation='sigmoid', kernel_regularizer=l2(lambda_)))\n",
    "    model.add(Dense(layer_sizes[-1], activation='linear', kernel_regularizer=l2(lambda_)))\n",
    "    return model\n",
    "\n",
    "\n",
    "lambda_aa = lambda_a / (2*M)\n",
    "lambda_bb = lambda_b / (2*M)\n",
    "\n",
    "nnet_a = build(lambda_aa)\n",
    "nnet_b = build(lambda_bb)\n",
    "nnet_a.summary()\n",
    "loss = 'mse'\n",
    "\n",
    "if 1:\n",
    "    def my_mean_squared_error(y_true, y_pred):\n",
    "        return tf.reduce_mean(tf.square(y_true - y_pred)) / 2.0\n",
    "\n",
    "    loss = my_mean_squared_error\n",
    "    \n",
    "    # Using the initial random weights from our implementation\n",
    "    weights = []\n",
    "    for W in W_init:\n",
    "        weights.append(W[1:, :])\n",
    "        weights.append(W[0, :])\n",
    "    nnet_a.set_weights(weights)\n",
    "    nnet_b.set_weights(weights)\n",
    "\n",
    "opt = SGD(lr=lr)\n",
    "nnet_a.compile(loss=loss, optimizer=opt)\n",
    "nnet_b.compile(loss=loss, optimizer=opt)\n",
    "\n",
    "try:\n",
    "    t0 = time.time()\n",
    "    histo_a = nnet_a.fit(Xtra, ytra, batch_size=batch_size, epochs=n_epochs, verbose=0, shuffle=False,\n",
    "                         validation_data=(Xval, yval), callbacks=[])\n",
    "    histo_b = nnet_b.fit(Xtra, ytra, batch_size=batch_size, epochs=n_epochs, verbose=0, shuffle=False,\n",
    "                         validation_data=(Xval, yval), callbacks=[])\n",
    "    t1 = time.time()\n",
    "except KeyboardInterrupt:\n",
    "    pass\n",
    "\n",
    "print('Trained in {:2f}s\\n'.format(t1-t0))"
   ]
  },
  {
   "cell_type": "code",
   "execution_count": 8,
   "metadata": {
    "collapsed": false,
    "deletable": true,
    "editable": true,
    "scrolled": false
   },
   "outputs": [
    {
     "name": "stdout",
     "output_type": "stream",
     "text": [
      "MSE:  9.725  for lambda = 0.000\n",
      "MSE:  8.665  for lambda = 0.010\n"
     ]
    },
    {
     "data": {
      "image/png": "[encoded data removed]",
      "text/plain": [
       "<matplotlib.figure.Figure at 0x7f73c395f160>"
      ]
     },
     "metadata": {},
     "output_type": "display_data"
    }
   ],
   "source": [
    "mse_a = np.square(nnet_a.predict(Xval, verbose=0) - yval).mean()\n",
    "mse_b = np.square(nnet_b.predict(Xval, verbose=0) - yval).mean()\n",
    "print('MSE: {:6.3f}  for lambda = {:.3f}'.format(mse_a, lambda_aa))\n",
    "print('MSE: {:6.3f}  for lambda = {:.3f}'.format(mse_b, lambda_bb))\n",
    "\n",
    "fig = plot.figure(figsize=(15,4))\n",
    "\n",
    "fig.add_subplot(121)\n",
    "plot.plot(histo_a.history['loss'], label='train')\n",
    "plot.plot(histo_a.history['val_loss'], label='validation')\n",
    "plot.ylim(0, 50.)\n",
    "plot.legend()\n",
    "plot.grid()\n",
    "plot.title('SSE  $\\lambda = {:.3f}$'.format(lambda_aa));\n",
    "\n",
    "fig.add_subplot(122)\n",
    "plot.plot(histo_b.history['loss'], label='train')\n",
    "plot.plot(histo_b.history['val_loss'], label='validation')\n",
    "plot.ylim(0, 50.)\n",
    "plot.legend()\n",
    "plot.grid()\n",
    "plot.title('SSE  $\\lambda = {:.3f}$'.format(lambda_bb));"
   ]
  },
  {
   "cell_type": "code",
   "execution_count": null,
   "metadata": {
    "collapsed": false,
    "deletable": true,
    "editable": true
   },
   "outputs": [],
   "source": []
  },
  {
   "cell_type": "code",
   "execution_count": null,
   "metadata": {
    "collapsed": true
   },
   "outputs": [],
   "source": []
  }
 ],
 "metadata": {
  "kernelspec": {
   "display_name": "Python 3",
   "language": "python",
   "name": "python3"
  },
  "language_info": {
   "codemirror_mode": {
    "name": "ipython",
    "version": 3
   },
   "file_extension": ".py",
   "mimetype": "text/x-python",
   "name": "python",
   "nbconvert_exporter": "python",
   "pygments_lexer": "ipython3",
   "version": "3.4.3"
  },
  "latex_envs": {
   "LaTeX_envs_menu_present": true,
   "autocomplete": true,
   "bibliofile": "biblio.bib",
   "cite_by": "apalike",
   "current_citInitial": 1,
   "eqLabelWithNumbers": true,
   "eqNumInitial": 1,
   "hotkeys": {
    "equation": "Ctrl-E",
    "itemize": "Ctrl-I"
   },
   "labels_anchors": false,
   "latex_user_defs": false,
   "report_style_numbering": false,
   "user_envs_cfg": false
  },
  "toc": {
   "colors": {
    "hover_highlight": "#DAA520",
    "running_highlight": "#FF0000",
    "selected_highlight": "#FFD700"
   },
   "moveMenuLeft": true,
   "nav_menu": {
    "height": "12px",
    "width": "252px"
   },
   "navigate_menu": true,
   "number_sections": true,
   "sideBar": true,
   "threshold": 4,
   "toc_cell": true,
   "toc_position": {
    "height": "697px",
    "left": "0px",
    "right": "1189px",
    "top": "106px",
    "width": "251px"
   },
   "toc_section_display": "block",
   "toc_window_display": false,
   "widenNotebook": false
  }
 },
 "nbformat": 4,
 "nbformat_minor": 2
}
