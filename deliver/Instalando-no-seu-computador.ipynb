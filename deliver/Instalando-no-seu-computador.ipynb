{
 "cells": [
  {
   "cell_type": "markdown",
   "metadata": {},
   "source": [
    "# Como instalar o ambiente para executar os experimentos do curso no seu computador\n",
    "\n",
    "Para poder executar os experimentos realizados no curso, são necessários vários pacotes do Python. Para facilitar, geramos um container do Docker para você instalar no seu computador:"
   ]
  },
  {
   "cell_type": "markdown",
   "metadata": {},
   "source": [
    "1. Instale o Docker no seu computador\n",
    "2. Uma vez no docker execute o seguinte comando:\n",
    "```\n",
    "    - #!/bin/sh\n",
    "      nvidia-docker run --name jupyter -it -p 8888:8888 \\\n",
    "              -v <host_projects_directory>:/opt/projects \\\n",
    "              -v <host_host_datasets_directory>:/root \\\n",
    "              rcm2016/keras:1.0 $1\n",
    "```\n",
    "\n",
    "- Obs1: Estas instruções para quem é experiente no uso do Docker\n",
    "- Obs2: Se o computador tiver uma GPU, é necessário que antes os drivers da GPU sejam instalados"
   ]
  }
 ],
 "metadata": {
  "anaconda-cloud": {}
 },
 "nbformat": 4,
 "nbformat_minor": 2
}
