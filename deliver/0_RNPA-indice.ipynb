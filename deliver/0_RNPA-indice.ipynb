{
 "cells": [
  {
   "cell_type": "markdown",
   "metadata": {
    "toc": "true"
   },
   "source": [
    "# Table of Contents\n",
    " <p><div class=\"lev1 toc-item\"><a href=\"#Treinamento-Redes-Neurais-e-Aprendizado-Profundo-de-Máquina\" data-toc-modified-id=\"Treinamento-Redes-Neurais-e-Aprendizado-Profundo-de-Máquina-1\"><span class=\"toc-item-num\">1&nbsp;&nbsp;</span>Treinamento Redes Neurais e Aprendizado Profundo de Máquina</a></div><div class=\"lev2 toc-item\"><a href=\"#Conteúdo\" data-toc-modified-id=\"Conteúdo-11\"><span class=\"toc-item-num\">1.1&nbsp;&nbsp;</span>Conteúdo</a></div><div class=\"lev3 toc-item\"><a href=\"#Glossário\" data-toc-modified-id=\"Glossário-111\"><span class=\"toc-item-num\">1.1.1&nbsp;&nbsp;</span><a href=\"Glossario.ipynb\" target=\"_blank\">Glossário</a></a></div><div class=\"lev3 toc-item\"><a href=\"#I---Introdução-ao-curso\" data-toc-modified-id=\"I---Introdução-ao-curso-112\"><span class=\"toc-item-num\">1.1.2&nbsp;&nbsp;</span>I - Introdução ao curso</a></div><div class=\"lev3 toc-item\"><a href=\"#II---Introdução-a-redes-neurais\" data-toc-modified-id=\"II---Introdução-a-redes-neurais-113\"><span class=\"toc-item-num\">1.1.3&nbsp;&nbsp;</span>II - Introdução a redes neurais</a></div><div class=\"lev4 toc-item\"><a href=\"#Regressão-Linear\" data-toc-modified-id=\"Regressão-Linear-1131\"><span class=\"toc-item-num\">1.1.3.1&nbsp;&nbsp;</span>Regressão Linear</a></div><div class=\"lev4 toc-item\"><a href=\"#Regressão-Linear-no-TensorFlow\" data-toc-modified-id=\"Regressão-Linear-no-TensorFlow-1132\"><span class=\"toc-item-num\">1.1.3.2&nbsp;&nbsp;</span>Regressão Linear no TensorFlow</a></div><div class=\"lev4 toc-item\"><a href=\"#Softmax\" data-toc-modified-id=\"Softmax-1133\"><span class=\"toc-item-num\">1.1.3.3&nbsp;&nbsp;</span>Softmax</a></div><div class=\"lev4 toc-item\"><a href=\"#Regressão-Logística-multiclasse\" data-toc-modified-id=\"Regressão-Logística-multiclasse-1134\"><span class=\"toc-item-num\">1.1.3.4&nbsp;&nbsp;</span>Regressão Logística multiclasse</a></div><div class=\"lev4 toc-item\"><a href=\"#Regressão-Logística-multiclasse,-agora-no-Keras\" data-toc-modified-id=\"Regressão-Logística-multiclasse,-agora-no-Keras-1135\"><span class=\"toc-item-num\">1.1.3.5&nbsp;&nbsp;</span>Regressão Logística multiclasse, agora no Keras</a></div><div class=\"lev4 toc-item\"><a href=\"#Regressão-Logística-multiclasse,-dataset-NMIST\" data-toc-modified-id=\"Regressão-Logística-multiclasse,-dataset-NMIST-1136\"><span class=\"toc-item-num\">1.1.3.6&nbsp;&nbsp;</span>Regressão Logística multiclasse, dataset NMIST</a></div><div class=\"lev4 toc-item\"><a href=\"#Regressão-Logística-multiclasse,-dataset-NMIST,-agora-no-Keras\" data-toc-modified-id=\"Regressão-Logística-multiclasse,-dataset-NMIST,-agora-no-Keras-1137\"><span class=\"toc-item-num\">1.1.3.7&nbsp;&nbsp;</span>Regressão Logística multiclasse, dataset NMIST, agora no Keras</a></div><div class=\"lev4 toc-item\"><a href=\"#Rede-neural-densa-2-camadas\" data-toc-modified-id=\"Rede-neural-densa-2-camadas-1138\"><span class=\"toc-item-num\">1.1.3.8&nbsp;&nbsp;</span>Rede neural densa 2 camadas</a></div><div class=\"lev4 toc-item\"><a href=\"#Ilustrando-overfitting-e-underfitting,-regularização-com-exemplo-de--ajuste-de-polinômio\" data-toc-modified-id=\"Ilustrando-overfitting-e-underfitting,-regularização-com-exemplo-de--ajuste-de-polinômio-1139\"><span class=\"toc-item-num\">1.1.3.9&nbsp;&nbsp;</span>Ilustrando overfitting e underfitting, regularização com exemplo de  ajuste de polinômio</a></div><div class=\"lev4 toc-item\"><a href=\"#Seleção-de-modelo\" data-toc-modified-id=\"Seleção-de-modelo-11310\"><span class=\"toc-item-num\">1.1.3.10&nbsp;&nbsp;</span>Seleção de modelo</a></div><div class=\"lev4 toc-item\"><a href=\"#Supervisionado-vs-NaoSupervisionado\" data-toc-modified-id=\"Supervisionado-vs-NaoSupervisionado-11311\"><span class=\"toc-item-num\">1.1.3.11&nbsp;&nbsp;</span>Supervisionado-vs-NaoSupervisionado</a></div><div class=\"lev3 toc-item\"><a href=\"#III---Redes-neurais-profundas---redes-convolucionais\" data-toc-modified-id=\"III---Redes-neurais-profundas---redes-convolucionais-114\"><span class=\"toc-item-num\">1.1.4&nbsp;&nbsp;</span>III - Redes neurais profundas - redes convolucionais</a></div><div class=\"lev4 toc-item\"><a href=\"#Convolução-Keras/TensorFlow\" data-toc-modified-id=\"Convolução-Keras/TensorFlow-1141\"><span class=\"toc-item-num\">1.1.4.1&nbsp;&nbsp;</span>Convolução Keras/TensorFlow</a></div><div class=\"lev4 toc-item\"><a href=\"#Introdução-ao-Keras\" data-toc-modified-id=\"Introdução-ao-Keras-1142\"><span class=\"toc-item-num\">1.1.4.2&nbsp;&nbsp;</span>Introdução ao Keras</a></div><div class=\"lev4 toc-item\"><a href=\"#CIFAR-10\" data-toc-modified-id=\"CIFAR-10-1143\"><span class=\"toc-item-num\">1.1.4.3&nbsp;&nbsp;</span>CIFAR-10</a></div><div class=\"lev4 toc-item\"><a href=\"#Keras-LeNet-e-MNIST\" data-toc-modified-id=\"Keras-LeNet-e-MNIST-1144\"><span class=\"toc-item-num\">1.1.4.4&nbsp;&nbsp;</span>Keras LeNet e MNIST</a></div><div class=\"lev4 toc-item\"><a href=\"#Otimizadores\" data-toc-modified-id=\"Otimizadores-1145\"><span class=\"toc-item-num\">1.1.4.5&nbsp;&nbsp;</span>Otimizadores</a></div><div class=\"lev4 toc-item\"><a href=\"#Autocodificador-convolucional\" data-toc-modified-id=\"Autocodificador-convolucional-1146\"><span class=\"toc-item-num\">1.1.4.6&nbsp;&nbsp;</span>Autocodificador convolucional</a></div><div class=\"lev4 toc-item\"><a href=\"#Rede-totalmente-convolucional\" data-toc-modified-id=\"Rede-totalmente-convolucional-1147\"><span class=\"toc-item-num\">1.1.4.7&nbsp;&nbsp;</span>Rede totalmente convolucional</a></div><div class=\"lev4 toc-item\"><a href=\"#Aprendizado-com-poucos-dados,-transfer-learning\" data-toc-modified-id=\"Aprendizado-com-poucos-dados,-transfer-learning-1148\"><span class=\"toc-item-num\">1.1.4.8&nbsp;&nbsp;</span>Aprendizado com poucos dados, transfer learning</a></div><div class=\"lev3 toc-item\"><a href=\"#IV---Aplicações\" data-toc-modified-id=\"IV---Aplicações-115\"><span class=\"toc-item-num\">1.1.5&nbsp;&nbsp;</span>IV - Aplicações</a></div><div class=\"lev4 toc-item\"><a href=\"#Face-spoofing\" data-toc-modified-id=\"Face-spoofing-1151\"><span class=\"toc-item-num\">1.1.5.1&nbsp;&nbsp;</span>Face spoofing</a></div><div class=\"lev4 toc-item\"><a href=\"#Skull-Stripping\" data-toc-modified-id=\"Skull-Stripping-1152\"><span class=\"toc-item-num\">1.1.5.2&nbsp;&nbsp;</span>Skull Stripping</a></div><div class=\"lev2 toc-item\"><a href=\"#Documentação\" data-toc-modified-id=\"Documentação-12\"><span class=\"toc-item-num\">1.2&nbsp;&nbsp;</span>Documentação</a></div>"
   ]
  },
  {
   "cell_type": "markdown",
   "metadata": {},
   "source": [
    "# Treinamento Redes Neurais e Aprendizado Profundo de Máquina\n",
    "\n",
    "<img src=\"../figures/capacurso.png\",width=600pt>\n"
   ]
  },
  {
   "cell_type": "markdown",
   "metadata": {},
   "source": [
    "## Conteúdo\n",
    "\n",
    "### [Glossário](Glossario.ipynb)\n",
    "\n",
    "### I - Introdução ao curso\n",
    "\n",
    "1. Conteúdo e formato do curso \n",
    "2. Introdução a Aprendizagem de Máquina, Redes Neurais Profundas e Redes Convolucionais\n",
    "3. Ferramentas e Ambiente de trabalho durante o curso\n",
    "    - Jupyter, Git, Python, NumPy\n",
    "    * NB:[Git e Github](Git-basico-Git-Classroom.ipynb)\n",
    "    * NB:[Python](tutorial-python.ipynb)\n",
    "    * NB:[NumPy](tutorial-numpy.ipynb)\n",
    "    * NB:[NumPy - reshape, redução de eixo e broadcast](numpy-reshape-broadcast-reducao.ipynb)\n",
    "    * Toolbox ia898: [Tutoriais Jupyter/Python/NumPy/Proc. Imagens](../../ia898/master/0_index.ipynb)"
   ]
  },
  {
   "cell_type": "markdown",
   "metadata": {
    "ExecuteTime": {
     "end_time": "2017-04-21T00:46:59.730628",
     "start_time": "2017-04-21T00:46:59.710761"
    }
   },
   "source": [
    "### II - Introdução a redes neurais\n",
    "\n",
    "#### Regressão Linear\n",
    "- Conceitos novos:\n",
    "- Teoria: Otimização Mínimos Quadrados usando gradiente descendente, notação matemática\n",
    "- Prática: Programação matricial $y = Xw$; Laço de gradiente descendente; Plotando gráficos; visualizando animação da otimização na função custo e no ajuste reta\n",
    "    * NB: [Regressão Linear](Regressao-Linear.ipynb) \n",
    "\n",
    "#### Regressão Linear no TensorFlow\n",
    "- Conceitos novos:\n",
    "- Teoria: Estilo de programação linguagem de fluxo\n",
    "- Prática: Implementação da Regressão Linear no TensorFlow\n",
    "    * NB: [Regressão Linear Tensorflow](Regressao-Linear-tensorflow.ipynb) \n",
    "    \n",
    "#### Softmax\n",
    "- Conceitos novos:\n",
    "- Teoria: Softmax para classificação multiclasse\n",
    "- Prática: Explorando comportamento do Softmax, com parâmetros interativos\n",
    " * NB: [Softmax](softmax.ipynb)\n",
    " \n",
    "#### Regressão Logística multiclasse\n",
    "- Conceitos novos: \n",
    "- Teoria: Classificação multiclasse com Softmax; Custo entropia cruzada; one-hot-encoding; mesmo modelo anterior de otimização\n",
    "    * NB: [Regressão Logística Multiclasse Softmax - Iris 2D - Programação matricial](Regressao-Logistica-Softmax-Iris-2D-matricial.ipynb)\n",
    "    * NB: [Regressão Logística Multiclasse Softmax - Iris 2D - programação matricial - fronteira dinâmica](Regressao-Logistica-Softmax-Iris-2D-matricial-Fronteira-Dinamica.ipynb)\n",
    "\n",
    "#### Regressão Logística multiclasse, agora no Keras\n",
    "- Conceitos novos:\n",
    "- Prática: Introdução inicial do Keras, mostrando que executa o mesmo exemplo anterior; criando a rede, definindo otimizador\n",
    " * NB: [Regressão Logística Multiclasse Softmax - Iris 2D - usando o Keras](Regressao-Logistica-Softmax-Iris-2D-Keras.ipynb)\n",
    " * NB: [Regressão Logística Multiclasse Softmax - Iris 2D - usando o Keras - Fronteira dinâmica](Regressao-Logistica-Softmax-Iris-2D-Keras-Fronteira-Dinamica.ipynb)\n",
    "\n",
    "#### Regressão Logística multiclasse, dataset NMIST\n",
    "- Conceitos novos:\n",
    "- Prática: dataset NMIST, Visualização dos pesos na forma de template; não é possível mais visualizar espaço de atributos nem espaço de parâmetros. Visualiza-se a queda da função de perda\n",
    " * NB: [Regressão Logística Multiclasse Softmax - MNIST - Programação Matricial](Regressao-Logistica-Softmax-MNIST-matricial.ipynb)\n",
    "\n",
    "#### Regressão Logística multiclasse, dataset NMIST, agora no Keras\n",
    "- Conceitos novos:\n",
    "- Prática: extraindo os pesos aprendidos da rede no Keras\n",
    " * NB: [Regressão Logística Multiclasse Softmax - MNIST - usando o Keras](Regressao-Logistica-Softmax-MNIST-Keras.ipynb)\n",
    "\n",
    "#### Rede neural densa 2 camadas\n",
    "- Conceitos novos:\n",
    "- Teoria: concatenação de camadas com elemento não linear reLU; retropropagação;\n",
    "- Prática: Dificuldade de otimização, falta de atributos\n",
    " * NB: [Rede Neural 2 camadas com reLU - Iris - usando Keras](Densas-2.ipynb)\n",
    "\n",
    "#### Ilustrando overfitting e underfitting, regularização com exemplo de  ajuste de polinômio\n",
    "- Conceitos novos:\n",
    "- Teoria: Conceito de overfitting e underfitting, conceito de regularização, função de custo\n",
    "- Prática: Explorando parâmetros de ajustes e parâmetros de regularização\n",
    " * NB: [Ajuste curvas: Overfitting - Underfitting - Regularização](overfitting_regularization.ipynb)\n",
    " \n",
    "#### Seleção de modelo\n",
    "- Conceitos novos:\n",
    "- Teoria: Processo de seleção de modelo, busca de hyperparâmetros\n",
    "- Prática: Divisão do conjunto de dados: treino, validação e testes.\n",
    "- seleção de modelo, busca por ajuste de hyperparâmetros\n",
    " * NB: [Seleção de modelo](model_selection.ipynb)\n",
    " \n",
    "#### Supervisionado-vs-NaoSupervisionado\n",
    "- Conceitos novos:\n",
    "- Teoria: Classificador Supervisionado e Não Supervisionado\n",
    "- Prática: Uso do sklearn, pandas e visualização de fronteiras de decisão\n",
    " * NB: [Supervisionado versus Nao Supervisionado](Supervisionado-vs-NaoSupervisionado.ipynb)"
   ]
  },
  {
   "cell_type": "markdown",
   "metadata": {},
   "source": [
    "### III - Redes neurais profundas - redes convolucionais\n",
    "\n",
    "#### Convolução Keras/TensorFlow\n",
    "- Conceitos novos:\n",
    "- Teoria: Convolução, processamento borda, zero-padding, dimensionalidade dos arrays\n",
    "- Prática: rede convolucional no Keras, variação de número de imagens, kernels e filtros de saída\n",
    " * NB: [Convolução](Explorando-Convolucao-no-Keras-usando-TensorFlow.ipynb)\n",
    "\n",
    "#### Introdução ao Keras\n",
    "- Conceitos novos:\n",
    "- Prática: Keras, criando o modelo, colocando pesos, retirando pesos e retirando camadas\n",
    " * NB: [Introdução ao Keras](Introducao-CNN-Keras.ipynb)\n",
    "\n",
    "#### CIFAR-10\n",
    "- Conceitos novos:\n",
    "- Teoria: visualização das camadas internas\n",
    "- Prática: Keras - criando a rede, treinando e avaliando\n",
    " * NB: [CIFAR-10 e rede convolucional no Keras](cifar10-CNN-features.ipynb)\n",
    "\n",
    "#### Keras LeNet e MNIST\n",
    "- Conceitos novos:\n",
    "- Teoria: Rede convolucional LeNet\n",
    " * NB: [KerasLenetMNIST](keras-lenet-mnist.ipynb)\n",
    "\n",
    "#### Otimizadores\n",
    "- Conceitos novos: \n",
    "- Teoria: Diversos otimizadores: SGD com momento, SGD com momento Nesterov, SGD com queda de fator de aprendizagem, RMSprop, Adadelta, Adam\n",
    "- Prática: Observação do desempenho de diversos otimizadores\n",
    " * NB: [Otimizadores](Keras-optimizers.ipynb)\n",
    "\n",
    "#### Autocodificador convolucional\n",
    "- Conceitos novos:\n",
    "- Teoria: autoencoders, autoencoders convolucionais\n",
    "- Prática: treinando autoencoders\n",
    "- NB:[Autocodificador convolucional](ConvolutionalAutoencoder.ipynb)\n",
    "\n",
    "\n",
    "#### Rede totalmente convolucional\n",
    "- Conceitos novos:\n",
    "- Teoria: Convertendo uma rede com camadas densas para totalmente convolucionais para otimizar varredura da imagem\n",
    "- Prática: Explorando o exemplo implementado\n",
    " * NB: [Rede totalmente convolucional](fully_convolutional.ipynb)\n",
    " \n",
    "#### Aprendizado com poucos dados, transfer learning\n",
    "- Conceitos novos:\n",
    "- Teoria: Aprendizado com poucos dados, data augmentation, treina do zero 80%\n",
    " * NB: [Aprendizado com poucos dados I](cats-and-dogs-1.ipynb)\n",
    " - trasfer learning off-the-shelf feature extraction com VGG aprendida 90%\n",
    " * NB: [Aprendizado com poucos dados II](cats-and-dogs-2.ipynb)\n",
    " - transfer learning,fine tuning,\n",
    " * NB: [Aprendizado com poucos dados III](cats-and-dogs-3.ipynb)\n",
    " \n",
    " * NB: [Exercício](Exercicio.ipynb)\n",
    " "
   ]
  },
  {
   "cell_type": "markdown",
   "metadata": {},
   "source": [
    "### IV - Aplicações\n",
    "\n",
    "#### Face spoofing\n",
    "- Aplicação usando transfer learning de detecção de ataques em sistemas de reconhecimento de imagens\n",
    " * NB:[Face antispoofing](Face-anti-spoofing-FASNet.ipynb)\n",
    "\n",
    "\n",
    "#### Skull Stripping\n",
    "- Aplicação de segmentação de imagens cerebrais de ressonância magnética. Retira a parte que \n",
    " * NB: [Skull Stripping 2D](2D-Skull-Stripping.ipynb)\n",
    " * NB: [Skull Stripping 2D Resultados](2D-Skull-Stripping-Resultados.ipynb)"
   ]
  },
  {
   "cell_type": "markdown",
   "metadata": {},
   "source": [
    "## Documentação\n",
    "\n",
    "- [Jupyter Notebook](http://jupyter-notebook.readthedocs.io/en/latest/notebook.html)"
   ]
  },
  {
   "cell_type": "code",
   "execution_count": null,
   "metadata": {
    "collapsed": false
   },
   "outputs": [],
   "source": [
    "#!jupyter nbconvert RNPI-indice.ipynb"
   ]
  },
  {
   "cell_type": "code",
   "execution_count": null,
   "metadata": {
    "collapsed": true
   },
   "outputs": [],
   "source": []
  }
 ],
 "metadata": {
  "anaconda-cloud": {},
  "kernelspec": {
   "display_name": "Python 3",
   "language": "python",
   "name": "python3"
  },
  "language_info": {
   "codemirror_mode": {
    "name": "ipython",
    "version": 3
   },
   "file_extension": ".py",
   "mimetype": "text/x-python",
   "name": "python",
   "nbconvert_exporter": "python",
   "pygments_lexer": "ipython3",
   "version": "3.6.0"
  },
  "toc": {
   "colors": {
    "hover_highlight": "#DAA520",
    "running_highlight": "#FF0000",
    "selected_highlight": "#FFD700"
   },
   "moveMenuLeft": true,
   "nav_menu": {
    "height": "512px",
    "width": "252px"
   },
   "navigate_menu": true,
   "number_sections": true,
   "sideBar": true,
   "threshold": 4,
   "toc_cell": true,
   "toc_section_display": "block",
   "toc_window_display": true
  }
 },
 "nbformat": 4,
 "nbformat_minor": 0
}
