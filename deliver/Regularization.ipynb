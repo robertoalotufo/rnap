{
 "cells": [
  {
   "cell_type": "markdown",
   "metadata": {},
   "source": [
    "# Regularização"
   ]
  },
  {
   "cell_type": "markdown",
   "metadata": {},
   "source": [
    "## Preâmbulo"
   ]
  },
  {
   "cell_type": "code",
   "execution_count": 1,
   "metadata": {
    "collapsed": false
   },
   "outputs": [
    {
     "name": "stderr",
     "output_type": "stream",
     "text": [
      "Using TensorFlow backend.\n"
     ]
    }
   ],
   "source": [
    "%matplotlib inline\n",
    "import matplotlib.pyplot as plot\n",
    "from IPython.display import display\n",
    "# To support both python 2 and python 3\n",
    "from __future__ import division, print_function, unicode_literals\n",
    "\n",
    "import time\n",
    "import numpy as np\n",
    "import numpy.random as nr\n",
    "import pandas as pd\n",
    "import tensorflow as tf\n",
    "\n",
    "from keras.models import Sequential, load_model\n",
    "from keras.layers.core import Dense, Flatten, Dropout\n",
    "from keras.optimizers import SGD\n",
    "from keras.callbacks import EarlyStopping, TensorBoard, ModelCheckpoint\n",
    "from keras.utils import np_utils\n",
    "import keras.regularizers as regul\n",
    "\n",
    "np.set_printoptions(precision=3, linewidth=100, suppress=True)"
   ]
  },
  {
   "cell_type": "code",
   "execution_count": 2,
   "metadata": {
    "collapsed": true
   },
   "outputs": [],
   "source": [
    "nr.seed(20170521)\n",
    "\n",
    "data = np.load('../data/boston_housing.npz')\n",
    "Xtra, ytra = data['Xtra'], data['ytra']\n",
    "Xval, yval = data['Xval'], data['yval']\n",
    "M, N = Xtra.shape"
   ]
  },
  {
   "cell_type": "markdown",
   "metadata": {},
   "source": [
    "## Regularização L1 e L2\n",
    "\n",
    "Vamos criar três redes para comparar a regularização L1 e L2."
   ]
  },
  {
   "cell_type": "code",
   "execution_count": 3,
   "metadata": {
    "collapsed": false
   },
   "outputs": [
    {
     "name": "stdout",
     "output_type": "stream",
     "text": [
      "_________________________________________________________________\n",
      "Layer (type)                 Output Shape              Param #   \n",
      "=================================================================\n",
      "dense_1 (Dense)              (None, 40)                520       \n",
      "_________________________________________________________________\n",
      "dense_2 (Dense)              (None, 1)                 41        \n",
      "=================================================================\n",
      "Total params: 561\n",
      "Trainable params: 561\n",
      "Non-trainable params: 0\n",
      "_________________________________________________________________\n",
      "Trained in 17.514032s\n",
      "\n"
     ]
    }
   ],
   "source": [
    "layer_sizes = [N, 40, 1]\n",
    "n_epochs = 2000\n",
    "batch_size = M\n",
    "lr = 0.05\n",
    "\n",
    "def build(l1=0.0, l2=0.0):\n",
    "    n0, n1, n2 = N, 40, 1\n",
    "    model = Sequential()\n",
    "    if l1 > 0:\n",
    "        model.add(Dense(n1, activation='sigmoid', input_dim=n0, kernel_regularizer=regul.l1(l1)))\n",
    "        model.add(Dense(n2, activation='linear', kernel_regularizer=regul.l1(l1)))\n",
    "    elif l2 > 0:\n",
    "        model.add(Dense(n1, activation='sigmoid', input_dim=n0, kernel_regularizer=regul.l2(l2)))\n",
    "        model.add(Dense(n2, activation='linear', kernel_regularizer=regul.l2(l2)))\n",
    "    else:\n",
    "        model.add(Dense(n1, activation='sigmoid', input_dim=n0))\n",
    "        model.add(Dense(n2, activation='linear'))\n",
    "    return model\n",
    "\n",
    "l1 = 0.08\n",
    "l2 = 0.05\n",
    "\n",
    "# All networks are initialized with the same random weights\n",
    "nn_a = build()\n",
    "wts = nn_a.get_weights()\n",
    "nn_b = build(l2=l2)\n",
    "nn_b.set_weights(wts)      \n",
    "nn_c = build(l1=l1)\n",
    "nn_c.set_weights(wts)\n",
    "\n",
    "nn_a.summary()\n",
    "\n",
    "loss = 'mse'\n",
    "\n",
    "opt = SGD(lr=lr)\n",
    "nn_a.compile(loss=loss, optimizer=opt)\n",
    "nn_b.compile(loss=loss, optimizer=opt)\n",
    "nn_c.compile(loss=loss, optimizer=opt)\n",
    "\n",
    "try:\n",
    "    t0 = time.time()\n",
    "    histo_a = nn_a.fit(Xtra, ytra, batch_size=batch_size, epochs=n_epochs, verbose=0, shuffle=False,\n",
    "                         validation_data=(Xval, yval), callbacks=[])\n",
    "    histo_b = nn_b.fit(Xtra, ytra, batch_size=batch_size, epochs=n_epochs, verbose=0, shuffle=False,\n",
    "                         validation_data=(Xval, yval), callbacks=[])\n",
    "    histo_c = nn_c.fit(Xtra, ytra, batch_size=batch_size, epochs=n_epochs, verbose=0, shuffle=False,\n",
    "                         validation_data=(Xval, yval), callbacks=[])\n",
    "    t1 = time.time()\n",
    "except KeyboardInterrupt:\n",
    "    pass\n",
    "\n",
    "print('Trained in {:2f}s\\n'.format(t1-t0))"
   ]
  },
  {
   "cell_type": "code",
   "execution_count": 4,
   "metadata": {
    "collapsed": false
   },
   "outputs": [
    {
     "name": "stdout",
     "output_type": "stream",
     "text": [
      "MSE:  11.453  for no regulariz.\n",
      "MSE:   9.407  for L2 regulariz.\n",
      "MSE:   9.685  for L1 regulariz.\n"
     ]
    },
    {
     "data": {
      "image/png": "[encoded data removed]",
      "text/plain": [
       "<matplotlib.figure.Figure at 0x115fd8f98>"
      ]
     },
     "metadata": {},
     "output_type": "display_data"
    }
   ],
   "source": [
    "mse_a = np.square(nn_a.predict(Xval, verbose=0) - yval).mean()\n",
    "mse_b = np.square(nn_b.predict(Xval, verbose=0) - yval).mean()\n",
    "mse_c = np.square(nn_c.predict(Xval, verbose=0) - yval).mean()\n",
    "\n",
    "print('MSE: {:7.3f}  for no regulariz.'.format(mse_a))\n",
    "print('MSE: {:7.3f}  for L2 regulariz.'.format(mse_b))\n",
    "print('MSE: {:7.3f}  for L1 regulariz.'.format(mse_c))\n",
    "\n",
    "fig = plot.figure(figsize=(18,4))\n",
    "\n",
    "fig.add_subplot(131)\n",
    "plot.plot(histo_a.history['loss'], label='train')\n",
    "plot.plot(histo_a.history['val_loss'], label='validation')\n",
    "plot.ylim(0, 50.)\n",
    "plot.legend()\n",
    "plot.grid()\n",
    "plot.title('SSE: no regularization');\n",
    "\n",
    "fig.add_subplot(132)\n",
    "plot.plot(histo_b.history['loss'], label='train')\n",
    "plot.plot(histo_b.history['val_loss'], label='validation')\n",
    "plot.ylim(0, 50.)\n",
    "plot.legend()\n",
    "plot.grid()\n",
    "plot.title('SSE: $L2 = {:.3f}$'.format(l2));\n",
    "\n",
    "fig.add_subplot(133)\n",
    "plot.plot(histo_c.history['loss'], label='train')\n",
    "plot.plot(histo_c.history['val_loss'], label='validation')\n",
    "plot.ylim(0, 50.)\n",
    "plot.legend()\n",
    "plot.grid()\n",
    "plot.title('SSE: $L1 = {:.3f}$'.format(l1));"
   ]
  },
  {
   "cell_type": "code",
   "execution_count": 5,
   "metadata": {
    "collapsed": false
   },
   "outputs": [
    {
     "name": "stdout",
     "output_type": "stream",
     "text": [
      "No regularization: 0.113 +/- 1.273\n",
      "L2 regularization: 0.059 +/- 0.359\n",
      "L1 regularization: 0.047 +/- 0.586\n"
     ]
    },
    {
     "data": {
      "image/png": "[encoded data removed]",
      "text/plain": [
       "<matplotlib.figure.Figure at 0x116ba30f0>"
      ]
     },
     "metadata": {},
     "output_type": "display_data"
    }
   ],
   "source": [
    "wa = np.concatenate([t.flat for t in nn_a.get_weights()[::2]])\n",
    "wb = np.concatenate([t.flat for t in nn_b.get_weights()[::2]])\n",
    "wc = np.concatenate([t.flat for t in nn_c.get_weights()[::2]])\n",
    "\n",
    "print('No regularization: {:.3f} +/- {:.3f}'.format(wa.mean(), wa.std()))\n",
    "print('L2 regularization: {:.3f} +/- {:.3f}'.format(wb.mean(), wb.std()))\n",
    "print('L1 regularization: {:.3f} +/- {:.3f}'.format(wc.mean(), wc.std()))\n",
    "\n",
    "fig = plot.figure(figsize=(18,4))\n",
    "\n",
    "bins = 50\n",
    "fig.add_subplot(131)\n",
    "plot.hist(wa, bins=bins, label='no');\n",
    "plot.legend()\n",
    "plot.title('no regularization')\n",
    "plot.grid()\n",
    "\n",
    "fig.add_subplot(132)\n",
    "plot.hist(wb, bins=bins, label='L2');\n",
    "plot.legend()\n",
    "plot.title('L2 regularization')\n",
    "plot.grid()\n",
    "\n",
    "fig.add_subplot(133)\n",
    "plot.hist(wc, bins=bins, label='L1');\n",
    "plot.legend()\n",
    "plot.title('L1 regularization')\n",
    "plot.grid()\n",
    "# plot.ylim(0, 70)"
   ]
  },
  {
   "cell_type": "markdown",
   "metadata": {},
   "source": [
    "## Early Stopping"
   ]
  },
  {
   "cell_type": "code",
   "execution_count": 6,
   "metadata": {
    "collapsed": false
   },
   "outputs": [
    {
     "name": "stdout",
     "output_type": "stream",
     "text": [
      "_________________________________________________________________\n",
      "Layer (type)                 Output Shape              Param #   \n",
      "=================================================================\n",
      "dense_7 (Dense)              (None, 40)                520       \n",
      "_________________________________________________________________\n",
      "dense_8 (Dense)              (None, 1)                 41        \n",
      "=================================================================\n",
      "Total params: 561\n",
      "Trainable params: 561\n",
      "Non-trainable params: 0\n",
      "_________________________________________________________________\n",
      "Epoch 00945: early stopping\n",
      "Trained in 12.863135s\n",
      "\n"
     ]
    }
   ],
   "source": [
    "model_fn = '../models/nnet_bh.hdf5'\n",
    "patience = 100\n",
    "\n",
    "estop = EarlyStopping(patience=patience, verbose=1)\n",
    "mchk = ModelCheckpoint(model_fn, save_best_only=True)\n",
    "\n",
    "nnet = build()\n",
    "nn_b.set_weights(wts)      \n",
    "nnet.summary()\n",
    "\n",
    "opt = SGD(lr=lr)\n",
    "nnet.compile(loss='mse', optimizer=opt)\n",
    "\n",
    "try:\n",
    "    t0 = time.time()\n",
    "    histo = nnet.fit(Xtra, ytra, batch_size=batch_size, epochs=n_epochs, verbose=0, shuffle=False,\n",
    "                     validation_data=(Xval, yval), callbacks=[estop, mchk])\n",
    "    t1 = time.time()\n",
    "except KeyboardInterrupt:\n",
    "    pass\n",
    "\n",
    "print('Trained in {:2f}s\\n'.format(t1-t0))"
   ]
  },
  {
   "cell_type": "code",
   "execution_count": 7,
   "metadata": {
    "collapsed": false
   },
   "outputs": [
    {
     "name": "stdout",
     "output_type": "stream",
     "text": [
      "MSE (last):  9.389\n",
      "MSE (best):  9.348\n"
     ]
    },
    {
     "data": {
      "image/png": "[encoded data removed]",
      "text/plain": [
       "<matplotlib.figure.Figure at 0x117866a90>"
      ]
     },
     "metadata": {},
     "output_type": "display_data"
    }
   ],
   "source": [
    "mse_a = np.square(nnet.predict(Xval, verbose=0) - yval).mean()\n",
    "print('MSE (last): {:6.3f}'.format(mse_a))\n",
    "\n",
    "plot.plot(histo.history['loss'], label='train')\n",
    "plot.plot(histo.history['val_loss'], label='validation')\n",
    "plot.ylim(0, 50.)\n",
    "plot.legend()\n",
    "plot.grid()\n",
    "plot.title('SSE');\n",
    "\n",
    "nnet_best = load_model(model_fn)\n",
    "mse_a = np.square(nnet_best.predict(Xval, verbose=0) - yval).mean()\n",
    "print('MSE (best): {:6.3f}'.format(mse_a))"
   ]
  },
  {
   "cell_type": "markdown",
   "metadata": {},
   "source": [
    "## Dropout"
   ]
  },
  {
   "cell_type": "code",
   "execution_count": 8,
   "metadata": {
    "collapsed": false
   },
   "outputs": [
    {
     "name": "stdout",
     "output_type": "stream",
     "text": [
      "_________________________________________________________________\n",
      "Layer (type)                 Output Shape              Param #   \n",
      "=================================================================\n",
      "dense_9 (Dense)              (None, 40)                520       \n",
      "_________________________________________________________________\n",
      "dropout_1 (Dropout)          (None, 40)                0         \n",
      "_________________________________________________________________\n",
      "dense_10 (Dense)             (None, 1)                 41        \n",
      "=================================================================\n",
      "Total params: 561\n",
      "Trainable params: 561\n",
      "Non-trainable params: 0\n",
      "_________________________________________________________________\n",
      "Epoch 00948: early stopping\n",
      "Trained in 4.126859s\n",
      "\n"
     ]
    }
   ],
   "source": [
    "def build_dropout(p=0.5):\n",
    "    n0, n1, n2 = N, 40, 1\n",
    "    model = Sequential()\n",
    "    model.add(Dense(n1, activation='sigmoid', input_dim=n0))\n",
    "    model.add(Dropout(p))\n",
    "    model.add(Dense(n2, activation='linear'))\n",
    "    return model\n",
    "\n",
    "nnet = build_dropout()\n",
    "nn_b.set_weights(wts)      \n",
    "nnet.summary()\n",
    "\n",
    "opt = SGD(lr=lr)\n",
    "nnet.compile(loss='mse', optimizer=opt)\n",
    "\n",
    "try:\n",
    "    t0 = time.time()\n",
    "    histo = nnet.fit(Xtra, ytra, batch_size=batch_size, epochs=n_epochs, verbose=0, shuffle=False,\n",
    "                     validation_data=(Xval, yval), callbacks=[estop, mchk])\n",
    "    t1 = time.time()\n",
    "except KeyboardInterrupt:\n",
    "    pass\n",
    "\n",
    "print('Trained in {:2f}s\\n'.format(t1-t0))"
   ]
  },
  {
   "cell_type": "code",
   "execution_count": 9,
   "metadata": {
    "collapsed": false
   },
   "outputs": [
    {
     "name": "stdout",
     "output_type": "stream",
     "text": [
      "MSE:  9.207\n"
     ]
    },
    {
     "data": {
      "image/png": "[encoded data removed]",
      "text/plain": [
       "<matplotlib.figure.Figure at 0x11782ec18>"
      ]
     },
     "metadata": {},
     "output_type": "display_data"
    }
   ],
   "source": [
    "mse_a = np.square(nnet.predict(Xval, verbose=0) - yval).mean()\n",
    "print('MSE: {:6.3f}'.format(mse_a))\n",
    "\n",
    "plot.plot(histo.history['loss'], label='train')\n",
    "plot.plot(histo.history['val_loss'], label='validation')\n",
    "plot.ylim(0, 50.)\n",
    "plot.legend()\n",
    "plot.grid()\n",
    "plot.title('SSE');\n"
   ]
  },
  {
   "cell_type": "code",
   "execution_count": null,
   "metadata": {
    "collapsed": true
   },
   "outputs": [],
   "source": []
  }
 ],
 "metadata": {
  "kernelspec": {
   "display_name": "Python 3",
   "language": "python",
   "name": "python3"
  },
  "language_info": {
   "codemirror_mode": {
    "name": "ipython",
    "version": 3
   },
   "file_extension": ".py",
   "mimetype": "text/x-python",
   "name": "python",
   "nbconvert_exporter": "python",
   "pygments_lexer": "ipython3",
   "version": "3.6.0"
  },
  "latex_envs": {
   "LaTeX_envs_menu_present": true,
   "autocomplete": true,
   "bibliofile": "biblio.bib",
   "cite_by": "apalike",
   "current_citInitial": 1,
   "eqLabelWithNumbers": true,
   "eqNumInitial": 1,
   "hotkeys": {
    "equation": "Ctrl-E",
    "itemize": "Ctrl-I"
   },
   "labels_anchors": false,
   "latex_user_defs": false,
   "report_style_numbering": false,
   "user_envs_cfg": false
  },
  "toc": {
   "colors": {
    "hover_highlight": "#DAA520",
    "navigate_num": "#000000",
    "navigate_text": "#333333",
    "running_highlight": "#FF0000",
    "selected_highlight": "#FFD700",
    "sidebar_border": "#EEEEEE",
    "wrapper_background": "#FFFFFF"
   },
   "moveMenuLeft": true,
   "nav_menu": {
    "height": "102px",
    "width": "252px"
   },
   "navigate_menu": true,
   "number_sections": true,
   "sideBar": true,
   "threshold": 4,
   "toc_cell": false,
   "toc_section_display": "block",
   "toc_window_display": false,
   "widenNotebook": false
  }
 },
 "nbformat": 4,
 "nbformat_minor": 2
}
