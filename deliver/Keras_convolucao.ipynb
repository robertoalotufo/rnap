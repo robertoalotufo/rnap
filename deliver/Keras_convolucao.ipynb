{
 "cells": [
  {
   "cell_type": "markdown",
   "metadata": {},
   "source": [
    "# Explorando convolução no Keras usando o Theano\n",
    "\n",
    "O objetivo deste notebook é de explorar a convolução que é implementada pelo Theano através do Keras.\n",
    "\n",
    "A convolução é a operação essencial das redes convolucionais. É uma operação demorada e a sua implementação na GPU acelera bastante o seu processamento. A implementação é feita no Theano utilizando GPU. Se a GPU não for encontrada, a implementação roda na CPU.\n",
    "\n",
    "A figura a seguir ilustra uma convolução da imagem verde de entrada, utilizando o núcleo da convolução (kernel) em amarelo, deslizando sobre a imagem verde. O resultado da convolução é a imagem rosa, de tamanho ligeiramente menos, devido ao processamento na borda da imagem.\n",
    "\n",
    "Esta ilustração é implementada no código que chama a convolução do Theano mais à frente."
   ]
  },
  {
   "cell_type": "markdown",
   "metadata": {},
   "source": [
    "![](http://mourafiq.com/images/posts/convolution_schematic.gif)"
   ]
  },
  {
   "cell_type": "code",
   "execution_count": 1,
   "metadata": {
    "collapsed": false
   },
   "outputs": [
    {
     "name": "stderr",
     "output_type": "stream",
     "text": [
      "Using Theano backend.\n"
     ]
    }
   ],
   "source": [
    "import numpy as np\n",
    "import keras\n",
    "from keras.backend import theano_backend as KTH\n",
    "from keras.utils.np_utils import convert_kernel\n",
    "\n"
   ]
  },
  {
   "cell_type": "markdown",
   "metadata": {},
   "source": [
    "## formato do shape da imagem: th ou tf\n",
    "- th: theano - [canal, altura, largura]\n",
    "- tf: tensor flow - [altura, largura, canal]\n",
    "\n",
    "\n",
    "O trecho abaixo é uma ilustração da chamada da função de convolução do Theano. A implementação da convolução é de 4 dimensões, tanto a imagem como o núcleo (kernel da convolução).\n",
    "\n",
    "É necessária utilizar a interface *backend* do Keras para acessar o Theano"
   ]
  },
  {
   "cell_type": "code",
   "execution_count": 3,
   "metadata": {
    "collapsed": false,
    "scrolled": false
   },
   "outputs": [
    {
     "name": "stdout",
     "output_type": "stream",
     "text": [
      "Imagem de entrada: x_val:\n",
      "[[[[1 1 1 0 0]\n",
      "   [0 1 1 1 0]\n",
      "   [0 0 1 1 1]\n",
      "   [0 0 1 1 0]\n",
      "   [0 1 1 0 0]]]]\n",
      "Núcleo da convolução kernel_val:\n",
      "[[[[1 0 1]\n",
      "   [0 1 0]\n",
      "   [1 0 1]]]]\n",
      "Resultado z_th:\n",
      "[[[[ 4.  3.  4.]\n",
      "   [ 2.  4.  3.]\n",
      "   [ 2.  3.  4.]]]]\n"
     ]
    }
   ],
   "source": [
    "x_val = np.array([[[[1,1,1,0,0],\n",
    "                    [0,1,1,1,0],\n",
    "                    [0,0,1,1,1], \n",
    "                    [0,0,1,1,0],\n",
    "                    [0,1,1,0,0]]]])\n",
    "\n",
    "print 'Imagem de entrada: x_val:\\n', x_val\n",
    "\n",
    "x_th = KTH.variable(x_val)\n",
    "\n",
    "kernel_val = np.array([[[[1,0,1],\n",
    "                         [0,1,0],\n",
    "                         [1,0,1]]]])\n",
    "print 'Núcleo da convolução kernel_val:\\n', kernel_val\n",
    "\n",
    "kernel_th = KTH.variable(convert_kernel(kernel_val, dim_ordering='th'))\n",
    "\n",
    "z_th = KTH.eval(KTH.conv2d(x_th, kernel_th, dim_ordering='th',border_mode='valid'))\n",
    "\n",
    "print 'Resultado z_th:\\n', z_th\n"
   ]
  },
  {
   "cell_type": "markdown",
   "metadata": {},
   "source": [
    "## Exercícios\n",
    "\n",
    "### Teórico\n",
    "\n",
    "1. Supondo uma imagem de entrada 100 x 100 e um kernel 3 x 3. Utilizando-se o border_mode como válido, a imagem de saída será de 99 x 99. Se fosse utilizar uma rede densa, com entrada de 100 x 100 e saída 99 x 99, quantos parâmetros seriam necessários para ser treinados? E no caso da rede convolucional? Qual é o fator de redução?\n",
    "\n",
    "### Práticos\n",
    "\n",
    "1. Trocar o parâmetro ``border_mode`` para ``same`` e veja a diferença.\n",
    "2. Rodar a convolução para uma imagem de cinza\n",
    "3. Rodar a convolução para uma imagem colorida RGB\n",
    "4. Rodar a convolução para gerar várias bandas de saída como nas redes convolucionais\n",
    "5. Comparar o tempo de execução desta convolução com outras implementações: openCV por exemplo"
   ]
  }
 ],
 "metadata": {
  "anaconda-cloud": {},
  "kernelspec": {
   "display_name": "Python [Root]",
   "language": "python",
   "name": "Python [Root]"
  },
  "language_info": {
   "codemirror_mode": {
    "name": "ipython",
    "version": 2
   },
   "file_extension": ".py",
   "mimetype": "text/x-python",
   "name": "python",
   "nbconvert_exporter": "python",
   "pygments_lexer": "ipython2",
   "version": "2.7.12"
  }
 },
 "nbformat": 4,
 "nbformat_minor": 0
}
