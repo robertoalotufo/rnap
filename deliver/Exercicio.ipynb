{
 "cells": [
  {
   "cell_type": "markdown",
   "metadata": {},
   "source": [
    "# Exercício sobre Transfer Learning\n",
    "\n",
    "Nesse exercício você irá utilizar uma rede pré-treinada bastante conhecida, a VGG-16 (http://www.robots.ox.ac.uk/~vgg/research/very_deep/). Como tarefa, você irá criar cum classificador utilizado-se de camadas densas no dataset do Cifar-10. As camadas anteriores ao seu classificador deverão ser congeladas, de modo que durante o treino apenas os pesos do seu classificador sejam sintonizados. A opção de congelar menos camadas fica por sua conta. Reporte suas dúvidas e resultados para serem discutidos no próximo dia do curso. Boa sorte!"
   ]
  },
  {
   "cell_type": "code",
   "execution_count": 1,
   "metadata": {
    "collapsed": true
   },
   "outputs": [],
   "source": [
    "import numpy as np\n",
    "import os\n",
    "os.environ['THEANO_FLAGS'] = \"device=gpu0,floatX=float32\"  "
   ]
  },
  {
   "cell_type": "code",
   "execution_count": 2,
   "metadata": {
    "collapsed": false
   },
   "outputs": [
    {
     "name": "stderr",
     "output_type": "stream",
     "text": [
      "Using Theano backend.\n",
      "Using gpu device 0: GRID K520 (CNMeM is disabled, cuDNN 5110)\n",
      "/opt/conda/lib/python2.7/site-packages/theano/sandbox/cuda/__init__.py:600: UserWarning: Your cuDNN version is more recent than the one Theano officially supports. If you see any problems, try updating Theano or downgrading cuDNN to version 5.\n",
      "  warnings.warn(warn)\n"
     ]
    }
   ],
   "source": [
    "%matplotlib inline\n",
    "import matplotlib.pylab as plt\n",
    "import h5py\n",
    "\n",
    "from keras.models import Sequential\n",
    "from keras.layers import Convolution2D, MaxPooling2D, ZeroPadding2D\n",
    "from keras.layers import Activation, Dropout, Flatten, Dense\n",
    "from keras import backend as K\n",
    "from keras.datasets import cifar10\n",
    "from keras.utils import np_utils\n",
    "\n",
    "import sys\n",
    "sys.path.append('../src')\n",
    "from my_keras_utilities import TrainingPlotter, load_model_and_history\n",
    "\n",
    "K.set_image_dim_ordering('th')"
   ]
  },
  {
   "cell_type": "markdown",
   "metadata": {},
   "source": [
    "## Definição da CNN"
   ]
  },
  {
   "cell_type": "code",
   "execution_count": 3,
   "metadata": {
    "collapsed": true
   },
   "outputs": [],
   "source": [
    "# Carrega o modelo da VGG-16 com seus devidos pesos sem as camadas densas (totalmente conectadas)\n",
    "def get_tr_vgg_model(weights_path, img_width, img_height):\n",
    "    \n",
    "    model = Sequential()\n",
    "    model.add(ZeroPadding2D((1, 1), input_shape=(3, img_width, img_height)))\n",
    "\n",
    "    model.add(Convolution2D(64, 3, 3, activation='relu', name='conv1_1'))\n",
    "    model.add(ZeroPadding2D((1, 1)))\n",
    "    model.add(Convolution2D(64, 3, 3, activation='relu', name='conv1_2'))\n",
    "    model.add(MaxPooling2D((2, 2), strides=(2, 2)))\n",
    "\n",
    "    model.add(ZeroPadding2D((1, 1)))\n",
    "    model.add(Convolution2D(128, 3, 3, activation='relu', name='conv2_1'))\n",
    "    model.add(ZeroPadding2D((1, 1)))\n",
    "    model.add(Convolution2D(128, 3, 3, activation='relu', name='conv2_2'))\n",
    "    model.add(MaxPooling2D((2, 2), strides=(2, 2)))\n",
    "\n",
    "    model.add(ZeroPadding2D((1, 1)))\n",
    "    model.add(Convolution2D(256, 3, 3, activation='relu', name='conv3_1'))\n",
    "    model.add(ZeroPadding2D((1, 1)))\n",
    "    model.add(Convolution2D(256, 3, 3, activation='relu', name='conv3_2'))\n",
    "    model.add(ZeroPadding2D((1, 1)))\n",
    "    model.add(Convolution2D(256, 3, 3, activation='relu', name='conv3_3'))\n",
    "    model.add(MaxPooling2D((2, 2), strides=(2, 2)))\n",
    "\n",
    "    model.add(ZeroPadding2D((1, 1)))\n",
    "    model.add(Convolution2D(512, 3, 3, activation='relu', name='conv4_1'))\n",
    "    model.add(ZeroPadding2D((1, 1)))\n",
    "    model.add(Convolution2D(512, 3, 3, activation='relu', name='conv4_2'))\n",
    "    model.add(ZeroPadding2D((1, 1)))\n",
    "    model.add(Convolution2D(512, 3, 3, activation='relu', name='conv4_3'))\n",
    "    model.add(MaxPooling2D((2, 2), strides=(2, 2)))\n",
    "\n",
    "    model.add(ZeroPadding2D((1, 1)))\n",
    "    model.add(Convolution2D(512, 3, 3, activation='relu', name='conv5_1'))\n",
    "    model.add(ZeroPadding2D((1, 1)))\n",
    "    model.add(Convolution2D(512, 3, 3, activation='relu', name='conv5_2'))\n",
    "    model.add(ZeroPadding2D((1, 1)))\n",
    "    model.add(Convolution2D(512, 3, 3, activation='relu', name='conv5_3'))\n",
    "    model.add(MaxPooling2D((2, 2), strides=(2, 2)))\n",
    "\n",
    "    # Carrega os pesos necesários até o último bloco da VGG-15 anterior as camadas densas\n",
    "    assert os.path.exists(weights_path), 'Model weights not found (see \"weights_path\" variable in script).'\n",
    "    \n",
    "    f = h5py.File(weights_path)\n",
    "    for k in range(f.attrs['nb_layers']):\n",
    "        if k >= len(model.layers):\n",
    "            break\n",
    "        g = f['layer_{}'.format(k)]\n",
    "        weights = [g['param_{}'.format(p)] for p in range(g.attrs['nb_params'])]\n",
    "        model.layers[k].set_weights(weights)\n",
    "    f.close()\n",
    "    \n",
    "    print ('Model loaded.')\n",
    "    \n",
    "    return model"
   ]
  },
  {
   "cell_type": "markdown",
   "metadata": {},
   "source": [
    "# Carregando e Normalizando os dados"
   ]
  },
  {
   "cell_type": "code",
   "execution_count": 4,
   "metadata": {
    "collapsed": false
   },
   "outputs": [
    {
     "name": "stdout",
     "output_type": "stream",
     "text": [
      "(5000, 3, 32, 32)\n",
      "(1000, 3, 32, 32)\n",
      "(5000, 10)\n",
      "(1000, 10)\n"
     ]
    }
   ],
   "source": [
    "# Carregando os dados\n",
    "(X_train, y_train), (X_test, y_test) = cifar10.load_data()\n",
    "y_train = y_train.ravel()\n",
    "y_test = y_test.ravel()\n",
    "\n",
    "n_train = 5000\n",
    "n_test = 1000\n",
    "\n",
    "# Transforma o vetor de labels para o formato de one-hot encoding.\n",
    "Y_train = np_utils.to_categorical(y_train)[:n_train]\n",
    "Y_test = np_utils.to_categorical(y_test)[:n_test]\n",
    "\n",
    "#Normalização dos dados\n",
    "X_train = X_train.astype('float32')[:n_train]\n",
    "X_test = X_test.astype('float32')[:n_test]\n",
    "X_train /= 255\n",
    "X_test /= 255\n",
    "\n",
    "img_width, img_height = X_train.shape[2:]\n",
    "\n",
    "print X_train.shape\n",
    "print X_test.shape\n",
    "print Y_train.shape\n",
    "print Y_test.shape"
   ]
  },
  {
   "cell_type": "markdown",
   "metadata": {},
   "source": [
    "## Carregando e inicializando pesos da CNN"
   ]
  },
  {
   "cell_type": "code",
   "execution_count": 23,
   "metadata": {
    "collapsed": false
   },
   "outputs": [
    {
     "name": "stdout",
     "output_type": "stream",
     "text": [
      "Model loaded.\n",
      "n de camadas: 31\n",
      "____________________________________________________________________________________________________\n",
      "Layer (type)                     Output Shape          Param #     Connected to                     \n",
      "====================================================================================================\n",
      "zeropadding2d_79 (ZeroPadding2D) (None, 3, 34, 34)     0           zeropadding2d_input_9[0][0]      \n",
      "____________________________________________________________________________________________________\n",
      "conv1_1 (Convolution2D)          (None, 64, 32, 32)    1792        zeropadding2d_79[0][0]           \n",
      "____________________________________________________________________________________________________\n",
      "zeropadding2d_80 (ZeroPadding2D) (None, 64, 34, 34)    0           conv1_1[0][0]                    \n",
      "____________________________________________________________________________________________________\n",
      "conv1_2 (Convolution2D)          (None, 64, 32, 32)    36928       zeropadding2d_80[0][0]           \n",
      "____________________________________________________________________________________________________\n",
      "maxpooling2d_31 (MaxPooling2D)   (None, 64, 16, 16)    0           conv1_2[0][0]                    \n",
      "____________________________________________________________________________________________________\n",
      "zeropadding2d_81 (ZeroPadding2D) (None, 64, 18, 18)    0           maxpooling2d_31[0][0]            \n",
      "____________________________________________________________________________________________________\n",
      "conv2_1 (Convolution2D)          (None, 128, 16, 16)   73856       zeropadding2d_81[0][0]           \n",
      "____________________________________________________________________________________________________\n",
      "zeropadding2d_82 (ZeroPadding2D) (None, 128, 18, 18)   0           conv2_1[0][0]                    \n",
      "____________________________________________________________________________________________________\n",
      "conv2_2 (Convolution2D)          (None, 128, 16, 16)   147584      zeropadding2d_82[0][0]           \n",
      "____________________________________________________________________________________________________\n",
      "maxpooling2d_32 (MaxPooling2D)   (None, 128, 8, 8)     0           conv2_2[0][0]                    \n",
      "____________________________________________________________________________________________________\n",
      "zeropadding2d_83 (ZeroPadding2D) (None, 128, 10, 10)   0           maxpooling2d_32[0][0]            \n",
      "____________________________________________________________________________________________________\n",
      "conv3_1 (Convolution2D)          (None, 256, 8, 8)     295168      zeropadding2d_83[0][0]           \n",
      "____________________________________________________________________________________________________\n",
      "zeropadding2d_84 (ZeroPadding2D) (None, 256, 10, 10)   0           conv3_1[0][0]                    \n",
      "____________________________________________________________________________________________________\n",
      "conv3_2 (Convolution2D)          (None, 256, 8, 8)     590080      zeropadding2d_84[0][0]           \n",
      "____________________________________________________________________________________________________\n",
      "zeropadding2d_85 (ZeroPadding2D) (None, 256, 10, 10)   0           conv3_2[0][0]                    \n",
      "____________________________________________________________________________________________________\n",
      "conv3_3 (Convolution2D)          (None, 256, 8, 8)     590080      zeropadding2d_85[0][0]           \n",
      "____________________________________________________________________________________________________\n",
      "maxpooling2d_33 (MaxPooling2D)   (None, 256, 4, 4)     0           conv3_3[0][0]                    \n",
      "____________________________________________________________________________________________________\n",
      "zeropadding2d_86 (ZeroPadding2D) (None, 256, 6, 6)     0           maxpooling2d_33[0][0]            \n",
      "____________________________________________________________________________________________________\n",
      "conv4_1 (Convolution2D)          (None, 512, 4, 4)     1180160     zeropadding2d_86[0][0]           \n",
      "____________________________________________________________________________________________________\n",
      "zeropadding2d_87 (ZeroPadding2D) (None, 512, 6, 6)     0           conv4_1[0][0]                    \n",
      "____________________________________________________________________________________________________\n",
      "conv4_2 (Convolution2D)          (None, 512, 4, 4)     2359808     zeropadding2d_87[0][0]           \n",
      "____________________________________________________________________________________________________\n",
      "zeropadding2d_88 (ZeroPadding2D) (None, 512, 6, 6)     0           conv4_2[0][0]                    \n",
      "____________________________________________________________________________________________________\n",
      "conv4_3 (Convolution2D)          (None, 512, 4, 4)     2359808     zeropadding2d_88[0][0]           \n",
      "____________________________________________________________________________________________________\n",
      "maxpooling2d_34 (MaxPooling2D)   (None, 512, 2, 2)     0           conv4_3[0][0]                    \n",
      "____________________________________________________________________________________________________\n",
      "zeropadding2d_89 (ZeroPadding2D) (None, 512, 4, 4)     0           maxpooling2d_34[0][0]            \n",
      "____________________________________________________________________________________________________\n",
      "conv5_1 (Convolution2D)          (None, 512, 2, 2)     2359808     zeropadding2d_89[0][0]           \n",
      "____________________________________________________________________________________________________\n",
      "zeropadding2d_90 (ZeroPadding2D) (None, 512, 4, 4)     0           conv5_1[0][0]                    \n",
      "____________________________________________________________________________________________________\n",
      "conv5_2 (Convolution2D)          (None, 512, 2, 2)     2359808     zeropadding2d_90[0][0]           \n",
      "____________________________________________________________________________________________________\n",
      "zeropadding2d_91 (ZeroPadding2D) (None, 512, 4, 4)     0           conv5_2[0][0]                    \n",
      "____________________________________________________________________________________________________\n",
      "conv5_3 (Convolution2D)          (None, 512, 2, 2)     2359808     zeropadding2d_91[0][0]           \n",
      "____________________________________________________________________________________________________\n",
      "maxpooling2d_35 (MaxPooling2D)   (None, 512, 1, 1)     0           conv5_3[0][0]                    \n",
      "====================================================================================================\n",
      "Total params: 14,714,688\n",
      "Trainable params: 14,714,688\n",
      "Non-trainable params: 0\n",
      "____________________________________________________________________________________________________\n",
      "None\n"
     ]
    }
   ],
   "source": [
    "# Caminho pesos da VGG-16\n",
    "weights_path = '/root/vgg16_weights.h5'\n",
    "\n",
    "# Carrega o modelo até a última camada convolucional\n",
    "vgg16_tr_model = get_tr_vgg_model(weights_path, img_width, img_height)\n",
    "\n",
    "# Execute esse comando para conhecer a arquitetura das camadas convolucionais da VGG-16\n",
    "\n",
    "print 'n de camadas:',len(vgg16_tr_model.layers)\n",
    "print vgg16_tr_model.summary()\n"
   ]
  },
  {
   "cell_type": "markdown",
   "metadata": {},
   "source": [
    "## Agora é sua vez!!"
   ]
  },
  {
   "cell_type": "markdown",
   "metadata": {},
   "source": [
    "Crie um classificador usando camadas densas baseando-se no exmeplo do \"cats and dogs 2\". \n",
    "Dicas: \n",
    "    - a dimensão de saída da VGG-16 truncada será a dimensão de entrada do seu novo modelo.\n",
    "    - a dimensão da saída do classificador é o número de classes do Cifar-10.\n",
    "    - metódos de combate ao overfitting podem ser utilizados (i.e. dropout)\n",
    "  "
   ]
  },
  {
   "cell_type": "code",
   "execution_count": 24,
   "metadata": {
    "collapsed": false
   },
   "outputs": [
    {
     "name": "stdout",
     "output_type": "stream",
     "text": [
      "0 zeropadding2d_79\n",
      "1 conv1_1\n",
      "2 zeropadding2d_80\n",
      "3 conv1_2\n",
      "4 maxpooling2d_31\n",
      "5 zeropadding2d_81\n",
      "6 conv2_1\n",
      "7 zeropadding2d_82\n",
      "8 conv2_2\n",
      "9 maxpooling2d_32\n",
      "10 zeropadding2d_83\n",
      "11 conv3_1\n",
      "12 zeropadding2d_84\n",
      "13 conv3_2\n",
      "14 zeropadding2d_85\n",
      "15 conv3_3\n",
      "16 maxpooling2d_33\n",
      "17 zeropadding2d_86\n",
      "18 conv4_1\n",
      "19 zeropadding2d_87\n",
      "20 conv4_2\n",
      "21 zeropadding2d_88\n",
      "22 conv4_3\n",
      "23 maxpooling2d_34\n",
      "24 zeropadding2d_89\n",
      "25 conv5_1\n",
      "26 zeropadding2d_90\n",
      "27 conv5_2\n",
      "28 zeropadding2d_91\n",
      "29 conv5_3\n",
      "30 maxpooling2d_35\n"
     ]
    }
   ],
   "source": [
    "####### Adicione novas camadas ######\n",
    "vgg16_tr_model.add(Flatten())\n",
    "vgg16_tr_model.add(Dense(256))\n",
    "vgg16_tr_model.add(Activation('relu'))\n",
    "vgg16_tr_model.add(Dropout(0.5))\n",
    "vgg16_tr_model.add(Dense(10,activation='softmax'))\n",
    "\n",
    "\n",
    "\n",
    "#####################################\n",
    "\n",
    "\n",
    "# Execute esse comando para conhecer a nova arquitetura após a adição do seu classificador\n",
    "#print vgg16_tr_model.summary()\n",
    "\n",
    "n = 31  # número de camadas que não serão re-treinadas\n",
    "\n",
    "# Congela as camadas até última camada convolucional da VGG-16\n",
    "i = 0\n",
    "for layer in vgg16_tr_model.layers[:n]:\n",
    "    print i, layer.name\n",
    "    i+=1\n",
    "    layer.trainable = False\n",
    "vgg16_tr_model.summary()\n"
   ]
  },
  {
   "cell_type": "code",
   "execution_count": 25,
   "metadata": {
    "collapsed": false,
    "scrolled": false
   },
   "outputs": [
    {
     "name": "stdout",
     "output_type": "stream",
     "text": [
      "[INFO] evaluating...\n",
      "[INFO] accuracy: 49.70%\n"
     ]
    },
    {
     "data": {
      "image/png": "[encoded data removed]",
      "text/plain": [
       "<matplotlib.figure.Figure at 0x7fa356161b10>"
      ]
     },
     "metadata": {},
     "output_type": "display_data"
    }
   ],
   "source": [
    "model_name = './minha_redexxxx' # toda vez que mudar o modelo, altere o nome dele\n",
    "ploss = 2.0\n",
    "nepochs = 10\n",
    "\n",
    "if True: #not os.path.isfile(model_name + '.model'):\n",
    "    print(\"[INFO] creating model...\")\n",
    "    # History, checkpoint, earlystop, plot losses:\n",
    "    my_big_callback = TrainingPlotter(n=1, filepath=model_name, patience=10)\n",
    "    \n",
    "    # initialize the optimizer and model\n",
    "    print(\"[INFO] compiling model...\")\n",
    "    vgg16_tr_model.compile(loss=\"categorical_crossentropy\", optimizer='adam', metrics=[\"accuracy\"])    \n",
    "    \n",
    "else:\n",
    "    print(\"[INFO] loading model...\")\n",
    "    vgg16_tr_model, my_big_callback = load_model_and_history(model_name)\n",
    "\n",
    "past_epochs = my_big_callback.get_nepochs()\n",
    "\n",
    "fig = plt.figure(figsize=(15,6))\n",
    "plt.ylim(0.0, ploss)\n",
    "plt.xlim(0, nepochs)\n",
    "plt.grid(True)\n",
    "\n",
    "print(\"[INFO] training...\")\n",
    "try:\n",
    "    vgg16_tr_model.fit(X_train, Y_train, batch_size=128, nb_epoch=nepochs,\n",
    "                       verbose=0, validation_split=0.33, callbacks = [my_big_callback])\n",
    "except KeyboardInterrupt:\n",
    "    pass\n",
    "\n",
    "print(\"[INFO] evaluating...\")\n",
    "loss, accuracy = vgg16_tr_model.evaluate(X_test, Y_test, batch_size=128, verbose=0)\n",
    "print(\"[INFO] accuracy: {:.2f}%\".format(accuracy * 100))"
   ]
  },
  {
   "cell_type": "code",
   "execution_count": 28,
   "metadata": {
    "collapsed": false
   },
   "outputs": [
    {
     "name": "stdout",
     "output_type": "stream",
     "text": [
      "____________________________________________________________________________________________________\n",
      "Layer (type)                     Output Shape          Param #     Connected to                     \n",
      "====================================================================================================\n",
      "zeropadding2d_79 (ZeroPadding2D) (None, 3, 34, 34)     0           zeropadding2d_input_9[0][0]      \n",
      "____________________________________________________________________________________________________\n",
      "conv1_1 (Convolution2D)          (None, 64, 32, 32)    1792        zeropadding2d_79[0][0]           \n",
      "____________________________________________________________________________________________________\n",
      "zeropadding2d_80 (ZeroPadding2D) (None, 64, 34, 34)    0           conv1_1[0][0]                    \n",
      "____________________________________________________________________________________________________\n",
      "conv1_2 (Convolution2D)          (None, 64, 32, 32)    36928       zeropadding2d_80[0][0]           \n",
      "____________________________________________________________________________________________________\n",
      "maxpooling2d_31 (MaxPooling2D)   (None, 64, 16, 16)    0           conv1_2[0][0]                    \n",
      "____________________________________________________________________________________________________\n",
      "zeropadding2d_81 (ZeroPadding2D) (None, 64, 18, 18)    0           maxpooling2d_31[0][0]            \n",
      "____________________________________________________________________________________________________\n",
      "conv2_1 (Convolution2D)          (None, 128, 16, 16)   73856       zeropadding2d_81[0][0]           \n",
      "____________________________________________________________________________________________________\n",
      "zeropadding2d_82 (ZeroPadding2D) (None, 128, 18, 18)   0           conv2_1[0][0]                    \n",
      "____________________________________________________________________________________________________\n",
      "conv2_2 (Convolution2D)          (None, 128, 16, 16)   147584      zeropadding2d_82[0][0]           \n",
      "____________________________________________________________________________________________________\n",
      "maxpooling2d_32 (MaxPooling2D)   (None, 128, 8, 8)     0           conv2_2[0][0]                    \n",
      "____________________________________________________________________________________________________\n",
      "zeropadding2d_83 (ZeroPadding2D) (None, 128, 10, 10)   0           maxpooling2d_32[0][0]            \n",
      "____________________________________________________________________________________________________\n",
      "conv3_1 (Convolution2D)          (None, 256, 8, 8)     295168      zeropadding2d_83[0][0]           \n",
      "____________________________________________________________________________________________________\n",
      "zeropadding2d_84 (ZeroPadding2D) (None, 256, 10, 10)   0           conv3_1[0][0]                    \n",
      "____________________________________________________________________________________________________\n",
      "conv3_2 (Convolution2D)          (None, 256, 8, 8)     590080      zeropadding2d_84[0][0]           \n",
      "____________________________________________________________________________________________________\n",
      "zeropadding2d_85 (ZeroPadding2D) (None, 256, 10, 10)   0           conv3_2[0][0]                    \n",
      "____________________________________________________________________________________________________\n",
      "conv3_3 (Convolution2D)          (None, 256, 8, 8)     590080      zeropadding2d_85[0][0]           \n",
      "____________________________________________________________________________________________________\n",
      "maxpooling2d_33 (MaxPooling2D)   (None, 256, 4, 4)     0           conv3_3[0][0]                    \n",
      "____________________________________________________________________________________________________\n",
      "zeropadding2d_86 (ZeroPadding2D) (None, 256, 6, 6)     0           maxpooling2d_33[0][0]            \n",
      "____________________________________________________________________________________________________\n",
      "conv4_1 (Convolution2D)          (None, 512, 4, 4)     1180160     zeropadding2d_86[0][0]           \n",
      "____________________________________________________________________________________________________\n",
      "zeropadding2d_87 (ZeroPadding2D) (None, 512, 6, 6)     0           conv4_1[0][0]                    \n",
      "____________________________________________________________________________________________________\n",
      "conv4_2 (Convolution2D)          (None, 512, 4, 4)     2359808     zeropadding2d_87[0][0]           \n",
      "____________________________________________________________________________________________________\n",
      "zeropadding2d_88 (ZeroPadding2D) (None, 512, 6, 6)     0           conv4_2[0][0]                    \n",
      "____________________________________________________________________________________________________\n",
      "conv4_3 (Convolution2D)          (None, 512, 4, 4)     2359808     zeropadding2d_88[0][0]           \n",
      "____________________________________________________________________________________________________\n",
      "maxpooling2d_34 (MaxPooling2D)   (None, 512, 2, 2)     0           conv4_3[0][0]                    \n",
      "____________________________________________________________________________________________________\n",
      "zeropadding2d_89 (ZeroPadding2D) (None, 512, 4, 4)     0           maxpooling2d_34[0][0]            \n",
      "____________________________________________________________________________________________________\n",
      "conv5_1 (Convolution2D)          (None, 512, 2, 2)     2359808     zeropadding2d_89[0][0]           \n",
      "____________________________________________________________________________________________________\n",
      "zeropadding2d_90 (ZeroPadding2D) (None, 512, 4, 4)     0           conv5_1[0][0]                    \n",
      "____________________________________________________________________________________________________\n",
      "conv5_2 (Convolution2D)          (None, 512, 2, 2)     2359808     zeropadding2d_90[0][0]           \n",
      "____________________________________________________________________________________________________\n",
      "zeropadding2d_91 (ZeroPadding2D) (None, 512, 4, 4)     0           conv5_2[0][0]                    \n",
      "____________________________________________________________________________________________________\n",
      "conv5_3 (Convolution2D)          (None, 512, 2, 2)     2359808     zeropadding2d_91[0][0]           \n",
      "____________________________________________________________________________________________________\n",
      "maxpooling2d_35 (MaxPooling2D)   (None, 512, 1, 1)     0           conv5_3[0][0]                    \n",
      "____________________________________________________________________________________________________\n",
      "flatten_6 (Flatten)              (None, 512)           0           maxpooling2d_35[0][0]            \n",
      "____________________________________________________________________________________________________\n",
      "dense_9 (Dense)                  (None, 256)           131328      flatten_6[0][0]                  \n",
      "____________________________________________________________________________________________________\n",
      "activation_4 (Activation)        (None, 256)           0           dense_9[0][0]                    \n",
      "____________________________________________________________________________________________________\n",
      "dropout_5 (Dropout)              (None, 256)           0           activation_4[0][0]               \n",
      "____________________________________________________________________________________________________\n",
      "dense_10 (Dense)                 (None, 10)            2570        dropout_5[0][0]                  \n",
      "====================================================================================================\n",
      "Total params: 14,848,586\n",
      "Trainable params: 7,213,322\n",
      "Non-trainable params: 7,635,264\n",
      "____________________________________________________________________________________________________\n",
      "None\n"
     ]
    }
   ],
   "source": [
    "n = 31 - 7\n",
    "for i,layer in enumerate(vgg16_tr_model.layers[:]):\n",
    "    if i < (31-7):\n",
    "        layer.trainable = False\n",
    "    else:\n",
    "        layer.trainable = True\n",
    "print vgg16_tr_model.summary()\n"
   ]
  },
  {
   "cell_type": "code",
   "execution_count": 31,
   "metadata": {
    "collapsed": false
   },
   "outputs": [
    {
     "name": "stdout",
     "output_type": "stream",
     "text": [
      "[INFO] evaluating...\n",
      "[INFO] accuracy: 54.40%\n"
     ]
    },
    {
     "data": {
      "image/png": "[encoded data removed]",
      "text/plain": [
       "<matplotlib.figure.Figure at 0x7fa311a16490>"
      ]
     },
     "metadata": {},
     "output_type": "display_data"
    }
   ],
   "source": [
    "fig = plt.figure(figsize=(15,6))\n",
    "plt.ylim(0.0, ploss)\n",
    "plt.xlim(0, 50)\n",
    "plt.grid(True)\n",
    "\n",
    "print(\"[INFO] training...\")\n",
    "try:\n",
    "    vgg16_tr_model.fit(X_train, Y_train, batch_size=128, nb_epoch=nepochs,\n",
    "                       verbose=0, validation_split=0.33, callbacks = [my_big_callback])\n",
    "except KeyboardInterrupt:\n",
    "    pass\n",
    "\n",
    "print(\"[INFO] evaluating...\")\n",
    "loss, accuracy = vgg16_tr_model.evaluate(X_test, Y_test, batch_size=128, verbose=0)\n",
    "print(\"[INFO] accuracy: {:.2f}%\".format(accuracy * 100))"
   ]
  },
  {
   "cell_type": "markdown",
   "metadata": {},
   "source": [
    "## Sugestões \n",
    "\n",
    "1. Realize uma seleção de modelo para encontrar os melhores parâmetros para o seu classificador.\n",
    "2. Visualize as imagens de teste em que a sua rede falha.\n",
    "3. Visualize os features nas saídas das camadas intermediárias da rede."
   ]
  }
 ],
 "metadata": {
  "kernelspec": {
   "display_name": "Python [Root]",
   "language": "python",
   "name": "Python [Root]"
  },
  "language_info": {
   "codemirror_mode": {
    "name": "ipython",
    "version": 2
   },
   "file_extension": ".py",
   "mimetype": "text/x-python",
   "name": "python",
   "nbconvert_exporter": "python",
   "pygments_lexer": "ipython2",
   "version": "2.7.13"
  }
 },
 "nbformat": 4,
 "nbformat_minor": 2
}
