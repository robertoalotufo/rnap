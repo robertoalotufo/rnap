{
 "cells": [
  {
   "cell_type": "markdown",
   "metadata": {
    "deletable": true,
    "editable": true,
    "toc": "true"
   },
   "source": [
    "# Table of Contents\n",
    " <p><div class=\"lev1 toc-item\"><a href=\"#Cats-and-Dogs-(3):-Ajuste-fino-da-rede-pré-treinada\" data-toc-modified-id=\"Cats-and-Dogs-(3):-Ajuste-fino-da-rede-pré-treinada-1\"><span class=\"toc-item-num\">1&nbsp;&nbsp;</span>Cats and Dogs (3): Ajuste fino da rede pré-treinada</a></div><div class=\"lev2 toc-item\"><a href=\"#Dataset\" data-toc-modified-id=\"Dataset-11\"><span class=\"toc-item-num\">1.1&nbsp;&nbsp;</span>Dataset</a></div><div class=\"lev2 toc-item\"><a href=\"#Procedimento-de-treino\" data-toc-modified-id=\"Procedimento-de-treino-12\"><span class=\"toc-item-num\">1.2&nbsp;&nbsp;</span>Procedimento de treino</a></div><div class=\"lev2 toc-item\"><a href=\"#A-rede-VGG\" data-toc-modified-id=\"A-rede-VGG-13\"><span class=\"toc-item-num\">1.3&nbsp;&nbsp;</span>A rede VGG</a></div><div class=\"lev2 toc-item\"><a href=\"#Construção-da-rede-neural\" data-toc-modified-id=\"Construção-da-rede-neural-14\"><span class=\"toc-item-num\">1.4&nbsp;&nbsp;</span>Construção da rede neural</a></div><div class=\"lev2 toc-item\"><a href=\"#Treinamento\" data-toc-modified-id=\"Treinamento-15\"><span class=\"toc-item-num\">1.5&nbsp;&nbsp;</span>Treinamento</a></div><div class=\"lev2 toc-item\"><a href=\"#Avaliação\" data-toc-modified-id=\"Avaliação-16\"><span class=\"toc-item-num\">1.6&nbsp;&nbsp;</span>Avaliação</a></div><div class=\"lev2 toc-item\"><a href=\"#Aprendizados-com-este-notebook\" data-toc-modified-id=\"Aprendizados-com-este-notebook-17\"><span class=\"toc-item-num\">1.7&nbsp;&nbsp;</span>Aprendizados com este notebook</a></div>"
   ]
  },
  {
   "cell_type": "markdown",
   "metadata": {
    "deletable": true,
    "editable": true
   },
   "source": [
    "# Cats and Dogs (3): Ajuste fino da rede pré-treinada\n",
    "\n",
    "https://blog.keras.io/building-powerful-image-classification-models-using-very-little-data.html\n",
    "\n",
    "Esta é a última parte de três do experimento de *transfer learning*.\n",
    "\n",
    "Neste experimento, a rede VGG é montada completa, com a parte convolucional e a parte da rede densa treinada no notebook anterior. As camadas finais da parte convolucional são liberadas para o treinamento, juntamente com a rede densa obtida no notebook anterior (*fine tuning*). Os pesos das camadas iniciais da VGG são mantidos constantes."
   ]
  },
  {
   "cell_type": "code",
   "execution_count": 1,
   "metadata": {
    "collapsed": false,
    "deletable": true,
    "editable": true
   },
   "outputs": [
    {
     "name": "stderr",
     "output_type": "stream",
     "text": [
      "Using TensorFlow backend.\n"
     ]
    },
    {
     "name": "stdout",
     "output_type": "stream",
     "text": [
      "Keras  2.0.4\n"
     ]
    }
   ],
   "source": [
    "%matplotlib inline\n",
    "import matplotlib.pyplot as plot\n",
    "from IPython import display\n",
    "\n",
    "import os\n",
    "import sys\n",
    "import numpy as np\n",
    "import numpy.random as nr\n",
    "\n",
    "import keras\n",
    "from keras.preprocessing.image import ImageDataGenerator\n",
    "from keras.models import Sequential\n",
    "from keras.models import load_model\n",
    "from keras.models import Model\n",
    "from keras.layers import Convolution2D, MaxPooling2D\n",
    "from keras.layers import Activation, Dropout, Flatten, Dense\n",
    "from keras.optimizers import SGD, RMSprop\n",
    "\n",
    "print('Keras ', keras.__version__)\n",
    "\n",
    "sys.path.append('../src')\n",
    "from my_keras_utilities import (get_available_gpus, \n",
    "                                load_model_and_history, \n",
    "                                save_model_and_history, \n",
    "                                TrainingPlotter)\n",
    "\n",
    "import os\n",
    "os.makedirs('../../models', exist_ok=True)"
   ]
  },
  {
   "cell_type": "code",
   "execution_count": 2,
   "metadata": {
    "collapsed": false,
    "deletable": true,
    "editable": true
   },
   "outputs": [
    {
     "name": "stdout",
     "output_type": "stream",
     "text": [
      "Backend:        tensorflow\n",
      "Data format:    channels_last\n",
      "Available GPUS: ['/gpu:0']\n"
     ]
    }
   ],
   "source": [
    "import keras.backend as K\n",
    "\n",
    "# K.set_image_data_format('channels_first')\n",
    "K.set_floatx('float32')\n",
    "image_format = K.image_data_format()\n",
    "\n",
    "print('Backend:        {}'.format(K.backend()))\n",
    "print('Data format:    {}'.format(image_format))\n",
    "print('Available GPUS:', get_available_gpus())"
   ]
  },
  {
   "cell_type": "markdown",
   "metadata": {
    "deletable": true,
    "editable": true
   },
   "source": [
    "## Dataset\n",
    "\n",
    "https://www.kaggle.com/c/dogs-vs-cats/data\n"
   ]
  },
  {
   "cell_type": "code",
   "execution_count": 3,
   "metadata": {
    "collapsed": false,
    "deletable": true,
    "editable": true
   },
   "outputs": [
    {
     "name": "stdout",
     "output_type": "stream",
     "text": [
      "Found 2000 images belonging to 2 classes.\n",
      "Found 800 images belonging to 2 classes.\n"
     ]
    }
   ],
   "source": [
    "train_data_dir = '../../datasets/CatsDogs/train'\n",
    "valid_data_dir = '../../datasets/CatsDogs/validation'\n",
    "nb_train_samples = 2000\n",
    "nb_valid_samples = 800\n",
    "\n",
    "batch_size = 40\n",
    "img_width, img_height = 150, 150\n",
    "\n",
    "# prepare data augmentation configuration\n",
    "train_datagen = ImageDataGenerator(\n",
    "        rescale=1./255,\n",
    "        shear_range=0.2,\n",
    "        zoom_range=0.2,\n",
    "        horizontal_flip=True)\n",
    "\n",
    "test_datagen = ImageDataGenerator(rescale=1./255)\n",
    "\n",
    "train_generator = train_datagen.flow_from_directory(\n",
    "        train_data_dir,\n",
    "        target_size=(img_height, img_width),\n",
    "        batch_size=batch_size,\n",
    "        class_mode='binary')\n",
    "\n",
    "valid_generator = test_datagen.flow_from_directory(\n",
    "        valid_data_dir,\n",
    "        target_size=(img_height, img_width),\n",
    "        batch_size=batch_size,\n",
    "        class_mode='binary')\n"
   ]
  },
  {
   "cell_type": "markdown",
   "metadata": {
    "deletable": true,
    "editable": true
   },
   "source": [
    "## Procedimento de treino"
   ]
  },
  {
   "cell_type": "code",
   "execution_count": 4,
   "metadata": {
    "collapsed": true,
    "deletable": true,
    "editable": true
   },
   "outputs": [],
   "source": [
    "class MyCb(TrainingPlotter):\n",
    "    \n",
    "    def on_epoch_end(self, epoch, logs={}):\n",
    "        super().on_epoch_end(epoch, logs)\n",
    "\n",
    "\n",
    "def train_network(model, model_name, train_generator, validation_generator, \n",
    "                  train_steps=10, valid_steps=10, opt='rmsprop', loss='mse', metrics=[], \n",
    "                  nepochs=50, patience=50, reset=False, ploss=1.0):\n",
    "\n",
    "    do_plot = (ploss > 0.0)\n",
    "    \n",
    "    model_fn = model_name + '.model'\n",
    "    if reset and os.path.isfile(model_fn):\n",
    "        os.unlink(model_name + '.model')\n",
    "        \n",
    "    if not os.path.isfile(model_fn):\n",
    "        # History, checkpoint, earlystop, plot losses:\n",
    "        cb = MyCb(n=1, filepath=model_name, patience=patience, plot_losses=do_plot)\n",
    "        \n",
    "    else:\n",
    "        print(\"[INFO] loading model...\")\n",
    "        model, cb = load_model_and_history(model_name)\n",
    "        cb.patience = patience\n",
    "\n",
    "    # initialize the optimizer and model\n",
    "    print(\"[INFO] compiling model...\")\n",
    "    model.compile(loss=loss, optimizer=opt, metrics=metrics)    \n",
    "    \n",
    "    past_epochs = cb.get_nepochs()\n",
    "    tr_epochs = nepochs - past_epochs\n",
    "    \n",
    "    if do_plot:\n",
    "        vv = 0\n",
    "        fig = plot.figure(figsize=(15,6))\n",
    "        plot.ylim(0.0, ploss)\n",
    "        plot.xlim(0, nepochs)\n",
    "        plot.grid(True)\n",
    "    else:\n",
    "        vv = 2\n",
    "\n",
    "    print(\"[INFO] training for {} epochs ...\".format(tr_epochs))\n",
    "    try:\n",
    "        model.fit_generator(train_generator, steps_per_epoch=train_steps,\n",
    "                            validation_data=validation_generator, validation_steps=valid_steps,\n",
    "                            epochs=nepochs, verbose=vv, callbacks=[cb])\n",
    "    except KeyboardInterrupt:\n",
    "        pass\n",
    "\n",
    "    model, histo = load_model_and_history(model_name)\n",
    "    return model, cb\n",
    "\n",
    "\n",
    "def test_network(model_name, validation_generator, nb_validation_samples):\n",
    "    model, histo = load_model_and_history(model_name)\n",
    "    print('Model from epoch {}'.format(histo.best_epoch))\n",
    "    print(\"[INFO] evaluating in the test data set ...\")\n",
    "    loss, accuracy = model.evaluate_generator(validation_generator, nb_validation_samples)\n",
    "    print(\"\\n[INFO] accuracy on the test data set: {:.2f}% [{:.5f}]\".format(accuracy * 100, loss))\n"
   ]
  },
  {
   "cell_type": "markdown",
   "metadata": {
    "deletable": true,
    "editable": true
   },
   "source": [
    "## A rede VGG\n",
    "\n",
    "[![VGG Network Layers](https://blog.keras.io/img/imgclf/vgg16_modified.png)]()"
   ]
  },
  {
   "cell_type": "markdown",
   "metadata": {
    "deletable": true,
    "editable": true
   },
   "source": [
    "## Construção da rede neural"
   ]
  },
  {
   "cell_type": "code",
   "execution_count": 5,
   "metadata": {
    "collapsed": false,
    "deletable": true,
    "editable": true
   },
   "outputs": [
    {
     "name": "stdout",
     "output_type": "stream",
     "text": [
      "[INFO] creating model...\n",
      "_________________________________________________________________\n",
      "Layer (type)                 Output Shape              Param #   \n",
      "=================================================================\n",
      "input_1 (InputLayer)         (None, 150, 150, 3)       0         \n",
      "_________________________________________________________________\n",
      "block1_conv1 (Conv2D)        (None, 150, 150, 64)      1792      \n",
      "_________________________________________________________________\n",
      "block1_conv2 (Conv2D)        (None, 150, 150, 64)      36928     \n",
      "_________________________________________________________________\n",
      "block1_pool (MaxPooling2D)   (None, 75, 75, 64)        0         \n",
      "_________________________________________________________________\n",
      "block2_conv1 (Conv2D)        (None, 75, 75, 128)       73856     \n",
      "_________________________________________________________________\n",
      "block2_conv2 (Conv2D)        (None, 75, 75, 128)       147584    \n",
      "_________________________________________________________________\n",
      "block2_pool (MaxPooling2D)   (None, 37, 37, 128)       0         \n",
      "_________________________________________________________________\n",
      "block3_conv1 (Conv2D)        (None, 37, 37, 256)       295168    \n",
      "_________________________________________________________________\n",
      "block3_conv2 (Conv2D)        (None, 37, 37, 256)       590080    \n",
      "_________________________________________________________________\n",
      "block3_conv3 (Conv2D)        (None, 37, 37, 256)       590080    \n",
      "_________________________________________________________________\n",
      "block3_pool (MaxPooling2D)   (None, 18, 18, 256)       0         \n",
      "_________________________________________________________________\n",
      "block4_conv1 (Conv2D)        (None, 18, 18, 512)       1180160   \n",
      "_________________________________________________________________\n",
      "block4_conv2 (Conv2D)        (None, 18, 18, 512)       2359808   \n",
      "_________________________________________________________________\n",
      "block4_conv3 (Conv2D)        (None, 18, 18, 512)       2359808   \n",
      "_________________________________________________________________\n",
      "block4_pool (MaxPooling2D)   (None, 9, 9, 512)         0         \n",
      "_________________________________________________________________\n",
      "block5_conv1 (Conv2D)        (None, 9, 9, 512)         2359808   \n",
      "_________________________________________________________________\n",
      "block5_conv2 (Conv2D)        (None, 9, 9, 512)         2359808   \n",
      "_________________________________________________________________\n",
      "block5_conv3 (Conv2D)        (None, 9, 9, 512)         2359808   \n",
      "_________________________________________________________________\n",
      "block5_pool (MaxPooling2D)   (None, 4, 4, 512)         0         \n",
      "_________________________________________________________________\n",
      "flatten_1 (Flatten)          (None, 8192)              0         \n",
      "_________________________________________________________________\n",
      "d1 (Dense)                   (None, 256)               2097408   \n",
      "_________________________________________________________________\n",
      "dropout_1 (Dropout)          (None, 256)               0         \n",
      "_________________________________________________________________\n",
      "d2 (Dense)                   (None, 1)                 257       \n",
      "=================================================================\n",
      "Total params: 16,812,353\n",
      "Trainable params: 9,177,089\n",
      "Non-trainable params: 7,635,264\n",
      "_________________________________________________________________\n"
     ]
    }
   ],
   "source": [
    "model_name = '../../models/cats_dogs_vgg_finetune'   # modelo da rede atual\n",
    "\n",
    "def build_net(img_width, img_height):\n",
    "    from keras.applications.vgg16 import VGG16\n",
    "    \n",
    "    print(\"[INFO] creating model...\")\n",
    "    vgg = VGG16(include_top=False, weights='imagenet', input_shape=(img_height, img_width, 3))\n",
    "    \n",
    "    # build a classifier model and put on top of the convolutional model\n",
    "    x = Flatten()(vgg.output)\n",
    "    x = Dense(256, activation='relu', name='d1')(x)\n",
    "    x = Dropout(0.5)(x)\n",
    "    x = Dense(1, activation='sigmoid', name='d2')(x)\n",
    "    \n",
    "    model = Model(inputs=vgg.input, outputs=x)\n",
    "\n",
    "    #     print('Model layers:')\n",
    "    #     for i, layer in enumerate(model.layers):\n",
    "    #         print('    {:2d} {:15s} {}'.format(i, layer.name, layer))\n",
    "    \n",
    "    # modelo da rede densa treinada no notebook anterior\n",
    "    top_model_name = '../../models/cats_dogs_vgg.model'\n",
    "    # Carrego os pesos treinados anteriormente\n",
    "    w1, b1, w2, b2 = load_model(top_model_name).get_weights()    \n",
    "    # Coloco nas camadas densas finais da rede\n",
    "    model.layers[20].set_weights([w1, b1])\n",
    "    model.layers[22].set_weights([w2, b2])\n",
    "    \n",
    "    # Torno não-treináveis as primeiras 15 camadas\n",
    "    # da rede (os pesos não serão alterados)\n",
    "    for layer in model.layers[:15]:\n",
    "        layer.trainable = False\n",
    "        \n",
    "    return model\n",
    "\n",
    "model = build_net(img_width, img_height)\n",
    "model.summary()\n"
   ]
  },
  {
   "cell_type": "markdown",
   "metadata": {
    "deletable": true,
    "editable": true
   },
   "source": [
    "## Treinamento"
   ]
  },
  {
   "cell_type": "code",
   "execution_count": 6,
   "metadata": {
    "collapsed": false,
    "deletable": true,
    "editable": true
   },
   "outputs": [
    {
     "data": {
      "image/png": "[encoded data removed]",
      "text/plain": [
       "<matplotlib.figure.Figure at 0x7f1a652bfb38>"
      ]
     },
     "metadata": {},
     "output_type": "display_data"
    }
   ],
   "source": [
    "fit_params = {\n",
    "    'train_steps':     nb_train_samples / batch_size,\n",
    "    'valid_steps':     nb_valid_samples / batch_size,\n",
    "    'opt':             SGD(lr=0.0001, momentum=0.9, nesterov=True), \n",
    "    'loss':            'binary_crossentropy', \n",
    "    'metrics':         ['accuracy'],\n",
    "    'nepochs':         50, \n",
    "    'patience':        15,\n",
    "    'ploss':           1.0,\n",
    "    'reset':           False,\n",
    "}\n",
    "\n",
    "train_network(model, model_name, train_generator, valid_generator, **fit_params);"
   ]
  },
  {
   "cell_type": "markdown",
   "metadata": {
    "deletable": true,
    "editable": true
   },
   "source": [
    "## Avaliação"
   ]
  },
  {
   "cell_type": "code",
   "execution_count": 7,
   "metadata": {
    "collapsed": false,
    "deletable": true,
    "editable": true
   },
   "outputs": [
    {
     "name": "stdout",
     "output_type": "stream",
     "text": [
      "Model from epoch 28\n",
      "[INFO] evaluating in the test data set ...\n",
      "\n",
      "[INFO] accuracy on the test data set: 93.38% [0.16835]\n"
     ]
    }
   ],
   "source": [
    "test_network(model_name, valid_generator, nb_valid_samples / batch_size)"
   ]
  },
  {
   "cell_type": "markdown",
   "metadata": {
    "collapsed": false,
    "deletable": true,
    "editable": true
   },
   "source": [
    "## Aprendizados com este notebook\n",
    "\n"
   ]
  },
  {
   "cell_type": "code",
   "execution_count": null,
   "metadata": {
    "collapsed": false,
    "deletable": true,
    "editable": true
   },
   "outputs": [],
   "source": []
  }
 ],
 "metadata": {
  "anaconda-cloud": {},
  "kernelspec": {
   "display_name": "Python 3",
   "language": "python",
   "name": "python3"
  },
  "language_info": {
   "codemirror_mode": {
    "name": "ipython",
    "version": 3
   },
   "file_extension": ".py",
   "mimetype": "text/x-python",
   "name": "python",
   "nbconvert_exporter": "python",
   "pygments_lexer": "ipython3",
   "version": "3.4.3"
  },
  "latex_envs": {
   "LaTeX_envs_menu_present": true,
   "autocomplete": true,
   "bibliofile": "biblio.bib",
   "cite_by": "apalike",
   "current_citInitial": 1,
   "eqLabelWithNumbers": true,
   "eqNumInitial": 1,
   "hotkeys": {
    "equation": "Ctrl-E",
    "itemize": "Ctrl-I"
   },
   "labels_anchors": false,
   "latex_user_defs": false,
   "report_style_numbering": false,
   "user_envs_cfg": false
  },
  "toc": {
   "colors": {
    "hover_highlight": "#DAA520",
    "running_highlight": "#FF0000",
    "selected_highlight": "#FFD700"
   },
   "moveMenuLeft": true,
   "nav_menu": {
    "height": "102px",
    "width": "252px"
   },
   "navigate_menu": true,
   "number_sections": true,
   "sideBar": true,
   "threshold": 4,
   "toc_cell": true,
   "toc_section_display": "block",
   "toc_window_display": false,
   "widenNotebook": false
  }
 },
 "nbformat": 4,
 "nbformat_minor": 0
}
