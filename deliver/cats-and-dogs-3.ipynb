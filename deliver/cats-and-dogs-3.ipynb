{
 "cells": [
  {
   "cell_type": "markdown",
   "metadata": {
    "deletable": true,
    "editable": true
   },
   "source": [
    "## Cats and Dogs (3/3)\n",
    "### Building powerful image classification models using very little data\n",
    "By Francois Chollet: \n",
    "https://blog.keras.io/building-powerful-image-classification-models-using-very-little-data.html\n",
    "\n",
    "Esta é a última parte de três do experimento de *transfer learning*.\n",
    "\n",
    "Neste experimento, a rede VGG é montada completa, com a parte convolucional e a parte da rede densa treinada no notebook anterior. As camadas finais da parte convolucional é liberada para o treinamento (*fine tuning*)."
   ]
  },
  {
   "cell_type": "code",
   "execution_count": 8,
   "metadata": {
    "collapsed": false,
    "deletable": true,
    "editable": true
   },
   "outputs": [
    {
     "name": "stdout",
     "output_type": "stream",
     "text": [
      "Keras  2.0.4\n"
     ]
    }
   ],
   "source": [
    "%matplotlib inline\n",
    "import matplotlib.pyplot as plot\n",
    "from IPython import display\n",
    "\n",
    "import os\n",
    "import sys\n",
    "import numpy as np\n",
    "import numpy.random as nr\n",
    "\n",
    "import keras\n",
    "from keras.preprocessing.image import ImageDataGenerator\n",
    "from keras.models import Sequential\n",
    "from keras.models import load_model\n",
    "from keras.models import Model\n",
    "from keras.layers import Convolution2D, MaxPooling2D\n",
    "from keras.layers import Activation, Dropout, Flatten, Dense\n",
    "from keras.optimizers import SGD, RMSprop\n",
    "\n",
    "print('Keras ', keras.__version__)\n",
    "\n",
    "sys.path.append('../src')\n",
    "from my_keras_utilities import (get_available_gpus, \n",
    "                                load_model_and_history, \n",
    "                                save_model_and_history, \n",
    "                                TrainingPlotter)\n",
    "\n",
    "import os\n",
    "os.makedirs('../../models', exist_ok=True)"
   ]
  },
  {
   "cell_type": "code",
   "execution_count": 9,
   "metadata": {
    "collapsed": false,
    "deletable": true,
    "editable": true
   },
   "outputs": [
    {
     "name": "stdout",
     "output_type": "stream",
     "text": [
      "Backend:        tensorflow\n",
      "Data format:    channels_last\n",
      "Available GPUS: ['/gpu:0']\n"
     ]
    }
   ],
   "source": [
    "import keras.backend as K\n",
    "\n",
    "# K.set_image_data_format('channels_first')\n",
    "K.set_floatx('float32')\n",
    "image_format = K.image_data_format()\n",
    "\n",
    "print('Backend:        {}'.format(K.backend()))\n",
    "print('Data format:    {}'.format(image_format))\n",
    "print('Available GPUS:', get_available_gpus())"
   ]
  },
  {
   "cell_type": "markdown",
   "metadata": {
    "deletable": true,
    "editable": true
   },
   "source": [
    "## Dataset\n",
    "\n",
    "https://www.kaggle.com/c/dogs-vs-cats/data\n"
   ]
  },
  {
   "cell_type": "code",
   "execution_count": 10,
   "metadata": {
    "collapsed": false,
    "deletable": true,
    "editable": true
   },
   "outputs": [
    {
     "name": "stdout",
     "output_type": "stream",
     "text": [
      "Found 2000 images belonging to 2 classes.\n",
      "Found 800 images belonging to 2 classes.\n"
     ]
    }
   ],
   "source": [
    "train_data_dir = '../../datasets/CatsDogs/train'\n",
    "valid_data_dir = '../../datasets/CatsDogs/validation'\n",
    "nb_train_samples = 2000\n",
    "nb_valid_samples = 800\n",
    "\n",
    "batch_size = 40\n",
    "img_width, img_height = 150, 150\n",
    "\n",
    "# prepare data augmentation configuration\n",
    "train_datagen = ImageDataGenerator(\n",
    "        rescale=1./255,\n",
    "        shear_range=0.2,\n",
    "        zoom_range=0.2,\n",
    "        horizontal_flip=True)\n",
    "\n",
    "test_datagen = ImageDataGenerator(rescale=1./255)\n",
    "\n",
    "train_generator = train_datagen.flow_from_directory(\n",
    "        train_data_dir,\n",
    "        target_size=(img_height, img_width),\n",
    "        batch_size=batch_size,\n",
    "        class_mode='binary')\n",
    "\n",
    "valid_generator = test_datagen.flow_from_directory(\n",
    "        valid_data_dir,\n",
    "        target_size=(img_height, img_width),\n",
    "        batch_size=batch_size,\n",
    "        class_mode='binary')\n"
   ]
  },
  {
   "cell_type": "markdown",
   "metadata": {
    "deletable": true,
    "editable": true
   },
   "source": [
    "## VGG Features\n",
    "\n",
    "[![VGG Network Layers](https://blog.keras.io/img/imgclf/vgg16_modified.png)]()"
   ]
  },
  {
   "cell_type": "code",
   "execution_count": 11,
   "metadata": {
    "collapsed": false,
    "deletable": true,
    "editable": true
   },
   "outputs": [],
   "source": [
    "# Esta função contorna um problema:\n",
    "#     - model.load_weights somente carrega pesos de camadas \"treináveis\";\n",
    "#     - como nosso modelo possui camadas com trainable=False mas que tem pesos\n",
    "#       aprendidos em outras ocasiões, é preciso iludir o get_weights de forma\n",
    "#       que os pesos sejam carregados.\n",
    "def fix_load_model_and_history(model_name, loss='binary_crossentropy', opt='adam', metrics=[]):\n",
    "    import h5py, json\n",
    "    import pickle\n",
    "    from keras.models import model_from_config\n",
    "    \n",
    "    f = h5py.File(model_name + '.model', mode='r')\n",
    "    model_config = f.attrs.get('model_config')\n",
    "    model_config = json.loads(model_config.decode('utf-8'))\n",
    "\n",
    "    untrainable = []\n",
    "    for ii, lay in enumerate(model_config['config']['layers']):\n",
    "        if 'trainable' in lay['config'].keys():\n",
    "            if not lay['config']['trainable']:\n",
    "                lay['config']['trainable'] = True\n",
    "                untrainable.append(ii)\n",
    "            \n",
    "    model = model_from_config(model_config)\n",
    "    model.load_weights(model_name + '.model')\n",
    "\n",
    "    for ii in untrainable:\n",
    "        model.layers[ii].trainable = False\n",
    "\n",
    "    model.compile(loss=loss, optimizer=opt, metrics=metrics)\n",
    "    return model, pickle.load(open(model_name + '.history', 'rb'))\n"
   ]
  },
  {
   "cell_type": "code",
   "execution_count": 12,
   "metadata": {
    "collapsed": false,
    "deletable": true,
    "editable": true
   },
   "outputs": [
    {
     "name": "stdout",
     "output_type": "stream",
     "text": [
      "[INFO] loading model...\n",
      "_________________________________________________________________\n",
      "Layer (type)                 Output Shape              Param #   \n",
      "=================================================================\n",
      "input_1 (InputLayer)         (None, 150, 150, 3)       0         \n",
      "_________________________________________________________________\n",
      "block1_conv1 (Conv2D)        (None, 150, 150, 64)      1792      \n",
      "_________________________________________________________________\n",
      "block1_conv2 (Conv2D)        (None, 150, 150, 64)      36928     \n",
      "_________________________________________________________________\n",
      "block1_pool (MaxPooling2D)   (None, 75, 75, 64)        0         \n",
      "_________________________________________________________________\n",
      "block2_conv1 (Conv2D)        (None, 75, 75, 128)       73856     \n",
      "_________________________________________________________________\n",
      "block2_conv2 (Conv2D)        (None, 75, 75, 128)       147584    \n",
      "_________________________________________________________________\n",
      "block2_pool (MaxPooling2D)   (None, 37, 37, 128)       0         \n",
      "_________________________________________________________________\n",
      "block3_conv1 (Conv2D)        (None, 37, 37, 256)       295168    \n",
      "_________________________________________________________________\n",
      "block3_conv2 (Conv2D)        (None, 37, 37, 256)       590080    \n",
      "_________________________________________________________________\n",
      "block3_conv3 (Conv2D)        (None, 37, 37, 256)       590080    \n",
      "_________________________________________________________________\n",
      "block3_pool (MaxPooling2D)   (None, 18, 18, 256)       0         \n",
      "_________________________________________________________________\n",
      "block4_conv1 (Conv2D)        (None, 18, 18, 512)       1180160   \n",
      "_________________________________________________________________\n",
      "block4_conv2 (Conv2D)        (None, 18, 18, 512)       2359808   \n",
      "_________________________________________________________________\n",
      "block4_conv3 (Conv2D)        (None, 18, 18, 512)       2359808   \n",
      "_________________________________________________________________\n",
      "block4_pool (MaxPooling2D)   (None, 9, 9, 512)         0         \n",
      "_________________________________________________________________\n",
      "block5_conv1 (Conv2D)        (None, 9, 9, 512)         2359808   \n",
      "_________________________________________________________________\n",
      "block5_conv2 (Conv2D)        (None, 9, 9, 512)         2359808   \n",
      "_________________________________________________________________\n",
      "block5_conv3 (Conv2D)        (None, 9, 9, 512)         2359808   \n",
      "_________________________________________________________________\n",
      "block5_pool (MaxPooling2D)   (None, 4, 4, 512)         0         \n",
      "_________________________________________________________________\n",
      "flatten_1 (Flatten)          (None, 8192)              0         \n",
      "_________________________________________________________________\n",
      "d1 (Dense)                   (None, 256)               2097408   \n",
      "_________________________________________________________________\n",
      "dropout_1 (Dropout)          (None, 256)               0         \n",
      "_________________________________________________________________\n",
      "d2 (Dense)                   (None, 1)                 257       \n",
      "=================================================================\n",
      "Total params: 16,812,353\n",
      "Trainable params: 9,177,089\n",
      "Non-trainable params: 7,635,264\n",
      "_________________________________________________________________\n"
     ]
    }
   ],
   "source": [
    "from keras.applications.vgg16 import VGG16\n",
    "\n",
    "model_name = '../../models/cats_dogs_vgg_finetune'   # modelo da rede atual\n",
    "top_model_name = '../../models/cats_dogs_vgg.model'  # modelo da rede mynet densa treinada no notebook anterior\n",
    "\n",
    "if not os.path.isfile(model_name + '.model'):\n",
    "    # History, checkpoint, earlystop, loss plotter:\n",
    "    histo = TrainingPlotter(n=1, filepath=model_name, patience=15)\n",
    "    \n",
    "    print(\"[INFO] creating model...\")\n",
    "    vgg = VGG16(include_top=False, weights='imagenet', input_shape=(img_height, img_width, 3))\n",
    "    \n",
    "    # build a classifier model and put on top of the convolutional model\n",
    "    x = Flatten()(vgg.output)\n",
    "    x = Dense(256, activation='relu', name='d1')(x)\n",
    "    x = Dropout(0.5)(x)\n",
    "    x = Dense(1, activation='sigmoid', name='d2')(x)\n",
    "    \n",
    "    model = Model(inputs=vgg.input, outputs=x)\n",
    "\n",
    "    print('Model layers:')\n",
    "    for i, layer in enumerate(model.layers):\n",
    "        print('    {:2d} {:15s} {}'.format(i, layer.name, layer))\n",
    "    \n",
    "    # Carrego os pesos treinados anteriormente\n",
    "    w1, b1, w2, b2 = load_model(top_model_name).get_weights()\n",
    "    \n",
    "    # Coloco nas camadas densas finais da rede atual\n",
    "    model.layers[20].set_weights([w1, b1])\n",
    "    model.layers[22].set_weights([w2, b2])\n",
    "    \n",
    "    # set the first 15 layers (up to the last conv block)\n",
    "    # to non-trainable (weights will not be updated)\n",
    "    for layer in model.layers[:15]:\n",
    "        layer.trainable = False\n",
    "\n",
    "    print(\"[INFO] compiling model...\")\n",
    "    # compile the model with a SGD/momentum optimizer\n",
    "    # and a very slow learning rate.\n",
    "    model.compile(loss='binary_crossentropy',\n",
    "                  optimizer=SGD(lr=1e-4, momentum=0.9),\n",
    "                  metrics=['accuracy'])\n",
    "else:\n",
    "    print(\"[INFO] loading model...\")\n",
    "    model, histo = fix_load_model_and_history(model_name, \n",
    "                                              loss='binary_crossentropy', \n",
    "                                              opt=SGD(lr=1e-4, momentum=0.9), \n",
    "                                              metrics=['accuracy'])\n",
    "\n",
    "model.summary()\n"
   ]
  },
  {
   "cell_type": "code",
   "execution_count": 13,
   "metadata": {
    "collapsed": false,
    "deletable": true,
    "editable": true,
    "scrolled": false
   },
   "outputs": [
    {
     "data": {
      "image/png": "[encoded data removed]",
      "text/plain": [
       "<matplotlib.figure.Figure at 0x7f2916535e80>"
      ]
     },
     "metadata": {},
     "output_type": "display_data"
    }
   ],
   "source": [
    "nb_epoch = 50\n",
    "ploss = 1.0\n",
    "\n",
    "train_steps = nb_train_samples / batch_size\n",
    "valid_steps = nb_valid_samples / batch_size\n",
    "\n",
    "nepochs = nb_epoch - histo.get_nepochs()\n",
    "\n",
    "fig = plot.figure(figsize=(15,6))\n",
    "plot.ylim(0.0, ploss)\n",
    "plot.xlim(0, nb_epoch)\n",
    "plot.grid(True)\n",
    "\n",
    "if nepochs > 0:\n",
    "    print(\"[INFO] training...\")\n",
    "    try:\n",
    "        # fine-tune the model\n",
    "        model.fit_generator(\n",
    "            train_generator,\n",
    "            steps_per_epoch=train_steps,\n",
    "            epochs=nb_epoch,\n",
    "            validation_data=valid_generator,\n",
    "            validation_steps=valid_steps,\n",
    "            verbose=0,\n",
    "            callbacks=[histo],\n",
    "        )\n",
    "        \n",
    "    except KeyboardInterrupt:\n",
    "        pass\n",
    "\n",
    "else:\n",
    "    print(\"[INFO] plotting...\")\n",
    "    # plot history\n"
   ]
  },
  {
   "cell_type": "code",
   "execution_count": 15,
   "metadata": {
    "collapsed": false,
    "deletable": true,
    "editable": true
   },
   "outputs": [
    {
     "name": "stdout",
     "output_type": "stream",
     "text": [
      "[INFO] loading model...\n",
      "       from epoch 21\n",
      "[INFO] evaluating...\n",
      "[INFO] accuracy: 93.87%\n"
     ]
    }
   ],
   "source": [
    "print(\"[INFO] loading model...\")\n",
    "model, histo = fix_load_model_and_history(model_name, loss='binary_crossentropy', \n",
    "                                          opt=SGD(lr=1e-4, momentum=0.9), metrics=['accuracy'])\n",
    "print('       from epoch {}'.format(histo.best_epoch))\n",
    "print(\"[INFO] evaluating...\")\n",
    "loss, accuracy = model.evaluate_generator(valid_generator, valid_steps)\n",
    "print(\"[INFO] accuracy: {:.2f}%\".format(accuracy * 100))\n"
   ]
  },
  {
   "cell_type": "markdown",
   "metadata": {
    "collapsed": false,
    "deletable": true,
    "editable": true
   },
   "source": [
    "## Aprendizados com este notebook\n",
    "\n"
   ]
  }
 ],
 "metadata": {
  "anaconda-cloud": {},
  "kernelspec": {
   "display_name": "Python 3",
   "language": "python",
   "name": "python3"
  },
  "language_info": {
   "codemirror_mode": {
    "name": "ipython",
    "version": 3
   },
   "file_extension": ".py",
   "mimetype": "text/x-python",
   "name": "python",
   "nbconvert_exporter": "python",
   "pygments_lexer": "ipython3",
   "version": "3.4.3"
  },
  "latex_envs": {
   "LaTeX_envs_menu_present": true,
   "autocomplete": true,
   "bibliofile": "biblio.bib",
   "cite_by": "apalike",
   "current_citInitial": 1,
   "eqLabelWithNumbers": true,
   "eqNumInitial": 1,
   "hotkeys": {
    "equation": "Ctrl-E",
    "itemize": "Ctrl-I"
   },
   "labels_anchors": false,
   "latex_user_defs": false,
   "report_style_numbering": false,
   "user_envs_cfg": false
  },
  "toc": {
   "colors": {
    "hover_highlight": "#DAA520",
    "running_highlight": "#FF0000",
    "selected_highlight": "#FFD700"
   },
   "moveMenuLeft": true,
   "nav_menu": {
    "height": "102px",
    "width": "252px"
   },
   "navigate_menu": true,
   "number_sections": true,
   "sideBar": true,
   "threshold": 4,
   "toc_cell": false,
   "toc_section_display": "block",
   "toc_window_display": false,
   "widenNotebook": false
  }
 },
 "nbformat": 4,
 "nbformat_minor": 0
}
