{
 "cells": [
  {
   "cell_type": "markdown",
   "metadata": {
    "heading_collapsed": true
   },
   "source": [
    "# Treinamento Redes Neurais e Aprendizado Profundo de Máquina"
   ]
  },
  {
   "cell_type": "markdown",
   "metadata": {
    "hidden": true
   },
   "source": [
    "<img src=\"../figures/capacursomovile.png\",width=600pt></img>"
   ]
  },
  {
   "cell_type": "markdown",
   "metadata": {
    "heading_collapsed": true
   },
   "source": [
    "# IV - Embeddings - Atributos latentes"
   ]
  },
  {
   "cell_type": "markdown",
   "metadata": {
    "hidden": true
   },
   "source": [
    "## Sistema de Recomendação - MovieLens"
   ]
  },
  {
   "cell_type": "markdown",
   "metadata": {
    "hidden": true
   },
   "source": [
    "###  MovieLens dataset - leitura, reindexação e visualização matriz de recomendação"
   ]
  },
  {
   "cell_type": "markdown",
   "metadata": {
    "hidden": true
   },
   "source": [
    "- Conceitos novos: Matriz de recomendação, Sistema de recomendação\n",
    "- Prática: Keras - leitura dataset, reindexação, visualização matriz de recomendação\n",
    " * NB: [MovieLens Dataset](MovieLens_dataset.ipynb)"
   ]
  },
  {
   "cell_type": "markdown",
   "metadata": {
    "hidden": true
   },
   "source": [
    "### Embedding - conceitos básicos e utilização no Keras"
   ]
  },
  {
   "cell_type": "markdown",
   "metadata": {
    "hidden": true
   },
   "source": [
    "- Conceitos novos: Embedding\n",
    "- Teoria: Embedding como forma eficiente de entrada categórica\n",
    "- Prática: Keras - usando o Embedding\n",
    "* NB: [Embedding - Introdução](embedding-basics.ipynb)"
   ]
  },
  {
   "cell_type": "markdown",
   "metadata": {
    "hidden": true
   },
   "source": [
    "### Sistema de Recomendação - MovieLens"
   ]
  },
  {
   "cell_type": "markdown",
   "metadata": {
    "hidden": true
   },
   "source": [
    "- Conceitos novos: Modelagem sistema de recomendação, atributo latente\n",
    " * NB: [Sistema de Recomendação](SistemaRecomendacao.ipynb)"
   ]
  },
  {
   "cell_type": "markdown",
   "metadata": {
    "hidden": true
   },
   "source": [
    "## Previsão de vendas com embeddings"
   ]
  },
  {
   "cell_type": "markdown",
   "metadata": {
    "hidden": true
   },
   "source": [
    "- Uso generalizado de embeddings\n",
    "  * NB: [Previsão Vendas - Rossmann - Competição Kaggle](rossmann_sales_prediction_kaggle_embedding.ipynb)"
   ]
  },
  {
   "cell_type": "markdown",
   "metadata": {
    "hidden": true
   },
   "source": [
    "## Classificação de textos"
   ]
  },
  {
   "cell_type": "markdown",
   "metadata": {
    "hidden": true
   },
   "source": [
    "### Classificação de livros brasileiros"
   ]
  },
  {
   "cell_type": "markdown",
   "metadata": {
    "ExecuteTime": {
     "end_time": "2017-06-12T09:50:35.132317",
     "start_time": "2017-06-12T09:50:35.126894"
    },
    "hidden": true
   },
   "source": [
    " - NB: [Livros - Criação do dataset](livros_dataset.ipynb)\n",
    " - NB: [Livros - Identificação de autoria](livros_classif.ipynb)\n",
    " - NB: [Livros - word2vec](livros_word2vec_portuguese.ipynb)\n",
    " - NB: [Livros - Uso de um word2vec portugues](livros_classif_w2v.ipynb)\n"
   ]
  },
  {
   "cell_type": "markdown",
   "metadata": {
    "hidden": true
   },
   "source": [
    "### Classificação de livros brasileiros - material auxiliar"
   ]
  },
  {
   "cell_type": "markdown",
   "metadata": {
    "hidden": true
   },
   "source": [
    " - NB: [Livros - Preprocessamento](livros_preprocessing.ipynb)\n",
    " - NB: [Livros - Identificação de autoria (aumento  de dados)](livros_classif_augm.ipynb)\n",
    " - NB: [Livros - Uso de um word2vec portugues (aumento de dados)](livros_classif_w2v_augm.ipynb)"
   ]
  },
  {
   "cell_type": "markdown",
   "metadata": {
    "hidden": true
   },
   "source": [
    "### Análise de Sentimento - IMDB"
   ]
  },
  {
   "cell_type": "markdown",
   "metadata": {
    "hidden": true
   },
   "source": [
    "\n",
    "- NB: [Análise de Sentimento](AnaliseSentimento_IMDB.ipynb)"
   ]
  },
  {
   "cell_type": "markdown",
   "metadata": {
    "hidden": true
   },
   "source": [
    "### Classificação de mensagens de newsgroups"
   ]
  },
  {
   "cell_type": "markdown",
   "metadata": {
    "ExecuteTime": {
     "end_time": "2017-06-12T09:41:35.989048",
     "start_time": "2017-06-12T09:41:35.949497"
    },
    "hidden": true
   },
   "source": [
    " - [Newsgroup Classify with Glove](newsgroups_classif_glove.ipynb)"
   ]
  },
  {
   "cell_type": "markdown",
   "metadata": {
    "heading_collapsed": true
   },
   "source": [
    "# V - Redes Neurais Recorrentes"
   ]
  },
  {
   "cell_type": "markdown",
   "metadata": {
    "hidden": true
   },
   "source": [
    "- Uso do SimpleRNN com exemplos numéricos\n",
    " * NB: [SimpleRNN_Numerical](SimpleRNN_Numerical.ipynb)"
   ]
  },
  {
   "cell_type": "markdown",
   "metadata": {
    "hidden": true
   },
   "source": [
    "- Implementação matricial da predição das camadas SimpleRNN, LSTM e GRU como referência\n",
    " * NB: [SimpleRNN-LSTM-GRU NumPy](simplernn_lstm_gru_numpy.ipynb)"
   ]
  },
  {
   "cell_type": "markdown",
   "metadata": {
    "heading_collapsed": true
   },
   "source": [
    "# VI - Aplicações"
   ]
  },
  {
   "cell_type": "markdown",
   "metadata": {
    "hidden": true
   },
   "source": [
    "## Detecção de fraude - cartão de crédito"
   ]
  },
  {
   "cell_type": "markdown",
   "metadata": {
    "hidden": true
   },
   "source": [
    " - NB: [Detecção fraude - cartão de crédito (Kaggle)](credit_card_fraud_detection_kaggle.ipynb)"
   ]
  },
  {
   "cell_type": "markdown",
   "metadata": {
    "heading_collapsed": true
   },
   "source": [
    "# Documentação"
   ]
  },
  {
   "cell_type": "markdown",
   "metadata": {
    "hidden": true
   },
   "source": [
    "- [Jupyter Notebook](http://jupyter-notebook.readthedocs.io/en/latest/notebook.html)\n",
    "- [NumPy](https://docs.scipy.org/doc/)\n",
    "- [Matplotlib](https://matplotlib.org/contents.html)\n",
    "- [Keras](https://keras.io/)"
   ]
  },
  {
   "cell_type": "code",
   "execution_count": null,
   "metadata": {
    "collapsed": true,
    "hidden": true
   },
   "outputs": [],
   "source": []
  }
 ],
 "metadata": {
  "anaconda-cloud": {},
  "kernelspec": {
   "display_name": "Python 3",
   "language": "python",
   "name": "python3"
  },
  "language_info": {
   "codemirror_mode": {
    "name": "ipython",
    "version": 3
   },
   "file_extension": ".py",
   "mimetype": "text/x-python",
   "name": "python",
   "nbconvert_exporter": "python",
   "pygments_lexer": "ipython3",
   "version": "3.6.0"
  },
  "toc": {
   "colors": {
    "hover_highlight": "#DAA520",
    "running_highlight": "#FF0000",
    "selected_highlight": "#FFD700"
   },
   "moveMenuLeft": true,
   "nav_menu": {
    "height": "512px",
    "width": "252px"
   },
   "navigate_menu": true,
   "number_sections": true,
   "sideBar": true,
   "threshold": 4,
   "toc_cell": false,
   "toc_section_display": "block",
   "toc_window_display": false
  }
 },
 "nbformat": 4,
 "nbformat_minor": 0
}
