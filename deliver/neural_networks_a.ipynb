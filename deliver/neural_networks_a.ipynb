{
 "cells": [
  {
   "cell_type": "markdown",
   "metadata": {
    "deletable": true,
    "editable": true,
    "toc": "true"
   },
   "source": [
    "# Table of Contents\n",
    " <p><div class=\"lev1 toc-item\"><a href=\"#Redes-Neurais\" data-toc-modified-id=\"Redes-Neurais-1\"><span class=\"toc-item-num\">1&nbsp;&nbsp;</span>Redes Neurais</a></div><div class=\"lev2 toc-item\"><a href=\"#Preâmbulo\" data-toc-modified-id=\"Preâmbulo-11\"><span class=\"toc-item-num\">1.1&nbsp;&nbsp;</span>Preâmbulo</a></div><div class=\"lev2 toc-item\"><a href=\"#Arquitetura\" data-toc-modified-id=\"Arquitetura-12\"><span class=\"toc-item-num\">1.2&nbsp;&nbsp;</span>Arquitetura</a></div><div class=\"lev3 toc-item\"><a href=\"#Propagação-para-frente\" data-toc-modified-id=\"Propagação-para-frente-121\"><span class=\"toc-item-num\">1.2.1&nbsp;&nbsp;</span>Propagação para frente</a></div><div class=\"lev3 toc-item\"><a href=\"#Propagação-para-trás\" data-toc-modified-id=\"Propagação-para-trás-122\"><span class=\"toc-item-num\">1.2.2&nbsp;&nbsp;</span>Propagação para trás</a></div><div class=\"lev2 toc-item\"><a href=\"#Implementação-matricial\" data-toc-modified-id=\"Implementação-matricial-13\"><span class=\"toc-item-num\">1.3&nbsp;&nbsp;</span>Implementação matricial</a></div><div class=\"lev3 toc-item\"><a href=\"#Vetorização-do-algoritmo\" data-toc-modified-id=\"Vetorização-do-algoritmo-131\"><span class=\"toc-item-num\">1.3.1&nbsp;&nbsp;</span>Vetorização do algoritmo</a></div><div class=\"lev3 toc-item\"><a href=\"#O-código\" data-toc-modified-id=\"O-código-132\"><span class=\"toc-item-num\">1.3.2&nbsp;&nbsp;</span>O código</a></div><div class=\"lev3 toc-item\"><a href=\"#Verificando-o-cálculo-do-gradiente\" data-toc-modified-id=\"Verificando-o-cálculo-do-gradiente-133\"><span class=\"toc-item-num\">1.3.3&nbsp;&nbsp;</span>Verificando o cálculo do gradiente</a></div><div class=\"lev2 toc-item\"><a href=\"#Testes\" data-toc-modified-id=\"Testes-14\"><span class=\"toc-item-num\">1.4&nbsp;&nbsp;</span>Testes</a></div><div class=\"lev3 toc-item\"><a href=\"#Dataset\" data-toc-modified-id=\"Dataset-141\"><span class=\"toc-item-num\">1.4.1&nbsp;&nbsp;</span>Dataset</a></div><div class=\"lev3 toc-item\"><a href=\"#Testando-nossa-implementação\" data-toc-modified-id=\"Testando-nossa-implementação-142\"><span class=\"toc-item-num\">1.4.2&nbsp;&nbsp;</span>Testando nossa implementação</a></div><div class=\"lev3 toc-item\"><a href=\"#Keras\" data-toc-modified-id=\"Keras-143\"><span class=\"toc-item-num\">1.4.3&nbsp;&nbsp;</span>Keras</a></div>"
   ]
  },
  {
   "cell_type": "markdown",
   "metadata": {
    "deletable": true,
    "editable": true
   },
   "source": [
    "# Redes Neurais\n",
    "## Preâmbulo"
   ]
  },
  {
   "cell_type": "code",
   "execution_count": 26,
   "metadata": {
    "collapsed": false,
    "deletable": true,
    "editable": true
   },
   "outputs": [],
   "source": [
    "%matplotlib inline\n",
    "import matplotlib.pyplot as plot\n",
    "# To support both python 2 and python 3\n",
    "from __future__ import division, print_function, unicode_literals\n",
    "from IPython.display import display\n",
    "\n",
    "import time\n",
    "import numpy as np\n",
    "import numpy.random as nr\n",
    "import pandas as pd\n",
    "import tensorflow as tf\n",
    "\n",
    "from keras.models import Sequential\n",
    "from keras.layers.core import Dense, Flatten, Dropout\n",
    "from keras.optimizers import SGD\n",
    "from keras.callbacks import EarlyStopping, TensorBoard\n",
    "from keras.utils import np_utils\n",
    "\n",
    "np.set_printoptions(precision=2, linewidth=100, suppress=True)"
   ]
  },
  {
   "cell_type": "markdown",
   "metadata": {
    "deletable": true,
    "editable": true
   },
   "source": [
    "## Arquitetura\n",
    "\n",
    "<table align='left'>\n",
    "<tr><td colspan=2> <img src=\"https://docs.google.com/drawings/d/1958hSDd7WX_ijgL9E-SMR3sgzLvBpmvD8AyEtwaxio8/pub?w=960&h=720\" alt=\"Drawing\" style=\"width: 960px;\"/> </td></tr>\n",
    "</table>"
   ]
  },
  {
   "cell_type": "markdown",
   "metadata": {
    "deletable": true,
    "editable": true
   },
   "source": [
    "### Propagação para frente\n",
    "<table align='left'>\n",
    "<tr><td colspan=2> <img src=\"https://docs.google.com/drawings/d/10dhKHBLoALtQVCsq2dtzma01I0shyZsCT9pRd-adtSw/pub?w=960&h=720\" alt=\"Drawing\" style=\"width: 960px;\"/> </td></tr>\n",
    "</table>"
   ]
  },
  {
   "cell_type": "markdown",
   "metadata": {
    "deletable": true,
    "editable": true
   },
   "source": [
    "\\begin{align} \n",
    "\\mathbf{a}_{(i)} & = \\begin{cases}\n",
    "\\mathbf{x}  & \\text{ if } i = 0 \\\\\n",
    "\\\\\n",
    "g(\\mathbf{W}_{(i-1)} \\cdot \\mathbf{a}_{(i-1)}) & \\text{ if } 1 \\leq i \\leq L  \\text{ where } g(\\mathbf{z}) = \\frac{1}{1+e^{-\\mathbf{z}}} \\\\\n",
    "\\end{cases}\n",
    "\\\\\n",
    "\\mathbf{\\hat{y}} & = \\mathbf{a}_{L}\n",
    "\\\\\n",
    "J & = - \\sum \\left (\\mathbf{y} \\log{(\\mathbf{\\hat{y}})} + (1 - \\mathbf{y}) \\log{(1 - \\mathbf{\\hat{y}})} \\right )\n",
    "\\end{align}\n"
   ]
  },
  {
   "cell_type": "markdown",
   "metadata": {
    "deletable": true,
    "editable": true
   },
   "source": [
    "### Propagação para trás\n",
    "<table align='left'>\n",
    "<tr><td colspan=2> <img src=\"https://docs.google.com/drawings/d/1FkEaZpPSUFVybgeyrW-mBIzGQCvKEapjXIgts_rC3GE/pub?w=960&h=720\" alt=\"Drawing\" style=\"width: 960px;\"/> </td></tr>\n",
    "</table>"
   ]
  },
  {
   "cell_type": "markdown",
   "metadata": {
    "deletable": true,
    "editable": true
   },
   "source": [
    "\\begin{align} \n",
    "\\boldsymbol{\\delta}_{(i)} & = \\begin{cases}\n",
    "\\mathbf{a}_{(i)} - \\mathbf{y} & \\text{ if } i = L \\\\\n",
    "\\\\\n",
    "\\mathbf{W}_{(i+1)}^T \\cdot \\boldsymbol{\\delta}_{(i+1)} \\circ \\mathbf{a}_{(i)} (1 - \\mathbf{a}_{(i)}) & \\text{ if } 1 \\leq i \\leq L-1 \n",
    "\\end{cases}\n",
    "\\\\\n",
    "\\mathbf{\\nabla}_{(i)} & = \\boldsymbol{\\delta}_{(i+1)} \\cdot \\mathbf{a}_{(i)}^{T}\n",
    "\\\\\n",
    "\\mathbf{W}_{(i)} & = \\mathbf{W}_{(i)} - \\eta \\mathbf{\\nabla}_{(i)}\n",
    "\\end{align}"
   ]
  },
  {
   "cell_type": "markdown",
   "metadata": {
    "deletable": true,
    "editable": true
   },
   "source": [
    "## Implementação matricial"
   ]
  },
  {
   "cell_type": "markdown",
   "metadata": {
    "deletable": true,
    "editable": true
   },
   "source": [
    "### Vetorização do algoritmo\n",
    "\n",
    "<table align='left'>\n",
    "<tr>\n",
    "<td colspan=2> \n",
    "<b>Forward</b>\n",
    "<img src=\"https://docs.google.com/drawings/d/1gtCx1mmtt3pwlJwZaWOGW_OQ8sBttftRwH9uVmNPHaY/pub?w=960&h=720\" alt=\"Drawing\" style=\"width: 960px;\"/> \n",
    "</td>\n",
    "\n",
    "<td colspan=2> \n",
    "<b>Backward</b>\n",
    "<img src=\"https://docs.google.com/drawings/d/1C3HOnRX9bSnsvHlyWJo9pEirXE_4ms8RJWtaqMYGpQw/pub?w=960&h=720\" alt=\"Drawing\" style=\"width: 960px;\"/> \n",
    "</td>\n",
    "\n",
    "</tr>\n",
    "</table>\n"
   ]
  },
  {
   "cell_type": "markdown",
   "metadata": {
    "deletable": true,
    "editable": true
   },
   "source": [
    "### O código"
   ]
  },
  {
   "cell_type": "code",
   "execution_count": 40,
   "metadata": {
    "collapsed": false,
    "deletable": true,
    "editable": true
   },
   "outputs": [],
   "source": [
    "class BackPropNeuralNetwork:\n",
    "    \n",
    "    def __init__(self, layer_sizes=[], is_classifier=True):\n",
    "        self.L = len(layer_sizes)\n",
    "        self.s = layer_sizes\n",
    "        self.W = None\n",
    "        self.classifier = is_classifier\n",
    "        self.costs = []\n",
    "\n",
    "    def init_weights(self, epsilon=None):\n",
    "        from numpy.random import rand\n",
    "        self.W = []\n",
    "        for i in range(self.L-1):\n",
    "            if epsilon == 0:\n",
    "                self.W.append(np.zeros((self.s[i+1], self.s[i]+1), np.float))\n",
    "            else:\n",
    "                # Glorot Uniform or uniform with epsilon\n",
    "                eps = epsilon or np.sqrt(6.0 / (self.s[i] + self.s[i+1]))\n",
    "                self.W.append(2*eps*rand(self.s[i+1], self.s[i]+1) - eps)\n",
    "            \n",
    "    def predict(self, X):\n",
    "        a = self.compute_activations(self.W, X)\n",
    "        return a[-1]\n",
    "    \n",
    "    def evaluate(self, X, y):\n",
    "        a = self.compute_activations(self.W, X)\n",
    "        cost = self.compute_cost(a[-1], y)\n",
    "        return cost\n",
    "    \n",
    "    def compute_cost_and_gradient(self, W, X, y):\n",
    "        M, N  = X.shape\n",
    "        G = [None for n in self.s[:-1]]\n",
    "        # Forward propagation\n",
    "        a = self.compute_activations(W, X)\n",
    "        # Cost computation\n",
    "        J = self.compute_cost(a[-1], y)\n",
    "        # Back propagation\n",
    "        d = self.compute_errors(W, a, y)\n",
    "        # Gradients computation\n",
    "        for j in range(self.L-1):\n",
    "            G[j] = np.dot(d[j+1].T, a[j]) / M                  # eq. 5\n",
    "        return J, G\n",
    "\n",
    "    def compute_cost(self, y_pred, y_true):\n",
    "        if self.classifier:\n",
    "            # classifier: binary cross-entropy                 # eq. 3\n",
    "            J = - (y_true * np.log(y_pred) + (1 - y_true) * np.log(1 - y_pred)).sum() / y_true.shape[0]\n",
    "        else:\n",
    "            # regressor: mean squared error\n",
    "            J = 0.5 * np.square(y_pred - y_true).sum() / y_true.shape[0]\n",
    "        return J\n",
    "    \n",
    "    def compute_activations(self, W, X):\n",
    "        a = [None for n in self.s]\n",
    "        a[0] = X                                               # eq. 1\n",
    "        for j in range(1, self.L):\n",
    "            a[j-1] = np.insert(a[j-1], 0, 1, 1)\n",
    "            z = np.dot(a[j-1], W[j-1].T)                       # eq. 1\n",
    "            if j == self.L-1 and not self.classifier:\n",
    "                a[j] = z\n",
    "            else:\n",
    "                a[j] = self._logistic(z)                       # eq. 1\n",
    "        return a            \n",
    "\n",
    "    def compute_errors(self, W, a, y):\n",
    "        d = [None for n in self.s]\n",
    "        d[-1] = a[-1] - y                                      # eq. 4\n",
    "        for j in range(self.L-2, 0, -1):\n",
    "            d[j] = np.dot(d[j+1], W[j]) * a[j] * (1 - a[j])    # eq. 4\n",
    "            d[j] = d[j][:,1:]\n",
    "        return d\n",
    "\n",
    "    def sgd(self, X, y, eta, batch, n_epochs, Xval=None, yval=None, verbose=0):\n",
    "        m, n = X.shape\n",
    "        n_batches = int(np.ceil(m / batch))\n",
    "        for epoch in range(n_epochs):\n",
    "            for ii in range(n_batches):\n",
    "                kk = batch * ii\n",
    "                X_batch, y_batch = X[kk:kk+batch], y[kk:kk+batch]\n",
    "                \n",
    "                cost, G = self.compute_cost_and_gradient(self.W, X, y)\n",
    "                for i in range(len(self.W)):\n",
    "                    self.W[i] -= eta * G[i]\n",
    "                                \n",
    "            if Xval is not None:\n",
    "                cost_val = self.evaluate(Xval, yval)\n",
    "                self.costs.append((epoch, cost, cost_val))\n",
    "                if (verbose > 0) and (not epoch % verbose):\n",
    "                    print(('{:4d} Training Cost: {:.5f}    Validation Cost: {:.5f}'.format(epoch, cost, cost_val)))\n",
    "            else:\n",
    "                self.costs.append((epoch, cost, 0))\n",
    "                if (verbose > 0) and (not epoch % verbose):\n",
    "                    print(('{:4d} Training Cost: {:.5f}'.format(epoch, cost)))\n",
    "\n",
    "        return self.costs\n",
    "\n",
    "    @staticmethod\n",
    "    def _logistic(z):\n",
    "        z = np.asarray(z)\n",
    "        z = np.minimum(z,  15)\n",
    "        z = np.maximum(z, -15)\n",
    "        return np.ones(z.shape)/(1.0 + np.exp(-z))\n"
   ]
  },
  {
   "cell_type": "markdown",
   "metadata": {
    "deletable": true,
    "editable": true
   },
   "source": [
    "### Verificando o cálculo do gradiente\n",
    "\n",
    "Para fazer uma verificação numérica da correção de nossa implementação concatenamos cada matriz $W^{(L)}$ de forma a criar um vetor $\\theta$ que contenha todos os pesos (e bias) de nossa rede neural.\n",
    "\n",
    "Para calcular o gradiente, para cada elemento do vetor $\\theta$ fazemos\n",
    "\n",
    "\n",
    "$$\n",
    "\\theta^{(i+)} = \\theta + \\begin{bmatrix}\n",
    "0 \\\\\n",
    "0\\\\ \n",
    "\\vdots \\\\ \n",
    "\\epsilon \\\\ \n",
    "\\vdots \\\\ \n",
    "0\n",
    "\\end{bmatrix} \\; \\; \\; \\; \\; \\; \\text{ e }  \\; \\; \\; \\theta^{(i-)} = \\theta - \\begin{bmatrix}\n",
    "0 \\\\\n",
    "0\\\\ \n",
    "\\vdots \\\\ \n",
    "\\epsilon \\\\ \n",
    "\\vdots \\\\ \n",
    "0\n",
    "\\end{bmatrix}\n",
    "$$\n",
    "\n",
    "Uma aproximação para o gradiente é dada por:\n",
    "\n",
    "$$\n",
    "\\frac{\\partial }{\\partial \\theta_i} J(\\theta) \\approx \\frac{J(\\theta^{(i+)}) - J(\\theta^{(i-)})}{2 \\epsilon}\n",
    "$$"
   ]
  },
  {
   "cell_type": "code",
   "execution_count": 42,
   "metadata": {
    "collapsed": false,
    "deletable": true,
    "editable": true
   },
   "outputs": [
    {
     "name": "stdout",
     "output_type": "stream",
     "text": [
      "Classificador: OK\n",
      "Regressor:     OK\n"
     ]
    }
   ],
   "source": [
    "def compute_approx_gradient(nnet, W, X, y, eps=0.0001):\n",
    "    def roll(thetas, W=W):\n",
    "        Theta, m = [], 0\n",
    "        for h, w in [t.shape for t in W]:\n",
    "            Theta.append(thetas[m:m + h*w].reshape((h,w)))\n",
    "            m += h*w\n",
    "        return Theta\n",
    "    \n",
    "    thetas = np.concatenate([t.flat for t in W])\n",
    "    agrads = np.zeros_like(thetas)\n",
    "    for i in range(thetas.shape[0]):\n",
    "        t_plus = thetas.copy()\n",
    "        t_plus[i] += eps            \n",
    "        a_plus = nnet.compute_activations(roll(t_plus), X)\n",
    "        J_plus = nnet.compute_cost(a_plus[-1], y)\n",
    "\n",
    "        t_minus = thetas.copy()\n",
    "        t_minus[i] -= eps\n",
    "        a_minus = nnet.compute_activations(roll(t_minus), X)\n",
    "        J_minus = nnet.compute_cost(a_minus[-1], y)\n",
    "\n",
    "        agrads[i] = (J_plus - J_minus) / (2*eps)\n",
    "\n",
    "    return agrads\n",
    "\n",
    "def gradient_check(classif):\n",
    "    nn = BackPropNeuralNetwork([4, 5, 3], is_classifier=classif)\n",
    "    nn.init_weights()\n",
    "    \n",
    "    X = np.sin(np.arange(32)).reshape((8, 4)) / 10\n",
    "    y = np.zeros((8, 3))\n",
    "    for i, k in enumerate(np.mod(np.arange(8), 3)):\n",
    "        y[i,k] = 1.0\n",
    "    \n",
    "    agrad = compute_approx_gradient(nn, nn.W, X, y)\n",
    "    J, G = nn.compute_cost_and_gradient(nn.W, X, y)\n",
    "    grad = np.concatenate([t.flat for t in G])\n",
    "    return np.allclose(agrad, grad)\n",
    "\n",
    "print('Classificador:', ['Error', 'OK'][gradient_check(True)])\n",
    "print('Regressor:    ', ['Error', 'OK'][gradient_check(True)])"
   ]
  },
  {
   "cell_type": "markdown",
   "metadata": {
    "deletable": true,
    "editable": true
   },
   "source": [
    "## Testes"
   ]
  },
  {
   "cell_type": "markdown",
   "metadata": {
    "deletable": true,
    "editable": true
   },
   "source": [
    "### Dataset"
   ]
  },
  {
   "cell_type": "code",
   "execution_count": 29,
   "metadata": {
    "collapsed": false,
    "deletable": true,
    "editable": true
   },
   "outputs": [
    {
     "data": {
      "text/html": [
       "<div>\n",
       "<table border=\"1\" class=\"dataframe\">\n",
       "  <thead>\n",
       "    <tr style=\"text-align: right;\">\n",
       "      <th></th>\n",
       "      <th>0</th>\n",
       "      <th>1</th>\n",
       "      <th>2</th>\n",
       "      <th>3</th>\n",
       "      <th>4</th>\n",
       "      <th>5</th>\n",
       "      <th>6</th>\n",
       "      <th>7</th>\n",
       "      <th>8</th>\n",
       "      <th>9</th>\n",
       "      <th>10</th>\n",
       "      <th>11</th>\n",
       "      <th>12</th>\n",
       "    </tr>\n",
       "  </thead>\n",
       "  <tbody>\n",
       "    <tr>\n",
       "      <th>0</th>\n",
       "      <td>1.23247</td>\n",
       "      <td>0.0</td>\n",
       "      <td>8.14</td>\n",
       "      <td>0.0</td>\n",
       "      <td>0.538</td>\n",
       "      <td>6.142</td>\n",
       "      <td>91.7</td>\n",
       "      <td>3.9769</td>\n",
       "      <td>4.0</td>\n",
       "      <td>307.0</td>\n",
       "      <td>21.0</td>\n",
       "      <td>396.90</td>\n",
       "      <td>18.72</td>\n",
       "    </tr>\n",
       "    <tr>\n",
       "      <th>1</th>\n",
       "      <td>0.02177</td>\n",
       "      <td>82.5</td>\n",
       "      <td>2.03</td>\n",
       "      <td>0.0</td>\n",
       "      <td>0.415</td>\n",
       "      <td>7.610</td>\n",
       "      <td>15.7</td>\n",
       "      <td>6.2700</td>\n",
       "      <td>2.0</td>\n",
       "      <td>348.0</td>\n",
       "      <td>14.7</td>\n",
       "      <td>395.38</td>\n",
       "      <td>3.11</td>\n",
       "    </tr>\n",
       "    <tr>\n",
       "      <th>2</th>\n",
       "      <td>4.89822</td>\n",
       "      <td>0.0</td>\n",
       "      <td>18.10</td>\n",
       "      <td>0.0</td>\n",
       "      <td>0.631</td>\n",
       "      <td>4.970</td>\n",
       "      <td>100.0</td>\n",
       "      <td>1.3325</td>\n",
       "      <td>24.0</td>\n",
       "      <td>666.0</td>\n",
       "      <td>20.2</td>\n",
       "      <td>375.52</td>\n",
       "      <td>3.26</td>\n",
       "    </tr>\n",
       "    <tr>\n",
       "      <th>3</th>\n",
       "      <td>0.03961</td>\n",
       "      <td>0.0</td>\n",
       "      <td>5.19</td>\n",
       "      <td>0.0</td>\n",
       "      <td>0.515</td>\n",
       "      <td>6.037</td>\n",
       "      <td>34.5</td>\n",
       "      <td>5.9853</td>\n",
       "      <td>5.0</td>\n",
       "      <td>224.0</td>\n",
       "      <td>20.2</td>\n",
       "      <td>396.90</td>\n",
       "      <td>8.01</td>\n",
       "    </tr>\n",
       "    <tr>\n",
       "      <th>4</th>\n",
       "      <td>3.69311</td>\n",
       "      <td>0.0</td>\n",
       "      <td>18.10</td>\n",
       "      <td>0.0</td>\n",
       "      <td>0.713</td>\n",
       "      <td>6.376</td>\n",
       "      <td>88.4</td>\n",
       "      <td>2.5671</td>\n",
       "      <td>24.0</td>\n",
       "      <td>666.0</td>\n",
       "      <td>20.2</td>\n",
       "      <td>391.43</td>\n",
       "      <td>14.65</td>\n",
       "    </tr>\n",
       "  </tbody>\n",
       "</table>\n",
       "</div>"
      ],
      "text/plain": [
       "        0     1      2    3      4      5      6       7     8      9     10  \\\n",
       "0  1.23247   0.0   8.14  0.0  0.538  6.142   91.7  3.9769   4.0  307.0  21.0   \n",
       "1  0.02177  82.5   2.03  0.0  0.415  7.610   15.7  6.2700   2.0  348.0  14.7   \n",
       "2  4.89822   0.0  18.10  0.0  0.631  4.970  100.0  1.3325  24.0  666.0  20.2   \n",
       "3  0.03961   0.0   5.19  0.0  0.515  6.037   34.5  5.9853   5.0  224.0  20.2   \n",
       "4  3.69311   0.0  18.10  0.0  0.713  6.376   88.4  2.5671  24.0  666.0  20.2   \n",
       "\n",
       "       11     12  \n",
       "0  396.90  18.72  \n",
       "1  395.38   3.11  \n",
       "2  375.52   3.26  \n",
       "3  396.90   8.01  \n",
       "4  391.43  14.65  "
      ]
     },
     "metadata": {},
     "output_type": "display_data"
    },
    {
     "data": {
      "text/html": [
       "<div>\n",
       "<table border=\"1\" class=\"dataframe\">\n",
       "  <thead>\n",
       "    <tr style=\"text-align: right;\">\n",
       "      <th></th>\n",
       "      <th>0</th>\n",
       "    </tr>\n",
       "  </thead>\n",
       "  <tbody>\n",
       "    <tr>\n",
       "      <th>0</th>\n",
       "      <td>18.72</td>\n",
       "    </tr>\n",
       "    <tr>\n",
       "      <th>1</th>\n",
       "      <td>3.11</td>\n",
       "    </tr>\n",
       "    <tr>\n",
       "      <th>2</th>\n",
       "      <td>3.26</td>\n",
       "    </tr>\n",
       "    <tr>\n",
       "      <th>3</th>\n",
       "      <td>8.01</td>\n",
       "    </tr>\n",
       "    <tr>\n",
       "      <th>4</th>\n",
       "      <td>14.65</td>\n",
       "    </tr>\n",
       "  </tbody>\n",
       "</table>\n",
       "</div>"
      ],
      "text/plain": [
       "       0\n",
       "0  18.72\n",
       "1   3.11\n",
       "2   3.26\n",
       "3   8.01\n",
       "4  14.65"
      ]
     },
     "metadata": {},
     "output_type": "display_data"
    }
   ],
   "source": [
    "# -----------------------------------------------------------------------------------------------------------\n",
    "# Boston Housing Data Set\n",
    "# -----------------------\n",
    "# [https://archive.ics.uci.edu/ml/machine-learning-databases/housing/housing.names\n",
    "#\n",
    "# 1. Title: Boston Housing Data\n",
    "# \n",
    "# 2. Sources:\n",
    "#    (a) Origin:  This dataset was taken from the StatLib library which is\n",
    "#                 maintained at Carnegie Mellon University.\n",
    "#    (b) Creator:  Harrison, D. and Rubinfeld, D.L. 'Hedonic prices and the \n",
    "#                  demand for clean air', J. Environ. Economics & Management,\n",
    "#                  vol.5, 81-102, 1978.\n",
    "#    (c) Date: July 7, 1993\n",
    "# \n",
    "# 3. Past Usage:\n",
    "#    -   Used in Belsley, Kuh & Welsch, 'Regression diagnostics ...', Wiley, \n",
    "#        1980.   N.B. Various transformations are used in the table on\n",
    "#        pages 244-261.\n",
    "#     -  Quinlan,R. (1993). Combining Instance-Based and Model-Based Learning.\n",
    "#        In Proceedings on the Tenth International Conference of Machine \n",
    "#        Learning, 236-243, University of Massachusetts, Amherst. Morgan\n",
    "#        Kaufmann.\n",
    "# \n",
    "# 4. Relevant Information:\n",
    "# \n",
    "#    Concerns housing values in suburbs of Boston.\n",
    "# \n",
    "# 5. Number of Instances: 506\n",
    "# \n",
    "# 6. Number of Attributes: 13 continuous attributes (including \"class\"\n",
    "#                          attribute \"MEDV\"), 1 binary-valued attribute.\n",
    "# \n",
    "# 7. Attribute Information:\n",
    "# \n",
    "#     1. CRIM      per capita crime rate by town\n",
    "#     2. ZN        proportion of residential land zoned for lots over \n",
    "#                  25,000 sq.ft.\n",
    "#     3. INDUS     proportion of non-retail business acres per town\n",
    "#     4. CHAS      Charles River dummy variable (= 1 if tract bounds \n",
    "#                  river; 0 otherwise)\n",
    "#     5. NOX       nitric oxides concentration (parts per 10 million)\n",
    "#     6. RM        average number of rooms per dwelling\n",
    "#     7. AGE       proportion of owner-occupied units built prior to 1940\n",
    "#     8. DIS       weighted distances to five Boston employment centres\n",
    "#     9. RAD       index of accessibility to radial highways\n",
    "#     10. TAX      full-value property-tax rate per $10,000\n",
    "#     11. PTRATIO  pupil-teacher ratio by town\n",
    "#     12. B        1000(Bk - 0.63)^2 where Bk is the proportion of blacks by town\n",
    "#     13. LSTAT    % lower status of the population\n",
    "#\n",
    "#     14. MEDV     Median value of owner-occupied homes in $1000's\n",
    "# \n",
    "# 8. Missing Attribute Values:  None.\n",
    "# -----------------------------------------------------------------------------------------------------------\n",
    "from keras.datasets import boston_housing\n",
    "(Xtra, ytra), (Xval, yval) = boston_housing.load_data()\n",
    "\n",
    "Xpd, ypd = pd.DataFrame(Xtra), pd.DataFrame(ytra)\n",
    "display(Xpd.head())\n",
    "display(ypd.head())"
   ]
  },
  {
   "cell_type": "code",
   "execution_count": 30,
   "metadata": {
    "collapsed": false,
    "deletable": true,
    "editable": true
   },
   "outputs": [
    {
     "name": "stdout",
     "output_type": "stream",
     "text": [
      "[ 18.72   3.11   3.26   8.01  14.65] float64\n",
      "[ 18.72   3.11   3.26   8.01  14.65] float64\n"
     ]
    }
   ],
   "source": [
    "print(Xtra[:5,-1], Xtra.dtype)\n",
    "print(ytra[:5], ytra.dtype)"
   ]
  },
  {
   "cell_type": "code",
   "execution_count": 31,
   "metadata": {
    "collapsed": false,
    "deletable": true,
    "editable": true
   },
   "outputs": [
    {
     "name": "stdout",
     "output_type": "stream",
     "text": [
      "Shapes: (404, 12) (102, 12) float32 (404, 1) (102, 1)\n",
      "Data: min=-3.817, mean=-0.000, max=9.235, std=1.000\n",
      "Target: min=1.730, mean=12.741, max=37.970, std=7.246\n"
     ]
    }
   ],
   "source": [
    "Xtra, Xval = Xtra[:,:-1].astype(np.float32), Xval[:,:-1].astype(np.float32)\n",
    "ytra, yval = ytra.reshape(-1, 1).astype(np.float32), yval.reshape(-1, 1).astype(np.float32)\n",
    "\n",
    "mean = Xtra.mean(0)\n",
    "Xtra -= mean\n",
    "std = Xtra.std(0)\n",
    "Xtra /= std\n",
    "\n",
    "Xval -= mean\n",
    "Xval /= std\n",
    "\n",
    "m, n = Xtra.shape\n",
    "print('Shapes:', Xtra.shape, Xval.shape, Xtra.dtype, ytra.shape, yval.shape)\n",
    "print('Data: min={:.3f}, mean={:.3f}, max={:.3f}, std={:.3f}'.format(Xtra.min(), Xtra.mean(), Xtra.max(), Xtra.std()))\n",
    "print('Target: min={:.3f}, mean={:.3f}, max={:.3f}, std={:.3f}'.format(ytra.min(), ytra.mean(), ytra.max(), ytra.std()))\n"
   ]
  },
  {
   "cell_type": "markdown",
   "metadata": {
    "deletable": true,
    "editable": true
   },
   "source": [
    "\\begin{align*} \n",
    "\\mathbf{X}_{train} & = \\begin{bmatrix}\n",
    "\\longleftarrow & (\\mathbf{x}^{(0)})^T & \\longrightarrow \\\\ \n",
    "\\longleftarrow & (\\mathbf{x}^{(1)})^T & \\longrightarrow \\\\ \n",
    "  & \\vdots  & \\\\ \n",
    "\\longleftarrow & (\\mathbf{x}^{(m-1)})^T & \\longrightarrow \n",
    "\\end{bmatrix} = \\begin{bmatrix}\n",
    "x_0^{(0)} & x_1^{(0)} & x_2^{(0)} & \\ldots & x_{12}^{(0)} \\\\\n",
    "x_0^{(1)} & x_1^{(1)} & x_2^{(1)} & \\ldots & x_{12}^{(1)} \\\\\n",
    " &  & \\vdots  & \\\\ \n",
    "x_0^{(403)} & x_1^{(403)} & x_2^{(403)} & \\ldots & x_{12}^{(403)}\n",
    "\\end{bmatrix} \\\\\n",
    "\\\\\n",
    "\\mathbf{y}_{train} & = \\begin{bmatrix}\n",
    "y^{(0)} \\\\\n",
    "y^{(1)} \\\\\n",
    "\\vdots  \\\\ \n",
    "y^{(403)} \\\\\n",
    "\\end{bmatrix}\n",
    "\\end{align*}\n"
   ]
  },
  {
   "cell_type": "markdown",
   "metadata": {
    "deletable": true,
    "editable": true
   },
   "source": [
    "### Testando nossa implementação"
   ]
  },
  {
   "cell_type": "code",
   "execution_count": 32,
   "metadata": {
    "collapsed": false,
    "deletable": true,
    "editable": true,
    "scrolled": false
   },
   "outputs": [
    {
     "name": "stdout",
     "output_type": "stream",
     "text": [
      "------------------------------------------------------------\n",
      "Tuneable parameters: 1361\n",
      "------------------------------------------------------------\n",
      "   0 Training Cost: 107.41328    Validation Cost: 58.17717\n",
      " 100 Training Cost: 12.37980    Validation Cost: 10.13185\n",
      " 200 Training Cost: 9.74884    Validation Cost: 6.88184\n",
      " 300 Training Cost: 8.76111    Validation Cost: 5.50112\n",
      " 400 Training Cost: 8.61781    Validation Cost: 5.20915\n",
      " 500 Training Cost: 8.55849    Validation Cost: 5.09967\n",
      " 600 Training Cost: 8.51982    Validation Cost: 5.06126\n",
      " 700 Training Cost: 8.49130    Validation Cost: 5.05456\n",
      " 800 Training Cost: 8.46936    Validation Cost: 5.06054\n",
      " 900 Training Cost: 8.45230    Validation Cost: 5.07075\n",
      "\n",
      "Trained in 2.300952s\n",
      "\n",
      "MSE: 10.1634749283\n",
      "\n",
      "y_hat [ 22.59  15.4   10.25  14.07  10.19   9.71   5.04   9.29  17.3   11.48]\n",
      "y_val [ 29.05  16.21   9.74   5.5    8.44  13.59   4.61   7.51  17.93  14.36]\n",
      "\n"
     ]
    }
   ],
   "source": [
    "layer_sizes = [n, 40, 20, 1]\n",
    "n_epochs = 1000\n",
    "\n",
    "nnet = BackPropNeuralNetwork(layer_sizes, is_classifier=False)\n",
    "nnet.init_weights(epsilon=0)\n",
    "\n",
    "print('-'*60)\n",
    "print('Tuneable parameters: {}'.format(sum([w.size for w in nnet.W])))\n",
    "print('-'*60)\n",
    "\n",
    "try:\n",
    "    t1 = t0 = time.time()\n",
    "    costs = nnet.sgd(Xtra, ytra, 0.05, 404, n_epochs, Xval=Xval, yval=yval, verbose=n_epochs/10)\n",
    "    t1 = time.time()\n",
    "except KeyboardInterrupt:\n",
    "    pass\n",
    "\n",
    "print('\\nTrained in {:2f}s'.format(t1-t0))\n",
    "yhat = nnet.predict(Xval)\n",
    "mse = np.square(yhat - yval).mean()\n",
    "print('\\nMSE:', mse)\n",
    "print()\n",
    "print('y_hat', yhat[:10,0])\n",
    "print('y_val', yval[:10,0])\n",
    "print()\n"
   ]
  },
  {
   "cell_type": "code",
   "execution_count": 33,
   "metadata": {
    "collapsed": false,
    "deletable": true,
    "editable": true
   },
   "outputs": [
    {
     "data": {
      "image/png": "[encoded data removed]",
      "text/plain": [
       "<matplotlib.figure.Figure at 0x7f44847acbe0>"
      ]
     },
     "metadata": {},
     "output_type": "display_data"
    }
   ],
   "source": [
    "plot.plot([c1 for i, c1, c2 in costs], label='train')\n",
    "plot.plot([c2 for i, c1, c2 in costs], label='validation')\n",
    "plot.ylim(0, 50.)\n",
    "plot.legend()\n",
    "plot.title('Mean Squared Error');\n"
   ]
  },
  {
   "cell_type": "markdown",
   "metadata": {
    "deletable": true,
    "editable": true
   },
   "source": [
    "### Keras"
   ]
  },
  {
   "cell_type": "code",
   "execution_count": 38,
   "metadata": {
    "collapsed": false,
    "deletable": true,
    "editable": true,
    "scrolled": false
   },
   "outputs": [
    {
     "name": "stdout",
     "output_type": "stream",
     "text": [
      "_________________________________________________________________\n",
      "Layer (type)                 Output Shape              Param #   \n",
      "=================================================================\n",
      "dense_10 (Dense)             (None, 40)                520       \n",
      "_________________________________________________________________\n",
      "dense_11 (Dense)             (None, 20)                820       \n",
      "_________________________________________________________________\n",
      "dense_12 (Dense)             (None, 1)                 21        \n",
      "=================================================================\n",
      "Total params: 1,361\n",
      "Trainable params: 1,361\n",
      "Non-trainable params: 0\n",
      "_________________________________________________________________\n",
      "Epoch 00273: early stopping\n",
      "\n",
      "Trained in 1.346914s\n",
      "\n",
      "MSE: 10.1243\n",
      "\n",
      "y_hat [ 22.25  15.08   9.95  13.71   9.78   9.36   5.06   8.85  17.04  11.25]\n",
      "y_val [ 29.05  16.21   9.74   5.5    8.44  13.59   4.61   7.51  17.93  14.36]\n",
      "\n"
     ]
    }
   ],
   "source": [
    "estop = EarlyStopping(patience=200, verbose=1)\n",
    "\n",
    "def build():  \n",
    "    model = Sequential()\n",
    "    model.add(Dense(layer_sizes[1], activation='sigmoid', input_dim=layer_sizes[0], kernel_initializer='zeros'))\n",
    "    model.add(Dense(layer_sizes[2], activation='sigmoid', kernel_initializer='zeros'))\n",
    "    model.add(Dense(layer_sizes[3], activation='linear', kernel_initializer='zeros'))\n",
    "    return model\n",
    "\n",
    "nnet = build()\n",
    "nnet.summary()\n",
    "\n",
    "opt = SGD(lr=0.1)\n",
    "nnet.compile(loss=\"mse\", optimizer=opt, metrics=['mae'])\n",
    "\n",
    "try:\n",
    "    t0 = time.time()\n",
    "    histo2 = nnet.fit(Xtra, ytra, batch_size=404, epochs=n_epochs, verbose=0, shuffle=False,\n",
    "                      validation_data=(Xval, yval), callbacks=[estop])\n",
    "    t1 = time.time()\n",
    "except KeyboardInterrupt:\n",
    "    pass\n",
    "\n",
    "print('\\nTrained in {:2f}s'.format(t1-t0))\n",
    "print()\n",
    "yhat = nnet.predict(Xval, verbose=0)\n",
    "mse = np.square(yhat - yval).mean()\n",
    "print('MSE:', mse)\n",
    "print()\n",
    "print('y_hat', yhat[:10,0])\n",
    "print('y_val', yval[:10,0])\n",
    "print()\n"
   ]
  },
  {
   "cell_type": "code",
   "execution_count": 35,
   "metadata": {
    "collapsed": false,
    "deletable": true,
    "editable": true
   },
   "outputs": [
    {
     "data": {
      "image/png": "[encoded data removed]",
      "text/plain": [
       "<matplotlib.figure.Figure at 0x7f4484865b00>"
      ]
     },
     "metadata": {},
     "output_type": "display_data"
    }
   ],
   "source": [
    "fig = plot.figure(figsize=(15,4))\n",
    "\n",
    "fig.add_subplot(121)\n",
    "plot.plot(histo2.history['loss'], label='train')\n",
    "plot.plot(histo2.history['val_loss'], label='validation')\n",
    "plot.ylim(0, 50)\n",
    "plot.legend()\n",
    "plot.title('Mean Squared Error');\n",
    "\n",
    "fig.add_subplot(122)\n",
    "plot.plot(histo2.history['mean_absolute_error'], label='train')\n",
    "plot.plot(histo2.history['val_mean_absolute_error'], label='validation')\n",
    "plot.ylim(0, 15)\n",
    "plot.legend()\n",
    "plot.title('Mean Absolute Error');\n"
   ]
  },
  {
   "cell_type": "code",
   "execution_count": 36,
   "metadata": {
    "collapsed": false,
    "deletable": true,
    "editable": true
   },
   "outputs": [
    {
     "name": "stdout",
     "output_type": "stream",
     "text": [
      "[10.138143539428711, 10.11146354675293, 10.142606735229492, 10.115581512451172, 10.147483825683594]\n",
      "[10.162589027223806, 10.162810591986698, 10.163032097814861, 10.163253543608894, 10.16347492828387]\n"
     ]
    }
   ],
   "source": [
    "print(histo2.history['val_loss'][-5:])\n",
    "print([2*c2 for i, c1, c2 in costs][-5:])"
   ]
  },
  {
   "cell_type": "code",
   "execution_count": null,
   "metadata": {
    "collapsed": false,
    "deletable": true,
    "editable": true
   },
   "outputs": [],
   "source": []
  }
 ],
 "metadata": {
  "kernelspec": {
   "display_name": "Python 3",
   "language": "python",
   "name": "python3"
  },
  "language_info": {
   "codemirror_mode": {
    "name": "ipython",
    "version": 3
   },
   "file_extension": ".py",
   "mimetype": "text/x-python",
   "name": "python",
   "nbconvert_exporter": "python",
   "pygments_lexer": "ipython3",
   "version": "3.4.3"
  },
  "latex_envs": {
   "LaTeX_envs_menu_present": true,
   "autocomplete": true,
   "bibliofile": "biblio.bib",
   "cite_by": "apalike",
   "current_citInitial": 1,
   "eqLabelWithNumbers": true,
   "eqNumInitial": 1,
   "hotkeys": {
    "equation": "Ctrl-E",
    "itemize": "Ctrl-I"
   },
   "labels_anchors": false,
   "latex_user_defs": false,
   "report_style_numbering": false,
   "user_envs_cfg": false
  },
  "toc": {
   "colors": {
    "hover_highlight": "#DAA520",
    "running_highlight": "#FF0000",
    "selected_highlight": "#FFD700"
   },
   "moveMenuLeft": true,
   "nav_menu": {
    "height": "12px",
    "width": "252px"
   },
   "navigate_menu": true,
   "number_sections": true,
   "sideBar": true,
   "threshold": 4,
   "toc_cell": true,
   "toc_position": {
    "height": "697px",
    "left": "0px",
    "right": "1189px",
    "top": "106px",
    "width": "251px"
   },
   "toc_section_display": "block",
   "toc_window_display": false,
   "widenNotebook": false
  }
 },
 "nbformat": 4,
 "nbformat_minor": 2
}
