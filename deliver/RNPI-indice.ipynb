{
 "cells": [
  {
   "cell_type": "markdown",
   "metadata": {},
   "source": [
    "# FEE 0156 - Prática de Redes Neurais Profundas para Análise de Imagens\n",
    "\n",
    "Professores: *Roberto Lotufo, Rubens Machado, Letícia Rittner*\n",
    "\n",
    "Auxiliares: *Roberto M Souza, Oeslle Lucena*\n",
    "\n",
    "![capa](../ffigures/curso-Deep-Learning-Processamento-Imagens-Unicamp.png)\n",
    "\n",
    "## Conteúdo\n",
    "\n",
    "### I - Introdução ao curso\n",
    "\n",
    "    1. Conteúdo e formato do curso \n",
    "    2. Introdução a Aprendizagem de Máquina, Redes Neurais Profundas e Redes Convolucionais\n",
    "    3. Ferramentas e Ambiente de trabalho durante o curso\n",
    "\n",
    "### II - Introdução a redes neurais\n",
    "\n",
    " * NB: [*Regressão Linear*]() Precisa ser feito\n",
    " * NB: [*Regressão Logística*]() Precisa ser feito\n",
    " * NB: [Regressão Logística Multiclasse Softmax - Iris 2D - Programação matricial](Regressao-Logistica-Softmax-Iris-2D-matricial.ipynb)\n",
    " * NB: [Regressão Logística Multiclasse Softmax - Iris 2D - usando o Keras](Regressao-Logistica-Softmax-Iris-2D-Keras.ipynb)\n",
    " * NB: [Regressão Logística Multiclasse Softmax - NMIST - Programação Matricial](Regressao-Logistica-Softmax-NMIST-matricial.ipynb)\n",
    " * NB: [Regressão Logística Multiclasse Softmax - NMIST - usando o Keras](Regressao-Logistica-Softmax-NMIST-Keras.ipynb)\n",
    " * NB: [Rede Neural 2 camadas - Iris - usando Keras](Duas-Camadas-Densas-reLU-Softmax-Iris-Keras.ipynb)\n",
    " * NB: [*Ajuste curvas: Overfitting - Underfitting*](../dev/2017-02-08-RMS-Polynomial-Curve-Fitting.ipynb)\n",
    " \n",
    "### III - Redes neurais profundas - redes convolucionais\n",
    "\n",
    " * NB: [Convolução](Explorando-Convolucao-no-Keras-usando-Theano.ipynb)\n",
    "\n",
    "### IV - Aplicações\n",
    "\n",
    "\n",
    "## Documentação\n",
    "\n",
    "- [Jupyter Notebook](http://jupyter-notebook.readthedocs.io/en/latest/notebook.html)\n",
    "\n"
   ]
  },
  {
   "cell_type": "code",
   "execution_count": null,
   "metadata": {
    "collapsed": true
   },
   "outputs": [],
   "source": [
    "../figures/"
   ]
  }
 ],
 "metadata": {
  "kernelspec": {
   "display_name": "Python [Root]",
   "language": "python",
   "name": "Python [Root]"
  },
  "language_info": {
   "codemirror_mode": {
    "name": "ipython",
    "version": 2
   },
   "file_extension": ".py",
   "mimetype": "text/x-python",
   "name": "python",
   "nbconvert_exporter": "python",
   "pygments_lexer": "ipython2",
   "version": "2.7.12"
  }
 },
 "nbformat": 4,
 "nbformat_minor": 0
}
