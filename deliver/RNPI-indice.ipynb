{
 "cells": [
  {
   "cell_type": "markdown",
   "metadata": {},
   "source": [
    "# FEE 0156 - Prática de Redes Neurais Profundas para Análise de Imagens\n",
    "\n",
    "Professores: *Roberto Lotufo, Rubens Machado, Letícia Rittner*\n",
    "\n",
    "Auxiliares: *Roberto M Souza, Oeslle Lucena*\n",
    "\n",
    "![capa](../ffigures/curso-Deep-Learning-Processamento-Imagens-Unicamp.png)\n",
    "\n",
    "## Conteúdo\n",
    "\n",
    "### I - Introdução ao curso\n",
    "\n",
    "1. Conteúdo e formato do curso \n",
    "2. Introdução a Aprendizagem de Máquina, Redes Neurais Profundas e Redes Convolucionais\n",
    "3. Ferramentas e Ambiente de trabalho durante o curso\n",
    "    - Conceitos novos: acesso ao Jupyter AWS; Usando o Jupyter; Programando Python/Numpy\n",
    "    * NB:[*Acessando o Jupyter da AWS*]() Precisa ser feito\n",
    "    * NB:[*Python e Numpy*]() Precisa ser feito\n",
    "    \n",
    "\n",
    "### II - Introdução a redes neurais\n",
    "\n",
    "- Conceitos novos:\n",
    "- Teoria: Otimização Mínimos Quadrados usando gradiente descendente\n",
    "- Prática: Programação matricial Y = XW + B; Laço de gradiente descendente; Plotando gráficos; visualizando animação da otimização na função custo e no ajuste reta\n",
    "    * NB: [*Regressão Linear*]() Precisa ser feito\n",
    "\n",
    "- Conceitos novos:\n",
    "- Teoria: Classificação binária; mesmo modelo anterior de otimização, função Sigmóide\n",
    "- Prática: visualização animação otimização espaço de parâmetros e espaço de atributos\n",
    "    * NB: [*Regressão Logística*]() Precisa ser feito\n",
    "\n",
    "- Conceitos novos:\n",
    "- Teoria: Classificação multiclasse com Softmax; mesmo modelo anterior de otimização\n",
    "    * NB: [Regressão Logística Multiclasse Softmax - Iris 2D - Programação matricial](Regressao-Logistica-Softmax-Iris-2D-matricial.ipynb)\n",
    "\n",
    "- Conceitos novos:\n",
    "- Prática: Introdução inicial do Keras, mostrando que executa o mesmo exemplo anterior; criando a rede, definindo otimizador\n",
    "    * NB: [Regressão Logística Multiclasse Softmax - Iris 2D - usando o Keras](Regressao-Logistica-Softmax-Iris-2D-Keras.ipynb)\n",
    "    \n",
    "- Conceitos novos:\n",
    "- Prática: dataset NMIST, Visualização dos pesos na forma de template; não é possível mais visualizar espaço de atributos nem espaço de parâmetros. Visualiza-se a queda da função de perda\n",
    " * NB: [Regressão Logística Multiclasse Softmax - NMIST - Programação Matricial](Regressao-Logistica-Softmax-NMIST-matricial.ipynb)\n",
    " \n",
    "- Conceitos novos:\n",
    "- Prática: extraindo os pesos aprendidos da rede no Keras\n",
    " * NB: [Regressão Logística Multiclasse Softmax - NMIST - usando o Keras](Regressao-Logistica-Softmax-NMIST-Keras.ipynb)\n",
    " \n",
    "- Conceitos novos:\n",
    "- Teoria: concatenação de camadas com elemento não linear reLU; retropropagação;\n",
    "- Prática: Dificuldade de otimização, falta de atributos\n",
    " * NB: [Rede Neural 2 camadas com reLU - Iris - usando Keras](Duas-Camadas-Densas-reLU-Softmax-Iris-Keras.ipynb)\n",
    " \n",
    "- Conceitos novos:\n",
    "- Teoria: Conceito de overfitting e underfitting, conceito de regularização, função de custo\n",
    "- Prática: Explorando parâmetros de ajustes e parâmetros de regularização\n",
    " * NB: [*Ajuste curvas: Overfitting - Underfitting*](../dev/2017-02-08-RMS-Polynomial-Curve-Fitting.ipynb)\n",
    " \n",
    "### III - Redes neurais profundas - redes convolucionais\n",
    "\n",
    " * NB: [Convolução](Explorando-Convolucao-no-Keras-usando-Theano.ipynb)\n",
    "\n",
    "### IV - Aplicações\n",
    "\n",
    "\n",
    "## Documentação\n",
    "\n",
    "- [Jupyter Notebook](http://jupyter-notebook.readthedocs.io/en/latest/notebook.html)\n",
    "\n"
   ]
  },
  {
   "cell_type": "code",
   "execution_count": null,
   "metadata": {
    "collapsed": true
   },
   "outputs": [],
   "source": [
    "../figures/"
   ]
  }
 ],
 "metadata": {
  "kernelspec": {
   "display_name": "Python [Root]",
   "language": "python",
   "name": "Python [Root]"
  },
  "language_info": {
   "codemirror_mode": {
    "name": "ipython",
    "version": 2
   },
   "file_extension": ".py",
   "mimetype": "text/x-python",
   "name": "python",
   "nbconvert_exporter": "python",
   "pygments_lexer": "ipython2",
   "version": "2.7.12"
  }
 },
 "nbformat": 4,
 "nbformat_minor": 0
}
