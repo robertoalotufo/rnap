{
 "cells": [
  {
   "cell_type": "markdown",
   "metadata": {
    "deletable": true,
    "editable": true
   },
   "source": [
    "# Introdução ao Deep Learning"
   ]
  },
  {
   "cell_type": "markdown",
   "metadata": {
    "deletable": true,
    "editable": true
   },
   "source": [
    "<img src=\"../figures/capa-minicurso-SEE2017DL.png\",width=600pt>"
   ]
  },
  {
   "cell_type": "markdown",
   "metadata": {
    "deletable": true,
    "editable": true
   },
   "source": [
    "# I - Introdução ao curso"
   ]
  },
  {
   "cell_type": "markdown",
   "metadata": {
    "ExecuteTime": {
     "end_time": "2017-08-01T00:05:40.495065",
     "start_time": "2017-08-01T00:05:40.485396"
    },
    "deletable": true,
    "editable": true
   },
   "source": [
    "1. Conteúdo e formato do curso \n",
    "2. Introdução a Aprendizagem de Máquina, Redes Neurais Profundas e Redes Convolucionais\n",
    "3. Ferramentas e Ambiente de trabalho durante o curso\n",
    "    - Jupyter, Git, Python, NumPy\n",
    "    * NB:[Instalação dos Pré-requisitos](Instalacao_pre_requisitos.ipynb)\n",
    "    * NB:[Testando a Instalação](Testando_Instalacao.ipynb)\n",
    "    * NB:[Git e Github](Git-basico-Git-Classroom.ipynb)\n",
    "    * NB:[Python](tutorial-python.ipynb)\n",
    "    * NB:[NumPy](tutorial-numpy.ipynb)\n",
    "    * NB:[NumPy - reshape, redução de eixo e broadcast](numpy-reshape-broadcast-reducao.ipynb)\n",
    "    * Toolbox ia898: [Tutoriais Jupyter/Python/NumPy/Proc. Imagens](../../ia898/master/0_index.ipynb)\n",
    "    \n",
    "4. [Glossário](Glossario.ipynb)"
   ]
  },
  {
   "cell_type": "markdown",
   "metadata": {
    "deletable": true,
    "editable": true
   },
   "source": [
    "# II - Introdução a redes neurais"
   ]
  },
  {
   "cell_type": "markdown",
   "metadata": {
    "deletable": true,
    "editable": true
   },
   "source": [
    "## Regressão Linear"
   ]
  },
  {
   "cell_type": "markdown",
   "metadata": {
    "deletable": true,
    "editable": true
   },
   "source": [
    "### Regressão Linear - codificação matricial NumPy - codificação Keras"
   ]
  },
  {
   "cell_type": "markdown",
   "metadata": {
    "deletable": true,
    "editable": true
   },
   "source": [
    "- Conceitos novos:\n",
    "- Teoria: Otimização Mínimos Quadrados usando gradiente descendente, notação matemática\n",
    "- Prática: Programação matricial; Laço de gradiente descendente; Plotando gráficos; visualizando animação da otimização na função custo e no ajuste reta\n",
    "    * NB: [Regressão Linear](Regressao-Linear.ipynb) "
   ]
  },
  {
   "cell_type": "markdown",
   "metadata": {
    "deletable": true,
    "editable": true
   },
   "source": [
    "## Regressão Logística - Classificação"
   ]
  },
  {
   "cell_type": "markdown",
   "metadata": {
    "deletable": true,
    "editable": true
   },
   "source": [
    "### Regressão Logística multiclasse - Iris - implementação matricial"
   ]
  },
  {
   "cell_type": "markdown",
   "metadata": {},
   "source": [
    "- Conceitos novos: \n",
    "- Teoria: Classificação multiclasse com Softmax; Custo entropia cruzada; one-hot-encoding; mesmo modelo anterior de otimização\n",
    "    * NB: [Regressão Logística Multiclasse Softmax - Iris 2D - Programação matricial](Regressao-Logistica-Softmax-Iris-2D-matricial.ipynb)"
   ]
  },
  {
   "cell_type": "markdown",
   "metadata": {
    "deletable": true,
    "editable": true
   },
   "source": [
    "### Regressão Logística multiclasse - Iris - implementação no Keras"
   ]
  },
  {
   "cell_type": "markdown",
   "metadata": {},
   "source": [
    "- Conceitos novos:\n",
    "- Prática: Introdução inicial do Keras, mostrando que executa o mesmo exemplo anterior; criando a rede, definindo otimizador\n",
    " * NB: [Regressão Logística Multiclasse Softmax - Iris 2D - usando o Keras - Fronteira dinâmica](Regressao-Logistica-Softmax-Iris-2D-Keras-Fronteira-Dinamica.ipynb)"
   ]
  },
  {
   "cell_type": "markdown",
   "metadata": {
    "deletable": true,
    "editable": true
   },
   "source": [
    "### Regressão Logística multiclasse - dataset NMIST - implementação matricial"
   ]
  },
  {
   "cell_type": "markdown",
   "metadata": {
    "deletable": true,
    "editable": true
   },
   "source": [
    "- Conceitos novos:\n",
    "- Prática: dataset NMIST, Visualização dos pesos na forma de template; não é possível mais visualizar espaço de atributos nem espaço de parâmetros. Visualiza-se a queda da função de perda\n",
    " * NB: [Regressão Logística Multiclasse Softmax - MNIST - Programação Matricial](Regressao-Logistica-Softmax-MNIST-matricial.ipynb)"
   ]
  },
  {
   "cell_type": "markdown",
   "metadata": {
    "deletable": true,
    "editable": true
   },
   "source": [
    "## Ativações"
   ]
  },
  {
   "cell_type": "markdown",
   "metadata": {
    "deletable": true,
    "editable": true
   },
   "source": [
    "- Conceitos novos: \n",
    "- Teoria: introdução aos novos tipos de ativações não lineares\n",
    "- Prática: programa que implementa a equação de diversas ativações\n",
    " * NB: [Ativações](Activations.ipynb)"
   ]
  },
  {
   "cell_type": "markdown",
   "metadata": {
    "deletable": true,
    "editable": true
   },
   "source": [
    "## Rede Neural"
   ]
  },
  {
   "cell_type": "markdown",
   "metadata": {
    "deletable": true,
    "editable": true
   },
   "source": [
    "### Rede Neural - Iris dataset - implementação no Keras"
   ]
  },
  {
   "cell_type": "markdown",
   "metadata": {
    "deletable": true,
    "editable": true
   },
   "source": [
    "- Conceitos novos:\n",
    "- Teoria: concatenação de camadas com elemento não linear reLU; retropropagação;\n",
    "- Prática: Dificuldade de otimização, falta de atributos\n",
    " * NB: [Rede Neural 2 camadas com reLU - Iris - usando Keras](Densas-2.ipynb)"
   ]
  },
  {
   "cell_type": "markdown",
   "metadata": {
    "deletable": true,
    "editable": true
   },
   "source": [
    "### Rede Neural - implementação básica MNIST"
   ]
  },
  {
   "cell_type": "markdown",
   "metadata": {
    "deletable": true,
    "editable": true
   },
   "source": [
    "- Conceitos novos:\n",
    "- Prática: implementação básica de uma rede neural clássica no Keras\n",
    " * NB: [Rede neural classica Keras MNIST](neural-net-mnist.ipynb)"
   ]
  },
  {
   "cell_type": "markdown",
   "metadata": {
    "deletable": true,
    "editable": true
   },
   "source": [
    "## Seleção de modelo - escolha de hyperparâmetros"
   ]
  },
  {
   "cell_type": "markdown",
   "metadata": {
    "ExecuteTime": {
     "end_time": "2017-04-21T00:46:59.730628",
     "start_time": "2017-04-21T00:46:59.710761"
    },
    "deletable": true,
    "editable": true
   },
   "source": [
    "- Conceitos novos:\n",
    "- Teoria: Processo de seleção de modelo, busca de hyperparâmetros\n",
    "- Prática: Divisão do conjunto de dados: treino, validação e testes.\n",
    "- seleção de modelo, busca por ajuste de hyperparâmetros\n",
    " * NB: [Seleção de modelo](model_selection.ipynb)\n"
   ]
  },
  {
   "cell_type": "markdown",
   "metadata": {
    "deletable": true,
    "editable": true
   },
   "source": [
    "# III - Redes neurais profundas - redes convolucionais"
   ]
  },
  {
   "cell_type": "markdown",
   "metadata": {
    "deletable": true,
    "editable": true
   },
   "source": [
    "## Introdução"
   ]
  },
  {
   "cell_type": "markdown",
   "metadata": {
    "deletable": true,
    "editable": true
   },
   "source": [
    "### Convolução Keras/TensorFlow"
   ]
  },
  {
   "cell_type": "markdown",
   "metadata": {
    "deletable": true,
    "editable": true
   },
   "source": [
    "- Conceitos novos:\n",
    "- Teoria: Convolução, processamento borda, zero-padding, dimensionalidade dos arrays\n",
    "- Prática: rede convolucional no Keras, variação de número de imagens, kernels e filtros de saída\n",
    " * NB: [Convolução](Explorando-Convolucao-no-Keras-usando-TensorFlow.ipynb)"
   ]
  },
  {
   "cell_type": "markdown",
   "metadata": {
    "deletable": true,
    "editable": true
   },
   "source": [
    "### Introdução ao Keras"
   ]
  },
  {
   "cell_type": "markdown",
   "metadata": {
    "deletable": true,
    "editable": true
   },
   "source": [
    "- Conceitos novos:\n",
    "- Prática: Keras, criando o modelo, colocando pesos, retirando pesos e retirando camadas\n",
    " * NB: [Introdução ao Keras](Introducao-CNN-Keras.ipynb)"
   ]
  },
  {
   "cell_type": "markdown",
   "metadata": {
    "deletable": true,
    "editable": true
   },
   "source": [
    "## Rede Convolucional - Exemplos simples"
   ]
  },
  {
   "cell_type": "markdown",
   "metadata": {
    "deletable": true,
    "editable": true
   },
   "source": [
    "### Rede Convolucional - Visualização camadas internas - CIFAR-10"
   ]
  },
  {
   "cell_type": "markdown",
   "metadata": {
    "deletable": true,
    "editable": true
   },
   "source": [
    "- Conceitos novos:\n",
    "- Teoria: visualização das camadas internas\n",
    "- Prática: Keras - criando a rede, treinando e avaliando\n",
    " * NB: [CIFAR-10 e rede convolucional no Keras](cifar10-CNN-features.ipynb)"
   ]
  },
  {
   "cell_type": "markdown",
   "metadata": {
    "deletable": true,
    "editable": true
   },
   "source": [
    "### Rede Convolucional - MNIST reduzido"
   ]
  },
  {
   "cell_type": "markdown",
   "metadata": {
    "deletable": true,
    "editable": true
   },
   "source": [
    "- Conceitos novos:\n",
    "- Teoria: Rede convolucional LeNet\n",
    " * NB: [KerasLenetMNIST](keras-lenet-mnist.ipynb)"
   ]
  },
  {
   "cell_type": "markdown",
   "metadata": {
    "deletable": true,
    "editable": true
   },
   "source": [
    "## Rede Convolucional - Exemplos com redes prontas Image-Net"
   ]
  },
  {
   "cell_type": "markdown",
   "metadata": {
    "deletable": true,
    "editable": true
   },
   "source": [
    "### Redes ganhadoras da Image-Net"
   ]
  },
  {
   "cell_type": "markdown",
   "metadata": {
    "ExecuteTime": {
     "end_time": "2017-05-29T20:22:37.811363",
     "start_time": "2017-05-29T20:22:37.802959"
    },
    "deletable": true,
    "editable": true
   },
   "source": [
    "- [Models_VGG19](Models_VGG19.ipynb)"
   ]
  },
  {
   "cell_type": "markdown",
   "metadata": {
    "deletable": true,
    "editable": true
   },
   "source": [
    "## Otimizadores do Gradiente Descendente"
   ]
  },
  {
   "cell_type": "markdown",
   "metadata": {
    "deletable": true,
    "editable": true
   },
   "source": [
    "- Conceitos novos: \n",
    "- Teoria: Diversos otimizadores: SGD com momento, SGD com momento Nesterov, SGD com queda de fator de aprendizagem, RMSprop, Adadelta, Adam\n",
    "- Prática: Observação do desempenho de diversos otimizadores\n",
    " * NB: [Otimizadores](Keras-optimizers.ipynb)"
   ]
  },
  {
   "cell_type": "markdown",
   "metadata": {
    "deletable": true,
    "editable": true
   },
   "source": [
    "## Autocodificador Convolucional - Filtrando Ruído"
   ]
  },
  {
   "cell_type": "markdown",
   "metadata": {
    "deletable": true,
    "editable": true
   },
   "source": [
    "- Conceitos novos:\n",
    "- Teoria: autoencoders, autoencoders convolucionais\n",
    "- Prática: treinando autoencoders\n",
    "- NB:[Filtrando Ruido com Autoencoder](FiltrandoRuidoAutoencoder.ipynb)"
   ]
  },
  {
   "cell_type": "markdown",
   "metadata": {
    "deletable": true,
    "editable": true
   },
   "source": [
    "## Transferência de Conhecimento -  Aprendizado com poucos dados"
   ]
  },
  {
   "cell_type": "markdown",
   "metadata": {
    "deletable": true,
    "editable": true
   },
   "source": [
    "### Rede VGG-16 treinamento do zero - Aumento de Dados"
   ]
  },
  {
   "cell_type": "markdown",
   "metadata": {
    "deletable": true,
    "editable": true
   },
   "source": [
    "- Conceitos novos:\n",
    "- Teoria: Aprendizado com poucos dados, data augmentation, treina do zero 80%\n",
    " * NB: [Aprendizado com poucos dados I](cats-and-dogs-1.ipynb)"
   ]
  },
  {
   "cell_type": "markdown",
   "metadata": {
    "deletable": true,
    "editable": true
   },
   "source": [
    "### Rede VGG-16 já treinada - Extratora de atributos"
   ]
  },
  {
   "cell_type": "markdown",
   "metadata": {
    "deletable": true,
    "editable": true
   },
   "source": [
    " - trasfer learning off-the-shelf feature extraction com VGG aprendida 90%\n",
    " * NB: [Aprendizado com poucos dados II](cats-and-dogs-2.ipynb)"
   ]
  },
  {
   "cell_type": "markdown",
   "metadata": {
    "deletable": true,
    "editable": true
   },
   "source": [
    "### Rede VGG-16 - Sintonia Fina"
   ]
  },
  {
   "cell_type": "markdown",
   "metadata": {
    "deletable": true,
    "editable": true
   },
   "source": [
    " - transfer learning,fine tuning,\n",
    " * NB: [Aprendizado com poucos dados III](cats-and-dogs-3.ipynb)\n",
    " \n",
    " * NB: [Exercício Transf. Conhecimento](Exercicio_Transf_Conhecimento.ipynb.ipynb)\n",
    " "
   ]
  },
  {
   "cell_type": "markdown",
   "metadata": {
    "deletable": true,
    "editable": true
   },
   "source": [
    "# IV - Embeddings - Atributos latentes"
   ]
  },
  {
   "cell_type": "markdown",
   "metadata": {
    "deletable": true,
    "editable": true
   },
   "source": [
    "## Sistema de Recomendação - MovieLens"
   ]
  },
  {
   "cell_type": "markdown",
   "metadata": {
    "deletable": true,
    "editable": true
   },
   "source": [
    "###  MovieLens dataset - leitura, reindexação e visualização matriz de recomendação"
   ]
  },
  {
   "cell_type": "markdown",
   "metadata": {
    "deletable": true,
    "editable": true
   },
   "source": [
    "- Conceitos novos: Matriz de recomendação, Sistema de recomendação\n",
    "- Prática: Keras - leitura dataset, reindexação, visualização matriz de recomendação\n",
    " * NB: [MovieLens Dataset](MovieLens_dataset.ipynb)"
   ]
  },
  {
   "cell_type": "markdown",
   "metadata": {
    "deletable": true,
    "editable": true
   },
   "source": [
    "### Embedding - conceitos básicos e utilização no Keras"
   ]
  },
  {
   "cell_type": "markdown",
   "metadata": {
    "deletable": true,
    "editable": true
   },
   "source": [
    "- Conceitos novos: Embedding\n",
    "- Teoria: Embedding como forma eficiente de entrada categórica\n",
    "- Prática: Keras - usando o Embedding\n",
    "* NB: [Embedding - Introdução](embedding-basics.ipynb)"
   ]
  },
  {
   "cell_type": "markdown",
   "metadata": {
    "deletable": true,
    "editable": true
   },
   "source": [
    "### Sistema de Recomendação - MovieLens"
   ]
  },
  {
   "cell_type": "markdown",
   "metadata": {
    "deletable": true,
    "editable": true
   },
   "source": [
    "- Conceitos novos: Modelagem sistema de recomendação, atributo latente\n",
    " * NB: [Sistema de Recomendação](SistemaRecomendacao.ipynb)"
   ]
  },
  {
   "cell_type": "markdown",
   "metadata": {
    "deletable": true,
    "editable": true
   },
   "source": [
    "## Classificação de textos"
   ]
  },
  {
   "cell_type": "markdown",
   "metadata": {
    "deletable": true,
    "editable": true
   },
   "source": [
    "### Análise de Sentimento - IMDB"
   ]
  },
  {
   "cell_type": "markdown",
   "metadata": {
    "deletable": true,
    "editable": true
   },
   "source": [
    "\n",
    "- NB: [Análise de Sentimento](AnaliseSentimento_IMDB.ipynb)"
   ]
  },
  {
   "cell_type": "markdown",
   "metadata": {
    "deletable": true,
    "editable": true
   },
   "source": [
    "# V - Redes Neurais Recorrentes"
   ]
  },
  {
   "cell_type": "markdown",
   "metadata": {
    "deletable": true,
    "editable": true
   },
   "source": [
    "- Uso do SimpleRNN com exemplos numéricos\n",
    " * NB: [SimpleRNN_Numerical](SimpleRNN_Numerical.ipynb)"
   ]
  },
  {
   "cell_type": "markdown",
   "metadata": {
    "deletable": true,
    "editable": true
   },
   "source": [
    "- Uso de rede recorrente para classificação de dígitos manuscritos (MNIST)\n",
    "    * NB: [SimpleRNN_MNIST.ipynb](SimpleRNN_MNIST.ipynb)"
   ]
  },
  {
   "cell_type": "markdown",
   "metadata": {
    "deletable": true,
    "editable": true
   },
   "source": [
    "# Documentação"
   ]
  },
  {
   "cell_type": "markdown",
   "metadata": {
    "deletable": true,
    "editable": true
   },
   "source": [
    "- [Jupyter Notebook](http://jupyter-notebook.readthedocs.io/en/latest/notebook.html)\n",
    "- [NumPy](https://docs.scipy.org/doc/)\n",
    "- [Matplotlib](https://matplotlib.org/contents.html)\n",
    "- [Keras](https://keras.io/)"
   ]
  },
  {
   "cell_type": "markdown",
   "metadata": {
    "deletable": true,
    "editable": true
   },
   "source": [
    "# Copia"
   ]
  },
  {
   "cell_type": "code",
   "execution_count": 7,
   "metadata": {
    "collapsed": true,
    "deletable": true,
    "editable": true
   },
   "outputs": [],
   "source": [
    "import os\n",
    "os.makedirs('../../see2017dl/src', exist_ok=True)\n",
    "os.makedirs('../../see2017dl/deliver', exist_ok=True)\n",
    "os.makedirs('../../see2017dl/data', exist_ok=True)\n",
    "os.makedirs('../../see2017dl/figures', exist_ok=True)"
   ]
  },
  {
   "cell_type": "code",
   "execution_count": 1,
   "metadata": {
    "ExecuteTime": {
     "end_time": "2017-07-31T23:58:52.291974",
     "start_time": "2017-07-31T23:58:52.158744"
    },
    "collapsed": false,
    "deletable": true,
    "editable": true
   },
   "outputs": [],
   "source": [
    "%cp ../src/my_keras_utilities.py ../../see2017dl/src/"
   ]
  },
  {
   "cell_type": "code",
   "execution_count": 2,
   "metadata": {
    "ExecuteTime": {
     "end_time": "2017-07-31T23:59:01.525928",
     "start_time": "2017-07-31T23:59:00.909462"
    },
    "collapsed": true,
    "deletable": true,
    "editable": true
   },
   "outputs": [],
   "source": [
    "%cp Git-basico-Git-Classroom.ipynb ../../see2017dl/deliver/\n",
    "%cp tutorial-python.ipynb ../../see2017dl/deliver/\n",
    "%cp tutorial-numpy.ipynb ../../see2017dl/deliver/\n",
    "%cp numpy-reshape-broadcast-reducao.ipynb ../../see2017dl/deliver/\n",
    "%cp Glossario.ipynb ../../see2017dl/deliver/"
   ]
  },
  {
   "cell_type": "code",
   "execution_count": 3,
   "metadata": {
    "ExecuteTime": {
     "end_time": "2017-07-31T23:59:04.154111",
     "start_time": "2017-07-31T23:59:03.166227"
    },
    "collapsed": true,
    "deletable": true,
    "editable": true
   },
   "outputs": [],
   "source": [
    "%cp Regressao-Linear.ipynb ../../see2017dl/deliver/\n",
    "%cp Regressao-Logistica-Softmax-Iris-2D-matricial.ipynb ../../see2017dl/deliver/\n",
    "%cp Regressao-Logistica-Softmax-Iris-2D-Keras-Fronteira-Dinamica.ipynb ../../see2017dl/deliver/\n",
    "%cp Regressao-Logistica-Softmax-MNIST-matricial.ipynb ../../see2017dl/deliver/\n",
    "%cp Activations.ipynb ../../see2017dl/deliver/\n",
    "%cp Densas-2.ipynb ../../see2017dl/deliver/\n",
    "%cp neural-net-mnist.ipynb ../../see2017dl/deliver/\n",
    "%cp model_selection.ipynb ../../see2017dl/deliver/"
   ]
  },
  {
   "cell_type": "code",
   "execution_count": 4,
   "metadata": {
    "ExecuteTime": {
     "end_time": "2017-07-31T23:59:06.984879",
     "start_time": "2017-07-31T23:59:05.736102"
    },
    "collapsed": false,
    "deletable": true,
    "editable": true
   },
   "outputs": [],
   "source": [
    "%cp Explorando-Convolucao-no-Keras-usando-TensorFlow.ipynb ../../see2017dl/deliver/\n",
    "%cp Introducao-CNN-Keras.ipynb ../../see2017dl/deliver/\n",
    "%cp cifar10-CNN-features.ipynb ../../see2017dl/deliver/\n",
    "%cp keras-lenet-mnist.ipynb ../../see2017dl/deliver/\n",
    "%cp Models_VGG19.ipynb ../../see2017dl/deliver/\n",
    "%cp Keras-optimizers.ipynb ../../see2017dl/deliver/\n",
    "%cp FiltrandoRuidoAutoencoder.ipynb ../../see2017dl/deliver/\n",
    "%cp cats-and-dogs-1.ipynb ../../see2017dl/deliver/\n",
    "%cp cats-and-dogs-2.ipynb ../../see2017dl/deliver/\n",
    "%cp cats-and-dogs-3.ipynb ../../see2017dl/deliver/"
   ]
  },
  {
   "cell_type": "code",
   "execution_count": 5,
   "metadata": {
    "ExecuteTime": {
     "end_time": "2017-07-31T23:59:09.023054",
     "start_time": "2017-07-31T23:59:08.529675"
    },
    "collapsed": false,
    "deletable": true,
    "editable": true
   },
   "outputs": [],
   "source": [
    "%cp MovieLens_dataset.ipynb ../../see2017dl/deliver/\n",
    "%cp embedding-basics.ipynb ../../see2017dl/deliver/\n",
    "%cp SistemaRecomendacao.ipynb ../../see2017dl/deliver/\n",
    "%cp AnaliseSentimento_IMDB.ipynb ../../see2017dl/deliver/"
   ]
  },
  {
   "cell_type": "code",
   "execution_count": 6,
   "metadata": {
    "ExecuteTime": {
     "end_time": "2017-07-31T23:59:10.663354",
     "start_time": "2017-07-31T23:59:10.417715"
    },
    "collapsed": true,
    "deletable": true,
    "editable": true
   },
   "outputs": [],
   "source": [
    "%cp SimpleRNN_Numerical.ipynb ../../see2017dl/deliver/\n",
    "%cp SimpleRNN_MNIST.ipynb ../../see2017dl/deliver/"
   ]
  },
  {
   "cell_type": "code",
   "execution_count": 8,
   "metadata": {
    "ExecuteTime": {
     "end_time": "2017-08-01T00:06:25.783483",
     "start_time": "2017-08-01T00:06:25.653073"
    },
    "collapsed": false,
    "deletable": true,
    "editable": true
   },
   "outputs": [],
   "source": [
    "%cp 0_SEE2017DL-indice.ipynb ../../see2017dl/deliver/"
   ]
  },
  {
   "cell_type": "code",
   "execution_count": 1,
   "metadata": {
    "ExecuteTime": {
     "end_time": "2017-05-21T17:31:49.662874",
     "start_time": "2017-05-21T17:31:49.659962"
    },
    "collapsed": false,
    "deletable": true,
    "editable": true
   },
   "outputs": [],
   "source": [
    "# datasets: creditcard.csv, glove.6B.50d.txt, rossmann_train.csv, rossmann_store_states.csv"
   ]
  },
  {
   "cell_type": "code",
   "execution_count": null,
   "metadata": {
    "collapsed": true,
    "deletable": true,
    "editable": true
   },
   "outputs": [],
   "source": []
  }
 ],
 "metadata": {
  "anaconda-cloud": {},
  "kernelspec": {
   "display_name": "Python 3",
   "language": "python",
   "name": "python3"
  },
  "language_info": {
   "codemirror_mode": {
    "name": "ipython",
    "version": 3
   },
   "file_extension": ".py",
   "mimetype": "text/x-python",
   "name": "python",
   "nbconvert_exporter": "python",
   "pygments_lexer": "ipython3",
   "version": "3.6.0"
  },
  "toc": {
   "colors": {
    "hover_highlight": "#DAA520",
    "running_highlight": "#FF0000",
    "selected_highlight": "#FFD700"
   },
   "moveMenuLeft": true,
   "nav_menu": {
    "height": "512px",
    "width": "252px"
   },
   "navigate_menu": true,
   "number_sections": true,
   "sideBar": true,
   "threshold": 4,
   "toc_cell": false,
   "toc_section_display": "block",
   "toc_window_display": false,
   "widenNotebook": false
  }
 },
 "nbformat": 4,
 "nbformat_minor": 0
}
