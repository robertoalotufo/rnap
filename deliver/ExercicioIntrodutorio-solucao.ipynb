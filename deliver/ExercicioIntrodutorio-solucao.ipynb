{
 "cells": [
  {
   "cell_type": "markdown",
   "metadata": {},
   "source": [
    "# Deep Learning Course - Requisites Exercises"
   ]
  },
  {
   "cell_type": "markdown",
   "metadata": {},
   "source": [
    "This is a Jupyter Notebook containing exercises to test the requisites for the Deep Learning course."
   ]
  },
  {
   "cell_type": "markdown",
   "metadata": {},
   "source": [
    "### Python"
   ]
  },
  {
   "cell_type": "markdown",
   "metadata": {},
   "source": [
    "Use Python 3.6 while solving the exercises. We recommend [Anaconda](https://www.continuum.io/downloads) - a Data Science focused python distribution."
   ]
  },
  {
   "cell_type": "markdown",
   "metadata": {},
   "source": [
    "### Tools"
   ]
  },
  {
   "cell_type": "markdown",
   "metadata": {},
   "source": [
    "This is a Jupyter Notebook. If you never used one, a Jupyter notebook is a mix of Markdown (like a Wiki) and a Python program. It is very popular among people working with Data Science and Machine Learning in Python. If you need some help on how to use Jupyter Notebooks, please take a look at this [beginner-guide](https://jupyter-notebook-beginner-guide.readthedocs.io/en/latest/)."
   ]
  },
  {
   "cell_type": "markdown",
   "metadata": {},
   "source": [
    "You are free to add as many cells as you want to this notebook in order to make your work readable and well organized."
   ]
  },
  {
   "cell_type": "markdown",
   "metadata": {},
   "source": [
    "# Basic Exercises\n",
    "Let's begin! Start by printing your name and e-mail here:"
   ]
  },
  {
   "cell_type": "code",
   "execution_count": 1,
   "metadata": {
    "ExecuteTime": {
     "end_time": "2017-07-13T23:36:12.572938",
     "start_time": "2017-07-13T23:36:12.566230"
    },
    "collapsed": false
   },
   "outputs": [
    {
     "name": "stdout",
     "output_type": "stream",
     "text": [
      "My name is Solução\n",
      "My email is \n"
     ]
    }
   ],
   "source": [
    "# fill in your data\n",
    "print('My name is Solução')\n",
    "print('My email is ')"
   ]
  },
  {
   "cell_type": "markdown",
   "metadata": {},
   "source": [
    "## Lists"
   ]
  },
  {
   "cell_type": "markdown",
   "metadata": {
    "ExecuteTime": {
     "end_time": "2017-07-11T19:32:04.310368",
     "start_time": "2017-07-11T19:32:04.302283"
    }
   },
   "source": [
    "The following are list exercises. For those that do not have experience with Python, we recommend\n",
    "using these exercises do learn more about the subject related to the exercise."
   ]
  },
  {
   "cell_type": "code",
   "execution_count": 2,
   "metadata": {
    "ExecuteTime": {
     "end_time": "2017-07-13T23:36:15.016221",
     "start_time": "2017-07-13T23:36:15.012667"
    },
    "collapsed": true
   },
   "outputs": [],
   "source": [
    "mylist = [5, 8, 'abc', 0, 8.3]"
   ]
  },
  {
   "cell_type": "markdown",
   "metadata": {
    "ExecuteTime": {
     "end_time": "2017-07-11T19:20:42.951254",
     "start_time": "2017-07-11T19:20:42.947609"
    }
   },
   "source": [
    "### Print the number of elementos of the list `mylist`"
   ]
  },
  {
   "cell_type": "code",
   "execution_count": 3,
   "metadata": {
    "ExecuteTime": {
     "end_time": "2017-07-13T23:36:17.119669",
     "start_time": "2017-07-13T23:36:17.114155"
    },
    "collapsed": false
   },
   "outputs": [
    {
     "name": "stdout",
     "output_type": "stream",
     "text": [
      "5\n"
     ]
    }
   ],
   "source": [
    "print(len(mylist))"
   ]
  },
  {
   "cell_type": "markdown",
   "metadata": {},
   "source": [
    "### Create and print a list with all the even numbers between 0 and 10 inclusive"
   ]
  },
  {
   "cell_type": "code",
   "execution_count": 4,
   "metadata": {
    "ExecuteTime": {
     "end_time": "2017-07-13T23:36:22.743496",
     "start_time": "2017-07-13T23:36:22.737825"
    },
    "collapsed": false
   },
   "outputs": [
    {
     "name": "stdout",
     "output_type": "stream",
     "text": [
      "[0, 2, 4, 6, 8, 10]\n"
     ]
    }
   ],
   "source": [
    "# there are other solutions\n",
    "aa = [i for i in range(0,11,2)]\n",
    "print(aa)"
   ]
  },
  {
   "cell_type": "code",
   "execution_count": 5,
   "metadata": {
    "ExecuteTime": {
     "end_time": "2017-07-13T23:36:26.325730",
     "start_time": "2017-07-13T23:36:26.320692"
    },
    "collapsed": false
   },
   "outputs": [
    {
     "name": "stdout",
     "output_type": "stream",
     "text": [
      "[0, 1, 2, 3, 4, 5, 6, 7, 8, 9]\n"
     ]
    }
   ],
   "source": [
    "a = [i for i in range(10)]\n",
    "print(a)"
   ]
  },
  {
   "cell_type": "code",
   "execution_count": 6,
   "metadata": {
    "ExecuteTime": {
     "end_time": "2017-07-13T23:36:27.611970",
     "start_time": "2017-07-13T23:36:27.606974"
    },
    "collapsed": false
   },
   "outputs": [
    {
     "name": "stdout",
     "output_type": "stream",
     "text": [
      "[3, 4]\n"
     ]
    }
   ],
   "source": [
    "print(a[3:5])"
   ]
  },
  {
   "cell_type": "code",
   "execution_count": 7,
   "metadata": {
    "ExecuteTime": {
     "end_time": "2017-07-13T23:36:39.041665",
     "start_time": "2017-07-13T23:36:39.032534"
    },
    "collapsed": false
   },
   "outputs": [
    {
     "name": "stdout",
     "output_type": "stream",
     "text": [
      "[1, 3, 5, 7, 9]\n",
      "[0, 2, 4, 6, 8]\n",
      "[7, 8, 9]\n",
      "[0, 1, 2]\n"
     ]
    }
   ],
   "source": [
    "# print the odd elements:\n",
    "print(a[1::2])\n",
    "# print the even elements:\n",
    "print(a[::2])\n",
    "# print the last 3 elements of the list\n",
    "print(a[-3:])\n",
    "# print the first 3 elements of the list\n",
    "print(a[:3])"
   ]
  },
  {
   "cell_type": "code",
   "execution_count": 8,
   "metadata": {
    "ExecuteTime": {
     "end_time": "2017-07-13T23:36:48.093718",
     "start_time": "2017-07-13T23:36:48.087951"
    },
    "collapsed": false
   },
   "outputs": [
    {
     "name": "stdout",
     "output_type": "stream",
     "text": [
      "[9, 8, 7, 6, 5, 4, 3, 2, 1, 0]\n"
     ]
    }
   ],
   "source": [
    "print(a[::-1])"
   ]
  },
  {
   "cell_type": "code",
   "execution_count": 9,
   "metadata": {
    "ExecuteTime": {
     "end_time": "2017-07-13T23:36:54.875083",
     "start_time": "2017-07-13T23:36:54.870911"
    },
    "collapsed": false
   },
   "outputs": [
    {
     "name": "stdout",
     "output_type": "stream",
     "text": [
      "[9, 7, 5, 3, 1]\n"
     ]
    }
   ],
   "source": [
    "# print the odd elements, from the largest to the smallest\n",
    "print(a[::-2])"
   ]
  },
  {
   "cell_type": "markdown",
   "metadata": {},
   "source": [
    "## Tuples"
   ]
  },
  {
   "cell_type": "code",
   "execution_count": 10,
   "metadata": {
    "ExecuteTime": {
     "end_time": "2017-07-13T23:37:28.205982",
     "start_time": "2017-07-13T23:37:28.191415"
    },
    "collapsed": false
   },
   "outputs": [
    {
     "name": "stdout",
     "output_type": "stream",
     "text": [
      "(0, 1, 2, 3, 4, 5, 6, 7, 8, 9)\n"
     ]
    }
   ],
   "source": [
    "b = tuple(a)\n",
    "print(b)"
   ]
  },
  {
   "cell_type": "markdown",
   "metadata": {},
   "source": [
    "The main difference between a list and a tuple is imutable."
   ]
  },
  {
   "cell_type": "markdown",
   "metadata": {},
   "source": [
    "# Exercises with NumPy"
   ]
  },
  {
   "cell_type": "markdown",
   "metadata": {},
   "source": [
    "The following exercises should use only NumPy operations.\n",
    "Avoid import other packages"
   ]
  },
  {
   "cell_type": "code",
   "execution_count": 11,
   "metadata": {
    "ExecuteTime": {
     "end_time": "2017-07-13T23:37:34.701736",
     "start_time": "2017-07-13T23:37:34.238408"
    },
    "collapsed": true
   },
   "outputs": [],
   "source": [
    "import numpy as np"
   ]
  },
  {
   "cell_type": "code",
   "execution_count": 12,
   "metadata": {
    "ExecuteTime": {
     "end_time": "2017-07-13T23:37:35.417636",
     "start_time": "2017-07-13T23:37:35.406969"
    },
    "collapsed": false
   },
   "outputs": [
    {
     "name": "stdout",
     "output_type": "stream",
     "text": [
      "[[10 11 12 13 14 15]\n",
      " [16 17 18 19 20 21]\n",
      " [22 23 24 25 26 27]\n",
      " [28 29 30 31 32 33]]\n"
     ]
    }
   ],
   "source": [
    "A = np.arange(10,34).reshape(4,6)\n",
    "print(A)"
   ]
  },
  {
   "cell_type": "markdown",
   "metadata": {},
   "source": [
    "### rows, cols, dimensions, shape and datatype"
   ]
  },
  {
   "cell_type": "code",
   "execution_count": 13,
   "metadata": {
    "ExecuteTime": {
     "end_time": "2017-07-13T23:37:38.104273",
     "start_time": "2017-07-13T23:37:38.095948"
    },
    "collapsed": false
   },
   "outputs": [
    {
     "name": "stdout",
     "output_type": "stream",
     "text": [
      "4\n",
      "6\n",
      "2\n",
      "(4, 6)\n",
      "int64\n"
     ]
    }
   ],
   "source": [
    "# print the number of rows of A:\n",
    "print(A.shape[0])\n",
    "# print the number of cols of A:\n",
    "print(A.shape[1])\n",
    "# print the number of dimensions of A:\n",
    "print(A.ndim)\n",
    "# print the shape of A:\n",
    "print(A.shape)\n",
    "# print the datatype of the elements of A\n",
    "print(A.dtype)"
   ]
  },
  {
   "cell_type": "markdown",
   "metadata": {},
   "source": [
    "### Boolean array"
   ]
  },
  {
   "cell_type": "code",
   "execution_count": 14,
   "metadata": {
    "ExecuteTime": {
     "end_time": "2017-07-13T23:37:50.897264",
     "start_time": "2017-07-13T23:37:50.888162"
    },
    "collapsed": false
   },
   "outputs": [
    {
     "name": "stdout",
     "output_type": "stream",
     "text": [
      "[[False False False False False False]\n",
      " [False False False False False False]\n",
      " [False False False False False False]\n",
      " [False False False False False False]]\n"
     ]
    }
   ],
   "source": [
    "# create a boolean matrix B with True if the element of A é less than 8 (without using a loop)\n",
    "B = A < 8 # modify your code here\n",
    "print(B)"
   ]
  },
  {
   "cell_type": "markdown",
   "metadata": {},
   "source": [
    "### Axis reduction: sum"
   ]
  },
  {
   "cell_type": "code",
   "execution_count": 15,
   "metadata": {
    "ExecuteTime": {
     "end_time": "2017-07-13T23:37:54.795804",
     "start_time": "2017-07-13T23:37:54.787851"
    },
    "collapsed": false
   },
   "outputs": [
    {
     "name": "stdout",
     "output_type": "stream",
     "text": [
      "[76 80 84 88 92 96]\n"
     ]
    }
   ],
   "source": [
    "print(A.sum(axis=0))"
   ]
  },
  {
   "cell_type": "code",
   "execution_count": 16,
   "metadata": {
    "ExecuteTime": {
     "end_time": "2017-07-13T23:37:55.357905",
     "start_time": "2017-07-13T23:37:55.349496"
    },
    "collapsed": false
   },
   "outputs": [
    {
     "name": "stdout",
     "output_type": "stream",
     "text": [
      "1\n",
      "21.5\n"
     ]
    }
   ],
   "source": [
    "# what is the number of dimensions of the array C = A.sum(axis=0)?\n",
    "print(A.sum(axis=0).ndim)\n",
    "# compute the mean value of the array A\n",
    "print(A.mean())"
   ]
  },
  {
   "cell_type": "code",
   "execution_count": 17,
   "metadata": {
    "ExecuteTime": {
     "end_time": "2017-07-13T23:37:55.931824",
     "start_time": "2017-07-13T23:37:55.922648"
    },
    "collapsed": false
   },
   "outputs": [
    {
     "name": "stdout",
     "output_type": "stream",
     "text": [
      "[[ 0.          0.04347826  0.08695652  0.13043478  0.17391304  0.2173913 ]\n",
      " [ 0.26086957  0.30434783  0.34782609  0.39130435  0.43478261  0.47826087]\n",
      " [ 0.52173913  0.56521739  0.60869565  0.65217391  0.69565217  0.73913043]\n",
      " [ 0.7826087   0.82608696  0.86956522  0.91304348  0.95652174  1.        ]]\n"
     ]
    }
   ],
   "source": [
    "# create a matrix C that is a normalization of A, so that its value are between 0.0 and 1.0\n",
    "C = (A - A.min())/(A.max()-A.min())\n",
    "print(C)"
   ]
  },
  {
   "cell_type": "code",
   "execution_count": 18,
   "metadata": {
    "ExecuteTime": {
     "end_time": "2017-07-13T23:37:56.484396",
     "start_time": "2017-07-13T23:37:56.476150"
    },
    "collapsed": false
   },
   "outputs": [
    {
     "name": "stdout",
     "output_type": "stream",
     "text": [
      "[[ 0.          0.          0.          0.          0.          0.        ]\n",
      " [ 0.33333333  0.33333333  0.33333333  0.33333333  0.33333333  0.33333333]\n",
      " [ 0.66666667  0.66666667  0.66666667  0.66666667  0.66666667  0.66666667]\n",
      " [ 1.          1.          1.          1.          1.          1.        ]]\n"
     ]
    }
   ],
   "source": [
    "# create a matrix D that is a nomalization of the columns of A, so that each column of D has values between 0. and 1.\n",
    "D = (A - A.min(0))/(A.max(0)-A.min(0))\n",
    "print(D)"
   ]
  },
  {
   "cell_type": "markdown",
   "metadata": {},
   "source": [
    "### Slicing"
   ]
  },
  {
   "cell_type": "code",
   "execution_count": 19,
   "metadata": {
    "ExecuteTime": {
     "end_time": "2017-07-13T23:37:57.563348",
     "start_time": "2017-07-13T23:37:57.557148"
    },
    "collapsed": false
   },
   "outputs": [
    {
     "name": "stdout",
     "output_type": "stream",
     "text": [
      "[[11 13 15]\n",
      " [17 19 21]\n",
      " [23 25 27]\n",
      " [29 31 33]]\n"
     ]
    }
   ],
   "source": [
    "# this operation is called slicing:\n",
    "AA = A[:,1::2]\n",
    "print(AA)"
   ]
  },
  {
   "cell_type": "code",
   "execution_count": 20,
   "metadata": {
    "ExecuteTime": {
     "end_time": "2017-07-13T23:37:58.144864",
     "start_time": "2017-07-13T23:37:58.138301"
    },
    "collapsed": false
   },
   "outputs": [
    {
     "name": "stdout",
     "output_type": "stream",
     "text": [
      "[[10 11 12 13 14 15]\n",
      " [22 23 24 25 26 27]]\n"
     ]
    }
   ],
   "source": [
    "# create matrix AB with the even rows of matrix A, using the concept of slicing:\n",
    "AB = A[::2,:]\n",
    "print(AB)"
   ]
  },
  {
   "cell_type": "markdown",
   "metadata": {},
   "source": [
    "### Matrix dot product"
   ]
  },
  {
   "cell_type": "code",
   "execution_count": 21,
   "metadata": {
    "ExecuteTime": {
     "end_time": "2017-07-13T23:37:59.244622",
     "start_time": "2017-07-13T23:37:59.237658"
    },
    "collapsed": false
   },
   "outputs": [
    {
     "name": "stdout",
     "output_type": "stream",
     "text": [
      "[[28 22 16 10]\n",
      " [29 23 17 11]\n",
      " [30 24 18 12]\n",
      " [31 25 19 13]\n",
      " [32 26 20 14]\n",
      " [33 27 21 15]]\n"
     ]
    }
   ],
   "source": [
    "# create a matriz AC which is a rotation of 90 degrees clockwise of the matrix A\n",
    "AC = A[::-1,:].T\n",
    "print(AC)"
   ]
  },
  {
   "cell_type": "markdown",
   "metadata": {},
   "source": [
    "Compute $$ E = \\sqrt{ A A^T} $$"
   ]
  },
  {
   "cell_type": "code",
   "execution_count": 22,
   "metadata": {
    "ExecuteTime": {
     "end_time": "2017-07-13T23:38:00.547846",
     "start_time": "2017-07-13T23:38:00.539252"
    },
    "collapsed": false
   },
   "outputs": [
    {
     "name": "stdout",
     "output_type": "stream",
     "text": [
      "[[ 30.90307428  37.48332963  43.06971093  48.01041554]\n",
      " [ 37.48332963  45.50824101  52.31634544  58.33523806]\n",
      " [ 43.06971093  52.31634544  60.15812497  67.08949247]\n",
      " [ 48.01041554  58.33523806  67.08949247  74.82646591]]\n"
     ]
    }
   ],
   "source": [
    "E = np.sqrt(A.dot(A.T)) # modify your code here\n",
    "print(E)"
   ]
  },
  {
   "cell_type": "markdown",
   "metadata": {},
   "source": [
    "### 3-D array"
   ]
  },
  {
   "cell_type": "code",
   "execution_count": 23,
   "metadata": {
    "ExecuteTime": {
     "end_time": "2017-07-13T23:38:01.647123",
     "start_time": "2017-07-13T23:38:01.641109"
    },
    "collapsed": false
   },
   "outputs": [
    {
     "name": "stdout",
     "output_type": "stream",
     "text": [
      "[[[10 11 12 13]\n",
      "  [14 15 16 17]\n",
      "  [18 19 20 21]]\n",
      "\n",
      " [[22 23 24 25]\n",
      "  [26 27 28 29]\n",
      "  [30 31 32 33]]]\n"
     ]
    }
   ],
   "source": [
    "F = A.reshape(2,3,4)\n",
    "print(F)"
   ]
  },
  {
   "cell_type": "code",
   "execution_count": 24,
   "metadata": {
    "ExecuteTime": {
     "end_time": "2017-07-13T23:38:02.281815",
     "start_time": "2017-07-13T23:38:02.273235"
    },
    "collapsed": false
   },
   "outputs": [
    {
     "name": "stdout",
     "output_type": "stream",
     "text": [
      "3\n",
      "(2, 3, 4)\n",
      "[ 15.5  27.5]\n"
     ]
    }
   ],
   "source": [
    "# print the number of dimensions of F\n",
    "print(F.ndim)\n",
    "# print the shape of F\n",
    "print(F.shape)\n",
    "# compute the mean value of the two matrices F[0] and F[1], with a single command using F.mean(??)\n",
    "print(F.mean((1,2)))"
   ]
  },
  {
   "cell_type": "code",
   "execution_count": 25,
   "metadata": {
    "ExecuteTime": {
     "end_time": "2017-07-13T23:38:02.890095",
     "start_time": "2017-07-13T23:38:02.884289"
    },
    "collapsed": false
   },
   "outputs": [
    {
     "name": "stdout",
     "output_type": "stream",
     "text": [
      "[[1]\n",
      " [2]\n",
      " [3]\n",
      " [4]]\n"
     ]
    }
   ],
   "source": [
    "a = np.array([1,2,3,4]).reshape(4,1)\n",
    "print(a)"
   ]
  },
  {
   "cell_type": "markdown",
   "metadata": {},
   "source": [
    "### Broadcasting"
   ]
  },
  {
   "cell_type": "code",
   "execution_count": 26,
   "metadata": {
    "ExecuteTime": {
     "end_time": "2017-07-13T23:38:03.939207",
     "start_time": "2017-07-13T23:38:03.933425"
    },
    "collapsed": false
   },
   "outputs": [
    {
     "name": "stdout",
     "output_type": "stream",
     "text": [
      "[[11 12 13 14 15 16]\n",
      " [18 19 20 21 22 23]\n",
      " [25 26 27 28 29 30]\n",
      " [32 33 34 35 36 37]]\n"
     ]
    }
   ],
   "source": [
    "# Using the concept of broadcasting, create matrix G with the sum of vector a to every column of A:\n",
    "G = A + a\n",
    "print(G)"
   ]
  },
  {
   "cell_type": "markdown",
   "metadata": {},
   "source": [
    "### Function - one-hot encoding"
   ]
  },
  {
   "cell_type": "markdown",
   "metadata": {},
   "source": [
    "Define a function that receives as input an one-dimensional array and the output a one-hot encoding\n",
    "following the example:"
   ]
  },
  {
   "cell_type": "code",
   "execution_count": 27,
   "metadata": {
    "ExecuteTime": {
     "end_time": "2017-07-13T23:38:05.702675",
     "start_time": "2017-07-13T23:38:05.695657"
    },
    "collapsed": false
   },
   "outputs": [
    {
     "name": "stdout",
     "output_type": "stream",
     "text": [
      "[2 0 3 2 1]\n"
     ]
    }
   ],
   "source": [
    "# input\n",
    "aa = np.array([2,0,3,2,1])\n",
    "print(aa)"
   ]
  },
  {
   "cell_type": "code",
   "execution_count": 28,
   "metadata": {
    "ExecuteTime": {
     "end_time": "2017-07-13T23:38:06.277817",
     "start_time": "2017-07-13T23:38:06.269116"
    },
    "collapsed": false
   },
   "outputs": [
    {
     "name": "stdout",
     "output_type": "stream",
     "text": [
      "[[0 0 1 0]\n",
      " [1 0 0 0]\n",
      " [0 0 0 1]\n",
      " [0 0 1 0]\n",
      " [0 1 0 0]]\n"
     ]
    }
   ],
   "source": [
    "# output\n",
    "oo = np.array([[0,0,1,0],\n",
    "               [1,0,0,0],\n",
    "               [0,0,0,1],\n",
    "               [0,0,1,0],\n",
    "               [0,1,0,0]])\n",
    "print(oo)"
   ]
  },
  {
   "cell_type": "code",
   "execution_count": 29,
   "metadata": {
    "ExecuteTime": {
     "end_time": "2017-07-13T23:38:07.013802",
     "start_time": "2017-07-13T23:38:07.001998"
    },
    "collapsed": false
   },
   "outputs": [
    {
     "name": "stdout",
     "output_type": "stream",
     "text": [
      "[[0 0 1 0]\n",
      " [1 0 0 0]\n",
      " [0 0 0 1]\n",
      " [0 0 1 0]\n",
      " [0 1 0 0]]\n"
     ]
    }
   ],
   "source": [
    "# Try to avoid explicit loop as much as possible\n",
    "# Use only NumPy operations, no other libraries\n",
    "# First Solution\n",
    "def one_hot(i):\n",
    "    # insert your code here\n",
    "    n_samples = i.shape[0]\n",
    "    n_classes = i.max() + 1\n",
    "    oh = np.zeros((n_samples,n_classes), dtype=np.int)\n",
    "    oh[np.arange(n_samples),i] = 1\n",
    "    return oh\n",
    "\n",
    "print(one_hot(aa))"
   ]
  },
  {
   "cell_type": "code",
   "execution_count": 30,
   "metadata": {
    "ExecuteTime": {
     "end_time": "2017-07-13T23:38:07.938334",
     "start_time": "2017-07-13T23:38:07.927645"
    },
    "collapsed": false
   },
   "outputs": [
    {
     "name": "stdout",
     "output_type": "stream",
     "text": [
      "[[0 0 1 0]\n",
      " [1 0 0 0]\n",
      " [0 0 0 1]\n",
      " [0 0 1 0]\n",
      " [0 1 0 0]]\n"
     ]
    }
   ],
   "source": [
    "# Try to avoid explicit loop as much as possible\n",
    "# Use only NumPy operations, no other libraries\n",
    "# Second Solution\n",
    "def one_hot(i):\n",
    "    # insert your code here\n",
    "    n_classes = i.max() + 1\n",
    "    oh = np.eye(n_classes,dtype=np.int)[i]\n",
    "    return oh\n",
    "\n",
    "print(one_hot(aa))"
   ]
  },
  {
   "cell_type": "markdown",
   "metadata": {
    "collapsed": true
   },
   "source": [
    "# The end"
   ]
  }
 ],
 "metadata": {
  "kernelspec": {
   "display_name": "Python 3",
   "language": "python",
   "name": "python3"
  },
  "language_info": {
   "codemirror_mode": {
    "name": "ipython",
    "version": 3
   },
   "file_extension": ".py",
   "mimetype": "text/x-python",
   "name": "python",
   "nbconvert_exporter": "python",
   "pygments_lexer": "ipython3",
   "version": "3.6.0"
  },
  "toc": {
   "colors": {
    "hover_highlight": "#DAA520",
    "running_highlight": "#FF0000",
    "selected_highlight": "#FFD700"
   },
   "moveMenuLeft": true,
   "nav_menu": {
    "height": "354px",
    "width": "252px"
   },
   "navigate_menu": true,
   "number_sections": true,
   "sideBar": true,
   "threshold": 4,
   "toc_cell": false,
   "toc_section_display": "block",
   "toc_window_display": false
  }
 },
 "nbformat": 4,
 "nbformat_minor": 2
}
