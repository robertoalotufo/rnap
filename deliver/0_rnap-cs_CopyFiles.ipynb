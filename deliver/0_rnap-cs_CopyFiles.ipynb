{
 "cells": [
  {
   "cell_type": "markdown",
   "metadata": {},
   "source": [
    "# Cópia para repositório rnap-cs"
   ]
  },
  {
   "cell_type": "code",
   "execution_count": 1,
   "metadata": {
    "ExecuteTime": {
     "end_time": "2017-10-05T20:09:31.941684Z",
     "start_time": "2017-10-05T20:09:31.932075Z"
    },
    "collapsed": true
   },
   "outputs": [],
   "source": [
    "import os\n",
    "os.makedirs('../../rnap-cs/src', exist_ok=True)\n",
    "os.makedirs('../../rnap-cs/deliver', exist_ok=True)\n",
    "os.makedirs('../../rnap-cs/data', exist_ok=True)\n",
    "os.makedirs('../../rnap-cs/figures', exist_ok=True)\n",
    "os.makedirs('../../rnap-cs/PyTorch', exist_ok=True)\n",
    "os.makedirs('../../rnap-cs/PyTorch/lib', exist_ok=True)"
   ]
  },
  {
   "cell_type": "code",
   "execution_count": 2,
   "metadata": {
    "ExecuteTime": {
     "end_time": "2017-10-05T20:09:33.227761Z",
     "start_time": "2017-10-05T20:09:32.851154Z"
    },
    "collapsed": true
   },
   "outputs": [],
   "source": [
    "%cp ../figures/* ../../rnap-cs/figures/\n",
    "%cp ../PyTorch/0_index.ipynb ../../rnap-cs/PyTorch"
   ]
  },
  {
   "cell_type": "code",
   "execution_count": 11,
   "metadata": {
    "ExecuteTime": {
     "end_time": "2017-10-05T20:11:43.268903Z",
     "start_time": "2017-10-05T20:11:43.022734Z"
    },
    "collapsed": true
   },
   "outputs": [],
   "source": [
    "%rm ../../rnap-cs/figures/capa-minicurso-SEE2017DL.png\n",
    "%rm ../../rnap-cs/figures/capacurso*"
   ]
  },
  {
   "cell_type": "code",
   "execution_count": 3,
   "metadata": {
    "ExecuteTime": {
     "end_time": "2017-10-05T20:09:34.851640Z",
     "start_time": "2017-10-05T20:09:34.485458Z"
    },
    "collapsed": true
   },
   "outputs": [],
   "source": [
    "%cp ../src/my_keras_utilities.py ../../rnap-cs/src/\n",
    "%cp show_graph.py ../../rnap-cs/deliver/\n",
    "%cp Jview.py ../../rnap-cs/deliver/"
   ]
  },
  {
   "cell_type": "code",
   "execution_count": 4,
   "metadata": {
    "ExecuteTime": {
     "end_time": "2017-10-05T20:09:36.612959Z",
     "start_time": "2017-10-05T20:09:36.005539Z"
    },
    "collapsed": true
   },
   "outputs": [],
   "source": [
    "%cp ../PyTorch/ExercicioIntrodutorio.ipynb ../../rnap-cs/PyTorch/\n",
    "%cp tutorial-python.ipynb ../../rnap-cs/deliver/\n",
    "%cp tutorial-numpy.ipynb ../../rnap-cs/deliver/\n",
    "%cp numpy-reshape-broadcast-reducao.ipynb ../../rnap-cs/deliver/\n",
    "%cp Glossario.ipynb ../../rnap-cs/deliver/"
   ]
  },
  {
   "cell_type": "code",
   "execution_count": 5,
   "metadata": {
    "ExecuteTime": {
     "end_time": "2017-10-05T20:09:38.876884Z",
     "start_time": "2017-10-05T20:09:37.649693Z"
    },
    "collapsed": true
   },
   "outputs": [],
   "source": [
    "%cp Regressao-Linear.ipynb ../../rnap-cs/deliver/\n",
    "%cp Regressao-Linear-tensorflow.ipynb ../../rnap-cs/deliver/\n",
    "%cp softmax.ipynb ../../rnap-cs/deliver/\n",
    "%cp Regressao-Logistica-Softmax-Iris-2D-matricial.ipynb ../../rnap-cs/deliver/\n",
    "%cp Regressao-Logistica-Softmax-Iris-2D-matricial-Fronteira-Dinamica.ipynb ../../rnap-cs/deliver/\n",
    "%cp Regressao-Logistica-Softmax-Iris-2D-Keras.ipynb ../../rnap-cs/deliver/\n",
    "%cp Regressao-Logistica-Softmax-Iris-2D-Keras-Fronteira-Dinamica.ipynb ../../rnap-cs/deliver/\n",
    "%cp Regressao-Logistica-Softmax-MNIST-matricial.ipynb ../../rnap-cs/deliver/\n",
    "%cp Regressao-Logistica-Softmax-MNIST-Keras.ipynb ../../rnap-cs/deliver/\n",
    "\n",
    "%cp model_selection.ipynb ../../rnap-cs/deliver/"
   ]
  },
  {
   "cell_type": "code",
   "execution_count": 6,
   "metadata": {
    "ExecuteTime": {
     "end_time": "2017-10-05T20:09:40.573351Z",
     "start_time": "2017-10-05T20:09:39.951607Z"
    },
    "collapsed": true
   },
   "outputs": [],
   "source": [
    "%cp ../PyTorch/ExercicioIntrodutorio.ipynb ../../rnap-cs/PyTorch\n",
    "%cp ../PyTorch/Matrizes_Arrays_Tensores.ipynb ../../rnap-cs/PyTorch\n",
    "%cp ../PyTorch/MovingMean_Momentum.ipynb ../../rnap-cs/PyTorch\n",
    "%cp ../PyTorch/PyTorch_Variaveis_Gradientes.ipynb ../../rnap-cs/PyTorch\n",
    "%cp ../PyTorch/RegressaoLinearDemo.ipynb ../../rnap-cs/PyTorch"
   ]
  },
  {
   "cell_type": "code",
   "execution_count": 7,
   "metadata": {
    "ExecuteTime": {
     "end_time": "2017-10-05T20:09:43.393080Z",
     "start_time": "2017-10-05T20:09:42.532683Z"
    },
    "collapsed": true
   },
   "outputs": [],
   "source": [
    "%cp ../PyTorch/LinearRegressionIrisNumPy.ipynb ../../rnap-cs/PyTorch\n",
    "%cp ../PyTorch/LinearRegressionIrisOptimizer.ipynb ../../rnap-cs/PyTorch\n",
    "%cp ../PyTorch/LinearRegressionIrisPyTorch.ipynb ../../rnap-cs/PyTorch\n",
    "%cp ../PyTorch/LinearRegressionIris-Tensor.ipynb ../../rnap-cs/PyTorch\n",
    "%cp ../PyTorch/LogisticRegressionIris.ipynb ../../rnap-cs/PyTorch\n",
    "%cp ../PyTorch/datasets-e-dataloaders.ipynb ../../rnap-cs/PyTorch\n",
    "%cp ../PyTorch/Regressao-Logistica-MNIST-matricial.ipynb ../../rnap-cs/PyTorch"
   ]
  },
  {
   "cell_type": "code",
   "execution_count": 8,
   "metadata": {
    "ExecuteTime": {
     "end_time": "2017-10-05T20:09:44.911480Z",
     "start_time": "2017-10-05T20:09:44.299467Z"
    },
    "collapsed": true
   },
   "outputs": [],
   "source": [
    "%cp ../PyTorch/Activations_pytorch.ipynb ../../rnap-cs/PyTorch\n",
    "%cp ../PyTorch/Exercicio-MNIST-varias-camadas.ipynb ../../rnap-cs/PyTorch\n",
    "%cp ../PyTorch/underfitting-overfitting-regularization.ipynb ../../rnap-cs/PyTorch\n",
    "%cp ../PyTorch/boston_housing.ipynb ../../rnap-cs/PyTorch\n",
    "%cp ../PyTorch/Iris-dataset-2-ou-mais-camadas-fronteira-dinamica.ipynb ../../rnap-cs/PyTorch"
   ]
  },
  {
   "cell_type": "code",
   "execution_count": 9,
   "metadata": {
    "ExecuteTime": {
     "end_time": "2017-10-05T20:09:46.680379Z",
     "start_time": "2017-10-05T20:09:45.922634Z"
    },
    "collapsed": true
   },
   "outputs": [],
   "source": [
    "%cp ../PyTorch/Explorando-Convolucao-no-PyTorch.ipynb ../../rnap-cs/PyTorch\n",
    "%cp ../PyTorch/Introducao-CNN-PyTorch.ipynb ../../rnap-cs/PyTorch\n",
    "%cp ../PyTorch/cifar10-CNN-features.ipynb ../../rnap-cs/PyTorch\n",
    "%cp ../PyTorch/lenet-mnist.ipynb ../../rnap-cs/PyTorch\n",
    "%cp ../PyTorch/lib/cifar.py ../../rnap-cs/PyTorch/lib\n",
    "%cp ../PyTorch/lib/pytorch_utils.py ../../rnap-cs/PyTorch/lib\n"
   ]
  },
  {
   "cell_type": "code",
   "execution_count": 10,
   "metadata": {
    "ExecuteTime": {
     "end_time": "2017-10-05T20:09:48.485439Z",
     "start_time": "2017-10-05T20:09:48.232623Z"
    },
    "collapsed": true
   },
   "outputs": [],
   "source": [
    "%cp ../PyTorch/fully_convolutional.ipynb ../../rnap-cs/PyTorch\n",
    "%cp ../PyTorch/Cats_and_dogs.ipynb ../../rnap-cs/PyTorch\n"
   ]
  },
  {
   "cell_type": "code",
   "execution_count": 10,
   "metadata": {
    "ExecuteTime": {
     "end_time": "2017-08-11T15:52:43.978517",
     "start_time": "2017-08-11T15:52:43.971887"
    },
    "collapsed": true
   },
   "outputs": [],
   "source": [
    "# datasets: creditcard.csv, glove.6B.50d.txt, rossmann_train.csv, rossmann_store_states.csv"
   ]
  },
  {
   "cell_type": "markdown",
   "metadata": {},
   "source": [
    "## zipando diretório para distribuição"
   ]
  },
  {
   "cell_type": "code",
   "execution_count": null,
   "metadata": {
    "collapsed": true
   },
   "outputs": [],
   "source": [
    "zip -r rnap-cs_final.zip rnap-cs/ -x *.git* --exclude=*.DS_Store* --exclude=*pycache*"
   ]
  }
 ],
 "metadata": {
  "anaconda-cloud": {},
  "kernelspec": {
   "display_name": "Python 3",
   "language": "python",
   "name": "python3"
  },
  "language_info": {
   "codemirror_mode": {
    "name": "ipython",
    "version": 3
   },
   "file_extension": ".py",
   "mimetype": "text/x-python",
   "name": "python",
   "nbconvert_exporter": "python",
   "pygments_lexer": "ipython3",
   "version": "3.6.0"
  },
  "toc": {
   "nav_menu": {
    "height": "512px",
    "width": "252px"
   },
   "number_sections": true,
   "sideBar": true,
   "skip_h1_title": false,
   "toc_cell": false,
   "toc_position": {},
   "toc_section_display": "block",
   "toc_window_display": false
  }
 },
 "nbformat": 4,
 "nbformat_minor": 1
}
