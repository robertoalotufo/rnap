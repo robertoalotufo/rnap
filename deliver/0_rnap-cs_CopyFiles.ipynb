{
 "cells": [
  {
   "cell_type": "markdown",
   "metadata": {},
   "source": [
    "# Cópia para repositório rnap-cs"
   ]
  },
  {
   "cell_type": "code",
   "execution_count": 1,
   "metadata": {
    "ExecuteTime": {
     "end_time": "2017-10-20T22:39:23.768948Z",
     "start_time": "2017-10-20T22:39:23.762420Z"
    },
    "collapsed": true
   },
   "outputs": [],
   "source": [
    "import os\n",
    "os.makedirs('../../rnap-cs/src', exist_ok=True)\n",
    "os.makedirs('../../rnap-cs/deliver', exist_ok=True)\n",
    "os.makedirs('../../rnap-cs/data', exist_ok=True)\n",
    "os.makedirs('../../rnap-cs/figures', exist_ok=True)\n",
    "os.makedirs('../../rnap-cs/PyTorch', exist_ok=True)\n",
    "os.makedirs('../../rnap-cs/PyTorch/lib', exist_ok=True)"
   ]
  },
  {
   "cell_type": "code",
   "execution_count": 2,
   "metadata": {
    "ExecuteTime": {
     "end_time": "2017-10-20T22:39:23.916711Z",
     "start_time": "2017-10-20T22:39:23.771196Z"
    },
    "collapsed": true
   },
   "outputs": [],
   "source": [
    "%cp ../PyTorch/0_index.ipynb ../../rnap-cs/PyTorch"
   ]
  },
  {
   "cell_type": "code",
   "execution_count": 3,
   "metadata": {
    "ExecuteTime": {
     "end_time": "2017-10-20T22:39:24.167631Z",
     "start_time": "2017-10-20T22:39:23.919752Z"
    },
    "collapsed": true
   },
   "outputs": [],
   "source": [
    "%cp ../figures/* ../../rnap-cs/figures/"
   ]
  },
  {
   "cell_type": "code",
   "execution_count": 4,
   "metadata": {
    "ExecuteTime": {
     "end_time": "2017-10-20T22:39:24.433025Z",
     "start_time": "2017-10-20T22:39:24.171969Z"
    },
    "collapsed": true
   },
   "outputs": [],
   "source": [
    "%rm ../../rnap-cs/figures/capa-minicurso-SEE2017DL.png\n",
    "%rm ../../rnap-cs/figures/capacurso*"
   ]
  },
  {
   "cell_type": "code",
   "execution_count": 5,
   "metadata": {
    "ExecuteTime": {
     "end_time": "2017-10-20T22:39:25.312909Z",
     "start_time": "2017-10-20T22:39:24.437807Z"
    },
    "collapsed": true
   },
   "outputs": [],
   "source": [
    "%cp ../PyTorch/lib/__init__.py ../../rnap-cs/PyTorch/lib/\n",
    "%cp ../PyTorch/lib/cifar.py ../../rnap-cs/PyTorch/lib/\n",
    "%cp ../PyTorch/lib/pytorch_trainer.py ../../rnap-cs/PyTorch/lib/\n",
    "%cp ../PyTorch/lib/pytorch_utils.py ../../rnap-cs/PyTorch/lib\n",
    "\n",
    "%cp ../src/my_keras_utilities.py ../../rnap-cs/src/\n",
    "%cp show_graph.py ../../rnap-cs/deliver/\n",
    "%cp Jview.py ../../rnap-cs/deliver/"
   ]
  },
  {
   "cell_type": "code",
   "execution_count": 6,
   "metadata": {
    "ExecuteTime": {
     "end_time": "2017-10-20T22:39:25.942036Z",
     "start_time": "2017-10-20T22:39:25.317000Z"
    },
    "collapsed": true
   },
   "outputs": [],
   "source": [
    "%cp ../PyTorch/ExercicioIntrodutorio.ipynb ../../rnap-cs/PyTorch/\n",
    "%cp tutorial-python.ipynb ../../rnap-cs/deliver/\n",
    "%cp tutorial-numpy.ipynb ../../rnap-cs/deliver/\n",
    "%cp numpy-reshape-broadcast-reducao.ipynb ../../rnap-cs/deliver/\n",
    "%cp Glossario.ipynb ../../rnap-cs/deliver/"
   ]
  },
  {
   "cell_type": "code",
   "execution_count": 7,
   "metadata": {
    "ExecuteTime": {
     "end_time": "2017-10-20T22:39:27.227486Z",
     "start_time": "2017-10-20T22:39:25.946404Z"
    },
    "collapsed": true
   },
   "outputs": [],
   "source": [
    "%cp Regressao-Linear.ipynb ../../rnap-cs/deliver/\n",
    "%cp Regressao-Linear-tensorflow.ipynb ../../rnap-cs/deliver/\n",
    "%cp softmax.ipynb ../../rnap-cs/deliver/\n",
    "%cp Regressao-Logistica-Softmax-Iris-2D-matricial.ipynb ../../rnap-cs/deliver/\n",
    "%cp Regressao-Logistica-Softmax-Iris-2D-matricial-Fronteira-Dinamica.ipynb ../../rnap-cs/deliver/\n",
    "%cp Regressao-Logistica-Softmax-Iris-2D-Keras.ipynb ../../rnap-cs/deliver/\n",
    "%cp Regressao-Logistica-Softmax-Iris-2D-Keras-Fronteira-Dinamica.ipynb ../../rnap-cs/deliver/\n",
    "%cp Regressao-Logistica-Softmax-MNIST-matricial.ipynb ../../rnap-cs/deliver/\n",
    "%cp Regressao-Logistica-Softmax-MNIST-Keras.ipynb ../../rnap-cs/deliver/\n",
    "\n",
    "%cp model_selection.ipynb ../../rnap-cs/deliver/"
   ]
  },
  {
   "cell_type": "code",
   "execution_count": 8,
   "metadata": {
    "ExecuteTime": {
     "end_time": "2017-10-20T22:39:27.853532Z",
     "start_time": "2017-10-20T22:39:27.232657Z"
    },
    "collapsed": true
   },
   "outputs": [],
   "source": [
    "%cp ../PyTorch/ExercicioIntrodutorio.ipynb ../../rnap-cs/PyTorch\n",
    "%cp ../PyTorch/Matrizes_Arrays_Tensores.ipynb ../../rnap-cs/PyTorch\n",
    "%cp ../PyTorch/MovingMean_Momentum.ipynb ../../rnap-cs/PyTorch\n",
    "%cp ../PyTorch/PyTorch_Variaveis_Gradientes.ipynb ../../rnap-cs/PyTorch\n",
    "%cp ../PyTorch/RegressaoLinearDemo.ipynb ../../rnap-cs/PyTorch"
   ]
  },
  {
   "cell_type": "code",
   "execution_count": 9,
   "metadata": {
    "ExecuteTime": {
     "end_time": "2017-10-20T22:39:28.853982Z",
     "start_time": "2017-10-20T22:39:27.857998Z"
    },
    "collapsed": true
   },
   "outputs": [],
   "source": [
    "%cp ../PyTorch/LinearRegressionIrisNumPy.ipynb ../../rnap-cs/PyTorch\n",
    "%cp ../PyTorch/LinearRegressionIrisOptimizer.ipynb ../../rnap-cs/PyTorch\n",
    "%cp ../PyTorch/LinearRegressionIrisPyTorch.ipynb ../../rnap-cs/PyTorch\n",
    "%cp ../PyTorch/LinearRegressionIris-Tensor.ipynb ../../rnap-cs/PyTorch\n",
    "%cp ../PyTorch/LogisticRegressionIris.ipynb ../../rnap-cs/PyTorch\n",
    "%cp ../PyTorch/LogisticRegressionMNIST.ipynb ../../rnap-cs/PyTorch/\n",
    "%cp ../PyTorch/datasets-e-dataloaders.ipynb ../../rnap-cs/PyTorch\n",
    "%cp ../PyTorch/LogisticRegressionMNIST-SGD.ipynb ../../rnap-cs/PyTorch"
   ]
  },
  {
   "cell_type": "code",
   "execution_count": 10,
   "metadata": {
    "ExecuteTime": {
     "end_time": "2017-10-20T22:39:30.245105Z",
     "start_time": "2017-10-20T22:39:28.858293Z"
    },
    "collapsed": true
   },
   "outputs": [],
   "source": [
    "%cp ../PyTorch/Activations_pytorch.ipynb ../../rnap-cs/PyTorch\n",
    "%cp ../PyTorch/Iris-dataset-2-ou-mais-camadas-fronteira-dinamica.ipynb ../../rnap-cs/PyTorch/\n",
    "%cp ../PyTorch/underfitting-overfitting-regularization.ipynb ../../rnap-cs/PyTorch\n",
    "\n",
    "#%cp ../PyTorch/Exercicio-MNIST-varias-camadas.ipynb ../../rnap-cs/PyTorch\n",
    "%cp ../PyTorch/optimizer.ipynb ../../rnap-cs/PyTorch/\n",
    "%cp ../PyTorch/MNIST_neuralnet.ipynb ../../rnap-cs/PyTorch/\n",
    "%cp ../PyTorch/boston_housing.ipynb ../../rnap-cs/PyTorch\n",
    "%cp ../PyTorch/Predict_Boston_House_Prices.ipynb ../../rnap-cs/PyTorch/\n",
    "%cp ../PyTorch/batch_norm_basics_pytorch.ipynb ../../rnap-cs/PyTorch/\n",
    "%cp ../PyTorch/credit_card_fraud_detection_kaggle_pytorch.ipynb ../../rnap-cs/PyTorch/\n",
    "%cp ../PyTorch/AnaliseSentimento_IMDB_bagwords.ipynb ../../rnap-cs/PyTorch/\n",
    "%cp ../PyTorch/autoencoder.ipynb ../../rnap-cs/PyTorch/\n",
    "%cp ../PyTorch/model_selection_mnist.ipynb ../../rnap-cs/PyTorch\n"
   ]
  },
  {
   "cell_type": "code",
   "execution_count": 15,
   "metadata": {
    "ExecuteTime": {
     "end_time": "2017-10-20T22:40:18.965681Z",
     "start_time": "2017-10-20T22:40:18.347493Z"
    },
    "collapsed": true
   },
   "outputs": [],
   "source": [
    "%cp ../PyTorch/Explorando-Convolucao-no-PyTorch.ipynb ../../rnap-cs/PyTorch\n",
    "%cp ../PyTorch/Introducao-CNN-PyTorch.ipynb ../../rnap-cs/PyTorch\n",
    "%cp ../PyTorch/cifar10-CNN-features.ipynb ../../rnap-cs/PyTorch\n",
    "%cp ../PyTorch/lenet-mnist.ipynb ../../rnap-cs/PyTorch\n",
    "%cp ../PyTorch/Models_ImageNet.ipynb ../../rnap-cs/PyTorch/\n",
    "%cp ../PyTorch/data_augmentation_catsdogs.ipynb ../../rnap-cs/PyTorch\n",
    "%cp ../PyTorch/transfer_learning_catsdogs.ipynb ../../rnap-cs/PyTorch\n",
    "\n"
   ]
  },
  {
   "cell_type": "code",
   "execution_count": 12,
   "metadata": {
    "ExecuteTime": {
     "end_time": "2017-10-20T22:39:31.013047Z",
     "start_time": "2017-10-20T22:39:30.752433Z"
    },
    "collapsed": true
   },
   "outputs": [],
   "source": [
    "%cp ../PyTorch/fully_convolutional.ipynb ../../rnap-cs/PyTorch\n",
    "%cp ../PyTorch/Cats_and_dogs.ipynb ../../rnap-cs/PyTorch\n",
    "%cp ../PyTorch/svhn_dnt.ipynb ../../rnap-cs/PyTorch"
   ]
  },
  {
   "cell_type": "code",
   "execution_count": 13,
   "metadata": {
    "ExecuteTime": {
     "end_time": "2017-10-20T22:39:31.024041Z",
     "start_time": "2017-10-20T22:39:31.018689Z"
    },
    "collapsed": true
   },
   "outputs": [],
   "source": [
    "%cp ../PyTorch/MovieLens_dataset_pytorch.ipynb ../../rnap-cs/PyTorch\n",
    "%cp ../PyTorch/embedding-basics-pytorch.ipynb ../../rnap-cs/PyTorch\n",
    "%cp ../PyTorch/SistemaRecomendacao-pytorch.ipynb ../../rnap-cs/PyTorch\n",
    "\n",
    "%cp ../PyTorch/livros_dataset.ipynb ../../rnap-cs/PyTorch\n",
    "%cp ../PyTorch/livros_preprocessing.ipynb ../../rnap-cs/PyTorch\n",
    "%cp ../PyTorch/livros_classif.ipynb ../../rnap-cs/PyTorch\n",
    "%cp ../PyTorch/livros_classif_w2v.ipynb ../../rnap-cs/PyTorch\n",
    "\n",
    "%cp ../PyTorch/analise_sentimento_imdb.ipynb ../../rnap-cs/PyTorch"
   ]
  },
  {
   "cell_type": "markdown",
   "metadata": {},
   "source": [
    "## zipando diretório para distribuição"
   ]
  },
  {
   "cell_type": "code",
   "execution_count": 14,
   "metadata": {
    "ExecuteTime": {
     "end_time": "2017-10-20T22:39:31.031655Z",
     "start_time": "2017-10-20T22:39:31.027554Z"
    },
    "collapsed": true
   },
   "outputs": [],
   "source": [
    "#zip -r rnap-cs_final.zip rnap-cs/ -x *.git* --exclude=*.DS_Store* --exclude=*pycache*"
   ]
  }
 ],
 "metadata": {
  "anaconda-cloud": {},
  "kernelspec": {
   "display_name": "Python 3",
   "language": "python",
   "name": "python3"
  },
  "language_info": {
   "codemirror_mode": {
    "name": "ipython",
    "version": 3
   },
   "file_extension": ".py",
   "mimetype": "text/x-python",
   "name": "python",
   "nbconvert_exporter": "python",
   "pygments_lexer": "ipython3",
   "version": "3.6.0"
  },
  "toc": {
   "colors": {
    "hover_highlight": "#DAA520",
    "running_highlight": "#FF0000",
    "selected_highlight": "#FFD700"
   },
   "moveMenuLeft": true,
   "nav_menu": {
    "height": "512px",
    "width": "252px"
   },
   "navigate_menu": true,
   "number_sections": true,
   "sideBar": true,
   "skip_h1_title": false,
   "threshold": 4,
   "toc_cell": false,
   "toc_position": {},
   "toc_section_display": "block",
   "toc_window_display": false
  }
 },
 "nbformat": 4,
 "nbformat_minor": 1
}
