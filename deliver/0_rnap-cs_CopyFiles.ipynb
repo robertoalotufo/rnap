{
 "cells": [
  {
   "cell_type": "markdown",
   "metadata": {},
   "source": [
    "# Cópia para repositório rnap-cs"
   ]
  },
  {
   "cell_type": "code",
   "execution_count": 1,
   "metadata": {
    "ExecuteTime": {
     "end_time": "2017-11-24T20:47:10.229215Z",
     "start_time": "2017-11-24T20:47:10.221580Z"
    },
    "collapsed": true
   },
   "outputs": [],
   "source": [
    "import os\n",
    "os.makedirs('../../rnap-cs/data', exist_ok=True)\n",
    "os.makedirs('../../rnap-cs/figures', exist_ok=True)\n",
    "os.makedirs('../../rnap-cs/PyTorch', exist_ok=True)\n",
    "os.makedirs('../../rnap-cs/PyTorch/lib', exist_ok=True)"
   ]
  },
  {
   "cell_type": "code",
   "execution_count": 2,
   "metadata": {
    "ExecuteTime": {
     "end_time": "2017-11-24T20:47:21.949618Z",
     "start_time": "2017-11-24T20:47:21.800223Z"
    },
    "collapsed": true
   },
   "outputs": [],
   "source": [
    "%cp ../PyTorch/0_index.ipynb ../../rnap-cs/PyTorch"
   ]
  },
  {
   "cell_type": "code",
   "execution_count": 3,
   "metadata": {
    "ExecuteTime": {
     "end_time": "2017-11-24T20:47:24.586346Z",
     "start_time": "2017-11-24T20:47:24.376225Z"
    },
    "collapsed": true
   },
   "outputs": [],
   "source": [
    "%cp ../figures/* ../../rnap-cs/figures/"
   ]
  },
  {
   "cell_type": "code",
   "execution_count": 4,
   "metadata": {
    "ExecuteTime": {
     "end_time": "2017-11-24T20:47:25.523318Z",
     "start_time": "2017-11-24T20:47:25.280268Z"
    },
    "collapsed": true
   },
   "outputs": [],
   "source": [
    "%rm ../../rnap-cs/figures/capa-minicurso-SEE2017DL.png\n",
    "%rm ../../rnap-cs/figures/capacurso*"
   ]
  },
  {
   "cell_type": "code",
   "execution_count": 5,
   "metadata": {
    "ExecuteTime": {
     "end_time": "2017-11-24T20:47:27.983552Z",
     "start_time": "2017-11-24T20:47:27.376139Z"
    },
    "collapsed": true
   },
   "outputs": [],
   "source": [
    "%cp ../PyTorch/lib/__init__.py ../../rnap-cs/PyTorch/lib/\n",
    "%cp ../PyTorch/lib/cifar.py ../../rnap-cs/PyTorch/lib/\n",
    "%cp ../PyTorch/lib/pytorch_trainer.py ../../rnap-cs/PyTorch/lib/\n",
    "%cp ../PyTorch/lib/pytorch_visualize.py ../../rnap-cs/PyTorch/lib\n",
    "%cp ../PyTorch/lib/tokenizer.py ../../rnap-cs/PyTorch/lib/\n"
   ]
  },
  {
   "cell_type": "code",
   "execution_count": 6,
   "metadata": {
    "ExecuteTime": {
     "end_time": "2017-11-24T20:47:29.316340Z",
     "start_time": "2017-11-24T20:47:28.832356Z"
    },
    "collapsed": true
   },
   "outputs": [],
   "source": [
    "%cp tutorial-python.ipynb ../../rnap-cs/PyTorch/\n",
    "%cp tutorial-numpy.ipynb ../../rnap-cs/PyTorch/\n",
    "%cp numpy-reshape-broadcast-reducao.ipynb ../../rnap-cs/PyTorch/\n",
    "%cp Glossario.ipynb ../../rnap-cs/PyTorch/"
   ]
  },
  {
   "cell_type": "code",
   "execution_count": 7,
   "metadata": {
    "ExecuteTime": {
     "end_time": "2017-11-24T20:47:30.345435Z",
     "start_time": "2017-11-24T20:47:29.848049Z"
    },
    "collapsed": true
   },
   "outputs": [],
   "source": [
    "%cp ../PyTorch/ExercicioIntrodutorio.ipynb ../../rnap-cs/PyTorch\n",
    "%cp ../PyTorch/Matrizes_Arrays_Tensores.ipynb ../../rnap-cs/PyTorch\n",
    "%cp ../PyTorch/MovingMean_Momentum.ipynb ../../rnap-cs/PyTorch\n",
    "%cp ../PyTorch/Cats_and_dogs.ipynb ../../rnap-cs/PyTorch"
   ]
  },
  {
   "cell_type": "code",
   "execution_count": 8,
   "metadata": {
    "ExecuteTime": {
     "end_time": "2017-11-24T20:47:31.335981Z",
     "start_time": "2017-11-24T20:47:31.088035Z"
    },
    "collapsed": true
   },
   "outputs": [],
   "source": [
    "%cp ../PyTorch/PyTorch_Variaveis_Gradientes.ipynb ../../rnap-cs/PyTorch\n",
    "%cp ../PyTorch/RegressaoLinearDemo.ipynb ../../rnap-cs/PyTorch"
   ]
  },
  {
   "cell_type": "code",
   "execution_count": 9,
   "metadata": {
    "ExecuteTime": {
     "end_time": "2017-11-24T20:47:35.432752Z",
     "start_time": "2017-11-24T20:47:34.323912Z"
    },
    "collapsed": true
   },
   "outputs": [],
   "source": [
    "%cp ../PyTorch/LinearRegressionIrisNumPy.ipynb ../../rnap-cs/PyTorch\n",
    "%cp ../PyTorch/LinearRegressionIrisOptimizer.ipynb ../../rnap-cs/PyTorch\n",
    "%cp ../PyTorch/LinearRegressionIrisPyTorch.ipynb ../../rnap-cs/PyTorch\n",
    "%cp ../PyTorch/LinearRegressionIris-Tensor.ipynb ../../rnap-cs/PyTorch\n",
    "%cp ../PyTorch/LinearRegressionIris-Tensor-Solucao.ipynb ../../rnap-cs/PyTorch/\n",
    "%cp ../PyTorch/LogisticRegressionIris.ipynb ../../rnap-cs/PyTorch\n",
    "%cp ../PyTorch/LogisticRegressionMNIST.ipynb ../../rnap-cs/PyTorch/\n",
    "%cp ../PyTorch/datasets-e-dataloaders.ipynb ../../rnap-cs/PyTorch\n",
    "%cp ../PyTorch/LogisticRegressionMNIST-SGD.ipynb ../../rnap-cs/PyTorch"
   ]
  },
  {
   "cell_type": "code",
   "execution_count": 10,
   "metadata": {
    "ExecuteTime": {
     "end_time": "2017-11-24T20:47:36.707214Z",
     "start_time": "2017-11-24T20:47:36.084165Z"
    },
    "collapsed": true
   },
   "outputs": [],
   "source": [
    "%cp ../PyTorch/Activations_pytorch.ipynb ../../rnap-cs/PyTorch\n",
    "%cp ../PyTorch/Iris-dataset-2-ou-mais-camadas-fronteira-dinamica.ipynb ../../rnap-cs/PyTorch/\n",
    "%cp ../PyTorch/underfitting-overfitting-regularization.ipynb ../../rnap-cs/PyTorch\n",
    "\n",
    "#%cp ../PyTorch/Exercicio-MNIST-varias-camadas.ipynb ../../rnap-cs/PyTorch\n",
    "%cp ../PyTorch/optimizer.ipynb ../../rnap-cs/PyTorch/\n",
    "%cp ../PyTorch/MNIST_neuralnet.ipynb ../../rnap-cs/PyTorch/"
   ]
  },
  {
   "cell_type": "markdown",
   "metadata": {},
   "source": [
    "## Segunda aula"
   ]
  },
  {
   "cell_type": "code",
   "execution_count": 10,
   "metadata": {
    "ExecuteTime": {
     "end_time": "2017-11-02T23:09:12.844553Z",
     "start_time": "2017-11-02T23:09:11.359403Z"
    },
    "collapsed": true
   },
   "outputs": [],
   "source": [
    "%cp ../PyTorch/boston_housing.ipynb ../../rnap-cs/PyTorch\n",
    "%cp ../PyTorch/Predict_Boston_House_Prices.ipynb ../../rnap-cs/PyTorch/\n",
    "%cp ../PyTorch/batch_norm_basics_pytorch.ipynb ../../rnap-cs/PyTorch/\n",
    "%cp ../PyTorch/credit_card_fraud_detection_kaggle_pytorch.ipynb ../../rnap-cs/PyTorch/\n",
    "%cp ../PyTorch/AnaliseSentimento_IMDB_bagwords.ipynb ../../rnap-cs/PyTorch/\n",
    "%cp ../PyTorch/autoencoder.ipynb ../../rnap-cs/PyTorch/\n",
    "%cp ../PyTorch/model_selection_mnist.ipynb ../../rnap-cs/PyTorch"
   ]
  },
  {
   "cell_type": "code",
   "execution_count": 11,
   "metadata": {
    "ExecuteTime": {
     "end_time": "2017-11-02T23:09:13.756485Z",
     "start_time": "2017-11-02T23:09:12.848114Z"
    },
    "collapsed": true
   },
   "outputs": [],
   "source": [
    "%cp ../PyTorch/Explorando-Convolucao-no-PyTorch.ipynb ../../rnap-cs/PyTorch\n",
    "%cp ../PyTorch/Introducao-CNN-PyTorch.ipynb ../../rnap-cs/PyTorch\n",
    "%cp ../PyTorch/cifar10-CNN-features.ipynb ../../rnap-cs/PyTorch\n",
    "%cp ../PyTorch/lenet-mnist.ipynb ../../rnap-cs/PyTorch\n",
    "%cp ../PyTorch/Models_ImageNet.ipynb ../../rnap-cs/PyTorch/\n",
    "%cp ../PyTorch/data_augmentation_catsdogs.ipynb ../../rnap-cs/PyTorch\n",
    "%cp ../PyTorch/transfer_learning_catsdogs.ipynb ../../rnap-cs/PyTorch\n",
    "\n"
   ]
  },
  {
   "cell_type": "code",
   "execution_count": 13,
   "metadata": {
    "ExecuteTime": {
     "end_time": "2017-11-02T23:09:43.146973Z",
     "start_time": "2017-11-02T23:09:42.235507Z"
    },
    "collapsed": true
   },
   "outputs": [],
   "source": [
    "%cp ../PyTorch/fully_convolutional.ipynb ../../rnap-cs/PyTorch\n",
    "%cp ../PyTorch/Cats_and_dogs.ipynb ../../rnap-cs/PyTorch\n",
    "%cp ../PyTorch/svhn_dnt.ipynb ../../rnap-cs/PyTorch\n",
    "%cp ../PyTorch/vae_mnist.ipynb ../../rnap-cs/PyTorch/\n",
    "%cp ../PyTorch/vae_celeba.ipynb ../../rnap-cs/PyTorch/\n",
    "%cp ../PyTorch/dcgan_mnist.ipynb ../../rnap-cs/PyTorch/\n",
    "%cp ../PyTorch/transposed_convolution.ipynb ../../rnap-cs/PyTorch/"
   ]
  },
  {
   "cell_type": "code",
   "execution_count": 14,
   "metadata": {
    "ExecuteTime": {
     "end_time": "2017-11-02T23:09:46.477944Z",
     "start_time": "2017-11-02T23:09:45.472332Z"
    },
    "collapsed": true
   },
   "outputs": [],
   "source": [
    "%cp ../PyTorch/MovieLens_dataset_pytorch.ipynb ../../rnap-cs/PyTorch\n",
    "%cp ../PyTorch/embedding-basics-pytorch.ipynb ../../rnap-cs/PyTorch\n",
    "%cp ../PyTorch/SistemaRecomendacao-pytorch.ipynb ../../rnap-cs/PyTorch\n",
    "\n",
    "%cp ../PyTorch/livros_dataset.ipynb ../../rnap-cs/PyTorch\n",
    "%cp ../PyTorch/livros_preprocessing.ipynb ../../rnap-cs/PyTorch\n",
    "%cp ../PyTorch/livros_classif.ipynb ../../rnap-cs/PyTorch\n",
    "%cp ../PyTorch/livros_classif_w2v.ipynb ../../rnap-cs/PyTorch\n",
    "\n",
    "%cp ../PyTorch/analise_sentimento_imdb.ipynb ../../rnap-cs/PyTorch"
   ]
  },
  {
   "cell_type": "code",
   "execution_count": 15,
   "metadata": {
    "ExecuteTime": {
     "end_time": "2017-11-02T23:09:49.439695Z",
     "start_time": "2017-11-02T23:09:48.948165Z"
    },
    "collapsed": true
   },
   "outputs": [],
   "source": [
    "%cp ../PyTorch/SimpleRNN_Numerical-PyTorch.ipynb ../../rnap-cs/PyTorch/\n",
    "%cp ../PyTorch/SimpleRNN_MNIST.ipynb ../../rnap-cs/PyTorch/\n",
    "%cp ../PyTorch/analise_sentimento_lstm_imdb.ipynb ../../rnap-cs/PyTorch/\n",
    "%cp ../PyTorch/seq2seq-translation.ipynb ../../rnap-cs/PyTorch/"
   ]
  },
  {
   "cell_type": "markdown",
   "metadata": {},
   "source": [
    "## zipando diretório para distribuição"
   ]
  },
  {
   "cell_type": "code",
   "execution_count": 14,
   "metadata": {
    "ExecuteTime": {
     "end_time": "2017-10-20T22:39:31.031655Z",
     "start_time": "2017-10-20T22:39:31.027554Z"
    },
    "collapsed": true
   },
   "outputs": [],
   "source": [
    "#zip -r rnap-cs_final.zip rnap-cs/ -x *.git* --exclude=*.DS_Store* --exclude=*pycache*"
   ]
  }
 ],
 "metadata": {
  "anaconda-cloud": {},
  "kernelspec": {
   "display_name": "Python 3",
   "language": "python",
   "name": "python3"
  },
  "language_info": {
   "codemirror_mode": {
    "name": "ipython",
    "version": 3
   },
   "file_extension": ".py",
   "mimetype": "text/x-python",
   "name": "python",
   "nbconvert_exporter": "python",
   "pygments_lexer": "ipython3",
   "version": "3.6.0"
  },
  "toc": {
   "nav_menu": {
    "height": "512px",
    "width": "252px"
   },
   "number_sections": true,
   "sideBar": true,
   "skip_h1_title": false,
   "toc_cell": false,
   "toc_position": {},
   "toc_section_display": "block",
   "toc_window_display": false
  }
 },
 "nbformat": 4,
 "nbformat_minor": 1
}
