{
 "cells": [
  {
   "cell_type": "markdown",
   "metadata": {},
   "source": [
    "# Cópia para repositório rnap-cs"
   ]
  },
  {
   "cell_type": "code",
   "execution_count": 1,
   "metadata": {
    "ExecuteTime": {
     "end_time": "2017-08-11T15:52:36.379644",
     "start_time": "2017-08-11T15:52:36.371396"
    }
   },
   "outputs": [],
   "source": [
    "import os\n",
    "os.makedirs('../../rnap-cs/src', exist_ok=True)\n",
    "os.makedirs('../../rnap-cs/deliver', exist_ok=True)\n",
    "os.makedirs('../../rnap-cs/data', exist_ok=True)\n",
    "os.makedirs('../../rnap-cs/figures', exist_ok=True)\n",
    "os.makedirs('../../rnap-cs/PyTorch', exist_ok=True)\n",
    "os.makedirs('../../rnap-cs/PyTorch/lib', exist_ok=True)"
   ]
  },
  {
   "cell_type": "code",
   "execution_count": 2,
   "metadata": {
    "ExecuteTime": {
     "end_time": "2017-08-25T21:20:53.181586",
     "start_time": "2017-08-25T21:20:52.946448"
    }
   },
   "outputs": [],
   "source": [
    "%cp ../figures/* ../../rnap-cs/figures/"
   ]
  },
  {
   "cell_type": "code",
   "execution_count": 3,
   "metadata": {
    "ExecuteTime": {
     "end_time": "2017-08-25T21:35:15.008170",
     "start_time": "2017-08-25T21:35:14.572376"
    }
   },
   "outputs": [],
   "source": [
    "%cp ../src/my_keras_utilities.py ../../rnap-cs/src/\n",
    "%cp show_graph.py ../../rnap-cs/deliver/\n",
    "%cp Jview.py ../../rnap-cs/deliver/"
   ]
  },
  {
   "cell_type": "code",
   "execution_count": 5,
   "metadata": {
    "ExecuteTime": {
     "end_time": "2017-08-25T21:35:44.476827",
     "start_time": "2017-08-25T21:35:43.651953"
    },
    "collapsed": true
   },
   "outputs": [],
   "source": [
    "%cp ../PyTorch/ExercicioIntrodutorio.ipynb ../../rnap-cs/PyTorch/\n",
    "%cp tutorial-python.ipynb ../../rnap-cs/deliver/\n",
    "%cp tutorial-numpy.ipynb ../../rnap-cs/deliver/\n",
    "%cp numpy-reshape-broadcast-reducao.ipynb ../../rnap-cs/deliver/\n",
    "%cp Glossario.ipynb ../../rnap-cs/deliver/"
   ]
  },
  {
   "cell_type": "code",
   "execution_count": 6,
   "metadata": {
    "ExecuteTime": {
     "end_time": "2017-08-25T21:35:56.291785",
     "start_time": "2017-08-25T21:35:53.609863"
    },
    "collapsed": true
   },
   "outputs": [],
   "source": [
    "%cp Regressao-Linear.ipynb ../../rnap-cs/deliver/\n",
    "%cp Regressao-Linear-tensorflow.ipynb ../../rnap-cs/deliver/\n",
    "%cp softmax.ipynb ../../rnap-cs/deliver/\n",
    "%cp Regressao-Logistica-Softmax-Iris-2D-matricial.ipynb ../../rnap-cs/deliver/\n",
    "%cp Regressao-Logistica-Softmax-Iris-2D-matricial-Fronteira-Dinamica.ipynb ../../rnap-cs/deliver/\n",
    "%cp Regressao-Logistica-Softmax-Iris-2D-Keras.ipynb ../../rnap-cs/deliver/\n",
    "%cp Regressao-Logistica-Softmax-Iris-2D-Keras-Fronteira-Dinamica.ipynb ../../rnap-cs/deliver/\n",
    "%cp Regressao-Logistica-Softmax-MNIST-matricial.ipynb ../../rnap-cs/deliver/\n",
    "%cp Regressao-Logistica-Softmax-MNIST-Keras.ipynb ../../rnap-cs/deliver/\n",
    "\n",
    "%cp overfitting_regularization.ipynb ../../rnap-cs/deliver/\n",
    "%cp Activations.ipynb ../../rnap-cs/deliver/\n",
    "%cp Densas-2.ipynb ../../rnap-cs/deliver/\n",
    "%cp boston_housing.ipynb ../../rnap-cs/deliver/\n",
    "%cp neural_networks.ipynb ../../rnap-cs/deliver/\n",
    "%cp neural_networks_bias.ipynb ../../rnap-cs/deliver/\n",
    "%cp neural_networks_l2.ipynb ../../rnap-cs/deliver/\n",
    "%cp Regularization.ipynb ../../rnap-cs/deliver/\n",
    "%cp neural_networks_tf.ipynb ../../rnap-cs/deliver/\n",
    "%cp neural-net-mnist.ipynb ../../rnap-cs/deliver/\n",
    "%cp model_selection.ipynb ../../rnap-cs/deliver/"
   ]
  },
  {
   "cell_type": "code",
   "execution_count": 4,
   "metadata": {},
   "outputs": [
    {
     "name": "stdout",
     "output_type": "stream",
     "text": [
      "0_index.ipynb\r\n",
      "Activations_pytorch.ipynb\r\n",
      "Cats_and_dogs.ipynb\r\n",
      "cifar10-CNN-features.ipynb\r\n",
      "datasets-e-dataloaders.ipynb\r\n",
      "embedding-basics-pytorch.ipynb\r\n",
      "ExercicioIntrodutorio.ipynb\r\n",
      "Exercicio-MNIST-varias-camadas-Gabarito.ipynb\r\n",
      "Exercicio-MNIST-varias-camadas.ipynb\r\n",
      "Explorando-Convolucao-no-PyTorch.ipynb\r\n",
      "fully_convolutional.ipynb\r\n",
      "\u001b[0m\u001b[01;34mimages\u001b[0m/\r\n",
      "Introducao-CNN-PyTorch.ipynb\r\n",
      "Iris-dataset-2-ou-mais-camadas-fronteira-dinamica.ipynb\r\n",
      "lenet-mnist.ipynb\r\n",
      "\u001b[01;34mlib\u001b[0m/\r\n",
      "LinearRegressionIrisNumPy.ipynb\r\n",
      "LinearRegressionIrisOptimizer.ipynb\r\n",
      "LinearRegressionIrisPyTorch.ipynb\r\n",
      "LinearRegressionIris-Tensor.ipynb\r\n",
      "LinearRegressionIris-Tensor-Solucao.ipynb\r\n",
      "LogisticRegressionIris.ipynb\r\n",
      "Matrizes_Arrays_Tensores.ipynb\r\n",
      "MovieLens_dataset_pytorch.ipynb\r\n",
      "MovingMean_Momentum.ipynb\r\n",
      "PyTorch_Variaveis_Gradientes.ipynb\r\n",
      "RegressaoLinearDemo.ipynb\r\n",
      "Regressao-Logistica-MNIST-matricial.ipynb\r\n",
      "SistemaRecomendacao-pytorch.ipynb\r\n",
      "underfitting-overfitting-regularization.ipynb\r\n"
     ]
    }
   ],
   "source": [
    "%ls ../PyTorch/"
   ]
  },
  {
   "cell_type": "code",
   "execution_count": 11,
   "metadata": {
    "ExecuteTime": {
     "end_time": "2017-08-25T22:43:19.585008",
     "start_time": "2017-08-25T22:43:17.082956"
    }
   },
   "outputs": [],
   "source": [
    "%cp Explorando-Convolucao-no-Keras-usando-TensorFlow.ipynb ../../rnap-cs/deliver/\n",
    "%cp Introducao-CNN-Keras.ipynb ../../rnap-cs/deliver/\n",
    "%cp cifar10-CNN-features.ipynb ../../rnap-cs/deliver/\n",
    "%cp keras-lenet-mnist.ipynb ../../rnap-cs/deliver/\n",
    "%cp batch_norm_mnist_conv.ipynb ../../rnap-cs/deliver/\n",
    "%cp batch_norm_mnist_ioffe.ipynb ../../rnap-cs/deliver/\n",
    "%cp batch_norm_basics.ipynb ../../rnap-cs/deliver/\n",
    "%cp Models_ResNet50.ipynb ../../rnap-cs/deliver/\n",
    "%cp Models_InceptionV3.ipynb ../../rnap-cs/deliver/\n",
    "%cp Models_VGG19.ipynb ../../rnap-cs/deliver/\n",
    "%cp Keras-optimizers.ipynb ../../rnap-cs/deliver/\n",
    "%cp DenseAutoencoder.ipynb ../../rnap-cs/deliver/\n",
    "%cp ConvolutionalAutoencoder.ipynb ../../rnap-cs/deliver/\n",
    "%cp FiltrandoRuidoAutoencoder.ipynb ../../rnap-cs/deliver/\n",
    "%cp fully_convolutional.ipynb ../../rnap-cs/deliver/\n",
    "%cp fully_convolutional_numerico.ipynb ../../rnap-cs/deliver/\n",
    "%cp cats-and-dogs-1.ipynb ../../rnap-cs/deliver/\n",
    "%cp cats-and-dogs-2.ipynb ../../rnap-cs/deliver/\n",
    "%cp cats-and-dogs-3.ipynb ../../rnap-cs/deliver/\n"
   ]
  },
  {
   "cell_type": "code",
   "execution_count": 8,
   "metadata": {
    "ExecuteTime": {
     "end_time": "2017-08-25T21:38:40.961713",
     "start_time": "2017-08-25T21:38:40.426755"
    }
   },
   "outputs": [],
   "source": [
    "%cp MovieLens_dataset.ipynb ../../rnap-cs/deliver/\n",
    "%cp embedding-basics.ipynb ../../rnap-cs/deliver/\n",
    "%cp SistemaRecomendacao.ipynb ../../rnap-cs/deliver/\n",
    "%cp rossmann_sales_prediction_kaggle_embedding.ipynb ../../rnap-cs/deliver/\n"
   ]
  },
  {
   "cell_type": "code",
   "execution_count": 9,
   "metadata": {
    "ExecuteTime": {
     "end_time": "2017-08-25T21:39:02.725613",
     "start_time": "2017-08-25T21:39:02.328869"
    },
    "collapsed": true
   },
   "outputs": [],
   "source": [
    "%cp SimpleRNN_Numerical.ipynb ../../rnap-cs/deliver/\n",
    "%cp simplernn_lstm_gru_numpy.ipynb ../../rnap-cs/deliver/\n",
    "%cp SimpleRNN_MNIST.ipynb ../../rnap-cs/deliver/"
   ]
  },
  {
   "cell_type": "code",
   "execution_count": 10,
   "metadata": {
    "ExecuteTime": {
     "end_time": "2017-08-25T21:39:24.120568",
     "start_time": "2017-08-25T21:39:23.453872"
    }
   },
   "outputs": [],
   "source": [
    "%cp neural_style-1.ipynb ../../rnap-cs/deliver/\n",
    "%cp neural_style-2.ipynb ../../rnap-cs/deliver/\n",
    "%cp neural_style-3.ipynb ../../rnap-cs/deliver/\n",
    "%cp vae_celeba.ipynb ../../rnap-cs/deliver/\n",
    "%cp vae_mnist.ipynb ../../rnap-cs/deliver/\n"
   ]
  },
  {
   "cell_type": "code",
   "execution_count": 10,
   "metadata": {
    "ExecuteTime": {
     "end_time": "2017-08-11T15:52:43.978517",
     "start_time": "2017-08-11T15:52:43.971887"
    }
   },
   "outputs": [],
   "source": [
    "# datasets: creditcard.csv, glove.6B.50d.txt, rossmann_train.csv, rossmann_store_states.csv"
   ]
  },
  {
   "cell_type": "markdown",
   "metadata": {},
   "source": [
    "## zipando diretório para distribuição"
   ]
  },
  {
   "cell_type": "code",
   "execution_count": null,
   "metadata": {
    "collapsed": true
   },
   "outputs": [],
   "source": [
    "zip -r rnap-cs_final.zip rnap-cs/ -x *.git* --exclude=*.DS_Store* --exclude=*pycache*"
   ]
  }
 ],
 "metadata": {
  "anaconda-cloud": {},
  "kernelspec": {
   "display_name": "Python 3",
   "language": "python",
   "name": "python3"
  },
  "language_info": {
   "codemirror_mode": {
    "name": "ipython",
    "version": 3
   },
   "file_extension": ".py",
   "mimetype": "text/x-python",
   "name": "python",
   "nbconvert_exporter": "python",
   "pygments_lexer": "ipython3",
   "version": "3.6.1"
  },
  "toc": {
   "nav_menu": {
    "height": "512px",
    "width": "252px"
   },
   "number_sections": true,
   "sideBar": true,
   "skip_h1_title": false,
   "toc_cell": false,
   "toc_position": {},
   "toc_section_display": "block",
   "toc_window_display": false
  }
 },
 "nbformat": 4,
 "nbformat_minor": 1
}
