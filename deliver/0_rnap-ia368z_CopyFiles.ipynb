{
 "cells": [
  {
   "cell_type": "markdown",
   "metadata": {},
   "source": [
    "# Cópia para repositório ia368z"
   ]
  },
  {
   "cell_type": "code",
   "execution_count": 2,
   "metadata": {
    "ExecuteTime": {
     "end_time": "2017-10-24T11:50:06.854069",
     "start_time": "2017-10-24T11:50:06.848560"
    },
    "collapsed": true
   },
   "outputs": [],
   "source": [
    "import os\n",
    "os.makedirs('../../ia368z/src', exist_ok=True)\n",
    "os.makedirs('../../ia368z/deliver', exist_ok=True)\n",
    "os.makedirs('../../ia368z/data', exist_ok=True)\n",
    "os.makedirs('../../ia368z/figures', exist_ok=True)\n",
    "os.makedirs('../../ia368z/PyTorch', exist_ok=True)\n",
    "os.makedirs('../../ia368z/PyTorch/lib', exist_ok=True)"
   ]
  },
  {
   "cell_type": "code",
   "execution_count": 3,
   "metadata": {
    "ExecuteTime": {
     "end_time": "2017-10-24T11:50:09.374904",
     "start_time": "2017-10-24T11:50:09.255655"
    },
    "collapsed": true
   },
   "outputs": [],
   "source": [
    "%cp ../PyTorch/0_index.ipynb ../../ia368z/PyTorch"
   ]
  },
  {
   "cell_type": "code",
   "execution_count": 4,
   "metadata": {
    "ExecuteTime": {
     "end_time": "2017-10-24T11:50:14.730092",
     "start_time": "2017-10-24T11:50:13.215190"
    },
    "collapsed": true
   },
   "outputs": [],
   "source": [
    "%cp ../figures/* ../../ia368z/figures/"
   ]
  },
  {
   "cell_type": "code",
   "execution_count": 5,
   "metadata": {
    "ExecuteTime": {
     "end_time": "2017-10-24T11:50:14.971998",
     "start_time": "2017-10-24T11:50:14.732211"
    },
    "collapsed": true
   },
   "outputs": [],
   "source": [
    "%rm ../../ia368z/figures/capa-minicurso-SEE2017DL.png\n",
    "%rm ../../ia368z/figures/capacurso*\n"
   ]
  },
  {
   "cell_type": "code",
   "execution_count": 7,
   "metadata": {
    "ExecuteTime": {
     "end_time": "2017-10-24T11:51:00.426169",
     "start_time": "2017-10-24T11:51:00.309840"
    },
    "collapsed": true
   },
   "outputs": [],
   "source": [
    "%rm ../../ia368z/figures/capa_nm*"
   ]
  },
  {
   "cell_type": "code",
   "execution_count": 8,
   "metadata": {
    "ExecuteTime": {
     "end_time": "2017-10-24T11:51:08.792618",
     "start_time": "2017-10-24T11:51:07.992784"
    },
    "collapsed": true
   },
   "outputs": [],
   "source": [
    "%cp ../PyTorch/lib/__init__.py ../../ia368z/PyTorch/lib/\n",
    "%cp ../PyTorch/lib/cifar.py ../../ia368z/PyTorch/lib/\n",
    "%cp ../PyTorch/lib/pytorch_trainer.py ../../ia368z/PyTorch/lib/\n",
    "%cp ../PyTorch/lib/pytorch_utils.py ../../ia368z/PyTorch/lib\n",
    "\n",
    "%cp ../src/my_keras_utilities.py ../../ia368z/src/\n",
    "%cp show_graph.py ../../ia368z/deliver/\n",
    "%cp Jview.py ../../ia368z/deliver/"
   ]
  },
  {
   "cell_type": "code",
   "execution_count": 9,
   "metadata": {
    "ExecuteTime": {
     "end_time": "2017-10-24T11:51:12.342715",
     "start_time": "2017-10-24T11:51:11.670980"
    },
    "collapsed": true
   },
   "outputs": [],
   "source": [
    "%cp ../PyTorch/ExercicioIntrodutorio.ipynb ../../ia368z/PyTorch/\n",
    "%cp tutorial-python.ipynb ../../ia368z/deliver/\n",
    "%cp tutorial-numpy.ipynb ../../ia368z/deliver/\n",
    "%cp numpy-reshape-broadcast-reducao.ipynb ../../ia368z/deliver/\n",
    "%cp Glossario.ipynb ../../ia368z/deliver/"
   ]
  },
  {
   "cell_type": "code",
   "execution_count": 10,
   "metadata": {
    "ExecuteTime": {
     "end_time": "2017-10-24T11:51:16.697547",
     "start_time": "2017-10-24T11:51:15.429177"
    },
    "collapsed": true
   },
   "outputs": [],
   "source": [
    "%cp Regressao-Linear.ipynb ../../ia368z/deliver/\n",
    "%cp Regressao-Linear-tensorflow.ipynb ../../ia368z/deliver/\n",
    "%cp softmax.ipynb ../../ia368z/deliver/\n",
    "%cp Regressao-Logistica-Softmax-Iris-2D-matricial.ipynb ../../ia368z/deliver/\n",
    "%cp Regressao-Logistica-Softmax-Iris-2D-matricial-Fronteira-Dinamica.ipynb ../../ia368z/deliver/\n",
    "%cp Regressao-Logistica-Softmax-Iris-2D-Keras.ipynb ../../ia368z/deliver/\n",
    "%cp Regressao-Logistica-Softmax-Iris-2D-Keras-Fronteira-Dinamica.ipynb ../../ia368z/deliver/\n",
    "%cp Regressao-Logistica-Softmax-MNIST-matricial.ipynb ../../ia368z/deliver/\n",
    "%cp Regressao-Logistica-Softmax-MNIST-Keras.ipynb ../../ia368z/deliver/\n",
    "\n",
    "%cp model_selection.ipynb ../../ia368z/deliver/"
   ]
  },
  {
   "cell_type": "code",
   "execution_count": 11,
   "metadata": {
    "ExecuteTime": {
     "end_time": "2017-10-24T11:51:18.275837",
     "start_time": "2017-10-24T11:51:17.667508"
    },
    "collapsed": true
   },
   "outputs": [],
   "source": [
    "%cp ../PyTorch/ExercicioIntrodutorio.ipynb ../../ia368z/PyTorch\n",
    "%cp ../PyTorch/Matrizes_Arrays_Tensores.ipynb ../../ia368z/PyTorch\n",
    "%cp ../PyTorch/MovingMean_Momentum.ipynb ../../ia368z/PyTorch\n",
    "%cp ../PyTorch/PyTorch_Variaveis_Gradientes.ipynb ../../ia368z/PyTorch\n",
    "%cp ../PyTorch/RegressaoLinearDemo.ipynb ../../ia368z/PyTorch"
   ]
  },
  {
   "cell_type": "code",
   "execution_count": 12,
   "metadata": {
    "ExecuteTime": {
     "end_time": "2017-10-24T11:51:21.064892",
     "start_time": "2017-10-24T11:51:20.076254"
    },
    "collapsed": true
   },
   "outputs": [],
   "source": [
    "%cp ../PyTorch/LinearRegressionIrisNumPy.ipynb ../../ia368z/PyTorch\n",
    "%cp ../PyTorch/LinearRegressionIrisOptimizer.ipynb ../../ia368z/PyTorch\n",
    "%cp ../PyTorch/LinearRegressionIrisPyTorch.ipynb ../../ia368z/PyTorch\n",
    "%cp ../PyTorch/LinearRegressionIris-Tensor.ipynb ../../ia368z/PyTorch\n",
    "%cp ../PyTorch/LogisticRegressionIris.ipynb ../../ia368z/PyTorch\n",
    "%cp ../PyTorch/LogisticRegressionMNIST.ipynb ../../ia368z/PyTorch/\n",
    "%cp ../PyTorch/datasets-e-dataloaders.ipynb ../../ia368z/PyTorch\n",
    "%cp ../PyTorch/LogisticRegressionMNIST-SGD.ipynb ../../ia368z/PyTorch"
   ]
  },
  {
   "cell_type": "code",
   "execution_count": 13,
   "metadata": {
    "ExecuteTime": {
     "end_time": "2017-10-24T11:51:23.090851",
     "start_time": "2017-10-24T11:51:21.773716"
    },
    "collapsed": true
   },
   "outputs": [],
   "source": [
    "%cp ../PyTorch/Activations_pytorch.ipynb ../../ia368z/PyTorch\n",
    "%cp ../PyTorch/Iris-dataset-2-ou-mais-camadas-fronteira-dinamica.ipynb ../../ia368z/PyTorch/\n",
    "%cp ../PyTorch/underfitting-overfitting-regularization.ipynb ../../ia368z/PyTorch\n",
    "\n",
    "#%cp ../PyTorch/Exercicio-MNIST-varias-camadas.ipynb ../../ia368z/PyTorch\n",
    "%cp ../PyTorch/optimizer.ipynb ../../ia368z/PyTorch/\n",
    "%cp ../PyTorch/MNIST_neuralnet.ipynb ../../ia368z/PyTorch/\n",
    "%cp ../PyTorch/boston_housing.ipynb ../../ia368z/PyTorch\n",
    "%cp ../PyTorch/Predict_Boston_House_Prices.ipynb ../../ia368z/PyTorch/\n",
    "%cp ../PyTorch/batch_norm_basics_pytorch.ipynb ../../ia368z/PyTorch/\n",
    "%cp ../PyTorch/credit_card_fraud_detection_kaggle_pytorch.ipynb ../../ia368z/PyTorch/\n",
    "%cp ../PyTorch/AnaliseSentimento_IMDB_bagwords.ipynb ../../ia368z/PyTorch/\n",
    "%cp ../PyTorch/autoencoder.ipynb ../../ia368z/PyTorch/\n"
   ]
  },
  {
   "cell_type": "code",
   "execution_count": 14,
   "metadata": {
    "ExecuteTime": {
     "end_time": "2017-10-24T11:51:25.228282",
     "start_time": "2017-10-24T11:51:24.597398"
    },
    "collapsed": true
   },
   "outputs": [],
   "source": [
    "%cp ../PyTorch/Explorando-Convolucao-no-PyTorch.ipynb ../../ia368z/PyTorch\n",
    "%cp ../PyTorch/Introducao-CNN-PyTorch.ipynb ../../ia368z/PyTorch\n",
    "%cp ../PyTorch/cifar10-CNN-features.ipynb ../../ia368z/PyTorch\n",
    "%cp ../PyTorch/lenet-mnist.ipynb ../../ia368z/PyTorch\n",
    "%cp ../PyTorch/Models_VGG19.ipynb ../../ia368z/PyTorch/\n"
   ]
  },
  {
   "cell_type": "code",
   "execution_count": 15,
   "metadata": {
    "ExecuteTime": {
     "end_time": "2017-10-24T11:51:34.762730",
     "start_time": "2017-10-24T11:51:34.452862"
    },
    "collapsed": true
   },
   "outputs": [],
   "source": [
    "%cp ../PyTorch/fully_convolutional.ipynb ../../ia368z/PyTorch\n",
    "%cp ../PyTorch/Cats_and_dogs.ipynb ../../ia368z/PyTorch\n"
   ]
  },
  {
   "cell_type": "markdown",
   "metadata": {},
   "source": [
    "## zipando diretório para distribuição"
   ]
  },
  {
   "cell_type": "code",
   "execution_count": 14,
   "metadata": {
    "ExecuteTime": {
     "end_time": "2017-10-20T22:39:31.031655Z",
     "start_time": "2017-10-20T22:39:31.027554Z"
    },
    "collapsed": true
   },
   "outputs": [],
   "source": [
    "#zip -r ia368z_final.zip ia368z/ -x *.git* --exclude=*.DS_Store* --exclude=*pycache*"
   ]
  }
 ],
 "metadata": {
  "anaconda-cloud": {},
  "kernelspec": {
   "display_name": "Python 3",
   "language": "python",
   "name": "python3"
  },
  "language_info": {
   "codemirror_mode": {
    "name": "ipython",
    "version": 3
   },
   "file_extension": ".py",
   "mimetype": "text/x-python",
   "name": "python",
   "nbconvert_exporter": "python",
   "pygments_lexer": "ipython3",
   "version": "3.6.0"
  },
  "toc": {
   "colors": {
    "hover_highlight": "#DAA520",
    "running_highlight": "#FF0000",
    "selected_highlight": "#FFD700"
   },
   "moveMenuLeft": true,
   "nav_menu": {
    "height": "512px",
    "width": "252px"
   },
   "navigate_menu": true,
   "number_sections": true,
   "sideBar": true,
   "skip_h1_title": false,
   "threshold": 4,
   "toc_cell": false,
   "toc_position": {},
   "toc_section_display": "block",
   "toc_window_display": false
  }
 },
 "nbformat": 4,
 "nbformat_minor": 1
}
