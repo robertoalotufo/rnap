{
 "cells": [
  {
   "cell_type": "markdown",
   "metadata": {},
   "source": [
    "# Regressão Logística usando Softmax MNIST prog matricial\n",
    "\n",
    "O objetivo deste notebook é ilustrar o uso do mesmo código matricial desenvolvido para a classificação das Flores Íris, porém agora com o problema de classificação de dígitos manuscritos utilizando o dataset MNIST.\n",
    "\n",
    "Fonte: Este exemplo foi inspirado no blog : [Gist Softmax por Arthur Juliani](https://medium.com/@awjuliani/simple-softmax-in-python-tutorial-d6b4c4ed5c16#.98wxaxxsc)"
   ]
  },
  {
   "cell_type": "code",
   "execution_count": 1,
   "metadata": {
    "collapsed": false
   },
   "outputs": [
    {
     "name": "stderr",
     "output_type": "stream",
     "text": [
      "Using Theano backend.\n"
     ]
    }
   ],
   "source": [
    "import numpy as np\n",
    "import matplotlib.pyplot as plt\n",
    "from IPython.display import display\n",
    "%matplotlib inline\n",
    "from keras.datasets import mnist\n",
    "\n",
    "import pandas as pd\n",
    "\n",
    "import sys,os\n",
    "sys.path.append(os.path.abspath('../src/')) # para importar nbpil\n",
    "import nbpil"
   ]
  },
  {
   "cell_type": "code",
   "execution_count": 2,
   "metadata": {
    "collapsed": false
   },
   "outputs": [],
   "source": [
    "def oneHotIt(Y,k):\n",
    "    Y = Y.reshape(-1,1)\n",
    "    i = np.arange(k).reshape(1,k)\n",
    "    Y_oh = (Y == i).astype(int)\n",
    "    return Y_oh\n",
    "\n",
    "def softmax(Z):\n",
    "    # computes softmax for all samples, normalize among classes (columns)\n",
    "    # input Z: scores; shape: samples rows x classes columns\n",
    "    # output S: same shape of input\n",
    "    EZ = np.exp(Z)\n",
    "    S = EZ / EZ.sum(axis=1,keepdims=True) # normaliza nas classes - colunas\n",
    "    return S\n",
    "\n",
    "def predict(X,W):\n",
    "    S = softmax(X.dot(W))\n",
    "    # escolhe a maior probabilidade entre as classes\n",
    "    Y_hat = np.argmax(S,axis=1) # mantém o resultado como matriz bidimensional\n",
    "    return Y_hat\n",
    "\n",
    "def getAccuracy(X,W, Y):\n",
    "    Y_hat = predict(X,W)\n",
    "    accuracy = sum(Y_hat == Y)/(float(len(Y)))\n",
    "    return accuracy"
   ]
  },
  {
   "cell_type": "markdown",
   "metadata": {},
   "source": [
    "## Carregamento dos dados do MNIST, disponível no `Keras`.\n",
    "Este exemplo utiliza 500 amostras de treinamento e 100 amostras para testes.\n"
   ]
  },
  {
   "cell_type": "code",
   "execution_count": 3,
   "metadata": {
    "collapsed": false
   },
   "outputs": [
    {
     "name": "stdout",
     "output_type": "stream",
     "text": [
      "X.shape: (1000, 784)\n",
      "Y.shape: (1000,)\n",
      "Y_oh.shape: (1000, 10)\n"
     ]
    },
    {
     "data": {
      "text/html": [
       "<head><style>                table, th, td { border: 0px solid black;                text-align: center;border-collapse: collapse;}</style></head>                <body><table border=\"0\"><tr><td>                    <table><tr><td><img src='data:image/png;base64,iVBORw0KGgoAAAANSUhEUgAAABwAAAAcCAAAAABXZoBIAAABAElEQVR4nGNgGMyAWUhIqK5jvdSy/9/rGRgYGFhgEnJsVjYCwQwMDAxPJgV+vniQgYGBgREqZ7iXH8r6l/SV4dn7m8gmCt3++/fv37/Htn3/iMW+gDnZf/+e5WbQnoXNNXyMs/5GoQoxwVmf/n9kSGFiwAW49/11wynJoPzx4YIcRlyygR/+/i2XxCWru+vv32nSuGQFYv/83Y3b4p9/fzpAmSyoMnohpiwM1w5h06Q+5enfv39/bcMiJVF09+/fv39P+mFKiTtd/fv3799jgZiBJLT69t+/f/8eDuDEkDJf8+jv379/v7Ryo4qzMDAwMAQGMjBc3/y35wM2V1IfAABFF16Aa0wAOwAAAABJRU5ErkJggg=='/></td></tr>                    <tr><td align='center'>5</td></tr></table></td><td>                    <table><tr><td><img src='data:image/png;base64,iVBORw0KGgoAAAANSUhEUgAAABwAAAAcCAAAAABXZoBIAAAA/0lEQVR4nGNgGHhgPP/vfCMccgbv/vz58xa7nNnjv3/ev/xjyYYpxWXz4M/fP6dC/vytgggwIUnOPCDDwMBgxHOQQRdD0tibkfFQKeOL85OYGLG5ZTOPd6UoA8Pfz2gOVlv69+WFEAj775+lKHLsm/58cBeWgUkeRpG0/PPHHs5Blzz2dx+C8//vEWTX+hj834SQ/Pf/ArLG0D/PJOHWt//dxYMqeR8u1/znoTsDquREKMtg6Z+1DKgg7O9DCKPo3d9FaHIMoX9+TjKQDd308O/95RaYkn/+PL3+58+fI03oUgwMMsf//Pn758/LiZhSDAwMkg1//v7pVcUqR1cAAKxwbkTVIzd2AAAAAElFTkSuQmCC'/></td></tr>                    <tr><td align='center'>0</td></tr></table></td><td>                    <table><tr><td><img src='data:image/png;base64,iVBORw0KGgoAAAANSUhEUgAAABwAAAAcCAAAAABXZoBIAAAA1ElEQVR4nGNgGArA+YU6AwMDAwMTAwMDg10gqqTpGQaEpEMQihyTohwjgndnMYqk9L9FSDqZUE2dw3AbIaknjirJz7AbIenFiSInrsjwFCGpznAVWbJH/NZnCIuFgYGBgeE0XIbPI8aNofkDsqQQAwODPpOzDFs00/eTP1nOQlUyMjAwTEv/8IiBQY/xz7drJ88cfPlEkI0BoTProRUDA8OjjddOMDAwMKSJ3mPACVb+64QxmbBIb8AnyYBHklEVj+R/JjySDJb4jMVj5/b/OB1IJQAAg3ksR3QPgSAAAAAASUVORK5CYII='/></td></tr>                    <tr><td align='center'>4</td></tr></table></td><td>                    <table><tr><td><img src='data:image/png;base64,iVBORw0KGgoAAAANSUhEUgAAABwAAAAcCAAAAABXZoBIAAAAnElEQVR4nGNgGPyg5u9/e1xyCV9+/7WDMJkwJOXZcRvq8ub3ZXkO7HI2T37/jsOlcfbfv3txyYn8/f3aCYecwtm/v+twacz4/XcHPw65gA+/D4rjMvTv37/zcRk6/ffv3+o45Azu/v69BpfGV79/H+HBJfn39+9IXHLz///9K4/Lxid/v/fgCHAGh99/76CLYcYnNskbx/ApoyoAAGeYO0QsY6cRAAAAAElFTkSuQmCC'/></td></tr>                    <tr><td align='center'>1</td></tr></table></td><td>                    <table><tr><td><img src='data:image/png;base64,iVBORw0KGgoAAAANSUhEUgAAABwAAAAcCAAAAABXZoBIAAAA1ElEQVR4nN3QPwtBYRQG8EMU0e0uZLIw+QKXRZlMGC0GX8CglE0pk0VxPwQmE5YrJYPVIjYMlImSwXNiMOi97319AM/6O6fzh+g/Y5hr5mrRNByseAZba4D7EnlSN8wy3uAYXJOwDEw0ohKwD9mtxehqRLQBCnZr8GPkJ/Ll79y0m37GiIjiK2AQsGMYiIbryyvjmZO20U9gAIcjTg43GhfethOROToO+En6xRUlZhnSjd+I6BY7xVIRY79w4XapR9IOSTWWYSWUqE0xlH771R7UrULefm5U2pxVCt0AAAAASUVORK5CYII='/></td></tr>                    <tr><td align='center'>9</td></tr></table></td><td>                    <table><tr><td><img src='data:image/png;base64,iVBORw0KGgoAAAANSUhEUgAAABwAAAAcCAAAAABXZoBIAAABD0lEQVR4nGNgGGSAEY3Py+Mt1vsTq1LF6Rf+/PkzCZuUxowvf/4+uPznhQaGFP+M93/+/Lkhr/rnjw2GZMKfP3/+3JRlQJJkgkuGMjA8WO36mAHJTBY4KzVt151XDAwM4ti9BQFzEcayoEjkcTP+12U4dhxTC5fp5r9////9+0QZQ4rV7PGfz09Wffrz53kpG5ocm9+fP7XWDEIX/vz58yecHVVf+58/WwQYRE///d649s+fHU6GhnA55o4/H7MEGUxP/LnhyMDnsfjjnz/34ZKZfz5FCHmu+vKnTpaBgYGBIXLLFlW45PM/X8/e+PPnTw0zFo+f//Pnz59NJSqovoZGNm+A0at5739h0Ta4AABroXIjERrLHgAAAABJRU5ErkJggg=='/></td></tr>                    <tr><td align='center'>2</td></tr></table></td><td>                    <table><tr><td><img src='data:image/png;base64,iVBORw0KGgoAAAANSUhEUgAAABwAAAAcCAAAAABXZoBIAAAAh0lEQVR4nGNgGGAw8f9leVxyCm///nFHFmBCYr8+hKYaWfLrQzySAvp4JLnkGBhMcbqo9u+fPzm4JBnQJJlQJJkYGZG5LCiS//7jdBAGIEGSiZHRDqfSv3/+/NHCpXMGAwNDGi7JG/hcwHDr79//yjh0Mlz9//8fLmMZZqHw0CSvXcdrKx0AAOciI63Ko1kqAAAAAElFTkSuQmCC'/></td></tr>                    <tr><td align='center'>1</td></tr></table></td><td>                    <table><tr><td><img src='data:image/png;base64,iVBORw0KGgoAAAANSUhEUgAAABwAAAAcCAAAAABXZoBIAAABEklEQVR4nM2RMS+DURiFn/ullKXC1KWJyVId2ARBQpqUHyBRC0NjsPsPNktj0F9QEgYiIvEDJG3CYhEpMTBI2qEk5+YzfP1uuD6bwVnum3ve877n5IV/jLH8Vmittfao36fyuw8tWUmSahmPPJEUk5oGIOXIixIvNRMyNZewMZXLZQEyLame9pR6jN7iMDx9JFtevZTk+4mwdtuVdD2IN3Z0fRFmQmjvnHY9TeE+jnLs/gJXGWOMCYwxKyUXIC5u5svn78DmdrJRAIYkpwx8svizv2+5536j/UUZYfZMOYCR8pvUWXAeAWiOU+0AS5MhV9XD78pm71Kyz/sD/sqJA0nSXWOvkBAgXXlVvZL9Jd4f4xPJmHJ5CeNkqwAAAABJRU5ErkJggg=='/></td></tr>                    <tr><td align='center'>3</td></tr></table></td><td>                    <table><tr><td><img src='data:image/png;base64,iVBORw0KGgoAAAANSUhEUgAAABwAAAAcCAAAAABXZoBIAAAAc0lEQVR4nGNgGMyA1f4obkmRf88kkPlMqNIS+CQZGfBI/ufEI8lgjFPyz0cGZZySHw6jGoNuLF5JYXySfrgl9+Mz9hEDqzxOyT8MjOy43Xft3zTckhM+cuA0loHh/y88knwBuI199l0Dt85Dt77j1kktAADVQhZzhi0BcQAAAABJRU5ErkJggg=='/></td></tr>                    <tr><td align='center'>1</td></tr></table></td><td>                    <table><tr><td><img src='data:image/png;base64,iVBORw0KGgoAAAANSUhEUgAAABwAAAAcCAAAAABXZoBIAAAA7klEQVR4nM3QsUtCURiG8QdRFIKEoCHIGtouSM4SRn9CixE0REtjS4tu0tLm4tIS4tLeFqE0FNjukIqLDrchCBq85H1Pt6Gl7vGs4bed78cDHwcWZtodgMRcqxeHzu4y+Cg78UH39rJ0twJw+NbftvHF7AD0ov2f95+DplEGKGx8ZezwIuytwtKNnlKW5V6DXeBKY7vLD1UHzj91GqfksYlMt5pee55dW92RZPpSdyLfsoMw8PcKbckonGzFsDM6AbxHGakVL89yAKV3lT1v2T4WyDbMYC4AVOSvu2xzFNac4UDN2ObXxze5dYb/N9+FeFNxEamP7gAAAABJRU5ErkJggg=='/></td></tr>                    <tr><td align='center'>4</td></tr></table></td><td>                    <table><tr><td><img src='data:image/png;base64,iVBORw0KGgoAAAANSUhEUgAAABwAAAAcCAAAAABXZoBIAAAA5klEQVR4nGNgoD9gRGJr+aSevsAw4Rc2demf/v379++fE1ZDhF78+/fv3793blhlM778e/Dv379e7A44/+/Sv3//lLBLhpz79+/fP00cbpe4+O/fv9VwLguyXLSeDgMDw1Fs2jSu/fr3D8VOJoSkpiLEmAKsNuZ9+/cPp52TbgswsEzmw+FYBgYGxoZ/t+VxSbL/+3dNBpdk179/JehiwhujGBgYGBgkP2AJviX/rturMBhHnvv3r5sDXdLy6L9/97Z8/Pfv71VuTLt6Mv/9+/fv3783yIIwf5aw8zAYRDJ8xB7TdAQABFdhZWAfWxoAAAAASUVORK5CYII='/></td></tr>                    <tr><td align='center'>3</td></tr></table></td><td>                    <table><tr><td><img src='data:image/png;base64,iVBORw0KGgoAAAANSUhEUgAAABwAAAAcCAAAAABXZoBIAAAAm0lEQVR4nGNgGN5AXqPx1av5WKVcpr3/9/fv3+tYpOac/Pfv38dpSRyYUsKz/r05Hawuh9XICX8n8mB3B1fjPT9/LMYxMDAwMLT9XY5LioHh/z8/nHIMJ/8+csUuY87GINTw96MmFinJs69jGBhE/v61wiL5/GsOAwNDy9+dfFgkK7/++/fv5r/7RlitLFn68uWrLerMuJ07tAEA5ps3qzSdZC8AAAAASUVORK5CYII='/></td></tr>                    <tr><td align='center'>5</td></tr></table></td><td>                    <table><tr><td><img src='data:image/png;base64,iVBORw0KGgoAAAANSUhEUgAAABwAAAAcCAAAAABXZoBIAAABDklEQVR4nM2RvS9DYRjFT3030TChi6TuYBJKkFgkNWlCYiHRWfwHBglmTf8AH4lRrIauV0fEjbSTNgaLRCQGHSiuH8N1w1tvN4MzPXl/z3lzTh7pnykiqXOpNhbLFG4l3R1f1C1k+ZZfWk8YzusB6aEkqTzYnZTm8j+dTtpx4sEYu4HdRhGW4Xncjtp2niBpZ6kDeFntsLKJN6CWbrXCXFDmfGPIAqfy919dcz0W3D86u/8OcNJkT5U5BVizQ7UUgD1J0m+/70mqmDC+uRgMzcOSf2bs9xXpkiT1bgNF87MjGIlK0a1H+KhOm3AF8FzXA6jO1MVIHIbnfs1Oho+RcGhfSFXmdSW3fNmg45/pE8oAf9wKlFhvAAAAAElFTkSuQmCC'/></td></tr>                    <tr><td align='center'>3</td></tr></table></td><td>                    <table><tr><td><img src='data:image/png;base64,iVBORw0KGgoAAAANSUhEUgAAABwAAAAcCAAAAABXZoBIAAAA+UlEQVR4nNWPoUtDYRTFTxC0CIJhQcS0l8aYGPSF8TBOhWX/gxXZUxSbQcOKzVWbJmGMLQ/TXDVtZbyhbGEWnwtazvEzCML7tq+teNLl/rjnngPMTV704mQ3b6w7UKotPq86LBvU2a7j0Cd16MwiFV1hrthcc7Gnz346uVn4m4rb5uHLAVfywPsQQHkdp7bp8qPRDnByHEnGfn1ADdLI1chJV52N5OERh5fw7jW+2wzUTcICeYFUg3F1MdOLq0nXcxJokwF88tp6WVENuZFCeJHCqSrGAN8m+7o0yH/YTXzSL8Wkxns2ArYmFEnaWX613xJ5Gwaz2P/QDwv6bXmT2FBqAAAAAElFTkSuQmCC'/></td></tr>                    <tr><td align='center'>6</td></tr></table></td><td>                    <table><tr><td><img src='data:image/png;base64,iVBORw0KGgoAAAANSUhEUgAAABwAAAAcCAAAAABXZoBIAAAAbElEQVR4nGNgGMSAccUnGZySXE/+paAIMCGxv91iEMMpyTCVQQO3pbL/fkji1MnAyOaHW/I/AxtuSTRAgiQjPsn/+I29hE/yLpkOYmBgxyfphVPy5TU8xv76zuCK29gLDDy4nadwPAO3JNUAAMpqE3FnHzNvAAAAAElFTkSuQmCC'/></td></tr>                    <tr><td align='center'>1</td></tr></table></td><td>                    <table><tr><td><img src='data:image/png;base64,iVBORw0KGgoAAAANSUhEUgAAABwAAAAcCAAAAABXZoBIAAAA5UlEQVR4nN3PMUuCURjF8aODg1AoOdjk+CbOTg0SRps0tNnukNHi1BcIHFwbaowgGl3EoJBGwaFFCsrKT6BBGPW/5CLF+3KfL+CZ7uV3H+5zpKVJLHJvJPL7eix4Xpbq1z8A38MIrPfG4ymuD8B72LZfAQjWgq036ITxBvg8LEo6hedMyHY+YLQpSWpDKzzYhfuyJKWrk8XpP3uDu6wk6Rgesp4iklSZ8XVgmBzULDv5dS4wLNFx1ON+S9ZwFym/rVzBkTGnPDxZy2ycM8xZeAnRhn9/FFZ1dmsNNnmxGkpldk3zZg5Mtl9waa8xrgAAAABJRU5ErkJggg=='/></td></tr>                    <tr><td align='center'>7</td></tr></table></td><td>                    <table><tr><td><img src='data:image/png;base64,iVBORw0KGgoAAAANSUhEUgAAABwAAAAcCAAAAABXZoBIAAAA+klEQVR4nGNgGMQgdsnlX78O8WOTEtnw9+2WLZ//XcMmeeZNuxADg8anP3WYcq5/lzMwMDAwNP27DxdjgjFY76xgYGBgYFjDwMGHoZODC0Kr//uXgaHzxzcIfe8agyqGJAz8/o1gY0iyczB8xnQuA9xOCwYGEecadQwpduWkf/8uzD3/8N/HBQwMjDBhTjFjcycGTi0GBoa/TxgWbH2L8C5n57V///79+/Dk179/s4zQjNv57/vmSc42Mgw3/t3hQbfr/z1DBgYGBpbOLy/Q9TEw/DvHwsDAwLH533cHTA/c+DdvY1PC1T/HDbF5r/n7z58/V3tgkxpEAACefFmwfI1N8AAAAABJRU5ErkJggg=='/></td></tr>                    <tr><td align='center'>2</td></tr></table></td><td>                    <table><tr><td><img src='data:image/png;base64,iVBORw0KGgoAAAANSUhEUgAAABwAAAAcCAAAAABXZoBIAAAA90lEQVR4nGNgGAKA+/RTBQYGBgYGFjQJKVGG947GN99iSOrmyjOoyTF0aDE+ZcMwLu/v37/fFj75+/dfDIZcw9e/8zpFGQxe/n3JgSHZ/e++JAODyqp/X7IwHWl+5e9CbqlNf98UYvEB++y/TwLu//2bi9V/vX///v33d5YsVsm8v3///tushlWOefW/f/82I4sgBcKKoP8MDP+x6pOq/vf39Jy/J7BKxv79V8kb+3ceNjmH9399OBRu/61DFmSC0q78h7b89eFnfINN8v///6wBE5nmTMNm7My/Kw/8/euL1TkMBX///nvTyIldUrDs835sAU4LAABuqmGniXwGlwAAAABJRU5ErkJggg=='/></td></tr>                    <tr><td align='center'>8</td></tr></table></td><td>                    <table><tr><td><img src='data:image/png;base64,iVBORw0KGgoAAAANSUhEUgAAABwAAAAcCAAAAABXZoBIAAAAw0lEQVR4nGNgoA9QWvlLA5ec1ae7/YI45Ly/93Ph0qf6dQcTLjmOAyf4cDqm+7sMTjn259txyjHUfjbCLXl4B24529+aDAwMDtpYJWdcYmdIePvvezY2yV8hDGz3Q3jDv3lgymn/C2CwmM7AwDD5IKak8z9NBl5hBgYGrb8wIRYk6ScMnyEUDCCCkpERyrD/jCn5/z+EZs1YjGmn5NNMBgYGBtY5V0WweCX7WyafYfzNi9JY5BgYsr/9/fuhiQ2r3OAAAO+sNJqmm38ZAAAAAElFTkSuQmCC'/></td></tr>                    <tr><td align='center'>6</td></tr></table></td><td>                    <table><tr><td><img src='data:image/png;base64,iVBORw0KGgoAAAANSUhEUgAAABwAAAAcCAAAAABXZoBIAAAAw0lEQVR4nGNgGKZAKPPx379V2OUsj//98+fPn/nY5EQu/3kxw3P5n+tsWCSP/tnGwMCg+vqzPlSACUnyO8NGBgYGBoZPb6ACLEiSjIzvOZQTjF9EPcVi7Is/J07++ROC3bFXv/75++eTFnZJBouQv38W4JBjYND9+0cNicuEIqnDxMiAU/L7vwO/cJmqufkFDrcyMPA//FOM0zkz/yzBKefy9bM/LjmFt1+DcMlxTvmzEqehWX+PsOOSM3vSKINTI1YAAAjUQy/e2JANAAAAAElFTkSuQmCC'/></td></tr>                    <tr><td align='center'>9</td></tr></table></td><tr><tr><td>                    <table><tr><td><img src='data:image/png;base64,iVBORw0KGgoAAAANSUhEUgAAABwAAAAcCAAAAABXZoBIAAABAElEQVR4nGNgGAxAbZ8kjMnEwMDAK8mFJOlll8KCxG35U4jEs/3zRwVJJwNDvT9CUhzBhEjyzDeBCfAUMTCEIUneZ2DgaxSECqiaobqPufbPnz8pUI7ULYSdDAwMDAz8N/78OS8MYRv+QUiyMDAwMHw8qsKgK/uWgYEtnSEUSRPES8fjGRgsL1hZ8dQwMDAw3HiPau2Sv3///v379z+ESkbxCkPv/////////w9CWaAYCwN3/m/9WMeADgz//Pnz6kwklDUbVZJv3oHpunBlDwUxdCPM+COO4iAE+PCCgYGhjQVdGArMn/7584cbhySD6Ys/f+xxSTJEnWvGqZPmAADYhmA75IA5CwAAAABJRU5ErkJggg=='/></td></tr>                    <tr><td align='center'>4</td></tr></table></td><td>                    <table><tr><td><img src='data:image/png;base64,iVBORw0KGgoAAAANSUhEUgAAABwAAAAcCAAAAABXZoBIAAABDklEQVR4nM2PMUtCURiG33sSJ8OiwcHBJTCioamlQaE/0NAo1/MHJFyCxpbm/kJbDQkObbfbUltO1iAmTg6JQWBI8PIdW252zr23VXq38z2c730+4D+kKvPKX0x3KJ3jTDq7I4UsJcladfhJdl/S4OEthaSvf6C1vHYJKAAeVDRRv+zCzIZjY2ZTGBPfKWQATTag4536Q6bBNvRTI4PcYwwOKKcANgsAELpCu6tqBQBeAQCesoV2btYth1zWEQpJWv2uUEg2F4+tMfsF9873BWtvTI7erJ/3IhL1tUT65WjsAQAOrvN4mLd7J1527+u81XOuRGVCIUlh4COR4pmQ5Ogqn2QA6s/s+vupaJn5Bun4eClMjvn5AAAAAElFTkSuQmCC'/></td></tr>                    <tr><td align='center'>0</td></tr></table></td><td>                    <table><tr><td><img src='data:image/png;base64,iVBORw0KGgoAAAANSUhEUgAAABwAAAAcCAAAAABXZoBIAAAAxklEQVR4nGNgGMpAfsKvf8twyCV9PJNY91cDmxRb5fdWAQajv9LYJNP/5jIwMFQ8xyYn9GolCwOD/B1skizXrwgxMDAc/teNRTLirz0DA0PU70/iWCS3X2NlYJB4+bcVm5X/ahgY+I7+ncqHRc75ny6D+4N/t/ixadT9du3xj4//87HJMTDEHVzu92gvB3ZJBgbGiT9NcckxOPxtwinH8OwxD045k18ZOOU4zt3nximZ+VcXt43XzrOgiTAhmEKz/+DWSSIAAPwpPX3qfinRAAAAAElFTkSuQmCC'/></td></tr>                    <tr><td align='center'>9</td></tr></table></td><td>                    <table><tr><td><img src='data:image/png;base64,iVBORw0KGgoAAAANSUhEUgAAABwAAAAcCAAAAABXZoBIAAAApklEQVR4nGNgGPyg8l8HTjneZ39/JOOQYyn7+/ehFg5J279//3rhkFM49/fvLk4ckpf//n3viss5//7+bcUl1/f/7y4OHHJTn/47L4pDzuzp33+ZuAyd8e/fVSkccgW///7FJSd75e+vqTjkVK79/duJy0Lvv3//WqMKMcFZQgwMB67h0vng798QXHLar//WMaKJwY214GX4+R+XToaHrw1xylEXAAChnz63S77RVwAAAABJRU5ErkJggg=='/></td></tr>                    <tr><td align='center'>1</td></tr></table></td><td>                    <table><tr><td><img src='data:image/png;base64,iVBORw0KGgoAAAANSUhEUgAAABwAAAAcCAAAAABXZoBIAAAAzElEQVR4nGNgoAtYds8ct+TRf7dYccnJ/vz3jxPOY0KVFGBl2PATh0aWJf/+heIyddI/FEkUY1OTcbs08ce/Myg6WSAUj766aZggQ/6221g0ad749+/9TFUWBWw6r+urMnx6xMDAwMDAjdNa4Wf/1uFwLQPD2/sMB3BKMjAwPMcj+f8VVklVMzNdqf4HoqLyi/xQNbBp9n759+/Hm3///r18/68LxSviE8IZGBie/796kYGBgYFhEYrGwn///m12wBHNChe3J2KXGVQAAFcfRo9Hh5C0AAAAAElFTkSuQmCC'/></td></tr>                    <tr><td align='center'>1</td></tr></table></td><td>                    <table><tr><td><img src='data:image/png;base64,iVBORw0KGgoAAAANSUhEUgAAABwAAAAcCAAAAABXZoBIAAABEklEQVR4nMWRPUsDURRER6ME8WNJIwpCIqxghCRqFzt7rcRqq5RmSyslfhTpLGwlf0BQEAlWEkUtBIv8APGxxk7ESliL4EELk7jBV+tUl3u4MwNX+metePufl968hQzMnb0DYCqJWDfK+lV+tJ3pgj7AozHGhABFSVJvm57quZxxXdfd+J2YGJlOfU954G3VWrh/rwGsWdliFeBhzMYKTYCdnAVlt5pAeDxpSUvfQzMM122WJeDK3mQwZ6A2bmXygYthO0s/wfmoJCk5c1Kv168XJPVJkmaPJiQz9aLdmLykJBVuO4dDBwCvQfDR/stmxDZ+SFSlYjwaulRr7Rt5x3Fav+rpOC+nyqrcKLizV/4rfQGHIpJ83K7MnQAAAABJRU5ErkJggg=='/></td></tr>                    <tr><td align='center'>2</td></tr></table></td><td>                    <table><tr><td><img src='data:image/png;base64,iVBORw0KGgoAAAANSUhEUgAAABwAAAAcCAAAAABXZoBIAAAAzklEQVR4nGNgGNpA7qkOjMmEEFWTY2BgYGCY/uszpo7AT4UMDAwMlj8bsRi3ZhEDAwMDQ8dfPbgQwljrFwwMDAwMUowMmJJSHP8ZGBgYGIK//cCUfPaem52BgYGB89Zddkw7u/6uVGJgYPj3Yb8rpqTgun//Vy48/P9fIRbXMjBHrT137v4/XxZskgwMDAwMsf/EsbgWCpRwamNgYD9ziROnpMTfNtw6k/8aI/HQ7DRiOItTo/6/w8hcVJ2C/8/gtrLrFS9unQy3sKQCcgAAmCYylj0q+AYAAAAASUVORK5CYII='/></td></tr>                    <tr><td align='center'>4</td></tr></table></td><td>                    <table><tr><td><img src='data:image/png;base64,iVBORw0KGgoAAAANSUhEUgAAABwAAAAcCAAAAABXZoBIAAABGElEQVR4nM2RzytEURzFP/OLDEmanTI8P0bYTJY2k43d9IiFbNjZm9j5DyxIspjChuS/oMikrJQsLdQ0qFdTMnUei/ee7vOenYWzufd7zzn3nu/3wv9Fh3336bruqm1P+icJbylsQnYxkN0vPJquJ4Xg7AKQ9MgzwKl867tKE4azYFlWP/k967YhSXopGeRysBm6lqTmXCRu52Ct9iBJzlKUO/XjvM1H++wLsq7EDKH3xiefi+EhADA8BccZYHsjxgu0H0hqTXtF8gf5ceJAKhExeRioS/tt8c6R8xw0W16RBpjZgbU6Tia7Pps3lGmA7nG4gKvcKABHl+Zdtvldr42x0EPF6ntAHVZ7IhkrkqStcjn1SxN/iS/MNoWNCuqwjwAAAABJRU5ErkJggg=='/></td></tr>                    <tr><td align='center'>3</td></tr></table></td><td>                    <table><tr><td><img src='data:image/png;base64,iVBORw0KGgoAAAANSUhEUgAAABwAAAAcCAAAAABXZoBIAAAA+UlEQVR4nGNgGJQgYO+////+/VuXKm/EgyH36S8U3Hh07sQJKxTJ1L8o4LEpsuRvVMm/P7cKMjAwMDAwMjAwMFTFMJyYz2CSyqDCDFVucBnTYZnFxW///v37928jdofzSqz4+PfvcRzeYkr7/PdvOA5Jgb9//x4Vwy4ntu3v39+pWKWYk4/9/fsdh3OS//79+3c/VqnSB1/+/n0vJ45Fymrl1b9//x71x6ov7O/fv586BbDbd+Pv37+9dhxIIoxwFusrPgYGBob13xgY5p34/xNVY8B3pHg57oRmbPzxx1CpO89Ovsaw1SQ5ed3fv3+r1C3FkrG7iyoAAH3ClZcvv1K8AAAAAElFTkSuQmCC'/></td></tr>                    <tr><td align='center'>2</td></tr></table></td><td>                    <table><tr><td><img src='data:image/png;base64,iVBORw0KGgoAAAANSUhEUgAAABwAAAAcCAAAAABXZoBIAAAAsElEQVR4nGNgGBmAEV2AWYmB4dFPGM8PIcEXsm3PwX///tXAdXJ+h7DEXNXtbRnObfQxZfjBhW7etX////1fK8aQ9O//DAzbr3495i3PxFD69d9dSQxJDxUGBgYGv2//7inicHzp538PVXHI+f78d8cTh5z3p38PcOnz/v3vNi77fD/9+6eBQ0724r8XwRihCQEij/49sMehj8H+3y8rXHIM+l/W4ZRjYJDjwyNJPwAAPyY7Tt0Fy24AAAAASUVORK5CYII='/></td></tr>                    <tr><td align='center'>7</td></tr></table></td><td>                    <table><tr><td><img src='data:image/png;base64,iVBORw0KGgoAAAANSUhEUgAAABwAAAAcCAAAAABXZoBIAAAA4klEQVR4nGNgGDaAkYGBgYGBm8PHACow6T6qgqipF/7CwU0xVJ3///17zHD49XUGBgadPIaSfrgkCwMDw62fLasgPFk7BoaHOBygePrv33W8WKW4/F78/ftXG8O1DAwMDAxdxQwMDAyHvzCcWfAAQ+c6uItXMmPo1BJmYGAQi50v38l2zPEPFnutD8gxMBid/quFRc7isCUDAwNDwd+nWCTXnBFkYGBgsPrxF4vkgb877BgYQpf8xSY54e/fz/fv//r7NwGLJPsMiF9mMKN7hYGBgYGNJ0OYgeHUqv9YdA4CAACIB1jxwhTsdQAAAABJRU5ErkJggg=='/></td></tr>                    <tr><td align='center'>3</td></tr></table></td><td>                    <table><tr><td><img src='data:image/png;base64,iVBORw0KGgoAAAANSUhEUgAAABwAAAAcCAAAAABXZoBIAAAA8klEQVR4nM2PMUtCYRSG3+I6WhlocmlxSRCLoF1IcqpfEEE2SVuTk7OjP8A9wZaS4I5BiyAURVNLpVxUEAuHhuDyQIMGaWd06F0O33m+95z3SP9MC1Ov1Jm732iqOrK+VgBgWLCcvquHrpS92zWcPs8xac3/yEcteC9FSsCFBQeZ1RYQHFpwrJeCuRPgMR4yWHIIBCcrBnJybRjVtwykRBng1ELa6QCw97u3OKnbV+uiMWP4geeuvNytOVNHQSscUm1m7OSGV5qSvuhPZXUkSctRedo4dnT59NdZhPfrN7hZMlamewB8HpiBNvuAl7XTzlvfUVBwe6w8SfYAAAAASUVORK5CYII='/></td></tr>                    <tr><td align='center'>8</td></tr></table></td><td>                    <table><tr><td><img src='data:image/png;base64,iVBORw0KGgoAAAANSUhEUgAAABwAAAAcCAAAAABXZoBIAAAAzUlEQVR4nGNgoBZo+f+QB4cUc8O37Q16OCSj/7XhNNPs9Rl2ZD4TMidDcM1PXBrtfy9FFUDWqcP8FKeNDNueauCUE3zRiiaCZGyJ2BPcpt74J41TTujxIWYISw5T0upfMQMDA4Nk9+xPrxsw7GS4wcDAEHy8gGGZcDCmzgwGhqCfN20YVP9VYEp6MAh9n8/HwH7ynyu6pPL7yYyssz0YWA7+rWLD4pVEBgZez4f/KrH4xf/Lj0ePnv/7XIypj4GBoWjjv3+vZ2hjkxoKAACn7EAeExf48QAAAABJRU5ErkJggg=='/></td></tr>                    <tr><td align='center'>6</td></tr></table></td><td>                    <table><tr><td><img src='data:image/png;base64,iVBORw0KGgoAAAANSUhEUgAAABwAAAAcCAAAAABXZoBIAAAAzklEQVR4nGNgGK5AN/3fv/87PLFJha78+vfv379/nyViykW//LsgMv7F379/azEld/8tZWdg6/j093cBRIAFSZKX4c9vn/9W3AxLJmDq3Pj3/ZMbf//+XcuFxT3SJ/7+/fv37980rB5h4+NP+/t3PitWSQYGzRt/9wnjkJOb+feHMQ45hri/fyoEccjp//ozBZc+yW1/T+OSYzj3944RDinmmD9fsnDpM3r0MReXnMbrv50SOOT4L/zdJ4tDTu7Wh0lsOORYFix3w2UfLgAA0WhRWVhclykAAAAASUVORK5CYII='/></td></tr>                    <tr><td align='center'>9</td></tr></table></td><td>                    <table><tr><td><img src='data:image/png;base64,iVBORw0KGgoAAAANSUhEUgAAABwAAAAcCAAAAABXZoBIAAAA7klEQVR4nM2RL09CYRjFf96hRaabIzsngWazamRuRpvNDQns8gEYY8PNRLKAdqtFGZ/CDyCSMGiVQjl73tcA417vfWkGTzvPef6cswf+N469mbXXiEOTpLuTgHQwnpkkWWPBC2lx8/B3c5QmXYDaw4qnJs+GwG2HnSjayK91QAe8w+fWdoFP2CqFbr4C1xC3Ajkw6akE4yRKgpG3N4B3s1HW7WnFOQ9c7DkG2ZtH+wBsn+9Se8kbgmfoXcJXzk4sU5mbpasMmubtqm/eHgNBYi0eonJSW7n9nhcBJvcfgUnqJkkhBaCtabW6TvxL/ABt8Vx6PZqFmgAAAABJRU5ErkJggg=='/></td></tr>                    <tr><td align='center'>0</td></tr></table></td><td>                    <table><tr><td><img src='data:image/png;base64,iVBORw0KGgoAAAANSUhEUgAAABwAAAAcCAAAAABXZoBIAAAAhklEQVR4nNWQwQ1CMQxDnxBrdA6URToHKnOUQTJI2CNiD3NAQEXbAX5ujmXLNhz+Sg8FcJ6YejEDnitNSlLUlaFLXpcM9HTbBamKMuLTCK48bKd0RUsvK8pCrdA1kL+eZrf7LgwUgNTSFoCmPv0+tVvmLHzv1aVV1lR66m+Cr21I3rfLHeNeksY4FPqDACQAAAAASUVORK5CYII='/></td></tr>                    <tr><td align='center'>5</td></tr></table></td><td>                    <table><tr><td><img src='data:image/png;base64,iVBORw0KGgoAAAANSUhEUgAAABwAAAAcCAAAAABXZoBIAAAA1klEQVR4nM3PrQ9BURzG8XNNMzab15tsZoKieAmmYdP8C8It/gNJpyBqMk0TbmGmGFUXBPOW2L6Hwrzcc6v5pbPns/P8zhHiF1My60Vb7CJNl42VT0h0tUX3IPtONXaAcUxtzS3wHrx3JH1Cdm1ek9hA7yNxvI5GSIilHWYtXa+dcV0TouDRWlfFygoAyJPpVdQ+xpU3fJYwswMWQwmM/RadA+1IagkY35Y7AKzTK2D2jfoEgBtwrlpqw9MnDhSfCTaOcINZ4BFoH+yuFS/uUW+nuPkXcwcjsGexHKWgfwAAAABJRU5ErkJggg=='/></td></tr>                    <tr><td align='center'>6</td></tr></table></td><td>                    <table><tr><td><img src='data:image/png;base64,iVBORw0KGgoAAAANSUhEUgAAABwAAAAcCAAAAABXZoBIAAABBUlEQVR4nMXQr0tDURQH8C+XaVmYgi8JKojgioIIFn3R8YKIUTCsGZw2/4D1oRgcrIvFH0EwalYwOdgQbMIMmqxfvvca9hzce7W6k+7hw/dwzwGGX5nesuRPJHn90xQ8GmumAJ5+z6WvIsnNvDUejhcBAK2NOHciyUmSq8VJZ621FweX1m5NBLnJ7U9+dM9Ko3WKs74ttkUeAZjjAAdj0/n80WsBqHt7FsvGdNbfAcAY0zn0pjZI7QH9se0F/7dLAJKRvKk++3gLYLUEzOzv4GY5WOSFfJxC//CVwHAuudOsKScdh4YGKZIUe2sR3uf41V2JDMkdRfJqNyYA0w9itRIe/P/rGyX0dE/6/fbbAAAAAElFTkSuQmCC'/></td></tr>                    <tr><td align='center'>0</td></tr></table></td><td>                    <table><tr><td><img src='data:image/png;base64,iVBORw0KGgoAAAANSUhEUgAAABwAAAAcCAAAAABXZoBIAAAAxklEQVR4nGNgGDaAkYGBgYGBQ5TBmlGVgYGB4feSZ3/RlKz4hwAbhNF0rpf9CeUzmzH4bkXVycUKY7Ec/NeN0w38//6ZwjlM+FyLLhmAzGFBkxRkeHSbwZuDgYFhLZqkJodQKYPMQwYexi/n1yHp5LZXc5HWYGdgYGD4/3TXtnt3kfSIvISEwMN//1BsZWBgYGDgu/WvvVhMWFju6T9hDEkGr2gOBgYGBobz2CRhAEUS3Z+fGBlwS67/j0cSLxCyZiZFOVkAAODUPBUEIEWEAAAAAElFTkSuQmCC'/></td></tr>                    <tr><td align='center'>7</td></tr></table></td><td>                    <table><tr><td><img src='data:image/png;base64,iVBORw0KGgoAAAANSUhEUgAAABwAAAAcCAAAAABXZoBIAAAA4UlEQVR4nMXRIU9CYRjF8bMrH+DC2OCW6wj6BdgYBKLRSuAbYNKNwEa5wUAxGhgJEslyjbrpoDCaxelLcGM4qRou5T8NjnJfXyKe+ttzTnik/44XfXdcVhpB7MIb2LQcdryAC4cVFkDddQhMCg7s7DANMUVJfj86tCeXtCVV5vCWTWOXr7qUjQGKaRzwJGkE0+stelvLn8pICvXRnFmTATSk8ueqpkerNoB75e/oqZ0YP4X+C8lJFaLLxBxZvQNYvwNwbpnCZ37Tzdio8OoVxme5gz9MUsk4vyLp9sFz437yA8/6ZY+KPaBDAAAAAElFTkSuQmCC'/></td></tr>                    <tr><td align='center'>6</td></tr></table></td><tr><tr><td>                    <table><tr><td><img src='data:image/png;base64,iVBORw0KGgoAAAANSUhEUgAAABwAAAAcCAAAAABXZoBIAAAAcklEQVR4nGNgGNxg0/9MnHJse/7e4ENwmVAkOfgYVDlxSf77y9D8HpeknBmD3C9ckmgAVbIQnyQrA8NXnJIMDAzTcNkh+PDva3lckhJ//27AbScaoJ7kJ5wq9f7+tcapM4ECO8+exSl5kuHgD3wmUQkAAAgEGYgZpvq+AAAAAElFTkSuQmCC'/></td></tr>                    <tr><td align='center'>1</td></tr></table></td><td>                    <table><tr><td><img src='data:image/png;base64,iVBORw0KGgoAAAANSUhEUgAAABwAAAAcCAAAAABXZoBIAAABBElEQVR4nM2Rv0tCcRTFD1GUg4RkQVu0lYZPHVoaHKShpprrP2iK/gbhiUPSD8TBzaChoeZGB5dS3j9Q8B49n0TTW6xzeQ6Cr/je1uhO994P58C5F/gfdRaeTpqZn/tMLrcOJI4m0+x3tFQ/nI8+toFX027nkRRyyxmmDLYXkheXzkrt880URvK0jFLtNpCWCYXNBFAmH5QENtmx8h5dS4Fz9+QgoFtQGLBok+JrOgA4EIl6v7CiR3/wnlVZ3qNrVdlQYUC3gCr78Xniw7fSOHkGkFwwdccSnQO4kjvF9IajfSAjL6vxbvqyDYRfu5sV9HxF2aaQ5LX5LQBFW9h11tQcf1ljmbBlAx++8fYAAAAASUVORK5CYII='/></td></tr>                    <tr><td align='center'>8</td></tr></table></td><td>                    <table><tr><td><img src='data:image/png;base64,iVBORw0KGgoAAAANSUhEUgAAABwAAAAcCAAAAABXZoBIAAAAnklEQVR4nGNgGKaAUSr/8DM5rFIy2Yf//fv3RQSLlN7yH//uTZr2bx2mlOP9b/9m2nIxGPxrRAiyQGmRC1/XbPrHwMDA8B23k7b9E0BwmNAkJZE56JIMZz7jlJTRfPAXp5XZ/2xxG2v97yFuSclLj/A5iAGnJJ/5G9xKo//54tYZwvAYtyTDp9e4jb1+D7dc8f8ZKHwUY4UZ1uDWiQ4AcI0utkmbHA8AAAAASUVORK5CYII='/></td></tr>                    <tr><td align='center'>7</td></tr></table></td><td>                    <table><tr><td><img src='data:image/png;base64,iVBORw0KGgoAAAANSUhEUgAAABwAAAAcCAAAAABXZoBIAAAAsElEQVR4nNXRIQ/CQAwF4Bcs9s6CPo2ehUk2jZ7lB0zi0XgkLEgsG3J2Iziwl8yBbG8ogmlJkDzZL02bFvjfjMvAobWiuYKYmI6SLfyzzkzMawl9k8Bm5c68C4OP5fZ8gDNR1wk47wFUUX8V1wntZlbw3UiIPTEx1aIB6ba+cKYgACYd0+BVcw+eqhiztg7gPCUq5l8m2hsvVSzkfwAAUm7kywEYtv1KbZzQaaTir3kBncVF8xKiyroAAAAASUVORK5CYII='/></td></tr>                    <tr><td align='center'>9</td></tr></table></td><td>                    <table><tr><td><img src='data:image/png;base64,iVBORw0KGgoAAAANSUhEUgAAABwAAAAcCAAAAABXZoBIAAAAqElEQVR4nGNgGEqAEUItfrgewnj0GlPN6b9/IPD+aU0MnQzp6rYMDAwMDNzq501wWmP8ZxFuN/z/G4RTrvpvE065lr+nRXDr+4NTrvDvA1sUARYktvr//5qa199cx6rTru/0539//yHcy4gqryGvYRtw3hSniz3+nsYpxzDjTyBOubR/V3HKiZ7GE0Zr/y7GKbf472ocMoVrWv724Qo/4xfT3XCaSRoAAFONPlayxFW6AAAAAElFTkSuQmCC'/></td></tr>                    <tr><td align='center'>3</td></tr></table></td><td>                    <table><tr><td><img src='data:image/png;base64,iVBORw0KGgoAAAANSUhEUgAAABwAAAAcCAAAAABXZoBIAAAA40lEQVR4nGNgGJ6Ae+f/v3+ftbTIY0pxun/68+fJ8z9//izHkJNZ9ufP6xgGvr4/f6ahy/Gc+fNqhg4Dg8HDP1sE0OWW/Hlhy8DAwLb5zx8bdI2Gf/74MDAw6Bz/g0Uy8s8TBQaG5Odf7vw5zQMTZIHSAQyvHRlyZTh1ahWOfUHXafPnz58/f06IcR97ronhEanmB3/+9HEzBP05gyEHA7x///bilAz6c0cFp+SFPwlIPCYUOQnd3+9waqz8exynnMKNL1I4Jc//+YhLSvHEzz8xuCRD//zpw2lo6J8T3DglMQEAunhan4UXu8MAAAAASUVORK5CYII='/></td></tr>                    <tr><td align='center'>9</td></tr></table></td><td>                    <table><tr><td><img src='data:image/png;base64,iVBORw0KGgoAAAANSUhEUgAAABwAAAAcCAAAAABXZoBIAAABBElEQVR4nGNgGGSAEZnDNM341Y21199jV6qx5vueF6+UsegUdBTWyv3p92DfVy10Tawtb//9+/fv3+eASz+U0SUX/76cLa5S8eFb0q1+dDn938sYGBgYGAS0916RxHDKr2t8DAwMDFxTfiVjOrTz36t0NgaGWQ9DsfiCWefwvx0Sja8xHAMFqR/+/XPCIcfAsObfvxwcUkyz/ibt+5eBXTL6XzMD75WHDtjkRN79k2VgMP9yWASLZNS/22wMDAwp//IRFsFZqgwzfzEwMGz+xY9FkoHhNAMDA4MUCwMWyb+/7jEwMKiVMT3HYqfsy8vFxe3/vjRh9Yrbm3///q1VwypHVQAALvRaUZw9BtYAAAAASUVORK5CYII='/></td></tr>                    <tr><td align='center'>8</td></tr></table></td><td>                    <table><tr><td><img src='data:image/png;base64,iVBORw0KGgoAAAANSUhEUgAAABwAAAAcCAAAAABXZoBIAAAAd0lEQVR4nNWRwQ0DIQwEJ6f0FXd27gxT2d7jQiLA/kbKfpAYYY8N/HncJUmWIY3Ac2F23md04LFAEZ2IvaI5ZJ0AmlRKmuQllNp69RUSRM9UYAxYVnYvFvOWmo2PCUYnSmivvF8zsNzo8xfbrMBgyTtwyVtKfp0LH7dOUqebPBYAAAAASUVORK5CYII='/></td></tr>                    <tr><td align='center'>5</td></tr></table></td><td>                    <table><tr><td><img src='data:image/png;base64,iVBORw0KGgoAAAANSUhEUgAAABwAAAAcCAAAAABXZoBIAAAApklEQVR4nGNgGLzA6OL/Nfw45Aze/Pv+xwuHZO6/t/JTP8gjCzEhsec8fMkXhUsSA6BLKmOX/M5gEhbC4IbdvWzz//07svJfMnYb2IyMJKP+7WfF6QTObf/ccDro+9xfVjh1MjCcPY8wF8Ofe/RFcEsyMOjhk1TFJ8mATdL1zrE0VEkWBNPlv8A06cWS2A1RYtU5/u/X39ci2KUZmEo//SvC5wqqAABiUS0j06pGDQAAAABJRU5ErkJggg=='/></td></tr>                    <tr><td align='center'>9</td></tr></table></td><td>                    <table><tr><td><img src='data:image/png;base64,iVBORw0KGgoAAAANSUhEUgAAABwAAAAcCAAAAABXZoBIAAABBElEQVR4nM2RMUvDYBiEzxacLAUFoe2sP0Ap3QziKIiLuIiDQQoKkgZnh07t0F1wcNNNVPQHdO+go2CVUKWDYANxKdyRDkGj6ZfNoTd93HHv9/C+wCTLcj8lhSVDtOf5Ikm9efXFH7c4DQBrPhmFJB0AQAbA+iwAPDUVwH84bgPo3ifHFmzLWTonxeeFdKDTo/Fobt8Xyc5B1tC7IMXrSiF2MvEzDwAfvX7sTP0C2sbKBoLNtmEqAODkXXJn0tLyDWVaX6T5nhoGoEj6wmNq85C6TFg7CkuA5dZepE7+b7YcUNWt2+hku4li7uz7WoO7ythPxYHI4atnr5o4rCu27FTK/9UI1Xd6T61P85gAAAAASUVORK5CYII='/></td></tr>                    <tr><td align='center'>3</td></tr></table></td><td>                    <table><tr><td><img src='data:image/png;base64,iVBORw0KGgoAAAANSUhEUgAAABwAAAAcCAAAAABXZoBIAAAA1ElEQVR4nGNgoD9gRDB5dEI+GUrOWPQPU5Xysnf/vn36++2fMxadO/7deXv8Bv/3zTcCMXXKQenz3/hwusH890pGXHLc11+I4JIT2ffLFoeURNm5fz/6coSwydnf//fv379//y7CRZgQkl/PNycKCQnlaNTidC4Dw+b3eCQD4JJMWGRZRXBLivx+g9vYVxh2svSwQhjM0/41oks6/NuqxsDAwKC0599FjADkefT/foRLw9xP/86LY9qke+nfv3///v/bbYjNHZqN759ujhZgxu1SugAAof1M7YWQxhQAAAAASUVORK5CYII='/></td></tr>                    <tr><td align='center'>3</td></tr></table></td><td>                    <table><tr><td><img src='data:image/png;base64,iVBORw0KGgoAAAANSUhEUgAAABwAAAAcCAAAAABXZoBIAAABCklEQVR4nGNgGNRAL/Pfv3///r/XxJRSLbv37+/fv3///r1shi7Hd+LvX6jk3xIGBgYGBiaYlMCCe6YMDAwMDD9fwJXDJYNjBSGM+3UYkpLxDAwMDG3Jaxg6MB1z7u/f3y/rORmE1Jj5V8PsZIHImSsxMLwTZ2BgePeOQYAfzdhKXgaGaVAhF2cMBzG0dWFaxsDAwMBQ/u/fC284b96/f6VIdv7/z7BpK1zy33+G/2jG4gJ69/7+nQXjsJd8+7uFE6Hz0gwklbmd7Ay/vmM3Nq+JgeHzVGSRsr9/3103FBERcbr+8e/Xlw4oyoOeQqPq39+/H7LRDduAkMzBcK/Ge6jkQksWgp6jFAAAXIN3IaH0jVwAAAAASUVORK5CYII='/></td></tr>                    <tr><td align='center'>0</td></tr></table></td><td>                    <table><tr><td><img src='data:image/png;base64,iVBORw0KGgoAAAANSUhEUgAAABwAAAAcCAAAAABXZoBIAAAA10lEQVR4nGNgGDaAEUbnMDAwMP4XqSn8v+khqhLRuJt//vz58/fPnz9//zxu00KR3PDnD0Lyz5973dxIxt5UZmBoeQNRWCPCwPjfeydCp9b8P38uyUM5qn/+/nFHNpe1/NKfGnm45HNjVDfJHz4Mlez583ceLs9p3f2znx+X5K2/f0NwycV9/3MJl5zolT+P5HFJTvj7pwWXXPLf//c0cRl68s9fc5yu+fNnPRcuyZt//tghcZmQ5VarMK4z8MOh8e+fP7jt/Pvnz59ZuOz8++fPClzOwQAARjdjt+VWv/oAAAAASUVORK5CYII='/></td></tr>                    <tr><td align='center'>7</td></tr></table></td><td>                    <table><tr><td><img src='data:image/png;base64,iVBORw0KGgoAAAANSUhEUgAAABwAAAAcCAAAAABXZoBIAAAA3ElEQVR4nGNgGL5Aa8kfe+wy4koMX/4VMDAwMIRiyLHse8jwfycvAwMDQzy6HNuqf0cd/lkzYJPkbPl3RrzgnwwDAwMDgy+avuX/blhJfHoogGQNnOUWznBKOoDn1AcGBgPVI89RdTLP//fv379/T6ZPv/brnzcDAwMDAyNClt3DRDqB4cl/Boa71ybfxPRn/b8pUJY7hpz4j5MwpgoDAwMDE7KkHdtaGPMOukaevY/FMK2CgqJ/6TjldB6t58ApOeW0NU45qU89OOUYmlfido3wS0fcGtfl4pbDCgCLij62ti/C3gAAAABJRU5ErkJggg=='/></td></tr>                    <tr><td align='center'>4</td></tr></table></td><td>                    <table><tr><td><img src='data:image/png;base64,iVBORw0KGgoAAAANSUhEUgAAABwAAAAcCAAAAABXZoBIAAAA9klEQVR4nGNgGIbAsPb1/39VDAwMDAy8bVssUeQW//r79+/fP/YMDAwCx//+LUWSMlnx5+9VBR7DXGYGBoa5f/9uZ0OSXP03XZgHyo7+/vc1B7KhP/4KQ1mie7/+/eyLYuPJvxmcDAwMDO5VT/7+/VuI6lSh439vX79+/frXv3///t3Gj+YRkaVn//79u3/9wb9/7wpg+lPE2NiYm8H67988rMHAwMDAEPv3ljAuuYC3f/Nxajzy97oYgseEIsfL9a37FW4bD+E01Pg1qo0oxsoI/TyNU+fsv5tQ+Cg63zBMYsGp0//v32ZkPorKG4t+zsWpEx0AADUnXUEwaybFAAAAAElFTkSuQmCC'/></td></tr>                    <tr><td align='center'>9</td></tr></table></td><td>                    <table><tr><td><img src='data:image/png;base64,iVBORw0KGgoAAAANSUhEUgAAABwAAAAcCAAAAABXZoBIAAABAElEQVR4nGNgGLpAtqnp4f//uewln0+woUlxxN/8CwM/uFHlpK/+/fuhP3/G379//x6yw5C7ninPwD7z79+/XzzRDJ3695kSAwOD69+/f//6Q4SYkKS/v2ZgkAlnYGDYvAfdpfZv/q7nY9j19+/fI7yY/nD/+3ed0fG/f996YfEkZ8yrv39xyDEwMPj+/fv3jTd2Oe6Ff//+nY4kwIJgckXFMHz4w45dY/Pfv2vVdu3EKlf79m8RHwN2Sbt3fzfwMohexibJ/eHvI24GhqV/O7BI1v397MrAkPjtsQoW13Ix7NfWDjJjzbyDRWcHJI77mLG5h//v37+vG3WZsMmRAQA61XYFfZea6QAAAABJRU5ErkJggg=='/></td></tr>                    <tr><td align='center'>8</td></tr></table></td><td>                    <table><tr><td><img src='data:image/png;base64,iVBORw0KGgoAAAANSUhEUgAAABwAAAAcCAAAAABXZoBIAAABDUlEQVR4nM3RsUrDUBTG8S9BaAcJmLmLWPEVUhx01MFJBwcRR50cu6mLDn0MER1sEYx0FAcfwEDp5KCbgrZxULL8E4e05t6a0cEz3Y8f957DudI/rmDvMV0qJ//8FXiLomjN/4UbAKQA7eqENQYF0rTNy43wHmAwbeEsAMmJ/PV3wLPwDIAjSWo0+2xbHRPgwJvKU0gSGHgF8W1tnELoGBjBdZG24EGS3Dy6juMYA7RcR5JGXdJMF8ZDWZoZNyVtFuaONlRgfe7nWNu3sCct3NTHeCz1jCZ+G+gfViRJKy9czhioahfgNJC0HE+uT5UOwOfHcPjFs+fYKH+x9ZR/Wbyjkprfvcugu1pmf1jfxNKPOOys5PsAAAAASUVORK5CYII='/></td></tr>                    <tr><td align='center'>0</td></tr></table></td><td>                    <table><tr><td><img src='data:image/png;base64,iVBORw0KGgoAAAANSUhEUgAAABwAAAAcCAAAAABXZoBIAAAAxElEQVR4nN3QIQ+CUBAH8P+ciaxZK5WNSGVWqIzKlyD6ZqQKVqub0QpWqsxqfZuN+u6excHme+8LeOl2v/1vuwP+tfxa8pDarRxJkRoTU9aCeKiijeS9aT09Ag++UBfPwIbOAFAwFebWTgEAKlIrE/kIAIJYTqPl1Olke0USaxwsZ/QjEw81veati6kLw+aUh9D3tyUJADhz6yKgp9hpgiqn+aQil+2IM2ewU5n51W+VunXm0lEGTmzo9juaP6SfuTNoqw/nCky9M8iykgAAAABJRU5ErkJggg=='/></td></tr>                    <tr><td align='center'>9</td></tr></table></td><td>                    <table><tr><td><img src='data:image/png;base64,iVBORw0KGgoAAAANSUhEUgAAABwAAAAcCAAAAABXZoBIAAAAs0lEQVR4nGNgGOyg9t+lSAzBFn0GBgYGBvbPf//uR5MSjH/7gpWBgYGB/S+SJAuEUp/HwMCIYRoTPvuJlXTHkITaacPAwFC0/0ugnB8WAw78/fv377PH3/7+/fv3rwuqTjsjBgYGBnGo2CdUO68fQTLlgwCasSLZjx49evSoNuPj378P1uBy/QTkEEL35z5kDrqkNT5JdjySYmF4JNnEGXADqS9//570wCXr9vdvIh7NVAEACRg456le1C0AAAAASUVORK5CYII='/></td></tr>                    <tr><td align='center'>4</td></tr></table></td><td>                    <table><tr><td><img src='data:image/png;base64,iVBORw0KGgoAAAANSUhEUgAAABwAAAAcCAAAAABXZoBIAAAApUlEQVR4nGNgGAyAfcO/Bzgljf/+vQ9lMqHLsZQzMHzHpbH579+b6rgkL/7924ZLzvvD3/dSuCR3/P1qj0uu7//fnbjk7J7+++SJQ87s6d9/mbg0zvj37you1yh8/vu3GIccU9/fv7NxGSr39+8Lc1TlCKYuA8Oekzg0erz4u1cQl6kP/v5djO4KGEObm4FBQRSH5Mc/DAxff+Iy9uHfv9645OgIAARGOydLdSeEAAAAAElFTkSuQmCC'/></td></tr>                    <tr><td align='center'>1</td></tr></table></td><tr></tr></table></body>"
      ],
      "text/plain": [
       "<IPython.core.display.HTML object>"
      ]
     },
     "metadata": {},
     "output_type": "display_data"
    },
    {
     "name": "stdout",
     "output_type": "stream",
     "text": [
      "class: 5\n"
     ]
    },
    {
     "data": {
      "image/png": "[encoded data removed]",
      "text/plain": [
       "<matplotlib.figure.Figure at 0x7f57f2e00390>"
      ]
     },
     "metadata": {},
     "output_type": "display_data"
    }
   ],
   "source": [
    "(X_train, Y_train), (X_test, Y_test) = mnist.load_data()\n",
    "n_train = 1000\n",
    "n_test = 200\n",
    "\n",
    "Y = Y_train[:n_train]\n",
    "Y_oh = oneHotIt(Y,10)\n",
    "\n",
    "X = X_train[:n_train].reshape((-1,28*28))/255.\n",
    "X_bias = np.hstack([np.ones((n_train,1)),X]) # incluído X00 como 1 para gerar bias no W\n",
    "testY = Y_test[:n_test]\n",
    "testX = X_test[:n_test].reshape((-1,28*28))/255.\n",
    "testX_bias = np.hstack([np.ones((n_test,1)),testX]) # incluído X00 como 1 para gerar bias no W\n",
    "\n",
    "print 'X.shape:', X.shape\n",
    "print 'Y.shape:', Y.shape\n",
    "print 'Y_oh.shape:', Y_oh.shape\n",
    "\n",
    "# mostrando com o nbshow (ainda em desenvolvimento)\n",
    "nb = nbpil.nbshow(ncols=20)\n",
    "for i in range(60):\n",
    "    nb.nbshow(np.uint8(X[i].reshape((28,28))*255),'%d'% (Y_train[i],))\n",
    "nb.nbshow()\n",
    "\n",
    "# mostrando uma imagem com o matplotlib\n",
    "plt.imshow(np.reshape(X[0],(28,28)),cmap = 'gray') # retirando primeira coluna (bias no W)\n",
    "print 'class:',Y[0]"
   ]
  },
  {
   "cell_type": "markdown",
   "metadata": {},
   "source": [
    "## Laço principal - treinamento"
   ]
  },
  {
   "cell_type": "code",
   "execution_count": 4,
   "metadata": {
    "collapsed": false
   },
   "outputs": [
    {
     "name": "stdout",
     "output_type": "stream",
     "text": [
      "Final loss: 0.0453404019658\n"
     ]
    }
   ],
   "source": [
    "n = X_bias.shape[0] # number of training examples\n",
    "m = X_bias.shape[1] # number of attributes (features, pixels + 1(bias))\n",
    "k = 10         # number of classes\n",
    "W = np.zeros([m,k]) # n. de linhas é igual a número de atributos (features, pixels)\n",
    "iterations = 1000\n",
    "learningRate = 0.5\n",
    "losses = []\n",
    "for i in range(iterations):\n",
    "    scores = X_bias.dot(W)\n",
    "    S = softmax(scores)\n",
    "    loss = (-1. / n) * np.sum(Y_oh * np.log(S))\n",
    "    Grad = (-1. / n) * (X_bias.T).dot(Y_oh - S)\n",
    "    W = W - (learningRate * Grad)\n",
    "    losses.append(loss)\n",
    "print 'Final loss:',loss\n"
   ]
  },
  {
   "cell_type": "code",
   "execution_count": 5,
   "metadata": {
    "collapsed": false
   },
   "outputs": [
    {
     "data": {
      "text/plain": [
       "[<matplotlib.lines.Line2D at 0x7f57dc9b9290>]"
      ]
     },
     "execution_count": 5,
     "metadata": {},
     "output_type": "execute_result"
    },
    {
     "data": {
      "image/png": "[encoded data removed]",
      "text/plain": [
       "<matplotlib.figure.Figure at 0x7f57df549ad0>"
      ]
     },
     "metadata": {},
     "output_type": "display_data"
    }
   ],
   "source": [
    "plt.plot(losses)"
   ]
  },
  {
   "cell_type": "markdown",
   "metadata": {},
   "source": [
    "### Now that we have trained our model, we can see how well it is able to perform on both the training and test sets:"
   ]
  },
  {
   "cell_type": "code",
   "execution_count": 6,
   "metadata": {
    "collapsed": false
   },
   "outputs": [
    {
     "name": "stdout",
     "output_type": "stream",
     "text": [
      "Training Accuracy:  1.0\n",
      "Test Accuracy:  0.905\n",
      "Matriz de confusão (Treino):\n"
     ]
    },
    {
     "data": {
      "text/html": [
       "<div>\n",
       "<table border=\"1\" class=\"dataframe\">\n",
       "  <thead>\n",
       "    <tr style=\"text-align: right;\">\n",
       "      <th>col_0</th>\n",
       "      <th>0</th>\n",
       "      <th>1</th>\n",
       "      <th>2</th>\n",
       "      <th>3</th>\n",
       "      <th>4</th>\n",
       "      <th>5</th>\n",
       "      <th>6</th>\n",
       "      <th>7</th>\n",
       "      <th>8</th>\n",
       "      <th>9</th>\n",
       "    </tr>\n",
       "    <tr>\n",
       "      <th>row_0</th>\n",
       "      <th></th>\n",
       "      <th></th>\n",
       "      <th></th>\n",
       "      <th></th>\n",
       "      <th></th>\n",
       "      <th></th>\n",
       "      <th></th>\n",
       "      <th></th>\n",
       "      <th></th>\n",
       "      <th></th>\n",
       "    </tr>\n",
       "  </thead>\n",
       "  <tbody>\n",
       "    <tr>\n",
       "      <th>0</th>\n",
       "      <td>97</td>\n",
       "      <td>0</td>\n",
       "      <td>0</td>\n",
       "      <td>0</td>\n",
       "      <td>0</td>\n",
       "      <td>0</td>\n",
       "      <td>0</td>\n",
       "      <td>0</td>\n",
       "      <td>0</td>\n",
       "      <td>0</td>\n",
       "    </tr>\n",
       "    <tr>\n",
       "      <th>1</th>\n",
       "      <td>0</td>\n",
       "      <td>116</td>\n",
       "      <td>0</td>\n",
       "      <td>0</td>\n",
       "      <td>0</td>\n",
       "      <td>0</td>\n",
       "      <td>0</td>\n",
       "      <td>0</td>\n",
       "      <td>0</td>\n",
       "      <td>0</td>\n",
       "    </tr>\n",
       "    <tr>\n",
       "      <th>2</th>\n",
       "      <td>0</td>\n",
       "      <td>0</td>\n",
       "      <td>99</td>\n",
       "      <td>0</td>\n",
       "      <td>0</td>\n",
       "      <td>0</td>\n",
       "      <td>0</td>\n",
       "      <td>0</td>\n",
       "      <td>0</td>\n",
       "      <td>0</td>\n",
       "    </tr>\n",
       "    <tr>\n",
       "      <th>3</th>\n",
       "      <td>0</td>\n",
       "      <td>0</td>\n",
       "      <td>0</td>\n",
       "      <td>93</td>\n",
       "      <td>0</td>\n",
       "      <td>0</td>\n",
       "      <td>0</td>\n",
       "      <td>0</td>\n",
       "      <td>0</td>\n",
       "      <td>0</td>\n",
       "    </tr>\n",
       "    <tr>\n",
       "      <th>4</th>\n",
       "      <td>0</td>\n",
       "      <td>0</td>\n",
       "      <td>0</td>\n",
       "      <td>0</td>\n",
       "      <td>105</td>\n",
       "      <td>0</td>\n",
       "      <td>0</td>\n",
       "      <td>0</td>\n",
       "      <td>0</td>\n",
       "      <td>0</td>\n",
       "    </tr>\n",
       "    <tr>\n",
       "      <th>5</th>\n",
       "      <td>0</td>\n",
       "      <td>0</td>\n",
       "      <td>0</td>\n",
       "      <td>0</td>\n",
       "      <td>0</td>\n",
       "      <td>92</td>\n",
       "      <td>0</td>\n",
       "      <td>0</td>\n",
       "      <td>0</td>\n",
       "      <td>0</td>\n",
       "    </tr>\n",
       "    <tr>\n",
       "      <th>6</th>\n",
       "      <td>0</td>\n",
       "      <td>0</td>\n",
       "      <td>0</td>\n",
       "      <td>0</td>\n",
       "      <td>0</td>\n",
       "      <td>0</td>\n",
       "      <td>94</td>\n",
       "      <td>0</td>\n",
       "      <td>0</td>\n",
       "      <td>0</td>\n",
       "    </tr>\n",
       "    <tr>\n",
       "      <th>7</th>\n",
       "      <td>0</td>\n",
       "      <td>0</td>\n",
       "      <td>0</td>\n",
       "      <td>0</td>\n",
       "      <td>0</td>\n",
       "      <td>0</td>\n",
       "      <td>0</td>\n",
       "      <td>117</td>\n",
       "      <td>0</td>\n",
       "      <td>0</td>\n",
       "    </tr>\n",
       "    <tr>\n",
       "      <th>8</th>\n",
       "      <td>0</td>\n",
       "      <td>0</td>\n",
       "      <td>0</td>\n",
       "      <td>0</td>\n",
       "      <td>0</td>\n",
       "      <td>0</td>\n",
       "      <td>0</td>\n",
       "      <td>0</td>\n",
       "      <td>87</td>\n",
       "      <td>0</td>\n",
       "    </tr>\n",
       "    <tr>\n",
       "      <th>9</th>\n",
       "      <td>0</td>\n",
       "      <td>0</td>\n",
       "      <td>0</td>\n",
       "      <td>0</td>\n",
       "      <td>0</td>\n",
       "      <td>0</td>\n",
       "      <td>0</td>\n",
       "      <td>0</td>\n",
       "      <td>0</td>\n",
       "      <td>100</td>\n",
       "    </tr>\n",
       "  </tbody>\n",
       "</table>\n",
       "</div>"
      ],
      "text/plain": [
       "col_0   0    1   2   3    4   5   6    7   8    9\n",
       "row_0                                            \n",
       "0      97    0   0   0    0   0   0    0   0    0\n",
       "1       0  116   0   0    0   0   0    0   0    0\n",
       "2       0    0  99   0    0   0   0    0   0    0\n",
       "3       0    0   0  93    0   0   0    0   0    0\n",
       "4       0    0   0   0  105   0   0    0   0    0\n",
       "5       0    0   0   0    0  92   0    0   0    0\n",
       "6       0    0   0   0    0   0  94    0   0    0\n",
       "7       0    0   0   0    0   0   0  117   0    0\n",
       "8       0    0   0   0    0   0   0    0  87    0\n",
       "9       0    0   0   0    0   0   0    0   0  100"
      ]
     },
     "metadata": {},
     "output_type": "display_data"
    },
    {
     "name": "stdout",
     "output_type": "stream",
     "text": [
      "Matriz de confusão (Teste):\n"
     ]
    },
    {
     "data": {
      "text/html": [
       "<div>\n",
       "<table border=\"1\" class=\"dataframe\">\n",
       "  <thead>\n",
       "    <tr style=\"text-align: right;\">\n",
       "      <th>col_0</th>\n",
       "      <th>0</th>\n",
       "      <th>1</th>\n",
       "      <th>2</th>\n",
       "      <th>3</th>\n",
       "      <th>4</th>\n",
       "      <th>5</th>\n",
       "      <th>6</th>\n",
       "      <th>7</th>\n",
       "      <th>8</th>\n",
       "      <th>9</th>\n",
       "    </tr>\n",
       "    <tr>\n",
       "      <th>row_0</th>\n",
       "      <th></th>\n",
       "      <th></th>\n",
       "      <th></th>\n",
       "      <th></th>\n",
       "      <th></th>\n",
       "      <th></th>\n",
       "      <th></th>\n",
       "      <th></th>\n",
       "      <th></th>\n",
       "      <th></th>\n",
       "    </tr>\n",
       "  </thead>\n",
       "  <tbody>\n",
       "    <tr>\n",
       "      <th>0</th>\n",
       "      <td>16</td>\n",
       "      <td>0</td>\n",
       "      <td>0</td>\n",
       "      <td>0</td>\n",
       "      <td>0</td>\n",
       "      <td>0</td>\n",
       "      <td>0</td>\n",
       "      <td>0</td>\n",
       "      <td>0</td>\n",
       "      <td>0</td>\n",
       "    </tr>\n",
       "    <tr>\n",
       "      <th>1</th>\n",
       "      <td>0</td>\n",
       "      <td>28</td>\n",
       "      <td>0</td>\n",
       "      <td>0</td>\n",
       "      <td>0</td>\n",
       "      <td>0</td>\n",
       "      <td>0</td>\n",
       "      <td>0</td>\n",
       "      <td>0</td>\n",
       "      <td>0</td>\n",
       "    </tr>\n",
       "    <tr>\n",
       "      <th>2</th>\n",
       "      <td>0</td>\n",
       "      <td>0</td>\n",
       "      <td>13</td>\n",
       "      <td>1</td>\n",
       "      <td>0</td>\n",
       "      <td>1</td>\n",
       "      <td>1</td>\n",
       "      <td>0</td>\n",
       "      <td>0</td>\n",
       "      <td>0</td>\n",
       "    </tr>\n",
       "    <tr>\n",
       "      <th>3</th>\n",
       "      <td>1</td>\n",
       "      <td>0</td>\n",
       "      <td>1</td>\n",
       "      <td>13</td>\n",
       "      <td>0</td>\n",
       "      <td>0</td>\n",
       "      <td>0</td>\n",
       "      <td>2</td>\n",
       "      <td>0</td>\n",
       "      <td>1</td>\n",
       "    </tr>\n",
       "    <tr>\n",
       "      <th>4</th>\n",
       "      <td>0</td>\n",
       "      <td>0</td>\n",
       "      <td>1</td>\n",
       "      <td>0</td>\n",
       "      <td>24</td>\n",
       "      <td>0</td>\n",
       "      <td>0</td>\n",
       "      <td>1</td>\n",
       "      <td>0</td>\n",
       "      <td>0</td>\n",
       "    </tr>\n",
       "    <tr>\n",
       "      <th>5</th>\n",
       "      <td>0</td>\n",
       "      <td>0</td>\n",
       "      <td>0</td>\n",
       "      <td>2</td>\n",
       "      <td>0</td>\n",
       "      <td>19</td>\n",
       "      <td>0</td>\n",
       "      <td>0</td>\n",
       "      <td>0</td>\n",
       "      <td>0</td>\n",
       "    </tr>\n",
       "    <tr>\n",
       "      <th>6</th>\n",
       "      <td>0</td>\n",
       "      <td>0</td>\n",
       "      <td>1</td>\n",
       "      <td>0</td>\n",
       "      <td>2</td>\n",
       "      <td>0</td>\n",
       "      <td>19</td>\n",
       "      <td>0</td>\n",
       "      <td>0</td>\n",
       "      <td>0</td>\n",
       "    </tr>\n",
       "    <tr>\n",
       "      <th>7</th>\n",
       "      <td>0</td>\n",
       "      <td>0</td>\n",
       "      <td>0</td>\n",
       "      <td>0</td>\n",
       "      <td>0</td>\n",
       "      <td>0</td>\n",
       "      <td>0</td>\n",
       "      <td>20</td>\n",
       "      <td>0</td>\n",
       "      <td>1</td>\n",
       "    </tr>\n",
       "    <tr>\n",
       "      <th>8</th>\n",
       "      <td>0</td>\n",
       "      <td>0</td>\n",
       "      <td>0</td>\n",
       "      <td>0</td>\n",
       "      <td>0</td>\n",
       "      <td>0</td>\n",
       "      <td>0</td>\n",
       "      <td>0</td>\n",
       "      <td>10</td>\n",
       "      <td>0</td>\n",
       "    </tr>\n",
       "    <tr>\n",
       "      <th>9</th>\n",
       "      <td>0</td>\n",
       "      <td>0</td>\n",
       "      <td>0</td>\n",
       "      <td>0</td>\n",
       "      <td>2</td>\n",
       "      <td>0</td>\n",
       "      <td>0</td>\n",
       "      <td>1</td>\n",
       "      <td>0</td>\n",
       "      <td>19</td>\n",
       "    </tr>\n",
       "  </tbody>\n",
       "</table>\n",
       "</div>"
      ],
      "text/plain": [
       "col_0   0   1   2   3   4   5   6   7   8   9\n",
       "row_0                                        \n",
       "0      16   0   0   0   0   0   0   0   0   0\n",
       "1       0  28   0   0   0   0   0   0   0   0\n",
       "2       0   0  13   1   0   1   1   0   0   0\n",
       "3       1   0   1  13   0   0   0   2   0   1\n",
       "4       0   0   1   0  24   0   0   1   0   0\n",
       "5       0   0   0   2   0  19   0   0   0   0\n",
       "6       0   0   1   0   2   0  19   0   0   0\n",
       "7       0   0   0   0   0   0   0  20   0   1\n",
       "8       0   0   0   0   0   0   0   0  10   0\n",
       "9       0   0   0   0   2   0   0   1   0  19"
      ]
     },
     "metadata": {},
     "output_type": "display_data"
    }
   ],
   "source": [
    "def getAccuracy(X,W, Y):\n",
    "    Y_hat = predict(X,W)\n",
    "    accuracy = sum(Y_hat == Y)/(float(len(Y)))\n",
    "    return accuracy\n",
    "\n",
    "print 'Training Accuracy: ', getAccuracy(X_bias,W,Y)\n",
    "print 'Test Accuracy: ', getAccuracy(testX_bias,W,testY)\n",
    "\n",
    "print 'Matriz de confusão (Treino):'\n",
    "display(pd.crosstab(predict(X_bias,W), Y))\n",
    "\n",
    "print 'Matriz de confusão (Teste):'\n",
    "display(pd.crosstab(predict(testX_bias,W), testY))\n"
   ]
  },
  {
   "cell_type": "markdown",
   "metadata": {
    "collapsed": false
   },
   "source": [
    "### One of the benefits of a simple model like softmax is that we can visualize the weights for each of the classes, and see what it prefers. Here we look at the weights for the '3' class."
   ]
  },
  {
   "cell_type": "code",
   "execution_count": 7,
   "metadata": {
    "collapsed": false
   },
   "outputs": [
    {
     "data": {
      "text/plain": [
       "<matplotlib.image.AxesImage at 0x7f57df2c3810>"
      ]
     },
     "execution_count": 7,
     "metadata": {},
     "output_type": "execute_result"
    },
    {
     "data": {
      "image/png": "[encoded data removed]",
      "text/plain": [
       "<matplotlib.figure.Figure at 0x7f57dc9ee250>"
      ]
     },
     "metadata": {},
     "output_type": "display_data"
    }
   ],
   "source": [
    "# Visualizando pesos da classe 3\n",
    "plt.imshow(W[1:,3].reshape((28,28)),cmap = 'gray')"
   ]
  },
  {
   "cell_type": "code",
   "execution_count": 14,
   "metadata": {
    "collapsed": false
   },
   "outputs": [
    {
     "data": {
      "text/html": [
       "<head><style>                table, th, td { border: 0px solid black;                text-align: center;border-collapse: collapse;}</style></head>                <body><table border=\"0\"><tr><td>                    <table><tr><td><img src='data:image/png;base64,iVBORw0KGgoAAAANSUhEUgAAABwAAAAcCAAAAABXZoBIAAACSElEQVR4nHWSzW8SURTFz33z5guYoZ1CaYGCrYqJaRprjBvjxsSFceW/5Z/jyr2aqIkLo2mCtjQgMlAoH2VgmHkz81wMNXXh3d2cnOSec3/0Gv8f/u8qAfqPGEaJykBEILopxopEf2ktjULODwKyAAAs1aJAej/jbK4aNdn2/f1szOW1cyXGMivC4NHTeP7mpGFb83kcKUQcAMTK38poycbjhWu86FTCYc67gqmAA5BqnN801Ha5x6bPrXv1dwPrCsLXNQ4AqrR153ORdxb7TaHavn9kDqjL19fGpjX6rYZeI/i+2ig52syaMpWBAZCRkrEDK/MjEe77X+ed8dAtHHGeXitWupO7LDtPWudfvuarO4a/2FS6qrriAFi0uXOh8+Np0D9t83hS1OGWBSVgAOOkF2bWga5rrpel3DGJkuxQLMCABGy75/Gd2/rH1iQI7IHLK9NxlMi0Pt3xMnsH7bdng4jVdkeZg4y7DOM4jaJQv3I4PpvNQ1mrbolyfnZRAK2jUKQkG3Ot6lCpuCcdc9aOvJBRWp8W5bfYIKgah/wBWLVn9HkSMXnd0FIZ3m2Vnw35RNQ+Gee5KuY8/afPhsqH07ix++rlJFv3vrVYEq9CUlNnbKrUvZphGh6Vms1azskuFjbjggMwFSWTH8X1QaWxuuyy0i1lKUgmETgAJrzAU1T7jiGik9nD+mIMSJkk4AAo6cnEd0+KtmkKUkaRpkD+pY+pieRJMJkjUBoUckaS6FokRgB0INIkERGtyU5z0hpzDRI3mP8DSOEG49cZIyMAAAAASUVORK5CYII='/></td></tr>                    <tr><td align='center'>0</td></tr></table></td><td>                    <table><tr><td><img src='data:image/png;base64,iVBORw0KGgoAAAANSUhEUgAAABwAAAAcCAAAAABXZoBIAAACNElEQVR4nH2STU8TYRSFz/sxAzPT6fRjitCSNAiMxhCIGlfERKMrE5f+DDf8JP+ACxa6NMGlkgaNASS1rW2ln0wpHWY6M+/rorSgid7dycmTe++5l+zg30X/44HfFBJADAbylylDERGiepm8e37BDXrTlFmn3Ivnz9wCnAvjU26uATLraRU75GC32e0Ov5mh/ZAbq1RckVImK6O2fuvodljO7Rpmy/ia8egcKACJ6GNLCSN/4Dup9BclTjvJti/lFXkWHW5hwJ6nGt+VfPZIbdV7GRXgEBQAtxpLpntfab4I6v3juWoirXACDgpIQ4VdaCieeO29zZyyk2R+3uDTaVVjo+hq/VISyGT1jrWY0PhsFbb+QG+/r1XStqNU9/q5BFemIRCasPdLlQN/Y9XfN2puUSfxdUJEP/x1GVmaZY1apa1BFEhwdXaV2qmgKreezTvlTmUMKWMhpqQgiEU0fGUN/E5NzRcoGCEzkkZjr/v4xOZ70VhsbqRiIJYTUkrvfNi7s8C6ql5ZLK5z7l6CmhNSitjtpZY31eqx93RlLZtfCAXVCcABKYVU1wqimSbveN9V2IfM3aofG+pkIMq2nfJ4PDxsPbo3JnWuxQpVGRUUIIQmismMaAfmci5tbPKCnTNNjQlwAFSao3rbRjMYvtl+2aDyIlSuE5JSllu9Rm9lEH0+e/LjJzWXAABkB4AIoqGnXzItCFPMIOyP15SMGwELR4kciW++OQcAxgANqjHRcgriN0Pm7dwat3WeAAAAAElFTkSuQmCC'/></td></tr>                    <tr><td align='center'>1</td></tr></table></td><td>                    <table><tr><td><img src='data:image/png;base64,iVBORw0KGgoAAAANSUhEUgAAABwAAAAcCAAAAABXZoBIAAACXUlEQVR4nHVSy27TUBA943tjO46TJs2LKEkLfaRUokUIJBAL2Pcr+AI2/R7+gxVSxYZKLFCrgiA0SpOmbV5O6sRx7Gv7skhbuoBZjEY6czTnaA7t4//F782SpJRE9C8wQo7NpzZnYFhs3IGGMudhZvXSFkJLhu49JlOi2NW4amY1fynjOw4XTKEbcKkAV1f3qgcN33puCyU29CYFRuAAIn3arYVR62zyJV8aNNLNgCzX3pLgAHwnW6Sz1ujN/LUbmqWVa1m+rBc9lRQAPF5W8g9ePM1V2qmNdjxaT+U8Q/hEHIAcfTO+RKNCIzA/ecYr0aTuQApzcTO0orhnmZ+vyPB2LdFKJqhoa/GFWm6HkdXG9Wmi6us1+2w7+9uVjAAFAIsSvXpQGJdrzkaGCcW+GDYRyhufcSsy1ckzg1Ibia/mKrtyemY8YlAAQLm8WHm/l9P1x+rsKKDW7MTpR6qyYPLs9ttKv/JIOj/sNS+V19djVXXb/0X7AFix40+VcmnlI0xp5BlSM8OR/aECgDJGqeMUZVzuusmCfTpykTGoMwQHIJNRTSM2Gr77sPXk0J16OS1lJua3X+Eij35y8zixc5yrtNc0OfzpAFAAomjc6Ne/M/20bPEVP7bsnHixtA5wIFTssmWce4c8Zk3qST7ocWmmxVQSByi80PXsZjt7MBej1ZdNXTrCmMyJwAGi4STsWKHnLi8HvaPiQ254XXWiLgT53lhoaXfcEyTKlJ7tDM67jADQPgAhgiBQI6khUEnNp6Z9NzTYjRXOAUgpCQBoMCQy/kaTbpskANFdzP8AQ1kWyYZZLjoAAAAASUVORK5CYII='/></td></tr>                    <tr><td align='center'>2</td></tr></table></td><td>                    <table><tr><td><img src='data:image/png;base64,iVBORw0KGgoAAAANSUhEUgAAABwAAAAcCAAAAABXZoBIAAACVklEQVR4nH2SW1PTYBCGd5OvaULStIS2FFukQMGCFQFnZLzQC8fxJ/hn/FFe6Y3e6YwOIuhUGAEpB21aesgB0hza5Pu8aGHwQvfqnXlm3915d/El/Lu4/zAgNzS7EsjwL8hiAgCjTogcuEwheAMi34eAaJwYhFODhmfQNMER9GlhmQWuvXvhJ2aMCYXHM5YUeSAAIKiLT5jVMjUr78ipBgvm+bzuS8POShSc7nF2Wpk38t3TKc4I7AzWGEMCAHZg1M4gsbR5NOuxjTcpxSbRIOyLQADAkSIrGSOv3rGTp8+nD080QaI1PyYBAWCc1Y4fNI/BLWRSq8btmb3QoTkrPpxp2I3o8HuBlh7NPj56XayYe0mBCDEAAoBuj++2C+klbbm080Nf/mV1p2M6PwoB5UBbwsnKfay2VNVFoRxOOe5VQnyCyCSbVWmuebBQv8PiSVPrUxxdxTONAWy/9ca0Ndjf1IyWwE0zNrQNhTx1Pwm1bQYLmcXqhTRwFeEqW+3WT7Gbqik+bctcsmyez6HPAwIBYCQj1sPO19i9lh7bXe9ZetlJBcJwIU6cyJaPjbmLD9kKe8hM9mCxKndhaMtHnbkNpZ21IzW5JucOeysinI/1GAIB4PHys2oXc6v1YmOntBJ+2WpoomMPTzaQE37k5Se9qN6ZuLtlWO3bcZ2ThraUK/XI+KXa3x3M4nu3o6x3m5ThKCE5ngyDviO9yHY+7uvFZ+lvZuL6wRoRT8IMxOnvmjVWUr3TjgrXkDUZwAmHFKPxiIpVwuGNp0YEEAB4xgMyiHDE4A9SYwy4wPe4WQAAAABJRU5ErkJggg=='/></td></tr>                    <tr><td align='center'>3</td></tr></table></td><td>                    <table><tr><td><img src='data:image/png;base64,iVBORw0KGgoAAAANSUhEUgAAABwAAAAcCAAAAABXZoBIAAACSElEQVR4nHWSy27TUBCG/zk+x5fEudRpkjZq0tAmqoDSgsQLFLFB4kV4CV6Gd2DLomyRWthAI6joPTc3tR3Hjo99WKQXFjCrkf75R3P56D3+H+yvPAXSeZapf4lJLBNfK0iZKbUo4LdKxjDP4qlhEs2JCe1BJJIxW7a8EfFkOpyWKkRQdyJXsyivl+BhJVlpfon9ZtG5mfjgADTwmdTleHBlfo7jnWku16l5pzHLOACpc1vSIGa17+Ovj5qbw7zLvXBqLJx6Wg/cshJ9B60W3+/+vtia/VwSxIBMpSxJVQQXa4H+xtywFGigigQGTINriiKzruyXQ14h27Rq646fywAGcGXYgXRaxnZaMuoFx1vn1lkgCGCAZazmtW5de7f3uCw6O0yEo6gXIF3sadC41ZQbjQELquXLV473JG5LTWqLI2T6ZvH444f2RLTJ3vq06tWuSmzRFqTcb+HrbtdsvH22Xt0vr3FfsjQKwQGVBuy6K4GBf2rUf10VekfzTmNAAhwgNU7FoTw+CV/U+VT6PVcUR5bJGDggWTzKvO1MX1IcSXB+7mwa/oQ4wIGMGPlhT1Tk+ESvmEuFs2sr4driZULpFdMX80P7qL13ZoYio0KYqttpwZiul4zdXWejMsrrnTUrR0QLJxHX03qSLcuk+qOg28WcmLP0DhMFzdI1R/SfkmVerParyVijB/oon16WhszD7EDrT24u4wf6iKWuK0Y9M3fA9AuKG8yAonv6RLG4PHtOKYsUi/KaBdADt0RwwaHBBvLyHvQ/lvP5eDRPc5UAAAAASUVORK5CYII='/></td></tr>                    <tr><td align='center'>4</td></tr></table></td><td>                    <table><tr><td><img src='data:image/png;base64,iVBORw0KGgoAAAANSUhEUgAAABwAAAAcCAAAAABXZoBIAAACZUlEQVR4nHWTT08TURTF733vzUw7/V9op4O0tAhSQRPRGDe6MESNS7+ASz8OX0P3rgk7JEBUFINQiLQVpBSmnbbT6fx7z0WrVhPv7uTkJifn/i6uwv+H/KPFuGDjRsA5cqQEHKr8ZQYBB8HQiSL1WiE6tilEp13KXHZpTeq1ZtKqnDoCeWQK7rZYywI9Bw7nipHSU2ZgB8AAgPtBT8peP0bly2xuv5ku8ZZfjr3rAgMAy5Ez6jLxN6fyjVZ1rn8eN2aKdHaPEwDwkbQEP9u4o4hPxmk9fOjM65PaAiIDgLCLvDs4U6d3HizvHBZ6R1466yr1YSCkUhPb1krk9lJp5vV+rLc2eb8fC3NgAMBkGov6sp3b27HM1LHZ2F2ImpkwJwwACINE4v2EXBtU2g3dKzTLF7rcCQEwAIGe5EvCNErhU7tN9YlcdutAyyMCAUAAU6pUyk/Vx9F7K08WTSU9lUFlVB/BuUGzWF13dr/2abtskEX9o018YAwAINJwHSQf0qZEkjFL6UO3eAKCAgMA4RpltXqwEfX8zKtJ66rhql7MImTY7dXSQ2N9YrvIr6W1/iCZGKht2w+NrtKppB7NHwR526ptm88uavVbnsxwiEk8qWy+sYLMdIT2Tm7Em9XeSddhQgCuAsQHeJnOoSDbyVyx/5kqDSFLEV8QBgAm6Zj1tRffCi+PQm/rc8+/n9IkCQCHaR0lu0Ct+E3XENp87MeWEdECjqNAMgQot7XjoEuVvYLqpTQPfwFGuOfZbuaw341EwneL1Twh+Ic+lCVgdiKhc9TY+QWh41AjIISG/F+C4L+/4CdlVg3fMB+yjwAAAABJRU5ErkJggg=='/></td></tr>                    <tr><td align='center'>5</td></tr></table></td><td>                    <table><tr><td><img src='data:image/png;base64,iVBORw0KGgoAAAANSUhEUgAAABwAAAAcCAAAAABXZoBIAAACY0lEQVR4nHWS205TURCGZ9Ze+7x7Lm0p5VBaTnJBQkJMDMTEG25MfAIfw9fxRTQxMRoNEDGIRARaaAXaQgvs7sPqbvdaXpSCN87VZL6Zm/k/fAP/L/LYogqoRRUJHyb0EepGV5py05GO75ms+w8UmsMLqVwrT1vS0pL3IXi8FFxPdeQZ7t+pBXqY3GV/2jriCA4ibd/iQdP5yM7ldLB3FFUtWQYKAKHHxuo30id1S9ms7m18cZjXzUbQ5xQAujxFr/fL5Up1ersqb9tWNAO9LqdxCgA6xtwTc16rpTJ5rbV/Gb0MlljTnJYoCCQBu5peHj/NLVxSI9I3pCedTjIBBCigCNkgSMdKVytuprIjFJYthHVlsYFAAUDiqhyZocFd7tjtyuZqgT5rKdkbgUOo6ZLwFY/k3AzqM+21vO0nNAYUAFC1IqxvTpbCidkSuc2sRy0FW1oPCAACEYIfu0m/skufX/dtJUvyKYfxYSq0RYW2nvbUMTP5amHZ/toI67XqxfB9JEgcjjfsDbstvfWkp973zd+7HRK5T+UGir2z1fKvLVIvsWpx7Qf1zRgCARCCSweNYmbx5H1Te/1yIcVqLkzI95HxwIHzQ7ObfFGMHdzWrercWK+nDqEA4QcpZ98My95e/zQ3H2+rTt8QgAQAEWnoWObPwUXSruTnEnHjW50JEEABkGi6YgV1+zObXFy3azvGmREzyEgTJcqumtw9sqfeGXG+MkjoGsJIE1QTMcXzZpkrslLfVzUVHwRDITREtEAgEhBCRgTAeyhAkiBUCYBAAYLjyHQKwyVBAUAgIDwKD38BtkAJJByXU8cAAAAASUVORK5CYII='/></td></tr>                    <tr><td align='center'>6</td></tr></table></td><td>                    <table><tr><td><img src='data:image/png;base64,iVBORw0KGgoAAAANSUhEUgAAABwAAAAcCAAAAABXZoBIAAACOklEQVR4nH2S3UobURCAZ845e87+xU1iNJgYtVoRLAWhF0Lpa/Sh+kB9gd5UqFALpZIqsY3GpIn5280m+3d2ehGrQmnnapjvYuDjw3fw72H/YX9DosddPDkDZQk3EAEBn0IipJzSYI42A3AM5A8wj6NM8mhqL6RMLzw3t0XOGC5hMrOUDH3zsM4+dRpiPvFty2GEAgCJM3N3UD0OZXrpHpq//IFGtAlBABAPCut75uxz6aiVHa/MyzdzseXQhIEASbJQFIPu3cpmu/nmaLoQu9sDnhoAICDdsGQY+GW2aty84C3aqo11NhGCATCg2F37cTrxfHx/dr44qzYqw0RpGgGBABhbUXP4rOe27X7vpPK10+GFgdXNOYAAyHvWKoXjUfvbyNvvZmbvdTeEwAFcuvWrB3mp37xuzSrM779a7w4XyNnSUBYrUB860Vp1f7V88bY2HHNR1kt9mOvQjfd2bsWmp4W2Mz3K7mbeBoAAoIwie0WlzS2mq3l8HlvWIHVxaUglxPsO+56ESbF2e2oV44lhGxYCCAADcp0OF4ViXKp+LPFU9k2fW2r5c5ZTkmmnEfvqZ4D6rmx73FIcCBkASKEMq74WbgfDqGXyAWgBHIlAAABTsrDwtLspIvY8umIUhRIcvC+BmabpXiub1eOdaS+ZVjgEprgvgbvUKKpkO85fDtODppBOnjw0xEgtBGcTXvNO6n5F5DJV7A+keRutiosav4yvnLoxRfmYJqVl1NMJMgRl6hnD+5J/A2VJBTpSYPOkAAAAAElFTkSuQmCC'/></td></tr>                    <tr><td align='center'>7</td></tr></table></td><td>                    <table><tr><td><img src='data:image/png;base64,iVBORw0KGgoAAAANSUhEUgAAABwAAAAcCAAAAABXZoBIAAACaElEQVR4nH2SwWvTYBiH3y/5mjZpki5p3Tq6uiFztjIZ6w7qJjp1etDDxIPgQZj/h2evggdB8CDidSIeBJ0gUy9jUHaYIHTQTVumy5IuSZMs+ZJ8HtLCRPQ9vS8Pz+X3/tAS/HuY/zDARw8KgAhiAf0FKaVAOyHmkJVRmSOQ0pBAEP5UZbfmN6Ic7w36dh/G3cPY0DPixNy+m86JguTqIWbDBEYW2QvO40LlJXubdzGKb20cmgMMBoAIPJZTpkuh+chcWF3LXod6a8woyU0MACh2qj5rN9n22fL6dtVrjW5l+HFd8xigAPysnJKn5MLV/K+mU9Gu/Lh/94bCeYABAR1WzIFjp8Lmmcbb1gOjuFJkNw/2A5liAKA4wl60NijnR2am9joZpbSTjkCigAGAYUzLTg18bV2an2t8UGt+i7OddC8EZkfnotTHnRmCtEw1fNrtXBzBPklMOLTTfL1RVMeecye6r5GuWwHv015CiDOcb+LizeUvd7a0oETiZsCrGCUwpog/OXpuPbomRuV2JFWIIQQ4MWlEuiOT4r36Y0VdFeaZ5Yq6tRv1nk1DN3u6NB1tMv6rbUcfUlqcxB6gxIwDttbmyEMrtVI+XnyzmzZJMK4lJqU0l1/IeDPu+mQlKyij6jBRRdrvENLMz8qnF09Ksw3lfV6aKHhiQIACBkAsU2ij7/hCjveYOrKptR9BRwIEaAkgNM3d+HJ2apq1Y/+dEWq2kmMQAKAlAP/A2MhVx1J8pzZe5p7pDsNhBD0IgU/ioutysSFyvJNK99uMAQBYAVELSxQNsSERGPRHb1kAEJIFA9A+g9++PAvr3aJFFQAAAABJRU5ErkJggg=='/></td></tr>                    <tr><td align='center'>8</td></tr></table></td><td>                    <table><tr><td><img src='data:image/png;base64,iVBORw0KGgoAAAANSUhEUgAAABwAAAAcCAAAAABXZoBIAAACgklEQVR4nH3SS08TURQH8HPv3E7n0U5prfRllUcDBAFBIlY2JIILFyaSuCDxA5gYPhJrw0JjjEHiojGyIBGCPIyA4WEpUJR2AjPttDO9c+e6oBITo2d1kl/OWZzzR9Pw78L/MSB/9ByAI4YQQn8h5wDMqXuq4GERo0vkHHGPN8gVfo6dgunFwn4JoyYy7jZohY6m1nWQMvlSqRaUJNmHCQAwlxbB5X10p96hhK99ylurWlriDUQAgNGaW07TUjkyPGVu+hdHtrXacYtHVAwAHqO2YtrjSeto9m2x2nfn2b2SXmABgQADp2G0+YwOKR5cvuHMD4xVggmtTZEwYBCqZl3ovhvfRk9EO5erGtVEpK13NCwBEADC6n1TS4lu4n9Az3o2zJOW60edoYAPgAAomhCR6z2LS/rh2kRgCJzSm6Iv8oMjwAAolInOWNGHgwuLQSPUu2Pl9kVNRr8PHz0zpBU98ujm6PuVfsuRQ1Wme03EDuvczs1aB/rMsqpN7ueN1a0v7GItx86Wv2HHArvW4IQ492FPNw8LLkIcCACWGsFvBbtfTKZi8aMXuCX7mYYrRCBAAJhoWeHK5kF+TeYUa/dfx5SoqBIMQAAot5XgUODjqV2WY+7jXbmmtCsgX6Df5VSUcJKSaLV9ZC5bOndjxEHNZ1uCeEA8bfJkeMN3fjqwb3YxH0XAEQYAcGuFvevOy7DQqr4bznynqYScIoCAAACzHTVQK6GFeXQr27HULrqtp55qXByBOV76alB7OtYv5qPj5XTFM93L9Ima1hpfh9s/u54fZ1+FQ191GvLbAICmAbDM0qxa9DhFGQnpyT2X88tJz+JbnBAAkR9zEDTZaEb5F8+gIIIJ4eCTAAAAAElFTkSuQmCC'/></td></tr>                    <tr><td align='center'>9</td></tr></table></td></tr></table></body>"
      ],
      "text/plain": [
       "<IPython.core.display.HTML object>"
      ]
     },
     "metadata": {},
     "output_type": "display_data"
    }
   ],
   "source": [
    "# Visualizando os pesos de todas as classes\n",
    "for i in range(k):\n",
    "    img = W[1:,i].reshape((28,28)).copy()\n",
    "    img -= img.min()\n",
    "    img /= img.max()\n",
    "    img = np.uint8(img*255)\n",
    "    nb.nbshow(img,'%d'% (i,))\n",
    "nb.nbshow()"
   ]
  },
  {
   "cell_type": "markdown",
   "metadata": {},
   "source": [
    "## Atividades\n",
    "\n",
    "### Perguntas\n",
    "1. Por que no treino, a acurácia é 100%, mas no teste foi de 90,5%\n",
    "2. Por que no treino, a acurácia é 100%, porém a função de perda final não é zero, mas sim 0,045 ?\n",
    "3. O que se deve fazer que a avaliação no conjunto de teste seja melhorado?"
   ]
  },
  {
   "cell_type": "markdown",
   "metadata": {},
   "source": [
    "## Conclusões sobre os experimentos deste notebook\n"
   ]
  }
 ],
 "metadata": {
  "anaconda-cloud": {},
  "kernelspec": {
   "display_name": "Python [Root]",
   "language": "python",
   "name": "Python [Root]"
  },
  "language_info": {
   "codemirror_mode": {
    "name": "ipython",
    "version": 2
   },
   "file_extension": ".py",
   "mimetype": "text/x-python",
   "name": "python",
   "nbconvert_exporter": "python",
   "pygments_lexer": "ipython2",
   "version": "2.7.12"
  }
 },
 "nbformat": 4,
 "nbformat_minor": 0
}
