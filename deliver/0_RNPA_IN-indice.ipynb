{
 "cells": [
  {
   "cell_type": "markdown",
   "metadata": {
    "toc": "true"
   },
   "source": [
    "# Table of Contents\n",
    " <p><div class=\"lev1 toc-item\"><a href=\"#Treinamento-Redes-Neurais-e-Aprendizado-Profundo-de-Máquina\" data-toc-modified-id=\"Treinamento-Redes-Neurais-e-Aprendizado-Profundo-de-Máquina-1\"><span class=\"toc-item-num\">1&nbsp;&nbsp;</span>Treinamento Redes Neurais e Aprendizado Profundo de Máquina</a></div><div class=\"lev2 toc-item\"><a href=\"#Conteúdo\" data-toc-modified-id=\"Conteúdo-11\"><span class=\"toc-item-num\">1.1&nbsp;&nbsp;</span>Conteúdo</a></div><div class=\"lev3 toc-item\"><a href=\"#Glossário\" data-toc-modified-id=\"Glossário-111\"><span class=\"toc-item-num\">1.1.1&nbsp;&nbsp;</span><a href=\"Glossario.ipynb\" target=\"_blank\">Glossário</a></a></div><div class=\"lev3 toc-item\"><a href=\"#I---Introdução-ao-curso\" data-toc-modified-id=\"I---Introdução-ao-curso-112\"><span class=\"toc-item-num\">1.1.2&nbsp;&nbsp;</span>I - Introdução ao curso</a></div><div class=\"lev3 toc-item\"><a href=\"#II---Introdução-a-redes-neurais\" data-toc-modified-id=\"II---Introdução-a-redes-neurais-113\"><span class=\"toc-item-num\">1.1.3&nbsp;&nbsp;</span>II - Introdução a redes neurais</a></div><div class=\"lev4 toc-item\"><a href=\"#Regressão-Linear\" data-toc-modified-id=\"Regressão-Linear-1131\"><span class=\"toc-item-num\">1.1.3.1&nbsp;&nbsp;</span>Regressão Linear</a></div><div class=\"lev4 toc-item\"><a href=\"#Softmax\" data-toc-modified-id=\"Softmax-1132\"><span class=\"toc-item-num\">1.1.3.2&nbsp;&nbsp;</span>Softmax</a></div><div class=\"lev4 toc-item\"><a href=\"#Regressão-Softmax-multiclasse\" data-toc-modified-id=\"Regressão-Softmax-multiclasse-1133\"><span class=\"toc-item-num\">1.1.3.3&nbsp;&nbsp;</span>Regressão Softmax multiclasse</a></div><div class=\"lev4 toc-item\"><a href=\"#Regressão-Softmax-multiclasse,-agora-no-Keras\" data-toc-modified-id=\"Regressão-Softmax-multiclasse,-agora-no-Keras-1134\"><span class=\"toc-item-num\">1.1.3.4&nbsp;&nbsp;</span>Regressão Softmax multiclasse, agora no Keras</a></div><div class=\"lev4 toc-item\"><a href=\"#Regressão-Softmax-multiclasse,-dataset-NMIST\" data-toc-modified-id=\"Regressão-Softmax-multiclasse,-dataset-NMIST-1135\"><span class=\"toc-item-num\">1.1.3.5&nbsp;&nbsp;</span>Regressão Softmax multiclasse, dataset NMIST</a></div><div class=\"lev4 toc-item\"><a href=\"#Regressão-Softmax-multiclasse,-dataset-NMIST,-agora-no-Keras\" data-toc-modified-id=\"Regressão-Softmax-multiclasse,-dataset-NMIST,-agora-no-Keras-1136\"><span class=\"toc-item-num\">1.1.3.6&nbsp;&nbsp;</span>Regressão Softmax multiclasse, dataset NMIST, agora no Keras</a></div><div class=\"lev4 toc-item\"><a href=\"#Redes-Neurais-com-várias-camadas,-programação-matricial,-backpropagation\" data-toc-modified-id=\"Redes-Neurais-com-várias-camadas,-programação-matricial,-backpropagation-1137\"><span class=\"toc-item-num\">1.1.3.7&nbsp;&nbsp;</span>Redes Neurais com várias camadas, programação matricial, backpropagation</a></div><div class=\"lev4 toc-item\"><a href=\"#Rede-neural-densa-2-camadas\" data-toc-modified-id=\"Rede-neural-densa-2-camadas-1138\"><span class=\"toc-item-num\">1.1.3.8&nbsp;&nbsp;</span>Rede neural densa 2 camadas</a></div><div class=\"lev2 toc-item\"><a href=\"#Documentação\" data-toc-modified-id=\"Documentação-12\"><span class=\"toc-item-num\">1.2&nbsp;&nbsp;</span>Documentação</a></div>"
   ]
  },
  {
   "cell_type": "markdown",
   "metadata": {},
   "source": [
    "# Treinamento Redes Neurais e Aprendizado Profundo de Máquina\n",
    "\n",
    "<img src=\"../figures/capacurso.png\",width=600pt>\n"
   ]
  },
  {
   "cell_type": "markdown",
   "metadata": {},
   "source": [
    "## Conteúdo\n",
    "\n",
    "### [Glossário](Glossario.ipynb)\n",
    "\n",
    "### I - Introdução ao curso\n",
    "\n",
    "1. Conteúdo e formato do curso \n",
    "2. Introdução a Aprendizagem de Máquina, Redes Neurais Profundas e Redes Convolucionais\n",
    "3. Ferramentas e Ambiente de trabalho durante o curso\n",
    "    - Jupyter, Git, Python, NumPy\n",
    "    * NB:[Git e Github](Git-basico-Git-Classroom.ipynb)\n",
    "    * NB:[Python](tutorial-python.ipynb)\n",
    "    * NB:[NumPy](tutorial-numpy.ipynb)\n",
    "    * NB:[NumPy - reshape, redução de eixo e broadcast](numpy-reshape-broadcast-reducao.ipynb)     "
   ]
  },
  {
   "cell_type": "markdown",
   "metadata": {
    "ExecuteTime": {
     "end_time": "2017-04-21T00:46:59.730628",
     "start_time": "2017-04-21T00:46:59.710761"
    }
   },
   "source": [
    "### II - Introdução a redes neurais\n",
    "\n",
    "#### Regressão Linear\n",
    "- Conceitos novos:\n",
    "- Teoria: Otimização Mínimos Quadrados usando gradiente descendente, notação matemática\n",
    "- Prática: Programação matricial $y = XwT$; Laço de gradiente descendente; Plotando gráficos; visualizando animação da otimização na função custo e no ajuste reta\n",
    "    * NB: [Regressão Linear](Regressao-Linear.ipynb) \n",
    "\n",
    "#### Softmax\n",
    "- Conceitos novos:\n",
    "- Teoria: Softmax para classificação multiclasse\n",
    "- Prática: Explorando comportamento do Softmax, com parâmetros interativos\n",
    " * NB: [Softmax](softmax.ipynb)\n",
    " \n",
    "#### Regressão Softmax multiclasse\n",
    "- Conceitos novos: \n",
    "- Teoria: Classificação multiclasse com Softmax; Custo entropia cruzada; one-hot-encoding; mesmo modelo anterior de otimização\n",
    "    * NB: [Regressão Logística Multiclasse Softmax - Iris 2D - Programação matricial](Regressao-Logistica-Softmax-Iris-2D-matricial.ipynb)\n",
    "\n",
    "#### Regressão Softmax multiclasse, agora no Keras\n",
    "- Conceitos novos:\n",
    "- Prática: Introdução inicial do Keras, mostrando que executa o mesmo exemplo anterior; criando a rede, definindo otimizador\n",
    " * NB: [Regressão Logística Multiclasse Softmax - Iris 2D - usando o Keras](Regressao-Logistica-Softmax-Iris-2D-Keras.ipynb)\n",
    "\n",
    "#### Regressão Softmax multiclasse, dataset NMIST\n",
    "- Conceitos novos:\n",
    "- Prática: dataset NMIST, Visualização dos pesos na forma de template; não é possível mais visualizar espaço de atributos nem espaço de parâmetros. Visualiza-se a queda da função de perda\n",
    " * NB: [Regressão Logística Multiclasse Softmax - MNIST - Programação Matricial](Regressao-Logistica-Softmax-MNIST-matricial.ipynb)\n",
    "\n",
    "#### Regressão Softmax multiclasse, dataset NMIST, agora no Keras\n",
    "- Conceitos novos:\n",
    "- Prática: Construindo modelo sequencial regressão Softmax\n",
    " * NB: [Regressão Logística Multiclasse Softmax - MNIST - usando o Keras](Regressao-Logistica-Softmax-MNIST-Keras.ipynb)\n",
    "\n",
    "#### Redes Neurais com várias camadas, programação matricial, backpropagation\n",
    "- Conceitos novos: redes neurais com mais de uma camada, cálculo gradiente retropropagação\n",
    "- Prática: Programação matricial de redes neurais com retropropagação\n",
    " * NB: [neural_networks](neural_networks.ipynb)\n",
    "\n",
    "#### Rede neural densa 2 camadas\n",
    "- Conceitos novos:\n",
    "- Teoria: concatenação de camadas com elemento não linear reLU; retropropagação;\n",
    "- Prática: Dificuldade de otimização, falta de atributos\n",
    " * NB: [Rede Neural 2 camadas com reLU - Iris - usando Keras](Densas-2.ipynb)\n"
   ]
  },
  {
   "cell_type": "markdown",
   "metadata": {},
   "source": [
    "## Documentação\n",
    "\n",
    "- [Jupyter Notebook](http://jupyter-notebook.readthedocs.io/en/latest/notebook.html)"
   ]
  },
  {
   "cell_type": "code",
   "execution_count": null,
   "metadata": {
    "collapsed": true
   },
   "outputs": [],
   "source": []
  }
 ],
 "metadata": {
  "anaconda-cloud": {},
  "kernelspec": {
   "display_name": "Python 3",
   "language": "python",
   "name": "python3"
  },
  "language_info": {
   "codemirror_mode": {
    "name": "ipython",
    "version": 3
   },
   "file_extension": ".py",
   "mimetype": "text/x-python",
   "name": "python",
   "nbconvert_exporter": "python",
   "pygments_lexer": "ipython3",
   "version": "3.6.0"
  },
  "toc": {
   "colors": {
    "hover_highlight": "#DAA520",
    "running_highlight": "#FF0000",
    "selected_highlight": "#FFD700"
   },
   "moveMenuLeft": true,
   "nav_menu": {
    "height": "512px",
    "width": "252px"
   },
   "navigate_menu": true,
   "number_sections": true,
   "sideBar": true,
   "threshold": 4,
   "toc_cell": true,
   "toc_section_display": "block",
   "toc_window_display": true
  }
 },
 "nbformat": 4,
 "nbformat_minor": 0
}
