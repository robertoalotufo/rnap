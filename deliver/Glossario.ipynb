{
 "cells": [
  {
   "cell_type": "markdown",
   "metadata": {},
   "source": [
    "# Glossário\n",
    "\n",
    "Descrição sucinta dos termos mais utilizados em redes neurais"
   ]
  },
  {
   "cell_type": "markdown",
   "metadata": {},
   "source": [
    "- **Época** (*epoch*): \n",
    "- **Batch** (*batch*):\n",
    "- **Rede convolucional** (*convolutional network*):\n",
    "- **Regressão Linear** (*linear regression*):\n",
    "- **Regressão Logística** (*logistic regression*):\n",
    "- **Conjunto de treinamento** (*training samples*):\n",
    "- **Conjunto de testes** (*test samples*):"
   ]
  }
 ],
 "metadata": {
  "kernelspec": {
   "display_name": "Python [Root]",
   "language": "python",
   "name": "Python [Root]"
  },
  "language_info": {
   "codemirror_mode": {
    "name": "ipython",
    "version": 2
   },
   "file_extension": ".py",
   "mimetype": "text/x-python",
   "name": "python",
   "nbconvert_exporter": "python",
   "pygments_lexer": "ipython2",
   "version": "2.7.12"
  }
 },
 "nbformat": 4,
 "nbformat_minor": 0
}
