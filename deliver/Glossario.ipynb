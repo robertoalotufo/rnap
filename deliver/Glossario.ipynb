{
 "cells": [
  {
   "cell_type": "markdown",
   "metadata": {},
   "source": [
    "# Glossário\n",
    "\n",
    "Descrição sucinta dos termos mais utilizados em redes neurais"
   ]
  },
  {
   "cell_type": "markdown",
   "metadata": {},
   "source": [
    "1. Regressão Linear\n",
    "2. Regressão Logística\n",
    "3. Época\n",
    "4. Batch\n",
    "5. Dados de treinamento, validação e teste\n",
    "    - treinamento\n",
    "    - validação\n",
    "    - teste\n",
    "6. Momentum: variaçao do gradiente descendente, dando uma certa inércia no caminho do gradiente descendente\n",
    "7. Formas de evitar o overfitting:\n",
    "    - Regularização L2:para evitar overfitting, A função de perda é somada proporcionalmente com fator\n",
    "      lambda de regularização que é multiplicado pelo W ao quadrado.\n",
    "    - Dropout: excelente técnica de desligar alguns neurônios (de forma aleatória) durante o treinamento.\n",
    "    - Early stopping: técnica de detecção do overfitting. Exige o conjunto de dados de validação. Quando no final de cada época, a avaliação no conjunto de validação for pior por n épocas (fator de paciência), o treinamento é terminado.\n",
    "8. Hyperparâmetros\n",
    "9. Rede convolucional\n"
   ]
  }
 ],
 "metadata": {
  "anaconda-cloud": {},
  "kernelspec": {
   "display_name": "Python [Root]",
   "language": "python",
   "name": "Python [Root]"
  },
  "language_info": {
   "codemirror_mode": {
    "name": "ipython",
    "version": 2
   },
   "file_extension": ".py",
   "mimetype": "text/x-python",
   "name": "python",
   "nbconvert_exporter": "python",
   "pygments_lexer": "ipython2",
   "version": "2.7.13"
  }
 },
 "nbformat": 4,
 "nbformat_minor": 0
}
