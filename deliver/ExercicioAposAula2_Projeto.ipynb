{
 "cells": [
  {
   "cell_type": "markdown",
   "metadata": {},
   "source": [
    "# Exercício/Projeto Rede Neural para 3 classes\n",
    "\n",
    "O objetivo deste exercício é possibilitar o desenvolvimento de um classificador\n",
    "completo multiclasse utilizando rede neural e ativação final softmax de 3 classes.\n",
    "\n",
    "O data set possui 4000 mil amostras onde cada amostra possui 11 atributos. São 3\n",
    "classes: 0, 1 e 2.\n",
    "\n",
    "O objetivo é conseguir uma rede neural (ainda sem utilizar camadas convolucionais)\n",
    "que obtenha a melhor acurácia. Na próxima aula, iremos disponibilizar um conjunto de\n",
    "teste para avaliar a solução de melhor desempenho.\n"
   ]
  },
  {
   "cell_type": "code",
   "execution_count": 2,
   "metadata": {
    "ExecuteTime": {
     "end_time": "2017-05-17T18:43:39.273849",
     "start_time": "2017-05-17T18:43:38.692155"
    },
    "collapsed": true
   },
   "outputs": [],
   "source": [
    "import numpy as np"
   ]
  },
  {
   "cell_type": "code",
   "execution_count": 3,
   "metadata": {
    "ExecuteTime": {
     "end_time": "2017-05-17T18:43:39.983568",
     "start_time": "2017-05-17T18:43:39.962181"
    },
    "collapsed": false
   },
   "outputs": [
    {
     "name": "stdout",
     "output_type": "stream",
     "text": [
      "X_train.shape: (4000, 11)\n",
      "y_train.shape: (4000, 1)\n"
     ]
    }
   ],
   "source": [
    "a= np.load('../data/Exercicio2.npz')\n",
    "X_train = a['X_train']\n",
    "y_train = a['y_train']\n",
    "print('X_train.shape:',X_train.shape)\n",
    "print('y_train.shape:',y_train.shape)"
   ]
  }
 ],
 "metadata": {
  "kernelspec": {
   "display_name": "Python 3",
   "language": "python",
   "name": "python3"
  },
  "language_info": {
   "codemirror_mode": {
    "name": "ipython",
    "version": 3
   },
   "file_extension": ".py",
   "mimetype": "text/x-python",
   "name": "python",
   "nbconvert_exporter": "python",
   "pygments_lexer": "ipython3",
   "version": "3.6.0"
  },
  "toc": {
   "colors": {
    "hover_highlight": "#DAA520",
    "running_highlight": "#FF0000",
    "selected_highlight": "#FFD700"
   },
   "moveMenuLeft": true,
   "nav_menu": {
    "height": "12px",
    "width": "252px"
   },
   "navigate_menu": true,
   "number_sections": true,
   "sideBar": true,
   "threshold": 4,
   "toc_cell": false,
   "toc_section_display": "block",
   "toc_window_display": false
  }
 },
 "nbformat": 4,
 "nbformat_minor": 2
}
