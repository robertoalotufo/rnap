{
 "cells": [
  {
   "cell_type": "markdown",
   "metadata": {
    "toc": "true"
   },
   "source": [
    "# Table of Contents\n",
    " <p><div class=\"lev1 toc-item\"><a href=\"#Dataset:-Imóveis-em-Boston\" data-toc-modified-id=\"Dataset:-Imóveis-em-Boston-1\"><span class=\"toc-item-num\">1&nbsp;&nbsp;</span>Dataset: Imóveis em Boston</a></div><div class=\"lev2 toc-item\"><a href=\"#Obtendo-os-dados\" data-toc-modified-id=\"Obtendo-os-dados-11\"><span class=\"toc-item-num\">1.1&nbsp;&nbsp;</span>Obtendo os dados</a></div><div class=\"lev3 toc-item\"><a href=\"#Detetando-um-problema\" data-toc-modified-id=\"Detetando-um-problema-111\"><span class=\"toc-item-num\">1.1.1&nbsp;&nbsp;</span>Detetando um problema</a></div><div class=\"lev2 toc-item\"><a href=\"#Visualizando-distribuição-dos-atributos-via-boxplot\" data-toc-modified-id=\"Visualizando-distribuição-dos-atributos-via-boxplot-12\"><span class=\"toc-item-num\">1.2&nbsp;&nbsp;</span>Visualizando distribuição dos atributos via boxplot</a></div><div class=\"lev2 toc-item\"><a href=\"#Limpando-e-normalizando-os-dados\" data-toc-modified-id=\"Limpando-e-normalizando-os-dados-13\"><span class=\"toc-item-num\">1.3&nbsp;&nbsp;</span>Limpando e normalizando os dados</a></div><div class=\"lev3 toc-item\"><a href=\"#Visualizando-novamente-os-dados-com-boxplot\" data-toc-modified-id=\"Visualizando-novamente-os-dados-com-boxplot-131\"><span class=\"toc-item-num\">1.3.1&nbsp;&nbsp;</span>Visualizando novamente os dados com boxplot</a></div><div class=\"lev2 toc-item\"><a href=\"#Organização-dos-dados\" data-toc-modified-id=\"Organização-dos-dados-14\"><span class=\"toc-item-num\">1.4&nbsp;&nbsp;</span>Organização dos dados</a></div><div class=\"lev2 toc-item\"><a href=\"#Salvando-os-arrays-no-folder-data-para-uso-futuro\" data-toc-modified-id=\"Salvando-os-arrays-no-folder-data-para-uso-futuro-15\"><span class=\"toc-item-num\">1.5&nbsp;&nbsp;</span>Salvando os arrays no folder data para uso futuro</a></div><div class=\"lev3 toc-item\"><a href=\"#Salvando-de-forma-comprimida-e-eficiente-usando-bcolz\" data-toc-modified-id=\"Salvando-de-forma-comprimida-e-eficiente-usando-bcolz-151\"><span class=\"toc-item-num\">1.5.1&nbsp;&nbsp;</span>Salvando de forma comprimida e eficiente usando bcolz</a></div><div class=\"lev2 toc-item\"><a href=\"#Regressão-Linear\" data-toc-modified-id=\"Regressão-Linear-16\"><span class=\"toc-item-num\">1.6&nbsp;&nbsp;</span>Regressão Linear</a></div><div class=\"lev2 toc-item\"><a href=\"#Aprendizados\" data-toc-modified-id=\"Aprendizados-17\"><span class=\"toc-item-num\">1.7&nbsp;&nbsp;</span>Aprendizados</a></div>"
   ]
  },
  {
   "cell_type": "markdown",
   "metadata": {},
   "source": [
    "# Dataset: Imóveis em Boston\n",
    "\n",
    "O objetivo deste notebook é \n",
    "- demonstrar uma leitura e análise inicial de um dataset visando\n",
    "- encontrar eventuais inconsistências e \n",
    "- pré processá-lo para tornar mais adaptado ao uso de treinamento de uma rede neural.\n",
    "\n",
    "Os dados processados são salvos em arquivo para ser lido posteriormente."
   ]
  },
  {
   "cell_type": "code",
   "execution_count": 1,
   "metadata": {
    "ExecuteTime": {
     "end_time": "2017-05-26T23:15:29.460040",
     "start_time": "2017-05-26T23:15:25.970554"
    },
    "collapsed": true
   },
   "outputs": [],
   "source": [
    "%matplotlib inline\n",
    "import matplotlib.pyplot as plot\n",
    "from IPython.display import display\n",
    "# To support both python 2 and python 3\n",
    "from __future__ import division, print_function, unicode_literals\n",
    "\n",
    "import numpy as np\n",
    "import pandas as pd\n",
    "import tensorflow as tf"
   ]
  },
  {
   "cell_type": "markdown",
   "metadata": {},
   "source": [
    "## Obtendo os dados"
   ]
  },
  {
   "cell_type": "code",
   "execution_count": 5,
   "metadata": {
    "ExecuteTime": {
     "end_time": "2017-05-26T23:17:00.257475",
     "start_time": "2017-05-26T23:17:00.221936"
    },
    "collapsed": false
   },
   "outputs": [
    {
     "data": {
      "text/html": [
       "<div>\n",
       "<table border=\"1\" class=\"dataframe\">\n",
       "  <thead>\n",
       "    <tr style=\"text-align: right;\">\n",
       "      <th></th>\n",
       "      <th>0</th>\n",
       "      <th>1</th>\n",
       "      <th>2</th>\n",
       "      <th>3</th>\n",
       "      <th>4</th>\n",
       "      <th>5</th>\n",
       "      <th>6</th>\n",
       "      <th>7</th>\n",
       "      <th>8</th>\n",
       "      <th>9</th>\n",
       "      <th>10</th>\n",
       "      <th>11</th>\n",
       "      <th>12</th>\n",
       "    </tr>\n",
       "  </thead>\n",
       "  <tbody>\n",
       "    <tr>\n",
       "      <th>0</th>\n",
       "      <td>1.23247</td>\n",
       "      <td>0.0</td>\n",
       "      <td>8.14</td>\n",
       "      <td>0.0</td>\n",
       "      <td>0.538</td>\n",
       "      <td>6.142</td>\n",
       "      <td>91.7</td>\n",
       "      <td>3.9769</td>\n",
       "      <td>4.0</td>\n",
       "      <td>307.0</td>\n",
       "      <td>21.0</td>\n",
       "      <td>396.90</td>\n",
       "      <td>18.72</td>\n",
       "    </tr>\n",
       "    <tr>\n",
       "      <th>1</th>\n",
       "      <td>0.02177</td>\n",
       "      <td>82.5</td>\n",
       "      <td>2.03</td>\n",
       "      <td>0.0</td>\n",
       "      <td>0.415</td>\n",
       "      <td>7.610</td>\n",
       "      <td>15.7</td>\n",
       "      <td>6.2700</td>\n",
       "      <td>2.0</td>\n",
       "      <td>348.0</td>\n",
       "      <td>14.7</td>\n",
       "      <td>395.38</td>\n",
       "      <td>3.11</td>\n",
       "    </tr>\n",
       "    <tr>\n",
       "      <th>2</th>\n",
       "      <td>4.89822</td>\n",
       "      <td>0.0</td>\n",
       "      <td>18.10</td>\n",
       "      <td>0.0</td>\n",
       "      <td>0.631</td>\n",
       "      <td>4.970</td>\n",
       "      <td>100.0</td>\n",
       "      <td>1.3325</td>\n",
       "      <td>24.0</td>\n",
       "      <td>666.0</td>\n",
       "      <td>20.2</td>\n",
       "      <td>375.52</td>\n",
       "      <td>3.26</td>\n",
       "    </tr>\n",
       "    <tr>\n",
       "      <th>3</th>\n",
       "      <td>0.03961</td>\n",
       "      <td>0.0</td>\n",
       "      <td>5.19</td>\n",
       "      <td>0.0</td>\n",
       "      <td>0.515</td>\n",
       "      <td>6.037</td>\n",
       "      <td>34.5</td>\n",
       "      <td>5.9853</td>\n",
       "      <td>5.0</td>\n",
       "      <td>224.0</td>\n",
       "      <td>20.2</td>\n",
       "      <td>396.90</td>\n",
       "      <td>8.01</td>\n",
       "    </tr>\n",
       "    <tr>\n",
       "      <th>4</th>\n",
       "      <td>3.69311</td>\n",
       "      <td>0.0</td>\n",
       "      <td>18.10</td>\n",
       "      <td>0.0</td>\n",
       "      <td>0.713</td>\n",
       "      <td>6.376</td>\n",
       "      <td>88.4</td>\n",
       "      <td>2.5671</td>\n",
       "      <td>24.0</td>\n",
       "      <td>666.0</td>\n",
       "      <td>20.2</td>\n",
       "      <td>391.43</td>\n",
       "      <td>14.65</td>\n",
       "    </tr>\n",
       "  </tbody>\n",
       "</table>\n",
       "</div>"
      ],
      "text/plain": [
       "        0     1      2    3      4      5      6       7     8      9     10  \\\n",
       "0  1.23247   0.0   8.14  0.0  0.538  6.142   91.7  3.9769   4.0  307.0  21.0   \n",
       "1  0.02177  82.5   2.03  0.0  0.415  7.610   15.7  6.2700   2.0  348.0  14.7   \n",
       "2  4.89822   0.0  18.10  0.0  0.631  4.970  100.0  1.3325  24.0  666.0  20.2   \n",
       "3  0.03961   0.0   5.19  0.0  0.515  6.037   34.5  5.9853   5.0  224.0  20.2   \n",
       "4  3.69311   0.0  18.10  0.0  0.713  6.376   88.4  2.5671  24.0  666.0  20.2   \n",
       "\n",
       "       11     12  \n",
       "0  396.90  18.72  \n",
       "1  395.38   3.11  \n",
       "2  375.52   3.26  \n",
       "3  396.90   8.01  \n",
       "4  391.43  14.65  "
      ]
     },
     "metadata": {},
     "output_type": "display_data"
    },
    {
     "data": {
      "text/html": [
       "<div>\n",
       "<table border=\"1\" class=\"dataframe\">\n",
       "  <thead>\n",
       "    <tr style=\"text-align: right;\">\n",
       "      <th></th>\n",
       "      <th>0</th>\n",
       "    </tr>\n",
       "  </thead>\n",
       "  <tbody>\n",
       "    <tr>\n",
       "      <th>0</th>\n",
       "      <td>18.72</td>\n",
       "    </tr>\n",
       "    <tr>\n",
       "      <th>1</th>\n",
       "      <td>3.11</td>\n",
       "    </tr>\n",
       "    <tr>\n",
       "      <th>2</th>\n",
       "      <td>3.26</td>\n",
       "    </tr>\n",
       "    <tr>\n",
       "      <th>3</th>\n",
       "      <td>8.01</td>\n",
       "    </tr>\n",
       "    <tr>\n",
       "      <th>4</th>\n",
       "      <td>14.65</td>\n",
       "    </tr>\n",
       "  </tbody>\n",
       "</table>\n",
       "</div>"
      ],
      "text/plain": [
       "       0\n",
       "0  18.72\n",
       "1   3.11\n",
       "2   3.26\n",
       "3   8.01\n",
       "4  14.65"
      ]
     },
     "metadata": {},
     "output_type": "display_data"
    }
   ],
   "source": [
    "# --------------------------------------------------------------------------------\n",
    "# Boston Housing Data Set\n",
    "# -----------------------\n",
    "# [https://archive.ics.uci.edu/ml/machine-learning-databases/housing/housing.names\n",
    "# --------------------------------------------------------------------------------\n",
    "from keras.datasets import boston_housing\n",
    "(Xtra, ytra), (Xval, yval) = boston_housing.load_data()\n",
    "\n",
    "Xpd, ypd = pd.DataFrame(Xtra), pd.DataFrame(ytra)\n",
    "display(Xpd.head())\n",
    "display(ypd.head())"
   ]
  },
  {
   "cell_type": "markdown",
   "metadata": {},
   "source": [
    "### Detetando um problema\n",
    "\n",
    "Observe que o atributo 12 do dataset é igual ao target (y):"
   ]
  },
  {
   "cell_type": "code",
   "execution_count": 6,
   "metadata": {
    "ExecuteTime": {
     "end_time": "2017-05-26T23:17:04.590286",
     "start_time": "2017-05-26T23:17:04.579815"
    },
    "collapsed": false
   },
   "outputs": [
    {
     "name": "stdout",
     "output_type": "stream",
     "text": [
      "[ 18.72   3.11   3.26   8.01  14.65] float64\n",
      "[ 18.72   3.11   3.26   8.01  14.65] float64\n"
     ]
    }
   ],
   "source": [
    "print(Xtra[:5,-1], Xtra.dtype)\n",
    "print(ytra[:5], ytra.dtype)"
   ]
  },
  {
   "cell_type": "markdown",
   "metadata": {},
   "source": [
    "## Visualizando distribuição dos atributos via boxplot"
   ]
  },
  {
   "cell_type": "code",
   "execution_count": 28,
   "metadata": {
    "ExecuteTime": {
     "end_time": "2017-05-28T08:40:12.815131",
     "start_time": "2017-05-28T08:40:12.262194"
    },
    "collapsed": false
   },
   "outputs": [
    {
     "data": {
      "image/png": "[encoded data removed]",
      "text/plain": [
       "<matplotlib.figure.Figure at 0x1292dda20>"
      ]
     },
     "metadata": {},
     "output_type": "display_data"
    }
   ],
   "source": [
    "import seaborn as sns\n",
    "sns.boxplot(data=Xtra);"
   ]
  },
  {
   "cell_type": "markdown",
   "metadata": {},
   "source": [
    "## Limpando e normalizando os dados\n",
    "\n",
    "Retira-se a coluna 12 do dataset e normaliza-se\n",
    "os dados para média zero e variância 1 por característica."
   ]
  },
  {
   "cell_type": "code",
   "execution_count": 12,
   "metadata": {
    "ExecuteTime": {
     "end_time": "2017-05-26T23:21:21.367450",
     "start_time": "2017-05-26T23:21:21.349240"
    },
    "collapsed": false
   },
   "outputs": [
    {
     "name": "stdout",
     "output_type": "stream",
     "text": [
      "Shapes: (404, 12) (102, 12) float32 (404, 1) (102, 1)\n",
      "Data: min=-3.817, mean=-0.000, max=9.235, std=1.000\n",
      "Target: min=1.730, mean=12.741, max=37.970, std=7.246\n"
     ]
    }
   ],
   "source": [
    "Xtra, Xval = Xtra[:,:-1].astype(np.float32), Xval[:,:-1].astype(np.float32)\n",
    "ytra, yval = ytra.reshape(-1, 1).astype(np.float32), yval.reshape(-1, 1).astype(np.float32)\n",
    "\n",
    "mean = Xtra.mean(axis=0)\n",
    "Xtra -= mean\n",
    "std = Xtra.std(axis=0)\n",
    "Xtra /= std\n",
    "\n",
    "Xval -= mean\n",
    "Xval /= std\n",
    "\n",
    "m, n = Xtra.shape\n",
    "print('Shapes:', Xtra.shape, Xval.shape, Xtra.dtype, ytra.shape, yval.shape)\n",
    "print('Data: min={:.3f}, mean={:.3f}, max={:.3f}, std={:.3f}'.format(Xtra.min(), Xtra.mean(), Xtra.max(), Xtra.std()))\n",
    "print('Target: min={:.3f}, mean={:.3f}, max={:.3f}, std={:.3f}'.format(ytra.min(), ytra.mean(), ytra.max(), ytra.std()))\n"
   ]
  },
  {
   "cell_type": "markdown",
   "metadata": {},
   "source": [
    "### Visualizando novamente os dados com boxplot"
   ]
  },
  {
   "cell_type": "code",
   "execution_count": 27,
   "metadata": {
    "ExecuteTime": {
     "end_time": "2017-05-27T05:39:08.347241",
     "start_time": "2017-05-27T05:39:07.809644"
    },
    "collapsed": false
   },
   "outputs": [
    {
     "name": "stdout",
     "output_type": "stream",
     "text": [
      "[-0.22932091 -0.4836148   1.58544099 -0.25683257  0.56889009 -1.76056588\n",
      "  1.11048663 -1.13471913 -0.62624902  0.18716814]\n"
     ]
    },
    {
     "data": {
      "image/png": "[encoded data removed]",
      "text/plain": [
       "<matplotlib.figure.Figure at 0x129236f28>"
      ]
     },
     "metadata": {},
     "output_type": "display_data"
    }
   ],
   "source": [
    "sns.boxplot(data=Xtra)"
   ]
  },
  {
   "cell_type": "markdown",
   "metadata": {},
   "source": [
    "## Organização dos dados"
   ]
  },
  {
   "cell_type": "markdown",
   "metadata": {},
   "source": [
    "Como já vimos anteriormente, os dados de treinamento estão organizados em matrizes onde as linhas representam as amostras e as colunas os atributos. Neste exemplo a matriz X tem 403 linhas (amostras) e 12 colunas (atributos), de 0 a 11. Já a matriz alvo possui uma coluna e 403 linhas."
   ]
  },
  {
   "cell_type": "markdown",
   "metadata": {},
   "source": [
    "\\begin{align*} \n",
    "\\mathbf{X}_{train} & = \\begin{bmatrix}\n",
    "\\longleftarrow & (\\mathbf{x}^{(0)})^T & \\longrightarrow \\\\ \n",
    "\\longleftarrow & (\\mathbf{x}^{(1)})^T & \\longrightarrow \\\\ \n",
    "  & \\vdots  & \\\\ \n",
    "\\longleftarrow & (\\mathbf{x}^{(m-1)})^T & \\longrightarrow \n",
    "\\end{bmatrix} = \\begin{bmatrix}\n",
    "x_0^{(0)} & x_1^{(0)} & x_2^{(0)} & \\ldots & x_{11}^{(0)} \\\\\n",
    "x_0^{(1)} & x_1^{(1)} & x_2^{(1)} & \\ldots & x_{11}^{(1)} \\\\\n",
    " &  & \\vdots  & \\\\ \n",
    "x_0^{(403)} & x_1^{(403)} & x_2^{(403)} & \\ldots & x_{11}^{(403)}\n",
    "\\end{bmatrix} \\\\\n",
    "\\\\\n",
    "\\mathbf{y}_{train} & = \\begin{bmatrix}\n",
    "y^{(0)} \\\\\n",
    "y^{(1)} \\\\\n",
    "\\vdots  \\\\ \n",
    "y^{(403)} \\\\\n",
    "\\end{bmatrix}\n",
    "\\end{align*}\n"
   ]
  },
  {
   "cell_type": "markdown",
   "metadata": {},
   "source": [
    "## Salvando os arrays no folder data para uso futuro\n",
    "\n",
    "Utiliza-se a função `savez` para salvar vários arrays do NumPy num único arquivo, para posterior leitura."
   ]
  },
  {
   "cell_type": "code",
   "execution_count": 13,
   "metadata": {
    "ExecuteTime": {
     "end_time": "2017-05-26T23:23:31.737735",
     "start_time": "2017-05-26T23:23:31.728027"
    },
    "collapsed": false
   },
   "outputs": [],
   "source": [
    "np.savez('../data/boston_housing', Xtra=Xtra, Xval=Xval, ytra=ytra, yval=yval)"
   ]
  },
  {
   "cell_type": "markdown",
   "metadata": {},
   "source": [
    "### Salvando de forma comprimida e eficiente usando bcolz"
   ]
  },
  {
   "cell_type": "markdown",
   "metadata": {},
   "source": [
    "Uma biblioteca muito eficiente e pouco usada para salvar os dados é `bcolz`. A seguir são apresentadas duas\n",
    "funções simples para salvar e carregar arrays numpy usando `bcolz`. Tanto a taxa de compressão é muito eficiente\n",
    "como a rapidez da leitura e salvamento."
   ]
  },
  {
   "cell_type": "code",
   "execution_count": 29,
   "metadata": {
    "ExecuteTime": {
     "end_time": "2017-05-28T08:46:23.091990",
     "start_time": "2017-05-28T08:46:23.066886"
    },
    "collapsed": false
   },
   "outputs": [],
   "source": [
    "import bcolz\n",
    "def save_array(fname, arr): c=bcolz.carray(arr, rootdir=fname, mode='w'); c.flush()\n",
    "def load_array(fname): return bcolz.open(fname)[:]\n",
    "save_array('../data/boston_housing.bc',[Xtra,Xval,ytra,yval])\n"
   ]
  },
  {
   "cell_type": "markdown",
   "metadata": {},
   "source": [
    "É importante saber, entretanto, que o bcolz salva os dados em um diretório, enquanto que o savez salva em um arquivo. O bcolz é recomendado para salvar grande volume de dados."
   ]
  },
  {
   "cell_type": "code",
   "execution_count": 39,
   "metadata": {
    "ExecuteTime": {
     "end_time": "2017-05-28T08:58:12.722928",
     "start_time": "2017-05-28T08:58:12.593987"
    },
    "collapsed": false
   },
   "outputs": [
    {
     "name": "stdout",
     "output_type": "stream",
     "text": [
      "-rw-r--r--  1 robertoalotufo  staff  27022 26 Mai 23:23 ../data/boston_housing.npz\r\n",
      "\r\n",
      "../data/boston_housing.bc:\r\n",
      "total 8\r\n",
      "-rw-r--r--  1 robertoalotufo  staff    3 28 Mai 08:46 __attrs__\r\n",
      "drwxr-xr-x  6 robertoalotufo  staff  204 28 Mai 08:46 \u001b[34mdata\u001b[m\u001b[m\r\n",
      "drwxr-xr-x  4 robertoalotufo  staff  136 28 Mai 08:46 \u001b[34mmeta\u001b[m\u001b[m\r\n"
     ]
    }
   ],
   "source": [
    "!ls -l ../data/boston_housing.*"
   ]
  },
  {
   "cell_type": "markdown",
   "metadata": {},
   "source": [
    "## Regressão Linear\n",
    "\n",
    "Vamos calcular uma regressão linear simples, para termos uma ideia do valor do custo. \n",
    "\n",
    "$$ \\mathbf{\\hat{y}} = \\mathbf{X} \\cdot \\mathbf{W} $$\n",
    "\n",
    "Utilizamos a *equação normal* para calcular os pesos:\n",
    "\n",
    "$$  \\mathbf{W} =(\\mathbf{X}^T \\mathbf{X})^{−1}\\mathbf{X}^T \\mathbf{y} $$\n",
    "\n",
    "O MSE (Mean Square Error) - Erro médio quadrático é dado pela média do erro quadrático $E^2$: \n",
    "\n",
    "$$ E^2 = (\\mathbf{\\hat{y}} - \\mathbf{y})^2 $$"
   ]
  },
  {
   "cell_type": "code",
   "execution_count": 6,
   "metadata": {
    "collapsed": false
   },
   "outputs": [
    {
     "name": "stdout",
     "output_type": "stream",
     "text": [
      "MSE train: 181.229\n",
      "MSE valid: 181.814\n"
     ]
    }
   ],
   "source": [
    "W = np.linalg.inv((Xtra.T).dot(Xtra)).dot(Xtra.T).dot(ytra)\n",
    "\n",
    "mse_train = np.mean(np.square(np.dot(Xtra, W) - ytra))\n",
    "mse_valid = np.mean(np.square(np.dot(Xval, W) - yval))\n",
    "\n",
    "print('MSE train: {:.3f}'.format(mse_train))\n",
    "print('MSE valid: {:.3f}'.format(mse_valid))"
   ]
  },
  {
   "cell_type": "markdown",
   "metadata": {
    "collapsed": true
   },
   "source": [
    "## Aprendizados\n"
   ]
  }
 ],
 "metadata": {
  "kernelspec": {
   "display_name": "Python 3",
   "language": "python",
   "name": "python3"
  },
  "language_info": {
   "codemirror_mode": {
    "name": "ipython",
    "version": 3
   },
   "file_extension": ".py",
   "mimetype": "text/x-python",
   "name": "python",
   "nbconvert_exporter": "python",
   "pygments_lexer": "ipython3",
   "version": "3.6.0"
  },
  "toc": {
   "colors": {
    "hover_highlight": "#DAA520",
    "running_highlight": "#FF0000",
    "selected_highlight": "#FFD700"
   },
   "moveMenuLeft": true,
   "nav_menu": {
    "height": "102px",
    "width": "252px"
   },
   "navigate_menu": true,
   "number_sections": true,
   "sideBar": true,
   "threshold": 4,
   "toc_cell": true,
   "toc_section_display": "block",
   "toc_window_display": false,
   "widenNotebook": false
  }
 },
 "nbformat": 4,
 "nbformat_minor": 2
}
