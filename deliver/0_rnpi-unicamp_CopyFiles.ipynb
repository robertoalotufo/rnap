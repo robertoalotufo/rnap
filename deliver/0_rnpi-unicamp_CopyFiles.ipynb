{
 "cells": [
  {
   "cell_type": "markdown",
   "metadata": {},
   "source": [
    "# Cópia para repositório rnpi-unicamp"
   ]
  },
  {
   "cell_type": "code",
   "execution_count": 2,
   "metadata": {
    "ExecuteTime": {
     "end_time": "2017-08-11T15:52:36.379644",
     "start_time": "2017-08-11T15:52:36.371396"
    },
    "collapsed": true,
    "deletable": true,
    "editable": true
   },
   "outputs": [],
   "source": [
    "import os\n",
    "os.makedirs('../../rnpi-unicamp/src', exist_ok=True)\n",
    "os.makedirs('../../rnpi-unicamp/deliver', exist_ok=True)\n",
    "os.makedirs('../../rnpi-unicamp/data', exist_ok=True)\n",
    "os.makedirs('../../rnpi-unicamp/figures', exist_ok=True)"
   ]
  },
  {
   "cell_type": "code",
   "execution_count": 3,
   "metadata": {
    "ExecuteTime": {
     "end_time": "2017-08-25T21:20:53.181586",
     "start_time": "2017-08-25T21:20:52.946448"
    },
    "collapsed": false
   },
   "outputs": [
    {
     "name": "stdout",
     "output_type": "stream",
     "text": [
      "cp: ../figures/style_transfer is a directory (not copied).\r\n"
     ]
    }
   ],
   "source": [
    "%cp ../figures/* ../../rnpi-unicamp/figures/"
   ]
  },
  {
   "cell_type": "code",
   "execution_count": 4,
   "metadata": {
    "ExecuteTime": {
     "end_time": "2017-08-25T21:35:15.008170",
     "start_time": "2017-08-25T21:35:14.572376"
    },
    "collapsed": false,
    "deletable": true,
    "editable": true
   },
   "outputs": [],
   "source": [
    "%cp ../src/my_keras_utilities.py ../../rnpi-unicamp/src/\n",
    "%cp show_graph.py ../../rnpi-unicamp/deliver/\n",
    "%cp Jview.py ../../rnpi-unicamp/deliver/"
   ]
  },
  {
   "cell_type": "code",
   "execution_count": 5,
   "metadata": {
    "ExecuteTime": {
     "end_time": "2017-08-25T21:35:44.476827",
     "start_time": "2017-08-25T21:35:43.651953"
    },
    "collapsed": true,
    "deletable": true,
    "editable": true
   },
   "outputs": [],
   "source": [
    "%cp ExercicioIntrodutorio-solucao.ipynb ../../rnpi-unicamp/deliver/\n",
    "%cp Git-basico-Git-Classroom.ipynb ../../rnpi-unicamp/deliver/\n",
    "%cp tutorial-python.ipynb ../../rnpi-unicamp/deliver/\n",
    "%cp tutorial-numpy.ipynb ../../rnpi-unicamp/deliver/\n",
    "%cp numpy-reshape-broadcast-reducao.ipynb ../../rnpi-unicamp/deliver/\n",
    "%cp Glossario.ipynb ../../rnpi-unicamp/deliver/"
   ]
  },
  {
   "cell_type": "code",
   "execution_count": 6,
   "metadata": {
    "ExecuteTime": {
     "end_time": "2017-08-25T21:35:56.291785",
     "start_time": "2017-08-25T21:35:53.609863"
    },
    "collapsed": true,
    "deletable": true,
    "editable": true
   },
   "outputs": [],
   "source": [
    "\n",
    "%cp Regressao-Linear.ipynb ../../rnpi-unicamp/deliver/\n",
    "%cp Regressao-Linear-tensorflow.ipynb ../../rnpi-unicamp/deliver/\n",
    "%cp softmax.ipynb ../../rnpi-unicamp/deliver/\n",
    "%cp Regressao-Logistica-Softmax-Iris-2D-matricial.ipynb ../../rnpi-unicamp/deliver/\n",
    "%cp Regressao-Logistica-Softmax-Iris-2D-matricial-Fronteira-Dinamica.ipynb ../../rnpi-unicamp/deliver/\n",
    "%cp Regressao-Logistica-Softmax-Iris-2D-Keras.ipynb ../../rnpi-unicamp/deliver/\n",
    "%cp Regressao-Logistica-Softmax-Iris-2D-Keras-Fronteira-Dinamica.ipynb ../../rnpi-unicamp/deliver/\n",
    "%cp Regressao-Logistica-Softmax-MNIST-matricial.ipynb ../../rnpi-unicamp/deliver/\n",
    "%cp Regressao-Logistica-Softmax-MNIST-Keras.ipynb ../../rnpi-unicamp/deliver/\n",
    "\n",
    "%cp overfitting_regularization.ipynb ../../rnpi-unicamp/deliver/\n",
    "%cp Activations.ipynb ../../rnpi-unicamp/deliver/\n",
    "%cp Densas-2.ipynb ../../rnpi-unicamp/deliver/\n",
    "%cp boston_housing.ipynb ../../rnpi-unicamp/deliver/\n",
    "%cp neural_networks.ipynb ../../rnpi-unicamp/deliver/\n",
    "%cp neural_networks_bias.ipynb ../../rnpi-unicamp/deliver/\n",
    "%cp neural_networks_l2.ipynb ../../rnpi-unicamp/deliver/\n",
    "%cp Regularization.ipynb ../../rnpi-unicamp/deliver/\n",
    "%cp neural_networks_tf.ipynb ../../rnpi-unicamp/deliver/\n",
    "%cp neural-net-mnist.ipynb ../../rnpi-unicamp/deliver/\n",
    "%cp model_selection.ipynb ../../rnpi-unicamp/deliver/"
   ]
  },
  {
   "cell_type": "code",
   "execution_count": 11,
   "metadata": {
    "ExecuteTime": {
     "end_time": "2017-08-25T22:43:19.585008",
     "start_time": "2017-08-25T22:43:17.082956"
    },
    "collapsed": false,
    "deletable": true,
    "editable": true
   },
   "outputs": [],
   "source": [
    "%cp Explorando-Convolucao-no-Keras-usando-TensorFlow.ipynb ../../rnpi-unicamp/deliver/\n",
    "%cp Introducao-CNN-Keras.ipynb ../../rnpi-unicamp/deliver/\n",
    "%cp cifar10-CNN-features.ipynb ../../rnpi-unicamp/deliver/\n",
    "%cp keras-lenet-mnist.ipynb ../../rnpi-unicamp/deliver/\n",
    "%cp batch_norm_mnist_conv.ipynb ../../rnpi-unicamp/deliver/\n",
    "%cp batch_norm_mnist_ioffe.ipynb ../../rnpi-unicamp/deliver/\n",
    "%cp batch_norm_basics.ipynb ../../rnpi-unicamp/deliver/\n",
    "%cp Models_ResNet50.ipynb ../../rnpi-unicamp/deliver/\n",
    "%cp Models_InceptionV3.ipynb ../../rnpi-unicamp/deliver/\n",
    "%cp Models_VGG19.ipynb ../../rnpi-unicamp/deliver/\n",
    "%cp Keras-optimizers.ipynb ../../rnpi-unicamp/deliver/\n",
    "%cp DenseAutoencoder.ipynb ../../rnpi-unicamp/deliver/\n",
    "%cp ConvolutionalAutoencoder.ipynb ../../rnpi-unicamp/deliver/\n",
    "%cp FiltrandoRuidoAutoencoder.ipynb ../../rnpi-unicamp/deliver/\n",
    "%cp fully_convolutional.ipynb ../../rnpi-unicamp/deliver/\n",
    "%cp fully_convolutional_numerico.ipynb ../../rnpi-unicamp/deliver/\n",
    "%cp cats-and-dogs-1.ipynb ../../rnpi-unicamp/deliver/\n",
    "%cp cats-and-dogs-2.ipynb ../../rnpi-unicamp/deliver/\n",
    "%cp cats-and-dogs-3.ipynb ../../rnpi-unicamp/deliver/\n"
   ]
  },
  {
   "cell_type": "code",
   "execution_count": 8,
   "metadata": {
    "ExecuteTime": {
     "end_time": "2017-08-25T21:38:40.961713",
     "start_time": "2017-08-25T21:38:40.426755"
    },
    "collapsed": false,
    "deletable": true,
    "editable": true
   },
   "outputs": [],
   "source": [
    "%cp MovieLens_dataset.ipynb ../../rnpi-unicamp/deliver/\n",
    "%cp embedding-basics.ipynb ../../rnpi-unicamp/deliver/\n",
    "%cp SistemaRecomendacao.ipynb ../../rnpi-unicamp/deliver/\n",
    "%cp rossmann_sales_prediction_kaggle_embedding.ipynb ../../rnpi-unicamp/deliver/\n"
   ]
  },
  {
   "cell_type": "code",
   "execution_count": 9,
   "metadata": {
    "ExecuteTime": {
     "end_time": "2017-08-25T21:39:02.725613",
     "start_time": "2017-08-25T21:39:02.328869"
    },
    "collapsed": true,
    "deletable": true,
    "editable": true
   },
   "outputs": [],
   "source": [
    "%cp SimpleRNN_Numerical.ipynb ../../rnpi-unicamp/deliver/\n",
    "%cp simplernn_lstm_gru_numpy.ipynb ../../rnpi-unicamp/deliver/\n",
    "%cp SimpleRNN_MNIST.ipynb ../../rnpi-unicamp/deliver/"
   ]
  },
  {
   "cell_type": "code",
   "execution_count": 10,
   "metadata": {
    "ExecuteTime": {
     "end_time": "2017-08-25T21:39:24.120568",
     "start_time": "2017-08-25T21:39:23.453872"
    },
    "collapsed": false,
    "deletable": true,
    "editable": true
   },
   "outputs": [],
   "source": [
    "%cp neural_style-1.ipynb ../../rnpi-unicamp/deliver/\n",
    "%cp neural_style-2.ipynb ../../rnpi-unicamp/deliver/\n",
    "%cp neural_style-3.ipynb ../../rnpi-unicamp/deliver/\n",
    "%cp vae_celeba.ipynb ../../rnpi-unicamp/deliver/\n",
    "%cp vae_mnist.ipynb ../../rnpi-unicamp/deliver/\n"
   ]
  },
  {
   "cell_type": "code",
   "execution_count": 10,
   "metadata": {
    "ExecuteTime": {
     "end_time": "2017-08-11T15:52:43.978517",
     "start_time": "2017-08-11T15:52:43.971887"
    },
    "collapsed": false,
    "deletable": true,
    "editable": true
   },
   "outputs": [],
   "source": [
    "# datasets: creditcard.csv, glove.6B.50d.txt, rossmann_train.csv, rossmann_store_states.csv"
   ]
  },
  {
   "cell_type": "markdown",
   "metadata": {},
   "source": [
    "## zipando diretório para distribuição"
   ]
  },
  {
   "cell_type": "code",
   "execution_count": null,
   "metadata": {
    "collapsed": true,
    "deletable": true,
    "editable": true
   },
   "outputs": [],
   "source": [
    "zip -r rnpi-unicamp_final.zip rnpi-unicamp/ -x *.git* --exclude=*.DS_Store* --exclude=*pycache*"
   ]
  }
 ],
 "metadata": {
  "anaconda-cloud": {},
  "kernelspec": {
   "display_name": "Python 3",
   "language": "python",
   "name": "python3"
  },
  "language_info": {
   "codemirror_mode": {
    "name": "ipython",
    "version": 3
   },
   "file_extension": ".py",
   "mimetype": "text/x-python",
   "name": "python",
   "nbconvert_exporter": "python",
   "pygments_lexer": "ipython3",
   "version": "3.6.0"
  },
  "toc": {
   "colors": {
    "hover_highlight": "#DAA520",
    "running_highlight": "#FF0000",
    "selected_highlight": "#FFD700"
   },
   "moveMenuLeft": true,
   "nav_menu": {
    "height": "512px",
    "width": "252px"
   },
   "navigate_menu": true,
   "number_sections": true,
   "sideBar": true,
   "threshold": 4,
   "toc_cell": false,
   "toc_section_display": "block",
   "toc_window_display": false,
   "widenNotebook": false
  }
 },
 "nbformat": 4,
 "nbformat_minor": 0
}
