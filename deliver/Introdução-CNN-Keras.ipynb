{
 "cells": [
  {
   "cell_type": "markdown",
   "metadata": {},
   "source": [
    "# Introduçãos as CNNs no Keras e ilustraçãos resultados obtidos para cada camada da DNN"
   ]
  },
  {
   "cell_type": "markdown",
   "metadata": {},
   "source": [
    "Como funções de ativação, serão utilizados a função ReLU e a Sigmóide. \n",
    "\n",
    "**Sigmóide:**\n",
    "A função sigmoide tem a forma de um \"S\". Ela é definida pela seguinte equação:\n",
    "\n",
    "$$S(x) = \\frac{1}{1+e^{-x}}$$\n",
    "\n",
    "![](https://sebastianraschka.com/images/faq/logisticregr-neuralnet/sigmoid.png)\n",
    "\n",
    "**ReLU:**\n",
    "A função ReLU também chamda de fnção rampa é definida pela seguinte equação:\n",
    "\n",
    "$$f(x) = max(0,x)$$\n",
    "\n",
    "Simplesmente, ela é ativada caso o valor de entrada é maior que zero não alterando o mesmo, caso contrário o valor de entrada é multiplicado por zero na saída.\n",
    "\n",
    "![](http://csci431.artifice.cc/images/relu.png)"
   ]
  },
  {
   "cell_type": "markdown",
   "metadata": {},
   "source": [
    "## Importação dos Módulos"
   ]
  },
  {
   "cell_type": "code",
   "execution_count": 1,
   "metadata": {
    "collapsed": false
   },
   "outputs": [
    {
     "name": "stderr",
     "output_type": "stream",
     "text": [
      "Using Theano backend.\n",
      "Using gpu device 0: Tesla K40c (CNMeM is disabled, cuDNN Version is too old. Update to v5, was 2000.)\n"
     ]
    }
   ],
   "source": [
    "import numpy as np\n",
    "import os\n",
    "os.environ['THEANO_FLAGS'] = \"device=gpu0,floatX=float32\" \n",
    "from keras.models import Model, Sequential\n",
    "from keras.layers import Dense, Dropout, Activation, Flatten\n",
    "from keras.layers import Convolution2D, MaxPooling2D, Input"
   ]
  },
  {
   "cell_type": "markdown",
   "metadata": {},
   "source": [
    "## Definição da CNN\n",
    "\n",
    "Uma CNN pode ser construída de dois modos no Keras. Ela pode ser implementada usando a API, ou seja importa os modelos e introduzindo suas entradas e saídas, ou usando o modelo Sequential em que as camadas são postas diretamente uma abaixo da outra sem a necessidade de explicitamente indicar suas entradas e saídas. Veja os exemplos a seguir:\n"
   ]
  },
  {
   "cell_type": "code",
   "execution_count": 2,
   "metadata": {
    "collapsed": false
   },
   "outputs": [],
   "source": [
    "#### Alterar #####\n",
    "n_filters = 3\n",
    "filter_size = 2 # kerrnel filter_sizexfilter_size\n",
    "f_bias = 0.1 # valor de bias\n",
    "##################\n",
    "\n",
    "# Tamanho da entrada\n",
    "img_rows = 5\n",
    "img_cols = 5\n",
    "\n",
    "# Pesos para as camadas de convolução e densa\n",
    "W_conv = np.ones(shape=(filter_size,1))\n",
    "aux = np.ones(filter_size*n_filters)\n",
    "W_conv+aux # Broadcasting para repetir o kernel no número dado por n_filters\n",
    "W_conv  = (W_conv+aux).reshape(n_filters,1,filter_size,filter_size)\n",
    "\n",
    "#W_conv = np.ones(shape=(2,2)).reshape(1,1,2,2)\n",
    "bias_conv = np.ones(n_filters)*f_bias\n",
    "bias_dense = np.ones(1)*f_bias\n",
    "n = filter_size*filter_size*n_filters\n",
    "W_dense = np.ones(shape=(n)).reshape(n,1)\n",
    "input_shape = (1, img_rows, img_cols)\n",
    "# para desabilitar o bias basta inserir como parâmetro na camada bias = False e apagar ele no weights\n",
    "    \n",
    "def get_cnn_model_API():\n",
    "    \n",
    "    inputs = Input(input_shape, name = 'input')\n",
    "    conv1 = Convolution2D(n_filters, filter_size, filter_size, \n",
    "                          weights = [W_conv,bias_conv],\n",
    "                          name = 'conv1', border_mode='valid')(inputs) \n",
    "    actv1 = Activation('relu', name = 'actv1')(conv1)\n",
    "    pool1 = MaxPooling2D(pool_size=(2,2), name = 'max_pool1')(actv1) \n",
    "    flat = Flatten(name = 'flat')(pool1)\n",
    "    dense1 = Dense(1, weights = [W_dense,bias_dense], name = 'dense1')(flat)\n",
    "    out = Activation('sigmoid', name = 'out_sig')(dense1)\n",
    "\n",
    "    model = Model(input=inputs, output=out)\n",
    "    \n",
    "    return model\n",
    "\n",
    "def get_cnn_model_Sequential():\n",
    "       \n",
    "    model = Sequential()\n",
    "    \n",
    "    model.add(Convolution2D(n_filters, filter_size, filter_size, \n",
    "                          weights = [W_conv,bias_conv],\n",
    "                          name = 'conv1', border_mode='valid',\n",
    "                          input_shape=input_shape))\n",
    "    model.add(Activation('relu', name = 'actv1'))\n",
    "    model.add(MaxPooling2D(pool_size=(2, 2), name = 'max_pool1'))\n",
    "    model.add(Flatten(name = 'flat'))\n",
    "    model.add(Dense(1, weights = [W_dense,bias_dense], name = 'dense1'))\n",
    "    model.add(Activation('sigmoid', name = 'out_sig'))\n",
    "    \n",
    "    return model"
   ]
  },
  {
   "cell_type": "markdown",
   "metadata": {},
   "source": [
    "# Resultados da CNN para uma dada entrada"
   ]
  },
  {
   "cell_type": "markdown",
   "metadata": {},
   "source": [
    "## Exemplo com usando a API do Keras"
   ]
  },
  {
   "cell_type": "code",
   "execution_count": 8,
   "metadata": {
    "collapsed": false
   },
   "outputs": [
    {
     "name": "stdout",
     "output_type": "stream",
     "text": [
      "------------------------------\n",
      "Número de camadas: 6\n",
      "------------------------------\n",
      "--------------------------------------------------------------------------------\n",
      "Saída da camada 1 : conv1\n",
      "--------------------------------------------------------------------------------\n",
      "[[[[ 4.1  2.1  0.1  0.1]\n",
      "   [ 2.1  0.1 -1.9  0.1]\n",
      "   [ 0.1 -1.9 -3.9 -1.9]\n",
      "   [ 0.1  0.1 -1.9  0.1]]\n",
      "\n",
      "  [[ 4.1  2.1  0.1  0.1]\n",
      "   [ 2.1  0.1 -1.9  0.1]\n",
      "   [ 0.1 -1.9 -3.9 -1.9]\n",
      "   [ 0.1  0.1 -1.9  0.1]]\n",
      "\n",
      "  [[ 4.1  2.1  0.1  0.1]\n",
      "   [ 2.1  0.1 -1.9  0.1]\n",
      "   [ 0.1 -1.9 -3.9 -1.9]\n",
      "   [ 0.1  0.1 -1.9  0.1]]]]\n",
      "--------------------------------------------------------------------------------\n",
      "Saída da camada 2 : actv1\n",
      "--------------------------------------------------------------------------------\n",
      "[[[[ 4.1  2.1  0.1  0.1]\n",
      "   [ 2.1  0.1  0.   0.1]\n",
      "   [ 0.1  0.   0.   0. ]\n",
      "   [ 0.1  0.1  0.   0.1]]\n",
      "\n",
      "  [[ 4.1  2.1  0.1  0.1]\n",
      "   [ 2.1  0.1  0.   0.1]\n",
      "   [ 0.1  0.   0.   0. ]\n",
      "   [ 0.1  0.1  0.   0.1]]\n",
      "\n",
      "  [[ 4.1  2.1  0.1  0.1]\n",
      "   [ 2.1  0.1  0.   0.1]\n",
      "   [ 0.1  0.   0.   0. ]\n",
      "   [ 0.1  0.1  0.   0.1]]]]\n",
      "--------------------------------------------------------------------------------\n",
      "Saída da camada 3 : max_pool1\n",
      "--------------------------------------------------------------------------------\n",
      "[[[[ 4.1  0.1]\n",
      "   [ 0.1  0.1]]\n",
      "\n",
      "  [[ 4.1  0.1]\n",
      "   [ 0.1  0.1]]\n",
      "\n",
      "  [[ 4.1  0.1]\n",
      "   [ 0.1  0.1]]]]\n",
      "--------------------------------------------------------------------------------\n",
      "Saída da camada 4 : flat\n",
      "--------------------------------------------------------------------------------\n",
      "[[ 4.1  0.1  0.1  0.1  4.1  0.1  0.1  0.1  4.1  0.1  0.1  0.1]]\n",
      "--------------------------------------------------------------------------------\n",
      "Saída da camada 5 : dense1\n",
      "--------------------------------------------------------------------------------\n",
      "[[ 13.3]]\n",
      "--------------------------------------------------------------------------------\n",
      "Saída da camada 6 : out_sig\n",
      "--------------------------------------------------------------------------------\n",
      "[[ 1.]]\n",
      "____________________________________________________________________________________________________\n",
      "Layer (type)                     Output Shape          Param #     Connected to                     \n",
      "====================================================================================================\n",
      "conv1 (Convolution2D)            (None, 3, 4, 4)       15          convolution2d_input_6[0][0]      \n",
      "____________________________________________________________________________________________________\n",
      "actv1 (Activation)               (None, 3, 4, 4)       0           conv1[0][0]                      \n",
      "____________________________________________________________________________________________________\n",
      "max_pool1 (MaxPooling2D)         (None, 3, 2, 2)       0           actv1[0][0]                      \n",
      "____________________________________________________________________________________________________\n",
      "flat (Flatten)                   (None, 12)            0           max_pool1[0][0]                  \n",
      "____________________________________________________________________________________________________\n",
      "dense1 (Dense)                   (None, 1)             13          flat[0][0]                       \n",
      "____________________________________________________________________________________________________\n",
      "out_sig (Activation)             (None, 1)             0           dense1[0][0]                     \n",
      "====================================================================================================\n",
      "Total params: 28\n",
      "____________________________________________________________________________________________________\n",
      "None\n"
     ]
    }
   ],
   "source": [
    "np.set_printoptions(precision=3)\n",
    "\n",
    "# Leitura do modelo\n",
    "#model = get_cnn_model_API()\n",
    "model = get_cnn_model_Sequential()\n",
    "\n",
    "# Entrada\n",
    "X = np.array([[[[1,0,0,0,0],\n",
    "                [0,1,0,0,0],\n",
    "                [0,0,-1,0,0],\n",
    "                [0,0,0,-1,0],\n",
    "                [0,0,0,0,1]]]])\n",
    "\n",
    "\n",
    "\n",
    "print('-'*30)\n",
    "print \"Número de camadas:\", len(model.layers)\n",
    "print('-'*30)\n",
    "\n",
    "# Resultados para cada camada\n",
    "i = 1\n",
    "for layer in model.layers:\n",
    "    intermediate_layer_model = Model(input=model.input,output=layer.output)\n",
    "    intermediate_output = intermediate_layer_model.predict(X)\n",
    "    print('-'*80)\n",
    "    print \"Saída da camada\", i, \":\", layer.name\n",
    "    print('-'*80)\n",
    "    print intermediate_output\n",
    "    i+=1\n",
    "\n",
    "# Sumário contendo informações de cada camada da CNN, como nome, tipo de camada número de parâmetros e conexões\n",
    "print model.summary()"
   ]
  },
  {
   "cell_type": "markdown",
   "metadata": {},
   "source": [
    "## Sugestões de atividades\n",
    "\n",
    "1. Executar o experimento nos dois modos, API e Sequential.\n",
    "2. Mudar paramêtros das camadas convolucionais e analisar saídas. (filter_size e n_filters)\n",
    "3. Verificar relação entre número de parâmetros e filtros de convolução.\n",
    "4. Adicionar e retirar bias e comparar resultados do número de parâmetros e das saídas. (f_bias)\n"
   ]
  },
  {
   "cell_type": "markdown",
   "metadata": {},
   "source": [
    "## Referências\n",
    "\n",
    "- [Keras Documentation](https://keras.io/)\n"
   ]
  },
  {
   "cell_type": "markdown",
   "metadata": {},
   "source": [
    "## Aprendizados com este notebook\n"
   ]
  }
 ],
 "metadata": {
  "anaconda-cloud": {},
  "kernelspec": {
   "display_name": "Python [Root]",
   "language": "python",
   "name": "Python [Root]"
  },
  "language_info": {
   "codemirror_mode": {
    "name": "ipython",
    "version": 2
   },
   "file_extension": ".py",
   "mimetype": "text/x-python",
   "name": "python",
   "nbconvert_exporter": "python",
   "pygments_lexer": "ipython2",
   "version": "2.7.12"
  }
 },
 "nbformat": 4,
 "nbformat_minor": 0
}
