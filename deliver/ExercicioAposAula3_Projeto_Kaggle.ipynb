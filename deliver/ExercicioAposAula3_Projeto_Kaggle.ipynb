{
 "cells": [
  {
   "cell_type": "markdown",
   "metadata": {},
   "source": [
    "# Exercícios - Revisão"
   ]
  },
  {
   "cell_type": "markdown",
   "metadata": {
    "ExecuteTime": {
     "end_time": "2017-05-29T22:50:01.200256",
     "start_time": "2017-05-29T22:50:01.194212"
    }
   },
   "source": [
    "É recomendado que cada um reveja os seguintes notebooks:\n",
    "\n",
    "- [cats-and-dogs-1 Data augmentation](cats-and-dogs-1.ipynb)\n",
    "- "
   ]
  },
  {
   "cell_type": "markdown",
   "metadata": {},
   "source": [
    "# Projeto - Submissão Kaggle: Dogs vs. Cats Redux: Kernels Edition"
   ]
  },
  {
   "cell_type": "markdown",
   "metadata": {},
   "source": [
    "O projeto nestas duas semanas é fazer a submissão no Kaggle do desafio Dogs vs. Cats.\n",
    "\n",
    "- Você precisa se registrar no site do Kaggle para obter um username e senha.\n",
    "- Veja os detalhes da competição neste site: \n",
    "\n",
    "  - [https://www.kaggle.com/c/dogs-vs-cats-redux-kernels-edition](https://www.kaggle.com/c/dogs-vs-cats-redux-kernels-edition)\n",
    "- Carregar e preparar os dados para treinamento e validação\n",
    "- Treinar a rede\n",
    "- Gerar a predição no conjunto de testes\n",
    "- Validar as predições feitas\n",
    "- Submeter as predições"
   ]
  },
  {
   "cell_type": "markdown",
   "metadata": {},
   "source": [
    "O formato do arquivo csv de submissão ao Kaggle tem a seguinte organização:\n",
    "```\n",
    "imageId,isDog\n",
    "1242, .3984\n",
    "3947, .1000\n",
    "4539, .9082\n",
    "2345, .0000\n",
    "```\n",
    "\n",
    "O `imageId` deve ser seguido pela probabilidade de ser cachorro.\n",
    "A métrica utilizada pelo Kaggle é Log Loss.\n",
    "\n",
    "São 12.500 amostras para teste, sendo que a primeira linha do arquivo .csv contém  o texto `imageId,isDog`\n"
   ]
  },
  {
   "cell_type": "code",
   "execution_count": 5,
   "metadata": {
    "ExecuteTime": {
     "end_time": "2017-05-29T23:06:39.530133",
     "start_time": "2017-05-29T23:06:38.861885"
    },
    "collapsed": true
   },
   "outputs": [],
   "source": [
    "from numpy import genfromtxt\n",
    "my_data = genfromtxt('../data/sample_submission.csv', delimiter=',')"
   ]
  },
  {
   "cell_type": "code",
   "execution_count": 6,
   "metadata": {
    "ExecuteTime": {
     "end_time": "2017-05-29T23:06:51.840864",
     "start_time": "2017-05-29T23:06:51.835241"
    },
    "collapsed": false
   },
   "outputs": [
    {
     "name": "stdout",
     "output_type": "stream",
     "text": [
      "(12501, 2)\n"
     ]
    }
   ],
   "source": [
    "print(my_data.shape)"
   ]
  },
  {
   "cell_type": "code",
   "execution_count": 7,
   "metadata": {
    "ExecuteTime": {
     "end_time": "2017-05-29T23:07:18.117960",
     "start_time": "2017-05-29T23:07:18.108459"
    },
    "collapsed": false
   },
   "outputs": [
    {
     "name": "stdout",
     "output_type": "stream",
     "text": [
      "[[ nan  nan]\n",
      " [ 1.   0.5]\n",
      " [ 2.   0.5]\n",
      " [ 3.   0.5]\n",
      " [ 4.   0.5]\n",
      " [ 5.   0.5]\n",
      " [ 6.   0.5]\n",
      " [ 7.   0.5]\n",
      " [ 8.   0.5]\n",
      " [ 9.   0.5]]\n"
     ]
    }
   ],
   "source": [
    "print(my_data[:10])"
   ]
  },
  {
   "cell_type": "code",
   "execution_count": null,
   "metadata": {
    "collapsed": true
   },
   "outputs": [],
   "source": []
  }
 ],
 "metadata": {
  "kernelspec": {
   "display_name": "Python 3",
   "language": "python",
   "name": "python3"
  },
  "language_info": {
   "codemirror_mode": {
    "name": "ipython",
    "version": 3
   },
   "file_extension": ".py",
   "mimetype": "text/x-python",
   "name": "python",
   "nbconvert_exporter": "python",
   "pygments_lexer": "ipython3",
   "version": "3.6.0"
  },
  "toc": {
   "colors": {
    "hover_highlight": "#DAA520",
    "running_highlight": "#FF0000",
    "selected_highlight": "#FFD700"
   },
   "moveMenuLeft": true,
   "nav_menu": {
    "height": "12px",
    "width": "252px"
   },
   "navigate_menu": true,
   "number_sections": true,
   "sideBar": true,
   "threshold": 4,
   "toc_cell": false,
   "toc_section_display": "block",
   "toc_window_display": false
  }
 },
 "nbformat": 4,
 "nbformat_minor": 2
}
