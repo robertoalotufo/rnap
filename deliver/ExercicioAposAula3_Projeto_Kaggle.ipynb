{
 "cells": [
  {
   "cell_type": "markdown",
   "metadata": {},
   "source": [
    "# Exercícios - Revisão"
   ]
  },
  {
   "cell_type": "markdown",
   "metadata": {
    "ExecuteTime": {
     "end_time": "2017-05-29T22:50:01.200256",
     "start_time": "2017-05-29T22:50:01.194212"
    }
   },
   "source": [
    "É recomendado que cada um reveja os seguintes notebooks:\n",
    "\n",
    "- [cats-and-dogs-1 Data augmentation](cats-and-dogs-1.ipynb)\n",
    "- "
   ]
  },
  {
   "cell_type": "markdown",
   "metadata": {},
   "source": [
    "# Projeto - Submissão Kaggle: Dogs vs. Cats Redux: Kernels Edition"
   ]
  },
  {
   "cell_type": "markdown",
   "metadata": {},
   "source": [
    "O projeto nestas duas semanas é fazer a submissão no Kaggle do desafio Dogs vs. Cats.\n",
    "\n",
    "- Você precisa se registrar no site do Kaggle para obter um username e senha.\n",
    "- Veja os detalhes da competição neste site: \n",
    "\n",
    "  - [https://www.kaggle.com/c/dogs-vs-cats-redux-kernels-edition](https://www.kaggle.com/c/dogs-vs-cats-redux-kernels-edition)"
   ]
  },
  {
   "cell_type": "markdown",
   "metadata": {},
   "source": [
    "## Plano de Ação  "
   ]
  },
  {
   "cell_type": "markdown",
   "metadata": {},
   "source": [
    "- Carregar e preparar os dados para treinamento e validação\n",
    "- Treinar a rede\n",
    "- Gerar a predição no conjunto de testes\n",
    "- Validar as predições feitas\n",
    "- Submeter as predições"
   ]
  },
  {
   "cell_type": "markdown",
   "metadata": {},
   "source": [
    "## Formato do arquivo de submissão"
   ]
  },
  {
   "cell_type": "markdown",
   "metadata": {},
   "source": [
    "O formato do arquivo csv de submissão ao Kaggle tem a seguinte organização:\n",
    "```\n",
    "imageId,isDog\n",
    "1242, .3984\n",
    "3947, .1000\n",
    "4539, .9082\n",
    "2345, .0000\n",
    "```\n",
    "\n",
    "O `imageId` deve ser seguido pela probabilidade de ser cachorro.\n",
    "A métrica utilizada pelo Kaggle é Log Loss.\n",
    "\n",
    "São 12.500 amostras para teste, sendo que a primeira linha do arquivo .csv contém  o texto `imageId,isDog`\n"
   ]
  },
  {
   "cell_type": "code",
   "execution_count": 11,
   "metadata": {
    "ExecuteTime": {
     "end_time": "2017-06-05T19:37:55.473487",
     "start_time": "2017-06-05T19:37:55.306718"
    },
    "collapsed": true
   },
   "outputs": [],
   "source": [
    "from numpy import genfromtxt\n",
    "my_data = genfromtxt('../data/sample_submission.csv', delimiter=',')"
   ]
  },
  {
   "cell_type": "code",
   "execution_count": 12,
   "metadata": {
    "ExecuteTime": {
     "end_time": "2017-06-05T19:37:56.672143",
     "start_time": "2017-06-05T19:37:56.663424"
    },
    "collapsed": false
   },
   "outputs": [
    {
     "name": "stdout",
     "output_type": "stream",
     "text": [
      "(12501, 2)\n"
     ]
    }
   ],
   "source": [
    "print(my_data.shape)"
   ]
  },
  {
   "cell_type": "code",
   "execution_count": 13,
   "metadata": {
    "ExecuteTime": {
     "end_time": "2017-06-05T19:37:57.474537",
     "start_time": "2017-06-05T19:37:57.465391"
    },
    "collapsed": false
   },
   "outputs": [
    {
     "name": "stdout",
     "output_type": "stream",
     "text": [
      "[[ nan  nan]\n",
      " [ 1.   0.5]\n",
      " [ 2.   0.5]\n",
      " [ 3.   0.5]\n",
      " [ 4.   0.5]]\n"
     ]
    }
   ],
   "source": [
    "print(my_data[:5])"
   ]
  },
  {
   "cell_type": "markdown",
   "metadata": {
    "collapsed": true
   },
   "source": [
    "## Preparando as estruturas dos diretórios"
   ]
  },
  {
   "cell_type": "code",
   "execution_count": 1,
   "metadata": {
    "ExecuteTime": {
     "end_time": "2017-06-05T21:41:39.885013",
     "start_time": "2017-06-05T21:41:39.432867"
    },
    "collapsed": true
   },
   "outputs": [],
   "source": [
    "import os, sys\n",
    "import shutil\n",
    "import glob\n",
    "import numpy as np"
   ]
  },
  {
   "cell_type": "code",
   "execution_count": 2,
   "metadata": {
    "ExecuteTime": {
     "end_time": "2017-06-05T21:41:45.227834",
     "start_time": "2017-06-05T21:41:39.983162"
    },
    "collapsed": false
   },
   "outputs": [
    {
     "name": "stderr",
     "output_type": "stream",
     "text": [
      "Using TensorFlow backend.\n"
     ]
    }
   ],
   "source": [
    "import keras\n",
    "from keras.preprocessing import image\n",
    "from keras import backend as K\n",
    "from keras.applications.vgg19 import VGG19\n",
    "K.set_image_data_format(\"channels_last\")"
   ]
  },
  {
   "cell_type": "markdown",
   "metadata": {},
   "source": [
    "### Copiando os arquivos para meu diretório ../data"
   ]
  },
  {
   "cell_type": "markdown",
   "metadata": {},
   "source": [
    "Dentro do diretório data iremos copiar o diretório catsdogs_redux e embaixo dele iremos\n",
    "organizar os diretórios para utilizá-los no treinamento, validação e testes.\n",
    "A organização dos diretórios segue a utilizada pelo Keras na sua função de geração de dados"
   ]
  },
  {
   "cell_type": "code",
   "execution_count": 44,
   "metadata": {
    "ExecuteTime": {
     "end_time": "2017-06-05T20:25:07.130272",
     "start_time": "2017-06-05T20:24:35.537458"
    },
    "collapsed": true
   },
   "outputs": [],
   "source": [
    "Reset = False\n",
    "\n",
    "\n",
    "# Este comando deve ser executado apenas uma vez\n",
    "\n",
    "if Reset:\n",
    "    %rm -rf ../data/catsdogs_redux/\n",
    "    %cp -r ../../../mylocaldatasets/catsdogs_redux ../data/"
   ]
  },
  {
   "cell_type": "markdown",
   "metadata": {},
   "source": [
    "### Verificando dataset: 25000 para treino e 12500 para teste"
   ]
  },
  {
   "cell_type": "code",
   "execution_count": 45,
   "metadata": {
    "ExecuteTime": {
     "end_time": "2017-06-05T20:25:14.427464",
     "start_time": "2017-06-05T20:25:13.100722"
    },
    "collapsed": false
   },
   "outputs": [
    {
     "name": "stdout",
     "output_type": "stream",
     "text": [
      "   25001\n",
      "   12501\n"
     ]
    }
   ],
   "source": [
    "!ls -l ../data/catsdogs_redux/train/ | wc -l \n",
    "!ls -l ../data/catsdogs_redux/test/ | wc -l"
   ]
  },
  {
   "cell_type": "markdown",
   "metadata": {},
   "source": [
    "### Separando diretório de validação com 2000 amostras escolhidas aleatoriament do train"
   ]
  },
  {
   "cell_type": "code",
   "execution_count": 46,
   "metadata": {
    "ExecuteTime": {
     "end_time": "2017-06-05T20:25:35.996421",
     "start_time": "2017-06-05T20:25:35.243248"
    },
    "collapsed": false
   },
   "outputs": [],
   "source": [
    "# criando diretório de validação\n",
    "os.makedirs(\"../data/catsdogs_redux/valid\", exist_ok=True) \n",
    "g = glob.glob('../data/catsdogs_redux/train/*.jpg')\n",
    "shuf = np.random.permutation(g)\n",
    "\n",
    "\n",
    "# ATENÇÃO: A separação no diretório de validação deve ser executada apenas uma vez \n",
    "if Reset:\n",
    "    # Escolhendo apenas as primeiras 2000 amostras embaralhadas e movê-las para valid\n",
    "    for i in range(2000): \n",
    "        os.rename(shuf[i], '../data/catsdogs_redux/valid/' + os.path.basename(shuf[i]))"
   ]
  },
  {
   "cell_type": "code",
   "execution_count": 47,
   "metadata": {
    "ExecuteTime": {
     "end_time": "2017-06-05T20:25:37.416219",
     "start_time": "2017-06-05T20:25:36.952597"
    },
    "collapsed": false
   },
   "outputs": [
    {
     "name": "stdout",
     "output_type": "stream",
     "text": [
      "    2000\n",
      "   23000\n"
     ]
    }
   ],
   "source": [
    "!ls ../data/catsdogs_redux/valid/ | wc -l \n",
    "!ls ../data/catsdogs_redux/train/ | wc -l "
   ]
  },
  {
   "cell_type": "markdown",
   "metadata": {},
   "source": [
    "### Criando dados para testar inicialmente com poucas amostras"
   ]
  },
  {
   "cell_type": "markdown",
   "metadata": {},
   "source": [
    "É importante trabalhar com poucos dados durante a fase de depuração do experimento.\n",
    "Desta forma, o experimento pode ser desenvolvido utilizando um servidor CPU normal.\n",
    "Apenas depois que tudo está desenvolvido é que se deve utilizar servidor com GPU e\n",
    "realizar o experimento com treinamento utilizando todos os dados.\n",
    "\n",
    "- 200 amostras para treinamento\n",
    "- 50 amostras para validação"
   ]
  },
  {
   "cell_type": "code",
   "execution_count": 48,
   "metadata": {
    "ExecuteTime": {
     "end_time": "2017-06-05T20:25:58.576012",
     "start_time": "2017-06-05T20:25:57.784109"
    },
    "collapsed": true
   },
   "outputs": [],
   "source": [
    "# criando diretório de poucas amostras\n",
    "os.makedirs(\"../data/catsdogs_redux/sample\", exist_ok=True) \n",
    "os.makedirs(\"../data/catsdogs_redux/sample/train\", exist_ok=True) \n",
    "g = glob.glob('../data/catsdogs_redux/train/*.jpg')\n",
    "shuf = np.random.permutation(g)\n",
    "\n",
    "if Reset:\n",
    "    for i in range(200): \n",
    "        shutil.copyfile(shuf[i], '../data/catsdogs_redux/sample/train/' + os.path.basename(shuf[i]))\n",
    "\n",
    "os.makedirs(\"../data/catsdogs_redux/sample/valid\", exist_ok=True) \n",
    "g = glob.glob('../data/catsdogs_redux/train/*.jpg')\n",
    "shuf = np.random.permutation(g)\n",
    "\n",
    "if Reset:\n",
    "    for i in range(50): \n",
    "        shutil.copyfile(shuf[i], '../data/catsdogs_redux/sample/valid/' + os.path.basename(shuf[i]))"
   ]
  },
  {
   "cell_type": "markdown",
   "metadata": {},
   "source": [
    "### Separando cats e dogs em diferentes diretórios (tanto no train como no valid)"
   ]
  },
  {
   "cell_type": "code",
   "execution_count": 49,
   "metadata": {
    "ExecuteTime": {
     "end_time": "2017-06-05T20:26:10.993046",
     "start_time": "2017-06-05T20:26:08.112021"
    },
    "collapsed": false
   },
   "outputs": [
    {
     "name": "stdout",
     "output_type": "stream",
     "text": [
      "   11489\n",
      "   11513\n"
     ]
    }
   ],
   "source": [
    "# Dividindo no diretório train\n",
    "os.makedirs('../data/catsdogs_redux/train/cats/', exist_ok=True)\n",
    "g = glob.glob('../data/catsdogs_redux/train/cat.*.jpg')\n",
    "for fname in g:\n",
    "    os.rename(fname,'../data/catsdogs_redux/train/cats/' + os.path.basename(fname) )\n",
    "\n",
    "os.makedirs('../data/catsdogs_redux/train/dogs/', exist_ok=True)\n",
    "g = glob.glob('../data/catsdogs_redux/train/dog.*.jpg')\n",
    "for fname in g:\n",
    "    os.rename(fname,'../data/catsdogs_redux/train/dogs/' + os.path.basename(fname) )\n",
    "\n",
    "!ls -l ../data/catsdogs_redux/train/dogs |wc -l\n",
    "!ls -l ../data/catsdogs_redux/train/cats |wc -l"
   ]
  },
  {
   "cell_type": "code",
   "execution_count": 50,
   "metadata": {
    "ExecuteTime": {
     "end_time": "2017-06-05T20:26:23.726666",
     "start_time": "2017-06-05T20:26:23.071235"
    },
    "collapsed": false
   },
   "outputs": [
    {
     "name": "stdout",
     "output_type": "stream",
     "text": [
      "    1013\n",
      "     989\n"
     ]
    }
   ],
   "source": [
    "# Dividindo no diretório valid\n",
    "os.makedirs('../data/catsdogs_redux/valid/cats/', exist_ok=True)\n",
    "g = glob.glob('../data/catsdogs_redux/valid/cat.*.jpg')\n",
    "for fname in g:\n",
    "    os.rename(fname,'../data/catsdogs_redux/valid/cats/' + os.path.basename(fname) )\n",
    "\n",
    "os.makedirs('../data/catsdogs_redux/valid/dogs/', exist_ok=True)\n",
    "g = glob.glob('../data/catsdogs_redux/valid/dog.*.jpg')\n",
    "for fname in g:\n",
    "    os.rename(fname,'../data/catsdogs_redux/valid/dogs/' + os.path.basename(fname) )\n",
    "\n",
    "!ls -l ../data/catsdogs_redux/valid/dogs |wc -l\n",
    "!ls -l ../data/catsdogs_redux/valid/cats |wc -l"
   ]
  },
  {
   "cell_type": "code",
   "execution_count": 51,
   "metadata": {
    "ExecuteTime": {
     "end_time": "2017-06-05T20:26:31.951706",
     "start_time": "2017-06-05T20:26:31.623999"
    },
    "collapsed": false
   },
   "outputs": [
    {
     "name": "stdout",
     "output_type": "stream",
     "text": [
      "     110\n",
      "      92\n"
     ]
    }
   ],
   "source": [
    "# Dividindo no diretório sample/train\n",
    "os.makedirs('../data/catsdogs_redux/sample/train/cats/', exist_ok=True)\n",
    "g = glob.glob('../data/catsdogs_redux/sample/train/cat.*.jpg')\n",
    "for fname in g:\n",
    "    os.rename(fname,'../data/catsdogs_redux/sample/train/cats/' + os.path.basename(fname) )\n",
    "\n",
    "os.makedirs('../data/catsdogs_redux/sample/train/dogs/', exist_ok=True)\n",
    "g = glob.glob('../data/catsdogs_redux/sample/train/dog.*.jpg')\n",
    "for fname in g:\n",
    "    os.rename(fname,'../data/catsdogs_redux/sample/train/dogs/' + os.path.basename(fname) )\n",
    "\n",
    "!ls -l ../data/catsdogs_redux/sample/train/dogs |wc -l\n",
    "!ls -l ../data/catsdogs_redux/sample/train/cats |wc -l"
   ]
  },
  {
   "cell_type": "code",
   "execution_count": 52,
   "metadata": {
    "ExecuteTime": {
     "end_time": "2017-06-05T20:26:36.061579",
     "start_time": "2017-06-05T20:26:35.771185"
    },
    "collapsed": false
   },
   "outputs": [
    {
     "name": "stdout",
     "output_type": "stream",
     "text": [
      "      29\n",
      "      23\n"
     ]
    }
   ],
   "source": [
    "# Dividindo no diretório sample/valid\n",
    "os.makedirs('../data/catsdogs_redux/sample/valid/cats/', exist_ok=True)\n",
    "g = glob.glob('../data/catsdogs_redux/sample/valid/cat.*.jpg')\n",
    "for fname in g:\n",
    "    os.rename(fname,'../data/catsdogs_redux/sample/valid/cats/' + os.path.basename(fname) )\n",
    "\n",
    "os.makedirs('../data/catsdogs_redux/sample/valid/dogs/', exist_ok=True)\n",
    "g = glob.glob('../data/catsdogs_redux/sample/valid/dog.*.jpg')\n",
    "for fname in g:\n",
    "    os.rename(fname,'../data/catsdogs_redux/sample/valid/dogs/' + os.path.basename(fname) )\n",
    "\n",
    "!ls -l ../data/catsdogs_redux/sample/valid/dogs |wc -l\n",
    "!ls -l ../data/catsdogs_redux/sample/valid/cats |wc -l"
   ]
  },
  {
   "cell_type": "code",
   "execution_count": 53,
   "metadata": {
    "ExecuteTime": {
     "end_time": "2017-06-05T20:33:28.106981",
     "start_time": "2017-06-05T20:33:28.094713"
    },
    "collapsed": true
   },
   "outputs": [],
   "source": [
    "os.makedirs('../data/catsdogs_redux/results')\n",
    "os.makedirs('../data/catsdogs_redux/sample/results')"
   ]
  },
  {
   "cell_type": "markdown",
   "metadata": {},
   "source": [
    "## Criando a Rede e Treinando"
   ]
  },
  {
   "cell_type": "code",
   "execution_count": 54,
   "metadata": {
    "ExecuteTime": {
     "end_time": "2017-06-05T20:36:47.336116",
     "start_time": "2017-06-05T20:36:47.280094"
    },
    "collapsed": true
   },
   "outputs": [],
   "source": [
    "batch_size=64\n",
    "epochs=3\n",
    "\n",
    "#Configure path para sample/ e depois que estiver tudo testado, tirar\n",
    "path = '../data/catsdogs_redux/sample/'\n",
    "#path = '../data/catsdogs_redux/'\n",
    "\n",
    "test_path  = path + 'test/'\n",
    "train_path = path + 'train/'\n",
    "valid_path = path + 'valid/'\n",
    "results_path= path + 'results/'"
   ]
  },
  {
   "cell_type": "code",
   "execution_count": null,
   "metadata": {
    "ExecuteTime": {
     "start_time": "2017-06-06T00:42:22.943Z"
    },
    "collapsed": false
   },
   "outputs": [
    {
     "name": "stdout",
     "output_type": "stream",
     "text": [
      "Downloading data from https://github.com/fchollet/deep-learning-models/releases/download/v0.1/vgg19_weights_tf_dim_ordering_tf_kernels_notop.h5\n"
     ]
    }
   ],
   "source": [
    "model = VGG19(weights='imagenet',include_top=False)"
   ]
  },
  {
   "cell_type": "code",
   "execution_count": 60,
   "metadata": {
    "ExecuteTime": {
     "end_time": "2017-06-05T21:13:57.757283",
     "start_time": "2017-06-05T21:13:57.718883"
    },
    "collapsed": false
   },
   "outputs": [
    {
     "name": "stdout",
     "output_type": "stream",
     "text": [
      "Found 200 images belonging to 2 classes.\n",
      "Found 50 images belonging to 2 classes.\n"
     ]
    }
   ],
   "source": [
    "gen=image.ImageDataGenerator()\n",
    "\n",
    "batches = gen.flow_from_directory(train_path, \n",
    "                                  target_size=(224,224),\n",
    "                                  class_mode='categorical', \n",
    "                                  shuffle=True, \n",
    "                                  batch_size=batch_size)\n",
    "val_batches = gen.flow_from_directory(valid_path,\n",
    "                                     target_size=(224,224),\n",
    "                                     class_mode='categorical',\n",
    "                                     shuffle=True,\n",
    "                                     batch_size=batch_size)"
   ]
  },
  {
   "cell_type": "code",
   "execution_count": null,
   "metadata": {
    "collapsed": true
   },
   "outputs": [],
   "source": []
  }
 ],
 "metadata": {
  "kernelspec": {
   "display_name": "Python 3",
   "language": "python",
   "name": "python3"
  },
  "language_info": {
   "codemirror_mode": {
    "name": "ipython",
    "version": 3
   },
   "file_extension": ".py",
   "mimetype": "text/x-python",
   "name": "python",
   "nbconvert_exporter": "python",
   "pygments_lexer": "ipython3",
   "version": "3.6.0"
  },
  "toc": {
   "colors": {
    "hover_highlight": "#DAA520",
    "running_highlight": "#FF0000",
    "selected_highlight": "#FFD700"
   },
   "moveMenuLeft": true,
   "nav_menu": {
    "height": "12px",
    "width": "252px"
   },
   "navigate_menu": true,
   "number_sections": true,
   "sideBar": true,
   "threshold": 4,
   "toc_cell": false,
   "toc_section_display": "block",
   "toc_window_display": false
  }
 },
 "nbformat": 4,
 "nbformat_minor": 2
}
