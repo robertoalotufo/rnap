{
 "cells": [
  {
   "cell_type": "markdown",
   "metadata": {
    "toc": "true"
   },
   "source": [
    "# Table of Contents\n",
    " <p><div class=\"lev1 toc-item\"><a href=\"#Batch-Normalization\" data-toc-modified-id=\"Batch-Normalization-1\"><span class=\"toc-item-num\">1&nbsp;&nbsp;</span>Batch Normalization</a></div><div class=\"lev2 toc-item\"><a href=\"#Importações-e-ajustes\" data-toc-modified-id=\"Importações-e-ajustes-11\"><span class=\"toc-item-num\">1.1&nbsp;&nbsp;</span>Importações e ajustes</a></div><div class=\"lev2 toc-item\"><a href=\"#O-Algoritmo\" data-toc-modified-id=\"O-Algoritmo-12\"><span class=\"toc-item-num\">1.2&nbsp;&nbsp;</span>O Algoritmo</a></div><div class=\"lev3 toc-item\"><a href=\"#Equações\" data-toc-modified-id=\"Equações-121\"><span class=\"toc-item-num\">1.2.1&nbsp;&nbsp;</span>Equações</a></div><div class=\"lev3 toc-item\"><a href=\"#Grafo-de-operações\" data-toc-modified-id=\"Grafo-de-operações-122\"><span class=\"toc-item-num\">1.2.2&nbsp;&nbsp;</span>Grafo de operações</a></div><div class=\"lev2 toc-item\"><a href=\"#Keras:-parâmetros\" data-toc-modified-id=\"Keras:-parâmetros-13\"><span class=\"toc-item-num\">1.3&nbsp;&nbsp;</span>Keras: parâmetros</a></div><div class=\"lev3 toc-item\"><a href=\"#Entrada-com-dimensão-2\" data-toc-modified-id=\"Entrada-com-dimensão-2-131\"><span class=\"toc-item-num\">1.3.1&nbsp;&nbsp;</span>Entrada com dimensão 2</a></div><div class=\"lev3 toc-item\"><a href=\"#Entrada-com-dimensão-4\" data-toc-modified-id=\"Entrada-com-dimensão-4-132\"><span class=\"toc-item-num\">1.3.2&nbsp;&nbsp;</span>Entrada com dimensão 4</a></div><div class=\"lev2 toc-item\"><a href=\"#Keras:-Execução-na-fase-de-treinamento\" data-toc-modified-id=\"Keras:-Execução-na-fase-de-treinamento-14\"><span class=\"toc-item-num\">1.4&nbsp;&nbsp;</span>Keras: Execução na fase de treinamento</a></div><div class=\"lev2 toc-item\"><a href=\"#Keras:-Execução-na-fase-de-testes\" data-toc-modified-id=\"Keras:-Execução-na-fase-de-testes-15\"><span class=\"toc-item-num\">1.5&nbsp;&nbsp;</span>Keras: Execução na fase de testes</a></div>"
   ]
  },
  {
   "cell_type": "markdown",
   "metadata": {},
   "source": [
    "# Batch Normalization"
   ]
  },
  {
   "cell_type": "markdown",
   "metadata": {
    "heading_collapsed": true
   },
   "source": [
    "## Importações e ajustes"
   ]
  },
  {
   "cell_type": "code",
   "execution_count": 52,
   "metadata": {
    "collapsed": false,
    "hidden": true
   },
   "outputs": [
    {
     "name": "stdout",
     "output_type": "stream",
     "text": [
      "Keras  2.0.4\n"
     ]
    }
   ],
   "source": [
    "%matplotlib inline\n",
    "import matplotlib.pyplot as plot\n",
    "from IPython import display\n",
    "\n",
    "import sys\n",
    "import numpy as np\n",
    "import numpy.random as nr\n",
    "\n",
    "import keras\n",
    "from keras.preprocessing.image import ImageDataGenerator, load_img, img_to_array\n",
    "from keras.models import Sequential\n",
    "from keras.layers import Convolution2D, MaxPooling2D\n",
    "from keras.layers import Activation, Dropout, Flatten, Dense, BatchNormalization\n",
    "from keras.initializers import Constant\n",
    "\n",
    "from keras import backend as K\n",
    "\n",
    "print('Keras ', keras.__version__)\n",
    "\n",
    "np.set_printoptions(precision=2, suppress=True)\n",
    "nr.seed(23456)\n"
   ]
  },
  {
   "cell_type": "markdown",
   "metadata": {},
   "source": [
    "## O Algoritmo\n",
    "\n",
    "Para descrição do algoritmo, veja o artigo original:\n",
    "[Batch Normalization: Accelerating Deep Network Training by Reducing Internal Covariate Shift](https://arxiv.org/pdf/1502.03167.pdf) \n",
    "\n",
    "### Equações\n",
    "\\begin{align*} \n",
    "\\boldsymbol{\\mu} &= \\frac{1}{m} \\sum_{i = 1}^{m} \\boldsymbol{x_i} &&\n",
    "\\boldsymbol{\\sigma^{2}} = \\frac{1}{m} \\sum_{i = 1}^{m} (\\boldsymbol{x_i} - \\boldsymbol{\\mu})^{2}\n",
    "\\\\[3mm]\n",
    "\\hat{\\boldsymbol{x_i}} &= \\frac{\\boldsymbol{x_i} - \\boldsymbol{\\mu}}{\\sqrt{\\boldsymbol{\\sigma^{2}} + \\epsilon}} &&\n",
    "\\boldsymbol{y_i} = \\gamma \\hat{\\boldsymbol{x_i}} + \\beta\n",
    "\\end{align*}\n",
    "\n",
    "### Grafo de operações\n",
    "<table align='left'>\n",
    "<tr><td> <img src=\"https://drive.google.com/uc?id=0By1KMDFVxsI2ZGN6eWhCeTJSMDg\"> </td></tr>\n",
    "</table>"
   ]
  },
  {
   "cell_type": "markdown",
   "metadata": {},
   "source": [
    "## Keras: parâmetros"
   ]
  },
  {
   "cell_type": "markdown",
   "metadata": {},
   "source": [
    "### Entrada com dimensão 2\n",
    "\n",
    "Usualmente, quando a entrada da camada tem duas dimensões (amostras e atributos) a normalização é feita na dimensão dos atributos, *axis=1*. Ou seja, calcula-se a estatística (média e variância) para cada coluna da matriz de dados, em cada *mini-batch*."
   ]
  },
  {
   "cell_type": "code",
   "execution_count": 53,
   "metadata": {
    "collapsed": false
   },
   "outputs": [
    {
     "name": "stdout",
     "output_type": "stream",
     "text": [
      "_________________________________________________________________\n",
      "Layer (type)                 Output Shape              Param #   \n",
      "=================================================================\n",
      "batch_normalization_29 (Batc (None, 5)                 20        \n",
      "=================================================================\n",
      "Total params: 20\n",
      "Trainable params: 10\n",
      "Non-trainable params: 10\n",
      "_________________________________________________________________\n"
     ]
    }
   ],
   "source": [
    "model = Sequential()\n",
    "model.add(BatchNormalization(axis=1, input_shape=(5,), momentum=0.9, epsilon=0.0001, \n",
    "                             gamma_initializer=Constant(10), \n",
    "                             beta_initializer=Constant(11), \n",
    "                             moving_mean_initializer=Constant(12), \n",
    "                             moving_variance_initializer=Constant(13)))\n",
    "model.summary()"
   ]
  },
  {
   "cell_type": "code",
   "execution_count": 54,
   "metadata": {
    "collapsed": false
   },
   "outputs": [
    {
     "name": "stdout",
     "output_type": "stream",
     "text": [
      "\n",
      "Configuration:\n",
      "--------------\n",
      "  name                          : batch_normalization_29\n",
      "  trainable                     : True\n",
      "  batch_input_shape             : (None, 5)\n",
      "  dtype                         : float32\n",
      "  axis                          : 1\n",
      "  momentum                      : 0.9\n",
      "  epsilon                       : 0.0001\n",
      "  center                        : True\n",
      "  scale                         : True\n",
      "  beta_initializer              : {'class_name': 'Constant', 'config': {'value': 11}}\n",
      "  gamma_initializer             : {'class_name': 'Constant', 'config': {'value': 10}}\n",
      "  moving_mean_initializer       : {'class_name': 'Constant', 'config': {'value': 12}}\n",
      "  moving_variance_initializer   : {'class_name': 'Constant', 'config': {'value': 13}}\n",
      "  beta_regularizer              : None\n",
      "  gamma_regularizer             : None\n",
      "  beta_constraint               : None\n",
      "  gamma_constraint              : None\n",
      "\n",
      "Parameters:\n",
      "-----------\n",
      "  Trainable: batch_normalization_29/gamma:0\n",
      "  Trainable: batch_normalization_29/beta:0\n",
      "             batch_normalization_29/moving_mean:0\n",
      "             batch_normalization_29/moving_variance:0\n",
      "\n",
      "model.get_weights():\n",
      "--------------------\n",
      "   [ 10.  10.  10.  10.  10.] (5,)\n",
      "   [ 11.  11.  11.  11.  11.] (5,)\n",
      "   [ 12.  12.  12.  12.  12.] (5,)\n",
      "   [ 13.  13.  13.  13.  13.] (5,)\n"
     ]
    }
   ],
   "source": [
    "for layer in model.layers:\n",
    "    print('\\nConfiguration:')\n",
    "    print('--------------')\n",
    "    for k, v in layer.get_config().items():\n",
    "        print('  {:30s}: {}'.format(k, v))\n",
    "    print('\\nParameters:')\n",
    "    print('-----------')\n",
    "    for p in layer.weights:\n",
    "        if p in layer.trainable_weights:\n",
    "            print('  Trainable:', p.name)\n",
    "        else:\n",
    "            print('            ', p.name)\n",
    "print('\\nmodel.get_weights():')\n",
    "print('--------------------')\n",
    "for w in model.get_weights():\n",
    "    print('  ', w, w.shape)"
   ]
  },
  {
   "cell_type": "markdown",
   "metadata": {},
   "source": [
    "### Entrada com dimensão 4\n",
    "\n",
    "Usualmente, quando a entrada da camada tem quatro dimensões (amostras, filtros, altura e largura), a normalização é feita na segunda dimensão, *axis=1*, que corresponde aos filtros (canais). Ou seja, calcula-se a estatística (média e variância) para cada *mapa de atributos* do tensor. Assim, preserva-se a propriedade da invariância à translação, característica importante das convoluções."
   ]
  },
  {
   "cell_type": "code",
   "execution_count": 62,
   "metadata": {
    "collapsed": false
   },
   "outputs": [
    {
     "name": "stdout",
     "output_type": "stream",
     "text": [
      "_________________________________________________________________\n",
      "Layer (type)                 Output Shape              Param #   \n",
      "=================================================================\n",
      "batch_normalization_34 (Batc (None, 3, 10, 10)         12        \n",
      "=================================================================\n",
      "Total params: 12\n",
      "Trainable params: 6\n",
      "Non-trainable params: 6\n",
      "_________________________________________________________________\n"
     ]
    }
   ],
   "source": [
    "model = Sequential()\n",
    "model.add(BatchNormalization(axis=1, input_shape=(3, 10, 10), \n",
    "                             gamma_initializer=Constant(0), \n",
    "                             beta_initializer=Constant(1), \n",
    "                             moving_mean_initializer=Constant(2), \n",
    "                             moving_variance_initializer=Constant(3)))\n",
    "model.summary()"
   ]
  },
  {
   "cell_type": "code",
   "execution_count": 56,
   "metadata": {
    "collapsed": false
   },
   "outputs": [
    {
     "name": "stdout",
     "output_type": "stream",
     "text": [
      "\n",
      "Configuration:\n",
      "--------------\n",
      "  name                          : batch_normalization_30\n",
      "  trainable                     : True\n",
      "  batch_input_shape             : (None, 3, 10, 10)\n",
      "  dtype                         : float32\n",
      "  axis                          : 1\n",
      "  momentum                      : 0.99\n",
      "  epsilon                       : 0.001\n",
      "  center                        : True\n",
      "  scale                         : True\n",
      "  beta_initializer              : {'class_name': 'Constant', 'config': {'value': 1}}\n",
      "  gamma_initializer             : {'class_name': 'Constant', 'config': {'value': 0}}\n",
      "  moving_mean_initializer       : {'class_name': 'Constant', 'config': {'value': 2}}\n",
      "  moving_variance_initializer   : {'class_name': 'Constant', 'config': {'value': 3}}\n",
      "  beta_regularizer              : None\n",
      "  gamma_regularizer             : None\n",
      "  beta_constraint               : None\n",
      "  gamma_constraint              : None\n",
      "\n",
      "Parameters:\n",
      "-----------\n",
      "  Trainable: batch_normalization_30/gamma:0\n",
      "  Trainable: batch_normalization_30/beta:0\n",
      "             batch_normalization_30/moving_mean:0\n",
      "             batch_normalization_30/moving_variance:0\n",
      "\n",
      "model.get_weights():\n",
      "--------------------\n",
      "   [ 0.  0.  0.] (3,)\n",
      "   [ 1.  1.  1.] (3,)\n",
      "   [ 2.  2.  2.] (3,)\n",
      "   [ 3.  3.  3.] (3,)\n"
     ]
    }
   ],
   "source": [
    "for layer in model.layers:\n",
    "    print('\\nConfiguration:')\n",
    "    print('--------------')\n",
    "    for k, v in layer.get_config().items():\n",
    "        print('  {:30s}: {}'.format(k, v))\n",
    "    print('\\nParameters:')\n",
    "    print('-----------')\n",
    "    for p in layer.weights:\n",
    "        if p in layer.trainable_weights:\n",
    "            print('  Trainable:', p.name)\n",
    "        else:\n",
    "            print('            ', p.name)\n",
    "print('\\nmodel.get_weights():')\n",
    "print('--------------------')\n",
    "for w in model.get_weights():\n",
    "    print('  ', w, w.shape)"
   ]
  },
  {
   "cell_type": "markdown",
   "metadata": {},
   "source": [
    "## Keras: Execução na fase de treinamento"
   ]
  },
  {
   "cell_type": "code",
   "execution_count": 57,
   "metadata": {
    "collapsed": false,
    "scrolled": false
   },
   "outputs": [
    {
     "name": "stdout",
     "output_type": "stream",
     "text": [
      "[[  6.44   6.55  18.55   6.23   3.24]\n",
      " [  7.28  10.58  15.78  17.51  12.73]\n",
      " [ 19.79  16.32   0.83   4.06   3.05]\n",
      " [ 15.06   9.1   19.09  18.75   2.71]\n",
      " [  4.72   6.3   13.45  12.41  12.44]\n",
      " [ 16.76  12.62  11.22  19.74  13.66]\n",
      " [  2.03  18.8   13.03   4.55   8.64]\n",
      " [  7.8   15.12   2.85   0.2   16.76]\n",
      " [  2.18   4.98   9.52  17.68   3.55]\n",
      " [ 15.72   0.7   12.17   6.17  15.4 ]] [  9.78  10.11  11.65  10.73   9.22] [ 6.14  5.37  5.7   6.91  5.35]\n",
      "\n",
      "[[  0.28  -0.66   1.21  -0.65  -1.12]\n",
      " [  0.97   0.09   0.73   0.98   0.66]\n",
      " [ 11.16   1.16  -1.9   -0.97  -1.15]\n",
      " [  7.3   -0.19   1.31   1.16  -1.22]\n",
      " [ -1.12  -0.71   0.32   0.24   0.6 ]\n",
      " [  8.68   0.47  -0.08   1.3    0.83]\n",
      " [ -3.31   1.62   0.24  -0.89  -0.11]\n",
      " [  1.39   0.93  -1.54  -1.52   1.41]\n",
      " [ -3.19  -0.95  -0.37   1.01  -1.06]\n",
      " [  7.84  -1.75   0.09  -0.66   1.16]] [ 3.  0.  0. -0. -0.] [ 5.  1.  1.  1.  1.]\n"
     ]
    }
   ],
   "source": [
    "K.set_learning_phase(1)\n",
    "\n",
    "model = Sequential()\n",
    "model.add(BatchNormalization(axis=1, input_shape=(5,), momentum=0.99, epsilon=0.0001))\n",
    "\n",
    "model.set_weights([[ 5., 1., 1., 1., 1.],     # gamma\n",
    "                   [ 3., 0., 0., 0., 0.],     # beta\n",
    "                   [ 0., 0., 0., 0., 0.],\n",
    "                   [ 1., 1., 1., 1., 1.]])\n",
    "\n",
    "x = nr.random(size=(10, 5)) * 20\n",
    "print(x, x.mean(0), x.std(0))\n",
    "print()\n",
    "\n",
    "y = model.predict(x, batch_size=10)\n",
    "print(y, y.mean(0), y.std(0))\n"
   ]
  },
  {
   "cell_type": "code",
   "execution_count": 58,
   "metadata": {
    "collapsed": false
   },
   "outputs": [
    {
     "name": "stdout",
     "output_type": "stream",
     "text": [
      "[[  0.28  -0.66   1.21  -0.65  -1.12]\n",
      " [  0.97   0.09   0.73   0.98   0.66]\n",
      " [ 11.16   1.16  -1.9   -0.97  -1.15]\n",
      " [  7.3   -0.19   1.31   1.16  -1.22]\n",
      " [ -1.12  -0.71   0.32   0.24   0.6 ]\n",
      " [  8.68   0.47  -0.08   1.3    0.83]\n",
      " [ -3.31   1.62   0.24  -0.89  -0.11]\n",
      " [  1.39   0.93  -1.54  -1.52   1.41]\n",
      " [ -3.19  -0.95  -0.37   1.01  -1.06]\n",
      " [  7.84  -1.75   0.09  -0.66   1.16]] [ 3. -0.  0. -0.  0.] [ 5.  1.  1.  1.  1.]\n"
     ]
    }
   ],
   "source": [
    "gamma, beta, mv_mean, mv_var = model.get_weights()\n",
    "\n",
    "x2 = x - x.mean(0)\n",
    "x2 /= x2.std(0)\n",
    "\n",
    "x3 = x2 * gamma + beta\n",
    "\n",
    "print(x3, x3.mean(0), x3.std(0))"
   ]
  },
  {
   "cell_type": "markdown",
   "metadata": {},
   "source": [
    "## Keras: Execução na fase de testes"
   ]
  },
  {
   "cell_type": "code",
   "execution_count": 59,
   "metadata": {
    "collapsed": false
   },
   "outputs": [
    {
     "name": "stdout",
     "output_type": "stream",
     "text": [
      "[[ 11.93   1.89   8.87  16.09  13.22]\n",
      " [  4.34  18.26  11.8   16.71  11.83]\n",
      " [  5.66   1.13   5.83   6.64  17.66]\n",
      " [ 16.51  13.89  11.76   4.87   9.9 ]\n",
      " [ 16.43  18.43  10.69  11.26   0.42]\n",
      " [  6.33   0.14  11.56  11.57  13.15]\n",
      " [  2.91   9.98   9.79   2.48   9.13]\n",
      " [  0.92  12.94   7.76  11.34   7.56]\n",
      " [ 16.73  11.3   19.73  15.88   9.73]\n",
      " [  3.71  17.7    2.68  17.62  18.92]] [  8.55  10.57  10.05  11.45  11.15] [ 5.9   6.8   4.26  5.04  4.97]\n",
      "\n",
      "[[  4.97   1.89   8.87  16.09  13.22]\n",
      " [  1.17  18.26  11.8   16.71  11.83]\n",
      " [  1.83   1.13   5.83   6.63  17.65]\n",
      " [  7.25  13.89  11.76   4.87   9.9 ]\n",
      " [  7.22  18.43  10.69  11.26   0.42]\n",
      " [  2.17   0.14  11.56  11.57  13.15]\n",
      " [  0.46   9.98   9.79   2.48   9.13]\n",
      " [ -0.54  12.94   7.76  11.34   7.56]\n",
      " [  7.37  11.3   19.73  15.88   9.73]\n",
      " [  0.86  17.7    2.68  17.62  18.92]] [  3.27  10.57  10.05  11.44  11.15] [ 2.95  6.8   4.26  5.04  4.97]\n"
     ]
    }
   ],
   "source": [
    "K.set_learning_phase(0)\n",
    "\n",
    "model = Sequential()\n",
    "model.add(BatchNormalization(axis=1, input_shape=(5,), momentum=0.999, epsilon=0.0001))\n",
    "\n",
    "model.set_weights([[ 1., 1., 1., 1., 1.],     # gamma\n",
    "                   [ 0., 0., 0., 0., 0.],     # beta\n",
    "                   [ 2., 0., 0., 0., 0.],     # moving_mean\n",
    "                   [ 4., 1., 1., 1., 1.]])    # moving_variance\n",
    "\n",
    "x = nr.random(size=(10, 5)) * 20\n",
    "print(x, x.mean(0), x.std(0))\n",
    "print()\n",
    "\n",
    "y = model.predict(x, batch_size=10)\n",
    "print(y, y.mean(0), y.std(0))\n"
   ]
  },
  {
   "cell_type": "code",
   "execution_count": 60,
   "metadata": {
    "collapsed": false
   },
   "outputs": [
    {
     "name": "stdout",
     "output_type": "stream",
     "text": [
      "[[  4.97   1.89   8.87  16.09  13.22]\n",
      " [  1.17  18.26  11.8   16.71  11.83]\n",
      " [  1.83   1.13   5.83   6.64  17.66]\n",
      " [  7.25  13.89  11.76   4.87   9.9 ]\n",
      " [  7.22  18.43  10.69  11.26   0.42]\n",
      " [  2.17   0.14  11.56  11.57  13.15]\n",
      " [  0.46   9.98   9.79   2.48   9.13]\n",
      " [ -0.54  12.94   7.76  11.34   7.56]\n",
      " [  7.37  11.3   19.73  15.88   9.73]\n",
      " [  0.86  17.7    2.68  17.62  18.92]] [  3.27  10.57  10.05  11.45  11.15] [ 2.95  6.8   4.26  5.04  4.97]\n"
     ]
    }
   ],
   "source": [
    "gamma, beta, mv_mean, mv_var = model.get_weights()\n",
    "\n",
    "x2 = x - mv_mean\n",
    "x2 /= np.sqrt(mv_var)\n",
    "\n",
    "x3 = x2 * gamma + beta\n",
    "\n",
    "print(x3, x3.mean(0), x3.std(0))"
   ]
  },
  {
   "cell_type": "code",
   "execution_count": null,
   "metadata": {
    "collapsed": true
   },
   "outputs": [],
   "source": []
  }
 ],
 "metadata": {
  "kernelspec": {
   "display_name": "Python 3",
   "language": "python",
   "name": "python3"
  },
  "language_info": {
   "codemirror_mode": {
    "name": "ipython",
    "version": 3
   },
   "file_extension": ".py",
   "mimetype": "text/x-python",
   "name": "python",
   "nbconvert_exporter": "python",
   "pygments_lexer": "ipython3",
   "version": "3.6.0"
  },
  "latex_envs": {
   "LaTeX_envs_menu_present": true,
   "autocomplete": true,
   "bibliofile": "biblio.bib",
   "cite_by": "apalike",
   "current_citInitial": 1,
   "eqLabelWithNumbers": true,
   "eqNumInitial": 1,
   "hotkeys": {
    "equation": "Ctrl-E",
    "itemize": "Ctrl-I"
   },
   "labels_anchors": false,
   "latex_user_defs": false,
   "report_style_numbering": false,
   "user_envs_cfg": false
  },
  "toc": {
   "colors": {
    "hover_highlight": "#DAA520",
    "navigate_num": "#000000",
    "navigate_text": "#333333",
    "running_highlight": "#FF0000",
    "selected_highlight": "#FFD700",
    "sidebar_border": "#EEEEEE",
    "wrapper_background": "#FFFFFF"
   },
   "moveMenuLeft": true,
   "nav_menu": {
    "height": "12px",
    "width": "252px"
   },
   "navigate_menu": true,
   "number_sections": true,
   "sideBar": true,
   "threshold": 4,
   "toc_cell": true,
   "toc_section_display": "block",
   "toc_window_display": false,
   "widenNotebook": false
  }
 },
 "nbformat": 4,
 "nbformat_minor": 2
}
