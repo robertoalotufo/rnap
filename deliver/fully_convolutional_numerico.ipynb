{
 "cells": [
  {
   "cell_type": "markdown",
   "metadata": {},
   "source": [
    "# Convertendo rede convolucional tradicional para totalmente convolucional"
   ]
  },
  {
   "cell_type": "markdown",
   "metadata": {},
   "source": [
    "## Objetivos\n",
    "\n",
    "Este notebook contém um exemplo numérico bastante simples para poder verificar a conversão de uma rede convolucional bem simples de apenas uma camada\n",
    "convolucional e uma camada densa para uma rede totalmente convolucional de duas camadas.\n",
    "\n",
    "O notebook procura usar um exemplo com imagens e kernel bem pequenos para serem fáceis de visualizar e entender o funcionamento.\n"
   ]
  },
  {
   "cell_type": "markdown",
   "metadata": {},
   "source": [
    "## Importação dos Módulos"
   ]
  },
  {
   "cell_type": "code",
   "execution_count": 1,
   "metadata": {
    "ExecuteTime": {
     "end_time": "2017-05-28T22:03:57.039528",
     "start_time": "2017-05-28T22:03:52.499223"
    },
    "collapsed": false
   },
   "outputs": [
    {
     "name": "stderr",
     "output_type": "stream",
     "text": [
      "Using TensorFlow backend.\n"
     ]
    },
    {
     "name": "stdout",
     "output_type": "stream",
     "text": [
      "Versão do Keras: 2.0.3\n"
     ]
    }
   ],
   "source": [
    "import numpy as np\n",
    "import os\n",
    "\n",
    "import keras\n",
    "from keras.models import Model, Sequential\n",
    "from keras.layers import Dense, Dropout, Activation, Flatten\n",
    "from keras.layers import Conv2D, MaxPooling2D, Input\n",
    "\n",
    "import keras.backend as K\n",
    "K.set_image_data_format('channels_first')\n",
    "\n",
    "np.set_printoptions(precision=3) # ponto flutuante com 3 casas para facilitar a impressão\n",
    "print('Versão do Keras:', keras.__version__)"
   ]
  },
  {
   "cell_type": "markdown",
   "metadata": {},
   "source": [
    "## Definição da Rede, uma camada convolucional e uma camada densa\n",
    "\n"
   ]
  },
  {
   "cell_type": "markdown",
   "metadata": {},
   "source": [
    "### Formato channels_first ou channels_last"
   ]
  },
  {
   "cell_type": "markdown",
   "metadata": {},
   "source": [
    "Iremos utilizar o formato \"channels_first\" por ser de maior facilidade de visualização dos dados.\n",
    "\n"
   ]
  },
  {
   "cell_type": "markdown",
   "metadata": {},
   "source": [
    "### Implementação pela API"
   ]
  },
  {
   "cell_type": "code",
   "execution_count": 2,
   "metadata": {
    "ExecuteTime": {
     "end_time": "2017-05-28T22:12:35.458185",
     "start_time": "2017-05-28T22:12:35.446117"
    },
    "collapsed": false
   },
   "outputs": [],
   "source": [
    "def build_model_API():\n",
    "    \n",
    "    input_shape = (1,5,7) # (canais, linhas, colunas)\n",
    "    n_filters = 3\n",
    "    kernel_shape = (1,3)\n",
    "    use_bias = True\n",
    "    inputs = Input(input_shape, name = 'input')\n",
    "    conv1 = Conv2D(n_filters, \n",
    "                   kernel_shape, \n",
    "                   name = 'conv1', \n",
    "                   padding = 'valid',\n",
    "                   use_bias = use_bias,\n",
    "                   data_format = \"channels_first\")(inputs) \n",
    "    flat = Flatten(name = 'flat')(conv1)\n",
    "    dense1 = Dense(2, \n",
    "                   name = 'dense2')(flat)\n",
    "    model = Model(inputs=inputs, outputs=dense1)\n",
    "    \n",
    "    return model\n",
    "\n",
    "model_A = build_model_API()\n"
   ]
  },
  {
   "cell_type": "markdown",
   "metadata": {},
   "source": [
    "# Configurando a rede neural com convolução e densa"
   ]
  },
  {
   "cell_type": "markdown",
   "metadata": {},
   "source": [
    "## Definição dos parâmetros da rede"
   ]
  },
  {
   "cell_type": "markdown",
   "metadata": {},
   "source": [
    "### Imagem de Entrada: 5 linhas e 7 colunas"
   ]
  },
  {
   "cell_type": "code",
   "execution_count": 3,
   "metadata": {
    "ExecuteTime": {
     "end_time": "2017-05-28T22:19:11.301930",
     "start_time": "2017-05-28T22:19:11.290622"
    },
    "collapsed": false
   },
   "outputs": [
    {
     "name": "stdout",
     "output_type": "stream",
     "text": [
      "X.shape= (1, 1, 5, 7)\n",
      "X:\n",
      " [[[[0 0 0 0 0 0 0]\n",
      "   [0 0 1 0 0 0 0]\n",
      "   [0 0 0 0 0 0 0]\n",
      "   [0 0 0 0 0 0 0]\n",
      "   [0 0 0 0 0 0 0]]]]\n"
     ]
    }
   ],
   "source": [
    "X = np.array([[[[0,0, 0,0,0,0,0],\n",
    "                [0,0, 1,0,0,0,0],\n",
    "                [0,0, 0,0,0,0,0],\n",
    "                [0,0,0, 0,0,0,0],\n",
    "                [0,0,0,0,0,0, 0]]]])\n",
    "\n",
    "(n_samples, n_channels, img_height, img_width) = X.shape\n",
    "input_shape = (n_channels, img_height, img_width)\n",
    "print('X.shape=',X.shape)\n",
    "print('X:\\n',X)"
   ]
  },
  {
   "cell_type": "markdown",
   "metadata": {},
   "source": [
    "### Kernel da convolução"
   ]
  },
  {
   "cell_type": "code",
   "execution_count": 4,
   "metadata": {
    "ExecuteTime": {
     "end_time": "2017-05-28T22:27:46.924751",
     "start_time": "2017-05-28T22:27:46.908181"
    },
    "collapsed": false
   },
   "outputs": [
    {
     "name": "stdout",
     "output_type": "stream",
     "text": [
      "Win.shape (n_filters, n_channels, k_height, k_width): (3, 1, 1, 3)\n",
      "Win: (Pesos camada convolucional, formato mais fácil de entender)\n",
      " [[[[1 2 3]]]\n",
      "\n",
      "\n",
      " [[[4 5 6]]]\n",
      "\n",
      "\n",
      " [[[7 8 9]]]]\n",
      "Wconv.shape (k_height,k_width,n_channels,n_filters): (1, 3, 1, 3)\n",
      "Wconv: (Pesos camada convolucional, formato do Keras)\n",
      " [[[[1 4 7]]\n",
      "\n",
      "  [[2 5 8]]\n",
      "\n",
      "  [[3 6 9]]]]\n"
     ]
    }
   ],
   "source": [
    "# número de filtros\n",
    "n_filters = 3    \n",
    "\n",
    "# comprimento e largura dos kernels\n",
    "k_height = 1; k_width = 3\n",
    "kernel_shape = (k_height,k_width)\n",
    "\n",
    "Win = np.array([[[1,2,3]],\n",
    "                [[4,5,6]],\n",
    "                [[7,8,9]]]).reshape(n_filters,1,k_height,k_width)\n",
    "print('Win.shape (n_filters, n_channels, k_height, k_width):',Win.shape)\n",
    "print('Win: (Pesos camada convolucional, formato mais fácil de entender)\\n',Win)\n",
    "\n",
    "# Formato de entrada (n_filters, n_channels, k_height, k_width)\n",
    "# Para deixar no formato do Keras: (k_height,k_width,n_channels,n_filters)\n",
    "\n",
    "W_conv = Win.transpose(2,3,1,0)\n",
    "\n",
    "print('Wconv.shape (k_height,k_width,n_channels,n_filters):',W_conv.shape)\n",
    "print('Wconv: (Pesos camada convolucional, formato do Keras)\\n',W_conv)\n"
   ]
  },
  {
   "cell_type": "markdown",
   "metadata": {},
   "source": [
    "### Bias da Convolução"
   ]
  },
  {
   "cell_type": "code",
   "execution_count": 5,
   "metadata": {
    "ExecuteTime": {
     "end_time": "2017-05-28T22:27:55.176193",
     "start_time": "2017-05-28T22:27:55.170011"
    },
    "collapsed": false
   },
   "outputs": [
    {
     "name": "stdout",
     "output_type": "stream",
     "text": [
      "Bias da convolução: [ 0.1  0.2  0.3]\n"
     ]
    }
   ],
   "source": [
    "# valor de bias\n",
    "f_bias = 0.1  \n",
    "bias_conv = np.arange(1,n_filters+1) * f_bias\n",
    "print(\"Bias da convolução:\",bias_conv)"
   ]
  },
  {
   "cell_type": "markdown",
   "metadata": {},
   "source": [
    "### Pesos para a camada densa"
   ]
  },
  {
   "cell_type": "code",
   "execution_count": 6,
   "metadata": {
    "ExecuteTime": {
     "end_time": "2017-05-28T22:27:56.927246",
     "start_time": "2017-05-28T22:27:56.920099"
    },
    "collapsed": false
   },
   "outputs": [
    {
     "name": "stdout",
     "output_type": "stream",
     "text": [
      "Pesos da camada densa:\n",
      " [[  0   2   4   6   8  10  12  14  16  18  20  22  24  26  28  30  32  34\n",
      "   36  38  40  42  44  46  48  50  52  54  56  58  60  62  64  66  68  70\n",
      "   72  74  76  78  80  82  84  86  88  90  92  94  96  98 100 102 104 106\n",
      "  108 110 112 114 116 118 120 122 124 126 128 130 132 134 136 138 140 142\n",
      "  144 146 148]\n",
      " [  1   3   5   7   9  11  13  15  17  19  21  23  25  27  29  31  33  35\n",
      "   37  39  41  43  45  47  49  51  53  55  57  59  61  63  65  67  69  71\n",
      "   73  75  77  79  81  83  85  87  89  91  93  95  97  99 101 103 105 107\n",
      "  109 111 113 115 117 119 121 123 125 127 129 131 133 135 137 139 141 143\n",
      "  145 147 149]]\n"
     ]
    }
   ],
   "source": [
    "W_dense = np.arange(2*75).reshape(75,2)\n",
    "print(\"Pesos da camada densa:\\n\",W_dense.T)"
   ]
  },
  {
   "cell_type": "markdown",
   "metadata": {},
   "source": [
    "### Bias para a camada densa"
   ]
  },
  {
   "cell_type": "code",
   "execution_count": 7,
   "metadata": {
    "ExecuteTime": {
     "end_time": "2017-05-28T22:27:58.774413",
     "start_time": "2017-05-28T22:27:58.766922"
    },
    "collapsed": false
   },
   "outputs": [
    {
     "name": "stdout",
     "output_type": "stream",
     "text": [
      "Bias da camanda densa: [ 0.1  0.1]\n"
     ]
    }
   ],
   "source": [
    "bias_dense = np.ones(2) * f_bias\n",
    "print(\"Bias da camanda densa:\",bias_dense)"
   ]
  },
  {
   "cell_type": "markdown",
   "metadata": {},
   "source": [
    "## Imprimindo os valores dos dados das camadas internas da rede\n",
    "\n",
    "Como a rede é executada no Keras como *backend*, não existem variáveis de fácil acesso para\n",
    "conseguir ver os dados nas camadas intermediárias da rede. Assim, o artifício para se conseguir\n",
    "isso é criar várias redes, uma rede com apenas a primeira camada, e fazer a predição. O resultado\n",
    "dessa predição são os dados após a primeira camada. Colocar a segunda camada e fazer uma nova predição, obtendo\n",
    "os dados após a segunda camada e assim sucessivamente até fazer a predição da rede completa. Isso\n",
    "é implementado no código a seguir:"
   ]
  },
  {
   "cell_type": "code",
   "execution_count": 8,
   "metadata": {
    "ExecuteTime": {
     "end_time": "2017-05-28T22:28:04.853006",
     "start_time": "2017-05-28T22:28:04.613990"
    },
    "collapsed": false,
    "scrolled": false
   },
   "outputs": [
    {
     "name": "stdout",
     "output_type": "stream",
     "text": [
      "(1, 3, 1, 3)\n",
      "(3,)\n",
      "(75, 2)\n",
      "(2,)\n",
      "------------------------------\n",
      "Número de camadas: 4\n",
      "------------------------------\n",
      "--------------------------------------------------------------------------------\n",
      "Saída da camada 1 : input shape: (1, 1, 5, 7)\n",
      "--------------------------------------------------------------------------------\n",
      "[[[[ 0.  0.  0.  0.  0.  0.  0.]\n",
      "   [ 0.  0.  1.  0.  0.  0.  0.]\n",
      "   [ 0.  0.  0.  0.  0.  0.  0.]\n",
      "   [ 0.  0.  0.  0.  0.  0.  0.]\n",
      "   [ 0.  0.  0.  0.  0.  0.  0.]]]]\n",
      "--------------------------------------------------------------------------------\n",
      "Saída da camada 2 : conv1 shape: (1, 3, 5, 5)\n",
      "--------------------------------------------------------------------------------\n",
      "[[[[ 0.1  0.1  0.1  0.1  0.1]\n",
      "   [ 3.1  2.1  1.1  0.1  0.1]\n",
      "   [ 0.1  0.1  0.1  0.1  0.1]\n",
      "   [ 0.1  0.1  0.1  0.1  0.1]\n",
      "   [ 0.1  0.1  0.1  0.1  0.1]]\n",
      "\n",
      "  [[ 0.2  0.2  0.2  0.2  0.2]\n",
      "   [ 6.2  5.2  4.2  0.2  0.2]\n",
      "   [ 0.2  0.2  0.2  0.2  0.2]\n",
      "   [ 0.2  0.2  0.2  0.2  0.2]\n",
      "   [ 0.2  0.2  0.2  0.2  0.2]]\n",
      "\n",
      "  [[ 0.3  0.3  0.3  0.3  0.3]\n",
      "   [ 9.3  8.3  7.3  0.3  0.3]\n",
      "   [ 0.3  0.3  0.3  0.3  0.3]\n",
      "   [ 0.3  0.3  0.3  0.3  0.3]\n",
      "   [ 0.3  0.3  0.3  0.3  0.3]]]]\n",
      "--------------------------------------------------------------------------------\n",
      "Saída da camada 3 : flat shape: (1, 75)\n",
      "--------------------------------------------------------------------------------\n",
      "[[ 0.1  0.1  0.1  0.1  0.1  3.1  2.1  1.1  0.1  0.1  0.1  0.1  0.1  0.1\n",
      "   0.1  0.1  0.1  0.1  0.1  0.1  0.1  0.1  0.1  0.1  0.1  0.2  0.2  0.2\n",
      "   0.2  0.2  6.2  5.2  4.2  0.2  0.2  0.2  0.2  0.2  0.2  0.2  0.2  0.2\n",
      "   0.2  0.2  0.2  0.2  0.2  0.2  0.2  0.2  0.3  0.3  0.3  0.3  0.3  9.3\n",
      "   8.3  7.3  0.3  0.3  0.3  0.3  0.3  0.3  0.3  0.3  0.3  0.3  0.3  0.3\n",
      "   0.3  0.3  0.3  0.3  0.3]]\n",
      "--------------------------------------------------------------------------------\n",
      "Saída da camada 4 : dense2 shape: (1, 2)\n",
      "--------------------------------------------------------------------------------\n",
      "[[ 5038.1    5098.101]]\n"
     ]
    }
   ],
   "source": [
    "print(W_conv.shape)\n",
    "print(bias_conv.shape)\n",
    "print(W_dense.shape)\n",
    "print(bias_dense.shape)\n",
    "model_A.set_weights([W_conv, bias_conv, W_dense, bias_dense])\n",
    "\n",
    "print('-'*30)\n",
    "print(\"Número de camadas:\", len(model_A.layers))\n",
    "print('-'*30)\n",
    "\n",
    "# Resultados para cada camada\n",
    "i = 1\n",
    "for layer in model_A.layers:\n",
    "    intermediate_layer_model = Model(inputs=model_A.input,outputs=layer.output)\n",
    "    intermediate_output = intermediate_layer_model.predict(X)\n",
    "    print('-'*80)\n",
    "    print(\"Saída da camada\", i, \":\", layer.name, \"shape:\", intermediate_output.shape)\n",
    "    print('-'*80)\n",
    "    print(intermediate_output)\n",
    "    i+=1"
   ]
  },
  {
   "cell_type": "markdown",
   "metadata": {},
   "source": [
    "## Sumário \n",
    "\n",
    "É sempre útil imprimir o sumário da rede. Ele contém informações de cada camada da rede, \n",
    "como nome, tipo de camada e número de parâmetros."
   ]
  },
  {
   "cell_type": "code",
   "execution_count": 9,
   "metadata": {
    "ExecuteTime": {
     "end_time": "2017-05-28T22:28:23.506117",
     "start_time": "2017-05-28T22:28:23.497419"
    },
    "collapsed": false
   },
   "outputs": [
    {
     "name": "stdout",
     "output_type": "stream",
     "text": [
      "_________________________________________________________________\n",
      "Layer (type)                 Output Shape              Param #   \n",
      "=================================================================\n",
      "input (InputLayer)           (None, 1, 5, 7)           0         \n",
      "_________________________________________________________________\n",
      "conv1 (Conv2D)               (None, 3, 5, 5)           12        \n",
      "_________________________________________________________________\n",
      "flat (Flatten)               (None, 75)                0         \n",
      "_________________________________________________________________\n",
      "dense2 (Dense)               (None, 2)                 152       \n",
      "=================================================================\n",
      "Total params: 164\n",
      "Trainable params: 164\n",
      "Non-trainable params: 0\n",
      "_________________________________________________________________\n",
      "None\n"
     ]
    }
   ],
   "source": [
    "print(model_A.summary())"
   ]
  },
  {
   "cell_type": "markdown",
   "metadata": {},
   "source": [
    "# Criação da rede equivalente porém totalmente Convolucional"
   ]
  },
  {
   "cell_type": "code",
   "execution_count": 10,
   "metadata": {
    "ExecuteTime": {
     "end_time": "2017-05-28T22:28:25.258270",
     "start_time": "2017-05-28T22:28:25.248467"
    },
    "collapsed": true
   },
   "outputs": [],
   "source": [
    "def build_fully_model_API():\n",
    "    \n",
    "    input_shape = (1,5,7) # (canais, linhas, colunas)\n",
    "    n_filters = 3\n",
    "    kernel_shape = (1,3)\n",
    "    use_bias = True\n",
    "    inputs = Input(input_shape, name = 'input')\n",
    "    conv1 = Conv2D(n_filters, \n",
    "                   kernel_shape, \n",
    "                   name = 'conv1', \n",
    "                   padding = 'valid',\n",
    "                   use_bias = use_bias,\n",
    "                   data_format = \"channels_first\")(inputs) \n",
    "    out = Conv2D(2,(5,5),\n",
    "                    padding = 'valid',\n",
    "                   name = 'conv2')(conv1)\n",
    "    model = Model(inputs=inputs, outputs=out)\n",
    "    \n",
    "    return model"
   ]
  },
  {
   "cell_type": "markdown",
   "metadata": {},
   "source": [
    "## Sumário"
   ]
  },
  {
   "cell_type": "code",
   "execution_count": 11,
   "metadata": {
    "ExecuteTime": {
     "end_time": "2017-05-28T22:28:26.350798",
     "start_time": "2017-05-28T22:28:26.261886"
    },
    "collapsed": false,
    "scrolled": false
   },
   "outputs": [
    {
     "name": "stdout",
     "output_type": "stream",
     "text": [
      "_________________________________________________________________\n",
      "Layer (type)                 Output Shape              Param #   \n",
      "=================================================================\n",
      "input (InputLayer)           (None, 1, 5, 7)           0         \n",
      "_________________________________________________________________\n",
      "conv1 (Conv2D)               (None, 3, 5, 5)           12        \n",
      "_________________________________________________________________\n",
      "conv2 (Conv2D)               (None, 2, 1, 1)           152       \n",
      "=================================================================\n",
      "Total params: 164\n",
      "Trainable params: 164\n",
      "Non-trainable params: 0\n",
      "_________________________________________________________________\n",
      "None\n"
     ]
    }
   ],
   "source": [
    "model_B = build_fully_model_API()\n",
    "print(model_B.summary())"
   ]
  },
  {
   "cell_type": "markdown",
   "metadata": {},
   "source": [
    "## Pesos da rede original"
   ]
  },
  {
   "cell_type": "code",
   "execution_count": 12,
   "metadata": {
    "ExecuteTime": {
     "end_time": "2017-05-28T22:28:27.123761",
     "start_time": "2017-05-28T22:28:27.048270"
    },
    "collapsed": false
   },
   "outputs": [
    {
     "name": "stdout",
     "output_type": "stream",
     "text": [
      "[(1, 3, 1, 3), (3,), (75, 2), (2,)]\n",
      "i= 0 [[[[ 1.  4.  7.]]\n",
      "\n",
      "  [[ 2.  5.  8.]]\n",
      "\n",
      "  [[ 3.  6.  9.]]]]\n",
      "i= 1 [ 0.1  0.2  0.3]\n",
      "i= 2 [[   0.    1.]\n",
      " [   2.    3.]\n",
      " [   4.    5.]\n",
      " [   6.    7.]\n",
      " [   8.    9.]\n",
      " [  10.   11.]\n",
      " [  12.   13.]\n",
      " [  14.   15.]\n",
      " [  16.   17.]\n",
      " [  18.   19.]\n",
      " [  20.   21.]\n",
      " [  22.   23.]\n",
      " [  24.   25.]\n",
      " [  26.   27.]\n",
      " [  28.   29.]\n",
      " [  30.   31.]\n",
      " [  32.   33.]\n",
      " [  34.   35.]\n",
      " [  36.   37.]\n",
      " [  38.   39.]\n",
      " [  40.   41.]\n",
      " [  42.   43.]\n",
      " [  44.   45.]\n",
      " [  46.   47.]\n",
      " [  48.   49.]\n",
      " [  50.   51.]\n",
      " [  52.   53.]\n",
      " [  54.   55.]\n",
      " [  56.   57.]\n",
      " [  58.   59.]\n",
      " [  60.   61.]\n",
      " [  62.   63.]\n",
      " [  64.   65.]\n",
      " [  66.   67.]\n",
      " [  68.   69.]\n",
      " [  70.   71.]\n",
      " [  72.   73.]\n",
      " [  74.   75.]\n",
      " [  76.   77.]\n",
      " [  78.   79.]\n",
      " [  80.   81.]\n",
      " [  82.   83.]\n",
      " [  84.   85.]\n",
      " [  86.   87.]\n",
      " [  88.   89.]\n",
      " [  90.   91.]\n",
      " [  92.   93.]\n",
      " [  94.   95.]\n",
      " [  96.   97.]\n",
      " [  98.   99.]\n",
      " [ 100.  101.]\n",
      " [ 102.  103.]\n",
      " [ 104.  105.]\n",
      " [ 106.  107.]\n",
      " [ 108.  109.]\n",
      " [ 110.  111.]\n",
      " [ 112.  113.]\n",
      " [ 114.  115.]\n",
      " [ 116.  117.]\n",
      " [ 118.  119.]\n",
      " [ 120.  121.]\n",
      " [ 122.  123.]\n",
      " [ 124.  125.]\n",
      " [ 126.  127.]\n",
      " [ 128.  129.]\n",
      " [ 130.  131.]\n",
      " [ 132.  133.]\n",
      " [ 134.  135.]\n",
      " [ 136.  137.]\n",
      " [ 138.  139.]\n",
      " [ 140.  141.]\n",
      " [ 142.  143.]\n",
      " [ 144.  145.]\n",
      " [ 146.  147.]\n",
      " [ 148.  149.]]\n",
      "i= 3 [ 0.1  0.1]\n"
     ]
    }
   ],
   "source": [
    "W_all_A = model_A.get_weights()\n",
    "print([w.shape for w in W_all_A])\n",
    "for i in range(len(W_all_A)):\n",
    "    print('i=',i,W_all_A[i])"
   ]
  },
  {
   "cell_type": "markdown",
   "metadata": {},
   "source": [
    "### Organização dos pesos da rede totalmente convolucional"
   ]
  },
  {
   "cell_type": "code",
   "execution_count": 13,
   "metadata": {
    "ExecuteTime": {
     "end_time": "2017-05-28T22:28:28.273566",
     "start_time": "2017-05-28T22:28:28.261755"
    },
    "collapsed": false
   },
   "outputs": [
    {
     "name": "stdout",
     "output_type": "stream",
     "text": [
      "Rede clássica:                 [(1, 3, 1, 3), (3,), (75, 2), (2,)]\n",
      "Rede totalmente convolucional: [(1, 3, 1, 3), (3,), (5, 5, 3, 2), (2,)]\n"
     ]
    }
   ],
   "source": [
    "W_all_B = model_B.get_weights()\n",
    "\n",
    "print('Rede clássica:                ',[w.shape for w in W_all_A])\n",
    "print('Rede totalmente convolucional:',[w.shape for w in W_all_B])"
   ]
  },
  {
   "cell_type": "markdown",
   "metadata": {},
   "source": [
    "## Convertendo os pesos da rede clássica para a rede totalmente convolucional"
   ]
  },
  {
   "cell_type": "code",
   "execution_count": 14,
   "metadata": {
    "ExecuteTime": {
     "end_time": "2017-05-28T22:28:29.057900",
     "start_time": "2017-05-28T22:28:29.004202"
    },
    "collapsed": false
   },
   "outputs": [],
   "source": [
    "W_all_B = [\n",
    "    W_all_A[0], # pesos da primeira convolução\n",
    "    W_all_A[1], # bias da primeira convolução\n",
    "    W_all_A[2].T.reshape(2,3,5,5).transpose(2,3,1,0), # pesos da convolução convertida\n",
    "    W_all_A[3], # bias desta camada\n",
    "]\n",
    "model_B.set_weights(W_all_B)\n"
   ]
  },
  {
   "cell_type": "markdown",
   "metadata": {},
   "source": [
    "## Visualização dos dados internos da rede totalmente convolucional"
   ]
  },
  {
   "cell_type": "code",
   "execution_count": 15,
   "metadata": {
    "ExecuteTime": {
     "end_time": "2017-05-28T22:28:30.026940",
     "start_time": "2017-05-28T22:28:29.919169"
    },
    "collapsed": false
   },
   "outputs": [
    {
     "name": "stdout",
     "output_type": "stream",
     "text": [
      "--------------------------------------------------------------------------------\n",
      "Saída da camada 1 : input shape: (1, 1, 5, 7)\n",
      "--------------------------------------------------------------------------------\n",
      "[[[[ 0.  0.  0.  0.  0.  0.  0.]\n",
      "   [ 0.  0.  1.  0.  0.  0.  0.]\n",
      "   [ 0.  0.  0.  0.  0.  0.  0.]\n",
      "   [ 0.  0.  0.  0.  0.  0.  0.]\n",
      "   [ 0.  0.  0.  0.  0.  0.  0.]]]]\n",
      "--------------------------------------------------------------------------------\n",
      "Saída da camada 2 : conv1 shape: (1, 3, 5, 5)\n",
      "--------------------------------------------------------------------------------\n",
      "[[[[ 0.1  0.1  0.1  0.1  0.1]\n",
      "   [ 3.1  2.1  1.1  0.1  0.1]\n",
      "   [ 0.1  0.1  0.1  0.1  0.1]\n",
      "   [ 0.1  0.1  0.1  0.1  0.1]\n",
      "   [ 0.1  0.1  0.1  0.1  0.1]]\n",
      "\n",
      "  [[ 0.2  0.2  0.2  0.2  0.2]\n",
      "   [ 6.2  5.2  4.2  0.2  0.2]\n",
      "   [ 0.2  0.2  0.2  0.2  0.2]\n",
      "   [ 0.2  0.2  0.2  0.2  0.2]\n",
      "   [ 0.2  0.2  0.2  0.2  0.2]]\n",
      "\n",
      "  [[ 0.3  0.3  0.3  0.3  0.3]\n",
      "   [ 9.3  8.3  7.3  0.3  0.3]\n",
      "   [ 0.3  0.3  0.3  0.3  0.3]\n",
      "   [ 0.3  0.3  0.3  0.3  0.3]\n",
      "   [ 0.3  0.3  0.3  0.3  0.3]]]]\n",
      "--------------------------------------------------------------------------------\n",
      "Saída da camada 3 : conv2 shape: (1, 2, 1, 1)\n",
      "--------------------------------------------------------------------------------\n",
      "[[[[ 5038.1]]\n",
      "\n",
      "  [[ 5098.1]]]]\n"
     ]
    }
   ],
   "source": [
    "# Resultados para cada camada\n",
    "i = 1\n",
    "for layer in model_B.layers:\n",
    "    intermediate_layer_model = Model(inputs=model_B.input,outputs=layer.output)\n",
    "    intermediate_output = intermediate_layer_model.predict(X)\n",
    "    print('-'*80)\n",
    "    print(\"Saída da camada\", i, \":\", layer.name, \"shape:\", intermediate_output.shape)\n",
    "    print('-'*80)\n",
    "    print(intermediate_output)\n",
    "    i+=1"
   ]
  },
  {
   "cell_type": "markdown",
   "metadata": {},
   "source": [
    "# Aprendizados com este notebook\n"
   ]
  },
  {
   "cell_type": "code",
   "execution_count": null,
   "metadata": {
    "collapsed": true
   },
   "outputs": [],
   "source": []
  }
 ],
 "metadata": {
  "anaconda-cloud": {},
  "kernelspec": {
   "display_name": "Python 3",
   "language": "python",
   "name": "python3"
  },
  "language_info": {
   "codemirror_mode": {
    "name": "ipython",
    "version": 3
   },
   "file_extension": ".py",
   "mimetype": "text/x-python",
   "name": "python",
   "nbconvert_exporter": "python",
   "pygments_lexer": "ipython3",
   "version": "3.6.0"
  },
  "toc": {
   "colors": {
    "hover_highlight": "#DAA520",
    "running_highlight": "#FF0000",
    "selected_highlight": "#FFD700"
   },
   "moveMenuLeft": true,
   "nav_menu": {
    "height": "207px",
    "width": "252px"
   },
   "navigate_menu": true,
   "number_sections": true,
   "sideBar": true,
   "threshold": 4,
   "toc_cell": false,
   "toc_section_display": "block",
   "toc_window_display": false
  }
 },
 "nbformat": 4,
 "nbformat_minor": 1
}
