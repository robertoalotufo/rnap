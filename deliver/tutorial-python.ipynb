{
 "cells": [
  {
   "cell_type": "markdown",
   "metadata": {},
   "source": [
    "# Introdução ao Python \n",
    "\n",
    "Python é uma linguagem muito poderosa bastante utilizada em processamento de imagens e aprendizado de máquina. A maioria das bibliotecas de redes neurais profundas possuem interface para Python. "
   ]
  },
  {
   "cell_type": "markdown",
   "metadata": {},
   "source": [
    "Tipos de variáveis em Python com ênfase nos tipos sequênciais\n",
    "=============================================================\n",
    "\n",
    "O Python é uma linguagem de programação de alto nível, interpretada, imperativa, orientada a objetos, \n",
    "de tipagem dinâmica e forte, que possui ainda as seguintes características:\n",
    "\n",
    "    - Não há pré-declaração de variáveis, e os tipos das variáveis são determinados dinamicamente.\n",
    "    - O controle de bloco é feito apenas por indentação; não há delimitadores do tipo BEGIN e END ou { e }.\n",
    "    - Oferece tipos de dados de alto nível: strings, listas, tuplas, dicionários, arquivos, classes.\n",
    "    - É orientada a objetos.\n",
    "    \n",
    "É uma linguagem moderna e adaptada para o desenvolvimento tanto de aplicações genéricas como científicas. Para aplicações\n",
    "científicas, o Python possui um pacote muito importante e eficiente para o processamento de arrays multidimensionais: *Numpy*.\n",
    "  \n",
    "Em sua forma nativa, o Python suporta os seguintes tipos de variáveis:\n",
    "\n",
    "| Tipo Variável | Descrição                                   | Exemplo de sintaxe      |\n",
    "|---------------|---------------------------------------------|-------------------------|\n",
    "| *int*         | Variável inteira                            | a = 103458              |\n",
    "| *float*       | Variável de ponto flutuante                 | pi = 3.14159265         |\n",
    "| *bool*        | Variável *booleana* - *True* ou *False*     | a = False               |\n",
    "| *complex*     | Variável de número complexo                 | c = 2+3j                |\n",
    "| *str*         | Variável para cadeia de caracteres ASCII    | a = \"Exemplo\"           |\n",
    "| *list*        | Lista heterogênea pode alterar os valores   | lista = [4,'eu',1]      |\n",
    "| *tuple*       | Tupla heterogênea imutável                  | tupla = (1,'eu',2)      |\n",
    "| *dict*        |Conjunto associativo de valores              | dic = {1:'eu',2:'você'} |        "
   ]
  },
  {
   "cell_type": "markdown",
   "metadata": {},
   "source": [
    "Tipos Númericos:\n",
    "================\n",
    "\n",
    "- Declarando variáveis dos tipos inteiro, booleano, ponto flutuante e complexo e realizando algumas \n",
    "  operações simples"
   ]
  },
  {
   "cell_type": "code",
   "execution_count": 1,
   "metadata": {
    "collapsed": false
   },
   "outputs": [
    {
     "name": "stdout",
     "output_type": "stream",
     "text": [
      "<type 'int'>\n",
      "<type 'float'>\n",
      "<type 'complex'>\n",
      "<type 'bool'>\n",
      "6.14\n",
      "(9.42+12.56j)\n",
      "(1+1.33333333333j)\n"
     ]
    }
   ],
   "source": [
    "a = 3\n",
    "print type(a)\n",
    "b = 3.14\n",
    "print type(b)\n",
    "c = 3 + 4j\n",
    "print type(c)\n",
    "d = False\n",
    "print type(d)\n",
    "print a + b  \n",
    "print b * c \n",
    "print c / a"
   ]
  },
  {
   "cell_type": "markdown",
   "metadata": {},
   "source": [
    "Observe que em operações envolvendo elementos de tipos diferentes a linguagem realiza a \n",
    "conversão dos elementos ao tipo adequado, conforme a seguinte hierarquia: complexo > ponto flutuante > inteiro\n",
    "\n",
    "Tipos Sequenciais:\n",
    "==================\n",
    "\n",
    "Python possui três tipos sequenciais principais: listas, tuplas e cadeia de caracteres (string).\n",
    "\n",
    "Strings:\n",
    "--------\n",
    "\n",
    "Pode-se declarar strings tanto usando aspas simples como duplas ou triplas.\n",
    "Strings são vetores imutáveis compostos de caracteres. Pode-se calcular o tamanho do \n",
    "string usando-se *len*.\n"
   ]
  },
  {
   "cell_type": "code",
   "execution_count": 2,
   "metadata": {
    "collapsed": false
   },
   "outputs": [
    {
     "name": "stdout",
     "output_type": "stream",
     "text": [
      "string do tipo: <type 'str'> nome1: Faraday comprimento: 7\n"
     ]
    }
   ],
   "source": [
    "nome1 = 'Faraday'\n",
    "nome2 = \"Maxwell\"\n",
    "print 'string do tipo:', type(nome1), 'nome1:', nome1, \"comprimento:\", len(nome1)"
   ]
  },
  {
   "cell_type": "markdown",
   "metadata": {},
   "source": [
    "String é um vetor imutável de caracteres. É possível indexar um caractere único e é possível aplicar regras\n",
    "consistentes do Python no tratamento de sequências, tais como fatiamento (slicing) e formas de indexação.\n",
    "Em Python, o primeiro elemento é sempre indexado como zero, assim quando tenho um string de 5 caracteres, ele\n",
    "é indexado de 0 a 4. É possível também indexar os elementos da direita para a esquerda utilizando índices\n",
    "negativos. Assim, o último elemento do vetor pode ser indexado pelo índice -1."
   ]
  },
  {
   "cell_type": "code",
   "execution_count": 3,
   "metadata": {
    "collapsed": false
   },
   "outputs": [
    {
     "name": "stdout",
     "output_type": "stream",
     "text": [
      "Primeiro caractere de  Faraday  é:  F\n",
      "Último caractere de  Faraday  é:  y\n",
      "Repetindo-se strings 3 vezes FaradayFaradayFaraday\n"
     ]
    }
   ],
   "source": [
    "print 'Primeiro caractere de ', nome1, ' é: ', nome1[0]\n",
    "print 'Último caractere de ', nome1, ' é: ', nome1[-1]\n",
    "print 'Repetindo-se strings 3 vezes', 3 * nome1 "
   ]
  },
  {
   "cell_type": "markdown",
   "metadata": {},
   "source": [
    "Listas:\n",
    "-------\n",
    "\n",
    "Lista é uma sequência de elementos de diferentes tipos que podem ser indexados, alterados e operados. Listas são definidas por elementos separados por vírgulas iniciado e terminado por colchetes.\n"
   ]
  },
  {
   "cell_type": "code",
   "execution_count": 4,
   "metadata": {
    "collapsed": false
   },
   "outputs": [
    {
     "name": "stdout",
     "output_type": "stream",
     "text": [
      "tipo da lista1= <type 'list'>\n",
      "lista2= [(3+4j), [1, 1.1, 'um']]\n",
      "lista2= [(3+4j), 'Faraday']\n",
      "lista3= [1, 1.1, 'um', (3+4j), 'Faraday']\n",
      "concatenando 2 vezes: [1, 1.1, 'um', (3+4j), 'Faraday', 1, 1.1, 'um', (3+4j), 'Faraday']\n"
     ]
    }
   ],
   "source": [
    "lista1 = [1, 1.1, 'um'] # Listas podem conter elementos de diferentes tipos.\n",
    "lista2 = [3+4j, lista1] # Inclusive uma lista pode conter outras listas como elementos!\n",
    "print 'tipo da lista1=', type(lista1)\n",
    "print 'lista2=', lista2\n",
    "lista2[1] = 'Faraday' #Diferentemente das strings, pode-se atribuir novos valores a elementos da lista.\n",
    "print 'lista2=', lista2\n",
    "lista3 = lista1 + lista2 # Concatenando 2 listas\n",
    "print 'lista3=',lista3\n",
    "print 'concatenando 2 vezes:',2*lista3"
   ]
  },
  {
   "cell_type": "markdown",
   "metadata": {},
   "source": [
    "Tuplas:\n",
    "-------\n",
    "\n",
    "Tupla é similar a lista, porém seus valores são imutáveis. Tupla é uma sequência de objetos separados\n",
    "por vírgulas que podem, opcionalmente, serem iniciados e terminados por parênteses. Tupla contendo \n",
    "um único elemento precisa ser seguido de uma vírgula. \n",
    "\n",
    "**note:** O entendimento da tupla é muito importante e ela será bastante utilizada neste curso, pois muitos parâmetros do ndarray do NumPy são setados utilizando tuplas."
   ]
  },
  {
   "cell_type": "code",
   "execution_count": 5,
   "metadata": {
    "collapsed": false
   },
   "outputs": [
    {
     "name": "stdout",
     "output_type": "stream",
     "text": [
      "tupla1= ()\n",
      "tupla2= ('Gauss',)\n",
      "tupla3= (1.1, 'Ohm', (3+4j))\n",
      "tupla4= (3, 'aqui', True)\n",
      "tipo da tupla3= <type 'tuple'>\n"
     ]
    }
   ],
   "source": [
    "#Declarando tuplas\n",
    "tupla1 = () # tupla vazia\n",
    "tupla2 = ('Gauss',)  # tupla com apenas um elemento. Note a vírgula.\n",
    "tupla3 = (1.1, 'Ohm', 3+4j)\n",
    "tupla4 = 3, 'aqui', True\n",
    "print 'tupla1=', tupla1\n",
    "print 'tupla2=', tupla2\n",
    "print 'tupla3=', tupla3\n",
    "print 'tupla4=', tupla4\n",
    "print 'tipo da tupla3=', type(tupla3)"
   ]
  },
  {
   "cell_type": "markdown",
   "metadata": {},
   "source": [
    "Slicing em tipos sequenciais\n",
    "----------------------------------\n",
    "\n",
    "Além dos tipos sequenciais como listas, tuplas e strings poderem ser indexados, é possível também\n",
    "selecionar subconjuntos através do conceito de *slicing* (fatiamento).\n",
    "\n",
    "Por exemplo:"
   ]
  },
  {
   "cell_type": "code",
   "execution_count": 6,
   "metadata": {
    "collapsed": false
   },
   "outputs": [
    {
     "name": "stdout",
     "output_type": "stream",
     "text": [
      "s= abcdefg\n",
      "s[0:2] = ab\n",
      "s[2:5] = cde\n"
     ]
    }
   ],
   "source": [
    "s = 'abcdefg'\n",
    "print 's=',s\n",
    "print 's[0:2] =', s[0:2]  # caracteres a partir da posição 0 (inclusivo) até 2 (exclusivo)\n",
    "print 's[2:5] =', s[2:5]  # caracteres a partir da posição 2 (inclusivo) até 5 (exclusivo)"
   ]
  },
  {
   "cell_type": "markdown",
   "metadata": {},
   "source": [
    "Quando o início for zero e o final for o comprimento do string, ele pode ser omitido. Veja os\n",
    "exemplos:"
   ]
  },
  {
   "cell_type": "code",
   "execution_count": 7,
   "metadata": {
    "collapsed": false
   },
   "outputs": [
    {
     "name": "stdout",
     "output_type": "stream",
     "text": [
      "s= abcdefg\n",
      "s[:2] = ab\n",
      "s[2:] = cdefg\n",
      "s[-2:] = fg\n"
     ]
    }
   ],
   "source": [
    "s = 'abcdefg'\n",
    "print 's=',s\n",
    "print 's[:2] =', s[:2]  # caracteres a partir do início até 2 (exclusivo)\n",
    "print 's[2:] =', s[2:]  # caracteres a partir da posição 2 (inclusivo) até o final do string\n",
    "print 's[-2:] =', s[-2:] # últimos 2 caracteres"
   ]
  },
  {
   "cell_type": "markdown",
   "metadata": {},
   "source": [
    "Note que a posição de início é sempre inclusiva e a posição final é sempre exclusiva. \n",
    "Isto é feito para que a concatenação entre ``s[:i]`` e ``s[i:]`` seja igual a ``s``.\n",
    "\n",
    "O *slicing* permite ainda um terceiro valor que é opcional: ``step``. \n",
    "\n",
    "Para quem é familiarizado com a linguagem C, os 3 parâmetros do *slicing* é similar ao ``for``:\n",
    "\n",
    "\n",
    "|comando ``for``                            |  *slicing*            |\n",
    "|-------------------------------------------|-----------------------|\n",
    "|`for (i=inicio; i < fim; i += passo) a[i]` | `a[inicio:fim:passo]` |\n",
    "\n",
    "Veja exemplos de indexação usando *slicing* num string de 7 caracteres, indexados de 0 a 6:\n",
    "\n",
    "|slice    | indices     | explicação                            |\n",
    "|---------|-------------|---------------------------------------|\n",
    "|   0:5   |0,1,2,3,4    |vai de 0 até 4 que é menor que 5       |\n",
    "|   2:5   |2,3,4        |vai de 2 até 4                         |\n",
    "|   0:5:2 |0,2,4        |vai de 0 até 4, pulando de 2 em 2      |\n",
    "|   ::2   |0,2,4,6      |vai do início até o final de 2 em 2    |\n",
    "|   :5    |0,1,2,3,4    |vai do início até 4, que é menor que 5 |\n",
    "|   3:    |3,4,5,6      |vai de 3 até o final                   |\n",
    "|   ::-1  |6,5,4,3,2,1,0|vai do final (6) até o início          |\n",
    "\n",
    "\n",
    "Veja estes exemplos aplicados no string 'abcdefg':"
   ]
  },
  {
   "cell_type": "code",
   "execution_count": 8,
   "metadata": {
    "collapsed": false
   },
   "outputs": [
    {
     "name": "stdout",
     "output_type": "stream",
     "text": [
      "s= abcdefg\n",
      "s[2:5]= cde\n",
      "s[0:5:2]= ace\n",
      "s[::2]= aceg\n",
      "s[:5]= abcde\n",
      "s[3:]= defg\n",
      "s[::-1]= gfedcba\n"
     ]
    }
   ],
   "source": [
    "s = 'abcdefg'\n",
    "print 's=',s\n",
    "print 's[2:5]=',  s[2:5]\n",
    "print 's[0:5:2]=',s[0:5:2]\n",
    "print 's[::2]=',  s[::2]\n",
    "print 's[:5]=',   s[:5]\n",
    "print 's[3:]=',   s[3:]\n",
    "print 's[::-1]=', s[::-1]\n"
   ]
  },
  {
   "cell_type": "markdown",
   "metadata": {},
   "source": [
    "Este conceito de *slicing* será essencial neste curso. Ele pode ser aplicado em strings, tuplas, listas e principalmente no ndarray do NumPy. Procure entendê-lo integralmente.\n",
    "    \n",
    "Atribuição em tipos sequenciais\n",
    "-------------------------------------\n",
    "\n",
    "Tanto strings, tuplas como listas podem ser desempacotados através de atribuição.\n",
    "O importante é que o mapeamento seja consistente. Lembrar que a única sequência\n",
    "que é mutável, isto é, pode ser modificada por atribuição é a lista. \n",
    "Procure estudar os exemplos abaixo:"
   ]
  },
  {
   "cell_type": "code",
   "execution_count": 9,
   "metadata": {
    "collapsed": false
   },
   "outputs": [
    {
     "name": "stdout",
     "output_type": "stream",
     "text": [
      "s1: a\n",
      "s2: b\n",
      "s3: c\n",
      "list= [1, 2, 3]\n",
      "list= (8, 9, True)\n",
      "a= 9\n"
     ]
    }
   ],
   "source": [
    "s = \"abc\"\n",
    "s1,s2,s3 = s\n",
    "print 's1:',s1\n",
    "print 's2:',s2\n",
    "print 's3:',s3\n",
    "list = [1,2,3]\n",
    "t = 8,9,True\n",
    "print 'list=',list\n",
    "list = t\n",
    "print 'list=',list\n",
    "(_,a,_) = t\n",
    "print 'a=',a"
   ]
  },
  {
   "cell_type": "markdown",
   "metadata": {},
   "source": [
    "Formatação de string para impressão\n",
    "----------------------------------------\n",
    "\n",
    "Um string pode ser formatado de modo parecido com a sintaxe do sprintf em C/C++ na forma:\n",
    "string % tupla. Iremos usar bastante este modelo para colocar legendas nas imagens. Exemplos:"
   ]
  },
  {
   "cell_type": "code",
   "execution_count": 10,
   "metadata": {
    "collapsed": false
   },
   "outputs": [
    {
     "name": "stdout",
     "output_type": "stream",
     "text": [
      "formatação inteiro:5, float:3.200000, string:alo\n"
     ]
    }
   ],
   "source": [
    "s = 'formatação inteiro:%d, float:%f, string:%s' % (5, 3.2, 'alo')\n",
    "print s"
   ]
  },
  {
   "cell_type": "markdown",
   "metadata": {},
   "source": [
    "Outros tipos\n",
    "============\n",
    "\n",
    "Existem ainda os Dicionários e Conjuntos, entretanto eles não serão utilizados durante este curso.\n",
    "   \n",
    "\n",
    "Dicionários:\n",
    "============\n",
    "\n",
    "Dicionários podem ser definidos como sendo listas associativas que ao invés de associar os seus elementos \n",
    "a índices númericos, associa os seus elementos a palavras-chave.\n",
    "\n",
    "- Declarando dicionários e realizando algumas operações simples\n"
   ]
  },
  {
   "cell_type": "code",
   "execution_count": 11,
   "metadata": {
    "collapsed": false
   },
   "outputs": [
    {
     "name": "stdout",
     "output_type": "stream",
     "text": [
      "<type 'dict'>\n",
      "{'blue': 135, 'green': 12.34, 'red': 'ocean'}\n",
      "135\n",
      "['blue', 'green', 'red']\n",
      "['green', 'red']\n"
     ]
    }
   ],
   "source": [
    "dict1 = {'blue':135,'green':12.34,'red':'ocean'} #definindo um dicionário\n",
    "print(type(dict1))\n",
    "print(dict1)\n",
    "print(dict1['blue'])\n",
    "print(dict1.keys()) # Mostra as chaves do dicionário\n",
    "del dict1['blue'] # Deleta o elemento com  a chave 'blue'\n",
    "print(dict1.keys()) # Mostra as chaves do dicionário após o elemento com a chave 'blue' ser apagado"
   ]
  },
  {
   "cell_type": "markdown",
   "metadata": {},
   "source": [
    "Conjuntos\n",
    "==========\n",
    "\n",
    "Conjuntos são coleções de elementos que não possuem ordenação e também não apresentam\n",
    "elementos repetidos.\n",
    "\n",
    "- Declarando conjuntos e realizando algumas operações simples"
   ]
  },
  {
   "cell_type": "code",
   "execution_count": 12,
   "metadata": {
    "collapsed": false
   },
   "outputs": [
    {
     "name": "stdout",
     "output_type": "stream",
     "text": [
      "set(['orange', 'pear', 'apple', 'banana'])\n",
      "<type 'set'>\n",
      "set(['blue', 'green', 'apple', 'orange', 'pear', 'banana', 'red'])\n"
     ]
    }
   ],
   "source": [
    "lista1 = ['apple', 'orange', 'apple', 'pear', 'orange', 'banana'] \n",
    "lista2 = ['red', 'blue', 'green','red','red']\n",
    "conjunto1 = set(lista1) # Definindo um conjunto\n",
    "conjunto2 = set(lista2)\n",
    "print(conjunto1) # Observe que os elementos repetidos são contados apenas uma vez\n",
    "print(type(conjunto1))\n",
    "print(conjunto1 | conjunto2) # União de 2 conjuntos"
   ]
  },
  {
   "cell_type": "markdown",
   "metadata": {},
   "source": [
    "A importância da indentação na linguagem Python:\n",
    "================================================\n",
    "\n",
    "Diferentemente das outras linguagens que utilizam palavras-chave como *begin* e *end* ou chaves {, } para delimitar\n",
    "seus blocos (if, for, while, etc.), a linguagem Python utiliza a indentação do código para determinar quais comandos\n",
    "estão aninhados dentro de um bloco, portanto a indentação é de fundamental importância na linguagem Python.\n",
    "\n"
   ]
  },
  {
   "cell_type": "code",
   "execution_count": 13,
   "metadata": {
    "collapsed": false
   },
   "outputs": [
    {
     "name": "stdout",
     "output_type": "stream",
     "text": [
      "x é menor que zero!\n",
      "Esta frase é escrita independentemente do valor de x\n",
      "x é menor que zero!\n"
     ]
    }
   ],
   "source": [
    "#Ex1: O último comando print executa independentemente do valor de x\n",
    "x = -1\n",
    "if x<0:\n",
    "   print('x é menor que zero!')\n",
    "elif x==0:\n",
    "   print('x é igual a zero')\n",
    "else:\n",
    "   print('x é maior que zero!')\n",
    "print('Esta frase é escrita independentemente do valor de x')\n",
    "\n",
    "#Ex2: Os dois últimos comandos print estão dentro do laço devido a\n",
    "#indentação, portanto só executam se x for maior que zero\n",
    "if x<0:\n",
    "   print('x é menor que zero!')\n",
    "elif x==0:\n",
    "   print('x é igual a zero')\n",
    "else:\n",
    "   print('x é maior que zero!')\n",
    "   print('Esta frase é escrita apenas para x maior que zero')"
   ]
  },
  {
   "cell_type": "markdown",
   "metadata": {},
   "source": [
    "Loops\n",
    "========\n",
    "\n",
    "Loop for\n",
    "----------\n",
    "\n",
    "Iterando numa lista de strings\n"
   ]
  },
  {
   "cell_type": "code",
   "execution_count": 14,
   "metadata": {
    "collapsed": false
   },
   "outputs": [
    {
     "name": "stdout",
     "output_type": "stream",
     "text": [
      "Safari\n",
      "Firefox\n",
      "Google Chrome\n",
      "Opera\n",
      "IE\n"
     ]
    }
   ],
   "source": [
    "browsers = [\"Safari\", \"Firefox\", \"Google Chrome\", \"Opera\", \"IE\"]\n",
    "for browser in browsers:\n",
    "    print browser"
   ]
  },
  {
   "cell_type": "markdown",
   "metadata": {},
   "source": [
    "Iterando numa lista de inteiros"
   ]
  },
  {
   "cell_type": "code",
   "execution_count": 15,
   "metadata": {
    "collapsed": false
   },
   "outputs": [
    {
     "name": "stdout",
     "output_type": "stream",
     "text": [
      "151\n"
     ]
    }
   ],
   "source": [
    "numbers = [1,10,20,30,40,50]\n",
    "sum = 0\n",
    "for number in numbers:\n",
    "    sum = sum + number\n",
    "print sum"
   ]
  },
  {
   "cell_type": "markdown",
   "metadata": {},
   "source": [
    "Iterando nos caracteres de uma string"
   ]
  },
  {
   "cell_type": "code",
   "execution_count": 16,
   "metadata": {
    "collapsed": false
   },
   "outputs": [
    {
     "name": "stdout",
     "output_type": "stream",
     "text": [
      "c\n",
      "o\n",
      "m\n",
      "p\n",
      "u\n",
      "t\n",
      "e\n",
      "r\n"
     ]
    }
   ],
   "source": [
    "word = \"computer\"\n",
    "for letter in word:\n",
    "    print letter"
   ]
  },
  {
   "cell_type": "markdown",
   "metadata": {},
   "source": [
    "Iterando num iterador - xrange"
   ]
  },
  {
   "cell_type": "code",
   "execution_count": 17,
   "metadata": {
    "collapsed": false
   },
   "outputs": [
    {
     "name": "stdout",
     "output_type": "stream",
     "text": [
      "21\n",
      "19\n",
      "17\n",
      "15\n",
      "13\n",
      "11\n",
      "9\n",
      "7\n",
      "5\n",
      "3\n",
      "1\n"
     ]
    }
   ],
   "source": [
    "for a in xrange(21,-1,-2):\n",
    "    print a"
   ]
  },
  {
   "cell_type": "markdown",
   "metadata": {},
   "source": [
    "Loop while \n",
    "-------------\n",
    "\n",
    "O loop while executa até que uma condição de parada seja atingida."
   ]
  },
  {
   "cell_type": "code",
   "execution_count": 18,
   "metadata": {
    "collapsed": false
   },
   "outputs": [
    {
     "name": "stdout",
     "output_type": "stream",
     "text": [
      "Safari\n",
      "Firefox\n",
      "Google Chrome\n",
      "Opera\n",
      "IE\n"
     ]
    }
   ],
   "source": [
    "browsers = [\"Safari\", \"Firefox\", \"Google Chrome\", \"Opera\", \"IE\"]\n",
    "i = 0\n",
    "while i < len(browsers) and i>=0: # Duas condições para que o loop continue\n",
    "    print browsers[i]\n",
    "    i = i + 1\n"
   ]
  },
  {
   "cell_type": "markdown",
   "metadata": {},
   "source": [
    "Loops aninhados\n",
    "-----------------\n",
    "\n",
    "É possível aninhar loops, note que a indentação é importante para saber dentro de qual loop o comando se encontra."
   ]
  },
  {
   "cell_type": "code",
   "execution_count": 19,
   "metadata": {
    "collapsed": false
   },
   "outputs": [
    {
     "name": "stdout",
     "output_type": "stream",
     "text": [
      "1 * 1 = 1\n",
      "1 * 2 = 2\n",
      "Dentro do primeiro for, mas fora do segundo\n",
      "2 * 1 = 2\n",
      "2 * 2 = 4\n",
      "Dentro do primeiro for, mas fora do segundo\n",
      "3 * 1 = 3\n",
      "3 * 2 = 6\n",
      "Dentro do primeiro for, mas fora do segundo\n"
     ]
    }
   ],
   "source": [
    "for x in xrange(1, 4):\n",
    "    for y in xrange(1, 3):\n",
    "        print '%d * %d = %d' % (x, y, x*y)\n",
    "    print 'Dentro do primeiro for, mas fora do segundo'"
   ]
  },
  {
   "cell_type": "markdown",
   "metadata": {},
   "source": [
    "Funções em Python\n",
    "=================\n",
    "\n",
    "Sintaxe para definir funções\n",
    "-----------------------------\n",
    "\n",
    "As funções em Python utilizam a palavra chave ``def`` seguida do nome da função e os parâmetros entre parêntesis\n",
    "terminado por dois pontos como no exemplo a seguir onde a função soma é definida para retornar a soma de\n",
    "seus dois parâmetros. Observe que o corpo da função é indentado da definição da função:"
   ]
  },
  {
   "cell_type": "code",
   "execution_count": 20,
   "metadata": {
    "collapsed": true
   },
   "outputs": [],
   "source": [
    "def soma( x, y):\n",
    "    s = x + y\n",
    "    return s"
   ]
  },
  {
   "cell_type": "markdown",
   "metadata": {},
   "source": [
    "Para se realizar a chamada da função ``soma``, basta utilizá-la pelo seu nome passando os parâmetros como argumentos da função. Veja o exemplo a seguir"
   ]
  },
  {
   "cell_type": "code",
   "execution_count": 21,
   "metadata": {
    "collapsed": false
   },
   "outputs": [
    {
     "name": "stdout",
     "output_type": "stream",
     "text": [
      "70\n"
     ]
    }
   ],
   "source": [
    "r = soma(50, 20)\n",
    "print r"
   ]
  },
  {
   "cell_type": "markdown",
   "metadata": {},
   "source": [
    "Parâmetros da função\n",
    "---------------------------------\n",
    "\n",
    "Existem dois tipos de parâmetros: posicional e com palavra chave. Os posicionais são aqueles\n",
    "que são identificados pela ordem em que aparecem na lista dos parâmetros da função. Já os\n",
    "com palavra chave, são identificados por ``nome=``. Os parâmetros por palavra chave podem também\n",
    "ser posicionais, mas tem a vantagem que se não forem passados, ele assumem o valor mencionado \n",
    "por falta (*default*). Veja o exemplo abaixo:\n"
   ]
  },
  {
   "cell_type": "code",
   "execution_count": 22,
   "metadata": {
    "collapsed": true
   },
   "outputs": [],
   "source": [
    "def soma( x, y, squared=False):\n",
    "    if squared:\n",
    "        s = (x + y)**2\n",
    "    else:\n",
    "        s = (x + y)\n",
    "    return s"
   ]
  },
  {
   "cell_type": "markdown",
   "metadata": {},
   "source": [
    "Observe que os parâmetros, ``x`` e ``y`` são posicionais e serão os 2 primeiros argumentos\n",
    "da chamada da função. O terceiro parâmetro é por palavra chave e portanto opcional, posso \n",
    "usá-lo tanto na forma posicional, como na forma explícita com a palavra chave. A grande\n",
    "vantagem neste esquema é que posso ter um grande número de parâmetros com palavra chave e\n",
    "na hora de usar a função deixar explicitamente só os parâmetros desejados.\n",
    "\n",
    "Veja os exemplos:"
   ]
  },
  {
   "cell_type": "code",
   "execution_count": 23,
   "metadata": {
    "collapsed": false
   },
   "outputs": [
    {
     "name": "stdout",
     "output_type": "stream",
     "text": [
      "soma(2, 3): 5\n",
      "soma(2, 3, False): 5\n",
      "soma(2, 3, True): 25\n",
      "soma(2, 3, squared= True): 25\n"
     ]
    }
   ],
   "source": [
    "print 'soma(2, 3):', soma(2, 3) \n",
    "print 'soma(2, 3, False):', soma(2, 3, False)\n",
    "print 'soma(2, 3, True):', soma(2, 3, True) \n",
    "print 'soma(2, 3, squared= True):', soma(2, 3, squared= True) "
   ]
  },
  {
   "cell_type": "markdown",
   "metadata": {},
   "source": [
    "Referências\n",
    "--------------\n",
    "\n",
    "As referências a seguir são da documentação oficial do Python. Neste curso,\n",
    "iremos utilizar muito pouco de sua biblioteca padrão, assim não há\n",
    "necessidade (nem condições) de se estudar estas referências todas. O nosso\n",
    "foco neste curso será no NumPy e aos poucos iremos oferecer estes materiais.\n",
    "\n",
    "- [Python Language Reference](http://docs.python.org/2/reference/)\n",
    "- [Python Standard Library](http://docs.python.org/2/library/index.html)\n"
   ]
  }
 ],
 "metadata": {
  "kernelspec": {
   "display_name": "Python [Root]",
   "language": "python",
   "name": "Python [Root]"
  },
  "language_info": {
   "codemirror_mode": {
    "name": "ipython",
    "version": 2
   },
   "file_extension": ".py",
   "mimetype": "text/x-python",
   "name": "python",
   "nbconvert_exporter": "python",
   "pygments_lexer": "ipython2",
   "version": "2.7.12"
  }
 },
 "nbformat": 4,
 "nbformat_minor": 0
}
