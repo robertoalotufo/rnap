{
 "cells": [
  {
   "cell_type": "markdown",
   "metadata": {
    "toc": "true"
   },
   "source": [
    "# Table of Contents\n",
    " <p><div class=\"lev1 toc-item\"><a href=\"#Regressão-Softmax-(Iris-dataset)-implementação-matricial\" data-toc-modified-id=\"Regressão-Softmax-(Iris-dataset)-implementação-matricial-1\"><span class=\"toc-item-num\">1&nbsp;&nbsp;</span>Regressão Softmax (Iris dataset) implementação matricial</a></div><div class=\"lev2 toc-item\"><a href=\"#Objetivos\" data-toc-modified-id=\"Objetivos-11\"><span class=\"toc-item-num\">1.1&nbsp;&nbsp;</span>Objetivos</a></div><div class=\"lev2 toc-item\"><a href=\"#Classificador-Supervisionado\" data-toc-modified-id=\"Classificador-Supervisionado-12\"><span class=\"toc-item-num\">1.2&nbsp;&nbsp;</span>Classificador Supervisionado</a></div><div class=\"lev2 toc-item\"><a href=\"#Definição-do-problema\" data-toc-modified-id=\"Definição-do-problema-13\"><span class=\"toc-item-num\">1.3&nbsp;&nbsp;</span>Definição do problema</a></div><div class=\"lev2 toc-item\"><a href=\"#Importação-de-bibliotecas\" data-toc-modified-id=\"Importação-de-bibliotecas-14\"><span class=\"toc-item-num\">1.4&nbsp;&nbsp;</span>Importação de bibliotecas</a></div><div class=\"lev2 toc-item\"><a href=\"#Iris-Flower-Dataset\" data-toc-modified-id=\"Iris-Flower-Dataset-15\"><span class=\"toc-item-num\">1.5&nbsp;&nbsp;</span>Iris Flower Dataset</a></div><div class=\"lev2 toc-item\"><a href=\"#Escolhendo-os-dois-atributos\" data-toc-modified-id=\"Escolhendo-os-dois-atributos-16\"><span class=\"toc-item-num\">1.6&nbsp;&nbsp;</span>Escolhendo os dois atributos</a></div><div class=\"lev2 toc-item\"><a href=\"#Leitura-dos-dados\" data-toc-modified-id=\"Leitura-dos-dados-17\"><span class=\"toc-item-num\">1.7&nbsp;&nbsp;</span>Leitura dos dados</a></div><div class=\"lev2 toc-item\"><a href=\"#Imprimindo-os-dados-rotulados-com-pandas\" data-toc-modified-id=\"Imprimindo-os-dados-rotulados-com-pandas-18\"><span class=\"toc-item-num\">1.8&nbsp;&nbsp;</span>Imprimindo os dados rotulados com pandas</a></div><div class=\"lev2 toc-item\"><a href=\"#Visualizando-o-dataset\" data-toc-modified-id=\"Visualizando-o-dataset-19\"><span class=\"toc-item-num\">1.9&nbsp;&nbsp;</span>Visualizando o dataset</a></div><div class=\"lev2 toc-item\"><a href=\"#Normalização-dos-dados\" data-toc-modified-id=\"Normalização-dos-dados-110\"><span class=\"toc-item-num\">1.10&nbsp;&nbsp;</span>Normalização dos dados</a></div><div class=\"lev2 toc-item\"><a href=\"#Visualização-dados-normalizados\" data-toc-modified-id=\"Visualização-dados-normalizados-111\"><span class=\"toc-item-num\">1.11&nbsp;&nbsp;</span>Visualização dados normalizados</a></div><div class=\"lev2 toc-item\"><a href=\"#Função-para-codificar-rótulos-inteiros-na-codificação-one-hot\" data-toc-modified-id=\"Função-para-codificar-rótulos-inteiros-na-codificação-one-hot-112\"><span class=\"toc-item-num\">1.12&nbsp;&nbsp;</span>Função para codificar rótulos inteiros na codificação one-hot</a></div><div class=\"lev3 toc-item\"><a href=\"#Gerando-vetor-de-rótulos-no-formato-one-hot\" data-toc-modified-id=\"Gerando-vetor-de-rótulos-no-formato-one-hot-1121\"><span class=\"toc-item-num\">1.12.1&nbsp;&nbsp;</span>Gerando vetor de rótulos no formato one-hot</a></div><div class=\"lev2 toc-item\"><a href=\"#Colocando-a-coluna-0-em-X-com-1s-como-o-'bias'\" data-toc-modified-id=\"Colocando-a-coluna-0-em-X-com-1s-como-o-'bias'-113\"><span class=\"toc-item-num\">1.13&nbsp;&nbsp;</span>Colocando a coluna 0 em X com 1s como o 'bias'</a></div><div class=\"lev2 toc-item\"><a href=\"#Função-softmax\" data-toc-modified-id=\"Função-softmax-114\"><span class=\"toc-item-num\">1.14&nbsp;&nbsp;</span>Função <code>softmax</code></a></div><div class=\"lev2 toc-item\"><a href=\"#Modelo-da-Regressão-Softmax-(uma-amostra-x)\" data-toc-modified-id=\"Modelo-da-Regressão-Softmax-(uma-amostra-x)-115\"><span class=\"toc-item-num\">1.15&nbsp;&nbsp;</span>Modelo da Regressão Softmax (uma amostra x)</a></div><div class=\"lev2 toc-item\"><a href=\"#Implementação-matricial-com-M-amostras\" data-toc-modified-id=\"Implementação-matricial-com-M-amostras-116\"><span class=\"toc-item-num\">1.16&nbsp;&nbsp;</span>Implementação matricial com M amostras</a></div><div class=\"lev2 toc-item\"><a href=\"#J:-Função-Perda-pela-Entropia-Cruzada\" data-toc-modified-id=\"J:-Função-Perda-pela-Entropia-Cruzada-117\"><span class=\"toc-item-num\">1.17&nbsp;&nbsp;</span>J: Função Perda pela Entropia Cruzada</a></div><div class=\"lev2 toc-item\"><a href=\"#Minimização-pelo-gradiente-descendente\" data-toc-modified-id=\"Minimização-pelo-gradiente-descendente-118\"><span class=\"toc-item-num\">1.18&nbsp;&nbsp;</span>Minimização pelo gradiente descendente</a></div><div class=\"lev2 toc-item\"><a href=\"#Laço-do-Treinamento-via-Gradiente-Descendente\" data-toc-modified-id=\"Laço-do-Treinamento-via-Gradiente-Descendente-119\"><span class=\"toc-item-num\">1.19&nbsp;&nbsp;</span>Laço do Treinamento via Gradiente Descendente</a></div><div class=\"lev2 toc-item\"><a href=\"#Este-é-o-laço-principal-da-Regressão-Logística-por-Softmax\" data-toc-modified-id=\"Este-é-o-laço-principal-da-Regressão-Logística-por-Softmax-120\"><span class=\"toc-item-num\">1.20&nbsp;&nbsp;</span>Este é o laço principal da Regressão Logística por Softmax</a></div><div class=\"lev2 toc-item\"><a href=\"#Visualizando-a-minimização-da-Perda-durante-o-treinamento\" data-toc-modified-id=\"Visualizando-a-minimização-da-Perda-durante-o-treinamento-121\"><span class=\"toc-item-num\">1.21&nbsp;&nbsp;</span>Visualizando a minimização da Perda durante o treinamento</a></div><div class=\"lev2 toc-item\"><a href=\"#Predição\" data-toc-modified-id=\"Predição-122\"><span class=\"toc-item-num\">1.22&nbsp;&nbsp;</span>Predição</a></div><div class=\"lev2 toc-item\"><a href=\"#Função-predict\" data-toc-modified-id=\"Função-predict-123\"><span class=\"toc-item-num\">1.23&nbsp;&nbsp;</span>Função <code>predict</code></a></div><div class=\"lev2 toc-item\"><a href=\"#Cálculo-do-desempenho-do-resultado\" data-toc-modified-id=\"Cálculo-do-desempenho-do-resultado-124\"><span class=\"toc-item-num\">1.24&nbsp;&nbsp;</span>Cálculo do desempenho do resultado</a></div><div class=\"lev2 toc-item\"><a href=\"#Matriz-de-confusão\" data-toc-modified-id=\"Matriz-de-confusão-125\"><span class=\"toc-item-num\">1.25&nbsp;&nbsp;</span>Matriz de confusão</a></div><div class=\"lev2 toc-item\"><a href=\"#Visualizando-as-regiões-do-classificador-no-espaço-de-atributos\" data-toc-modified-id=\"Visualizando-as-regiões-do-classificador-no-espaço-de-atributos-126\"><span class=\"toc-item-num\">1.26&nbsp;&nbsp;</span>Visualizando as regiões do classificador no espaço de atributos</a></div><div class=\"lev2 toc-item\"><a href=\"#Atividades\" data-toc-modified-id=\"Atividades-127\"><span class=\"toc-item-num\">1.27&nbsp;&nbsp;</span>Atividades</a></div>"
   ]
  },
  {
   "cell_type": "markdown",
   "metadata": {},
   "source": [
    "# Regressão Softmax (Iris dataset) implementação matricial\n",
    "\n",
    "## Objetivos\n",
    "\n",
    "Os objetivos deste notebook são \n",
    "* ilustrar a implementação, treino e uso de um classificador multiclasse utilizando \n",
    "* regressão logística e \n",
    "* componente softmax e\n",
    "* minimização da função perda utilizando gradiente descendente. \n",
    "\n",
    "O conjunto de dados utilizados é o Iris, utilizando apenas \n",
    "* dois atributos para \n",
    "* visualização das fronteiras de decisão no espaço de atributos.\n",
    "\n",
    "Como feito no experimento de Regressão Linear, as funções serão todas implementadas utilizando apenas o NumPy e serão uma extensão do problema de Regressão Linear.\n"
   ]
  },
  {
   "cell_type": "markdown",
   "metadata": {},
   "source": [
    "## Classificador Supervisionado\n",
    "\n",
    "O problema neste exemplo é um dos muitos que desenvolveremos neste curso e está na categoria de classificador supervisionado:\n",
    "\n",
    "Dado um conjunto de amostras rotuladas, isto é, cada amostra será caracterizada pelos seus atributos e será representada na matriz $\\mathbf{X}$ de shape $(n,k)$: ($n$ amostras e $k$ classes. Adicionalmente, cada amostra possui uma classe, um rótulo ou categoria, representado pelo vetor $\\mathbf{Y}$ com $n$ elementos, cada um indicando a classe a qu pertence.\n",
    "\n",
    "No caso da Iris, serão:\n",
    "* 150 amostras, 50 da setosa (classe 0), virginica (classe 1) e versicolor (classe 2).\n",
    "\n",
    "O par $(\\mathbf{X},\\mathbf{Y})$ consiste de um conjunto de dados anotados ou rotulados.\n",
    "\n",
    "Uma das principais dificuldades no projeto de classificadores supervisionados é a criação deste banco anotado, pois demanda um esforço e conhecimento de peritos, muitas vezes tornando o problema inviável."
   ]
  },
  {
   "cell_type": "markdown",
   "metadata": {},
   "source": [
    "## Definição do problema\n",
    "\n",
    "Dado o conjunto rotulado $(\\mathbf{X},\\mathbf{Y})$, projetar um classificador que dada uma nova amostra desconhecida, classifique-a em uma das possíveis classes: setosa, virginica ou versicolor.\n",
    "\n",
    "Iremos utilizar uma solução baseada no experimento da Regressão Linear, porém agora, utilizando dois atributos e projetando o classificar para 3 classes. A minimização da função perda também será feita pelo método do gradiente descendente."
   ]
  },
  {
   "cell_type": "markdown",
   "metadata": {},
   "source": [
    "## Importação de bibliotecas\n",
    "\n",
    "Objetivo deste exemplo é codificar o método de Regressão Logística utilizando Softmax e\n",
    "gradiente descendente. As bibliotecas usadas são:\n",
    "* NumPy - processamento matricial\n",
    "* sklearn - apenas para carregar o dataset\n",
    "* matplotlib - gerar gráficos\n",
    "* pandas - mostrar a matriz de confusão\n",
    "* IPython - permite mostrar os dados na forma de tabela\n"
   ]
  },
  {
   "cell_type": "code",
   "execution_count": 1,
   "metadata": {
    "ExecuteTime": {
     "end_time": "2017-05-09T21:04:29.133222",
     "start_time": "2017-05-09T21:04:27.097370"
    },
    "collapsed": false
   },
   "outputs": [],
   "source": [
    "import numpy as np\n",
    "from sklearn.datasets import load_iris\n",
    "import matplotlib.pyplot as plt\n",
    "%matplotlib inline\n",
    "import pandas as pd\n",
    "from IPython.display import display"
   ]
  },
  {
   "cell_type": "markdown",
   "metadata": {},
   "source": [
    "## Iris Flower Dataset\n",
    "\n",
    "[Wikipedia](https://en.wikipedia.org/wiki/Iris_flower_data_set): The data set consists of 50 samples from each of three species of Iris (*Iris setosa, Iris virginica and Iris versicolor*). Four features were measured from each sample: the **length and the width of the sepals and petals, in centimetres**. Based on the combination of these four features, Fisher developed a linear discriminant model to distinguish the species from each other."
   ]
  },
  {
   "cell_type": "markdown",
   "metadata": {},
   "source": [
    "## Escolhendo os dois atributos\n",
    "\n",
    "Dos 4 atributos disponíveis: comprimento e largura das sépalas e comprimento e largura das pétalas, vamos escolher 2 apenas: o comprimento das sépalas e o comprimento das pétalas.\n",
    "\n",
    "O conjunto de dados rotulados estão é formado por:\n",
    "* Y: vetor de 150 amostras contendo o valor da classe da amostra: 0, 1 ou 2\n",
    "* X: contendo 150 amostras (linhas) e duas colunas:\n",
    "    * coluna 0: o comprimento das sépalas e \n",
    "    * coluna 1: comprimento das pétalas.\n",
    "    "
   ]
  },
  {
   "cell_type": "markdown",
   "metadata": {},
   "source": [
    "## Leitura dos dados\n",
    "\n",
    "O trecho a seguir faz a leitura dos dados, escolha das duas colunas (0 e 2) e a impressão dos shapes de `X` e `Y`. Ambos formam nosso conjunto de dados anotados."
   ]
  },
  {
   "cell_type": "code",
   "execution_count": 2,
   "metadata": {
    "ExecuteTime": {
     "end_time": "2017-05-09T21:04:29.952518",
     "start_time": "2017-05-09T21:04:29.939851"
    },
    "collapsed": false
   },
   "outputs": [
    {
     "name": "stdout",
     "output_type": "stream",
     "text": [
      "X.shape: (150, 2)\n",
      "Y.shape: (150,)\n"
     ]
    }
   ],
   "source": [
    "iris = load_iris()\n",
    "X = iris.data[:,::2]  # comprimento das sépalas e pétalas, indices 0 e 2\n",
    "Y = iris.target\n",
    "print('X.shape:',X.shape)\n",
    "print('Y.shape:',Y.shape)"
   ]
  },
  {
   "cell_type": "markdown",
   "metadata": {},
   "source": [
    "## Imprimindo os dados rotulados com pandas\n",
    "\n",
    "O panda é um pacote extremamente poderoso para processamento e visualização de dados. Vamos utilizá-lo aqui para melhor visualizar os dados X e Y na forma de tabela."
   ]
  },
  {
   "cell_type": "code",
   "execution_count": 3,
   "metadata": {
    "ExecuteTime": {
     "end_time": "2017-05-09T21:04:31.858907",
     "start_time": "2017-05-09T21:04:31.833477"
    },
    "collapsed": false
   },
   "outputs": [
    {
     "name": "stdout",
     "output_type": "stream",
     "text": [
      "Imprimindo primeiros 5 amostras\n"
     ]
    },
    {
     "data": {
      "text/html": [
       "<div>\n",
       "<table border=\"1\" class=\"dataframe\">\n",
       "  <thead>\n",
       "    <tr style=\"text-align: right;\">\n",
       "      <th>classe</th>\n",
       "      <th>comprimento sepalas</th>\n",
       "      <th>comprimento petalas</th>\n",
       "    </tr>\n",
       "  </thead>\n",
       "  <tbody>\n",
       "    <tr>\n",
       "      <th>0</th>\n",
       "      <td>5.1</td>\n",
       "      <td>1.4</td>\n",
       "    </tr>\n",
       "    <tr>\n",
       "      <th>0</th>\n",
       "      <td>4.9</td>\n",
       "      <td>1.4</td>\n",
       "    </tr>\n",
       "    <tr>\n",
       "      <th>0</th>\n",
       "      <td>4.7</td>\n",
       "      <td>1.3</td>\n",
       "    </tr>\n",
       "    <tr>\n",
       "      <th>0</th>\n",
       "      <td>4.6</td>\n",
       "      <td>1.5</td>\n",
       "    </tr>\n",
       "    <tr>\n",
       "      <th>0</th>\n",
       "      <td>5.0</td>\n",
       "      <td>1.4</td>\n",
       "    </tr>\n",
       "  </tbody>\n",
       "</table>\n",
       "</div>"
      ],
      "text/plain": [
       "classe  comprimento sepalas  comprimento petalas\n",
       "0                       5.1                  1.4\n",
       "0                       4.9                  1.4\n",
       "0                       4.7                  1.3\n",
       "0                       4.6                  1.5\n",
       "0                       5.0                  1.4"
      ]
     },
     "metadata": {},
     "output_type": "display_data"
    },
    {
     "name": "stdout",
     "output_type": "stream",
     "text": [
      "Imprimindo 5 últimas amostras\n"
     ]
    },
    {
     "data": {
      "text/html": [
       "<div>\n",
       "<table border=\"1\" class=\"dataframe\">\n",
       "  <thead>\n",
       "    <tr style=\"text-align: right;\">\n",
       "      <th>classe</th>\n",
       "      <th>comprimento sepalas</th>\n",
       "      <th>comprimento petalas</th>\n",
       "    </tr>\n",
       "  </thead>\n",
       "  <tbody>\n",
       "    <tr>\n",
       "      <th>2</th>\n",
       "      <td>6.7</td>\n",
       "      <td>5.2</td>\n",
       "    </tr>\n",
       "    <tr>\n",
       "      <th>2</th>\n",
       "      <td>6.3</td>\n",
       "      <td>5.0</td>\n",
       "    </tr>\n",
       "    <tr>\n",
       "      <th>2</th>\n",
       "      <td>6.5</td>\n",
       "      <td>5.2</td>\n",
       "    </tr>\n",
       "    <tr>\n",
       "      <th>2</th>\n",
       "      <td>6.2</td>\n",
       "      <td>5.4</td>\n",
       "    </tr>\n",
       "    <tr>\n",
       "      <th>2</th>\n",
       "      <td>5.9</td>\n",
       "      <td>5.1</td>\n",
       "    </tr>\n",
       "  </tbody>\n",
       "</table>\n",
       "</div>"
      ],
      "text/plain": [
       "classe  comprimento sepalas  comprimento petalas\n",
       "2                       6.7                  5.2\n",
       "2                       6.3                  5.0\n",
       "2                       6.5                  5.2\n",
       "2                       6.2                  5.4\n",
       "2                       5.9                  5.1"
      ]
     },
     "metadata": {},
     "output_type": "display_data"
    }
   ],
   "source": [
    "# Assuming that dataframes df1 and df2 are already defined:\n",
    "df = pd.DataFrame(X, index=Y, columns=['comprimento sepalas','comprimento petalas'])\n",
    "df.columns.name = 'classe'\n",
    "print('Imprimindo primeiros 5 amostras')\n",
    "display(df.head()) # imprime o começo da tabela\n",
    "print('Imprimindo 5 últimas amostras')\n",
    "display(df.tail()) # imprime o final"
   ]
  },
  {
   "cell_type": "markdown",
   "metadata": {},
   "source": [
    "## Visualizando o dataset\n",
    "\n",
    "Como feito no notebook passado, as amostras são visualizadas com o `scatter`. A cor de cada amostra é selecionada pela sua classe: 0: red, 1: yellow: 2: blue. A cor é indexada pelo vetor `Y` das classes."
   ]
  },
  {
   "cell_type": "code",
   "execution_count": 4,
   "metadata": {
    "ExecuteTime": {
     "end_time": "2017-05-09T21:04:33.673431",
     "start_time": "2017-05-09T21:04:33.377257"
    },
    "collapsed": false
   },
   "outputs": [
    {
     "data": {
      "image/png": "[encoded data removed]",
      "text/plain": [
       "<matplotlib.figure.Figure at 0x11be279e8>"
      ]
     },
     "metadata": {},
     "output_type": "display_data"
    }
   ],
   "source": [
    "colors = np.array(['r','y','b'])\n",
    "plt.scatter(X[:, 0], X[:, 1], c=colors[Y])\n",
    "plt.xlabel('Comprimento sepalas')\n",
    "plt.ylabel('Comprimento petalas')\n",
    "plt.show()"
   ]
  },
  {
   "cell_type": "markdown",
   "metadata": {},
   "source": [
    "## Normalização dos dados\n",
    "\n",
    "A normalização dos dados quando existem mais de um atributo merece um cuidado, pois os limites dos valores mínimos e máximos devem ser feitos para cada atributo. Em NumPy isso é conseguido com a operação de redução de eixo onde é possível encontrar o máximo e o mínimo por colunas ou por linhas. No caso, como os atributos estão organizados por colunas, a redução deve ocorrer no eixo das linhas (axis=0):\n",
    "\n",
    "Para se observar a diferença entre a normalização certa e que normaliza de forma global, fazemos as duas normalizações e visualizamos para observar a diferença."
   ]
  },
  {
   "cell_type": "code",
   "execution_count": 5,
   "metadata": {
    "ExecuteTime": {
     "end_time": "2017-05-09T21:04:35.233952",
     "start_time": "2017-05-09T21:04:35.228895"
    },
    "collapsed": true
   },
   "outputs": [],
   "source": [
    "# normalização global - não deve ser usada\n",
    "X_a = X - X.min()\n",
    "X_a /= X_a.max()\n",
    "\n",
    "# normalização correta - por coluna\n",
    "X_c = X - X.min(axis=0,keepdims=True)\n",
    "X_c /= X_c.max(axis=0,keepdims=True)"
   ]
  },
  {
   "cell_type": "markdown",
   "metadata": {},
   "source": [
    "## Visualização dados normalizados"
   ]
  },
  {
   "cell_type": "code",
   "execution_count": 6,
   "metadata": {
    "ExecuteTime": {
     "end_time": "2017-05-09T21:04:37.253935",
     "start_time": "2017-05-09T21:04:36.835163"
    },
    "collapsed": false
   },
   "outputs": [
    {
     "data": {
      "text/plain": [
       "<matplotlib.text.Text at 0x11f1c0240>"
      ]
     },
     "execution_count": 6,
     "metadata": {},
     "output_type": "execute_result"
    },
    {
     "data": {
      "image/png": "[encoded data removed]",
      "text/plain": [
       "<matplotlib.figure.Figure at 0x11f202160>"
      ]
     },
     "metadata": {},
     "output_type": "display_data"
    }
   ],
   "source": [
    "f, (ax1, ax2) = plt.subplots(1, 2, sharey=False)\n",
    "ax1.set_ylim(0,1)\n",
    "ax1.set_xlim(0,1)\n",
    "ax2.set_ylim(0,1)\n",
    "ax2.set_xlim(0,1)\n",
    "ax1.scatter(X_a[:, 0], X_a[:, 1], c=colors[Y])\n",
    "ax2.scatter(X_c[:, 0], X_c[:, 1], c=colors[Y])\n",
    "ax1.set_title('Normalizacao errada')\n",
    "ax2.set_title('X_c: Normalizacao correta')"
   ]
  },
  {
   "cell_type": "markdown",
   "metadata": {
    "collapsed": false
   },
   "source": [
    "## Função para codificar rótulos inteiros na codificação one-hot\n",
    "\n",
    "Esta função é também chamada de conversão para dados categóricos. Temos 3 classes de\n",
    "flores: Iris setosa, Iris virginica and Iris versicolor. Estas classes podem ser codificadas\n",
    "como classes 0, 1 e 2 (rótulos numéricos) ou na codificação com 3 variáveis binárias:\n",
    "\n",
    "<table border=\"1\">\n",
    "<tr>\n",
    "<td>Espécie</td>\n",
    "<td>Y</td>\n",
    "<td>Y_oh[0]</td>\n",
    "<td>Y_oh[1]</td>\n",
    "<td>Y_oh[2]</td>\n",
    "</tr>\n",
    "<tr>\n",
    "<td>Iris setosa</td>\n",
    "<td>0</td>\n",
    "<td>1</td>\n",
    "<td>0</td>\n",
    "<td>0</td>\n",
    "</tr>\n",
    "<tr>\n",
    "<td>Iris virginica</td>\n",
    "<td>1</td>\n",
    "<td>0</td>\n",
    "<td>1</td>\n",
    "<td>0</td>\n",
    "</tr>\n",
    "<tr>\n",
    "<td>Iris versicolor</td>\n",
    "<td>2</td>\n",
    "<td>0</td>\n",
    "<td>0</td>\n",
    "<td>1</td>\n",
    "</tr>\n",
    "</table>\n",
    "\n"
   ]
  },
  {
   "cell_type": "markdown",
   "metadata": {
    "collapsed": false
   },
   "source": [
    "A função `oneHotIt` a seguir implementa de forma eficiente esta conversão, utilizando a\n",
    "facilidade de criação de arrays esparsos.\n",
    "\n",
    "A entrada da função é o vetor `Y` e a saída será um array com o mesmo número de\n",
    "linhas que o número de elementos de `Y` e a largura terá o número de colunas do\n",
    "maior rótulo disponível em `Y`:\n",
    "\n",
    "A título de ilustração e exercício de programação matricial, apresentamos a seguir duas implementações da função que converte os labels para a codificação \"one-hot\":"
   ]
  },
  {
   "cell_type": "code",
   "execution_count": 7,
   "metadata": {
    "ExecuteTime": {
     "end_time": "2017-05-09T21:04:39.434102",
     "start_time": "2017-05-09T21:04:39.424242"
    },
    "collapsed": false
   },
   "outputs": [],
   "source": [
    "def oneHotIt2(Y,n_classes):\n",
    "    Y = Y.reshape(-1,1)\n",
    "    i = np.arange(n_classes).reshape(1,n_classes)\n",
    "    Y_oh = (Y == i).astype(int)\n",
    "    return Y_oh\n",
    "\n",
    "def oneHotIt(Y,n_classes):\n",
    "    n_samples = Y.size # número de amostras\n",
    "    i = np.arange(n_samples)\n",
    "    Y_oh = np.zeros(shape=(n_samples,n_classes))\n",
    "    Y_oh[i,Y] = 1\n",
    "    return Y_oh"
   ]
  },
  {
   "cell_type": "markdown",
   "metadata": {},
   "source": [
    "### Gerando vetor de rótulos no formato one-hot "
   ]
  },
  {
   "cell_type": "code",
   "execution_count": 8,
   "metadata": {
    "ExecuteTime": {
     "end_time": "2017-05-09T21:04:43.911205",
     "start_time": "2017-05-09T21:04:43.900804"
    },
    "collapsed": false
   },
   "outputs": [
    {
     "name": "stdout",
     "output_type": "stream",
     "text": [
      "Y[:5]:\n",
      " [0 0 0 0 0]\n",
      "Y_oh[:5]=\n",
      " [[ 1.  0.  0.]\n",
      " [ 1.  0.  0.]\n",
      " [ 1.  0.  0.]\n",
      " [ 1.  0.  0.]\n",
      " [ 1.  0.  0.]]\n",
      "Y[-5:]:\n",
      " [2 2 2 2 2]\n",
      "Y_oh[-5:]=\n",
      " [[ 0.  0.  1.]\n",
      " [ 0.  0.  1.]\n",
      " [ 0.  0.  1.]\n",
      " [ 0.  0.  1.]\n",
      " [ 0.  0.  1.]]\n"
     ]
    }
   ],
   "source": [
    "Y_oh = oneHotIt(Y,3)\n",
    "# Mostrando os primeiros 5 destes valores\n",
    "print('Y[:5]:\\n', Y[:5])\n",
    "print('Y_oh[:5]=\\n',Y_oh[:5])\n",
    "print('Y[-5:]:\\n', Y[-5:])\n",
    "print('Y_oh[-5:]=\\n',Y_oh[-5:])"
   ]
  },
  {
   "cell_type": "markdown",
   "metadata": {},
   "source": [
    "## Colocando a coluna 0 em X com 1s como o 'bias'\n",
    "\n",
    "Conforme visto no exercício da Regressão Linear, a equação linear de y em função de x0, x1, x_k tem um fator independente de x, denominado bias. Inserindo-se a coluna 0 de X com 1, é equivalente a definir o w0 como bias."
   ]
  },
  {
   "cell_type": "code",
   "execution_count": 9,
   "metadata": {
    "ExecuteTime": {
     "end_time": "2017-05-09T21:04:46.003820",
     "start_time": "2017-05-09T21:04:45.996603"
    },
    "collapsed": false
   },
   "outputs": [
    {
     "name": "stdout",
     "output_type": "stream",
     "text": [
      "X_bias[:5]=\n",
      " [[ 1.          0.22222222  0.06779661]\n",
      " [ 1.          0.16666667  0.06779661]\n",
      " [ 1.          0.11111111  0.05084746]\n",
      " [ 1.          0.08333333  0.08474576]\n",
      " [ 1.          0.19444444  0.06779661]]\n"
     ]
    }
   ],
   "source": [
    "X_bias = np.hstack([np.ones((150,1)),X_c]) # incluído X com coluna de 1s para gerar bias no W\n",
    "print('X_bias[:5]=\\n',X_bias[:5])"
   ]
  },
  {
   "cell_type": "markdown",
   "metadata": {},
   "source": [
    "## Função `softmax`\n",
    "\n",
    "A funcão Softmax já foi vista antes:\n",
    "Revisando, a implementação matricial usando o NumPy é baseado na equação matricial, repetida aqui:\n",
    "\n",
    "$$ Softmax(\\mathbf{Z}) = \\frac{e^{\\mathbf{Z}}}{\\sum_{j=0}^{k-1}e^{z_{i,j}}} $$\n"
   ]
  },
  {
   "cell_type": "code",
   "execution_count": 10,
   "metadata": {
    "ExecuteTime": {
     "end_time": "2017-05-09T21:04:47.561693",
     "start_time": "2017-05-09T21:04:47.556190"
    },
    "collapsed": true
   },
   "outputs": [],
   "source": [
    "def softmax(Z):\n",
    "    # computes softmax for all samples, normalize among classes (columns)\n",
    "    # input Z: scores; shape: samples rows x classes columns\n",
    "    # output S: same shape of input\n",
    "    EZ = np.exp(Z)\n",
    "    S = EZ / EZ.sum(axis=1,keepdims=True) # normaliza nas classes - colunas\n",
    "    return S"
   ]
  },
  {
   "cell_type": "markdown",
   "metadata": {},
   "source": [
    "## Modelo da Regressão Softmax (uma amostra x)\n",
    "\n",
    "Utilizamos o modelo da rede de Regressão Linear utilizada anteriormente para gerar os *scores* $\\mathbf{z}$:\n",
    "$$ \\mathbf{z} = \\mathbf{Wx} $$\n",
    "\n",
    "Aplicamos a função Softmax para transformar os *scores* em probabilidade de ocorrência de cada classe:\n",
    "\n",
    "$$ \\mathbf{\\hat{y}_{OH}} = S(\\mathbf{z}) $$.\n",
    "\n",
    "Desta forma, a rede fica como:\n",
    "\n",
    "$$ \\mathbf{\\hat{y}_{OH}} = S(\\mathbf{Wx}) $$\n",
    "\n",
    "Gráficamente, pode ser representada pela rede de uma camada de 2 entradas, 3 classes (saídas de ativação Softmax):\n",
    "\n",
    "<img src='../figures/RegressaoSoftmaxRede.png',width=600pt>"
   ]
  },
  {
   "cell_type": "markdown",
   "metadata": {},
   "source": [
    "## Implementação matricial com M amostras\n",
    "\n",
    "Igual feito no exemplo anterior, para se processar $M$ amostras simultaneamente, adota-se a \n",
    "formulação matricial conforme ilustrado na figura. O conjunto de dados é organizado na forma\n",
    "de uma amostra por linha, tendo a primeira coluna os valores um's para associar ao *bias* e a\n",
    "matriz de parâmetros $\\mathbf{W}$ é usado na forma de transposto:\n",
    "* $\\mathbf{X}$: $M$ linhas com as amostras e $N$ colunas com os atributos\n",
    "* $\\mathbf{W}^T$: $K$ linhas associadas às classes e $N$ colunas associadas aos atributos\n",
    "* $\\mathbf{Y}_{OH}$: $M$ linhas com a predição das amostras e $K$ colunas, uma de cada classe\n",
    "\n",
    "<img src=\"../figures/RegressaoSoftmaxMatricial.png\",width=400pt>\n"
   ]
  },
  {
   "cell_type": "markdown",
   "metadata": {},
   "source": [
    "## J: Função Perda pela Entropia Cruzada\n",
    "\n",
    "A função a ser minimizada é a função $J$ de perda, que é baseada na Entropia Cruzada (*Cross Entropy*). Dado um conjunto de $M$ **amostras anotadas**, isto é, amostras $\\mathbf{X}$ com\n",
    "classe categórica $\\mathbf{Y_{OH}}$, encontrar os pesos $\\mathbf{W}$ que minimizam $J$:\n",
    "\n",
    "$$ J_{\\mathbf{X,Y_{TRUE}}}(\\mathbf{W}) = -\\frac{1}{M} \\sum \\mathbf{Y}_{OH} \\odot \\log{\\mathbf{S(X \\ W^T)}}$$\n",
    "onde $\\odot$ é multiplicação ponto-a-ponto de matrizes."
   ]
  },
  {
   "cell_type": "markdown",
   "metadata": {},
   "source": [
    "## Minimização pelo gradiente descendente\n",
    "\n",
    "A minimização é feita através do método de gradiente descendente. O gradiente de $J$ é dado por:\n",
    "\n",
    "$$ \\nabla J(\\mathbf{W}) = - \\frac{1}{M} \\mathbf{X}^T (\\mathbf{Y}_{OH} - \\mathbf{S(X\\ W^T)}) $$ \n",
    "\n",
    "Os pesos são então ajustados em cada *batch* pela equação onde $\\eta$ é denominado de\n",
    "taxa de aprendizagem: *learning rate*:\n",
    "\n",
    "$$ \\mathbf{W} = \\mathbf{W} - \\eta \\nabla J(\\mathbf{W}) $$ \n",
    "\n",
    "A cada iteração no programa de minimização abaixo, os pesos são ajustados aplicando-se o\n",
    "gradiente descendente utilizando todo o conjunto de treinamento. Este esquema é denominado\n",
    "de \"batch gradient descent\".\n",
    "\n",
    "No programa a seguir, o $J$ é implementado pela variável `loss` e o gradiente $\\nabla J$ \n",
    "é implementado pela variável `Grad`."
   ]
  },
  {
   "cell_type": "markdown",
   "metadata": {},
   "source": [
    "## Laço do Treinamento via Gradiente Descendente\n",
    "\n",
    "A figura a seguir ilustra o diagrama do classificador supervisionado multiclasse utilizando regressão softmax. Esta figura diz respeito a apenas uma amostra.\n",
    "\n",
    "Podemos identificar os blocos responsáveis pelo treinamento do classificador:\n",
    "* $\\mathbf{(x,y)}$ são os dados de treinamento rotulados\n",
    "* $\\mathbf{W}$, são os parâmetros a serem treinados\n",
    "* Softmax é o que converte os scores $\\mathbf{z}$ de $\\mathbf{wx}$ para probabilidades, gerando as\n",
    "  probabilidades para cada classe: $\\hat{y_{OH}}$\n",
    "* OneHot converte o rótulo original numérico na codificação \"one-hot\" ou categórico\n",
    "* $J$ é a função perda que compara $ \\mathbf{y_{OH}}$ e $\\mathbf{\\hat{Y_{OH}}}$ a ser minimizada\n",
    "* $\\nabla_J$ é o gradiente que será utilizado para atualizar o $\\mathbf{W}$ pelo método do gradiente descendente.\n"
   ]
  },
  {
   "cell_type": "markdown",
   "metadata": {
    "collapsed": false
   },
   "source": [
    "<img src='../figures/RegressaoSoftmax_Otimizacao.png',width=600pt>\n"
   ]
  },
  {
   "cell_type": "markdown",
   "metadata": {},
   "source": [
    "## Este é o laço principal da Regressão Logística por Softmax\n",
    "\n",
    "Os pesos são inicializados em zero, sem fator de regularização.\n",
    "Em cada iteração, a função a ser minimizada é calculada e os pesos são ajustados\n",
    "pelo técnica de gradiente descendente."
   ]
  },
  {
   "cell_type": "code",
   "execution_count": 21,
   "metadata": {
    "ExecuteTime": {
     "end_time": "2017-05-09T21:09:15.445056",
     "start_time": "2017-05-09T21:09:14.974592"
    },
    "collapsed": false
   },
   "outputs": [
    {
     "name": "stdout",
     "output_type": "stream",
     "text": [
      "final W:\n",
      " [[  7.00966877   1.62753812  -8.63720689]\n",
      " [ -3.02197327   1.76353      1.25844327]\n",
      " [-14.71228144  -0.67161669  15.38389814]]\n",
      "Final loss: 0.206986527354\n"
     ]
    }
   ],
   "source": [
    "n_samples = X_bias.shape[0] # number of training examples\n",
    "n_features = X_bias.shape[1] # number of attributes (features + 1(bias))\n",
    "n_classes = 3          # number of classes\n",
    "WT = np.zeros((n_features,n_classes)) # n. de linhas é igual a número de atributos (features, pixels)\n",
    "iterations = 10000\n",
    "learningRate = 0.15\n",
    "\n",
    "losses = []\n",
    "for i in range(iterations):\n",
    "    scores = X_bias.dot(WT)\n",
    "    Y_hat_oh = softmax(scores)\n",
    "    loss = (-1. / n_samples) * np.sum(Y_oh * np.log(Y_hat_oh))\n",
    "    Grad = (-1. / n_samples) * (X_bias.T).dot(Y_oh - Y_hat_oh) \n",
    "    WT = WT - (learningRate * Grad)\n",
    "    losses.append(loss)\n",
    "print('final W:\\n',WT)\n",
    "print('Final loss:',loss)"
   ]
  },
  {
   "cell_type": "markdown",
   "metadata": {},
   "source": [
    "## Visualizando a minimização da Perda durante o treinamento\n",
    "\n",
    "É fundamental acompanhar o comportamento da Perda durante o treinamento, pois é difícil prever se os parâmetros do gradiente descendente estão bons."
   ]
  },
  {
   "cell_type": "code",
   "execution_count": 22,
   "metadata": {
    "ExecuteTime": {
     "end_time": "2017-05-09T21:09:17.505884",
     "start_time": "2017-05-09T21:09:17.278419"
    },
    "collapsed": false
   },
   "outputs": [
    {
     "data": {
      "text/plain": [
       "[<matplotlib.lines.Line2D at 0x11f56dc88>]"
      ]
     },
     "execution_count": 22,
     "metadata": {},
     "output_type": "execute_result"
    },
    {
     "data": {
      "image/png": "[encoded data removed]",
      "text/plain": [
       "<matplotlib.figure.Figure at 0x11f4af3c8>"
      ]
     },
     "metadata": {},
     "output_type": "display_data"
    }
   ],
   "source": [
    "plt.plot(losses)"
   ]
  },
  {
   "cell_type": "markdown",
   "metadata": {},
   "source": [
    "## Predição\n",
    "\n",
    "Uma vez que $\\mathbf{W}$ já seja treinado, a predição é a classe de maior probabilidade. Assim\n",
    "a rede de propagação direta possuem os seguintes blocos:\n",
    "* Softmax(XW) para calcular as probabilidades\n",
    "* `Argmax` para escolher a classe de maior probabilidade\n",
    "\n",
    "<img src=\"../figures/RegressaoSoftmaxArgmaxRede.png\",width=600pt>\n",
    "\n",
    "A função `predict` escolhe a classe de maior probabilidade a partir do resultado do `softmax`:\n",
    "\n",
    "Entrada:\n",
    "- X: matriz bidimensional (n_amostras,n_atributos): AMOSTRAS ROTULADAS\n",
    "- WT: matriz bidimensional (n_atributos,n_classes): PESOS TREINADOS\n",
    "Saída:\n",
    "- Y_hat: matriz bidimensional (n_amostras,1): n amostras x 1 - CLASSE prevista para cada amostra\n"
   ]
  },
  {
   "cell_type": "markdown",
   "metadata": {},
   "source": [
    "## Função `predict`"
   ]
  },
  {
   "cell_type": "code",
   "execution_count": 23,
   "metadata": {
    "ExecuteTime": {
     "end_time": "2017-05-09T21:09:19.881223",
     "start_time": "2017-05-09T21:09:19.875141"
    },
    "collapsed": false
   },
   "outputs": [],
   "source": [
    "def predict(X,WT):\n",
    "    Y_hat_oh = softmax(X.dot(WT))\n",
    "    # escolhe a maior probabilidade entre as classes\n",
    "    Y_hat = np.argmax(Y_hat_oh, axis=1)\n",
    "    return Y_hat"
   ]
  },
  {
   "cell_type": "markdown",
   "metadata": {},
   "source": [
    "## Cálculo do desempenho do resultado\n",
    "\n",
    "A acurácia é o número de acertos dividido pelo número de amostras $M$.\n",
    "\n",
    "$$ Acc(Y,\\hat{Y}) = \\frac{1}{M} \\sum_{i=0}^{M-1} 1(Y_i = \\hat{Y}_i) $$"
   ]
  },
  {
   "cell_type": "code",
   "execution_count": 24,
   "metadata": {
    "ExecuteTime": {
     "end_time": "2017-05-09T21:09:26.445571",
     "start_time": "2017-05-09T21:09:26.437949"
    },
    "collapsed": false
   },
   "outputs": [
    {
     "name": "stdout",
     "output_type": "stream",
     "text": [
      "Acurácia:  0.96\n"
     ]
    }
   ],
   "source": [
    "Y_hat = predict(X_bias,WT)\n",
    "\n",
    "accuracy = np.sum(Y_hat == Y)/np.float(n_samples)\n",
    "\n",
    "print('Acurácia: ', accuracy)"
   ]
  },
  {
   "cell_type": "markdown",
   "metadata": {},
   "source": [
    "## Matriz de confusão\n",
    "\n",
    "A matriz de confusão é uma tabulação muito prática para indicar os acertos e erros de um\n",
    "classificador. As linhas indicam as classes preditas e as colunas as classes verdadeiras.\n",
    "A diagonal da matriz de confusão indica os acertos."
   ]
  },
  {
   "cell_type": "code",
   "execution_count": 25,
   "metadata": {
    "ExecuteTime": {
     "end_time": "2017-05-09T21:09:28.636494",
     "start_time": "2017-05-09T21:09:28.611918"
    },
    "collapsed": false
   },
   "outputs": [
    {
     "data": {
      "text/html": [
       "<div>\n",
       "<table border=\"1\" class=\"dataframe\">\n",
       "  <thead>\n",
       "    <tr style=\"text-align: right;\">\n",
       "      <th>col_0</th>\n",
       "      <th>0</th>\n",
       "      <th>1</th>\n",
       "      <th>2</th>\n",
       "    </tr>\n",
       "    <tr>\n",
       "      <th>row_0</th>\n",
       "      <th></th>\n",
       "      <th></th>\n",
       "      <th></th>\n",
       "    </tr>\n",
       "  </thead>\n",
       "  <tbody>\n",
       "    <tr>\n",
       "      <th>0</th>\n",
       "      <td>50</td>\n",
       "      <td>0</td>\n",
       "      <td>0</td>\n",
       "    </tr>\n",
       "    <tr>\n",
       "      <th>1</th>\n",
       "      <td>0</td>\n",
       "      <td>47</td>\n",
       "      <td>3</td>\n",
       "    </tr>\n",
       "    <tr>\n",
       "      <th>2</th>\n",
       "      <td>0</td>\n",
       "      <td>3</td>\n",
       "      <td>47</td>\n",
       "    </tr>\n",
       "  </tbody>\n",
       "</table>\n",
       "</div>"
      ],
      "text/plain": [
       "col_0   0   1   2\n",
       "row_0            \n",
       "0      50   0   0\n",
       "1       0  47   3\n",
       "2       0   3  47"
      ]
     },
     "execution_count": 25,
     "metadata": {},
     "output_type": "execute_result"
    }
   ],
   "source": [
    "import pandas as pd\n",
    "pd.crosstab(Y_hat, Y)"
   ]
  },
  {
   "cell_type": "markdown",
   "metadata": {
    "collapsed": false
   },
   "source": [
    "## Visualizando as regiões do classificador no espaço de atributos\n",
    "\n",
    "Como são apenas 2 atributos, largura e comprimento das sépalas, é possível visualizar o espaço de atributos\n",
    "num gráfico bidimensional e posicionar cada amostra rotulada, assim como rotular cada ponto do espaço de\n",
    "atributos, podendo visualizar o projeto do classificador. Neste tipo de visualização é possível verificar\n",
    "o comportamento do classificador e como ele divide o espaço de atributos. O classificador de Regressão Softmax\n",
    "é um classificador linear e os espaço de atributo é dividido por linhas retas.\n",
    "\n",
    "A função `FSView` permite esta visualização."
   ]
  },
  {
   "cell_type": "code",
   "execution_count": 26,
   "metadata": {
    "ExecuteTime": {
     "end_time": "2017-05-09T21:09:31.484034",
     "start_time": "2017-05-09T21:09:31.265178"
    },
    "collapsed": false
   },
   "outputs": [
    {
     "data": {
      "image/png": "[encoded data removed]",
      "text/plain": [
       "<matplotlib.figure.Figure at 0x11f538048>"
      ]
     },
     "metadata": {},
     "output_type": "display_data"
    }
   ],
   "source": [
    "from Jview import FSView\n",
    "FSView(X_bias,Y,WT)"
   ]
  },
  {
   "cell_type": "markdown",
   "metadata": {
    "collapsed": true
   },
   "source": [
    "## Atividades\n",
    "\n",
    "1. O próximo notebook é similar a este, porém com a visualização simultânea do gráfico da perda e o gráfico das fronteiras de decisão. Faça as atividades neste próximo notebook e utilize este para entender os diversos passos do programa, pois aqui o notebook está bastante explicado."
   ]
  }
 ],
 "metadata": {
  "anaconda-cloud": {},
  "kernelspec": {
   "display_name": "Python 3",
   "language": "python",
   "name": "python3"
  },
  "language_info": {
   "codemirror_mode": {
    "name": "ipython",
    "version": 3
   },
   "file_extension": ".py",
   "mimetype": "text/x-python",
   "name": "python",
   "nbconvert_exporter": "python",
   "pygments_lexer": "ipython3",
   "version": "3.6.0"
  },
  "toc": {
   "colors": {
    "hover_highlight": "#DAA520",
    "running_highlight": "#FF0000",
    "selected_highlight": "#FFD700"
   },
   "moveMenuLeft": true,
   "nav_menu": {
    "height": "498px",
    "width": "252px"
   },
   "navigate_menu": true,
   "number_sections": true,
   "sideBar": true,
   "threshold": 4,
   "toc_cell": true,
   "toc_section_display": "block",
   "toc_window_display": false
  }
 },
 "nbformat": 4,
 "nbformat_minor": 0
}
