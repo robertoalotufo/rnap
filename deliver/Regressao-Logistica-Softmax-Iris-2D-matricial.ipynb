{
 "cells": [
  {
   "cell_type": "markdown",
   "metadata": {},
   "source": [
    "# Exemplo de Regressão Logística usando Softmax (Iris dataset) implementação matricial\n",
    "\n",
    "Utiliza uma rede neural de uma camada e função Softmax. A programação da rede, assim\n",
    "como o seu treinamento e predição utilizam programação matricial, sem fazer uso de\n",
    "bibliotecas de *machine learning*.\n",
    "\n",
    "O uso de apenas dois atributos permite visualização do espaço de atributos\n"
   ]
  },
  {
   "cell_type": "markdown",
   "metadata": {},
   "source": [
    "### Este tutorial foi inspirado na documentação do sklearn : [Logistic Regression 3-class Classifier](http://scikit-learn.org/stable/auto_examples/linear_model/plot_iris_logistic.html#sphx-glr-auto-examples-linear-model-plot-iris-logistic-py)\n",
    "\n",
    "Objetivo deste exemplo é codificar o método de Regressão Logística utilizando Softmax e\n",
    "gradiente descendente. As bibliotecas usadas são mínimas, principalmente as funções básicas\n",
    "matriciais dos pacotes `NumPy` e `Scipy`. As demais bibliotecas são usadas neste exemplo apenas para: `pandas` - para imprimir a matriz de confusão; `sklearn` - para carregar o conjunto de\n",
    "dados Iris; `matplotlib` - para mostrar gráfico e imagens."
   ]
  },
  {
   "cell_type": "code",
   "execution_count": 1,
   "metadata": {
    "collapsed": false
   },
   "outputs": [],
   "source": [
    "import numpy as np\n",
    "import matplotlib.pyplot as plt\n",
    "%matplotlib inline\n"
   ]
  },
  {
   "cell_type": "markdown",
   "metadata": {},
   "source": [
    "## Iris Flower Dataset\n",
    "\n",
    "[Wikipedia](https://en.wikipedia.org/wiki/Iris_flower_data_set): The data set consists of 50 samples from each of three species of Iris (*Iris setosa, Iris virginica and Iris versicolor*). Four features were measured from each sample: the **length and the width of the sepals and petals, in centimetres**. Based on the combination of these four features, Fisher developed a linear discriminant model to distinguish the species from each other."
   ]
  },
  {
   "cell_type": "markdown",
   "metadata": {},
   "source": [
    "### Escolhendo os dois atributos\n",
    "\n",
    "![](../figures/iris_petals_sepals.png)\n",
    "\n",
    "Dos 4 atributos disponíveis: comprimento e largura das sépalas e comprimento e largura das pétalas, vamos escolher o comprimento das sépalas e comprimento das pétalas. Isto é feito\n",
    "escolhendo os atributos de índice 0 e 2 dos dados da íris:"
   ]
  },
  {
   "cell_type": "code",
   "execution_count": 39,
   "metadata": {
    "collapsed": false
   },
   "outputs": [
    {
     "name": "stdout",
     "output_type": "stream",
     "text": [
      "X.shape: (150, 3)\n",
      "Y.shape: (150,)\n"
     ]
    }
   ],
   "source": [
    "from sklearn import linear_model, datasets\n",
    "\n",
    "iris = datasets.load_iris()\n",
    "X = iris.data[:,::2]  # comprimento das sépalas e pétalas, indices 0 e 2\n",
    "X = np.hstack([np.ones((150,1)),X]) # incluído X00 como 1 para gerar bias no W\n",
    "Y = iris.target\n",
    "\n",
    "print 'X.shape:',X.shape\n",
    "print 'Y.shape:',Y.shape\n",
    "\n"
   ]
  },
  {
   "cell_type": "markdown",
   "metadata": {},
   "source": [
    "### Visualizando o dataset"
   ]
  },
  {
   "cell_type": "code",
   "execution_count": 40,
   "metadata": {
    "collapsed": false
   },
   "outputs": [
    {
     "data": {
      "image/png": "[encoded data removed]",
      "text/plain": [
       "<matplotlib.figure.Figure at 0x7f8ae31ac350>"
      ]
     },
     "metadata": {},
     "output_type": "display_data"
    }
   ],
   "source": [
    "plt.figure(1, figsize=(4, 3))\n",
    "colors = np.array(['r','y','b'])\n",
    "plt.scatter(X[:, 1], X[:, 2], c=colors[Y])\n",
    "plt.xlabel('Comprimento sepalas')\n",
    "plt.ylabel('Comprimento petalas')\n",
    "plt.show()"
   ]
  },
  {
   "cell_type": "markdown",
   "metadata": {
    "collapsed": false
   },
   "source": [
    "### Função para codificar rótulos inteiros na codificação one-hot\n",
    "\n",
    "Esta função é também chamada de conversão para dados categóricos. Temos 3 classes de\n",
    "flores: Iris setosa, Iris virginica and Iris versicolor. Estas classes podem ser codificadas\n",
    "como classes 0, 1 e 2 (rótulos numéricos) ou na codificação com 3 variáveis binárias:\n",
    "\n",
    "<table border=\"1\">\n",
    "<tr>\n",
    "<td>Espécie</td>\n",
    "<td>Y</td>\n",
    "<td>Y_oh[0]</td>\n",
    "<td>Y_oh[1]</td>\n",
    "<td>Y_oh[2]</td>\n",
    "</tr>\n",
    "<tr>\n",
    "<td>Iris setosa</td>\n",
    "<td>0</td>\n",
    "<td>1</td>\n",
    "<td>0</td>\n",
    "<td>0</td>\n",
    "</tr>\n",
    "<tr>\n",
    "<td>Iris setosa</td>\n",
    "<td>1</td>\n",
    "<td>0</td>\n",
    "<td>1</td>\n",
    "<td>0</td>\n",
    "</tr>\n",
    "<tr>\n",
    "<td>Iris setosa</td>\n",
    "<td>2</td>\n",
    "<td>1</td>\n",
    "<td>0</td>\n",
    "<td>1</td>\n",
    "</tr>\n",
    "</table>\n",
    "\n"
   ]
  },
  {
   "cell_type": "markdown",
   "metadata": {
    "collapsed": false
   },
   "source": [
    "A função `oneHotIt` a seguir implementa de forma eficiente esta conversão, utilizando a\n",
    "facilidade de criação de arrays esparsos.\n",
    "\n",
    "A entrada da função é o vetor `Y` e a saída será um array com o mesmo número de\n",
    "linhas que o número de elementos de `Y` e a largura terá o número de colunas do\n",
    "maior rótulo disponível em `Y`:\n"
   ]
  },
  {
   "cell_type": "code",
   "execution_count": 41,
   "metadata": {
    "collapsed": false
   },
   "outputs": [],
   "source": [
    "def oneHotIt(Y,k):\n",
    "    Y = Y.reshape(-1,1)\n",
    "    i = np.arange(k).reshape(1,k)\n",
    "    Y_oh = (Y == i).astype(int)\n",
    "    return Y_oh\n",
    "    "
   ]
  },
  {
   "cell_type": "markdown",
   "metadata": {},
   "source": [
    "Gerando vetor de rótulos no formato one-hot "
   ]
  },
  {
   "cell_type": "code",
   "execution_count": 42,
   "metadata": {
    "collapsed": false
   },
   "outputs": [
    {
     "name": "stdout",
     "output_type": "stream",
     "text": [
      "Y:\n",
      "[0 0 0 0 0]\n",
      "Y_oh[:5]=\n",
      "[[1 0 0]\n",
      " [1 0 0]\n",
      " [1 0 0]\n",
      " [1 0 0]\n",
      " [1 0 0]]\n"
     ]
    }
   ],
   "source": [
    "Y_oh = oneHotIt(Y,3)\n",
    "# Mostrando os primeiros 5 destes valores\n",
    "print 'Y:\\n', Y[:5]\n",
    "print 'Y_oh[:5]=\\n',Y_oh[:5]"
   ]
  },
  {
   "cell_type": "markdown",
   "metadata": {},
   "source": [
    "Now we set the loaded data as our x and y variables for both the train and test sets."
   ]
  },
  {
   "cell_type": "markdown",
   "metadata": {
    "collapsed": false
   },
   "source": [
    "![](../figures/regressaologistica_fluxo.jpg)\n",
    "\n",
    "(https://sebastianraschka.com/images/faq/softmax_regression/logistic_regression_schematic.png)\n",
    "\n"
   ]
  },
  {
   "cell_type": "markdown",
   "metadata": {},
   "source": [
    "A funcão Softmax já foi vista antes:\n",
    "Recebe como entrada uma matriz bidimensional, nas $n$ linhas são as amostras e nas $k$ colunas são os *scores* de cada amostra.\n",
    "No resultado, a matriz também é bidimensional, com as mesmas dimensões da matriz de *scores* de entrada, entretanto, a soma de cada linha referente à amostra $i$ é 1, pois cada coluna\n",
    "representa a probabilidade dessa amostra cada a classe $k$. \n",
    "\n",
    "Revisando, a implementação matricial usando o NumPy é baseado na equação matricial, repetida aqui:\n",
    "\n",
    "$$ Softmax(\\boldsymbol{Z}) = \\frac{e^{\\boldsymbol{Z}}}{\\sum_{j=0}^{k-1}e^{z_{i,j}}} $$\n",
    "\n",
    "## Função `softmax`"
   ]
  },
  {
   "cell_type": "code",
   "execution_count": 43,
   "metadata": {
    "collapsed": true
   },
   "outputs": [],
   "source": [
    "def softmax(Z):\n",
    "    # computes softmax for all samples, normalize among classes (columns)\n",
    "    # input Z: scores; shape: samples rows x classes columns\n",
    "    # output S: same shape of input\n",
    "    EZ = np.exp(Z)\n",
    "    S = EZ / EZ.sum(axis=1,keepdims=True) # normaliza nas classes - colunas\n",
    "    return S"
   ]
  },
  {
   "cell_type": "markdown",
   "metadata": {},
   "source": [
    "### Este é o laço principal da Regressão Logística por Softmax\n",
    "\n",
    "Os pesos são inicializados em zero, sem fator de regularização.\n",
    "Em cada iteração, a função a ser minimizada é calculada e os pesos são ajustados\n",
    "pelo técnica de gradiente descendente.\n",
    "\n",
    "#### Perda pela Entropia Cruzada\n",
    "\n",
    "A função a ser minimizada é a função $J$ de perda, que é baseada na Entropia Cruzada (*Cross Entropy*). Dado um conjunto de **amostras anotadas**, isto é, amostras $\\boldsymbol{X}$ com\n",
    "classe $\\boldsymbol{Y}$, encontrar os pesos $\\boldsymbol{W}$ que minimizam $J$:\n",
    "\n",
    "$$ J_{\\boldsymbol{X,Y}_{TRUE}}(\\boldsymbol{W}) = -\\frac{1}{n} \\sum \\boldsymbol{Y}_{TRUE} \\odot \\log{\\boldsymbol{S}(\\boldsymbol{XW})}$$\n",
    "onde $\\odot$ é multiplicação ponto-a-ponto de matrizes.\n",
    "\n",
    "A minimização é feita através do método de gradiente descendente. O gradiente de $J$ é dado por:\n",
    "\n",
    "$$ \\boldsymbol{\\Delta J(W)} = - \\frac{1}{n} \\boldsymbol{X}^T (\\boldsymbol{Y}_{TRUE} - \\boldsymbol{S(XW)}) $$ \n",
    "\n",
    "Os pesos são então ajustados em cada *batch* pela equação onde $\\eta$ é denominado de\n",
    "taxa de aprendizagem: *learning rate*:\n",
    "\n",
    "$$ \\boldsymbol{W} = \\boldsymbol{W} - \\eta \\boldsymbol{\\Delta J(W)} $$ \n",
    "\n",
    "A cada iteração no programa de minimização abaixo, os pesos são ajustados aplicando-se o\n",
    "gradiente descendente utilizando todo o conjunto de treinamento. Este esquema é denominado\n",
    "de \"batch gradient descent\".\n",
    "\n",
    "No programa a seguir, o $J$ é implementado pela variável `loss` e o gradiente $\\Delta J$ \n",
    "é implementado pela variável `Grad`."
   ]
  },
  {
   "cell_type": "code",
   "execution_count": 44,
   "metadata": {
    "collapsed": false
   },
   "outputs": [
    {
     "name": "stdout",
     "output_type": "stream",
     "text": [
      "final W: [[ 1.52460768  5.61473112 -7.1393388 ]\n",
      " [ 4.11741611 -0.12543194 -3.99198417]\n",
      " [-7.10287364 -0.22131854  7.32419219]]\n",
      "Final loss: 0.10747711677\n"
     ]
    }
   ],
   "source": [
    "n = X.shape[0] # number of training examples\n",
    "m = X.shape[1] # number of attributes (features + 1(bias))\n",
    "k = 3          # number of classes\n",
    "W = np.zeros([m,k]) # n. de linhas é igual a número de atributos (features, pixels)\n",
    "iterations = 10000\n",
    "learningRate = 1e-3 * 150\n",
    "losses = []\n",
    "for i in range(iterations):\n",
    "    scores = X.dot(W)\n",
    "    S = softmax(scores)\n",
    "    loss = (-1. / n) * np.sum(Y_oh * np.log(S))\n",
    "    Grad = (-1. / n) * (X.T).dot(Y_oh - S) \n",
    "    W = W - (learningRate * Grad)\n",
    "    losses.append(loss)\n",
    "print 'final W:',W\n",
    "print 'Final loss:',loss"
   ]
  },
  {
   "cell_type": "code",
   "execution_count": 45,
   "metadata": {
    "collapsed": false
   },
   "outputs": [
    {
     "data": {
      "text/plain": [
       "[<matplotlib.lines.Line2D at 0x7f8ae30d4f10>]"
      ]
     },
     "execution_count": 45,
     "metadata": {},
     "output_type": "execute_result"
    },
    {
     "data": {
      "image/png": "[encoded data removed]",
      "text/plain": [
       "<matplotlib.figure.Figure at 0x7f8ae3121d10>"
      ]
     },
     "metadata": {},
     "output_type": "display_data"
    }
   ],
   "source": [
    "plt.plot(losses)"
   ]
  },
  {
   "cell_type": "markdown",
   "metadata": {},
   "source": [
    "## Função `predict`\n",
    "\n",
    "A função predict escolhe a classe de maior probabilidade a partir do resultado do `softmax`:\n",
    "Entrada:\n",
    "- X: matriz bidimensional (n,m): n amostras e m attributes - AMOSTRAS\n",
    "- W: matriz bidimensional (m,k): m attributes e k classes - PESOS TREINADOS\n",
    "Saída:\n",
    "- Y_hat: matriz bidimensional (n,1): n amostras x 1 - CLASSE prevista\n"
   ]
  },
  {
   "cell_type": "code",
   "execution_count": 46,
   "metadata": {
    "collapsed": false
   },
   "outputs": [],
   "source": [
    "def predict(X,W):\n",
    "    S = softmax(X.dot(W))\n",
    "    # escolhe a maior probabilidade entre as classes\n",
    "    Y_hat = np.argmax(S,axis=1)\n",
    "    return Y_hat"
   ]
  },
  {
   "cell_type": "markdown",
   "metadata": {},
   "source": [
    "## Cálculo do desempenho do resultado\n",
    "\n",
    "A acurácia é o número de acertos dividido pelo número de amostras $n$.\n",
    "\n",
    "$$ Acc(Y,\\hat{Y}) = \\frac{1}{n} \\sum_{i=0}^{n-1} 1(Y_i = \\hat{Y}_i $$"
   ]
  },
  {
   "cell_type": "code",
   "execution_count": 48,
   "metadata": {
    "collapsed": false
   },
   "outputs": [
    {
     "name": "stdout",
     "output_type": "stream",
     "text": [
      "Acurácia:  0.96\n",
      "Matriz de confusão:\n"
     ]
    },
    {
     "data": {
      "text/html": [
       "<div>\n",
       "<table border=\"1\" class=\"dataframe\">\n",
       "  <thead>\n",
       "    <tr style=\"text-align: right;\">\n",
       "      <th>col_0</th>\n",
       "      <th>0</th>\n",
       "      <th>1</th>\n",
       "      <th>2</th>\n",
       "    </tr>\n",
       "    <tr>\n",
       "      <th>row_0</th>\n",
       "      <th></th>\n",
       "      <th></th>\n",
       "      <th></th>\n",
       "    </tr>\n",
       "  </thead>\n",
       "  <tbody>\n",
       "    <tr>\n",
       "      <th>0</th>\n",
       "      <td>50</td>\n",
       "      <td>0</td>\n",
       "      <td>0</td>\n",
       "    </tr>\n",
       "    <tr>\n",
       "      <th>1</th>\n",
       "      <td>0</td>\n",
       "      <td>47</td>\n",
       "      <td>3</td>\n",
       "    </tr>\n",
       "    <tr>\n",
       "      <th>2</th>\n",
       "      <td>0</td>\n",
       "      <td>3</td>\n",
       "      <td>47</td>\n",
       "    </tr>\n",
       "  </tbody>\n",
       "</table>\n",
       "</div>"
      ],
      "text/plain": [
       "col_0   0   1   2\n",
       "row_0            \n",
       "0      50   0   0\n",
       "1       0  47   3\n",
       "2       0   3  47"
      ]
     },
     "execution_count": 48,
     "metadata": {},
     "output_type": "execute_result"
    }
   ],
   "source": [
    "Y_hat = predict(X,W)\n",
    "\n",
    "accuracy = np.sum(Y_hat == Y)/np.float(n)\n",
    "\n",
    "print 'Acurácia: ', accuracy\n",
    "\n",
    "print 'Matriz de confusão:'\n",
    "import pandas as pd\n",
    "pd.crosstab(predict(X,W), Y)\n"
   ]
  },
  {
   "cell_type": "markdown",
   "metadata": {
    "collapsed": false
   },
   "source": [
    "## Visualizando a regiões do classificador no espaço de atributos"
   ]
  },
  {
   "cell_type": "code",
   "execution_count": 50,
   "metadata": {
    "collapsed": false
   },
   "outputs": [
    {
     "data": {
      "image/png": "[encoded data removed]",
      "text/plain": [
       "<matplotlib.figure.Figure at 0x7f8ae30c0890>"
      ]
     },
     "metadata": {},
     "output_type": "display_data"
    }
   ],
   "source": [
    "h = .02  # step size in the mesh\n",
    "\n",
    "# Calcula a grade para o espaço de atributos\n",
    "\n",
    "x_min, x_max = X[:, 1].min() - .5, X[:, 1].max() + .5\n",
    "y_min, y_max = X[:, 2].min() - .5, X[:, 2].max() + .5\n",
    "xx, yy = np.meshgrid(np.arange(x_min, x_max, h), np.arange(y_min, y_max, h))\n",
    "X_grid = np.c_[xx.ravel(), yy.ravel()]\n",
    "X_grid = np.hstack([np.ones((X_grid.shape[0],1)),X_grid]) # incluído X00 como 1 para gerar bias no W\n",
    "\n",
    "# Faz a predição para todas as amostras do espaço de atributos\n",
    "Z = predict(X_grid, W)\n",
    "\n",
    "# Mostra o resultado da predição (0, 1 ou 2) no gráfico\n",
    "Z = Z.reshape(xx.shape)\n",
    "plt.figure(1, figsize=(6, 5))\n",
    "plt.pcolormesh(xx, yy, Z, cmap=plt.cm.Paired)\n",
    "\n",
    "# Mostra os pontos das amostras de treinamento\n",
    "colors = np.array(['r','y','b'])\n",
    "plt.scatter(X[:, 1], X[:, 2], c=colors[Y], edgecolors='k', cmap=plt.cm.Paired)\n",
    "plt.xlabel('Sepal length')\n",
    "plt.ylabel('Sepal width')\n",
    "plt.show()"
   ]
  },
  {
   "cell_type": "code",
   "execution_count": null,
   "metadata": {
    "collapsed": true
   },
   "outputs": [],
   "source": []
  }
 ],
 "metadata": {
  "anaconda-cloud": {},
  "kernelspec": {
   "display_name": "Python [Root]",
   "language": "python",
   "name": "Python [Root]"
  },
  "language_info": {
   "codemirror_mode": {
    "name": "ipython",
    "version": 2
   },
   "file_extension": ".py",
   "mimetype": "text/x-python",
   "name": "python",
   "nbconvert_exporter": "python",
   "pygments_lexer": "ipython2",
   "version": "2.7.12"
  }
 },
 "nbformat": 4,
 "nbformat_minor": 0
}
