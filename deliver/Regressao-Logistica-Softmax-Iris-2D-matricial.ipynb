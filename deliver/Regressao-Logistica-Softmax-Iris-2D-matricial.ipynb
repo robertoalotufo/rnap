{
 "cells": [
  {
   "cell_type": "markdown",
   "metadata": {},
   "source": [
    "# Regressão Logística usando Softmax (Iris dataset) implementação matricial\n",
    "\n",
    "O objetivo deste notebook é \n",
    "* ilustrar a implementação, treino e uso de um classificador multiclasse utilizando \n",
    "* regressão logística e \n",
    "* componente softmax e\n",
    "* minimização da função perda utilizando gradiente descendente. \n",
    "\n",
    "O conjunto de dados utilizados é o Iris, utilizando apenas \n",
    "* dois atributos para \n",
    "* visualização das fronteiras de decisão no espaço de atributos.\n",
    "\n",
    "Como feito no experimento de Regressão Linear, as funções serão todas implementadas utilizando apenas o NumPy e serão uma extensão do problema de Regressão Linear.\n"
   ]
  },
  {
   "cell_type": "markdown",
   "metadata": {},
   "source": [
    "## Classificador Supervisionado\n",
    "\n",
    "O problema neste exemplo é um dos muitos que desenvolveremos neste curso e está na categoria de classificador supervisionado:\n",
    "\n",
    "Dado um conjunto de amostras rotuladas, isto é, cada amostra será caracterizada pelos seus atributos e será representada na matriz $\\boldsymbol{X}$ de shape $(n,k)$: ($n$ amostras e $k$ classes. Adicionalmente, cada amostra possui uma classe, um rótulo ou categoria, representado pelo vetor $\\boldsymbol{Y}$ com $n$ elementos, cada um indicando a classe a qu pertence.\n",
    "\n",
    "No caso da Iris, serão:\n",
    "* 150 amostras, 50 da setosa (classe 0), virginica (classe 1) e versicolor (classe 2).\n",
    "\n",
    "O par $(\\boldsymbol{X},\\boldsymbol{Y})$ consiste de um conjunto de dados anotados ou rotulados.\n",
    "\n",
    "Uma das principais dificuldades no projeto de classificadores supervisionados é a criação deste banco anotado, pois demanda um esforço e conhecimento de peritos, muitas vezes tornando o problema inviável."
   ]
  },
  {
   "cell_type": "markdown",
   "metadata": {},
   "source": [
    "## Definição do problema\n",
    "\n",
    "Dado o conjunto rotulado $(\\boldsymbol{X},\\boldsymbol{Y})$, projetar um classificador que dada uma nova amostra desconhecida, classifique-a em uma das possíveis classes: setosa, virginica ou versicolor.\n",
    "\n",
    "Iremos utilizar uma solução baseada no experimento da Regressão Linear, porém agora, utilizando dois atributos e projetando o classificar para 3 classes. A minimização da função perda também será feita pelo método do gradiente descendente."
   ]
  },
  {
   "cell_type": "markdown",
   "metadata": {},
   "source": [
    "## Importação de bibliotecas\n",
    "\n",
    "Objetivo deste exemplo é codificar o método de Regressão Logística utilizando Softmax e\n",
    "gradiente descendente. As bibliotecas usadas são:\n",
    "* NumPy - processamento matricial\n",
    "* sklearn - apenas para carregar o dataset\n",
    "* matplotlib - gerar gráficos\n",
    "* pandas - mostrar a matriz de confusão\n",
    "* IPython - permite mostrar os dados na forma de tabela\n"
   ]
  },
  {
   "cell_type": "code",
   "execution_count": 1,
   "metadata": {
    "collapsed": false
   },
   "outputs": [],
   "source": [
    "import numpy as np\n",
    "from sklearn.datasets import load_iris\n",
    "import matplotlib.pyplot as plt\n",
    "%matplotlib inline\n",
    "import pandas as pd\n",
    "from IPython.display import display"
   ]
  },
  {
   "cell_type": "markdown",
   "metadata": {},
   "source": [
    "## Iris Flower Dataset\n",
    "\n",
    "[Wikipedia](https://en.wikipedia.org/wiki/Iris_flower_data_set): The data set consists of 50 samples from each of three species of Iris (*Iris setosa, Iris virginica and Iris versicolor*). Four features were measured from each sample: the **length and the width of the sepals and petals, in centimetres**. Based on the combination of these four features, Fisher developed a linear discriminant model to distinguish the species from each other."
   ]
  },
  {
   "cell_type": "markdown",
   "metadata": {},
   "source": [
    "## Escolhendo os dois atributos\n",
    "\n",
    "Dos 4 atributos disponíveis: comprimento e largura das sépalas e comprimento e largura das pétalas, vamos escolher 2 apenas: o comprimento das sépalas e o comprimento das pétalas.\n",
    "\n",
    "O conjunto de dados rotulados estão é formado por:\n",
    "* Y: vetor de 150 amostras contendo o valor da classe da amostra: 0, 1 ou 2\n",
    "* X: contendo 150 amostras (linhas) e duas colunas:\n",
    "    * coluna 0: o comprimento das sépalas e \n",
    "    * coluna 1: comprimento das pétalas.\n",
    "    \n",
    "O trecho a seguir faz a leitura dos dados, escolha das duas colunas (0 e 2) e a impressão dos shapes de `X` e `Y`. Ambos formam nosso conjunto de dados anotados.\n"
   ]
  },
  {
   "cell_type": "code",
   "execution_count": 2,
   "metadata": {
    "collapsed": false
   },
   "outputs": [
    {
     "name": "stdout",
     "output_type": "stream",
     "text": [
      "X.shape: (150, 2)\n",
      "Y.shape: (150,)\n"
     ]
    }
   ],
   "source": [
    "iris = load_iris()\n",
    "X = iris.data[:,::2]  # comprimento das sépalas e pétalas, indices 0 e 2\n",
    "Y = iris.target\n",
    "print 'X.shape:',X.shape\n",
    "print 'Y.shape:',Y.shape"
   ]
  },
  {
   "cell_type": "markdown",
   "metadata": {},
   "source": [
    "## Imprimindo os dados rotulados com pandas\n",
    "\n",
    "O panda é um pacote extremamente poderoso para processamento e visualização de dados. Vamos utilizá-lo aqui para melhor visualizar os dados X e Y na forma de tabela."
   ]
  },
  {
   "cell_type": "code",
   "execution_count": 3,
   "metadata": {
    "collapsed": false
   },
   "outputs": [
    {
     "name": "stdout",
     "output_type": "stream",
     "text": [
      "Imprimindo primeiros 5 amostras\n"
     ]
    },
    {
     "data": {
      "text/html": [
       "<div>\n",
       "<table border=\"1\" class=\"dataframe\">\n",
       "  <thead>\n",
       "    <tr style=\"text-align: right;\">\n",
       "      <th>classe</th>\n",
       "      <th>comprimento sepalas</th>\n",
       "      <th>comprimento petalas</th>\n",
       "    </tr>\n",
       "  </thead>\n",
       "  <tbody>\n",
       "    <tr>\n",
       "      <th>0</th>\n",
       "      <td>5.1</td>\n",
       "      <td>1.4</td>\n",
       "    </tr>\n",
       "    <tr>\n",
       "      <th>0</th>\n",
       "      <td>4.9</td>\n",
       "      <td>1.4</td>\n",
       "    </tr>\n",
       "    <tr>\n",
       "      <th>0</th>\n",
       "      <td>4.7</td>\n",
       "      <td>1.3</td>\n",
       "    </tr>\n",
       "    <tr>\n",
       "      <th>0</th>\n",
       "      <td>4.6</td>\n",
       "      <td>1.5</td>\n",
       "    </tr>\n",
       "    <tr>\n",
       "      <th>0</th>\n",
       "      <td>5.0</td>\n",
       "      <td>1.4</td>\n",
       "    </tr>\n",
       "  </tbody>\n",
       "</table>\n",
       "</div>"
      ],
      "text/plain": [
       "classe  comprimento sepalas  comprimento petalas\n",
       "0                       5.1                  1.4\n",
       "0                       4.9                  1.4\n",
       "0                       4.7                  1.3\n",
       "0                       4.6                  1.5\n",
       "0                       5.0                  1.4"
      ]
     },
     "metadata": {},
     "output_type": "display_data"
    },
    {
     "name": "stdout",
     "output_type": "stream",
     "text": [
      "Imprimindo 5 últimas amostras\n"
     ]
    },
    {
     "data": {
      "text/html": [
       "<div>\n",
       "<table border=\"1\" class=\"dataframe\">\n",
       "  <thead>\n",
       "    <tr style=\"text-align: right;\">\n",
       "      <th>classe</th>\n",
       "      <th>comprimento sepalas</th>\n",
       "      <th>comprimento petalas</th>\n",
       "    </tr>\n",
       "  </thead>\n",
       "  <tbody>\n",
       "    <tr>\n",
       "      <th>2</th>\n",
       "      <td>6.7</td>\n",
       "      <td>5.2</td>\n",
       "    </tr>\n",
       "    <tr>\n",
       "      <th>2</th>\n",
       "      <td>6.3</td>\n",
       "      <td>5.0</td>\n",
       "    </tr>\n",
       "    <tr>\n",
       "      <th>2</th>\n",
       "      <td>6.5</td>\n",
       "      <td>5.2</td>\n",
       "    </tr>\n",
       "    <tr>\n",
       "      <th>2</th>\n",
       "      <td>6.2</td>\n",
       "      <td>5.4</td>\n",
       "    </tr>\n",
       "    <tr>\n",
       "      <th>2</th>\n",
       "      <td>5.9</td>\n",
       "      <td>5.1</td>\n",
       "    </tr>\n",
       "  </tbody>\n",
       "</table>\n",
       "</div>"
      ],
      "text/plain": [
       "classe  comprimento sepalas  comprimento petalas\n",
       "2                       6.7                  5.2\n",
       "2                       6.3                  5.0\n",
       "2                       6.5                  5.2\n",
       "2                       6.2                  5.4\n",
       "2                       5.9                  5.1"
      ]
     },
     "metadata": {},
     "output_type": "display_data"
    }
   ],
   "source": [
    "# Assuming that dataframes df1 and df2 are already defined:\n",
    "df = pd.DataFrame(X, index=Y, columns=['comprimento sepalas','comprimento petalas'])\n",
    "df.columns.name = 'classe'\n",
    "print 'Imprimindo primeiros 5 amostras'\n",
    "display(df.head()) # imprime o começo da tabela\n",
    "print 'Imprimindo 5 últimas amostras'\n",
    "display(df.tail()) # imprime o final"
   ]
  },
  {
   "cell_type": "markdown",
   "metadata": {},
   "source": [
    "## Visualizando o dataset\n",
    "\n",
    "Como feito no notebook passado, as amostras são visualizadas com o `scatter`. A cor de cada amostra é selecionada pela sua classe: 0: red, 1: yellow: 2: blue. A cor é indexada pelo vetor `Y` das classes."
   ]
  },
  {
   "cell_type": "code",
   "execution_count": 4,
   "metadata": {
    "collapsed": false
   },
   "outputs": [
    {
     "data": {
      "image/png": "[encoded data removed]",
      "text/plain": [
       "<matplotlib.figure.Figure at 0x7f4ee4bb0e50>"
      ]
     },
     "metadata": {},
     "output_type": "display_data"
    }
   ],
   "source": [
    "colors = np.array(['r','y','b'])\n",
    "plt.scatter(X[:, 0], X[:, 1], c=colors[Y])\n",
    "plt.xlabel('Comprimento sepalas')\n",
    "plt.ylabel('Comprimento petalas')\n",
    "plt.show()"
   ]
  },
  {
   "cell_type": "markdown",
   "metadata": {},
   "source": [
    "## Normalização dos dados\n",
    "\n",
    "A normalização dos dados quando existem mais de um atributo merece um cuidado, pois os limites dos valores mínimos e máximos devem ser feitos para cada atributo. Em NumPy isso é conseguido com a operação de redução de eixo onde é possível encontrar o máximo e o mínimo por colunas ou por linhas. No caso, como os atributos estão organizados por colunas, a redução deve ocorrer no eixo das linhas (axis=0):\n",
    "\n",
    "Para se observar a diferença entre a normalização certa e que normaliza de forma global, fazemos as duas normalizações e visualizamos para observar a diferença."
   ]
  },
  {
   "cell_type": "code",
   "execution_count": 5,
   "metadata": {
    "collapsed": false
   },
   "outputs": [
    {
     "data": {
      "text/plain": [
       "<matplotlib.text.Text at 0x7f4ee2229810>"
      ]
     },
     "execution_count": 5,
     "metadata": {},
     "output_type": "execute_result"
    },
    {
     "data": {
      "image/png": "[encoded data removed]",
      "text/plain": [
       "<matplotlib.figure.Figure at 0x7f4ee2326850>"
      ]
     },
     "metadata": {},
     "output_type": "display_data"
    }
   ],
   "source": [
    "# normalização global - não deve ser usada\n",
    "X_a = X - X.min()\n",
    "X_a /= X_a.max()\n",
    "\n",
    "# normalização correta - por coluna\n",
    "X_c = X - X.min(axis=0,keepdims=True)\n",
    "X_c /= X_c.max(axis=0,keepdims=True)\n",
    "\n",
    "f, (ax1, ax2) = plt.subplots(1, 2, sharey=False)\n",
    "ax1.set_ylim(0,1)\n",
    "ax1.set_xlim(0,1)\n",
    "ax2.set_ylim(0,1)\n",
    "ax2.set_xlim(0,1)\n",
    "ax1.scatter(X_a[:, 0], X_a[:, 1], c=colors[Y])\n",
    "ax2.scatter(X_c[:, 0], X_c[:, 1], c=colors[Y])\n",
    "ax1.set_title('Normalizacao errada')\n",
    "ax2.set_title('X_c: Normalizacao correta')\n"
   ]
  },
  {
   "cell_type": "markdown",
   "metadata": {
    "collapsed": false
   },
   "source": [
    "## Função para codificar rótulos inteiros na codificação one-hot\n",
    "\n",
    "Esta função é também chamada de conversão para dados categóricos. Temos 3 classes de\n",
    "flores: Iris setosa, Iris virginica and Iris versicolor. Estas classes podem ser codificadas\n",
    "como classes 0, 1 e 2 (rótulos numéricos) ou na codificação com 3 variáveis binárias:\n",
    "\n",
    "<table border=\"1\">\n",
    "<tr>\n",
    "<td>Espécie</td>\n",
    "<td>Y</td>\n",
    "<td>Y_oh[0]</td>\n",
    "<td>Y_oh[1]</td>\n",
    "<td>Y_oh[2]</td>\n",
    "</tr>\n",
    "<tr>\n",
    "<td>Iris setosa</td>\n",
    "<td>0</td>\n",
    "<td>1</td>\n",
    "<td>0</td>\n",
    "<td>0</td>\n",
    "</tr>\n",
    "<tr>\n",
    "<td>Iris setosa</td>\n",
    "<td>1</td>\n",
    "<td>0</td>\n",
    "<td>1</td>\n",
    "<td>0</td>\n",
    "</tr>\n",
    "<tr>\n",
    "<td>Iris setosa</td>\n",
    "<td>2</td>\n",
    "<td>1</td>\n",
    "<td>0</td>\n",
    "<td>1</td>\n",
    "</tr>\n",
    "</table>\n",
    "\n"
   ]
  },
  {
   "cell_type": "markdown",
   "metadata": {
    "collapsed": false
   },
   "source": [
    "A função `oneHotIt` a seguir implementa de forma eficiente esta conversão, utilizando a\n",
    "facilidade de criação de arrays esparsos.\n",
    "\n",
    "A entrada da função é o vetor `Y` e a saída será um array com o mesmo número de\n",
    "linhas que o número de elementos de `Y` e a largura terá o número de colunas do\n",
    "maior rótulo disponível em `Y`:\n",
    "\n",
    "A título de ilustração e exercício de programação matricial, apresentamos a seguir duas implementações da função que converte os labels para a codificação \"one-hot\":"
   ]
  },
  {
   "cell_type": "code",
   "execution_count": 6,
   "metadata": {
    "collapsed": false
   },
   "outputs": [],
   "source": [
    "def oneHotIt2(Y,k):\n",
    "    Y = Y.reshape(-1,1)\n",
    "    i = np.arange(k).reshape(1,k)\n",
    "    Y_oh = (Y == i).astype(int)\n",
    "    return Y_oh\n",
    "\n",
    "def oneHotIt(Y,k):\n",
    "    n = Y.size # número de amostras\n",
    "    i = np.arange(n)\n",
    "    Y_oh = np.zeros(shape=(n,k))\n",
    "    Y_oh[i,Y] = 1\n",
    "    return Y_oh"
   ]
  },
  {
   "cell_type": "markdown",
   "metadata": {},
   "source": [
    "### Gerando vetor de rótulos no formato one-hot "
   ]
  },
  {
   "cell_type": "code",
   "execution_count": 7,
   "metadata": {
    "collapsed": false
   },
   "outputs": [
    {
     "name": "stdout",
     "output_type": "stream",
     "text": [
      "Y[:5]:\n",
      "[0 0 0 0 0]\n",
      "Y_oh[:5]=\n",
      "[[ 1.  0.  0.]\n",
      " [ 1.  0.  0.]\n",
      " [ 1.  0.  0.]\n",
      " [ 1.  0.  0.]\n",
      " [ 1.  0.  0.]]\n",
      "Y[-5:]:\n",
      "[2 2 2 2 2]\n",
      "Y_oh[-5:]=\n",
      "[[ 0.  0.  1.]\n",
      " [ 0.  0.  1.]\n",
      " [ 0.  0.  1.]\n",
      " [ 0.  0.  1.]\n",
      " [ 0.  0.  1.]]\n"
     ]
    }
   ],
   "source": [
    "Y_oh = oneHotIt(Y,3)\n",
    "# Mostrando os primeiros 5 destes valores\n",
    "print 'Y[:5]:\\n', Y[:5]\n",
    "print 'Y_oh[:5]=\\n',Y_oh[:5]\n",
    "print 'Y[-5:]:\\n', Y[-5:]\n",
    "print 'Y_oh[-5:]=\\n',Y_oh[-5:]"
   ]
  },
  {
   "cell_type": "markdown",
   "metadata": {},
   "source": [
    "## Colocando a coluna 0 em X com 1s como o 'bias'\n",
    "\n",
    "Conforme visto no exercício da Regressão Linear, a equação linear de y em função de x0, x1, x_k tem um fator independente de x, denominado bias. Inserindo-se a coluna 0 de X com 1, é equivalente a definir o w0 como bias."
   ]
  },
  {
   "cell_type": "code",
   "execution_count": 8,
   "metadata": {
    "collapsed": false
   },
   "outputs": [
    {
     "name": "stdout",
     "output_type": "stream",
     "text": [
      "X_bias[:5]=\n",
      "[[ 1.          0.22222222  0.06779661]\n",
      " [ 1.          0.16666667  0.06779661]\n",
      " [ 1.          0.11111111  0.05084746]\n",
      " [ 1.          0.08333333  0.08474576]\n",
      " [ 1.          0.19444444  0.06779661]]\n"
     ]
    }
   ],
   "source": [
    "X_bias = np.hstack([np.ones((150,1)),X_c]) # incluído X00 como 1 para gerar bias no W\n",
    "print 'X_bias[:5]=\\n',X_bias[:5]"
   ]
  },
  {
   "cell_type": "markdown",
   "metadata": {},
   "source": [
    "## Função `softmax`\n",
    "\n",
    "A funcão Softmax já foi vista antes:\n",
    "Revisando, a implementação matricial usando o NumPy é baseado na equação matricial, repetida aqui:\n",
    "\n",
    "$$ Softmax(\\boldsymbol{Z}) = \\frac{e^{\\boldsymbol{Z}}}{\\sum_{j=0}^{k-1}e^{z_{i,j}}} $$\n"
   ]
  },
  {
   "cell_type": "code",
   "execution_count": 9,
   "metadata": {
    "collapsed": true
   },
   "outputs": [],
   "source": [
    "def softmax(Z):\n",
    "    # computes softmax for all samples, normalize among classes (columns)\n",
    "    # input Z: scores; shape: samples rows x classes columns\n",
    "    # output S: same shape of input\n",
    "    EZ = np.exp(Z)\n",
    "    S = EZ / EZ.sum(axis=1,keepdims=True) # normaliza nas classes - colunas\n",
    "    return S"
   ]
  },
  {
   "cell_type": "markdown",
   "metadata": {},
   "source": [
    "## Esquema genérico do classificar supervisionado - treinamento e predição\n",
    "\n",
    "A figura a seguir ilustra o diagrama do classificador supervisionado multiclasse utilizando regressão logística e softmax.\n",
    "\n",
    "Podemos identificar os blocos responsáveis pelo treinamento do classificador:\n",
    "* $\\boldsymbol{(Y,X)}$ são os dados rotulados\n",
    "* $\\boldsymbol{W}$, são os parâmetros a serem treinados\n",
    "* Softmax é o que converte os scores de $\\boldsymbol{XW}$ para probabilidades, gerando o $\\hat{Y_{OH}}$\n",
    "* O.H. converte o rótulo original em \"one-hot\"\n",
    "* $J$ é a função perda que compara $ Y_{OH}$ e $\\hat{Y_{OH}}$ a ser minimizada\n",
    "* $\\Delta_WJ$ é o gradiente que será utilizado para atualizar o $\\boldsymbol{W}$ pelo método do gradiente descendente.\n",
    "\n",
    "Os blocos responsáveis pela predição, uma vez que $\\boldsymbol{W}$ já seja treinado:\n",
    "* Softmax(XW) para calcular as probabilidades\n",
    "* `Argmax` para escolher a classe de maior probabilidade"
   ]
  },
  {
   "cell_type": "markdown",
   "metadata": {
    "collapsed": false
   },
   "source": [
    "![](../figures/regressaologistica_fluxo.jpg)\n"
   ]
  },
  {
   "cell_type": "markdown",
   "metadata": {},
   "source": [
    "## J: Função Perda pela Entropia Cruzada\n",
    "\n",
    "A função a ser minimizada é a função $J$ de perda, que é baseada na Entropia Cruzada (*Cross Entropy*). Dado um conjunto de **amostras anotadas**, isto é, amostras $\\boldsymbol{X}$ com\n",
    "classe $\\boldsymbol{Y}$, encontrar os pesos $\\boldsymbol{W}$ que minimizam $J$:\n",
    "\n",
    "$$ J_{\\boldsymbol{X,Y}_{TRUE}}(\\boldsymbol{W}) = -\\frac{1}{n} \\sum \\boldsymbol{Y}_{TRUE} \\odot \\log{\\boldsymbol{S}(\\boldsymbol{XW})}$$\n",
    "onde $\\odot$ é multiplicação ponto-a-ponto de matrizes.\n",
    "\n",
    "### Minimização pelo gradiente descendente\n",
    "\n",
    "A minimização é feita através do método de gradiente descendente. O gradiente de $J$ é dado por:\n",
    "\n",
    "$$ \\boldsymbol{\\Delta J(W)} = - \\frac{1}{n} \\boldsymbol{X}^T (\\boldsymbol{Y}_{TRUE} - \\boldsymbol{S(XW)}) $$ \n",
    "\n",
    "Os pesos são então ajustados em cada *batch* pela equação onde $\\eta$ é denominado de\n",
    "taxa de aprendizagem: *learning rate*:\n",
    "\n",
    "$$ \\boldsymbol{W} = \\boldsymbol{W} - \\eta \\boldsymbol{\\Delta J(W)} $$ \n",
    "\n",
    "A cada iteração no programa de minimização abaixo, os pesos são ajustados aplicando-se o\n",
    "gradiente descendente utilizando todo o conjunto de treinamento. Este esquema é denominado\n",
    "de \"batch gradient descent\".\n",
    "\n",
    "No programa a seguir, o $J$ é implementado pela variável `loss` e o gradiente $\\Delta J$ \n",
    "é implementado pela variável `Grad`."
   ]
  },
  {
   "cell_type": "markdown",
   "metadata": {},
   "source": [
    "### Este é o laço principal da Regressão Logística por Softmax\n",
    "\n",
    "Os pesos são inicializados em zero, sem fator de regularização.\n",
    "Em cada iteração, a função a ser minimizada é calculada e os pesos são ajustados\n",
    "pelo técnica de gradiente descendente."
   ]
  },
  {
   "cell_type": "code",
   "execution_count": 10,
   "metadata": {
    "collapsed": false
   },
   "outputs": [
    {
     "name": "stdout",
     "output_type": "stream",
     "text": [
      "final W:\n",
      "[[  7.00966877   1.62753812  -8.63720689]\n",
      " [ -3.02197327   1.76353      1.25844327]\n",
      " [-14.71228144  -0.67161669  15.38389814]]\n",
      "Final loss: 0.206986527354\n"
     ]
    }
   ],
   "source": [
    "n = X_bias.shape[0] # number of training examples\n",
    "m = X_bias.shape[1] # number of attributes (features + 1(bias))\n",
    "k = 3          # number of classes\n",
    "W = np.zeros([m,k]) # n. de linhas é igual a número de atributos (features, pixels)\n",
    "iterations = 10000\n",
    "learningRate = 0.15\n",
    "\n",
    "losses = []\n",
    "for i in range(iterations):\n",
    "    scores = X_bias.dot(W)\n",
    "    S = softmax(scores)\n",
    "    loss = (-1. / n) * np.sum(Y_oh * np.log(S))\n",
    "    Grad = (-1. / n) * (X_bias.T).dot(Y_oh - S) \n",
    "    W = W - (learningRate * Grad)\n",
    "    losses.append(loss)\n",
    "print 'final W:\\n',W\n",
    "print 'Final loss:',loss"
   ]
  },
  {
   "cell_type": "markdown",
   "metadata": {},
   "source": [
    "## Visualizando a minimização da Perda durante o treinamento\n",
    "\n",
    "É fundamental acompanhar o comportamento da Perda durante o treinamento, pois é difícil prever se os parâmetros do gradiente descendente estão bons."
   ]
  },
  {
   "cell_type": "code",
   "execution_count": 11,
   "metadata": {
    "collapsed": false
   },
   "outputs": [
    {
     "data": {
      "text/plain": [
       "[<matplotlib.lines.Line2D at 0x7f4ee20e55d0>]"
      ]
     },
     "execution_count": 11,
     "metadata": {},
     "output_type": "execute_result"
    },
    {
     "data": {
      "image/png": "[encoded data removed]",
      "text/plain": [
       "<matplotlib.figure.Figure at 0x7f4ee27c1b50>"
      ]
     },
     "metadata": {},
     "output_type": "display_data"
    }
   ],
   "source": [
    "plt.plot(losses)"
   ]
  },
  {
   "cell_type": "markdown",
   "metadata": {},
   "source": [
    "## Função `predict`\n",
    "\n",
    "A função predict escolhe a classe de maior probabilidade a partir do resultado do `softmax`:\n",
    "Entrada:\n",
    "- X: matriz bidimensional (n,m): n amostras e m attributes - AMOSTRAS\n",
    "- W: matriz bidimensional (m,k): m attributes e k classes - PESOS TREINADOS\n",
    "Saída:\n",
    "- Y_hat: matriz bidimensional (n,1): n amostras x 1 - CLASSE prevista\n"
   ]
  },
  {
   "cell_type": "code",
   "execution_count": 12,
   "metadata": {
    "collapsed": false
   },
   "outputs": [],
   "source": [
    "def predict(X,W):\n",
    "    S = softmax(X.dot(W))\n",
    "    # escolhe a maior probabilidade entre as classes\n",
    "    Y_hat = np.argmax(S,axis=1)\n",
    "    return Y_hat"
   ]
  },
  {
   "cell_type": "markdown",
   "metadata": {},
   "source": [
    "## Cálculo do desempenho do resultado\n",
    "\n",
    "A acurácia é o número de acertos dividido pelo número de amostras $n$.\n",
    "\n",
    "$$ Acc(Y,\\hat{Y}) = \\frac{1}{n} \\sum_{i=0}^{n-1} 1(Y_i = \\hat{Y}_i $$"
   ]
  },
  {
   "cell_type": "code",
   "execution_count": 13,
   "metadata": {
    "collapsed": false
   },
   "outputs": [
    {
     "name": "stdout",
     "output_type": "stream",
     "text": [
      "Acurácia:  0.96\n",
      "Matriz de confusão:\n"
     ]
    },
    {
     "data": {
      "text/html": [
       "<div>\n",
       "<table border=\"1\" class=\"dataframe\">\n",
       "  <thead>\n",
       "    <tr style=\"text-align: right;\">\n",
       "      <th>col_0</th>\n",
       "      <th>0</th>\n",
       "      <th>1</th>\n",
       "      <th>2</th>\n",
       "    </tr>\n",
       "    <tr>\n",
       "      <th>row_0</th>\n",
       "      <th></th>\n",
       "      <th></th>\n",
       "      <th></th>\n",
       "    </tr>\n",
       "  </thead>\n",
       "  <tbody>\n",
       "    <tr>\n",
       "      <th>0</th>\n",
       "      <td>50</td>\n",
       "      <td>0</td>\n",
       "      <td>0</td>\n",
       "    </tr>\n",
       "    <tr>\n",
       "      <th>1</th>\n",
       "      <td>0</td>\n",
       "      <td>47</td>\n",
       "      <td>3</td>\n",
       "    </tr>\n",
       "    <tr>\n",
       "      <th>2</th>\n",
       "      <td>0</td>\n",
       "      <td>3</td>\n",
       "      <td>47</td>\n",
       "    </tr>\n",
       "  </tbody>\n",
       "</table>\n",
       "</div>"
      ],
      "text/plain": [
       "col_0   0   1   2\n",
       "row_0            \n",
       "0      50   0   0\n",
       "1       0  47   3\n",
       "2       0   3  47"
      ]
     },
     "execution_count": 13,
     "metadata": {},
     "output_type": "execute_result"
    }
   ],
   "source": [
    "Y_hat = predict(X_bias,W)\n",
    "\n",
    "accuracy = np.sum(Y_hat == Y)/np.float(n)\n",
    "\n",
    "print 'Acurácia: ', accuracy\n",
    "\n",
    "print 'Matriz de confusão:'\n",
    "import pandas as pd\n",
    "pd.crosstab(predict(X_bias,W), Y)\n"
   ]
  },
  {
   "cell_type": "markdown",
   "metadata": {
    "collapsed": false
   },
   "source": [
    "## Visualizando a regiões do classificador no espaço de atributos"
   ]
  },
  {
   "cell_type": "code",
   "execution_count": 14,
   "metadata": {
    "collapsed": false
   },
   "outputs": [
    {
     "data": {
      "image/png": "[encoded data removed]",
      "text/plain": [
       "<matplotlib.figure.Figure at 0x7f4ee20511d0>"
      ]
     },
     "metadata": {},
     "output_type": "display_data"
    }
   ],
   "source": [
    "h = .02  # step size in the mesh\n",
    "folga = 0.1\n",
    "# Calcula a grade para o espaço de atributos\n",
    "\n",
    "x_min, x_max = X_c.min(axis=0) - folga, X_c.max(axis=0) + folga\n",
    "xx, yy = np.meshgrid(np.arange(x_min[0], x_max[0], h), np.arange(x_min[1], x_max[1], h))\n",
    "X_grid = np.c_[xx.ravel(), yy.ravel()]\n",
    "X_grid = np.hstack([np.ones((X_grid.shape[0],1)),X_grid]) # incluído X00 como 1 para gerar bias no W\n",
    "\n",
    "# Faz a predição para todas as amostras do espaço de atributos\n",
    "Z = predict(X_grid, W)\n",
    "\n",
    "# Mostra o resultado da predição (0, 1 ou 2) no gráfico\n",
    "Z = Z.reshape(xx.shape)\n",
    "plt.pcolormesh(xx, yy, Z, cmap=plt.cm.Paired)\n",
    "\n",
    "# Mostra os pontos das amostras de treinamento\n",
    "colors = np.array(['r','y','b'])\n",
    "plt.scatter(X_bias[:, 1], X_bias[:, 2], c=colors[Y], edgecolors='k', cmap=plt.cm.Paired)\n",
    "plt.xlabel('Sepal length')\n",
    "plt.ylabel('Sepal width')\n",
    "plt.show()"
   ]
  },
  {
   "cell_type": "markdown",
   "metadata": {
    "collapsed": true
   },
   "source": [
    "## Atividades\n",
    "\n",
    "1. O próximo notebook é similar a este, porém com a visualização simultânea do gráfico da perda e o gráfico das fronteiras de decisão. Faça as atividades neste próximo notebook e utilize este para entender os diversos passos do programa, pois aqui o notebook está bastante explicado."
   ]
  }
 ],
 "metadata": {
  "anaconda-cloud": {},
  "kernelspec": {
   "display_name": "Python [Root]",
   "language": "python",
   "name": "Python [Root]"
  },
  "language_info": {
   "codemirror_mode": {
    "name": "ipython",
    "version": 2
   },
   "file_extension": ".py",
   "mimetype": "text/x-python",
   "name": "python",
   "nbconvert_exporter": "python",
   "pygments_lexer": "ipython2",
   "version": "2.7.12"
  }
 },
 "nbformat": 4,
 "nbformat_minor": 0
}
