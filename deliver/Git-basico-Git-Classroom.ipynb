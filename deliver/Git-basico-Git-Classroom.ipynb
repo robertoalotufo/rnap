{
 "cells": [
  {
   "cell_type": "markdown",
   "metadata": {},
   "source": [
    "---\n",
    "# Git\n",
    "\n",
    "---\n",
    "\n",
    "Guia inicial: https://guides.github.com/activities/hello-world/"
   ]
  },
  {
   "cell_type": "markdown",
   "metadata": {},
   "source": [
    "O git é uma ferramenta para armazenagem de código com o propósito de facilitar a colaboração e realizar o controle de versão.\n",
    "\n",
    "O curso será desenvolvido utilizando o github e github classroom. Para as pessoas que não possuam conta no github, é necessário criar uma conta no github. Por favor, acesse o [GitHub](https://github.com/) e crie a sua conta."
   ]
  },
  {
   "cell_type": "markdown",
   "metadata": {},
   "source": [
    "---\n",
    "## Controle de versão \n",
    "\n",
    "---\n",
    "\n",
    "Tutorial:https://www.atlassian.com/git/tutorials/comparing-workflows"
   ]
  },
  {
   "cell_type": "markdown",
   "metadata": {},
   "source": [
    "O controle de versão registra as mudanças feitas em um arquivo, ou vários arquivos, informando as alterações ocorridas durante um período de tempo. Esta ferramenta é importante em desenvolvimento de código, uma vez que o controle armazena as versões parciais do código tornando possível recuperar uma versão sem a implementação de uma feature ou uma anterior a erros.\n",
    "\n",
    "O controle também é muito útil em trabalho cooperativo. Em um grupo de desenvolvimento, todos os desenvolvedores criam cópias pessoais do projeto e trabalham em suas áreas pessoais. Ao terminar, ou em etapas determinadas, o código é compartilhado com os demais e a ferramenta auxilia a verificar conflitos nas novas versões. \n",
    "\n",
    "Estas diversas cópias do arquivo são armazenadas em repositórios pessoais. A versão inicial ou principal do arquivo é o repositório master. "
   ]
  },
  {
   "cell_type": "markdown",
   "metadata": {},
   "source": [
    "## Controle de versão no Git"
   ]
  },
  {
   "cell_type": "markdown",
   "metadata": {},
   "source": [
    "O GitHub é uma ferramenta muito utilizada para software livre. O usuário pode utilizar seu repositório no modo aberto ou privado. \n",
    "\n",
    "Quando no modo aberto qualquer usuário do Git pode copiar o repositório, ou projeto, para utilizá-lo. Quando se tem o interesse de fazer alterações cria-se um novo repositório na área do usuário que irá fazer as alterações que não serão incorporadas automaticamente pelo repositório principal. Esta ação é chamada de fork.\n",
    "\n"
   ]
  },
  {
   "cell_type": "markdown",
   "metadata": {},
   "source": [
    "Para criar uma cópia do arquivo principal usa-se os comandos:\n",
    "\n",
    "* **`fetch`**    seleciona a origem\n",
    "* **`branch`**   cria o nome do branch e define se quer manter os colaboradores atualizados\n",
    "* **`checkout`** cria o branch para escrita\n",
    "* **`pull`**     copia os arquivos da origem no novo branch\n",
    "\n",
    "\n",
    "O comando **`clone`** cria a cópia a partir da origem escolhida, faz o checkout e copia os dados do repositório. Este comando substitui todos acima e pela simplicidade é muito usado.\n"
   ]
  },
  {
   "cell_type": "markdown",
   "metadata": {},
   "source": [
    "Após implementar e testar as alterações necessárias pode-se substituir o código do master com o novo. Para isso temos o comando `push`. Deve-se ter atenção para escrever apenas o arquivo desejado, verificando primeiro quais arquivos pessoais diferem dos arquivos no master. Mas quando se está trabalhando em colaboração \n",
    "é necessário verificar se algum arquivo foi alterado e quais os arquivos \n",
    "\n",
    "* **`status`** mostra as diferenças entre os arquivos do repositório pessoal e do master\n",
    "* **`add <file>`** informa o arquivo que deseja escrever no master\n",
    "* **`commit -m \"comentário\"`** adiciona o arquivo ou arquivos para atualização e adiciona o comentário explicando o motivo da atualização.\n",
    "* **`stash`** ou **`checkout <file>`** descarta os arquivos pessoais diferentes do master mas que não serão atualizados\n",
    "* **`pull`** copia os arquivos do master para a area pessoal. Garante-se assim que os arquivos estão sincronizados.\n",
    "* **`push`** escreve o arquivo desejado no master"
   ]
  },
  {
   "cell_type": "markdown",
   "metadata": {},
   "source": [
    "## Configurando username do github no jupyter\n",
    "\n",
    "Aqui damos o passo a passo:\n",
    "\n",
    "* Na página inicial do jupyter clique em *New* e selecione a opção *Terminal*. Isso abrirá um terminal para você."
   ]
  },
  {
   "cell_type": "markdown",
   "metadata": {},
   "source": [
    "<img src=\"../figures/jupyter_new_terminal.png\" width=\"700\">"
   ]
  },
  {
   "cell_type": "markdown",
   "metadata": {},
   "source": [
    "* No terminal digite **bash**, pois isso irá habilitar a opção de auto-completar ao clicar na tecla *Tab*.\n",
    "\n",
    "* Caso o github não esteja instalado, digite no terminal: **sudo apt-get install git**\n",
    "\n",
    "* Em seguia, digite: **git config --global user.name \"user_name\"**. No lugar de \"user_name\" ponha o seu nome de usuário do github.\n",
    "\n",
    "* Digite no terminal: **git config --global user.email \"email_id\"**, colocando o seu email cadastrado no github no lugar de \"email_id\".\n",
    "\n",
    "O github está configurado."
   ]
  },
  {
   "cell_type": "markdown",
   "metadata": {},
   "source": [
    "# Git Classroom\n",
    "\n",
    "O curso será desenvolvido utilizando o github classroom. Uma plataforma que permite que cada aluno tenha uma copia do repositótio do curso e possa fazer as atividades, de forma que os tutores possam acompanhar o desenvolvimento delas."
   ]
  },
  {
   "cell_type": "markdown",
   "metadata": {},
   "source": [
    "## Fazendo suas atividades no Github Classroom\n",
    "\n",
    "* Você irá receber um link como esse: https://classroom.github.com/assignment-invitations/2f185395a45b05448d338abc819bac15\n",
    "\n",
    "* O home do jupyter está configurado para trabalhar no diretório:\n",
    "* **``/opt/projects``**\n",
    "\n",
    "\n",
    "* No terminal do jupyter faça a cópia do repositório através do seguinte comando:\n",
    "\n",
    "**git clone https://github.com/unicamp-rnpi/notebooks-(username).git**\n",
    "\n",
    "Você acabou de baixar o repositório da sua atividade. O repositório é individual para cada aluno, apenas o próprio aluno e pessoas com status de \"admin\" podem editá-lo. Abra os notebooks no jupyter, edite-os e faça as suas atividades. Caso, queira compartilhar os seus resultados com a classe do curso é necessário realizar uma sequência de passos.\n",
    "\n",
    "\n",
    "* Digite no terminal **git status**. Para ver os arquivos que você modificou, criou e já foram adicionados ao github (veja o exemplo abaixo).\n",
    "\n",
    "<img src=\"../figures/git_status.png\" width=\"700\">\n",
    "\n",
    "* Para os arquivos que você modificou e não quer subir para o repositório, você deve digitar no terminal:\n",
    "**git checkout *path_arquivo1* *path_arquivo2* **\n",
    "\n",
    "* Para os arquivos que você modificou e/ou criou e quer subir para o github é necessário digitar a seguinte sequência de comandos:\n",
    "\n",
    "**git add *path_arquivo1* *path_arquivo2* **\n",
    "\n",
    "**git commit -m \"digite uma mensagem\" **\n",
    "\n",
    "**git push origin master**\n",
    "\n",
    "Caso você receba uma mensagem de erro. É necessário atualizar a cópia do seu repositório com o comando **git pull** e repetir os comandos digitados anteriormente. Essa mensagem de erro não deve ocorrer, visto que o repositório é individual por aluno. Caso o repositório de atividades seja atualizado, é necessário atualizaro repositótio local fazendo:\n",
    "\n",
    "* **git pull https://github.com/unicamp-rnpi/rnpi-preparacao.git**"
   ]
  },
  {
   "cell_type": "markdown",
   "metadata": {},
   "source": [
    "Os comandos de sincronismo pedem o usuário e senha do github em toda execução. Para evitar digitar a senha é necessário cadastrar uma chave SSH no git. "
   ]
  },
  {
   "cell_type": "markdown",
   "metadata": {},
   "source": [
    "---\n",
    "## Criação de uma chave SSH  (opcional)\n",
    "\n",
    "---\n",
    "\n",
    "Tutorial: https://help.github.com/articles/generating-a-new-ssh-key-and-adding-it-to-the-ssh-agent/"
   ]
  },
  {
   "cell_type": "markdown",
   "metadata": {},
   "source": [
    "Abrir um terminal no jupyter;\n",
    "* em **New** -> **Terminal**\n",
    "\n",
    "    \n",
    "Crie uma chave ssh com seu cadastro no github:\n",
    "* **``ssh-keygen -t rsa -b 4096 -C \"your_email@example.com\"``**\n",
    "\n",
    "    * *``Generating public/private rsa key pair.``*\n",
    "\n",
    "escolha um diretório para salvar a chave ou apenas enter:\n",
    "* *``Enter a file in which to save the key (/root/.ssh/id_rsa): [Press enter]``*\n",
    "\n",
    "escolha uma frase segura:\n",
    "* *``Enter passphrase (empty for no passphrase): [Type a passphrase]``*\n",
    "* *``Enter same passphrase again: [Type passphrase again]``*"
   ]
  },
  {
   "cell_type": "markdown",
   "metadata": {},
   "source": [
    "Foram geradas duas chaves, uma que será utilizada na máquina em que foi gerada e outra pública que será usada no github"
   ]
  },
  {
   "cell_type": "markdown",
   "metadata": {},
   "source": [
    "## Adicionar a chave SSH no  ssh-agent\n",
    "\n"
   ]
  },
  {
   "cell_type": "markdown",
   "metadata": {},
   "source": [
    "Inicie o ssh-agent\n",
    "* **``eval \"$(ssh-agent -s)\"``** \n",
    "\n",
    "\n",
    "Adicione a chave ssh armazenada no diretório que voce escolheu:\n",
    "* **``ssh-add /root/.ssh/id_rsa``**"
   ]
  },
  {
   "cell_type": "markdown",
   "metadata": {},
   "source": [
    "## Adicionar a chave SSH no Git \n",
    "\n",
    "Tutorial: https://help.github.com/articles/adding-a-new-ssh-key-to-your-github-account/"
   ]
  },
  {
   "cell_type": "markdown",
   "metadata": {},
   "source": [
    "Nesta etapa devemos copiar para o github a chave pública criada. Para isso precisamos abrir o arquivo id_rsa.pub e copiar o texto. Isto pode ser feito usando o comando `more` no terminal."
   ]
  },
  {
   "cell_type": "markdown",
   "metadata": {},
   "source": [
    "* Acessar: https://github.com/settings/keys\n",
    "* Selecionar **New SSH Key** \n",
    "* Escolher título para a chave \n",
    "* Colar a chave copiada \n",
    "* Selecionar **Add SSH Key**\n"
   ]
  }
 ],
 "metadata": {
  "anaconda-cloud": {},
  "kernelspec": {
   "display_name": "Python 2",
   "language": "python",
   "name": "python2"
  },
  "language_info": {
   "codemirror_mode": {
    "name": "ipython",
    "version": 2
   },
   "file_extension": ".py",
   "mimetype": "text/x-python",
   "name": "python",
   "nbconvert_exporter": "python",
   "pygments_lexer": "ipython2",
   "version": "2.7.6"
  }
 },
 "nbformat": 4,
 "nbformat_minor": 0
}
