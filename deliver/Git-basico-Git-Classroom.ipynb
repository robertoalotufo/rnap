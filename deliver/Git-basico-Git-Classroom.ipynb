{
 "cells": [
  {
   "cell_type": "markdown",
   "metadata": {},
   "source": [
    "# Git e Github\n",
    "\n",
    "Guia inicial: https://guides.github.com/activities/hello-world/"
   ]
  },
  {
   "cell_type": "markdown",
   "metadata": {},
   "source": [
    "O git é uma ferramenta para armazenagem de código com o propósito de facilitar a colaboração e realizar o controle de versão.\n",
    "\n",
    "O curso será desenvolvido utilizando o github e github classroom. Para as pessoas que não possuam conta no github, é necessário criar uma conta no github. Por favor, acesse o [GitHub](https://github.com/) e crie a sua conta."
   ]
  },
  {
   "cell_type": "markdown",
   "metadata": {},
   "source": [
    "---\n",
    "## Controle de versão \n",
    "\n",
    "---\n",
    "\n",
    "Tutorial:https://www.atlassian.com/git/tutorials/comparing-workflows"
   ]
  },
  {
   "cell_type": "markdown",
   "metadata": {},
   "source": [
    "O controle de versão registra as mudanças feitas em um arquivo, ou vários arquivos, informando as alterações ocorridas durante um período de tempo. Esta ferramenta é importante em desenvolvimento de código, uma vez que o controle armazena as versões parciais do código tornando possível recuperar uma versão sem a implementação de uma feature ou uma anterior a erros.\n",
    "\n",
    "O controle também é muito útil em trabalho cooperativo. Em um grupo de desenvolvimento, todos os desenvolvedores criam cópias pessoais do projeto e trabalham em suas áreas pessoais. Ao terminar, ou em etapas determinadas, o código é compartilhado com os demais e a ferramenta auxilia a verificar conflitos nas novas versões. \n",
    "\n",
    "Estas diversas cópias do arquivo são armazenadas em repositórios pessoais. A versão inicial ou principal do arquivo é o repositório master que no nosso caso estará no Github."
   ]
  },
  {
   "cell_type": "markdown",
   "metadata": {},
   "source": [
    "## Controle de versão no Git"
   ]
  },
  {
   "cell_type": "markdown",
   "metadata": {},
   "source": [
    "O GitHub é uma ferramenta muito utilizada para desenvolvimento de software. O usuário pode utilizar seu repositório no modo aberto ou privado. \n",
    "\n",
    "Quando no modo aberto qualquer usuário do Github pode copiar o repositório, ou projeto, para utilizá-lo. Quando se tem o interesse de fazer alterações cria-se um novo repositório na área do usuário que irá fazer as alterações que não serão incorporadas automaticamente pelo repositório principal. Esta ação é chamada de fork.\n",
    "\n"
   ]
  },
  {
   "cell_type": "markdown",
   "metadata": {},
   "source": [
    "Para criar uma cópia do repositório do Github no seus arquivos locais, usa-se o comando:\n",
    "\n",
    "- **`git clone`**: cria a cópia a partir do respositório do Github escolhido.\n",
    "\n",
    "Lembre-se que este comando cria um novo repositório no seu computador local. É possível trabalhar neste repositório fazendo atualização (commits). A atualização entre o repositório local e o repositório do Github se dará com os comandos **git push** e **git pull**. Todos os demais comandos do git são para gerenciar o repositório local.\n"
   ]
  },
  {
   "cell_type": "markdown",
   "metadata": {},
   "source": [
    "Após implementar e testar as alterações no seus arquivos locais, é necessário atualizar o seu repositótio local, através da seguinte sequência sugerida:\n",
    "\n",
    "* **`git status`** mostra as diferenças entre seus arquivos e o repositório local\n",
    "* **`git add <file>`** informa o arquivo que deseja atualizar no repositório local\n",
    "* **`git commit -m \"comentário\"`** adiciona os arquivos registrados pelo add no repositório local \n",
    "* **`git checkout <file>`** descarta os arquivos modificados, atualiza com os arquivos do repositório local\n",
    "\n",
    "Após o **git commit** o seu repositório local está em uma situação consistente. Neste momento podemos fazer um **git pull** para que o repositório local seja atualizado ao repositório do Github.\n",
    "\n",
    "Entretanto, é aconselhável que antes do **git push**, faça um **git pull** para que o seu repositório local seja atualizado com as modificações que porventura tenham sido feitas no Github.\n",
    "\n",
    "Lembrando que apenas os comando **git pull** e **git push** interagem com o Github. Todos os outros comandos operam no repositório local."
   ]
  },
  {
   "cell_type": "markdown",
   "metadata": {},
   "source": [
    "## Configurando username do github no jupyter\n",
    "\n",
    "Aqui damos o passo a passo:\n",
    "\n",
    "* Na página inicial do jupyter clique em *New* e selecione a opção *Terminal*. Isso abrirá um terminal para você."
   ]
  },
  {
   "cell_type": "markdown",
   "metadata": {},
   "source": [
    "<img src=\"../figures/jupyter_new_terminal.png\" width=\"700\">"
   ]
  },
  {
   "cell_type": "markdown",
   "metadata": {},
   "source": [
    "* No terminal digite **bash**, pois isso irá habilitar a opção de auto-completar ao clicar na tecla *Tab*.\n",
    "\n",
    "* Caso o **git** não esteja instalado, digite no terminal: **sudo apt-get install git**\n",
    "\n",
    "* Em seguia, digite: **git config --global user.name \"user_name\"**. No lugar de \"user_name\" ponha o seu nome de usuário do Github.\n",
    "\n",
    "* Digite no terminal: **git config --global user.email \"email_id\"**, colocando o seu email cadastrado no Github no lugar de \"email_id\".\n",
    "\n",
    "O git está configurado com seu username e email registrados o Github."
   ]
  },
  {
   "cell_type": "markdown",
   "metadata": {},
   "source": [
    "# Git Classroom\n",
    "\n",
    "O curso será desenvolvido utilizando o Github Classroom. Uma plataforma que permite que cada aluno tenha uma copia do repositótio do curso e possa fazer as atividades, de forma que os tutores possam acompanhar o desenvolvimento delas."
   ]
  },
  {
   "cell_type": "markdown",
   "metadata": {},
   "source": [
    "## Fazendo suas atividades no Github Classroom\n",
    "\n",
    "* Você irá receber um link para ser colocado no navegador. Com este link, você será requisitado a entrar com seu usuário e senha do seu Github. Uma vez autenticado, um repositório do exercício será clonado na sua área do curso. Este repositório é individual e servirá para você trabalhar e atualizar como desejar.\n",
    "\n",
    "* O home do jupyter está configurado para trabalhar no diretório:\n",
    "* **``/opt/projects``**\n",
    "\n",
    "* No terminal do jupyter faça o download do seu repositório através do seguinte comando:\n",
    "\n",
    "    * vá para o diretório: `cd /opt/projects`\n",
    "    * `git clone <link copiado para clone no Github via https>`\n",
    "\n",
    "Você acabou de baixar o repositório da sua atividade. O repositório é individual para cada aluno, apenas o próprio aluno e pessoas com status de \"admin\" podem editá-lo. Abra os notebooks no jupyter, edite-os e faça as suas atividades. Para guardar as modificações feitas, durante a classe do curso, é necessário realizar uma sequência de passos.\n",
    "\n",
    "\n",
    "* Digite no terminal **git status**. Para ver os arquivos que você modificou, criou e já foram adicionados ao github (veja o exemplo abaixo).\n",
    "\n",
    "<img src=\"../figures/git_status.png\" width=\"700\">\n",
    "\n",
    "* Para os arquivos que você modificou e/ou criou e quer subir para o github é necessário digitar a seguinte sequência de comandos:\n",
    "\n",
    "    - **git add *path_arquivo1* *path_arquivo2* **\n",
    "\n",
    "    - **git commit -m \"digite uma mensagem\" **\n",
    "\n",
    "    - **git push origin master**\n",
    "\n",
    "Caso você receba uma mensagem de erro. É necessário atualizar a cópia do seu repositório com o comando **git pull** e dar o **git push** novamente. Essa mensagem de erro não deve ocorrer, visto que o repositório é individual por aluno."
   ]
  },
  {
   "cell_type": "markdown",
   "metadata": {},
   "source": [
    "---\n",
    "## Criação de uma chave SSH  (opcional)\n",
    "\n",
    "---\n",
    "\n",
    "Tutorial: https://help.github.com/articles/generating-a-new-ssh-key-and-adding-it-to-the-ssh-agent/"
   ]
  },
  {
   "cell_type": "markdown",
   "metadata": {},
   "source": [
    "Os comandos de sincronismo **git push** e **git pull** pedem o usuário e senha do github em toda execução. Para evitar digitar a senha é necessário cadastrar uma chave SSH no git. "
   ]
  },
  {
   "cell_type": "markdown",
   "metadata": {},
   "source": [
    "Abrir um terminal no jupyter;\n",
    "* em **New** -> **Terminal**\n",
    "\n",
    "    \n",
    "Crie uma chave ssh com seu cadastro no github:\n",
    "* **``ssh-keygen -t rsa -b 4096 -C \"your_email@example.com\"``**\n",
    "\n",
    "    * *``Generating public/private rsa key pair.``*\n",
    "\n",
    "escolha um diretório para salvar a chave ou apenas enter:\n",
    "* *``Enter a file in which to save the key (/root/.ssh/id_rsa): [Press enter]``*\n",
    "\n",
    "escolha uma frase segura:\n",
    "* *``Enter passphrase (empty for no passphrase): [Type a passphrase]``*\n",
    "* *``Enter same passphrase again: [Type passphrase again]``*"
   ]
  },
  {
   "cell_type": "markdown",
   "metadata": {},
   "source": [
    "Foram geradas duas chaves, uma que será utilizada na máquina em que foi gerada e outra pública que será usada no github"
   ]
  },
  {
   "cell_type": "markdown",
   "metadata": {},
   "source": [
    "## Adicionar a chave SSH no  ssh-agent\n",
    "\n"
   ]
  },
  {
   "cell_type": "markdown",
   "metadata": {},
   "source": [
    "Inicie o ssh-agent\n",
    "* **``eval \"$(ssh-agent -s)\"``** \n",
    "\n",
    "\n",
    "Adicione a chave ssh armazenada no diretório que voce escolheu:\n",
    "* **``ssh-add /root/.ssh/id_rsa``**"
   ]
  },
  {
   "cell_type": "markdown",
   "metadata": {},
   "source": [
    "## Adicionar a chave SSH no Github\n",
    "\n",
    "Tutorial: https://help.github.com/articles/adding-a-new-ssh-key-to-your-github-account/"
   ]
  },
  {
   "cell_type": "markdown",
   "metadata": {},
   "source": [
    "Nesta etapa devemos copiar para o github a chave pública criada. Para isso precisamos abrir o arquivo id_rsa.pub e copiar o texto. Isto pode ser feito usando o comando `more` no terminal."
   ]
  },
  {
   "cell_type": "markdown",
   "metadata": {},
   "source": [
    "* Acessar: https://github.com/settings/keys\n",
    "* Selecionar **New SSH Key** \n",
    "* Escolher título para a chave \n",
    "* Colar a chave copiada \n",
    "* Selecionar **Add SSH Key**\n"
   ]
  }
 ],
 "metadata": {
  "anaconda-cloud": {},
  "kernelspec": {
   "display_name": "Python [Root]",
   "language": "python",
   "name": "Python [Root]"
  },
  "language_info": {
   "codemirror_mode": {
    "name": "ipython",
    "version": 2
   },
   "file_extension": ".py",
   "mimetype": "text/x-python",
   "name": "python",
   "nbconvert_exporter": "python",
   "pygments_lexer": "ipython2",
   "version": "2.7.12"
  }
 },
 "nbformat": 4,
 "nbformat_minor": 0
}
