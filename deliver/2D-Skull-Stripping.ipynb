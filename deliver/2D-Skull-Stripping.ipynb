{
 "cells": [
  {
   "cell_type": "markdown",
   "metadata": {},
   "source": [
    "# CNN U-NET: Skull-Stripping em Imagens 2D\n",
    "\n",
    "From: https://github.com/jocicmarko/ultrasound-nerve-segmentation\n",
    "\n",
    "Exemplo de Skull-Stripping (Segmentação do cérebro) em imagens 2D de ressonância magnética utilizando a implementação da CNN U-NET do link acima. Os resultados iniciais desta implementação foram submetidos ao evento BRAINN 2017.\n",
    "\n",
    "Neste exemplo utilizou-se as imagens do dataset CC-349, em que 250 imagens foram utilizadas para treino e como efeito ilustrativo, o teste foi realizado em 4 imagens as quais são apresentadas no fim do notebook.\n",
    "         \n",
    "CC-349 dataset: http://miclab.fee.unicamp.br/calgary-campinas-359 \n",
    "\n",
    "Artigo U-NET: https://arxiv.org/pdf/1505.04597.pdf\n",
    "\n",
    "Arquitetura da U-NET:\n",
    "![](http://lmb.informatik.uni-freiburg.de/people/ronneber/u-net/u-net-architecture.png)\n",
    "\n",
    "**Informações das pastas**:\n",
    "\n",
    "```\n",
    "src/\n",
    "    train_mid_samples/ (imagens do treino em 2D da fatia central sagital) - Já criada. \n",
    "    train_patches/ (patches para o treino) - Código irá criar!\n",
    "    test_mid_samples/ (imagens do test em 2D da fatia central sagital) - Já criada.\n",
    "    test_patches/ (patches para o teste) Código irá criar!\n",
    "    test_prep_data/ (dados de teste pré-processados para predição) - Código irá criar! \n",
    "    pred_data/ (resultados das predições da CNN) - Código irá criar!\n",
    "    pred_image/ (imagens reconstruídas a partir das predições da CNN) - Código irá criar!\n",
    "\n",
    "```\n"
   ]
  },
  {
   "cell_type": "markdown",
   "metadata": {},
   "source": [
    "# Módulos a serem utilizados"
   ]
  },
  {
   "cell_type": "code",
   "execution_count": 1,
   "metadata": {
    "collapsed": false
   },
   "outputs": [
    {
     "name": "stderr",
     "output_type": "stream",
     "text": [
      "Using gpu device 0: Tesla K40c (CNMeM is disabled, cuDNN Version is too old. Update to v5, was 2000.)\n"
     ]
    }
   ],
   "source": [
    "%matplotlib inline\n",
    "import numpy as np\n",
    "import os\n",
    "os.environ['THEANO_FLAGS'] = \"device=gpu0,floatX=float32\"    \n",
    "import theano"
   ]
  },
  {
   "cell_type": "code",
   "execution_count": 2,
   "metadata": {
    "collapsed": false
   },
   "outputs": [
    {
     "name": "stderr",
     "output_type": "stream",
     "text": [
      "Using Theano backend.\n"
     ]
    }
   ],
   "source": [
    "# Keras\n",
    "from keras.models import Model\n",
    "from keras.layers import Input, merge, Convolution2D, MaxPooling2D, UpSampling2D\n",
    "from keras.optimizers import Adam\n",
    "from keras.callbacks import ModelCheckpoint, LearningRateScheduler\n",
    "from keras import backend as K\n"
   ]
  },
  {
   "cell_type": "markdown",
   "metadata": {},
   "source": [
    "Biblioteca necessária para leitura de dados em ordem lexográfica."
   ]
  },
  {
   "cell_type": "code",
   "execution_count": null,
   "metadata": {
    "collapsed": true
   },
   "outputs": [],
   "source": [
    "!pip install natsort"
   ]
  },
  {
   "cell_type": "code",
   "execution_count": 4,
   "metadata": {
    "collapsed": false
   },
   "outputs": [],
   "source": [
    "import glob\n",
    "import time\n",
    "import cv2\n",
    "import matplotlib.pylab as plt\n",
    "import sys\n",
    "sys.path.append('../src')\n",
    "from prep_ss_utils import create_data, save_2d_samples\n",
    "from prep_ss_utils import sample_2d_patches, preprocess, get_mean_std_train, read_prep_test\n",
    "from prep_ss_utils import load_train_data, reconstruct_2d_sample, save_data\n",
    "from my_keras_utilities import TrainingPlotter, load_model_and_history"
   ]
  },
  {
   "cell_type": "code",
   "execution_count": 6,
   "metadata": {
    "collapsed": false
   },
   "outputs": [],
   "source": [
    "# Diretório do notebook\n",
    "out = '/root'\n",
    "\n",
    "# Configurações da u-net\n",
    "img_rows = 64\n",
    "img_cols = 80\n",
    "smooth = 1.\n",
    "model_name = 'epoch_30_unet' #'30_epoch_unet.hdf5'\n",
    "\n",
    "# Pastas que estão ou serão criadas no diretório do notebook\n",
    "train_mid_samples = 'train_mid_samples'\n",
    "train_patches = 'train_patches'\n",
    "test_mid_samples = 'test_mid_samples'\n",
    "test_patches = 'test_patches'\n",
    "test_prep_data = 'test_prep_data'\n",
    "pred_image = 'pred_image'\n",
    "pred_data = 'pred_data'\n",
    "\n",
    "# Função para criar novo diretório\n",
    "def create_new_dir(dstDir):\n",
    "    \n",
    "    if not os.path.exists(dstDir):\n",
    "        os.makedirs(dstDir)"
   ]
  },
  {
   "cell_type": "markdown",
   "metadata": {},
   "source": [
    "# Pré-processamento"
   ]
  },
  {
   "cell_type": "markdown",
   "metadata": {},
   "source": [
    "## Dados de Treino"
   ]
  },
  {
   "cell_type": "code",
   "execution_count": null,
   "metadata": {
    "collapsed": false,
    "scrolled": true
   },
   "outputs": [],
   "source": [
    "if __name__ == '__main__':\n",
    "\n",
    "    start_time = time.time()\n",
    "    \n",
    "    # Treino   \n",
    "    print('-'*30)\n",
    "    print('Creating Train 2D Patches...')\n",
    "    print('-'*30)\n",
    "    srcDir = os.path.join(out,train_mid_samples)\n",
    "    dstDir = os.path.join(out,train_patches) \n",
    "    create_new_dir(dstDir)\n",
    "\n",
    "    sample_2d_patches(srcDir, dstDir, 'train')\n",
    "        \n",
    "    print('-'*30)\n",
    "    print('Creating Train Data...')\n",
    "    print('-'*30)\n",
    "    \n",
    "    imgs, imgs_mask = create_data(dstDir)\n",
    "    save_data(imgs, imgs_mask, os.path.join(out,'imgs_train.npy')\n",
    "              , os.path.join(out,'imgs_mask_train.npy'),out)\n",
    "    \n",
    "    print(\"--- %s seconds ---\" % (time.time() - start_time))"
   ]
  },
  {
   "cell_type": "markdown",
   "metadata": {},
   "source": [
    "## Dados de Teste"
   ]
  },
  {
   "cell_type": "code",
   "execution_count": null,
   "metadata": {
    "collapsed": false,
    "scrolled": true
   },
   "outputs": [],
   "source": [
    "if __name__ == '__main__':\n",
    "\n",
    "    start_time = time.time()\n",
    "\n",
    "    # Teste \n",
    "    print('-'*30)\n",
    "    print('Creating Test 2D Patches...')\n",
    "    print('-'*30)\n",
    "    srcDir = os.path.join(out,test_mid_samples)\n",
    "    dstDir = os.path.join(out,test_patches) \n",
    "    create_new_dir(dstDir)\n",
    "\n",
    "    sample_2d_patches(srcDir, dstDir, 'test') # Criando patches para 4 imagens de teste\n",
    "\n",
    "    print('-'*30)\n",
    "    print('Creating Preprocessed Test Data...')\n",
    "    print('-'*30)\n",
    "    dstDir = os.path.join(out,'test_prep_data') \n",
    "    create_new_dir(dstDir)\n",
    "    test_patches_folds = np.sort(glob.glob(os.path.join(out,test_patches +'/*')))\n",
    "    mean, std = get_mean_std_train(os.path.join(out,'imgs_train.npy')\n",
    "                                   , os.path.join(out,'imgs_mask_train.npy'))\n",
    "       \n",
    "    for fold in test_patches_folds:\n",
    "        name = fold.split('/')[-1]\n",
    "        print (\"Image:\", name)\n",
    "        print ('\\n')\n",
    "        imgs, imgs_mask = create_data(fold)\n",
    "        imgs_test = read_prep_test(imgs,mean,std)\n",
    "        np.savez_compressed(os.path.join(dstDir,name +'-prep.npz'),\n",
    "                            imgs_test = imgs_test)\n",
    "        \n",
    "    print(\"--- %s seconds ---\" % (time.time() - start_time))\n",
    "    "
   ]
  },
  {
   "cell_type": "markdown",
   "metadata": {},
   "source": [
    "# Treinamento da CNN"
   ]
  },
  {
   "cell_type": "code",
   "execution_count": 13,
   "metadata": {
    "collapsed": true
   },
   "outputs": [],
   "source": [
    "def dice_coef(y_true, y_pred):\n",
    "    \n",
    "    y_true_f = K.flatten(y_true)\n",
    "    y_pred_f = K.flatten(y_pred)\n",
    "    intersection = K.sum(y_true_f * y_pred_f)\n",
    "    return (2. * intersection + smooth) / (K.sum(y_true_f) + K.sum(y_pred_f) + smooth)\n",
    "\n",
    "\n",
    "def dice_coef_loss(y_true, y_pred):\n",
    "    \n",
    "    return -dice_coef(y_true, y_pred)\n",
    "\n",
    "\n",
    "def get_unet():\n",
    "    \n",
    "    inputs = Input((1, img_rows, img_cols))\n",
    "    conv1 = Convolution2D(32, 3, 3, activation='relu', border_mode='same')(inputs)\n",
    "    conv1 = Convolution2D(32, 3, 3, activation='relu', border_mode='same')(conv1)\n",
    "    pool1 = MaxPooling2D(pool_size=(2, 2))(conv1)\n",
    "\n",
    "    conv2 = Convolution2D(64, 3, 3, activation='relu', border_mode='same')(pool1)\n",
    "    conv2 = Convolution2D(64, 3, 3, activation='relu', border_mode='same')(conv2)\n",
    "    pool2 = MaxPooling2D(pool_size=(2, 2))(conv2)\n",
    "\n",
    "    conv3 = Convolution2D(128, 3, 3, activation='relu', border_mode='same')(pool2)\n",
    "    conv3 = Convolution2D(128, 3, 3, activation='relu', border_mode='same')(conv3)\n",
    "    pool3 = MaxPooling2D(pool_size=(2, 2))(conv3)\n",
    "\n",
    "    conv4 = Convolution2D(256, 3, 3, activation='relu', border_mode='same')(pool3)\n",
    "    conv4 = Convolution2D(256, 3, 3, activation='relu', border_mode='same')(conv4)\n",
    "    pool4 = MaxPooling2D(pool_size=(2, 2))(conv4)\n",
    "\n",
    "    conv5 = Convolution2D(512, 3, 3, activation='relu', border_mode='same')(pool4)\n",
    "    conv5 = Convolution2D(512, 3, 3, activation='relu', border_mode='same')(conv5)\n",
    "\n",
    "    up6 = merge([UpSampling2D(size=(2, 2))(conv5), conv4], mode='concat', concat_axis=1)\n",
    "    conv6 = Convolution2D(256, 3, 3, activation='relu', border_mode='same')(up6)\n",
    "    conv6 = Convolution2D(256, 3, 3, activation='relu', border_mode='same')(conv6)\n",
    "\n",
    "    up7 = merge([UpSampling2D(size=(2, 2))(conv6), conv3], mode='concat', concat_axis=1)\n",
    "    conv7 = Convolution2D(128, 3, 3, activation='relu', border_mode='same')(up7)\n",
    "    conv7 = Convolution2D(128, 3, 3, activation='relu', border_mode='same')(conv7)\n",
    "\n",
    "    up8 = merge([UpSampling2D(size=(2, 2))(conv7), conv2], mode='concat', concat_axis=1)\n",
    "    conv8 = Convolution2D(64, 3, 3, activation='relu', border_mode='same')(up8)\n",
    "    conv8 = Convolution2D(64, 3, 3, activation='relu', border_mode='same')(conv8)\n",
    "\n",
    "    up9 = merge([UpSampling2D(size=(2, 2))(conv8), conv1], mode='concat', concat_axis=1)\n",
    "    conv9 = Convolution2D(32, 3, 3, activation='relu', border_mode='same')(up9)\n",
    "    conv9 = Convolution2D(32, 3, 3, activation='relu', border_mode='same')(conv9)\n",
    "\n",
    "    conv10 = Convolution2D(1, 1, 1, activation='sigmoid')(conv9)\n",
    "\n",
    "    model = Model(input=inputs, output=conv10)\n",
    "    model.compile(optimizer=Adam(lr=1e-5), loss=dice_coef_loss, metrics=[dice_coef])\n",
    "\n",
    "    return model\n",
    "\n",
    "def run_train():\n",
    "    \n",
    "    imgs_train, imgs_mask_train = load_train_data(os.path.join(out,'imgs_train.npy')\n",
    "                                                  , os.path.join(out,'imgs_mask_train.npy'))\n",
    "\n",
    "    imgs_train = preprocess(imgs_train)\n",
    "    imgs_mask_train = preprocess(imgs_mask_train)\n",
    "\n",
    "    imgs_train = imgs_train.astype('float32')\n",
    "    mean = np.mean(imgs_train)  # média e desvio padrão para normalização dos dados\n",
    "    std = np.std(imgs_train)\n",
    "\n",
    "    imgs_train -= mean\n",
    "    imgs_train /= std\n",
    "\n",
    "    imgs_mask_train = imgs_mask_train.astype('float32')\n",
    "    imgs_mask_train[imgs_mask_train>0]=1\n",
    "    \n",
    "    # Visualização dinÂmica do treinamento\n",
    "    nepochs = 30\n",
    "    ploss = -1.0\n",
    "    \n",
    "    if not os.path.isfile(model_name + '.model'):\n",
    "        print(\"[INFO] creating model...\")\n",
    "        model = get_unet()\n",
    "        # History, checkpoint, earlystop, plot losses:\n",
    "        my_big_callback = TrainingPlotter(n=1, filepath=model_name, patience=15)\n",
    "   \n",
    "\n",
    "    else:\n",
    "        print(\"[INFO] loading model...\")\n",
    "        model, my_big_callback = load_model_and_history(model_name)\n",
    "\n",
    "    past_epochs = my_big_callback.get_nepochs()\n",
    "\n",
    "    fig = plt.figure(figsize=(15,6))\n",
    "    plt.ylim(ploss, 0.0)\n",
    "    plt.xlim(0, nepochs)\n",
    "    plt.grid(True)\n",
    "\n",
    "    print(\"[INFO] training...\")\n",
    "\n",
    "    if nepochs > 0:\n",
    "        try:\n",
    "            model.fit(imgs_train, \n",
    "                      imgs_mask_train,\n",
    "                      batch_size=50,\n",
    "                      nb_epoch=nepochs - past_epochs,\n",
    "                      verbose=0,\n",
    "                      shuffle=True,\n",
    "                      callbacks=[my_big_callback])\n",
    "\n",
    "        except KeyboardInterrupt:\n",
    "            pass"
   ]
  },
  {
   "cell_type": "code",
   "execution_count": 15,
   "metadata": {
    "collapsed": false
   },
   "outputs": [
    {
     "data": {
      "image/png": "[encoded data removed]",
      "text/plain": [
       "<matplotlib.figure.Figure at 0x7f315e755250>"
      ]
     },
     "metadata": {},
     "output_type": "display_data"
    }
   ],
   "source": [
    "if __name__ == '__main__':\n",
    "    run_train()\n",
    "    "
   ]
  },
  {
   "cell_type": "markdown",
   "metadata": {},
   "source": [
    "# Teste nas Images"
   ]
  },
  {
   "cell_type": "code",
   "execution_count": null,
   "metadata": {
    "collapsed": true
   },
   "outputs": [],
   "source": [
    "def run_predict(path, name, dstDir):\n",
    "\n",
    "    print('  Loading saved weights...')\n",
    "\n",
    "    model = get_unet()\n",
    "    model.load_weights(os.path.join(out,model_name))\n",
    "\n",
    "    print('  Load. and prepro. test data...')\n",
    "       \n",
    "    print('  Predicting masks on test data...')\n",
    "    \n",
    "    with np.load(path) as data:\n",
    "        imgs_test = data['imgs_test']\n",
    "    \n",
    "    np.save(os.path.join(dstDir, name +'-pred.npy'), model.predict(imgs_test, verbose=1))"
   ]
  },
  {
   "cell_type": "code",
   "execution_count": null,
   "metadata": {
    "collapsed": false
   },
   "outputs": [],
   "source": [
    "if __name__ == '__main__':\n",
    "    \n",
    "    start_time = time.time()\n",
    "    \n",
    "    print('-'*30)\n",
    "    print('Test predictions...')\n",
    "    print('-'*30)\n",
    "    test_imgs_names = np.sort(glob.glob(os.path.join(out,test_prep_data+'/*')))\n",
    "    dstDir = os.path.join(out,pred_data)\n",
    "    create_new_dir(dstDir)\n",
    "\n",
    "    for img in test_imgs_names:\n",
    "        name = img.split('/')[-1].split('-')[0]\n",
    "        print (\"Image:\", name)\n",
    "        run_predict(img,name,dstDir)\n",
    "\n",
    "\n",
    "    print('-'*30)\n",
    "    print('Reconstructing test predictions...')\n",
    "    print('-'*30)\n",
    "    pred_data =  np.asarray(glob.glob(os.path.join(out,pred_data+'/*')))\n",
    "    dstDir = os.path.join(out,pred_image)\n",
    "    create_new_dir(dstDir)\n",
    "    \n",
    "    for data in pred_data:\n",
    "        reconstruct_2d_sample(dstDir, data, os.path.join(out,test_mid_samples))\n",
    "    \n",
    "    print(\"--- %s seconds ---\" % (time.time() - start_time))"
   ]
  },
  {
   "cell_type": "markdown",
   "metadata": {},
   "source": [
    "# Resultados"
   ]
  },
  {
   "cell_type": "code",
   "execution_count": null,
   "metadata": {
    "collapsed": false
   },
   "outputs": [],
   "source": [
    "def plot_examples(test_image, mask_image, pred_image, name):\n",
    "    \n",
    "    plt.figure(figsize=(10, 15))\n",
    "    plt.subplot(131)\n",
    "    plt.imshow(test_image,cmap='gray')\n",
    "    plt.title('Sujeito: ' + name)\n",
    "    plt.axis('off')\n",
    "\n",
    "    plt.subplot(132)\n",
    "    plt.imshow(mask_image,cmap='gray')\n",
    "    plt.title('STAPLE')\n",
    "    plt.axis('off')\n",
    "\n",
    "    plt.subplot(133)\n",
    "    plt.imshow(pred_image,cmap='gray')\n",
    "    plt.title('U-NET')\n",
    "    plt.axis('off')\n",
    "    plt.show\n",
    "\n",
    "if __name__ == '__main__':\n",
    "    \n",
    "    pred_imgs_names = np.sort(glob.glob(os.path.join(out,pred_image+'/*')))\n",
    "\n",
    "    for img_name in pred_imgs_names:\n",
    "        \n",
    "        name = img_name.split('/')[-1].split('-')[0]\n",
    "        test_image = cv2.imread(os.path.join(out,test_mid_samples+'/' + name +'.tif')\n",
    "                                , cv2.IMREAD_GRAYSCALE)\n",
    "        mask_image = cv2.imread(os.path.join(out,test_mid_samples+'/' + name +'_staple.tif')\n",
    "                                , cv2.IMREAD_GRAYSCALE)\n",
    "        pred_image = cv2.imread(img_name, cv2.IMREAD_GRAYSCALE)\n",
    "        plot_examples(test_image.T[::-1], mask_image.T[::-1], pred_image.T[::-1], name)"
   ]
  }
 ],
 "metadata": {
  "kernelspec": {
   "display_name": "Python 2",
   "language": "python",
   "name": "python2"
  },
  "language_info": {
   "codemirror_mode": {
    "name": "ipython",
    "version": 2
   },
   "file_extension": ".py",
   "mimetype": "text/x-python",
   "name": "python",
   "nbconvert_exporter": "python",
   "pygments_lexer": "ipython2",
   "version": "2.7.6"
  }
 },
 "nbformat": 4,
 "nbformat_minor": 0
}
