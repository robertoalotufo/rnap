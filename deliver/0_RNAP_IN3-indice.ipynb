{
 "cells": [
  {
   "cell_type": "markdown",
   "metadata": {
    "heading_collapsed": true
   },
   "source": [
    "# Treinamento Redes Neurais e Aprendizado Profundo de Máquina"
   ]
  },
  {
   "cell_type": "markdown",
   "metadata": {
    "hidden": true
   },
   "source": [
    "<img src=\"../figures/capacurso.png\",width=600pt>"
   ]
  },
  {
   "cell_type": "markdown",
   "metadata": {
    "hidden": true
   },
   "source": [
    "- [Glossário](Glossario.ipynb)"
   ]
  },
  {
   "cell_type": "markdown",
   "metadata": {},
   "source": [
    "# III - Redes neurais profundas - redes convolucionais"
   ]
  },
  {
   "cell_type": "markdown",
   "metadata": {
    "heading_collapsed": true
   },
   "source": [
    "## Introdução"
   ]
  },
  {
   "cell_type": "markdown",
   "metadata": {
    "hidden": true
   },
   "source": [
    "### Convolução Keras/TensorFlow"
   ]
  },
  {
   "cell_type": "markdown",
   "metadata": {
    "hidden": true
   },
   "source": [
    "- Conceitos novos:\n",
    "- Teoria: Convolução, processamento borda, zero-padding, dimensionalidade dos arrays\n",
    "- Prática: rede convolucional no Keras, variação de número de imagens, kernels e filtros de saída\n",
    " * NB: [Convolução](Explorando-Convolucao-no-Keras-usando-TensorFlow.ipynb)"
   ]
  },
  {
   "cell_type": "markdown",
   "metadata": {
    "hidden": true
   },
   "source": [
    "### Introdução ao Keras"
   ]
  },
  {
   "cell_type": "markdown",
   "metadata": {
    "hidden": true
   },
   "source": [
    "- Conceitos novos:\n",
    "- Prática: Keras, criando o modelo, colocando pesos, retirando pesos e retirando camadas\n",
    " * NB: [Introdução ao Keras](Introducao-CNN-Keras.ipynb)"
   ]
  },
  {
   "cell_type": "markdown",
   "metadata": {
    "heading_collapsed": true
   },
   "source": [
    "## Rede Convolucional - Exemplos simples"
   ]
  },
  {
   "cell_type": "markdown",
   "metadata": {
    "hidden": true
   },
   "source": [
    "### Rede Convolucional - Visualização camadas internas - CIFAR-10"
   ]
  },
  {
   "cell_type": "markdown",
   "metadata": {
    "hidden": true
   },
   "source": [
    "- Conceitos novos:\n",
    "- Teoria: visualização das camadas internas\n",
    "- Prática: Keras - criando a rede, treinando e avaliando\n",
    " * NB: [CIFAR-10 e rede convolucional no Keras](cifar10-CNN-features.ipynb)"
   ]
  },
  {
   "cell_type": "markdown",
   "metadata": {
    "hidden": true
   },
   "source": [
    "### Rede Convolucional - MNIST reduzido"
   ]
  },
  {
   "cell_type": "markdown",
   "metadata": {
    "hidden": true
   },
   "source": [
    "- Conceitos novos:\n",
    "- Teoria: Rede convolucional LeNet\n",
    " * NB: [KerasLenetMNIST](keras-lenet-mnist.ipynb)"
   ]
  },
  {
   "cell_type": "markdown",
   "metadata": {
    "heading_collapsed": true
   },
   "source": [
    "## Rede Convolucional - Exemplos com redes prontas Image-Net"
   ]
  },
  {
   "cell_type": "markdown",
   "metadata": {
    "hidden": true
   },
   "source": [
    "### Redes ganhadoras da Image-Net"
   ]
  },
  {
   "cell_type": "markdown",
   "metadata": {
    "ExecuteTime": {
     "end_time": "2017-05-29T20:22:37.811363",
     "start_time": "2017-05-29T20:22:37.802959"
    },
    "hidden": true
   },
   "source": [
    "- [Models_VGG19](Models_VGG19.ipynb)\n",
    "- [Models_InceptionV3](Models_InceptionV3.ipynb)\n",
    "- [Models_ResNet50](Models_ResNet50.ipynb)"
   ]
  },
  {
   "cell_type": "markdown",
   "metadata": {
    "heading_collapsed": true
   },
   "source": [
    "## Otimizadores do Gradiente Descendente"
   ]
  },
  {
   "cell_type": "markdown",
   "metadata": {
    "hidden": true
   },
   "source": [
    "- Conceitos novos: \n",
    "- Teoria: Diversos otimizadores: SGD com momento, SGD com momento Nesterov, SGD com queda de fator de aprendizagem, RMSprop, Adadelta, Adam\n",
    "- Prática: Observação do desempenho de diversos otimizadores\n",
    " * NB: [Otimizadores](Keras-optimizers.ipynb)"
   ]
  },
  {
   "cell_type": "markdown",
   "metadata": {
    "heading_collapsed": true
   },
   "source": [
    "## Autocodificador Convolucional"
   ]
  },
  {
   "cell_type": "markdown",
   "metadata": {
    "hidden": true
   },
   "source": [
    "- Conceitos novos:\n",
    "- Teoria: autoencoders, autoencoders convolucionais\n",
    "- Prática: treinando autoencoders\n",
    "- NB:[Autocodificador convolucional](ConvolutionalAutoencoder.ipynb)"
   ]
  },
  {
   "cell_type": "markdown",
   "metadata": {
    "heading_collapsed": true
   },
   "source": [
    "## Rede Totalmente Convolucional"
   ]
  },
  {
   "cell_type": "markdown",
   "metadata": {
    "hidden": true
   },
   "source": [
    "- Conceitos novos:\n",
    "- Teoria: Convertendo uma rede com camadas densas para totalmente convolucionais para otimizar varredura da imagem\n",
    "- Prática: Explorando o exemplo implementado\n",
    " * NB: [Rede totalmente convolucional](fully_convolutional.ipynb)\n",
    " "
   ]
  },
  {
   "cell_type": "markdown",
   "metadata": {
    "hidden": true
   },
   "source": [
    "- Exemplo numérico de uma rede mínima\n",
    " * NB: [Rede totalmente convolucional (exemplo numérico)](fully_convolutional_numerico.ipynb)\n",
    " "
   ]
  },
  {
   "cell_type": "markdown",
   "metadata": {},
   "source": [
    "## Transferência de Conhecimento -  Aprendizado com poucos dados"
   ]
  },
  {
   "cell_type": "markdown",
   "metadata": {},
   "source": [
    "### Rede VGG-16 treinamento do zero - Aumento de Dados"
   ]
  },
  {
   "cell_type": "markdown",
   "metadata": {},
   "source": [
    "- Conceitos novos:\n",
    "- Teoria: Aprendizado com poucos dados, data augmentation, treina do zero 80%\n",
    " * NB: [Aprendizado com poucos dados I](cats-and-dogs-1.ipynb)"
   ]
  },
  {
   "cell_type": "markdown",
   "metadata": {},
   "source": [
    "### Rede VGG-16 já treinada - Extratora de atributos"
   ]
  },
  {
   "cell_type": "markdown",
   "metadata": {},
   "source": [
    " - trasfer learning off-the-shelf feature extraction com VGG aprendida 90%\n",
    " * NB: [Aprendizado com poucos dados II](cats-and-dogs-2.ipynb)"
   ]
  },
  {
   "cell_type": "markdown",
   "metadata": {},
   "source": [
    "### Rede VGG-16 - Sintonia Fina"
   ]
  },
  {
   "cell_type": "markdown",
   "metadata": {},
   "source": [
    " - transfer learning,fine tuning,\n",
    " * NB: [Aprendizado com poucos dados III](cats-and-dogs-3.ipynb)\n",
    " \n",
    " * NB: [Exercício](Exercicio.ipynb)\n",
    " "
   ]
  },
  {
   "cell_type": "markdown",
   "metadata": {},
   "source": [
    "# Documentação"
   ]
  },
  {
   "cell_type": "markdown",
   "metadata": {},
   "source": [
    "- [Jupyter Notebook](http://jupyter-notebook.readthedocs.io/en/latest/notebook.html)\n",
    "- [NumPy](https://docs.scipy.org/doc/)\n",
    "- [Matplotlib](https://matplotlib.org/contents.html)\n",
    "- [Keras](https://keras.io/)"
   ]
  },
  {
   "cell_type": "code",
   "execution_count": 1,
   "metadata": {
    "ExecuteTime": {
     "end_time": "2017-05-29T20:28:33.062836",
     "start_time": "2017-05-29T20:28:32.699102"
    },
    "collapsed": true
   },
   "outputs": [],
   "source": [
    "%cp Models_InceptionV3.ipynb ../../rnap_in3/deliver/\n",
    "%cp Models_ResNet50.ipynb ../../rnap_in3/deliver/ \n",
    "%cp Models_VGG19.ipynb ../../rnap_in3/deliver/ "
   ]
  },
  {
   "cell_type": "code",
   "execution_count": null,
   "metadata": {
    "collapsed": true
   },
   "outputs": [],
   "source": []
  }
 ],
 "metadata": {
  "anaconda-cloud": {},
  "kernelspec": {
   "display_name": "Python 3",
   "language": "python",
   "name": "python3"
  },
  "language_info": {
   "codemirror_mode": {
    "name": "ipython",
    "version": 3
   },
   "file_extension": ".py",
   "mimetype": "text/x-python",
   "name": "python",
   "nbconvert_exporter": "python",
   "pygments_lexer": "ipython3",
   "version": "3.6.0"
  },
  "toc": {
   "colors": {
    "hover_highlight": "#DAA520",
    "running_highlight": "#FF0000",
    "selected_highlight": "#FFD700"
   },
   "moveMenuLeft": true,
   "nav_menu": {
    "height": "512px",
    "width": "252px"
   },
   "navigate_menu": true,
   "number_sections": true,
   "sideBar": true,
   "threshold": 4,
   "toc_cell": false,
   "toc_section_display": "block",
   "toc_window_display": false
  }
 },
 "nbformat": 4,
 "nbformat_minor": 0
}
