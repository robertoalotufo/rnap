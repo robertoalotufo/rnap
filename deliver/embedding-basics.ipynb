{
 "cells": [
  {
   "cell_type": "markdown",
   "metadata": {
    "heading_collapsed": true
   },
   "source": [
    "# Embedding - Atributos Latentes - Entradas categóricas"
   ]
  },
  {
   "cell_type": "markdown",
   "metadata": {
    "hidden": true
   },
   "source": [
    "Este notebook apresenta o conceito de embedding e como usá-lo no Keras, através dos seguintes exemplos numérico:\n",
    "- Rede com entrada categórica (one-hot) e camada densa\n",
    "- Embedding como forma eficiente de tratar entrada categórica\n",
    "- Aplicação de um camada convolução unidimensional numa sequência categórica (com embedding)"
   ]
  },
  {
   "cell_type": "markdown",
   "metadata": {
    "hidden": true
   },
   "source": [
    "## Importação"
   ]
  },
  {
   "cell_type": "code",
   "execution_count": 1,
   "metadata": {
    "collapsed": false,
    "deletable": true,
    "editable": true,
    "hidden": true
   },
   "outputs": [
    {
     "name": "stderr",
     "output_type": "stream",
     "text": [
      "Using TensorFlow backend.\n"
     ]
    }
   ],
   "source": [
    "%matplotlib inline\n",
    "import matplotlib.pyplot as plot\n",
    "from IPython import display\n",
    "from __future__ import print_function\n",
    "\n",
    "import os\n",
    "import sys\n",
    "import numpy as np\n",
    "import numpy.random as nr\n",
    "\n",
    "from keras.utils import to_categorical\n",
    "from keras.layers import Dense, Input, Flatten, Dropout\n",
    "from keras.layers import Conv1D, MaxPooling1D, Embedding, GlobalMaxPooling1D\n",
    "from keras.models import Model, Sequential\n"
   ]
  },
  {
   "cell_type": "markdown",
   "metadata": {
    "hidden": true
   },
   "source": [
    "## Variável categórica"
   ]
  },
  {
   "cell_type": "markdown",
   "metadata": {
    "hidden": true
   },
   "source": [
    "Uma variável categórica pode ter um valor dentro de um conjunto limitado que represente uma categoria nominal.\n",
    "Alguns exemplos de variáveis categóricas:\n",
    "- Grupo sanguíneo: A, B, AB or O.\n",
    "- Cidade onde uma pessoa reside\n",
    "- Cor de um produto: vermelho, verde, azul\n",
    "- Uma palavra, dentro de um vocabulário limitado"
   ]
  },
  {
   "cell_type": "markdown",
   "metadata": {
    "heading_collapsed": true
   },
   "source": [
    "# Rede neural com entrada categórica"
   ]
  },
  {
   "cell_type": "markdown",
   "metadata": {
    "hidden": true
   },
   "source": [
    "Quando a rede neural possui entradas categóricas, temos a necessidade de colocá-lo na forma \n",
    "categórica utilizando a codificação *one-hot*. \n",
    "Iremos fazer um exemplo de rede neural com apenas uma camada densa e entrada com uma \n",
    "sequência de dados categóricos com os seguintes parâmetros:\n",
    "- entrada categórica pertebcebte a um conjunto de 20 classes (NB_WORDS)\n",
    "- amostra é constituída de uma sequência de 10 elementos categóricos (SEQ_LEN)\n",
    "- exemplo de amostra, constituída de sequência de índices entre 0 e 19: [19, 10, 0, 1, 7, 5, 0, 1, 15, 2]\n",
    "- camada densa com 5 neurônios (NB_FEATS)"
   ]
  },
  {
   "cell_type": "code",
   "execution_count": 2,
   "metadata": {
    "collapsed": true,
    "hidden": true
   },
   "outputs": [],
   "source": [
    "NB_WORDS = 20\n",
    "NB_FEATS = 5\n",
    "SEQ_LEN = 10"
   ]
  },
  {
   "cell_type": "markdown",
   "metadata": {
    "heading_collapsed": true,
    "hidden": true
   },
   "source": [
    "## Diagrama da rede neural com entradas categóricas de uma camada e sem bias"
   ]
  },
  {
   "cell_type": "markdown",
   "metadata": {
    "hidden": true
   },
   "source": [
    "<img src='../figures/Embedding_neural.png', width = 400pt></img>"
   ]
  },
  {
   "cell_type": "markdown",
   "metadata": {
    "hidden": true
   },
   "source": [
    "### Criação da codificação categórica (one-hot) da sequência de entrada"
   ]
  },
  {
   "cell_type": "code",
   "execution_count": 3,
   "metadata": {
    "collapsed": false,
    "hidden": true
   },
   "outputs": [
    {
     "data": {
      "text/plain": [
       "(array([[19, 10,  0,  1,  7,  5,  0,  1, 15,  2]]), (1, 10))"
      ]
     },
     "execution_count": 3,
     "metadata": {},
     "output_type": "execute_result"
    }
   ],
   "source": [
    "sequences = np.array([[19, 10, 0, 1, 7, 5, 0, 1, 15, 2]])\n",
    "sequences, sequences.shape"
   ]
  },
  {
   "cell_type": "code",
   "execution_count": 4,
   "metadata": {
    "collapsed": false,
    "hidden": true
   },
   "outputs": [
    {
     "data": {
      "text/plain": [
       "(array([[[0, 0, 0, 0, 0, 0, 0, 0, 0, 0, 0, 0, 0, 0, 0, 0, 0, 0, 0, 1],\n",
       "         [0, 0, 0, 0, 0, 0, 0, 0, 0, 0, 1, 0, 0, 0, 0, 0, 0, 0, 0, 0],\n",
       "         [1, 0, 0, 0, 0, 0, 0, 0, 0, 0, 0, 0, 0, 0, 0, 0, 0, 0, 0, 0],\n",
       "         [0, 1, 0, 0, 0, 0, 0, 0, 0, 0, 0, 0, 0, 0, 0, 0, 0, 0, 0, 0],\n",
       "         [0, 0, 0, 0, 0, 0, 0, 1, 0, 0, 0, 0, 0, 0, 0, 0, 0, 0, 0, 0],\n",
       "         [0, 0, 0, 0, 0, 1, 0, 0, 0, 0, 0, 0, 0, 0, 0, 0, 0, 0, 0, 0],\n",
       "         [1, 0, 0, 0, 0, 0, 0, 0, 0, 0, 0, 0, 0, 0, 0, 0, 0, 0, 0, 0],\n",
       "         [0, 1, 0, 0, 0, 0, 0, 0, 0, 0, 0, 0, 0, 0, 0, 0, 0, 0, 0, 0],\n",
       "         [0, 0, 0, 0, 0, 0, 0, 0, 0, 0, 0, 0, 0, 0, 0, 1, 0, 0, 0, 0],\n",
       "         [0, 0, 1, 0, 0, 0, 0, 0, 0, 0, 0, 0, 0, 0, 0, 0, 0, 0, 0, 0]]]),\n",
       " (1, 10, 20))"
      ]
     },
     "execution_count": 4,
     "metadata": {},
     "output_type": "execute_result"
    }
   ],
   "source": [
    "# to_categorical faz um ravel() antes de criar os one-hots\n",
    "nb_seqs,SEQ_LEN = sequences.shape\n",
    "sequences_oh = to_categorical(sequences, NB_WORDS).reshape(nb_seqs, SEQ_LEN, NB_WORDS).astype(np.int)\n",
    "sequences_oh, sequences_oh.shape"
   ]
  },
  {
   "cell_type": "markdown",
   "metadata": {
    "heading_collapsed": true,
    "hidden": true
   },
   "source": [
    "## Criação do modelo da rede densa com 5 camadas"
   ]
  },
  {
   "cell_type": "code",
   "execution_count": 5,
   "metadata": {
    "collapsed": false,
    "hidden": true
   },
   "outputs": [
    {
     "name": "stdout",
     "output_type": "stream",
     "text": [
      "_________________________________________________________________\n",
      "Layer (type)                 Output Shape              Param #   \n",
      "=================================================================\n",
      "dense_1 (Dense)              (None, 10, 5)             100       \n",
      "=================================================================\n",
      "Total params: 100\n",
      "Trainable params: 100\n",
      "Non-trainable params: 0\n",
      "_________________________________________________________________\n"
     ]
    }
   ],
   "source": [
    "model_eq = Sequential()\n",
    "model_eq.add(Dense(NB_FEATS, \n",
    "                   input_shape=(SEQ_LEN,NB_WORDS),\n",
    "                   use_bias=False))\n",
    "model_eq.summary()"
   ]
  },
  {
   "cell_type": "markdown",
   "metadata": {
    "hidden": true
   },
   "source": [
    "### Criação dos pesos da rede"
   ]
  },
  {
   "cell_type": "markdown",
   "metadata": {
    "hidden": true
   },
   "source": [
    "Como ilustração, iremos inicializar a rede com pesos de modo que possamos identificar quando cada conjunto de pesos\n",
    "for utilizado para cada símbolo categórico:\n",
    "- quando a categoria for $i$, os neurônios de saída devem receber os valores $[i,2i,3i,4i,5i]$.\n",
    "\n",
    "Os pesos da rede possuem 20 linhas (uma para cada classes de entrada) por 5 colunas (atributos de cada categoria):"
   ]
  },
  {
   "cell_type": "code",
   "execution_count": 6,
   "metadata": {
    "collapsed": false,
    "hidden": true
   },
   "outputs": [
    {
     "data": {
      "text/plain": [
       "(array([[ 0,  0,  0,  0,  0],\n",
       "        [ 1,  2,  3,  4,  5],\n",
       "        [ 2,  4,  6,  8, 10],\n",
       "        [ 3,  6,  9, 12, 15],\n",
       "        [ 4,  8, 12, 16, 20],\n",
       "        [ 5, 10, 15, 20, 25],\n",
       "        [ 6, 12, 18, 24, 30],\n",
       "        [ 7, 14, 21, 28, 35],\n",
       "        [ 8, 16, 24, 32, 40],\n",
       "        [ 9, 18, 27, 36, 45],\n",
       "        [10, 20, 30, 40, 50],\n",
       "        [11, 22, 33, 44, 55],\n",
       "        [12, 24, 36, 48, 60],\n",
       "        [13, 26, 39, 52, 65],\n",
       "        [14, 28, 42, 56, 70],\n",
       "        [15, 30, 45, 60, 75],\n",
       "        [16, 32, 48, 64, 80],\n",
       "        [17, 34, 51, 68, 85],\n",
       "        [18, 36, 54, 72, 90],\n",
       "        [19, 38, 57, 76, 95]]), (20, 5), dtype('int64'))"
      ]
     },
     "execution_count": 6,
     "metadata": {},
     "output_type": "execute_result"
    }
   ],
   "source": [
    "W = np.arange(NB_WORDS).reshape(-1,1).dot(np.arange(1,NB_FEATS+1).reshape(1,-1))\n",
    "W, W.shape, W.dtype"
   ]
  },
  {
   "cell_type": "markdown",
   "metadata": {
    "hidden": true
   },
   "source": [
    "## Predição com a sequência: [19, 10, 0, 1, 7, 5, 0, 1, 15, 2]"
   ]
  },
  {
   "cell_type": "markdown",
   "metadata": {
    "hidden": true
   },
   "source": [
    "Observe que a predição da rede com a sequência categórica acima é feita com a substituição\n",
    "da categoria com os 5 atributos de cada classe."
   ]
  },
  {
   "cell_type": "code",
   "execution_count": 7,
   "metadata": {
    "collapsed": false,
    "hidden": true
   },
   "outputs": [
    {
     "data": {
      "text/plain": [
       "(array([[[19, 38, 57, 76, 95],\n",
       "         [10, 20, 30, 40, 50],\n",
       "         [ 0,  0,  0,  0,  0],\n",
       "         [ 1,  2,  3,  4,  5],\n",
       "         [ 7, 14, 21, 28, 35],\n",
       "         [ 5, 10, 15, 20, 25],\n",
       "         [ 0,  0,  0,  0,  0],\n",
       "         [ 1,  2,  3,  4,  5],\n",
       "         [15, 30, 45, 60, 75],\n",
       "         [ 2,  4,  6,  8, 10]]]), (1, 10, 5))"
      ]
     },
     "execution_count": 7,
     "metadata": {},
     "output_type": "execute_result"
    }
   ],
   "source": [
    "model_eq.set_weights([W])\n",
    "pp = model_eq.predict(sequences_oh).astype(np.int)\n",
    "pp, pp.shape"
   ]
  },
  {
   "cell_type": "markdown",
   "metadata": {
    "heading_collapsed": true
   },
   "source": [
    "# Embedding como implementação eficiente de entradas categóricas"
   ]
  },
  {
   "cell_type": "markdown",
   "metadata": {
    "hidden": true
   },
   "source": [
    "Nesta implementação de rede neural com entrada categórica, existem dois fatores que dificultam a sua\n",
    "implementação eficiente:\n",
    "- necessidade de se fazer a codificação para categórico antes de colocá-lo na rede\n",
    "- se o número de classes for muito alto, a implementação pode se tornar muito ineficiente. É comum\n",
    "  termos centenas de milhares de classes, como é o caso de palavras dentro de um vocabulário.\n",
    "  \n",
    "A camada `Embedding` implementado no Keras resolve estes dois problemas de forma eficiente:\n",
    "- faz a codificação categórica automaticamente e já retorna a aplicação dos pesos nos valores categóricos\n",
    "\n",
    "Assim, a camada `Embedding` é sempre uma camada de entrada e nela é preciso especificar o número de\n",
    "classes e o número de atributos de cada classe:\n",
    "\n",
    "O diagrama a seguir mostra a aplicação do Embedding."
   ]
  },
  {
   "cell_type": "markdown",
   "metadata": {
    "hidden": true
   },
   "source": [
    "<img src = '../figures/Embedding_1.png',width=700pt></img>"
   ]
  },
  {
   "cell_type": "markdown",
   "metadata": {
    "hidden": true
   },
   "source": [
    "## Criação da mesma rede, porém agora mais eficiente, com o uso do Embedding"
   ]
  },
  {
   "cell_type": "code",
   "execution_count": 8,
   "metadata": {
    "collapsed": false,
    "hidden": true
   },
   "outputs": [
    {
     "name": "stdout",
     "output_type": "stream",
     "text": [
      "_________________________________________________________________\n",
      "Layer (type)                 Output Shape              Param #   \n",
      "=================================================================\n",
      "embedding_1 (Embedding)      (None, 10, 5)             100       \n",
      "=================================================================\n",
      "Total params: 100\n",
      "Trainable params: 100\n",
      "Non-trainable params: 0\n",
      "_________________________________________________________________\n"
     ]
    }
   ],
   "source": [
    "model = Sequential()\n",
    "model.add(Embedding(NB_WORDS, NB_FEATS, input_length=SEQ_LEN))\n",
    "model.summary()"
   ]
  },
  {
   "cell_type": "markdown",
   "metadata": {
    "hidden": true
   },
   "source": [
    "## Predição com mesma sequência: [19, 10, 0, 1, 7, 5, 0, 1, 15, 2]"
   ]
  },
  {
   "cell_type": "markdown",
   "metadata": {
    "hidden": true
   },
   "source": [
    "Confirmamos aqui que a camada Embedding é equivalente à rede densa da entrada categórica feita anteriormente."
   ]
  },
  {
   "cell_type": "code",
   "execution_count": 9,
   "metadata": {
    "collapsed": false,
    "deletable": true,
    "editable": true,
    "hidden": true
   },
   "outputs": [
    {
     "data": {
      "text/plain": [
       "(array([[[19, 38, 57, 76, 95],\n",
       "         [10, 20, 30, 40, 50],\n",
       "         [ 0,  0,  0,  0,  0],\n",
       "         [ 1,  2,  3,  4,  5],\n",
       "         [ 7, 14, 21, 28, 35],\n",
       "         [ 5, 10, 15, 20, 25],\n",
       "         [ 0,  0,  0,  0,  0],\n",
       "         [ 1,  2,  3,  4,  5],\n",
       "         [15, 30, 45, 60, 75],\n",
       "         [ 2,  4,  6,  8, 10]]]), (1, 10, 5))"
      ]
     },
     "execution_count": 9,
     "metadata": {},
     "output_type": "execute_result"
    }
   ],
   "source": [
    "model.set_weights([W])\n",
    "p = model.predict(sequences).astype(np.int)\n",
    "p, p.shape"
   ]
  },
  {
   "cell_type": "markdown",
   "metadata": {
    "hidden": true
   },
   "source": [
    "## Embedding como atributos latentes de um objeto categórico"
   ]
  },
  {
   "cell_type": "markdown",
   "metadata": {
    "hidden": true
   },
   "source": [
    "Podemos interpretar o embedding como uma codificação de atributos latentes de um objeto\n",
    "categórico. Por exemplo, se estamos codificando filmes, as 5 categorias visto no exemplo\n",
    "acima poderiam representar a quantidade de suspense, romantismo, aventura, infantil e terror\n",
    "que um filme possui. Se fosse processar palavras, os atributos poderiam representar o seu\n",
    "significado (*word embedding*).\n",
    "\n",
    "O embedding pode ser fixo (não deve ser treinado), quando sabemos exatamente os atributos\n",
    "das classes ou treináveis, quando queremos que a rede utilize estes atributos como parâmetros\n",
    "a serem minimizados."
   ]
  },
  {
   "cell_type": "markdown",
   "metadata": {
    "heading_collapsed": true
   },
   "source": [
    "# Aplicação da rede com 3 amostras"
   ]
  },
  {
   "cell_type": "code",
   "execution_count": 10,
   "metadata": {
    "collapsed": false,
    "deletable": true,
    "editable": true,
    "hidden": true
   },
   "outputs": [
    {
     "name": "stdout",
     "output_type": "stream",
     "text": [
      "(3, 10)\n"
     ]
    },
    {
     "data": {
      "text/plain": [
       "(array([[[19, 38, 57, 76, 95],\n",
       "         [10, 20, 30, 40, 50],\n",
       "         [ 0,  0,  0,  0,  0],\n",
       "         [ 1,  2,  3,  4,  5],\n",
       "         [ 7, 14, 21, 28, 35],\n",
       "         [ 5, 10, 15, 20, 25],\n",
       "         [ 0,  0,  0,  0,  0],\n",
       "         [ 1,  2,  3,  4,  5],\n",
       "         [15, 30, 45, 60, 75],\n",
       "         [ 2,  4,  6,  8, 10]],\n",
       " \n",
       "        [[ 0,  0,  0,  0,  0],\n",
       "         [ 1,  2,  3,  4,  5],\n",
       "         [ 2,  4,  6,  8, 10],\n",
       "         [ 3,  6,  9, 12, 15],\n",
       "         [ 4,  8, 12, 16, 20],\n",
       "         [ 5, 10, 15, 20, 25],\n",
       "         [ 6, 12, 18, 24, 30],\n",
       "         [ 7, 14, 21, 28, 35],\n",
       "         [ 8, 16, 24, 32, 40],\n",
       "         [ 9, 18, 27, 36, 45]],\n",
       " \n",
       "        [[ 9, 18, 27, 36, 45],\n",
       "         [ 8, 16, 24, 32, 40],\n",
       "         [ 7, 14, 21, 28, 35],\n",
       "         [ 6, 12, 18, 24, 30],\n",
       "         [ 5, 10, 15, 20, 25],\n",
       "         [ 4,  8, 12, 16, 20],\n",
       "         [ 3,  6,  9, 12, 15],\n",
       "         [15, 30, 45, 60, 75],\n",
       "         [ 1,  2,  3,  4,  5],\n",
       "         [ 1,  2,  3,  4,  5]]]), (3, 10, 5))"
      ]
     },
     "execution_count": 10,
     "metadata": {},
     "output_type": "execute_result"
    }
   ],
   "source": [
    "sequences = np.array([[19, 10, 0, 1, 7, 5, 0, 1, 15, 2],\n",
    "                      [ 0,  1, 2, 3, 4, 5, 6,  7, 8, 9],\n",
    "                      [ 9,  8, 7, 6, 5, 4, 3, 15, 1, 1]])\n",
    "print(sequences.shape)\n",
    "p = model.predict(sequences).astype(int)\n",
    "p, p.shape"
   ]
  },
  {
   "cell_type": "markdown",
   "metadata": {
    "heading_collapsed": true
   },
   "source": [
    "# Aplicação da rede com uma camada convolucional 1-D após embedding"
   ]
  },
  {
   "cell_type": "code",
   "execution_count": 11,
   "metadata": {
    "collapsed": false,
    "hidden": true
   },
   "outputs": [
    {
     "name": "stdout",
     "output_type": "stream",
     "text": [
      "_________________________________________________________________\n",
      "Layer (type)                 Output Shape              Param #   \n",
      "=================================================================\n",
      "embedding_2 (Embedding)      (None, 10, 5)             100       \n",
      "_________________________________________________________________\n",
      "conv1d_1 (Conv1D)            (None, 8, 1)              15        \n",
      "=================================================================\n",
      "Total params: 115\n",
      "Trainable params: 115\n",
      "Non-trainable params: 0\n",
      "_________________________________________________________________\n"
     ]
    }
   ],
   "source": [
    "model = Sequential()\n",
    "model.add(Embedding(NB_WORDS, NB_FEATS, input_length=SEQ_LEN))\n",
    "model.add(Conv1D(1, 3, use_bias=False))\n",
    "model.summary()"
   ]
  },
  {
   "cell_type": "code",
   "execution_count": 12,
   "metadata": {
    "collapsed": true,
    "hidden": true
   },
   "outputs": [],
   "source": [
    "W_conv1D = np.array([[[1],\n",
    "                      [0],\n",
    "                      [0],\n",
    "                      [0],\n",
    "                      [0]],\n",
    "                     [[1],\n",
    "                      [0],\n",
    "                      [0],\n",
    "                      [0],\n",
    "                      [0]],\n",
    "                     [[1],\n",
    "                      [0],\n",
    "                      [0],\n",
    "                      [0],\n",
    "                      [0]]], dtype=np.float)\n",
    "model.set_weights([W,W_conv1D])"
   ]
  },
  {
   "cell_type": "code",
   "execution_count": 13,
   "metadata": {
    "collapsed": false,
    "hidden": true
   },
   "outputs": [
    {
     "data": {
      "text/plain": [
       "array([[[ 0.],\n",
       "        [ 0.],\n",
       "        [ 1.],\n",
       "        [ 1.],\n",
       "        [ 1.],\n",
       "        [ 0.],\n",
       "        [ 0.],\n",
       "        [ 0.]]], dtype=float32)"
      ]
     },
     "execution_count": 13,
     "metadata": {},
     "output_type": "execute_result"
    }
   ],
   "source": [
    "sequences = np.array([[0, 0, 0, 0, 1, 0, 0, 0, 0, 0]])\n",
    "p = model.predict(sequences)\n",
    "p"
   ]
  },
  {
   "cell_type": "code",
   "execution_count": null,
   "metadata": {
    "collapsed": true,
    "deletable": true,
    "editable": true,
    "hidden": true
   },
   "outputs": [],
   "source": []
  }
 ],
 "metadata": {
  "kernelspec": {
   "display_name": "Python 3",
   "language": "python",
   "name": "python3"
  },
  "language_info": {
   "codemirror_mode": {
    "name": "ipython",
    "version": 3
   },
   "file_extension": ".py",
   "mimetype": "text/x-python",
   "name": "python",
   "nbconvert_exporter": "python",
   "pygments_lexer": "ipython3",
   "version": "3.6.0"
  },
  "latex_envs": {
   "LaTeX_envs_menu_present": true,
   "autocomplete": true,
   "bibliofile": "biblio.bib",
   "cite_by": "apalike",
   "current_citInitial": 1,
   "eqLabelWithNumbers": true,
   "eqNumInitial": 1,
   "hotkeys": {
    "equation": "Ctrl-E",
    "itemize": "Ctrl-I"
   },
   "labels_anchors": false,
   "latex_user_defs": false,
   "report_style_numbering": false,
   "user_envs_cfg": false
  },
  "toc": {
   "colors": {
    "hover_highlight": "#DAA520",
    "running_highlight": "#FF0000",
    "selected_highlight": "#FFD700"
   },
   "moveMenuLeft": true,
   "nav_menu": {
    "height": "12px",
    "width": "252px"
   },
   "navigate_menu": true,
   "number_sections": true,
   "sideBar": true,
   "threshold": 4,
   "toc_cell": false,
   "toc_section_display": "block",
   "toc_window_display": false,
   "widenNotebook": false
  }
 },
 "nbformat": 4,
 "nbformat_minor": 2
}
