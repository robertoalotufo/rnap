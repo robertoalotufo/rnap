{
 "cells": [
  {
   "cell_type": "markdown",
   "metadata": {
    "toc": "true"
   },
   "source": [
    "# Table of Contents\n",
    " <p><div class=\"lev1 toc-item\"><a href=\"#Regressão-Logística-usando-Softmax-no-Keras---Iris-dataset\" data-toc-modified-id=\"Regressão-Logística-usando-Softmax-no-Keras---Iris-dataset-1\"><span class=\"toc-item-num\">1&nbsp;&nbsp;</span>Regressão Logística usando Softmax no Keras - Iris dataset</a></div><div class=\"lev2 toc-item\"><a href=\"#Leitura,-normalização-e-visualização-dos-dados\" data-toc-modified-id=\"Leitura,-normalização-e-visualização-dos-dados-11\"><span class=\"toc-item-num\">1.1&nbsp;&nbsp;</span>Leitura, normalização e visualização dos dados</a></div><div class=\"lev2 toc-item\"><a href=\"#Convertendo-rótulos-na-codificação-'one-hot'---categórico\" data-toc-modified-id=\"Convertendo-rótulos-na-codificação-'one-hot'---categórico-12\"><span class=\"toc-item-num\">1.2&nbsp;&nbsp;</span>Convertendo rótulos na codificação 'one-hot' - categórico</a></div><div class=\"lev2 toc-item\"><a href=\"#Construindo-o-modelo-da-rede\" data-toc-modified-id=\"Construindo-o-modelo-da-rede-13\"><span class=\"toc-item-num\">1.3&nbsp;&nbsp;</span>Construindo o modelo da rede</a></div><div class=\"lev2 toc-item\"><a href=\"#Compilação-do-modelo\" data-toc-modified-id=\"Compilação-do-modelo-14\"><span class=\"toc-item-num\">1.4&nbsp;&nbsp;</span>Compilação do modelo</a></div><div class=\"lev2 toc-item\"><a href=\"#Laço-principal-de-treinamento-da-Regressão-Logística-por-Softmax\" data-toc-modified-id=\"Laço-principal-de-treinamento-da-Regressão-Logística-por-Softmax-15\"><span class=\"toc-item-num\">1.5&nbsp;&nbsp;</span>Laço principal de treinamento da Regressão Logística por Softmax</a></div><div class=\"lev2 toc-item\"><a href=\"#Imprimindo-perda-e-W-finais\" data-toc-modified-id=\"Imprimindo-perda-e-W-finais-16\"><span class=\"toc-item-num\">1.6&nbsp;&nbsp;</span>Imprimindo perda e W finais</a></div><div class=\"lev2 toc-item\"><a href=\"#Visualizando-a-minimização-da-Perda-durante-o-treinamento\" data-toc-modified-id=\"Visualizando-a-minimização-da-Perda-durante-o-treinamento-17\"><span class=\"toc-item-num\">1.7&nbsp;&nbsp;</span>Visualizando a minimização da Perda durante o treinamento</a></div><div class=\"lev2 toc-item\"><a href=\"#Cálculo-do-desempenho-do-resultado\" data-toc-modified-id=\"Cálculo-do-desempenho-do-resultado-18\"><span class=\"toc-item-num\">1.8&nbsp;&nbsp;</span>Cálculo do desempenho do resultado</a></div><div class=\"lev2 toc-item\"><a href=\"#Matriz-de-Confusão\" data-toc-modified-id=\"Matriz-de-Confusão-19\"><span class=\"toc-item-num\">1.9&nbsp;&nbsp;</span>Matriz de Confusão</a></div><div class=\"lev2 toc-item\"><a href=\"#Visualização-das-fronteiras-de-decisão-no-espaço-de-atributos\" data-toc-modified-id=\"Visualização-das-fronteiras-de-decisão-no-espaço-de-atributos-110\"><span class=\"toc-item-num\">1.10&nbsp;&nbsp;</span>Visualização das fronteiras de decisão no espaço de atributos</a></div><div class=\"lev2 toc-item\"><a href=\"#Atividades\" data-toc-modified-id=\"Atividades-111\"><span class=\"toc-item-num\">1.11&nbsp;&nbsp;</span>Atividades</a></div>"
   ]
  },
  {
   "cell_type": "markdown",
   "metadata": {},
   "source": [
    "# Regressão Logística usando Softmax no Keras - Iris dataset\n",
    "\n",
    "Este notebook reproduz o exemplo de Regressão Logística usando Softmax,\n",
    "já feito utilizando programação matricial. \n",
    "Neste notebook utiliza-se o Keras, utilizando o mesmo modelo e mesmos parâmetros.\n",
    "\n",
    "Os objetivos desta experiência são:\n",
    "* Primeiros passos na utilização do Keras\n",
    "    * criação rede densa de uma camada e ativação Softmax\n",
    "    * compilação para preparação treinamento\n",
    "    * treinamento\n",
    "    * avaliação"
   ]
  },
  {
   "cell_type": "code",
   "execution_count": 1,
   "metadata": {
    "ExecuteTime": {
     "end_time": "2017-05-01T20:05:30.280080",
     "start_time": "2017-05-01T20:05:25.078354"
    },
    "collapsed": false
   },
   "outputs": [
    {
     "name": "stderr",
     "output_type": "stream",
     "text": [
      "Using TensorFlow backend.\n"
     ]
    }
   ],
   "source": [
    "import numpy as np\n",
    "import matplotlib.pyplot as plt\n",
    "%matplotlib inline\n",
    "from sklearn.datasets import load_iris\n",
    "\n",
    "import keras\n",
    "from keras.utils import np_utils \n",
    "from keras.models import Sequential \n",
    "from keras.layers import Dense, Activation \n",
    "from keras.optimizers import SGD\n"
   ]
  },
  {
   "cell_type": "markdown",
   "metadata": {},
   "source": [
    "## Leitura, normalização e visualização dos dados\n"
   ]
  },
  {
   "cell_type": "code",
   "execution_count": 2,
   "metadata": {
    "ExecuteTime": {
     "end_time": "2017-05-01T20:05:30.567138",
     "start_time": "2017-05-01T20:05:30.282652"
    },
    "collapsed": false
   },
   "outputs": [
    {
     "data": {
      "image/png": "[encoded data removed]",
      "text/plain": [
       "<matplotlib.figure.Figure at 0x117e65278>"
      ]
     },
     "metadata": {},
     "output_type": "display_data"
    }
   ],
   "source": [
    "iris = load_iris()\n",
    "X = iris.data[:,::2]  # comprimento das sépalas e pétalas, indices 0 e 2\n",
    "Xc = X - X.min(axis=0)\n",
    "Xc /= Xc.max(axis=0)\n",
    "\n",
    "Y = iris.target\n",
    "\n",
    "colors = np.array(['r','y','b'])\n",
    "plt.scatter(Xc[:, 0], Xc[:, 1], c=colors[Y])\n",
    "plt.xlabel('Sepal length')\n",
    "plt.ylabel('Sepal width')\n",
    "plt.show()"
   ]
  },
  {
   "cell_type": "markdown",
   "metadata": {},
   "source": [
    "## Convertendo rótulos na codificação 'one-hot' - categórico"
   ]
  },
  {
   "cell_type": "code",
   "execution_count": 3,
   "metadata": {
    "ExecuteTime": {
     "end_time": "2017-05-01T20:05:30.576187",
     "start_time": "2017-05-01T20:05:30.569248"
    },
    "collapsed": false
   },
   "outputs": [
    {
     "name": "stdout",
     "output_type": "stream",
     "text": [
      "[0 0 0 0 0]\n",
      "[[ 1.  0.  0.]\n",
      " [ 1.  0.  0.]\n",
      " [ 1.  0.  0.]\n",
      " [ 1.  0.  0.]\n",
      " [ 1.  0.  0.]]\n"
     ]
    }
   ],
   "source": [
    "Y_oh = np_utils.to_categorical(Y, 3) \n",
    "print(Y[0:5])\n",
    "print(Y_oh[0:5])"
   ]
  },
  {
   "cell_type": "markdown",
   "metadata": {},
   "source": [
    "## Construindo o modelo da rede\n",
    "\n",
    "Para construirmos a rede equivalente da experiência da Regressão Logística, basta colocar\n",
    "* uma rede neural densa (totalmente conectada), onde o \n",
    "* número de entradas são dois, pois são dois atributos e o \n",
    "* número de saídas é 3 (número de classes). \n",
    "* Utiliza-se o Softmax como camada de ativação e a\n",
    "* inicialização dos pesos deve ser zero.\n",
    "\n",
    "**Obs:** Em geral, a inicialização dos pesos em zero não é uma boa opção. Fui utilizado aqui apenas para comparação com as implementações matriciais anteriores."
   ]
  },
  {
   "cell_type": "code",
   "execution_count": 4,
   "metadata": {
    "ExecuteTime": {
     "end_time": "2017-05-01T20:05:30.603923",
     "start_time": "2017-05-01T20:05:30.579439"
    },
    "collapsed": false
   },
   "outputs": [],
   "source": [
    "units = n_classes = 3 \n",
    "model = Sequential() \n",
    "model.add(Dense(units, input_dim=2, activation='softmax',kernel_initializer='zero')) \n"
   ]
  },
  {
   "cell_type": "markdown",
   "metadata": {},
   "source": [
    "## Compilação do modelo\n",
    "\n",
    "A compilação do modelo é a sua preparação para o treinamento. Quando se compila o modelo, deve-se escolher o método da otimização e a função de perda a ser minimizada.\n",
    "Iremos utilizar o Gradiente Descendente, para isso escolhe-se o \n",
    "* SGD - Stochastic Gradient Descent e inicializa a \n",
    "* taxa de aprendizagem `lr`.\n",
    "\n",
    "**Obs:** Observe que apesar de usarmos os SGD, este método se degrada no gradiente descendente, desde que o `batch_size` seja igual ao número total de amostras."
   ]
  },
  {
   "cell_type": "code",
   "execution_count": 5,
   "metadata": {
    "ExecuteTime": {
     "end_time": "2017-05-01T20:05:30.690563",
     "start_time": "2017-05-01T20:05:30.606309"
    },
    "collapsed": true
   },
   "outputs": [],
   "source": [
    "sgd = SGD(lr=0.15)\n",
    "model.compile(optimizer=sgd, loss='categorical_crossentropy') "
   ]
  },
  {
   "cell_type": "markdown",
   "metadata": {},
   "source": [
    "## Laço principal de treinamento da Regressão Logística por Softmax\n",
    "\n",
    "O treinamento via gradiente descendente acontece na função `fit`. É preciso fornecer:\n",
    "* Número de iterações, aqui denominado de `nb_epoch` e\n",
    "* `batch_size` que é o número de amostras utilizado a cada iteração de atualização dos pesos pelo gradiente descendente."
   ]
  },
  {
   "cell_type": "code",
   "execution_count": 6,
   "metadata": {
    "ExecuteTime": {
     "end_time": "2017-05-01T20:05:46.758300",
     "start_time": "2017-05-01T20:05:30.694017"
    },
    "collapsed": false
   },
   "outputs": [],
   "source": [
    "n_samples = Xc.shape[0] # number of training examples\n",
    "batch_size = n_samples \n",
    "epochs = 10000\n",
    "history = model.fit(Xc, Y_oh, batch_size=batch_size, epochs=epochs,verbose=0)"
   ]
  },
  {
   "cell_type": "markdown",
   "metadata": {},
   "source": [
    "## Imprimindo perda e W finais\n",
    "\n",
    "Observe que no Kera, o parâmetros são o W e o Bias, eles são separados. Nas implementaçõe anteriores por programação matricial, foi mais simples colocar a coluna de '1' no `X` para que o `W` já ficasse com o Bias. Observe abaixo que no Keras, o W tem shape: (2,3) e o Bias tem shape: (1,3)"
   ]
  },
  {
   "cell_type": "code",
   "execution_count": 7,
   "metadata": {
    "ExecuteTime": {
     "end_time": "2017-05-01T20:05:46.788504",
     "start_time": "2017-05-01T20:05:46.760413"
    },
    "collapsed": false
   },
   "outputs": [
    {
     "name": "stdout",
     "output_type": "stream",
     "text": [
      "Final loss: 0.206978287498\n",
      "Bias:\n",
      " [ 7.00967264  1.62754416 -8.63716888]\n",
      "W:\n",
      " [[ -3.02196813   1.76353383   1.25843847]\n",
      " [-14.71227646  -0.67160857  15.3838644 ]]\n"
     ]
    }
   ],
   "source": [
    "loss = model.evaluate(Xc, Y_oh, verbose=0)\n",
    "print('Final loss:',loss)\n",
    "\n",
    "W = model.get_weights()\n",
    "print('Bias:\\n', W[1])\n",
    "print('W:\\n', W[0])"
   ]
  },
  {
   "cell_type": "markdown",
   "metadata": {},
   "source": [
    "## Visualizando a minimização da Perda durante o treinamento\n"
   ]
  },
  {
   "cell_type": "code",
   "execution_count": 8,
   "metadata": {
    "ExecuteTime": {
     "end_time": "2017-05-01T20:05:47.014483",
     "start_time": "2017-05-01T20:05:46.790577"
    },
    "collapsed": false
   },
   "outputs": [
    {
     "data": {
      "text/plain": [
       "[<matplotlib.lines.Line2D at 0x11b69cef0>]"
      ]
     },
     "execution_count": 8,
     "metadata": {},
     "output_type": "execute_result"
    },
    {
     "data": {
      "image/png": "[encoded data removed]",
      "text/plain": [
       "<matplotlib.figure.Figure at 0x102e4d7b8>"
      ]
     },
     "metadata": {},
     "output_type": "display_data"
    }
   ],
   "source": [
    "plt.plot(history.history['loss'])"
   ]
  },
  {
   "cell_type": "markdown",
   "metadata": {},
   "source": [
    "## Cálculo do desempenho do resultado\n"
   ]
  },
  {
   "cell_type": "code",
   "execution_count": 9,
   "metadata": {
    "ExecuteTime": {
     "end_time": "2017-05-01T20:05:47.037063",
     "start_time": "2017-05-01T20:05:47.016596"
    },
    "collapsed": false
   },
   "outputs": [
    {
     "name": "stdout",
     "output_type": "stream",
     "text": [
      " 32/150 [=====>........................] - ETA: 0s\n",
      "Acurácia:  0.96\n"
     ]
    }
   ],
   "source": [
    "Y_hat = model.predict_classes(Xc)\n",
    "\n",
    "accuracy = np.sum(Y_hat == Y)/np.float(n_samples)\n",
    "print()\n",
    "print('Acurácia: ', accuracy)"
   ]
  },
  {
   "cell_type": "markdown",
   "metadata": {},
   "source": [
    "## Matriz de Confusão"
   ]
  },
  {
   "cell_type": "code",
   "execution_count": 10,
   "metadata": {
    "ExecuteTime": {
     "end_time": "2017-05-01T20:05:47.188383",
     "start_time": "2017-05-01T20:05:47.039142"
    },
    "collapsed": false
   },
   "outputs": [
    {
     "name": "stdout",
     "output_type": "stream",
     "text": [
      "Matriz de confusão:\n"
     ]
    },
    {
     "data": {
      "text/html": [
       "<div>\n",
       "<table border=\"1\" class=\"dataframe\">\n",
       "  <thead>\n",
       "    <tr style=\"text-align: right;\">\n",
       "      <th>col_0</th>\n",
       "      <th>0</th>\n",
       "      <th>1</th>\n",
       "      <th>2</th>\n",
       "    </tr>\n",
       "    <tr>\n",
       "      <th>row_0</th>\n",
       "      <th></th>\n",
       "      <th></th>\n",
       "      <th></th>\n",
       "    </tr>\n",
       "  </thead>\n",
       "  <tbody>\n",
       "    <tr>\n",
       "      <th>0</th>\n",
       "      <td>50</td>\n",
       "      <td>0</td>\n",
       "      <td>0</td>\n",
       "    </tr>\n",
       "    <tr>\n",
       "      <th>1</th>\n",
       "      <td>0</td>\n",
       "      <td>47</td>\n",
       "      <td>3</td>\n",
       "    </tr>\n",
       "    <tr>\n",
       "      <th>2</th>\n",
       "      <td>0</td>\n",
       "      <td>3</td>\n",
       "      <td>47</td>\n",
       "    </tr>\n",
       "  </tbody>\n",
       "</table>\n",
       "</div>"
      ],
      "text/plain": [
       "col_0   0   1   2\n",
       "row_0            \n",
       "0      50   0   0\n",
       "1       0  47   3\n",
       "2       0   3  47"
      ]
     },
     "execution_count": 10,
     "metadata": {},
     "output_type": "execute_result"
    }
   ],
   "source": [
    "print('Matriz de confusão:')\n",
    "import pandas as pd\n",
    "pd.crosstab(Y_hat, Y)"
   ]
  },
  {
   "cell_type": "markdown",
   "metadata": {},
   "source": [
    "## Visualização das fronteiras de decisão no espaço de atributos"
   ]
  },
  {
   "cell_type": "code",
   "execution_count": 11,
   "metadata": {
    "ExecuteTime": {
     "end_time": "2017-05-01T20:05:47.521440",
     "start_time": "2017-05-01T20:05:47.191377"
    },
    "collapsed": false
   },
   "outputs": [
    {
     "name": "stdout",
     "output_type": "stream",
     "text": [
      "2720/3721 [====================>.........] - ETA: 0s\b\b\b\b\b\b\b\b\b\b\b\b\b\b\b\b\b\b\b\b\b\b\b\b\b\b\b\b\b\b\b\b\b\b\b\b\b\b\b\b\b\b\b\b\b\b\b\b\b\b\b\b"
     ]
    },
    {
     "data": {
      "image/png": "[encoded data removed]",
      "text/plain": [
       "<matplotlib.figure.Figure at 0x11b6d6400>"
      ]
     },
     "metadata": {},
     "output_type": "display_data"
    }
   ],
   "source": [
    "from Jview import FSView_keras\n",
    "FSView_keras(Xc,Y,model)"
   ]
  },
  {
   "cell_type": "markdown",
   "metadata": {
    "collapsed": true
   },
   "source": [
    "## Atividades\n",
    "\n",
    "1. Compare os valores finais de perda e W com os valores obtidos na versão utilizando programação matricial. Os valores devem ser iguais.\n",
    "2. O próximo notebook será igual a este, porém com a visualização simultânea da curva de perda e das fronteiras de decisão."
   ]
  }
 ],
 "metadata": {
  "kernelspec": {
   "display_name": "Python 3",
   "language": "python",
   "name": "python3"
  },
  "language_info": {
   "codemirror_mode": {
    "name": "ipython",
    "version": 3
   },
   "file_extension": ".py",
   "mimetype": "text/x-python",
   "name": "python",
   "nbconvert_exporter": "python",
   "pygments_lexer": "ipython3",
   "version": "3.6.0"
  },
  "toc": {
   "colors": {
    "hover_highlight": "#DAA520",
    "running_highlight": "#FF0000",
    "selected_highlight": "#FFD700"
   },
   "moveMenuLeft": true,
   "nav_menu": {
    "height": "212px",
    "width": "252px"
   },
   "navigate_menu": true,
   "number_sections": true,
   "sideBar": true,
   "threshold": 4,
   "toc_cell": true,
   "toc_section_display": "block",
   "toc_window_display": false
  }
 },
 "nbformat": 4,
 "nbformat_minor": 0
}
