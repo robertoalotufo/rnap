{
 "cells": [
  {
   "cell_type": "markdown",
   "metadata": {
    "toc": "true"
   },
   "source": [
    "# Table of Contents\n",
    " <p><div class=\"lev1 toc-item\"><a href=\"#Introduçãos-às-CNNs-no-Keras-e-ilustrações-dos-resultados-obtidos-para-cada-camada-da-DNN\" data-toc-modified-id=\"Introduçãos-às-CNNs-no-Keras-e-ilustrações-dos-resultados-obtidos-para-cada-camada-da-DNN-1\"><span class=\"toc-item-num\">1&nbsp;&nbsp;</span>Introduçãos às CNNs no Keras e ilustrações dos resultados obtidos para cada camada da DNN</a></div><div class=\"lev2 toc-item\"><a href=\"#Objetivos\" data-toc-modified-id=\"Objetivos-11\"><span class=\"toc-item-num\">1.1&nbsp;&nbsp;</span>Objetivos</a></div><div class=\"lev2 toc-item\"><a href=\"#Importação-dos-Módulos\" data-toc-modified-id=\"Importação-dos-Módulos-12\"><span class=\"toc-item-num\">1.2&nbsp;&nbsp;</span>Importação dos Módulos</a></div><div class=\"lev2 toc-item\"><a href=\"#Definição-da-Rede,-camadas-convolucionais-e-densas\" data-toc-modified-id=\"Definição-da-Rede,-camadas-convolucionais-e-densas-13\"><span class=\"toc-item-num\">1.3&nbsp;&nbsp;</span>Definição da Rede, camadas convolucionais e densas</a></div><div class=\"lev3 toc-item\"><a href=\"#Definição-de-camadas-no-Keras\" data-toc-modified-id=\"Definição-de-camadas-no-Keras-131\"><span class=\"toc-item-num\">1.3.1&nbsp;&nbsp;</span>Definição de camadas no Keras</a></div><div class=\"lev3 toc-item\"><a href=\"#Formato-channels_first-ou-channels_last\" data-toc-modified-id=\"Formato-channels_first-ou-channels_last-132\"><span class=\"toc-item-num\">1.3.2&nbsp;&nbsp;</span>Formato channels_first ou channels_last</a></div><div class=\"lev3 toc-item\"><a href=\"#Rede-a-ser-implementada\" data-toc-modified-id=\"Rede-a-ser-implementada-133\"><span class=\"toc-item-num\">1.3.3&nbsp;&nbsp;</span>Rede a ser implementada</a></div><div class=\"lev3 toc-item\"><a href=\"#Implementação-pela-API\" data-toc-modified-id=\"Implementação-pela-API-134\"><span class=\"toc-item-num\">1.3.4&nbsp;&nbsp;</span>Implementação pela API</a></div><div class=\"lev3 toc-item\"><a href=\"#Implementação-pelo-modelo-Sequencial\" data-toc-modified-id=\"Implementação-pelo-modelo-Sequencial-135\"><span class=\"toc-item-num\">1.3.5&nbsp;&nbsp;</span>Implementação pelo modelo <em>Sequencial</em></a></div><div class=\"lev1 toc-item\"><a href=\"#Configurando-a-rede-neural-com-convolução-e-densa\" data-toc-modified-id=\"Configurando-a-rede-neural-com-convolução-e-densa-2\"><span class=\"toc-item-num\">2&nbsp;&nbsp;</span>Configurando a rede neural com convolução e densa</a></div><div class=\"lev2 toc-item\"><a href=\"#Definição-dos-parâmetros-da-rede\" data-toc-modified-id=\"Definição-dos-parâmetros-da-rede-21\"><span class=\"toc-item-num\">2.1&nbsp;&nbsp;</span>Definição dos parâmetros da rede</a></div><div class=\"lev3 toc-item\"><a href=\"#Imagem-de-Entrada:-5-linhas-e-6-colunas\" data-toc-modified-id=\"Imagem-de-Entrada:-5-linhas-e-6-colunas-211\"><span class=\"toc-item-num\">2.1.1&nbsp;&nbsp;</span>Imagem de Entrada: 5 linhas e 6 colunas</a></div><div class=\"lev3 toc-item\"><a href=\"#Kernel-da-convolução\" data-toc-modified-id=\"Kernel-da-convolução-212\"><span class=\"toc-item-num\">2.1.2&nbsp;&nbsp;</span>Kernel da convolução</a></div><div class=\"lev3 toc-item\"><a href=\"#Bias-da-Convolução\" data-toc-modified-id=\"Bias-da-Convolução-213\"><span class=\"toc-item-num\">2.1.3&nbsp;&nbsp;</span>Bias da Convolução</a></div><div class=\"lev3 toc-item\"><a href=\"#Pesos-para-a-camada-densa\" data-toc-modified-id=\"Pesos-para-a-camada-densa-214\"><span class=\"toc-item-num\">2.1.4&nbsp;&nbsp;</span>Pesos para a camada densa</a></div><div class=\"lev3 toc-item\"><a href=\"#Bias-para-a-camada-densa\" data-toc-modified-id=\"Bias-para-a-camada-densa-215\"><span class=\"toc-item-num\">2.1.5&nbsp;&nbsp;</span>Bias para a camada densa</a></div><div class=\"lev2 toc-item\"><a href=\"#Imprimindo-os-valores-dos-dados-das-camadas-internas-da-rede\" data-toc-modified-id=\"Imprimindo-os-valores-dos-dados-das-camadas-internas-da-rede-22\"><span class=\"toc-item-num\">2.2&nbsp;&nbsp;</span>Imprimindo os valores dos dados das camadas internas da rede</a></div><div class=\"lev2 toc-item\"><a href=\"#Sumário\" data-toc-modified-id=\"Sumário-23\"><span class=\"toc-item-num\">2.3&nbsp;&nbsp;</span>Sumário</a></div><div class=\"lev1 toc-item\"><a href=\"#Sugestões-de-atividades\" data-toc-modified-id=\"Sugestões-de-atividades-3\"><span class=\"toc-item-num\">3&nbsp;&nbsp;</span>Sugestões de atividades</a></div><div class=\"lev1 toc-item\"><a href=\"#Referências\" data-toc-modified-id=\"Referências-4\"><span class=\"toc-item-num\">4&nbsp;&nbsp;</span>Referências</a></div><div class=\"lev1 toc-item\"><a href=\"#Aprendizados-com-este-notebook\" data-toc-modified-id=\"Aprendizados-com-este-notebook-5\"><span class=\"toc-item-num\">5&nbsp;&nbsp;</span>Aprendizados com este notebook</a></div>"
   ]
  },
  {
   "cell_type": "markdown",
   "metadata": {},
   "source": [
    "# Introduçãos às CNNs no Keras e ilustrações dos resultados obtidos para cada camada da DNN\n",
    "\n",
    "## Objetivos\n",
    "\n",
    "Este notebook contém exemplo numérico de uma rede com uma camada convolucional e uma camada densa. A camada convolucional possui ativação reLU e max-pooling. Já a camada densa possui uma única saída com ativação sigmóide.\n",
    "\n",
    "Com esse exemplo, aprende-se a:\n",
    "- construir a rede utilizando tanto o modelo sequencial como o via API\n",
    "- inicializar os pesos e biases da rede convolucional e da rede densa\n",
    "- visualizar os dados intermediários da rede"
   ]
  },
  {
   "cell_type": "markdown",
   "metadata": {},
   "source": [
    "## Importação dos Módulos"
   ]
  },
  {
   "cell_type": "code",
   "execution_count": 1,
   "metadata": {
    "ExecuteTime": {
     "end_time": "2017-05-20T06:08:54.196376",
     "start_time": "2017-05-20T06:08:49.343236"
    },
    "collapsed": false
   },
   "outputs": [
    {
     "name": "stderr",
     "output_type": "stream",
     "text": [
      "Using TensorFlow backend.\n"
     ]
    },
    {
     "name": "stdout",
     "output_type": "stream",
     "text": [
      "Versão do Keras: 2.0.3\n"
     ]
    }
   ],
   "source": [
    "import numpy as np\n",
    "import os\n",
    "os.environ['KERAS_BACKEND'] = 'tensorflow'\n",
    "\n",
    "import keras\n",
    "from keras.models import Model, Sequential\n",
    "from keras.layers import Dense, Dropout, Activation, Flatten\n",
    "from keras.layers import Conv2D, MaxPooling2D, Input\n",
    "\n",
    "np.set_printoptions(precision=3) # ponto flutuante com 3 casas para facilitar a impressão\n",
    "print('Versão do Keras:', keras.__version__)"
   ]
  },
  {
   "cell_type": "code",
   "execution_count": 2,
   "metadata": {
    "collapsed": false
   },
   "outputs": [
    {
     "name": "stdout",
     "output_type": "stream",
     "text": [
      "Backend:     tensorflow\n",
      "Data format: channels_first\n"
     ]
    }
   ],
   "source": [
    "import keras.backend as K\n",
    "\n",
    "K.set_image_data_format('channels_first')\n",
    "K.set_floatx('float32')\n",
    "\n",
    "print('Backend:     {}'.format(K.backend()))\n",
    "print('Data format: {}'.format(K.image_data_format()))\n"
   ]
  },
  {
   "cell_type": "markdown",
   "metadata": {},
   "source": [
    "## Definição da Rede, camadas convolucionais e densas\n",
    "\n",
    "Uma CNN pode ser construída de dois modos no Keras. Ela pode ser implementada usando\n",
    "\n",
    "* Modelo Sequential: modelo mais simpes, utilizado quando a rede é composto de camadas uma após a outra.\n",
    "* Modelo API: é o modelo mais geral, baseado em ligações de entradas e saídas, para construir um modelo \n",
    "  genérico contendo bifurcações e junções.\n",
    "  "
   ]
  },
  {
   "cell_type": "markdown",
   "metadata": {},
   "source": [
    "### Definição de camadas no Keras\n",
    "\n",
    "Em redes neuras, uma camada é usualmente um neurônio, que inclui a soma de multiplicação de\n",
    "pesos ou convolução e uma ativação usualmente não linear. Podemos dizer que o max-pooling \n",
    "também faz parte da camada.\n",
    "\n",
    "A rede que iremos utilizar neste exemplo possui 2 camadas: uma convolucional e outra densa.\n",
    "A camada convolucional terá ativação reLU e um max-pooling, já a camada densa terá uma\n",
    "ativação sigmoide.\n",
    "\n",
    "Para o Keras, entretanto, *layers* é um conceito diferente. Qualquer elemento que está\n",
    "sendo construído no gráfico da rede é denominado *layer*. Assim no exemplo deste notebook,\n",
    "existem sete *layers*: convolução, reLU, max-pooling, flat, dense e sigmoide.\n",
    " "
   ]
  },
  {
   "cell_type": "markdown",
   "metadata": {},
   "source": [
    "### Formato channels_first ou channels_last\n",
    "\n",
    "O Keras permite dois formatos de tensores: `channels_first` ou `channels_last`.\n",
    "Neste treinamento, iremos utilizar quase sempre o formato `channels_first` por ser\n",
    "mais intuitivo na formação dos tensores. É preciso cuidado, pois existe uma\n",
    "configuração *default* que pode ser diferente da que você espera. Assim, uma boa\n",
    "prática e deixar este parâmetro explícito nas chamadas das funções e métodos."
   ]
  },
  {
   "cell_type": "markdown",
   "metadata": {
    "ExecuteTime": {
     "end_time": "2017-05-14T20:48:42.200325",
     "start_time": "2017-05-14T20:48:42.050307"
    }
   },
   "source": [
    "### Rede a ser implementada\n",
    "\n",
    "<img src='../figures/RedeIntroKeras.png', width=600pt>"
   ]
  },
  {
   "cell_type": "markdown",
   "metadata": {},
   "source": [
    "### Implementação pela API"
   ]
  },
  {
   "cell_type": "code",
   "execution_count": 3,
   "metadata": {
    "ExecuteTime": {
     "end_time": "2017-05-20T06:08:54.219379",
     "start_time": "2017-05-20T06:08:54.199207"
    },
    "collapsed": false
   },
   "outputs": [],
   "source": [
    "def build_model_API():\n",
    "    \n",
    "    input_shape = (1,5,6) # (canais, linhas, colunas)\n",
    "    n_filters = 3\n",
    "    kernel_shape = (2,2)\n",
    "    use_bias = True\n",
    "    inputs = Input(input_shape, name = 'input')\n",
    "    conv1 = Conv2D(n_filters, \n",
    "                   kernel_shape, \n",
    "                   name = 'conv1', \n",
    "                   padding = 'valid',\n",
    "                   use_bias = use_bias,\n",
    "                   data_format = \"channels_first\")(inputs) \n",
    "    actv1 = Activation('relu', name = 'relu1')(conv1)\n",
    "    pool1 = MaxPooling2D(pool_size=(2,2),\n",
    "                         data_format = \"channels_first\",\n",
    "                         name = 'max_pool1')(actv1) \n",
    "    flat = Flatten(name = 'flat')(pool1)\n",
    "    dense1 = Dense(1, \n",
    "                   use_bias = use_bias,\n",
    "                   name = 'dense2')(flat)\n",
    "    out = Activation('sigmoid', name = 'sigmoid2')(dense1)\n",
    "\n",
    "    model = Model(inputs=inputs, outputs=out)\n",
    "    \n",
    "    return model"
   ]
  },
  {
   "cell_type": "markdown",
   "metadata": {},
   "source": [
    "### Implementação pelo modelo *Sequencial*"
   ]
  },
  {
   "cell_type": "code",
   "execution_count": 4,
   "metadata": {
    "ExecuteTime": {
     "end_time": "2017-05-20T06:08:54.242046",
     "start_time": "2017-05-20T06:08:54.221889"
    },
    "collapsed": true
   },
   "outputs": [],
   "source": [
    "def build_model_Sequential():\n",
    "       \n",
    "    input_shape = (1,5,6) # (canais, linhas, colunas)\n",
    "    n_filters = 3\n",
    "    kernel_shape = (2,2)\n",
    "    use_bias = True\n",
    "    model = Sequential()\n",
    "    \n",
    "    model.add(Conv2D(n_filters, # número de filtros\n",
    "                     kernel_shape, # tamanho do kernel\n",
    "                     name = 'conv_1', \n",
    "                     padding = 'valid',\n",
    "                     use_bias = use_bias,\n",
    "                     input_shape = input_shape,\n",
    "                     data_format = \"channels_first\"))\n",
    "    model.add(Activation('relu', name = 'relu_1'))\n",
    "    model.add(MaxPooling2D(pool_size = (2, 2), \n",
    "                           data_format = \"channels_first\",\n",
    "                           name = 'max_pool_1'))\n",
    "    model.add(Flatten(name = 'flat'))\n",
    "    model.add(Dense(1, \n",
    "                    use_bias = use_bias,\n",
    "                    name = 'dense_2'))\n",
    "    model.add(Activation('sigmoid', name = 'sigmoid_2'))\n",
    "    \n",
    "    return model"
   ]
  },
  {
   "cell_type": "markdown",
   "metadata": {},
   "source": [
    "# Configurando a rede neural com convolução e densa"
   ]
  },
  {
   "cell_type": "markdown",
   "metadata": {},
   "source": [
    "## Definição dos parâmetros da rede"
   ]
  },
  {
   "cell_type": "markdown",
   "metadata": {},
   "source": [
    "### Imagem de Entrada: 5 linhas e 6 colunas"
   ]
  },
  {
   "cell_type": "code",
   "execution_count": 19,
   "metadata": {
    "ExecuteTime": {
     "end_time": "2017-05-20T06:08:54.272576",
     "start_time": "2017-05-20T06:08:54.246553"
    },
    "collapsed": false
   },
   "outputs": [
    {
     "name": "stdout",
     "output_type": "stream",
     "text": [
      "X.shape= (1, 1, 5, 6)\n",
      "X:\n",
      " [[[[ 0  0  0  0  0  0]\n",
      "   [ 0  0  1  0  0  0]\n",
      "   [ 0  0  0  0  0  0]\n",
      "   [ 0  0  0  0 -1  0]\n",
      "   [ 0  0  0  0  0  0]]]]\n"
     ]
    }
   ],
   "source": [
    "X = np.array([[[[0,0,0,0,0,0],\n",
    "                [0,0,1,0,0,0],\n",
    "                [0,0,0,0,0,0],\n",
    "                [0,0,0,0,-1,0],\n",
    "                [0,0,0,0,0,0]]]])\n",
    "\n",
    "(n_samples, n_channels, img_height, img_width) = X.shape\n",
    "input_shape = (n_channels, img_height, img_width)\n",
    "print('X.shape=',X.shape)\n",
    "print('X:\\n',X)"
   ]
  },
  {
   "cell_type": "markdown",
   "metadata": {},
   "source": [
    "### Kernel da convolução"
   ]
  },
  {
   "cell_type": "code",
   "execution_count": 20,
   "metadata": {
    "ExecuteTime": {
     "end_time": "2017-05-20T06:08:54.303144",
     "start_time": "2017-05-20T06:08:54.275838"
    },
    "collapsed": false
   },
   "outputs": [
    {
     "name": "stdout",
     "output_type": "stream",
     "text": [
      "Win.shape (n_filters, n_channels, k_height, k_width): (3, 1, 2, 2)\n",
      "Win: (Pesos camada convolucional, formato mais fácil de entender)\n",
      " [[[[ 1  2]\n",
      "   [ 3  4]]]\n",
      "\n",
      "\n",
      " [[[ 5  6]\n",
      "   [ 7  8]]]\n",
      "\n",
      "\n",
      " [[[ 9 10]\n",
      "   [11 12]]]]\n",
      "Wconv.shape (k_height,k_width,n_channels,n_filters): (2, 2, 1, 3)\n",
      "Wconv: (Pesos camada convolucional, formato do Keras)\n",
      " [[[[ 1  5  9]]\n",
      "\n",
      "  [[ 2  6 10]]]\n",
      "\n",
      "\n",
      " [[[ 3  7 11]]\n",
      "\n",
      "  [[ 4  8 12]]]]\n"
     ]
    }
   ],
   "source": [
    "# número de filtros\n",
    "n_filters = 3    \n",
    "\n",
    "# comprimento e largura dos filtros\n",
    "k_height = k_width = 2 \n",
    "kernel_shape = (k_height,k_width)\n",
    "\n",
    "Win = np.array([[[1,2],\n",
    "                 [3,4]],\n",
    "                [[5,6],\n",
    "                 [7,8]],\n",
    "                [[9,10],\n",
    "                 [11,12]]]).reshape(n_filters,1,k_height,k_width)\n",
    "\n",
    "print('Win.shape (n_filters, n_channels, k_height, k_width):',Win.shape)\n",
    "print('Win: (Pesos camada convolucional, formato mais fácil de entender)\\n',Win)\n",
    "\n",
    "W_conv = Win.transpose(2,3,1,0)\n",
    "# Para deixar no formato do Keras: (k_height,k_width,n_channels,n_filters)\n",
    "print('Wconv.shape (k_height,k_width,n_channels,n_filters):',W_conv.shape)\n",
    "print('Wconv: (Pesos camada convolucional, formato do Keras)\\n',W_conv)\n"
   ]
  },
  {
   "cell_type": "markdown",
   "metadata": {},
   "source": [
    "### Bias da Convolução"
   ]
  },
  {
   "cell_type": "code",
   "execution_count": 21,
   "metadata": {
    "ExecuteTime": {
     "end_time": "2017-05-20T06:08:54.314510",
     "start_time": "2017-05-20T06:08:54.306077"
    },
    "collapsed": false
   },
   "outputs": [
    {
     "name": "stdout",
     "output_type": "stream",
     "text": [
      "Bias da convolução: [ 0.1  0.2  0.3]\n"
     ]
    }
   ],
   "source": [
    "# valor de bias\n",
    "f_bias = 0.1     \n",
    "bias_conv = np.arange(1,n_filters+1) * f_bias\n",
    "print(\"Bias da convolução:\",bias_conv)"
   ]
  },
  {
   "cell_type": "markdown",
   "metadata": {},
   "source": [
    "### Pesos para a camada densa"
   ]
  },
  {
   "cell_type": "code",
   "execution_count": 22,
   "metadata": {
    "ExecuteTime": {
     "end_time": "2017-05-20T06:08:54.329725",
     "start_time": "2017-05-20T06:08:54.319625"
    },
    "collapsed": false
   },
   "outputs": [
    {
     "name": "stdout",
     "output_type": "stream",
     "text": [
      "Pesos da camada densa:\n",
      " [[ 0]\n",
      " [ 1]\n",
      " [ 2]\n",
      " [ 3]\n",
      " [ 4]\n",
      " [ 5]\n",
      " [ 6]\n",
      " [ 7]\n",
      " [ 8]\n",
      " [ 9]\n",
      " [10]\n",
      " [11]]\n"
     ]
    }
   ],
   "source": [
    "# após o max pooling, são 3 imagens 2x2 = 12\n",
    "W_dense = np.arange(12).reshape(12,1)\n",
    "print(\"Pesos da camada densa:\\n\",W_dense)"
   ]
  },
  {
   "cell_type": "markdown",
   "metadata": {},
   "source": [
    "### Bias para a camada densa"
   ]
  },
  {
   "cell_type": "code",
   "execution_count": 23,
   "metadata": {
    "ExecuteTime": {
     "end_time": "2017-05-20T06:08:54.345402",
     "start_time": "2017-05-20T06:08:54.335039"
    },
    "collapsed": false
   },
   "outputs": [
    {
     "name": "stdout",
     "output_type": "stream",
     "text": [
      "Bias da camanda densa: [ 0.1]\n"
     ]
    }
   ],
   "source": [
    "bias_dense = np.ones(1) * f_bias\n",
    "print(\"Bias da camanda densa:\",bias_dense)"
   ]
  },
  {
   "cell_type": "markdown",
   "metadata": {},
   "source": [
    "## Imprimindo os valores dos dados das camadas internas da rede\n",
    "\n",
    "Como a rede é executada no Keras como *backend*, não existem variáveis de fácil acesso para\n",
    "conseguir ver os dados nas camadas intermediárias da rede. Assim, o artifício para se conseguir\n",
    "isso é criar várias redes, uma rede com apenas a primeira camada, e fazer a predição. O resultado\n",
    "dessa predição são os dados após a primeira camada. Colocar a segunda camada e fazer uma nova predição, obtendo\n",
    "os dados após a segunda camada e assim sucessivamente até fazer a predição da rede completa. Isso\n",
    "é implementado no código a seguir:"
   ]
  },
  {
   "cell_type": "code",
   "execution_count": 24,
   "metadata": {
    "ExecuteTime": {
     "end_time": "2017-05-20T06:08:54.686041",
     "start_time": "2017-05-20T06:08:54.354300"
    },
    "collapsed": false
   },
   "outputs": [
    {
     "name": "stdout",
     "output_type": "stream",
     "text": [
      "(2, 2, 1, 3)\n",
      "(3,)\n",
      "(12, 1)\n",
      "(1,)\n",
      "------------------------------\n",
      "Número de camadas: 7\n",
      "------------------------------\n",
      "--------------------------------------------------------------------------------\n",
      "Saída da camada 1 : input shape: (1, 1, 5, 6)\n",
      "--------------------------------------------------------------------------------\n",
      "[[[[ 0.  0.  0.  0.  0.  0.]\n",
      "   [ 0.  0.  1.  0.  0.  0.]\n",
      "   [ 0.  0.  0.  0.  0.  0.]\n",
      "   [ 0.  0.  0.  0. -1.  0.]\n",
      "   [ 0.  0.  0.  0.  0.  0.]]]]\n",
      "--------------------------------------------------------------------------------\n",
      "Saída da camada 2 : conv1 shape: (1, 3, 4, 5)\n",
      "--------------------------------------------------------------------------------\n",
      "[[[[  0.1   4.1   3.1   0.1   0.1]\n",
      "   [  0.1   2.1   1.1   0.1   0.1]\n",
      "   [  0.1   0.1   0.1  -3.9  -2.9]\n",
      "   [  0.1   0.1   0.1  -1.9  -0.9]]\n",
      "\n",
      "  [[  0.2   8.2   7.2   0.2   0.2]\n",
      "   [  0.2   6.2   5.2   0.2   0.2]\n",
      "   [  0.2   0.2   0.2  -7.8  -6.8]\n",
      "   [  0.2   0.2   0.2  -5.8  -4.8]]\n",
      "\n",
      "  [[  0.3  12.3  11.3   0.3   0.3]\n",
      "   [  0.3  10.3   9.3   0.3   0.3]\n",
      "   [  0.3   0.3   0.3 -11.7 -10.7]\n",
      "   [  0.3   0.3   0.3  -9.7  -8.7]]]]\n",
      "--------------------------------------------------------------------------------\n",
      "Saída da camada 3 : relu1 shape: (1, 3, 4, 5)\n",
      "--------------------------------------------------------------------------------\n",
      "[[[[  0.1   4.1   3.1   0.1   0.1]\n",
      "   [  0.1   2.1   1.1   0.1   0.1]\n",
      "   [  0.1   0.1   0.1   0.    0. ]\n",
      "   [  0.1   0.1   0.1   0.    0. ]]\n",
      "\n",
      "  [[  0.2   8.2   7.2   0.2   0.2]\n",
      "   [  0.2   6.2   5.2   0.2   0.2]\n",
      "   [  0.2   0.2   0.2   0.    0. ]\n",
      "   [  0.2   0.2   0.2   0.    0. ]]\n",
      "\n",
      "  [[  0.3  12.3  11.3   0.3   0.3]\n",
      "   [  0.3  10.3   9.3   0.3   0.3]\n",
      "   [  0.3   0.3   0.3   0.    0. ]\n",
      "   [  0.3   0.3   0.3   0.    0. ]]]]\n",
      "--------------------------------------------------------------------------------\n",
      "Saída da camada 4 : max_pool1 shape: (1, 3, 2, 2)\n",
      "--------------------------------------------------------------------------------\n",
      "[[[[  4.1   3.1]\n",
      "   [  0.1   0.1]]\n",
      "\n",
      "  [[  8.2   7.2]\n",
      "   [  0.2   0.2]]\n",
      "\n",
      "  [[ 12.3  11.3]\n",
      "   [  0.3   0.3]]]]\n",
      "--------------------------------------------------------------------------------\n",
      "Saída da camada 5 : flat shape: (1, 12)\n",
      "--------------------------------------------------------------------------------\n",
      "[[  4.1   3.1   0.1   0.1   8.2   7.2   0.2   0.2  12.3  11.3   0.3   0.3]]\n",
      "--------------------------------------------------------------------------------\n",
      "Saída da camada 6 : dense2 shape: (1, 1)\n",
      "--------------------------------------------------------------------------------\n",
      "[[ 281.5]]\n",
      "--------------------------------------------------------------------------------\n",
      "Saída da camada 7 : sigmoid2 shape: (1, 1)\n",
      "--------------------------------------------------------------------------------\n",
      "[[ 1.]]\n"
     ]
    }
   ],
   "source": [
    "model = build_model_API()\n",
    "#model = build_model_Sequential()\n",
    "print(W_conv.shape)\n",
    "print(bias_conv.shape)\n",
    "print(W_dense.shape)\n",
    "print(bias_dense.shape)\n",
    "model.set_weights([W_conv, bias_conv, W_dense, bias_dense])\n",
    "\n",
    "print('-'*30)\n",
    "print(\"Número de camadas:\", len(model.layers))\n",
    "print('-'*30)\n",
    "\n",
    "# Resultados para cada camada\n",
    "i = 1\n",
    "for layer in model.layers:\n",
    "    intermediate_layer_model = Model(inputs=model.input,outputs=layer.output)\n",
    "    intermediate_output = intermediate_layer_model.predict(X)\n",
    "    print('-'*80)\n",
    "    print(\"Saída da camada\", i, \":\", layer.name, \"shape:\", intermediate_output.shape)\n",
    "    print('-'*80)\n",
    "    print(intermediate_output)\n",
    "    i+=1"
   ]
  },
  {
   "cell_type": "markdown",
   "metadata": {},
   "source": [
    "## Sumário \n",
    "\n",
    "É sempre útil imprimir o sumário da rede. Ele contém informações de cada camada da rede, \n",
    "como nome, tipo de camada e número de parâmetros."
   ]
  },
  {
   "cell_type": "code",
   "execution_count": 25,
   "metadata": {
    "ExecuteTime": {
     "end_time": "2017-05-20T06:08:54.700643",
     "start_time": "2017-05-20T06:08:54.688599"
    },
    "collapsed": false
   },
   "outputs": [
    {
     "name": "stdout",
     "output_type": "stream",
     "text": [
      "_________________________________________________________________\n",
      "Layer (type)                 Output Shape              Param #   \n",
      "=================================================================\n",
      "input (InputLayer)           (None, 1, 5, 6)           0         \n",
      "_________________________________________________________________\n",
      "conv1 (Conv2D)               (None, 3, 4, 5)           15        \n",
      "_________________________________________________________________\n",
      "relu1 (Activation)           (None, 3, 4, 5)           0         \n",
      "_________________________________________________________________\n",
      "max_pool1 (MaxPooling2D)     (None, 3, 2, 2)           0         \n",
      "_________________________________________________________________\n",
      "flat (Flatten)               (None, 12)                0         \n",
      "_________________________________________________________________\n",
      "dense2 (Dense)               (None, 1)                 13        \n",
      "_________________________________________________________________\n",
      "sigmoid2 (Activation)        (None, 1)                 0         \n",
      "=================================================================\n",
      "Total params: 28\n",
      "Trainable params: 28\n",
      "Non-trainable params: 0\n",
      "_________________________________________________________________\n",
      "None\n"
     ]
    }
   ],
   "source": [
    "print(model.summary())"
   ]
  },
  {
   "cell_type": "markdown",
   "metadata": {},
   "source": [
    "# Sugestões de atividades\n",
    "\n",
    "1. Executar o experimento nos dois modos de construção da rede, API e Sequential. \n",
    "   Existe alguma diferença?\n",
    "2. Calcular o número de parâmetros da rede. Confirmar com o sumário apresentado.\n",
    "3. Retirar o bias e recalcular o número de parâmetros a serem treinados\n",
    "4. A rede foi projetada para aceitar entrada com shape (1,5,6). Mudar a rede para aceitar:\n",
    "   a) entrada com shape (1,6,6)\n",
    "   b) entrada com shape (3,6,6)\n",
    "5. Inserir mais uma camada convolucional com 4 filtros de saída e kernel (3,3)\n"
   ]
  },
  {
   "cell_type": "markdown",
   "metadata": {},
   "source": [
    "# Referências\n",
    "\n",
    "- [Keras Documentation](https://keras.io/)\n"
   ]
  },
  {
   "cell_type": "markdown",
   "metadata": {},
   "source": [
    "# Aprendizados com este notebook\n"
   ]
  }
 ],
 "metadata": {
  "anaconda-cloud": {},
  "kernelspec": {
   "display_name": "Python 3",
   "language": "python",
   "name": "python3"
  },
  "language_info": {
   "codemirror_mode": {
    "name": "ipython",
    "version": 3
   },
   "file_extension": ".py",
   "mimetype": "text/x-python",
   "name": "python",
   "nbconvert_exporter": "python",
   "pygments_lexer": "ipython3",
   "version": "3.6.0"
  },
  "toc": {
   "colors": {
    "hover_highlight": "#DAA520",
    "running_highlight": "#FF0000",
    "selected_highlight": "#FFD700"
   },
   "moveMenuLeft": true,
   "nav_menu": {
    "height": "207px",
    "width": "252px"
   },
   "navigate_menu": true,
   "number_sections": true,
   "sideBar": true,
   "threshold": 4,
   "toc_cell": true,
   "toc_section_display": "block",
   "toc_window_display": false
  }
 },
 "nbformat": 4,
 "nbformat_minor": 1
}
