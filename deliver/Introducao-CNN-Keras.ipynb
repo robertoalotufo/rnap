{
 "cells": [
  {
   "cell_type": "markdown",
   "metadata": {},
   "source": [
    "# Introduçãos as CNNs no Keras e ilustrações dos resultados obtidos para cada camada da DNN"
   ]
  },
  {
   "cell_type": "markdown",
   "metadata": {},
   "source": [
    "Como funções de ativação, serão utilizados a função ReLU e a Sigmóide. \n",
    "\n",
    "**Sigmóide:**\n",
    "A função sigmoide tem a forma de um \"S\". Ela é definida pela seguinte equação:\n",
    "\n",
    "$$S(x) = \\frac{1}{1+e^{-x}}$$\n",
    "\n",
    "![](https://sebastianraschka.com/images/faq/logisticregr-neuralnet/sigmoid.png)\n",
    "\n",
    "**ReLU:**\n",
    "A função ReLU também chamda de fnção rampa é definida pela seguinte equação:\n",
    "\n",
    "$$f(x) = max(0,x)$$\n",
    "\n",
    "Simplesmente, ela é ativada caso o valor de entrada é maior que zero não alterando o mesmo, caso contrário o valor de entrada é multiplicado por zero na saída.\n",
    "\n",
    "![](http://csci431.artifice.cc/images/relu.png)"
   ]
  },
  {
   "cell_type": "markdown",
   "metadata": {},
   "source": [
    "## Importação dos Módulos"
   ]
  },
  {
   "cell_type": "code",
   "execution_count": 23,
   "metadata": {
    "ExecuteTime": {
     "end_time": "2017-05-14T07:51:26.294739",
     "start_time": "2017-05-14T07:51:26.287177"
    },
    "collapsed": false
   },
   "outputs": [
    {
     "name": "stdout",
     "output_type": "stream",
     "text": [
      "2.0.3\n"
     ]
    }
   ],
   "source": [
    "import numpy as np\n",
    "import os\n",
    "\n",
    "import keras\n",
    "from keras.models import Model, Sequential\n",
    "from keras.layers import Dense, Dropout, Activation, Flatten\n",
    "from keras.layers import Conv2D, MaxPooling2D, Input\n",
    "\n",
    "np.set_printoptions(precision=3) # ponto flutuante com 3 casas para facilitar a impressão\n",
    "print(keras.__version__)"
   ]
  },
  {
   "cell_type": "markdown",
   "metadata": {},
   "source": [
    "## Definição da CNN\n",
    "\n",
    "Uma CNN pode ser construída de dois modos no Keras. Ela pode ser implementada usando\n",
    "\n",
    "* Modelo Sequential: modelo mais simpes, utilizado quando a rede é composto de camadas uma após a outra.\n",
    "* Modelo API: é o modelo mais geral, baseado em ligações de entradas e saídas, para construir um modelo \n",
    "  genérico contendo bifurcações e junções.\n",
    "  \n",
    " Veja os exemplos a seguir:"
   ]
  },
  {
   "cell_type": "markdown",
   "metadata": {},
   "source": [
    "### Implementação pela API"
   ]
  },
  {
   "cell_type": "code",
   "execution_count": 24,
   "metadata": {
    "ExecuteTime": {
     "end_time": "2017-05-14T07:51:28.681746",
     "start_time": "2017-05-14T07:51:28.663742"
    },
    "collapsed": true
   },
   "outputs": [],
   "source": [
    "def get_cnn_model_API(input_shape, use_bias=True):\n",
    "    \n",
    "    inputs = Input(input_shape, name = 'input')\n",
    "    conv1 = Conv2D(n_filters, \n",
    "                   (filter_size, filter_size), \n",
    "                   #weights = [W_conv, bias_conv],\n",
    "                   name = 'conv1', \n",
    "                   padding='valid',\n",
    "                   use_bias=use_bias,\n",
    "                   data_format=\"channels_first\")(inputs) \n",
    "    actv1 = Activation('relu', name = 'actv1')(conv1)\n",
    "    pool1 = MaxPooling2D(pool_size=(2,2), name = 'max_pool1')(actv1) \n",
    "    flat = Flatten(name = 'flat')(pool1)\n",
    "    dense1 = Dense(1, \n",
    "                   #weights = [W_dense,bias_dense], \n",
    "                   name = 'dense1')(flat)\n",
    "    out = Activation('sigmoid', name = 'out_sig')(dense1)\n",
    "\n",
    "    model = Model(input=inputs, output=out)\n",
    "    \n",
    "    return model"
   ]
  },
  {
   "cell_type": "markdown",
   "metadata": {},
   "source": [
    "### Implementação pelo modelo *Sequencial*"
   ]
  },
  {
   "cell_type": "code",
   "execution_count": 63,
   "metadata": {
    "ExecuteTime": {
     "end_time": "2017-05-14T08:59:16.304537",
     "start_time": "2017-05-14T08:59:16.292921"
    },
    "collapsed": true
   },
   "outputs": [],
   "source": [
    "def get_cnn_model_Sequential(input_shape, kernel_shape, use_bias=True):\n",
    "       \n",
    "    model = Sequential()\n",
    "    \n",
    "    model.add(Conv2D(n_filters, # número de filtros\n",
    "                     (kernel_shape), # tamanho do kernel\n",
    "                     #weights = [W_conv, bias_conv],\n",
    "                     name = 'conv_1', \n",
    "                     padding='valid',\n",
    "                     use_bias=use_bias,\n",
    "                     input_shape=input_shape,\n",
    "                     data_format=\"channels_first\"))\n",
    "    model.add(Activation('relu', name = 'relu_1'))\n",
    "    model.add(MaxPooling2D(pool_size=(2, 2), name = 'max_pool_1'))\n",
    "    model.add(Flatten(name = 'flat'))\n",
    "    model.add(Dense(1, # um neurônio de saída\n",
    "                    #weights = [W_dense,bias_dense], \n",
    "                    name = 'dense_2'))\n",
    "    model.add(Activation('sigmoid', name = 'sigmoid_2'))\n",
    "    \n",
    "    return model"
   ]
  },
  {
   "cell_type": "markdown",
   "metadata": {},
   "source": [
    "# Resultados da CNN para uma dada entrada"
   ]
  },
  {
   "cell_type": "markdown",
   "metadata": {},
   "source": [
    "## Definição dos parâmetros da rede"
   ]
  },
  {
   "cell_type": "markdown",
   "metadata": {},
   "source": [
    "### Imagem de Entrada"
   ]
  },
  {
   "cell_type": "code",
   "execution_count": 71,
   "metadata": {
    "ExecuteTime": {
     "end_time": "2017-05-14T09:02:42.427446",
     "start_time": "2017-05-14T09:02:42.415483"
    },
    "collapsed": false
   },
   "outputs": [
    {
     "name": "stdout",
     "output_type": "stream",
     "text": [
      "[[[[ 1  0  0  0  0  0]\n",
      "   [ 0  1  0  0  0  0]\n",
      "   [ 0  0 -1  0  0  0]\n",
      "   [ 0  0  0 -1  0  0]\n",
      "   [ 0  0  0  0  1  0]]]]\n"
     ]
    }
   ],
   "source": [
    "X = np.array([[[[1,0, 0,0,0,0],\n",
    "                [0,1, 0,0,0,0],\n",
    "                [0,0,-1,0,0,0],\n",
    "                [0,0,0,-1,0,0],\n",
    "                [0,0,0,0, 1,0]]]])\n",
    "\n",
    "(n_samples, n_channels, img_height, img_width) = X.shape\n",
    "input_shape = (n_channels, img_height, img_width)\n",
    "print(X)"
   ]
  },
  {
   "cell_type": "markdown",
   "metadata": {},
   "source": [
    "### Kernel da convolução"
   ]
  },
  {
   "cell_type": "code",
   "execution_count": 72,
   "metadata": {
    "ExecuteTime": {
     "end_time": "2017-05-14T09:02:46.473353",
     "start_time": "2017-05-14T09:02:46.459382"
    },
    "collapsed": false
   },
   "outputs": [
    {
     "name": "stdout",
     "output_type": "stream",
     "text": [
      "Win: (Pesos camada convolucional, formato mais fácil de entender)\n",
      " [[[[ 1  2]\n",
      "   [ 3  4]]]\n",
      "\n",
      "\n",
      " [[[ 5  6]\n",
      "   [ 7  8]]]\n",
      "\n",
      "\n",
      " [[[ 9 10]\n",
      "   [11 12]]]]\n",
      "Wconv: (Pesos camada convolucional, formato do Keras)\n",
      " [[[[ 1  5  9]]\n",
      "\n",
      "  [[ 2  6 10]]]\n",
      "\n",
      "\n",
      " [[[ 3  7 11]]\n",
      "\n",
      "  [[ 4  8 12]]]]\n"
     ]
    }
   ],
   "source": [
    "# número de filtros\n",
    "n_filters = 3    \n",
    "\n",
    "# comprimento e largura dos filtros\n",
    "k_height = k_width = 2 \n",
    "\n",
    "Win = np.array([[[1,2],\n",
    "                 [3,4]],\n",
    "                [[5,6],\n",
    "                 [7,8]],\n",
    "                [[9,10],\n",
    "                 [11,12]]]).reshape(n_filters,1,k_height,k_width)\n",
    "print('Win: (Pesos camada convolucional, formato mais fácil de entender)\\n',Win)\n",
    "\n",
    "# Para deixar no formato do Keras: (k_height,k_width,n_channels,n_filters)\n",
    "Wconv = np.rollaxis(Win, 1, 4) # coloca n_channels (índice 1) no final (índice 4)\n",
    "# W aqui é (n_filters, k_height, k_width, n_channels)\n",
    "Wconv = np.rollaxis(Wconv, 0, 4) # coloca n_filters (índice 0) no final (índice 4)\n",
    "print('Wconv: (Pesos camada convolucional, formato do Keras)\\n',W)\n"
   ]
  },
  {
   "cell_type": "markdown",
   "metadata": {},
   "source": [
    "### Bias da Convolução"
   ]
  },
  {
   "cell_type": "code",
   "execution_count": 82,
   "metadata": {
    "ExecuteTime": {
     "end_time": "2017-05-14T09:14:49.785424",
     "start_time": "2017-05-14T09:14:49.779039"
    },
    "collapsed": false
   },
   "outputs": [
    {
     "name": "stdout",
     "output_type": "stream",
     "text": [
      "Bias da convolução:\n",
      "[ 0.1  0.1  0.1]\n"
     ]
    }
   ],
   "source": [
    "# valor de bias\n",
    "f_bias = 0.1     \n",
    "bias_conv = np.ones(n_filters) * f_bias\n",
    "print(\"Bias da convolução:\")\n",
    "print(bias_conv)"
   ]
  },
  {
   "cell_type": "markdown",
   "metadata": {},
   "source": [
    "### Pesos para a camada densa"
   ]
  },
  {
   "cell_type": "code",
   "execution_count": 83,
   "metadata": {
    "ExecuteTime": {
     "end_time": "2017-05-14T09:14:51.167137",
     "start_time": "2017-05-14T09:14:51.160725"
    },
    "collapsed": false
   },
   "outputs": [
    {
     "name": "stdout",
     "output_type": "stream",
     "text": [
      "Pesos da camada densa:\n",
      "[[ 1.]\n",
      " [ 1.]\n",
      " [ 1.]\n",
      " [ 1.]\n",
      " [ 1.]\n",
      " [ 1.]\n",
      " [ 1.]\n",
      " [ 1.]\n",
      " [ 1.]\n",
      " [ 1.]]\n"
     ]
    }
   ],
   "source": [
    "# após o max pooling, são 3 imagens 2x2 = 12\n",
    "W_dense = np.ones(shape=(10,1))\n",
    "print(\"Pesos da camada densa:\")\n",
    "print(W_dense)"
   ]
  },
  {
   "cell_type": "markdown",
   "metadata": {},
   "source": [
    "### Bias para a camada densa"
   ]
  },
  {
   "cell_type": "code",
   "execution_count": 84,
   "metadata": {
    "ExecuteTime": {
     "end_time": "2017-05-14T09:14:52.589322",
     "start_time": "2017-05-14T09:14:52.583435"
    },
    "collapsed": false
   },
   "outputs": [
    {
     "name": "stdout",
     "output_type": "stream",
     "text": [
      "Bias da camanda densa:\n",
      "[ 0.1]\n"
     ]
    }
   ],
   "source": [
    "bias_dense = np.ones(1) * f_bias\n",
    "print(\"Bias da camanda densa:\")\n",
    "print(bias_dense)"
   ]
  },
  {
   "cell_type": "code",
   "execution_count": 85,
   "metadata": {
    "ExecuteTime": {
     "end_time": "2017-05-14T09:14:54.011866",
     "start_time": "2017-05-14T09:14:53.687727"
    },
    "collapsed": false
   },
   "outputs": [
    {
     "name": "stdout",
     "output_type": "stream",
     "text": [
      "------------------------------\n",
      "Número de camadas: 6\n",
      "------------------------------\n",
      "--------------------------------------------------------------------------------\n",
      "Saída da camada 1 : conv_1\n",
      "--------------------------------------------------------------------------------\n",
      "[[[[ 4.1  2.1  0.1  0.1  0.1]\n",
      "   [ 2.1  0.1 -1.9  0.1  0.1]\n",
      "   [ 0.1 -1.9 -3.9 -1.9  0.1]\n",
      "   [ 0.1  0.1 -1.9  0.1  2.1]]\n",
      "\n",
      "  [[ 4.1  2.1  0.1  0.1  0.1]\n",
      "   [ 2.1  0.1 -1.9  0.1  0.1]\n",
      "   [ 0.1 -1.9 -3.9 -1.9  0.1]\n",
      "   [ 0.1  0.1 -1.9  0.1  2.1]]\n",
      "\n",
      "  [[ 4.1  2.1  0.1  0.1  0.1]\n",
      "   [ 2.1  0.1 -1.9  0.1  0.1]\n",
      "   [ 0.1 -1.9 -3.9 -1.9  0.1]\n",
      "   [ 0.1  0.1 -1.9  0.1  2.1]]]]\n",
      "--------------------------------------------------------------------------------\n",
      "Saída da camada 2 : relu_1\n",
      "--------------------------------------------------------------------------------\n",
      "[[[[ 4.1  2.1  0.1  0.1  0.1]\n",
      "   [ 2.1  0.1  0.   0.1  0.1]\n",
      "   [ 0.1  0.   0.   0.   0.1]\n",
      "   [ 0.1  0.1  0.   0.1  2.1]]\n",
      "\n",
      "  [[ 4.1  2.1  0.1  0.1  0.1]\n",
      "   [ 2.1  0.1  0.   0.1  0.1]\n",
      "   [ 0.1  0.   0.   0.   0.1]\n",
      "   [ 0.1  0.1  0.   0.1  2.1]]\n",
      "\n",
      "  [[ 4.1  2.1  0.1  0.1  0.1]\n",
      "   [ 2.1  0.1  0.   0.1  0.1]\n",
      "   [ 0.1  0.   0.   0.   0.1]\n",
      "   [ 0.1  0.1  0.   0.1  2.1]]]]\n",
      "--------------------------------------------------------------------------------\n",
      "Saída da camada 3 : max_pool_1\n",
      "--------------------------------------------------------------------------------\n",
      "[[[[ 4.1  2.1  0.1  0.1  0.1]\n",
      "   [ 0.1  0.1  0.   0.1  2.1]]]]\n",
      "--------------------------------------------------------------------------------\n",
      "Saída da camada 4 : flat\n",
      "--------------------------------------------------------------------------------\n",
      "[[ 4.1  2.1  0.1  0.1  0.1  0.1  0.1  0.   0.1  2.1]]\n",
      "--------------------------------------------------------------------------------\n",
      "Saída da camada 5 : dense_2\n",
      "--------------------------------------------------------------------------------\n",
      "[[ 9.]]\n",
      "--------------------------------------------------------------------------------\n",
      "Saída da camada 6 : sigmoid_2\n",
      "--------------------------------------------------------------------------------\n",
      "[[ 1.]]\n"
     ]
    }
   ],
   "source": [
    "# Leitura do modelo\n",
    "#model = get_cnn_model_API(input_shape=input_shape)\n",
    "model = get_cnn_model_Sequential(input_shape=input_shape, kernel_shape=(2,2))\n",
    "model.set_weights([W_conv, bias_conv, W_dense, bias_dense])\n",
    "\n",
    "print('-'*30)\n",
    "print(\"Número de camadas:\", len(model.layers))\n",
    "print('-'*30)\n",
    "\n",
    "# Resultados para cada camada\n",
    "i = 1\n",
    "for layer in model.layers:\n",
    "    intermediate_layer_model = Model(inputs=model.input,outputs=layer.output)\n",
    "    intermediate_output = intermediate_layer_model.predict(X)\n",
    "    print('-'*80)\n",
    "    print(\"Saída da camada\", i, \":\", layer.name)\n",
    "    print('-'*80)\n",
    "    print(intermediate_output)\n",
    "    i+=1"
   ]
  },
  {
   "cell_type": "code",
   "execution_count": 86,
   "metadata": {
    "ExecuteTime": {
     "end_time": "2017-05-14T09:14:54.802583",
     "start_time": "2017-05-14T09:14:54.793669"
    },
    "collapsed": false
   },
   "outputs": [
    {
     "name": "stdout",
     "output_type": "stream",
     "text": [
      "_________________________________________________________________\n",
      "Layer (type)                 Output Shape              Param #   \n",
      "=================================================================\n",
      "conv_1 (Conv2D)              (None, 3, 4, 5)           15        \n",
      "_________________________________________________________________\n",
      "relu_1 (Activation)          (None, 3, 4, 5)           0         \n",
      "_________________________________________________________________\n",
      "max_pool_1 (MaxPooling2D)    (None, 1, 2, 5)           0         \n",
      "_________________________________________________________________\n",
      "flat (Flatten)               (None, 10)                0         \n",
      "_________________________________________________________________\n",
      "dense_2 (Dense)              (None, 1)                 11        \n",
      "_________________________________________________________________\n",
      "sigmoid_2 (Activation)       (None, 1)                 0         \n",
      "=================================================================\n",
      "Total params: 26\n",
      "Trainable params: 26\n",
      "Non-trainable params: 0\n",
      "_________________________________________________________________\n",
      "None\n"
     ]
    }
   ],
   "source": [
    "# Sumário contendo informações de cada camada da CNN, como nome, tipo de camada número de parâmetros e conexões\n",
    "print(model.summary())"
   ]
  },
  {
   "cell_type": "markdown",
   "metadata": {},
   "source": [
    "## Vizualização das camadas"
   ]
  },
  {
   "cell_type": "code",
   "execution_count": 87,
   "metadata": {
    "ExecuteTime": {
     "end_time": "2017-05-14T09:14:58.002669",
     "start_time": "2017-05-14T09:14:57.846644"
    },
    "collapsed": true,
    "scrolled": false
   },
   "outputs": [],
   "source": [
    "# Metodos para desenhar as saídas da rede no Jupyter Notebook\n",
    "from io import BytesIO\n",
    "import base64\n",
    "import PIL\n",
    "from IPython.display import display, Image, HTML\n",
    "from PIL import ImageFont\n",
    "from PIL import ImageDraw \n",
    "\n",
    "def get_base64_from_image(img):\n",
    "    imgbuffer = BytesIO()\n",
    "    img.save(imgbuffer, 'png')\n",
    "    return base64.b64encode(imgbuffer.getvalue())\n",
    "\n",
    "def build_html_images(arrays, scale, show_values=True):\n",
    "    '''\n",
    "    Monta a string para mostrar as imagens de uma camada em HTML\n",
    "    * arrays: Deve ser um array de 3 dimensões no formato (filtros, img_height, img_width)\n",
    "    * scale: escala que a imagem deve ser aumentada\n",
    "    * show_values: se True mostra os valores do vetor na imagens construida\n",
    "    '''\n",
    "    \n",
    "    #converte para valores de 0 a 255 uint8\n",
    "    n_filters,h,w = arrays.shape\n",
    "    dif = arrays.max()-arrays.min()\n",
    "    # Evita divisão por zero\n",
    "    if dif == 0:\n",
    "        dif = 1\n",
    "    np_img = np.copy(255*(arrays-arrays.min())/dif)\n",
    "    np_img = np_img.astype('uint8')\n",
    "    \n",
    "    html_images = []\n",
    "    for f in range(n_filters):\n",
    "        # cria a imagem no PIL\n",
    "        img = PIL.Image.fromarray(np_img[f,:,:])\n",
    "        img = img.resize((w*scale, h*scale))\n",
    "\n",
    "        if show_values:\n",
    "            img = img.convert('RGB')\n",
    "\n",
    "            draw = ImageDraw.Draw(img)\n",
    "            for i in range(h):\n",
    "                for j in range(w):\n",
    "                    draw.text((j*scale, i*scale), \n",
    "                              \"{:.3f}\".format(float(arrays[f,i,j])).rstrip('0').rstrip('.'), \n",
    "                              font=ImageFont.load_default(), \n",
    "                              fill=(255, 0, 0))\n",
    "        \n",
    "        html_images.append(\"<img src='data:image/png;base64,{}'/>\".format(get_base64_from_image(img).decode()))\n",
    "    \n",
    "    return html_images\n",
    "\n",
    "def show_deep_net(model, inputs, scale=1):\n",
    "    table = \"<table><tr><td>Imagem de entrada</td>\"\n",
    "    img = build_html_images(inputs[0,:,:,:], scale)[0]\n",
    "    table += \"<td colspan=100>{}</td>\".format(img)\n",
    "    table += \"</tr>\"\n",
    "\n",
    "    # Resultados para cada camada\n",
    "    i = 1\n",
    "    for layer in model.layers:\n",
    "        intermediate_layer_model = Model(inputs=model.input,outputs=layer.output)\n",
    "        intermediate_output = intermediate_layer_model.predict(inputs)\n",
    "        table += \"<tr><td>Camada {}: {}</td>\".format(i, layer.name)\n",
    "        if len(intermediate_output.shape) == 4:\n",
    "            for img in build_html_images(intermediate_output[0,:,:,:], scale):\n",
    "                table += \"<td>{}</td>\".format(img)\n",
    "        else:\n",
    "            n, x = intermediate_output.shape\n",
    "            for img in build_html_images(intermediate_output.reshape(1,1,-1), scale):\n",
    "                table += \"<td colspan=100>{}</td>\".format(img)\n",
    "\n",
    "        i+=1\n",
    "\n",
    "        table += \"</tr>\"\n",
    "    table += \"</table>\"\n",
    "    display(HTML(table))"
   ]
  },
  {
   "cell_type": "code",
   "execution_count": 88,
   "metadata": {
    "ExecuteTime": {
     "end_time": "2017-05-14T09:14:59.329514",
     "start_time": "2017-05-14T09:14:59.242206"
    },
    "collapsed": false,
    "scrolled": false
   },
   "outputs": [
    {
     "ename": "TypeError",
     "evalue": "get_cnn_model_Sequential() missing 1 required positional argument: 'kernel_shape'",
     "output_type": "error",
     "traceback": [
      "\u001b[0;31m---------------------------------------------------------------------------\u001b[0m",
      "\u001b[0;31mTypeError\u001b[0m                                 Traceback (most recent call last)",
      "\u001b[0;32m<ipython-input-88-a9cf7b07992a>\u001b[0m in \u001b[0;36m<module>\u001b[0;34m()\u001b[0m\n\u001b[1;32m     68\u001b[0m \u001b[0;31m# Leitura do modelo\u001b[0m\u001b[0;34m\u001b[0m\u001b[0;34m\u001b[0m\u001b[0m\n\u001b[1;32m     69\u001b[0m \u001b[0;31m#model = get_cnn_model_API(input_shape=input_shape)\u001b[0m\u001b[0;34m\u001b[0m\u001b[0;34m\u001b[0m\u001b[0m\n\u001b[0;32m---> 70\u001b[0;31m \u001b[0mmodel\u001b[0m \u001b[0;34m=\u001b[0m \u001b[0mget_cnn_model_Sequential\u001b[0m\u001b[0;34m(\u001b[0m\u001b[0minput_shape\u001b[0m\u001b[0;34m=\u001b[0m\u001b[0minput_shape\u001b[0m\u001b[0;34m)\u001b[0m\u001b[0;34m\u001b[0m\u001b[0m\n\u001b[0m\u001b[1;32m     71\u001b[0m \u001b[0;34m\u001b[0m\u001b[0m\n\u001b[1;32m     72\u001b[0m \u001b[0;31m# Adiciona os pesos em ordem\u001b[0m\u001b[0;34m\u001b[0m\u001b[0;34m\u001b[0m\u001b[0m\n",
      "\u001b[0;31mTypeError\u001b[0m: get_cnn_model_Sequential() missing 1 required positional argument: 'kernel_shape'"
     ]
    }
   ],
   "source": [
    "# Entrada\n",
    "X = np.array([[[[1,0,0,0,0],\n",
    "                [0,1,0,0,0],\n",
    "                [0,0,-1,0,0],\n",
    "                [0,0,0,-1,0],\n",
    "                [0,0,0,0,1]]]])\n",
    "\n",
    "# Kernel\n",
    "W_conv = np.array([[[[0, 0],\n",
    "                     [1, 1]]],\n",
    "\n",
    "                   [[[1, 1],\n",
    "                     [0, 0]]],\n",
    "                   \n",
    "                   [[[0, 1],\n",
    "                     [1, 0]]],\n",
    "\n",
    "                   [[[0, 1],\n",
    "                     [0, 1]]]])\n",
    "\n",
    "# valor de bias\n",
    "f_bias = 0.1     \n",
    "\n",
    "\n",
    "#--------------\n",
    "# Essa parte é fixa\n",
    "\n",
    "n_filters, _, f_height, f_width = W_conv.shape\n",
    "filter_size = f_height\n",
    "\n",
    "n_samples, n_channels, img_height, img_width = X.shape\n",
    "\n",
    "input_shape = (n_channels, img_height, img_width)\n",
    "\n",
    "\n",
    "#--------------\n",
    "# Bias para a convolução\n",
    "bias_conv = np.ones(n_filters) * f_bias\n",
    "\n",
    "#--------------\n",
    "# Camada densa\n",
    "\n",
    "# Calculo do tamanho do vetor de pesos da camada densa (tente entender como foi calculado)\n",
    "n = (img_height-f_height+1)//2 * (img_width-f_width+1)//2 * n_filters\n",
    "\n",
    "# Definição dos pesos para a camada densa\n",
    "W_dense = np.ones(shape=(n,1))\n",
    "\n",
    "# Bias da camada densa\n",
    "bias_dense = np.ones(1) * f_bias\n",
    "\n",
    "#--------------\n",
    "# Colocar False para não ver inputs\n",
    "if False:\n",
    "    print(\"Pesos do kernel da convolução:\")\n",
    "    print(W_conv)\n",
    "\n",
    "    print(\"Bias da convolução:\")\n",
    "    print(bias_conv)\n",
    "\n",
    "    print(\"Pesos da camada densa:\")\n",
    "    print(W_dense)\n",
    "\n",
    "    print(\"Bias da camanda densa:\")\n",
    "    print(bias_dense)\n",
    "\n",
    "#--------------\n",
    "# Leitura do modelo\n",
    "#model = get_cnn_model_API(input_shape=input_shape)\n",
    "model = get_cnn_model_Sequential(input_shape=input_shape)\n",
    "\n",
    "# Adiciona os pesos em ordem\n",
    "model.set_weights([channels_l2f(W_conv), bias_conv, W_dense, bias_dense])\n",
    "\n",
    "show_deep_net(model, X, scale=50)"
   ]
  },
  {
   "cell_type": "markdown",
   "metadata": {},
   "source": [
    "## Sugestões de atividades\n",
    "\n",
    "1. Executar o experimento nos dois modos, API e Sequential.\n",
    "2. Mudar paramêtros das camadas convolucionais e analisar saídas. (filter_size e n_filters)\n",
    "3. Verificar relação entre número de parâmetros e filtros de convolução.\n",
    "4. Adicionar e retirar bias e comparar resultados do número de parâmetros e das saídas. (f_bias)\n"
   ]
  },
  {
   "cell_type": "markdown",
   "metadata": {},
   "source": [
    "## Referências\n",
    "\n",
    "- [Keras Documentation](https://keras.io/)\n"
   ]
  },
  {
   "cell_type": "markdown",
   "metadata": {},
   "source": [
    "## Aprendizados com este notebook\n"
   ]
  }
 ],
 "metadata": {
  "anaconda-cloud": {},
  "kernelspec": {
   "display_name": "Python 3",
   "language": "python",
   "name": "python3"
  },
  "language_info": {
   "codemirror_mode": {
    "name": "ipython",
    "version": 3
   },
   "file_extension": ".py",
   "mimetype": "text/x-python",
   "name": "python",
   "nbconvert_exporter": "python",
   "pygments_lexer": "ipython3",
   "version": "3.6.0"
  },
  "toc": {
   "colors": {
    "hover_highlight": "#DAA520",
    "running_highlight": "#FF0000",
    "selected_highlight": "#FFD700"
   },
   "moveMenuLeft": true,
   "nav_menu": {
    "height": "207px",
    "width": "252px"
   },
   "navigate_menu": true,
   "number_sections": true,
   "sideBar": true,
   "threshold": 4,
   "toc_cell": false,
   "toc_section_display": "block",
   "toc_window_display": false
  }
 },
 "nbformat": 4,
 "nbformat_minor": 1
}
