{
 "cells": [
  {
   "cell_type": "markdown",
   "metadata": {},
   "source": [
    "# Introduçãos as CNNs no Keras e ilustrações dos resultados obtidos para cada camada da DNN"
   ]
  },
  {
   "cell_type": "markdown",
   "metadata": {},
   "source": [
    "Como funções de ativação, serão utilizados a função ReLU e a Sigmóide. \n",
    "\n",
    "**Sigmóide:**\n",
    "A função sigmoide tem a forma de um \"S\". Ela é definida pela seguinte equação:\n",
    "\n",
    "$$S(x) = \\frac{1}{1+e^{-x}}$$\n",
    "\n",
    "![](https://sebastianraschka.com/images/faq/logisticregr-neuralnet/sigmoid.png)\n",
    "\n",
    "**ReLU:**\n",
    "A função ReLU também chamda de fnção rampa é definida pela seguinte equação:\n",
    "\n",
    "$$f(x) = max(0,x)$$\n",
    "\n",
    "Simplesmente, ela é ativada caso o valor de entrada é maior que zero não alterando o mesmo, caso contrário o valor de entrada é multiplicado por zero na saída.\n",
    "\n",
    "![](http://csci431.artifice.cc/images/relu.png)"
   ]
  },
  {
   "cell_type": "markdown",
   "metadata": {},
   "source": [
    "## Importação dos Módulos"
   ]
  },
  {
   "cell_type": "code",
   "execution_count": 27,
   "metadata": {},
   "outputs": [],
   "source": [
    "import numpy as np\n",
    "import os\n",
    "\n",
    "from keras.models import Model, Sequential\n",
    "from keras.layers import Dense, Dropout, Activation, Flatten\n",
    "from keras.layers import Conv2D, MaxPooling2D, Input"
   ]
  },
  {
   "cell_type": "markdown",
   "metadata": {},
   "source": [
    "## Definição da CNN\n",
    "\n",
    "Uma CNN pode ser construída de dois modos no Keras. Ela pode ser implementada usando a API, ou seja importa os modelos e introduzindo suas entradas e saídas, ou usando o modelo Sequential em que as camadas são postas diretamente uma abaixo da outra sem a necessidade de explicitamente indicar suas entradas e saídas. Veja os exemplos a seguir:\n",
    "\n",
    "### Implementação pela API"
   ]
  },
  {
   "cell_type": "code",
   "execution_count": 28,
   "metadata": {
    "collapsed": true
   },
   "outputs": [],
   "source": [
    "def get_cnn_model_API(input_shape, use_bias=True):\n",
    "    \n",
    "    inputs = Input(input_shape, name = 'input')\n",
    "    conv1 = Conv2D(n_filters, \n",
    "                   (filter_size, filter_size), \n",
    "                   #weights = [W_conv, bias_conv],\n",
    "                   name = 'conv1', \n",
    "                   padding='valid',\n",
    "                   use_bias=use_bias,\n",
    "                   data_format=\"channels_first\")(inputs) \n",
    "    actv1 = Activation('relu', name = 'actv1')(conv1)\n",
    "    pool1 = MaxPooling2D(pool_size=(2,2), name = 'max_pool1')(actv1) \n",
    "    flat = Flatten(name = 'flat')(pool1)\n",
    "    dense1 = Dense(1, \n",
    "                   #weights = [W_dense,bias_dense], \n",
    "                   name = 'dense1')(flat)\n",
    "    out = Activation('sigmoid', name = 'out_sig')(dense1)\n",
    "\n",
    "    model = Model(input=inputs, output=out)\n",
    "    \n",
    "    return model"
   ]
  },
  {
   "cell_type": "markdown",
   "metadata": {},
   "source": [
    "### Implementação pelo modelo *Sequencial*"
   ]
  },
  {
   "cell_type": "code",
   "execution_count": 29,
   "metadata": {
    "collapsed": true
   },
   "outputs": [],
   "source": [
    "def get_cnn_model_Sequential(input_shape, use_bias=True):\n",
    "       \n",
    "    model = Sequential()\n",
    "    \n",
    "    model.add(Conv2D(n_filters, (filter_size, filter_size), \n",
    "                     #weights = [W_conv, bias_conv],\n",
    "                     name = 'conv1', \n",
    "                     padding='valid',\n",
    "                     use_bias=use_bias,\n",
    "                     input_shape=input_shape,\n",
    "                     data_format=\"channels_first\"))\n",
    "    model.add(Activation('relu', name = 'actv1'))\n",
    "    model.add(MaxPooling2D(pool_size=(2, 2), name = 'max_pool1'))\n",
    "    model.add(Flatten(name = 'flat'))\n",
    "    model.add(Dense(1, \n",
    "                    #weights = [W_dense,bias_dense], \n",
    "                    name = 'dense1'))\n",
    "    model.add(Activation('sigmoid', name = 'out_sig'))\n",
    "    \n",
    "    return model"
   ]
  },
  {
   "cell_type": "markdown",
   "metadata": {},
   "source": [
    "# Resultados da CNN para uma dada entrada"
   ]
  },
  {
   "cell_type": "markdown",
   "metadata": {},
   "source": [
    "## Definição dos parâmetros da rede"
   ]
  },
  {
   "cell_type": "code",
   "execution_count": 30,
   "metadata": {},
   "outputs": [
    {
     "name": "stdout",
     "output_type": "stream",
     "text": [
      "[[[[ 1  0  0  0  0]\n",
      "   [ 0  1  0  0  0]\n",
      "   [ 0  0 -1  0  0]\n",
      "   [ 0  0  0 -1  0]\n",
      "   [ 0  0  0  0  1]]]]\n"
     ]
    }
   ],
   "source": [
    "# Entrada\n",
    "X = np.array([[[[1,0,0,0,0],\n",
    "                [0,1,0,0,0],\n",
    "                [0,0,-1,0,0],\n",
    "                [0,0,0,-1,0],\n",
    "                [0,0,0,0,1]]]])\n",
    "\n",
    "(n_samples, n_channels, img_height, img_width) = X.shape\n",
    "input_shape = (n_channels, img_height, img_width)\n",
    "print(X)"
   ]
  },
  {
   "cell_type": "code",
   "execution_count": 31,
   "metadata": {},
   "outputs": [
    {
     "name": "stdout",
     "output_type": "stream",
     "text": [
      "Pesos do kernel da convolução:\n",
      "[[[[ 2.  2.]\n",
      "   [ 2.  2.]]]\n",
      "\n",
      "\n",
      " [[[ 2.  2.]\n",
      "   [ 2.  2.]]]\n",
      "\n",
      "\n",
      " [[[ 2.  2.]\n",
      "   [ 2.  2.]]]]\n",
      "Bias da convolução:\n",
      "[ 0.1  0.1  0.1]\n"
     ]
    }
   ],
   "source": [
    "# Kernel\n",
    "#--------------\n",
    "\n",
    "# número de filtros\n",
    "n_filters = 3    \n",
    "\n",
    "# comprimento e largura dos filtros\n",
    "filter_size = 2 \n",
    "\n",
    "# valor de bias\n",
    "f_bias = 0.1     \n",
    "\n",
    "#--------------\n",
    "\n",
    "# Altera a posição das bandas do tipo last para o tipo first\n",
    "def channels_l2f(mat):\n",
    "    assert len(mat.shape) == 4\n",
    "    return np.rollaxis(np.rollaxis(mat, 1, 4), 0, 4)\n",
    "\n",
    "# Definição dos pesos para a camada da convolução\n",
    "coluna = np.ones(shape=(filter_size,1))\n",
    "linha = np.ones(filter_size * n_filters)\n",
    "\n",
    "# (W_conv+aux) faz o broadcasting para repetir o kernel no número dado por n_filters\n",
    "W_conv = (coluna + linha).reshape(n_filters, 1, filter_size, filter_size)\n",
    "print(\"Pesos do kernel da convolução:\")\n",
    "print(W_conv)\n",
    "W_conv = channels_l2f(W_conv)   # altera as bandas da W_conv para formato de entrada de pesos\n",
    "\n",
    "bias_conv = np.ones(n_filters) * f_bias\n",
    "print(\"Bias da convolução:\")\n",
    "print(bias_conv)"
   ]
  },
  {
   "cell_type": "code",
   "execution_count": 32,
   "metadata": {},
   "outputs": [
    {
     "name": "stdout",
     "output_type": "stream",
     "text": [
      "Pesos da camada densa:\n",
      "[[ 1.]\n",
      " [ 1.]\n",
      " [ 1.]\n",
      " [ 1.]\n",
      " [ 1.]\n",
      " [ 1.]\n",
      " [ 1.]\n",
      " [ 1.]\n",
      " [ 1.]\n",
      " [ 1.]\n",
      " [ 1.]\n",
      " [ 1.]]\n",
      "Bias da camanda densa:\n",
      "[ 0.1]\n"
     ]
    }
   ],
   "source": [
    "# Definição dos pesos para a camada densa\n",
    "n = filter_size * filter_size * n_filters\n",
    "W_dense = np.ones(shape=(n)).reshape(n,1)\n",
    "print(\"Pesos da camada densa:\")\n",
    "print(W_dense)\n",
    "\n",
    "bias_dense = np.ones(1) * f_bias\n",
    "print(\"Bias da camanda densa:\")\n",
    "print(bias_dense)"
   ]
  },
  {
   "cell_type": "code",
   "execution_count": 33,
   "metadata": {},
   "outputs": [
    {
     "name": "stdout",
     "output_type": "stream",
     "text": [
      "------------------------------\n",
      "Número de camadas: 6\n",
      "------------------------------\n",
      "--------------------------------------------------------------------------------\n",
      "Saída da camada 1 : conv1\n",
      "--------------------------------------------------------------------------------\n",
      "[[[[ 4.1  2.1  0.1  0.1]\n",
      "   [ 2.1  0.1 -1.9  0.1]\n",
      "   [ 0.1 -1.9 -3.9 -1.9]\n",
      "   [ 0.1  0.1 -1.9  0.1]]\n",
      "\n",
      "  [[ 4.1  2.1  0.1  0.1]\n",
      "   [ 2.1  0.1 -1.9  0.1]\n",
      "   [ 0.1 -1.9 -3.9 -1.9]\n",
      "   [ 0.1  0.1 -1.9  0.1]]\n",
      "\n",
      "  [[ 4.1  2.1  0.1  0.1]\n",
      "   [ 2.1  0.1 -1.9  0.1]\n",
      "   [ 0.1 -1.9 -3.9 -1.9]\n",
      "   [ 0.1  0.1 -1.9  0.1]]]]\n",
      "--------------------------------------------------------------------------------\n",
      "Saída da camada 2 : actv1\n",
      "--------------------------------------------------------------------------------\n",
      "[[[[ 4.1  2.1  0.1  0.1]\n",
      "   [ 2.1  0.1  0.   0.1]\n",
      "   [ 0.1  0.   0.   0. ]\n",
      "   [ 0.1  0.1  0.   0.1]]\n",
      "\n",
      "  [[ 4.1  2.1  0.1  0.1]\n",
      "   [ 2.1  0.1  0.   0.1]\n",
      "   [ 0.1  0.   0.   0. ]\n",
      "   [ 0.1  0.1  0.   0.1]]\n",
      "\n",
      "  [[ 4.1  2.1  0.1  0.1]\n",
      "   [ 2.1  0.1  0.   0.1]\n",
      "   [ 0.1  0.   0.   0. ]\n",
      "   [ 0.1  0.1  0.   0.1]]]]\n",
      "--------------------------------------------------------------------------------\n",
      "Saída da camada 3 : max_pool1\n",
      "--------------------------------------------------------------------------------\n",
      "[[[[ 4.1  0.1]\n",
      "   [ 0.1  0.1]]\n",
      "\n",
      "  [[ 4.1  0.1]\n",
      "   [ 0.1  0.1]]\n",
      "\n",
      "  [[ 4.1  0.1]\n",
      "   [ 0.1  0.1]]]]\n",
      "--------------------------------------------------------------------------------\n",
      "Saída da camada 4 : flat\n",
      "--------------------------------------------------------------------------------\n",
      "[[ 4.1  0.1  0.1  0.1  4.1  0.1  0.1  0.1  4.1  0.1  0.1  0.1]]\n",
      "--------------------------------------------------------------------------------\n",
      "Saída da camada 5 : dense1\n",
      "--------------------------------------------------------------------------------\n",
      "[[ 13.3]]\n",
      "--------------------------------------------------------------------------------\n",
      "Saída da camada 6 : out_sig\n",
      "--------------------------------------------------------------------------------\n",
      "[[ 1.]]\n"
     ]
    }
   ],
   "source": [
    "# Formatação\n",
    "np.set_printoptions(precision=3)\n",
    "\n",
    "# Leitura do modelo\n",
    "#model = get_cnn_model_API(input_shape=input_shape)\n",
    "model = get_cnn_model_Sequential(input_shape=input_shape)\n",
    "model.set_weights([W_conv, bias_conv, W_dense, bias_dense])\n",
    "\n",
    "print('-'*30)\n",
    "print(\"Número de camadas:\", len(model.layers))\n",
    "print('-'*30)\n",
    "\n",
    "# Resultados para cada camada\n",
    "i = 1\n",
    "for layer in model.layers:\n",
    "    intermediate_layer_model = Model(inputs=model.input,outputs=layer.output)\n",
    "    intermediate_output = intermediate_layer_model.predict(X)\n",
    "    print('-'*80)\n",
    "    print(\"Saída da camada\", i, \":\", layer.name)\n",
    "    print('-'*80)\n",
    "    print(intermediate_output)\n",
    "    i+=1"
   ]
  },
  {
   "cell_type": "code",
   "execution_count": 34,
   "metadata": {},
   "outputs": [
    {
     "name": "stdout",
     "output_type": "stream",
     "text": [
      "_________________________________________________________________\n",
      "Layer (type)                 Output Shape              Param #   \n",
      "=================================================================\n",
      "conv1 (Conv2D)               (None, 3, 4, 4)           15        \n",
      "_________________________________________________________________\n",
      "actv1 (Activation)           (None, 3, 4, 4)           0         \n",
      "_________________________________________________________________\n",
      "max_pool1 (MaxPooling2D)     (None, 3, 2, 2)           0         \n",
      "_________________________________________________________________\n",
      "flat (Flatten)               (None, 12)                0         \n",
      "_________________________________________________________________\n",
      "dense1 (Dense)               (None, 1)                 13        \n",
      "_________________________________________________________________\n",
      "out_sig (Activation)         (None, 1)                 0         \n",
      "=================================================================\n",
      "Total params: 28.0\n",
      "Trainable params: 28.0\n",
      "Non-trainable params: 0.0\n",
      "_________________________________________________________________\n",
      "None\n"
     ]
    }
   ],
   "source": [
    "# Sumário contendo informações de cada camada da CNN, como nome, tipo de camada número de parâmetros e conexões\n",
    "print(model.summary())"
   ]
  },
  {
   "cell_type": "markdown",
   "metadata": {},
   "source": [
    "## Vizualização das camadas"
   ]
  },
  {
   "cell_type": "code",
   "execution_count": 37,
   "metadata": {
    "scrolled": false
   },
   "outputs": [],
   "source": [
    "# Metodos para desenhar as saídas da rede no Jupyter Notebook\n",
    "from io import BytesIO\n",
    "import base64\n",
    "import PIL\n",
    "from IPython.display import display, Image, HTML\n",
    "from PIL import ImageFont\n",
    "from PIL import ImageDraw \n",
    "\n",
    "def get_base64_from_image(img):\n",
    "    imgbuffer = BytesIO()\n",
    "    img.save(imgbuffer, 'png')\n",
    "    return base64.b64encode(imgbuffer.getvalue())\n",
    "\n",
    "def build_html_images(arrays, scale, show_values=True):\n",
    "    '''\n",
    "    Monta a string para mostrar as imagens de uma camada em HTML\n",
    "    * arrays: Deve ser um array de 3 dimensões no formato (filtros, img_height, img_width)\n",
    "    * scale: escala que a imagem deve ser aumentada\n",
    "    * show_values: se True mostra os valores do vetor na imagens construida\n",
    "    '''\n",
    "    \n",
    "    #converte para valores de 0 a 255 uint8\n",
    "    n_filters,h,w = arrays.shape\n",
    "    dif = arrays.max()-arrays.min()\n",
    "    # Evita divisão por zero\n",
    "    if dif == 0:\n",
    "        dif = 1\n",
    "    np_img = np.copy(255*(arrays-arrays.min())/dif)\n",
    "    np_img = np_img.astype('uint8')\n",
    "    \n",
    "    html_images = []\n",
    "    for f in range(n_filters):\n",
    "        # cria a imagem no PIL\n",
    "        img = PIL.Image.fromarray(np_img[f,:,:])\n",
    "        img = img.resize((w*scale, h*scale))\n",
    "\n",
    "        if show_values:\n",
    "            img = img.convert('RGB')\n",
    "\n",
    "            draw = ImageDraw.Draw(img)\n",
    "            for i in range(h):\n",
    "                for j in range(w):\n",
    "                    draw.text((j*scale, i*scale), \n",
    "                              \"{:.3f}\".format(float(arrays[f,i,j])).rstrip('0').rstrip('.'), \n",
    "                              font=ImageFont.load_default(), \n",
    "                              fill=(255, 0, 0))\n",
    "        \n",
    "        html_images.append(\"<img src='data:image/png;base64,{}'/>\".format(get_base64_from_image(img).decode()))\n",
    "    \n",
    "    return html_images\n",
    "\n",
    "def show_deep_net(model, inputs, scale=1):\n",
    "    table = \"<table><tr><td>Imagem de entrada</td>\"\n",
    "    img = build_html_images(inputs[0,:,:,:], scale)[0]\n",
    "    table += \"<td colspan=100>{}</td>\".format(img)\n",
    "    table += \"</tr>\"\n",
    "\n",
    "    # Resultados para cada camada\n",
    "    i = 1\n",
    "    for layer in model.layers:\n",
    "        intermediate_layer_model = Model(inputs=model.input,outputs=layer.output)\n",
    "        intermediate_output = intermediate_layer_model.predict(inputs)\n",
    "        table += \"<tr><td>Camada {}: {}</td>\".format(i, layer.name)\n",
    "        if len(intermediate_output.shape) == 4:\n",
    "            for img in build_html_images(intermediate_output[0,:,:,:], scale):\n",
    "                table += \"<td>{}</td>\".format(img)\n",
    "        else:\n",
    "            n, x = intermediate_output.shape\n",
    "            for img in build_html_images(intermediate_output.reshape(1,1,-1), scale):\n",
    "                table += \"<td colspan=100>{}</td>\".format(img)\n",
    "\n",
    "        i+=1\n",
    "\n",
    "        table += \"</tr>\"\n",
    "    table += \"</table>\"\n",
    "    display(HTML(table))"
   ]
  },
  {
   "cell_type": "code",
   "execution_count": 38,
   "metadata": {
    "scrolled": false
   },
   "outputs": [
    {
     "data": {
      "text/html": [
       "<table><tr><td>Imagem de entrada</td><td colspan=100><img src='data:image/png;base64,iVBORw0KGgoAAAANSUhEUgAAAPoAAAD6CAIAAAAHjs1qAAAEVklEQVR4nO3dwU7jShBA0XbEf9vz5X6LMGg0oKcgBK7MPWcDy1LnqtOOF72d57nmOY7j6hH4B92uHgB+zsvr321ba61JO/3x69frP/t+7SR/MtXjBk51W9v22vok95W6L9Pbql3OVI+bOdVtneeoTR2+j7M7IXInRO6EbB8c2wcc5Y/jGPhcv0b+2rBM9bDNayY6HGYIkTshcidE7oTInRC5EyJ3QuROiNwJkTshcidE7oTInRC5EyJ3QuROiNwJkTshcidE7oTInRC5EyJ3QuROiNwJkTshcidE7oTInRC5EyJ3QuROiNwJkTshcidE7oTInRC5EyJ3QuROyLaPudH4TzOvEZ45FY+zuxPyskbeXf9q29Zaa9I19jPXylQPut1nug/0Nt/1tu219UlmrpWpHjf1MHOeozZ1/g1Tc4dvIHdC5E7Itu/7wCfoDx5uBhzlj+MYuFZr5G8ga+RUXjN9wsypeJzDDCFyJ0TuhMidELkTIndC5E6I3AmROyFyJ0TuhMidELkTIndC5E6I3AmROyFyJ0TuhMidELkTIndC5E6I3AmROyFyJ0TuhMidELkTIndC5E6I3AmROyFyJ0TuhMidELkTIndC5E6I3AkZeo3wTL/e3+U9gE/wcXZ3Ql7WyLvr19SpPnSutdbarhtg5loNnOp2n+k+0DHmy3rmVO+dv1u/0My1mjmVw8yXbJdu6nzWy9UDPJO/NnKhPx25f4K+n53DDCHbvu8Dn6DXyOf697+7v39O/flvAJ/g47xm+gSvmZ6dwwwhcidE7oTInRC5EyJ3QuROiNwJkTshcidE7oTInRC5EyJ3QuROiNwJkTshcidE7oTInRC5EyJ3QuROiNwJkTshcidE7oTInRC5EyJ3QuROiNwJkTshcidE7oTInRC5EyJ3QuROiNwJcY3w03O58ePs7oS8rJF31y9Tfdm51lpru26AgWt1u890H+gY87Voqq84f7d+oZlr5TDzD9ou3dQne7l6AL7qr41c6P9D7k9P349zmCFk2/d94BP0Gvlcv0ZO9f539/fPqT//DTCzK6+Znp7XTI9zmCFE7oTInRC5EyJ3QuROiNwJkTshcidE7oTInRC5EyJ3QuROiNwJkTshcidE7oTInRC5EyJ3QuROiNwJkTshcidE7oTInRC5EyJ3QuROiNwJkTshcidE7oTInRC5EyJ3QuROiNwJkTshrhHmWxzHcfUIH7C7E/Ky1hp4d/0y1WfMnGqttbZtrbXO8+o5Xt3uK3VfprdVu5ypHjdzqrVtr61P4jDD9zjPOZv6G7kTIndC5E7Itu/7zOd6Uz1u4FQfPDQPOMp7zcS38JoJLiZ3QuROiNwJkTshcidE7oTInRC5EyJ3QuROiNwJkTshcidE7oTInRC5EyJ3QuROiNwJkTshcidE7oTInRC5EyJ3QuROiNwJkTshcidE7oTInRC5EyJ3QuROiNwJkTshcidE7oTInZD/ADw5MwRjdKqYAAAAAElFTkSuQmCC'/></td></tr><tr><td>Camada 1: conv1</td><td><img src='data:image/png;base64,iVBORw0KGgoAAAANSUhEUgAAAMgAAADICAIAAAAiOjnJAAADrElEQVR4nO3dwU7jWBBA0WfEfyd8uWfRqNVDMmCYXFKhz9k0qC2lJF8c25va9n1fHHM+n+89wsN4uvcA/EzPr/9u21prvX/1OnLMbc2b6vzy8vrD6fThYe8fc0MDp3pa2/Z6bt5x5JjbGjnVnyfm97m8POa//uuvmupp7fvHf+5HjrmtmVMdcD6dvu1Cddz3T+Uei4SwSAiLxHblJmXf3z5qXd4j1zc3Vz/x3lOdz+fL5683j1qX98jfcHMzcKrNC9LjvCA9zlchCWGREBYJYZEQFglhkRAWCWGREBYJYZEQFglhkRAWCWGREBYJYZEQFglhkRAWCWGREBYJYZEQFglhkRAWCWGREBYJYZEQFglhkRAWCWGREBYJYZEQFglhkRAWCWGREBYJYZHYTvNWVa21Xr53B9pDm3kGXbFIPK+R+zmv+r2b5Z3tl0eOua0JUw08g08z93Ne+nVutj9+/toxtzVhqpln8NBX4cytoRz3/Wfw+eND7uHNX/bBb5Btrb28Vs2caqahYX35XiT9Hpw51Uw/6qlw5oVh5lS17XQ6DdzPefU91uWz1f7vX68eU7v7VDPPoBekD2/mGfxRX4XMISwSwiIhLBLCIiEsEsIiISwSwiIhLBLCIiEsEsIiISwSwiIhLBLCIiEsEsIiISwSwiIhLBLCIiEsEsIiISwSwiIhLBLCIiEsEsIiISwSwiIhLBLCIiEsEsIiISwSwiIhLBJDFwjMZK3Bca5YJOZuWJ051aUJG1a/9onpVEM3rM6c6tKEDatf+8R6qgfesDpzKn4ZughzppkbVmdOJaxPmLlhdeZUngpzMzes1lMN3bC6rj0V3n0qe1+P84L0E7wgPc5XIQlhkRAWCWGREBYJYZEQFglhkRAWCWGREBYJYZEQFglhkRAWCWGREBYJYZEQFglhkRAWCWGREBYJYZEQFglhkRAWCWGREBYJYZEQFglhkRAWCWGREBYJYZEQFglhkRAWCWGRsEDg4Z3P53uPcIUrFgkbVj9n5lRrrbVta621v7t56cgxN2LD6sNPtbbttZj/ecxN2bB6Y3eYat8/vggdOeam3GOREBYJYZGwYfXhp7ryrLDvbx8AL+/c41suL0gfnhek/EWERUJYJIRFQlgkhEVCWCSERUJYJIRFQlgkhEVCWCSERUJYJIRFQlgkhEVCWCSERUJYJIRFQlgkhEVCWCSERUJYJIRFQlgkhEVCWCSERUJYJIRFQlgkhEVCWCSERUJYJIRF4h8ViIQLQK/Z6QAAAABJRU5ErkJggg=='/></td><td><img src='data:image/png;base64,iVBORw0KGgoAAAANSUhEUgAAAMgAAADICAIAAAAiOjnJAAADhElEQVR4nO3dwU7jWBBAURvx3wlf7lmAWj0kAw8mNynQOZum1ZZSwrcd25vaj+PY5jmfz48egf/l6dED8Ds9v/2579u2bR9fvVaOuZ3zy8vbD6fTp4d9fMwNmWrR07bvb8V8YOWYm/r7V/Dnt3Z5zH/9k6kePtXTdhyfX4RWjrm78+l0t0vCOlO9co9FQlgkhEViv3LrdBzvHwAv79zjW67z+Xz5pPPuoebybvQOtxGmWrR7QUrBVyEJYZEQFglhkRAWCWGREBYJYZEQFglhkRAWCWGREBYJYZEQFglhkRAWCWGREBYJYZEQFglhkRAWCWGREBYJYZEQFglhkRAWCWGREBYJYZEQFglhkRAWCWGREBYJYZEQFglhkRi6QGAmaw3WuWKRmLthdfUT7X0dOdXQDaszp5q5y3TmVFM3rM6caoENq6/cY5EQFglhkRi6YfX6Jz56Kntf13lB+gVekK7zVUhCWCSERUJYJIRFQlgkhEVCWCSERUJYJIRFQlgkhEVCWCSERUJYJIRFQlgkhEVCWCSERUJYJIRFQlgkhEVCWCSERUJYJIRFQlgkhEVCWCSERUJYJIRFQlgkhEVCWCSERUJYJPbTvFVV27a93HcH2o828wy6YpF43kbu57zqz26WD7ZfrhxzWxOmGngGn2bu57z0em72v37+3jG3NWGqmWdw6atw5tZQ1t3/DD5/fsgjvPufvfgNsm/bUV6rZk4109Cwvn0vkn4Pzpxqpl/1VDjzwjBzqtp+Op0G7ue8+h7r8tnq+Pdfrx5Te/hUM8+gF6Q/3swz+Ku+CplDWCSERUJYJIRFQlgkhEVCWCSERUJYJIRFQlgkhEVCWCSERUJYJIRFQlgkhEVCWCSERUJYJIRFQlgkhEVCWCSERUJYJIRFQlgkhEVCWCSERUJYJIRFQlgkhEVCWCSERUJYJIYuEJjJWoN1rlgk5m5YnTnVpQkbVr/3ielUQzeszpzq0oQNq9/7xHqqH7xhdeZUvBq6CHOmmRtWZ04lrC+YuWF15lSeCnMzN6zWUw3dsLpdeyp8+FT2vq7zgvQLvCBd56uQhLBICIuEsEgIi4SwSAiLhLBICIuEsEgIi4SwSAiLhLBICIuEsEgIi4SwSAiLhLBICIuEsEgIi4SwSAiLhLBICIuEsEgIi4SwSAiLhLBICIuEsEgIi4SwSAiLhLBICIuEsEj8A/24hourOSIeAAAAAElFTkSuQmCC'/></td><td><img src='data:image/png;base64,iVBORw0KGgoAAAANSUhEUgAAAMgAAADICAIAAAAiOjnJAAADqElEQVR4nO3dy1IbSRBA0WqC/5b4cs0Cj4NBMm4hrpQD52xswh1BUVz3a6HcDofDmud4PD56CRfMXNVMT49eAN/T81rr+PLy+sXxw7PX62EfH/PFtm2ttU6nW4/5OjP3auCqnt5+s9/rO1/Qn/6psm2/irnxmC81c69mrmrXpfB4ONz1RLXWOp3+fhLac8zdPWCvdrj/qtxjkRAWCWGR2A6Hw/kzxbvHh/P7vvqCfeFO83R6/wB4fuce33Idj8eBe/X2m85Z1eYF6X4zVzWTSyEJYZEQFglhkRAWCWGREBYJYZEQFglhkRAWCWGREBYJYZEQFglhkRAWCWGREBYJYZEQFglhkRAWCWGREBYJYZEQFglhkRAWCWGREBYJYZEQFglhkRAWCWGREBYJYZEQFglhkdhO8wZorakf1f9y59l6+8wcAeGMReL5159mmX7W7+34YCbnnmNuMXCvnswyvcVrMdubv3/umFvM3Ksns0x/gvvv1fPfD+Ff7/5v7TyHb2udmnPVZMK6wqfvBrrr4FieCnM/8HS11tou/Mxmmf7BxfdY5098p/9+efGYLzRzRq4XpFfwgnQ/l0ISwiIhLBLCIiEsEsIiISwSwiIhLBLCIiEsEsIiISwSwiIhLBLCIiEsEsIiISwSwiIhLBLCIiEsEsIiISwSwiIhLBLCIiEsEsIiISwSwiIhLBLCIiEsEsIiISwSwiIhLBLCIrHN/Ph5H9W/38y9csYi8bxGzue8yCzT/R6+V08z53OeM8t0vwl7tetSaJbpfvbq1dBBmGaZ7jdzr4aGZZbpfjP36ls9Ff7A09Wn1Xu1zZzPaZbpfjP3ygvSK9ir/b7VpZA5hEVCWCSERUJYJIRFQlgkhEVCWCSERUJYJIRFQlgkhEVCWCSERUJYJIRFQlgkhEVCWCSERUJYJIRFQlgkhEVCWCSERUJYJIRFQlgkhEVCWCSERUJYJIRFQlgkhEVCWCSERWLoAIGZZn5U/8zfoDMWibkTVmeu6tzDZ5mukXs1dMLqzFWdmzDLdOZe/Y8nrM5c1Uz336uhgzBnmjnLdCZhXWHmLNOZPBXmfuDpao2dsLouPek8fFUzZ5nO/A16QXoFL0j3cykkISwSwiIhLBLCIiEsEsIiISwSwiIhLBLCIiEsEsIiISwSwiIhLBLCIiEsEsIiISwSwiIhLBLCIiEsEsIiISwSwiIhLBLCIiEsEsIiISwSwiIhLBLCIiEsEsIiISwSwiIhLBL/AIPuohGqo+M8AAAAAElFTkSuQmCC'/></td><td><img src='data:image/png;base64,iVBORw0KGgoAAAANSUhEUgAAAMgAAADICAIAAAAiOjnJAAADw0lEQVR4nO3dy04bSxRA0WqU/7b58r4DUJSLHWjAGx/IWpMQpSSX8Fb1Y5Cz7fu+5jmfz/feAp/ycO8N8DP9ev5z29Za6/XT68ia2zk/Pj7/cDq9uez1NTdkVwc9rG17LuYVR9bc1J+/gt+/tcs1f/snu7r7rh7Wvr99CB1Z8+XOp9OXHQnH2dUT91gkhEVCWCS2K7dO+/7yAfDyzj2+5Tqfz5dPOi8eai7vRr/gNsKuDtq8IKXgUkhCWCSERUJYJIRFQlgkhEVCWCSERUJYJIRFQlgkhEVCWCSERUJYJIRFQlgkhEVCWCSERUJYJIRFQlgkhEVCWCSERUJYJIRFQlgkhEVCWCSERUJYJIRFQlgkhEVCWCSERUJYJIYOENi+dordQad5Y73GcmKRmDth9dLvD37lNDuy5jMGzjJdI3c1dMLqpaditj9+/tiaz5g5y3Tmrr7xhNWZTFh98uvtJffwouKDp+W21t6cVbzX0LA+fN3troO8y496KnRczTF0wurV91iXT3z7//96dc0NnU6ngbNM17WnwrvvygvSd/CC9LgfdSlkDmGREBYJYZEQFglhkRAWCWGREBYJYZEQFglhkRAWCWGREBYJYZEQFglhkRAWCWGREBYJYZEQFglhkRAWCWGREBYJYZEQFglhkRAWCWGREBYJYZEQFglhkRAWCWGREBYJYZHYZv6n+I9fOwPtW5v5DTqxSPxaI+dzXjVhwurHPvEfnPv6MHM+56UJE1Y/9on/5tzXQ5fCmVNDOc6E1WczJ6zO3NVMQ8OaOWF15q5m+lFPhTMPhpm7qm0zp4ZefY919wmrV919VzO/QS9Iv72Z3+CPuhQyh7BICIuEsEgIi4SwSAiLhLBICIuEsEgIi4SwSAiLhLBICIuEsEgIi4SwSAiLhLBICIuEsEgIi4SwSAiLhLBICIuEsEgIi4SwSAiLhLBICIuEsEgIi4SwSAiLhLBICIuEsEgMHSAw08yxBvs+caKKE4vE3AmrM3d1acKE1bXW2ra11nr99Dqy5kaGTliduatLEyasrm17LuaTa27qG09YnbmrO9j3tw+hI2tuauggzJlMWD1OWO9gwupxngpz/+BxtcZOWF3XngrvvquZc1+vVLvvLx8AL+/c41suL0jfwQvS41wKSQiLhLBICIuEsEgIi4SwSAiLhLBICIuEsEgIi4SwSAiLhLBICIuEsEgIi4SwSAiLhLBICIuEsEgIi4SwSAiLhLBICIuEsEgIi4SwSAiLhLBICIuEsEgIi4SwSAiLhLBICIvEf2BrjYbuc+RwAAAAAElFTkSuQmCC'/></td></tr><tr><td>Camada 2: actv1</td><td><img src='data:image/png;base64,iVBORw0KGgoAAAANSUhEUgAAAMgAAADICAIAAAAiOjnJAAADY0lEQVR4nO3d0U7iUBRA0VviP8D/fx18RedBY4wwUDNsuDhrvUhiE0/SbWn7cpZ1XQfbHA6HZ4/wMnbPHoDf6e3j57KMMcb1q9eWY+5rvqmOp9P7h8N+f/Ow68fc0YRT7cayfJybK7Ycc19TTvX1xHyey/Nj/var/2qq3VjX2//uW465rzmn2uCw3z/sQrXd46dyj0VCWCSERWK5cJOyrt8ftc7vkeubm4t/8dlTHQ6H8+evb49a5/fID7i5mXCqxQvS7bwg3c5XIQlhkRAWCWGREBYJYZEQFglhkRAWCWGREBYJYZEQFglhkRAWCWGREBYJYZEQFglhkRAWCWGREBYJYZEQFglhkRAWCWGREBYJYZEQFglhkRAWCWGREBYJYZEQFglhkRAWCWGRWPbzraoaY5weuwPtpc15Bl2xSLyNKfdzjjE+N7E8dgPnDXNONeEZ3M25n/P9/C1fPs9gzqnmPIObvgrn3BrKdjas8ksIi4SwSCz7/X7C/Zyn02nO568Jp5rzDHpB+vLmPIO+CkkIi4SwSAiLhLBICIuEsEgIi4SwSAiLhLBICIuEsEgIi4SwSAiLhLBICIuEsEgIi4SwSAiLhLBICIuEsEgIi4SwSAiLhLBICIuEsEgIi4SwSAiLhLBICIuEsEgIi4SwSAiLxKQLBOZkrcF2rlgk5t2wOudUE+7SGVNONemG1TmnmnPD6pxTvfCG1Tmn4p17LBLCIiEsEpNuWB2XngqfPpW9r9t5QfoDXpBu56uQhLBICIuEsEgIi4SwSAiLhLBICIuEsEgIi4SwSAiLhLBICIuEsEgIi4SwSAiLhLBICIuEsEgIi4SwSAiLhLBICIuEsEgIi4SwSAiLhLBICIuEsEgIi4SwSAiLhLBICIuEsEhYIPDyjsfjs0e4wBWLhA2rPzPnVGOMsSxjjLFeXYW55Zg7sWH15acay/JRzD8ec1c2rN7ZE6Za19sXoS3H3JV7LBLCIiEsEjasvvxUF54V1vX7A+D5nXt8y+UF6cvzgpT/iLBICIuEsEgIi4SwSAiLhLBICIuEsEgIi4SwSAiLhLBICIuEsEgIi4SwSAiLhLBICIuEsEgIi4SwSAiLhLBICIuEsEgIi4SwSAiLhLBICIuEsEgIi4SwSAiLhLBICIuEsEj8AdEBW7cSX940AAAAAElFTkSuQmCC'/></td><td><img src='data:image/png;base64,iVBORw0KGgoAAAANSUhEUgAAAMgAAADICAIAAAAiOjnJAAADOUlEQVR4nO3dW07bABBAUTtiD/b+V9esIv0IQohQMCo3GdA5P0WqJUb4yq+fWS+XyzLPvu+PHoH/cnr0APxOT8//ruuyLMvHV68jx3yfP+fz9Yd92z497ONjvpGpDjot6/pczAeOHPOtXv8JXv5qt8f8679M9fCpTsvl8vlF6Mgxd7dv290uCceZ6sozFglhkRAWifWdR6fL5e0L4O2Te/zIte/77ZvOm5ea26fROzxGmOqg1QdSCm6FJIRFQlgkhEVCWCSERUJYJIRFQlgkhEVCWCSERUJYJIRFQlgkhEVCWCSERUJYJIRFQlgkhEVCWCSERUJYJIRFQlgkhEVCWCSERUJYJIRFQlgkhEVCWCSERUJYJIRFQlgkhEVi6AKBmaw1OM4Vi8TcDatHf6O9ryOnGrphdeZUM3eZzpxq6obVmVMdYMPqlWcsEsIiISwSQzesvv8bHz2Vva/H+UD6BT6QHudWSEJYJIRFQlgkhEVCWCSERUJYJIRFQlgkhEVCWCSERUJYJIRFQlgkhEVCWCSERUJYJIRFQlgkhEVCWCSERUJYJIRFQlgkhEVCWCSERUJYJIRFQlgkhEVCWCSERUJYJIRFQlgk1m3eqqplWc733YH2o808g65YJJ6Wkfs5l2V52cRy3w2cn5g51cAzeJq5n/N6/tZXP08wc6qZZ/DQrXDm1lCOs2GVX0JYJIRFYt22beB+zvP5PPP9a+BUM8+gD6Q/3swz6FZIQlgkhEVCWCSERUJYJIRFQlgkhEVCWCSERUJYJIRFQlgkhEVCWCSERUJYJIRFQlgkhEVCWCSERUJYJIRFQlgkhEVCWCSERUJYJIRFQlgkhEVCWCSERUJYJIRFQlgkhEVCWCSGLhCYyVqD41yxSMzdsDpzqoG7dJaRUw3dsDpzqpkbVmdO9YM3rM6ciivPWCSERUJYJIZuWF3eeyt8+FT2vh7nA+kX+EB6nFshCWGREBYJYZEQFglhkRAWCWGREBYJYZEQFglhkRAWCWGREBYJYZEQFglhkRAWCWGREBYJYZEQFglhkRAWCWGREBYJYZEQFglhkRAWCWGREBYJYZEQFglhkRAWCWGREBYJYZH4C76qWo/RVSC2AAAAAElFTkSuQmCC'/></td><td><img src='data:image/png;base64,iVBORw0KGgoAAAANSUhEUgAAAMgAAADICAIAAAAiOjnJAAADWUlEQVR4nO3dS24TQRRA0Wore7D3v7p4FWZghFBsoC1y7Uc4ZwIRLVEpX/Vv4Lcdj8c1z/v7+6uXcMfpdHr1Ev4Zh1cvgK/pba31fj5ffzj99ux1Pez3x3yybVtrrcvlb4/5PDP3auCqDj//Zz/Wd7ugX/1TZdu+F/OXx3yqmXs1c1W7LoWn4/GpJ6q11uXy55PQnmOe7gV7tcPzV+Uei4SwSAiLxHY8Hm+fKT48Ptze99UX7Dt3mpfLxwfA2zv3+JbrdDoN3Kt176nw5avavCDdzwvS/VwKSQiLhLBICIuEsEgIi4SwSAiLhLBICIuEsEgIi4SwSAiLhLBICIuEsEgIi4SwSAiLhLBICIuEsEgIi4SwSAiLhLBICIuEsEgIi4SwSAiLhLBICIuEsEgIi4SwSAiLhLBICIvEdpk3QGtN/ar+85Nn6+0zcwSEMxaJt+9/mmW6z49f/qkTOP9k4F4dzDLd71rV9tPfJ5i5VwezTP8HJqzyRQiLhLBIbHduncwy/YXz+TzwqXDmjFwvSB/gBel+LoUkhEVCWCSERUJYJIRFQlgkhEVCWCSERUJYJIRFQlgkhEVCWCSERUJYJIRFQlgkhEVCWCSERUJYJIRFQlgkhEVCWCSERUJYJIRFQlgkhEVCWCSERUJYJIRFQlgkhEVCWCSERWKb+fXzvqp/v5l75YxF4m2NnM+5zDJ9xMC9Osycz2mW6X4z92rXpdAs0/3s1ZV7LBLCIiEsEtvM+Zxmme43c6+8IH2AvdrPpZCEsEgIi4SwSAiLhLBICIuEsEgIi4SwSAiLhLBICIuEsEgIi4SwSAiLhLBICIuEsEgIi4SwSAiLhLBICIuEsEgIi4SwSAiLhLBICIuEsEgIi4SwSAiLhLBICIuEsEgIi4SwSAwdIDDTzK/qn/kJOmORmDthdeaqBk6tWSP3auiE1ZmrmjnLdOZe/cMTVmeuaqbn75V7LBLCIiEsEkMnrK57TzovX9XMWaYzP0EvSB/gBel+LoUkhEVCWCSERUJYJIRFQlgkhEVCWCSERUJYJIRFQlgkhEVCWCSERUJYJIRFQlgkhEVCWCSERUJYJIRFQlgkhEVCWCSERUJYJIRFQlgkhEVCWCSERUJYJIRFQlgkhEVCWCSEReIbQ5R3SepvA2QAAAAASUVORK5CYII='/></td><td><img src='data:image/png;base64,iVBORw0KGgoAAAANSUhEUgAAAMgAAADICAIAAAAiOjnJAAADZ0lEQVR4nO3dUW7TQBRAUU/FHpL9r46swny0AtSU1ojc5AWd80MlRmJUX9ljf/DWvu/bPOfz+dFb4J+8PHoD/J++vf251rZt2+d3ryNrbuf75fL6w/l0+nLZ52tuyK4OetnWeivmE0fW3NTvv4Kfv7XrNX/6K7t6+K5etn3/+iZ0ZM3dnU+nu90SjrOrV85YJIRFQlgk1gdHp31//wJ4fXKPj1zn8/n6TefdS831afQOxwi7Omj5QErBo5CEsEgIi4SwSAiLhLBICIuEsEgIi4SwSAiLhLBICIuEsEgIi4SwSAiLhLBICIuEsEgIi4SwSAiLhLBICIuEsEgIi4SwSAiLhLBICIuEsEgIi4SwSAiLhLBICIuEsEgIi4SwSAwdILDuO8XuoNO8sV5juWORmDth9ec/M+reNXCW6TZyV0MnrL5WtX77eYKZs0xn7uqJJ6zOZMLqK2csEsIiISwSQyesrrUGvhWeTqeBs0w3E1aP84H02XkUkhAWCWGREBYJYZEQFglhkRAWCWGREBYJYZEQFglhkRAWCWGREBYJYZEQFglhkRAWCWGREBYJYZEQFglhkRAWCWGREBYJYZEQFglhkRAWCWGREBYJYZEQFglhkRAWCWGREBaJNfM/xb/cdwbaU5t5Bd2xSHzbRs7n3KZOWJ25q4FX8GXmfM6ZE1Zn7mrmFTz0KJw5NZTjTFjlPyEsEsIisWZODb1cLjPfvwbuauYV9IH06c28gh6FJIRFQlgkhEVCWCSERUJYJIRFQlgkhEVCWCSERUJYJIRFQlgkhEVCWCSERUJYJIRFQlgkhEVCWCSERUJYJIRFQlgkhEVCWCSERUJYJIRFQlgkhEVCWCSERUJYJIRFQlgkhEVi6ACBmWaONdj3OSPufnHHIjF3wurMXQ2cpfNmrW3bts/vXkfW3MjQCaszdzVzwuq21lsx/7jmpp54wurMXT3Avn99Ezqy5qacsUgIi4SwSAydsLp99Fb48F3NnPv6wdFp39+/AF6f3OMjlw+kf8EH0uM8CkkIi4SwSAiLhLBICIuEsEgIi4SwSAiLhLBICIuEsEgIi4SwSAiLhLBICIuEsEgIi4SwSAiLhLBICIuEsEgIi4SwSAiLhLBICIuEsEgIi4SwSAiLhLBICIuEsEgIi4SwSAiLxA+v8mGGmlu43gAAAABJRU5ErkJggg=='/></td></tr><tr><td>Camada 3: max_pool1</td><td><img src='data:image/png;base64,iVBORw0KGgoAAAANSUhEUgAAAGQAAABkCAIAAAD/gAIDAAABcUlEQVR4nO3bwQrCQAwA0UT6/78cD5aCWnVH7DbCvIsIVcu43XowWVXRT2aefQo7LmefwD9Z1sfbN/l+lY0c8zvbx7xfYzVwzK8sMbLgp18UW4KKqBct5m8fl6j6vFhGjpkuZy2ojXsWYCzAWEDubEVVjze+5w3+4C0sM5/vhrX39O5Vh55TRPqjdJyXIWAswFiAsQBjAcYCjAUYCzAWYCzAWICxAGMBxgKMBRgLMBZgLMBYgLEAYwHGAowFGAswFmAswFiAsQBjAcYCjAUYCzAWYCzAWICxAGMBxgKMBRgL6Pjf/IjoOcrgygKWaDkzumo2X7v0nBntOV87dBnOnxntOV/rngUYCzAWkLF3Nzx9ZrTpfO2h7/41f5T+PWMBxgKMBRgLMBZgLMBYgLEAYwHGAowFGAswFmAswFiAsQBjAcYCjAUYCzAWYCzAWICxAGMBxgKMBRgLMBZgLMBYgLEAYwHGAowFGAswFmAswFjAFT7VRLrdIKh0AAAAAElFTkSuQmCC'/></td><td><img src='data:image/png;base64,iVBORw0KGgoAAAANSUhEUgAAAGQAAABkCAIAAAD/gAIDAAABIUlEQVR4nO3bwYrCMBiF0aT4/q/8z2KGMo5Vc0HTOJyzESHS8DVN3aRXVVtP7/3sKRzYzp7AJ7n8fH7fycerbGTM6+yXebzGamDMq1zayIKf/lDsCaq1utNi/vaxtarni2VkzHR91oLa2bMCYgXECvSDrajq74vvdoN/8xbWe799G9bR16tfvXVOrXV/Ssd5DANiBcQKiBUQKyBWQKyAWAGxAmIFxAqIFRArIFZArIBYAbECYgXECogVECsgVkCsgFgBsQJiBcQKiBUQKyBWQKyAWAGxAmIFxAqIFRArIFZArIBYcLreljwz2pac1fb7YvdO8dT0Y6Nrzmpog59/ZnSEk6xLEysgVuD4bXj6mdG26qwAAAAAAAAAAAAAAID/6AtDTjRs9cFguQAAAABJRU5ErkJggg=='/></td><td><img src='data:image/png;base64,iVBORw0KGgoAAAANSUhEUgAAAGQAAABkCAIAAAD/gAIDAAABIUlEQVR4nO3bwYrCMBiF0aT4/q/8z2KGMo5Vc0HTOJyzESHS8DVN3aRXVVtP7/3sKRzYzp7AJ7n8fH7fycerbGTM6+yXebzGamDMq1zayIKf/lDsCaq1utNi/vaxtarni2VkzHR91oLa2bMCYgXECvSDrajq74vvdoN/8xbWe799G9bR16tfvXVOrXV/Ssd5DANiBcQKiBUQKyBWQKyAWAGxAmIFxAqIFRArIFZArIBYAbECYgXECogVECsgVkCsgFgBsQJiBcQKiBUQKyBWQKyAWAGxAmIFxAqIFRArIFZArIBYcLreljwz2pac1fb7YvdO8dT0Y6Nrzmpog59/ZnSEk6xLEysgVuD4bXj6mdG26qwAAAAAAAAAAAAAAID/6AtDTjRs9cFguQAAAABJRU5ErkJggg=='/></td><td><img src='data:image/png;base64,iVBORw0KGgoAAAANSUhEUgAAAGQAAABkCAIAAAD/gAIDAAABcUlEQVR4nO3bwQrCQAwA0UT6/78cD5aCWnVH7DbCvIsIVcu43XowWVXRT2aefQo7LmefwD9Z1sfbN/l+lY0c8zvbx7xfYzVwzK8sMbLgp18UW4KKqBct5m8fl6j6vFhGjpkuZy2ojXsWYCzAWEDubEVVjze+5w3+4C0sM5/vhrX39O5Vh55TRPqjdJyXIWAswFiAsQBjAcYCjAUYCzAWYCzAWICxAGMBxgKMBRgLMBZgLMBYgLEAYwHGAowFGAswFmAswFiAsQBjAcYCjAUYCzAWYCzAWICxAGMBxgKMBRgL6Pjf/IjoOcrgygKWaDkzumo2X7v0nBntOV87dBnOnxntOV/rngUYCzAWkLF3Nzx9ZrTpfO2h7/41f5T+PWMBxgKMBRgLMBZgLMBYgLEAYwHGAowFGAswFmAswFiAsQBjAcYCjAUYCzAWYCzAWICxAGMBxgKMBRgLMBZgLMBYgLEAYwHGAowFGAswFmAswFjAFT7VRLrdIKh0AAAAAElFTkSuQmCC'/></td></tr><tr><td>Camada 4: flat</td><td colspan=100><img src='data:image/png;base64,iVBORw0KGgoAAAANSUhEUgAAAyAAAAAyCAIAAAAr5CgyAAAB70lEQVR4nO3cwWoCQRBF0W7x/3+5s4gYTIypgedMTThnEwKGKahaXFQy11qjnznn0SOcRs8N9uSuzq7ntburs3NXZ9dzg5ejBwAA+G+ut5+fpfy6ASuvybk/5nXDr8JrgnpONUbHDVaf6K5MtZW7qjHVNu6qpudUY7Tb4HVU3oTc/Y3K+2LWGOuXDe3/hmDPqXpusOdUPTdoqg3cVZmpNnBXZT2n6rnBy1jr75SrvGZ3c+c0rjlgqp4b7DlVgbuqc+11Nljnrups8KblBn0HCwAgTGABAIQJLACAsPnkA8m1vn/N/udXw978QeacX4Pdn72e/frwV2+d6fGhfabqucHnTzx6Kne1ScOpel67u9qk4VTuapOGUzXdYM9/z+UfrNX13GBP7ursel67uzo7d3V2PTfoI0IAgDCBBQAQJrAAAMIEFgBAmMACAAgTWAAAYQILACBMYAEAhAksAIAwgQUAECawAADCBBYAQJjAAgAIE1gAAGECCwAgTGABAIQJLACAMIEFABAmsAAAwgQWAECYwAIACBNYAABhAgsAIExgAQCECSwAgDCBBQAQJrAAAMIEFgBAmMACAAgTWAAAYQILACBMYAEAhAksAIAwgQUAECawAADCBBYAQJjAAgAIE1gAAGECCwAgTGABAIR9AILn6UUBSlVjAAAAAElFTkSuQmCC'/></td></tr><tr><td>Camada 5: dense1</td><td colspan=100><img src='data:image/png;base64,iVBORw0KGgoAAAANSUhEUgAAADIAAAAyCAIAAACRXR/mAAAATklEQVR4nO3RQQqAMAwEwFj8/5frTdAqRCmhh5lbYCFLEkHe1m/zUyiTmavlNxW0Oe2rFbrow6f+ZWZpVYu+W+1U8Xat4hIAAAAAAACDA3GeDAbbp/yBAAAAAElFTkSuQmCC'/></td></tr><tr><td>Camada 6: out_sig</td><td colspan=100><img src='data:image/png;base64,iVBORw0KGgoAAAANSUhEUgAAADIAAAAyCAIAAACRXR/mAAAAPklEQVR4nO3SsQ0AIAwDwYDYf2VoUaChCsXdBC/LETybEbO6YTe+qsl+W6tXB9zJetHOS7WCDAAAAAAAgGQB/uEGBxqb5skAAAAASUVORK5CYII='/></td></tr></table>"
      ],
      "text/plain": [
       "<IPython.core.display.HTML object>"
      ]
     },
     "metadata": {},
     "output_type": "display_data"
    }
   ],
   "source": [
    "# Entrada\n",
    "X = np.array([[[[1,0,0,0,0],\n",
    "                [0,1,0,0,0],\n",
    "                [0,0,-1,0,0],\n",
    "                [0,0,0,-1,0],\n",
    "                [0,0,0,0,1]]]])\n",
    "\n",
    "# Kernel\n",
    "W_conv = np.array([[[[0, 0],\n",
    "                     [1, 1]]],\n",
    "\n",
    "                   [[[1, 1],\n",
    "                     [0, 0]]],\n",
    "                   \n",
    "                   [[[0, 1],\n",
    "                     [1, 0]]],\n",
    "\n",
    "                   [[[0, 1],\n",
    "                     [0, 1]]]])\n",
    "\n",
    "# valor de bias\n",
    "f_bias = 0.1     \n",
    "\n",
    "\n",
    "#--------------\n",
    "# Essa parte é fixa\n",
    "\n",
    "n_filters, _, f_height, f_width = W_conv.shape\n",
    "filter_size = f_height\n",
    "\n",
    "n_samples, n_channels, img_height, img_width = X.shape\n",
    "\n",
    "input_shape = (n_channels, img_height, img_width)\n",
    "\n",
    "\n",
    "#--------------\n",
    "# Bias para a convolução\n",
    "bias_conv = np.ones(n_filters) * f_bias\n",
    "\n",
    "#--------------\n",
    "# Camada densa\n",
    "\n",
    "# Calculo do tamanho do vetor de pesos da camada densa (tente entender como foi calculado)\n",
    "n = (img_height-f_height+1)//2 * (img_width-f_width+1)//2 * n_filters\n",
    "\n",
    "# Definição dos pesos para a camada densa\n",
    "W_dense = np.ones(shape=(n,1))\n",
    "\n",
    "# Bias da camada densa\n",
    "bias_dense = np.ones(1) * f_bias\n",
    "\n",
    "#--------------\n",
    "# Colocar False para não ver inputs\n",
    "if False:\n",
    "    print(\"Pesos do kernel da convolução:\")\n",
    "    print(W_conv)\n",
    "\n",
    "    print(\"Bias da convolução:\")\n",
    "    print(bias_conv)\n",
    "\n",
    "    print(\"Pesos da camada densa:\")\n",
    "    print(W_dense)\n",
    "\n",
    "    print(\"Bias da camanda densa:\")\n",
    "    print(bias_dense)\n",
    "\n",
    "#--------------\n",
    "# Leitura do modelo\n",
    "#model = get_cnn_model_API(input_shape=input_shape)\n",
    "model = get_cnn_model_Sequential(input_shape=input_shape)\n",
    "\n",
    "# Adiciona os pesos em ordem\n",
    "model.set_weights([channels_l2f(W_conv), bias_conv, W_dense, bias_dense])\n",
    "\n",
    "show_deep_net(model, X, scale=50)"
   ]
  },
  {
   "cell_type": "markdown",
   "metadata": {},
   "source": [
    "## Sugestões de atividades\n",
    "\n",
    "1. Executar o experimento nos dois modos, API e Sequential.\n",
    "2. Mudar paramêtros das camadas convolucionais e analisar saídas. (filter_size e n_filters)\n",
    "3. Verificar relação entre número de parâmetros e filtros de convolução.\n",
    "4. Adicionar e retirar bias e comparar resultados do número de parâmetros e das saídas. (f_bias)\n"
   ]
  },
  {
   "cell_type": "markdown",
   "metadata": {},
   "source": [
    "## Referências\n",
    "\n",
    "- [Keras Documentation](https://keras.io/)\n"
   ]
  },
  {
   "cell_type": "markdown",
   "metadata": {},
   "source": [
    "## Aprendizados com este notebook\n"
   ]
  }
 ],
 "metadata": {
  "anaconda-cloud": {},
  "kernelspec": {
   "display_name": "Python 3",
   "language": "python",
   "name": "python3"
  },
  "language_info": {
   "codemirror_mode": {
    "name": "ipython",
    "version": 3
   },
   "file_extension": ".py",
   "mimetype": "text/x-python",
   "name": "python",
   "nbconvert_exporter": "python",
   "pygments_lexer": "ipython3",
   "version": "3.6.1"
  },
  "toc": {
   "colors": {
    "hover_highlight": "#DAA520",
    "running_highlight": "#FF0000",
    "selected_highlight": "#FFD700"
   },
   "moveMenuLeft": true,
   "nav_menu": {
    "height": "207px",
    "width": "252px"
   },
   "navigate_menu": true,
   "number_sections": true,
   "sideBar": true,
   "threshold": 4,
   "toc_cell": false,
   "toc_section_display": "block",
   "toc_window_display": false
  }
 },
 "nbformat": 4,
 "nbformat_minor": 1
}
