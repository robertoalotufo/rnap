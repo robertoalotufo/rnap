{
 "cells": [
  {
   "cell_type": "markdown",
   "metadata": {},
   "source": [
    "## Convolutional Autoencoder\n",
    "\n",
    "fonte: https://blog.keras.io/building-autoencoders-in-keras.html\n",
    "\n",
    "Este notebook apresenta autocodificadores convolucionais. Utiliza as amostras do MNIST para ilustrar o autocodificador."
   ]
  },
  {
   "cell_type": "code",
   "execution_count": 19,
   "metadata": {
    "ExecuteTime": {
     "end_time": "2017-05-28T12:18:54.287879",
     "start_time": "2017-05-28T12:18:54.279642"
    },
    "collapsed": true
   },
   "outputs": [],
   "source": [
    "import os\n",
    "#os.environ['KERAS_BACKEND'] = 'theano'\n",
    "#os.environ['THEANO_FLAGS'] = 'mode=FAST_RUN,device=gpu0,floatX=float32'\n",
    "# os.environ['THEANO_FLAGS'] = 'mode=FAST_RUN,device=cpu,floatX=float32'\n",
    "import keras.backend as K\n",
    "K.set_image_data_format(\"channels_first\")"
   ]
  },
  {
   "cell_type": "code",
   "execution_count": 20,
   "metadata": {
    "ExecuteTime": {
     "end_time": "2017-05-28T12:18:55.853500",
     "start_time": "2017-05-28T12:18:55.840092"
    },
    "collapsed": false
   },
   "outputs": [],
   "source": [
    "%matplotlib inline\n",
    "import matplotlib.pyplot as plot\n",
    "\n",
    "import sys\n",
    "import numpy as np\n",
    "from keras.layers import Input, Dense, Conv2D, MaxPooling2D, UpSampling2D\n",
    "from keras.models import Model\n",
    "from keras.datasets import mnist\n",
    "\n",
    "sys.path.append('../src/')\n",
    "from my_keras_utilities import (load_model_and_history, \n",
    "                                save_model_and_history, \n",
    "                                TrainingPlotter)"
   ]
  },
  {
   "cell_type": "code",
   "execution_count": 21,
   "metadata": {
    "ExecuteTime": {
     "end_time": "2017-05-28T12:18:58.181493",
     "start_time": "2017-05-28T12:18:56.925330"
    },
    "collapsed": true
   },
   "outputs": [],
   "source": [
    "(x_train, _), (x_test, _) = mnist.load_data()\n",
    "\n",
    "x_train = x_train.astype('float32') / 255.\n",
    "x_test = x_test.astype('float32') / 255.\n",
    "x_train = np.reshape(x_train, (len(x_train), 1, 28, 28))\n",
    "x_test = np.reshape(x_test, (len(x_test), 1, 28, 28))"
   ]
  },
  {
   "cell_type": "code",
   "execution_count": 22,
   "metadata": {
    "ExecuteTime": {
     "end_time": "2017-05-28T12:19:01.429475",
     "start_time": "2017-05-28T12:18:58.305392"
    },
    "collapsed": false
   },
   "outputs": [
    {
     "name": "stdout",
     "output_type": "stream",
     "text": [
      "Layers:\n",
      "   0: InputLayer      input_4\n",
      "   1: Conv2D          conv2d_16\n",
      "   2: MaxPooling2D    max_pooling2d_8\n",
      "   3: Conv2D          conv2d_17\n",
      "   4: MaxPooling2D    max_pooling2d_9\n",
      "   5: Conv2D          conv2d_18\n",
      "   6: MaxPooling2D    max_pooling2d_10\n",
      "   7: Conv2D          conv2d_19\n",
      "   8: UpSampling2D    up_sampling2d_7\n",
      "   9: Conv2D          conv2d_20\n",
      "  10: UpSampling2D    up_sampling2d_8\n",
      "  11: Conv2D          conv2d_21\n",
      "  12: UpSampling2D    up_sampling2d_9\n",
      "  13: Conv2D          conv2d_22\n",
      "\n",
      "_________________________________________________________________\n",
      "Layer (type)                 Output Shape              Param #   \n",
      "=================================================================\n",
      "input_4 (InputLayer)         (None, 1, 28, 28)         0         \n",
      "_________________________________________________________________\n",
      "conv2d_16 (Conv2D)           (None, 16, 28, 28)        160       \n",
      "_________________________________________________________________\n",
      "max_pooling2d_8 (MaxPooling2 (None, 16, 14, 14)        0         \n",
      "_________________________________________________________________\n",
      "conv2d_17 (Conv2D)           (None, 8, 14, 14)         1160      \n",
      "_________________________________________________________________\n",
      "max_pooling2d_9 (MaxPooling2 (None, 8, 7, 7)           0         \n",
      "_________________________________________________________________\n",
      "conv2d_18 (Conv2D)           (None, 8, 7, 7)           584       \n",
      "_________________________________________________________________\n",
      "max_pooling2d_10 (MaxPooling (None, 8, 4, 4)           0         \n",
      "_________________________________________________________________\n",
      "conv2d_19 (Conv2D)           (None, 8, 4, 4)           584       \n",
      "_________________________________________________________________\n",
      "up_sampling2d_7 (UpSampling2 (None, 8, 8, 8)           0         \n",
      "_________________________________________________________________\n",
      "conv2d_20 (Conv2D)           (None, 8, 8, 8)           584       \n",
      "_________________________________________________________________\n",
      "up_sampling2d_8 (UpSampling2 (None, 8, 16, 16)         0         \n",
      "_________________________________________________________________\n",
      "conv2d_21 (Conv2D)           (None, 16, 14, 14)        1168      \n",
      "_________________________________________________________________\n",
      "up_sampling2d_9 (UpSampling2 (None, 16, 28, 28)        0         \n",
      "_________________________________________________________________\n",
      "conv2d_22 (Conv2D)           (None, 1, 28, 28)         145       \n",
      "=================================================================\n",
      "Total params: 4,385\n",
      "Trainable params: 4,385\n",
      "Non-trainable params: 0\n",
      "_________________________________________________________________\n"
     ]
    }
   ],
   "source": [
    "model_name = 'autoencoder_conv_1'\n",
    "\n",
    "if not os.path.isfile(model_name + '.model'):\n",
    "    input_img = Input(shape=(1, 28, 28))\n",
    "\n",
    "    x = Conv2D(16, (3, 3), activation='relu', padding='same')(input_img)\n",
    "    x = MaxPooling2D((2, 2), padding='same')(x)\n",
    "    x = Conv2D(8, (3, 3), activation='relu', padding='same')(x)\n",
    "    x = MaxPooling2D((2, 2), padding='same')(x)\n",
    "    x = Conv2D(8, (3, 3), activation='relu', padding='same')(x)\n",
    "    encoded = MaxPooling2D((2, 2), padding='same')(x)\n",
    "\n",
    "    # at this point the representation is (8, 4, 4) i.e. 128-dimensional\n",
    "\n",
    "    x = Conv2D(8, (3, 3), activation='relu', padding='same')(encoded)\n",
    "    x = UpSampling2D((2, 2))(x)\n",
    "    x = Conv2D(8, (3, 3), activation='relu', padding='same')(x)\n",
    "    x = UpSampling2D((2, 2))(x)\n",
    "    x = Conv2D(16, (3, 3), activation='relu')(x)\n",
    "    x = UpSampling2D((2, 2))(x)\n",
    "    decoded = Conv2D(1, (3, 3), activation='sigmoid', padding='same')(x)\n",
    "\n",
    "    autoencoder = Model(input_img, decoded)\n",
    "    autoencoder.compile(optimizer='adadelta', loss='binary_crossentropy')\n",
    "    histo = TrainingPlotter(n=1, filepath=model_name, patience=10)\n",
    "\n",
    "else:\n",
    "    autoencoder, histo = load_model_and_history(model_name)\n",
    "\n",
    "print('Layers:')\n",
    "for i, layer in enumerate(autoencoder.layers):\n",
    "    print('  {:2d}: {:15s} {}'.format(i, layer.__class__.__name__, layer.name))\n",
    "print()\n",
    "autoencoder.summary()"
   ]
  },
  {
   "cell_type": "code",
   "execution_count": 17,
   "metadata": {
    "ExecuteTime": {
     "end_time": "2017-05-28T09:56:42.296222",
     "start_time": "2017-05-28T09:19:27.934006"
    },
    "collapsed": false
   },
   "outputs": [
    {
     "data": {
      "image/png": "[encoded data removed]",
      "text/plain": [
       "<matplotlib.figure.Figure at 0x11ef111d0>"
      ]
     },
     "metadata": {},
     "output_type": "display_data"
    }
   ],
   "source": [
    "nb_epochs = 50\n",
    "tr_epochs = histo.get_nepochs()\n",
    "\n",
    "fig = plot.figure(figsize=(15,6))\n",
    "plot.ylim(0.0, 0.2)\n",
    "plot.xlim(0, nb_epochs)\n",
    "plot.grid(True)\n",
    "\n",
    "try:\n",
    "    autoencoder.fit(x_train, x_train,\n",
    "                    epochs=nb_epochs - tr_epochs,\n",
    "                    batch_size=128,\n",
    "                    shuffle=True,\n",
    "                    verbose=0,\n",
    "                    validation_data=(x_test, x_test),\n",
    "                    callbacks=[histo])\n",
    "    \n",
    "except KeyboardInterrupt:\n",
    "    pass"
   ]
  },
  {
   "cell_type": "code",
   "execution_count": 18,
   "metadata": {
    "ExecuteTime": {
     "end_time": "2017-05-28T09:57:10.134716",
     "start_time": "2017-05-28T09:56:42.298826"
    },
    "collapsed": false
   },
   "outputs": [
    {
     "data": {
      "image/png": "[encoded data removed]",
      "text/plain": [
       "<matplotlib.figure.Figure at 0x1212249b0>"
      ]
     },
     "metadata": {},
     "output_type": "display_data"
    }
   ],
   "source": [
    "decoded_imgs = autoencoder.predict(x_test)\n",
    "\n",
    "n = 10\n",
    "plot.figure(figsize=(20, 4))\n",
    "for i in range(1,n+1):\n",
    "    # display original\n",
    "    ax = plot.subplot(2, n, i)\n",
    "    plot.imshow(x_test[i].reshape(28, 28))\n",
    "    plot.gray()\n",
    "    ax.get_xaxis().set_visible(False)\n",
    "    ax.get_yaxis().set_visible(False)\n",
    "\n",
    "    # display reconstruction\n",
    "    ax = plot.subplot(2, n, i + n)\n",
    "    plot.imshow(decoded_imgs[i].reshape(28, 28))\n",
    "    plot.gray()\n",
    "    ax.get_xaxis().set_visible(False)\n",
    "    ax.get_yaxis().set_visible(False)\n",
    "plot.show()\n"
   ]
  },
  {
   "cell_type": "markdown",
   "metadata": {
    "collapsed": true
   },
   "source": [
    "## Aprendizados com este notebook\n",
    "\n"
   ]
  }
 ],
 "metadata": {
  "anaconda-cloud": {},
  "kernelspec": {
   "display_name": "Python 3",
   "language": "python",
   "name": "python3"
  },
  "language_info": {
   "codemirror_mode": {
    "name": "ipython",
    "version": 3
   },
   "file_extension": ".py",
   "mimetype": "text/x-python",
   "name": "python",
   "nbconvert_exporter": "python",
   "pygments_lexer": "ipython3",
   "version": "3.6.0"
  },
  "toc": {
   "colors": {
    "hover_highlight": "#DAA520",
    "running_highlight": "#FF0000",
    "selected_highlight": "#FFD700"
   },
   "moveMenuLeft": true,
   "nav_menu": {
    "height": "48px",
    "width": "252px"
   },
   "navigate_menu": true,
   "number_sections": true,
   "sideBar": true,
   "threshold": 4,
   "toc_cell": false,
   "toc_section_display": "block",
   "toc_window_display": false
  }
 },
 "nbformat": 4,
 "nbformat_minor": 0
}
