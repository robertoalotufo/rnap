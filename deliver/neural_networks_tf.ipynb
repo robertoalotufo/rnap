{
 "cells": [
  {
   "cell_type": "code",
   "execution_count": 1,
   "metadata": {
    "collapsed": true
   },
   "outputs": [],
   "source": [
    "%matplotlib inline\n",
    "import matplotlib.pyplot as plot\n",
    "from IPython.display import display\n",
    "# To support both python 2 and python 3\n",
    "from __future__ import division, print_function, unicode_literals\n",
    "\n",
    "import time\n",
    "import numpy as np\n",
    "import numpy.random as nr\n",
    "import pandas as pd\n",
    "import tensorflow as tf\n",
    "\n",
    "np.set_printoptions(precision=3, linewidth=100, suppress=True)"
   ]
  },
  {
   "cell_type": "code",
   "execution_count": 2,
   "metadata": {
    "collapsed": false
   },
   "outputs": [
    {
     "name": "stdout",
     "output_type": "stream",
     "text": [
      "yval: (102, 1)\n",
      "ytra: (404, 1)\n",
      "Xval: (102, 12)\n",
      "Xtra: (404, 12)\n"
     ]
    }
   ],
   "source": [
    "data = np.load('../data/boston_housing.npz')\n",
    "for k, v in data.items():\n",
    "    print('{}: {}'.format(k, v.shape))\n",
    "Xtra, ytra = data['Xtra'], data['ytra']\n",
    "Xval, yval = data['Xval'], data['yval']\n",
    "M, N = Xtra.shape"
   ]
  },
  {
   "cell_type": "code",
   "execution_count": 6,
   "metadata": {
    "collapsed": true
   },
   "outputs": [],
   "source": [
    "layer_sizes = [N, 40, 20, 1]\n",
    "ninp, nh1, nh2, nout = layer_sizes \n",
    "n_epochs = 100\n",
    "batch_size = M\n",
    "lr = 0.2"
   ]
  },
  {
   "cell_type": "code",
   "execution_count": 7,
   "metadata": {
    "collapsed": false
   },
   "outputs": [],
   "source": [
    "tf.reset_default_graph()\n",
    "\n",
    "def neuron_layer(X, n_neurons, name, activation=None):\n",
    "    with tf.name_scope(name):\n",
    "        n_inputs = int(X.get_shape()[1])\n",
    "        W = tf.Variable(tf.zeros([n_inputs, n_neurons]), name=\"weights\")\n",
    "        b = tf.Variable(tf.zeros([n_neurons]), name=\"biases\")\n",
    "        \n",
    "        Z = tf.matmul(X, W) + b\n",
    "        if activation == 'sigmoid':\n",
    "            return tf.nn.sigmoid(Z)\n",
    "        else:\n",
    "            return Z\n",
    "\n",
    "X = tf.placeholder(tf.float32, shape=(None, N), name=\"X\")\n",
    "y = tf.placeholder(tf.float32, shape=(None, 1), name=\"y\")\n",
    "\n",
    "with tf.name_scope(\"dnn\"):\n",
    "    hidden1 = neuron_layer(X, nh1, \"hidden1\", activation=\"sigmoid\")\n",
    "    hidden2 = neuron_layer(hidden1, nh2, \"hidden2\", activation=\"sigmoid\")\n",
    "    output  = neuron_layer(hidden2, nout, \"output\")\n",
    "\n",
    "with tf.name_scope(\"loss\"):\n",
    "    loss = tf.reduce_mean(tf.square(y - output), name=\"loss\") / 2\n",
    "\n",
    "with tf.name_scope(\"train\"):\n",
    "    optimizer = tf.train.GradientDescentOptimizer(lr)\n",
    "    training_op = optimizer.minimize(loss)\n",
    "\n",
    "with tf.name_scope(\"eval\"):\n",
    "    mserr = tf.reduce_mean(tf.square(y - output), name=\"mserr\")\n",
    "\n",
    "init = tf.global_variables_initializer()\n"
   ]
  },
  {
   "cell_type": "code",
   "execution_count": 8,
   "metadata": {
    "collapsed": false,
    "scrolled": false
   },
   "outputs": [
    {
     "name": "stdout",
     "output_type": "stream",
     "text": [
      "0  Train MSE: 58.9913  Test MSE: 53.2901\n",
      "10  Train MSE: 28.5647  Test MSE: 21.7618\n",
      "20  Train MSE: 22.9341  Test MSE: 15.2929\n",
      "30  Train MSE: 19.9949  Test MSE: 11.834\n",
      "40  Train MSE: 18.7864  Test MSE: 10.3072\n",
      "50  Train MSE: 18.2359  Test MSE: 9.69335\n",
      "60  Train MSE: 17.9174  Test MSE: 9.46379\n",
      "70  Train MSE: 17.7132  Test MSE: 9.40291\n",
      "80  Train MSE: 17.5745  Test MSE: 9.41654\n",
      "90  Train MSE: 17.4752  Test MSE: 9.46131\n",
      "99  Train MSE: 17.4066  Test MSE: 9.51103\n",
      "\n",
      "Trained in 0.312008s\n",
      "\n",
      "MSE: 9.51103\n",
      "\n",
      "y_hat [ 21.747  15.463  10.428  13.336   9.887   9.996   5.655   8.838  16.974  12.096]\n",
      "y_val [ 29.05  16.21   9.74   5.5    8.44  13.59   4.61   7.51  17.93  14.36]\n",
      "\n"
     ]
    },
    {
     "data": {
      "image/png": "[encoded data removed]",
      "text/plain": [
       "<matplotlib.figure.Figure at 0x7f399c4ded30>"
      ]
     },
     "metadata": {},
     "output_type": "display_data"
    }
   ],
   "source": [
    "with tf.Session() as sess:\n",
    "    init.run()\n",
    "    mse_train = np.empty((n_epochs,), np.float32)\n",
    "    mse_valid = np.empty((n_epochs,), np.float32)\n",
    "    t0 = time.time()\n",
    "    for epoch in range(n_epochs):\n",
    "        for ii in range(M // batch_size):\n",
    "            kk = batch_size * ii\n",
    "            X_batch, y_batch = Xtra[kk:kk+batch_size], ytra[kk:kk+batch_size]\n",
    "            \n",
    "            sess.run(training_op, feed_dict={X: X_batch, y: y_batch})\n",
    "\n",
    "        mse_train[epoch] = mserr.eval(feed_dict={X: X_batch, y: y_batch})\n",
    "        mse_valid[epoch] = mserr.eval(feed_dict={X: Xval,    y: yval})\n",
    "        \n",
    "        if not epoch % (n_epochs//10):\n",
    "            print(epoch, \" Train MSE:\", mse_train[epoch], \" Test MSE:\", mse_valid[epoch])\n",
    "\n",
    "    t1 = time.time()\n",
    "    print(epoch, \" Train MSE:\", mse_train[epoch], \" Test MSE:\", mse_valid[epoch])\n",
    "\n",
    "    print('\\nTrained in {:2f}s'.format(t1-t0))\n",
    "    print()\n",
    "    yhat = output.eval(feed_dict={X: Xval, y: yval})\n",
    "    mse = np.square(yhat - yval).mean()\n",
    "    print('MSE:', mse)\n",
    "    print()\n",
    "    print('y_hat', yhat[:10,0])\n",
    "    print('y_val', yval[:10,0])\n",
    "    print()\n",
    "    \n",
    "\n",
    "plot.plot(mse_train, label='train')\n",
    "plot.plot(mse_valid, label='validation')\n",
    "plot.ylim(0, 50)\n",
    "plot.legend()\n",
    "plot.title('Mean Squared Error');\n"
   ]
  },
  {
   "cell_type": "code",
   "execution_count": null,
   "metadata": {
    "collapsed": true
   },
   "outputs": [],
   "source": []
  }
 ],
 "metadata": {
  "kernelspec": {
   "display_name": "Python 3",
   "language": "python",
   "name": "python3"
  },
  "language_info": {
   "codemirror_mode": {
    "name": "ipython",
    "version": 3
   },
   "file_extension": ".py",
   "mimetype": "text/x-python",
   "name": "python",
   "nbconvert_exporter": "python",
   "pygments_lexer": "ipython3",
   "version": "3.4.3"
  },
  "toc": {
   "colors": {
    "hover_highlight": "#DAA520",
    "running_highlight": "#FF0000",
    "selected_highlight": "#FFD700"
   },
   "moveMenuLeft": true,
   "nav_menu": {
    "height": "12px",
    "width": "252px"
   },
   "navigate_menu": true,
   "number_sections": true,
   "sideBar": true,
   "threshold": 4,
   "toc_cell": false,
   "toc_section_display": "block",
   "toc_window_display": false,
   "widenNotebook": false
  }
 },
 "nbformat": 4,
 "nbformat_minor": 2
}
