{
 "cells": [
  {
   "cell_type": "code",
   "execution_count": 1,
   "metadata": {
    "collapsed": true,
    "deletable": true,
    "editable": true
   },
   "outputs": [],
   "source": [
    "%matplotlib inline\n",
    "import matplotlib.pyplot as plot\n",
    "from IPython.display import display\n",
    "# To support both python 2 and python 3\n",
    "from __future__ import division, print_function, unicode_literals\n",
    "\n",
    "import time\n",
    "import numpy as np\n",
    "import numpy.random as nr\n",
    "import pandas as pd\n",
    "import tensorflow as tf\n",
    "\n",
    "np.set_printoptions(precision=3, linewidth=100, suppress=True)"
   ]
  },
  {
   "cell_type": "code",
   "execution_count": 2,
   "metadata": {
    "collapsed": false,
    "deletable": true,
    "editable": true
   },
   "outputs": [
    {
     "name": "stdout",
     "output_type": "stream",
     "text": [
      "Xtra: (404, 12)\n",
      "Xval: (102, 12)\n",
      "ytra: (404, 1)\n",
      "yval: (102, 1)\n"
     ]
    }
   ],
   "source": [
    "data = np.load('../data/boston_housing.npz')\n",
    "for k, v in data.items():\n",
    "    print('{}: {}'.format(k, v.shape))\n",
    "Xtra, ytra = data['Xtra'], data['ytra']\n",
    "Xval, yval = data['Xval'], data['yval']\n",
    "M, N = Xtra.shape"
   ]
  },
  {
   "cell_type": "code",
   "execution_count": 3,
   "metadata": {
    "collapsed": true,
    "deletable": true,
    "editable": true
   },
   "outputs": [],
   "source": [
    "layer_sizes = [N, 40, 20, 1]\n",
    "ninp, nh1, nh2, nout = layer_sizes \n",
    "n_epochs = 1500\n",
    "batch_size = M\n",
    "lr = 0.1"
   ]
  },
  {
   "cell_type": "code",
   "execution_count": 4,
   "metadata": {
    "collapsed": false,
    "deletable": true,
    "editable": true
   },
   "outputs": [],
   "source": [
    "tf.reset_default_graph()\n",
    "\n",
    "def neuron_layer(X, n_neurons, name, activation=None):\n",
    "    with tf.name_scope(name):\n",
    "        n_inputs = int(X.get_shape()[1])\n",
    "        W = tf.Variable(tf.zeros([n_inputs, n_neurons]), name=\"weights\")\n",
    "        b = tf.Variable(tf.zeros([n_neurons]), name=\"biases\")\n",
    "        \n",
    "        Z = tf.matmul(X, W) + b\n",
    "        if activation == 'sigmoid':\n",
    "            return tf.nn.sigmoid(Z)\n",
    "        else:\n",
    "            return Z\n",
    "\n",
    "X = tf.placeholder(tf.float32, shape=(None, N), name=\"X\")\n",
    "y = tf.placeholder(tf.float32, shape=(None, 1), name=\"y\")\n",
    "\n",
    "with tf.name_scope(\"dnn\"):\n",
    "    hidden1 = neuron_layer(X, nh1, \"hidden1\", activation=\"sigmoid\")\n",
    "    hidden2 = neuron_layer(hidden1, nh2, \"hidden2\", activation=\"sigmoid\")\n",
    "    output  = neuron_layer(hidden2, nout, \"output\")\n",
    "\n",
    "with tf.name_scope(\"loss\"):\n",
    "    loss = tf.reduce_mean(tf.square(y - output), name=\"loss\") / 2\n",
    "\n",
    "with tf.name_scope(\"train\"):\n",
    "    optimizer = tf.train.GradientDescentOptimizer(lr)\n",
    "    training_op = optimizer.minimize(loss)\n",
    "\n",
    "with tf.name_scope(\"eval\"):\n",
    "    mserr = tf.reduce_mean(tf.square(y - output), name=\"mserr\")\n",
    "\n",
    "init = tf.global_variables_initializer()\n"
   ]
  },
  {
   "cell_type": "code",
   "execution_count": 5,
   "metadata": {
    "collapsed": false,
    "deletable": true,
    "editable": true,
    "scrolled": false
   },
   "outputs": [
    {
     "name": "stdout",
     "output_type": "stream",
     "text": [
      "0  Train MSE: 164.868  Test MSE: 176.201\n",
      "150  Train MSE: 28.7421  Test MSE: 30.6887\n",
      "300  Train MSE: 23.9693  Test MSE: 28.7293\n",
      "450  Train MSE: 23.2085  Test MSE: 28.6606\n",
      "600  Train MSE: 22.8802  Test MSE: 28.5914\n",
      "750  Train MSE: 22.7022  Test MSE: 28.5418\n",
      "900  Train MSE: 22.5949  Test MSE: 28.5083\n",
      "1050  Train MSE: 22.5256  Test MSE: 28.4852\n",
      "1200  Train MSE: 22.4782  Test MSE: 28.4685\n",
      "1350  Train MSE: 22.4439  Test MSE: 28.4557\n",
      "1499  Train MSE: 22.2746  Test MSE: 27.1137\n",
      "\n",
      "Trained in 2.228276s\n",
      "\n",
      "MSE: 27.1137\n",
      "\n",
      "y_hat [ 13.591  20.505  20.236  27.931  23.001  22.236  29.882  22.408  20.288  26.095]\n",
      "y_val [  7.2  18.8  19.   27.   22.2  24.5  31.2  22.9  20.5  23.2]\n",
      "\n"
     ]
    },
    {
     "data": {
      "image/png": "[encoded data removed]",
      "text/plain": [
       "<matplotlib.figure.Figure at 0x7f210b223c50>"
      ]
     },
     "metadata": {},
     "output_type": "display_data"
    }
   ],
   "source": [
    "with tf.Session() as sess:\n",
    "    init.run()\n",
    "    mse_train = np.empty((n_epochs,), np.float32)\n",
    "    mse_valid = np.empty((n_epochs,), np.float32)\n",
    "    t0 = time.time()\n",
    "    for epoch in range(n_epochs):\n",
    "        for ii in range(M // batch_size):\n",
    "            kk = batch_size * ii\n",
    "            X_batch, y_batch = Xtra[kk:kk+batch_size], ytra[kk:kk+batch_size]\n",
    "            \n",
    "            sess.run(training_op, feed_dict={X: X_batch, y: y_batch})\n",
    "\n",
    "        mse_train[epoch] = mserr.eval(feed_dict={X: X_batch, y: y_batch})\n",
    "        mse_valid[epoch] = mserr.eval(feed_dict={X: Xval,    y: yval})\n",
    "        \n",
    "        if not epoch % (n_epochs//10):\n",
    "            print(epoch, \" Train MSE:\", mse_train[epoch], \" Test MSE:\", mse_valid[epoch])\n",
    "\n",
    "    t1 = time.time()\n",
    "    print(epoch, \" Train MSE:\", mse_train[epoch], \" Test MSE:\", mse_valid[epoch])\n",
    "\n",
    "    print('\\nTrained in {:2f}s'.format(t1-t0))\n",
    "    print()\n",
    "    yhat = output.eval(feed_dict={X: Xval, y: yval})\n",
    "    mse = np.square(yhat - yval).mean()\n",
    "    print('MSE:', mse)\n",
    "    print()\n",
    "    print('y_hat', yhat[:10,0])\n",
    "    print('y_val', yval[:10,0])\n",
    "    print()\n",
    "    \n",
    "\n",
    "plot.plot(mse_train, label='train')\n",
    "plot.plot(mse_valid, label='validation')\n",
    "plot.ylim(0, 50)\n",
    "plot.legend()\n",
    "plot.grid()\n",
    "plot.title('Mean Squared Error');\n"
   ]
  },
  {
   "cell_type": "code",
   "execution_count": null,
   "metadata": {
    "collapsed": true,
    "deletable": true,
    "editable": true
   },
   "outputs": [],
   "source": []
  }
 ],
 "metadata": {
  "kernelspec": {
   "display_name": "Python 3",
   "language": "python",
   "name": "python3"
  },
  "language_info": {
   "codemirror_mode": {
    "name": "ipython",
    "version": 3
   },
   "file_extension": ".py",
   "mimetype": "text/x-python",
   "name": "python",
   "nbconvert_exporter": "python",
   "pygments_lexer": "ipython3",
   "version": "3.4.3"
  },
  "toc": {
   "colors": {
    "hover_highlight": "#DAA520",
    "running_highlight": "#FF0000",
    "selected_highlight": "#FFD700"
   },
   "moveMenuLeft": true,
   "nav_menu": {
    "height": "12px",
    "width": "252px"
   },
   "navigate_menu": true,
   "number_sections": true,
   "sideBar": true,
   "threshold": 4,
   "toc_cell": false,
   "toc_section_display": "block",
   "toc_window_display": false,
   "widenNotebook": false
  }
 },
 "nbformat": 4,
 "nbformat_minor": 2
}
