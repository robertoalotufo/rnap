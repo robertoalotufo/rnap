{
 "cells": [
  {
   "cell_type": "markdown",
   "metadata": {},
   "source": [
    "# Curso Deep Learning - Exercício pré-curso Python - NumPy"
   ]
  },
  {
   "cell_type": "markdown",
   "metadata": {},
   "source": [
    "Este é um notebook Jupyter contendo exercícios de programação matricial utilizando o Python e biblioteca NumPy.\n",
    "Estes exercícios servem para familiarizar o participante na linguagem Python para manipulação matricial.\n",
    "\n",
    "Esta lista de exercício é um guia de estudo. Para fazer os exercícios será necessário estudar o Python, consultar\n",
    "documentação e tutoriais disponíveis na Internet.\n",
    "\n",
    "Estes exercícios são de dificuldade **intermediária para difícil**, pois a programação matricial não é uma forma\n",
    "usual de programação, principalmente para quem está acostumado a programar com laços explícitos como num \n",
    "programa escrito em C para percorrer todos os elementos de uma matriz. Em Python-NumPy deve-se evitar o uso\n",
    "de laços explícitos e utilizar operações matriciais. É mais eficiente e deixa o código bem mais compacto.\n",
    "\n",
    "Não se preocupe caso não consiga fazer todos os exercícios."
   ]
  },
  {
   "cell_type": "markdown",
   "metadata": {},
   "source": [
    "### Python"
   ]
  },
  {
   "cell_type": "markdown",
   "metadata": {},
   "source": [
    "O curso será feito utilizando a versão Python 3.6, assim recomenda-se que estes exercícios sejam feitos com o Python 3.\n",
    "Recomenda-se instalar o Jupyter e o Python utilizando-se o [Anaconda](https://www.continuum.io/downloads) - uma distribuição\n",
    "focada em Data Science, contendo os principais pacotes usados nesta área."
   ]
  },
  {
   "cell_type": "markdown",
   "metadata": {},
   "source": [
    "### Jupyter notebook"
   ]
  },
  {
   "cell_type": "markdown",
   "metadata": {},
   "source": [
    "Este é um Notebook Jupyter. Um notebook Jupyter é uma mistura de linguagem Markdown para formatar texto (como uma Wiki) e um programa Python. É muito usado entre as pessoas que trabalham com Data Science e Machine Learning em Python. Se você precisar de ajuda sobre como usar os Notebooks Jupyter, veja [beginner-guide](https://jupyter-notebook-beginner-guide.readthedocs.io/en/latest/)."
   ]
  },
  {
   "cell_type": "markdown",
   "metadata": {},
   "source": [
    "Você pode adicionar quantas células quiser neste notebook para deixar suas respostas bem organizadas."
   ]
  },
  {
   "cell_type": "markdown",
   "metadata": {},
   "source": [
    "# Exercícios básicos"
   ]
  },
  {
   "cell_type": "markdown",
   "metadata": {},
   "source": [
    "Vamos começar! Comece imprimindo seu nome e e-mail aqui:"
   ]
  },
  {
   "cell_type": "code",
   "execution_count": 1,
   "metadata": {
    "ExecuteTime": {
     "end_time": "2017-08-27T12:06:40.732853",
     "start_time": "2017-08-27T12:06:40.726767"
    },
    "collapsed": false
   },
   "outputs": [
    {
     "name": "stdout",
     "output_type": "stream",
     "text": [
      "My name is \n",
      "My email is \n"
     ]
    }
   ],
   "source": [
    "# preencha com seus dados\n",
    "print('My name is ')\n",
    "print('My email is ')"
   ]
  },
  {
   "cell_type": "markdown",
   "metadata": {},
   "source": [
    "## Listas"
   ]
  },
  {
   "cell_type": "markdown",
   "metadata": {
    "ExecuteTime": {
     "end_time": "2017-07-11T19:32:04.310368",
     "start_time": "2017-07-11T19:32:04.302283"
    }
   },
   "source": [
    "Seguem alguns exercícios com lista. Python é muito bom para processar listas. Uma lista é uma sequência de elementos \n",
    "separados por vírgula dentro de chaves:"
   ]
  },
  {
   "cell_type": "code",
   "execution_count": 2,
   "metadata": {
    "ExecuteTime": {
     "end_time": "2017-08-27T12:06:40.743996",
     "start_time": "2017-08-27T12:06:40.740718"
    },
    "collapsed": true
   },
   "outputs": [],
   "source": [
    "mylist = [5, 8, 'abc', 0, 8.3]"
   ]
  },
  {
   "cell_type": "markdown",
   "metadata": {
    "ExecuteTime": {
     "end_time": "2017-07-11T19:20:42.951254",
     "start_time": "2017-07-11T19:20:42.947609"
    }
   },
   "source": [
    "### Imprimindo o número de elementos de uma `mylist` e alguns de seus elementos"
   ]
  },
  {
   "cell_type": "code",
   "execution_count": 3,
   "metadata": {
    "ExecuteTime": {
     "end_time": "2017-08-27T12:06:40.757058",
     "start_time": "2017-08-27T12:06:40.749421"
    },
    "collapsed": false
   },
   "outputs": [
    {
     "name": "stdout",
     "output_type": "stream",
     "text": [
      "5\n",
      "5\n",
      "8.3\n"
     ]
    }
   ],
   "source": [
    "print(len(mylist))\n",
    "print(mylist[0])\n",
    "print(mylist[-1])  # observe o índice -1 (o que isso significa?)"
   ]
  },
  {
   "cell_type": "markdown",
   "metadata": {},
   "source": [
    "## Seja uma lista de 10 elementos numéricos sequenciais, começando em zero"
   ]
  },
  {
   "cell_type": "markdown",
   "metadata": {},
   "source": [
    "Aqui será utilizado um for para criar a lista. Este tipo de construção é denominado \"List Compreension\" ou\n",
    "\"Compreensão de Lista\" em portugues. Coloque este termo no Google adicionando python na frente na forma:\n",
    "\"python copreension list\" e você poderá ver vários exemplos e tutoriais sobre o assunto.\n",
    "\n",
    "Neste curso, usaremos muito pouco este recurso pois ele possui um laço explícito para gerar os elementos da\n",
    "lista. Mais à frente iremos fazer o mesmo exercícios em NumPy utilizando arrays e daí não existirá o laço explícito."
   ]
  },
  {
   "cell_type": "code",
   "execution_count": 4,
   "metadata": {
    "ExecuteTime": {
     "end_time": "2017-08-27T12:06:40.767631",
     "start_time": "2017-08-27T12:06:40.762138"
    },
    "collapsed": false
   },
   "outputs": [
    {
     "name": "stdout",
     "output_type": "stream",
     "text": [
      "[0, 1, 2, 3, 4, 5, 6, 7, 8, 9]\n"
     ]
    }
   ],
   "source": [
    "a = [i for i in range(10)]\n",
    "print(a)"
   ]
  },
  {
   "cell_type": "markdown",
   "metadata": {},
   "source": [
    "## Fatiamento em Python"
   ]
  },
  {
   "cell_type": "markdown",
   "metadata": {},
   "source": [
    "Um conceito fundamental em Python é o do fatiamento \"slicing\", em inglês. É um conceito que será muito usado\n",
    "durante todo o curso. Estude bem isso. Inicialmente iremos trabalhar com fatiamento de lista, mas posteriormente\n",
    "com arrays (ou tensores) utilizando o NumPy"
   ]
  },
  {
   "cell_type": "code",
   "execution_count": 5,
   "metadata": {
    "ExecuteTime": {
     "end_time": "2017-08-27T12:06:40.780493",
     "start_time": "2017-08-27T12:06:40.776268"
    },
    "collapsed": false
   },
   "outputs": [
    {
     "name": "stdout",
     "output_type": "stream",
     "text": [
      "[3, 4]\n"
     ]
    }
   ],
   "source": [
    "print(a[3:5])"
   ]
  },
  {
   "cell_type": "markdown",
   "metadata": {},
   "source": [
    "### Criar e imprimir uma lista a partir da lista \"a\" já criada, porém apenas alguns elementos"
   ]
  },
  {
   "cell_type": "code",
   "execution_count": 6,
   "metadata": {
    "ExecuteTime": {
     "end_time": "2017-08-27T12:06:40.789149",
     "start_time": "2017-08-27T12:06:40.782607"
    },
    "collapsed": false
   },
   "outputs": [
    {
     "name": "stdout",
     "output_type": "stream",
     "text": [
      "[0, 1, 2, 3, 4, 5, 6, 7, 8, 9]\n",
      "[0, 1, 2, 3, 4, 5, 6, 7, 8, 9]\n",
      "[0, 1, 2, 3, 4, 5, 6, 7, 8, 9]\n",
      "[0, 1, 2, 3, 4, 5, 6, 7, 8, 9]\n"
     ]
    }
   ],
   "source": [
    "# imprima os elementos ímpares de a\n",
    "print(a[:])\n",
    "# imprima os elementos pares de a\n",
    "print(a[:])\n",
    "# imprima os últimos 3 elementos da lista (utilize índice negativo, pesquise na Internet)\n",
    "print(a[:])\n",
    "# Imprima os 3 primeiros elementos da lista (veja quando é possível ignorar valores iniciais e finais)\n",
    "print(a[:])"
   ]
  },
  {
   "cell_type": "code",
   "execution_count": 7,
   "metadata": {
    "ExecuteTime": {
     "end_time": "2017-08-27T12:06:40.801682",
     "start_time": "2017-08-27T12:06:40.794919"
    },
    "collapsed": false
   },
   "outputs": [
    {
     "name": "stdout",
     "output_type": "stream",
     "text": [
      "[0, 2, 4, 6, 8]\n",
      "[9, 8, 7, 6, 5, 4, 3, 2, 1, 0]\n"
     ]
    }
   ],
   "source": [
    "# Veja o significado do passo:\n",
    "print(a[::2])\n",
    "print(a[::-1])"
   ]
  },
  {
   "cell_type": "code",
   "execution_count": 8,
   "metadata": {
    "ExecuteTime": {
     "end_time": "2017-08-27T12:06:40.812602",
     "start_time": "2017-08-27T12:06:40.807600"
    },
    "collapsed": false
   },
   "outputs": [
    {
     "name": "stdout",
     "output_type": "stream",
     "text": [
      "[0, 1, 2, 3, 4, 5, 6, 7, 8, 9]\n"
     ]
    }
   ],
   "source": [
    "# imprima os elementos ímpares na order reversa, do maior para o menor\n",
    "print(a[:])"
   ]
  },
  {
   "cell_type": "markdown",
   "metadata": {},
   "source": [
    "## Tuplas"
   ]
  },
  {
   "cell_type": "code",
   "execution_count": 9,
   "metadata": {
    "ExecuteTime": {
     "end_time": "2017-08-27T12:06:40.822397",
     "start_time": "2017-08-27T12:06:40.816462"
    },
    "collapsed": false
   },
   "outputs": [
    {
     "name": "stdout",
     "output_type": "stream",
     "text": [
      "(0, 1, 2, 3, 4, 5, 6, 7, 8, 9)\n"
     ]
    }
   ],
   "source": [
    "b = tuple(a)\n",
    "print(b)"
   ]
  },
  {
   "cell_type": "markdown",
   "metadata": {},
   "source": [
    "A principal diferença entre uma lista e uma tupla é:"
   ]
  },
  {
   "cell_type": "markdown",
   "metadata": {},
   "source": [
    "# Exercícios usando NumPy"
   ]
  },
  {
   "cell_type": "markdown",
   "metadata": {},
   "source": [
    "Os seguintes exercícios devem usar apenas o pacote NumPy.\n",
    "Não se deve utilizar nenhum outro pacote adicional.\n",
    "\n",
    "Existem vários exemplos de uso de NumPy no conjunto de\n",
    "notebooks tutorias disponíveis no GitHub:\n",
    "- https://github.com/robertoalotufo/ia898/blob/master/master/0_index.ipynb"
   ]
  },
  {
   "cell_type": "code",
   "execution_count": 10,
   "metadata": {
    "ExecuteTime": {
     "end_time": "2017-08-27T12:06:41.339622",
     "start_time": "2017-08-27T12:06:40.827259"
    },
    "collapsed": true
   },
   "outputs": [],
   "source": [
    "import numpy as np"
   ]
  },
  {
   "cell_type": "code",
   "execution_count": 11,
   "metadata": {
    "ExecuteTime": {
     "end_time": "2017-08-27T12:06:41.347392",
     "start_time": "2017-08-27T12:06:41.341772"
    },
    "collapsed": false
   },
   "outputs": [
    {
     "name": "stdout",
     "output_type": "stream",
     "text": [
      "[0 1 2 3 4 5 6 7 8 9]\n"
     ]
    }
   ],
   "source": [
    "array = np.arange(10)\n",
    "print(array)"
   ]
  },
  {
   "cell_type": "code",
   "execution_count": 12,
   "metadata": {
    "ExecuteTime": {
     "end_time": "2017-08-27T12:06:41.354964",
     "start_time": "2017-08-27T12:06:41.349538"
    },
    "collapsed": false
   },
   "outputs": [
    {
     "name": "stdout",
     "output_type": "stream",
     "text": [
      "[[ 0  1  2  3  4  5]\n",
      " [ 6  7  8  9 10 11]\n",
      " [12 13 14 15 16 17]\n",
      " [18 19 20 21 22 23]]\n"
     ]
    }
   ],
   "source": [
    "A = np.arange(24).reshape(4,6)\n",
    "print(A)"
   ]
  },
  {
   "cell_type": "markdown",
   "metadata": {},
   "source": [
    "### rows, cols, dimensions, shape and datatype"
   ]
  },
  {
   "cell_type": "code",
   "execution_count": 13,
   "metadata": {
    "ExecuteTime": {
     "end_time": "2017-08-27T12:06:41.363682",
     "start_time": "2017-08-27T12:06:41.357300"
    },
    "collapsed": false
   },
   "outputs": [
    {
     "name": "stdout",
     "output_type": "stream",
     "text": [
      "\n",
      "\n",
      "\n",
      "\n",
      "\n"
     ]
    }
   ],
   "source": [
    "# imprima o número de linhas de A\n",
    "print()\n",
    "# imprima o número de colunas de A\n",
    "print()\n",
    "# imprima o número de dimensões de A\n",
    "print()\n",
    "# imprima o shape de A:\n",
    "print()\n",
    "# imprima o tipo de dados (dtype) dos elementos de A:\n",
    "print()"
   ]
  },
  {
   "cell_type": "markdown",
   "metadata": {},
   "source": [
    "### Reshape"
   ]
  },
  {
   "cell_type": "code",
   "execution_count": 14,
   "metadata": {
    "ExecuteTime": {
     "end_time": "2017-08-27T12:06:41.371302",
     "start_time": "2017-08-27T12:06:41.365719"
    },
    "collapsed": false
   },
   "outputs": [
    {
     "name": "stdout",
     "output_type": "stream",
     "text": [
      "[1 2 3 4] (4,)\n"
     ]
    }
   ],
   "source": [
    "# Seja o vetor unidimension a:\n",
    "a = np.array([1,2,3,4])\n",
    "print(a, a.shape)"
   ]
  },
  {
   "cell_type": "code",
   "execution_count": 15,
   "metadata": {
    "ExecuteTime": {
     "end_time": "2017-08-27T12:06:41.378698",
     "start_time": "2017-08-27T12:06:41.373659"
    },
    "collapsed": false
   },
   "outputs": [
    {
     "name": "stdout",
     "output_type": "stream",
     "text": [
      "[1 2 3 4]\n"
     ]
    }
   ],
   "source": [
    "# converta o vetor unidimensional a em uma matriz vetor coluna (4 linhas e 1 coluna) utilizando reshape\n",
    "a = a\n",
    "print(a)"
   ]
  },
  {
   "cell_type": "markdown",
   "metadata": {},
   "source": [
    "## Operações aritméticas"
   ]
  },
  {
   "cell_type": "code",
   "execution_count": 16,
   "metadata": {
    "ExecuteTime": {
     "end_time": "2017-08-27T12:06:41.397073",
     "start_time": "2017-08-27T12:06:41.380484"
    },
    "collapsed": false
   },
   "outputs": [
    {
     "data": {
      "text/plain": [
       "array([[10, 11, 12, 13, 14, 15],\n",
       "       [16, 17, 18, 19, 20, 21],\n",
       "       [22, 23, 24, 25, 26, 27],\n",
       "       [28, 29, 30, 31, 32, 33]])"
      ]
     },
     "execution_count": 16,
     "metadata": {},
     "output_type": "execute_result"
    }
   ],
   "source": [
    "B = A + 10\n",
    "B"
   ]
  },
  {
   "cell_type": "markdown",
   "metadata": {},
   "source": [
    "### Array binário (booleano)"
   ]
  },
  {
   "cell_type": "code",
   "execution_count": 17,
   "metadata": {
    "ExecuteTime": {
     "end_time": "2017-08-27T12:06:41.404627",
     "start_time": "2017-08-27T12:06:41.399310"
    },
    "collapsed": false
   },
   "outputs": [
    {
     "name": "stdout",
     "output_type": "stream",
     "text": [
      "[[10 11 12 13 14 15]\n",
      " [16 17 18 19 20 21]\n",
      " [22 23 24 25 26 27]\n",
      " [28 29 30 31 32 33]]\n"
     ]
    }
   ],
   "source": [
    "# crie uma matriz booleana C com True nos elementos de B menores que 18 (não utilize loop explícito)\n",
    "C = B # modify your code here\n",
    "print(C)"
   ]
  },
  {
   "cell_type": "markdown",
   "metadata": {},
   "source": [
    "## Indexação booleana"
   ]
  },
  {
   "cell_type": "markdown",
   "metadata": {},
   "source": [
    "Veja um programa que cria matriz D_loop a partir da matriz B, porém trocando os elementos menores que 18 por seus valores negativos"
   ]
  },
  {
   "cell_type": "code",
   "execution_count": 18,
   "metadata": {
    "ExecuteTime": {
     "end_time": "2017-08-27T12:06:41.413672",
     "start_time": "2017-08-27T12:06:41.406940"
    },
    "collapsed": false
   },
   "outputs": [
    {
     "name": "stdout",
     "output_type": "stream",
     "text": [
      "[[-10 -11 -12 -13 -14 -15]\n",
      " [-16 -17  18  19  20  21]\n",
      " [ 22  23  24  25  26  27]\n",
      " [ 28  29  30  31  32  33]]\n"
     ]
    }
   ],
   "source": [
    "D_loop = B.copy()\n",
    "for row in np.arange(B.shape[0]):\n",
    "    for col in np.arange(B.shape[1]):\n",
    "        if B[row,col] < 18:\n",
    "            D_loop[row,col] = - B[row,col]\n",
    "print(D_loop)"
   ]
  },
  {
   "cell_type": "markdown",
   "metadata": {},
   "source": [
    "### Troque o programa acima por uma única linha sem loop"
   ]
  },
  {
   "cell_type": "code",
   "execution_count": 19,
   "metadata": {
    "ExecuteTime": {
     "end_time": "2017-08-27T12:06:41.420462",
     "start_time": "2017-08-27T12:06:41.415673"
    },
    "collapsed": false
   },
   "outputs": [
    {
     "name": "stdout",
     "output_type": "stream",
     "text": [
      "[[10 11 12 13 14 15]\n",
      " [16 17 18 19 20 21]\n",
      " [22 23 24 25 26 27]\n",
      " [28 29 30 31 32 33]]\n"
     ]
    }
   ],
   "source": [
    "D = B   # << modifique aqui utilizando indexação booleana\n",
    "print(D)"
   ]
  },
  {
   "cell_type": "markdown",
   "metadata": {},
   "source": [
    "## Redução de eixo: soma"
   ]
  },
  {
   "cell_type": "markdown",
   "metadata": {},
   "source": [
    "Operações matriciais de redução de eixo são muito úteis e importantes.\n",
    "É um conceito importante da programação matricial.\n",
    "\n",
    "Estude o exemplo a seguir:"
   ]
  },
  {
   "cell_type": "code",
   "execution_count": 20,
   "metadata": {
    "ExecuteTime": {
     "end_time": "2017-08-27T12:06:41.429982",
     "start_time": "2017-08-27T12:06:41.422973"
    },
    "collapsed": false
   },
   "outputs": [
    {
     "name": "stdout",
     "output_type": "stream",
     "text": [
      "[[ 0  1  2  3  4  5]\n",
      " [ 6  7  8  9 10 11]\n",
      " [12 13 14 15 16 17]\n",
      " [18 19 20 21 22 23]]\n",
      "(4, 6)\n",
      "[36 40 44 48 52 56]\n",
      "(6,)\n"
     ]
    }
   ],
   "source": [
    "print(A)\n",
    "print(A.shape)\n",
    "As = A.sum(axis=0)\n",
    "print(As)\n",
    "print(As.shape)"
   ]
  },
  {
   "cell_type": "code",
   "execution_count": 21,
   "metadata": {
    "ExecuteTime": {
     "end_time": "2017-08-27T12:06:41.436323",
     "start_time": "2017-08-27T12:06:41.432131"
    },
    "collapsed": false
   },
   "outputs": [
    {
     "name": "stdout",
     "output_type": "stream",
     "text": [
      "\n",
      "\n"
     ]
    }
   ],
   "source": [
    "# imprima o número de dimensões do array  As = A.sum(axis=0)?\n",
    "print()\n",
    "# calcule o valor médio do array A\n",
    "print()"
   ]
  },
  {
   "cell_type": "markdown",
   "metadata": {},
   "source": [
    "$$ C(i,j) = \\frac{A(i,j) - A_{min}}{A_{max}} - A_{min} $$"
   ]
  },
  {
   "cell_type": "code",
   "execution_count": 22,
   "metadata": {
    "ExecuteTime": {
     "end_time": "2017-08-27T12:06:41.443818",
     "start_time": "2017-08-27T12:06:41.438462"
    },
    "collapsed": false
   },
   "outputs": [
    {
     "name": "stdout",
     "output_type": "stream",
     "text": [
      "[[ 0  1  2  3  4  5]\n",
      " [ 6  7  8  9 10 11]\n",
      " [12 13 14 15 16 17]\n",
      " [18 19 20 21 22 23]]\n"
     ]
    }
   ],
   "source": [
    "# Criar a matriz C que é a normalização de A, de modo que os valores de C estejam entre 0 e 1\n",
    "C = A\n",
    "print(C)"
   ]
  },
  {
   "cell_type": "code",
   "execution_count": 23,
   "metadata": {
    "ExecuteTime": {
     "end_time": "2017-08-27T12:06:41.451187",
     "start_time": "2017-08-27T12:06:41.446144"
    },
    "collapsed": false
   },
   "outputs": [
    {
     "name": "stdout",
     "output_type": "stream",
     "text": [
      "[[ 0  1  2  3  4  5]\n",
      " [ 6  7  8  9 10 11]\n",
      " [12 13 14 15 16 17]\n",
      " [18 19 20 21 22 23]]\n"
     ]
    }
   ],
   "source": [
    "# Modificar o exercício anterior, porém agora faça a normalização para cada coluna de A\n",
    "# de modo que as colunas da matriz D estejam entre os valores de 0 a 1.\n",
    "# Dica: utilize o conceito de redução de eixo\n",
    "D = A\n",
    "print(D)"
   ]
  },
  {
   "cell_type": "markdown",
   "metadata": {},
   "source": [
    "## Fatiamento em arrays (slicing)"
   ]
  },
  {
   "cell_type": "code",
   "execution_count": 24,
   "metadata": {
    "ExecuteTime": {
     "end_time": "2017-08-27T12:06:41.459064",
     "start_time": "2017-08-27T12:06:41.453503"
    },
    "collapsed": false
   },
   "outputs": [
    {
     "name": "stdout",
     "output_type": "stream",
     "text": [
      "[[ 1  3  5]\n",
      " [ 7  9 11]\n",
      " [13 15 17]\n",
      " [19 21 23]]\n"
     ]
    }
   ],
   "source": [
    "# esta indexação é chamada fatiamento:\n",
    "AA = A[:,1::2]\n",
    "print(AA)"
   ]
  },
  {
   "cell_type": "code",
   "execution_count": 25,
   "metadata": {
    "ExecuteTime": {
     "end_time": "2017-08-27T12:06:41.465974",
     "start_time": "2017-08-27T12:06:41.461202"
    },
    "collapsed": false
   },
   "outputs": [
    {
     "name": "stdout",
     "output_type": "stream",
     "text": [
      "[[ 0  1  2  3  4  5]\n",
      " [ 6  7  8  9 10 11]\n",
      " [12 13 14 15 16 17]\n",
      " [18 19 20 21 22 23]]\n"
     ]
    }
   ],
   "source": [
    "# criar a matriz AB apenas com as linhas pares da matriz A, utilizando o conceito de fatiamento:\n",
    "AB = A\n",
    "print(AB)"
   ]
  },
  {
   "cell_type": "code",
   "execution_count": 26,
   "metadata": {
    "ExecuteTime": {
     "end_time": "2017-08-27T12:06:41.473283",
     "start_time": "2017-08-27T12:06:41.468086"
    },
    "collapsed": false
   },
   "outputs": [
    {
     "name": "stdout",
     "output_type": "stream",
     "text": [
      "[[ 0  1  2  3  4  5]\n",
      " [ 6  7  8  9 10 11]\n",
      " [12 13 14 15 16 17]\n",
      " [18 19 20 21 22 23]]\n"
     ]
    }
   ],
   "source": [
    "# crie a matriz AC com mesmo shape da matriz A, porém com os elementos na ordem inversa:\n",
    "# trocando a ordem das linhas e das colunas\n",
    "AC = A\n",
    "print(AC)"
   ]
  },
  {
   "cell_type": "markdown",
   "metadata": {},
   "source": [
    "## Produto matricial  (dot product)"
   ]
  },
  {
   "cell_type": "markdown",
   "metadata": {},
   "source": [
    "Calcule a matriz E dada pelo produto matricial entre a matriz A e sua transposta: \n",
    "$$ E = A A^T $$"
   ]
  },
  {
   "cell_type": "code",
   "execution_count": 27,
   "metadata": {
    "ExecuteTime": {
     "end_time": "2017-08-27T12:06:41.479838",
     "start_time": "2017-08-27T12:06:41.475346"
    },
    "collapsed": false
   },
   "outputs": [
    {
     "name": "stdout",
     "output_type": "stream",
     "text": [
      "[[ 0  1  2  3  4  5]\n",
      " [ 6  7  8  9 10 11]\n",
      " [12 13 14 15 16 17]\n",
      " [18 19 20 21 22 23]]\n"
     ]
    }
   ],
   "source": [
    "E = A # modify your code here\n",
    "print(E)"
   ]
  },
  {
   "cell_type": "code",
   "execution_count": 28,
   "metadata": {
    "ExecuteTime": {
     "end_time": "2017-08-27T12:06:41.604429",
     "start_time": "2017-08-27T12:06:41.482006"
    },
    "collapsed": false
   },
   "outputs": [
    {
     "ename": "ValueError",
     "evalue": "operands could not be broadcast together with shapes (4,6) (6,4) ",
     "output_type": "error",
     "traceback": [
      "\u001b[0;31m---------------------------------------------------------------------------\u001b[0m",
      "\u001b[0;31mValueError\u001b[0m                                Traceback (most recent call last)",
      "\u001b[0;32m<ipython-input-28-dccf59f2f135>\u001b[0m in \u001b[0;36m<module>\u001b[0;34m()\u001b[0m\n\u001b[1;32m      1\u001b[0m \u001b[0;31m# Por que a seguinte operação de multiplicação dá erro?\u001b[0m\u001b[0;34m\u001b[0m\u001b[0;34m\u001b[0m\u001b[0m\n\u001b[0;32m----> 2\u001b[0;31m \u001b[0mEe\u001b[0m \u001b[0;34m=\u001b[0m \u001b[0mA\u001b[0m \u001b[0;34m*\u001b[0m \u001b[0mA\u001b[0m\u001b[0;34m.\u001b[0m\u001b[0mT\u001b[0m\u001b[0;34m\u001b[0m\u001b[0m\n\u001b[0m",
      "\u001b[0;31mValueError\u001b[0m: operands could not be broadcast together with shapes (4,6) (6,4) "
     ]
    }
   ],
   "source": [
    "# Por que a seguinte operação de multiplicação dá erro?\n",
    "Ee = A * A.T"
   ]
  },
  {
   "cell_type": "markdown",
   "metadata": {},
   "source": [
    "## Matrizes multidimensionais"
   ]
  },
  {
   "cell_type": "markdown",
   "metadata": {
    "ExecuteTime": {
     "end_time": "2017-08-27T11:37:19.062565",
     "start_time": "2017-08-27T11:37:18.994081"
    }
   },
   "source": [
    "Em deep learning, iremos utilizar matrizes multidimensionais\n",
    "que são denominados como arrays no NumPy. Tensorflow usa o nome de tensor para\n",
    "suas matrizes multimensionais.\n",
    "\n",
    "Matrizes de dimensões maior que 4 são de difícil intuição. A melhor forma de lidar\n",
    "com elas é observando o seu *shape*."
   ]
  },
  {
   "cell_type": "markdown",
   "metadata": {},
   "source": [
    "### 3-D array"
   ]
  },
  {
   "cell_type": "code",
   "execution_count": null,
   "metadata": {
    "ExecuteTime": {
     "end_time": "2017-08-27T12:06:41.604876",
     "start_time": "2017-08-27T15:06:40.994Z"
    },
    "collapsed": false
   },
   "outputs": [],
   "source": [
    "F = A.reshape(2,3,4)\n",
    "print(F)"
   ]
  },
  {
   "cell_type": "markdown",
   "metadata": {},
   "source": [
    "#### Indexação"
   ]
  },
  {
   "cell_type": "markdown",
   "metadata": {},
   "source": [
    "Estude e explique as seguintes indexações:"
   ]
  },
  {
   "cell_type": "code",
   "execution_count": null,
   "metadata": {
    "ExecuteTime": {
     "end_time": "2017-08-27T12:06:41.605186",
     "start_time": "2017-08-27T15:06:41.002Z"
    },
    "collapsed": false
   },
   "outputs": [],
   "source": [
    "print(F[1])\n",
    "print(F[1,0])\n",
    "print(F[1,0,2])"
   ]
  },
  {
   "cell_type": "code",
   "execution_count": null,
   "metadata": {
    "ExecuteTime": {
     "end_time": "2017-08-27T12:06:41.605474",
     "start_time": "2017-08-27T15:06:41.015Z"
    },
    "collapsed": false
   },
   "outputs": [],
   "source": [
    "# imprima o número de dimensões de F\n",
    "print()\n",
    "# imprima o shape de F\n",
    "print()"
   ]
  },
  {
   "cell_type": "markdown",
   "metadata": {},
   "source": [
    "## Redução de eixo - aplicado a dois eixos simultâneos"
   ]
  },
  {
   "cell_type": "code",
   "execution_count": null,
   "metadata": {
    "ExecuteTime": {
     "end_time": "2017-08-27T12:06:41.605757",
     "start_time": "2017-08-27T15:06:41.026Z"
    },
    "collapsed": false
   },
   "outputs": [],
   "source": [
    "# calcule o valor médio das matrizes F[0] e F[1], com apenas um comando usando F.mean(??)\n",
    "print()"
   ]
  },
  {
   "cell_type": "markdown",
   "metadata": {},
   "source": [
    "## Broadcasting"
   ]
  },
  {
   "cell_type": "markdown",
   "metadata": {},
   "source": [
    "O que significa o conceito de broadcasting em NumPy?"
   ]
  },
  {
   "cell_type": "code",
   "execution_count": null,
   "metadata": {
    "ExecuteTime": {
     "end_time": "2017-08-27T12:06:41.606036",
     "start_time": "2017-08-27T15:06:41.038Z"
    },
    "collapsed": false
   },
   "outputs": [],
   "source": [
    "# Usando o conceito de broadcast, mude o shape do vetor a para que o broadcast possa ocorrer em G = A + a\n",
    "a = np.arange(4)\n",
    "print(a)\n",
    "#G = A + a\n",
    "#print(G)"
   ]
  },
  {
   "cell_type": "markdown",
   "metadata": {},
   "source": [
    "## Function - one-hot encoding"
   ]
  },
  {
   "cell_type": "markdown",
   "metadata": {},
   "source": [
    "Defina uma função que receba como entrada um array unidimensional e gere como saída o\n",
    "array na codificação one-hot, conforme exemplo a seguir:"
   ]
  },
  {
   "cell_type": "code",
   "execution_count": 29,
   "metadata": {
    "ExecuteTime": {
     "end_time": "2017-08-27T12:06:41.886297",
     "start_time": "2017-08-27T12:06:41.881480"
    },
    "collapsed": false
   },
   "outputs": [
    {
     "name": "stdout",
     "output_type": "stream",
     "text": [
      "[2 0 3 2 1]\n"
     ]
    }
   ],
   "source": [
    "# Entrada, vetor de 5 elementos representando classes\n",
    "aa = np.array([2,0,3,2,1])\n",
    "print(aa)"
   ]
  },
  {
   "cell_type": "code",
   "execution_count": 30,
   "metadata": {
    "ExecuteTime": {
     "end_time": "2017-08-27T12:06:41.907196",
     "start_time": "2017-08-27T12:06:41.899057"
    },
    "collapsed": false
   },
   "outputs": [
    {
     "name": "stdout",
     "output_type": "stream",
     "text": [
      "[[0 0 1 0]\n",
      " [1 0 0 0]\n",
      " [0 0 0 1]\n",
      " [0 0 1 0]\n",
      " [0 1 0 0]]\n"
     ]
    }
   ],
   "source": [
    "# Saída da função oo = one_hot(aa)\n",
    "oo = np.array([[0,0,1,0],\n",
    "               [1,0,0,0],\n",
    "               [0,0,0,1],\n",
    "               [0,0,1,0],\n",
    "               [0,1,0,0]])\n",
    "print(oo)"
   ]
  },
  {
   "cell_type": "code",
   "execution_count": 31,
   "metadata": {
    "ExecuteTime": {
     "end_time": "2017-08-27T12:06:41.919035",
     "start_time": "2017-08-27T12:06:41.912909"
    },
    "collapsed": false
   },
   "outputs": [
    {
     "name": "stdout",
     "output_type": "stream",
     "text": [
      "[2 0 3 2 1]\n"
     ]
    }
   ],
   "source": [
    "# Evite o uso de laço explícito\n",
    "# Não utilize outras bibliotecas além do NumPy\n",
    "def one_hot(i):\n",
    "    # insert your code here\n",
    "    oh = i\n",
    "    return oh\n",
    "\n",
    "print(one_hot(aa))"
   ]
  },
  {
   "cell_type": "code",
   "execution_count": 32,
   "metadata": {
    "ExecuteTime": {
     "end_time": "2017-08-27T12:06:41.939525",
     "start_time": "2017-08-27T12:06:41.931562"
    },
    "collapsed": false
   },
   "outputs": [
    {
     "name": "stdout",
     "output_type": "stream",
     "text": [
      "[[0 0 1 0]\n",
      " [1 0 0 0]\n",
      " [0 0 0 1]\n",
      " [0 0 1 0]\n",
      " [0 1 0 0]]\n"
     ]
    }
   ],
   "source": [
    "# Try to avoid explicit loop as much as possible\n",
    "# Use only NumPy operations, no other libraries\n",
    "# Second Solution\n",
    "def one_hot(i):\n",
    "    # insert your code here\n",
    "    n_classes = i.max() + 1\n",
    "    oh = np.eye(n_classes,dtype=np.int)[i]\n",
    "    return oh\n",
    "\n",
    "print(one_hot(aa))"
   ]
  },
  {
   "cell_type": "code",
   "execution_count": 33,
   "metadata": {
    "ExecuteTime": {
     "end_time": "2017-08-27T12:06:41.954598",
     "start_time": "2017-08-27T12:06:41.950902"
    },
    "collapsed": true
   },
   "outputs": [],
   "source": [
    "# Teste sua função com outros valores"
   ]
  },
  {
   "cell_type": "markdown",
   "metadata": {
    "collapsed": true
   },
   "source": [
    "# Fim do notebook"
   ]
  }
 ],
 "metadata": {
  "kernelspec": {
   "display_name": "Python 3",
   "language": "python",
   "name": "python3"
  },
  "language_info": {
   "codemirror_mode": {
    "name": "ipython",
    "version": 3
   },
   "file_extension": ".py",
   "mimetype": "text/x-python",
   "name": "python",
   "nbconvert_exporter": "python",
   "pygments_lexer": "ipython3",
   "version": "3.6.0"
  },
  "toc": {
   "colors": {
    "hover_highlight": "#DAA520",
    "running_highlight": "#FF0000",
    "selected_highlight": "#FFD700"
   },
   "moveMenuLeft": true,
   "nav_menu": {
    "height": "354px",
    "width": "252px"
   },
   "navigate_menu": true,
   "number_sections": true,
   "sideBar": true,
   "threshold": 4,
   "toc_cell": false,
   "toc_section_display": "block",
   "toc_window_display": false
  }
 },
 "nbformat": 4,
 "nbformat_minor": 2
}
