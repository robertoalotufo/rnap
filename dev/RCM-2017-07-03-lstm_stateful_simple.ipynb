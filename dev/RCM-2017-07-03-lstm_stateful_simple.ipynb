{
 "cells": [
  {
   "cell_type": "code",
   "execution_count": 1,
   "metadata": {
    "collapsed": false,
    "deletable": true,
    "editable": true
   },
   "outputs": [
    {
     "name": "stderr",
     "output_type": "stream",
     "text": [
      "Using TensorFlow backend.\n"
     ]
    }
   ],
   "source": [
    "%matplotlib inline\n",
    "import matplotlib.pyplot as plot\n",
    "from IPython import display\n",
    "from __future__ import print_function\n",
    "\n",
    "from keras.preprocessing.text import Tokenizer\n",
    "from keras.models import Sequential\n",
    "from keras.layers import Dense, Activation\n",
    "from keras.layers import LSTM, Embedding, BatchNormalization\n",
    "from keras.optimizers import RMSprop, Adam\n",
    "from keras.regularizers import l2\n",
    "from keras.utils.data_utils import get_file\n",
    "import numpy as np\n",
    "import numpy.random as nr\n",
    "import random\n",
    "import glob\n",
    "import sys\n",
    "import os\n",
    "import re\n",
    "\n",
    "sys.path.append('../src')\n",
    "from my_keras_utilities import (get_available_gpus, \n",
    "                                load_model_and_history, \n",
    "                                save_model_and_history, \n",
    "                                TrainingPlotter)\n",
    "\n",
    "os.makedirs('../../models',exist_ok=True)\n",
    "np.set_printoptions(precision=3, linewidth=120)"
   ]
  },
  {
   "cell_type": "code",
   "execution_count": 2,
   "metadata": {
    "collapsed": false,
    "deletable": true,
    "editable": true
   },
   "outputs": [
    {
     "name": "stdout",
     "output_type": "stream",
     "text": [
      "Backend:        tensorflow\n",
      "Data format:    channels_last\n",
      "Available GPUS: ['/gpu:0']\n"
     ]
    }
   ],
   "source": [
    "import keras.backend as K\n",
    "\n",
    "# K.set_image_data_format('channels_first')\n",
    "K.set_floatx('float32')\n",
    "\n",
    "print('Backend:        {}'.format(K.backend()))\n",
    "print('Data format:    {}'.format(K.image_data_format()))\n",
    "print('Available GPUS:', get_available_gpus())"
   ]
  },
  {
   "cell_type": "markdown",
   "metadata": {
    "deletable": true,
    "editable": true
   },
   "source": [
    "http://philipperemy.github.io/keras-stateful-lstm/"
   ]
  },
  {
   "cell_type": "code",
   "execution_count": 3,
   "metadata": {
    "collapsed": false,
    "deletable": true,
    "editable": true
   },
   "outputs": [
    {
     "name": "stdout",
     "output_type": "stream",
     "text": [
      "(1000,) [ 1000.] (2000, 50, 1) (2000, 1)\n"
     ]
    }
   ],
   "source": [
    "n_samples = 2000\n",
    "seq_size = 50 \n",
    "\n",
    "Xtra = np.zeros((n_samples, seq_size, 1), np.float32)\n",
    "ytra = np.zeros((n_samples, 1), np.float32)\n",
    "tii = nr.choice(np.arange(n_samples), replace=False, size=n_samples//2)\n",
    "Xtra[tii, 0] = 1\n",
    "ytra[tii] = 1\n",
    "\n",
    "print(tii.shape, Xtra[:,0].sum(0), Xtra.shape, ytra.shape)"
   ]
  },
  {
   "cell_type": "code",
   "execution_count": 4,
   "metadata": {
    "collapsed": false,
    "deletable": true,
    "editable": true
   },
   "outputs": [
    {
     "name": "stdout",
     "output_type": "stream",
     "text": [
      "(1600, 50, 1) (1600, 1) (400, 50, 1) (400, 1)\n"
     ]
    }
   ],
   "source": [
    "from sklearn.model_selection import train_test_split\n",
    "\n",
    "X_tra, X_val, y_tra, y_val = train_test_split(Xtra, ytra, test_size=0.2)\n",
    "print(X_tra.shape, y_tra.shape, X_val.shape, y_val.shape)"
   ]
  },
  {
   "cell_type": "code",
   "execution_count": 5,
   "metadata": {
    "collapsed": false,
    "deletable": true,
    "editable": true,
    "scrolled": false
   },
   "outputs": [],
   "source": [
    "def train(epochs, batch_size, stateful=True):\n",
    "    print('Creating Model...')\n",
    "    model = Sequential()\n",
    "    model.add(LSTM(10, batch_input_shape=(batch_size, 1, 1), stateful=stateful))\n",
    "    model.add(Dense(1, activation='sigmoid'))\n",
    "    model.compile(optimizer=Adam(), loss='binary_crossentropy', metrics=['accuracy'])\n",
    "    model.summary()\n",
    "    try:\n",
    "        tr_batches = X_tra.shape[0] // batch_size\n",
    "        te_batches = X_val.shape[0] // batch_size\n",
    "        print('\\nTraining for {} epochs: {} batches of {} samples each.'.format(epochs, tr_batches, batch_size))\n",
    "        print('___________________________________')\n",
    "        for epoch in range(epochs):\n",
    "            mean_tr_loss = []\n",
    "            mean_tr_acc = []\n",
    "            for j in range(tr_batches):\n",
    "                j0 = j * batch_size\n",
    "                j1 = j0 + batch_size\n",
    "                for i in range(seq_size):\n",
    "                    x_b = X_tra[j0:j1, i:i+1, 0:1]\n",
    "                    y_b = y_tra[j0:j1, 0]\n",
    "                    tr_loss, tr_acc = model.train_on_batch(x_b, y_b)\n",
    "                    mean_tr_acc.append(tr_acc)\n",
    "                    mean_tr_loss.append(tr_loss)\n",
    "                model.reset_states()\n",
    "\n",
    "            print('{:3d} training accuracy = {}'.format(epoch, np.mean(mean_tr_acc)))\n",
    "            print('                 loss = {}'.format(np.mean(mean_tr_loss)))\n",
    "            print()\n",
    "\n",
    "            mean_te_acc = []\n",
    "            mean_te_loss = []\n",
    "            for j in range(te_batches):\n",
    "                j0 = j * batch_size\n",
    "                j1 = j0 + batch_size\n",
    "                for i in range(seq_size):\n",
    "                    x_b = X_val[j0:j1, i:i+1, 0:1]\n",
    "                    y_b = y_val[j0:j1, 0]\n",
    "                    te_loss, te_acc = model.test_on_batch(x_b, y_b)\n",
    "                    mean_te_acc.append(te_acc)\n",
    "                    mean_te_loss.append(te_loss)\n",
    "                model.reset_states()\n",
    "\n",
    "            print('    validation accuracy = {}'.format(np.mean(mean_te_acc)))\n",
    "            print('                   loss = {}'.format(np.mean(mean_te_loss)))\n",
    "            print('___________________________________')\n",
    "\n",
    "    except KeyboardInterrupt:\n",
    "        print('\\nKeyboard Interrupt!!')"
   ]
  },
  {
   "cell_type": "code",
   "execution_count": 6,
   "metadata": {
    "collapsed": false,
    "deletable": true,
    "editable": true,
    "scrolled": false
   },
   "outputs": [
    {
     "name": "stdout",
     "output_type": "stream",
     "text": [
      "Creating Model...\n",
      "_________________________________________________________________\n",
      "Layer (type)                 Output Shape              Param #   \n",
      "=================================================================\n",
      "lstm_1 (LSTM)                (100, 10)                 480       \n",
      "_________________________________________________________________\n",
      "dense_1 (Dense)              (100, 1)                  11        \n",
      "=================================================================\n",
      "Total params: 491\n",
      "Trainable params: 491\n",
      "Non-trainable params: 0\n",
      "_________________________________________________________________\n",
      "\n",
      "Training for 5 epochs: 16 batches of 100 samples each.\n",
      "___________________________________\n",
      "  0 training accuracy = 0.625512421131134\n",
      "                 loss = 0.6355300545692444\n",
      "\n",
      "    validation accuracy = 1.0\n",
      "                   loss = 0.12141431868076324\n",
      "___________________________________\n",
      "  1 training accuracy = 1.0\n",
      "                 loss = 0.038812316954135895\n",
      "\n",
      "    validation accuracy = 1.0\n",
      "                   loss = 0.01693037897348404\n",
      "___________________________________\n",
      "  2 training accuracy = 1.0\n",
      "                 loss = 0.012115814723074436\n",
      "\n",
      "    validation accuracy = 1.0\n",
      "                   loss = 0.008441086858510971\n",
      "___________________________________\n",
      "  3 training accuracy = 1.0\n",
      "                 loss = 0.006547207944095135\n",
      "\n",
      "    validation accuracy = 1.0\n",
      "                   loss = 0.004925960674881935\n",
      "___________________________________\n",
      "  4 training accuracy = 1.0\n",
      "                 loss = 0.003912827465683222\n",
      "\n",
      "    validation accuracy = 1.0\n",
      "                   loss = 0.0030051476787775755\n",
      "___________________________________\n"
     ]
    }
   ],
   "source": [
    "train(5, 100)"
   ]
  },
  {
   "cell_type": "code",
   "execution_count": 7,
   "metadata": {
    "collapsed": false,
    "deletable": true,
    "editable": true
   },
   "outputs": [
    {
     "name": "stdout",
     "output_type": "stream",
     "text": [
      "Creating Model...\n",
      "_________________________________________________________________\n",
      "Layer (type)                 Output Shape              Param #   \n",
      "=================================================================\n",
      "lstm_2 (LSTM)                (100, 10)                 480       \n",
      "_________________________________________________________________\n",
      "dense_2 (Dense)              (100, 1)                  11        \n",
      "=================================================================\n",
      "Total params: 491\n",
      "Trainable params: 491\n",
      "Non-trainable params: 0\n",
      "_________________________________________________________________\n",
      "\n",
      "Training for 5 epochs: 16 batches of 100 samples each.\n",
      "___________________________________\n",
      "  0 training accuracy = 0.5139874219894409\n",
      "                 loss = 0.692491888999939\n",
      "\n",
      "    validation accuracy = 0.5320499539375305\n",
      "                   loss = 0.6915138363838196\n",
      "___________________________________\n",
      "  1 training accuracy = 0.5148999691009521\n",
      "                 loss = 0.6916003227233887\n",
      "\n",
      "    validation accuracy = 0.5320499539375305\n",
      "                   loss = 0.6905477643013\n",
      "___________________________________\n",
      "  2 training accuracy = 0.5161749124526978\n",
      "                 loss = 0.6903965473175049\n",
      "\n",
      "    validation accuracy = 0.5320499539375305\n",
      "                   loss = 0.6893354654312134\n",
      "___________________________________\n",
      "  3 training accuracy = 0.5169999599456787\n",
      "                 loss = 0.6890935301780701\n",
      "\n",
      "    validation accuracy = 0.5320499539375305\n",
      "                   loss = 0.6881812810897827\n",
      "___________________________________\n",
      "  4 training accuracy = 0.5181874632835388\n",
      "                 loss = 0.6880061626434326\n",
      "\n",
      "    validation accuracy = 0.5320499539375305\n",
      "                   loss = 0.6872969269752502\n",
      "___________________________________\n"
     ]
    }
   ],
   "source": [
    "train(5, 100, False)"
   ]
  }
 ],
 "metadata": {
  "kernelspec": {
   "display_name": "Python 3",
   "language": "python",
   "name": "python3"
  },
  "language_info": {
   "codemirror_mode": {
    "name": "ipython",
    "version": 3
   },
   "file_extension": ".py",
   "mimetype": "text/x-python",
   "name": "python",
   "nbconvert_exporter": "python",
   "pygments_lexer": "ipython3",
   "version": "3.4.3"
  },
  "latex_envs": {
   "LaTeX_envs_menu_present": true,
   "autocomplete": true,
   "bibliofile": "biblio.bib",
   "cite_by": "apalike",
   "current_citInitial": 1,
   "eqLabelWithNumbers": true,
   "eqNumInitial": 1,
   "hotkeys": {
    "equation": "Ctrl-E",
    "itemize": "Ctrl-I"
   },
   "labels_anchors": false,
   "latex_user_defs": false,
   "report_style_numbering": false,
   "user_envs_cfg": false
  },
  "toc": {
   "colors": {
    "hover_highlight": "#DAA520",
    "running_highlight": "#FF0000",
    "selected_highlight": "#FFD700"
   },
   "moveMenuLeft": true,
   "nav_menu": {
    "height": "12px",
    "width": "252px"
   },
   "navigate_menu": true,
   "number_sections": true,
   "sideBar": true,
   "threshold": 4,
   "toc_cell": false,
   "toc_section_display": "block",
   "toc_window_display": false,
   "widenNotebook": false
  }
 },
 "nbformat": 4,
 "nbformat_minor": 2
}
