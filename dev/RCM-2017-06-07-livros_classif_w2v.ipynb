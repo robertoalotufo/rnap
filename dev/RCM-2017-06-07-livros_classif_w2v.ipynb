{
 "cells": [
  {
   "cell_type": "markdown",
   "metadata": {
    "deletable": true,
    "editable": true,
    "toc": "true"
   },
   "source": [
    "# Table of Contents\n",
    " <p><div class=\"lev1 toc-item\"><a href=\"#Classificação-de-Textos\" data-toc-modified-id=\"Classificação-de-Textos-1\"><span class=\"toc-item-num\">1&nbsp;&nbsp;</span>Classificação de Textos</a></div><div class=\"lev2 toc-item\"><a href=\"#Preâmbulo\" data-toc-modified-id=\"Preâmbulo-11\"><span class=\"toc-item-num\">1.1&nbsp;&nbsp;</span>Preâmbulo</a></div><div class=\"lev2 toc-item\"><a href=\"#Procedimentos-de-treino-e-teste\" data-toc-modified-id=\"Procedimentos-de-treino-e-teste-12\"><span class=\"toc-item-num\">1.2&nbsp;&nbsp;</span>Procedimentos de treino e teste</a></div><div class=\"lev2 toc-item\"><a href=\"#O-Dataset\" data-toc-modified-id=\"O-Dataset-13\"><span class=\"toc-item-num\">1.3&nbsp;&nbsp;</span>O Dataset</a></div><div class=\"lev3 toc-item\"><a href=\"#Criando--geradores-para-treino-e-validação\" data-toc-modified-id=\"Criando--geradores-para-treino-e-validação-131\"><span class=\"toc-item-num\">1.3.1&nbsp;&nbsp;</span>Criando  geradores para treino e validação</a></div><div class=\"lev3 toc-item\"><a href=\"#Lendo-do-disco\" data-toc-modified-id=\"Lendo-do-disco-132\"><span class=\"toc-item-num\">1.3.2&nbsp;&nbsp;</span>Lendo do disco</a></div><div class=\"lev2 toc-item\"><a href=\"#A-Rede-Neural\" data-toc-modified-id=\"A-Rede-Neural-14\"><span class=\"toc-item-num\">1.4&nbsp;&nbsp;</span>A Rede Neural</a></div><div class=\"lev3 toc-item\"><a href=\"#Carregando-os-vetores-word2vec-para-português\" data-toc-modified-id=\"Carregando-os-vetores-word2vec-para-português-141\"><span class=\"toc-item-num\">1.4.1&nbsp;&nbsp;</span>Carregando os vetores word2vec para português</a></div><div class=\"lev3 toc-item\"><a href=\"#Preparando-a-matriz-de-embeddings\" data-toc-modified-id=\"Preparando-a-matriz-de-embeddings-142\"><span class=\"toc-item-num\">1.4.2&nbsp;&nbsp;</span>Preparando a matriz de embeddings</a></div><div class=\"lev3 toc-item\"><a href=\"#Construindo-a-rede\" data-toc-modified-id=\"Construindo-a-rede-143\"><span class=\"toc-item-num\">1.4.3&nbsp;&nbsp;</span>Construindo a rede</a></div><div class=\"lev2 toc-item\"><a href=\"#Treinando\" data-toc-modified-id=\"Treinando-15\"><span class=\"toc-item-num\">1.5&nbsp;&nbsp;</span>Treinando</a></div><div class=\"lev2 toc-item\"><a href=\"#Avaliando\" data-toc-modified-id=\"Avaliando-16\"><span class=\"toc-item-num\">1.6&nbsp;&nbsp;</span>Avaliando</a></div>"
   ]
  },
  {
   "cell_type": "markdown",
   "metadata": {
    "deletable": true,
    "editable": true
   },
   "source": [
    "# Classificação de Textos"
   ]
  },
  {
   "cell_type": "markdown",
   "metadata": {
    "deletable": true,
    "editable": true
   },
   "source": [
    "## Preâmbulo"
   ]
  },
  {
   "cell_type": "code",
   "execution_count": 1,
   "metadata": {
    "collapsed": false,
    "deletable": true,
    "editable": true
   },
   "outputs": [
    {
     "name": "stderr",
     "output_type": "stream",
     "text": [
      "Using TensorFlow backend.\n"
     ]
    }
   ],
   "source": [
    "%matplotlib inline\n",
    "import matplotlib.pyplot as plot\n",
    "from IPython import display\n",
    "from __future__ import print_function\n",
    "\n",
    "import os\n",
    "import sys\n",
    "import glob\n",
    "import numpy as np\n",
    "import numpy.random as nr\n",
    "\n",
    "from keras.preprocessing.text import Tokenizer\n",
    "from keras.preprocessing.sequence import pad_sequences\n",
    "from keras.utils import to_categorical\n",
    "from keras.layers import Dense, Input, Flatten, Dropout\n",
    "from keras.layers import Conv1D, MaxPooling1D, Embedding\n",
    "from keras.models import Model\n",
    "from keras.optimizers import (SGD, \n",
    "                              RMSprop, \n",
    "                              Adam, \n",
    "                              Adadelta, \n",
    "                              Adagrad)\n",
    "\n",
    "sys.path.append('../src')\n",
    "from my_keras_utilities import (get_available_gpus, \n",
    "                                load_model_and_history, \n",
    "                                save_model_and_history, \n",
    "                                TrainingPlotter)\n",
    "\n",
    "os.makedirs('../../models',exist_ok=True)\n",
    "np.set_printoptions(precision=3, linewidth=120)"
   ]
  },
  {
   "cell_type": "code",
   "execution_count": 2,
   "metadata": {
    "collapsed": false,
    "deletable": true,
    "editable": true
   },
   "outputs": [
    {
     "name": "stdout",
     "output_type": "stream",
     "text": [
      "Backend:        tensorflow\n",
      "Data format:    channels_last\n",
      "Available GPUS: ['/gpu:0']\n"
     ]
    }
   ],
   "source": [
    "import keras.backend as K\n",
    "\n",
    "# K.set_image_data_format('channels_first')\n",
    "K.set_floatx('float32')\n",
    "\n",
    "print('Backend:        {}'.format(K.backend()))\n",
    "print('Data format:    {}'.format(K.image_data_format()))\n",
    "print('Available GPUS:', get_available_gpus())"
   ]
  },
  {
   "cell_type": "markdown",
   "metadata": {
    "deletable": true,
    "editable": true
   },
   "source": [
    "## Procedimentos de treino e teste"
   ]
  },
  {
   "cell_type": "code",
   "execution_count": 3,
   "metadata": {
    "collapsed": true,
    "deletable": true,
    "editable": true
   },
   "outputs": [],
   "source": [
    "class MyCb(TrainingPlotter):\n",
    "    \n",
    "    def on_epoch_end(self, epoch, logs={}):\n",
    "        super().on_epoch_end(epoch, logs)\n",
    "\n",
    "\n",
    "def train_network(model, model_name, train_generator, validation_generator, \n",
    "                  train_steps=10, valid_steps=10, opt='rmsprop', nepochs=50, \n",
    "                  patience=50, reset=False, ploss=1.0):\n",
    "\n",
    "    do_plot = (ploss > 0.0)\n",
    "    \n",
    "    model_fn = model_name + '.model'\n",
    "    if reset and os.path.isfile(model_fn):\n",
    "        os.unlink(model_name + '.model')\n",
    "        \n",
    "    if not os.path.isfile(model_fn):\n",
    "        # initialize the optimizer and model\n",
    "        print(\"[INFO] compiling model...\")\n",
    "        model.compile(loss=\"categorical_crossentropy\", optimizer=opt, metrics=[\"accuracy\"])    \n",
    "\n",
    "        # History, checkpoint, earlystop, plot losses:\n",
    "        cb = MyCb(n=1, filepath=model_name, patience=patience, plot_losses=do_plot)\n",
    "        \n",
    "    else:\n",
    "        print(\"[INFO] loading model...\")\n",
    "        model, cb = load_model_and_history(model_name)\n",
    "        cb.patience = patience\n",
    "\n",
    "    past_epochs = cb.get_nepochs()\n",
    "    tr_epochs = nepochs - past_epochs\n",
    "    \n",
    "    if do_plot:\n",
    "        vv = 0\n",
    "        fig = plot.figure(figsize=(15,6))\n",
    "        plot.ylim(0.0, ploss)\n",
    "        plot.xlim(0, nepochs)\n",
    "        plot.grid(True)\n",
    "    else:\n",
    "        vv = 2\n",
    "\n",
    "    print(\"[INFO] training for {} epochs of {} steps each...\".format(tr_epochs, train_steps))\n",
    "    try:\n",
    "        model.fit_generator(train_generator, steps_per_epoch=train_steps,\n",
    "                            validation_data=validation_generator, validation_steps=valid_steps,\n",
    "                            epochs=nepochs, verbose=vv, callbacks=[cb])\n",
    "    except KeyboardInterrupt:\n",
    "        pass\n",
    "\n",
    "    return model, cb\n",
    "\n",
    "\n",
    "def test_network(model_name, validation_generator, nb_validation_samples):\n",
    "    model, histo = load_model_and_history(model_name)\n",
    "    print('Model from epoch {}'.format(histo.best_epoch))\n",
    "    print(\"[INFO] evaluating in the test data set ...\")\n",
    "    loss, accuracy = model.evaluate_generator(validation_generator, nb_validation_samples)\n",
    "    print(\"\\n[INFO] accuracy on the test data set: {:.2f}% [{:.5f}]\".format(accuracy * 100, loss))\n"
   ]
  },
  {
   "cell_type": "markdown",
   "metadata": {
    "deletable": true,
    "editable": true
   },
   "source": [
    "## O Dataset"
   ]
  },
  {
   "cell_type": "markdown",
   "metadata": {
    "deletable": true,
    "editable": true
   },
   "source": [
    "### Criando  geradores para treino e validação"
   ]
  },
  {
   "cell_type": "code",
   "execution_count": 4,
   "metadata": {
    "collapsed": true,
    "deletable": true,
    "editable": true
   },
   "outputs": [],
   "source": [
    "class MyDataGenerator:\n",
    "    def __init__(self, batch_size, seq_size, sequences, labels):\n",
    "        self.batch_size = batch_size\n",
    "        self.length = seq_size\n",
    "        self.sequences = sequences\n",
    "        self.labels = labels\n",
    "        sizes = np.array([len(seq) for seq in sequences])\n",
    "        self.p = 1.0 * sizes / sizes.sum()        # probabilidade de escolha para cada sequencia\n",
    "        self.n = np.arange(len(sequences))        # indices de cada sequencia (para o choice abaixo)\n",
    "        \n",
    "    def __call__(self):\n",
    "        while True:\n",
    "            batch = np.empty((self.batch_size, self.length), np.int32)\n",
    "            label = np.empty((self.batch_size, n_labels), np.int32)\n",
    "            for i in range(self.batch_size):\n",
    "                k = nr.choice(self.n, p=self.p)\n",
    "                p = nr.randint(0, len(self.sequences[k]) - self.length)\n",
    "                batch[i] = self.sequences[k][p:p+self.length]\n",
    "                label[i] = to_categorical(self.labels[k], num_classes=n_labels)\n",
    "            yield batch, label\n"
   ]
  },
  {
   "cell_type": "markdown",
   "metadata": {
    "deletable": true,
    "editable": true
   },
   "source": [
    "### Lendo do disco"
   ]
  },
  {
   "cell_type": "code",
   "execution_count": 5,
   "metadata": {
    "collapsed": false,
    "deletable": true,
    "editable": true
   },
   "outputs": [
    {
     "name": "stdout",
     "output_type": "stream",
     "text": [
      "Vocabulary: 20000 words\n"
     ]
    }
   ],
   "source": [
    "import pickle\n",
    "train_gen, valid_gen, i2w = pickle.load(open('../../datasets/livros_generators.pkl', 'rb'))\n",
    "print('Vocabulary: {} words'.format(len(i2w)))\n"
   ]
  },
  {
   "cell_type": "markdown",
   "metadata": {
    "deletable": true,
    "editable": true
   },
   "source": [
    "## A Rede Neural"
   ]
  },
  {
   "cell_type": "markdown",
   "metadata": {
    "deletable": true,
    "editable": true
   },
   "source": [
    "### Carregando os vetores word2vec para português"
   ]
  },
  {
   "cell_type": "code",
   "execution_count": 6,
   "metadata": {
    "collapsed": true,
    "deletable": true,
    "editable": true
   },
   "outputs": [],
   "source": [
    "w2v_model_fn = '../../models/word2vec_pt_br.npz'\n",
    "\n",
    "if not os.path.isfile(w2v_model_fn):\n",
    "    wvec_words = '/Users/rubens/Development/Datasets/word2vec/portuguese/pt.tsv'\n",
    "\n",
    "    words = []\n",
    "    vectors = []\n",
    "    word_index = {}\n",
    "    for line in open(wvec_pt):\n",
    "        line = line.rstrip()\n",
    "        if line[0] != ' ':\n",
    "            i, w, vec0 = line.split(maxsplit=2)\n",
    "            assert int(i) == len(words)\n",
    "            assert vec0[0] == '[', vec0\n",
    "            words.append(w)\n",
    "            vv = [float(x) for x in vec0[1:].split()]\n",
    "        elif line[-1] == ']':\n",
    "            vv += [float(x) for x in line[:-1].split()]\n",
    "            vectors.append(vv)\n",
    "        else:\n",
    "            vv += [float(x) for x in line.split()]\n",
    "            \n",
    "    words = np.array(words)\n",
    "    vectors = np.array(vects)\n",
    "    np.savez_compressed(w2v_model_fn, words=words, vectors=vectors)\n",
    "\n",
    "else:\n",
    "    dd = np.load(w2v_model_fn)\n",
    "    words = dd['words']\n",
    "    vectors = dd['vectors']\n",
    "\n",
    "embeddings_index = {}\n",
    "for i, w in enumerate(words):\n",
    "    embeddings_index[w] = vectors[i]\n",
    "    \n",
    "EMBEDDING_DIM = vectors.shape[1]"
   ]
  },
  {
   "cell_type": "markdown",
   "metadata": {
    "deletable": true,
    "editable": true
   },
   "source": [
    "### Preparando a matriz de embeddings\n",
    "\n",
    "Neste notebook o embedding é treinado a partir de pesos aleatórios.\n"
   ]
  },
  {
   "cell_type": "code",
   "execution_count": 7,
   "metadata": {
    "collapsed": false,
    "deletable": true,
    "editable": true
   },
   "outputs": [
    {
     "name": "stdout",
     "output_type": "stream",
     "text": [
      "Embedding Matrix: (20000, 300).\n",
      "Words not found:  6540\n"
     ]
    }
   ],
   "source": [
    "nr.seed(20170601)\n",
    "\n",
    "# prepare embedding matrix\n",
    "num_words = len(i2w)\n",
    "embedding_matrix = np.zeros((num_words, EMBEDDING_DIM))\n",
    "\n",
    "notfound = []\n",
    "for i in range(1, num_words):\n",
    "    word = i2w[i]\n",
    "    embedding_vector = embeddings_index.get(word)\n",
    "    if embedding_vector is None:\n",
    "        # words not found in embedding index will be random\n",
    "        # embedding_vector = nr.random(size=(EMBEDDING_DIM,)) - 0.5\n",
    "        # words not found in embedding index will be zero\n",
    "        embedding_vector = np.zeros((EMBEDDING_DIM,), np.float32)\n",
    "        notfound.append(word)\n",
    "    embedding_matrix[i] = embedding_vector\n",
    "\n",
    "seq_size = train_gen.length\n",
    "n_labels = max(train_gen.labels) + 1\n",
    "n_train_words = sum([len(x) for x in train_gen.sequences])\n",
    "n_valid_words = sum([len(x) for x in valid_gen.sequences])\n",
    "batch_size = train_gen.batch_size\n",
    "\n",
    "print('Embedding Matrix: {}.\\nWords not found:  {}'.format(embedding_matrix.shape, len(notfound)))"
   ]
  },
  {
   "cell_type": "markdown",
   "metadata": {
    "deletable": true,
    "editable": true
   },
   "source": [
    "### Construindo a rede"
   ]
  },
  {
   "cell_type": "code",
   "execution_count": 8,
   "metadata": {
    "collapsed": false,
    "deletable": true,
    "editable": true
   },
   "outputs": [
    {
     "name": "stdout",
     "output_type": "stream",
     "text": [
      "_________________________________________________________________\n",
      "Layer (type)                 Output Shape              Param #   \n",
      "=================================================================\n",
      "input_1 (InputLayer)         (None, 500)               0         \n",
      "_________________________________________________________________\n",
      "embedding_1 (Embedding)      (None, 500, 300)          6000000   \n",
      "_________________________________________________________________\n",
      "conv1d_1 (Conv1D)            (None, 496, 128)          192128    \n",
      "_________________________________________________________________\n",
      "max_pooling1d_1 (MaxPooling1 (None, 99, 128)           0         \n",
      "_________________________________________________________________\n",
      "dropout_1 (Dropout)          (None, 99, 128)           0         \n",
      "_________________________________________________________________\n",
      "conv1d_2 (Conv1D)            (None, 95, 128)           82048     \n",
      "_________________________________________________________________\n",
      "max_pooling1d_2 (MaxPooling1 (None, 47, 128)           0         \n",
      "_________________________________________________________________\n",
      "conv1d_3 (Conv1D)            (None, 43, 128)           82048     \n",
      "_________________________________________________________________\n",
      "max_pooling1d_3 (MaxPooling1 (None, 21, 128)           0         \n",
      "_________________________________________________________________\n",
      "dropout_2 (Dropout)          (None, 21, 128)           0         \n",
      "_________________________________________________________________\n",
      "flatten_1 (Flatten)          (None, 2688)              0         \n",
      "_________________________________________________________________\n",
      "dense_1 (Dense)              (None, 128)               344192    \n",
      "_________________________________________________________________\n",
      "dropout_3 (Dropout)          (None, 128)               0         \n",
      "_________________________________________________________________\n",
      "dense_2 (Dense)              (None, 3)                 387       \n",
      "=================================================================\n",
      "Total params: 6,700,803\n",
      "Trainable params: 700,803\n",
      "Non-trainable params: 6,000,000\n",
      "_________________________________________________________________\n"
     ]
    }
   ],
   "source": [
    "model_name = '../../models/livros_classif_w2v_2'\n",
    "\n",
    "def build_net(embedding_matrix=None, input_len=None, trainable=True):\n",
    "    num_words, embedding_dim = embedding_matrix.shape\n",
    "    \n",
    "    seq_input = Input(shape=(input_len,), dtype='int32')\n",
    "    embedding_layer = Embedding(num_words, embedding_dim, weights=[embedding_matrix],\n",
    "                                input_length=input_len, trainable=trainable)(seq_input)\n",
    "\n",
    "    x = Conv1D(128, 5, activation='relu')(embedding_layer)\n",
    "    x = MaxPooling1D(5)(x)\n",
    "\n",
    "    x = Dropout(0.5)(x)\n",
    "    \n",
    "    x = Conv1D(128, 5, activation='relu')(x)\n",
    "    x = MaxPooling1D(2)(x)\n",
    "    \n",
    "    x = Conv1D(128, 5, activation='relu')(x)\n",
    "    x = MaxPooling1D(2)(x)\n",
    "    \n",
    "    x = Dropout(0.5)(x)\n",
    "    \n",
    "    x = Flatten()(x)\n",
    "    x = Dense(128, activation='relu')(x)\n",
    "    \n",
    "    x = Dropout(0.5)(x)\n",
    "    \n",
    "    preds = Dense(n_labels, activation='softmax')(x)\n",
    "\n",
    "    model = Model(seq_input, preds)\n",
    "    return model\n",
    "\n",
    "model = build_net(embedding_matrix, seq_size, False)\n",
    "model.summary()"
   ]
  },
  {
   "cell_type": "markdown",
   "metadata": {
    "deletable": true,
    "editable": true
   },
   "source": [
    "## Treinando"
   ]
  },
  {
   "cell_type": "code",
   "execution_count": 9,
   "metadata": {
    "collapsed": false,
    "deletable": true,
    "editable": true,
    "scrolled": false
   },
   "outputs": [
    {
     "data": {
      "image/png": "[encoded data removed]",
      "text/plain": [
       "<matplotlib.figure.Figure at 0x7f144c1fecc0>"
      ]
     },
     "metadata": {},
     "output_type": "display_data"
    }
   ],
   "source": [
    "train_steps = n_train_words // (batch_size * seq_size)\n",
    "valid_steps = n_valid_words // (batch_size * seq_size)\n",
    "\n",
    "fit_params = {\n",
    "    'train_steps':     train_steps,\n",
    "    'valid_steps':     valid_steps,\n",
    "    'opt':             Adam(0.0001),      #SGD(lr=0.001, momentum=0.9, nesterov=True), \n",
    "    'nepochs':         50,\n",
    "    'patience':        10,\n",
    "    'ploss':           1.5,\n",
    "    'reset':           False,\n",
    "}\n",
    "\n",
    "train_network(model, model_name, train_gen(), valid_gen(), **fit_params);"
   ]
  },
  {
   "cell_type": "markdown",
   "metadata": {
    "deletable": true,
    "editable": true
   },
   "source": [
    "## Avaliando"
   ]
  },
  {
   "cell_type": "code",
   "execution_count": 10,
   "metadata": {
    "collapsed": false,
    "deletable": true,
    "editable": true
   },
   "outputs": [
    {
     "name": "stdout",
     "output_type": "stream",
     "text": [
      "Model from epoch 27\n",
      "[INFO] evaluating in the test data set ...\n",
      "\n",
      "[INFO] accuracy on the test data set: 97.61% [0.08410]\n"
     ]
    }
   ],
   "source": [
    "test_network(model_name, valid_gen(), valid_steps)"
   ]
  },
  {
   "cell_type": "code",
   "execution_count": null,
   "metadata": {
    "collapsed": true,
    "deletable": true,
    "editable": true
   },
   "outputs": [],
   "source": []
  }
 ],
 "metadata": {
  "kernelspec": {
   "display_name": "Python 3",
   "language": "python",
   "name": "python3"
  },
  "language_info": {
   "codemirror_mode": {
    "name": "ipython",
    "version": 3
   },
   "file_extension": ".py",
   "mimetype": "text/x-python",
   "name": "python",
   "nbconvert_exporter": "python",
   "pygments_lexer": "ipython3",
   "version": "3.4.3"
  },
  "latex_envs": {
   "LaTeX_envs_menu_present": true,
   "autocomplete": true,
   "bibliofile": "biblio.bib",
   "cite_by": "apalike",
   "current_citInitial": 1,
   "eqLabelWithNumbers": true,
   "eqNumInitial": 1,
   "hotkeys": {
    "equation": "Ctrl-E",
    "itemize": "Ctrl-I"
   },
   "labels_anchors": false,
   "latex_user_defs": false,
   "report_style_numbering": false,
   "user_envs_cfg": false
  },
  "toc": {
   "colors": {
    "hover_highlight": "#DAA520",
    "running_highlight": "#FF0000",
    "selected_highlight": "#FFD700"
   },
   "moveMenuLeft": true,
   "nav_menu": {
    "height": "264px",
    "width": "252px"
   },
   "navigate_menu": true,
   "number_sections": true,
   "sideBar": true,
   "threshold": 4,
   "toc_cell": true,
   "toc_section_display": "block",
   "toc_window_display": false,
   "widenNotebook": false
  }
 },
 "nbformat": 4,
 "nbformat_minor": 2
}
