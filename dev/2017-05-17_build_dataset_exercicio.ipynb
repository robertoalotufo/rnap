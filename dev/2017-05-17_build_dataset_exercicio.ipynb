{
 "cells": [
  {
   "cell_type": "code",
   "execution_count": 9,
   "metadata": {
    "ExecuteTime": {
     "end_time": "2017-05-16T21:33:55.862790",
     "start_time": "2017-05-16T21:33:55.422019"
    },
    "collapsed": false
   },
   "outputs": [],
   "source": [
    "%matplotlib inline\n",
    "import matplotlib.pyplot as plt\n",
    "import numpy as np\n"
   ]
  },
  {
   "cell_type": "code",
   "execution_count": 55,
   "metadata": {
    "collapsed": false
   },
   "outputs": [
    {
     "name": "stdout",
     "output_type": "stream",
     "text": [
      "(4898, 12)\n",
      "[[  7.     0.27   0.36 ...,   0.45   8.8    6.  ]\n",
      " [  6.3    0.3    0.34 ...,   0.49   9.5    6.  ]\n",
      " [  8.1    0.28   0.4  ...,   0.44  10.1    6.  ]\n",
      " ..., \n",
      " [  6.5    0.24   0.19 ...,   0.46   9.4    6.  ]\n",
      " [  5.5    0.29   0.3  ...,   0.38  12.8    7.  ]\n",
      " [  6.     0.21   0.38 ...,   0.32  11.8    6.  ]]\n",
      "[[  7.     0.27   0.36 ...,   3.     0.45   8.8 ]\n",
      " [  6.3    0.3    0.34 ...,   3.3    0.49   9.5 ]\n",
      " [  8.1    0.28   0.4  ...,   3.26   0.44  10.1 ]\n",
      " ..., \n",
      " [  6.5    0.24   0.19 ...,   2.99   0.46   9.4 ]\n",
      " [  5.5    0.29   0.3  ...,   3.34   0.38  12.8 ]\n",
      " [  6.     0.21   0.38 ...,   3.26   0.32  11.8 ]]\n",
      "[[ 6.]\n",
      " [ 6.]\n",
      " [ 6.]\n",
      " ..., \n",
      " [ 6.]\n",
      " [ 7.]\n",
      " [ 6.]]\n"
     ]
    }
   ],
   "source": [
    "import pandas as pd\n",
    "df=pd.read_csv('../data/winequality-white.csv', sep=';')\n",
    "data = df.values\n",
    "print(data.shape)\n",
    "print(data)\n",
    "X = data[:,:-1]\n",
    "y = data[:,-1:]\n",
    "M = X.shape[0]\n",
    "print(X)\n",
    "print(y)"
   ]
  },
  {
   "cell_type": "code",
   "execution_count": 56,
   "metadata": {
    "collapsed": false
   },
   "outputs": [
    {
     "name": "stdout",
     "output_type": "stream",
     "text": [
      "1640 2198 1060\n"
     ]
    }
   ],
   "source": [
    "c0 = y < 6\n",
    "c1 = y == 6\n",
    "c2 = y >6\n",
    "print(c0.sum(),c1.sum(),c2.sum())\n",
    "yyy = np.empty_like(y)\n",
    "yyy[c0] = 0\n",
    "yyy[c1] = 1\n",
    "yyy[c2] = 2"
   ]
  },
  {
   "cell_type": "code",
   "execution_count": 62,
   "metadata": {
    "collapsed": false
   },
   "outputs": [
    {
     "name": "stdout",
     "output_type": "stream",
     "text": [
      "(4898, 11)\n",
      "(4898,)\n",
      "(4898, 11)\n"
     ]
    }
   ],
   "source": [
    "print(X.shape)\n",
    "i = np.random.randint(M,size=M)\n",
    "print(i.shape)\n",
    "print(X[i].shape)\n",
    "xx = X[i].reshape(4898,11)\n",
    "yy = yyy[i].reshape(4898,1)"
   ]
  },
  {
   "cell_type": "code",
   "execution_count": 63,
   "metadata": {
    "collapsed": false
   },
   "outputs": [
    {
     "name": "stdout",
     "output_type": "stream",
     "text": [
      "[[ 0.]\n",
      " [ 0.]\n",
      " [ 1.]\n",
      " ..., \n",
      " [ 1.]\n",
      " [ 2.]\n",
      " [ 1.]]\n"
     ]
    },
    {
     "data": {
      "text/plain": [
       "[<matplotlib.lines.Line2D at 0x1171da518>]"
      ]
     },
     "execution_count": 63,
     "metadata": {},
     "output_type": "execute_result"
    },
    {
     "data": {
      "image/png": "[encoded data removed]",
      "text/plain": [
       "<matplotlib.figure.Figure at 0x1163e6198>"
      ]
     },
     "metadata": {},
     "output_type": "display_data"
    }
   ],
   "source": [
    "print(yy)\n",
    "plt.plot(np.sort(yy[:,0]))\n",
    "#plt.hist(y)\n"
   ]
  },
  {
   "cell_type": "code",
   "execution_count": 64,
   "metadata": {
    "collapsed": true
   },
   "outputs": [],
   "source": [
    "X_train = xx[:4000]\n",
    "X_test = xx[4000:]\n",
    "y_train = yy[:4000]\n",
    "y_test = yy[4000:]"
   ]
  },
  {
   "cell_type": "code",
   "execution_count": 66,
   "metadata": {
    "collapsed": false
   },
   "outputs": [
    {
     "name": "stdout",
     "output_type": "stream",
     "text": [
      "[[  6.4    0.32   0.23 ...,   3.26   0.54   9.1 ]\n",
      " [  6.8    0.39   0.31 ...,   3.17   0.54   9.1 ]\n",
      " [  7.3    0.13   0.32 ...,   3.2    0.35   9.2 ]\n",
      " ..., \n",
      " [  7.4    0.33   0.26 ...,   3.06   0.68   9.5 ]\n",
      " [  6.9    0.3    0.3  ...,   3.07   0.32  12.7 ]\n",
      " [  7.4    0.25   0.37 ...,   3.     0.48  10.7 ]]\n",
      "(4000, 11)\n",
      "[[ 0.]\n",
      " [ 0.]\n",
      " [ 1.]\n",
      " ..., \n",
      " [ 0.]\n",
      " [ 1.]\n",
      " [ 2.]]\n",
      "(4000, 1)\n"
     ]
    }
   ],
   "source": [
    "print(X_train)\n",
    "print(X_train.shape)\n",
    "print(y_train)\n",
    "print(y_train.shape)"
   ]
  },
  {
   "cell_type": "code",
   "execution_count": 68,
   "metadata": {
    "collapsed": false
   },
   "outputs": [
    {
     "name": "stdout",
     "output_type": "stream",
     "text": [
      "(898, 11)\n",
      "(898, 1)\n"
     ]
    }
   ],
   "source": [
    "print(X_test.shape)\n",
    "print(y_test.shape)"
   ]
  },
  {
   "cell_type": "code",
   "execution_count": 69,
   "metadata": {
    "collapsed": true
   },
   "outputs": [],
   "source": [
    "np.savez('../data/Exercicio2', X_train=X_train, y_train=y_train)\n",
    "\n",
    "#np.savez([X_train,y_train],)"
   ]
  },
  {
   "cell_type": "code",
   "execution_count": 75,
   "metadata": {
    "collapsed": false
   },
   "outputs": [],
   "source": [
    "a= np.load('../data/Exercicio2.npz')\n",
    "XX_train = a['X_train']\n",
    "yy_train = a['y_train']"
   ]
  },
  {
   "cell_type": "code",
   "execution_count": 76,
   "metadata": {
    "collapsed": false
   },
   "outputs": [
    {
     "name": "stdout",
     "output_type": "stream",
     "text": [
      "total 1272\r\n",
      "-rw-r--r--  1 robertoalotufo  staff  384378 17 Mai 16:41 Exercicio2.npz\r\n",
      "-rwxrwxrwx@ 1 robertoalotufo  staff  264426 26 Jun  2009 \u001b[31mwinequality-white.csv\u001b[m\u001b[m\r\n"
     ]
    }
   ],
   "source": [
    "!ls -l ../data/\n"
   ]
  }
 ],
 "metadata": {
  "kernelspec": {
   "display_name": "Python 3",
   "language": "python",
   "name": "python3"
  },
  "language_info": {
   "codemirror_mode": {
    "name": "ipython",
    "version": 3
   },
   "file_extension": ".py",
   "mimetype": "text/x-python",
   "name": "python",
   "nbconvert_exporter": "python",
   "pygments_lexer": "ipython3",
   "version": "3.6.0"
  },
  "toc": {
   "colors": {
    "hover_highlight": "#DAA520",
    "running_highlight": "#FF0000",
    "selected_highlight": "#FFD700"
   },
   "moveMenuLeft": true,
   "nav_menu": {
    "height": "12px",
    "width": "252px"
   },
   "navigate_menu": true,
   "number_sections": true,
   "sideBar": true,
   "threshold": 4,
   "toc_cell": false,
   "toc_section_display": "block",
   "toc_window_display": false
  }
 },
 "nbformat": 4,
 "nbformat_minor": 2
}
