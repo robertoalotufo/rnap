{
 "cells": [
  {
   "cell_type": "code",
   "execution_count": 1,
   "metadata": {
    "ExecuteTime": {
     "end_time": "2017-05-16T21:33:55.862790",
     "start_time": "2017-05-16T21:33:55.422019"
    },
    "collapsed": false
   },
   "outputs": [],
   "source": [
    "%matplotlib inline\n",
    "import matplotlib.pyplot as plt\n",
    "import numpy as np\n"
   ]
  },
  {
   "cell_type": "code",
   "execution_count": 2,
   "metadata": {
    "collapsed": false
   },
   "outputs": [
    {
     "name": "stdout",
     "output_type": "stream",
     "text": [
      "(4898, 12)\n",
      "[[  7.     0.27   0.36 ...,   0.45   8.8    6.  ]\n",
      " [  6.3    0.3    0.34 ...,   0.49   9.5    6.  ]\n",
      " [  8.1    0.28   0.4  ...,   0.44  10.1    6.  ]\n",
      " ..., \n",
      " [  6.5    0.24   0.19 ...,   0.46   9.4    6.  ]\n",
      " [  5.5    0.29   0.3  ...,   0.38  12.8    7.  ]\n",
      " [  6.     0.21   0.38 ...,   0.32  11.8    6.  ]]\n",
      "[[  7.     0.27   0.36 ...,   3.     0.45   8.8 ]\n",
      " [  6.3    0.3    0.34 ...,   3.3    0.49   9.5 ]\n",
      " [  8.1    0.28   0.4  ...,   3.26   0.44  10.1 ]\n",
      " ..., \n",
      " [  6.5    0.24   0.19 ...,   2.99   0.46   9.4 ]\n",
      " [  5.5    0.29   0.3  ...,   3.34   0.38  12.8 ]\n",
      " [  6.     0.21   0.38 ...,   3.26   0.32  11.8 ]]\n",
      "[[ 6.]\n",
      " [ 6.]\n",
      " [ 6.]\n",
      " ..., \n",
      " [ 6.]\n",
      " [ 7.]\n",
      " [ 6.]]\n"
     ]
    }
   ],
   "source": [
    "import pandas as pd\n",
    "df=pd.read_csv('../data/winequality-white.csv', sep=';')\n",
    "data = df.values\n",
    "print(data.shape)\n",
    "print(data)\n",
    "X = data[:,:-1]\n",
    "y = data[:,-1:]\n",
    "M = X.shape[0]\n",
    "print(X)\n",
    "print(y)"
   ]
  },
  {
   "cell_type": "code",
   "execution_count": 3,
   "metadata": {
    "collapsed": false
   },
   "outputs": [
    {
     "name": "stdout",
     "output_type": "stream",
     "text": [
      "1640 2198 1060\n"
     ]
    }
   ],
   "source": [
    "c0 = y < 6\n",
    "c1 = y == 6\n",
    "c2 = y >6\n",
    "print(c0.sum(),c1.sum(),c2.sum())\n",
    "yyy = np.empty_like(y)\n",
    "yyy[c0] = 0\n",
    "yyy[c1] = 1\n",
    "yyy[c2] = 2"
   ]
  },
  {
   "cell_type": "code",
   "execution_count": 4,
   "metadata": {
    "collapsed": false
   },
   "outputs": [
    {
     "name": "stdout",
     "output_type": "stream",
     "text": [
      "(4898, 11)\n",
      "(4898,)\n",
      "(4898, 11)\n"
     ]
    }
   ],
   "source": [
    "print(X.shape)\n",
    "i = np.random.randint(M,size=M)\n",
    "print(i.shape)\n",
    "print(X[i].shape)\n",
    "xx = X[i].reshape(4898,11)\n",
    "yy = yyy[i].reshape(4898,1)"
   ]
  },
  {
   "cell_type": "code",
   "execution_count": 5,
   "metadata": {
    "collapsed": false
   },
   "outputs": [
    {
     "name": "stdout",
     "output_type": "stream",
     "text": [
      "[[ 1.]\n",
      " [ 0.]\n",
      " [ 0.]\n",
      " ..., \n",
      " [ 1.]\n",
      " [ 1.]\n",
      " [ 0.]]\n"
     ]
    },
    {
     "data": {
      "text/plain": [
       "[<matplotlib.lines.Line2D at 0x10e40ce48>]"
      ]
     },
     "execution_count": 5,
     "metadata": {},
     "output_type": "execute_result"
    },
    {
     "data": {
      "image/png": "[encoded data removed]",
      "text/plain": [
       "<matplotlib.figure.Figure at 0x109774b70>"
      ]
     },
     "metadata": {},
     "output_type": "display_data"
    }
   ],
   "source": [
    "print(yy)\n",
    "plt.plot(np.sort(yy[:,0]))\n",
    "#plt.hist(y)\n"
   ]
  },
  {
   "cell_type": "code",
   "execution_count": 6,
   "metadata": {
    "collapsed": true
   },
   "outputs": [],
   "source": [
    "X_train = xx[:4000]\n",
    "X_test = xx[4000:]\n",
    "y_train = yy[:4000]\n",
    "y_test = yy[4000:]"
   ]
  },
  {
   "cell_type": "code",
   "execution_count": 7,
   "metadata": {
    "collapsed": false
   },
   "outputs": [
    {
     "name": "stdout",
     "output_type": "stream",
     "text": [
      "[[  6.4          0.1          0.35       ...,   3.43         0.79         9.7       ]\n",
      " [  7.5          0.23         0.68       ...,   2.99         0.38         8.8       ]\n",
      " [  7.7          0.18         0.53       ...,   3.11         0.44        11.9       ]\n",
      " ..., \n",
      " [  6.7          0.41         0.24       ...,   3.12         0.44\n",
      "   12.89333333]\n",
      " [  7.5          0.19         0.34       ...,   3.1          0.49        11.1       ]\n",
      " [  7.6          0.31         0.24       ...,   3.05         0.44        11.8       ]]\n",
      "(4000, 11)\n",
      "[[ 1.]\n",
      " [ 0.]\n",
      " [ 0.]\n",
      " ..., \n",
      " [ 2.]\n",
      " [ 2.]\n",
      " [ 2.]]\n",
      "(4000, 1)\n"
     ]
    }
   ],
   "source": [
    "print(X_train)\n",
    "print(X_train.shape)\n",
    "print(y_train)\n",
    "print(y_train.shape)"
   ]
  },
  {
   "cell_type": "code",
   "execution_count": 69,
   "metadata": {
    "collapsed": true
   },
   "outputs": [],
   "source": [
    "np.savez('../data/Exercicio2', X_train=X_train, y_train=y_train)\n",
    "\n",
    "#np.savez([X_train,y_train],)"
   ]
  },
  {
   "cell_type": "code",
   "execution_count": 8,
   "metadata": {
    "collapsed": false
   },
   "outputs": [],
   "source": [
    "a= np.load('../data/Exercicio2.npz')\n",
    "XX_train = a['X_train']\n",
    "yy_train = a['y_train']"
   ]
  },
  {
   "cell_type": "code",
   "execution_count": 9,
   "metadata": {
    "collapsed": false
   },
   "outputs": [
    {
     "name": "stdout",
     "output_type": "stream",
     "text": [
      "(898, 11)\n",
      "(898, 1)\n"
     ]
    }
   ],
   "source": [
    "print(X_test.shape)\n",
    "print(y_test.shape)"
   ]
  },
  {
   "cell_type": "code",
   "execution_count": 10,
   "metadata": {
    "collapsed": true
   },
   "outputs": [],
   "source": [
    "np.savez('../data/Exercicio2_teste', X_test=X_test, y_test=y_test)\n"
   ]
  },
  {
   "cell_type": "code",
   "execution_count": 11,
   "metadata": {
    "collapsed": false
   },
   "outputs": [
    {
     "name": "stdout",
     "output_type": "stream",
     "text": [
      "(898, 11) (898, 1)\n"
     ]
    }
   ],
   "source": [
    "a= np.load('../data/Exercicio2_teste.npz')\n",
    "XX_test = a['X_test']\n",
    "yy_test = a['y_test']\n",
    "print(XX_test.shape,yy_test.shape)"
   ]
  },
  {
   "cell_type": "code",
   "execution_count": 12,
   "metadata": {
    "collapsed": false
   },
   "outputs": [
    {
     "name": "stdout",
     "output_type": "stream",
     "text": [
      "total 2696\r\n",
      "-rw-r--r--  1 robertoalotufo  staff  384378 17 Mai 16:41 Exercicio2.npz\r\n",
      "-rw-r--r--  1 robertoalotufo  staff   86582 29 Mai 16:38 Exercicio2_teste.npz\r\n",
      "-rw-r--r--  1 robertoalotufo  staff  138145 29 Mai 11:40 Moremi_elephant.jpg\r\n",
      "-rw-r--r--  1 robertoalotufo  staff  168176 29 Mai 11:40 horse.jpg\r\n",
      "-rw-r--r--  1 robertoalotufo  staff  325789 29 Mai 11:40 mula.jpg\r\n",
      "-rwxrwxrwx@ 1 robertoalotufo  staff  264426 26 Jun  2009 \u001b[31mwinequality-white.csv\u001b[m\u001b[m\r\n"
     ]
    }
   ],
   "source": [
    "!ls -l ../data/\n"
   ]
  },
  {
   "cell_type": "code",
   "execution_count": null,
   "metadata": {
    "collapsed": true
   },
   "outputs": [],
   "source": []
  }
 ],
 "metadata": {
  "kernelspec": {
   "display_name": "Python 3",
   "language": "python",
   "name": "python3"
  },
  "language_info": {
   "codemirror_mode": {
    "name": "ipython",
    "version": 3
   },
   "file_extension": ".py",
   "mimetype": "text/x-python",
   "name": "python",
   "nbconvert_exporter": "python",
   "pygments_lexer": "ipython3",
   "version": "3.6.0"
  },
  "toc": {
   "colors": {
    "hover_highlight": "#DAA520",
    "running_highlight": "#FF0000",
    "selected_highlight": "#FFD700"
   },
   "moveMenuLeft": true,
   "nav_menu": {
    "height": "12px",
    "width": "252px"
   },
   "navigate_menu": true,
   "number_sections": true,
   "sideBar": true,
   "threshold": 4,
   "toc_cell": false,
   "toc_section_display": "block",
   "toc_window_display": false
  }
 },
 "nbformat": 4,
 "nbformat_minor": 2
}
