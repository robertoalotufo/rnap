{
 "cells": [
  {
   "cell_type": "code",
   "execution_count": 1,
   "metadata": {
    "collapsed": false,
    "deletable": true,
    "editable": true
   },
   "outputs": [
    {
     "name": "stderr",
     "output_type": "stream",
     "text": [
      "Using TensorFlow backend.\n"
     ]
    }
   ],
   "source": [
    "%matplotlib inline\n",
    "import matplotlib.pyplot as plot\n",
    "from IPython import display\n",
    "from __future__ import print_function\n",
    "\n",
    "from keras.models import Sequential\n",
    "from keras.layers import Dense, Activation\n",
    "from keras.layers import LSTM\n",
    "from keras.optimizers import RMSprop, Adam\n",
    "from keras.utils.data_utils import get_file\n",
    "import numpy as np\n",
    "import random\n",
    "import glob\n",
    "import sys\n",
    "import os\n",
    "import re\n",
    "\n",
    "sys.path.append('../src')\n",
    "from my_keras_utilities import (get_available_gpus, \n",
    "                                load_model_and_history, \n",
    "                                save_model_and_history, \n",
    "                                TrainingPlotter)\n",
    "\n",
    "os.makedirs('../../models',exist_ok=True)\n",
    "np.set_printoptions(precision=3, linewidth=120)"
   ]
  },
  {
   "cell_type": "code",
   "execution_count": 2,
   "metadata": {
    "collapsed": false,
    "deletable": true,
    "editable": true
   },
   "outputs": [
    {
     "name": "stdout",
     "output_type": "stream",
     "text": [
      "Backend:        tensorflow\n",
      "Data format:    channels_last\n",
      "Available GPUS: ['/gpu:0']\n"
     ]
    }
   ],
   "source": [
    "import keras.backend as K\n",
    "\n",
    "# K.set_image_data_format('channels_first')\n",
    "K.set_floatx('float32')\n",
    "\n",
    "print('Backend:        {}'.format(K.backend()))\n",
    "print('Data format:    {}'.format(K.image_data_format()))\n",
    "print('Available GPUS:', get_available_gpus())"
   ]
  },
  {
   "cell_type": "code",
   "execution_count": 3,
   "metadata": {
    "collapsed": true,
    "deletable": true,
    "editable": true
   },
   "outputs": [],
   "source": [
    "class MyCb(TrainingPlotter):\n",
    "    \n",
    "    def on_epoch_end(self, epoch, logs={}):\n",
    "        super().on_epoch_end(epoch, logs)\n",
    "\n",
    "\n",
    "def train_network(model, model_name, X_train, y_train, Xval=None, yval=None, \n",
    "                  opt='rmsprop', batch_size=60, nepochs=50000, patience=500, nr_seed=20170522, \n",
    "                  reset=False, ploss=1.0):\n",
    "\n",
    "    do_plot = (ploss > 0.0)\n",
    "    \n",
    "    model_fn = model_name + '.model'\n",
    "    if reset and os.path.isfile(model_fn):\n",
    "        os.unlink(model_name + '.model')\n",
    "        \n",
    "    if not os.path.isfile(model_fn):\n",
    "        # initialize the optimizer and model\n",
    "        print(\"[INFO] compiling model...\")\n",
    "        model.compile(loss=\"categorical_crossentropy\", optimizer=opt, metrics=[\"accuracy\"])    \n",
    "\n",
    "        # History, checkpoint, earlystop, plot losses:\n",
    "        cb = MyCb(n=1, filepath=model_name, patience=patience, plot_losses=do_plot)\n",
    "        \n",
    "    else:\n",
    "        print(\"[INFO] loading model...\")\n",
    "        model, cb = load_model_and_history(model_name)\n",
    "        cb.patience = patience\n",
    "\n",
    "    past_epochs = cb.get_nepochs()\n",
    "    tr_epochs = nepochs - past_epochs\n",
    "    \n",
    "    if do_plot:\n",
    "        vv = 0\n",
    "        fig = plot.figure(figsize=(15,6))\n",
    "        plot.ylim(0.0, ploss)\n",
    "        plot.xlim(0, nepochs)\n",
    "        plot.grid(True)\n",
    "    else:\n",
    "        vv = 2\n",
    "        \n",
    "    if Xval is not None:\n",
    "        val_data = (Xval, yval)\n",
    "    else:\n",
    "        val_data = None\n",
    "\n",
    "    print(\"[INFO] training for {} epochs...\".format(tr_epochs))\n",
    "    try:\n",
    "        h = model.fit(X_train, y_train, batch_size=60, epochs=tr_epochs, verbose=0, \n",
    "                      validation_data=val_data, callbacks=[cb])\n",
    "    except KeyboardInterrupt:\n",
    "        pass\n",
    "\n",
    "    return model, cb\n",
    "\n",
    "\n",
    "def test_network(model_name, X_test, y_test):\n",
    "    model, histo = load_model_and_history(model_name)\n",
    "    print('Model from epoch {}'.format(histo.best_epoch))\n",
    "    print(\"[INFO] evaluating in the test data set ...\")\n",
    "    loss, accuracy = model.evaluate(X_test, y_test, batch_size=128, verbose=1)\n",
    "    print(\"\\n[INFO] accuracy on the test data set: {:.2f}% [{:.5f}]\".format(accuracy * 100, loss))\n"
   ]
  },
  {
   "cell_type": "code",
   "execution_count": 4,
   "metadata": {
    "collapsed": false,
    "deletable": true,
    "editable": true
   },
   "outputs": [
    {
     "name": "stdout",
     "output_type": "stream",
     "text": [
      " 353713  Memorias_Postumas_de_Bras_Cubas\n",
      " 281167  Memorial_de_Aires\n",
      " 411870  Esau_e_Jaco\n",
      " 373300  Dom_Casmurro\n",
      " 336677  Iaia_Garcia\n",
      " 445193  Quincas_Borba\n",
      " 337533  Helena\n",
      "2539453\n"
     ]
    }
   ],
   "source": [
    "data_dir = '../../datasets/'\n",
    "\n",
    "def get_paragraphs(text):\n",
    "    txt = re.sub('\\n\\n+', '\\07', text)\n",
    "    txt = re.sub('\\n', ' ', txt)\n",
    "    # txt = re.sub('  +', ' ', txt)\n",
    "    txt = re.sub('\\07CAPÍTULO [^\\07]*\\07', '\\n', txt)\n",
    "    return txt.split('\\07')\n",
    "\n",
    "book_texts = []\n",
    "book_titles = []\n",
    "char_count = 0\n",
    "for fn in glob.glob(data_dir + 'livros/Machado_de_Assis__*.txt'):\n",
    "    _, book = os.path.basename(fn).split('__')\n",
    "    txt = open(fn, encoding='utf-8').read()\n",
    "    par_list = get_paragraphs(txt)\n",
    "    book_texts.append(par_list)\n",
    "    book_titles.append(book[:-4])\n",
    "    print('{:7d}  {}'.format(len(txt), book[:-4]))\n",
    "    char_count += len(txt)\n",
    "print('{:7d}'.format(char_count))\n",
    "\n",
    "nb_books = len(book_texts)\n",
    "nb_paras = [len(p) for p in book_texts]"
   ]
  },
  {
   "cell_type": "code",
   "execution_count": 5,
   "metadata": {
    "collapsed": false,
    "deletable": true,
    "editable": true
   },
   "outputs": [
    {
     "name": "stdout",
     "output_type": "stream",
     "text": [
      "\n",
      "total chars: 120\n",
      "['\\n', ' ', '!', '\"', '$', '&', \"'\", '(', ')', '*', '+', ',', '-', '.', '0', '1', '2', '3', '4', '5', '6', '7', '8', '9', ':', ';', '=', '?', 'A', 'B', 'C', 'D', 'E', 'F', 'G', 'H', 'I', 'J', 'K', 'L', 'M', 'N', 'O', 'P', 'Q', 'R', 'S', 'T', 'U', 'V', 'W', 'X', 'Y', 'Z', '_', 'a', 'b', 'c', 'd', 'e', 'f', 'g', 'h', 'i', 'j', 'k', 'l', 'm', 'n', 'o', 'p', 'q', 'r', 's', 't', 'u', 'v', 'w', 'x', 'y', 'z', '\\x92', '\\x93', '\\x94', '\\x96', '\\x97', '\\xa0', '¡', 'ª', '°', 'º', 'À', 'Á', 'Â', 'Ã', 'Ç', 'É', 'Ê', 'Í', 'Ó', 'Ô', 'Õ', 'Ú', 'à', 'á', 'â', 'ã', 'ä', 'ç', 'è', 'é', 'ê', 'ë', 'í', 'ñ', 'ó', 'ô', 'õ', 'ú', 'ü']\n"
     ]
    }
   ],
   "source": [
    "all_text = ''\n",
    "for paragraphs in book_texts:\n",
    "    for para in paragraphs:\n",
    "        all_text += para\n",
    "    \n",
    "chars = sorted(list(set(all_text)))\n",
    "char_indices = dict((c, i) for i, c in enumerate(chars))\n",
    "indices_char = dict((i, c) for i, c in enumerate(chars))\n",
    "\n",
    "nb_chars = len(chars)\n",
    "\n",
    "print('\\ntotal chars:', nb_chars)\n",
    "print(chars)\n"
   ]
  },
  {
   "cell_type": "code",
   "execution_count": 6,
   "metadata": {
    "collapsed": false,
    "deletable": true,
    "editable": true
   },
   "outputs": [
    {
     "name": "stdout",
     "output_type": "stream",
     "text": [
      "------------------------------------------------------------ <ñ> f1\n",
      "apenas doze anos.Cosas de Espa < ñ > a. Quem quer que fosse, porém\n",
      "------------------------------------------------------------ <> 92\n",
      " sacristão, rezas, aspersões d <  > água benta, o fechar do caixã\n",
      "------------------------------------------------------------ <> 93\n",
      "eriu à beira de minha cova:   <  > Vós, que o conhecestes, meus \n",
      "------------------------------------------------------------ <> 94\n",
      "ouvor ao nosso ilustre finado. <  > Bom e fiel amigo! Não, não me\n",
      "------------------------------------------------------------ <> 96\n",
      " sempre as nossas moções.\n",
      "Fez  <  > se o passeio à Tijuca, sem ou\n",
      "------------------------------------------------------------ <> 97\n",
      " anúncios. Acresce que chovia  <  >  peneirava uma chuvinha miúda\n",
      "------------------------------------------------------------ < > a0\n",
      "ei de gostá,Lelê, coco, naiá.\n",
      " <   > MELHOR DE DESCER QUE DE SUBIR\n"
     ]
    }
   ],
   "source": [
    "def print_char_neighbours(ch):\n",
    "    print('-'*60, '<{}> {:0x}'.format(ch, ord(ch)))\n",
    "    i = all_text.find(ch)\n",
    "    print(all_text[i-30:i], '<', ch, '>', all_text[i+1:i+30])\n",
    "\n",
    "i = print_char_neighbours('ñ')\n",
    "i = print_char_neighbours('\\x92')\n",
    "i = print_char_neighbours('\\x93')\n",
    "i = print_char_neighbours('\\x94')\n",
    "i = print_char_neighbours('\\x96')\n",
    "i = print_char_neighbours('\\x97')\n",
    "i = print_char_neighbours('\\xa0')\n"
   ]
  },
  {
   "cell_type": "code",
   "execution_count": 7,
   "metadata": {
    "collapsed": false,
    "deletable": true,
    "editable": true
   },
   "outputs": [
    {
     "name": "stdout",
     "output_type": "stream",
     "text": [
      "nb sequences: 726390\n"
     ]
    }
   ],
   "source": [
    "seq_len = 40\n",
    "step = 3\n",
    "sentences = []\n",
    "next_chars = []\n",
    "indexes = []\n",
    "for k, book_paragraphs in enumerate(book_texts):\n",
    "    for j, text in enumerate(book_paragraphs):\n",
    "        for i in range(0, len(text) - seq_len - 1, step):\n",
    "            sentences.append(text[i: i + seq_len])\n",
    "            next_chars.append(text[i + seq_len])\n",
    "            indexes.append([k, j, i])\n",
    "\n",
    "print('nb sequences:', len(sentences))"
   ]
  },
  {
   "cell_type": "code",
   "execution_count": 8,
   "metadata": {
    "collapsed": false,
    "deletable": true,
    "editable": true
   },
   "outputs": [
    {
     "name": "stdout",
     "output_type": "stream",
     "text": [
      "Vectorization ...\n",
      "X.shape: (726390, 40, 120)\n",
      "y.shape: (726390, 120)\n"
     ]
    }
   ],
   "source": [
    "print('Vectorization ...')\n",
    "nb_samples = len(sentences)\n",
    "\n",
    "X = np.zeros((nb_samples, seq_len, nb_chars), dtype=np.bool)\n",
    "y = np.zeros((nb_samples, nb_chars), dtype=np.bool)\n",
    "for i, sentence in enumerate(sentences):\n",
    "    for t, char in enumerate(sentence):\n",
    "        X[i, t, char_indices[char]] = 1\n",
    "    y[i, char_indices[next_chars[i]]] = 1\n",
    "    \n",
    "print('X.shape:', X.shape)\n",
    "print('y.shape:', y.shape)\n"
   ]
  },
  {
   "cell_type": "code",
   "execution_count": 9,
   "metadata": {
    "collapsed": false,
    "deletable": true,
    "editable": true
   },
   "outputs": [
    {
     "name": "stdout",
     "output_type": "stream",
     "text": [
      "Build model...\n",
      "_________________________________________________________________\n",
      "Layer (type)                 Output Shape              Param #   \n",
      "=================================================================\n",
      "lstm_1 (LSTM)                (None, 128)               127488    \n",
      "_________________________________________________________________\n",
      "dense_1 (Dense)              (None, 120)               15480     \n",
      "_________________________________________________________________\n",
      "activation_1 (Activation)    (None, 120)               0         \n",
      "=================================================================\n",
      "Total params: 142,968\n",
      "Trainable params: 142,968\n",
      "Non-trainable params: 0\n",
      "_________________________________________________________________\n"
     ]
    }
   ],
   "source": [
    "# build the model: a single LSTM\n",
    "print('Build model...')\n",
    "model = Sequential()\n",
    "model.add(LSTM(128, input_shape=(seq_len, len(chars))))\n",
    "model.add(Dense(len(chars)))\n",
    "model.add(Activation('softmax'))\n",
    "model.summary()\n",
    "\n",
    "# optimizer = RMSprop(lr=0.01)\n",
    "# model.compile(loss='categorical_crossentropy', optimizer=optimizer)\n"
   ]
  },
  {
   "cell_type": "code",
   "execution_count": null,
   "metadata": {
    "collapsed": false,
    "deletable": true,
    "editable": true
   },
   "outputs": [
    {
     "name": "stdout",
     "output_type": "stream",
     "text": [
      "(363195, 40, 120) (363195, 120) (363195, 40, 120) (363195, 120)\n"
     ]
    }
   ],
   "source": [
    "from sklearn.model_selection import train_test_split\n",
    "\n",
    "X_tra, X_val, y_tra, y_val = train_test_split(X, y, test_size=0.5)\n",
    "print(X_tra.shape, y_tra.shape, X_val.shape, y_val.shape)"
   ]
  },
  {
   "cell_type": "code",
   "execution_count": null,
   "metadata": {
    "collapsed": false,
    "deletable": true,
    "editable": true
   },
   "outputs": [
    {
     "data": {
      "image/png": "[encoded data removed]",
      "text/plain": [
       "<matplotlib.figure.Figure at 0x7f9da7ec0fd0>"
      ]
     },
     "metadata": {},
     "output_type": "display_data"
    }
   ],
   "source": [
    "model_name = '../../models/machado_1'\n",
    "\n",
    "fit_params = {\n",
    "    'opt':        RMSprop(lr=0.01),\n",
    "    'batch_size': 128, \n",
    "    'nepochs':    60,\n",
    "    'patience':   15,\n",
    "    'ploss':      2.,\n",
    "    'reset':      False,\n",
    "}\n",
    "\n",
    "N = 100000\n",
    "Xtra, ytra = X_tra[:N], y_tra[:N]\n",
    "\n",
    "train_network(model, model_name, Xtra, ytra, **fit_params);"
   ]
  },
  {
   "cell_type": "code",
   "execution_count": 19,
   "metadata": {
    "collapsed": true,
    "deletable": true,
    "editable": true
   },
   "outputs": [],
   "source": [
    "model, histo = load_model_and_history(model_name)"
   ]
  },
  {
   "cell_type": "code",
   "execution_count": 20,
   "metadata": {
    "collapsed": false,
    "deletable": true,
    "editable": true
   },
   "outputs": [
    {
     "name": "stdout",
     "output_type": "stream",
     "text": [
      " Prudêncio,  o que meu pai libertara al\n",
      "----------------------------------------\n",
      " Prudêncio,  o que meu pai libertara alg\n",
      "------------------------------------------------------------\n",
      " Prudêncio,  o que meu pai libertara alguma coisa de propedia a mesma casa de pouco de propedia a mesma casa de pouco de propedia a mesma ca\n",
      "------------------------------------------------------------\n",
      " Prudêncio,  o que meu pai libertara alguma coisa de propedia a mesma casa de pouco de propedia a mesma casa de pouco de propedia a mesma casa de pouco de propedia a mesma casa de pouco de propedia a mesma casa de pouco de propedia a mesma \n",
      "------------------------------------------------------------\n",
      " Prudêncio,  o que meu pai libertara alguma coisa de propedia a mesma casa de pouco de propedia a mesma casa de pouco de propedia a mesma casa de pouco de propedia a mesma casa de pouco de propedia a mesma casa de pouco de propedia a mesma casa de pouco de propedia a mesma casa de pouco de propedia a mesma casa de pouco de propedia a mesm\n",
      "------------------------------------------------------------\n"
     ]
    }
   ],
   "source": [
    "start_index = random.randint(0, len(all_text) - seq_len - 1)\n",
    "generated = ''\n",
    "sentence = all_text[start_index: start_index + seq_len]\n",
    "generated += sentence\n",
    "print(sentence)\n",
    "print('-'*len(sentence))\n",
    "\n",
    "for i in range(400):\n",
    "    x = np.zeros((1, seq_len, nb_chars))\n",
    "    for t, char in enumerate(sentence):\n",
    "        x[0, t, char_indices[char]] = 1.\n",
    "\n",
    "    preds = model.predict(x, verbose=0)[0]\n",
    "    index = np.argmax(preds)\n",
    "    next_char = indices_char[index]\n",
    "    \n",
    "    generated += next_char\n",
    "    sentence = sentence[1:] + next_char\n",
    "\n",
    "    if i%100 == 0:\n",
    "        print(generated)\n",
    "        print('-'*60)\n",
    "    "
   ]
  },
  {
   "cell_type": "code",
   "execution_count": null,
   "metadata": {
    "collapsed": true,
    "deletable": true,
    "editable": true
   },
   "outputs": [],
   "source": []
  }
 ],
 "metadata": {
  "kernelspec": {
   "display_name": "Python 3",
   "language": "python",
   "name": "python3"
  },
  "language_info": {
   "codemirror_mode": {
    "name": "ipython",
    "version": 3
   },
   "file_extension": ".py",
   "mimetype": "text/x-python",
   "name": "python",
   "nbconvert_exporter": "python",
   "pygments_lexer": "ipython3",
   "version": "3.4.3"
  },
  "latex_envs": {
   "LaTeX_envs_menu_present": true,
   "autocomplete": true,
   "bibliofile": "biblio.bib",
   "cite_by": "apalike",
   "current_citInitial": 1,
   "eqLabelWithNumbers": true,
   "eqNumInitial": 1,
   "hotkeys": {
    "equation": "Ctrl-E",
    "itemize": "Ctrl-I"
   },
   "labels_anchors": false,
   "latex_user_defs": false,
   "report_style_numbering": false,
   "user_envs_cfg": false
  },
  "toc": {
   "colors": {
    "hover_highlight": "#DAA520",
    "running_highlight": "#FF0000",
    "selected_highlight": "#FFD700"
   },
   "moveMenuLeft": true,
   "nav_menu": {
    "height": "12px",
    "width": "252px"
   },
   "navigate_menu": true,
   "number_sections": true,
   "sideBar": true,
   "threshold": 4,
   "toc_cell": false,
   "toc_section_display": "block",
   "toc_window_display": false,
   "widenNotebook": false
  }
 },
 "nbformat": 4,
 "nbformat_minor": 2
}
