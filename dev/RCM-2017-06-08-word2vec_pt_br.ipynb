{
 "cells": [
  {
   "cell_type": "markdown",
   "metadata": {
    "toc": "true"
   },
   "source": [
    "# Table of Contents\n",
    " <p><div class=\"lev1 toc-item\"><a href=\"#Word2Vec\" data-toc-modified-id=\"Word2Vec-1\"><span class=\"toc-item-num\">1&nbsp;&nbsp;</span>Word2Vec</a></div><div class=\"lev2 toc-item\"><a href=\"#Preâmbulo\" data-toc-modified-id=\"Preâmbulo-11\"><span class=\"toc-item-num\">1.1&nbsp;&nbsp;</span>Preâmbulo</a></div><div class=\"lev2 toc-item\"><a href=\"#Preparando-o-dataset\" data-toc-modified-id=\"Preparando-o-dataset-12\"><span class=\"toc-item-num\">1.2&nbsp;&nbsp;</span>Preparando o dataset</a></div><div class=\"lev3 toc-item\"><a href=\"#Buscando-o-texto-dos-livros-e-definindo-os-rótulos\" data-toc-modified-id=\"Buscando-o-texto-dos-livros-e-definindo-os-rótulos-121\"><span class=\"toc-item-num\">1.2.1&nbsp;&nbsp;</span>Buscando o texto dos livros e definindo os rótulos</a></div><div class=\"lev3 toc-item\"><a href=\"#Representando-as-palavras-através-de-índices-inteiros\" data-toc-modified-id=\"Representando-as-palavras-através-de-índices-inteiros-122\"><span class=\"toc-item-num\">1.2.2&nbsp;&nbsp;</span>Representando as palavras através de índices inteiros</a></div><div class=\"lev3 toc-item\"><a href=\"#Palavras-características-de-cada-livro\" data-toc-modified-id=\"Palavras-características-de-cada-livro-123\"><span class=\"toc-item-num\">1.2.3&nbsp;&nbsp;</span>Palavras características de cada livro</a></div><div class=\"lev2 toc-item\"><a href=\"#Word2Vec\" data-toc-modified-id=\"Word2Vec-13\"><span class=\"toc-item-num\">1.3&nbsp;&nbsp;</span>Word2Vec</a></div>"
   ]
  },
  {
   "cell_type": "markdown",
   "metadata": {},
   "source": [
    "# Word2Vec"
   ]
  },
  {
   "cell_type": "markdown",
   "metadata": {},
   "source": [
    "## Preâmbulo"
   ]
  },
  {
   "cell_type": "code",
   "execution_count": 1,
   "metadata": {
    "collapsed": false
   },
   "outputs": [
    {
     "name": "stderr",
     "output_type": "stream",
     "text": [
      "Using TensorFlow backend.\n"
     ]
    }
   ],
   "source": [
    "%matplotlib inline\n",
    "import matplotlib.pyplot as plot\n",
    "from IPython import display\n",
    "from __future__ import print_function\n",
    "\n",
    "import os\n",
    "import re\n",
    "import sys\n",
    "import glob\n",
    "import numpy as np\n",
    "import numpy.random as nr\n",
    "\n",
    "from keras.preprocessing.text import Tokenizer\n",
    "from keras.preprocessing.sequence import pad_sequences\n",
    "from keras.utils import to_categorical\n",
    "from keras.layers import Dense, Input, Flatten, Dropout\n",
    "from keras.layers import Conv1D, MaxPooling1D, Embedding\n",
    "from keras.models import Model\n",
    "from keras.optimizers import (SGD, \n",
    "                              RMSprop, \n",
    "                              Adam, \n",
    "                              Adadelta, \n",
    "                              Adagrad)\n",
    "\n",
    "sys.path.append('../src')\n",
    "from my_keras_utilities import (get_available_gpus, \n",
    "                                load_model_and_history, \n",
    "                                save_model_and_history, \n",
    "                                TrainingPlotter)\n",
    "\n",
    "os.makedirs('../../models',exist_ok=True)\n",
    "np.set_printoptions(precision=3, linewidth=120)"
   ]
  },
  {
   "cell_type": "code",
   "execution_count": 2,
   "metadata": {
    "collapsed": false
   },
   "outputs": [
    {
     "name": "stdout",
     "output_type": "stream",
     "text": [
      "Backend:        tensorflow\n",
      "Data format:    channels_first\n",
      "Available GPUS: []\n"
     ]
    }
   ],
   "source": [
    "import keras.backend as K\n",
    "\n",
    "# K.set_image_data_format('channels_first')\n",
    "K.set_floatx('float32')\n",
    "\n",
    "print('Backend:        {}'.format(K.backend()))\n",
    "print('Data format:    {}'.format(K.image_data_format()))\n",
    "print('Available GPUS:', get_available_gpus())"
   ]
  },
  {
   "cell_type": "markdown",
   "metadata": {},
   "source": [
    "## Preparando o dataset"
   ]
  },
  {
   "cell_type": "markdown",
   "metadata": {},
   "source": [
    "### Buscando o texto dos livros e definindo os rótulos"
   ]
  },
  {
   "cell_type": "code",
   "execution_count": 3,
   "metadata": {
    "collapsed": false
   },
   "outputs": [
    {
     "name": "stdout",
     "output_type": "stream",
     "text": [
      "  87788  Fernando_Sabino    O_Bom_Ladrão\n",
      " 511681  Fernando_Sabino    O_Encontro_Marcado\n",
      " 328288  Fernando_Sabino    O_Grande_Mentecapto\n",
      " 180313  Fernando_Sabino    O_Menino_no_Espelho\n",
      " 427711  Jorge_Amado        Capitães_de_Areia\n",
      "1030735  Jorge_Amado        Dona_flor_seus_dois_maridos\n",
      " 828417  Jorge_Amado        Gabriela\n",
      "1001226  Jorge_Amado        Tereza_Batista_Cansada_de_Guerra\n",
      " 372459  Machado_de_Assis   Dom_Casmurro\n",
      " 411043  Machado_de_Assis   Esaú_e_Jacó\n",
      " 352965  Machado_de_Assis   Memórias_Póstumas_de_Brás_Cubas\n",
      " 443778  Machado_de_Assis   Quincas_Borba\n",
      "\n",
      "Labels:\n",
      "     0: Fernando_Sabino\n",
      "     1: Jorge_Amado\n",
      "     2: Machado_de_Assis\n"
     ]
    }
   ],
   "source": [
    "data_dir = '../../datasets/livros/'\n",
    "\n",
    "autores = [\n",
    "    'Fernando_Sabino', \n",
    "    'Jorge_Amado',\n",
    "    'Machado_de_Assis',\n",
    "]\n",
    "\n",
    "book_text = []\n",
    "book_author = []\n",
    "book_title = []\n",
    "for aut in autores:\n",
    "    for fn in glob.glob(data_dir + aut + '*.txt'):\n",
    "        author, book = os.path.basename(fn).split('__')\n",
    "        txt = open(fn).read().replace('\\x97', '')\n",
    "        book_text.append(txt)\n",
    "        book_author.append(author)\n",
    "        book_title.append(book[:-4])\n",
    "        print('{:7d}  {:18s} {}'.format(len(txt), author, book[:-4]))\n",
    "\n",
    "author_list = list(set(book_author))\n",
    "n_labels = len(author_list)\n",
    "n_books = len(book_title)\n",
    "book_label = [author_list.index(a) for a in book_author]\n",
    "print('\\nLabels:')\n",
    "for i, autor in enumerate(author_list):\n",
    "    print('    {:2d}: {}'.format(i, autor))"
   ]
  },
  {
   "cell_type": "markdown",
   "metadata": {},
   "source": [
    "### Representando as palavras através de índices inteiros"
   ]
  },
  {
   "cell_type": "code",
   "execution_count": 4,
   "metadata": {
    "collapsed": false
   },
   "outputs": [
    {
     "name": "stdout",
     "output_type": "stream",
     "text": [
      "Found 51557 unique tokens.\n"
     ]
    }
   ],
   "source": [
    "MAX_NB_WORDS = 50000\n",
    "\n",
    "tokenizer = Tokenizer(num_words=MAX_NB_WORDS)\n",
    "tokenizer.fit_on_texts(book_text)\n",
    "sequences = tokenizer.texts_to_sequences(book_text)\n",
    "\n",
    "w2i = tokenizer.word_index\n",
    "i2w = dict([(v, k) for k, v in w2i.items()])\n",
    "\n",
    "i2w_vec = np.array([i2w[i+1] for i in range(len(i2w))])\n",
    "\n",
    "print('Found %s unique tokens.' % len(w2i))"
   ]
  },
  {
   "cell_type": "code",
   "execution_count": 5,
   "metadata": {
    "collapsed": false,
    "scrolled": false
   },
   "outputs": [
    {
     "name": "stdout",
     "output_type": "stream",
     "text": [
      "Fernando Sabino: O Bom Ladrão -- 15139 palavras\n",
      "Fernando Sabino: O Encontro Marcado -- 87226 palavras\n",
      "Fernando Sabino: O Grande Mentecapto -- 56091 palavras\n",
      "Fernando Sabino: O Menino no Espelho -- 31938 palavras\n",
      "Jorge Amado: Capitães de Areia -- 78337 palavras\n",
      "Jorge Amado: Dona flor seus dois maridos -- 175457 palavras\n",
      "Jorge Amado: Gabriela -- 140073 palavras\n",
      "Jorge Amado: Tereza Batista Cansada de Guerra -- 174570 palavras\n",
      "Machado de Assis: Dom Casmurro -- 66969 palavras\n",
      "Machado de Assis: Esaú e Jacó -- 72640 palavras\n",
      "Machado de Assis: Memórias Póstumas de Brás Cubas -- 61492 palavras\n",
      "Machado de Assis: Quincas Borba -- 76423 palavras\n"
     ]
    }
   ],
   "source": [
    "word_sequences = []\n",
    "for i, seq in enumerate(sequences):\n",
    "    k = nr.randint(len(seq) - 100)\n",
    "    word_sequences.append([i2w[x] for x in seq])\n",
    "    print('{}: {} -- {} palavras'.format(book_author[i], book_title[i], len(seq)).replace('_', ' '))\n",
    "    # print(' '.join([i2w[x] for x in seq[k:k+100]]), end='\\n\\n')\n"
   ]
  },
  {
   "cell_type": "markdown",
   "metadata": {},
   "source": [
    "### Palavras características de cada livro"
   ]
  },
  {
   "cell_type": "code",
   "execution_count": 6,
   "metadata": {
    "collapsed": false
   },
   "outputs": [
    {
     "name": "stdout",
     "output_type": "stream",
     "text": [
      "[['que' 'de' 'garcia' 'brígida' 'norberto' 'abotoaduras' '–' 'isabel']\n",
      " ['eduardo' 'marciano' '“' 'vítor' 'gerlane' 'mauro' 'térsio' '—']\n",
      " ['tibério' 'dionísio' 'barbeca' 'ladisbão' '—' 'mentecapto' 'geraldo' 'viramundo']\n",
      " ['pastoff' 'alzira' 'odnanref' 'birica' 'anairam' 'hindemburgo' 'gerson' '—']\n",
      " ['ester' 'dalva' 'barandão' 'almiro' 'dora' '–' 'pirulito' 'trapiche']\n",
      " ['marilda' 'dinorá' 'teodoro' 'pelancchi' 'gisa' 'mirandão' 'rozilda' 'vadinho']\n",
      " ['arminda' 'malvina' 'mundinho' 'amâncio' 'fulgêncio' 'tonico' 'gabriela' 'nacib']\n",
      " ['libório' 'vavá' 'almério' 'januário' '—' 'dóris' 'justiniano' 'tereza']\n",
      " ['protonotário' 'bentinho' 'cabral' 'sancha' 'pádua' 'justina' 'capitu' 'escobar']\n",
      " ['cabocla' 'perpétua' 'excia' 'custódio' 'aires' 'natividade' 'cláudia' 'flora']\n",
      " ['loló' 'eusébia' 'cubas' 'quincas' 'sabina' 'cotrim' 'marcela' 'virgília']\n",
      " ['cristiano' 'fernanda' 'quincas' 'tonica' 'camacho' 'benedita' 'sofia' 'rubião']]\n"
     ]
    }
   ],
   "source": [
    "tfidf = tokenizer.sequences_to_matrix(sequences, mode='tfidf')\n",
    "ww = np.argsort(tfidf, axis=1)[:, -8:]\n",
    "print(i2w_vec[ww-1])"
   ]
  },
  {
   "cell_type": "markdown",
   "metadata": {},
   "source": [
    "## Word2Vec"
   ]
  },
  {
   "cell_type": "code",
   "execution_count": 7,
   "metadata": {
    "collapsed": false
   },
   "outputs": [
    {
     "name": "stderr",
     "output_type": "stream",
     "text": [
      "2017-06-09 12:03:29,788 : INFO : collecting all words and their counts\n",
      "2017-06-09 12:03:29,790 : INFO : PROGRESS: at sentence #0, processed 0 words, keeping 0 word types\n",
      "2017-06-09 12:03:29,987 : INFO : collected 49999 word types from a corpus of 1036355 raw words and 12 sentences\n",
      "2017-06-09 12:03:29,988 : INFO : Loading a fresh vocabulary\n",
      "2017-06-09 12:03:30,188 : INFO : min_count=3 retains 21357 unique words (42% of original 49999, drops 28642)\n",
      "2017-06-09 12:03:30,190 : INFO : min_count=3 leaves 1000153 word corpus (96% of original 1036355, drops 36202)\n",
      "2017-06-09 12:03:30,309 : INFO : deleting the raw counts dictionary of 49999 items\n",
      "2017-06-09 12:03:30,312 : INFO : sample=0.001 downsamples 39 most-common words\n",
      "2017-06-09 12:03:30,314 : INFO : downsampling leaves estimated 763603 word corpus (76.3% of prior 1000153)\n",
      "2017-06-09 12:03:30,315 : INFO : estimated required memory for 21357 words and 100 dimensions: 27764100 bytes\n",
      "2017-06-09 12:03:30,406 : INFO : resetting layer weights\n",
      "2017-06-09 12:03:30,909 : INFO : training model with 3 workers on 21357 vocabulary and 100 features, using sg=0 hs=0 sample=0.001 negative=5 window=5\n",
      "2017-06-09 12:03:31,472 : INFO : worker thread finished; awaiting finish of 2 more threads\n",
      "2017-06-09 12:03:31,478 : INFO : worker thread finished; awaiting finish of 1 more threads\n",
      "2017-06-09 12:03:31,484 : INFO : worker thread finished; awaiting finish of 0 more threads\n",
      "2017-06-09 12:03:31,485 : INFO : training on 5181775 raw words (600000 effective words) took 0.6s, 1047575 effective words/s\n",
      "2017-06-09 12:03:31,487 : INFO : saving Word2Vec object under ../../models/wv_pt_br, separately None\n",
      "2017-06-09 12:03:31,488 : INFO : not storing attribute syn0norm\n",
      "2017-06-09 12:03:31,489 : INFO : not storing attribute cum_table\n",
      "2017-06-09 12:03:32,066 : INFO : saved ../../models/wv_pt_br\n"
     ]
    }
   ],
   "source": [
    "import logging\n",
    "from gensim.models import Word2Vec\n",
    "logging.basicConfig(format='%(asctime)s : %(levelname)s : %(message)s', level=logging.INFO)\n",
    "\n",
    "model_fn = '../../models/wv_pt_br'\n",
    "model = Word2Vec(word_sequences, min_count=3, size=100, window=5, max_vocab_size=None)\n",
    "model.save(model_fn)\n",
    "\n",
    "word_vectors = model.wv\n",
    "del model"
   ]
  },
  {
   "cell_type": "code",
   "execution_count": 8,
   "metadata": {
    "collapsed": false,
    "scrolled": false
   },
   "outputs": [
    {
     "data": {
      "text/plain": [
       "((21357, 100), -3.0406098, 2.8944137)"
      ]
     },
     "execution_count": 8,
     "metadata": {},
     "output_type": "execute_result"
    }
   ],
   "source": [
    "data = word_vectors.syn0\n",
    "words = word_vectors.index2word\n",
    "\n",
    "data.shape, data.min(), data.max()"
   ]
  },
  {
   "cell_type": "code",
   "execution_count": 9,
   "metadata": {
    "collapsed": false
   },
   "outputs": [
    {
     "name": "stdout",
     "output_type": "stream",
     "text": [
      "[t-SNE] Computing pairwise distances...\n",
      "[t-SNE] Computing 151 nearest neighbors...\n",
      "[t-SNE] Computed conditional probabilities for sample 1000 / 21357\n",
      "[t-SNE] Computed conditional probabilities for sample 2000 / 21357\n",
      "[t-SNE] Computed conditional probabilities for sample 3000 / 21357\n",
      "[t-SNE] Computed conditional probabilities for sample 4000 / 21357\n",
      "[t-SNE] Computed conditional probabilities for sample 5000 / 21357\n",
      "[t-SNE] Computed conditional probabilities for sample 6000 / 21357\n",
      "[t-SNE] Computed conditional probabilities for sample 7000 / 21357\n",
      "[t-SNE] Computed conditional probabilities for sample 8000 / 21357\n",
      "[t-SNE] Computed conditional probabilities for sample 9000 / 21357\n",
      "[t-SNE] Computed conditional probabilities for sample 10000 / 21357\n",
      "[t-SNE] Computed conditional probabilities for sample 11000 / 21357\n",
      "[t-SNE] Computed conditional probabilities for sample 12000 / 21357\n",
      "[t-SNE] Computed conditional probabilities for sample 13000 / 21357\n",
      "[t-SNE] Computed conditional probabilities for sample 14000 / 21357\n",
      "[t-SNE] Computed conditional probabilities for sample 15000 / 21357\n",
      "[t-SNE] Computed conditional probabilities for sample 16000 / 21357\n",
      "[t-SNE] Computed conditional probabilities for sample 17000 / 21357\n",
      "[t-SNE] Computed conditional probabilities for sample 18000 / 21357\n",
      "[t-SNE] Computed conditional probabilities for sample 19000 / 21357\n",
      "[t-SNE] Computed conditional probabilities for sample 20000 / 21357\n",
      "[t-SNE] Computed conditional probabilities for sample 21000 / 21357\n",
      "[t-SNE] Computed conditional probabilities for sample 21357 / 21357\n",
      "[t-SNE] Mean sigma: 0.008222\n",
      "[t-SNE] Iteration 25: error = 0.7971843, gradient norm = 6.5099597\n",
      "[t-SNE] Iteration 50: error = 0.7975112, gradient norm = 549.8892822\n",
      "[t-SNE] Iteration 75: error = 0.7975122, gradient norm = 651148.0000000\n",
      "[t-SNE] Iteration 75: error difference 0.000000. Finished.\n",
      "[t-SNE] KL divergence after 75 iterations with early exaggeration: 0.797512\n",
      "[t-SNE] Iteration 100: error = 0.7975122, gradient norm = 1245778944.0000000\n",
      "[t-SNE] Iteration 100: error difference 0.000000. Finished.\n",
      "[t-SNE] Error after 100 iterations: 0.797512\n"
     ]
    },
    {
     "data": {
      "text/plain": [
       "(21357, 2)"
      ]
     },
     "execution_count": 9,
     "metadata": {},
     "output_type": "execute_result"
    }
   ],
   "source": [
    "from sklearn.manifold import TSNE\n",
    "from sklearn.decomposition import PCA\n",
    "\n",
    "tsne = TSNE(perplexity=50, n_components=2, init='pca', n_iter=1000, verbose=2)\n",
    "low_dim = tsne.fit_transform(data)\n",
    "\n",
    "# pca = PCA(n_components=2)\n",
    "# low_dim = pca.fit_transform(data)\n",
    "low_dim.shape"
   ]
  },
  {
   "cell_type": "code",
   "execution_count": 13,
   "metadata": {
    "collapsed": false
   },
   "outputs": [
    {
     "data": {
      "image/png": "[encoded data removed]",
      "text/plain": [
       "<matplotlib.figure.Figure at 0x12535c390>"
      ]
     },
     "metadata": {},
     "output_type": "display_data"
    }
   ],
   "source": [
    "def plot_with_labels(low_dim_embs, labels, filename='tsne.png'):\n",
    "    assert low_dim_embs.shape[0] >= len(labels), \"More labels than embeddings\"\n",
    "    plot.figure(figsize=(18, 18))  #in inches\n",
    "    for i, label in enumerate(labels):\n",
    "        x, y = low_dim_embs[i,:]\n",
    "        plot.scatter(x, y)\n",
    "        plot.annotate(label,\n",
    "                      xy=(x, y),\n",
    "                      xytext=(5, 2),\n",
    "                      textcoords='offset points',\n",
    "                      ha='right',\n",
    "                      va='bottom')\n",
    "    plot.savefig(filename)\n",
    "\n",
    "data = data[::-1]\n",
    "words = words[::-1]\n",
    "    \n",
    "plot_with_labels(low_dim[:500,:], words[:500])\n"
   ]
  },
  {
   "cell_type": "code",
   "execution_count": null,
   "metadata": {
    "collapsed": false
   },
   "outputs": [],
   "source": []
  }
 ],
 "metadata": {
  "kernelspec": {
   "display_name": "Python 3",
   "language": "python",
   "name": "python3"
  },
  "language_info": {
   "codemirror_mode": {
    "name": "ipython",
    "version": 3
   },
   "file_extension": ".py",
   "mimetype": "text/x-python",
   "name": "python",
   "nbconvert_exporter": "python",
   "pygments_lexer": "ipython3",
   "version": "3.6.0"
  },
  "latex_envs": {
   "LaTeX_envs_menu_present": true,
   "autocomplete": true,
   "bibliofile": "biblio.bib",
   "cite_by": "apalike",
   "current_citInitial": 1,
   "eqLabelWithNumbers": true,
   "eqNumInitial": 1,
   "hotkeys": {
    "equation": "Ctrl-E",
    "itemize": "Ctrl-I"
   },
   "labels_anchors": false,
   "latex_user_defs": false,
   "report_style_numbering": false,
   "user_envs_cfg": false
  },
  "toc": {
   "colors": {
    "hover_highlight": "#DAA520",
    "navigate_num": "#000000",
    "navigate_text": "#333333",
    "running_highlight": "#FF0000",
    "selected_highlight": "#FFD700",
    "sidebar_border": "#EEEEEE",
    "wrapper_background": "#FFFFFF"
   },
   "moveMenuLeft": true,
   "nav_menu": {
    "height": "264px",
    "width": "252px"
   },
   "navigate_menu": true,
   "number_sections": true,
   "sideBar": true,
   "threshold": 4,
   "toc_cell": true,
   "toc_section_display": "block",
   "toc_window_display": false,
   "widenNotebook": false
  }
 },
 "nbformat": 4,
 "nbformat_minor": 2
}
