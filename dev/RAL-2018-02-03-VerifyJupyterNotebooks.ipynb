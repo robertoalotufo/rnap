{
 "cells": [
  {
   "cell_type": "markdown",
   "metadata": {},
   "source": [
    "# Verify Jupyter Notebooks"
   ]
  },
  {
   "cell_type": "markdown",
   "metadata": {},
   "source": [
    "Este notebook testa uma lista de notebooks usados no curso e verifica se sua execução ocorre sem problemas"
   ]
  },
  {
   "cell_type": "code",
   "execution_count": 1,
   "metadata": {
    "ExecuteTime": {
     "end_time": "2018-02-20T17:35:37.685132Z",
     "start_time": "2018-02-20T17:35:37.640767Z"
    }
   },
   "outputs": [],
   "source": [
    "import os\n",
    "import time\n",
    "from IPython.utils.io import CapturedIO\n",
    "from IPython.display import display\n",
    "import nbformat\n",
    "import re"
   ]
  },
  {
   "cell_type": "code",
   "execution_count": 2,
   "metadata": {
    "ExecuteTime": {
     "end_time": "2018-02-20T17:35:37.952099Z",
     "start_time": "2018-02-20T17:35:37.945714Z"
    }
   },
   "outputs": [],
   "source": [
    "os.makedirs('../tmp',exist_ok=True)"
   ]
  },
  {
   "cell_type": "markdown",
   "metadata": {},
   "source": [
    "## Função que extrai a lista de todos os notebooks do arquivo de index"
   ]
  },
  {
   "cell_type": "code",
   "execution_count": 3,
   "metadata": {
    "ExecuteTime": {
     "end_time": "2018-02-20T17:35:38.354834Z",
     "start_time": "2018-02-20T17:35:38.348463Z"
    }
   },
   "outputs": [],
   "source": [
    "def nb_index2list(nb_index):\n",
    "    nb = nbformat.read(nb_index, as_version=4)\n",
    "    nn = [ncell['source']  for ncell in nb['cells'] if ncell['cell_type']=='markdown']\n",
    "    nb_list = [re.findall('\\((.+?).ipynb\\)',nn_each) for nn_each in nn]\n",
    "    nb_list = sum(nb_list, [])\n",
    "    return nb_list"
   ]
  },
  {
   "cell_type": "code",
   "execution_count": 4,
   "metadata": {
    "ExecuteTime": {
     "end_time": "2018-02-20T17:35:38.613282Z",
     "start_time": "2018-02-20T17:35:38.561693Z"
    }
   },
   "outputs": [],
   "source": [
    "nbl = nb_index2list('../PyTorch/0_index.ipynb')"
   ]
  },
  {
   "cell_type": "code",
   "execution_count": 5,
   "metadata": {
    "ExecuteTime": {
     "end_time": "2018-02-20T17:35:38.951391Z",
     "start_time": "2018-02-20T17:35:38.946486Z"
    }
   },
   "outputs": [],
   "source": [
    "nblist = ['ExercicioIntrodutorio',\n",
    " 'Matrizes_Arrays_Tensores', # demora 30 segundos\n",
    " 'MovingMean_Momentum',\n",
    " 'Cats_and_dogs',          # demora 110s na GPU\n",
    " #'RegressaoLinearDemo',    # esse zera o output do script de testes\n",
    " 'LinearRegressionIrisNumPy',\n",
    " 'LinearRegressionIris-Tensor',\n",
    " 'LinearRegressionIris-Tensor-Solucao',\n",
    " 'PyTorch_Variaveis_Gradientes',\n",
    " 'LinearRegressionIrisPyTorch',\n",
    " 'LinearRegressionIrisOptimizer',\n",
    "         ]"
   ]
  },
  {
   "cell_type": "code",
   "execution_count": 6,
   "metadata": {
    "ExecuteTime": {
     "end_time": "2018-02-20T17:35:39.279760Z",
     "start_time": "2018-02-20T17:35:39.270307Z"
    }
   },
   "outputs": [],
   "source": [
    "nblist1 = [\n",
    " 'LogisticRegressionIris',  # demora 16 segundos\n",
    " 'LogisticRegressionMNIST',\n",
    " 'datasets-e-dataloaders',\n",
    " 'LogisticRegressionMNIST-SGD',\n",
    " 'Activations_pytorch',\n",
    " 'Iris-dataset-2-ou-mais-camadas-fronteira-dinamica', # demora 12 segundos\n",
    " 'underfitting-overfitting-regularization',\n",
    " 'RegressaoLinearOtimizadores',  # demora 204 segundos, 45 na GPU\n",
    " 'optimizer',\n",
    " 'MNIST_neuralnet',\n",
    "]"
   ]
  },
  {
   "cell_type": "code",
   "execution_count": 7,
   "metadata": {
    "ExecuteTime": {
     "end_time": "2018-02-20T17:35:39.681611Z",
     "start_time": "2018-02-20T17:35:39.676870Z"
    }
   },
   "outputs": [],
   "source": [
    "nblist2 = [\n",
    " 'boston_housing',\n",
    " 'Predict_Boston_House_Prices',  # demora 13 seg\n",
    " 'batch_norm_basics_pytorch',\n",
    " 'credit_card_fraud_detection_kaggle_pytorch',  # demora 64 seg\n",
    " 'AnaliseSentimento_IMDB_bagwords', # demora 51 s\n",
    " 'autoencoder', # demora 26s\n",
    " 'model_selection_mnist_simple', # novo FALTA model\n",
    " 'model_selection_mnist', # demora 50s\n",
    " 'Explorando-Convolucao-no-PyTorch',\n",
    " 'Introducao-CNN-PyTorch',\n",
    " 'cifar10-CNN-features', # demora 26s\n",
    "]"
   ]
  },
  {
   "cell_type": "code",
   "execution_count": 8,
   "metadata": {
    "ExecuteTime": {
     "end_time": "2018-02-20T17:35:40.293427Z",
     "start_time": "2018-02-20T17:35:40.249566Z"
    }
   },
   "outputs": [
    {
     "ename": "NameError",
     "evalue": "name 'log_nb' is not defined",
     "output_type": "error",
     "traceback": [
      "\u001b[0;31m---------------------------------------------------------------------------\u001b[0m",
      "\u001b[0;31mNameError\u001b[0m                                 Traceback (most recent call last)",
      "\u001b[0;32m<ipython-input-8-2f9c49769df0>\u001b[0m in \u001b[0;36m<module>\u001b[0;34m()\u001b[0m\n\u001b[0;32m----> 1\u001b[0;31m \u001b[0mlog_nb\u001b[0m\u001b[0;34m\u001b[0m\u001b[0m\n\u001b[0m",
      "\u001b[0;31mNameError\u001b[0m: name 'log_nb' is not defined"
     ]
    }
   ],
   "source": [
    "log_nb"
   ]
  },
  {
   "cell_type": "code",
   "execution_count": 20,
   "metadata": {
    "ExecuteTime": {
     "end_time": "2018-02-20T17:40:02.857172Z",
     "start_time": "2018-02-20T17:40:02.852222Z"
    }
   },
   "outputs": [],
   "source": [
    "nblist3 = [\n",
    " 'Models_ImageNet',  # demora se tiver carregar modelo. Está com ERRO nos modelos da resnet\n",
    " 'lenet-mnist',  # OK 0.9s\n",
    " 'FiltrandoRuidoAutoencoder', # novo\n",
    " 'data_augmentation_catsdogs', # 4s OK\n",
    " 'transfer_learning_catsdogs', # está com mesmo ERRO da ImageNet - alguma coisa deve ter mudado para 0.3\n",
    " 'facial_features',  # está com o mesmo ERRO de transfer learning\n",
    " 'fully_convolutional', # OK 1.4s\n",
    " 'SegmentandoCoracao', # Novo\n",
    " 'segmentation_carvana', # OK \n",
    " 'svhn_dnt', # 37s, demorando predict. OK, mas pode ser melhorado\n",
    " 'vae_mnist', #  está faltando copiar as imagens salvas durante treinamento para o /data\n",
    " 'vae_celeba', # o mesmo que vae_mnist, porém o predict demora mais tempo\n",
    "]"
   ]
  },
  {
   "cell_type": "code",
   "execution_count": 10,
   "metadata": {
    "ExecuteTime": {
     "end_time": "2018-02-20T17:35:42.144536Z",
     "start_time": "2018-02-20T17:35:42.139434Z"
    }
   },
   "outputs": [],
   "source": [
    "nblist4 = [\n",
    " 'dcgan_mnist',  # OK 0.8s\n",
    " 'transposed_convolution', # OK\n",
    " 'movieLens_dataset',   # OK 3.6s\n",
    " 'embedding-basics-pytorch', # OK 0.1s\n",
    " 'sistema_recomendacao', # OK 1.8s\n",
    " 'livros_dataset', # dá erro aqui, mas no notebook está OK\n",
    " 'livros_preprocessing', # OK 1.5s\n",
    " 'livros_classif', # 14s\n",
    " 'livros_classif_w2v', # OK 0.1\n",
    " 'analise_sentimento_imdb', # OK 12s predict pode demorar na CPU\n",
    "]"
   ]
  },
  {
   "cell_type": "code",
   "execution_count": 11,
   "metadata": {
    "ExecuteTime": {
     "end_time": "2018-02-20T17:35:42.818821Z",
     "start_time": "2018-02-20T17:35:42.814675Z"
    }
   },
   "outputs": [],
   "source": [
    "nblist5 = [\n",
    " 'simpleRNN_numerical', # OK\n",
    " 'simpleRNN_MNIST', # OK 08s\n",
    " 'analise_sentimento_lstm_imdb', # OK 470s\n",
    " 'seq2seq-translation']"
   ]
  },
  {
   "cell_type": "code",
   "execution_count": 23,
   "metadata": {
    "ExecuteTime": {
     "end_time": "2018-02-20T17:42:41.511667Z",
     "start_time": "2018-02-20T17:42:41.500900Z"
    },
    "scrolled": false
   },
   "outputs": [],
   "source": [
    "#%%capture res\n",
    "log_nb = []\n",
    "for nb in nblist3[2:2]:\n",
    "    !jupyter nbconvert --output-dir='../tmp' --to 'script' ../PyTorch/{nb}\n",
    "    nbd = dict()\n",
    "    nbd['nbname'] = nb\n",
    "    print('EXEC start:',nb)\n",
    "    t_init = time.time()\n",
    "    %cd ../PyTorch/\n",
    "    %run ../tmp/{nb}\n",
    "    dt = time.time() - t_init\n",
    "    nbd['exectime'] = dt\n",
    "    log_nb.append(nbd)\n",
    "    print('EXEC end :', dt)\n",
    "    #for r in results:\n",
    "    #    if 'SyntaxError' in r:\n",
    "    #        print(nb,r)"
   ]
  },
  {
   "cell_type": "code",
   "execution_count": null,
   "metadata": {
    "ExecuteTime": {
     "end_time": "2018-02-11T12:42:57.004962Z",
     "start_time": "2018-02-11T12:42:56.299Z"
    }
   },
   "outputs": [],
   "source": [
    "log_nb"
   ]
  },
  {
   "cell_type": "code",
   "execution_count": null,
   "metadata": {
    "ExecuteTime": {
     "end_time": "2018-02-11T12:42:57.005402Z",
     "start_time": "2018-02-11T12:42:56.301Z"
    }
   },
   "outputs": [],
   "source": [
    "#print(res.stderr)"
   ]
  },
  {
   "cell_type": "code",
   "execution_count": null,
   "metadata": {
    "ExecuteTime": {
     "end_time": "2018-02-11T12:42:57.011040Z",
     "start_time": "2018-02-11T12:42:56.303Z"
    },
    "scrolled": false
   },
   "outputs": [],
   "source": [
    "#print(res.stdout)"
   ]
  },
  {
   "cell_type": "code",
   "execution_count": null,
   "metadata": {
    "ExecuteTime": {
     "end_time": "2018-02-11T12:42:57.011424Z",
     "start_time": "2018-02-11T12:42:56.305Z"
    },
    "scrolled": false
   },
   "outputs": [],
   "source": [
    "#for r in res.outputs:\n",
    "#    display(r)"
   ]
  },
  {
   "cell_type": "code",
   "execution_count": null,
   "metadata": {},
   "outputs": [],
   "source": []
  }
 ],
 "metadata": {
  "kernelspec": {
   "display_name": "Python 3",
   "language": "python",
   "name": "python3"
  },
  "language_info": {
   "codemirror_mode": {
    "name": "ipython",
    "version": 3
   },
   "file_extension": ".py",
   "mimetype": "text/x-python",
   "name": "python",
   "nbconvert_exporter": "python",
   "pygments_lexer": "ipython3",
   "version": "3.6.1"
  },
  "toc": {
   "nav_menu": {},
   "number_sections": true,
   "sideBar": true,
   "skip_h1_title": false,
   "toc_cell": false,
   "toc_position": {},
   "toc_section_display": "block",
   "toc_window_display": false
  },
  "widgets": {
   "state": {
    "29fbef6bde614def937b4cbf989a9114": {
     "views": [
      {
       "cell_index": 5
      }
     ]
    },
    "3117887b69264f33afbfd610324958b8": {
     "views": [
      {
       "cell_index": 8
      }
     ]
    },
    "9cbcacd2146f4e6c96659a2c9bf18ef2": {
     "views": [
      {
       "cell_index": 8
      }
     ]
    },
    "9dd7b876b0cd452b9661465ae296b8f7": {
     "views": [
      {
       "cell_index": 5
      }
     ]
    }
   },
   "version": "1.2.0"
  }
 },
 "nbformat": 4,
 "nbformat_minor": 2
}
