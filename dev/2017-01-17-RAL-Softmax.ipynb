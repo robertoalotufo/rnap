{
 "cells": [
  {
   "cell_type": "markdown",
   "metadata": {},
   "source": [
    "# Softmax"
   ]
  },
  {
   "cell_type": "markdown",
   "metadata": {},
   "source": [
    " s("
   ]
  },
  {
   "cell_type": "markdown",
   "metadata": {},
   "source": [
    "![](https://www.tensorflow.org/images/softmax-regression-scalargraph.png)\n",
    "![](http://cs231n.github.io/assets/svmvssoftmax.png)"
   ]
  },
  {
   "cell_type": "markdown",
   "metadata": {},
   "source": [
    "$$ S(Y) = \\frac{e^{Y^T}}{\\sum(e^{Y^T)}} $$\n",
    "\n",
    "\n",
    "$$ \\sum S(Y) = 1$$"
   ]
  },
  {
   "cell_type": "code",
   "execution_count": 4,
   "metadata": {
    "collapsed": true
   },
   "outputs": [],
   "source": [
    "    import numpy as np\n",
    "    def softmax(S):\n",
    "        \"\"\"Softmax Activation Function\"\"\"\n",
    "        E = np.exp(S.T) # exponential\n",
    "        E /= E.sum()    # normalization\n",
    "        return E"
   ]
  },
  {
   "cell_type": "code",
   "execution_count": 7,
   "metadata": {
    "collapsed": false
   },
   "outputs": [
    {
     "name": "stdout",
     "output_type": "stream",
     "text": [
      "[  4.50940412e-05   6.69254912e-03   9.93262357e-01] 1.0\n"
     ]
    }
   ],
   "source": [
    "S = np.array([0, 5, 10])\n",
    "SM = softmax(S)\n",
    "print SM, SM.sum()"
   ]
  },
  {
   "cell_type": "markdown",
   "metadata": {},
   "source": [
    "# Não Consegui fazer funcionar\n",
    "# Queria que o cursor gerasse os valores Y e o Progress mostrasse o S"
   ]
  },
  {
   "cell_type": "code",
   "execution_count": 34,
   "metadata": {
    "collapsed": false
   },
   "outputs": [],
   "source": [
    "from ipywidgets import interact, interactive, fixed\n",
    "import ipywidgets as widgets\n",
    "from IPython.display import display"
   ]
  },
  {
   "cell_type": "code",
   "execution_count": 86,
   "metadata": {
    "collapsed": false
   },
   "outputs": [],
   "source": [
    "def slide(s):\n",
    "    z = []\n",
    "    for si in s:\n",
    "        z = widgets.FloatProgress(\n",
    "                    value=si,\n",
    "                    min=0,\n",
    "                    max=10.0,\n",
    "                    step=0.1,\n",
    "                    description='S0',\n",
    "                    bar_style='info',\n",
    "                    orientation='horizontal')\n",
    "        return z\n",
    "         "
   ]
  },
  {
   "cell_type": "code",
   "execution_count": 87,
   "metadata": {
    "collapsed": false
   },
   "outputs": [],
   "source": [
    "z = slide([2,3,4])\n",
    "display(z)"
   ]
  },
  {
   "cell_type": "code",
   "execution_count": 91,
   "metadata": {
    "collapsed": false
   },
   "outputs": [
    {
     "data": {
      "text/plain": [
       "array([ 0.33758454,  0.25008878,  0.41232669])"
      ]
     },
     "metadata": {},
     "output_type": "display_data"
    }
   ],
   "source": [
    "def s3(y0,y1,y2):\n",
    "    S = softmax(np.array([y0,y1,y2]))\n",
    "    #z0 = S[0]\n",
    "    #slide(S)\n",
    "    return S\n",
    "zz = interactive(s3, y0 = widgets.FloatSlider( value=7.5,min=0, max=10.0, step=0.1,\n",
    "                    #orientation='vertical', readout=False,\n",
    "                    #readout_format='.1f',\n",
    "                    slider_color='red'),\n",
    "             y1 = widgets.FloatSlider( value=7.5,min=0, max=10.0, step=0.1,\n",
    "                    #orientation='vertical', readout=False,\n",
    "                    #readout_format='.1f',\n",
    "                    slider_color='blue'),\n",
    "             y2 = widgets.FloatSlider( value=7.5,min=0, max=10.0, step=0.1,\n",
    "                    #orientation='vertical', readout=False,\n",
    "                    #readout_format='.1f',\n",
    "                    slider_color='brown'))\n",
    "display(zz,slide([2,3]))\n",
    "#s3  \n",
    "#print(x1,x2,x3) #slide(s3)"
   ]
  },
  {
   "cell_type": "code",
   "execution_count": 85,
   "metadata": {
    "collapsed": false
   },
   "outputs": [],
   "source": [
    "a = widgets.FloatProgress()\n",
    "b = widgets.FloatSlider()\n",
    "\n",
    "display(a,b)\n",
    "#mylink = widgets.jslink((a, 'value'), (b, 'value'))"
   ]
  }
 ],
 "metadata": {
  "kernelspec": {
   "display_name": "Python [Root]",
   "language": "python",
   "name": "Python [Root]"
  },
  "language_info": {
   "codemirror_mode": {
    "name": "ipython",
    "version": 2
   },
   "file_extension": ".py",
   "mimetype": "text/x-python",
   "name": "python",
   "nbconvert_exporter": "python",
   "pygments_lexer": "ipython2",
   "version": "2.7.12"
  }
 },
 "nbformat": 4,
 "nbformat_minor": 0
}
