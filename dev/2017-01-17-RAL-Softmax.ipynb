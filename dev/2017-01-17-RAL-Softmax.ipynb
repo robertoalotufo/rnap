{
 "cells": [
  {
   "cell_type": "markdown",
   "metadata": {},
   "source": [
    "# Softmax"
   ]
  },
  {
   "cell_type": "markdown",
   "metadata": {},
   "source": [
    " s("
   ]
  },
  {
   "cell_type": "markdown",
   "metadata": {},
   "source": [
    "![](https://www.tensorflow.org/images/softmax-regression-scalargraph.png)\n",
    "![](http://cs231n.github.io/assets/svmvssoftmax.png)"
   ]
  },
  {
   "cell_type": "markdown",
   "metadata": {},
   "source": [
    "$$ S(Y) = \\frac{e^{Y^T}}{\\sum(e^{Y^T)}} $$\n",
    "\n",
    "\n",
    "$$ \\sum S(Y) = 1$$"
   ]
  },
  {
   "cell_type": "code",
   "execution_count": 1,
   "metadata": {
    "collapsed": false
   },
   "outputs": [
    {
     "name": "stdout",
     "output_type": "stream",
     "text": [
      "f: [[ 1.  1.  1.  1.  1.]\n",
      " [ 1.  1.  1.  1.  1.]\n",
      " [ 1.  1.  1.  1.  1.]]\n",
      "f.sum(axis=0) [ 3.  3.  3.  3.  3.]\n",
      "f.sum(axis=1) [ 5.  5.  5.]\n"
     ]
    }
   ],
   "source": [
    "import numpy as np\n",
    "f = np.ones((3,5))\n",
    "print 'f:',f\n",
    "print 'f.sum(axis=0)', f.sum(axis=0)\n",
    "print 'f.sum(axis=1)', f.sum(axis=1)\n"
   ]
  },
  {
   "cell_type": "markdown",
   "metadata": {},
   "source": [
    "## Softmax"
   ]
  },
  {
   "cell_type": "code",
   "execution_count": 5,
   "metadata": {
    "collapsed": true
   },
   "outputs": [],
   "source": [
    "    import numpy as np\n",
    "    def softmax(S):\n",
    "        \"\"\"Softmax Activation Function\"\"\"\n",
    "        E = np.exp(S) # exponential\n",
    "        E /= E.sum(axis=-1,keepdims=True)    # normalization\n",
    "        return E"
   ]
  },
  {
   "cell_type": "code",
   "execution_count": 9,
   "metadata": {
    "collapsed": false
   },
   "outputs": [
    {
     "name": "stdout",
     "output_type": "stream",
     "text": [
      "[  4.50940412e-05   6.69254912e-03   9.93262357e-01] 1.0\n",
      "[[  4.50940412e-05   6.69254912e-03   9.93262357e-01]\n",
      " [  9.00305732e-02   2.44728471e-01   6.65240956e-01]] [ 1.  1.]\n"
     ]
    }
   ],
   "source": [
    "S = np.array([0, 5, 10])\n",
    "SM = softmax(S)\n",
    "print SM, SM.sum()\n",
    "\n",
    "S = np.array([[0, 5, 10],\n",
    "              [1, 2, 3]])\n",
    "SM = softmax(S)\n",
    "print SM, SM.sum(-1)\n"
   ]
  },
  {
   "cell_type": "code",
   "execution_count": 14,
   "metadata": {
    "collapsed": false
   },
   "outputs": [
    {
     "name": "stdout",
     "output_type": "stream",
     "text": [
      "(10, 3)\n"
     ]
    },
    {
     "data": {
      "image/png": "[encoded data removed]",
      "text/plain": [
       "<matplotlib.figure.Figure at 0x7fc47a9c5750>"
      ]
     },
     "metadata": {},
     "output_type": "display_data"
    }
   ],
   "source": [
    "%matplotlib inline\n",
    "import matplotlib.pyplot as plt\n",
    "x = np.arange(0,10,1)\n",
    "scores = np.vstack([x, 5 * np.ones_like(x), 0.2 * np.ones_like(x)]).T\n",
    "print scores.shape\n",
    "s = softmax(scores)\n",
    "plt.figure()  # make separate figure\n",
    "plt.subplot(2, 1, 1)\n",
    "plt.plot(x,scores)\n",
    "plt.subplot(2, 1, 2)\n",
    "plt.plot(x,s)\n",
    "plt.show()"
   ]
  },
  {
   "cell_type": "markdown",
   "metadata": {},
   "source": [
    "## Cross-Entropy é uma medida de distância entre S e L"
   ]
  },
  {
   "cell_type": "markdown",
   "metadata": {},
   "source": [
    "$$ D(S,L) = - \\sum_i L_i \\log S_i  $$"
   ]
  },
  {
   "cell_type": "code",
   "execution_count": null,
   "metadata": {
    "collapsed": true
   },
   "outputs": [],
   "source": [
    "define loss(S,L):\n",
    "    return - (L * np.log(S)).sum()"
   ]
  },
  {
   "cell_type": "markdown",
   "metadata": {},
   "source": [
    "$$ Y = WX + B $$\n",
    "\n",
    "$$ D(S(WX+B),L) $$\n",
    "\n",
    "## Average Cross-Entropy\n",
    "\n",
    "É o somatório do erro de predição de cada amostra e sua classe rotulada, calculado para todas as amostras\n",
    "\n",
    "$$ \\epsilon = \\frac{1}{N} \\sum_i^N D(S(WX_i+B),L_i) $$ "
   ]
  },
  {
   "cell_type": "markdown",
   "metadata": {},
   "source": [
    "## Gradient descent\n",
    "\n",
    "$$ W = W - \\lambda \\Delta_W \\epsilon $$\n",
    "$$ B = B - \\lambda \\Delta_B \\epsilon $$"
   ]
  },
  {
   "cell_type": "markdown",
   "metadata": {},
   "source": [
    "# Não Consegui fazer funcionar\n",
    "# Queria que o cursor gerasse os valores Y e o Progress mostrasse o S"
   ]
  },
  {
   "cell_type": "code",
   "execution_count": 34,
   "metadata": {
    "collapsed": false
   },
   "outputs": [],
   "source": [
    "from ipywidgets import interact, interactive, fixed\n",
    "import ipywidgets as widgets\n",
    "from IPython.display import display"
   ]
  },
  {
   "cell_type": "code",
   "execution_count": 86,
   "metadata": {
    "collapsed": false
   },
   "outputs": [],
   "source": [
    "def slide(s):\n",
    "    z = []\n",
    "    for si in s:\n",
    "        z = widgets.FloatProgress(\n",
    "                    value=si,\n",
    "                    min=0,\n",
    "                    max=10.0,\n",
    "                    step=0.1,\n",
    "                    description='S0',\n",
    "                    bar_style='info',\n",
    "                    orientation='horizontal')\n",
    "        return z\n",
    "         "
   ]
  },
  {
   "cell_type": "code",
   "execution_count": 87,
   "metadata": {
    "collapsed": false
   },
   "outputs": [],
   "source": [
    "z = slide([2,3,4])\n",
    "display(z)"
   ]
  },
  {
   "cell_type": "code",
   "execution_count": 91,
   "metadata": {
    "collapsed": false
   },
   "outputs": [
    {
     "data": {
      "text/plain": [
       "array([ 0.33758454,  0.25008878,  0.41232669])"
      ]
     },
     "metadata": {},
     "output_type": "display_data"
    }
   ],
   "source": [
    "def s3(y0,y1,y2):\n",
    "    S = softmax(np.array([y0,y1,y2]))\n",
    "    #z0 = S[0]\n",
    "    #slide(S)\n",
    "    return S\n",
    "zz = interactive(s3, y0 = widgets.FloatSlider( value=7.5,min=0, max=10.0, step=0.1,\n",
    "                    #orientation='vertical', readout=False,\n",
    "                    #readout_format='.1f',\n",
    "                    slider_color='red'),\n",
    "             y1 = widgets.FloatSlider( value=7.5,min=0, max=10.0, step=0.1,\n",
    "                    #orientation='vertical', readout=False,\n",
    "                    #readout_format='.1f',\n",
    "                    slider_color='blue'),\n",
    "             y2 = widgets.FloatSlider( value=7.5,min=0, max=10.0, step=0.1,\n",
    "                    #orientation='vertical', readout=False,\n",
    "                    #readout_format='.1f',\n",
    "                    slider_color='brown'))\n",
    "display(zz,slide([2,3]))\n",
    "#s3  \n",
    "#print(x1,x2,x3) #slide(s3)"
   ]
  },
  {
   "cell_type": "code",
   "execution_count": 85,
   "metadata": {
    "collapsed": false
   },
   "outputs": [],
   "source": [
    "a = widgets.FloatProgress()\n",
    "b = widgets.FloatSlider()\n",
    "\n",
    "display(a,b)\n",
    "#mylink = widgets.jslink((a, 'value'), (b, 'value'))"
   ]
  }
 ],
 "metadata": {
  "kernelspec": {
   "display_name": "Python [Root]",
   "language": "python",
   "name": "Python [Root]"
  },
  "language_info": {
   "codemirror_mode": {
    "name": "ipython",
    "version": 2
   },
   "file_extension": ".py",
   "mimetype": "text/x-python",
   "name": "python",
   "nbconvert_exporter": "python",
   "pygments_lexer": "ipython2",
   "version": "2.7.12"
  }
 },
 "nbformat": 4,
 "nbformat_minor": 0
}
