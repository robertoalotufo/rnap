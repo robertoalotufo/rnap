{
 "cells": [
  {
   "cell_type": "markdown",
   "metadata": {},
   "source": [
    "# FEE 0156 - Prática de Redes Neurais Profundas para Análise de Imagens\n",
    "\n",
    "Professores: *Roberto Lotufo, Rubens Machado, Letícia Rittner*\n",
    "\n",
    "Auxiliares: *Matheus Svolenski, Roberto M Souza, Oeslle Lucena*\n",
    "\n",
    "![capa](../figures/curso-Deep-Learning-Processamento-Imagens-Unicamp.png)\n",
    "\n",
    "## Conteúdo\n",
    "\n",
    "[Softmax](2017-01-17-RAL-Softmax.ipynb)\n",
    "\n",
    "I. Introdução\n",
    "    1. Conteúdo e formato do curso \n",
    "    2. Aprendendo a usar o Jupyter\n",
    "    3. Aprendendo a usar o Python\n",
    "II. Conceitos básicos de Classificadores e de Redes Neurais\n",
    "\n",
    "III. Classificação Logística\n",
    "    1. Formulação do problema\n",
    "    2. [Softmax](2017-01-17-RAL-Softmax.ipynb)\n",
    "\n",
    "## Documentação\n",
    "\n",
    "- [Jupyter Notebook](http://jupyter-notebook.readthedocs.io/en/latest/notebook.html)\n",
    "\n"
   ]
  },
  {
   "cell_type": "code",
   "execution_count": null,
   "metadata": {
    "collapsed": true
   },
   "outputs": [],
   "source": [
    "../figures/"
   ]
  }
 ],
 "metadata": {
  "kernelspec": {
   "display_name": "Python [Root]",
   "language": "python",
   "name": "Python [Root]"
  },
  "language_info": {
   "codemirror_mode": {
    "name": "ipython",
    "version": 2
   },
   "file_extension": ".py",
   "mimetype": "text/x-python",
   "name": "python",
   "nbconvert_exporter": "python",
   "pygments_lexer": "ipython2",
   "version": "2.7.12"
  }
 },
 "nbformat": 4,
 "nbformat_minor": 0
}
