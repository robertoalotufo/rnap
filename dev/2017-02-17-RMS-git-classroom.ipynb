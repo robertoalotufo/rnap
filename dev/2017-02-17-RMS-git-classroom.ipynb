{
 "cells": [
  {
   "cell_type": "markdown",
   "metadata": {},
   "source": [
    "# Git Classroom\n",
    "\n",
    "O curso será desenvolvido utilizando o github classroom. Para as pessoas que não possuam conta no github, é necessário criar uma conta no [GitHub](https://github.com/). "
   ]
  },
  {
   "cell_type": "markdown",
   "metadata": {},
   "source": [
    "## Configurando as credenciais do github no jupyter\n",
    "\n",
    "Aqui damos o passo a passo:\n",
    "\n",
    "1. Na página inicial do jupyter clique em *New* e selecione a opção *Terminal*. Isso abrirá um terminal para você.\n",
    "\n",
    "2. No terminal digite *bash*, pois isso irá habilitar a opção de auto-completar ao clicar na tecla *Tab*.\n",
    "\n",
    "3. Caso o github não esteja instalado, digite no terminal: **sudo apt-get install git**\n",
    "\n",
    "4. Em seguia, digite: **git config --global user.name \"user_name\"**. No lugar de \"user_name\" ponha o seu nome de usuário do github.\n",
    "\n",
    "5. Digite no terminal: **git config --global user.email \"email_id\"**, colocando o seu email cadastrado no github no lugar de \"email_id\"."
   ]
  },
  {
   "cell_type": "code",
   "execution_count": null,
   "metadata": {
    "collapsed": true
   },
   "outputs": [],
   "source": []
  }
 ],
 "metadata": {
  "kernelspec": {
   "display_name": "Python 2",
   "language": "python",
   "name": "python2"
  },
  "language_info": {
   "codemirror_mode": {
    "name": "ipython",
    "version": 2
   },
   "file_extension": ".py",
   "mimetype": "text/x-python",
   "name": "python",
   "nbconvert_exporter": "python",
   "pygments_lexer": "ipython2",
   "version": "2.7.6"
  }
 },
 "nbformat": 4,
 "nbformat_minor": 0
}
