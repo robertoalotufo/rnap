{
 "cells": [
  {
   "cell_type": "markdown",
   "metadata": {},
   "source": [
    "# Git Classroom\n",
    "\n",
    "O curso será desenvolvido utilizando o github classroom. Para as pessoas que não possuam conta no github, é necessário criar uma conta no github. Por favor, acesse o [GitHub](https://github.com/) e crie a sua conta. "
   ]
  },
  {
   "cell_type": "markdown",
   "metadata": {},
   "source": [
    "## Configurando as credenciais do github no jupyter\n",
    "\n",
    "Aqui damos o passo a passo:\n",
    "\n",
    "* Na página inicial do jupyter clique em *New* e selecione a opção *Terminal*. Isso abrirá um terminal para você."
   ]
  },
  {
   "cell_type": "markdown",
   "metadata": {},
   "source": [
    "<img src=\"../figures/jupyter_new_terminal.png\" width=\"700\">"
   ]
  },
  {
   "cell_type": "markdown",
   "metadata": {},
   "source": [
    "* No terminal digite *bash*, pois isso irá habilitar a opção de auto-completar ao clicar na tecla *Tab*.\n",
    "\n",
    "* Caso o github não esteja instalado, digite no terminal: **sudo apt-get install git**\n",
    "\n",
    "* Em seguia, digite: **git config --global user.name \"user_name\"**. No lugar de \"user_name\" ponha o seu nome de usuário do github.\n",
    "\n",
    "* Digite no terminal: **git config --global user.email \"email_id\"**, colocando o seu email cadastrado no github no lugar de \"email_id\".\n",
    "\n",
    "O github está configurado.\n",
    "\n",
    "## Fazendo suas atividades no Github Classroom\n",
    "\n",
    "* Você irá receber um link como esse: https://classroom.github.com/assignment-invitations/39858757ff6ab2dd6eec48e199284c9e\n",
    "\n",
    "* No terminal do jupyter faça a cópia do repositório através do seguinte comando:\n",
    "\n",
    "git clone https://classroom.github.com/assignment-invitations/39858757ff6ab2dd6eec48e199284c9e\n",
    "\n",
    "Você acabou de baixar o repositório da sua atividade. O repositório é individual para cada aluno, apenas o próprio aluno e pessoas com status de \"admin\" podem editá-lo. Abra os notebooks no jupyter, edite-os e faça as suas atividades. Caso, queira compartilhar os seus resultados com a classe do curso é necessário realizar uma sequência de passos.\n",
    "\n",
    "\n",
    "* Digite no terminal **git status**. Para ver os arquivos que você modificou, criou e já foram adicionados ao github (veja o exemplo abaixo).\n",
    "\n",
    "<img src=\"../figures/git_status.png\" width=\"700\">\n",
    "\n",
    "* Para os arquivos que você modificou e não quer subir para o repositório, você deve digitar no terminal:\n",
    "**git checkout *path_arquivo1* *path_arquivo2* **\n",
    "\n",
    "* Para os arquivos que você modificou e/ou criou e quer subir para o github é necessário digitar a seguinte sequência de comandos:\n",
    "\n",
    "**git add *path_arquivo1* *path_arquivo2* **\n",
    "\n",
    "**git commit -m \"digite uma mensagem\" **\n",
    "\n",
    "**git push origin master**\n",
    "\n",
    "Caso você receba uma mensagem de erro. É necessário atualizar a cópia do seu repositório com o comando **git pull** e repetir os comandos digitados anteriormente. Essa mensagem de erro não deve ocorrer, visto que p repositório é individual por aluno."
   ]
  },
  {
   "cell_type": "code",
   "execution_count": null,
   "metadata": {
    "collapsed": true
   },
   "outputs": [],
   "source": []
  }
 ],
 "metadata": {
  "kernelspec": {
   "display_name": "Python 2",
   "language": "python",
   "name": "python2"
  },
  "language_info": {
   "codemirror_mode": {
    "name": "ipython",
    "version": 2
   },
   "file_extension": ".py",
   "mimetype": "text/x-python",
   "name": "python",
   "nbconvert_exporter": "python",
   "pygments_lexer": "ipython2",
   "version": "2.7.6"
  }
 },
 "nbformat": 4,
 "nbformat_minor": 0
}
