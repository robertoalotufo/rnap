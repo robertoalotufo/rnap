{
 "cells": [
  {
   "cell_type": "markdown",
   "metadata": {},
   "source": [
    "---\n",
    "# Configurando a instância do curso\n",
    "---"
   ]
  },
  {
   "cell_type": "markdown",
   "metadata": {},
   "source": [
    "## Criando uma instância no AWS\n",
    "\n",
    "Ao invés de utilizar a imagem da Amazon, vamos usar o Ubuntu 16.04 LTS.\n",
    "\n",
    "Para criar uma nova instância basta seguir os passos explicitados [aqui](/notebooks/dev/2017-01-15-MSS-Configurando-AWS.ipynb#segundo-passo), tomando o cuidado de:\n",
    "\n",
    "* escolher a AMI com *Ubuntu Server 16.04 LTS (HVM), SSD Volume Type - ami-b7a114d7*.\n",
    "* aumentar o espaço de armazenamento seguindo os seguintes passos na tela de **Review and Launch**:\n",
    "    * Selecionar **Edit storage**;\n",
    "    * Remover o volume *Instance Store 0*;\n",
    "    * Aumentar o espaço do volume *Root* para 30 GiB, por exemplo.\n",
    "    * Selecionar **Review and Launch**;"
   ]
  },
  {
   "cell_type": "markdown",
   "metadata": {},
   "source": [
    "Depois de criada e conectada a instância, realizar o acesso SSH para fazer a instalação dos pacotes necessários:\n",
    "\n",
    "* ``ssh -i \"<path_arquivo_chave_pem>\" ubuntu@<dns_público_instância>``"
   ]
  },
  {
   "cell_type": "markdown",
   "metadata": {},
   "source": [
    "## Atualizando a instância\n",
    "\n",
    "Atualização do sistema e instalação de pacotes extras:\n",
    "* ``sudo apt-get update && sudo apt-get upgrade``\n",
    "* ``sudo apt-get install curl linux-image-extra-$(uname -r) linux-image-extra-virtual``\n",
    "   \n",
    "Instalação do Docker:\n",
    "* ``sudo apt-get install apt-transport-https ca-certificates``\n",
    "* ``curl -fsSL https://yum.dockerproject.org/gpg | sudo apt-key add -``\n",
    "* ``apt-key fingerprint 58118E89F3A912897C070ADBF76221572C52609D``\n",
    "* ``sudo add-apt-repository \"deb https://apt.dockerproject.org/repo/ ubuntu-$(lsb_release -cs) main\"``\n",
    "* ``sudo apt-get update``\n",
    "* ``sudo apt-get -y install docker-engine``\n",
    "\n",
    "Instalação do driver da placa de vídeo:\n",
    "* ``sudo add-apt-repository ppa:graphics-drivers/ppa\n",
    "    sudo apt-get update\n",
    "    sudo apt-get install nvidia-361``\n",
    "\n",
    "* ``sudo apt-get install nvidia-modprobe``\n",
    "\n",
    "Download da versão mais recente do nvidia-docker (precisa ser a 1.0.0 final para ser compatível com o docker 1.13)\n",
    "* ``wget -P /tmp https://github.com/NVIDIA/nvidia-docker/releases/download/v1.0.0/nvidia-docker_1.0.0-1_amd64.deb\n",
    "sudo dpkg -i /tmp/nvidia-docker*.deb && rm /tmp/nvidia-docker*.deb``\n",
    "\n",
    "Teste do nvidia-docker, deverá baixar a imagem e ao ser executado, encontrar a(s) placa(s) de vídeo da máquina:\n",
    "* ``sudo nvidia-docker run --rm nvidia/cuda nvidia-smi``\n",
    "\n",
    "Mudança de permissão para permitir uso do docker sem usuário root:\n",
    "* ``sudo usermod -a -G docker ec2-user``\n",
    "\n",
    "Para que as permissões sejam atualizadas é necessário reiniciar o sistema:\n",
    "* ``sudo reboot``\n",
    "\n",
    "**Atenção**: Ao reiniciar o sistema o serviço nvidia-docker-plugin não está inicializando automaticamente. Isto pode ser verificado com o comando:\n",
    "\n",
    "* ``service nvidia-docker status``\n",
    "\n",
    "Caso não esteja mesmo rodando é preciso inicializá-lo com:\n",
    "\n",
    "* ``sudo service nvidia-docker start``\n",
    "\n",
    "**Próximo passo**: Realizar esta inicialização automaticamente."
   ]
  },
  {
   "cell_type": "markdown",
   "metadata": {
    "collapsed": true
   },
   "source": [
    "## Referências\n",
    "\n",
    "* Passo a passo para instalação do nvidia-docker: http://seanbe.github.io/post/deep-learning-aws/\n",
    "* Instalação do Docker: https://docs.docker.com/engine/installation/linux/ubuntu/"
   ]
  }
 ],
 "metadata": {
  "anaconda-cloud": {},
  "kernelspec": {
   "display_name": "Python [Root]",
   "language": "python",
   "name": "Python [Root]"
  },
  "language_info": {
   "codemirror_mode": {
    "name": "ipython",
    "version": 3
   },
   "file_extension": ".py",
   "mimetype": "text/x-python",
   "name": "python",
   "nbconvert_exporter": "python",
   "pygments_lexer": "ipython3",
   "version": "3.5.1"
  }
 },
 "nbformat": 4,
 "nbformat_minor": 0
}
