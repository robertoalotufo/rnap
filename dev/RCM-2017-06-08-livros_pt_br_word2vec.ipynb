{
 "cells": [
  {
   "cell_type": "markdown",
   "metadata": {
    "toc": "true"
   },
   "source": [
    "# Table of Contents\n",
    " <p><div class=\"lev1 toc-item\"><a href=\"#Classificação-de-Textos\" data-toc-modified-id=\"Classificação-de-Textos-1\"><span class=\"toc-item-num\">1&nbsp;&nbsp;</span>Classificação de Textos</a></div><div class=\"lev2 toc-item\"><a href=\"#Preâmbulo\" data-toc-modified-id=\"Preâmbulo-11\"><span class=\"toc-item-num\">1.1&nbsp;&nbsp;</span>Preâmbulo</a></div><div class=\"lev2 toc-item\"><a href=\"#Procedimentos-de-treino-e-teste\" data-toc-modified-id=\"Procedimentos-de-treino-e-teste-12\"><span class=\"toc-item-num\">1.2&nbsp;&nbsp;</span>Procedimentos de treino e teste</a></div><div class=\"lev2 toc-item\"><a href=\"#Preparando-o-dataset\" data-toc-modified-id=\"Preparando-o-dataset-13\"><span class=\"toc-item-num\">1.3&nbsp;&nbsp;</span>Preparando o dataset</a></div><div class=\"lev3 toc-item\"><a href=\"#Buscando-o-texto-dos-livros-e-definindo-os-rótulos\" data-toc-modified-id=\"Buscando-o-texto-dos-livros-e-definindo-os-rótulos-131\"><span class=\"toc-item-num\">1.3.1&nbsp;&nbsp;</span>Buscando o texto dos livros e definindo os rótulos</a></div><div class=\"lev3 toc-item\"><a href=\"#Representando-as-palavras-através-de-índices-inteiros\" data-toc-modified-id=\"Representando-as-palavras-através-de-índices-inteiros-132\"><span class=\"toc-item-num\">1.3.2&nbsp;&nbsp;</span>Representando as palavras através de índices inteiros</a></div><div class=\"lev3 toc-item\"><a href=\"#Palavras-características-de-cada-livro\" data-toc-modified-id=\"Palavras-características-de-cada-livro-133\"><span class=\"toc-item-num\">1.3.3&nbsp;&nbsp;</span>Palavras características de cada livro</a></div><div class=\"lev3 toc-item\"><a href=\"#Dividindo-o-dataset-entre-treinamento-e-validação\" data-toc-modified-id=\"Dividindo-o-dataset-entre-treinamento-e-validação-134\"><span class=\"toc-item-num\">1.3.4&nbsp;&nbsp;</span>Dividindo o dataset entre treinamento e validação</a></div><div class=\"lev3 toc-item\"><a href=\"#Criando--geradores-para-treino-e-validação\" data-toc-modified-id=\"Criando--geradores-para-treino-e-validação-135\"><span class=\"toc-item-num\">1.3.5&nbsp;&nbsp;</span>Criando  geradores para treino e validação</a></div><div class=\"lev2 toc-item\"><a href=\"#Criando-a-rede-neural\" data-toc-modified-id=\"Criando-a-rede-neural-14\"><span class=\"toc-item-num\">1.4&nbsp;&nbsp;</span>Criando a rede neural</a></div><div class=\"lev3 toc-item\"><a href=\"#Carregando-o-embedding\" data-toc-modified-id=\"Carregando-o-embedding-141\"><span class=\"toc-item-num\">1.4.1&nbsp;&nbsp;</span>Carregando o embedding</a></div><div class=\"lev3 toc-item\"><a href=\"#Preparando-a-matriz-de-embeddings\" data-toc-modified-id=\"Preparando-a-matriz-de-embeddings-142\"><span class=\"toc-item-num\">1.4.2&nbsp;&nbsp;</span>Preparando a matriz de embeddings</a></div><div class=\"lev3 toc-item\"><a href=\"#Construindo-a-rede\" data-toc-modified-id=\"Construindo-a-rede-143\"><span class=\"toc-item-num\">1.4.3&nbsp;&nbsp;</span>Construindo a rede</a></div><div class=\"lev2 toc-item\"><a href=\"#Treinando\" data-toc-modified-id=\"Treinando-15\"><span class=\"toc-item-num\">1.5&nbsp;&nbsp;</span>Treinando</a></div><div class=\"lev2 toc-item\"><a href=\"#Avaliando\" data-toc-modified-id=\"Avaliando-16\"><span class=\"toc-item-num\">1.6&nbsp;&nbsp;</span>Avaliando</a></div>"
   ]
  },
  {
   "cell_type": "markdown",
   "metadata": {},
   "source": [
    "# Classificação de Textos\n",
    "\n",
    "Este exemplo utiliza um embedding word2vec para português, obtido em https://github.com/Kyubyong/wordvectors.\n"
   ]
  },
  {
   "cell_type": "markdown",
   "metadata": {},
   "source": [
    "## Preâmbulo"
   ]
  },
  {
   "cell_type": "code",
   "execution_count": 1,
   "metadata": {
    "collapsed": false
   },
   "outputs": [
    {
     "name": "stderr",
     "output_type": "stream",
     "text": [
      "Using TensorFlow backend.\n"
     ]
    }
   ],
   "source": [
    "%matplotlib inline\n",
    "import matplotlib.pyplot as plot\n",
    "from IPython import display\n",
    "from __future__ import print_function\n",
    "\n",
    "import os\n",
    "import re\n",
    "import sys\n",
    "import glob\n",
    "import numpy as np\n",
    "import numpy.random as nr\n",
    "\n",
    "from keras.preprocessing.text import Tokenizer\n",
    "from keras.preprocessing.sequence import pad_sequences\n",
    "from keras.utils import to_categorical\n",
    "from keras.layers import Dense, Input, Flatten, Dropout\n",
    "from keras.layers import Conv1D, MaxPooling1D, Embedding\n",
    "from keras.models import Model\n",
    "from keras.optimizers import (SGD, \n",
    "                              RMSprop, \n",
    "                              Adam, \n",
    "                              Adadelta, \n",
    "                              Adagrad)\n",
    "\n",
    "sys.path.append('../src')\n",
    "from my_keras_utilities import (get_available_gpus, \n",
    "                                load_model_and_history, \n",
    "                                save_model_and_history, \n",
    "                                TrainingPlotter)\n",
    "\n",
    "os.makedirs('../../models',exist_ok=True)\n",
    "np.set_printoptions(precision=3, linewidth=120)"
   ]
  },
  {
   "cell_type": "code",
   "execution_count": 2,
   "metadata": {
    "collapsed": false
   },
   "outputs": [
    {
     "name": "stdout",
     "output_type": "stream",
     "text": [
      "Backend:        tensorflow\n",
      "Data format:    channels_first\n",
      "Available GPUS: []\n"
     ]
    }
   ],
   "source": [
    "import keras.backend as K\n",
    "\n",
    "# K.set_image_data_format('channels_first')\n",
    "K.set_floatx('float32')\n",
    "\n",
    "print('Backend:        {}'.format(K.backend()))\n",
    "print('Data format:    {}'.format(K.image_data_format()))\n",
    "print('Available GPUS:', get_available_gpus())"
   ]
  },
  {
   "cell_type": "markdown",
   "metadata": {},
   "source": [
    "## Procedimentos de treino e teste"
   ]
  },
  {
   "cell_type": "code",
   "execution_count": 3,
   "metadata": {
    "collapsed": true
   },
   "outputs": [],
   "source": [
    "class MyCb(TrainingPlotter):\n",
    "    \n",
    "    def on_epoch_end(self, epoch, logs={}):\n",
    "        super().on_epoch_end(epoch, logs)\n",
    "\n",
    "\n",
    "def train_network(model, model_name, train_generator, validation_generator, \n",
    "                  train_steps=10, valid_steps=10, opt='rmsprop', nepochs=50, \n",
    "                  patience=50, reset=False, ploss=1.0):\n",
    "\n",
    "    do_plot = (ploss > 0.0)\n",
    "    \n",
    "    model_fn = model_name + '.model'\n",
    "    if reset and os.path.isfile(model_fn):\n",
    "        os.unlink(model_name + '.model')\n",
    "        \n",
    "    if not os.path.isfile(model_fn):\n",
    "        # initialize the optimizer and model\n",
    "        print(\"[INFO] compiling model...\")\n",
    "        model.compile(loss=\"categorical_crossentropy\", optimizer=opt, metrics=[\"accuracy\"])    \n",
    "\n",
    "        # History, checkpoint, earlystop, plot losses:\n",
    "        cb = MyCb(n=1, filepath=model_name, patience=patience, plot_losses=do_plot)\n",
    "        \n",
    "    else:\n",
    "        print(\"[INFO] loading model...\")\n",
    "        model, cb = load_model_and_history(model_name)\n",
    "        cb.patience = patience\n",
    "\n",
    "    past_epochs = cb.get_nepochs()\n",
    "    tr_epochs = nepochs - past_epochs\n",
    "    \n",
    "    if do_plot:\n",
    "        vv = 0\n",
    "        fig = plot.figure(figsize=(15,6))\n",
    "        plot.ylim(0.0, ploss)\n",
    "        plot.xlim(0, nepochs)\n",
    "        plot.grid(True)\n",
    "    else:\n",
    "        vv = 2\n",
    "\n",
    "    print(\"[INFO] training for {} epochs of {} steps each...\".format(tr_epochs, train_steps))\n",
    "    try:\n",
    "        model.fit_generator(train_generator, steps_per_epoch=train_steps,\n",
    "                            validation_data=validation_generator, validation_steps=valid_steps,\n",
    "                            epochs=nepochs, verbose=vv, callbacks=[cb])\n",
    "    except KeyboardInterrupt:\n",
    "        pass\n",
    "\n",
    "    return model, cb\n",
    "\n",
    "\n",
    "def test_network(model_name, validation_generator, nb_validation_samples):\n",
    "    model, histo = load_model_and_history(model_name)\n",
    "    print('Model from epoch {}'.format(histo.best_epoch))\n",
    "    print(\"[INFO] evaluating in the test data set ...\")\n",
    "    loss, accuracy = model.evaluate_generator(validation_generator, nb_validation_samples)\n",
    "    print(\"\\n[INFO] accuracy on the test data set: {:.2f}% [{:.5f}]\".format(accuracy * 100, loss))\n"
   ]
  },
  {
   "cell_type": "markdown",
   "metadata": {},
   "source": [
    "## Preparando o dataset"
   ]
  },
  {
   "cell_type": "markdown",
   "metadata": {},
   "source": [
    "### Buscando o texto dos livros e definindo os rótulos"
   ]
  },
  {
   "cell_type": "code",
   "execution_count": 4,
   "metadata": {
    "collapsed": false
   },
   "outputs": [
    {
     "name": "stdout",
     "output_type": "stream",
     "text": [
      "  87788  Fernando_Sabino    O_Bom_Ladrão\n",
      " 511681  Fernando_Sabino    O_Encontro_Marcado\n",
      " 328288  Fernando_Sabino    O_Grande_Mentecapto\n",
      " 180313  Fernando_Sabino    O_Menino_no_Espelho\n",
      " 427711  Jorge_Amado        Capitães_de_Areia\n",
      "1030735  Jorge_Amado        Dona_flor_seus_dois_maridos\n",
      " 828417  Jorge_Amado        Gabriela\n",
      "1001226  Jorge_Amado        Tereza_Batista_Cansada_de_Guerra\n",
      " 372459  Machado_de_Assis   Dom_Casmurro\n",
      " 411043  Machado_de_Assis   Esaú_e_Jacó\n",
      " 352965  Machado_de_Assis   Memórias_Póstumas_de_Brás_Cubas\n",
      " 443778  Machado_de_Assis   Quincas_Borba\n",
      "\n",
      "Labels:\n",
      "     0: Machado_de_Assis\n",
      "     1: Jorge_Amado\n",
      "     2: Fernando_Sabino\n"
     ]
    }
   ],
   "source": [
    "data_dir = '../../datasets/livros/'\n",
    "\n",
    "autores = [\n",
    "    'Fernando_Sabino', \n",
    "    'Jorge_Amado',\n",
    "    'Machado_de_Assis',\n",
    "]\n",
    "\n",
    "book_text = []\n",
    "book_author = []\n",
    "book_title = []\n",
    "for aut in autores:\n",
    "    for fn in glob.glob(data_dir + aut + '*.txt'):\n",
    "        author, book = os.path.basename(fn).split('__')\n",
    "        txt = open(fn).read().replace('\\x97', '')\n",
    "        book_text.append(txt)\n",
    "        book_author.append(author)\n",
    "        book_title.append(book[:-4])\n",
    "        print('{:7d}  {:18s} {}'.format(len(txt), author, book[:-4]))\n",
    "\n",
    "author_list = list(set(book_author))\n",
    "n_labels = len(author_list)\n",
    "n_books = len(book_title)\n",
    "book_label = [author_list.index(a) for a in book_author]\n",
    "print('\\nLabels:')\n",
    "for i, autor in enumerate(author_list):\n",
    "    print('    {:2d}: {}'.format(i, autor))"
   ]
  },
  {
   "cell_type": "markdown",
   "metadata": {},
   "source": [
    "### Representando as palavras através de índices inteiros"
   ]
  },
  {
   "cell_type": "code",
   "execution_count": 5,
   "metadata": {
    "collapsed": false
   },
   "outputs": [
    {
     "name": "stdout",
     "output_type": "stream",
     "text": [
      "Found 51557 unique tokens.\n"
     ]
    }
   ],
   "source": [
    "MAX_NB_WORDS = 20000\n",
    "\n",
    "tokenizer = Tokenizer(num_words=MAX_NB_WORDS)\n",
    "tokenizer.fit_on_texts(book_text)\n",
    "sequences = tokenizer.texts_to_sequences(book_text)\n",
    "\n",
    "w2i = tokenizer.word_index\n",
    "i2w = dict([(v, k) for k, v in w2i.items()])\n",
    "\n",
    "i2w_vec = np.array([i2w[i+1] for i in range(len(i2w))])\n",
    "\n",
    "print('Found %s unique tokens.' % len(w2i))"
   ]
  },
  {
   "cell_type": "code",
   "execution_count": 6,
   "metadata": {
    "collapsed": false,
    "scrolled": false
   },
   "outputs": [
    {
     "name": "stdout",
     "output_type": "stream",
     "text": [
      "Fernando Sabino: O Bom Ladrão -- 14761 palavras\n",
      "gritou lá de baixo olha aqui sua carteira venha ver só onde estava desci e encontrei isabel apontando para o chão perto da porta garcia se limitava a me olhar compenetrado a carteira estava ali caída junto à entrada com certeza foi quando você tirou a capa de fato eu chegara da rua com capa embora já não estivesse chovendo sim podia ser mas e o abraço os olhares e tudo mais não me enganavam assim tão facilmente apanhei a carteira o dinheiro tudo bem só que estão faltando mil cruzeiros agora a brincadeira excedia a todos os limites mil\n",
      "\n",
      "Fernando Sabino: O Encontro Marcado -- 84591 palavras\n",
      "recebe ainda uma última de espuma nas per nas despedida irônica do mar e vem se da imprudência cá fora a um sol esquivo sob cuja luz raros banhistas mais se — telefonei para sua casa antonieta me disse que você tinha vindo à praia que idéia é essa térsio senta se seu lado enquanto ele estende preguiçosamente na areia o corpo esguio branco ascético — não agüento nadar nem duzentos metros meu récorde foi batido você leu meu artigo de domingo — li — que tal — bom — estou pensando em abrir com esse artigo um livro sobre\n",
      "\n",
      "Fernando Sabino: O Grande Mentecapto -- 53447 palavras\n",
      "do ginásio com uma tabuleta à entrada em que para não vender fiado ele se valia da célebre advertência de dante importava de da itália e foi o do sorvete em minas no ano de para o que fazia vir do rio pela estrada de ferro leopoldina blocos de gelo e protegidos por a metade se derretia pelo caminho e meu pai seu domingos antes de casar se com a suave dona inspirado mais pelo vinho que pelo sorvete juntou se a um farmacêutico de nome joão teixeira e abriu uma fábrica de e de água de — portanto da\n",
      "\n",
      "Fernando Sabino: O Menino no Espelho -- 30905 palavras\n",
      "luz do dia mal chegava onde eu tinha ido parar pela copa das árvores que se fechavam como um telhado sobre minha cabeça e o pior é que já começava a procurei prestar atenção os ouvidos para ver se escutava alguma coisa realmente deu para captar ao longe uns farrapos de conversas e risadas cada vez mais fracas à medida que se afastavam eu não conseguia distinguir em que direção gritei gritei mas não deviam ter me ouvido pois fiquei esperando um tempão e ninguém apareceu senti vontade de chorar mas resisti um escoteiro não chora dava para perceber em\n",
      "\n",
      "Jorge Amado: Capitães de Areia -- 76415 palavras\n",
      "também sorri o negrinho barandão fala – hoje vai ter fuzuê – eu é que não queria ser condutor de bonde nem ganha uma porcaria eles faz bem – fala joão grande – vamos espiar – propõe pedro bala vão para a porta do sindicato entram homens negros mulatos espanhóis e portugueses vêem quando joão de adão e os outros estivadores saem entre vivas dos operários das linhas de bonde eles vivam também joão grande e barandão porque gostam do doqueiro joão de adão pedro bala não só por isso como porque acha bonito o espetáculo da greve é como\n",
      "\n",
      "Jorge Amado: Dona flor seus dois maridos -- 167730 palavras\n",
      "simples por que não aproveitar a roleta e pôr tudo aquilo em pratos limpos como ora como a bacia da roleta de tal forma a fazer impossível a bolinha cair no setor do 17 truque velho como o próprio jogo da roleta sem dúvida perigoso desonesto certamente mas não sendo assim como obter a prova derradeira máximo mantinha sua posição inicial todos aqueles absurdos onde pelancchi via a mão negra do destino atroz não passavam de batota monstruosa obra de uma quadrilha estrangeira com fiscais e crupiês com arigof e anacreon com mirandão que quadrilha que estrangeiros sono sono para\n",
      "\n",
      "Jorge Amado: Gabriela -- 134545 palavras\n",
      "afinal não era o engenheiro o l o recém chegado nem se interessar se pela brusca agitação da cidade indiferente a conversar com malvina josué atravessou a praça passou entre as solteironas aproximou se da janela de os lábios carnudos da mulata abriram se num sorri so boa tarde boa tarde professor que foi que houve tocaram fogo na edição do diário gente dos bastos por causa desse palerma de engenheiro que chegou hoje glória olhou para a avenida na praia o moço que está conversando com sua a minha namorada engano simples conhecimento em lhéus só uma mulher que\n",
      "\n",
      "Jorge Amado: Tereza Batista Cansada de Guerra -- 165356 palavras\n",
      "mel creio que não me mais sem você quando estou longe só tenho um desejo estar aqui seis anos uma vida tanta coisa a recordar tanta coisa quase nada pois de dramático e grave nada sucedera nenhum acontecimento sensacional a merecer página de romance apenas a vida a decorrer em paz — minha vida dá um romance é só escrever — afirmava patética a costureira fausta das senhoras da cidade não a vida de tereza em estância mansa e alegre não é bom material para enredo de romance quando muito serve para com ela se compor uma canção de amor\n",
      "\n",
      "Machado de Assis: Dom Casmurro -- 64689 palavras\n",
      "prazer obrigado capitu muito obrigado que você goste também papai está bom e mamãe a você não se pergunta essa cara é mesmo de quem vende saúde e como vamos de rezas a todas as perguntas capitu ia respondendo prontamente e bem trazia um vestidinho melhor e os sapatos de sair não entrou com a familiaridade do costume deteve se um instante à porta da sala antes de ir beijar a mão a minha mãe e ao padre como desse a este duas vezes em cinco minutos o título de protonotário josé dias para se da concorrência fez um pequeno\n",
      "\n",
      "Machado de Assis: Esaú e Jacó -- 70115 palavras\n",
      "um nome ele era se estou bem informado joão de melo e barros não se sabendo quem mandava dizer a missa ninguém lá foi a igreja escolhida deu ainda menos relevo ao ato não era vistosa nem mas velhota sem galas nem gente metida ao canto de um pequeno largo adequada à missa recôndita e anônima às oito horas parou um coupé à porta o lacaio desceu abriu a portinhola se e se saiu um senhor e deu a mão a uma senhora a senhora saiu e tomou o braço ao senhor atravessaram o pedacinho de largo e entraram na\n",
      "\n",
      "Machado de Assis: Memórias Póstumas de Brás Cubas -- 58589 palavras\n",
      "janela e exclama virgem nossa senhora aí vem o marido de iaiá o momento de terror foi curto mas completo virgília fez se da cor das rendas do vestido correu até a porta da alcova d plácida que fechara a rótula queria fechar também a porta de dentro eu dispus me a esperar o lobo neves esse curto instante passou virgília tornou a si empurrou me para a alcova disse a d plácida que voltasse à janela a confidente obedeceu era ele d plácida abriu lhe a porta com muitas exclamações de pasmo o senhor por aqui a casa de\n",
      "\n",
      "Machado de Assis: Quincas Borba -- 74936 palavras\n",
      "de santo antônio dos pobres acabada a missa viu surgir do movimento dos fiéis que se cumprimentavam entre si ou saudavam o altar nada menos que o primo risonho gravemente estendendo lhe a mão veio também à missa perguntou espantada vim vem sempre nem sempre muitas vezes francamente não esperava tanta devoção em você os homens são em geral uns teófilo não pisa na igreja a não ser para batizar os filhos você então é religioso não posso responder com certeza mas tenho horror à banalidade que é dizer mal da religião e basta vim à missa não vim confessar\n",
      "\n"
     ]
    }
   ],
   "source": [
    "for i, seq in enumerate(sequences):\n",
    "    k = nr.randint(len(seq) - 100)\n",
    "    print('{}: {} -- {} palavras'.format(book_author[i], book_title[i], len(seq)).replace('_', ' '))\n",
    "    print(' '.join([i2w[x] for x in seq[k:k+100]]), end='\\n\\n')\n"
   ]
  },
  {
   "cell_type": "markdown",
   "metadata": {},
   "source": [
    "### Palavras características de cada livro"
   ]
  },
  {
   "cell_type": "code",
   "execution_count": 7,
   "metadata": {
    "collapsed": false
   },
   "outputs": [
    {
     "name": "stdout",
     "output_type": "stream",
     "text": [
      "[['que' 'de' 'garcia' 'brígida' 'norberto' 'abotoaduras' '–' 'isabel']\n",
      " ['eduardo' 'marciano' '“' 'vítor' 'gerlane' 'mauro' 'térsio' '—']\n",
      " ['tibério' 'dionísio' 'barbeca' 'ladisbão' '—' 'mentecapto' 'geraldo' 'viramundo']\n",
      " ['cíntia' 'alzira' 'odnanref' 'birica' 'anairam' 'hindemburgo' 'gerson' '—']\n",
      " ['ester' 'dalva' 'barandão' 'almiro' 'dora' '–' 'pirulito' 'trapiche']\n",
      " ['marilda' 'dinorá' 'teodoro' 'pelancchi' 'gisa' 'mirandão' 'rozilda' 'vadinho']\n",
      " ['arminda' 'malvina' 'mundinho' 'amâncio' 'fulgêncio' 'tonico' 'gabriela' 'nacib']\n",
      " ['libório' 'vavá' 'almério' 'januário' '—' 'dóris' 'justiniano' 'tereza']\n",
      " ['protonotário' 'bentinho' 'cabral' 'sancha' 'pádua' 'justina' 'capitu' 'escobar']\n",
      " ['cabocla' 'perpétua' 'excia' 'custódio' 'aires' 'natividade' 'cláudia' 'flora']\n",
      " ['loló' 'eusébia' 'cubas' 'quincas' 'sabina' 'cotrim' 'marcela' 'virgília']\n",
      " ['cristiano' 'fernanda' 'quincas' 'tonica' 'camacho' 'benedita' 'sofia' 'rubião']]\n"
     ]
    }
   ],
   "source": [
    "tfidf = tokenizer.sequences_to_matrix(sequences, mode='tfidf')\n",
    "ww = np.argsort(tfidf, axis=1)[:, -8:]\n",
    "print(i2w_vec[ww-1])"
   ]
  },
  {
   "cell_type": "markdown",
   "metadata": {},
   "source": [
    "### Dividindo o dataset entre treinamento e validação"
   ]
  },
  {
   "cell_type": "code",
   "execution_count": 8,
   "metadata": {
    "collapsed": false
   },
   "outputs": [
    {
     "name": "stdout",
     "output_type": "stream",
     "text": [
      "Training sequences:\n",
      "-------------------\n",
      " 1. Fernando_Sabino  (2) --   8515 palavras do início do livro O_Bom_Ladrão\n",
      " 2. Fernando_Sabino  (2) --  35907 palavras do início do livro O_Encontro_Marcado\n",
      " 3. Fernando_Sabino  (2) --  30406 palavras do início do livro O_Grande_Mentecapto\n",
      " 4. Fernando_Sabino  (2) --  10191 palavras do início do livro O_Menino_no_Espelho\n",
      " 5. Jorge_Amado      (1) --   9214 palavras do início do livro Capitães_de_Areia\n",
      " 6. Jorge_Amado      (1) -- 111222 palavras do início do livro Dona_flor_seus_dois_maridos\n",
      " 7. Jorge_Amado      (1) --  99502 palavras do início do livro Gabriela\n",
      " 8. Jorge_Amado      (1) -- 126792 palavras do início do livro Tereza_Batista_Cansada_de_Guerra\n",
      " 9. Machado_de_Assis (0) --  24480 palavras do início do livro Dom_Casmurro\n",
      "10. Machado_de_Assis (0) --  45243 palavras do início do livro Esaú_e_Jacó\n",
      "11. Machado_de_Assis (0) --  11079 palavras do início do livro Memórias_Póstumas_de_Brás_Cubas\n",
      "12. Machado_de_Assis (0) --  40147 palavras do início do livro Quincas_Borba\n",
      "13. Fernando_Sabino  (2) --   3294 palavras do final do livro  O_Bom_Ladrão\n",
      "14. Fernando_Sabino  (2) --  31766 palavras do final do livro  O_Encontro_Marcado\n",
      "15. Fernando_Sabino  (2) --  12352 palavras do final do livro  O_Grande_Mentecapto\n",
      "16. Fernando_Sabino  (2) --  14533 palavras do final do livro  O_Menino_no_Espelho\n",
      "17. Jorge_Amado      (1) --  51918 palavras do final do livro  Capitães_de_Areia\n",
      "18. Jorge_Amado      (1) --  22962 palavras do final do livro  Dona_flor_seus_dois_maridos\n",
      "19. Jorge_Amado      (1) --   8134 palavras do final do livro  Gabriela\n",
      "20. Jorge_Amado      (1) --   5493 palavras do final do livro  Tereza_Batista_Cansada_de_Guerra\n",
      "21. Machado_de_Assis (0) --  27272 palavras do final do livro  Dom_Casmurro\n",
      "22. Machado_de_Assis (0) --  10849 palavras do final do livro  Esaú_e_Jacó\n",
      "23. Machado_de_Assis (0) --  35793 palavras do final do livro  Memórias_Póstumas_de_Brás_Cubas\n",
      "24. Machado_de_Assis (0) --  19802 palavras do final do livro  Quincas_Borba\n",
      "\n",
      "Validation sequences:\n",
      "---------------------\n",
      " 1. Fernando_Sabino  (2) --   2952 palavras do meio do livro O_Bom_Ladrão\n",
      " 2. Fernando_Sabino  (2) --  16918 palavras do meio do livro O_Encontro_Marcado\n",
      " 3. Fernando_Sabino  (2) --  10689 palavras do meio do livro O_Grande_Mentecapto\n",
      " 4. Fernando_Sabino  (2) --   6181 palavras do meio do livro O_Menino_no_Espelho\n",
      " 5. Jorge_Amado      (1) --  15283 palavras do meio do livro Capitães_de_Areia\n",
      " 6. Jorge_Amado      (1) --  33546 palavras do meio do livro Dona_flor_seus_dois_maridos\n",
      " 7. Jorge_Amado      (1) --  26909 palavras do meio do livro Gabriela\n",
      " 8. Jorge_Amado      (1) --  33071 palavras do meio do livro Tereza_Batista_Cansada_de_Guerra\n",
      " 9. Machado_de_Assis (0) --  12937 palavras do meio do livro Dom_Casmurro\n",
      "10. Machado_de_Assis (0) --  14023 palavras do meio do livro Esaú_e_Jacó\n",
      "11. Machado_de_Assis (0) --  11717 palavras do meio do livro Memórias_Póstumas_de_Brás_Cubas\n",
      "12. Machado_de_Assis (0) --  14987 palavras do meio do livro Quincas_Borba\n",
      "\n",
      "Total number of training words:   796866\n",
      "Total number of validation words: 199213\n"
     ]
    }
   ],
   "source": [
    "nr.seed(20170607)\n",
    "\n",
    "valid_split = 0.2\n",
    "valid_length = [int(0.2 * len(x)) for x in sequences]\n",
    "valid_start = [nr.randint(2000, len(x) - 2000 - n) for x, n in zip(sequences, valid_length)]\n",
    "\n",
    "valid_sequences = [seq[x0:x0+n] for seq, x0, n in zip(sequences, valid_start, valid_length)]\n",
    "\n",
    "train_sequences = [seq[:x0] for seq, x0 in zip(sequences, valid_start)] + \\\n",
    "                  [seq[x0+n:] for seq, x0, n in zip(sequences, valid_start, valid_length)]\n",
    "\n",
    "valid_labels = book_label\n",
    "train_labels = book_label + book_label\n",
    "\n",
    "n_train_words = sum([len(x) for x in train_sequences])\n",
    "n_valid_words = sum([len(x) for x in valid_sequences])\n",
    "\n",
    "print('Training sequences:')\n",
    "print('-------------------')\n",
    "for i, (seq, lab) in enumerate(zip(train_sequences, train_labels)):\n",
    "    if i < n_books:\n",
    "        print('{:2d}. {:16s} ({}) -- {:6d} palavras do início do livro {}'.format(i+1, book_author[i%n_books], lab,\n",
    "                                                                                  len(seq), book_title[i%n_books]))\n",
    "    else:\n",
    "        print('{:2d}. {:16s} ({}) -- {:6d} palavras do final do livro  {}'.format(i+1, book_author[i%n_books], lab,\n",
    "                                                                                  len(seq), book_title[i%n_books]))\n",
    "print()\n",
    "print('Validation sequences:')\n",
    "print('---------------------')\n",
    "for i, (seq, lab) in enumerate(zip(valid_sequences, valid_labels)):\n",
    "    print('{:2d}. {:16s} ({}) -- {:6d} palavras do meio do livro {}'.format(i+1, book_author[i%n_books], lab,\n",
    "                                                                            len(seq), book_title[i%n_books]))\n",
    "print()\n",
    "print('Total number of training words:  ', n_train_words)\n",
    "print('Total number of validation words:', n_valid_words)"
   ]
  },
  {
   "cell_type": "markdown",
   "metadata": {},
   "source": [
    "### Criando  geradores para treino e validação"
   ]
  },
  {
   "cell_type": "code",
   "execution_count": 9,
   "metadata": {
    "collapsed": true
   },
   "outputs": [],
   "source": [
    "class MyDataGenerator:\n",
    "    def __init__(self, batch_size, seq_size, sequences, labels):\n",
    "        self.batch_size = batch_size\n",
    "        self.length = seq_size\n",
    "        self.sequences = sequences\n",
    "        self.labels = labels\n",
    "        sizes = np.array([len(seq) for seq in sequences])\n",
    "        self.p = 1.0 * sizes / sizes.sum()        # probabilidade de escolha para cada sequencia\n",
    "        self.n = np.arange(len(sequences))        # indices de cada sequencia (para o choice abaixo)\n",
    "        \n",
    "    def __call__(self):\n",
    "        while True:\n",
    "            batch = np.empty((self.batch_size, self.length), np.int32)\n",
    "            label = np.empty((self.batch_size, n_labels), np.int32)\n",
    "            for i in range(self.batch_size):\n",
    "                k = nr.choice(self.n, p=self.p)\n",
    "                p = nr.randint(0, len(self.sequences[k]) - self.length)\n",
    "                batch[i] = self.sequences[k][p:p+self.length]\n",
    "                label[i] = to_categorical(self.labels[k], num_classes=n_labels)\n",
    "            yield batch, label\n"
   ]
  },
  {
   "cell_type": "code",
   "execution_count": 10,
   "metadata": {
    "collapsed": false
   },
   "outputs": [],
   "source": [
    "batch_size = 32\n",
    "seq_size = 500\n",
    "\n",
    "train_gen = MyDataGenerator(batch_size, seq_size, train_sequences, train_labels)()\n",
    "valid_gen = MyDataGenerator(batch_size, seq_size, valid_sequences, valid_labels)()\n"
   ]
  },
  {
   "cell_type": "markdown",
   "metadata": {},
   "source": [
    "## Criando a rede neural"
   ]
  },
  {
   "cell_type": "markdown",
   "metadata": {},
   "source": [
    "### Carregando o embedding"
   ]
  },
  {
   "cell_type": "code",
   "execution_count": 11,
   "metadata": {
    "collapsed": false,
    "scrolled": false
   },
   "outputs": [],
   "source": [
    "w2v_model_fn = '../../models/word2vec_pt_br.npz'\n",
    "\n",
    "if not os.path.isfile(w2v_model_fn):\n",
    "    wvec_words = '/Users/rubens/Development/Datasets/word2vec/portuguese/pt.tsv'\n",
    "\n",
    "    words = []\n",
    "    vectors = []\n",
    "    word_index = {}\n",
    "    for line in open(wvec_pt):\n",
    "        line = line.rstrip()\n",
    "        if line[0] != ' ':\n",
    "            i, w, vec0 = line.split(maxsplit=2)\n",
    "            assert int(i) == len(words)\n",
    "            assert vec0[0] == '[', vec0\n",
    "            words.append(w)\n",
    "            vv = [float(x) for x in vec0[1:].split()]\n",
    "        elif line[-1] == ']':\n",
    "            vv += [float(x) for x in line[:-1].split()]\n",
    "            vectors.append(vv)\n",
    "        else:\n",
    "            vv += [float(x) for x in line.split()]\n",
    "            \n",
    "    words = np.array(words)\n",
    "    vectors = np.array(vects)\n",
    "    np.savez_compressed(w2v_model_fn, words=words, vectors=vectors)\n",
    "\n",
    "else:\n",
    "    dd = np.load(w2v_model_fn)\n",
    "    words = dd['words']\n",
    "    vectors = dd['vectors']\n",
    "\n",
    "embeddings_index = {}\n",
    "for i, w in enumerate(words):\n",
    "    embeddings_index[w] = vectors[i]\n",
    "    \n",
    "EMBEDDING_DIM = vectors.shape[1]"
   ]
  },
  {
   "cell_type": "markdown",
   "metadata": {},
   "source": [
    "### Preparando a matriz de embeddings"
   ]
  },
  {
   "cell_type": "code",
   "execution_count": 12,
   "metadata": {
    "collapsed": false,
    "scrolled": false
   },
   "outputs": [
    {
     "name": "stdout",
     "output_type": "stream",
     "text": [
      "Embedding Matrix: (20000, 300).\n",
      "Words not found:  6779\n"
     ]
    }
   ],
   "source": [
    "# prepare embedding matrix\n",
    "num_words = min(MAX_NB_WORDS, len(w2i))\n",
    "embedding_matrix = np.zeros((num_words, EMBEDDING_DIM))\n",
    "\n",
    "notfound = []\n",
    "for i in range(1, MAX_NB_WORDS):\n",
    "    word = i2w_vec[i]\n",
    "    embedding_vector = embeddings_index.get(word)\n",
    "    if embedding_vector is None:\n",
    "        # words not found in embedding index will be random\n",
    "        embedding_vector = nr.random(size=(EMBEDDING_DIM,)) - 0.5\n",
    "        notfound.append(word)\n",
    "    embedding_matrix[i] = embedding_vector\n",
    "\n",
    "print('Embedding Matrix: {}.\\nWords not found:  {}'.format(embedding_matrix.shape, len(notfound)))\n"
   ]
  },
  {
   "cell_type": "markdown",
   "metadata": {},
   "source": [
    "### Construindo a rede"
   ]
  },
  {
   "cell_type": "code",
   "execution_count": 13,
   "metadata": {
    "collapsed": false
   },
   "outputs": [],
   "source": [
    "model_name = '../../models/livros_embeddings_w2v_1'\n",
    "\n",
    "def build_net(embedding_matrix=None, input_len=None, trainable=False):\n",
    "    num_words, embedding_dim = embedding_matrix.shape\n",
    "    \n",
    "    seq_input = Input(shape=(input_len,), dtype='int32')\n",
    "    embedding_layer = Embedding(num_words, embedding_dim, weights=[embedding_matrix],\n",
    "                                input_length=input_len, trainable=trainable)(seq_input)\n",
    "\n",
    "    x = Conv1D(128, 5, activation='relu')(embedding_layer)\n",
    "    x = MaxPooling1D(5)(x)\n",
    "\n",
    "    x = Dropout(0.5)(x)\n",
    "    \n",
    "    x = Conv1D(128, 5, activation='relu')(x)\n",
    "    x = MaxPooling1D(2)(x)\n",
    "    \n",
    "    x = Conv1D(128, 5, activation='relu')(x)\n",
    "    x = MaxPooling1D(2)(x)\n",
    "    \n",
    "    x = Dropout(0.5)(x)\n",
    "    \n",
    "    x = Flatten()(x)\n",
    "    x = Dense(128, activation='relu')(x)\n",
    "    \n",
    "    x = Dropout(0.5)(x)\n",
    "    \n",
    "    preds = Dense(n_labels, activation='softmax')(x)\n",
    "\n",
    "    model = Model(seq_input, preds)\n",
    "    return model\n",
    "\n",
    "model = build_net(embedding_matrix, seq_size, True)"
   ]
  },
  {
   "cell_type": "markdown",
   "metadata": {},
   "source": [
    "## Treinando"
   ]
  },
  {
   "cell_type": "code",
   "execution_count": 14,
   "metadata": {
    "collapsed": false
   },
   "outputs": [
    {
     "data": {
      "image/png": "[encoded data removed]",
      "text/plain": [
       "<matplotlib.figure.Figure at 0x122ad6588>"
      ]
     },
     "metadata": {},
     "output_type": "display_data"
    }
   ],
   "source": [
    "train_steps = n_train_words // (batch_size * seq_size)\n",
    "valid_steps = n_valid_words // (batch_size * seq_size)\n",
    "\n",
    "fit_params = {\n",
    "    'train_steps':     train_steps,\n",
    "    'valid_steps':     valid_steps,\n",
    "    'opt':             'adam',      #SGD(lr=0.001, momentum=0.9, nesterov=True), \n",
    "    'nepochs':         50, \n",
    "    'patience':        10,\n",
    "    'ploss':           1.5,\n",
    "    'reset':           False,\n",
    "}\n",
    "\n",
    "train_network(model, model_name, train_gen, valid_gen, **fit_params);"
   ]
  },
  {
   "cell_type": "markdown",
   "metadata": {},
   "source": [
    "## Avaliando"
   ]
  },
  {
   "cell_type": "code",
   "execution_count": 17,
   "metadata": {
    "collapsed": false
   },
   "outputs": [
    {
     "name": "stdout",
     "output_type": "stream",
     "text": [
      "Model from epoch 17\n",
      "[INFO] evaluating in the test data set ...\n",
      "\n",
      "[INFO] accuracy on the test data set: 99.48% [0.02326]\n"
     ]
    }
   ],
   "source": [
    "test_network(model_name, valid_gen, valid_steps)"
   ]
  },
  {
   "cell_type": "code",
   "execution_count": null,
   "metadata": {
    "collapsed": true
   },
   "outputs": [],
   "source": []
  }
 ],
 "metadata": {
  "kernelspec": {
   "display_name": "Python 3",
   "language": "python",
   "name": "python3"
  },
  "language_info": {
   "codemirror_mode": {
    "name": "ipython",
    "version": 3
   },
   "file_extension": ".py",
   "mimetype": "text/x-python",
   "name": "python",
   "nbconvert_exporter": "python",
   "pygments_lexer": "ipython3",
   "version": "3.6.0"
  },
  "latex_envs": {
   "LaTeX_envs_menu_present": true,
   "autocomplete": true,
   "bibliofile": "biblio.bib",
   "cite_by": "apalike",
   "current_citInitial": 1,
   "eqLabelWithNumbers": true,
   "eqNumInitial": 1,
   "hotkeys": {
    "equation": "Ctrl-E",
    "itemize": "Ctrl-I"
   },
   "labels_anchors": false,
   "latex_user_defs": false,
   "report_style_numbering": false,
   "user_envs_cfg": false
  },
  "toc": {
   "colors": {
    "hover_highlight": "#DAA520",
    "navigate_num": "#000000",
    "navigate_text": "#333333",
    "running_highlight": "#FF0000",
    "selected_highlight": "#FFD700",
    "sidebar_border": "#EEEEEE",
    "wrapper_background": "#FFFFFF"
   },
   "moveMenuLeft": true,
   "nav_menu": {
    "height": "264px",
    "width": "252px"
   },
   "navigate_menu": true,
   "number_sections": true,
   "sideBar": true,
   "threshold": 4,
   "toc_cell": true,
   "toc_section_display": "block",
   "toc_window_display": false,
   "widenNotebook": false
  }
 },
 "nbformat": 4,
 "nbformat_minor": 2
}
