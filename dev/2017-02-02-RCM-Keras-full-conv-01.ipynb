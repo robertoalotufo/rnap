{
 "cells": [
  {
   "cell_type": "code",
   "execution_count": 125,
   "metadata": {
    "collapsed": true
   },
   "outputs": [],
   "source": [
    "import os\n",
    "os.environ['KERAS_BACKEND'] = 'theano'\n",
    "os.environ['THEANO_FLAGS'] = 'mode=FAST_RUN,device=gpu0,floatX=float32'\n",
    "# os.environ['THEANO_FLAGS'] = 'mode=FAST_RUN,device=cpu,floatX=float32'"
   ]
  },
  {
   "cell_type": "code",
   "execution_count": 126,
   "metadata": {
    "collapsed": false
   },
   "outputs": [
    {
     "name": "stdout",
     "output_type": "stream",
     "text": [
      "Keras  1.2.1\n",
      "Theano 0.8.2\n",
      "OpenCV 2.4.10\n",
      "Numpy  1.10.4\n"
     ]
    }
   ],
   "source": [
    "%matplotlib inline\n",
    "import matplotlib.pyplot as plot\n",
    "from IPython import display\n",
    "\n",
    "import time\n",
    "import numpy as np\n",
    "import argparse\n",
    "import cv2\n",
    "\n",
    "import theano\n",
    "import keras\n",
    "from keras.models import Sequential\n",
    "from keras.layers.convolutional import Convolution2D\n",
    "from keras.layers.convolutional import MaxPooling2D\n",
    "from keras.layers.core import Activation\n",
    "from keras.layers.core import Flatten\n",
    "from keras.layers.core import Dense\n",
    "from keras.layers.core import Dropout\n",
    "\n",
    "from keras.optimizers import SGD, RMSprop\n",
    "from keras.callbacks import Callback\n",
    "from keras.callbacks import History\n",
    "from keras.callbacks import ModelCheckpoint\n",
    "from keras.callbacks import EarlyStopping\n",
    "from keras.callbacks import LearningRateScheduler\n",
    "from keras.utils import np_utils\n",
    "from sklearn.cross_validation import train_test_split\n",
    "from sklearn import datasets\n",
    "\n",
    "print 'Keras ', keras.__version__\n",
    "print 'Theano', theano.__version__\n",
    "print 'OpenCV', cv2.__version__\n",
    "print 'Numpy ', np.__version__"
   ]
  },
  {
   "cell_type": "code",
   "execution_count": 127,
   "metadata": {
    "collapsed": false
   },
   "outputs": [
    {
     "name": "stdout",
     "output_type": "stream",
     "text": [
      "(60000, 1, 28, 28) (10000, 1, 28, 28)\n",
      "(60000, 10) (10000, 10)\n"
     ]
    }
   ],
   "source": [
    "from keras.datasets import mnist\n",
    "from my_keras_utilities import (load_model_and_history, \n",
    "                                save_model_and_history, \n",
    "                                TrainingPlotter)\n",
    "\n",
    "(X_train, y_train), (X_test, y_test) = mnist.load_data()\n",
    "\n",
    "X_train = X_train.reshape(-1, 1, 28, 28) / 255.0\n",
    "X_test = X_test.reshape(-1, 1, 28, 28) / 255.0\n",
    "\n",
    "y_train = np_utils.to_categorical(y_train, 10)\n",
    "y_test = np_utils.to_categorical(y_test, 10)\n",
    "\n",
    "print X_train.shape, X_test.shape\n",
    "print y_train.shape, y_test.shape"
   ]
  },
  {
   "cell_type": "markdown",
   "metadata": {},
   "source": [
    "## Carregando nosso modelo pre-treinado"
   ]
  },
  {
   "cell_type": "code",
   "execution_count": 128,
   "metadata": {
    "collapsed": false
   },
   "outputs": [
    {
     "name": "stdout",
     "output_type": "stream",
     "text": [
      "[INFO] loading model...\n",
      "[INFO] evaluating...\n",
      " 9984/10000 [============================>.] - ETA: 0s[INFO] accuracy: 99.34%\n",
      "Layers:\n",
      "   0: Convolution2D   convolution2d_1\n",
      "   1: Activation      activation_1\n",
      "   2: MaxPooling2D    maxpooling2d_1\n",
      "   3: Convolution2D   convolution2d_2\n",
      "   4: Activation      activation_2\n",
      "   5: MaxPooling2D    maxpooling2d_2\n",
      "   6: Dropout         dropout_1\n",
      "   7: Flatten         flatten_1\n",
      "   8: Dense           dense_1\n",
      "   9: Activation      activation_3\n",
      "  10: Dense           dense_2\n",
      "  11: Activation      activation_4\n",
      "\n",
      "____________________________________________________________________________________________________\n",
      "Layer (type)                     Output Shape          Param #     Connected to                     \n",
      "====================================================================================================\n",
      "convolution2d_1 (Convolution2D)  (None, 20, 28, 28)    520         convolution2d_input_18[0][0]     \n",
      "____________________________________________________________________________________________________\n",
      "activation_1 (Activation)        (None, 20, 28, 28)    0           convolution2d_1[0][0]            \n",
      "____________________________________________________________________________________________________\n",
      "maxpooling2d_1 (MaxPooling2D)    (None, 20, 14, 14)    0           activation_1[0][0]               \n",
      "____________________________________________________________________________________________________\n",
      "convolution2d_2 (Convolution2D)  (None, 50, 14, 14)    25050       maxpooling2d_1[0][0]             \n",
      "____________________________________________________________________________________________________\n",
      "activation_2 (Activation)        (None, 50, 14, 14)    0           convolution2d_2[0][0]            \n",
      "____________________________________________________________________________________________________\n",
      "maxpooling2d_2 (MaxPooling2D)    (None, 50, 7, 7)      0           activation_2[0][0]               \n",
      "____________________________________________________________________________________________________\n",
      "dropout_1 (Dropout)              (None, 50, 7, 7)      0           maxpooling2d_2[0][0]             \n",
      "____________________________________________________________________________________________________\n",
      "flatten_1 (Flatten)              (None, 2450)          0           dropout_1[0][0]                  \n",
      "____________________________________________________________________________________________________\n",
      "dense_1 (Dense)                  (None, 500)           1225500     flatten_1[0][0]                  \n",
      "____________________________________________________________________________________________________\n",
      "activation_3 (Activation)        (None, 500)           0           dense_1[0][0]                    \n",
      "____________________________________________________________________________________________________\n",
      "dense_2 (Dense)                  (None, 10)            5010        activation_3[0][0]               \n",
      "____________________________________________________________________________________________________\n",
      "activation_4 (Activation)        (None, 10)            0           dense_2[0][0]                    \n",
      "====================================================================================================\n",
      "Total params: 1,256,080\n",
      "Trainable params: 1,256,080\n",
      "Non-trainable params: 0\n",
      "____________________________________________________________________________________________________\n"
     ]
    }
   ],
   "source": [
    "print(\"[INFO] loading model...\")\n",
    "model_name = './keras_lenet_1'\n",
    "model_A, histo_A = load_model_and_history(model_name)\n",
    "print 'Layers:'\n",
    "for i, layer in enumerate(model.layers):\n",
    "    print '  {:2d}: {:15s} {}'.format(i, layer.__class__.__name__, layer.name)\n",
    "print\n",
    "model_A.summary()"
   ]
  },
  {
   "cell_type": "markdown",
   "metadata": {},
   "source": [
    "## Avaliando a performance"
   ]
  },
  {
   "cell_type": "code",
   "execution_count": null,
   "metadata": {
    "collapsed": true
   },
   "outputs": [],
   "source": [
    "print(\"[INFO] evaluating...\")\n",
    "loss, accuracy = model_A.evaluate(X_test, y_test, batch_size=128, verbose=1)\n",
    "print(\"[INFO] accuracy: {:.2f}%\".format(accuracy * 100))"
   ]
  },
  {
   "cell_type": "code",
   "execution_count": 129,
   "metadata": {
    "collapsed": false
   },
   "outputs": [
    {
     "name": "stdout",
     "output_type": "stream",
     "text": [
      "[(20, 1, 5, 5), (20,), (50, 20, 5, 5), (50,), (2450, 500), (500,), (500, 10), (10,)]\n"
     ]
    }
   ],
   "source": [
    "W_all_A = model_A.get_weights()\n",
    "print [W.shape for W in W_all_A]"
   ]
  },
  {
   "cell_type": "code",
   "execution_count": 130,
   "metadata": {
    "collapsed": false
   },
   "outputs": [],
   "source": [
    "from keras.models import Model\n",
    "out_6 = Model(input=model_A.input, output=model_A.get_layer('dropout_1').output).predict(X_test[:1])[0]\n",
    "\n",
    "out_7 = Model(input=model_A.input, output=model_A.get_layer('flatten_1').output).predict(X_test[:1])[0]\n",
    "\n",
    "out_8 = Model(input=model_A.input, output=model_A.get_layer('dense_1').output).predict(X_test[:1])[0]"
   ]
  },
  {
   "cell_type": "code",
   "execution_count": 131,
   "metadata": {
    "collapsed": false
   },
   "outputs": [
    {
     "name": "stdout",
     "output_type": "stream",
     "text": [
      "(50, 7, 7) (2450,) (500,)\n",
      "[[ 0.     0.     0.     0.     0.     0.     0.   ]\n",
      " [ 0.     0.     0.     0.     0.     0.     0.   ]\n",
      " [ 0.     0.434  0.314  0.     2.128  0.     0.   ]\n",
      " [ 0.     0.     0.     0.     0.     0.     0.   ]\n",
      " [ 0.     0.     0.     1.641  0.     0.     0.   ]\n",
      " [ 0.     0.     0.827  1.798  0.     0.     0.   ]\n",
      " [ 0.     0.     1.524  0.     0.     0.     0.   ]]\n",
      "\n"
     ]
    }
   ],
   "source": [
    "np.set_printoptions(precision=3)\n",
    "print out_6.shape, out_7.shape, out_8.shape\n",
    "print out_6[0]\n",
    "print\n"
   ]
  },
  {
   "cell_type": "markdown",
   "metadata": {},
   "source": [
    "## Modelo totalmente convolucional equivalente\n",
    "\n",
    "O modelo seguinte é todo ele convolucional."
   ]
  },
  {
   "cell_type": "code",
   "execution_count": 132,
   "metadata": {
    "collapsed": false
   },
   "outputs": [
    {
     "name": "stdout",
     "output_type": "stream",
     "text": [
      "____________________________________________________________________________________________________\n",
      "Layer (type)                     Output Shape          Param #     Connected to                     \n",
      "====================================================================================================\n",
      "convolution2d_37 (Convolution2D) (None, 20, 28, 28)    520         convolution2d_input_19[0][0]     \n",
      "____________________________________________________________________________________________________\n",
      "activation_35 (Activation)       (None, 20, 28, 28)    0           convolution2d_37[0][0]           \n",
      "____________________________________________________________________________________________________\n",
      "maxpooling2d_19 (MaxPooling2D)   (None, 20, 14, 14)    0           activation_35[0][0]              \n",
      "____________________________________________________________________________________________________\n",
      "convolution2d_38 (Convolution2D) (None, 50, 14, 14)    25050       maxpooling2d_19[0][0]            \n",
      "____________________________________________________________________________________________________\n",
      "activation_36 (Activation)       (None, 50, 14, 14)    0           convolution2d_38[0][0]           \n",
      "____________________________________________________________________________________________________\n",
      "maxpooling2d_20 (MaxPooling2D)   (None, 50, 7, 7)      0           activation_36[0][0]              \n",
      "____________________________________________________________________________________________________\n",
      "convolution2d_39 (Convolution2D) (None, 500, 1, 1)     1225500     maxpooling2d_20[0][0]            \n",
      "____________________________________________________________________________________________________\n",
      "activation_37 (Activation)       (None, 500, 1, 1)     0           convolution2d_39[0][0]           \n",
      "____________________________________________________________________________________________________\n",
      "convolution2d_40 (Convolution2D) (None, 10, 1, 1)      5010        activation_37[0][0]              \n",
      "____________________________________________________________________________________________________\n",
      "flatten_8 (Flatten)              (None, 10)            0           convolution2d_40[0][0]           \n",
      "____________________________________________________________________________________________________\n",
      "activation_38 (Activation)       (None, 10)            0           flatten_8[0][0]                  \n",
      "====================================================================================================\n",
      "Total params: 1,256,080\n",
      "Trainable params: 1,256,080\n",
      "Non-trainable params: 0\n",
      "____________________________________________________________________________________________________\n"
     ]
    }
   ],
   "source": [
    "model_name = './keras_lenet_fullconv'\n",
    "\n",
    "class LeNet:\n",
    "    @staticmethod\n",
    "    def build(width, height, depth, classes):\n",
    "        # initialize the model\n",
    "        model = Sequential()\n",
    "        \n",
    "        # first set of CONV => RELU => POOL\n",
    "        model.add(Convolution2D(20, 5, 5, border_mode=\"same\", \n",
    "                                input_shape=(depth, height, width)))\n",
    "        model.add(Activation(\"relu\"))\n",
    "        model.add(MaxPooling2D(pool_size=(2, 2), strides=(2, 2)))\n",
    "        \n",
    "        # second set of CONV => RELU => POOL\n",
    "        model.add(Convolution2D(50, 5, 5, border_mode=\"same\"))\n",
    "        model.add(Activation(\"relu\"))\n",
    "        model.add(MaxPooling2D(pool_size=(2, 2), strides=(2, 2)))\n",
    "        \n",
    "        model.add(Convolution2D(500, 7, 7, border_mode=\"valid\"))        \n",
    "        model.add(Activation(\"relu\"))\n",
    "\n",
    "        model.add(Convolution2D(10, 1, 1, border_mode=\"valid\"))        \n",
    "        model.add(Flatten())\n",
    "        model.add(Activation(\"softmax\"))\n",
    "\n",
    "        # return the constructed network architecture\n",
    "        return model\n",
    "\n",
    "model_B = LeNet.build(width=28, height=28, depth=1, classes=10)\n",
    "model_B.summary()"
   ]
  },
  {
   "cell_type": "markdown",
   "metadata": {},
   "source": [
    "## Ajustando os pesos do modelo todo convolucional"
   ]
  },
  {
   "cell_type": "code",
   "execution_count": 143,
   "metadata": {
    "collapsed": false
   },
   "outputs": [],
   "source": [
    "W_all_B = model_B.get_weights()\n",
    "print [W.shape for W in W_all_B]\n",
    "\n",
    "W_all_B = [\n",
    "    W_all_A[0],\n",
    "    W_all_A[1],\n",
    "    W_all_A[2],\n",
    "    W_all_A[3],\n",
    "    W_all_A[4].T.reshape(500, 50, 7, 7)[:, :, ::-1, ::-1],\n",
    "    W_all_A[5],\n",
    "    W_all_A[6].T.reshape(10, 500, 1, 1)[:, :, ::-1, ::-1],\n",
    "    W_all_A[7],\n",
    "]\n",
    "model_B.set_weights(W_all_B)\n"
   ]
  },
  {
   "cell_type": "markdown",
   "metadata": {},
   "source": [
    "## Verificando a performance"
   ]
  },
  {
   "cell_type": "code",
   "execution_count": 144,
   "metadata": {
    "collapsed": false
   },
   "outputs": [
    {
     "name": "stdout",
     "output_type": "stream",
     "text": [
      "[INFO] evaluating...\n",
      "10000/10000 [==============================] - 7s     \n",
      "[INFO] accuracy: 99.34%\n"
     ]
    }
   ],
   "source": [
    "model_B.compile(optimizer='sgd', loss=\"categorical_crossentropy\", metrics=[\"accuracy\"])\n",
    "\n",
    "print(\"[INFO] evaluating...\")\n",
    "loss, accuracy = model_B.evaluate(X_test, y_test, batch_size=128, verbose=1)\n",
    "print(\"[INFO] accuracy: {:.2f}%\".format(accuracy * 100))\n"
   ]
  },
  {
   "cell_type": "code",
   "execution_count": 136,
   "metadata": {
    "collapsed": false
   },
   "outputs": [
    {
     "data": {
      "text/plain": [
       "<matplotlib.image.AxesImage at 0x7fdf6adeb450>"
      ]
     },
     "execution_count": 136,
     "metadata": {},
     "output_type": "execute_result"
    },
    {
     "data": {
      "image/png": "[encoded data removed]",
      "text/plain": [
       "<matplotlib.figure.Figure at 0x7fdf6ae08f50>"
      ]
     },
     "metadata": {},
     "output_type": "display_data"
    }
   ],
   "source": [
    "N = 5\n",
    "char_index = np.random.choice(X_test.shape[0], N, replace=False)\n",
    "char_img = [img.reshape(28,28) for img in (255*X_test).astype(np.uint8)[char_index]]\n",
    "\n",
    "image = np.zeros((200, 200), np.uint8)\n",
    "for k, (i, j) in enumerate(np.random.choice(200-28, (N, 2), replace=False)):\n",
    "    image[i:i+28, j:j+28] = np.maximum(image[i:i+28, j:j+28], char_img[k])\n",
    "    \n",
    "plot.imshow(image, cmap=plot.cm.gray)"
   ]
  },
  {
   "cell_type": "code",
   "execution_count": 139,
   "metadata": {
    "collapsed": false,
    "scrolled": false
   },
   "outputs": [
    {
     "data": {
      "text/plain": [
       "0.12954895"
      ]
     },
     "execution_count": 139,
     "metadata": {},
     "output_type": "execute_result"
    }
   ],
   "source": [
    "model_B.internal_input_shapes = None\n",
    "pp = model_B.predict(np.zeros((1,1,28,28)))\n",
    "pp.max()"
   ]
  }
 ],
 "metadata": {
  "anaconda-cloud": {},
  "kernelspec": {
   "display_name": "Python [Root]",
   "language": "python",
   "name": "Python [Root]"
  },
  "language_info": {
   "codemirror_mode": {
    "name": "ipython",
    "version": 2
   },
   "file_extension": ".py",
   "mimetype": "text/x-python",
   "name": "python",
   "nbconvert_exporter": "python",
   "pygments_lexer": "ipython2",
   "version": "2.7.12"
  }
 },
 "nbformat": 4,
 "nbformat_minor": 0
}
