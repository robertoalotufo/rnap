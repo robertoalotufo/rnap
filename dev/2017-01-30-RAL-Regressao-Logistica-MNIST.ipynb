{
 "cells": [
  {
   "cell_type": "markdown",
   "metadata": {},
   "source": [
    "# Getting the data\n",
    "Keras also offers a collection of datasets that can be used to train and test the model. The MNIST set is a part of the available datasets and can be loaded as shown below."
   ]
  },
  {
   "cell_type": "code",
   "execution_count": 7,
   "metadata": {
    "collapsed": false
   },
   "outputs": [],
   "source": [
    "from keras.datasets import mnist \n",
    "# the data, shuffled and split between train and test sets \n",
    "(X_train_orig, y_train), (X_test_orig, y_test) = mnist.load_data()"
   ]
  },
  {
   "cell_type": "markdown",
   "metadata": {},
   "source": [
    "# Reshaping and normalizing the inputs"
   ]
  },
  {
   "cell_type": "code",
   "execution_count": 14,
   "metadata": {
    "collapsed": false
   },
   "outputs": [
    {
     "name": "stdout",
     "output_type": "stream",
     "text": [
      "X_train_orig shape original: (60000, 28, 28)\n",
      "X_train novo shape: (60000, 784)\n"
     ]
    }
   ],
   "source": [
    "nb_classes = 10\n",
    "(M_train,height,width) = X_train_orig.shape  # deve ser 60000 amostras de 28 x 28 pixels\n",
    "input_dim = height * width\n",
    "print 'X_train_orig shape original:', X_train_orig.shape\n",
    "X_train = X_train_orig.reshape(M, input_dim) \n",
    "print 'X_train novo shape:', X_train.shape\n",
    "X_test = X_test_orig.reshape(10000, input_dim) \n",
    "X_train = X_train.astype('float32') \n",
    "X_test = X_test.astype('float32') \n",
    "X_train /= 255 \n",
    "X_test /= 255"
   ]
  },
  {
   "cell_type": "markdown",
   "metadata": {},
   "source": [
    "# Convert class vectors to binary class matrices"
   ]
  },
  {
   "cell_type": "code",
   "execution_count": 17,
   "metadata": {
    "collapsed": false
   },
   "outputs": [
    {
     "name": "stdout",
     "output_type": "stream",
     "text": [
      "[5 0 4 1 9]\n",
      "[[ 0.  0.  0.  0.  0.  1.  0.  0.  0.  0.]\n",
      " [ 1.  0.  0.  0.  0.  0.  0.  0.  0.  0.]\n",
      " [ 0.  0.  0.  0.  1.  0.  0.  0.  0.  0.]\n",
      " [ 0.  1.  0.  0.  0.  0.  0.  0.  0.  0.]\n",
      " [ 0.  0.  0.  0.  0.  0.  0.  0.  0.  1.]]\n"
     ]
    }
   ],
   "source": [
    "from keras.utils import np_utils \n",
    "Y_train = np_utils.to_categorical(y_train, nb_classes) \n",
    "Y_test = np_utils.to_categorical(y_test, nb_classes)\n",
    "print y_train[0:5]\n",
    "print Y_train[0:5]"
   ]
  },
  {
   "cell_type": "markdown",
   "metadata": {},
   "source": [
    "# Build the model"
   ]
  },
  {
   "cell_type": "code",
   "execution_count": 45,
   "metadata": {
    "collapsed": true
   },
   "outputs": [],
   "source": [
    "from keras.models import Sequential \n",
    "from keras.layers import Dense, Activation \n",
    "from keras.optimizers import SGD\n",
    "output_dim = nb_classes = 10 \n",
    "model = Sequential() \n",
    "model.add(Dense(output_dim, input_dim=input_dim, activation='softmax')) \n",
    "batch_size = 128\n",
    "nb_epoch = 20"
   ]
  },
  {
   "cell_type": "markdown",
   "metadata": {},
   "source": [
    "# Compile the model\n",
    "\n",
    "Excelente blog sobre otimização:\n",
    "\n",
    "http://sebastianruder.com/optimizing-gradient-descent/\n"
   ]
  },
  {
   "cell_type": "code",
   "execution_count": 46,
   "metadata": {
    "collapsed": false
   },
   "outputs": [
    {
     "name": "stdout",
     "output_type": "stream",
     "text": [
      "Train on 60000 samples, validate on 10000 samples\n",
      "Epoch 1/20\n",
      "0s - loss: 1.2596 - acc: 0.6993 - val_loss: 0.8063 - val_acc: 0.8346\n",
      "Epoch 2/20\n",
      "0s - loss: 0.7164 - acc: 0.8415 - val_loss: 0.6052 - val_acc: 0.8632\n",
      "Epoch 3/20\n",
      "0s - loss: 0.5880 - acc: 0.8604 - val_loss: 0.5243 - val_acc: 0.8734\n",
      "Epoch 4/20\n",
      "0s - loss: 0.5262 - acc: 0.8697 - val_loss: 0.4786 - val_acc: 0.8829\n",
      "Epoch 5/20\n",
      "0s - loss: 0.4885 - acc: 0.8758 - val_loss: 0.4489 - val_acc: 0.8871\n",
      "Epoch 6/20\n",
      "0s - loss: 0.4626 - acc: 0.8802 - val_loss: 0.4274 - val_acc: 0.8909\n",
      "Epoch 7/20\n",
      "0s - loss: 0.4433 - acc: 0.8834 - val_loss: 0.4115 - val_acc: 0.8935\n",
      "Epoch 8/20\n",
      "0s - loss: 0.4284 - acc: 0.8865 - val_loss: 0.3988 - val_acc: 0.8967\n",
      "Epoch 9/20\n",
      "0s - loss: 0.4163 - acc: 0.8885 - val_loss: 0.3883 - val_acc: 0.8985\n",
      "Epoch 10/20\n",
      "0s - loss: 0.4063 - acc: 0.8910 - val_loss: 0.3798 - val_acc: 0.9002\n",
      "Epoch 11/20\n",
      "0s - loss: 0.3978 - acc: 0.8930 - val_loss: 0.3726 - val_acc: 0.9015\n",
      "Epoch 12/20\n",
      "0s - loss: 0.3905 - acc: 0.8946 - val_loss: 0.3661 - val_acc: 0.9030\n",
      "Epoch 13/20\n",
      "0s - loss: 0.3842 - acc: 0.8958 - val_loss: 0.3606 - val_acc: 0.9044\n",
      "Epoch 14/20\n",
      "0s - loss: 0.3785 - acc: 0.8969 - val_loss: 0.3557 - val_acc: 0.9045\n",
      "Epoch 15/20\n",
      "0s - loss: 0.3735 - acc: 0.8980 - val_loss: 0.3515 - val_acc: 0.9056\n",
      "Epoch 16/20\n",
      "0s - loss: 0.3689 - acc: 0.8991 - val_loss: 0.3474 - val_acc: 0.9061\n",
      "Epoch 17/20\n",
      "0s - loss: 0.3649 - acc: 0.8998 - val_loss: 0.3438 - val_acc: 0.9069\n",
      "Epoch 18/20\n",
      "0s - loss: 0.3611 - acc: 0.9006 - val_loss: 0.3410 - val_acc: 0.9082\n",
      "Epoch 19/20\n",
      "0s - loss: 0.3577 - acc: 0.9014 - val_loss: 0.3375 - val_acc: 0.9088\n",
      "Epoch 20/20\n",
      "0s - loss: 0.3545 - acc: 0.9022 - val_loss: 0.3348 - val_acc: 0.9094\n",
      "('Test score:', 0.33478814765810966)\n",
      "('Test accuracy:', 0.90939999999999999)\n"
     ]
    }
   ],
   "source": [
    "sgd = SGD(lr=0.01, decay=0e-6, momentum=0., nesterov=False)\n",
    "model.compile(optimizer=sgd, loss='categorical_crossentropy', metrics=['accuracy']) \n",
    "history = model.fit(X_train, Y_train, batch_size=batch_size, nb_epoch=nb_epoch,verbose=2, validation_data=(X_test, Y_test)) \n",
    "score = model.evaluate(X_test, Y_test, verbose=0) \n",
    "print('Test score:', score[0]) \n",
    "print('Test accuracy:', score[1])"
   ]
  },
  {
   "cell_type": "code",
   "execution_count": 54,
   "metadata": {
    "collapsed": false
   },
   "outputs": [
    {
     "name": "stdout",
     "output_type": "stream",
     "text": [
      "[[ 0  1  2  3  4]\n",
      " [ 5  6  7  8  9]\n",
      " [10 11 12 13 14]\n",
      " [15 16 17 18 19]\n",
      " [20 21 22 23 24]]\n"
     ]
    },
    {
     "data": {
      "text/plain": [
       "array([50, 55, 60, 65, 70])"
      ]
     },
     "execution_count": 54,
     "metadata": {},
     "output_type": "execute_result"
    }
   ],
   "source": [
    "import numpy as np\n",
    "a = np.arange(25).reshape((5,5))\n",
    "print a\n",
    "a.sum(axis=-2)"
   ]
  }
 ],
 "metadata": {
  "kernelspec": {
   "display_name": "Python [Root]",
   "language": "python",
   "name": "Python [Root]"
  },
  "language_info": {
   "codemirror_mode": {
    "name": "ipython",
    "version": 2
   },
   "file_extension": ".py",
   "mimetype": "text/x-python",
   "name": "python",
   "nbconvert_exporter": "python",
   "pygments_lexer": "ipython2",
   "version": "2.7.12"
  }
 },
 "nbformat": 4,
 "nbformat_minor": 0
}
