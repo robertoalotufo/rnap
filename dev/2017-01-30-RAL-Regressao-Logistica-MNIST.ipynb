{
 "cells": [
  {
   "cell_type": "markdown",
   "metadata": {},
   "source": [
    "# Getting the data\n",
    "Keras also offers a collection of datasets that can be used to train and test the model. The MNIST set is a part of the available datasets and can be loaded as shown below."
   ]
  },
  {
   "cell_type": "code",
   "execution_count": 59,
   "metadata": {
    "collapsed": false
   },
   "outputs": [],
   "source": [
    "import pandas as pd\n",
    "from keras.datasets import mnist \n",
    "# the data, shuffled and split between train and test sets \n",
    "(X_train_orig, y_train), (X_test_orig, y_test) = mnist.load_data()"
   ]
  },
  {
   "cell_type": "markdown",
   "metadata": {},
   "source": [
    "# Reshaping and normalizing the inputs"
   ]
  },
  {
   "cell_type": "code",
   "execution_count": 60,
   "metadata": {
    "collapsed": false
   },
   "outputs": [
    {
     "name": "stdout",
     "output_type": "stream",
     "text": [
      "X_train_orig shape original: (60000, 28, 28)\n",
      "X_train novo shape: (60000, 784)\n"
     ]
    }
   ],
   "source": [
    "nb_classes = 10\n",
    "(M_train,height,width) = X_train_orig.shape  # deve ser 60000 amostras de 28 x 28 pixels\n",
    "input_dim = height * width\n",
    "print 'X_train_orig shape original:', X_train_orig.shape\n",
    "X_train = X_train_orig.reshape(M, input_dim) \n",
    "print 'X_train novo shape:', X_train.shape\n",
    "X_test = X_test_orig.reshape(10000, input_dim) \n",
    "X_train = X_train.astype('float32') \n",
    "X_test = X_test.astype('float32') \n",
    "X_train /= 255 \n",
    "X_test /= 255"
   ]
  },
  {
   "cell_type": "markdown",
   "metadata": {},
   "source": [
    "# Convert class vectors to binary class matrices"
   ]
  },
  {
   "cell_type": "code",
   "execution_count": 61,
   "metadata": {
    "collapsed": false
   },
   "outputs": [
    {
     "name": "stdout",
     "output_type": "stream",
     "text": [
      "[5 0 4 1 9]\n",
      "[[ 0.  0.  0.  0.  0.  1.  0.  0.  0.  0.]\n",
      " [ 1.  0.  0.  0.  0.  0.  0.  0.  0.  0.]\n",
      " [ 0.  0.  0.  0.  1.  0.  0.  0.  0.  0.]\n",
      " [ 0.  1.  0.  0.  0.  0.  0.  0.  0.  0.]\n",
      " [ 0.  0.  0.  0.  0.  0.  0.  0.  0.  1.]]\n"
     ]
    }
   ],
   "source": [
    "from keras.utils import np_utils \n",
    "Y_train = np_utils.to_categorical(y_train, nb_classes) \n",
    "Y_test = np_utils.to_categorical(y_test, nb_classes)\n",
    "print y_train[0:5]\n",
    "print Y_train[0:5]"
   ]
  },
  {
   "cell_type": "markdown",
   "metadata": {},
   "source": [
    "# Build the model"
   ]
  },
  {
   "cell_type": "code",
   "execution_count": 62,
   "metadata": {
    "collapsed": true
   },
   "outputs": [],
   "source": [
    "from keras.models import Sequential \n",
    "from keras.layers import Dense, Activation \n",
    "from keras.optimizers import SGD\n",
    "output_dim = nb_classes = 10 \n",
    "model = Sequential() \n",
    "model.add(Dense(output_dim, input_dim=input_dim, activation='softmax')) \n",
    "batch_size = 128\n",
    "nb_epoch = 20"
   ]
  },
  {
   "cell_type": "markdown",
   "metadata": {},
   "source": [
    "# Compile the model\n",
    "\n",
    "Excelente blog sobre otimização:\n",
    "\n",
    "http://sebastianruder.com/optimizing-gradient-descent/\n"
   ]
  },
  {
   "cell_type": "code",
   "execution_count": 63,
   "metadata": {
    "collapsed": false
   },
   "outputs": [
    {
     "name": "stdout",
     "output_type": "stream",
     "text": [
      "Train on 60000 samples, validate on 10000 samples\n",
      "Epoch 1/20\n",
      "0s - loss: 0.0886 - acc: 0.1779 - val_loss: 0.0871 - val_acc: 0.2294\n",
      "Epoch 2/20\n",
      "0s - loss: 0.0855 - acc: 0.2861 - val_loss: 0.0839 - val_acc: 0.3475\n",
      "Epoch 3/20\n",
      "0s - loss: 0.0823 - acc: 0.3856 - val_loss: 0.0806 - val_acc: 0.4240\n",
      "Epoch 4/20\n",
      "0s - loss: 0.0790 - acc: 0.4469 - val_loss: 0.0772 - val_acc: 0.4712\n",
      "Epoch 5/20\n",
      "0s - loss: 0.0757 - acc: 0.4845 - val_loss: 0.0738 - val_acc: 0.4995\n",
      "Epoch 6/20\n",
      "0s - loss: 0.0724 - acc: 0.5105 - val_loss: 0.0706 - val_acc: 0.5244\n",
      "Epoch 7/20\n",
      "0s - loss: 0.0693 - acc: 0.5353 - val_loss: 0.0675 - val_acc: 0.5490\n",
      "Epoch 8/20\n",
      "0s - loss: 0.0663 - acc: 0.5618 - val_loss: 0.0646 - val_acc: 0.5797\n",
      "Epoch 9/20\n",
      "0s - loss: 0.0635 - acc: 0.5906 - val_loss: 0.0618 - val_acc: 0.6105\n",
      "Epoch 10/20\n",
      "0s - loss: 0.0609 - acc: 0.6199 - val_loss: 0.0593 - val_acc: 0.6387\n",
      "Epoch 11/20\n",
      "0s - loss: 0.0585 - acc: 0.6415 - val_loss: 0.0569 - val_acc: 0.6580\n",
      "Epoch 12/20\n",
      "0s - loss: 0.0563 - acc: 0.6590 - val_loss: 0.0547 - val_acc: 0.6712\n",
      "Epoch 13/20\n",
      "0s - loss: 0.0543 - acc: 0.6714 - val_loss: 0.0527 - val_acc: 0.6837\n",
      "Epoch 14/20\n",
      "0s - loss: 0.0524 - acc: 0.6813 - val_loss: 0.0509 - val_acc: 0.6939\n",
      "Epoch 15/20\n",
      "0s - loss: 0.0508 - acc: 0.6913 - val_loss: 0.0493 - val_acc: 0.7043\n",
      "Epoch 16/20\n",
      "0s - loss: 0.0492 - acc: 0.7024 - val_loss: 0.0477 - val_acc: 0.7176\n",
      "Epoch 17/20\n",
      "0s - loss: 0.0478 - acc: 0.7140 - val_loss: 0.0463 - val_acc: 0.7317\n",
      "Epoch 18/20\n",
      "0s - loss: 0.0465 - acc: 0.7249 - val_loss: 0.0450 - val_acc: 0.7435\n",
      "Epoch 19/20\n",
      "0s - loss: 0.0453 - acc: 0.7357 - val_loss: 0.0438 - val_acc: 0.7545\n",
      "Epoch 20/20\n",
      "0s - loss: 0.0441 - acc: 0.7443 - val_loss: 0.0427 - val_acc: 0.7623\n",
      "('Test score:', 0.042696110141277312)\n",
      "('Test accuracy:', 0.76229999999999998)\n"
     ]
    }
   ],
   "source": [
    "sgd = SGD(lr=0.01, decay=0e-6, momentum=0., nesterov=False)\n",
    "model.compile(optimizer=sgd, loss='MSE', metrics=['accuracy']) \n",
    "#model.compile(optimizer=sgd, loss='categorical_crossentropy', metrics=['accuracy']) \n",
    "history = model.fit(X_train, Y_train, batch_size=batch_size, nb_epoch=nb_epoch,verbose=2, validation_data=(X_test, Y_test)) \n",
    "score = model.evaluate(X_test, Y_test, verbose=0) \n",
    "print('Test score:', score[0]) \n",
    "print('Test accuracy:', score[1])"
   ]
  },
  {
   "cell_type": "code",
   "execution_count": 70,
   "metadata": {
    "collapsed": false
   },
   "outputs": [
    {
     "name": "stdout",
     "output_type": "stream",
     "text": [
      " 9824/10000 [============================>.] - ETA: 0s(10000,)\n",
      "[7 2 1 0 4]\n",
      "(10000,)\n"
     ]
    },
    {
     "data": {
      "text/html": [
       "<div>\n",
       "<table border=\"1\" class=\"dataframe\">\n",
       "  <thead>\n",
       "    <tr style=\"text-align: right;\">\n",
       "      <th>col_0</th>\n",
       "      <th>0</th>\n",
       "      <th>1</th>\n",
       "      <th>2</th>\n",
       "      <th>3</th>\n",
       "      <th>4</th>\n",
       "      <th>5</th>\n",
       "      <th>6</th>\n",
       "      <th>7</th>\n",
       "      <th>8</th>\n",
       "      <th>9</th>\n",
       "    </tr>\n",
       "    <tr>\n",
       "      <th>row_0</th>\n",
       "      <th></th>\n",
       "      <th></th>\n",
       "      <th></th>\n",
       "      <th></th>\n",
       "      <th></th>\n",
       "      <th></th>\n",
       "      <th></th>\n",
       "      <th></th>\n",
       "      <th></th>\n",
       "      <th></th>\n",
       "    </tr>\n",
       "  </thead>\n",
       "  <tbody>\n",
       "    <tr>\n",
       "      <th>0</th>\n",
       "      <td>917</td>\n",
       "      <td>0</td>\n",
       "      <td>20</td>\n",
       "      <td>8</td>\n",
       "      <td>4</td>\n",
       "      <td>119</td>\n",
       "      <td>24</td>\n",
       "      <td>11</td>\n",
       "      <td>11</td>\n",
       "      <td>22</td>\n",
       "    </tr>\n",
       "    <tr>\n",
       "      <th>1</th>\n",
       "      <td>0</td>\n",
       "      <td>1091</td>\n",
       "      <td>40</td>\n",
       "      <td>6</td>\n",
       "      <td>18</td>\n",
       "      <td>44</td>\n",
       "      <td>12</td>\n",
       "      <td>49</td>\n",
       "      <td>43</td>\n",
       "      <td>20</td>\n",
       "    </tr>\n",
       "    <tr>\n",
       "      <th>2</th>\n",
       "      <td>8</td>\n",
       "      <td>8</td>\n",
       "      <td>835</td>\n",
       "      <td>32</td>\n",
       "      <td>5</td>\n",
       "      <td>16</td>\n",
       "      <td>17</td>\n",
       "      <td>33</td>\n",
       "      <td>26</td>\n",
       "      <td>12</td>\n",
       "    </tr>\n",
       "    <tr>\n",
       "      <th>3</th>\n",
       "      <td>2</td>\n",
       "      <td>3</td>\n",
       "      <td>24</td>\n",
       "      <td>877</td>\n",
       "      <td>2</td>\n",
       "      <td>271</td>\n",
       "      <td>1</td>\n",
       "      <td>1</td>\n",
       "      <td>107</td>\n",
       "      <td>17</td>\n",
       "    </tr>\n",
       "    <tr>\n",
       "      <th>4</th>\n",
       "      <td>1</td>\n",
       "      <td>0</td>\n",
       "      <td>11</td>\n",
       "      <td>2</td>\n",
       "      <td>837</td>\n",
       "      <td>32</td>\n",
       "      <td>9</td>\n",
       "      <td>14</td>\n",
       "      <td>5</td>\n",
       "      <td>189</td>\n",
       "    </tr>\n",
       "    <tr>\n",
       "      <th>5</th>\n",
       "      <td>0</td>\n",
       "      <td>0</td>\n",
       "      <td>0</td>\n",
       "      <td>0</td>\n",
       "      <td>0</td>\n",
       "      <td>10</td>\n",
       "      <td>0</td>\n",
       "      <td>0</td>\n",
       "      <td>0</td>\n",
       "      <td>0</td>\n",
       "    </tr>\n",
       "    <tr>\n",
       "      <th>6</th>\n",
       "      <td>30</td>\n",
       "      <td>6</td>\n",
       "      <td>36</td>\n",
       "      <td>11</td>\n",
       "      <td>44</td>\n",
       "      <td>59</td>\n",
       "      <td>887</td>\n",
       "      <td>6</td>\n",
       "      <td>29</td>\n",
       "      <td>4</td>\n",
       "    </tr>\n",
       "    <tr>\n",
       "      <th>7</th>\n",
       "      <td>4</td>\n",
       "      <td>1</td>\n",
       "      <td>22</td>\n",
       "      <td>21</td>\n",
       "      <td>3</td>\n",
       "      <td>60</td>\n",
       "      <td>1</td>\n",
       "      <td>883</td>\n",
       "      <td>16</td>\n",
       "      <td>117</td>\n",
       "    </tr>\n",
       "    <tr>\n",
       "      <th>8</th>\n",
       "      <td>15</td>\n",
       "      <td>26</td>\n",
       "      <td>33</td>\n",
       "      <td>34</td>\n",
       "      <td>21</td>\n",
       "      <td>165</td>\n",
       "      <td>7</td>\n",
       "      <td>11</td>\n",
       "      <td>688</td>\n",
       "      <td>30</td>\n",
       "    </tr>\n",
       "    <tr>\n",
       "      <th>9</th>\n",
       "      <td>3</td>\n",
       "      <td>0</td>\n",
       "      <td>11</td>\n",
       "      <td>19</td>\n",
       "      <td>48</td>\n",
       "      <td>116</td>\n",
       "      <td>0</td>\n",
       "      <td>20</td>\n",
       "      <td>49</td>\n",
       "      <td>598</td>\n",
       "    </tr>\n",
       "  </tbody>\n",
       "</table>\n",
       "</div>"
      ],
      "text/plain": [
       "col_0    0     1    2    3    4    5    6    7    8    9\n",
       "row_0                                                   \n",
       "0      917     0   20    8    4  119   24   11   11   22\n",
       "1        0  1091   40    6   18   44   12   49   43   20\n",
       "2        8     8  835   32    5   16   17   33   26   12\n",
       "3        2     3   24  877    2  271    1    1  107   17\n",
       "4        1     0   11    2  837   32    9   14    5  189\n",
       "5        0     0    0    0    0   10    0    0    0    0\n",
       "6       30     6   36   11   44   59  887    6   29    4\n",
       "7        4     1   22   21    3   60    1  883   16  117\n",
       "8       15    26   33   34   21  165    7   11  688   30\n",
       "9        3     0   11   19   48  116    0   20   49  598"
      ]
     },
     "execution_count": 70,
     "metadata": {},
     "output_type": "execute_result"
    }
   ],
   "source": [
    "y_hat = model.predict_classes(X_test)\n",
    "print y_hat.shape\n",
    "print y_hat[:5]\n",
    "print y_test.shape\n",
    "pd.crosstab(y_hat, y_test)"
   ]
  },
  {
   "cell_type": "code",
   "execution_count": null,
   "metadata": {
    "collapsed": true
   },
   "outputs": [],
   "source": []
  }
 ],
 "metadata": {
  "kernelspec": {
   "display_name": "Python [Root]",
   "language": "python",
   "name": "Python [Root]"
  },
  "language_info": {
   "codemirror_mode": {
    "name": "ipython",
    "version": 2
   },
   "file_extension": ".py",
   "mimetype": "text/x-python",
   "name": "python",
   "nbconvert_exporter": "python",
   "pygments_lexer": "ipython2",
   "version": "2.7.12"
  }
 },
 "nbformat": 4,
 "nbformat_minor": 0
}
