{
 "cells": [
  {
   "cell_type": "markdown",
   "metadata": {},
   "source": [
    "# Getting the data\n",
    "Keras also offers a collection of datasets that can be used to train and test the model. The MNIST set is a part of the available datasets and can be loaded as shown below."
   ]
  },
  {
   "cell_type": "code",
   "execution_count": 7,
   "metadata": {
    "collapsed": false
   },
   "outputs": [],
   "source": [
    "from keras.datasets import mnist \n",
    "# the data, shuffled and split between train and test sets \n",
    "(X_train_orig, y_train), (X_test_orig, y_test) = mnist.load_data()"
   ]
  },
  {
   "cell_type": "markdown",
   "metadata": {},
   "source": [
    "# Reshaping and normalizing the inputs"
   ]
  },
  {
   "cell_type": "code",
   "execution_count": 14,
   "metadata": {
    "collapsed": false
   },
   "outputs": [
    {
     "name": "stdout",
     "output_type": "stream",
     "text": [
      "X_train_orig shape original: (60000, 28, 28)\n",
      "X_train novo shape: (60000, 784)\n"
     ]
    }
   ],
   "source": [
    "nb_classes = 10\n",
    "(M_train,height,width) = X_train_orig.shape  # deve ser 60000 amostras de 28 x 28 pixels\n",
    "input_dim = height * width\n",
    "print 'X_train_orig shape original:', X_train_orig.shape\n",
    "X_train = X_train_orig.reshape(M, input_dim) \n",
    "print 'X_train novo shape:', X_train.shape\n",
    "X_test = X_test_orig.reshape(10000, input_dim) \n",
    "X_train = X_train.astype('float32') \n",
    "X_test = X_test.astype('float32') \n",
    "X_train /= 255 \n",
    "X_test /= 255"
   ]
  },
  {
   "cell_type": "markdown",
   "metadata": {},
   "source": [
    "# Convert class vectors to binary class matrices"
   ]
  },
  {
   "cell_type": "code",
   "execution_count": 17,
   "metadata": {
    "collapsed": false
   },
   "outputs": [
    {
     "name": "stdout",
     "output_type": "stream",
     "text": [
      "[5 0 4 1 9]\n",
      "[[ 0.  0.  0.  0.  0.  1.  0.  0.  0.  0.]\n",
      " [ 1.  0.  0.  0.  0.  0.  0.  0.  0.  0.]\n",
      " [ 0.  0.  0.  0.  1.  0.  0.  0.  0.  0.]\n",
      " [ 0.  1.  0.  0.  0.  0.  0.  0.  0.  0.]\n",
      " [ 0.  0.  0.  0.  0.  0.  0.  0.  0.  1.]]\n"
     ]
    }
   ],
   "source": [
    "from keras.utils import np_utils \n",
    "Y_train = np_utils.to_categorical(y_train, nb_classes) \n",
    "Y_test = np_utils.to_categorical(y_test, nb_classes)\n",
    "print y_train[0:5]\n",
    "print Y_train[0:5]"
   ]
  },
  {
   "cell_type": "markdown",
   "metadata": {},
   "source": [
    "# Build the model"
   ]
  },
  {
   "cell_type": "code",
   "execution_count": 45,
   "metadata": {
    "collapsed": true
   },
   "outputs": [],
   "source": [
    "from keras.models import Sequential \n",
    "from keras.layers import Dense, Activation \n",
    "from keras.optimizers import SGD\n",
    "output_dim = nb_classes = 10 \n",
    "model = Sequential() \n",
    "model.add(Dense(output_dim, input_dim=input_dim, activation='softmax')) \n",
    "batch_size = 128\n",
    "nb_epoch = 20"
   ]
  },
  {
   "cell_type": "markdown",
   "metadata": {},
   "source": [
    "# Compile the model\n",
    "\n",
    "Excelente blog sobre otimização:\n",
    "\n",
    "http://sebastianruder.com/optimizing-gradient-descent/\n"
   ]
  },
  {
   "cell_type": "code",
   "execution_count": 58,
   "metadata": {
    "collapsed": false
   },
   "outputs": [
    {
     "name": "stdout",
     "output_type": "stream",
     "text": [
      "Train on 60000 samples, validate on 10000 samples\n",
      "Epoch 1/20\n",
      "0s - loss: 0.0137 - acc: 0.9116 - val_loss: 0.0131 - val_acc: 0.9166\n",
      "Epoch 2/20\n",
      "0s - loss: 0.0137 - acc: 0.9118 - val_loss: 0.0130 - val_acc: 0.9172\n",
      "Epoch 3/20\n",
      "0s - loss: 0.0137 - acc: 0.9116 - val_loss: 0.0130 - val_acc: 0.9175\n",
      "Epoch 4/20\n",
      "0s - loss: 0.0137 - acc: 0.9117 - val_loss: 0.0130 - val_acc: 0.9172\n",
      "Epoch 5/20\n",
      "0s - loss: 0.0137 - acc: 0.9119 - val_loss: 0.0130 - val_acc: 0.9174\n",
      "Epoch 6/20\n",
      "0s - loss: 0.0137 - acc: 0.9119 - val_loss: 0.0130 - val_acc: 0.9173\n",
      "Epoch 7/20\n",
      "0s - loss: 0.0136 - acc: 0.9120 - val_loss: 0.0130 - val_acc: 0.9173\n",
      "Epoch 8/20\n",
      "0s - loss: 0.0136 - acc: 0.9121 - val_loss: 0.0130 - val_acc: 0.9173\n",
      "Epoch 9/20\n",
      "0s - loss: 0.0136 - acc: 0.9121 - val_loss: 0.0130 - val_acc: 0.9175\n",
      "Epoch 10/20\n",
      "0s - loss: 0.0136 - acc: 0.9122 - val_loss: 0.0130 - val_acc: 0.9174\n",
      "Epoch 11/20\n",
      "0s - loss: 0.0136 - acc: 0.9122 - val_loss: 0.0130 - val_acc: 0.9176\n",
      "Epoch 12/20\n",
      "0s - loss: 0.0136 - acc: 0.9123 - val_loss: 0.0130 - val_acc: 0.9177\n",
      "Epoch 13/20\n",
      "0s - loss: 0.0136 - acc: 0.9125 - val_loss: 0.0130 - val_acc: 0.9177\n",
      "Epoch 14/20\n",
      "0s - loss: 0.0136 - acc: 0.9126 - val_loss: 0.0130 - val_acc: 0.9177\n",
      "Epoch 15/20\n",
      "0s - loss: 0.0136 - acc: 0.9128 - val_loss: 0.0130 - val_acc: 0.9177\n",
      "Epoch 16/20\n",
      "0s - loss: 0.0136 - acc: 0.9127 - val_loss: 0.0130 - val_acc: 0.9176\n",
      "Epoch 17/20\n",
      "0s - loss: 0.0136 - acc: 0.9128 - val_loss: 0.0130 - val_acc: 0.9177\n",
      "Epoch 18/20\n",
      "0s - loss: 0.0136 - acc: 0.9129 - val_loss: 0.0130 - val_acc: 0.9178\n",
      "Epoch 19/20\n",
      "0s - loss: 0.0136 - acc: 0.9129 - val_loss: 0.0130 - val_acc: 0.9178\n",
      "Epoch 20/20\n",
      "0s - loss: 0.0136 - acc: 0.9130 - val_loss: 0.0130 - val_acc: 0.9180\n",
      "('Test score:', 0.012963609598577022)\n",
      "('Test accuracy:', 0.91800000000000004)\n"
     ]
    }
   ],
   "source": [
    "sgd = SGD(lr=0.01, decay=0e-6, momentum=0., nesterov=False)\n",
    "model.compile(optimizer=sgd, loss='MSE', metrics=['accuracy']) \n",
    "#model.compile(optimizer=sgd, loss='categorical_crossentropy', metrics=['accuracy']) \n",
    "history = model.fit(X_train, Y_train, batch_size=batch_size, nb_epoch=nb_epoch,verbose=2, validation_data=(X_test, Y_test)) \n",
    "score = model.evaluate(X_test, Y_test, verbose=0) \n",
    "print('Test score:', score[0]) \n",
    "print('Test accuracy:', score[1])"
   ]
  }
 ],
 "metadata": {
  "kernelspec": {
   "display_name": "Python [Root]",
   "language": "python",
   "name": "Python [Root]"
  },
  "language_info": {
   "codemirror_mode": {
    "name": "ipython",
    "version": 2
   },
   "file_extension": ".py",
   "mimetype": "text/x-python",
   "name": "python",
   "nbconvert_exporter": "python",
   "pygments_lexer": "ipython2",
   "version": "2.7.12"
  }
 },
 "nbformat": 4,
 "nbformat_minor": 0
}
