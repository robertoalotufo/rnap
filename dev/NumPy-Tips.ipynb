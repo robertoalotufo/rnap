{
 "cells": [
  {
   "cell_type": "markdown",
   "metadata": {},
   "source": [
    "# Truques do NumPy\n",
    "\n",
    "Entender o funcionamneto do *broadcasting*,  *reshape* e do *axis* do NumPy é muito importante. Nesse tutorial iremos ilustrar esses conceitos através de exemplos. \n",
    " "
   ]
  },
  {
   "cell_type": "markdown",
   "metadata": {},
   "source": [
    "## Reshape"
   ]
  },
  {
   "cell_type": "code",
   "execution_count": 2,
   "metadata": {
    "collapsed": false
   },
   "outputs": [
    {
     "name": "stdout",
     "output_type": "stream",
     "text": [
      "a:\n",
      "[0 1 2 3 4 5 6 7 8 9]\n",
      "A eh um array unidimensional: (10,)\n"
     ]
    }
   ],
   "source": [
    "import numpy as np\n",
    "\n",
    "a = np.arange(10)\n",
    "print \"a:\"\n",
    "print a\n",
    "print \"A eh um array unidimensional:\", a.shape"
   ]
  },
  {
   "cell_type": "markdown",
   "metadata": {},
   "source": [
    "Podemos utilizar o reshape para \"enxergar\" o array *a* como um array bidimensional com uma linha:"
   ]
  },
  {
   "cell_type": "code",
   "execution_count": 3,
   "metadata": {
    "collapsed": false
   },
   "outputs": [
    {
     "name": "stdout",
     "output_type": "stream",
     "text": [
      "a:\n",
      "[[0 1 2 3 4 5 6 7 8 9]]\n",
      "A eh um array bidimensional linha: (1, 10)\n"
     ]
    }
   ],
   "source": [
    "a = a.reshape(1,-1) # O -1 é uma diretiva para que o NumPy calcule automaticamente as dimensões que faltam\n",
    "print \"a:\"\n",
    "print a\n",
    "print \"A eh um array bidimensional linha:\", a.shape"
   ]
  },
  {
   "cell_type": "markdown",
   "metadata": {},
   "source": [
    "Podemos enxergar o array *a* como um array com uma coluna:"
   ]
  },
  {
   "cell_type": "code",
   "execution_count": 4,
   "metadata": {
    "collapsed": false
   },
   "outputs": [
    {
     "name": "stdout",
     "output_type": "stream",
     "text": [
      "a:\n",
      "[[0]\n",
      " [1]\n",
      " [2]\n",
      " [3]\n",
      " [4]\n",
      " [5]\n",
      " [6]\n",
      " [7]\n",
      " [8]\n",
      " [9]]\n",
      "A eh um array bidimensional coluna: (10, 1)\n"
     ]
    }
   ],
   "source": [
    "a = a.reshape(-1,1) \n",
    "print \"a:\"\n",
    "print a\n",
    "print \"A eh um array bidimensional coluna:\", a.shape"
   ]
  },
  {
   "cell_type": "markdown",
   "metadata": {},
   "source": [
    "Ou então como um array bidimensional, desde que o número de elementos do array não exceda o número de elementos do array inicial."
   ]
  },
  {
   "cell_type": "code",
   "execution_count": 5,
   "metadata": {
    "collapsed": false
   },
   "outputs": [
    {
     "name": "stdout",
     "output_type": "stream",
     "text": [
      "a:\n",
      "[[0 1]\n",
      " [2 3]\n",
      " [4 5]\n",
      " [6 7]\n",
      " [8 9]]\n",
      "A eh um array bidimensional: (5, 2)\n"
     ]
    }
   ],
   "source": [
    "a = a.reshape(5,2) \n",
    "print \"a:\"\n",
    "print a\n",
    "print \"A eh um array bidimensional:\", a.shape"
   ]
  },
  {
   "cell_type": "markdown",
   "metadata": {},
   "source": [
    "Quando se usa o Theano como backend no Keras, o formato de tamanho de entrada dos dados é da forma (profundidade, comprimento, largura). Assim, é necessário que a profundiade seja explicitamente declarada, mesmo que a imagem esteja em tons de cinza, ou seja profundidade igual a 1. Logo, uma dimensão pode ser adicionada ao array sem que seu conteúdo seja alterado usando o reshape. Veja o exemplo:"
   ]
  },
  {
   "cell_type": "code",
   "execution_count": 36,
   "metadata": {
    "collapsed": false
   },
   "outputs": [
    {
     "name": "stdout",
     "output_type": "stream",
     "text": [
      "Array [[0 1 2 3 4]\n",
      " [5 6 7 8 9]]\n",
      "Tamanho original:  (2, 5)\n",
      "Array [[[0 1 2 3 4]\n",
      "  [5 6 7 8 9]]]\n",
      "Tamanho modificado (uma dimensão a mais):  (1, 2, 5)\n"
     ]
    }
   ],
   "source": [
    "a = np.arange(10).reshape(2,5)\n",
    "print \"Array\",a\n",
    "print \"Tamanho original: \", a.shape\n",
    "\n",
    "a = a.reshape(1,2,5)\n",
    "\n",
    "print \"Array\",a\n",
    "print \"Tamanho modificado (uma dimensão a mais): \", a.shape\n"
   ]
  },
  {
   "cell_type": "markdown",
   "metadata": {},
   "source": [
    "## Broadcasting\n",
    "O broadcasting é uma técnica que permnite a propagação dos valores de um eixo para o outro. Veja o exemplo a seguir onde queremos calcular a potência de todos os elementos do vetor *base* pelos elementos do vetor *exp* e guardar os resultados num array 2D."
   ]
  },
  {
   "cell_type": "code",
   "execution_count": 9,
   "metadata": {
    "collapsed": false
   },
   "outputs": [
    {
     "name": "stdout",
     "output_type": "stream",
     "text": [
      "Expoentes:\n",
      "[[0 1 2 3 4 5]]\n",
      "Tamanho dos expoentes (1, 6)\n",
      "Base:\n",
      "[[1]\n",
      " [2]\n",
      " [3]]\n",
      "Tamanho da base (3, 1)\n",
      "Potência:\n",
      "[[  1   1   1   1   1   1]\n",
      " [  1   2   4   8  16  32]\n",
      " [  1   3   9  27  81 243]]\n"
     ]
    }
   ],
   "source": [
    "exp = np.array([[0,1,2,3,4,5]])\n",
    "base = np.arange(1,4).reshape(-1,1)\n",
    "\n",
    "print \"Expoentes:\"\n",
    "print exp\n",
    "print \"Tamanho dos expoentes\", exp.shape\n",
    "print \"Base:\"\n",
    "print base\n",
    "print \"Tamanho da base\", base.shape\n",
    "\n",
    "print \"Potência:\"\n",
    "print base**exp"
   ]
  },
  {
   "cell_type": "markdown",
   "metadata": {},
   "source": [
    "## Axis\n",
    "Em algumas situações queremos fazer cálculo ou calcular estatísticas ao longo de um eixo. Um array unidimensional possui apenas um eixo (eixo 0), um array bidimensional possui dois eixos (eixos 0 e 1) e assim por diante. Todas as funções do NumPy possuem o parâmetro axis que indica se a operação feita para a função será aplicada ao longo de um eixo. Vejo o exemplo da média abaixo:\n"
   ]
  },
  {
   "cell_type": "code",
   "execution_count": 10,
   "metadata": {
    "collapsed": false
   },
   "outputs": [
    {
     "name": "stdout",
     "output_type": "stream",
     "text": [
      "Array ab:\n",
      "[[  1.   2.   3.   4.   5.   6.   7.   8.   9.  10.]\n",
      " [  1.   2.   3.   4.   5.   6.   7.   8.   9.  10.]\n",
      " [  1.   2.   3.   4.   5.   6.   7.   8.   9.  10.]\n",
      " [  1.   2.   3.   4.   5.   6.   7.   8.   9.  10.]\n",
      " [  1.   2.   3.   4.   5.   6.   7.   8.   9.  10.]\n",
      " [  1.   2.   3.   4.   5.   6.   7.   8.   9.  10.]\n",
      " [  1.   2.   3.   4.   5.   6.   7.   8.   9.  10.]\n",
      " [  1.   2.   3.   4.   5.   6.   7.   8.   9.  10.]\n",
      " [  1.   2.   3.   4.   5.   6.   7.   8.   9.  10.]\n",
      " [  1.   2.   3.   4.   5.   6.   7.   8.   9.  10.]]\n",
      "Média do array ab:\n",
      "5.5\n",
      "Médias do array ab ao longo das colunas (eixo 1):\n",
      "[ 5.5  5.5  5.5  5.5  5.5  5.5  5.5  5.5  5.5  5.5]\n",
      "Médias do array ab ao longo das linhas (eixo 0):\n",
      "[  1.   2.   3.   4.   5.   6.   7.   8.   9.  10.]\n"
     ]
    }
   ],
   "source": [
    "a = np.arange(10).reshape(1,-1)\n",
    "b = np.ones(10).reshape(-1,1)\n",
    "ab = a + b\n",
    "print \"Array ab:\"\n",
    "print ab\n",
    "print \"Média do array ab:\"\n",
    "print ab.mean()\n",
    "print \"Médias do array ab ao longo das colunas (eixo 1):\"\n",
    "print ab.mean(axis = 1)\n",
    "print \"Médias do array ab ao longo das linhas (eixo 0):\"\n",
    "print ab.mean(axis = 0)"
   ]
  },
  {
   "cell_type": "markdown",
   "metadata": {},
   "source": [
    "##  Fatiamento (Slicing)"
   ]
  },
  {
   "cell_type": "markdown",
   "metadata": {},
   "source": [
    "Um recurso importante do numpy é o fatiamento no qual é possível acessar um subconjunto do array de diversas formas. O fatiamento define os índices os quais o array será acessado definindo o ponto inicial, final e o passo entre eles, nesta ordem: [inicial:final:passo].  Todos os 3 parâmetros podem ser opcionais que ocorrem\n",
    "quando o valor inicial é 0, o valor final é o tamanho do array e o passo é 1. Lembrar que a ordem deles \n",
    "é: [inicial:final:passo]. Se o passo for 1 fica: [inicial:final]. Se o início for 0 fica: [:final] e se\n",
    "o final for o último fica: [inicio:] e se forem todos [:]. Veja alguns exemplos de fatiamento:"
   ]
  },
  {
   "cell_type": "code",
   "execution_count": 38,
   "metadata": {
    "collapsed": false
   },
   "outputs": [
    {
     "name": "stdout",
     "output_type": "stream",
     "text": [
      " Array: [0 1 2 3 4 5 6 7 8 9]\n",
      "Elementos apartir do índice 2 até o índice menor que o o índice 4 do array: [2 3]\n",
      "Elementos apartir do índice 2 até o último índice do array: [2 3 4 5 6 7 8 9]\n",
      "Elementos até o índice menor que o índice 2 do array: [0 1]\n",
      "Todos os elementos do array: [0 1 2 3 4 5 6 7 8 9]\n",
      "Elementos do array com passo de 2 [0 2 4 6 8]\n",
      "Elementos do array apartir do índice 1 ao 5 com passo de 2 [1 3 5]\n"
     ]
    }
   ],
   "source": [
    "a = np.arange(10) \n",
    "\n",
    "print \"Array:\", a         \n",
    "print \"Elementos apartir do índice 2 até o índice menor que o o índice 4 do array:\", a[2:4]\n",
    "print \"Elementos apartir do índice 2 até o último índice do array:\", a[2:]\n",
    "print \"Elementos até o índice menor que o índice 2 do array:\", a[:2]\n",
    "print \"Todos os elementos do array:\", a[:]\n",
    "print \"Elementos do array com passo de 2\", a[::2]\n",
    "print \"Elementos do array apartir do índice 1 ao 5 com passo de 2\", a[1:6:2]"
   ]
  },
  {
   "cell_type": "markdown",
   "metadata": {},
   "source": [
    "Podemos acessar o array por meio de índices negativos. "
   ]
  },
  {
   "cell_type": "code",
   "execution_count": 39,
   "metadata": {
    "collapsed": false
   },
   "outputs": [
    {
     "name": "stdout",
     "output_type": "stream",
     "text": [
      "Último elemento do array 9\n",
      "Penúltimo elemento do array 8\n",
      "Elementos do array até o anti-penúltimo índice do array [0 1 2 3 4 5 6 7]\n",
      "Inversão do array [9 8 7 6 5 4 3 2 1 0]\n",
      "Elementos do array apartir do índice -1 ao -5 com passo de com array invertido [9 8 7 6 5]\n",
      "Elementos do array apartir do índice -1 ao 5 com passo de com array invertido [9 8 7]\n"
     ]
    }
   ],
   "source": [
    "print \"Último elemento do array\", a[-1]\n",
    "print \"Penúltimo elemento do array\", a[-2]\n",
    "print \"Elementos do array até o anti-penúltimo índice do array\", a[:-2]\n",
    "print \"Inversão do array\", a[::-1]\n",
    "print \"Elementos do array apartir do índice -1 ao -5 com passo de com array invertido\", a[-1:-6:-1]\n",
    "print \"Elementos do array apartir do índice -1 ao 5 com passo de com array invertido\", a[-1:6:-1]\n"
   ]
  },
  {
   "cell_type": "markdown",
   "metadata": {},
   "source": [
    "O mesmo procedimento pode ser feito para earray bidimensionais."
   ]
  },
  {
   "cell_type": "code",
   "execution_count": 49,
   "metadata": {
    "collapsed": false
   },
   "outputs": [
    {
     "name": "stdout",
     "output_type": "stream",
     "text": [
      "Array: [[0 1 2 3 4]\n",
      " [5 6 7 8 9]]\n",
      "Elementos da linha de índice 0 e das colunas de índice 0 e 1 [[0 1]]\n",
      "Elementos da linha de índice 0 [0 1 2 3 4]\n",
      "Elementos da coluna de índice 0 [0 5]\n",
      "Elementos das colunas de índice 0 a 1 [[0 1]\n",
      " [5 6]]\n",
      "Elementos da última coluna [4 9]\n",
      "Elementos das coluna de ímdice 1 a 4 com passo 2 [[1 3]\n",
      " [6 8]]\n",
      "Elementos das coluna de ímdice -1 a -4 com array invertido [[4 3 2 1 0]\n",
      " [9 8 7 6 5]]\n"
     ]
    }
   ],
   "source": [
    "a = np.arange(10).reshape(2,5)\n",
    "\n",
    "print \"Array:\", a\n",
    "print \"Elementos da linha de índice 0 e das colunas de índice 0 e 1\",  a[:1,:2]\n",
    "print \"Elementos da linha de índice 0\",  a[0,:]\n",
    "print \"Elementos da coluna de índice 0\",  a[:,0]\n",
    "print \"Elementos das colunas de índice 0 a 1\",  a[:,:2]\n",
    "print \"Elementos da última coluna\",  a[:,-1]\n",
    "print \"Elementos das coluna de ímdice 1 a 4 com passo 2\",  a[:,1:5:2]\n",
    "print \"Elementos das coluna de ímdice -1 a -4 com array invertido\",  a[:,-1:-15:-1]\n",
    "\n"
   ]
  },
  {
   "cell_type": "code",
   "execution_count": null,
   "metadata": {
    "collapsed": true
   },
   "outputs": [],
   "source": []
  }
 ],
 "metadata": {
  "kernelspec": {
   "display_name": "Python 2",
   "language": "python",
   "name": "python2"
  },
  "language_info": {
   "codemirror_mode": {
    "name": "ipython",
    "version": 2
   },
   "file_extension": ".py",
   "mimetype": "text/x-python",
   "name": "python",
   "nbconvert_exporter": "python",
   "pygments_lexer": "ipython2",
   "version": "2.7.6"
  }
 },
 "nbformat": 4,
 "nbformat_minor": 0
}
