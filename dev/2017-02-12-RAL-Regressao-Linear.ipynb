{
 "cells": [
  {
   "cell_type": "code",
   "execution_count": 1,
   "metadata": {
    "collapsed": false
   },
   "outputs": [],
   "source": [
    "%matplotlib inline\n",
    "import matplotlib.pyplot as plt\n",
    "import numpy as np\n",
    "from sklearn import datasets"
   ]
  },
  {
   "cell_type": "markdown",
   "metadata": {},
   "source": [
    "O problema de ajuste de uma reta a um conjunto de pontos para verificar se existe uma previsão linear é um problema muito antigo, muito estudado e muito presente nos dias de hoje. Quando o ajuste é abordado como um problema de otimização numétrica, ele é a base de boa parte dos conceitos sobre redes neurais e iremos explorá-lo aqui como uma forma de introdução às redes neurais.\n",
    "\n",
    "## Conjunto de dados: Flôres Íris\n",
    "\n",
    "Iremos utilizar duas propriedades do conjunto de dados das flores Íris: o comprimento das sépalas e o comprimento da pétalas. A ideia será prever o comprimento da pétala, conhecendo-se o comprimento da sépala. Estamos trabalhando com apenas uma propriedade, ou característica ou *feature* do objeto. Temos ao todo 50 amostras de uma das variedades.\n",
    "\n",
    "## Dados: leitura e visualização"
   ]
  },
  {
   "cell_type": "code",
   "execution_count": 77,
   "metadata": {
    "collapsed": false
   },
   "outputs": [
    {
     "data": {
      "image/png": "[encoded data removed]",
      "text/plain": [
       "<matplotlib.figure.Figure at 0x7f1ba65bbc90>"
      ]
     },
     "metadata": {},
     "output_type": "display_data"
    }
   ],
   "source": [
    "from sklearn import datasets\n",
    "\n",
    "iris = datasets.load_iris()\n",
    "data = iris.data[iris.target==1,::2]  # comprimento das sépalas e pétalas, indices 0 e 2\n",
    "X = data[:,0]\n",
    "Y = data[:,1]\n",
    "X /= X.max()    # Importante ver o efeito da normalização\n",
    "Y /= Y.max()\n",
    "#Y = 2*X        # útil para verificar se o programa está funcionando\n",
    "\n",
    "plt.figure(1, figsize=(4, 3))\n",
    "plt.scatter(X, Y, c='r')\n",
    "plt.xlabel('Comprimento sepalas')\n",
    "plt.ylabel('Comprimento petalas')\n",
    "plt.show()"
   ]
  },
  {
   "cell_type": "markdown",
   "metadata": {},
   "source": [
    "## Reta de ajuste\n",
    "\n",
    "A reta de ajuste será dada por:\n",
    "\n",
    "$$ y = w_0 + w_1 x $$\n",
    "\n",
    "onde $w_1$ é o coeficiente angular da reta e $w_0$ é a interseção do eixo vertical quando x é igual a zero, também denominado de *bias*. $x$ é a variável de entrada (comprimento das sépalas) e $y$ é a predição (comprimento das pétalas).\n",
    "\n",
    "### Programação Matricial\n",
    "\n",
    "Como iremos trabalhar com várias amostras, dezenas, centenas, milhares, centenas de milhares, é mais eficiente trabalhar com vetores, matrizes e *arrays* por ser uma forma muito mais eficiente de se programar e de se processar. Talvez essa seja uma das principais dificuldades de programadores de linguagens \"estilo C\" onde é usual o uso de laços explícitos nos cálculos. Neste curso iremos usar intensivamente o NumPy que é o pacote de *arrays* numéricos que permitem programação matricial de forma muito eficiente.\n",
    "\n",
    "### Representação matricial da equação linear\n",
    "\n",
    "Supondo que tem $n$ amostras, as equações para todas as amostram ficam:\n",
    "\n",
    "$$ \\begin{bmatrix}\n",
    "y^{(0)}\\\\ \n",
    "y^{(1)}\\\\\n",
    "\\\\\n",
    "y^{(n)}  \\end{bmatrix} = \\begin{bmatrix}\n",
    "w_0 &+& x^{(0)} w_1\\\\ \n",
    "w_0 &+& x^{(1)} w_1\\\\\n",
    "\\\\ \n",
    "w_0 &+& x^{(n)} w_1\\\\ \n",
    "\\end{bmatrix} $$\n",
    "\n",
    "Para facilitar a conversão matricial dos dois parâmetros da reta: $ w_0$ e $w_1 $, é usual fazer as seguintes transformações:\n",
    "\n",
    "$$ \\begin{bmatrix}\n",
    "y^{(0)}\\\\ \n",
    "y^{(1)}\\\\\n",
    "\\\\\n",
    "y^{(n)}  \\end{bmatrix} = \\begin{bmatrix}\n",
    "1\\ w_0&+&x^{(0)} w_1\\\\ \n",
    "1\\ w_0&+&x^{(1)} w_1\\\\\n",
    "\\\\ \n",
    "1\\ w_0&+&x^{(n)}  w_1\\\\ \n",
    "\\end{bmatrix} $$\n",
    "\n",
    "que é equivalente à operação matricial:\n",
    "\n",
    "$$ \\begin{bmatrix}\n",
    "y^{(0)}\\\\ \n",
    "y^{(1)}\\\\\n",
    "\\\\\n",
    "y^{(n)} \n",
    "\\end{bmatrix} = \\begin{bmatrix}\n",
    "1 & x^{(0)} \\\\ \n",
    "1 & x^{(1)}\\\\\n",
    "\\\\ \n",
    "1 & x^{(n)} \\\\ \n",
    "\\end{bmatrix}\\begin{bmatrix}\n",
    "w_0\\\\ \n",
    "w_1\n",
    "\\end{bmatrix} $$\n",
    "\n",
    "Em notação matricial:\n",
    "\n",
    "$$ \\boldsymbol{Y} = \\boldsymbol{X} \\boldsymbol{W} $$.\n",
    "\n",
    "A multiplicação de matrizes é implementada em Python/Numpy usando o operador `dot`. Temos\n",
    "duas notações principais:  `X.dot(W)` ou `np.dot(X,W)`. As matrizes são caracterizadas pelas suas dimensões que no NumPy são denominados `shape` que para matrizes é organizado em `(linhas, colunas)`. Na multiplicação $\\boldsymbol{X} \\boldsymbol{W}$, `X.shape=(n,2)` e `W.shape=(2,1)`, cujo resultado da multiplicação será `(n,2)(2,1)->(n,1)` que é o mesmo shape de $\\boldsymbol{Y}$.\n",
    "\n",
    "Operações matriciais tornam o código conciso, poderoso e simples, porém, é comum aparecer erros nestas operações e uma das melhores formas de verificar isso é imprimindo o shape das\n",
    "matrizes em uso."
   ]
  },
  {
   "cell_type": "markdown",
   "metadata": {},
   "source": [
    "### Aumento das dimensões\n",
    "\n",
    "Uma das principais vantagens da representação matricial acima é a facilidade de aumento da\n",
    "dimensionalidade do problema, sem mudança da equação matricial e consequentemente sem\n",
    "mudança do código do programa. Se no problema da estimativa da largura da pétula, quisermos\n",
    "utilizar não apenas uma variável de entrada, mas três. As únicas modificações necessárias são\n",
    "mudar as matrizes $\\boldsymbol{X}$ e $\\boldsymbol{W}$:\n",
    "\n",
    "$$\\begin{bmatrix}\n",
    "y^{(0)}\\\\ \n",
    "y^{(1)}\\\\\n",
    "\\\\\n",
    "y^{(n)}\n",
    "\\end{bmatrix} = \\begin{bmatrix}\n",
    "1 & x_1^{(0)} & x_2^{(0)} & x_3^{(0)} \\\\ \n",
    "1 & x_1^{(1)} & x_2^{(1)} & x_3^{(1)}\\\\\n",
    "\\\\ \n",
    "1 & x_1^{(n)} & x_2^{(n)} & x_3^{(n)} \\\\ \n",
    "\\end{bmatrix}\\begin{bmatrix}\n",
    "w_0\\\\ \n",
    "w_1 \\\\\n",
    "w_2\\\\\n",
    "w_3\n",
    "\\end{bmatrix}$$\n",
    "\n",
    "Observe que agora as dimensões na multiplicação são: `(n,1)=(n,4).dot(n,1)`."
   ]
  },
  {
   "cell_type": "markdown",
   "metadata": {
    "collapsed": true
   },
   "source": [
    "## Formulação do problema\n",
    "\n",
    "Dado um conjunto de pontos $(x^{(i)},y^{(i)})$, queremos encontrar uma equação linear na\n",
    "forma $ \\hat{y} = w_0 + w_1\\ x $ de modo que o erro médio quadrático $ (y^{(i)} - \\hat{y^{(i)}})^2 $ de todas as amostras seja mínimo. Isto é:\n",
    "\n",
    "$$ \\frac{1}{2n} \\sum_{i \\in (0,n-1)} (y^{(i)} - (w_0 + w_1\\ x^{(i)})^2 $$"
   ]
  },
  {
   "cell_type": "markdown",
   "metadata": {
    "collapsed": false
   },
   "source": [
    "Em notação matricial:\n",
    "\n",
    "$$ J(W)=\\frac{1}{2n}(XW−Y)^T(XW−Y) $$\n",
    "\n",
    "A seguir é mostrado uma implementação matricial desta função:\n",
    "\n"
   ]
  },
  {
   "cell_type": "code",
   "execution_count": 78,
   "metadata": {
    "collapsed": true
   },
   "outputs": [],
   "source": [
    "def compute_cost(X, Y, W):\n",
    "    '''\n",
    "    Compute cost for linear regression\n",
    "    '''\n",
    "    n = Y.size  #Number of training samples\n",
    "    E = X.dot(W) - Y\n",
    "    J = (E.T).dot(E)/ (2. * n)\n",
    "    return J"
   ]
  },
  {
   "cell_type": "markdown",
   "metadata": {},
   "source": [
    "O problema então se resume em encontrar os coeficientes de $\\boldsymbol{W}$ que minimizem $J(\\boldsymbol{W})$. Existem várias formas de se realizar esta otimização. Para fazer uma analogia com as redes neurais, a otimização será obtiva por método de cálculo numérico\n",
    "conhecido como \"gradiente descendente\". Como o gradiente de uma função aponta sempre para os valores mais altos da função, o método do gradiente descendente consiste em atualizar o valor de $\\boldsymbol{W}$ subtraindo-o proporcionalmente do gradiente, isto é, indo na direção contrária do gradiente na expectativa de que iremos encontrar valores menores.\n",
    "\n",
    "Na equação da atualização do $\\boldsymbol{W}$ a seguir, o fator $\\eta$ é denominado *learning rate*. Ele é um parâmetro de ajuste fundamental para o sucesso da otimização: \n",
    "\n",
    "$$ \\boldsymbol{W} = \\boldsymbol{W} − \\eta \\Delta J(\\boldsymbol{W}) $$\n",
    "\n",
    "Desta forma então, calculando-se o gradiente de $J(\\boldsymbol{W})$ e substituindo na equação acima temos:\n",
    "\n",
    "$$ \\boldsymbol{W} = \\boldsymbol{W} − \\eta \\frac{1}{n}(X^T(XW−Y)) $$\n",
    "\n",
    "Esta equação é implementada dentro da função `gradient_descent`.\n",
    "\n",
    "O esquema da otimização é representado pelo diagrama a seguir:\n",
    "\n",
    "![](../figures/gradientDescentDiagram.png)\n"
   ]
  },
  {
   "cell_type": "code",
   "execution_count": null,
   "metadata": {
    "collapsed": true
   },
   "outputs": [],
   "source": [
    "def gradient_descent(X, Y, eta, num_iters):\n",
    "    '''\n",
    "    Perform gradient descent to learn W\n",
    "    by taking num_items gradient steps with learning\n",
    "    rate eta\n",
    "    '''\n",
    "    n = Y.size\n",
    "    W = np.zeros(shape=(2, 1))\n",
    "    J_history = np.zeros(shape=(num_iters, ))\n",
    "    W_history = np.zeros(shape=(2,num_iters))\n",
    "\n",
    "    for i in range(num_iters):\n",
    "        errors = (X.T).dot(X.dot(W) - Y)\n",
    "        W = W - eta * (1.0 / n) * errors\n",
    "    \n",
    "        W_history[:,i] = W[:,0]\n",
    "        J_history[i] = compute_cost(X, Y, W)\n",
    "    return W, J_history, W_history"
   ]
  },
  {
   "cell_type": "code",
   "execution_count": 85,
   "metadata": {
    "collapsed": false
   },
   "outputs": [
    {
     "name": "stdout",
     "output_type": "stream",
     "text": [
      "X.shape: (50,) float64\n",
      "Y.shape: (50,) float64\n"
     ]
    },
    {
     "data": {
      "image/png": "[encoded data removed]",
      "text/plain": [
       "<matplotlib.figure.Figure at 0x7f1ba6510910>"
      ]
     },
     "metadata": {},
     "output_type": "display_data"
    }
   ],
   "source": [
    "print 'X.shape:', X.shape, X.dtype\n",
    "print 'Y.shape:', Y.shape, Y.dtype\n",
    "#print X[:10],y[:10]\n",
    "\n",
    "#Plot the data\n",
    "plt.scatter(X, Y, marker='o', c='b')\n",
    "plt.title('Dataset Iris')\n",
    "plt.xlabel('comprimento das sepalas')\n",
    "plt.ylabel('comprimento das petalas')\n",
    "plt.show()"
   ]
  },
  {
   "cell_type": "code",
   "execution_count": 86,
   "metadata": {
    "collapsed": false
   },
   "outputs": [
    {
     "name": "stdout",
     "output_type": "stream",
     "text": [
      "X_bias.shape: (50, 2)\n",
      "final cost: [[ 0.00179468]]\n",
      "W_optimal: [[ 0.03945396]\n",
      " [ 0.93850228]]\n"
     ]
    },
    {
     "data": {
      "image/png": "[encoded data removed]",
      "text/plain": [
       "<matplotlib.figure.Figure at 0x7f1ba6b6de50>"
      ]
     },
     "metadata": {},
     "output_type": "display_data"
    }
   ],
   "source": [
    "#number of training samples\n",
    "n = Y.size\n",
    "\n",
    "#Add a column of ones to X (interception data)\n",
    "X_bias = np.hstack([np.ones(shape=(n, 1)), X.reshape(-1,1)])\n",
    "print 'X_bias.shape:',X_bias.shape\n",
    "Y_matrix = Y.reshape(-1,1)\n",
    "\n",
    "\n",
    "#Some gradient descent settings\n",
    "iterations = 2000\n",
    "eta = 0.8\n",
    "\n",
    "W_optimal, J_history, W_history = gradient_descent(X_bias, Y_matrix, eta, iterations)\n",
    "\n",
    "print 'final cost:', compute_cost(X_bias, Y_matrix, W_optimal)\n",
    "print 'W_optimal:', W_optimal\n",
    "\n",
    "plt.plot(np.log(J_history)) # mostrando log para amplificar valores baixos\n",
    "plt.show()\n",
    "\n"
   ]
  },
  {
   "cell_type": "code",
   "execution_count": 81,
   "metadata": {
    "collapsed": false,
    "scrolled": true
   },
   "outputs": [
    {
     "data": {
      "image/png": "[encoded data removed]",
      "text/plain": [
       "<matplotlib.figure.Figure at 0x7f1ba4e41dd0>"
      ]
     },
     "metadata": {},
     "output_type": "display_data"
    }
   ],
   "source": [
    "#Plot the results\n",
    "#Plot the data\n",
    "plt.scatter(X, Y, marker='o', c='b')\n",
    "plt.title('Iris dataset')\n",
    "plt.xlabel('mass body index')\n",
    "plt.ylabel('Diabetes progress')\n",
    "\n",
    "x = np.linspace(X.min(),X.max(),100).reshape(-1,1)\n",
    "x_bias = np.hstack([np.ones_like(x),x])\n",
    "result = x_bias.dot(W_optimal).flatten()\n",
    "plt.plot(x, result)\n",
    "plt.show()"
   ]
  },
  {
   "cell_type": "code",
   "execution_count": 82,
   "metadata": {
    "collapsed": false
   },
   "outputs": [
    {
     "name": "stdout",
     "output_type": "stream",
     "text": [
      "Wmin: [-0.59564098 -0.22762549]\n",
      "Wmax: [ 1.30017343  1.52713284]\n",
      "(100, 100)\n",
      "(2, 10000)\n",
      "(50, 2)\n",
      "J.shape: (10000,)\n",
      "W_history.shape: (2, 15500)\n"
     ]
    },
    {
     "data": {
      "image/png": "[encoded data removed]",
      "text/plain": [
       "<matplotlib.figure.Figure at 0x7f1ba6b6df50>"
      ]
     },
     "metadata": {},
     "output_type": "display_data"
    }
   ],
   "source": [
    "\n",
    "# Plot the decision boundary. For that, we will assign a color to each\n",
    "# point in the mesh [x_min, x_max]x[y_min, y_max].\n",
    "Wmin = W_history.min(axis=1)\n",
    "Wmax = W_history.max(axis=1)\n",
    "D = Wmax - Wmin\n",
    "Wmin -= D\n",
    "Wmax += D\n",
    "print 'Wmin:', Wmin\n",
    "print 'Wmax:', Wmax\n",
    "xx, yy = np.meshgrid(np.linspace(Wmin[0], Wmax[0], 100), np.linspace(Wmin[1], Wmax[1], 100))\n",
    "W_grid = np.c_[xx.ravel(), yy.ravel()].T\n",
    "print xx.shape\n",
    "print W_grid.shape\n",
    "print X_bias.shape\n",
    "\n",
    "n = Y_matrix.size\n",
    "\n",
    "E = ((X_bias.dot(W_grid) - Y_matrix)**2).sum(axis=0)\n",
    "\n",
    "J = E/(2. * n)\n",
    "print 'J.shape:', J.shape\n",
    "print 'W_history.shape:', W_history.shape\n",
    "\n",
    "# Put the result into a color plot\n",
    "J = J.reshape(xx.shape)\n",
    "plt.figure(1, figsize=(4, 3))\n",
    "plt.pcolormesh(xx, yy, J,cmap=plt.cm.Paired)\n",
    "\n",
    "plt.scatter(W_history[0],W_history[1])\n",
    "plt.show()\n",
    "\n"
   ]
  },
  {
   "cell_type": "code",
   "execution_count": null,
   "metadata": {
    "collapsed": false
   },
   "outputs": [],
   "source": [
    "from mpl_toolkits.mplot3d import Axes3D\n",
    "import matplotlib\n",
    "print matplotlib.__version__\n",
    "fig = plt.figure(figsize=(10, 6))\n",
    "ax = fig.add_subplot(111)#, projection='3d')\n",
    "#ax = Axes3D(fig)\n",
    "\n",
    "ax.plot_surface(xx, yy, J, rstride=1, cstride=1, color='b', alpha=0.5)\n",
    "ax.set_xlabel('Intercept')\n",
    "ax.set_ylabel('Slope')\n",
    "ax.set_zlabel('Cost')\n",
    "ax.view_init(elev=30., azim=30)\n",
    "#ax.plot([theta[0]], [theta[1]], [cost[-1]] , markerfacecolor='r', markeredgecolor='r', marker='o', markersize=7);"
   ]
  },
  {
   "cell_type": "code",
   "execution_count": null,
   "metadata": {
    "collapsed": true
   },
   "outputs": [],
   "source": []
  },
  {
   "cell_type": "markdown",
   "metadata": {
    "collapsed": true
   },
   "source": [
    "## Referências\n",
    "\n",
    "- [An Introduction to Gradient Descent in Python by Till Bergamann](http://tillbergmann.com/blog/python-gradient-descent.html) Blog, Agosto 2015.\n"
   ]
  }
 ],
 "metadata": {
  "kernelspec": {
   "display_name": "Python [Root]",
   "language": "python",
   "name": "Python [Root]"
  },
  "language_info": {
   "codemirror_mode": {
    "name": "ipython",
    "version": 2
   },
   "file_extension": ".py",
   "mimetype": "text/x-python",
   "name": "python",
   "nbconvert_exporter": "python",
   "pygments_lexer": "ipython2",
   "version": "2.7.12"
  }
 },
 "nbformat": 4,
 "nbformat_minor": 0
}
