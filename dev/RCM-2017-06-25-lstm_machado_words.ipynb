{
 "cells": [
  {
   "cell_type": "code",
   "execution_count": 1,
   "metadata": {
    "collapsed": false,
    "deletable": true,
    "editable": true
   },
   "outputs": [
    {
     "name": "stderr",
     "output_type": "stream",
     "text": [
      "Using TensorFlow backend.\n"
     ]
    }
   ],
   "source": [
    "%matplotlib inline\n",
    "import matplotlib.pyplot as plot\n",
    "from IPython import display\n",
    "from __future__ import print_function\n",
    "\n",
    "from keras.preprocessing.text import Tokenizer\n",
    "from keras.models import Sequential\n",
    "from keras.layers import Dense, Activation\n",
    "from keras.layers import LSTM, Embedding, BatchNormalization\n",
    "from keras.optimizers import RMSprop, Adam\n",
    "from keras.regularizers import l2\n",
    "from keras.utils.data_utils import get_file\n",
    "import numpy as np\n",
    "import numpy.random as nr\n",
    "import random\n",
    "import glob\n",
    "import sys\n",
    "import os\n",
    "import re\n",
    "\n",
    "sys.path.append('../src')\n",
    "from my_keras_utilities import (get_available_gpus, \n",
    "                                load_model_and_history, \n",
    "                                save_model_and_history, \n",
    "                                TrainingPlotter)\n",
    "\n",
    "os.makedirs('../../models',exist_ok=True)\n",
    "np.set_printoptions(precision=3, linewidth=120)"
   ]
  },
  {
   "cell_type": "code",
   "execution_count": 2,
   "metadata": {
    "collapsed": false,
    "deletable": true,
    "editable": true
   },
   "outputs": [
    {
     "name": "stdout",
     "output_type": "stream",
     "text": [
      "Backend:        tensorflow\n",
      "Data format:    channels_last\n",
      "Available GPUS: ['/gpu:0']\n"
     ]
    }
   ],
   "source": [
    "import keras.backend as K\n",
    "\n",
    "# K.set_image_data_format('channels_first')\n",
    "K.set_floatx('float32')\n",
    "\n",
    "print('Backend:        {}'.format(K.backend()))\n",
    "print('Data format:    {}'.format(K.image_data_format()))\n",
    "print('Available GPUS:', get_available_gpus())"
   ]
  },
  {
   "cell_type": "code",
   "execution_count": 3,
   "metadata": {
    "collapsed": true,
    "deletable": true,
    "editable": true
   },
   "outputs": [],
   "source": [
    "class MyCb(TrainingPlotter):\n",
    "    \n",
    "    def on_epoch_end(self, epoch, logs={}):\n",
    "        super().on_epoch_end(epoch, logs)\n",
    "\n",
    "\n",
    "def train_network(model, model_name, X_train, y_train, Xval=None, yval=None, loss=\"categorical_crossentropy\",\n",
    "                  metrics=('accuracy',), opt='rmsprop', batch_size=60, nepochs=50000, patience=500, \n",
    "                  nr_seed=20170522, reset=False, ploss=1.0):\n",
    "\n",
    "    do_plot = (ploss > 0.0)\n",
    "    \n",
    "    model_fn = model_name + '.model'\n",
    "    if reset and os.path.isfile(model_fn):\n",
    "        os.unlink(model_name + '.model')\n",
    "        \n",
    "    if not os.path.isfile(model_fn):\n",
    "        # initialize the optimizer and model\n",
    "        print(\"[INFO] compiling model...\")\n",
    "        model.compile(loss=loss, optimizer=opt, metrics=metrics)    \n",
    "\n",
    "        # History, checkpoint, earlystop, plot losses:\n",
    "        cb = MyCb(n=1, filepath=model_name, patience=patience, plot_losses=do_plot)\n",
    "        \n",
    "    else:\n",
    "        print(\"[INFO] loading model...\")\n",
    "        model, cb = load_model_and_history(model_name)\n",
    "        cb.patience = patience\n",
    "\n",
    "    past_epochs = cb.get_nepochs()\n",
    "    tr_epochs = nepochs - past_epochs\n",
    "    \n",
    "    if tr_epochs <= 0:\n",
    "        print('[INFO] Model already trained for {} epochs'.format(nepochs))\n",
    "        return model, cb\n",
    "    \n",
    "    if do_plot:\n",
    "        vv = 0\n",
    "        fig = plot.figure(figsize=(15,6))\n",
    "        plot.ylim(0.0, ploss)\n",
    "        plot.xlim(0, nepochs)\n",
    "        plot.grid(True)\n",
    "    else:\n",
    "        vv = 2\n",
    "        \n",
    "    if Xval is not None:\n",
    "        val_data = (Xval, yval)\n",
    "    else:\n",
    "        val_data = None\n",
    "\n",
    "    print(\"[INFO] training for {} epochs...\".format(tr_epochs))\n",
    "    try:\n",
    "        h = model.fit(X_train, y_train, batch_size=60, epochs=tr_epochs, verbose=0, \n",
    "                      validation_data=val_data, callbacks=[cb])\n",
    "    except KeyboardInterrupt:\n",
    "        pass\n",
    "\n",
    "    return model, cb\n",
    "\n",
    "\n",
    "def test_network(model_name, X_test, y_test):\n",
    "    model, histo = load_model_and_history(model_name)\n",
    "    print('Model from epoch {}'.format(histo.best_epoch))\n",
    "    print(\"[INFO] evaluating in the test data set ...\")\n",
    "    loss, accuracy = model.evaluate(X_test, y_test, batch_size=128, verbose=1)\n",
    "    print(\"\\n[INFO] accuracy on the test data set: {:.2f}% [{:.5f}]\".format(accuracy * 100, loss))\n"
   ]
  },
  {
   "cell_type": "code",
   "execution_count": 4,
   "metadata": {
    "collapsed": false,
    "deletable": true,
    "editable": true
   },
   "outputs": [
    {
     "name": "stdout",
     "output_type": "stream",
     "text": [
      " 347400  Memorias_Postumas_de_Bras_Cubas\n",
      " 280008  Memorial_de_Aires\n",
      " 408432  Esau_e_Jaco\n",
      " 369465  Dom_Casmurro\n",
      " 326196  Iaia_Garcia\n",
      " 440240  Quincas_Borba\n",
      " 327155  Helena\n",
      "2498896\n"
     ]
    }
   ],
   "source": [
    "data_dir = '../../datasets/'\n",
    "\n",
    "def clean_text(text):\n",
    "    txt = re.sub('\\n\\n+', '\\07', text)\n",
    "    txt = re.sub('\\n', ' ', txt)\n",
    "    txt = re.sub('\\07', '\\n', txt)\n",
    "    txt = re.sub('  +', ' ', txt)\n",
    "    txt = re.sub('\\nCAPÍTULO [^\\n]*\\n', '\\n', txt)    \n",
    "    return txt.lower()\n",
    "\n",
    "book_texts = []\n",
    "book_titles = []\n",
    "char_count = 0\n",
    "for fn in glob.glob(data_dir + 'livros/Machado_de_Assis__*.txt'):\n",
    "    _, book = os.path.basename(fn).split('__')\n",
    "    txt = open(fn, encoding='utf-8').read()\n",
    "    txt = clean_text(txt)\n",
    "    book_texts.append(txt)\n",
    "    book_titles.append(book[:-4])\n",
    "    print('{:7d}  {}'.format(len(txt), book[:-4]))\n",
    "    char_count += len(txt)\n",
    "print('{:7d}'.format(char_count))\n",
    "\n",
    "nb_books = len(book_texts)\n"
   ]
  },
  {
   "cell_type": "code",
   "execution_count": 5,
   "metadata": {
    "collapsed": false,
    "deletable": true,
    "editable": true
   },
   "outputs": [
    {
     "name": "stdout",
     "output_type": "stream",
     "text": [
      "total text length:  2498896 chars\n",
      "total unique chars: 82\n",
      "['\\n', ' ', '!', '\"', '$', '&', \"'\", '(', ')', '*', '+', ',', '-', '.', '0', '1', '2', '3', '4', '5', '6', '7', '8', '9', ':', ';', '=', '?', '_', 'a', 'b', 'c', 'd', 'e', 'f', 'g', 'h', 'i', 'j', 'k', 'l', 'm', 'n', 'o', 'p', 'q', 'r', 's', 't', 'u', 'v', 'w', 'x', 'y', 'z', '\\x92', '\\x93', '\\x94', '\\x96', '\\x97', '\\xa0', '¡', 'ª', '°', 'º', 'à', 'á', 'â', 'ã', 'ä', 'ç', 'è', 'é', 'ê', 'ë', 'í', 'ñ', 'ó', 'ô', 'õ', 'ú', 'ü']\n"
     ]
    }
   ],
   "source": [
    "all_text = ''\n",
    "for txt in book_texts:\n",
    "    all_text += txt\n",
    "    \n",
    "chars = sorted(list(set(all_text)))\n",
    "char_indices = dict((c, i) for i, c in enumerate(chars))\n",
    "indices_char = dict((i, c) for i, c in enumerate(chars))\n",
    "\n",
    "nb_chars = len(chars)\n",
    "text_len = len(all_text)\n",
    "\n",
    "print('total text length: ', text_len, 'chars')\n",
    "print('total unique chars:', nb_chars)\n",
    "print(chars)\n"
   ]
  },
  {
   "cell_type": "code",
   "execution_count": 6,
   "metadata": {
    "collapsed": false,
    "deletable": true,
    "editable": true
   },
   "outputs": [
    {
     "name": "stdout",
     "output_type": "stream",
     "text": [
      " antigas dobras de ouro, e eu levava-lhe quantas podia obter; marcela juntava-as todas dentro de uma caixinha de ferro, cuja chave ninguém nunca jamais soube onde ficava; escondia-a por medo dos escravos. a casa em que morava, nos cajueiros, era própria. eram sólidos e bons os móveis, de jacarandá lavrado, e todas as demais alfaias, espelhos, jarras, baixela,  uma linda baixela da índia, que lhe \n"
     ]
    }
   ],
   "source": [
    "idx = nr.randint(text_len - 400)\n",
    "print(all_text[idx:idx+400])"
   ]
  },
  {
   "cell_type": "code",
   "execution_count": 7,
   "metadata": {
    "collapsed": false,
    "deletable": true,
    "editable": true
   },
   "outputs": [
    {
     "name": "stdout",
     "output_type": "stream",
     "text": [
      "Found 25471 unique tokens.\n",
      "Using the first 19999 words.\n",
      "[60678, 51325, 72381, 66715, 56526, 77741, 55994]\n"
     ]
    }
   ],
   "source": [
    "num_words = 20000\n",
    "\n",
    "tokenizer = Tokenizer(num_words=num_words)\n",
    "tokenizer.fit_on_texts(book_texts)\n",
    "sequences = tokenizer.texts_to_sequences(book_texts)\n",
    "\n",
    "w2i = tokenizer.word_index\n",
    "i2w = dict([(v, k) for k, v in w2i.items()])\n",
    "\n",
    "i2w_vec = np.array([i2w[i+1] for i in range(len(i2w))])\n",
    "\n",
    "print('Found %d unique tokens.' % len(i2w))\n",
    "print('Using the first %d words.' % max([max(s) for s in sequences]))\n",
    "print([len(s) for s in sequences])"
   ]
  },
  {
   "cell_type": "code",
   "execution_count": 8,
   "metadata": {
    "collapsed": false,
    "deletable": true,
    "editable": true
   },
   "outputs": [
    {
     "name": "stdout",
     "output_type": "stream",
     "text": [
      "nb sequences: 147097\n"
     ]
    }
   ],
   "source": [
    "seq_len = 10\n",
    "step = 3\n",
    "sentences = []\n",
    "for k, sequence in enumerate(sequences):\n",
    "    for i in range(0, len(sequence) - (seq_len + 1), step):\n",
    "        sentences.append(sequence[i: i + seq_len + 1])\n",
    "\n",
    "print('nb sequences:', len(sentences))"
   ]
  },
  {
   "cell_type": "code",
   "execution_count": 9,
   "metadata": {
    "collapsed": false,
    "deletable": true,
    "editable": true
   },
   "outputs": [
    {
     "name": "stdout",
     "output_type": "stream",
     "text": [
      "Vectorization ...\n",
      "X.shape: (147097, 10)\n",
      "y.shape: (147097,)\n"
     ]
    }
   ],
   "source": [
    "print('Vectorization ...')\n",
    "nb_samples = len(sentences)\n",
    "\n",
    "X = np.zeros((nb_samples, seq_len), dtype=np.int)\n",
    "y = np.zeros((nb_samples,), dtype=np.int)\n",
    "for i, sentence in enumerate(sentences):\n",
    "    X[i, :] = sentence[:-1]\n",
    "    y[i] = sentence[-1]\n",
    "    \n",
    "print('X.shape:', X.shape)\n",
    "print('y.shape:', y.shape)\n"
   ]
  },
  {
   "cell_type": "code",
   "execution_count": 10,
   "metadata": {
    "collapsed": false,
    "deletable": true,
    "editable": true
   },
   "outputs": [
    {
     "name": "stdout",
     "output_type": "stream",
     "text": [
      "[  29  368   25  277   25  212   25 1312    4    8] 72\n",
      "na política por gosto por família por ambição e um -> pouco\n",
      "\n",
      "[  99 1627   13    8  254 5442    6  146  409    3] 509\n",
      "helena lançou lhe um olhar suspeitoso não sei ler de -> cor\n",
      "\n",
      "[3262 7290    9 8468 8541   10  360 6436    9 1982] 4\n",
      "aparências rutilantes do arruído frouxidão da vontade domínio do capricho -> e\n",
      "\n",
      "[  43   35   25  115 3239 2217   95   19  697    9] 78\n",
      "olhos nem por isso dormiu tentou então uma página do -> seu\n",
      "\n",
      "[   1   54  794  103   13    1 1829 1915  699    6] 846\n",
      "a outra quisera ver lhe a miséria digna contudo não -> pude\n",
      "\n",
      "[    8 17053  2938    10    98  1001     5   196   820     9] 61\n",
      "um ciclo inteiro da vida humana o primeiro número do -> meu\n",
      "\n",
      "[  742    26  2629    10   153     6 13417   325   184     3] 124\n",
      "pensando no lance da carta não compreendendo aquele gesto de -> mão\n",
      "\n",
      "[  326    71  1389  5371    20   574 10338    23   558   771] 37\n",
      "quatro dias irei apresentar as minhas felicitações ao novo ministro -> dos\n",
      "\n",
      "[  12 3173    9 4890  107   12 1713    4   12 1419] 518\n",
      "os discursos do anfitrião entre os antigos e os novos -> houve\n",
      "\n",
      "[   94   380    29   124    38     7 11664     1   423    77] 23\n",
      "alguns instantes na mão sem se atrever a dá la -> ao\n",
      "\n",
      "[ 777    6    7 6549    5 6570    1 2412    1  607] 143\n",
      "inteiramente não se negando o maestro a emendar a obra -> onde\n",
      "\n",
      "[  46    2 4276   17   64 1825 6837    7   20  168] 2945\n",
      "ainda que receosa mas rubião descia apertaram se as mãos -> familiarmente\n",
      "\n",
      "[ 113   27  271    1  155  184 1270    7    8  299] 636\n",
      "ir mais longe a esse gesto seguiu se um silêncio -> largo\n",
      "\n",
      "[1544    9 6128    5 1031   27   15 9669   20 1767] 2624\n",
      "partes do globo o espetáculo mais é grandioso as criaturas -> humanas\n",
      "\n",
      "[ 173    4   75  276    1   16  165   41 1517   82] 502\n",
      "fazer e até chegou a me dar casa estive lá -> muitos\n",
      "\n",
      "[   7   83   59  677 5683    1 6052    3 1012 2542] 18\n",
      "se alguma coisa pudesse atenuar a perversidade de semelhante recurso -> era\n",
      "\n",
      "[  6  47  25 109 397  17  48  25 109  98] 99\n",
      "não só por sua felicidade mas também por sua vida -> helena\n",
      "\n",
      "[ 156    6  201   52 3921   12   43  723 3491 6019] 2\n",
      "estela não respondeu nada cravou os olhos numa nuvem negra -> que\n",
      "\n",
      "[2216    1  186   23  204    3  471  312  369   13] 10\n",
      "dirigiu a palavra ao filho de valéria naturalmente falou lhe -> da\n",
      "\n",
      "[ 1697 18400    23   171    10   697  2598    23   358     1] 8225\n",
      "chegado mecanicamente ao fim da página tornavam ao princípio a -> reatar\n",
      "\n"
     ]
    }
   ],
   "source": [
    "for i in nr.randint(nb_samples, size=(20,)):\n",
    "    print(X[i], y[i])\n",
    "    print(' '.join([i2w[x] for x in X[i]]), '->', i2w[y[i]])\n",
    "    print()"
   ]
  },
  {
   "cell_type": "code",
   "execution_count": 11,
   "metadata": {
    "collapsed": false,
    "deletable": true,
    "editable": true
   },
   "outputs": [
    {
     "name": "stdout",
     "output_type": "stream",
     "text": [
      "_________________________________________________________________\n",
      "Layer (type)                 Output Shape              Param #   \n",
      "=================================================================\n",
      "embedding_1 (Embedding)      (None, 10, 50)            1000000   \n",
      "_________________________________________________________________\n",
      "lstm_1 (LSTM)                (None, 128)               91648     \n",
      "_________________________________________________________________\n",
      "batch_normalization_1 (Batch (None, 128)               512       \n",
      "_________________________________________________________________\n",
      "dense_1 (Dense)              (None, 20000)             2580000   \n",
      "=================================================================\n",
      "Total params: 3,672,160\n",
      "Trainable params: 3,671,904\n",
      "Non-trainable params: 256\n",
      "_________________________________________________________________\n"
     ]
    }
   ],
   "source": [
    "model = Sequential()\n",
    "model.add(Embedding(num_words, 50, input_length=seq_len, embeddings_regularizer=l2(1e-5)))\n",
    "model.add(LSTM(128))\n",
    "model.add(BatchNormalization())\n",
    "model.add(Dense(num_words, activation='softmax'))\n",
    "model.summary()\n"
   ]
  },
  {
   "cell_type": "code",
   "execution_count": 12,
   "metadata": {
    "collapsed": false,
    "deletable": true,
    "editable": true
   },
   "outputs": [
    {
     "name": "stdout",
     "output_type": "stream",
     "text": [
      "(132387, 10) (132387,) (14710, 10) (14710,)\n"
     ]
    }
   ],
   "source": [
    "from sklearn.model_selection import train_test_split\n",
    "\n",
    "X_tra, X_val, y_tra, y_val = train_test_split(X, y, test_size=0.1)\n",
    "print(X_tra.shape, y_tra.shape, X_val.shape, y_val.shape)"
   ]
  },
  {
   "cell_type": "code",
   "execution_count": 13,
   "metadata": {
    "collapsed": false,
    "deletable": true,
    "editable": true
   },
   "outputs": [
    {
     "data": {
      "image/png": "[encoded data removed]",
      "text/plain": [
       "<matplotlib.figure.Figure at 0x7fbce82d6eb8>"
      ]
     },
     "metadata": {},
     "output_type": "display_data"
    }
   ],
   "source": [
    "model_name = '../../models/lstm_machado_words_2'\n",
    "\n",
    "fit_params = {\n",
    "    'opt':        Adam(),\n",
    "    'loss':       'sparse_categorical_crossentropy',\n",
    "    'metrics':    ['accuracy'],\n",
    "    'batch_size': 100, \n",
    "    'nepochs':    200,\n",
    "    'patience':   15,\n",
    "    'ploss':      10.0,\n",
    "    'reset':      False,\n",
    "}\n",
    "\n",
    "N = -1\n",
    "Xtra, ytra = X_tra[:N], y_tra[:N]\n",
    "\n",
    "train_network(model, model_name, Xtra, ytra, **fit_params);\n"
   ]
  },
  {
   "cell_type": "code",
   "execution_count": 17,
   "metadata": {
    "collapsed": false,
    "deletable": true,
    "editable": true
   },
   "outputs": [],
   "source": [
    "model, histo = load_model_and_history(model_name)"
   ]
  },
  {
   "cell_type": "code",
   "execution_count": 18,
   "metadata": {
    "collapsed": false,
    "deletable": true,
    "editable": true
   },
   "outputs": [
    {
     "data": {
      "text/plain": [
       "[<matplotlib.lines.Line2D at 0x7fbc9b152b38>]"
      ]
     },
     "execution_count": 18,
     "metadata": {},
     "output_type": "execute_result"
    },
    {
     "data": {
      "image/png": "[encoded data removed]",
      "text/plain": [
       "<matplotlib.figure.Figure at 0x7fbce11bce10>"
      ]
     },
     "metadata": {},
     "output_type": "display_data"
    }
   ],
   "source": [
    "acc = [dd['acc'] for dd in histo.history]\n",
    "nepochs = len(acc)\n",
    "\n",
    "fig = plot.figure(figsize=(15,6))\n",
    "plot.ylim(0.0, 1.0)\n",
    "plot.xlim(0, nepochs)\n",
    "plot.grid(True)\n",
    "\n",
    "plot.plot(acc)\n"
   ]
  },
  {
   "cell_type": "code",
   "execution_count": 16,
   "metadata": {
    "collapsed": false,
    "deletable": true,
    "editable": true
   },
   "outputs": [
    {
     "name": "stdout",
     "output_type": "stream",
     "text": [
      "é que não sei mas poucos  em todo o\n",
      "-----\n",
      "é que não sei mas poucos  em todo o caso\n",
      "------------------------------------------------------------\n",
      "é que não sei mas poucos  em todo o caso de fazer um gesto de outro nos olhos como mas\n",
      "------------------------------------------------------------\n",
      "é que não sei mas poucos  em todo o caso de fazer um gesto de outro nos olhos como mas não fosse então e foi guardar o seu quarto para\n",
      "------------------------------------------------------------\n",
      "é que não sei mas poucos  em todo o caso de fazer um gesto de outro nos olhos como mas não fosse então e foi guardar o seu quarto para ver onde está e viu entrar com um colar como\n",
      "------------------------------------------------------------\n"
     ]
    }
   ],
   "source": [
    "def get_string(seq):\n",
    "    return\n",
    "\n",
    "all_words = []\n",
    "for seq in sequences:\n",
    "    all_words += seq\n",
    "corpus_word_count = len(all_words)\n",
    "\n",
    "start_index = random.randint(0, corpus_word_count - seq_len - 1)\n",
    "generated = []\n",
    "sentence = all_words[start_index: start_index + seq_len]\n",
    "generated += sentence\n",
    "print(' '.join([i2w[x] for x in generated]))\n",
    "print('-----')\n",
    "\n",
    "\n",
    "for i in range(40):\n",
    "    x = np.array(sentence).reshape(1, -1)\n",
    "    preds = model.predict(x, verbose=0)[0]\n",
    "    next_word = np.argmax(preds)\n",
    "    \n",
    "    generated += [next_word]\n",
    "    sentence = sentence[1:] + [next_word]\n",
    "\n",
    "    if i%10 == 0:\n",
    "        print(' '.join([i2w[x] for x in generated]))\n",
    "        print('-'*60)\n"
   ]
  },
  {
   "cell_type": "code",
   "execution_count": null,
   "metadata": {
    "collapsed": true,
    "deletable": true,
    "editable": true
   },
   "outputs": [],
   "source": []
  }
 ],
 "metadata": {
  "kernelspec": {
   "display_name": "Python 3",
   "language": "python",
   "name": "python3"
  },
  "language_info": {
   "codemirror_mode": {
    "name": "ipython",
    "version": 3
   },
   "file_extension": ".py",
   "mimetype": "text/x-python",
   "name": "python",
   "nbconvert_exporter": "python",
   "pygments_lexer": "ipython3",
   "version": "3.4.3"
  },
  "latex_envs": {
   "LaTeX_envs_menu_present": true,
   "autocomplete": true,
   "bibliofile": "biblio.bib",
   "cite_by": "apalike",
   "current_citInitial": 1,
   "eqLabelWithNumbers": true,
   "eqNumInitial": 1,
   "hotkeys": {
    "equation": "Ctrl-E",
    "itemize": "Ctrl-I"
   },
   "labels_anchors": false,
   "latex_user_defs": false,
   "report_style_numbering": false,
   "user_envs_cfg": false
  },
  "toc": {
   "colors": {
    "hover_highlight": "#DAA520",
    "running_highlight": "#FF0000",
    "selected_highlight": "#FFD700"
   },
   "moveMenuLeft": true,
   "nav_menu": {
    "height": "12px",
    "width": "252px"
   },
   "navigate_menu": true,
   "number_sections": true,
   "sideBar": true,
   "threshold": 4,
   "toc_cell": false,
   "toc_section_display": "block",
   "toc_window_display": false,
   "widenNotebook": false
  }
 },
 "nbformat": 4,
 "nbformat_minor": 2
}
