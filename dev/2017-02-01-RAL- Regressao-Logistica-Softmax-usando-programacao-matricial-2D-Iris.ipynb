{
 "cells": [
  {
   "cell_type": "markdown",
   "metadata": {},
   "source": [
    "# Exemplo de Regressão Logística usando Softmax (Iris dataset) implementação matricial\n",
    "\n",
    "Utiliza uma rede neural de uma camada e função Softmax. A programação da rede, assim\n",
    "como o seu treinamento e predição utilizam programação matricial, sem fazer uso de\n",
    "bibliotecas de *machine learning*.\n",
    "\n",
    "O uso de apenas dois atributos permite visualização do espaço de atributos\n"
   ]
  },
  {
   "cell_type": "markdown",
   "metadata": {},
   "source": [
    "### Este tutorial foi inspirado na documentação do sklearn : [Logistic Regression 3-class Classifier](http://scikit-learn.org/stable/auto_examples/linear_model/plot_iris_logistic.html#sphx-glr-auto-examples-linear-model-plot-iris-logistic-py)\n",
    "\n",
    "Objetivo deste exemplo é codificar o método de Regressão Logística utilizando Softmax e\n",
    "gradiente descendente. As bibliotecas usadas são mínimas, principalmente as funções básicas\n",
    "matriciais dos pacotes `NumPy` e `Scipy`. As demais bibliotecas são usadas neste exemplo apenas para: `pandas` - para imprimir a matriz de confusão; `sklearn` - para carregar o conjunto de\n",
    "dados Iris; `matplotlib` - para mostrar gráfico e imagens."
   ]
  },
  {
   "cell_type": "code",
   "execution_count": 1,
   "metadata": {
    "collapsed": false
   },
   "outputs": [
    {
     "name": "stderr",
     "output_type": "stream",
     "text": [
      "Using Theano backend.\n"
     ]
    }
   ],
   "source": [
    "import numpy as np\n",
    "import scipy.sparse\n",
    "\n",
    "import pandas as pd\n",
    "import keras\n",
    "import matplotlib.pyplot as plt\n",
    "%matplotlib inline\n"
   ]
  },
  {
   "cell_type": "markdown",
   "metadata": {},
   "source": [
    "## Iris Flower Dataset\n",
    "\n",
    "[Wikipedia](https://en.wikipedia.org/wiki/Iris_flower_data_set): The data set consists of 50 samples from each of three species of Iris (*Iris setosa, Iris virginica and Iris versicolor*). Four features were measured from each sample: the **length and the width of the sepals and petals, in centimetres**. Based on the combination of these four features, Fisher developed a linear discriminant model to distinguish the species from each other."
   ]
  },
  {
   "cell_type": "markdown",
   "metadata": {},
   "source": [
    "### Escolhendo os dois atributos\n",
    "\n",
    "![](../figures/iris_petals_sepals.png)\n",
    "\n",
    "Dos 4 atributos disponíveis: comprimento e largura das sépalas e comprimento e largura das pétalas, vamos escolher o comprimento das sépalas e comprimento das pétalas. Isto é feito\n",
    "escolhendo os atributos de índice 0 e 2 dos dados da íris:"
   ]
  },
  {
   "cell_type": "code",
   "execution_count": 13,
   "metadata": {
    "collapsed": false
   },
   "outputs": [],
   "source": [
    "from sklearn import linear_model, datasets\n",
    "\n",
    "iris = datasets.load_iris()\n",
    "X = iris.data[:,::2]  # comprimento das sépalas e pétalas, indices 0 e 2\n",
    "X = np.hstack([np.ones((150,1)),X]) # incluído X00 como 1 para gerar bias no W\n",
    "Y = iris.target\n",
    "\n"
   ]
  },
  {
   "cell_type": "markdown",
   "metadata": {},
   "source": [
    "### Visualizando o dataset"
   ]
  },
  {
   "cell_type": "code",
   "execution_count": 14,
   "metadata": {
    "collapsed": false
   },
   "outputs": [
    {
     "data": {
      "image/png": "[encoded data removed]",
      "text/plain": [
       "<matplotlib.figure.Figure at 0x7f840818a2d0>"
      ]
     },
     "metadata": {},
     "output_type": "display_data"
    }
   ],
   "source": [
    "plt.figure(1, figsize=(4, 3))\n",
    "colors = np.array(['r','y','b'])\n",
    "plt.scatter(X[:, 1], X[:, 2], c=colors[Y])\n",
    "plt.xlabel('Comprimento sepalas')\n",
    "plt.ylabel('Comprimento petalas')\n",
    "plt.show()"
   ]
  },
  {
   "cell_type": "markdown",
   "metadata": {
    "collapsed": false
   },
   "source": [
    "### Função para codificar rótulos inteiros na codificação one-hot\n",
    "\n",
    "Esta função é também chamada de conversão para dados categóricos. Temos 3 classes de\n",
    "flores: Iris setosa, Iris virginica and Iris versicolor. Estas classes podem ser codificadas\n",
    "como classes 0, 1 e 2 (rótulos numéricos) ou na codificação com 3 variáveis binárias:\n",
    "\n",
    "<table border=\"1\">\n",
    "<tr>\n",
    "<td>Espécie</td>\n",
    "<td>Y</td>\n",
    "<td>Y_oh[0]</td>\n",
    "<td>Y_oh[1]</td>\n",
    "<td>Y_oh[2]</td>\n",
    "</tr>\n",
    "<tr>\n",
    "<td>Iris setosa</td>\n",
    "<td>0</td>\n",
    "<td>1</td>\n",
    "<td>0</td>\n",
    "<td>0</td>\n",
    "</tr>\n",
    "<tr>\n",
    "<td>Iris setosa</td>\n",
    "<td>1</td>\n",
    "<td>0</td>\n",
    "<td>1</td>\n",
    "<td>0</td>\n",
    "</tr>\n",
    "<tr>\n",
    "<td>Iris setosa</td>\n",
    "<td>2</td>\n",
    "<td>1</td>\n",
    "<td>0</td>\n",
    "<td>1</td>\n",
    "</tr>\n",
    "</table>\n",
    "\n"
   ]
  },
  {
   "cell_type": "markdown",
   "metadata": {
    "collapsed": false
   },
   "source": [
    "A função `oneHotIt` a seguir implementa de forma eficiente esta conversão, utilizando a\n",
    "facilidade de criação de arrays esparsos.\n",
    "\n",
    "A entrada da função é o vetor `Y` e a saída será um array com o mesmo número de\n",
    "linhas que o número de elementos de `Y` e a largura terá o número de colunas do\n",
    "maior rótulo disponível em `Y`:\n"
   ]
  },
  {
   "cell_type": "code",
   "execution_count": 4,
   "metadata": {
    "collapsed": false
   },
   "outputs": [],
   "source": [
    "def oneHotIt(Y):\n",
    "    m = Y.shape[0]\n",
    "    Y_oh = scipy.sparse.csr_matrix((np.ones(m), (Y, np.array(range(m)))))\n",
    "    Y_oh = np.array(Y_oh.todense()).T\n",
    "    return Y_oh"
   ]
  },
  {
   "cell_type": "markdown",
   "metadata": {},
   "source": [
    "Gerando vetor de rótulos no formato one-hot "
   ]
  },
  {
   "cell_type": "code",
   "execution_count": 15,
   "metadata": {
    "collapsed": false
   },
   "outputs": [
    {
     "name": "stdout",
     "output_type": "stream",
     "text": [
      "[[ 1.  0.  0.]\n",
      " [ 1.  0.  0.]\n",
      " [ 1.  0.  0.]\n",
      " [ 1.  0.  0.]\n",
      " [ 1.  0.  0.]]\n"
     ]
    }
   ],
   "source": [
    "Y_oh = oneHotIt(Y)\n",
    "# Mostrando os primeiros 5 destes valores\n",
    "print Y_oh[:5]"
   ]
  },
  {
   "cell_type": "markdown",
   "metadata": {},
   "source": [
    "Now we set the loaded data as our x and y variables for both the train and test sets."
   ]
  },
  {
   "cell_type": "markdown",
   "metadata": {
    "collapsed": false
   },
   "source": [
    "![](../figures/w0bias.png)\n",
    "![](https://sebastianraschka.com/images/faq/softmax_regression/logistic_regression_schematic.png)\n",
    "\n",
    "### Before we can get to training our model using the data, we will have to define a few functions that the training and testing process can use."
   ]
  },
  {
   "cell_type": "markdown",
   "metadata": {},
   "source": [
    "Função que calcula a transformação `softmax`:\n",
    "Recebe como entrada uma matriz dos *scores* no formato: linhas é igual número de amostras `n`\n",
    "e colunas igual ao número de classes `k`.\n",
    "\n",
    "`Softmax` calcula um exponencial normalizado. \n",
    "\n",
    "No resultado, a soma de cada linha referente à amostra `j` é 1, pois cada coluna\n",
    "representa a probabilidade de ser cada a classe `k`. \n",
    "\n",
    "$$ S^{(j)} = \\frac{\\exp(\\boldsymbol{z}^{(j)})}{\\sum_{i=0}^{k-1} \\exp(z^{(j)}_{i})} $$\n",
    "\n",
    "![](../figures/softmax_matrizes.png)"
   ]
  },
  {
   "cell_type": "code",
   "execution_count": 6,
   "metadata": {
    "collapsed": true
   },
   "outputs": [],
   "source": [
    "def softmax(Z):\n",
    "    # computes softmax for all samples, normalize among classes (columns)\n",
    "    # input z: scores; shape: samples rows x classes columns\n",
    "    # output sm: same shape of input\n",
    "    EZ = np.exp(Z)\n",
    "    S = EZ / EZ.sum(axis=1,keepdims=True)\n",
    "    return S"
   ]
  },
  {
   "cell_type": "markdown",
   "metadata": {},
   "source": [
    "Here we determine the predictions for each class when given a set of input data:\n",
    "X: n amostras x m attributes\n",
    "W: m attributes x k classes\n",
    "Y_hat: n amostras x k classes"
   ]
  },
  {
   "cell_type": "code",
   "execution_count": 7,
   "metadata": {
    "collapsed": false
   },
   "outputs": [],
   "source": [
    "def predict(X,W):\n",
    "    S = softmax(X.dot(W))\n",
    "    Y_hat = np.argmax(S,axis=1)\n",
    "    return Y_hat"
   ]
  },
  {
   "cell_type": "markdown",
   "metadata": {},
   "source": [
    "### Este é o laço principal da Regressão Logística por Softmax\n",
    "\n",
    "Os pesos são inicializados em zero, sem fator de regularização.\n",
    "Em cada iteração, a função a ser minimizada é calculada e os pesos são ajustados\n",
    "pelo técnica de gradiente descendente.\n",
    "\n",
    "A função a ser minimizada é a função $J$ de perda, que é baseada na Entropia Cruzada (*Cross Entropy*). Dado um conjunto de **amostras anotadas**, isto é, amostras $\\boldsymbol{X}$ com\n",
    "classe $\\boldsymbol{Y}$, encontrar os pesos $\\boldsymbol{W}$ que minimizam $J$:\n",
    "\n",
    "$$ J_{\\boldsymbol{X,Y}_{TRUE}}(\\boldsymbol{W}) = -\\frac{1}{n} \\sum \\boldsymbol{Y}_{TRUE} \\odot \\log{\\boldsymbol{S}(\\boldsymbol{XW})}$$\n",
    "onde $\\odot$ é multiplicação ponto-a-ponto de matrizes.\n",
    "\n",
    "A minimização é feita através do método de gradiente descendente. O gradiente de $J$ é dado por:\n",
    "\n",
    "$$ \\boldsymbol{\\Delta J(W)} = - \\frac{1}{n} \\boldsymbol{X}^T (\\boldsymbol{Y}_{TRUE} - \\boldsymbol{S(XW)}) $$ \n",
    "\n",
    "Os pesos são então ajustados em cada *batch* pela equação onde $\\eta$ é denominado de\n",
    "taxa de aprendizagem: *learning rate*:\n",
    "\n",
    "$$ \\boldsymbol{W} = \\boldsymbol{W} - \\eta \\boldsymbol{\\Delta J(W)} $$ \n",
    "\n",
    "A cada iteração no programa de minimização abaixo, os pesos são ajustados aplicando-se o\n",
    "gradiente descendente utilizando todo o conjunto de treinamento. Este esquema é denominado\n",
    "de \"batch gradient descent\".\n",
    "\n",
    "No programa a seguir, o $J$ é implementado pela variável `loss` e o gradiente $\\Delta J$ \n",
    "é implementado pela variável `Grad`."
   ]
  },
  {
   "cell_type": "code",
   "execution_count": 8,
   "metadata": {
    "collapsed": false
   },
   "outputs": [
    {
     "name": "stdout",
     "output_type": "stream",
     "text": [
      "W.shape: (3, 3)\n",
      "n: 150\n",
      "W: [[ 1.52460768  5.61473112 -7.1393388 ]\n",
      " [ 4.11741611 -0.12543194 -3.99198417]\n",
      " [-7.10287364 -0.22131854  7.32419219]]\n",
      "S.shape: (150, 3)\n",
      "loss.shape: ()\n",
      "Grad.shape: (3, 3)\n",
      "W.shape: (3, 3)\n",
      "Final loss: 0.10747711677\n"
     ]
    }
   ],
   "source": [
    "n = X.shape[0] # number of training examples\n",
    "m = X.shape[1] # number of attributes (features + 1(bias))\n",
    "k = 3          # number of classes\n",
    "W = np.zeros([m,k]) # n. de linhas é igual a número de atributos (features, pixels)\n",
    "print 'W.shape:', W.shape\n",
    "print 'n:',n\n",
    "lam = 0 # 1 sem regularização\n",
    "iterations = 10000\n",
    "learningRate = 1e-3 * 150\n",
    "losses = []\n",
    "for i in range(iterations):\n",
    "    scores = X.dot(W)\n",
    "    S = softmax(scores)\n",
    "    loss = (-1. / n) * np.sum(Y_oh * np.log(S)) + (lam/2) * (W*W).sum() \n",
    "    Grad = (-1. / n) * (X.T).dot(Y_oh - S) + lam*W \n",
    "    W = W - (learningRate * Grad)\n",
    "    losses.append(loss)\n",
    "    #print 'loss:',loss, loss2\n",
    "print 'W:',W\n",
    "print 'S.shape:', S.shape\n",
    "print 'loss.shape:',loss.shape\n",
    "print 'Grad.shape:',Grad.shape\n",
    "print 'W.shape:',W.shape\n",
    "print 'Final loss:',loss\n",
    "# usual dar loss de 317.25"
   ]
  },
  {
   "cell_type": "code",
   "execution_count": 9,
   "metadata": {
    "collapsed": false
   },
   "outputs": [
    {
     "data": {
      "text/plain": [
       "[<matplotlib.lines.Line2D at 0x7f8408e6a6d0>]"
      ]
     },
     "execution_count": 9,
     "metadata": {},
     "output_type": "execute_result"
    },
    {
     "data": {
      "image/png": "[encoded data removed]",
      "text/plain": [
       "<matplotlib.figure.Figure at 0x7f8408ef3110>"
      ]
     },
     "metadata": {},
     "output_type": "display_data"
    }
   ],
   "source": [
    "plt.plot(losses)"
   ]
  },
  {
   "cell_type": "markdown",
   "metadata": {},
   "source": [
    "### Now that we have trained our model, we can see how well it is able to perform on both the training and test sets:"
   ]
  },
  {
   "cell_type": "code",
   "execution_count": 10,
   "metadata": {
    "collapsed": false
   },
   "outputs": [
    {
     "name": "stdout",
     "output_type": "stream",
     "text": [
      "Training Accuracy:  0.96\n"
     ]
    }
   ],
   "source": [
    "def getAccuracy(X,W, Y):\n",
    "    Y_hat = predict(X,W)\n",
    "    accuracy = sum(Y_hat == Y)/(float(len(Y)))\n",
    "    return accuracy\n",
    "\n",
    "print 'Training Accuracy: ', getAccuracy(X,W,Y)\n"
   ]
  },
  {
   "cell_type": "markdown",
   "metadata": {
    "collapsed": false
   },
   "source": [
    "## Visualizando a regiões do classificador no espaço de atributos"
   ]
  },
  {
   "cell_type": "code",
   "execution_count": 11,
   "metadata": {
    "collapsed": false
   },
   "outputs": [
    {
     "data": {
      "image/png": "[encoded data removed]",
      "text/plain": [
       "<matplotlib.figure.Figure at 0x7f8408dcfc90>"
      ]
     },
     "metadata": {},
     "output_type": "display_data"
    }
   ],
   "source": [
    "h = .02  # step size in the mesh\n",
    "\n",
    "# Plot the decision boundary. For that, we will assign a color to each\n",
    "# point in the mesh [x_min, x_max]x[y_min, y_max].\n",
    "x_min, x_max = X[:, 1].min() - .5, X[:, 1].max() + .5\n",
    "y_min, y_max = X[:, 2].min() - .5, X[:, 2].max() + .5\n",
    "xx, yy = np.meshgrid(np.arange(x_min, x_max, h), np.arange(y_min, y_max, h))\n",
    "X_grid = np.c_[xx.ravel(), yy.ravel()]\n",
    "X_grid = np.hstack([np.ones((X_grid.shape[0],1)),X_grid]) # incluído X00 como 1 para gerar bias no W\n",
    "\n",
    "Z = predict(X_grid, W)\n",
    "\n",
    "# Put the result into a color plot\n",
    "Z = Z.reshape(xx.shape)\n",
    "plt.figure(1, figsize=(4, 3))\n",
    "plt.pcolormesh(xx, yy, Z, cmap=plt.cm.Paired)\n",
    "\n",
    "# Plot also the training points\n",
    "colors = np.array(['r','y','b'])\n",
    "plt.scatter(X[:, 1], X[:, 2], c=colors[Y], edgecolors='k', cmap=plt.cm.Paired)\n",
    "plt.xlabel('Sepal length')\n",
    "plt.ylabel('Sepal width')\n",
    "\n",
    "plt.xlim(xx.min(), xx.max())\n",
    "plt.ylim(yy.min(), yy.max())\n",
    "plt.xticks(())\n",
    "plt.yticks(())\n",
    "\n",
    "plt.show()"
   ]
  },
  {
   "cell_type": "code",
   "execution_count": null,
   "metadata": {
    "collapsed": true
   },
   "outputs": [],
   "source": []
  }
 ],
 "metadata": {
  "anaconda-cloud": {},
  "kernelspec": {
   "display_name": "Python [Root]",
   "language": "python",
   "name": "Python [Root]"
  },
  "language_info": {
   "codemirror_mode": {
    "name": "ipython",
    "version": 2
   },
   "file_extension": ".py",
   "mimetype": "text/x-python",
   "name": "python",
   "nbconvert_exporter": "python",
   "pygments_lexer": "ipython2",
   "version": "2.7.12"
  }
 },
 "nbformat": 4,
 "nbformat_minor": 0
}
