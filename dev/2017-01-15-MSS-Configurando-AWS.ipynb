{
 "cells": [
  {
   "cell_type": "markdown",
   "metadata": {},
   "source": [
    "---\n",
    "# Primeiro Passo - configuração do ambiente\n",
    "---\n",
    "\n",
    "Tutorial: http://docs.aws.amazon.com/AWSEC2/latest/UserGuide/get-set-up-for-amazon-ec2.html"
   ]
  },
  {
   "cell_type": "markdown",
   "metadata": {},
   "source": [
    "## Criação de um usuário IAM (Instance and Access Management)\n",
    "\n",
    "A Amazon não recomenda usar o login principal para esta finalidade."
   ]
  },
  {
   "cell_type": "markdown",
   "metadata": {},
   "source": [
    "* Acessar: https://console.aws.amazon.com/iam/;\n",
    "* Users -> Add User;\n",
    "* Escolher username;\n",
    "* Marcar a caixa \"AWS Management Console access\";\n",
    "* Definir senha;\n",
    "* Criar grupo e adicionar a adicionar a política: \"AdministratorAccess\", encontrada pela filtragem (ou adicionar ao grupo **rnpi**);\n",
    "* Finalizar criação;\n",
    "* Página de login será: https://your_aws_account_id.signin.aws.amazon.com/console/, onde your_aws_account_id é o ID da conta AWS."
   ]
  },
  {
   "cell_type": "markdown",
   "metadata": {},
   "source": [
    "## Criar um Key Pair\n",
    "\n",
    "Necessário para acessar a imagem mais tarde.\n",
    "\n",
    "É necessário ter o arquivo na máquina que fará o acesso e o único momento em que você consegue baixar este arquivo é na hora da criação do mesmo."
   ]
  },
  {
   "cell_type": "markdown",
   "metadata": {},
   "source": [
    "* Key Pairs -> Create Key Pair;\n",
    "* Definir um nome para o mesmo;\n",
    "* Baixar o arquivo .pem;\n",
    "* No terminal digitar: ``chmod 400 <your_user_name-key-pair-region_name>.pem`` para que somente o seu usuário tenha acesso."
   ]
  },
  {
   "cell_type": "markdown",
   "metadata": {},
   "source": [
    "## Utilizar VPC padrão\n",
    "\n",
    "Não sei bem o que faz, mas não parece ser necessário mexer nisso."
   ]
  },
  {
   "cell_type": "markdown",
   "metadata": {},
   "source": [
    "## Criar Security Group\n",
    "\n",
    "Pelo que entendi é necessário liberar acesso SSH para cada IP que vá tentar conectar-se à instância.\n",
    "\n",
    "Além disso adicionam-se algumas portas padrão e também adicionei a porta para acesso do Jupyter (que rodará através do Docker)"
   ]
  },
  {
   "cell_type": "markdown",
   "metadata": {},
   "source": [
    "* Security Groups -> Add Security Groups;\n",
    "* Escolher um nome para o mesmo;\n",
    "* Selecionar **Add Rule** e adicionar as seguintes regras:\n",
    "    * Type: HTTP, Source: Anywhere (0.0.0.0/0)\n",
    "    * Type: HTTPS, Source: Anywhere (0.0.0.0/0)\n",
    "    * Type: SSH, Source: My IP (...) - *não recomendado liberar para todos os IPs*\n",
    "    * Type: Custom TCP Rule, Port: ``<porta_jupyter>``, Source: Anywhere - *adicionado por mim*"
   ]
  },
  {
   "cell_type": "markdown",
   "metadata": {},
   "source": [
    "---\n",
    "# Segundo Passo - criação de uma instância\n",
    "---\n",
    "\n",
    "Tutorial: http://docs.aws.amazon.com/AWSEC2/latest/UserGuide/EC2_GetStarted.html"
   ]
  },
  {
   "cell_type": "markdown",
   "metadata": {},
   "source": [
    "* Acessar: https://console.aws.amazon.com/ec2/\n",
    "* Selecionar **Launch Instance**\n",
    "* Escolher a AMI (Amazon Machine Instance) - usei a padrão da Amazon\n",
    "* Escolher o tipo de instância (g2.2xlarge)\n",
    "* Review and Launch\n",
    "* Selecionar security group criado\n",
    "* Selecionar key pair criado\n",
    "* **Launch Instance** - vai inicializar a instância\n",
    "\n",
    "Para acessar a instância:\n",
    "\n",
    "* Acessar: https://console.aws.amazon.com/ec2/\n",
    "* Com o botão direito sobre a instância criada, selecionar **Connect** - não funciona no Chrome devido à remoção de algum suporte ao Java. Rodei com o Firefox.\n",
    "* No primeiro acesso é necessário configurar a chave .pem baixada e aceitar alguns termos\n",
    "* Após a inicialização do MindTerm, vem a instalação do Docker."
   ]
  },
  {
   "cell_type": "markdown",
   "metadata": {},
   "source": [
    "---\n",
    "# Terceiro Passo - instalação do Docker\n",
    "---\n",
    "\n",
    "Tutorial: http://docs.aws.amazon.com/AmazonECS/latest/developerguide/docker-basics.html"
   ]
  },
  {
   "cell_type": "markdown",
   "metadata": {},
   "source": [
    "No MindTerm digitar as seguintes linhas:\n",
    "\n",
    "* ``sudo yum update -y``\n",
    "* ``sudo yum install -y docker``\n",
    "* ``sudo service docker start``\n",
    "* ``sudo usermod -a -G docker ec2-user``\n",
    "\n",
    "Talvez seja necessário reiniciar o sistema para que as permissões sejam atualizadas:\n",
    "* ``sudo reboot``\n",
    "* ``docker info`` - mostrará se o docker está rodando"
   ]
  },
  {
   "cell_type": "markdown",
   "metadata": {},
   "source": [
    "---\n",
    "# Quarto Passo - rodando o Jupyter através do Docker\n",
    "---\n",
    "\n",
    "Tutorial: https://github.com/tensorflow/tensorflow/blob/master/tensorflow/examples/udacity/README.md"
   ]
  },
  {
   "cell_type": "markdown",
   "metadata": {},
   "source": [
    "Docker do curso de Deep Learning do Udacity:\n",
    "\n",
    "* ``docker run -p 8888:8888 --name tensorflow-udacity -it gcr.io/tensorflow/udacity-assignments:0.6.0``\n",
    "\n",
    "Onde 8888 é a porta configurada pelo Jupyter dentro do Docker, e também a porta configurada previamente com o grupo de segurança, para ser acessada de fora da máquina."
   ]
  },
  {
   "cell_type": "markdown",
   "metadata": {},
   "source": [
    "---\n",
    "# Quinto Passo - acesso ao Jupyter\n",
    "---"
   ]
  },
  {
   "cell_type": "markdown",
   "metadata": {},
   "source": [
    "O endereço a ser acessado é o endereço que está em Public DNS na linha da instância em execução, na página do console EC2.\n",
    "\n",
    "No formato ``<address>:8888`` ou a devida porta utilizada"
   ]
  },
  {
   "cell_type": "code",
   "execution_count": null,
   "metadata": {
    "collapsed": true
   },
   "outputs": [],
   "source": []
  }
 ],
 "metadata": {
  "kernelspec": {
   "display_name": "Python [Root]",
   "language": "python",
   "name": "Python [Root]"
  },
  "language_info": {
   "codemirror_mode": {
    "name": "ipython",
    "version": 3
   },
   "file_extension": ".py",
   "mimetype": "text/x-python",
   "name": "python",
   "nbconvert_exporter": "python",
   "pygments_lexer": "ipython3",
   "version": "3.5.1"
  }
 },
 "nbformat": 4,
 "nbformat_minor": 0
}
