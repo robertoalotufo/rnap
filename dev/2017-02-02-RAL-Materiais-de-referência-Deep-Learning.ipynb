{
 "cells": [
  {
   "cell_type": "markdown",
   "metadata": {},
   "source": [
    "# Materiais de referência em Deep Learning\n",
    "\n",
    "## Cursos\n",
    "\n",
    "- [CS231n: Convolutional Neural Networks for Visual Recognition](http://vision.stanford.edu/teaching/cs231n/) por Fei-Fei Li, Andrej Karpathy, Justin Johnson\n",
    "    \n",
    "    Trata-se de um excelente curso oferecido em Stanford. Ementa, slides e materiais estão\n",
    "    disponíveis: [Ementa CS231](http://cs231n.stanford.edu/syllabus.html)\n",
    "    \n",
    "\n",
    "## Livros\n",
    "\n",
    "- [Sebastian Raschka, Python Machine Learning, Packt Publishing, Sep 2015, 454 p.](https://www.packtpub.com/big-data-and-business-intelligence/python-machine-learning)\n",
    "\n",
    "## Demos\n",
    "\n",
    "- [Exemplo visual de rede convolucional aplicada no ImageNet rodando no seu browser](http://vision.stanford.edu/teaching/cs231n/)\n",
    "    \n",
    "    Esta demonstração utiliza ConvNetJS - implementação de rede convolucional em javascript\n",
    "\n",
    "## Artigos\n",
    "\n",
    "## Pesquisadores\n",
    "\n",
    "- [Andrej Karpathy](http://cs.stanford.edu/people/karpathy/)\n",
    "\n",
    "    Um dos pesquisadores mais jovens e com diversas contribuições. Vale a pena ver sua página\n",
    "    pessoal."
   ]
  }
 ],
 "metadata": {
  "kernelspec": {
   "display_name": "Python [Root]",
   "language": "python",
   "name": "Python [Root]"
  },
  "language_info": {
   "codemirror_mode": {
    "name": "ipython",
    "version": 2
   },
   "file_extension": ".py",
   "mimetype": "text/x-python",
   "name": "python",
   "nbconvert_exporter": "python",
   "pygments_lexer": "ipython2",
   "version": "2.7.12"
  }
 },
 "nbformat": 4,
 "nbformat_minor": 0
}
