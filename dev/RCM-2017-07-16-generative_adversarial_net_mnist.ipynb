{
 "cells": [
  {
   "cell_type": "code",
   "execution_count": 2,
   "metadata": {
    "collapsed": false
   },
   "outputs": [],
   "source": [
    "%matplotlib inline\n",
    "import matplotlib.pyplot as plot\n",
    "from IPython import display\n",
    "from IPython.core.pylabtools import figsize\n",
    "from __future__ import print_function\n",
    "\n",
    "# import json\n",
    "# import matplotlib\n",
    "# s = json.load(open(\"../../styles/bmh_matplotlibrc.json\"))\n",
    "# matplotlib.rcParams.update(s)\n",
    "\n",
    "import os\n",
    "import sys\n",
    "import glob\n",
    "import numpy as np\n",
    "import numpy.random as nr\n",
    "\n",
    "import keras\n",
    "from keras.callbacks import ModelCheckpoint\n",
    "from keras.layers import Dense, Input, Flatten, Dropout, Lambda\n",
    "from keras.layers import Conv2D, MaxPooling2D, Embedding\n",
    "from keras.layers.normalization import BatchNormalization\n",
    "from keras.models import Model, load_model, Sequential\n",
    "from keras.optimizers import (SGD, \n",
    "                              RMSprop, \n",
    "                              Adam, \n",
    "                              Adadelta, \n",
    "                              Adagrad)\n",
    "\n",
    "sys.path.append('../src')\n",
    "from my_keras_utilities import (get_available_gpus, \n",
    "                                load_model_and_history, \n",
    "                                save_model_and_history, \n",
    "                                TrainingPlotter)\n",
    "\n",
    "os.makedirs('../../models',exist_ok=True)\n",
    "np.set_printoptions(precision=3, linewidth=120, suppress=True)"
   ]
  },
  {
   "cell_type": "code",
   "execution_count": 3,
   "metadata": {
    "collapsed": false
   },
   "outputs": [
    {
     "name": "stdout",
     "output_type": "stream",
     "text": [
      "Backend:        tensorflow\n",
      "Data format:    channels_last\n",
      "Available GPUS: []\n"
     ]
    }
   ],
   "source": [
    "import keras.backend as K\n",
    "K.set_floatx('float32')\n",
    "\n",
    "print('Backend:        {}'.format(K.backend()))\n",
    "print('Data format:    {}'.format(K.image_data_format()))\n",
    "print('Available GPUS:', get_available_gpus())"
   ]
  },
  {
   "cell_type": "code",
   "execution_count": 1,
   "metadata": {
    "collapsed": false
   },
   "outputs": [
    {
     "name": "stderr",
     "output_type": "stream",
     "text": [
      "Using TensorFlow backend.\n"
     ]
    },
    {
     "name": "stdout",
     "output_type": "stream",
     "text": [
      "X_train shape: (60000, 784)\n"
     ]
    }
   ],
   "source": [
    "from keras.datasets import mnist\n",
    "\n",
    "(X_train, y_train), (X_test, y_test) = mnist.load_data()\n",
    "\n",
    "X_train = X_train.astype('float32') / 255.\n",
    "X_test = X_test.astype('float32') / 255.\n",
    "\n",
    "X_train = X_train.reshape(X_train.shape[0], -1)\n",
    "X_test = X_test.reshape(X_test.shape[0], -1)\n",
    "\n",
    "print('X_train shape:', X_train.shape)"
   ]
  },
  {
   "cell_type": "code",
   "execution_count": 13,
   "metadata": {
    "collapsed": false
   },
   "outputs": [
    {
     "name": "stdout",
     "output_type": "stream",
     "text": [
      "_________________________________________________________________\n",
      "Layer (type)                 Output Shape              Param #   \n",
      "=================================================================\n",
      "input_10 (InputLayer)        (None, 100)               0         \n",
      "_________________________________________________________________\n",
      "dense_13 (Dense)             (None, 128)               12928     \n",
      "_________________________________________________________________\n",
      "dense_14 (Dense)             (None, 784)               101136    \n",
      "=================================================================\n",
      "Total params: 114,064\n",
      "Trainable params: 114,064\n",
      "Non-trainable params: 0\n",
      "_________________________________________________________________\n",
      "_________________________________________________________________\n",
      "Layer (type)                 Output Shape              Param #   \n",
      "=================================================================\n",
      "input_11 (InputLayer)        (None, 784)               0         \n",
      "_________________________________________________________________\n",
      "dense_15 (Dense)             (None, 128)               100480    \n",
      "_________________________________________________________________\n",
      "dense_16 (Dense)             (None, 1)                 129       \n",
      "=================================================================\n",
      "Total params: 100,609\n",
      "Trainable params: 100,609\n",
      "Non-trainable params: 0\n",
      "_________________________________________________________________\n",
      "_________________________________________________________________\n",
      "Layer (type)                 Output Shape              Param #   \n",
      "=================================================================\n",
      "input_12 (InputLayer)        (None, 100)               0         \n",
      "_________________________________________________________________\n",
      "model_10 (Model)             (None, 784)               114064    \n",
      "_________________________________________________________________\n",
      "model_11 (Model)             (None, 1)                 100609    \n",
      "=================================================================\n",
      "Total params: 214,673\n",
      "Trainable params: 214,673\n",
      "Non-trainable params: 0\n",
      "_________________________________________________________________\n"
     ]
    }
   ],
   "source": [
    "def make_trainable(net, val=True):\n",
    "    net.trainable = val\n",
    "    for layer in net.layers:\n",
    "        layer.trainable = val\n",
    "\n",
    "# Generator\n",
    "G_in = Input(shape=(100,))\n",
    "G_h1 = Dense(128, activation='relu')(G_in)\n",
    "G_out = Dense(784, activation='sigmoid')(G_h1)\n",
    "G = Model(G_in, G_out)\n",
    "G.summary()\n",
    "             \n",
    "# Discriminator\n",
    "D_in = Input(shape=(784,))\n",
    "D_h1 = Dense(128, activation='relu')(D_in)\n",
    "D_out = Dense(1, activation='sigmoid')(D_h1)\n",
    "D = Model(D_in, D_out)\n",
    "D.compile(loss='binary_crossentropy', optimizer=Adam())\n",
    "D.summary()\n",
    "\n",
    "N_in = Input(shape=(100,))\n",
    "N_img = G(N_in)\n",
    "N_out = D(N_img)\n",
    "GAN = Model(N_in, N_out)\n",
    "GAN.compile(loss='binary_crossentropy', optimizer=Adam())\n",
    "GAN.summary()\n"
   ]
  },
  {
   "cell_type": "code",
   "execution_count": 26,
   "metadata": {
    "collapsed": true
   },
   "outputs": [],
   "source": [
    "losses = dict(g=[], d=[])\n",
    "\n",
    "def trainIt(nepochs, batch_size=32, pint=10):\n",
    "    \n",
    "    for i in range(nepochs):\n",
    "        \n",
    "        # Real images\n",
    "        real_images = X_train[np.random.randint(0, X_train.shape[0], size=batch_size)]\n",
    "        \n",
    "        # Fake images\n",
    "        fake_images = G.predict(np.random.uniform(0, 1, size=[batch_size, 100]))\n",
    "        \n",
    "        # Train discriminator these images\n",
    "        X = np.vstack((real_images, fake_images))\n",
    "        y = np.zeros([2*batch_size])\n",
    "        y[:batch_size] = 1\n",
    "        y[batch_size:] = 0\n",
    "        \n",
    "        make_trainable(D, True)\n",
    "        d_loss  = D.train_on_batch(X, y)\n",
    "        losses[\"d\"].append(d_loss)\n",
    "    \n",
    "        # Train Generator-Discriminator stack on input noise\n",
    "        noise_tr = np.random.uniform(0, 1, size=[batch_size, 100])\n",
    "        y2 = np.ones([batch_size])\n",
    "        \n",
    "        make_trainable(D, False)\n",
    "        g_loss = GAN.train_on_batch(noise_tr, y2)\n",
    "        losses[\"g\"].append(g_loss)\n",
    "        \n",
    "        if i%pint == 0:\n",
    "#             plot_loss(losses)\n",
    "#             plot_gen()\n",
    "            print('{:6d}: G_loss = {:.5f};  D_loss = {:.5f}'.format(i, g_loss, d_loss))\n",
    "            "
   ]
  },
  {
   "cell_type": "code",
   "execution_count": 27,
   "metadata": {
    "collapsed": false
   },
   "outputs": [
    {
     "name": "stdout",
     "output_type": "stream",
     "text": [
      "     0: G_loss = 0.21071;  D_loss = 1.01728\n",
      "  1000: G_loss = 0.21057;  D_loss = 1.01533\n",
      "  2000: G_loss = 0.21142;  D_loss = 1.03005\n",
      "  3000: G_loss = 0.21083;  D_loss = 1.03026\n",
      "  4000: G_loss = 0.21065;  D_loss = 1.01812\n",
      "  5000: G_loss = 0.21058;  D_loss = 1.01678\n",
      "  6000: G_loss = 0.21078;  D_loss = 1.01973\n",
      "  7000: G_loss = 0.21067;  D_loss = 1.01802\n",
      "  8000: G_loss = 0.21064;  D_loss = 1.01748\n",
      "  9000: G_loss = 0.21036;  D_loss = 1.01363\n",
      " 10000: G_loss = 0.21030;  D_loss = 1.01209\n",
      " 11000: G_loss = 0.21021;  D_loss = 1.01085\n",
      " 12000: G_loss = 0.21053;  D_loss = 1.01141\n",
      " 13000: G_loss = 0.20931;  D_loss = 0.99842\n",
      " 14000: G_loss = 0.20936;  D_loss = 0.99931\n",
      " 15000: G_loss = 0.20937;  D_loss = 0.99957\n",
      " 16000: G_loss = 0.20938;  D_loss = 0.99963\n",
      " 17000: G_loss = 0.20937;  D_loss = 0.99963\n",
      " 18000: G_loss = 0.20937;  D_loss = 0.99965\n",
      " 19000: G_loss = 0.20937;  D_loss = 0.99964\n",
      " 20000: G_loss = 0.20937;  D_loss = 0.99965\n",
      " 21000: G_loss = 0.20937;  D_loss = 0.99965\n",
      " 22000: G_loss = 0.20937;  D_loss = 0.99965\n",
      " 23000: G_loss = 0.20937;  D_loss = 0.99965\n",
      " 24000: G_loss = 0.20937;  D_loss = 0.99965\n",
      " 25000: G_loss = 0.20937;  D_loss = 0.99967\n",
      " 26000: G_loss = 0.20937;  D_loss = 0.99966\n",
      " 27000: G_loss = 0.20937;  D_loss = 0.99965\n",
      " 28000: G_loss = 0.20937;  D_loss = 0.99966\n",
      " 29000: G_loss = 0.20937;  D_loss = 0.99966\n",
      " 30000: G_loss = 0.20937;  D_loss = 0.99967\n",
      " 31000: G_loss = 0.20937;  D_loss = 0.99966\n",
      " 32000: G_loss = 0.20937;  D_loss = 0.99966\n",
      " 33000: G_loss = 0.20937;  D_loss = 0.99965\n",
      " 34000: G_loss = 0.20937;  D_loss = 0.99965\n",
      " 35000: G_loss = 0.20937;  D_loss = 0.99965\n",
      " 36000: G_loss = 0.20937;  D_loss = 0.99966\n",
      " 37000: G_loss = 0.20937;  D_loss = 0.99965\n",
      " 38000: G_loss = 0.20937;  D_loss = 0.99966\n",
      " 39000: G_loss = 0.20937;  D_loss = 0.99965\n",
      " 40000: G_loss = 0.20937;  D_loss = 0.99965\n",
      " 41000: G_loss = 0.20937;  D_loss = 0.99965\n",
      " 42000: G_loss = 0.20937;  D_loss = 0.99964\n",
      " 43000: G_loss = 0.20937;  D_loss = 0.99964\n",
      " 44000: G_loss = 0.20937;  D_loss = 0.99965\n",
      " 45000: G_loss = 0.20937;  D_loss = 0.99965\n",
      " 46000: G_loss = 0.20937;  D_loss = 0.99964\n",
      " 47000: G_loss = 0.20937;  D_loss = 0.99964\n",
      " 48000: G_loss = 0.20937;  D_loss = 0.99964\n",
      " 49000: G_loss = 0.20938;  D_loss = 0.99970\n",
      " 50000: G_loss = 0.20938;  D_loss = 0.99966\n",
      " 51000: G_loss = 0.20937;  D_loss = 0.99964\n",
      " 52000: G_loss = 0.20937;  D_loss = 0.99963\n",
      " 53000: G_loss = 0.20937;  D_loss = 0.99963\n",
      " 54000: G_loss = 0.20937;  D_loss = 0.99963\n",
      " 55000: G_loss = 0.20937;  D_loss = 0.99963\n",
      " 56000: G_loss = 0.20937;  D_loss = 0.99962\n",
      " 57000: G_loss = 0.20937;  D_loss = 0.99962\n",
      " 58000: G_loss = 0.20937;  D_loss = 0.99962\n",
      " 59000: G_loss = 0.20937;  D_loss = 0.99964\n",
      " 60000: G_loss = 0.20938;  D_loss = 0.99965\n",
      " 61000: G_loss = 0.20937;  D_loss = 0.99963\n",
      " 62000: G_loss = 0.20937;  D_loss = 0.99963\n",
      " 63000: G_loss = 0.20937;  D_loss = 0.99963\n",
      " 64000: G_loss = 0.20937;  D_loss = 0.99963\n",
      " 65000: G_loss = 0.20937;  D_loss = 0.99963\n",
      " 66000: G_loss = 0.20938;  D_loss = 0.99963\n",
      " 67000: G_loss = 0.20938;  D_loss = 0.99963\n",
      " 68000: G_loss = 0.20938;  D_loss = 0.99962\n",
      " 69000: G_loss = 0.20938;  D_loss = 0.99962\n",
      " 70000: G_loss = 0.20938;  D_loss = 0.99962\n",
      " 71000: G_loss = 0.20938;  D_loss = 0.99963\n",
      " 72000: G_loss = 0.20937;  D_loss = 0.99963\n",
      " 73000: G_loss = 0.20938;  D_loss = 0.99963\n",
      " 74000: G_loss = 0.20938;  D_loss = 0.99963\n",
      " 75000: G_loss = 0.20938;  D_loss = 0.99964\n",
      " 76000: G_loss = 0.20938;  D_loss = 0.99963\n",
      " 77000: G_loss = 0.20938;  D_loss = 0.99962\n",
      " 78000: G_loss = 0.20938;  D_loss = 0.99963\n",
      " 79000: G_loss = 0.20938;  D_loss = 0.99962\n",
      " 80000: G_loss = 0.20938;  D_loss = 0.99963\n",
      " 81000: G_loss = 0.20938;  D_loss = 0.99962\n",
      " 82000: G_loss = 0.20938;  D_loss = 0.99963\n",
      " 83000: G_loss = 0.20938;  D_loss = 0.99963\n",
      " 84000: G_loss = 0.20938;  D_loss = 0.99963\n",
      " 85000: G_loss = 0.20938;  D_loss = 0.99963\n",
      " 86000: G_loss = 0.20938;  D_loss = 0.99963\n",
      " 87000: G_loss = 0.20938;  D_loss = 0.99963\n",
      " 88000: G_loss = 0.20937;  D_loss = 0.99964\n",
      " 89000: G_loss = 0.20938;  D_loss = 0.99964\n",
      " 90000: G_loss = 0.20937;  D_loss = 0.99963\n",
      " 91000: G_loss = 0.20935;  D_loss = 0.99969\n",
      " 92000: G_loss = 0.20937;  D_loss = 0.99965\n",
      " 93000: G_loss = 0.20938;  D_loss = 0.99965\n",
      " 94000: G_loss = 0.20937;  D_loss = 0.99964\n",
      " 95000: G_loss = 0.20937;  D_loss = 0.99964\n",
      " 96000: G_loss = 0.20937;  D_loss = 0.99963\n",
      " 97000: G_loss = 0.20937;  D_loss = 0.99963\n",
      " 98000: G_loss = 0.20938;  D_loss = 0.99963\n",
      " 99000: G_loss = 0.20938;  D_loss = 0.99963\n"
     ]
    }
   ],
   "source": [
    "try:\n",
    "    trainIt(100000, pint=1000)\n",
    "except:\n",
    "    pass"
   ]
  },
  {
   "cell_type": "code",
   "execution_count": 28,
   "metadata": {
    "collapsed": false
   },
   "outputs": [
    {
     "data": {
      "image/png": "[encoded data removed]",
      "text/plain": [
       "<matplotlib.figure.Figure at 0x12f8d6f60>"
      ]
     },
     "metadata": {},
     "output_type": "display_data"
    }
   ],
   "source": [
    "fake_images = G.predict(np.random.uniform(0, 1, size=[20, 100])).reshape(20, 28, 28)\n",
    "\n",
    "figsize(11, 10)\n",
    "for i, img in enumerate(fake_images):\n",
    "    plot.subplot(4, 5, i+1)\n",
    "    plot.imshow(img, cmap=plot.cm.gray)\n",
    "    plot.axis('off')    \n"
   ]
  },
  {
   "cell_type": "code",
   "execution_count": null,
   "metadata": {
    "collapsed": true
   },
   "outputs": [],
   "source": []
  }
 ],
 "metadata": {
  "kernelspec": {
   "display_name": "Python 3",
   "language": "python",
   "name": "python3"
  },
  "language_info": {
   "codemirror_mode": {
    "name": "ipython",
    "version": 3
   },
   "file_extension": ".py",
   "mimetype": "text/x-python",
   "name": "python",
   "nbconvert_exporter": "python",
   "pygments_lexer": "ipython3",
   "version": "3.6.0"
  },
  "latex_envs": {
   "LaTeX_envs_menu_present": true,
   "autocomplete": true,
   "bibliofile": "biblio.bib",
   "cite_by": "apalike",
   "current_citInitial": 1,
   "eqLabelWithNumbers": true,
   "eqNumInitial": 1,
   "hotkeys": {
    "equation": "Ctrl-E",
    "itemize": "Ctrl-I"
   },
   "labels_anchors": false,
   "latex_user_defs": false,
   "report_style_numbering": false,
   "user_envs_cfg": false
  },
  "toc": {
   "colors": {
    "hover_highlight": "#DAA520",
    "navigate_num": "#000000",
    "navigate_text": "#333333",
    "running_highlight": "#FF0000",
    "selected_highlight": "#FFD700",
    "sidebar_border": "#EEEEEE",
    "wrapper_background": "#FFFFFF"
   },
   "moveMenuLeft": true,
   "nav_menu": {
    "height": "12px",
    "width": "252px"
   },
   "navigate_menu": true,
   "number_sections": true,
   "sideBar": true,
   "threshold": 4,
   "toc_cell": false,
   "toc_section_display": "block",
   "toc_window_display": false,
   "widenNotebook": false
  }
 },
 "nbformat": 4,
 "nbformat_minor": 2
}
