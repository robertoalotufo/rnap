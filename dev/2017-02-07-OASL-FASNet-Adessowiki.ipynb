{
 "cells": [
  {
   "cell_type": "markdown",
   "metadata": {},
   "source": [
    "---\n",
    "# FASNet: Face Anti-Spoofing Network\n",
    "---\n",
    "\n",
    "From: https://github.com/OeslleLucena/FASNet\n",
    "\n",
    "A FASNet é uma rede treinada para detecção de ataques spoofing em faces. Essa arquitetura foi baseada na arquitetura da CNN VGG-16, tereinada no ImageNet, alterando-se as últimas camadas totalmente conectadas. No seu treinamento foi realizado um fine-tuning a partir do terceiro bloco.\n",
    "\n",
    "Organização dos dados nas pastas:\n",
    "\n",
    "```\n",
    "dados/\n",
    "    treino/\n",
    "        real/ \n",
    "            001.jpg\n",
    "            002.jpg\n",
    "            ...\n",
    "        ataque/\n",
    "            001.jpg\n",
    "            002.jpg\n",
    "            ...\n",
    "    validação/\n",
    "        real/\n",
    "            001.jpg\n",
    "            002.jpg\n",
    "            ...\n",
    "        ataque/\n",
    "            001.jpg\n",
    "            002.jpg\n",
    "            ...\n",
    "```\n",
    "\n",
    "Arquitetura da VGG-16\n",
    "![](https://blog.keras.io/img/imgclf/vgg16_original.png)\n"
   ]
  },
  {
   "cell_type": "code",
   "execution_count": 27,
   "metadata": {
    "collapsed": false
   },
   "outputs": [],
   "source": [
    "from __future__ import print_function\n",
    "import numpy as np\n",
    "np.random.seed(1337)  # Para Reprodutibilidade\n",
    "import os\n",
    "os.environ['THEANO_FLAGS'] = \"device=gpu0,floatX=float32\"    \n",
    "import theano"
   ]
  },
  {
   "cell_type": "markdown",
   "metadata": {},
   "source": [
    "# Módulos a serem utilizados"
   ]
  },
  {
   "cell_type": "code",
   "execution_count": 28,
   "metadata": {
    "collapsed": false
   },
   "outputs": [],
   "source": [
    "%matplotlib inline\n",
    "import matplotlib.pyplot as plt \n",
    "import time\n",
    "import h5py\n",
    "import numpy as np\n",
    "from keras.preprocessing.image import ImageDataGenerator,load_img,img_to_array\n",
    "from keras import optimizers\n",
    "from keras.models import Sequential\n",
    "from keras.layers import Convolution2D, MaxPooling2D, ZeroPadding2D\n",
    "from keras.layers import Activation, Dropout, Flatten, Dense\n",
    "from keras import callbacks\n",
    "from keras import backend as K\n",
    "from keras.preprocessing.image import load_img,img_to_array\n",
    "import glob\n",
    "from sklearn.metrics import confusion_matrix\n",
    "\n",
    "K.set_image_dim_ordering('th')"
   ]
  },
  {
   "cell_type": "markdown",
   "metadata": {},
   "source": [
    "# Treinando a FASNet"
   ]
  },
  {
   "cell_type": "markdown",
   "metadata": {},
   "source": [
    "## Configurações básicas (Caminho, tamanho das entradas, etc)"
   ]
  },
  {
   "cell_type": "code",
   "execution_count": 29,
   "metadata": {
    "collapsed": true
   },
   "outputs": [],
   "source": [
    "# Caminho pesos da VGG-16\n",
    "weights_path = '/home/adessowiki/Development/Oeslle/NUAADatabase/vgg16_weights.h5'\n",
    "\n",
    "# Caminho para os pesos da FASNet\n",
    "top_model_weights_path = 'FASNetFtWeights18.h5'\n",
    "\n",
    "# Dimensão das imagens de entrada\n",
    "img_width, img_height = 96, 96\n",
    "\n",
    "# Número de camadas em que os pesos ficaram inalterados (congelados) durante o fine-tuning\n",
    "nFreeze = 18\n",
    "\n",
    "# Caminho para a pasta de treino\n",
    "train_data_dir = '/home/adessowiki/Development/Oeslle/REPLAY-FULL-aligned-images/train'\n",
    "\n",
    "# Caminho para a pasta de validação\n",
    "validation_data_dir = '/home/adessowiki/Development/Oeslle/REPLAY-FULL-aligned-images/val'\n",
    "\n",
    "# Número de amostras no treino\n",
    "nb_train_samples = (8470 + 26539)\n",
    "\n",
    "# Número de amostras na validação\n",
    "nb_validation_samples = (2118 + 6635)\n",
    "\n",
    "# Número de épocas\n",
    "nb_epoch = 50"
   ]
  },
  {
   "cell_type": "markdown",
   "metadata": {},
   "source": [
    "## Funções a serem utilizados no treinamento"
   ]
  },
  {
   "cell_type": "code",
   "execution_count": 24,
   "metadata": {
    "collapsed": false
   },
   "outputs": [],
   "source": [
    "# Carrega o modelo da VGG-16 com seus devidos pesos sem as camadas totalmente conectadas\n",
    "def get_tr_vgg_model(weights_path, img_width, img_height):\n",
    "    \n",
    "    model = Sequential()\n",
    "    model.add(ZeroPadding2D((1, 1), input_shape=(3, img_width, img_height)))\n",
    "\n",
    "    model.add(Convolution2D(64, 3, 3, activation='relu', name='conv1_1'))\n",
    "    model.add(ZeroPadding2D((1, 1)))\n",
    "    model.add(Convolution2D(64, 3, 3, activation='relu', name='conv1_2'))\n",
    "    model.add(MaxPooling2D((2, 2), strides=(2, 2)))\n",
    "\n",
    "    model.add(ZeroPadding2D((1, 1)))\n",
    "    model.add(Convolution2D(128, 3, 3, activation='relu', name='conv2_1'))\n",
    "    model.add(ZeroPadding2D((1, 1)))\n",
    "    model.add(Convolution2D(128, 3, 3, activation='relu', name='conv2_2'))\n",
    "    model.add(MaxPooling2D((2, 2), strides=(2, 2)))\n",
    "\n",
    "    model.add(ZeroPadding2D((1, 1)))\n",
    "    model.add(Convolution2D(256, 3, 3, activation='relu', name='conv3_1'))\n",
    "    model.add(ZeroPadding2D((1, 1)))\n",
    "    model.add(Convolution2D(256, 3, 3, activation='relu', name='conv3_2'))\n",
    "    model.add(ZeroPadding2D((1, 1)))\n",
    "    model.add(Convolution2D(256, 3, 3, activation='relu', name='conv3_3'))\n",
    "    model.add(MaxPooling2D((2, 2), strides=(2, 2)))\n",
    "\n",
    "    model.add(ZeroPadding2D((1, 1)))\n",
    "    model.add(Convolution2D(512, 3, 3, activation='relu', name='conv4_1'))\n",
    "    model.add(ZeroPadding2D((1, 1)))\n",
    "    model.add(Convolution2D(512, 3, 3, activation='relu', name='conv4_2'))\n",
    "    model.add(ZeroPadding2D((1, 1)))\n",
    "    model.add(Convolution2D(512, 3, 3, activation='relu', name='conv4_3'))\n",
    "    model.add(MaxPooling2D((2, 2), strides=(2, 2)))\n",
    "\n",
    "    model.add(ZeroPadding2D((1, 1)))\n",
    "    model.add(Convolution2D(512, 3, 3, activation='relu', name='conv5_1'))\n",
    "    model.add(ZeroPadding2D((1, 1)))\n",
    "    model.add(Convolution2D(512, 3, 3, activation='relu', name='conv5_2'))\n",
    "    model.add(ZeroPadding2D((1, 1)))\n",
    "    model.add(Convolution2D(512, 3, 3, activation='relu', name='conv5_3'))\n",
    "    model.add(MaxPooling2D((2, 2), strides=(2, 2)))\n",
    "\n",
    "    # Carrega os pesos necesários até o último bloco da VGG-15 anterior as camadas densas\n",
    "    assert os.path.exists(weights_path), 'Model weights not found (see \"weights_path\" variable in script).'\n",
    "    f = h5py.File(weights_path)\n",
    "    for k in range(f.attrs['nb_layers']):\n",
    "        if k >= len(model.layers):\n",
    "            break\n",
    "        g = f['layer_{}'.format(k)]\n",
    "        weights = [g['param_{}'.format(p)] for p in range(g.attrs['nb_params'])]\n",
    "        model.layers[k].set_weights(weights)\n",
    "    f.close()\n",
    "    print ('Model loaded.')\n",
    "    \n",
    "    return model\n",
    "\n",
    "# Adiciona novas camadas totalmente conecetadas as quais serão utilizadas no fine-tuning\n",
    "def add_top_layers(model):\n",
    "\n",
    "    top_model = Sequential()\n",
    "    top_model.add(Flatten(input_shape=model.output_shape[1:]))\n",
    "    top_model.add(Dense(256, activation='relu'))\n",
    "    top_model.add(Dropout(0.5))\n",
    "    top_model.add(Dense(1, activation='sigmoid'))\n",
    "\n",
    "    model.add(top_model)\n",
    "    \n",
    "    return model\n",
    "\n",
    "# Executa o treino\n",
    "def run_train(model):\n",
    "    \n",
    "    start_time = time.time()\n",
    "    \n",
    "    # Congela as camadas até o terceiro bloco da VGG-16\n",
    "    for layer in model.layers[:nFreeze]:\n",
    "        layer.trainable = False\n",
    "\n",
    "    # Compila o modelo\n",
    "    model.compile(loss='binary_crossentropy',\n",
    "              optimizer=optimizers.Adam(lr=0.0001, beta_1=0.9, beta_2=0.999, epsilon=1e-08, decay=1e-6),\n",
    "              metrics=['accuracy'])\n",
    "    \n",
    "    print ('Model compiled.')\n",
    "        \n",
    "    # Aumento de dados para evitar overfitting\n",
    "    train_datagen = ImageDataGenerator(\n",
    "            rescale=1./255,\n",
    "            rotation_range=40,\n",
    "            width_shift_range=0.2,\n",
    "            height_shift_range=0.2,\n",
    "            shear_range=0.2,\n",
    "            zoom_range=0.2,\n",
    "            horizontal_flip=True,\n",
    "            vertical_flip = True,\n",
    "            fill_mode='nearest')\n",
    "\n",
    "    test_datagen = ImageDataGenerator(rescale=1./255)\n",
    "\n",
    "    # Leitura dos dados pelo diretório\n",
    "    train_generator = train_datagen.flow_from_directory(\n",
    "            train_data_dir,\n",
    "            target_size=(img_height, img_width),\n",
    "            batch_size=100,\n",
    "            class_mode='binary')\n",
    "\n",
    "    validation_generator = test_datagen.flow_from_directory(\n",
    "            validation_data_dir,\n",
    "            target_size=(img_height, img_width),\n",
    "            batch_size=100,\n",
    "            class_mode='binary')\n",
    "    \n",
    "\n",
    "    print ('\\nFine-tuning top layers...\\n')\n",
    "\n",
    "    # Early Stopping usado caso o valor da acurácia de validação não mude em 10 épocas\n",
    "    earlyStopping = callbacks.EarlyStopping(monitor='val_acc',\n",
    "                                           patience=10, \n",
    "                                           verbose=0, mode='auto')\n",
    "\n",
    "    # Fit no modelo\n",
    "    history = model.fit_generator(\n",
    "           train_generator,\n",
    "           callbacks=[earlyStopping],\n",
    "           samples_per_epoch=nb_train_samples,\n",
    "           nb_epoch=nb_epoch,\n",
    "           validation_data=validation_generator,\n",
    "    nb_val_samples=nb_validation_samples)\n",
    "\n",
    "    model.save_weights(top_model_weights_path)\n",
    "    \n",
    "    print ('\\nDone fine-tuning, have a nice day!')\n",
    "    print(\"\\nExecution time %s seconds\" % (time.time() - start_time))\n",
    "    \n",
    "    return history\n",
    "\n",
    "def plot_curves(history):\n",
    "    \n",
    "    # Histórico da acurácia\n",
    "    plt.plot(history.history['acc'])\n",
    "    plt.plot(history.history['val_acc'])\n",
    "    plt.title('Acurácia')\n",
    "    plt.ylabel('accuracy')\n",
    "    plt.xlabel('epoch')\n",
    "    plt.legend(['train', 'val'], loc='upper left')\n",
    "    plt.show()\n",
    "    \n",
    "    #  Histórico do loss\n",
    "    plt.plot(history.history['loss'])\n",
    "    plt.plot(history.history['val_loss'])\n",
    "    plt.title('Erro')\n",
    "    plt.ylabel('loss')\n",
    "    plt.xlabel('epoch')\n",
    "    plt.legend(['train', 'val'], loc='upper left')\n",
    "    plt.show()"
   ]
  },
  {
   "cell_type": "code",
   "execution_count": 10,
   "metadata": {
    "collapsed": false
   },
   "outputs": [
    {
     "name": "stdout",
     "output_type": "stream",
     "text": [
      "Model loaded.\n",
      "Model compiled.\n",
      "Found 35011 images belonging to 2 classes.\n",
      "Found 8758 images belonging to 2 classes.\n",
      "\n",
      "Fine-tuning top layers...\n",
      "\n",
      "Epoch 1/50\n",
      "35011/35009 [==============================] - 505s - loss: 0.0870 - acc: 0.9644 - val_loss: 0.0011 - val_acc: 0.9999\n",
      "Epoch 2/50\n",
      "35011/35009 [==============================] - 503s - loss: 0.0206 - acc: 0.9927 - val_loss: 9.0434e-04 - val_acc: 0.9998\n",
      "Epoch 3/50\n",
      "35011/35009 [==============================] - 503s - loss: 0.0078 - acc: 0.9974 - val_loss: 3.9284e-04 - val_acc: 0.9998\n",
      "Epoch 4/50\n",
      "35011/35009 [==============================] - 503s - loss: 0.0103 - acc: 0.9968 - val_loss: 0.0051 - val_acc: 0.9982\n",
      "Epoch 5/50\n",
      "35011/35009 [==============================] - 503s - loss: 0.0079 - acc: 0.9973 - val_loss: 8.6603e-05 - val_acc: 1.0000\n",
      "Epoch 6/50\n",
      "35011/35009 [==============================] - 503s - loss: 0.0091 - acc: 0.9969 - val_loss: 7.3287e-05 - val_acc: 1.0000\n",
      "Epoch 7/50\n",
      "35011/35009 [==============================] - 503s - loss: 0.0057 - acc: 0.9983 - val_loss: 4.2965e-06 - val_acc: 1.0000\n",
      "Epoch 8/50\n",
      "35011/35009 [==============================] - 503s - loss: 0.0107 - acc: 0.9961 - val_loss: 3.4596e-04 - val_acc: 1.0000\n",
      "Epoch 9/50\n",
      "35011/35009 [==============================] - 503s - loss: 0.0082 - acc: 0.9973 - val_loss: 3.6377e-05 - val_acc: 1.0000\n",
      "Epoch 10/50\n",
      "35011/35009 [==============================] - 503s - loss: 0.0041 - acc: 0.9985 - val_loss: 0.0029 - val_acc: 0.9989\n",
      "Epoch 11/50\n",
      "35011/35009 [==============================] - 503s - loss: 0.0036 - acc: 0.9988 - val_loss: 0.0012 - val_acc: 1.0000\n",
      "Epoch 12/50\n",
      "35011/35009 [==============================] - 503s - loss: 0.0046 - acc: 0.9986 - val_loss: 7.4989e-05 - val_acc: 1.0000\n",
      "Epoch 13/50\n",
      "35011/35009 [==============================] - 503s - loss: 0.0027 - acc: 0.9992 - val_loss: 5.8968e-04 - val_acc: 0.9999\n",
      "Epoch 14/50\n",
      "35011/35009 [==============================] - 503s - loss: 0.0032 - acc: 0.9988 - val_loss: 1.0112e-06 - val_acc: 1.0000\n",
      "Epoch 15/50\n",
      "35011/35009 [==============================] - 503s - loss: 0.0058 - acc: 0.9980 - val_loss: 8.6902e-08 - val_acc: 1.0000\n",
      "Epoch 16/50\n",
      "35011/35009 [==============================] - 503s - loss: 0.0053 - acc: 0.9983 - val_loss: 6.1854e-06 - val_acc: 1.0000\n",
      "\n",
      "Done fine-tuning, have a nice day!\n",
      "\n",
      "Execution time 8068.92240787 seconds\n"
     ]
    },
    {
     "name": "stderr",
     "output_type": "stream",
     "text": [
      "/home/adessowiki/Virtualenvs/theano/local/lib/python2.7/site-packages/keras/engine/training.py:1462: UserWarning: Epoch comprised more than `samples_per_epoch` samples, which might affect learning results. Set `samples_per_epoch` correctly to avoid this warning.\n",
      "  warnings.warn('Epoch comprised more than '\n"
     ]
    }
   ],
   "source": [
    "if __name__ == \"__main__\":\n",
    "   \n",
    "    vgg16_tr_model = get_tr_vgg_model(weights_path, img_width, img_height)\n",
    "    vgg16_tr_model = add_top_layers(vgg16_tr_model)\n",
    "    \n",
    "    # Fine-tuning no modelo \n",
    "    history = run_train(vgg16_tr_model)\n",
    "    \n"
   ]
  },
  {
   "cell_type": "markdown",
   "metadata": {},
   "source": [
    "## Curvas de Aprendizado"
   ]
  },
  {
   "cell_type": "code",
   "execution_count": 25,
   "metadata": {
    "collapsed": false
   },
   "outputs": [
    {
     "data": {
      "image/png": "[encoded data removed]",
      "text/plain": [
       "<matplotlib.figure.Figure at 0x7f132b184a90>"
      ]
     },
     "metadata": {},
     "output_type": "display_data"
    },
    {
     "data": {
      "image/png": "[encoded data removed]",
      "text/plain": [
       "<matplotlib.figure.Figure at 0x7f1318ea9e50>"
      ]
     },
     "metadata": {},
     "output_type": "display_data"
    }
   ],
   "source": [
    "plot_curves(history)"
   ]
  },
  {
   "cell_type": "markdown",
   "metadata": {},
   "source": [
    "# Test"
   ]
  },
  {
   "cell_type": "code",
   "execution_count": 30,
   "metadata": {
    "collapsed": false
   },
   "outputs": [],
   "source": [
    "def load_model(weightsPath,img_width,img_height):\n",
    "    \n",
    "    #VGG-16 model\n",
    "    model = Sequential()\n",
    "   \n",
    "    model.add(ZeroPadding2D((1, 1), input_shape=(3, img_width, img_height)))\n",
    "    model.add(Convolution2D(64, 3, 3, activation='relu', name='conv1_1'))\n",
    "    model.add(ZeroPadding2D((1, 1)))\n",
    "    model.add(Convolution2D(64, 3, 3, activation='relu', name='conv1_2'))\n",
    "    model.add(MaxPooling2D((2, 2), strides=(2, 2)))\n",
    "\n",
    "    model.add(ZeroPadding2D((1, 1)))\n",
    "    model.add(Convolution2D(128, 3, 3, activation='relu', name='conv2_1'))\n",
    "    model.add(ZeroPadding2D((1, 1)))\n",
    "    model.add(Convolution2D(128, 3, 3, activation='relu', name='conv2_2'))\n",
    "    model.add(MaxPooling2D((2, 2), strides=(2, 2)))\n",
    "\n",
    "    model.add(ZeroPadding2D((1, 1)))\n",
    "    model.add(Convolution2D(256, 3, 3, activation='relu', name='conv3_1'))\n",
    "    model.add(ZeroPadding2D((1, 1)))\n",
    "    model.add(Convolution2D(256, 3, 3, activation='relu', name='conv3_2'))\n",
    "    model.add(ZeroPadding2D((1, 1)))\n",
    "    model.add(Convolution2D(256, 3, 3, activation='relu', name='conv3_3'))\n",
    "    model.add(MaxPooling2D((2, 2), strides=(2, 2)))\n",
    "\n",
    "    model.add(ZeroPadding2D((1, 1)))\n",
    "    model.add(Convolution2D(512, 3, 3, activation='relu', name='conv4_1'))\n",
    "    model.add(ZeroPadding2D((1, 1)))\n",
    "    model.add(Convolution2D(512, 3, 3, activation='relu', name='conv4_2'))\n",
    "    model.add(ZeroPadding2D((1, 1)))\n",
    "    model.add(Convolution2D(512, 3, 3, activation='relu', name='conv4_3'))\n",
    "    model.add(MaxPooling2D((2, 2), strides=(2, 2)))\n",
    "\n",
    "    model.add(ZeroPadding2D((1, 1)))\n",
    "    model.add(Convolution2D(512, 3, 3, activation='relu', name='conv5_1'))\n",
    "    model.add(ZeroPadding2D((1, 1)))\n",
    "    model.add(Convolution2D(512, 3, 3, activation='relu', name='conv5_2'))\n",
    "    model.add(ZeroPadding2D((1, 1)))\n",
    "    model.add(Convolution2D(512, 3, 3, activation='relu', name='conv5_3'))\n",
    "    model.add(MaxPooling2D((2, 2), strides=(2, 2)))\n",
    "    \n",
    "    # Top-model for anti-spoofing\n",
    "    top_model = Sequential()\n",
    "    top_model.add(Flatten(input_shape=model.output_shape[1:]))\n",
    "    top_model.add(Dense(256, activation='relu'))\n",
    "    top_model.add(Dropout(0.5))\n",
    "    top_model.add(Dense(1, activation='sigmoid'))\n",
    "    #\n",
    "    \n",
    "    model.add(top_model)\n",
    "    \n",
    "    if weightsPath:\n",
    "        model.load_weights(weightsPath)\n",
    "    else:\n",
    "        print ('Could not load model!')\n",
    "    \n",
    "    return model\n",
    "\n",
    "def read_preprocess_image(imgPath,img_width,img_height):\n",
    "      \n",
    "    img = load_img(imgPath,target_size=(img_width,img_height))\n",
    "    imgArray = img_to_array(img)\n",
    "    imgArray = imgArray.reshape(1,3,img_width, img_height)\n",
    "    imgArray = imgArray/float(255)\n",
    "    \n",
    "    return imgArray"
   ]
  },
  {
   "cell_type": "markdown",
   "metadata": {},
   "source": [
    "## Predição para uma imagem"
   ]
  },
  {
   "cell_type": "code",
   "execution_count": 34,
   "metadata": {
    "collapsed": false
   },
   "outputs": [
    {
     "name": "stdout",
     "output_type": "stream",
     "text": [
      "Label 0\n"
     ]
    }
   ],
   "source": [
    "if __name__ == \"__main__\":\n",
    "    \n",
    "    # Carregamento dos parâmetros\n",
    "    imgPath = '/home/adessowiki/Development/Oeslle/REPLAY-FULL-aligned-images/test/Class0/client009_session01_webcam_authenticate_adverse_1.mov001.png'\n",
    "   \n",
    "    # Leitura e pré-processamento da imagem\n",
    "    img = read_preprocess_image(imgPath,img_width,img_height)\n",
    "\n",
    "    # Carregamento dos pesos\n",
    "    model = load_model(top_model_weights_path,img_width,img_height)\n",
    "\n",
    "    # Predição da Classe\n",
    "    opt = optimizers.Adam(lr=0.0001, beta_1=0.9, beta_2=0.999, epsilon=1e-08, decay=1e-6)\n",
    "    model.compile(loss='binary_crossentropy',\n",
    "              optimizer=opt,\n",
    "              metrics=['accuracy'])\n",
    "\n",
    "    outLabel = int(model.predict_classes(img,verbose=0))\n",
    "    print (\"Label\", outLabel)\n",
    "   \n",
    "    "
   ]
  },
  {
   "cell_type": "markdown",
   "metadata": {},
   "source": [
    "## Predição e Estatística para todo o dataset de teste"
   ]
  },
  {
   "cell_type": "code",
   "execution_count": 38,
   "metadata": {
    "collapsed": false
   },
   "outputs": [
    {
     "name": "stdout",
     "output_type": "stream",
     "text": [
      "Conf. Mat : [[12822   562]\n",
      " [   45 41795]]\n",
      "ACC = 0.989008402144\n",
      "HTER = 0.021533\n",
      "Done!\n",
      "\n",
      "Execution time 1783.63743591 seconds\n"
     ]
    }
   ],
   "source": [
    "if __name__ == \"__main__\":\n",
    "\n",
    "    start_time = time.time()\n",
    "    \n",
    "    # Diretório com as imagens de teste\n",
    "    testDataDir = '/home/adessowiki/Development/Oeslle/REPLAY-FULL-aligned-images/test'\n",
    "    \n",
    "    # Carregamento dos pesos\n",
    "    model = load_model(top_model_weights_path,img_width,img_height)\n",
    "\n",
    "    testNames = np.array([])\n",
    "    true = np.asarray(glob.glob(os.path.join(testDataDir, 'Class0/*.png'))) # Class0 igual a real\n",
    "    fake = np.asarray(glob.glob(os.path.join(testDataDir, 'Class1/*.png'))) # Class1 igual a ataques\n",
    "    testNames = np.append(true,fake)\n",
    "\n",
    "    # Predições\n",
    "    predictions = np.array([])\n",
    "\n",
    "    for im in testNames:\n",
    "        img = load_img(im,target_size=(img_width,img_height))\n",
    "        imgArray = img_to_array(img)\n",
    "        imgArray = imgArray.reshape(1,3,img_width, img_height)\n",
    "        imgArray = imgArray/float(255) \n",
    "        predictions = np.append(predictions,model.predict_classes(imgArray,batch_size = 50,verbose=0))\n",
    "\n",
    "    np.save(open('predictionsFT18REPLAY.npy', 'w'), predictions)\n",
    "\n",
    "    # Gerando os rótulos verdadeiros\n",
    "    testLabels = np.array([0] * (true.shape[0]) + [1] * (fake.shape[0]))\n",
    "    \n",
    "    # Matriz de confusão\n",
    "    cMat = confusion_matrix(testLabels, predictions)\n",
    "    FNR = float(cMat[1][0])/(cMat[1][1] + cMat[1][0])\n",
    "    FPR = float(cMat[0][1])/(cMat[0][0] + cMat[0][1])\n",
    "    HTER = (FPR + FNR)/2\n",
    "\n",
    "    print (\"Conf. Mat :\", cMat)\n",
    "    print (\"ACC =\", float(cMat[0,0] + cMat[1,1])/(cMat[0,0] + cMat[1,1] + cMat[1,0] + cMat[0,1]) )\n",
    "    print (\"HTER = %f\" % HTER)\n",
    "\n",
    "    print ('Done!')\n",
    "    print(\"\\nExecution time %s seconds\" % (time.time() - start_time))"
   ]
  },
  {
   "cell_type": "code",
   "execution_count": null,
   "metadata": {
    "collapsed": true
   },
   "outputs": [],
   "source": []
  }
 ],
 "metadata": {
  "kernelspec": {
   "display_name": "Python 2",
   "language": "python",
   "name": "python2"
  },
  "language_info": {
   "codemirror_mode": {
    "name": "ipython",
    "version": 2
   },
   "file_extension": ".py",
   "mimetype": "text/x-python",
   "name": "python",
   "nbconvert_exporter": "python",
   "pygments_lexer": "ipython2",
   "version": "2.7.6"
  }
 },
 "nbformat": 4,
 "nbformat_minor": 0
}
