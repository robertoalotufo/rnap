{
 "cells": [
  {
   "cell_type": "code",
   "execution_count": 73,
   "metadata": {
    "collapsed": false,
    "deletable": true,
    "editable": true
   },
   "outputs": [],
   "source": [
    "%matplotlib inline\n",
    "import matplotlib.pyplot as plot\n",
    "from IPython import display\n",
    "from __future__ import print_function\n",
    "\n",
    "import os\n",
    "import sys\n",
    "import numpy as np\n",
    "import numpy.random as nr\n",
    "\n",
    "from keras.utils import to_categorical\n",
    "from keras.layers import Dense, Input, Flatten, Dropout\n",
    "from keras.layers import Conv1D, MaxPooling1D, Embedding, GlobalMaxPooling1D\n",
    "from keras.models import Model, Sequential\n"
   ]
  },
  {
   "cell_type": "markdown",
   "metadata": {},
   "source": [
    "<img src = '../figures/Embedding_1.png',width=700pt></img>"
   ]
  },
  {
   "cell_type": "code",
   "execution_count": 74,
   "metadata": {
    "collapsed": false
   },
   "outputs": [
    {
     "name": "stdout",
     "output_type": "stream",
     "text": [
      "_________________________________________________________________\n",
      "Layer (type)                 Output Shape              Param #   \n",
      "=================================================================\n",
      "embedding_11 (Embedding)     (None, 10, 5)             100       \n",
      "=================================================================\n",
      "Total params: 100\n",
      "Trainable params: 100\n",
      "Non-trainable params: 0\n",
      "_________________________________________________________________\n"
     ]
    }
   ],
   "source": [
    "nb_words = 20\n",
    "nb_feats = 5\n",
    "seq_len = 10\n",
    "\n",
    "model = Sequential()\n",
    "model.add(Embedding(nb_words, nb_feats, input_length=seq_len))\n",
    "model.summary()"
   ]
  },
  {
   "cell_type": "code",
   "execution_count": 75,
   "metadata": {
    "collapsed": false,
    "deletable": true,
    "editable": true
   },
   "outputs": [
    {
     "data": {
      "text/plain": [
       "(array([[ 0,  0,  0,  0,  0],\n",
       "        [ 1,  2,  3,  4,  5],\n",
       "        [ 2,  4,  6,  8, 10],\n",
       "        [ 3,  6,  9, 12, 15],\n",
       "        [ 4,  8, 12, 16, 20]]), (20, 5), dtype('int64'))"
      ]
     },
     "execution_count": 75,
     "metadata": {},
     "output_type": "execute_result"
    }
   ],
   "source": [
    "W = np.arange(nb_words).reshape(-1,1).dot(np.arange(1,nb_feats+1).reshape(1,-1))\n",
    "\n",
    "model.set_weights([W])\n",
    "W[:5,:], W.shape, W.dtype"
   ]
  },
  {
   "cell_type": "code",
   "execution_count": 76,
   "metadata": {
    "collapsed": false,
    "deletable": true,
    "editable": true
   },
   "outputs": [
    {
     "name": "stdout",
     "output_type": "stream",
     "text": [
      "(1, 10)\n"
     ]
    },
    {
     "data": {
      "text/plain": [
       "(array([[[19, 38, 57, 76, 95],\n",
       "         [10, 20, 30, 40, 50],\n",
       "         [ 0,  0,  0,  0,  0],\n",
       "         [ 1,  2,  3,  4,  5],\n",
       "         [ 7, 14, 21, 28, 35],\n",
       "         [ 5, 10, 15, 20, 25],\n",
       "         [ 0,  0,  0,  0,  0],\n",
       "         [ 1,  2,  3,  4,  5],\n",
       "         [15, 30, 45, 60, 75],\n",
       "         [ 2,  4,  6,  8, 10]]]), (1, 10, 5))"
      ]
     },
     "execution_count": 76,
     "metadata": {},
     "output_type": "execute_result"
    }
   ],
   "source": [
    "sequences = np.array([[19, 10, 0, 1, 7, 5, 0, 1, 15, 2]])\n",
    "print(sequences.shape)\n",
    "p = model.predict(sequences).astype(np.int)\n",
    "p, p.shape"
   ]
  },
  {
   "cell_type": "markdown",
   "metadata": {},
   "source": [
    "<img src='../figures/Embedding_neural.png', width = 400pt></img>"
   ]
  },
  {
   "cell_type": "code",
   "execution_count": 77,
   "metadata": {
    "collapsed": false
   },
   "outputs": [
    {
     "data": {
      "text/plain": [
       "array([[[0, 0, 0, 0, 0, 0, 0, 0, 0, 0, 0, 0, 0, 0, 0, 0, 0, 0, 0, 1],\n",
       "        [0, 0, 0, 0, 0, 0, 0, 0, 0, 0, 1, 0, 0, 0, 0, 0, 0, 0, 0, 0],\n",
       "        [1, 0, 0, 0, 0, 0, 0, 0, 0, 0, 0, 0, 0, 0, 0, 0, 0, 0, 0, 0],\n",
       "        [0, 1, 0, 0, 0, 0, 0, 0, 0, 0, 0, 0, 0, 0, 0, 0, 0, 0, 0, 0],\n",
       "        [0, 0, 0, 0, 0, 0, 0, 1, 0, 0, 0, 0, 0, 0, 0, 0, 0, 0, 0, 0],\n",
       "        [0, 0, 0, 0, 0, 1, 0, 0, 0, 0, 0, 0, 0, 0, 0, 0, 0, 0, 0, 0],\n",
       "        [1, 0, 0, 0, 0, 0, 0, 0, 0, 0, 0, 0, 0, 0, 0, 0, 0, 0, 0, 0],\n",
       "        [0, 1, 0, 0, 0, 0, 0, 0, 0, 0, 0, 0, 0, 0, 0, 0, 0, 0, 0, 0],\n",
       "        [0, 0, 0, 0, 0, 0, 0, 0, 0, 0, 0, 0, 0, 0, 0, 1, 0, 0, 0, 0],\n",
       "        [0, 0, 1, 0, 0, 0, 0, 0, 0, 0, 0, 0, 0, 0, 0, 0, 0, 0, 0, 0]]])"
      ]
     },
     "execution_count": 77,
     "metadata": {},
     "output_type": "execute_result"
    }
   ],
   "source": [
    "# to_categorical faz um ravel() antes de criar os one-hots\n",
    "nb_seqs,seq_len = sequences.shape\n",
    "a = to_categorical(sequences, nb_words).reshape(nb_seqs, seq_len, nb_words).astype(np.int)\n",
    "a"
   ]
  },
  {
   "cell_type": "code",
   "execution_count": 78,
   "metadata": {
    "collapsed": false,
    "deletable": true,
    "editable": true
   },
   "outputs": [
    {
     "data": {
      "text/plain": [
       "(array([[[19, 38, 57, 76, 95],\n",
       "         [10, 20, 30, 40, 50],\n",
       "         [ 0,  0,  0,  0,  0],\n",
       "         [ 1,  2,  3,  4,  5],\n",
       "         [ 7, 14, 21, 28, 35],\n",
       "         [ 5, 10, 15, 20, 25],\n",
       "         [ 0,  0,  0,  0,  0],\n",
       "         [ 1,  2,  3,  4,  5],\n",
       "         [15, 30, 45, 60, 75],\n",
       "         [ 2,  4,  6,  8, 10]]]), (1, 10, 5))"
      ]
     },
     "execution_count": 78,
     "metadata": {},
     "output_type": "execute_result"
    }
   ],
   "source": [
    "pp = np.dot(a, W).astype(np.int)\n",
    "pp, pp.shape"
   ]
  },
  {
   "cell_type": "code",
   "execution_count": 79,
   "metadata": {
    "collapsed": false,
    "deletable": true,
    "editable": true
   },
   "outputs": [
    {
     "name": "stdout",
     "output_type": "stream",
     "text": [
      "(2, 10)\n"
     ]
    },
    {
     "data": {
      "text/plain": [
       "(array([[[19, 38, 57, 76, 95],\n",
       "         [10, 20, 30, 40, 50],\n",
       "         [ 0,  0,  0,  0,  0],\n",
       "         [ 1,  2,  3,  4,  5],\n",
       "         [ 7, 14, 21, 28, 35],\n",
       "         [ 5, 10, 15, 20, 25],\n",
       "         [ 0,  0,  0,  0,  0],\n",
       "         [ 1,  2,  3,  4,  5],\n",
       "         [15, 30, 45, 60, 75],\n",
       "         [ 2,  4,  6,  8, 10]],\n",
       " \n",
       "        [[ 9, 18, 27, 36, 45],\n",
       "         [ 8, 16, 24, 32, 40],\n",
       "         [ 7, 14, 21, 28, 35],\n",
       "         [ 6, 12, 18, 24, 30],\n",
       "         [ 5, 10, 15, 20, 25],\n",
       "         [ 4,  8, 12, 16, 20],\n",
       "         [ 3,  6,  9, 12, 15],\n",
       "         [15, 30, 45, 60, 75],\n",
       "         [ 1,  2,  3,  4,  5],\n",
       "         [ 1,  2,  3,  4,  5]]]), (2, 10, 5))"
      ]
     },
     "execution_count": 79,
     "metadata": {},
     "output_type": "execute_result"
    }
   ],
   "source": [
    "sequences = np.array([[19, 10, 0, 1, 7, 5, 0, 1, 15, 2],\n",
    "                      [9, 8, 7, 6, 5, 4, 3, 15, 1, 1]])\n",
    "print(sequences.shape)\n",
    "p = model.predict(sequences).astype(int)\n",
    "p, p.shape"
   ]
  },
  {
   "cell_type": "code",
   "execution_count": 80,
   "metadata": {
    "collapsed": false,
    "deletable": true,
    "editable": true,
    "scrolled": false
   },
   "outputs": [
    {
     "name": "stdout",
     "output_type": "stream",
     "text": [
      "_________________________________________________________________\n",
      "Layer (type)                 Output Shape              Param #   \n",
      "=================================================================\n",
      "embedding_12 (Embedding)     (None, 10, 5)             100       \n",
      "_________________________________________________________________\n",
      "conv1d_6 (Conv1D)            (None, 8, 1)              16        \n",
      "=================================================================\n",
      "Total params: 116\n",
      "Trainable params: 116\n",
      "Non-trainable params: 0\n",
      "_________________________________________________________________\n"
     ]
    },
    {
     "data": {
      "text/plain": [
       "array([[[ 44.58876038],\n",
       "        [ 20.0692482 ],\n",
       "        [ -3.27068806],\n",
       "        [  3.13346505],\n",
       "        [ 17.14089394],\n",
       "        [  9.76227283],\n",
       "        [ -7.628304  ],\n",
       "        [  9.1053791 ]]], dtype=float32)"
      ]
     },
     "execution_count": 80,
     "metadata": {},
     "output_type": "execute_result"
    }
   ],
   "source": [
    "model = Sequential()\n",
    "model.add(Embedding(nb_words, nb_feats, input_length=seq_len))\n",
    "model.add(Conv1D(1, 3))\n",
    "model.set_weights([W])\n",
    "model.summary()\n",
    "\n",
    "model.predict(np.array([[19, 10, 0, 1, 7, 5, 0, 1, 15, 2]]))\n"
   ]
  },
  {
   "cell_type": "code",
   "execution_count": 81,
   "metadata": {
    "collapsed": false,
    "deletable": true,
    "editable": true
   },
   "outputs": [
    {
     "name": "stdout",
     "output_type": "stream",
     "text": [
      "_________________________________________________________________\n",
      "Layer (type)                 Output Shape              Param #   \n",
      "=================================================================\n",
      "embedding_13 (Embedding)     (None, 10, 5)             100       \n",
      "_________________________________________________________________\n",
      "global_max_pooling1d_4 (Glob (None, 5)                 0         \n",
      "=================================================================\n",
      "Total params: 100\n",
      "Trainable params: 100\n",
      "Non-trainable params: 0\n",
      "_________________________________________________________________\n"
     ]
    },
    {
     "data": {
      "text/plain": [
       "array([[ 19.,  38.,  57.,  76.,  95.]], dtype=float32)"
      ]
     },
     "execution_count": 81,
     "metadata": {},
     "output_type": "execute_result"
    }
   ],
   "source": [
    "model = Sequential()\n",
    "model.add(Embedding(nb_words, nb_feats, input_length=seq_len))\n",
    "model.add(GlobalMaxPooling1D())\n",
    "model.set_weights([W])\n",
    "model.summary()\n",
    "\n",
    "model.predict(np.array([[19, 10, 0, 1, 7, 5, 0, 1, 15, 2]]))\n"
   ]
  },
  {
   "cell_type": "code",
   "execution_count": null,
   "metadata": {
    "collapsed": true,
    "deletable": true,
    "editable": true
   },
   "outputs": [],
   "source": []
  }
 ],
 "metadata": {
  "kernelspec": {
   "display_name": "Python 3",
   "language": "python",
   "name": "python3"
  },
  "language_info": {
   "codemirror_mode": {
    "name": "ipython",
    "version": 3
   },
   "file_extension": ".py",
   "mimetype": "text/x-python",
   "name": "python",
   "nbconvert_exporter": "python",
   "pygments_lexer": "ipython3",
   "version": "3.6.0"
  },
  "latex_envs": {
   "LaTeX_envs_menu_present": true,
   "autocomplete": true,
   "bibliofile": "biblio.bib",
   "cite_by": "apalike",
   "current_citInitial": 1,
   "eqLabelWithNumbers": true,
   "eqNumInitial": 1,
   "hotkeys": {
    "equation": "Ctrl-E",
    "itemize": "Ctrl-I"
   },
   "labels_anchors": false,
   "latex_user_defs": false,
   "report_style_numbering": false,
   "user_envs_cfg": false
  },
  "toc": {
   "colors": {
    "hover_highlight": "#DAA520",
    "running_highlight": "#FF0000",
    "selected_highlight": "#FFD700"
   },
   "moveMenuLeft": true,
   "nav_menu": {
    "height": "12px",
    "width": "252px"
   },
   "navigate_menu": true,
   "number_sections": true,
   "sideBar": true,
   "threshold": 4,
   "toc_cell": false,
   "toc_section_display": "block",
   "toc_window_display": false,
   "widenNotebook": false
  }
 },
 "nbformat": 4,
 "nbformat_minor": 2
}
