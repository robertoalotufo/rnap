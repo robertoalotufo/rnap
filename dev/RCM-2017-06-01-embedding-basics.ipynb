{
 "cells": [
  {
   "cell_type": "code",
   "execution_count": 1,
   "metadata": {
    "collapsed": false,
    "deletable": true,
    "editable": true
   },
   "outputs": [
    {
     "name": "stderr",
     "output_type": "stream",
     "text": [
      "Using TensorFlow backend.\n"
     ]
    }
   ],
   "source": [
    "%matplotlib inline\n",
    "import matplotlib.pyplot as plot\n",
    "from IPython import display\n",
    "from __future__ import print_function\n",
    "\n",
    "import os\n",
    "import sys\n",
    "import numpy as np\n",
    "import numpy.random as nr\n",
    "\n",
    "from keras.utils import to_categorical\n",
    "from keras.layers import Dense, Input, Flatten, Dropout\n",
    "from keras.layers import Conv1D, MaxPooling1D, Embedding, GlobalMaxPooling1D\n",
    "from keras.models import Model, Sequential\n"
   ]
  },
  {
   "cell_type": "code",
   "execution_count": 2,
   "metadata": {
    "collapsed": false,
    "deletable": true,
    "editable": true
   },
   "outputs": [
    {
     "name": "stdout",
     "output_type": "stream",
     "text": [
      "_________________________________________________________________\n",
      "Layer (type)                 Output Shape              Param #   \n",
      "=================================================================\n",
      "embedding_1 (Embedding)      (None, 10, 5)             500       \n",
      "=================================================================\n",
      "Total params: 500\n",
      "Trainable params: 500\n",
      "Non-trainable params: 0\n",
      "_________________________________________________________________\n"
     ]
    },
    {
     "data": {
      "text/plain": [
       "(array([[0, 0, 0, 0, 0],\n",
       "        [1, 1, 1, 1, 1],\n",
       "        [2, 2, 2, 2, 2],\n",
       "        [3, 3, 3, 3, 3],\n",
       "        [4, 4, 4, 4, 4]]), (100, 5))"
      ]
     },
     "execution_count": 2,
     "metadata": {},
     "output_type": "execute_result"
    }
   ],
   "source": [
    "nb_words = 100\n",
    "nb_feats = 5\n",
    "seq_len = 10\n",
    "\n",
    "model = Sequential()\n",
    "model.add(Embedding(nb_words, nb_feats, input_length=seq_len))\n",
    "model.summary()\n",
    "\n",
    "W = np.tile(np.arange(nb_words), nb_feats).reshape(nb_feats, nb_words).T\n",
    "\n",
    "model.set_weights([W])\n",
    "W[:5,:], W.shape"
   ]
  },
  {
   "cell_type": "code",
   "execution_count": 3,
   "metadata": {
    "collapsed": false,
    "deletable": true,
    "editable": true
   },
   "outputs": [
    {
     "data": {
      "text/plain": [
       "(array([[[ 2.,  2.,  2.,  2.,  2.],\n",
       "         [ 1.,  1.,  1.,  1.,  1.],\n",
       "         [ 3.,  3.,  3.,  3.,  3.],\n",
       "         [ 4.,  4.,  4.,  4.,  4.],\n",
       "         [ 5.,  5.,  5.,  5.,  5.],\n",
       "         [ 2.,  2.,  2.,  2.,  2.],\n",
       "         [ 1.,  1.,  1.,  1.,  1.],\n",
       "         [ 3.,  3.,  3.,  3.,  3.],\n",
       "         [ 9.,  9.,  9.,  9.,  9.],\n",
       "         [ 7.,  7.,  7.,  7.,  7.]]], dtype=float32), (1, 10, 5))"
      ]
     },
     "execution_count": 3,
     "metadata": {},
     "output_type": "execute_result"
    }
   ],
   "source": [
    "sequences = np.array([[2, 1, 3, 4, 5, 2, 1, 3, 9, 7]])\n",
    "nb_seqs, _ = sequences.shape\n",
    "p = model.predict(sequences)\n",
    "p, p.shape"
   ]
  },
  {
   "cell_type": "code",
   "execution_count": 4,
   "metadata": {
    "collapsed": false,
    "deletable": true,
    "editable": true
   },
   "outputs": [
    {
     "data": {
      "text/plain": [
       "(array([[[ 2.,  2.,  2.,  2.,  2.],\n",
       "         [ 1.,  1.,  1.,  1.,  1.],\n",
       "         [ 3.,  3.,  3.,  3.,  3.],\n",
       "         [ 4.,  4.,  4.,  4.,  4.],\n",
       "         [ 5.,  5.,  5.,  5.,  5.],\n",
       "         [ 2.,  2.,  2.,  2.,  2.],\n",
       "         [ 1.,  1.,  1.,  1.,  1.],\n",
       "         [ 3.,  3.,  3.,  3.,  3.],\n",
       "         [ 9.,  9.,  9.,  9.,  9.],\n",
       "         [ 7.,  7.,  7.,  7.,  7.]],\n",
       " \n",
       "        [[ 9.,  9.,  9.,  9.,  9.],\n",
       "         [ 8.,  8.,  8.,  8.,  8.],\n",
       "         [ 7.,  7.,  7.,  7.,  7.],\n",
       "         [ 6.,  6.,  6.,  6.,  6.],\n",
       "         [ 5.,  5.,  5.,  5.,  5.],\n",
       "         [ 4.,  4.,  4.,  4.,  4.],\n",
       "         [ 3.,  3.,  3.,  3.,  3.],\n",
       "         [ 2.,  2.,  2.,  2.,  2.],\n",
       "         [ 1.,  1.,  1.,  1.,  1.],\n",
       "         [ 1.,  1.,  1.,  1.,  1.]]], dtype=float32), (2, 10, 5))"
      ]
     },
     "execution_count": 4,
     "metadata": {},
     "output_type": "execute_result"
    }
   ],
   "source": [
    "sequences = np.array([[2, 1, 3, 4, 5, 2, 1, 3, 9, 7],\n",
    "                      [9, 8, 7, 6, 5, 4, 3, 2, 1, 1]])\n",
    "nb_seqs, _ = sequences.shape\n",
    "p = model.predict(sequences)\n",
    "p, p.shape"
   ]
  },
  {
   "cell_type": "code",
   "execution_count": 5,
   "metadata": {
    "collapsed": false,
    "deletable": true,
    "editable": true
   },
   "outputs": [
    {
     "data": {
      "text/plain": [
       "(array([[[ 2.,  2.,  2.,  2.,  2.],\n",
       "         [ 1.,  1.,  1.,  1.,  1.],\n",
       "         [ 3.,  3.,  3.,  3.,  3.],\n",
       "         [ 4.,  4.,  4.,  4.,  4.],\n",
       "         [ 5.,  5.,  5.,  5.,  5.],\n",
       "         [ 2.,  2.,  2.,  2.,  2.],\n",
       "         [ 1.,  1.,  1.,  1.,  1.],\n",
       "         [ 3.,  3.,  3.,  3.,  3.],\n",
       "         [ 9.,  9.,  9.,  9.,  9.],\n",
       "         [ 7.,  7.,  7.,  7.,  7.]],\n",
       " \n",
       "        [[ 9.,  9.,  9.,  9.,  9.],\n",
       "         [ 8.,  8.,  8.,  8.,  8.],\n",
       "         [ 7.,  7.,  7.,  7.,  7.],\n",
       "         [ 6.,  6.,  6.,  6.,  6.],\n",
       "         [ 5.,  5.,  5.,  5.,  5.],\n",
       "         [ 4.,  4.,  4.,  4.,  4.],\n",
       "         [ 3.,  3.,  3.,  3.,  3.],\n",
       "         [ 2.,  2.,  2.,  2.,  2.],\n",
       "         [ 1.,  1.,  1.,  1.,  1.],\n",
       "         [ 1.,  1.,  1.,  1.,  1.]]]), (2, 10, 5))"
      ]
     },
     "execution_count": 5,
     "metadata": {},
     "output_type": "execute_result"
    }
   ],
   "source": [
    "# to_categorical faz um ravel() antes de criar os one-hots\n",
    "a = to_categorical(sequences, nb_words).reshape(nb_seqs, seq_len, nb_words)\n",
    "pp = np.dot(a, W)\n",
    "pp, pp.shape"
   ]
  },
  {
   "cell_type": "code",
   "execution_count": 6,
   "metadata": {
    "collapsed": false,
    "deletable": true,
    "editable": true,
    "scrolled": false
   },
   "outputs": [
    {
     "name": "stdout",
     "output_type": "stream",
     "text": [
      "_________________________________________________________________\n",
      "Layer (type)                 Output Shape              Param #   \n",
      "=================================================================\n",
      "embedding_2 (Embedding)      (None, 10, 5)             500       \n",
      "_________________________________________________________________\n",
      "conv1d_1 (Conv1D)            (None, 8, 2)              32        \n",
      "=================================================================\n",
      "Total params: 532\n",
      "Trainable params: 532\n",
      "Non-trainable params: 0\n",
      "_________________________________________________________________\n"
     ]
    },
    {
     "data": {
      "text/plain": [
       "array([[[ 1.07130241,  0.27366447],\n",
       "        [ 1.85898256,  0.98257858],\n",
       "        [ 2.40612602,  0.60883653],\n",
       "        [ 1.89604783, -0.70369828],\n",
       "        [ 0.84111482, -1.42720759],\n",
       "        [ 1.07130241,  0.27366447],\n",
       "        [ 3.16937852,  2.60109496],\n",
       "        [ 4.26655149,  1.32922018]]], dtype=float32)"
      ]
     },
     "execution_count": 6,
     "metadata": {},
     "output_type": "execute_result"
    }
   ],
   "source": [
    "model = Sequential()\n",
    "model.add(Embedding(nb_words, nb_feats, input_length=seq_len))\n",
    "model.add(Conv1D(2, 3))\n",
    "model.set_weights([W])\n",
    "model.summary()\n",
    "\n",
    "model.predict(np.array([[2, 1, 3, 4, 5, 2, 1, 3, 9, 7]]))\n"
   ]
  },
  {
   "cell_type": "code",
   "execution_count": 7,
   "metadata": {
    "collapsed": false,
    "deletable": true,
    "editable": true
   },
   "outputs": [
    {
     "name": "stdout",
     "output_type": "stream",
     "text": [
      "_________________________________________________________________\n",
      "Layer (type)                 Output Shape              Param #   \n",
      "=================================================================\n",
      "embedding_3 (Embedding)      (None, 10, 5)             500       \n",
      "_________________________________________________________________\n",
      "global_max_pooling1d_1 (Glob (None, 5)                 0         \n",
      "=================================================================\n",
      "Total params: 500\n",
      "Trainable params: 500\n",
      "Non-trainable params: 0\n",
      "_________________________________________________________________\n"
     ]
    },
    {
     "data": {
      "text/plain": [
       "array([[ 40.,  40.,  40.,  40.,  40.]], dtype=float32)"
      ]
     },
     "execution_count": 7,
     "metadata": {},
     "output_type": "execute_result"
    }
   ],
   "source": [
    "model = Sequential()\n",
    "model.add(Embedding(nb_words, nb_feats, input_length=seq_len))\n",
    "model.add(GlobalMaxPooling1D())\n",
    "model.set_weights([W])\n",
    "model.summary()\n",
    "\n",
    "model.predict(np.array([[2, 1, 3, 40, 5, 2, 1, 3, 9, 7]]))\n"
   ]
  },
  {
   "cell_type": "code",
   "execution_count": null,
   "metadata": {
    "collapsed": true,
    "deletable": true,
    "editable": true
   },
   "outputs": [],
   "source": []
  }
 ],
 "metadata": {
  "kernelspec": {
   "display_name": "Python 3",
   "language": "python",
   "name": "python3"
  },
  "language_info": {
   "codemirror_mode": {
    "name": "ipython",
    "version": 3
   },
   "file_extension": ".py",
   "mimetype": "text/x-python",
   "name": "python",
   "nbconvert_exporter": "python",
   "pygments_lexer": "ipython3",
   "version": "3.4.3"
  },
  "latex_envs": {
   "LaTeX_envs_menu_present": true,
   "autocomplete": true,
   "bibliofile": "biblio.bib",
   "cite_by": "apalike",
   "current_citInitial": 1,
   "eqLabelWithNumbers": true,
   "eqNumInitial": 1,
   "hotkeys": {
    "equation": "Ctrl-E",
    "itemize": "Ctrl-I"
   },
   "labels_anchors": false,
   "latex_user_defs": false,
   "report_style_numbering": false,
   "user_envs_cfg": false
  },
  "toc": {
   "colors": {
    "hover_highlight": "#DAA520",
    "running_highlight": "#FF0000",
    "selected_highlight": "#FFD700"
   },
   "moveMenuLeft": true,
   "nav_menu": {
    "height": "12px",
    "width": "252px"
   },
   "navigate_menu": true,
   "number_sections": true,
   "sideBar": true,
   "threshold": 4,
   "toc_cell": false,
   "toc_section_display": "block",
   "toc_window_display": false,
   "widenNotebook": false
  }
 },
 "nbformat": 4,
 "nbformat_minor": 2
}
