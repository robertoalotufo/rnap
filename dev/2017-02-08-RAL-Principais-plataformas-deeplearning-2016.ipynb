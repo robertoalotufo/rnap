{
 "cells": [
  {
   "cell_type": "markdown",
   "metadata": {},
   "source": [
    "# Principais plataformas de Deep Learning em 2016\n",
    "\n",
    "\n",
    "- [TensorFlow by Google](https://github.com/tensorflow/tensorflow)\n",
    "- [Keras by François Chollet](https://github.com/fchollet/keras)\n",
    "- [CNTK by Microsoft](https://github.com/Microsoft/CNTK)\n",
    "- [MXNET by Distributed (Deep) Machine Learning Community. Adapted by Amazon](https://github.com/dmlc/mxnet)\n",
    "- [Theano by Université de Montréal](https://github.com/Theano/Theano)\n",
    "- [Torch by Ronan Collobert, Koray Kavukcuoglu, Clement Farabet. Widely used by Facebook](https://github.com/torch/torch7)\n",
    "\n",
    "Fonte: [tryo-labs](https://tryolabs.com/blog/2016/12/06/major-advancements-deep-learning-2016/)"
   ]
  }
 ],
 "metadata": {
  "kernelspec": {
   "display_name": "Python [Root]",
   "language": "python",
   "name": "Python [Root]"
  },
  "language_info": {
   "codemirror_mode": {
    "name": "ipython",
    "version": 2
   },
   "file_extension": ".py",
   "mimetype": "text/x-python",
   "name": "python",
   "nbconvert_exporter": "python",
   "pygments_lexer": "ipython2",
   "version": "2.7.12"
  }
 },
 "nbformat": 4,
 "nbformat_minor": 0
}
