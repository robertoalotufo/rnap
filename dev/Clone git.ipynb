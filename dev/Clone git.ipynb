{
 "cells": [
  {
   "cell_type": "markdown",
   "metadata": {},
   "source": [
    "---\n",
    "# GitHub\n",
    "\n",
    "---\n",
    "\n",
    "Guia inicial: https://guides.github.com/activities/hello-world/"
   ]
  },
  {
   "cell_type": "markdown",
   "metadata": {},
   "source": [
    "O gitHub é uma ferramenta para armazenagem de código com o propósito de facilitar a colaboração e realizando o controle de versão."
   ]
  },
  {
   "cell_type": "markdown",
   "metadata": {},
   "source": [
    "---\n",
    "## Controle de versão \n",
    "\n",
    "---\n",
    "\n",
    "Tutorial:https://www.atlassian.com/git/tutorials/comparing-workflows"
   ]
  },
  {
   "cell_type": "markdown",
   "metadata": {},
   "source": [
    "O controle de versão registra as mudanças feitas em um arquivo, ou vários arquivos, informando as alterações ocorridas durante um período de tempo. Esta ferramenta é importante em desenvolvimento de código, uma vez que o controle armazena as versões parciais do código tornando possível recuperar uma versão sem a implementação de uma feature ou uma anterior a erros.\n",
    "\n",
    "O controle também é muito útil em trabalho cooperativo. Em um grupo de desenvolvimento, todos os desenvolvedores criam cópias pessoais do projeto e trabalham em suas áreas pessoais. Ao terminar, ou em etapas determinadas, o código é compartilhado com os demais e a ferramenta auxilia a verificar conflitos nas novas versões. \n",
    "\n",
    "Estas diversas cópias do arquivo são armazenadas em repositórios pessoais. A versão inicial ou principal do arquivo é o repositório master. "
   ]
  },
  {
   "cell_type": "markdown",
   "metadata": {},
   "source": [
    "## Controle de versão no Git"
   ]
  },
  {
   "cell_type": "markdown",
   "metadata": {},
   "source": [
    "O GitHub é uma ferramenta muito utilizada para software livre. O usuário pode utilizar seu repositório no modo aberto ou privado. \n",
    "\n",
    "Quando no modo aberto qualquer usuário do Git pode copiar o repositório, ou projeto, para utilizá-lo. Quando se tem o interesse de fazer alterações cria-se um novo repositório na área do usuário que irá fazer as alterações que não serão incorporadas automaticamente pelo repositório principal. Esta ação é chamada de fork.\n",
    "\n"
   ]
  },
  {
   "cell_type": "markdown",
   "metadata": {},
   "source": [
    "Para criar uma cópia do arquivo principal usa-se os comandos:\n",
    "\n",
    "* `fetch`    seleciona a origem\n",
    "* `branch`   cria o nome do branch e define se quer manter os colaboradores atualizados\n",
    "* `checkout` cria o branch para escrita\n",
    "* `pull`     copia os arquivos da origem no novo branch\n",
    "\n",
    "\n",
    "O comando `clone` cria a cópia a partir da origem escolhida, faz o checkout e copia os dados do repositório. Este comando substitui todos acima e pela simplicidade é muito usado.\n"
   ]
  },
  {
   "cell_type": "markdown",
   "metadata": {},
   "source": [
    "Após implementar e testar as alterações necessárias pode-se substituir o código do master com o novo. Para isso temos o comando `push`. Deve-se ter atenção para escrever apenas o arquivo desejado, verificando primeiro quais arquivos pessoais diferem dos arquivos no master. Mas quando se está trabalhando em colaboração \n",
    "é necessário verificar se algum arquivo foi alterado e quais os arquivos \n",
    "\n",
    "* `status` mostra as diferenças entre os arquivos do repositório pessoal e do master\n",
    "* `add <file>` informa o arquivo que deseja escrever no master\n",
    "* `commit -m \"comentário\"` adiciona o arquivo ou arquivos para atualização e adiciona o comentário explicando o motivo da atualização.\n",
    "* `stash` ou `checkout <file>` descarta os arquivos pessoais diferentes do master mas que não serão atualizados\n",
    "* `pull` copia os arquivos do master para a area pessoal. Garante-se assim que os arquivos estão sincronizados.\n",
    "* `push` escreve o arquivo desejado no master"
   ]
  },
  {
   "cell_type": "markdown",
   "metadata": {},
   "source": [
    "## Como atualizar o repositório"
   ]
  },
  {
   "cell_type": "markdown",
   "metadata": {},
   "source": [
    "Após implementar e testar as alterações necessárias pode-se substituir o código do master com o novo. Para isso temos o comando `push`. Deve-se ter atenção para escrever apenas o arquivo desejado, verificando primeiro quais arquivos pessoais diferem dos arquivos no master. Quando se está trabalhando em colaboração é necessário também verificar se algum arquivo foi alterado e quais arquivos \n",
    "\n",
    "Verifique os arquivos do seu branch que estão diferentes do master:\n",
    "* `git status` \n",
    "\n",
    "Adicione os arquivos que deseja incluir ou modificar:\n",
    "* `git add <file>`\n",
    "\n",
    "Salva o arquivo ou arquivos para atualização e adiciona o comentário explicando o motivo da atualização:\n",
    "* `git commit -m \"comment\"`\n",
    "\n",
    "Descarte os arquivos que se diferem do master mas não serão atualizados: \n",
    "* `git checkout  <file>` um comando por arquivo\n",
    "ou \n",
    "* `git stash`  todos os arquivos\n",
    "\n",
    "\n",
    "Agora atualize seu repositório copiando o master: \n",
    "* `git pull`\n",
    "\n",
    "E finalmente copie suas alterações no master:\n",
    "* `git push`"
   ]
  },
  {
   "cell_type": "markdown",
   "metadata": {},
   "source": [
    "Para o curso o github não está configurado com a conta de cada aluno. Assim os comandos de sincronismo pedem o usuário e senha do git e o comando de commit pede o username. O config pode ser alterado para refletir a conta do aluno e para evitar digitar a senha é necessário cadastrar uma chave SSH no git. "
   ]
  },
  {
   "cell_type": "markdown",
   "metadata": {},
   "source": [
    "Configurando o usuário do git:\n",
    "* `git config user.name \"username\"` configura o nome do usuário \n",
    "* `git config user.email \"your_email@example.com\"` configura o email do usuário \n",
    "* `git config user.name ` mostra o nome do usuário conectado ao git"
   ]
  },
  {
   "cell_type": "markdown",
   "metadata": {},
   "source": [
    "**Atenção: Não é obrigatório executar o passo abaixo. **"
   ]
  },
  {
   "cell_type": "markdown",
   "metadata": {},
   "source": [
    "---\n",
    "# <a id='passo'>Passo - criar uma chave SSH</a>\n",
    "\n",
    "---\n",
    "\n",
    "Tutorial: https://help.github.com/articles/generating-a-new-ssh-key-and-adding-it-to-the-ssh-agent/"
   ]
  },
  {
   "cell_type": "markdown",
   "metadata": {},
   "source": [
    "## Criação de uma chave SSH \n"
   ]
  },
  {
   "cell_type": "markdown",
   "metadata": {},
   "source": [
    "Abrir um terminal no jupyter;\n",
    "* em **New** -> **Terminal**\n",
    "\n",
    "O home do jupyter está configurado para trabalhar no diretório:\n",
    "* ``cd /opt/projects``\n",
    "    \n",
    "Crie uma chave ssh com seu cadastro no github:\n",
    "* ``ssh-keygen -t rsa -b 4096 -C \"your_email@example.com\"``\n",
    "\n",
    "    * ``Generating public/private rsa key pair.``\n",
    "\n",
    "escolha um diretório para salvar a chave ou apenas enter:\n",
    "* ``Enter a file in which to save the key (/root/.ssh/id_rsa): [Press enter]``\n",
    "\n",
    "escolha uma frase segura:\n",
    "* ``Enter passphrase (empty for no passphrase): [Type a passphrase]``\n",
    "* ``Enter same passphrase again: [Type passphrase again]``"
   ]
  },
  {
   "cell_type": "markdown",
   "metadata": {},
   "source": [
    "Foram geradas duas chaves, uma que será utilizada na máquina em que foi gerada e outra pública que será usada no github"
   ]
  },
  {
   "cell_type": "markdown",
   "metadata": {},
   "source": [
    "## Adicionar a chave SSH no  ssh-agent\n",
    "\n"
   ]
  },
  {
   "cell_type": "markdown",
   "metadata": {},
   "source": [
    "Inicie o ssh-agent\n",
    "* ``eval \"$(ssh-agent -s)\"`` \n",
    "\n",
    "\n",
    "Adicione a chave ssh armazenada no diretório que voce escolheu:\n",
    "* ``ssh-add /root/.ssh/id_rsa``"
   ]
  },
  {
   "cell_type": "markdown",
   "metadata": {},
   "source": [
    "## Adicionar a chave SSH no Git \n",
    "\n",
    "Tutorial: https://help.github.com/articles/adding-a-new-ssh-key-to-your-github-account/"
   ]
  },
  {
   "cell_type": "markdown",
   "metadata": {},
   "source": [
    "Nesta etapa devemos copiar para o github a chave pública criada. Para isso precisamos abrir o arquivo id_rsa.pub e copiar o texto. Isto pode ser feito usando o comando `more` no terminal."
   ]
  },
  {
   "cell_type": "markdown",
   "metadata": {},
   "source": [
    "* Acessar: https://github.com/settings/keys\n",
    "* Selecionar **New SSH Key** \n",
    "* Escolher título para a chave \n",
    "* Colar a chave copiada \n",
    "* Selecionar **Add SSH Key**\n"
   ]
  },
  {
   "cell_type": "code",
   "execution_count": null,
   "metadata": {
    "collapsed": true
   },
   "outputs": [],
   "source": []
  }
 ],
 "metadata": {
  "anaconda-cloud": {},
  "kernelspec": {
   "display_name": "Python [Root]",
   "language": "python",
   "name": "Python [Root]"
  },
  "language_info": {
   "codemirror_mode": {
    "name": "ipython",
    "version": 2
   },
   "file_extension": ".py",
   "mimetype": "text/x-python",
   "name": "python",
   "nbconvert_exporter": "python",
   "pygments_lexer": "ipython2",
   "version": "2.7.13"
  }
 },
 "nbformat": 4,
 "nbformat_minor": 0
}
