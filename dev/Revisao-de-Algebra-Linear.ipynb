{
 "cells": [
  {
   "cell_type": "markdown",
   "metadata": {},
   "source": [
    "# Revisão de Álgebra Liner"
   ]
  },
  {
   "cell_type": "code",
   "execution_count": 28,
   "metadata": {
    "collapsed": false
   },
   "outputs": [],
   "source": [
    "import numpy as np\n",
    "from numpy.random import randn"
   ]
  },
  {
   "cell_type": "markdown",
   "metadata": {},
   "source": [
    "## Matrizes"
   ]
  },
  {
   "cell_type": "markdown",
   "metadata": {},
   "source": [
    "$$ A = \\begin{bmatrix}  123, & 343, & 100\\\\\n",
    "                         33, &  0,  & -50 \\end{bmatrix} $$"
   ]
  },
  {
   "cell_type": "code",
   "execution_count": 29,
   "metadata": {
    "collapsed": false
   },
   "outputs": [
    {
     "name": "stdout",
     "output_type": "stream",
     "text": [
      "[[123 343 100]\n",
      " [ 33   0 -50]]\n",
      "(2, 3)\n",
      "2\n",
      "3\n"
     ]
    }
   ],
   "source": [
    "A = np.array([[123, 343, 100],\n",
    "              [ 33,   0, -50]])\n",
    "print A\n",
    "print A.shape\n",
    "print A.shape[0]\n",
    "print A.shape[1]"
   ]
  },
  {
   "cell_type": "code",
   "execution_count": 30,
   "metadata": {
    "collapsed": false
   },
   "outputs": [
    {
     "name": "stdout",
     "output_type": "stream",
     "text": [
      "[[5 3 2 1 4]\n",
      " [0 2 1 3 8]]\n",
      "(2, 5)\n",
      "2\n",
      "5\n"
     ]
    }
   ],
   "source": [
    "B = np.array([[5, 3, 2, 1, 4],\n",
    "              [0, 2, 1, 3, 8]])\n",
    "print B\n",
    "print B.shape\n",
    "print B.shape[0]\n",
    "print B.shape[1]"
   ]
  },
  {
   "cell_type": "markdown",
   "metadata": {},
   "source": [
    "$$ A = \\begin{bmatrix}  123, & 343, & 100\\\\\n",
    "                         33, &  0,  & -50 \\end{bmatrix} =\n",
    "       \\begin{bmatrix}  a_{0,0}, & a_{0,1}, & a_{0,2}\\\\\n",
    "                        a_{1,0}, & a_{1,1}, & a_{1,2} \\end{bmatrix} $$\n",
    "                         \n",
    "                         \n",
    "$$ a_{i,j} $$ é elemento da i-ésima linha e j-ésima coluna\n",
    "\n",
    "Em NumPy, para matriz de duas dimensões, a primeira dimensão é o número de linhas `shape[0]` e\n",
    "a segunda dimensão é o número de colunas, `shape[1]`.\n",
    "\n",
    "O primeiro índice `i` de `A[i,j]`, é o índice das linhas e o segundo índice `j`, é o índice\n",
    "das colunas."
   ]
  },
  {
   "cell_type": "code",
   "execution_count": 31,
   "metadata": {
    "collapsed": false
   },
   "outputs": [
    {
     "name": "stdout",
     "output_type": "stream",
     "text": [
      "A=\n",
      "[[123 343 100]\n",
      " [ 33   0 -50]]\n",
      "A[0,0] = 123\n",
      "A[0,1] = 343\n",
      "A[0,2] = 100\n",
      "A[1,0] = 33\n",
      "A[1,1] = 0\n",
      "A[1,2] = -50\n"
     ]
    }
   ],
   "source": [
    "print 'A=\\n',A\n",
    "for i in range(A.shape[0]):\n",
    "    for j in range(A.shape[1]):\n",
    "        print 'A[%d,%d] = %d' % (i,j, A[i,j])"
   ]
  },
  {
   "cell_type": "markdown",
   "metadata": {},
   "source": [
    "## Matriz vetor\n",
    "\n",
    "Um vetor coluna é uma matriz de duas dimensões, porém com apenas uma coluna, tem o shape `(n,1)`, isto é, tem `n` linhas e `1` coluna."
   ]
  },
  {
   "cell_type": "code",
   "execution_count": 32,
   "metadata": {
    "collapsed": false
   },
   "outputs": [
    {
     "name": "stdout",
     "output_type": "stream",
     "text": [
      "B=\n",
      "[[3]\n",
      " [5]]\n",
      "B.shape: (2, 1)\n"
     ]
    }
   ],
   "source": [
    "B = np.array([[3],\n",
    "              [5]])\n",
    "print 'B=\\n', B\n",
    "print 'B.shape:', B.shape\n"
   ]
  },
  {
   "cell_type": "markdown",
   "metadata": {},
   "source": [
    "## Adição de matrizes\n",
    "\n",
    "$$ C = A + B $$\n",
    "$$ c_{i,j} = a_{i,j} + b_{i,j} $$ para todo os elementos de $A$, $B$ e $C$.\n",
    "\n",
    "É importante que as dimensões destas três matrizes sejam iguais. "
   ]
  },
  {
   "cell_type": "code",
   "execution_count": 33,
   "metadata": {
    "collapsed": false
   },
   "outputs": [
    {
     "name": "stdout",
     "output_type": "stream",
     "text": [
      "A=\n",
      "[[-8  7 17]\n",
      " [ 5 13  2]]\n",
      "B=\n",
      "[[ 0.2860213   0.09346651 -0.89725179]\n",
      " [-2.60244493 -0.21222752 -0.71299534]]\n",
      "C=\n",
      "[[ -7.7139787    7.09346651  16.10274821]\n",
      " [  2.39755507  12.78777248   1.28700466]]\n"
     ]
    }
   ],
   "source": [
    "\n",
    "A = (10*randn(2,3)).astype(int)\n",
    "B = randn(2,3)\n",
    "C = A + B\n",
    "print 'A=\\n',A\n",
    "print 'B=\\n',B\n",
    "print 'C=\\n',C"
   ]
  },
  {
   "cell_type": "markdown",
   "metadata": {},
   "source": [
    "## Multiplicação de matrizes\n",
    "\n",
    "### Multiplicação matriz e escalar\n",
    "\n",
    "$$ \\beta A = \\begin{bmatrix} \\beta a_{0,0} & \\beta a_{0,1} & \\ldots & a_{0,m-1}\\\\\n",
    "                             \\beta a_{1,0} & \\beta a_{1,1} & \\ldots & a_{1,m-1} \\\\\n",
    "                             \\vdots        & \\vdots        & \\vdots & vdots   \\\\\n",
    "                             \\beta a_{n-1,0} & \\beta a_{n1,1} & \\ldots & a_{n-1,m-1}\n",
    "             \\end{bmatrix} $$"
   ]
  },
  {
   "cell_type": "code",
   "execution_count": 34,
   "metadata": {
    "collapsed": false
   },
   "outputs": [
    {
     "name": "stdout",
     "output_type": "stream",
     "text": [
      "A=\n",
      "[[-8  7 17]\n",
      " [ 5 13  2]]\n",
      "\n",
      "4 * A=\n",
      "[[-32  28  68]\n",
      " [ 20  52   8]]\n"
     ]
    }
   ],
   "source": [
    "print 'A=\\n',A\n",
    "print\n",
    "print '4 * A=\\n', 4 * A"
   ]
  },
  {
   "cell_type": "markdown",
   "metadata": {},
   "source": [
    "### Multiplicação de matrizes\n",
    "\n",
    "$$ C_{(3,4)} = A_{(3,2)} B_{(2,4)} = \\begin{bmatrix}\n",
    " a_{0,0} & a_{0,1}\\\\\n",
    " a_{1,0} & a_{1,1}\\\\\n",
    " a_{2,0} & a_{2,1}\\\\\n",
    " \\end{bmatrix} \\begin{bmatrix}\n",
    " b_{0,0} & b_{0,1} & b_{0,2} & b_{0,3} \\\\\n",
    " b_{1,0} & b_{1,1} & b_{1,2} & b_{1,3} \\\\\n",
    " \\end{bmatrix} $$\n",
    " $$ C_{(3,4)} = \\begin{bmatrix}\n",
    " a_{0,0} b_{0,0} + a_{0,1} b_{1,0} & a_{0,0} b_{0,1} + a_{0,1} b_{1,1} & a_{0,0} b_{0,2} + a_{0,1} b_{1,2} & a_{0,0} b_{0,3} + a_{0,1} b_{1,3} \\\\\n",
    " a_{1,0} b_{0,0} + a_{1,1} b_{1,0} & a_{1,0} b_{0,1} + a_{1,1} b_{1,1} & a_{1,0} b_{0,2} + a_{1,1} b_{1,2} & a_{1,0} b_{0,3} + a_{1,1} b_{1,3} \\\\\n",
    " a_{2,0} b_{0,0} + a_{2,1} b_{1,0} & a_{2,0} b_{0,1} + a_{2,1} b_{1,1} & a_{2,0} b_{0,2} + a_{2,1} b_{1,2} & a_{2,0} b_{0,3} + a_{2,1} b_{1,3} \\\\\n",
    " \\end{bmatrix}\n",
    " $$\n",
    " \n",
    " "
   ]
  }
 ],
 "metadata": {
  "kernelspec": {
   "display_name": "Python [Root]",
   "language": "python",
   "name": "Python [Root]"
  },
  "language_info": {
   "codemirror_mode": {
    "name": "ipython",
    "version": 2
   },
   "file_extension": ".py",
   "mimetype": "text/x-python",
   "name": "python",
   "nbconvert_exporter": "python",
   "pygments_lexer": "ipython2",
   "version": "2.7.12"
  }
 },
 "nbformat": 4,
 "nbformat_minor": 0
}
