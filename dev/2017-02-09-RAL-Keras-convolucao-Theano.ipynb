{
 "cells": [
  {
   "cell_type": "markdown",
   "metadata": {},
   "source": [
    "# Explorando convolução no Keras usando o Theano\n",
    "\n",
    "O objetivo deste notebook é de explorar a operação de convolução implementada pelo Theano através do Keras.\n",
    "\n",
    "A convolução é uma das principais operações em processamento de imagens e constitui a componente principal para a construção de camadas convolucionais nas redes convolucionais. É uma operação demorada e a sua implementação na GPU pode ser bem mais eficiente quando comparada com implementações em CPU. A implementação do Theano reconhece automaticamente se a máquina possui GPU utilizando a implementação mais eficiente. Caso não exista GPU, a convolução utiliza a CPU.\n",
    "\n",
    "A figura a seguir ilustra uma convolução da imagem verde de entrada, utilizando o núcleo da convolução (kernel) em amarelo, deslizando sobre a imagem verde. O resultado da convolução é a imagem rosa, de tamanho ligeiramente menor, devido ao processamento na borda da imagem.\n",
    "\n",
    "O núcleo (kernel) utilizado é na forma\n",
    "![](../figures/kernel_diagonal.png)\n",
    "\n",
    "![](http://mourafiq.com/images/posts/convolution_schematic.gif)\n"
   ]
  },
  {
   "cell_type": "code",
   "execution_count": 8,
   "metadata": {
    "collapsed": false
   },
   "outputs": [
    {
     "name": "stdout",
     "output_type": "stream",
     "text": [
      "Entrada\n",
      "[[[[1 1 1 0 0]\n",
      "   [0 1 1 1 0]\n",
      "   [0 0 1 1 1]\n",
      "   [0 0 1 1 0]\n",
      "   [0 1 1 0 0]]]]\n",
      "kernel\n",
      "[[[[1 0 1]\n",
      "   [0 1 0]\n",
      "   [1 0 1]]]]\n",
      "Saída\n",
      "[[[[ 4.  3.  4.]\n",
      "   [ 2.  4.  3.]\n",
      "   [ 2.  3.  4.]]]]\n"
     ]
    }
   ],
   "source": [
    "import numpy as np\n",
    "import keras\n",
    "from keras.models import Sequential\n",
    "from keras.layers.core import Activation\n",
    "from keras.layers.convolutional import Convolution2D\n",
    "from keras.layers.pooling import MaxPooling2D\n",
    "np.set_printoptions(suppress=True, precision=3) # limita a precisão da impressão em 3 casas decimais \n",
    "\n",
    "W = np.array([[1,0,1],\n",
    "              [0,1,0],\n",
    "              [1,0,1]]).reshape(1,1,3,3)\n",
    "\n",
    "X = np.array([[1,1,1,0,0],\n",
    "              [0,1,1,1,0],\n",
    "              [0,0,1,1,1],\n",
    "              [0,0,1,1,0],\n",
    "              [0,1,1,0,0]]).reshape(1,1,5,5)\n",
    "\n",
    "model = Sequential()\n",
    "model.add(Convolution2D(1, 3, 3, weights=[W], border_mode='valid', input_shape=(1, 5, 5),bias=False))\n",
    "y = model.predict(X,batch_size=1)\n",
    "\n",
    "print 'Entrada'\n",
    "print X\n",
    "print 'kernel'\n",
    "print W\n",
    "print 'Saída'\n",
    "print y\n",
    "\n"
   ]
  },
  {
   "cell_type": "markdown",
   "metadata": {},
   "source": [
    "## Exercícios\n",
    "\n",
    "### Teórico\n",
    "\n",
    "1. Supondo uma imagem de entrada 100 x 100 e um kernel 3 x 3. Utilizando-se o border_mode como válido, a imagem de saída será de 99 x 99. Se fosse utilizar uma rede densa, com entrada de 100 x 100 e saída 99 x 99, quantos parâmetros seriam necessários para ser treinados? E no caso da rede convolucional? Qual é o fator de redução?\n",
    "\n",
    "### Práticos\n",
    "\n",
    "1. Trocar o parâmetro ``border_mode`` para ``same`` e explique a diferença.\n",
    "2. Rodar a convolução para uma imagem de cinza utilizando kernel de média móvel 3x3 e kernel Sobel:\n",
    "```\n",
    "           1,1,1                    1, 2, 1\n",
    "    Média: 1,1,1             Sobel: 0, 0, 0\n",
    "           1,1,1                   -1,-2,-1\n",
    "```\n",
    "3. Rodar a convolução para uma imagem colorida RGB\n",
    "4. Rodar a convolução para gerar 3 bandas de saída como nas redes convolucionais mais conhecidas\n",
    "5. Comparar o tempo de execução desta convolução com outras implementações: openCV por exemplo"
   ]
  }
 ],
 "metadata": {
  "kernelspec": {
   "display_name": "Python [Root]",
   "language": "python",
   "name": "Python [Root]"
  },
  "language_info": {
   "codemirror_mode": {
    "name": "ipython",
    "version": 2
   },
   "file_extension": ".py",
   "mimetype": "text/x-python",
   "name": "python",
   "nbconvert_exporter": "python",
   "pygments_lexer": "ipython2",
   "version": "2.7.12"
  }
 },
 "nbformat": 4,
 "nbformat_minor": 0
}
