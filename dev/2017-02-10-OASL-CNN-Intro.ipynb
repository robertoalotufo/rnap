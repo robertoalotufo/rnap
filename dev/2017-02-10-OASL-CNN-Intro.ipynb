{
 "cells": [
  {
   "cell_type": "markdown",
   "metadata": {},
   "source": [
    "# Definição da CNN"
   ]
  },
  {
   "cell_type": "code",
   "execution_count": null,
   "metadata": {
    "collapsed": true
   },
   "outputs": [],
   "source": [
    "import numpy as np\n",
    "from keras.models import Model\n",
    "from keras.layers import Dense, Dropout, Activation, Flatten\n",
    "from keras.layers import Convolution2D, MaxPooling2D, Input\n",
    "\n",
    "\n",
    "N = 100\n",
    "img_rows = 5\n",
    "img_cols = 5\n",
    "X_train = np.random.normal(size=[N, 1,img_rows, img_cols])\n",
    "Y_train = [0]*50 + [1]*50\n",
    "\n",
    "def get_cnn_model():\n",
    "    \n",
    "    inputs = Input((1, img_rows, img_cols))\n",
    "    conv1 = Convolution2D(1, 1, 1)(inputs)\n",
    "    actv1 = Activation('relu')(conv1)\n",
    "    conv2 = Convolution2D(1, 1, 1)(actv1)\n",
    "    actv1 = Activation('relu')(conv2)\n",
    "    pool1 = MaxPooling2D(pool_size=(2, 2))(actv1)\n",
    "    flat = Flatten()(pool1)\n",
    "    out = Dense(1, activation='sigmoid')(flat)\n",
    "\n",
    "    model = Model(input=inputs, output=out)\n",
    "    model.compile(loss='binary_crossentropy', optimizer='adam', metrics=['accuracy'])\n",
    "    \n",
    "    return model"
   ]
  },
  {
   "cell_type": "markdown",
   "metadata": {},
   "source": [
    "# Treino"
   ]
  },
  {
   "cell_type": "code",
   "execution_count": 52,
   "metadata": {
    "collapsed": false
   },
   "outputs": [
    {
     "name": "stdout",
     "output_type": "stream",
     "text": [
      "Epoch 1/10\n",
      "100/100 [==============================] - 0s - loss: 0.6931 - acc: 0.4800     \n",
      "Epoch 2/10\n",
      "100/100 [==============================] - 0s - loss: 0.6931 - acc: 0.5000     \n",
      "Epoch 3/10\n",
      "100/100 [==============================] - 0s - loss: 0.6930 - acc: 0.5400     \n",
      "Epoch 4/10\n",
      "100/100 [==============================] - 0s - loss: 0.6929 - acc: 0.5700     \n",
      "Epoch 5/10\n",
      "100/100 [==============================] - 0s - loss: 0.6928 - acc: 0.5700     \n",
      "Epoch 6/10\n",
      "100/100 [==============================] - 0s - loss: 0.6928 - acc: 0.5700     \n",
      "Epoch 7/10\n",
      "100/100 [==============================] - 0s - loss: 0.6927 - acc: 0.5300     \n",
      "Epoch 8/10\n",
      "100/100 [==============================] - 0s - loss: 0.6926 - acc: 0.5200     \n",
      "Epoch 9/10\n",
      "100/100 [==============================] - 0s - loss: 0.6926 - acc: 0.5400     \n",
      "Epoch 10/10\n",
      "100/100 [==============================] - 0s - loss: 0.6925 - acc: 0.5700     \n"
     ]
    }
   ],
   "source": [
    "model = get_cnn_model()\n",
    "model.fit(X_train, Y_train, batch_size=32, nb_epoch=10, shuffle=True, verbose=1)"
   ]
  },
  {
   "cell_type": "markdown",
   "metadata": {},
   "source": [
    "# Teste"
   ]
  },
  {
   "cell_type": "code",
   "execution_count": 59,
   "metadata": {
    "collapsed": false
   },
   "outputs": [
    {
     "name": "stdout",
     "output_type": "stream",
     "text": [
      "------------------------------\n",
      "Número de camadas: 8\n",
      "------------------------------\n",
      "--------------------------------------------------------------------------------\n",
      "Saída da camada 1 : <keras.engine.topology.InputLayer object at 0x7fea93be1f90>\n",
      "--------------------------------------------------------------------------------\n",
      "[[[[-0.66188818 -0.14326166  0.11727178  0.11613194 -0.47778308]\n",
      "   [ 0.06996645 -0.21665247  0.59013736 -0.37570953  0.47843224]\n",
      "   [-0.03120828  0.44977975 -0.15224761  0.66348642  0.26922125]\n",
      "   [ 1.83982038 -0.06529351 -0.65065026  0.45570272 -0.03527046]\n",
      "   [ 0.52183616  0.75958002  0.47940579  0.82438022 -0.17329875]]]]\n",
      "--------------------------------------------------------------------------------\n",
      "Saída da camada 2 : <keras.layers.convolutional.Convolution2D object at 0x7fea93c010d0>\n",
      "--------------------------------------------------------------------------------\n",
      "[[[[ -2.36859903e-01  -4.15407717e-02   5.65783158e-02   5.61490431e-02\n",
      "     -1.67524368e-01]\n",
      "   [  3.87627296e-02  -6.91803694e-02   2.34663472e-01  -1.29082605e-01\n",
      "      1.92594379e-01]\n",
      "   [  6.59474172e-04   1.81803614e-01  -4.49249558e-02   2.62287349e-01\n",
      "      1.13803759e-01]\n",
      "   [  7.05304682e-01  -1.21773127e-02  -2.32627600e-01   1.84034258e-01\n",
      "     -8.70378688e-04]\n",
      "   [  2.08940670e-01   2.98477024e-01   1.92961037e-01   3.22881341e-01\n",
      "     -5.28529920e-02]]]]\n",
      "--------------------------------------------------------------------------------\n",
      "Saída da camada 3 : <keras.layers.core.Activation object at 0x7fea93f7e750>\n",
      "--------------------------------------------------------------------------------\n",
      "[[[[  0.00000000e+00   0.00000000e+00   5.65783158e-02   5.61490431e-02\n",
      "      0.00000000e+00]\n",
      "   [  3.87627296e-02   0.00000000e+00   2.34663472e-01   0.00000000e+00\n",
      "      1.92594379e-01]\n",
      "   [  6.59474172e-04   1.81803614e-01   0.00000000e+00   2.62287349e-01\n",
      "      1.13803759e-01]\n",
      "   [  7.05304682e-01   0.00000000e+00   0.00000000e+00   1.84034258e-01\n",
      "      0.00000000e+00]\n",
      "   [  2.08940670e-01   2.98477024e-01   1.92961037e-01   3.22881341e-01\n",
      "      0.00000000e+00]]]]\n",
      "--------------------------------------------------------------------------------\n",
      "Saída da camada 4 : <keras.layers.convolutional.Convolution2D object at 0x7fea93f5e6d0>\n",
      "--------------------------------------------------------------------------------\n",
      "[[[[ 0.01996603  0.01996603 -0.02630302 -0.02595197  0.01996603]\n",
      "   [-0.01173365  0.01996603 -0.17193887  0.01996603 -0.13753529]\n",
      "   [ 0.01942672 -0.12871073  0.01996603 -0.19452934 -0.07310128]\n",
      "   [-0.55682343  0.01996603  0.01996603 -0.13053492  0.01996603]\n",
      "   [-0.15090308 -0.2241248  -0.13783513 -0.24408235  0.01996603]]]]\n",
      "--------------------------------------------------------------------------------\n",
      "Saída da camada 5 : <keras.layers.core.Activation object at 0x7fea93f6ba50>\n",
      "--------------------------------------------------------------------------------\n",
      "[[[[ 0.01996603  0.01996603  0.          0.          0.01996603]\n",
      "   [ 0.          0.01996603  0.          0.01996603  0.        ]\n",
      "   [ 0.01942672  0.          0.01996603  0.          0.        ]\n",
      "   [ 0.          0.01996603  0.01996603  0.          0.01996603]\n",
      "   [ 0.          0.          0.          0.          0.01996603]]]]\n",
      "--------------------------------------------------------------------------------\n",
      "Saída da camada 6 : <keras.layers.pooling.MaxPooling2D object at 0x7fea93f9c510>\n",
      "--------------------------------------------------------------------------------\n",
      "[[[[ 0.01996603  0.01996603]\n",
      "   [ 0.01996603  0.01996603]]]]\n",
      "--------------------------------------------------------------------------------\n",
      "Saída da camada 7 : <keras.layers.core.Flatten object at 0x7fea93f9c6d0>\n",
      "--------------------------------------------------------------------------------\n",
      "[[ 0.01996603  0.01996603  0.01996603  0.01996603]]\n",
      "--------------------------------------------------------------------------------\n",
      "Saída da camada 8 : <keras.layers.core.Dense object at 0x7fea93dce750>\n",
      "--------------------------------------------------------------------------------\n",
      "[[ 0.49608225]]\n"
     ]
    }
   ],
   "source": [
    "X_test = np.random.normal(size=[1,1,img_rows, img_cols])*0.5\n",
    "\n",
    "print('-'*30)\n",
    "print \"Número de camadas:\", len(model.layers)\n",
    "print('-'*30)\n",
    "\n",
    "i = 1\n",
    "for layer in model.layers:\n",
    "    intermediate_layer_model = Model(input=model.input,output=layer.output)\n",
    "    intermediate_output = intermediate_layer_model.predict(X_test)\n",
    "    print('-'*80)\n",
    "    print \"Saída da camada\", i, \":\", layer\n",
    "    print('-'*80)\n",
    "    print intermediate_output\n",
    "    i+=1\n",
    "    \n"
   ]
  }
 ],
 "metadata": {
  "kernelspec": {
   "display_name": "Python 2",
   "language": "python",
   "name": "python2"
  },
  "language_info": {
   "codemirror_mode": {
    "name": "ipython",
    "version": 2
   },
   "file_extension": ".py",
   "mimetype": "text/x-python",
   "name": "python",
   "nbconvert_exporter": "python",
   "pygments_lexer": "ipython2",
   "version": "2.7.6"
  }
 },
 "nbformat": 4,
 "nbformat_minor": 0
}
