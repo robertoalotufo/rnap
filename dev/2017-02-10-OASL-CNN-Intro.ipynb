{
 "cells": [
  {
   "cell_type": "markdown",
   "metadata": {},
   "source": [
    "# Introduçãos as CNNs no Keras e ilustraçãos resultados obtidos para cada camada da DNN"
   ]
  },
  {
   "cell_type": "markdown",
   "metadata": {},
   "source": [
    "Como funções de ativação, serão utilizados a função ReLU e a Sigmóide. \n",
    "\n",
    "**Sigmóide:**\n",
    "A função sigmoide tem a forma de um \"S\". Ela é definida pela seguinte equação:\n",
    "\n",
    "$$S(x) = \\frac{1}{1+e^{-x}}$$\n",
    "\n",
    "![](https://sebastianraschka.com/images/faq/logisticregr-neuralnet/sigmoid.png)\n",
    "\n",
    "**ReLU:**\n",
    "A função ReLU também chamda de fnção rampa é definida pela seguinte equação:\n",
    "\n",
    "$$f(x) = max(0,x)$$\n",
    "\n",
    "Simplesmente, ela é ativada caso o valor de entrada é maior que zero não alterando o mesmo, caso contrário o valor de entrada é multiplicado por zero na saída.\n",
    "\n",
    "![](http://csci431.artifice.cc/images/relu.png)"
   ]
  },
  {
   "cell_type": "markdown",
   "metadata": {},
   "source": [
    "# Importação dos Módulos"
   ]
  },
  {
   "cell_type": "code",
   "execution_count": 1,
   "metadata": {
    "collapsed": false
   },
   "outputs": [
    {
     "name": "stderr",
     "output_type": "stream",
     "text": [
      "Using Theano backend.\n",
      "Using gpu device 0: Tesla K40c (CNMeM is disabled, cuDNN Version is too old. Update to v5, was 2000.)\n"
     ]
    }
   ],
   "source": [
    "import numpy as np\n",
    "from keras.models import Model\n",
    "from keras.layers import Dense, Dropout, Activation, Flatten\n",
    "from keras.layers import Convolution2D, MaxPooling2D, Input"
   ]
  },
  {
   "cell_type": "markdown",
   "metadata": {},
   "source": [
    "# Definição da CNN\n"
   ]
  },
  {
   "cell_type": "code",
   "execution_count": 2,
   "metadata": {
    "collapsed": true
   },
   "outputs": [],
   "source": [
    "def get_cnn_model():\n",
    "    \n",
    "    # Tamanho da entrada\n",
    "    img_rows = 5\n",
    "    img_cols = 5\n",
    "    \n",
    "    # Pesos para as camadas de convolução e densa\n",
    "    W = np.ones(shape=(2,2)).reshape(1,1,2,2)\n",
    "    W_dense = np.ones(shape=(4)).reshape(4,1)\n",
    "    \n",
    "    inputs = Input((1, img_rows, img_cols), name = 'input')\n",
    "    conv1 = Convolution2D(1, 2, 2, weights = [W], bias=False,\n",
    "                          name = 'conv1')(inputs) # default: subsample=(2, 2)  \n",
    "    actv1 = Activation('relu', name = 'actv1')(conv1)\n",
    "    pool1 = MaxPooling2D(pool_size=(2, 2), name = 'pool1')(actv1) # default: pool_size=(2, 2) \n",
    "    flat = Flatten(name = 'flat')(pool1)\n",
    "    dense1 = Dense(1,weights = [W_dense], bias=False, name = 'dense1')(flat)\n",
    "    out = Activation('sigmoid', name = 'out')(dense1)\n",
    "\n",
    "    model = Model(input=inputs, output=out)\n",
    "    \n",
    "    return model"
   ]
  },
  {
   "cell_type": "markdown",
   "metadata": {},
   "source": [
    "# Resultados da CNN para uma dada entrada"
   ]
  },
  {
   "cell_type": "code",
   "execution_count": 3,
   "metadata": {
    "collapsed": false
   },
   "outputs": [
    {
     "name": "stdout",
     "output_type": "stream",
     "text": [
      "------------------------------\n",
      "Número de camadas: 7\n",
      "------------------------------\n",
      "--------------------------------------------------------------------------------\n",
      "Saída da camada 1 : input\n",
      "--------------------------------------------------------------------------------\n",
      "[[[[ 1.  0.  0.  0.  0.]\n",
      "   [ 0.  1.  0.  0.  0.]\n",
      "   [ 0.  0. -1.  0.  0.]\n",
      "   [ 0.  0.  0. -1.  0.]\n",
      "   [ 0.  0.  0.  0.  1.]]]]\n",
      "--------------------------------------------------------------------------------\n",
      "Saída da camada 2 : conv1\n",
      "--------------------------------------------------------------------------------\n",
      "[[[[ 2.  1.  0.  0.]\n",
      "   [ 1.  0. -1.  0.]\n",
      "   [ 0. -1. -2. -1.]\n",
      "   [ 0.  0. -1.  0.]]]]\n",
      "--------------------------------------------------------------------------------\n",
      "Saída da camada 3 : actv1\n",
      "--------------------------------------------------------------------------------\n",
      "[[[[ 2.  1.  0.  0.]\n",
      "   [ 1.  0.  0.  0.]\n",
      "   [ 0.  0.  0.  0.]\n",
      "   [ 0.  0.  0.  0.]]]]\n",
      "--------------------------------------------------------------------------------\n",
      "Saída da camada 4 : pool1\n",
      "--------------------------------------------------------------------------------\n",
      "[[[[ 2.  0.]\n",
      "   [ 0.  0.]]]]\n",
      "--------------------------------------------------------------------------------\n",
      "Saída da camada 5 : flat\n",
      "--------------------------------------------------------------------------------\n",
      "[[ 2.  0.  0.  0.]]\n",
      "--------------------------------------------------------------------------------\n",
      "Saída da camada 6 : dense1\n",
      "--------------------------------------------------------------------------------\n",
      "[[ 2.]]\n",
      "--------------------------------------------------------------------------------\n",
      "Saída da camada 7 : out\n",
      "--------------------------------------------------------------------------------\n",
      "[[ 0.88079709]]\n",
      "____________________________________________________________________________________________________\n",
      "Layer (type)                     Output Shape          Param #     Connected to                     \n",
      "====================================================================================================\n",
      "input (InputLayer)               (None, 1, 5, 5)       0                                            \n",
      "____________________________________________________________________________________________________\n",
      "conv1 (Convolution2D)            (None, 1, 4, 4)       4           input[0][0]                      \n",
      "____________________________________________________________________________________________________\n",
      "actv1 (Activation)               (None, 1, 4, 4)       0           conv1[0][0]                      \n",
      "____________________________________________________________________________________________________\n",
      "pool1 (MaxPooling2D)             (None, 1, 2, 2)       0           actv1[0][0]                      \n",
      "____________________________________________________________________________________________________\n",
      "flat (Flatten)                   (None, 4)             0           pool1[0][0]                      \n",
      "____________________________________________________________________________________________________\n",
      "dense1 (Dense)                   (None, 1)             4           flat[0][0]                       \n",
      "____________________________________________________________________________________________________\n",
      "out (Activation)                 (None, 1)             0           dense1[0][0]                     \n",
      "====================================================================================================\n",
      "Total params: 8\n",
      "____________________________________________________________________________________________________\n",
      "None\n"
     ]
    }
   ],
   "source": [
    "# Leitura do modelo\n",
    "model = get_cnn_model()\n",
    "\n",
    "# Entrada\n",
    "X = np.array([[[[1,0,0,0,0],\n",
    "                [0,1,0,0,0],\n",
    "                [0,0,-1,0,0],\n",
    "                [0,0,0,-1,0],\n",
    "                [0,0,0,0,1]]]])\n",
    "\n",
    "\n",
    "\n",
    "print('-'*30)\n",
    "print \"Número de camadas:\", len(model.layers)\n",
    "print('-'*30)\n",
    "\n",
    "# Resultados para cada camada\n",
    "i = 1\n",
    "for layer in model.layers:\n",
    "    intermediate_layer_model = Model(input=model.input,output=layer.output)\n",
    "    intermediate_output = intermediate_layer_model.predict(X)\n",
    "    print('-'*80)\n",
    "    print \"Saída da camada\", i, \":\", layer.name\n",
    "    print('-'*80)\n",
    "    print intermediate_output\n",
    "    i+=1\n",
    "    \n",
    "print (model.summary())"
   ]
  }
 ],
 "metadata": {
  "kernelspec": {
   "display_name": "Python 2",
   "language": "python",
   "name": "python2"
  },
  "language_info": {
   "codemirror_mode": {
    "name": "ipython",
    "version": 2
   },
   "file_extension": ".py",
   "mimetype": "text/x-python",
   "name": "python",
   "nbconvert_exporter": "python",
   "pygments_lexer": "ipython2",
   "version": "2.7.6"
  }
 },
 "nbformat": 4,
 "nbformat_minor": 0
}
