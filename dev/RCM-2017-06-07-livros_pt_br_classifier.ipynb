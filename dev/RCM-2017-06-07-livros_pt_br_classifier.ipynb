{
 "cells": [
  {
   "cell_type": "markdown",
   "metadata": {
    "toc": "true"
   },
   "source": [
    "# Table of Contents\n",
    " <p><div class=\"lev1 toc-item\"><a href=\"#Classificação-de-Textos\" data-toc-modified-id=\"Classificação-de-Textos-1\"><span class=\"toc-item-num\">1&nbsp;&nbsp;</span>Classificação de Textos</a></div><div class=\"lev2 toc-item\"><a href=\"#Preâmbulo\" data-toc-modified-id=\"Preâmbulo-11\"><span class=\"toc-item-num\">1.1&nbsp;&nbsp;</span>Preâmbulo</a></div><div class=\"lev2 toc-item\"><a href=\"#Procedimentos-de-treino-e-teste\" data-toc-modified-id=\"Procedimentos-de-treino-e-teste-12\"><span class=\"toc-item-num\">1.2&nbsp;&nbsp;</span>Procedimentos de treino e teste</a></div><div class=\"lev2 toc-item\"><a href=\"#Preparando-o-dataset\" data-toc-modified-id=\"Preparando-o-dataset-13\"><span class=\"toc-item-num\">1.3&nbsp;&nbsp;</span>Preparando o dataset</a></div><div class=\"lev3 toc-item\"><a href=\"#Buscando-o-texto-dos-livros-e-definindo-os-rótulos\" data-toc-modified-id=\"Buscando-o-texto-dos-livros-e-definindo-os-rótulos-131\"><span class=\"toc-item-num\">1.3.1&nbsp;&nbsp;</span>Buscando o texto dos livros e definindo os rótulos</a></div><div class=\"lev3 toc-item\"><a href=\"#Representando-as-palavras-através-de-índices-inteiros\" data-toc-modified-id=\"Representando-as-palavras-através-de-índices-inteiros-132\"><span class=\"toc-item-num\">1.3.2&nbsp;&nbsp;</span>Representando as palavras através de índices inteiros</a></div><div class=\"lev3 toc-item\"><a href=\"#Palavras-características-de-cada-livro\" data-toc-modified-id=\"Palavras-características-de-cada-livro-133\"><span class=\"toc-item-num\">1.3.3&nbsp;&nbsp;</span>Palavras características de cada livro</a></div><div class=\"lev3 toc-item\"><a href=\"#Dividindo-o-dataset-entre-treinamento-e-validação\" data-toc-modified-id=\"Dividindo-o-dataset-entre-treinamento-e-validação-134\"><span class=\"toc-item-num\">1.3.4&nbsp;&nbsp;</span>Dividindo o dataset entre treinamento e validação</a></div><div class=\"lev3 toc-item\"><a href=\"#Criando--geradores-para-treino-e-validação\" data-toc-modified-id=\"Criando--geradores-para-treino-e-validação-135\"><span class=\"toc-item-num\">1.3.5&nbsp;&nbsp;</span>Criando  geradores para treino e validação</a></div><div class=\"lev2 toc-item\"><a href=\"#Criando-a-rede-neural\" data-toc-modified-id=\"Criando-a-rede-neural-14\"><span class=\"toc-item-num\">1.4&nbsp;&nbsp;</span>Criando a rede neural</a></div><div class=\"lev3 toc-item\"><a href=\"#Preparando-a-matriz-de-embeddings\" data-toc-modified-id=\"Preparando-a-matriz-de-embeddings-141\"><span class=\"toc-item-num\">1.4.1&nbsp;&nbsp;</span>Preparando a matriz de embeddings</a></div><div class=\"lev3 toc-item\"><a href=\"#Construindo-a-rede\" data-toc-modified-id=\"Construindo-a-rede-142\"><span class=\"toc-item-num\">1.4.2&nbsp;&nbsp;</span>Construindo a rede</a></div><div class=\"lev2 toc-item\"><a href=\"#Treinando\" data-toc-modified-id=\"Treinando-15\"><span class=\"toc-item-num\">1.5&nbsp;&nbsp;</span>Treinando</a></div><div class=\"lev2 toc-item\"><a href=\"#Avaliando\" data-toc-modified-id=\"Avaliando-16\"><span class=\"toc-item-num\">1.6&nbsp;&nbsp;</span>Avaliando</a></div>"
   ]
  },
  {
   "cell_type": "markdown",
   "metadata": {},
   "source": [
    "# Classificação de Textos"
   ]
  },
  {
   "cell_type": "markdown",
   "metadata": {},
   "source": [
    "## Preâmbulo"
   ]
  },
  {
   "cell_type": "code",
   "execution_count": 8,
   "metadata": {
    "collapsed": false
   },
   "outputs": [],
   "source": [
    "%matplotlib inline\n",
    "import matplotlib.pyplot as plot\n",
    "from IPython import display\n",
    "from __future__ import print_function\n",
    "\n",
    "import os\n",
    "import sys\n",
    "import glob\n",
    "import numpy as np\n",
    "import numpy.random as nr\n",
    "\n",
    "from keras.preprocessing.text import Tokenizer\n",
    "from keras.preprocessing.sequence import pad_sequences\n",
    "from keras.utils import to_categorical\n",
    "from keras.layers import Dense, Input, Flatten, Dropout\n",
    "from keras.layers import Conv1D, MaxPooling1D, Embedding\n",
    "from keras.models import Model\n",
    "from keras.optimizers import (SGD, \n",
    "                              RMSprop, \n",
    "                              Adam, \n",
    "                              Adadelta, \n",
    "                              Adagrad)\n",
    "\n",
    "sys.path.append('../src')\n",
    "from my_keras_utilities import (get_available_gpus, \n",
    "                                load_model_and_history, \n",
    "                                save_model_and_history, \n",
    "                                TrainingPlotter)\n",
    "\n",
    "os.makedirs('../../models',exist_ok=True)\n",
    "np.set_printoptions(precision=3, linewidth=120)"
   ]
  },
  {
   "cell_type": "code",
   "execution_count": 9,
   "metadata": {
    "collapsed": false
   },
   "outputs": [
    {
     "name": "stdout",
     "output_type": "stream",
     "text": [
      "Backend:        tensorflow\n",
      "Data format:    channels_first\n",
      "Available GPUS: []\n"
     ]
    }
   ],
   "source": [
    "import keras.backend as K\n",
    "\n",
    "# K.set_image_data_format('channels_first')\n",
    "K.set_floatx('float32')\n",
    "\n",
    "print('Backend:        {}'.format(K.backend()))\n",
    "print('Data format:    {}'.format(K.image_data_format()))\n",
    "print('Available GPUS:', get_available_gpus())"
   ]
  },
  {
   "cell_type": "markdown",
   "metadata": {},
   "source": [
    "## Procedimentos de treino e teste"
   ]
  },
  {
   "cell_type": "code",
   "execution_count": 10,
   "metadata": {
    "collapsed": true
   },
   "outputs": [],
   "source": [
    "class MyCb(TrainingPlotter):\n",
    "    \n",
    "    def on_epoch_end(self, epoch, logs={}):\n",
    "        super().on_epoch_end(epoch, logs)\n",
    "\n",
    "\n",
    "def train_network(model, model_name, train_generator, validation_generator, \n",
    "                  train_steps=10, valid_steps=10, opt='rmsprop', nepochs=50, \n",
    "                  patience=50, reset=False, ploss=1.0):\n",
    "\n",
    "    do_plot = (ploss > 0.0)\n",
    "    \n",
    "    model_fn = model_name + '.model'\n",
    "    if reset and os.path.isfile(model_fn):\n",
    "        os.unlink(model_name + '.model')\n",
    "        \n",
    "    if not os.path.isfile(model_fn):\n",
    "        # initialize the optimizer and model\n",
    "        print(\"[INFO] compiling model...\")\n",
    "        model.compile(loss=\"categorical_crossentropy\", optimizer=opt, metrics=[\"accuracy\"])    \n",
    "\n",
    "        # History, checkpoint, earlystop, plot losses:\n",
    "        cb = MyCb(n=1, filepath=model_name, patience=patience, plot_losses=do_plot)\n",
    "        \n",
    "    else:\n",
    "        print(\"[INFO] loading model...\")\n",
    "        model, cb = load_model_and_history(model_name)\n",
    "        cb.patience = patience\n",
    "\n",
    "    past_epochs = cb.get_nepochs()\n",
    "    tr_epochs = nepochs - past_epochs\n",
    "    \n",
    "    if do_plot:\n",
    "        vv = 0\n",
    "        fig = plot.figure(figsize=(15,6))\n",
    "        plot.ylim(0.0, ploss)\n",
    "        plot.xlim(0, nepochs)\n",
    "        plot.grid(True)\n",
    "    else:\n",
    "        vv = 2\n",
    "\n",
    "    print(\"[INFO] training for {} epochs of {} steps each...\".format(tr_epochs, train_steps))\n",
    "    try:\n",
    "        model.fit_generator(train_generator, steps_per_epoch=train_steps,\n",
    "                            validation_data=validation_generator, validation_steps=valid_steps,\n",
    "                            epochs=nepochs, verbose=vv, callbacks=[cb])\n",
    "    except KeyboardInterrupt:\n",
    "        pass\n",
    "\n",
    "    return model, cb\n",
    "\n",
    "\n",
    "def test_network(model_name, validation_generator, nb_validation_samples):\n",
    "    model, histo = load_model_and_history(model_name)\n",
    "    print('Model from epoch {}'.format(histo.best_epoch))\n",
    "    print(\"[INFO] evaluating in the test data set ...\")\n",
    "    loss, accuracy = model.evaluate_generator(validation_generator, nb_validation_samples)\n",
    "    print(\"\\n[INFO] accuracy on the test data set: {:.2f}% [{:.5f}]\".format(accuracy * 100, loss))\n"
   ]
  },
  {
   "cell_type": "markdown",
   "metadata": {},
   "source": [
    "## Preparando o dataset"
   ]
  },
  {
   "cell_type": "markdown",
   "metadata": {},
   "source": [
    "### Buscando o texto dos livros e definindo os rótulos"
   ]
  },
  {
   "cell_type": "code",
   "execution_count": 21,
   "metadata": {
    "collapsed": false
   },
   "outputs": [
    {
     "name": "stdout",
     "output_type": "stream",
     "text": [
      "  87788  Fernando_Sabino    O_Bom_Ladrão\n",
      " 511681  Fernando_Sabino    O_Encontro_Marcado\n",
      " 328288  Fernando_Sabino    O_Grande_Mentecapto\n",
      " 180313  Fernando_Sabino    O_Menino_no_Espelho\n",
      " 427711  Jorge_Amado        Capitães_de_Areia\n",
      "1030735  Jorge_Amado        Dona_flor_seus_dois_maridos\n",
      " 828417  Jorge_Amado        Gabriela\n",
      "1001226  Jorge_Amado        Tereza_Batista_Cansada_de_Guerra\n",
      " 372459  Machado_de_Assis   Dom_Casmurro\n",
      " 411043  Machado_de_Assis   Esaú_e_Jacó\n",
      " 352965  Machado_de_Assis   Memórias_Póstumas_de_Brás_Cubas\n",
      " 443778  Machado_de_Assis   Quincas_Borba\n",
      " 294049  Érico_Veríssimo  Clarissa\n",
      " 890215  Érico_Veríssimo  Incidente_em_Antares\n",
      " 699390  Érico_Veríssimo  O_Tempo_e_o_Vento_-_O_Arquipélago\n",
      " 749265  Érico_Veríssimo  O_Tempo_e_o_Vento_-_O_Continente\n",
      "\n",
      "4 Labels:\n",
      "     0: Jorge_Amado\n",
      "     1: Érico_Veríssimo\n",
      "     2: Fernando_Sabino\n",
      "     3: Machado_de_Assis\n"
     ]
    }
   ],
   "source": [
    "data_dir = '../../datasets/livros/'\n",
    "\n",
    "autores = [\n",
    "    'Fernando_Sabino', \n",
    "    'Jorge_Amado',\n",
    "    'Machado_de_Assis',\n",
    "    'Érico_Veríssimo',\n",
    "]\n",
    "\n",
    "book_text = []\n",
    "book_author = []\n",
    "book_title = []\n",
    "for aut in autores:\n",
    "    for fn in glob.glob(data_dir + aut + '*.txt'):\n",
    "        author, book = os.path.basename(fn).split('__')\n",
    "        txt = open(fn).read().replace('\\x97', '')\n",
    "        book_text.append(txt)\n",
    "        book_author.append(author)\n",
    "        book_title.append(book[:-4])\n",
    "        print('{:7d}  {:18s} {}'.format(len(txt), author, book[:-4]))\n",
    "\n",
    "author_list = list(set(book_author))\n",
    "n_labels = len(author_list)\n",
    "n_books = len(book_title)\n",
    "book_label = [author_list.index(a) for a in book_author]\n",
    "print('\\n{} Labels:'.format(n_labels))\n",
    "for i, autor in enumerate(author_list):\n",
    "    print('    {:2d}: {}'.format(i, autor))"
   ]
  },
  {
   "cell_type": "markdown",
   "metadata": {},
   "source": [
    "### Representando as palavras através de índices inteiros"
   ]
  },
  {
   "cell_type": "code",
   "execution_count": 12,
   "metadata": {
    "collapsed": false
   },
   "outputs": [
    {
     "name": "stdout",
     "output_type": "stream",
     "text": [
      "Found 63598 unique tokens.\n"
     ]
    }
   ],
   "source": [
    "MAX_NB_WORDS = 20000\n",
    "\n",
    "tokenizer = Tokenizer(num_words=MAX_NB_WORDS)\n",
    "tokenizer.fit_on_texts(book_text)\n",
    "sequences = tokenizer.texts_to_sequences(book_text)\n",
    "\n",
    "w2i = tokenizer.word_index\n",
    "i2w = dict([(v, k) for k, v in w2i.items()])\n",
    "\n",
    "i2w_vec = np.array([i2w[i+1] for i in range(len(i2w))])\n",
    "\n",
    "print('Found %s unique tokens.' % len(w2i))"
   ]
  },
  {
   "cell_type": "code",
   "execution_count": 13,
   "metadata": {
    "collapsed": false,
    "scrolled": false
   },
   "outputs": [
    {
     "name": "stdout",
     "output_type": "stream",
     "text": [
      "Fernando Sabino: O Bom Ladrão -- 14711 palavras\n",
      "o se aproximou curvou se com solicitude não fez a menor objeção disse que se sentia honrado em satisfazer a vontade da senhorita senhora – corrigi saímos e tomamos um táxi silenciosa a cabeça recostada isabel olhava a praia sua atitude me eu tinha faltado ao trabalho havíamos combinado comemorar aquela data fora e terminando a noite numa em vez disso assim que deixamos o restaurante ela pediu que a levasse para casa alegando cansaço enquanto o táxi corria eu a observava discretamente era evidente que ela se continuava recostada como adormecida mas de olhos abertos e imóveis deixe ver\n",
      "\n",
      "Fernando Sabino: O Encontro Marcado -- 84305 palavras\n",
      "— térsio é metido a gente mas qual esses meninos de hoje não sabem beber — não sabem não — não sabem o que é dor de corno daquelas boas das legítimas — das legítimas — pára de me repetir — só estou falando — “ só tô ” você não está falando está — e vítor soltou uma gargalhada — você está é de porre olha aí — de porre eu facilita comigo não que hoje sou muito homem de te mandar a mão na cara — homem coisa nenhuma seu pintor de merda joubert empunhou um garfo —\n",
      "\n",
      "Fernando Sabino: O Grande Mentecapto -- 53307 palavras\n",
      "da confissão da viúva correia lopes se espalhou imediatamente por toda a cidade nos menores detalhes o marido que até depois de morto ainda queria e tudo mais e em breve foi ganhando de boca para boca proporções fantásticas em novos detalhes que lhe acrescentavam diziam que o defunto aparecia mesmo para ela durante a noite alguns até já o tinham visto entrar furtivamente a horas mortas pelo portão dos fundos outros diziam que a viúva tinha parte com o diabo outros diziam que o fantasma do marido lhe vigiava a casa para fazer sua maldição sobre todo aquele que\n",
      "\n",
      "Fernando Sabino: O Menino no Espelho -- 30787 palavras\n",
      "visita ao túmulo de nossa rolinha junto à mangueira do quintal como homenagem à sua memória fizemos a ela a oferenda do nosso feito libertando seus e estávamos ali banhados pela luz cor de rosa do belíssimo pôr do sol de belo horizonte quando uma coisa maravilhosa aconteceu como se do céu bandos e bandos de passarinhos de vários tamanhos e mil cores diferentes vindos de todos os lados se no ar em alegre revoada até formar um verdadeiro de asas em formação cerrada e vieram todos para o nosso lado voando em círculos cada vez menores e mais baixos\n",
      "\n",
      "Jorge Amado: Capitães de Areia -- 76225 palavras\n",
      "ao qual tinha um especial o desarmou uma noite com o auxílio de amigos e começou a nas cidades de alagoas e sergipe enquanto isto os credores o de quanto nome feio conheciam andou muito nhozinho frança com o seu carrossel depois de percorrer todas as dos d ois estados de se em todos os seus bares penetrou no estado da bahia e até para o bando de lampião e lê deu uma função estava numa pobre vila do sertão e não lhe faltava o dinheiro apenas para o transporte do seu carrossel faltava para o mise hotel onde se\n",
      "\n",
      "Jorge Amado: Dona flor seus dois maridos -- 165965 palavras\n",
      "o sorriso por acordo esclareceu ela quer adotar o menino mas adotar mesmo com papel passado no cartório tudo legal e para sempre para levá lo e criá lo como filho ficou dionísia parada em silêncio olhos teria entendido as palavras de dona norma ou escutava apenas a canção distante quisera em teus braços morrer antes morrer do que viver assim antes morrer murmurou para si mesma e quando os olhos a cordialidade anterior tinha desaparecido uma nova atmosfera nascia de seu olhar de vidro da linha em sua boca e por quê perguntou sem levantar a voz por que\n",
      "\n",
      "Jorge Amado: Gabriela -- 134059 palavras\n",
      "a certeza de que jamais voltará a vê la tê la nos braços la contra o peito ouvir seus ais d e amor o coronel melk tavares no silêncio da noite ergueu a voz ordenou a clemente toca alguma coisa pra gente rapaz pra disfarçar o tempo pág tomou da harmônica entre as árvores crescia a lua sobre o rio clemente enxerga o rosto de gabriela brilham luzes de e lamparinas ao longe a música se eleva num choro de homem perdido solitário para sempre na selva rindo aos raios da lua gabriela gabriela adormecida nacib a levara até a\n",
      "\n",
      "Jorge Amado: Tereza Batista Cansada de Guerra -- 164502 palavras\n",
      "é que eu não sendo crente contrato padre para dizer missa na usina e ainda por cima faço uma não é verdade sorrindo ela se encostou contra o peito do doutor para ele tando os olhos — não faço por mim faço pelos outros e pelo que sou para eles entende faço pelos outros que acreditam e pensam que eu acredito o povo precisa de religião e de festa leva vida triste e onde já se viu usina sem missa e padre mes sem festa de batizado e casamento uma vez por ano cumpro meu dever beijou lhe a boca\n",
      "\n",
      "Machado de Assis: Dom Casmurro -- 64471 palavras\n",
      "bom e santo você conhece muitos como o padre cabral que vive tão feliz com a irmã um tio meu também foi padre e escapou de ser bispo dizem deixa de manha bentinho creio que os olhos que lhe deitei foram tão que ela emendou logo a palavra manha não não podia ser manha sabia muito bem que eu era amigo dela e não seria capaz de fingir um sentimento que não tivesse moleza é o que queria dizer que me deixasse de moleza que me fizesse homem e ao que cumpria em benefício dela e para bem da minha\n",
      "\n",
      "Machado de Assis: Esaú e Jacó -- 70004 palavras\n",
      "que os homens o que não sabem e por ofício o contrário do que sabem assim se forma esta outra incurável a esperança flora incurável também se não a definição de inexplicável que lhe deu aires a graciosa flora teve naquela noite a sua insônia mas foi um tanto culpa sua em vez de se deitar e dormir com os anjos achou melhor velar com um ou dois deles e gastar uma parte da noite à janela ou sentada a recordar e a pensar a e a completar metida no roupão de linho com os cabelos atados para dormir a\n",
      "\n",
      "Machado de Assis: Memórias Póstumas de Brás Cubas -- 58370 palavras\n",
      "um tratado político fundado no humanitismo era talvez a parte mais enfadonha do sistema posto que com um formidável rigor de lógica a sociedade pelo método dele nem por isso ficavam a guerra a o simples murro a facada anônima a miséria a fome as doenças mas sendo esses verdadeiros equívocos do entendimento porque não de movimentos da substância interior destinados a não influir sobre o homem senão como simples quebra da monotonia universal claro estava que a sua existência não a felicidade humana mas ainda quando tais o que era falso no futuro à concepção acanhada de antigos tempos\n",
      "\n",
      "Machado de Assis: Quincas Borba -- 74749 palavras\n",
      "que lhe muito as mãos com força a força dos parabéns para não supor que era mentira sim senhor um tento dizia lhe o dono da farmácia que os remédios a quincas borba herdeiro já era muito mas universal esta palavra as bochechas à herança herdeiro de tudo nem uma colherinha menos e quanto seria tudo ia ele pensando casas apólices ações escravos roupa louça alguns quadros que ele teria na corte porque era homem de muito gosto tratava de coisas de arte com grande saber e livros devia ter muitos livros citava muitos deles mas em quanto andaria tudo\n",
      "\n",
      "Érico Veríssimo: Clarissa -- 47839 palavras\n",
      "se que é titia vá ver se estão fechadas as janelas do quarto do major eu desconfio que aquela mulata não fechou como eu mandei levemente clarissa obedece tem de interromper a carta quando voltar decerto perdeu a disposição de escrever que importância pode ter uma janela aberta molhar alguma coisa que grandes coisas terá o major no seu quarto clarissa sobe a escada de mansinho lenta segurando o corrimão lustroso o tapete abafa lhe os passos um dois três quatro degraus esta titia tem cada ideia cinco seis naturalmente a janela está fechada trabalho perdido oito nove inda faltam\n",
      "\n",
      "Érico Veríssimo: Incidente em Antares -- 144912 palavras\n",
      "cemitério alambique respondeu que sacrilégio mesmo era não cantar e continuou a ninguém esteve presente ao ato de sepultamento do maestro menandro olinda dois coveiros fecharam lhe o caixão jogaram no no fundo da cova e puseram se a atirar lhe terra em cima mais tarde porém foi muito comentado um fato curioso então ocorrido um passarinho saiu de dentro duma próxima pousou no de terra da sepultura do pianista e rompeu a cantar como numa espécie de oferenda musical ao artista que ali jazia e depois que todos haviam deixado o cemitério – os sete mortos já devidamente sepultados\n",
      "\n",
      "Érico Veríssimo: O Tempo e o Vento - O Arquipélago -- 115595 palavras\n",
      "recuou se atrás da mãe — todos os meninos se bem — perguntou o com seu forte sotaque alemão através das órbitas da máscara de papelão apareciam os olhos claros do confeiteiro o suor punha lhe manchas escuras na roupa a música do gramofone cessou chiru mudou o disco era agora uma valsa papai noel começou a dançar ao mesmo tempo que entregava os pacotes havia presentes para os grandes gravatas para chiru e gabriel uma cigarreira para neco rosa uma camisa de seda para o dr ruas que dum lado para outro apoiado numa bengala roque bandeira ganhou um\n",
      "\n",
      "Érico Veríssimo: O Tempo e o Vento - O Continente -- 129371 palavras\n",
      "começou a gritar — ainda não — então que é — se algum inimigo entrar na casa eu me — não seja bobo — me sim estou armado — faz de conta — não de verdade — como — tu não conta nada pra ninguém — não — palavra de honra — por deus nosso senhor — então bota a mão aqui procura a mão de rodrigo por baixo das cobertas e seus dedos tocam um objeto frio — que é isso — o punhal — o do vovô — é — onde é que estava — numa gaveta —\n",
      "\n"
     ]
    }
   ],
   "source": [
    "for i, seq in enumerate(sequences):\n",
    "    k = nr.randint(len(seq) - 100)\n",
    "    print('{}: {} -- {} palavras'.format(book_author[i], book_title[i], len(seq)).replace('_', ' '))\n",
    "    print(' '.join([i2w[x] for x in seq[k:k+100]]), end='\\n\\n')\n"
   ]
  },
  {
   "cell_type": "markdown",
   "metadata": {},
   "source": [
    "### Palavras características de cada livro"
   ]
  },
  {
   "cell_type": "code",
   "execution_count": 14,
   "metadata": {
    "collapsed": false
   },
   "outputs": [
    {
     "name": "stdout",
     "output_type": "stream",
     "text": [
      "[['de' 'durval' 'abotoaduras' 'garcia' 'brígida' 'norberto' '–' 'isabel']\n",
      " ['lêda' 'joubert' 'estefânia' 'letícia' '—' 'vítor' 'gerlane' 'térsio']\n",
      " ['boaventura' 'elias' 'dionísio' 'barbeca' 'ladisbão' 'mentecapto' 'geraldo' 'viramundo']\n",
      " ['pastoff' 'cíntia' 'alzira' 'birica' 'odnanref' 'anairam' 'hindemburgo' 'gerson']\n",
      " ['bedel' 'trapiche' 'ester' '–' 'barandão' 'almiro' 'dora' 'pirulito']\n",
      " ['marilda' 'dinorá' 'teodoro' 'pelancchi' 'gisa' 'mirandão' 'rozilda' 'vadinho']\n",
      " ['tuísca' 'tonico' 'ribeirinho' 'malvina' 'amâncio' 'fulgêncio' 'gabriela' 'nacib']\n",
      " ['emiliano' 'barroquinha' 'vavá' 'januário' 'almério' 'dóris' 'justiniano' 'tereza']\n",
      " ['manduca' 'protonotário' 'bentinho' 'sancha' 'pádua' 'justina' 'escobar' 'capitu']\n",
      " [\"'\" 'nóbrega' 'excia' 'perpétua' 'custódio' 'natividade' 'flora' 'cláudia']\n",
      " ['loló' 'damasceno' 'eusébia' 'cubas' 'sabina' 'cotrim' 'marcela' 'virgília']\n",
      " ['quincas' 'borba' 'camacho' 'fernanda' 'tonica' 'sofia' 'benedita' 'rubião']\n",
      " ['gamaliel' 'dudu' 'eufrasina' 'tatá' 'belmira' 'tónico' 'zina' 'clarissa']\n",
      " ['xisto' 'campolargo' 'vacariano' 'vivaldino' 'tibério' 'getúlio' 'quitéria' 'antares']\n",
      " ['aderbal' 'carbone' 'dinda' 'alicinha' 'rodrigo' 'toríbio' 'chiru' 'camerino']\n",
      " ['—' 'rodrigo' 'maneco' 'amaral' 'lara' 'vosmecê' 'bibiana' 'alonzo']]\n"
     ]
    }
   ],
   "source": [
    "tfidf = tokenizer.sequences_to_matrix(sequences, mode='tfidf')\n",
    "ww = np.argsort(tfidf, axis=1)[:, -8:]\n",
    "print(i2w_vec[ww-1])"
   ]
  },
  {
   "cell_type": "markdown",
   "metadata": {},
   "source": [
    "### Dividindo o dataset entre treinamento e validação"
   ]
  },
  {
   "cell_type": "code",
   "execution_count": 15,
   "metadata": {
    "collapsed": false
   },
   "outputs": [
    {
     "name": "stdout",
     "output_type": "stream",
     "text": [
      "Training sequences:\n",
      "-------------------\n",
      " 1. Fernando_Sabino  (2) --   8515 palavras do início do livro O_Bom_Ladrão\n",
      " 2. Fernando_Sabino  (2) --  35907 palavras do início do livro O_Encontro_Marcado\n",
      " 3. Fernando_Sabino  (2) --  30406 palavras do início do livro O_Grande_Mentecapto\n",
      " 4. Fernando_Sabino  (2) --  10191 palavras do início do livro O_Menino_no_Espelho\n",
      " 5. Jorge_Amado      (0) --   9214 palavras do início do livro Capitães_de_Areia\n",
      " 6. Jorge_Amado      (0) -- 111222 palavras do início do livro Dona_flor_seus_dois_maridos\n",
      " 7. Jorge_Amado      (0) --  99502 palavras do início do livro Gabriela\n",
      " 8. Jorge_Amado      (0) -- 126792 palavras do início do livro Tereza_Batista_Cansada_de_Guerra\n",
      " 9. Machado_de_Assis (3) --  24480 palavras do início do livro Dom_Casmurro\n",
      "10. Machado_de_Assis (3) --  45243 palavras do início do livro Esaú_e_Jacó\n",
      "11. Machado_de_Assis (3) --  11079 palavras do início do livro Memórias_Póstumas_de_Brás_Cubas\n",
      "12. Machado_de_Assis (3) --  40147 palavras do início do livro Quincas_Borba\n",
      "13. Érico_Veríssimo (1) --  12501 palavras do início do livro Clarissa\n",
      "14. Érico_Veríssimo (1) --  33401 palavras do início do livro Incidente_em_Antares\n",
      "15. Érico_Veríssimo (1) --  71970 palavras do início do livro O_Tempo_e_o_Vento_-_O_Arquipélago\n",
      "16. Érico_Veríssimo (1) --  92830 palavras do início do livro O_Tempo_e_o_Vento_-_O_Continente\n",
      "17. Fernando_Sabino  (2) --   3254 palavras do final do livro  O_Bom_Ladrão\n",
      "18. Fernando_Sabino  (2) --  31537 palavras do final do livro  O_Encontro_Marcado\n",
      "19. Fernando_Sabino  (2) --  12240 palavras do final do livro  O_Grande_Mentecapto\n",
      "20. Fernando_Sabino  (2) --  14439 palavras do final do livro  O_Menino_no_Espelho\n",
      "21. Jorge_Amado      (0) --  51766 palavras do final do livro  Capitães_de_Areia\n",
      "22. Jorge_Amado      (0) --  21550 palavras do final do livro  Dona_flor_seus_dois_maridos\n",
      "23. Jorge_Amado      (0) --   7746 palavras do final do livro  Gabriela\n",
      "24. Jorge_Amado      (0) --   4810 palavras do final do livro  Tereza_Batista_Cansada_de_Guerra\n",
      "25. Machado_de_Assis (3) --  27097 palavras do final do livro  Dom_Casmurro\n",
      "26. Machado_de_Assis (3) --  10761 palavras do final do livro  Esaú_e_Jacó\n",
      "27. Machado_de_Assis (3) --  35617 palavras do final do livro  Memórias_Póstumas_de_Brás_Cubas\n",
      "28. Machado_de_Assis (3) --  19653 palavras do final do livro  Quincas_Borba\n",
      "29. Érico_Veríssimo (1) --  25771 palavras do final do livro  Clarissa\n",
      "30. Érico_Veríssimo (1) --  82529 palavras do final do livro  Incidente_em_Antares\n",
      "31. Érico_Veríssimo (1) --  20506 palavras do final do livro  O_Tempo_e_o_Vento_-_O_Arquipélago\n",
      "32. Érico_Veríssimo (1) --  10667 palavras do final do livro  O_Tempo_e_o_Vento_-_O_Continente\n",
      "\n",
      "Validation sequences:\n",
      "---------------------\n",
      " 1. Fernando_Sabino  (2) --   2942 palavras do meio do livro O_Bom_Ladrão\n",
      " 2. Fernando_Sabino  (2) --  16861 palavras do meio do livro O_Encontro_Marcado\n",
      " 3. Fernando_Sabino  (2) --  10661 palavras do meio do livro O_Grande_Mentecapto\n",
      " 4. Fernando_Sabino  (2) --   6157 palavras do meio do livro O_Menino_no_Espelho\n",
      " 5. Jorge_Amado      (0) --  15245 palavras do meio do livro Capitães_de_Areia\n",
      " 6. Jorge_Amado      (0) --  33193 palavras do meio do livro Dona_flor_seus_dois_maridos\n",
      " 7. Jorge_Amado      (0) --  26811 palavras do meio do livro Gabriela\n",
      " 8. Jorge_Amado      (0) --  32900 palavras do meio do livro Tereza_Batista_Cansada_de_Guerra\n",
      " 9. Machado_de_Assis (3) --  12894 palavras do meio do livro Dom_Casmurro\n",
      "10. Machado_de_Assis (3) --  14000 palavras do meio do livro Esaú_e_Jacó\n",
      "11. Machado_de_Assis (3) --  11674 palavras do meio do livro Memórias_Póstumas_de_Brás_Cubas\n",
      "12. Machado_de_Assis (3) --  14949 palavras do meio do livro Quincas_Borba\n",
      "13. Érico_Veríssimo (1) --   9567 palavras do meio do livro Clarissa\n",
      "14. Érico_Veríssimo (1) --  28982 palavras do meio do livro Incidente_em_Antares\n",
      "15. Érico_Veríssimo (1) --  23119 palavras do meio do livro O_Tempo_e_o_Vento_-_O_Arquipélago\n",
      "16. Érico_Veríssimo (1) --  25874 palavras do meio do livro O_Tempo_e_o_Vento_-_O_Continente\n",
      "\n",
      "Total number of training words:   1143343\n",
      "Total number of validation words: 285829\n"
     ]
    }
   ],
   "source": [
    "nr.seed(20170607)\n",
    "\n",
    "valid_split = 0.2\n",
    "valid_length = [int(0.2 * len(x)) for x in sequences]\n",
    "valid_start = [nr.randint(2000, len(x) - 2000 - n) for x, n in zip(sequences, valid_length)]\n",
    "\n",
    "valid_sequences = [seq[x0:x0+n] for seq, x0, n in zip(sequences, valid_start, valid_length)]\n",
    "\n",
    "train_sequences = [seq[:x0] for seq, x0 in zip(sequences, valid_start)] + \\\n",
    "                  [seq[x0+n:] for seq, x0, n in zip(sequences, valid_start, valid_length)]\n",
    "\n",
    "valid_labels = book_label\n",
    "train_labels = book_label + book_label\n",
    "\n",
    "n_train_words = sum([len(x) for x in train_sequences])\n",
    "n_valid_words = sum([len(x) for x in valid_sequences])\n",
    "\n",
    "print('Training sequences:')\n",
    "print('-------------------')\n",
    "for i, (seq, lab) in enumerate(zip(train_sequences, train_labels)):\n",
    "    if i < n_books:\n",
    "        print('{:2d}. {:16s} ({}) -- {:6d} palavras do início do livro {}'.format(i+1, book_author[i%n_books], lab,\n",
    "                                                                                  len(seq), book_title[i%n_books]))\n",
    "    else:\n",
    "        print('{:2d}. {:16s} ({}) -- {:6d} palavras do final do livro  {}'.format(i+1, book_author[i%n_books], lab,\n",
    "                                                                                  len(seq), book_title[i%n_books]))\n",
    "print()\n",
    "print('Validation sequences:')\n",
    "print('---------------------')\n",
    "for i, (seq, lab) in enumerate(zip(valid_sequences, valid_labels)):\n",
    "    print('{:2d}. {:16s} ({}) -- {:6d} palavras do meio do livro {}'.format(i+1, book_author[i%n_books], lab,\n",
    "                                                                            len(seq), book_title[i%n_books]))\n",
    "print()\n",
    "print('Total number of training words:  ', n_train_words)\n",
    "print('Total number of validation words:', n_valid_words)"
   ]
  },
  {
   "cell_type": "markdown",
   "metadata": {},
   "source": [
    "### Criando  geradores para treino e validação"
   ]
  },
  {
   "cell_type": "code",
   "execution_count": 16,
   "metadata": {
    "collapsed": true
   },
   "outputs": [],
   "source": [
    "class MyDataGenerator:\n",
    "    def __init__(self, batch_size, seq_size, sequences, labels):\n",
    "        self.batch_size = batch_size\n",
    "        self.length = seq_size\n",
    "        self.sequences = sequences\n",
    "        self.labels = labels\n",
    "        sizes = np.array([len(seq) for seq in sequences])\n",
    "        self.p = 1.0 * sizes / sizes.sum()        # probabilidade de escolha para cada sequencia\n",
    "        self.n = np.arange(len(sequences))        # indices de cada sequencia (para o choice abaixo)\n",
    "        \n",
    "    def __call__(self):\n",
    "        while True:\n",
    "            batch = np.empty((self.batch_size, self.length), np.int32)\n",
    "            label = np.empty((self.batch_size, n_labels), np.int32)\n",
    "            for i in range(self.batch_size):\n",
    "                k = nr.choice(self.n, p=self.p)\n",
    "                p = nr.randint(0, len(self.sequences[k]) - self.length)\n",
    "                batch[i] = self.sequences[k][p:p+self.length]\n",
    "                label[i] = to_categorical(self.labels[k], num_classes=n_labels)\n",
    "            yield batch, label\n"
   ]
  },
  {
   "cell_type": "code",
   "execution_count": 17,
   "metadata": {
    "collapsed": false
   },
   "outputs": [],
   "source": [
    "batch_size = 32\n",
    "seq_size = 500\n",
    "\n",
    "train_gen = MyDataGenerator(batch_size, seq_size, train_sequences, train_labels)()\n",
    "valid_gen = MyDataGenerator(batch_size, seq_size, valid_sequences, valid_labels)()\n"
   ]
  },
  {
   "cell_type": "markdown",
   "metadata": {},
   "source": [
    "## Criando a rede neural"
   ]
  },
  {
   "cell_type": "markdown",
   "metadata": {},
   "source": [
    "### Preparando a matriz de embeddings\n",
    "\n",
    "Neste notebook o embedding é treinado a partir de pesos aleatórios.\n"
   ]
  },
  {
   "cell_type": "code",
   "execution_count": 18,
   "metadata": {
    "collapsed": false
   },
   "outputs": [
    {
     "name": "stdout",
     "output_type": "stream",
     "text": [
      "(20000, 100)\n"
     ]
    }
   ],
   "source": [
    "EMBEDDING_DIM = 100\n",
    "embeddings_index = {}\n",
    "\n",
    "# prepare embedding matrix\n",
    "num_words = min(MAX_NB_WORDS, len(w2i))\n",
    "embedding_matrix = np.zeros((num_words, EMBEDDING_DIM))\n",
    "\n",
    "for i in range(1, MAX_NB_WORDS):\n",
    "    word = i2w[i]\n",
    "    embedding_vector = embeddings_index.get(word)\n",
    "    if embedding_vector is None:\n",
    "        # words not found in embedding index will be random\n",
    "        embedding_vector = nr.random(size=(100,)) - 0.5\n",
    "    embedding_matrix[i] = embedding_vector\n",
    "\n",
    "print(embedding_matrix.shape)\n",
    "embeddings_index = None"
   ]
  },
  {
   "cell_type": "markdown",
   "metadata": {},
   "source": [
    "### Construindo a rede"
   ]
  },
  {
   "cell_type": "code",
   "execution_count": 22,
   "metadata": {
    "collapsed": false
   },
   "outputs": [
    {
     "name": "stdout",
     "output_type": "stream",
     "text": [
      "_________________________________________________________________\n",
      "Layer (type)                 Output Shape              Param #   \n",
      "=================================================================\n",
      "input_2 (InputLayer)         (None, 500)               0         \n",
      "_________________________________________________________________\n",
      "embedding_2 (Embedding)      (None, 500, 100)          2000000   \n",
      "_________________________________________________________________\n",
      "conv1d_4 (Conv1D)            (None, 496, 128)          64128     \n",
      "_________________________________________________________________\n",
      "max_pooling1d_4 (MaxPooling1 (None, 99, 128)           0         \n",
      "_________________________________________________________________\n",
      "dropout_4 (Dropout)          (None, 99, 128)           0         \n",
      "_________________________________________________________________\n",
      "conv1d_5 (Conv1D)            (None, 95, 128)           82048     \n",
      "_________________________________________________________________\n",
      "max_pooling1d_5 (MaxPooling1 (None, 47, 128)           0         \n",
      "_________________________________________________________________\n",
      "conv1d_6 (Conv1D)            (None, 43, 128)           82048     \n",
      "_________________________________________________________________\n",
      "max_pooling1d_6 (MaxPooling1 (None, 21, 128)           0         \n",
      "_________________________________________________________________\n",
      "dropout_5 (Dropout)          (None, 21, 128)           0         \n",
      "_________________________________________________________________\n",
      "flatten_2 (Flatten)          (None, 2688)              0         \n",
      "_________________________________________________________________\n",
      "dense_3 (Dense)              (None, 128)               344192    \n",
      "_________________________________________________________________\n",
      "dropout_6 (Dropout)          (None, 128)               0         \n",
      "_________________________________________________________________\n",
      "dense_4 (Dense)              (None, 4)                 516       \n",
      "=================================================================\n",
      "Total params: 2,572,932\n",
      "Trainable params: 2,572,932\n",
      "Non-trainable params: 0\n",
      "_________________________________________________________________\n"
     ]
    }
   ],
   "source": [
    "model_name = '../../models/livros_embeddings_3'\n",
    "\n",
    "def build_net(embedding_matrix=None, input_len=None, trainable=True):\n",
    "    num_words, embedding_dim = embedding_matrix.shape\n",
    "    \n",
    "    seq_input = Input(shape=(input_len,), dtype='int32')\n",
    "    embedding_layer = Embedding(num_words, embedding_dim, weights=[embedding_matrix],\n",
    "                                input_length=input_len, trainable=trainable)(seq_input)\n",
    "\n",
    "    x = Conv1D(128, 5, activation='relu')(embedding_layer)\n",
    "    x = MaxPooling1D(5)(x)\n",
    "\n",
    "    x = Dropout(0.5)(x)\n",
    "    \n",
    "    x = Conv1D(128, 5, activation='relu')(x)\n",
    "    x = MaxPooling1D(2)(x)\n",
    "    \n",
    "    x = Conv1D(128, 5, activation='relu')(x)\n",
    "    x = MaxPooling1D(2)(x)\n",
    "    \n",
    "    x = Dropout(0.5)(x)\n",
    "    \n",
    "    x = Flatten()(x)\n",
    "    x = Dense(128, activation='relu')(x)\n",
    "    \n",
    "    x = Dropout(0.5)(x)\n",
    "    \n",
    "    preds = Dense(n_labels, activation='softmax')(x)\n",
    "\n",
    "    model = Model(seq_input, preds)\n",
    "    return model\n",
    "\n",
    "model = build_net(embedding_matrix, seq_size, True)\n",
    "model.summary()"
   ]
  },
  {
   "cell_type": "markdown",
   "metadata": {},
   "source": [
    "## Treinando"
   ]
  },
  {
   "cell_type": "code",
   "execution_count": 23,
   "metadata": {
    "collapsed": false
   },
   "outputs": [
    {
     "data": {
      "image/png": "[encoded data removed]",
      "text/plain": [
       "<matplotlib.figure.Figure at 0x122aeb5f8>"
      ]
     },
     "metadata": {},
     "output_type": "display_data"
    }
   ],
   "source": [
    "train_steps = n_train_words // (batch_size * seq_size)\n",
    "valid_steps = n_valid_words // (batch_size * seq_size)\n",
    "\n",
    "fit_params = {\n",
    "    'train_steps':     train_steps,\n",
    "    'valid_steps':     valid_steps,\n",
    "    'opt':             Adam(0.0001),      #SGD(lr=0.001, momentum=0.9, nesterov=True), \n",
    "    'nepochs':         50, \n",
    "    'patience':        10,\n",
    "    'ploss':           1.5,\n",
    "    'reset':           False,\n",
    "}\n",
    "\n",
    "train_network(model, model_name, train_gen, valid_gen, **fit_params);"
   ]
  },
  {
   "cell_type": "markdown",
   "metadata": {},
   "source": [
    "## Avaliando"
   ]
  },
  {
   "cell_type": "code",
   "execution_count": 24,
   "metadata": {
    "collapsed": false
   },
   "outputs": [
    {
     "name": "stdout",
     "output_type": "stream",
     "text": [
      "Model from epoch 8\n",
      "[INFO] evaluating in the test data set ...\n",
      "\n",
      "[INFO] accuracy on the test data set: 80.70% [0.49023]\n"
     ]
    }
   ],
   "source": [
    "test_network(model_name, valid_gen, valid_steps)"
   ]
  },
  {
   "cell_type": "code",
   "execution_count": null,
   "metadata": {
    "collapsed": true
   },
   "outputs": [],
   "source": []
  }
 ],
 "metadata": {
  "kernelspec": {
   "display_name": "Python 3",
   "language": "python",
   "name": "python3"
  },
  "language_info": {
   "codemirror_mode": {
    "name": "ipython",
    "version": 3
   },
   "file_extension": ".py",
   "mimetype": "text/x-python",
   "name": "python",
   "nbconvert_exporter": "python",
   "pygments_lexer": "ipython3",
   "version": "3.6.0"
  },
  "latex_envs": {
   "LaTeX_envs_menu_present": true,
   "autocomplete": true,
   "bibliofile": "biblio.bib",
   "cite_by": "apalike",
   "current_citInitial": 1,
   "eqLabelWithNumbers": true,
   "eqNumInitial": 1,
   "hotkeys": {
    "equation": "Ctrl-E",
    "itemize": "Ctrl-I"
   },
   "labels_anchors": false,
   "latex_user_defs": false,
   "report_style_numbering": false,
   "user_envs_cfg": false
  },
  "toc": {
   "colors": {
    "hover_highlight": "#DAA520",
    "navigate_num": "#000000",
    "navigate_text": "#333333",
    "running_highlight": "#FF0000",
    "selected_highlight": "#FFD700",
    "sidebar_border": "#EEEEEE",
    "wrapper_background": "#FFFFFF"
   },
   "moveMenuLeft": true,
   "nav_menu": {
    "height": "264px",
    "width": "252px"
   },
   "navigate_menu": true,
   "number_sections": true,
   "sideBar": true,
   "threshold": 4,
   "toc_cell": true,
   "toc_section_display": "block",
   "toc_window_display": false,
   "widenNotebook": false
  }
 },
 "nbformat": 4,
 "nbformat_minor": 2
}
