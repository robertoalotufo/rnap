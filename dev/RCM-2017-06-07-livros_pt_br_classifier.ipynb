{
 "cells": [
  {
   "cell_type": "markdown",
   "metadata": {
    "toc": "true"
   },
   "source": [
    "# Table of Contents\n",
    " <p><div class=\"lev1 toc-item\"><a href=\"#Classificação-de-Textos\" data-toc-modified-id=\"Classificação-de-Textos-1\"><span class=\"toc-item-num\">1&nbsp;&nbsp;</span>Classificação de Textos</a></div><div class=\"lev2 toc-item\"><a href=\"#Preâmbulo\" data-toc-modified-id=\"Preâmbulo-11\"><span class=\"toc-item-num\">1.1&nbsp;&nbsp;</span>Preâmbulo</a></div><div class=\"lev2 toc-item\"><a href=\"#Procedimentos-de-treino-e-teste\" data-toc-modified-id=\"Procedimentos-de-treino-e-teste-12\"><span class=\"toc-item-num\">1.2&nbsp;&nbsp;</span>Procedimentos de treino e teste</a></div><div class=\"lev2 toc-item\"><a href=\"#Preparando-o-dataset\" data-toc-modified-id=\"Preparando-o-dataset-13\"><span class=\"toc-item-num\">1.3&nbsp;&nbsp;</span>Preparando o dataset</a></div><div class=\"lev2 toc-item\"><a href=\"#Criando-a-rede-neural\" data-toc-modified-id=\"Criando-a-rede-neural-14\"><span class=\"toc-item-num\">1.4&nbsp;&nbsp;</span>Criando a rede neural</a></div><div class=\"lev3 toc-item\"><a href=\"#Carregando-o-embedding\" data-toc-modified-id=\"Carregando-o-embedding-141\"><span class=\"toc-item-num\">1.4.1&nbsp;&nbsp;</span>Carregando o embedding</a></div><div class=\"lev3 toc-item\"><a href=\"#Preparando-a-matriz-de-embeddings\" data-toc-modified-id=\"Preparando-a-matriz-de-embeddings-142\"><span class=\"toc-item-num\">1.4.2&nbsp;&nbsp;</span>Preparando a matriz de embeddings</a></div>"
   ]
  },
  {
   "cell_type": "markdown",
   "metadata": {},
   "source": [
    "# Classificação de Textos"
   ]
  },
  {
   "cell_type": "markdown",
   "metadata": {},
   "source": [
    "## Preâmbulo"
   ]
  },
  {
   "cell_type": "code",
   "execution_count": 1,
   "metadata": {
    "collapsed": false
   },
   "outputs": [
    {
     "name": "stderr",
     "output_type": "stream",
     "text": [
      "Using TensorFlow backend.\n"
     ]
    }
   ],
   "source": [
    "%matplotlib inline\n",
    "import matplotlib.pyplot as plot\n",
    "from IPython import display\n",
    "from __future__ import print_function\n",
    "\n",
    "import os\n",
    "import sys\n",
    "import glob\n",
    "import numpy as np\n",
    "import numpy.random as nr\n",
    "\n",
    "from keras.preprocessing.text import Tokenizer\n",
    "from keras.preprocessing.sequence import pad_sequences\n",
    "from keras.utils import to_categorical\n",
    "from keras.layers import Dense, Input, Flatten, Dropout\n",
    "from keras.layers import Conv1D, MaxPooling1D, Embedding\n",
    "from keras.models import Model\n",
    "from keras.optimizers import (SGD, \n",
    "                              RMSprop, \n",
    "                              Adam, \n",
    "                              Adadelta, \n",
    "                              Adagrad)\n",
    "\n",
    "sys.path.append('../src')\n",
    "from my_keras_utilities import (get_available_gpus, \n",
    "                                load_model_and_history, \n",
    "                                save_model_and_history, \n",
    "                                TrainingPlotter)\n",
    "\n",
    "import os\n",
    "os.makedirs('../../models',exist_ok=True)"
   ]
  },
  {
   "cell_type": "code",
   "execution_count": 2,
   "metadata": {
    "collapsed": false
   },
   "outputs": [
    {
     "name": "stdout",
     "output_type": "stream",
     "text": [
      "Backend:        tensorflow\n",
      "Data format:    channels_first\n",
      "Available GPUS: []\n"
     ]
    }
   ],
   "source": [
    "import keras.backend as K\n",
    "\n",
    "# K.set_image_data_format('channels_first')\n",
    "K.set_floatx('float32')\n",
    "\n",
    "print('Backend:        {}'.format(K.backend()))\n",
    "print('Data format:    {}'.format(K.image_data_format()))\n",
    "print('Available GPUS:', get_available_gpus())"
   ]
  },
  {
   "cell_type": "markdown",
   "metadata": {},
   "source": [
    "## Procedimentos de treino e teste"
   ]
  },
  {
   "cell_type": "code",
   "execution_count": 3,
   "metadata": {
    "collapsed": true
   },
   "outputs": [],
   "source": [
    "class MyCb(TrainingPlotter):\n",
    "    \n",
    "    def on_epoch_end(self, epoch, logs={}):\n",
    "        super().on_epoch_end(epoch, logs)\n",
    "\n",
    "\n",
    "def train_network(model, model_name, train_generator, validation_generator, \n",
    "                  train_steps=10, valid_steps=10, opt='rmsprop', nepochs=50, \n",
    "                  patience=50, reset=False, ploss=1.0):\n",
    "\n",
    "    do_plot = (ploss > 0.0)\n",
    "    \n",
    "    model_fn = model_name + '.model'\n",
    "    if reset and os.path.isfile(model_fn):\n",
    "        os.unlink(model_name + '.model')\n",
    "        \n",
    "    if not os.path.isfile(model_fn):\n",
    "        # initialize the optimizer and model\n",
    "        print(\"[INFO] compiling model...\")\n",
    "        model.compile(loss=\"categorical_crossentropy\", optimizer=opt, metrics=[\"accuracy\"])    \n",
    "\n",
    "        # History, checkpoint, earlystop, plot losses:\n",
    "        cb = MyCb(n=1, filepath=model_name, patience=patience, plot_losses=do_plot)\n",
    "        \n",
    "    else:\n",
    "        print(\"[INFO] loading model...\")\n",
    "        model, cb = load_model_and_history(model_name)\n",
    "        cb.patience = patience\n",
    "\n",
    "    past_epochs = cb.get_nepochs()\n",
    "    tr_epochs = nepochs - past_epochs\n",
    "    \n",
    "    if do_plot:\n",
    "        vv = 0\n",
    "        fig = plot.figure(figsize=(15,6))\n",
    "        plot.ylim(0.0, ploss)\n",
    "        plot.xlim(0, nepochs)\n",
    "        plot.grid(True)\n",
    "    else:\n",
    "        vv = 2\n",
    "\n",
    "    print(\"[INFO] training for {} epochs of {} steps each...\".format(tr_epochs, train_steps))\n",
    "    try:\n",
    "        model.fit_generator(train_generator, steps_per_epoch=train_steps,\n",
    "                            validation_data=validation_generator, validation_steps=valid_steps,\n",
    "                            epochs=nepochs, verbose=vv, callbacks=[cb])\n",
    "    except KeyboardInterrupt:\n",
    "        pass\n",
    "\n",
    "    return model, cb\n",
    "\n",
    "\n",
    "def test_network(model_name, validation_generator, nb_validation_samples):\n",
    "    model, histo = load_model_and_history(model_name)\n",
    "    print('Model from epoch {}'.format(histo.best_epoch))\n",
    "    print(\"[INFO] evaluating in the test data set ...\")\n",
    "    loss, accuracy = model.evaluate_generator(validation_generator, nb_validation_samples)\n",
    "    print(\"\\n[INFO] accuracy on the test data set: {:.2f}% [{:.5f}]\".format(accuracy * 100, loss))\n"
   ]
  },
  {
   "cell_type": "markdown",
   "metadata": {},
   "source": [
    "## Preparando o dataset"
   ]
  },
  {
   "cell_type": "code",
   "execution_count": 4,
   "metadata": {
    "collapsed": false
   },
   "outputs": [
    {
     "name": "stdout",
     "output_type": "stream",
     "text": [
      "  87788  Fernando_Sabino    O_Bom_Ladrão\n",
      " 511681  Fernando_Sabino    O_Encontro_Marcado\n",
      " 328288  Fernando_Sabino    O_Grande_Mentecapto\n",
      " 180313  Fernando_Sabino    O_Menino_no_Espelho\n",
      " 427711  Jorge_Amado        Capitães_de_Areia\n",
      "1030735  Jorge_Amado        Dona_flor_seus_dois_maridos\n",
      " 828417  Jorge_Amado        Gabriela\n",
      "1001226  Jorge_Amado        Tereza_Batista_Cansada_de_Guerra\n",
      " 373300  Machado_de_Assis   Dom_Casmurro\n",
      " 411870  Machado_de_Assis   Esaú_e_Jacó\n",
      " 353713  Machado_de_Assis   Memórias_Póstumas_de_Brás_Cubas\n",
      " 445193  Machado_de_Assis   Quincas_Borba\n",
      "\n",
      "Labels: [1, 1, 1, 1, 2, 2, 2, 2, 0, 0, 0, 0] 3\n"
     ]
    }
   ],
   "source": [
    "data_dir = '../../datasets/livros/'\n",
    "\n",
    "autores = [\n",
    "    'Fernando_Sabino', \n",
    "    'Jorge_Amado',\n",
    "    'Machado_de_Assis',\n",
    "]\n",
    "\n",
    "book_text = []\n",
    "book_author = []\n",
    "book_title = []\n",
    "for aut in autores:\n",
    "    for fn in glob.glob(data_dir + aut + '*.txt'):\n",
    "        author, book = os.path.basename(fn).split('__')\n",
    "        txt = open(fn).read()\n",
    "        book_text.append(txt)\n",
    "        book_author.append(author)\n",
    "        book_title.append(book[:-4])\n",
    "        print('{:7d}  {:18s} {}'.format(len(txt), author, book[:-4]))\n",
    "\n",
    "author_list = list(set(book_author))\n",
    "n_labels = len(author_list)\n",
    "book_label = [author_list.index(a) for a in book_author]\n",
    "print('\\nLabels:', book_label, n_labels)"
   ]
  },
  {
   "cell_type": "code",
   "execution_count": 5,
   "metadata": {
    "collapsed": false
   },
   "outputs": [
    {
     "name": "stdout",
     "output_type": "stream",
     "text": [
      "Found 51559 unique tokens.\n"
     ]
    }
   ],
   "source": [
    "MAX_NB_WORDS = 20000\n",
    "\n",
    "tokenizer = Tokenizer(num_words=MAX_NB_WORDS)\n",
    "tokenizer.fit_on_texts(book_text)\n",
    "sequences = tokenizer.texts_to_sequences(book_text)\n",
    "\n",
    "w2i = tokenizer.word_index\n",
    "i2w = dict([(v, k) for k, v in w2i.items()])\n",
    "print('Found %s unique tokens.' % len(w2i))"
   ]
  },
  {
   "cell_type": "code",
   "execution_count": 6,
   "metadata": {
    "collapsed": false,
    "scrolled": false
   },
   "outputs": [
    {
     "name": "stdout",
     "output_type": "stream",
     "text": [
      "Fernando Sabino: O Bom Ladrão -- 14761 words\n",
      "de família em ipanema a estudante ou senhor só – pedia referências quando ergui a cabeça não a vi mais – ela se fora silenciosa como viera não havia pago o anúncio e pior esquecera de me devolver a caneta era uma caneta tinteiro das que se usavam na época podia não ser das mais valiosas mas tinha pena dourada escrevia macio e não tinta no dia seguinte pedi na publicidade que me quando a moça viesse pagar o anúncio manda para a oficina assim mesmo manda ela ainda aparece não apareceu tive de fazer um vale por causa do\n",
      "\n",
      "Fernando Sabino: O Encontro Marcado -- 84591 words\n",
      "muito inteligente hoje os dois conversavam durante horas o velho era mata aposentado viajara pelo mundo mas suas lembranças eram confusas — paris é isso mesmo que dizem dá sempre a impressão de que a gente chegou lá com dez anos de atraso londres ninguém nunca viu se tem fog não se vê e sem fog não é londres em eu nunca estive e no entanto nunca saí de lá imagine em tinha uns meninos tão bonitos mas não vamos falar nisso vamos ouvir um pouco de tem agora um programa muito bom pegava eduardo pelo braço levava o para\n",
      "\n",
      "Fernando Sabino: O Grande Mentecapto -- 53447 words\n",
      "limpeza e da boa reputação da casa sem trocadilho — já me disseram que você é valente e de confiança — arrematou a por essa ocasião três providências administrativas foram sucessivamente tomadas pelo governo graves conseqüências para a ordem pública da capital com na interior até os extremos limites da província de minas gerais a primeira delas se à decisão tomada pelo próprio governador ladisbão de extinguir os antros de meretrício do centro da cidade transferindo os para local em que o decoro público não fosse ameaçado a medida decorreu do incidente em que se viu envolvida a própria primeira\n",
      "\n",
      "Fernando Sabino: O Menino no Espelho -- 30905 words\n",
      "bem mais difícil rolar um pauzinho entre as palmas das mãos de maneira que a ponta se noutro pauzinho até sair fogo desta vez me lembrei de jogar de volta a água no cantil quando serviria para beber pois além do mais tinha sido e estava livre dos só então me ocorreu que eu não deixara sinal de pista no outro lado do rio meus companheiros se estivessem me seguindo não saberiam que eu o havia atravessado como já estivesse escuro fiquei por ali mesmo no milharal onde não tinha mais perigo era plantação feita por mão de homem que\n",
      "\n",
      "Jorge Amado: Capitães de Areia -- 76415 words\n",
      "joão de adão o doqueiro disse que a culpa era da sociedade mal organizada era dos ricos que enquanto tudo não mudasse os meninos não poderiam ser homens d e bem e disse que o padre josé pedro nunca poderia fazer nada por eles porque ricos não deixariam o padre josé pedro naquele dia tinha ficado muito triste e quando pirulito o foi consolar explicando que ele não ligasse ao que joão de adão dizia o padre respondeu balançando a cabeça magra – tem vezes que eu chego a pensar que ele tem razão que isso tudo está errado mas\n",
      "\n",
      "Jorge Amado: Dona flor seus dois maridos -- 167729 words\n",
      "a esposa no o braço a filha um trem de risco quadro comovente surgiram lhe um começo de idéias conservadoras hábitos e a ambição de terras e como se vê homem completamente recuperado para a sociedade a família e o assim dormia giovanni há mais de duas horas quando soou o telefone saindo da cama tonto de sono tomou do aparelho quem seria é giovanni perguntaram do outro lado é sim quem fala é vadinho quem fala i venha correndo ao pálace e jogue no dezessete jogue sem medo que vai dar eu lhe garanto mas venha depressa venha correndo\n",
      "\n",
      "Jorge Amado: Gabriela -- 134544 words\n",
      "nacib nas suas costas tentava beijar lhe o cangote se seu epaminondas pedia um encontro se seu ari lhe dava bombons pegava em seu queixo com todos eles dormia cada noite com eles e com os de antes também menos seu tio nos braços de seu nacib ora com um ora com outro as mais das vezes com o menino bebinho e com seu tonico era tão bom bastava pensar tão bom ir ao bar passar entre os homens a vida era boa bastava viver se ao sol tomar banho frio mastigar as goiabas comer manga espada pimenta morder nas\n",
      "\n",
      "Jorge Amado: Tereza Batista Cansada de Guerra -- 165356 words\n",
      "de farsa onde cada um seu papel a contento à exceção do autor da ação executiva libório das neves 48 jor ge amado que passara de a lívido perdendo a contenção em hora imprópria o rábula na euforia da vitória em retórica ali na sala do fórum a inocência fora proclamada o culpado fizera se justiça valera a pena a trabalheira a visita à venerável professora carmelita mendonça e a lábia gasta para convencê la — querida mestra aqui vim lhe pedir para comparecer perante o juiz como testemunha e depor em falso — depor em falso lulu você está\n",
      "\n",
      "Machado de Assis: Dom Casmurro -- 65530 words\n",
      "papa que me parecia  parece me bem respondi depois de alguns segundos de reflexão pode ser um bom remédio  é o único bentinho é o único vou já hoje conversar com d glória lhe tudo e podemos partir daqui a dois meses ou antes  melhor é falar domingo que vem deixe me pensar primeiro  oh bentinho interrompeu o agregado pensar em quê você o que quer digo não se com o seu velho você o que quer é consultar a uma pessoa rigorosamente eram duas pessoas capitu e escobar mas eu a pés juntos que quisesse\n",
      "\n",
      "Machado de Assis: Esaú e Jacó -- 70941 words\n",
      "quando o coupé chegou ao meio do catete os dois levavam as mãos presas e a expressão do rosto era de não davam sequer pela gente das ruas não davam talvez por si mesmos leitor não é muito que a causa daquela expressão e desses dedos já lá ficou dita atrás quando era melhor deixar que a mas provavelmente não a não que tenhas o entendimento curto ou escuro mas porque o homem do homem e tu talvez com igual expressão simplesmente por saber que ias dançar sábado santos não dançava preferia o voltarete como distração a causa era virtuosa\n",
      "\n",
      "Machado de Assis: Memórias Póstumas de Brás Cubas -- 59337 words\n",
      "pôs no coração este amor da vida senão tu e se eu amo a vida por que te hás de a ti mesma matando me  porque já não preciso de ti não importa ao tempo o minuto que passa mas o minuto que vem o minuto que vem é forte supõe trazer em si a eternidade e traz a morte e como o outro mas o tempo egoísmo dizes tu sim egoísmo não tenho outra lei egoísmo conservação a onça mata o porque o raciocínio da onça é que ela deve viver e se o é tanto melhor eis\n",
      "\n",
      "Machado de Assis: Quincas Borba -- 76349 words\n",
      "guardava também uma porção de moedas de ouro porque rubião tinha a mania de as colecionar para a contemplação conhecia mais que o dono a soma total dos bens e assistia aos feitos na sem temporal mar de leite três contos bastavam insistiu ele e provou a sinceridade pelo fato de ser justamente marido da da comissão mas o rubião não desistiu dos cinco aproveitou a ocasião para pedir lhe mais dez precisava de dez contos palha coçou a cabeça  você desculpe disse lhe ao cabo de alguns instantes mas para que é que os quer não está certo\n",
      "\n"
     ]
    }
   ],
   "source": [
    "for i, seq in enumerate(sequences):\n",
    "    k = nr.randint(len(seq) - 100)\n",
    "    print('{}: {} -- {} words'.format(book_author[i], book_title[i], len(seq)).replace('_', ' '))\n",
    "    print(' '.join([i2w[x] for x in seq[k:k+100]]), end='\\n\\n')\n"
   ]
  },
  {
   "cell_type": "code",
   "execution_count": 7,
   "metadata": {
    "collapsed": false
   },
   "outputs": [
    {
     "name": "stdout",
     "output_type": "stream",
     "text": [
      "Val seqs: [2952, 16918, 10689, 6181, 15283, 33545, 26908, 33071, 13106, 14188, 11867, 15269]\n",
      "Val labels: [1, 1, 1, 1, 2, 2, 2, 2, 0, 0, 0, 0]\n",
      "Tra seqs: [4831, 12584, 5569, 4749, 47447, 53756, 78890, 100735, 16337, 12026, 15306, 43050, 6978, 55089, 37189, 19975, 13685, 80428, 28746, 31550, 36087, 44727, 32164, 18030]\n",
      "Tra labels: [1, 1, 1, 1, 2, 2, 2, 2, 0, 0, 0, 0, 1, 1, 1, 1, 2, 2, 2, 2, 0, 0, 0, 0]\n",
      "\n",
      "Number of training words:   799928\n",
      "Number of validation words: 199977\n"
     ]
    }
   ],
   "source": [
    "valid_split = 0.2\n",
    "valid_length = [int(0.2 * len(x)) for x in sequences]\n",
    "valid_start = [nr.randint(2000, len(x) - 2000 - n) for x, n in zip(sequences, valid_length)]\n",
    "\n",
    "valid_sequences = [seq[x0:x0+n] for seq, x0, n in zip(sequences, valid_start, valid_length)]\n",
    "\n",
    "train_sequences = [seq[:x0] for seq, x0 in zip(sequences, valid_start)] + \\\n",
    "                  [seq[x0+n:] for seq, x0, n in zip(sequences, valid_start, valid_length)]\n",
    "\n",
    "valid_labels = book_label\n",
    "train_labels = book_label + book_label\n",
    "\n",
    "n_train_words = sum([len(x) for x in train_sequences])\n",
    "n_valid_words = sum([len(x) for x in valid_sequences])\n",
    "\n",
    "print('Val seqs:', [len(seq) for seq in valid_sequences])\n",
    "print('Val labels:', valid_labels)\n",
    "print('Tra seqs:', [len(seq) for seq in train_sequences])\n",
    "print('Tra labels:', train_labels)\n",
    "print()\n",
    "print('Number of training words:  ', n_train_words)\n",
    "print('Number of validation words:', n_valid_words)"
   ]
  },
  {
   "cell_type": "code",
   "execution_count": 8,
   "metadata": {
    "collapsed": true
   },
   "outputs": [],
   "source": [
    "class MyDataGenerator:\n",
    "    def __init__(self, batch_size, seq_size, sequences, labels):\n",
    "        self.batch_size = batch_size\n",
    "        self.length = seq_size\n",
    "        self.sequences = sequences\n",
    "        self.labels = labels\n",
    "        self.n = len(sequences)\n",
    "        \n",
    "    def __call__(self):\n",
    "        while True:\n",
    "            batch = np.empty((self.batch_size, self.length), np.int32)\n",
    "            label = np.empty((self.batch_size, n_labels), np.int32)\n",
    "            for i in range(self.batch_size):\n",
    "                k = nr.randint(self.n)\n",
    "                p = nr.randint(0, len(self.sequences[k]) - self.length)\n",
    "                batch[i] = self.sequences[k][p:p+self.length]\n",
    "                label[i] = to_categorical(self.labels[k], num_classes=n_labels)\n",
    "            yield batch, label\n"
   ]
  },
  {
   "cell_type": "code",
   "execution_count": 9,
   "metadata": {
    "collapsed": false
   },
   "outputs": [],
   "source": [
    "batch_size = 32\n",
    "seq_size = 500\n",
    "\n",
    "train_gen = MyDataGenerator(batch_size, seq_size, train_sequences, train_labels)\n",
    "valid_gen = MyDataGenerator(batch_size, seq_size, valid_sequences, valid_labels)\n"
   ]
  },
  {
   "cell_type": "markdown",
   "metadata": {},
   "source": [
    "## Criando a rede neural"
   ]
  },
  {
   "cell_type": "markdown",
   "metadata": {},
   "source": [
    "### Carregando o embedding"
   ]
  },
  {
   "cell_type": "code",
   "execution_count": 10,
   "metadata": {
    "collapsed": true
   },
   "outputs": [],
   "source": [
    "EMBEDDING_DIM = 100\n",
    "embeddings_index = {}"
   ]
  },
  {
   "cell_type": "markdown",
   "metadata": {},
   "source": [
    "### Preparando a matriz de embeddings"
   ]
  },
  {
   "cell_type": "code",
   "execution_count": 11,
   "metadata": {
    "collapsed": false
   },
   "outputs": [
    {
     "name": "stdout",
     "output_type": "stream",
     "text": [
      "(20000, 100)\n"
     ]
    }
   ],
   "source": [
    "# prepare embedding matrix\n",
    "num_words = min(MAX_NB_WORDS, len(w2i))\n",
    "embedding_matrix = np.zeros((num_words, EMBEDDING_DIM))\n",
    "\n",
    "for i in range(1, MAX_NB_WORDS):\n",
    "    word = i2w[i]\n",
    "    embedding_vector = embeddings_index.get(word)\n",
    "    if embedding_vector is None:\n",
    "        # words not found in embedding index will be random\n",
    "        embedding_vector = nr.random(size=(100,)) - 0.5\n",
    "    embedding_matrix[i] = embedding_vector\n",
    "\n",
    "print(embedding_matrix.shape)\n",
    "embeddings_index = None"
   ]
  },
  {
   "cell_type": "code",
   "execution_count": 12,
   "metadata": {
    "collapsed": false
   },
   "outputs": [],
   "source": [
    "model_name = '../../models/livros_embeddings_1'\n",
    "\n",
    "def build_net(embedding_matrix=None, input_len=None, trainable=False):\n",
    "    num_words, embedding_dim = embedding_matrix.shape\n",
    "    \n",
    "    seq_input = Input(shape=(input_len,), dtype='int32')\n",
    "    embedding_layer = Embedding(num_words, embedding_dim, weights=[embedding_matrix],\n",
    "                                input_length=input_len, trainable=trainable)(seq_input)\n",
    "\n",
    "    x = Conv1D(128, 5, activation='relu')(embedding_layer)\n",
    "    x = MaxPooling1D(5)(x)\n",
    "\n",
    "    x = Dropout(0.5)(x)\n",
    "    \n",
    "    x = Conv1D(128, 5, activation='relu')(x)\n",
    "    x = MaxPooling1D(2)(x)\n",
    "    \n",
    "    x = Conv1D(128, 5, activation='relu')(x)\n",
    "    x = MaxPooling1D(2)(x)\n",
    "    \n",
    "    x = Dropout(0.5)(x)\n",
    "    \n",
    "    x = Flatten()(x)\n",
    "    x = Dense(128, activation='relu')(x)\n",
    "    \n",
    "    x = Dropout(0.5)(x)\n",
    "    \n",
    "    preds = Dense(n_labels, activation='softmax')(x)\n",
    "\n",
    "    model = Model(seq_input, preds)\n",
    "    return model\n",
    "\n",
    "model = build_net(embedding_matrix, seq_size, True)"
   ]
  },
  {
   "cell_type": "code",
   "execution_count": 13,
   "metadata": {
    "collapsed": false
   },
   "outputs": [
    {
     "data": {
      "image/png": "[encoded data removed]",
      "text/plain": [
       "<matplotlib.figure.Figure at 0x117abdbe0>"
      ]
     },
     "metadata": {},
     "output_type": "display_data"
    }
   ],
   "source": [
    "train_steps = n_train_words // (batch_size * seq_size)\n",
    "valid_steps = n_valid_words // (batch_size * seq_size)\n",
    "\n",
    "fit_params = {\n",
    "    'train_steps':     train_steps,\n",
    "    'valid_steps':     valid_steps,\n",
    "    'opt':             'adam',      #SGD(lr=0.001, momentum=0.9, nesterov=True), \n",
    "    'nepochs':         20, \n",
    "    'patience':        50,\n",
    "    'ploss':           1.0,\n",
    "    'reset':           False,\n",
    "}\n",
    "\n",
    "train_network(model, model_name, train_gen(), valid_gen(), **fit_params);"
   ]
  },
  {
   "cell_type": "code",
   "execution_count": 14,
   "metadata": {
    "collapsed": false
   },
   "outputs": [
    {
     "name": "stdout",
     "output_type": "stream",
     "text": [
      "Model from epoch 19\n",
      "[INFO] evaluating in the test data set ...\n",
      "\n",
      "[INFO] accuracy on the test data set: 100.00% [0.00008]\n"
     ]
    }
   ],
   "source": [
    "test_network(model_name, valid_gen(), valid_steps)"
   ]
  },
  {
   "cell_type": "code",
   "execution_count": null,
   "metadata": {
    "collapsed": true
   },
   "outputs": [],
   "source": []
  }
 ],
 "metadata": {
  "kernelspec": {
   "display_name": "Python 3",
   "language": "python",
   "name": "python3"
  },
  "language_info": {
   "codemirror_mode": {
    "name": "ipython",
    "version": 3
   },
   "file_extension": ".py",
   "mimetype": "text/x-python",
   "name": "python",
   "nbconvert_exporter": "python",
   "pygments_lexer": "ipython3",
   "version": "3.6.0"
  },
  "latex_envs": {
   "LaTeX_envs_menu_present": true,
   "autocomplete": true,
   "bibliofile": "biblio.bib",
   "cite_by": "apalike",
   "current_citInitial": 1,
   "eqLabelWithNumbers": true,
   "eqNumInitial": 1,
   "hotkeys": {
    "equation": "Ctrl-E",
    "itemize": "Ctrl-I"
   },
   "labels_anchors": false,
   "latex_user_defs": false,
   "report_style_numbering": false,
   "user_envs_cfg": false
  },
  "toc": {
   "colors": {
    "hover_highlight": "#DAA520",
    "navigate_num": "#000000",
    "navigate_text": "#333333",
    "running_highlight": "#FF0000",
    "selected_highlight": "#FFD700",
    "sidebar_border": "#EEEEEE",
    "wrapper_background": "#FFFFFF"
   },
   "moveMenuLeft": true,
   "nav_menu": {
    "height": "138px",
    "width": "252px"
   },
   "navigate_menu": true,
   "number_sections": true,
   "sideBar": true,
   "threshold": 4,
   "toc_cell": true,
   "toc_section_display": "block",
   "toc_window_display": false,
   "widenNotebook": false
  }
 },
 "nbformat": 4,
 "nbformat_minor": 2
}
