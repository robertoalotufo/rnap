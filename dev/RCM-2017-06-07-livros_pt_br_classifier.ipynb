{
 "cells": [
  {
   "cell_type": "markdown",
   "metadata": {
    "toc": "true"
   },
   "source": [
    "# Table of Contents\n",
    " <p><div class=\"lev1 toc-item\"><a href=\"#Classificação-de-Textos\" data-toc-modified-id=\"Classificação-de-Textos-1\"><span class=\"toc-item-num\">1&nbsp;&nbsp;</span>Classificação de Textos</a></div><div class=\"lev2 toc-item\"><a href=\"#Preâmbulo\" data-toc-modified-id=\"Preâmbulo-11\"><span class=\"toc-item-num\">1.1&nbsp;&nbsp;</span>Preâmbulo</a></div><div class=\"lev2 toc-item\"><a href=\"#Procedimentos-de-treino-e-teste\" data-toc-modified-id=\"Procedimentos-de-treino-e-teste-12\"><span class=\"toc-item-num\">1.2&nbsp;&nbsp;</span>Procedimentos de treino e teste</a></div><div class=\"lev2 toc-item\"><a href=\"#Preparando-o-dataset\" data-toc-modified-id=\"Preparando-o-dataset-13\"><span class=\"toc-item-num\">1.3&nbsp;&nbsp;</span>Preparando o dataset</a></div><div class=\"lev2 toc-item\"><a href=\"#Criando-a-rede-neural\" data-toc-modified-id=\"Criando-a-rede-neural-14\"><span class=\"toc-item-num\">1.4&nbsp;&nbsp;</span>Criando a rede neural</a></div><div class=\"lev3 toc-item\"><a href=\"#Carregando-o-embedding\" data-toc-modified-id=\"Carregando-o-embedding-141\"><span class=\"toc-item-num\">1.4.1&nbsp;&nbsp;</span>Carregando o embedding</a></div><div class=\"lev3 toc-item\"><a href=\"#Preparando-a-matriz-de-embeddings\" data-toc-modified-id=\"Preparando-a-matriz-de-embeddings-142\"><span class=\"toc-item-num\">1.4.2&nbsp;&nbsp;</span>Preparando a matriz de embeddings</a></div>"
   ]
  },
  {
   "cell_type": "markdown",
   "metadata": {},
   "source": [
    "# Classificação de Textos"
   ]
  },
  {
   "cell_type": "markdown",
   "metadata": {},
   "source": [
    "## Preâmbulo"
   ]
  },
  {
   "cell_type": "code",
   "execution_count": 1,
   "metadata": {
    "collapsed": false
   },
   "outputs": [
    {
     "name": "stderr",
     "output_type": "stream",
     "text": [
      "Using TensorFlow backend.\n"
     ]
    }
   ],
   "source": [
    "%matplotlib inline\n",
    "import matplotlib.pyplot as plot\n",
    "from IPython import display\n",
    "from __future__ import print_function\n",
    "\n",
    "import os\n",
    "import sys\n",
    "import glob\n",
    "import numpy as np\n",
    "import numpy.random as nr\n",
    "\n",
    "from keras.preprocessing.text import Tokenizer\n",
    "from keras.preprocessing.sequence import pad_sequences\n",
    "from keras.utils import to_categorical\n",
    "from keras.layers import Dense, Input, Flatten, Dropout\n",
    "from keras.layers import Conv1D, MaxPooling1D, Embedding\n",
    "from keras.models import Model\n",
    "from keras.optimizers import (SGD, \n",
    "                              RMSprop, \n",
    "                              Adam, \n",
    "                              Adadelta, \n",
    "                              Adagrad)\n",
    "\n",
    "sys.path.append('../src')\n",
    "from my_keras_utilities import (get_available_gpus, \n",
    "                                load_model_and_history, \n",
    "                                save_model_and_history, \n",
    "                                TrainingPlotter)\n",
    "\n",
    "import os\n",
    "os.makedirs('../../models',exist_ok=True)"
   ]
  },
  {
   "cell_type": "code",
   "execution_count": 2,
   "metadata": {
    "collapsed": false
   },
   "outputs": [
    {
     "name": "stdout",
     "output_type": "stream",
     "text": [
      "Backend:        tensorflow\n",
      "Data format:    channels_first\n",
      "Available GPUS: []\n"
     ]
    }
   ],
   "source": [
    "import keras.backend as K\n",
    "\n",
    "# K.set_image_data_format('channels_first')\n",
    "K.set_floatx('float32')\n",
    "\n",
    "print('Backend:        {}'.format(K.backend()))\n",
    "print('Data format:    {}'.format(K.image_data_format()))\n",
    "print('Available GPUS:', get_available_gpus())"
   ]
  },
  {
   "cell_type": "markdown",
   "metadata": {},
   "source": [
    "## Procedimentos de treino e teste"
   ]
  },
  {
   "cell_type": "code",
   "execution_count": 3,
   "metadata": {
    "collapsed": true
   },
   "outputs": [],
   "source": [
    "class MyCb(TrainingPlotter):\n",
    "    \n",
    "    def on_epoch_end(self, epoch, logs={}):\n",
    "        super().on_epoch_end(epoch, logs)\n",
    "\n",
    "\n",
    "def train_network(model, model_name, train_generator, validation_generator, \n",
    "                  train_steps=10, valid_steps=10, opt='rmsprop', nepochs=50, \n",
    "                  patience=50, reset=False, ploss=1.0):\n",
    "\n",
    "    do_plot = (ploss > 0.0)\n",
    "    \n",
    "    model_fn = model_name + '.model'\n",
    "    if reset and os.path.isfile(model_fn):\n",
    "        os.unlink(model_name + '.model')\n",
    "        \n",
    "    if not os.path.isfile(model_fn):\n",
    "        # initialize the optimizer and model\n",
    "        print(\"[INFO] compiling model...\")\n",
    "        model.compile(loss=\"categorical_crossentropy\", optimizer=opt, metrics=[\"accuracy\"])    \n",
    "\n",
    "        # History, checkpoint, earlystop, plot losses:\n",
    "        cb = MyCb(n=1, filepath=model_name, patience=patience, plot_losses=do_plot)\n",
    "        \n",
    "    else:\n",
    "        print(\"[INFO] loading model...\")\n",
    "        model, cb = load_model_and_history(model_name)\n",
    "        cb.patience = patience\n",
    "\n",
    "    past_epochs = cb.get_nepochs()\n",
    "    tr_epochs = nepochs - past_epochs\n",
    "    \n",
    "    if do_plot:\n",
    "        vv = 0\n",
    "        fig = plot.figure(figsize=(15,6))\n",
    "        plot.ylim(0.0, ploss)\n",
    "        plot.xlim(0, nepochs)\n",
    "        plot.grid(True)\n",
    "    else:\n",
    "        vv = 2\n",
    "\n",
    "    print(\"[INFO] training for {} epochs of {} steps each...\".format(tr_epochs, train_steps))\n",
    "    try:\n",
    "        model.fit_generator(train_generator, steps_per_epoch=train_steps,\n",
    "                            validation_data=validation_generator, validation_steps=valid_steps,\n",
    "                            epochs=nepochs, verbose=vv, callbacks=[cb])\n",
    "    except KeyboardInterrupt:\n",
    "        pass\n",
    "\n",
    "    return model, cb\n",
    "\n",
    "\n",
    "def test_network(model_name, validation_generator, nb_validation_samples):\n",
    "    model, histo = load_model_and_history(model_name)\n",
    "    print('Model from epoch {}'.format(histo.best_epoch))\n",
    "    print(\"[INFO] evaluating in the test data set ...\")\n",
    "    loss, accuracy = model.evaluate_generator(validation_generator, nb_validation_samples)\n",
    "    print(\"\\n[INFO] accuracy on the test data set: {:.2f}% [{:.5f}]\".format(accuracy * 100, loss))\n"
   ]
  },
  {
   "cell_type": "markdown",
   "metadata": {},
   "source": [
    "## Preparando o dataset"
   ]
  },
  {
   "cell_type": "code",
   "execution_count": 4,
   "metadata": {
    "collapsed": false
   },
   "outputs": [
    {
     "name": "stdout",
     "output_type": "stream",
     "text": [
      "  87788  Fernando_Sabino    O_Bom_Ladrão\n",
      " 511681  Fernando_Sabino    O_Encontro_Marcado\n",
      " 328288  Fernando_Sabino    O_Grande_Mentecapto\n",
      " 180313  Fernando_Sabino    O_Menino_no_Espelho\n",
      " 427711  Jorge_Amado        Capitães_de_Areia\n",
      "1030735  Jorge_Amado        Dona_flor_seus_dois_maridos\n",
      " 828417  Jorge_Amado        Gabriela\n",
      "1001226  Jorge_Amado        Tereza_Batista_Cansada_de_Guerra\n",
      "\n",
      "Labels: [0, 0, 0, 0, 1, 1, 1, 1] 2\n"
     ]
    }
   ],
   "source": [
    "data_dir = '../../datasets/livros/'\n",
    "\n",
    "autores = [\n",
    "    'Fernando_Sabino', \n",
    "    'Jorge_Amado',\n",
    "#     'Machado_de_Assis',\n",
    "]\n",
    "\n",
    "book_text = []\n",
    "book_author = []\n",
    "book_title = []\n",
    "for aut in autores:\n",
    "    for fn in glob.glob(data_dir + aut + '*.txt'):\n",
    "        author, book = os.path.basename(fn).split('__')\n",
    "        txt = open(fn).read()\n",
    "        book_text.append(txt)\n",
    "        book_author.append(author)\n",
    "        book_title.append(book[:-4])\n",
    "        print('{:7d}  {:18s} {}'.format(len(txt), author, book[:-4]))\n",
    "\n",
    "author_list = list(set(book_author))\n",
    "n_labels = len(author_list)\n",
    "book_label = [author_list.index(a) for a in book_author]\n",
    "print('\\nLabels:', book_label, n_labels)"
   ]
  },
  {
   "cell_type": "code",
   "execution_count": 5,
   "metadata": {
    "collapsed": false
   },
   "outputs": [
    {
     "name": "stdout",
     "output_type": "stream",
     "text": [
      "Found 44263 unique tokens.\n"
     ]
    }
   ],
   "source": [
    "MAX_NB_WORDS = 20000\n",
    "\n",
    "tokenizer = Tokenizer(num_words=MAX_NB_WORDS)\n",
    "tokenizer.fit_on_texts(book_text)\n",
    "sequences = tokenizer.texts_to_sequences(book_text)\n",
    "\n",
    "w2i = tokenizer.word_index\n",
    "i2w = dict([(v, k) for k, v in w2i.items()])\n",
    "print('Found %s unique tokens.' % len(w2i))"
   ]
  },
  {
   "cell_type": "code",
   "execution_count": 6,
   "metadata": {
    "collapsed": false,
    "scrolled": false
   },
   "outputs": [
    {
     "name": "stdout",
     "output_type": "stream",
     "text": [
      "Fernando Sabino: O Bom Ladrão -- 14861 words\n",
      "jornal encontrei os dois sentados no sofá o que de vez em quando acontecia e que de saída já me irritava mas aconteceu que naquela vez percebi que trocavam olhares misteriosos ante minha chegada se não fosse a vontade de rir que isabel mal continha certamente minha desconfiança teria sido mais grave parecia que estavam rindo de mim – e mais tarde verifiquei que de fato estavam quando me viu garcia se levantou e veio me dar um abraço sem qualquer propósito como é que há de novo de novo era aquela diante da frieza com que eu o tratava\n",
      "\n",
      "Fernando Sabino: O Encontro Marcado -- 85365 words\n",
      "disser uma coisa — não pode dizer — você não devia ter apontado aquela palavra feia no poe ma do sílvio ela o olhou surpreendida — uê mas se foi ele que escreveu você tem umas bobagens — não devia ter chamado a atenção que não viu — ora também você está cheio de coisas e os palavrões que vânia fala toda hora — vânia é diferente mais velha que você ela é assim mesmo que se há de fazer meu amor pode parecer de minha parte mas não gosto que você ouça palavra feia não gosto que você seja\n",
      "\n",
      "Fernando Sabino: O Grande Mentecapto -- 54155 words\n",
      "infância junto a um rio pode saber o que o rio significa eu como não passei a minha não posso saber sei só que geraldo mal acabava a aula na escola saía correndo feito doido em direção ao rio do outro lado da cidade às vezes iam com ele alguns companheiros os irmãos às vezes ele ia só lá chegando tirava a roupa toda e se atirava n água mesmo que estivesse fazendo frio quando outros iam com ele ficavam brincando de se empurrar fazer guerra de água mergulhar para passar debaixo das pernas uns dos outros ou simplesmente para\n",
      "\n",
      "Fernando Sabino: O Menino no Espelho -- 31195 words\n",
      "o resto da sua vida — quero — respondi o segredo se resumia em três palavras que ele pronunciou com intensidade mãos nos meus ombros e olhos nos meus olhos — pense nos outros na hora achei esse segredo meio sem graça só bem mais tarde vim a entender o conselho que tantas vezes na vida deixei de cumprir mas que sempre deu certo quando me lembrei de segui lo fazendo me feliz como um menino o homem se curvou para me beijar na testa se despedindo — quem é você — perguntei ainda ele se limitou a sorrir depois\n",
      "\n",
      "Jorge Amado: Capitães de Areia -- 76275 words\n",
      "não soubessem que era amor apesar de não ser noite de lua havia um romântico romance no casarão colonial ela sorria e baixava os olhos por vezes com um olhe porque pensava que isto era namorar e seu coração batia rápido quando olhava não sabia que isso era amor por fim a lua veio estendeu sua luz amarela no trapiche pedro bala se deitou na areia e mesmo de olhos fechados via dora sentiu quando ela chegou e deitou a seu lado dis se – tu agora é minha noiva um dia a gente se casa continuou de olhos fechados\n",
      "\n",
      "Jorge Amado: Dona flor seus dois maridos -- 167374 words\n",
      "jamais a nenhuma dever se desprezar por madura ou velha caso contrário podia se cair em erros fatais mulheres já além dos cinqüenta ainda por vezes mantinham rara e admirável forma e juventude capazes de de recordes imprevisíveis ele o sabia por viva experiência e ainda agora ao fitar as ruínas de dona rozilda recordava se do esplendor de célia maria pia dos wanderleys e prata todos esses nomes para designar uma desse tamanho senhora da alta sociedade mulherzinha espevitada levada da b com mais de sessenta anos e a pôr florestas de chifres no marido e nos amantes insaciável\n",
      "\n",
      "Jorge Amado: Gabriela -- 134958 words\n",
      "devia o progresso da associação para vice presidente o sírio maluf dono da maior loja de ilhéus íntimo de ramiro bastos em cujas terras muitos anos antes começara com uma tenda de mantimentos para orador oficial o dr maurício caires além do nome de ataulfo passos um outro se repetia nas duas chapas indicado para o mesmo modesto cargo de quarto secretário do árabe nacib a saad se uma disputa as forças se mas ataulfo homem hábil e bem visto declarou que só aceitaria sua candidatura se os adversários se entendessem em acordo para a de uma chapa única reunindo\n",
      "\n",
      "Jorge Amado: Tereza Batista Cansada de Guerra -- 166036 words\n",
      "em deserto virei nas patas dos caranguejos andando para trás virei em meio ao temporal náufrago em busca do porto perdido de teu seio de pedra teu ventre de moringa tua concha de as algas de cobre a ostra de bronze a estrela de ouro rio e mar mar e rio águas de adeus ondas de nunca mais da ponte dos braços de tereza salta o marinheiro para o s da barcaça gigante de pé com gosto de sal aroma de maresia algemas nos punhos grilhetas nos pés estátua de pedra imóvel tereza os olhos secos o sol rolando nas\n",
      "\n"
     ]
    }
   ],
   "source": [
    "for i, seq in enumerate(sequences):\n",
    "    k = nr.randint(len(seq) - 100)\n",
    "    print('{}: {} -- {} words'.format(book_author[i], book_title[i], len(seq)).replace('_', ' '))\n",
    "    print(' '.join([i2w[x] for x in seq[k:k+100]]), end='\\n\\n')\n"
   ]
  },
  {
   "cell_type": "code",
   "execution_count": 7,
   "metadata": {
    "collapsed": false
   },
   "outputs": [
    {
     "name": "stdout",
     "output_type": "stream",
     "text": [
      "Val seqs: [2972, 17073, 10831, 6239, 15255, 33474, 26991, 33207]\n",
      "Val labels: [0, 0, 0, 0, 1, 1, 1, 1]\n",
      "Tra seqs: [3080, 62076, 16893, 9001, 20536, 72412, 27702, 20458, 8809, 6216, 26431, 15955, 40484, 61488, 80265, 112371]\n",
      "Tra labels: [0, 0, 0, 0, 1, 1, 1, 1, 0, 0, 0, 0, 1, 1, 1, 1]\n",
      "\n",
      "Number of training words:   584177\n",
      "Number of validation words: 146042\n"
     ]
    }
   ],
   "source": [
    "valid_split = 0.2\n",
    "valid_length = [int(0.2 * len(x)) for x in sequences]\n",
    "valid_start = [nr.randint(2000, len(x) - 2000 - n) for x, n in zip(sequences, valid_length)]\n",
    "\n",
    "valid_sequences = [seq[x0:x0+n] for seq, x0, n in zip(sequences, valid_start, valid_length)]\n",
    "\n",
    "train_sequences = [seq[:x0] for seq, x0 in zip(sequences, valid_start)] + \\\n",
    "                  [seq[x0+n:] for seq, x0, n in zip(sequences, valid_start, valid_length)]\n",
    "\n",
    "valid_labels = book_label\n",
    "train_labels = book_label + book_label\n",
    "\n",
    "n_train_words = sum([len(x) for x in train_sequences])\n",
    "n_valid_words = sum([len(x) for x in valid_sequences])\n",
    "\n",
    "print('Val seqs:', [len(seq) for seq in valid_sequences])\n",
    "print('Val labels:', valid_labels)\n",
    "print('Tra seqs:', [len(seq) for seq in train_sequences])\n",
    "print('Tra labels:', train_labels)\n",
    "print()\n",
    "print('Number of training words:  ', n_train_words)\n",
    "print('Number of validation words:', n_valid_words)"
   ]
  },
  {
   "cell_type": "code",
   "execution_count": 8,
   "metadata": {
    "collapsed": true
   },
   "outputs": [],
   "source": [
    "class MyDataGenerator:\n",
    "    def __init__(self, batch_size, seq_size, sequences, labels):\n",
    "        self.batch_size = batch_size\n",
    "        self.length = seq_size\n",
    "        self.sequences = sequences\n",
    "        self.labels = labels\n",
    "        self.n = len(sequences)\n",
    "        \n",
    "    def __call__(self):\n",
    "        while True:\n",
    "            batch = np.empty((self.batch_size, self.length), np.int32)\n",
    "            label = np.empty((self.batch_size, n_labels), np.int32)\n",
    "            for i in range(self.batch_size):\n",
    "                k = nr.randint(self.n)\n",
    "                p = nr.randint(0, len(self.sequences[k]) - self.length)\n",
    "                batch[i] = self.sequences[k][p:p+self.length]\n",
    "                label[i] = to_categorical(self.labels[k], num_classes=n_labels)\n",
    "            yield batch, label\n"
   ]
  },
  {
   "cell_type": "code",
   "execution_count": 9,
   "metadata": {
    "collapsed": false
   },
   "outputs": [],
   "source": [
    "batch_size = 32\n",
    "seq_size = 500\n",
    "\n",
    "train_gen = MyDataGenerator(batch_size, seq_size, train_sequences, train_labels)\n",
    "valid_gen = MyDataGenerator(batch_size, seq_size, valid_sequences, valid_labels)\n"
   ]
  },
  {
   "cell_type": "markdown",
   "metadata": {},
   "source": [
    "## Criando a rede neural"
   ]
  },
  {
   "cell_type": "markdown",
   "metadata": {},
   "source": [
    "### Carregando o embedding"
   ]
  },
  {
   "cell_type": "code",
   "execution_count": 10,
   "metadata": {
    "collapsed": true
   },
   "outputs": [],
   "source": [
    "EMBEDDING_DIM = 100\n",
    "embeddings_index = {}"
   ]
  },
  {
   "cell_type": "markdown",
   "metadata": {},
   "source": [
    "### Preparando a matriz de embeddings"
   ]
  },
  {
   "cell_type": "code",
   "execution_count": 11,
   "metadata": {
    "collapsed": false
   },
   "outputs": [
    {
     "name": "stdout",
     "output_type": "stream",
     "text": [
      "(20000, 100)\n"
     ]
    }
   ],
   "source": [
    "# prepare embedding matrix\n",
    "num_words = min(MAX_NB_WORDS, len(w2i))\n",
    "embedding_matrix = np.zeros((num_words, EMBEDDING_DIM))\n",
    "\n",
    "for i in range(1, MAX_NB_WORDS):\n",
    "    word = i2w[i]\n",
    "    embedding_vector = embeddings_index.get(word)\n",
    "    if embedding_vector is None:\n",
    "        # words not found in embedding index will be random\n",
    "        embedding_vector = nr.random(size=(100,)) - 0.5\n",
    "    embedding_matrix[i] = embedding_vector\n",
    "\n",
    "print(embedding_matrix.shape)\n",
    "embeddings_index = None"
   ]
  },
  {
   "cell_type": "code",
   "execution_count": 12,
   "metadata": {
    "collapsed": false
   },
   "outputs": [],
   "source": [
    "model_name = '../../models/livros_embeddings_1'\n",
    "\n",
    "def build_net(embedding_matrix=None, input_len=None, trainable=False):\n",
    "    num_words, embedding_dim = embedding_matrix.shape\n",
    "    \n",
    "    seq_input = Input(shape=(input_len,), dtype='int32')\n",
    "    embedding_layer = Embedding(num_words, embedding_dim, weights=[embedding_matrix],\n",
    "                                input_length=input_len, trainable=trainable)(seq_input)\n",
    "\n",
    "    x = Conv1D(128, 5, activation='relu')(embedding_layer)\n",
    "    x = MaxPooling1D(5)(x)\n",
    "    x = Conv1D(128, 5, activation='relu')(x)\n",
    "    x = MaxPooling1D(2)(x)\n",
    "    x = Conv1D(128, 5, activation='relu')(x)\n",
    "    x = MaxPooling1D(2)(x)\n",
    "    x = Flatten()(x)\n",
    "    x = Dense(128, activation='relu')(x)\n",
    "    \n",
    "    x = Dropout(0.5)(x)\n",
    "    \n",
    "    preds = Dense(n_labels, activation='softmax')(x)\n",
    "\n",
    "    model = Model(seq_input, preds)\n",
    "    return model\n",
    "\n",
    "model = build_net(embedding_matrix, seq_size, True)"
   ]
  },
  {
   "cell_type": "code",
   "execution_count": 13,
   "metadata": {
    "collapsed": false
   },
   "outputs": [
    {
     "data": {
      "image/png": "[encoded data removed]",
      "text/plain": [
       "<matplotlib.figure.Figure at 0x119b30710>"
      ]
     },
     "metadata": {},
     "output_type": "display_data"
    }
   ],
   "source": [
    "train_steps = n_train_words // (batch_size * seq_size)\n",
    "valid_steps = n_valid_words // (batch_size * seq_size)\n",
    "\n",
    "fit_params = {\n",
    "    'train_steps':     train_steps,\n",
    "    'valid_steps':     valid_steps,\n",
    "    'opt':             'adam',      #SGD(lr=0.001, momentum=0.9, nesterov=True), \n",
    "    'nepochs':         100, \n",
    "    'patience':        50,\n",
    "    'ploss':           2.0,\n",
    "    'reset':           True,\n",
    "}\n",
    "\n",
    "train_network(model, model_name, train_gen(), valid_gen(), **fit_params);"
   ]
  },
  {
   "cell_type": "code",
   "execution_count": 14,
   "metadata": {
    "collapsed": false
   },
   "outputs": [
    {
     "name": "stdout",
     "output_type": "stream",
     "text": [
      "Model from epoch 10\n",
      "[INFO] evaluating in the test data set ...\n",
      "\n",
      "[INFO] accuracy on the test data set: 98.26% [0.06429]\n"
     ]
    }
   ],
   "source": [
    "test_network(model_name, valid_gen(), valid_steps)"
   ]
  },
  {
   "cell_type": "code",
   "execution_count": null,
   "metadata": {
    "collapsed": true
   },
   "outputs": [],
   "source": []
  }
 ],
 "metadata": {
  "kernelspec": {
   "display_name": "Python 3",
   "language": "python",
   "name": "python3"
  },
  "language_info": {
   "codemirror_mode": {
    "name": "ipython",
    "version": 3
   },
   "file_extension": ".py",
   "mimetype": "text/x-python",
   "name": "python",
   "nbconvert_exporter": "python",
   "pygments_lexer": "ipython3",
   "version": "3.6.0"
  },
  "latex_envs": {
   "LaTeX_envs_menu_present": true,
   "autocomplete": true,
   "bibliofile": "biblio.bib",
   "cite_by": "apalike",
   "current_citInitial": 1,
   "eqLabelWithNumbers": true,
   "eqNumInitial": 1,
   "hotkeys": {
    "equation": "Ctrl-E",
    "itemize": "Ctrl-I"
   },
   "labels_anchors": false,
   "latex_user_defs": false,
   "report_style_numbering": false,
   "user_envs_cfg": false
  },
  "toc": {
   "colors": {
    "hover_highlight": "#DAA520",
    "navigate_num": "#000000",
    "navigate_text": "#333333",
    "running_highlight": "#FF0000",
    "selected_highlight": "#FFD700",
    "sidebar_border": "#EEEEEE",
    "wrapper_background": "#FFFFFF"
   },
   "moveMenuLeft": true,
   "nav_menu": {
    "height": "138px",
    "width": "252px"
   },
   "navigate_menu": true,
   "number_sections": true,
   "sideBar": true,
   "threshold": 4,
   "toc_cell": true,
   "toc_section_display": "block",
   "toc_window_display": false,
   "widenNotebook": false
  }
 },
 "nbformat": 4,
 "nbformat_minor": 2
}
