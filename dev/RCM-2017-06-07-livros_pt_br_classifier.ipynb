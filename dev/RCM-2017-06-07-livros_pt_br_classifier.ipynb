{
 "cells": [
  {
   "cell_type": "markdown",
   "metadata": {
    "toc": "true"
   },
   "source": [
    "# Table of Contents\n",
    " <p><div class=\"lev1 toc-item\"><a href=\"#Classificação-de-Textos\" data-toc-modified-id=\"Classificação-de-Textos-1\"><span class=\"toc-item-num\">1&nbsp;&nbsp;</span>Classificação de Textos</a></div><div class=\"lev2 toc-item\"><a href=\"#Preâmbulo\" data-toc-modified-id=\"Preâmbulo-11\"><span class=\"toc-item-num\">1.1&nbsp;&nbsp;</span>Preâmbulo</a></div><div class=\"lev2 toc-item\"><a href=\"#Procedimentos-de-treino-e-teste\" data-toc-modified-id=\"Procedimentos-de-treino-e-teste-12\"><span class=\"toc-item-num\">1.2&nbsp;&nbsp;</span>Procedimentos de treino e teste</a></div><div class=\"lev2 toc-item\"><a href=\"#Preparando-o-dataset\" data-toc-modified-id=\"Preparando-o-dataset-13\"><span class=\"toc-item-num\">1.3&nbsp;&nbsp;</span>Preparando o dataset</a></div><div class=\"lev3 toc-item\"><a href=\"#Buscando-o-texto-dos-livros-e-definindo-os-rótulos\" data-toc-modified-id=\"Buscando-o-texto-dos-livros-e-definindo-os-rótulos-131\"><span class=\"toc-item-num\">1.3.1&nbsp;&nbsp;</span>Buscando o texto dos livros e definindo os rótulos</a></div><div class=\"lev3 toc-item\"><a href=\"#Representando-as-palavras-através-de-índices-inteiros\" data-toc-modified-id=\"Representando-as-palavras-através-de-índices-inteiros-132\"><span class=\"toc-item-num\">1.3.2&nbsp;&nbsp;</span>Representando as palavras através de índices inteiros</a></div><div class=\"lev3 toc-item\"><a href=\"#Palavras-características-de-cada-livro\" data-toc-modified-id=\"Palavras-características-de-cada-livro-133\"><span class=\"toc-item-num\">1.3.3&nbsp;&nbsp;</span>Palavras características de cada livro</a></div><div class=\"lev3 toc-item\"><a href=\"#Dividindo-o-dataset-entre-treinamento-e-validação\" data-toc-modified-id=\"Dividindo-o-dataset-entre-treinamento-e-validação-134\"><span class=\"toc-item-num\">1.3.4&nbsp;&nbsp;</span>Dividindo o dataset entre treinamento e validação</a></div><div class=\"lev3 toc-item\"><a href=\"#Criando--geradores-para-treino-e-validação\" data-toc-modified-id=\"Criando--geradores-para-treino-e-validação-135\"><span class=\"toc-item-num\">1.3.5&nbsp;&nbsp;</span>Criando  geradores para treino e validação</a></div><div class=\"lev2 toc-item\"><a href=\"#Criando-a-rede-neural\" data-toc-modified-id=\"Criando-a-rede-neural-14\"><span class=\"toc-item-num\">1.4&nbsp;&nbsp;</span>Criando a rede neural</a></div><div class=\"lev3 toc-item\"><a href=\"#Preparando-a-matriz-de-embeddings\" data-toc-modified-id=\"Preparando-a-matriz-de-embeddings-141\"><span class=\"toc-item-num\">1.4.1&nbsp;&nbsp;</span>Preparando a matriz de embeddings</a></div><div class=\"lev3 toc-item\"><a href=\"#Construindo-a-rede\" data-toc-modified-id=\"Construindo-a-rede-142\"><span class=\"toc-item-num\">1.4.2&nbsp;&nbsp;</span>Construindo a rede</a></div><div class=\"lev2 toc-item\"><a href=\"#Treinando\" data-toc-modified-id=\"Treinando-15\"><span class=\"toc-item-num\">1.5&nbsp;&nbsp;</span>Treinando</a></div><div class=\"lev2 toc-item\"><a href=\"#Avaliando\" data-toc-modified-id=\"Avaliando-16\"><span class=\"toc-item-num\">1.6&nbsp;&nbsp;</span>Avaliando</a></div>"
   ]
  },
  {
   "cell_type": "markdown",
   "metadata": {},
   "source": [
    "# Classificação de Textos"
   ]
  },
  {
   "cell_type": "markdown",
   "metadata": {},
   "source": [
    "## Preâmbulo"
   ]
  },
  {
   "cell_type": "code",
   "execution_count": 1,
   "metadata": {
    "collapsed": false
   },
   "outputs": [
    {
     "name": "stderr",
     "output_type": "stream",
     "text": [
      "Using TensorFlow backend.\n"
     ]
    }
   ],
   "source": [
    "%matplotlib inline\n",
    "import matplotlib.pyplot as plot\n",
    "from IPython import display\n",
    "from __future__ import print_function\n",
    "\n",
    "import os\n",
    "import sys\n",
    "import glob\n",
    "import numpy as np\n",
    "import numpy.random as nr\n",
    "\n",
    "from keras.preprocessing.text import Tokenizer\n",
    "from keras.preprocessing.sequence import pad_sequences\n",
    "from keras.utils import to_categorical\n",
    "from keras.layers import Dense, Input, Flatten, Dropout\n",
    "from keras.layers import Conv1D, MaxPooling1D, Embedding\n",
    "from keras.models import Model\n",
    "from keras.optimizers import (SGD, \n",
    "                              RMSprop, \n",
    "                              Adam, \n",
    "                              Adadelta, \n",
    "                              Adagrad)\n",
    "\n",
    "sys.path.append('../src')\n",
    "from my_keras_utilities import (get_available_gpus, \n",
    "                                load_model_and_history, \n",
    "                                save_model_and_history, \n",
    "                                TrainingPlotter)\n",
    "\n",
    "os.makedirs('../../models',exist_ok=True)\n",
    "np.set_printoptions(precision=3, linewidth=120)"
   ]
  },
  {
   "cell_type": "code",
   "execution_count": 2,
   "metadata": {
    "collapsed": false
   },
   "outputs": [
    {
     "name": "stdout",
     "output_type": "stream",
     "text": [
      "Backend:        tensorflow\n",
      "Data format:    channels_first\n",
      "Available GPUS: []\n"
     ]
    }
   ],
   "source": [
    "import keras.backend as K\n",
    "\n",
    "# K.set_image_data_format('channels_first')\n",
    "K.set_floatx('float32')\n",
    "\n",
    "print('Backend:        {}'.format(K.backend()))\n",
    "print('Data format:    {}'.format(K.image_data_format()))\n",
    "print('Available GPUS:', get_available_gpus())"
   ]
  },
  {
   "cell_type": "markdown",
   "metadata": {},
   "source": [
    "## Procedimentos de treino e teste"
   ]
  },
  {
   "cell_type": "code",
   "execution_count": 3,
   "metadata": {
    "collapsed": true
   },
   "outputs": [],
   "source": [
    "class MyCb(TrainingPlotter):\n",
    "    \n",
    "    def on_epoch_end(self, epoch, logs={}):\n",
    "        super().on_epoch_end(epoch, logs)\n",
    "\n",
    "\n",
    "def train_network(model, model_name, train_generator, validation_generator, \n",
    "                  train_steps=10, valid_steps=10, opt='rmsprop', nepochs=50, \n",
    "                  patience=50, reset=False, ploss=1.0):\n",
    "\n",
    "    do_plot = (ploss > 0.0)\n",
    "    \n",
    "    model_fn = model_name + '.model'\n",
    "    if reset and os.path.isfile(model_fn):\n",
    "        os.unlink(model_name + '.model')\n",
    "        \n",
    "    if not os.path.isfile(model_fn):\n",
    "        # initialize the optimizer and model\n",
    "        print(\"[INFO] compiling model...\")\n",
    "        model.compile(loss=\"categorical_crossentropy\", optimizer=opt, metrics=[\"accuracy\"])    \n",
    "\n",
    "        # History, checkpoint, earlystop, plot losses:\n",
    "        cb = MyCb(n=1, filepath=model_name, patience=patience, plot_losses=do_plot)\n",
    "        \n",
    "    else:\n",
    "        print(\"[INFO] loading model...\")\n",
    "        model, cb = load_model_and_history(model_name)\n",
    "        cb.patience = patience\n",
    "\n",
    "    past_epochs = cb.get_nepochs()\n",
    "    tr_epochs = nepochs - past_epochs\n",
    "    \n",
    "    if do_plot:\n",
    "        vv = 0\n",
    "        fig = plot.figure(figsize=(15,6))\n",
    "        plot.ylim(0.0, ploss)\n",
    "        plot.xlim(0, nepochs)\n",
    "        plot.grid(True)\n",
    "    else:\n",
    "        vv = 2\n",
    "\n",
    "    print(\"[INFO] training for {} epochs of {} steps each...\".format(tr_epochs, train_steps))\n",
    "    try:\n",
    "        model.fit_generator(train_generator, steps_per_epoch=train_steps,\n",
    "                            validation_data=validation_generator, validation_steps=valid_steps,\n",
    "                            epochs=nepochs, verbose=vv, callbacks=[cb])\n",
    "    except KeyboardInterrupt:\n",
    "        pass\n",
    "\n",
    "    return model, cb\n",
    "\n",
    "\n",
    "def test_network(model_name, validation_generator, nb_validation_samples):\n",
    "    model, histo = load_model_and_history(model_name)\n",
    "    print('Model from epoch {}'.format(histo.best_epoch))\n",
    "    print(\"[INFO] evaluating in the test data set ...\")\n",
    "    loss, accuracy = model.evaluate_generator(validation_generator, nb_validation_samples)\n",
    "    print(\"\\n[INFO] accuracy on the test data set: {:.2f}% [{:.5f}]\".format(accuracy * 100, loss))\n"
   ]
  },
  {
   "cell_type": "markdown",
   "metadata": {},
   "source": [
    "## Preparando o dataset"
   ]
  },
  {
   "cell_type": "markdown",
   "metadata": {},
   "source": [
    "### Buscando o texto dos livros e definindo os rótulos"
   ]
  },
  {
   "cell_type": "code",
   "execution_count": 4,
   "metadata": {
    "collapsed": false
   },
   "outputs": [
    {
     "name": "stdout",
     "output_type": "stream",
     "text": [
      "  87788  Fernando_Sabino    O_Bom_Ladrão\n",
      " 511681  Fernando_Sabino    O_Encontro_Marcado\n",
      " 328288  Fernando_Sabino    O_Grande_Mentecapto\n",
      " 180313  Fernando_Sabino    O_Menino_no_Espelho\n",
      " 427711  Jorge_Amado        Capitães_de_Areia\n",
      "1030735  Jorge_Amado        Dona_flor_seus_dois_maridos\n",
      " 828417  Jorge_Amado        Gabriela\n",
      "1001226  Jorge_Amado        Tereza_Batista_Cansada_de_Guerra\n",
      " 372459  Machado_de_Assis   Dom_Casmurro\n",
      " 411043  Machado_de_Assis   Esaú_e_Jacó\n",
      " 352965  Machado_de_Assis   Memórias_Póstumas_de_Brás_Cubas\n",
      " 443778  Machado_de_Assis   Quincas_Borba\n",
      "\n",
      "Labels:\n",
      "     0: Machado_de_Assis\n",
      "     1: Fernando_Sabino\n",
      "     2: Jorge_Amado\n"
     ]
    }
   ],
   "source": [
    "data_dir = '../../datasets/livros/'\n",
    "\n",
    "autores = [\n",
    "    'Fernando_Sabino', \n",
    "    'Jorge_Amado',\n",
    "    'Machado_de_Assis',\n",
    "]\n",
    "\n",
    "book_text = []\n",
    "book_author = []\n",
    "book_title = []\n",
    "for aut in autores:\n",
    "    for fn in glob.glob(data_dir + aut + '*.txt'):\n",
    "        author, book = os.path.basename(fn).split('__')\n",
    "        txt = open(fn).read().replace('\\x97', '')\n",
    "        book_text.append(txt)\n",
    "        book_author.append(author)\n",
    "        book_title.append(book[:-4])\n",
    "        print('{:7d}  {:18s} {}'.format(len(txt), author, book[:-4]))\n",
    "\n",
    "author_list = list(set(book_author))\n",
    "n_labels = len(author_list)\n",
    "n_books = len(book_title)\n",
    "book_label = [author_list.index(a) for a in book_author]\n",
    "print('\\nLabels:')\n",
    "for i, autor in enumerate(author_list):\n",
    "    print('    {:2d}: {}'.format(i, autor))"
   ]
  },
  {
   "cell_type": "markdown",
   "metadata": {},
   "source": [
    "### Representando as palavras através de índices inteiros"
   ]
  },
  {
   "cell_type": "code",
   "execution_count": 5,
   "metadata": {
    "collapsed": false
   },
   "outputs": [
    {
     "name": "stdout",
     "output_type": "stream",
     "text": [
      "Found 51557 unique tokens.\n"
     ]
    }
   ],
   "source": [
    "MAX_NB_WORDS = 20000\n",
    "\n",
    "tokenizer = Tokenizer(num_words=MAX_NB_WORDS)\n",
    "tokenizer.fit_on_texts(book_text)\n",
    "sequences = tokenizer.texts_to_sequences(book_text)\n",
    "\n",
    "w2i = tokenizer.word_index\n",
    "i2w = dict([(v, k) for k, v in w2i.items()])\n",
    "\n",
    "i2w_vec = np.array([i2w[i+1] for i in range(len(i2w))])\n",
    "\n",
    "print('Found %s unique tokens.' % len(w2i))"
   ]
  },
  {
   "cell_type": "code",
   "execution_count": 6,
   "metadata": {
    "collapsed": false,
    "scrolled": false
   },
   "outputs": [
    {
     "name": "stdout",
     "output_type": "stream",
     "text": [
      "Fernando Sabino: O Bom Ladrão -- 14761 palavras\n",
      "de teatro o homem de novo diante de nós não tenho tempo a perder é melhor evitar que eu me aborreça onde é que está um instante de silêncio isabel respirou fundo e me ordenou vá buscar estarrecido não saiu do lugar buscar o quê – tentei disfarçar e falei baixinho você está louca isabel vá buscar – repetiu ela mais alto fechando os olhos como se desse tudo por perdido o investigador mostrou os dentes assim é que eu gosto nada de gracinhas hein o guarda acompanhando tudo lá da porta subi a escada devagar apoiado no os degraus\n",
      "\n",
      "Fernando Sabino: O Encontro Marcado -- 84591 palavras\n",
      "caiu n ’ água a vaia costumeira saudou o incidente isso nunca lhe acontecera acontecia sem pre com algum outro nunca com ele aproveitou se para mo lhar corpo em movimentos deliberadamente livres não costumava molhar o corpo como os outros nada dores preferia nas provas de curta distância o impacto violento da água fria nadou uns vinte metros a assistência finalmente o seu belo estilo tão conhecido antigamente prorrompeu em aplausos procurando lo foi dada a partida logo às primeiras braçadas o ritmo do outro o surpreendeu como se fosse o tiro final estaria fazendo aquilo para confundi lo\n",
      "\n",
      "Fernando Sabino: O Grande Mentecapto -- 53447 palavras\n",
      "uma voz quase inaudível sussurrada do fundo do tempo chamou lá do quarto — entre meu filho interrompi o meu relato em obediência a uma das regras do gênero segundo a qual devemos mudar de assunto no ponto crucial da narrativa a fim de tirar o máximo de efeito do suspense e mais tarde retomar a ela por um outro ângulo o outro ângulo no caso só pode ser o do fantasma assim que a mulher assassinada pelo marido no princípio do século viu entrar nos seus domínios a figura também meio daquele vagabundo ficou muito apreensiva como — pensou\n",
      "\n",
      "Fernando Sabino: O Menino no Espelho -- 30905 palavras\n",
      "mesmo dia dona risoleta comunicou à diretora que não daria mais aula para nós e havia a aula de música era também mas íamos todos de bom grado por ser muito divertida pela bagunça que fazíamos quem ensinava era o seu asdrúbal o único professor homem tinha uma careca brilhante uma cara de lua e um sorriso bom a voz era de barítono constava que cantava ópera já se havia apresentado no teatro municipal com os curtos balançando o corpo de joão teimoso regia o canto da molecada viva o sol do céu de nossa terra vem surgindo atrás da\n",
      "\n",
      "Jorge Amado: Capitães de Areia -- 76415 palavras\n",
      "como uma flor uma estrela as mulheres mais valentes da terra e do mar da bahia quando morriam viravam santas para os negros como os malandros que foram também muito valentes rosa palmeirão virou santa num candomblé de caboclo rezam para ela orações em nagô maria cabaçu é santa nos candomblés de itabuna pois foi naquela cidade que ela mostrou sua coragem primeiro eram duas mulheres grandes e fortes de braços musculosos como homens como grevistas rosa palmeirão er a bonita tinha o andar gingado de marítima era uma mulher do mar certa vez teve um saveiro cortou as ondas\n",
      "\n",
      "Jorge Amado: Dona flor seus dois maridos -- 167730 palavras\n",
      "questão de idade meu querido ela sempre foi assim é minha mãe não me cabe falar dela uma filha não pode mas ela sempre teve esse gênio desde mocinha nem meu pai suportou e era u m santo se ela se metesse aqui teodoro a gente ia terminar brigando nós dois nunca minha querida jamais olhou a quase comovido numa ternura nunca iremos brigar nem esconder nada um do outro seja o que for s tudo tudo beijou a nos lábios levemente tudo repetiu dona flor num sussurro doutor teodoro sorriu todo satisfeito levantou se foi apagar a luz tudo\n",
      "\n",
      "Jorge Amado: Gabriela -- 134545 palavras\n",
      "ofenísia ao luar aos gritos em prantos corrigia o doutor a história de ofenísia entre puxou outras surgiram os nomes de sinhazinha e osmundo e daí partiram para as anedotas como nacib rira o cap itão seu repertório inesgotável o augusto vate também sabia contar sua voz abria se numa gargalhada que a praça ia morrer nos rochedos funcionava também o reservado do pôquer amâncio leal jogava alto com o dr ezequiel o sírio maluf ribeirinho e manuel das onças um pôquer de cinco animado nacib chegara em casa cansado morto de sono atirou se na cama despertou como o\n",
      "\n",
      "Jorge Amado: Tereza Batista Cansada de Guerra -- 165356 palavras\n",
      "o outro de olho redondo e paletó aberto atrás camafeu ao ver tereza veio lhe falar davam se há tempos também o pintor se aproximou — mas se é tereza batista por aqui ficou a par do flor de lotus onde ela fazia sala aos fregueses e apresentava o número de dança aquele mesmo de aracaju com umas a mais apareceu no cabaré primeiro sozinho depois com um bando de boêmios artistas de pouco dinheiro e muita animação todos eles é claro se a dormir com ela por xodó e simpatia no de nenhum ela aceitou e cama e nem\n",
      "\n",
      "Machado de Assis: Dom Casmurro -- 64689 palavras\n",
      "nem morre posto também se chame manduca verdade é que o outro manduca era mais velho que este pouco mais velho teria dezoito ou dezenove anos mas tanto lhe quinze como vinte e dois a cara não permitia trazer a idade à vista antes a escondia nas dobras da vá diga se tudo é morto os seus parentes são mortos se existe algum não é em tal evidência que se ou diga se tudo manduca padecia de uma cruel enfermidade nada menos que a lepra vivo era feio morto pareceu me horrível quando eu vi estendido na cama o triste\n",
      "\n",
      "Machado de Assis: Esaú e Jacó -- 70115 palavras\n",
      "a que me referi no começo deste capítulo e pede outro capítulo xc o ajuste quanto a mim um de vocês gosta dela senão ambos disse aires pedro mordeu os beiços paulo consultou o relógio iam já na rua aires concluiu o que sabia que sim que ambos e não em dizê lo acrescentando que a moça não era como a república que um podia defender e o outro atacar cumpria ganhá la ou perdê la de vez que fariam eles dada a escolha ou já estava feita a escolha e o teimava em a torcer para si nenhum falou\n",
      "\n",
      "Machado de Assis: Memórias Póstumas de Brás Cubas -- 58589 palavras\n",
      "invenções há que se ou acabam as mesmas instituições morrem o relógio é definitivo e perpétuo o derradeiro homem ao despedir se do sol frio e gasto há de ter um relógio na algibeira para saber a hora exata em que morre naquela noite não essa triste sensação de enfado mas outra e as fantasias me cá dentro vinham umas sobre outras à semelhança de devotas que se para ver o anjo cantor das não ouvia os instantes perdidos mas os minutos de certo tempo em diante não ouvi coisa nenhuma porque o meu pensamento e traquinas saltou pela janela\n",
      "\n",
      "Machado de Assis: Quincas Borba -- 74936 palavras\n",
      "fosse a traição oh os vê o senhor os são piores que as bombas de orsini orsini um coitado pagou caro pagou o que devia mas não há bombas nem orsini contra o destino de um grande homem continuou rubião quando a fortuna de uma nação põe na cabeça de um grande homem a coroa imperial não há que orsini um bobo em poucos minutos começou o barbeiro a deitar abaixo as barbas de rubião para lhe deixar somente a pêra e os bigodes de napoleão iii lhe o trabalho afirmava que era difícil compor exatamente uma coisa como a\n",
      "\n"
     ]
    }
   ],
   "source": [
    "for i, seq in enumerate(sequences):\n",
    "    k = nr.randint(len(seq) - 100)\n",
    "    print('{}: {} -- {} palavras'.format(book_author[i], book_title[i], len(seq)).replace('_', ' '))\n",
    "    print(' '.join([i2w[x] for x in seq[k:k+100]]), end='\\n\\n')\n"
   ]
  },
  {
   "cell_type": "markdown",
   "metadata": {},
   "source": [
    "### Palavras características de cada livro"
   ]
  },
  {
   "cell_type": "code",
   "execution_count": 7,
   "metadata": {
    "collapsed": false
   },
   "outputs": [
    {
     "name": "stdout",
     "output_type": "stream",
     "text": [
      "[['que' 'de' 'garcia' 'brígida' 'norberto' 'abotoaduras' '–' 'isabel']\n",
      " ['eduardo' 'marciano' '“' 'vítor' 'gerlane' 'mauro' 'térsio' '—']\n",
      " ['tibério' 'dionísio' 'barbeca' 'ladisbão' '—' 'mentecapto' 'geraldo' 'viramundo']\n",
      " ['cíntia' 'alzira' 'odnanref' 'birica' 'anairam' 'hindemburgo' 'gerson' '—']\n",
      " ['ester' 'dalva' 'barandão' 'almiro' 'dora' '–' 'pirulito' 'trapiche']\n",
      " ['marilda' 'dinorá' 'teodoro' 'pelancchi' 'gisa' 'mirandão' 'rozilda' 'vadinho']\n",
      " ['arminda' 'malvina' 'mundinho' 'amâncio' 'fulgêncio' 'tonico' 'gabriela' 'nacib']\n",
      " ['libório' 'vavá' 'almério' 'januário' '—' 'dóris' 'justiniano' 'tereza']\n",
      " ['protonotário' 'bentinho' 'cabral' 'sancha' 'pádua' 'justina' 'capitu' 'escobar']\n",
      " ['cabocla' 'perpétua' 'excia' 'custódio' 'aires' 'natividade' 'cláudia' 'flora']\n",
      " ['loló' 'eusébia' 'cubas' 'quincas' 'sabina' 'cotrim' 'marcela' 'virgília']\n",
      " ['cristiano' 'fernanda' 'quincas' 'tonica' 'camacho' 'benedita' 'sofia' 'rubião']]\n"
     ]
    }
   ],
   "source": [
    "tfidf = tokenizer.sequences_to_matrix(sequences, mode='tfidf')\n",
    "ww = np.argsort(tfidf, axis=1)[:, -8:]\n",
    "print(i2w_vec[ww-1])"
   ]
  },
  {
   "cell_type": "markdown",
   "metadata": {},
   "source": [
    "### Dividindo o dataset entre treinamento e validação"
   ]
  },
  {
   "cell_type": "code",
   "execution_count": 8,
   "metadata": {
    "collapsed": false
   },
   "outputs": [
    {
     "name": "stdout",
     "output_type": "stream",
     "text": [
      "Training sequences:\n",
      "-------------------\n",
      " 1. Fernando_Sabino  (1) --   8515 palavras do início do livro O_Bom_Ladrão\n",
      " 2. Fernando_Sabino  (1) --  35907 palavras do início do livro O_Encontro_Marcado\n",
      " 3. Fernando_Sabino  (1) --  30406 palavras do início do livro O_Grande_Mentecapto\n",
      " 4. Fernando_Sabino  (1) --  10191 palavras do início do livro O_Menino_no_Espelho\n",
      " 5. Jorge_Amado      (2) --   9214 palavras do início do livro Capitães_de_Areia\n",
      " 6. Jorge_Amado      (2) -- 111222 palavras do início do livro Dona_flor_seus_dois_maridos\n",
      " 7. Jorge_Amado      (2) --  99502 palavras do início do livro Gabriela\n",
      " 8. Jorge_Amado      (2) -- 126792 palavras do início do livro Tereza_Batista_Cansada_de_Guerra\n",
      " 9. Machado_de_Assis (0) --  24480 palavras do início do livro Dom_Casmurro\n",
      "10. Machado_de_Assis (0) --  45243 palavras do início do livro Esaú_e_Jacó\n",
      "11. Machado_de_Assis (0) --  11079 palavras do início do livro Memórias_Póstumas_de_Brás_Cubas\n",
      "12. Machado_de_Assis (0) --  40147 palavras do início do livro Quincas_Borba\n",
      "13. Fernando_Sabino  (1) --   3294 palavras do final do livro  O_Bom_Ladrão\n",
      "14. Fernando_Sabino  (1) --  31766 palavras do final do livro  O_Encontro_Marcado\n",
      "15. Fernando_Sabino  (1) --  12352 palavras do final do livro  O_Grande_Mentecapto\n",
      "16. Fernando_Sabino  (1) --  14533 palavras do final do livro  O_Menino_no_Espelho\n",
      "17. Jorge_Amado      (2) --  51918 palavras do final do livro  Capitães_de_Areia\n",
      "18. Jorge_Amado      (2) --  22962 palavras do final do livro  Dona_flor_seus_dois_maridos\n",
      "19. Jorge_Amado      (2) --   8134 palavras do final do livro  Gabriela\n",
      "20. Jorge_Amado      (2) --   5493 palavras do final do livro  Tereza_Batista_Cansada_de_Guerra\n",
      "21. Machado_de_Assis (0) --  27272 palavras do final do livro  Dom_Casmurro\n",
      "22. Machado_de_Assis (0) --  10849 palavras do final do livro  Esaú_e_Jacó\n",
      "23. Machado_de_Assis (0) --  35793 palavras do final do livro  Memórias_Póstumas_de_Brás_Cubas\n",
      "24. Machado_de_Assis (0) --  19802 palavras do final do livro  Quincas_Borba\n",
      "\n",
      "Validation sequences:\n",
      "---------------------\n",
      " 1. Fernando_Sabino  (1) --   2952 palavras do meio do livro O_Bom_Ladrão\n",
      " 2. Fernando_Sabino  (1) --  16918 palavras do meio do livro O_Encontro_Marcado\n",
      " 3. Fernando_Sabino  (1) --  10689 palavras do meio do livro O_Grande_Mentecapto\n",
      " 4. Fernando_Sabino  (1) --   6181 palavras do meio do livro O_Menino_no_Espelho\n",
      " 5. Jorge_Amado      (2) --  15283 palavras do meio do livro Capitães_de_Areia\n",
      " 6. Jorge_Amado      (2) --  33546 palavras do meio do livro Dona_flor_seus_dois_maridos\n",
      " 7. Jorge_Amado      (2) --  26909 palavras do meio do livro Gabriela\n",
      " 8. Jorge_Amado      (2) --  33071 palavras do meio do livro Tereza_Batista_Cansada_de_Guerra\n",
      " 9. Machado_de_Assis (0) --  12937 palavras do meio do livro Dom_Casmurro\n",
      "10. Machado_de_Assis (0) --  14023 palavras do meio do livro Esaú_e_Jacó\n",
      "11. Machado_de_Assis (0) --  11717 palavras do meio do livro Memórias_Póstumas_de_Brás_Cubas\n",
      "12. Machado_de_Assis (0) --  14987 palavras do meio do livro Quincas_Borba\n",
      "\n",
      "Total number of training words:   796866\n",
      "Total number of validation words: 199213\n"
     ]
    }
   ],
   "source": [
    "nr.seed(20170607)\n",
    "\n",
    "valid_split = 0.2\n",
    "valid_length = [int(0.2 * len(x)) for x in sequences]\n",
    "valid_start = [nr.randint(2000, len(x) - 2000 - n) for x, n in zip(sequences, valid_length)]\n",
    "\n",
    "valid_sequences = [seq[x0:x0+n] for seq, x0, n in zip(sequences, valid_start, valid_length)]\n",
    "\n",
    "train_sequences = [seq[:x0] for seq, x0 in zip(sequences, valid_start)] + \\\n",
    "                  [seq[x0+n:] for seq, x0, n in zip(sequences, valid_start, valid_length)]\n",
    "\n",
    "valid_labels = book_label\n",
    "train_labels = book_label + book_label\n",
    "\n",
    "n_train_words = sum([len(x) for x in train_sequences])\n",
    "n_valid_words = sum([len(x) for x in valid_sequences])\n",
    "\n",
    "print('Training sequences:')\n",
    "print('-------------------')\n",
    "for i, (seq, lab) in enumerate(zip(train_sequences, train_labels)):\n",
    "    if i < n_books:\n",
    "        print('{:2d}. {:16s} ({}) -- {:6d} palavras do início do livro {}'.format(i+1, book_author[i%n_books], lab,\n",
    "                                                                                  len(seq), book_title[i%n_books]))\n",
    "    else:\n",
    "        print('{:2d}. {:16s} ({}) -- {:6d} palavras do final do livro  {}'.format(i+1, book_author[i%n_books], lab,\n",
    "                                                                                  len(seq), book_title[i%n_books]))\n",
    "print()\n",
    "print('Validation sequences:')\n",
    "print('---------------------')\n",
    "for i, (seq, lab) in enumerate(zip(valid_sequences, valid_labels)):\n",
    "    print('{:2d}. {:16s} ({}) -- {:6d} palavras do meio do livro {}'.format(i+1, book_author[i%n_books], lab,\n",
    "                                                                            len(seq), book_title[i%n_books]))\n",
    "print()\n",
    "print('Total number of training words:  ', n_train_words)\n",
    "print('Total number of validation words:', n_valid_words)"
   ]
  },
  {
   "cell_type": "markdown",
   "metadata": {},
   "source": [
    "### Criando  geradores para treino e validação"
   ]
  },
  {
   "cell_type": "code",
   "execution_count": 9,
   "metadata": {
    "collapsed": true
   },
   "outputs": [],
   "source": [
    "class MyDataGenerator:\n",
    "    def __init__(self, batch_size, seq_size, sequences, labels):\n",
    "        self.batch_size = batch_size\n",
    "        self.length = seq_size\n",
    "        self.sequences = sequences\n",
    "        self.labels = labels\n",
    "        sizes = np.array([len(seq) for seq in sequences])\n",
    "        self.p = 1.0 * sizes / sizes.sum()        # probabilidade de escolha para cada sequencia\n",
    "        self.n = np.arange(len(sequences))        # indices de cada sequencia (para o choice abaixo)\n",
    "        \n",
    "    def __call__(self):\n",
    "        while True:\n",
    "            batch = np.empty((self.batch_size, self.length), np.int32)\n",
    "            label = np.empty((self.batch_size, n_labels), np.int32)\n",
    "            for i in range(self.batch_size):\n",
    "                k = nr.choice(self.n, p=self.p)\n",
    "                p = nr.randint(0, len(self.sequences[k]) - self.length)\n",
    "                batch[i] = self.sequences[k][p:p+self.length]\n",
    "                label[i] = to_categorical(self.labels[k], num_classes=n_labels)\n",
    "            yield batch, label\n"
   ]
  },
  {
   "cell_type": "code",
   "execution_count": 10,
   "metadata": {
    "collapsed": false
   },
   "outputs": [],
   "source": [
    "batch_size = 32\n",
    "seq_size = 500\n",
    "\n",
    "train_gen = MyDataGenerator(batch_size, seq_size, train_sequences, train_labels)()\n",
    "valid_gen = MyDataGenerator(batch_size, seq_size, valid_sequences, valid_labels)()\n"
   ]
  },
  {
   "cell_type": "markdown",
   "metadata": {},
   "source": [
    "## Criando a rede neural"
   ]
  },
  {
   "cell_type": "markdown",
   "metadata": {},
   "source": [
    "### Preparando a matriz de embeddings\n",
    "\n",
    "Neste notebook o embedding é treinado a partir de pesos aleatórios.\n"
   ]
  },
  {
   "cell_type": "code",
   "execution_count": 11,
   "metadata": {
    "collapsed": false
   },
   "outputs": [
    {
     "name": "stdout",
     "output_type": "stream",
     "text": [
      "(20000, 100)\n"
     ]
    }
   ],
   "source": [
    "EMBEDDING_DIM = 100\n",
    "embeddings_index = {}\n",
    "\n",
    "# prepare embedding matrix\n",
    "num_words = min(MAX_NB_WORDS, len(w2i))\n",
    "embedding_matrix = np.zeros((num_words, EMBEDDING_DIM))\n",
    "\n",
    "for i in range(1, MAX_NB_WORDS):\n",
    "    word = i2w[i]\n",
    "    embedding_vector = embeddings_index.get(word)\n",
    "    if embedding_vector is None:\n",
    "        # words not found in embedding index will be random\n",
    "        embedding_vector = nr.random(size=(100,)) - 0.5\n",
    "    embedding_matrix[i] = embedding_vector\n",
    "\n",
    "print(embedding_matrix.shape)\n",
    "embeddings_index = None"
   ]
  },
  {
   "cell_type": "markdown",
   "metadata": {},
   "source": [
    "### Construindo a rede"
   ]
  },
  {
   "cell_type": "code",
   "execution_count": 12,
   "metadata": {
    "collapsed": false
   },
   "outputs": [
    {
     "name": "stdout",
     "output_type": "stream",
     "text": [
      "_________________________________________________________________\n",
      "Layer (type)                 Output Shape              Param #   \n",
      "=================================================================\n",
      "input_1 (InputLayer)         (None, 500)               0         \n",
      "_________________________________________________________________\n",
      "embedding_1 (Embedding)      (None, 500, 100)          2000000   \n",
      "_________________________________________________________________\n",
      "conv1d_1 (Conv1D)            (None, 496, 128)          64128     \n",
      "_________________________________________________________________\n",
      "max_pooling1d_1 (MaxPooling1 (None, 99, 128)           0         \n",
      "_________________________________________________________________\n",
      "dropout_1 (Dropout)          (None, 99, 128)           0         \n",
      "_________________________________________________________________\n",
      "conv1d_2 (Conv1D)            (None, 95, 128)           82048     \n",
      "_________________________________________________________________\n",
      "max_pooling1d_2 (MaxPooling1 (None, 47, 128)           0         \n",
      "_________________________________________________________________\n",
      "conv1d_3 (Conv1D)            (None, 43, 128)           82048     \n",
      "_________________________________________________________________\n",
      "max_pooling1d_3 (MaxPooling1 (None, 21, 128)           0         \n",
      "_________________________________________________________________\n",
      "dropout_2 (Dropout)          (None, 21, 128)           0         \n",
      "_________________________________________________________________\n",
      "flatten_1 (Flatten)          (None, 2688)              0         \n",
      "_________________________________________________________________\n",
      "dense_1 (Dense)              (None, 128)               344192    \n",
      "_________________________________________________________________\n",
      "dropout_3 (Dropout)          (None, 128)               0         \n",
      "_________________________________________________________________\n",
      "dense_2 (Dense)              (None, 3)                 387       \n",
      "=================================================================\n",
      "Total params: 2,572,803\n",
      "Trainable params: 2,572,803\n",
      "Non-trainable params: 0\n",
      "_________________________________________________________________\n"
     ]
    }
   ],
   "source": [
    "model_name = '../../models/livros_embeddings_2'\n",
    "\n",
    "def build_net(embedding_matrix=None, input_len=None, trainable=True):\n",
    "    num_words, embedding_dim = embedding_matrix.shape\n",
    "    \n",
    "    seq_input = Input(shape=(input_len,), dtype='int32')\n",
    "    embedding_layer = Embedding(num_words, embedding_dim, weights=[embedding_matrix],\n",
    "                                input_length=input_len, trainable=trainable)(seq_input)\n",
    "\n",
    "    x = Conv1D(128, 5, activation='relu')(embedding_layer)\n",
    "    x = MaxPooling1D(5)(x)\n",
    "\n",
    "    x = Dropout(0.5)(x)\n",
    "    \n",
    "    x = Conv1D(128, 5, activation='relu')(x)\n",
    "    x = MaxPooling1D(2)(x)\n",
    "    \n",
    "    x = Conv1D(128, 5, activation='relu')(x)\n",
    "    x = MaxPooling1D(2)(x)\n",
    "    \n",
    "    x = Dropout(0.5)(x)\n",
    "    \n",
    "    x = Flatten()(x)\n",
    "    x = Dense(128, activation='relu')(x)\n",
    "    \n",
    "    x = Dropout(0.5)(x)\n",
    "    \n",
    "    preds = Dense(n_labels, activation='softmax')(x)\n",
    "\n",
    "    model = Model(seq_input, preds)\n",
    "    return model\n",
    "\n",
    "model = build_net(embedding_matrix, seq_size, True)\n",
    "model.summary()"
   ]
  },
  {
   "cell_type": "markdown",
   "metadata": {},
   "source": [
    "## Treinando"
   ]
  },
  {
   "cell_type": "code",
   "execution_count": 15,
   "metadata": {
    "collapsed": false
   },
   "outputs": [
    {
     "data": {
      "image/png": "[encoded data removed]",
      "text/plain": [
       "<matplotlib.figure.Figure at 0x117507390>"
      ]
     },
     "metadata": {},
     "output_type": "display_data"
    }
   ],
   "source": [
    "train_steps = n_train_words // (batch_size * seq_size)\n",
    "valid_steps = n_valid_words // (batch_size * seq_size)\n",
    "\n",
    "fit_params = {\n",
    "    'train_steps':     train_steps,\n",
    "    'valid_steps':     valid_steps,\n",
    "    'opt':             Adam(0.0001),      #SGD(lr=0.001, momentum=0.9, nesterov=True), \n",
    "    'nepochs':         50, \n",
    "    'patience':        10,\n",
    "    'ploss':           1.5,\n",
    "    'reset':           False,\n",
    "}\n",
    "\n",
    "train_network(model, model_name, train_gen, valid_gen, **fit_params);"
   ]
  },
  {
   "cell_type": "markdown",
   "metadata": {},
   "source": [
    "## Avaliando"
   ]
  },
  {
   "cell_type": "code",
   "execution_count": 16,
   "metadata": {
    "collapsed": false
   },
   "outputs": [
    {
     "name": "stdout",
     "output_type": "stream",
     "text": [
      "Model from epoch 26\n",
      "[INFO] evaluating in the test data set ...\n",
      "\n",
      "[INFO] accuracy on the test data set: 96.88% [0.08968]\n"
     ]
    }
   ],
   "source": [
    "test_network(model_name, valid_gen, valid_steps)"
   ]
  },
  {
   "cell_type": "code",
   "execution_count": null,
   "metadata": {
    "collapsed": true
   },
   "outputs": [],
   "source": []
  }
 ],
 "metadata": {
  "kernelspec": {
   "display_name": "Python 3",
   "language": "python",
   "name": "python3"
  },
  "language_info": {
   "codemirror_mode": {
    "name": "ipython",
    "version": 3
   },
   "file_extension": ".py",
   "mimetype": "text/x-python",
   "name": "python",
   "nbconvert_exporter": "python",
   "pygments_lexer": "ipython3",
   "version": "3.6.0"
  },
  "latex_envs": {
   "LaTeX_envs_menu_present": true,
   "autocomplete": true,
   "bibliofile": "biblio.bib",
   "cite_by": "apalike",
   "current_citInitial": 1,
   "eqLabelWithNumbers": true,
   "eqNumInitial": 1,
   "hotkeys": {
    "equation": "Ctrl-E",
    "itemize": "Ctrl-I"
   },
   "labels_anchors": false,
   "latex_user_defs": false,
   "report_style_numbering": false,
   "user_envs_cfg": false
  },
  "toc": {
   "colors": {
    "hover_highlight": "#DAA520",
    "navigate_num": "#000000",
    "navigate_text": "#333333",
    "running_highlight": "#FF0000",
    "selected_highlight": "#FFD700",
    "sidebar_border": "#EEEEEE",
    "wrapper_background": "#FFFFFF"
   },
   "moveMenuLeft": true,
   "nav_menu": {
    "height": "264px",
    "width": "252px"
   },
   "navigate_menu": true,
   "number_sections": true,
   "sideBar": true,
   "threshold": 4,
   "toc_cell": true,
   "toc_section_display": "block",
   "toc_window_display": false,
   "widenNotebook": false
  }
 },
 "nbformat": 4,
 "nbformat_minor": 2
}
