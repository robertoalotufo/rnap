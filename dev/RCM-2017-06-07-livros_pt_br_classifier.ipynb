{
 "cells": [
  {
   "cell_type": "markdown",
   "metadata": {
    "toc": "true"
   },
   "source": [
    "# Table of Contents\n",
    " <p><div class=\"lev1 toc-item\"><a href=\"#Classificação-de-Textos\" data-toc-modified-id=\"Classificação-de-Textos-1\"><span class=\"toc-item-num\">1&nbsp;&nbsp;</span>Classificação de Textos</a></div><div class=\"lev2 toc-item\"><a href=\"#Preâmbulo\" data-toc-modified-id=\"Preâmbulo-11\"><span class=\"toc-item-num\">1.1&nbsp;&nbsp;</span>Preâmbulo</a></div><div class=\"lev2 toc-item\"><a href=\"#Procedimentos-de-treino-e-teste\" data-toc-modified-id=\"Procedimentos-de-treino-e-teste-12\"><span class=\"toc-item-num\">1.2&nbsp;&nbsp;</span>Procedimentos de treino e teste</a></div><div class=\"lev2 toc-item\"><a href=\"#Preparando-o-dataset\" data-toc-modified-id=\"Preparando-o-dataset-13\"><span class=\"toc-item-num\">1.3&nbsp;&nbsp;</span>Preparando o dataset</a></div><div class=\"lev3 toc-item\"><a href=\"#Buscando-o-texto-dos-livros-e-definindo-os-rótulos\" data-toc-modified-id=\"Buscando-o-texto-dos-livros-e-definindo-os-rótulos-131\"><span class=\"toc-item-num\">1.3.1&nbsp;&nbsp;</span>Buscando o texto dos livros e definindo os rótulos</a></div><div class=\"lev3 toc-item\"><a href=\"#Representando-as-palavras-através-de-índices-inteiros\" data-toc-modified-id=\"Representando-as-palavras-através-de-índices-inteiros-132\"><span class=\"toc-item-num\">1.3.2&nbsp;&nbsp;</span>Representando as palavras através de índices inteiros</a></div><div class=\"lev3 toc-item\"><a href=\"#Dividindo-o-dataset-entre-treinamento-e-validação\" data-toc-modified-id=\"Dividindo-o-dataset-entre-treinamento-e-validação-133\"><span class=\"toc-item-num\">1.3.3&nbsp;&nbsp;</span>Dividindo o dataset entre treinamento e validação</a></div><div class=\"lev3 toc-item\"><a href=\"#Criando--geradores-para-treino-e-validação\" data-toc-modified-id=\"Criando--geradores-para-treino-e-validação-134\"><span class=\"toc-item-num\">1.3.4&nbsp;&nbsp;</span>Criando  geradores para treino e validação</a></div><div class=\"lev2 toc-item\"><a href=\"#Criando-a-rede-neural\" data-toc-modified-id=\"Criando-a-rede-neural-14\"><span class=\"toc-item-num\">1.4&nbsp;&nbsp;</span>Criando a rede neural</a></div><div class=\"lev3 toc-item\"><a href=\"#Carregando-o-embedding\" data-toc-modified-id=\"Carregando-o-embedding-141\"><span class=\"toc-item-num\">1.4.1&nbsp;&nbsp;</span>Carregando o embedding</a></div><div class=\"lev3 toc-item\"><a href=\"#Preparando-a-matriz-de-embeddings\" data-toc-modified-id=\"Preparando-a-matriz-de-embeddings-142\"><span class=\"toc-item-num\">1.4.2&nbsp;&nbsp;</span>Preparando a matriz de embeddings</a></div><div class=\"lev3 toc-item\"><a href=\"#Construindo-a-rede\" data-toc-modified-id=\"Construindo-a-rede-143\"><span class=\"toc-item-num\">1.4.3&nbsp;&nbsp;</span>Construindo a rede</a></div><div class=\"lev2 toc-item\"><a href=\"#Treinando\" data-toc-modified-id=\"Treinando-15\"><span class=\"toc-item-num\">1.5&nbsp;&nbsp;</span>Treinando</a></div><div class=\"lev2 toc-item\"><a href=\"#Avaliando\" data-toc-modified-id=\"Avaliando-16\"><span class=\"toc-item-num\">1.6&nbsp;&nbsp;</span>Avaliando</a></div>"
   ]
  },
  {
   "cell_type": "markdown",
   "metadata": {},
   "source": [
    "# Classificação de Textos"
   ]
  },
  {
   "cell_type": "markdown",
   "metadata": {},
   "source": [
    "## Preâmbulo"
   ]
  },
  {
   "cell_type": "code",
   "execution_count": 1,
   "metadata": {
    "collapsed": false
   },
   "outputs": [
    {
     "name": "stderr",
     "output_type": "stream",
     "text": [
      "Using TensorFlow backend.\n"
     ]
    }
   ],
   "source": [
    "%matplotlib inline\n",
    "import matplotlib.pyplot as plot\n",
    "from IPython import display\n",
    "from __future__ import print_function\n",
    "\n",
    "import os\n",
    "import sys\n",
    "import glob\n",
    "import numpy as np\n",
    "import numpy.random as nr\n",
    "\n",
    "from keras.preprocessing.text import Tokenizer\n",
    "from keras.preprocessing.sequence import pad_sequences\n",
    "from keras.utils import to_categorical\n",
    "from keras.layers import Dense, Input, Flatten, Dropout\n",
    "from keras.layers import Conv1D, MaxPooling1D, Embedding\n",
    "from keras.models import Model\n",
    "from keras.optimizers import (SGD, \n",
    "                              RMSprop, \n",
    "                              Adam, \n",
    "                              Adadelta, \n",
    "                              Adagrad)\n",
    "\n",
    "sys.path.append('../src')\n",
    "from my_keras_utilities import (get_available_gpus, \n",
    "                                load_model_and_history, \n",
    "                                save_model_and_history, \n",
    "                                TrainingPlotter)\n",
    "\n",
    "import os\n",
    "os.makedirs('../../models',exist_ok=True)"
   ]
  },
  {
   "cell_type": "code",
   "execution_count": 2,
   "metadata": {
    "collapsed": false
   },
   "outputs": [
    {
     "name": "stdout",
     "output_type": "stream",
     "text": [
      "Backend:        tensorflow\n",
      "Data format:    channels_first\n",
      "Available GPUS: []\n"
     ]
    }
   ],
   "source": [
    "import keras.backend as K\n",
    "\n",
    "# K.set_image_data_format('channels_first')\n",
    "K.set_floatx('float32')\n",
    "\n",
    "print('Backend:        {}'.format(K.backend()))\n",
    "print('Data format:    {}'.format(K.image_data_format()))\n",
    "print('Available GPUS:', get_available_gpus())"
   ]
  },
  {
   "cell_type": "markdown",
   "metadata": {},
   "source": [
    "## Procedimentos de treino e teste"
   ]
  },
  {
   "cell_type": "code",
   "execution_count": 3,
   "metadata": {
    "collapsed": true
   },
   "outputs": [],
   "source": [
    "class MyCb(TrainingPlotter):\n",
    "    \n",
    "    def on_epoch_end(self, epoch, logs={}):\n",
    "        super().on_epoch_end(epoch, logs)\n",
    "\n",
    "\n",
    "def train_network(model, model_name, train_generator, validation_generator, \n",
    "                  train_steps=10, valid_steps=10, opt='rmsprop', nepochs=50, \n",
    "                  patience=50, reset=False, ploss=1.0):\n",
    "\n",
    "    do_plot = (ploss > 0.0)\n",
    "    \n",
    "    model_fn = model_name + '.model'\n",
    "    if reset and os.path.isfile(model_fn):\n",
    "        os.unlink(model_name + '.model')\n",
    "        \n",
    "    if not os.path.isfile(model_fn):\n",
    "        # initialize the optimizer and model\n",
    "        print(\"[INFO] compiling model...\")\n",
    "        model.compile(loss=\"categorical_crossentropy\", optimizer=opt, metrics=[\"accuracy\"])    \n",
    "\n",
    "        # History, checkpoint, earlystop, plot losses:\n",
    "        cb = MyCb(n=1, filepath=model_name, patience=patience, plot_losses=do_plot)\n",
    "        \n",
    "    else:\n",
    "        print(\"[INFO] loading model...\")\n",
    "        model, cb = load_model_and_history(model_name)\n",
    "        cb.patience = patience\n",
    "\n",
    "    past_epochs = cb.get_nepochs()\n",
    "    tr_epochs = nepochs - past_epochs\n",
    "    \n",
    "    if do_plot:\n",
    "        vv = 0\n",
    "        fig = plot.figure(figsize=(15,6))\n",
    "        plot.ylim(0.0, ploss)\n",
    "        plot.xlim(0, nepochs)\n",
    "        plot.grid(True)\n",
    "    else:\n",
    "        vv = 2\n",
    "\n",
    "    print(\"[INFO] training for {} epochs of {} steps each...\".format(tr_epochs, train_steps))\n",
    "    try:\n",
    "        model.fit_generator(train_generator, steps_per_epoch=train_steps,\n",
    "                            validation_data=validation_generator, validation_steps=valid_steps,\n",
    "                            epochs=nepochs, verbose=vv, callbacks=[cb])\n",
    "    except KeyboardInterrupt:\n",
    "        pass\n",
    "\n",
    "    return model, cb\n",
    "\n",
    "\n",
    "def test_network(model_name, validation_generator, nb_validation_samples):\n",
    "    model, histo = load_model_and_history(model_name)\n",
    "    print('Model from epoch {}'.format(histo.best_epoch))\n",
    "    print(\"[INFO] evaluating in the test data set ...\")\n",
    "    loss, accuracy = model.evaluate_generator(validation_generator, nb_validation_samples)\n",
    "    print(\"\\n[INFO] accuracy on the test data set: {:.2f}% [{:.5f}]\".format(accuracy * 100, loss))\n"
   ]
  },
  {
   "cell_type": "markdown",
   "metadata": {},
   "source": [
    "## Preparando o dataset"
   ]
  },
  {
   "cell_type": "markdown",
   "metadata": {},
   "source": [
    "### Buscando o texto dos livros e definindo os rótulos"
   ]
  },
  {
   "cell_type": "code",
   "execution_count": 4,
   "metadata": {
    "collapsed": false
   },
   "outputs": [
    {
     "name": "stdout",
     "output_type": "stream",
     "text": [
      "  87788  Fernando_Sabino    O_Bom_Ladrão\n",
      " 511681  Fernando_Sabino    O_Encontro_Marcado\n",
      " 328288  Fernando_Sabino    O_Grande_Mentecapto\n",
      " 180313  Fernando_Sabino    O_Menino_no_Espelho\n",
      " 427711  Jorge_Amado        Capitães_de_Areia\n",
      "1030735  Jorge_Amado        Dona_flor_seus_dois_maridos\n",
      " 828417  Jorge_Amado        Gabriela\n",
      "1001226  Jorge_Amado        Tereza_Batista_Cansada_de_Guerra\n",
      " 373300  Machado_de_Assis   Dom_Casmurro\n",
      " 411870  Machado_de_Assis   Esaú_e_Jacó\n",
      " 353713  Machado_de_Assis   Memórias_Póstumas_de_Brás_Cubas\n",
      " 445193  Machado_de_Assis   Quincas_Borba\n",
      "\n",
      "Labels:\n",
      "     0: Machado_de_Assis\n",
      "     1: Fernando_Sabino\n",
      "     2: Jorge_Amado\n"
     ]
    }
   ],
   "source": [
    "data_dir = '../../datasets/livros/'\n",
    "\n",
    "autores = [\n",
    "    'Fernando_Sabino', \n",
    "    'Jorge_Amado',\n",
    "    'Machado_de_Assis',\n",
    "]\n",
    "\n",
    "book_text = []\n",
    "book_author = []\n",
    "book_title = []\n",
    "for aut in autores:\n",
    "    for fn in glob.glob(data_dir + aut + '*.txt'):\n",
    "        author, book = os.path.basename(fn).split('__')\n",
    "        txt = open(fn).read()\n",
    "        book_text.append(txt)\n",
    "        book_author.append(author)\n",
    "        book_title.append(book[:-4])\n",
    "        print('{:7d}  {:18s} {}'.format(len(txt), author, book[:-4]))\n",
    "\n",
    "author_list = list(set(book_author))\n",
    "n_labels = len(author_list)\n",
    "book_label = [author_list.index(a) for a in book_author]\n",
    "print('\\nLabels:')\n",
    "for i, autor in enumerate(author_list):\n",
    "    print('    {:2d}: {}'.format(i, autor))"
   ]
  },
  {
   "cell_type": "markdown",
   "metadata": {},
   "source": [
    "### Representando as palavras através de índices inteiros"
   ]
  },
  {
   "cell_type": "code",
   "execution_count": 5,
   "metadata": {
    "collapsed": false
   },
   "outputs": [
    {
     "name": "stdout",
     "output_type": "stream",
     "text": [
      "Found 51559 unique tokens.\n"
     ]
    }
   ],
   "source": [
    "MAX_NB_WORDS = 20000\n",
    "\n",
    "tokenizer = Tokenizer(num_words=MAX_NB_WORDS)\n",
    "tokenizer.fit_on_texts(book_text)\n",
    "sequences = tokenizer.texts_to_sequences(book_text)\n",
    "\n",
    "w2i = tokenizer.word_index\n",
    "i2w = dict([(v, k) for k, v in w2i.items()])\n",
    "print('Found %s unique tokens.' % len(w2i))"
   ]
  },
  {
   "cell_type": "code",
   "execution_count": 6,
   "metadata": {
    "collapsed": false,
    "scrolled": false
   },
   "outputs": [
    {
     "name": "stdout",
     "output_type": "stream",
     "text": [
      "Fernando Sabino: O Bom Ladrão -- 14761 words\n",
      "discutir porque nossa vida ia correndo agora sem maiores incidentes isabel tinha voltado a me esperar no jornal eu trabalhava depressa para poder voltar mais cedo domingo íamos a praia e fora sem horário certo à noite dávamos uma chegada até o bar de sempre o advogado e sua sergipana graças a deus nunca mais apareceram voltávamos para casa pela madrugada o jornal fizera de isabel por extensão também uma raro o dia em que nos antes das três quatro horas para mim era quando a noite começava não voltei a dormir no segundo andar isabel é que não subia\n",
      "\n",
      "Fernando Sabino: O Encontro Marcado -- 84591 words\n",
      "que o álcool lhe comunicara depois de aprender como se jogava comprou vinte cruzeiros de fichas espalhou as pela mesa única maneira de nos encontrarmos hoje ela dis sera telefonei para todos os hotéis afinal não podia ima que ele estivesse no hotel elite fiquei tão preocupada meu bem disse meu bem a festa talvez fosse apenas pre texto para vê lo não disse filha de ministro não pode ficar saindo assim à toa não por que você não quer ir meu bem certeza que disse em meia hora ganhou duzentos cruzeiros foi recebê los na caixa — e então\n",
      "\n",
      "Fernando Sabino: O Grande Mentecapto -- 53447 words\n",
      "de socos houve ligeiro tumulto mas ninguém se mexeu além dos outros guardas que acorreram em ajuda ao colega viramundo distribuía a esmo socos pontapés e até gritando sempre para os demais — não sejam covardes eles são poucos nós somos legião ninguém reagiu a não ser o barbeca que foi logo dominado viramundo mesmo depois de contido pelos guardas continuava a se debater furiosamente como um possesso acabaram por lo numa camisa de força e o dali mesmo para o manicômio ser esta a segunda vez que contra a minha vontade e a dele o grande mentecapto vai parar\n",
      "\n",
      "Fernando Sabino: O Menino no Espelho -- 30905 words\n",
      "movimentos que tinha de fazer com o corpo para começar a como alguém que tivesse aprendido a nadar um ligeiro impulso com os braços bem devagar levantando os cotovelos me fazia mansamente como se estivesse usando patins invisíveis apenas não tinha força suficiente para ganhar altura e toda vez que eu me e fazia um movimento mais rápido sentia meu corpo de súbito se abater contra o solo com a prática acabei conseguindo me erguer um ou dois palmos e sair deslizando pelo quintal durante algum tempo mas era pouco assim de pé não podia dizer que estivesse voando eu\n",
      "\n",
      "Jorge Amado: Capitães de Areia -- 76415 words\n",
      "como a voz do vento que corre em torno ao casarão uma voz que não fala aos seus ouvidos que fala seu coração uma voz que o chama que o alegra e o amedronta mesmo tempo uma voz que exige tudo dele pa ra lhe dar a felicidade a servir deus o chama e o chamado de deus dentro de pirulito é poderoso como a voz do vento como a voz potente do mar pirulito quer viver para deus inteiramente para deus uma vida de recolhimento e de penitência uma vida que o dos pecados que o torne digno da\n",
      "\n",
      "Jorge Amado: Dona flor seus dois maridos -- 167729 words\n",
      "acabara de saber nem tivera tempo de comprar uma lembrança passou discreto uma cédula a vadinho os convidados a começar por chimbo e dom clemente vinham cumprimentar o mandachuva português os recém casados despediram se no pátio do con vento apenas dona norma os acompanhou até a nova residência em cuja fachada já fora suspensa a tabuleta da escola de culinária sabor e arte na porta de casa dona flor convidou a vizinha entre pra conversar um pouquinho dona norma riu ciosa só se eu fosse apontou as nuvens escuras no mar está chegando a noite é hora de dormir\n",
      "\n",
      "Jorge Amado: Gabriela -- 134544 words\n",
      "inesperado a gente s junto do mesmo lugar a seca matou tudo que era bicho vivente tudo que era água árvore virou graveto seco no caminho a gente encontrou outros tudo fugindo é parente deles não moço sou só no mundo meu tio vinha comigo u a alma antes de chegar a a tal de tísica e riu como se fosse coisa para rir não era você que estava cantando há pouquinho era sim senhor tinha um moço tocador foi contratado pra roça diz que vai enricar aqui a gente canta es os maus pedaços a mão segurava a cuia\n",
      "\n",
      "Jorge Amado: Tereza Batista Cansada de Guerra -- 165356 words\n",
      "chegaram aos jardins do idílio mas depois de começo apenas a ira e a tristeza o cora ção exposto nu em chagas — sabes como me sinto coberto de lama sujo sujo quem era de escrupulosa limpeza mesmo no exercício da violência do atropelo foi terrível escutá lo falando da família exato no conceito cru na expressão desolado impiedoso — eu os do coração tereza seria verdade pode alguém fazê lo e continuar vivendo não é tão fatal quanto arrancar do peito o próprio coração — nem assim deixei de de me bater por eles parecendo o am o e\n",
      "\n",
      "Machado de Assis: Dom Casmurro -- 65530 words\n",
      "desapareceu e pintor entenderam bem as indicações que lhes fiz é o mesmo prédio três janelas de frente varanda ao fundo as mesmas alcovas e salas na principal destas a pintura do teto e das paredes é mais ou menos igual umas grinaldas de flores miúdas e grandes pássaros que as tomam nos bicos de espaço a espaço nos quatro cantos do teto as figuras das estações e ao centro das paredes os de césar augusto nero e com os nomes por baixo não alcanço a razão de tais personagens quando fomos para a casa de mata cavalos já ela\n",
      "\n",
      "Machado de Assis: Esaú e Jacó -- 70941 words\n",
      "supôs e o leitor sabe flora compreendeu que era tarde e um galo confirmou essa opinião cantando outros galos fizeram a mesma coisa  ora meu deus exclamou a filha de batista meteu se na cama e se não dormiu logo também não se demorou muito não tardou a estar com os anjos sonhou com o canto dos galos uma carroça um lago uma cena de viagem do mar um discurso e um artigo o artigo era de verdade a mãe veio acordá la às dez horas da manhã chamando lhe e ali mesmo na cama lhe leu uma folha\n",
      "\n",
      "Machado de Assis: Memórias Póstumas de Brás Cubas -- 59337 words\n",
      "a escorrer sangue mas além de que ele só mandava os perversos e os ocorre que tendo longamente em escravos habituara se de certo modo ao trato um pouco mais duro que esse gênero de negócio e não se pode atribuir à índole original de um homem o que é puro efeito de relações sociais a prova de que o cotrim tinha sentimentos encontrava se no seu amor aos filhos e na dor que padeceu quando lhe morreu sara dali a alguns meses prova acho eu e não única era tesoureiro de uma confraria e irmão de várias e até\n",
      "\n",
      "Machado de Assis: Quincas Borba -- 76349 words\n",
      "lá em cima há vis  mas é uma frase podemos arranjar outra coisa vis  vis é bom  contudo não tem a força de vendilhões  então por que não deixa vendilhões vis vendilhões é forte ninguém repara no som olhe eu nunca dou por isso gosto de energia vis vendilhões  vis vendilhões vis vendilhões repetiu camacho à meia voz já estou achando melhor vis vendilhões aceito concluiu emendando e releu vis vendilhões serão expulsos do templo ficarão os crentes e os puros os que põem acima dos interesses mesquinhos locais e passageiros a vitória indefectível dos\n",
      "\n"
     ]
    }
   ],
   "source": [
    "for i, seq in enumerate(sequences):\n",
    "    k = nr.randint(len(seq) - 100)\n",
    "    print('{}: {} -- {} words'.format(book_author[i], book_title[i], len(seq)).replace('_', ' '))\n",
    "    print(' '.join([i2w[x] for x in seq[k:k+100]]), end='\\n\\n')\n"
   ]
  },
  {
   "cell_type": "markdown",
   "metadata": {},
   "source": [
    "### Dividindo o dataset entre treinamento e validação"
   ]
  },
  {
   "cell_type": "code",
   "execution_count": 7,
   "metadata": {
    "collapsed": false
   },
   "outputs": [
    {
     "name": "stdout",
     "output_type": "stream",
     "text": [
      "Val seqs: [2952, 16918, 10689, 6181, 15283, 33545, 26908, 33071, 13106, 14188, 11867, 15269]\n",
      "Val labels: [1, 1, 1, 1, 2, 2, 2, 2, 0, 0, 0, 0]\n",
      "Tra seqs: [8673, 12004, 10945, 3263, 27754, 48457, 85268, 34201, 36644, 45776, 4621, 16655, 3136, 55669, 31813, 21461, 33378, 85727, 22368, 98084, 15780, 10977, 42849, 44425]\n",
      "Tra labels: [1, 1, 1, 1, 2, 2, 2, 2, 0, 0, 0, 0, 1, 1, 1, 1, 2, 2, 2, 2, 0, 0, 0, 0]\n",
      "\n",
      "Number of training words:   799928\n",
      "Number of validation words: 199977\n"
     ]
    }
   ],
   "source": [
    "valid_split = 0.2\n",
    "valid_length = [int(0.2 * len(x)) for x in sequences]\n",
    "valid_start = [nr.randint(2000, len(x) - 2000 - n) for x, n in zip(sequences, valid_length)]\n",
    "\n",
    "valid_sequences = [seq[x0:x0+n] for seq, x0, n in zip(sequences, valid_start, valid_length)]\n",
    "\n",
    "train_sequences = [seq[:x0] for seq, x0 in zip(sequences, valid_start)] + \\\n",
    "                  [seq[x0+n:] for seq, x0, n in zip(sequences, valid_start, valid_length)]\n",
    "\n",
    "valid_labels = book_label\n",
    "train_labels = book_label + book_label\n",
    "\n",
    "n_train_words = sum([len(x) for x in train_sequences])\n",
    "n_valid_words = sum([len(x) for x in valid_sequences])\n",
    "\n",
    "print('Val seqs:', [len(seq) for seq in valid_sequences])\n",
    "print('Val labels:', valid_labels)\n",
    "print('Tra seqs:', [len(seq) for seq in train_sequences])\n",
    "print('Tra labels:', train_labels)\n",
    "print()\n",
    "print('Number of training words:  ', n_train_words)\n",
    "print('Number of validation words:', n_valid_words)"
   ]
  },
  {
   "cell_type": "markdown",
   "metadata": {},
   "source": [
    "### Criando  geradores para treino e validação"
   ]
  },
  {
   "cell_type": "code",
   "execution_count": 8,
   "metadata": {
    "collapsed": true
   },
   "outputs": [],
   "source": [
    "class MyDataGenerator:\n",
    "    def __init__(self, batch_size, seq_size, sequences, labels):\n",
    "        self.batch_size = batch_size\n",
    "        self.length = seq_size\n",
    "        self.sequences = sequences\n",
    "        self.labels = labels\n",
    "        self.n = len(sequences)\n",
    "        \n",
    "    def __call__(self):\n",
    "        while True:\n",
    "            batch = np.empty((self.batch_size, self.length), np.int32)\n",
    "            label = np.empty((self.batch_size, n_labels), np.int32)\n",
    "            for i in range(self.batch_size):\n",
    "                k = nr.randint(self.n)\n",
    "                p = nr.randint(0, len(self.sequences[k]) - self.length)\n",
    "                batch[i] = self.sequences[k][p:p+self.length]\n",
    "                label[i] = to_categorical(self.labels[k], num_classes=n_labels)\n",
    "            yield batch, label\n"
   ]
  },
  {
   "cell_type": "code",
   "execution_count": 9,
   "metadata": {
    "collapsed": false
   },
   "outputs": [],
   "source": [
    "batch_size = 32\n",
    "seq_size = 500\n",
    "\n",
    "train_gen = MyDataGenerator(batch_size, seq_size, train_sequences, train_labels)\n",
    "valid_gen = MyDataGenerator(batch_size, seq_size, valid_sequences, valid_labels)\n"
   ]
  },
  {
   "cell_type": "markdown",
   "metadata": {},
   "source": [
    "## Criando a rede neural"
   ]
  },
  {
   "cell_type": "markdown",
   "metadata": {},
   "source": [
    "### Carregando o embedding"
   ]
  },
  {
   "cell_type": "code",
   "execution_count": 10,
   "metadata": {
    "collapsed": true
   },
   "outputs": [],
   "source": [
    "EMBEDDING_DIM = 100\n",
    "embeddings_index = {}"
   ]
  },
  {
   "cell_type": "markdown",
   "metadata": {},
   "source": [
    "### Preparando a matriz de embeddings"
   ]
  },
  {
   "cell_type": "code",
   "execution_count": 11,
   "metadata": {
    "collapsed": false
   },
   "outputs": [
    {
     "name": "stdout",
     "output_type": "stream",
     "text": [
      "(20000, 100)\n"
     ]
    }
   ],
   "source": [
    "# prepare embedding matrix\n",
    "num_words = min(MAX_NB_WORDS, len(w2i))\n",
    "embedding_matrix = np.zeros((num_words, EMBEDDING_DIM))\n",
    "\n",
    "for i in range(1, MAX_NB_WORDS):\n",
    "    word = i2w[i]\n",
    "    embedding_vector = embeddings_index.get(word)\n",
    "    if embedding_vector is None:\n",
    "        # words not found in embedding index will be random\n",
    "        embedding_vector = nr.random(size=(100,)) - 0.5\n",
    "    embedding_matrix[i] = embedding_vector\n",
    "\n",
    "print(embedding_matrix.shape)\n",
    "embeddings_index = None"
   ]
  },
  {
   "cell_type": "markdown",
   "metadata": {},
   "source": [
    "### Construindo a rede"
   ]
  },
  {
   "cell_type": "code",
   "execution_count": 12,
   "metadata": {
    "collapsed": false
   },
   "outputs": [],
   "source": [
    "model_name = '../../models/livros_embeddings_1'\n",
    "\n",
    "def build_net(embedding_matrix=None, input_len=None, trainable=False):\n",
    "    num_words, embedding_dim = embedding_matrix.shape\n",
    "    \n",
    "    seq_input = Input(shape=(input_len,), dtype='int32')\n",
    "    embedding_layer = Embedding(num_words, embedding_dim, weights=[embedding_matrix],\n",
    "                                input_length=input_len, trainable=trainable)(seq_input)\n",
    "\n",
    "    x = Conv1D(128, 5, activation='relu')(embedding_layer)\n",
    "    x = MaxPooling1D(5)(x)\n",
    "\n",
    "    x = Dropout(0.5)(x)\n",
    "    \n",
    "    x = Conv1D(128, 5, activation='relu')(x)\n",
    "    x = MaxPooling1D(2)(x)\n",
    "    \n",
    "    x = Conv1D(128, 5, activation='relu')(x)\n",
    "    x = MaxPooling1D(2)(x)\n",
    "    \n",
    "    x = Dropout(0.5)(x)\n",
    "    \n",
    "    x = Flatten()(x)\n",
    "    x = Dense(128, activation='relu')(x)\n",
    "    \n",
    "    x = Dropout(0.5)(x)\n",
    "    \n",
    "    preds = Dense(n_labels, activation='softmax')(x)\n",
    "\n",
    "    model = Model(seq_input, preds)\n",
    "    return model\n",
    "\n",
    "model = build_net(embedding_matrix, seq_size, True)"
   ]
  },
  {
   "cell_type": "markdown",
   "metadata": {},
   "source": [
    "## Treinando"
   ]
  },
  {
   "cell_type": "code",
   "execution_count": 13,
   "metadata": {
    "collapsed": false
   },
   "outputs": [
    {
     "data": {
      "image/png": "[encoded data removed]",
      "text/plain": [
       "<matplotlib.figure.Figure at 0x117958748>"
      ]
     },
     "metadata": {},
     "output_type": "display_data"
    }
   ],
   "source": [
    "train_steps = n_train_words // (batch_size * seq_size)\n",
    "valid_steps = n_valid_words // (batch_size * seq_size)\n",
    "\n",
    "fit_params = {\n",
    "    'train_steps':     train_steps,\n",
    "    'valid_steps':     valid_steps,\n",
    "    'opt':             'adam',      #SGD(lr=0.001, momentum=0.9, nesterov=True), \n",
    "    'nepochs':         50, \n",
    "    'patience':        50,\n",
    "    'ploss':           1.5,\n",
    "    'reset':           False,\n",
    "}\n",
    "\n",
    "train_network(model, model_name, train_gen(), valid_gen(), **fit_params);"
   ]
  },
  {
   "cell_type": "markdown",
   "metadata": {},
   "source": [
    "## Avaliando"
   ]
  },
  {
   "cell_type": "code",
   "execution_count": 18,
   "metadata": {
    "collapsed": false
   },
   "outputs": [
    {
     "name": "stdout",
     "output_type": "stream",
     "text": [
      "Model from epoch 7\n",
      "[INFO] evaluating in the test data set ...\n",
      "\n",
      "[INFO] accuracy on the test data set: 96.09% [0.09918]\n"
     ]
    }
   ],
   "source": [
    "test_network(model_name, valid_gen(), valid_steps)"
   ]
  },
  {
   "cell_type": "code",
   "execution_count": null,
   "metadata": {
    "collapsed": true
   },
   "outputs": [],
   "source": []
  }
 ],
 "metadata": {
  "kernelspec": {
   "display_name": "Python 3",
   "language": "python",
   "name": "python3"
  },
  "language_info": {
   "codemirror_mode": {
    "name": "ipython",
    "version": 3
   },
   "file_extension": ".py",
   "mimetype": "text/x-python",
   "name": "python",
   "nbconvert_exporter": "python",
   "pygments_lexer": "ipython3",
   "version": "3.6.0"
  },
  "latex_envs": {
   "LaTeX_envs_menu_present": true,
   "autocomplete": true,
   "bibliofile": "biblio.bib",
   "cite_by": "apalike",
   "current_citInitial": 1,
   "eqLabelWithNumbers": true,
   "eqNumInitial": 1,
   "hotkeys": {
    "equation": "Ctrl-E",
    "itemize": "Ctrl-I"
   },
   "labels_anchors": false,
   "latex_user_defs": false,
   "report_style_numbering": false,
   "user_envs_cfg": false
  },
  "toc": {
   "colors": {
    "hover_highlight": "#DAA520",
    "navigate_num": "#000000",
    "navigate_text": "#333333",
    "running_highlight": "#FF0000",
    "selected_highlight": "#FFD700",
    "sidebar_border": "#EEEEEE",
    "wrapper_background": "#FFFFFF"
   },
   "moveMenuLeft": true,
   "nav_menu": {
    "height": "264px",
    "width": "252px"
   },
   "navigate_menu": true,
   "number_sections": true,
   "sideBar": true,
   "threshold": 4,
   "toc_cell": true,
   "toc_section_display": "block",
   "toc_window_display": false,
   "widenNotebook": false
  }
 },
 "nbformat": 4,
 "nbformat_minor": 2
}
