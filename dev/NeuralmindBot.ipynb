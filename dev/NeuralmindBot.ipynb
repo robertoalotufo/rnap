{
 "cells": [
  {
   "cell_type": "code",
   "execution_count": 13,
   "metadata": {
    "ExecuteTime": {
     "end_time": "2017-06-02T20:36:47.332977",
     "start_time": "2017-06-02T20:36:46.719962"
    },
    "collapsed": false
   },
   "outputs": [],
   "source": [
    "import telegram\n",
    "from telegram.ext import Updater, CommandHandler, MessageHandler, Filters\n",
    "import logging\n",
    "\n",
    "import matplotlib.image as mp_img\n",
    "import numpy as np "
   ]
  },
  {
   "cell_type": "code",
   "execution_count": 2,
   "metadata": {
    "ExecuteTime": {
     "end_time": "2017-06-02T20:16:11.596739",
     "start_time": "2017-06-02T20:16:11.591428"
    },
    "collapsed": false
   },
   "outputs": [],
   "source": [
    "bot = telegram.Bot(token='395861588:AAHXrGm2bD0VUDnVZLd6P45SzUas0e_SKNI')"
   ]
  },
  {
   "cell_type": "code",
   "execution_count": 3,
   "metadata": {
    "ExecuteTime": {
     "end_time": "2017-06-02T20:16:13.407292",
     "start_time": "2017-06-02T20:16:12.203347"
    },
    "collapsed": false
   },
   "outputs": [
    {
     "name": "stdout",
     "output_type": "stream",
     "text": [
      "{'id': 395861588, 'first_name': 'Neuralmind Bot', 'username': 'NeuralmindBot'}\n"
     ]
    }
   ],
   "source": [
    "print(bot.get_me())"
   ]
  },
  {
   "cell_type": "code",
   "execution_count": 16,
   "metadata": {
    "ExecuteTime": {
     "end_time": "2017-06-02T20:49:36.315583",
     "start_time": "2017-06-02T20:49:36.240152"
    },
    "collapsed": false
   },
   "outputs": [],
   "source": [
    "# Enable logging\n",
    "logging.basicConfig(format='%(asctime)s - %(name)s - %(levelname)s - %(message)s',\n",
    "                    level=logging.INFO)\n",
    "\n",
    "logger = logging.getLogger(__name__)\n",
    "\n",
    "\n",
    "# Define a few command handlers. These usually take the two arguments bot and\n",
    "# update. Error handlers also receive the raised TelegramError object in error.\n",
    "def start(bot, update):\n",
    "    update.message.reply_text('Hi!')\n",
    "\n",
    "\n",
    "def help(bot, update):\n",
    "    update.message.reply_text('Help!')\n",
    "\n",
    "\n",
    "def echo(bot, update):\n",
    "    update.message.reply_text(update.message.text)\n",
    "    print('texto:',update.message.text)\n",
    "\n",
    "def photo(bot, update):\n",
    "    update.message.reply_text('recebi imagem')\n",
    "    for u in update.message.photo[:1]:\n",
    "        print('u:',type(u))\n",
    "        print(u['width'],u['height'],u['file_size'])\n",
    "        file_id = u.file_id\n",
    "        newFile = bot.get_file(file_id)\n",
    "        newFile.download('telegram_img.jpg')\n",
    "        f = mp_img.imread('telegram_img.jpg')\n",
    "        print(f.shape)\n",
    "    update.message.reply_text('image tem tamanho: %s' % (f.shape,))\n",
    "        \n",
    "    print('recebi a imagem')\n",
    "\n",
    "def error(bot, update, error):\n",
    "    logger.warn('Update \"%s\" caused error \"%s\"' % (update, error))\n",
    "\n",
    "\n",
    "def main():\n",
    "    # Create the EventHandler and pass it your bot's token.\n",
    "    updater = Updater(\"395861588:AAHXrGm2bD0VUDnVZLd6P45SzUas0e_SKNI\")\n",
    "\n",
    "    # Get the dispatcher to register handlers\n",
    "    dp = updater.dispatcher\n",
    "\n",
    "    # on different commands - answer in Telegram\n",
    "    dp.add_handler(CommandHandler(\"start\", start))\n",
    "    dp.add_handler(CommandHandler(\"help\", help))\n",
    "    #dp.add_handler(CommandHandler(\"ge))\n",
    "\n",
    "    # on noncommand i.e message - echo the message on Telegram\n",
    "    dp.add_handler(MessageHandler(Filters.text, echo))\n",
    "    dp.add_handler(MessageHandler(Filters.photo, photo))\n",
    "\n",
    "    # log all errors\n",
    "    dp.add_error_handler(error)\n",
    "\n",
    "    # Start the Bot\n",
    "    updater.start_polling()\n",
    "\n",
    "    # Run the bot until you press Ctrl-C or the process receives SIGINT,\n",
    "    # SIGTERM or SIGABRT. This should be used most of the time, since\n",
    "    # start_polling() is non-blocking and will stop the bot gracefully.\n",
    "    try:\n",
    "        updater.idle()\n",
    "    except:\n",
    "        KeyboardInterrupt()"
   ]
  },
  {
   "cell_type": "code",
   "execution_count": null,
   "metadata": {
    "ExecuteTime": {
     "start_time": "2017-06-02T23:49:37.003Z"
    },
    "collapsed": false
   },
   "outputs": [
    {
     "name": "stdout",
     "output_type": "stream",
     "text": [
      "u: <class 'telegram.photosize.PhotoSize'>\n",
      "90 78 1279\n",
      "(78, 90, 3)\n",
      "recebi a imagem\n"
     ]
    },
    {
     "name": "stderr",
     "output_type": "stream",
     "text": [
      "2017-06-02 21:00:31,899 - telegram.ext.updater - ERROR - Error while getting Updates: Timed out\n",
      "/Applications/anaconda/lib/python3.6/site-packages/ipykernel/__main__.py:37: DeprecationWarning: The 'warn' method is deprecated, use 'warning' instead\n",
      "2017-06-02 21:00:31,903 - __main__ - WARNING - Update \"None\" caused error \"Timed out\"\n",
      "2017-06-02 21:08:34,105 - telegram.ext.updater - ERROR - Error while getting Updates: Timed out\n",
      "2017-06-02 21:08:34,107 - __main__ - WARNING - Update \"None\" caused error \"Timed out\"\n",
      "2017-06-02 22:39:23,462 - telegram.ext.updater - ERROR - Error while getting Updates: Timed out\n",
      "2017-06-02 22:39:23,464 - __main__ - WARNING - Update \"None\" caused error \"Timed out\"\n",
      "2017-06-03 00:06:44,239 - telegram.ext.updater - ERROR - Error while getting Updates: Timed out\n",
      "2017-06-03 00:06:44,242 - __main__ - WARNING - Update \"None\" caused error \"Timed out\"\n",
      "2017-06-03 02:07:46,935 - telegram.ext.updater - ERROR - Error while getting Updates: Timed out\n",
      "2017-06-03 02:07:46,936 - __main__ - WARNING - Update \"None\" caused error \"Timed out\"\n",
      "2017-06-03 04:08:39,659 - telegram.ext.updater - ERROR - Error while getting Updates: Timed out\n",
      "2017-06-03 04:08:39,662 - __main__ - WARNING - Update \"None\" caused error \"Timed out\"\n",
      "2017-06-03 06:09:32,483 - telegram.ext.updater - ERROR - Error while getting Updates: Timed out\n",
      "2017-06-03 06:09:32,485 - __main__ - WARNING - Update \"None\" caused error \"Timed out\"\n",
      "2017-06-03 07:37:58,143 - telegram.ext.updater - ERROR - Error while getting Updates: Timed out\n",
      "2017-06-03 07:37:58,145 - __main__ - WARNING - Update \"None\" caused error \"Timed out\"\n",
      "2017-06-03 09:38:09,805 - telegram.ext.updater - ERROR - Error while getting Updates: Timed out\n",
      "2017-06-03 09:38:09,807 - __main__ - WARNING - Update \"None\" caused error \"Timed out\"\n",
      "2017-06-03 09:38:11,320 - telegram.vendor.ptb_urllib3.urllib3.connectionpool - WARNING - Retrying (Retry(total=2, connect=None, read=None, redirect=None)) after connection broken by 'NewConnectionError('<telegram.vendor.ptb_urllib3.urllib3.connection.VerifiedHTTPSConnection object at 0x112462908>: Failed to establish a new connection: [Errno 8] nodename nor servname provided, or not known',)': /bot395861588:AAHXrGm2bD0VUDnVZLd6P45SzUas0e_SKNI/getUpdates\n",
      "2017-06-03 09:38:11,322 - telegram.vendor.ptb_urllib3.urllib3.connectionpool - WARNING - Retrying (Retry(total=1, connect=None, read=None, redirect=None)) after connection broken by 'NewConnectionError('<telegram.vendor.ptb_urllib3.urllib3.connection.VerifiedHTTPSConnection object at 0x112462e80>: Failed to establish a new connection: [Errno 8] nodename nor servname provided, or not known',)': /bot395861588:AAHXrGm2bD0VUDnVZLd6P45SzUas0e_SKNI/getUpdates\n",
      "2017-06-03 09:38:11,325 - telegram.vendor.ptb_urllib3.urllib3.connectionpool - WARNING - Retrying (Retry(total=0, connect=None, read=None, redirect=None)) after connection broken by 'NewConnectionError('<telegram.vendor.ptb_urllib3.urllib3.connection.VerifiedHTTPSConnection object at 0x112462dd8>: Failed to establish a new connection: [Errno 8] nodename nor servname provided, or not known',)': /bot395861588:AAHXrGm2bD0VUDnVZLd6P45SzUas0e_SKNI/getUpdates\n",
      "2017-06-03 09:38:11,327 - telegram.ext.updater - ERROR - Error while getting Updates: urllib3 HTTPError HTTPSConnectionPool(host='api.telegram.org', port=443): Max retries exceeded with url: /bot395861588:AAHXrGm2bD0VUDnVZLd6P45SzUas0e_SKNI/getUpdates (Caused by NewConnectionError('<telegram.vendor.ptb_urllib3.urllib3.connection.VerifiedHTTPSConnection object at 0x112462eb8>: Failed to establish a new connection: [Errno 8] nodename nor servname provided, or not known',))\n",
      "2017-06-03 09:38:11,328 - __main__ - WARNING - Update \"None\" caused error \"urllib3 HTTPError HTTPSConnectionPool(host='api.telegram.org', port=443): Max retries exceeded with url: /bot395861588:AAHXrGm2bD0VUDnVZLd6P45SzUas0e_SKNI/getUpdates (Caused by NewConnectionError('<telegram.vendor.ptb_urllib3.urllib3.connection.VerifiedHTTPSConnection object at 0x112462eb8>: Failed to establish a new connection: [Errno 8] nodename nor servname provided, or not known',))\"\n",
      "2017-06-03 09:38:13,580 - telegram.vendor.ptb_urllib3.urllib3.connectionpool - WARNING - Retrying (Retry(total=2, connect=None, read=None, redirect=None)) after connection broken by 'NewConnectionError('<telegram.vendor.ptb_urllib3.urllib3.connection.VerifiedHTTPSConnection object at 0x1124740b8>: Failed to establish a new connection: [Errno 8] nodename nor servname provided, or not known',)': /bot395861588:AAHXrGm2bD0VUDnVZLd6P45SzUas0e_SKNI/getUpdates\n",
      "2017-06-03 09:38:13,582 - telegram.vendor.ptb_urllib3.urllib3.connectionpool - WARNING - Retrying (Retry(total=1, connect=None, read=None, redirect=None)) after connection broken by 'NewConnectionError('<telegram.vendor.ptb_urllib3.urllib3.connection.VerifiedHTTPSConnection object at 0x1124742b0>: Failed to establish a new connection: [Errno 8] nodename nor servname provided, or not known',)': /bot395861588:AAHXrGm2bD0VUDnVZLd6P45SzUas0e_SKNI/getUpdates\n",
      "2017-06-03 09:38:13,584 - telegram.vendor.ptb_urllib3.urllib3.connectionpool - WARNING - Retrying (Retry(total=0, connect=None, read=None, redirect=None)) after connection broken by 'NewConnectionError('<telegram.vendor.ptb_urllib3.urllib3.connection.VerifiedHTTPSConnection object at 0x112474128>: Failed to establish a new connection: [Errno 8] nodename nor servname provided, or not known',)': /bot395861588:AAHXrGm2bD0VUDnVZLd6P45SzUas0e_SKNI/getUpdates\n",
      "2017-06-03 09:38:13,587 - telegram.ext.updater - ERROR - Error while getting Updates: urllib3 HTTPError HTTPSConnectionPool(host='api.telegram.org', port=443): Max retries exceeded with url: /bot395861588:AAHXrGm2bD0VUDnVZLd6P45SzUas0e_SKNI/getUpdates (Caused by NewConnectionError('<telegram.vendor.ptb_urllib3.urllib3.connection.VerifiedHTTPSConnection object at 0x112474550>: Failed to establish a new connection: [Errno 8] nodename nor servname provided, or not known',))\n",
      "2017-06-03 09:38:13,589 - __main__ - WARNING - Update \"None\" caused error \"urllib3 HTTPError HTTPSConnectionPool(host='api.telegram.org', port=443): Max retries exceeded with url: /bot395861588:AAHXrGm2bD0VUDnVZLd6P45SzUas0e_SKNI/getUpdates (Caused by NewConnectionError('<telegram.vendor.ptb_urllib3.urllib3.connection.VerifiedHTTPSConnection object at 0x112474550>: Failed to establish a new connection: [Errno 8] nodename nor servname provided, or not known',))\"\n",
      "2017-06-03 09:38:16,975 - telegram.vendor.ptb_urllib3.urllib3.connectionpool - WARNING - Retrying (Retry(total=2, connect=None, read=None, redirect=None)) after connection broken by 'NewConnectionError('<telegram.vendor.ptb_urllib3.urllib3.connection.VerifiedHTTPSConnection object at 0x112474080>: Failed to establish a new connection: [Errno 8] nodename nor servname provided, or not known',)': /bot395861588:AAHXrGm2bD0VUDnVZLd6P45SzUas0e_SKNI/getUpdates\n",
      "2017-06-03 09:38:16,978 - telegram.vendor.ptb_urllib3.urllib3.connectionpool - WARNING - Retrying (Retry(total=1, connect=None, read=None, redirect=None)) after connection broken by 'NewConnectionError('<telegram.vendor.ptb_urllib3.urllib3.connection.VerifiedHTTPSConnection object at 0x1124745c0>: Failed to establish a new connection: [Errno 8] nodename nor servname provided, or not known',)': /bot395861588:AAHXrGm2bD0VUDnVZLd6P45SzUas0e_SKNI/getUpdates\n",
      "2017-06-03 09:38:16,998 - telegram.vendor.ptb_urllib3.urllib3.connectionpool - WARNING - Retrying (Retry(total=0, connect=None, read=None, redirect=None)) after connection broken by 'NewConnectionError('<telegram.vendor.ptb_urllib3.urllib3.connection.VerifiedHTTPSConnection object at 0x10b0b4668>: Failed to establish a new connection: [Errno 8] nodename nor servname provided, or not known',)': /bot395861588:AAHXrGm2bD0VUDnVZLd6P45SzUas0e_SKNI/getUpdates\n",
      "2017-06-03 09:38:17,000 - telegram.ext.updater - ERROR - Error while getting Updates: urllib3 HTTPError HTTPSConnectionPool(host='api.telegram.org', port=443): Max retries exceeded with url: /bot395861588:AAHXrGm2bD0VUDnVZLd6P45SzUas0e_SKNI/getUpdates (Caused by NewConnectionError('<telegram.vendor.ptb_urllib3.urllib3.connection.VerifiedHTTPSConnection object at 0x1121820f0>: Failed to establish a new connection: [Errno 8] nodename nor servname provided, or not known',))\n",
      "2017-06-03 09:38:17,001 - __main__ - WARNING - Update \"None\" caused error \"urllib3 HTTPError HTTPSConnectionPool(host='api.telegram.org', port=443): Max retries exceeded with url: /bot395861588:AAHXrGm2bD0VUDnVZLd6P45SzUas0e_SKNI/getUpdates (Caused by NewConnectionError('<telegram.vendor.ptb_urllib3.urllib3.connection.VerifiedHTTPSConnection object at 0x1121820f0>: Failed to establish a new connection: [Errno 8] nodename nor servname provided, or not known',))\"\n",
      "2017-06-03 09:38:22,089 - telegram.vendor.ptb_urllib3.urllib3.connectionpool - WARNING - Retrying (Retry(total=2, connect=None, read=None, redirect=None)) after connection broken by 'NewConnectionError('<telegram.vendor.ptb_urllib3.urllib3.connection.VerifiedHTTPSConnection object at 0x112182588>: Failed to establish a new connection: [Errno 8] nodename nor servname provided, or not known',)': /bot395861588:AAHXrGm2bD0VUDnVZLd6P45SzUas0e_SKNI/getUpdates\n",
      "2017-06-03 09:38:22,093 - telegram.vendor.ptb_urllib3.urllib3.connectionpool - WARNING - Retrying (Retry(total=1, connect=None, read=None, redirect=None)) after connection broken by 'NewConnectionError('<telegram.vendor.ptb_urllib3.urllib3.connection.VerifiedHTTPSConnection object at 0x112182e48>: Failed to establish a new connection: [Errno 8] nodename nor servname provided, or not known',)': /bot395861588:AAHXrGm2bD0VUDnVZLd6P45SzUas0e_SKNI/getUpdates\n",
      "2017-06-03 09:38:22,096 - telegram.vendor.ptb_urllib3.urllib3.connectionpool - WARNING - Retrying (Retry(total=0, connect=None, read=None, redirect=None)) after connection broken by 'NewConnectionError('<telegram.vendor.ptb_urllib3.urllib3.connection.VerifiedHTTPSConnection object at 0x112462e10>: Failed to establish a new connection: [Errno 8] nodename nor servname provided, or not known',)': /bot395861588:AAHXrGm2bD0VUDnVZLd6P45SzUas0e_SKNI/getUpdates\n",
      "2017-06-03 09:38:22,100 - telegram.ext.updater - ERROR - Error while getting Updates: urllib3 HTTPError HTTPSConnectionPool(host='api.telegram.org', port=443): Max retries exceeded with url: /bot395861588:AAHXrGm2bD0VUDnVZLd6P45SzUas0e_SKNI/getUpdates (Caused by NewConnectionError('<telegram.vendor.ptb_urllib3.urllib3.connection.VerifiedHTTPSConnection object at 0x112462f98>: Failed to establish a new connection: [Errno 8] nodename nor servname provided, or not known',))\n",
      "2017-06-03 09:38:22,102 - __main__ - WARNING - Update \"None\" caused error \"urllib3 HTTPError HTTPSConnectionPool(host='api.telegram.org', port=443): Max retries exceeded with url: /bot395861588:AAHXrGm2bD0VUDnVZLd6P45SzUas0e_SKNI/getUpdates (Caused by NewConnectionError('<telegram.vendor.ptb_urllib3.urllib3.connection.VerifiedHTTPSConnection object at 0x112462f98>: Failed to establish a new connection: [Errno 8] nodename nor servname provided, or not known',))\"\n",
      "2017-06-03 09:38:29,699 - telegram.vendor.ptb_urllib3.urllib3.connectionpool - WARNING - Retrying (Retry(total=2, connect=None, read=None, redirect=None)) after connection broken by 'NewConnectionError('<telegram.vendor.ptb_urllib3.urllib3.connection.VerifiedHTTPSConnection object at 0x112182320>: Failed to establish a new connection: [Errno 8] nodename nor servname provided, or not known',)': /bot395861588:AAHXrGm2bD0VUDnVZLd6P45SzUas0e_SKNI/getUpdates\n",
      "2017-06-03 09:38:29,701 - telegram.vendor.ptb_urllib3.urllib3.connectionpool - WARNING - Retrying (Retry(total=1, connect=None, read=None, redirect=None)) after connection broken by 'NewConnectionError('<telegram.vendor.ptb_urllib3.urllib3.connection.VerifiedHTTPSConnection object at 0x112462908>: Failed to establish a new connection: [Errno 8] nodename nor servname provided, or not known',)': /bot395861588:AAHXrGm2bD0VUDnVZLd6P45SzUas0e_SKNI/getUpdates\n",
      "2017-06-03 09:38:29,704 - telegram.vendor.ptb_urllib3.urllib3.connectionpool - WARNING - Retrying (Retry(total=0, connect=None, read=None, redirect=None)) after connection broken by 'NewConnectionError('<telegram.vendor.ptb_urllib3.urllib3.connection.VerifiedHTTPSConnection object at 0x112462d30>: Failed to establish a new connection: [Errno 8] nodename nor servname provided, or not known',)': /bot395861588:AAHXrGm2bD0VUDnVZLd6P45SzUas0e_SKNI/getUpdates\n",
      "2017-06-03 09:38:29,706 - telegram.ext.updater - ERROR - Error while getting Updates: urllib3 HTTPError HTTPSConnectionPool(host='api.telegram.org', port=443): Max retries exceeded with url: /bot395861588:AAHXrGm2bD0VUDnVZLd6P45SzUas0e_SKNI/getUpdates (Caused by NewConnectionError('<telegram.vendor.ptb_urllib3.urllib3.connection.VerifiedHTTPSConnection object at 0x1124622b0>: Failed to establish a new connection: [Errno 8] nodename nor servname provided, or not known',))\n",
      "2017-06-03 09:38:29,707 - __main__ - WARNING - Update \"None\" caused error \"urllib3 HTTPError HTTPSConnectionPool(host='api.telegram.org', port=443): Max retries exceeded with url: /bot395861588:AAHXrGm2bD0VUDnVZLd6P45SzUas0e_SKNI/getUpdates (Caused by NewConnectionError('<telegram.vendor.ptb_urllib3.urllib3.connection.VerifiedHTTPSConnection object at 0x1124622b0>: Failed to establish a new connection: [Errno 8] nodename nor servname provided, or not known',))\"\n",
      "2017-06-03 09:44:36,080 - telegram.vendor.ptb_urllib3.urllib3.connectionpool - WARNING - Retrying (Retry(total=2, connect=None, read=None, redirect=None)) after connection broken by 'NewConnectionError('<telegram.vendor.ptb_urllib3.urllib3.connection.VerifiedHTTPSConnection object at 0x112462c50>: Failed to establish a new connection: [Errno 8] nodename nor servname provided, or not known',)': /bot395861588:AAHXrGm2bD0VUDnVZLd6P45SzUas0e_SKNI/getUpdates\n",
      "2017-06-03 09:44:36,095 - telegram.vendor.ptb_urllib3.urllib3.connectionpool - WARNING - Retrying (Retry(total=1, connect=None, read=None, redirect=None)) after connection broken by 'NewConnectionError('<telegram.vendor.ptb_urllib3.urllib3.connection.VerifiedHTTPSConnection object at 0x1124622e8>: Failed to establish a new connection: [Errno 8] nodename nor servname provided, or not known',)': /bot395861588:AAHXrGm2bD0VUDnVZLd6P45SzUas0e_SKNI/getUpdates\n",
      "2017-06-03 09:44:36,097 - telegram.vendor.ptb_urllib3.urllib3.connectionpool - WARNING - Retrying (Retry(total=0, connect=None, read=None, redirect=None)) after connection broken by 'NewConnectionError('<telegram.vendor.ptb_urllib3.urllib3.connection.VerifiedHTTPSConnection object at 0x112455dd8>: Failed to establish a new connection: [Errno 8] nodename nor servname provided, or not known',)': /bot395861588:AAHXrGm2bD0VUDnVZLd6P45SzUas0e_SKNI/getUpdates\n",
      "2017-06-03 09:44:36,100 - telegram.ext.updater - ERROR - Error while getting Updates: urllib3 HTTPError HTTPSConnectionPool(host='api.telegram.org', port=443): Max retries exceeded with url: /bot395861588:AAHXrGm2bD0VUDnVZLd6P45SzUas0e_SKNI/getUpdates (Caused by NewConnectionError('<telegram.vendor.ptb_urllib3.urllib3.connection.VerifiedHTTPSConnection object at 0x112462a58>: Failed to establish a new connection: [Errno 8] nodename nor servname provided, or not known',))\n",
      "2017-06-03 09:44:36,102 - __main__ - WARNING - Update \"None\" caused error \"urllib3 HTTPError HTTPSConnectionPool(host='api.telegram.org', port=443): Max retries exceeded with url: /bot395861588:AAHXrGm2bD0VUDnVZLd6P45SzUas0e_SKNI/getUpdates (Caused by NewConnectionError('<telegram.vendor.ptb_urllib3.urllib3.connection.VerifiedHTTPSConnection object at 0x112462a58>: Failed to establish a new connection: [Errno 8] nodename nor servname provided, or not known',))\"\n",
      "2017-06-03 09:44:55,056 - telegram.vendor.ptb_urllib3.urllib3.connectionpool - WARNING - Retrying (Retry(total=2, connect=None, read=None, redirect=None)) after connection broken by 'NewConnectionError('<telegram.vendor.ptb_urllib3.urllib3.connection.VerifiedHTTPSConnection object at 0x112462e48>: Failed to establish a new connection: [Errno 8] nodename nor servname provided, or not known',)': /bot395861588:AAHXrGm2bD0VUDnVZLd6P45SzUas0e_SKNI/getUpdates\n",
      "2017-06-03 09:44:55,062 - telegram.vendor.ptb_urllib3.urllib3.connectionpool - WARNING - Retrying (Retry(total=1, connect=None, read=None, redirect=None)) after connection broken by 'NewConnectionError('<telegram.vendor.ptb_urllib3.urllib3.connection.VerifiedHTTPSConnection object at 0x112462a90>: Failed to establish a new connection: [Errno 8] nodename nor servname provided, or not known',)': /bot395861588:AAHXrGm2bD0VUDnVZLd6P45SzUas0e_SKNI/getUpdates\n",
      "2017-06-03 09:44:55,065 - telegram.vendor.ptb_urllib3.urllib3.connectionpool - WARNING - Retrying (Retry(total=0, connect=None, read=None, redirect=None)) after connection broken by 'NewConnectionError('<telegram.vendor.ptb_urllib3.urllib3.connection.VerifiedHTTPSConnection object at 0x112474518>: Failed to establish a new connection: [Errno 8] nodename nor servname provided, or not known',)': /bot395861588:AAHXrGm2bD0VUDnVZLd6P45SzUas0e_SKNI/getUpdates\n",
      "2017-06-03 09:44:55,070 - telegram.ext.updater - ERROR - Error while getting Updates: urllib3 HTTPError HTTPSConnectionPool(host='api.telegram.org', port=443): Max retries exceeded with url: /bot395861588:AAHXrGm2bD0VUDnVZLd6P45SzUas0e_SKNI/getUpdates (Caused by NewConnectionError('<telegram.vendor.ptb_urllib3.urllib3.connection.VerifiedHTTPSConnection object at 0x1124746d8>: Failed to establish a new connection: [Errno 8] nodename nor servname provided, or not known',))\n",
      "2017-06-03 09:44:55,072 - __main__ - WARNING - Update \"None\" caused error \"urllib3 HTTPError HTTPSConnectionPool(host='api.telegram.org', port=443): Max retries exceeded with url: /bot395861588:AAHXrGm2bD0VUDnVZLd6P45SzUas0e_SKNI/getUpdates (Caused by NewConnectionError('<telegram.vendor.ptb_urllib3.urllib3.connection.VerifiedHTTPSConnection object at 0x1124746d8>: Failed to establish a new connection: [Errno 8] nodename nor servname provided, or not known',))\"\n",
      "2017-06-03 09:45:27,807 - telegram.vendor.ptb_urllib3.urllib3.connectionpool - WARNING - Retrying (Retry(total=2, connect=None, read=None, redirect=None)) after connection broken by 'ConnectTimeoutError(<telegram.vendor.ptb_urllib3.urllib3.connectionpool.HTTPSConnectionPool object at 0x112182438>, 'Connect timed out. (connect timeout=5.0)')': /bot395861588:AAHXrGm2bD0VUDnVZLd6P45SzUas0e_SKNI/getUpdates\n",
      "2017-06-03 09:46:23,839 - telegram.ext.updater - ERROR - Error while getting Updates: Timed out\n",
      "2017-06-03 09:46:23,842 - __main__ - WARNING - Update \"None\" caused error \"Timed out\"\n",
      "2017-06-03 10:44:37,503 - telegram.ext.updater - ERROR - Error while getting Updates: Timed out\n",
      "2017-06-03 10:44:37,505 - __main__ - WARNING - Update \"None\" caused error \"Timed out\"\n",
      "2017-06-03 10:44:38,606 - telegram.vendor.ptb_urllib3.urllib3.connection - ERROR - Certificate did not match expected hostname: api.telegram.org. Certificate: {'subject': ((('countryName', 'BR'),), (('postalCode', '06454-000'),), (('stateOrProvinceName', 'Sao Paulo'),), (('localityName', 'Barueri'),), (('streetAddress', 'Alameda Rio Negro, 1030 -  Conj Escritorio 2304 - Alphaville'),), (('organizationName', 'Linktel Telecomunicacoes do Brasil Ltda'),), (('organizationalUnitName', 'NOC'),), (('organizationalUnitName', 'Hosted by Comodo Brasil Tecnologia LTDA'),), (('organizationalUnitName', 'InstantSSL Pro'),), (('commonName', 'secure.linktelwifi.com.br'),)), 'issuer': ((('countryName', 'GB'),), (('stateOrProvinceName', 'Greater Manchester'),), (('localityName', 'Salford'),), (('organizationName', 'COMODO CA Limited'),), (('commonName', 'COMODO RSA Organization Validation Secure Server CA'),)), 'version': 3, 'serialNumber': '25FD1C81BC090EC58ECDEAC6A8450407', 'notBefore': 'Jan  5 00:00:00 2016 GMT', 'notAfter': 'Jan 15 23:59:59 2019 GMT', 'subjectAltName': (('DNS', 'secure.linktelwifi.com.br'), ('DNS', 'www.secure.linktelwifi.com.br')), 'OCSP': ('http://ocsp.comodoca.com',), 'caIssuers': ('http://crt.comodoca.com/COMODORSAOrganizationValidationSecureServerCA.crt',), 'crlDistributionPoints': ('http://crl.comodoca.com/COMODORSAOrganizationValidationSecureServerCA.crl',)}\n",
      "2017-06-03 10:44:38,615 - telegram.ext.updater - ERROR - Error while getting Updates: urllib3 HTTPError hostname 'api.telegram.org' doesn't match either of 'secure.linktelwifi.com.br', 'www.secure.linktelwifi.com.br'\n",
      "2017-06-03 10:44:38,616 - __main__ - WARNING - Update \"None\" caused error \"urllib3 HTTPError hostname 'api.telegram.org' doesn't match either of 'secure.linktelwifi.com.br', 'www.secure.linktelwifi.com.br'\"\n",
      "2017-06-03 10:44:40,201 - telegram.vendor.ptb_urllib3.urllib3.connection - ERROR - Certificate did not match expected hostname: api.telegram.org. Certificate: {'subject': ((('countryName', 'BR'),), (('postalCode', '06454-000'),), (('stateOrProvinceName', 'Sao Paulo'),), (('localityName', 'Barueri'),), (('streetAddress', 'Alameda Rio Negro, 1030 -  Conj Escritorio 2304 - Alphaville'),), (('organizationName', 'Linktel Telecomunicacoes do Brasil Ltda'),), (('organizationalUnitName', 'NOC'),), (('organizationalUnitName', 'Hosted by Comodo Brasil Tecnologia LTDA'),), (('organizationalUnitName', 'InstantSSL Pro'),), (('commonName', 'secure.linktelwifi.com.br'),)), 'issuer': ((('countryName', 'GB'),), (('stateOrProvinceName', 'Greater Manchester'),), (('localityName', 'Salford'),), (('organizationName', 'COMODO CA Limited'),), (('commonName', 'COMODO RSA Organization Validation Secure Server CA'),)), 'version': 3, 'serialNumber': '25FD1C81BC090EC58ECDEAC6A8450407', 'notBefore': 'Jan  5 00:00:00 2016 GMT', 'notAfter': 'Jan 15 23:59:59 2019 GMT', 'subjectAltName': (('DNS', 'secure.linktelwifi.com.br'), ('DNS', 'www.secure.linktelwifi.com.br')), 'OCSP': ('http://ocsp.comodoca.com',), 'caIssuers': ('http://crt.comodoca.com/COMODORSAOrganizationValidationSecureServerCA.crt',), 'crlDistributionPoints': ('http://crl.comodoca.com/COMODORSAOrganizationValidationSecureServerCA.crl',)}\n",
      "2017-06-03 10:44:40,202 - telegram.ext.updater - ERROR - Error while getting Updates: urllib3 HTTPError hostname 'api.telegram.org' doesn't match either of 'secure.linktelwifi.com.br', 'www.secure.linktelwifi.com.br'\n",
      "2017-06-03 10:44:40,208 - __main__ - WARNING - Update \"None\" caused error \"urllib3 HTTPError hostname 'api.telegram.org' doesn't match either of 'secure.linktelwifi.com.br', 'www.secure.linktelwifi.com.br'\"\n",
      "2017-06-03 10:44:42,536 - telegram.vendor.ptb_urllib3.urllib3.connection - ERROR - Certificate did not match expected hostname: api.telegram.org. Certificate: {'subject': ((('countryName', 'BR'),), (('postalCode', '06454-000'),), (('stateOrProvinceName', 'Sao Paulo'),), (('localityName', 'Barueri'),), (('streetAddress', 'Alameda Rio Negro, 1030 -  Conj Escritorio 2304 - Alphaville'),), (('organizationName', 'Linktel Telecomunicacoes do Brasil Ltda'),), (('organizationalUnitName', 'NOC'),), (('organizationalUnitName', 'Hosted by Comodo Brasil Tecnologia LTDA'),), (('organizationalUnitName', 'InstantSSL Pro'),), (('commonName', 'secure.linktelwifi.com.br'),)), 'issuer': ((('countryName', 'GB'),), (('stateOrProvinceName', 'Greater Manchester'),), (('localityName', 'Salford'),), (('organizationName', 'COMODO CA Limited'),), (('commonName', 'COMODO RSA Organization Validation Secure Server CA'),)), 'version': 3, 'serialNumber': '25FD1C81BC090EC58ECDEAC6A8450407', 'notBefore': 'Jan  5 00:00:00 2016 GMT', 'notAfter': 'Jan 15 23:59:59 2019 GMT', 'subjectAltName': (('DNS', 'secure.linktelwifi.com.br'), ('DNS', 'www.secure.linktelwifi.com.br')), 'OCSP': ('http://ocsp.comodoca.com',), 'caIssuers': ('http://crt.comodoca.com/COMODORSAOrganizationValidationSecureServerCA.crt',), 'crlDistributionPoints': ('http://crl.comodoca.com/COMODORSAOrganizationValidationSecureServerCA.crl',)}\n",
      "2017-06-03 10:44:42,537 - telegram.ext.updater - ERROR - Error while getting Updates: urllib3 HTTPError hostname 'api.telegram.org' doesn't match either of 'secure.linktelwifi.com.br', 'www.secure.linktelwifi.com.br'\n",
      "2017-06-03 10:44:42,543 - __main__ - WARNING - Update \"None\" caused error \"urllib3 HTTPError hostname 'api.telegram.org' doesn't match either of 'secure.linktelwifi.com.br', 'www.secure.linktelwifi.com.br'\"\n",
      "2017-06-03 10:44:46,110 - telegram.vendor.ptb_urllib3.urllib3.connection - ERROR - Certificate did not match expected hostname: api.telegram.org. Certificate: {'subject': ((('countryName', 'BR'),), (('postalCode', '06454-000'),), (('stateOrProvinceName', 'Sao Paulo'),), (('localityName', 'Barueri'),), (('streetAddress', 'Alameda Rio Negro, 1030 -  Conj Escritorio 2304 - Alphaville'),), (('organizationName', 'Linktel Telecomunicacoes do Brasil Ltda'),), (('organizationalUnitName', 'NOC'),), (('organizationalUnitName', 'Hosted by Comodo Brasil Tecnologia LTDA'),), (('organizationalUnitName', 'InstantSSL Pro'),), (('commonName', 'secure.linktelwifi.com.br'),)), 'issuer': ((('countryName', 'GB'),), (('stateOrProvinceName', 'Greater Manchester'),), (('localityName', 'Salford'),), (('organizationName', 'COMODO CA Limited'),), (('commonName', 'COMODO RSA Organization Validation Secure Server CA'),)), 'version': 3, 'serialNumber': '25FD1C81BC090EC58ECDEAC6A8450407', 'notBefore': 'Jan  5 00:00:00 2016 GMT', 'notAfter': 'Jan 15 23:59:59 2019 GMT', 'subjectAltName': (('DNS', 'secure.linktelwifi.com.br'), ('DNS', 'www.secure.linktelwifi.com.br')), 'OCSP': ('http://ocsp.comodoca.com',), 'caIssuers': ('http://crt.comodoca.com/COMODORSAOrganizationValidationSecureServerCA.crt',), 'crlDistributionPoints': ('http://crl.comodoca.com/COMODORSAOrganizationValidationSecureServerCA.crl',)}\n",
      "2017-06-03 10:44:46,112 - telegram.ext.updater - ERROR - Error while getting Updates: urllib3 HTTPError hostname 'api.telegram.org' doesn't match either of 'secure.linktelwifi.com.br', 'www.secure.linktelwifi.com.br'\n",
      "2017-06-03 10:44:46,119 - __main__ - WARNING - Update \"None\" caused error \"urllib3 HTTPError hostname 'api.telegram.org' doesn't match either of 'secure.linktelwifi.com.br', 'www.secure.linktelwifi.com.br'\"\n",
      "2017-06-03 10:44:51,274 - telegram.vendor.ptb_urllib3.urllib3.connection - ERROR - Certificate did not match expected hostname: api.telegram.org. Certificate: {'subject': ((('countryName', 'BR'),), (('postalCode', '06454-000'),), (('stateOrProvinceName', 'Sao Paulo'),), (('localityName', 'Barueri'),), (('streetAddress', 'Alameda Rio Negro, 1030 -  Conj Escritorio 2304 - Alphaville'),), (('organizationName', 'Linktel Telecomunicacoes do Brasil Ltda'),), (('organizationalUnitName', 'NOC'),), (('organizationalUnitName', 'Hosted by Comodo Brasil Tecnologia LTDA'),), (('organizationalUnitName', 'InstantSSL Pro'),), (('commonName', 'secure.linktelwifi.com.br'),)), 'issuer': ((('countryName', 'GB'),), (('stateOrProvinceName', 'Greater Manchester'),), (('localityName', 'Salford'),), (('organizationName', 'COMODO CA Limited'),), (('commonName', 'COMODO RSA Organization Validation Secure Server CA'),)), 'version': 3, 'serialNumber': '25FD1C81BC090EC58ECDEAC6A8450407', 'notBefore': 'Jan  5 00:00:00 2016 GMT', 'notAfter': 'Jan 15 23:59:59 2019 GMT', 'subjectAltName': (('DNS', 'secure.linktelwifi.com.br'), ('DNS', 'www.secure.linktelwifi.com.br')), 'OCSP': ('http://ocsp.comodoca.com',), 'caIssuers': ('http://crt.comodoca.com/COMODORSAOrganizationValidationSecureServerCA.crt',), 'crlDistributionPoints': ('http://crl.comodoca.com/COMODORSAOrganizationValidationSecureServerCA.crl',)}\n",
      "2017-06-03 10:44:51,276 - telegram.ext.updater - ERROR - Error while getting Updates: urllib3 HTTPError hostname 'api.telegram.org' doesn't match either of 'secure.linktelwifi.com.br', 'www.secure.linktelwifi.com.br'\n",
      "2017-06-03 10:44:51,282 - __main__ - WARNING - Update \"None\" caused error \"urllib3 HTTPError hostname 'api.telegram.org' doesn't match either of 'secure.linktelwifi.com.br', 'www.secure.linktelwifi.com.br'\"\n",
      "2017-06-03 10:44:58,987 - telegram.vendor.ptb_urllib3.urllib3.connection - ERROR - Certificate did not match expected hostname: api.telegram.org. Certificate: {'subject': ((('countryName', 'BR'),), (('postalCode', '06454-000'),), (('stateOrProvinceName', 'Sao Paulo'),), (('localityName', 'Barueri'),), (('streetAddress', 'Alameda Rio Negro, 1030 -  Conj Escritorio 2304 - Alphaville'),), (('organizationName', 'Linktel Telecomunicacoes do Brasil Ltda'),), (('organizationalUnitName', 'NOC'),), (('organizationalUnitName', 'Hosted by Comodo Brasil Tecnologia LTDA'),), (('organizationalUnitName', 'InstantSSL Pro'),), (('commonName', 'secure.linktelwifi.com.br'),)), 'issuer': ((('countryName', 'GB'),), (('stateOrProvinceName', 'Greater Manchester'),), (('localityName', 'Salford'),), (('organizationName', 'COMODO CA Limited'),), (('commonName', 'COMODO RSA Organization Validation Secure Server CA'),)), 'version': 3, 'serialNumber': '25FD1C81BC090EC58ECDEAC6A8450407', 'notBefore': 'Jan  5 00:00:00 2016 GMT', 'notAfter': 'Jan 15 23:59:59 2019 GMT', 'subjectAltName': (('DNS', 'secure.linktelwifi.com.br'), ('DNS', 'www.secure.linktelwifi.com.br')), 'OCSP': ('http://ocsp.comodoca.com',), 'caIssuers': ('http://crt.comodoca.com/COMODORSAOrganizationValidationSecureServerCA.crt',), 'crlDistributionPoints': ('http://crl.comodoca.com/COMODORSAOrganizationValidationSecureServerCA.crl',)}\n",
      "2017-06-03 10:44:58,989 - telegram.ext.updater - ERROR - Error while getting Updates: urllib3 HTTPError hostname 'api.telegram.org' doesn't match either of 'secure.linktelwifi.com.br', 'www.secure.linktelwifi.com.br'\n",
      "2017-06-03 10:44:58,995 - __main__ - WARNING - Update \"None\" caused error \"urllib3 HTTPError hostname 'api.telegram.org' doesn't match either of 'secure.linktelwifi.com.br', 'www.secure.linktelwifi.com.br'\"\n",
      "2017-06-03 10:45:10,478 - telegram.vendor.ptb_urllib3.urllib3.connection - ERROR - Certificate did not match expected hostname: api.telegram.org. Certificate: {'subject': ((('countryName', 'BR'),), (('postalCode', '06454-000'),), (('stateOrProvinceName', 'Sao Paulo'),), (('localityName', 'Barueri'),), (('streetAddress', 'Alameda Rio Negro, 1030 -  Conj Escritorio 2304 - Alphaville'),), (('organizationName', 'Linktel Telecomunicacoes do Brasil Ltda'),), (('organizationalUnitName', 'NOC'),), (('organizationalUnitName', 'Hosted by Comodo Brasil Tecnologia LTDA'),), (('organizationalUnitName', 'InstantSSL Pro'),), (('commonName', 'secure.linktelwifi.com.br'),)), 'issuer': ((('countryName', 'GB'),), (('stateOrProvinceName', 'Greater Manchester'),), (('localityName', 'Salford'),), (('organizationName', 'COMODO CA Limited'),), (('commonName', 'COMODO RSA Organization Validation Secure Server CA'),)), 'version': 3, 'serialNumber': '25FD1C81BC090EC58ECDEAC6A8450407', 'notBefore': 'Jan  5 00:00:00 2016 GMT', 'notAfter': 'Jan 15 23:59:59 2019 GMT', 'subjectAltName': (('DNS', 'secure.linktelwifi.com.br'), ('DNS', 'www.secure.linktelwifi.com.br')), 'OCSP': ('http://ocsp.comodoca.com',), 'caIssuers': ('http://crt.comodoca.com/COMODORSAOrganizationValidationSecureServerCA.crt',), 'crlDistributionPoints': ('http://crl.comodoca.com/COMODORSAOrganizationValidationSecureServerCA.crl',)}\n",
      "2017-06-03 10:45:10,480 - telegram.ext.updater - ERROR - Error while getting Updates: urllib3 HTTPError hostname 'api.telegram.org' doesn't match either of 'secure.linktelwifi.com.br', 'www.secure.linktelwifi.com.br'\n",
      "2017-06-03 10:45:10,486 - __main__ - WARNING - Update \"None\" caused error \"urllib3 HTTPError hostname 'api.telegram.org' doesn't match either of 'secure.linktelwifi.com.br', 'www.secure.linktelwifi.com.br'\"\n"
     ]
    }
   ],
   "source": [
    "if __name__ == '__main__':\n",
    "    main()"
   ]
  },
  {
   "cell_type": "code",
   "execution_count": null,
   "metadata": {
    "collapsed": true
   },
   "outputs": [],
   "source": []
  }
 ],
 "metadata": {
  "kernelspec": {
   "display_name": "Python 3",
   "language": "python",
   "name": "python3"
  },
  "language_info": {
   "codemirror_mode": {
    "name": "ipython",
    "version": 3
   },
   "file_extension": ".py",
   "mimetype": "text/x-python",
   "name": "python",
   "nbconvert_exporter": "python",
   "pygments_lexer": "ipython3",
   "version": "3.6.0"
  },
  "toc": {
   "colors": {
    "hover_highlight": "#DAA520",
    "running_highlight": "#FF0000",
    "selected_highlight": "#FFD700"
   },
   "moveMenuLeft": true,
   "nav_menu": {
    "height": "12px",
    "width": "252px"
   },
   "navigate_menu": true,
   "number_sections": true,
   "sideBar": true,
   "threshold": 4,
   "toc_cell": false,
   "toc_section_display": "block",
   "toc_window_display": false
  }
 },
 "nbformat": 4,
 "nbformat_minor": 2
}
