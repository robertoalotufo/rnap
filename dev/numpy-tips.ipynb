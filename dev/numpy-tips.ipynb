{
 "cells": [
  {
   "cell_type": "markdown",
   "metadata": {},
   "source": [
    "# Truques do NumPY\n",
    "\n",
    "Entender o funcionamneto do *broadcasting*,  *reshape* e do *axis* do NumPy é muito importante. Nesse tutorial iremos ilustrar esses conceitos através de exemplos. \n",
    "\n",
    "## Reshape"
   ]
  },
  {
   "cell_type": "code",
   "execution_count": 4,
   "metadata": {
    "collapsed": false
   },
   "outputs": [
    {
     "name": "stdout",
     "output_type": "stream",
     "text": [
      "a:\n",
      "[0 1 2 3 4 5 6 7 8 9]\n",
      "A eh um array unidimensional: (10,)\n"
     ]
    }
   ],
   "source": [
    "import numpy as np\n",
    "\n",
    "a = np.arange(10)\n",
    "print \"a:\"\n",
    "print a\n",
    "print \"A eh um array unidimensional:\", a.shape"
   ]
  },
  {
   "cell_type": "markdown",
   "metadata": {},
   "source": [
    "Podemos utilizar o reshape para \"enxergar\" o array *a* como um array bidimensional com uma linha:"
   ]
  },
  {
   "cell_type": "code",
   "execution_count": 6,
   "metadata": {
    "collapsed": false
   },
   "outputs": [
    {
     "name": "stdout",
     "output_type": "stream",
     "text": [
      "a:\n",
      "[[0 1 2 3 4 5 6 7 8 9]]\n",
      "A eh um array bidimensional: (1, 10)\n"
     ]
    }
   ],
   "source": [
    "a = a.reshape(1,-1) # O -1 é uma diretiva para que o NumPy calcule automaticamente as dimensões que faltam\n",
    "print \"a:\"\n",
    "print a\n",
    "print \"A eh um array bidimensional linha:\", a.shape"
   ]
  },
  {
   "cell_type": "markdown",
   "metadata": {},
   "source": [
    "Podemos enxergar o array *a* como um array com uma coluna:"
   ]
  },
  {
   "cell_type": "code",
   "execution_count": 8,
   "metadata": {
    "collapsed": false
   },
   "outputs": [
    {
     "name": "stdout",
     "output_type": "stream",
     "text": [
      "a:\n",
      "[[0]\n",
      " [1]\n",
      " [2]\n",
      " [3]\n",
      " [4]\n",
      " [5]\n",
      " [6]\n",
      " [7]\n",
      " [8]\n",
      " [9]]\n",
      "A eh um array bidimensional coluna: (10, 1)\n"
     ]
    }
   ],
   "source": [
    "a = a.reshape(-1,1) \n",
    "print \"a:\"\n",
    "print a\n",
    "print \"A eh um array bidimensional coluna:\", a.shape"
   ]
  },
  {
   "cell_type": "markdown",
   "metadata": {},
   "source": [
    "O então como um array bidimensional, desde que o número de elementos do array não exceda o número de elementos do array inicial."
   ]
  },
  {
   "cell_type": "code",
   "execution_count": 9,
   "metadata": {
    "collapsed": false
   },
   "outputs": [
    {
     "name": "stdout",
     "output_type": "stream",
     "text": [
      "a:\n",
      "[[0 1]\n",
      " [2 3]\n",
      " [4 5]\n",
      " [6 7]\n",
      " [8 9]]\n",
      "A eh um array bidimensional: (5, 2)\n"
     ]
    }
   ],
   "source": [
    "a = a.reshape(5,2) \n",
    "print \"a:\"\n",
    "print a\n",
    "print \"A eh um array bidimensional:\", a.shape"
   ]
  },
  {
   "cell_type": "markdown",
   "metadata": {},
   "source": [
    "## Broadcasting\n",
    "\n",
    "O broadcasting é uma técnica que permnite a propagação dos valores de um eixo para o outro. Veja o exemplo a seguir onde queremos calcular a potência de todos os elementos do vetor *base* pelos elementos do vetor *exp* e guardar os resultados num array 2D."
   ]
  },
  {
   "cell_type": "code",
   "execution_count": 13,
   "metadata": {
    "collapsed": false
   },
   "outputs": [
    {
     "name": "stdout",
     "output_type": "stream",
     "text": [
      "Expoentes:\n",
      "[[0 1 2 3 4 5]]\n",
      "Base:\n",
      "[[1]\n",
      " [2]\n",
      " [3]]\n",
      "Potência:\n",
      "[[  1   1   1   1   1   1]\n",
      " [  1   2   4   8  16  32]\n",
      " [  1   3   9  27  81 243]]\n"
     ]
    }
   ],
   "source": [
    "exp = np.array([[0,1,2,3,4,5]])\n",
    "base = np.arange(1,4).reshape(-1,1)\n",
    "\n",
    "print \"Expoentes:\"\n",
    "print exp\n",
    "print \"Base:\"\n",
    "print base\n",
    "\n",
    "print \"Potência:\"\n",
    "print base**exp"
   ]
  },
  {
   "cell_type": "markdown",
   "metadata": {},
   "source": [
    "## Axis\n",
    "Em algumas situações queremos fazer cálculo ou calcular estatísticas ao longo de um eixo. Um array unidimensional possui apenas um eixo (eixo 0), um array bidemensional possui dois eixos (eixos 0 e 1) e assim por diante. Todas as funções do NumPy possuem o parâmetro axis que indica se a operação feita para a função será aplicada ao longo de um eixo. Vejo o exemplo da média abaixo:\n"
   ]
  },
  {
   "cell_type": "code",
   "execution_count": 17,
   "metadata": {
    "collapsed": false
   },
   "outputs": [
    {
     "name": "stdout",
     "output_type": "stream",
     "text": [
      "Array ab:\n",
      "[[  1.   2.   3.   4.   5.   6.   7.   8.   9.  10.]\n",
      " [  1.   2.   3.   4.   5.   6.   7.   8.   9.  10.]\n",
      " [  1.   2.   3.   4.   5.   6.   7.   8.   9.  10.]\n",
      " [  1.   2.   3.   4.   5.   6.   7.   8.   9.  10.]\n",
      " [  1.   2.   3.   4.   5.   6.   7.   8.   9.  10.]\n",
      " [  1.   2.   3.   4.   5.   6.   7.   8.   9.  10.]\n",
      " [  1.   2.   3.   4.   5.   6.   7.   8.   9.  10.]\n",
      " [  1.   2.   3.   4.   5.   6.   7.   8.   9.  10.]\n",
      " [  1.   2.   3.   4.   5.   6.   7.   8.   9.  10.]\n",
      " [  1.   2.   3.   4.   5.   6.   7.   8.   9.  10.]]\n",
      "Média do array ab:\n",
      "5.5\n",
      "Médias do array ab ao longo das colunas (eixo 1):\n",
      "[ 5.5  5.5  5.5  5.5  5.5  5.5  5.5  5.5  5.5  5.5]\n",
      "Médias do array ab ao longo das linhas (eixo 0):\n",
      "[  1.   2.   3.   4.   5.   6.   7.   8.   9.  10.]\n"
     ]
    }
   ],
   "source": [
    "a = np.arange(10).reshape(1,-1)\n",
    "b = np.ones(10).reshape(-1,1)\n",
    "ab = a + b\n",
    "print \"Array ab:\"\n",
    "print ab\n",
    "print \"Média do array ab:\"\n",
    "print ab.mean()\n",
    "print \"Médias do array ab ao longo das colunas (eixo 1):\"\n",
    "print ab.mean(axis = 1)\n",
    "print \"Médias do array ab ao longo das linhas (eixo 0):\"\n",
    "print ab.mean(axis = 0)"
   ]
  }
 ],
 "metadata": {
  "kernelspec": {
   "display_name": "Python 2",
   "language": "python",
   "name": "python2"
  },
  "language_info": {
   "codemirror_mode": {
    "name": "ipython",
    "version": 2
   },
   "file_extension": ".py",
   "mimetype": "text/x-python",
   "name": "python",
   "nbconvert_exporter": "python",
   "pygments_lexer": "ipython2",
   "version": "2.7.6"
  }
 },
 "nbformat": 4,
 "nbformat_minor": 0
}
