{
 "cells": [
  {
   "cell_type": "markdown",
   "metadata": {
    "toc": "true"
   },
   "source": [
    "# Table of Contents\n",
    " <p><div class=\"lev1 toc-item\"><a href=\"#Introduçãos-às-CNNs-no-Keras-e-ilustrações-dos-resultados-obtidos-para-cada-camada-da-DNN\" data-toc-modified-id=\"Introduçãos-às-CNNs-no-Keras-e-ilustrações-dos-resultados-obtidos-para-cada-camada-da-DNN-1\"><span class=\"toc-item-num\">1&nbsp;&nbsp;</span>Introduçãos às CNNs no Keras e ilustrações dos resultados obtidos para cada camada da DNN</a></div><div class=\"lev2 toc-item\"><a href=\"#Objetivos\" data-toc-modified-id=\"Objetivos-11\"><span class=\"toc-item-num\">1.1&nbsp;&nbsp;</span>Objetivos</a></div><div class=\"lev2 toc-item\"><a href=\"#Importação-dos-Módulos\" data-toc-modified-id=\"Importação-dos-Módulos-12\"><span class=\"toc-item-num\">1.2&nbsp;&nbsp;</span>Importação dos Módulos</a></div><div class=\"lev2 toc-item\"><a href=\"#Definição-da-Rede,-camadas-convolucionais-e-densas\" data-toc-modified-id=\"Definição-da-Rede,-camadas-convolucionais-e-densas-13\"><span class=\"toc-item-num\">1.3&nbsp;&nbsp;</span>Definição da Rede, camadas convolucionais e densas</a></div><div class=\"lev3 toc-item\"><a href=\"#Definição-de-camadas-no-Keras\" data-toc-modified-id=\"Definição-de-camadas-no-Keras-131\"><span class=\"toc-item-num\">1.3.1&nbsp;&nbsp;</span>Definição de camadas no Keras</a></div><div class=\"lev3 toc-item\"><a href=\"#Formato-channels_first-ou-channels_last\" data-toc-modified-id=\"Formato-channels_first-ou-channels_last-132\"><span class=\"toc-item-num\">1.3.2&nbsp;&nbsp;</span>Formato channels_first ou channels_last</a></div><div class=\"lev3 toc-item\"><a href=\"#Rede-a-ser-implementada\" data-toc-modified-id=\"Rede-a-ser-implementada-133\"><span class=\"toc-item-num\">1.3.3&nbsp;&nbsp;</span>Rede a ser implementada</a></div><div class=\"lev3 toc-item\"><a href=\"#Implementação-pela-API\" data-toc-modified-id=\"Implementação-pela-API-134\"><span class=\"toc-item-num\">1.3.4&nbsp;&nbsp;</span>Implementação pela API</a></div><div class=\"lev3 toc-item\"><a href=\"#Implementação-pelo-modelo-Sequencial\" data-toc-modified-id=\"Implementação-pelo-modelo-Sequencial-135\"><span class=\"toc-item-num\">1.3.5&nbsp;&nbsp;</span>Implementação pelo modelo <em>Sequencial</em></a></div><div class=\"lev1 toc-item\"><a href=\"#Configurando-a-rede-neural-com-convolução-e-densa\" data-toc-modified-id=\"Configurando-a-rede-neural-com-convolução-e-densa-2\"><span class=\"toc-item-num\">2&nbsp;&nbsp;</span>Configurando a rede neural com convolução e densa</a></div><div class=\"lev2 toc-item\"><a href=\"#Definição-dos-parâmetros-da-rede\" data-toc-modified-id=\"Definição-dos-parâmetros-da-rede-21\"><span class=\"toc-item-num\">2.1&nbsp;&nbsp;</span>Definição dos parâmetros da rede</a></div><div class=\"lev3 toc-item\"><a href=\"#Imagem-de-Entrada:-5-linhas-e-6-colunas\" data-toc-modified-id=\"Imagem-de-Entrada:-5-linhas-e-6-colunas-211\"><span class=\"toc-item-num\">2.1.1&nbsp;&nbsp;</span>Imagem de Entrada: 5 linhas e 6 colunas</a></div><div class=\"lev3 toc-item\"><a href=\"#Kernel-da-convolução\" data-toc-modified-id=\"Kernel-da-convolução-212\"><span class=\"toc-item-num\">2.1.2&nbsp;&nbsp;</span>Kernel da convolução</a></div><div class=\"lev3 toc-item\"><a href=\"#Bias-da-Convolução\" data-toc-modified-id=\"Bias-da-Convolução-213\"><span class=\"toc-item-num\">2.1.3&nbsp;&nbsp;</span>Bias da Convolução</a></div><div class=\"lev3 toc-item\"><a href=\"#Pesos-para-a-camada-densa\" data-toc-modified-id=\"Pesos-para-a-camada-densa-214\"><span class=\"toc-item-num\">2.1.4&nbsp;&nbsp;</span>Pesos para a camada densa</a></div><div class=\"lev3 toc-item\"><a href=\"#Bias-para-a-camada-densa\" data-toc-modified-id=\"Bias-para-a-camada-densa-215\"><span class=\"toc-item-num\">2.1.5&nbsp;&nbsp;</span>Bias para a camada densa</a></div><div class=\"lev2 toc-item\"><a href=\"#Imprimindo-os-valores-dos-dados-das-camadas-internas-da-rede\" data-toc-modified-id=\"Imprimindo-os-valores-dos-dados-das-camadas-internas-da-rede-22\"><span class=\"toc-item-num\">2.2&nbsp;&nbsp;</span>Imprimindo os valores dos dados das camadas internas da rede</a></div><div class=\"lev2 toc-item\"><a href=\"#Sumário\" data-toc-modified-id=\"Sumário-23\"><span class=\"toc-item-num\">2.3&nbsp;&nbsp;</span>Sumário</a></div><div class=\"lev2 toc-item\"><a href=\"#Totalmente-Convolucional\" data-toc-modified-id=\"Totalmente-Convolucional-24\"><span class=\"toc-item-num\">2.4&nbsp;&nbsp;</span>Totalmente Convolucional</a></div><div class=\"lev1 toc-item\"><a href=\"#Sugestões-de-atividades\" data-toc-modified-id=\"Sugestões-de-atividades-3\"><span class=\"toc-item-num\">3&nbsp;&nbsp;</span>Sugestões de atividades</a></div><div class=\"lev1 toc-item\"><a href=\"#Referências\" data-toc-modified-id=\"Referências-4\"><span class=\"toc-item-num\">4&nbsp;&nbsp;</span>Referências</a></div><div class=\"lev1 toc-item\"><a href=\"#Aprendizados-com-este-notebook\" data-toc-modified-id=\"Aprendizados-com-este-notebook-5\"><span class=\"toc-item-num\">5&nbsp;&nbsp;</span>Aprendizados com este notebook</a></div>"
   ]
  },
  {
   "cell_type": "markdown",
   "metadata": {},
   "source": [
    "# Introduçãos às CNNs no Keras e ilustrações dos resultados obtidos para cada camada da DNN\n",
    "\n",
    "## Objetivos\n",
    "\n",
    "Este notebook contém exemplo numérico de uma rede com uma camada convolucional e uma camada densa. A camada convolucional possui ativação reLU e max-pooling. Já a camada densa possui uma única saída com ativação sigmóide.\n",
    "\n",
    "Com esse exemplo, aprende-se a:\n",
    "- construir a rede utilizando tanto o modelo sequencial como o via API\n",
    "- inicializar os pesos e biases da rede convolucional e da rede densa\n",
    "- visualizar os dados intermediários da rede"
   ]
  },
  {
   "cell_type": "markdown",
   "metadata": {},
   "source": [
    "## Importação dos Módulos"
   ]
  },
  {
   "cell_type": "code",
   "execution_count": 1,
   "metadata": {
    "ExecuteTime": {
     "end_time": "2017-05-28T22:03:57.039528",
     "start_time": "2017-05-28T22:03:52.499223"
    },
    "collapsed": false
   },
   "outputs": [
    {
     "name": "stderr",
     "output_type": "stream",
     "text": [
      "Using TensorFlow backend.\n"
     ]
    },
    {
     "name": "stdout",
     "output_type": "stream",
     "text": [
      "Versão do Keras: 2.0.3\n"
     ]
    }
   ],
   "source": [
    "import numpy as np\n",
    "import os\n",
    "\n",
    "import keras\n",
    "from keras.models import Model, Sequential\n",
    "from keras.layers import Dense, Dropout, Activation, Flatten\n",
    "from keras.layers import Conv2D, MaxPooling2D, Input\n",
    "\n",
    "import keras.backend as K\n",
    "K.set_image_data_format('channels_first')\n",
    "K.set_floatx('float32')\n",
    "\n",
    "np.set_printoptions(precision=3) # ponto flutuante com 3 casas para facilitar a impressão\n",
    "print('Versão do Keras:', keras.__version__)"
   ]
  },
  {
   "cell_type": "markdown",
   "metadata": {},
   "source": [
    "## Definição da Rede, camadas convolucionais e densas\n",
    "\n",
    "Uma CNN pode ser construída de dois modos no Keras. Ela pode ser implementada usando\n",
    "\n",
    "* Modelo Sequential: modelo mais simpes, utilizado quando a rede é composto de camadas uma após a outra.\n",
    "* Modelo API: é o modelo mais geral, baseado em ligações de entradas e saídas, para construir um modelo \n",
    "  genérico contendo bifurcações e junções.\n",
    "  "
   ]
  },
  {
   "cell_type": "markdown",
   "metadata": {},
   "source": [
    "### Definição de camadas no Keras\n",
    "\n",
    "Em redes neuras, uma camada é usualmente um neurônio, que inclui a soma de multiplicação de\n",
    "pesos ou convolução e uma ativação usualmente não linear. Podemos dizer que o max-pooling \n",
    "também faz parte da camada.\n",
    "\n",
    "A rede que iremos utilizar neste exemplo possui 2 camadas: uma convolucional e outra densa.\n",
    "A camada convolucional terá ativação reLU e um max-pooling, já a camada densa terá uma\n",
    "ativação sigmoide.\n",
    "\n",
    "Para o Keras, entretanto, *layers* é um conceito diferente. Qualquer elemento que está\n",
    "sendo construído no gráfico da rede é denominado *layer*. Assim no exemplo deste notebook,\n",
    "existem sete *layers*: convolução, reLU, max-pooling, flat, dense e sigmoide.\n",
    " "
   ]
  },
  {
   "cell_type": "markdown",
   "metadata": {},
   "source": [
    "### Formato channels_first ou channels_last\n",
    "\n",
    "O Keras permite dois formatos de tensores: `channels_first` ou `channels_last`.\n",
    "Neste treinamento, iremos utilizar quase sempre o formato `channels_first` por ser\n",
    "mais intuitivo na formação dos tensores. É preciso cuidado, pois existe uma\n",
    "configuração *default* que pode ser diferente da que você espera. Assim, uma boa\n",
    "prática e deixar este parâmetro explícito nas chamadas das funções e métodos."
   ]
  },
  {
   "cell_type": "markdown",
   "metadata": {
    "ExecuteTime": {
     "end_time": "2017-05-14T20:48:42.200325",
     "start_time": "2017-05-14T20:48:42.050307"
    }
   },
   "source": [
    "### Rede a ser implementada\n",
    "\n",
    "<img src='../figures/RedeIntroKeras.png', width=600pt>"
   ]
  },
  {
   "cell_type": "markdown",
   "metadata": {},
   "source": [
    "### Implementação pela API"
   ]
  },
  {
   "cell_type": "code",
   "execution_count": 31,
   "metadata": {
    "ExecuteTime": {
     "end_time": "2017-05-28T22:12:35.458185",
     "start_time": "2017-05-28T22:12:35.446117"
    },
    "collapsed": false
   },
   "outputs": [],
   "source": [
    "def build_model_API():\n",
    "    \n",
    "    input_shape = (1,5,7) # (canais, linhas, colunas)\n",
    "    n_filters = 3\n",
    "    kernel_shape = (1,3)\n",
    "    use_bias = True\n",
    "    inputs = Input(input_shape, name = 'input')\n",
    "    conv1 = Conv2D(n_filters, \n",
    "                   kernel_shape, \n",
    "                   #weights = [W_conv, bias_conv],\n",
    "                   name = 'conv1', \n",
    "                   padding = 'valid',\n",
    "                   use_bias = use_bias,\n",
    "                   data_format = \"channels_first\")(inputs) \n",
    "    flat = Flatten(name = 'flat')(conv1)\n",
    "    dense1 = Dense(2, \n",
    "                   #weights = [W_dense,bias_dense], \n",
    "                   name = 'dense2')(flat)\n",
    "    model = Model(inputs=inputs, outputs=dense1)\n",
    "    \n",
    "    return model"
   ]
  },
  {
   "cell_type": "markdown",
   "metadata": {},
   "source": [
    "### Implementação pelo modelo *Sequencial*"
   ]
  },
  {
   "cell_type": "markdown",
   "metadata": {},
   "source": [
    "# Configurando a rede neural com convolução e densa"
   ]
  },
  {
   "cell_type": "markdown",
   "metadata": {},
   "source": [
    "## Definição dos parâmetros da rede"
   ]
  },
  {
   "cell_type": "markdown",
   "metadata": {},
   "source": [
    "### Imagem de Entrada: 5 linhas e 6 colunas"
   ]
  },
  {
   "cell_type": "code",
   "execution_count": 50,
   "metadata": {
    "ExecuteTime": {
     "end_time": "2017-05-28T22:19:11.301930",
     "start_time": "2017-05-28T22:19:11.290622"
    },
    "collapsed": false
   },
   "outputs": [
    {
     "name": "stdout",
     "output_type": "stream",
     "text": [
      "X.shape= (1, 1, 5, 7)\n",
      "X:\n",
      " [[[[0 0 0 0 0 0 0]\n",
      "   [0 0 1 0 0 0 0]\n",
      "   [0 0 0 0 0 0 0]\n",
      "   [0 0 0 0 0 0 0]\n",
      "   [0 0 0 0 0 0 0]]]]\n"
     ]
    }
   ],
   "source": [
    "X = np.array([[[[0,0, 0,0,0,0,0],\n",
    "                [0,0, 1,0,0,0,0],\n",
    "                [0,0, 0,0,0,0,0],\n",
    "                [0,0,0, 0,0,0,0],\n",
    "                [0,0,0,0,0,0, 0]]]])\n",
    "\n",
    "(n_samples, n_channels, img_height, img_width) = X.shape\n",
    "input_shape = (n_channels, img_height, img_width)\n",
    "print('X.shape=',X.shape)\n",
    "print('X:\\n',X)"
   ]
  },
  {
   "cell_type": "markdown",
   "metadata": {},
   "source": [
    "### Kernel da convolução"
   ]
  },
  {
   "cell_type": "code",
   "execution_count": 71,
   "metadata": {
    "ExecuteTime": {
     "end_time": "2017-05-28T22:27:46.924751",
     "start_time": "2017-05-28T22:27:46.908181"
    },
    "collapsed": false
   },
   "outputs": [
    {
     "name": "stdout",
     "output_type": "stream",
     "text": [
      "Win.shape (n_filters, n_channels, k_height, k_width): (3, 1, 1, 3)\n",
      "Win: (Pesos camada convolucional, formato mais fácil de entender)\n",
      " [[[[1 2 3]]]\n",
      "\n",
      "\n",
      " [[[4 5 6]]]\n",
      "\n",
      "\n",
      " [[[7 8 9]]]]\n",
      "Wconv.shape (k_height,k_width,n_channels,n_filters): (1, 3, 1, 3)\n",
      "Wconv: (Pesos camada convolucional, formato do Keras)\n",
      " [[[[1 4 7]]\n",
      "\n",
      "  [[2 5 8]]\n",
      "\n",
      "  [[3 6 9]]]]\n"
     ]
    }
   ],
   "source": [
    "# número de filtros\n",
    "n_filters = 3    \n",
    "\n",
    "# comprimento e largura dos filtros\n",
    "k_height = 1;k_width = 3\n",
    "kernel_shape = (k_height,k_width)\n",
    "\n",
    "Win = np.array([[[1,2,3]],\n",
    "                [[4,5,6]],\n",
    "                [[7,8,9]]]).reshape(n_filters,1,k_height,k_width)\n",
    "print('Win.shape (n_filters, n_channels, k_height, k_width):',Win.shape)\n",
    "print('Win: (Pesos camada convolucional, formato mais fácil de entender)\\n',Win)\n",
    "\n",
    "# Para deixar no formato do Keras: (k_height,k_width,n_channels,n_filters)\n",
    "W_conv = np.rollaxis(Win, 1, 4) # coloca n_channels (índice 1) no final (índice 4)\n",
    "# W aqui é (n_filters, k_height, k_width, n_channels)\n",
    "W_conv = np.rollaxis(W_conv, 0, 4) # coloca n_filters (índice 0) no final (índice 4)\n",
    "print('Wconv.shape (k_height,k_width,n_channels,n_filters):',W_conv.shape)\n",
    "print('Wconv: (Pesos camada convolucional, formato do Keras)\\n',W_conv)\n"
   ]
  },
  {
   "cell_type": "markdown",
   "metadata": {},
   "source": [
    "### Bias da Convolução"
   ]
  },
  {
   "cell_type": "code",
   "execution_count": 72,
   "metadata": {
    "ExecuteTime": {
     "end_time": "2017-05-28T22:27:55.176193",
     "start_time": "2017-05-28T22:27:55.170011"
    },
    "collapsed": false
   },
   "outputs": [
    {
     "name": "stdout",
     "output_type": "stream",
     "text": [
      "Bias da convolução: [ 0.1  0.2  0.3]\n"
     ]
    }
   ],
   "source": [
    "# valor de bias\n",
    "f_bias = 0.1  \n",
    "bias_conv = np.arange(1,n_filters+1) * f_bias\n",
    "print(\"Bias da convolução:\",bias_conv)"
   ]
  },
  {
   "cell_type": "markdown",
   "metadata": {},
   "source": [
    "### Pesos para a camada densa"
   ]
  },
  {
   "cell_type": "code",
   "execution_count": 73,
   "metadata": {
    "ExecuteTime": {
     "end_time": "2017-05-28T22:27:56.927246",
     "start_time": "2017-05-28T22:27:56.920099"
    },
    "collapsed": false
   },
   "outputs": [
    {
     "name": "stdout",
     "output_type": "stream",
     "text": [
      "Pesos da camada densa:\n",
      " [[  0   2   4   6   8  10  12  14  16  18  20  22  24  26  28  30  32  34\n",
      "   36  38  40  42  44  46  48  50  52  54  56  58  60  62  64  66  68  70\n",
      "   72  74  76  78  80  82  84  86  88  90  92  94  96  98 100 102 104 106\n",
      "  108 110 112 114 116 118 120 122 124 126 128 130 132 134 136 138 140 142\n",
      "  144 146 148]\n",
      " [  1   3   5   7   9  11  13  15  17  19  21  23  25  27  29  31  33  35\n",
      "   37  39  41  43  45  47  49  51  53  55  57  59  61  63  65  67  69  71\n",
      "   73  75  77  79  81  83  85  87  89  91  93  95  97  99 101 103 105 107\n",
      "  109 111 113 115 117 119 121 123 125 127 129 131 133 135 137 139 141 143\n",
      "  145 147 149]]\n"
     ]
    }
   ],
   "source": [
    "W_dense = np.arange(2*75).reshape(75,2)\n",
    "print(\"Pesos da camada densa:\\n\",W_dense.T)"
   ]
  },
  {
   "cell_type": "markdown",
   "metadata": {},
   "source": [
    "### Bias para a camada densa"
   ]
  },
  {
   "cell_type": "code",
   "execution_count": 74,
   "metadata": {
    "ExecuteTime": {
     "end_time": "2017-05-28T22:27:58.774413",
     "start_time": "2017-05-28T22:27:58.766922"
    },
    "collapsed": false
   },
   "outputs": [
    {
     "name": "stdout",
     "output_type": "stream",
     "text": [
      "Bias da camanda densa: [ 0.1  0.1]\n"
     ]
    }
   ],
   "source": [
    "bias_dense = np.ones(2) * f_bias\n",
    "print(\"Bias da camanda densa:\",bias_dense)"
   ]
  },
  {
   "cell_type": "markdown",
   "metadata": {},
   "source": [
    "## Imprimindo os valores dos dados das camadas internas da rede\n",
    "\n",
    "Como a rede é executada no Keras como *backend*, não existem variáveis de fácil acesso para\n",
    "conseguir ver os dados nas camadas intermediárias da rede. Assim, o artifício para se conseguir\n",
    "isso é criar várias redes, uma rede com apenas a primeira camada, e fazer a predição. O resultado\n",
    "dessa predição são os dados após a primeira camada. Colocar a segunda camada e fazer uma nova predição, obtendo\n",
    "os dados após a segunda camada e assim sucessivamente até fazer a predição da rede completa. Isso\n",
    "é implementado no código a seguir:"
   ]
  },
  {
   "cell_type": "code",
   "execution_count": 75,
   "metadata": {
    "ExecuteTime": {
     "end_time": "2017-05-28T22:28:00.621233",
     "start_time": "2017-05-28T22:28:00.527423"
    },
    "collapsed": false
   },
   "outputs": [
    {
     "name": "stdout",
     "output_type": "stream",
     "text": [
      "_________________________________________________________________\n",
      "Layer (type)                 Output Shape              Param #   \n",
      "=================================================================\n",
      "input (InputLayer)           (None, 1, 5, 7)           0         \n",
      "_________________________________________________________________\n",
      "conv1 (Conv2D)               (None, 3, 5, 5)           12        \n",
      "_________________________________________________________________\n",
      "flat (Flatten)               (None, 75)                0         \n",
      "_________________________________________________________________\n",
      "dense2 (Dense)               (None, 2)                 152       \n",
      "=================================================================\n",
      "Total params: 164\n",
      "Trainable params: 164\n",
      "Non-trainable params: 0\n",
      "_________________________________________________________________\n",
      "None\n"
     ]
    }
   ],
   "source": [
    "model_A = build_model_API()\n",
    "print(model_A.summary())"
   ]
  },
  {
   "cell_type": "code",
   "execution_count": 76,
   "metadata": {
    "ExecuteTime": {
     "end_time": "2017-05-28T22:28:04.853006",
     "start_time": "2017-05-28T22:28:04.613990"
    },
    "collapsed": false,
    "scrolled": false
   },
   "outputs": [
    {
     "name": "stdout",
     "output_type": "stream",
     "text": [
      "(1, 3, 1, 3)\n",
      "(3,)\n",
      "(75, 2)\n",
      "(2,)\n",
      "------------------------------\n",
      "Número de camadas: 4\n",
      "------------------------------\n",
      "--------------------------------------------------------------------------------\n",
      "Saída da camada 1 : input shape: (1, 1, 5, 7)\n",
      "--------------------------------------------------------------------------------\n",
      "[[[[ 0.  0.  0.  0.  0.  0.  0.]\n",
      "   [ 0.  0.  1.  0.  0.  0.  0.]\n",
      "   [ 0.  0.  0.  0.  0.  0.  0.]\n",
      "   [ 0.  0.  0.  0.  0.  0.  0.]\n",
      "   [ 0.  0.  0.  0.  0.  0.  0.]]]]\n",
      "--------------------------------------------------------------------------------\n",
      "Saída da camada 2 : conv1 shape: (1, 3, 5, 5)\n",
      "--------------------------------------------------------------------------------\n",
      "[[[[ 0.1  0.1  0.1  0.1  0.1]\n",
      "   [ 3.1  2.1  1.1  0.1  0.1]\n",
      "   [ 0.1  0.1  0.1  0.1  0.1]\n",
      "   [ 0.1  0.1  0.1  0.1  0.1]\n",
      "   [ 0.1  0.1  0.1  0.1  0.1]]\n",
      "\n",
      "  [[ 0.2  0.2  0.2  0.2  0.2]\n",
      "   [ 6.2  5.2  4.2  0.2  0.2]\n",
      "   [ 0.2  0.2  0.2  0.2  0.2]\n",
      "   [ 0.2  0.2  0.2  0.2  0.2]\n",
      "   [ 0.2  0.2  0.2  0.2  0.2]]\n",
      "\n",
      "  [[ 0.3  0.3  0.3  0.3  0.3]\n",
      "   [ 9.3  8.3  7.3  0.3  0.3]\n",
      "   [ 0.3  0.3  0.3  0.3  0.3]\n",
      "   [ 0.3  0.3  0.3  0.3  0.3]\n",
      "   [ 0.3  0.3  0.3  0.3  0.3]]]]\n",
      "--------------------------------------------------------------------------------\n",
      "Saída da camada 3 : flat shape: (1, 75)\n",
      "--------------------------------------------------------------------------------\n",
      "[[ 0.1  0.1  0.1  0.1  0.1  3.1  2.1  1.1  0.1  0.1  0.1  0.1  0.1  0.1\n",
      "   0.1  0.1  0.1  0.1  0.1  0.1  0.1  0.1  0.1  0.1  0.1  0.2  0.2  0.2\n",
      "   0.2  0.2  6.2  5.2  4.2  0.2  0.2  0.2  0.2  0.2  0.2  0.2  0.2  0.2\n",
      "   0.2  0.2  0.2  0.2  0.2  0.2  0.2  0.2  0.3  0.3  0.3  0.3  0.3  9.3\n",
      "   8.3  7.3  0.3  0.3  0.3  0.3  0.3  0.3  0.3  0.3  0.3  0.3  0.3  0.3\n",
      "   0.3  0.3  0.3  0.3  0.3]]\n",
      "--------------------------------------------------------------------------------\n",
      "Saída da camada 4 : dense2 shape: (1, 2)\n",
      "--------------------------------------------------------------------------------\n",
      "[[ 5038.1    5098.101]]\n"
     ]
    }
   ],
   "source": [
    "print(W_conv.shape)\n",
    "print(bias_conv.shape)\n",
    "print(W_dense.shape)\n",
    "print(bias_dense.shape)\n",
    "model_A.set_weights([W_conv, bias_conv, W_dense, bias_dense])\n",
    "\n",
    "print('-'*30)\n",
    "print(\"Número de camadas:\", len(model_A.layers))\n",
    "print('-'*30)\n",
    "\n",
    "# Resultados para cada camada\n",
    "i = 1\n",
    "for layer in model_A.layers:\n",
    "    intermediate_layer_model = Model(inputs=model_A.input,outputs=layer.output)\n",
    "    intermediate_output = intermediate_layer_model.predict(X)\n",
    "    print('-'*80)\n",
    "    print(\"Saída da camada\", i, \":\", layer.name, \"shape:\", intermediate_output.shape)\n",
    "    print('-'*80)\n",
    "    print(intermediate_output)\n",
    "    i+=1"
   ]
  },
  {
   "cell_type": "markdown",
   "metadata": {},
   "source": [
    "## Sumário \n",
    "\n",
    "É sempre útil imprimir o sumário da rede. Ele contém informações de cada camada da rede, \n",
    "como nome, tipo de camada e número de parâmetros."
   ]
  },
  {
   "cell_type": "code",
   "execution_count": 77,
   "metadata": {
    "ExecuteTime": {
     "end_time": "2017-05-28T22:28:23.506117",
     "start_time": "2017-05-28T22:28:23.497419"
    },
    "collapsed": false
   },
   "outputs": [
    {
     "name": "stdout",
     "output_type": "stream",
     "text": [
      "_________________________________________________________________\n",
      "Layer (type)                 Output Shape              Param #   \n",
      "=================================================================\n",
      "input (InputLayer)           (None, 1, 5, 7)           0         \n",
      "_________________________________________________________________\n",
      "conv1 (Conv2D)               (None, 3, 5, 5)           12        \n",
      "_________________________________________________________________\n",
      "flat (Flatten)               (None, 75)                0         \n",
      "_________________________________________________________________\n",
      "dense2 (Dense)               (None, 2)                 152       \n",
      "=================================================================\n",
      "Total params: 164\n",
      "Trainable params: 164\n",
      "Non-trainable params: 0\n",
      "_________________________________________________________________\n",
      "None\n"
     ]
    }
   ],
   "source": [
    "print(model_A.summary())"
   ]
  },
  {
   "cell_type": "markdown",
   "metadata": {},
   "source": [
    "## Totalmente Convolucional"
   ]
  },
  {
   "cell_type": "code",
   "execution_count": 78,
   "metadata": {
    "ExecuteTime": {
     "end_time": "2017-05-28T22:28:25.258270",
     "start_time": "2017-05-28T22:28:25.248467"
    },
    "collapsed": true
   },
   "outputs": [],
   "source": [
    "def build_fully_model_API():\n",
    "    \n",
    "    input_shape = (1,5,7) # (canais, linhas, colunas)\n",
    "    n_filters = 3\n",
    "    kernel_shape = (1,3)\n",
    "    use_bias = True\n",
    "    inputs = Input(input_shape, name = 'input')\n",
    "    conv1 = Conv2D(n_filters, \n",
    "                   kernel_shape, \n",
    "                   name = 'conv1', \n",
    "                   padding = 'valid',\n",
    "                   use_bias = use_bias,\n",
    "                   data_format = \"channels_first\")(inputs) \n",
    "    out = Conv2D(2,(5,5),\n",
    "                    padding = 'valid',\n",
    "                   name = 'conv2')(conv1)\n",
    "    model = Model(inputs=inputs, outputs=out)\n",
    "    \n",
    "    return model"
   ]
  },
  {
   "cell_type": "code",
   "execution_count": 79,
   "metadata": {
    "ExecuteTime": {
     "end_time": "2017-05-28T22:28:26.350798",
     "start_time": "2017-05-28T22:28:26.261886"
    },
    "collapsed": false,
    "scrolled": false
   },
   "outputs": [
    {
     "name": "stdout",
     "output_type": "stream",
     "text": [
      "_________________________________________________________________\n",
      "Layer (type)                 Output Shape              Param #   \n",
      "=================================================================\n",
      "input (InputLayer)           (None, 1, 5, 7)           0         \n",
      "_________________________________________________________________\n",
      "conv1 (Conv2D)               (None, 3, 5, 5)           12        \n",
      "_________________________________________________________________\n",
      "conv2 (Conv2D)               (None, 2, 1, 1)           152       \n",
      "=================================================================\n",
      "Total params: 164\n",
      "Trainable params: 164\n",
      "Non-trainable params: 0\n",
      "_________________________________________________________________\n",
      "None\n"
     ]
    }
   ],
   "source": [
    "model_B = build_fully_model_API()\n",
    "print(model_B.summary())"
   ]
  },
  {
   "cell_type": "code",
   "execution_count": 80,
   "metadata": {
    "ExecuteTime": {
     "end_time": "2017-05-28T22:28:27.123761",
     "start_time": "2017-05-28T22:28:27.048270"
    },
    "collapsed": false
   },
   "outputs": [
    {
     "name": "stdout",
     "output_type": "stream",
     "text": [
      "[(1, 3, 1, 3), (3,), (75, 2), (2,)]\n",
      "i= 0 [[[[ 1.  4.  7.]]\n",
      "\n",
      "  [[ 2.  5.  8.]]\n",
      "\n",
      "  [[ 3.  6.  9.]]]]\n",
      "i= 1 [ 0.1  0.2  0.3]\n",
      "i= 2 [[   0.    1.]\n",
      " [   2.    3.]\n",
      " [   4.    5.]\n",
      " [   6.    7.]\n",
      " [   8.    9.]\n",
      " [  10.   11.]\n",
      " [  12.   13.]\n",
      " [  14.   15.]\n",
      " [  16.   17.]\n",
      " [  18.   19.]\n",
      " [  20.   21.]\n",
      " [  22.   23.]\n",
      " [  24.   25.]\n",
      " [  26.   27.]\n",
      " [  28.   29.]\n",
      " [  30.   31.]\n",
      " [  32.   33.]\n",
      " [  34.   35.]\n",
      " [  36.   37.]\n",
      " [  38.   39.]\n",
      " [  40.   41.]\n",
      " [  42.   43.]\n",
      " [  44.   45.]\n",
      " [  46.   47.]\n",
      " [  48.   49.]\n",
      " [  50.   51.]\n",
      " [  52.   53.]\n",
      " [  54.   55.]\n",
      " [  56.   57.]\n",
      " [  58.   59.]\n",
      " [  60.   61.]\n",
      " [  62.   63.]\n",
      " [  64.   65.]\n",
      " [  66.   67.]\n",
      " [  68.   69.]\n",
      " [  70.   71.]\n",
      " [  72.   73.]\n",
      " [  74.   75.]\n",
      " [  76.   77.]\n",
      " [  78.   79.]\n",
      " [  80.   81.]\n",
      " [  82.   83.]\n",
      " [  84.   85.]\n",
      " [  86.   87.]\n",
      " [  88.   89.]\n",
      " [  90.   91.]\n",
      " [  92.   93.]\n",
      " [  94.   95.]\n",
      " [  96.   97.]\n",
      " [  98.   99.]\n",
      " [ 100.  101.]\n",
      " [ 102.  103.]\n",
      " [ 104.  105.]\n",
      " [ 106.  107.]\n",
      " [ 108.  109.]\n",
      " [ 110.  111.]\n",
      " [ 112.  113.]\n",
      " [ 114.  115.]\n",
      " [ 116.  117.]\n",
      " [ 118.  119.]\n",
      " [ 120.  121.]\n",
      " [ 122.  123.]\n",
      " [ 124.  125.]\n",
      " [ 126.  127.]\n",
      " [ 128.  129.]\n",
      " [ 130.  131.]\n",
      " [ 132.  133.]\n",
      " [ 134.  135.]\n",
      " [ 136.  137.]\n",
      " [ 138.  139.]\n",
      " [ 140.  141.]\n",
      " [ 142.  143.]\n",
      " [ 144.  145.]\n",
      " [ 146.  147.]\n",
      " [ 148.  149.]]\n",
      "i= 3 [ 0.1  0.1]\n"
     ]
    }
   ],
   "source": [
    "W_all_A = model_A.get_weights()\n",
    "print([w.shape for w in W_all_A])\n",
    "for i in range(len(W_all_A)):\n",
    "    print('i=',i,W_all_A[i])"
   ]
  },
  {
   "cell_type": "code",
   "execution_count": 81,
   "metadata": {
    "ExecuteTime": {
     "end_time": "2017-05-28T22:28:28.273566",
     "start_time": "2017-05-28T22:28:28.261755"
    },
    "collapsed": false
   },
   "outputs": [
    {
     "name": "stdout",
     "output_type": "stream",
     "text": [
      "[(1, 3, 1, 3), (3,), (75, 2), (2,)]\n",
      "[(1, 3, 1, 3), (3,), (5, 5, 3, 2), (2,)]\n"
     ]
    }
   ],
   "source": [
    "W_all_B = model_B.get_weights()\n",
    "\n",
    "print([w.shape for w in W_all_A])\n",
    "print([w.shape for w in W_all_B])"
   ]
  },
  {
   "cell_type": "code",
   "execution_count": 82,
   "metadata": {
    "ExecuteTime": {
     "end_time": "2017-05-28T22:28:29.057900",
     "start_time": "2017-05-28T22:28:29.004202"
    },
    "collapsed": false
   },
   "outputs": [
    {
     "name": "stdout",
     "output_type": "stream",
     "text": [
      "[(1, 3, 1, 3), (3,), (75, 2), (2,)]\n",
      "[(1, 3, 1, 3), (3,), (5, 5, 3, 2), (2,)]\n"
     ]
    }
   ],
   "source": [
    "W_all_B = [\n",
    "    W_all_A[0], # pesos da primeira convolução 5x5\n",
    "    W_all_A[1], # bias da primeira convolução 5x5\n",
    "    # coloca channels (índice 1) no final (índice 4)\n",
    "    # W aqui é (nb_filters, wh, ww, channels)\n",
    "    np.rollaxis(np.rollaxis(W_all_A[2].T.reshape(2,3,5,5), 1, 4), 0, 4),\n",
    "    #W_all_A[2].reshape(5, 5, 3, 1).transpose((0,1,2,3))[:, :, :, :], # transposta, reshape para kernel e espelhamento (só para Theano)\n",
    "    W_all_A[3], # bias desta camada\n",
    "]\n",
    "model_B.set_weights(W_all_B)\n",
    "print([w.shape for w in W_all_A])\n",
    "print([w.shape for w in W_all_B])\n"
   ]
  },
  {
   "cell_type": "code",
   "execution_count": 83,
   "metadata": {
    "ExecuteTime": {
     "end_time": "2017-05-28T22:28:30.026940",
     "start_time": "2017-05-28T22:28:29.919169"
    },
    "collapsed": false
   },
   "outputs": [
    {
     "name": "stdout",
     "output_type": "stream",
     "text": [
      "--------------------------------------------------------------------------------\n",
      "Saída da camada 1 : input shape: (1, 1, 5, 7)\n",
      "--------------------------------------------------------------------------------\n",
      "[[[[ 0.  0.  0.  0.  0.  0.  0.]\n",
      "   [ 0.  0.  1.  0.  0.  0.  0.]\n",
      "   [ 0.  0.  0.  0.  0.  0.  0.]\n",
      "   [ 0.  0.  0.  0.  0.  0.  0.]\n",
      "   [ 0.  0.  0.  0.  0.  0.  0.]]]]\n",
      "--------------------------------------------------------------------------------\n",
      "Saída da camada 2 : conv1 shape: (1, 3, 5, 5)\n",
      "--------------------------------------------------------------------------------\n",
      "[[[[ 0.1  0.1  0.1  0.1  0.1]\n",
      "   [ 3.1  2.1  1.1  0.1  0.1]\n",
      "   [ 0.1  0.1  0.1  0.1  0.1]\n",
      "   [ 0.1  0.1  0.1  0.1  0.1]\n",
      "   [ 0.1  0.1  0.1  0.1  0.1]]\n",
      "\n",
      "  [[ 0.2  0.2  0.2  0.2  0.2]\n",
      "   [ 6.2  5.2  4.2  0.2  0.2]\n",
      "   [ 0.2  0.2  0.2  0.2  0.2]\n",
      "   [ 0.2  0.2  0.2  0.2  0.2]\n",
      "   [ 0.2  0.2  0.2  0.2  0.2]]\n",
      "\n",
      "  [[ 0.3  0.3  0.3  0.3  0.3]\n",
      "   [ 9.3  8.3  7.3  0.3  0.3]\n",
      "   [ 0.3  0.3  0.3  0.3  0.3]\n",
      "   [ 0.3  0.3  0.3  0.3  0.3]\n",
      "   [ 0.3  0.3  0.3  0.3  0.3]]]]\n",
      "--------------------------------------------------------------------------------\n",
      "Saída da camada 3 : conv2 shape: (1, 2, 1, 1)\n",
      "--------------------------------------------------------------------------------\n",
      "[[[[ 5038.1]]\n",
      "\n",
      "  [[ 5098.1]]]]\n"
     ]
    }
   ],
   "source": [
    "# Resultados para cada camada\n",
    "i = 1\n",
    "for layer in model_B.layers:\n",
    "    intermediate_layer_model = Model(inputs=model_B.input,outputs=layer.output)\n",
    "    intermediate_output = intermediate_layer_model.predict(X)\n",
    "    print('-'*80)\n",
    "    print(\"Saída da camada\", i, \":\", layer.name, \"shape:\", intermediate_output.shape)\n",
    "    print('-'*80)\n",
    "    print(intermediate_output)\n",
    "    i+=1"
   ]
  },
  {
   "cell_type": "markdown",
   "metadata": {},
   "source": [
    "# Sugestões de atividades\n",
    "\n",
    "1. Executar o experimento nos dois modos de construção da rede, API e Sequential. \n",
    "   Existe alguma diferença?\n",
    "2. Calcular o número de parâmetros da rede. Confirmar com o sumário apresentado.\n",
    "3. Retirar o bias e recalcular o número de parâmetros a serem treinados\n",
    "4. A rede foi projetada para aceitar entrada com shape (1,5,6). Mudar a rede para aceitar:\n",
    "   a) entrada com shape (1,6,6)\n",
    "   b) entrada com shape (3,6,6)\n",
    "5. Inserir mais uma camada convolucional com 4 filtros de saída e kernel (3,3)\n"
   ]
  },
  {
   "cell_type": "markdown",
   "metadata": {},
   "source": [
    "# Referências\n",
    "\n",
    "- [Keras Documentation](https://keras.io/)\n"
   ]
  },
  {
   "cell_type": "markdown",
   "metadata": {},
   "source": [
    "# Aprendizados com este notebook\n"
   ]
  }
 ],
 "metadata": {
  "anaconda-cloud": {},
  "kernelspec": {
   "display_name": "Python 3",
   "language": "python",
   "name": "python3"
  },
  "language_info": {
   "codemirror_mode": {
    "name": "ipython",
    "version": 3
   },
   "file_extension": ".py",
   "mimetype": "text/x-python",
   "name": "python",
   "nbconvert_exporter": "python",
   "pygments_lexer": "ipython3",
   "version": "3.6.0"
  },
  "toc": {
   "colors": {
    "hover_highlight": "#DAA520",
    "running_highlight": "#FF0000",
    "selected_highlight": "#FFD700"
   },
   "moveMenuLeft": true,
   "nav_menu": {
    "height": "207px",
    "width": "252px"
   },
   "navigate_menu": true,
   "number_sections": true,
   "sideBar": true,
   "threshold": 4,
   "toc_cell": true,
   "toc_section_display": "block",
   "toc_window_display": false
  }
 },
 "nbformat": 4,
 "nbformat_minor": 1
}
