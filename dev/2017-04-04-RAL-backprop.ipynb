{
 "cells": [
  {
   "cell_type": "code",
   "execution_count": 1,
   "metadata": {
    "ExecuteTime": {
     "end_time": "2017-04-04T23:30:32.434018",
     "start_time": "2017-04-04T23:30:31.951108"
    },
    "collapsed": false
   },
   "outputs": [
    {
     "name": "stdout",
     "output_type": "stream",
     "text": [
      "/Users/robertoalotufo/mylocalprojects/mylocalprojects\n"
     ]
    }
   ],
   "source": [
    "import numpy as np\n",
    "import sys,os\n",
    "ia898path = os.path.abspath('../..')\n",
    "print(ia898path)\n",
    "if ia898path not in sys.path:\n",
    "    sys.path.append(ia898path)\n",
    "import ia898.src as ia"
   ]
  },
  {
   "cell_type": "code",
   "execution_count": 2,
   "metadata": {
    "ExecuteTime": {
     "end_time": "2017-04-04T23:30:33.618742",
     "start_time": "2017-04-04T23:30:33.615086"
    },
    "collapsed": true
   },
   "outputs": [],
   "source": [
    "num_labels = 10          # 10 labels, from 1 to 10   "
   ]
  },
  {
   "cell_type": "markdown",
   "metadata": {},
   "source": [
    "## Parte 1: Carregamento e visualização dos dados\n"
   ]
  },
  {
   "cell_type": "code",
   "execution_count": 3,
   "metadata": {
    "ExecuteTime": {
     "end_time": "2017-04-04T23:30:35.923682",
     "start_time": "2017-04-04T23:30:35.321159"
    },
    "collapsed": false
   },
   "outputs": [
    {
     "name": "stdout",
     "output_type": "stream",
     "text": [
      "(5000, 400) (5000, 1)\n",
      "float64 -0.131963230199 1.12768829916\n"
     ]
    }
   ],
   "source": [
    "import scipy.io\n",
    "file_name = '/Users/robertoalotufo/Downloads/ex4data1.mat'\n",
    "dataread = scipy.io.loadmat(file_name)\n",
    "X = dataread['X']\n",
    "y = dataread['y']\n",
    "print(X.shape,y.shape)\n",
    "print(X.dtype,X.min(),X.max())"
   ]
  },
  {
   "cell_type": "code",
   "execution_count": 4,
   "metadata": {
    "ExecuteTime": {
     "end_time": "2017-04-04T23:30:37.166812",
     "start_time": "2017-04-04T23:30:37.097842"
    },
    "collapsed": false
   },
   "outputs": [
    {
     "name": "stdout",
     "output_type": "stream",
     "text": [
      "[ 566  533  933 1914 3629 1780  699   76 1924 4046]\n"
     ]
    },
    {
     "data": {
      "text/html": [
       "<head><style>                table, th, td { border: 0px solid black;                text-align: center;border-collapse: collapse;}</style></head>                <body><table border=\"0\"><tr><td>                    <table><tr><td><img src='data:image/png;base64,iVBORw0KGgoAAAANSUhEUgAAABQAAAAUCAAAAACo4kLRAAAAu0lEQVR4nGPkZsAETFjEUAX/fP2DIfhPJVvlH7rg76Ypbv/+owr+lVH//BNN+/9/4dK3jv1nRBH8K2zPcugeM6rKfz4mb9Z9Z0IR/K2eyb7rBiuEww0BHJIbPs0TZYdwoCr/MWXYnO/+wILioz8+qf/a7rKhePMfXyn3hjPMKH7//ztG6XLfJyYUwb96sZ/r4Johgv+ZgnV7j7EyoAgysMrMW8zAiBBk5GZgYGD4+48FSYwB4jJmZgZkAAChhTmg4y2AXgAAAABJRU5ErkJggg=='/></td></tr>                    <tr><td align='center'>1</td></tr></table></td><td>                    <table><tr><td><img src='data:image/png;base64,iVBORw0KGgoAAAANSUhEUgAAABQAAAAUCAAAAACo4kLRAAAAqklEQVR4nGPkYsAETDDG39//MQQZpdQY0QX/sXVc8v2Jof0PQ7z4X3RBBgYGVgyVDAw6Sn/QBVn+M3Axogoy/rr4ScKf+x+q4PfDH1i40VQyMLIy/v+H4fhfvzEcz8B6dsd/NhZ0lX9nf7RR/oHmJOYn/0UmpjH8R3X8rzU/jDui/qEIMv6pX/Hn8ismBgYGBkZEIP/lkXj7nhlNkOHfXyZmiJcRYgxMMLMAJtQvy5DVaiUAAAAASUVORK5CYII='/></td></tr>                    <tr><td align='center'>1</td></tr></table></td><td>                    <table><tr><td><img src='data:image/png;base64,iVBORw0KGgoAAAANSUhEUgAAABQAAAAUCAAAAACo4kLRAAAAgUlEQVR4nGPkYMAETFjEkAR//fiPIfjX3IfpP7rgH7cpBr8wtP/gV8BQyfCfU5r5P7og4483/xgxnPT3OxZ3MrFiCv7jU2HCMJOBiYURQyXTu0t/MCxi/P0Vi5m8iphmMn15hOlOJpZ/GNqZbqw7DXMoIzzk//5jhqlggWtnZoYzAb8hIyMzOrbfAAAAAElFTkSuQmCC'/></td></tr>                    <tr><td align='center'>1</td></tr></table></td><td>                    <table><tr><td><img src='data:image/png;base64,iVBORw0KGgoAAAANSUhEUgAAABQAAAAUCAAAAACo4kLRAAABFklEQVR4nGMUYMAETFjEsAuyMDAwMPz7+Z+BgYGBkZmVES74V62O+xcT8//POzZ/Y4Jp/y8g9uvavf/igq1pjP9hKlmuRDxj+f9fXH+RGPNfuJk/vnEz/Oayab8+7TczXJDh/8//mpU22/sesCFsZzOw43HTurGGUfj9f1YGBgZGAQaG3w0ev9iY//z7I/F2zfpHTBDBfwZ/37IzMzAwqhgn701gg2hnOvufieE/AwPD2Ueh/P9hZrJCbPvh28SzgAluOwMDw9/fvImlbPVbWBGC/34L6WX4PMjewc4AtZ3h719plwCL/3O2nGdghAn+rnP58/vk/aP3frEhQon5zOObN94yMjKzQ81nFGBgYPj1j5kZObQBBvFdATxzu4MAAAAASUVORK5CYII='/></td></tr>                    <tr><td align='center'>3</td></tr></table></td><td>                    <table><tr><td><img src='data:image/png;base64,iVBORw0KGgoAAAANSUhEUgAAABQAAAAUCAAAAACo4kLRAAAAyklEQVR4nGPkZ8AETFjEsAuywBh/f/1jZGRlQRb8z2CVKf/58cLjzAwMDAyMMIvYeFiFknwdnrAga//5g+GBlMYbJhSLGJmYWHMPfGRCMvP3P2aG34ZyyzmQLPoTqHKah7H88T0kwb8CocY+N74YWjNDjeJnYGBg+Mv39cvfSs0sJkYkHzF//s8t4b30FyOKN5kYf4f/OcqB7vffUfP/MqIJ/rD7s4sVLZT+syRe+IgedH9lLTfCdcMEGf9Nu8gGVwkLpX8/OeAKGQCwaTnL+P4xFQAAAABJRU5ErkJggg=='/></td></tr>                    <tr><td align='center'>7</td></tr></table></td><td>                    <table><tr><td><img src='data:image/png;base64,iVBORw0KGgoAAAANSUhEUgAAABQAAAAUCAAAAACo4kLRAAAA90lEQVR4nGPkZcAELFD6/x8GRmZGVMH/bKr/3r/9zcqILPhH7+Cfp+tW3IQIMkLM/Ceow+QR/D3xNCsDAwMDAy8EcLOyslk9TGPl5eXl5YVZxMTB8PvhN+F/qLb//cuR9X8ZB4rtjBISeTZlL9iQBf8JzzARylzFyYBs+39Gf2kPprDPzAjB//8ZGX//cFwSeIkVoZ2R4ycD6/8PP3hgTmFgYPgn2y3xm+GPEt8TRoQgwxfzNJZvsjk3P8JChJeXl4cz9dUU513PPdih3mPkZWBg+Mfkkir1ouUUOwOyk/7/FBB6/wEmBnMnw9//jMwYIY8QYWBgAACYzEhqfu9vnQAAAABJRU5ErkJggg=='/></td></tr>                    <tr><td align='center'>3</td></tr></table></td><td>                    <table><tr><td><img src='data:image/png;base64,iVBORw0KGgoAAAANSUhEUgAAABQAAAAUCAAAAACo4kLRAAAAqUlEQVR4nGPkZMAETFjEUAR/fv+PLvj/v2Mo4390Qdb0OY6/0QT/iUs9ecyEKvifMd58xRUWVMF/fK6/TzOjWvSfKVrv7m1GVMF/3IGMy56gqvz/10n7ye7fqCr/c/uLnLvBiuqjf3wqX1Z+Z0IV/C8p//kB3CVQBuO3z4yMcH+wQAXfv2V4z4im8j8j+8fXTGgqmd9tFv0L187ICXMoTB6hkoERIcTAAACoLTSfcWil8AAAAABJRU5ErkJggg=='/></td></tr>                    <tr><td align='center'>1</td></tr></table></td><td>                    <table><tr><td><img src='data:image/png;base64,iVBORw0KGgoAAAANSUhEUgAAABQAAAAUCAAAAACo4kLRAAABQUlEQVR4nGWQvS9DUQDFz73vvvfuIWlE62uxIB0aEhaSMlkkEvEHWEhEwoSkFqvJYkNMYiMxGCwSsYiP1GYQi1hIW0QbbZ++9j5D26T4beeXc5YjiP+oxhCYQEL+lhXZ3vRhvKBBBuXI/FT7pV55scAarj1+nP++TQYxRVnrGTOzPyHPtsMpX9TnFWdpsbW8s9sSyhugOrc5lyvdTzsYzXgxRZCk07X5mU2OQ8vV3Fu0KrVe+ypexy0SW/5pm0OQRCLlJaO2pjV4l1uwSJAqdlV8nLBIRyT8+wFFgm7LQbG4R1fbkfXXr2VXk6Dd81Q47xNSdc9mvcNOh6RCoDsqz83x4d6Ql7nYeFcAQKfzws+mM4XSw9GQ65AkBQM1MjnW71+e3DwWlAAACAIewyHzkZaqfoQggMAYSOvP88JqMAB+ANZIaP7Yz+DhAAAAAElFTkSuQmCC'/></td></tr>                    <tr><td align='center'>10</td></tr></table></td><td>                    <table><tr><td><img src='data:image/png;base64,iVBORw0KGgoAAAANSUhEUgAAABQAAAAUCAAAAACo4kLRAAABGUlEQVR4nGMUZMAELAjmv38MzIxogv/YRH++/cvMwMDAwAQV+v+LvXDX6mLhv0iCf3+ZT0t78jPf9O9/uPZ/PGHVLNNni29VZoKb+Z8xtfjYsnW/Ullv/mWGq/x7q2XBKyHT4EePGBkZGBgYBaFmatobG0tWLOJActJ/9Zmmv77+Czp+jxXJnYyfz5zeYZardOc/I1Tw31+m+2mcD3/dTGCB++gvl/7zB68YmJnsOD/9Z4Q4/h9nVb/iP2bmX0bFpx+wQFX+ZzV4c+7vf2b9jg8tT9kYoE76Fda7d9c7b88nhefZGGCC/1ni4tU/P9i78CkTI1yQ4d8/Mb7/Hz/8ZoW5T5CBgYHh/9//DEyMsGCEOp4RKQIYGBgA75Fm6KZLeJIAAAAASUVORK5CYII='/></td></tr>                    <tr><td align='center'>3</td></tr></table></td><td>                    <table><tr><td><img src='data:image/png;base64,iVBORw0KGgoAAAANSUhEUgAAABQAAAAUCAAAAACo4kLRAAABAElEQVR4nGMUYMAETFjEGFiQ2L9+MbKzoAr++2Ng8e3AM0ZGJME/rEElGn9W5/xmZYQL/uWpTr4ZyacpwP/0DyODgICAgIAAP3fW13NWzHwpW656cQtAVf4VT3pedNyoweb50a9MDFCV3LqfJovE33rVKcfJJwBTyfjluqeS5a2qnQzsCMczP1sl53wwbCsjM8JH/39Jevz7s/MFGxPCm/8ZXJeY73yQKPEX4ff/v7Unmk2JWWKs/R8pQP7z8m6a+PkuszFyKDHKcc3n8M54fww5lP49+1XKovMy/zwz1IECDAwMf/lzXc/e232VjRFJkOHfXwYGBkZmRpRAZkKNAAD4plDuhLDkIwAAAABJRU5ErkJggg=='/></td></tr>                    <tr><td align='center'>8</td></tr></table></td><tr></tr></table></body>"
      ],
      "text/plain": [
       "<IPython.core.display.HTML object>"
      ]
     },
     "metadata": {},
     "output_type": "display_data"
    }
   ],
   "source": [
    "N = X.shape[0]\n",
    "i = np.random.permutation(N)[:10]\n",
    "print(i)\n",
    "nb = ia.nbshow(10)\n",
    "for (x,label) in zip(X[i],y[i]):\n",
    "    f = ia.normalize(x.reshape(20,20)).T\n",
    "    nb.nbshow(f,'%d' % (label,))\n",
    "nb.nbshow()"
   ]
  },
  {
   "cell_type": "markdown",
   "metadata": {},
   "source": [
    "##  Part 2: Carregamento parâmetros já treinados\n"
   ]
  },
  {
   "cell_type": "code",
   "execution_count": 5,
   "metadata": {
    "ExecuteTime": {
     "end_time": "2017-04-04T23:30:46.586861",
     "start_time": "2017-04-04T23:30:46.569435"
    },
    "collapsed": false
   },
   "outputs": [
    {
     "name": "stdout",
     "output_type": "stream",
     "text": [
      "dict_keys(['__header__', '__version__', '__globals__', 'Theta1', 'Theta2'])\n",
      "float64 (25, 401)\n",
      "float64 (10, 26)\n"
     ]
    }
   ],
   "source": [
    "# Load the weights into variables Theta1 and Theta2\n",
    "# Setup the parameters you will use for this exercise\n",
    "input_layer_size  = 400  # 20x20 Input Images of Digits\n",
    "hidden_layer_size = 25   # 25 hidden units\n",
    "\n",
    "file_name = '/Users/robertoalotufo/Downloads/ex4weights.mat'\n",
    "datapar = scipy.io.loadmat(file_name)\n",
    "print(datapar.keys())\n",
    "Theta1 = datapar['Theta1']\n",
    "Theta2 = datapar['Theta2']\n",
    "print(Theta1.dtype,Theta1.shape)\n",
    "print(Theta2.dtype,Theta2.shape)"
   ]
  },
  {
   "cell_type": "markdown",
   "metadata": {},
   "source": [
    "## Part 3: Calcula Custo (Feedforward)\n",
    "    #  To the neural network, you should first start by implementing the\n",
    "    #  feedforward part of the neural network that returns the cost only. You\n",
    "    #  should complete the code in nnCostFunction.m to return cost. After\n",
    "    #  implementing the feedforward to compute the cost, you can verify that\n",
    "    #  your implementation is correct by verifying that you get the same cost\n",
    "    #  as us for the fixed debugging parameters.\n",
    "    #\n",
    "    #  We suggest implementing the feedforward cost *without* regularization\n",
    "    #  first so that it will be easier for you to debug. Later, in part 4, you\n",
    "    #  will get to implement the regularized cost."
   ]
  },
  {
   "cell_type": "code",
   "execution_count": 12,
   "metadata": {
    "ExecuteTime": {
     "end_time": "2017-04-04T23:32:56.341101",
     "start_time": "2017-04-04T23:32:56.268034"
    },
    "collapsed": false
   },
   "outputs": [],
   "source": [
    "def nnCostFunction(param_list, \n",
    "                   num_labels,\n",
    "                   X, y, vlambda):\n",
    "    '''\n",
    "    NNCOSTFUNCTION Implements the neural network cost function for a two layer\n",
    "    neural network which performs classification\n",
    "    (J grad) = NNCOSTFUNCTON(nn_params, hidden_layer_size, num_labels, X, y, lambda) \n",
    "    computes the cost and gradient of the neural network. The\n",
    "    parameters for the neural network are \"unrolled\" into the vector\n",
    "    nn_params and need to be converted back into the weight matrices. \n",
    " \n",
    "    The returned parameter grad should be a \"unrolled\" vector of the\n",
    "    partial derivatives of the neural network.\n",
    "\n",
    "    Reshape nn_params back into the parameters Theta1 and Theta2, the weight matrices\n",
    "    for our 2 layer neural network\n",
    "    '''\n",
    "\n",
    "    Theta1 = param_list[0]\n",
    "    Theta2 = param_list[1]\n",
    "    # Setup some useful variables\n",
    "    m = X.shape[0]\n",
    "         \n",
    "    # You need to return the following variables correctly \n",
    "    J = 0;\n",
    "    Theta1_grad = np.zeros_like(Theta1)\n",
    "    Theta2_grad = np.zeros_like(Theta2)\n",
    "\n",
    "    # ====================== YOUR CODE HERE ======================\n",
    "    # Instructions: You should complete the code by working through the\n",
    "    #               following parts.\n",
    "    #\n",
    "    # Part 1: Feedforward the neural network and return the cost in the\n",
    "    #         variable J. After implementing Part 1, you can verify that your\n",
    "    #         cost function computation is correct by verifying the cost\n",
    "    #         computed in ex4.m\n",
    "    #\n",
    "    # Part 2: Implement the backpropagation algorithm to compute the gradients\n",
    "    #         Theta1_grad and Theta2_grad. You should return the partial derivatives of\n",
    "    #         the cost function with respect to Theta1 and Theta2 in Theta1_grad and\n",
    "    #         Theta2_grad, respectively. After implementing Part 2, you can check\n",
    "    #         that your implementation is correct by running checkNNGradients\n",
    "    #\n",
    "    #         Note: The vector y passed into the function is a vector of labels\n",
    "    #               containing values from 1..K. You need to map this vector into a \n",
    "    #               binary vector of 1's and 0's to be used with the neural network\n",
    "    #               cost function.\n",
    "    #\n",
    "    #         Hint: We recommend implementing backpropagation using a for-loop\n",
    "    #               over the training examples if you are implementing it for the \n",
    "    #               first time.\n",
    "    #\n",
    "    # Part 3: Implement regularization with the cost function and gradients.\n",
    "    #\n",
    "    #         Hint: You can implement this around the code for\n",
    "    #               backpropagation. That is, you can compute the gradients for\n",
    "    #               the regularization separately and then add them to Theta1_grad\n",
    "    #               and Theta2_grad from Part 2.\n",
    "    #\n",
    "    # Cria categórico - One-Hot\n",
    "    yy = np.zeros((m, num_labels))\n",
    "    for i in np.arange(m):\n",
    "        yy[i,y[i]-1] = 1.0\n",
    "\n",
    "    # Forward propagation\n",
    "    a1 = np.hstack((np.ones((m, 1)), X))\n",
    "    a2 = np.hstack((np.ones((m, 1)), sigmoid(a1.dot(Theta1.T))))\n",
    "    a3 = sigmoid(a2.dot(Theta2.T))\n",
    "\n",
    "    # Cost computation\n",
    "    J = - (yy * np.log(a3) + (1 - yy) * np.log(1 - a3)).sum() / m\n",
    "\n",
    "    # ... add regularization\n",
    "    Theta1_sq = Theta1[:,2:] * Theta1[:,2:]\n",
    "    Theta2_sq = Theta2[:,2:] * Theta2[:,2:]\n",
    "    R = 0.5 * vlambda * (Theta1_sq).sum() + (Theta2_sq).sum() / m\n",
    "    J = J + R\n",
    "\n",
    "    # Back propagation\n",
    "    d3 = a3 - yy;\n",
    "    d2 = (d3 * Theta2) * a2 * (1 - a2)\n",
    "    d2 = d2[:,2:]\n",
    "\n",
    "    # Gradient computation\n",
    "    Delta1 = d2.T * a1\n",
    "    Delta2 = d3.T * a2\n",
    "    Theta1_grad = Delta1 / m\n",
    "    Theta2_grad = Delta2 / m\n",
    "                           \n",
    "    # ... add regularization\n",
    "    Theta1_grad[:,2:] = Theta1_grad[:,2:] + vlambda * Theta1[:,2:] / m\n",
    "    Theta2_grad[:,2:] = Theta2_grad[:,2:] + vlambda * Theta2[:,2:] / m\n",
    "\n",
    "    grad = [Theta1_grad, Theta2_grad]\n",
    "    return (J, grad)\n"
   ]
  },
  {
   "cell_type": "code",
   "execution_count": 13,
   "metadata": {
    "ExecuteTime": {
     "end_time": "2017-04-04T23:32:58.171107",
     "start_time": "2017-04-04T23:32:58.104388"
    },
    "collapsed": false
   },
   "outputs": [
    {
     "ename": "NameError",
     "evalue": "name 'sigmoid' is not defined",
     "output_type": "error",
     "traceback": [
      "\u001b[0;31m---------------------------------------------------------------------------\u001b[0m",
      "\u001b[0;31mNameError\u001b[0m                                 Traceback (most recent call last)",
      "\u001b[0;32m<ipython-input-13-f1d1340ae6ca>\u001b[0m in \u001b[0;36m<module>\u001b[0;34m()\u001b[0m\n\u001b[1;32m      3\u001b[0m \u001b[0;34m\u001b[0m\u001b[0m\n\u001b[1;32m      4\u001b[0m J = nnCostFunction([Theta1, Theta2],\n\u001b[0;32m----> 5\u001b[0;31m                    num_labels, X, y, vlambda);\n\u001b[0m\u001b[1;32m      6\u001b[0m \u001b[0;34m\u001b[0m\u001b[0m\n\u001b[1;32m      7\u001b[0m \u001b[0mprint\u001b[0m\u001b[0;34m(\u001b[0m\u001b[0;34m'Cost at parameters (loaded from ex4weights): %f          \\n(this value should be about 0.287629)'\u001b[0m \u001b[0;34m%\u001b[0m \u001b[0;34m(\u001b[0m\u001b[0mJ\u001b[0m\u001b[0;34m,\u001b[0m\u001b[0;34m)\u001b[0m\u001b[0;34m)\u001b[0m\u001b[0;34m\u001b[0m\u001b[0m\n",
      "\u001b[0;32m<ipython-input-12-83698733bb64>\u001b[0m in \u001b[0;36mnnCostFunction\u001b[0;34m(param_list, num_labels, X, y, vlambda)\u001b[0m\n\u001b[1;32m     65\u001b[0m     \u001b[0;31m# Forward propagation\u001b[0m\u001b[0;34m\u001b[0m\u001b[0;34m\u001b[0m\u001b[0m\n\u001b[1;32m     66\u001b[0m     \u001b[0ma1\u001b[0m \u001b[0;34m=\u001b[0m \u001b[0mnp\u001b[0m\u001b[0;34m.\u001b[0m\u001b[0mhstack\u001b[0m\u001b[0;34m(\u001b[0m\u001b[0;34m(\u001b[0m\u001b[0mnp\u001b[0m\u001b[0;34m.\u001b[0m\u001b[0mones\u001b[0m\u001b[0;34m(\u001b[0m\u001b[0;34m(\u001b[0m\u001b[0mm\u001b[0m\u001b[0;34m,\u001b[0m \u001b[0;36m1\u001b[0m\u001b[0;34m)\u001b[0m\u001b[0;34m)\u001b[0m\u001b[0;34m,\u001b[0m \u001b[0mX\u001b[0m\u001b[0;34m)\u001b[0m\u001b[0;34m)\u001b[0m\u001b[0;34m\u001b[0m\u001b[0m\n\u001b[0;32m---> 67\u001b[0;31m     \u001b[0ma2\u001b[0m \u001b[0;34m=\u001b[0m \u001b[0mnp\u001b[0m\u001b[0;34m.\u001b[0m\u001b[0mhstack\u001b[0m\u001b[0;34m(\u001b[0m\u001b[0;34m(\u001b[0m\u001b[0mnp\u001b[0m\u001b[0;34m.\u001b[0m\u001b[0mones\u001b[0m\u001b[0;34m(\u001b[0m\u001b[0;34m(\u001b[0m\u001b[0mm\u001b[0m\u001b[0;34m,\u001b[0m \u001b[0;36m1\u001b[0m\u001b[0;34m)\u001b[0m\u001b[0;34m)\u001b[0m\u001b[0;34m,\u001b[0m \u001b[0msigmoid\u001b[0m\u001b[0;34m(\u001b[0m\u001b[0ma1\u001b[0m\u001b[0;34m.\u001b[0m\u001b[0mdot\u001b[0m\u001b[0;34m(\u001b[0m\u001b[0mTheta1\u001b[0m\u001b[0;34m.\u001b[0m\u001b[0mT\u001b[0m\u001b[0;34m)\u001b[0m\u001b[0;34m)\u001b[0m\u001b[0;34m)\u001b[0m\u001b[0;34m)\u001b[0m\u001b[0;34m\u001b[0m\u001b[0m\n\u001b[0m\u001b[1;32m     68\u001b[0m     \u001b[0ma3\u001b[0m \u001b[0;34m=\u001b[0m \u001b[0msigmoid\u001b[0m\u001b[0;34m(\u001b[0m\u001b[0ma2\u001b[0m\u001b[0;34m.\u001b[0m\u001b[0mdot\u001b[0m\u001b[0;34m(\u001b[0m\u001b[0mTheta2\u001b[0m\u001b[0;34m.\u001b[0m\u001b[0mT\u001b[0m\u001b[0;34m)\u001b[0m\u001b[0;34m)\u001b[0m\u001b[0;34m\u001b[0m\u001b[0m\n\u001b[1;32m     69\u001b[0m \u001b[0;34m\u001b[0m\u001b[0m\n",
      "\u001b[0;31mNameError\u001b[0m: name 'sigmoid' is not defined"
     ]
    }
   ],
   "source": [
    "# Weight regularization parameter (we set this to 0 here)\n",
    "vlambda = 0\n",
    "\n",
    "J = nnCostFunction([Theta1, Theta2],\n",
    "                   num_labels, X, y, vlambda);\n",
    "\n",
    "print('Cost at parameters (loaded from ex4weights): %f \\\n",
    "         \\n(this value should be about 0.287629)' % (J,))\n"
   ]
  },
  {
   "cell_type": "code",
   "execution_count": null,
   "metadata": {
    "collapsed": true
   },
   "outputs": [],
   "source": []
  }
 ],
 "metadata": {
  "kernelspec": {
   "display_name": "Python 3",
   "language": "python",
   "name": "python3"
  },
  "language_info": {
   "codemirror_mode": {
    "name": "ipython",
    "version": 3
   },
   "file_extension": ".py",
   "mimetype": "text/x-python",
   "name": "python",
   "nbconvert_exporter": "python",
   "pygments_lexer": "ipython3",
   "version": "3.6.0"
  },
  "toc": {
   "colors": {
    "hover_highlight": "#DAA520",
    "running_highlight": "#FF0000",
    "selected_highlight": "#FFD700"
   },
   "moveMenuLeft": true,
   "nav_menu": {
    "height": "66px",
    "width": "252px"
   },
   "navigate_menu": true,
   "number_sections": true,
   "sideBar": true,
   "threshold": 4,
   "toc_cell": false,
   "toc_section_display": "block",
   "toc_window_display": false
  }
 },
 "nbformat": 4,
 "nbformat_minor": 2
}
