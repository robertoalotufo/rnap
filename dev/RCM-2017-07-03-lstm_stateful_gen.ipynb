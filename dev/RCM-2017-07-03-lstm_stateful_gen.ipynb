{
 "cells": [
  {
   "cell_type": "code",
   "execution_count": 1,
   "metadata": {
    "collapsed": false,
    "deletable": true,
    "editable": true
   },
   "outputs": [
    {
     "name": "stderr",
     "output_type": "stream",
     "text": [
      "Using TensorFlow backend.\n"
     ]
    }
   ],
   "source": [
    "%matplotlib inline\n",
    "import matplotlib.pyplot as plot\n",
    "from IPython import display\n",
    "from __future__ import print_function\n",
    "\n",
    "from keras.preprocessing.text import Tokenizer\n",
    "from keras.models import Sequential\n",
    "from keras.layers import Dense, Activation\n",
    "from keras.layers import LSTM, Embedding, BatchNormalization\n",
    "from keras.optimizers import RMSprop, Adam\n",
    "from keras.regularizers import l2\n",
    "from keras.utils.data_utils import get_file\n",
    "import numpy as np\n",
    "import numpy.random as nr\n",
    "import random\n",
    "import glob\n",
    "import sys\n",
    "import os\n",
    "import re\n",
    "\n",
    "sys.path.append('../src')\n",
    "from my_keras_utilities import (get_available_gpus, \n",
    "                                load_model_and_history, \n",
    "                                save_model_and_history, \n",
    "                                TrainingPlotter)\n",
    "\n",
    "os.makedirs('../../models',exist_ok=True)\n",
    "np.set_printoptions(precision=3, linewidth=120)"
   ]
  },
  {
   "cell_type": "code",
   "execution_count": 2,
   "metadata": {
    "collapsed": false,
    "deletable": true,
    "editable": true
   },
   "outputs": [
    {
     "name": "stdout",
     "output_type": "stream",
     "text": [
      "Backend:        tensorflow\n",
      "Data format:    channels_last\n",
      "Available GPUS: ['/gpu:0']\n"
     ]
    }
   ],
   "source": [
    "import keras.backend as K\n",
    "\n",
    "# K.set_image_data_format('channels_first')\n",
    "K.set_floatx('float32')\n",
    "\n",
    "print('Backend:        {}'.format(K.backend()))\n",
    "print('Data format:    {}'.format(K.image_data_format()))\n",
    "print('Available GPUS:', get_available_gpus())"
   ]
  },
  {
   "cell_type": "code",
   "execution_count": 3,
   "metadata": {
    "collapsed": false,
    "deletable": true,
    "editable": true
   },
   "outputs": [],
   "source": [
    "def train_network(model, model_name, train_generator, validation_generator=None, loss=\"categorical_crossentropy\", \n",
    "                  train_steps=None, valid_steps=None, metrics=None, opt='rmsprop', nepochs=50, \n",
    "                  patience=50, reset=False, ploss=1.0):\n",
    "        \n",
    "    do_plot = (ploss > 0.0)\n",
    "    \n",
    "    model_fn = model_name + '.model'\n",
    "    if reset and os.path.isfile(model_fn):\n",
    "        os.unlink(model_name + '.model')\n",
    "        \n",
    "    if not os.path.isfile(model_fn):\n",
    "        # initialize the optimizer and model\n",
    "        print(\"[INFO] compiling model...\")\n",
    "        model.compile(loss=loss, optimizer=opt, metrics=metrics)    \n",
    "\n",
    "        # History, checkpoint, earlystop, plot losses:\n",
    "        cb = MyCb(n=1, filepath=model_name, patience=patience, plot_losses=do_plot)\n",
    "        \n",
    "    else:\n",
    "        print(\"[INFO] loading model...\")\n",
    "        model, cb = load_model_and_history(model_name)\n",
    "        cb.patience = patience\n",
    "\n",
    "    past_epochs = cb.get_nepochs()\n",
    "    tr_epochs = nepochs - past_epochs\n",
    "    \n",
    "    if tr_epochs <= 0:\n",
    "        print('[INFO] Model already trained for {} epochs'.format(nepochs))\n",
    "        return model, cb\n",
    "    \n",
    "    if do_plot:\n",
    "        vv = 0\n",
    "        fig = plot.figure(figsize=(15,6))\n",
    "        plot.ylim(0.0, ploss)\n",
    "        plot.xlim(0, nepochs)\n",
    "        plot.grid(True)\n",
    "    else:\n",
    "        vv = 2\n",
    "        \n",
    "    print(\"[INFO] training for {} epochs...\".format(tr_epochs))\n",
    "    try:\n",
    "        model.fit_generator(train_generator, steps_per_epoch=train_steps,\n",
    "                            validation_data=validation_generator, validation_steps=valid_steps,\n",
    "                            epochs=nepochs, verbose=vv, callbacks=[cb])\n",
    "    except KeyboardInterrupt:\n",
    "        pass\n",
    "\n",
    "    return model, cb\n",
    "\n",
    "\n",
    "def test_network(model_name, validation_generator, nb_validation_samples):\n",
    "    model, histo = load_model_and_history(model_name)\n",
    "    print('Model from epoch {}'.format(histo.best_epoch))\n",
    "    print(\"[INFO] evaluating in the test data set ...\")\n",
    "    loss, accuracy = model.evaluate_generator(validation_generator, nb_validation_samples)\n",
    "    print(\"\\n[INFO] accuracy on the test data set: {:.2f}% [{:.5f}]\".format(accuracy * 100, loss))\n"
   ]
  },
  {
   "cell_type": "code",
   "execution_count": 4,
   "metadata": {
    "collapsed": false,
    "deletable": true,
    "editable": true
   },
   "outputs": [
    {
     "name": "stdout",
     "output_type": "stream",
     "text": [
      "(1000,) [ 1000.] (2000, 50, 1) (2000, 1)\n"
     ]
    }
   ],
   "source": [
    "n_samples = 2000\n",
    "batch_size = 100\n",
    "seq_size = 50 \n",
    "\n",
    "Xtra = np.zeros((n_samples, seq_size, 1), np.float32)\n",
    "ytra = np.zeros((n_samples, 1), np.float32)\n",
    "tii = nr.choice(np.arange(n_samples), replace=False, size=n_samples//2)\n",
    "Xtra[tii, 0] = 1\n",
    "ytra[tii] = 1\n",
    "\n",
    "print(tii.shape, Xtra[:,0].sum(0), Xtra.shape, ytra.shape)"
   ]
  },
  {
   "cell_type": "code",
   "execution_count": 5,
   "metadata": {
    "collapsed": false,
    "deletable": true,
    "editable": true
   },
   "outputs": [
    {
     "name": "stdout",
     "output_type": "stream",
     "text": [
      "(1600, 50, 1) (1600, 1) (400, 50, 1) (400, 1)\n"
     ]
    }
   ],
   "source": [
    "from sklearn.model_selection import train_test_split\n",
    "\n",
    "X_tra, X_val, y_tra, y_val = train_test_split(Xtra, ytra, test_size=0.2)\n",
    "print(X_tra.shape, y_tra.shape, X_val.shape, y_val.shape)"
   ]
  },
  {
   "cell_type": "code",
   "execution_count": 6,
   "metadata": {
    "collapsed": true,
    "deletable": true,
    "editable": true
   },
   "outputs": [],
   "source": [
    "class MyCb(TrainingPlotter):\n",
    "    # Note que o callback não funciona para a validação. O modelo deve, \n",
    "    # então, ser avaliado com o uso manual do gerador.\n",
    "    def on_batch_begin(self, batch, logs={}):\n",
    "        super().on_batch_begin(batch, logs)\n",
    "        if batch % seq_size == 0:\n",
    "            self.model.reset_states()\n",
    "\n",
    "class MyDataGenerator:\n",
    "    def __init__(self, X, y, batch_size, is_validation=False):\n",
    "        self.X = X\n",
    "        self.y = y\n",
    "        self.val = is_validation\n",
    "        self.batch_size = batch_size\n",
    "        \n",
    "    def __call__(self):\n",
    "        n_samp, n_seq, _ = self.X.shape\n",
    "        n_bat = n_samp // self.batch_size\n",
    "        while True:\n",
    "            for j in range(n_bat):\n",
    "                j0 = j * self.batch_size\n",
    "                j1 = j0 + self.batch_size\n",
    "                # O Keras não aceita o uso do modelo aqui, dentro do gerador. \n",
    "                # É um problema parecido com o relatado aqui:\n",
    "                #             https://github.com/fchollet/keras/issues/5511\n",
    "                # Por isso o reset_states foi removido no treinamento e uma\n",
    "                # solução bem menos elegante foi utilizada (callback acima).\n",
    "                # O callback, contudo, não é ativado pelo Keras na validação\n",
    "                # que deve ser, então, realizada manualmente. Nesse caso, é\n",
    "                # possível usar o modelo e seu método reset_states().\n",
    "                if self.val:\n",
    "                    model.reset_states()\n",
    "                for i in range(n_seq):\n",
    "                    x_b = self.X[j0:j1, i, 0]\n",
    "                    y_b = self.y[j0:j1, 0]\n",
    "                    yield x_b.reshape(self.batch_size, 1, 1), y_b.reshape(self.batch_size, 1)\n"
   ]
  },
  {
   "cell_type": "code",
   "execution_count": 7,
   "metadata": {
    "collapsed": true,
    "deletable": true,
    "editable": true
   },
   "outputs": [],
   "source": [
    "train_generator = MyDataGenerator(X_tra, y_tra, batch_size)()\n",
    "nb_train_samples = X_tra.shape[0]\n",
    "\n",
    "valid_generator = MyDataGenerator(X_val, y_val, batch_size, True)()\n",
    "nb_valid_samples = X_val.shape[0]\n"
   ]
  },
  {
   "cell_type": "code",
   "execution_count": 8,
   "metadata": {
    "collapsed": false,
    "deletable": true,
    "editable": true
   },
   "outputs": [
    {
     "name": "stdout",
     "output_type": "stream",
     "text": [
      "Creating Model...\n",
      "_________________________________________________________________\n",
      "Layer (type)                 Output Shape              Param #   \n",
      "=================================================================\n",
      "lstm_1 (LSTM)                (100, 10)                 480       \n",
      "_________________________________________________________________\n",
      "dense_1 (Dense)              (100, 1)                  11        \n",
      "=================================================================\n",
      "Total params: 491\n",
      "Trainable params: 491\n",
      "Non-trainable params: 0\n",
      "_________________________________________________________________\n"
     ]
    }
   ],
   "source": [
    "print('Creating Model...')\n",
    "model = Sequential()\n",
    "model.add(LSTM(10, batch_input_shape=(batch_size, 1, 1), stateful=True))\n",
    "model.add(Dense(1, activation='sigmoid'))\n",
    "model.summary()"
   ]
  },
  {
   "cell_type": "code",
   "execution_count": 9,
   "metadata": {
    "collapsed": false,
    "deletable": true,
    "editable": true,
    "scrolled": false
   },
   "outputs": [
    {
     "data": {
      "image/png": "[encoded data removed]",
      "text/plain": [
       "<matplotlib.figure.Figure at 0x7ffb38f3b978>"
      ]
     },
     "metadata": {},
     "output_type": "display_data"
    }
   ],
   "source": [
    "model_name = '../../models/lstm_stateful_1'\n",
    "\n",
    "train_steps = nb_train_samples * seq_size // batch_size\n",
    "valid_steps = nb_valid_samples * seq_size // batch_size\n",
    "\n",
    "fit_params = {\n",
    "    'train_steps':  train_steps,\n",
    "    'opt':          Adam(),\n",
    "    'loss':         'binary_crossentropy',\n",
    "    'metrics':      ['accuracy'],\n",
    "    'nepochs':      10, \n",
    "    'patience':     10,\n",
    "    'ploss':        0.1,\n",
    "    'reset':        True,\n",
    "}\n",
    "\n",
    "train_network(model, model_name, train_generator, **fit_params);\n"
   ]
  },
  {
   "cell_type": "code",
   "execution_count": 10,
   "metadata": {
    "collapsed": false,
    "deletable": true,
    "editable": true
   },
   "outputs": [
    {
     "name": "stdout",
     "output_type": "stream",
     "text": [
      "validation accuracy = 1.0\n",
      "               loss = 0.000413906411267817\n"
     ]
    }
   ],
   "source": [
    "mean_acc = []\n",
    "mean_loss = []\n",
    "for i in range(valid_steps):\n",
    "    x_b, y_b = next(valid_generator)\n",
    "    loss, acc = model.test_on_batch(x_b, y_b)\n",
    "    mean_acc.append(acc)\n",
    "    mean_loss.append(loss)\n",
    "    \n",
    "print('validation accuracy = {}'.format(np.mean(mean_acc)))\n",
    "print('               loss = {}'.format(np.mean(mean_loss)))\n"
   ]
  },
  {
   "cell_type": "code",
   "execution_count": null,
   "metadata": {
    "collapsed": true,
    "deletable": true,
    "editable": true
   },
   "outputs": [],
   "source": []
  }
 ],
 "metadata": {
  "kernelspec": {
   "display_name": "Python 3",
   "language": "python",
   "name": "python3"
  },
  "language_info": {
   "codemirror_mode": {
    "name": "ipython",
    "version": 3
   },
   "file_extension": ".py",
   "mimetype": "text/x-python",
   "name": "python",
   "nbconvert_exporter": "python",
   "pygments_lexer": "ipython3",
   "version": "3.4.3"
  },
  "latex_envs": {
   "LaTeX_envs_menu_present": true,
   "autocomplete": true,
   "bibliofile": "biblio.bib",
   "cite_by": "apalike",
   "current_citInitial": 1,
   "eqLabelWithNumbers": true,
   "eqNumInitial": 1,
   "hotkeys": {
    "equation": "Ctrl-E",
    "itemize": "Ctrl-I"
   },
   "labels_anchors": false,
   "latex_user_defs": false,
   "report_style_numbering": false,
   "user_envs_cfg": false
  },
  "toc": {
   "colors": {
    "hover_highlight": "#DAA520",
    "running_highlight": "#FF0000",
    "selected_highlight": "#FFD700"
   },
   "moveMenuLeft": true,
   "nav_menu": {
    "height": "12px",
    "width": "252px"
   },
   "navigate_menu": true,
   "number_sections": true,
   "sideBar": true,
   "threshold": 4,
   "toc_cell": false,
   "toc_section_display": "block",
   "toc_window_display": false,
   "widenNotebook": false
  }
 },
 "nbformat": 4,
 "nbformat_minor": 2
}
