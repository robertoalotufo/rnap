{
 "cells": [
  {
   "cell_type": "markdown",
   "metadata": {},
   "source": [
    "---\n",
    "# Primeiro Passo - configuração do ambiente\n",
    "---\n",
    "\n",
    "Tutorial: http://docs.aws.amazon.com/AWSEC2/latest/UserGuide/get-set-up-for-amazon-ec2.html"
   ]
  },
  {
   "cell_type": "markdown",
   "metadata": {},
   "source": [
    "## Criação de um usuário IAM (Instance and Access Management) (Lotufo que faz)\n",
    "\n",
    "A Amazon não recomenda usar o login principal para esta finalidade, acredito que por razões de segurança da conta.\n",
    "\n",
    "É recomendado criar usuários com poderes administrativos, que terão acesso a criação e uso de instâncias *dentro da conta principal*."
   ]
  },
  {
   "cell_type": "markdown",
   "metadata": {},
   "source": [
    "* Acessar: https://console.aws.amazon.com/iam/;\n",
    "* **Users** -> **Add User**;\n",
    "* Escolher username;\n",
    "* Marcar a caixa \"AWS Management Console access\";\n",
    "* Definir senha;\n",
    "* Criar grupo e adicionar a adicionar a política: \"AdministratorAccess\", encontrada pela filtragem (ou adicionar ao grupo **rnpi**);\n",
    "* Finalizar criação;\n",
    "* Página de login será: https://your_aws_account_id.signin.aws.amazon.com/console/, onde your_aws_account_id é o ID da conta AWS."
   ]
  },
  {
   "cell_type": "markdown",
   "metadata": {},
   "source": [
    "## Criar um Key Pair\n",
    "\n",
    "Para acessar a instância é necessário ter o arquivo da chave (.pem) salvo na máquina local. O único momento em que você consegue baixar este arquivo é na hora da criação do mesmo."
   ]
  },
  {
   "cell_type": "markdown",
   "metadata": {},
   "source": [
    "* Acessar: https://console.aws.amazon.com/ec2/;\n",
    "* **Key Pairs** -> **Create Key Pair**;\n",
    "* Definir um nome para o mesmo;\n",
    "* Baixar o arquivo *.pem*;\n",
    "* No terminal local digitar: ``chmod 400 <your_user_name-key-pair-region_name>.pem`` para que somente o seu usuário tenha permissão de acesso."
   ]
  },
  {
   "cell_type": "markdown",
   "metadata": {},
   "source": [
    "## Utilizar VPC padrão\n",
    "\n",
    "Não sei bem o que faz, mas não parece ser necessário mexer nisso."
   ]
  },
  {
   "cell_type": "markdown",
   "metadata": {},
   "source": [
    "## Criar Security Group\n",
    "\n",
    "Pelo que entendi é necessário liberar acesso SSH para cada IP que vá tentar conectar-se à instância.\n",
    "\n",
    "Além disso adicionam-se algumas portas padrão e também adicionei a porta para acesso do Jupyter (que rodará através do Docker)"
   ]
  },
  {
   "cell_type": "markdown",
   "metadata": {},
   "source": [
    "* Acessar: https://console.aws.amazon.com/ec2/;\n",
    "* **Security Groups** -> **Add Security Groups**;\n",
    "* Escolher um nome para o mesmo;\n",
    "* Selecionar **Add Rule** e adicionar as seguintes regras:\n",
    "    * Type: HTTP, Source: Anywhere (0.0.0.0/0)\n",
    "    * Type: HTTPS, Source: Anywhere (0.0.0.0/0)\n",
    "    * Type: SSH, Source: My IP (...) - *não recomendado liberar para todos os IPs*\n",
    "    * Type: Custom TCP Rule, Port: ``<porta_jupyter>``, Source: Anywhere - *a porta padrão do Jupyter é a 8888*"
   ]
  },
  {
   "cell_type": "markdown",
   "metadata": {},
   "source": [
    "---\n",
    "# <a id='segundo-passo'>Segundo Passo - criação de uma instância</a>\n",
    "\n",
    "---\n",
    "\n",
    "Tutorial: http://docs.aws.amazon.com/AWSEC2/latest/UserGuide/EC2_GetStarted.html"
   ]
  },
  {
   "cell_type": "markdown",
   "metadata": {},
   "source": [
    "* Acessar: https://console.aws.amazon.com/ec2/;\n",
    "* Verificar se a região desejada já está selecionada (a princípio todas as máquinas estão sendo criadas em *US West (Oregon)*;\n",
    "* Selecionar aba **Community AMIs** e procurar pela imagem:\n",
    "    * Deep Learning AMI Ubuntu Linux - 1.0 (ami-85f276e5);\n",
    "* Escolher o tipo de instância (g2.2xlarge para uso moderado de GPU);\n",
    "* Selecionar **Review and Launch**;\n",
    "* Selecionar **Edit security groups** -> **Select an existing security group** -> escolher grupo criado previamente;\n",
    "* Selecionar **Launch**;\n",
    "* Será necessário então criar ou escolher um *key pair*, caso já tenha sido previamente criado;\n",
    "* Selecionar o *key pair* e marcar a caixa de seleção;\n",
    "* Selecionar **Launch instance**."
   ]
  },
  {
   "cell_type": "markdown",
   "metadata": {},
   "source": [
    "---\n",
    "# Terceiro Passo - acesso à uma instância\n",
    "---\n",
    "\n",
    "Após alguns momentos de configuração a instância já deve estar inicializada e será possível acessá-la de duas maneiras diferentes:"
   ]
  },
  {
   "cell_type": "markdown",
   "metadata": {},
   "source": [
    "## Acesso através de SSH - Terminal local"
   ]
  },
  {
   "cell_type": "markdown",
   "metadata": {},
   "source": [
    "Após criar a sua instância, clique no link **View Intsances**. Verifique se a sua instância está no estado **running**. Selecione o box da sua instância e clique em **Connect**. Aparecerão as instruções para se conectar via ssh na instância.\n",
    "\n",
    "O comando para acesso segue o padrâo abaixo:\n",
    "\n",
    "* ``ssh -i \"<path_arquivo_chave_pem>\" ubuntu@<dns_público_instância>``\n",
    "\n",
    "**Atenção**: Caso não consiga se conectar por SSH. Se o erro for simplesmente `timeout`. O problema pode ser o IP não estar autorizado. Neste caso é preciso voltar ao Security Group e adicionar o acesso ao novo IP, da mesma forma que feito anteriormente."
   ]
  },
  {
   "cell_type": "markdown",
   "metadata": {},
   "source": [
    "---\n",
    "# Quarto Passo - Setup do ambiente\n",
    "---\n",
    "\n",
    "O setup do ambiente consiste em instalar:\n",
    "\n",
    "docker: https://docs.docker.com/engine/installation/linux/ubuntu/\n",
    "\n",
    "nvidia-docker: https://github.com/NVIDIA/nvidia-docker\n",
    "\n",
    "Copie os seguinte comandos num editor de texto e salve com a extensão .sh e execute o script."
   ]
  },
  {
   "cell_type": "markdown",
   "metadata": {},
   "source": [
    "sudo apt-get -y update && sudo apt-get -y upgrade\n",
    "\n",
    "sudo apt-get -y install curl linux-image-extra-$(uname -r) linux-image-extra-virtual\n",
    "\n",
    "bash $ sudo apt-get -y --no-install-recommends install curl apt-transport-https ca-certificates curl software-properties-common\n",
    "\n",
    "curl -fsSL https://apt.dockerproject.org/gpg | sudo apt-key add -\n",
    "\n",
    "apt-key fingerprint 58118E89F3A912897C070ADBF76221572C52609D\n",
    "\n",
    "sudo add-apt-repository \"deb https://apt.dockerproject.org/repo/ ubuntu-$(lsb_release -cs) main\"\n",
    "\n",
    "sudo apt-get -y update\n",
    "\n",
    "sudo apt-get -y install docker-engine\n",
    "\n",
    "wget -P /tmp https://github.com/NVIDIA/nvidia-docker/releases/download/v1.0.0/nvidia-docker_1.0.0-1_amd64.deb\n",
    "\n",
    "sudo dpkg -i /tmp/nvidia-docker*.deb && rm /tmp/nvidia-docker*.deb\n",
    "\n",
    "sudo nvidia-docker run --rm nvidia/cuda nvidia-smi\n",
    "\n",
    "sudo usermod -a -G docker ubuntu\n"
   ]
  },
  {
   "cell_type": "markdown",
   "metadata": {},
   "source": [
    "Crie os seguintes diretórios: \n",
    "mkdir /home/ubuntu/datasets /home/ubuntu/notebooks\n",
    "\n",
    "/opt/datasets\n",
    "\n",
    "\n",
    "É necessário reconectar a máquina na Amazon via ssh. Após reconectar a máquina na Amazon, executar os seguinte comandos:\n",
    "\n",
    "#sudo apt-get dist-upgrade\n",
    "\n",
    "nvidia-docker run --rm --name jupyter -it -p 8888:8888 -v /home/ubuntu/notebooks:/opt/projects \\\n",
    "-v /home/ubuntu/datasets:/opt/datasets rcm2016/keras:1.0\n",
    "\n",
    "Para acessar o jupyter digite no browser:\n",
    "\n",
    "<dns>:8888\n",
    "\n",
    "O token para acessar o notebook aparece no terminal. Utilize-o para logar no jupyter-notebook.\n",
    "\n",
    "\n",
    "\n",
    "\n"
   ]
  },
  {
   "cell_type": "markdown",
   "metadata": {},
   "source": [
    "---\n",
    "# Quinto Passo - rodando o Jupyter através do Docker\n",
    "---\n",
    "\n",
    "Tutorial: https://github.com/tensorflow/tensorflow/blob/master/tensorflow/examples/udacity/README.md"
   ]
  },
  {
   "cell_type": "markdown",
   "metadata": {},
   "source": [
    "Docker do curso \"Praticas de redes neurais profundas aplicado à análise de imagens\"\"\n",
    "```\n",
    "* docker run --rm --name jupyter12 -it -p 8888:8888 \\\n",
    "            -v <diretorio local de projetos>:/opt/projects \\\n",
    "            -v <diretorio local de dados>:/opt/datasets \\\n",
    "            rcm2016/lasagne_cuda:1.2\n",
    "```\n",
    "\n",
    "Docker do curso de Deep Learning do Udacity:\n",
    "\n",
    "* ``docker run -p 8888:8888 --name tensorflow-udacity -it gcr.io/tensorflow/udacity-assignments:0.6.0``\n",
    "\n",
    "Onde 8888 é a porta configurada pelo Jupyter dentro do Docker, e também a porta configurada previamente com o grupo de segurança, para ser acessada de fora da máquina."
   ]
  },
  {
   "cell_type": "markdown",
   "metadata": {},
   "source": [
    "---\n",
    "# Sexto Passo - acesso ao Jupyter\n",
    "---"
   ]
  },
  {
   "cell_type": "markdown",
   "metadata": {},
   "source": [
    "O endereço a ser acessado é o endereço que está em Public DNS na linha da instância em execução, na página do console EC2.\n",
    "\n",
    "No formato ``<address>:8888`` ou a devida porta utilizada"
   ]
  },
  {
   "cell_type": "markdown",
   "metadata": {
    "collapsed": true
   },
   "source": [
    "---\n",
    "# Informações adicionais\n",
    "---"
   ]
  },
  {
   "cell_type": "markdown",
   "metadata": {},
   "source": [
    "## Informações gerais\n",
    "\n",
    "* Os dados colocados nas instâncias EC2 são persistidos sem problemas no armazenamento EBS.\n",
    "* Enquanto o container executado no Docker existe, os dados são persistidos, mesmo que sua execução seja parada (``docker stop <nome_instancia_container>``) ou a instância da Amazon seja desligada (neste caso o container também é parado, então ao ligar a instância é necessário iniciá-lo, da mesma forma (``docker start <nome_instancia_docker>``).\n",
    "* De qualquer forma, parece mais interessante garantir que os dados sejam persistidos fora do Docker, caso ocorra algum problema e o container precise ser instanciado novamente.\n",
    "* Se possível, seria interessante inicializar a instância do AWS e salvar os dados (baixar do repositório, por exemplo) a serem utilizados no curso antes de conectar-se ao Docker, pois a partir daí o mesmo poderia ser iniciado uma única vez, já montando a pasta na instância do AWS dentro da instância do Docker.\n",
    "* Em todo caso, se o material já vier na imagem do Docker, basta inicializar uma instância do Docker, copiar o conteúdo para a instância do AWS (``docker cp <nome_instancia_container>:<diretório_docker> <diretório_aws>``).\n"
   ]
  },
  {
   "cell_type": "markdown",
   "metadata": {},
   "source": [
    "## Informações sobre o serviço ECS (EC2 Container Service)\n",
    "\n",
    "* Uma maneira de automatizar um pouco a execução de instâncias do Docker.\n",
    "* Não dá a opção de usar o tipo de instância ``g2.2xlarge``, que usa GPU.\n",
    "* É necessário criar um cluster, um serviço e uma tarefa, mas isto não é tão complicado.\n",
    "* Parece que ao matar uma instância o serviço automaticamente cria outra no lugar, então foi um pouco chato de remover as instâncias.\n",
    "* Precisaria ver a questão de copiar os dados para a instância AWS para que ao inicializar a instância do Docker a mesma já pudesse montar os diretórios do curso corretamente."
   ]
  },
  {
   "cell_type": "code",
   "execution_count": 12,
   "metadata": {
    "collapsed": false
   },
   "outputs": [
    {
     "name": "stdout",
     "output_type": "stream",
     "text": [
      "[NbConvertApp] Converting notebook 2017-01-15-MSS-Configurando-AWS.ipynb to html\n",
      "[NbConvertApp] Writing 271530 bytes to 2017-01-15-MSS-Configurando-AWS.html\n"
     ]
    }
   ],
   "source": [
    "# !jupyter nbconvert 2017-01-15-MSS-Configurando-AWS.ipynb"
   ]
  }
 ],
 "metadata": {
  "anaconda-cloud": {},
  "kernelspec": {
   "display_name": "Python 2",
   "language": "python",
   "name": "python2"
  },
  "language_info": {
   "codemirror_mode": {
    "name": "ipython",
    "version": 2
   },
   "file_extension": ".py",
   "mimetype": "text/x-python",
   "name": "python",
   "nbconvert_exporter": "python",
   "pygments_lexer": "ipython2",
   "version": "2.7.6"
  }
 },
 "nbformat": 4,
 "nbformat_minor": 0
}
