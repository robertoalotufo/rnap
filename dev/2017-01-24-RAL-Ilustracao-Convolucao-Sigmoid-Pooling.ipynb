{
 "cells": [
  {
   "cell_type": "markdown",
   "metadata": {},
   "source": [
    "![](../figures/trescamadas.png)"
   ]
  },
  {
   "cell_type": "code",
   "execution_count": 35,
   "metadata": {
    "collapsed": false
   },
   "outputs": [
    {
     "name": "stdout",
     "output_type": "stream",
     "text": [
      "Entrada\n",
      "[[[[-2  4  5 -6  0  3]]]]\n",
      "kernel\n",
      "[[[[1 1 1]]]]\n",
      "Saída\n",
      "[[[[ 0.999  0.269]]]]\n"
     ]
    }
   ],
   "source": [
    "%matplotlib inline\n",
    "\n",
    "import numpy as np\n",
    "import keras\n",
    "from keras.models import Sequential\n",
    "from keras.layers.core import Activation\n",
    "from keras.layers.convolutional import Convolution2D\n",
    "from keras.layers.pooling import MaxPooling2D\n",
    "#np.set_printoptions(suppress=True, precision=3) # limita a precisão da impressão em 3 casas decimais \n",
    "\n",
    "W = np.array([[1,1,1]]).reshape(1,1,1,3)\n",
    "\n",
    "X = np.array([[-2,4,5,-6,0,3]]).reshape(1,1,1,6)\n",
    "\n",
    "model = Sequential()\n",
    "model.add(Convolution2D(1, 1, 3, weights=[W], border_mode='valid', input_shape=(1, 1, 6),bias=False))\n",
    "model.add(Activation('sigmoid'))\n",
    "model.add(MaxPooling2D(pool_size=(1, 2)))\n",
    "y = model.predict(X,batch_size=1)\n",
    "\n",
    "print 'Entrada'\n",
    "print X\n",
    "print 'kernel'\n",
    "print W\n",
    "print 'Saída'\n",
    "print y\n"
   ]
  },
  {
   "cell_type": "markdown",
   "metadata": {},
   "source": [
    "## Explorando o Sigmoid do Keras"
   ]
  },
  {
   "cell_type": "code",
   "execution_count": 43,
   "metadata": {
    "collapsed": false
   },
   "outputs": [
    {
     "name": "stdout",
     "output_type": "stream",
     "text": [
      "Entrada\n",
      "[[[[-10.   -9.9  -9.8  -9.7  -9.6  -9.5  -9.4  -9.3  -9.2  -9.1  -9.   -8.9\n",
      "     -8.8  -8.7  -8.6  -8.5  -8.4  -8.3  -8.2  -8.1  -8.   -7.9  -7.8  -7.7\n",
      "     -7.6  -7.5  -7.4  -7.3  -7.2  -7.1  -7.   -6.9  -6.8  -6.7  -6.6  -6.5\n",
      "     -6.4  -6.3  -6.2  -6.1  -6.   -5.9  -5.8  -5.7  -5.6  -5.5  -5.4  -5.3\n",
      "     -5.2  -5.1  -5.   -4.9  -4.8  -4.7  -4.6  -4.5  -4.4  -4.3  -4.2  -4.1\n",
      "     -4.   -3.9  -3.8  -3.7  -3.6  -3.5  -3.4  -3.3  -3.2  -3.1  -3.   -2.9\n",
      "     -2.8  -2.7  -2.6  -2.5  -2.4  -2.3  -2.2  -2.1  -2.   -1.9  -1.8  -1.7\n",
      "     -1.6  -1.5  -1.4  -1.3  -1.2  -1.1  -1.   -0.9  -0.8  -0.7  -0.6  -0.5\n",
      "     -0.4  -0.3  -0.2  -0.1  -0.    0.1   0.2   0.3   0.4   0.5   0.6   0.7\n",
      "      0.8   0.9   1.    1.1   1.2   1.3   1.4   1.5   1.6   1.7   1.8   1.9\n",
      "      2.    2.1   2.2   2.3   2.4   2.5   2.6   2.7   2.8   2.9   3.    3.1\n",
      "      3.2   3.3   3.4   3.5   3.6   3.7   3.8   3.9   4.    4.1   4.2   4.3\n",
      "      4.4   4.5   4.6   4.7   4.8   4.9   5.    5.1   5.2   5.3   5.4   5.5\n",
      "      5.6   5.7   5.8   5.9   6.    6.1   6.2   6.3   6.4   6.5   6.6   6.7\n",
      "      6.8   6.9   7.    7.1   7.2   7.3   7.4   7.5   7.6   7.7   7.8   7.9\n",
      "      8.    8.1   8.2   8.3   8.4   8.5   8.6   8.7   8.8   8.9   9.    9.1\n",
      "      9.2   9.3   9.4   9.5   9.6   9.7   9.8   9.9]]]]\n",
      "kernel\n",
      "[[[[1]]]]\n",
      "Saída\n",
      "[[[[ 0.     0.     0.     0.     0.     0.     0.     0.     0.     0.     0.\n",
      "     0.     0.     0.     0.     0.     0.     0.     0.     0.     0.     0.\n",
      "     0.     0.     0.001  0.001  0.001  0.001  0.001  0.001  0.001  0.001\n",
      "     0.001  0.001  0.001  0.002  0.002  0.002  0.002  0.002  0.002  0.003\n",
      "     0.003  0.003  0.004  0.004  0.004  0.005  0.005  0.006  0.007  0.007\n",
      "     0.008  0.009  0.01   0.011  0.012  0.013  0.015  0.016  0.018  0.02\n",
      "     0.022  0.024  0.027  0.029  0.032  0.036  0.039  0.043  0.047  0.052\n",
      "     0.057  0.063  0.069  0.076  0.083  0.091  0.1    0.109  0.119  0.13\n",
      "     0.142  0.154  0.168  0.182  0.198  0.214  0.231  0.25   0.269  0.289\n",
      "     0.31   0.332  0.354  0.378  0.401  0.426  0.45   0.475  0.5    0.525\n",
      "     0.55   0.574  0.599  0.622  0.646  0.668  0.69   0.711  0.731  0.75\n",
      "     0.769  0.786  0.802  0.818  0.832  0.846  0.858  0.87   0.881  0.891\n",
      "     0.9    0.909  0.917  0.924  0.931  0.937  0.943  0.948  0.953  0.957\n",
      "     0.961  0.964  0.968  0.971  0.973  0.976  0.978  0.98   0.982  0.984\n",
      "     0.985  0.987  0.988  0.989  0.99   0.991  0.992  0.993  0.993  0.994\n",
      "     0.995  0.995  0.996  0.996  0.996  0.997  0.997  0.997  0.998  0.998\n",
      "     0.998  0.998  0.998  0.998  0.999  0.999  0.999  0.999  0.999  0.999\n",
      "     0.999  0.999  0.999  0.999  0.999  1.     1.     1.     1.     1.     1.\n",
      "     1.     1.     1.     1.     1.     1.     1.     1.     1.     1.     1.\n",
      "     1.     1.     1.     1.     1.     1.   ]]]]\n"
     ]
    },
    {
     "data": {
      "image/png": "[encoded data removed]",
      "text/plain": [
       "<matplotlib.figure.Figure at 0x7f63ac180490>"
      ]
     },
     "metadata": {},
     "output_type": "display_data"
    }
   ],
   "source": [
    "W = np.array([[1]]).reshape(1,1,1,1)\n",
    "X = np.arange(-10,10,0.1)\n",
    "N = len(X)\n",
    "X = X.reshape(1,1,1,N)\n",
    "model = Sequential()\n",
    "model.add(Convolution2D(1, 1, 1, weights=[W], border_mode='valid', input_shape=(1, 1, N),bias=False))\n",
    "model.add(Activation('sigmoid'))\n",
    "y = model.predict(X,batch_size=1)\n",
    "\n",
    "print 'Entrada'\n",
    "print X\n",
    "print 'kernel'\n",
    "print W\n",
    "print 'Saída'\n",
    "print y\n",
    "\n",
    "import matplotlib.pyplot as plt\n",
    "plt.plot(X.ravel(),y.ravel())\n",
    "plt.ylabel('some numbers')\n",
    "plt.show()"
   ]
  }
 ],
 "metadata": {
  "kernelspec": {
   "display_name": "Python [Root]",
   "language": "python",
   "name": "Python [Root]"
  },
  "language_info": {
   "codemirror_mode": {
    "name": "ipython",
    "version": 2
   },
   "file_extension": ".py",
   "mimetype": "text/x-python",
   "name": "python",
   "nbconvert_exporter": "python",
   "pygments_lexer": "ipython2",
   "version": "2.7.12"
  }
 },
 "nbformat": 4,
 "nbformat_minor": 0
}
