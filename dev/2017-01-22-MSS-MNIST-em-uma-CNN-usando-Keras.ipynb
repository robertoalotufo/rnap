{
 "cells": [
  {
   "cell_type": "markdown",
   "metadata": {},
   "source": [
    "---\n",
    "# MNIST em uma CNN usando Keras\n",
    "---\n",
    "\n",
    "From: https://github.com/fchollet/keras-resources"
   ]
  },
  {
   "cell_type": "markdown",
   "metadata": {},
   "source": [
    "## Trains a simple convnet on the MNIST dataset.\n",
    "\n",
    "Gets to 99.25% test accuracy after 12 epochs (there is still a lot of margin for parameter tuning).\n",
    "\n",
    "16 seconds per epoch on a GRID K520 GPU."
   ]
  },
  {
   "cell_type": "code",
   "execution_count": 1,
   "metadata": {
    "collapsed": false
   },
   "outputs": [
    {
     "name": "stderr",
     "output_type": "stream",
     "text": [
      "ERROR (theano.sandbox.cuda): nvcc compiler not found on $PATH. Check your nvcc installation and try again.\n"
     ]
    }
   ],
   "source": [
    "from __future__ import print_function\n",
    "import numpy as np\n",
    "np.random.seed(1337)  # for reproducibility\n",
    "import os\n",
    "os.environ['THEANO_FLAGS'] = \"device=gpu1,floatX=float32\"    \n",
    "\n",
    "import theano"
   ]
  },
  {
   "cell_type": "markdown",
   "metadata": {},
   "source": [
    "Não está executando na GPU! Precisa ficar ligado porque ele só mostra o warning da primeira vez. Da primeira vez que ocorreu eu tentei mudar o número da GPU e o warning sumiu. Acreditei que havia funcionado, mas não é o caso.\n",
    "\n",
    "WARNING (theano.sandbox.cuda): CUDA is installed, but device gpu1 is not available  (error: Unable to get the number of gpus available: CUDA driver version is insufficient for CUDA runtime version)\n",
    "\n",
    "## Tentando solucionar o problema\n",
    "\n",
    "Página com os pacotes do CUDA e algumas instruções para instalação: https://developer.nvidia.com/cuda-downloads\n",
    "\n",
    "Tentei instalar o CUDA diretamente na máquina do AWS. Segui os seguintes passos:\n",
    "\n",
    "Tentativa com pacote ``.rpm`` tanto local quanto pela rede:\n",
    "\n",
    "``wget <link_download_cuda_8.0>\n",
    "sudo yum clean all\n",
    "sudo yum install cuda``\n",
    "\n",
    "Não funciona, ele reclama de várias bibliotecas faltando e não instala.\n",
    "\n",
    "Tentativa com ``runfile`` local:\n",
    "\n",
    "``sudo yum install -y gcc kernel-devel\n",
    "wget <link_download_cuda_8.0>\n",
    "sudo sh cuda_8.0.44_linux.run``\n",
    "\n",
    "E após isto aceitar o passo a passo da instalação.\n",
    "\n",
    "Parece que instalou corretamente, entretanto não pude instalar os exemplos, por falta de espaço e o erro ao tentar executar o nvidia-docker, para testá-lo (``nvidia-docker run --rm nvidia/cuda nvidia-smi``), mudou, anteriormente ele dizia que não encontrar o nvidia-modprobe e que ele provavelmente não estava instalado.\n",
    "O erro atual é o seguinte: \n",
    "\n",
    "``docker: Error response from daemon: create nvidia_driver_367.48: create nvidia_driver_367.48: Error looking up volume plugin nvidia-docker: plugin not found.``\n",
    "\n",
    "\n",
    "## Problema ainda não solucionado!\n",
    "\n",
    "Pode estar relacionado à versão do Docker no repositório para instalação não ser a mais recente, no que é recomendado desinstalar este docker e instalar o novo através do repositório oficial, seguindo os seguintes passos:\n",
    "\n",
    "``sudo yum install -y yum-utils\n",
    "sudo yum-config-manager \\\n",
    "     --add-repo \\\n",
    "     https://docs.docker.com/engine/installation/linux/repo_files/centos/docker.rep\n",
    "sudo yum-config-manager\n",
    "sudo yum makecache fast\n",
    "sudo yum -y install docker-engine``\n",
    "\n",
    "Entretanto ele dá erro neste último passo e não instala devido à pacotes não encontrados. Dentre outros ele reclama do systemd, que pelo que li não existe (?) para o RHEL (Red Hat Enterprise Linux) 6, mas para o 7 acho que sim.\n",
    "De qualquer forma não sei qual a versão a Amazon usa e se este problema está relacionado, pois parece que a imagem deles é uma mistura do RHEL e do CentOS.\n",
    "\n",
    "Talvez seja mais recomendado usar um Ubuntu padrão ao invés do Linux da Amazon."
   ]
  },
  {
   "cell_type": "code",
   "execution_count": 2,
   "metadata": {
    "collapsed": false
   },
   "outputs": [
    {
     "name": "stderr",
     "output_type": "stream",
     "text": [
      "Using Theano backend.\n"
     ]
    }
   ],
   "source": [
    "from keras.datasets import mnist\n",
    "from keras.models import Sequential\n",
    "from keras.layers import Dense, Dropout, Activation, Flatten\n",
    "from keras.layers import Convolution2D, MaxPooling2D\n",
    "from keras.utils import np_utils\n",
    "from keras import backend as K"
   ]
  },
  {
   "cell_type": "code",
   "execution_count": 3,
   "metadata": {
    "collapsed": true
   },
   "outputs": [],
   "source": [
    "batch_size = 128\n",
    "nb_classes = 10\n",
    "nb_epoch = 12\n",
    "\n",
    "# input image dimensions\n",
    "img_rows, img_cols = 28, 28\n",
    "# number of convolutional filters to use\n",
    "nb_filters = 32\n",
    "# size of pooling area for max pooling\n",
    "pool_size = (2, 2)\n",
    "# convolution kernel size\n",
    "kernel_size = (3, 3)"
   ]
  },
  {
   "cell_type": "code",
   "execution_count": 4,
   "metadata": {
    "collapsed": false
   },
   "outputs": [],
   "source": [
    "# the data, shuffled and split between train and test sets\n",
    "(X_train, y_train), (X_test, y_test) = mnist.load_data()\n",
    "\n",
    "if K.image_dim_ordering() == 'th':\n",
    "    X_train = X_train.reshape(X_train.shape[0], 1, img_rows, img_cols)\n",
    "    X_test = X_test.reshape(X_test.shape[0], 1, img_rows, img_cols)\n",
    "    input_shape = (1, img_rows, img_cols)\n",
    "else:\n",
    "    X_train = X_train.reshape(X_train.shape[0], img_rows, img_cols, 1)\n",
    "    X_test = X_test.reshape(X_test.shape[0], img_rows, img_cols, 1)\n",
    "    input_shape = (img_rows, img_cols, 1)"
   ]
  },
  {
   "cell_type": "code",
   "execution_count": 5,
   "metadata": {
    "collapsed": false
   },
   "outputs": [
    {
     "name": "stdout",
     "output_type": "stream",
     "text": [
      "X_train shape: (60000, 1, 28, 28)\n",
      "60000 train samples\n",
      "10000 test samples\n"
     ]
    }
   ],
   "source": [
    "X_train = X_train.astype('float32')\n",
    "X_test = X_test.astype('float32')\n",
    "X_train /= 255\n",
    "X_test /= 255\n",
    "print('X_train shape:', X_train.shape)\n",
    "print(X_train.shape[0], 'train samples')\n",
    "print(X_test.shape[0], 'test samples')"
   ]
  },
  {
   "cell_type": "code",
   "execution_count": 6,
   "metadata": {
    "collapsed": true
   },
   "outputs": [],
   "source": [
    "# convert class vectors to binary class matrices\n",
    "Y_train = np_utils.to_categorical(y_train, nb_classes)\n",
    "Y_test = np_utils.to_categorical(y_test, nb_classes)"
   ]
  },
  {
   "cell_type": "markdown",
   "metadata": {},
   "source": [
    "## Criação do modelo da rede neural convolucional"
   ]
  },
  {
   "cell_type": "code",
   "execution_count": 9,
   "metadata": {
    "collapsed": true
   },
   "outputs": [],
   "source": [
    "model = Sequential()\n",
    "\n",
    "model.add(Convolution2D(nb_filters, kernel_size[0], kernel_size[1],\n",
    "                        border_mode='valid',\n",
    "                        input_shape=input_shape))\n",
    "model.add(Activation('relu'))\n",
    "model.add(Convolution2D(nb_filters, kernel_size[0], kernel_size[1]))\n",
    "model.add(Activation('relu'))\n",
    "model.add(MaxPooling2D(pool_size=pool_size))\n",
    "model.add(Dropout(0.25))\n",
    "\n",
    "model.add(Flatten())\n",
    "model.add(Dense(128))\n",
    "model.add(Activation('relu'))\n",
    "model.add(Dropout(0.5))\n",
    "model.add(Dense(nb_classes))\n",
    "model.add(Activation('softmax'))\n",
    "\n",
    "model.compile(loss='categorical_crossentropy',\n",
    "              optimizer='adadelta',\n",
    "              metrics=['accuracy'])"
   ]
  },
  {
   "cell_type": "markdown",
   "metadata": {},
   "source": [
    "## Treinando o modelo com o conjunto de treino separado"
   ]
  },
  {
   "cell_type": "code",
   "execution_count": null,
   "metadata": {
    "collapsed": false
   },
   "outputs": [
    {
     "name": "stdout",
     "output_type": "stream",
     "text": [
      "Train on 60000 samples, validate on 10000 samples\n",
      "Epoch 1/12\n",
      "60000/60000 [==============================] - 116s - loss: 0.3898 - acc: 0.8816 - val_loss: 0.0991 - val_acc: 0.9699\n",
      "Epoch 2/12\n",
      "60000/60000 [==============================] - 116s - loss: 0.1412 - acc: 0.9581 - val_loss: 0.0639 - val_acc: 0.9799\n",
      "Epoch 3/12\n",
      "60000/60000 [==============================] - 121s - loss: 0.1041 - acc: 0.9693 - val_loss: 0.0512 - val_acc: 0.9834\n",
      "Epoch 4/12\n",
      "49408/60000 [=======================>......] - ETA: 19s - loss: 0.0920 - acc: 0.9727"
     ]
    }
   ],
   "source": [
    "model.fit(X_train, Y_train, batch_size=batch_size, nb_epoch=nb_epoch,\n",
    "          verbose=1, validation_data=(X_test, Y_test))"
   ]
  },
  {
   "cell_type": "markdown",
   "metadata": {},
   "source": [
    "## Testando a acurácia do modelo com o conjunto de teste separado"
   ]
  },
  {
   "cell_type": "code",
   "execution_count": null,
   "metadata": {
    "collapsed": true
   },
   "outputs": [],
   "source": [
    "score = model.evaluate(X_test, Y_test, verbose=0)\n",
    "print('Test score:', score[0])\n",
    "print('Test accuracy:', score[1])"
   ]
  },
  {
   "cell_type": "code",
   "execution_count": null,
   "metadata": {
    "collapsed": true
   },
   "outputs": [],
   "source": []
  },
  {
   "cell_type": "code",
   "execution_count": null,
   "metadata": {
    "collapsed": true
   },
   "outputs": [],
   "source": []
  }
 ],
 "metadata": {
  "anaconda-cloud": {},
  "kernelspec": {
   "display_name": "Python [Root]",
   "language": "python",
   "name": "Python [Root]"
  },
  "language_info": {
   "codemirror_mode": {
    "name": "ipython",
    "version": 3
   },
   "file_extension": ".py",
   "mimetype": "text/x-python",
   "name": "python",
   "nbconvert_exporter": "python",
   "pygments_lexer": "ipython3",
   "version": "3.5.1"
  }
 },
 "nbformat": 4,
 "nbformat_minor": 0
}
