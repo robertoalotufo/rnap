{
 "cells": [
  {
   "cell_type": "code",
   "execution_count": 2,
   "metadata": {
    "collapsed": true
   },
   "outputs": [],
   "source": [
    "import os\n",
    "os.environ['KERAS_BACKEND'] = 'theano'\n",
    "os.environ['THEANO_FLAGS'] = 'mode=FAST_RUN,device=gpu0,floatX=float32'\n",
    "# os.environ['THEANO_FLAGS'] = 'mode=FAST_RUN,device=cpu,floatX=float32'"
   ]
  },
  {
   "cell_type": "code",
   "execution_count": 3,
   "metadata": {
    "collapsed": false
   },
   "outputs": [
    {
     "name": "stderr",
     "output_type": "stream",
     "text": [
      "Using gpu device 0: Tesla C2050 (CNMeM is disabled, cuDNN not available)\n",
      "Using Theano backend.\n"
     ]
    },
    {
     "name": "stdout",
     "output_type": "stream",
     "text": [
      "Keras  1.2.1\n",
      "Theano 0.8.2\n",
      "OpenCV 2.4.10\n",
      "Numpy  1.10.4\n"
     ]
    }
   ],
   "source": [
    "%matplotlib inline\n",
    "import matplotlib.pyplot as plot\n",
    "from IPython import display\n",
    "\n",
    "import time\n",
    "import numpy as np\n",
    "import argparse\n",
    "import cv2\n",
    "\n",
    "import theano\n",
    "import keras\n",
    "from keras.models import Sequential\n",
    "from keras.layers.convolutional import Convolution2D\n",
    "from keras.layers.convolutional import MaxPooling2D\n",
    "from keras.layers.core import Activation\n",
    "from keras.layers.core import Flatten\n",
    "from keras.layers.core import Dense\n",
    "from keras.layers.core import Dropout\n",
    "\n",
    "from keras.optimizers import SGD, RMSprop\n",
    "from keras.callbacks import Callback\n",
    "from keras.callbacks import History\n",
    "from keras.callbacks import ModelCheckpoint\n",
    "from keras.callbacks import EarlyStopping\n",
    "from keras.callbacks import LearningRateScheduler\n",
    "from keras.utils import np_utils\n",
    "from sklearn.cross_validation import train_test_split\n",
    "from sklearn import datasets\n",
    "\n",
    "print 'Keras ', keras.__version__\n",
    "print 'Theano', theano.__version__\n",
    "print 'OpenCV', cv2.__version__\n",
    "print 'Numpy ', np.__version__"
   ]
  },
  {
   "cell_type": "code",
   "execution_count": 4,
   "metadata": {
    "collapsed": false
   },
   "outputs": [
    {
     "name": "stdout",
     "output_type": "stream",
     "text": [
      "(60000, 1, 28, 28) (10000, 1, 28, 28)\n",
      "(60000, 10) (10000, 10)\n"
     ]
    }
   ],
   "source": [
    "from keras.datasets import mnist\n",
    "from my_keras_utilities import (load_model_and_history, \n",
    "                                save_model_and_history, \n",
    "                                TrainingPlotter)\n",
    "\n",
    "(X_train, y_train), (X_test, y_test) = mnist.load_data()\n",
    "\n",
    "X_train = X_train.reshape(-1, 1, 28, 28) / 255.0\n",
    "X_test = X_test.reshape(-1, 1, 28, 28) / 255.0\n",
    "\n",
    "y_train = np_utils.to_categorical(y_train, 10)\n",
    "y_test = np_utils.to_categorical(y_test, 10)\n",
    "\n",
    "print X_train.shape, X_test.shape\n",
    "print y_train.shape, y_test.shape"
   ]
  },
  {
   "cell_type": "markdown",
   "metadata": {},
   "source": [
    "## Carregando nosso modelo pre-treinado"
   ]
  },
  {
   "cell_type": "code",
   "execution_count": 5,
   "metadata": {
    "collapsed": false
   },
   "outputs": [
    {
     "name": "stdout",
     "output_type": "stream",
     "text": [
      "[INFO] loading model...\n",
      "[INFO] evaluating...\n",
      " 9984/10000 [============================>.] - ETA: 0s[INFO] accuracy: 99.34%\n"
     ]
    }
   ],
   "source": [
    "print(\"[INFO] loading model...\")\n",
    "model_name = './keras_lenet_1'\n",
    "model_A, histo_A = load_model_and_history(model_name)\n",
    "\n",
    "print(\"[INFO] evaluating...\")\n",
    "loss, accuracy = model_A.evaluate(X_test, y_test, batch_size=128, verbose=1)\n",
    "print(\"[INFO] accuracy: {:.2f}%\".format(accuracy * 100))"
   ]
  },
  {
   "cell_type": "markdown",
   "metadata": {},
   "source": [
    "## Modelo totalmente convolucional equivalente\n",
    "\n",
    "O modelo seguinte é todo ele convolucional."
   ]
  },
  {
   "cell_type": "code",
   "execution_count": 6,
   "metadata": {
    "collapsed": false
   },
   "outputs": [
    {
     "name": "stdout",
     "output_type": "stream",
     "text": [
      "____________________________________________________________________________________________________\n",
      "Layer (type)                     Output Shape          Param #     Connected to                     \n",
      "====================================================================================================\n",
      "convolution2d_1 (Convolution2D)  (128, 20, None, None) 520         convolution2d_input_2[0][0]      \n",
      "____________________________________________________________________________________________________\n",
      "activation_1 (Activation)        (128, 20, None, None) 0           convolution2d_1[0][0]            \n",
      "____________________________________________________________________________________________________\n",
      "maxpooling2d_1 (MaxPooling2D)    (128, 20, None, None) 0           activation_1[0][0]               \n",
      "____________________________________________________________________________________________________\n",
      "convolution2d_2 (Convolution2D)  (128, 50, None, None) 25050       maxpooling2d_1[0][0]             \n",
      "____________________________________________________________________________________________________\n",
      "activation_2 (Activation)        (128, 50, None, None) 0           convolution2d_2[0][0]            \n",
      "____________________________________________________________________________________________________\n",
      "maxpooling2d_2 (MaxPooling2D)    (128, 50, None, None) 0           activation_2[0][0]               \n",
      "____________________________________________________________________________________________________\n",
      "convolution2d_3 (Convolution2D)  (128, 500, None, None 1225500     maxpooling2d_2[0][0]             \n",
      "____________________________________________________________________________________________________\n",
      "activation_3 (Activation)        (128, 500, None, None 0           convolution2d_3[0][0]            \n",
      "____________________________________________________________________________________________________\n",
      "convolution2d_4 (Convolution2D)  (128, 10, None, None) 5010        activation_3[0][0]               \n",
      "====================================================================================================\n",
      "Total params: 1,256,080\n",
      "Trainable params: 1,256,080\n",
      "Non-trainable params: 0\n",
      "____________________________________________________________________________________________________\n"
     ]
    }
   ],
   "source": [
    "model_name = './keras_lenet_fullconv'\n",
    "\n",
    "class LeNet:\n",
    "    @staticmethod\n",
    "    def build():\n",
    "        model = Sequential()\n",
    "        \n",
    "        model.add(Convolution2D(20, 5, 5, border_mode=\"same\", \n",
    "                                batch_input_shape=(128, 1, None, None)))\n",
    "        model.add(Activation(\"relu\"))\n",
    "        model.add(MaxPooling2D(pool_size=(2, 2), strides=(2, 2)))\n",
    "        \n",
    "        model.add(Convolution2D(50, 5, 5, border_mode=\"same\"))\n",
    "        model.add(Activation(\"relu\"))\n",
    "        model.add(MaxPooling2D(pool_size=(2, 2), strides=(2, 2)))\n",
    "        \n",
    "        model.add(Convolution2D(500, 7, 7, border_mode=\"valid\"))        \n",
    "        model.add(Activation(\"relu\"))\n",
    "\n",
    "        model.add(Convolution2D(10, 1, 1, border_mode=\"valid\"))        \n",
    "\n",
    "        return model\n",
    "\n",
    "model_B = LeNet.build()\n",
    "model_B.summary()"
   ]
  },
  {
   "cell_type": "markdown",
   "metadata": {},
   "source": [
    "## Ajustando os pesos do modelo todo convolucional"
   ]
  },
  {
   "cell_type": "code",
   "execution_count": 7,
   "metadata": {
    "collapsed": false
   },
   "outputs": [],
   "source": [
    "W_all_A = model_A.get_weights()\n",
    "\n",
    "W_all_B = [\n",
    "    W_all_A[0],\n",
    "    W_all_A[1],\n",
    "    W_all_A[2],\n",
    "    W_all_A[3],\n",
    "    W_all_A[4].T.reshape(500, 50, 7, 7)[:, :, ::-1, ::-1],\n",
    "    W_all_A[5],\n",
    "    W_all_A[6].T.reshape(10, 500, 1, 1)[:, :, ::-1, ::-1],\n",
    "    W_all_A[7],\n",
    "]\n",
    "model_B.set_weights(W_all_B)\n",
    "\n",
    "model_B.compile(optimizer='sgd', loss=\"categorical_crossentropy\")\n"
   ]
  },
  {
   "cell_type": "markdown",
   "metadata": {},
   "source": [
    "## Verificando a performance"
   ]
  },
  {
   "cell_type": "code",
   "execution_count": 8,
   "metadata": {
    "collapsed": false
   },
   "outputs": [
    {
     "name": "stdout",
     "output_type": "stream",
     "text": [
      "(1, 10, 1, 1)\n"
     ]
    }
   ],
   "source": [
    "pp = model_B.predict(X_test[:1])\n",
    "print pp.shape"
   ]
  },
  {
   "cell_type": "code",
   "execution_count": 15,
   "metadata": {
    "collapsed": false
   },
   "outputs": [
    {
     "name": "stdout",
     "output_type": "stream",
     "text": [
      "112 56\n",
      "144 148\n",
      "108 4\n",
      "164 40\n",
      "76 12\n"
     ]
    },
    {
     "data": {
      "text/plain": [
       "<matplotlib.image.AxesImage at 0x7fcd072f5c10>"
      ]
     },
     "execution_count": 15,
     "metadata": {},
     "output_type": "execute_result"
    },
    {
     "data": {
      "image/png": "[encoded data removed]",
      "text/plain": [
       "<matplotlib.figure.Figure at 0x7fcd09badd50>"
      ]
     },
     "metadata": {},
     "output_type": "display_data"
    }
   ],
   "source": [
    "N = 5\n",
    "char_index = np.random.choice(X_test.shape[0], N, replace=False)\n",
    "char_img = [img.reshape(28,28) for img in (255*X_test).astype(np.uint8)[char_index]]\n",
    "\n",
    "image = np.zeros((200, 200), np.uint8)\n",
    "for k, (i, j) in enumerate(np.random.choice((200-28)/4, (N, 2), replace=False)):\n",
    "    i, j = i*4, j*4\n",
    "    print i, j\n",
    "    image[i:i+28, j:j+28] = np.maximum(image[i:i+28, j:j+28], char_img[k])\n",
    "    \n",
    "plot.imshow(image, cmap=plot.cm.gray)"
   ]
  },
  {
   "cell_type": "code",
   "execution_count": 16,
   "metadata": {
    "collapsed": false,
    "scrolled": false
   },
   "outputs": [
    {
     "name": "stdout",
     "output_type": "stream",
     "text": [
      "(10, 44, 44)\n",
      "(44, 44, 10)\n",
      "............................................\n",
      "............................................\n",
      "............................................\n",
      "............................................\n",
      "............................................\n",
      "............................................\n",
      "............................................\n",
      "............................................\n",
      "............................................\n",
      "............................................\n",
      "............................................\n",
      "............................................\n",
      "............................................\n",
      "............................................\n",
      "............................................\n",
      "............................................\n",
      "............................................\n",
      "............................................\n",
      "............................................\n",
      "..99........................................\n",
      "............................................\n",
      "............................................\n",
      "..4.........................................\n",
      "............................................\n",
      "............................................\n",
      "............................................\n",
      "2...........................................\n",
      "4444........5.2.............................\n",
      "44..........6222............................\n",
      ".................4..........................\n",
      "............5...7...........................\n",
      "............................................\n",
      "............................................\n",
      "............................................\n",
      "............................................\n",
      "............................................\n",
      "...................................222......\n",
      "...................................2........\n",
      ".............3..............................\n",
      "...........2.....................5555.777...\n",
      "..........333...............................\n",
      "..........33................................\n",
      ".........2..2...............................\n",
      ".............7..............................\n"
     ]
    }
   ],
   "source": [
    "def softmax(Z):\n",
    "    EZ = np.exp(Z)\n",
    "    S = EZ / EZ.sum(axis=-1,keepdims=True)\n",
    "    return S\n",
    "\n",
    "pp = model_B.predict(image.astype(np.float32).reshape(1, 1, 200, 200)/255.0)[0]\n",
    "print pp.shape\n",
    "ppt = pp.transpose(1, 2, 0)\n",
    "print ppt.shape\n",
    "sm = softmax(ppt)\n",
    "sm = np.where(sm > 0.99, sm, 0)\n",
    "sm = np.argmax(sm, axis=-1)\n",
    "for i in range(44):\n",
    "    str = []\n",
    "    for j in range(44):\n",
    "        if sm[i,j] == 0:\n",
    "            str.append('.')\n",
    "        else:\n",
    "            str.append('{}'.format(sm[i,j]))\n",
    "    print ''.join(str)\n"
   ]
  },
  {
   "cell_type": "code",
   "execution_count": null,
   "metadata": {
    "collapsed": true
   },
   "outputs": [],
   "source": []
  }
 ],
 "metadata": {
  "anaconda-cloud": {},
  "kernelspec": {
   "display_name": "Python [Root]",
   "language": "python",
   "name": "Python [Root]"
  },
  "language_info": {
   "codemirror_mode": {
    "name": "ipython",
    "version": 2
   },
   "file_extension": ".py",
   "mimetype": "text/x-python",
   "name": "python",
   "nbconvert_exporter": "python",
   "pygments_lexer": "ipython2",
   "version": "2.7.12"
  }
 },
 "nbformat": 4,
 "nbformat_minor": 0
}
