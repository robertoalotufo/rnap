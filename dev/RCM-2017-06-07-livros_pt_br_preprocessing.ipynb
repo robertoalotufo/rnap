{
 "cells": [
  {
   "cell_type": "code",
   "execution_count": 57,
   "metadata": {
    "collapsed": true
   },
   "outputs": [],
   "source": [
    "%matplotlib inline\n",
    "import matplotlib.pyplot as plot\n",
    "from IPython import display\n",
    "from __future__ import print_function\n",
    "\n",
    "import os\n",
    "import re\n",
    "import sys\n",
    "import numpy as np\n",
    "import numpy.random as nr\n",
    "\n",
    "os.makedirs('../../datasets/livros', exist_ok=True)"
   ]
  },
  {
   "cell_type": "code",
   "execution_count": 58,
   "metadata": {
    "collapsed": false
   },
   "outputs": [
    {
     "name": "stdout",
     "output_type": "stream",
     "text": [
      "\u001b[34mÉrico Veríssimo\u001b[m\u001b[m     \u001b[34mGuimarães Rosa\u001b[m\u001b[m      \u001b[34mMachado de Assis\u001b[m\u001b[m\r\n",
      "\u001b[34mFernando Sabino\u001b[m\u001b[m     \u001b[34mJorge Amado\u001b[m\u001b[m\r\n"
     ]
    }
   ],
   "source": [
    "dst_data_dir = '../../datasets/livros/'\n",
    "src_data_dir = '../../../../Development/Datasets/Livros_pt_br/'\n",
    "!ls ../../../../Development/Datasets/Livros_pt_br/\n"
   ]
  },
  {
   "cell_type": "code",
   "execution_count": 59,
   "metadata": {
    "collapsed": false,
    "scrolled": false
   },
   "outputs": [
    {
     "data": {
      "text/plain": [
       "427711"
      ]
     },
     "execution_count": 59,
     "metadata": {},
     "output_type": "execute_result"
    }
   ],
   "source": [
    "book = 'Jorge Amado/Capitães de Areia.txt'\n",
    "texto = open(src_data_dir + book, 'r').read()\n",
    "texto = re.sub('(\\n\\n\\n\\*\\*\\*+ Page \\d+\\*+\\n\\n)', '', texto)\n",
    "open(dst_data_dir + book.replace(' ', '_').replace('/', '__'), 'w').write(texto)\n",
    "# print(texto[:5000])"
   ]
  },
  {
   "cell_type": "code",
   "execution_count": 60,
   "metadata": {
    "collapsed": false
   },
   "outputs": [
    {
     "data": {
      "text/plain": [
       "828417"
      ]
     },
     "execution_count": 60,
     "metadata": {},
     "output_type": "execute_result"
    }
   ],
   "source": [
    "book = 'Jorge Amado/Gabriela.txt'\n",
    "texto = open(src_data_dir + book, 'r').read()\n",
    "texto = re.sub('(\\n\\n\\n\\*\\*\\*+ Page \\d+\\*+\\n\\n)', '', texto)\n",
    "texto = re.sub('(\\n  Pág\\.\\d+ \\n)', '', texto)\n",
    "open(dst_data_dir + book.replace(' ', '_').replace('/', '__'), 'w').write(texto)\n",
    "# print(texto[:5000])"
   ]
  },
  {
   "cell_type": "code",
   "execution_count": 72,
   "metadata": {
    "collapsed": false
   },
   "outputs": [
    {
     "data": {
      "text/plain": [
       "1030735"
      ]
     },
     "execution_count": 72,
     "metadata": {},
     "output_type": "execute_result"
    }
   ],
   "source": [
    "book = 'Jorge Amado/Dona flor seus dois maridos.txt'\n",
    "texto = open(src_data_dir + book, 'r').read()\n",
    "texto = re.sub('(\\n\\n\\n\\*\\*\\*+ Page \\d+\\*+\\n\\n)', '', texto)\n",
    "texto = re.sub('(\\n  Pág\\.\\d+ \\n)', '', texto)\n",
    "open(dst_data_dir + book.replace(' ', '_').replace('/', '__'), 'w').write(texto)\n",
    "# print(texto[:5000])"
   ]
  },
  {
   "cell_type": "code",
   "execution_count": 61,
   "metadata": {
    "collapsed": false
   },
   "outputs": [
    {
     "data": {
      "text/plain": [
       "1001226"
      ]
     },
     "execution_count": 61,
     "metadata": {},
     "output_type": "execute_result"
    }
   ],
   "source": [
    "book = 'Jorge Amado/Tereza Batista Cansada de Guerra.txt'\n",
    "texto = open(src_data_dir + book, 'r').read()\n",
    "texto = re.sub('(\\n\\n\\n\\*\\*\\*+ Page \\d+\\*+\\n\\n)', '', texto)\n",
    "open(dst_data_dir + book.replace(' ', '_').replace('/', '__'), 'w').write(texto)\n",
    "# print(texto[:5000])"
   ]
  },
  {
   "cell_type": "code",
   "execution_count": 65,
   "metadata": {
    "collapsed": false
   },
   "outputs": [
    {
     "data": {
      "text/plain": [
       "353713"
      ]
     },
     "execution_count": 65,
     "metadata": {},
     "output_type": "execute_result"
    }
   ],
   "source": [
    "book = 'Machado de Assis/Memórias Póstumas de Brás Cubas.txt'\n",
    "texto = open(src_data_dir + book, 'r', encoding='latin-1').read()\n",
    "open(dst_data_dir + book.replace(' ', '_').replace('/', '__'), 'w').write(texto)\n",
    "# print(texto[:5000])"
   ]
  },
  {
   "cell_type": "code",
   "execution_count": 68,
   "metadata": {
    "collapsed": false
   },
   "outputs": [
    {
     "data": {
      "text/plain": [
       "373300"
      ]
     },
     "execution_count": 68,
     "metadata": {},
     "output_type": "execute_result"
    }
   ],
   "source": [
    "book = 'Machado de Assis/Dom Casmurro.txt'\n",
    "texto = open(src_data_dir + book, 'r', encoding='latin-1').read()\n",
    "open(dst_data_dir + book.replace(' ', '_').replace('/', '__'), 'w').write(texto)\n",
    "# print(texto[:5000])"
   ]
  },
  {
   "cell_type": "code",
   "execution_count": 69,
   "metadata": {
    "collapsed": false
   },
   "outputs": [
    {
     "data": {
      "text/plain": [
       "445193"
      ]
     },
     "execution_count": 69,
     "metadata": {},
     "output_type": "execute_result"
    }
   ],
   "source": [
    "book = 'Machado de Assis/Quincas Borba.txt'\n",
    "texto = open(src_data_dir + book, 'r', encoding='latin-1').read()\n",
    "open(dst_data_dir + book.replace(' ', '_').replace('/', '__'), 'w').write(texto)\n",
    "# print(texto[:5000])"
   ]
  },
  {
   "cell_type": "code",
   "execution_count": 71,
   "metadata": {
    "collapsed": false,
    "scrolled": false
   },
   "outputs": [
    {
     "data": {
      "text/plain": [
       "411870"
      ]
     },
     "execution_count": 71,
     "metadata": {},
     "output_type": "execute_result"
    }
   ],
   "source": [
    "book = 'Machado de Assis/Esaú e Jacó.txt'\n",
    "texto = open(src_data_dir + book, 'r', encoding='latin-1').read()\n",
    "open(dst_data_dir + book.replace(' ', '_').replace('/', '__'), 'w').write(texto)\n",
    "# print(texto[:5000])"
   ]
  },
  {
   "cell_type": "code",
   "execution_count": 77,
   "metadata": {
    "collapsed": false
   },
   "outputs": [
    {
     "data": {
      "text/plain": [
       "511681"
      ]
     },
     "execution_count": 77,
     "metadata": {},
     "output_type": "execute_result"
    }
   ],
   "source": [
    "book = 'Fernando Sabino/O Encontro Marcado.txt'\n",
    "texto = open(src_data_dir + book, 'r').read()\n",
    "texto = re.sub('(\\n\\n\\n\\*\\*\\*+ Page \\d+\\*+\\n\\n)', '', texto)\n",
    "texto = re.sub('(\\n\\n)', '\\n', texto)\n",
    "open(dst_data_dir + book.replace(' ', '_').replace('/', '__'), 'w').write(texto)\n",
    "# print(texto[:5000])"
   ]
  },
  {
   "cell_type": "code",
   "execution_count": 83,
   "metadata": {
    "collapsed": false
   },
   "outputs": [
    {
     "data": {
      "text/plain": [
       "328288"
      ]
     },
     "execution_count": 83,
     "metadata": {},
     "output_type": "execute_result"
    }
   ],
   "source": [
    "book = 'Fernando Sabino/O Grande Mentecapto.txt'\n",
    "texto = open(src_data_dir + book, 'r').read()\n",
    "texto = re.sub('(\\n\\n\\n\\*\\*\\*+ Page \\d+\\*+\\n\\n)', '', texto)\n",
    "texto = re.sub('(\\n\\n)', '\\n', texto)\n",
    "open(dst_data_dir + book.replace(' ', '_').replace('/', '__'), 'w').write(texto)\n",
    "# print(texto[:5000])"
   ]
  },
  {
   "cell_type": "code",
   "execution_count": 85,
   "metadata": {
    "collapsed": false
   },
   "outputs": [
    {
     "data": {
      "text/plain": [
       "180313"
      ]
     },
     "execution_count": 85,
     "metadata": {},
     "output_type": "execute_result"
    }
   ],
   "source": [
    "book = 'Fernando Sabino/O Menino no Espelho.txt'\n",
    "texto = open(src_data_dir + book, 'r').read()\n",
    "texto = re.sub('(\\n\\n\\n\\*\\*\\*+ Page \\d+\\*+\\n\\n)', '', texto)\n",
    "texto = re.sub('(\\n\\n)', '\\n', texto)\n",
    "open(dst_data_dir + book.replace(' ', '_').replace('/', '__'), 'w').write(texto)\n",
    "# print(texto[:5000])"
   ]
  },
  {
   "cell_type": "code",
   "execution_count": 86,
   "metadata": {
    "collapsed": false
   },
   "outputs": [
    {
     "data": {
      "text/plain": [
       "87788"
      ]
     },
     "execution_count": 86,
     "metadata": {},
     "output_type": "execute_result"
    }
   ],
   "source": [
    "book = 'Fernando Sabino/O Bom Ladrão.txt'\n",
    "texto = open(src_data_dir + book, 'r').read()\n",
    "texto = re.sub('(\\n\\n\\n\\*\\*\\*+ Page \\d+\\*+\\n\\n)', '', texto)\n",
    "texto = re.sub('(\\n\\n)', '\\n', texto)\n",
    "open(dst_data_dir + book.replace(' ', '_').replace('/', '__'), 'w').write(texto)\n",
    "# print(texto[:5000])"
   ]
  },
  {
   "cell_type": "code",
   "execution_count": null,
   "metadata": {
    "collapsed": true
   },
   "outputs": [],
   "source": []
  }
 ],
 "metadata": {
  "kernelspec": {
   "display_name": "Python 3",
   "language": "python",
   "name": "python3"
  },
  "language_info": {
   "codemirror_mode": {
    "name": "ipython",
    "version": 3
   },
   "file_extension": ".py",
   "mimetype": "text/x-python",
   "name": "python",
   "nbconvert_exporter": "python",
   "pygments_lexer": "ipython3",
   "version": "3.6.0"
  },
  "latex_envs": {
   "LaTeX_envs_menu_present": true,
   "autocomplete": true,
   "bibliofile": "biblio.bib",
   "cite_by": "apalike",
   "current_citInitial": 1,
   "eqLabelWithNumbers": true,
   "eqNumInitial": 1,
   "hotkeys": {
    "equation": "Ctrl-E",
    "itemize": "Ctrl-I"
   },
   "labels_anchors": false,
   "latex_user_defs": false,
   "report_style_numbering": false,
   "user_envs_cfg": false
  },
  "toc": {
   "colors": {
    "hover_highlight": "#DAA520",
    "navigate_num": "#000000",
    "navigate_text": "#333333",
    "running_highlight": "#FF0000",
    "selected_highlight": "#FFD700",
    "sidebar_border": "#EEEEEE",
    "wrapper_background": "#FFFFFF"
   },
   "moveMenuLeft": true,
   "nav_menu": {
    "height": "12px",
    "width": "252px"
   },
   "navigate_menu": true,
   "number_sections": true,
   "sideBar": true,
   "threshold": 4,
   "toc_cell": false,
   "toc_section_display": "block",
   "toc_window_display": false,
   "widenNotebook": false
  }
 },
 "nbformat": 4,
 "nbformat_minor": 2
}
