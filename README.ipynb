{
 "cells": [
  {
   "cell_type": "markdown",
   "metadata": {},
   "source": [
    "https://.ddns.net/jupyterhub\n",
    "\n",
    "**login:**\n",
    "    - username\n",
    "    - password: username@rnap.neuralmind\n",
    "\n",
    "**Configurar Jupyterhub:**\n",
    "\n",
    "- Nbextensions:\n",
    "    - collapsible header\n",
    "    - table of contents\n",
    "    - hinterland\n",
    "\n",
    "- Cópia do material do curso\n",
    "    - abrir terminal (new terminal)\n",
    "    - no terminal:\n",
    "        - `cp -r /home/lotufo/rnap-cs .`\n"
   ]
  },
  {
   "cell_type": "code",
   "execution_count": null,
   "metadata": {},
   "outputs": [],
   "source": []
  }
 ],
 "metadata": {
  "kernelspec": {
   "display_name": "Python 3",
   "language": "python",
   "name": "python3"
  },
  "language_info": {
   "codemirror_mode": {
    "name": "ipython",
    "version": 3
   },
   "file_extension": ".py",
   "mimetype": "text/x-python",
   "name": "python",
   "nbconvert_exporter": "python",
   "pygments_lexer": "ipython3",
   "version": "3.6.1"
  },
  "toc": {
   "nav_menu": {},
   "number_sections": true,
   "sideBar": true,
   "skip_h1_title": false,
   "toc_cell": false,
   "toc_position": {},
   "toc_section_display": "block",
   "toc_window_display": false
  }
 },
 "nbformat": 4,
 "nbformat_minor": 2
}
