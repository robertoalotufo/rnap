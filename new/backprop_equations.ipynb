{
 "cells": [
  {
   "cell_type": "markdown",
   "metadata": {},
   "source": [
    "## Equações\n",
    "### Backpropagation\n",
    "----\n",
    "\n",
    "Para a última camada, temos:\n",
    "\n",
    "$$\\frac{\\partial J}{\\partial w_{ij}^{(L)}} = \\frac{\\partial J}{\\partial a_i^{(L)}} \\cdot \\frac{\\partial a_i^{(L)}}{\\partial z_i^{(L)}} \\cdot \\frac{\\partial z_i^{(L)}}{\\partial w_{ij}^{(L)}}$$\n",
    "\n",
    "$$\\frac{\\partial z_i^{(L)}}{\\partial w_{ij}^{(L)}} = a_j^{(L-1)}$$\n",
    "\n",
    "$$\\delta_i^{(L)} = \\frac{\\partial J}{\\partial a_i^{(L)}} \\cdot \\frac{\\partial a_i^{(L)}}{\\partial z_i^{(L)}}$$\n",
    "\n",
    "$$\\frac{\\partial J}{\\partial w_{ij}^{(L)}} = \\delta_i^{(L)} \\cdot a_j^{(L-1)}$$\n",
    "\n",
    "Passando para a próxima camada:\n",
    "\n",
    "$$\\frac{\\partial J}{\\partial w_{ij}^{(L-1)}} = \\frac{\\partial J}{\\partial a_i^{(L)}} \\cdot \\frac{\\partial a_i^{(L)}}{\\partial z_i^{(L)}} \\cdot \\frac{\\partial z_i^{(L)}}{\\partial a_i^{(L-1)}}  \\cdot \\frac{\\partial a_i^{(L-1)}}{\\partial z_i^{(L-1)}} \\cdot \\frac{\\partial z_i^{(L-1)}}{\\partial w_{ij}^{(L-1)}}$$\n",
    "\n",
    "$$\\frac{\\partial J}{\\partial w_{ij}^{(L-1)}} = \\delta_i^{(L)} \\cdot \\frac{\\partial z_i^{(L)}}{\\partial a_i^{(L-1)}} \\cdot \\frac{\\partial a_i^{(L-1)}}{\\partial z_i^{(L-1)}} \\cdot \\frac{\\partial z_i^{(L-1)}}{\\partial w_{ij}^{(L-1)}}$$\n",
    "\n",
    "\n",
    "------\n",
    "\n",
    "Para a regressão linear, temos:\n",
    "\n",
    "$$J = \\frac{1}{2} \\sum_{k}^{} (\\hat{y}_k - y_k)^2  \\Rightarrow   \\frac{\\partial J}{\\partial a_i} = a_i - y_i$$ \n",
    "$$a_i = z_i \\Rightarrow \\frac{\\partial a_i}{\\partial z_i} = 1$$\n",
    "\n",
    "Para a regressão logística:\n",
    "\n",
    "$$J = -  \\sum_{k}^{} (y_k \\log{\\hat{y}_k} + (1 - y_k) \\log{(1 - \\hat{y}_k)}) \\Rightarrow \\frac{\\partial J}{\\partial a_i} = \\frac{a_i - y_i}{a_i (1 - a_i)}$$ \n",
    "$$a_i = \\frac{1}{1 + e^{-z_i}} \\Rightarrow \\frac{\\partial a_i}{\\partial z_i} = a_i (1 - a_i)$$\n",
    "\n",
    "Enfim:\n",
    "\n",
    "$$\\delta = a_i - y_i  \\Rightarrow  \\frac{\\partial J}{\\partial w_{ij}} = \\delta x_j$$\n"
   ]
  },
  {
   "cell_type": "markdown",
   "metadata": {},
   "source": [
    "### Propagação para trás\n",
    "\n",
    "---- \n",
    "\\begin{align*} \n",
    "\\frac{\\partial J}{\\partial W^{(L)}} & = \\frac{\\partial J}{\\partial z^{(L)}} \\cdot \\frac{\\partial z^{(L)}}{\\partial W^{(L)}} \\\\\n",
    "\\\\\n",
    "\\frac{\\partial z^{(L)}}{\\partial W^{(L)}} & = (a^{(L-1)})^T \\\\\n",
    "\\\\\n",
    "\\text{Definindo   } \\delta^{(L)} & = \\frac{\\partial J}{\\partial z^{(L)}} \\\\\n",
    " & = \\frac{\\partial J}{\\partial a^{(L)}} \\cdot \\frac{\\partial a^{(L)}}{\\partial z^{(L)}} \\\\\n",
    " & = \\frac{a^{(L)} - y}{ (1 - a^{(L)}) \\cdot a^{(L)}} \\cdot (1 - a^{(L)}) \\cdot a^{(L)} \\\\\n",
    "\\\\\n",
    "\\delta^{(L)} & = a^{(L)} - y \\\\\n",
    "\\\\\n",
    "\\frac{\\partial J}{\\partial W^{(L)}} & = \\delta^{(L)} \\cdot (a^{(L-1)})^T\n",
    "\\end{align*}\n",
    "-----\n",
    "\n",
    "Passando para a próxima camada:\n",
    "-----\n",
    "\\begin{align*} \n",
    "\\frac{\\partial J}{\\partial W^{(L-1)}} & = \\frac{\\partial J}{\\partial z^{(L)}} \\cdot \\frac{\\partial z^{(L)}}{\\partial a^{(L-1)}}  \\cdot \\frac{\\partial a^{(L-1)}}{\\partial z^{(L-1)}} \\cdot \\frac{\\partial z^{(L-1)}}{\\partial W^{(L-1)}} \\\\\n",
    " & = (W^{(L)})^T \\cdot \\delta^{(L)} \\circ  (1 - a^{(L-1)}) a^{(L-1)} \\cdot (a^{(L-2)})^T \\\\\n",
    "\\\\\n",
    "\\delta^{(L-1)} & = (W^{(L)})^T \\cdot \\delta^{(L)} \\circ (1 - a^{(L-1)}) a^{(L-1)} \\\\\n",
    "\\\\\n",
    "\\frac{\\partial J}{\\partial W^{(L-1)}} & = \\delta^{(L-1)} \\cdot a^{(L-2)}\n",
    "\\end{align*}\n",
    "-----\n"
   ]
  },
  {
   "cell_type": "markdown",
   "metadata": {},
   "source": [
    "### Propagação para trás (Backpropagation)\n",
    "\n",
    "Uma descrição mais detalhada do processo de *backpropagation* pode ser encontrada em \n",
    "<a href=\"https://medium.com/becoming-human/back-propagation-is-very-simple-who-made-it-complicated-97b794c97e5c\">neste artigo</a>\n",
    "\n",
    "Para a última camada, temos:\n",
    "\n",
    "\\begin{align*} \n",
    "\\frac{\\partial J}{\\partial w_{ij}^{(L)}} &= \\frac{\\partial J}{\\partial a_i^{(L)}} \\cdot \\frac{\\partial a_i^{(L)}}{\\partial z_i^{(L)}} \\cdot \\frac{\\partial z_i^{(L)}}{\\partial w_{ij}^{(L)}} \\\\\n",
    "\\\\\n",
    "\\frac{\\partial z_i^{(L)}}{\\partial w_{ij}^{(L)}} &= a_j^{(L-1)} \\\\\n",
    "\\\\\n",
    "\\delta_i^{(L)} &= \\frac{\\partial J}{\\partial a_i^{(L)}} \\cdot \\frac{\\partial a_i^{(L)}}{\\partial z_i^{(L)}} = \\frac{a_i^{(L)} - y_i}{a_i^{(L)} (1 - a_i^{(L)})} \\cdot a_i^{(L)} (1 - a_i^{(L)}) \\\\\n",
    "\\\\\n",
    "\\delta_i^{(L)} &= a_i^{(L)} - y_i \\\\\n",
    "\\\\\n",
    "\\frac{\\partial J}{\\partial w_{ij}^{(L)}} &= \\delta_i^{(L)} \\cdot a_j^{(L-1)}\n",
    "\\end{align*}\n",
    "\n",
    "Passando para a próxima camada:\n",
    "\n",
    "\\begin{align*} \n",
    "\\frac{\\partial J}{\\partial w_{ij}^{(L-1)}} &= \\frac{\\partial J}{\\partial a_i^{(L-1)}} \\cdot \\frac{\\partial a_i^{(L-1)}}{\\partial z_i^{(L-1)}}  \\cdot  \\frac{\\partial z_i^{(L-1)}}{\\partial w_{ij}^{(L-1)}}\n",
    "\\\\\n",
    "\\frac{\\partial z_i^{(L-1)}}{\\partial w_{ij}^{(L-1)}} &= a_j^{(L-2)}\n",
    "\\\\\n",
    "\\frac{\\partial a_i^{(L-1)}}{\\partial z_i^{(L-1)}} &= a_i^{(L-1)} (1 - a_i^{(L-1)})\n",
    "\\\\\n",
    "\\frac{\\partial J}{\\partial a_{i}^{(L-1)}} &= \\sum_{k = 0}^{n_L} \\frac{\\partial J}{\\partial z_{k}^{(L)}} \\cdot \\frac{\\partial z_k^{(L)}}{\\partial a_{i}^{(L-1)}} = \\sum_{k = 0}^{n_L} \\delta_k^{L} \\cdot w_{ki}^{L}\n",
    "\\\\\n",
    "\\frac{\\partial J}{\\partial w_{ij}^{(L-1)}} &= \\sum_{k = 0}^{n_L} \\delta_k^{L} \\cdot w_{ik}^{L} \\cdot a_i^{(L-1)} (1 - a_i^{(L-1)}) \\cdot a_j^{(L-2)} \\\\\n",
    "\\\\\n",
    "\\end{align*}"
   ]
  },
  {
   "cell_type": "code",
   "execution_count": null,
   "metadata": {
    "collapsed": true
   },
   "outputs": [],
   "source": []
  }
 ],
 "metadata": {
  "kernelspec": {
   "display_name": "Python 3",
   "language": "python",
   "name": "python3"
  },
  "language_info": {
   "codemirror_mode": {
    "name": "ipython",
    "version": 3
   },
   "file_extension": ".py",
   "mimetype": "text/x-python",
   "name": "python",
   "nbconvert_exporter": "python",
   "pygments_lexer": "ipython3",
   "version": "3.4.3"
  },
  "latex_envs": {
   "LaTeX_envs_menu_present": true,
   "autocomplete": true,
   "bibliofile": "biblio.bib",
   "cite_by": "apalike",
   "current_citInitial": 1,
   "eqLabelWithNumbers": true,
   "eqNumInitial": 1,
   "hotkeys": {
    "equation": "Ctrl-E",
    "itemize": "Ctrl-I"
   },
   "labels_anchors": false,
   "latex_user_defs": false,
   "report_style_numbering": false,
   "user_envs_cfg": false
  },
  "toc": {
   "colors": {
    "hover_highlight": "#DAA520",
    "running_highlight": "#FF0000",
    "selected_highlight": "#FFD700"
   },
   "moveMenuLeft": true,
   "nav_menu": {
    "height": "48px",
    "width": "252px"
   },
   "navigate_menu": true,
   "number_sections": true,
   "sideBar": true,
   "threshold": 4,
   "toc_cell": false,
   "toc_section_display": "block",
   "toc_window_display": false,
   "widenNotebook": false
  }
 },
 "nbformat": 4,
 "nbformat_minor": 2
}
