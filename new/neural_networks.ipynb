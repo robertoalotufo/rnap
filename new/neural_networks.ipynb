{
 "cells": [
  {
   "cell_type": "markdown",
   "metadata": {
    "deletable": true,
    "editable": true
   },
   "source": [
    "# Redes Neurais\n",
    "## Preâmbulo"
   ]
  },
  {
   "cell_type": "code",
   "execution_count": 2,
   "metadata": {
    "collapsed": false,
    "deletable": true,
    "editable": true
   },
   "outputs": [
    {
     "name": "stderr",
     "output_type": "stream",
     "text": [
      "Using TensorFlow backend.\n"
     ]
    }
   ],
   "source": [
    "%matplotlib inline\n",
    "import matplotlib.pyplot as plot\n",
    "# To support both python 2 and python 3\n",
    "from __future__ import division, print_function, unicode_literals\n",
    "\n",
    "import time\n",
    "import numpy as np\n",
    "import numpy.random as nr\n",
    "import pandas as pd\n",
    "import tensorflow as tf\n",
    "\n",
    "from keras.models import Sequential\n",
    "from keras.layers.core import Dense, Flatten\n",
    "from keras.optimizers import SGD\n",
    "from keras.callbacks import EarlyStopping, TensorBoard\n",
    "from keras.utils import np_utils\n",
    "\n",
    "np.set_printoptions(precision=2, linewidth=100, suppress=True)"
   ]
  },
  {
   "cell_type": "markdown",
   "metadata": {
    "deletable": true,
    "editable": true
   },
   "source": [
    "## Arquitetura\n",
    "\n",
    "<table align='left'>\n",
    "<tr><td colspan=2> <img src=\"https://docs.google.com/drawings/d/1958hSDd7WX_ijgL9E-SMR3sgzLvBpmvD8AyEtwaxio8/pub?w=960&h=720\" alt=\"Drawing\" style=\"width: 960px;\"/> </td></tr>\n",
    "</table>"
   ]
  },
  {
   "cell_type": "markdown",
   "metadata": {
    "deletable": true,
    "editable": true
   },
   "source": [
    "### Propagação para frente\n",
    "<table align='left'>\n",
    "<tr><td colspan=2> <img src=\"https://docs.google.com/drawings/d/10dhKHBLoALtQVCsq2dtzma01I0shyZsCT9pRd-adtSw/pub?w=960&h=720\" alt=\"Drawing\" style=\"width: 960px;\"/> </td></tr>\n",
    "</table>"
   ]
  },
  {
   "cell_type": "markdown",
   "metadata": {
    "deletable": true,
    "editable": true
   },
   "source": [
    "\\begin{align} \n",
    "\\mathbf{a}_{(i)} & = \\begin{cases}\n",
    "\\mathbf{x}  & \\text{ if } i = 0 \\\\\n",
    "\\\\\n",
    "g(\\mathbf{W}_{(i-1)} \\cdot \\mathbf{a}_{(i-1)}) & \\text{ if } 1 \\leq i \\leq L  \\text{ where } g(\\mathbf{z}) = \\frac{1}{1+e^{-\\mathbf{z}}} \\\\\n",
    "\\end{cases}\n",
    "\\\\\n",
    "\\mathbf{\\hat{y}} & = \\mathbf{a}_{L}\n",
    "\\\\\n",
    "J & = - \\sum \\left (\\mathbf{y} \\log{(\\mathbf{\\hat{y}})} + (1 - \\mathbf{y}) \\log{(1 - \\mathbf{\\hat{y}})} \\right )\n",
    "\\end{align}\n"
   ]
  },
  {
   "cell_type": "markdown",
   "metadata": {
    "deletable": true,
    "editable": true
   },
   "source": [
    "### Propagação para trás\n",
    "<table align='left'>\n",
    "<tr><td colspan=2> <img src=\"https://docs.google.com/drawings/d/1FkEaZpPSUFVybgeyrW-mBIzGQCvKEapjXIgts_rC3GE/pub?w=960&h=720\" alt=\"Drawing\" style=\"width: 960px;\"/> </td></tr>\n",
    "</table>"
   ]
  },
  {
   "cell_type": "markdown",
   "metadata": {
    "deletable": true,
    "editable": true
   },
   "source": [
    "\\begin{align} \n",
    "\\boldsymbol{\\delta}_{(i)} & = \\begin{cases}\n",
    "\\mathbf{a}_{(i)} - \\mathbf{y} & \\text{ if } i = L \\\\\n",
    "\\\\\n",
    "\\mathbf{W}_{(i+1)}^T \\cdot \\boldsymbol{\\delta}_{(i+1)} \\circ \\mathbf{a}_{(i)} (1 - \\mathbf{a}_{(i)}) & \\text{ if } 1 \\leq i \\leq L-1 \n",
    "\\end{cases}\n",
    "\\\\\n",
    "\\mathbf{\\nabla}_{(i)} & = \\boldsymbol{\\delta}_{(i+1)} \\cdot \\mathbf{a}_{(i)}^{T}\n",
    "\\\\\n",
    "\\mathbf{W}_{(i)} & = \\mathbf{W}_{(i)} - \\eta \\mathbf{\\nabla}_{(i)}\n",
    "\\end{align}"
   ]
  },
  {
   "cell_type": "markdown",
   "metadata": {
    "deletable": true,
    "editable": true
   },
   "source": [
    "## Implementação matricial"
   ]
  },
  {
   "cell_type": "markdown",
   "metadata": {
    "deletable": true,
    "editable": true
   },
   "source": [
    "### Vetorização do algoritmo\n",
    "\n",
    "<table align='left'>\n",
    "<tr>\n",
    "<td colspan=2> \n",
    "<b>Forward</b>\n",
    "<img src=\"https://docs.google.com/drawings/d/1gtCx1mmtt3pwlJwZaWOGW_OQ8sBttftRwH9uVmNPHaY/pub?w=960&h=720\" alt=\"Drawing\" style=\"width: 960px;\"/> \n",
    "</td>\n",
    "\n",
    "<td colspan=2> \n",
    "<b>Backward</b>\n",
    "<img src=\"https://docs.google.com/drawings/d/1C3HOnRX9bSnsvHlyWJo9pEirXE_4ms8RJWtaqMYGpQw/pub?w=960&h=720\" alt=\"Drawing\" style=\"width: 960px;\"/> \n",
    "</td>\n",
    "\n",
    "</tr>\n",
    "</table>\n"
   ]
  },
  {
   "cell_type": "markdown",
   "metadata": {
    "deletable": true,
    "editable": true
   },
   "source": [
    "### O código"
   ]
  },
  {
   "cell_type": "code",
   "execution_count": 3,
   "metadata": {
    "collapsed": true,
    "deletable": true,
    "editable": true
   },
   "outputs": [],
   "source": [
    "class BackPropNeuralNetwork:\n",
    "    \n",
    "    def __init__(self, layer_sizes=[], is_classifier=True):\n",
    "        self.L = len(layer_sizes)\n",
    "        self.s = layer_sizes\n",
    "        self.W = None\n",
    "        self.classifier = is_classifier\n",
    "        self.costs = []\n",
    "\n",
    "    def init_weights(self, epsilon=None):\n",
    "        from numpy.random import rand\n",
    "        self.W = []\n",
    "        for i in range(self.L-1):\n",
    "            # Glorot Uniform\n",
    "            eps = epsilon or np.sqrt(6.0 / (self.s[i] + self.s[i+1]))\n",
    "            self.W.append(2*eps*rand(self.s[i+1], self.s[i]+1) - eps)\n",
    "            \n",
    "    def predict(self, X):\n",
    "        a = self.compute_activations(self.W, X)\n",
    "        return a[-1]\n",
    "    \n",
    "    def evaluate(self, X, y):\n",
    "        a = self.compute_activations(self.W, X)\n",
    "        cost = self.compute_cost(a[-1], y)\n",
    "        return cost\n",
    "    \n",
    "    def compute_cost_and_gradient(self, W, X, y):\n",
    "        M, N  = X.shape\n",
    "        G = [None for n in self.s[:-1]]\n",
    "        # Forward propagation\n",
    "        a = self.compute_activations(W, X)\n",
    "        # Cost computation\n",
    "        J = self.compute_cost(a[-1], y)\n",
    "        # Back propagation\n",
    "        d = self.compute_errors(W, a, y)\n",
    "        # Gradients computation\n",
    "        for j in range(self.L-1):\n",
    "            G[j] = np.dot(d[j+1].T, a[j]) / M                  # eq. 5\n",
    "        return J, G\n",
    "\n",
    "    def compute_cost(self, y_pred, y_true):\n",
    "        if self.classifier:\n",
    "            # classifier: binary cross-entropy                 # eq. 3\n",
    "            J = - (y_true * np.log(y_pred) + (1 - y_true) * np.log(1 - y_pred)).sum() / y_true.shape[0]\n",
    "        else:\n",
    "            # regressor: mean squared error\n",
    "            J = 0.5 * np.square(y_true - y_pred).sum() / y_true.shape[0]\n",
    "        return J\n",
    "    \n",
    "    def compute_activations(self, W, X):\n",
    "        a = [None for n in self.s]\n",
    "        a[0] = X                                               # eq. 1\n",
    "        for j in range(1, self.L):\n",
    "            a[j-1] = np.insert(a[j-1], 0, 1, 1)\n",
    "            z = np.dot(a[j-1], W[j-1].T)                       # eq. 1\n",
    "            if j == self.L-1 and not self.classifier:\n",
    "                a[j] = z\n",
    "            else:\n",
    "                a[j] = self._logistic(z)                       # eq. 1\n",
    "        return a            \n",
    "\n",
    "    def compute_errors(self, W, a, y):\n",
    "        d = [None for n in self.s]\n",
    "        d[-1] = a[-1] - y                                      # eq. 4\n",
    "        for j in range(self.L-2, 0, -1):\n",
    "            d[j] = np.dot(d[j+1], W[j]) * a[j] * (1 - a[j])    # eq. 4\n",
    "            d[j] = d[j][:,1:]\n",
    "        return d\n",
    "\n",
    "    def sgd(self, X, y, eta, batch, n_epochs, Xval=None, yval=None, verbose=0):\n",
    "        m, n = X.shape\n",
    "        n_batches = int(np.ceil(m / batch))\n",
    "        \n",
    "        for epoch in range(n_epochs):\n",
    "            for ii in range(n_batches):\n",
    "                kk = batch * ii\n",
    "                X_batch, y_batch = X[kk:kk+batch], y[kk:kk+batch]\n",
    "                \n",
    "                cost, G = self.compute_cost_and_gradient(self.W, X, y)\n",
    "                for i in range(len(self.W)):\n",
    "                    self.W[i] -= eta * G[i]\n",
    "                                \n",
    "            if Xval is not None:\n",
    "                cost_val = self.evaluate(Xval, yval)\n",
    "                self.costs.append((epoch, cost, cost_val))\n",
    "                if (verbose > 0) and (not epoch % verbose):\n",
    "                    print(('{:4d} Training Cost: {:.5f}    Validation Cost: {:.5f}'.format(epoch, cost, cost_val)))\n",
    "            else:\n",
    "                self.costs.append((epoch, cost, 0))\n",
    "                if (verbose > 0) and (not epoch % verbose):\n",
    "                    print(('{:4d} Training Cost: {:.5f}'.format(epoch, cost)))\n",
    "\n",
    "        return self.costs\n",
    "\n",
    "    @staticmethod\n",
    "    def _logistic(z):\n",
    "        z = np.asarray(z)\n",
    "        z = np.minimum(z,  15)\n",
    "        z = np.maximum(z, -15)\n",
    "        return np.ones(z.shape)/(1.0 + np.exp(-z))\n"
   ]
  },
  {
   "cell_type": "markdown",
   "metadata": {
    "deletable": true,
    "editable": true
   },
   "source": [
    "### Verificando o cálculo do gradiente\n",
    "\n",
    "Para fazer uma verificação numérica da correção de nossa implementação concatenamos cada matriz $W^{(L)}$ de forma a criar um vetor $\\theta$ que contenha todos os pesos (e bias) de nossa rede neural.\n",
    "\n",
    "Para calcular o gradiente, para cada elemento do vetor $\\theta$ fazemos\n",
    "\n",
    "\n",
    "$$\n",
    "\\theta^{(i+)} = \\theta + \\begin{bmatrix}\n",
    "0 \\\\\n",
    "0\\\\ \n",
    "\\vdots \\\\ \n",
    "\\epsilon \\\\ \n",
    "\\vdots \\\\ \n",
    "0\n",
    "\\end{bmatrix} \\; \\; \\; \\; \\; \\; \\text{ e }  \\; \\; \\; \\theta^{(i-)} = \\theta - \\begin{bmatrix}\n",
    "0 \\\\\n",
    "0\\\\ \n",
    "\\vdots \\\\ \n",
    "\\epsilon \\\\ \n",
    "\\vdots \\\\ \n",
    "0\n",
    "\\end{bmatrix}\n",
    "$$\n",
    "\n",
    "Uma aproximação para o gradiente é dada por:\n",
    "\n",
    "$$\n",
    "\\frac{\\partial }{\\partial \\theta_i} J(\\theta) \\approx \\frac{J(\\theta^{(i+)}) - J(\\theta^{(i-)})}{2 \\epsilon}\n",
    "$$"
   ]
  },
  {
   "cell_type": "code",
   "execution_count": 4,
   "metadata": {
    "collapsed": false,
    "deletable": true,
    "editable": true
   },
   "outputs": [
    {
     "name": "stdout",
     "output_type": "stream",
     "text": [
      "Classificador: OK\n",
      "Regressor:     OK\n"
     ]
    }
   ],
   "source": [
    "def compute_approx_gradient(nnet, W, X, y, eps=0.0001):\n",
    "    def roll(thetas, W=W):\n",
    "        Theta, m = [], 0\n",
    "        for h, w in [t.shape for t in W]:\n",
    "            Theta.append(thetas[m:m + h*w].reshape((h,w)))\n",
    "            m += h*w\n",
    "        return Theta\n",
    "    \n",
    "    thetas = np.concatenate([t.flat for t in W])\n",
    "    agrads = np.zeros_like(thetas)\n",
    "    for i in range(thetas.shape[0]):\n",
    "        t_plus = thetas.copy()\n",
    "        t_plus[i] += eps            \n",
    "        a_plus = nnet.compute_activations(roll(t_plus), X)\n",
    "        J_plus = nnet.compute_cost(a_plus[-1], y)\n",
    "\n",
    "        t_minus = thetas.copy()\n",
    "        t_minus[i] -= eps\n",
    "        a_minus = nnet.compute_activations(roll(t_minus), X)\n",
    "        J_minus = nnet.compute_cost(a_minus[-1], y)\n",
    "\n",
    "        agrads[i] = (J_plus - J_minus) / (2*eps)\n",
    "\n",
    "    return agrads\n",
    "\n",
    "def gradient_check(classif):\n",
    "    nn = BackPropNeuralNetwork([4, 5, 3], is_classifier=classif)\n",
    "    nn.init_weights()\n",
    "    \n",
    "    X = np.sin(np.arange(32)).reshape((8, 4)) / 10\n",
    "    y = np.zeros((8, 3))\n",
    "    for i, k in enumerate(np.mod(np.arange(8), 3)):\n",
    "        y[i,k] = 1.0\n",
    "    \n",
    "    agrad = compute_approx_gradient(nn, nn.W, X, y)\n",
    "    J, G = nn.compute_cost_and_gradient(nn.W, X, y)\n",
    "    grad = np.concatenate([t.flat for t in G])\n",
    "    \n",
    "    return np.allclose(agrad, grad)\n",
    "\n",
    "print('Classificador:', ['Error', 'OK'][gradient_check(True)])\n",
    "print('Regressor:    ', ['Error', 'OK'][gradient_check(True)])"
   ]
  },
  {
   "cell_type": "markdown",
   "metadata": {
    "deletable": true,
    "editable": true
   },
   "source": [
    "## Testes"
   ]
  },
  {
   "cell_type": "markdown",
   "metadata": {
    "deletable": true,
    "editable": true
   },
   "source": [
    "### Dataset"
   ]
  },
  {
   "cell_type": "code",
   "execution_count": 5,
   "metadata": {
    "collapsed": false,
    "deletable": true,
    "editable": true,
    "scrolled": false
   },
   "outputs": [
    {
     "name": "stdout",
     "output_type": "stream",
     "text": [
      "Shapes: (404, 13) (102, 13) (404, 1) (102, 1)\n",
      "Target: min=1.730, mean=12.741, max=37.970\n"
     ]
    }
   ],
   "source": [
    "# -----------------------------------------------------------------------------------------------------------\n",
    "# Boston Housing Data Set\n",
    "# -----------------------\n",
    "# [https://archive.ics.uci.edu/ml/machine-learning-databases/housing/housing.names\n",
    "#\n",
    "# 1. Title: Boston Housing Data\n",
    "# \n",
    "# 2. Sources:\n",
    "#    (a) Origin:  This dataset was taken from the StatLib library which is\n",
    "#                 maintained at Carnegie Mellon University.\n",
    "#    (b) Creator:  Harrison, D. and Rubinfeld, D.L. 'Hedonic prices and the \n",
    "#                  demand for clean air', J. Environ. Economics & Management,\n",
    "#                  vol.5, 81-102, 1978.\n",
    "#    (c) Date: July 7, 1993\n",
    "# \n",
    "# 3. Past Usage:\n",
    "#    -   Used in Belsley, Kuh & Welsch, 'Regression diagnostics ...', Wiley, \n",
    "#        1980.   N.B. Various transformations are used in the table on\n",
    "#        pages 244-261.\n",
    "#     -  Quinlan,R. (1993). Combining Instance-Based and Model-Based Learning.\n",
    "#        In Proceedings on the Tenth International Conference of Machine \n",
    "#        Learning, 236-243, University of Massachusetts, Amherst. Morgan\n",
    "#        Kaufmann.\n",
    "# \n",
    "# 4. Relevant Information:\n",
    "# \n",
    "#    Concerns housing values in suburbs of Boston.\n",
    "# \n",
    "# 5. Number of Instances: 506\n",
    "# \n",
    "# 6. Number of Attributes: 13 continuous attributes (including \"class\"\n",
    "#                          attribute \"MEDV\"), 1 binary-valued attribute.\n",
    "# \n",
    "# 7. Attribute Information:\n",
    "# \n",
    "#     1. CRIM      per capita crime rate by town\n",
    "#     2. ZN        proportion of residential land zoned for lots over \n",
    "#                  25,000 sq.ft.\n",
    "#     3. INDUS     proportion of non-retail business acres per town\n",
    "#     4. CHAS      Charles River dummy variable (= 1 if tract bounds \n",
    "#                  river; 0 otherwise)\n",
    "#     5. NOX       nitric oxides concentration (parts per 10 million)\n",
    "#     6. RM        average number of rooms per dwelling\n",
    "#     7. AGE       proportion of owner-occupied units built prior to 1940\n",
    "#     8. DIS       weighted distances to five Boston employment centres\n",
    "#     9. RAD       index of accessibility to radial highways\n",
    "#     10. TAX      full-value property-tax rate per $10,000\n",
    "#     11. PTRATIO  pupil-teacher ratio by town\n",
    "#     12. B        1000(Bk - 0.63)^2 where Bk is the proportion of blacks by town\n",
    "#     13. LSTAT    % lower status of the population\n",
    "#\n",
    "#     14. MEDV     Median value of owner-occupied homes in $1000's\n",
    "# \n",
    "# 8. Missing Attribute Values:  None.\n",
    "# -----------------------------------------------------------------------------------------------------------\n",
    "from keras.datasets import boston_housing\n",
    "(Xtra, ytra), (Xval, yval) = boston_housing.load_data()\n",
    "\n",
    "mean = Xtra.mean(0)\n",
    "Xtra -= mean\n",
    "std = Xtra.std(0)\n",
    "Xtra /= std\n",
    "\n",
    "Xval -= mean\n",
    "Xval /= std\n",
    "\n",
    "ytra = ytra.reshape(-1, 1)\n",
    "yval = yval.reshape(-1, 1)\n",
    "\n",
    "m, n = Xtra.shape\n",
    "print('Shapes:', Xtra.shape, Xval.shape, ytra.shape, yval.shape)\n",
    "print('Target: min={:.3f}, mean={:.3f}, max={:.3f}'.format(ytra.min(), ytra.mean(), ytra.max()))"
   ]
  },
  {
   "cell_type": "markdown",
   "metadata": {
    "deletable": true,
    "editable": true
   },
   "source": [
    "\\begin{align*} \n",
    "\\mathbf{X}_{train} & = \\begin{bmatrix}\n",
    "\\longleftarrow & (\\mathbf{x}^{(0)})^T & \\longrightarrow \\\\ \n",
    "\\longleftarrow & (\\mathbf{x}^{(1)})^T & \\longrightarrow \\\\ \n",
    "  & \\vdots  & \\\\ \n",
    "\\longleftarrow & (\\mathbf{x}^{(m-1)})^T & \\longrightarrow \n",
    "\\end{bmatrix} = \\begin{bmatrix}\n",
    "x_0^{(0)} & x_1^{(0)} & x_2^{(0)} & \\ldots & x_{12}^{(0)} \\\\\n",
    "x_0^{(1)} & x_1^{(1)} & x_2^{(1)} & \\ldots & x_{12}^{(1)} \\\\\n",
    " &  & \\vdots  & \\\\ \n",
    "x_0^{(403)} & x_1^{(403)} & x_2^{(403)} & \\ldots & x_{12}^{(403)}\n",
    "\\end{bmatrix} \\\\\n",
    "\\\\\n",
    "\\mathbf{y}_{train} & = \\begin{bmatrix}\n",
    "y^{(0)} \\\\\n",
    "y^{(1)} \\\\\n",
    "\\vdots  \\\\ \n",
    "y^{(403)} \\\\\n",
    "\\end{bmatrix}\n",
    "\\end{align*}\n"
   ]
  },
  {
   "cell_type": "markdown",
   "metadata": {
    "deletable": true,
    "editable": true
   },
   "source": [
    "### Testando nossa implementação"
   ]
  },
  {
   "cell_type": "code",
   "execution_count": 6,
   "metadata": {
    "collapsed": false,
    "deletable": true,
    "editable": true,
    "scrolled": false
   },
   "outputs": [
    {
     "name": "stdout",
     "output_type": "stream",
     "text": [
      "   0 Training Cost: 23.99527    Validation Cost: 19.03152\n",
      "1000 Training Cost: 0.00849    Validation Cost: 0.01476\n",
      "2000 Training Cost: 0.00408    Validation Cost: 0.00887\n",
      "3000 Training Cost: 0.00242    Validation Cost: 0.00627\n",
      "4000 Training Cost: 0.00167    Validation Cost: 0.00482\n",
      "5000 Training Cost: 0.00127    Validation Cost: 0.00390\n",
      "6000 Training Cost: 0.00103    Validation Cost: 0.00328\n",
      "7000 Training Cost: 0.00086    Validation Cost: 0.00283\n",
      "8000 Training Cost: 0.00075    Validation Cost: 0.00249\n",
      "9000 Training Cost: 0.00066    Validation Cost: 0.00222\n",
      "\n",
      "Trained in 69.607018s\n",
      "\n",
      "MSE: 0.00400468584101\n",
      "\n",
      "y_hat [ 29.21  16.22   9.74   5.46   8.46  13.62   4.49   7.52  17.92  14.38]\n",
      "y_val [ 29.05  16.21   9.74   5.5    8.44  13.59   4.61   7.51  17.93  14.36]\n"
     ]
    }
   ],
   "source": [
    "layer_sizes = [n, 40, 20, 1]\n",
    "n_epochs = 10000\n",
    "\n",
    "nnet = BackPropNeuralNetwork(layer_sizes, is_classifier=False)\n",
    "nnet.init_weights();\n",
    "\n",
    "try:\n",
    "    t1 = t0 = time.time()\n",
    "    costs = nnet.sgd(Xtra, ytra, 0.1, 101, n_epochs, Xval=Xval, yval=yval, verbose=n_epochs/10)\n",
    "    t1 = time.time()\n",
    "except KeyboardInterrupt:\n",
    "    pass\n",
    "\n",
    "print('\\nTrained in {:2f}s'.format(t1-t0))\n",
    "yhat = nnet.predict(Xval)\n",
    "mse = np.square(yhat - yval).mean()\n",
    "print('\\nMSE:', mse)\n",
    "print()\n",
    "print('y_hat', yhat[:10,0])\n",
    "print('y_val', yval[:10,0])\n"
   ]
  },
  {
   "cell_type": "code",
   "execution_count": 7,
   "metadata": {
    "collapsed": false,
    "deletable": true,
    "editable": true
   },
   "outputs": [
    {
     "data": {
      "image/png": "[encoded data removed]",
      "text/plain": [
       "<matplotlib.figure.Figure at 0x7fa595ceaf60>"
      ]
     },
     "metadata": {},
     "output_type": "display_data"
    }
   ],
   "source": [
    "plot.plot([c1 for i, c1, c2 in costs], label='train')\n",
    "plot.plot([c2 for i, c1, c2 in costs], label='validation')\n",
    "plot.ylim(0, 0.1)\n",
    "plot.legend()\n",
    "plot.title('Mean Squared Error');\n"
   ]
  },
  {
   "cell_type": "markdown",
   "metadata": {
    "deletable": true,
    "editable": true
   },
   "source": [
    "### Keras"
   ]
  },
  {
   "cell_type": "code",
   "execution_count": 8,
   "metadata": {
    "collapsed": false,
    "deletable": true,
    "editable": true
   },
   "outputs": [
    {
     "name": "stdout",
     "output_type": "stream",
     "text": [
      "_________________________________________________________________\n",
      "Layer (type)                 Output Shape              Param #   \n",
      "=================================================================\n",
      "dense_1 (Dense)              (None, 40)                560       \n",
      "_________________________________________________________________\n",
      "dense_2 (Dense)              (None, 20)                820       \n",
      "_________________________________________________________________\n",
      "dense_3 (Dense)              (None, 1)                 21        \n",
      "=================================================================\n",
      "Total params: 1,401\n",
      "Trainable params: 1,401\n",
      "Non-trainable params: 0\n",
      "_________________________________________________________________\n",
      "\n",
      "Trained in 42.307757s\n",
      "\n",
      "MSE: 0.00486715079749\n",
      "\n",
      "y_hat [ 29.2   16.24   9.75   5.47   8.51  13.55   4.42   7.52  17.94  14.36]\n",
      "y_val [ 29.05  16.21   9.74   5.5    8.44  13.59   4.61   7.51  17.93  14.36]\n"
     ]
    }
   ],
   "source": [
    "estop = EarlyStopping(patience=500, verbose=1)\n",
    "\n",
    "def build():\n",
    "    model = Sequential()\n",
    "    model.add(Dense(layer_sizes[1], activation='sigmoid', input_shape=(layer_sizes[0],)))\n",
    "    model.add(Dense(layer_sizes[2], activation='sigmoid'))\n",
    "    model.add(Dense(layer_sizes[3], activation=None))\n",
    "    return model\n",
    "\n",
    "nnet = build()\n",
    "nnet.summary()\n",
    "\n",
    "opt = SGD(lr=0.01)\n",
    "nnet.compile(loss=\"mse\", optimizer=opt, metrics=[\"mae\"])    \n",
    "\n",
    "try:\n",
    "    t0 = time.time()\n",
    "    histo2 = nnet.fit(Xtra, ytra, batch_size=101, epochs=n_epochs, verbose=0, \n",
    "                      validation_data=(Xval, yval), callbacks=[estop])\n",
    "    t1 = time.time()\n",
    "except KeyboardInterrupt:\n",
    "    pass\n",
    "\n",
    "print('\\nTrained in {:2f}s'.format(t1-t0))\n",
    "print()\n",
    "yhat = nnet.predict(Xval, verbose=0)\n",
    "mse = np.square(yhat - yval).mean()\n",
    "print('MSE:', mse)\n",
    "print()\n",
    "print('y_hat', yhat[:10,0])\n",
    "print('y_val', yval[:10,0])\n"
   ]
  },
  {
   "cell_type": "code",
   "execution_count": 9,
   "metadata": {
    "collapsed": false,
    "deletable": true,
    "editable": true
   },
   "outputs": [
    {
     "data": {
      "image/png": "[encoded data removed]",
      "text/plain": [
       "<matplotlib.figure.Figure at 0x7fa593b09be0>"
      ]
     },
     "metadata": {},
     "output_type": "display_data"
    }
   ],
   "source": [
    "fig = plot.figure(figsize=(15,4))\n",
    "\n",
    "fig.add_subplot(121)\n",
    "plot.plot(histo2.history['loss'], label='train')\n",
    "plot.plot(histo2.history['val_loss'], label='validation')\n",
    "plot.ylim(0, 0.1)\n",
    "plot.legend()\n",
    "plot.title('Mean Squared Error');\n",
    "\n",
    "fig.add_subplot(122)\n",
    "plot.plot(histo2.history['mean_absolute_error'], label='train')\n",
    "plot.plot(histo2.history['val_mean_absolute_error'], label='validation')\n",
    "plot.ylim(0, 0.5)\n",
    "plot.legend()\n",
    "plot.title('Mean Absolute Error');\n"
   ]
  },
  {
   "cell_type": "code",
   "execution_count": 10,
   "metadata": {
    "collapsed": false,
    "deletable": true,
    "editable": true
   },
   "outputs": [
    {
     "name": "stdout",
     "output_type": "stream",
     "text": [
      "[0.004880730386859938, 0.0048265342427161982, 0.0050109820075187024, 0.0049319976675963285, 0.0048671486215693324]\n",
      "[0.0020031450157307687, 0.0020029444377796775, 0.0020027438959316951, 0.0020025433901768655, 0.0020023429205051489]\n"
     ]
    }
   ],
   "source": [
    "print(histo2.history['val_loss'][-5:])\n",
    "print([c2 for i, c1, c2 in costs][-5:])"
   ]
  },
  {
   "cell_type": "code",
   "execution_count": null,
   "metadata": {
    "collapsed": true,
    "deletable": true,
    "editable": true
   },
   "outputs": [],
   "source": []
  }
 ],
 "metadata": {
  "kernelspec": {
   "display_name": "Python 3",
   "language": "python",
   "name": "python3"
  },
  "language_info": {
   "codemirror_mode": {
    "name": "ipython",
    "version": 3
   },
   "file_extension": ".py",
   "mimetype": "text/x-python",
   "name": "python",
   "nbconvert_exporter": "python",
   "pygments_lexer": "ipython3",
   "version": "3.4.3"
  },
  "latex_envs": {
   "LaTeX_envs_menu_present": true,
   "autocomplete": true,
   "bibliofile": "biblio.bib",
   "cite_by": "apalike",
   "current_citInitial": 1,
   "eqLabelWithNumbers": true,
   "eqNumInitial": 1,
   "hotkeys": {
    "equation": "Ctrl-E",
    "itemize": "Ctrl-I"
   },
   "labels_anchors": false,
   "latex_user_defs": false,
   "report_style_numbering": false,
   "user_envs_cfg": false
  },
  "toc": {
   "colors": {
    "hover_highlight": "#DAA520",
    "running_highlight": "#FF0000",
    "selected_highlight": "#FFD700"
   },
   "moveMenuLeft": true,
   "nav_menu": {
    "height": "12px",
    "width": "252px"
   },
   "navigate_menu": true,
   "number_sections": true,
   "sideBar": true,
   "threshold": 4,
   "toc_cell": false,
   "toc_position": {
    "height": "697px",
    "left": "0px",
    "right": "1189px",
    "top": "106px",
    "width": "251px"
   },
   "toc_section_display": "block",
   "toc_window_display": true,
   "widenNotebook": false
  }
 },
 "nbformat": 4,
 "nbformat_minor": 2
}
