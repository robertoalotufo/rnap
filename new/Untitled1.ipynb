{
 "cells": [
  {
   "cell_type": "code",
   "execution_count": 1,
   "metadata": {
    "collapsed": true,
    "deletable": true,
    "editable": true
   },
   "outputs": [],
   "source": [
    "%matplotlib inline\n",
    "import matplotlib.pyplot as plot\n",
    "# To support both python 2 and python 3\n",
    "from __future__ import division, print_function, unicode_literals\n",
    "\n",
    "import time\n",
    "import tensorflow as tf\n",
    "import numpy as np\n",
    "import numpy.random as nr\n",
    "import pandas as pd\n",
    "\n",
    "np.set_printoptions(precision=3, linewidth=100, suppress=True)"
   ]
  },
  {
   "cell_type": "markdown",
   "metadata": {
    "deletable": true,
    "editable": true
   },
   "source": [
    "\\section{First section}\n",
    "\\textbf{Hello}\n",
    "$\n",
    "\\begin{equation} \n",
    "c = \\sqrt{a^2 + b^2}\n",
    "\\end{equation}\n",
    "$\n",
    "\\begin{itemize}\n",
    "\\item First item\n",
    "\\item Second item\n",
    "\\end{itemize}\n",
    "\\textbf{World}"
   ]
  },
  {
   "cell_type": "markdown",
   "metadata": {
    "deletable": true,
    "editable": true
   },
   "source": [
    "\\begin{align*} \n",
    "2x - 5y &=  8 \\\\ \n",
    "3x + 9y &=  -12\n",
    "\\end{align*}"
   ]
  },
  {
   "cell_type": "markdown",
   "metadata": {
    "deletable": true,
    "editable": true
   },
   "source": [
    "## Backpropagation\n",
    "----\n",
    "\\begin{align*} \n",
    "\\frac{\\partial J}{\\partial w_{ij}^{(L)}} & = \\frac{\\partial J}{\\partial a_i^{(L)}} \\cdot \\frac{\\partial a_i^{(L)}}{\\partial z_i^{(L)}} \\cdot \\frac{\\partial z_i^{(L)}}{\\partial w_{ij}^{(L)}} \\\\\n",
    "\\frac{\\partial z_i^{(L)}}{\\partial w_{ij}^{(L)}} & = a_j^{(L-1)} \\\\\n",
    "\\delta_i^{(L)} & = \\frac{\\partial J}{\\partial a_i^{(L)}} \\cdot \\frac{\\partial a_i^{(L)}}{\\partial z_i^{(L)}} = a_i^{(L)} - y_i\\\\\n",
    "\\frac{\\partial J}{\\partial w_{ij}^{(L)}} & = \\delta_i^{(L)} \\cdot a_j^{(L-1)}\n",
    "\\end{align*}\n",
    "-----\n",
    "\n",
    "Passando para a próxima camada:\n",
    "\n",
    "\\begin{align*} \n",
    "\\frac{\\partial J}{\\partial w_{ij}^{(L-1)}} & = \\frac{\\partial J}{\\partial a_i^{(L)}} \\cdot \\frac{\\partial a_i^{(L)}}{\\partial z_i^{(L)}} \\cdot \\frac{\\partial z_i^{(L)}}{\\partial a_i^{(L-1)}}  \\cdot \\frac{\\partial a_i^{(L-1)}}{\\partial z_i^{(L-1)}} \\cdot \\frac{\\partial z_i^{(L-1)}}{\\partial w_{ij}^{(L-1)}} \\\\\n",
    " & = \\delta_i^{(L)} \\cdot \\frac{\\partial z_i^{(L)}}{\\partial a_i^{(L-1)}} \\cdot \\frac{\\partial a_i^{(L-1)}}{\\partial z_i^{(L-1)}} \\cdot \\frac{\\partial z_i^{(L-1)}}{\\partial w_{ij}^{(L-1)}}\n",
    "\\end{align*}\n",
    "-----\n",
    "\n",
    "------\n",
    "\n",
    "Para a regressão linear, temos:\n",
    "\n",
    "$$J = \\frac{1}{2} \\sum_{k}^{} (\\hat{y}_k - y_k)^2  \\Rightarrow   \\frac{\\partial J}{\\partial a_i} = a_i - y_i$$ \n",
    "$$a_i = z_i \\Rightarrow \\frac{\\partial a_i}{\\partial z_i} = 1$$\n",
    "\n",
    "Para a regressão logística:\n",
    "\n",
    "$$J = -  \\sum_{k}^{} (y_k \\log{\\hat{y}_k} + (1 - y_k) \\log{(1 - \\hat{y}_k)}) \\Rightarrow \\frac{\\partial J}{\\partial a_i} = \\frac{a_i - y_i}{a_i (1 - a_i)}$$ \n",
    "$$a_i = \\frac{1}{1 + e^{-z_i}} \\Rightarrow \\frac{\\partial a_i}{\\partial z_i} = a_i (1 - a_i)$$\n",
    "\n",
    "Enfim:\n",
    "\n",
    "$$\\delta = a_i - y_i  \\Rightarrow  \\frac{\\partial J}{\\partial w_{ij}} = \\delta x_j$$\n"
   ]
  },
  {
   "cell_type": "markdown",
   "metadata": {
    "deletable": true,
    "editable": true
   },
   "source": [
    "## Backpropagation\n",
    "### Equações para a regressão logística\n",
    "- Função de custo: entropia cruzada binária\n",
    "  $$J = - \\sum_{k}^{} \\left ( y \\cdot \\log{(\\hat{y})} + (1 - y) \\cdot \\log{(1 - \\hat{y})} \\right ) $$\n",
    "    \n",
    "- Função de ativação logística em todas as camadas\n",
    "  $$a = \\frac{1}{1 + e^{-z}}$$\n",
    "---- \n",
    "\\begin{align*} \n",
    "\\frac{\\partial J}{\\partial W^{(L)}} & = \\frac{\\partial J}{\\partial z^{(L)}} \\cdot \\frac{\\partial z^{(L)}}{\\partial W^{(L)}} \\\\\n",
    "\\\\\n",
    "\\frac{\\partial z^{(L)}}{\\partial W^{(L)}} & = a^{(L-1)} \\\\\n",
    "\\\\\n",
    "\\text{Definindo   } \\delta^{(L)} & = \\frac{\\partial J}{\\partial z^{(L)}} \\\\\n",
    " & = \\frac{\\partial J}{\\partial a^{(L)}} \\cdot \\frac{\\partial a^{(L)}}{\\partial z^{(L)}} \\\\\n",
    " & = \\frac{a^{(L)} - y}{ (1 - a^{(L)}) \\cdot a^{(L)}} \\cdot (1 - a^{(L)}) \\cdot a^{(L)} \\\\\n",
    " & = a^{(L)} - y \\\\\n",
    "\\\\\n",
    "\\frac{\\partial J}{\\partial W^{(L)}} & = \\delta^{(L)} \\cdot a^{(L-1)}\n",
    "\\end{align*}\n",
    "-----\n",
    "\n",
    "Passando para a próxima camada:\n",
    "\n",
    "\\begin{align*} \n",
    "\\frac{\\partial J}{\\partial W^{(L-1)}} & = \\frac{\\partial J}{\\partial z^{(L)}} \\cdot \\frac{\\partial z^{(L)}}{\\partial a^{(L-1)}}  \\cdot \\frac{\\partial a^{(L-1)}}{\\partial z^{(L-1)}} \\cdot \\frac{\\partial z^{(L-1)}}{\\partial W^{(L-1)}} \\\\\n",
    " & = \\delta^{(L)} \\cdot W^{(L)} \\cdot (1 - a^{(L-1)}) \\cdot a^{(L-1)} \\cdot a^{(L-2)} \\\\\n",
    "\\\\\n",
    "\\delta^{(L-1)} & = \\delta^{(L)} \\cdot W^{(L)} \\cdot (1 - a^{(L-1)}) \\cdot a^{(L-1)} \\\\\n",
    "\\\\\n",
    "\\frac{\\partial J}{\\partial W^{(L-1)}} & = \\delta^{(L-1)} \\cdot a^{(L-2)}\n",
    "\\end{align*}\n",
    "-----\n",
    "\n"
   ]
  },
  {
   "cell_type": "markdown",
   "metadata": {
    "deletable": true,
    "editable": true
   },
   "source": [
    "\\begin{align*} \n",
    "\\mathbf{X} = \\begin{bmatrix}\n",
    "1 & \\longleftarrow & (\\mathbf{x}^{(0)})^T & \\longrightarrow \\\\ \n",
    "1 & \\longleftarrow & (\\mathbf{x}^{(1)})^T & \\longrightarrow \\\\ \n",
    " &  & \\vdots  & \\\\ \n",
    "1 & \\longleftarrow & (\\mathbf{x}^{(m-1)})^T & \\longrightarrow \n",
    "\\end{bmatrix} \\text{ and } \\mathbf{Y} = \\begin{bmatrix}\n",
    "\\longleftarrow & (\\mathbf{y}^{(0)})^T & \\longrightarrow \\\\ \n",
    "\\longleftarrow & (\\mathbf{y}^{(1)})^T & \\longrightarrow \\\\ \n",
    "& \\vdots  & \\\\ \n",
    "\\longleftarrow & (\\mathbf{y}^{(m-1)})^T & \\longrightarrow \n",
    "\\end{bmatrix}\n",
    "\\end{align*}\n",
    "\n"
   ]
  }
 ],
 "metadata": {
  "kernelspec": {
   "display_name": "Python 3",
   "language": "python",
   "name": "python3"
  },
  "language_info": {
   "codemirror_mode": {
    "name": "ipython",
    "version": 3
   },
   "file_extension": ".py",
   "mimetype": "text/x-python",
   "name": "python",
   "nbconvert_exporter": "python",
   "pygments_lexer": "ipython3",
   "version": "3.4.3"
  },
  "latex_envs": {
   "LaTeX_envs_menu_present": true,
   "autocomplete": true,
   "bibliofile": "biblio.bib",
   "cite_by": "apalike",
   "current_citInitial": 1,
   "eqLabelWithNumbers": true,
   "eqNumInitial": 1,
   "hotkeys": {
    "equation": "Ctrl-E",
    "itemize": "Ctrl-I"
   },
   "labels_anchors": false,
   "latex_user_defs": false,
   "report_style_numbering": false,
   "user_envs_cfg": false
  },
  "toc": {
   "colors": {
    "hover_highlight": "#DAA520",
    "running_highlight": "#FF0000",
    "selected_highlight": "#FFD700"
   },
   "moveMenuLeft": true,
   "nav_menu": {
    "height": "48px",
    "width": "252px"
   },
   "navigate_menu": true,
   "number_sections": true,
   "sideBar": true,
   "threshold": 4,
   "toc_cell": false,
   "toc_section_display": "block",
   "toc_window_display": false,
   "widenNotebook": false
  }
 },
 "nbformat": 4,
 "nbformat_minor": 2
}
