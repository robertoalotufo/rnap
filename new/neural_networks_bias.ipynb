{
 "cells": [
  {
   "cell_type": "markdown",
   "metadata": {
    "deletable": true,
    "editable": true
   },
   "source": [
    "# Redes Neurais\n",
    "\n",
    "## Preâmbulo"
   ]
  },
  {
   "cell_type": "code",
   "execution_count": 1,
   "metadata": {
    "collapsed": false,
    "deletable": true,
    "editable": true
   },
   "outputs": [
    {
     "name": "stderr",
     "output_type": "stream",
     "text": [
      "Using TensorFlow backend.\n"
     ]
    }
   ],
   "source": [
    "%matplotlib inline\n",
    "import matplotlib.pyplot as plot\n",
    "# To support both python 2 and python 3\n",
    "from __future__ import division, print_function, unicode_literals\n",
    "\n",
    "import time\n",
    "import numpy as np\n",
    "import numpy.random as nr\n",
    "import pandas as pd\n",
    "import tensorflow as tf\n",
    "\n",
    "from keras.models import Sequential\n",
    "from keras.layers.core import Dense, Flatten\n",
    "from keras.optimizers import SGD\n",
    "from keras.callbacks import EarlyStopping, TensorBoard\n",
    "from keras.utils import np_utils\n",
    "\n",
    "np.set_printoptions(precision=2, linewidth=100, suppress=True)"
   ]
  },
  {
   "cell_type": "markdown",
   "metadata": {
    "deletable": true,
    "editable": true
   },
   "source": [
    "## Implementação matricial\n",
    "- **Implementação com *bias* explícito.**\n",
    "\n",
    "### Equações para regressão\n",
    "Considerando uma amostra apenas (SGD)."
   ]
  },
  {
   "cell_type": "markdown",
   "metadata": {
    "deletable": true,
    "editable": true
   },
   "source": [
    "#### Para a frente:\n",
    "\n",
    "\\begin{align*} \n",
    "\\sigma(\\mathbf{z}) & = \\frac{1}{1+e^{-\\mathbf{z}}} \\\\\n",
    "\\\\\n",
    "\\mathbf{a}_{(i)} & = \\begin{cases}\n",
    "\\mathbf{x}  & \\text{ if } i = 0 \\\\\n",
    "\\\\\n",
    "\\sigma(\\mathbf{W}_{(i-1)} \\cdot \\mathbf{a}_{(i-1)} + \\mathbf{b}_{(i-1)}) & \\text{ if } 1 \\leq i \\leq L-1 \\\\\n",
    "\\\\\n",
    "\\mathbf{W}_{(i-1)} \\cdot \\mathbf{a}_{(i-1)} + \\mathbf{b}_{(i-1)} & \\text{ if } i = L \n",
    "\\end{cases}\n",
    "\\\\\n",
    "\\\\\n",
    "J & = \\frac{1}{2} (\\mathbf{a}_{(L)} - \\mathbf{y})^T \\cdot (\\mathbf{a}_{(L)} - \\mathbf{y})\n",
    "\\end{align*}\n",
    "\n",
    "#### Para trás:\n",
    "\n",
    "\\begin{align*} \n",
    "\\boldsymbol{\\delta}_{(i)} & = \\begin{cases}\n",
    "\\mathbf{a}_{(i)} - \\mathbf{y} & \\text{ if } i = L \\\\\n",
    "\\\\\n",
    "\\mathbf{W}_{(i)}^{T} \\cdot \\boldsymbol{\\delta}_{(i+1)} \\circ [ \\mathbf{a}_{(i)} (1 - \\mathbf{a}_{(i)}) ] & \\text{ if } 1 \\leq i \\leq L-1 \n",
    "\\end{cases}\n",
    "\\\\\n",
    "\\\\\n",
    "\\boldsymbol{\\nabla}_{\\mathbf{W}}^{(i)} & = \\boldsymbol{\\delta}_{(i)} \\cdot \\mathbf{a}_{(i-1)}^{T}\n",
    "\\\\\n",
    "\\\\\n",
    "\\boldsymbol{\\nabla}_{\\mathbf{b}}^{(i)} & = \\boldsymbol{\\delta}_{(i)}\n",
    "\\\\\n",
    "\\\\\n",
    "\\mathbf{W}_{(i)} & = \\mathbf{W}_{(i)} - \\eta \\boldsymbol{\\nabla}_{\\mathbf{W}}^{(i)}\n",
    "\\\\\n",
    "\\\\\n",
    "\\mathbf{b}_{(i)} & = \\mathbf{b}_{(i)} - \\eta \\boldsymbol{\\nabla}_{\\mathbf{b}}^{(i)}\n",
    "\\end{align*}\n",
    "\n",
    "\n",
    "### Equações para classificação\n",
    "Considerando uma amostra apenas (SGD).\n",
    "\n",
    "#### Para a frente:\n",
    "\n",
    "\\begin{align*} \n",
    "\\sigma(\\mathbf{z}) & = \\frac{1}{1+e^{-\\mathbf{z}}} \\\\\n",
    "\\\\\n",
    "\\mathbf{a}_{(i)} & = \\begin{cases}\n",
    "\\mathbf{x}  & \\text{ if } i = 0 \\\\\n",
    "\\\\\n",
    "\\sigma(\\mathbf{W}_{(i-1)} \\cdot \\mathbf{a}_{(i-1)} + \\mathbf{b}_{(i-1)}) & \\text{ if } 1 \\leq i \\leq L \\\\\n",
    "\\end{cases}\n",
    "\\\\\n",
    "\\\\\n",
    "J & = - \\sum \\left (\\mathbf{y} \\log{(\\mathbf{a}_{(L)})} + (1 - \\mathbf{y}) \\log{(1 - \\mathbf{a}_{(L)})} \\right )\n",
    "\\end{align*}\n",
    "\n",
    "#### Para trás:\n",
    "\n",
    "\\begin{align*} \n",
    "\\boldsymbol{\\delta}_{(i)} & = \\begin{cases}\n",
    "\\mathbf{a}_{(i)} - \\mathbf{y} & \\text{ if } i = L \\\\\n",
    "\\\\\n",
    "\\mathbf{W}_{(i)}^{T} \\cdot \\boldsymbol{\\delta}_{(i+1)} \\circ [ \\mathbf{a}_{(i)} (1 - \\mathbf{a}_{(i)}) ] & \\text{ if } 1 \\leq i \\leq L-1 \n",
    "\\end{cases}\n",
    "\\\\\n",
    "\\\\\n",
    "\\boldsymbol{\\nabla}_{\\mathbf{W}}^{(i)} & = \\boldsymbol{\\delta}_{(i)} \\cdot \\mathbf{a}_{(i-1)}^{T}\n",
    "\\\\\n",
    "\\\\\n",
    "\\boldsymbol{\\nabla}_{\\mathbf{b}}^{(i)} & = \\boldsymbol{\\delta}_{(i)}\n",
    "\\\\\n",
    "\\\\\n",
    "\\mathbf{W}_{(i)} & = \\mathbf{W}_{(i)} - \\eta \\boldsymbol{\\nabla}_{\\mathbf{W}}^{(i)}\n",
    "\\\\\n",
    "\\\\\n",
    "\\mathbf{b}_{(i)} & = \\mathbf{b}_{(i)} - \\eta \\boldsymbol{\\nabla}_{\\mathbf{b}}^{(i)}\n",
    "\\end{align*}\n"
   ]
  },
  {
   "cell_type": "markdown",
   "metadata": {
    "deletable": true,
    "editable": true
   },
   "source": [
    "### O código"
   ]
  },
  {
   "cell_type": "code",
   "execution_count": 2,
   "metadata": {
    "collapsed": false,
    "deletable": true,
    "editable": true
   },
   "outputs": [],
   "source": [
    "class BackPropNeuralNetwork:\n",
    "    \n",
    "    def __init__(self, layer_sizes=[], is_classifier=True):\n",
    "        self.L = len(layer_sizes)\n",
    "        self.s = layer_sizes\n",
    "        self.W = None\n",
    "        self.b = None\n",
    "        self.classifier = is_classifier\n",
    "        self.costs = []\n",
    "\n",
    "    def init_weights(self, epsilon=None):\n",
    "        from numpy.random import rand\n",
    "        self.W = []\n",
    "        self.b = []\n",
    "        for i in range(self.L-1):\n",
    "            # Glorot Uniform\n",
    "            eps = epsilon or np.sqrt(6.0 / (self.s[i] + self.s[i+1]))\n",
    "            self.W.append(2*eps*rand(self.s[i+1], self.s[i]) - eps)\n",
    "            self.b.append(np.zeros((self.s[i+1], 1), np.float))\n",
    "            \n",
    "    def predict(self, X):\n",
    "        a = self.compute_activations(self.W, self.b, X)\n",
    "        return a[-1]\n",
    "    \n",
    "    def evaluate(self, X, y):\n",
    "        a = self.compute_activations(self.W, self.b, X)\n",
    "        cost = self.compute_cost(a[-1], y)\n",
    "        return cost\n",
    "    \n",
    "    def compute_cost_and_gradient(self, W, b, X, y):\n",
    "        M, N  = X.shape\n",
    "        Gw = [None for n in self.s[:-1]]\n",
    "        Gb = [None for n in self.s[:-1]]\n",
    "        # Forward propagation\n",
    "        a = self.compute_activations(W, b, X)\n",
    "        # Cost computation\n",
    "        J = self.compute_cost(a[-1], y)\n",
    "        # Back propagation\n",
    "        d = self.compute_errors(W, a, y)\n",
    "        # Gradients computation\n",
    "        for j in range(self.L-1):\n",
    "            Gw[j] = np.dot(d[j+1].T, a[j]) / M\n",
    "            Gb[j] = np.dot(d[j+1].T, np.ones((M, 1))) / M\n",
    "        # for txt, M in zip(['W', 'b', 'a', 'd', 'Gw', 'Gb'], [W, b, a, d, Gw, Gb]):\n",
    "        #     print('{:3s}:'.format(txt), [m.shape for m in M if m is not None])  \n",
    "        return J, Gw, Gb\n",
    "\n",
    "    def compute_cost(self, y_pred, y_true):\n",
    "        if self.classifier:\n",
    "            # classifier: binary cross-entropy\n",
    "            J = - (y_true * np.log(y_pred) + (1 - y_true) * np.log(1 - y_pred)).sum() / y_true.shape[0]\n",
    "        else:\n",
    "            # regressor: mean squared error\n",
    "            J = 0.5 * np.square(y_true - y_pred).sum() / y_true.shape[0]\n",
    "        return J\n",
    "    \n",
    "    def compute_activations(self, W, b, X):\n",
    "        a = [None for n in self.s]\n",
    "        a[0] = X\n",
    "        for j in range(1, self.L):\n",
    "            z = np.dot(a[j-1], W[j-1].T) + b[j-1].T\n",
    "            if j == self.L-1 and not self.classifier:\n",
    "                a[j] = z\n",
    "            else:\n",
    "                a[j] = self._logistic(z)\n",
    "        return a            \n",
    "\n",
    "    def compute_errors(self, W, a, y):\n",
    "        d = [None for n in self.s]\n",
    "        d[-1] = a[-1] - y\n",
    "        for j in range(self.L-2, 0, -1):\n",
    "            d[j] = np.dot(d[j+1], W[j]) * a[j] * (1 - a[j])\n",
    "        return d\n",
    "\n",
    "    def sgd(self, X, y, eta, batch, n_epochs, Xval=None, yval=None, verbose=0):\n",
    "        m, n = X.shape\n",
    "        n_batches = int(np.ceil(m / batch))\n",
    "        \n",
    "        for epoch in range(n_epochs):\n",
    "            for ii in range(n_batches):\n",
    "                kk = batch * ii\n",
    "                X_batch, y_batch = X[kk:kk+batch], y[kk:kk+batch]\n",
    "                \n",
    "                cost, Gw, Gb = self.compute_cost_and_gradient(self.W, self.b, X, y)\n",
    "                for i in range(len(self.W)):\n",
    "                    self.W[i] -= eta * Gw[i]\n",
    "                    self.b[i] -= eta * Gb[i]\n",
    "                                \n",
    "            if Xval is not None:\n",
    "                cost_val = self.evaluate(Xval, yval)\n",
    "                self.costs.append((epoch, cost, cost_val))\n",
    "                if (verbose > 0) and (not epoch % verbose):\n",
    "                    print(('{:4d} Training Cost: {:.5f}    Validation Cost: {:.5f}'.format(epoch, cost, cost_val)))\n",
    "            else:\n",
    "                self.costs.append((epoch, cost, 0))\n",
    "                if (verbose > 0) and (not epoch % verbose):\n",
    "                    print(('{:4d} Training Cost: {:.5f}'.format(epoch, cost)))\n",
    "\n",
    "        return self.costs\n",
    "\n",
    "    @staticmethod\n",
    "    def _logistic(z):\n",
    "        z = np.asarray(z)\n",
    "        z = np.minimum(z,  15)\n",
    "        z = np.maximum(z, -15)\n",
    "        return np.ones(z.shape)/(1.0 + np.exp(-z))\n",
    "\n",
    "\n",
    "# nnet = BackPropNeuralNetwork([10, 20, 5], is_classifier=False)\n",
    "# nnet.init_weights();\n",
    "# J, G, B = nnet.compute_cost_and_gradient(nnet.W, nnet.b, np.zeros((100, 10)), np.zeros((100, 5)))"
   ]
  },
  {
   "cell_type": "markdown",
   "metadata": {
    "deletable": true,
    "editable": true
   },
   "source": [
    "### Verificando o cálculo do gradiente\n",
    "\n",
    "Para fazer uma verificação numérica da correção de nossa implementação concatenamos cada matriz $W^{(L)}$ de forma a criar um vetor $\\theta$ que contenha todos os pesos (e bias) de nossa rede neural.\n",
    "\n",
    "Para calcular o gradiente, para cada elemento do vetor $\\theta$ fazemos\n",
    "\n",
    "\n",
    "$$\n",
    "\\theta^{(i+)} = \\theta + \\begin{bmatrix}\n",
    "0 \\\\\n",
    "0\\\\ \n",
    "\\vdots \\\\ \n",
    "\\epsilon \\\\ \n",
    "\\vdots \\\\ \n",
    "0\n",
    "\\end{bmatrix} \\; \\; \\; \\; \\; \\; \\text{ e }  \\; \\; \\; \\theta^{(i-)} = \\theta - \\begin{bmatrix}\n",
    "0 \\\\\n",
    "0\\\\ \n",
    "\\vdots \\\\ \n",
    "\\epsilon \\\\ \n",
    "\\vdots \\\\ \n",
    "0\n",
    "\\end{bmatrix}\n",
    "$$\n",
    "\n",
    "Uma aproximação para o gradiente é dada por:\n",
    "\n",
    "$$\n",
    "\\frac{\\partial }{\\partial \\theta_i} J(\\theta) \\approx \\frac{J(\\theta^{(i+)}) - J(\\theta^{(i-)})}{2 \\epsilon}\n",
    "$$"
   ]
  },
  {
   "cell_type": "code",
   "execution_count": 3,
   "metadata": {
    "collapsed": false,
    "deletable": true,
    "editable": true
   },
   "outputs": [
    {
     "name": "stdout",
     "output_type": "stream",
     "text": [
      "Classificador: OK\n",
      "Regressor:     OK\n"
     ]
    }
   ],
   "source": [
    "def compute_approx_gradient(nnet, W, b, X, y, eps=0.0001):\n",
    "    def roll(q_flat, W=W):\n",
    "        Q, m = [], 0\n",
    "        for h, w in [t.shape for t in W]:\n",
    "            Q.append(q_flat[m:m + h*w].reshape((h,w)))\n",
    "            m += h*w\n",
    "        return Q\n",
    "    \n",
    "    g_flat = np.concatenate([t.flat for t in W])\n",
    "    ag_flat = np.zeros_like(g_flat)\n",
    "    for i in range(g_flat.shape[0]):\n",
    "        t_plus = g_flat.copy()\n",
    "        t_plus[i] += eps            \n",
    "        a_plus = nnet.compute_activations(roll(t_plus), b, X)\n",
    "        J_plus = nnet.compute_cost(a_plus[-1], y)\n",
    "        t_minus = g_flat.copy()\n",
    "        t_minus[i] -= eps\n",
    "        a_minus = nnet.compute_activations(roll(t_minus), b, X)\n",
    "        J_minus = nnet.compute_cost(a_minus[-1], y)\n",
    "        ag_flat[i] = (J_plus - J_minus) / (2*eps)\n",
    "\n",
    "    b_flat = np.concatenate([t.flat for t in b])\n",
    "    ab_flat = np.zeros_like(b_flat)\n",
    "    for i in range(b_flat.shape[0]):\n",
    "        b_plus = b_flat.copy()\n",
    "        b_plus[i] += eps            \n",
    "        a_plus = nnet.compute_activations(W, roll(b_plus, b), X)\n",
    "        J_plus = nnet.compute_cost(a_plus[-1], y)\n",
    "        b_minus = b_flat.copy()\n",
    "        b_minus[i] -= eps\n",
    "        a_minus = nnet.compute_activations(W, roll(b_minus, b), X)\n",
    "        J_minus = nnet.compute_cost(a_minus[-1], y)\n",
    "        ab_flat[i] = (J_plus - J_minus) / (2*eps)\n",
    "\n",
    "    return ag_flat, ab_flat\n",
    "\n",
    "def gradient_check(classif):\n",
    "    nn = BackPropNeuralNetwork([4, 5, 3], is_classifier=classif)\n",
    "    nn.init_weights()\n",
    "    \n",
    "    X = np.sin(np.arange(32)).reshape((8, 4)) / 10\n",
    "    y = np.zeros((8, 3))\n",
    "    for i, k in enumerate(np.mod(np.arange(8), 3)):\n",
    "        y[i,k] = 1.0\n",
    "    \n",
    "    ag_flat, ab_flat = compute_approx_gradient(nn, nn.W, nn.b, X, y)\n",
    "    J, G, B = nn.compute_cost_and_gradient(nn.W, nn.b, X, y)\n",
    "    g_flat = np.concatenate([t.flat for t in G])\n",
    "    b_flat = np.concatenate([t.flat for t in B])\n",
    "    \n",
    "    return np.allclose(ag_flat, g_flat) and np.allclose(ab_flat, b_flat)\n",
    "\n",
    "print('Classificador:', ['Error', 'OK'][gradient_check(True)])\n",
    "print('Regressor:    ', ['Error', 'OK'][gradient_check(True)])"
   ]
  },
  {
   "cell_type": "markdown",
   "metadata": {
    "deletable": true,
    "editable": true
   },
   "source": [
    "## Testes"
   ]
  },
  {
   "cell_type": "markdown",
   "metadata": {
    "deletable": true,
    "editable": true
   },
   "source": [
    "### Dataset"
   ]
  },
  {
   "cell_type": "code",
   "execution_count": 4,
   "metadata": {
    "collapsed": false,
    "deletable": true,
    "editable": true,
    "scrolled": false
   },
   "outputs": [
    {
     "name": "stdout",
     "output_type": "stream",
     "text": [
      "Shapes: (404, 13) (102, 13) (404, 1) (102, 1)\n",
      "Target: min=1.730, mean=12.741, max=37.970\n"
     ]
    }
   ],
   "source": [
    "# -----------------------------------------------------------------------------------------------------------\n",
    "# Boston Housing Data Set\n",
    "# -----------------------\n",
    "# [https://archive.ics.uci.edu/ml/machine-learning-databases/housing/housing.names\n",
    "#\n",
    "# 1. Title: Boston Housing Data\n",
    "# \n",
    "# 2. Sources:\n",
    "#    (a) Origin:  This dataset was taken from the StatLib library which is\n",
    "#                 maintained at Carnegie Mellon University.\n",
    "#    (b) Creator:  Harrison, D. and Rubinfeld, D.L. 'Hedonic prices and the \n",
    "#                  demand for clean air', J. Environ. Economics & Management,\n",
    "#                  vol.5, 81-102, 1978.\n",
    "#    (c) Date: July 7, 1993\n",
    "# \n",
    "# 3. Past Usage:\n",
    "#    -   Used in Belsley, Kuh & Welsch, 'Regression diagnostics ...', Wiley, \n",
    "#        1980.   N.B. Various transformations are used in the table on\n",
    "#        pages 244-261.\n",
    "#     -  Quinlan,R. (1993). Combining Instance-Based and Model-Based Learning.\n",
    "#        In Proceedings on the Tenth International Conference of Machine \n",
    "#        Learning, 236-243, University of Massachusetts, Amherst. Morgan\n",
    "#        Kaufmann.\n",
    "# \n",
    "# 4. Relevant Information:\n",
    "# \n",
    "#    Concerns housing values in suburbs of Boston.\n",
    "# \n",
    "# 5. Number of Instances: 506\n",
    "# \n",
    "# 6. Number of Attributes: 13 continuous attributes (including \"class\"\n",
    "#                          attribute \"MEDV\"), 1 binary-valued attribute.\n",
    "# \n",
    "# 7. Attribute Information:\n",
    "# \n",
    "#     1. CRIM      per capita crime rate by town\n",
    "#     2. ZN        proportion of residential land zoned for lots over \n",
    "#                  25,000 sq.ft.\n",
    "#     3. INDUS     proportion of non-retail business acres per town\n",
    "#     4. CHAS      Charles River dummy variable (= 1 if tract bounds \n",
    "#                  river; 0 otherwise)\n",
    "#     5. NOX       nitric oxides concentration (parts per 10 million)\n",
    "#     6. RM        average number of rooms per dwelling\n",
    "#     7. AGE       proportion of owner-occupied units built prior to 1940\n",
    "#     8. DIS       weighted distances to five Boston employment centres\n",
    "#     9. RAD       index of accessibility to radial highways\n",
    "#     10. TAX      full-value property-tax rate per $10,000\n",
    "#     11. PTRATIO  pupil-teacher ratio by town\n",
    "#     12. B        1000(Bk - 0.63)^2 where Bk is the proportion of blacks by town\n",
    "#     13. LSTAT    % lower status of the population\n",
    "#\n",
    "#     14. MEDV     Median value of owner-occupied homes in $1000's\n",
    "# \n",
    "# 8. Missing Attribute Values:  None.\n",
    "# -----------------------------------------------------------------------------------------------------------\n",
    "from keras.datasets import boston_housing\n",
    "(Xtra, ytra), (Xval, yval) = boston_housing.load_data()\n",
    "\n",
    "mean = Xtra.mean(0)\n",
    "Xtra -= mean\n",
    "std = Xtra.std(0)\n",
    "Xtra /= std\n",
    "\n",
    "Xval -= mean\n",
    "Xval /= std\n",
    "\n",
    "ytra = ytra.reshape(-1, 1)\n",
    "yval = yval.reshape(-1, 1)\n",
    "\n",
    "m, n = Xtra.shape\n",
    "print('Shapes:', Xtra.shape, Xval.shape, ytra.shape, yval.shape)\n",
    "print('Target: min={:.3f}, mean={:.3f}, max={:.3f}'.format(ytra.min(), ytra.mean(), ytra.max()))"
   ]
  },
  {
   "cell_type": "markdown",
   "metadata": {
    "deletable": true,
    "editable": true
   },
   "source": [
    "\\begin{align*} \n",
    "\\mathbf{X}_{train} & = \\begin{bmatrix}\n",
    "\\longleftarrow & (\\mathbf{x}^{(0)})^T & \\longrightarrow \\\\ \n",
    "\\longleftarrow & (\\mathbf{x}^{(1)})^T & \\longrightarrow \\\\ \n",
    "  & \\vdots  & \\\\ \n",
    "\\longleftarrow & (\\mathbf{x}^{(m-1)})^T & \\longrightarrow \n",
    "\\end{bmatrix} = \\begin{bmatrix}\n",
    "x_0^{(0)} & x_1^{(0)} & x_2^{(0)} & \\ldots & x_{12}^{(0)} \\\\\n",
    "x_0^{(1)} & x_1^{(1)} & x_2^{(1)} & \\ldots & x_{12}^{(1)} \\\\\n",
    " &  & \\vdots  & \\\\ \n",
    "x_0^{(403)} & x_1^{(403)} & x_2^{(403)} & \\ldots & x_{12}^{(403)}\n",
    "\\end{bmatrix} \\\\\n",
    "\\\\\n",
    "\\mathbf{y}_{train} & = \\begin{bmatrix}\n",
    "y^{(0)} \\\\\n",
    "y^{(1)} \\\\\n",
    "\\vdots  \\\\ \n",
    "y^{(403)} \\\\\n",
    "\\end{bmatrix}\n",
    "\\end{align*}\n"
   ]
  },
  {
   "cell_type": "markdown",
   "metadata": {
    "deletable": true,
    "editable": true
   },
   "source": [
    "### Testando nossa implementação"
   ]
  },
  {
   "cell_type": "code",
   "execution_count": 5,
   "metadata": {
    "collapsed": false,
    "deletable": true,
    "editable": true,
    "scrolled": false
   },
   "outputs": [
    {
     "name": "stdout",
     "output_type": "stream",
     "text": [
      "   0 Training Cost: 22.58283    Validation Cost: 17.43773\n",
      "1000 Training Cost: 0.00785    Validation Cost: 0.01253\n",
      "2000 Training Cost: 0.00356    Validation Cost: 0.00675\n",
      "3000 Training Cost: 0.00214    Validation Cost: 0.00481\n",
      "4000 Training Cost: 0.00145    Validation Cost: 0.00384\n",
      "5000 Training Cost: 0.00108    Validation Cost: 0.00329\n",
      "6000 Training Cost: 0.00085    Validation Cost: 0.00296\n",
      "7000 Training Cost: 0.00070    Validation Cost: 0.00275\n",
      "8000 Training Cost: 0.00059    Validation Cost: 0.00261\n",
      "9000 Training Cost: 0.00051    Validation Cost: 0.00250\n",
      "\n",
      "Trained in 65.589157s\n",
      "\n",
      "MSE: 0.00482227078726\n",
      "\n",
      "y_hat [ 29.2   16.24   9.76   5.58   8.46  13.61   4.53   7.51  17.92  14.38]\n",
      "y_val [ 29.05  16.21   9.74   5.5    8.44  13.59   4.61   7.51  17.93  14.36]\n"
     ]
    }
   ],
   "source": [
    "layer_sizes = [n, 40, 20, 1]\n",
    "n_epochs = 10000\n",
    "\n",
    "nnet = BackPropNeuralNetwork(layer_sizes, is_classifier=False)\n",
    "nnet.init_weights();\n",
    "\n",
    "try:\n",
    "    t1 = t0 = time.time()\n",
    "    costs = nnet.sgd(Xtra, ytra, 0.1, 101, n_epochs, Xval=Xval, yval=yval, verbose=n_epochs/10)\n",
    "    t1 = time.time()\n",
    "except KeyboardInterrupt:\n",
    "    pass\n",
    "\n",
    "print('\\nTrained in {:2f}s'.format(t1-t0))\n",
    "yhat = nnet.predict(Xval)\n",
    "mse = np.square(yhat - yval).mean()\n",
    "print('\\nMSE:', mse)\n",
    "print()\n",
    "print('y_hat', yhat[:10,0])\n",
    "print('y_val', yval[:10,0])\n"
   ]
  },
  {
   "cell_type": "code",
   "execution_count": 6,
   "metadata": {
    "collapsed": false,
    "deletable": true,
    "editable": true
   },
   "outputs": [
    {
     "data": {
      "image/png": "[encoded data removed]",
      "text/plain": [
       "<matplotlib.figure.Figure at 0x7f3e85b93438>"
      ]
     },
     "metadata": {},
     "output_type": "display_data"
    }
   ],
   "source": [
    "plot.plot([c1 for i, c1, c2 in costs], label='train')\n",
    "plot.plot([c2 for i, c1, c2 in costs], label='validation')\n",
    "plot.ylim(0, 0.1)\n",
    "plot.legend()\n",
    "plot.title('Mean Squared Error');\n"
   ]
  },
  {
   "cell_type": "markdown",
   "metadata": {
    "deletable": true,
    "editable": true
   },
   "source": [
    "### TensorFlow"
   ]
  },
  {
   "cell_type": "code",
   "execution_count": null,
   "metadata": {
    "collapsed": true,
    "deletable": true,
    "editable": true
   },
   "outputs": [],
   "source": []
  },
  {
   "cell_type": "markdown",
   "metadata": {
    "deletable": true,
    "editable": true
   },
   "source": [
    "### Keras"
   ]
  },
  {
   "cell_type": "code",
   "execution_count": 11,
   "metadata": {
    "collapsed": false,
    "deletable": true,
    "editable": true
   },
   "outputs": [
    {
     "name": "stdout",
     "output_type": "stream",
     "text": [
      "_________________________________________________________________\n",
      "Layer (type)                 Output Shape              Param #   \n",
      "=================================================================\n",
      "dense_4 (Dense)              (None, 40)                560       \n",
      "_________________________________________________________________\n",
      "dense_5 (Dense)              (None, 20)                820       \n",
      "_________________________________________________________________\n",
      "dense_6 (Dense)              (None, 1)                 21        \n",
      "=================================================================\n",
      "Total params: 1,401\n",
      "Trainable params: 1,401\n",
      "Non-trainable params: 0\n",
      "_________________________________________________________________\n",
      "\n",
      "Trained in 42.903471s\n",
      "\n",
      "MSE: 0.00244146387531\n",
      "\n",
      "y_hat [ 29.11  16.21   9.73   5.64   8.44  13.58   4.54   7.5   17.89  14.34]\n",
      "y_val [ 29.05  16.21   9.74   5.5    8.44  13.59   4.61   7.51  17.93  14.36]\n"
     ]
    }
   ],
   "source": [
    "estop = EarlyStopping(patience=500, verbose=1)\n",
    "\n",
    "def build():\n",
    "    model = Sequential()\n",
    "    model.add(Dense(layer_sizes[1], activation='sigmoid', input_shape=(layer_sizes[0],)))\n",
    "    model.add(Dense(layer_sizes[2], activation='sigmoid'))\n",
    "    model.add(Dense(layer_sizes[3], activation=None))\n",
    "    return model\n",
    "\n",
    "nnet = build()\n",
    "nnet.summary()\n",
    "\n",
    "opt = SGD(lr=0.05)\n",
    "nnet.compile(loss=\"mse\", optimizer=opt, metrics=[\"mae\"])    \n",
    "\n",
    "try:\n",
    "    t0 = time.time()\n",
    "    histo2 = nnet.fit(Xtra, ytra, batch_size=101, epochs=n_epochs, verbose=0, \n",
    "                      validation_data=(Xval, yval), callbacks=[estop])\n",
    "    t1 = time.time()\n",
    "except KeyboardInterrupt:\n",
    "    pass\n",
    "\n",
    "print('\\nTrained in {:2f}s'.format(t1-t0))\n",
    "print()\n",
    "yhat = nnet.predict(Xval, verbose=0)\n",
    "mse = np.square(yhat - yval).mean()\n",
    "print('MSE:', mse)\n",
    "print()\n",
    "print('y_hat', yhat[:10,0])\n",
    "print('y_val', yval[:10,0])\n"
   ]
  },
  {
   "cell_type": "code",
   "execution_count": 12,
   "metadata": {
    "collapsed": false,
    "deletable": true,
    "editable": true
   },
   "outputs": [
    {
     "data": {
      "image/png": "[encoded data removed]",
      "text/plain": [
       "<matplotlib.figure.Figure at 0x7f3e6e7cab70>"
      ]
     },
     "metadata": {},
     "output_type": "display_data"
    }
   ],
   "source": [
    "fig = plot.figure(figsize=(15,4))\n",
    "\n",
    "fig.add_subplot(121)\n",
    "plot.plot(histo2.history['loss'], label='train')\n",
    "plot.plot(histo2.history['val_loss'], label='validation')\n",
    "plot.ylim(0, 0.1)\n",
    "plot.legend()\n",
    "plot.title('Mean Squared Error');\n",
    "\n",
    "fig.add_subplot(122)\n",
    "plot.plot(histo2.history['mean_absolute_error'], label='train')\n",
    "plot.plot(histo2.history['val_mean_absolute_error'], label='validation')\n",
    "plot.ylim(0, 0.1)\n",
    "plot.legend()\n",
    "plot.title('Mean Absolute Error');\n"
   ]
  },
  {
   "cell_type": "code",
   "execution_count": 13,
   "metadata": {
    "collapsed": false,
    "deletable": true,
    "editable": true
   },
   "outputs": [
    {
     "name": "stdout",
     "output_type": "stream",
     "text": [
      "[0.0024734452462700359, 0.0031406277129837476, 0.0027253747998745928, 0.0026597464691126243, 0.0024414679238700544]\n",
      "[0.0024114498035337746, 0.0024113711759739974, 0.0024112925651587412, 0.0024112139710548738, 0.0024111353936287117]\n"
     ]
    }
   ],
   "source": [
    "print(histo2.history['val_loss'][-5:])\n",
    "print([c2 for i, c1, c2 in costs][-5:])"
   ]
  },
  {
   "cell_type": "code",
   "execution_count": null,
   "metadata": {
    "collapsed": true,
    "deletable": true,
    "editable": true
   },
   "outputs": [],
   "source": []
  }
 ],
 "metadata": {
  "kernelspec": {
   "display_name": "Python 3",
   "language": "python",
   "name": "python3"
  },
  "language_info": {
   "codemirror_mode": {
    "name": "ipython",
    "version": 3
   },
   "file_extension": ".py",
   "mimetype": "text/x-python",
   "name": "python",
   "nbconvert_exporter": "python",
   "pygments_lexer": "ipython3",
   "version": "3.4.3"
  },
  "latex_envs": {
   "LaTeX_envs_menu_present": true,
   "autocomplete": true,
   "bibliofile": "biblio.bib",
   "cite_by": "apalike",
   "current_citInitial": 1,
   "eqLabelWithNumbers": true,
   "eqNumInitial": 1,
   "hotkeys": {
    "equation": "Ctrl-E",
    "itemize": "Ctrl-I"
   },
   "labels_anchors": false,
   "latex_user_defs": false,
   "report_style_numbering": false,
   "user_envs_cfg": false
  },
  "toc": {
   "colors": {
    "hover_highlight": "#DAA520",
    "running_highlight": "#FF0000",
    "selected_highlight": "#FFD700"
   },
   "moveMenuLeft": true,
   "nav_menu": {
    "height": "12px",
    "width": "252px"
   },
   "navigate_menu": true,
   "number_sections": true,
   "sideBar": true,
   "threshold": 4,
   "toc_cell": false,
   "toc_position": {
    "height": "697px",
    "left": "0px",
    "right": "1189px",
    "top": "106px",
    "width": "251px"
   },
   "toc_section_display": "block",
   "toc_window_display": false,
   "widenNotebook": false
  }
 },
 "nbformat": 4,
 "nbformat_minor": 2
}
