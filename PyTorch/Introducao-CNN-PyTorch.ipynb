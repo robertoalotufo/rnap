{
 "cells": [
  {
   "cell_type": "markdown",
   "metadata": {},
   "source": [
    "# Introduçãos às CNNs no PyTorch e ilustrações dos resultados obtidos para cada camada da DNN\n",
    "\n",
    "## Objetivos\n",
    "\n",
    "Este notebook contém exemplo numérico de uma rede com uma camada convolucional e uma camada densa. A camada convolucional possui ativação reLU e max-pooling. Já a camada densa possui uma única saída com ativação sigmóide.\n",
    "\n",
    "Com esse exemplo, aprende-se a:\n",
    "- construir a rede utilizando tanto o modelo sequencial como o via API\n",
    "- inicializar os pesos e biases da rede convolucional e da rede densa\n",
    "- visualizar os dados intermediários da rede"
   ]
  },
  {
   "cell_type": "markdown",
   "metadata": {},
   "source": [
    "## Importação dos Módulos"
   ]
  },
  {
   "cell_type": "code",
   "execution_count": 21,
   "metadata": {
    "ExecuteTime": {
     "end_time": "2017-05-20T06:08:54.196376",
     "start_time": "2017-05-20T06:08:49.343236"
    }
   },
   "outputs": [],
   "source": [
    "import numpy as np\n",
    "import os\n",
    "\n",
    "import torch\n",
    "import torch.nn as nn\n",
    "import torch.functional as F\n",
    "\n",
    "from collections import OrderedDict\n",
    "\n",
    "np.set_printoptions(precision=3) # ponto flutuante com 3 casas para facilitar a impressão"
   ]
  },
  {
   "cell_type": "code",
   "execution_count": 2,
   "metadata": {},
   "outputs": [
    {
     "name": "stdout",
     "output_type": "stream",
     "text": [
      "Usando GPU: True\n"
     ]
    }
   ],
   "source": [
    "# verifica se a GPU está disponível\n",
    "use_gpu = torch.cuda.is_available()\n",
    "print(\"Usando GPU:\", use_gpu)"
   ]
  },
  {
   "cell_type": "markdown",
   "metadata": {},
   "source": [
    "## Definição da Rede, camadas convolucionais e densas\n",
    "\n",
    "Uma CNN pode ser construída de dois modos no PyTorch. Ela pode ser implementada usando\n",
    "\n",
    "* Modelo Sequential: modelo mais simpes, utilizado quando a rede é composto de camadas uma após a outra.\n",
    "* Modelo subclasse de \"Module\": é o modelo mais geral, baseado em instâncias de camadas de podem ser montadas da forma como se desejar."
   ]
  },
  {
   "cell_type": "markdown",
   "metadata": {},
   "source": [
    "### Definição de camadas no PyTorch\n",
    "\n",
    "Em redes neurais, uma camada é usualmente um neurônio, que inclui a soma de multiplicação de\n",
    "pesos ou convolução e uma ativação usualmente não linear. Podemos dizer que o max-pooling \n",
    "também faz parte da camada.\n",
    "\n",
    "A rede que iremos utilizar neste exemplo possui 2 camadas: uma convolucional e outra densa.\n",
    "A camada convolucional terá ativação reLU e um max-pooling, já a camada densa terá uma\n",
    "ativação sigmóide."
   ]
  },
  {
   "cell_type": "markdown",
   "metadata": {
    "ExecuteTime": {
     "end_time": "2017-05-14T20:48:42.200325",
     "start_time": "2017-05-14T20:48:42.050307"
    }
   },
   "source": [
    "### Rede a ser implementada\n",
    "\n",
    "<img src='../figures/RedeIntroKeras.png', width=600pt>"
   ]
  },
  {
   "cell_type": "markdown",
   "metadata": {},
   "source": [
    "### Implementação do modelo"
   ]
  },
  {
   "cell_type": "code",
   "execution_count": 6,
   "metadata": {
    "ExecuteTime": {
     "end_time": "2017-05-20T06:08:54.242046",
     "start_time": "2017-05-20T06:08:54.221889"
    }
   },
   "outputs": [],
   "source": [
    "class Model(nn.Module):\n",
    "    def __init__(self):\n",
    "        super(Model, self).__init__()\n",
    "        \n",
    "        # camada convolucional\n",
    "        self.conv = nn.Conv2d(1, 3, (2, 2), padding=0, bias=True)\n",
    "        self.relu = nn.ReLU()\n",
    "        self.max_pool = nn.MaxPool2d((2, 2))\n",
    "        \n",
    "        # camada densa\n",
    "        self.dense = nn.Linear(4*5, 1, bias=True)\n",
    "        self.sigmoid = nn.Sigmoid()\n",
    "        \n",
    "    def forward(self, x):\n",
    "        # passa os dados pela camada convolucional\n",
    "        x = self.conv(x)\n",
    "        x = self.relu(x)\n",
    "        x = self.max_pool(x)\n",
    "        \n",
    "        # faz o flatten dos dados\n",
    "        x = x.view(-1, 4*5)\n",
    "        \n",
    "        # passa os dados pela camada densa\n",
    "        x = self.dense(x)\n",
    "        x = self.sigmoid(x)\n",
    "        \n",
    "        return x   "
   ]
  },
  {
   "cell_type": "code",
   "execution_count": 7,
   "metadata": {},
   "outputs": [
    {
     "name": "stdout",
     "output_type": "stream",
     "text": [
      "Model (\n",
      "  (conv): Conv2d(1, 3, kernel_size=(2, 2), stride=(1, 1))\n",
      "  (relu): ReLU ()\n",
      "  (max_pool): MaxPool2d (size=(2, 2), stride=(2, 2), dilation=(1, 1))\n",
      "  (dense): Linear (20 -> 1)\n",
      "  (sigmoid): Sigmoid ()\n",
      ")\n"
     ]
    }
   ],
   "source": [
    "model = Model()\n",
    "print(model)"
   ]
  },
  {
   "cell_type": "markdown",
   "metadata": {},
   "source": [
    "### Outra forma de implementação do modelo"
   ]
  },
  {
   "cell_type": "code",
   "execution_count": 23,
   "metadata": {
    "ExecuteTime": {
     "end_time": "2017-05-20T06:08:54.242046",
     "start_time": "2017-05-20T06:08:54.221889"
    }
   },
   "outputs": [],
   "source": [
    "class Model2(nn.Module):\n",
    "    def __init__(self):\n",
    "        super(Model2, self).__init__()\n",
    "        \n",
    "        # camada convolucional\n",
    "        self.layer1 = nn.Sequential(OrderedDict([\n",
    "            ('conv', nn.Conv2d(1, 3, (2, 2), padding=0, bias=True)),\n",
    "            ('relu', nn.ReLU()),\n",
    "            ('max_pool', nn.MaxPool2d((2, 2)))\n",
    "        ]))\n",
    "        \n",
    "        # camada densa\n",
    "        self.layer2 = nn.Sequential(OrderedDict([\n",
    "            ('dense', nn.Linear(4*5, 1, bias=True)),\n",
    "            ('sigmoid', nn.Sigmoid())\n",
    "        ]))\n",
    "        \n",
    "    def forward(self, x):\n",
    "        # passa os dados pela camada convolucional\n",
    "        x = self.layer1(x)\n",
    "        # faz o flatten dos dados\n",
    "        x = x.view(-1, 4*5)\n",
    "        # passa os dados pela camada densa\n",
    "        x = self.layer2(x) \n",
    "        \n",
    "        return x   "
   ]
  },
  {
   "cell_type": "code",
   "execution_count": 24,
   "metadata": {},
   "outputs": [
    {
     "name": "stdout",
     "output_type": "stream",
     "text": [
      "Model2 (\n",
      "  (layer1): Sequential (\n",
      "    (conv): Conv2d(1, 3, kernel_size=(2, 2), stride=(1, 1))\n",
      "    (relu): ReLU ()\n",
      "    (max_pool): MaxPool2d (size=(2, 2), stride=(2, 2), dilation=(1, 1))\n",
      "  )\n",
      "  (layer2): Sequential (\n",
      "    (dense): Linear (20 -> 1)\n",
      "    (sigmoid): Sigmoid ()\n",
      "  )\n",
      ")\n"
     ]
    }
   ],
   "source": [
    "model2 = Model2()\n",
    "print(model2)"
   ]
  },
  {
   "cell_type": "code",
   "execution_count": 4,
   "metadata": {
    "ExecuteTime": {
     "end_time": "2017-05-20T06:08:54.242046",
     "start_time": "2017-05-20T06:08:54.221889"
    },
    "collapsed": true
   },
   "outputs": [],
   "source": [
    "        \n",
    "def build_model():\n",
    "    \n",
    "    conv = nn.Sequential([\n",
    "        nn.Conv2d(input_channels, n_filters, kernel_shape, padding=0, bias=use_bias),\n",
    "        nn.ReLU(),\n",
    "        nn.MaxPool2d(kernel_shape),\n",
    "        \n",
    "        nn.Linear()\n",
    "    ])\n",
    "    \n",
    "    dense = Seque\n",
    "    \n",
    "    x = conv(x)\n",
    "    x = flatten(x)\n",
    "    x = dense(x)\n",
    "    \n",
    "    model.add(Conv2D(n_filters, # número de filtros\n",
    "                     kernel_shape, # tamanho do kernel\n",
    "                     name = 'conv_1', \n",
    "                     padding = 'valid',\n",
    "                     use_bias = use_bias,\n",
    "                     input_shape = input_shape,\n",
    "                     data_format = \"channels_first\"))\n",
    "    model.add(Activation('relu', name = 'relu_1'))\n",
    "    model.add(MaxPooling2D(pool_size = (2, 2), \n",
    "                           data_format = \"channels_first\",\n",
    "                           name = 'max_pool_1'))\n",
    "    \n",
    "    model.add(Flatten(name = 'flat'))\n",
    "    \n",
    "    model.add(Dense(1, \n",
    "                    use_bias = use_bias,\n",
    "                    name = 'dense_2'))\n",
    "    model.add(Activation('sigmoid', name = 'sigmoid_2'))\n",
    "    \n",
    "    return model"
   ]
  },
  {
   "cell_type": "markdown",
   "metadata": {},
   "source": [
    "### Implementação com *subclasse de Module*"
   ]
  },
  {
   "cell_type": "code",
   "execution_count": 3,
   "metadata": {
    "ExecuteTime": {
     "end_time": "2017-05-20T06:08:54.219379",
     "start_time": "2017-05-20T06:08:54.199207"
    }
   },
   "outputs": [],
   "source": [
    "\n",
    "\n",
    "\n",
    "def build_model_API():\n",
    "    \n",
    "    input_shape = (1,5,6) # (canais, linhas, colunas)\n",
    "    n_filters = 3\n",
    "    kernel_shape = (2,2)\n",
    "    use_bias = True\n",
    "    inputs = Input(input_shape, name = 'input')\n",
    "    conv1 = Conv2D(n_filters, \n",
    "                   kernel_shape, \n",
    "                   name = 'conv1', \n",
    "                   padding = 'valid',\n",
    "                   use_bias = use_bias,\n",
    "                   data_format = \"channels_first\")(inputs) \n",
    "    actv1 = Activation('relu', name = 'relu1')(conv1)\n",
    "    pool1 = MaxPooling2D(pool_size=(2,2),\n",
    "                         data_format = \"channels_first\",\n",
    "                         name = 'max_pool1')(actv1) \n",
    "    flat = Flatten(name = 'flat')(pool1)\n",
    "    dense1 = Dense(1, \n",
    "                   use_bias = use_bias,\n",
    "                   name = 'dense2')(flat)\n",
    "    out = Activation('sigmoid', name = 'sigmoid2')(dense1)\n",
    "\n",
    "    model = Model(inputs=inputs, outputs=out)\n",
    "    \n",
    "    return model"
   ]
  },
  {
   "cell_type": "markdown",
   "metadata": {},
   "source": [
    "# Configurando a rede neural com convolução e densa"
   ]
  },
  {
   "cell_type": "markdown",
   "metadata": {},
   "source": [
    "## Definição dos parâmetros da rede"
   ]
  },
  {
   "cell_type": "markdown",
   "metadata": {},
   "source": [
    "### Imagem de Entrada: 5 linhas e 6 colunas"
   ]
  },
  {
   "cell_type": "code",
   "execution_count": 8,
   "metadata": {
    "ExecuteTime": {
     "end_time": "2017-05-20T06:08:54.272576",
     "start_time": "2017-05-20T06:08:54.246553"
    }
   },
   "outputs": [
    {
     "name": "stdout",
     "output_type": "stream",
     "text": [
      "X.shape= (1, 1, 5, 6)\n",
      "X:\n",
      " [[[[ 0  0  0  0  0  0]\n",
      "   [ 0  0  1  0  0  0]\n",
      "   [ 0  0  0  0  0  0]\n",
      "   [ 0  0  0  0 -1  0]\n",
      "   [ 0  0  0  0  0  0]]]]\n"
     ]
    }
   ],
   "source": [
    "X = np.array([[[[0,0,0,0,0,0],\n",
    "                [0,0,1,0,0,0],\n",
    "                [0,0,0,0,0,0],\n",
    "                [0,0,0,0,-1,0],\n",
    "                [0,0,0,0,0,0]]]])\n",
    "\n",
    "(n_samples, n_channels, img_height, img_width) = X.shape\n",
    "input_shape = (n_channels, img_height, img_width)\n",
    "print('X.shape=',X.shape)\n",
    "print('X:\\n',X)"
   ]
  },
  {
   "cell_type": "markdown",
   "metadata": {},
   "source": [
    "### Kernel da convolução"
   ]
  },
  {
   "cell_type": "code",
   "execution_count": 10,
   "metadata": {
    "ExecuteTime": {
     "end_time": "2017-05-20T06:08:54.303144",
     "start_time": "2017-05-20T06:08:54.275838"
    }
   },
   "outputs": [
    {
     "name": "stdout",
     "output_type": "stream",
     "text": [
      "Win.shape (n_filters, n_channels, k_height, k_width): (3, 1, 2, 2)\n",
      "Win: (Pesos camada convolucional, formato mais fácil de entender)\n",
      " [[[[ 1  2]\n",
      "   [ 3  4]]]\n",
      "\n",
      "\n",
      " [[[ 5  6]\n",
      "   [ 7  8]]]\n",
      "\n",
      "\n",
      " [[[ 9 10]\n",
      "   [11 12]]]]\n",
      "Wconv.shape (k_height,k_width,n_channels,n_filters): (2, 2, 1, 3)\n",
      "Wconv: (Pesos camada convolucional, formato do Keras)\n",
      " [[[[ 1  5  9]]\n",
      "\n",
      "  [[ 2  6 10]]]\n",
      "\n",
      "\n",
      " [[[ 3  7 11]]\n",
      "\n",
      "  [[ 4  8 12]]]]\n"
     ]
    }
   ],
   "source": [
    "# número de filtros\n",
    "n_filters = 3    \n",
    "\n",
    "# comprimento e largura dos filtros\n",
    "k_height = k_width = 2 \n",
    "kernel_shape = (k_height,k_width)\n",
    "\n",
    "Win = np.array([[[1,2],\n",
    "                 [3,4]],\n",
    "                [[5,6],\n",
    "                 [7,8]],\n",
    "                [[9,10],\n",
    "                 [11,12]]]).reshape(n_filters,1,k_height,k_width)\n",
    "\n",
    "print('Win.shape (n_filters, n_channels, k_height, k_width):',Win.shape)\n",
    "print('Win: (Pesos camada convolucional, formato mais fácil de entender)\\n',Win)\n",
    "\n",
    "W_conv = Win.transpose(2,3,1,0)\n",
    "# Para deixar no formato do Keras: (k_height,k_width,n_channels,n_filters)\n",
    "print('Wconv.shape (k_height,k_width,n_channels,n_filters):',W_conv.shape)\n",
    "print('Wconv: (Pesos camada convolucional, formato do Keras)\\n',W_conv)\n"
   ]
  },
  {
   "cell_type": "markdown",
   "metadata": {},
   "source": [
    "### Bias da Convolução"
   ]
  },
  {
   "cell_type": "code",
   "execution_count": 11,
   "metadata": {
    "ExecuteTime": {
     "end_time": "2017-05-20T06:08:54.314510",
     "start_time": "2017-05-20T06:08:54.306077"
    }
   },
   "outputs": [
    {
     "name": "stdout",
     "output_type": "stream",
     "text": [
      "Bias da convolução: [ 0.1  0.2  0.3]\n"
     ]
    }
   ],
   "source": [
    "# valor de bias\n",
    "f_bias = 0.1     \n",
    "bias_conv = np.arange(1,n_filters+1) * f_bias\n",
    "print(\"Bias da convolução:\",bias_conv)"
   ]
  },
  {
   "cell_type": "markdown",
   "metadata": {},
   "source": [
    "### Pesos para a camada densa"
   ]
  },
  {
   "cell_type": "code",
   "execution_count": 12,
   "metadata": {
    "ExecuteTime": {
     "end_time": "2017-05-20T06:08:54.329725",
     "start_time": "2017-05-20T06:08:54.319625"
    }
   },
   "outputs": [
    {
     "name": "stdout",
     "output_type": "stream",
     "text": [
      "Pesos da camada densa:\n",
      " [[ 0]\n",
      " [ 1]\n",
      " [ 2]\n",
      " [ 3]\n",
      " [ 4]\n",
      " [ 5]\n",
      " [ 6]\n",
      " [ 7]\n",
      " [ 8]\n",
      " [ 9]\n",
      " [10]\n",
      " [11]]\n"
     ]
    }
   ],
   "source": [
    "# após o max pooling, são 3 imagens 2x2 = 12\n",
    "W_dense = np.arange(12).reshape(12,1)\n",
    "print(\"Pesos da camada densa:\\n\",W_dense)"
   ]
  },
  {
   "cell_type": "markdown",
   "metadata": {},
   "source": [
    "### Bias para a camada densa"
   ]
  },
  {
   "cell_type": "code",
   "execution_count": 13,
   "metadata": {
    "ExecuteTime": {
     "end_time": "2017-05-20T06:08:54.345402",
     "start_time": "2017-05-20T06:08:54.335039"
    }
   },
   "outputs": [
    {
     "name": "stdout",
     "output_type": "stream",
     "text": [
      "Bias da camanda densa: [ 0.1]\n"
     ]
    }
   ],
   "source": [
    "bias_dense = np.ones(1) * f_bias\n",
    "print(\"Bias da camanda densa:\",bias_dense)"
   ]
  },
  {
   "cell_type": "markdown",
   "metadata": {},
   "source": [
    "## Imprimindo os valores dos dados das camadas internas da rede\n",
    "\n",
    "Como a rede é executada no Keras como *backend*, não existem variáveis de fácil acesso para\n",
    "conseguir ver os dados nas camadas intermediárias da rede. Assim, o artifício para se conseguir\n",
    "isso é criar várias redes, uma rede com apenas a primeira camada, e fazer a predição. O resultado\n",
    "dessa predição são os dados após a primeira camada. Colocar a segunda camada e fazer uma nova predição, obtendo\n",
    "os dados após a segunda camada e assim sucessivamente até fazer a predição da rede completa. Isso\n",
    "é implementado no código a seguir:"
   ]
  },
  {
   "cell_type": "code",
   "execution_count": 14,
   "metadata": {
    "ExecuteTime": {
     "end_time": "2017-05-20T06:08:54.686041",
     "start_time": "2017-05-20T06:08:54.354300"
    }
   },
   "outputs": [
    {
     "ename": "NameError",
     "evalue": "name 'build_model_API' is not defined",
     "output_type": "error",
     "traceback": [
      "\u001b[0;31m---------------------------------------------------------------------------\u001b[0m",
      "\u001b[0;31mNameError\u001b[0m                                 Traceback (most recent call last)",
      "\u001b[0;32m<ipython-input-14-5755522939ed>\u001b[0m in \u001b[0;36m<module>\u001b[0;34m()\u001b[0m\n\u001b[0;32m----> 1\u001b[0;31m \u001b[0mmodel\u001b[0m \u001b[0;34m=\u001b[0m \u001b[0mbuild_model_API\u001b[0m\u001b[0;34m(\u001b[0m\u001b[0;34m)\u001b[0m\u001b[0;34m\u001b[0m\u001b[0m\n\u001b[0m\u001b[1;32m      2\u001b[0m \u001b[0;31m#model = build_model_Sequential()\u001b[0m\u001b[0;34m\u001b[0m\u001b[0;34m\u001b[0m\u001b[0m\n\u001b[1;32m      3\u001b[0m \u001b[0mprint\u001b[0m\u001b[0;34m(\u001b[0m\u001b[0mW_conv\u001b[0m\u001b[0;34m.\u001b[0m\u001b[0mshape\u001b[0m\u001b[0;34m)\u001b[0m\u001b[0;34m\u001b[0m\u001b[0m\n\u001b[1;32m      4\u001b[0m \u001b[0mprint\u001b[0m\u001b[0;34m(\u001b[0m\u001b[0mbias_conv\u001b[0m\u001b[0;34m.\u001b[0m\u001b[0mshape\u001b[0m\u001b[0;34m)\u001b[0m\u001b[0;34m\u001b[0m\u001b[0m\n\u001b[1;32m      5\u001b[0m \u001b[0mprint\u001b[0m\u001b[0;34m(\u001b[0m\u001b[0mW_dense\u001b[0m\u001b[0;34m.\u001b[0m\u001b[0mshape\u001b[0m\u001b[0;34m)\u001b[0m\u001b[0;34m\u001b[0m\u001b[0m\n",
      "\u001b[0;31mNameError\u001b[0m: name 'build_model_API' is not defined"
     ]
    }
   ],
   "source": [
    "model = Model()\n",
    "#model = build_model_Sequential()\n",
    "print(W_conv.shape)\n",
    "print(bias_conv.shape)\n",
    "print(W_dense.shape)\n",
    "print(bias_dense.shape)\n",
    "model.set_weights([W_conv, bias_conv, W_dense, bias_dense])\n",
    "\n",
    "print('-'*30)\n",
    "print(\"Número de camadas:\", len(model.layers))\n",
    "print('-'*30)\n",
    "\n",
    "# Resultados para cada camada\n",
    "i = 1\n",
    "for layer in model.layers:\n",
    "    intermediate_layer_model = Model(inputs=model.input,outputs=layer.output)\n",
    "    intermediate_output = intermediate_layer_model.predict(X)\n",
    "    print('-'*80)\n",
    "    print(\"Saída da camada\", i, \":\", layer.name, \"shape:\", intermediate_output.shape)\n",
    "    print('-'*80)\n",
    "    print(intermediate_output)\n",
    "    i+=1"
   ]
  },
  {
   "cell_type": "markdown",
   "metadata": {},
   "source": [
    "## Sumário \n",
    "\n",
    "É sempre útil imprimir o sumário da rede. Ele contém informações de cada camada da rede, \n",
    "como nome, tipo de camada, shape do tensor na saída da camada e número de parâmetros."
   ]
  },
  {
   "cell_type": "code",
   "execution_count": 12,
   "metadata": {
    "ExecuteTime": {
     "end_time": "2017-05-20T06:08:54.700643",
     "start_time": "2017-05-20T06:08:54.688599"
    }
   },
   "outputs": [
    {
     "name": "stdout",
     "output_type": "stream",
     "text": [
      "_________________________________________________________________\n",
      "Layer (type)                 Output Shape              Param #   \n",
      "=================================================================\n",
      "input (InputLayer)           (None, 1, 5, 6)           0         \n",
      "_________________________________________________________________\n",
      "conv1 (Conv2D)               (None, 3, 4, 5)           15        \n",
      "_________________________________________________________________\n",
      "relu1 (Activation)           (None, 3, 4, 5)           0         \n",
      "_________________________________________________________________\n",
      "max_pool1 (MaxPooling2D)     (None, 3, 2, 2)           0         \n",
      "_________________________________________________________________\n",
      "flat (Flatten)               (None, 12)                0         \n",
      "_________________________________________________________________\n",
      "dense2 (Dense)               (None, 1)                 13        \n",
      "_________________________________________________________________\n",
      "sigmoid2 (Activation)        (None, 1)                 0         \n",
      "=================================================================\n",
      "Total params: 28\n",
      "Trainable params: 28\n",
      "Non-trainable params: 0\n",
      "_________________________________________________________________\n"
     ]
    }
   ],
   "source": [
    "model.summary()"
   ]
  },
  {
   "cell_type": "markdown",
   "metadata": {},
   "source": [
    "# Sugestões de atividades\n",
    "\n",
    "1. Executar o experimento nos dois modos de construção da rede, API e Sequential. \n",
    "   Existe alguma diferença?\n",
    "2. Calcular o número de parâmetros da rede. Confirmar com o sumário apresentado.\n",
    "3. Retirar o bias e recalcular o número de parâmetros a serem treinados\n",
    "4. A rede foi projetada para aceitar entrada com shape (1,5,6). Mudar a rede para aceitar:\n",
    "   a) entrada com shape (1,6,6)\n",
    "   b) entrada com shape (3,6,6)\n",
    "5. Inserir mais uma camada convolucional com 4 filtros de saída e kernel (3,3)\n"
   ]
  },
  {
   "cell_type": "markdown",
   "metadata": {},
   "source": [
    "# Referências\n",
    "\n",
    "- [Keras Documentation](https://keras.io/)\n"
   ]
  },
  {
   "cell_type": "markdown",
   "metadata": {},
   "source": [
    "# Aprendizados com este notebook\n"
   ]
  }
 ],
 "metadata": {
  "anaconda-cloud": {},
  "kernelspec": {
   "display_name": "Python 3",
   "language": "python",
   "name": "python3"
  },
  "language_info": {
   "codemirror_mode": {
    "name": "ipython",
    "version": 3
   },
   "file_extension": ".py",
   "mimetype": "text/x-python",
   "name": "python",
   "nbconvert_exporter": "python",
   "pygments_lexer": "ipython3",
   "version": "3.6.1"
  },
  "toc": {
   "colors": {
    "hover_highlight": "#DAA520",
    "running_highlight": "#FF0000",
    "selected_highlight": "#FFD700"
   },
   "moveMenuLeft": true,
   "nav_menu": {
    "height": "207px",
    "width": "252px"
   },
   "navigate_menu": true,
   "number_sections": true,
   "sideBar": true,
   "threshold": 4,
   "toc_cell": true,
   "toc_section_display": "block",
   "toc_window_display": false
  }
 },
 "nbformat": 4,
 "nbformat_minor": 1
}
