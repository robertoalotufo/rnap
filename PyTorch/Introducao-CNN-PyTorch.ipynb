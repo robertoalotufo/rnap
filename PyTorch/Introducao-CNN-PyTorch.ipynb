{
 "cells": [
  {
   "cell_type": "markdown",
   "metadata": {},
   "source": [
    "# Introduçãos às CNNs no PyTorch\n",
    "\n",
    "## Objetivos\n",
    "\n",
    "Este notebook contém exemplo numérico de uma rede com uma camada convolucional e uma camada densa. A camada convolucional possui ativação reLU e max-pooling. Já a camada densa possui uma única saída com ativação sigmóide.\n",
    "\n",
    "Com esse exemplo, aprende-se a:\n",
    "- construir a rede utilizando subclasses de Module do PyTorch\n",
    "- inicializar os pesos e biases da rede convolucional e da rede densa\n",
    "- visualizar os dados intermediários da rede"
   ]
  },
  {
   "cell_type": "markdown",
   "metadata": {},
   "source": [
    "## Importação dos Módulos"
   ]
  },
  {
   "cell_type": "code",
   "execution_count": 1,
   "metadata": {
    "ExecuteTime": {
     "end_time": "2017-05-20T06:08:54.196376",
     "start_time": "2017-05-20T06:08:49.343236"
    }
   },
   "outputs": [],
   "source": [
    "import numpy as np\n",
    "import os\n",
    "\n",
    "import torch\n",
    "import torch.nn as nn\n",
    "import torch.functional as F\n",
    "\n",
    "from torch.autograd import Variable\n",
    "from collections import OrderedDict\n",
    "from IPython.core.display import display, HTML\n",
    "\n",
    "np.set_printoptions(precision=3) # ponto flutuante com 3 casas para facilitar a impressão"
   ]
  },
  {
   "cell_type": "code",
   "execution_count": 2,
   "metadata": {},
   "outputs": [
    {
     "name": "stdout",
     "output_type": "stream",
     "text": [
      "Usando GPU: True\n"
     ]
    }
   ],
   "source": [
    "# verifica se a GPU está disponível\n",
    "use_gpu = torch.cuda.is_available()\n",
    "print(\"Usando GPU:\", use_gpu)"
   ]
  },
  {
   "cell_type": "markdown",
   "metadata": {},
   "source": [
    "## Definição da Rede, camadas convolucionais e densas"
   ]
  },
  {
   "cell_type": "markdown",
   "metadata": {},
   "source": [
    "### Definição de camadas\n",
    "\n",
    "Em redes neurais, uma camada é usualmente um neurônio, que inclui a soma de multiplicação de\n",
    "pesos ou convolução e uma ativação usualmente não linear. Podemos dizer que o max-pooling \n",
    "também faz parte da camada.\n",
    "\n",
    "A rede que iremos utilizar neste exemplo possui 2 camadas: uma convolucional e outra densa.\n",
    "A camada convolucional terá ativação reLU e um max-pooling, já a camada densa terá uma\n",
    "ativação sigmóide."
   ]
  },
  {
   "cell_type": "markdown",
   "metadata": {
    "ExecuteTime": {
     "end_time": "2017-05-14T20:48:42.200325",
     "start_time": "2017-05-14T20:48:42.050307"
    }
   },
   "source": [
    "### Rede a ser implementada\n",
    "\n",
    "<img src='../figures/RedeIntroKeras.png', width=600pt>"
   ]
  },
  {
   "cell_type": "markdown",
   "metadata": {},
   "source": [
    "### Criando redes np PyTorch\n",
    "\n",
    "Uma CNN no PyTorch é criada utilizando uma classe que é subclasse do *torch.nn.Module*. Essa classe poderá ter variáveis que também são instâncias de subclasses de *torch.nn.Module*.\n",
    "\n",
    "- *torch.nn.Conv2d*\n",
    "- *torch.nn.ReLU*\n",
    "- *torch.nn.MaxPool2d*\n",
    "- *torch.nn.Linear*\n",
    "- *torch.nn.Sequential*\n",
    "\n",
    "Todas estas classes são também subclasses de *torch.nn.Module* e podem ser instanciadas no contrutor para serem utilizadas na classe (ver [Documentação torch.nn](http://pytorch.org/docs/master/nn.html))"
   ]
  },
  {
   "cell_type": "markdown",
   "metadata": {},
   "source": [
    "### Implementação do modelo"
   ]
  },
  {
   "cell_type": "code",
   "execution_count": 3,
   "metadata": {
    "ExecuteTime": {
     "end_time": "2017-05-20T06:08:54.242046",
     "start_time": "2017-05-20T06:08:54.221889"
    }
   },
   "outputs": [],
   "source": [
    "class Model(nn.Module):\n",
    "    \n",
    "    # Definição de Modules que serão utilizados na rede\n",
    "    def __init__(self):\n",
    "        super(Model, self).__init__()\n",
    "        \n",
    "        # camada convolucional\n",
    "        self.conv = nn.Conv2d(1, 3, (2, 2), padding=0, bias=True)\n",
    "        self.relu = nn.ReLU()\n",
    "        self.max_pool = nn.MaxPool2d((2, 2))\n",
    "        \n",
    "        # camada densa\n",
    "        self.dense = nn.Linear(3*4, 1, bias=True)\n",
    "        self.sigmoid = nn.Sigmoid()\n",
    "    \n",
    "    # Método de definição obrigatória\n",
    "    # Sequencia que será efetivamente executada para obter a saída da rede\n",
    "    def forward(self, x):\n",
    "        # passa os dados pela camada convolucional\n",
    "        x = self.conv(x)\n",
    "        x = self.relu(x)\n",
    "        x = self.max_pool(x)\n",
    "        \n",
    "        # faz o flatten dos dados\n",
    "        x = x.view(-1, 3*4)\n",
    "        \n",
    "        # passa os dados pela camada densa\n",
    "        x = self.dense(x)\n",
    "        x = self.sigmoid(x)\n",
    "        \n",
    "        return x\n",
    "    \n",
    "    # Método opcional utilizado para mostrar a saída de cada parte da rede\n",
    "    def modules_output(self, x):\n",
    "        output = OrderedDict()        \n",
    "\n",
    "        # passa os dados pela camada convolucional\n",
    "        x = self.conv(x)\n",
    "        output['conv'] = x\n",
    "        \n",
    "        x = self.relu(x)\n",
    "        output['relu'] = x\n",
    "        \n",
    "        x = self.max_pool(x)\n",
    "        output['max_pool'] = x\n",
    "        \n",
    "        # faz o flatten dos dados\n",
    "        x = x.view(-1, 3*4)\n",
    "        output['flatten'] = x\n",
    "        \n",
    "        # passa os dados pela camada densa\n",
    "        x = self.dense(x)\n",
    "        output['dense'] = x\n",
    "        x = self.sigmoid(x)\n",
    "        output['sigmoid'] = x\n",
    "\n",
    "        return output"
   ]
  },
  {
   "cell_type": "code",
   "execution_count": 4,
   "metadata": {},
   "outputs": [
    {
     "name": "stdout",
     "output_type": "stream",
     "text": [
      "Model (\n",
      "  (conv): Conv2d(1, 3, kernel_size=(2, 2), stride=(1, 1))\n",
      "  (relu): ReLU ()\n",
      "  (max_pool): MaxPool2d (size=(2, 2), stride=(2, 2), dilation=(1, 1))\n",
      "  (dense): Linear (12 -> 1)\n",
      "  (sigmoid): Sigmoid ()\n",
      ")\n"
     ]
    }
   ],
   "source": [
    "model = Model()\n",
    "print(model)"
   ]
  },
  {
   "cell_type": "markdown",
   "metadata": {},
   "source": [
    "### Outro modelo encapsulando as camadas em uma *Sequential*"
   ]
  },
  {
   "cell_type": "code",
   "execution_count": 5,
   "metadata": {
    "ExecuteTime": {
     "end_time": "2017-05-20T06:08:54.242046",
     "start_time": "2017-05-20T06:08:54.221889"
    }
   },
   "outputs": [],
   "source": [
    "class Model2(nn.Module):\n",
    "\n",
    "    # Definição de Modules que serão utilizados na rede\n",
    "    def __init__(self):\n",
    "        super(Model2, self).__init__()\n",
    "        \n",
    "        # camada convolucional\n",
    "        self.layer1 = nn.Sequential(OrderedDict([\n",
    "            ('conv', nn.Conv2d(1, 3, (2, 2), padding=0, bias=True)),\n",
    "            ('relu', nn.ReLU()),\n",
    "            ('max_pool', nn.MaxPool2d((2, 2)))\n",
    "        ]))\n",
    "        \n",
    "        # camada densa\n",
    "        self.layer2 = nn.Sequential(OrderedDict([\n",
    "            ('dense', nn.Linear(3*4, 1, bias=True)),\n",
    "            ('sigmoid', nn.Sigmoid())\n",
    "        ]))\n",
    "\n",
    "    # Método de definição obrigatória\n",
    "    # Sequencia que será efetivamente executada para obter a saída da rede\n",
    "    def forward(self, x):\n",
    "        # passa os dados pela camada convolucional\n",
    "        x = self.layer1(x)\n",
    "        # faz o flatten dos dados\n",
    "        x = x.view(-1, 3*4)\n",
    "        # passa os dados pela camada densa\n",
    "        x = self.layer2(x) \n",
    "        \n",
    "        return x"
   ]
  },
  {
   "cell_type": "code",
   "execution_count": 6,
   "metadata": {},
   "outputs": [
    {
     "name": "stdout",
     "output_type": "stream",
     "text": [
      "Model2 (\n",
      "  (layer1): Sequential (\n",
      "    (conv): Conv2d(1, 3, kernel_size=(2, 2), stride=(1, 1))\n",
      "    (relu): ReLU ()\n",
      "    (max_pool): MaxPool2d (size=(2, 2), stride=(2, 2), dilation=(1, 1))\n",
      "  )\n",
      "  (layer2): Sequential (\n",
      "    (dense): Linear (12 -> 1)\n",
      "    (sigmoid): Sigmoid ()\n",
      "  )\n",
      ")\n"
     ]
    }
   ],
   "source": [
    "model2 = Model2()\n",
    "print(model2)"
   ]
  },
  {
   "cell_type": "markdown",
   "metadata": {},
   "source": [
    "# Configurando a rede neural com convolução e densa"
   ]
  },
  {
   "cell_type": "markdown",
   "metadata": {},
   "source": [
    "## Definição dos parâmetros da rede"
   ]
  },
  {
   "cell_type": "markdown",
   "metadata": {},
   "source": [
    "### Imagem de Entrada: 5 linhas e 6 colunas"
   ]
  },
  {
   "cell_type": "code",
   "execution_count": 7,
   "metadata": {
    "ExecuteTime": {
     "end_time": "2017-05-20T06:08:54.272576",
     "start_time": "2017-05-20T06:08:54.246553"
    }
   },
   "outputs": [
    {
     "name": "stdout",
     "output_type": "stream",
     "text": [
      "X.shape= (1, 1, 5, 6)\n",
      "X:\n",
      " [[[[ 0  0  0  0  0  0]\n",
      "   [ 0  0  1  0  0  0]\n",
      "   [ 0  0  0  0  0  0]\n",
      "   [ 0  0  0  0 -1  0]\n",
      "   [ 0  0  0  0  0  0]]]]\n"
     ]
    }
   ],
   "source": [
    "X = np.array([[[[0,0,0,0,0,0],\n",
    "                [0,0,1,0,0,0],\n",
    "                [0,0,0,0,0,0],\n",
    "                [0,0,0,0,-1,0],\n",
    "                [0,0,0,0,0,0]]]])\n",
    "\n",
    "(n_samples, n_channels, img_height, img_width) = X.shape\n",
    "\n",
    "print('X.shape=', X.shape)\n",
    "print('X:\\n', X)"
   ]
  },
  {
   "cell_type": "markdown",
   "metadata": {},
   "source": [
    "### Kernel da convolução"
   ]
  },
  {
   "cell_type": "code",
   "execution_count": 8,
   "metadata": {
    "ExecuteTime": {
     "end_time": "2017-05-20T06:08:54.303144",
     "start_time": "2017-05-20T06:08:54.275838"
    }
   },
   "outputs": [
    {
     "name": "stdout",
     "output_type": "stream",
     "text": [
      "W_conv.shape (n_filters, n_channels, k_height, k_width): (3, 1, 2, 2)\n",
      "W_conv:\n",
      " [[[[ 1  2]\n",
      "   [ 3  4]]]\n",
      "\n",
      "\n",
      " [[[ 5  6]\n",
      "   [ 7  8]]]\n",
      "\n",
      "\n",
      " [[[ 9 10]\n",
      "   [11 12]]]]\n"
     ]
    }
   ],
   "source": [
    "# número de filtros\n",
    "n_filters = 3    \n",
    "\n",
    "# comprimento e largura dos filtros\n",
    "k_height = k_width = 2 \n",
    "kernel_shape = (k_height, k_width)\n",
    "\n",
    "W_conv = np.array([[[1,2],\n",
    "                 [3,4]],\n",
    "                [[5,6],\n",
    "                 [7,8]],\n",
    "                [[9,10],\n",
    "                 [11,12]]]).reshape(n_filters,1,k_height,k_width)\n",
    "\n",
    "print('W_conv.shape (n_filters, n_channels, k_height, k_width):', W_conv.shape)\n",
    "print('W_conv:\\n', W_conv)"
   ]
  },
  {
   "cell_type": "markdown",
   "metadata": {},
   "source": [
    "### Bias da Convolução"
   ]
  },
  {
   "cell_type": "code",
   "execution_count": 9,
   "metadata": {
    "ExecuteTime": {
     "end_time": "2017-05-20T06:08:54.314510",
     "start_time": "2017-05-20T06:08:54.306077"
    }
   },
   "outputs": [
    {
     "name": "stdout",
     "output_type": "stream",
     "text": [
      "Bias da convolução: [ 0.1  0.2  0.3]\n"
     ]
    }
   ],
   "source": [
    "# valor de bias\n",
    "f_bias = 0.1     \n",
    "bias_conv = np.arange(1,n_filters+1) * f_bias\n",
    "print(\"Bias da convolução:\",bias_conv)"
   ]
  },
  {
   "cell_type": "markdown",
   "metadata": {},
   "source": [
    "### Pesos para a camada densa"
   ]
  },
  {
   "cell_type": "code",
   "execution_count": 10,
   "metadata": {
    "ExecuteTime": {
     "end_time": "2017-05-20T06:08:54.329725",
     "start_time": "2017-05-20T06:08:54.319625"
    }
   },
   "outputs": [
    {
     "name": "stdout",
     "output_type": "stream",
     "text": [
      "Pesos da camada densa:\n",
      " [[ 0  1  2  3  4  5  6  7  8  9 10 11]]\n"
     ]
    }
   ],
   "source": [
    "# após o max pooling, são 3 imagens 2x2 = 12\n",
    "W_dense = np.arange(12).reshape(1, 12)\n",
    "print(\"Pesos da camada densa:\\n\",W_dense)"
   ]
  },
  {
   "cell_type": "markdown",
   "metadata": {},
   "source": [
    "### Bias para a camada densa"
   ]
  },
  {
   "cell_type": "code",
   "execution_count": 11,
   "metadata": {
    "ExecuteTime": {
     "end_time": "2017-05-20T06:08:54.345402",
     "start_time": "2017-05-20T06:08:54.335039"
    }
   },
   "outputs": [
    {
     "name": "stdout",
     "output_type": "stream",
     "text": [
      "Bias da camanda densa: [ 0.1]\n"
     ]
    }
   ],
   "source": [
    "bias_dense = np.ones(1) * f_bias\n",
    "print(\"Bias da camanda densa:\",bias_dense)"
   ]
  },
  {
   "cell_type": "markdown",
   "metadata": {},
   "source": [
    "## Imprimindo os valores dos dados das camadas internas da rede"
   ]
  },
  {
   "cell_type": "markdown",
   "metadata": {},
   "source": [
    "### Instancia a rede e aplica os pesos definidos"
   ]
  },
  {
   "cell_type": "code",
   "execution_count": 12,
   "metadata": {},
   "outputs": [
    {
     "data": {
      "text/html": [
       "<h3>Shape dos pesos</h3>"
      ],
      "text/plain": [
       "<IPython.core.display.HTML object>"
      ]
     },
     "metadata": {},
     "output_type": "display_data"
    },
    {
     "name": "stdout",
     "output_type": "stream",
     "text": [
      "W_conv:     (3, 1, 2, 2)\n",
      "bias_conv:  (3,)\n",
      "W_dense:    (1, 12)\n",
      "bias_dense: (1,)\n",
      "\n"
     ]
    },
    {
     "data": {
      "text/html": [
       "<h3>Pesos aplicados à rede</h3>"
      ],
      "text/plain": [
       "<IPython.core.display.HTML object>"
      ]
     },
     "metadata": {},
     "output_type": "display_data"
    },
    {
     "data": {
      "text/html": [
       "<h4>conv.weight</h4>"
      ],
      "text/plain": [
       "<IPython.core.display.HTML object>"
      ]
     },
     "metadata": {},
     "output_type": "display_data"
    },
    {
     "name": "stdout",
     "output_type": "stream",
     "text": [
      "[[[[  1.   2.]\n",
      "   [  3.   4.]]]\n",
      "\n",
      "\n",
      " [[[  5.   6.]\n",
      "   [  7.   8.]]]\n",
      "\n",
      "\n",
      " [[[  9.  10.]\n",
      "   [ 11.  12.]]]]\n",
      "\n",
      "shape: (3, 1, 2, 2)\n"
     ]
    },
    {
     "data": {
      "text/html": [
       "<h4>conv.bias</h4>"
      ],
      "text/plain": [
       "<IPython.core.display.HTML object>"
      ]
     },
     "metadata": {},
     "output_type": "display_data"
    },
    {
     "name": "stdout",
     "output_type": "stream",
     "text": [
      "[ 0.1  0.2  0.3]\n",
      "\n",
      "shape: (3,)\n"
     ]
    },
    {
     "data": {
      "text/html": [
       "<h4>dense.weight</h4>"
      ],
      "text/plain": [
       "<IPython.core.display.HTML object>"
      ]
     },
     "metadata": {},
     "output_type": "display_data"
    },
    {
     "name": "stdout",
     "output_type": "stream",
     "text": [
      "[[  0.   1.   2.   3.   4.   5.   6.   7.   8.   9.  10.  11.]]\n",
      "\n",
      "shape: (1, 12)\n"
     ]
    },
    {
     "data": {
      "text/html": [
       "<h4>dense.bias</h4>"
      ],
      "text/plain": [
       "<IPython.core.display.HTML object>"
      ]
     },
     "metadata": {},
     "output_type": "display_data"
    },
    {
     "name": "stdout",
     "output_type": "stream",
     "text": [
      "[ 0.1]\n",
      "\n",
      "shape: (1,)\n"
     ]
    }
   ],
   "source": [
    "# Mostra o shape dos pesos das camadas\n",
    "display(HTML('<h3>Shape dos pesos</h3>'))\n",
    "print('{:11} {}'.format('W_conv:', W_conv.shape))\n",
    "print('{:11} {}'.format('bias_conv:', bias_conv.shape))\n",
    "print('{:11} {}'.format('W_dense:', W_dense.shape))\n",
    "print('{:11} {}'.format('bias_dense:', bias_dense.shape))\n",
    "print()\n",
    "\n",
    "# cria o modelo\n",
    "model = Model()\n",
    "\n",
    "# Dictionary com os pesos para a rede\n",
    "my_weights = OrderedDict([\n",
    "    ('conv.weight',  torch.FloatTensor(W_conv.astype(float))),\n",
    "    ('conv.bias',    torch.FloatTensor(bias_conv.astype(float))),\n",
    "    ('dense.weight', torch.FloatTensor( W_dense.astype(float))),\n",
    "    ('dense.bias',   torch.FloatTensor(bias_dense.astype(float))),\n",
    "])\n",
    "\n",
    "# aplica os pesos criados à rede\n",
    "model.load_state_dict(my_weights)\n",
    "\n",
    "#Mostra pesos aplicado ao modelo\n",
    "display(HTML('<h3>Pesos aplicados à rede</h3>'))\n",
    "for param_name, param in model.state_dict().items():\n",
    "    display(HTML('<h4>{}</h4>'.format(param_name)))\n",
    "    np_param = param.numpy()\n",
    "    print(np_param)\n",
    "    print('\\nshape:', np_param.shape)  \n",
    "\n",
    "#print(model.state_dict())"
   ]
  },
  {
   "cell_type": "markdown",
   "metadata": {},
   "source": [
    "### Mostra as saídas de cada parte da execução da rede"
   ]
  },
  {
   "cell_type": "code",
   "execution_count": 13,
   "metadata": {
    "ExecuteTime": {
     "end_time": "2017-05-20T06:08:54.686041",
     "start_time": "2017-05-20T06:08:54.354300"
    },
    "scrolled": false
   },
   "outputs": [
    {
     "data": {
      "text/html": [
       "<h3>Saídas de cada camada da rede</h3>"
      ],
      "text/plain": [
       "<IPython.core.display.HTML object>"
      ]
     },
     "metadata": {},
     "output_type": "display_data"
    },
    {
     "data": {
      "text/html": [
       "<h4>conv</h4>"
      ],
      "text/plain": [
       "<IPython.core.display.HTML object>"
      ]
     },
     "metadata": {},
     "output_type": "display_data"
    },
    {
     "name": "stdout",
     "output_type": "stream",
     "text": [
      "[[[[  0.1   4.1   3.1   0.1   0.1]\n",
      "   [  0.1   2.1   1.1   0.1   0.1]\n",
      "   [  0.1   0.1   0.1  -3.9  -2.9]\n",
      "   [  0.1   0.1   0.1  -1.9  -0.9]]\n",
      "\n",
      "  [[  0.2   8.2   7.2   0.2   0.2]\n",
      "   [  0.2   6.2   5.2   0.2   0.2]\n",
      "   [  0.2   0.2   0.2  -7.8  -6.8]\n",
      "   [  0.2   0.2   0.2  -5.8  -4.8]]\n",
      "\n",
      "  [[  0.3  12.3  11.3   0.3   0.3]\n",
      "   [  0.3  10.3   9.3   0.3   0.3]\n",
      "   [  0.3   0.3   0.3 -11.7 -10.7]\n",
      "   [  0.3   0.3   0.3  -9.7  -8.7]]]]\n",
      "\n",
      "shape: (1, 3, 4, 5)\n"
     ]
    },
    {
     "data": {
      "text/html": [
       "<h4>relu</h4>"
      ],
      "text/plain": [
       "<IPython.core.display.HTML object>"
      ]
     },
     "metadata": {},
     "output_type": "display_data"
    },
    {
     "name": "stdout",
     "output_type": "stream",
     "text": [
      "[[[[  0.1   4.1   3.1   0.1   0.1]\n",
      "   [  0.1   2.1   1.1   0.1   0.1]\n",
      "   [  0.1   0.1   0.1   0.    0. ]\n",
      "   [  0.1   0.1   0.1   0.    0. ]]\n",
      "\n",
      "  [[  0.2   8.2   7.2   0.2   0.2]\n",
      "   [  0.2   6.2   5.2   0.2   0.2]\n",
      "   [  0.2   0.2   0.2   0.    0. ]\n",
      "   [  0.2   0.2   0.2   0.    0. ]]\n",
      "\n",
      "  [[  0.3  12.3  11.3   0.3   0.3]\n",
      "   [  0.3  10.3   9.3   0.3   0.3]\n",
      "   [  0.3   0.3   0.3   0.    0. ]\n",
      "   [  0.3   0.3   0.3   0.    0. ]]]]\n",
      "\n",
      "shape: (1, 3, 4, 5)\n"
     ]
    },
    {
     "data": {
      "text/html": [
       "<h4>max_pool</h4>"
      ],
      "text/plain": [
       "<IPython.core.display.HTML object>"
      ]
     },
     "metadata": {},
     "output_type": "display_data"
    },
    {
     "name": "stdout",
     "output_type": "stream",
     "text": [
      "[[[[  4.1   3.1]\n",
      "   [  0.1   0.1]]\n",
      "\n",
      "  [[  8.2   7.2]\n",
      "   [  0.2   0.2]]\n",
      "\n",
      "  [[ 12.3  11.3]\n",
      "   [  0.3   0.3]]]]\n",
      "\n",
      "shape: (1, 3, 2, 2)\n"
     ]
    },
    {
     "data": {
      "text/html": [
       "<h4>flatten</h4>"
      ],
      "text/plain": [
       "<IPython.core.display.HTML object>"
      ]
     },
     "metadata": {},
     "output_type": "display_data"
    },
    {
     "name": "stdout",
     "output_type": "stream",
     "text": [
      "[[  4.1   3.1   0.1   0.1   8.2   7.2   0.2   0.2  12.3  11.3   0.3   0.3]]\n",
      "\n",
      "shape: (1, 12)\n"
     ]
    },
    {
     "data": {
      "text/html": [
       "<h4>dense</h4>"
      ],
      "text/plain": [
       "<IPython.core.display.HTML object>"
      ]
     },
     "metadata": {},
     "output_type": "display_data"
    },
    {
     "name": "stdout",
     "output_type": "stream",
     "text": [
      "[[ 281.5]]\n",
      "\n",
      "shape: (1, 1)\n"
     ]
    },
    {
     "data": {
      "text/html": [
       "<h4>sigmoid</h4>"
      ],
      "text/plain": [
       "<IPython.core.display.HTML object>"
      ]
     },
     "metadata": {},
     "output_type": "display_data"
    },
    {
     "name": "stdout",
     "output_type": "stream",
     "text": [
      "[[ 1.]]\n",
      "\n",
      "shape: (1, 1)\n"
     ]
    }
   ],
   "source": [
    "display(HTML('<h3>Saídas de cada camada da rede</h3>'))\n",
    "\n",
    "# Transforma X em Variable\n",
    "X = Variable(torch.FloatTensor(X.astype(float)))\n",
    "\n",
    "# Resultados para cada camada\n",
    "for module_name, output in model.modules_output(X).items():\n",
    "    display(HTML('<h4>{}</h4>'.format(module_name)))\n",
    "    np_output = output.data.numpy()\n",
    "    print(np_output)\n",
    "    print('\\nshape:', np_output.shape)    "
   ]
  },
  {
   "cell_type": "markdown",
   "metadata": {},
   "source": [
    "# Sugestões de atividades\n",
    "\n",
    "1. Quais as vantagens de utilizar Sequential na definição do modelo?\n",
    "2. Como calcular o número de parâmetros da rede?\n",
    "3. Retirar o bias e recalcular o número de parâmetros a serem treinados\n",
    "4. A rede foi projetada para aceitar entrada com shape (1,5,6). Mudar a rede para aceitar:\n",
    "   a) entrada com shape (1,6,6)\n",
    "   b) entrada com shape (3,6,6)\n",
    "5. Inserir mais uma camada convolucional com 4 filtros de saída e kernel (3,3)"
   ]
  },
  {
   "cell_type": "markdown",
   "metadata": {},
   "source": [
    "# Referências\n",
    "\n",
    "- [PyTorch Documentation](http://pytorch.org/docs/master/index.html)\n"
   ]
  },
  {
   "cell_type": "markdown",
   "metadata": {},
   "source": [
    "# Aprendizados com este notebook\n"
   ]
  }
 ],
 "metadata": {
  "anaconda-cloud": {},
  "kernelspec": {
   "display_name": "Python 3",
   "language": "python",
   "name": "python3"
  },
  "language_info": {
   "codemirror_mode": {
    "name": "ipython",
    "version": 3
   },
   "file_extension": ".py",
   "mimetype": "text/x-python",
   "name": "python",
   "nbconvert_exporter": "python",
   "pygments_lexer": "ipython3",
   "version": "3.5.2"
  },
  "toc": {
   "colors": {
    "hover_highlight": "#DAA520",
    "running_highlight": "#FF0000",
    "selected_highlight": "#FFD700"
   },
   "moveMenuLeft": true,
   "nav_menu": {
    "height": "207px",
    "width": "252px"
   },
   "navigate_menu": true,
   "number_sections": true,
   "sideBar": true,
   "threshold": 4,
   "toc_cell": true,
   "toc_section_display": "block",
   "toc_window_display": false
  }
 },
 "nbformat": 4,
 "nbformat_minor": 1
}
