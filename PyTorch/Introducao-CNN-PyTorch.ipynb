{
 "cells": [
  {
   "cell_type": "markdown",
   "metadata": {},
   "source": [
    "# Introduçãos às CNNs no PyTorch\n",
    "\n",
    "## Objetivos\n",
    "\n",
    "Este notebook contém exemplo numérico de uma rede com uma camada convolucional e uma camada densa. A camada convolucional possui ativação reLU e max-pooling. Já a camada densa possui uma única saída com ativação sigmóide.\n",
    "\n",
    "Com esse exemplo, aprende-se a:\n",
    "- construir a rede utilizando subclasses de Module do PyTorch\n",
    "- inicializar os pesos e biases da rede convolucional e da rede densa\n",
    "- visualizar os dados intermediários da rede"
   ]
  },
  {
   "cell_type": "markdown",
   "metadata": {},
   "source": [
    "## Importação dos Módulos"
   ]
  },
  {
   "cell_type": "code",
   "execution_count": 1,
   "metadata": {
    "ExecuteTime": {
     "end_time": "2018-08-25T23:49:55.436671Z",
     "start_time": "2018-08-25T23:49:54.910777Z"
    }
   },
   "outputs": [],
   "source": [
    "import numpy as np\n",
    "import os\n",
    "\n",
    "import torch\n",
    "import torch.nn as nn\n",
    "import torch.functional as F\n",
    "\n",
    "from collections import OrderedDict\n",
    "\n",
    "np.set_printoptions(precision=3) # ponto flutuante com 3 casas para facilitar a impressão"
   ]
  },
  {
   "cell_type": "code",
   "execution_count": 2,
   "metadata": {
    "ExecuteTime": {
     "end_time": "2018-08-25T23:49:55.446814Z",
     "start_time": "2018-08-25T23:49:55.439330Z"
    }
   },
   "outputs": [
    {
     "name": "stdout",
     "output_type": "stream",
     "text": [
      "Usando GPU: False\n"
     ]
    }
   ],
   "source": [
    "# verifica se a GPU está disponível\n",
    "use_gpu = torch.cuda.is_available()\n",
    "print(\"Usando GPU:\", use_gpu)"
   ]
  },
  {
   "cell_type": "markdown",
   "metadata": {},
   "source": [
    "## Definição da Rede, camadas convolucionais e densas"
   ]
  },
  {
   "cell_type": "markdown",
   "metadata": {},
   "source": [
    "### Definição de camadas\n",
    "\n",
    "Em redes neurais, uma camada é usualmente um neurônio, que inclui a soma de multiplicação de\n",
    "pesos ou convolução e uma ativação usualmente não linear. Podemos dizer que o max-pooling \n",
    "também faz parte da camada.\n",
    "\n",
    "A rede que iremos utilizar neste exemplo possui 2 camadas: uma convolucional e outra densa.\n",
    "A camada convolucional terá ativação reLU e um max-pooling, já a camada densa terá uma\n",
    "ativação sigmóide."
   ]
  },
  {
   "cell_type": "markdown",
   "metadata": {
    "ExecuteTime": {
     "end_time": "2017-05-14T20:48:42.200325",
     "start_time": "2017-05-14T20:48:42.050307"
    }
   },
   "source": [
    "### Rede a ser implementada\n",
    "\n",
    "<img src='../figures/RedeIntroKeras.png' width='600pt'>"
   ]
  },
  {
   "cell_type": "markdown",
   "metadata": {},
   "source": [
    "### Criando redes np PyTorch\n",
    "\n",
    "Uma CNN no PyTorch é criada utilizando uma classe que é subclasse do *torch.nn.Module*. Essa classe poderá ter variáveis que também são instâncias de subclasses de *torch.nn.Module*.\n",
    "\n",
    "- *torch.nn.Conv2d*\n",
    "- *torch.nn.ReLU*\n",
    "- *torch.nn.MaxPool2d*\n",
    "- *torch.nn.Linear*\n",
    "\n",
    "Todas estas classes são também subclasses de *torch.nn.Module* e podem ser instanciadas no contrutor para serem utilizadas na classe (ver [Documentação torch.nn](http://pytorch.org/docs/master/nn.html))"
   ]
  },
  {
   "cell_type": "markdown",
   "metadata": {},
   "source": [
    "### Implementação do modelo"
   ]
  },
  {
   "cell_type": "code",
   "execution_count": 3,
   "metadata": {
    "ExecuteTime": {
     "end_time": "2018-08-25T23:49:55.460738Z",
     "start_time": "2018-08-25T23:49:55.449978Z"
    }
   },
   "outputs": [],
   "source": [
    "class Model(nn.Module):\n",
    "    \n",
    "    # Definição de Modules que serão utilizados na rede\n",
    "    def __init__(self):\n",
    "        super(Model, self).__init__()\n",
    "        \n",
    "        # camada convolucional\n",
    "        self.conv = nn.Conv2d(in_channels=1, out_channels=3, kernel_size=(2, 2), \n",
    "                              padding=0)\n",
    "        self.relu1 = nn.ReLU()\n",
    "        self.max_pool = nn.MaxPool2d((2, 2))\n",
    "        \n",
    "        # camada densa\n",
    "        self.dense = nn.Linear(in_features=3*4, out_features=1)\n",
    "        self.relu2 = nn.ReLU()\n",
    "    \n",
    "    # Método de definição obrigatória\n",
    "    # Sequencia que será efetivamente executada para obter a saída da rede\n",
    "    def forward(self, x):\n",
    "        # passa os dados pela camada convolucional\n",
    "        x = self.conv(x)\n",
    "        x = self.relu1(x)\n",
    "        x = self.max_pool(x)\n",
    "        \n",
    "        # faz o flatten dos dados\n",
    "        x = x.reshape(-1, 3*4)\n",
    "        \n",
    "        # passa os dados pela camada densa\n",
    "        x = self.dense(x)\n",
    "        x = self.relu2(x)\n",
    "        \n",
    "        return x"
   ]
  },
  {
   "cell_type": "code",
   "execution_count": 4,
   "metadata": {
    "ExecuteTime": {
     "end_time": "2018-08-25T23:49:55.474875Z",
     "start_time": "2018-08-25T23:49:55.464498Z"
    }
   },
   "outputs": [
    {
     "name": "stdout",
     "output_type": "stream",
     "text": [
      "Model(\n",
      "  (conv): Conv2d(1, 3, kernel_size=(2, 2), stride=(1, 1))\n",
      "  (relu1): ReLU()\n",
      "  (max_pool): MaxPool2d(kernel_size=(2, 2), stride=(2, 2), padding=0, dilation=1, ceil_mode=False)\n",
      "  (dense): Linear(in_features=12, out_features=1, bias=True)\n",
      "  (relu2): ReLU()\n",
      ")\n"
     ]
    }
   ],
   "source": [
    "model = Model()\n",
    "print(model)"
   ]
  },
  {
   "cell_type": "markdown",
   "metadata": {},
   "source": [
    "## Criação dos parâmetros da rede"
   ]
  },
  {
   "cell_type": "markdown",
   "metadata": {
    "ExecuteTime": {
     "end_time": "2017-09-22T16:12:16.773142",
     "start_time": "2017-09-22T16:12:16.769216"
    }
   },
   "source": [
    "Neste exemplo não haverá treinamento, iremos inicializar os parâmetros da rede com valores conhecidos, de acordo com a figura."
   ]
  },
  {
   "cell_type": "markdown",
   "metadata": {},
   "source": [
    "### Kernel da convolução"
   ]
  },
  {
   "cell_type": "code",
   "execution_count": 5,
   "metadata": {
    "ExecuteTime": {
     "end_time": "2018-08-25T23:49:55.487486Z",
     "start_time": "2018-08-25T23:49:55.478809Z"
    }
   },
   "outputs": [],
   "source": [
    "# número de filtros\n",
    "n_filters = 3    \n",
    "\n",
    "# comprimento e largura dos filtros\n",
    "k_height = k_width = 2 \n",
    "kernel_shape = (k_height, k_width)\n",
    "\n",
    "W_conv = torch.FloatTensor(\n",
    "                 [[[1,2],\n",
    "                   [3,4]],\n",
    "                  [[5,6],\n",
    "                   [7,8]],\n",
    "                  [[9,10],\n",
    "                   [11,12]]]).reshape(n_filters,1,k_height,k_width)"
   ]
  },
  {
   "cell_type": "markdown",
   "metadata": {},
   "source": [
    "### Bias da Convolução"
   ]
  },
  {
   "cell_type": "code",
   "execution_count": 6,
   "metadata": {
    "ExecuteTime": {
     "end_time": "2018-08-25T23:49:55.500309Z",
     "start_time": "2018-08-25T23:49:55.490904Z"
    }
   },
   "outputs": [
    {
     "name": "stdout",
     "output_type": "stream",
     "text": [
      "Bias da convolução: tensor([0.1000, 0.2000, 0.3000])\n"
     ]
    }
   ],
   "source": [
    "# valor de bias\n",
    "f_bias = 0.1     \n",
    "bias_conv = torch.arange(1,n_filters+1).float() * f_bias\n",
    "print(\"Bias da convolução:\",bias_conv)"
   ]
  },
  {
   "cell_type": "markdown",
   "metadata": {},
   "source": [
    "### Pesos para a camada densa"
   ]
  },
  {
   "cell_type": "code",
   "execution_count": 7,
   "metadata": {
    "ExecuteTime": {
     "end_time": "2018-08-25T23:49:55.510944Z",
     "start_time": "2018-08-25T23:49:55.503978Z"
    }
   },
   "outputs": [
    {
     "name": "stdout",
     "output_type": "stream",
     "text": [
      "Pesos da camada densa:\n",
      " tensor([[ 0.,  1.,  2.,  3.,  4.,  5.,  6.,  7.,  8.,  9., 10., 11.]])\n"
     ]
    }
   ],
   "source": [
    "# após o max pooling, são 3 imagens 2x2 = 12\n",
    "W_dense = torch.arange(12).float().reshape(1, 12)\n",
    "print(\"Pesos da camada densa:\\n\",W_dense)"
   ]
  },
  {
   "cell_type": "markdown",
   "metadata": {},
   "source": [
    "### Bias para a camada densa"
   ]
  },
  {
   "cell_type": "code",
   "execution_count": 8,
   "metadata": {
    "ExecuteTime": {
     "end_time": "2018-08-25T23:49:55.522493Z",
     "start_time": "2018-08-25T23:49:55.514474Z"
    }
   },
   "outputs": [
    {
     "name": "stdout",
     "output_type": "stream",
     "text": [
      "Bias da camanda densa: tensor([0.1000])\n"
     ]
    }
   ],
   "source": [
    "bias_dense = torch.ones(1) * f_bias\n",
    "print(\"Bias da camanda densa:\",bias_dense)"
   ]
  },
  {
   "cell_type": "markdown",
   "metadata": {},
   "source": [
    "### Sumário do shape dos parâmetros"
   ]
  },
  {
   "cell_type": "code",
   "execution_count": 9,
   "metadata": {
    "ExecuteTime": {
     "end_time": "2018-08-25T23:49:55.547877Z",
     "start_time": "2018-08-25T23:49:55.526193Z"
    }
   },
   "outputs": [
    {
     "data": {
      "text/html": [
       "<h3>Shape dos pesos</h3>"
      ],
      "text/plain": [
       "<IPython.core.display.HTML object>"
      ]
     },
     "metadata": {},
     "output_type": "display_data"
    },
    {
     "name": "stdout",
     "output_type": "stream",
     "text": [
      "W_conv:     torch.Size([3, 1, 2, 2])\n",
      "bias_conv:  torch.Size([3])\n",
      "W_dense:    torch.Size([1, 12])\n",
      "bias_dense: torch.Size([1])\n",
      "\n"
     ]
    }
   ],
   "source": [
    "from IPython.display import display,HTML\n",
    "# Mostra o shape dos pesos das camadas\n",
    "display(HTML('<h3>Shape dos pesos</h3>'))\n",
    "print('{:11} {}'.format('W_conv:', W_conv.shape))\n",
    "print('{:11} {}'.format('bias_conv:', bias_conv.shape))\n",
    "print('{:11} {}'.format('W_dense:', W_dense.shape))\n",
    "print('{:11} {}'.format('bias_dense:', bias_dense.shape))\n",
    "print()"
   ]
  },
  {
   "cell_type": "markdown",
   "metadata": {},
   "source": [
    "## Criação da rede model e carregamento dos pesos (parâmetros)"
   ]
  },
  {
   "cell_type": "code",
   "execution_count": 10,
   "metadata": {
    "ExecuteTime": {
     "end_time": "2018-08-25T23:49:55.558774Z",
     "start_time": "2018-08-25T23:49:55.551747Z"
    }
   },
   "outputs": [],
   "source": [
    "# cria o modelo\n",
    "model = Model()\n",
    "\n",
    "# Dicionário com os pesos para a rede\n",
    "my_weights = OrderedDict([\n",
    "    ('conv.weight',  W_conv),\n",
    "    ('conv.bias',    bias_conv),\n",
    "    ('dense.weight', W_dense),\n",
    "    ('dense.bias',   bias_dense),\n",
    "])\n",
    "\n",
    "# aplica os pesos criados à rede\n",
    "model.load_state_dict(my_weights)"
   ]
  },
  {
   "cell_type": "markdown",
   "metadata": {},
   "source": [
    "### Visualização dos pesos da rede na forma de dicionário"
   ]
  },
  {
   "cell_type": "code",
   "execution_count": 11,
   "metadata": {
    "ExecuteTime": {
     "end_time": "2018-08-25T23:49:55.574375Z",
     "start_time": "2018-08-25T23:49:55.562411Z"
    }
   },
   "outputs": [
    {
     "data": {
      "text/plain": [
       "OrderedDict([('conv.weight', tensor([[[[ 1.,  2.],\n",
       "                        [ 3.,  4.]]],\n",
       "              \n",
       "              \n",
       "                      [[[ 5.,  6.],\n",
       "                        [ 7.,  8.]]],\n",
       "              \n",
       "              \n",
       "                      [[[ 9., 10.],\n",
       "                        [11., 12.]]]])),\n",
       "             ('conv.bias', tensor([0.1000, 0.2000, 0.3000])),\n",
       "             ('dense.weight',\n",
       "              tensor([[ 0.,  1.,  2.,  3.,  4.,  5.,  6.,  7.,  8.,  9., 10., 11.]])),\n",
       "             ('dense.bias', tensor([0.1000]))])"
      ]
     },
     "execution_count": 11,
     "metadata": {},
     "output_type": "execute_result"
    }
   ],
   "source": [
    "model.state_dict()"
   ]
  },
  {
   "cell_type": "markdown",
   "metadata": {},
   "source": [
    "### Visualização dos pesos da rede na forma de tensores"
   ]
  },
  {
   "cell_type": "code",
   "execution_count": 12,
   "metadata": {
    "ExecuteTime": {
     "end_time": "2018-08-25T23:49:55.607409Z",
     "start_time": "2018-08-25T23:49:55.580879Z"
    }
   },
   "outputs": [
    {
     "data": {
      "text/html": [
       "<h4>conv.weight</h4>"
      ],
      "text/plain": [
       "<IPython.core.display.HTML object>"
      ]
     },
     "metadata": {},
     "output_type": "display_data"
    },
    {
     "name": "stdout",
     "output_type": "stream",
     "text": [
      "tensor([[[[ 1.,  2.],\n",
      "          [ 3.,  4.]]],\n",
      "\n",
      "\n",
      "        [[[ 5.,  6.],\n",
      "          [ 7.,  8.]]],\n",
      "\n",
      "\n",
      "        [[[ 9., 10.],\n",
      "          [11., 12.]]]])\n"
     ]
    },
    {
     "data": {
      "text/html": [
       "<h4>conv.bias</h4>"
      ],
      "text/plain": [
       "<IPython.core.display.HTML object>"
      ]
     },
     "metadata": {},
     "output_type": "display_data"
    },
    {
     "name": "stdout",
     "output_type": "stream",
     "text": [
      "tensor([0.1000, 0.2000, 0.3000])\n"
     ]
    },
    {
     "data": {
      "text/html": [
       "<h4>dense.weight</h4>"
      ],
      "text/plain": [
       "<IPython.core.display.HTML object>"
      ]
     },
     "metadata": {},
     "output_type": "display_data"
    },
    {
     "name": "stdout",
     "output_type": "stream",
     "text": [
      "tensor([[ 0.,  1.,  2.,  3.,  4.,  5.,  6.,  7.,  8.,  9., 10., 11.]])\n"
     ]
    },
    {
     "data": {
      "text/html": [
       "<h4>dense.bias</h4>"
      ],
      "text/plain": [
       "<IPython.core.display.HTML object>"
      ]
     },
     "metadata": {},
     "output_type": "display_data"
    },
    {
     "name": "stdout",
     "output_type": "stream",
     "text": [
      "tensor([0.1000])\n"
     ]
    }
   ],
   "source": [
    "for W_name, W in model.state_dict().items():\n",
    "    display(HTML('<h4>{}</h4>'.format(W_name)))\n",
    "    print(W)"
   ]
  },
  {
   "cell_type": "markdown",
   "metadata": {},
   "source": [
    "## Predição da Rede e Visualização dos tensores em cada camada"
   ]
  },
  {
   "cell_type": "markdown",
   "metadata": {},
   "source": [
    "### Imagem de Entrada: Variable (1,1,5,6) uma amostra, um canal, 5 linhas e 6 colunas"
   ]
  },
  {
   "cell_type": "code",
   "execution_count": 13,
   "metadata": {
    "ExecuteTime": {
     "end_time": "2018-08-25T23:49:55.623870Z",
     "start_time": "2018-08-25T23:49:55.611356Z"
    }
   },
   "outputs": [
    {
     "data": {
      "text/html": [
       "<h3>Entrada na rede</h3>"
      ],
      "text/plain": [
       "<IPython.core.display.HTML object>"
      ]
     },
     "metadata": {},
     "output_type": "display_data"
    },
    {
     "data": {
      "text/html": [
       "<h4>X</h4>"
      ],
      "text/plain": [
       "<IPython.core.display.HTML object>"
      ]
     },
     "metadata": {},
     "output_type": "display_data"
    },
    {
     "name": "stdout",
     "output_type": "stream",
     "text": [
      "tensor([[[[ 0.,  0.,  0.,  0.,  0.,  0.],\n",
      "          [ 0.,  0.,  1.,  0.,  0.,  0.],\n",
      "          [ 0.,  0.,  0.,  0.,  0.,  0.],\n",
      "          [ 0.,  0.,  0.,  0., -1.,  0.],\n",
      "          [ 0.,  0.,  0.,  0.,  0.,  0.]]]])\n"
     ]
    }
   ],
   "source": [
    "X = torch.FloatTensor(\n",
    "             [[[[0,0,0,0, 0,0],\n",
    "                [0,0,1,0, 0,0],\n",
    "                [0,0,0,0, 0,0],\n",
    "                [0,0,0,0,-1,0],\n",
    "                [0,0,0,0, 0,0]]]])\n",
    "\n",
    "display(HTML('<h3>Entrada na rede</h3>'))\n",
    "display(HTML('<h4>X</h4>'))\n",
    "print(X)"
   ]
  },
  {
   "cell_type": "markdown",
   "metadata": {},
   "source": [
    "## Predição"
   ]
  },
  {
   "cell_type": "markdown",
   "metadata": {},
   "source": [
    "### Mostra as saídas de cada camada da rede"
   ]
  },
  {
   "cell_type": "code",
   "execution_count": 14,
   "metadata": {
    "ExecuteTime": {
     "end_time": "2018-08-25T23:49:55.689739Z",
     "start_time": "2018-08-25T23:49:55.627737Z"
    }
   },
   "outputs": [
    {
     "data": {
      "text/html": [
       "<h4>conv:torch.Size([1, 1, 5, 6])</h4>"
      ],
      "text/plain": [
       "<IPython.core.display.HTML object>"
      ]
     },
     "metadata": {},
     "output_type": "display_data"
    },
    {
     "name": "stdout",
     "output_type": "stream",
     "text": [
      "tensor([[[[  0.1000,   4.1000,   3.1000,   0.1000,   0.1000],\n",
      "          [  0.1000,   2.1000,   1.1000,   0.1000,   0.1000],\n",
      "          [  0.1000,   0.1000,   0.1000,  -3.9000,  -2.9000],\n",
      "          [  0.1000,   0.1000,   0.1000,  -1.9000,  -0.9000]],\n",
      "\n",
      "         [[  0.2000,   8.2000,   7.2000,   0.2000,   0.2000],\n",
      "          [  0.2000,   6.2000,   5.2000,   0.2000,   0.2000],\n",
      "          [  0.2000,   0.2000,   0.2000,  -7.8000,  -6.8000],\n",
      "          [  0.2000,   0.2000,   0.2000,  -5.8000,  -4.8000]],\n",
      "\n",
      "         [[  0.3000,  12.3000,  11.3000,   0.3000,   0.3000],\n",
      "          [  0.3000,  10.3000,   9.3000,   0.3000,   0.3000],\n",
      "          [  0.3000,   0.3000,   0.3000, -11.7000, -10.7000],\n",
      "          [  0.3000,   0.3000,   0.3000,  -9.7000,  -8.7000]]]],\n",
      "       grad_fn=<ThnnConv2DBackward>)\n"
     ]
    },
    {
     "data": {
      "text/html": [
       "<h4>relu1:torch.Size([1, 3, 4, 5])</h4>"
      ],
      "text/plain": [
       "<IPython.core.display.HTML object>"
      ]
     },
     "metadata": {},
     "output_type": "display_data"
    },
    {
     "name": "stdout",
     "output_type": "stream",
     "text": [
      "tensor([[[[ 0.1000,  4.1000,  3.1000,  0.1000,  0.1000],\n",
      "          [ 0.1000,  2.1000,  1.1000,  0.1000,  0.1000],\n",
      "          [ 0.1000,  0.1000,  0.1000,  0.0000,  0.0000],\n",
      "          [ 0.1000,  0.1000,  0.1000,  0.0000,  0.0000]],\n",
      "\n",
      "         [[ 0.2000,  8.2000,  7.2000,  0.2000,  0.2000],\n",
      "          [ 0.2000,  6.2000,  5.2000,  0.2000,  0.2000],\n",
      "          [ 0.2000,  0.2000,  0.2000,  0.0000,  0.0000],\n",
      "          [ 0.2000,  0.2000,  0.2000,  0.0000,  0.0000]],\n",
      "\n",
      "         [[ 0.3000, 12.3000, 11.3000,  0.3000,  0.3000],\n",
      "          [ 0.3000, 10.3000,  9.3000,  0.3000,  0.3000],\n",
      "          [ 0.3000,  0.3000,  0.3000,  0.0000,  0.0000],\n",
      "          [ 0.3000,  0.3000,  0.3000,  0.0000,  0.0000]]]],\n",
      "       grad_fn=<ThresholdBackward0>)\n"
     ]
    },
    {
     "data": {
      "text/html": [
       "<h4>max_pool:torch.Size([1, 3, 4, 5])</h4>"
      ],
      "text/plain": [
       "<IPython.core.display.HTML object>"
      ]
     },
     "metadata": {},
     "output_type": "display_data"
    },
    {
     "name": "stdout",
     "output_type": "stream",
     "text": [
      "tensor([[[[ 4.1000,  3.1000],\n",
      "          [ 0.1000,  0.1000]],\n",
      "\n",
      "         [[ 8.2000,  7.2000],\n",
      "          [ 0.2000,  0.2000]],\n",
      "\n",
      "         [[12.3000, 11.3000],\n",
      "          [ 0.3000,  0.3000]]]], grad_fn=<MaxPool2DWithIndicesBackward>)\n"
     ]
    },
    {
     "data": {
      "text/html": [
       "<h4>dense:torch.Size([1, 3, 2, 2])</h4>"
      ],
      "text/plain": [
       "<IPython.core.display.HTML object>"
      ]
     },
     "metadata": {},
     "output_type": "display_data"
    },
    {
     "name": "stdout",
     "output_type": "stream",
     "text": [
      "tensor([[281.5000]], grad_fn=<ThAddmmBackward>)\n"
     ]
    },
    {
     "data": {
      "text/html": [
       "<h4>relu2:torch.Size([1, 1])</h4>"
      ],
      "text/plain": [
       "<IPython.core.display.HTML object>"
      ]
     },
     "metadata": {},
     "output_type": "display_data"
    },
    {
     "name": "stdout",
     "output_type": "stream",
     "text": [
      "tensor([[281.5000]], grad_fn=<ThresholdBackward0>)\n"
     ]
    }
   ],
   "source": [
    "for name, layer in model.named_children():\n",
    "    display(HTML('<h4>{}:{}</h4>'.format(name, X.shape)))\n",
    "    if name == 'dense': X = X.reshape(-1, 3*4)\n",
    "    X = layer(X)\n",
    "    print(X)"
   ]
  },
  {
   "cell_type": "markdown",
   "metadata": {},
   "source": [
    "# Sugestões de atividades\n",
    "\n",
    "1. Quais as vantagens de utilizar Sequential na definição do modelo?\n",
    "2. Como calcular o número de parâmetros da rede?\n",
    "3. Retirar o bias e recalcular o número de parâmetros a serem treinados\n",
    "4. A rede foi projetada para aceitar entrada com shape (1,5,6). Mudar a rede para aceitar:\n",
    "   a) entrada com shape (1,6,6)\n",
    "   b) entrada com shape (3,6,6)\n",
    "5. Inserir mais uma camada convolucional com 4 filtros de saída e kernel (3,3)"
   ]
  },
  {
   "cell_type": "markdown",
   "metadata": {},
   "source": [
    "# Referências\n",
    "\n",
    "- [PyTorch Documentation](http://pytorch.org/docs/master/index.html)\n"
   ]
  },
  {
   "cell_type": "markdown",
   "metadata": {},
   "source": [
    "# Aprendizados com este notebook\n"
   ]
  }
 ],
 "metadata": {
  "anaconda-cloud": {},
  "kernelspec": {
   "display_name": "Python 3",
   "language": "python",
   "name": "python3"
  },
  "language_info": {
   "codemirror_mode": {
    "name": "ipython",
    "version": 3
   },
   "file_extension": ".py",
   "mimetype": "text/x-python",
   "name": "python",
   "nbconvert_exporter": "python",
   "pygments_lexer": "ipython3",
   "version": "3.6.5"
  },
  "toc": {
   "nav_menu": {
    "height": "207px",
    "width": "252px"
   },
   "number_sections": true,
   "sideBar": true,
   "skip_h1_title": false,
   "toc_cell": false,
   "toc_position": {},
   "toc_section_display": "block",
   "toc_window_display": false
  },
  "varInspector": {
   "cols": {
    "lenName": 16,
    "lenType": 16,
    "lenVar": 40
   },
   "kernels_config": {
    "python": {
     "delete_cmd_postfix": "",
     "delete_cmd_prefix": "del ",
     "library": "var_list.py",
     "varRefreshCmd": "print(var_dic_list())"
    },
    "r": {
     "delete_cmd_postfix": ") ",
     "delete_cmd_prefix": "rm(",
     "library": "var_list.r",
     "varRefreshCmd": "cat(var_dic_list()) "
    }
   },
   "types_to_exclude": [
    "module",
    "function",
    "builtin_function_or_method",
    "instance",
    "_Feature"
   ],
   "window_display": false
  }
 },
 "nbformat": 4,
 "nbformat_minor": 1
}
