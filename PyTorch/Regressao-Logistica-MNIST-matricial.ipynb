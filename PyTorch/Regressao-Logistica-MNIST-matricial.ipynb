{
 "cells": [
  {
   "cell_type": "markdown",
   "metadata": {},
   "source": [
    "# Regressão Softmax com dados do MNIST\n",
    "\n",
    "O objetivo deste notebook é ilustrar o uso do mesmo código matricial desenvolvido para a classificação das Flores Íris, porém agora com o problema de classificação de dígitos manuscritos utilizando o dataset MNIST.\n"
   ]
  },
  {
   "cell_type": "markdown",
   "metadata": {},
   "source": [
    "## Importação das bibliotecas"
   ]
  },
  {
   "cell_type": "code",
   "execution_count": 1,
   "metadata": {
    "ExecuteTime": {
     "end_time": "2017-10-08T21:50:47.712366Z",
     "start_time": "2017-10-08T21:50:45.983895Z"
    },
    "collapsed": true
   },
   "outputs": [],
   "source": [
    "%matplotlib inline\n",
    "import numpy as np\n",
    "import matplotlib.pyplot as plt\n",
    "import pandas as pd\n",
    "\n",
    "import torch\n",
    "from torch.autograd import Variable\n",
    "\n",
    "import torchvision\n",
    "from torchvision.datasets import MNIST\n",
    "import torchvision.transforms as transforms"
   ]
  },
  {
   "cell_type": "markdown",
   "metadata": {},
   "source": [
    "## Funções já discutidas em notebooks anteriores"
   ]
  },
  {
   "cell_type": "code",
   "execution_count": 2,
   "metadata": {
    "ExecuteTime": {
     "end_time": "2017-10-08T21:50:47.723344Z",
     "start_time": "2017-10-08T21:50:47.714421Z"
    },
    "collapsed": true
   },
   "outputs": [],
   "source": [
    "def predict(model, inputs):\n",
    "    outputs = model(Variable(inputs))\n",
    "    _, predicts = torch.max(outputs, 1)\n",
    "    \n",
    "    return predicts.data.numpy()\n",
    "\n",
    "def getAccuracy(model, inputs, targets):\n",
    "    outputs = model(Variable(inputs))\n",
    "    _, predicts = torch.max(outputs, 1)\n",
    "\n",
    "    predicts = predicts.data.numpy()\n",
    "    targets = targets.numpy()\n",
    "    \n",
    "    accuracy = (predicts == targets).mean()\n",
    "    return accuracy"
   ]
  },
  {
   "cell_type": "markdown",
   "metadata": {},
   "source": [
    "## Carregamento dos dados do MNIST"
   ]
  },
  {
   "cell_type": "code",
   "execution_count": 3,
   "metadata": {
    "ExecuteTime": {
     "end_time": "2017-10-08T21:50:47.804238Z",
     "start_time": "2017-10-08T21:50:47.725713Z"
    }
   },
   "outputs": [
    {
     "name": "stdout",
     "output_type": "stream",
     "text": [
      "Tamanho do dataset de treino: 60000\n",
      "Tamanho do dataset de teste:  10000\n",
      "\n",
      "Dimensões dos dados das imagens: torch.Size([1, 28, 28])\n",
      "Tipo dos dados das imagens:      <class 'torch.FloatTensor'>\n",
      "Tipo das classes das imagens:    <class 'int'>\n"
     ]
    }
   ],
   "source": [
    "dataset_dir = '/data/datasets/MNIST/'\n",
    "\n",
    "# Transformara os dados em tensores no intervalo [0.0, 1.0] (Os dados serão normalizados)\n",
    "data_transform = transforms.ToTensor()\n",
    "\n",
    "# carrega o conjunto de treinamento e de teste\n",
    "train_dataset = MNIST(dataset_dir, train=True,  transform=data_transform)\n",
    "test_dataset  = MNIST(dataset_dir, train=False, transform=data_transform)\n",
    "\n",
    "print(\"Tamanho do dataset de treino:\", len(train_dataset))\n",
    "print(\"Tamanho do dataset de teste: \", len(test_dataset))\n",
    "\n",
    "print(\"\\nDimensões dos dados das imagens:\", train_dataset[0][0].size())\n",
    "print(\"Tipo dos dados das imagens:     \", type(train_dataset[0][0]))\n",
    "print(\"Tipo das classes das imagens:   \", type(train_dataset[0][1]))"
   ]
  },
  {
   "cell_type": "markdown",
   "metadata": {},
   "source": [
    "## Organizando e normalizando os dados\n",
    "\n",
    "Neste exemplo utilizaremos 500 amostras de treinamento e 100 amostras para testes.\n"
   ]
  },
  {
   "cell_type": "code",
   "execution_count": 4,
   "metadata": {
    "ExecuteTime": {
     "end_time": "2017-10-08T21:50:47.816803Z",
     "start_time": "2017-10-08T21:50:47.806580Z"
    }
   },
   "outputs": [
    {
     "name": "stdout",
     "output_type": "stream",
     "text": [
      "Amostras para treinamento: 500\n",
      "Amostras para validação: 100\n"
     ]
    }
   ],
   "source": [
    "n_samples_train = 500\n",
    "n_samples_test  = 100\n",
    "\n",
    "train_dataset.train_data   = train_dataset.train_data[:n_samples_train]\n",
    "train_dataset.train_labels = train_dataset.train_labels[:n_samples_train]\n",
    "test_dataset.test_data   = test_dataset.test_data[:n_samples_test]\n",
    "test_dataset.test_labels = test_dataset.test_labels[:n_samples_test]\n",
    "\n",
    "print('Amostras para treinamento:', len(train_dataset))\n",
    "print('Amostras para validação:',   len(test_dataset))"
   ]
  },
  {
   "cell_type": "markdown",
   "metadata": {},
   "source": [
    "## Visualizando os dados"
   ]
  },
  {
   "cell_type": "code",
   "execution_count": 5,
   "metadata": {
    "ExecuteTime": {
     "end_time": "2017-10-08T21:50:48.253906Z",
     "start_time": "2017-10-08T21:50:47.819324Z"
    }
   },
   "outputs": [
    {
     "data": {
      "image/png": "[encoded data removed]",
      "text/plain": [
       "<matplotlib.figure.Figure at 0x111cccb00>"
      ]
     },
     "metadata": {},
     "output_type": "display_data"
    }
   ],
   "source": [
    "n_samples = 24\n",
    "\n",
    "# cria um DataLoader temporario para pegar um batch de 'n_samples' imagens de treinamento\n",
    "temp_dataloader = torch.utils.data.DataLoader(train_dataset, \n",
    "                                              batch_size=n_samples,\n",
    "                                              shuffle=True)\n",
    "\n",
    "# pega um batch de imagens\n",
    "image_batch, labels = next(iter(temp_dataloader))\n",
    "\n",
    "# cria um grid com as imagens\n",
    "grid = torchvision.utils.make_grid(image_batch, normalize=True, pad_value=1.0, padding=1)\n",
    "\n",
    "plt.figure(figsize=(15, 10))\n",
    "plt.imshow(grid.numpy().transpose(1, 2, 0))\n",
    "plt.axis('off')\n",
    "plt.show()"
   ]
  },
  {
   "cell_type": "markdown",
   "metadata": {},
   "source": [
    "## Visualizando uma imagem com o matplotlib"
   ]
  },
  {
   "cell_type": "code",
   "execution_count": 6,
   "metadata": {
    "ExecuteTime": {
     "end_time": "2017-10-08T21:50:48.468090Z",
     "start_time": "2017-10-08T21:50:48.255527Z"
    }
   },
   "outputs": [
    {
     "name": "stdout",
     "output_type": "stream",
     "text": [
      "class: 5\n"
     ]
    },
    {
     "data": {
      "image/png": "[encoded data removed]",
      "text/plain": [
       "<matplotlib.figure.Figure at 0x11cf862b0>"
      ]
     },
     "metadata": {},
     "output_type": "display_data"
    }
   ],
   "source": [
    "image, target = train_dataset[0]\n",
    "\n",
    "plt.imshow(image.numpy().reshape(28,28), cmap='gray')\n",
    "print('class:', target)"
   ]
  },
  {
   "cell_type": "markdown",
   "metadata": {},
   "source": [
    "## Treinamento"
   ]
  },
  {
   "cell_type": "markdown",
   "metadata": {},
   "source": [
    "### Inicialização dos parâmetros"
   ]
  },
  {
   "cell_type": "code",
   "execution_count": 32,
   "metadata": {
    "ExecuteTime": {
     "end_time": "2017-10-08T22:20:57.541832Z",
     "start_time": "2017-10-08T22:20:57.529047Z"
    },
    "collapsed": true
   },
   "outputs": [],
   "source": [
    "epochs = 100\n",
    "learningRate = 0.5\n",
    "\n",
    "# Cria um DataLoader de somente um batch\n",
    "train_dataloader = torch.utils.data.DataLoader(train_dataset, \n",
    "                                               batch_size=16,\n",
    "                                               shuffle=True)\n",
    "\n",
    "# Pega todas as imagens de uma vez\n",
    "\n",
    "\n",
    "# Cria uma operação linear com entrada de tamanho 28*28 e saída com 10 neurônios (classes)\n",
    "# O objeto criado armazenará os pesos\n",
    "model = torch.nn.Linear(28*28, 10)\n",
    "\n",
    "# Utilizaremos CrossEntropyLoss como função de perda\n",
    "criterion = torch.nn.CrossEntropyLoss(size_average=True)\n",
    "criterion2 = torch.nn.CrossEntropyLoss(size_average=False)\n",
    "\n",
    "# Nosso otomizador será SDG\n",
    "optimizer = torch.optim.SGD(model.parameters(), lr=learningRate)"
   ]
  },
  {
   "cell_type": "markdown",
   "metadata": {},
   "source": [
    "### Laço de treinamento dos pesos"
   ]
  },
  {
   "cell_type": "code",
   "execution_count": 40,
   "metadata": {
    "ExecuteTime": {
     "end_time": "2017-10-08T22:24:12.268760Z",
     "start_time": "2017-10-08T22:24:06.125838Z"
    }
   },
   "outputs": [],
   "source": [
    "losses = []\n",
    "\n",
    "for i in range(epochs):\n",
    "    loss_sum = 0\n",
    "    loss2_sum= 0\n",
    "    \n",
    "    for batch in train_dataloader:\n",
    "        # separa os dados do batch\n",
    "        input_data, targets_data = batch\n",
    "        # Transforma a entrada para uma dimensão\n",
    "        input_data = input_data.view(-1, 28*28)\n",
    "    \n",
    "        # calcula a saída da operação linear\n",
    "        output = model(Variable(input_data))\n",
    "\n",
    "        # calcula a perda\n",
    "        loss = criterion(output, Variable(targets_data))\n",
    "        loss_sum += loss.data[0] * targets_data.size(0)\n",
    "        loss2 = criterion2(output, Variable(targets_data))\n",
    "        loss2_sum += loss2\n",
    "        \n",
    "        # zero, backpropagation, ajusta parâmetros pelo gradiente descendente\n",
    "        optimizer.zero_grad()\n",
    "        loss.backward()\n",
    "        optimizer.step()\n",
    "    \n",
    "    epoch_loss = loss_sum / len(train_dataset)\n",
    "    epoch2_loss = loss2_sum/ len(train_dataset)\n",
    "    losses.append(epoch_loss)\n",
    "    "
   ]
  },
  {
   "cell_type": "code",
   "execution_count": 41,
   "metadata": {
    "ExecuteTime": {
     "end_time": "2017-10-08T22:24:14.722302Z",
     "start_time": "2017-10-08T22:24:14.717734Z"
    }
   },
   "outputs": [
    {
     "name": "stdout",
     "output_type": "stream",
     "text": [
      "Final loss: 0.0015997751159593462 0.0015997751615941525\n"
     ]
    }
   ],
   "source": [
    "print('Final loss:', epoch_loss, epoch2_loss.data[0])"
   ]
  },
  {
   "cell_type": "code",
   "execution_count": 37,
   "metadata": {
    "ExecuteTime": {
     "end_time": "2017-10-08T22:21:49.895233Z",
     "start_time": "2017-10-08T22:21:49.889169Z"
    }
   },
   "outputs": [
    {
     "data": {
      "text/plain": [
       "15.402000738762737"
      ]
     },
     "execution_count": 37,
     "metadata": {},
     "output_type": "execute_result"
    }
   ],
   "source": [
    "1/(0.1506661695893854/ 2.3205604553222656)"
   ]
  },
  {
   "cell_type": "markdown",
   "metadata": {},
   "source": [
    "## Visualizando gráfico de perda durante o treinamento"
   ]
  },
  {
   "cell_type": "code",
   "execution_count": 9,
   "metadata": {
    "ExecuteTime": {
     "end_time": "2017-10-08T11:42:55.078065Z",
     "start_time": "2017-10-08T11:42:54.837753Z"
    }
   },
   "outputs": [
    {
     "data": {
      "text/plain": [
       "[<matplotlib.lines.Line2D at 0x11a1b4400>]"
      ]
     },
     "execution_count": 9,
     "metadata": {},
     "output_type": "execute_result"
    },
    {
     "data": {
      "image/png": "[encoded data removed]",
      "text/plain": [
       "<matplotlib.figure.Figure at 0x1197f05c0>"
      ]
     },
     "metadata": {},
     "output_type": "display_data"
    }
   ],
   "source": [
    "plt.plot(losses)"
   ]
  },
  {
   "cell_type": "markdown",
   "metadata": {},
   "source": [
    "## Avaliando a acurácia tanto no conjunto de treinamento como no conjunto de testes"
   ]
  },
  {
   "cell_type": "code",
   "execution_count": 10,
   "metadata": {
    "ExecuteTime": {
     "end_time": "2017-10-08T11:42:55.158664Z",
     "start_time": "2017-10-08T11:42:55.080122Z"
    }
   },
   "outputs": [
    {
     "name": "stdout",
     "output_type": "stream",
     "text": [
      "Training Accuracy:  1.0\n",
      "Test Accuracy:  0.84\n"
     ]
    }
   ],
   "source": [
    "def getAccuracy(model, inputs, targets):\n",
    "    outputs = model(Variable(inputs))\n",
    "    _, predicts = torch.max(outputs, 1)\n",
    "\n",
    "    predicts = predicts.data.numpy()\n",
    "    targets = targets.numpy()\n",
    "    \n",
    "    accuracy = (predicts == targets).mean()\n",
    "    return accuracy\n",
    "\n",
    "train_dataloader = torch.utils.data.DataLoader(train_dataset, \n",
    "                                              batch_size=len(train_dataset),\n",
    "                                              shuffle=False)\n",
    "train_input, targets_data = next(iter(train_dataloader))\n",
    "train_input = train_input.view(-1, 28*28)\n",
    "\n",
    "print('Training Accuracy: ', getAccuracy(model, train_input, targets_data))\n",
    "\n",
    "\n",
    "\n",
    "test_dataloader = torch.utils.data.DataLoader(test_dataset, \n",
    "                                              batch_size=len(test_dataset),\n",
    "                                              shuffle=False)\n",
    "test_input, test_labels = next(iter(test_dataloader))\n",
    "test_input = test_input.view(-1, 28*28)\n",
    "\n",
    "print('Test Accuracy: ', getAccuracy(model, test_input, test_labels))"
   ]
  },
  {
   "cell_type": "markdown",
   "metadata": {},
   "source": [
    "## Matriz de confusão com dados de treinamento e teste"
   ]
  },
  {
   "cell_type": "code",
   "execution_count": 11,
   "metadata": {
    "ExecuteTime": {
     "end_time": "2017-10-08T11:42:55.198626Z",
     "start_time": "2017-10-08T11:42:55.160808Z"
    }
   },
   "outputs": [
    {
     "name": "stdout",
     "output_type": "stream",
     "text": [
      "Matriz de confusão (Treino):\n"
     ]
    },
    {
     "data": {
      "text/html": [
       "<div>\n",
       "<style>\n",
       "    .dataframe thead tr:only-child th {\n",
       "        text-align: right;\n",
       "    }\n",
       "\n",
       "    .dataframe thead th {\n",
       "        text-align: left;\n",
       "    }\n",
       "\n",
       "    .dataframe tbody tr th {\n",
       "        vertical-align: top;\n",
       "    }\n",
       "</style>\n",
       "<table border=\"1\" class=\"dataframe\">\n",
       "  <thead>\n",
       "    <tr style=\"text-align: right;\">\n",
       "      <th>col_0</th>\n",
       "      <th>0</th>\n",
       "      <th>1</th>\n",
       "      <th>2</th>\n",
       "      <th>3</th>\n",
       "      <th>4</th>\n",
       "      <th>5</th>\n",
       "      <th>6</th>\n",
       "      <th>7</th>\n",
       "      <th>8</th>\n",
       "      <th>9</th>\n",
       "    </tr>\n",
       "    <tr>\n",
       "      <th>row_0</th>\n",
       "      <th></th>\n",
       "      <th></th>\n",
       "      <th></th>\n",
       "      <th></th>\n",
       "      <th></th>\n",
       "      <th></th>\n",
       "      <th></th>\n",
       "      <th></th>\n",
       "      <th></th>\n",
       "      <th></th>\n",
       "    </tr>\n",
       "  </thead>\n",
       "  <tbody>\n",
       "    <tr>\n",
       "      <th>0</th>\n",
       "      <td>50</td>\n",
       "      <td>0</td>\n",
       "      <td>0</td>\n",
       "      <td>0</td>\n",
       "      <td>0</td>\n",
       "      <td>0</td>\n",
       "      <td>0</td>\n",
       "      <td>0</td>\n",
       "      <td>0</td>\n",
       "      <td>0</td>\n",
       "    </tr>\n",
       "    <tr>\n",
       "      <th>1</th>\n",
       "      <td>0</td>\n",
       "      <td>66</td>\n",
       "      <td>0</td>\n",
       "      <td>0</td>\n",
       "      <td>0</td>\n",
       "      <td>0</td>\n",
       "      <td>0</td>\n",
       "      <td>0</td>\n",
       "      <td>0</td>\n",
       "      <td>0</td>\n",
       "    </tr>\n",
       "    <tr>\n",
       "      <th>2</th>\n",
       "      <td>0</td>\n",
       "      <td>0</td>\n",
       "      <td>52</td>\n",
       "      <td>0</td>\n",
       "      <td>0</td>\n",
       "      <td>0</td>\n",
       "      <td>0</td>\n",
       "      <td>0</td>\n",
       "      <td>0</td>\n",
       "      <td>0</td>\n",
       "    </tr>\n",
       "    <tr>\n",
       "      <th>3</th>\n",
       "      <td>0</td>\n",
       "      <td>0</td>\n",
       "      <td>0</td>\n",
       "      <td>50</td>\n",
       "      <td>0</td>\n",
       "      <td>0</td>\n",
       "      <td>0</td>\n",
       "      <td>0</td>\n",
       "      <td>0</td>\n",
       "      <td>0</td>\n",
       "    </tr>\n",
       "    <tr>\n",
       "      <th>4</th>\n",
       "      <td>0</td>\n",
       "      <td>0</td>\n",
       "      <td>0</td>\n",
       "      <td>0</td>\n",
       "      <td>52</td>\n",
       "      <td>0</td>\n",
       "      <td>0</td>\n",
       "      <td>0</td>\n",
       "      <td>0</td>\n",
       "      <td>0</td>\n",
       "    </tr>\n",
       "    <tr>\n",
       "      <th>5</th>\n",
       "      <td>0</td>\n",
       "      <td>0</td>\n",
       "      <td>0</td>\n",
       "      <td>0</td>\n",
       "      <td>0</td>\n",
       "      <td>39</td>\n",
       "      <td>0</td>\n",
       "      <td>0</td>\n",
       "      <td>0</td>\n",
       "      <td>0</td>\n",
       "    </tr>\n",
       "    <tr>\n",
       "      <th>6</th>\n",
       "      <td>0</td>\n",
       "      <td>0</td>\n",
       "      <td>0</td>\n",
       "      <td>0</td>\n",
       "      <td>0</td>\n",
       "      <td>0</td>\n",
       "      <td>45</td>\n",
       "      <td>0</td>\n",
       "      <td>0</td>\n",
       "      <td>0</td>\n",
       "    </tr>\n",
       "    <tr>\n",
       "      <th>7</th>\n",
       "      <td>0</td>\n",
       "      <td>0</td>\n",
       "      <td>0</td>\n",
       "      <td>0</td>\n",
       "      <td>0</td>\n",
       "      <td>0</td>\n",
       "      <td>0</td>\n",
       "      <td>52</td>\n",
       "      <td>0</td>\n",
       "      <td>0</td>\n",
       "    </tr>\n",
       "    <tr>\n",
       "      <th>8</th>\n",
       "      <td>0</td>\n",
       "      <td>0</td>\n",
       "      <td>0</td>\n",
       "      <td>0</td>\n",
       "      <td>0</td>\n",
       "      <td>0</td>\n",
       "      <td>0</td>\n",
       "      <td>0</td>\n",
       "      <td>39</td>\n",
       "      <td>0</td>\n",
       "    </tr>\n",
       "    <tr>\n",
       "      <th>9</th>\n",
       "      <td>0</td>\n",
       "      <td>0</td>\n",
       "      <td>0</td>\n",
       "      <td>0</td>\n",
       "      <td>0</td>\n",
       "      <td>0</td>\n",
       "      <td>0</td>\n",
       "      <td>0</td>\n",
       "      <td>0</td>\n",
       "      <td>55</td>\n",
       "    </tr>\n",
       "  </tbody>\n",
       "</table>\n",
       "</div>"
      ],
      "text/plain": [
       "col_0   0   1   2   3   4   5   6   7   8   9\n",
       "row_0                                        \n",
       "0      50   0   0   0   0   0   0   0   0   0\n",
       "1       0  66   0   0   0   0   0   0   0   0\n",
       "2       0   0  52   0   0   0   0   0   0   0\n",
       "3       0   0   0  50   0   0   0   0   0   0\n",
       "4       0   0   0   0  52   0   0   0   0   0\n",
       "5       0   0   0   0   0  39   0   0   0   0\n",
       "6       0   0   0   0   0   0  45   0   0   0\n",
       "7       0   0   0   0   0   0   0  52   0   0\n",
       "8       0   0   0   0   0   0   0   0  39   0\n",
       "9       0   0   0   0   0   0   0   0   0  55"
      ]
     },
     "execution_count": 11,
     "metadata": {},
     "output_type": "execute_result"
    }
   ],
   "source": [
    "print('Matriz de confusão (Treino):')\n",
    "pd.crosstab(predict(model, train_input), targets_data.numpy())"
   ]
  },
  {
   "cell_type": "code",
   "execution_count": 12,
   "metadata": {
    "ExecuteTime": {
     "end_time": "2017-10-08T11:42:55.245516Z",
     "start_time": "2017-10-08T11:42:55.201314Z"
    },
    "scrolled": false
   },
   "outputs": [
    {
     "name": "stdout",
     "output_type": "stream",
     "text": [
      "Matriz de confusão (Teste):\n"
     ]
    },
    {
     "data": {
      "text/html": [
       "<div>\n",
       "<style>\n",
       "    .dataframe thead tr:only-child th {\n",
       "        text-align: right;\n",
       "    }\n",
       "\n",
       "    .dataframe thead th {\n",
       "        text-align: left;\n",
       "    }\n",
       "\n",
       "    .dataframe tbody tr th {\n",
       "        vertical-align: top;\n",
       "    }\n",
       "</style>\n",
       "<table border=\"1\" class=\"dataframe\">\n",
       "  <thead>\n",
       "    <tr style=\"text-align: right;\">\n",
       "      <th>col_0</th>\n",
       "      <th>0</th>\n",
       "      <th>1</th>\n",
       "      <th>2</th>\n",
       "      <th>3</th>\n",
       "      <th>4</th>\n",
       "      <th>5</th>\n",
       "      <th>6</th>\n",
       "      <th>7</th>\n",
       "      <th>8</th>\n",
       "      <th>9</th>\n",
       "    </tr>\n",
       "    <tr>\n",
       "      <th>row_0</th>\n",
       "      <th></th>\n",
       "      <th></th>\n",
       "      <th></th>\n",
       "      <th></th>\n",
       "      <th></th>\n",
       "      <th></th>\n",
       "      <th></th>\n",
       "      <th></th>\n",
       "      <th></th>\n",
       "      <th></th>\n",
       "    </tr>\n",
       "  </thead>\n",
       "  <tbody>\n",
       "    <tr>\n",
       "      <th>0</th>\n",
       "      <td>8</td>\n",
       "      <td>0</td>\n",
       "      <td>0</td>\n",
       "      <td>0</td>\n",
       "      <td>0</td>\n",
       "      <td>0</td>\n",
       "      <td>0</td>\n",
       "      <td>0</td>\n",
       "      <td>0</td>\n",
       "      <td>0</td>\n",
       "    </tr>\n",
       "    <tr>\n",
       "      <th>1</th>\n",
       "      <td>0</td>\n",
       "      <td>14</td>\n",
       "      <td>0</td>\n",
       "      <td>0</td>\n",
       "      <td>0</td>\n",
       "      <td>0</td>\n",
       "      <td>0</td>\n",
       "      <td>0</td>\n",
       "      <td>0</td>\n",
       "      <td>0</td>\n",
       "    </tr>\n",
       "    <tr>\n",
       "      <th>2</th>\n",
       "      <td>0</td>\n",
       "      <td>0</td>\n",
       "      <td>7</td>\n",
       "      <td>0</td>\n",
       "      <td>0</td>\n",
       "      <td>1</td>\n",
       "      <td>1</td>\n",
       "      <td>1</td>\n",
       "      <td>0</td>\n",
       "      <td>0</td>\n",
       "    </tr>\n",
       "    <tr>\n",
       "      <th>3</th>\n",
       "      <td>0</td>\n",
       "      <td>0</td>\n",
       "      <td>1</td>\n",
       "      <td>11</td>\n",
       "      <td>0</td>\n",
       "      <td>2</td>\n",
       "      <td>0</td>\n",
       "      <td>0</td>\n",
       "      <td>0</td>\n",
       "      <td>0</td>\n",
       "    </tr>\n",
       "    <tr>\n",
       "      <th>4</th>\n",
       "      <td>0</td>\n",
       "      <td>0</td>\n",
       "      <td>0</td>\n",
       "      <td>0</td>\n",
       "      <td>11</td>\n",
       "      <td>1</td>\n",
       "      <td>0</td>\n",
       "      <td>0</td>\n",
       "      <td>0</td>\n",
       "      <td>0</td>\n",
       "    </tr>\n",
       "    <tr>\n",
       "      <th>5</th>\n",
       "      <td>0</td>\n",
       "      <td>0</td>\n",
       "      <td>0</td>\n",
       "      <td>0</td>\n",
       "      <td>0</td>\n",
       "      <td>2</td>\n",
       "      <td>0</td>\n",
       "      <td>0</td>\n",
       "      <td>1</td>\n",
       "      <td>0</td>\n",
       "    </tr>\n",
       "    <tr>\n",
       "      <th>6</th>\n",
       "      <td>0</td>\n",
       "      <td>0</td>\n",
       "      <td>0</td>\n",
       "      <td>0</td>\n",
       "      <td>1</td>\n",
       "      <td>0</td>\n",
       "      <td>9</td>\n",
       "      <td>0</td>\n",
       "      <td>0</td>\n",
       "      <td>0</td>\n",
       "    </tr>\n",
       "    <tr>\n",
       "      <th>7</th>\n",
       "      <td>0</td>\n",
       "      <td>0</td>\n",
       "      <td>0</td>\n",
       "      <td>0</td>\n",
       "      <td>0</td>\n",
       "      <td>1</td>\n",
       "      <td>0</td>\n",
       "      <td>12</td>\n",
       "      <td>0</td>\n",
       "      <td>2</td>\n",
       "    </tr>\n",
       "    <tr>\n",
       "      <th>8</th>\n",
       "      <td>0</td>\n",
       "      <td>0</td>\n",
       "      <td>0</td>\n",
       "      <td>0</td>\n",
       "      <td>0</td>\n",
       "      <td>0</td>\n",
       "      <td>0</td>\n",
       "      <td>0</td>\n",
       "      <td>1</td>\n",
       "      <td>0</td>\n",
       "    </tr>\n",
       "    <tr>\n",
       "      <th>9</th>\n",
       "      <td>0</td>\n",
       "      <td>0</td>\n",
       "      <td>0</td>\n",
       "      <td>0</td>\n",
       "      <td>2</td>\n",
       "      <td>0</td>\n",
       "      <td>0</td>\n",
       "      <td>2</td>\n",
       "      <td>0</td>\n",
       "      <td>9</td>\n",
       "    </tr>\n",
       "  </tbody>\n",
       "</table>\n",
       "</div>"
      ],
      "text/plain": [
       "col_0  0   1  2   3   4  5  6   7  8  9\n",
       "row_0                                  \n",
       "0      8   0  0   0   0  0  0   0  0  0\n",
       "1      0  14  0   0   0  0  0   0  0  0\n",
       "2      0   0  7   0   0  1  1   1  0  0\n",
       "3      0   0  1  11   0  2  0   0  0  0\n",
       "4      0   0  0   0  11  1  0   0  0  0\n",
       "5      0   0  0   0   0  2  0   0  1  0\n",
       "6      0   0  0   0   1  0  9   0  0  0\n",
       "7      0   0  0   0   0  1  0  12  0  2\n",
       "8      0   0  0   0   0  0  0   0  1  0\n",
       "9      0   0  0   0   2  0  0   2  0  9"
      ]
     },
     "execution_count": 12,
     "metadata": {},
     "output_type": "execute_result"
    }
   ],
   "source": [
    "print('Matriz de confusão (Teste):')\n",
    "pd.crosstab(predict(model, test_input), test_labels.numpy())"
   ]
  },
  {
   "cell_type": "markdown",
   "metadata": {},
   "source": [
    "## Visualizando a matriz de pesos treinados\n",
    "\n",
    "Observe que a matriz de peso treinado para cada classe mostra a importância dos pesos associados aos caracteres de cada classe."
   ]
  },
  {
   "cell_type": "code",
   "execution_count": 13,
   "metadata": {
    "ExecuteTime": {
     "end_time": "2017-10-08T11:42:55.502413Z",
     "start_time": "2017-10-08T11:42:55.248318Z"
    }
   },
   "outputs": [
    {
     "name": "stdout",
     "output_type": "stream",
     "text": [
      "weights: torch.Size([10, 784])\n",
      "bias:    torch.Size([10])\n"
     ]
    },
    {
     "data": {
      "image/png": "[encoded data removed]",
      "text/plain": [
       "<matplotlib.figure.Figure at 0x11a1c3898>"
      ]
     },
     "metadata": {},
     "output_type": "display_data"
    }
   ],
   "source": [
    "weights = model.state_dict()['weight']\n",
    "print('weights:', weights.shape)\n",
    "\n",
    "bias = model.state_dict()['bias']\n",
    "print('bias:   ', bias.shape)\n",
    "\n",
    "# Visualizando pesos da classe 3\n",
    "plt.imshow(weights[3, :].numpy().reshape((28,28)),cmap = 'gray')\n",
    "plt.show()"
   ]
  },
  {
   "cell_type": "markdown",
   "metadata": {},
   "source": [
    "## Visualizando os pesos de todas as classes"
   ]
  },
  {
   "cell_type": "code",
   "execution_count": 14,
   "metadata": {
    "ExecuteTime": {
     "end_time": "2017-10-08T11:42:55.803531Z",
     "start_time": "2017-10-08T11:42:55.505223Z"
    }
   },
   "outputs": [
    {
     "data": {
      "image/png": "[encoded data removed]",
      "text/plain": [
       "<matplotlib.figure.Figure at 0x11a1cfb00>"
      ]
     },
     "metadata": {},
     "output_type": "display_data"
    }
   ],
   "source": [
    "# cria um grid com as imagens\n",
    "grid = torchvision.utils.make_grid(weights.view(-1, 1, 28, 28), normalize=True, pad_value=1.0, padding=1, nrow=10)\n",
    "\n",
    "plt.figure(figsize=(15, 10))\n",
    "plt.imshow(grid.numpy().transpose(1, 2, 0))\n",
    "plt.axis('off')\n",
    "plt.show()"
   ]
  },
  {
   "cell_type": "markdown",
   "metadata": {
    "heading_collapsed": true
   },
   "source": [
    "## Diagrama da regressão softmax com visualização dos pesos W\n",
    "\n",
    "<img src=\"../figures/RegressaoSoftmaxArgmaxNMIST.png\",width = 400>\n"
   ]
  },
  {
   "cell_type": "markdown",
   "metadata": {},
   "source": [
    "# Atividades"
   ]
  },
  {
   "cell_type": "markdown",
   "metadata": {},
   "source": [
    "## Exercícios"
   ]
  },
  {
   "cell_type": "markdown",
   "metadata": {},
   "source": [
    "1. Na configuração da figura acima, mostre os valores de z0 até z9, os valores das probabilidades y_oh_hat e o y_hat, quando a rede recebe como entrada a nona amostra que contém o manuscrito do dígito '4':"
   ]
  },
  {
   "cell_type": "code",
   "execution_count": 15,
   "metadata": {
    "ExecuteTime": {
     "end_time": "2017-10-08T11:42:55.989480Z",
     "start_time": "2017-10-08T11:42:55.805172Z"
    }
   },
   "outputs": [
    {
     "name": "stdout",
     "output_type": "stream",
     "text": [
      "class: 4\n"
     ]
    },
    {
     "data": {
      "image/png": "[encoded data removed]",
      "text/plain": [
       "<matplotlib.figure.Figure at 0x11b734828>"
      ]
     },
     "metadata": {},
     "output_type": "display_data"
    }
   ],
   "source": [
    "image, target = train_dataset[9]\n",
    "\n",
    "plt.imshow(image.numpy().reshape(28,28), cmap='gray')\n",
    "print('class:', target)"
   ]
  },
  {
   "cell_type": "markdown",
   "metadata": {},
   "source": [
    "2. Insira código no laço do treinamento para que no final de cada época, \n",
    "seja impresso: o número da época e a perda e a acurácia\n",
    "3. Insira código no laço de treinamento para que seja impresso a contagem\n",
    "de mini-batches ocorrida em cada época."
   ]
  },
  {
   "cell_type": "markdown",
   "metadata": {},
   "source": [
    "## Perguntas"
   ]
  },
  {
   "cell_type": "markdown",
   "metadata": {},
   "source": [
    "1. Qual é o tamanho do mini-batch?\n",
    "2. Em uma época, quantos mini-batches existem?\n",
    "3. Por que no treino, a acurácia é 100%, mas no teste foi de 84,5%\n",
    "4. Por que no treino, a acurácia é 100%, porém a função de perda final não é zero, mas sim 0,015 ?\n",
    "5. O que se deve fazer para que a avaliação no conjunto de teste seja melhorado?"
   ]
  },
  {
   "cell_type": "markdown",
   "metadata": {},
   "source": [
    "## Conclusões sobre os experimentos deste notebook\n"
   ]
  }
 ],
 "metadata": {
  "anaconda-cloud": {},
  "kernelspec": {
   "display_name": "Python 3",
   "language": "python",
   "name": "python3"
  },
  "language_info": {
   "codemirror_mode": {
    "name": "ipython",
    "version": 3
   },
   "file_extension": ".py",
   "mimetype": "text/x-python",
   "name": "python",
   "nbconvert_exporter": "python",
   "pygments_lexer": "ipython3",
   "version": "3.6.0"
  },
  "toc": {
   "nav_menu": {
    "height": "318px",
    "width": "252px"
   },
   "number_sections": true,
   "sideBar": true,
   "skip_h1_title": false,
   "toc_cell": false,
   "toc_position": {},
   "toc_section_display": "block",
   "toc_window_display": false
  }
 },
 "nbformat": 4,
 "nbformat_minor": 1
}
