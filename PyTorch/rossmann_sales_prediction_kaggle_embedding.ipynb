{
 "cells": [
  {
   "cell_type": "markdown",
   "metadata": {},
   "source": [
    "# Previsão de vendas - lojas Rossmann - Competição Kaggle"
   ]
  },
  {
   "cell_type": "markdown",
   "metadata": {},
   "source": [
    "Este notebook é baseado na solução indicada pela equipe que ficou em terceiro lugar na\n",
    "Competição Kaggle - Lojas Rossmann feita em 2015 com premiação de US$ 35 mil:\n",
    "- Kaggle: https://www.kaggle.com/c/rossmann-store-sales/data\n",
    "\n",
    "Os autores utilizaram Embedding de entidades e fizeram sua solução utilizando o Keras.\n",
    "\n",
    "Eles compararam a solução deles com as outras e emitiram a seguinte opinião:\n",
    "https://www.kaggle.com/c/rossmann-store-sales/discussion/17974\n",
    "\n",
    "Eles escreveram o seguinte artigo que faz uma comparação de várias soluções, utilizando:\n",
    " - Random Forest, \n",
    " - KNN,\n",
    " - Gradiente boosting; e \n",
    " - Redes Neurais:\n",
    "\n",
    "- [Cheng Guo, Felix Berkhahn, Entity Embeddings of Categorical Variables, arxiv 2016](https://arxiv.org/abs/1604.06737)\n",
    "\n",
    "A implementação a seguir é baseada no artigo e na solução deles publicada no github, porém aqui\n",
    "reescrito em PyTorch:\n",
    " - https://github.com/entron/entity-embedding-rossmann"
   ]
  },
  {
   "cell_type": "markdown",
   "metadata": {},
   "source": [
    "## Importação dos pacotes"
   ]
  },
  {
   "cell_type": "code",
   "execution_count": 35,
   "metadata": {
    "ExecuteTime": {
     "end_time": "2018-03-25T07:22:48.390758Z",
     "start_time": "2018-03-25T07:22:48.367379Z"
    }
   },
   "outputs": [
    {
     "name": "stdout",
     "output_type": "stream",
     "text": [
      "GPU available: False\n"
     ]
    }
   ],
   "source": [
    "%matplotlib inline\n",
    "import matplotlib.pyplot as plt\n",
    "import pandas as pd\n",
    "import numpy as np\n",
    "\n",
    "import os, sys\n",
    "np.random.seed(42)\n",
    "\n",
    "import torch\n",
    "from torch import nn\n",
    "from torch.utils.data import DataLoader, TensorDataset\n",
    "from torch.autograd import Variable\n",
    "\n",
    "import lib.pytorch_trainer as ptt\n",
    "\n",
    "use_gpu = torch.cuda.is_available()\n",
    "print('GPU available:', use_gpu)"
   ]
  },
  {
   "cell_type": "markdown",
   "metadata": {},
   "source": [
    "## Leitura dos arquivos csv"
   ]
  },
  {
   "cell_type": "code",
   "execution_count": 36,
   "metadata": {
    "ExecuteTime": {
     "end_time": "2018-03-25T07:22:49.005169Z",
     "start_time": "2018-03-25T07:22:48.999707Z"
    },
    "collapsed": true
   },
   "outputs": [],
   "source": [
    "datapath = '../../datasets/'\n",
    "train_data_file = datapath + \"rossmann_train.csv\"\n",
    "store_states_file = datapath + 'rossmann_store_states.csv'"
   ]
  },
  {
   "cell_type": "code",
   "execution_count": 37,
   "metadata": {
    "ExecuteTime": {
     "end_time": "2018-03-25T07:22:50.841985Z",
     "start_time": "2018-03-25T07:22:49.482199Z"
    }
   },
   "outputs": [
    {
     "name": "stderr",
     "output_type": "stream",
     "text": [
      "/Applications/anaconda/lib/python3.6/site-packages/IPython/core/interactiveshell.py:2717: DtypeWarning: Columns (7) have mixed types. Specify dtype option on import or set low_memory=False.\n",
      "  interactivity=interactivity, compiler=compiler, result=result)\n"
     ]
    },
    {
     "data": {
      "text/html": [
       "<div>\n",
       "<style>\n",
       "    .dataframe thead tr:only-child th {\n",
       "        text-align: right;\n",
       "    }\n",
       "\n",
       "    .dataframe thead th {\n",
       "        text-align: left;\n",
       "    }\n",
       "\n",
       "    .dataframe tbody tr th {\n",
       "        vertical-align: top;\n",
       "    }\n",
       "</style>\n",
       "<table border=\"1\" class=\"dataframe\">\n",
       "  <thead>\n",
       "    <tr style=\"text-align: right;\">\n",
       "      <th></th>\n",
       "      <th>Store</th>\n",
       "      <th>DayOfWeek</th>\n",
       "      <th>Date</th>\n",
       "      <th>Sales</th>\n",
       "      <th>Customers</th>\n",
       "      <th>Open</th>\n",
       "      <th>Promo</th>\n",
       "      <th>StateHoliday</th>\n",
       "      <th>SchoolHoliday</th>\n",
       "    </tr>\n",
       "  </thead>\n",
       "  <tbody>\n",
       "    <tr>\n",
       "      <th>0</th>\n",
       "      <td>1</td>\n",
       "      <td>5</td>\n",
       "      <td>2015-07-31</td>\n",
       "      <td>5263</td>\n",
       "      <td>555</td>\n",
       "      <td>1</td>\n",
       "      <td>1</td>\n",
       "      <td>0</td>\n",
       "      <td>1</td>\n",
       "    </tr>\n",
       "    <tr>\n",
       "      <th>1</th>\n",
       "      <td>2</td>\n",
       "      <td>5</td>\n",
       "      <td>2015-07-31</td>\n",
       "      <td>6064</td>\n",
       "      <td>625</td>\n",
       "      <td>1</td>\n",
       "      <td>1</td>\n",
       "      <td>0</td>\n",
       "      <td>1</td>\n",
       "    </tr>\n",
       "    <tr>\n",
       "      <th>2</th>\n",
       "      <td>3</td>\n",
       "      <td>5</td>\n",
       "      <td>2015-07-31</td>\n",
       "      <td>8314</td>\n",
       "      <td>821</td>\n",
       "      <td>1</td>\n",
       "      <td>1</td>\n",
       "      <td>0</td>\n",
       "      <td>1</td>\n",
       "    </tr>\n",
       "    <tr>\n",
       "      <th>3</th>\n",
       "      <td>4</td>\n",
       "      <td>5</td>\n",
       "      <td>2015-07-31</td>\n",
       "      <td>13995</td>\n",
       "      <td>1498</td>\n",
       "      <td>1</td>\n",
       "      <td>1</td>\n",
       "      <td>0</td>\n",
       "      <td>1</td>\n",
       "    </tr>\n",
       "    <tr>\n",
       "      <th>4</th>\n",
       "      <td>5</td>\n",
       "      <td>5</td>\n",
       "      <td>2015-07-31</td>\n",
       "      <td>4822</td>\n",
       "      <td>559</td>\n",
       "      <td>1</td>\n",
       "      <td>1</td>\n",
       "      <td>0</td>\n",
       "      <td>1</td>\n",
       "    </tr>\n",
       "  </tbody>\n",
       "</table>\n",
       "</div>"
      ],
      "text/plain": [
       "   Store  DayOfWeek        Date  Sales  Customers  Open  Promo StateHoliday  \\\n",
       "0      1          5  2015-07-31   5263        555     1      1            0   \n",
       "1      2          5  2015-07-31   6064        625     1      1            0   \n",
       "2      3          5  2015-07-31   8314        821     1      1            0   \n",
       "3      4          5  2015-07-31  13995       1498     1      1            0   \n",
       "4      5          5  2015-07-31   4822        559     1      1            0   \n",
       "\n",
       "   SchoolHoliday  \n",
       "0              1  \n",
       "1              1  \n",
       "2              1  \n",
       "3              1  \n",
       "4              1  "
      ]
     },
     "execution_count": 37,
     "metadata": {},
     "output_type": "execute_result"
    }
   ],
   "source": [
    "train_csv = pd.read_csv(train_data_file)\n",
    "train_csv.head()"
   ]
  },
  {
   "cell_type": "code",
   "execution_count": 38,
   "metadata": {
    "ExecuteTime": {
     "end_time": "2018-03-25T07:22:50.878869Z",
     "start_time": "2018-03-25T07:22:50.844962Z"
    }
   },
   "outputs": [
    {
     "data": {
      "text/html": [
       "<div>\n",
       "<style>\n",
       "    .dataframe thead tr:only-child th {\n",
       "        text-align: right;\n",
       "    }\n",
       "\n",
       "    .dataframe thead th {\n",
       "        text-align: left;\n",
       "    }\n",
       "\n",
       "    .dataframe tbody tr th {\n",
       "        vertical-align: top;\n",
       "    }\n",
       "</style>\n",
       "<table border=\"1\" class=\"dataframe\">\n",
       "  <thead>\n",
       "    <tr style=\"text-align: right;\">\n",
       "      <th></th>\n",
       "      <th>State</th>\n",
       "    </tr>\n",
       "    <tr>\n",
       "      <th>Store</th>\n",
       "      <th></th>\n",
       "    </tr>\n",
       "  </thead>\n",
       "  <tbody>\n",
       "    <tr>\n",
       "      <th>1</th>\n",
       "      <td>HE</td>\n",
       "    </tr>\n",
       "    <tr>\n",
       "      <th>2</th>\n",
       "      <td>TH</td>\n",
       "    </tr>\n",
       "    <tr>\n",
       "      <th>3</th>\n",
       "      <td>NW</td>\n",
       "    </tr>\n",
       "    <tr>\n",
       "      <th>4</th>\n",
       "      <td>BE</td>\n",
       "    </tr>\n",
       "    <tr>\n",
       "      <th>5</th>\n",
       "      <td>SN</td>\n",
       "    </tr>\n",
       "  </tbody>\n",
       "</table>\n",
       "</div>"
      ],
      "text/plain": [
       "      State\n",
       "Store      \n",
       "1        HE\n",
       "2        TH\n",
       "3        NW\n",
       "4        BE\n",
       "5        SN"
      ]
     },
     "execution_count": 38,
     "metadata": {},
     "output_type": "execute_result"
    }
   ],
   "source": [
    "states_csv = pd.read_csv(store_states_file).set_index(['Store'])\n",
    "store_states = states_csv.as_matrix()\n",
    "states_csv.head()"
   ]
  },
  {
   "cell_type": "markdown",
   "metadata": {},
   "source": [
    "## Preparando as features"
   ]
  },
  {
   "cell_type": "markdown",
   "metadata": {},
   "source": [
    "Foram utilizadas as seguintes propriedades:\n",
    "- loja\n",
    "- dia da semana\n",
    "- houve ou não promoção\n",
    "- ano\n",
    "- mês do ano\n",
    "- dia do mês\n",
    "- Estado em que a loja se encontra\n",
    "\n",
    "O alvo é a predição:\n",
    "- valor das vendas no dia\n"
   ]
  },
  {
   "cell_type": "code",
   "execution_count": 39,
   "metadata": {
    "ExecuteTime": {
     "end_time": "2018-03-25T07:22:54.718860Z",
     "start_time": "2018-03-25T07:22:51.892560Z"
    }
   },
   "outputs": [
    {
     "name": "stdout",
     "output_type": "stream",
     "text": [
      "(1017209, 9)\n",
      "[[1 5 '2015-07-31' 5263 555 1 1 '0' 1]\n",
      " [2 5 '2015-07-31' 6064 625 1 1 '0' 1]\n",
      " [3 5 '2015-07-31' 8314 821 1 1 '0' 1]\n",
      " [4 5 '2015-07-31' 13995 1498 1 1 '0' 1]\n",
      " [5 5 '2015-07-31' 4822 559 1 1 '0' 1]]\n",
      "844338\n",
      "[         1          1          0       2013          0          0\n",
      " 4637979232]\n",
      "[      1115          7          1       2015         11         30\n",
      " 4901624384]\n"
     ]
    }
   ],
   "source": [
    "train_csv_array = train_csv.as_matrix()\n",
    "print(train_csv_array.shape)\n",
    "print(train_csv_array[:5])\n",
    "open_i = (train_csv_array[:,5]==1) & (train_csv_array[:,3] > 0)\n",
    "\n",
    "train_open = train_csv_array[open_i]\n",
    "n_samples = train_open.shape[0]\n",
    "print(n_samples)\n",
    "dt = np.array(train_open[:,2].astype('datetime64[D]'))\n",
    "day = dt - dt.astype('datetime64[M]')\n",
    "month = dt.astype('datetime64[M]').astype(np.int) % 12\n",
    "year = dt.astype('datetime64[Y]').astype(int) + 1970\n",
    "\n",
    "train_Xnew = np.empty((n_samples,7),dtype=np.int)\n",
    "store_index = train_csv_array[open_i,0].astype(np.int) # store_index\n",
    "train_Xnew[:,0] = store_index\n",
    "train_Xnew[:,1] = train_csv_array[open_i,1] # day_of_week\n",
    "train_Xnew[:,2] = train_csv_array[open_i,6] # promo\n",
    "train_Xnew[:,3] = year # year\n",
    "train_Xnew[:,4] = month # month\n",
    "train_Xnew[:,5] = day # day\n",
    "for i in np.arange(n_samples):\n",
    "    train_Xnew[i,6] = id(sys.intern(store_states[store_index[i] - 1,0])) # coloca string do Estado com número único\n",
    "\n",
    "train_data_y = train_csv_array[open_i,3:4].astype(np.int) # Sales\n",
    "\n",
    "print(train_Xnew.min(axis=0))\n",
    "print(train_Xnew.max(axis=0))"
   ]
  },
  {
   "cell_type": "markdown",
   "metadata": {},
   "source": [
    "### Normalização dos atributos categóricos"
   ]
  },
  {
   "cell_type": "markdown",
   "metadata": {},
   "source": [
    "Utiliza-se aqui a mesma função `np.unique` utilizada na normalização dos índices dos\n",
    "títulos de filmes do notebook movielens."
   ]
  },
  {
   "cell_type": "code",
   "execution_count": 40,
   "metadata": {
    "ExecuteTime": {
     "end_time": "2018-03-25T07:22:55.241901Z",
     "start_time": "2018-03-25T07:22:54.721316Z"
    },
    "collapsed": true
   },
   "outputs": [],
   "source": [
    "X_norm = np.empty_like(train_Xnew)\n",
    "for i in range(X_norm.shape[1]): # para cada coluna (atributo)\n",
    "    classes, i_norm = np.unique(train_Xnew[:,i], return_inverse=True)\n",
    "    X_norm[:,i] = i_norm"
   ]
  },
  {
   "cell_type": "code",
   "execution_count": 41,
   "metadata": {
    "ExecuteTime": {
     "end_time": "2018-03-25T07:22:55.303440Z",
     "start_time": "2018-03-25T07:22:55.244140Z"
    }
   },
   "outputs": [
    {
     "name": "stdout",
     "output_type": "stream",
     "text": [
      "[0 0 0 0 0 0 0]\n",
      "[1114    6    1    2   11   30   11]\n"
     ]
    }
   ],
   "source": [
    "print(X_norm.min(axis=0))\n",
    "print(X_norm.max(axis=0))"
   ]
  },
  {
   "cell_type": "code",
   "execution_count": 42,
   "metadata": {
    "ExecuteTime": {
     "end_time": "2018-03-25T07:22:56.521658Z",
     "start_time": "2018-03-25T07:22:56.463210Z"
    }
   },
   "outputs": [
    {
     "name": "stdout",
     "output_type": "stream",
     "text": [
      "[0 0 0 0 0 0 0]\n",
      "[1114    6    1    2   11   30   11]\n",
      "[46]\n",
      "[41551]\n"
     ]
    }
   ],
   "source": [
    "train_data_X = X_norm\n",
    "train_data_y = np.array(train_data_y)\n",
    "(X, y) = (train_data_X, train_data_y)\n",
    "print(X.min(axis=0))\n",
    "print(X.max(axis=0))\n",
    "print(y.min(axis=0))\n",
    "print(y.max(axis=0))"
   ]
  },
  {
   "cell_type": "markdown",
   "metadata": {},
   "source": [
    "## Visualizando em boxplot"
   ]
  },
  {
   "cell_type": "markdown",
   "metadata": {},
   "source": [
    "- [0] dia da semana (0 a 6)\n",
    "- [1] houve ou não promoção (0 ou 1)\n",
    "- [2] ano (0, 1 ou 2)\n",
    "- [3] mês do ano (0 a 11)\n",
    "- [4] dia do mês (0 a 30)\n",
    "- [5] Estado em que a loja se encontra (0 a 11)\n"
   ]
  },
  {
   "cell_type": "code",
   "execution_count": 43,
   "metadata": {
    "ExecuteTime": {
     "end_time": "2018-03-25T07:23:00.187478Z",
     "start_time": "2018-03-25T07:22:59.574445Z"
    }
   },
   "outputs": [
    {
     "data": {
      "text/plain": [
       "<matplotlib.axes._subplots.AxesSubplot at 0x14cae8828>"
      ]
     },
     "execution_count": 43,
     "metadata": {},
     "output_type": "execute_result"
    },
    {
     "data": {
      "image/png": "[encoded data removed]",
      "text/plain": [
       "<matplotlib.figure.Figure at 0x14d6c7c50>"
      ]
     },
     "metadata": {},
     "output_type": "display_data"
    }
   ],
   "source": [
    "import seaborn as sns\n",
    "sns.boxplot(data=X[:,1:])"
   ]
  },
  {
   "cell_type": "markdown",
   "metadata": {},
   "source": [
    "## Normalizando os valores de vendas"
   ]
  },
  {
   "cell_type": "markdown",
   "metadata": {},
   "source": [
    "$$ Sales_n = \\frac{\\log{(Sales)}}{Max(\\log(Sales))} $$\n",
    "$$ Sales = \\exp(Sales_n Max(\\log(Sales))) $$"
   ]
  },
  {
   "cell_type": "code",
   "execution_count": 44,
   "metadata": {
    "ExecuteTime": {
     "end_time": "2018-03-25T07:23:02.387334Z",
     "start_time": "2018-03-25T07:23:02.334147Z"
    },
    "collapsed": true
   },
   "outputs": [],
   "source": [
    "class log_norm():\n",
    "    def __init__(self,y):\n",
    "        self.MaxLog = np.log(y).max()\n",
    "        \n",
    "    def lognorm(self, val):\n",
    "        return np.log(val)/self.MaxLog\n",
    "    \n",
    "    def lognorm_back(self, val):\n",
    "        return np.exp(val * self.MaxLog)\n",
    "\n",
    "classnorm = log_norm(y)\n",
    "y_norm = classnorm.lognorm(y)\n",
    "y_back = classnorm.lognorm_back(y_norm)\n"
   ]
  },
  {
   "cell_type": "code",
   "execution_count": 49,
   "metadata": {
    "ExecuteTime": {
     "end_time": "2018-03-25T07:28:23.393949Z",
     "start_time": "2018-03-25T07:28:23.363667Z"
    }
   },
   "outputs": [
    {
     "data": {
      "text/plain": [
       "True"
      ]
     },
     "execution_count": 49,
     "metadata": {},
     "output_type": "execute_result"
    }
   ],
   "source": [
    "np.isclose(y_back, y).all()"
   ]
  },
  {
   "cell_type": "markdown",
   "metadata": {},
   "source": [
    "## Dividindo em Dados de treinamento e de validação"
   ]
  },
  {
   "cell_type": "code",
   "execution_count": 48,
   "metadata": {
    "ExecuteTime": {
     "end_time": "2018-03-25T07:28:12.767965Z",
     "start_time": "2018-03-25T07:28:12.744669Z"
    }
   },
   "outputs": [
    {
     "name": "stdout",
     "output_type": "stream",
     "text": [
      "Shapes: (759904, 7) (759904, 1) (84434, 7) (84434, 1)\n",
      "X_train[:2]\n",
      " [[ 0  4  1  2  6 30  8]\n",
      " [ 1  4  1  2  6 30  1]]\n",
      "y_train[:2]\n",
      " [[ 0.80570915]\n",
      " [ 0.81903052]]\n"
     ]
    }
   ],
   "source": [
    "num_records = len(X)\n",
    "train_ratio = 0.9\n",
    "train_size = int(train_ratio * num_records)\n",
    "\n",
    "X_train = X[:train_size]\n",
    "X_val   = X[train_size:]\n",
    "y_train = y_norm[:train_size]\n",
    "y_val   = y_norm[train_size:]\n",
    "y_orig_val = y[train_size:]\n",
    "print('Shapes:',X_train.shape,y_train.shape,X_val.shape,y_val.shape)\n",
    "print('X_train[:2]\\n',X_train[:2])\n",
    "print('y_train[:2]\\n',y_train[:2])"
   ]
  },
  {
   "cell_type": "code",
   "execution_count": 12,
   "metadata": {
    "ExecuteTime": {
     "end_time": "2018-03-25T06:50:10.651374Z",
     "start_time": "2018-03-25T06:50:10.601926Z"
    }
   },
   "outputs": [
    {
     "name": "stdout",
     "output_type": "stream",
     "text": [
      "Number of samples used for training:  200000\n"
     ]
    }
   ],
   "source": [
    "def sample(X, y, n):\n",
    "    '''random samples'''\n",
    "    num_row = X.shape[0]\n",
    "    indices = np.random.randint(num_row, size=n)\n",
    "    return X[indices, :], y[indices]\n",
    "\n",
    "X_train, y_train = sample(X_train, y_train, 200000)  # Simulate data sparsity\n",
    "print(\"Number of samples used for training: \",y_train.shape[0])"
   ]
  },
  {
   "cell_type": "markdown",
   "metadata": {},
   "source": [
    "## Convertendo para PyTorch"
   ]
  },
  {
   "cell_type": "code",
   "execution_count": 13,
   "metadata": {
    "ExecuteTime": {
     "end_time": "2018-03-25T06:50:13.159676Z",
     "start_time": "2018-03-25T06:50:13.135880Z"
    },
    "collapsed": true
   },
   "outputs": [],
   "source": [
    "X_train_t = torch.LongTensor(X_train.astype(np.int))\n",
    "y_train_t = torch.FloatTensor(y_train) \n",
    "X_val_t   = torch.LongTensor(X_val.astype(np.int))\n",
    "y_val_t   = torch.FloatTensor(y_val) "
   ]
  },
  {
   "cell_type": "code",
   "execution_count": 14,
   "metadata": {
    "ExecuteTime": {
     "end_time": "2018-03-25T06:50:13.808061Z",
     "start_time": "2018-03-25T06:50:13.798866Z"
    }
   },
   "outputs": [
    {
     "data": {
      "text/plain": [
       "(torch.Size([200000, 7]),\n",
       " 'torch.LongTensor',\n",
       " torch.Size([84434, 7]),\n",
       " 'torch.LongTensor')"
      ]
     },
     "execution_count": 14,
     "metadata": {},
     "output_type": "execute_result"
    }
   ],
   "source": [
    "X_train_t.shape, X_train_t.type(), X_val_t.shape, X_val_t.type()"
   ]
  },
  {
   "cell_type": "code",
   "execution_count": 15,
   "metadata": {
    "ExecuteTime": {
     "end_time": "2018-03-25T06:50:14.851623Z",
     "start_time": "2018-03-25T06:50:14.842461Z"
    }
   },
   "outputs": [
    {
     "data": {
      "text/plain": [
       "(torch.Size([200000, 1]),\n",
       " 'torch.FloatTensor',\n",
       " torch.Size([84434, 1]),\n",
       " 'torch.FloatTensor',\n",
       " 0.8183490718584582,\n",
       " 0.001739647024687579)"
      ]
     },
     "execution_count": 15,
     "metadata": {},
     "output_type": "execute_result"
    }
   ],
   "source": [
    "y_train_t.shape, y_train_t.type() ,y_val_t.shape, y_val_t.type(), y_val_t.mean(), y_val_t.var()"
   ]
  },
  {
   "cell_type": "markdown",
   "metadata": {},
   "source": [
    "## Definição da classe MLDataset"
   ]
  },
  {
   "cell_type": "code",
   "execution_count": 16,
   "metadata": {
    "ExecuteTime": {
     "end_time": "2018-03-25T06:50:17.044170Z",
     "start_time": "2018-03-25T06:50:17.029760Z"
    }
   },
   "outputs": [],
   "source": [
    "from torch.utils.data import Dataset\n",
    "class MLDataset(Dataset):\n",
    "    def __init__(self, data_in, target):\n",
    "        assert data_in.size(0)  == target.size(0)\n",
    "        \n",
    "        self.data   = data_in\n",
    "        self.target = target\n",
    "\n",
    "    def __len__(self):\n",
    "        return self.target.size(0)\n",
    "\n",
    "    def __getitem__(self, i):\n",
    "        return (self.data[i], self.target[i])\n",
    "    \n",
    "datasets = {\n",
    "    'train': MLDataset(X_train_t, y_train_t),\n",
    "    'val'  : MLDataset(X_val_t,   y_val_t)\n",
    "    }\n",
    "\n",
    "dataloaders = {\n",
    "    'train': torch.utils.data.DataLoader(datasets['train'], batch_size=128, shuffle=True),\n",
    "    'val'  : torch.utils.data.DataLoader(datasets['val'],   batch_size=128, shuffle=False)\n",
    "    }\n"
   ]
  },
  {
   "cell_type": "markdown",
   "metadata": {},
   "source": [
    "### Testando o Dataset"
   ]
  },
  {
   "cell_type": "code",
   "execution_count": 17,
   "metadata": {
    "ExecuteTime": {
     "end_time": "2018-03-25T06:50:18.724942Z",
     "start_time": "2018-03-25T06:50:18.715877Z"
    }
   },
   "outputs": [
    {
     "name": "stdout",
     "output_type": "stream",
     "text": [
      "\n",
      "   10     0     1     1     5     1    10\n",
      " 1012     5     0     1     9    10     0\n",
      "[torch.LongTensor of size 2x7]\n",
      "\n",
      "\n",
      " 0.8674\n",
      " 0.7062\n",
      "[torch.FloatTensor of size 2x1]\n",
      "\n"
     ]
    }
   ],
   "source": [
    "xx, yy = datasets['train'][3:5]\n",
    "print(xx)\n",
    "print(yy)"
   ]
  },
  {
   "cell_type": "markdown",
   "metadata": {},
   "source": [
    "## Criando o modelo"
   ]
  },
  {
   "cell_type": "markdown",
   "metadata": {},
   "source": [
    "### Modelo com vários embeddings"
   ]
  },
  {
   "cell_type": "markdown",
   "metadata": {
    "ExecuteTime": {
     "end_time": "2017-06-18T10:52:54.761097",
     "start_time": "2017-06-18T10:52:54.744288"
    }
   },
   "source": [
    "\n",
    "|Característica|tipo do dado|tamanho|dimensão embedding|\n",
    "|--------------|------------|-------|------------------|\n",
    "| store      | nominal| 1115|10|\n",
    "| day of week| ordinal| 7| 6|\n",
    "|promoção| binário | 2|1|\n",
    "| ano| ordinal| 3 (2013-2015)|2|\n",
    "| mês| ordinal| 12| 6|\n",
    "| dia| ordinal| 31| 10|\n",
    "| Estado|nominal| 12| 6|\n",
    " \n"
   ]
  },
  {
   "cell_type": "code",
   "execution_count": 18,
   "metadata": {
    "ExecuteTime": {
     "end_time": "2018-03-25T06:50:21.113807Z",
     "start_time": "2018-03-25T06:50:21.040703Z"
    },
    "collapsed": true
   },
   "outputs": [],
   "source": [
    "class Model(nn.Module):\n",
    "    def __init__(self, ):\n",
    "        \"\"\"\n",
    "        No construtor, criamos as duas embeddings, uma para os usuários e \n",
    "        outra para os filmes.\n",
    "        \"\"\"\n",
    "        super(Model, self).__init__()\n",
    "        self.store_emb  = nn.Embedding(1115, 10)\n",
    "        nn.init.xavier_uniform(self.store_emb.weight)\n",
    "        \n",
    "        self.dow_emb = nn.Embedding(7, 6)\n",
    "        nn.init.xavier_uniform(self.dow_emb.weight)\n",
    "\n",
    "        self.promo_linear = nn.Linear(1, 1)\n",
    "\n",
    "        self.year_emb = nn.Embedding(3, 2)\n",
    "        nn.init.xavier_uniform(self.year_emb.weight)\n",
    "\n",
    "        self.month_emb = nn.Embedding(12, 6)\n",
    "        nn.init.xavier_uniform(self.month_emb.weight)\n",
    "\n",
    "        self.day_emb = nn.Embedding(31, 10)\n",
    "        nn.init.xavier_uniform(self.day_emb.weight)\n",
    "\n",
    "        self.state_emb = nn.Embedding(12, 6)\n",
    "        nn.init.xavier_uniform(self.state_emb.weight)\n",
    "        \n",
    "        self.linear1 = nn.Linear(10+6+1+2+6+10+6, 1000)\n",
    "        self.linear2 = nn.Linear(1000,500)\n",
    "        self.linear3 = nn.Linear(500,1)\n",
    "\n",
    "    def forward(self, x):\n",
    "        store_id  = x[:,0]\n",
    "        dow_id    = x[:,1]\n",
    "        promo_id  = x[:,2:3].type(torch.FloatTensor) # keep 2-dimensional\n",
    "        year_id   = x[:,3]\n",
    "        month_id  = x[:,4]\n",
    "        day_id    = x[:,5]\n",
    "        state_id  = x[:,6]\n",
    "        store_attr  = self.store_emb(store_id)\n",
    "        dow_attr    = self.dow_emb(dow_id)\n",
    "        promo_attr  = self.promo_linear(promo_id)\n",
    "        year_attr   = self.year_emb(year_id)### Instanciando a rede\n",
    "        month_attr  = self.month_emb(month_id)\n",
    "        day_attr    = self.day_emb(day_id)\n",
    "        state_attr  = self.state_emb(state_id)\n",
    "        x_in = torch.cat([store_attr,dow_attr,promo_attr,year_attr,month_attr,day_attr,state_attr],dim=1)\n",
    "        x = nn.functional.relu(x_in)\n",
    "        x = nn.functional.relu(self.linear1(x_in))\n",
    "        x = nn.functional.relu(self.linear2(x))\n",
    "        y_pred = self.linear3(x)\n",
    "        return nn.functional.sigmoid(y_pred)\n"
   ]
  },
  {
   "cell_type": "markdown",
   "metadata": {},
   "source": [
    "### Instanciando a rede\n"
   ]
  },
  {
   "cell_type": "code",
   "execution_count": 19,
   "metadata": {
    "ExecuteTime": {
     "end_time": "2018-03-25T06:50:23.155611Z",
     "start_time": "2018-03-25T06:50:23.138055Z"
    }
   },
   "outputs": [
    {
     "data": {
      "text/plain": [
       "Model(\n",
       "  (store_emb): Embedding(1115, 10)\n",
       "  (dow_emb): Embedding(7, 6)\n",
       "  (promo_linear): Linear(in_features=1, out_features=1)\n",
       "  (year_emb): Embedding(3, 2)\n",
       "  (month_emb): Embedding(12, 6)\n",
       "  (day_emb): Embedding(31, 10)\n",
       "  (state_emb): Embedding(12, 6)\n",
       "  (linear1): Linear(in_features=41, out_features=1000)\n",
       "  (linear2): Linear(in_features=1000, out_features=500)\n",
       "  (linear3): Linear(in_features=500, out_features=1)\n",
       ")"
      ]
     },
     "execution_count": 19,
     "metadata": {},
     "output_type": "execute_result"
    }
   ],
   "source": [
    "model = Model()\n",
    "if use_gpu:\n",
    "    model = model.cuda()\n",
    "model"
   ]
  },
  {
   "cell_type": "markdown",
   "metadata": {},
   "source": [
    "## Número de parâmetros da rede"
   ]
  },
  {
   "cell_type": "code",
   "execution_count": 31,
   "metadata": {
    "ExecuteTime": {
     "end_time": "2018-03-25T07:15:41.759702Z",
     "start_time": "2018-03-25T07:15:41.744649Z"
    }
   },
   "outputs": [
    {
     "name": "stdout",
     "output_type": "stream",
     "text": [
      "Number of parameters: 554655\n"
     ]
    }
   ],
   "source": [
    "wn = sum([v.nelement() for _,v in model.state_dict().items()])\n",
    "print('Number of parameters:', wn)"
   ]
  },
  {
   "cell_type": "markdown",
   "metadata": {},
   "source": [
    "## Predict 4 amostras para verificar a rede"
   ]
  },
  {
   "cell_type": "code",
   "execution_count": 21,
   "metadata": {
    "ExecuteTime": {
     "end_time": "2018-03-25T06:50:26.136462Z",
     "start_time": "2018-03-25T06:50:26.031204Z"
    }
   },
   "outputs": [
    {
     "name": "stdout",
     "output_type": "stream",
     "text": [
      "Variable containing:\n",
      " 0.4945\n",
      " 0.4995\n",
      " 0.5006\n",
      " 0.5084\n",
      "[torch.FloatTensor of size 4x1]\n",
      "\n"
     ]
    }
   ],
   "source": [
    "xx,yy = next(iter(dataloaders['train']))\n",
    "y_pred = model(Variable(xx[:4]))\n",
    "print(y_pred)"
   ]
  },
  {
   "cell_type": "code",
   "execution_count": 22,
   "metadata": {
    "ExecuteTime": {
     "end_time": "2018-03-25T06:50:26.853948Z",
     "start_time": "2018-03-25T06:50:26.845669Z"
    }
   },
   "outputs": [],
   "source": [
    "optimizer = torch.optim.Adam(model.parameters())\n",
    "savebest  = ptt.ModelCheckpoint('../../models/rossmann_torch', reset=True, verbose=1)\n",
    "\n",
    "trainer = ptt.DeepNetTrainer(\n",
    "    model         = model, \n",
    "    criterion     = nn.L1Loss(), #nn.MSELoss(),\n",
    "    optimizer     = torch.optim.Adam(model.parameters()), \n",
    "    callbacks     = [savebest, ptt.PrintCallback()]\n",
    "                     )"
   ]
  },
  {
   "cell_type": "code",
   "execution_count": 23,
   "metadata": {
    "ExecuteTime": {
     "end_time": "2018-03-25T07:06:16.286373Z",
     "start_time": "2018-03-25T06:50:28.448410Z"
    }
   },
   "outputs": [
    {
     "name": "stdout",
     "output_type": "stream",
     "text": [
      "Start training for 12 epochs\n",
      "  1:  49.1s   T: 0.01396   V: 0.01591 best\n",
      "  2:  60.9s   T: 0.00927   V: 0.01220 best\n",
      "  3:  75.8s   T: 0.00842   V: 0.01177 best\n",
      "  4:  70.4s   T: 0.00785   V: 0.01180 \n",
      "  5:  77.6s   T: 0.00755   V: 0.01170 best\n",
      "  6:  76.6s   T: 0.00732   V: 0.01195 \n",
      "  7:  77.7s   T: 0.00713   V: 0.01123 best\n",
      "  8:  87.2s   T: 0.00696   V: 0.01100 best\n",
      "  9:  85.7s   T: 0.00680   V: 0.01120 \n",
      " 10:  84.2s   T: 0.00668   V: 0.01096 best\n",
      " 11:  99.5s   T: 0.00657   V: 0.01134 \n",
      " 12: 103.1s   T: 0.00648   V: 0.01129 \n",
      "Best model was saved at epoch 10 with loss 0.01096: ../../models/rossmann_torch\n",
      "Stop training at epoch: 12/12\n"
     ]
    }
   ],
   "source": [
    "flag_train = True\n",
    "if flag_train:\n",
    "    trainer.fit_loader(n_epochs=12, train_data=dataloaders['train'], valid_data=dataloaders['val'])\n",
    "else:\n",
    "    trainer.load_state(file_basename='/data/models/rossmann_torch')"
   ]
  },
  {
   "cell_type": "code",
   "execution_count": 24,
   "metadata": {
    "ExecuteTime": {
     "end_time": "2018-03-25T07:06:26.839777Z",
     "start_time": "2018-03-25T07:06:26.551251Z"
    }
   },
   "outputs": [
    {
     "data": {
      "image/png": "[encoded data removed]",
      "text/plain": [
       "<matplotlib.figure.Figure at 0x124c76198>"
      ]
     },
     "metadata": {},
     "output_type": "display_data"
    }
   ],
   "source": [
    "trainer.load_state('../../models/rossmann_torch')\n",
    "plt.plot(trainer.metrics['valid']['losses'])\n",
    "plt.show()"
   ]
  },
  {
   "cell_type": "code",
   "execution_count": 25,
   "metadata": {
    "ExecuteTime": {
     "end_time": "2018-03-25T07:06:37.042001Z",
     "start_time": "2018-03-25T07:06:34.788902Z"
    },
    "collapsed": true
   },
   "outputs": [],
   "source": [
    "y_pred = trainer.predict_loader(dataloaders['val']).numpy()"
   ]
  },
  {
   "cell_type": "markdown",
   "metadata": {},
   "source": [
    "## Root Mean Square Percentage Error (RMSPE)"
   ]
  },
  {
   "cell_type": "markdown",
   "metadata": {},
   "source": [
    "$$ \\textrm{RMSPE} = \\sqrt{\\frac{1}{n} \\sum_{i=1}^{n} \\left(\\frac{y_i - \\hat{y}_i}{y_i}\\right)^2} $$"
   ]
  },
  {
   "cell_type": "markdown",
   "metadata": {},
   "source": [
    "### Dados normalizados"
   ]
  },
  {
   "cell_type": "code",
   "execution_count": 56,
   "metadata": {
    "ExecuteTime": {
     "end_time": "2018-03-25T07:47:38.187201Z",
     "start_time": "2018-03-25T07:47:38.179662Z"
    }
   },
   "outputs": [
    {
     "data": {
      "text/plain": [
       "0.020918122475956168"
      ]
     },
     "execution_count": 56,
     "metadata": {},
     "output_type": "execute_result"
    }
   ],
   "source": [
    "np.sqrt(np.square((y_val - y_pred)/y_val).mean())"
   ]
  },
  {
   "cell_type": "markdown",
   "metadata": {},
   "source": [
    "### Dados originais"
   ]
  },
  {
   "cell_type": "code",
   "execution_count": 58,
   "metadata": {
    "ExecuteTime": {
     "end_time": "2018-03-25T07:49:15.111154Z",
     "start_time": "2018-03-25T07:49:15.098210Z"
    }
   },
   "outputs": [
    {
     "name": "stdout",
     "output_type": "stream",
     "text": [
      "0.229194365406\n",
      "0.229194365406\n"
     ]
    }
   ],
   "source": [
    "y_pred_back = classnorm.lognorm_back(y_pred)\n",
    "y_val_back  = classnorm.lognorm_back(y_val)\n",
    "print(np.sqrt(np.square((y_val_back - y_pred_back)/y_val_back).mean()))\n",
    "print(np.sqrt(np.square((y_orig_val - y_pred_back)/y_orig_val).mean()))"
   ]
  },
  {
   "cell_type": "markdown",
   "metadata": {
    "collapsed": true
   },
   "source": [
    "Vencedor da competição no Kaggle obteve 0.10021 [https://www.kaggle.com/c/rossmann-store-sales/leaderboard](https://www.kaggle.com/c/rossmann-store-sales/leaderboard)"
   ]
  },
  {
   "cell_type": "markdown",
   "metadata": {
    "collapsed": true
   },
   "source": [
    "## Mean Absolute Percentage Error (MAPE)"
   ]
  },
  {
   "cell_type": "markdown",
   "metadata": {
    "ExecuteTime": {
     "end_time": "2018-03-25T07:56:12.124954Z",
     "start_time": "2018-03-25T07:56:12.115364Z"
    }
   },
   "source": [
    "$$ \\textrm{MAPE} = \\frac{1}{n} \\sum_{i=1}^{n} \\left|\\frac{y_i - \\hat{y}_i}{y_i}\\right| $$"
   ]
  },
  {
   "cell_type": "code",
   "execution_count": 60,
   "metadata": {
    "ExecuteTime": {
     "end_time": "2018-03-25T07:58:26.204122Z",
     "start_time": "2018-03-25T07:58:26.193849Z"
    }
   },
   "outputs": [
    {
     "name": "stdout",
     "output_type": "stream",
     "text": [
      "0.121254232168\n"
     ]
    }
   ],
   "source": [
    "print(np.absolute((y_orig_val - y_pred_back)/y_orig_val).mean())"
   ]
  },
  {
   "cell_type": "markdown",
   "metadata": {},
   "source": [
    "In their paper, they report MAPE: 0.093"
   ]
  },
  {
   "cell_type": "code",
   "execution_count": null,
   "metadata": {
    "collapsed": true
   },
   "outputs": [],
   "source": []
  }
 ],
 "metadata": {
  "kernelspec": {
   "display_name": "Python 3",
   "language": "python",
   "name": "python3"
  },
  "language_info": {
   "codemirror_mode": {
    "name": "ipython",
    "version": 3
   },
   "file_extension": ".py",
   "mimetype": "text/x-python",
   "name": "python",
   "nbconvert_exporter": "python",
   "pygments_lexer": "ipython3",
   "version": "3.6.0"
  },
  "toc": {
   "nav_menu": {
    "height": "226px",
    "width": "252px"
   },
   "number_sections": true,
   "sideBar": true,
   "skip_h1_title": false,
   "toc_cell": false,
   "toc_position": {},
   "toc_section_display": "block",
   "toc_window_display": false
  }
 },
 "nbformat": 4,
 "nbformat_minor": 2
}
