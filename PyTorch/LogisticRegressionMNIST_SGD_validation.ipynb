{
  "nbformat": 4,
  "nbformat_minor": 0,
  "metadata": {
    "anaconda-cloud": {},
    "kernelspec": {
      "display_name": "Python 3",
      "language": "python",
      "name": "python3"
    },
    "language_info": {
      "codemirror_mode": {
        "name": "ipython",
        "version": 3
      },
      "file_extension": ".py",
      "mimetype": "text/x-python",
      "name": "python",
      "nbconvert_exporter": "python",
      "pygments_lexer": "ipython3",
      "version": "3.6.5"
    },
    "toc": {
      "nav_menu": {
        "height": "318px",
        "width": "252px"
      },
      "number_sections": true,
      "sideBar": true,
      "skip_h1_title": false,
      "toc_cell": false,
      "toc_position": {},
      "toc_section_display": "block",
      "toc_window_display": false
    },
    "colab": {
      "name": "LogisticRegressionMNIST-SGD_validation.ipynb",
      "provenance": [],
      "collapsed_sections": [],
      "include_colab_link": true
    }
  },
  "cells": [
    {
      "cell_type": "markdown",
      "metadata": {
        "id": "view-in-github",
        "colab_type": "text"
      },
      "source": [
        "<a href=\"https://colab.research.google.com/github/robertoalotufo/rnap/blob/master/PyTorch/LogisticRegressionMNIST_SGD_validation.ipynb\" target=\"_parent\"><img src=\"https://colab.research.google.com/assets/colab-badge.svg\" alt=\"Open In Colab\"/></a>"
      ]
    },
    {
      "cell_type": "markdown",
      "metadata": {
        "id": "J3R2-_YuQT1r"
      },
      "source": [
        "# Regressão Softmax com dados do MNIST com SGD e dados de validação"
      ]
    },
    {
      "cell_type": "markdown",
      "metadata": {
        "id": "WkfGTqMVQT1u"
      },
      "source": [
        "O objetivo deste notebook é ilustrar \n",
        "- o uso de dados de validação\n",
        "- laço de validação após laço de treinamento\n"
      ]
    },
    {
      "cell_type": "markdown",
      "metadata": {
        "id": "wFNf4RPxQT1w"
      },
      "source": [
        "## Importação das bibliotecas"
      ]
    },
    {
      "cell_type": "code",
      "metadata": {
        "ExecuteTime": {
          "end_time": "2018-08-21T14:08:14.033692Z",
          "start_time": "2018-08-21T14:08:11.179981Z"
        },
        "id": "-fLUSHaCQT1x"
      },
      "source": [
        "%matplotlib inline\n",
        "import numpy as np\n",
        "import matplotlib.pyplot as plt\n",
        "\n",
        "import torch\n",
        "from torch.utils.data import DataLoader\n",
        "\n",
        "import torchvision\n",
        "from torchvision.datasets import MNIST"
      ],
      "execution_count": 1,
      "outputs": []
    },
    {
      "cell_type": "markdown",
      "metadata": {
        "id": "jEMUsfJpQT11"
      },
      "source": [
        "## Dataset e dataloader"
      ]
    },
    {
      "cell_type": "markdown",
      "metadata": {
        "id": "vHoQjDs_QT12"
      },
      "source": [
        "### Definição do tamanho do minibatch"
      ]
    },
    {
      "cell_type": "code",
      "metadata": {
        "ExecuteTime": {
          "end_time": "2018-08-21T14:08:20.282474Z",
          "start_time": "2018-08-21T14:08:20.275450Z"
        },
        "id": "tEQYUr4TQT13"
      },
      "source": [
        "batch_size = 50"
      ],
      "execution_count": 2,
      "outputs": []
    },
    {
      "cell_type": "markdown",
      "metadata": {
        "id": "dc7Rv_2BQT16"
      },
      "source": [
        "### Carregamento, criação dataset e do dataloader"
      ]
    },
    {
      "cell_type": "code",
      "metadata": {
        "ExecuteTime": {
          "end_time": "2018-08-21T14:10:45.430605Z",
          "start_time": "2018-08-21T14:10:04.953051Z"
        },
        "id": "G0dEKCn-QT17",
        "colab": {
          "base_uri": "https://localhost:8080/"
        },
        "outputId": "1c3828c8-6cbd-4dcd-cb5c-954ab9e13f43"
      },
      "source": [
        "dataset_dir = './data/'\n",
        "\n",
        "dataset_train_orig = MNIST(dataset_dir, train=True, download=True,\n",
        "                      transform=torchvision.transforms.ToTensor())\n",
        "dataset_valid_orig = MNIST(dataset_dir, train=False, download=True,\n",
        "                      transform=torchvision.transforms.ToTensor())\n",
        "len(dataset_train_orig), len(dataset_valid_orig)"
      ],
      "execution_count": 3,
      "outputs": [
        {
          "output_type": "execute_result",
          "data": {
            "text/plain": [
              "(60000, 10000)"
            ]
          },
          "metadata": {},
          "execution_count": 3
        }
      ]
    },
    {
      "cell_type": "markdown",
      "metadata": {
        "id": "_rOy9ntrQT2D"
      },
      "source": [
        "### Usando apenas 2000 amostras de treinamento e 400 de validação"
      ]
    },
    {
      "cell_type": "code",
      "metadata": {
        "id": "K9sXttHBTzCM"
      },
      "source": [
        "dataset_train,_ = torch.utils.data.random_split(dataset_train_orig, [2000,58000])\n",
        "dataset_valid,_ = torch.utils.data.random_split(dataset_valid_orig, [400,9600])"
      ],
      "execution_count": 4,
      "outputs": []
    },
    {
      "cell_type": "code",
      "metadata": {
        "ExecuteTime": {
          "end_time": "2018-08-21T13:30:35.209157Z",
          "start_time": "2018-08-21T13:30:34.757103Z"
        },
        "id": "w52KGYlIQT2A",
        "colab": {
          "base_uri": "https://localhost:8080/"
        },
        "outputId": "819da4f2-df06-4924-b95f-aecf301a472c"
      },
      "source": [
        "loader_train = DataLoader(dataset_train, batch_size=batch_size, shuffle=True)\n",
        "loader_valid = DataLoader(dataset_valid, batch_size=batch_size)\n",
        "\n",
        "print('Número de minibatches de trenamento e validação:', \n",
        "      len(loader_train), len(loader_valid))"
      ],
      "execution_count": 5,
      "outputs": [
        {
          "output_type": "stream",
          "name": "stdout",
          "text": [
            "Número de minibatches de trenamento e validação: 40 8\n"
          ]
        }
      ]
    },
    {
      "cell_type": "code",
      "source": [
        "x_train, y_train = next(iter(loader_train))\n",
        "print(\"\\nDimensões dos dados de um minibatch:\", x_train.size())\n",
        "print(\"Valores mínimo e máximo dos pixels: \", torch.min(x_train), torch.max(x_train))\n",
        "print(\"Tipo dos dados das imagens:         \", type(x_train))\n",
        "print(\"Tipo das classes das imagens:       \", type(y_train))"
      ],
      "metadata": {
        "colab": {
          "base_uri": "https://localhost:8080/"
        },
        "id": "9wzxW_k4jyVB",
        "outputId": "a8ebd2e4-370e-4e8d-efc1-e080e8f07ce2"
      },
      "execution_count": 6,
      "outputs": [
        {
          "output_type": "stream",
          "name": "stdout",
          "text": [
            "\n",
            "Dimensões dos dados de um minibatch: torch.Size([50, 1, 28, 28])\n",
            "Valores mínimo e máximo dos pixels:  tensor(0.) tensor(1.)\n",
            "Tipo dos dados das imagens:          <class 'torch.Tensor'>\n",
            "Tipo das classes das imagens:        <class 'torch.Tensor'>\n"
          ]
        }
      ]
    },
    {
      "cell_type": "code",
      "source": [
        "import torchvision as tv\n",
        "f_tensor2PIL = tv.transforms.ToPILImage()"
      ],
      "metadata": {
        "id": "G_Yfa9pZAXcl"
      },
      "execution_count": 7,
      "outputs": []
    },
    {
      "cell_type": "code",
      "source": [
        "mosaic = tv.utils.make_grid(x_train[:100],padding=2, pad_value=1)\n",
        "f_tensor2PIL(mosaic)"
      ],
      "metadata": {
        "id": "ekunj96GBAvk",
        "outputId": "09a6465f-1793-409c-ab17-3804bff11290",
        "colab": {
          "base_uri": "https://localhost:8080/",
          "height": 229
        }
      },
      "execution_count": 8,
      "outputs": [
        {
          "output_type": "execute_result",
          "data": {
            "text/plain": [
              "<PIL.Image.Image image mode=RGB size=242x212 at 0x7FDC117C1850>"
            ],
            "image/png": "[encoded data removed]"
          },
          "metadata": {},
          "execution_count": 8
        }
      ]
    },
    {
      "cell_type": "code",
      "source": [
        "print(y_train[:100])"
      ],
      "metadata": {
        "colab": {
          "base_uri": "https://localhost:8080/"
        },
        "id": "P9y2myyikC6g",
        "outputId": "8ea91e65-d402-477d-9d8f-87213e9117cf"
      },
      "execution_count": 9,
      "outputs": [
        {
          "output_type": "stream",
          "name": "stdout",
          "text": [
            "tensor([0, 3, 6, 5, 3, 7, 7, 8, 8, 7, 4, 9, 4, 8, 7, 4, 1, 2, 1, 2, 4, 7, 6, 6,\n",
            "        1, 6, 3, 8, 2, 2, 9, 7, 5, 2, 4, 1, 7, 2, 1, 5, 7, 0, 3, 6, 8, 1, 6, 8,\n",
            "        8, 8])\n"
          ]
        }
      ]
    },
    {
      "cell_type": "markdown",
      "metadata": {
        "id": "BQA9Zg7GQT2G"
      },
      "source": [
        "## Modelo"
      ]
    },
    {
      "cell_type": "code",
      "metadata": {
        "ExecuteTime": {
          "end_time": "2018-08-20T21:03:10.802708Z",
          "start_time": "2018-08-20T21:03:10.793287Z"
        },
        "id": "_8Eg4h_kQT2H"
      },
      "source": [
        "model = torch.nn.Linear(28*28, 10)\n"
      ],
      "execution_count": 10,
      "outputs": []
    },
    {
      "cell_type": "markdown",
      "metadata": {
        "id": "0NHQB4wGQT2K"
      },
      "source": [
        "## Treinamento"
      ]
    },
    {
      "cell_type": "markdown",
      "metadata": {
        "id": "nqs2JhJoQT2L"
      },
      "source": [
        "### Inicialização dos parâmetros"
      ]
    },
    {
      "cell_type": "code",
      "metadata": {
        "ExecuteTime": {
          "end_time": "2018-08-20T21:03:14.146259Z",
          "start_time": "2018-08-20T21:03:14.139515Z"
        },
        "id": "oZuYEkn_QT2M"
      },
      "source": [
        "n_epochs = 50\n",
        "learningRate = 0.5\n",
        "\n",
        "# Utilizaremos CrossEntropyLoss como função de perda\n",
        "criterion = torch.nn.CrossEntropyLoss()\n",
        "\n",
        "# Gradiente descendente\n",
        "optimizer = torch.optim.SGD(model.parameters(), lr=learningRate)"
      ],
      "execution_count": 11,
      "outputs": []
    },
    {
      "cell_type": "markdown",
      "metadata": {
        "id": "pmXarXeIQT2O"
      },
      "source": [
        "### Laço de treinamento dos parâmetros"
      ]
    },
    {
      "cell_type": "code",
      "metadata": {
        "ExecuteTime": {
          "end_time": "2018-08-20T21:03:40.796410Z",
          "start_time": "2018-08-20T21:03:39.771981Z"
        },
        "id": "L5T_jZZPQT2P",
        "colab": {
          "base_uri": "https://localhost:8080/"
        },
        "outputId": "db99fc9a-6a71-4f04-feb9-b25ccad4cddd"
      },
      "source": [
        "losses_train = []\n",
        "losses_valid = []\n",
        "\n",
        "total_trained_samples = 0\n",
        "for i in range(n_epochs):\n",
        "    # Laço de treinamento\n",
        "    model.train()\n",
        "    for x_train, y_train in loader_train:\n",
        "        # Transforma a entrada para uma dimensão\n",
        "        inputs = x_train.reshape(-1, 28 * 28)\n",
        "        # predict da rede\n",
        "        logits = model(inputs)\n",
        "\n",
        "        # calcula a perda\n",
        "        loss_train = criterion(logits, y_train)\n",
        "\n",
        "        # zero, backpropagation, ajusta parâmetros pelo gradiente descendente\n",
        "        optimizer.zero_grad()\n",
        "        loss_train.backward()\n",
        "        optimizer.step()\n",
        "    losses_train.append(loss_train.item())\n",
        "    model.eval()\n",
        "    with torch.no_grad():\n",
        "        for x_valid, y_valid in loader_valid:\n",
        "            inputs = x_valid.reshape(-1, 28 * 28)\n",
        "            logits = model(inputs)\n",
        "            loss_valid = criterion( logits, y_valid)\n",
        "    losses_valid.append(loss_valid.item())\n",
        "    print('Época: {:d}/{:d} Loss train:{:f} Loss valid:{:f}'\n",
        "        .format(i,n_epochs-1, loss_train.item(), loss_valid.item()))\n"
      ],
      "execution_count": 13,
      "outputs": [
        {
          "output_type": "stream",
          "name": "stdout",
          "text": [
            "Época: 0/49 Loss train:0.348504 Loss valid:0.372552\n",
            "Época: 1/49 Loss train:0.228301 Loss valid:0.359907\n",
            "Época: 2/49 Loss train:0.323238 Loss valid:0.311812\n",
            "Época: 3/49 Loss train:0.304259 Loss valid:0.320289\n",
            "Época: 4/49 Loss train:0.242689 Loss valid:0.303159\n",
            "Época: 5/49 Loss train:0.189782 Loss valid:0.297723\n",
            "Época: 6/49 Loss train:0.214955 Loss valid:0.297460\n",
            "Época: 7/49 Loss train:0.092442 Loss valid:0.289402\n",
            "Época: 8/49 Loss train:0.117238 Loss valid:0.300637\n",
            "Época: 9/49 Loss train:0.216195 Loss valid:0.299041\n",
            "Época: 10/49 Loss train:0.176201 Loss valid:0.287505\n",
            "Época: 11/49 Loss train:0.137343 Loss valid:0.279131\n",
            "Época: 12/49 Loss train:0.100330 Loss valid:0.288761\n",
            "Época: 13/49 Loss train:0.173970 Loss valid:0.280006\n",
            "Época: 14/49 Loss train:0.252982 Loss valid:0.267881\n",
            "Época: 15/49 Loss train:0.120040 Loss valid:0.268506\n",
            "Época: 16/49 Loss train:0.178588 Loss valid:0.263432\n",
            "Época: 17/49 Loss train:0.148075 Loss valid:0.270424\n",
            "Época: 18/49 Loss train:0.101070 Loss valid:0.263865\n",
            "Época: 19/49 Loss train:0.266003 Loss valid:0.265920\n",
            "Época: 20/49 Loss train:0.093868 Loss valid:0.250259\n",
            "Época: 21/49 Loss train:0.093649 Loss valid:0.246806\n",
            "Época: 22/49 Loss train:0.128467 Loss valid:0.239609\n",
            "Época: 23/49 Loss train:0.070687 Loss valid:0.243380\n",
            "Época: 24/49 Loss train:0.111533 Loss valid:0.235280\n",
            "Época: 25/49 Loss train:0.162999 Loss valid:0.240022\n",
            "Época: 26/49 Loss train:0.068399 Loss valid:0.259196\n",
            "Época: 27/49 Loss train:0.076823 Loss valid:0.244615\n",
            "Época: 28/49 Loss train:0.097094 Loss valid:0.227628\n",
            "Época: 29/49 Loss train:0.225066 Loss valid:0.250851\n",
            "Época: 30/49 Loss train:0.056734 Loss valid:0.246193\n",
            "Época: 31/49 Loss train:0.093247 Loss valid:0.248016\n",
            "Época: 32/49 Loss train:0.062430 Loss valid:0.245271\n",
            "Época: 33/49 Loss train:0.083264 Loss valid:0.251281\n",
            "Época: 34/49 Loss train:0.118596 Loss valid:0.235899\n",
            "Época: 35/49 Loss train:0.080862 Loss valid:0.248202\n",
            "Época: 36/49 Loss train:0.077988 Loss valid:0.234791\n",
            "Época: 37/49 Loss train:0.072899 Loss valid:0.233036\n",
            "Época: 38/49 Loss train:0.088470 Loss valid:0.245533\n",
            "Época: 39/49 Loss train:0.207288 Loss valid:0.240339\n",
            "Época: 40/49 Loss train:0.090247 Loss valid:0.242006\n",
            "Época: 41/49 Loss train:0.082157 Loss valid:0.237660\n",
            "Época: 42/49 Loss train:0.055585 Loss valid:0.238205\n",
            "Época: 43/49 Loss train:0.093456 Loss valid:0.230689\n",
            "Época: 44/49 Loss train:0.068149 Loss valid:0.236417\n",
            "Época: 45/49 Loss train:0.080093 Loss valid:0.233095\n",
            "Época: 46/49 Loss train:0.072823 Loss valid:0.249488\n",
            "Época: 47/49 Loss train:0.084205 Loss valid:0.227377\n",
            "Época: 48/49 Loss train:0.092903 Loss valid:0.234262\n",
            "Época: 49/49 Loss train:0.068429 Loss valid:0.232863\n"
          ]
        }
      ]
    },
    {
      "cell_type": "code",
      "metadata": {
        "ExecuteTime": {
          "end_time": "2018-08-20T21:03:48.786969Z",
          "start_time": "2018-08-20T21:03:48.781787Z"
        },
        "id": "PiuMsjYtQT2R",
        "colab": {
          "base_uri": "https://localhost:8080/"
        },
        "outputId": "7cc06b31-1b70-4961-f139-b0612617733c"
      },
      "source": [
        "print('Final loss:', loss_train.item(), loss_valid.item())"
      ],
      "execution_count": 14,
      "outputs": [
        {
          "output_type": "stream",
          "name": "stdout",
          "text": [
            "Final loss: 0.06842944771051407 0.23286312818527222\n"
          ]
        }
      ]
    },
    {
      "cell_type": "markdown",
      "metadata": {
        "id": "1dYK0nqsQT2U"
      },
      "source": [
        "### Visualizando gráfico de perda durante o treinamento"
      ]
    },
    {
      "cell_type": "code",
      "metadata": {
        "ExecuteTime": {
          "end_time": "2018-08-20T21:03:52.026752Z",
          "start_time": "2018-08-20T21:03:51.756518Z"
        },
        "id": "LIyUI6AHQT2V",
        "colab": {
          "base_uri": "https://localhost:8080/",
          "height": 298
        },
        "outputId": "d616c1c4-9658-4e96-ea83-bc754e15a5fe"
      },
      "source": [
        "plt.plot(np.arange(len(losses_valid)), losses_train,'-+',\n",
        "         np.arange(len(losses_valid)), losses_valid,'-.')\n",
        "\n",
        "plt.xlabel('época')"
      ],
      "execution_count": 16,
      "outputs": [
        {
          "output_type": "execute_result",
          "data": {
            "text/plain": [
              "Text(0.5, 0, 'época')"
            ]
          },
          "metadata": {},
          "execution_count": 16
        },
        {
          "output_type": "display_data",
          "data": {
            "text/plain": [
              "<Figure size 432x288 with 1 Axes>"
            ],
            "image/png": "[encoded data removed]"
          },
          "metadata": {
            "needs_background": "light"
          }
        }
      ]
    },
    {
      "cell_type": "markdown",
      "metadata": {
        "heading_collapsed": true,
        "id": "mUAMRLn2QT2b"
      },
      "source": [
        "# Atividades"
      ]
    },
    {
      "cell_type": "markdown",
      "metadata": {
        "hidden": true,
        "id": "3T-K0knNQT2c"
      },
      "source": [
        "## Perguntas"
      ]
    },
    {
      "cell_type": "markdown",
      "metadata": {
        "hidden": true,
        "id": "UzIE3QDoQT2d"
      },
      "source": [
        "1. Qual seria um possível critério de parada do treinamento?\n",
        "2. Por que no laço de validação utiliza-se o torch_nograd(), não seria suficiente usar apenas o model.eval()?\n",
        "2. Seria possível fazer validação apenas a cada 3 épocas? Modifique o código para fazer isso."
      ]
    },
    {
      "cell_type": "markdown",
      "metadata": {
        "hidden": true,
        "id": "rZr29dBcQT2f"
      },
      "source": [
        "## Conclusões sobre os experimentos deste notebook\n"
      ]
    }
  ]
}