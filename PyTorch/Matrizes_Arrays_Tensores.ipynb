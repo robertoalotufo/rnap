{
  "nbformat": 4,
  "nbformat_minor": 0,
  "metadata": {
    "kernelspec": {
      "name": "python3",
      "display_name": "Python 3"
    },
    "language_info": {
      "codemirror_mode": {
        "name": "ipython",
        "version": 3
      },
      "file_extension": ".py",
      "mimetype": "text/x-python",
      "name": "python",
      "nbconvert_exporter": "python",
      "pygments_lexer": "ipython3",
      "version": "3.6.1"
    },
    "toc": {
      "nav_menu": {},
      "number_sections": true,
      "sideBar": true,
      "skip_h1_title": false,
      "toc_cell": false,
      "toc_position": {},
      "toc_section_display": "block",
      "toc_window_display": false
    },
    "varInspector": {
      "cols": {
        "lenName": 16,
        "lenType": 16,
        "lenVar": 40
      },
      "kernels_config": {
        "python": {
          "delete_cmd_postfix": "",
          "delete_cmd_prefix": "del ",
          "library": "var_list.py",
          "varRefreshCmd": "print(var_dic_list())"
        },
        "r": {
          "delete_cmd_postfix": ") ",
          "delete_cmd_prefix": "rm(",
          "library": "var_list.r",
          "varRefreshCmd": "cat(var_dic_list()) "
        }
      },
      "types_to_exclude": [
        "module",
        "function",
        "builtin_function_or_method",
        "instance",
        "_Feature"
      ],
      "window_display": false
    },
    "colab": {
      "name": "Matrizes_Arrays_Tensores.ipynb",
      "provenance": [],
      "collapsed_sections": []
    },
    "accelerator": "GPU"
  },
  "cells": [
    {
      "cell_type": "markdown",
      "metadata": {
        "id": "QNvmiD2PXiFY"
      },
      "source": [
        "# Matrizes, Arrays, Tensores"
      ]
    },
    {
      "cell_type": "markdown",
      "metadata": {
        "id": "yARsJ6qvXiFc"
      },
      "source": [
        "## Referências"
      ]
    },
    {
      "cell_type": "markdown",
      "metadata": {
        "id": "Mlv3GVLCXiFd"
      },
      "source": [
        "- Documentação oficial de Tensores do PyTorch\n",
        "    http://pytorch.org/docs/master/tensors.html\n",
        "- PyTorch para usuários NumPy:\n",
        "    https://github.com/torch/torch7/wiki/Torch-for-Numpy-users"
      ]
    },
    {
      "cell_type": "markdown",
      "metadata": {
        "id": "xBYRpjIWXiFe"
      },
      "source": [
        "## NumPy array"
      ]
    },
    {
      "cell_type": "code",
      "metadata": {
        "ExecuteTime": {
          "end_time": "2018-02-04T23:34:05.662728Z",
          "start_time": "2018-02-04T23:34:05.620128Z"
        },
        "id": "aIDOu-q_XiFf"
      },
      "source": [
        "import numpy as np"
      ],
      "execution_count": 1,
      "outputs": []
    },
    {
      "cell_type": "code",
      "metadata": {
        "ExecuteTime": {
          "end_time": "2018-02-04T23:34:06.258818Z",
          "start_time": "2018-02-04T23:34:06.250076Z"
        },
        "id": "XJHfhTpaXiFj",
        "colab": {
          "base_uri": "https://localhost:8080/"
        },
        "outputId": "a256b434-c4bb-4592-ff00-269a5909213c"
      },
      "source": [
        "a = np.array([[2., 8., 3.],\n",
        "              [0.,-1., 5.]])\n",
        "a"
      ],
      "execution_count": 2,
      "outputs": [
        {
          "output_type": "execute_result",
          "data": {
            "text/plain": [
              "array([[ 2.,  8.,  3.],\n",
              "       [ 0., -1.,  5.]])"
            ]
          },
          "metadata": {},
          "execution_count": 2
        }
      ]
    },
    {
      "cell_type": "code",
      "metadata": {
        "ExecuteTime": {
          "end_time": "2018-02-04T23:34:06.838523Z",
          "start_time": "2018-02-04T23:34:06.833792Z"
        },
        "id": "JJxb_EYsXiFn",
        "colab": {
          "base_uri": "https://localhost:8080/"
        },
        "outputId": "afff4abc-57a5-4383-e083-3842ae2f0896"
      },
      "source": [
        "a.shape"
      ],
      "execution_count": 3,
      "outputs": [
        {
          "output_type": "execute_result",
          "data": {
            "text/plain": [
              "(2, 3)"
            ]
          },
          "metadata": {},
          "execution_count": 3
        }
      ]
    },
    {
      "cell_type": "code",
      "metadata": {
        "ExecuteTime": {
          "end_time": "2018-02-04T23:34:07.256512Z",
          "start_time": "2018-02-04T23:34:07.251804Z"
        },
        "id": "wKltZKzzXiFq",
        "colab": {
          "base_uri": "https://localhost:8080/"
        },
        "outputId": "26bdb6cf-22b8-4ded-e879-4ea5b88a3053"
      },
      "source": [
        "a.dtype"
      ],
      "execution_count": 4,
      "outputs": [
        {
          "output_type": "execute_result",
          "data": {
            "text/plain": [
              "dtype('float64')"
            ]
          },
          "metadata": {},
          "execution_count": 4
        }
      ]
    },
    {
      "cell_type": "markdown",
      "metadata": {
        "id": "BNGT8O2pXiFs"
      },
      "source": [
        "## PyTorch tensor"
      ]
    },
    {
      "cell_type": "markdown",
      "metadata": {
        "id": "mCRu4N2LXiFt"
      },
      "source": [
        "Os tensores do PyTorch só podem ser float, float32 ou float64"
      ]
    },
    {
      "cell_type": "code",
      "metadata": {
        "ExecuteTime": {
          "end_time": "2018-02-04T23:34:08.694877Z",
          "start_time": "2018-02-04T23:34:08.615784Z"
        },
        "id": "ZiECuH-SXiFu"
      },
      "source": [
        "import torch"
      ],
      "execution_count": 5,
      "outputs": []
    },
    {
      "cell_type": "markdown",
      "metadata": {
        "id": "YTiWHvfMXiFx"
      },
      "source": [
        "### Convertendo NumPy array para tensor PyTorch"
      ]
    },
    {
      "cell_type": "code",
      "metadata": {
        "ExecuteTime": {
          "end_time": "2018-02-04T23:34:10.162937Z",
          "start_time": "2018-02-04T23:34:10.157556Z"
        },
        "id": "iJXDBjvBXiFy",
        "colab": {
          "base_uri": "https://localhost:8080/"
        },
        "outputId": "b59dd595-0a1e-4715-dd31-75fdfa5a974f"
      },
      "source": [
        "b = torch.Tensor(np.zeros((3,4)))\n",
        "b"
      ],
      "execution_count": 6,
      "outputs": [
        {
          "output_type": "execute_result",
          "data": {
            "text/plain": [
              "tensor([[0., 0., 0., 0.],\n",
              "        [0., 0., 0., 0.],\n",
              "        [0., 0., 0., 0.]])"
            ]
          },
          "metadata": {},
          "execution_count": 6
        }
      ]
    },
    {
      "cell_type": "markdown",
      "metadata": {
        "id": "LMyZdRSfXiF0"
      },
      "source": [
        "### Criando arrays e tensores constantes"
      ]
    },
    {
      "cell_type": "code",
      "metadata": {
        "ExecuteTime": {
          "end_time": "2018-02-04T23:34:11.504629Z",
          "start_time": "2018-02-04T23:34:11.499232Z"
        },
        "id": "ez4HcviIXiF1",
        "colab": {
          "base_uri": "https://localhost:8080/"
        },
        "outputId": "991014fa-2fbf-4c51-d240-fb1edd027c5d"
      },
      "source": [
        "c = np.ones((2,4)); c"
      ],
      "execution_count": 7,
      "outputs": [
        {
          "output_type": "execute_result",
          "data": {
            "text/plain": [
              "array([[1., 1., 1., 1.],\n",
              "       [1., 1., 1., 1.]])"
            ]
          },
          "metadata": {},
          "execution_count": 7
        }
      ]
    },
    {
      "cell_type": "code",
      "metadata": {
        "ExecuteTime": {
          "end_time": "2018-02-04T23:34:12.346650Z",
          "start_time": "2018-02-04T23:34:12.341393Z"
        },
        "id": "TXHK329yXiF3",
        "colab": {
          "base_uri": "https://localhost:8080/"
        },
        "outputId": "1a612a65-7aec-4ed9-edda-01c3028881c4"
      },
      "source": [
        "d = torch.ones((2,4)); d"
      ],
      "execution_count": 8,
      "outputs": [
        {
          "output_type": "execute_result",
          "data": {
            "text/plain": [
              "tensor([[1., 1., 1., 1.],\n",
              "        [1., 1., 1., 1.]])"
            ]
          },
          "metadata": {},
          "execution_count": 8
        }
      ]
    },
    {
      "cell_type": "markdown",
      "metadata": {
        "id": "37fsTBsrXiF6"
      },
      "source": [
        "### Criando arrays e tensores aleatórios"
      ]
    },
    {
      "cell_type": "code",
      "metadata": {
        "ExecuteTime": {
          "end_time": "2018-02-04T23:34:14.080771Z",
          "start_time": "2018-02-04T23:34:14.075783Z"
        },
        "id": "QzNxtwJnXiF6",
        "colab": {
          "base_uri": "https://localhost:8080/"
        },
        "outputId": "f83d141a-2cec-4bd1-d456-3774c9602e31"
      },
      "source": [
        "e = np.random.rand(2,4); e"
      ],
      "execution_count": 9,
      "outputs": [
        {
          "output_type": "execute_result",
          "data": {
            "text/plain": [
              "array([[0.24844409, 0.56115105, 0.622663  , 0.78894192],\n",
              "       [0.34462272, 0.23958324, 0.94815342, 0.79147707]])"
            ]
          },
          "metadata": {},
          "execution_count": 9
        }
      ]
    },
    {
      "cell_type": "code",
      "metadata": {
        "ExecuteTime": {
          "end_time": "2018-02-04T23:34:15.360751Z",
          "start_time": "2018-02-04T23:34:15.355706Z"
        },
        "id": "qPhaZMpdXiF9",
        "colab": {
          "base_uri": "https://localhost:8080/"
        },
        "outputId": "6211b1d9-165c-4624-ba73-7706d0696a68"
      },
      "source": [
        "f = torch.rand(2,4); f"
      ],
      "execution_count": 10,
      "outputs": [
        {
          "output_type": "execute_result",
          "data": {
            "text/plain": [
              "tensor([[0.2078, 0.1844, 0.4567, 0.7406],\n",
              "        [0.3449, 0.9126, 0.7115, 0.7886]])"
            ]
          },
          "metadata": {},
          "execution_count": 10
        }
      ]
    },
    {
      "cell_type": "markdown",
      "metadata": {
        "id": "2XCAgZRJXiF_"
      },
      "source": [
        "### Arrays aleatórios com semente, para reproduzir mesma sequência pseudoaleatória"
      ]
    },
    {
      "cell_type": "code",
      "metadata": {
        "ExecuteTime": {
          "end_time": "2018-02-04T23:34:17.440907Z",
          "start_time": "2018-02-04T23:34:17.435261Z"
        },
        "id": "88suzuw-XiGA",
        "colab": {
          "base_uri": "https://localhost:8080/"
        },
        "outputId": "2318df39-3707-4668-94ae-aecef9c41841"
      },
      "source": [
        "np.random.seed(1234)\n",
        "e = np.random.rand(2,4);e"
      ],
      "execution_count": 11,
      "outputs": [
        {
          "output_type": "execute_result",
          "data": {
            "text/plain": [
              "array([[0.19151945, 0.62210877, 0.43772774, 0.78535858],\n",
              "       [0.77997581, 0.27259261, 0.27646426, 0.80187218]])"
            ]
          },
          "metadata": {},
          "execution_count": 11
        }
      ]
    },
    {
      "cell_type": "code",
      "metadata": {
        "ExecuteTime": {
          "end_time": "2018-02-04T23:34:19.519041Z",
          "start_time": "2018-02-04T23:34:19.510283Z"
        },
        "id": "W4Z0ztLOXiGD",
        "colab": {
          "base_uri": "https://localhost:8080/"
        },
        "outputId": "e7f9e3aa-62a3-4fe1-aa6f-c88c908e3727"
      },
      "source": [
        "torch.manual_seed(1234)\n",
        "f = torch.rand(2,4); f"
      ],
      "execution_count": 12,
      "outputs": [
        {
          "output_type": "execute_result",
          "data": {
            "text/plain": [
              "tensor([[0.0290, 0.4019, 0.2598, 0.3666],\n",
              "        [0.0583, 0.7006, 0.0518, 0.4681]])"
            ]
          },
          "metadata": {},
          "execution_count": 12
        }
      ]
    },
    {
      "cell_type": "markdown",
      "metadata": {
        "id": "1tLuP6y-XiGF"
      },
      "source": [
        "### Torch seed is different for GPU"
      ]
    },
    {
      "cell_type": "code",
      "metadata": {
        "ExecuteTime": {
          "end_time": "2018-02-04T23:34:21.214143Z",
          "start_time": "2018-02-04T23:34:21.208325Z"
        },
        "id": "c_0s3VIkXiGG",
        "colab": {
          "base_uri": "https://localhost:8080/"
        },
        "outputId": "40853672-ee78-45fe-ad35-4a736f94104b"
      },
      "source": [
        "if torch.cuda.is_available():\n",
        "    torch.cuda.torch.manual_seed(1234)\n",
        "    g = torch.cuda.torch.rand(2,4)\n",
        "    print(g)"
      ],
      "execution_count": 13,
      "outputs": [
        {
          "output_type": "stream",
          "name": "stdout",
          "text": [
            "tensor([[0.0290, 0.4019, 0.2598, 0.3666],\n",
            "        [0.0583, 0.7006, 0.0518, 0.4681]])\n"
          ]
        }
      ]
    },
    {
      "cell_type": "markdown",
      "metadata": {
        "id": "egxYHLx2XiGJ"
      },
      "source": [
        "## Conversões entre NumPy e Tensores PyTorch"
      ]
    },
    {
      "cell_type": "markdown",
      "metadata": {
        "id": "apFNKU2zXiGJ"
      },
      "source": [
        "### NumPy para Tensor PyTorch utilizando `.from_numpy()`"
      ]
    },
    {
      "cell_type": "markdown",
      "metadata": {
        "ExecuteTime": {
          "end_time": "2017-09-22T21:57:50.171580Z",
          "start_time": "2017-09-22T21:57:50.164535Z"
        },
        "id": "Tee1URdUXiGK"
      },
      "source": [
        "Os tipos de elementos do array NumPy podem ser convertidos \n",
        "para tensores equivalentes em PyTorch"
      ]
    },
    {
      "cell_type": "code",
      "metadata": {
        "ExecuteTime": {
          "end_time": "2018-02-04T23:34:25.335992Z",
          "start_time": "2018-02-04T23:34:25.204900Z"
        },
        "id": "BSCzbVuQXiGL",
        "colab": {
          "base_uri": "https://localhost:8080/",
          "height": 184
        },
        "outputId": "e5b35ec2-073f-432c-c137-b906d1aca366"
      },
      "source": [
        "import pandas as pd \n",
        "dtypes = [np.uint8, np.int32, np.int64, np.float32, np.float64, np.double]\n",
        "table = np.empty((2, len(dtypes)),dtype=np.object)\n",
        "for i,t in enumerate(dtypes):\n",
        "    a = np.array([1],dtype=t)\n",
        "    ta = torch.from_numpy(a)\n",
        "    table[0,i] = a.dtype\n",
        "    table[1,i] = ta.dtype\n",
        "pd.DataFrame(table)"
      ],
      "execution_count": 14,
      "outputs": [
        {
          "output_type": "stream",
          "name": "stderr",
          "text": [
            "/usr/local/lib/python3.7/dist-packages/ipykernel_launcher.py:3: DeprecationWarning: `np.object` is a deprecated alias for the builtin `object`. To silence this warning, use `object` by itself. Doing this will not modify any behavior and is safe. \n",
            "Deprecated in NumPy 1.20; for more details and guidance: https://numpy.org/devdocs/release/1.20.0-notes.html#deprecations\n",
            "  This is separate from the ipykernel package so we can avoid doing imports until\n"
          ]
        },
        {
          "output_type": "execute_result",
          "data": {
            "text/html": [
              "\n",
              "  <div id=\"df-c726e200-1abb-4c65-8217-94ebe156061c\">\n",
              "    <div class=\"colab-df-container\">\n",
              "      <div>\n",
              "<style scoped>\n",
              "    .dataframe tbody tr th:only-of-type {\n",
              "        vertical-align: middle;\n",
              "    }\n",
              "\n",
              "    .dataframe tbody tr th {\n",
              "        vertical-align: top;\n",
              "    }\n",
              "\n",
              "    .dataframe thead th {\n",
              "        text-align: right;\n",
              "    }\n",
              "</style>\n",
              "<table border=\"1\" class=\"dataframe\">\n",
              "  <thead>\n",
              "    <tr style=\"text-align: right;\">\n",
              "      <th></th>\n",
              "      <th>0</th>\n",
              "      <th>1</th>\n",
              "      <th>2</th>\n",
              "      <th>3</th>\n",
              "      <th>4</th>\n",
              "      <th>5</th>\n",
              "    </tr>\n",
              "  </thead>\n",
              "  <tbody>\n",
              "    <tr>\n",
              "      <th>0</th>\n",
              "      <td>uint8</td>\n",
              "      <td>int32</td>\n",
              "      <td>int64</td>\n",
              "      <td>float32</td>\n",
              "      <td>float64</td>\n",
              "      <td>float64</td>\n",
              "    </tr>\n",
              "    <tr>\n",
              "      <th>1</th>\n",
              "      <td>torch.uint8</td>\n",
              "      <td>torch.int32</td>\n",
              "      <td>torch.int64</td>\n",
              "      <td>torch.float32</td>\n",
              "      <td>torch.float64</td>\n",
              "      <td>torch.float64</td>\n",
              "    </tr>\n",
              "  </tbody>\n",
              "</table>\n",
              "</div>\n",
              "      <button class=\"colab-df-convert\" onclick=\"convertToInteractive('df-c726e200-1abb-4c65-8217-94ebe156061c')\"\n",
              "              title=\"Convert this dataframe to an interactive table.\"\n",
              "              style=\"display:none;\">\n",
              "        \n",
              "  <svg xmlns=\"http://www.w3.org/2000/svg\" height=\"24px\"viewBox=\"0 0 24 24\"\n",
              "       width=\"24px\">\n",
              "    <path d=\"M0 0h24v24H0V0z\" fill=\"none\"/>\n",
              "    <path d=\"M18.56 5.44l.94 2.06.94-2.06 2.06-.94-2.06-.94-.94-2.06-.94 2.06-2.06.94zm-11 1L8.5 8.5l.94-2.06 2.06-.94-2.06-.94L8.5 2.5l-.94 2.06-2.06.94zm10 10l.94 2.06.94-2.06 2.06-.94-2.06-.94-.94-2.06-.94 2.06-2.06.94z\"/><path d=\"M17.41 7.96l-1.37-1.37c-.4-.4-.92-.59-1.43-.59-.52 0-1.04.2-1.43.59L10.3 9.45l-7.72 7.72c-.78.78-.78 2.05 0 2.83L4 21.41c.39.39.9.59 1.41.59.51 0 1.02-.2 1.41-.59l7.78-7.78 2.81-2.81c.8-.78.8-2.07 0-2.86zM5.41 20L4 18.59l7.72-7.72 1.47 1.35L5.41 20z\"/>\n",
              "  </svg>\n",
              "      </button>\n",
              "      \n",
              "  <style>\n",
              "    .colab-df-container {\n",
              "      display:flex;\n",
              "      flex-wrap:wrap;\n",
              "      gap: 12px;\n",
              "    }\n",
              "\n",
              "    .colab-df-convert {\n",
              "      background-color: #E8F0FE;\n",
              "      border: none;\n",
              "      border-radius: 50%;\n",
              "      cursor: pointer;\n",
              "      display: none;\n",
              "      fill: #1967D2;\n",
              "      height: 32px;\n",
              "      padding: 0 0 0 0;\n",
              "      width: 32px;\n",
              "    }\n",
              "\n",
              "    .colab-df-convert:hover {\n",
              "      background-color: #E2EBFA;\n",
              "      box-shadow: 0px 1px 2px rgba(60, 64, 67, 0.3), 0px 1px 3px 1px rgba(60, 64, 67, 0.15);\n",
              "      fill: #174EA6;\n",
              "    }\n",
              "\n",
              "    [theme=dark] .colab-df-convert {\n",
              "      background-color: #3B4455;\n",
              "      fill: #D2E3FC;\n",
              "    }\n",
              "\n",
              "    [theme=dark] .colab-df-convert:hover {\n",
              "      background-color: #434B5C;\n",
              "      box-shadow: 0px 1px 3px 1px rgba(0, 0, 0, 0.15);\n",
              "      filter: drop-shadow(0px 1px 2px rgba(0, 0, 0, 0.3));\n",
              "      fill: #FFFFFF;\n",
              "    }\n",
              "  </style>\n",
              "\n",
              "      <script>\n",
              "        const buttonEl =\n",
              "          document.querySelector('#df-c726e200-1abb-4c65-8217-94ebe156061c button.colab-df-convert');\n",
              "        buttonEl.style.display =\n",
              "          google.colab.kernel.accessAllowed ? 'block' : 'none';\n",
              "\n",
              "        async function convertToInteractive(key) {\n",
              "          const element = document.querySelector('#df-c726e200-1abb-4c65-8217-94ebe156061c');\n",
              "          const dataTable =\n",
              "            await google.colab.kernel.invokeFunction('convertToInteractive',\n",
              "                                                     [key], {});\n",
              "          if (!dataTable) return;\n",
              "\n",
              "          const docLinkHtml = 'Like what you see? Visit the ' +\n",
              "            '<a target=\"_blank\" href=https://colab.research.google.com/notebooks/data_table.ipynb>data table notebook</a>'\n",
              "            + ' to learn more about interactive tables.';\n",
              "          element.innerHTML = '';\n",
              "          dataTable['output_type'] = 'display_data';\n",
              "          await google.colab.output.renderOutput(dataTable, element);\n",
              "          const docLink = document.createElement('div');\n",
              "          docLink.innerHTML = docLinkHtml;\n",
              "          element.appendChild(docLink);\n",
              "        }\n",
              "      </script>\n",
              "    </div>\n",
              "  </div>\n",
              "  "
            ],
            "text/plain": [
              "             0            1            2              3              4  \\\n",
              "0        uint8        int32        int64        float32        float64   \n",
              "1  torch.uint8  torch.int32  torch.int64  torch.float32  torch.float64   \n",
              "\n",
              "               5  \n",
              "0        float64  \n",
              "1  torch.float64  "
            ]
          },
          "metadata": {},
          "execution_count": 14
        }
      ]
    },
    {
      "cell_type": "markdown",
      "metadata": {
        "id": "qoxRs7GbXiGN"
      },
      "source": [
        "### NumPy para Tensor utilizando `torch.FloatTensor()` - método recomendado"
      ]
    },
    {
      "cell_type": "markdown",
      "metadata": {
        "id": "eLr9P-WEXiGO"
      },
      "source": [
        "Existe uma cuidado importante a ser tomado na transformação de matrizes do NumPy para tensores PyTorch pois as funções de rede neurais do PyTorch utilizam o tipo FloatTensor e o NumPy utiliza como default o tipo float64, o que faz uma conversão automática para DoubleTensor do PyTorch e consequentemente gerando um erro.\n",
        "A recomendação é utilizar o `torch.FloatTensor` para converter NumPy para tensores PyTorch:"
      ]
    },
    {
      "cell_type": "code",
      "metadata": {
        "ExecuteTime": {
          "end_time": "2018-02-04T23:34:27.394119Z",
          "start_time": "2018-02-04T23:34:27.388649Z"
        },
        "id": "ebb2uVogXiGP",
        "colab": {
          "base_uri": "https://localhost:8080/"
        },
        "outputId": "09e31aa7-e69f-4759-8445-5db9aed0f31a"
      },
      "source": [
        "a = np.ones((2,5))\n",
        "print('NumPy', a, a.dtype)\n",
        "at = torch.FloatTensor(a)\n",
        "print('PyTorch', at, at.dtype)"
      ],
      "execution_count": 15,
      "outputs": [
        {
          "output_type": "stream",
          "name": "stdout",
          "text": [
            "NumPy [[1. 1. 1. 1. 1.]\n",
            " [1. 1. 1. 1. 1.]] float64\n",
            "PyTorch tensor([[1., 1., 1., 1., 1.],\n",
            "        [1., 1., 1., 1., 1.]]) torch.float32\n"
          ]
        }
      ]
    },
    {
      "cell_type": "markdown",
      "metadata": {
        "ExecuteTime": {
          "end_time": "2017-09-22T22:32:46.975745Z",
          "start_time": "2017-09-22T22:32:46.970403Z"
        },
        "id": "1o1Kiq-oXiGR"
      },
      "source": [
        "### Tensor PyTorch para array NumPy"
      ]
    },
    {
      "cell_type": "code",
      "metadata": {
        "ExecuteTime": {
          "end_time": "2018-02-04T23:34:28.468619Z",
          "start_time": "2018-02-04T23:34:28.463187Z"
        },
        "id": "sZEhH22FXiGS",
        "colab": {
          "base_uri": "https://localhost:8080/"
        },
        "outputId": "6922818d-0cbb-46e1-bdea-7963eb87c81f"
      },
      "source": [
        "ta = torch.ones(2,3)\n",
        "ta"
      ],
      "execution_count": 16,
      "outputs": [
        {
          "output_type": "execute_result",
          "data": {
            "text/plain": [
              "tensor([[1., 1., 1.],\n",
              "        [1., 1., 1.]])"
            ]
          },
          "metadata": {},
          "execution_count": 16
        }
      ]
    },
    {
      "cell_type": "code",
      "metadata": {
        "ExecuteTime": {
          "end_time": "2018-02-04T23:34:29.156748Z",
          "start_time": "2018-02-04T23:34:29.151841Z"
        },
        "id": "eIJ3UaJ5XiGW",
        "colab": {
          "base_uri": "https://localhost:8080/"
        },
        "outputId": "cd6e9531-ed07-4d18-ef28-bc0a32d16784"
      },
      "source": [
        "a = ta.numpy()\n",
        "a"
      ],
      "execution_count": 17,
      "outputs": [
        {
          "output_type": "execute_result",
          "data": {
            "text/plain": [
              "array([[1., 1., 1.],\n",
              "       [1., 1., 1.]], dtype=float32)"
            ]
          },
          "metadata": {},
          "execution_count": 17
        }
      ]
    },
    {
      "cell_type": "markdown",
      "metadata": {
        "id": "Em9iCntYXiGZ"
      },
      "source": [
        "## Tensor na CPU e na GPU"
      ]
    },
    {
      "cell_type": "code",
      "metadata": {
        "ExecuteTime": {
          "end_time": "2018-02-04T23:34:30.488670Z",
          "start_time": "2018-02-04T23:34:30.484003Z"
        },
        "id": "ty153pSGXiGa",
        "colab": {
          "base_uri": "https://localhost:8080/"
        },
        "outputId": "8ba4864f-11c9-4e22-839f-1d81f24d982c"
      },
      "source": [
        "ta_cpu = torch.ones(2,3); ta_cpu"
      ],
      "execution_count": 18,
      "outputs": [
        {
          "output_type": "execute_result",
          "data": {
            "text/plain": [
              "tensor([[1., 1., 1.],\n",
              "        [1., 1., 1.]])"
            ]
          },
          "metadata": {},
          "execution_count": 18
        }
      ]
    },
    {
      "cell_type": "code",
      "source": [
        "from torch.cuda import is_available\n",
        "print(torch.cuda.is_available())"
      ],
      "metadata": {
        "id": "tDAVYFQ-zIpQ",
        "outputId": "4b2ff573-8c8b-444c-f80b-004d42364b22",
        "colab": {
          "base_uri": "https://localhost:8080/"
        }
      },
      "execution_count": 42,
      "outputs": [
        {
          "output_type": "stream",
          "name": "stdout",
          "text": [
            "True\n"
          ]
        }
      ]
    },
    {
      "cell_type": "markdown",
      "source": [
        "Imprime o modelo de GPU se houver GPU no runtime"
      ],
      "metadata": {
        "id": "xIj90qGE0Q7M"
      }
    },
    {
      "cell_type": "code",
      "source": [
        "if torch.cuda.is_available():\n",
        "    print(torch.cuda.get_device_name())"
      ],
      "metadata": {
        "id": "31Sx2aVTzRMc",
        "outputId": "23c62dec-11c0-44f7-f59e-15c650d21e44",
        "colab": {
          "base_uri": "https://localhost:8080/"
        }
      },
      "execution_count": 47,
      "outputs": [
        {
          "output_type": "stream",
          "name": "stdout",
          "text": [
            "Tesla K80\n"
          ]
        }
      ]
    },
    {
      "cell_type": "code",
      "metadata": {
        "ExecuteTime": {
          "end_time": "2018-02-04T23:34:32.324800Z",
          "start_time": "2018-02-04T23:34:31.240379Z"
        },
        "id": "wfLMwb66XiGc",
        "colab": {
          "base_uri": "https://localhost:8080/"
        },
        "outputId": "a6a551a7-1593-4070-8110-b05dafb78cba"
      },
      "source": [
        "if torch.cuda.is_available():\n",
        "    ta_gpu = ta_cpu.cuda()\n",
        "    print(ta_gpu)"
      ],
      "execution_count": 19,
      "outputs": [
        {
          "output_type": "stream",
          "name": "stdout",
          "text": [
            "tensor([[1., 1., 1.],\n",
            "        [1., 1., 1.]], device='cuda:0')\n"
          ]
        }
      ]
    },
    {
      "cell_type": "markdown",
      "metadata": {
        "id": "zEDHLYzyXiGe"
      },
      "source": [
        "## Operações em tensores"
      ]
    },
    {
      "cell_type": "markdown",
      "metadata": {
        "id": "hYAaxOPUXiGf"
      },
      "source": [
        "### criação de tensor e visualização do seu shape\n",
        "\n",
        "A cada nova versão do PyTorch, ele fica mais compatível com o NumPy. Inicialmente a operação PyTorch equivalente ao shape era apenas o Size. Agora o PyTorch suporta os dois, tanto Size como shape.\n",
        "\n"
      ]
    },
    {
      "cell_type": "code",
      "metadata": {
        "ExecuteTime": {
          "end_time": "2018-02-04T23:34:34.089641Z",
          "start_time": "2018-02-04T23:34:34.084222Z"
        },
        "id": "-k5-cO33XiGg",
        "colab": {
          "base_uri": "https://localhost:8080/"
        },
        "outputId": "a7b8ffcd-0ef0-47d8-814d-c534832b090b"
      },
      "source": [
        "a = torch.eye(4); a"
      ],
      "execution_count": 20,
      "outputs": [
        {
          "output_type": "execute_result",
          "data": {
            "text/plain": [
              "tensor([[1., 0., 0., 0.],\n",
              "        [0., 1., 0., 0.],\n",
              "        [0., 0., 1., 0.],\n",
              "        [0., 0., 0., 1.]])"
            ]
          },
          "metadata": {},
          "execution_count": 20
        }
      ]
    },
    {
      "cell_type": "code",
      "metadata": {
        "ExecuteTime": {
          "end_time": "2018-02-04T23:34:34.682568Z",
          "start_time": "2018-02-04T23:34:34.677963Z"
        },
        "id": "m94JcgMNXiGi",
        "colab": {
          "base_uri": "https://localhost:8080/"
        },
        "outputId": "99df268d-d91c-49c9-cf64-b304120d5acf"
      },
      "source": [
        "a.shape"
      ],
      "execution_count": 21,
      "outputs": [
        {
          "output_type": "execute_result",
          "data": {
            "text/plain": [
              "torch.Size([4, 4])"
            ]
          },
          "metadata": {},
          "execution_count": 21
        }
      ]
    },
    {
      "cell_type": "markdown",
      "metadata": {
        "id": "Eej8RJIiXiGk"
      },
      "source": [
        "### Reshape é feito com `view` em PyTorch"
      ]
    },
    {
      "cell_type": "code",
      "metadata": {
        "ExecuteTime": {
          "end_time": "2018-02-04T23:34:36.122674Z",
          "start_time": "2018-02-04T23:34:36.117909Z"
        },
        "id": "AMAW7uTgXiGl",
        "colab": {
          "base_uri": "https://localhost:8080/"
        },
        "outputId": "0f26cd54-a252-421d-dc5c-e2b225ffa0d6"
      },
      "source": [
        "b = a.reshape(2,8); b"
      ],
      "execution_count": 22,
      "outputs": [
        {
          "output_type": "execute_result",
          "data": {
            "text/plain": [
              "tensor([[1., 0., 0., 0., 0., 1., 0., 0.],\n",
              "        [0., 0., 1., 0., 0., 0., 0., 1.]])"
            ]
          },
          "metadata": {},
          "execution_count": 22
        }
      ]
    },
    {
      "cell_type": "markdown",
      "metadata": {
        "id": "yM3XVCniXiGn"
      },
      "source": [
        "Aqui é um exemplo criando um tensor unidimensional sequencial de 0 a 23 e em seguida uma reshape para\n",
        "que o tensor fique com 4 linhas e 6 colunas"
      ]
    },
    {
      "cell_type": "code",
      "metadata": {
        "ExecuteTime": {
          "end_time": "2018-02-04T23:34:37.221741Z",
          "start_time": "2018-02-04T23:34:37.216213Z"
        },
        "id": "ROSKWK76XiGn",
        "colab": {
          "base_uri": "https://localhost:8080/"
        },
        "outputId": "38606440-780d-408d-b1ca-5e661fe65751"
      },
      "source": [
        "a = torch.arange(0,24).reshape(4,6)\n",
        "a"
      ],
      "execution_count": 49,
      "outputs": [
        {
          "output_type": "execute_result",
          "data": {
            "text/plain": [
              "tensor([[ 0,  1,  2,  3,  4,  5],\n",
              "        [ 6,  7,  8,  9, 10, 11],\n",
              "        [12, 13, 14, 15, 16, 17],\n",
              "        [18, 19, 20, 21, 22, 23]])"
            ]
          },
          "metadata": {},
          "execution_count": 49
        }
      ]
    },
    {
      "cell_type": "markdown",
      "metadata": {
        "id": "TkDZNbpEXiGs"
      },
      "source": [
        "### Adição elemento por elemento"
      ]
    },
    {
      "cell_type": "markdown",
      "metadata": {
        "id": "z6x8eoAlXiGt"
      },
      "source": [
        "#### usando operadores"
      ]
    },
    {
      "cell_type": "code",
      "metadata": {
        "ExecuteTime": {
          "end_time": "2018-02-04T23:35:26.607430Z",
          "start_time": "2018-02-04T23:35:26.602423Z"
        },
        "id": "NovKAHbjXiGu",
        "colab": {
          "base_uri": "https://localhost:8080/"
        },
        "outputId": "1f058c43-7398-49d1-a2d9-3813681c124d"
      },
      "source": [
        "c = a + a; c"
      ],
      "execution_count": 50,
      "outputs": [
        {
          "output_type": "execute_result",
          "data": {
            "text/plain": [
              "tensor([[ 0,  2,  4,  6,  8, 10],\n",
              "        [12, 14, 16, 18, 20, 22],\n",
              "        [24, 26, 28, 30, 32, 34],\n",
              "        [36, 38, 40, 42, 44, 46]])"
            ]
          },
          "metadata": {},
          "execution_count": 50
        }
      ]
    },
    {
      "cell_type": "code",
      "metadata": {
        "ExecuteTime": {
          "end_time": "2018-02-04T23:35:28.244588Z",
          "start_time": "2018-02-04T23:35:28.239751Z"
        },
        "id": "dnC9TQfnXiG0",
        "colab": {
          "base_uri": "https://localhost:8080/"
        },
        "outputId": "7596082c-37e4-48b6-b226-6269ffb5b856"
      },
      "source": [
        "d = a - c ; d"
      ],
      "execution_count": 51,
      "outputs": [
        {
          "output_type": "execute_result",
          "data": {
            "text/plain": [
              "tensor([[  0,  -1,  -2,  -3,  -4,  -5],\n",
              "        [ -6,  -7,  -8,  -9, -10, -11],\n",
              "        [-12, -13, -14, -15, -16, -17],\n",
              "        [-18, -19, -20, -21, -22, -23]])"
            ]
          },
          "metadata": {},
          "execution_count": 51
        }
      ]
    },
    {
      "cell_type": "markdown",
      "metadata": {
        "id": "67F1FB_bXiG3"
      },
      "source": [
        "#### forma funcional"
      ]
    },
    {
      "cell_type": "code",
      "metadata": {
        "ExecuteTime": {
          "end_time": "2018-02-04T23:35:29.901511Z",
          "start_time": "2018-02-04T23:35:29.896447Z"
        },
        "id": "n2PX0cuCXiG4",
        "colab": {
          "base_uri": "https://localhost:8080/"
        },
        "outputId": "1df63451-c48c-47c3-b900-842ad7dee536"
      },
      "source": [
        "d = a.sub(c); d"
      ],
      "execution_count": 26,
      "outputs": [
        {
          "output_type": "execute_result",
          "data": {
            "text/plain": [
              "tensor([[  0,  -1,  -2,  -3,  -4,  -5],\n",
              "        [ -6,  -7,  -8,  -9, -10, -11],\n",
              "        [-12, -13, -14, -15, -16, -17],\n",
              "        [-18, -19, -20, -21, -22, -23]])"
            ]
          },
          "metadata": {},
          "execution_count": 26
        }
      ]
    },
    {
      "cell_type": "markdown",
      "metadata": {
        "id": "t24aau0xXiG7"
      },
      "source": [
        "#### Operação in-place\n",
        "É possível otimizar bastante as expressões em PyTorch utilizando in-place. Entretanto, operações in-place precisam ser feitas com maior cuidado."
      ]
    },
    {
      "cell_type": "code",
      "metadata": {
        "ExecuteTime": {
          "end_time": "2018-02-04T23:35:30.957467Z",
          "start_time": "2018-02-04T23:35:30.952455Z"
        },
        "id": "ZQWHEL36XiG8",
        "colab": {
          "base_uri": "https://localhost:8080/"
        },
        "outputId": "bc55daf4-e9ad-4a09-b6fc-6505c8152be3"
      },
      "source": [
        "a.sub_(c); a"
      ],
      "execution_count": 27,
      "outputs": [
        {
          "output_type": "execute_result",
          "data": {
            "text/plain": [
              "tensor([[  0,  -1,  -2,  -3,  -4,  -5],\n",
              "        [ -6,  -7,  -8,  -9, -10, -11],\n",
              "        [-12, -13, -14, -15, -16, -17],\n",
              "        [-18, -19, -20, -21, -22, -23]])"
            ]
          },
          "metadata": {},
          "execution_count": 27
        }
      ]
    },
    {
      "cell_type": "markdown",
      "metadata": {
        "id": "3XG0GX5gXiG-"
      },
      "source": [
        "### Multiplicação elemento por elemento"
      ]
    },
    {
      "cell_type": "code",
      "metadata": {
        "ExecuteTime": {
          "end_time": "2018-02-04T23:35:32.573333Z",
          "start_time": "2018-02-04T23:35:32.568234Z"
        },
        "id": "wTxJZu-YXiG-",
        "colab": {
          "base_uri": "https://localhost:8080/"
        },
        "outputId": "ee5c9a0c-d6c1-42b5-d01f-973063dc79a0"
      },
      "source": [
        "d = a * c; d "
      ],
      "execution_count": 28,
      "outputs": [
        {
          "output_type": "execute_result",
          "data": {
            "text/plain": [
              "tensor([[    0,    -2,    -8,   -18,   -32,   -50],\n",
              "        [  -72,   -98,  -128,  -162,  -200,  -242],\n",
              "        [ -288,  -338,  -392,  -450,  -512,  -578],\n",
              "        [ -648,  -722,  -800,  -882,  -968, -1058]])"
            ]
          },
          "metadata": {},
          "execution_count": 28
        }
      ]
    },
    {
      "cell_type": "code",
      "metadata": {
        "ExecuteTime": {
          "end_time": "2018-02-04T23:35:33.087376Z",
          "start_time": "2018-02-04T23:35:33.082260Z"
        },
        "id": "hwyI3cPaXiHC",
        "colab": {
          "base_uri": "https://localhost:8080/"
        },
        "outputId": "4ff15ed5-efe5-4f63-d757-d79bc4570722"
      },
      "source": [
        "d = a.mul(c); d"
      ],
      "execution_count": 29,
      "outputs": [
        {
          "output_type": "execute_result",
          "data": {
            "text/plain": [
              "tensor([[    0,    -2,    -8,   -18,   -32,   -50],\n",
              "        [  -72,   -98,  -128,  -162,  -200,  -242],\n",
              "        [ -288,  -338,  -392,  -450,  -512,  -578],\n",
              "        [ -648,  -722,  -800,  -882,  -968, -1058]])"
            ]
          },
          "metadata": {},
          "execution_count": 29
        }
      ]
    },
    {
      "cell_type": "code",
      "metadata": {
        "ExecuteTime": {
          "end_time": "2018-02-04T23:35:33.621426Z",
          "start_time": "2018-02-04T23:35:33.616295Z"
        },
        "id": "KE-VpnM1XiHE",
        "colab": {
          "base_uri": "https://localhost:8080/"
        },
        "outputId": "3a648066-8cc3-4103-8e5d-22007fe02b63"
      },
      "source": [
        "a.mul_(c); a"
      ],
      "execution_count": 30,
      "outputs": [
        {
          "output_type": "execute_result",
          "data": {
            "text/plain": [
              "tensor([[    0,    -2,    -8,   -18,   -32,   -50],\n",
              "        [  -72,   -98,  -128,  -162,  -200,  -242],\n",
              "        [ -288,  -338,  -392,  -450,  -512,  -578],\n",
              "        [ -648,  -722,  -800,  -882,  -968, -1058]])"
            ]
          },
          "metadata": {},
          "execution_count": 30
        }
      ]
    },
    {
      "cell_type": "markdown",
      "metadata": {
        "id": "gbYfqsURXiHG"
      },
      "source": [
        "### Média em tensores"
      ]
    },
    {
      "cell_type": "code",
      "metadata": {
        "ExecuteTime": {
          "end_time": "2018-02-04T23:35:35.109571Z",
          "start_time": "2018-02-04T23:35:35.104413Z"
        },
        "id": "kQn5iFoRXiHH",
        "colab": {
          "base_uri": "https://localhost:8080/"
        },
        "outputId": "5d9f70cd-0c34-41d8-e820-250f5f146221"
      },
      "source": [
        "a = torch.arange(0,24,dtype=torch.float32).reshape(4,6)\n",
        "a"
      ],
      "execution_count": 52,
      "outputs": [
        {
          "output_type": "execute_result",
          "data": {
            "text/plain": [
              "tensor([[ 0.,  1.,  2.,  3.,  4.,  5.],\n",
              "        [ 6.,  7.,  8.,  9., 10., 11.],\n",
              "        [12., 13., 14., 15., 16., 17.],\n",
              "        [18., 19., 20., 21., 22., 23.]])"
            ]
          },
          "metadata": {},
          "execution_count": 52
        }
      ]
    },
    {
      "cell_type": "code",
      "metadata": {
        "ExecuteTime": {
          "end_time": "2018-02-04T23:35:35.618234Z",
          "start_time": "2018-02-04T23:35:35.613706Z"
        },
        "id": "BIUBOhlBXiHJ",
        "colab": {
          "base_uri": "https://localhost:8080/"
        },
        "outputId": "716ea34f-ecd5-4ad8-b00f-d129e32b45a4"
      },
      "source": [
        "u = a.mean()\n",
        "u"
      ],
      "execution_count": 53,
      "outputs": [
        {
          "output_type": "execute_result",
          "data": {
            "text/plain": [
              "tensor(11.5000)"
            ]
          },
          "metadata": {},
          "execution_count": 53
        }
      ]
    },
    {
      "cell_type": "code",
      "metadata": {
        "ExecuteTime": {
          "end_time": "2018-02-04T23:35:36.291163Z",
          "start_time": "2018-02-04T23:35:36.286183Z"
        },
        "id": "VbkZaeKqXiHL",
        "colab": {
          "base_uri": "https://localhost:8080/"
        },
        "outputId": "c1f8dfb0-db81-4607-9e4c-c638570d222f"
      },
      "source": [
        "uu = a.sum()/a.nelement()\n",
        "uu"
      ],
      "execution_count": 54,
      "outputs": [
        {
          "output_type": "execute_result",
          "data": {
            "text/plain": [
              "tensor(11.5000)"
            ]
          },
          "metadata": {},
          "execution_count": 54
        }
      ]
    },
    {
      "cell_type": "markdown",
      "metadata": {
        "id": "_7Gfn5M-XiHO"
      },
      "source": [
        "### Média com redução de eixo "
      ]
    },
    {
      "cell_type": "code",
      "metadata": {
        "ExecuteTime": {
          "end_time": "2018-02-04T23:35:37.793407Z",
          "start_time": "2018-02-04T23:35:37.788507Z"
        },
        "id": "wMdNjm0bXiHO",
        "colab": {
          "base_uri": "https://localhost:8080/"
        },
        "outputId": "c5a1f67d-09c8-460d-8c1a-b1d11a7834db"
      },
      "source": [
        "u_row = a.mean(dim=1); u_row, u_row.shape"
      ],
      "execution_count": 34,
      "outputs": [
        {
          "output_type": "execute_result",
          "data": {
            "text/plain": [
              "(tensor([ 2.5000,  8.5000, 14.5000, 20.5000]), torch.Size([4]))"
            ]
          },
          "metadata": {},
          "execution_count": 34
        }
      ]
    },
    {
      "cell_type": "code",
      "metadata": {
        "ExecuteTime": {
          "end_time": "2018-02-04T23:35:38.781429Z",
          "start_time": "2018-02-04T23:35:38.776509Z"
        },
        "id": "3Y1W_F9jXiHS",
        "colab": {
          "base_uri": "https://localhost:8080/"
        },
        "outputId": "2c9fb930-af0d-447e-ff1a-daf227afec1b"
      },
      "source": [
        "u_col = a.mean(dim=0); u_col, u_col.shape"
      ],
      "execution_count": 35,
      "outputs": [
        {
          "output_type": "execute_result",
          "data": {
            "text/plain": [
              "(tensor([ 9., 10., 11., 12., 13., 14.]), torch.Size([6]))"
            ]
          },
          "metadata": {},
          "execution_count": 35
        }
      ]
    },
    {
      "cell_type": "markdown",
      "metadata": {
        "id": "o4bqwAD-XiHV"
      },
      "source": [
        "### Desvio padrão"
      ]
    },
    {
      "cell_type": "code",
      "metadata": {
        "ExecuteTime": {
          "end_time": "2018-02-04T23:35:40.869274Z",
          "start_time": "2018-02-04T23:35:40.864792Z"
        },
        "id": "b2cl8dLBXiHX",
        "colab": {
          "base_uri": "https://localhost:8080/"
        },
        "outputId": "0e2fe2cc-4e67-4321-a632-da1d984d4a90"
      },
      "source": [
        "std = a.std(); std"
      ],
      "execution_count": 36,
      "outputs": [
        {
          "output_type": "execute_result",
          "data": {
            "text/plain": [
              "tensor(7.0711)"
            ]
          },
          "metadata": {},
          "execution_count": 36
        }
      ]
    },
    {
      "cell_type": "code",
      "metadata": {
        "ExecuteTime": {
          "end_time": "2018-02-04T23:35:41.556418Z",
          "start_time": "2018-02-04T23:35:41.551526Z"
        },
        "id": "g6M0nVVZXiHZ",
        "colab": {
          "base_uri": "https://localhost:8080/"
        },
        "outputId": "aeb52699-555b-4851-d677-685605f79bd0"
      },
      "source": [
        "std_row = a.std(dim=1); std_row, std_row.shape"
      ],
      "execution_count": 37,
      "outputs": [
        {
          "output_type": "execute_result",
          "data": {
            "text/plain": [
              "(tensor([1.8708, 1.8708, 1.8708, 1.8708]), torch.Size([4]))"
            ]
          },
          "metadata": {},
          "execution_count": 37
        }
      ]
    },
    {
      "cell_type": "markdown",
      "metadata": {
        "id": "yN4hSeIzXiHb"
      },
      "source": [
        "## Comparação speedup CPU e GPU"
      ]
    },
    {
      "cell_type": "code",
      "metadata": {
        "ExecuteTime": {
          "end_time": "2018-02-04T23:35:56.161938Z",
          "start_time": "2018-02-04T23:35:43.296840Z"
        },
        "id": "yxJdnNGBXiHc",
        "colab": {
          "base_uri": "https://localhost:8080/"
        },
        "outputId": "e44c0062-0c24-4a3b-e740-709194ec758c"
      },
      "source": [
        "a_numpy_cpu = np.ones((10,1000,1000),dtype=np.float32)\n",
        "%timeit b = 2 * a_numpy_cpu\n",
        "a_torch_cpu = torch.ones(10,1000,1000, dtype=torch.float32)\n",
        "%timeit b = 2 * a_torch_cpu"
      ],
      "execution_count": 38,
      "outputs": [
        {
          "output_type": "stream",
          "name": "stdout",
          "text": [
            "100 loops, best of 5: 8.18 ms per loop\n",
            "100 loops, best of 5: 9.62 ms per loop\n"
          ]
        }
      ]
    },
    {
      "cell_type": "code",
      "metadata": {
        "ExecuteTime": {
          "end_time": "2018-02-04T23:37:48.425367Z",
          "start_time": "2018-02-04T23:37:45.743451Z"
        },
        "id": "WRooh3OAXiHe",
        "colab": {
          "base_uri": "https://localhost:8080/"
        },
        "outputId": "f81e9bc6-799d-4e88-b3a0-9551802b8eb4"
      },
      "source": [
        "if torch.cuda.is_available():\n",
        "    print(torch.cuda.get_device_name())\n",
        "    # para colocar o tensor na GPU, utiliza-se o método .cuda()\n",
        "    a_torch_gpu = a_torch_cpu.cuda()\n",
        "    %timeit b = 2 * a_torch_gpu"
      ],
      "execution_count": 56,
      "outputs": [
        {
          "output_type": "stream",
          "name": "stdout",
          "text": [
            "Tesla K80\n",
            "10000 loops, best of 5: 489 µs per loop\n"
          ]
        }
      ]
    },
    {
      "cell_type": "markdown",
      "metadata": {
        "id": "1s-q0smfXiHg"
      },
      "source": [
        "Rodando o código abaixo na GTX1080: speedup de 15,5\n",
        "- 888 µs ± 43.4 ns per loop (mean ± std. dev. of 7 runs, 1000 loops each)\n",
        "- 57.1 µs ± 22.7 ns per loop (mean ± std. dev. of 7 runs, 10000 loops each)\n",
        "Rodando no macbook:\n",
        "- numpy: 1000 loops, best of 3: 449 µs per loop\n",
        "- torch: 1000 loops, best of 3: 1.6 ms per loop"
      ]
    },
    {
      "cell_type": "code",
      "metadata": {
        "ExecuteTime": {
          "end_time": "2018-02-04T23:41:57.149818Z",
          "start_time": "2018-02-04T23:41:43.111072Z"
        },
        "id": "TPD__h0NXiHi",
        "colab": {
          "base_uri": "https://localhost:8080/"
        },
        "outputId": "51cbba52-e72e-4e95-e7d5-ffb2ec1ba7b6"
      },
      "source": [
        "%timeit b1 = a_numpy_cpu.mean()\n",
        "%timeit b2 = a_torch_cpu.mean()\n",
        "if torch.cuda.is_available():\n",
        "    %timeit c = a_torch_gpu.mean()"
      ],
      "execution_count": 40,
      "outputs": [
        {
          "output_type": "stream",
          "name": "stdout",
          "text": [
            "100 loops, best of 5: 4.44 ms per loop\n",
            "1000 loops, best of 5: 1.75 ms per loop\n",
            "The slowest run took 5.94 times longer than the fastest. This could mean that an intermediate result is being cached.\n",
            "10000 loops, best of 5: 309 µs per loop\n"
          ]
        }
      ]
    }
  ]
}