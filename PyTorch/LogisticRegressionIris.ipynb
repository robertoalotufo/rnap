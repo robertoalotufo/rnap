{
 "cells": [
  {
   "cell_type": "markdown",
   "metadata": {},
   "source": [
    "# Iris dataset - Regressão Logística - 3 classes"
   ]
  },
  {
   "cell_type": "markdown",
   "metadata": {
    "heading_collapsed": true
   },
   "source": [
    "## Objetivos"
   ]
  },
  {
   "cell_type": "markdown",
   "metadata": {
    "hidden": true
   },
   "source": [
    "Este notebook ilustra o problema de classificação.\n",
    "\n",
    "O objetivo é classificar as amostras da Íris em 3 classes.\n",
    "- o alvo é o índice da classe: 0, 1 ou 2\n",
    "- função de perda é Entropia Cruzada\n",
    "- rede é uma camada densa linear com duas entradas e três saídas (n. de classes)"
   ]
  },
  {
   "cell_type": "markdown",
   "metadata": {
    "hidden": true
   },
   "source": [
    "<img src='../figures/RegressaoSoftmax_CrossEntropy_Otimizacao.png',width=700></img>"
   ]
  },
  {
   "cell_type": "markdown",
   "metadata": {
    "heading_collapsed": true
   },
   "source": [
    "## Importação das bibliotecas"
   ]
  },
  {
   "cell_type": "code",
   "execution_count": 1,
   "metadata": {
    "ExecuteTime": {
     "end_time": "2017-11-24T15:13:02.488274",
     "start_time": "2017-11-24T15:13:00.976632"
    },
    "collapsed": true,
    "hidden": true
   },
   "outputs": [],
   "source": [
    "%matplotlib inline\n",
    "import os\n",
    "from sklearn.datasets import load_iris\n",
    "import numpy as np\n",
    "import matplotlib.pyplot as plt\n",
    "import pandas as pd\n",
    "\n",
    "import torch\n",
    "from torch.autograd import Variable\n",
    "import torch.nn as nn\n",
    "import torch.nn.functional as F\n",
    "\n",
    "from IPython import display"
   ]
  },
  {
   "cell_type": "markdown",
   "metadata": {
    "heading_collapsed": true
   },
   "source": [
    "## Dataset: Leitura, normalização e visualização dos dados"
   ]
  },
  {
   "cell_type": "code",
   "execution_count": 2,
   "metadata": {
    "ExecuteTime": {
     "end_time": "2017-11-24T15:13:02.698835",
     "start_time": "2017-11-24T15:13:02.490174"
    },
    "hidden": true
   },
   "outputs": [
    {
     "data": {
      "image/png": "[encoded data removed]",
      "text/plain": [
       "<matplotlib.figure.Figure at 0x10ef8db38>"
      ]
     },
     "metadata": {},
     "output_type": "display_data"
    }
   ],
   "source": [
    "iris = load_iris()\n",
    "X = iris.data[:,::2]  # comprimento das sépalas e pétalas, indices 0 e 2\n",
    "# normalização\n",
    "Xc = X - X.min(axis=0)\n",
    "Xs = Xc.max(axis=0)\n",
    "Xc = Xc/Xs\n",
    "\n",
    "Y = iris.target\n",
    "colors = np.array(['r','y','b'])\n",
    "plt.scatter(Xc[:, 0], Xc[:, 1], c=colors[Y])\n",
    "plt.xlabel('Sepal length')\n",
    "plt.ylabel('Sepal width')\n",
    "plt.show()"
   ]
  },
  {
   "cell_type": "markdown",
   "metadata": {
    "hidden": true
   },
   "source": [
    "### Prepara os dados para o PyTorch"
   ]
  },
  {
   "cell_type": "code",
   "execution_count": 3,
   "metadata": {
    "ExecuteTime": {
     "end_time": "2017-11-24T15:13:02.704243",
     "start_time": "2017-11-24T15:13:02.700520"
    },
    "collapsed": true,
    "hidden": true
   },
   "outputs": [],
   "source": [
    "X_tensor = torch.FloatTensor(Xc)  # Entrada é FloatTensor\n",
    "Y_tensor = torch.LongTensor(Y)    # Classe é LongTensor"
   ]
  },
  {
   "cell_type": "markdown",
   "metadata": {
    "heading_collapsed": true
   },
   "source": [
    "## Construindo o modelo da rede"
   ]
  },
  {
   "cell_type": "markdown",
   "metadata": {
    "hidden": true
   },
   "source": [
    "A saída da rede é composta por um neurônio para cada classe. A saída é denominada *scores* ou logitos:\n",
    "\n",
    "<img src='../figures/RegressaoLogisticaRede_2_3.png',width=400></a>"
   ]
  },
  {
   "cell_type": "code",
   "execution_count": 4,
   "metadata": {
    "ExecuteTime": {
     "end_time": "2017-11-24T15:13:02.709235",
     "start_time": "2017-11-24T15:13:02.706025"
    },
    "collapsed": true,
    "hidden": true
   },
   "outputs": [],
   "source": [
    "model = nn.Linear(2,3)  # 2 entradas e 3 saídas"
   ]
  },
  {
   "cell_type": "markdown",
   "metadata": {
    "hidden": true
   },
   "source": [
    "### Fazendo um predict"
   ]
  },
  {
   "cell_type": "code",
   "execution_count": 5,
   "metadata": {
    "ExecuteTime": {
     "end_time": "2017-11-24T15:13:02.716921",
     "start_time": "2017-11-24T15:13:02.711064"
    },
    "hidden": true
   },
   "outputs": [
    {
     "data": {
      "text/plain": [
       "Variable containing:\n",
       "-0.4342 -0.5073  0.1803\n",
       "-0.4480 -0.5401  0.2113\n",
       "-0.4549 -0.5732  0.2357\n",
       "-0.4757 -0.5892  0.2647\n",
       "[torch.FloatTensor of size 4x3]"
      ]
     },
     "execution_count": 5,
     "metadata": {},
     "output_type": "execute_result"
    }
   ],
   "source": [
    "out = model(Variable(X_tensor[:4,:])) # 4 amostras\n",
    "out"
   ]
  },
  {
   "cell_type": "markdown",
   "metadata": {
    "hidden": true
   },
   "source": [
    "### Calculando as probabilidades com Softmax"
   ]
  },
  {
   "cell_type": "markdown",
   "metadata": {
    "hidden": true
   },
   "source": [
    "- [Wikipedia:Softmax_function](https://en.wikipedia.org/wiki/Softmax_function)"
   ]
  },
  {
   "cell_type": "markdown",
   "metadata": {
    "hidden": true
   },
   "source": [
    "<img src='../figures/softmax.png', width=600>"
   ]
  },
  {
   "cell_type": "code",
   "execution_count": 6,
   "metadata": {
    "ExecuteTime": {
     "end_time": "2017-11-24T15:13:02.725853",
     "start_time": "2017-11-24T15:13:02.718629"
    },
    "hidden": true
   },
   "outputs": [
    {
     "data": {
      "text/plain": [
       "Variable containing:\n",
       " 26.4681  24.6026  48.9292\n",
       " 26.0038  23.7159  50.2803\n",
       " 25.7503  22.8790  51.3706\n",
       " 25.0652  22.3758  52.5589\n",
       "[torch.FloatTensor of size 4x3]"
      ]
     },
     "execution_count": 6,
     "metadata": {},
     "output_type": "execute_result"
    }
   ],
   "source": [
    "F.softmax(out)*100"
   ]
  },
  {
   "cell_type": "markdown",
   "metadata": {
    "hidden": true
   },
   "source": [
    "### Predição da classe"
   ]
  },
  {
   "cell_type": "code",
   "execution_count": 7,
   "metadata": {
    "ExecuteTime": {
     "end_time": "2017-11-24T15:13:02.732583",
     "start_time": "2017-11-24T15:13:02.727745"
    },
    "hidden": true
   },
   "outputs": [
    {
     "data": {
      "text/plain": [
       "Variable containing:\n",
       " 2\n",
       " 2\n",
       " 2\n",
       " 2\n",
       "[torch.LongTensor of size 4]"
      ]
     },
     "execution_count": 7,
     "metadata": {},
     "output_type": "execute_result"
    }
   ],
   "source": [
    "_,y_pred = torch.max(out,1)\n",
    "y_pred"
   ]
  },
  {
   "cell_type": "markdown",
   "metadata": {
    "heading_collapsed": true
   },
   "source": [
    "## Treinamento"
   ]
  },
  {
   "cell_type": "markdown",
   "metadata": {
    "hidden": true
   },
   "source": [
    "### Classe para visualização dinâmica"
   ]
  },
  {
   "cell_type": "code",
   "execution_count": 8,
   "metadata": {
    "ExecuteTime": {
     "end_time": "2017-11-24T15:13:02.897866",
     "start_time": "2017-11-24T15:13:02.734282"
    },
    "collapsed": true,
    "hidden": true
   },
   "outputs": [],
   "source": [
    "def predict(model, inputs):\n",
    "    outputs = model(Variable(inputs))\n",
    "    _, predicts = torch.max(outputs, 1)\n",
    "    \n",
    "    return predicts.data.numpy()\n",
    "\n",
    "def predict_prob(model, inputs):\n",
    "    outputs = model(Variable(inputs))\n",
    "    outputs = nn.functional.softmax(outputs)\n",
    "    predicts, _ = torch.max(outputs, 1)\n",
    "    \n",
    "    return predicts.data.numpy()\n",
    "\n",
    "class MyPlotter():\n",
    "    def __init__(self, model, X, Y, n_epoch, filepath=None, h = .01):\n",
    "        self.model = model\n",
    "        self.X = X\n",
    "        self.Y = Y\n",
    "        self.n_epoch = n_epoch\n",
    "        self.filepath = filepath\n",
    "        x_min, x_max = X[:, 0].min() - .5, X[:, 0].max() + .5\n",
    "        y_min, y_max = X[:, 1].min() - .5, X[:, 1].max() + .5\n",
    "        self.xx, self.yy = np.meshgrid(np.arange(x_min, x_max, h), np.arange(y_min, y_max, h))\n",
    "        self.loss_hist = []\n",
    "        self.val_loss_hist = []\n",
    "        self.X_grid = np.c_[self.xx.ravel(), self.yy.ravel()]\n",
    "        \n",
    "        #Gráficos a serem mostrados pelo callback\n",
    "        self.fig = plt.figure(figsize=(12, 4), dpi=100)\n",
    "        self.ax1 = self.fig.add_subplot(1, 3, 1)\n",
    "        self.ax1.set_xlim(0, nb_epoch)\n",
    "        self.ax1.set_xlabel('Epoca')#,fontsize=28)\n",
    "        self.ax1.set_ylabel('Perda')#,fontsize=28)\n",
    "        self.ax1.set_title('Perda x Época')\n",
    "        self.ax1.plot([],[],'b',linewidth = 2.0,label = \"Treino\")\n",
    "        self.ax1.grid(True)\n",
    "\n",
    "        self.ax2 = self.fig.add_subplot(1, 3, 2)\n",
    "        self.ax2.set_xlim(Xc[:,0].min(), Xc[:,0].max())\n",
    "        self.ax2.set_ylim(Xc[:,1].min(), Xc[:,1].max())\n",
    "        self.ax2.set_xlabel('Comprimento da Sepala')#,fontsize=28)\n",
    "        self.ax2.set_ylabel('Largura da Sepala')#,fontsize=28)\n",
    "        self.ax2.set_title('Fronteiras de decisão')\n",
    "\n",
    "        self.ax3 = self.fig.add_subplot(1, 3, 3)\n",
    "        self.ax3.set_xlim(Xc[:,0].min(), Xc[:,0].max())\n",
    "        self.ax3.set_ylim(Xc[:,1].min(), Xc[:,1].max())\n",
    "        self.ax3.set_xlabel('Comprimento da Sepala')#,fontsize=28)\n",
    "        self.ax3.set_ylabel('Largura da Sepala')#,fontsize=28)\n",
    "        self.ax3.set_title('Máxima probabilidade')\n",
    "\n",
    "    def on_train_begin(self, logs={}):\n",
    "        display.display(self.fig)\n",
    "        display.clear_output(wait=True)\n",
    "\n",
    "    def on_epoch_end(self, epoch, logs={}):\n",
    "        if 'loss' in logs.keys():\n",
    "            self.loss_hist.append(logs['loss'])\n",
    "            \n",
    "            if epoch%250==0:\n",
    "                self.ax1.plot(np.arange(epoch+1), self.loss_hist, 'b', linewidth = 2.0)\n",
    "                \n",
    "                #Z = predict(self.model, torch.from_numpy(self.X_grid).type(torch.FloatTensor))\n",
    "                Zc = predict(self.model,torch.FloatTensor(self.X_grid))\n",
    "                Zc = Zc.reshape(self.xx.shape)\n",
    "                \n",
    "                self.ax2.pcolormesh(self.xx, self.yy, Zc, cmap=plt.cm.Paired)\n",
    "                colors = np.array(['r','y','b'])\n",
    "                self.ax2.scatter(self.X[:, 0], self.X[:, 1], s=40, c=colors[self.Y], edgecolors='k', cmap=plt.cm.Paired)\n",
    "                    \n",
    "                Zp = predict_prob(self.model,torch.FloatTensor(self.X_grid))\n",
    "                Zp = Zp.reshape(self.xx.shape)\n",
    "\n",
    "                self.ax3.pcolormesh(self.xx, self.yy, Zp, cmap=plt.cm.magma)\n",
    "                colors = np.array(['r','y','b'])\n",
    "                self.ax3.scatter(self.X[:, 0], self.X[:, 1], s=40, c=colors[self.Y], edgecolors='k', cmap=plt.cm.Paired)\n",
    "\n",
    "                display.display(self.fig)\n",
    "                display.clear_output(wait=True)"
   ]
  },
  {
   "cell_type": "markdown",
   "metadata": {
    "hidden": true
   },
   "source": [
    "### Laço principal de treinamento da Regressão Logística por Softmax"
   ]
  },
  {
   "cell_type": "code",
   "execution_count": 9,
   "metadata": {
    "ExecuteTime": {
     "end_time": "2017-11-24T15:13:02.903773",
     "start_time": "2017-11-24T15:13:02.899879"
    },
    "collapsed": true,
    "hidden": true
   },
   "outputs": [],
   "source": [
    "lr = 0.15\n",
    "\n",
    "optimizer = torch.optim.SGD(model.parameters(), lr=lr)\n",
    "criterion = nn.CrossEntropyLoss()"
   ]
  },
  {
   "cell_type": "code",
   "execution_count": 10,
   "metadata": {
    "ExecuteTime": {
     "end_time": "2017-11-24T15:13:16.286475",
     "start_time": "2017-11-24T15:13:02.905939"
    },
    "hidden": true,
    "scrolled": false
   },
   "outputs": [
    {
     "name": "stdout",
     "output_type": "stream",
     "text": [
      "Final loss: 0.3188087046146393\n"
     ]
    },
    {
     "data": {
      "image/png": "[encoded data removed]",
      "text/plain": [
       "<matplotlib.figure.Figure at 0x1a1de68630>"
      ]
     },
     "metadata": {},
     "output_type": "display_data"
    }
   ],
   "source": [
    "nb_epoch = 3000\n",
    "\n",
    "#Definindo o plotter\n",
    "my_plot = MyPlotter(model, Xc, Y, nb_epoch)\n",
    "\n",
    "losses = []\n",
    "for i in range(nb_epoch):\n",
    "    # predict da rede\n",
    "    output = model(Variable(X_tensor))\n",
    "\n",
    "    # calcula a perda\n",
    "    loss = criterion(output, Variable(Y_tensor))\n",
    "\n",
    "    # Faz o backpropagation para calcular os gradientes e otimizar parâmetros\n",
    "    optimizer.zero_grad()\n",
    "    loss.backward()\n",
    "    optimizer.step()\n",
    "    \n",
    "    losses.append(loss.data[0])\n",
    "    \n",
    "    my_plot.on_epoch_end(i, {'loss': loss.data[0]});\n",
    "    \n",
    "print('Final loss:', loss.data[0])"
   ]
  },
  {
   "cell_type": "markdown",
   "metadata": {
    "heading_collapsed": true
   },
   "source": [
    "## Avaliação"
   ]
  },
  {
   "cell_type": "markdown",
   "metadata": {
    "hidden": true
   },
   "source": [
    "### Parâmetros após treinamento"
   ]
  },
  {
   "cell_type": "code",
   "execution_count": 11,
   "metadata": {
    "ExecuteTime": {
     "end_time": "2017-11-24T15:13:16.292920",
     "start_time": "2017-11-24T15:13:16.288219"
    },
    "hidden": true,
    "scrolled": false
   },
   "outputs": [
    {
     "data": {
      "text/plain": [
       "OrderedDict([('weight', \n",
       "              -2.4129 -9.1045\n",
       "               0.3958  0.9481\n",
       "               2.2984  8.1548\n",
       "              [torch.FloatTensor of size 3x2]), ('bias', \n",
       "               4.1932\n",
       "               0.3453\n",
       "              -5.3621\n",
       "              [torch.FloatTensor of size 3])])"
      ]
     },
     "execution_count": 11,
     "metadata": {},
     "output_type": "execute_result"
    }
   ],
   "source": [
    "model.state_dict()"
   ]
  },
  {
   "cell_type": "markdown",
   "metadata": {
    "hidden": true
   },
   "source": [
    "### Salvando os parâmetros treinados"
   ]
  },
  {
   "cell_type": "code",
   "execution_count": 12,
   "metadata": {
    "ExecuteTime": {
     "end_time": "2017-11-24T15:13:16.298758",
     "start_time": "2017-11-24T15:13:16.294468"
    },
    "collapsed": true,
    "hidden": true
   },
   "outputs": [],
   "source": [
    "os.makedirs('../../models',exist_ok=True)\n",
    "torch.save(model.state_dict(),'../../models/RegrLog_Iris.pt')"
   ]
  },
  {
   "cell_type": "code",
   "execution_count": 13,
   "metadata": {
    "ExecuteTime": {
     "end_time": "2017-11-24T15:13:16.305866",
     "start_time": "2017-11-24T15:13:16.300553"
    },
    "hidden": true
   },
   "outputs": [
    {
     "data": {
      "text/plain": [
       "Parameter containing:\n",
       " 0  0\n",
       " 0  0\n",
       " 0  0\n",
       "[torch.FloatTensor of size 3x2]"
      ]
     },
     "execution_count": 13,
     "metadata": {},
     "output_type": "execute_result"
    }
   ],
   "source": [
    "nn.init.constant(model.weight,0)"
   ]
  },
  {
   "cell_type": "markdown",
   "metadata": {
    "hidden": true
   },
   "source": [
    "### Recuperando os pesos salvos"
   ]
  },
  {
   "cell_type": "code",
   "execution_count": 14,
   "metadata": {
    "ExecuteTime": {
     "end_time": "2017-11-24T15:13:16.311766",
     "start_time": "2017-11-24T15:13:16.307622"
    },
    "collapsed": true,
    "hidden": true
   },
   "outputs": [],
   "source": [
    "param_saved = torch.load('../../models/RegrLog_Iris.pt')\n",
    "model.load_state_dict(param_saved)"
   ]
  },
  {
   "cell_type": "markdown",
   "metadata": {
    "hidden": true
   },
   "source": [
    "### Exatidão (acurácia) do classificador"
   ]
  },
  {
   "cell_type": "markdown",
   "metadata": {
    "hidden": true
   },
   "source": [
    "Acurácia indica o número de acertos sobre o número total de amostras"
   ]
  },
  {
   "cell_type": "code",
   "execution_count": 15,
   "metadata": {
    "ExecuteTime": {
     "end_time": "2017-11-24T15:13:16.318769",
     "start_time": "2017-11-24T15:13:16.313583"
    },
    "hidden": true
   },
   "outputs": [
    {
     "name": "stdout",
     "output_type": "stream",
     "text": [
      "Training Accuracy:  0.92\n"
     ]
    }
   ],
   "source": [
    "Y_pred = predict(model, X_tensor)\n",
    "accuracy = (Y_pred == Y).mean()\n",
    "print('Training Accuracy: ', accuracy)"
   ]
  },
  {
   "cell_type": "markdown",
   "metadata": {
    "hidden": true
   },
   "source": [
    "### Matriz de confusão"
   ]
  },
  {
   "cell_type": "code",
   "execution_count": 16,
   "metadata": {
    "ExecuteTime": {
     "end_time": "2017-11-24T15:13:16.342382",
     "start_time": "2017-11-24T15:13:16.320731"
    },
    "hidden": true
   },
   "outputs": [
    {
     "data": {
      "text/html": [
       "<div>\n",
       "<style>\n",
       "    .dataframe thead tr:only-child th {\n",
       "        text-align: right;\n",
       "    }\n",
       "\n",
       "    .dataframe thead th {\n",
       "        text-align: left;\n",
       "    }\n",
       "\n",
       "    .dataframe tbody tr th {\n",
       "        vertical-align: top;\n",
       "    }\n",
       "</style>\n",
       "<table border=\"1\" class=\"dataframe\">\n",
       "  <thead>\n",
       "    <tr style=\"text-align: right;\">\n",
       "      <th>col_0</th>\n",
       "      <th>0</th>\n",
       "      <th>1</th>\n",
       "      <th>2</th>\n",
       "    </tr>\n",
       "    <tr>\n",
       "      <th>row_0</th>\n",
       "      <th></th>\n",
       "      <th></th>\n",
       "      <th></th>\n",
       "    </tr>\n",
       "  </thead>\n",
       "  <tbody>\n",
       "    <tr>\n",
       "      <th>0</th>\n",
       "      <td>50</td>\n",
       "      <td>0</td>\n",
       "      <td>0</td>\n",
       "    </tr>\n",
       "    <tr>\n",
       "      <th>1</th>\n",
       "      <td>0</td>\n",
       "      <td>43</td>\n",
       "      <td>5</td>\n",
       "    </tr>\n",
       "    <tr>\n",
       "      <th>2</th>\n",
       "      <td>0</td>\n",
       "      <td>7</td>\n",
       "      <td>45</td>\n",
       "    </tr>\n",
       "  </tbody>\n",
       "</table>\n",
       "</div>"
      ],
      "text/plain": [
       "col_0   0   1   2\n",
       "row_0            \n",
       "0      50   0   0\n",
       "1       0  43   5\n",
       "2       0   7  45"
      ]
     },
     "execution_count": 16,
     "metadata": {},
     "output_type": "execute_result"
    }
   ],
   "source": [
    "import pandas as pd\n",
    "pd.crosstab(Y_pred, Y)"
   ]
  },
  {
   "cell_type": "markdown",
   "metadata": {
    "heading_collapsed": true
   },
   "source": [
    "## Atividades"
   ]
  },
  {
   "cell_type": "markdown",
   "metadata": {
    "hidden": true
   },
   "source": [
    "### Perguntas:"
   ]
  },
  {
   "cell_type": "markdown",
   "metadata": {
    "hidden": true
   },
   "source": [
    "1. Observe que se após o treinamento, a célula for executada novamente, ela continua utilizando os parâmetros treinados até sua última execução. O que é preciso fazer para que o treinamento comece deste o início, como da primeira vez que foi executado?\n",
    "2. Quantos parâmetros possui esta rede? Quantos são da camada densa e quantos são de bias?\n",
    "3. Quantas entradas e quantas saídas esta rede possui?\n",
    "4. Como se pode calcular a acurácia a partir da matriz de confusão?\n",
    "5. O que faz a função `torch.max`? Quantos parâmetros ela retorna e quais seus significados?\n",
    "    - http://pytorch.org/docs/master/torch.html?highlight=torch%20max#torch.max"
   ]
  },
  {
   "cell_type": "markdown",
   "metadata": {
    "hidden": true
   },
   "source": [
    "### Exercícios:"
   ]
  },
  {
   "cell_type": "markdown",
   "metadata": {
    "hidden": true
   },
   "source": [
    "1. Experimente refazer o treinamento com diferentes valores de learning rate\n",
    "2. Na opção de mostrar o valor das probabilidades no gráfico do espaço de atributos,\n",
    "troque a tabela de cores **magma** utilizada no `pcolormesh` que está com o parâmetro `cmap=plt.cm.magma`. Escolha a tabela de cores consultando o manual do matplotlib:\n",
    "    - https://matplotlib.org/users/colormaps.html\n",
    "3. Qual é a amostra classificada corretamente, com maior probabilidade?\n",
    "4. Qual é a amostra classificada erradamente, com maior probabilidade?\n",
    "5. Qual é a amostra classificada corretamente, com menor probabilidade?\n",
    "6. Qual é a amostra classificada erradamente, com menor probabilidade?"
   ]
  },
  {
   "cell_type": "markdown",
   "metadata": {
    "heading_collapsed": true
   },
   "source": [
    "## Principais aprendizados"
   ]
  },
  {
   "cell_type": "code",
   "execution_count": null,
   "metadata": {
    "collapsed": true,
    "hidden": true
   },
   "outputs": [],
   "source": []
  }
 ],
 "metadata": {
  "kernelspec": {
   "display_name": "Python 3",
   "language": "python",
   "name": "python3"
  },
  "language_info": {
   "codemirror_mode": {
    "name": "ipython",
    "version": 3
   },
   "file_extension": ".py",
   "mimetype": "text/x-python",
   "name": "python",
   "nbconvert_exporter": "python",
   "pygments_lexer": "ipython3",
   "version": "3.6.0"
  },
  "toc": {
   "colors": {
    "hover_highlight": "#DAA520",
    "running_highlight": "#FF0000",
    "selected_highlight": "#FFD700"
   },
   "moveMenuLeft": true,
   "nav_menu": {
    "height": "248px",
    "width": "252px"
   },
   "navigate_menu": true,
   "number_sections": true,
   "sideBar": true,
   "skip_h1_title": false,
   "threshold": 4,
   "toc_cell": false,
   "toc_position": {},
   "toc_section_display": "block",
   "toc_window_display": false
  },
  "varInspector": {
   "cols": {
    "lenName": 16,
    "lenType": 16,
    "lenVar": 40
   },
   "kernels_config": {
    "python": {
     "delete_cmd_postfix": "",
     "delete_cmd_prefix": "del ",
     "library": "var_list.py",
     "varRefreshCmd": "print(var_dic_list())"
    },
    "r": {
     "delete_cmd_postfix": ") ",
     "delete_cmd_prefix": "rm(",
     "library": "var_list.r",
     "varRefreshCmd": "cat(var_dic_list()) "
    }
   },
   "types_to_exclude": [
    "module",
    "function",
    "builtin_function_or_method",
    "instance",
    "_Feature"
   ],
   "window_display": false
  }
 },
 "nbformat": 4,
 "nbformat_minor": 1
}
