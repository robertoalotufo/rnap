{
  "nbformat": 4,
  "nbformat_minor": 0,
  "metadata": {
    "kernelspec": {
      "display_name": "Python 3",
      "language": "python",
      "name": "python3"
    },
    "language_info": {
      "codemirror_mode": {
        "name": "ipython",
        "version": 3
      },
      "file_extension": ".py",
      "mimetype": "text/x-python",
      "name": "python",
      "nbconvert_exporter": "python",
      "pygments_lexer": "ipython3",
      "version": "3.6.5"
    },
    "toc": {
      "base_numbering": 1,
      "nav_menu": {
        "height": "248px",
        "width": "252px"
      },
      "number_sections": true,
      "sideBar": true,
      "skip_h1_title": false,
      "title_cell": "Table of Contents",
      "title_sidebar": "Contents",
      "toc_cell": false,
      "toc_position": {},
      "toc_section_display": "block",
      "toc_window_display": false
    },
    "varInspector": {
      "cols": {
        "lenName": 16,
        "lenType": 16,
        "lenVar": 40
      },
      "kernels_config": {
        "python": {
          "delete_cmd_postfix": "",
          "delete_cmd_prefix": "del ",
          "library": "var_list.py",
          "varRefreshCmd": "print(var_dic_list())"
        },
        "r": {
          "delete_cmd_postfix": ") ",
          "delete_cmd_prefix": "rm(",
          "library": "var_list.r",
          "varRefreshCmd": "cat(var_dic_list()) "
        }
      },
      "types_to_exclude": [
        "module",
        "function",
        "builtin_function_or_method",
        "instance",
        "_Feature"
      ],
      "window_display": false
    },
    "colab": {
      "name": "LogisticRegressionIris.ipynb",
      "provenance": [],
      "collapsed_sections": [],
      "include_colab_link": true
    }
  },
  "cells": [
    {
      "cell_type": "markdown",
      "metadata": {
        "id": "view-in-github",
        "colab_type": "text"
      },
      "source": [
        "<a href=\"https://colab.research.google.com/github/robertoalotufo/rnap/blob/master/PyTorch/LogisticRegressionIris.ipynb\" target=\"_parent\"><img src=\"https://colab.research.google.com/assets/colab-badge.svg\" alt=\"Open In Colab\"/></a>"
      ]
    },
    {
      "cell_type": "markdown",
      "metadata": {
        "id": "2szUrx4aAHY1"
      },
      "source": [
        "# Iris dataset - Regressão Logística - 3 classes"
      ]
    },
    {
      "cell_type": "markdown",
      "metadata": {
        "id": "tWbSeffTAHY2"
      },
      "source": [
        "## Objetivos"
      ]
    },
    {
      "cell_type": "markdown",
      "metadata": {
        "id": "E65C-CTEAHY3"
      },
      "source": [
        "Este notebook ilustra o problema de classificação.\n",
        "\n",
        "O objetivo é classificar as amostras da Íris em 3 classes.\n",
        "- o alvo é o índice da classe: 0, 1 ou 2\n",
        "- função de perda é Entropia Cruzada\n",
        "- rede é uma camada densa linear com duas entradas e três saídas (n. de classes)"
      ]
    },
    {
      "cell_type": "markdown",
      "metadata": {
        "id": "75lMJrkRAHY4"
      },
      "source": [
        "<img src='https://raw.githubusercontent.com/robertoalotufo/files/master/figures/RegressaoSoftmax_CrossEntropy_Otimizacao.png' width=\"700\"></img>\n",
        "<img src='https://raw.githubusercontent.com/robertoalotufo/files/master/figures/softmax.png' width=\"600\">"
      ]
    },
    {
      "cell_type": "markdown",
      "metadata": {
        "id": "VHhfeBF_AHY5"
      },
      "source": [
        "## Entropia Cruzada com one-hot encoding"
      ]
    },
    {
      "cell_type": "markdown",
      "metadata": {
        "id": "tsqph6arAHY6"
      },
      "source": [
        "$$ H(p,q) = - \\sum_i q_i log(p_i) $$ \n",
        "p é a probabilidade da predição e q é a probabilidade do target (one-hot)"
      ]
    },
    {
      "cell_type": "markdown",
      "metadata": {
        "id": "umNxCL6PAHY7"
      },
      "source": [
        "com hot encoding: $q_i = 0$ para $ i \\neq y$ onde $y$ é a classe target ($ q_y = 1$). Assim:"
      ]
    },
    {
      "cell_type": "markdown",
      "metadata": {
        "id": "KyVwgcLMAHY8"
      },
      "source": [
        "$$ H(p,y) = - log(p_y) $$ onde $y$ é o índice da classe target e $p_y$ é a probabilidade predita da classe $y$."
      ]
    },
    {
      "cell_type": "markdown",
      "metadata": {
        "id": "0qYbH8AvAHY9"
      },
      "source": [
        "## Entropia Cruzada do Softmax dos logitos"
      ]
    },
    {
      "cell_type": "markdown",
      "metadata": {
        "id": "kWn1_ahrAHY-"
      },
      "source": [
        "$$ S(z_i) = \\frac{e^{z_i}}{\\sum_j e^{z_j}} $$"
      ]
    },
    {
      "cell_type": "markdown",
      "metadata": {
        "id": "ueOREfzgAHY_"
      },
      "source": [
        "$$ p_i = S(z_i) $$\n",
        "$$ H(S(z),y) = -log(S(z_y))$$"
      ]
    },
    {
      "cell_type": "markdown",
      "metadata": {
        "id": "iuhMIwxHAHY_"
      },
      "source": [
        "$$ H(z,y) = -z_y + log( \\sum_j e^{z_j} ) $$"
      ]
    },
    {
      "cell_type": "markdown",
      "metadata": {
        "id": "UXKoQy1LAHZA"
      },
      "source": [
        "## Importação das bibliotecas"
      ]
    },
    {
      "cell_type": "code",
      "metadata": {
        "ExecuteTime": {
          "end_time": "2019-11-25T00:34:53.236718Z",
          "start_time": "2019-11-25T00:34:49.260665Z"
        },
        "id": "Y7gIjqy6AHZB"
      },
      "source": [
        "%matplotlib inline\n",
        "import os\n",
        "from sklearn.datasets import load_iris\n",
        "import numpy as np\n",
        "import matplotlib.pyplot as plt\n",
        "import pandas as pd\n",
        "\n",
        "import torch\n",
        "import torch.nn as nn\n",
        "import torch.nn.functional as F\n",
        "\n",
        "from IPython import display"
      ],
      "execution_count": 1,
      "outputs": []
    },
    {
      "cell_type": "markdown",
      "metadata": {
        "id": "fc61F1YTAHZD"
      },
      "source": [
        "## Dataset: Leitura, normalização e visualização dos dados\n",
        "**Exercício**: No cálculo de Xc abaixo, qual é a dimensão de Xc? Por que os valores de min e max foram calculados com axis=0? O que acontece se tirar o parâmetros axis?"
      ]
    },
    {
      "cell_type": "code",
      "metadata": {
        "ExecuteTime": {
          "end_time": "2019-11-25T00:34:53.836273Z",
          "start_time": "2019-11-25T00:34:53.240278Z"
        },
        "id": "bysKIOA_AHZE",
        "colab": {
          "base_uri": "https://localhost:8080/",
          "height": 279
        },
        "outputId": "f4eaea8b-8352-4264-9ec3-a61970358aaf"
      },
      "source": [
        "iris = load_iris()\n",
        "X = iris.data[:,::2]  # comprimento das sépalas e pétalas, indices 0 e 2\n",
        "# normalização\n",
        "Xc = (X - X.min(axis=0))/(X.max(axis=0) - X.min(axis=0))\n",
        "\n",
        "Y = iris.target\n",
        "colors = np.array(['r','y','b'])\n",
        "plt.scatter(Xc[:, 0], Xc[:, 1], c=colors[Y])\n",
        "plt.xlabel('Sepal length')\n",
        "plt.ylabel('Sepal width')\n",
        "plt.show()"
      ],
      "execution_count": 2,
      "outputs": [
        {
          "output_type": "display_data",
          "data": {
            "text/plain": [
              "<Figure size 432x288 with 1 Axes>"
            ],
            "image/png": "[encoded data removed]"
          },
          "metadata": {
            "needs_background": "light"
          }
        }
      ]
    },
    {
      "cell_type": "markdown",
      "metadata": {
        "id": "oim2-uC8AHZI"
      },
      "source": [
        "### Prepara os dados para o PyTorch"
      ]
    },
    {
      "cell_type": "code",
      "metadata": {
        "ExecuteTime": {
          "end_time": "2019-11-25T00:34:53.866356Z",
          "start_time": "2019-11-25T00:34:53.844748Z"
        },
        "id": "Q9u_46Y4AHZI"
      },
      "source": [
        "X_tensor = torch.FloatTensor(Xc)  # Entrada é FloatTensor\n",
        "Y_tensor = torch.LongTensor(Y)    # Classe é LongTensor"
      ],
      "execution_count": 3,
      "outputs": []
    },
    {
      "cell_type": "markdown",
      "metadata": {
        "id": "zCBJu7XoAHZL"
      },
      "source": [
        "## Construindo o modelo da rede"
      ]
    },
    {
      "cell_type": "markdown",
      "metadata": {
        "id": "um8zN3kNAHZM"
      },
      "source": [
        "A saída da rede é composta por um neurônio para cada classe. A saída é denominada *scores* ou logitos:\n",
        "\n",
        "<img src='https://raw.githubusercontent.com/robertoalotufo/files/master/figures/RegressaoLogisticaRede_2_3.png' width=\"400\"></a>"
      ]
    },
    {
      "cell_type": "code",
      "metadata": {
        "ExecuteTime": {
          "end_time": "2019-11-25T00:34:53.891482Z",
          "start_time": "2019-11-25T00:34:53.870156Z"
        },
        "id": "Oi987Y7QAHZN"
      },
      "source": [
        "model = nn.Linear(2,3)  # 2 entradas e 3 saídas"
      ],
      "execution_count": 4,
      "outputs": []
    },
    {
      "cell_type": "markdown",
      "metadata": {
        "id": "PaU3lkxiAHZP"
      },
      "source": [
        "### Fazendo um predict"
      ]
    },
    {
      "cell_type": "code",
      "metadata": {
        "ExecuteTime": {
          "end_time": "2019-11-25T00:34:53.972455Z",
          "start_time": "2019-11-25T00:34:53.900981Z"
        },
        "id": "60nio-mYAHZQ",
        "colab": {
          "base_uri": "https://localhost:8080/"
        },
        "outputId": "574460b3-5c69-4656-819b-4ab789a8bbe4"
      },
      "source": [
        "out = model( X_tensor[:4,:]) # 4 amostras\n",
        "out"
      ],
      "execution_count": 5,
      "outputs": [
        {
          "output_type": "execute_result",
          "data": {
            "text/plain": [
              "tensor([[ 0.1274, -0.1121, -0.2251],\n",
              "        [ 0.0958, -0.0884, -0.2617],\n",
              "        [ 0.0731, -0.0685, -0.2959],\n",
              "        [ 0.0395, -0.0488, -0.3190]], grad_fn=<AddmmBackward0>)"
            ]
          },
          "metadata": {},
          "execution_count": 5
        }
      ]
    },
    {
      "cell_type": "markdown",
      "metadata": {
        "id": "hSPu48voAHZS"
      },
      "source": [
        "### Calculando as probabilidades com Softmax"
      ]
    },
    {
      "cell_type": "markdown",
      "metadata": {
        "id": "XLfLPA6PAHZT"
      },
      "source": [
        "- [Wikipedia:Softmax_function](https://en.wikipedia.org/wiki/Softmax_function)"
      ]
    },
    {
      "cell_type": "markdown",
      "metadata": {
        "id": "fgAYTlP5AHZU"
      },
      "source": [
        "<img src='https://raw.githubusercontent.com/robertoalotufo/files/master/figures/softmax.png' width=\"600\">"
      ]
    },
    {
      "cell_type": "code",
      "metadata": {
        "ExecuteTime": {
          "end_time": "2019-11-25T00:34:53.995504Z",
          "start_time": "2019-11-25T00:34:53.975979Z"
        },
        "id": "BM-4qdlkAHZU",
        "colab": {
          "base_uri": "https://localhost:8080/"
        },
        "outputId": "10855e63-da97-42c3-cb0f-aff133fb0b77"
      },
      "source": [
        "F.softmax(out,dim=1)*100"
      ],
      "execution_count": 6,
      "outputs": [
        {
          "output_type": "execute_result",
          "data": {
            "text/plain": [
              "tensor([[40.1622, 31.6075, 28.2304],\n",
              "        [39.5064, 32.8619, 27.6317],\n",
              "        [39.0709, 33.9140, 27.0150],\n",
              "        [38.2517, 35.0195, 26.7288]], grad_fn=<MulBackward0>)"
            ]
          },
          "metadata": {},
          "execution_count": 6
        }
      ]
    },
    {
      "cell_type": "markdown",
      "metadata": {
        "id": "sRr36SWEAHZX"
      },
      "source": [
        "### Predição da classe"
      ]
    },
    {
      "cell_type": "code",
      "metadata": {
        "ExecuteTime": {
          "end_time": "2019-11-25T00:34:54.014365Z",
          "start_time": "2019-11-25T00:34:54.001320Z"
        },
        "id": "uil4Z9JIAHZX",
        "colab": {
          "base_uri": "https://localhost:8080/"
        },
        "outputId": "39d45989-b8d2-47b3-93ae-7230a7e3169a"
      },
      "source": [
        "_,y_pred = torch.max(out,1)\n",
        "_, y_pred"
      ],
      "execution_count": 7,
      "outputs": [
        {
          "output_type": "execute_result",
          "data": {
            "text/plain": [
              "(tensor([0.1274, 0.0958, 0.0731, 0.0395], grad_fn=<MaxBackward0>),\n",
              " tensor([0, 0, 0, 0]))"
            ]
          },
          "metadata": {},
          "execution_count": 7
        }
      ]
    },
    {
      "cell_type": "markdown",
      "metadata": {
        "id": "htDCwQh-AHZa"
      },
      "source": [
        "## Treinamento"
      ]
    },
    {
      "cell_type": "markdown",
      "metadata": {
        "id": "yfA71t0ZAHZb"
      },
      "source": [
        "### Classe para visualização dinâmica"
      ]
    },
    {
      "cell_type": "code",
      "metadata": {
        "ExecuteTime": {
          "end_time": "2019-11-25T00:34:54.061703Z",
          "start_time": "2019-11-25T00:34:54.018879Z"
        },
        "id": "MiQxkcucAHZb"
      },
      "source": [
        "def predict(model, inputs):\n",
        "    outputs = model(inputs)\n",
        "    _, predicts = torch.max(outputs, 1)\n",
        "    \n",
        "    return predicts.data.numpy()\n",
        "\n",
        "def predict_prob(model, inputs):\n",
        "    outputs = model(inputs)\n",
        "    outputs = F.softmax(outputs,dim=1)\n",
        "    predicts, _ = torch.max(outputs, 1)\n",
        "    \n",
        "    return predicts.data.numpy()\n",
        "\n",
        "class MyPlotter():\n",
        "    def __init__(self, model, X, Y, n_epoch, filepath=None, h = .01):\n",
        "        self.model = model\n",
        "        self.X = X\n",
        "        self.Y = Y\n",
        "        self.n_epoch = n_epoch\n",
        "        self.filepath = filepath\n",
        "        x_min, x_max = X[:, 0].min() - .5, X[:, 0].max() + .5\n",
        "        y_min, y_max = X[:, 1].min() - .5, X[:, 1].max() + .5\n",
        "        self.xx, self.yy = np.meshgrid(np.arange(x_min, x_max, h), np.arange(y_min, y_max, h))\n",
        "        self.loss_hist = []\n",
        "        self.val_loss_hist = []\n",
        "        self.X_grid = np.c_[self.xx.ravel(), self.yy.ravel()]\n",
        "        \n",
        "        #Gráficos a serem mostrados pelo callback\n",
        "        self.fig = plt.figure(figsize=(12, 4), dpi=100)\n",
        "        self.ax1 = self.fig.add_subplot(1, 3, 1)\n",
        "        self.ax1.set_xlim(0, nb_epoch)\n",
        "        self.ax1.set_xlabel('Epoca')#,fontsize=28)\n",
        "        self.ax1.set_ylabel('Perda')#,fontsize=28)\n",
        "        self.ax1.set_title('Perda x Época')\n",
        "        self.ax1.plot([],[],'b',linewidth = 2.0,label = \"Treino\")\n",
        "        self.ax1.grid(True)\n",
        "\n",
        "        self.ax2 = self.fig.add_subplot(1, 3, 2)\n",
        "        self.ax2.set_xlim(Xc[:,0].min(), Xc[:,0].max())\n",
        "        self.ax2.set_ylim(Xc[:,1].min(), Xc[:,1].max())\n",
        "        self.ax2.set_xlabel('Comprimento da Sepala')#,fontsize=28)\n",
        "        self.ax2.set_ylabel('Largura da Sepala')#,fontsize=28)\n",
        "        self.ax2.set_title('Fronteiras de decisão')\n",
        "\n",
        "        self.ax3 = self.fig.add_subplot(1, 3, 3)\n",
        "        self.ax3.set_xlim(Xc[:,0].min(), Xc[:,0].max())\n",
        "        self.ax3.set_ylim(Xc[:,1].min(), Xc[:,1].max())\n",
        "        self.ax3.set_xlabel('Comprimento da Sepala')#,fontsize=28)\n",
        "        self.ax3.set_ylabel('Largura da Sepala')#,fontsize=28)\n",
        "        self.ax3.set_title('Máxima probabilidade')\n",
        "\n",
        "    def on_train_begin(self, logs={}):\n",
        "        display.display(self.fig)\n",
        "        display.clear_output(wait=True)\n",
        "\n",
        "    def on_epoch_end(self, epoch, logs={}):\n",
        "        if 'loss' in logs.keys():\n",
        "            self.loss_hist.append(logs['loss'])\n",
        "            \n",
        "            if epoch%250==0:\n",
        "                self.ax1.plot(np.arange(epoch+1), self.loss_hist, 'b', linewidth = 2.0)\n",
        "                \n",
        "                #Z = predict(self.model, torch.from_numpy(self.X_grid).type(torch.FloatTensor))\n",
        "                Zc = predict(self.model,torch.FloatTensor(self.X_grid))\n",
        "                Zc = Zc.reshape(self.xx.shape)\n",
        "                \n",
        "                self.ax2.pcolormesh(self.xx, self.yy, Zc, cmap=plt.cm.Paired)\n",
        "                colors = np.array(['r','y','b'])\n",
        "                self.ax2.scatter(self.X[:, 0], self.X[:, 1], s=40, c=colors[self.Y], edgecolors='k', cmap=plt.cm.Paired)\n",
        "                    \n",
        "                Zp = predict_prob(self.model,torch.FloatTensor(self.X_grid))\n",
        "                Zp = Zp.reshape(self.xx.shape)\n",
        "\n",
        "                self.ax3.pcolormesh(self.xx, self.yy, Zp, cmap=plt.cm.magma)\n",
        "                colors = np.array(['r','y','b'])\n",
        "                self.ax3.scatter(self.X[:, 0], self.X[:, 1], s=40, c=colors[self.Y], edgecolors='k', cmap=plt.cm.Paired)\n",
        "\n",
        "                display.display(self.fig)\n",
        "                display.clear_output(wait=True)"
      ],
      "execution_count": 8,
      "outputs": []
    },
    {
      "cell_type": "markdown",
      "metadata": {
        "id": "tpkSoiCBAHZd"
      },
      "source": [
        "### Laço principal de treinamento da Regressão Logística por Softmax"
      ]
    },
    {
      "cell_type": "code",
      "metadata": {
        "ExecuteTime": {
          "end_time": "2019-11-25T00:34:54.071286Z",
          "start_time": "2019-11-25T00:34:54.064752Z"
        },
        "id": "aP7eNW6FAHZe"
      },
      "source": [
        "lr = 0.25\n",
        "\n",
        "optimizer = torch.optim.SGD(model.parameters(), lr=lr)\n",
        "criterion = nn.CrossEntropyLoss()"
      ],
      "execution_count": 9,
      "outputs": []
    },
    {
      "cell_type": "code",
      "metadata": {
        "ExecuteTime": {
          "end_time": "2019-11-25T00:35:16.709158Z",
          "start_time": "2019-11-25T00:34:54.094382Z"
        },
        "scrolled": false,
        "id": "_ZJphY9ZAHZg",
        "colab": {
          "base_uri": "https://localhost:8080/",
          "height": 304
        },
        "outputId": "5fa4e5be-7f2f-491a-af45-6dd6c2e95069"
      },
      "source": [
        "nb_epoch = 3000\n",
        "\n",
        "#Definindo o plotter\n",
        "my_plot = MyPlotter(model, Xc, Y, nb_epoch)\n",
        "\n",
        "losses = []\n",
        "for i in range(nb_epoch):\n",
        "    # predict da rede\n",
        "    output = model(X_tensor)\n",
        "\n",
        "    # calcula a perda\n",
        "    loss = criterion(output, Y_tensor)\n",
        "\n",
        "    # Faz o backpropagation para calcular os gradientes e otimizar parâmetros\n",
        "    optimizer.zero_grad()\n",
        "    loss.backward()\n",
        "    optimizer.step()\n",
        "    \n",
        "    losses.append(loss.item())\n",
        "    \n",
        "    my_plot.on_epoch_end(i, {'loss': loss.item()});\n",
        "    \n",
        "print('Final loss:', loss.item())"
      ],
      "execution_count": 10,
      "outputs": [
        {
          "output_type": "stream",
          "name": "stdout",
          "text": [
            "Final loss: 0.2727488875389099\n"
          ]
        },
        {
          "output_type": "display_data",
          "data": {
            "text/plain": [
              "<Figure size 1200x400 with 3 Axes>"
            ],
            "image/png": "[encoded data removed]"
          },
          "metadata": {
            "needs_background": "light"
          }
        }
      ]
    },
    {
      "cell_type": "markdown",
      "metadata": {
        "id": "0xsWhFnSAHZj"
      },
      "source": [
        "## Avaliação"
      ]
    },
    {
      "cell_type": "markdown",
      "metadata": {
        "id": "HuWO_efIAHZj"
      },
      "source": [
        "### Parâmetros após treinamento"
      ]
    },
    {
      "cell_type": "code",
      "metadata": {
        "ExecuteTime": {
          "end_time": "2019-11-25T00:35:16.729900Z",
          "start_time": "2019-11-25T00:35:16.712640Z"
        },
        "scrolled": false,
        "id": "vvrEshyjAHZk",
        "colab": {
          "base_uri": "https://localhost:8080/"
        },
        "outputId": "00f37ef0-8171-42b6-c0cb-8c5ed9439b35"
      },
      "source": [
        "model.state_dict()"
      ],
      "execution_count": 11,
      "outputs": [
        {
          "output_type": "execute_result",
          "data": {
            "text/plain": [
              "OrderedDict([('weight', tensor([[ -2.4871, -11.2825],\n",
              "                      [  0.8329,   0.4981],\n",
              "                      [  2.4541,  10.3487]])),\n",
              "             ('bias', tensor([ 5.2705,  0.8430, -6.4715]))])"
            ]
          },
          "metadata": {},
          "execution_count": 11
        }
      ]
    },
    {
      "cell_type": "markdown",
      "metadata": {
        "id": "kAj0uUu6AHZn"
      },
      "source": [
        "### Salvando os parâmetros treinados"
      ]
    },
    {
      "cell_type": "code",
      "metadata": {
        "ExecuteTime": {
          "end_time": "2019-11-25T00:35:16.822696Z",
          "start_time": "2019-11-25T00:35:16.736504Z"
        },
        "id": "QewzaYmpAHZo"
      },
      "source": [
        "os.makedirs('./models',exist_ok=True)\n",
        "torch.save(model.state_dict(),'./models/RegrLog_Iris.pt')"
      ],
      "execution_count": 12,
      "outputs": []
    },
    {
      "cell_type": "code",
      "metadata": {
        "ExecuteTime": {
          "end_time": "2019-11-25T00:35:16.873718Z",
          "start_time": "2019-11-25T00:35:16.831094Z"
        },
        "id": "W-fhdPCrAHZt",
        "colab": {
          "base_uri": "https://localhost:8080/"
        },
        "outputId": "c476ab89-bcfd-41bb-fd15-566600c55979"
      },
      "source": [
        "nn.init.constant_(model.weight,0)"
      ],
      "execution_count": 13,
      "outputs": [
        {
          "output_type": "execute_result",
          "data": {
            "text/plain": [
              "Parameter containing:\n",
              "tensor([[0., 0.],\n",
              "        [0., 0.],\n",
              "        [0., 0.]], requires_grad=True)"
            ]
          },
          "metadata": {},
          "execution_count": 13
        }
      ]
    },
    {
      "cell_type": "markdown",
      "metadata": {
        "id": "hwuRafV5AHZw"
      },
      "source": [
        "### Recuperando os pesos salvos"
      ]
    },
    {
      "cell_type": "code",
      "metadata": {
        "ExecuteTime": {
          "end_time": "2019-11-25T00:35:16.919553Z",
          "start_time": "2019-11-25T00:35:16.882260Z"
        },
        "id": "-_T9ucaCAHZx",
        "colab": {
          "base_uri": "https://localhost:8080/"
        },
        "outputId": "434af9c5-0425-4552-91c5-58c67aa057a4"
      },
      "source": [
        "param_saved = torch.load('./models/RegrLog_Iris.pt')\n",
        "model.load_state_dict(param_saved)"
      ],
      "execution_count": 14,
      "outputs": [
        {
          "output_type": "execute_result",
          "data": {
            "text/plain": [
              "<All keys matched successfully>"
            ]
          },
          "metadata": {},
          "execution_count": 14
        }
      ]
    },
    {
      "cell_type": "markdown",
      "metadata": {
        "id": "PH_BxYOQAHZz"
      },
      "source": [
        "### Exatidão (acurácia) do classificador"
      ]
    },
    {
      "cell_type": "markdown",
      "metadata": {
        "id": "BOYmhfNlAHZ0"
      },
      "source": [
        "Acurácia indica o número de acertos sobre o número total de amostras"
      ]
    },
    {
      "cell_type": "code",
      "metadata": {
        "ExecuteTime": {
          "end_time": "2019-11-25T00:35:16.937812Z",
          "start_time": "2019-11-25T00:35:16.923927Z"
        },
        "id": "o96bbFysAHZ1",
        "colab": {
          "base_uri": "https://localhost:8080/"
        },
        "outputId": "6df70b5e-dc7f-4038-a338-3fe5f86631e9"
      },
      "source": [
        "Y_pred = predict(model, X_tensor)\n",
        "accuracy = (Y_pred == Y).mean()\n",
        "print('Training Accuracy: ', accuracy)"
      ],
      "execution_count": 15,
      "outputs": [
        {
          "output_type": "stream",
          "name": "stdout",
          "text": [
            "Training Accuracy:  0.9266666666666666\n"
          ]
        }
      ]
    },
    {
      "cell_type": "markdown",
      "metadata": {
        "id": "7a15dqDsAHZ3"
      },
      "source": [
        "### Matriz de confusão"
      ]
    },
    {
      "cell_type": "code",
      "metadata": {
        "ExecuteTime": {
          "end_time": "2019-11-25T00:35:17.120330Z",
          "start_time": "2019-11-25T00:35:16.951741Z"
        },
        "id": "2-_JbMdcAHZ4",
        "colab": {
          "base_uri": "https://localhost:8080/",
          "height": 175
        },
        "outputId": "63dca66e-3e32-458d-c9db-00fa15fabad4"
      },
      "source": [
        "import pandas as pd\n",
        "pd.crosstab(Y_pred, Y)"
      ],
      "execution_count": 16,
      "outputs": [
        {
          "output_type": "execute_result",
          "data": {
            "text/plain": [
              "col_0   0   1   2\n",
              "row_0            \n",
              "0      50   0   0\n",
              "1       0  44   5\n",
              "2       0   6  45"
            ],
            "text/html": [
              "\n",
              "  <div id=\"df-a5320b1a-191b-40c1-9ee9-f576cd83e590\">\n",
              "    <div class=\"colab-df-container\">\n",
              "      <div>\n",
              "<style scoped>\n",
              "    .dataframe tbody tr th:only-of-type {\n",
              "        vertical-align: middle;\n",
              "    }\n",
              "\n",
              "    .dataframe tbody tr th {\n",
              "        vertical-align: top;\n",
              "    }\n",
              "\n",
              "    .dataframe thead th {\n",
              "        text-align: right;\n",
              "    }\n",
              "</style>\n",
              "<table border=\"1\" class=\"dataframe\">\n",
              "  <thead>\n",
              "    <tr style=\"text-align: right;\">\n",
              "      <th>col_0</th>\n",
              "      <th>0</th>\n",
              "      <th>1</th>\n",
              "      <th>2</th>\n",
              "    </tr>\n",
              "    <tr>\n",
              "      <th>row_0</th>\n",
              "      <th></th>\n",
              "      <th></th>\n",
              "      <th></th>\n",
              "    </tr>\n",
              "  </thead>\n",
              "  <tbody>\n",
              "    <tr>\n",
              "      <th>0</th>\n",
              "      <td>50</td>\n",
              "      <td>0</td>\n",
              "      <td>0</td>\n",
              "    </tr>\n",
              "    <tr>\n",
              "      <th>1</th>\n",
              "      <td>0</td>\n",
              "      <td>44</td>\n",
              "      <td>5</td>\n",
              "    </tr>\n",
              "    <tr>\n",
              "      <th>2</th>\n",
              "      <td>0</td>\n",
              "      <td>6</td>\n",
              "      <td>45</td>\n",
              "    </tr>\n",
              "  </tbody>\n",
              "</table>\n",
              "</div>\n",
              "      <button class=\"colab-df-convert\" onclick=\"convertToInteractive('df-a5320b1a-191b-40c1-9ee9-f576cd83e590')\"\n",
              "              title=\"Convert this dataframe to an interactive table.\"\n",
              "              style=\"display:none;\">\n",
              "        \n",
              "  <svg xmlns=\"http://www.w3.org/2000/svg\" height=\"24px\"viewBox=\"0 0 24 24\"\n",
              "       width=\"24px\">\n",
              "    <path d=\"M0 0h24v24H0V0z\" fill=\"none\"/>\n",
              "    <path d=\"M18.56 5.44l.94 2.06.94-2.06 2.06-.94-2.06-.94-.94-2.06-.94 2.06-2.06.94zm-11 1L8.5 8.5l.94-2.06 2.06-.94-2.06-.94L8.5 2.5l-.94 2.06-2.06.94zm10 10l.94 2.06.94-2.06 2.06-.94-2.06-.94-.94-2.06-.94 2.06-2.06.94z\"/><path d=\"M17.41 7.96l-1.37-1.37c-.4-.4-.92-.59-1.43-.59-.52 0-1.04.2-1.43.59L10.3 9.45l-7.72 7.72c-.78.78-.78 2.05 0 2.83L4 21.41c.39.39.9.59 1.41.59.51 0 1.02-.2 1.41-.59l7.78-7.78 2.81-2.81c.8-.78.8-2.07 0-2.86zM5.41 20L4 18.59l7.72-7.72 1.47 1.35L5.41 20z\"/>\n",
              "  </svg>\n",
              "      </button>\n",
              "      \n",
              "  <style>\n",
              "    .colab-df-container {\n",
              "      display:flex;\n",
              "      flex-wrap:wrap;\n",
              "      gap: 12px;\n",
              "    }\n",
              "\n",
              "    .colab-df-convert {\n",
              "      background-color: #E8F0FE;\n",
              "      border: none;\n",
              "      border-radius: 50%;\n",
              "      cursor: pointer;\n",
              "      display: none;\n",
              "      fill: #1967D2;\n",
              "      height: 32px;\n",
              "      padding: 0 0 0 0;\n",
              "      width: 32px;\n",
              "    }\n",
              "\n",
              "    .colab-df-convert:hover {\n",
              "      background-color: #E2EBFA;\n",
              "      box-shadow: 0px 1px 2px rgba(60, 64, 67, 0.3), 0px 1px 3px 1px rgba(60, 64, 67, 0.15);\n",
              "      fill: #174EA6;\n",
              "    }\n",
              "\n",
              "    [theme=dark] .colab-df-convert {\n",
              "      background-color: #3B4455;\n",
              "      fill: #D2E3FC;\n",
              "    }\n",
              "\n",
              "    [theme=dark] .colab-df-convert:hover {\n",
              "      background-color: #434B5C;\n",
              "      box-shadow: 0px 1px 3px 1px rgba(0, 0, 0, 0.15);\n",
              "      filter: drop-shadow(0px 1px 2px rgba(0, 0, 0, 0.3));\n",
              "      fill: #FFFFFF;\n",
              "    }\n",
              "  </style>\n",
              "\n",
              "      <script>\n",
              "        const buttonEl =\n",
              "          document.querySelector('#df-a5320b1a-191b-40c1-9ee9-f576cd83e590 button.colab-df-convert');\n",
              "        buttonEl.style.display =\n",
              "          google.colab.kernel.accessAllowed ? 'block' : 'none';\n",
              "\n",
              "        async function convertToInteractive(key) {\n",
              "          const element = document.querySelector('#df-a5320b1a-191b-40c1-9ee9-f576cd83e590');\n",
              "          const dataTable =\n",
              "            await google.colab.kernel.invokeFunction('convertToInteractive',\n",
              "                                                     [key], {});\n",
              "          if (!dataTable) return;\n",
              "\n",
              "          const docLinkHtml = 'Like what you see? Visit the ' +\n",
              "            '<a target=\"_blank\" href=https://colab.research.google.com/notebooks/data_table.ipynb>data table notebook</a>'\n",
              "            + ' to learn more about interactive tables.';\n",
              "          element.innerHTML = '';\n",
              "          dataTable['output_type'] = 'display_data';\n",
              "          await google.colab.output.renderOutput(dataTable, element);\n",
              "          const docLink = document.createElement('div');\n",
              "          docLink.innerHTML = docLinkHtml;\n",
              "          element.appendChild(docLink);\n",
              "        }\n",
              "      </script>\n",
              "    </div>\n",
              "  </div>\n",
              "  "
            ]
          },
          "metadata": {},
          "execution_count": 16
        }
      ]
    },
    {
      "cell_type": "markdown",
      "metadata": {
        "id": "3RBO8KqUAHZ6"
      },
      "source": [
        "## Atividades"
      ]
    },
    {
      "cell_type": "markdown",
      "metadata": {
        "id": "dKsv5LTwAHZ7"
      },
      "source": [
        "### Perguntas:"
      ]
    },
    {
      "cell_type": "markdown",
      "metadata": {
        "id": "UkpothbPAHZ8"
      },
      "source": [
        "1. Observe que se após o treinamento, a célula for executada novamente, ela continua utilizando os parâmetros treinados até sua última execução. O que é preciso fazer para que o treinamento comece deste o início, como da primeira vez que foi executado?\n",
        "2. Quantos parâmetros possui esta rede? Quantos são da camada densa e quantos são de bias?\n",
        "3. Quantas entradas e quantas saídas esta rede possui?\n",
        "4. Como se pode calcular a acurácia a partir da matriz de confusão?\n",
        "5. O que faz a função `torch.max`? Quantos parâmetros ela retorna e quais seus significados?\n",
        "    - http://pytorch.org/docs/master/torch.html?highlight=torch%20max#torch.max"
      ]
    },
    {
      "cell_type": "markdown",
      "metadata": {
        "id": "YUNLtC7EAHZ8"
      },
      "source": [
        "### Exercícios:"
      ]
    },
    {
      "cell_type": "markdown",
      "metadata": {
        "id": "oUAsE_IkAHZ9"
      },
      "source": [
        "1. Experimente refazer o treinamento com diferentes valores de learning rate\n",
        "2. Na opção de mostrar o valor das probabilidades no gráfico do espaço de atributos,\n",
        "troque a tabela de cores **magma** utilizada no `pcolormesh` que está com o parâmetro `cmap=plt.cm.magma`. Escolha a tabela de cores consultando o manual do matplotlib:\n",
        "    - https://matplotlib.org/users/colormaps.html\n",
        "3. Observando o gráfico de máxima probabilidade, responda:\n",
        "    1. Qual é a amostra classificada corretamente, com maior probabilidade?\n",
        "    2. Qual é a amostra classificada erradamente, com maior probabilidade?\n",
        "    3. Qual é a amostra classificada corretamente, com menor probabilidade?\n",
        "    4. Qual é a amostra classificada erradamente, com menor probabilidade?\n",
        "4. Mostre as amostras classificadas erroneamente:\n",
        "    - mostre a imagem, o rótulo original e o rótulo predito"
      ]
    },
    {
      "cell_type": "markdown",
      "metadata": {
        "id": "tDCqYyESAHZ-"
      },
      "source": [
        "## Principais aprendizados"
      ]
    },
    {
      "cell_type": "code",
      "metadata": {
        "id": "8BUT-EN3AHZ_"
      },
      "source": [
        ""
      ],
      "execution_count": 16,
      "outputs": []
    }
  ]
}