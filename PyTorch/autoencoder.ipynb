{
 "cells": [
  {
   "cell_type": "markdown",
   "metadata": {},
   "source": [
    "# Autocodificadores"
   ]
  },
  {
   "cell_type": "markdown",
   "metadata": {},
   "source": [
    "Fazer um jupyter notebook com autocodificador, a exemplo do exemplo mostrado em aula usando o Keras:\n",
    "\n",
    "- https://t-adessowiki.fee.unicamp.br/user/aluno/notebooks/ia368z_2s2017/ia368z/deliver-keras/DenseAutoencoder.ipynb\n",
    "\n",
    "Com as seguintes modificações:\n",
    "\n",
    "- Utilizar o PyTorch\n",
    "- Se possível, utilizar um autocodificador convolucional, porém não é imperativo\n",
    "- Uma vez que o autocodificador seja treinado e o espaço bidimensional seja mostrado dos códigos dos dígitos da base de dados NMIST, gerar novas imagens:\n",
    "  - mostrar algumas imagens em pontos quaisquer neste espaço bidimensional\n",
    "  - dados dois pontos neste espaço, mostrar várias imagens, começando no ponto 1 e caminhando numa reta que une os dois pontos, gerar imagens associadas a pontos igualmente espaçados nessa reta, até chegar ao segundo ponto. É se esperar que os números gerados sejam interpolados entre eles."
   ]
  },
  {
   "cell_type": "code",
   "execution_count": 1,
   "metadata": {
    "ExecuteTime": {
     "end_time": "2017-10-18T22:04:23.583648Z",
     "start_time": "2017-10-18T22:04:22.348791Z"
    }
   },
   "outputs": [
    {
     "name": "stdout",
     "output_type": "stream",
     "text": [
      "GPU available: False\n"
     ]
    }
   ],
   "source": [
    "%matplotlib inline\n",
    "import matplotlib.pyplot as plt\n",
    "import os\n",
    "import numpy as np\n",
    "from collections import OrderedDict\n",
    "\n",
    "from PIL import Image\n",
    "from IPython import display\n",
    "\n",
    "import torch\n",
    "from torch.autograd import Variable\n",
    "import torch.nn as nn\n",
    "from torch.optim import lr_scheduler\n",
    "import torchvision\n",
    "\n",
    "import lib.pytorch_trainer as ptt\n",
    "\n",
    "use_gpu = torch.cuda.is_available()\n",
    "print('GPU available:', use_gpu)"
   ]
  },
  {
   "cell_type": "markdown",
   "metadata": {},
   "source": [
    "## Carregamento do MNIST dataset (já está no disco)"
   ]
  },
  {
   "cell_type": "markdown",
   "metadata": {},
   "source": [
    "A base de dados MNIST está disponível em: http://yann.lecun.com/exdb/mnist/\n",
    "Consiste de 60 mil amostras de treinamento e 10 mil amostras de teste. Cada amostra é uma pequena imagem em níveis de cinza de tamanho 28x28 pixels com valores entre 0 e 255.\n",
    "\n",
    "A base já está carregada e disponível em /data/datasets:"
   ]
  },
  {
   "cell_type": "code",
   "execution_count": 12,
   "metadata": {
    "ExecuteTime": {
     "end_time": "2017-10-18T22:08:46.394806Z",
     "start_time": "2017-10-18T22:08:46.318848Z"
    },
    "collapsed": true
   },
   "outputs": [],
   "source": [
    "x_train, y_train = torch.load('/data/datasets/MNIST/processed/training.pt')\n",
    "x_test,  y_test  = torch.load('/data/datasets/MNIST/processed/test.pt')"
   ]
  },
  {
   "cell_type": "code",
   "execution_count": 13,
   "metadata": {
    "ExecuteTime": {
     "end_time": "2017-10-18T22:08:54.333262Z",
     "start_time": "2017-10-18T22:08:54.328040Z"
    }
   },
   "outputs": [
    {
     "name": "stdout",
     "output_type": "stream",
     "text": [
      "torch.Size([60000, 28, 28]) torch.Size([10000, 28, 28])\n"
     ]
    }
   ],
   "source": [
    "print(x_train.shape, x_test.shape)"
   ]
  },
  {
   "cell_type": "markdown",
   "metadata": {},
   "source": [
    "## Treinando com pouquíssimos dados"
   ]
  },
  {
   "cell_type": "code",
   "execution_count": 28,
   "metadata": {
    "ExecuteTime": {
     "end_time": "2017-10-18T22:19:31.297697Z",
     "start_time": "2017-10-18T22:19:31.282901Z"
    }
   },
   "outputs": [],
   "source": [
    "if True:\n",
    "    n_train_samples = 1000\n",
    "    n_test_samples = 500\n",
    "    xx_train = x_train[:n_train_samples].type(torch.FloatTensor) /255.\n",
    "    yy_train = y_train[:n_train_samples] \n",
    "    xx_test  = x_test[:n_test_samples].type(torch.FloatTensor) / 255.\n",
    "    yy_test  = y_test[:n_test_samples]"
   ]
  },
  {
   "cell_type": "code",
   "execution_count": 29,
   "metadata": {
    "ExecuteTime": {
     "end_time": "2017-10-18T22:19:32.816733Z",
     "start_time": "2017-10-18T22:19:32.809427Z"
    }
   },
   "outputs": [
    {
     "data": {
      "text/plain": [
       "(torch.Size([1000, 28, 28]), torch.Size([500, 28, 28]))"
      ]
     },
     "execution_count": 29,
     "metadata": {},
     "output_type": "execute_result"
    }
   ],
   "source": [
    "xx_train.shape, xx_test.shape"
   ]
  },
  {
   "cell_type": "code",
   "execution_count": 30,
   "metadata": {
    "ExecuteTime": {
     "end_time": "2017-10-18T22:19:33.597652Z",
     "start_time": "2017-10-18T22:19:33.591851Z"
    }
   },
   "outputs": [
    {
     "data": {
      "text/plain": [
       "('torch.FloatTensor',\n",
       " 'torch.LongTensor',\n",
       " 'torch.FloatTensor',\n",
       " 'torch.LongTensor')"
      ]
     },
     "execution_count": 30,
     "metadata": {},
     "output_type": "execute_result"
    }
   ],
   "source": [
    "xx_train.type(),yy_train.type(), xx_test.type(), yy_test.type()"
   ]
  },
  {
   "cell_type": "markdown",
   "metadata": {},
   "source": [
    "## Visualizando algumas amostras"
   ]
  },
  {
   "cell_type": "code",
   "execution_count": 31,
   "metadata": {
    "ExecuteTime": {
     "end_time": "2017-10-18T22:19:36.549007Z",
     "start_time": "2017-10-18T22:19:36.529315Z"
    }
   },
   "outputs": [
    {
     "data": {
      "image/png": "[encoded data removed]",
      "text/plain": [
       "<PIL.Image.Image image mode=L size=28x28 at 0x12154F2E8>"
      ]
     },
     "metadata": {},
     "output_type": "display_data"
    },
    {
     "name": "stdout",
     "output_type": "stream",
     "text": [
      "label= 7\n"
     ]
    },
    {
     "data": {
      "image/png": "[encoded data removed]",
      "text/plain": [
       "<PIL.Image.Image image mode=L size=28x28 at 0x12154F1D0>"
      ]
     },
     "metadata": {},
     "output_type": "display_data"
    },
    {
     "name": "stdout",
     "output_type": "stream",
     "text": [
      "label= 2\n"
     ]
    },
    {
     "data": {
      "image/png": "[encoded data removed]",
      "text/plain": [
       "<PIL.Image.Image image mode=L size=28x28 at 0x12154F278>"
      ]
     },
     "metadata": {},
     "output_type": "display_data"
    },
    {
     "name": "stdout",
     "output_type": "stream",
     "text": [
      "label= 1\n"
     ]
    },
    {
     "data": {
      "image/png": "[encoded data removed]",
      "text/plain": [
       "<PIL.Image.Image image mode=L size=28x28 at 0x12154F0F0>"
      ]
     },
     "metadata": {},
     "output_type": "display_data"
    },
    {
     "name": "stdout",
     "output_type": "stream",
     "text": [
      "label= 0\n"
     ]
    }
   ],
   "source": [
    "for k,(x,y) in enumerate(data_test):\n",
    "    display.display(x)\n",
    "    print('label=',y)\n",
    "    if k > 2:\n",
    "        break"
   ]
  },
  {
   "cell_type": "markdown",
   "metadata": {},
   "source": [
    "## Cria a rede"
   ]
  },
  {
   "cell_type": "code",
   "execution_count": 42,
   "metadata": {
    "ExecuteTime": {
     "end_time": "2017-10-19T06:52:52.224515Z",
     "start_time": "2017-10-19T06:52:52.175497Z"
    }
   },
   "outputs": [
    {
     "data": {
      "text/plain": [
       "MyAutoEncoder (\n",
       "  (encoder): Sequential (\n",
       "    (dense1): Linear (784 -> 512)\n",
       "    (relu1): ReLU ()\n",
       "    (dense2): Linear (512 -> 128)\n",
       "    (relu2): ReLU ()\n",
       "    (dense3): Linear (128 -> 2)\n",
       "  )\n",
       "  (decoder): Sequential (\n",
       "    (dense3): Linear (2 -> 128)\n",
       "    (relu2): ReLU ()\n",
       "    (dense2): Linear (128 -> 512)\n",
       "    (relu1): ReLU ()\n",
       "    (dense1): Linear (512 -> 784)\n",
       "  )\n",
       ")"
      ]
     },
     "execution_count": 42,
     "metadata": {},
     "output_type": "execute_result"
    }
   ],
   "source": [
    "class MyAutoEncoder(nn.Module):\n",
    "    def __init__(self):\n",
    "        super(MyAutoEncoder, self).__init__()\n",
    "        \n",
    "        self.encoder = nn.Sequential(OrderedDict([\n",
    "            ('dense1', nn.Linear(28*28, 512)),\n",
    "            ('relu1', nn.ReLU()),\n",
    "            ('dense2', nn.Linear(512, 128)),\n",
    "            ('relu2', nn.ReLU()),\n",
    "            ('dense3', nn.Linear(128, 2))\n",
    "        ]))\n",
    "        \n",
    "        self.decoder = nn.Sequential(OrderedDict([\n",
    "            ('dense3', nn.Linear(2, 128)),\n",
    "            ('relu2', nn.ReLU()),\n",
    "            ('dense2', nn.Linear(128, 512)),\n",
    "            ('relu1', nn.ReLU()),\n",
    "            ('dense1', nn.Linear(512, 28*28))\n",
    "        ]))\n",
    "    \n",
    "    def forward(self, x):\n",
    "        x = x.view(-1, 28*28)\n",
    "        x = self.encoder(x)\n",
    "        x = self.decoder(x)\n",
    "        x = x.view(-1, 28, 28)\n",
    "        \n",
    "        return x\n",
    "    \n",
    "model = MyAutoEncoder()\n",
    "model"
   ]
  },
  {
   "cell_type": "markdown",
   "metadata": {},
   "source": [
    "## Cria o trainer"
   ]
  },
  {
   "cell_type": "code",
   "execution_count": 43,
   "metadata": {
    "ExecuteTime": {
     "end_time": "2017-10-19T06:52:53.625041Z",
     "start_time": "2017-10-19T06:52:53.615813Z"
    },
    "collapsed": true
   },
   "outputs": [],
   "source": [
    "criterion = nn.MSELoss()\n",
    "optimizer = torch.optim.Adam(model.parameters(), weight_decay=0)\n",
    "trainer = ptt.DeepNetTrainer(#'../../models/auto_encoder', \n",
    "                         model, \n",
    "                         criterion, \n",
    "                         optimizer=optimizer,\n",
    "                         lr_scheduler=lr_scheduler.StepLR(optimizer, step_size=7, gamma=0.1),\n",
    "                        )"
   ]
  },
  {
   "cell_type": "code",
   "execution_count": 44,
   "metadata": {
    "ExecuteTime": {
     "end_time": "2017-10-19T06:53:57.747520Z",
     "start_time": "2017-10-19T06:52:54.247193Z"
    },
    "scrolled": false
   },
   "outputs": [],
   "source": [
    "trainer.fit(20,xx_train, xx_train, valid_data=(xx_test,xx_test) )"
   ]
  },
  {
   "cell_type": "code",
   "execution_count": 45,
   "metadata": {
    "ExecuteTime": {
     "end_time": "2017-10-19T06:53:57.965930Z",
     "start_time": "2017-10-19T06:53:57.749400Z"
    }
   },
   "outputs": [
    {
     "data": {
      "text/plain": [
       "[<matplotlib.lines.Line2D at 0x12823d128>,\n",
       " <matplotlib.lines.Line2D at 0x12823d320>]"
      ]
     },
     "execution_count": 45,
     "metadata": {},
     "output_type": "execute_result"
    },
    {
     "data": {
      "image/png": "[encoded data removed]",
      "text/plain": [
       "<matplotlib.figure.Figure at 0x12730bd30>"
      ]
     },
     "metadata": {},
     "output_type": "display_data"
    }
   ],
   "source": [
    "tra_loss = trainer.metrics['train']['losses']\n",
    "val_loss = trainer.metrics['valid']['losses']\n",
    "epochs = np.arange(len(tra_loss))\n",
    "plt.plot(epochs, tra_loss, epochs, val_loss)"
   ]
  },
  {
   "cell_type": "code",
   "execution_count": 46,
   "metadata": {
    "ExecuteTime": {
     "end_time": "2017-10-19T06:54:06.146137Z",
     "start_time": "2017-10-19T06:54:06.137399Z"
    }
   },
   "outputs": [
    {
     "name": "stdout",
     "output_type": "stream",
     "text": [
      "\r",
      "predict: 0/0 ok\n"
     ]
    }
   ],
   "source": [
    "yy_pred = trainer.predict(xx_test[:10])"
   ]
  },
  {
   "cell_type": "code",
   "execution_count": 47,
   "metadata": {
    "ExecuteTime": {
     "end_time": "2017-10-19T06:54:09.387928Z",
     "start_time": "2017-10-19T06:54:07.755025Z"
    },
    "scrolled": false
   },
   "outputs": [
    {
     "data": {
      "image/png": "[encoded data removed]",
      "text/plain": [
       "<matplotlib.figure.Figure at 0x1276989b0>"
      ]
     },
     "metadata": {},
     "output_type": "display_data"
    }
   ],
   "source": [
    "n = 10\n",
    "plt.figure(figsize=(20, 4))\n",
    "plt.gray()\n",
    "for i in range(n):\n",
    "    # display original\n",
    "    ax = plt.subplot(2, n, i+1)\n",
    "    plt.imshow(xx_test[i].numpy().reshape(28, 28))\n",
    "    plt.axis('off')\n",
    "\n",
    "    # display reconstruction\n",
    "    ax = plt.subplot(2, n, i+1 + n)\n",
    "    plt.imshow(yy_pred[i].cpu().numpy().reshape(28, 28))\n",
    "    plt.axis('off')\n",
    "plt.show()"
   ]
  },
  {
   "cell_type": "markdown",
   "metadata": {},
   "source": [
    "## Imagens no plano 2D"
   ]
  },
  {
   "cell_type": "code",
   "execution_count": 48,
   "metadata": {
    "ExecuteTime": {
     "end_time": "2017-10-19T06:54:21.624728Z",
     "start_time": "2017-10-19T06:54:21.603657Z"
    }
   },
   "outputs": [
    {
     "ename": "NameError",
     "evalue": "name 'DataLoader' is not defined",
     "output_type": "error",
     "traceback": [
      "\u001b[0;31m---------------------------------------------------------------------------\u001b[0m",
      "\u001b[0;31mNameError\u001b[0m                                 Traceback (most recent call last)",
      "\u001b[0;32m<ipython-input-48-c28fef6668f3>\u001b[0m in \u001b[0;36m<module>\u001b[0;34m()\u001b[0m\n\u001b[1;32m      1\u001b[0m \u001b[0mbatch_size\u001b[0m \u001b[0;34m=\u001b[0m \u001b[0;36m20\u001b[0m\u001b[0;34m\u001b[0m\u001b[0m\n\u001b[0;32m----> 2\u001b[0;31m \u001b[0mtest_dl\u001b[0m \u001b[0;34m=\u001b[0m \u001b[0mDataLoader\u001b[0m\u001b[0;34m(\u001b[0m\u001b[0mae_data_test\u001b[0m\u001b[0;34m,\u001b[0m \u001b[0mbatch_size\u001b[0m\u001b[0;34m=\u001b[0m\u001b[0mbatch_size\u001b[0m\u001b[0;34m,\u001b[0m \u001b[0mshuffle\u001b[0m\u001b[0;34m=\u001b[0m\u001b[0;32mFalse\u001b[0m\u001b[0;34m,\u001b[0m \u001b[0mnum_workers\u001b[0m\u001b[0;34m=\u001b[0m\u001b[0;36m4\u001b[0m\u001b[0;34m)\u001b[0m\u001b[0;34m\u001b[0m\u001b[0m\n\u001b[0m\u001b[1;32m      3\u001b[0m \u001b[0;34m\u001b[0m\u001b[0m\n\u001b[1;32m      4\u001b[0m \u001b[0mencoded_data\u001b[0m \u001b[0;34m=\u001b[0m \u001b[0mnp\u001b[0m\u001b[0;34m.\u001b[0m\u001b[0mzeros\u001b[0m\u001b[0;34m(\u001b[0m\u001b[0;34m(\u001b[0m\u001b[0mlen\u001b[0m\u001b[0;34m(\u001b[0m\u001b[0mae_data_test\u001b[0m\u001b[0;34m)\u001b[0m\u001b[0;34m,\u001b[0m \u001b[0;36m2\u001b[0m\u001b[0;34m)\u001b[0m\u001b[0;34m)\u001b[0m\u001b[0;34m\u001b[0m\u001b[0m\n\u001b[1;32m      5\u001b[0m \u001b[0;32mfor\u001b[0m \u001b[0mi\u001b[0m\u001b[0;34m,\u001b[0m \u001b[0;34m(\u001b[0m\u001b[0mdata\u001b[0m\u001b[0;34m,\u001b[0m \u001b[0m_\u001b[0m\u001b[0;34m)\u001b[0m \u001b[0;32min\u001b[0m \u001b[0menumerate\u001b[0m\u001b[0;34m(\u001b[0m\u001b[0mtest_dl\u001b[0m\u001b[0;34m)\u001b[0m\u001b[0;34m:\u001b[0m\u001b[0;34m\u001b[0m\u001b[0m\n",
      "\u001b[0;31mNameError\u001b[0m: name 'DataLoader' is not defined"
     ]
    }
   ],
   "source": [
    "batch_size = 20\n",
    "test_dl = DataLoader(ae_data_test, batch_size=batch_size, shuffle=False, num_workers=4)\n",
    "\n",
    "encoded_data = np.zeros((len(ae_data_test), 2))\n",
    "for i, (data, _) in enumerate(test_dl):\n",
    "    inputs = data.view(-1, 28*28)\n",
    "    encoded = model.encoder(Variable(inputs.cuda()))\n",
    "    encoded_data[i*batch_size:(i+1)*batch_size] = encoded.data.cpu().numpy()\n",
    "\n",
    "plt.figure(figsize=(7, 6))\n",
    "plt.scatter(encoded_data[:, 0], encoded_data[:, 1], c=ae_data_test.labels_data.numpy(), cmap=plt.cm.tab10)\n",
    "plt.colorbar();\n",
    "plt.show()"
   ]
  },
  {
   "cell_type": "markdown",
   "metadata": {},
   "source": [
    "## transformação na imagem ao percorrer uma linha no espaço 2D"
   ]
  },
  {
   "cell_type": "code",
   "execution_count": 41,
   "metadata": {},
   "outputs": [
    {
     "data": {
      "image/png": "[encoded data removed]",
      "text/plain": [
       "<matplotlib.figure.Figure at 0x7f3272814a90>"
      ]
     },
     "metadata": {},
     "output_type": "display_data"
    }
   ],
   "source": [
    "n = 40\n",
    "x = np.linspace(-5.0, 10.0, n)\n",
    "y = np.linspace(10.0, -10.0, n)\n",
    "\n",
    "data = np.array([x, y]).T\n",
    "data = torch.from_numpy(data).type(torch.FloatTensor)\n",
    "\n",
    "out = model.decoder(Variable(data.cuda()))\n",
    "out = out.view(-1, 28, 28)\n",
    "                    \n",
    "plt.figure(figsize=(20, 5))\n",
    "plt.gray()\n",
    "\n",
    "for i in range(n):\n",
    "    ax = plt.subplot(4, n//4, i+1)\n",
    "    plt.imshow(out[i].data.cpu().numpy().reshape(28, 28))\n",
    "    plt.axis('off')\n",
    "plt.show()"
   ]
  },
  {
   "cell_type": "code",
   "execution_count": null,
   "metadata": {
    "collapsed": true
   },
   "outputs": [],
   "source": []
  }
 ],
 "metadata": {
  "kernelspec": {
   "display_name": "Python 3",
   "language": "python",
   "name": "python3"
  },
  "language_info": {
   "codemirror_mode": {
    "name": "ipython",
    "version": 3
   },
   "file_extension": ".py",
   "mimetype": "text/x-python",
   "name": "python",
   "nbconvert_exporter": "python",
   "pygments_lexer": "ipython3",
   "version": "3.6.0"
  },
  "toc": {
   "nav_menu": {},
   "number_sections": true,
   "sideBar": true,
   "skip_h1_title": false,
   "toc_cell": false,
   "toc_position": {},
   "toc_section_display": "block",
   "toc_window_display": false
  }
 },
 "nbformat": 4,
 "nbformat_minor": 2
}
