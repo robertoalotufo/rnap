{
 "cells": [
  {
   "cell_type": "markdown",
   "metadata": {},
   "source": [
    "# MovieLens Dataset"
   ]
  },
  {
   "cell_type": "markdown",
   "metadata": {},
   "source": [
    "Este notebook carrega o dataset de avaliação de filmes do Movielens e faz as seguintes análises:\n",
    "- descarta o timestamp\n",
    "- descarta o gênero do filme\n",
    "- reindexar com os índices sequenciais dos usuários e dos filmes\n",
    "- salva o dataset com os novos índices e nomes dos filmes com os índices atualizados\n",
    "- analisa a distribuição do número de avaliações por usuário\n",
    "- analisa a distribuição do número de avaliações por filme\n",
    "- cria e visualiza matriz de avaliação por usuário e filme\n",
    "- calcula o histograma das notas de avaliação de 0.5 a 5.0\n",
    "- visualiza esta matriz com os usuários mais ativos e filmes com maior número de avaliações\n",
    "- visualiza esta matriz com os usuários menos ativos e filmes com menor número de avaliações"
   ]
  },
  {
   "cell_type": "markdown",
   "metadata": {},
   "source": [
    "## Importação da bibliotecas"
   ]
  },
  {
   "cell_type": "code",
   "execution_count": 1,
   "metadata": {
    "ExecuteTime": {
     "end_time": "2017-09-30T17:18:50.630824Z",
     "start_time": "2017-09-30T17:18:49.649856Z"
    }
   },
   "outputs": [],
   "source": [
    "%matplotlib inline\n",
    "import matplotlib.pyplot as plt\n",
    "import numpy as np\n",
    "import os\n",
    "import pandas as pd\n",
    "\n",
    "np.set_printoptions(formatter={'float': '{: 0.1f}'.format})\n"
   ]
  },
  {
   "cell_type": "markdown",
   "metadata": {},
   "source": [
    "## Leitura dos Dados - Movielens dataset"
   ]
  },
  {
   "cell_type": "markdown",
   "metadata": {},
   "source": [
    "- [Movielens - Readme](http://files.grouplens.org/datasets/movielens/ml-latest-small-README.html)\n",
    "- Movielens - Small data set - 100.000 avaliações:[ml-latest-small.zip](http://files.grouplens.org/datasets/movielens/ml-latest-small.zip)\n",
    "\n",
    "F. Maxwell Harper and Joseph A. Konstan. 2015. The MovieLens Datasets: History and Context. ACM Transactions on Interactive Intelligent Systems (TiiS) 5, 4, Article 19 (December 2015).\n"
   ]
  },
  {
   "cell_type": "code",
   "execution_count": 4,
   "metadata": {
    "ExecuteTime": {
     "end_time": "2017-09-30T17:18:50.637307Z",
     "start_time": "2017-09-30T17:18:50.633077Z"
    }
   },
   "outputs": [],
   "source": [
    "fname_ratings = '/data/datasets/ml-latest-small/ratings.csv'\n",
    "fname_movies  = '/data/datasets/ml-latest-small/movies.csv'"
   ]
  },
  {
   "cell_type": "code",
   "execution_count": 5,
   "metadata": {
    "ExecuteTime": {
     "end_time": "2017-09-30T17:18:50.738440Z",
     "start_time": "2017-09-30T17:18:50.640150Z"
    }
   },
   "outputs": [
    {
     "data": {
      "text/html": [
       "<div>\n",
       "<style>\n",
       "    .dataframe thead tr:only-child th {\n",
       "        text-align: right;\n",
       "    }\n",
       "\n",
       "    .dataframe thead th {\n",
       "        text-align: left;\n",
       "    }\n",
       "\n",
       "    .dataframe tbody tr th {\n",
       "        vertical-align: top;\n",
       "    }\n",
       "</style>\n",
       "<table border=\"1\" class=\"dataframe\">\n",
       "  <thead>\n",
       "    <tr style=\"text-align: right;\">\n",
       "      <th></th>\n",
       "      <th>userId</th>\n",
       "      <th>movieId</th>\n",
       "      <th>rating</th>\n",
       "      <th>timestamp</th>\n",
       "    </tr>\n",
       "  </thead>\n",
       "  <tbody>\n",
       "    <tr>\n",
       "      <th>0</th>\n",
       "      <td>1</td>\n",
       "      <td>31</td>\n",
       "      <td>2.5</td>\n",
       "      <td>1260759144</td>\n",
       "    </tr>\n",
       "    <tr>\n",
       "      <th>1</th>\n",
       "      <td>1</td>\n",
       "      <td>1029</td>\n",
       "      <td>3.0</td>\n",
       "      <td>1260759179</td>\n",
       "    </tr>\n",
       "    <tr>\n",
       "      <th>2</th>\n",
       "      <td>1</td>\n",
       "      <td>1061</td>\n",
       "      <td>3.0</td>\n",
       "      <td>1260759182</td>\n",
       "    </tr>\n",
       "    <tr>\n",
       "      <th>3</th>\n",
       "      <td>1</td>\n",
       "      <td>1129</td>\n",
       "      <td>2.0</td>\n",
       "      <td>1260759185</td>\n",
       "    </tr>\n",
       "    <tr>\n",
       "      <th>4</th>\n",
       "      <td>1</td>\n",
       "      <td>1172</td>\n",
       "      <td>4.0</td>\n",
       "      <td>1260759205</td>\n",
       "    </tr>\n",
       "  </tbody>\n",
       "</table>\n",
       "</div>"
      ],
      "text/plain": [
       "   userId  movieId  rating   timestamp\n",
       "0       1       31     2.5  1260759144\n",
       "1       1     1029     3.0  1260759179\n",
       "2       1     1061     3.0  1260759182\n",
       "3       1     1129     2.0  1260759185\n",
       "4       1     1172     4.0  1260759205"
      ]
     },
     "execution_count": 5,
     "metadata": {},
     "output_type": "execute_result"
    }
   ],
   "source": [
    "ratings = pd.read_csv(fname_ratings)\n",
    "ratings.head()"
   ]
  },
  {
   "cell_type": "markdown",
   "metadata": {},
   "source": [
    "### Leitura dos títulos dos filmes"
   ]
  },
  {
   "cell_type": "markdown",
   "metadata": {},
   "source": [
    "Just for display purposes, let's read in the movie names too."
   ]
  },
  {
   "cell_type": "code",
   "execution_count": 6,
   "metadata": {
    "ExecuteTime": {
     "end_time": "2017-09-30T17:18:50.767412Z",
     "start_time": "2017-09-30T17:18:50.740716Z"
    }
   },
   "outputs": [
    {
     "name": "stdout",
     "output_type": "stream",
     "text": [
      "movieId=31: Dangerous Minds (1995)\n",
      "movieId=1029: Dumbo (1941)\n"
     ]
    }
   ],
   "source": [
    "movie_names = pd.read_csv(fname_movies).set_index('movieId')['title'].to_dict()\n",
    "print('movieId=31:',movie_names[31])\n",
    "print('movieId=1029:',movie_names[1029])"
   ]
  },
  {
   "cell_type": "markdown",
   "metadata": {},
   "source": [
    "### Análise dos dados"
   ]
  },
  {
   "cell_type": "markdown",
   "metadata": {},
   "source": [
    "São ao todo 100.004 amostras, notas variam entre 0.5 e 5.0."
   ]
  },
  {
   "cell_type": "code",
   "execution_count": 7,
   "metadata": {
    "ExecuteTime": {
     "end_time": "2017-09-30T17:18:50.782965Z",
     "start_time": "2017-09-30T17:18:50.769617Z"
    }
   },
   "outputs": [
    {
     "name": "stdout",
     "output_type": "stream",
     "text": [
      "ratings: float64 (100004, 3)\n",
      "n_samples: 100004\n",
      "min (userId, movieId, rate): [ 1.0  1.0  0.5]\n",
      "max (userId, movieId, rate): [ 671.0  163949.0  5.0]\n",
      "4 primeiras amostras:\n",
      " [[ 1.0  31.0  2.5]\n",
      " [ 1.0  1029.0  3.0]\n",
      " [ 1.0  1061.0  3.0]\n",
      " [ 1.0  1129.0  2.0]]\n"
     ]
    }
   ],
   "source": [
    "ratings = np.array(ratings)[:,:3] # remove a última coluna de timestamp\n",
    "n_samples = ratings.shape[0]\n",
    "print('ratings:',ratings.dtype,ratings.shape)\n",
    "print('n_samples:',n_samples)\n",
    "print('min (userId, movieId, rate):',ratings.min(axis=0))\n",
    "print('max (userId, movieId, rate):',ratings.max(axis=0))\n",
    "print('4 primeiras amostras:\\n',ratings[:4,:])"
   ]
  },
  {
   "cell_type": "markdown",
   "metadata": {},
   "source": [
    "## Reindexação para normalizar os índices de usuários e de filmes"
   ]
  },
  {
   "cell_type": "markdown",
   "metadata": {},
   "source": [
    "### Exercício para entender o funcionamento do np.unique para normalizar labels"
   ]
  },
  {
   "cell_type": "code",
   "execution_count": 8,
   "metadata": {
    "ExecuteTime": {
     "end_time": "2017-09-30T17:18:50.796381Z",
     "start_time": "2017-09-30T17:18:50.785197Z"
    }
   },
   "outputs": [
    {
     "name": "stdout",
     "output_type": "stream",
     "text": [
      "a: [205 205 300 205 205 300   4]\n",
      "classes_id: [  4 205 300]\n",
      "a_norm: [1 1 2 1 1 2 0]\n",
      "obtem indexação original: [205 205 300 205 205 300   4]\n",
      "número de elementos distintos: 3\n"
     ]
    }
   ],
   "source": [
    "# Exercício para entender o funcionamento do np.unique\n",
    "a = np.array([205, 205, 300, 205, 205, 300, 4])\n",
    "\n",
    "classes_id, a_norm = np.unique(a,return_inverse=True)\n",
    "\n",
    "print('a:',a)\n",
    "print('classes_id:',classes_id)\n",
    "print('a_norm:',a_norm)\n",
    "print('obtem indexação original:',classes_id[a_norm])\n",
    "print('número de elementos distintos:', classes_id.size)"
   ]
  },
  {
   "cell_type": "markdown",
   "metadata": {},
   "source": [
    "### Normalizando userIds"
   ]
  },
  {
   "cell_type": "markdown",
   "metadata": {
    "ExecuteTime": {
     "end_time": "2017-06-09T19:50:32.569851",
     "start_time": "2017-06-09T19:50:32.562720"
    }
   },
   "source": [
    "Observa-se que os userIds são sequenciais. \n",
    "São ao todo 671 usuários, originalmente identificados de 1 a 671.\n",
    "Após ordenação única começando do zero, são numerados de 0 a 670."
   ]
  },
  {
   "cell_type": "code",
   "execution_count": 9,
   "metadata": {
    "ExecuteTime": {
     "end_time": "2017-09-30T17:18:50.837446Z",
     "start_time": "2017-09-30T17:18:50.798528Z"
    }
   },
   "outputs": [
    {
     "name": "stdout",
     "output_type": "stream",
     "text": [
      "userId (original)(min,max): 1 671\n",
      "userId_norm (normalizado)(min,max): 0 670\n",
      "n. de usuários: 671\n"
     ]
    }
   ],
   "source": [
    "# verificando se os userIds estão ordenados\n",
    "userId = ratings[:,0].astype(np.int) # userId é coluna 0\n",
    "userId_classes, userId_norm = np.unique(userId,return_inverse=True)\n",
    "n_users = userId_classes.size\n",
    "print('userId (original)(min,max):',userId.min(),userId.max())\n",
    "print('userId_norm (normalizado)(min,max):',userId_norm.min(),userId_norm.max())\n",
    "print('n. de usuários:', n_users)"
   ]
  },
  {
   "cell_type": "markdown",
   "metadata": {},
   "source": [
    "### ratings_norm com userIds normalizados de 0 a 670"
   ]
  },
  {
   "cell_type": "code",
   "execution_count": 10,
   "metadata": {
    "ExecuteTime": {
     "end_time": "2017-09-30T17:18:50.852521Z",
     "start_time": "2017-09-30T17:18:50.842372Z"
    }
   },
   "outputs": [
    {
     "name": "stdout",
     "output_type": "stream",
     "text": [
      "[[ 0.0  31.0  2.5]\n",
      " [ 0.0  1029.0  3.0]\n",
      " [ 0.0  1061.0  3.0]\n",
      " [ 0.0  1129.0  2.0]\n",
      " [ 0.0  1172.0  4.0]]\n"
     ]
    }
   ],
   "source": [
    "ratings_norm = ratings[:,:3].copy()\n",
    "ratings_norm[:,0]=userId_norm\n",
    "print(ratings_norm[:5])"
   ]
  },
  {
   "cell_type": "markdown",
   "metadata": {},
   "source": [
    "### Quantidade de títulos: 9066, reindexando para deixar os movieIds normalizados"
   ]
  },
  {
   "cell_type": "code",
   "execution_count": 11,
   "metadata": {
    "ExecuteTime": {
     "end_time": "2017-09-30T17:18:50.880792Z",
     "start_time": "2017-09-30T17:18:50.855140Z"
    }
   },
   "outputs": [
    {
     "name": "stdout",
     "output_type": "stream",
     "text": [
      "movieId (original)(min,max): 1 163949\n",
      "movieId_norm (normalizado)(min,max): 0 9065\n",
      "movieId_classes[-15:]: [161084 161155 161594 161830 161918 161944 162376 162542 162672 163949]\n",
      "n. de filmes: 9066\n"
     ]
    }
   ],
   "source": [
    "movieId = ratings[:,1].astype(np.int) # movieId em ordem qualquer com múltipla ocorrência\n",
    "movieId_classes,movieId_norm = np.unique(movieId,return_inverse=True)\n",
    "n_movies = movieId_classes.size\n",
    "print('movieId (original)(min,max):',movieId.min(),movieId.max())\n",
    "print('movieId_norm (normalizado)(min,max):',movieId_norm.min(),movieId_norm.max())\n",
    "print('movieId_classes[-15:]:',movieId_classes[-10:])\n",
    "print('n. de filmes:',n_movies)"
   ]
  },
  {
   "cell_type": "markdown",
   "metadata": {},
   "source": [
    "### ratings_norm com userIds e movieIds normalizados"
   ]
  },
  {
   "cell_type": "code",
   "execution_count": 12,
   "metadata": {
    "ExecuteTime": {
     "end_time": "2017-09-30T17:18:50.892304Z",
     "start_time": "2017-09-30T17:18:50.884203Z"
    }
   },
   "outputs": [
    {
     "name": "stdout",
     "output_type": "stream",
     "text": [
      "[[ 0.0  30.0  2.5]\n",
      " [ 0.0  833.0  3.0]\n",
      " [ 0.0  859.0  3.0]\n",
      " [ 0.0  906.0  2.0]\n",
      " [ 0.0  931.0  4.0]]\n"
     ]
    }
   ],
   "source": [
    "ratings_norm[:,1]=movieId_norm\n",
    "print(ratings_norm[:5])"
   ]
  },
  {
   "cell_type": "markdown",
   "metadata": {},
   "source": [
    "### Reindexando o dicionário de títulos com o movieId normalizado"
   ]
  },
  {
   "cell_type": "code",
   "execution_count": 13,
   "metadata": {
    "ExecuteTime": {
     "end_time": "2017-09-30T17:18:50.910036Z",
     "start_time": "2017-09-30T17:18:50.895342Z"
    }
   },
   "outputs": [],
   "source": [
    "movie_names_norm = np.empty((n_movies,),dtype=object) # movie_names_norm é criado como NumPy array\n",
    "for i in np.arange(n_movies):\n",
    "    a = movie_names[movieId_classes[i]]\n",
    "    movie_names_norm[i] = a"
   ]
  },
  {
   "cell_type": "markdown",
   "metadata": {},
   "source": [
    "### Verificando se a conversão dos movieId normalizada está correta"
   ]
  },
  {
   "cell_type": "code",
   "execution_count": 14,
   "metadata": {
    "ExecuteTime": {
     "end_time": "2017-09-30T17:18:50.920635Z",
     "start_time": "2017-09-30T17:18:50.912748Z"
    }
   },
   "outputs": [
    {
     "name": "stdout",
     "output_type": "stream",
     "text": [
      "Dangerous Minds (1995)\n",
      "Dangerous Minds (1995)\n",
      "Dumbo (1941)\n",
      "Dumbo (1941)\n"
     ]
    }
   ],
   "source": [
    "print(movie_names_norm[30])\n",
    "print(movie_names[31])\n",
    "\n",
    "print(movie_names_norm[833])\n",
    "print(movie_names[1029])"
   ]
  },
  {
   "cell_type": "markdown",
   "metadata": {},
   "source": [
    "## Salvando o movielens agora com userId e movieId sequenciais"
   ]
  },
  {
   "cell_type": "code",
   "execution_count": 15,
   "metadata": {
    "ExecuteTime": {
     "end_time": "2017-09-30T17:18:51.333289Z",
     "start_time": "2017-09-30T17:18:50.923182Z"
    }
   },
   "outputs": [],
   "source": [
    "os.makedirs('../data/',exist_ok=True)\n",
    "np.savez_compressed('../data/movielens_norm.npz',\n",
    "                    ratings=ratings_norm,\n",
    "                    movie_names=movie_names_norm)"
   ]
  },
  {
   "cell_type": "markdown",
   "metadata": {},
   "source": [
    "### Leitura para conferir"
   ]
  },
  {
   "cell_type": "code",
   "execution_count": 16,
   "metadata": {
    "ExecuteTime": {
     "end_time": "2017-09-30T17:18:51.396342Z",
     "start_time": "2017-09-30T17:18:51.337481Z"
    }
   },
   "outputs": [],
   "source": [
    "data = np.load('../data/movielens_norm.npz')\n",
    "new_ratings = data['ratings']\n",
    "new_movie_names = data['movie_names']"
   ]
  },
  {
   "cell_type": "code",
   "execution_count": 17,
   "metadata": {
    "ExecuteTime": {
     "end_time": "2017-09-30T17:18:51.405508Z",
     "start_time": "2017-09-30T17:18:51.399165Z"
    }
   },
   "outputs": [
    {
     "data": {
      "text/plain": [
       "array([[ 0.0,  30.0,  2.5],\n",
       "       [ 0.0,  833.0,  3.0],\n",
       "       [ 0.0,  859.0,  3.0],\n",
       "       [ 0.0,  906.0,  2.0],\n",
       "       [ 0.0,  931.0,  4.0]])"
      ]
     },
     "execution_count": 17,
     "metadata": {},
     "output_type": "execute_result"
    }
   ],
   "source": [
    "new_ratings[:5]"
   ]
  },
  {
   "cell_type": "code",
   "execution_count": 18,
   "metadata": {
    "ExecuteTime": {
     "end_time": "2017-09-30T17:18:51.414790Z",
     "start_time": "2017-09-30T17:18:51.408047Z"
    }
   },
   "outputs": [
    {
     "name": "stdout",
     "output_type": "stream",
     "text": [
      "Dangerous Minds (1995)\n",
      "Dumbo (1941)\n",
      "Sleepers (1996)\n",
      "Escape from New York (1981)\n",
      "Cinema Paradiso (Nuovo cinema Paradiso) (1989)\n"
     ]
    }
   ],
   "source": [
    "for i in (new_ratings[:5,1]).astype(np.int):\n",
    "    print(new_movie_names[i])"
   ]
  },
  {
   "cell_type": "markdown",
   "metadata": {},
   "source": [
    "## Análise dos dados"
   ]
  },
  {
   "cell_type": "markdown",
   "metadata": {},
   "source": [
    "### Número de filmes avaliados por usuário"
   ]
  },
  {
   "cell_type": "markdown",
   "metadata": {},
   "source": [
    "`np.bincount(v)` retorna um vetor histograma, contendo o número de ocorrências\n",
    "de cada índice de `v`."
   ]
  },
  {
   "cell_type": "code",
   "execution_count": 19,
   "metadata": {
    "ExecuteTime": {
     "end_time": "2017-09-30T17:18:51.423651Z",
     "start_time": "2017-09-30T17:18:51.416891Z"
    }
   },
   "outputs": [
    {
     "name": "stdout",
     "output_type": "stream",
     "text": [
      "[ 20  76  51 204 100  44  88 116  45  46]\n",
      "(671,)\n"
     ]
    }
   ],
   "source": [
    "h_userId = np.bincount(new_ratings[:,0].astype(np.int))\n",
    "n_users = h_userId.size\n",
    "print(h_userId[:10])\n",
    "print(h_userId.shape)"
   ]
  },
  {
   "cell_type": "markdown",
   "metadata": {},
   "source": [
    "ordena-se o histograma, para mostrar o número de avaliações por usuário. Utiliza-se a escala logarítmica para\n",
    "poder ver melhor os usuários com poucas contribuições."
   ]
  },
  {
   "cell_type": "code",
   "execution_count": 20,
   "metadata": {
    "ExecuteTime": {
     "end_time": "2017-09-30T17:18:52.163059Z",
     "start_time": "2017-09-30T17:18:51.431419Z"
    }
   },
   "outputs": [
    {
     "data": {
      "image/png": "[encoded data removed]",
      "text/plain": [
       "<matplotlib.figure.Figure at 0x7fa73cdec2e8>"
      ]
     },
     "metadata": {},
     "output_type": "display_data"
    }
   ],
   "source": [
    "plt.semilogy(np.sort(h_userId)[::-1])\n",
    "plt.ylabel('n. de filmes avaliados')\n",
    "plt.xlabel('usuário');"
   ]
  },
  {
   "cell_type": "markdown",
   "metadata": {},
   "source": [
    "### Número de avaliações por filme"
   ]
  },
  {
   "cell_type": "markdown",
   "metadata": {},
   "source": [
    "Repete-se o mesmo procedimento em relação ao número de avaliações por filme."
   ]
  },
  {
   "cell_type": "code",
   "execution_count": 21,
   "metadata": {
    "ExecuteTime": {
     "end_time": "2017-09-30T17:18:52.725837Z",
     "start_time": "2017-09-30T17:18:52.165345Z"
    }
   },
   "outputs": [
    {
     "name": "stdout",
     "output_type": "stream",
     "text": [
      "(9066,)\n"
     ]
    },
    {
     "data": {
      "image/png": "[encoded data removed]",
      "text/plain": [
       "<matplotlib.figure.Figure at 0x7fa73ca70898>"
      ]
     },
     "metadata": {},
     "output_type": "display_data"
    }
   ],
   "source": [
    "h_movieId = np.bincount(new_ratings[:,1].astype(np.int))\n",
    "n_movies = h_movieId.size\n",
    "print(h_movieId.shape)\n",
    "plt.semilogy(np.sort(h_movieId)[::-1])\n",
    "plt.ylabel('n. de avaliações')\n",
    "plt.xlabel('filme');"
   ]
  },
  {
   "cell_type": "markdown",
   "metadata": {},
   "source": [
    "### Dez filmes com maior número de avaliações"
   ]
  },
  {
   "cell_type": "code",
   "execution_count": 22,
   "metadata": {
    "ExecuteTime": {
     "end_time": "2017-09-30T17:18:52.742440Z",
     "start_time": "2017-09-30T17:18:52.727583Z"
    }
   },
   "outputs": [
    {
     "name": "stdout",
     "output_type": "stream",
     "text": [
      "341 Forrest Gump (1994)\n",
      "324 Pulp Fiction (1994)\n",
      "311 Shawshank Redemption, The (1994)\n",
      "304 Silence of the Lambs, The (1991)\n",
      "291 Star Wars: Episode IV - A New Hope (1977)\n",
      "274 Jurassic Park (1993)\n",
      "259 Matrix, The (1999)\n",
      "247 Toy Story (1995)\n",
      "244 Schindler's List (1993)\n"
     ]
    }
   ],
   "source": [
    "popular_movies = np.argsort(h_movieId)[:-10:-1]\n",
    "for i in popular_movies:\n",
    "    print(h_movieId[i],new_movie_names[i])"
   ]
  },
  {
   "cell_type": "markdown",
   "metadata": {},
   "source": [
    "## Matriz das avaliações"
   ]
  },
  {
   "cell_type": "markdown",
   "metadata": {},
   "source": [
    "O sistema de recomendação pode ser visualizado por uma matriz onde as linhas sejam os\n",
    "IDs dos usuários e as colunas sejam os IDs dos títulos dos filmes. Colocamos como -1\n",
    "os elementos em que não existem avaliações. Esta matriz é bastante esparsa, pois existem\n",
    "normalmente poucas avaliações feitas."
   ]
  },
  {
   "cell_type": "code",
   "execution_count": 23,
   "metadata": {
    "ExecuteTime": {
     "end_time": "2017-09-30T17:18:52.794480Z",
     "start_time": "2017-09-30T17:18:52.746316Z"
    }
   },
   "outputs": [
    {
     "name": "stdout",
     "output_type": "stream",
     "text": [
      "(671, 9066)\n"
     ]
    }
   ],
   "source": [
    "grid_ratings = -1. * np.ones((n_users,n_movies))\n",
    "uId = (new_ratings[:,0]).astype(np.int)\n",
    "mId = (new_ratings[:,1]).astype(np.int)\n",
    "grid_ratings[uId,mId] = new_ratings[:,2] # Criação da matriz\n",
    "print(grid_ratings.shape)"
   ]
  },
  {
   "cell_type": "markdown",
   "metadata": {},
   "source": [
    "### Conferindo alguns valores"
   ]
  },
  {
   "cell_type": "code",
   "execution_count": 24,
   "metadata": {
    "ExecuteTime": {
     "end_time": "2017-09-30T17:18:52.826106Z",
     "start_time": "2017-09-30T17:18:52.804823Z"
    }
   },
   "outputs": [
    {
     "name": "stdout",
     "output_type": "stream",
     "text": [
      "2.5\n",
      "Dangerous Minds (1995)\n"
     ]
    }
   ],
   "source": [
    "print(grid_ratings[0,30])\n",
    "print(new_movie_names[30])"
   ]
  },
  {
   "cell_type": "markdown",
   "metadata": {},
   "source": [
    "### Visualização da matriz de ratings"
   ]
  },
  {
   "cell_type": "code",
   "execution_count": 25,
   "metadata": {
    "ExecuteTime": {
     "end_time": "2017-09-30T17:18:53.419625Z",
     "start_time": "2017-09-30T17:18:52.835260Z"
    },
    "scrolled": false
   },
   "outputs": [
    {
     "data": {
      "image/png": "[encoded data removed]",
      "text/plain": [
       "<matplotlib.figure.Figure at 0x7fa73ca034e0>"
      ]
     },
     "metadata": {},
     "output_type": "display_data"
    }
   ],
   "source": [
    "show_ratings = np.zeros((n_users,n_movies,3))\n",
    "show_ratings[:,:,0] = np.where(grid_ratings == -1., 5, grid_ratings)\n",
    "show_ratings[:,:,1] = np.where(grid_ratings == -1., 0., grid_ratings)\n",
    "show_ratings[:,:,2] = np.where(grid_ratings == -1., 0., grid_ratings)\n",
    "\n",
    "\n",
    "import matplotlib.pyplot as plt\n",
    "plt.figure(figsize=(6,6))\n",
    "plt.title('usuários (linhas) x filmes (colunas)')\n",
    "plt.imshow(show_ratings[:150,:150,:])\n",
    "plt.xlabel('filmes')\n",
    "plt.ylabel('usuários')\n",
    "plt.show()"
   ]
  },
  {
   "cell_type": "markdown",
   "metadata": {},
   "source": [
    "### Distribuição das avaliações: de 0.5 a 5.0"
   ]
  },
  {
   "cell_type": "code",
   "execution_count": 26,
   "metadata": {
    "ExecuteTime": {
     "end_time": "2017-09-30T17:18:53.699952Z",
     "start_time": "2017-09-30T17:18:53.421219Z"
    }
   },
   "outputs": [
    {
     "data": {
      "text/plain": [
       "(array([ 1101.0,  3326.0,  1687.0,  7271.0,  4449.0,  20064.0,  10538.0,\n",
       "         28750.0,  7723.0,  15095.0]),\n",
       " array([ 0.5,  0.9,  1.4,  1.9,  2.3,  2.8,  3.2,  3.6,  4.1,  4.5,  5.0]),\n",
       " <a list of 10 Patch objects>)"
      ]
     },
     "execution_count": 26,
     "metadata": {},
     "output_type": "execute_result"
    },
    {
     "data": {
      "image/png": "[encoded data removed]",
      "text/plain": [
       "<matplotlib.figure.Figure at 0x7fa73cb0deb8>"
      ]
     },
     "metadata": {},
     "output_type": "display_data"
    }
   ],
   "source": [
    "gt = grid_ratings.copy().reshape(-1)\n",
    "\n",
    "plt.hist(gt[gt>=0])"
   ]
  },
  {
   "cell_type": "markdown",
   "metadata": {},
   "source": [
    "### Ordenação por filmes mais populares e usuários mais ativos"
   ]
  },
  {
   "cell_type": "markdown",
   "metadata": {},
   "source": [
    "Visualizando a matriz dos 150 filmes mais populares e 150 usuários mais ativos"
   ]
  },
  {
   "cell_type": "code",
   "execution_count": 27,
   "metadata": {
    "ExecuteTime": {
     "end_time": "2017-09-30T17:18:54.401875Z",
     "start_time": "2017-09-30T17:18:53.703041Z"
    }
   },
   "outputs": [
    {
     "data": {
      "image/png": "[encoded data removed]",
      "text/plain": [
       "<matplotlib.figure.Figure at 0x7fa73c7129e8>"
      ]
     },
     "metadata": {},
     "output_type": "display_data"
    }
   ],
   "source": [
    "i_pop_movies = np.argsort(h_movieId)[::-1]\n",
    "i_pop_users = np.argsort(h_userId)[::-1]\n",
    "pop_show_ratings = show_ratings[np.ix_(i_pop_users,i_pop_movies)]\n",
    "plt.figure(figsize=(7,7))\n",
    "plt.title('usuários (linhas) x filmes (colunas)')\n",
    "plt.imshow(pop_show_ratings[:150,:150,:])\n",
    "plt.ylabel('usuarios')\n",
    "plt.xlabel('filmes')\n",
    "plt.show()"
   ]
  },
  {
   "cell_type": "markdown",
   "metadata": {},
   "source": [
    "### Visualizando a matriz dos 150 filmes menos populares e 150 usuários menos ativos"
   ]
  },
  {
   "cell_type": "code",
   "execution_count": 28,
   "metadata": {
    "ExecuteTime": {
     "end_time": "2017-09-30T17:18:54.714864Z",
     "start_time": "2017-09-30T17:18:54.403499Z"
    }
   },
   "outputs": [
    {
     "data": {
      "image/png": "[encoded data removed]",
      "text/plain": [
       "<matplotlib.figure.Figure at 0x7fa73c712da0>"
      ]
     },
     "metadata": {},
     "output_type": "display_data"
    }
   ],
   "source": [
    "plt.figure(figsize=(7,7))\n",
    "plt.title('usuários (linhas) x filmes (colunas)')\n",
    "plt.imshow(pop_show_ratings[-150:,-150:]) # visualizando o canto inferior direito\n",
    "plt.ylabel('usuarios')\n",
    "plt.xlabel('filmes')\n",
    "plt.show()"
   ]
  },
  {
   "cell_type": "markdown",
   "metadata": {},
   "source": [
    "## Subset dos 10 filmes mais populares e usuários mais ativos"
   ]
  },
  {
   "cell_type": "code",
   "execution_count": 29,
   "metadata": {
    "ExecuteTime": {
     "end_time": "2017-09-30T17:18:54.824867Z",
     "start_time": "2017-09-30T17:18:54.717654Z"
    }
   },
   "outputs": [
    {
     "name": "stdout",
     "output_type": "stream",
     "text": [
      "pop_users: [546 563 623  14  72 451 467 379 310  29]\n",
      "pop_movies: [ 321  266  284  525  232  427 2062    0  472  522]\n"
     ]
    },
    {
     "data": {
      "text/plain": [
       "array([[ 2.0,  5.0,  5.0,  5.0, -1.0,  3.0,  3.5,  3.5,  5.0, -1.0],\n",
       "       [ 3.0,  5.0, -1.0,  5.0,  2.0,  5.0,  3.0,  4.0,  4.0,  5.0],\n",
       "       [ 3.0,  5.0, -1.0,  5.0,  5.0,  3.0,  2.0,  5.0, -1.0,  3.0],\n",
       "       [ 1.0,  5.0,  2.0,  5.0,  5.0,  3.0,  5.0,  2.0,  4.0,  4.0],\n",
       "       [ 5.0,  5.0,  5.0,  4.5,  4.5,  4.0,  4.5,  5.0,  5.0,  3.0],\n",
       "       [ 4.0,  5.0,  5.0,  5.0,  4.0,  5.0,  2.0,  3.5,  4.0,  4.0],\n",
       "       [ 3.0,  3.5,  3.5,  3.0,  3.5,  2.5,  3.0,  4.0, -1.0, -1.0],\n",
       "       [ 5.0,  5.0,  4.0,  5.0,  4.0,  4.0,  5.0,  4.0, -1.0,  4.0],\n",
       "       [ 5.0,  3.0,  4.5,  2.0,  4.0,  4.5,  4.0,  3.0,  5.0,  4.5],\n",
       "       [ 5.0,  5.0,  5.0,  4.0,  4.0,  4.0,  3.0,  4.0,  5.0,  4.0]])"
      ]
     },
     "execution_count": 29,
     "metadata": {},
     "output_type": "execute_result"
    }
   ],
   "source": [
    "print('pop_users:',i_pop_users[:10])\n",
    "print('pop_movies:',i_pop_movies[:10])\n",
    "grid_ratings[np.ix_(i_pop_users,i_pop_movies)][:10,:10]"
   ]
  },
  {
   "cell_type": "code",
   "execution_count": 30,
   "metadata": {
    "ExecuteTime": {
     "end_time": "2017-09-30T17:18:54.844516Z",
     "start_time": "2017-09-30T17:18:54.832348Z"
    }
   },
   "outputs": [
    {
     "name": "stdout",
     "output_type": "stream",
     "text": [
      "Forrest Gump (1994)\n",
      "Pulp Fiction (1994)\n",
      "Shawshank Redemption, The (1994)\n",
      "Silence of the Lambs, The (1991)\n",
      "Star Wars: Episode IV - A New Hope (1977)\n",
      "Jurassic Park (1993)\n",
      "Matrix, The (1999)\n",
      "Toy Story (1995)\n",
      "Schindler's List (1993)\n",
      "Terminator 2: Judgment Day (1991)\n"
     ]
    }
   ],
   "source": [
    "for i in i_pop_movies[:10]:\n",
    "    print(new_movie_names[i])"
   ]
  },
  {
   "cell_type": "markdown",
   "metadata": {},
   "source": [
    "## Sugestões de exercícios"
   ]
  },
  {
   "cell_type": "markdown",
   "metadata": {},
   "source": [
    "1. Calcule o porcentagem de avaliações em relação ao número total possível de avaliações.\n",
    "2. Quantos filmes estão com apenas uma avaliação?\n",
    "3. Quantos usuários fizeram apenas uma avaliação?"
   ]
  },
  {
   "cell_type": "markdown",
   "metadata": {
    "collapsed": true
   },
   "source": [
    "## Aprendizados com este notebook"
   ]
  },
  {
   "cell_type": "code",
   "execution_count": null,
   "metadata": {
    "collapsed": true
   },
   "outputs": [],
   "source": []
  }
 ],
 "metadata": {
  "kernelspec": {
   "display_name": "Python 3",
   "language": "python",
   "name": "python3"
  },
  "language_info": {
   "codemirror_mode": {
    "name": "ipython",
    "version": 3
   },
   "file_extension": ".py",
   "mimetype": "text/x-python",
   "name": "python",
   "nbconvert_exporter": "python",
   "pygments_lexer": "ipython3",
   "version": "3.6.1"
  },
  "toc": {
   "nav_menu": {
    "height": "119px",
    "width": "252px"
   },
   "number_sections": true,
   "sideBar": true,
   "skip_h1_title": false,
   "toc_cell": false,
   "toc_position": {},
   "toc_section_display": "block",
   "toc_window_display": false
  }
 },
 "nbformat": 4,
 "nbformat_minor": 1
}
