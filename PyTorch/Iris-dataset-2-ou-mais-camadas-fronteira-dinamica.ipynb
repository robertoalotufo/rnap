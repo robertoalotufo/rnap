{
  "cells": [
    {
      "cell_type": "markdown",
      "metadata": {
        "id": "view-in-github",
        "colab_type": "text"
      },
      "source": [
        "<a href=\"https://colab.research.google.com/github/robertoalotufo/rnap/blob/master/PyTorch/Iris-dataset-2-ou-mais-camadas-fronteira-dinamica.ipynb\" target=\"_parent\"><img src=\"https://colab.research.google.com/assets/colab-badge.svg\" alt=\"Open In Colab\"/></a>"
      ]
    },
    {
      "cell_type": "markdown",
      "metadata": {
        "id": "1gz13Z4sG-jd"
      },
      "source": [
        "# Rede neural com camadas escondidas - Classificação do Iris dataset"
      ]
    },
    {
      "cell_type": "markdown",
      "metadata": {
        "id": "CuVSIoWqG-jf"
      },
      "source": [
        "O objetivo desse experimento é ilustrar o uso de rede neural que tenha mais de uma camada. Isso é conseguido com a inserção de uma ativação não linear entre as camadas.\n",
        "\n",
        "Datasets utilizados:\n",
        "    - Iris - 3 classes\n",
        "    - Sintéticos:\n",
        "        - meia luas\n",
        "        - círculos circunscritos\n",
        "        - blobs"
      ]
    },
    {
      "cell_type": "markdown",
      "metadata": {
        "ExecuteTime": {
          "end_time": "2017-10-17T11:35:30.295471",
          "start_time": "2017-10-17T11:35:30.291532"
        },
        "id": "i2n1kZm7G-jf"
      },
      "source": [
        "<img src='https://github.com/robertoalotufo/rnap/blob/master/figures/Net2RegressaoSoftmaxArgmaxRede.png?raw=1' width=\"600\"></img>"
      ]
    },
    {
      "cell_type": "markdown",
      "metadata": {
        "id": "kA1wHUkdG-jf"
      },
      "source": [
        "## Importando as bibliotecas"
      ]
    },
    {
      "cell_type": "code",
      "execution_count": 1,
      "metadata": {
        "ExecuteTime": {
          "end_time": "2018-08-20T23:03:35.173453Z",
          "start_time": "2018-08-20T23:03:30.759818Z"
        },
        "id": "yrTwOlsnG-jf"
      },
      "outputs": [],
      "source": [
        "%matplotlib inline\n",
        "from sklearn import datasets\n",
        "from IPython import display\n",
        "import numpy as np\n",
        "import matplotlib.pyplot as plt\n",
        "import pandas as pd\n",
        "\n",
        "import torch\n",
        "import torch.nn as nn"
      ]
    },
    {
      "cell_type": "markdown",
      "metadata": {
        "id": "g1e50CT3G-jg"
      },
      "source": [
        "## Leitura, normalização e visualização dos dados"
      ]
    },
    {
      "cell_type": "code",
      "execution_count": 2,
      "metadata": {
        "ExecuteTime": {
          "end_time": "2018-08-20T23:03:42.824798Z",
          "start_time": "2018-08-20T23:03:41.913196Z"
        },
        "id": "3TTKOP0jG-jg",
        "outputId": "78535176-e2bb-49b5-ed64-547b9545d0d3",
        "colab": {
          "base_uri": "https://localhost:8080/",
          "height": 279
        }
      },
      "outputs": [
        {
          "output_type": "display_data",
          "data": {
            "text/plain": [
              "<Figure size 432x288 with 1 Axes>"
            ],
            "image/png": "[encoded data removed]"
          },
          "metadata": {
            "needs_background": "light"
          }
        }
      ],
      "source": [
        "n_samples = 150\n",
        "options = ['iris', 'moon', 'circles', 'blobs']\n",
        "option = options[2]\n",
        "if option is 'iris':\n",
        "    iris = datasets.load_iris()\n",
        "    X = iris.data[:,:2]  # comprimento das sépalas e pétalas, indices 0 e 2\n",
        "    Xc = X - X.min(axis=0)\n",
        "    Xc /= Xc.max(axis=0)\n",
        "    Y = iris.target\n",
        "elif option is 'moon':\n",
        "    Xc,Y = datasets.make_moons(n_samples=n_samples, noise=.15)\n",
        "elif option is 'circles':\n",
        "    Xc,Y = datasets.make_circles(n_samples=n_samples, factor=.5, noise=.1)\n",
        "elif option is 'blobs':\n",
        "    Xc,Y = datasets.make_blobs(n_samples=n_samples,centers=3,cluster_std=1.2)\n",
        "\n",
        "colors = np.array(['r','y','b'])\n",
        "plt.scatter(Xc[:, 0], Xc[:, 1], c=colors[Y])\n",
        "plt.xlabel('Sepal length')\n",
        "plt.ylabel('Sepal width')\n",
        "plt.show()"
      ]
    },
    {
      "cell_type": "markdown",
      "metadata": {
        "id": "NPzz_vv7G-jh"
      },
      "source": [
        "### Prepara os dados para o PyTorch"
      ]
    },
    {
      "cell_type": "code",
      "execution_count": 3,
      "metadata": {
        "ExecuteTime": {
          "end_time": "2018-08-20T23:03:46.584589Z",
          "start_time": "2018-08-20T23:03:46.559508Z"
        },
        "id": "I5cQ6qESG-jh"
      },
      "outputs": [],
      "source": [
        "X_tensor = torch.FloatTensor(Xc)\n",
        "Y_tensor = torch.LongTensor(Y)"
      ]
    },
    {
      "cell_type": "markdown",
      "metadata": {
        "id": "QcTfEqJfG-jh"
      },
      "source": [
        "## Construindo o modelo da rede"
      ]
    },
    {
      "cell_type": "code",
      "execution_count": 4,
      "metadata": {
        "ExecuteTime": {
          "end_time": "2018-08-20T23:03:50.615748Z",
          "start_time": "2018-08-20T23:03:50.583979Z"
        },
        "id": "wkqC4W8BG-ji",
        "outputId": "1d18f0bf-c624-4c71-d379-eed816c290eb",
        "colab": {
          "base_uri": "https://localhost:8080/"
        }
      },
      "outputs": [
        {
          "output_type": "stream",
          "name": "stdout",
          "text": [
            "Modelo(\n",
            "  (dense): Sequential(\n",
            "    (0): Linear(in_features=2, out_features=5, bias=True)\n",
            "    (1): ReLU()\n",
            "    (2): Linear(in_features=5, out_features=3, bias=True)\n",
            "  )\n",
            ")\n"
          ]
        }
      ],
      "source": [
        "class Modelo(nn.Module):\n",
        "    def __init__(self):\n",
        "        super(Modelo, self).__init__()\n",
        "        self.dense = nn.Sequential(\n",
        "            nn.Linear(2, 5),\n",
        "            nn.ReLU(),\n",
        "            #nn.Tanh(),\n",
        "            nn.Linear(5, 3),\n",
        "        )\n",
        "    \n",
        "    def forward(self, x):\n",
        "        x = self.dense(x)\n",
        "        \n",
        "        return x\n",
        "    \n",
        "model = Modelo()\n",
        "print(model)"
      ]
    },
    {
      "cell_type": "markdown",
      "metadata": {
        "id": "p07VJXHUG-ji"
      },
      "source": [
        "## _predict_ utilizada para predição de classes e na visualização"
      ]
    },
    {
      "cell_type": "code",
      "execution_count": 5,
      "metadata": {
        "ExecuteTime": {
          "end_time": "2018-08-20T23:04:01.466899Z",
          "start_time": "2018-08-20T23:04:01.458522Z"
        },
        "id": "gpnH7IDrG-ji"
      },
      "outputs": [],
      "source": [
        "def predict(model, inputs):\n",
        "    outputs = model(inputs)\n",
        "    _, predicts = torch.max(outputs, 1)\n",
        "    \n",
        "    return predicts.data.numpy()"
      ]
    },
    {
      "cell_type": "markdown",
      "metadata": {
        "id": "8RjWJajHG-ji"
      },
      "source": [
        "## Classe para visualização dinâmica"
      ]
    },
    {
      "cell_type": "code",
      "execution_count": 6,
      "metadata": {
        "ExecuteTime": {
          "end_time": "2018-08-20T23:04:20.959326Z",
          "start_time": "2018-08-20T23:04:20.938287Z"
        },
        "id": "p3DuLpfAG-ji"
      },
      "outputs": [],
      "source": [
        "class BoundaryPlotter():\n",
        "    def __init__(self, model, X, Y, n_epoch, filepath=None, h = .01):\n",
        "        self.model = model\n",
        "        self.X = X\n",
        "        self.Y = Y\n",
        "        self.n_epoch = n_epoch\n",
        "        self.filepath = filepath\n",
        "        x_min, x_max = X[:, 0].min() - .5, X[:, 0].max() + .5\n",
        "        y_min, y_max = X[:, 1].min() - .5, X[:, 1].max() + .5\n",
        "        self.xx, self.yy = np.meshgrid(np.arange(x_min, x_max, h), np.arange(y_min, y_max, h))\n",
        "        self.loss_hist = []\n",
        "        self.val_loss_hist = []\n",
        "        self.X_grid = np.c_[self.xx.ravel(), self.yy.ravel()]\n",
        "        \n",
        "        #Gráficos a serem mostrados pelo callback\n",
        "        self.fig = plt.figure(figsize=(8, 4), dpi=100)\n",
        "        self.ax1 = self.fig.add_subplot(1, 2, 1)\n",
        "        self.ax1.set_xlim(0, nb_epoch)\n",
        "        self.ax1.set_xlabel('Epoca')#,fontsize=28)\n",
        "        self.ax1.set_ylabel('Perda')#,fontsize=28)\n",
        "        self.ax1.plot([],[],'b',linewidth = 2.0,label = \"Treino\")\n",
        "        self.ax1.grid(True)\n",
        "\n",
        "        self.ax2 = self.fig.add_subplot(1, 2, 2)\n",
        "        self.ax2.set_xlim(Xc[:,0].min(), Xc[:,0].max())\n",
        "        self.ax2.set_ylim(Xc[:,1].min(), Xc[:,1].max())\n",
        "        self.ax2.set_xlabel('Comprimento da Sepala')#,fontsize=28)\n",
        "        self.ax2.set_ylabel('Largura da Sepala')#,fontsize=28)\n",
        "\n",
        "    def on_train_begin(self, logs={}):\n",
        "        display.display(self.fig)\n",
        "        display.clear_output(wait=True)\n",
        "\n",
        "    def on_epoch_end(self, epoch, logs={}):\n",
        "        if 'loss' in logs.keys():\n",
        "            self.loss_hist.append(logs['loss'])\n",
        "            \n",
        "            if epoch%250==0:\n",
        "                self.ax1.plot(np.arange(epoch+1), self.loss_hist, 'b', linewidth = 2.0)\n",
        "                \n",
        "                Z = predict(self.model, torch.from_numpy(self.X_grid).type(torch.FloatTensor))\n",
        "#                 Z = torch.max(self.model(Variable(torch.FloatTensor(self.X_grid))).data, dim=1)[1].numpy()\n",
        "                Z = Z.reshape(self.xx.shape)\n",
        "                \n",
        "                self.ax2.pcolormesh(self.xx, self.yy, Z, cmap=plt.cm.Paired)\n",
        "                colors = np.array(['r','y','b'])\n",
        "                self.ax2.scatter(self.X[:, 0], self.X[:, 1], s=40, c=colors[self.Y], edgecolors='k', cmap=plt.cm.Paired)\n",
        "                \n",
        "                display.display(self.fig)\n",
        "                display.clear_output(wait=True)"
      ]
    },
    {
      "cell_type": "markdown",
      "metadata": {
        "id": "VJhBFJ2ZG-jj"
      },
      "source": [
        "## Treinamento"
      ]
    },
    {
      "cell_type": "code",
      "execution_count": 7,
      "metadata": {
        "ExecuteTime": {
          "end_time": "2018-08-20T23:04:24.713453Z",
          "start_time": "2018-08-20T23:04:24.706818Z"
        },
        "id": "ANWZZSMdG-jj"
      },
      "outputs": [],
      "source": [
        "lr = 0.15\n",
        "\n",
        "optimizer = torch.optim.SGD(model.parameters(), lr=lr)\n",
        "\n",
        "criterion = nn.CrossEntropyLoss()"
      ]
    },
    {
      "cell_type": "markdown",
      "metadata": {
        "id": "hbrde_92G-jj"
      },
      "source": [
        "### Laço principal de treinamento"
      ]
    },
    {
      "cell_type": "code",
      "execution_count": 8,
      "metadata": {
        "ExecuteTime": {
          "end_time": "2018-08-20T23:05:22.825502Z",
          "start_time": "2018-08-20T23:05:01.784146Z"
        },
        "scrolled": false,
        "id": "f8a4OZNgG-jj",
        "outputId": "a9c3275d-5771-4712-e08a-6ed6d1c7b1a5",
        "colab": {
          "base_uri": "https://localhost:8080/",
          "height": 399
        }
      },
      "outputs": [
        {
          "output_type": "stream",
          "name": "stdout",
          "text": [
            "Final loss: 0.03191891312599182\n"
          ]
        },
        {
          "output_type": "display_data",
          "data": {
            "text/plain": [
              "<Figure size 800x400 with 2 Axes>"
            ],
            "image/png": "[encoded data removed]"
          },
          "metadata": {
            "needs_background": "light"
          }
        }
      ],
      "source": [
        "batch_size = 10\n",
        "nb_epoch = 3000\n",
        "\n",
        "#Definindo o plotter\n",
        "boundary_plot = BoundaryPlotter(model, Xc, Y, nb_epoch)\n",
        "\n",
        "boundary_plot.on_train_begin()\n",
        "losses = []\n",
        "for i in range(nb_epoch):\n",
        "    # predict da rede\n",
        "    output = model(X_tensor)\n",
        "\n",
        "    loss = criterion(output, Y_tensor)\n",
        "\n",
        "    # zero, backpropagation gradient, atualiza param gradiente descendente\n",
        "    optimizer.zero_grad()\n",
        "    loss.backward()\n",
        "    optimizer.step()\n",
        "    \n",
        "    losses.append(loss.item())\n",
        "\n",
        "    boundary_plot.on_epoch_end(i, {'loss': loss.item()})\n",
        "    \n",
        "print('Final loss:', loss.item())"
      ]
    },
    {
      "cell_type": "markdown",
      "metadata": {
        "id": "dHTMZaLaG-jj"
      },
      "source": [
        "## Avaliação"
      ]
    },
    {
      "cell_type": "markdown",
      "metadata": {
        "id": "nHnZ68YvG-jj"
      },
      "source": [
        "### Imprimindo pesos finais"
      ]
    },
    {
      "cell_type": "code",
      "execution_count": 9,
      "metadata": {
        "ExecuteTime": {
          "end_time": "2018-08-20T23:05:24.070856Z",
          "start_time": "2018-08-20T23:05:24.061171Z"
        },
        "scrolled": false,
        "id": "OmcjCbErG-jk",
        "outputId": "ac682823-ca92-4d9f-bb0c-8b60baf1695e",
        "colab": {
          "base_uri": "https://localhost:8080/"
        }
      },
      "outputs": [
        {
          "output_type": "stream",
          "name": "stdout",
          "text": [
            "dense.0.weight  torch.Size([5, 2])\n",
            "dense.0.bias    torch.Size([5])\n",
            "dense.2.weight  torch.Size([3, 5])\n",
            "dense.2.bias    torch.Size([3])\n"
          ]
        }
      ],
      "source": [
        "for name, w in model.state_dict().items():\n",
        "    print('{:16}{}'.format(name, w.size()))\n",
        "    #print(w)"
      ]
    },
    {
      "cell_type": "markdown",
      "metadata": {
        "id": "1VgvKKwfG-jk"
      },
      "source": [
        "### Avaliação do classificador"
      ]
    },
    {
      "cell_type": "code",
      "execution_count": 10,
      "metadata": {
        "ExecuteTime": {
          "end_time": "2018-08-20T23:05:27.299478Z",
          "start_time": "2018-08-20T23:05:27.287802Z"
        },
        "id": "76NgmAGzG-jk",
        "outputId": "41f2e55e-0ac6-42aa-95c8-21d9db40f9ea",
        "colab": {
          "base_uri": "https://localhost:8080/"
        }
      },
      "outputs": [
        {
          "output_type": "stream",
          "name": "stdout",
          "text": [
            "\n",
            "Training Accuracy:  1.0\n"
          ]
        }
      ],
      "source": [
        "Y_hat = predict(model, X_tensor)\n",
        "accuracy = (Y_hat == Y).mean()\n",
        "print() \n",
        "print('Training Accuracy: ', accuracy)"
      ]
    },
    {
      "cell_type": "markdown",
      "metadata": {
        "id": "zDo2VI_iG-jk"
      },
      "source": [
        "### Matriz de confusão"
      ]
    },
    {
      "cell_type": "code",
      "execution_count": 11,
      "metadata": {
        "ExecuteTime": {
          "end_time": "2018-08-20T23:05:29.318740Z",
          "start_time": "2018-08-20T23:05:29.139582Z"
        },
        "id": "cRLyD4hlG-jk",
        "outputId": "96490422-133f-44b8-8318-f8c812b430a0",
        "colab": {
          "base_uri": "https://localhost:8080/",
          "height": 143
        }
      },
      "outputs": [
        {
          "output_type": "execute_result",
          "data": {
            "text/plain": [
              "col_0   0   1\n",
              "row_0        \n",
              "0      75   0\n",
              "1       0  75"
            ],
            "text/html": [
              "\n",
              "  <div id=\"df-9e9a4cdc-a66f-4dbb-ac79-334abd942ffb\">\n",
              "    <div class=\"colab-df-container\">\n",
              "      <div>\n",
              "<style scoped>\n",
              "    .dataframe tbody tr th:only-of-type {\n",
              "        vertical-align: middle;\n",
              "    }\n",
              "\n",
              "    .dataframe tbody tr th {\n",
              "        vertical-align: top;\n",
              "    }\n",
              "\n",
              "    .dataframe thead th {\n",
              "        text-align: right;\n",
              "    }\n",
              "</style>\n",
              "<table border=\"1\" class=\"dataframe\">\n",
              "  <thead>\n",
              "    <tr style=\"text-align: right;\">\n",
              "      <th>col_0</th>\n",
              "      <th>0</th>\n",
              "      <th>1</th>\n",
              "    </tr>\n",
              "    <tr>\n",
              "      <th>row_0</th>\n",
              "      <th></th>\n",
              "      <th></th>\n",
              "    </tr>\n",
              "  </thead>\n",
              "  <tbody>\n",
              "    <tr>\n",
              "      <th>0</th>\n",
              "      <td>75</td>\n",
              "      <td>0</td>\n",
              "    </tr>\n",
              "    <tr>\n",
              "      <th>1</th>\n",
              "      <td>0</td>\n",
              "      <td>75</td>\n",
              "    </tr>\n",
              "  </tbody>\n",
              "</table>\n",
              "</div>\n",
              "      <button class=\"colab-df-convert\" onclick=\"convertToInteractive('df-9e9a4cdc-a66f-4dbb-ac79-334abd942ffb')\"\n",
              "              title=\"Convert this dataframe to an interactive table.\"\n",
              "              style=\"display:none;\">\n",
              "        \n",
              "  <svg xmlns=\"http://www.w3.org/2000/svg\" height=\"24px\"viewBox=\"0 0 24 24\"\n",
              "       width=\"24px\">\n",
              "    <path d=\"M0 0h24v24H0V0z\" fill=\"none\"/>\n",
              "    <path d=\"M18.56 5.44l.94 2.06.94-2.06 2.06-.94-2.06-.94-.94-2.06-.94 2.06-2.06.94zm-11 1L8.5 8.5l.94-2.06 2.06-.94-2.06-.94L8.5 2.5l-.94 2.06-2.06.94zm10 10l.94 2.06.94-2.06 2.06-.94-2.06-.94-.94-2.06-.94 2.06-2.06.94z\"/><path d=\"M17.41 7.96l-1.37-1.37c-.4-.4-.92-.59-1.43-.59-.52 0-1.04.2-1.43.59L10.3 9.45l-7.72 7.72c-.78.78-.78 2.05 0 2.83L4 21.41c.39.39.9.59 1.41.59.51 0 1.02-.2 1.41-.59l7.78-7.78 2.81-2.81c.8-.78.8-2.07 0-2.86zM5.41 20L4 18.59l7.72-7.72 1.47 1.35L5.41 20z\"/>\n",
              "  </svg>\n",
              "      </button>\n",
              "      \n",
              "  <style>\n",
              "    .colab-df-container {\n",
              "      display:flex;\n",
              "      flex-wrap:wrap;\n",
              "      gap: 12px;\n",
              "    }\n",
              "\n",
              "    .colab-df-convert {\n",
              "      background-color: #E8F0FE;\n",
              "      border: none;\n",
              "      border-radius: 50%;\n",
              "      cursor: pointer;\n",
              "      display: none;\n",
              "      fill: #1967D2;\n",
              "      height: 32px;\n",
              "      padding: 0 0 0 0;\n",
              "      width: 32px;\n",
              "    }\n",
              "\n",
              "    .colab-df-convert:hover {\n",
              "      background-color: #E2EBFA;\n",
              "      box-shadow: 0px 1px 2px rgba(60, 64, 67, 0.3), 0px 1px 3px 1px rgba(60, 64, 67, 0.15);\n",
              "      fill: #174EA6;\n",
              "    }\n",
              "\n",
              "    [theme=dark] .colab-df-convert {\n",
              "      background-color: #3B4455;\n",
              "      fill: #D2E3FC;\n",
              "    }\n",
              "\n",
              "    [theme=dark] .colab-df-convert:hover {\n",
              "      background-color: #434B5C;\n",
              "      box-shadow: 0px 1px 3px 1px rgba(0, 0, 0, 0.15);\n",
              "      filter: drop-shadow(0px 1px 2px rgba(0, 0, 0, 0.3));\n",
              "      fill: #FFFFFF;\n",
              "    }\n",
              "  </style>\n",
              "\n",
              "      <script>\n",
              "        const buttonEl =\n",
              "          document.querySelector('#df-9e9a4cdc-a66f-4dbb-ac79-334abd942ffb button.colab-df-convert');\n",
              "        buttonEl.style.display =\n",
              "          google.colab.kernel.accessAllowed ? 'block' : 'none';\n",
              "\n",
              "        async function convertToInteractive(key) {\n",
              "          const element = document.querySelector('#df-9e9a4cdc-a66f-4dbb-ac79-334abd942ffb');\n",
              "          const dataTable =\n",
              "            await google.colab.kernel.invokeFunction('convertToInteractive',\n",
              "                                                     [key], {});\n",
              "          if (!dataTable) return;\n",
              "\n",
              "          const docLinkHtml = 'Like what you see? Visit the ' +\n",
              "            '<a target=\"_blank\" href=https://colab.research.google.com/notebooks/data_table.ipynb>data table notebook</a>'\n",
              "            + ' to learn more about interactive tables.';\n",
              "          element.innerHTML = '';\n",
              "          dataTable['output_type'] = 'display_data';\n",
              "          await google.colab.output.renderOutput(dataTable, element);\n",
              "          const docLink = document.createElement('div');\n",
              "          docLink.innerHTML = docLinkHtml;\n",
              "          element.appendChild(docLink);\n",
              "        }\n",
              "      </script>\n",
              "    </div>\n",
              "  </div>\n",
              "  "
            ]
          },
          "metadata": {},
          "execution_count": 11
        }
      ],
      "source": [
        "import pandas as pd\n",
        "pd.crosstab(Y_hat, Y)"
      ]
    },
    {
      "cell_type": "markdown",
      "metadata": {
        "id": "pbCWRryBG-jk"
      },
      "source": [
        "## Atividades"
      ]
    },
    {
      "cell_type": "markdown",
      "metadata": {
        "id": "OpTbrIu5G-jk"
      },
      "source": [
        "### Experimentos:"
      ]
    },
    {
      "cell_type": "markdown",
      "metadata": {
        "id": "EmtnfxIRG-jk"
      },
      "source": [
        "1. Troque o dataset, utilizado. Veja que tem vários para escolher.\n",
        "2. Faça alterações na rede, alterando o número de neurônios, de camadas.\n",
        "3. No lugar da ReLU, coloque Sigmoid e observe a diferença\n",
        "4. O que ocorre quando não se utiliza ativação não linear entre camadas."
      ]
    },
    {
      "cell_type": "markdown",
      "metadata": {
        "id": "p7nbKyZvG-jk"
      },
      "source": [
        "## Principais aprendizados"
      ]
    }
  ],
  "metadata": {
    "kernelspec": {
      "display_name": "Python 3",
      "language": "python",
      "name": "python3"
    },
    "language_info": {
      "codemirror_mode": {
        "name": "ipython",
        "version": 3
      },
      "file_extension": ".py",
      "mimetype": "text/x-python",
      "name": "python",
      "nbconvert_exporter": "python",
      "pygments_lexer": "ipython3",
      "version": "3.6.5"
    },
    "toc": {
      "nav_menu": {
        "height": "248px",
        "width": "252px"
      },
      "number_sections": true,
      "sideBar": true,
      "skip_h1_title": false,
      "toc_cell": false,
      "toc_position": {},
      "toc_section_display": "block",
      "toc_window_display": false
    },
    "colab": {
      "name": "Iris-dataset-2-ou-mais-camadas-fronteira-dinamica.ipynb",
      "provenance": [],
      "include_colab_link": true
    }
  },
  "nbformat": 4,
  "nbformat_minor": 0
}