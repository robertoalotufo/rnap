{
 "cells": [
  {
   "cell_type": "markdown",
   "metadata": {},
   "source": [
    "# Rede neural com camadas escondidas - Classificação do Iris dataset"
   ]
  },
  {
   "cell_type": "markdown",
   "metadata": {},
   "source": [
    "O objetivo desse experimento é ilustrar o uso de rede neural que tenha mais de uma camada. Isso é conseguido com a inserção de uma ativação não linear entre as camadas.\n",
    "\n",
    "Datasets utilizados:\n",
    "    - Iris - 3 classes\n",
    "    - Sintéticos:\n",
    "        - meia luas\n",
    "        - círculos circunscritos\n",
    "        - blobs"
   ]
  },
  {
   "cell_type": "markdown",
   "metadata": {
    "ExecuteTime": {
     "end_time": "2017-10-17T11:35:30.295471",
     "start_time": "2017-10-17T11:35:30.291532"
    }
   },
   "source": [
    "<img src='../figures/Net2RegressaoSoftmaxArgmaxRede.png', width=600></img>"
   ]
  },
  {
   "cell_type": "markdown",
   "metadata": {},
   "source": [
    "## Importando as bibliotecas"
   ]
  },
  {
   "cell_type": "code",
   "execution_count": 1,
   "metadata": {
    "ExecuteTime": {
     "end_time": "2017-11-24T22:54:25.345600Z",
     "start_time": "2017-11-24T22:54:22.586145Z"
    }
   },
   "outputs": [],
   "source": [
    "%matplotlib inline\n",
    "from sklearn import datasets\n",
    "from IPython import display\n",
    "import numpy as np\n",
    "import matplotlib.pyplot as plt\n",
    "import pandas as pd\n",
    "\n",
    "import torch\n",
    "from torch.autograd import Variable\n",
    "import torch.nn as nn"
   ]
  },
  {
   "cell_type": "markdown",
   "metadata": {},
   "source": [
    "## Leitura, normalização e visualização dos dados"
   ]
  },
  {
   "cell_type": "code",
   "execution_count": 2,
   "metadata": {
    "ExecuteTime": {
     "end_time": "2017-11-24T22:55:12.042681Z",
     "start_time": "2017-11-24T22:55:11.740459Z"
    }
   },
   "outputs": [
    {
     "data": {
      "image/png": "[encoded data removed]",
      "text/plain": [
       "<matplotlib.figure.Figure at 0x7fca75369f98>"
      ]
     },
     "metadata": {},
     "output_type": "display_data"
    }
   ],
   "source": [
    "n_samples = 150\n",
    "options = ['iris', 'moon', 'circles', 'blobs']\n",
    "option = options[0]\n",
    "if option is 'iris':\n",
    "    iris = datasets.load_iris()\n",
    "    X = iris.data[:,:2]  # comprimento das sépalas e pétalas, indices 0 e 2\n",
    "    Xc = X - X.min(axis=0)\n",
    "    Xc /= Xc.max(axis=0)\n",
    "    Y = iris.target\n",
    "elif option is 'moon':\n",
    "    Xc,Y = datasets.make_moons(n_samples=n_samples, noise=.15)\n",
    "elif option is 'circles':\n",
    "    Xc,Y = datasets.make_circles(n_samples=n_samples, factor=.5, noise=.1)\n",
    "elif option is 'blobs':\n",
    "    Xc,Y = datasets.make_blobs(n_samples=n_samples,centers=3,cluster_std=1.2)\n",
    "\n",
    "colors = np.array(['r','y','b'])\n",
    "plt.scatter(Xc[:, 0], Xc[:, 1], c=colors[Y])\n",
    "plt.xlabel('Sepal length')\n",
    "plt.ylabel('Sepal width')\n",
    "plt.show()"
   ]
  },
  {
   "cell_type": "markdown",
   "metadata": {},
   "source": [
    "### Prepara os dados para o PyTorch"
   ]
  },
  {
   "cell_type": "code",
   "execution_count": 3,
   "metadata": {
    "ExecuteTime": {
     "end_time": "2017-11-24T22:55:14.149481Z",
     "start_time": "2017-11-24T22:55:14.144744Z"
    }
   },
   "outputs": [],
   "source": [
    "X_tensor = torch.FloatTensor(Xc)\n",
    "Y_tensor = torch.LongTensor(Y)"
   ]
  },
  {
   "cell_type": "markdown",
   "metadata": {},
   "source": [
    "## Construindo o modelo da rede"
   ]
  },
  {
   "cell_type": "code",
   "execution_count": 4,
   "metadata": {
    "ExecuteTime": {
     "end_time": "2017-11-24T22:56:02.316425Z",
     "start_time": "2017-11-24T22:56:02.304537Z"
    }
   },
   "outputs": [
    {
     "name": "stdout",
     "output_type": "stream",
     "text": [
      "Modelo (\n",
      "  (dense): Sequential (\n",
      "    (0): Linear (2 -> 5)\n",
      "    (1): ReLU ()\n",
      "    (2): Linear (5 -> 3)\n",
      "  )\n",
      ")\n"
     ]
    }
   ],
   "source": [
    "class Modelo(nn.Module):\n",
    "    def __init__(self):\n",
    "        super(Modelo, self).__init__()\n",
    "        self.dense = nn.Sequential(\n",
    "            nn.Linear(2, 5),\n",
    "            nn.ReLU(),\n",
    "            nn.Linear(5, 3),\n",
    "        )\n",
    "    \n",
    "    def forward(self, x):\n",
    "        x = self.dense(x)\n",
    "        \n",
    "        return x\n",
    "    \n",
    "model = Modelo()\n",
    "print(model)"
   ]
  },
  {
   "cell_type": "markdown",
   "metadata": {},
   "source": [
    "## _predict_ utilizada para predição de classes e na visualização"
   ]
  },
  {
   "cell_type": "code",
   "execution_count": 5,
   "metadata": {
    "ExecuteTime": {
     "end_time": "2017-11-24T23:03:18.751565Z",
     "start_time": "2017-11-24T23:03:18.738772Z"
    }
   },
   "outputs": [],
   "source": [
    "def predict(model, inputs):\n",
    "    outputs = model(Variable(inputs))\n",
    "    _, predicts = torch.max(outputs, 1)\n",
    "    \n",
    "    return predicts.data.numpy()"
   ]
  },
  {
   "cell_type": "markdown",
   "metadata": {},
   "source": [
    "## Classe para visualização dinâmica"
   ]
  },
  {
   "cell_type": "code",
   "execution_count": 6,
   "metadata": {
    "ExecuteTime": {
     "end_time": "2017-11-24T22:56:03.915101Z",
     "start_time": "2017-11-24T22:56:03.815986Z"
    }
   },
   "outputs": [],
   "source": [
    "class BoundaryPlotter():\n",
    "    def __init__(self, model, X, Y, n_epoch, filepath=None, h = .01):\n",
    "        self.model = model\n",
    "        self.X = X\n",
    "        self.Y = Y\n",
    "        self.n_epoch = n_epoch\n",
    "        self.filepath = filepath\n",
    "        x_min, x_max = X[:, 0].min() - .5, X[:, 0].max() + .5\n",
    "        y_min, y_max = X[:, 1].min() - .5, X[:, 1].max() + .5\n",
    "        self.xx, self.yy = np.meshgrid(np.arange(x_min, x_max, h), np.arange(y_min, y_max, h))\n",
    "        self.loss_hist = []\n",
    "        self.val_loss_hist = []\n",
    "        self.X_grid = np.c_[self.xx.ravel(), self.yy.ravel()]\n",
    "        \n",
    "        #Gráficos a serem mostrados pelo callback\n",
    "        self.fig = plt.figure(figsize=(8, 4), dpi=100)\n",
    "        self.ax1 = self.fig.add_subplot(1, 2, 1)\n",
    "        self.ax1.set_xlim(0, nb_epoch)\n",
    "        self.ax1.set_xlabel('Epoca')#,fontsize=28)\n",
    "        self.ax1.set_ylabel('Perda')#,fontsize=28)\n",
    "        self.ax1.plot([],[],'b',linewidth = 2.0,label = \"Treino\")\n",
    "        self.ax1.grid(True)\n",
    "\n",
    "        self.ax2 = self.fig.add_subplot(1, 2, 2)\n",
    "        self.ax2.set_xlim(Xc[:,0].min(), Xc[:,0].max())\n",
    "        self.ax2.set_ylim(Xc[:,1].min(), Xc[:,1].max())\n",
    "        self.ax2.set_xlabel('Comprimento da Sepala')#,fontsize=28)\n",
    "        self.ax2.set_ylabel('Largura da Sepala')#,fontsize=28)\n",
    "\n",
    "    def on_train_begin(self, logs={}):\n",
    "        display.display(self.fig)\n",
    "        display.clear_output(wait=True)\n",
    "\n",
    "    def on_epoch_end(self, epoch, logs={}):\n",
    "        if 'loss' in logs.keys():\n",
    "            self.loss_hist.append(logs['loss'])\n",
    "            \n",
    "            if epoch%250==0:\n",
    "                self.ax1.plot(np.arange(epoch+1), self.loss_hist, 'b', linewidth = 2.0)\n",
    "                \n",
    "                Z = predict(self.model, torch.from_numpy(self.X_grid).type(torch.FloatTensor))\n",
    "#                 Z = torch.max(self.model(Variable(torch.FloatTensor(self.X_grid))).data, dim=1)[1].numpy()\n",
    "                Z = Z.reshape(self.xx.shape)\n",
    "                \n",
    "                self.ax2.pcolormesh(self.xx, self.yy, Z, cmap=plt.cm.Paired)\n",
    "                colors = np.array(['r','y','b'])\n",
    "                self.ax2.scatter(self.X[:, 0], self.X[:, 1], s=40, c=colors[self.Y], edgecolors='k', cmap=plt.cm.Paired)\n",
    "                \n",
    "                display.display(self.fig)\n",
    "                display.clear_output(wait=True)"
   ]
  },
  {
   "cell_type": "markdown",
   "metadata": {},
   "source": [
    "## Treinamento"
   ]
  },
  {
   "cell_type": "code",
   "execution_count": 7,
   "metadata": {
    "ExecuteTime": {
     "end_time": "2017-11-24T22:56:04.840289Z",
     "start_time": "2017-11-24T22:56:04.834859Z"
    }
   },
   "outputs": [],
   "source": [
    "lr = 0.15\n",
    "\n",
    "optimizer = torch.optim.SGD(model.parameters(), lr=lr)\n",
    "\n",
    "criterion = nn.CrossEntropyLoss()"
   ]
  },
  {
   "cell_type": "markdown",
   "metadata": {},
   "source": [
    "### Laço principal de treinamento"
   ]
  },
  {
   "cell_type": "code",
   "execution_count": 8,
   "metadata": {
    "ExecuteTime": {
     "end_time": "2017-11-24T22:56:23.125460Z",
     "start_time": "2017-11-24T22:56:05.793330Z"
    },
    "scrolled": false
   },
   "outputs": [
    {
     "name": "stdout",
     "output_type": "stream",
     "text": [
      "Final loss: 0.3761458694934845\n"
     ]
    },
    {
     "data": {
      "image/png": "[encoded data removed]",
      "text/plain": [
       "<matplotlib.figure.Figure at 0x7fca75369ba8>"
      ]
     },
     "metadata": {},
     "output_type": "display_data"
    }
   ],
   "source": [
    "batch_size = 150\n",
    "nb_epoch = 3000\n",
    "\n",
    "#Definindo o plotter\n",
    "boundary_plot = BoundaryPlotter(model, Xc, Y, nb_epoch)\n",
    "\n",
    "boundary_plot.on_train_begin()\n",
    "losses = []\n",
    "for i in range(nb_epoch):\n",
    "    # predict da rede\n",
    "    output = model(Variable(X_tensor))\n",
    "\n",
    "    loss = criterion(output, Variable(Y_tensor))\n",
    "\n",
    "    # zero, backpropagation gradient, atualiza param gradiente descendente\n",
    "    optimizer.zero_grad()\n",
    "    loss.backward()\n",
    "    optimizer.step()\n",
    "    \n",
    "    losses.append(loss.data[0])\n",
    "\n",
    "    boundary_plot.on_epoch_end(i, {'loss': loss.data[0]})\n",
    "    \n",
    "print('Final loss:', loss.data[0])"
   ]
  },
  {
   "cell_type": "markdown",
   "metadata": {},
   "source": [
    "## Avaliação"
   ]
  },
  {
   "cell_type": "markdown",
   "metadata": {},
   "source": [
    "### Imprimindo pesos finais"
   ]
  },
  {
   "cell_type": "code",
   "execution_count": 9,
   "metadata": {
    "ExecuteTime": {
     "end_time": "2017-11-24T23:00:11.608903Z",
     "start_time": "2017-11-24T23:00:11.601057Z"
    },
    "scrolled": false
   },
   "outputs": [
    {
     "name": "stdout",
     "output_type": "stream",
     "text": [
      "dense.0.weight  torch.Size([5, 2])\n",
      "dense.0.bias    torch.Size([5])\n",
      "dense.2.weight  torch.Size([3, 5])\n",
      "dense.2.bias    torch.Size([3])\n"
     ]
    }
   ],
   "source": [
    "for name, w in model.state_dict().items():\n",
    "    print('{:16}{}'.format(name, w.size()))\n",
    "    #print(w)"
   ]
  },
  {
   "cell_type": "markdown",
   "metadata": {},
   "source": [
    "### Avaliação do classificador"
   ]
  },
  {
   "cell_type": "code",
   "execution_count": 10,
   "metadata": {
    "ExecuteTime": {
     "end_time": "2017-11-24T23:03:18.751565Z",
     "start_time": "2017-11-24T23:03:18.738772Z"
    }
   },
   "outputs": [
    {
     "name": "stdout",
     "output_type": "stream",
     "text": [
      "\n",
      "Training Accuracy:  0.833333333333\n"
     ]
    }
   ],
   "source": [
    "Y_hat = predict(model, X_tensor)\n",
    "accuracy = (Y_hat == Y).mean()\n",
    "print() \n",
    "print('Training Accuracy: ', accuracy)"
   ]
  },
  {
   "cell_type": "markdown",
   "metadata": {},
   "source": [
    "### Matriz de confusão"
   ]
  },
  {
   "cell_type": "code",
   "execution_count": 11,
   "metadata": {
    "ExecuteTime": {
     "end_time": "2017-11-24T23:03:11.553510Z",
     "start_time": "2017-11-24T23:03:11.528223Z"
    }
   },
   "outputs": [
    {
     "data": {
      "text/html": [
       "<div>\n",
       "<style>\n",
       "    .dataframe thead tr:only-child th {\n",
       "        text-align: right;\n",
       "    }\n",
       "\n",
       "    .dataframe thead th {\n",
       "        text-align: left;\n",
       "    }\n",
       "\n",
       "    .dataframe tbody tr th {\n",
       "        vertical-align: top;\n",
       "    }\n",
       "</style>\n",
       "<table border=\"1\" class=\"dataframe\">\n",
       "  <thead>\n",
       "    <tr style=\"text-align: right;\">\n",
       "      <th>col_0</th>\n",
       "      <th>0</th>\n",
       "      <th>1</th>\n",
       "      <th>2</th>\n",
       "    </tr>\n",
       "    <tr>\n",
       "      <th>row_0</th>\n",
       "      <th></th>\n",
       "      <th></th>\n",
       "      <th></th>\n",
       "    </tr>\n",
       "  </thead>\n",
       "  <tbody>\n",
       "    <tr>\n",
       "      <th>0</th>\n",
       "      <td>50</td>\n",
       "      <td>0</td>\n",
       "      <td>0</td>\n",
       "    </tr>\n",
       "    <tr>\n",
       "      <th>1</th>\n",
       "      <td>0</td>\n",
       "      <td>38</td>\n",
       "      <td>13</td>\n",
       "    </tr>\n",
       "    <tr>\n",
       "      <th>2</th>\n",
       "      <td>0</td>\n",
       "      <td>12</td>\n",
       "      <td>37</td>\n",
       "    </tr>\n",
       "  </tbody>\n",
       "</table>\n",
       "</div>"
      ],
      "text/plain": [
       "col_0   0   1   2\n",
       "row_0            \n",
       "0      50   0   0\n",
       "1       0  38  13\n",
       "2       0  12  37"
      ]
     },
     "execution_count": 11,
     "metadata": {},
     "output_type": "execute_result"
    }
   ],
   "source": [
    "import pandas as pd\n",
    "pd.crosstab(Y_hat, Y)"
   ]
  },
  {
   "cell_type": "markdown",
   "metadata": {},
   "source": [
    "## Atividades"
   ]
  },
  {
   "cell_type": "markdown",
   "metadata": {},
   "source": [
    "### Experimentos:"
   ]
  },
  {
   "cell_type": "markdown",
   "metadata": {},
   "source": [
    "1. Troque o dataset, utilizado. Veja que tem vários para escolher.\n",
    "2. Faça alterações na rede, alterando o número de neurônios, de camadas.\n",
    "3. No lugar da ReLU, coloque Sigmoid e observe a diferença\n",
    "4. O que ocorre quando não se utiliza ativação não linear entre camadas."
   ]
  },
  {
   "cell_type": "markdown",
   "metadata": {},
   "source": [
    "## Principais aprendizados"
   ]
  }
 ],
 "metadata": {
  "kernelspec": {
   "display_name": "Python 3",
   "language": "python",
   "name": "python3"
  },
  "language_info": {
   "codemirror_mode": {
    "name": "ipython",
    "version": 3
   },
   "file_extension": ".py",
   "mimetype": "text/x-python",
   "name": "python",
   "nbconvert_exporter": "python",
   "pygments_lexer": "ipython3",
   "version": "3.6.2"
  },
  "toc": {
   "nav_menu": {
    "height": "248px",
    "width": "252px"
   },
   "number_sections": true,
   "sideBar": true,
   "skip_h1_title": false,
   "toc_cell": false,
   "toc_position": {},
   "toc_section_display": "block",
   "toc_window_display": false
  }
 },
 "nbformat": 4,
 "nbformat_minor": 1
}
