{
  "cells": [
    {
      "cell_type": "markdown",
      "metadata": {
        "id": "view-in-github",
        "colab_type": "text"
      },
      "source": [
        "<a href=\"https://colab.research.google.com/github/robertoalotufo/rnap/blob/master/PyTorch/LinearRegressionIris-Tensor.ipynb\" target=\"_parent\"><img src=\"https://colab.research.google.com/assets/colab-badge.svg\" alt=\"Open In Colab\"/></a>"
      ]
    },
    {
      "cell_type": "markdown",
      "metadata": {
        "id": "XZJvUkWb4FDI"
      },
      "source": [
        "# Exercício Regressão Linear com PyTorch"
      ]
    },
    {
      "cell_type": "markdown",
      "metadata": {
        "ExecuteTime": {
          "end_time": "2017-11-23T20:02:40.968451Z",
          "start_time": "2017-11-23T20:02:40.961876Z"
        },
        "id": "o8QKWFkj4FDJ"
      },
      "source": [
        "Este notebook é um exercício baseado no notebook:\n",
        "- [LinearRegressionIrisNumPy.ipynb](LinearRegressionIrisNumPy.ipynb) feito em NumPy,\n",
        "\n",
        "O objetivo desse notebook é reescrevê-lo porém utilizando tensores do PyTorch.\n",
        "\n",
        "Os nomes das funções do PyTorch são cada vez mais próximas das funções do NumPy, porém tem diferenças importantes."
      ]
    },
    {
      "cell_type": "markdown",
      "metadata": {
        "id": "9AotHheU4FDK"
      },
      "source": [
        "## Importação dos pacotes"
      ]
    },
    {
      "cell_type": "code",
      "execution_count": null,
      "metadata": {
        "ExecuteTime": {
          "end_time": "2018-02-04T16:01:57.407205Z",
          "start_time": "2018-02-04T16:01:55.699674Z"
        },
        "collapsed": true,
        "id": "UUh5Difs4FDK"
      },
      "outputs": [],
      "source": [
        "%matplotlib inline\n",
        "import torch\n",
        "\n",
        "import matplotlib.pyplot as plt\n",
        "from sklearn.datasets import load_iris\n",
        "\n",
        "torch.manual_seed(1234)"
      ]
    },
    {
      "cell_type": "markdown",
      "metadata": {
        "id": "IM50937h4FDK"
      },
      "source": [
        "## Dataset"
      ]
    },
    {
      "cell_type": "markdown",
      "metadata": {
        "id": "lTP9UQwf4FDL"
      },
      "source": [
        "### Leitura dos dados"
      ]
    },
    {
      "cell_type": "code",
      "execution_count": null,
      "metadata": {
        "ExecuteTime": {
          "end_time": "2018-02-04T16:01:58.800961Z",
          "start_time": "2018-02-04T16:01:58.778655Z"
        },
        "id": "3yu00npx4FDL",
        "outputId": "b0a5e25b-f125-488c-8aff-3e0189908c69",
        "colab": {
          "base_uri": "https://localhost:8080/"
        }
      },
      "outputs": [
        {
          "output_type": "stream",
          "name": "stdout",
          "text": [
            "x_train.shape: torch.Size([50, 1]) <class 'torch.Tensor'>\n",
            "y_train.shape: torch.Size([50, 1]) <class 'torch.Tensor'>\n",
            "x_train[:5]:\n",
            " tensor([[7.0000],\n",
            "        [6.4000],\n",
            "        [6.9000],\n",
            "        [5.5000],\n",
            "        [6.5000]])\n",
            "y_train[:5]:\n",
            " tensor([[4.7000],\n",
            "        [4.5000],\n",
            "        [4.9000],\n",
            "        [4.0000],\n",
            "        [4.6000]])\n"
          ]
        }
      ],
      "source": [
        "iris = load_iris()\n",
        "data = iris.data[iris.target==1,::2]  # comprimento das sépalas e pétalas, indices 0 e 2\n",
        "\n",
        "x_train = torch.FloatTensor(data[:,0:1])\n",
        "y_train = torch.FloatTensor(data[:,1:2])\n",
        "\n",
        "n_samples = x_train.size(0)\n",
        "print('x_train.shape:',x_train.shape, type(x_train))\n",
        "print('y_train.shape:',y_train.shape, type(y_train))\n",
        "\n",
        "print('x_train[:5]:\\n', x_train[:5])\n",
        "print('y_train[:5]:\\n', y_train[:5])"
      ]
    },
    {
      "cell_type": "markdown",
      "metadata": {
        "id": "WrwjDHGO4FDM"
      },
      "source": [
        "### Normalização dos dados"
      ]
    },
    {
      "cell_type": "code",
      "source": [
        "xt_min = x_train.min()\n",
        "xt_max = x_train.max()\n",
        "x_train_n = (x_train - xt_min)/(xt_max - xt_min)\n",
        "\n",
        "yt_min = y_train.min()\n",
        "yt_max = y_train.max()\n",
        "y_train_n = (y_train - yt_min)/(yt_max - yt_min)"
      ],
      "metadata": {
        "id": "psXHT4S7649N"
      },
      "execution_count": null,
      "outputs": []
    },
    {
      "cell_type": "markdown",
      "metadata": {
        "id": "2pvL92EQ4FDM"
      },
      "source": [
        "### Exercício 1 - criação do `x_train_bias`"
      ]
    },
    {
      "cell_type": "markdown",
      "metadata": {
        "id": "LkrGDyp64FDM"
      },
      "source": [
        "faça o `x_train_bias` ser uma matriz com zeros na primeira coluna e x_train na segunda coluna.\n",
        "\n",
        "Dica: você pode precisar da função [torch.cat](http://pytorch.org/docs/master/torch.html#torch.cat) e [torch.ones](http://pytorch.org/docs/master/torch.html#torch.ones)."
      ]
    },
    {
      "cell_type": "code",
      "execution_count": null,
      "metadata": {
        "ExecuteTime": {
          "end_time": "2018-02-04T16:02:02.296632Z",
          "start_time": "2018-02-04T16:02:02.290135Z"
        },
        "id": "z3aImwRd4FDN",
        "outputId": "d89dcc5a-84b6-4ac4-88c4-2017d66959fe",
        "colab": {
          "base_uri": "https://localhost:8080/"
        }
      },
      "outputs": [
        {
          "output_type": "stream",
          "name": "stdout",
          "text": [
            "torch.Size([50, 2])\n"
          ]
        }
      ],
      "source": [
        "x_train_bias = torch.cat([torch.ones(size=(n_samples,1)), x_train_n], dim=1)\n",
        "print(x_train_bias.shape)"
      ]
    },
    {
      "cell_type": "code",
      "execution_count": null,
      "metadata": {
        "ExecuteTime": {
          "end_time": "2018-02-04T16:02:06.278514Z",
          "start_time": "2018-02-04T16:02:06.268450Z"
        },
        "id": "um94vX9f4FDN",
        "outputId": "35b37171-9c57-4ee1-a0b3-945327e81b9b",
        "colab": {
          "base_uri": "https://localhost:8080/"
        }
      },
      "outputs": [
        {
          "output_type": "stream",
          "name": "stdout",
          "text": [
            "x_train_bias é um tensor: OK!\n",
            "tamanho do x_train_bias: OK!\n",
            "primeira coluna é só de uns: OK!\n",
            "segunda coluna é igual a x_train: Incorreto!\n"
          ]
        }
      ],
      "source": [
        "# Verificação do exercício - Execute para testar sua implementação\n",
        "\n",
        "print('x_train_bias é um tensor: {}'.format(print_assert(\n",
        "    isinstance(x_train_bias, torch.FloatTensor)\n",
        ")))\n",
        "\n",
        "    \n",
        "print('tamanho do x_train_bias: {}'.format(print_assert(\n",
        "    x_train_bias.size() == torch.Size([50, 2])\n",
        ")))\n",
        "\n",
        "print('primeira coluna é só de uns: {}'.format(print_assert(\n",
        "    (x_train_bias[:, 0] - torch.ones(n_samples)).sum() == 0\n",
        ")))\n",
        "\n",
        "print('segunda coluna é igual a x_train: {}'.format(print_assert(\n",
        "    (x_train_bias[:, 1] - x_train).sum() == 0\n",
        ")))"
      ]
    },
    {
      "cell_type": "markdown",
      "metadata": {
        "id": "RSjLBJcj4FDN"
      },
      "source": [
        "## Modelo da rede"
      ]
    },
    {
      "cell_type": "markdown",
      "metadata": {
        "id": "JqYFv_e-4FDN"
      },
      "source": [
        "### Definição da classe"
      ]
    },
    {
      "cell_type": "code",
      "execution_count": null,
      "metadata": {
        "ExecuteTime": {
          "end_time": "2018-02-04T16:02:09.598222Z",
          "start_time": "2018-02-04T16:02:09.591078Z"
        },
        "collapsed": true,
        "id": "sNdw-ryL4FDN"
      },
      "outputs": [],
      "source": [
        "class Net():\n",
        "    def __init__(self, n_in, n_out):\n",
        "        self.w = torch.Tensor(n_out, n_in)\n",
        "        self.w.uniform_(-0.1,0.1) #inicialização dos parâmetros\n",
        "    \n",
        "    def forward(self, x_bias):\n",
        "        return x_bias.matmul(torch.t(self.w))\n",
        "    "
      ]
    },
    {
      "cell_type": "markdown",
      "metadata": {
        "id": "8rn9pUmg4FDO"
      },
      "source": [
        "### Instanciando a rede"
      ]
    },
    {
      "cell_type": "code",
      "execution_count": null,
      "metadata": {
        "ExecuteTime": {
          "end_time": "2018-02-04T16:02:11.321744Z",
          "start_time": "2018-02-04T16:02:11.317928Z"
        },
        "collapsed": true,
        "id": "FYIsGVzQ4FDO"
      },
      "outputs": [],
      "source": [
        "model = Net(2,1)"
      ]
    },
    {
      "cell_type": "markdown",
      "metadata": {
        "id": "TP2NusLQ4FDO"
      },
      "source": [
        "### Testando o predict da rede"
      ]
    },
    {
      "cell_type": "code",
      "execution_count": null,
      "metadata": {
        "ExecuteTime": {
          "end_time": "2018-02-04T16:02:13.479757Z",
          "start_time": "2018-02-04T16:02:13.409349Z"
        },
        "id": "caxeVFJx4FDO",
        "outputId": "ce2bbaf0-4495-4732-d882-ef432c344210",
        "colab": {
          "base_uri": "https://localhost:8080/"
        }
      },
      "outputs": [
        {
          "output_type": "execute_result",
          "data": {
            "text/plain": [
              "tensor([[-0.0173],\n",
              "        [-0.0553],\n",
              "        [ 0.0478],\n",
              "        [ 0.0419]])"
            ]
          },
          "metadata": {},
          "execution_count": 26
        }
      ],
      "source": [
        "#model.forward(torch.ones((4,2)))\n",
        "model.forward(torch.randn(4,2))"
      ]
    },
    {
      "cell_type": "markdown",
      "metadata": {
        "id": "NLAt3Vsl4FDO"
      },
      "source": [
        "## Treinamento"
      ]
    },
    {
      "cell_type": "markdown",
      "metadata": {
        "id": "42caczHX4FDO"
      },
      "source": [
        "### Exercício 2 - Treinamento"
      ]
    },
    {
      "cell_type": "markdown",
      "metadata": {
        "id": "iojYVxCk4FDO"
      },
      "source": [
        "Refaça o código de treinamento da rede, mas agora utilizando somente Tensores do PyTorch. Faça o mesmo procedimento que o notebook [LinearRegressionIrisNumPy](LinearRegressionIrisNumPy.ipynb). Para consultar as operações disponíveis no PyTorch use a [documentação do PyTorch](http://pytorch.org/docs/master/torch.html).\n",
        "\n",
        "Funções que podem ser úteis:\n",
        "- torch.t\n",
        "- torch.mean\n",
        "- torch.matmul"
      ]
    },
    {
      "cell_type": "code",
      "execution_count": null,
      "metadata": {
        "ExecuteTime": {
          "end_time": "2018-02-04T16:02:18.464526Z",
          "start_time": "2018-02-04T16:02:18.452463Z"
        },
        "scrolled": false,
        "id": "uLYq4fK14FDO",
        "outputId": "ffee4759-cc56-4fe3-9a1d-2b414f79afd3",
        "colab": {
          "base_uri": "https://localhost:8080/"
        }
      },
      "outputs": [
        {
          "output_type": "stream",
          "name": "stdout",
          "text": [
            "Epoch[2/10], loss: 0.100000\n",
            "Epoch[4/10], loss: 0.100000\n",
            "Epoch[6/10], loss: 0.100000\n",
            "Epoch[8/10], loss: 0.100000\n",
            "Epoch[10/10], loss: 0.100000\n"
          ]
        }
      ],
      "source": [
        "num_epochs = 10\n",
        "learning_rate = 0.5\n",
        "\n",
        "for epoch in range(num_epochs):\n",
        "    # forward - predict\n",
        "    y_pred = model.forward(x_train_bias)\n",
        "\n",
        "    #loss cálculo da função de perda\n",
        "    #loss = np.square(y_pred - y_train).mean()\n",
        "    loss = 0.1\n",
        "    \n",
        "    # cálculo do gradiente pelas derivadas parciais\n",
        "    # w_grad = (2.0/n_samples) * (x_train_bias.T).dot(x_train_bias.dot(model.w.T) - y_train)\n",
        "\n",
        "    # gradiente descendente\n",
        "    # model.w = model.w - learning_rate * w_grad.T\n",
        "\n",
        "    # verbose\n",
        "    if (epoch+1) % 2 == 0:\n",
        "        print('Epoch[{}/{}], loss: {:.6f}'\n",
        "              .format(epoch+1, num_epochs, loss))"
      ]
    },
    {
      "cell_type": "markdown",
      "metadata": {
        "id": "aUpk2Qp84FDO"
      },
      "source": [
        "## Avaliação"
      ]
    },
    {
      "cell_type": "markdown",
      "metadata": {
        "id": "7OR5RElV4FDO"
      },
      "source": [
        "### Predict"
      ]
    },
    {
      "cell_type": "code",
      "execution_count": null,
      "metadata": {
        "ExecuteTime": {
          "end_time": "2018-02-04T16:02:22.149118Z",
          "start_time": "2018-02-04T16:02:21.945738Z"
        },
        "id": "lMGs_Sy-4FDP",
        "outputId": "a1c08a6b-651a-4889-c3da-037c92dac62c",
        "colab": {
          "base_uri": "https://localhost:8080/",
          "height": 265
        }
      },
      "outputs": [
        {
          "output_type": "display_data",
          "data": {
            "image/png": "[encoded data removed]",
            "text/plain": [
              "<Figure size 432x288 with 1 Axes>"
            ]
          },
          "metadata": {
            "needs_background": "light"
          }
        }
      ],
      "source": [
        "y_pred = model.forward(x_train_bias)\n",
        "plt.plot(x_train.numpy(), y_train.numpy(), 'ro', label='Original data')\n",
        "plt.plot(x_train.numpy(), y_pred.numpy(), 'kx-', label='Fitting Line')\n",
        "plt.show()"
      ]
    },
    {
      "cell_type": "markdown",
      "metadata": {
        "id": "8QimBWbM4FDP"
      },
      "source": [
        "### Parâmetro treinado"
      ]
    },
    {
      "cell_type": "code",
      "execution_count": null,
      "metadata": {
        "ExecuteTime": {
          "end_time": "2018-02-04T16:02:25.042712Z",
          "start_time": "2018-02-04T16:02:25.035458Z"
        },
        "id": "5BGk35Pa4FDP",
        "outputId": "e2d1470d-5d26-4c2c-dc39-23f9ab6e89f1",
        "colab": {
          "base_uri": "https://localhost:8080/"
        }
      },
      "outputs": [
        {
          "output_type": "stream",
          "name": "stdout",
          "text": [
            "tensor([[-0.0522,  0.0463]])\n"
          ]
        }
      ],
      "source": [
        "print(model.w)"
      ]
    },
    {
      "cell_type": "markdown",
      "metadata": {
        "id": "pE-vPGp94FDP"
      },
      "source": [
        "### Valor ótimo, solução analítica"
      ]
    },
    {
      "cell_type": "code",
      "execution_count": null,
      "metadata": {
        "ExecuteTime": {
          "end_time": "2018-02-04T16:08:31.867782Z",
          "start_time": "2018-02-04T16:08:31.863719Z"
        },
        "id": "GV4MG2RO4FDP",
        "outputId": "29d1cdf4-b352-4863-ebdf-8eea8e8565a3",
        "colab": {
          "base_uri": "https://localhost:8080/"
        }
      },
      "outputs": [
        {
          "output_type": "stream",
          "name": "stdout",
          "text": [
            "tensor([[0.2613, 0.6865]])\n"
          ]
        }
      ],
      "source": [
        "x_bias = x_train_bias\n",
        "y = y_train\n",
        "w_opt = (torch.inverse(x_bias.t().mm(x_bias)).mm(x_bias.t())).mm(y)\n",
        "print(w_opt.t())"
      ]
    },
    {
      "cell_type": "code",
      "execution_count": null,
      "metadata": {
        "collapsed": true,
        "id": "mlCigQnE4FDP"
      },
      "outputs": [],
      "source": [
        ""
      ]
    }
  ],
  "metadata": {
    "kernelspec": {
      "display_name": "Python 3",
      "language": "python",
      "name": "python3"
    },
    "language_info": {
      "codemirror_mode": {
        "name": "ipython",
        "version": 3
      },
      "file_extension": ".py",
      "mimetype": "text/x-python",
      "name": "python",
      "nbconvert_exporter": "python",
      "pygments_lexer": "ipython3",
      "version": "3.6.0"
    },
    "toc": {
      "nav_menu": {},
      "number_sections": true,
      "sideBar": true,
      "skip_h1_title": false,
      "toc_cell": false,
      "toc_position": {},
      "toc_section_display": "block",
      "toc_window_display": false
    },
    "varInspector": {
      "cols": {
        "lenName": 16,
        "lenType": 16,
        "lenVar": 40
      },
      "kernels_config": {
        "python": {
          "delete_cmd_postfix": "",
          "delete_cmd_prefix": "del ",
          "library": "var_list.py",
          "varRefreshCmd": "print(var_dic_list())"
        },
        "r": {
          "delete_cmd_postfix": ") ",
          "delete_cmd_prefix": "rm(",
          "library": "var_list.r",
          "varRefreshCmd": "cat(var_dic_list()) "
        }
      },
      "types_to_exclude": [
        "module",
        "function",
        "builtin_function_or_method",
        "instance",
        "_Feature"
      ],
      "window_display": false
    },
    "colab": {
      "name": "LinearRegressionIris-Tensor.ipynb",
      "provenance": [],
      "include_colab_link": true
    }
  },
  "nbformat": 4,
  "nbformat_minor": 0
}