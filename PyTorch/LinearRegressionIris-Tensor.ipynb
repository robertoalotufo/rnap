{
 "cells": [
  {
   "cell_type": "markdown",
   "metadata": {},
   "source": [
    "# Exercício Regressão Linear com PyTorch"
   ]
  },
  {
   "cell_type": "markdown",
   "metadata": {},
   "source": [
    "Este exemplo utiliza regressão linear para estimar o comprimento das sépalas da íris a partir do seu comprimento das pétalas.\n",
    "Utiliza-se programação totalmente tensores PyTorch com:\n",
    "- o cálculo do gradiente \n",
    "- a função de perda e \n",
    "- atualização dos parâmetros é feita de forma explícita.\n",
    "- A rede é criada com uma classe"
   ]
  },
  {
   "cell_type": "markdown",
   "metadata": {},
   "source": [
    "## Importação dos pacotes"
   ]
  },
  {
   "cell_type": "code",
   "execution_count": 1,
   "metadata": {
    "ExecuteTime": {
     "end_time": "2017-10-08T11:20:37.982975Z",
     "start_time": "2017-10-08T11:20:36.763831Z"
    },
    "collapsed": true
   },
   "outputs": [],
   "source": [
    "%matplotlib inline\n",
    "import torch\n",
    "\n",
    "import matplotlib.pyplot as plt\n",
    "from sklearn.datasets import load_iris\n",
    "\n",
    "torch.manual_seed(1234)\n",
    "\n",
    "def print_assert(r):\n",
    "    if r:\n",
    "        return 'OK!'\n",
    "    else:\n",
    "        return 'Incorreto!'"
   ]
  },
  {
   "cell_type": "markdown",
   "metadata": {},
   "source": [
    "## Leitura dos dados"
   ]
  },
  {
   "cell_type": "code",
   "execution_count": 2,
   "metadata": {
    "ExecuteTime": {
     "end_time": "2017-10-08T11:20:38.011720Z",
     "start_time": "2017-10-08T11:20:37.985024Z"
    }
   },
   "outputs": [
    {
     "name": "stdout",
     "output_type": "stream",
     "text": [
      "x_train.shape: torch.Size([50, 1]) <class 'torch.FloatTensor'>\n",
      "y_train.shape: torch.Size([50, 1]) <class 'torch.FloatTensor'>\n",
      "x_train[:5]:\n",
      " \n",
      " 7.0000\n",
      " 6.4000\n",
      " 6.9000\n",
      " 5.5000\n",
      " 6.5000\n",
      "[torch.FloatTensor of size 5x1]\n",
      "\n",
      "y_train[:5]:\n",
      " \n",
      " 4.7000\n",
      " 4.5000\n",
      " 4.9000\n",
      " 4.0000\n",
      " 4.6000\n",
      "[torch.FloatTensor of size 5x1]\n",
      "\n"
     ]
    }
   ],
   "source": [
    "iris = load_iris()\n",
    "data = iris.data[iris.target==1,::2]  # comprimento das sépalas e pétalas, indices 0 e 2\n",
    "\n",
    "x_train = torch.FloatTensor(data[:,0:1])\n",
    "y_train = torch.FloatTensor(data[:,1:2])\n",
    "\n",
    "n_samples = x_train.size(0)\n",
    "print('x_train.shape:',x_train.size(), type(x_train))\n",
    "print('y_train.shape:',y_train.size(), type(y_train))\n",
    "\n",
    "print('x_train[:5]:\\n', x_train[:5])\n",
    "print('y_train[:5]:\\n', y_train[:5])"
   ]
  },
  {
   "cell_type": "markdown",
   "metadata": {},
   "source": [
    "## Normalização dos dados"
   ]
  },
  {
   "cell_type": "code",
   "execution_count": 3,
   "metadata": {
    "ExecuteTime": {
     "end_time": "2017-10-08T11:20:38.020655Z",
     "start_time": "2017-10-08T11:20:38.014282Z"
    },
    "collapsed": true
   },
   "outputs": [],
   "source": [
    "x_train -= x_train.min()\n",
    "x_train /= x_train.max()\n",
    "y_train -= y_train.min()\n",
    "y_train /= y_train.max()"
   ]
  },
  {
   "cell_type": "markdown",
   "metadata": {},
   "source": [
    "## Exercício 1 - criação do `x_train_bias`"
   ]
  },
  {
   "cell_type": "markdown",
   "metadata": {},
   "source": [
    "faça o `x_train_bias` ser uma matriz com zeros na primeira coluna e x_train na segunda coluna.\n",
    "\n",
    "Dica: você pode precisar da função [torch.cat](http://pytorch.org/docs/master/torch.html#torch.cat) e [torch.ones](http://pytorch.org/docs/master/torch.html#torch.ones)."
   ]
  },
  {
   "cell_type": "code",
   "execution_count": 4,
   "metadata": {
    "ExecuteTime": {
     "end_time": "2017-10-08T11:20:38.173659Z",
     "start_time": "2017-10-08T11:20:38.023020Z"
    }
   },
   "outputs": [
    {
     "ename": "AttributeError",
     "evalue": "'NoneType' object has no attribute 'size'",
     "output_type": "error",
     "traceback": [
      "\u001b[0;31m---------------------------------------------------------------------------\u001b[0m",
      "\u001b[0;31mAttributeError\u001b[0m                            Traceback (most recent call last)",
      "\u001b[0;32m<ipython-input-4-1f41128ab7c9>\u001b[0m in \u001b[0;36m<module>\u001b[0;34m()\u001b[0m\n\u001b[1;32m      1\u001b[0m \u001b[0mx_train_bias\u001b[0m \u001b[0;34m=\u001b[0m \u001b[0;32mNone\u001b[0m\u001b[0;34m\u001b[0m\u001b[0m\n\u001b[0;32m----> 2\u001b[0;31m \u001b[0mprint\u001b[0m\u001b[0;34m(\u001b[0m\u001b[0mx_train_bias\u001b[0m\u001b[0;34m.\u001b[0m\u001b[0msize\u001b[0m\u001b[0;34m(\u001b[0m\u001b[0;34m)\u001b[0m\u001b[0;34m)\u001b[0m\u001b[0;34m\u001b[0m\u001b[0m\n\u001b[0m",
      "\u001b[0;31mAttributeError\u001b[0m: 'NoneType' object has no attribute 'size'"
     ]
    }
   ],
   "source": [
    "x_train_bias = None\n",
    "print(x_train_bias.size())"
   ]
  },
  {
   "cell_type": "code",
   "execution_count": null,
   "metadata": {
    "ExecuteTime": {
     "end_time": "2017-10-08T11:20:38.174169Z",
     "start_time": "2017-10-08T14:20:36.488Z"
    },
    "collapsed": true
   },
   "outputs": [],
   "source": [
    "# Verificação do exercício - Execute para testar sua implementação\n",
    "\n",
    "print('x_train_bias é um tensor: {}'.format(print_assert(\n",
    "    isinstance(x_train_bias, torch.FloatTensor)\n",
    ")))\n",
    "\n",
    "\n",
    "print('tamanho do x_train_bias: {}'.format(print_assert(\n",
    "    x_train_bias.size() == torch.Size([50, 2])\n",
    ")))\n",
    "\n",
    "print('primeira coluna é só de uns: {}'.format(print_assert(\n",
    "    (x_train_bias[:, 0] - torch.ones(n_samples)).sum() == 0\n",
    ")))\n",
    "\n",
    "print('segunda coluna é igual a x_train: {}'.format(print_assert(\n",
    "    (x_train_bias[:, 1] - x_train).sum() == 0\n",
    ")))"
   ]
  },
  {
   "cell_type": "markdown",
   "metadata": {},
   "source": [
    "# Linear Regression Model"
   ]
  },
  {
   "cell_type": "code",
   "execution_count": null,
   "metadata": {
    "ExecuteTime": {
     "end_time": "2017-10-08T11:20:38.174480Z",
     "start_time": "2017-10-08T14:20:36.491Z"
    },
    "collapsed": true
   },
   "outputs": [],
   "source": [
    "class Net():\n",
    "    def __init__(self, weight):\n",
    "        self.weight = weight\n",
    "    \n",
    "    def __call__(self, x_bias):\n",
    "        return x_bias.matmul(torch.t(self.weight))"
   ]
  },
  {
   "cell_type": "markdown",
   "metadata": {},
   "source": [
    "## Inicialização dos parâmetros"
   ]
  },
  {
   "cell_type": "code",
   "execution_count": null,
   "metadata": {
    "ExecuteTime": {
     "end_time": "2017-10-08T11:20:38.174765Z",
     "start_time": "2017-10-08T14:20:36.494Z"
    },
    "collapsed": true
   },
   "outputs": [],
   "source": [
    "weight = torch.zeros(1,2)\n",
    "#weight = torch.rand(1,2) * 0.2 - 0.1  # valores no intervalo [-0.1, 0.1]\n",
    "print(weight)"
   ]
  },
  {
   "cell_type": "code",
   "execution_count": null,
   "metadata": {
    "ExecuteTime": {
     "end_time": "2017-10-08T11:20:38.175039Z",
     "start_time": "2017-10-08T14:20:36.497Z"
    },
    "collapsed": true
   },
   "outputs": [],
   "source": [
    "model = Net(weight)"
   ]
  },
  {
   "cell_type": "markdown",
   "metadata": {},
   "source": [
    "## Testando o predict da rede"
   ]
  },
  {
   "cell_type": "code",
   "execution_count": null,
   "metadata": {
    "ExecuteTime": {
     "end_time": "2017-10-08T11:20:38.175299Z",
     "start_time": "2017-10-08T14:20:36.500Z"
    },
    "collapsed": true
   },
   "outputs": [],
   "source": [
    "model(torch.ones((4,2)))"
   ]
  },
  {
   "cell_type": "markdown",
   "metadata": {},
   "source": [
    "## Exercício 2 - Treinamento"
   ]
  },
  {
   "cell_type": "markdown",
   "metadata": {},
   "source": [
    "Refaça o código de treinamento da rede, mas agora utilizando somente Tensores do PyTorch. Faça o mesmo procedimento que o notebook [LinearRegressionIrisNumPy](LinearRegressionIrisNumPy.ipynb). Para consultar as operações disponíveis no PyTorch use a [documentação do PyTorch](http://pytorch.org/docs/master/torch.html).\n",
    "\n",
    "Funções que podem ser úteis:\n",
    "- torch.t\n",
    "- torch.mean\n",
    "- torch.matmul"
   ]
  },
  {
   "cell_type": "code",
   "execution_count": null,
   "metadata": {
    "ExecuteTime": {
     "end_time": "2017-10-08T11:20:38.175563Z",
     "start_time": "2017-10-08T14:20:36.503Z"
    },
    "collapsed": true,
    "scrolled": false
   },
   "outputs": [],
   "source": [
    "num_epochs = 10\n",
    "learning_rate = 0.5\n",
    "\n",
    "for epoch in range(num_epochs):\n",
    "    inputs = x_train_bias\n",
    "    target = y_train\n",
    "\n",
    "    # escreva aqui o algoritmo para treinamento\n",
    "    \n",
    "    # verbose\n",
    "    if (epoch+1) % 2 == 0:\n",
    "        print('Epoch[{}/{}], loss: {:.6f}'\n",
    "              .format(epoch+1, num_epochs, loss))"
   ]
  },
  {
   "cell_type": "markdown",
   "metadata": {},
   "source": [
    "## Predict"
   ]
  },
  {
   "cell_type": "code",
   "execution_count": null,
   "metadata": {
    "ExecuteTime": {
     "end_time": "2017-10-08T11:20:38.175823Z",
     "start_time": "2017-10-08T14:20:36.506Z"
    },
    "collapsed": true
   },
   "outputs": [],
   "source": [
    "y_pred = model(x_train_bias)\n",
    "plt.plot(x_train.numpy(), y_train.numpy(), 'ro', label='Original data')\n",
    "plt.plot(x_train.numpy(), y_pred.numpy(), 'kx-', label='Fitting Line')\n",
    "plt.show()"
   ]
  },
  {
   "cell_type": "markdown",
   "metadata": {},
   "source": [
    "## Parâmetro aprendido"
   ]
  },
  {
   "cell_type": "code",
   "execution_count": null,
   "metadata": {
    "ExecuteTime": {
     "end_time": "2017-10-08T11:20:38.176073Z",
     "start_time": "2017-10-08T14:20:36.509Z"
    },
    "collapsed": true
   },
   "outputs": [],
   "source": [
    "print(model.weight)"
   ]
  },
  {
   "cell_type": "markdown",
   "metadata": {},
   "source": [
    "## Valor ótimo, solução analítica"
   ]
  },
  {
   "cell_type": "code",
   "execution_count": null,
   "metadata": {
    "ExecuteTime": {
     "end_time": "2017-10-08T11:20:38.176389Z",
     "start_time": "2017-10-08T14:20:36.512Z"
    },
    "collapsed": true
   },
   "outputs": [],
   "source": [
    "x_bias = x_train_bias\n",
    "y = y_train\n",
    "x_bias_t = torch.t(x_bias)\n",
    "w_opt = (torch.inverse(x_bias_t.mm(x_bias)).mm(x_bias_t)).mm(y)\n",
    "print(torch.t(w_opt))"
   ]
  }
 ],
 "metadata": {
  "kernelspec": {
   "display_name": "Python 3",
   "language": "python",
   "name": "python3"
  },
  "language_info": {
   "codemirror_mode": {
    "name": "ipython",
    "version": 3
   },
   "file_extension": ".py",
   "mimetype": "text/x-python",
   "name": "python",
   "nbconvert_exporter": "python",
   "pygments_lexer": "ipython3",
   "version": "3.6.0"
  },
  "toc": {
   "nav_menu": {},
   "number_sections": true,
   "sideBar": true,
   "skip_h1_title": false,
   "toc_cell": false,
   "toc_position": {},
   "toc_section_display": "block",
   "toc_window_display": false
  },
  "varInspector": {
   "cols": {
    "lenName": 16,
    "lenType": 16,
    "lenVar": 40
   },
   "kernels_config": {
    "python": {
     "delete_cmd_postfix": "",
     "delete_cmd_prefix": "del ",
     "library": "var_list.py",
     "varRefreshCmd": "print(var_dic_list())"
    },
    "r": {
     "delete_cmd_postfix": ") ",
     "delete_cmd_prefix": "rm(",
     "library": "var_list.r",
     "varRefreshCmd": "cat(var_dic_list()) "
    }
   },
   "types_to_exclude": [
    "module",
    "function",
    "builtin_function_or_method",
    "instance",
    "_Feature"
   ],
   "window_display": false
  }
 },
 "nbformat": 4,
 "nbformat_minor": 2
}
