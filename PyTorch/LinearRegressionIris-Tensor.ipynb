{
 "cells": [
  {
   "cell_type": "markdown",
   "metadata": {},
   "source": [
    "# Exercício Regressão Linear com PyTorch"
   ]
  },
  {
   "cell_type": "markdown",
   "metadata": {
    "ExecuteTime": {
     "end_time": "2017-11-23T20:02:40.968451Z",
     "start_time": "2017-11-23T20:02:40.961876Z"
    }
   },
   "source": [
    "Este notebook é um exercício baseado no notebook:\n",
    "- [LinearRegressionIrisNumPy.ipynb](LinearRegressionIrisNumPy.ipynb) feito em NumPy,\n",
    "\n",
    "O objetivo desse notebook é reescrevê-lo porém utilizando tensores do PyTorch.\n",
    "\n",
    "Os nomes das funções do PyTorch são próximas das funções do Torch original escrito\n",
    "na linguagem Lua, porém não são iguais."
   ]
  },
  {
   "cell_type": "markdown",
   "metadata": {
    "heading_collapsed": true
   },
   "source": [
    "## Importação dos pacotes"
   ]
  },
  {
   "cell_type": "code",
   "execution_count": 5,
   "metadata": {
    "ExecuteTime": {
     "end_time": "2017-11-23T20:14:54.515789Z",
     "start_time": "2017-11-23T20:14:52.608004Z"
    },
    "collapsed": true,
    "hidden": true
   },
   "outputs": [],
   "source": [
    "%matplotlib inline\n",
    "import torch\n",
    "\n",
    "import matplotlib.pyplot as plt\n",
    "from sklearn.datasets import load_iris\n",
    "\n",
    "torch.manual_seed(1234)\n",
    "\n",
    "def print_assert(r):\n",
    "    if r:\n",
    "        return 'OK!'\n",
    "    else:\n",
    "        return 'Incorreto!'"
   ]
  },
  {
   "cell_type": "markdown",
   "metadata": {
    "heading_collapsed": true
   },
   "source": [
    "## Dataset"
   ]
  },
  {
   "cell_type": "markdown",
   "metadata": {
    "hidden": true
   },
   "source": [
    "### Leitura dos dados"
   ]
  },
  {
   "cell_type": "code",
   "execution_count": 6,
   "metadata": {
    "ExecuteTime": {
     "end_time": "2017-11-23T20:14:54.561808Z",
     "start_time": "2017-11-23T20:14:54.520096Z"
    },
    "hidden": true
   },
   "outputs": [
    {
     "name": "stdout",
     "output_type": "stream",
     "text": [
      "x_train.shape: torch.Size([50, 1]) <class 'torch.FloatTensor'>\n",
      "y_train.shape: torch.Size([50, 1]) <class 'torch.FloatTensor'>\n",
      "x_train[:5]:\n",
      " \n",
      " 7.0000\n",
      " 6.4000\n",
      " 6.9000\n",
      " 5.5000\n",
      " 6.5000\n",
      "[torch.FloatTensor of size 5x1]\n",
      "\n",
      "y_train[:5]:\n",
      " \n",
      " 4.7000\n",
      " 4.5000\n",
      " 4.9000\n",
      " 4.0000\n",
      " 4.6000\n",
      "[torch.FloatTensor of size 5x1]\n",
      "\n"
     ]
    }
   ],
   "source": [
    "iris = load_iris()\n",
    "data = iris.data[iris.target==1,::2]  # comprimento das sépalas e pétalas, indices 0 e 2\n",
    "\n",
    "x_train = torch.FloatTensor(data[:,0:1])\n",
    "y_train = torch.FloatTensor(data[:,1:2])\n",
    "\n",
    "n_samples = x_train.size(0)\n",
    "print('x_train.shape:',x_train.shape, type(x_train))\n",
    "print('y_train.shape:',y_train.shape, type(y_train))\n",
    "\n",
    "print('x_train[:5]:\\n', x_train[:5])\n",
    "print('y_train[:5]:\\n', y_train[:5])"
   ]
  },
  {
   "cell_type": "markdown",
   "metadata": {
    "hidden": true
   },
   "source": [
    "### Normalização dos dados"
   ]
  },
  {
   "cell_type": "code",
   "execution_count": 7,
   "metadata": {
    "ExecuteTime": {
     "end_time": "2017-11-23T20:14:55.793609Z",
     "start_time": "2017-11-23T20:14:55.784058Z"
    },
    "collapsed": true,
    "hidden": true
   },
   "outputs": [],
   "source": [
    "x_train -= x_train.min()\n",
    "x_train /= x_train.max()\n",
    "y_train -= y_train.min()\n",
    "y_train /= y_train.max()"
   ]
  },
  {
   "cell_type": "markdown",
   "metadata": {
    "hidden": true
   },
   "source": [
    "### Exercício 1 - criação do `x_train_bias`"
   ]
  },
  {
   "cell_type": "markdown",
   "metadata": {
    "hidden": true
   },
   "source": [
    "faça o `x_train_bias` ser uma matriz com zeros na primeira coluna e x_train na segunda coluna.\n",
    "\n",
    "Dica: você pode precisar da função [torch.cat](http://pytorch.org/docs/master/torch.html#torch.cat) e [torch.ones](http://pytorch.org/docs/master/torch.html#torch.ones)."
   ]
  },
  {
   "cell_type": "code",
   "execution_count": 24,
   "metadata": {
    "ExecuteTime": {
     "end_time": "2017-11-23T20:20:01.800387Z",
     "start_time": "2017-11-23T20:20:01.794765Z"
    },
    "hidden": true
   },
   "outputs": [
    {
     "name": "stdout",
     "output_type": "stream",
     "text": [
      "torch.Size([50, 2])\n"
     ]
    }
   ],
   "source": [
    "x_train_bias = torch.ones(50,2)\n",
    "print(x_train_bias.size())"
   ]
  },
  {
   "cell_type": "code",
   "execution_count": 25,
   "metadata": {
    "ExecuteTime": {
     "end_time": "2017-11-23T20:20:02.735974Z",
     "start_time": "2017-11-23T20:20:02.717525Z"
    },
    "hidden": true
   },
   "outputs": [
    {
     "name": "stdout",
     "output_type": "stream",
     "text": [
      "x_train_bias é um tensor: OK!\n",
      "tamanho do x_train_bias: OK!\n",
      "primeira coluna é só de uns: OK!\n",
      "segunda coluna é igual a x_train: Incorreto!\n"
     ]
    }
   ],
   "source": [
    "# Verificação do exercício - Execute para testar sua implementação\n",
    "\n",
    "print('x_train_bias é um tensor: {}'.format(print_assert(\n",
    "    isinstance(x_train_bias, torch.FloatTensor)\n",
    ")))\n",
    "\n",
    "    \n",
    "print('tamanho do x_train_bias: {}'.format(print_assert(\n",
    "    x_train_bias.size() == torch.Size([50, 2])\n",
    ")))\n",
    "\n",
    "print('primeira coluna é só de uns: {}'.format(print_assert(\n",
    "    (x_train_bias[:, 0] - torch.ones(n_samples)).sum() == 0\n",
    ")))\n",
    "\n",
    "print('segunda coluna é igual a x_train: {}'.format(print_assert(\n",
    "    (x_train_bias[:, 1] - x_train).sum() == 0\n",
    ")))"
   ]
  },
  {
   "cell_type": "markdown",
   "metadata": {
    "heading_collapsed": true
   },
   "source": [
    "## Modelo da rede"
   ]
  },
  {
   "cell_type": "markdown",
   "metadata": {
    "hidden": true
   },
   "source": [
    "### Definição da classe"
   ]
  },
  {
   "cell_type": "code",
   "execution_count": 26,
   "metadata": {
    "ExecuteTime": {
     "end_time": "2017-11-23T20:20:06.067248Z",
     "start_time": "2017-11-23T20:20:06.057472Z"
    },
    "collapsed": true,
    "hidden": true
   },
   "outputs": [],
   "source": [
    "class Net():\n",
    "    def __init__(self, n_in, n_out):\n",
    "        self.w = torch.Tensor(n_out, n_in)\n",
    "        self.w.uniform_(-0.1,0.1) #inicialização dos parâmetros\n",
    "    \n",
    "    def forward(self, x_bias):\n",
    "        return x_bias.matmul(torch.t(self.w))\n",
    "    "
   ]
  },
  {
   "cell_type": "markdown",
   "metadata": {
    "hidden": true
   },
   "source": [
    "### Instanciando a rede"
   ]
  },
  {
   "cell_type": "code",
   "execution_count": 27,
   "metadata": {
    "ExecuteTime": {
     "end_time": "2017-11-23T20:20:07.985685Z",
     "start_time": "2017-11-23T20:20:07.980781Z"
    },
    "collapsed": true,
    "hidden": true
   },
   "outputs": [],
   "source": [
    "model = Net(2,1)"
   ]
  },
  {
   "cell_type": "markdown",
   "metadata": {
    "hidden": true
   },
   "source": [
    "### Testando o predict da rede"
   ]
  },
  {
   "cell_type": "code",
   "execution_count": 28,
   "metadata": {
    "ExecuteTime": {
     "end_time": "2017-11-23T20:20:09.290143Z",
     "start_time": "2017-11-23T20:20:09.234504Z"
    },
    "hidden": true
   },
   "outputs": [
    {
     "data": {
      "text/plain": [
       "\n",
       "-0.1034\n",
       " 0.0705\n",
       "-0.0052\n",
       "-0.0229\n",
       "[torch.FloatTensor of size 4x1]"
      ]
     },
     "execution_count": 28,
     "metadata": {},
     "output_type": "execute_result"
    }
   ],
   "source": [
    "#model.forward(torch.ones((4,2)))\n",
    "model.forward(torch.randn(4,2))"
   ]
  },
  {
   "cell_type": "markdown",
   "metadata": {
    "heading_collapsed": true
   },
   "source": [
    "## Treinamento"
   ]
  },
  {
   "cell_type": "markdown",
   "metadata": {
    "hidden": true
   },
   "source": [
    "### Exercício 2 - Treinamento"
   ]
  },
  {
   "cell_type": "markdown",
   "metadata": {
    "hidden": true
   },
   "source": [
    "Refaça o código de treinamento da rede, mas agora utilizando somente Tensores do PyTorch. Faça o mesmo procedimento que o notebook [LinearRegressionIrisNumPy](LinearRegressionIrisNumPy.ipynb). Para consultar as operações disponíveis no PyTorch use a [documentação do PyTorch](http://pytorch.org/docs/master/torch.html).\n",
    "\n",
    "Funções que podem ser úteis:\n",
    "- torch.t\n",
    "- torch.mean\n",
    "- torch.matmul"
   ]
  },
  {
   "cell_type": "code",
   "execution_count": 34,
   "metadata": {
    "ExecuteTime": {
     "end_time": "2017-11-23T20:23:45.756699Z",
     "start_time": "2017-11-23T20:23:45.745003Z"
    },
    "hidden": true,
    "scrolled": false
   },
   "outputs": [
    {
     "name": "stdout",
     "output_type": "stream",
     "text": [
      "Epoch[2/10], loss: 0.100000\n",
      "Epoch[4/10], loss: 0.100000\n",
      "Epoch[6/10], loss: 0.100000\n",
      "Epoch[8/10], loss: 0.100000\n",
      "Epoch[10/10], loss: 0.100000\n"
     ]
    }
   ],
   "source": [
    "num_epochs = 10\n",
    "learning_rate = 0.5\n",
    "\n",
    "for epoch in range(num_epochs):\n",
    "    # forward - predict\n",
    "    y_pred = model.forward(x_train_bias)\n",
    "\n",
    "    #loss cálculo da função de perda\n",
    "    #loss = np.square(y_pred - y_train).mean()\n",
    "    loss = 0.1\n",
    "    \n",
    "    # cálculo do gradiente pelas derivadas parciais\n",
    "    # w_grad = (2.0/n_samples) * (x_train_bias.T).dot(x_train_bias.dot(model.w.T) - y_train)\n",
    "\n",
    "    # gradiente descendente\n",
    "    # model.w = model.w - learning_rate * w_grad.T\n",
    "\n",
    "    # verbose\n",
    "    if (epoch+1) % 2 == 0:\n",
    "        print('Epoch[{}/{}], loss: {:.6f}'\n",
    "              .format(epoch+1, num_epochs, loss))"
   ]
  },
  {
   "cell_type": "markdown",
   "metadata": {
    "heading_collapsed": true
   },
   "source": [
    "## Avaliação"
   ]
  },
  {
   "cell_type": "markdown",
   "metadata": {
    "hidden": true
   },
   "source": [
    "### Predict"
   ]
  },
  {
   "cell_type": "code",
   "execution_count": 35,
   "metadata": {
    "ExecuteTime": {
     "end_time": "2017-11-23T20:23:47.471344Z",
     "start_time": "2017-11-23T20:23:47.273366Z"
    },
    "hidden": true
   },
   "outputs": [
    {
     "data": {
      "image/png": "[encoded data removed]",
      "text/plain": [
       "<matplotlib.figure.Figure at 0x1170f3f28>"
      ]
     },
     "metadata": {},
     "output_type": "display_data"
    }
   ],
   "source": [
    "y_pred = model.forward(x_train_bias)\n",
    "plt.plot(x_train.numpy(), y_train.numpy(), 'ro', label='Original data')\n",
    "plt.plot(x_train.numpy(), y_pred.numpy(), 'kx-', label='Fitting Line')\n",
    "plt.show()"
   ]
  },
  {
   "cell_type": "markdown",
   "metadata": {
    "hidden": true
   },
   "source": [
    "### Parâmetro treinado"
   ]
  },
  {
   "cell_type": "code",
   "execution_count": 36,
   "metadata": {
    "ExecuteTime": {
     "end_time": "2017-11-23T20:23:48.740489Z",
     "start_time": "2017-11-23T20:23:48.733797Z"
    },
    "hidden": true
   },
   "outputs": [
    {
     "name": "stdout",
     "output_type": "stream",
     "text": [
      "\n",
      "1.00000e-02 *\n",
      " -9.4204 -1.9620\n",
      "[torch.FloatTensor of size 1x2]\n",
      "\n"
     ]
    }
   ],
   "source": [
    "print(model.w)"
   ]
  },
  {
   "cell_type": "markdown",
   "metadata": {
    "hidden": true
   },
   "source": [
    "### Valor ótimo, solução analítica"
   ]
  },
  {
   "cell_type": "code",
   "execution_count": 37,
   "metadata": {
    "ExecuteTime": {
     "end_time": "2017-11-23T20:23:50.193861Z",
     "start_time": "2017-11-23T20:23:50.179010Z"
    },
    "hidden": true
   },
   "outputs": [
    {
     "ename": "RuntimeError",
     "evalue": "Lapack Error getrf : U(2,2) is 0, U is singular at /Users/robertoalotufo/mylocalprojects/pytorch/aten/src/TH/generic/THTensorLapack.c:514",
     "output_type": "error",
     "traceback": [
      "\u001b[0;31m---------------------------------------------------------------------------\u001b[0m",
      "\u001b[0;31mRuntimeError\u001b[0m                              Traceback (most recent call last)",
      "\u001b[0;32m<ipython-input-37-cac1fb342082>\u001b[0m in \u001b[0;36m<module>\u001b[0;34m()\u001b[0m\n\u001b[1;32m      2\u001b[0m \u001b[0my\u001b[0m \u001b[0;34m=\u001b[0m \u001b[0my_train\u001b[0m\u001b[0;34m\u001b[0m\u001b[0m\n\u001b[1;32m      3\u001b[0m \u001b[0mx_bias_t\u001b[0m \u001b[0;34m=\u001b[0m \u001b[0mtorch\u001b[0m\u001b[0;34m.\u001b[0m\u001b[0mt\u001b[0m\u001b[0;34m(\u001b[0m\u001b[0mx_bias\u001b[0m\u001b[0;34m)\u001b[0m\u001b[0;34m\u001b[0m\u001b[0m\n\u001b[0;32m----> 4\u001b[0;31m \u001b[0mw_opt\u001b[0m \u001b[0;34m=\u001b[0m \u001b[0;34m(\u001b[0m\u001b[0mtorch\u001b[0m\u001b[0;34m.\u001b[0m\u001b[0minverse\u001b[0m\u001b[0;34m(\u001b[0m\u001b[0mx_bias_t\u001b[0m\u001b[0;34m.\u001b[0m\u001b[0mmm\u001b[0m\u001b[0;34m(\u001b[0m\u001b[0mx_bias\u001b[0m\u001b[0;34m)\u001b[0m\u001b[0;34m)\u001b[0m\u001b[0;34m.\u001b[0m\u001b[0mmm\u001b[0m\u001b[0;34m(\u001b[0m\u001b[0mx_bias_t\u001b[0m\u001b[0;34m)\u001b[0m\u001b[0;34m)\u001b[0m\u001b[0;34m.\u001b[0m\u001b[0mmm\u001b[0m\u001b[0;34m(\u001b[0m\u001b[0my\u001b[0m\u001b[0;34m)\u001b[0m\u001b[0;34m\u001b[0m\u001b[0m\n\u001b[0m\u001b[1;32m      5\u001b[0m \u001b[0mprint\u001b[0m\u001b[0;34m(\u001b[0m\u001b[0mtorch\u001b[0m\u001b[0;34m.\u001b[0m\u001b[0mt\u001b[0m\u001b[0;34m(\u001b[0m\u001b[0mw_opt\u001b[0m\u001b[0;34m)\u001b[0m\u001b[0;34m)\u001b[0m\u001b[0;34m\u001b[0m\u001b[0m\n",
      "\u001b[0;31mRuntimeError\u001b[0m: Lapack Error getrf : U(2,2) is 0, U is singular at /Users/robertoalotufo/mylocalprojects/pytorch/aten/src/TH/generic/THTensorLapack.c:514"
     ]
    }
   ],
   "source": [
    "x_bias = x_train_bias\n",
    "y = y_train\n",
    "x_bias_t = torch.t(x_bias)\n",
    "w_opt = (torch.inverse(x_bias_t.mm(x_bias)).mm(x_bias_t)).mm(y)\n",
    "print(torch.t(w_opt))"
   ]
  },
  {
   "cell_type": "code",
   "execution_count": null,
   "metadata": {
    "collapsed": true,
    "hidden": true
   },
   "outputs": [],
   "source": []
  }
 ],
 "metadata": {
  "kernelspec": {
   "display_name": "Python 3",
   "language": "python",
   "name": "python3"
  },
  "language_info": {
   "codemirror_mode": {
    "name": "ipython",
    "version": 3
   },
   "file_extension": ".py",
   "mimetype": "text/x-python",
   "name": "python",
   "nbconvert_exporter": "python",
   "pygments_lexer": "ipython3",
   "version": "3.6.0"
  },
  "toc": {
   "nav_menu": {},
   "number_sections": true,
   "sideBar": true,
   "skip_h1_title": false,
   "toc_cell": false,
   "toc_position": {},
   "toc_section_display": "block",
   "toc_window_display": false
  },
  "varInspector": {
   "cols": {
    "lenName": 16,
    "lenType": 16,
    "lenVar": 40
   },
   "kernels_config": {
    "python": {
     "delete_cmd_postfix": "",
     "delete_cmd_prefix": "del ",
     "library": "var_list.py",
     "varRefreshCmd": "print(var_dic_list())"
    },
    "r": {
     "delete_cmd_postfix": ") ",
     "delete_cmd_prefix": "rm(",
     "library": "var_list.r",
     "varRefreshCmd": "cat(var_dic_list()) "
    }
   },
   "types_to_exclude": [
    "module",
    "function",
    "builtin_function_or_method",
    "instance",
    "_Feature"
   ],
   "window_display": false
  }
 },
 "nbformat": 4,
 "nbformat_minor": 2
}
