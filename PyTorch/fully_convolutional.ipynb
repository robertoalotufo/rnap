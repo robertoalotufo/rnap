{
 "cells": [
  {
   "cell_type": "markdown",
   "metadata": {},
   "source": [
    "# Redes totalmente convolucionais"
   ]
  },
  {
   "cell_type": "markdown",
   "metadata": {},
   "source": [
    "Este notebook aborda os seguintes aspectos relacionados às redes totalmente convolucionais:\n",
    "\n",
    "- como transformar uma camada densa em convolucional, aproveitando seus pesos;\n",
    "- como criar, a partir de uma rede pré-treinada para classificar imagens, uma rede totalmente convolucional;\n",
    "- demonstrar que uma rede totalmente convolucional, quando aplicada em imagens maiores que aquelas usadas em seu treinamento, implementa uma varredura implícita com ganhos de eficiência.\n",
    "- apresentar um método de supressão de não máximo para detectar caracteres"
   ]
  },
  {
   "cell_type": "markdown",
   "metadata": {},
   "source": [
    "## Motivação"
   ]
  },
  {
   "cell_type": "markdown",
   "metadata": {},
   "source": [
    "### Rede 2 camadas convolucionais e 2 camadas densas"
   ]
  },
  {
   "cell_type": "markdown",
   "metadata": {},
   "source": [
    "<img src=\"https://raw.githubusercontent.com/robertoalotufo/files/master/figures/Rede_LeNet_like.png\">\n",
    "<!-- <img src=\"../figures/Rede_LeNet_like.png\"></a> -->"
   ]
  },
  {
   "cell_type": "markdown",
   "metadata": {},
   "source": [
    "### Rede equivalente com 4 camadas convolucionais "
   ]
  },
  {
   "cell_type": "markdown",
   "metadata": {},
   "source": [
    "<img src=\"https://raw.githubusercontent.com/robertoalotufo/files/master/figures/Rede_LeNet_like_fully_convolutional.png\">\n",
    "<!--<img src='../figures/Rede_LeNet_like_fully_convolutional.png'></img>-->"
   ]
  },
  {
   "cell_type": "code",
   "execution_count": 1,
   "metadata": {
    "ExecuteTime": {
     "end_time": "2018-12-15T16:25:15.149869Z",
     "start_time": "2018-12-15T16:25:14.703294Z"
    }
   },
   "outputs": [],
   "source": [
    "REMOTE_COLAB = False\n",
    "nworkers = 4\n",
    "if REMOTE_COLAB:\n",
    "    \n",
    "    nworkers = 0\n",
    "    \n",
    "    # Instalação de bibliotecas e datasets necessários no colab remoto\n",
    "    print(\"Verificando instalação do torch e bibliotecas extras necessárias...\")\n",
    "    from os import path\n",
    "    from wheel.pep425tags import get_abbr_impl, get_impl_ver, get_abi_tag\n",
    "    platform = '{}{}-{}'.format(get_abbr_impl(), get_impl_ver(), get_abi_tag())\n",
    "\n",
    "    accelerator = 'cu80' if path.exists('/opt/bin/nvidia-smi') else 'cpu'\n",
    "\n",
    "    !pip3 install http://download.pytorch.org/whl/{accelerator}/torch-0.4.1-{platform}-linux_x86_64.whl torchvision\n",
    "    print(\"AGORA REINICIE O KERNEL ANTES DE CONTINUAR!\")\n",
    "    !nvidia-smi\n",
    "\n",
    "!wget -nc -q https://raw.githubusercontent.com/robertoalotufo/files/master/lib/pytorch_trainer_v2.py -Plib/\n",
    "!wget -nc -q https://raw.githubusercontent.com/robertoalotufo/files/master/models/lenet-mnist.model -Pmodels/\n",
    "!wget -nc -q https://raw.githubusercontent.com/robertoalotufo/files/master/models/lenet-mnist.histo -Pmodels/\n"
   ]
  },
  {
   "cell_type": "markdown",
   "metadata": {},
   "source": [
    "## Importando os módulos"
   ]
  },
  {
   "cell_type": "code",
   "execution_count": 2,
   "metadata": {
    "ExecuteTime": {
     "end_time": "2018-12-15T16:25:23.217215Z",
     "start_time": "2018-12-15T16:25:20.404169Z"
    }
   },
   "outputs": [],
   "source": [
    "%matplotlib inline\n",
    "\n",
    "import numpy as np\n",
    "import matplotlib.pyplot as plt\n",
    "from collections import OrderedDict\n",
    "\n",
    "# from torch\n",
    "import torch\n",
    "import torch.nn as nn\n",
    "from torch.optim import lr_scheduler\n",
    "import torch.nn.functional as F\n",
    "\n",
    "# from torchvision\n",
    "import torchvision\n",
    "import torchvision.transforms as transforms\n",
    "from torchvision.datasets import MNIST\n"
   ]
  },
  {
   "cell_type": "code",
   "execution_count": 3,
   "metadata": {
    "ExecuteTime": {
     "end_time": "2018-12-15T16:25:24.166228Z",
     "start_time": "2018-12-15T16:25:24.155664Z"
    }
   },
   "outputs": [
    {
     "name": "stdout",
     "output_type": "stream",
     "text": [
      "Device available: cpu\n"
     ]
    }
   ],
   "source": [
    "from lib import pytorch_trainer_v2 as ptt\n",
    "device = torch.device('cpu')\n",
    "if torch.cuda.is_available():\n",
    "    from torch.cuda import get_device_name\n",
    "    print(get_device_name(0))\n",
    "    device = torch.device('cuda')\n",
    "print('Device available:', device)"
   ]
  },
  {
   "cell_type": "markdown",
   "metadata": {},
   "source": [
    "## Carregando MNIST dataset"
   ]
  },
  {
   "cell_type": "code",
   "execution_count": 4,
   "metadata": {
    "ExecuteTime": {
     "end_time": "2018-12-15T16:25:27.734823Z",
     "start_time": "2018-12-15T16:25:27.527570Z"
    }
   },
   "outputs": [
    {
     "name": "stdout",
     "output_type": "stream",
     "text": [
      "Amostras para treinamento: 60000\n",
      "Amostras para validação: 10000\n",
      "<class 'torch.Tensor'>\n",
      "torch.Size([60000, 28, 28])\n",
      "tensor(0, dtype=torch.uint8) tensor(255, dtype=torch.uint8)\n"
     ]
    }
   ],
   "source": [
    "dataset_dir = 'data/MNIST/'\n",
    "\n",
    "# Transformara os dados em tensores no intervalo [0.0, 1.0] (Os dados serão normalizados)\n",
    "data_transform = transforms.ToTensor()\n",
    "# data_transform = None\n",
    "\n",
    "# carrega o conjunto de treinamento e de teste\n",
    "datasets = dict(train=MNIST(dataset_dir, train=True,  transform=data_transform, download=True),\n",
    "                val  =MNIST(dataset_dir, train=False, transform=data_transform, download=False))\n",
    "\n",
    "dataloaders = dict(train=torch.utils.data.DataLoader(dataset=datasets['train'], batch_size=32, shuffle=True),\n",
    "                   val  =torch.utils.data.DataLoader(dataset=datasets['val'],   batch_size=32, shuffle=False))\n",
    "\n",
    "print('Amostras para treinamento:', len(datasets['train']))\n",
    "print('Amostras para validação:',   len(datasets['val']))\n",
    "print(type(datasets['train'].train_data))\n",
    "print(datasets['train'].train_data.size())\n",
    "print(datasets['train'].train_data.min(), datasets['train'].train_data.max())"
   ]
  },
  {
   "cell_type": "markdown",
   "metadata": {},
   "source": [
    "## Pequena amostra apenas para testar o código"
   ]
  },
  {
   "cell_type": "code",
   "execution_count": 5,
   "metadata": {
    "ExecuteTime": {
     "end_time": "2018-12-15T16:25:35.955867Z",
     "start_time": "2018-12-15T16:25:35.945828Z"
    }
   },
   "outputs": [
    {
     "name": "stdout",
     "output_type": "stream",
     "text": [
      "Amostras para treinamento: 1000\n",
      "Amostras para validação: 500\n"
     ]
    }
   ],
   "source": [
    "if True:\n",
    "    n_samples_train = 1000\n",
    "    n_samples_test  = 500\n",
    "\n",
    "    datasets['train'].train_data = datasets['train'].train_data[:n_samples_train]\n",
    "    datasets['train'].train_labels = datasets['train'].train_labels[:n_samples_train]\n",
    "    datasets['val'].test_data = datasets['val'].test_data[:n_samples_test]\n",
    "    datasets['val'].test_labels = datasets['val'].test_labels[:n_samples_test]\n",
    "    \n",
    "    print('Amostras para treinamento:', len(datasets['train']))\n",
    "    print('Amostras para validação:', len(datasets['val']))"
   ]
  },
  {
   "cell_type": "markdown",
   "metadata": {},
   "source": [
    "## Definição do modelo com camadas densas (igual ao notebook anterior)"
   ]
  },
  {
   "cell_type": "code",
   "execution_count": 6,
   "metadata": {
    "ExecuteTime": {
     "end_time": "2018-12-15T16:25:38.138553Z",
     "start_time": "2018-12-15T16:25:38.124078Z"
    }
   },
   "outputs": [],
   "source": [
    "class MyModel(nn.Module):\n",
    "    def __init__(self):\n",
    "        super(MyModel, self).__init__()\n",
    "        \n",
    "        # Camadas convolucionais\n",
    "        self.conv_layer = nn.Sequential(OrderedDict([\n",
    "            # lembrar de usar zero padding para manter o tamanho da imagem\n",
    "            ('conv1', nn.Conv2d(in_channels=1, out_channels=20, kernel_size=5, padding=2)),   \n",
    "            ('relu1', nn.ReLU()),\n",
    "            ('max_pool1', nn.MaxPool2d(2)),\n",
    "\n",
    "            ('conv2', nn.Conv2d(in_channels=20, out_channels=50, kernel_size=5, padding=2)),\n",
    "            ('relu2', nn.ReLU()),\n",
    "            ('max_pool2', nn.MaxPool2d(2)),\n",
    "            \n",
    "            ('drop', nn.Dropout(p=0.5))\n",
    "        ]))\n",
    "        \n",
    "        # Camadas densas\n",
    "        self.dense_layer = nn.Sequential(OrderedDict([\n",
    "            ('dense1', nn.Linear(in_features=2450, out_features=80)),\n",
    "            ('relu1', nn.ReLU()),\n",
    "            ('dense2', nn.Linear(in_features=80, out_features=10)),\n",
    "        ]))\n",
    "        \n",
    "    def forward(self, x):\n",
    "        x = self.conv_layer(x)\n",
    "        x = x.view(-1, 2450)  # Transforma a matriz em vetor\n",
    "        x = self.dense_layer(x)\n",
    "        \n",
    "        return x\n"
   ]
  },
  {
   "cell_type": "markdown",
   "metadata": {},
   "source": [
    "## Carregando nosso modelo pré-treinado anteriormente"
   ]
  },
  {
   "cell_type": "markdown",
   "metadata": {},
   "source": [
    "Iremos converter a rede já treinada no exemplo anterior. Caso a próxima célula deste notebook\n",
    "der erro, é muito provável que o modelo da rede não foi salvo. Deve-se portanto executar o notebook:\n",
    "\n",
    "- [lenet-mnist.ipynb](lenet-mnist.ipynb)"
   ]
  },
  {
   "cell_type": "code",
   "execution_count": 7,
   "metadata": {
    "ExecuteTime": {
     "end_time": "2018-12-15T16:25:40.969190Z",
     "start_time": "2018-12-15T16:25:40.946434Z"
    }
   },
   "outputs": [],
   "source": [
    "model_name = 'models/lenet-mnist.model'\n",
    "saved_weights = torch.load(model_name, map_location=device)\n",
    "\n",
    "model_dense = MyModel().to(device)\n",
    "model_dense.load_state_dict(saved_weights)"
   ]
  },
  {
   "cell_type": "code",
   "execution_count": 8,
   "metadata": {
    "ExecuteTime": {
     "end_time": "2018-12-15T16:25:42.443891Z",
     "start_time": "2018-12-15T16:25:41.887263Z"
    }
   },
   "outputs": [],
   "source": [
    "preds_dense = ptt.predict_classes_loader(model_dense, dataloaders['val'])"
   ]
  },
  {
   "cell_type": "code",
   "execution_count": 9,
   "metadata": {
    "ExecuteTime": {
     "end_time": "2018-12-15T16:25:43.687345Z",
     "start_time": "2018-12-15T16:25:43.316880Z"
    }
   },
   "outputs": [
    {
     "data": {
      "text/plain": [
       "torch.Size([500, 10])"
      ]
     },
     "execution_count": 9,
     "metadata": {},
     "output_type": "execute_result"
    }
   ],
   "source": [
    "preds = ptt.predict_loader(model_dense, dataloaders['val'])\n",
    "preds.shape"
   ]
  },
  {
   "cell_type": "markdown",
   "metadata": {},
   "source": [
    "## Modelo totalmente convolucional equivalente"
   ]
  },
  {
   "cell_type": "markdown",
   "metadata": {},
   "source": [
    "O modelo seguinte é todo ele convolucional.\n",
    "\n",
    "A primeira camada densa do modelo tem como entrada um tensor de dimensão 2450, resultante do redimensionamento (via *Flatten*) da saída do *Dropout*, 50x7x7. Esta camada gera uma saída com dimensão 50. Seus pesos têm portanto dimensão 2450x50.\n",
    "\n",
    "Uma camada convolucional que substitua estas camadas *Flatten* e *Dense* terá como entrada um tensor 50x7x7. Para gerar uma saída 50x1x1, a convolução deve criar 50 mapas com um kernel 7x7 e com borda do tipo 'valid'.\n",
    "\n",
    "Para substituir a última camada densa, usamos uma convolução com 10 mapas e kernel 1x1.\n"
   ]
  },
  {
   "cell_type": "code",
   "execution_count": 10,
   "metadata": {
    "ExecuteTime": {
     "end_time": "2018-12-15T16:25:47.400540Z",
     "start_time": "2018-12-15T16:25:47.384813Z"
    }
   },
   "outputs": [],
   "source": [
    "class MyModelFullyConv(nn.Module):\n",
    "    def __init__(self):\n",
    "        super(MyModelFullyConv, self).__init__()\n",
    "        \n",
    "        # Camadas convolucionais\n",
    "        self.conv_layer = nn.Sequential(OrderedDict([\n",
    "            # lembrar de usar zero padding para manter o tamanho da imagem\n",
    "            ('conv1', nn.Conv2d(in_channels=1, out_channels=20, kernel_size=5, padding=2)),   \n",
    "            ('relu1', nn.ReLU()),\n",
    "            ('max_pool1', nn.MaxPool2d(2)),\n",
    "\n",
    "            ('conv2', nn.Conv2d(in_channels=20, out_channels=50, kernel_size=5, padding=2)),\n",
    "            ('relu2', nn.ReLU()),\n",
    "            ('max_pool2', nn.MaxPool2d(2)),\n",
    "            \n",
    "            ('conv3', nn.Conv2d(in_channels=50, out_channels=80, kernel_size=7)),\n",
    "            ('relu3', nn.ReLU()),\n",
    "            \n",
    "            ('conv4', nn.Conv2d(in_channels=80, out_channels=10, kernel_size=1)),\n",
    "        ]))\n",
    "        \n",
    "    def forward(self, x):\n",
    "        x = self.conv_layer(x)        \n",
    "        return x"
   ]
  },
  {
   "cell_type": "markdown",
   "metadata": {},
   "source": [
    "### Observando a saida de cada camada"
   ]
  },
  {
   "cell_type": "code",
   "execution_count": 11,
   "metadata": {
    "ExecuteTime": {
     "end_time": "2018-12-15T16:25:49.027605Z",
     "start_time": "2018-12-15T16:25:49.006942Z"
    }
   },
   "outputs": [
    {
     "name": "stdout",
     "output_type": "stream",
     "text": [
      "input     : torch.Size([1, 1, 28, 28])\n",
      "conv1     : torch.Size([1, 20, 28, 28])\n",
      "relu1     : torch.Size([1, 20, 28, 28])\n",
      "max_pool1 : torch.Size([1, 20, 14, 14])\n",
      "conv2     : torch.Size([1, 50, 14, 14])\n",
      "relu2     : torch.Size([1, 50, 14, 14])\n",
      "max_pool2 : torch.Size([1, 50, 7, 7])\n",
      "conv3     : torch.Size([1, 80, 1, 1])\n",
      "relu3     : torch.Size([1, 80, 1, 1])\n",
      "conv4     : torch.Size([1, 10, 1, 1])\n"
     ]
    }
   ],
   "source": [
    "model_conv = MyModelFullyConv().to(device)\n",
    "x = torch.zeros(1, 1, 28, 28).to(device)\n",
    "\n",
    "print('{:10}: {}'.format('input', str(x.size())))\n",
    "\n",
    "for name, layer in model_conv.conv_layer.named_children():\n",
    "    x = layer(x)\n",
    "    print('{:10}: {}'.format(name, str(x.size())))"
   ]
  },
  {
   "cell_type": "markdown",
   "metadata": {},
   "source": [
    "### comparando o tamanho dos pesos das duas redes"
   ]
  },
  {
   "cell_type": "code",
   "execution_count": 12,
   "metadata": {
    "ExecuteTime": {
     "end_time": "2018-12-15T16:25:52.972692Z",
     "start_time": "2018-12-15T16:25:52.968602Z"
    }
   },
   "outputs": [],
   "source": [
    "def print_weights_size(weight_dict):\n",
    "    for name, weight in weight_dict.items():\n",
    "        print('{:25} -> {}'.format(name, weight.shape))"
   ]
  },
  {
   "cell_type": "code",
   "execution_count": 13,
   "metadata": {
    "ExecuteTime": {
     "end_time": "2018-12-15T16:25:53.934825Z",
     "start_time": "2018-12-15T16:25:53.927572Z"
    }
   },
   "outputs": [
    {
     "name": "stdout",
     "output_type": "stream",
     "text": [
      "--Pesos no modelo dense--\n",
      "conv_layer.conv1.weight   -> torch.Size([20, 1, 5, 5])\n",
      "conv_layer.conv1.bias     -> torch.Size([20])\n",
      "conv_layer.conv2.weight   -> torch.Size([50, 20, 5, 5])\n",
      "conv_layer.conv2.bias     -> torch.Size([50])\n",
      "dense_layer.dense1.weight -> torch.Size([80, 2450])\n",
      "dense_layer.dense1.bias   -> torch.Size([80])\n",
      "dense_layer.dense2.weight -> torch.Size([10, 80])\n",
      "dense_layer.dense2.bias   -> torch.Size([10])\n",
      "\n",
      "--Pesos no modelo fully convolutional--\n",
      "conv_layer.conv1.weight   -> torch.Size([20, 1, 5, 5])\n",
      "conv_layer.conv1.bias     -> torch.Size([20])\n",
      "conv_layer.conv2.weight   -> torch.Size([50, 20, 5, 5])\n",
      "conv_layer.conv2.bias     -> torch.Size([50])\n",
      "conv_layer.conv3.weight   -> torch.Size([80, 50, 7, 7])\n",
      "conv_layer.conv3.bias     -> torch.Size([80])\n",
      "conv_layer.conv4.weight   -> torch.Size([10, 80, 1, 1])\n",
      "conv_layer.conv4.bias     -> torch.Size([10])\n"
     ]
    }
   ],
   "source": [
    "print('--Pesos no modelo dense--')\n",
    "print_weights_size(model_dense.state_dict())\n",
    "print('\\n--Pesos no modelo fully convolutional--')\n",
    "print_weights_size(model_conv.state_dict())"
   ]
  },
  {
   "cell_type": "markdown",
   "metadata": {},
   "source": [
    "## Ajustando os pesos do modelo todo convolucional"
   ]
  },
  {
   "cell_type": "code",
   "execution_count": 14,
   "metadata": {
    "ExecuteTime": {
     "end_time": "2018-12-15T16:25:55.965017Z",
     "start_time": "2018-12-15T16:25:55.953407Z"
    },
    "scrolled": false
   },
   "outputs": [],
   "source": [
    "w_dense = model_dense.state_dict()\n",
    "w_conv  = model_conv.state_dict()\n",
    "\n",
    "# Só precisamos ajustar as dimensões dos pesos das camadas:\n",
    "# - dense1.weight para o tamanho de conv3.weight\n",
    "# - dense2.weight para o tamanho de conv4.weight\n",
    "# As outras camadas serão somente copiadas\n",
    "\n",
    "# weigths\n",
    "w_conv['conv_layer.conv1.weight'] = w_dense['conv_layer.conv1.weight']\n",
    "w_conv['conv_layer.conv2.weight'] = w_dense['conv_layer.conv2.weight']\n",
    "w_conv['conv_layer.conv3.weight'] = w_dense['dense_layer.dense1.weight'].view(80, 50, 7, 7)\n",
    "w_conv['conv_layer.conv4.weight'] = w_dense['dense_layer.dense2.weight'].view(10, 80, 1, 1)\n",
    "\n",
    "# bias\n",
    "w_conv['conv_layer.conv1.bias'] = w_dense['conv_layer.conv1.bias']\n",
    "w_conv['conv_layer.conv2.bias'] = w_dense['conv_layer.conv2.bias']\n",
    "w_conv['conv_layer.conv3.bias'] = w_dense['dense_layer.dense1.bias']\n",
    "w_conv['conv_layer.conv4.bias'] = w_dense['dense_layer.dense2.bias']\n",
    "\n",
    "model_conv.load_state_dict(w_conv)"
   ]
  },
  {
   "cell_type": "markdown",
   "metadata": {},
   "source": [
    "## Verificando se o desempenho é o mesmo"
   ]
  },
  {
   "cell_type": "markdown",
   "metadata": {},
   "source": [
    "Uma vez que colocamos na rede B os pesos da rede A, precisamos verificar se o desempenho da rede B (totalmente convolucional)\n",
    "possui o mesmo desempenho da rede A.\n",
    "Fazermos isso medindo a acurácia das duas redes no conjunto de testes."
   ]
  },
  {
   "cell_type": "code",
   "execution_count": 15,
   "metadata": {
    "ExecuteTime": {
     "end_time": "2018-12-15T16:26:01.677397Z",
     "start_time": "2018-12-15T16:26:01.252993Z"
    }
   },
   "outputs": [],
   "source": [
    "preds_conv_img = ptt.predict_classes_loader(model_conv, dataloaders['val'])\n",
    "preds_conv = torch.squeeze(preds_conv_img)"
   ]
  },
  {
   "cell_type": "code",
   "execution_count": 16,
   "metadata": {
    "ExecuteTime": {
     "end_time": "2018-12-15T16:26:05.477926Z",
     "start_time": "2018-12-15T16:26:05.466670Z"
    }
   },
   "outputs": [
    {
     "name": "stdout",
     "output_type": "stream",
     "text": [
      "labels: [7 2 1 0 4 1 4 9 5 9]\n",
      "dense : [7 2 1 0 4 1 4 9 5 9]\n",
      "conv  : [7 2 1 0 4 1 4 9 5 9]\n"
     ]
    }
   ],
   "source": [
    "# Mostra os 10 primeiros elementos preditos\n",
    "labels = datasets['val'].test_labels\n",
    "\n",
    "print('{:6}: {}'.format('labels',     labels[:10].numpy()))\n",
    "print('{:6}: {}'.format('dense', preds_dense[:10].numpy()))\n",
    "print('{:6}: {}'.format('conv',   preds_conv[:10].numpy()))"
   ]
  },
  {
   "cell_type": "code",
   "execution_count": 17,
   "metadata": {
    "ExecuteTime": {
     "end_time": "2018-12-15T16:26:07.135386Z",
     "start_time": "2018-12-15T16:26:07.122291Z"
    }
   },
   "outputs": [
    {
     "name": "stdout",
     "output_type": "stream",
     "text": [
      "Acurácia rede totalmente convolucional: 99.2%\n",
      "Acurácia rede clássica:                 99.4%\n"
     ]
    }
   ],
   "source": [
    "print('Acurácia rede totalmente convolucional: {:.5}%'.format(100.0 *(preds_conv  == labels).sum().float() / labels.shape[0]))\n",
    "print('Acurácia rede clássica:                 {:.5}%'.format(100.0 *(preds_dense == labels).sum().float() / labels.shape[0]))"
   ]
  },
  {
   "cell_type": "markdown",
   "metadata": {},
   "source": [
    "# Aplicando o classificador numa imagem maior que 28x28"
   ]
  },
  {
   "cell_type": "code",
   "execution_count": 18,
   "metadata": {
    "ExecuteTime": {
     "end_time": "2018-12-15T16:26:18.567693Z",
     "start_time": "2018-12-15T16:26:18.561500Z"
    }
   },
   "outputs": [],
   "source": [
    "# Função para criar uma imagem de teste, maior que 28x28 colocando várias amostras\n",
    "def make_image(X_test, y_test, M=200, H=28, W=28):\n",
    "    char_index = np.random.choice(X_test.shape[0], 10, replace=False)\n",
    "    char_img = [img.reshape(H,W) for img in (X_test)[char_index]]\n",
    "    char_lab = [y for y in y_test[char_index]]\n",
    "\n",
    "    image = np.zeros((M, M), np.uint8)\n",
    "    coords = [(20, 20), (50, 150), (100, 100), (151, 151), (120,30)] # posição das imagens na imagem maior\n",
    "    xlabel = []\n",
    "    for k, (i, j) in enumerate(coords):\n",
    "        image[i:i+H, j:j+W] = char_img[k]\n",
    "        xlabel.append(char_lab[k])\n",
    "    return image, coords, xlabel"
   ]
  },
  {
   "cell_type": "code",
   "execution_count": 19,
   "metadata": {
    "ExecuteTime": {
     "end_time": "2018-12-15T16:26:20.774014Z",
     "start_time": "2018-12-15T16:26:20.768247Z"
    }
   },
   "outputs": [],
   "source": [
    "labels = datasets['val'].test_labels\n",
    "x_test = datasets['val'].test_data"
   ]
  },
  {
   "cell_type": "code",
   "execution_count": 20,
   "metadata": {
    "ExecuteTime": {
     "end_time": "2018-12-15T16:26:22.669271Z",
     "start_time": "2018-12-15T16:26:22.362152Z"
    }
   },
   "outputs": [
    {
     "data": {
      "text/plain": [
       "<matplotlib.colorbar.Colorbar at 0x115352860>"
      ]
     },
     "execution_count": 20,
     "metadata": {},
     "output_type": "execute_result"
    },
    {
     "data": {
      "image/png": "[encoded data removed]",
      "text/plain": [
       "<Figure size 432x288 with 2 Axes>"
      ]
     },
     "metadata": {},
     "output_type": "display_data"
    }
   ],
   "source": [
    "M = 200\n",
    "image_uint8, coords, xlabel = make_image(x_test.numpy(), labels.numpy(), M) # Construindo uma imagem para testes M x M com 4 dígitos\n",
    "image = image_uint8/255.\n",
    "plt.imshow(image, cmap='gray')\n",
    "plt.colorbar()"
   ]
  },
  {
   "cell_type": "markdown",
   "metadata": {},
   "source": [
    "## Aplicando classificador na imagem 200 x 200"
   ]
  },
  {
   "cell_type": "code",
   "execution_count": 21,
   "metadata": {
    "ExecuteTime": {
     "end_time": "2018-12-15T16:26:25.189099Z",
     "start_time": "2018-12-15T16:26:25.040624Z"
    }
   },
   "outputs": [
    {
     "name": "stdout",
     "output_type": "stream",
     "text": [
      "tamanho na entrada:           torch.Size([1, 1, 200, 200])\n",
      "tamanho na saída:             torch.Size([1, 44, 44])\n",
      "tamanho após o padding:       torch.Size([50, 50])\n"
     ]
    }
   ],
   "source": [
    "# transforma imagem de input em Tensor e em seguida a coloca em uma variável\n",
    "in_image = image.reshape(1, 1, M, M)\n",
    "in_image = torch.from_numpy(in_image).type(torch.FloatTensor).to(device)\n",
    "print('{:30}{}'.format('tamanho na entrada:', in_image.size()))\n",
    "probs = ptt.predict_probas(model_conv, in_image)\n",
    "\n",
    "output = model_conv(in_image)\n",
    "po = F.softmax(output,dim=1)\n",
    "max_pred, max_class = torch.max(po, dim=1)\n",
    "\n",
    "max_pred_pad = F.pad(max_pred.view(44,44),(3,3,3,3))\n",
    "print('{:30}{}'.format('tamanho na saída:', max_pred.shape))\n",
    "print('{:30}{}'.format('tamanho após o padding:', max_pred_pad.shape))"
   ]
  },
  {
   "cell_type": "code",
   "execution_count": 22,
   "metadata": {
    "ExecuteTime": {
     "end_time": "2018-12-15T16:26:26.393505Z",
     "start_time": "2018-12-15T16:26:26.388984Z"
    }
   },
   "outputs": [
    {
     "name": "stdout",
     "output_type": "stream",
     "text": [
      "tamanho do hot map:           (50, 50)\n"
     ]
    }
   ],
   "source": [
    "hot_map = max_pred_pad.data.cpu().numpy()\n",
    "print('{:30}{}'.format('tamanho do hot map:', hot_map.shape))"
   ]
  },
  {
   "cell_type": "code",
   "execution_count": 23,
   "metadata": {
    "ExecuteTime": {
     "end_time": "2018-12-15T16:26:27.632323Z",
     "start_time": "2018-12-15T16:26:27.468022Z"
    }
   },
   "outputs": [
    {
     "data": {
      "image/png": "[encoded data removed]",
      "text/plain": [
       "<Figure size 432x288 with 2 Axes>"
      ]
     },
     "metadata": {},
     "output_type": "display_data"
    }
   ],
   "source": [
    "plt.imshow(hot_map, plt.cm.hot)\n",
    "plt.colorbar()\n",
    "plt.show()"
   ]
  },
  {
   "cell_type": "markdown",
   "metadata": {},
   "source": [
    "### Supressão de valores não máximos"
   ]
  },
  {
   "cell_type": "code",
   "execution_count": 24,
   "metadata": {
    "ExecuteTime": {
     "end_time": "2018-12-15T16:26:30.659093Z",
     "start_time": "2018-12-15T16:26:29.276800Z"
    }
   },
   "outputs": [
    {
     "data": {
      "text/plain": [
       "<matplotlib.image.AxesImage at 0x1c256186d8>"
      ]
     },
     "execution_count": 24,
     "metadata": {},
     "output_type": "execute_result"
    },
    {
     "data": {
      "image/png": "[encoded data removed]",
      "text/plain": [
       "<Figure size 432x288 with 1 Axes>"
      ]
     },
     "metadata": {},
     "output_type": "display_data"
    }
   ],
   "source": [
    "import skimage\n",
    "from skimage.morphology import square\n",
    "disk = square(11)\n",
    "disk[5,5]=0\n",
    "dil = skimage.morphology.dilation(np.clip(hot_map,0.6,1.0),disk)\n",
    "cc = hot_map >= dil\n",
    "plt.imshow(cc)"
   ]
  },
  {
   "cell_type": "markdown",
   "metadata": {},
   "source": [
    "### Classe identificada em cada máximo"
   ]
  },
  {
   "cell_type": "code",
   "execution_count": 25,
   "metadata": {
    "ExecuteTime": {
     "end_time": "2018-12-15T16:26:32.667096Z",
     "start_time": "2018-12-15T16:26:32.656364Z"
    }
   },
   "outputs": [
    {
     "name": "stdout",
     "output_type": "stream",
     "text": [
      "8 8 0.99999976 3\n",
      "15 41 0.99999285 8\n",
      "28 28 0.9999944 1\n",
      "33 10 1.0 0\n",
      "41 41 0.99998856 5\n"
     ]
    }
   ],
   "source": [
    "max_class_pad = F.pad(max_class.view(44,44),(3,3,3,3)).data.cpu().numpy()\n",
    "\n",
    "for r,c in np.transpose(np.nonzero(cc)):\n",
    "    print(r,c,hot_map[r,c],max_class_pad[r,c])"
   ]
  },
  {
   "cell_type": "code",
   "execution_count": 26,
   "metadata": {
    "ExecuteTime": {
     "end_time": "2018-12-15T16:26:33.992697Z",
     "start_time": "2018-12-15T16:26:33.860231Z"
    }
   },
   "outputs": [
    {
     "data": {
      "image/png": "[encoded data removed]",
      "text/plain": [
       "<Figure size 432x288 with 1 Axes>"
      ]
     },
     "metadata": {},
     "output_type": "display_data"
    }
   ],
   "source": [
    "plt.imshow(cc)\n",
    "for r,c in np.transpose(np.nonzero(cc)):\n",
    "    plt.text(c,r,max_class_pad[r,c] ,color='white', fontsize=24)\n",
    "plt.show()"
   ]
  },
  {
   "cell_type": "markdown",
   "metadata": {},
   "source": [
    "## Observações\n",
    "\n",
    "- A rede base utilizada não foi treinada para a não-ocorrência de um dos dez caracteres, nem de recortes parciais dos caracteres originais.\n",
    "- Um exercício interessante seria treinar o modelo com os caracteres sobrepostos a imagens de fundo, além de recortes do fundo sem caracter (11 classes)."
   ]
  },
  {
   "cell_type": "markdown",
   "metadata": {
    "collapsed": true
   },
   "source": [
    "## Aprendizados com este notebook\n"
   ]
  },
  {
   "cell_type": "code",
   "execution_count": null,
   "metadata": {
    "collapsed": true
   },
   "outputs": [],
   "source": []
  }
 ],
 "metadata": {
  "anaconda-cloud": {},
  "kernelspec": {
   "display_name": "Python 3",
   "language": "python",
   "name": "python3"
  },
  "language_info": {
   "codemirror_mode": {
    "name": "ipython",
    "version": 3
   },
   "file_extension": ".py",
   "mimetype": "text/x-python",
   "name": "python",
   "nbconvert_exporter": "python",
   "pygments_lexer": "ipython3",
   "version": "3.6.5"
  },
  "toc": {
   "base_numbering": 1,
   "nav_menu": {
    "height": "210px",
    "width": "252px"
   },
   "number_sections": true,
   "sideBar": true,
   "skip_h1_title": false,
   "title_cell": "Table of Contents",
   "title_sidebar": "Contents",
   "toc_cell": false,
   "toc_position": {},
   "toc_section_display": "block",
   "toc_window_display": false
  }
 },
 "nbformat": 4,
 "nbformat_minor": 1
}
