{
 "cells": [
  {
   "cell_type": "markdown",
   "metadata": {},
   "source": [
    "# Redes totalmente convolucionais"
   ]
  },
  {
   "cell_type": "markdown",
   "metadata": {},
   "source": [
    "Este notebook aborda os seguintes aspectos relacionados às redes totalmente convolucionais:\n",
    "\n",
    "- como transformar uma camada densa em convolucional, aproveitando seus pesos;\n",
    "- como criar, a partir de uma rede pré-treinada para classificar imagens, uma rede totalmente convolucional;\n",
    "- demonstrar que uma rede totalmente convolucional, quando aplicada em imagens maiores que aquelas usadas em seu treinamento, implementa uma varredura implícita com ganhos de eficiência.\n",
    "- apresentar um método de supressão de não máximo para detectar caracteres"
   ]
  },
  {
   "cell_type": "markdown",
   "metadata": {},
   "source": [
    "## Motivação"
   ]
  },
  {
   "cell_type": "markdown",
   "metadata": {},
   "source": [
    "### Rede 2 camadas convolucionais e 2 camadas densas"
   ]
  },
  {
   "cell_type": "markdown",
   "metadata": {},
   "source": [
    "<img src=\"../figures/Rede_LeNet_like.png\"></a>"
   ]
  },
  {
   "cell_type": "markdown",
   "metadata": {},
   "source": [
    "### Rede equivalente com 4 camadas convolucionais "
   ]
  },
  {
   "cell_type": "markdown",
   "metadata": {},
   "source": [
    "<img src='../figures/Rede_LeNet_like_fully_convolutional.png'></img>"
   ]
  },
  {
   "cell_type": "markdown",
   "metadata": {},
   "source": [
    "## Importando os módulos"
   ]
  },
  {
   "cell_type": "code",
   "execution_count": 1,
   "metadata": {
    "ExecuteTime": {
     "end_time": "2018-02-10T23:55:03.480410Z",
     "start_time": "2018-02-10T23:55:03.196421Z"
    },
    "collapsed": true
   },
   "outputs": [],
   "source": [
    "%matplotlib inline\n",
    "\n",
    "import numpy as np\n",
    "import matplotlib.pyplot as plt\n",
    "from collections import OrderedDict\n",
    "\n",
    "# from torch\n",
    "import torch\n",
    "import torch.nn as nn\n",
    "from torch.autograd import Variable\n",
    "from torch.optim import lr_scheduler\n",
    "import torch.nn.functional as F\n",
    "\n",
    "# from torchvision\n",
    "import torchvision\n",
    "import torchvision.transforms as transforms\n",
    "from torchvision.datasets import MNIST\n",
    "\n",
    "# our library\n",
    "from lib import pytorch_trainer as ptt"
   ]
  },
  {
   "cell_type": "code",
   "execution_count": 2,
   "metadata": {
    "ExecuteTime": {
     "end_time": "2018-02-10T23:55:03.496963Z",
     "start_time": "2018-02-10T23:55:03.481274Z"
    }
   },
   "outputs": [
    {
     "name": "stdout",
     "output_type": "stream",
     "text": [
      "Usando GPU: True\n"
     ]
    }
   ],
   "source": [
    "# verifica se a GPU esta disponivel\n",
    "use_gpu = torch.cuda.is_available()\n",
    "print(\"Usando GPU:\", use_gpu)"
   ]
  },
  {
   "cell_type": "markdown",
   "metadata": {},
   "source": [
    "## Carregando MNIST dataset"
   ]
  },
  {
   "cell_type": "code",
   "execution_count": 3,
   "metadata": {
    "ExecuteTime": {
     "end_time": "2018-02-10T23:55:03.560768Z",
     "start_time": "2018-02-10T23:55:03.497806Z"
    }
   },
   "outputs": [
    {
     "name": "stdout",
     "output_type": "stream",
     "text": [
      "Amostras para treinamento: 60000\n",
      "Amostras para validação: 10000\n",
      "<class 'torch.ByteTensor'>\n",
      "torch.Size([60000, 28, 28])\n",
      "0 255\n"
     ]
    }
   ],
   "source": [
    "dataset_dir = '/data/datasets/MNIST/'\n",
    "\n",
    "# Transformara os dados em tensores no intervalo [0.0, 1.0] (Os dados serão normalizados)\n",
    "data_transform = transforms.ToTensor()\n",
    "# data_transform = None\n",
    "\n",
    "# carrega o conjunto de treinamento e de teste\n",
    "datasets = dict(train=MNIST(dataset_dir, train=True,  transform=data_transform, download=False),\n",
    "                val  =MNIST(dataset_dir, train=False, transform=data_transform, download=False))\n",
    "\n",
    "dataloaders = dict(train=torch.utils.data.DataLoader(dataset=datasets['train'], batch_size=32, shuffle=True),\n",
    "                   val  =torch.utils.data.DataLoader(dataset=datasets['val'],   batch_size=32, shuffle=False))\n",
    "\n",
    "print('Amostras para treinamento:', len(datasets['train']))\n",
    "print('Amostras para validação:', len(datasets['val']))\n",
    "print(type(datasets['train'].train_data))\n",
    "print(datasets['train'].train_data.size())\n",
    "print(datasets['train'].train_data.min(), datasets['train'].train_data.max())"
   ]
  },
  {
   "cell_type": "markdown",
   "metadata": {},
   "source": [
    "## Pequena amostra apenas para testar o código"
   ]
  },
  {
   "cell_type": "code",
   "execution_count": 4,
   "metadata": {
    "ExecuteTime": {
     "end_time": "2018-02-10T23:55:03.566806Z",
     "start_time": "2018-02-10T23:55:03.561657Z"
    }
   },
   "outputs": [
    {
     "name": "stdout",
     "output_type": "stream",
     "text": [
      "Amostras para treinamento: 1000\n",
      "Amostras para validação: 500\n"
     ]
    }
   ],
   "source": [
    "if True:\n",
    "    n_samples_train = 1000\n",
    "    n_samples_test  = 500\n",
    "\n",
    "    datasets['train'].train_data = datasets['train'].train_data[:n_samples_train]\n",
    "    datasets['train'].train_labels = datasets['train'].train_labels[:n_samples_train]\n",
    "    datasets['val'].test_data = datasets['val'].test_data[:n_samples_test]\n",
    "    datasets['val'].test_labels = datasets['val'].test_labels[:n_samples_test]\n",
    "    \n",
    "    print('Amostras para treinamento:', len(datasets['train']))\n",
    "    print('Amostras para validação:', len(datasets['val']))"
   ]
  },
  {
   "cell_type": "markdown",
   "metadata": {},
   "source": [
    "## Definição do modelo com camadas densas (igual ao notebook anterior)"
   ]
  },
  {
   "cell_type": "code",
   "execution_count": 7,
   "metadata": {
    "ExecuteTime": {
     "end_time": "2018-02-10T23:55:03.593704Z",
     "start_time": "2018-02-10T23:55:03.577059Z"
    },
    "collapsed": true
   },
   "outputs": [],
   "source": [
    "class MyModel(nn.Module):\n",
    "    def __init__(self):\n",
    "        super(MyModel, self).__init__()\n",
    "        \n",
    "        # Camadas convolucionais\n",
    "        self.conv_layer = nn.Sequential(OrderedDict([\n",
    "            # lembrar de usar zero padding para manter o tamanho da imagem\n",
    "            ('conv1', nn.Conv2d(in_channels=1, out_channels=20, kernel_size=5, padding=2)),   \n",
    "            ('relu1', nn.ReLU()),\n",
    "            ('max_pool1', nn.MaxPool2d(2)),\n",
    "\n",
    "            ('conv2', nn.Conv2d(in_channels=20, out_channels=50, kernel_size=5, padding=2)),\n",
    "            ('relu2', nn.ReLU()),\n",
    "            ('max_pool2', nn.MaxPool2d(2)),\n",
    "            \n",
    "            ('drop', nn.Dropout(p=0.5))\n",
    "        ]))\n",
    "        \n",
    "        # Camadas densas\n",
    "        self.dense_layer = nn.Sequential(OrderedDict([\n",
    "            ('dense1', nn.Linear(in_features=2450, out_features=80)),\n",
    "            ('relu1', nn.ReLU()),\n",
    "            ('dense2', nn.Linear(in_features=80, out_features=10)),\n",
    "        ]))\n",
    "        \n",
    "    def forward(self, x):\n",
    "        x = self.conv_layer(x)\n",
    "        x = x.view(-1, 2450)  # Transforma a matriz em vetor\n",
    "        x = self.dense_layer(x)\n",
    "        \n",
    "        return x"
   ]
  },
  {
   "cell_type": "markdown",
   "metadata": {},
   "source": [
    "## Carregando nosso modelo pré-treinado anteriormente"
   ]
  },
  {
   "cell_type": "markdown",
   "metadata": {},
   "source": [
    "Iremos converter a rede já treinada no exemplo anterior. Caso a próxima célula deste notebook\n",
    "der erro, é muito provável que o modelo da rede não foi salvo. Deve-se portanto executar o notebook:\n",
    "\n",
    "- [lenet-mnist.ipynb](lenet-mnist.ipynb)"
   ]
  },
  {
   "cell_type": "code",
   "execution_count": 8,
   "metadata": {
    "ExecuteTime": {
     "end_time": "2018-02-10T23:55:04.834776Z",
     "start_time": "2018-02-10T23:55:03.594476Z"
    },
    "collapsed": true
   },
   "outputs": [],
   "source": [
    "model_name = '/data/models/lenet-mnist.model'\n",
    "saved_weights = torch.load(model_name)\n",
    "\n",
    "model_dense = MyModel()\n",
    "if use_gpu:\n",
    "    model_dense = model_dense.cuda()\n",
    "model_dense.load_state_dict(saved_weights)"
   ]
  },
  {
   "cell_type": "code",
   "execution_count": 9,
   "metadata": {
    "ExecuteTime": {
     "end_time": "2018-02-10T23:55:05.310134Z",
     "start_time": "2018-02-10T23:55:04.835641Z"
    },
    "collapsed": true
   },
   "outputs": [],
   "source": [
    "preds_dense = ptt.predict_classes_loader(model_dense, dataloaders['val'])"
   ]
  },
  {
   "cell_type": "code",
   "execution_count": 10,
   "metadata": {
    "ExecuteTime": {
     "end_time": "2018-02-10T23:55:05.337179Z",
     "start_time": "2018-02-10T23:55:05.311036Z"
    }
   },
   "outputs": [
    {
     "data": {
      "text/plain": [
       "torch.Size([500, 10])"
      ]
     },
     "execution_count": 10,
     "metadata": {},
     "output_type": "execute_result"
    }
   ],
   "source": [
    "preds = ptt.predict_loader(model_dense, dataloaders['val'])\n",
    "preds.shape"
   ]
  },
  {
   "cell_type": "markdown",
   "metadata": {},
   "source": [
    "## Modelo totalmente convolucional equivalente"
   ]
  },
  {
   "cell_type": "markdown",
   "metadata": {},
   "source": [
    "O modelo seguinte é todo ele convolucional.\n",
    "\n",
    "A primeira camada densa do modelo tem como entrada um tensor de dimensão 2450, resultante do redimensionamento (via *Flatten*) da saída do *Dropout*, 50x7x7. Esta camada gera uma saída com dimensão 50. Seus pesos têm portanto dimensão 2450x50.\n",
    "\n",
    "Uma camada convolucional que substitua estas camadas *Flatten* e *Dense* terá como entrada um tensor 50x7x7. Para gerar uma saída 50x1x1, a convolução deve criar 50 mapas com um kernel 7x7 e com borda do tipo 'valid'.\n",
    "\n",
    "Para substituir a última camada densa, usamos uma convolução com 10 mapas e kernel 1x1.\n"
   ]
  },
  {
   "cell_type": "code",
   "execution_count": 11,
   "metadata": {
    "ExecuteTime": {
     "end_time": "2018-02-10T23:55:05.348484Z",
     "start_time": "2018-02-10T23:55:05.337951Z"
    },
    "collapsed": true
   },
   "outputs": [],
   "source": [
    "class MyModelFullyConv(nn.Module):\n",
    "    def __init__(self):\n",
    "        super(MyModelFullyConv, self).__init__()\n",
    "        \n",
    "        # Camadas convolucionais\n",
    "        self.conv_layer = nn.Sequential(OrderedDict([\n",
    "            # lembrar de usar zero padding para manter o tamanho da imagem\n",
    "            ('conv1', nn.Conv2d(in_channels=1, out_channels=20, kernel_size=5, padding=2)),   \n",
    "            ('relu1', nn.ReLU()),\n",
    "            ('max_pool1', nn.MaxPool2d(2)),\n",
    "\n",
    "            ('conv2', nn.Conv2d(in_channels=20, out_channels=50, kernel_size=5, padding=2)),\n",
    "            ('relu2', nn.ReLU()),\n",
    "            ('max_pool2', nn.MaxPool2d(2)),\n",
    "            \n",
    "            ('conv3', nn.Conv2d(in_channels=50, out_channels=80, kernel_size=7)),\n",
    "            ('relu3', nn.ReLU()),\n",
    "            \n",
    "            ('conv4', nn.Conv2d(in_channels=80, out_channels=10, kernel_size=1)),\n",
    "        ]))\n",
    "        \n",
    "    def forward(self, x):\n",
    "        x = self.conv_layer(x)        \n",
    "        return x"
   ]
  },
  {
   "cell_type": "markdown",
   "metadata": {},
   "source": [
    "### Observando a saida de cada camada"
   ]
  },
  {
   "cell_type": "code",
   "execution_count": 12,
   "metadata": {
    "ExecuteTime": {
     "end_time": "2018-02-10T23:55:05.357024Z",
     "start_time": "2018-02-10T23:55:05.349209Z"
    }
   },
   "outputs": [
    {
     "name": "stdout",
     "output_type": "stream",
     "text": [
      "input     : torch.Size([1, 1, 28, 28])\n",
      "conv1     : torch.Size([1, 20, 28, 28])\n",
      "relu1     : torch.Size([1, 20, 28, 28])\n",
      "max_pool1 : torch.Size([1, 20, 14, 14])\n",
      "conv2     : torch.Size([1, 50, 14, 14])\n",
      "relu2     : torch.Size([1, 50, 14, 14])\n",
      "max_pool2 : torch.Size([1, 50, 7, 7])\n",
      "conv3     : torch.Size([1, 80, 1, 1])\n",
      "relu3     : torch.Size([1, 80, 1, 1])\n",
      "conv4     : torch.Size([1, 10, 1, 1])\n"
     ]
    }
   ],
   "source": [
    "model_conv = MyModelFullyConv()\n",
    "if use_gpu:\n",
    "    model_conv = model_conv.cuda()\n",
    "x = Variable(torch.zeros(1, 1, 28, 28))\n",
    "if use_gpu:\n",
    "    x = x.cuda()\n",
    "\n",
    "print('{:10}: {}'.format('input', str(x.size())))\n",
    "\n",
    "for name, layer in model_conv.conv_layer.named_children():\n",
    "    x = layer(x)\n",
    "    print('{:10}: {}'.format(name, str(x.size())))"
   ]
  },
  {
   "cell_type": "markdown",
   "metadata": {},
   "source": [
    "### comparando o tamanho dos pesos das duas redes"
   ]
  },
  {
   "cell_type": "code",
   "execution_count": 34,
   "metadata": {
    "ExecuteTime": {
     "end_time": "2018-02-11T00:14:11.834835Z",
     "start_time": "2018-02-11T00:14:11.829963Z"
    },
    "collapsed": true
   },
   "outputs": [],
   "source": [
    "def print_weights_size(weight_dict):\n",
    "    for name, weight in weight_dict.items():\n",
    "        print('{:25} -> {}'.format(name, weight.shape))"
   ]
  },
  {
   "cell_type": "code",
   "execution_count": 35,
   "metadata": {
    "ExecuteTime": {
     "end_time": "2018-02-11T00:14:13.029390Z",
     "start_time": "2018-02-11T00:14:13.024067Z"
    }
   },
   "outputs": [
    {
     "name": "stdout",
     "output_type": "stream",
     "text": [
      "--Pesos no modelo dense--\n",
      "conv_layer.conv1.weight   -> torch.Size([20, 1, 5, 5])\n",
      "conv_layer.conv1.bias     -> torch.Size([20])\n",
      "conv_layer.conv2.weight   -> torch.Size([50, 20, 5, 5])\n",
      "conv_layer.conv2.bias     -> torch.Size([50])\n",
      "dense_layer.dense1.weight -> torch.Size([80, 2450])\n",
      "dense_layer.dense1.bias   -> torch.Size([80])\n",
      "dense_layer.dense2.weight -> torch.Size([10, 80])\n",
      "dense_layer.dense2.bias   -> torch.Size([10])\n",
      "\n",
      "--Pesos no modelo fully convolutional--\n",
      "conv_layer.conv1.weight   -> torch.Size([20, 1, 5, 5])\n",
      "conv_layer.conv1.bias     -> torch.Size([20])\n",
      "conv_layer.conv2.weight   -> torch.Size([50, 20, 5, 5])\n",
      "conv_layer.conv2.bias     -> torch.Size([50])\n",
      "conv_layer.conv3.weight   -> torch.Size([80, 50, 7, 7])\n",
      "conv_layer.conv3.bias     -> torch.Size([80])\n",
      "conv_layer.conv4.weight   -> torch.Size([10, 80, 1, 1])\n",
      "conv_layer.conv4.bias     -> torch.Size([10])\n"
     ]
    }
   ],
   "source": [
    "print('--Pesos no modelo dense--')\n",
    "print_weights_size(model_dense.state_dict())\n",
    "print('\\n--Pesos no modelo fully convolutional--')\n",
    "print_weights_size(model_conv.state_dict())"
   ]
  },
  {
   "cell_type": "markdown",
   "metadata": {},
   "source": [
    "## Ajustando os pesos do modelo todo convolucional"
   ]
  },
  {
   "cell_type": "code",
   "execution_count": 36,
   "metadata": {
    "ExecuteTime": {
     "end_time": "2018-02-11T00:14:38.285339Z",
     "start_time": "2018-02-11T00:14:38.273374Z"
    },
    "collapsed": true,
    "scrolled": false
   },
   "outputs": [],
   "source": [
    "w_dense = model_dense.state_dict()\n",
    "w_conv  = model_conv.state_dict()\n",
    "\n",
    "# Só precisamos ajustar as dimensões dos pesos das camadas:\n",
    "# - dense1.weight para o tamanho de conv3.weight\n",
    "# - dense2.weight para o tamanho de conv4.weight\n",
    "# As outras camadas serão somente copiadas\n",
    "\n",
    "# weigths\n",
    "w_conv['conv_layer.conv1.weight'] = w_dense['conv_layer.conv1.weight']\n",
    "w_conv['conv_layer.conv2.weight'] = w_dense['conv_layer.conv2.weight']\n",
    "w_conv['conv_layer.conv3.weight'] = w_dense['dense_layer.dense1.weight'].view(80, 50, 7, 7)\n",
    "w_conv['conv_layer.conv4.weight'] = w_dense['dense_layer.dense2.weight'].view(10, 80, 1, 1)\n",
    "\n",
    "# bias\n",
    "w_conv['conv_layer.conv1.bias'] = w_dense['conv_layer.conv1.bias']\n",
    "w_conv['conv_layer.conv2.bias'] = w_dense['conv_layer.conv2.bias']\n",
    "w_conv['conv_layer.conv3.bias'] = w_dense['dense_layer.dense1.bias']\n",
    "w_conv['conv_layer.conv4.bias'] = w_dense['dense_layer.dense2.bias']\n",
    "\n",
    "model_conv.load_state_dict(w_conv)"
   ]
  },
  {
   "cell_type": "markdown",
   "metadata": {},
   "source": [
    "## Verificando se o desempenho é o mesmo"
   ]
  },
  {
   "cell_type": "markdown",
   "metadata": {},
   "source": [
    "Uma vez que colocamos na rede B os pesos da rede A, precisamos verificar se o desempenho da rede B (totalmente convolucional)\n",
    "possui o mesmo desempenho da rede A.\n",
    "Fazermos isso medindo a acurácia das duas redes no conjunto de testes."
   ]
  },
  {
   "cell_type": "code",
   "execution_count": 37,
   "metadata": {
    "ExecuteTime": {
     "end_time": "2018-02-11T00:14:43.447479Z",
     "start_time": "2018-02-11T00:14:43.414223Z"
    },
    "collapsed": true
   },
   "outputs": [],
   "source": [
    "preds_conv_img = ptt.predict_classes_loader(model_conv, dataloaders['val'])\n",
    "preds_conv = torch.squeeze(preds_conv_img)"
   ]
  },
  {
   "cell_type": "code",
   "execution_count": 38,
   "metadata": {
    "ExecuteTime": {
     "end_time": "2018-02-11T00:14:44.259592Z",
     "start_time": "2018-02-11T00:14:44.253354Z"
    }
   },
   "outputs": [
    {
     "name": "stdout",
     "output_type": "stream",
     "text": [
      "labels: [7 2 1 0 4 1 4 9 5 9]\n",
      "dense : [7 2 1 0 4 1 4 9 5 9]\n",
      "conv  : [7 2 1 0 4 1 4 9 5 9]\n"
     ]
    }
   ],
   "source": [
    "# Mostra os 10 primeiros elementos preditos\n",
    "labels = datasets['val'].test_labels\n",
    "\n",
    "print('{:6}: {}'.format('labels',     labels[:10].numpy()))\n",
    "print('{:6}: {}'.format('dense', preds_dense[:10].numpy()))\n",
    "print('{:6}: {}'.format('conv',   preds_conv[:10].numpy()))"
   ]
  },
  {
   "cell_type": "code",
   "execution_count": 39,
   "metadata": {
    "ExecuteTime": {
     "end_time": "2018-02-11T00:14:45.518871Z",
     "start_time": "2018-02-11T00:14:45.513722Z"
    }
   },
   "outputs": [
    {
     "name": "stdout",
     "output_type": "stream",
     "text": [
      "Acurácia rede totalmente convolucional: 99.4%\n",
      "Acurácia rede clássica:                 99.4%\n"
     ]
    }
   ],
   "source": [
    "print('Acurácia rede totalmente convolucional: {:.5}%'.format(100.0 *(preds_conv  == labels).sum() / labels.shape[0]))\n",
    "print('Acurácia rede clássica:                 {:.5}%'.format(100.0 *(preds_dense == labels).sum() / labels.shape[0]))"
   ]
  },
  {
   "cell_type": "markdown",
   "metadata": {},
   "source": [
    "# Aplicando o classificador numa imagem maior que 28x28"
   ]
  },
  {
   "cell_type": "code",
   "execution_count": 40,
   "metadata": {
    "ExecuteTime": {
     "end_time": "2018-02-11T00:14:47.075104Z",
     "start_time": "2018-02-11T00:14:47.062924Z"
    },
    "collapsed": true
   },
   "outputs": [],
   "source": [
    "# Função para criar uma imagem de teste, maior que 28x28 colocando várias amostras\n",
    "def make_image(X_test, y_test, M=200, H=28, W=28):\n",
    "    char_index = np.random.choice(X_test.shape[0], 10, replace=False)\n",
    "    char_img = [img.reshape(H,W) for img in (X_test)[char_index]]\n",
    "    char_lab = [y for y in y_test[char_index]]\n",
    "\n",
    "    image = np.zeros((M, M), np.uint8)\n",
    "    coords = [(20, 20), (50, 150), (100, 100), (151, 151), (120,30)] # posição das imagens na imagem maior\n",
    "    xlabel = []\n",
    "    for k, (i, j) in enumerate(coords):\n",
    "        image[i:i+H, j:j+W] = char_img[k]\n",
    "        xlabel.append(char_lab[k])\n",
    "    return image, coords, xlabel"
   ]
  },
  {
   "cell_type": "code",
   "execution_count": 41,
   "metadata": {
    "ExecuteTime": {
     "end_time": "2018-02-11T00:14:48.656991Z",
     "start_time": "2018-02-11T00:14:48.652130Z"
    },
    "collapsed": true
   },
   "outputs": [],
   "source": [
    "labels = datasets['val'].test_labels\n",
    "x_test = datasets['val'].test_data"
   ]
  },
  {
   "cell_type": "code",
   "execution_count": 42,
   "metadata": {
    "ExecuteTime": {
     "end_time": "2018-02-11T00:14:49.151274Z",
     "start_time": "2018-02-11T00:14:49.046845Z"
    }
   },
   "outputs": [
    {
     "data": {
      "text/plain": [
       "<matplotlib.colorbar.Colorbar at 0x7f36392f86a0>"
      ]
     },
     "execution_count": 42,
     "metadata": {},
     "output_type": "execute_result"
    },
    {
     "data": {
      "image/png": "[encoded data removed]",
      "text/plain": [
       "<matplotlib.figure.Figure at 0x7f3639212208>"
      ]
     },
     "metadata": {},
     "output_type": "display_data"
    }
   ],
   "source": [
    "M = 200\n",
    "image_uint8, coords, xlabel = make_image(x_test.numpy(), labels.numpy(), M) # Construindo uma imagem para testes M x M com 4 dígitos\n",
    "image = image_uint8/255.\n",
    "plt.imshow(image, cmap='gray')\n",
    "plt.colorbar()"
   ]
  },
  {
   "cell_type": "markdown",
   "metadata": {},
   "source": [
    "## Aplicando classificador na imagem 200 x 200"
   ]
  },
  {
   "cell_type": "code",
   "execution_count": 43,
   "metadata": {
    "ExecuteTime": {
     "end_time": "2018-02-11T00:14:52.324742Z",
     "start_time": "2018-02-11T00:14:52.312979Z"
    }
   },
   "outputs": [
    {
     "name": "stdout",
     "output_type": "stream",
     "text": [
      "tamanho na entrada:           torch.Size([1, 1, 200, 200])\n",
      "tamanho na saída:             torch.Size([1, 44, 44])\n",
      "tamanho após o padding:       torch.Size([50, 50])\n"
     ]
    }
   ],
   "source": [
    "# transforma imagem de input em Tensor e em seguida a coloca em uma variável\n",
    "in_image = image.reshape(1, 1, M, M)\n",
    "in_image = torch.from_numpy(in_image).type(torch.FloatTensor)\n",
    "#in_image = Variable(in_image)\n",
    "if use_gpu:\n",
    "    in_image = in_image.cuda()\n",
    "print('{:30}{}'.format('tamanho na entrada:', in_image.size()))\n",
    "probs = ptt.predict_probas(model_conv, in_image)\n",
    "\n",
    "output = model_conv(Variable(in_image))\n",
    "po = F.softmax(output,dim=1)\n",
    "max_pred, max_class = torch.max(po, dim=1)\n",
    "\n",
    "max_pred_pad = F.pad(max_pred.view(44,44),(3,3,3,3))\n",
    "print('{:30}{}'.format('tamanho na saída:', max_pred.shape))\n",
    "print('{:30}{}'.format('tamanho após o padding:', max_pred_pad.shape))"
   ]
  },
  {
   "cell_type": "code",
   "execution_count": 44,
   "metadata": {
    "ExecuteTime": {
     "end_time": "2018-02-11T00:14:53.226788Z",
     "start_time": "2018-02-11T00:14:53.222993Z"
    }
   },
   "outputs": [
    {
     "name": "stdout",
     "output_type": "stream",
     "text": [
      "tamanho do hot map:           (50, 50)\n"
     ]
    }
   ],
   "source": [
    "hot_map = max_pred_pad.data.cpu().numpy()\n",
    "print('{:30}{}'.format('tamanho do hot map:', hot_map.shape))"
   ]
  },
  {
   "cell_type": "code",
   "execution_count": 45,
   "metadata": {
    "ExecuteTime": {
     "end_time": "2018-02-11T00:14:53.637457Z",
     "start_time": "2018-02-11T00:14:53.553066Z"
    }
   },
   "outputs": [
    {
     "data": {
      "image/png": "[encoded data removed]",
      "text/plain": [
       "<matplotlib.figure.Figure at 0x7f363920d5c0>"
      ]
     },
     "metadata": {},
     "output_type": "display_data"
    }
   ],
   "source": [
    "plt.imshow(hot_map, plt.cm.hot)\n",
    "plt.colorbar()\n",
    "plt.show()"
   ]
  },
  {
   "cell_type": "markdown",
   "metadata": {},
   "source": [
    "### Supressão de valores não máximos"
   ]
  },
  {
   "cell_type": "code",
   "execution_count": 46,
   "metadata": {
    "ExecuteTime": {
     "end_time": "2018-02-11T00:14:55.071370Z",
     "start_time": "2018-02-11T00:14:55.006593Z"
    }
   },
   "outputs": [
    {
     "data": {
      "text/plain": [
       "<matplotlib.image.AxesImage at 0x7f36390a7d68>"
      ]
     },
     "execution_count": 46,
     "metadata": {},
     "output_type": "execute_result"
    },
    {
     "data": {
      "image/png": "[encoded data removed]",
      "text/plain": [
       "<matplotlib.figure.Figure at 0x7f3639166198>"
      ]
     },
     "metadata": {},
     "output_type": "display_data"
    }
   ],
   "source": [
    "import skimage\n",
    "from skimage.morphology import square\n",
    "disk = square(11)\n",
    "disk[5,5]=0\n",
    "dil = skimage.morphology.dilation(np.clip(hot_map,0.6,1.0),disk)\n",
    "cc = hot_map >= dil\n",
    "plt.imshow(cc)"
   ]
  },
  {
   "cell_type": "markdown",
   "metadata": {},
   "source": [
    "### Classe identificada em cada máximo"
   ]
  },
  {
   "cell_type": "code",
   "execution_count": 47,
   "metadata": {
    "ExecuteTime": {
     "end_time": "2018-02-11T00:14:56.139221Z",
     "start_time": "2018-02-11T00:14:56.134315Z"
    }
   },
   "outputs": [
    {
     "name": "stdout",
     "output_type": "stream",
     "text": [
      "8 8 0.9999993 5\n",
      "15 41 0.9998678 9\n",
      "28 28 0.9999995 3\n",
      "33 11 0.999967 5\n",
      "40 41 0.9999881 8\n"
     ]
    }
   ],
   "source": [
    "max_class_pad = F.pad(max_class.view(44,44),(3,3,3,3)).data.cpu().numpy()\n",
    "\n",
    "for r,c in np.transpose(np.nonzero(cc)):\n",
    "    print(r,c,hot_map[r,c],max_class_pad[r,c])"
   ]
  },
  {
   "cell_type": "code",
   "execution_count": 48,
   "metadata": {
    "ExecuteTime": {
     "end_time": "2018-02-11T00:14:56.842854Z",
     "start_time": "2018-02-11T00:14:56.782621Z"
    }
   },
   "outputs": [
    {
     "data": {
      "image/png": "[encoded data removed]",
      "text/plain": [
       "<matplotlib.figure.Figure at 0x7f36390b4630>"
      ]
     },
     "metadata": {},
     "output_type": "display_data"
    }
   ],
   "source": [
    "plt.imshow(cc)\n",
    "for r,c in np.transpose(np.nonzero(cc)):\n",
    "    plt.text(c,r,max_class_pad[r,c] ,color='white', fontsize=24)\n",
    "plt.show()"
   ]
  },
  {
   "cell_type": "markdown",
   "metadata": {},
   "source": [
    "## Observações\n",
    "\n",
    "- A rede base utilizada não foi treinada para a não-ocorrência de um dos dez caracteres, nem de recortes parciais dos caracteres originais.\n",
    "- Um exercício interessante seria treinar o modelo com os caracteres sobrepostos a imagens de fundo, além de recortes do fundo sem caracter (11 classes)."
   ]
  },
  {
   "cell_type": "markdown",
   "metadata": {
    "collapsed": true
   },
   "source": [
    "## Aprendizados com este notebook\n"
   ]
  },
  {
   "cell_type": "code",
   "execution_count": null,
   "metadata": {
    "collapsed": true
   },
   "outputs": [],
   "source": []
  }
 ],
 "metadata": {
  "anaconda-cloud": {},
  "kernelspec": {
   "display_name": "Python 3",
   "language": "python",
   "name": "python3"
  },
  "language_info": {
   "codemirror_mode": {
    "name": "ipython",
    "version": 3
   },
   "file_extension": ".py",
   "mimetype": "text/x-python",
   "name": "python",
   "nbconvert_exporter": "python",
   "pygments_lexer": "ipython3",
   "version": "3.6.5"
  },
  "toc": {
   "nav_menu": {
    "height": "210px",
    "width": "252px"
   },
   "number_sections": true,
   "sideBar": true,
   "skip_h1_title": false,
   "toc_cell": false,
   "toc_position": {},
   "toc_section_display": "block",
   "toc_window_display": false
  }
 },
 "nbformat": 4,
 "nbformat_minor": 1
}
