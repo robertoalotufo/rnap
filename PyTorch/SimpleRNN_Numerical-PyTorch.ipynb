{
 "cells": [
  {
   "cell_type": "markdown",
   "metadata": {},
   "source": [
    "# Redes Neurais Recorrentes"
   ]
  },
  {
   "cell_type": "markdown",
   "metadata": {},
   "source": [
    "As redes neurais recorrentes são as redes que possuem uma realimentação dos neurônios de saída para a entrada da rede.\n",
    "A figura a seguir mostra uma rede recorrente simples contendo:\n",
    "- 2 entradas\n",
    "- 4 neurônios de saídas\n",
    "- 1 bias"
   ]
  },
  {
   "cell_type": "markdown",
   "metadata": {},
   "source": [
    "<img src='../figures/RNN_2_3_4_template.png',width=300pt></img>"
   ]
  },
  {
   "cell_type": "markdown",
   "metadata": {},
   "source": [
    "Se configurarmos esta rede para processar 3 instantes de tempo (de duas entradas cada), teremos a \n",
    "rede equivalente conforme figura a seguir:"
   ]
  },
  {
   "cell_type": "markdown",
   "metadata": {},
   "source": [
    "<img src='../figures/RNN_2_3_4.png',width=500pt></img>"
   ]
  },
  {
   "cell_type": "markdown",
   "metadata": {},
   "source": [
    "Note entretanto que os parâmetros da rede são os mesmos para cada instante de tempo.\n",
    "O número total de parâmetros que precisam ser treinados nesta rede são:\n",
    "- 2 x 4 = parâmetros da rede de entrada (2 entradas x 4 saídas)\n",
    "- 4 = bias da rede de entrada (um parâmetro para cada saída)\n",
    "- 4 x 4 = parâmetros da rede recorrente (4 entradas x 4 saídas)"
   ]
  },
  {
   "cell_type": "markdown",
   "metadata": {},
   "source": [
    "Este notebook é uma demonstração da construção desta rede utilizando valores numérico para poder acompanhar\n",
    "o processamento da rede recorrente."
   ]
  },
  {
   "cell_type": "markdown",
   "metadata": {},
   "source": [
    "## Importação"
   ]
  },
  {
   "cell_type": "markdown",
   "metadata": {},
   "source": [
    "Iremos exercitar o modelo recorrente mais simples do Keras: `SimpleRNN`"
   ]
  },
  {
   "cell_type": "code",
   "execution_count": 1,
   "metadata": {
    "ExecuteTime": {
     "end_time": "2017-10-30T17:08:51.239449",
     "start_time": "2017-10-30T17:08:50.855246"
    },
    "collapsed": true
   },
   "outputs": [],
   "source": [
    "import numpy as np\n",
    "\n",
    "import torch\n",
    "from torch.autograd import Variable"
   ]
  },
  {
   "cell_type": "code",
   "execution_count": 80,
   "metadata": {
    "ExecuteTime": {
     "end_time": "2017-10-30T17:48:45.274452",
     "start_time": "2017-10-30T17:48:45.242842"
    }
   },
   "outputs": [
    {
     "name": "stdout",
     "output_type": "stream",
     "text": [
      "output: Variable containing:\n",
      "(0 ,.,.) = \n",
      "  0.5140  0.0766  0.2477  0.0000\n",
      "  0.9564  0.4699  0.4704  0.0000\n",
      "  0.3015  0.0000  0.2087  0.0000\n",
      "[torch.FloatTensor of size 1x3x4]\n",
      "\n",
      "hn: Variable containing:\n",
      "(0 ,.,.) = \n",
      "  0.5140  0.0766  0.2477  0.0000\n",
      "  0.9564  0.4699  0.4704  0.0000\n",
      "  0.3015  0.0000  0.2087  0.0000\n",
      "[torch.FloatTensor of size 1x3x4]\n",
      "\n"
     ]
    }
   ],
   "source": [
    "rnn = torch.nn.RNN(2, 4, 1,nonlinearity='relu') # 2 features, 4 neurônios, 1 camada\n",
    "inputs = Variable(torch.randn(1, 3, 2)) # 1 amostra, 3 sequências, 2 features\n",
    "h0 = Variable(torch.zeros(1, 1, 4))\n",
    "output, hn = rnn(inputs, h0)\n",
    "rnn\n",
    "print('output:',output)\n",
    "print('hn:', hn)"
   ]
  },
  {
   "cell_type": "code",
   "execution_count": 81,
   "metadata": {
    "ExecuteTime": {
     "end_time": "2017-10-30T17:48:49.073638",
     "start_time": "2017-10-30T17:48:49.067747"
    }
   },
   "outputs": [
    {
     "data": {
      "text/plain": [
       "OrderedDict([('weight_ih_l0', \n",
       "               0.2026 -0.2287\n",
       "               0.2115 -0.2014\n",
       "              -0.2792 -0.1390\n",
       "               0.2774 -0.1664\n",
       "              [torch.FloatTensor of size 4x2]), ('weight_hh_l0', \n",
       "               0.4788 -0.2945 -0.2955  0.1271\n",
       "               0.4515  0.3638  0.2118  0.0962\n",
       "              -0.4289  0.3415  0.4524 -0.4103\n",
       "              -0.1688 -0.0343 -0.1805 -0.1065\n",
       "              [torch.FloatTensor of size 4x4]), ('bias_ih_l0', \n",
       "               0.4567\n",
       "              -0.0165\n",
       "               0.1980\n",
       "               0.0669\n",
       "              [torch.FloatTensor of size 4]), ('bias_hh_l0', \n",
       "               0.4086\n",
       "               0.4443\n",
       "              -0.2462\n",
       "              -0.2515\n",
       "              [torch.FloatTensor of size 4])])"
      ]
     },
     "execution_count": 81,
     "metadata": {},
     "output_type": "execute_result"
    }
   ],
   "source": [
    "rnn.state_dict()"
   ]
  },
  {
   "cell_type": "markdown",
   "metadata": {},
   "source": [
    "## Colocando os parâmetros"
   ]
  },
  {
   "cell_type": "markdown",
   "metadata": {},
   "source": [
    "### Pesos e Bias da rede de entrada"
   ]
  },
  {
   "cell_type": "code",
   "execution_count": 112,
   "metadata": {
    "ExecuteTime": {
     "end_time": "2017-10-30T17:51:50.952308",
     "start_time": "2017-10-30T17:51:50.948618"
    },
    "collapsed": true
   },
   "outputs": [],
   "source": [
    "w_ih = np.array([\n",
    "    [ 1., 2.,  3., 4. ],\n",
    "    [ 5,  6.,  7., 8]])\n",
    "bias_ih = np.array(\n",
    "    [ 0.,  0.,  0.,  0.])"
   ]
  },
  {
   "cell_type": "markdown",
   "metadata": {},
   "source": [
    "### Pesos e Bias da rede recorrente"
   ]
  },
  {
   "cell_type": "code",
   "execution_count": 119,
   "metadata": {
    "ExecuteTime": {
     "end_time": "2017-10-30T18:05:29.791501",
     "start_time": "2017-10-30T18:05:29.786955"
    },
    "collapsed": true
   },
   "outputs": [],
   "source": [
    "w_hh = np.array([\n",
    "    [ 10.,  0.,  0.,  0.],\n",
    "    [ 0.,  1.,  0.,  0.],\n",
    "    [ 0.,  0.,  1.,  0.],\n",
    "    [ 0.,  0.,  0.,  1.]])\n",
    "bias_hh = np.array(\n",
    "    [ -0.,  -0.,  -0.,  -0.])"
   ]
  },
  {
   "cell_type": "code",
   "execution_count": 120,
   "metadata": {
    "ExecuteTime": {
     "end_time": "2017-10-30T18:05:30.205874",
     "start_time": "2017-10-30T18:05:30.202191"
    },
    "collapsed": true
   },
   "outputs": [],
   "source": [
    "w_dict = {'weight_ih_l0': torch.FloatTensor(w_ih.T),\n",
    "          'weight_hh_l0': torch.FloatTensor(w_hh.T),\n",
    "          'bias_ih_l0':   torch.FloatTensor(bias_ih),\n",
    "          'bias_hh_l0':   torch.FloatTensor(bias_hh)}"
   ]
  },
  {
   "cell_type": "code",
   "execution_count": 121,
   "metadata": {
    "ExecuteTime": {
     "end_time": "2017-10-30T18:05:30.559608",
     "start_time": "2017-10-30T18:05:30.553519"
    }
   },
   "outputs": [
    {
     "data": {
      "text/plain": [
       "OrderedDict([('weight_ih_l0', \n",
       "               1  5\n",
       "               2  6\n",
       "               3  7\n",
       "               4  8\n",
       "              [torch.FloatTensor of size 4x2]), ('weight_hh_l0', \n",
       "               10   0   0   0\n",
       "                0   1   0   0\n",
       "                0   0   1   0\n",
       "                0   0   0   1\n",
       "              [torch.FloatTensor of size 4x4]), ('bias_ih_l0', \n",
       "               0\n",
       "               0\n",
       "               0\n",
       "               0\n",
       "              [torch.FloatTensor of size 4]), ('bias_hh_l0', \n",
       "              -0\n",
       "              -0\n",
       "              -0\n",
       "              -0\n",
       "              [torch.FloatTensor of size 4])])"
      ]
     },
     "execution_count": 121,
     "metadata": {},
     "output_type": "execute_result"
    }
   ],
   "source": [
    "rnn.load_state_dict(w_dict)\n",
    "rnn.state_dict()"
   ]
  },
  {
   "cell_type": "code",
   "execution_count": 129,
   "metadata": {
    "ExecuteTime": {
     "end_time": "2017-10-30T18:06:36.619380",
     "start_time": "2017-10-30T18:06:36.612927"
    }
   },
   "outputs": [
    {
     "data": {
      "text/plain": [
       "(2, 3, 2)"
      ]
     },
     "execution_count": 129,
     "metadata": {},
     "output_type": "execute_result"
    }
   ],
   "source": [
    "x_in = np.array([[[1.,1],[0,0],[0,0]],\n",
    "                 [[1.,1],[0,0],[0,0]]])\n",
    "x_in.shape"
   ]
  },
  {
   "cell_type": "code",
   "execution_count": 130,
   "metadata": {
    "ExecuteTime": {
     "end_time": "2017-10-30T18:06:37.044869",
     "start_time": "2017-10-30T18:06:37.039077"
    }
   },
   "outputs": [
    {
     "data": {
      "text/plain": [
       "Variable containing:\n",
       "(0 ,.,.) = \n",
       "  1  1\n",
       "  0  0\n",
       "  0  0\n",
       "\n",
       "(1 ,.,.) = \n",
       "  1  1\n",
       "  0  0\n",
       "  0  0\n",
       "[torch.FloatTensor of size 2x3x2]"
      ]
     },
     "execution_count": 130,
     "metadata": {},
     "output_type": "execute_result"
    }
   ],
   "source": [
    "x = Variable(torch.FloatTensor(x_in)) # torch.randn(2, 3, 2)) # 2 amostras, 3 sequências, 2 features\n",
    "x"
   ]
  },
  {
   "cell_type": "code",
   "execution_count": 131,
   "metadata": {
    "ExecuteTime": {
     "end_time": "2017-10-30T18:06:37.429353",
     "start_time": "2017-10-30T18:06:37.421593"
    }
   },
   "outputs": [
    {
     "name": "stdout",
     "output_type": "stream",
     "text": [
      "y: Variable containing:\n",
      "(0 ,.,.) = \n",
      "   6   8  10  12\n",
      "   0   0   0   0\n",
      "   0   0   0   0\n",
      "\n",
      "(1 ,.,.) = \n",
      "  66  16  20  24\n",
      "   0   0   0   0\n",
      "   0   0   0   0\n",
      "[torch.FloatTensor of size 2x3x4]\n",
      "\n",
      "h1: Variable containing:\n",
      "(0 ,.,.) = \n",
      "  66  16  20  24\n",
      "   0   0   0   0\n",
      "   0   0   0   0\n",
      "[torch.FloatTensor of size 1x3x4]\n",
      "\n"
     ]
    }
   ],
   "source": [
    "h0 = Variable(torch.zeros(1, 1, 4))\n",
    "y,h1 = rnn(x,h0)\n",
    "print('y:',y)\n",
    "print('h1:',h1)"
   ]
  },
  {
   "cell_type": "code",
   "execution_count": 125,
   "metadata": {
    "ExecuteTime": {
     "end_time": "2017-10-30T18:05:32.400453",
     "start_time": "2017-10-30T18:05:32.395768"
    }
   },
   "outputs": [
    {
     "data": {
      "text/plain": [
       "Variable containing:\n",
       "(0 ,.,.) = \n",
       "  0  0  0  0\n",
       "[torch.FloatTensor of size 1x1x4]"
      ]
     },
     "execution_count": 125,
     "metadata": {},
     "output_type": "execute_result"
    }
   ],
   "source": [
    "h0"
   ]
  },
  {
   "cell_type": "code",
   "execution_count": null,
   "metadata": {
    "collapsed": true
   },
   "outputs": [],
   "source": []
  }
 ],
 "metadata": {
  "kernelspec": {
   "display_name": "Python 3",
   "language": "python",
   "name": "python3"
  },
  "language_info": {
   "codemirror_mode": {
    "name": "ipython",
    "version": 3
   },
   "file_extension": ".py",
   "mimetype": "text/x-python",
   "name": "python",
   "nbconvert_exporter": "python",
   "pygments_lexer": "ipython3",
   "version": "3.6.0"
  },
  "toc": {
   "colors": {
    "hover_highlight": "#DAA520",
    "running_highlight": "#FF0000",
    "selected_highlight": "#FFD700"
   },
   "moveMenuLeft": true,
   "nav_menu": {
    "height": "12px",
    "width": "252px"
   },
   "navigate_menu": true,
   "number_sections": true,
   "sideBar": true,
   "skip_h1_title": false,
   "threshold": 4,
   "toc_cell": false,
   "toc_position": {},
   "toc_section_display": "block",
   "toc_window_display": false
  },
  "varInspector": {
   "cols": {
    "lenName": 16,
    "lenType": 16,
    "lenVar": 40
   },
   "kernels_config": {
    "python": {
     "delete_cmd_postfix": "",
     "delete_cmd_prefix": "del ",
     "library": "var_list.py",
     "varRefreshCmd": "print(var_dic_list())"
    },
    "r": {
     "delete_cmd_postfix": ") ",
     "delete_cmd_prefix": "rm(",
     "library": "var_list.r",
     "varRefreshCmd": "cat(var_dic_list()) "
    }
   },
   "types_to_exclude": [
    "module",
    "function",
    "builtin_function_or_method",
    "instance",
    "_Feature"
   ],
   "window_display": false
  }
 },
 "nbformat": 4,
 "nbformat_minor": 2
}
