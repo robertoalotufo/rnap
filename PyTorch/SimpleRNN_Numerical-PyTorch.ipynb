{
 "cells": [
  {
   "cell_type": "markdown",
   "metadata": {},
   "source": [
    "# Redes Neurais Recorrentes"
   ]
  },
  {
   "cell_type": "markdown",
   "metadata": {},
   "source": [
    "As redes neurais recorrentes são as redes que possuem uma realimentação dos neurônios de saída para a entrada da rede. Elas são apropriadas para o processamento de sequências.\n",
    "São muito utilizadas no processamento de textos."
   ]
  },
  {
   "cell_type": "markdown",
   "metadata": {},
   "source": [
    "A figura a seguir mostra uma rede recorrente simples contendo:\n",
    "- 2 entradas\n",
    "- 4 neurônios de saídas\n",
    "- 1 bias"
   ]
  },
  {
   "cell_type": "markdown",
   "metadata": {},
   "source": [
    "<img src='../figures/RNN_2_3_4_template.png',width=300pt></img>"
   ]
  },
  {
   "cell_type": "markdown",
   "metadata": {},
   "source": [
    "Se configurarmos esta rede para processar 3 instantes de tempo (de duas entradas cada), teremos a \n",
    "rede equivalente conforme figura a seguir:"
   ]
  },
  {
   "cell_type": "markdown",
   "metadata": {},
   "source": [
    "<img src='../figures/RNN_2_3_4.png',width=500pt></img>"
   ]
  },
  {
   "cell_type": "markdown",
   "metadata": {},
   "source": [
    "Os parâmetros da rede são os mesmos para cada instante de tempo.\n",
    "O número total de parâmetros que precisam ser treinados nesta rede são:\n",
    "- 2 x 4 = parâmetros da rede de entrada (2 entradas x 4 saídas)\n",
    "- 4 = bias da rede de entrada (um parâmetro para cada saída)\n",
    "- 4 = bias da rede recorrente\n",
    "- 4 x 4 = parâmetros da rede recorrente (4 entradas x 4 saídas)\n",
    "\n",
    "**Obs:** Não haveria necessidade de dois bias, pois eles podem ser combinados num único.\n",
    "Entretanto a implementação do PyTorch é assim e a explicação deles é que eles utilizam\n",
    "a implementação da Nvidia no cuda cuNN."
   ]
  },
  {
   "cell_type": "markdown",
   "metadata": {},
   "source": [
    "## Representação em diagrama de blocos\n",
    "\n",
    "Uma outra representação gráfica das redes recorrentes é conforme a representação abaixo:"
   ]
  },
  {
   "cell_type": "markdown",
   "metadata": {},
   "source": [
    "<table align='left'>\n",
    "<tr><td> <img src=\"../figures/rnn_2.png\"> </td></tr>\n",
    "</table>"
   ]
  },
  {
   "cell_type": "markdown",
   "metadata": {},
   "source": [
    "## Objetivos deste experimento\n",
    "\n",
    "Este notebook é uma demonstração da construção desta rede utilizando valores numéricos\n",
    "para poder melhor entender o funcionamento da rede recorrente."
   ]
  },
  {
   "cell_type": "markdown",
   "metadata": {},
   "source": [
    "## Importação"
   ]
  },
  {
   "cell_type": "code",
   "execution_count": 1,
   "metadata": {
    "ExecuteTime": {
     "end_time": "2017-11-02T18:23:32.526889Z",
     "start_time": "2017-11-02T18:23:31.884960Z"
    }
   },
   "outputs": [],
   "source": [
    "import numpy as np\n",
    "\n",
    "import torch\n",
    "from torch.autograd import Variable"
   ]
  },
  {
   "cell_type": "code",
   "execution_count": 3,
   "metadata": {
    "ExecuteTime": {
     "end_time": "2017-11-02T18:23:32.601260Z",
     "start_time": "2017-11-02T18:23:32.529212Z"
    }
   },
   "outputs": [
    {
     "name": "stdout",
     "output_type": "stream",
     "text": [
      "xin: \n",
      "(0 ,.,.) = \n",
      " -1.8286 -1.4223\n",
      "\n",
      "(1 ,.,.) = \n",
      "  1.2969  0.2609\n",
      "\n",
      "(2 ,.,.) = \n",
      " -0.6150  0.7837\n",
      "[torch.FloatTensor of size 3x1x2]\n",
      "\n",
      "yout: \n",
      "(0 ,.,.) = \n",
      "  0.5021  0.4143  0.5608  0.8971\n",
      "\n",
      "(1 ,.,.) = \n",
      "  0.6713  0.0000  0.0000  0.0000\n",
      "\n",
      "(2 ,.,.) = \n",
      "  0.0000  0.0000  0.2827  0.0000\n",
      "[torch.FloatTensor of size 3x1x4]\n",
      "\n",
      "hn: \n",
      "(0 ,.,.) = \n",
      "  0.5021  0.4143  0.5608  0.8971\n",
      "  0.6713  0.0000  0.0000  0.0000\n",
      "  0.0000  0.0000  0.2827  0.0000\n",
      "[torch.FloatTensor of size 1x3x4]\n",
      "\n"
     ]
    }
   ],
   "source": [
    "rnn = torch.nn.RNN(2, 4, 1, nonlinearity='relu',batch_first=True) \n",
    "# 2 features, 4 neurônios, 1 camada\n",
    "xin = Variable(torch.randn(3, 1, 2)) # 1 amostra, 3 sequências, 2 features\n",
    "print('xin:', xin.data)\n",
    "yout, hn = rnn(xin)\n",
    "print('yout:',yout.data)\n",
    "print('hn:', hn.data)"
   ]
  },
  {
   "cell_type": "markdown",
   "metadata": {},
   "source": [
    "## Visualizando os parâmetros"
   ]
  },
  {
   "cell_type": "code",
   "execution_count": 4,
   "metadata": {
    "ExecuteTime": {
     "end_time": "2017-11-02T18:23:32.637283Z",
     "start_time": "2017-11-02T18:23:32.604436Z"
    }
   },
   "outputs": [
    {
     "data": {
      "text/plain": [
       "OrderedDict([('weight_ih_l0', \n",
       "               0.2750 -0.4101\n",
       "              -0.0114 -0.4843\n",
       "              -0.4160  0.1028\n",
       "              -0.4422 -0.3370\n",
       "              [torch.FloatTensor of size 4x2]), ('weight_hh_l0', \n",
       "               0.0599 -0.2300  0.1815 -0.3192\n",
       "              -0.0843  0.2131 -0.2373 -0.3892\n",
       "               0.4089  0.0545 -0.3204 -0.0038\n",
       "              -0.4712  0.1386 -0.4559  0.2096\n",
       "              [torch.FloatTensor of size 4x4]), ('bias_ih_l0', \n",
       "               0.4019\n",
       "              -0.4784\n",
       "              -0.3398\n",
       "              -0.3707\n",
       "              [torch.FloatTensor of size 4]), ('bias_hh_l0', \n",
       "               0.0197\n",
       "               0.1830\n",
       "               0.2861\n",
       "              -0.0200\n",
       "              [torch.FloatTensor of size 4])])"
      ]
     },
     "execution_count": 4,
     "metadata": {},
     "output_type": "execute_result"
    }
   ],
   "source": [
    "rnn.state_dict()"
   ]
  },
  {
   "cell_type": "markdown",
   "metadata": {},
   "source": [
    "## Colocando os parâmetros"
   ]
  },
  {
   "cell_type": "markdown",
   "metadata": {},
   "source": [
    "### Pesos e Bias da rede de entrada"
   ]
  },
  {
   "cell_type": "code",
   "execution_count": 5,
   "metadata": {
    "ExecuteTime": {
     "end_time": "2017-11-02T18:23:32.662693Z",
     "start_time": "2017-11-02T18:23:32.640672Z"
    }
   },
   "outputs": [],
   "source": [
    "w_ih = np.array([\n",
    "    [ 1., 2.,  3., 4. ],\n",
    "    [ 5,  6.,  7., 8]])\n",
    "bias_ih = np.array(\n",
    "    [ 0.1,  0.2,  0.3,  0.4])"
   ]
  },
  {
   "cell_type": "markdown",
   "metadata": {},
   "source": [
    "### Pesos e Bias da rede recorrente"
   ]
  },
  {
   "cell_type": "code",
   "execution_count": 6,
   "metadata": {
    "ExecuteTime": {
     "end_time": "2017-11-02T18:23:32.674596Z",
     "start_time": "2017-11-02T18:23:32.666197Z"
    }
   },
   "outputs": [],
   "source": [
    "w_hh = np.array([\n",
    "    [ 1.,  0.,  0.,  0.],\n",
    "    [ 0.,  1.,  0.,  0.],\n",
    "    [ 0.,  0.,  1.,  0.],\n",
    "    [ 0.,  0.,  0.,  1.]])\n",
    "bias_hh = np.array(\n",
    "    [ -0.,  -0.,  -0.,  -0.])"
   ]
  },
  {
   "cell_type": "code",
   "execution_count": 7,
   "metadata": {
    "ExecuteTime": {
     "end_time": "2017-11-02T18:23:32.684016Z",
     "start_time": "2017-11-02T18:23:32.677293Z"
    }
   },
   "outputs": [],
   "source": [
    "w_dict = {'weight_ih_l0': torch.FloatTensor(w_ih.T),\n",
    "          'weight_hh_l0': torch.FloatTensor(w_hh.T),\n",
    "          'bias_ih_l0':   torch.FloatTensor(bias_ih),\n",
    "          'bias_hh_l0':   torch.FloatTensor(bias_hh)}"
   ]
  },
  {
   "cell_type": "code",
   "execution_count": 8,
   "metadata": {
    "ExecuteTime": {
     "end_time": "2017-11-02T18:23:32.696678Z",
     "start_time": "2017-11-02T18:23:32.686865Z"
    }
   },
   "outputs": [
    {
     "data": {
      "text/plain": [
       "OrderedDict([('weight_ih_l0', \n",
       "               1  5\n",
       "               2  6\n",
       "               3  7\n",
       "               4  8\n",
       "              [torch.FloatTensor of size 4x2]), ('weight_hh_l0', \n",
       "               1  0  0  0\n",
       "               0  1  0  0\n",
       "               0  0  1  0\n",
       "               0  0  0  1\n",
       "              [torch.FloatTensor of size 4x4]), ('bias_ih_l0', \n",
       "               0.1000\n",
       "               0.2000\n",
       "               0.3000\n",
       "               0.4000\n",
       "              [torch.FloatTensor of size 4]), ('bias_hh_l0', \n",
       "              -0\n",
       "              -0\n",
       "              -0\n",
       "              -0\n",
       "              [torch.FloatTensor of size 4])])"
      ]
     },
     "execution_count": 8,
     "metadata": {},
     "output_type": "execute_result"
    }
   ],
   "source": [
    "rnn.load_state_dict(w_dict)\n",
    "rnn.state_dict()"
   ]
  },
  {
   "cell_type": "markdown",
   "metadata": {},
   "source": [
    "## Colocando a entrada\n",
    "\n",
    "A entrada é formada por 2 amostras de 3 sequências de 2 atributos:"
   ]
  },
  {
   "cell_type": "code",
   "execution_count": 9,
   "metadata": {
    "ExecuteTime": {
     "end_time": "2017-11-02T18:23:32.709687Z",
     "start_time": "2017-11-02T18:23:32.699422Z"
    }
   },
   "outputs": [
    {
     "name": "stdout",
     "output_type": "stream",
     "text": [
      "x: \n",
      "(0 ,.,.) = \n",
      "  1  1\n",
      "  0  0\n",
      "  0  0\n",
      "\n",
      "(1 ,.,.) = \n",
      "  1  0\n",
      "  2  1\n",
      "  3  1\n",
      "[torch.FloatTensor of size 2x3x2]\n",
      "\n"
     ]
    }
   ],
   "source": [
    "x_in = np.array([[[1.,1],[0,0],[0,0]],\n",
    "                 [[1.,0],[2,1],[3,1]]])\n",
    "\n",
    "x = Variable(torch.FloatTensor(x_in)) # torch.randn(2, 3, 2)) # 2 amostras, 3 sequências, 2 features\n",
    "print('x:', x.data)"
   ]
  },
  {
   "cell_type": "code",
   "execution_count": 10,
   "metadata": {
    "ExecuteTime": {
     "end_time": "2017-11-02T18:23:32.723427Z",
     "start_time": "2017-11-02T18:23:32.712601Z"
    }
   },
   "outputs": [
    {
     "name": "stdout",
     "output_type": "stream",
     "text": [
      "y: Variable containing:\n",
      "(0 ,.,.) = \n",
      "   6.1000   8.2000  10.3000  12.4000\n",
      "   6.2000   8.4000  10.6000  12.8000\n",
      "   6.3000   8.6000  10.9000  13.2000\n",
      "\n",
      "(1 ,.,.) = \n",
      "   1.1000   2.2000   3.3000   4.4000\n",
      "   8.2000  12.4000  16.6000  20.8000\n",
      "  16.3000  24.6000  32.9000  41.2000\n",
      "[torch.FloatTensor of size 2x3x4]\n",
      "\n",
      "h1: Variable containing:\n",
      "(0 ,.,.) = \n",
      "   6.3000   8.6000  10.9000  13.2000\n",
      "  16.3000  24.6000  32.9000  41.2000\n",
      "[torch.FloatTensor of size 1x2x4]\n",
      "\n"
     ]
    }
   ],
   "source": [
    "y,h1 = rnn(x)\n",
    "print('y:',y)\n",
    "print('h1:',h1)"
   ]
  },
  {
   "cell_type": "markdown",
   "metadata": {
    "ExecuteTime": {
     "end_time": "2017-10-31T05:12:17.870703Z",
     "start_time": "2017-10-31T05:12:17.864002Z"
    }
   },
   "source": [
    "## Exercícios"
   ]
  },
  {
   "cell_type": "markdown",
   "metadata": {
    "ExecuteTime": {
     "end_time": "2017-11-02T18:15:57.796051Z",
     "start_time": "2017-11-02T18:15:57.786270Z"
    },
    "collapsed": true
   },
   "source": [
    "1. Simular numericamente os valores da rede recorrente para comprovar\n",
    "   os valores dos experimentos feitos\n",
    "2. Suponha que a sequência para a rede RNN seja um sinal temporal como a \n",
    "   senoide abaixo. Modifique a rede para que a entrada seja uma sequência de \n",
    "   100 pontos. Plote o valor médio dos quatro neurônios a cada instante e o \n",
    "   valor final dos quatro neurônios. "
   ]
  },
  {
   "cell_type": "code",
   "execution_count": 11,
   "metadata": {
    "ExecuteTime": {
     "end_time": "2017-11-02T18:23:33.506303Z",
     "start_time": "2017-11-02T18:23:32.727063Z"
    }
   },
   "outputs": [
    {
     "data": {
      "text/plain": [
       "[<matplotlib.lines.Line2D at 0x7f1c2a190a58>]"
      ]
     },
     "execution_count": 11,
     "metadata": {},
     "output_type": "execute_result"
    },
    {
     "data": {
      "image/png": "[encoded data removed]",
      "text/plain": [
       "<matplotlib.figure.Figure at 0x7f1c2c4a5c50>"
      ]
     },
     "metadata": {},
     "output_type": "display_data"
    }
   ],
   "source": [
    "%matplotlib inline\n",
    "import matplotlib.pyplot as plt\n",
    "\n",
    "i = torch.arange(0,100)\n",
    "xin = torch.sin(i * 2 * 3.14/100)\n",
    "plt.plot(xin.numpy())"
   ]
  },
  {
   "cell_type": "code",
   "execution_count": null,
   "metadata": {
    "collapsed": true
   },
   "outputs": [],
   "source": []
  }
 ],
 "metadata": {
  "kernelspec": {
   "display_name": "Python 3",
   "language": "python",
   "name": "python3"
  },
  "language_info": {
   "codemirror_mode": {
    "name": "ipython",
    "version": 3
   },
   "file_extension": ".py",
   "mimetype": "text/x-python",
   "name": "python",
   "nbconvert_exporter": "python",
   "pygments_lexer": "ipython3",
   "version": "3.6.1"
  },
  "toc": {
   "nav_menu": {
    "height": "12px",
    "width": "252px"
   },
   "number_sections": true,
   "sideBar": true,
   "skip_h1_title": false,
   "toc_cell": false,
   "toc_position": {},
   "toc_section_display": "block",
   "toc_window_display": false
  },
  "varInspector": {
   "cols": {
    "lenName": 16,
    "lenType": 16,
    "lenVar": 40
   },
   "kernels_config": {
    "python": {
     "delete_cmd_postfix": "",
     "delete_cmd_prefix": "del ",
     "library": "var_list.py",
     "varRefreshCmd": "print(var_dic_list())"
    },
    "r": {
     "delete_cmd_postfix": ") ",
     "delete_cmd_prefix": "rm(",
     "library": "var_list.r",
     "varRefreshCmd": "cat(var_dic_list()) "
    }
   },
   "types_to_exclude": [
    "module",
    "function",
    "builtin_function_or_method",
    "instance",
    "_Feature"
   ],
   "window_display": false
  }
 },
 "nbformat": 4,
 "nbformat_minor": 2
}
