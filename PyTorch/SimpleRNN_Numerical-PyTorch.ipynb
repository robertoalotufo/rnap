{
 "cells": [
  {
   "cell_type": "markdown",
   "metadata": {},
   "source": [
    "# Redes Neurais Recorrentes"
   ]
  },
  {
   "cell_type": "markdown",
   "metadata": {},
   "source": [
    "As redes neurais recorrentes são as redes que possuem uma realimentação dos neurônios de saída para a entrada da rede.\n",
    "A figura a seguir mostra uma rede recorrente simples contendo:\n",
    "- 2 entradas\n",
    "- 4 neurônios de saídas\n",
    "- 1 bias"
   ]
  },
  {
   "cell_type": "markdown",
   "metadata": {},
   "source": [
    "<img src='../figures/RNN_2_3_4_template.png',width=300pt></img>"
   ]
  },
  {
   "cell_type": "markdown",
   "metadata": {},
   "source": [
    "Se configurarmos esta rede para processar 3 instantes de tempo (de duas entradas cada), teremos a \n",
    "rede equivalente conforme figura a seguir:"
   ]
  },
  {
   "cell_type": "markdown",
   "metadata": {},
   "source": [
    "<img src='../figures/RNN_2_3_4.png',width=500pt></img>"
   ]
  },
  {
   "cell_type": "markdown",
   "metadata": {},
   "source": [
    "Note entretanto que os parâmetros da rede são os mesmos para cada instante de tempo.\n",
    "O número total de parâmetros que precisam ser treinados nesta rede são:\n",
    "- 2 x 4 = parâmetros da rede de entrada (2 entradas x 4 saídas)\n",
    "- 4 = bias da rede de entrada (um parâmetro para cada saída)\n",
    "- 4 x 4 = parâmetros da rede recorrente (4 entradas x 4 saídas)"
   ]
  },
  {
   "cell_type": "markdown",
   "metadata": {},
   "source": [
    "Este notebook é uma demonstração da construção desta rede utilizando valores numérico para poder acompanhar\n",
    "o processamento da rede recorrente."
   ]
  },
  {
   "cell_type": "markdown",
   "metadata": {},
   "source": [
    "## Importação"
   ]
  },
  {
   "cell_type": "markdown",
   "metadata": {},
   "source": [
    "Iremos exercitar o modelo recorrente mais simples do Keras: `SimpleRNN`"
   ]
  },
  {
   "cell_type": "code",
   "execution_count": 13,
   "metadata": {
    "ExecuteTime": {
     "end_time": "2017-10-10T14:21:00.548772",
     "start_time": "2017-10-10T14:21:00.545578"
    },
    "collapsed": true
   },
   "outputs": [],
   "source": [
    "import numpy as np\n",
    "\n",
    "import torch\n",
    "from torch.autograd import Variable"
   ]
  },
  {
   "cell_type": "code",
   "execution_count": 41,
   "metadata": {
    "ExecuteTime": {
     "end_time": "2017-10-10T14:51:45.082057",
     "start_time": "2017-10-10T14:51:45.073940"
    }
   },
   "outputs": [
    {
     "name": "stdout",
     "output_type": "stream",
     "text": [
      "output: Variable containing:\n",
      "(0 ,.,.) = \n",
      "  0.8021  0.6147  0.6865 -0.3756\n",
      "  0.1840  0.4078  0.2435 -0.5098\n",
      " -0.5885  0.9225 -0.6590 -0.8538\n",
      "[torch.FloatTensor of size 1x3x4]\n",
      "\n",
      "hn: Variable containing:\n",
      "(0 ,.,.) = \n",
      "  0.8021  0.6147  0.6865 -0.3756\n",
      "  0.1840  0.4078  0.2435 -0.5098\n",
      " -0.5885  0.9225 -0.6590 -0.8538\n",
      "[torch.FloatTensor of size 1x3x4]\n",
      "\n"
     ]
    }
   ],
   "source": [
    "rnn = torch.nn.RNN(2, 4, 1) # 2 features, 4 neurônios, 1 camada\n",
    "input = Variable(torch.randn(1, 3, 2)) # 1 amostra, 3 sequências, 2 features\n",
    "h0 = Variable(torch.zeros(1, 1, 4))\n",
    "output, hn = rnn(input, h0)\n",
    "rnn\n",
    "print('output:',output)\n",
    "print('hn:', hn)"
   ]
  },
  {
   "cell_type": "code",
   "execution_count": 33,
   "metadata": {
    "ExecuteTime": {
     "end_time": "2017-10-10T14:46:14.651043",
     "start_time": "2017-10-10T14:46:14.645314"
    }
   },
   "outputs": [
    {
     "data": {
      "text/plain": [
       "OrderedDict([('weight_ih_l0', \n",
       "               0.4398  0.4684\n",
       "               0.2494  0.3805\n",
       "               0.0833 -0.0748\n",
       "               0.1569 -0.0851\n",
       "              [torch.FloatTensor of size 4x2]), ('weight_hh_l0', \n",
       "              -0.0990 -0.1667  0.4619  0.2574\n",
       "               0.3975  0.4400 -0.0138  0.2994\n",
       "              -0.1573  0.1382 -0.0498 -0.4800\n",
       "              -0.1424  0.2847 -0.2578  0.1872\n",
       "              [torch.FloatTensor of size 4x4]), ('bias_ih_l0', \n",
       "              -0.1793\n",
       "               0.1044\n",
       "              -0.3918\n",
       "               0.1483\n",
       "              [torch.FloatTensor of size 4]), ('bias_hh_l0', \n",
       "              -0.4792\n",
       "              -0.4073\n",
       "               0.1504\n",
       "              -0.4647\n",
       "              [torch.FloatTensor of size 4])])"
      ]
     },
     "execution_count": 33,
     "metadata": {},
     "output_type": "execute_result"
    }
   ],
   "source": [
    "rnn.state_dict()"
   ]
  },
  {
   "cell_type": "markdown",
   "metadata": {},
   "source": [
    "## Colocando os parâmetros"
   ]
  },
  {
   "cell_type": "markdown",
   "metadata": {},
   "source": [
    "### Pesos e Bias da rede de entrada"
   ]
  },
  {
   "cell_type": "code",
   "execution_count": 52,
   "metadata": {
    "ExecuteTime": {
     "end_time": "2017-10-10T15:06:06.389088",
     "start_time": "2017-10-10T15:06:06.385241"
    },
    "collapsed": true
   },
   "outputs": [],
   "source": [
    "w_ih = np.array([\n",
    "    [ 1., 2.,  3., 4. ],\n",
    "    [ 5,  6.,  7., 8]])\n",
    "bias_ih = np.array(\n",
    "    [ 0.1,  0.2,  0.3,  0.4])"
   ]
  },
  {
   "cell_type": "markdown",
   "metadata": {},
   "source": [
    "### Pesos e Bias da rede recorrente"
   ]
  },
  {
   "cell_type": "code",
   "execution_count": 53,
   "metadata": {
    "ExecuteTime": {
     "end_time": "2017-10-10T15:06:07.209955",
     "start_time": "2017-10-10T15:06:07.205594"
    },
    "collapsed": true
   },
   "outputs": [],
   "source": [
    "w_hh = np.array([\n",
    "    [ 1.,  0.,  0.,  0.],\n",
    "    [ 0.,  1.,  0.,  0.],\n",
    "    [ 0.,  0.,  1.,  0.],\n",
    "    [ 0.,  0.,  0.,  1.]])\n",
    "bias_hh = np.array(\n",
    "    [ -0.1,  -0.2,  -0.3,  -0.4])"
   ]
  },
  {
   "cell_type": "code",
   "execution_count": 54,
   "metadata": {
    "ExecuteTime": {
     "end_time": "2017-10-10T15:06:07.750137",
     "start_time": "2017-10-10T15:06:07.746282"
    }
   },
   "outputs": [],
   "source": [
    "w_dict = {'weight_ih_l0': torch.FloatTensor(w_ih.T),\n",
    "          'weight_hh_l0': torch.FloatTensor(w_hh.T),\n",
    "          'bias_ih_l0':   torch.FloatTensor(bias_ih),\n",
    "          'bias_hh_l0':   torch.FloatTensor(bias_hh)}"
   ]
  },
  {
   "cell_type": "code",
   "execution_count": 56,
   "metadata": {
    "ExecuteTime": {
     "end_time": "2017-10-10T15:06:21.883048",
     "start_time": "2017-10-10T15:06:21.876996"
    }
   },
   "outputs": [
    {
     "data": {
      "text/plain": [
       "OrderedDict([('weight_ih_l0', \n",
       "               1  5\n",
       "               2  6\n",
       "               3  7\n",
       "               4  8\n",
       "              [torch.FloatTensor of size 4x2]), ('weight_hh_l0', \n",
       "               1  0  0  0\n",
       "               0  1  0  0\n",
       "               0  0  1  0\n",
       "               0  0  0  1\n",
       "              [torch.FloatTensor of size 4x4]), ('bias_ih_l0', \n",
       "               0.1000\n",
       "               0.2000\n",
       "               0.3000\n",
       "               0.4000\n",
       "              [torch.FloatTensor of size 4]), ('bias_hh_l0', \n",
       "              -0.1000\n",
       "              -0.2000\n",
       "              -0.3000\n",
       "              -0.4000\n",
       "              [torch.FloatTensor of size 4])])"
      ]
     },
     "execution_count": 56,
     "metadata": {},
     "output_type": "execute_result"
    }
   ],
   "source": [
    "rnn.load_state_dict(w_dict)\n",
    "rnn.state_dict()"
   ]
  },
  {
   "cell_type": "code",
   "execution_count": 72,
   "metadata": {
    "ExecuteTime": {
     "end_time": "2017-10-10T15:14:00.314430",
     "start_time": "2017-10-10T15:14:00.309107"
    }
   },
   "outputs": [
    {
     "data": {
      "text/plain": [
       "(2, 3, 2)"
      ]
     },
     "execution_count": 72,
     "metadata": {},
     "output_type": "execute_result"
    }
   ],
   "source": [
    "x_in = np.array([[[1.,0],[0,0],[0,0]],\n",
    "                 [[0.,0],[0,0],[0,0]]])\n",
    "x_in.shape"
   ]
  },
  {
   "cell_type": "code",
   "execution_count": 73,
   "metadata": {
    "ExecuteTime": {
     "end_time": "2017-10-10T15:14:00.943109",
     "start_time": "2017-10-10T15:14:00.937805"
    }
   },
   "outputs": [
    {
     "data": {
      "text/plain": [
       "Variable containing:\n",
       "(0 ,.,.) = \n",
       "  1  0\n",
       "  0  0\n",
       "  0  0\n",
       "\n",
       "(1 ,.,.) = \n",
       "  0  0\n",
       "  0  0\n",
       "  0  0\n",
       "[torch.FloatTensor of size 2x3x2]"
      ]
     },
     "execution_count": 73,
     "metadata": {},
     "output_type": "execute_result"
    }
   ],
   "source": [
    "x = Variable(torch.FloatTensor(x_in)) # torch.randn(1, 3, 2)) # 1 amostra, 3 sequências, 2 features\n",
    "x"
   ]
  },
  {
   "cell_type": "code",
   "execution_count": 74,
   "metadata": {
    "ExecuteTime": {
     "end_time": "2017-10-10T15:14:01.653170",
     "start_time": "2017-10-10T15:14:01.646604"
    }
   },
   "outputs": [
    {
     "data": {
      "text/plain": [
       "Variable containing:\n",
       "(0 ,.,.) = \n",
       "  0.7616  0.9640  0.9951  0.9993\n",
       "  0.0000  0.0000  0.0000  0.0000\n",
       "  0.0000  0.0000  0.0000  0.0000\n",
       "\n",
       "(1 ,.,.) = \n",
       "  0.6420  0.7461  0.7595  0.7613\n",
       "  0.0000  0.0000  0.0000  0.0000\n",
       "  0.0000  0.0000  0.0000  0.0000\n",
       "[torch.FloatTensor of size 2x3x4]"
      ]
     },
     "execution_count": 74,
     "metadata": {},
     "output_type": "execute_result"
    }
   ],
   "source": [
    "h0 = Variable(torch.zeros(1, 1, 4))\n",
    "y,h1 = rnn(x,h0)\n",
    "y"
   ]
  },
  {
   "cell_type": "markdown",
   "metadata": {},
   "source": [
    "<iframe src=\"https://docs.google.com/forms/d/e/1FAIpQLScvU9jxvImSrQFy0DxV2vJwPGeFZiHquC5x91tdVrMxZJ-vHA/viewform?embedded=true\" width=\"760\" height=\"500\" frameborder=\"0\" marginheight=\"0\" marginwidth=\"0\">Loading...</iframe>\n"
   ]
  },
  {
   "cell_type": "code",
   "execution_count": null,
   "metadata": {
    "collapsed": true
   },
   "outputs": [],
   "source": []
  }
 ],
 "metadata": {
  "kernelspec": {
   "display_name": "Python 3",
   "language": "python",
   "name": "python3"
  },
  "language_info": {
   "codemirror_mode": {
    "name": "ipython",
    "version": 3
   },
   "file_extension": ".py",
   "mimetype": "text/x-python",
   "name": "python",
   "nbconvert_exporter": "python",
   "pygments_lexer": "ipython3",
   "version": "3.6.0"
  },
  "toc": {
   "colors": {
    "hover_highlight": "#DAA520",
    "running_highlight": "#FF0000",
    "selected_highlight": "#FFD700"
   },
   "moveMenuLeft": true,
   "nav_menu": {
    "height": "12px",
    "width": "252px"
   },
   "navigate_menu": true,
   "number_sections": true,
   "sideBar": true,
   "skip_h1_title": false,
   "threshold": 4,
   "toc_cell": false,
   "toc_position": {},
   "toc_section_display": "block",
   "toc_window_display": false
  },
  "varInspector": {
   "cols": {
    "lenName": 16,
    "lenType": 16,
    "lenVar": 40
   },
   "kernels_config": {
    "python": {
     "delete_cmd_postfix": "",
     "delete_cmd_prefix": "del ",
     "library": "var_list.py",
     "varRefreshCmd": "print(var_dic_list())"
    },
    "r": {
     "delete_cmd_postfix": ") ",
     "delete_cmd_prefix": "rm(",
     "library": "var_list.r",
     "varRefreshCmd": "cat(var_dic_list()) "
    }
   },
   "types_to_exclude": [
    "module",
    "function",
    "builtin_function_or_method",
    "instance",
    "_Feature"
   ],
   "window_display": false
  }
 },
 "nbformat": 4,
 "nbformat_minor": 2
}
