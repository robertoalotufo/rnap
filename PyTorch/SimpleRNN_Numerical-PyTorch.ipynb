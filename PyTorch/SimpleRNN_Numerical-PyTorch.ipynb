{
 "cells": [
  {
   "cell_type": "markdown",
   "metadata": {},
   "source": [
    "# Redes Neurais Recorrentes"
   ]
  },
  {
   "cell_type": "markdown",
   "metadata": {},
   "source": [
    "As redes neurais recorrentes são as redes que possuem uma realimentação dos neurônios de saída para a entrada da rede.\n",
    "A figura a seguir mostra uma rede recorrente simples contendo:\n",
    "- 2 entradas\n",
    "- 4 neurônios de saídas\n",
    "- 1 bias"
   ]
  },
  {
   "cell_type": "markdown",
   "metadata": {},
   "source": [
    "<img src='../figures/RNN_2_3_4_template.png',width=300pt></img>"
   ]
  },
  {
   "cell_type": "markdown",
   "metadata": {},
   "source": [
    "Se configurarmos esta rede para processar 3 instantes de tempo (de duas entradas cada), teremos a \n",
    "rede equivalente conforme figura a seguir:"
   ]
  },
  {
   "cell_type": "markdown",
   "metadata": {},
   "source": [
    "<img src='../figures/RNN_2_3_4.png',width=500pt></img>"
   ]
  },
  {
   "cell_type": "markdown",
   "metadata": {},
   "source": [
    "Note entretanto que os parâmetros da rede são os mesmos para cada instante de tempo.\n",
    "O número total de parâmetros que precisam ser treinados nesta rede são:\n",
    "- 2 x 4 = parâmetros da rede de entrada (2 entradas x 4 saídas)\n",
    "- 4 = bias da rede de entrada (um parâmetro para cada saída)\n",
    "- 4 x 4 = parâmetros da rede recorrente (4 entradas x 4 saídas)"
   ]
  },
  {
   "cell_type": "markdown",
   "metadata": {},
   "source": [
    "Este notebook é uma demonstração da construção desta rede utilizando valores numérico para poder acompanhar\n",
    "o processamento da rede recorrente."
   ]
  },
  {
   "cell_type": "markdown",
   "metadata": {},
   "source": [
    "## Importação"
   ]
  },
  {
   "cell_type": "markdown",
   "metadata": {},
   "source": [
    "Iremos exercitar o modelo recorrente mais simples do Keras: `SimpleRNN`"
   ]
  },
  {
   "cell_type": "code",
   "execution_count": 36,
   "metadata": {
    "ExecuteTime": {
     "end_time": "2017-10-30T20:47:25.190402Z",
     "start_time": "2017-10-30T20:47:25.186196Z"
    },
    "collapsed": true
   },
   "outputs": [],
   "source": [
    "import numpy as np\n",
    "\n",
    "import torch\n",
    "from torch.autograd import Variable"
   ]
  },
  {
   "cell_type": "code",
   "execution_count": 76,
   "metadata": {
    "ExecuteTime": {
     "end_time": "2017-10-31T05:02:56.226766Z",
     "start_time": "2017-10-31T05:02:56.213684Z"
    }
   },
   "outputs": [
    {
     "name": "stdout",
     "output_type": "stream",
     "text": [
      "output: Variable containing:\n",
      "(0 ,.,.) = \n",
      "  0.0000  0.3548  0.0000  0.0000\n",
      "\n",
      "(1 ,.,.) = \n",
      "  0.7856  0.7095  0.0000  0.0000\n",
      "\n",
      "(2 ,.,.) = \n",
      "  0.0000  0.0540  0.0000  0.0199\n",
      "[torch.FloatTensor of size 3x1x4]\n",
      "\n",
      "hn: Variable containing:\n",
      "(0 ,.,.) = \n",
      "1.00000e-02 *\n",
      "   0.0000  5.3955  0.0000  1.9920\n",
      "[torch.FloatTensor of size 1x1x4]\n",
      "\n"
     ]
    }
   ],
   "source": [
    "rnn = torch.nn.RNN(2, 4, 1, nonlinearity='relu') # 2 features, 4 neurônios, 1 camada\n",
    "inputs = Variable(torch.randn(3, 1, 2)) # 1 amostra, 3 sequências, 2 features\n",
    "h0 = Variable(torch.zeros(1, 1, 4))\n",
    "output, hn = rnn(inputs, h0)\n",
    "rnn\n",
    "print('output:',output)\n",
    "print('hn:', hn)"
   ]
  },
  {
   "cell_type": "code",
   "execution_count": 77,
   "metadata": {
    "ExecuteTime": {
     "end_time": "2017-10-31T05:03:06.579705Z",
     "start_time": "2017-10-31T05:03:06.572068Z"
    }
   },
   "outputs": [
    {
     "data": {
      "text/plain": [
       "OrderedDict([('weight_ih_l0', \n",
       "              -0.4702 -0.4107\n",
       "              -0.1610 -0.3270\n",
       "               0.0620  0.3894\n",
       "               0.3425 -0.0096\n",
       "              [torch.FloatTensor of size 4x2]), ('weight_hh_l0', \n",
       "               0.3385 -0.1965 -0.0696  0.1046\n",
       "              -0.2797 -0.2349  0.3359  0.2115\n",
       "              -0.0562  0.2556  0.4885 -0.2631\n",
       "               0.4985 -0.1545 -0.4274  0.1256\n",
       "              [torch.FloatTensor of size 4x4]), ('bias_ih_l0', \n",
       "               0.0301\n",
       "               0.2523\n",
       "              -0.4757\n",
       "              -0.2925\n",
       "              [torch.FloatTensor of size 4]), ('bias_hh_l0', \n",
       "              -0.4271\n",
       "              -0.0150\n",
       "              -0.0805\n",
       "              -0.1339\n",
       "              [torch.FloatTensor of size 4])])"
      ]
     },
     "execution_count": 77,
     "metadata": {},
     "output_type": "execute_result"
    }
   ],
   "source": [
    "rnn.state_dict()"
   ]
  },
  {
   "cell_type": "markdown",
   "metadata": {},
   "source": [
    "## Colocando os parâmetros"
   ]
  },
  {
   "cell_type": "markdown",
   "metadata": {},
   "source": [
    "### Pesos e Bias da rede de entrada"
   ]
  },
  {
   "cell_type": "code",
   "execution_count": 97,
   "metadata": {
    "ExecuteTime": {
     "end_time": "2017-10-31T05:12:11.196057Z",
     "start_time": "2017-10-31T05:12:11.191205Z"
    },
    "collapsed": true
   },
   "outputs": [],
   "source": [
    "w_ih = np.array([\n",
    "    [ 1., 2.,  3., 4. ],\n",
    "    [ 5,  6.,  7., 8]])\n",
    "bias_ih = np.array(\n",
    "    [ 0.1,  0.2,  0.3,  0.4])"
   ]
  },
  {
   "cell_type": "markdown",
   "metadata": {},
   "source": [
    "### Pesos e Bias da rede recorrente"
   ]
  },
  {
   "cell_type": "code",
   "execution_count": 98,
   "metadata": {
    "ExecuteTime": {
     "end_time": "2017-10-31T05:12:12.063723Z",
     "start_time": "2017-10-31T05:12:12.057749Z"
    },
    "collapsed": true
   },
   "outputs": [],
   "source": [
    "w_hh = np.array([\n",
    "    [ 1.,  0.,  0.,  0.],\n",
    "    [ 0.,  1.,  0.,  0.],\n",
    "    [ 0.,  0.,  1.,  0.],\n",
    "    [ 0.,  0.,  0.,  1.]])\n",
    "bias_hh = np.array(\n",
    "    [ -0.,  -0.,  -0.,  -0.])"
   ]
  },
  {
   "cell_type": "code",
   "execution_count": 99,
   "metadata": {
    "ExecuteTime": {
     "end_time": "2017-10-31T05:12:12.353050Z",
     "start_time": "2017-10-31T05:12:12.345402Z"
    },
    "collapsed": true
   },
   "outputs": [],
   "source": [
    "w_dict = {'weight_ih_l0': torch.FloatTensor(w_ih.T),\n",
    "          'weight_hh_l0': torch.FloatTensor(w_hh.T),\n",
    "          'bias_ih_l0':   torch.FloatTensor(bias_ih),\n",
    "          'bias_hh_l0':   torch.FloatTensor(bias_hh)}"
   ]
  },
  {
   "cell_type": "code",
   "execution_count": 100,
   "metadata": {
    "ExecuteTime": {
     "end_time": "2017-10-31T05:12:12.737170Z",
     "start_time": "2017-10-31T05:12:12.726474Z"
    }
   },
   "outputs": [
    {
     "data": {
      "text/plain": [
       "OrderedDict([('weight_ih_l0', \n",
       "               1  5\n",
       "               2  6\n",
       "               3  7\n",
       "               4  8\n",
       "              [torch.FloatTensor of size 4x2]), ('weight_hh_l0', \n",
       "               1  0  0  0\n",
       "               0  1  0  0\n",
       "               0  0  1  0\n",
       "               0  0  0  1\n",
       "              [torch.FloatTensor of size 4x4]), ('bias_ih_l0', \n",
       "               0.1000\n",
       "               0.2000\n",
       "               0.3000\n",
       "               0.4000\n",
       "              [torch.FloatTensor of size 4]), ('bias_hh_l0', \n",
       "              -0\n",
       "              -0\n",
       "              -0\n",
       "              -0\n",
       "              [torch.FloatTensor of size 4])])"
      ]
     },
     "execution_count": 100,
     "metadata": {},
     "output_type": "execute_result"
    }
   ],
   "source": [
    "rnn.load_state_dict(w_dict)\n",
    "rnn.state_dict()"
   ]
  },
  {
   "cell_type": "code",
   "execution_count": 101,
   "metadata": {
    "ExecuteTime": {
     "end_time": "2017-10-31T05:12:13.280330Z",
     "start_time": "2017-10-31T05:12:13.271863Z"
    }
   },
   "outputs": [
    {
     "data": {
      "text/plain": [
       "(2, 3, 2)"
      ]
     },
     "execution_count": 101,
     "metadata": {},
     "output_type": "execute_result"
    }
   ],
   "source": [
    "x_in = np.array([[[1.,1],[0,0],[0,0]],\n",
    "                 [[1.,1],[0,0],[0,0]]])\n",
    "x_in.shape"
   ]
  },
  {
   "cell_type": "code",
   "execution_count": 102,
   "metadata": {
    "ExecuteTime": {
     "end_time": "2017-10-31T05:12:13.954487Z",
     "start_time": "2017-10-31T05:12:13.947090Z"
    }
   },
   "outputs": [
    {
     "data": {
      "text/plain": [
       "(3, 1, 2)"
      ]
     },
     "execution_count": 102,
     "metadata": {},
     "output_type": "execute_result"
    }
   ],
   "source": [
    "x_in = np.array([[[1.,0]],\n",
    "                 [[0, 0]],\n",
    "                 [[0, 0]]])\n",
    "x_in.shape"
   ]
  },
  {
   "cell_type": "code",
   "execution_count": 103,
   "metadata": {
    "ExecuteTime": {
     "end_time": "2017-10-31T05:12:14.540454Z",
     "start_time": "2017-10-31T05:12:14.529455Z"
    }
   },
   "outputs": [
    {
     "data": {
      "text/plain": [
       "Variable containing:\n",
       "(0 ,.,.) = \n",
       "  1  0\n",
       "\n",
       "(1 ,.,.) = \n",
       "  0  0\n",
       "\n",
       "(2 ,.,.) = \n",
       "  0  0\n",
       "[torch.FloatTensor of size 3x1x2]"
      ]
     },
     "execution_count": 103,
     "metadata": {},
     "output_type": "execute_result"
    }
   ],
   "source": [
    "x = Variable(torch.FloatTensor(x_in)) # torch.randn(2, 3, 2)) # 2 amostras, 3 sequências, 2 features\n",
    "x"
   ]
  },
  {
   "cell_type": "code",
   "execution_count": 104,
   "metadata": {
    "ExecuteTime": {
     "end_time": "2017-10-31T05:12:15.617904Z",
     "start_time": "2017-10-31T05:12:15.606799Z"
    }
   },
   "outputs": [
    {
     "name": "stdout",
     "output_type": "stream",
     "text": [
      "y: Variable containing:\n",
      "(0 ,.,.) = \n",
      "  1.1000  2.2000  3.3000  4.4000\n",
      "\n",
      "(1 ,.,.) = \n",
      "  1.2000  2.4000  3.6000  4.8000\n",
      "\n",
      "(2 ,.,.) = \n",
      "  1.3000  2.6000  3.9000  5.2000\n",
      "[torch.FloatTensor of size 3x1x4]\n",
      "\n",
      "h1: Variable containing:\n",
      "(0 ,.,.) = \n",
      "  1.3000  2.6000  3.9000  5.2000\n",
      "[torch.FloatTensor of size 1x1x4]\n",
      "\n"
     ]
    }
   ],
   "source": [
    "h0 = Variable(torch.zeros(1, 1, 4))\n",
    "y,h1 = rnn(x,h0)\n",
    "print('y:',y)\n",
    "print('h1:',h1)"
   ]
  },
  {
   "cell_type": "code",
   "execution_count": 105,
   "metadata": {
    "ExecuteTime": {
     "end_time": "2017-10-31T05:12:17.870703Z",
     "start_time": "2017-10-31T05:12:17.864002Z"
    }
   },
   "outputs": [
    {
     "data": {
      "text/plain": [
       "Variable containing:\n",
       "(0 ,.,.) = \n",
       "  0  0  0  0\n",
       "[torch.FloatTensor of size 1x1x4]"
      ]
     },
     "execution_count": 105,
     "metadata": {},
     "output_type": "execute_result"
    }
   ],
   "source": [
    "h0"
   ]
  },
  {
   "cell_type": "code",
   "execution_count": null,
   "metadata": {
    "collapsed": true
   },
   "outputs": [],
   "source": []
  },
  {
   "cell_type": "code",
   "execution_count": 61,
   "metadata": {
    "ExecuteTime": {
     "end_time": "2017-10-31T04:46:08.863156Z",
     "start_time": "2017-10-31T04:46:08.853498Z"
    }
   },
   "outputs": [],
   "source": [
    "rnn = torch.nn.RNN(9, 20, 2)\n",
    "input = Variable(torch.randn(5, 4, 9))\n",
    "h0 = Variable(torch.randn(2, 4, 20))\n",
    "output, hn = rnn(input, None)"
   ]
  },
  {
   "cell_type": "code",
   "execution_count": 62,
   "metadata": {
    "ExecuteTime": {
     "end_time": "2017-10-31T04:46:11.316692Z",
     "start_time": "2017-10-31T04:46:11.310805Z"
    }
   },
   "outputs": [
    {
     "data": {
      "text/plain": [
       "torch.Size([5, 4, 20])"
      ]
     },
     "execution_count": 62,
     "metadata": {},
     "output_type": "execute_result"
    }
   ],
   "source": [
    "output.data.shape"
   ]
  },
  {
   "cell_type": "code",
   "execution_count": 65,
   "metadata": {
    "ExecuteTime": {
     "end_time": "2017-10-31T04:47:02.551370Z",
     "start_time": "2017-10-31T04:47:02.545206Z"
    }
   },
   "outputs": [
    {
     "data": {
      "text/plain": [
       "torch.Size([2, 4, 20])"
      ]
     },
     "execution_count": 65,
     "metadata": {},
     "output_type": "execute_result"
    }
   ],
   "source": [
    "hn.data.shape"
   ]
  },
  {
   "cell_type": "code",
   "execution_count": null,
   "metadata": {
    "collapsed": true
   },
   "outputs": [],
   "source": []
  }
 ],
 "metadata": {
  "kernelspec": {
   "display_name": "Python 3",
   "language": "python",
   "name": "python3"
  },
  "language_info": {
   "codemirror_mode": {
    "name": "ipython",
    "version": 3
   },
   "file_extension": ".py",
   "mimetype": "text/x-python",
   "name": "python",
   "nbconvert_exporter": "python",
   "pygments_lexer": "ipython3",
   "version": "3.6.0"
  },
  "toc": {
   "nav_menu": {
    "height": "12px",
    "width": "252px"
   },
   "number_sections": true,
   "sideBar": true,
   "skip_h1_title": false,
   "toc_cell": false,
   "toc_position": {},
   "toc_section_display": "block",
   "toc_window_display": false
  },
  "varInspector": {
   "cols": {
    "lenName": 16,
    "lenType": 16,
    "lenVar": 40
   },
   "kernels_config": {
    "python": {
     "delete_cmd_postfix": "",
     "delete_cmd_prefix": "del ",
     "library": "var_list.py",
     "varRefreshCmd": "print(var_dic_list())"
    },
    "r": {
     "delete_cmd_postfix": ") ",
     "delete_cmd_prefix": "rm(",
     "library": "var_list.r",
     "varRefreshCmd": "cat(var_dic_list()) "
    }
   },
   "types_to_exclude": [
    "module",
    "function",
    "builtin_function_or_method",
    "instance",
    "_Feature"
   ],
   "window_display": false
  }
 },
 "nbformat": 4,
 "nbformat_minor": 2
}
