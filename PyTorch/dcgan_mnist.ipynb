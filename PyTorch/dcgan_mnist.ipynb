{
 "cells": [
  {
   "cell_type": "markdown",
   "metadata": {},
   "source": [
    "# DCGAN: Deep Convolutional Generative Adversarial Network"
   ]
  },
  {
   "cell_type": "code",
   "execution_count": 1,
   "metadata": {
    "ExecuteTime": {
     "end_time": "2017-10-31T12:59:41.912318Z",
     "start_time": "2017-10-31T12:59:38.285400Z"
    }
   },
   "outputs": [
    {
     "name": "stdout",
     "output_type": "stream",
     "text": [
      "GPU available: False\n"
     ]
    }
   ],
   "source": [
    "%matplotlib inline\n",
    "import matplotlib.pyplot as plt\n",
    "import matplotlib.gridspec as gridspec\n",
    "from IPython import display\n",
    "from IPython.core.pylabtools import figsize\n",
    "\n",
    "import os, sys, time\n",
    "import json\n",
    "import numpy as np\n",
    "import pandas as pd\n",
    "import numpy.random as nr\n",
    "\n",
    "import torch\n",
    "import torch.nn as nn\n",
    "import torch.nn.functional as F\n",
    "from torch.optim import Adam\n",
    "from torch.optim.lr_scheduler import MultiStepLR, StepLR\n",
    "from torch.utils.data import DataLoader, TensorDataset\n",
    "from torch.autograd import Variable\n",
    "\n",
    "import torchvision as tv\n",
    "import lib.pytorch_trainer as ptt\n",
    "\n",
    "use_gpu = torch.cuda.is_available()\n",
    "print('GPU available:', use_gpu)"
   ]
  },
  {
   "cell_type": "markdown",
   "metadata": {},
   "source": [
    "## Dataset MNIST "
   ]
  },
  {
   "cell_type": "code",
   "execution_count": 2,
   "metadata": {
    "ExecuteTime": {
     "end_time": "2017-10-31T12:59:41.918614Z",
     "start_time": "2017-10-31T12:59:41.914016Z"
    },
    "collapsed": true
   },
   "outputs": [],
   "source": [
    "def get_mnist_data_loader(batch_size):\n",
    "    train_ds = tv.datasets.MNIST('/data/datasets/MNIST/', train=True, \n",
    "                                 transform=tv.transforms.ToTensor())\n",
    "    print('Número de amostras no dataset (treino):', len(train_ds))\n",
    "    train_dloader = DataLoader(train_ds, batch_size=batch_size, shuffle=True)\n",
    "    return train_dloader"
   ]
  },
  {
   "cell_type": "markdown",
   "metadata": {},
   "source": [
    "## Definição das redes adversárias"
   ]
  },
  {
   "cell_type": "code",
   "execution_count": 3,
   "metadata": {
    "ExecuteTime": {
     "end_time": "2017-10-31T12:59:41.958423Z",
     "start_time": "2017-10-31T12:59:41.920271Z"
    },
    "collapsed": true
   },
   "outputs": [],
   "source": [
    "# ---------------------------\n",
    "# Imagens nc x 28 x 28\n",
    "# ---------------------------\n",
    "\n",
    "class GNet(nn.Module):\n",
    "    def __init__(self, nz, nc, ngf=64):\n",
    "        super().__init__()\n",
    "        self.main = nn.Sequential(\n",
    "            # input is Z, going into a convolution\n",
    "            nn.ConvTranspose2d(nz, ngf * 4, kernel_size=4, stride=1, padding=0, bias=False),\n",
    "            nn.BatchNorm2d(ngf * 4),\n",
    "            nn.ReLU(True),\n",
    "            \n",
    "            # state size. (ngf*4) x 4 x 4\n",
    "            nn.ConvTranspose2d(ngf * 4, ngf * 2, kernel_size=4, stride=1, padding=0, bias=False),\n",
    "            nn.BatchNorm2d(ngf * 2),\n",
    "            nn.ReLU(True),\n",
    "            \n",
    "            # state size. (ngf*2) x 7 x 7\n",
    "            nn.ConvTranspose2d(ngf * 2, ngf, kernel_size=4, stride=2, padding=1, bias=False),\n",
    "            nn.BatchNorm2d(ngf),\n",
    "            nn.ReLU(True),\n",
    "            \n",
    "            # state size. (ngf) x 14 x 14\n",
    "            nn.ConvTranspose2d(ngf, nc, kernel_size=4, stride=2, padding=1, bias=False),\n",
    "            nn.Tanh()\n",
    "            \n",
    "            # state size. (nc) x 28 x 28\n",
    "        )\n",
    "\n",
    "    def forward(self, input):\n",
    "        output = self.main(input)\n",
    "        return output\n",
    "\n",
    "\n",
    "class DNet(nn.Module):\n",
    "    def __init__(self, nc, ndf=64):\n",
    "        super().__init__()\n",
    "        self.main = nn.Sequential(\n",
    "            # input is (nc) x 28 x 28\n",
    "            nn.Conv2d(nc, ndf, kernel_size=4, stride=2, padding=1, bias=False),\n",
    "            nn.LeakyReLU(0.2, inplace=True),\n",
    "            \n",
    "            # state size. (ndf) x 14 x 14\n",
    "            nn.Conv2d(ndf, ndf * 2, kernel_size=4, stride=2, padding=1, bias=False),\n",
    "            nn.BatchNorm2d(ndf * 2),\n",
    "            nn.LeakyReLU(0.2, inplace=True),\n",
    "            \n",
    "            # state size. (ndf*2) x 7 x 7\n",
    "            nn.Conv2d(ndf * 2, ndf * 4, kernel_size=4, stride=1, padding=0, bias=False),\n",
    "            nn.BatchNorm2d(ndf * 4),\n",
    "            nn.LeakyReLU(0.2, inplace=True),\n",
    "            \n",
    "            # state size. (ndf*4) x 4 x 4\n",
    "            nn.Conv2d(ndf * 4, 1, kernel_size=4, stride=1, padding=0, bias=False),\n",
    "            nn.Sigmoid()\n",
    "        )\n",
    "\n",
    "    def forward(self, input):\n",
    "        output = self.main(input)\n",
    "        return output.view(-1, 1).squeeze(1)\n"
   ]
  },
  {
   "cell_type": "markdown",
   "metadata": {
    "ExecuteTime": {
     "end_time": "2017-10-28T15:45:57.500876Z",
     "start_time": "2017-10-28T15:45:57.477540Z"
    },
    "collapsed": true
   },
   "source": [
    "## Preparação para o treino"
   ]
  },
  {
   "cell_type": "code",
   "execution_count": 4,
   "metadata": {
    "ExecuteTime": {
     "end_time": "2017-10-31T12:59:41.987961Z",
     "start_time": "2017-10-31T12:59:41.959985Z"
    }
   },
   "outputs": [
    {
     "name": "stdout",
     "output_type": "stream",
     "text": [
      "Número de amostras no dataset (treino): 60000\n"
     ]
    }
   ],
   "source": [
    "latent_dim = 100\n",
    "batch_size = 50\n",
    "image_size = 28\n",
    "image_chan = 1\n",
    "\n",
    "train_dloader = get_mnist_data_loader(batch_size)"
   ]
  },
  {
   "cell_type": "code",
   "execution_count": 5,
   "metadata": {
    "ExecuteTime": {
     "end_time": "2017-10-31T12:59:44.079049Z",
     "start_time": "2017-10-31T12:59:41.989606Z"
    },
    "collapsed": true
   },
   "outputs": [],
   "source": [
    "train_it = True\n",
    "niter = 110\n",
    "save_interval = 10\n",
    "print_interval = 10\n",
    "\n",
    "# build the networks\n",
    "d_net = DNet(nc=image_chan, ndf=64)\n",
    "g_net = GNet(nz=latent_dim, nc=image_chan, ngf=64)\n",
    "\n",
    "# make our input tensors\n",
    "d_input = torch.FloatTensor(batch_size, image_chan, image_size, image_size)\n",
    "noise = torch.FloatTensor(batch_size, latent_dim, 1, 1)\n",
    "fixed_noise = torch.FloatTensor(batch_size, latent_dim, 1, 1).normal_(0, 1)\n",
    "label = torch.FloatTensor(batch_size)\n",
    "if use_gpu:\n",
    "    d_net.cuda()\n",
    "    g_net.cuda()\n",
    "    d_input, label = d_input.cuda(), label.cuda()\n",
    "    noise, fixed_noise = noise.cuda(), fixed_noise.cuda()\n",
    "fixed_noise = Variable(fixed_noise)\n",
    "real_label = 1\n",
    "fake_label = 0\n",
    "\n",
    "\n",
    "# setup optimizer\n",
    "opt_lr = 0.0002\n",
    "opt_beta1 = 0.5\n",
    "D_optimizer = Adam(d_net.parameters(), lr=opt_lr, betas=(opt_beta1, 0.999))\n",
    "G_optimizer = Adam(g_net.parameters(), lr=opt_lr, betas=(opt_beta1, 0.999))\n",
    "\n",
    "# and cost function\n",
    "criterion = nn.BCELoss()"
   ]
  },
  {
   "cell_type": "markdown",
   "metadata": {},
   "source": [
    "## Treinamento"
   ]
  },
  {
   "cell_type": "code",
   "execution_count": 6,
   "metadata": {
    "ExecuteTime": {
     "end_time": "2017-10-31T12:59:44.088929Z",
     "start_time": "2017-10-31T12:59:44.080564Z"
    },
    "collapsed": true
   },
   "outputs": [],
   "source": [
    "def plot_samples(samples):\n",
    "    fig = plt.figure(figsize=(5, 5))\n",
    "    gs = gridspec.GridSpec(5, 5)\n",
    "    gs.update(wspace=0.05, hspace=0.05)\n",
    "    for i, sample in enumerate(samples[:25]):\n",
    "        ax = plt.subplot(gs[i])\n",
    "        plt.axis('off')\n",
    "        ax.set_xticklabels([])\n",
    "        ax.set_yticklabels([])\n",
    "        ax.set_aspect('equal')\n",
    "        plt.imshow(sample.reshape(28, 28), cmap='Greys_r')\n",
    "    return fig"
   ]
  },
  {
   "cell_type": "code",
   "execution_count": 7,
   "metadata": {
    "ExecuteTime": {
     "end_time": "2017-10-31T14:49:41.292389Z",
     "start_time": "2017-10-31T12:59:44.090564Z"
    },
    "scrolled": false
   },
   "outputs": [
    {
     "name": "stdout",
     "output_type": "stream",
     "text": [
      "  0: 0.2514 3.6049  [1288.87s]\n",
      "Interrupted!\n"
     ]
    }
   ],
   "source": [
    "if train_it:\n",
    "    try:\n",
    "        for epoch in range(niter+1):\n",
    "            t0 = time.time()\n",
    "            for i, (x_real, _) in enumerate(train_dloader):\n",
    "                curr_batch_size = x_real.size(0)\n",
    "                # -----------------------------------------------------------\n",
    "                # (1) Update D network: maximize log(D(x)) + log(1 - D(G(z)))\n",
    "                # -----------------------------------------------------------\n",
    "                d_net.zero_grad()\n",
    "\n",
    "                # train with real        \n",
    "                if use_gpu:\n",
    "                    x_real = x_real.cuda()\n",
    "                d_input.resize_as_(x_real).copy_(x_real)\n",
    "                label.resize_(curr_batch_size).fill_(real_label)\n",
    "                inputv = Variable(d_input)\n",
    "                labelv = Variable(label)\n",
    "\n",
    "                output = d_net(inputv)\n",
    "                d_error_real = criterion(output, labelv)\n",
    "                d_error_real.backward()\n",
    "                d_x = output.data.mean()\n",
    "\n",
    "                # train with fake\n",
    "                noise.resize_(batch_size, latent_dim, 1, 1).normal_(0, 1)\n",
    "                noisev = Variable(noise)\n",
    "                labelv = Variable(label.fill_(fake_label))\n",
    "\n",
    "                fake_data = g_net(noisev)\n",
    "                # detach() cria nova variável com mesmo conteúdo mas \n",
    "                # desconectada do grafo criado por g_net.forward(...)\n",
    "                fake_data_2 = fake_data.detach()\n",
    "                output = d_net(fake_data_2)\n",
    "                d_error_fake = criterion(output, labelv)\n",
    "                d_error_fake.backward()\n",
    "                d_g_z1 = output.data.mean()\n",
    "\n",
    "                d_error = d_error_real + d_error_fake\n",
    "                D_optimizer.step()\n",
    "\n",
    "                # -------------------------------------------\n",
    "                # (2) Update G network: maximize log(D(G(z)))\n",
    "                # -------------------------------------------\n",
    "                g_net.zero_grad()\n",
    "\n",
    "                # fake labels are real for generator cost\n",
    "                labelv = Variable(label.fill_(real_label))\n",
    "\n",
    "                output = d_net(fake_data)\n",
    "                g_error = criterion(output, labelv)\n",
    "                g_error.backward()\n",
    "\n",
    "                d_g_z2 = output.data.mean()\n",
    "                G_optimizer.step()\n",
    "\n",
    "            if epoch % print_interval == 0:\n",
    "                print('{:3d}: {:.4f} {:.4f}  [{:.2f}s]'.format(epoch, d_error.data[0], \n",
    "                                                                      g_error.data[0], time.time() - t0))\n",
    "\n",
    "            if epoch % save_interval == 0:\n",
    "                fake_data = g_net(fixed_noise)\n",
    "                fig = plot_samples(fake_data.data.cpu().numpy())\n",
    "                plt.savefig('images/dcgan_img_{:04d}.png'.format(epoch, bbox_inches='tight'))\n",
    "                plt.close(fig)\n",
    "\n",
    "    except KeyboardInterrupt:\n",
    "        print('Interrupted!')"
   ]
  },
  {
   "cell_type": "code",
   "execution_count": 8,
   "metadata": {
    "ExecuteTime": {
     "end_time": "2017-10-31T16:26:08.597759Z",
     "start_time": "2017-10-31T16:26:07.042890Z"
    }
   },
   "outputs": [
    {
     "name": "stderr",
     "output_type": "stream",
     "text": [
      "ERROR:root:Internal Python error in the inspect module.\n",
      "Below is the traceback from this internal error.\n",
      "\n"
     ]
    },
    {
     "name": "stdout",
     "output_type": "stream",
     "text": [
      "Traceback (most recent call last):\n",
      "  File \"/Users/rubens/anaconda3/lib/python3.6/site-packages/IPython/core/interactiveshell.py\", line 2862, in run_code\n",
      "    exec(code_obj, self.user_global_ns, self.user_ns)\n",
      "  File \"<ipython-input-8-38f9b4ace47d>\", line 6, in <module>\n",
      "    img = plt.imread(image_fn)\n",
      "  File \"/Users/rubens/anaconda3/lib/python3.6/site-packages/matplotlib/pyplot.py\", line 2314, in imread\n",
      "    return _imread(*args, **kwargs)\n",
      "  File \"/Users/rubens/anaconda3/lib/python3.6/site-packages/matplotlib/image.py\", line 1297, in imread\n",
      "    with open(fname, 'rb') as fd:\n",
      "FileNotFoundError: [Errno 2] No such file or directory: 'images/dcgan_img_0010.png'\n",
      "\n",
      "During handling of the above exception, another exception occurred:\n",
      "\n",
      "Traceback (most recent call last):\n",
      "  File \"/Users/rubens/anaconda3/lib/python3.6/site-packages/IPython/core/interactiveshell.py\", line 1806, in showtraceback\n",
      "    stb = value._render_traceback_()\n",
      "AttributeError: 'FileNotFoundError' object has no attribute '_render_traceback_'\n",
      "\n",
      "During handling of the above exception, another exception occurred:\n",
      "\n",
      "Traceback (most recent call last):\n",
      "  File \"/Users/rubens/anaconda3/lib/python3.6/site-packages/IPython/core/ultratb.py\", line 1090, in get_records\n",
      "    return _fixed_getinnerframes(etb, number_of_lines_of_context, tb_offset)\n",
      "  File \"/Users/rubens/anaconda3/lib/python3.6/site-packages/IPython/core/ultratb.py\", line 311, in wrapped\n",
      "    return f(*args, **kwargs)\n",
      "  File \"/Users/rubens/anaconda3/lib/python3.6/site-packages/IPython/core/ultratb.py\", line 345, in _fixed_getinnerframes\n",
      "    records = fix_frame_records_filenames(inspect.getinnerframes(etb, context))\n",
      "  File \"/Users/rubens/anaconda3/lib/python3.6/inspect.py\", line 1480, in getinnerframes\n",
      "    frameinfo = (tb.tb_frame,) + getframeinfo(tb, context)\n",
      "  File \"/Users/rubens/anaconda3/lib/python3.6/inspect.py\", line 1438, in getframeinfo\n",
      "    filename = getsourcefile(frame) or getfile(frame)\n",
      "  File \"/Users/rubens/anaconda3/lib/python3.6/inspect.py\", line 693, in getsourcefile\n",
      "    if getattr(getmodule(object, filename), '__loader__', None) is not None:\n",
      "  File \"/Users/rubens/anaconda3/lib/python3.6/inspect.py\", line 736, in getmodule\n",
      "    f = getabsfile(module)\n",
      "  File \"/Users/rubens/anaconda3/lib/python3.6/inspect.py\", line 705, in getabsfile\n",
      "    _filename = getsourcefile(object) or getfile(object)\n",
      "  File \"/Users/rubens/anaconda3/lib/python3.6/inspect.py\", line 690, in getsourcefile\n",
      "    if os.path.exists(filename):\n",
      "  File \"/Users/rubens/anaconda3/lib/python3.6/genericpath.py\", line 19, in exists\n",
      "    os.stat(path)\n",
      "KeyboardInterrupt\n"
     ]
    },
    {
     "ename": "FileNotFoundError",
     "evalue": "[Errno 2] No such file or directory: 'images/dcgan_img_0010.png'",
     "output_type": "error",
     "traceback": [
      "\u001b[0;31m---------------------------------------------------------------------------\u001b[0m"
     ]
    },
    {
     "data": {
      "image/png": "[encoded data removed]",
      "text/plain": [
       "<matplotlib.figure.Figure at 0x110e4e630>"
      ]
     },
     "metadata": {},
     "output_type": "display_data"
    }
   ],
   "source": [
    "fig = plt.figure(figsize=(15, 18))\n",
    "\n",
    "for i, fn in enumerate(range(0, niter+1, save_interval)):\n",
    "    fig.add_subplot(4, 3, i+1)\n",
    "    image_fn = 'images/dcgan_img_{:04d}.png'.format(fn)\n",
    "    img = plt.imread(image_fn)\n",
    "    plt.imshow(img, cmap='gray')\n",
    "    plt.axis('off')\n",
    "    plt.title('{} iteractions'.format(fn+1))\n",
    " "
   ]
  },
  {
   "cell_type": "code",
   "execution_count": null,
   "metadata": {
    "collapsed": true
   },
   "outputs": [],
   "source": []
  }
 ],
 "metadata": {
  "kernelspec": {
   "display_name": "Python 3",
   "language": "python",
   "name": "python3"
  },
  "language_info": {
   "codemirror_mode": {
    "name": "ipython",
    "version": 3
   },
   "file_extension": ".py",
   "mimetype": "text/x-python",
   "name": "python",
   "nbconvert_exporter": "python",
   "pygments_lexer": "ipython3",
   "version": "3.6.2"
  },
  "latex_envs": {
   "LaTeX_envs_menu_present": true,
   "autocomplete": true,
   "bibliofile": "biblio.bib",
   "cite_by": "apalike",
   "current_citInitial": 1,
   "eqLabelWithNumbers": true,
   "eqNumInitial": 1,
   "hotkeys": {
    "equation": "Ctrl-E",
    "itemize": "Ctrl-I"
   },
   "labels_anchors": false,
   "latex_user_defs": false,
   "report_style_numbering": false,
   "user_envs_cfg": false
  },
  "toc": {
   "nav_menu": {
    "height": "12px",
    "width": "252px"
   },
   "number_sections": true,
   "sideBar": true,
   "skip_h1_title": false,
   "toc_cell": false,
   "toc_position": {},
   "toc_section_display": "block",
   "toc_window_display": false
  },
  "varInspector": {
   "cols": {
    "lenName": 16,
    "lenType": 16,
    "lenVar": 40
   },
   "kernels_config": {
    "python": {
     "delete_cmd_postfix": "",
     "delete_cmd_prefix": "del ",
     "library": "var_list.py",
     "varRefreshCmd": "print(var_dic_list())"
    },
    "r": {
     "delete_cmd_postfix": ") ",
     "delete_cmd_prefix": "rm(",
     "library": "var_list.r",
     "varRefreshCmd": "cat(var_dic_list()) "
    }
   },
   "types_to_exclude": [
    "module",
    "function",
    "builtin_function_or_method",
    "instance",
    "_Feature"
   ],
   "window_display": false
  }
 },
 "nbformat": 4,
 "nbformat_minor": 2
}
