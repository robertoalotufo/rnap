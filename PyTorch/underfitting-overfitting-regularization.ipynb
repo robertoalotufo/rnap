{
 "cells": [
  {
   "cell_type": "markdown",
   "metadata": {},
   "source": [
    "# Conceitos de underfitting, overfitting e regularização\n",
    "\n",
    "Esse tutorial visa explicar os conceitos de *underfitting*, *overfitting* e regularização através de um exemplo de ajuste de curva usando o Pytorch.\n",
    "\n",
    "*Underfitting* ocorre quando o modelo não é capaz de representar a natureza dos dados. Normalmente resolve-se o *underfitting* aumentando a complexidade do modelo de ajuste; em redes neurais, isso é equivalente a aumentar o número de camadas e o número de neurônios por camada.\n",
    "\n",
    "*Overfitting* ocorre quando o modelo se adequa excessivamente aos dados de treinamento, de forma que ele se torna específico demais para os dados de treinamento e torna-se incapaz de generalizar para novos dados.\n",
    "\n",
    "Regularização é uma técnica para evitar o *overfitting*.\n",
    "\n",
    "O tutorial é uma adaptação do exemplo apresentado no capítulo 1 do livro:\n",
    "\"Christopher M. Bishop. 2006. Pattern Recognition and Machine Learning (Information Science and Statistics). Springer-Verlag New York, Inc., Secaucus, NJ, USA.\"\n",
    "\n"
   ]
  },
  {
   "cell_type": "code",
   "execution_count": 1,
   "metadata": {},
   "outputs": [
    {
     "name": "stdout",
     "output_type": "stream",
     "text": [
      "Enabling notebook extension jupyter-js-widgets/extension...\r\n",
      "      - Validating: \u001b[32mOK\u001b[0m\r\n"
     ]
    }
   ],
   "source": [
    "!jupyter nbextension enable --py widgetsnbextension"
   ]
  },
  {
   "cell_type": "markdown",
   "metadata": {},
   "source": [
    "## Importação das bibliotecas - NumPy, matplotlib e ipywidgets"
   ]
  },
  {
   "cell_type": "code",
   "execution_count": 2,
   "metadata": {},
   "outputs": [],
   "source": [
    "%matplotlib inline\n",
    "import matplotlib.pyplot as plt\n",
    "import ipywidgets as widgets\n",
    "\n",
    "import time\n",
    "import copy\n",
    "import numpy as np\n",
    "import torch\n",
    "from torch import nn\n",
    "from torch.autograd import Variable\n",
    "from torch.nn import functional as F"
   ]
  },
  {
   "cell_type": "markdown",
   "metadata": {},
   "source": [
    "## Gerando dados sintéticos com ruído\n"
   ]
  },
  {
   "cell_type": "code",
   "execution_count": 3,
   "metadata": {
    "scrolled": false
   },
   "outputs": [],
   "source": [
    "def generate_dataset(n_points=15, noise_stdev=0.3, rnd_seed=42):\n",
    "    torch.manual_seed(rnd_seed)\n",
    "\n",
    "    train_size = n_points\n",
    "    test_size = n_points\n",
    "\n",
    "    # Ruido gaussiano\n",
    "    noise_mean = torch.zeros(train_size)\n",
    "    noise_std = noise_stdev\n",
    "\n",
    "    x_true = torch.linspace(0.0, 1.0, 100)\n",
    "    y_true = torch.sin(2.0 * np.pi * x_true)\n",
    "\n",
    "    x_samples = torch.linspace(0.0, 1.0, 2 * n_points + 20)\n",
    "    idx = torch.randperm(2 * n_points + 20)\n",
    "    tra_idx = idx[:train_size]\n",
    "    tst_idx = idx[-test_size:]\n",
    "\n",
    "    # Conjunto de validação\n",
    "    # x_test = torch.rand(test_size, 1)\n",
    "    x_test = x_samples[tst_idx].view(-1, 1)\n",
    "    y_test = torch.sin(2.0 * np.pi * x_test[:, 0]) + torch.normal(noise_mean, noise_std)\n",
    "\n",
    "    # Conjunto de treino\n",
    "    # x_train = torch.rand(train_size, 1)\n",
    "    x_train = x_samples[tra_idx].view(-1, 1)\n",
    "    y_train = torch.sin(2.0 * np.pi * x_train[:, 0]) + torch.normal(noise_mean, noise_std)\n",
    "    \n",
    "    return x_true, y_true, x_train, y_train, x_test, y_test\n"
   ]
  },
  {
   "cell_type": "markdown",
   "metadata": {},
   "source": [
    "## Rede neural e procedimento de treino"
   ]
  },
  {
   "cell_type": "code",
   "execution_count": 4,
   "metadata": {},
   "outputs": [],
   "source": [
    "class Net(nn.Module):\n",
    "    def __init__(self, n_hidden_neurons):\n",
    "        super(Net, self).__init__()\n",
    "        self.n_hidden = n_hidden_neurons\n",
    "        if n_hidden_neurons == 0:\n",
    "            self.linear01 = nn.Linear(in_features=1, out_features=1)\n",
    "        else:\n",
    "            self.linear01 = nn.Linear(in_features=1, out_features=n_hidden_neurons)\n",
    "            self.linear02 = nn.Linear(in_features=n_hidden_neurons, out_features=1)\n",
    "            \n",
    "    def forward(self, x):\n",
    "        if self.n_hidden == 0:\n",
    "            x = self.linear01(x)\n",
    "        else:\n",
    "            x = self.linear01(x)\n",
    "            x = F.sigmoid(x)\n",
    "            x = self.linear02(x)\n",
    "        return x\n",
    "\n",
    "\n",
    "def train_model(model, x_train, y_train, x_test, y_test, lr=0.1, reg_factor=0.0, n_epochs=100, use_gpu=False):\n",
    "    criterion = torch.nn.MSELoss()\n",
    "    \n",
    "    optimizer = torch.optim.Adam(params=model.parameters(), lr=lr, weight_decay=reg_factor)\n",
    "#     optimizer = torch.optim.Adam([{'params': (p[1] for p in model.named_parameters() if p[0].endswith('weight')), \n",
    "#                                    'weight_decay': reg_factor}, \n",
    "#                                   {'params': (p[1] for p in model.named_parameters() if p[0].endswith('bias')), \n",
    "#                                    'weight_decay': 0.0}], lr=lr)\n",
    "    \n",
    "    if use_gpu:\n",
    "        model = model.cuda()\n",
    "        x_train, y_train = Variable(x_train.cuda()), Variable(y_train.cuda())\n",
    "        x_test, y_test = Variable(x_test.cuda()), Variable(y_test.cuda())\n",
    "    else:\n",
    "        x_train, y_train = Variable(x_train), Variable(y_train)\n",
    "        x_test, y_test = Variable(x_test), Variable(y_test)\n",
    "\n",
    "    train_losses = []\n",
    "    test_losses = []\n",
    "    train_preds = []\n",
    "    test_preds = []\n",
    "    for i in range(n_epochs):\n",
    "        try:\n",
    "            model.train(True)\n",
    "            optimizer.zero_grad()\n",
    "            train_pred = model(x_train)\n",
    "            train_loss = criterion(train_pred, y_train)\n",
    "            train_loss.backward()\n",
    "            optimizer.step()\n",
    "            \n",
    "            model.train(False)\n",
    "            test_pred = model(x_test)\n",
    "            test_loss = criterion(test_pred, y_test)\n",
    "            \n",
    "            train_losses.append(train_loss.data[0])\n",
    "            test_losses.append(test_loss.data[0])\n",
    "            \n",
    "            train_preds.append(train_pred.data)\n",
    "            test_preds.append(test_pred.data)\n",
    "            \n",
    "        except KeyboardInterrupt:\n",
    "            print('Training interrupted!')\n",
    "            break\n",
    "            \n",
    "    # print('Training finished.')\n",
    "    return train_losses, test_losses, train_preds, test_preds\n"
   ]
  },
  {
   "cell_type": "markdown",
   "metadata": {},
   "source": [
    "## Procedimentos para criação de gráficos interativos"
   ]
  },
  {
   "cell_type": "code",
   "execution_count": 5,
   "metadata": {},
   "outputs": [],
   "source": [
    "def show_network_plots(n_data=15, noise=0.3, neurons=16, epochs=500, lr=0.1, L2_reg=0.0, \n",
    "                       t_train=False, t_test=False):\n",
    "    global model\n",
    "    \n",
    "    model = Net(neurons)\n",
    "    x_true, y_true, x_train, y_train, x_test, y_test = generate_dataset(n_points=n_data, noise_stdev=noise)\n",
    "    tra_loss, tst_loss, tra_preds, tst_preds = train_model(model, x_train, y_train, x_test, y_test, \n",
    "                                                           lr=lr, reg_factor=L2_reg, n_epochs=epochs)\n",
    "\n",
    "    fig = plt.figure(figsize=(15,4))\n",
    "\n",
    "    fig.add_subplot(1, 2, 1)\n",
    "    plt.plot(tra_loss, color='blue', label='training')\n",
    "    plt.plot(tst_loss, color='red', label='validation')\n",
    "    plt.ylim(0, 1.0)\n",
    "    plt.grid()\n",
    "    plt.legend()\n",
    "\n",
    "    print('Losses:  T={:.5f},  V={:.5f}'.format(tra_loss[-1], tst_loss[-1]))\n",
    "\n",
    "    fig.add_subplot(1, 2, 2)\n",
    "    plt.plot(x_true.numpy(), y_true.numpy(), color='orange')\n",
    "    plt.plot(x_train.numpy(), tra_preds[-1].numpy(), 'o', color='blue', label='training')\n",
    "    plt.plot(x_test.numpy(), tst_preds[-1].numpy(), 'o', color='red', label='validation')\n",
    "    if t_train:\n",
    "        plt.plot(x_train.numpy(), y_train.numpy(), 'x', color='blue')\n",
    "    if t_test:\n",
    "        plt.plot(x_test.numpy(), y_test.numpy(), 'x', color='red')\n",
    "    plt.ylim(-1.6, 1.6)\n",
    "    plt.grid()\n",
    "    plt.legend()\n",
    "    \n",
    "\n",
    "def showIt(n_data=15, noise=0.3, neurons=16, epochs=400, lr=0.1, L2_reg=0.0, t_train=False, t_test=False):\n",
    "    s_ndata = widgets.IntSlider(min=10, max=20, step=1, value=n_data, continuous_update=False)\n",
    "    s_epochs = widgets.IntSlider(min=10, max=800, step=10, value=epochs, continuous_update=False)\n",
    "    s_neurons = widgets.IntSlider(min=0, max=32, step=1, value=neurons, continuous_update=False)\n",
    "\n",
    "    s_noise = widgets.FloatSlider(min=0.1, max=0.5, step=0.1, value=noise, readout_format='.1f', \n",
    "                                  continuous_update=False)\n",
    "    s_lr = widgets.FloatSlider(min=0.01, max=0.1, step=0.01, value=lr, readout_format='.3f', \n",
    "                               continuous_update=False)\n",
    "    s_L2_reg = widgets.FloatSlider(min=0.0, max=0.005, step=0.0001, value=L2_reg, readout_format='.4f', \n",
    "                                   continuous_update=False)\n",
    "    \n",
    "    widgets.interact(show_network_plots, epochs=s_epochs, noise=s_noise, \n",
    "                     neurons=s_neurons, lr=s_lr, L2_reg=s_L2_reg);    "
   ]
  },
  {
   "cell_type": "markdown",
   "metadata": {},
   "source": [
    "# Experimentos"
   ]
  },
  {
   "cell_type": "markdown",
   "metadata": {},
   "source": [
    "## Underfitting"
   ]
  },
  {
   "cell_type": "code",
   "execution_count": 6,
   "metadata": {},
   "outputs": [
    {
     "data": {
      "application/vnd.jupyter.widget-view+json": {
       "model_id": "14077b7f335a4130a007e800d98aa5e2",
       "version_major": 2,
       "version_minor": 0
      },
      "text/html": [
       "<p>Failed to display Jupyter Widget of type <code>interactive</code>.</p>\n",
       "<p>\n",
       "  If you're reading this message in Jupyter Notebook or JupyterLab, it may mean\n",
       "  that the widgets JavaScript is still loading. If this message persists, it\n",
       "  likely means that the widgets JavaScript library is either not installed or\n",
       "  not enabled. See the <a href=\"https://ipywidgets.readthedocs.io/en/stable/user_install.html\">Jupyter\n",
       "  Widgets Documentation</a> for setup instructions.\n",
       "</p>\n",
       "<p>\n",
       "  If you're reading this message in another notebook frontend (for example, a static\n",
       "  rendering on GitHub or <a href=\"https://nbviewer.jupyter.org/\">NBViewer</a>),\n",
       "  it may mean that your frontend doesn't currently support widgets.\n",
       "</p>\n"
      ],
      "text/plain": [
       "interactive(children=(IntSlider(value=15, description='n_data', max=45, min=-15), FloatSlider(value=0.3, continuous_update=False, description='noise', max=0.5, min=0.1, readout_format='.1f'), IntSlider(value=0, continuous_update=False, description='neurons', max=32), IntSlider(value=400, continuous_update=False, description='epochs', max=800, min=10, step=10), FloatSlider(value=0.1, continuous_update=False, description='lr', max=0.1, min=0.01, readout_format='.3f', step=0.01), FloatSlider(value=0.0, continuous_update=False, description='L2_reg', max=0.005, readout_format='.4f', step=0.0001), Checkbox(value=False, description='t_train'), Checkbox(value=False, description='t_test'), Output()), _dom_classes=('widget-interact',))"
      ]
     },
     "metadata": {},
     "output_type": "display_data"
    }
   ],
   "source": [
    "showIt(neurons=0)"
   ]
  },
  {
   "cell_type": "markdown",
   "metadata": {},
   "source": [
    "## Overfitting"
   ]
  },
  {
   "cell_type": "code",
   "execution_count": 7,
   "metadata": {},
   "outputs": [
    {
     "data": {
      "application/vnd.jupyter.widget-view+json": {
       "model_id": "31cff82c389b4e45a18ae260fa3ef57c",
       "version_major": 2,
       "version_minor": 0
      },
      "text/html": [
       "<p>Failed to display Jupyter Widget of type <code>interactive</code>.</p>\n",
       "<p>\n",
       "  If you're reading this message in Jupyter Notebook or JupyterLab, it may mean\n",
       "  that the widgets JavaScript is still loading. If this message persists, it\n",
       "  likely means that the widgets JavaScript library is either not installed or\n",
       "  not enabled. See the <a href=\"https://ipywidgets.readthedocs.io/en/stable/user_install.html\">Jupyter\n",
       "  Widgets Documentation</a> for setup instructions.\n",
       "</p>\n",
       "<p>\n",
       "  If you're reading this message in another notebook frontend (for example, a static\n",
       "  rendering on GitHub or <a href=\"https://nbviewer.jupyter.org/\">NBViewer</a>),\n",
       "  it may mean that your frontend doesn't currently support widgets.\n",
       "</p>\n"
      ],
      "text/plain": [
       "interactive(children=(IntSlider(value=15, description='n_data', max=45, min=-15), FloatSlider(value=0.3, continuous_update=False, description='noise', max=0.5, min=0.1, readout_format='.1f'), IntSlider(value=16, continuous_update=False, description='neurons', max=32), IntSlider(value=400, continuous_update=False, description='epochs', max=800, min=10, step=10), FloatSlider(value=0.1, continuous_update=False, description='lr', max=0.1, min=0.01, readout_format='.3f', step=0.01), FloatSlider(value=0.0, continuous_update=False, description='L2_reg', max=0.005, readout_format='.4f', step=0.0001), Checkbox(value=False, description='t_train'), Checkbox(value=False, description='t_test'), Output()), _dom_classes=('widget-interact',))"
      ]
     },
     "metadata": {},
     "output_type": "display_data"
    }
   ],
   "source": [
    "showIt()"
   ]
  },
  {
   "cell_type": "markdown",
   "metadata": {},
   "source": [
    "## Early Stopping"
   ]
  },
  {
   "cell_type": "code",
   "execution_count": 8,
   "metadata": {},
   "outputs": [
    {
     "data": {
      "application/vnd.jupyter.widget-view+json": {
       "model_id": "1f7022c50a0d40b284df217df8815497",
       "version_major": 2,
       "version_minor": 0
      },
      "text/html": [
       "<p>Failed to display Jupyter Widget of type <code>interactive</code>.</p>\n",
       "<p>\n",
       "  If you're reading this message in Jupyter Notebook or JupyterLab, it may mean\n",
       "  that the widgets JavaScript is still loading. If this message persists, it\n",
       "  likely means that the widgets JavaScript library is either not installed or\n",
       "  not enabled. See the <a href=\"https://ipywidgets.readthedocs.io/en/stable/user_install.html\">Jupyter\n",
       "  Widgets Documentation</a> for setup instructions.\n",
       "</p>\n",
       "<p>\n",
       "  If you're reading this message in another notebook frontend (for example, a static\n",
       "  rendering on GitHub or <a href=\"https://nbviewer.jupyter.org/\">NBViewer</a>),\n",
       "  it may mean that your frontend doesn't currently support widgets.\n",
       "</p>\n"
      ],
      "text/plain": [
       "interactive(children=(IntSlider(value=15, description='n_data', max=45, min=-15), FloatSlider(value=0.3, continuous_update=False, description='noise', max=0.5, min=0.1, readout_format='.1f'), IntSlider(value=16, continuous_update=False, description='neurons', max=32), IntSlider(value=240, continuous_update=False, description='epochs', max=800, min=10, step=10), FloatSlider(value=0.1, continuous_update=False, description='lr', max=0.1, min=0.01, readout_format='.3f', step=0.01), FloatSlider(value=0.0, continuous_update=False, description='L2_reg', max=0.005, readout_format='.4f', step=0.0001), Checkbox(value=False, description='t_train'), Checkbox(value=False, description='t_test'), Output()), _dom_classes=('widget-interact',))"
      ]
     },
     "metadata": {},
     "output_type": "display_data"
    }
   ],
   "source": [
    "showIt(epochs=240)"
   ]
  },
  {
   "cell_type": "markdown",
   "metadata": {},
   "source": [
    "## Regularização L2"
   ]
  },
  {
   "cell_type": "markdown",
   "metadata": {},
   "source": [
    "$$\\Large E(\\boldsymbol{w})=\\frac{1}{2}\\sum_{n=1}^N\\{\\hat{y}(x_n,\\boldsymbol{w})-y_n\\}^2 +\\frac{\\lambda}{2}||\\boldsymbol{W}||^2$$"
   ]
  },
  {
   "cell_type": "code",
   "execution_count": 9,
   "metadata": {},
   "outputs": [
    {
     "data": {
      "application/vnd.jupyter.widget-view+json": {
       "model_id": "0a8f28eee75e4d5db7845e2df4a658a3",
       "version_major": 2,
       "version_minor": 0
      },
      "text/html": [
       "<p>Failed to display Jupyter Widget of type <code>interactive</code>.</p>\n",
       "<p>\n",
       "  If you're reading this message in Jupyter Notebook or JupyterLab, it may mean\n",
       "  that the widgets JavaScript is still loading. If this message persists, it\n",
       "  likely means that the widgets JavaScript library is either not installed or\n",
       "  not enabled. See the <a href=\"https://ipywidgets.readthedocs.io/en/stable/user_install.html\">Jupyter\n",
       "  Widgets Documentation</a> for setup instructions.\n",
       "</p>\n",
       "<p>\n",
       "  If you're reading this message in another notebook frontend (for example, a static\n",
       "  rendering on GitHub or <a href=\"https://nbviewer.jupyter.org/\">NBViewer</a>),\n",
       "  it may mean that your frontend doesn't currently support widgets.\n",
       "</p>\n"
      ],
      "text/plain": [
       "interactive(children=(IntSlider(value=15, description='n_data', max=45, min=-15), FloatSlider(value=0.3, continuous_update=False, description='noise', max=0.5, min=0.1, readout_format='.1f'), IntSlider(value=16, continuous_update=False, description='neurons', max=32), IntSlider(value=400, continuous_update=False, description='epochs', max=800, min=10, step=10), FloatSlider(value=0.1, continuous_update=False, description='lr', max=0.1, min=0.01, readout_format='.3f', step=0.01), FloatSlider(value=0.001, continuous_update=False, description='L2_reg', max=0.005, readout_format='.4f', step=0.0001), Checkbox(value=False, description='t_train'), Checkbox(value=False, description='t_test'), Output()), _dom_classes=('widget-interact',))"
      ]
     },
     "metadata": {},
     "output_type": "display_data"
    }
   ],
   "source": [
    "showIt(L2_reg=0.001)"
   ]
  },
  {
   "cell_type": "markdown",
   "metadata": {},
   "source": [
    "## Histograma dos pesos"
   ]
  },
  {
   "cell_type": "code",
   "execution_count": 10,
   "metadata": {},
   "outputs": [
    {
     "data": {
      "image/png": "[encoded data removed]",
      "text/plain": [
       "<matplotlib.figure.Figure at 0x7f19a61df828>"
      ]
     },
     "metadata": {},
     "output_type": "display_data"
    }
   ],
   "source": [
    "ww = torch.cat([p[1].view(-1) for p in model.named_parameters() if p[0].endswith('weight')])\n",
    "bb = torch.cat([p[1].view(-1) for p in model.named_parameters() if p[0].endswith('bias')])\n",
    "plt.hist(ww.data.numpy())\n",
    "plt.hist(bb.data.numpy());"
   ]
  },
  {
   "cell_type": "markdown",
   "metadata": {},
   "source": [
    "# Exercícios"
   ]
  },
  {
   "cell_type": "markdown",
   "metadata": {},
   "source": [
    "1. Acesse a página http://playground.tensorflow.org e utilizando apenas 2 entradas (x1 e x2), procure variar os\n",
    "diversos parâmetros:\n",
    "    - número de camadas\n",
    "    - número de neurônios em cada camada\n",
    "    - tipo de ativação\n",
    "    - escolha do dataset\n",
    "    - learning rate\n",
    "    - fator de regularização\n",
    "    \n",
    "para conseguir separar as classes dos vários tipos dos datasets.\n",
    "\n",
    "    "
   ]
  }
 ],
 "metadata": {
  "kernelspec": {
   "display_name": "Python 3",
   "language": "python",
   "name": "python3"
  },
  "language_info": {
   "codemirror_mode": {
    "name": "ipython",
    "version": 3
   },
   "file_extension": ".py",
   "mimetype": "text/x-python",
   "name": "python",
   "nbconvert_exporter": "python",
   "pygments_lexer": "ipython3",
   "version": "3.6.2"
  },
  "latex_envs": {
   "LaTeX_envs_menu_present": true,
   "autocomplete": true,
   "bibliofile": "biblio.bib",
   "cite_by": "apalike",
   "current_citInitial": 1,
   "eqLabelWithNumbers": true,
   "eqNumInitial": 1,
   "hotkeys": {
    "equation": "Ctrl-E",
    "itemize": "Ctrl-I"
   },
   "labels_anchors": false,
   "latex_user_defs": false,
   "report_style_numbering": false,
   "user_envs_cfg": false
  },
  "toc": {
   "nav_menu": {
    "height": "174px",
    "width": "252px"
   },
   "number_sections": true,
   "sideBar": true,
   "skip_h1_title": false,
   "toc_cell": false,
   "toc_position": {},
   "toc_section_display": "block",
   "toc_window_display": false
  },
  "widgets": {
   "state": {
    "7578d0381dee4937bc3091f06a43b7f6": {
     "views": [
      {
       "cell_index": 18
      }
     ]
    },
    "85f812ea6a7d4e8997a5df1ecceb5fa8": {
     "views": [
      {
       "cell_index": 11
      }
     ]
    },
    "95e781b3eb5247c4896d2f69a0bd2293": {
     "views": [
      {
       "cell_index": 13
      }
     ]
    },
    "a7c60d0e61e54e819eef6bdb7583424f": {
     "views": [
      {
       "cell_index": 15
      }
     ]
    }
   },
   "version": "1.2.0"
  }
 },
 "nbformat": 4,
 "nbformat_minor": 2
}
