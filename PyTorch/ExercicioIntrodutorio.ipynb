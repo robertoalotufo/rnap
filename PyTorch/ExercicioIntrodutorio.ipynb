{
  "cells": [
    {
      "cell_type": "markdown",
      "metadata": {
        "id": "_dnH6Tq_dT4a"
      },
      "source": [
        "# Curso Deep Learning - Exercício pré-curso Python - NumPy"
      ]
    },
    {
      "cell_type": "markdown",
      "metadata": {
        "id": "kwX0ennWdT4c"
      },
      "source": [
        "Este é um notebook Jupyter contendo exercícios de programação matricial utilizando o Python e biblioteca NumPy.\n",
        "Estes exercícios servem para verificar os conhecimentos da linguagem Python para manipulação matricial com a biblioteca NumPy.\n",
        "\n",
        "Esta lista de exercício é um guia de estudo. Para fazer os exercícios será necessário estudar o Python e NumPy, consultar documentação e tutoriais disponíveis na Internet.\n",
        "\n",
        "É um notebook que serve como guia de estudos também."
      ]
    },
    {
      "cell_type": "markdown",
      "metadata": {
        "id": "1Zq3stobdT4c"
      },
      "source": [
        "### Python"
      ]
    },
    {
      "cell_type": "markdown",
      "metadata": {
        "id": "ookZQ4nydT4d"
      },
      "source": [
        "Estes exercícios devem ser feitos com o Python 3.\n",
        "Recomenda-se utilizar o Google Colab para fazer esses exercícios (https://colab.research.google.com/)  ou instalar o Jupyter e o Python utilizando-se o [Anaconda](https://www.continuum.io/downloads) - uma distribuição focada em Data Science, contendo os principais pacotes usados nesta área."
      ]
    },
    {
      "cell_type": "markdown",
      "metadata": {
        "id": "YbMXCNvydT4d"
      },
      "source": [
        "### Jupyter notebook"
      ]
    },
    {
      "cell_type": "markdown",
      "metadata": {
        "id": "32UoXY3BdT4d"
      },
      "source": [
        "Este é um Notebook Jupyter. Um notebook Jupyter é uma mistura de linguagem Markdown para formatar texto (como uma Wiki) e um programa Python. É muito usado entre as pessoas que trabalham com Data Science e Machine Learning em Python.\n",
        "\n",
        "Se utilizar o Jupyter notebook, instale o Jupyter nbextensions que é um conjunto de ferramentas auxiliares. Habilite o \"Table of Contents\" do nbextensions para que este notebook fique itemizado. Para o Google Colab, não é possível instalar o nbextensions."
      ]
    },
    {
      "cell_type": "markdown",
      "metadata": {
        "id": "1gvxR0dodT4d"
      },
      "source": [
        "Você pode adicionar quantas células quiser neste notebook para deixar suas respostas bem organizadas."
      ]
    },
    {
      "cell_type": "markdown",
      "metadata": {
        "id": "aX_klE4gdT4e"
      },
      "source": [
        "# Exercícios básicos"
      ]
    },
    {
      "cell_type": "markdown",
      "metadata": {
        "id": "a3-22puPdT4e"
      },
      "source": [
        "Vamos começar! Comece imprimindo seu nome e e-mail aqui:"
      ]
    },
    {
      "cell_type": "code",
      "execution_count": null,
      "metadata": {
        "ExecuteTime": {
          "end_time": "2019-12-10T17:56:39.571965Z",
          "start_time": "2019-12-10T17:56:39.553102Z"
        },
        "id": "xYalCCFidT4e"
      },
      "outputs": [],
      "source": [
        "# preencha com seus dados\n",
        "print('My name is ')\n",
        "print('My email is ')"
      ]
    },
    {
      "cell_type": "markdown",
      "metadata": {
        "id": "q3toQgSndT4f"
      },
      "source": [
        "## Listas"
      ]
    },
    {
      "cell_type": "markdown",
      "metadata": {
        "ExecuteTime": {
          "end_time": "2017-07-11T19:32:04.310368",
          "start_time": "2017-07-11T19:32:04.302283"
        },
        "id": "8vIloyE0dT4f"
      },
      "source": [
        "Iremos utilizar muitas listas no curso Deep Learning.\n",
        "Seguem alguns exercícios com lista. Python é muito bom para processar listas. Uma lista é uma sequência de elementos \n",
        "separados por vírgula dentro de chaves:"
      ]
    },
    {
      "cell_type": "code",
      "execution_count": null,
      "metadata": {
        "ExecuteTime": {
          "end_time": "2019-12-10T17:56:39.584119Z",
          "start_time": "2019-12-10T17:56:39.577266Z"
        },
        "id": "_9O5zi6gdT4f"
      },
      "outputs": [],
      "source": [
        "mylist = [5, 8, 'abc', 0, 8.3]"
      ]
    },
    {
      "cell_type": "markdown",
      "metadata": {
        "ExecuteTime": {
          "end_time": "2017-07-11T19:20:42.951254",
          "start_time": "2017-07-11T19:20:42.947609"
        },
        "id": "PAfwBLNrdT4f"
      },
      "source": [
        "### Imprimindo o número de elementos de uma `mylist` e alguns de seus elementos. Veja como isso pode ser feito."
      ]
    },
    {
      "cell_type": "code",
      "execution_count": null,
      "metadata": {
        "ExecuteTime": {
          "end_time": "2019-12-10T17:56:39.600238Z",
          "start_time": "2019-12-10T17:56:39.589826Z"
        },
        "id": "fiMDMOaAdT4g"
      },
      "outputs": [],
      "source": [
        "print(len(mylist))\n",
        "print(mylist[0])\n",
        "print(mylist[-1])  # observe o índice -1 (o que isso significa?)"
      ]
    },
    {
      "cell_type": "markdown",
      "metadata": {
        "id": "sVyp0AbvdT4g"
      },
      "source": [
        "## Seja uma lista de 10 elementos numéricos sequenciais, começando em zero"
      ]
    },
    {
      "cell_type": "markdown",
      "metadata": {
        "id": "9dtZjQl7dT4g"
      },
      "source": [
        "O código a seguir é típico para criar uma lista com os 10 primeiros inteiros maiores ou iguais a zero: inicializa-se lista vazia, para cada i entre 0 e menor que 10, faz append na lista a:"
      ]
    },
    {
      "cell_type": "code",
      "execution_count": null,
      "metadata": {
        "ExecuteTime": {
          "end_time": "2019-12-10T17:56:39.613751Z",
          "start_time": "2019-12-10T17:56:39.604994Z"
        },
        "id": "zHljouEadT4g"
      },
      "outputs": [],
      "source": [
        "a = []\n",
        "for i in range(10):\n",
        "    a.append(i)\n",
        "print(a)"
      ]
    },
    {
      "cell_type": "markdown",
      "metadata": {
        "id": "GeeoSy36dT4g"
      },
      "source": [
        "## List Comprehension"
      ]
    },
    {
      "cell_type": "markdown",
      "metadata": {
        "id": "kXF15wFXdT4g"
      },
      "source": [
        "Esta mesma lista pode ser criada utilizando a construção denominada \"List Comprehension\" ou\n",
        "\"Compreensão de Lista\" em portugues. Coloque este termo no Google adicionando python na frente na forma:\n",
        "\"python comprehension list\" e você poderá ver vários exemplos e tutoriais sobre o assunto. É uma forma compacta que fazer um append iterativo numa lista:\n",
        "\n",
        "Veja como o trecho acima foi reduzido para uma linha apenas:"
      ]
    },
    {
      "cell_type": "code",
      "execution_count": null,
      "metadata": {
        "ExecuteTime": {
          "end_time": "2019-12-10T17:56:39.624474Z",
          "start_time": "2019-12-10T17:56:39.616642Z"
        },
        "id": "RdE2bIqvdT4g"
      },
      "outputs": [],
      "source": [
        "a = [i for i in range(10)]\n",
        "print(a)"
      ]
    },
    {
      "cell_type": "markdown",
      "metadata": {
        "id": "zeB0CtLbdT4h"
      },
      "source": [
        "### Analise o trecho de programa a seguir:"
      ]
    },
    {
      "cell_type": "code",
      "execution_count": null,
      "metadata": {
        "ExecuteTime": {
          "end_time": "2019-12-10T17:56:39.643842Z",
          "start_time": "2019-12-10T17:56:39.628664Z"
        },
        "id": "EYHd4rVHdT4h"
      },
      "outputs": [],
      "source": [
        "m_list = ['r', 'i', 'c', 'a', 'r', 'd', 'o']\n",
        "new_list = []\n",
        "for k,item in enumerate(m_list):\n",
        "    new_list.append(str(k) + item)\n",
        "print(new_list)"
      ]
    },
    {
      "cell_type": "markdown",
      "metadata": {
        "id": "luSajRm_dT4h"
      },
      "source": [
        "- Explique o que o enumerate faz no programa acima:\n",
        "\n",
        "Explicação:"
      ]
    },
    {
      "cell_type": "markdown",
      "metadata": {
        "id": "h8Ylth1-dT4h"
      },
      "source": [
        "### Repita o mesmo trecho acima de criar a lista new_list, porém utilizando list comprehension:\n",
        "   "
      ]
    },
    {
      "cell_type": "code",
      "execution_count": null,
      "metadata": {
        "ExecuteTime": {
          "end_time": "2019-12-10T17:56:39.657736Z",
          "start_time": "2019-12-10T17:56:39.650100Z"
        },
        "id": "i7NRlbNndT4h"
      },
      "outputs": [],
      "source": [
        "m_list = ['r', 'i', 'c', 'a', 'r', 'd', 'o']\n",
        "n_list = [] # utilize aqui o list comprehension"
      ]
    },
    {
      "cell_type": "markdown",
      "metadata": {
        "id": "1tPOTa_-dT4h"
      },
      "source": [
        "## Fatiamento em Python"
      ]
    },
    {
      "cell_type": "markdown",
      "metadata": {
        "id": "BU845Y2bdT4h"
      },
      "source": [
        "Um conceito fundamental em Python é o do fatiamento \"slicing\", em inglês. É um conceito que será muito usado\n",
        "durante todo o curso. Estude bem isso. Inicialmente iremos trabalhar com fatiamento de lista, mas posteriormente\n",
        "com arrays (ou tensores) utilizando o NumPy"
      ]
    },
    {
      "cell_type": "code",
      "execution_count": null,
      "metadata": {
        "ExecuteTime": {
          "end_time": "2019-12-10T17:56:39.666017Z",
          "start_time": "2019-12-10T17:56:39.661198Z"
        },
        "id": "-bawGtBSdT4h"
      },
      "outputs": [],
      "source": [
        "print(a[3:5])"
      ]
    },
    {
      "cell_type": "markdown",
      "metadata": {
        "id": "adUx0T_gdT4h"
      },
      "source": [
        "### Veja como criar e imprimir uma lista a partir da lista \"a\" já criada, porém apenas alguns elementos"
      ]
    },
    {
      "cell_type": "code",
      "execution_count": null,
      "metadata": {
        "ExecuteTime": {
          "end_time": "2019-12-10T17:56:39.676947Z",
          "start_time": "2019-12-10T17:56:39.670923Z"
        },
        "id": "YsbZX9BVdT4h"
      },
      "outputs": [],
      "source": [
        "# imprima os elementos ímpares de a\n",
        "print(a[:])\n",
        "# imprima os elementos pares de a\n",
        "print(a[:])\n",
        "# imprima os últimos 3 elementos da lista (utilize índice negativo, pesquise na Internet)\n",
        "print(a[:])\n",
        "# Imprima os 3 primeiros elementos da lista (veja quando é possível ignorar valores iniciais e finais)\n",
        "print(a[:])"
      ]
    },
    {
      "cell_type": "markdown",
      "metadata": {
        "ExecuteTime": {
          "end_time": "2017-11-24T10:48:33.572314",
          "start_time": "2017-11-24T10:48:33.568302"
        },
        "id": "uU8BwHVEdT4h"
      },
      "source": [
        "### Veja o significado do passo, i.e. o terceiro parâmetro do \"fatiamento\":"
      ]
    },
    {
      "cell_type": "code",
      "execution_count": null,
      "metadata": {
        "ExecuteTime": {
          "end_time": "2019-12-10T17:56:39.685197Z",
          "start_time": "2019-12-10T17:56:39.680220Z"
        },
        "id": "z2D72NfQdT4h"
      },
      "outputs": [],
      "source": [
        "print(a[::2])\n",
        "print(a[::-1])"
      ]
    },
    {
      "cell_type": "markdown",
      "metadata": {
        "ExecuteTime": {
          "end_time": "2017-11-24T10:48:33.577743",
          "start_time": "2017-11-24T10:48:33.574177"
        },
        "id": "O0ekrY0TdT4i"
      },
      "source": [
        "### Exercício: Imprima os elementos ímpares na order reversa, do maior para o menor"
      ]
    },
    {
      "cell_type": "code",
      "execution_count": null,
      "metadata": {
        "ExecuteTime": {
          "end_time": "2019-12-10T17:56:39.692699Z",
          "start_time": "2019-12-10T17:56:39.688201Z"
        },
        "id": "H8mk_rEadT4i"
      },
      "outputs": [],
      "source": [
        "print(a[:])"
      ]
    },
    {
      "cell_type": "markdown",
      "metadata": {
        "id": "LULJ0fk_dT4i"
      },
      "source": [
        "## Tuplas"
      ]
    },
    {
      "cell_type": "markdown",
      "metadata": {
        "id": "3kx09eF-dT4i"
      },
      "source": [
        "Dominar o conceito de tuplas é importante pois tuplas são estruturas muito utilizadas no Python."
      ]
    },
    {
      "cell_type": "code",
      "execution_count": null,
      "metadata": {
        "ExecuteTime": {
          "end_time": "2019-12-10T17:56:39.700112Z",
          "start_time": "2019-12-10T17:56:39.695877Z"
        },
        "id": "6LIkVSR1dT4i"
      },
      "outputs": [],
      "source": [
        "b = tuple(a)\n",
        "print(b)"
      ]
    },
    {
      "cell_type": "markdown",
      "metadata": {
        "id": "is87zmEKdT4i"
      },
      "source": [
        "### Responda: A principal diferença entre uma lista e uma tupla é:\n",
        "\n",
        "Resposta: "
      ]
    },
    {
      "cell_type": "markdown",
      "metadata": {
        "id": "OHKzrlNMdT4i"
      },
      "source": [
        "# Dicionários em Python"
      ]
    },
    {
      "cell_type": "markdown",
      "metadata": {
        "id": "ZKM5yrCldT4i"
      },
      "source": [
        "Python possui uma estrutura de dados muito versátil denominada dicionário.\n",
        "No curso Deep Learning, os parâmetros da rede neural serão armazenadas na forma de dicionário. Veja a seguir alguns exemplos de uso de dicionários:"
      ]
    },
    {
      "cell_type": "code",
      "execution_count": null,
      "metadata": {
        "ExecuteTime": {
          "end_time": "2019-12-10T17:56:39.708263Z",
          "start_time": "2019-12-10T17:56:39.702983Z"
        },
        "id": "sOncQKNSdT4i"
      },
      "outputs": [],
      "source": [
        "rob_record = {'nome': 'Roberto', 'idade': 18}\n",
        "print(rob_record['nome'])"
      ]
    },
    {
      "cell_type": "code",
      "execution_count": null,
      "metadata": {
        "ExecuteTime": {
          "end_time": "2019-12-10T17:56:39.719554Z",
          "start_time": "2019-12-10T17:56:39.711199Z"
        },
        "id": "RuKkCcnRdT4i"
      },
      "outputs": [],
      "source": [
        "rob_record['idade'] = 20\n",
        "print(rob_record)"
      ]
    },
    {
      "cell_type": "markdown",
      "metadata": {
        "id": "2uGhyxkFdT4i"
      },
      "source": [
        "Lista de dicionários:"
      ]
    },
    {
      "cell_type": "code",
      "execution_count": null,
      "metadata": {
        "ExecuteTime": {
          "end_time": "2019-12-10T17:56:39.726559Z",
          "start_time": "2019-12-10T17:56:39.722628Z"
        },
        "id": "ksvxw8MAdT4i"
      },
      "outputs": [],
      "source": [
        "records = [{'nome':'Alfredo', 'idade': 23},\n",
        "           {'nome':'Fernanda', 'idade': 16},\n",
        "           {'nome':'Carla', 'idade':33}]"
      ]
    },
    {
      "cell_type": "markdown",
      "metadata": {
        "ExecuteTime": {
          "end_time": "2017-11-24T10:48:33.603575",
          "start_time": "2017-11-24T10:48:33.601007"
        },
        "collapsed": true,
        "id": "VnR_JB5DdT4i"
      },
      "source": [
        "### Exercício: Acesse o nome da Fernanda: complete e descomente a linha a seguir"
      ]
    },
    {
      "cell_type": "code",
      "execution_count": null,
      "metadata": {
        "ExecuteTime": {
          "end_time": "2019-12-10T17:56:39.733629Z",
          "start_time": "2019-12-10T17:56:39.730430Z"
        },
        "id": "FjUvY91xdT4i"
      },
      "outputs": [],
      "source": [
        "#print(records[][])"
      ]
    },
    {
      "cell_type": "markdown",
      "metadata": {
        "ExecuteTime": {
          "end_time": "2017-11-24T10:48:33.609929",
          "start_time": "2017-11-24T10:48:33.605371"
        },
        "id": "e9LcyvPldT4i"
      },
      "source": [
        "### Exercício: crie uma lista com todos os nomes da lista records.\n",
        "\n",
        "O resultado deve ser uma lista ['Alfredo', 'Fernanda', 'Carla']"
      ]
    },
    {
      "cell_type": "code",
      "execution_count": null,
      "metadata": {
        "ExecuteTime": {
          "end_time": "2019-12-10T17:56:39.741401Z",
          "start_time": "2019-12-10T17:56:39.736656Z"
        },
        "id": "S6TwNleXdT4i"
      },
      "outputs": [],
      "source": [
        "# 1. Utilizando a forma tradicional de criar lista com append\n",
        "# porém sem utilizar o for i in range()\n",
        "nlist = []\n",
        "#for  :\n",
        "#    nlist.append()\n",
        "print(nlist)"
      ]
    },
    {
      "cell_type": "code",
      "execution_count": null,
      "metadata": {
        "ExecuteTime": {
          "end_time": "2019-12-10T17:56:39.747944Z",
          "start_time": "2019-12-10T17:56:39.744532Z"
        },
        "id": "3RqZC8-FdT4j"
      },
      "outputs": [],
      "source": [
        "# 2. Utilizando a forma de list comprehension\n",
        "#nlist2 = [ for ]\n",
        "#print(nlist2)"
      ]
    },
    {
      "cell_type": "markdown",
      "metadata": {
        "id": "hPJYQ7IfdT4j"
      },
      "source": [
        "# Exercícios usando NumPy"
      ]
    },
    {
      "cell_type": "markdown",
      "metadata": {
        "id": "-ZQbfKeudT4j"
      },
      "source": [
        "Os seguintes exercícios devem usar apenas o pacote NumPy.\n",
        "Não se deve utilizar nenhum outro pacote adicional.\n",
        "O NumPy é o pacote que ter o Python apropriado para programação científica.\n",
        "A programação eficiente de matrizes multidimensionais (arrays ou tensores) é\n",
        "feita através do conceito de programação matricial que evita o uso de laços\n",
        "e iterações nos elementos da matriz.\n",
        "\n",
        "Existem vários exemplos de uso de NumPy no conjunto de\n",
        "notebooks tutorias disponíveis no GitHub:\n",
        "- https://github.com/robertoalotufo/ia898/blob/master/master/0_index.ipynb"
      ]
    },
    {
      "cell_type": "code",
      "execution_count": null,
      "metadata": {
        "ExecuteTime": {
          "end_time": "2019-12-10T17:56:40.132948Z",
          "start_time": "2019-12-10T17:56:39.750654Z"
        },
        "id": "0KYbvYtodT4j"
      },
      "outputs": [],
      "source": [
        "import numpy as np"
      ]
    },
    {
      "cell_type": "markdown",
      "metadata": {
        "id": "HWUYBtQKdT4j"
      },
      "source": [
        "Veja como é possível criar um array unidimensional e depois reformatá-lo para ser acessado como array bidimensional:"
      ]
    },
    {
      "cell_type": "code",
      "execution_count": null,
      "metadata": {
        "ExecuteTime": {
          "end_time": "2019-12-10T17:56:40.162562Z",
          "start_time": "2019-12-10T17:56:40.137973Z"
        },
        "id": "apenjTwedT4j"
      },
      "outputs": [],
      "source": [
        "array = np.arange(10)\n",
        "print(array)\n",
        "print(array.shape)"
      ]
    },
    {
      "cell_type": "code",
      "execution_count": null,
      "metadata": {
        "ExecuteTime": {
          "end_time": "2019-12-10T17:56:40.182478Z",
          "start_time": "2019-12-10T17:56:40.169365Z"
        },
        "id": "QrHXK9SKdT4j"
      },
      "outputs": [],
      "source": [
        "A = np.arange(24).reshape(4,6)\n",
        "print(A)\n",
        "print(A.shape)"
      ]
    },
    {
      "cell_type": "markdown",
      "metadata": {
        "id": "4ty3wT7SdT4j"
      },
      "source": [
        "### Exercício: imprimindo rows, cols, dimensions, shape and datatype"
      ]
    },
    {
      "cell_type": "code",
      "execution_count": null,
      "metadata": {
        "ExecuteTime": {
          "end_time": "2019-12-10T17:56:40.199596Z",
          "start_time": "2019-12-10T17:56:40.186175Z"
        },
        "id": "p2GDapY6dT4j"
      },
      "outputs": [],
      "source": [
        "# imprima o número de linhas de A\n",
        "print()\n",
        "# imprima o número de colunas de A\n",
        "print()\n",
        "# imprima o número de dimensões de A\n",
        "print()\n",
        "# imprima o shape de A:\n",
        "print()\n",
        "# imprima o tipo de dados (dtype) dos elementos de A:\n",
        "print()"
      ]
    },
    {
      "cell_type": "markdown",
      "metadata": {
        "id": "WCrAiVNedT4j"
      },
      "source": [
        "### Reshape"
      ]
    },
    {
      "cell_type": "code",
      "execution_count": null,
      "metadata": {
        "ExecuteTime": {
          "end_time": "2019-12-10T17:56:40.214464Z",
          "start_time": "2019-12-10T17:56:40.206759Z"
        },
        "id": "uaQRuq2vdT4j"
      },
      "outputs": [],
      "source": [
        "# Seja o vetor unidimension a:\n",
        "a = np.array([1,2,3,4])\n",
        "print(a, a.shape)"
      ]
    },
    {
      "cell_type": "markdown",
      "metadata": {
        "ExecuteTime": {
          "end_time": "2017-11-24T10:48:34.537220",
          "start_time": "2017-11-24T10:48:34.531910"
        },
        "id": "qJ7k04SAdT4j"
      },
      "source": [
        "### Exercício: Converta o vetor unidimensional a em uma matriz vetor coluna (4 linhas e 1 coluna) utilizando reshape"
      ]
    },
    {
      "cell_type": "code",
      "execution_count": null,
      "metadata": {
        "ExecuteTime": {
          "end_time": "2019-12-10T17:56:40.231358Z",
          "start_time": "2019-12-10T17:56:40.220830Z"
        },
        "id": "K5GjVG9KdT4j"
      },
      "outputs": [],
      "source": [
        "a = a\n",
        "print(a)"
      ]
    },
    {
      "cell_type": "markdown",
      "metadata": {
        "id": "4jS9_XAydT4j"
      },
      "source": [
        "## Cópia por referência, cópia rasa e cópia profunda\n",
        "\n",
        "Explique a diferença entre estes 3 tipos de cópias e dê um exemplo de cada uma.\n",
        "**Resposta**:\n"
      ]
    },
    {
      "cell_type": "code",
      "execution_count": null,
      "metadata": {
        "ExecuteTime": {
          "end_time": "2019-12-10T17:56:40.242710Z",
          "start_time": "2019-12-10T17:56:40.236135Z"
        },
        "id": "L6pF9yACdT4j"
      },
      "outputs": [],
      "source": [
        "# Exercício\n",
        "# Indique para cada uma das expressões a seguir se a cópia é por referência, rasa ou profunda\n",
        "x = a # cópia ?\n",
        "y = a[:2] # cópia ?\n",
        "z = a.reshape(4,1) # cópia ?\n",
        "zz = a.copy() # cópia ?"
      ]
    },
    {
      "cell_type": "code",
      "execution_count": null,
      "metadata": {
        "ExecuteTime": {
          "end_time": "2019-12-10T17:56:40.257657Z",
          "start_time": "2019-12-10T17:56:40.248201Z"
        },
        "id": "jEu_Ax0SdT4j"
      },
      "outputs": [],
      "source": [
        "# Explique o valor dos resultados:\n",
        "z[0,0] = 5\n",
        "print(a) # explique:\n",
        "y[1] = 6\n",
        "print(a) # explique:\n",
        "zz[0] = 7\n",
        "print(a) # explique:"
      ]
    },
    {
      "cell_type": "markdown",
      "metadata": {
        "id": "EaDYyvwVdT4j"
      },
      "source": [
        "## Operações aritméticas"
      ]
    },
    {
      "cell_type": "code",
      "execution_count": null,
      "metadata": {
        "ExecuteTime": {
          "end_time": "2019-12-10T17:56:40.295188Z",
          "start_time": "2019-12-10T17:56:40.264886Z"
        },
        "id": "3MP1mKTbdT4j"
      },
      "outputs": [],
      "source": [
        "B = A + 10\n",
        "B"
      ]
    },
    {
      "cell_type": "markdown",
      "metadata": {
        "id": "-sH2HqhldT4k"
      },
      "source": [
        "### Array binário (booleano)"
      ]
    },
    {
      "cell_type": "markdown",
      "metadata": {
        "ExecuteTime": {
          "end_time": "2017-11-24T10:48:34.559435",
          "start_time": "2017-11-24T10:48:34.555288"
        },
        "id": "FV9rhgCLdT4k"
      },
      "source": [
        "#### Exercício: Crie uma matriz booleana C com True nos elementos de B menores que 18 (não utilize loop explícito)"
      ]
    },
    {
      "cell_type": "code",
      "execution_count": null,
      "metadata": {
        "ExecuteTime": {
          "end_time": "2019-12-10T17:56:40.304894Z",
          "start_time": "2019-12-10T17:56:40.297941Z"
        },
        "id": "rr93sQLcdT4k"
      },
      "outputs": [],
      "source": [
        "C = B # modify your code here\n",
        "print(C)"
      ]
    },
    {
      "cell_type": "markdown",
      "metadata": {
        "id": "T7ipzuqGdT4k"
      },
      "source": [
        "## Indexação booleana"
      ]
    },
    {
      "cell_type": "markdown",
      "metadata": {
        "id": "BrfdugthdT4k"
      },
      "source": [
        "### Exercício: explique o comando a seguir de indexação booleana\n",
        "\n",
        "Explicação:"
      ]
    },
    {
      "cell_type": "code",
      "execution_count": null,
      "metadata": {
        "ExecuteTime": {
          "end_time": "2019-12-10T17:56:40.321735Z",
          "start_time": "2019-12-10T17:56:40.311748Z"
        },
        "id": "iu3sin-NdT4k"
      },
      "outputs": [],
      "source": [
        "A[B < 18]"
      ]
    },
    {
      "cell_type": "markdown",
      "metadata": {
        "id": "vckXVBK2dT4k"
      },
      "source": [
        "Veja um programa que cria matriz D_loop a partir da matriz B, porém trocando os elementos menores que 18 por seus valores negativos"
      ]
    },
    {
      "cell_type": "code",
      "execution_count": null,
      "metadata": {
        "ExecuteTime": {
          "end_time": "2019-12-10T17:56:40.334686Z",
          "start_time": "2019-12-10T17:56:40.325194Z"
        },
        "id": "HAmR0BlAdT4k"
      },
      "outputs": [],
      "source": [
        "D_loop = B.copy()\n",
        "for row in np.arange(B.shape[0]):\n",
        "    for col in np.arange(B.shape[1]):\n",
        "        if B[row,col] < 18:\n",
        "            D_loop[row,col] = - B[row,col]\n",
        "print(D_loop)"
      ]
    },
    {
      "cell_type": "markdown",
      "metadata": {
        "id": "s_qiRHjTdT4k"
      },
      "source": [
        "### Exercício: Troque o corpo do laço do programa acima por uma única linha sem loop"
      ]
    },
    {
      "cell_type": "code",
      "execution_count": null,
      "metadata": {
        "ExecuteTime": {
          "end_time": "2019-12-10T17:56:40.346397Z",
          "start_time": "2019-12-10T17:56:40.337666Z"
        },
        "id": "EITAfkYVdT4k"
      },
      "outputs": [],
      "source": [
        "D = B   # << modifique aqui utilizando indexação booleana\n",
        "print(D)"
      ]
    },
    {
      "cell_type": "markdown",
      "metadata": {
        "id": "Y6dzgW1NdT4k"
      },
      "source": [
        "## Redução de eixo: soma"
      ]
    },
    {
      "cell_type": "markdown",
      "metadata": {
        "id": "crOZuLevdT4k"
      },
      "source": [
        "Operações matriciais de redução de eixo são muito úteis e importantes.\n",
        "É um conceito importante da programação matricial.\n",
        "\n",
        "Estude o exemplo a seguir:"
      ]
    },
    {
      "cell_type": "code",
      "execution_count": null,
      "metadata": {
        "ExecuteTime": {
          "end_time": "2019-12-10T17:56:40.360645Z",
          "start_time": "2019-12-10T17:56:40.350099Z"
        },
        "id": "nqO8rb3JdT4k"
      },
      "outputs": [],
      "source": [
        "print(A)\n",
        "print(A.shape)\n",
        "As = A.sum(axis=0)\n",
        "print(As)\n",
        "print(As.shape)"
      ]
    },
    {
      "cell_type": "markdown",
      "metadata": {
        "ExecuteTime": {
          "end_time": "2017-11-24T10:48:34.585861",
          "start_time": "2017-11-24T10:48:34.582054"
        },
        "id": "TBkoaip4dT4k"
      },
      "source": [
        "### Exercício: Explique o funcionamento da soma por redução de eixo. Qual foi a dimensão que desapareceu?\n",
        "\n",
        "Resposta: "
      ]
    },
    {
      "cell_type": "markdown",
      "metadata": {
        "ExecuteTime": {
          "end_time": "2017-11-24T10:48:34.585861",
          "start_time": "2017-11-24T10:48:34.582054"
        },
        "id": "Cw-eVtGLdT4k"
      },
      "source": [
        "### Exercício: calcule o valor médio do array A"
      ]
    },
    {
      "cell_type": "code",
      "execution_count": null,
      "metadata": {
        "ExecuteTime": {
          "end_time": "2019-12-10T17:56:40.372210Z",
          "start_time": "2019-12-10T17:56:40.364380Z"
        },
        "id": "_BTEVdCkdT4k"
      },
      "outputs": [],
      "source": [
        "print()"
      ]
    },
    {
      "cell_type": "markdown",
      "metadata": {
        "id": "NqI9N8MsdT4k"
      },
      "source": [
        "### Exercício: calcule o valor médio das linhas de A:"
      ]
    },
    {
      "cell_type": "code",
      "execution_count": null,
      "metadata": {
        "ExecuteTime": {
          "end_time": "2019-12-10T17:56:40.390105Z",
          "start_time": "2019-12-10T17:56:40.375159Z"
        },
        "id": "QPHDGIkTdT4k"
      },
      "outputs": [],
      "source": [
        "print()"
      ]
    },
    {
      "cell_type": "markdown",
      "metadata": {
        "id": "niSnt-dVdT4k"
      },
      "source": [
        "## Broadcasting"
      ]
    },
    {
      "cell_type": "markdown",
      "metadata": {
        "id": "BY5sN1SydT4k"
      },
      "source": [
        "### Exercício: O que significa o conceito de broadcasting em NumPy?\n",
        "\n",
        "Resposta:"
      ]
    },
    {
      "cell_type": "code",
      "execution_count": null,
      "metadata": {
        "ExecuteTime": {
          "end_time": "2017-11-24T10:48:34.653339",
          "start_time": "2017-11-24T10:48:34.649183"
        },
        "id": "qtAq3M8xdT4k"
      },
      "outputs": [],
      "source": [
        "# Usando o conceito de broadcast, mude o shape do vetor a para que o broadcast possa ocorrer em G = A + a\n",
        "a = np.arange(4)\n",
        "print(a)\n",
        "#G = A + a\n",
        "#print(G)"
      ]
    },
    {
      "cell_type": "markdown",
      "metadata": {
        "id": "h_SUht2odT4k"
      },
      "source": [
        "## Normalização entre 0 e 1"
      ]
    },
    {
      "cell_type": "markdown",
      "metadata": {
        "id": "zPbR4z94dT4k"
      },
      "source": [
        "Seja a matriz $C$ que é a normalização da matriz $A$:\n",
        "$$ C(i,j) = \\frac{A(i,j) - A_{min}}{A_{max} - A_{min}} $$\n",
        "\n",
        "Em programação matricial, não se faz o loop em cada elemento da matriz,\n",
        "mas sim, utiliza-se operações matriciais. Faça o exercício a seguir\n",
        "sem utilizar laços explícitos:"
      ]
    },
    {
      "cell_type": "code",
      "execution_count": null,
      "metadata": {
        "ExecuteTime": {
          "end_time": "2019-12-11T00:00:34.072719Z",
          "start_time": "2019-12-11T00:00:34.036017Z"
        },
        "id": "gGebO6jYdT4k"
      },
      "outputs": [],
      "source": [
        "# Criar a matriz C que é a normalização de A, de modo que os valores de C estejam entre 0 e 1\n",
        "C = A\n",
        "print(C)"
      ]
    },
    {
      "cell_type": "code",
      "execution_count": null,
      "metadata": {
        "ExecuteTime": {
          "end_time": "2019-12-10T17:56:40.413601Z",
          "start_time": "2019-12-10T17:56:40.405056Z"
        },
        "id": "Mn6YFKE7dT4k"
      },
      "outputs": [],
      "source": [
        "# Modificar o exercício anterior, porém agora faça a normalização para cada coluna de A\n",
        "# de modo que as colunas da matriz D estejam entre os valores de 0 a 1.\n",
        "# Dica: utilize o conceito de redução de eixo\n",
        "D = A\n",
        "print(D)"
      ]
    },
    {
      "cell_type": "code",
      "execution_count": null,
      "metadata": {
        "id": "nq2VilKHdT4l"
      },
      "outputs": [],
      "source": [
        "# Modificar o exercício anterior, porém agora faça a normalização para cada linha de A\n",
        "# de modo que as colunas da matriz E estejam entre os valores de 0 a 1.\n",
        "# Dica: utilize o conceito de redução de eixo, porém mantenha o mesmo número de eixos para poder fazer broadcast\n",
        "E = A\n",
        "print(E)"
      ]
    },
    {
      "cell_type": "markdown",
      "metadata": {
        "id": "Q6VDL1PIdT4l"
      },
      "source": [
        "## Fatiamento em arrays (slicing)"
      ]
    },
    {
      "cell_type": "code",
      "execution_count": null,
      "metadata": {
        "ExecuteTime": {
          "end_time": "2019-12-10T17:56:40.424712Z",
          "start_time": "2019-12-10T17:56:40.417272Z"
        },
        "id": "eZb7Fny0dT4l"
      },
      "outputs": [],
      "source": [
        "# esta indexação é chamada fatiamento:\n",
        "AA = A[:,1::2]\n",
        "print(AA)"
      ]
    },
    {
      "cell_type": "code",
      "execution_count": null,
      "metadata": {
        "ExecuteTime": {
          "end_time": "2019-12-10T17:56:40.437872Z",
          "start_time": "2019-12-10T17:56:40.428183Z"
        },
        "id": "BDLerRAMdT4l"
      },
      "outputs": [],
      "source": [
        "# criar a matriz AB apenas com as linhas pares da matriz A, utilizando o conceito de fatiamento:\n",
        "AB = A\n",
        "print(AB)"
      ]
    },
    {
      "cell_type": "code",
      "execution_count": null,
      "metadata": {
        "ExecuteTime": {
          "end_time": "2019-12-10T17:56:40.447762Z",
          "start_time": "2019-12-10T17:56:40.440731Z"
        },
        "id": "BtKmkvHUdT4l"
      },
      "outputs": [],
      "source": [
        "# crie a matriz AC com mesmo shape da matriz A, porém com os elementos na ordem inversa:\n",
        "# trocando a ordem das linhas e das colunas\n",
        "AC = A\n",
        "print(AC)"
      ]
    },
    {
      "cell_type": "markdown",
      "metadata": {
        "id": "zUSW6sJpdT4l"
      },
      "source": [
        "## Produto matricial  (dot product)"
      ]
    },
    {
      "cell_type": "markdown",
      "metadata": {
        "id": "zmXjbrWMdT4l"
      },
      "source": [
        "Calcule a matriz E dada pelo produto matricial entre a matriz A e sua transposta: \n",
        "$$ E = A A^T $$"
      ]
    },
    {
      "cell_type": "code",
      "execution_count": null,
      "metadata": {
        "ExecuteTime": {
          "end_time": "2019-12-10T17:56:40.457617Z",
          "start_time": "2019-12-10T17:56:40.450430Z"
        },
        "id": "Use2Tl1edT4l"
      },
      "outputs": [],
      "source": [
        "E = A # modify your code here\n",
        "print(E)"
      ]
    },
    {
      "cell_type": "code",
      "execution_count": null,
      "metadata": {
        "ExecuteTime": {
          "end_time": "2019-12-10T17:56:40.465257Z",
          "start_time": "2019-12-10T17:56:40.460810Z"
        },
        "id": "ruAtD7n7dT4l"
      },
      "outputs": [],
      "source": [
        "# Descomente a linha e explique\n",
        "# por que a operação de multiplicação dá erro?\n",
        "#Ee = A * A.T"
      ]
    },
    {
      "cell_type": "markdown",
      "metadata": {
        "id": "9TmcgwMFdT4l"
      },
      "source": [
        "## Matrizes multidimensionais"
      ]
    },
    {
      "cell_type": "markdown",
      "metadata": {
        "ExecuteTime": {
          "end_time": "2017-08-27T11:37:19.062565",
          "start_time": "2017-08-27T11:37:18.994081"
        },
        "id": "YU9rEeF6dT4l"
      },
      "source": [
        "Em deep learning, iremos utilizar matrizes multidimensionais\n",
        "que são denominados como arrays no NumPy. PyTorch usa o nome de tensor para\n",
        "suas matrizes multimensionais.\n",
        "\n",
        "Matrizes de dimensões maior que 4 são de difícil intuição. A melhor forma de lidar\n",
        "com elas é observando o seu *shape*."
      ]
    },
    {
      "cell_type": "markdown",
      "metadata": {
        "id": "Q2htpMBsdT4l"
      },
      "source": [
        "### 3-D array"
      ]
    },
    {
      "cell_type": "code",
      "execution_count": null,
      "metadata": {
        "ExecuteTime": {
          "end_time": "2019-12-10T17:56:40.474112Z",
          "start_time": "2019-12-10T17:56:40.468455Z"
        },
        "id": "ATQG2bzCdT4l"
      },
      "outputs": [],
      "source": [
        "F = A.reshape(2,3,4)\n",
        "print(F)"
      ]
    },
    {
      "cell_type": "markdown",
      "metadata": {
        "id": "V6gWNRnBdT4l"
      },
      "source": [
        "#### Indexação"
      ]
    },
    {
      "cell_type": "markdown",
      "metadata": {
        "id": "njVDMis8dT4l"
      },
      "source": [
        "Estude as seguintes indexações:"
      ]
    },
    {
      "cell_type": "code",
      "execution_count": null,
      "metadata": {
        "ExecuteTime": {
          "end_time": "2019-12-10T17:56:52.815469Z",
          "start_time": "2019-12-10T17:56:52.810002Z"
        },
        "id": "561reKaGdT4l"
      },
      "outputs": [],
      "source": [
        "F1 = F[1]\n",
        "print(F1)\n",
        "F2 = F[1,0,:]\n",
        "print(F2)\n",
        "F3 = F[1,0,2]\n",
        "print(F3)\n",
        "F4 = F[1:2,0,2]\n",
        "print(F4)"
      ]
    },
    {
      "cell_type": "code",
      "execution_count": null,
      "metadata": {
        "ExecuteTime": {
          "end_time": "2019-12-10T17:56:54.900989Z",
          "start_time": "2019-12-10T17:56:54.885810Z"
        },
        "id": "JumWB1xsdT4l"
      },
      "outputs": [],
      "source": [
        "print(F1.shape)\n",
        "print(F2.shape)\n",
        "print(F3.shape)\n",
        "print(F4.shape)"
      ]
    },
    {
      "cell_type": "markdown",
      "metadata": {
        "ExecuteTime": {
          "end_time": "2017-11-24T10:48:34.642626",
          "start_time": "2017-11-24T10:48:34.638891"
        },
        "id": "ZKJ4OrC2dT4l"
      },
      "source": [
        "### Exercício: Explique as dimensões de cada array:\n",
        "\n",
        "F1:\n",
        "\n",
        "F2:\n",
        "\n",
        "F3:\n",
        "\n",
        "F4:"
      ]
    },
    {
      "cell_type": "markdown",
      "metadata": {
        "id": "gKvmg6c9dT4l"
      },
      "source": [
        "## Redução de eixo - aplicado a dois eixos simultâneos"
      ]
    },
    {
      "cell_type": "markdown",
      "metadata": {
        "id": "q9-WxifHdT4l"
      },
      "source": [
        "Redução de eixo é quando a operação matricial resulta num array de menores dimensões.\n",
        "Com essas operações, calcula-se estatística de colunas, linhas, etc."
      ]
    },
    {
      "cell_type": "markdown",
      "metadata": {
        "ExecuteTime": {
          "end_time": "2017-11-24T10:48:34.647517",
          "start_time": "2017-11-24T10:48:34.644317"
        },
        "id": "ywHSogMgdT4l"
      },
      "source": [
        "### Exercício: Calcule o valor médio das matrizes F[0] e F[1], com apenas um mean no comando F.mean(??)"
      ]
    },
    {
      "cell_type": "code",
      "execution_count": null,
      "metadata": {
        "ExecuteTime": {
          "end_time": "2017-11-24T10:48:34.647517",
          "start_time": "2017-11-24T10:48:34.644317"
        },
        "id": "ovCEEhd_dT4m"
      },
      "outputs": [],
      "source": [
        "print()"
      ]
    },
    {
      "cell_type": "markdown",
      "metadata": {
        "id": "_Zx4mUKidT4m"
      },
      "source": [
        "## Function - split - dados treino e validação"
      ]
    },
    {
      "cell_type": "markdown",
      "metadata": {
        "id": "JaMqMV-HdT4m"
      },
      "source": [
        "O exercício a seguir é para separar um conjunto de dados (dataset) em dois conjuntos, um\n",
        "de treinamento e outro de validação.\n",
        "\n",
        "\n",
        "Defina uma função que receba como entrada uma matriz, (dataset), onde cada linha é\n",
        "referente a uma amostra e cada coluna referente a um atributo das amostras. O número total de\n",
        "amostras é dado pelas linhas desta matriz.\n",
        "Outro parâmetro de entrada é o fator de split `split_factor`, que é um número real entre 0 e 1. \n",
        "A saída da função são duas matrizes: amostras de treinamento e amostras de validação. \n",
        "A matriz de treinamento contrá o número de linhas dado por `split_factor` vezes o número de amostras.\n",
        "A matriz de validação conterá o restante das amostras."
      ]
    },
    {
      "cell_type": "code",
      "execution_count": null,
      "metadata": {
        "ExecuteTime": {
          "end_time": "2017-11-24T10:48:34.659465",
          "start_time": "2017-11-24T10:48:34.654983"
        },
        "id": "M0a5QNRedT4m"
      },
      "outputs": [],
      "source": [
        "# Entrada, matriz contendo 10 amostras e 9 atributos\n",
        "aa = np.arange(90).reshape(10,9)\n",
        "print(aa)"
      ]
    },
    {
      "cell_type": "code",
      "execution_count": null,
      "metadata": {
        "ExecuteTime": {
          "end_time": "2017-11-24T10:48:34.665589",
          "start_time": "2017-11-24T10:48:34.661245"
        },
        "id": "CNLBsSKodT4m"
      },
      "outputs": [],
      "source": [
        "# Saída da função t,v = split(aa, 0.8)  # utilizado split_factor de 80%\n",
        "t = np.arange(72).reshape(8,9)\n",
        "print(t)"
      ]
    },
    {
      "cell_type": "code",
      "execution_count": null,
      "metadata": {
        "ExecuteTime": {
          "end_time": "2017-11-24T10:48:34.671172",
          "start_time": "2017-11-24T10:48:34.667187"
        },
        "id": "ezUmmH8WdT4m"
      },
      "outputs": [],
      "source": [
        "v = np.arange(72,90).reshape(2,9)\n",
        "print(v)"
      ]
    },
    {
      "cell_type": "code",
      "execution_count": null,
      "metadata": {
        "ExecuteTime": {
          "end_time": "2017-11-24T10:48:34.679672",
          "start_time": "2017-11-24T10:48:34.672840"
        },
        "id": "GPut5ueRdT4m"
      },
      "outputs": [],
      "source": [
        "# Evite o uso de laço explícito\n",
        "# Não utilize outras bibliotecas além do NumPy\n",
        "def split(dados, split_factor):\n",
        "    '''\n",
        "    divide a matriz dados em dois conjuntos:\n",
        "    matriz train: split_factor * n. de linhas de dados\n",
        "    matriz val: (1-split_factor) * n. de linhas de dados\n",
        "    parametros entrada:\n",
        "        dados: matriz de entrada\n",
        "        split_factor: entre 0. e 1. - fator de divisão em duas matrizes\n",
        "    parametros de saída:\n",
        "        train : matriz com as linhas iniciais de dados\n",
        "        val: matriz com as linhas restantes\n",
        "    '''\n",
        "    # insert your code here\n",
        "    train = val = 0\n",
        "    return train, val\n",
        "\n",
        "t,v = split(aa, 0.8)\n",
        "print('t=\\n', t)\n",
        "print('v=\\n', v)"
      ]
    },
    {
      "cell_type": "markdown",
      "metadata": {
        "ExecuteTime": {
          "end_time": "2017-11-24T10:48:34.684472",
          "start_time": "2017-11-24T10:48:34.681557"
        },
        "collapsed": true,
        "id": "3pLxhbhfdT4m"
      },
      "source": [
        "### Exercício: Teste sua função com outros valores"
      ]
    },
    {
      "cell_type": "code",
      "execution_count": null,
      "metadata": {
        "id": "QFiFrN77dT4m"
      },
      "outputs": [],
      "source": [
        ""
      ]
    },
    {
      "cell_type": "markdown",
      "metadata": {
        "collapsed": true,
        "id": "gORRgN5ydT4m"
      },
      "source": [
        "# Programação Orientada a Objetos"
      ]
    },
    {
      "cell_type": "markdown",
      "metadata": {
        "id": "URVwZp99dT4m"
      },
      "source": [
        "Documentação oficial: https://docs.python.org/3/tutorial/classes.html\n",
        "\n",
        "Forma clássica de definição de uma função:"
      ]
    },
    {
      "cell_type": "code",
      "execution_count": null,
      "metadata": {
        "ExecuteTime": {
          "end_time": "2017-11-24T10:48:34.691958",
          "start_time": "2017-11-24T10:48:34.686202"
        },
        "id": "w_nC89EXdT4m"
      },
      "outputs": [],
      "source": [
        "data = np.array([13, 63, 5, 378, 58, 40])\n",
        "\n",
        "def avg(d):\n",
        "    return sum(d)/len(d)\n",
        "    \n",
        "avg(data)"
      ]
    },
    {
      "cell_type": "markdown",
      "metadata": {
        "id": "ft5h_S2UdT4m"
      },
      "source": [
        "## Definição da classe, variáveis, inicialização e método"
      ]
    },
    {
      "cell_type": "markdown",
      "metadata": {
        "id": "OnLy4D43dT4m"
      },
      "source": [
        "Definição da classe `MyAvg`, contendo duas variávels: `id` (compartilhada) e `d`; inicialização e método `avg`.\n",
        "\n",
        "- **Classe** é uma forma de definir um tipo abstrato de dados\n",
        "- **Instância** de uma classe é chamada **objeto**\n",
        "- Operadores ou funções de uma classe são chamados **métodos**\n",
        "- **Variáveis de instância** são variáveis associadas à instância\n",
        "- **Variáveis de classe** são variáveis compartilhada com todas as instâncias da classe\n",
        "\n",
        "O nome de uma classe é usualmente escrita usando *Camel case* enquanto que métodos são\n",
        "escritos com caixa baixa."
      ]
    },
    {
      "cell_type": "code",
      "execution_count": null,
      "metadata": {
        "ExecuteTime": {
          "end_time": "2017-11-24T10:48:34.698207",
          "start_time": "2017-11-24T10:48:34.693790"
        },
        "id": "_nu2kGphdT4m"
      },
      "outputs": [],
      "source": [
        "class MyAvg:\n",
        "    id = 0.33                # variável compartilhada com todas as instâncias\n",
        "    \n",
        "    def __init__(self,data):\n",
        "        self.d = data        # variável associada a cada instância \n",
        "        \n",
        "    def avg(self): # método para calcular a média\n",
        "        return sum(self.d)/len(self.d)"
      ]
    },
    {
      "cell_type": "markdown",
      "metadata": {
        "ExecuteTime": {
          "end_time": "2017-09-28T22:37:21.312216Z",
          "start_time": "2017-09-28T22:37:21.306739Z"
        },
        "id": "AikVWvXFdT4m"
      },
      "source": [
        "Objetos `a` e `b` são instâncias da classe `MyAvg`.\n",
        "Instanciar uma classe é inicializá-la através da chamada ao método __init__:"
      ]
    },
    {
      "cell_type": "code",
      "execution_count": null,
      "metadata": {
        "ExecuteTime": {
          "end_time": "2017-11-24T10:48:34.702739",
          "start_time": "2017-11-24T10:48:34.699932"
        },
        "id": "ZZTBpRU0dT4m"
      },
      "outputs": [],
      "source": [
        "a = MyAvg(data)\n",
        "b = MyAvg(2*data)"
      ]
    },
    {
      "cell_type": "markdown",
      "metadata": {
        "id": "eT3fgaprdT4m"
      },
      "source": [
        "Aplicação do método `avg()`, retorna a média dos dados dos objetos a e b:"
      ]
    },
    {
      "cell_type": "code",
      "execution_count": null,
      "metadata": {
        "ExecuteTime": {
          "end_time": "2017-11-24T10:48:34.708357",
          "start_time": "2017-11-24T10:48:34.704485"
        },
        "id": "jdDt2nzKdT4m"
      },
      "outputs": [],
      "source": [
        "print(a.avg())\n",
        "print(b.avg())"
      ]
    },
    {
      "cell_type": "code",
      "execution_count": null,
      "metadata": {
        "ExecuteTime": {
          "end_time": "2017-11-24T10:48:34.713753",
          "start_time": "2017-11-24T10:48:34.710083"
        },
        "id": "592X0RNjdT4m"
      },
      "outputs": [],
      "source": [
        "# Imprima os valores dos dados associados aos objetos a e b:\n",
        "print(a)\n",
        "print(b)"
      ]
    },
    {
      "cell_type": "code",
      "execution_count": null,
      "metadata": {
        "ExecuteTime": {
          "end_time": "2017-11-24T10:48:34.719368",
          "start_time": "2017-11-24T10:48:34.715338"
        },
        "id": "NvEZ-xHZdT4m"
      },
      "outputs": [],
      "source": [
        "# Imprima a variável compartilhada `id` de cada objeto a e b:\n",
        "print(a)\n",
        "print(b)"
      ]
    },
    {
      "cell_type": "markdown",
      "metadata": {
        "id": "p-ic7XISdT4n"
      },
      "source": [
        "## Herança de classe"
      ]
    },
    {
      "cell_type": "code",
      "execution_count": null,
      "metadata": {
        "ExecuteTime": {
          "end_time": "2017-11-24T10:48:34.724905",
          "start_time": "2017-11-24T10:48:34.721122"
        },
        "id": "fDgIW1FadT4n"
      },
      "outputs": [],
      "source": [
        "class MyAvgStd(MyAvg):\n",
        "    def var(self): # método adicional para calcular a variância\n",
        "        u = self.avg()\n",
        "        return np.sqrt(np.sum((self.d - u)**2)/len(self.d))"
      ]
    },
    {
      "cell_type": "code",
      "execution_count": null,
      "metadata": {
        "ExecuteTime": {
          "end_time": "2017-11-24T10:48:34.729387",
          "start_time": "2017-11-24T10:48:34.726655"
        },
        "id": "SiK7xE5udT4n"
      },
      "outputs": [],
      "source": [
        "c = MyAvgStd(data)"
      ]
    },
    {
      "cell_type": "code",
      "execution_count": null,
      "metadata": {
        "ExecuteTime": {
          "end_time": "2017-11-24T10:48:34.735547",
          "start_time": "2017-11-24T10:48:34.731136"
        },
        "id": "zjuOoeV_dT4n"
      },
      "outputs": [],
      "source": [
        "print('media:',c.avg())\n",
        "print('variancia:',c.var())"
      ]
    },
    {
      "cell_type": "code",
      "execution_count": null,
      "metadata": {
        "ExecuteTime": {
          "end_time": "2017-11-24T10:48:34.739611",
          "start_time": "2017-11-24T10:48:34.737200"
        },
        "id": "OP4oIHNqdT4n"
      },
      "outputs": [],
      "source": [
        "# imprima os dados associados ao objeto c e a sua variável compartilhada id"
      ]
    },
    {
      "cell_type": "markdown",
      "metadata": {
        "id": "QdG_qYWSdT4n"
      },
      "source": [
        "### Exercício: convertendo a função `split` na classe `C_Split`"
      ]
    },
    {
      "cell_type": "markdown",
      "metadata": {
        "id": "bnh2-8AkdT4n"
      },
      "source": [
        "Implemente a classe `C_Split` para ter a mesma funcionalidade da função `split` feita acima"
      ]
    },
    {
      "cell_type": "code",
      "execution_count": null,
      "metadata": {
        "ExecuteTime": {
          "end_time": "2017-11-24T10:48:34.744816",
          "start_time": "2017-11-24T10:48:34.741384"
        },
        "id": "W4HxVkgMdT4n"
      },
      "outputs": [],
      "source": [
        "class C_Split():\n",
        "    def __init__(self,d):\n",
        "        pass\n",
        "    def split(self, split_factor ):\n",
        "        pass"
      ]
    },
    {
      "cell_type": "code",
      "execution_count": null,
      "metadata": {
        "ExecuteTime": {
          "end_time": "2017-11-24T10:48:34.749098",
          "start_time": "2017-11-24T10:48:34.746587"
        },
        "id": "ardTxvXOdT4n"
      },
      "outputs": [],
      "source": [
        "#data_train_val = C_Split(aa)\n",
        "#train, val = data_train_val.split(0.8)"
      ]
    },
    {
      "cell_type": "markdown",
      "metadata": {
        "id": "QU35OqSMdT4n"
      },
      "source": [
        "## Classe com métodos `__len__` e `__getitem__`"
      ]
    },
    {
      "cell_type": "markdown",
      "metadata": {
        "id": "-NocQIrNdT4n"
      },
      "source": [
        "Uma classe com métodos `__len__` e `__getitem__` permite que os objetos possam ser indexados e calculado o seu número de elementos.\n",
        "\n",
        "Veja o exemplo a seguir:"
      ]
    },
    {
      "cell_type": "code",
      "execution_count": null,
      "metadata": {
        "ExecuteTime": {
          "end_time": "2017-11-24T10:48:34.755820",
          "start_time": "2017-11-24T10:48:34.750857"
        },
        "id": "94WdpKTpdT4n"
      },
      "outputs": [],
      "source": [
        "class Word():\n",
        "    def __init__(self, phrase):\n",
        "        self.wordlist = phrase.split() # separa frase em uma lista de palavras\n",
        "    \n",
        "    def __len__(self):\n",
        "        return len(self.wordlist)\n",
        "    \n",
        "    def __getitem__(self,x):\n",
        "        return self.wordlist[x]"
      ]
    },
    {
      "cell_type": "code",
      "execution_count": null,
      "metadata": {
        "ExecuteTime": {
          "end_time": "2017-11-24T10:48:34.760433",
          "start_time": "2017-11-24T10:48:34.757750"
        },
        "id": "iajazb6zdT4n"
      },
      "outputs": [],
      "source": [
        "frase = 'Esta frase é formada por 7 palavras'\n",
        "palavras = Word(frase)"
      ]
    },
    {
      "cell_type": "code",
      "execution_count": null,
      "metadata": {
        "ExecuteTime": {
          "end_time": "2017-11-24T10:48:34.766299",
          "start_time": "2017-11-24T10:48:34.762252"
        },
        "id": "XUycgg2bdT4n"
      },
      "outputs": [],
      "source": [
        "palavras[3]  # permite a indexação do objeto"
      ]
    },
    {
      "cell_type": "code",
      "execution_count": null,
      "metadata": {
        "ExecuteTime": {
          "end_time": "2017-11-24T10:48:34.771384",
          "start_time": "2017-11-24T10:48:34.767972"
        },
        "id": "b23G94xJdT4n"
      },
      "outputs": [],
      "source": [
        "print(len(palavras))"
      ]
    },
    {
      "cell_type": "markdown",
      "metadata": {
        "id": "QdMmDwa0dT4n"
      },
      "source": [
        "### Exercício para indexar elementos de um dicionário"
      ]
    },
    {
      "cell_type": "markdown",
      "metadata": {
        "id": "At21QU8gdT4n"
      },
      "source": [
        "Um dicionário em Python não é indexado. Por exemplo seja o dicionário `d` a seguir.\n",
        "Não é possível indexar d[0] ou d[1] para buscar o primeiro ou segundo par (chave:valor)."
      ]
    },
    {
      "cell_type": "code",
      "execution_count": null,
      "metadata": {
        "ExecuteTime": {
          "end_time": "2017-11-24T10:48:34.775919",
          "start_time": "2017-11-24T10:48:34.773248"
        },
        "id": "6e0Gb7AFdT4n"
      },
      "outputs": [],
      "source": [
        "d = {'a':1,'b': 2}"
      ]
    },
    {
      "cell_type": "markdown",
      "metadata": {
        "id": "BSabK9SwdT4n"
      },
      "source": [
        "Implementar uma classe que receba um dicionário e permita que ele possa ser indexado.\n",
        "Para converter um dicionário em uma lista de pares, use:"
      ]
    },
    {
      "cell_type": "code",
      "execution_count": null,
      "metadata": {
        "ExecuteTime": {
          "end_time": "2017-11-24T10:48:34.781948",
          "start_time": "2017-11-24T10:48:34.777863"
        },
        "id": "9boPMBLodT4n"
      },
      "outputs": [],
      "source": [
        "list(d.items())"
      ]
    },
    {
      "cell_type": "markdown",
      "metadata": {
        "id": "ec3DzU5odT4n"
      },
      "source": [
        "Complete a definição da classe `dicdata` a seguir para que um dicionário possa ser\n",
        "indexado:"
      ]
    },
    {
      "cell_type": "code",
      "execution_count": null,
      "metadata": {
        "ExecuteTime": {
          "end_time": "2017-11-24T10:48:34.788040",
          "start_time": "2017-11-24T10:48:34.783585"
        },
        "id": "h8nyBIx7dT4n"
      },
      "outputs": [],
      "source": [
        "class DicData():\n",
        "    def __init__(self, dic):\n",
        "        print('a definir')\n",
        "        \n",
        "    def __len__(self):\n",
        "        print('a definir')\n",
        "        \n",
        "    def __getitem__(self):\n",
        "        print('a definir')"
      ]
    },
    {
      "cell_type": "code",
      "execution_count": null,
      "metadata": {
        "ExecuteTime": {
          "end_time": "2017-11-24T10:48:34.816082",
          "start_time": "2017-11-24T10:48:34.789694"
        },
        "id": "-LkPW9TDdT4n"
      },
      "outputs": [],
      "source": [
        "dd = DicData(d)\n",
        "#print(len(dd))\n",
        "#print(dd[0])"
      ]
    },
    {
      "cell_type": "markdown",
      "metadata": {
        "collapsed": true,
        "id": "5jLDlcWbdT4o"
      },
      "source": [
        "## Iteradores"
      ]
    },
    {
      "cell_type": "markdown",
      "metadata": {
        "id": "_bDdQ4BpdT4o"
      },
      "source": [
        "Iteradores são uteis para serem usados em estruturas do tipo `for a in b:`.\n",
        "\n",
        "Listas em Python são consideradas iteráveis, pois podem ser utilizadas nessa estrutura:"
      ]
    },
    {
      "cell_type": "code",
      "execution_count": null,
      "metadata": {
        "ExecuteTime": {
          "end_time": "2017-11-24T10:48:34.821690",
          "start_time": "2017-11-24T10:48:34.817887"
        },
        "id": "apbukmZ-dT4o"
      },
      "outputs": [],
      "source": [
        "for i in ['a', 'b', 'c']:\n",
        "    print(i)"
      ]
    },
    {
      "cell_type": "markdown",
      "metadata": {
        "id": "8V3C2ukBdT4o"
      },
      "source": [
        "O método do `range()` do python também é um iterável:"
      ]
    },
    {
      "cell_type": "code",
      "execution_count": null,
      "metadata": {
        "ExecuteTime": {
          "end_time": "2017-11-24T10:48:34.827296",
          "start_time": "2017-11-24T10:48:34.823318"
        },
        "id": "bmOq-FwFdT4o"
      },
      "outputs": [],
      "source": [
        "for i in range(3):\n",
        "    print(i)"
      ]
    },
    {
      "cell_type": "markdown",
      "metadata": {
        "id": "e_OT21hWdT4o"
      },
      "source": [
        "É possível acessar o iterador destas estruturas utilizando o método `iter()` do Python e então é possível percorrer seus elementos utilizado `next()`:"
      ]
    },
    {
      "cell_type": "code",
      "execution_count": null,
      "metadata": {
        "ExecuteTime": {
          "end_time": "2017-11-24T10:48:34.834575",
          "start_time": "2017-11-24T10:48:34.829061"
        },
        "id": "xQmFLfafdT4o"
      },
      "outputs": [],
      "source": [
        "lista = ['a', 'b', 'c']\n",
        "iterador = iter(lista)\n",
        "print('tipo de iterador:', type(lista))\n",
        "print('tipo de iterador:', type(iterador))\n",
        "print(next(iterador))"
      ]
    },
    {
      "cell_type": "markdown",
      "metadata": {
        "id": "qhxDhB0OdT4o"
      },
      "source": [
        "O acesso de iteradores é sequencial e após o ultimo elemento uma exceção é levantada indicando o fim do iterador.\n",
        "Descomente o último `next` e veja o tipo da exceção que acontece."
      ]
    },
    {
      "cell_type": "code",
      "execution_count": null,
      "metadata": {
        "ExecuteTime": {
          "end_time": "2017-11-24T10:48:34.840458",
          "start_time": "2017-11-24T10:48:34.836436"
        },
        "id": "LpejhQ7ZdT4o"
      },
      "outputs": [],
      "source": [
        "print(next(iterador))\n",
        "print(next(iterador))\n",
        "#print(next(iterador))"
      ]
    },
    {
      "cell_type": "markdown",
      "metadata": {
        "id": "Lm_cSPHJdT4o"
      },
      "source": [
        "## Criando objetos iteráveis"
      ]
    },
    {
      "cell_type": "markdown",
      "metadata": {
        "id": "FfZUSvpFdT4o"
      },
      "source": [
        "Para implementar um objeto iterador é preciso escrever um método `__next__()` para a classe e para que ele seja acessível como iterável também é necessário escrever um método `__iter__()`: "
      ]
    },
    {
      "cell_type": "code",
      "execution_count": null,
      "metadata": {
        "ExecuteTime": {
          "end_time": "2017-11-24T10:48:34.848707",
          "start_time": "2017-11-24T10:48:34.842063"
        },
        "id": "i9zFjiO8dT4o"
      },
      "outputs": [],
      "source": [
        "class WordIterator():\n",
        "    def __init__(self, phrase):\n",
        "        self.words = phrase.split()\n",
        "        \n",
        "    def __iter__(self):\n",
        "        self.iter_index = 0\n",
        "        return self\n",
        "    \n",
        "    def __next__(self):\n",
        "        if self.iter_index < len(self.words):\n",
        "            i = self.iter_index\n",
        "            self.iter_index += 1\n",
        "            return self.words[i]\n",
        "        else:\n",
        "            raise StopIteration()"
      ]
    },
    {
      "cell_type": "markdown",
      "metadata": {
        "id": "hh1bfLPtdT4o"
      },
      "source": [
        "A classe acima é um iterador e é iterável. \n",
        "\n",
        "No método `__iter__()` reiniciamos o índice inicial para o iterador e retornamos o próprio objeto (um iterador).\n",
        "\n",
        "No método `__next__()` retornamos a palavra do índice atual ou a exceção de parada, caso seja o fim."
      ]
    },
    {
      "cell_type": "code",
      "execution_count": null,
      "metadata": {
        "ExecuteTime": {
          "end_time": "2017-11-24T10:48:34.853670",
          "start_time": "2017-11-24T10:48:34.850613"
        },
        "id": "NpYkQ5uFdT4o"
      },
      "outputs": [],
      "source": [
        "frase = 'Esta frase é formada por 7 palavras'\n",
        "iterador_de_palavras = WordIterator(frase)"
      ]
    },
    {
      "cell_type": "code",
      "execution_count": null,
      "metadata": {
        "ExecuteTime": {
          "end_time": "2017-11-24T10:48:34.860627",
          "start_time": "2017-11-24T10:48:34.855389"
        },
        "id": "B7Pq5BmxdT4o"
      },
      "outputs": [],
      "source": [
        "for palavra in iterador_de_palavras:\n",
        "    print(palavra)"
      ]
    },
    {
      "cell_type": "markdown",
      "metadata": {
        "id": "HRoA1_madT4o"
      },
      "source": [
        "### Exercício com iterador"
      ]
    },
    {
      "cell_type": "markdown",
      "metadata": {
        "ExecuteTime": {
          "end_time": "2017-09-29T11:41:50.515551",
          "start_time": "2017-09-29T11:41:50.483441"
        },
        "id": "0YI4alw9dT4o"
      },
      "source": [
        "Crie uma classe `DictIterator` que permita varrer os itens de um dicionário utilizando o `for`"
      ]
    },
    {
      "cell_type": "code",
      "execution_count": null,
      "metadata": {
        "ExecuteTime": {
          "end_time": "2017-11-24T10:48:34.867197",
          "start_time": "2017-11-24T10:48:34.862428"
        },
        "id": "Oq5WLXlbdT4o"
      },
      "outputs": [],
      "source": [
        "class DictIterator():\n",
        "    def __init__(self, dict):\n",
        "        print('a definir')\n",
        "    def __iter__(self):\n",
        "        print('a definir')\n",
        "    def __next__(self):\n",
        "        print('a definir')"
      ]
    },
    {
      "cell_type": "code",
      "execution_count": null,
      "metadata": {
        "ExecuteTime": {
          "end_time": "2017-11-24T10:48:34.873303",
          "start_time": "2017-11-24T10:48:34.868889"
        },
        "id": "SdlRHm6YdT4o"
      },
      "outputs": [],
      "source": [
        "d = {'a':1,'b': 2, 'c': 3}\n",
        "d_iter = DictIterator(d)\n",
        "#for i in d_iter:\n",
        "#    print(i)"
      ]
    },
    {
      "cell_type": "markdown",
      "metadata": {
        "id": "mAYgVwuydT4o"
      },
      "source": [
        "## Objeto como função"
      ]
    },
    {
      "cell_type": "markdown",
      "metadata": {
        "ExecuteTime": {
          "end_time": "2017-09-29T14:25:18.470914",
          "start_time": "2017-09-29T14:25:18.467088"
        },
        "id": "L-iULfJOdT4o"
      },
      "source": [
        "É possível declarar uma classe contendo um objeto possa ser chamado (*callable object*).\n",
        "Para isso, a classe deve conter o método `__call__`. Veja o exemplo a seguir:"
      ]
    },
    {
      "cell_type": "code",
      "execution_count": null,
      "metadata": {
        "ExecuteTime": {
          "end_time": "2017-11-24T10:48:34.878801",
          "start_time": "2017-11-24T10:48:34.875191"
        },
        "id": "QY9glU0AdT4o"
      },
      "outputs": [],
      "source": [
        "class Scale():\n",
        "    def __init__(self, w):\n",
        "        self._w = w\n",
        "    def __call__(self, x):\n",
        "        return x * self._w"
      ]
    },
    {
      "cell_type": "code",
      "execution_count": null,
      "metadata": {
        "ExecuteTime": {
          "end_time": "2017-11-24T10:48:34.884098",
          "start_time": "2017-11-24T10:48:34.880506"
        },
        "id": "1H-BFgLhdT4p"
      },
      "outputs": [],
      "source": [
        "s = Scale(100.)\n",
        "print(s(5))\n"
      ]
    },
    {
      "cell_type": "markdown",
      "metadata": {
        "id": "_QxTVChRdT4p"
      },
      "source": [
        "### Exercício de classe contendo objeto chamável"
      ]
    },
    {
      "cell_type": "markdown",
      "metadata": {
        "id": "QrtglT0tdT4p"
      },
      "source": [
        "Defina uma classe herdada da classe `Scale` que permita modificar a variável `self._w`."
      ]
    },
    {
      "cell_type": "code",
      "execution_count": null,
      "metadata": {
        "ExecuteTime": {
          "end_time": "2017-11-24T10:48:34.888869",
          "start_time": "2017-11-24T10:48:34.885999"
        },
        "id": "i8U-uDmOdT4p"
      },
      "outputs": [],
      "source": [
        "class AjustaPeso(Scale):\n",
        "    def wset():\n",
        "        print('a preencher')"
      ]
    },
    {
      "cell_type": "code",
      "execution_count": null,
      "metadata": {
        "ExecuteTime": {
          "end_time": "2017-11-24T10:48:34.894058",
          "start_time": "2017-11-24T10:48:34.890663"
        },
        "id": "lZU_Ie24dT4p"
      },
      "outputs": [],
      "source": [
        "ap = AjustaPeso(100.)\n",
        "print(ap(5))"
      ]
    },
    {
      "cell_type": "code",
      "execution_count": null,
      "metadata": {
        "ExecuteTime": {
          "end_time": "2017-11-24T10:48:34.898077",
          "start_time": "2017-11-24T10:48:34.895632"
        },
        "id": "6F1IZ8rJdT4p"
      },
      "outputs": [],
      "source": [
        "#ap.wset(10)\n",
        "#print(ap(5))"
      ]
    },
    {
      "cell_type": "markdown",
      "metadata": {
        "id": "foJ40YD0dT4p"
      },
      "source": [
        "# Fim do notebook"
      ]
    },
    {
      "cell_type": "code",
      "execution_count": null,
      "metadata": {
        "id": "04IZDqCbdT4p"
      },
      "outputs": [],
      "source": [
        ""
      ]
    }
  ],
  "metadata": {
    "kernelspec": {
      "display_name": "Python 3",
      "language": "python",
      "name": "python3"
    },
    "language_info": {
      "codemirror_mode": {
        "name": "ipython",
        "version": 3
      },
      "file_extension": ".py",
      "mimetype": "text/x-python",
      "name": "python",
      "nbconvert_exporter": "python",
      "pygments_lexer": "ipython3",
      "version": "3.6.5"
    },
    "toc": {
      "base_numbering": 1,
      "nav_menu": {
        "height": "354px",
        "width": "252px"
      },
      "number_sections": true,
      "sideBar": true,
      "skip_h1_title": false,
      "title_cell": "Table of Contents",
      "title_sidebar": "Contents",
      "toc_cell": false,
      "toc_position": {},
      "toc_section_display": "block",
      "toc_window_display": false
    },
    "varInspector": {
      "cols": {
        "lenName": 16,
        "lenType": 16,
        "lenVar": 40
      },
      "kernels_config": {
        "python": {
          "delete_cmd_postfix": "",
          "delete_cmd_prefix": "del ",
          "library": "var_list.py",
          "varRefreshCmd": "print(var_dic_list())"
        },
        "r": {
          "delete_cmd_postfix": ") ",
          "delete_cmd_prefix": "rm(",
          "library": "var_list.r",
          "varRefreshCmd": "cat(var_dic_list()) "
        }
      },
      "types_to_exclude": [
        "module",
        "function",
        "builtin_function_or_method",
        "instance",
        "_Feature"
      ],
      "window_display": false
    },
    "colab": {
      "name": "ExercicioIntrodutorio.ipynb",
      "provenance": []
    }
  },
  "nbformat": 4,
  "nbformat_minor": 0
}