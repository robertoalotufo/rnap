{
 "cells": [
  {
   "cell_type": "markdown",
   "metadata": {},
   "source": [
    "# Curso Deep Learning - Exercício pré-curso Python - NumPy"
   ]
  },
  {
   "cell_type": "markdown",
   "metadata": {},
   "source": [
    "Este é um notebook Jupyter contendo exercícios de programação matricial utilizando o Python e biblioteca NumPy.\n",
    "Estes exercícios servem para familiarizar o participante na linguagem Python para manipulação matricial.\n",
    "\n",
    "Esta lista de exercício é um guia de estudo. Para fazer os exercícios será necessário estudar o Python, consultar documentação e tutoriais disponíveis na Internet.\n",
    "\n",
    "Estes exercícios são de dificuldade **intermediária para difícil**, usaremos programação\n",
    "avançada Python, explorando listas, dicionários, programação matricial e programação\n",
    "orientada a objeto."
   ]
  },
  {
   "cell_type": "markdown",
   "metadata": {},
   "source": [
    "### Python"
   ]
  },
  {
   "cell_type": "markdown",
   "metadata": {},
   "source": [
    "O curso será feito utilizando a versão Python 3.6, assim recomenda-se que estes exercícios sejam feitos com o Python 3.\n",
    "Recomenda-se instalar o Jupyter e o Python utilizando-se o [Anaconda](https://www.continuum.io/downloads) - uma distribuição\n",
    "focada em Data Science, contendo os principais pacotes usados nesta área."
   ]
  },
  {
   "cell_type": "markdown",
   "metadata": {},
   "source": [
    "### Jupyter notebook"
   ]
  },
  {
   "cell_type": "markdown",
   "metadata": {},
   "source": [
    "Este é um Notebook Jupyter. Um notebook Jupyter é uma mistura de linguagem Markdown para formatar texto (como uma Wiki) e um programa Python. É muito usado entre as pessoas que trabalham com Data Science e Machine Learning em Python. Se você precisar de ajuda sobre como usar os Notebooks Jupyter, veja [beginner-guide](https://jupyter-notebook-beginner-guide.readthedocs.io/en/latest/).\n",
    "\n",
    "Instale o Jupyter nbextensions que é um conjunto de ferramentas auxiliares. Habilite o \"Table of Contents\" do nbextensions para que este notebook fique itemizado."
   ]
  },
  {
   "cell_type": "markdown",
   "metadata": {},
   "source": [
    "Você pode adicionar quantas células quiser neste notebook para deixar suas respostas bem organizadas."
   ]
  },
  {
   "cell_type": "markdown",
   "metadata": {},
   "source": [
    "# Exercícios básicos"
   ]
  },
  {
   "cell_type": "markdown",
   "metadata": {},
   "source": [
    "Vamos começar! Comece imprimindo seu nome e e-mail aqui:"
   ]
  },
  {
   "cell_type": "code",
   "execution_count": 1,
   "metadata": {
    "ExecuteTime": {
     "end_time": "2017-11-24T10:48:33.518278",
     "start_time": "2017-11-24T10:48:33.514490"
    }
   },
   "outputs": [
    {
     "name": "stdout",
     "output_type": "stream",
     "text": [
      "My name is \n",
      "My email is \n"
     ]
    }
   ],
   "source": [
    "# preencha com seus dados\n",
    "print('My name is ')\n",
    "print('My email is ')"
   ]
  },
  {
   "cell_type": "markdown",
   "metadata": {},
   "source": [
    "## Listas"
   ]
  },
  {
   "cell_type": "markdown",
   "metadata": {
    "ExecuteTime": {
     "end_time": "2017-07-11T19:32:04.310368",
     "start_time": "2017-07-11T19:32:04.302283"
    }
   },
   "source": [
    "Iremos utilizar muitas listas no curso Deep Learning.\n",
    "Seguem alguns exercícios com lista. Python é muito bom para processar listas. Uma lista é uma sequência de elementos \n",
    "separados por vírgula dentro de chaves:"
   ]
  },
  {
   "cell_type": "code",
   "execution_count": 2,
   "metadata": {
    "ExecuteTime": {
     "end_time": "2017-11-24T10:48:33.523008",
     "start_time": "2017-11-24T10:48:33.520135"
    },
    "collapsed": true
   },
   "outputs": [],
   "source": [
    "mylist = [5, 8, 'abc', 0, 8.3]"
   ]
  },
  {
   "cell_type": "markdown",
   "metadata": {
    "ExecuteTime": {
     "end_time": "2017-07-11T19:20:42.951254",
     "start_time": "2017-07-11T19:20:42.947609"
    }
   },
   "source": [
    "### Imprimindo o número de elementos de uma `mylist` e alguns de seus elementos"
   ]
  },
  {
   "cell_type": "code",
   "execution_count": 3,
   "metadata": {
    "ExecuteTime": {
     "end_time": "2017-11-24T10:48:33.529593",
     "start_time": "2017-11-24T10:48:33.524997"
    }
   },
   "outputs": [
    {
     "name": "stdout",
     "output_type": "stream",
     "text": [
      "5\n",
      "5\n",
      "8.3\n"
     ]
    }
   ],
   "source": [
    "print(len(mylist))\n",
    "print(mylist[0])\n",
    "print(mylist[-1])  # observe o índice -1 (o que isso significa?)"
   ]
  },
  {
   "cell_type": "markdown",
   "metadata": {},
   "source": [
    "## Seja uma lista de 10 elementos numéricos sequenciais, começando em zero"
   ]
  },
  {
   "cell_type": "markdown",
   "metadata": {},
   "source": [
    "O código a seguir é típico para criar uma lista com os 10 primeiros inteiros maiores ou iguais a zero: inicializa-se lista vazia, para cada i entre 0 e menor que 10, faz append na lista a:"
   ]
  },
  {
   "cell_type": "code",
   "execution_count": 4,
   "metadata": {
    "ExecuteTime": {
     "end_time": "2017-11-24T10:48:33.535815",
     "start_time": "2017-11-24T10:48:33.531211"
    }
   },
   "outputs": [
    {
     "name": "stdout",
     "output_type": "stream",
     "text": [
      "[0, 1, 2, 3, 4, 5, 6, 7, 8, 9]\n"
     ]
    }
   ],
   "source": [
    "a = []\n",
    "for i in range(10):\n",
    "    a.append(i)\n",
    "print(a)"
   ]
  },
  {
   "cell_type": "markdown",
   "metadata": {},
   "source": [
    "## List Comprehension"
   ]
  },
  {
   "cell_type": "markdown",
   "metadata": {},
   "source": [
    "Esta mesma lista pode ser criada utilizando a construção denominada \"List Comprehension\" ou\n",
    "\"Compreensão de Lista\" em portugues. Coloque este termo no Google adicionando python na frente na forma:\n",
    "\"python comprehension list\" e você poderá ver vários exemplos e tutoriais sobre o assunto. É uma forma compacta que fazer um append iterativo numa lista:\n",
    "\n",
    "Veja como o trecho acima foi reduzido para uma linha apenas:"
   ]
  },
  {
   "cell_type": "code",
   "execution_count": 5,
   "metadata": {
    "ExecuteTime": {
     "end_time": "2017-11-24T10:48:33.542085",
     "start_time": "2017-11-24T10:48:33.537451"
    }
   },
   "outputs": [
    {
     "name": "stdout",
     "output_type": "stream",
     "text": [
      "[0, 1, 2, 3, 4, 5, 6, 7, 8, 9]\n"
     ]
    }
   ],
   "source": [
    "a = [i for i in range(10)]\n",
    "print(a)"
   ]
  },
  {
   "cell_type": "code",
   "execution_count": 6,
   "metadata": {
    "ExecuteTime": {
     "end_time": "2017-11-24T10:48:33.548970",
     "start_time": "2017-11-24T10:48:33.543695"
    }
   },
   "outputs": [
    {
     "name": "stdout",
     "output_type": "stream",
     "text": [
      "['0r', '1i', '2c', '3a', '4r', '5d', '6o']\n"
     ]
    }
   ],
   "source": [
    "m_list = ['r', 'i', 'c', 'a', 'r', 'd', 'o']\n",
    "new_list = []\n",
    "for k,i in enumerate(m_list):\n",
    "    new_list.append(str(k)+i)\n",
    "print(new_list)"
   ]
  },
  {
   "cell_type": "markdown",
   "metadata": {},
   "source": [
    "- Explique o que o enumerate faz no programa acima:\n",
    "- Repita o mesmo exercício de criar a lista new_list, porém utilizando list comprehension:\n",
    "   "
   ]
  },
  {
   "cell_type": "code",
   "execution_count": 7,
   "metadata": {
    "ExecuteTime": {
     "end_time": "2017-11-24T10:48:33.553887",
     "start_time": "2017-11-24T10:48:33.550745"
    },
    "collapsed": true
   },
   "outputs": [],
   "source": [
    "m_list = ['r', 'i', 'c', 'a', 'r', 'd', 'o']\n",
    "n_list = [] # utilize aqui o list comprehension"
   ]
  },
  {
   "cell_type": "markdown",
   "metadata": {},
   "source": [
    "## Fatiamento em Python"
   ]
  },
  {
   "cell_type": "markdown",
   "metadata": {},
   "source": [
    "Um conceito fundamental em Python é o do fatiamento \"slicing\", em inglês. É um conceito que será muito usado\n",
    "durante todo o curso. Estude bem isso. Inicialmente iremos trabalhar com fatiamento de lista, mas posteriormente\n",
    "com arrays (ou tensores) utilizando o NumPy"
   ]
  },
  {
   "cell_type": "code",
   "execution_count": 8,
   "metadata": {
    "ExecuteTime": {
     "end_time": "2017-11-24T10:48:33.559041",
     "start_time": "2017-11-24T10:48:33.555599"
    }
   },
   "outputs": [
    {
     "name": "stdout",
     "output_type": "stream",
     "text": [
      "[3, 4]\n"
     ]
    }
   ],
   "source": [
    "print(a[3:5])"
   ]
  },
  {
   "cell_type": "markdown",
   "metadata": {},
   "source": [
    "### Criar e imprimir uma lista a partir da lista \"a\" já criada, porém apenas alguns elementos"
   ]
  },
  {
   "cell_type": "code",
   "execution_count": 9,
   "metadata": {
    "ExecuteTime": {
     "end_time": "2017-11-24T10:48:33.566614",
     "start_time": "2017-11-24T10:48:33.560895"
    }
   },
   "outputs": [
    {
     "name": "stdout",
     "output_type": "stream",
     "text": [
      "[0, 1, 2, 3, 4, 5, 6, 7, 8, 9]\n",
      "[0, 1, 2, 3, 4, 5, 6, 7, 8, 9]\n",
      "[0, 1, 2, 3, 4, 5, 6, 7, 8, 9]\n",
      "[0, 1, 2, 3, 4, 5, 6, 7, 8, 9]\n"
     ]
    }
   ],
   "source": [
    "# imprima os elementos ímpares de a\n",
    "print(a[:])\n",
    "# imprima os elementos pares de a\n",
    "print(a[:])\n",
    "# imprima os últimos 3 elementos da lista (utilize índice negativo, pesquise na Internet)\n",
    "print(a[:])\n",
    "# Imprima os 3 primeiros elementos da lista (veja quando é possível ignorar valores iniciais e finais)\n",
    "print(a[:])"
   ]
  },
  {
   "cell_type": "code",
   "execution_count": 10,
   "metadata": {
    "ExecuteTime": {
     "end_time": "2017-11-24T10:48:33.572314",
     "start_time": "2017-11-24T10:48:33.568302"
    }
   },
   "outputs": [
    {
     "name": "stdout",
     "output_type": "stream",
     "text": [
      "[0, 2, 4, 6, 8]\n",
      "[9, 8, 7, 6, 5, 4, 3, 2, 1, 0]\n"
     ]
    }
   ],
   "source": [
    "# Veja o significado do passo:\n",
    "print(a[::2])\n",
    "print(a[::-1])"
   ]
  },
  {
   "cell_type": "code",
   "execution_count": 11,
   "metadata": {
    "ExecuteTime": {
     "end_time": "2017-11-24T10:48:33.577743",
     "start_time": "2017-11-24T10:48:33.574177"
    }
   },
   "outputs": [
    {
     "name": "stdout",
     "output_type": "stream",
     "text": [
      "[0, 1, 2, 3, 4, 5, 6, 7, 8, 9]\n"
     ]
    }
   ],
   "source": [
    "# imprima os elementos ímpares na order reversa, do maior para o menor\n",
    "print(a[:])"
   ]
  },
  {
   "cell_type": "markdown",
   "metadata": {},
   "source": [
    "## Tuplas"
   ]
  },
  {
   "cell_type": "markdown",
   "metadata": {},
   "source": [
    "Dominar o conceito de tuplas é importante pois tuplas são estruturas muito utilizadas no Python."
   ]
  },
  {
   "cell_type": "code",
   "execution_count": 12,
   "metadata": {
    "ExecuteTime": {
     "end_time": "2017-11-24T10:48:33.583149",
     "start_time": "2017-11-24T10:48:33.579510"
    }
   },
   "outputs": [
    {
     "name": "stdout",
     "output_type": "stream",
     "text": [
      "(0, 1, 2, 3, 4, 5, 6, 7, 8, 9)\n"
     ]
    }
   ],
   "source": [
    "b = tuple(a)\n",
    "print(b)"
   ]
  },
  {
   "cell_type": "markdown",
   "metadata": {},
   "source": [
    "A principal diferença entre uma lista e uma tupla é:"
   ]
  },
  {
   "cell_type": "markdown",
   "metadata": {},
   "source": [
    "# Dicionários em Python"
   ]
  },
  {
   "cell_type": "markdown",
   "metadata": {},
   "source": [
    "Python possui uma estrutura de dados muito versátil denominada dicionário.\n",
    "No curso Deep Learning, os parâmetros da rede neural serão armazenadas na forma de dicionário."
   ]
  },
  {
   "cell_type": "code",
   "execution_count": 13,
   "metadata": {
    "ExecuteTime": {
     "end_time": "2017-11-24T10:48:33.588413",
     "start_time": "2017-11-24T10:48:33.584779"
    }
   },
   "outputs": [
    {
     "name": "stdout",
     "output_type": "stream",
     "text": [
      "Roberto\n"
     ]
    }
   ],
   "source": [
    "rob_record = {'nome': 'Roberto', 'idade': 18}\n",
    "print(rob_record['nome'])"
   ]
  },
  {
   "cell_type": "code",
   "execution_count": 14,
   "metadata": {
    "ExecuteTime": {
     "end_time": "2017-11-24T10:48:33.594193",
     "start_time": "2017-11-24T10:48:33.590332"
    }
   },
   "outputs": [
    {
     "name": "stdout",
     "output_type": "stream",
     "text": [
      "{'nome': 'Roberto', 'idade': 20}\n"
     ]
    }
   ],
   "source": [
    "rob_record['idade'] = 20\n",
    "print(rob_record)"
   ]
  },
  {
   "cell_type": "markdown",
   "metadata": {},
   "source": [
    "Lista de dicionários:"
   ]
  },
  {
   "cell_type": "code",
   "execution_count": 15,
   "metadata": {
    "ExecuteTime": {
     "end_time": "2017-11-24T10:48:33.599246",
     "start_time": "2017-11-24T10:48:33.595814"
    },
    "collapsed": true
   },
   "outputs": [],
   "source": [
    "records = [{'nome':'Alfredo', 'idade': 23},\n",
    "           {'nome':'Fernanda', 'idade': 16},\n",
    "           {'nome':'Carla', 'idade':33}]"
   ]
  },
  {
   "cell_type": "code",
   "execution_count": 16,
   "metadata": {
    "ExecuteTime": {
     "end_time": "2017-11-24T10:48:33.603575",
     "start_time": "2017-11-24T10:48:33.601007"
    },
    "collapsed": true
   },
   "outputs": [],
   "source": [
    "# acesse o nome da Fernanda: complete e descomente a linha a seguir\n",
    "#print(records[][])"
   ]
  },
  {
   "cell_type": "code",
   "execution_count": 17,
   "metadata": {
    "ExecuteTime": {
     "end_time": "2017-11-24T10:48:33.609929",
     "start_time": "2017-11-24T10:48:33.605371"
    }
   },
   "outputs": [
    {
     "name": "stdout",
     "output_type": "stream",
     "text": [
      "[]\n"
     ]
    }
   ],
   "source": [
    "# crie uma lista com todos os nomes da lista records.\n",
    "# resultado deve ser uma lista ['Alfredo', 'Fernanda', 'Carla']\n",
    "# 1. Utilizando a forma tradicional de criar lista com append\n",
    "nlist = []\n",
    "#for  :\n",
    "#    nlist.append()\n",
    "print(nlist)"
   ]
  },
  {
   "cell_type": "code",
   "execution_count": 18,
   "metadata": {
    "ExecuteTime": {
     "end_time": "2017-11-24T10:48:33.614472",
     "start_time": "2017-11-24T10:48:33.611631"
    },
    "collapsed": true
   },
   "outputs": [],
   "source": [
    "# 2. Utilizando a forma de list comprehension\n",
    "#nlist2 = [ for ]\n",
    "#print(nlist2)"
   ]
  },
  {
   "cell_type": "markdown",
   "metadata": {},
   "source": [
    "# Exercícios usando NumPy"
   ]
  },
  {
   "cell_type": "markdown",
   "metadata": {},
   "source": [
    "Os seguintes exercícios devem usar apenas o pacote NumPy.\n",
    "Não se deve utilizar nenhum outro pacote adicional.\n",
    "O NumPy é o pacote que ter o Python apropriado para programação científica.\n",
    "A programação eficiente de matrizes multidimensionais (arrays ou tensores) é\n",
    "feita através do conceito de programação matricial que evita o uso de laços\n",
    "e iterações nos elementos da matriz.\n",
    "\n",
    "Existem vários exemplos de uso de NumPy no conjunto de\n",
    "notebooks tutorias disponíveis no GitHub:\n",
    "- https://github.com/robertoalotufo/ia898/blob/master/master/0_index.ipynb"
   ]
  },
  {
   "cell_type": "code",
   "execution_count": 19,
   "metadata": {
    "ExecuteTime": {
     "end_time": "2017-11-24T10:48:34.489036",
     "start_time": "2017-11-24T10:48:33.616181"
    },
    "collapsed": true
   },
   "outputs": [],
   "source": [
    "import numpy as np"
   ]
  },
  {
   "cell_type": "code",
   "execution_count": 20,
   "metadata": {
    "ExecuteTime": {
     "end_time": "2017-11-24T10:48:34.506473",
     "start_time": "2017-11-24T10:48:34.490724"
    }
   },
   "outputs": [
    {
     "name": "stdout",
     "output_type": "stream",
     "text": [
      "[0 1 2 3 4 5 6 7 8 9]\n"
     ]
    }
   ],
   "source": [
    "array = np.arange(10)\n",
    "print(array)"
   ]
  },
  {
   "cell_type": "code",
   "execution_count": 21,
   "metadata": {
    "ExecuteTime": {
     "end_time": "2017-11-24T10:48:34.513057",
     "start_time": "2017-11-24T10:48:34.508011"
    }
   },
   "outputs": [
    {
     "name": "stdout",
     "output_type": "stream",
     "text": [
      "[[ 0  1  2  3  4  5]\n",
      " [ 6  7  8  9 10 11]\n",
      " [12 13 14 15 16 17]\n",
      " [18 19 20 21 22 23]]\n"
     ]
    }
   ],
   "source": [
    "A = np.arange(24).reshape(4,6)\n",
    "print(A)"
   ]
  },
  {
   "cell_type": "markdown",
   "metadata": {},
   "source": [
    "### rows, cols, dimensions, shape and datatype"
   ]
  },
  {
   "cell_type": "code",
   "execution_count": 22,
   "metadata": {
    "ExecuteTime": {
     "end_time": "2017-11-24T10:48:34.523314",
     "start_time": "2017-11-24T10:48:34.514869"
    }
   },
   "outputs": [
    {
     "name": "stdout",
     "output_type": "stream",
     "text": [
      "\n",
      "\n",
      "\n",
      "\n",
      "\n"
     ]
    }
   ],
   "source": [
    "# imprima o número de linhas de A\n",
    "print()\n",
    "# imprima o número de colunas de A\n",
    "print()\n",
    "# imprima o número de dimensões de A\n",
    "print()\n",
    "# imprima o shape de A:\n",
    "print()\n",
    "# imprima o tipo de dados (dtype) dos elementos de A:\n",
    "print()"
   ]
  },
  {
   "cell_type": "markdown",
   "metadata": {},
   "source": [
    "### Reshape"
   ]
  },
  {
   "cell_type": "code",
   "execution_count": 23,
   "metadata": {
    "ExecuteTime": {
     "end_time": "2017-11-24T10:48:34.530033",
     "start_time": "2017-11-24T10:48:34.525152"
    }
   },
   "outputs": [
    {
     "name": "stdout",
     "output_type": "stream",
     "text": [
      "[1 2 3 4] (4,)\n"
     ]
    }
   ],
   "source": [
    "# Seja o vetor unidimension a:\n",
    "a = np.array([1,2,3,4])\n",
    "print(a, a.shape)"
   ]
  },
  {
   "cell_type": "code",
   "execution_count": 24,
   "metadata": {
    "ExecuteTime": {
     "end_time": "2017-11-24T10:48:34.537220",
     "start_time": "2017-11-24T10:48:34.531910"
    }
   },
   "outputs": [
    {
     "name": "stdout",
     "output_type": "stream",
     "text": [
      "[1 2 3 4]\n"
     ]
    }
   ],
   "source": [
    "# converta o vetor unidimensional a em uma matriz vetor coluna (4 linhas e 1 coluna) utilizando reshape\n",
    "a = a\n",
    "print(a)"
   ]
  },
  {
   "cell_type": "markdown",
   "metadata": {},
   "source": [
    "## Operações aritméticas"
   ]
  },
  {
   "cell_type": "code",
   "execution_count": 25,
   "metadata": {
    "ExecuteTime": {
     "end_time": "2017-11-24T10:48:34.553533",
     "start_time": "2017-11-24T10:48:34.538964"
    }
   },
   "outputs": [
    {
     "data": {
      "text/plain": [
       "array([[10, 11, 12, 13, 14, 15],\n",
       "       [16, 17, 18, 19, 20, 21],\n",
       "       [22, 23, 24, 25, 26, 27],\n",
       "       [28, 29, 30, 31, 32, 33]])"
      ]
     },
     "execution_count": 25,
     "metadata": {},
     "output_type": "execute_result"
    }
   ],
   "source": [
    "B = A + 10\n",
    "B"
   ]
  },
  {
   "cell_type": "markdown",
   "metadata": {},
   "source": [
    "### Array binário (booleano)"
   ]
  },
  {
   "cell_type": "code",
   "execution_count": 26,
   "metadata": {
    "ExecuteTime": {
     "end_time": "2017-11-24T10:48:34.559435",
     "start_time": "2017-11-24T10:48:34.555288"
    }
   },
   "outputs": [
    {
     "name": "stdout",
     "output_type": "stream",
     "text": [
      "[[10 11 12 13 14 15]\n",
      " [16 17 18 19 20 21]\n",
      " [22 23 24 25 26 27]\n",
      " [28 29 30 31 32 33]]\n"
     ]
    }
   ],
   "source": [
    "# crie uma matriz booleana C com True nos elementos de B menores que 18 (não utilize loop explícito)\n",
    "C = B # modify your code here\n",
    "print(C)"
   ]
  },
  {
   "cell_type": "markdown",
   "metadata": {},
   "source": [
    "## Indexação booleana"
   ]
  },
  {
   "cell_type": "markdown",
   "metadata": {},
   "source": [
    "Veja um programa que cria matriz D_loop a partir da matriz B, porém trocando os elementos menores que 18 por seus valores negativos"
   ]
  },
  {
   "cell_type": "code",
   "execution_count": 27,
   "metadata": {
    "ExecuteTime": {
     "end_time": "2017-11-24T10:48:34.566831",
     "start_time": "2017-11-24T10:48:34.561157"
    }
   },
   "outputs": [
    {
     "name": "stdout",
     "output_type": "stream",
     "text": [
      "[[-10 -11 -12 -13 -14 -15]\n",
      " [-16 -17  18  19  20  21]\n",
      " [ 22  23  24  25  26  27]\n",
      " [ 28  29  30  31  32  33]]\n"
     ]
    }
   ],
   "source": [
    "D_loop = B.copy()\n",
    "for row in np.arange(B.shape[0]):\n",
    "    for col in np.arange(B.shape[1]):\n",
    "        if B[row,col] < 18:\n",
    "            D_loop[row,col] = - B[row,col]\n",
    "print(D_loop)"
   ]
  },
  {
   "cell_type": "markdown",
   "metadata": {},
   "source": [
    "### Troque o programa acima por uma única linha sem loop"
   ]
  },
  {
   "cell_type": "code",
   "execution_count": 28,
   "metadata": {
    "ExecuteTime": {
     "end_time": "2017-11-24T10:48:34.572561",
     "start_time": "2017-11-24T10:48:34.568860"
    }
   },
   "outputs": [
    {
     "name": "stdout",
     "output_type": "stream",
     "text": [
      "[[10 11 12 13 14 15]\n",
      " [16 17 18 19 20 21]\n",
      " [22 23 24 25 26 27]\n",
      " [28 29 30 31 32 33]]\n"
     ]
    }
   ],
   "source": [
    "D = B   # << modifique aqui utilizando indexação booleana\n",
    "print(D)"
   ]
  },
  {
   "cell_type": "markdown",
   "metadata": {},
   "source": [
    "## Redução de eixo: soma"
   ]
  },
  {
   "cell_type": "markdown",
   "metadata": {},
   "source": [
    "Operações matriciais de redução de eixo são muito úteis e importantes.\n",
    "É um conceito importante da programação matricial.\n",
    "\n",
    "Estude o exemplo a seguir:"
   ]
  },
  {
   "cell_type": "code",
   "execution_count": 29,
   "metadata": {
    "ExecuteTime": {
     "end_time": "2017-11-24T10:48:34.580037",
     "start_time": "2017-11-24T10:48:34.574097"
    }
   },
   "outputs": [
    {
     "name": "stdout",
     "output_type": "stream",
     "text": [
      "[[ 0  1  2  3  4  5]\n",
      " [ 6  7  8  9 10 11]\n",
      " [12 13 14 15 16 17]\n",
      " [18 19 20 21 22 23]]\n",
      "(4, 6)\n",
      "[36 40 44 48 52 56]\n",
      "(6,)\n"
     ]
    }
   ],
   "source": [
    "print(A)\n",
    "print(A.shape)\n",
    "As = A.sum(axis=0)\n",
    "print(As)\n",
    "print(As.shape)"
   ]
  },
  {
   "cell_type": "code",
   "execution_count": 30,
   "metadata": {
    "ExecuteTime": {
     "end_time": "2017-11-24T10:48:34.585861",
     "start_time": "2017-11-24T10:48:34.582054"
    }
   },
   "outputs": [
    {
     "name": "stdout",
     "output_type": "stream",
     "text": [
      "\n",
      "\n"
     ]
    }
   ],
   "source": [
    "# imprima o número de dimensões do array  As = A.sum(axis=0)?\n",
    "print()\n",
    "# calcule o valor médio do array A\n",
    "print()"
   ]
  },
  {
   "cell_type": "markdown",
   "metadata": {},
   "source": [
    "Seja a matriz $C$ que é a normalização da matriz $A$:\n",
    "$$ C(i,j) = \\frac{A(i,j) - A_{min}}{A_{max} - A_{min}} $$\n",
    "\n",
    "Em programação matricial, não se faz o loop em cada elemento da matriz,\n",
    "mas sim, utiliza-se operações matriciais. Faça o exercício a seguir\n",
    "sem utilizar laços explícitos:"
   ]
  },
  {
   "cell_type": "code",
   "execution_count": 31,
   "metadata": {
    "ExecuteTime": {
     "end_time": "2017-11-24T10:48:34.591660",
     "start_time": "2017-11-24T10:48:34.587531"
    }
   },
   "outputs": [
    {
     "name": "stdout",
     "output_type": "stream",
     "text": [
      "[[ 0  1  2  3  4  5]\n",
      " [ 6  7  8  9 10 11]\n",
      " [12 13 14 15 16 17]\n",
      " [18 19 20 21 22 23]]\n"
     ]
    }
   ],
   "source": [
    "# Criar a matriz C que é a normalização de A, de modo que os valores de C estejam entre 0 e 1\n",
    "C = A\n",
    "print(C)"
   ]
  },
  {
   "cell_type": "code",
   "execution_count": 32,
   "metadata": {
    "ExecuteTime": {
     "end_time": "2017-11-24T10:48:34.597498",
     "start_time": "2017-11-24T10:48:34.593373"
    }
   },
   "outputs": [
    {
     "name": "stdout",
     "output_type": "stream",
     "text": [
      "[[ 0  1  2  3  4  5]\n",
      " [ 6  7  8  9 10 11]\n",
      " [12 13 14 15 16 17]\n",
      " [18 19 20 21 22 23]]\n"
     ]
    }
   ],
   "source": [
    "# Modificar o exercício anterior, porém agora faça a normalização para cada coluna de A\n",
    "# de modo que as colunas da matriz D estejam entre os valores de 0 a 1.\n",
    "# Dica: utilize o conceito de redução de eixo\n",
    "D = A\n",
    "print(D)"
   ]
  },
  {
   "cell_type": "markdown",
   "metadata": {},
   "source": [
    "## Fatiamento em arrays (slicing)"
   ]
  },
  {
   "cell_type": "code",
   "execution_count": 33,
   "metadata": {
    "ExecuteTime": {
     "end_time": "2017-11-24T10:48:34.603891",
     "start_time": "2017-11-24T10:48:34.599224"
    }
   },
   "outputs": [
    {
     "name": "stdout",
     "output_type": "stream",
     "text": [
      "[[ 1  3  5]\n",
      " [ 7  9 11]\n",
      " [13 15 17]\n",
      " [19 21 23]]\n"
     ]
    }
   ],
   "source": [
    "# esta indexação é chamada fatiamento:\n",
    "AA = A[:,1::2]\n",
    "print(AA)"
   ]
  },
  {
   "cell_type": "code",
   "execution_count": 34,
   "metadata": {
    "ExecuteTime": {
     "end_time": "2017-11-24T10:48:34.609390",
     "start_time": "2017-11-24T10:48:34.605534"
    }
   },
   "outputs": [
    {
     "name": "stdout",
     "output_type": "stream",
     "text": [
      "[[ 0  1  2  3  4  5]\n",
      " [ 6  7  8  9 10 11]\n",
      " [12 13 14 15 16 17]\n",
      " [18 19 20 21 22 23]]\n"
     ]
    }
   ],
   "source": [
    "# criar a matriz AB apenas com as linhas pares da matriz A, utilizando o conceito de fatiamento:\n",
    "AB = A\n",
    "print(AB)"
   ]
  },
  {
   "cell_type": "code",
   "execution_count": 35,
   "metadata": {
    "ExecuteTime": {
     "end_time": "2017-11-24T10:48:34.615332",
     "start_time": "2017-11-24T10:48:34.611205"
    }
   },
   "outputs": [
    {
     "name": "stdout",
     "output_type": "stream",
     "text": [
      "[[ 0  1  2  3  4  5]\n",
      " [ 6  7  8  9 10 11]\n",
      " [12 13 14 15 16 17]\n",
      " [18 19 20 21 22 23]]\n"
     ]
    }
   ],
   "source": [
    "# crie a matriz AC com mesmo shape da matriz A, porém com os elementos na ordem inversa:\n",
    "# trocando a ordem das linhas e das colunas\n",
    "AC = A\n",
    "print(AC)"
   ]
  },
  {
   "cell_type": "markdown",
   "metadata": {},
   "source": [
    "## Produto matricial  (dot product)"
   ]
  },
  {
   "cell_type": "markdown",
   "metadata": {},
   "source": [
    "Calcule a matriz E dada pelo produto matricial entre a matriz A e sua transposta: \n",
    "$$ E = A A^T $$"
   ]
  },
  {
   "cell_type": "code",
   "execution_count": 36,
   "metadata": {
    "ExecuteTime": {
     "end_time": "2017-11-24T10:48:34.620804",
     "start_time": "2017-11-24T10:48:34.617011"
    }
   },
   "outputs": [
    {
     "name": "stdout",
     "output_type": "stream",
     "text": [
      "[[ 0  1  2  3  4  5]\n",
      " [ 6  7  8  9 10 11]\n",
      " [12 13 14 15 16 17]\n",
      " [18 19 20 21 22 23]]\n"
     ]
    }
   ],
   "source": [
    "E = A # modify your code here\n",
    "print(E)"
   ]
  },
  {
   "cell_type": "code",
   "execution_count": 37,
   "metadata": {
    "ExecuteTime": {
     "end_time": "2017-11-24T10:48:34.625150",
     "start_time": "2017-11-24T10:48:34.622487"
    },
    "collapsed": true
   },
   "outputs": [],
   "source": [
    "# Descomente a linha e explique\n",
    "# por que a operação de multiplicação dá erro?\n",
    "#Ee = A * A.T"
   ]
  },
  {
   "cell_type": "markdown",
   "metadata": {},
   "source": [
    "## Matrizes multidimensionais"
   ]
  },
  {
   "cell_type": "markdown",
   "metadata": {
    "ExecuteTime": {
     "end_time": "2017-08-27T11:37:19.062565",
     "start_time": "2017-08-27T11:37:18.994081"
    }
   },
   "source": [
    "Em deep learning, iremos utilizar matrizes multidimensionais\n",
    "que são denominados como arrays no NumPy. PyTorch usa o nome de tensor para\n",
    "suas matrizes multimensionais.\n",
    "\n",
    "Matrizes de dimensões maior que 4 são de difícil intuição. A melhor forma de lidar\n",
    "com elas é observando o seu *shape*."
   ]
  },
  {
   "cell_type": "markdown",
   "metadata": {},
   "source": [
    "### 3-D array"
   ]
  },
  {
   "cell_type": "code",
   "execution_count": 38,
   "metadata": {
    "ExecuteTime": {
     "end_time": "2017-11-24T10:48:34.630744",
     "start_time": "2017-11-24T10:48:34.626964"
    }
   },
   "outputs": [
    {
     "name": "stdout",
     "output_type": "stream",
     "text": [
      "[[[ 0  1  2  3]\n",
      "  [ 4  5  6  7]\n",
      "  [ 8  9 10 11]]\n",
      "\n",
      " [[12 13 14 15]\n",
      "  [16 17 18 19]\n",
      "  [20 21 22 23]]]\n"
     ]
    }
   ],
   "source": [
    "F = A.reshape(2,3,4)\n",
    "print(F)"
   ]
  },
  {
   "cell_type": "markdown",
   "metadata": {},
   "source": [
    "#### Indexação"
   ]
  },
  {
   "cell_type": "markdown",
   "metadata": {},
   "source": [
    "Estude e explique as seguintes indexações:"
   ]
  },
  {
   "cell_type": "code",
   "execution_count": 39,
   "metadata": {
    "ExecuteTime": {
     "end_time": "2017-11-24T10:48:34.637182",
     "start_time": "2017-11-24T10:48:34.632432"
    }
   },
   "outputs": [
    {
     "name": "stdout",
     "output_type": "stream",
     "text": [
      "[[12 13 14 15]\n",
      " [16 17 18 19]\n",
      " [20 21 22 23]]\n",
      "[12 13 14 15]\n",
      "14\n"
     ]
    }
   ],
   "source": [
    "print(F[1])\n",
    "print(F[1,0])\n",
    "print(F[1,0,2])"
   ]
  },
  {
   "cell_type": "code",
   "execution_count": 40,
   "metadata": {
    "ExecuteTime": {
     "end_time": "2017-11-24T10:48:34.642626",
     "start_time": "2017-11-24T10:48:34.638891"
    }
   },
   "outputs": [
    {
     "name": "stdout",
     "output_type": "stream",
     "text": [
      "\n",
      "\n"
     ]
    }
   ],
   "source": [
    "# imprima o número de dimensões de F\n",
    "print()\n",
    "# imprima o shape de F\n",
    "print()"
   ]
  },
  {
   "cell_type": "markdown",
   "metadata": {},
   "source": [
    "## Redução de eixo - aplicado a dois eixos simultâneos"
   ]
  },
  {
   "cell_type": "markdown",
   "metadata": {},
   "source": [
    "Redução de eixo é quando a operação matricial resulta num array de menores dimensões.\n",
    "Com essas operações, calcula-se estatística de colunas, linhas, etc."
   ]
  },
  {
   "cell_type": "code",
   "execution_count": 41,
   "metadata": {
    "ExecuteTime": {
     "end_time": "2017-11-24T10:48:34.647517",
     "start_time": "2017-11-24T10:48:34.644317"
    }
   },
   "outputs": [
    {
     "name": "stdout",
     "output_type": "stream",
     "text": [
      "\n"
     ]
    }
   ],
   "source": [
    "# calcule o valor médio das matrizes F[0] e F[1], com apenas um comando usando F.mean(??)\n",
    "print()"
   ]
  },
  {
   "cell_type": "markdown",
   "metadata": {},
   "source": [
    "## Broadcasting"
   ]
  },
  {
   "cell_type": "markdown",
   "metadata": {},
   "source": [
    "O que significa o conceito de broadcasting em NumPy?"
   ]
  },
  {
   "cell_type": "code",
   "execution_count": 42,
   "metadata": {
    "ExecuteTime": {
     "end_time": "2017-11-24T10:48:34.653339",
     "start_time": "2017-11-24T10:48:34.649183"
    }
   },
   "outputs": [
    {
     "name": "stdout",
     "output_type": "stream",
     "text": [
      "[0 1 2 3]\n"
     ]
    }
   ],
   "source": [
    "# Usando o conceito de broadcast, mude o shape do vetor a para que o broadcast possa ocorrer em G = A + a\n",
    "a = np.arange(4)\n",
    "print(a)\n",
    "#G = A + a\n",
    "#print(G)"
   ]
  },
  {
   "cell_type": "markdown",
   "metadata": {},
   "source": [
    "## Function - split - dados treino e validação"
   ]
  },
  {
   "cell_type": "markdown",
   "metadata": {},
   "source": [
    "O exercício a seguir é para separar um conjunto de dados (dataset) em dois conjuntos, um\n",
    "de treinamento e outro de validação.\n",
    "\n",
    "\n",
    "Defina uma função que receba como entrada uma matriz, (dataset), onde cada linha é\n",
    "referente a uma amostra e cada coluna referente a um atributo das amostras. O número total de\n",
    "amostras é dado pelas linhas desta matriz.\n",
    "Outro parâmetro de entrada é o fator de split `split_factor`, que é um número real entre 0 e 1. \n",
    "A saída da função são duas matrizes: amostras de treinamento e amostras de validação. \n",
    "A matriz de treinamento contrá o número de linhas dado por `split_factor` vezes o número de amostras.\n",
    "A matriz de validação conterá o restante das amostras."
   ]
  },
  {
   "cell_type": "code",
   "execution_count": 43,
   "metadata": {
    "ExecuteTime": {
     "end_time": "2017-11-24T10:48:34.659465",
     "start_time": "2017-11-24T10:48:34.654983"
    }
   },
   "outputs": [
    {
     "name": "stdout",
     "output_type": "stream",
     "text": [
      "[[ 0  1  2  3  4  5  6  7  8]\n",
      " [ 9 10 11 12 13 14 15 16 17]\n",
      " [18 19 20 21 22 23 24 25 26]\n",
      " [27 28 29 30 31 32 33 34 35]\n",
      " [36 37 38 39 40 41 42 43 44]\n",
      " [45 46 47 48 49 50 51 52 53]\n",
      " [54 55 56 57 58 59 60 61 62]\n",
      " [63 64 65 66 67 68 69 70 71]\n",
      " [72 73 74 75 76 77 78 79 80]\n",
      " [81 82 83 84 85 86 87 88 89]]\n"
     ]
    }
   ],
   "source": [
    "# Entrada, matriz contendo 10 amostras e 9 atributos\n",
    "aa = np.arange(90).reshape(10,9)\n",
    "print(aa)"
   ]
  },
  {
   "cell_type": "code",
   "execution_count": 44,
   "metadata": {
    "ExecuteTime": {
     "end_time": "2017-11-24T10:48:34.665589",
     "start_time": "2017-11-24T10:48:34.661245"
    }
   },
   "outputs": [
    {
     "name": "stdout",
     "output_type": "stream",
     "text": [
      "[[ 0  1  2  3  4  5  6  7  8]\n",
      " [ 9 10 11 12 13 14 15 16 17]\n",
      " [18 19 20 21 22 23 24 25 26]\n",
      " [27 28 29 30 31 32 33 34 35]\n",
      " [36 37 38 39 40 41 42 43 44]\n",
      " [45 46 47 48 49 50 51 52 53]\n",
      " [54 55 56 57 58 59 60 61 62]\n",
      " [63 64 65 66 67 68 69 70 71]]\n"
     ]
    }
   ],
   "source": [
    "# Saída da função t,v = split(aa, 0.8)  # utilizado split_factor de 80%\n",
    "t = np.arange(72).reshape(8,9)\n",
    "print(t)"
   ]
  },
  {
   "cell_type": "code",
   "execution_count": 45,
   "metadata": {
    "ExecuteTime": {
     "end_time": "2017-11-24T10:48:34.671172",
     "start_time": "2017-11-24T10:48:34.667187"
    }
   },
   "outputs": [
    {
     "name": "stdout",
     "output_type": "stream",
     "text": [
      "[[72 73 74 75 76 77 78 79 80]\n",
      " [81 82 83 84 85 86 87 88 89]]\n"
     ]
    }
   ],
   "source": [
    "v = np.arange(72,90).reshape(2,9)\n",
    "print(v)"
   ]
  },
  {
   "cell_type": "code",
   "execution_count": 46,
   "metadata": {
    "ExecuteTime": {
     "end_time": "2017-11-24T10:48:34.679672",
     "start_time": "2017-11-24T10:48:34.672840"
    }
   },
   "outputs": [
    {
     "name": "stdout",
     "output_type": "stream",
     "text": [
      "t=\n",
      " 0\n",
      "v=\n",
      " 0\n"
     ]
    }
   ],
   "source": [
    "# Evite o uso de laço explícito\n",
    "# Não utilize outras bibliotecas além do NumPy\n",
    "def split(dados, split_factor):\n",
    "    '''\n",
    "    divide a matriz dados em dois conjuntos:\n",
    "    matriz train: split_factor * n. de linhas de dados\n",
    "    matriz val: (1-split_factor) * n. de linhas de dados\n",
    "    parametros entrada:\n",
    "        dados: matriz de entrada\n",
    "        split_factor: entre 0. e 1. - fator de divisão em duas matrizes\n",
    "    parametros de saída:\n",
    "        train : matriz com as linhas iniciais de dados\n",
    "        val: matriz com as linhas restantes\n",
    "    '''\n",
    "    # insert your code here\n",
    "    train = val = 0\n",
    "    return train, val\n",
    "\n",
    "t,v = split(aa, 0.8)\n",
    "print('t=\\n', t)\n",
    "print('v=\\n', v)"
   ]
  },
  {
   "cell_type": "code",
   "execution_count": 47,
   "metadata": {
    "ExecuteTime": {
     "end_time": "2017-11-24T10:48:34.684472",
     "start_time": "2017-11-24T10:48:34.681557"
    },
    "collapsed": true
   },
   "outputs": [],
   "source": [
    "# Teste sua função com outros valores"
   ]
  },
  {
   "cell_type": "markdown",
   "metadata": {
    "collapsed": true
   },
   "source": [
    "# Programação Orientada a Objetos"
   ]
  },
  {
   "cell_type": "markdown",
   "metadata": {},
   "source": [
    "Documentação oficial: https://docs.python.org/3/tutorial/classes.html\n",
    "\n",
    "Forma clássica de definição de uma função:"
   ]
  },
  {
   "cell_type": "code",
   "execution_count": 48,
   "metadata": {
    "ExecuteTime": {
     "end_time": "2017-11-24T10:48:34.691958",
     "start_time": "2017-11-24T10:48:34.686202"
    }
   },
   "outputs": [
    {
     "data": {
      "text/plain": [
       "92.833333333333329"
      ]
     },
     "execution_count": 48,
     "metadata": {},
     "output_type": "execute_result"
    }
   ],
   "source": [
    "data = np.array([13, 63, 5, 378, 58, 40])\n",
    "\n",
    "def avg(d):\n",
    "    return sum(d)/len(d)\n",
    "    \n",
    "avg(data)"
   ]
  },
  {
   "cell_type": "markdown",
   "metadata": {},
   "source": [
    "## Definição da classe, variáveis, inicialização e método"
   ]
  },
  {
   "cell_type": "markdown",
   "metadata": {},
   "source": [
    "Definição da classe `MyAvg`, contendo duas variávels: `id` (compartilhada) e `d`; inicialização e método `avg`.\n",
    "\n",
    "- **Classe** é uma forma de definir um tipo abstrato de dados\n",
    "- **Instância** de uma classe é chamada **objeto**\n",
    "- Operadores ou funções de uma classe são chamados **métodos**\n",
    "- **Variáveis de instância** são variáveis associadas à instância\n",
    "- **Variáveis de classe** são variáveis compartilhada com todas as instâncias da classe\n",
    "\n",
    "O nome de uma classe é usualmente escrita usando *Camel case* enquanto que métodos são\n",
    "escritos com caixa baixa."
   ]
  },
  {
   "cell_type": "code",
   "execution_count": 49,
   "metadata": {
    "ExecuteTime": {
     "end_time": "2017-11-24T10:48:34.698207",
     "start_time": "2017-11-24T10:48:34.693790"
    },
    "collapsed": true
   },
   "outputs": [],
   "source": [
    "class MyAvg:\n",
    "    id = 0.33                # variável compartilhada com todas as instâncias\n",
    "    \n",
    "    def __init__(self,data):\n",
    "        self.d = data        # variável associada a cada instância \n",
    "        \n",
    "    def avg(self): # método para calcular a média\n",
    "        return sum(self.d)/len(self.d)"
   ]
  },
  {
   "cell_type": "markdown",
   "metadata": {
    "ExecuteTime": {
     "end_time": "2017-09-28T22:37:21.312216Z",
     "start_time": "2017-09-28T22:37:21.306739Z"
    }
   },
   "source": [
    "Objetos `a` e `b` são instâncias da classe `MyAvg`.\n",
    "Instanciar uma classe é inicializá-la através da chamada ao método __init__:"
   ]
  },
  {
   "cell_type": "code",
   "execution_count": 50,
   "metadata": {
    "ExecuteTime": {
     "end_time": "2017-11-24T10:48:34.702739",
     "start_time": "2017-11-24T10:48:34.699932"
    },
    "collapsed": true
   },
   "outputs": [],
   "source": [
    "a = MyAvg(data)\n",
    "b = MyAvg(2*data)"
   ]
  },
  {
   "cell_type": "markdown",
   "metadata": {},
   "source": [
    "Aplicação do método `avg()`, retorna a média dos dados dos objetos a e b:"
   ]
  },
  {
   "cell_type": "code",
   "execution_count": 51,
   "metadata": {
    "ExecuteTime": {
     "end_time": "2017-11-24T10:48:34.708357",
     "start_time": "2017-11-24T10:48:34.704485"
    }
   },
   "outputs": [
    {
     "name": "stdout",
     "output_type": "stream",
     "text": [
      "92.8333333333\n",
      "185.666666667\n"
     ]
    }
   ],
   "source": [
    "print(a.avg())\n",
    "print(b.avg())"
   ]
  },
  {
   "cell_type": "code",
   "execution_count": 52,
   "metadata": {
    "ExecuteTime": {
     "end_time": "2017-11-24T10:48:34.713753",
     "start_time": "2017-11-24T10:48:34.710083"
    }
   },
   "outputs": [
    {
     "name": "stdout",
     "output_type": "stream",
     "text": [
      "<__main__.MyAvg object at 0x1063cf588>\n",
      "<__main__.MyAvg object at 0x1063cf4e0>\n"
     ]
    }
   ],
   "source": [
    "# Imprima os valores dos dados associados aos objetos a e b:\n",
    "print(a)\n",
    "print(b)"
   ]
  },
  {
   "cell_type": "code",
   "execution_count": 53,
   "metadata": {
    "ExecuteTime": {
     "end_time": "2017-11-24T10:48:34.719368",
     "start_time": "2017-11-24T10:48:34.715338"
    }
   },
   "outputs": [
    {
     "name": "stdout",
     "output_type": "stream",
     "text": [
      "<__main__.MyAvg object at 0x1063cf588>\n",
      "<__main__.MyAvg object at 0x1063cf4e0>\n"
     ]
    }
   ],
   "source": [
    "# Imprima a variável compartilhada `id` de cada objeto a e b:\n",
    "print(a)\n",
    "print(b)"
   ]
  },
  {
   "cell_type": "markdown",
   "metadata": {},
   "source": [
    "## Herança de classe"
   ]
  },
  {
   "cell_type": "code",
   "execution_count": 54,
   "metadata": {
    "ExecuteTime": {
     "end_time": "2017-11-24T10:48:34.724905",
     "start_time": "2017-11-24T10:48:34.721122"
    },
    "collapsed": true
   },
   "outputs": [],
   "source": [
    "class MyAvgStd(MyAvg):\n",
    "    def var(self): # método adicional para calcular a variância\n",
    "        u = self.avg()\n",
    "        return np.sqrt(np.sum((self.d - u)**2)/len(self.d))"
   ]
  },
  {
   "cell_type": "code",
   "execution_count": 55,
   "metadata": {
    "ExecuteTime": {
     "end_time": "2017-11-24T10:48:34.729387",
     "start_time": "2017-11-24T10:48:34.726655"
    },
    "collapsed": true
   },
   "outputs": [],
   "source": [
    "c = MyAvgStd(data)"
   ]
  },
  {
   "cell_type": "code",
   "execution_count": 56,
   "metadata": {
    "ExecuteTime": {
     "end_time": "2017-11-24T10:48:34.735547",
     "start_time": "2017-11-24T10:48:34.731136"
    }
   },
   "outputs": [
    {
     "name": "stdout",
     "output_type": "stream",
     "text": [
      "media: 92.8333333333\n",
      "variancia: 129.29477518\n"
     ]
    }
   ],
   "source": [
    "print('media:',c.avg())\n",
    "print('variancia:',c.var())"
   ]
  },
  {
   "cell_type": "code",
   "execution_count": 57,
   "metadata": {
    "ExecuteTime": {
     "end_time": "2017-11-24T10:48:34.739611",
     "start_time": "2017-11-24T10:48:34.737200"
    },
    "collapsed": true
   },
   "outputs": [],
   "source": [
    "# imprima os dados associados ao objeto c e a sua variável compartilhada id"
   ]
  },
  {
   "cell_type": "markdown",
   "metadata": {},
   "source": [
    "### Exercício: convertendo a função `split` na classe `C_Split`"
   ]
  },
  {
   "cell_type": "markdown",
   "metadata": {},
   "source": [
    "Implemente a classe `C_Split` para ter a mesma funcionalidade da função `split` feita acima"
   ]
  },
  {
   "cell_type": "code",
   "execution_count": 58,
   "metadata": {
    "ExecuteTime": {
     "end_time": "2017-11-24T10:48:34.744816",
     "start_time": "2017-11-24T10:48:34.741384"
    },
    "collapsed": true
   },
   "outputs": [],
   "source": [
    "class C_Split():\n",
    "    def __init__(self,d):\n",
    "        pass\n",
    "    def split(self, split_factor ):\n",
    "        pass"
   ]
  },
  {
   "cell_type": "code",
   "execution_count": 59,
   "metadata": {
    "ExecuteTime": {
     "end_time": "2017-11-24T10:48:34.749098",
     "start_time": "2017-11-24T10:48:34.746587"
    },
    "collapsed": true
   },
   "outputs": [],
   "source": [
    "#data_train_val = C_Split(aa)\n",
    "#train, val = data_train_val.split(0.8)"
   ]
  },
  {
   "cell_type": "markdown",
   "metadata": {},
   "source": [
    "## Classe com métodos `__len__` e `__getitem__`"
   ]
  },
  {
   "cell_type": "markdown",
   "metadata": {},
   "source": [
    "Uma classe com métodos `__len__` e `__getitem__` permite que os objetos possam ser indexados e calculado o seu número de elementos.\n",
    "\n",
    "Veja o exemplo a seguir:"
   ]
  },
  {
   "cell_type": "code",
   "execution_count": 60,
   "metadata": {
    "ExecuteTime": {
     "end_time": "2017-11-24T10:48:34.755820",
     "start_time": "2017-11-24T10:48:34.750857"
    },
    "collapsed": true
   },
   "outputs": [],
   "source": [
    "class Word():\n",
    "    def __init__(self, phrase):\n",
    "        self.wordlist = phrase.split() # separa frase em uma lista de palavras\n",
    "    \n",
    "    def __len__(self):\n",
    "        return len(self.wordlist)\n",
    "    \n",
    "    def __getitem__(self,x):\n",
    "        return self.wordlist[x]"
   ]
  },
  {
   "cell_type": "code",
   "execution_count": 61,
   "metadata": {
    "ExecuteTime": {
     "end_time": "2017-11-24T10:48:34.760433",
     "start_time": "2017-11-24T10:48:34.757750"
    },
    "collapsed": true
   },
   "outputs": [],
   "source": [
    "frase = 'Esta frase é formada por 7 palavras'\n",
    "palavras = Word(frase)"
   ]
  },
  {
   "cell_type": "code",
   "execution_count": 62,
   "metadata": {
    "ExecuteTime": {
     "end_time": "2017-11-24T10:48:34.766299",
     "start_time": "2017-11-24T10:48:34.762252"
    }
   },
   "outputs": [
    {
     "data": {
      "text/plain": [
       "'formada'"
      ]
     },
     "execution_count": 62,
     "metadata": {},
     "output_type": "execute_result"
    }
   ],
   "source": [
    "palavras[3]  # permite a indexação do objeto"
   ]
  },
  {
   "cell_type": "code",
   "execution_count": 63,
   "metadata": {
    "ExecuteTime": {
     "end_time": "2017-11-24T10:48:34.771384",
     "start_time": "2017-11-24T10:48:34.767972"
    }
   },
   "outputs": [
    {
     "name": "stdout",
     "output_type": "stream",
     "text": [
      "7\n"
     ]
    }
   ],
   "source": [
    "print(len(palavras))"
   ]
  },
  {
   "cell_type": "markdown",
   "metadata": {},
   "source": [
    "### Exercício para indexar elementos de um dicionário"
   ]
  },
  {
   "cell_type": "markdown",
   "metadata": {},
   "source": [
    "Um dicionário em Python não é indexado. Por exemplo seja o dicionário `d` a seguir.\n",
    "Não é possível indexar d[0] ou d[1] para buscar o primeiro ou segundo par (chave:valor)."
   ]
  },
  {
   "cell_type": "code",
   "execution_count": 64,
   "metadata": {
    "ExecuteTime": {
     "end_time": "2017-11-24T10:48:34.775919",
     "start_time": "2017-11-24T10:48:34.773248"
    },
    "collapsed": true
   },
   "outputs": [],
   "source": [
    "d = {'a':1,'b': 2}"
   ]
  },
  {
   "cell_type": "markdown",
   "metadata": {},
   "source": [
    "Implementar uma classe que receba um dicionário e permita que ele possa ser indexado.\n",
    "Para converter um dicionário em uma lista de pares, use:"
   ]
  },
  {
   "cell_type": "code",
   "execution_count": 65,
   "metadata": {
    "ExecuteTime": {
     "end_time": "2017-11-24T10:48:34.781948",
     "start_time": "2017-11-24T10:48:34.777863"
    }
   },
   "outputs": [
    {
     "data": {
      "text/plain": [
       "[('a', 1), ('b', 2)]"
      ]
     },
     "execution_count": 65,
     "metadata": {},
     "output_type": "execute_result"
    }
   ],
   "source": [
    "list(d.items())"
   ]
  },
  {
   "cell_type": "markdown",
   "metadata": {},
   "source": [
    "Complete a definição da classe `dicdata` a seguir para que um dicionário possa ser\n",
    "indexado:"
   ]
  },
  {
   "cell_type": "code",
   "execution_count": 66,
   "metadata": {
    "ExecuteTime": {
     "end_time": "2017-11-24T10:48:34.788040",
     "start_time": "2017-11-24T10:48:34.783585"
    },
    "collapsed": true
   },
   "outputs": [],
   "source": [
    "class DicData():\n",
    "    def __init__(self, dic):\n",
    "        print('a definir')\n",
    "        \n",
    "    def __len__(self):\n",
    "        print('a definir')\n",
    "        \n",
    "    def __getitem__(self):\n",
    "        print('a definir')"
   ]
  },
  {
   "cell_type": "code",
   "execution_count": 67,
   "metadata": {
    "ExecuteTime": {
     "end_time": "2017-11-24T10:48:34.816082",
     "start_time": "2017-11-24T10:48:34.789694"
    }
   },
   "outputs": [
    {
     "name": "stdout",
     "output_type": "stream",
     "text": [
      "a definir\n"
     ]
    }
   ],
   "source": [
    "dd = DicData(d)\n",
    "#print(len(dd))\n",
    "#print(dd[0])"
   ]
  },
  {
   "cell_type": "markdown",
   "metadata": {
    "collapsed": true
   },
   "source": [
    "## Iteradores"
   ]
  },
  {
   "cell_type": "markdown",
   "metadata": {},
   "source": [
    "Iteradores são uteis para serem usados em estruturas do tipo `for a in b:`.\n",
    "\n",
    "Listas em Python são consideradas iteráveis, pois podem ser utilizadas nessa estrutura:"
   ]
  },
  {
   "cell_type": "code",
   "execution_count": 68,
   "metadata": {
    "ExecuteTime": {
     "end_time": "2017-11-24T10:48:34.821690",
     "start_time": "2017-11-24T10:48:34.817887"
    }
   },
   "outputs": [
    {
     "name": "stdout",
     "output_type": "stream",
     "text": [
      "a\n",
      "b\n",
      "c\n"
     ]
    }
   ],
   "source": [
    "for i in ['a', 'b', 'c']:\n",
    "    print(i)"
   ]
  },
  {
   "cell_type": "markdown",
   "metadata": {},
   "source": [
    "O método do `range()` do python também é um iterável:"
   ]
  },
  {
   "cell_type": "code",
   "execution_count": 69,
   "metadata": {
    "ExecuteTime": {
     "end_time": "2017-11-24T10:48:34.827296",
     "start_time": "2017-11-24T10:48:34.823318"
    }
   },
   "outputs": [
    {
     "name": "stdout",
     "output_type": "stream",
     "text": [
      "0\n",
      "1\n",
      "2\n"
     ]
    }
   ],
   "source": [
    "for i in range(3):\n",
    "    print(i)"
   ]
  },
  {
   "cell_type": "markdown",
   "metadata": {},
   "source": [
    "É possível acessar o iterador destas estruturas utilizando o método `iter()` do Python e então é possível percorrer seus elementos utilizado `next()`:"
   ]
  },
  {
   "cell_type": "code",
   "execution_count": 70,
   "metadata": {
    "ExecuteTime": {
     "end_time": "2017-11-24T10:48:34.834575",
     "start_time": "2017-11-24T10:48:34.829061"
    }
   },
   "outputs": [
    {
     "name": "stdout",
     "output_type": "stream",
     "text": [
      "tipo de iterador: <class 'list'>\n",
      "tipo de iterador: <class 'list_iterator'>\n",
      "a\n"
     ]
    }
   ],
   "source": [
    "lista = ['a', 'b', 'c']\n",
    "iterador = iter(lista)\n",
    "print('tipo de iterador:', type(lista))\n",
    "print('tipo de iterador:', type(iterador))\n",
    "print(next(iterador))"
   ]
  },
  {
   "cell_type": "markdown",
   "metadata": {},
   "source": [
    "O acesso de iteradores é sequencial e após o ultimo elemento uma exceção é levantada indicando o fim do iterador.\n",
    "Descomente o último `next` e veja o tipo da exceção que acontece."
   ]
  },
  {
   "cell_type": "code",
   "execution_count": 71,
   "metadata": {
    "ExecuteTime": {
     "end_time": "2017-11-24T10:48:34.840458",
     "start_time": "2017-11-24T10:48:34.836436"
    }
   },
   "outputs": [
    {
     "name": "stdout",
     "output_type": "stream",
     "text": [
      "b\n",
      "c\n"
     ]
    }
   ],
   "source": [
    "print(next(iterador))\n",
    "print(next(iterador))\n",
    "#print(next(iterador))"
   ]
  },
  {
   "cell_type": "markdown",
   "metadata": {},
   "source": [
    "## Criando objetos iteráveis"
   ]
  },
  {
   "cell_type": "markdown",
   "metadata": {},
   "source": [
    "Para implementar um objeto iterador é preciso escrever um método `__next__()` para a classe e para que ele seja acessível como iterável também é necessário escrever um método `__iter__()`: "
   ]
  },
  {
   "cell_type": "code",
   "execution_count": 72,
   "metadata": {
    "ExecuteTime": {
     "end_time": "2017-11-24T10:48:34.848707",
     "start_time": "2017-11-24T10:48:34.842063"
    },
    "collapsed": true
   },
   "outputs": [],
   "source": [
    "class WordIterator():\n",
    "    def __init__(self, phrase):\n",
    "        self.words = phrase.split()\n",
    "        \n",
    "    def __iter__(self):\n",
    "        self.iter_index = 0\n",
    "        return self\n",
    "    \n",
    "    def __next__(self):\n",
    "        if self.iter_index < len(self.words):\n",
    "            i = self.iter_index\n",
    "            self.iter_index += 1\n",
    "            return self.words[i]\n",
    "        else:\n",
    "            raise StopIteration()"
   ]
  },
  {
   "cell_type": "markdown",
   "metadata": {},
   "source": [
    "A classe acima é um iterador e é iterável. \n",
    "\n",
    "No método `__iter__()` reiniciamos o índice inicial para o iterador e retornamos o próprio objeto (um iterador).\n",
    "\n",
    "No método `__next__()` retornamos a palavra do índice atual ou a exceção de parada, caso seja o fim."
   ]
  },
  {
   "cell_type": "code",
   "execution_count": 73,
   "metadata": {
    "ExecuteTime": {
     "end_time": "2017-11-24T10:48:34.853670",
     "start_time": "2017-11-24T10:48:34.850613"
    },
    "collapsed": true
   },
   "outputs": [],
   "source": [
    "frase = 'Esta frase é formada por 7 palavras'\n",
    "iterador_de_palavras = WordIterator(frase)"
   ]
  },
  {
   "cell_type": "code",
   "execution_count": 74,
   "metadata": {
    "ExecuteTime": {
     "end_time": "2017-11-24T10:48:34.860627",
     "start_time": "2017-11-24T10:48:34.855389"
    }
   },
   "outputs": [
    {
     "name": "stdout",
     "output_type": "stream",
     "text": [
      "Esta\n",
      "frase\n",
      "é\n",
      "formada\n",
      "por\n",
      "7\n",
      "palavras\n"
     ]
    }
   ],
   "source": [
    "for palavra in iterador_de_palavras:\n",
    "    print(palavra)"
   ]
  },
  {
   "cell_type": "markdown",
   "metadata": {},
   "source": [
    "### Exercício com iterador"
   ]
  },
  {
   "cell_type": "markdown",
   "metadata": {
    "ExecuteTime": {
     "end_time": "2017-09-29T11:41:50.515551",
     "start_time": "2017-09-29T11:41:50.483441"
    }
   },
   "source": [
    "Crie uma classe `DictIterator` que permita varrer os itens de um dicionário utilizando o `for`"
   ]
  },
  {
   "cell_type": "code",
   "execution_count": 75,
   "metadata": {
    "ExecuteTime": {
     "end_time": "2017-11-24T10:48:34.867197",
     "start_time": "2017-11-24T10:48:34.862428"
    },
    "collapsed": true
   },
   "outputs": [],
   "source": [
    "class DictIterator():\n",
    "    def __init__(self, dict):\n",
    "        print('a definir')\n",
    "    def __iter__(self):\n",
    "        print('a definir')\n",
    "    def __next__(self):\n",
    "        print('a definir')"
   ]
  },
  {
   "cell_type": "code",
   "execution_count": 76,
   "metadata": {
    "ExecuteTime": {
     "end_time": "2017-11-24T10:48:34.873303",
     "start_time": "2017-11-24T10:48:34.868889"
    }
   },
   "outputs": [
    {
     "name": "stdout",
     "output_type": "stream",
     "text": [
      "a definir\n"
     ]
    }
   ],
   "source": [
    "d = {'a':1,'b': 2, 'c': 3}\n",
    "d_iter = DictIterator(d)\n",
    "#for i in d_iter:\n",
    "#    print(i)"
   ]
  },
  {
   "cell_type": "markdown",
   "metadata": {},
   "source": [
    "## Objeto como função"
   ]
  },
  {
   "cell_type": "markdown",
   "metadata": {
    "ExecuteTime": {
     "end_time": "2017-09-29T14:25:18.470914",
     "start_time": "2017-09-29T14:25:18.467088"
    }
   },
   "source": [
    "É possível declarar uma classe contendo um objeto possa ser chamado (*callable object*).\n",
    "Para isso, a classe deve conter o método `__call__`. Veja o exemplo a seguir:"
   ]
  },
  {
   "cell_type": "code",
   "execution_count": 77,
   "metadata": {
    "ExecuteTime": {
     "end_time": "2017-11-24T10:48:34.878801",
     "start_time": "2017-11-24T10:48:34.875191"
    },
    "collapsed": true
   },
   "outputs": [],
   "source": [
    "class Scale():\n",
    "    def __init__(self, w):\n",
    "        self._w = w\n",
    "    def __call__(self, x):\n",
    "        return x * self._w"
   ]
  },
  {
   "cell_type": "code",
   "execution_count": 78,
   "metadata": {
    "ExecuteTime": {
     "end_time": "2017-11-24T10:48:34.884098",
     "start_time": "2017-11-24T10:48:34.880506"
    }
   },
   "outputs": [
    {
     "name": "stdout",
     "output_type": "stream",
     "text": [
      "500.0\n"
     ]
    }
   ],
   "source": [
    "s = Scale(100.)\n",
    "print(s(5))\n"
   ]
  },
  {
   "cell_type": "markdown",
   "metadata": {},
   "source": [
    "### Exercício de classe contendo objeto chamável"
   ]
  },
  {
   "cell_type": "markdown",
   "metadata": {},
   "source": [
    "Defina uma classe herdada da classe `Scale` que permita modificar a variável `self._w`."
   ]
  },
  {
   "cell_type": "code",
   "execution_count": 79,
   "metadata": {
    "ExecuteTime": {
     "end_time": "2017-11-24T10:48:34.888869",
     "start_time": "2017-11-24T10:48:34.885999"
    },
    "collapsed": true
   },
   "outputs": [],
   "source": [
    "class AjustaPeso(Scale):\n",
    "    def wset():\n",
    "        print('a preencher')"
   ]
  },
  {
   "cell_type": "code",
   "execution_count": 80,
   "metadata": {
    "ExecuteTime": {
     "end_time": "2017-11-24T10:48:34.894058",
     "start_time": "2017-11-24T10:48:34.890663"
    }
   },
   "outputs": [
    {
     "name": "stdout",
     "output_type": "stream",
     "text": [
      "500.0\n"
     ]
    }
   ],
   "source": [
    "ap = AjustaPeso(100.)\n",
    "print(ap(5))"
   ]
  },
  {
   "cell_type": "code",
   "execution_count": 81,
   "metadata": {
    "ExecuteTime": {
     "end_time": "2017-11-24T10:48:34.898077",
     "start_time": "2017-11-24T10:48:34.895632"
    },
    "collapsed": true
   },
   "outputs": [],
   "source": [
    "#ap.wset(10)\n",
    "#print(ap(5))"
   ]
  },
  {
   "cell_type": "markdown",
   "metadata": {},
   "source": [
    "# Fim do notebook"
   ]
  },
  {
   "cell_type": "code",
   "execution_count": null,
   "metadata": {
    "collapsed": true
   },
   "outputs": [],
   "source": []
  }
 ],
 "metadata": {
  "kernelspec": {
   "display_name": "Python [default]",
   "language": "python",
   "name": "python3"
  },
  "language_info": {
   "codemirror_mode": {
    "name": "ipython",
    "version": 3
   },
   "file_extension": ".py",
   "mimetype": "text/x-python",
   "name": "python",
   "nbconvert_exporter": "python",
   "pygments_lexer": "ipython3",
   "version": "3.6.5"
  },
  "toc": {
   "nav_menu": {
    "height": "354px",
    "width": "252px"
   },
   "number_sections": true,
   "sideBar": true,
   "skip_h1_title": false,
   "toc_cell": false,
   "toc_position": {},
   "toc_section_display": "block",
   "toc_window_display": false
  },
  "varInspector": {
   "cols": {
    "lenName": 16,
    "lenType": 16,
    "lenVar": 40
   },
   "kernels_config": {
    "python": {
     "delete_cmd_postfix": "",
     "delete_cmd_prefix": "del ",
     "library": "var_list.py",
     "varRefreshCmd": "print(var_dic_list())"
    },
    "r": {
     "delete_cmd_postfix": ") ",
     "delete_cmd_prefix": "rm(",
     "library": "var_list.r",
     "varRefreshCmd": "cat(var_dic_list()) "
    }
   },
   "types_to_exclude": [
    "module",
    "function",
    "builtin_function_or_method",
    "instance",
    "_Feature"
   ],
   "window_display": false
  }
 },
 "nbformat": 4,
 "nbformat_minor": 2
}
