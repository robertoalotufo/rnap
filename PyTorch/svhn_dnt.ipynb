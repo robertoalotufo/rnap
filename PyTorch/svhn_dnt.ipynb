{
 "cells": [
  {
   "cell_type": "markdown",
   "metadata": {},
   "source": [
    "# The Street View House Numbers (SVHN) Dataset"
   ]
  },
  {
   "cell_type": "markdown",
   "metadata": {},
   "source": [
    "- http://ufldl.stanford.edu/housenumbers/"
   ]
  },
  {
   "cell_type": "markdown",
   "metadata": {},
   "source": [
    "## Importação dos pacotes"
   ]
  },
  {
   "cell_type": "code",
   "execution_count": 1,
   "metadata": {
    "ExecuteTime": {
     "end_time": "2017-10-12T13:54:40.019237Z",
     "start_time": "2017-10-12T13:54:38.853709Z"
    }
   },
   "outputs": [
    {
     "name": "stdout",
     "output_type": "stream",
     "text": [
      "GPU available: False\n"
     ]
    }
   ],
   "source": [
    "%matplotlib inline\n",
    "import matplotlib.pyplot as plt\n",
    "from IPython import display\n",
    "\n",
    "import os\n",
    "import time\n",
    "import numpy as np\n",
    "\n",
    "import torch\n",
    "import torch.nn as nn\n",
    "import torch.nn.functional as F\n",
    "from torch.optim.lr_scheduler import MultiStepLR, StepLR\n",
    "from torch.utils.data import DataLoader, TensorDataset\n",
    "from torch.autograd import Variable\n",
    "\n",
    "import torchvision as tv\n",
    "\n",
    "from lib.pytorch_trainer import (DeepNetTrainer, \n",
    "                                 ModelCheckpoint, \n",
    "                                 PrintCallback, \n",
    "                                 Callback)\n",
    "\n",
    "use_gpu = torch.cuda.is_available()\n",
    "print('GPU available:', use_gpu)"
   ]
  },
  {
   "cell_type": "code",
   "execution_count": 2,
   "metadata": {
    "ExecuteTime": {
     "end_time": "2017-10-12T13:54:49.395860Z",
     "start_time": "2017-10-12T13:54:40.021928Z"
    },
    "collapsed": true
   },
   "outputs": [],
   "source": [
    "train_trafo = tv.transforms.Compose([\n",
    "    tv.transforms.RandomCrop(30),\n",
    "    tv.transforms.ToTensor(),\n",
    "])\n",
    "valid_trafo = tv.transforms.Compose([\n",
    "    tv.transforms.CenterCrop(30),\n",
    "    tv.transforms.ToTensor(),\n",
    "])\n",
    "\n",
    "train_ds = tv.datasets.SVHN('/data/datasets/Google_SVHN_2/', split='train', \n",
    "                            transform=train_trafo, \n",
    "                            # the original dataset has targets from 1 to 10; convert to 0~9\n",
    "                            target_transform=lambda x: x.astype(np.int)[0] % 10)\n",
    "\n",
    "valid_ds = tv.datasets.SVHN('/data/datasets/Google_SVHN_2/', split='test', \n",
    "                            transform=valid_trafo, \n",
    "                            # the original dataset has targets from 1 to 10; convert to 0~9\n",
    "                            target_transform=lambda x: x.astype(np.int)[0] % 10)"
   ]
  },
  {
   "cell_type": "code",
   "execution_count": 3,
   "metadata": {
    "collapsed": true
   },
   "outputs": [],
   "source": [
    "if 1:\n",
    "    # reduz quantidade de dados para testes iniciais\n",
    "    valid_ds.data = valid_ds.data[:3000]\n",
    "    train_ds.data = train_ds.data[:5000]\n",
    "    valid_ds.labels = valid_ds.labels[:3000]\n",
    "    train_ds.labels = train_ds.labels[:5000]"
   ]
  },
  {
   "cell_type": "code",
   "execution_count": 4,
   "metadata": {
    "ExecuteTime": {
     "end_time": "2017-10-12T13:54:49.881572Z",
     "start_time": "2017-10-12T13:54:49.403163Z"
    }
   },
   "outputs": [
    {
     "name": "stdout",
     "output_type": "stream",
     "text": [
      "3 torch.Size([3, 30, 30])\n"
     ]
    },
    {
     "data": {
      "image/png": "[encoded data removed]",
      "text/plain": [
       "<matplotlib.figure.Figure at 0x1128f3198>"
      ]
     },
     "metadata": {},
     "output_type": "display_data"
    }
   ],
   "source": [
    "ii = np.random.randint(len(train_ds))\n",
    "image, label = train_ds[ii]\n",
    "print(label, image.shape)\n",
    "plt.imshow(image.numpy().transpose(1, 2, 0));"
   ]
  },
  {
   "cell_type": "code",
   "execution_count": 5,
   "metadata": {
    "ExecuteTime": {
     "end_time": "2017-10-12T13:54:49.889231Z",
     "start_time": "2017-10-12T13:54:49.883639Z"
    },
    "collapsed": true
   },
   "outputs": [],
   "source": [
    "batch_size = 20\n",
    "train_dl = DataLoader(train_ds, batch_size=batch_size, shuffle=True)\n",
    "valid_dl = DataLoader(valid_ds, batch_size=batch_size, shuffle=False)"
   ]
  },
  {
   "cell_type": "code",
   "execution_count": 6,
   "metadata": {
    "ExecuteTime": {
     "end_time": "2017-10-12T13:54:49.992575Z",
     "start_time": "2017-10-12T13:54:49.893013Z"
    },
    "collapsed": true
   },
   "outputs": [],
   "source": [
    "class MyPlotCallback(Callback):\n",
    "    def __init__(self, interval=1, max_loss=None):\n",
    "        self.interval = interval\n",
    "        self.max_loss = max_loss\n",
    "    \n",
    "    def on_train_begin(self, n_epochs):\n",
    "        self.line_train = None\n",
    "        self.line_valid = None\n",
    "        \n",
    "        self.fig = plt.figure(figsize=(15,6))\n",
    "        self.ax = self.fig.add_subplot(1, 1, 1)\n",
    "        self.ax.grid(True)\n",
    "        \n",
    "        self.plot_losses(self.trainer.metrics['train']['losses'], \n",
    "                         self.trainer.metrics['valid']['losses'])\n",
    "    \n",
    "    def on_epoch_end(self, epoch, metrics):\n",
    "        if epoch % self.interval == 0:\n",
    "            display.clear_output(wait=True)\n",
    "            self.plot_losses(self.trainer.metrics['train']['losses'], \n",
    "                             self.trainer.metrics['valid']['losses'])            \n",
    "\n",
    "            \n",
    "    def plot_losses(self, htrain, hvalid):\n",
    "        x = np.arange(1, len(htrain) + 1)\n",
    "        max_loss = self.max_loss or np.max(htrain + hvalid)\n",
    "\n",
    "        if self.line_train: self.line_train.remove()\n",
    "        self.line_train, = self.ax.plot(x, htrain, color='#1f77b4', linewidth=2, label='training loss')\n",
    "        \n",
    "        if hvalid[0] is not None:\n",
    "            if self.line_valid: self.line_valid.remove()\n",
    "            self.line_valid, = self.ax.plot(x, hvalid, color='#ff7f0e', linewidth=2, label='validation loss')\n",
    "            best_epoch = int(np.argmin(hvalid)) + 1\n",
    "        else:\n",
    "            best_epoch = int(np.argmin(htrain)) + 1\n",
    "            \n",
    "        self.ax.legend()\n",
    "        self.ax.vlines(best_epoch, *self.ax.get_ylim(), colors='#EBDDE2', linestyles='dashed')\n",
    "        display.display(self.fig)\n",
    "        time.sleep(0.1)\n"
   ]
  },
  {
   "cell_type": "code",
   "execution_count": 7,
   "metadata": {
    "ExecuteTime": {
     "end_time": "2017-10-12T13:54:50.000287Z",
     "start_time": "2017-10-12T13:54:49.995560Z"
    },
    "collapsed": true
   },
   "outputs": [],
   "source": [
    "def compute_accuracy(logits, labels):\n",
    "    _, preds = torch.max(logits.data, 1)\n",
    "    return (preds == labels.data).type(torch.FloatTensor).mean()"
   ]
  },
  {
   "cell_type": "code",
   "execution_count": 8,
   "metadata": {
    "ExecuteTime": {
     "end_time": "2017-10-12T13:54:50.046031Z",
     "start_time": "2017-10-12T13:54:50.004077Z"
    },
    "collapsed": true
   },
   "outputs": [],
   "source": [
    "class MyNet(nn.Module):\n",
    "    # Input size is (-1, 3, 30, 30)\n",
    "    def __init__(self):\n",
    "        super(MyNet, self).__init__()\n",
    "        self.relu = nn.ReLU()\n",
    "        self.pool = nn.MaxPool2d(2, 2)\n",
    "\n",
    "        self.conv1 = nn.Conv2d(3, 6, 5)\n",
    "        self.conv2 = nn.Conv2d(6, 16, 5)\n",
    "        self.fc1 = nn.Linear(16 * 4 * 4, 120)\n",
    "        self.fc2 = nn.Linear(120, 84)\n",
    "        self.fc3 = nn.Linear(84, 10)\n",
    "\n",
    "    def forward(self, x):\n",
    "        x = self.conv1(x)\n",
    "        x = self.relu(x)\n",
    "        x = self.pool(x)\n",
    "        x = self.conv2(x)\n",
    "        x = self.relu(x)\n",
    "        x = self.pool(x)\n",
    "        x = x.view(-1, 16 * 4 * 4)\n",
    "        x = self.fc1(x)\n",
    "        x = self.relu(x)\n",
    "        x = self.fc2(x)\n",
    "        x = self.relu(x)\n",
    "        x = self.fc3(x)\n",
    "        return x\n"
   ]
  },
  {
   "cell_type": "code",
   "execution_count": 9,
   "metadata": {
    "ExecuteTime": {
     "end_time": "2017-10-12T13:54:50.063437Z",
     "start_time": "2017-10-12T13:54:50.048789Z"
    },
    "collapsed": true
   },
   "outputs": [],
   "source": [
    "trainIt = True\n",
    "resetIt = False\n",
    "\n",
    "# Callbacks\n",
    "# ---------\n",
    "chkpt_cb = ModelCheckpoint('../../models/svhn_01XX', reset=resetIt, verbose=1)\n",
    "print_cb = PrintCallback()\n",
    "plot_cb = MyPlotCallback()\n",
    "\n",
    "# Model, optimizer and learning rate scheduler\n",
    "# --------------------------------------------\n",
    "model = MyNet()\n",
    "optimizer = torch.optim.Adam(model.parameters(), lr=1e-4)\n",
    "scheduler = StepLR(optimizer, step_size=5, gamma=0.75)\n",
    "\n",
    "# Network trainer\n",
    "# ---------------\n",
    "training_parameters = {\n",
    "    'model':         model, \n",
    "    'criterion':     nn.CrossEntropyLoss(),\n",
    "    'metrics':       dict(acc=compute_accuracy), \n",
    "    'optimizer':     optimizer, \n",
    "    'lr_scheduler':  scheduler, \n",
    "    'callbacks':     [chkpt_cb, print_cb, plot_cb],\n",
    "}\n",
    "trainer = DeepNetTrainer(**training_parameters)\n"
   ]
  },
  {
   "cell_type": "code",
   "execution_count": 10,
   "metadata": {
    "ExecuteTime": {
     "end_time": "2017-10-12T13:58:30.083554Z",
     "start_time": "2017-10-12T13:54:50.065981Z"
    },
    "scrolled": false
   },
   "outputs": [
    {
     "data": {
      "image/png": "[encoded data removed]",
      "text/plain": [
       "<matplotlib.figure.Figure at 0x182c8823c8>"
      ]
     },
     "metadata": {},
     "output_type": "display_data"
    },
    {
     "name": "stdout",
     "output_type": "stream",
     "text": [
      "Best model was saved at epoch 73 with loss 1.67349: ../../models/svhn_01XX\n",
      "Stop training at epoch: 78/78\n"
     ]
    },
    {
     "data": {
      "image/png": "[encoded data removed]",
      "text/plain": [
       "<matplotlib.figure.Figure at 0x182c8823c8>"
      ]
     },
     "metadata": {},
     "output_type": "display_data"
    }
   ],
   "source": [
    "if trainIt:\n",
    "    trainer.fit(5, train_dl, valid_dl)\n",
    "else:\n",
    "    print('\\nTraining disabled.\\nThis model was trained for {} epochs.'.format(trainer.last_epoch))"
   ]
  },
  {
   "cell_type": "code",
   "execution_count": 11,
   "metadata": {
    "ExecuteTime": {
     "end_time": "2017-10-12T13:59:32.956844Z",
     "start_time": "2017-10-12T13:58:30.086799Z"
    }
   },
   "outputs": [
    {
     "name": "stdout",
     "output_type": "stream",
     "text": [
      "evaluate: 249/249 ok\n",
      "Model training set accuracy after training: 0.42820\n",
      "\n",
      "evaluate: 149/149 ok\n",
      "Model validation set accuracy after training: 0.42167\n"
     ]
    }
   ],
   "source": [
    "metrics = trainer.evaluate_loader(train_dl)\n",
    "print('Model training set accuracy after training: {:.5f}'.format(metrics['acc']))\n",
    "print()\n",
    "metrics = trainer.evaluate_loader(valid_dl)\n",
    "print('Model validation set accuracy after training: {:.5f}'.format(metrics['acc']))"
   ]
  },
  {
   "cell_type": "code",
   "execution_count": null,
   "metadata": {
    "collapsed": true
   },
   "outputs": [],
   "source": []
  }
 ],
 "metadata": {
  "kernelspec": {
   "display_name": "Python 3",
   "language": "python",
   "name": "python3"
  },
  "language_info": {
   "codemirror_mode": {
    "name": "ipython",
    "version": 3
   },
   "file_extension": ".py",
   "mimetype": "text/x-python",
   "name": "python",
   "nbconvert_exporter": "python",
   "pygments_lexer": "ipython3",
   "version": "3.6.2"
  },
  "toc": {
   "nav_menu": {},
   "number_sections": true,
   "sideBar": true,
   "skip_h1_title": false,
   "toc_cell": false,
   "toc_position": {},
   "toc_section_display": "block",
   "toc_window_display": false
  },
  "varInspector": {
   "cols": {
    "lenName": 16,
    "lenType": 16,
    "lenVar": 40
   },
   "kernels_config": {
    "python": {
     "delete_cmd_postfix": "",
     "delete_cmd_prefix": "del ",
     "library": "var_list.py",
     "varRefreshCmd": "print(var_dic_list())"
    },
    "r": {
     "delete_cmd_postfix": ") ",
     "delete_cmd_prefix": "rm(",
     "library": "var_list.r",
     "varRefreshCmd": "cat(var_dic_list()) "
    }
   },
   "types_to_exclude": [
    "module",
    "function",
    "builtin_function_or_method",
    "instance",
    "_Feature"
   ],
   "window_display": false
  }
 },
 "nbformat": 4,
 "nbformat_minor": 2
}
