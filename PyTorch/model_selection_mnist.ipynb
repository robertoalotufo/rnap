{
 "cells": [
  {
   "cell_type": "markdown",
   "metadata": {},
   "source": [
    "# Seleção dos hyperparâmetros "
   ]
  },
  {
   "cell_type": "markdown",
   "metadata": {
    "ExecuteTime": {
     "end_time": "2017-10-25T14:42:06.358993",
     "start_time": "2017-10-25T14:42:06.342896"
    }
   },
   "source": [
    "Hyperparâmetros são os parâmetros que não são aprendidos no processo de treinamento da rede neural. São parâmetros tanto do modelo, como número e tipo de camadas, \n",
    "número de neurônios ou canais em cada camada, como parâmetros do processo de otimização, tais como tipo do otimizador, taxa de aprendizado (learning rate), tamanho\n",
    "do mini-batch, entre outros.\n",
    "\n",
    "Uma opção é disparar um processo automático de busca no espaço de hyperparâmetros para buscar o melhor índice de validação cruzada. \n",
    "\n",
    "Normalmente a busca neste espaço de hyperparâmetros consiste de:\n",
    "- o modelo da rede;\n",
    "- o espaço de hyperparâmetros;\n",
    "- o método de busca e amostragem neste espaço;\n",
    "- o esquema de validação cruzada; e\n",
    "- uma função alvo (*score function*)\n",
    "\n",
    "Este exemplo utiliza a função do sklearn (scikit-learn) `RandomizedSearchCV` para fazer a busca aleatória no espaço de parâmetros."
   ]
  },
  {
   "cell_type": "markdown",
   "metadata": {
    "ExecuteTime": {
     "end_time": "2017-10-25T14:47:19.785475",
     "start_time": "2017-10-25T14:47:19.781571"
    }
   },
   "source": [
    "<img src='../figures/model_selection.png', width=600></img>"
   ]
  },
  {
   "cell_type": "markdown",
   "metadata": {},
   "source": [
    "## Validação cruzada"
   ]
  },
  {
   "cell_type": "markdown",
   "metadata": {
    "ExecuteTime": {
     "end_time": "2017-10-25T14:43:06.568757",
     "start_time": "2017-10-25T14:43:06.564456"
    }
   },
   "source": [
    "<img src='../figures/cross_validation.png', width=600></img>"
   ]
  },
  {
   "cell_type": "markdown",
   "metadata": {},
   "source": [
    "## Objetivos desse experimento"
   ]
  },
  {
   "cell_type": "markdown",
   "metadata": {},
   "source": [
    "Este experimento utiliza como:\n",
    "- **modelo da rede:** fixa - Fully connected, já usada anteriormente\n",
    "- **espaço de hyperparâmetros:** variando learning rate e decay\n",
    "- **método de busca:** RandomizedSearch, onde número de iterações é especificado\n",
    "- **validação cruzada:** n. de folds especificado, opção se usar ou não dados de teste\n",
    "- **função alvo:** negativo do loss (tem que ser alvo a ser maximizado)"
   ]
  },
  {
   "cell_type": "markdown",
   "metadata": {},
   "source": [
    "## Importação dos pacotes tradicionais"
   ]
  },
  {
   "cell_type": "code",
   "execution_count": 1,
   "metadata": {
    "ExecuteTime": {
     "end_time": "2017-10-25T19:30:34.636490Z",
     "start_time": "2017-10-25T19:30:33.493208Z"
    }
   },
   "outputs": [
    {
     "name": "stdout",
     "output_type": "stream",
     "text": [
      "GPU available: False\n"
     ]
    }
   ],
   "source": [
    "%matplotlib inline\n",
    "import matplotlib.pyplot as plt\n",
    "\n",
    "import os, sys\n",
    "import time\n",
    "import numpy as np\n",
    "\n",
    "import torch\n",
    "import torch.nn as nn\n",
    "from torch.utils.data import DataLoader, TensorDataset\n",
    "\n",
    "import torchvision as tv\n",
    "import lib.pytorch_trainer as ptt\n",
    "\n",
    "use_gpu = torch.cuda.is_available()\n",
    "print('GPU available:', use_gpu)\n",
    "\n",
    "np.set_printoptions(precision=3)"
   ]
  },
  {
   "cell_type": "markdown",
   "metadata": {},
   "source": [
    "## Importação dos pacotes de seleção de modelo do scikit-learn"
   ]
  },
  {
   "cell_type": "code",
   "execution_count": 2,
   "metadata": {
    "ExecuteTime": {
     "end_time": "2017-10-25T19:30:36.882462Z",
     "start_time": "2017-10-25T19:30:36.291137Z"
    },
    "collapsed": true
   },
   "outputs": [],
   "source": [
    "from sklearn.base import BaseEstimator\n",
    "from sklearn.model_selection import RandomizedSearchCV\n",
    "from sklearn.model_selection import PredefinedSplit\n",
    "import scipy.stats as st\n"
   ]
  },
  {
   "cell_type": "markdown",
   "metadata": {},
   "source": [
    "## Carregamento dos dados - MNIST"
   ]
  },
  {
   "cell_type": "code",
   "execution_count": 3,
   "metadata": {
    "ExecuteTime": {
     "end_time": "2017-10-25T19:30:38.706641Z",
     "start_time": "2017-10-25T19:30:38.619346Z"
    }
   },
   "outputs": [
    {
     "name": "stdout",
     "output_type": "stream",
     "text": [
      "Número de amostras no dataset (treino): 60000\n",
      "Número de amostras no dataset (teste ): 10000\n"
     ]
    }
   ],
   "source": [
    "train_ds = tv.datasets.MNIST('/data/datasets/MNIST/', train=True, \n",
    "                             transform=tv.transforms.ToTensor())\n",
    "valid_ds = tv.datasets.MNIST('/data/datasets/MNIST/', train=False, \n",
    "                             transform=tv.transforms.ToTensor())\n",
    "n_train = len(train_ds)\n",
    "n_valid = len(valid_ds)\n",
    "print('Número de amostras no dataset (treino):', n_train)\n",
    "print('Número de amostras no dataset (teste ):', n_valid)"
   ]
  },
  {
   "cell_type": "markdown",
   "metadata": {},
   "source": [
    "### Reduzindo o tamanho do dataset apenas para acelerar e testar"
   ]
  },
  {
   "cell_type": "code",
   "execution_count": 4,
   "metadata": {
    "ExecuteTime": {
     "end_time": "2017-10-25T19:30:40.658300Z",
     "start_time": "2017-10-25T19:30:40.650845Z"
    },
    "collapsed": true
   },
   "outputs": [],
   "source": [
    "if True:\n",
    "    fator_reduc = 0.02\n",
    "    n_train = int(fator_reduc * n_train)\n",
    "    n_valid = int(fator_reduc * n_valid)\n",
    "    train_ds.train_data   = train_ds.train_data[:n_train]\n",
    "    train_ds.train_labels = train_ds.train_labels[:n_train]\n",
    "    valid_ds.test_data   = valid_ds.test_data[:n_valid]\n",
    "    valid_ds.test_labels = valid_ds.test_labels[:n_valid]"
   ]
  },
  {
   "cell_type": "code",
   "execution_count": 5,
   "metadata": {
    "ExecuteTime": {
     "end_time": "2017-10-25T19:30:41.313236Z",
     "start_time": "2017-10-25T19:30:41.306683Z"
    }
   },
   "outputs": [
    {
     "name": "stdout",
     "output_type": "stream",
     "text": [
      "Número de amostras no dataset (treino): 1200\n",
      "Número de amostras no dataset (teste ): 200\n"
     ]
    }
   ],
   "source": [
    "print('Número de amostras no dataset (treino):', len(train_ds))\n",
    "print('Número de amostras no dataset (teste ):', len(valid_ds))"
   ]
  },
  {
   "cell_type": "markdown",
   "metadata": {},
   "source": [
    "### Função de criar um split predefinido utilizando o conjunto de treino concatenado com o conjunto de teste"
   ]
  },
  {
   "cell_type": "code",
   "execution_count": 6,
   "metadata": {
    "ExecuteTime": {
     "end_time": "2017-10-25T19:30:50.707809Z",
     "start_time": "2017-10-25T19:30:50.691165Z"
    },
    "collapsed": true
   },
   "outputs": [],
   "source": [
    "def torch_datasets_to_sklearn_cv_data(train_ds, valid_ds):\n",
    "    n_train, n_valid = len(train_ds), len(valid_ds)\n",
    "    x, y = train_ds[0]\n",
    "    all_tuples = list(train_ds) + list(valid_ds)\n",
    "    all_labels = np.array([y for _, y in all_tuples], np.int)\n",
    "    all_data = torch.cat([w.view(1, *x.shape) for w, _ in all_tuples], 0).numpy()\n",
    "    valid_fold = np.zeros_like(all_labels)\n",
    "    valid_fold[:n_train] = -1\n",
    "    psplit = PredefinedSplit(valid_fold)\n",
    "    return all_data, all_labels, psplit"
   ]
  },
  {
   "cell_type": "markdown",
   "metadata": {},
   "source": [
    "### Função para montar o dataset já apropriado para o scikit-learn"
   ]
  },
  {
   "cell_type": "code",
   "execution_count": 7,
   "metadata": {
    "ExecuteTime": {
     "end_time": "2017-10-25T19:30:50.722094Z",
     "start_time": "2017-10-25T19:30:50.710184Z"
    },
    "collapsed": true
   },
   "outputs": [],
   "source": [
    "def get_dataset(use_test_dataset=False, n_splits=6):\n",
    "    if use_test_dataset:\n",
    "        # using the test dataset as a fixed validation set (only one split)\n",
    "        all_data, all_labels, psplit = torch_datasets_to_sklearn_cv_data(train_ds, valid_ds)\n",
    "\n",
    "    else:\n",
    "        all_labels = np.array([y for _, y in list(train_ds)], np.int)\n",
    "        all_data = torch.cat([w.view(1, 1, 28, 28) for w, _ in list(train_ds)], 0).numpy()\n",
    "        psplit = n_splits\n",
    "\n",
    "    # print(all_data.shape, all_data.min(), all_data.max(), '***', all_labels.shape, all_labels.min(), all_labels.max())\n",
    "    return all_data, all_labels, psplit"
   ]
  },
  {
   "cell_type": "markdown",
   "metadata": {},
   "source": [
    "### Cria os dados prontos para o scikit-learn usar no `RandomizedSearchCV` e `fit`"
   ]
  },
  {
   "cell_type": "code",
   "execution_count": 8,
   "metadata": {
    "ExecuteTime": {
     "end_time": "2017-10-25T19:30:50.977174Z",
     "start_time": "2017-10-25T19:30:50.724756Z"
    },
    "collapsed": true
   },
   "outputs": [],
   "source": [
    "use_test_dataset = False\n",
    "n_splits = 3\n",
    "\n",
    "all_data, all_labels, psplit = get_dataset(use_test_dataset=use_test_dataset, \n",
    "                                           n_splits=n_splits)\n"
   ]
  },
  {
   "cell_type": "code",
   "execution_count": 9,
   "metadata": {
    "ExecuteTime": {
     "end_time": "2017-10-25T19:30:50.987592Z",
     "start_time": "2017-10-25T19:30:50.979805Z"
    }
   },
   "outputs": [
    {
     "name": "stdout",
     "output_type": "stream",
     "text": [
      "shape: (1200, 1, 28, 28) (1200,)\n",
      "psplit: 3\n"
     ]
    }
   ],
   "source": [
    "print('shape:',all_data.shape, all_labels.shape)\n",
    "print('psplit:', psplit) # psplit está associado ao número de folders para o cross-validation (CV)"
   ]
  },
  {
   "cell_type": "markdown",
   "metadata": {},
   "source": [
    "## Definição de rede"
   ]
  },
  {
   "cell_type": "code",
   "execution_count": 10,
   "metadata": {
    "ExecuteTime": {
     "end_time": "2017-10-25T19:30:51.004484Z",
     "start_time": "2017-10-25T19:30:50.992176Z"
    },
    "collapsed": true
   },
   "outputs": [],
   "source": [
    "class Model(nn.Module):\n",
    "    def __init__(self):\n",
    "        super().__init__()\n",
    "        self.fc1 = nn.Linear(28 * 28, 50)\n",
    "        self.at1 = nn.ReLU()\n",
    "        self.fc2 = nn.Linear(50, 10)\n",
    "\n",
    "    def forward(self, x):\n",
    "        x = x.view(-1, 28 * 28)\n",
    "        x = self.fc1(x)\n",
    "        x = self.at1(x)\n",
    "        x = self.fc2(x)\n",
    "        return x"
   ]
  },
  {
   "cell_type": "markdown",
   "metadata": {},
   "source": [
    "## Classe para ser chamada pelo `RandomizedSearchCV`"
   ]
  },
  {
   "cell_type": "code",
   "execution_count": 11,
   "metadata": {
    "ExecuteTime": {
     "end_time": "2017-10-25T19:30:51.159007Z",
     "start_time": "2017-10-25T19:30:51.007228Z"
    },
    "collapsed": true
   },
   "outputs": [],
   "source": [
    "class SklEstimator(BaseEstimator):\n",
    "    \n",
    "    skl_id = 0\n",
    "    fit_num = 0\n",
    "    \n",
    "    def __init__(self, model_class=None, criterion_class='CrossEntropyLoss', optim_class='SGD', \n",
    "                 optim_lr=0.001, optim_momentum=0.9, weight_decay=0, \n",
    "                 sched_step=10, sched_gamma=1.0, mb_size=16, n_epochs=100, verbose=True):\n",
    "        self.par_model_class = model_class\n",
    "        self.par_criterion_class = criterion_class\n",
    "        self.par_optim_class = optim_class\n",
    "        self.par_optim_lr = optim_lr\n",
    "        self.par_optim_momentum = optim_momentum\n",
    "        self.par_weight_decay = weight_decay\n",
    "        self.par_sched_step = sched_step\n",
    "        self.par_sched_gamma = sched_gamma\n",
    "        self.par_mb_size = mb_size\n",
    "        self.par_n_epochs = n_epochs\n",
    "        self.par_verbose = verbose\n",
    "        \n",
    "    def _initialize(self):\n",
    "        SklEstimator.skl_id += 1\n",
    "        self.idd = 'skl_model_{}'.format(SklEstimator.skl_id)\n",
    "        \n",
    "        if self.par_model_class is None:\n",
    "            raise Exception('Model not specified.')\n",
    "        \n",
    "        self.model = self.par_model_class()\n",
    "        \n",
    "        if self.par_criterion_class == 'CrossEntropyLoss':\n",
    "            self.criterion = nn.CrossEntropyLoss()\n",
    "        elif self.par_criterion_class == 'MSELoss':\n",
    "            self.criterion = nn.MSELoss()\n",
    "        else:\n",
    "            self.criterion = None\n",
    "            raise Exception(\"A ser implementado ...\")\n",
    "            \n",
    "        if self.par_optim_class == 'Adam':\n",
    "            self.optim = torch.optim.Adam(self.model.parameters(), lr=self.par_optim_lr, \n",
    "                                          weight_decay=self.par_weight_decay)\n",
    "        elif self.par_optim_class == 'SGD':\n",
    "            self.optim = torch.optim.SGD(self.model.parameters(), lr=self.par_optim_lr, \n",
    "                                         momentum=self.par_optim_momentum, nesterov=True,\n",
    "                                         weight_decay=self.par_weight_decay)\n",
    "        else:\n",
    "            self.optim = None\n",
    "            raise Exception(\"A ser implementado ...\")\n",
    "            \n",
    "        if self.par_verbose > 0:\n",
    "            callbacks = [ptt.PrintCallback()]\n",
    "        else:\n",
    "            callbacks = None\n",
    "        \n",
    "        self.trainer = ptt.DeepNetTrainer(model     = self.model, \n",
    "                                          criterion = self.criterion, \n",
    "                                          optimizer = self.optim, \n",
    "                                          callbacks = callbacks)\n",
    "    \n",
    "    def get_params(self, deep):\n",
    "        params = []\n",
    "        for k, v in self.__dict__.items():\n",
    "            if k.startswith('par_'):\n",
    "                params.append((k[4:], v))\n",
    "        return dict(params)\n",
    "    \n",
    "    def set_params(self, **params):\n",
    "        for k, v in params.items():\n",
    "            setattr(self, 'par_' + k, v)\n",
    "        self._initialize()\n",
    "        return self\n",
    "    \n",
    "    def fit(self, Xtrain, ytrain):\n",
    "        SklEstimator.fit_num += 1\n",
    "        self.t0 = time.time()\n",
    "        print('\\n***** Fit #{} '.format(SklEstimator.fit_num))\n",
    "        Xtra = torch.from_numpy(Xtrain)\n",
    "        ytra = torch.from_numpy(ytrain)\n",
    "        self.trainer.fit(self.par_n_epochs, Xtra, ytra, batch_size=self.par_mb_size, shuffle=True)\n",
    "    \n",
    "    def score(self, Xtrain, ytrain):\n",
    "        Xtra = torch.from_numpy(Xtrain)\n",
    "        ytra = torch.from_numpy(ytrain)\n",
    "        mdict = self.trainer.evaluate(Xtra, ytra, batch_size=self.par_mb_size)\n",
    "        score = - mdict['losses'] # negativo pois é busca por máximo score\n",
    "        print('***** Score = {:.5f} [{} samples]  {:.2f}s'.format(score, ytra.shape[0], time.time() - self.t0))\n",
    "        return score"
   ]
  },
  {
   "cell_type": "markdown",
   "metadata": {},
   "source": [
    "## Espaço de parâmetro para a busca"
   ]
  },
  {
   "cell_type": "code",
   "execution_count": 12,
   "metadata": {
    "ExecuteTime": {
     "end_time": "2017-10-25T19:30:51.168828Z",
     "start_time": "2017-10-25T19:30:51.162088Z"
    },
    "collapsed": true
   },
   "outputs": [],
   "source": [
    "parameters_space = {\n",
    "    'optim_lr':        st.uniform(0.0001, 0.005),\n",
    "    'weight_decay':    st.uniform(0.0, 0.01),\n",
    "}"
   ]
  },
  {
   "cell_type": "code",
   "execution_count": 13,
   "metadata": {
    "ExecuteTime": {
     "end_time": "2017-10-25T19:30:51.178065Z",
     "start_time": "2017-10-25T19:30:51.171246Z"
    },
    "collapsed": true
   },
   "outputs": [],
   "source": [
    "parameters = {\n",
    "    'model_class':     [Model],\n",
    "    'optim_class':     ['Adam'], \n",
    "    'mb_size':         [100],\n",
    "    'n_epochs':        [50],\n",
    "}\n",
    "\n",
    "parameters.update(parameters_space) # Junção dos parâmetros fixos e dos a sintonizar"
   ]
  },
  {
   "cell_type": "markdown",
   "metadata": {},
   "source": [
    "## Inicialização do validator e busca dos melhores parâmetros"
   ]
  },
  {
   "cell_type": "code",
   "execution_count": 14,
   "metadata": {
    "ExecuteTime": {
     "end_time": "2017-10-25T19:31:35.889932Z",
     "start_time": "2017-10-25T19:30:51.180517Z"
    },
    "scrolled": false
   },
   "outputs": [
    {
     "name": "stdout",
     "output_type": "stream",
     "text": [
      "Fitting 3 folds for each of 10 candidates, totalling 30 fits\n",
      "\n",
      "***** Fit #1 \n",
      "evaluate: 3/3 ok\n",
      "***** Score = -0.45850 [400 samples]  1.25s\n",
      "evaluate: 7/7 ok\n",
      "***** Score = -0.10202 [800 samples]  1.26s\n",
      "\n",
      "***** Fit #2 \n",
      "evaluate: 3/3 ok\n",
      "***** Score = -0.50940 [400 samples]  1.34s\n",
      "evaluate: 7/7 ok\n",
      "***** Score = -0.08897 [800 samples]  1.36s\n",
      "\n",
      "***** Fit #3 \n",
      "evaluate: 3/3 ok\n",
      "***** Score = -0.56185 [400 samples]  1.46s\n",
      "evaluate: 7/7 ok\n",
      "***** Score = -0.09012 [800 samples]  1.48s\n",
      "\n",
      "***** Fit #4 \n",
      "evaluate: 3/3 ok\n",
      "***** Score = -0.45898 [400 samples]  1.33s\n",
      "evaluate: 7/7 ok\n",
      "***** Score = -0.03616 [800 samples]  1.34s\n",
      "\n",
      "***** Fit #5 \n",
      "evaluate: 3/3 ok\n",
      "***** Score = -0.59202 [400 samples]  1.24s\n",
      "evaluate: 7/7 ok\n",
      "***** Score = -0.03902 [800 samples]  1.26s\n",
      "\n",
      "***** Fit #6 \n",
      "evaluate: 3/3 ok\n",
      "***** Score = -0.63004 [400 samples]  1.38s\n",
      "evaluate: 7/7 ok\n",
      "***** Score = -0.03477 [800 samples]  1.39s\n",
      "\n",
      "***** Fit #7 \n",
      "evaluate: 3/3 ok\n",
      "***** Score = -0.42719 [400 samples]  1.49s\n",
      "evaluate: 7/7 ok\n",
      "***** Score = -0.07897 [800 samples]  1.51s\n",
      "\n",
      "***** Fit #8 \n",
      "evaluate: 3/3 ok\n",
      "***** Score = -0.55027 [400 samples]  1.24s\n",
      "evaluate: 7/7 ok\n",
      "***** Score = -0.07224 [800 samples]  1.26s\n",
      "\n",
      "***** Fit #9 \n",
      "evaluate: 3/3 ok\n",
      "***** Score = -0.57410 [400 samples]  1.22s\n",
      "evaluate: 7/7 ok\n",
      "***** Score = -0.07254 [800 samples]  1.24s\n",
      "\n",
      "***** Fit #10 \n",
      "evaluate: 3/3 ok\n",
      "***** Score = -0.42657 [400 samples]  1.34s\n",
      "evaluate: 7/7 ok\n",
      "***** Score = -0.08181 [800 samples]  1.35s\n",
      "\n",
      "***** Fit #11 \n",
      "evaluate: 3/3 ok\n",
      "***** Score = -0.54031 [400 samples]  1.34s\n",
      "evaluate: 7/7 ok\n",
      "***** Score = -0.08218 [800 samples]  1.35s\n",
      "\n",
      "***** Fit #12 \n",
      "evaluate: 3/3 ok\n",
      "***** Score = -0.58983 [400 samples]  1.37s\n",
      "evaluate: 7/7 ok\n",
      "***** Score = -0.07239 [800 samples]  1.38s\n",
      "\n",
      "***** Fit #13 \n",
      "evaluate: 3/3 ok\n",
      "***** Score = -0.52527 [400 samples]  1.43s\n",
      "evaluate: 7/7 ok\n",
      "***** Score = -0.40275 [800 samples]  1.44s\n",
      "\n",
      "***** Fit #14 \n",
      "evaluate: 3/3 ok\n",
      "***** Score = -0.61715 [400 samples]  1.32s\n",
      "evaluate: 7/7 ok\n",
      "***** Score = -0.38342 [800 samples]  1.33s\n",
      "\n",
      "***** Fit #15 \n",
      "evaluate: 3/3 ok\n",
      "***** Score = -0.64892 [400 samples]  1.40s\n",
      "evaluate: 7/7 ok\n",
      "***** Score = -0.36978 [800 samples]  1.41s\n",
      "\n",
      "***** Fit #16 \n",
      "evaluate: 3/3 ok\n",
      "***** Score = -0.44313 [400 samples]  1.41s\n",
      "evaluate: 7/7 ok\n",
      "***** Score = -0.04437 [800 samples]  1.42s\n",
      "\n",
      "***** Fit #17 \n",
      "evaluate: 3/3 ok\n",
      "***** Score = -0.55157 [400 samples]  1.09s\n",
      "evaluate: 7/7 ok\n",
      "***** Score = -0.04055 [800 samples]  1.11s\n",
      "\n",
      "***** Fit #18 \n",
      "evaluate: 3/3 ok\n",
      "***** Score = -0.57559 [400 samples]  1.39s\n",
      "evaluate: 7/7 ok\n",
      "***** Score = -0.03943 [800 samples]  1.41s\n",
      "\n",
      "***** Fit #19 \n",
      "evaluate: 3/3 ok\n",
      "***** Score = -0.42559 [400 samples]  1.33s\n",
      "evaluate: 7/7 ok\n",
      "***** Score = -0.09673 [800 samples]  1.35s\n",
      "\n",
      "***** Fit #20 \n",
      "evaluate: 3/3 ok\n",
      "***** Score = -0.53671 [400 samples]  1.42s\n",
      "evaluate: 7/7 ok\n",
      "***** Score = -0.09597 [800 samples]  1.43s\n",
      "\n",
      "***** Fit #21 \n",
      "evaluate: 3/3 ok\n",
      "***** Score = -0.57569 [400 samples]  1.20s\n",
      "evaluate: 7/7 ok\n",
      "***** Score = -0.08942 [800 samples]  1.21s\n",
      "\n",
      "***** Fit #22 \n",
      "evaluate: 3/3 ok\n",
      "***** Score = -0.43347 [400 samples]  1.31s\n",
      "evaluate: 7/7 ok\n",
      "***** Score = -0.11657 [800 samples]  1.33s\n",
      "\n",
      "***** Fit #23 \n",
      "evaluate: 3/3 ok\n",
      "***** Score = -0.54041 [400 samples]  1.24s\n",
      "evaluate: 7/7 ok\n",
      "***** Score = -0.11103 [800 samples]  1.25s\n",
      "\n",
      "***** Fit #24 \n",
      "evaluate: 3/3 ok\n",
      "***** Score = -0.56074 [400 samples]  1.25s\n",
      "evaluate: 7/7 ok\n",
      "***** Score = -0.10805 [800 samples]  1.27s\n",
      "\n",
      "***** Fit #25 \n",
      "evaluate: 3/3 ok\n",
      "***** Score = -0.43753 [400 samples]  1.30s\n",
      "evaluate: 7/7 ok\n",
      "***** Score = -0.03361 [800 samples]  1.32s\n",
      "\n",
      "***** Fit #26 \n",
      "evaluate: 3/3 ok\n",
      "***** Score = -0.57055 [400 samples]  1.26s\n",
      "evaluate: 7/7 ok\n",
      "***** Score = -0.03284 [800 samples]  1.27s\n",
      "\n",
      "***** Fit #27 \n",
      "evaluate: 3/3 ok\n",
      "***** Score = -0.62862 [400 samples]  1.28s\n",
      "evaluate: 7/7 ok\n",
      "***** Score = -0.02943 [800 samples]  1.30s\n",
      "\n",
      "***** Fit #28 \n",
      "evaluate: 3/3 ok\n",
      "***** Score = -0.45602 [400 samples]  1.88s\n",
      "evaluate: 7/7 ok\n",
      "***** Score = -0.02471 [800 samples]  1.90s\n",
      "\n",
      "***** Fit #29 \n",
      "evaluate: 3/3 ok\n",
      "***** Score = -0.59693 [400 samples]  1.92s\n",
      "evaluate: 7/7 ok\n",
      "***** Score = -0.02329 [800 samples]  1.94s\n",
      "\n",
      "***** Fit #30 \n",
      "evaluate: 3/3 ok\n",
      "***** Score = -0.65173 [400 samples]  1.92s\n",
      "evaluate: 7/7 ok\n",
      "***** Score = -0.02496 [800 samples]  1.94s\n",
      "\n",
      "***** Fit #31 \n"
     ]
    },
    {
     "name": "stderr",
     "output_type": "stream",
     "text": [
      "[Parallel(n_jobs=1)]: Done  30 out of  30 | elapsed:   41.9s finished\n"
     ]
    }
   ],
   "source": [
    "n_iterations = 10\n",
    "validator = RandomizedSearchCV(SklEstimator(verbose=0), \n",
    "                               param_distributions = parameters, \n",
    "                               cv                  = psplit,\n",
    "                               n_iter              = n_iterations, \n",
    "                               verbose             = 1)\n",
    "\n",
    "try:\n",
    "    validator.fit(all_data, all_labels)\n",
    "\n",
    "except KeyboardInterrupt:\n",
    "    print('Interrupted!')"
   ]
  },
  {
   "cell_type": "markdown",
   "metadata": {},
   "source": [
    "## Avaliação dos resultados"
   ]
  },
  {
   "cell_type": "markdown",
   "metadata": {},
   "source": [
    "### Scores das iterações"
   ]
  },
  {
   "cell_type": "code",
   "execution_count": 15,
   "metadata": {
    "ExecuteTime": {
     "end_time": "2017-10-25T19:31:35.904204Z",
     "start_time": "2017-10-25T19:31:35.893808Z"
    }
   },
   "outputs": [
    {
     "name": "stdout",
     "output_type": "stream",
     "text": [
      "mean_test_score: [-0.51  -0.56  -0.517 -0.519 -0.597 -0.523 -0.513 -0.512 -0.546 -0.568]\n",
      "rank_test_score: [ 1  8  4  5 10  6  3  2  7  9]\n"
     ]
    }
   ],
   "source": [
    "print('mean_test_score:',validator.cv_results_['mean_test_score'])\n",
    "print('rank_test_score:',validator.cv_results_['rank_test_score'])"
   ]
  },
  {
   "cell_type": "markdown",
   "metadata": {},
   "source": [
    "### Parâmetros utilizados em cada iteração"
   ]
  },
  {
   "cell_type": "code",
   "execution_count": 16,
   "metadata": {
    "ExecuteTime": {
     "end_time": "2017-10-25T19:31:35.913825Z",
     "start_time": "2017-10-25T19:31:35.906854Z"
    }
   },
   "outputs": [
    {
     "name": "stdout",
     "output_type": "stream",
     "text": [
      "optim_lr ['0.0032', '0.0045', '0.0018', '0.00095', '0.00029', '0.0028', '0.0022', '0.0021', '0.0017', '0.0045']\n",
      "weight_decay ['0.0076', '0.0026', '0.0046', '0.0013', '0.0088', '0.0028', '0.0068', '0.0086', '0.001', '0.0015']\n"
     ]
    }
   ],
   "source": [
    "for par in parameters_space:\n",
    "    print(par,[ '{:.2}'.format(fit[par]) for fit in validator.cv_results_['params']])"
   ]
  },
  {
   "cell_type": "markdown",
   "metadata": {},
   "source": [
    "### Parâmetros de melhor score"
   ]
  },
  {
   "cell_type": "code",
   "execution_count": 17,
   "metadata": {
    "ExecuteTime": {
     "end_time": "2017-10-25T19:31:35.926637Z",
     "start_time": "2017-10-25T19:31:35.917000Z"
    }
   },
   "outputs": [
    {
     "data": {
      "text/plain": [
       "{'mb_size': 100,\n",
       " 'model_class': __main__.Model,\n",
       " 'n_epochs': 50,\n",
       " 'optim_class': 'Adam',\n",
       " 'optim_lr': 0.0032477643141090415,\n",
       " 'weight_decay': 0.0076184508591873911}"
      ]
     },
     "execution_count": 17,
     "metadata": {},
     "output_type": "execute_result"
    }
   ],
   "source": [
    "validator.best_params_"
   ]
  },
  {
   "cell_type": "code",
   "execution_count": 18,
   "metadata": {
    "ExecuteTime": {
     "end_time": "2017-10-25T19:31:35.936896Z",
     "start_time": "2017-10-25T19:31:35.930121Z"
    }
   },
   "outputs": [
    {
     "data": {
      "text/plain": [
       "(0, -0.50991768886645639)"
      ]
     },
     "execution_count": 18,
     "metadata": {},
     "output_type": "execute_result"
    }
   ],
   "source": [
    "validator.best_index_, validator.best_score_"
   ]
  },
  {
   "cell_type": "code",
   "execution_count": 19,
   "metadata": {
    "ExecuteTime": {
     "end_time": "2017-10-25T19:31:35.978780Z",
     "start_time": "2017-10-25T19:31:35.939801Z"
    }
   },
   "outputs": [
    {
     "name": "stdout",
     "output_type": "stream",
     "text": [
      "\r",
      "evaluate: 0/11\r",
      "evaluate: 1/11\r",
      "evaluate: 2/11\r",
      "evaluate: 3/11\r",
      "evaluate: 4/11\r",
      "evaluate: 5/11\r",
      "evaluate: 6/11\r",
      "evaluate: 7/11\r",
      "evaluate: 8/11\r",
      "evaluate: 9/11\r",
      "evaluate: 10/11\r",
      "evaluate: 11/11 ok\n",
      "***** Score = -0.11960 [1200 samples]  2.89s\n"
     ]
    },
    {
     "data": {
      "text/plain": [
       "-0.11959745921194553"
      ]
     },
     "execution_count": 19,
     "metadata": {},
     "output_type": "execute_result"
    }
   ],
   "source": [
    "validator.best_estimator_.score(all_data, all_labels)"
   ]
  },
  {
   "cell_type": "markdown",
   "metadata": {},
   "source": [
    "## Dicionário completo da busca `RandomizedSearchCV`"
   ]
  },
  {
   "cell_type": "code",
   "execution_count": 20,
   "metadata": {
    "ExecuteTime": {
     "end_time": "2017-10-25T19:31:36.002443Z",
     "start_time": "2017-10-25T19:31:35.981716Z"
    },
    "scrolled": false
   },
   "outputs": [
    {
     "data": {
      "text/plain": [
       "{'mean_fit_time': array([ 1.343,  1.31 ,  1.312,  1.342,  1.374,  1.291,  1.31 ,  1.258,\n",
       "         1.274,  1.893]),\n",
       " 'mean_score_time': array([ 0.009,  0.008,  0.008,  0.007,  0.008,  0.008,  0.007,  0.009,\n",
       "         0.008,  0.013]),\n",
       " 'mean_test_score': array([-0.51 , -0.56 , -0.517, -0.519, -0.597, -0.523, -0.513, -0.512,\n",
       "        -0.546, -0.568]),\n",
       " 'mean_train_score': array([-0.094, -0.037, -0.075, -0.079, -0.385, -0.041, -0.094, -0.112,\n",
       "        -0.032, -0.024]),\n",
       " 'param_mb_size': masked_array(data = [100 100 100 100 100 100 100 100 100 100],\n",
       "              mask = [False False False False False False False False False False],\n",
       "        fill_value = ?),\n",
       " 'param_model_class': masked_array(data = [<class '__main__.Model'> <class '__main__.Model'> <class '__main__.Model'>\n",
       "  <class '__main__.Model'> <class '__main__.Model'> <class '__main__.Model'>\n",
       "  <class '__main__.Model'> <class '__main__.Model'> <class '__main__.Model'>\n",
       "  <class '__main__.Model'>],\n",
       "              mask = [False False False False False False False False False False],\n",
       "        fill_value = ?),\n",
       " 'param_n_epochs': masked_array(data = [50 50 50 50 50 50 50 50 50 50],\n",
       "              mask = [False False False False False False False False False False],\n",
       "        fill_value = ?),\n",
       " 'param_optim_class': masked_array(data = ['Adam' 'Adam' 'Adam' 'Adam' 'Adam' 'Adam' 'Adam' 'Adam' 'Adam' 'Adam'],\n",
       "              mask = [False False False False False False False False False False],\n",
       "        fill_value = ?),\n",
       " 'param_optim_lr': masked_array(data = [0.0032477643141090415 0.0045442551100960309 0.0018375908541363977\n",
       "  0.00094917083166785648 0.0002920393038278179 0.0028446880890142237\n",
       "  0.0022434619476620803 0.0020840839626730767 0.0016517871001608892\n",
       "  0.0045370455971352752],\n",
       "              mask = [False False False False False False False False False False],\n",
       "        fill_value = ?),\n",
       " 'param_weight_decay': masked_array(data = [0.0076184508591873911 0.0025957434297808513 0.0046123676841250448\n",
       "  0.0013046422278176818 0.008841769530407698 0.0027958895044808796\n",
       "  0.0068070282068464442 0.0085557360496174521 0.0010005411590961145\n",
       "  0.001526628182073242],\n",
       "              mask = [False False False False False False False False False False],\n",
       "        fill_value = ?),\n",
       " 'params': ({'mb_size': 100,\n",
       "   'model_class': __main__.Model,\n",
       "   'n_epochs': 50,\n",
       "   'optim_class': 'Adam',\n",
       "   'optim_lr': 0.0032477643141090415,\n",
       "   'weight_decay': 0.0076184508591873911},\n",
       "  {'mb_size': 100,\n",
       "   'model_class': __main__.Model,\n",
       "   'n_epochs': 50,\n",
       "   'optim_class': 'Adam',\n",
       "   'optim_lr': 0.0045442551100960309,\n",
       "   'weight_decay': 0.0025957434297808513},\n",
       "  {'mb_size': 100,\n",
       "   'model_class': __main__.Model,\n",
       "   'n_epochs': 50,\n",
       "   'optim_class': 'Adam',\n",
       "   'optim_lr': 0.0018375908541363977,\n",
       "   'weight_decay': 0.0046123676841250448},\n",
       "  {'mb_size': 100,\n",
       "   'model_class': __main__.Model,\n",
       "   'n_epochs': 50,\n",
       "   'optim_class': 'Adam',\n",
       "   'optim_lr': 0.00094917083166785648,\n",
       "   'weight_decay': 0.0013046422278176818},\n",
       "  {'mb_size': 100,\n",
       "   'model_class': __main__.Model,\n",
       "   'n_epochs': 50,\n",
       "   'optim_class': 'Adam',\n",
       "   'optim_lr': 0.0002920393038278179,\n",
       "   'weight_decay': 0.008841769530407698},\n",
       "  {'mb_size': 100,\n",
       "   'model_class': __main__.Model,\n",
       "   'n_epochs': 50,\n",
       "   'optim_class': 'Adam',\n",
       "   'optim_lr': 0.0028446880890142237,\n",
       "   'weight_decay': 0.0027958895044808796},\n",
       "  {'mb_size': 100,\n",
       "   'model_class': __main__.Model,\n",
       "   'n_epochs': 50,\n",
       "   'optim_class': 'Adam',\n",
       "   'optim_lr': 0.0022434619476620803,\n",
       "   'weight_decay': 0.0068070282068464442},\n",
       "  {'mb_size': 100,\n",
       "   'model_class': __main__.Model,\n",
       "   'n_epochs': 50,\n",
       "   'optim_class': 'Adam',\n",
       "   'optim_lr': 0.0020840839626730767,\n",
       "   'weight_decay': 0.0085557360496174521},\n",
       "  {'mb_size': 100,\n",
       "   'model_class': __main__.Model,\n",
       "   'n_epochs': 50,\n",
       "   'optim_class': 'Adam',\n",
       "   'optim_lr': 0.0016517871001608892,\n",
       "   'weight_decay': 0.0010005411590961145},\n",
       "  {'mb_size': 100,\n",
       "   'model_class': __main__.Model,\n",
       "   'n_epochs': 50,\n",
       "   'optim_class': 'Adam',\n",
       "   'optim_lr': 0.0045370455971352752,\n",
       "   'weight_decay': 0.001526628182073242}),\n",
       " 'rank_test_score': array([ 1,  8,  4,  5, 10,  6,  3,  2,  7,  9], dtype=int32),\n",
       " 'split0_test_score': array([-0.459, -0.459, -0.427, -0.427, -0.525, -0.443, -0.426, -0.433,\n",
       "        -0.438, -0.456]),\n",
       " 'split0_train_score': array([-0.102, -0.036, -0.079, -0.082, -0.403, -0.044, -0.097, -0.117,\n",
       "        -0.034, -0.025]),\n",
       " 'split1_test_score': array([-0.509, -0.592, -0.55 , -0.54 , -0.617, -0.552, -0.537, -0.54 ,\n",
       "        -0.571, -0.597]),\n",
       " 'split1_train_score': array([-0.089, -0.039, -0.072, -0.082, -0.383, -0.041, -0.096, -0.111,\n",
       "        -0.033, -0.023]),\n",
       " 'split2_test_score': array([-0.562, -0.63 , -0.574, -0.59 , -0.649, -0.576, -0.576, -0.561,\n",
       "        -0.629, -0.652]),\n",
       " 'split2_train_score': array([-0.09 , -0.035, -0.073, -0.072, -0.37 , -0.039, -0.089, -0.108,\n",
       "        -0.029, -0.025]),\n",
       " 'std_fit_time': array([ 0.087,  0.053,  0.125,  0.012,  0.046,  0.144,  0.088,  0.029,\n",
       "         0.02 ,  0.019]),\n",
       " 'std_score_time': array([ 0.001,  0.001,  0.003,  0.001,  0.002,  0.002,  0.001,  0.001,\n",
       "         0.002,  0.002]),\n",
       " 'std_test_score': array([ 0.042,  0.073,  0.064,  0.068,  0.052,  0.058,  0.064,  0.056,\n",
       "         0.08 ,  0.082]),\n",
       " 'std_train_score': array([ 0.006,  0.002,  0.003,  0.005,  0.014,  0.002,  0.003,  0.004,\n",
       "         0.002,  0.001])}"
      ]
     },
     "execution_count": 20,
     "metadata": {},
     "output_type": "execute_result"
    }
   ],
   "source": [
    "validator.cv_results_"
   ]
  },
  {
   "cell_type": "markdown",
   "metadata": {
    "collapsed": true
   },
   "source": [
    "# Exercícios"
   ]
  },
  {
   "cell_type": "markdown",
   "metadata": {},
   "source": [
    "1. Adicione um parâmetro adicional na escolha do otimizador: 'SGV' e o 'Adam'.\n",
    "2. Adicione agora um parâmetro na rede, por exemplo trocar a função de ativação de 'ReLU' para 'Sigmoid'.\n",
    "3. Adicione um parâmetro a sua escolha."
   ]
  },
  {
   "cell_type": "code",
   "execution_count": null,
   "metadata": {
    "collapsed": true
   },
   "outputs": [],
   "source": []
  }
 ],
 "metadata": {
  "kernelspec": {
   "display_name": "Python 3",
   "language": "python",
   "name": "python3"
  },
  "language_info": {
   "codemirror_mode": {
    "name": "ipython",
    "version": 3
   },
   "file_extension": ".py",
   "mimetype": "text/x-python",
   "name": "python",
   "nbconvert_exporter": "python",
   "pygments_lexer": "ipython3",
   "version": "3.6.0"
  },
  "toc": {
   "nav_menu": {},
   "number_sections": true,
   "sideBar": true,
   "skip_h1_title": false,
   "toc_cell": false,
   "toc_position": {},
   "toc_section_display": "block",
   "toc_window_display": false
  },
  "varInspector": {
   "cols": {
    "lenName": 16,
    "lenType": 16,
    "lenVar": 40
   },
   "kernels_config": {
    "python": {
     "delete_cmd_postfix": "",
     "delete_cmd_prefix": "del ",
     "library": "var_list.py",
     "varRefreshCmd": "print(var_dic_list())"
    },
    "r": {
     "delete_cmd_postfix": ") ",
     "delete_cmd_prefix": "rm(",
     "library": "var_list.r",
     "varRefreshCmd": "cat(var_dic_list()) "
    }
   },
   "types_to_exclude": [
    "module",
    "function",
    "builtin_function_or_method",
    "instance",
    "_Feature"
   ],
   "window_display": false
  }
 },
 "nbformat": 4,
 "nbformat_minor": 2
}
