{
 "cells": [
  {
   "cell_type": "markdown",
   "metadata": {},
   "source": [
    "# Seleção dos hyperparâmetros "
   ]
  },
  {
   "cell_type": "markdown",
   "metadata": {
    "ExecuteTime": {
     "end_time": "2017-10-25T14:42:06.358993",
     "start_time": "2017-10-25T14:42:06.342896"
    }
   },
   "source": [
    "Hyperparâmetros são os parâmetros que não são aprendidos no processo de treinamento da rede neural. São parâmetros tanto do modelo, como número e tipo de camadas, \n",
    "número de neurônios ou canais em cada camada, como parâmetros do processo de otimização, tais como tipo do otimizador, taxa de aprendizado (learning rate), tamanho\n",
    "do mini-batch, entre outros.\n",
    "\n",
    "Uma opção é disparar um processo automático de busca no espaço de hyperparâmetros para buscar o melhor índice de validação cruzada. \n",
    "\n",
    "Normalmente a busca neste espaço de hyperparâmetros consiste de:\n",
    "- o modelo da rede;\n",
    "- o espaço de hyperparâmetros;\n",
    "- o método de busca e amostragem neste espaço;\n",
    "- o esquema de validação cruzada; e\n",
    "- uma função alvo (*score function*)\n",
    "\n",
    "Este exemplo utiliza a função do sklearn (scikit-learn) `RandomizedSearchCV` para fazer a busca aleatória no espaço de parâmetros."
   ]
  },
  {
   "cell_type": "markdown",
   "metadata": {
    "ExecuteTime": {
     "end_time": "2017-10-25T14:47:19.785475",
     "start_time": "2017-10-25T14:47:19.781571"
    }
   },
   "source": [
    "<img src='../figures/model_selection.png', width=600></img>"
   ]
  },
  {
   "cell_type": "markdown",
   "metadata": {},
   "source": [
    "## Validação cruzada"
   ]
  },
  {
   "cell_type": "markdown",
   "metadata": {
    "ExecuteTime": {
     "end_time": "2017-10-25T14:43:06.568757",
     "start_time": "2017-10-25T14:43:06.564456"
    }
   },
   "source": [
    "<img src='../figures/cross_validation.png', width=600></img>"
   ]
  },
  {
   "cell_type": "markdown",
   "metadata": {},
   "source": [
    "## Objetivos desse experimento"
   ]
  },
  {
   "cell_type": "markdown",
   "metadata": {},
   "source": [
    "Este experimento utiliza como:\n",
    "- **modelo da rede:** fixa - Fully connected, já usada anteriormente\n",
    "- **espaço de hyperparâmetros:** variando learning rate e decay\n",
    "- **método de busca:** RandomizedSearch, onde número de iterações é especificado\n",
    "- **validação cruzada:** n. de folds especificado, opção se usar ou não dados de teste\n",
    "- **função alvo:** negativo do loss (tem que ser alvo a ser maximizado)"
   ]
  },
  {
   "cell_type": "markdown",
   "metadata": {},
   "source": [
    "## Importação dos pacotes tradicionais"
   ]
  },
  {
   "cell_type": "code",
   "execution_count": 1,
   "metadata": {
    "ExecuteTime": {
     "end_time": "2017-10-25T15:28:57.274662",
     "start_time": "2017-10-25T15:28:56.264358"
    }
   },
   "outputs": [
    {
     "name": "stdout",
     "output_type": "stream",
     "text": [
      "GPU available: False\n"
     ]
    }
   ],
   "source": [
    "%matplotlib inline\n",
    "import matplotlib.pyplot as plt\n",
    "\n",
    "import os, sys\n",
    "import time\n",
    "import numpy as np\n",
    "\n",
    "import torch\n",
    "import torch.nn as nn\n",
    "from torch.utils.data import DataLoader, TensorDataset\n",
    "\n",
    "import torchvision as tv\n",
    "import lib.pytorch_trainer as ptt\n",
    "\n",
    "use_gpu = torch.cuda.is_available()\n",
    "print('GPU available:', use_gpu)\n",
    "\n",
    "np.set_printoptions(precision=3)"
   ]
  },
  {
   "cell_type": "markdown",
   "metadata": {},
   "source": [
    "## Importação dos pacotes de seleção de modelo do scikit-learn"
   ]
  },
  {
   "cell_type": "code",
   "execution_count": 2,
   "metadata": {
    "ExecuteTime": {
     "end_time": "2017-10-25T15:28:58.147819",
     "start_time": "2017-10-25T15:28:57.423347"
    },
    "collapsed": true
   },
   "outputs": [],
   "source": [
    "from sklearn.base import BaseEstimator\n",
    "from sklearn.model_selection import RandomizedSearchCV\n",
    "from sklearn.model_selection import PredefinedSplit\n",
    "import scipy.stats as st\n"
   ]
  },
  {
   "cell_type": "markdown",
   "metadata": {},
   "source": [
    "## Carregamento dos dados - MNIST"
   ]
  },
  {
   "cell_type": "code",
   "execution_count": 4,
   "metadata": {
    "ExecuteTime": {
     "end_time": "2017-10-25T15:31:42.952451",
     "start_time": "2017-10-25T15:31:42.900963"
    }
   },
   "outputs": [
    {
     "name": "stdout",
     "output_type": "stream",
     "text": [
      "Número de amostras no dataset (treino): 60000\n",
      "Número de amostras no dataset (teste ): 10000\n"
     ]
    }
   ],
   "source": [
    "train_ds = tv.datasets.MNIST('/data/datasets/MNIST/', train=True, \n",
    "                             transform=tv.transforms.ToTensor())\n",
    "valid_ds = tv.datasets.MNIST('/data/datasets/MNIST/', train=False, \n",
    "                             transform=tv.transforms.ToTensor())\n",
    "n_train = len(train_ds)\n",
    "n_valid = len(valid_ds)\n",
    "print('Número de amostras no dataset (treino):', n_train)\n",
    "print('Número de amostras no dataset (teste ):', n_valid)"
   ]
  },
  {
   "cell_type": "markdown",
   "metadata": {},
   "source": [
    "### Reduzindo o tamanho do dataset apenas para acelerar e testar"
   ]
  },
  {
   "cell_type": "code",
   "execution_count": 6,
   "metadata": {
    "ExecuteTime": {
     "end_time": "2017-10-25T15:35:24.523595",
     "start_time": "2017-10-25T15:35:24.518329"
    },
    "collapsed": true
   },
   "outputs": [],
   "source": [
    "if True:\n",
    "    fator_reduc = 0.1\n",
    "    n_train = int(fator_reduc * n_train)\n",
    "    n_valid = int(fator_reduc * n_valid)\n",
    "    train_ds.train_data   = train_ds.train_data[:n_train]\n",
    "    train_ds.train_labels = train_ds.train_labels[:n_train]\n",
    "    valid_ds.test_data   = valid_ds.test_data[:n_valid]\n",
    "    valid_ds.test_labels = valid_ds.test_labels[:n_valid]"
   ]
  },
  {
   "cell_type": "code",
   "execution_count": 7,
   "metadata": {
    "ExecuteTime": {
     "end_time": "2017-10-25T15:35:58.340441",
     "start_time": "2017-10-25T15:35:58.335713"
    }
   },
   "outputs": [
    {
     "name": "stdout",
     "output_type": "stream",
     "text": [
      "Número de amostras no dataset (treino): 600\n",
      "Número de amostras no dataset (teste ): 100\n"
     ]
    }
   ],
   "source": [
    "print('Número de amostras no dataset (treino):', len(train_ds))\n",
    "print('Número de amostras no dataset (teste ):', len(valid_ds))"
   ]
  },
  {
   "cell_type": "markdown",
   "metadata": {},
   "source": [
    "### Função de criar um split predefinido utilizando o conjunto de treino concatenado com o conjunto de teste"
   ]
  },
  {
   "cell_type": "code",
   "execution_count": 8,
   "metadata": {
    "ExecuteTime": {
     "end_time": "2017-10-25T15:39:38.116673",
     "start_time": "2017-10-25T15:39:38.107726"
    },
    "collapsed": true
   },
   "outputs": [],
   "source": [
    "def torch_datasets_to_sklearn_cv_data(train_ds, valid_ds):\n",
    "    n_train, n_valid = len(train_ds), len(valid_ds)\n",
    "    x, y = train_ds[0]\n",
    "    all_tuples = list(train_ds) + list(valid_ds)\n",
    "    all_labels = np.array([y for _, y in all_tuples], np.int)\n",
    "    all_data = torch.cat([w.view(1, *x.shape) for w, _ in all_tuples], 0).numpy()\n",
    "    valid_fold = np.zeros_like(all_labels)\n",
    "    valid_fold[:n_train] = -1\n",
    "    psplit = PredefinedSplit(valid_fold)\n",
    "    return all_data, all_labels, psplit"
   ]
  },
  {
   "cell_type": "markdown",
   "metadata": {},
   "source": [
    "### Função para montar o dataset já apropriado para o scikit-learn"
   ]
  },
  {
   "cell_type": "code",
   "execution_count": 9,
   "metadata": {
    "ExecuteTime": {
     "end_time": "2017-10-25T15:39:40.262881",
     "start_time": "2017-10-25T15:39:40.255222"
    },
    "collapsed": true
   },
   "outputs": [],
   "source": [
    "def get_dataset(use_test_dataset=False, n_splits=6):\n",
    "    if use_test_dataset:\n",
    "        # using the test dataset as a fixed validation set (only one split)\n",
    "        all_data, all_labels, psplit = torch_datasets_to_sklearn_cv_data(train_ds, valid_ds)\n",
    "\n",
    "    else:\n",
    "        all_labels = np.array([y for _, y in list(train_ds)], np.int)\n",
    "        all_data = torch.cat([w.view(1, 1, 28, 28) for w, _ in list(train_ds)], 0).numpy()\n",
    "        psplit = n_splits\n",
    "\n",
    "    # print(all_data.shape, all_data.min(), all_data.max(), '***', all_labels.shape, all_labels.min(), all_labels.max())\n",
    "    return all_data, all_labels, psplit"
   ]
  },
  {
   "cell_type": "markdown",
   "metadata": {},
   "source": [
    "### Cria os dados prontos para o scikit-learn usar no `RandomizedSearchCV` e `fit`"
   ]
  },
  {
   "cell_type": "code",
   "execution_count": 57,
   "metadata": {
    "ExecuteTime": {
     "end_time": "2017-10-25T16:52:15.928792",
     "start_time": "2017-10-25T16:52:15.822412"
    },
    "collapsed": true
   },
   "outputs": [],
   "source": [
    "use_test_dataset = False\n",
    "n_splits = 3\n",
    "\n",
    "all_data, all_labels, psplit = get_dataset(use_test_dataset=use_test_dataset, \n",
    "                                           n_splits=n_splits)\n"
   ]
  },
  {
   "cell_type": "code",
   "execution_count": 58,
   "metadata": {
    "ExecuteTime": {
     "end_time": "2017-10-25T16:52:18.976134",
     "start_time": "2017-10-25T16:52:18.971331"
    }
   },
   "outputs": [
    {
     "name": "stdout",
     "output_type": "stream",
     "text": [
      "shape: (600, 1, 28, 28) (600,)\n",
      "psplit: 3\n"
     ]
    }
   ],
   "source": [
    "print('shape:',all_data.shape, all_labels.shape)\n",
    "print('psplit:', psplit) # psplit está associado ao número de folders para o cross-validation (CV)"
   ]
  },
  {
   "cell_type": "markdown",
   "metadata": {},
   "source": [
    "## Definição de rede"
   ]
  },
  {
   "cell_type": "code",
   "execution_count": 59,
   "metadata": {
    "ExecuteTime": {
     "end_time": "2017-10-25T16:52:21.858949",
     "start_time": "2017-10-25T16:52:21.851283"
    },
    "collapsed": true
   },
   "outputs": [],
   "source": [
    "class Model(nn.Module):\n",
    "    def __init__(self):\n",
    "        super().__init__()\n",
    "        self.fc1 = nn.Linear(28 * 28, 50)\n",
    "        self.at1 = nn.ReLU()\n",
    "        self.fc2 = nn.Linear(50, 10)\n",
    "\n",
    "    def forward(self, x):\n",
    "        x = x.view(-1, 28 * 28)\n",
    "        x = self.fc1(x)\n",
    "        x = self.at1(x)\n",
    "        x = self.fc2(x)\n",
    "        return x"
   ]
  },
  {
   "cell_type": "markdown",
   "metadata": {},
   "source": [
    "## Classe para ser chamada pelo `RandomizedSearchCV`"
   ]
  },
  {
   "cell_type": "code",
   "execution_count": 60,
   "metadata": {
    "ExecuteTime": {
     "end_time": "2017-10-25T16:52:23.171415",
     "start_time": "2017-10-25T16:52:23.077911"
    },
    "collapsed": true
   },
   "outputs": [],
   "source": [
    "class SklEstimator(BaseEstimator):\n",
    "    \n",
    "    skl_id = 0\n",
    "    fit_num = 0\n",
    "    \n",
    "    def __init__(self, model_class=None, criterion_class='CrossEntropyLoss', optim_class='SGD', \n",
    "                 optim_lr=0.001, optim_momentum=0.9, weight_decay=0, \n",
    "                 sched_step=10, sched_gamma=1.0, mb_size=16, n_epochs=100, verbose=True):\n",
    "        self.par_model_class = model_class\n",
    "        self.par_criterion_class = criterion_class\n",
    "        self.par_optim_class = optim_class\n",
    "        self.par_optim_lr = optim_lr\n",
    "        self.par_optim_momentum = optim_momentum\n",
    "        self.par_weight_decay = weight_decay\n",
    "        self.par_sched_step = sched_step\n",
    "        self.par_sched_gamma = sched_gamma\n",
    "        self.par_mb_size = mb_size\n",
    "        self.par_n_epochs = n_epochs\n",
    "        self.par_verbose = verbose\n",
    "        \n",
    "    def _initialize(self):\n",
    "        SklEstimator.skl_id += 1\n",
    "        self.idd = 'skl_model_{}'.format(SklEstimator.skl_id)\n",
    "        \n",
    "        if self.par_model_class is None:\n",
    "            raise Exception('Model not specified.')\n",
    "        \n",
    "        self.model = self.par_model_class()\n",
    "        \n",
    "        if self.par_criterion_class == 'CrossEntropyLoss':\n",
    "            self.criterion = nn.CrossEntropyLoss()\n",
    "        elif self.par_criterion_class == 'MSELoss':\n",
    "            self.criterion = nn.MSELoss()\n",
    "        else:\n",
    "            self.criterion = None\n",
    "            raise Exception(\"A ser implementado ...\")\n",
    "            \n",
    "        if self.par_optim_class == 'Adam':\n",
    "            self.optim = torch.optim.Adam(self.model.parameters(), lr=self.par_optim_lr, \n",
    "                                          weight_decay=self.par_weight_decay)\n",
    "        elif self.par_optim_class == 'SGD':\n",
    "            self.optim = torch.optim.SGD(self.model.parameters(), lr=self.par_optim_lr, \n",
    "                                         momentum=self.par_optim_momentum, nesterov=True,\n",
    "                                         weight_decay=self.par_weight_decay)\n",
    "        else:\n",
    "            self.optim = None\n",
    "            raise Exception(\"A ser implementado ...\")\n",
    "            \n",
    "        if self.par_verbose > 0:\n",
    "            callbacks = [ptt.PrintCallback()]\n",
    "        else:\n",
    "            callbacks = None\n",
    "        \n",
    "        self.trainer = ptt.DeepNetTrainer(model     = self.model, \n",
    "                                          criterion = self.criterion, \n",
    "                                          optimizer = self.optim, \n",
    "                                          callbacks = callbacks)\n",
    "    \n",
    "    def get_params(self, deep):\n",
    "        params = []\n",
    "        for k, v in self.__dict__.items():\n",
    "            if k.startswith('par_'):\n",
    "                params.append((k[4:], v))\n",
    "        return dict(params)\n",
    "    \n",
    "    def set_params(self, **params):\n",
    "        for k, v in params.items():\n",
    "            setattr(self, 'par_' + k, v)\n",
    "        self._initialize()\n",
    "        return self\n",
    "    \n",
    "    def fit(self, Xtrain, ytrain):\n",
    "        SklEstimator.fit_num += 1\n",
    "        self.t0 = time.time()\n",
    "        print('\\n***** Fit #{} '.format(SklEstimator.fit_num))\n",
    "        Xtra = torch.from_numpy(Xtrain)\n",
    "        ytra = torch.from_numpy(ytrain)\n",
    "        self.trainer.fit(self.par_n_epochs, Xtra, ytra, batch_size=self.par_mb_size, shuffle=True)\n",
    "    \n",
    "    def score(self, Xtrain, ytrain):\n",
    "        Xtra = torch.from_numpy(Xtrain)\n",
    "        ytra = torch.from_numpy(ytrain)\n",
    "        loss = self.trainer.score(Xtra, ytra, batch_size=self.par_mb_size)\n",
    "        print('***** Score = {:.5f} [{} samples]  {:.2f}s'.format(loss, ytra.shape[0], time.time() - self.t0))\n",
    "        return loss"
   ]
  },
  {
   "cell_type": "markdown",
   "metadata": {},
   "source": [
    "## Espaço de parâmetro para a busca"
   ]
  },
  {
   "cell_type": "code",
   "execution_count": null,
   "metadata": {
    "collapsed": true
   },
   "outputs": [],
   "source": [
    "parameters_space = {\n",
    "    'optim_lr':        st.uniform(0.0001, 0.005),\n",
    "    'weight_decay':    st.uniform(0.0, 0.01),\n",
    "}"
   ]
  },
  {
   "cell_type": "code",
   "execution_count": null,
   "metadata": {
    "collapsed": true
   },
   "outputs": [],
   "source": [
    "parameters = {\n",
    "    'model_class':     [Model],\n",
    "    'optim_class':     ['Adam'], \n",
    "    'mb_size':         [100],\n",
    "    'n_epochs':        [50],\n",
    "}\n",
    "\n",
    "parameters.update(parameters_space) # Junção dos parâmetros fixos e dos a sintonizar"
   ]
  },
  {
   "cell_type": "markdown",
   "metadata": {},
   "source": [
    "## Inicialização do validator e busca dos melhores parâmetros"
   ]
  },
  {
   "cell_type": "code",
   "execution_count": 61,
   "metadata": {
    "ExecuteTime": {
     "end_time": "2017-10-25T16:52:23.649319",
     "start_time": "2017-10-25T16:52:23.640468"
    },
    "collapsed": true
   },
   "outputs": [],
   "source": [
    "n_iterations = 10\n",
    "validator = RandomizedSearchCV(SklEstimator(verbose=0), \n",
    "                               param_distributions = parameters, \n",
    "                               cv                  = psplit,\n",
    "                               n_iter              = n_iterations, \n",
    "                               verbose             = 1)\n",
    "\n",
    "try:\n",
    "    validator.fit(all_data, all_labels)\n",
    "\n",
    "except KeyboardInterrupt:\n",
    "    print('Interrupted!')"
   ]
  },
  {
   "cell_type": "markdown",
   "metadata": {},
   "source": [
    "## Avaliação dos resultados"
   ]
  },
  {
   "cell_type": "markdown",
   "metadata": {},
   "source": [
    "### Scores das iterações"
   ]
  },
  {
   "cell_type": "code",
   "execution_count": 69,
   "metadata": {
    "ExecuteTime": {
     "end_time": "2017-10-25T18:14:53.261670",
     "start_time": "2017-10-25T18:14:53.256041"
    }
   },
   "outputs": [
    {
     "name": "stdout",
     "output_type": "stream",
     "text": [
      "mean_test_score: [-0.51  -0.518 -0.515 -0.639 -0.519 -0.524 -0.552 -0.521 -0.529 -0.513]\n",
      "rank_test_score: [ 1  4  3 10  5  7  9  6  8  2]\n"
     ]
    }
   ],
   "source": [
    "print('mean_test_score:',validator.cv_results_['mean_test_score'])\n",
    "print('rank_test_score:',validator.cv_results_['rank_test_score'])"
   ]
  },
  {
   "cell_type": "markdown",
   "metadata": {},
   "source": [
    "### Parâmetros utilizados em cada iteração"
   ]
  },
  {
   "cell_type": "code",
   "execution_count": 70,
   "metadata": {
    "ExecuteTime": {
     "end_time": "2017-10-25T18:14:54.205416",
     "start_time": "2017-10-25T18:14:54.200872"
    }
   },
   "outputs": [
    {
     "name": "stdout",
     "output_type": "stream",
     "text": [
      "optim_lr ['0.0014', '0.0028', '0.0039', '0.00046', '0.0041', '0.0029', '0.0041', '0.0009', '0.0023', '0.0017']\n",
      "weight_decay ['0.0077', '0.007', '0.0064', '0.0097', '0.0046', '0.0097', '0.00032', '0.0043', '0.0093', '0.0059']\n"
     ]
    }
   ],
   "source": [
    "for par in parameters_space:\n",
    "    print(par,[ '{:.2}'.format(fit[par]) for fit in validator.cv_results_['params']])"
   ]
  },
  {
   "cell_type": "markdown",
   "metadata": {},
   "source": [
    "### Parâmetros de melhor score"
   ]
  },
  {
   "cell_type": "code",
   "execution_count": 65,
   "metadata": {
    "ExecuteTime": {
     "end_time": "2017-10-25T18:07:07.727853",
     "start_time": "2017-10-25T18:07:07.715052"
    }
   },
   "outputs": [
    {
     "data": {
      "text/plain": [
       "{'mb_size': 100,\n",
       " 'model_class': __main__.Model,\n",
       " 'n_epochs': 50,\n",
       " 'optim_class': 'Adam',\n",
       " 'optim_lr': 0.0014482255288768169,\n",
       " 'weight_decay': 0.0076691268819118101}"
      ]
     },
     "execution_count": 65,
     "metadata": {},
     "output_type": "execute_result"
    }
   ],
   "source": [
    "validator.best_params_"
   ]
  },
  {
   "cell_type": "code",
   "execution_count": 66,
   "metadata": {
    "ExecuteTime": {
     "end_time": "2017-10-25T18:07:12.038527",
     "start_time": "2017-10-25T18:07:12.034009"
    }
   },
   "outputs": [
    {
     "data": {
      "text/plain": [
       "(0, -0.51031715671221412)"
      ]
     },
     "execution_count": 66,
     "metadata": {},
     "output_type": "execute_result"
    }
   ],
   "source": [
    "validator.best_index_, validator.best_score_"
   ]
  },
  {
   "cell_type": "code",
   "execution_count": 67,
   "metadata": {
    "ExecuteTime": {
     "end_time": "2017-10-25T18:07:18.632134",
     "start_time": "2017-10-25T18:07:18.537449"
    }
   },
   "outputs": [
    {
     "name": "stdout",
     "output_type": "stream",
     "text": [
      "***** Score = -0.10458 [600 samples]  4474.46s\n"
     ]
    },
    {
     "data": {
      "text/plain": [
       "-0.10457577804724376"
      ]
     },
     "execution_count": 67,
     "metadata": {},
     "output_type": "execute_result"
    }
   ],
   "source": [
    "validator.best_estimator_.score(all_data, all_labels)"
   ]
  },
  {
   "cell_type": "markdown",
   "metadata": {},
   "source": [
    "## Dicionário completo da busca `RandomizedSearchCV`"
   ]
  },
  {
   "cell_type": "code",
   "execution_count": 68,
   "metadata": {
    "ExecuteTime": {
     "end_time": "2017-10-25T18:07:33.795791",
     "start_time": "2017-10-25T18:07:33.780585"
    },
    "scrolled": false
   },
   "outputs": [
    {
     "data": {
      "text/plain": [
       "{'mean_fit_time': array([ 0.619,  0.621,  0.664,  0.663,  0.696,  0.736,  0.639,  0.629,\n",
       "         0.618,  0.61 ]),\n",
       " 'mean_score_time': array([ 0.003,  0.003,  0.003,  0.003,  0.005,  0.003,  0.003,  0.003,\n",
       "         0.003,  0.003]),\n",
       " 'mean_test_score': array([-0.51 , -0.518, -0.515, -0.639, -0.519, -0.524, -0.552, -0.521,\n",
       "        -0.529, -0.513]),\n",
       " 'mean_train_score': array([-0.098, -0.066, -0.056, -0.348, -0.042, -0.085, -0.007, -0.135,\n",
       "        -0.09 , -0.075]),\n",
       " 'param_mb_size': masked_array(data = [100 100 100 100 100 100 100 100 100 100],\n",
       "              mask = [False False False False False False False False False False],\n",
       "        fill_value = ?),\n",
       " 'param_model_class': masked_array(data = [<class '__main__.Model'> <class '__main__.Model'> <class '__main__.Model'>\n",
       "  <class '__main__.Model'> <class '__main__.Model'> <class '__main__.Model'>\n",
       "  <class '__main__.Model'> <class '__main__.Model'> <class '__main__.Model'>\n",
       "  <class '__main__.Model'>],\n",
       "              mask = [False False False False False False False False False False],\n",
       "        fill_value = ?),\n",
       " 'param_n_epochs': masked_array(data = [50 50 50 50 50 50 50 50 50 50],\n",
       "              mask = [False False False False False False False False False False],\n",
       "        fill_value = ?),\n",
       " 'param_optim_class': masked_array(data = ['Adam' 'Adam' 'Adam' 'Adam' 'Adam' 'Adam' 'Adam' 'Adam' 'Adam' 'Adam'],\n",
       "              mask = [False False False False False False False False False False],\n",
       "        fill_value = ?),\n",
       " 'param_optim_lr': masked_array(data = [0.0014482255288768169 0.002817147378311324 0.0038583797324127783\n",
       "  0.00045666217613222419 0.0040761015217832489 0.0028622634534854587\n",
       "  0.0041253125797823436 0.00089981039792862648 0.0023014186921163568\n",
       "  0.0016656553811183832],\n",
       "              mask = [False False False False False False False False False False],\n",
       "        fill_value = ?),\n",
       " 'param_weight_decay': masked_array(data = [0.0076691268819118101 0.0070243198712101607 0.0064334378800838844\n",
       "  0.00974158187627641 0.0046457134531364078 0.0097431559490992765\n",
       "  0.00032024238329005252 0.0043068721613216303 0.0093335878806167193\n",
       "  0.0059370662801762229],\n",
       "              mask = [False False False False False False False False False False],\n",
       "        fill_value = ?),\n",
       " 'params': [{'mb_size': 100,\n",
       "   'model_class': __main__.Model,\n",
       "   'n_epochs': 50,\n",
       "   'optim_class': 'Adam',\n",
       "   'optim_lr': 0.0014482255288768169,\n",
       "   'weight_decay': 0.0076691268819118101},\n",
       "  {'mb_size': 100,\n",
       "   'model_class': __main__.Model,\n",
       "   'n_epochs': 50,\n",
       "   'optim_class': 'Adam',\n",
       "   'optim_lr': 0.002817147378311324,\n",
       "   'weight_decay': 0.0070243198712101607},\n",
       "  {'mb_size': 100,\n",
       "   'model_class': __main__.Model,\n",
       "   'n_epochs': 50,\n",
       "   'optim_class': 'Adam',\n",
       "   'optim_lr': 0.0038583797324127783,\n",
       "   'weight_decay': 0.0064334378800838844},\n",
       "  {'mb_size': 100,\n",
       "   'model_class': __main__.Model,\n",
       "   'n_epochs': 50,\n",
       "   'optim_class': 'Adam',\n",
       "   'optim_lr': 0.00045666217613222419,\n",
       "   'weight_decay': 0.00974158187627641},\n",
       "  {'mb_size': 100,\n",
       "   'model_class': __main__.Model,\n",
       "   'n_epochs': 50,\n",
       "   'optim_class': 'Adam',\n",
       "   'optim_lr': 0.0040761015217832489,\n",
       "   'weight_decay': 0.0046457134531364078},\n",
       "  {'mb_size': 100,\n",
       "   'model_class': __main__.Model,\n",
       "   'n_epochs': 50,\n",
       "   'optim_class': 'Adam',\n",
       "   'optim_lr': 0.0028622634534854587,\n",
       "   'weight_decay': 0.0097431559490992765},\n",
       "  {'mb_size': 100,\n",
       "   'model_class': __main__.Model,\n",
       "   'n_epochs': 50,\n",
       "   'optim_class': 'Adam',\n",
       "   'optim_lr': 0.0041253125797823436,\n",
       "   'weight_decay': 0.00032024238329005252},\n",
       "  {'mb_size': 100,\n",
       "   'model_class': __main__.Model,\n",
       "   'n_epochs': 50,\n",
       "   'optim_class': 'Adam',\n",
       "   'optim_lr': 0.00089981039792862648,\n",
       "   'weight_decay': 0.0043068721613216303},\n",
       "  {'mb_size': 100,\n",
       "   'model_class': __main__.Model,\n",
       "   'n_epochs': 50,\n",
       "   'optim_class': 'Adam',\n",
       "   'optim_lr': 0.0023014186921163568,\n",
       "   'weight_decay': 0.0093335878806167193},\n",
       "  {'mb_size': 100,\n",
       "   'model_class': __main__.Model,\n",
       "   'n_epochs': 50,\n",
       "   'optim_class': 'Adam',\n",
       "   'optim_lr': 0.0016656553811183832,\n",
       "   'weight_decay': 0.0059370662801762229}],\n",
       " 'rank_test_score': array([ 1,  4,  3, 10,  5,  7,  9,  6,  8,  2], dtype=int32),\n",
       " 'split0_test_score': array([-0.52 , -0.527, -0.526, -0.67 , -0.54 , -0.542, -0.568, -0.523,\n",
       "        -0.542, -0.533]),\n",
       " 'split0_train_score': array([-0.098, -0.067, -0.056, -0.348, -0.043, -0.087, -0.007, -0.142,\n",
       "        -0.089, -0.078]),\n",
       " 'split1_test_score': array([-0.411, -0.407, -0.392, -0.529, -0.405, -0.411, -0.404, -0.416,\n",
       "        -0.413, -0.397]),\n",
       " 'split1_train_score': array([-0.101, -0.067, -0.06 , -0.362, -0.043, -0.089, -0.007, -0.134,\n",
       "        -0.094, -0.078]),\n",
       " 'split2_test_score': array([-0.6  , -0.618, -0.627, -0.717, -0.612, -0.62 , -0.683, -0.623,\n",
       "        -0.632, -0.61 ]),\n",
       " 'split2_train_score': array([-0.094, -0.063, -0.051, -0.332, -0.042, -0.08 , -0.006, -0.129,\n",
       "        -0.086, -0.07 ]),\n",
       " 'std_fit_time': array([ 0.091,  0.09 ,  0.117,  0.13 ,  0.106,  0.051,  0.08 ,  0.106,\n",
       "         0.086,  0.086]),\n",
       " 'std_score_time': array([  3.512e-05,   2.381e-05,   5.143e-04,   1.064e-04,   3.111e-03,\n",
       "          3.014e-04,   7.090e-05,   7.300e-06,   5.312e-05,   5.745e-05]),\n",
       " 'std_test_score': array([ 0.077,  0.087,  0.096,  0.08 ,  0.086,  0.086,  0.115,  0.085,\n",
       "         0.09 ,  0.088]),\n",
       " 'std_train_score': array([ 0.003,  0.002,  0.004,  0.012,  0.   ,  0.004,  0.   ,  0.005,\n",
       "         0.003,  0.004])}"
      ]
     },
     "execution_count": 68,
     "metadata": {},
     "output_type": "execute_result"
    }
   ],
   "source": [
    "validator.cv_results_"
   ]
  },
  {
   "cell_type": "markdown",
   "metadata": {
    "collapsed": true
   },
   "source": [
    "# Exercícios"
   ]
  },
  {
   "cell_type": "markdown",
   "metadata": {},
   "source": [
    "1. Adicione um parâmetro adicional na escolha do otimizador: 'SGV' e o 'Adam'.\n",
    "2. Adicione agora um parâmetro na rede, por exemplo trocar a função de ativação de 'ReLU' para 'Sigmoid'.\n",
    "3. Adicione um parâmetro a sua escolha."
   ]
  },
  {
   "cell_type": "code",
   "execution_count": null,
   "metadata": {
    "collapsed": true
   },
   "outputs": [],
   "source": []
  }
 ],
 "metadata": {
  "kernelspec": {
   "display_name": "Python 3",
   "language": "python",
   "name": "python3"
  },
  "language_info": {
   "codemirror_mode": {
    "name": "ipython",
    "version": 3
   },
   "file_extension": ".py",
   "mimetype": "text/x-python",
   "name": "python",
   "nbconvert_exporter": "python",
   "pygments_lexer": "ipython3",
   "version": "3.6.0"
  },
  "toc": {
   "colors": {
    "hover_highlight": "#DAA520",
    "running_highlight": "#FF0000",
    "selected_highlight": "#FFD700"
   },
   "moveMenuLeft": true,
   "nav_menu": {},
   "navigate_menu": true,
   "number_sections": true,
   "sideBar": true,
   "skip_h1_title": false,
   "threshold": 4,
   "toc_cell": false,
   "toc_position": {},
   "toc_section_display": "block",
   "toc_window_display": false,
   "widenNotebook": false
  },
  "varInspector": {
   "cols": {
    "lenName": 16,
    "lenType": 16,
    "lenVar": 40
   },
   "kernels_config": {
    "python": {
     "delete_cmd_postfix": "",
     "delete_cmd_prefix": "del ",
     "library": "var_list.py",
     "varRefreshCmd": "print(var_dic_list())"
    },
    "r": {
     "delete_cmd_postfix": ") ",
     "delete_cmd_prefix": "rm(",
     "library": "var_list.r",
     "varRefreshCmd": "cat(var_dic_list()) "
    }
   },
   "types_to_exclude": [
    "module",
    "function",
    "builtin_function_or_method",
    "instance",
    "_Feature"
   ],
   "window_display": false
  }
 },
 "nbformat": 4,
 "nbformat_minor": 2
}
