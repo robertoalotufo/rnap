{
 "cells": [
  {
   "cell_type": "markdown",
   "metadata": {
    "heading_collapsed": true
   },
   "source": [
    "# Datasets e DataLoaders no Pytorch"
   ]
  },
  {
   "cell_type": "markdown",
   "metadata": {
    "hidden": true
   },
   "source": [
    "Demonstração do funcionamento dos Datasets e Dataloaders no Pytorch"
   ]
  },
  {
   "cell_type": "markdown",
   "metadata": {
    "heading_collapsed": true
   },
   "source": [
    "# Datasets"
   ]
  },
  {
   "cell_type": "markdown",
   "metadata": {
    "hidden": true
   },
   "source": [
    "No Pytorch, datasets são objetos utilizados para armazenar, indexar e e retornar elementos de um conjunto de dados.\n",
    "\n",
    "Usualmente eles devem ter duas funções:\n",
    "\n",
    "- `__getitem__` para retornar o elemento de um índice e \n",
    "- `__len__` para retornar o número de elementos do dataset."
   ]
  },
  {
   "cell_type": "markdown",
   "metadata": {
    "heading_collapsed": true,
    "hidden": true
   },
   "source": [
    "## Criando um Dataset com `torch.utils.data.TensorDataset`"
   ]
  },
  {
   "cell_type": "markdown",
   "metadata": {
    "hidden": true
   },
   "source": [
    "Se os dados e as classes forem disponibilizados em arrays do numpy ou tensores do próprio PyTorch é possível criar um dataset utilizando [torch.utils.data.TensorDataset](http://pytorch.org/docs/master/data.html#torch.utils.data.TensorDataset):"
   ]
  },
  {
   "cell_type": "code",
   "execution_count": 1,
   "metadata": {
    "ExecuteTime": {
     "end_time": "2017-10-08T11:34:30.937052Z",
     "start_time": "2017-10-08T11:34:30.479875Z"
    },
    "hidden": true
   },
   "outputs": [],
   "source": [
    "import numpy as np\n",
    "import torch\n",
    "from torch.utils.data import TensorDataset"
   ]
  },
  {
   "cell_type": "markdown",
   "metadata": {
    "ExecuteTime": {
     "end_time": "2017-10-08T11:34:30.937052Z",
     "start_time": "2017-10-08T11:34:30.479875Z"
    },
    "hidden": true
   },
   "source": [
    "### Dados anotados: x_data (entrada) e target (classe a que pertence)  "
   ]
  },
  {
   "cell_type": "code",
   "execution_count": 2,
   "metadata": {
    "ExecuteTime": {
     "end_time": "2017-10-08T11:34:30.937052Z",
     "start_time": "2017-10-08T11:34:30.479875Z"
    },
    "hidden": true
   },
   "outputs": [
    {
     "name": "stdout",
     "output_type": "stream",
     "text": [
      "dimensões de x_data: (20, 3)\n",
      "dimensões de target: (20,)\n"
     ]
    }
   ],
   "source": [
    "x_data = np.random.rand(20, 3)                 # 20 vetores de 3 elementos criados aleatoriamente\n",
    "target = np.random.randint(0, 3, size=20)    # 20 classes 0, 1, ou 2 criadas aleatoriamente\n",
    "\n",
    "print('dimensões de x_data:', x_data.shape)\n",
    "print('dimensões de target:', target.shape)"
   ]
  },
  {
   "cell_type": "markdown",
   "metadata": {
    "ExecuteTime": {
     "end_time": "2017-10-08T11:34:30.944416Z",
     "start_time": "2017-10-08T11:34:30.938947Z"
    },
    "collapsed": true,
    "heading_collapsed": true,
    "hidden": true
   },
   "source": [
    "### Passo 1: transformar em tensores torch"
   ]
  },
  {
   "cell_type": "code",
   "execution_count": 3,
   "metadata": {
    "ExecuteTime": {
     "end_time": "2017-10-08T11:34:30.944416Z",
     "start_time": "2017-10-08T11:34:30.938947Z"
    },
    "hidden": true
   },
   "outputs": [],
   "source": [
    "x_data = torch.FloatTensor(x_data)\n",
    "target = torch.LongTensor(target)"
   ]
  },
  {
   "cell_type": "markdown",
   "metadata": {
    "ExecuteTime": {
     "end_time": "2017-10-08T11:34:30.944416Z",
     "start_time": "2017-10-08T11:34:30.938947Z"
    },
    "collapsed": true,
    "heading_collapsed": true,
    "hidden": true
   },
   "source": [
    "### Passo 2: usar `TensorDataset` para criar o dataset com os tensores"
   ]
  },
  {
   "cell_type": "code",
   "execution_count": 4,
   "metadata": {
    "ExecuteTime": {
     "end_time": "2017-10-08T11:34:30.944416Z",
     "start_time": "2017-10-08T11:34:30.938947Z"
    },
    "hidden": true
   },
   "outputs": [],
   "source": [
    "dataset = TensorDataset(x_data, target)"
   ]
  },
  {
   "cell_type": "markdown",
   "metadata": {
    "hidden": true
   },
   "source": [
    "Cada elemento do dataset retornará uma tupla com dois elementos:\n",
    "- dado de entrada e\n",
    "- a classe correspondente"
   ]
  },
  {
   "cell_type": "code",
   "execution_count": 5,
   "metadata": {
    "ExecuteTime": {
     "end_time": "2017-10-08T11:34:30.953173Z",
     "start_time": "2017-10-08T11:34:30.947028Z"
    },
    "hidden": true
   },
   "outputs": [
    {
     "name": "stdout",
     "output_type": "stream",
     "text": [
      "dado: \n",
      " 0.9730\n",
      " 0.9963\n",
      " 0.1858\n",
      "[torch.FloatTensor of size 3]\n",
      "\n",
      "classe: 1\n"
     ]
    }
   ],
   "source": [
    "i = 10\n",
    "x, y = dataset[i]\n",
    "\n",
    "print('dado:', x)\n",
    "print('classe:', y)"
   ]
  },
  {
   "cell_type": "markdown",
   "metadata": {
    "heading_collapsed": true,
    "hidden": true
   },
   "source": [
    "## Criando um Dataset com `torch.utils.data.Dataset`"
   ]
  },
  {
   "cell_type": "markdown",
   "metadata": {
    "hidden": true
   },
   "source": [
    "É possível criar uma nova classe, derivada de `Dataset` para tratar casos mais complexos e especiais."
   ]
  },
  {
   "cell_type": "markdown",
   "metadata": {
    "heading_collapsed": true,
    "hidden": true
   },
   "source": [
    "### Estrutura básica do Dataset"
   ]
  },
  {
   "cell_type": "markdown",
   "metadata": {
    "hidden": true
   },
   "source": [
    "Vamos criar um dataset de exemplo utilizando como classe base [torch.utils.data.Dataset](http://pytorch.org/docs/master/data.html#torch.utils.data.Dataset).\n",
    "\n",
    "Para criar uma subclasse de `Dataset` é preciso definir as funções:\n",
    "- `__len__`: para retornar o tamanho do dataset, e\n",
    "- `__getitem__`: para retornar um elemento de um índice dado.\n",
    "\n",
    "A função `__len__` é chamada quando usamos o método `len(dataset)` do Python e `__getitem__` é chamada quando fazemos a indexação `dataset[i]`."
   ]
  },
  {
   "cell_type": "code",
   "execution_count": 6,
   "metadata": {
    "ExecuteTime": {
     "end_time": "2017-10-08T11:34:30.961940Z",
     "start_time": "2017-10-08T11:34:30.955215Z"
    },
    "hidden": true
   },
   "outputs": [],
   "source": [
    "from torch.utils.data import Dataset\n",
    "\n",
    "class MyDataset(Dataset):\n",
    "    def __len__(self):\n",
    "        pass\n",
    "    \n",
    "    def __getitem__(self):\n",
    "        pass"
   ]
  },
  {
   "cell_type": "markdown",
   "metadata": {
    "hidden": true
   },
   "source": [
    "Acima temos a estrutura básica de uma classe do Dataset, mas precisamos de dados, por isso vamos criar dados aleatórios para testar o seu funcionamento."
   ]
  },
  {
   "cell_type": "markdown",
   "metadata": {
    "heading_collapsed": true,
    "hidden": true
   },
   "source": [
    "### Inicialização"
   ]
  },
  {
   "cell_type": "code",
   "execution_count": 7,
   "metadata": {
    "ExecuteTime": {
     "end_time": "2017-10-08T11:34:30.975412Z",
     "start_time": "2017-10-08T11:34:30.964242Z"
    },
    "hidden": true
   },
   "outputs": [],
   "source": [
    "class MyDataset(Dataset):\n",
    "    def __init__(self):\n",
    "        super(MyDataset, self).__init__()\n",
    "       \n",
    "        # gera 20 vetores de 3 elementos\n",
    "        self.data = torch.rand(20, 3)\n",
    "    \n",
    "    def __len__(self):\n",
    "        pass\n",
    "    \n",
    "    def __getitem__(self):\n",
    "        pass"
   ]
  },
  {
   "cell_type": "markdown",
   "metadata": {
    "hidden": true
   },
   "source": [
    "No código acima utilizamos o método [torch.rand](http://pytorch.org/docs/master/torch.html#torch.rand) para gerar 20 vetores de 3 elementos (ou uma matrix 20x3) no construtor da classe, que serão nossos dados. \n"
   ]
  },
  {
   "cell_type": "markdown",
   "metadata": {
    "heading_collapsed": true,
    "hidden": true
   },
   "source": [
    "### Definindo `__len__` e `__getitem__`:"
   ]
  },
  {
   "cell_type": "code",
   "execution_count": 8,
   "metadata": {
    "ExecuteTime": {
     "end_time": "2017-10-08T11:34:30.991821Z",
     "start_time": "2017-10-08T11:34:30.978394Z"
    },
    "hidden": true
   },
   "outputs": [],
   "source": [
    "from torch.utils.data import Dataset\n",
    "\n",
    "class MyDataset(Dataset):\n",
    "    def __init__(self):\n",
    "        super(MyDataset, self).__init__()\n",
    "        \n",
    "        # gera 20 vetores de 3 elementos\n",
    "        self.data = torch.rand(20, 3)\n",
    "    \n",
    "    def __len__(self):\n",
    "        # retorna o tamanho da primeira dimensão\n",
    "        return self.data.size(0)\n",
    "    \n",
    "    def __getitem__(self, i):\n",
    "        # retornar a i-ésima matriz 3x3 de data\n",
    "        return self.data[i, :]"
   ]
  },
  {
   "cell_type": "markdown",
   "metadata": {
    "hidden": true
   },
   "source": [
    "Nossa classe está pronta, podemos criar um objeto dela."
   ]
  },
  {
   "cell_type": "markdown",
   "metadata": {
    "ExecuteTime": {
     "end_time": "2017-10-08T11:34:30.998713Z",
     "start_time": "2017-10-08T11:34:30.994307Z"
    },
    "collapsed": true,
    "heading_collapsed": true,
    "hidden": true
   },
   "source": [
    "### Criando e testando um objeto da nossa classe"
   ]
  },
  {
   "cell_type": "code",
   "execution_count": 9,
   "metadata": {
    "ExecuteTime": {
     "end_time": "2017-10-08T11:34:30.998713Z",
     "start_time": "2017-10-08T11:34:30.994307Z"
    },
    "hidden": true
   },
   "outputs": [],
   "source": [
    "dataset = MyDataset()"
   ]
  },
  {
   "cell_type": "markdown",
   "metadata": {
    "hidden": true
   },
   "source": [
    "Nosso método `__len__` deve retornar o tamanho da primeira dimensão dos dados (20), que é o tamanho de vetores de 3 elementos no dataset.\n",
    "\n",
    "Podemos verificar se o método está correto chamando o `len()` do Python:"
   ]
  },
  {
   "cell_type": "code",
   "execution_count": 10,
   "metadata": {
    "ExecuteTime": {
     "end_time": "2017-10-08T11:34:31.007017Z",
     "start_time": "2017-10-08T11:34:31.001464Z"
    },
    "hidden": true
   },
   "outputs": [
    {
     "name": "stdout",
     "output_type": "stream",
     "text": [
      "20\n"
     ]
    }
   ],
   "source": [
    "print(len(dataset))"
   ]
  },
  {
   "cell_type": "markdown",
   "metadata": {
    "hidden": true
   },
   "source": [
    "Nosso método `__getitem__()` deve retornar o elemento na i-ésima posição no dataset, no nosso caso `data[i]`:"
   ]
  },
  {
   "cell_type": "code",
   "execution_count": 11,
   "metadata": {
    "ExecuteTime": {
     "end_time": "2017-10-08T11:34:31.017354Z",
     "start_time": "2017-10-08T11:34:31.009628Z"
    },
    "hidden": true,
    "scrolled": true
   },
   "outputs": [
    {
     "name": "stdout",
     "output_type": "stream",
     "text": [
      "\n",
      " 0.0512\n",
      " 0.5284\n",
      " 0.0842\n",
      "[torch.FloatTensor of size 3]\n",
      "\n",
      "\n",
      " 0.0512\n",
      " 0.5284\n",
      " 0.0842\n",
      "[torch.FloatTensor of size 3]\n",
      "\n"
     ]
    }
   ],
   "source": [
    "i = 1\n",
    "print(dataset[i])\n",
    "# é equivalente à:\n",
    "print(dataset.data[i])"
   ]
  },
  {
   "cell_type": "markdown",
   "metadata": {
    "heading_collapsed": true,
    "hidden": true
   },
   "source": [
    "### Incluindo o rótulo para gerar o dado anotado: entrada e rótulo (classe)"
   ]
  },
  {
   "cell_type": "markdown",
   "metadata": {
    "hidden": true
   },
   "source": [
    "Um dataset também deve contém o rótulo ou classe a qual o dado pertence, a seguir incluiremos classes ao exemplo anterior."
   ]
  },
  {
   "cell_type": "code",
   "execution_count": 12,
   "metadata": {
    "ExecuteTime": {
     "end_time": "2017-10-08T11:34:31.033051Z",
     "start_time": "2017-10-08T11:34:31.020770Z"
    },
    "hidden": true
   },
   "outputs": [],
   "source": [
    "from torch.utils.data import Dataset\n",
    "\n",
    "class MyDataset(Dataset):\n",
    "    def __init__(self):\n",
    "        super(MyDataset, self).__init__()\n",
    "        \n",
    "        # gera 20 vetores de 3 elementos\n",
    "        self.data = torch.rand(20, 3)\n",
    "        # gera as 20 elementos contendo classes 0, 1 ou 2\n",
    "        self.classes = (torch.rand(20)*3).type(torch.LongTensor)\n",
    "    \n",
    "    def __len__(self):\n",
    "        # retorna o tamanho da primeira dimensão\n",
    "        return self.data.size(0)\n",
    "    \n",
    "    def __getitem__(self, i):\n",
    "        # retornar a i-ésima matriz 3x3 de data\n",
    "        return (self.data[i, :], self.classes[i])"
   ]
  },
  {
   "cell_type": "markdown",
   "metadata": {
    "hidden": true
   },
   "source": [
    "Agora nosso método `__getitem__` retorna uma tupla (dado, classe)."
   ]
  },
  {
   "cell_type": "code",
   "execution_count": 13,
   "metadata": {
    "ExecuteTime": {
     "end_time": "2017-10-08T11:34:31.043575Z",
     "start_time": "2017-10-08T11:34:31.035989Z"
    },
    "hidden": true
   },
   "outputs": [
    {
     "name": "stdout",
     "output_type": "stream",
     "text": [
      "dado: \n",
      " 0.3950\n",
      " 0.6465\n",
      " 0.2399\n",
      "[torch.FloatTensor of size 3]\n",
      "\n",
      "classe: 2\n"
     ]
    }
   ],
   "source": [
    "dataset = MyDataset()\n",
    "\n",
    "data, label = dataset[1]\n",
    "\n",
    "print('dado:', data)\n",
    "print('classe:', label)"
   ]
  },
  {
   "cell_type": "markdown",
   "metadata": {
    "heading_collapsed": true,
    "hidden": true
   },
   "source": [
    "### Conclusão"
   ]
  },
  {
   "cell_type": "markdown",
   "metadata": {
    "hidden": true
   },
   "source": [
    "O caso apresentado neste tópico é muito simples, apresentando os conceitos básicos da estrutura que o Pytorch utiliza para representar datasets. A classe torch.utils.data.Dataset é usada para casos complexos em que é preciso, por exemplo, carregar o dataset de arquivos e quando o gerenciamento dos dados não é tão trivial."
   ]
  },
  {
   "cell_type": "markdown",
   "metadata": {},
   "source": [
    "# DataLoaders"
   ]
  },
  {
   "cell_type": "markdown",
   "metadata": {},
   "source": [
    "Um DataLoader ([torch.utils.data.DataLoader](http://pytorch.org/docs/master/data.html#torch.utils.data.DataLoader)) combina um Dataset e um Sampler (divide os dados em batches). \n",
    "\n",
    "O DataLoader permite que os dados possam ser processados na forma de \"mini-batches\". A cada nova chamada do objeto criado com o DataLoader, um novo conjunto de dados é retornado. O DataLoader é a ferramenta do PyTorch para implementar o treinamento do gradiente descendente por \"mini-batches\". O treinamento por mini-batches possui duas grandes vantagens:\n",
    "- Implementa o gradiente descendente estocástico via mini-batch, que acelera o treinamento;\n",
    "- Permite que os dados do mini-batch a serem otimizados caibam na memória (normalmente da GPU).\n"
   ]
  },
  {
   "cell_type": "markdown",
   "metadata": {},
   "source": [
    "## Criando um DataLoader"
   ]
  },
  {
   "cell_type": "markdown",
   "metadata": {},
   "source": [
    "Vamos utilizar o dataset já criado anteriormente para ser a fonte de dados do nosso DataLoader."
   ]
  },
  {
   "cell_type": "code",
   "execution_count": 14,
   "metadata": {
    "ExecuteTime": {
     "end_time": "2017-10-08T11:34:31.066111Z",
     "start_time": "2017-10-08T11:34:31.057572Z"
    }
   },
   "outputs": [
    {
     "name": "stdout",
     "output_type": "stream",
     "text": [
      "tamanho do dataset:  20\n",
      "amostra 12: (\n",
      " 0.4787\n",
      " 0.9966\n",
      " 0.1468\n",
      "[torch.FloatTensor of size 3]\n",
      ", 0)\n"
     ]
    }
   ],
   "source": [
    "print('tamanho do dataset: ', len(dataset))\n",
    "print('amostra 12:', dataset[12])"
   ]
  },
  {
   "cell_type": "markdown",
   "metadata": {},
   "source": [
    "Agora podemos criar o DataLoader com o dataset"
   ]
  },
  {
   "cell_type": "code",
   "execution_count": 15,
   "metadata": {
    "ExecuteTime": {
     "end_time": "2017-10-08T11:34:31.074580Z",
     "start_time": "2017-10-08T11:34:31.068844Z"
    }
   },
   "outputs": [],
   "source": [
    "from torch.utils.data import DataLoader\n",
    "\n",
    "data_loader = DataLoader(dataset, \n",
    "                         batch_size=5,           # tamanho do mini-batch de dados\n",
    "                         shuffle=False)          # se for True, embaralha os dados no inicio de cada iteração"
   ]
  },
  {
   "cell_type": "markdown",
   "metadata": {},
   "source": [
    "## Iterando sobre o DataLoader"
   ]
  },
  {
   "cell_type": "markdown",
   "metadata": {},
   "source": [
    "Podemos iterar sobre o DataLoader utilizando um `for`"
   ]
  },
  {
   "cell_type": "code",
   "execution_count": 16,
   "metadata": {
    "ExecuteTime": {
     "end_time": "2017-10-08T11:34:31.130351Z",
     "start_time": "2017-10-08T11:34:31.076932Z"
    }
   },
   "outputs": [
    {
     "name": "stdout",
     "output_type": "stream",
     "text": [
      "batch  0\n",
      "batch  1\n",
      "batch  2\n",
      "batch  3\n",
      "tamanho do DataLoader 4\n",
      "tamanho do dataset 20\n"
     ]
    }
   ],
   "source": [
    "batch_n = 0\n",
    "n_samples = 0\n",
    "for data in data_loader:\n",
    "    print('batch ', batch_n)\n",
    "    batch_n += 1\n",
    "    n_samples += len(data[0])\n",
    "    \n",
    "print('tamanho do DataLoader', len(data_loader))\n",
    "print('tamanho do dataset', n_samples)"
   ]
  },
  {
   "cell_type": "markdown",
   "metadata": {},
   "source": [
    "O tamanho do DataLoader é 4, pois temos batches de tamanho 5 e 20 dados no dataloader.\n",
    "\n",
    "Agora podemos utilizar os dados do DataLoader:"
   ]
  },
  {
   "cell_type": "code",
   "execution_count": 17,
   "metadata": {
    "ExecuteTime": {
     "end_time": "2017-10-08T11:34:31.170947Z",
     "start_time": "2017-10-08T11:34:31.134178Z"
    }
   },
   "outputs": [
    {
     "name": "stdout",
     "output_type": "stream",
     "text": [
      "dimensão do batch de dados 0:   torch.Size([5, 3])\n",
      "dimensão do batch de classes 0: torch.Size([5])\n",
      "\n",
      "dimensão do batch de dados 1:   torch.Size([5, 3])\n",
      "dimensão do batch de classes 1: torch.Size([5])\n",
      "\n",
      "dimensão do batch de dados 2:   torch.Size([5, 3])\n",
      "dimensão do batch de classes 2: torch.Size([5])\n",
      "\n",
      "dimensão do batch de dados 3:   torch.Size([5, 3])\n",
      "dimensão do batch de classes 3: torch.Size([5])\n",
      "\n"
     ]
    }
   ],
   "source": [
    "batch_n = 0\n",
    "\n",
    "for data in data_loader:\n",
    "    # separa a tupla em dados e classes\n",
    "    data_batch, targets_batch = data\n",
    "    \n",
    "    print('dimensão do batch de dados {}:   {}'.format(batch_n, data_batch.size()))\n",
    "    print('dimensão do batch de classes {}: {}\\n'.format(batch_n, targets_batch.size()))\n",
    "    batch_n += 1\n"
   ]
  },
  {
   "cell_type": "markdown",
   "metadata": {},
   "source": [
    "É possível ver que os batches tem mesmo 5 dados (5 matrizes 3x3 e 5 classes)"
   ]
  },
  {
   "cell_type": "markdown",
   "metadata": {},
   "source": [
    "## Exercício"
   ]
  },
  {
   "cell_type": "markdown",
   "metadata": {},
   "source": [
    "Defina seu próprio DataLoader na segunda célula abaixo. Faça com que cada batch tenha 10 matrizes 3x3. Utilize o dataset já criado anteriormente.\n",
    "\n",
    "Em seguida complete o loop que itera sobre o seu DataLoader para que seja possível plotar as matrizes de cada batch. Utilize a função plot_batch para plotar as matrizes de um batch inteiro."
   ]
  },
  {
   "cell_type": "code",
   "execution_count": 18,
   "metadata": {
    "ExecuteTime": {
     "end_time": "2017-10-08T11:34:31.618698Z",
     "start_time": "2017-10-08T11:34:31.174023Z"
    }
   },
   "outputs": [],
   "source": [
    "# Código usado no exercício para plotar as imagens, NÃO É NECESSÁRIO ALTERAR\n",
    "import matplotlib.pyplot as plt\n",
    "import math \n",
    "\n",
    "def plot_batch(batch, batch_n):\n",
    "    fig = plt.figure(figsize=(5,2))\n",
    "    for j, mat in enumerate(batch):\n",
    "        plt.subplot(1, batch.size(0), j+1)\n",
    "        plt.imshow(mat.numpy(), cmap='gray')\n",
    "        plt.axis('off')\n",
    "    plt.suptitle('batch {} - {} elementos'.format(batch_n, batch.size(0)))\n",
    "    plt.show()"
   ]
  },
  {
   "cell_type": "code",
   "execution_count": 19,
   "metadata": {
    "ExecuteTime": {
     "end_time": "2017-10-08T11:34:31.627239Z",
     "start_time": "2017-10-08T11:34:31.620886Z"
    },
    "scrolled": false
   },
   "outputs": [],
   "source": [
    "# -- Defina aqui seu DataLoader com batches de 10 elementos cada ---\n",
    "data_loader = None\n",
    "    \n",
    "# -- Defina aqui o loop sobre todo o DataLoader dando plot em cada batch com os dados\n",
    "for data in []:\n",
    "    # separe o dado das classes\n",
    "    \n",
    "    plot_batch([], batch_n)"
   ]
  },
  {
   "cell_type": "markdown",
   "metadata": {},
   "source": [
    "- A ordem dos elementos se altera entre execuções da célula acima?\n",
    "- Tente colocar o parametro `shuffle` do DataLoader como `True` e obeseve o resultado do exercício, rodando várias vezes."
   ]
  },
  {
   "cell_type": "code",
   "execution_count": null,
   "metadata": {},
   "outputs": [],
   "source": []
  }
 ],
 "metadata": {
  "kernelspec": {
   "display_name": "Python 3",
   "language": "python",
   "name": "python3"
  },
  "language_info": {
   "codemirror_mode": {
    "name": "ipython",
    "version": 3
   },
   "file_extension": ".py",
   "mimetype": "text/x-python",
   "name": "python",
   "nbconvert_exporter": "python",
   "pygments_lexer": "ipython3",
   "version": "3.6.1"
  },
  "toc": {
   "nav_menu": {},
   "number_sections": true,
   "sideBar": true,
   "skip_h1_title": false,
   "toc_cell": false,
   "toc_position": {},
   "toc_section_display": "block",
   "toc_window_display": false
  },
  "varInspector": {
   "cols": {
    "lenName": 16,
    "lenType": 16,
    "lenVar": 40
   },
   "kernels_config": {
    "python": {
     "delete_cmd_postfix": "",
     "delete_cmd_prefix": "del ",
     "library": "var_list.py",
     "varRefreshCmd": "print(var_dic_list())"
    },
    "r": {
     "delete_cmd_postfix": ") ",
     "delete_cmd_prefix": "rm(",
     "library": "var_list.r",
     "varRefreshCmd": "cat(var_dic_list()) "
    }
   },
   "types_to_exclude": [
    "module",
    "function",
    "builtin_function_or_method",
    "instance",
    "_Feature"
   ],
   "window_display": false
  }
 },
 "nbformat": 4,
 "nbformat_minor": 2
}
