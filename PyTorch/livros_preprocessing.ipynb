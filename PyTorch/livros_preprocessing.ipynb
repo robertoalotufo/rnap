{
 "cells": [
  {
   "cell_type": "markdown",
   "metadata": {
    "toc": "true"
   },
   "source": [
    " # Table of Contents\n",
    "<div class=\"toc\" style=\"margin-top: 1em;\"><ul class=\"toc-item\" id=\"toc-level0\"><li><span><a href=\"https://rnap-nm.ddns.net/jupyterhub/user/yugo4k/notebooks/yugo4k/rnap-cs3/PyTorch/livros_preprocessing.ipynb#Clássicos-da-Literatura-Brasileira\" data-toc-modified-id=\"Clássicos-da-Literatura-Brasileira-1\"><span class=\"toc-item-num\">1&nbsp;&nbsp;</span>Clássicos da Literatura Brasileira</a></span><ul class=\"toc-item\"><li><span><a href=\"https://rnap-nm.ddns.net/jupyterhub/user/yugo4k/notebooks/yugo4k/rnap-cs3/PyTorch/livros_preprocessing.ipynb#Pré-processamento-dos-textos\" data-toc-modified-id=\"Pré-processamento-dos-textos-1.1\"><span class=\"toc-item-num\">1.1&nbsp;&nbsp;</span>Pré-processamento dos textos</a></span></li><li><span><a href=\"https://rnap-nm.ddns.net/jupyterhub/user/yugo4k/notebooks/yugo4k/rnap-cs3/PyTorch/livros_preprocessing.ipynb#Jorge-Amado\" data-toc-modified-id=\"Jorge-Amado-1.2\"><span class=\"toc-item-num\">1.2&nbsp;&nbsp;</span>Jorge Amado</a></span><ul class=\"toc-item\"><li><span><a href=\"https://rnap-nm.ddns.net/jupyterhub/user/yugo4k/notebooks/yugo4k/rnap-cs3/PyTorch/livros_preprocessing.ipynb#Capitães-de-Areia\" data-toc-modified-id=\"Capitães-de-Areia-1.2.1\"><span class=\"toc-item-num\">1.2.1&nbsp;&nbsp;</span>Capitães de Areia</a></span></li><li><span><a href=\"https://rnap-nm.ddns.net/jupyterhub/user/yugo4k/notebooks/yugo4k/rnap-cs3/PyTorch/livros_preprocessing.ipynb#Gabriela\" data-toc-modified-id=\"Gabriela-1.2.2\"><span class=\"toc-item-num\">1.2.2&nbsp;&nbsp;</span>Gabriela</a></span></li><li><span><a href=\"https://rnap-nm.ddns.net/jupyterhub/user/yugo4k/notebooks/yugo4k/rnap-cs3/PyTorch/livros_preprocessing.ipynb#Dona-Flor-e-seus-Dois-Maridos\" data-toc-modified-id=\"Dona-Flor-e-seus-Dois-Maridos-1.2.3\"><span class=\"toc-item-num\">1.2.3&nbsp;&nbsp;</span>Dona Flor e seus Dois Maridos</a></span></li><li><span><a href=\"https://rnap-nm.ddns.net/jupyterhub/user/yugo4k/notebooks/yugo4k/rnap-cs3/PyTorch/livros_preprocessing.ipynb#Tereza-Batista-Cansada-de-Guerra\" data-toc-modified-id=\"Tereza-Batista-Cansada-de-Guerra-1.2.4\"><span class=\"toc-item-num\">1.2.4&nbsp;&nbsp;</span>Tereza Batista Cansada de Guerra</a></span></li></ul></li><li><span><a href=\"https://rnap-nm.ddns.net/jupyterhub/user/yugo4k/notebooks/yugo4k/rnap-cs3/PyTorch/livros_preprocessing.ipynb#Machado-de-Assis\" data-toc-modified-id=\"Machado-de-Assis-1.3\"><span class=\"toc-item-num\">1.3&nbsp;&nbsp;</span>Machado de Assis</a></span><ul class=\"toc-item\"><li><span><a href=\"https://rnap-nm.ddns.net/jupyterhub/user/yugo4k/notebooks/yugo4k/rnap-cs3/PyTorch/livros_preprocessing.ipynb#Memórias-Póstumas-de-Brás-Cubas\" data-toc-modified-id=\"Memórias-Póstumas-de-Brás-Cubas-1.3.1\"><span class=\"toc-item-num\">1.3.1&nbsp;&nbsp;</span>Memórias Póstumas de Brás Cubas</a></span></li><li><span><a href=\"https://rnap-nm.ddns.net/jupyterhub/user/yugo4k/notebooks/yugo4k/rnap-cs3/PyTorch/livros_preprocessing.ipynb#Dom-Casmurro\" data-toc-modified-id=\"Dom-Casmurro-1.3.2\"><span class=\"toc-item-num\">1.3.2&nbsp;&nbsp;</span>Dom Casmurro</a></span></li><li><span><a href=\"https://rnap-nm.ddns.net/jupyterhub/user/yugo4k/notebooks/yugo4k/rnap-cs3/PyTorch/livros_preprocessing.ipynb#Quincas-Borba\" data-toc-modified-id=\"Quincas-Borba-1.3.3\"><span class=\"toc-item-num\">1.3.3&nbsp;&nbsp;</span>Quincas Borba</a></span></li><li><span><a href=\"https://rnap-nm.ddns.net/jupyterhub/user/yugo4k/notebooks/yugo4k/rnap-cs3/PyTorch/livros_preprocessing.ipynb#Esaú-e-Jacó\" data-toc-modified-id=\"Esaú-e-Jacó-1.3.4\"><span class=\"toc-item-num\">1.3.4&nbsp;&nbsp;</span>Esaú e Jacó</a></span></li><li><span><a href=\"https://rnap-nm.ddns.net/jupyterhub/user/yugo4k/notebooks/yugo4k/rnap-cs3/PyTorch/livros_preprocessing.ipynb#Memorial-de-Aires\" data-toc-modified-id=\"Memorial-de-Aires-1.3.5\"><span class=\"toc-item-num\">1.3.5&nbsp;&nbsp;</span>Memorial de Aires</a></span></li><li><span><a href=\"https://rnap-nm.ddns.net/jupyterhub/user/yugo4k/notebooks/yugo4k/rnap-cs3/PyTorch/livros_preprocessing.ipynb#Iaiá-Garcia\" data-toc-modified-id=\"Iaiá-Garcia-1.3.6\"><span class=\"toc-item-num\">1.3.6&nbsp;&nbsp;</span>Iaiá Garcia</a></span></li><li><span><a href=\"https://rnap-nm.ddns.net/jupyterhub/user/yugo4k/notebooks/yugo4k/rnap-cs3/PyTorch/livros_preprocessing.ipynb#Helena\" data-toc-modified-id=\"Helena-1.3.7\"><span class=\"toc-item-num\">1.3.7&nbsp;&nbsp;</span>Helena</a></span></li></ul></li><li><span><a href=\"https://rnap-nm.ddns.net/jupyterhub/user/yugo4k/notebooks/yugo4k/rnap-cs3/PyTorch/livros_preprocessing.ipynb#Fernando-Sabino\" data-toc-modified-id=\"Fernando-Sabino-1.4\"><span class=\"toc-item-num\">1.4&nbsp;&nbsp;</span>Fernando Sabino</a></span><ul class=\"toc-item\"><li><span><a href=\"https://rnap-nm.ddns.net/jupyterhub/user/yugo4k/notebooks/yugo4k/rnap-cs3/PyTorch/livros_preprocessing.ipynb#O-Encontro-Marcado\" data-toc-modified-id=\"O-Encontro-Marcado-1.4.1\"><span class=\"toc-item-num\">1.4.1&nbsp;&nbsp;</span>O Encontro Marcado</a></span></li><li><span><a href=\"https://rnap-nm.ddns.net/jupyterhub/user/yugo4k/notebooks/yugo4k/rnap-cs3/PyTorch/livros_preprocessing.ipynb#O-Grande-Mentecapto\" data-toc-modified-id=\"O-Grande-Mentecapto-1.4.2\"><span class=\"toc-item-num\">1.4.2&nbsp;&nbsp;</span>O Grande Mentecapto</a></span></li><li><span><a href=\"https://rnap-nm.ddns.net/jupyterhub/user/yugo4k/notebooks/yugo4k/rnap-cs3/PyTorch/livros_preprocessing.ipynb#O-Menino-no-Espelho\" data-toc-modified-id=\"O-Menino-no-Espelho-1.4.3\"><span class=\"toc-item-num\">1.4.3&nbsp;&nbsp;</span>O Menino no Espelho</a></span></li><li><span><a href=\"https://rnap-nm.ddns.net/jupyterhub/user/yugo4k/notebooks/yugo4k/rnap-cs3/PyTorch/livros_preprocessing.ipynb#O-Bom-Ladrão\" data-toc-modified-id=\"O-Bom-Ladrão-1.4.4\"><span class=\"toc-item-num\">1.4.4&nbsp;&nbsp;</span>O Bom Ladrão</a></span></li></ul></li><li><span><a href=\"https://rnap-nm.ddns.net/jupyterhub/user/yugo4k/notebooks/yugo4k/rnap-cs3/PyTorch/livros_preprocessing.ipynb#Érico-Veríssimo\" data-toc-modified-id=\"Érico-Veríssimo-1.5\"><span class=\"toc-item-num\">1.5&nbsp;&nbsp;</span>Érico Veríssimo</a></span><ul class=\"toc-item\"><li><span><a href=\"https://rnap-nm.ddns.net/jupyterhub/user/yugo4k/notebooks/yugo4k/rnap-cs3/PyTorch/livros_preprocessing.ipynb#O-Tempo-e-o-Vento\" data-toc-modified-id=\"O-Tempo-e-o-Vento-1.5.1\"><span class=\"toc-item-num\">1.5.1&nbsp;&nbsp;</span>O Tempo e o Vento</a></span><ul class=\"toc-item\"><li><span><a href=\"https://rnap-nm.ddns.net/jupyterhub/user/yugo4k/notebooks/yugo4k/rnap-cs3/PyTorch/livros_preprocessing.ipynb#O-Continente,-vol.-1\" data-toc-modified-id=\"O-Continente,-vol.-1-1.5.1.1\"><span class=\"toc-item-num\">1.5.1.1&nbsp;&nbsp;</span>O Continente, vol. 1</a></span></li><li><span><a href=\"https://rnap-nm.ddns.net/jupyterhub/user/yugo4k/notebooks/yugo4k/rnap-cs3/PyTorch/livros_preprocessing.ipynb#O-Arquipélago,-vol.-1\" data-toc-modified-id=\"O-Arquipélago,-vol.-1-1.5.1.2\"><span class=\"toc-item-num\">1.5.1.2&nbsp;&nbsp;</span>O Arquipélago, vol. 1</a></span></li></ul></li><li><span><a href=\"https://rnap-nm.ddns.net/jupyterhub/user/yugo4k/notebooks/yugo4k/rnap-cs3/PyTorch/livros_preprocessing.ipynb#Incidente-em-Antares\" data-toc-modified-id=\"Incidente-em-Antares-1.5.2\"><span class=\"toc-item-num\">1.5.2&nbsp;&nbsp;</span>Incidente em Antares</a></span></li><li><span><a href=\"https://rnap-nm.ddns.net/jupyterhub/user/yugo4k/notebooks/yugo4k/rnap-cs3/PyTorch/livros_preprocessing.ipynb#Clarissa\" data-toc-modified-id=\"Clarissa-1.5.3\"><span class=\"toc-item-num\">1.5.3&nbsp;&nbsp;</span>Clarissa</a></span></li></ul></li></ul></li></ul></div>"
   ]
  },
  {
   "cell_type": "markdown",
   "metadata": {},
   "source": [
    "# Clássicos da Literatura Brasileira\n",
    "## Pré-processamento dos textos\n",
    "Os textos contidos no diretório `src_data_dir` foram criados da seguinte forma:\n",
    "\n",
    "- o PDF do livro foi baixado de sítios que disponibilizam literatura de graça;\n",
    "- o PDF foi convertido para texto simples com o programa \"PDF to Text Converter Expert\" (OS X);\n",
    "- as matérias inicial e final (orelhas, comentários, dedicatórias etc) foram retiradas manualmente; e, finalmente\n",
    "- este notebook gerou a versão a ser utilizada pelas redes neurais.\n",
    "\n",
    "As exceções foram os livros de Machado de Assis, obtidos do **NLTK**.\n"
   ]
  },
  {
   "cell_type": "code",
   "execution_count": 1,
   "metadata": {
    "ExecuteTime": {
     "end_time": "2017-12-12T20:00:44.264506Z",
     "start_time": "2017-12-12T20:00:44.024491Z"
    }
   },
   "outputs": [],
   "source": [
    "%matplotlib inline\n",
    "import matplotlib.pyplot as plot\n",
    "from IPython import display\n",
    "from __future__ import print_function\n",
    "\n",
    "import os\n",
    "import re\n",
    "import sys\n",
    "import numpy as np\n",
    "import numpy.random as nr\n"
   ]
  },
  {
   "cell_type": "code",
   "execution_count": 2,
   "metadata": {
    "ExecuteTime": {
     "end_time": "2017-12-12T20:00:44.379537Z",
     "start_time": "2017-12-12T20:00:44.265996Z"
    }
   },
   "outputs": [
    {
     "name": "stdout",
     "output_type": "stream",
     "text": [
      "total 20\r\n",
      "drwxrwxr-x 2 lotufo jupyterhubusers 4096 Nov 25 12:30 Érico Veríssimo\r\n",
      "drwxrwxr-x 2 lotufo jupyterhubusers 4096 Nov 25 12:30 Fernando Sabino\r\n",
      "drwxrwxr-x 2 lotufo jupyterhubusers 4096 Nov 25 12:30 Guimarães Rosa\r\n",
      "drwxrwxr-x 2 lotufo jupyterhubusers 4096 Nov 25 12:30 Jorge Amado\r\n",
      "drwxrwxr-x 2 lotufo jupyterhubusers 4096 Nov 25 12:30 Machado de Assis\r\n"
     ]
    }
   ],
   "source": [
    "os.makedirs('/data/datasets/livros/processed/', exist_ok=True)\n",
    "\n",
    "dst_data_dir = '/data/datasets/livros/processed/'\n",
    "src_data_dir = '/data/datasets/livros/originais/'\n",
    "!ls -l '/data/datasets/livros/originais/'\n"
   ]
  },
  {
   "cell_type": "markdown",
   "metadata": {},
   "source": [
    "## Jorge Amado\n",
    "### Capitães de Areia"
   ]
  },
  {
   "cell_type": "code",
   "execution_count": 3,
   "metadata": {
    "ExecuteTime": {
     "end_time": "2017-12-12T20:00:44.395701Z",
     "start_time": "2017-12-12T20:00:44.381383Z"
    },
    "scrolled": false
   },
   "outputs": [
    {
     "data": {
      "text/plain": [
       "427711"
      ]
     },
     "execution_count": 3,
     "metadata": {},
     "output_type": "execute_result"
    }
   ],
   "source": [
    "book = 'Jorge Amado/Capitães de Areia.txt'\n",
    "texto = open(src_data_dir + book, 'r').read()\n",
    "texto = re.sub('(\\n\\n\\n\\*\\*\\*+ Page \\d+\\*+\\n\\n)', '', texto)\n",
    "open(dst_data_dir + book.replace(' ', '_').replace('/', '__'), 'w').write(texto)\n",
    "# print(texto[:5000])"
   ]
  },
  {
   "cell_type": "markdown",
   "metadata": {},
   "source": [
    "### Gabriela"
   ]
  },
  {
   "cell_type": "code",
   "execution_count": 4,
   "metadata": {
    "ExecuteTime": {
     "end_time": "2017-12-12T20:00:44.416614Z",
     "start_time": "2017-12-12T20:00:44.397237Z"
    }
   },
   "outputs": [
    {
     "data": {
      "text/plain": [
       "828417"
      ]
     },
     "execution_count": 4,
     "metadata": {},
     "output_type": "execute_result"
    }
   ],
   "source": [
    "book = 'Jorge Amado/Gabriela.txt'\n",
    "texto = open(src_data_dir + book, 'r').read()\n",
    "texto = re.sub('(\\n\\n\\n\\*\\*\\*+ Page \\d+\\*+\\n\\n)', '', texto)\n",
    "texto = re.sub('(\\n  Pág\\.\\d+ \\n)', '', texto)\n",
    "open(dst_data_dir + book.replace(' ', '_').replace('/', '__'), 'w').write(texto)\n",
    "# print(texto[:5000])"
   ]
  },
  {
   "cell_type": "markdown",
   "metadata": {},
   "source": [
    "### Dona Flor e seus Dois Maridos"
   ]
  },
  {
   "cell_type": "code",
   "execution_count": 5,
   "metadata": {
    "ExecuteTime": {
     "end_time": "2017-12-12T20:00:44.438744Z",
     "start_time": "2017-12-12T20:00:44.418179Z"
    }
   },
   "outputs": [
    {
     "data": {
      "text/plain": [
       "1030735"
      ]
     },
     "execution_count": 5,
     "metadata": {},
     "output_type": "execute_result"
    }
   ],
   "source": [
    "book = 'Jorge Amado/Dona flor seus dois maridos.txt'\n",
    "texto = open(src_data_dir + book, 'r').read()\n",
    "texto = re.sub('(\\n\\n\\n\\*\\*\\*+ Page \\d+\\*+\\n\\n)', '', texto)\n",
    "texto = re.sub('(\\n  Pág\\.\\d+ \\n)', '', texto)\n",
    "open(dst_data_dir + book.replace(' ', '_').replace('/', '__'), 'w').write(texto)\n",
    "# print(texto[:5000])"
   ]
  },
  {
   "cell_type": "markdown",
   "metadata": {},
   "source": [
    "### Tereza Batista Cansada de Guerra"
   ]
  },
  {
   "cell_type": "code",
   "execution_count": 6,
   "metadata": {
    "ExecuteTime": {
     "end_time": "2017-12-12T20:00:44.458910Z",
     "start_time": "2017-12-12T20:00:44.440445Z"
    }
   },
   "outputs": [
    {
     "data": {
      "text/plain": [
       "1001226"
      ]
     },
     "execution_count": 6,
     "metadata": {},
     "output_type": "execute_result"
    }
   ],
   "source": [
    "book = 'Jorge Amado/Tereza Batista Cansada de Guerra.txt'\n",
    "texto = open(src_data_dir + book, 'r').read()\n",
    "texto = re.sub('(\\n\\n\\n\\*\\*\\*+ Page \\d+\\*+\\n\\n)', '', texto)\n",
    "open(dst_data_dir + book.replace(' ', '_').replace('/', '__'), 'w').write(texto)\n",
    "# print(texto[:5000])"
   ]
  },
  {
   "cell_type": "markdown",
   "metadata": {},
   "source": [
    "## Machado de Assis\n",
    "### Memórias Póstumas de Brás Cubas"
   ]
  },
  {
   "cell_type": "code",
   "execution_count": 7,
   "metadata": {
    "ExecuteTime": {
     "end_time": "2017-12-12T20:00:44.470213Z",
     "start_time": "2017-12-12T20:00:44.460658Z"
    }
   },
   "outputs": [
    {
     "data": {
      "text/plain": [
       "353713"
      ]
     },
     "execution_count": 7,
     "metadata": {},
     "output_type": "execute_result"
    }
   ],
   "source": [
    "book = 'Machado de Assis/Memórias Póstumas de Brás Cubas.txt'\n",
    "texto = open(src_data_dir + book, 'r', encoding='latin-1').read()\n",
    "open(dst_data_dir + book.replace(' ', '_').replace('/', '__'), 'w').write(texto)\n",
    "# print(texto[:5000])"
   ]
  },
  {
   "cell_type": "markdown",
   "metadata": {},
   "source": [
    "### Dom Casmurro"
   ]
  },
  {
   "cell_type": "code",
   "execution_count": 8,
   "metadata": {
    "ExecuteTime": {
     "end_time": "2017-12-12T20:00:44.481160Z",
     "start_time": "2017-12-12T20:00:44.471928Z"
    }
   },
   "outputs": [
    {
     "data": {
      "text/plain": [
       "373300"
      ]
     },
     "execution_count": 8,
     "metadata": {},
     "output_type": "execute_result"
    }
   ],
   "source": [
    "book = 'Machado de Assis/Dom Casmurro.txt'\n",
    "texto = open(src_data_dir + book, 'r', encoding='latin-1').read()\n",
    "open(dst_data_dir + book.replace(' ', '_').replace('/', '__'), 'w').write(texto)\n",
    "# print(texto[:5000])"
   ]
  },
  {
   "cell_type": "markdown",
   "metadata": {},
   "source": [
    "### Quincas Borba"
   ]
  },
  {
   "cell_type": "code",
   "execution_count": 9,
   "metadata": {
    "ExecuteTime": {
     "end_time": "2017-12-12T20:00:44.492275Z",
     "start_time": "2017-12-12T20:00:44.482799Z"
    }
   },
   "outputs": [
    {
     "data": {
      "text/plain": [
       "445193"
      ]
     },
     "execution_count": 9,
     "metadata": {},
     "output_type": "execute_result"
    }
   ],
   "source": [
    "book = 'Machado de Assis/Quincas Borba.txt'\n",
    "texto = open(src_data_dir + book, 'r', encoding='latin-1').read()\n",
    "open(dst_data_dir + book.replace(' ', '_').replace('/', '__'), 'w').write(texto)\n",
    "# print(texto[:5000])"
   ]
  },
  {
   "cell_type": "markdown",
   "metadata": {},
   "source": [
    "### Esaú e Jacó"
   ]
  },
  {
   "cell_type": "code",
   "execution_count": 10,
   "metadata": {
    "ExecuteTime": {
     "end_time": "2017-12-12T20:00:44.502366Z",
     "start_time": "2017-12-12T20:00:44.493880Z"
    },
    "scrolled": false
   },
   "outputs": [
    {
     "data": {
      "text/plain": [
       "411870"
      ]
     },
     "execution_count": 10,
     "metadata": {},
     "output_type": "execute_result"
    }
   ],
   "source": [
    "book = 'Machado de Assis/Esaú e Jacó.txt'\n",
    "texto = open(src_data_dir + book, 'r', encoding='latin-1').read()\n",
    "open(dst_data_dir + book.replace(' ', '_').replace('/', '__'), 'w').write(texto)\n",
    "# print(texto[:5000])"
   ]
  },
  {
   "cell_type": "markdown",
   "metadata": {},
   "source": [
    "### Memorial de Aires"
   ]
  },
  {
   "cell_type": "code",
   "execution_count": 11,
   "metadata": {
    "ExecuteTime": {
     "end_time": "2017-12-12T20:00:44.511592Z",
     "start_time": "2017-12-12T20:00:44.503930Z"
    }
   },
   "outputs": [
    {
     "data": {
      "text/plain": [
       "281167"
      ]
     },
     "execution_count": 11,
     "metadata": {},
     "output_type": "execute_result"
    }
   ],
   "source": [
    "book = 'Machado de Assis/Memorial de Aires.txt'\n",
    "texto = open(src_data_dir + book, 'r', encoding='latin-1').read()\n",
    "open(dst_data_dir + book.replace(' ', '_').replace('/', '__'), 'w').write(texto)\n",
    "# print(texto[:5000])"
   ]
  },
  {
   "cell_type": "markdown",
   "metadata": {},
   "source": [
    "### Iaiá Garcia"
   ]
  },
  {
   "cell_type": "code",
   "execution_count": 12,
   "metadata": {
    "ExecuteTime": {
     "end_time": "2017-12-12T20:00:44.521811Z",
     "start_time": "2017-12-12T20:00:44.513203Z"
    }
   },
   "outputs": [
    {
     "data": {
      "text/plain": [
       "336677"
      ]
     },
     "execution_count": 12,
     "metadata": {},
     "output_type": "execute_result"
    }
   ],
   "source": [
    "book = 'Machado de Assis/Iaiá Garcia.txt'\n",
    "texto = open(src_data_dir + book, 'r', encoding='latin-1').read()\n",
    "open(dst_data_dir + book.replace(' ', '_').replace('/', '__'), 'w').write(texto)\n",
    "# print(texto[:5000])"
   ]
  },
  {
   "cell_type": "markdown",
   "metadata": {},
   "source": [
    "### Helena"
   ]
  },
  {
   "cell_type": "code",
   "execution_count": 13,
   "metadata": {
    "ExecuteTime": {
     "end_time": "2017-12-12T20:00:44.531108Z",
     "start_time": "2017-12-12T20:00:44.523354Z"
    }
   },
   "outputs": [
    {
     "data": {
      "text/plain": [
       "337533"
      ]
     },
     "execution_count": 13,
     "metadata": {},
     "output_type": "execute_result"
    }
   ],
   "source": [
    "book = 'Machado de Assis/Helena.txt'\n",
    "texto = open(src_data_dir + book, 'r', encoding='latin-1').read()\n",
    "open(dst_data_dir + book.replace(' ', '_').replace('/', '__'), 'w').write(texto)\n",
    "# print(texto[:5000])"
   ]
  },
  {
   "cell_type": "markdown",
   "metadata": {},
   "source": [
    "## Fernando Sabino\n",
    "### O Encontro Marcado"
   ]
  },
  {
   "cell_type": "code",
   "execution_count": 14,
   "metadata": {
    "ExecuteTime": {
     "end_time": "2017-12-12T20:00:44.550473Z",
     "start_time": "2017-12-12T20:00:44.532578Z"
    }
   },
   "outputs": [
    {
     "data": {
      "text/plain": [
       "511681"
      ]
     },
     "execution_count": 14,
     "metadata": {},
     "output_type": "execute_result"
    }
   ],
   "source": [
    "book = 'Fernando Sabino/O Encontro Marcado.txt'\n",
    "texto = open(src_data_dir + book, 'r').read()\n",
    "texto = re.sub('(\\n\\n\\n\\*\\*\\*+ Page \\d+\\*+\\n\\n)', '', texto)\n",
    "texto = re.sub('(\\n\\n)', '\\n', texto)\n",
    "open(dst_data_dir + book.replace(' ', '_').replace('/', '__'), 'w').write(texto)\n",
    "# print(texto[:5000])"
   ]
  },
  {
   "cell_type": "markdown",
   "metadata": {},
   "source": [
    "### O Grande Mentecapto"
   ]
  },
  {
   "cell_type": "code",
   "execution_count": 15,
   "metadata": {
    "ExecuteTime": {
     "end_time": "2017-12-12T20:00:44.563308Z",
     "start_time": "2017-12-12T20:00:44.552124Z"
    }
   },
   "outputs": [
    {
     "data": {
      "text/plain": [
       "328288"
      ]
     },
     "execution_count": 15,
     "metadata": {},
     "output_type": "execute_result"
    }
   ],
   "source": [
    "book = 'Fernando Sabino/O Grande Mentecapto.txt'\n",
    "texto = open(src_data_dir + book, 'r').read()\n",
    "texto = re.sub('(\\n\\n\\n\\*\\*\\*+ Page \\d+\\*+\\n\\n)', '', texto)\n",
    "texto = re.sub('(\\n\\n)', '\\n', texto)\n",
    "open(dst_data_dir + book.replace(' ', '_').replace('/', '__'), 'w').write(texto)\n",
    "# print(texto[:5000])"
   ]
  },
  {
   "cell_type": "markdown",
   "metadata": {},
   "source": [
    "### O Menino no Espelho"
   ]
  },
  {
   "cell_type": "code",
   "execution_count": 16,
   "metadata": {
    "ExecuteTime": {
     "end_time": "2017-12-12T20:00:44.575147Z",
     "start_time": "2017-12-12T20:00:44.564690Z"
    }
   },
   "outputs": [
    {
     "data": {
      "text/plain": [
       "180313"
      ]
     },
     "execution_count": 16,
     "metadata": {},
     "output_type": "execute_result"
    }
   ],
   "source": [
    "book = 'Fernando Sabino/O Menino no Espelho.txt'\n",
    "texto = open(src_data_dir + book, 'r').read()\n",
    "texto = re.sub('(\\n\\n\\n\\*\\*\\*+ Page \\d+\\*+\\n\\n)', '', texto)\n",
    "texto = re.sub('(\\n\\n)', '\\n', texto)\n",
    "open(dst_data_dir + book.replace(' ', '_').replace('/', '__'), 'w').write(texto)\n",
    "# print(texto[:5000])"
   ]
  },
  {
   "cell_type": "markdown",
   "metadata": {},
   "source": [
    "### O Bom Ladrão"
   ]
  },
  {
   "cell_type": "code",
   "execution_count": 17,
   "metadata": {
    "ExecuteTime": {
     "end_time": "2017-12-12T20:00:44.586229Z",
     "start_time": "2017-12-12T20:00:44.576668Z"
    }
   },
   "outputs": [
    {
     "data": {
      "text/plain": [
       "87788"
      ]
     },
     "execution_count": 17,
     "metadata": {},
     "output_type": "execute_result"
    }
   ],
   "source": [
    "book = 'Fernando Sabino/O Bom Ladrão.txt'\n",
    "texto = open(src_data_dir + book, 'r').read()\n",
    "texto = re.sub('(\\n\\n\\n\\*\\*\\*+ Page \\d+\\*+\\n\\n)', '', texto)\n",
    "texto = re.sub('(\\n\\n)', '\\n', texto)\n",
    "open(dst_data_dir + book.replace(' ', '_').replace('/', '__'), 'w').write(texto)\n",
    "# print(texto[:5000])"
   ]
  },
  {
   "cell_type": "markdown",
   "metadata": {},
   "source": [
    "## Érico Veríssimo"
   ]
  },
  {
   "cell_type": "markdown",
   "metadata": {},
   "source": [
    "### O Tempo e o Vento\n",
    "#### O Continente, vol. 1\n"
   ]
  },
  {
   "cell_type": "code",
   "execution_count": 18,
   "metadata": {
    "ExecuteTime": {
     "end_time": "2017-12-12T20:00:44.603789Z",
     "start_time": "2017-12-12T20:00:44.587822Z"
    }
   },
   "outputs": [
    {
     "data": {
      "text/plain": [
       "749265"
      ]
     },
     "execution_count": 18,
     "metadata": {},
     "output_type": "execute_result"
    }
   ],
   "source": [
    "book = 'Érico Veríssimo/O Tempo e o Vento - O Continente.txt'\n",
    "texto = open(src_data_dir + book, 'r').read()\n",
    "texto = re.sub('(\\n\\n\\n\\*\\*\\*+ Page \\d+\\*+\\n\\n)', '', texto)\n",
    "open(dst_data_dir + book.replace(' ', '_').replace('/', '__'), 'w').write(texto)\n",
    "# print(texto[:5000])"
   ]
  },
  {
   "cell_type": "markdown",
   "metadata": {},
   "source": [
    "#### O Arquipélago, vol. 1"
   ]
  },
  {
   "cell_type": "code",
   "execution_count": 19,
   "metadata": {
    "ExecuteTime": {
     "end_time": "2017-12-12T20:00:44.619716Z",
     "start_time": "2017-12-12T20:00:44.605389Z"
    }
   },
   "outputs": [
    {
     "data": {
      "text/plain": [
       "699390"
      ]
     },
     "execution_count": 19,
     "metadata": {},
     "output_type": "execute_result"
    }
   ],
   "source": [
    "book = 'Érico Veríssimo/O Tempo e o Vento - O Arquipélago.txt'\n",
    "texto = open(src_data_dir + book, 'r').read()\n",
    "texto = re.sub('(\\n\\n\\n\\*\\*\\*+ Page \\d+\\*+\\n\\n)', '', texto)\n",
    "open(dst_data_dir + book.replace(' ', '_').replace('/', '__'), 'w').write(texto)\n",
    "# print(texto[:5000])"
   ]
  },
  {
   "cell_type": "markdown",
   "metadata": {},
   "source": [
    "### Incidente em Antares"
   ]
  },
  {
   "cell_type": "code",
   "execution_count": 20,
   "metadata": {
    "ExecuteTime": {
     "end_time": "2017-12-12T20:00:44.637745Z",
     "start_time": "2017-12-12T20:00:44.621238Z"
    }
   },
   "outputs": [
    {
     "data": {
      "text/plain": [
       "890215"
      ]
     },
     "execution_count": 20,
     "metadata": {},
     "output_type": "execute_result"
    }
   ],
   "source": [
    "book = 'Érico Veríssimo/Incidente em Antares.txt'\n",
    "texto = open(src_data_dir + book, 'r').read()\n",
    "texto = re.sub('(\\n\\n\\n\\*\\*\\*+ Page \\d+\\*+\\n\\n)', '', texto)\n",
    "open(dst_data_dir + book.replace(' ', '_').replace('/', '__'), 'w').write(texto)\n",
    "# print(texto[:5000])"
   ]
  },
  {
   "cell_type": "markdown",
   "metadata": {},
   "source": [
    "### Clarissa"
   ]
  },
  {
   "cell_type": "code",
   "execution_count": 21,
   "metadata": {
    "ExecuteTime": {
     "end_time": "2017-12-12T20:00:44.649656Z",
     "start_time": "2017-12-12T20:00:44.639297Z"
    }
   },
   "outputs": [
    {
     "data": {
      "text/plain": [
       "294049"
      ]
     },
     "execution_count": 21,
     "metadata": {},
     "output_type": "execute_result"
    }
   ],
   "source": [
    "book = 'Érico Veríssimo/Clarissa.txt'\n",
    "texto = open(src_data_dir + book, 'r').read()\n",
    "texto = re.sub('(\\n\\n\\n\\*\\*\\*+ Page \\d+\\*+\\n\\n)', '', texto)\n",
    "open(dst_data_dir + book.replace(' ', '_').replace('/', '__'), 'w').write(texto)\n",
    "# print(texto[:5000])"
   ]
  }
 ],
 "metadata": {
  "kernelspec": {
   "display_name": "Python 3",
   "language": "python",
   "name": "python3"
  },
  "language_info": {
   "codemirror_mode": {
    "name": "ipython",
    "version": 3
   },
   "file_extension": ".py",
   "mimetype": "text/x-python",
   "name": "python",
   "nbconvert_exporter": "python",
   "pygments_lexer": "ipython3",
   "version": "3.6.2"
  },
  "latex_envs": {
   "LaTeX_envs_menu_present": true,
   "autocomplete": true,
   "bibliofile": "biblio.bib",
   "cite_by": "apalike",
   "current_citInitial": 1,
   "eqLabelWithNumbers": true,
   "eqNumInitial": 1,
   "hotkeys": {
    "equation": "Ctrl-E",
    "itemize": "Ctrl-I"
   },
   "labels_anchors": false,
   "latex_user_defs": false,
   "report_style_numbering": false,
   "user_envs_cfg": false
  },
  "toc": {
   "nav_menu": {
    "height": "12px",
    "width": "252px"
   },
   "number_sections": true,
   "sideBar": true,
   "skip_h1_title": false,
   "toc_cell": true,
   "toc_position": {},
   "toc_section_display": "block",
   "toc_window_display": false
  }
 },
 "nbformat": 4,
 "nbformat_minor": 2
}
