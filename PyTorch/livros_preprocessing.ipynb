{
 "cells": [
  {
   "cell_type": "markdown",
   "metadata": {
    "toc": "true"
   },
   "source": [
    "# Table of Contents\n",
    " <p><div class=\"lev1 toc-item\"><a href=\"#Clássicos-da-Literatura-Brasileira\" data-toc-modified-id=\"Clássicos-da-Literatura-Brasileira-1\"><span class=\"toc-item-num\">1&nbsp;&nbsp;</span>Clássicos da Literatura Brasileira</a></div><div class=\"lev2 toc-item\"><a href=\"#Pré-processamento-dos-textos\" data-toc-modified-id=\"Pré-processamento-dos-textos-11\"><span class=\"toc-item-num\">1.1&nbsp;&nbsp;</span>Pré-processamento dos textos</a></div><div class=\"lev2 toc-item\"><a href=\"#Jorge-Amado\" data-toc-modified-id=\"Jorge-Amado-12\"><span class=\"toc-item-num\">1.2&nbsp;&nbsp;</span>Jorge Amado</a></div><div class=\"lev3 toc-item\"><a href=\"#Capitães-de-Areia\" data-toc-modified-id=\"Capitães-de-Areia-121\"><span class=\"toc-item-num\">1.2.1&nbsp;&nbsp;</span>Capitães de Areia</a></div><div class=\"lev3 toc-item\"><a href=\"#Gabriela\" data-toc-modified-id=\"Gabriela-122\"><span class=\"toc-item-num\">1.2.2&nbsp;&nbsp;</span>Gabriela</a></div><div class=\"lev3 toc-item\"><a href=\"#Dona-Flor-e-seus-Dois-Maridos\" data-toc-modified-id=\"Dona-Flor-e-seus-Dois-Maridos-123\"><span class=\"toc-item-num\">1.2.3&nbsp;&nbsp;</span>Dona Flor e seus Dois Maridos</a></div><div class=\"lev3 toc-item\"><a href=\"#Tereza-Batista-Cansada-de-Guerra\" data-toc-modified-id=\"Tereza-Batista-Cansada-de-Guerra-124\"><span class=\"toc-item-num\">1.2.4&nbsp;&nbsp;</span>Tereza Batista Cansada de Guerra</a></div><div class=\"lev2 toc-item\"><a href=\"#Machado-de-Assis\" data-toc-modified-id=\"Machado-de-Assis-13\"><span class=\"toc-item-num\">1.3&nbsp;&nbsp;</span>Machado de Assis</a></div><div class=\"lev3 toc-item\"><a href=\"#Memórias-Póstumas-de-Brás-Cubas\" data-toc-modified-id=\"Memórias-Póstumas-de-Brás-Cubas-131\"><span class=\"toc-item-num\">1.3.1&nbsp;&nbsp;</span>Memórias Póstumas de Brás Cubas</a></div><div class=\"lev3 toc-item\"><a href=\"#Dom-Casmurro\" data-toc-modified-id=\"Dom-Casmurro-132\"><span class=\"toc-item-num\">1.3.2&nbsp;&nbsp;</span>Dom Casmurro</a></div><div class=\"lev3 toc-item\"><a href=\"#Quincas-Borba\" data-toc-modified-id=\"Quincas-Borba-133\"><span class=\"toc-item-num\">1.3.3&nbsp;&nbsp;</span>Quincas Borba</a></div><div class=\"lev3 toc-item\"><a href=\"#Esaú-e-Jacó\" data-toc-modified-id=\"Esaú-e-Jacó-134\"><span class=\"toc-item-num\">1.3.4&nbsp;&nbsp;</span>Esaú e Jacó</a></div><div class=\"lev3 toc-item\"><a href=\"#Memorial-de-Aires\" data-toc-modified-id=\"Memorial-de-Aires-135\"><span class=\"toc-item-num\">1.3.5&nbsp;&nbsp;</span>Memorial de Aires</a></div><div class=\"lev3 toc-item\"><a href=\"#Iaiá-Garcia\" data-toc-modified-id=\"Iaiá-Garcia-136\"><span class=\"toc-item-num\">1.3.6&nbsp;&nbsp;</span>Iaiá Garcia</a></div><div class=\"lev3 toc-item\"><a href=\"#Helena\" data-toc-modified-id=\"Helena-137\"><span class=\"toc-item-num\">1.3.7&nbsp;&nbsp;</span>Helena</a></div><div class=\"lev2 toc-item\"><a href=\"#Fernando-Sabino\" data-toc-modified-id=\"Fernando-Sabino-14\"><span class=\"toc-item-num\">1.4&nbsp;&nbsp;</span>Fernando Sabino</a></div><div class=\"lev3 toc-item\"><a href=\"#O-Encontro-Marcado\" data-toc-modified-id=\"O-Encontro-Marcado-141\"><span class=\"toc-item-num\">1.4.1&nbsp;&nbsp;</span>O Encontro Marcado</a></div><div class=\"lev3 toc-item\"><a href=\"#O-Grande-Mentecapto\" data-toc-modified-id=\"O-Grande-Mentecapto-142\"><span class=\"toc-item-num\">1.4.2&nbsp;&nbsp;</span>O Grande Mentecapto</a></div><div class=\"lev3 toc-item\"><a href=\"#O-Menino-no-Espelho\" data-toc-modified-id=\"O-Menino-no-Espelho-143\"><span class=\"toc-item-num\">1.4.3&nbsp;&nbsp;</span>O Menino no Espelho</a></div><div class=\"lev3 toc-item\"><a href=\"#O-Bom-Ladrão\" data-toc-modified-id=\"O-Bom-Ladrão-144\"><span class=\"toc-item-num\">1.4.4&nbsp;&nbsp;</span>O Bom Ladrão</a></div><div class=\"lev2 toc-item\"><a href=\"#Érico-Veríssimo\" data-toc-modified-id=\"Érico-Veríssimo-15\"><span class=\"toc-item-num\">1.5&nbsp;&nbsp;</span>Érico Veríssimo</a></div><div class=\"lev3 toc-item\"><a href=\"#O-Tempo-e-o-Vento\" data-toc-modified-id=\"O-Tempo-e-o-Vento-151\"><span class=\"toc-item-num\">1.5.1&nbsp;&nbsp;</span>O Tempo e o Vento</a></div><div class=\"lev4 toc-item\"><a href=\"#O-Continente,-vol.-1\" data-toc-modified-id=\"O-Continente,-vol.-1-1511\"><span class=\"toc-item-num\">1.5.1.1&nbsp;&nbsp;</span>O Continente, vol. 1</a></div><div class=\"lev4 toc-item\"><a href=\"#O-Arquipélago,-vol.-1\" data-toc-modified-id=\"O-Arquipélago,-vol.-1-1512\"><span class=\"toc-item-num\">1.5.1.2&nbsp;&nbsp;</span>O Arquipélago, vol. 1</a></div><div class=\"lev3 toc-item\"><a href=\"#Incidente-em-Antares\" data-toc-modified-id=\"Incidente-em-Antares-152\"><span class=\"toc-item-num\">1.5.2&nbsp;&nbsp;</span>Incidente em Antares</a></div><div class=\"lev3 toc-item\"><a href=\"#Clarissa\" data-toc-modified-id=\"Clarissa-153\"><span class=\"toc-item-num\">1.5.3&nbsp;&nbsp;</span>Clarissa</a></div>"
   ]
  },
  {
   "cell_type": "markdown",
   "metadata": {},
   "source": [
    "# Clássicos da Literatura Brasileira\n",
    "## Pré-processamento dos textos\n",
    "Os textos contidos no diretório `src_data_dir` foram criados da seguinte forma:\n",
    "\n",
    "- o PDF do livro foi baixado de sítios que disponibilizam literatura de graça;\n",
    "- o PDF foi convertido para texto simples com o programa \"PDF to Text Converter Expert\" (OS X);\n",
    "- as matérias inicial e final (orelhas, comentários, dedicatórias etc) foram retiradas manualmente; e, finalmente\n",
    "- este notebook gerou a versão a ser utilizada pelas redes neurais.\n",
    "\n",
    "As exceções foram os livros de Machado de Assis, obtidos do **NLTK**.\n"
   ]
  },
  {
   "cell_type": "code",
   "execution_count": 70,
   "metadata": {
    "ExecuteTime": {
     "end_time": "2017-10-25T13:22:02.967527Z",
     "start_time": "2017-10-25T13:22:02.960536Z"
    },
    "collapsed": true
   },
   "outputs": [],
   "source": [
    "%matplotlib inline\n",
    "import matplotlib.pyplot as plot\n",
    "from IPython import display\n",
    "from __future__ import print_function\n",
    "\n",
    "import os\n",
    "import re\n",
    "import sys\n",
    "import numpy as np\n",
    "import numpy.random as nr\n"
   ]
  },
  {
   "cell_type": "code",
   "execution_count": 71,
   "metadata": {
    "ExecuteTime": {
     "end_time": "2017-10-25T13:22:03.085223Z",
     "start_time": "2017-10-25T13:22:02.969049Z"
    }
   },
   "outputs": [
    {
     "name": "stdout",
     "output_type": "stream",
     "text": [
      "total 20\r\n",
      "drwxr-xr-x 2 ubuntu ubuntu 4096 Jun 11 12:47 Érico Veríssimo\r\n",
      "drwxr-xr-x 2 ubuntu ubuntu 4096 Jun  4 15:44 Fernando Sabino\r\n",
      "drwxr-xr-x 2 ubuntu ubuntu 4096 Jun  4 15:41 Guimarães Rosa\r\n",
      "drwxr-xr-x 2 ubuntu ubuntu 4096 Jun  4 15:38 Jorge Amado\r\n",
      "drwxr-xr-x 2 ubuntu ubuntu 4096 Oct 25 13:03 Machado de Assis\r\n"
     ]
    }
   ],
   "source": [
    "os.makedirs('/data/datasets/livros/processed/', exist_ok=True)\n",
    "\n",
    "dst_data_dir = '/data/datasets/livros/processed/'\n",
    "src_data_dir = '/data/datasets/livros/originais/'\n",
    "!ls -l '/data/datasets/livros/originais/'\n"
   ]
  },
  {
   "cell_type": "markdown",
   "metadata": {},
   "source": [
    "## Jorge Amado\n",
    "### Capitães de Areia"
   ]
  },
  {
   "cell_type": "code",
   "execution_count": 72,
   "metadata": {
    "ExecuteTime": {
     "end_time": "2017-10-25T13:22:03.097322Z",
     "start_time": "2017-10-25T13:22:03.087026Z"
    },
    "scrolled": false
   },
   "outputs": [
    {
     "data": {
      "text/plain": [
       "427711"
      ]
     },
     "execution_count": 72,
     "metadata": {},
     "output_type": "execute_result"
    }
   ],
   "source": [
    "book = 'Jorge Amado/Capitães de Areia.txt'\n",
    "texto = open(src_data_dir + book, 'r').read()\n",
    "texto = re.sub('(\\n\\n\\n\\*\\*\\*+ Page \\d+\\*+\\n\\n)', '', texto)\n",
    "open(dst_data_dir + book.replace(' ', '_').replace('/', '__'), 'w').write(texto)\n",
    "# print(texto[:5000])"
   ]
  },
  {
   "cell_type": "markdown",
   "metadata": {},
   "source": [
    "### Gabriela"
   ]
  },
  {
   "cell_type": "code",
   "execution_count": 73,
   "metadata": {
    "ExecuteTime": {
     "end_time": "2017-10-25T13:22:03.115834Z",
     "start_time": "2017-10-25T13:22:03.099043Z"
    }
   },
   "outputs": [
    {
     "data": {
      "text/plain": [
       "828417"
      ]
     },
     "execution_count": 73,
     "metadata": {},
     "output_type": "execute_result"
    }
   ],
   "source": [
    "book = 'Jorge Amado/Gabriela.txt'\n",
    "texto = open(src_data_dir + book, 'r').read()\n",
    "texto = re.sub('(\\n\\n\\n\\*\\*\\*+ Page \\d+\\*+\\n\\n)', '', texto)\n",
    "texto = re.sub('(\\n  Pág\\.\\d+ \\n)', '', texto)\n",
    "open(dst_data_dir + book.replace(' ', '_').replace('/', '__'), 'w').write(texto)\n",
    "# print(texto[:5000])"
   ]
  },
  {
   "cell_type": "markdown",
   "metadata": {},
   "source": [
    "### Dona Flor e seus Dois Maridos"
   ]
  },
  {
   "cell_type": "code",
   "execution_count": 74,
   "metadata": {
    "ExecuteTime": {
     "end_time": "2017-10-25T13:22:03.135316Z",
     "start_time": "2017-10-25T13:22:03.117487Z"
    }
   },
   "outputs": [
    {
     "data": {
      "text/plain": [
       "1030735"
      ]
     },
     "execution_count": 74,
     "metadata": {},
     "output_type": "execute_result"
    }
   ],
   "source": [
    "book = 'Jorge Amado/Dona flor seus dois maridos.txt'\n",
    "texto = open(src_data_dir + book, 'r').read()\n",
    "texto = re.sub('(\\n\\n\\n\\*\\*\\*+ Page \\d+\\*+\\n\\n)', '', texto)\n",
    "texto = re.sub('(\\n  Pág\\.\\d+ \\n)', '', texto)\n",
    "open(dst_data_dir + book.replace(' ', '_').replace('/', '__'), 'w').write(texto)\n",
    "# print(texto[:5000])"
   ]
  },
  {
   "cell_type": "markdown",
   "metadata": {},
   "source": [
    "### Tereza Batista Cansada de Guerra"
   ]
  },
  {
   "cell_type": "code",
   "execution_count": 75,
   "metadata": {
    "ExecuteTime": {
     "end_time": "2017-10-25T13:22:03.151961Z",
     "start_time": "2017-10-25T13:22:03.136853Z"
    }
   },
   "outputs": [
    {
     "data": {
      "text/plain": [
       "1001226"
      ]
     },
     "execution_count": 75,
     "metadata": {},
     "output_type": "execute_result"
    }
   ],
   "source": [
    "book = 'Jorge Amado/Tereza Batista Cansada de Guerra.txt'\n",
    "texto = open(src_data_dir + book, 'r').read()\n",
    "texto = re.sub('(\\n\\n\\n\\*\\*\\*+ Page \\d+\\*+\\n\\n)', '', texto)\n",
    "open(dst_data_dir + book.replace(' ', '_').replace('/', '__'), 'w').write(texto)\n",
    "# print(texto[:5000])"
   ]
  },
  {
   "cell_type": "markdown",
   "metadata": {},
   "source": [
    "## Machado de Assis\n",
    "### Memórias Póstumas de Brás Cubas"
   ]
  },
  {
   "cell_type": "code",
   "execution_count": 76,
   "metadata": {
    "ExecuteTime": {
     "end_time": "2017-10-25T13:22:03.159486Z",
     "start_time": "2017-10-25T13:22:03.153512Z"
    }
   },
   "outputs": [
    {
     "data": {
      "text/plain": [
       "353713"
      ]
     },
     "execution_count": 76,
     "metadata": {},
     "output_type": "execute_result"
    }
   ],
   "source": [
    "book = 'Machado de Assis/Memórias Póstumas de Brás Cubas.txt'\n",
    "texto = open(src_data_dir + book, 'r', encoding='latin-1').read()\n",
    "open(dst_data_dir + book.replace(' ', '_').replace('/', '__'), 'w').write(texto)\n",
    "# print(texto[:5000])"
   ]
  },
  {
   "cell_type": "markdown",
   "metadata": {},
   "source": [
    "### Dom Casmurro"
   ]
  },
  {
   "cell_type": "code",
   "execution_count": 77,
   "metadata": {
    "ExecuteTime": {
     "end_time": "2017-10-25T13:22:03.176496Z",
     "start_time": "2017-10-25T13:22:03.161011Z"
    }
   },
   "outputs": [
    {
     "data": {
      "text/plain": [
       "373300"
      ]
     },
     "execution_count": 77,
     "metadata": {},
     "output_type": "execute_result"
    }
   ],
   "source": [
    "book = 'Machado de Assis/Dom Casmurro.txt'\n",
    "texto = open(src_data_dir + book, 'r', encoding='latin-1').read()\n",
    "open(dst_data_dir + book.replace(' ', '_').replace('/', '__'), 'w').write(texto)\n",
    "# print(texto[:5000])"
   ]
  },
  {
   "cell_type": "markdown",
   "metadata": {},
   "source": [
    "### Quincas Borba"
   ]
  },
  {
   "cell_type": "code",
   "execution_count": 78,
   "metadata": {
    "ExecuteTime": {
     "end_time": "2017-10-25T13:22:03.185428Z",
     "start_time": "2017-10-25T13:22:03.178264Z"
    }
   },
   "outputs": [
    {
     "data": {
      "text/plain": [
       "445193"
      ]
     },
     "execution_count": 78,
     "metadata": {},
     "output_type": "execute_result"
    }
   ],
   "source": [
    "book = 'Machado de Assis/Quincas Borba.txt'\n",
    "texto = open(src_data_dir + book, 'r', encoding='latin-1').read()\n",
    "open(dst_data_dir + book.replace(' ', '_').replace('/', '__'), 'w').write(texto)\n",
    "# print(texto[:5000])"
   ]
  },
  {
   "cell_type": "markdown",
   "metadata": {},
   "source": [
    "### Esaú e Jacó"
   ]
  },
  {
   "cell_type": "code",
   "execution_count": 79,
   "metadata": {
    "ExecuteTime": {
     "end_time": "2017-10-25T13:22:03.194347Z",
     "start_time": "2017-10-25T13:22:03.186976Z"
    },
    "scrolled": false
   },
   "outputs": [
    {
     "data": {
      "text/plain": [
       "411870"
      ]
     },
     "execution_count": 79,
     "metadata": {},
     "output_type": "execute_result"
    }
   ],
   "source": [
    "book = 'Machado de Assis/Esaú e Jacó.txt'\n",
    "texto = open(src_data_dir + book, 'r', encoding='latin-1').read()\n",
    "open(dst_data_dir + book.replace(' ', '_').replace('/', '__'), 'w').write(texto)\n",
    "# print(texto[:5000])"
   ]
  },
  {
   "cell_type": "markdown",
   "metadata": {},
   "source": [
    "### Memorial de Aires"
   ]
  },
  {
   "cell_type": "code",
   "execution_count": 80,
   "metadata": {
    "ExecuteTime": {
     "end_time": "2017-10-25T13:22:03.202586Z",
     "start_time": "2017-10-25T13:22:03.196007Z"
    }
   },
   "outputs": [
    {
     "data": {
      "text/plain": [
       "281167"
      ]
     },
     "execution_count": 80,
     "metadata": {},
     "output_type": "execute_result"
    }
   ],
   "source": [
    "book = 'Machado de Assis/Memorial de Aires.txt'\n",
    "texto = open(src_data_dir + book, 'r', encoding='latin-1').read()\n",
    "open(dst_data_dir + book.replace(' ', '_').replace('/', '__'), 'w').write(texto)\n",
    "# print(texto[:5000])"
   ]
  },
  {
   "cell_type": "markdown",
   "metadata": {},
   "source": [
    "### Iaiá Garcia"
   ]
  },
  {
   "cell_type": "code",
   "execution_count": 81,
   "metadata": {
    "ExecuteTime": {
     "end_time": "2017-10-25T13:22:03.210171Z",
     "start_time": "2017-10-25T13:22:03.204066Z"
    }
   },
   "outputs": [
    {
     "data": {
      "text/plain": [
       "336677"
      ]
     },
     "execution_count": 81,
     "metadata": {},
     "output_type": "execute_result"
    }
   ],
   "source": [
    "book = 'Machado de Assis/Iaiá Garcia.txt'\n",
    "texto = open(src_data_dir + book, 'r', encoding='latin-1').read()\n",
    "open(dst_data_dir + book.replace(' ', '_').replace('/', '__'), 'w').write(texto)\n",
    "# print(texto[:5000])"
   ]
  },
  {
   "cell_type": "markdown",
   "metadata": {},
   "source": [
    "### Helena"
   ]
  },
  {
   "cell_type": "code",
   "execution_count": 82,
   "metadata": {
    "ExecuteTime": {
     "end_time": "2017-10-25T13:22:03.233725Z",
     "start_time": "2017-10-25T13:22:03.211742Z"
    }
   },
   "outputs": [
    {
     "data": {
      "text/plain": [
       "337533"
      ]
     },
     "execution_count": 82,
     "metadata": {},
     "output_type": "execute_result"
    }
   ],
   "source": [
    "book = 'Machado de Assis/Helena.txt'\n",
    "texto = open(src_data_dir + book, 'r', encoding='latin-1').read()\n",
    "open(dst_data_dir + book.replace(' ', '_').replace('/', '__'), 'w').write(texto)\n",
    "# print(texto[:5000])"
   ]
  },
  {
   "cell_type": "markdown",
   "metadata": {},
   "source": [
    "## Fernando Sabino\n",
    "### O Encontro Marcado"
   ]
  },
  {
   "cell_type": "code",
   "execution_count": 83,
   "metadata": {
    "ExecuteTime": {
     "end_time": "2017-10-25T13:22:03.250626Z",
     "start_time": "2017-10-25T13:22:03.235276Z"
    }
   },
   "outputs": [
    {
     "data": {
      "text/plain": [
       "511681"
      ]
     },
     "execution_count": 83,
     "metadata": {},
     "output_type": "execute_result"
    }
   ],
   "source": [
    "book = 'Fernando Sabino/O Encontro Marcado.txt'\n",
    "texto = open(src_data_dir + book, 'r').read()\n",
    "texto = re.sub('(\\n\\n\\n\\*\\*\\*+ Page \\d+\\*+\\n\\n)', '', texto)\n",
    "texto = re.sub('(\\n\\n)', '\\n', texto)\n",
    "open(dst_data_dir + book.replace(' ', '_').replace('/', '__'), 'w').write(texto)\n",
    "# print(texto[:5000])"
   ]
  },
  {
   "cell_type": "markdown",
   "metadata": {},
   "source": [
    "### O Grande Mentecapto"
   ]
  },
  {
   "cell_type": "code",
   "execution_count": 84,
   "metadata": {
    "ExecuteTime": {
     "end_time": "2017-10-25T13:22:03.262048Z",
     "start_time": "2017-10-25T13:22:03.252165Z"
    }
   },
   "outputs": [
    {
     "data": {
      "text/plain": [
       "328288"
      ]
     },
     "execution_count": 84,
     "metadata": {},
     "output_type": "execute_result"
    }
   ],
   "source": [
    "book = 'Fernando Sabino/O Grande Mentecapto.txt'\n",
    "texto = open(src_data_dir + book, 'r').read()\n",
    "texto = re.sub('(\\n\\n\\n\\*\\*\\*+ Page \\d+\\*+\\n\\n)', '', texto)\n",
    "texto = re.sub('(\\n\\n)', '\\n', texto)\n",
    "open(dst_data_dir + book.replace(' ', '_').replace('/', '__'), 'w').write(texto)\n",
    "# print(texto[:5000])"
   ]
  },
  {
   "cell_type": "markdown",
   "metadata": {},
   "source": [
    "### O Menino no Espelho"
   ]
  },
  {
   "cell_type": "code",
   "execution_count": 85,
   "metadata": {
    "ExecuteTime": {
     "end_time": "2017-10-25T13:22:03.288366Z",
     "start_time": "2017-10-25T13:22:03.263584Z"
    }
   },
   "outputs": [
    {
     "data": {
      "text/plain": [
       "180313"
      ]
     },
     "execution_count": 85,
     "metadata": {},
     "output_type": "execute_result"
    }
   ],
   "source": [
    "book = 'Fernando Sabino/O Menino no Espelho.txt'\n",
    "texto = open(src_data_dir + book, 'r').read()\n",
    "texto = re.sub('(\\n\\n\\n\\*\\*\\*+ Page \\d+\\*+\\n\\n)', '', texto)\n",
    "texto = re.sub('(\\n\\n)', '\\n', texto)\n",
    "open(dst_data_dir + book.replace(' ', '_').replace('/', '__'), 'w').write(texto)\n",
    "# print(texto[:5000])"
   ]
  },
  {
   "cell_type": "markdown",
   "metadata": {},
   "source": [
    "### O Bom Ladrão"
   ]
  },
  {
   "cell_type": "code",
   "execution_count": 86,
   "metadata": {
    "ExecuteTime": {
     "end_time": "2017-10-25T13:22:03.297294Z",
     "start_time": "2017-10-25T13:22:03.290170Z"
    }
   },
   "outputs": [
    {
     "data": {
      "text/plain": [
       "87788"
      ]
     },
     "execution_count": 86,
     "metadata": {},
     "output_type": "execute_result"
    }
   ],
   "source": [
    "book = 'Fernando Sabino/O Bom Ladrão.txt'\n",
    "texto = open(src_data_dir + book, 'r').read()\n",
    "texto = re.sub('(\\n\\n\\n\\*\\*\\*+ Page \\d+\\*+\\n\\n)', '', texto)\n",
    "texto = re.sub('(\\n\\n)', '\\n', texto)\n",
    "open(dst_data_dir + book.replace(' ', '_').replace('/', '__'), 'w').write(texto)\n",
    "# print(texto[:5000])"
   ]
  },
  {
   "cell_type": "markdown",
   "metadata": {},
   "source": [
    "## Érico Veríssimo"
   ]
  },
  {
   "cell_type": "markdown",
   "metadata": {},
   "source": [
    "### O Tempo e o Vento\n",
    "#### O Continente, vol. 1\n"
   ]
  },
  {
   "cell_type": "code",
   "execution_count": 87,
   "metadata": {
    "ExecuteTime": {
     "end_time": "2017-10-25T13:22:03.311350Z",
     "start_time": "2017-10-25T13:22:03.298899Z"
    }
   },
   "outputs": [
    {
     "data": {
      "text/plain": [
       "749265"
      ]
     },
     "execution_count": 87,
     "metadata": {},
     "output_type": "execute_result"
    }
   ],
   "source": [
    "book = 'Érico Veríssimo/O Tempo e o Vento - O Continente.txt'\n",
    "texto = open(src_data_dir + book, 'r').read()\n",
    "texto = re.sub('(\\n\\n\\n\\*\\*\\*+ Page \\d+\\*+\\n\\n)', '', texto)\n",
    "open(dst_data_dir + book.replace(' ', '_').replace('/', '__'), 'w').write(texto)\n",
    "# print(texto[:5000])"
   ]
  },
  {
   "cell_type": "markdown",
   "metadata": {},
   "source": [
    "#### O Arquipélago, vol. 1"
   ]
  },
  {
   "cell_type": "code",
   "execution_count": 88,
   "metadata": {
    "ExecuteTime": {
     "end_time": "2017-10-25T13:22:03.323834Z",
     "start_time": "2017-10-25T13:22:03.312885Z"
    }
   },
   "outputs": [
    {
     "data": {
      "text/plain": [
       "699390"
      ]
     },
     "execution_count": 88,
     "metadata": {},
     "output_type": "execute_result"
    }
   ],
   "source": [
    "book = 'Érico Veríssimo/O Tempo e o Vento - O Arquipélago.txt'\n",
    "texto = open(src_data_dir + book, 'r').read()\n",
    "texto = re.sub('(\\n\\n\\n\\*\\*\\*+ Page \\d+\\*+\\n\\n)', '', texto)\n",
    "open(dst_data_dir + book.replace(' ', '_').replace('/', '__'), 'w').write(texto)\n",
    "# print(texto[:5000])"
   ]
  },
  {
   "cell_type": "markdown",
   "metadata": {},
   "source": [
    "### Incidente em Antares"
   ]
  },
  {
   "cell_type": "code",
   "execution_count": 89,
   "metadata": {
    "ExecuteTime": {
     "end_time": "2017-10-25T13:22:03.339146Z",
     "start_time": "2017-10-25T13:22:03.325370Z"
    }
   },
   "outputs": [
    {
     "data": {
      "text/plain": [
       "890215"
      ]
     },
     "execution_count": 89,
     "metadata": {},
     "output_type": "execute_result"
    }
   ],
   "source": [
    "book = 'Érico Veríssimo/Incidente em Antares.txt'\n",
    "texto = open(src_data_dir + book, 'r').read()\n",
    "texto = re.sub('(\\n\\n\\n\\*\\*\\*+ Page \\d+\\*+\\n\\n)', '', texto)\n",
    "open(dst_data_dir + book.replace(' ', '_').replace('/', '__'), 'w').write(texto)\n",
    "# print(texto[:5000])"
   ]
  },
  {
   "cell_type": "markdown",
   "metadata": {},
   "source": [
    "### Clarissa"
   ]
  },
  {
   "cell_type": "code",
   "execution_count": 90,
   "metadata": {
    "ExecuteTime": {
     "end_time": "2017-10-25T13:22:03.348848Z",
     "start_time": "2017-10-25T13:22:03.340744Z"
    }
   },
   "outputs": [
    {
     "data": {
      "text/plain": [
       "294049"
      ]
     },
     "execution_count": 90,
     "metadata": {},
     "output_type": "execute_result"
    }
   ],
   "source": [
    "book = 'Érico Veríssimo/Clarissa.txt'\n",
    "texto = open(src_data_dir + book, 'r').read()\n",
    "texto = re.sub('(\\n\\n\\n\\*\\*\\*+ Page \\d+\\*+\\n\\n)', '', texto)\n",
    "open(dst_data_dir + book.replace(' ', '_').replace('/', '__'), 'w').write(texto)\n",
    "# print(texto[:5000])"
   ]
  },
  {
   "cell_type": "code",
   "execution_count": null,
   "metadata": {
    "collapsed": true
   },
   "outputs": [],
   "source": []
  }
 ],
 "metadata": {
  "kernelspec": {
   "display_name": "Python 3",
   "language": "python",
   "name": "python3"
  },
  "language_info": {
   "codemirror_mode": {
    "name": "ipython",
    "version": 3
   },
   "file_extension": ".py",
   "mimetype": "text/x-python",
   "name": "python",
   "nbconvert_exporter": "python",
   "pygments_lexer": "ipython3",
   "version": "3.6.1"
  },
  "latex_envs": {
   "LaTeX_envs_menu_present": true,
   "autocomplete": true,
   "bibliofile": "biblio.bib",
   "cite_by": "apalike",
   "current_citInitial": 1,
   "eqLabelWithNumbers": true,
   "eqNumInitial": 1,
   "hotkeys": {
    "equation": "Ctrl-E",
    "itemize": "Ctrl-I"
   },
   "labels_anchors": false,
   "latex_user_defs": false,
   "report_style_numbering": false,
   "user_envs_cfg": false
  },
  "toc": {
   "colors": {
    "hover_highlight": "#DAA520",
    "navigate_num": "#000000",
    "navigate_text": "#333333",
    "running_highlight": "#FF0000",
    "selected_highlight": "#FFD700",
    "sidebar_border": "#EEEEEE",
    "wrapper_background": "#FFFFFF"
   },
   "moveMenuLeft": true,
   "nav_menu": {
    "height": "12px",
    "width": "252px"
   },
   "navigate_menu": true,
   "number_sections": true,
   "sideBar": true,
   "threshold": 4,
   "toc_cell": true,
   "toc_section_display": "block",
   "toc_window_display": false,
   "widenNotebook": false
  }
 },
 "nbformat": 4,
 "nbformat_minor": 2
}
