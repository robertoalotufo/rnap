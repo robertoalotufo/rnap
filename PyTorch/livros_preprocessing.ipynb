{
 "cells": [
  {
   "cell_type": "markdown",
   "metadata": {},
   "source": [
    "# Clássicos da Literatura Brasileira\n",
    "## Pré-processamento dos textos\n",
    "Os textos contidos no diretório `src_data_dir` foram criados da seguinte forma:\n",
    "\n",
    "- o PDF do livro foi baixado de sítios que disponibilizam literatura de graça;\n",
    "- o PDF foi convertido para texto simples com o programa \"PDF to Text Converter Expert\" (OS X);\n",
    "- as matérias inicial e final (orelhas, comentários, dedicatórias etc) foram retiradas manualmente; e, finalmente\n",
    "- este notebook gerou a versão a ser utilizada pelas redes neurais.\n",
    "\n",
    "As exceções foram os livros de Machado de Assis, obtidos do **NLTK**.\n"
   ]
  },
  {
   "cell_type": "code",
   "execution_count": 2,
   "metadata": {
    "ExecuteTime": {
     "end_time": "2018-02-04T20:27:36.340205Z",
     "start_time": "2018-02-04T20:27:35.755133Z"
    },
    "collapsed": true
   },
   "outputs": [],
   "source": [
    "%matplotlib inline\n",
    "import matplotlib.pyplot as plot\n",
    "from IPython import display\n",
    "\n",
    "import os\n",
    "import re\n",
    "import sys\n",
    "import numpy as np\n",
    "import numpy.random as nr\n"
   ]
  },
  {
   "cell_type": "code",
   "execution_count": 3,
   "metadata": {
    "ExecuteTime": {
     "end_time": "2018-02-04T20:27:36.502023Z",
     "start_time": "2018-02-04T20:27:36.342132Z"
    }
   },
   "outputs": [
    {
     "name": "stdout",
     "output_type": "stream",
     "text": [
      "total 0\r\n",
      "drwxr-xr-x   6 robertoalotufo  wheel  204 26 Out 21:02 \u001b[34mÉrico Veríssimo\u001b[m\u001b[m\r\n",
      "drwxr-xr-x   6 robertoalotufo  wheel  204 26 Out 21:02 \u001b[34mFernando Sabino\u001b[m\u001b[m\r\n",
      "drwxr-xr-x   6 robertoalotufo  wheel  204 26 Out 21:02 \u001b[34mGuimarães Rosa\u001b[m\u001b[m\r\n",
      "drwxr-xr-x   7 robertoalotufo  wheel  238 26 Out 21:02 \u001b[34mJorge Amado\u001b[m\u001b[m\r\n",
      "drwxr-xr-x  12 robertoalotufo  wheel  408 26 Out 21:02 \u001b[34mMachado de Assis\u001b[m\u001b[m\r\n"
     ]
    }
   ],
   "source": [
    "os.makedirs('/data/datasets/livros/processed/', exist_ok=True)\n",
    "\n",
    "dst_data_dir = '/data/datasets/livros/processed/'\n",
    "src_data_dir = '/data/datasets/livros/originais/'\n",
    "!ls -l '/data/datasets/livros/originais/'\n"
   ]
  },
  {
   "cell_type": "markdown",
   "metadata": {},
   "source": [
    "## Jorge Amado\n",
    "### Capitães de Areia"
   ]
  },
  {
   "cell_type": "code",
   "execution_count": 5,
   "metadata": {
    "ExecuteTime": {
     "end_time": "2018-02-04T20:27:49.246091Z",
     "start_time": "2018-02-04T20:27:49.228511Z"
    },
    "scrolled": false
   },
   "outputs": [
    {
     "data": {
      "text/plain": [
       "427711"
      ]
     },
     "execution_count": 5,
     "metadata": {},
     "output_type": "execute_result"
    }
   ],
   "source": [
    "book = 'Jorge Amado/Capitães de Areia.txt'\n",
    "texto = open(src_data_dir + book, 'r').read()\n",
    "texto = re.sub('(\\n\\n\\n\\*\\*\\*+ Page \\d+\\*+\\n\\n)', '', texto)\n",
    "open(dst_data_dir + book.replace(' ', '_').replace('/', '__'), 'w').write(texto)\n",
    "# print(texto[:5000])\n",
    "print(len(texto))"
   ]
  },
  {
   "cell_type": "markdown",
   "metadata": {},
   "source": [
    "### Gabriela"
   ]
  },
  {
   "cell_type": "code",
   "execution_count": 4,
   "metadata": {
    "ExecuteTime": {
     "end_time": "2018-02-04T20:20:07.258533Z",
     "start_time": "2018-02-04T20:20:07.229697Z"
    }
   },
   "outputs": [
    {
     "data": {
      "text/plain": [
       "828417"
      ]
     },
     "execution_count": 4,
     "metadata": {},
     "output_type": "execute_result"
    }
   ],
   "source": [
    "book = 'Jorge Amado/Gabriela.txt'\n",
    "texto = open(src_data_dir + book, 'r').read()\n",
    "texto = re.sub('(\\n\\n\\n\\*\\*\\*+ Page \\d+\\*+\\n\\n)', '', texto)\n",
    "texto = re.sub('(\\n  Pág\\.\\d+ \\n)', '', texto)\n",
    "open(dst_data_dir + book.replace(' ', '_').replace('/', '__'), 'w').write(texto)\n",
    "# print(texto[:5000])\n",
    "print(len(texto))"
   ]
  },
  {
   "cell_type": "markdown",
   "metadata": {},
   "source": [
    "### Dona Flor e seus Dois Maridos"
   ]
  },
  {
   "cell_type": "code",
   "execution_count": 5,
   "metadata": {
    "ExecuteTime": {
     "end_time": "2018-02-04T20:20:08.374379Z",
     "start_time": "2018-02-04T20:20:08.340446Z"
    }
   },
   "outputs": [
    {
     "data": {
      "text/plain": [
       "1030735"
      ]
     },
     "execution_count": 5,
     "metadata": {},
     "output_type": "execute_result"
    }
   ],
   "source": [
    "book = 'Jorge Amado/Dona flor seus dois maridos.txt'\n",
    "texto = open(src_data_dir + book, 'r').read()\n",
    "texto = re.sub('(\\n\\n\\n\\*\\*\\*+ Page \\d+\\*+\\n\\n)', '', texto)\n",
    "texto = re.sub('(\\n  Pág\\.\\d+ \\n)', '', texto)\n",
    "open(dst_data_dir + book.replace(' ', '_').replace('/', '__'), 'w').write(texto)\n",
    "# print(texto[:5000])\n",
    "print(len(texto))"
   ]
  },
  {
   "cell_type": "markdown",
   "metadata": {},
   "source": [
    "### Tereza Batista Cansada de Guerra"
   ]
  },
  {
   "cell_type": "code",
   "execution_count": 6,
   "metadata": {
    "ExecuteTime": {
     "end_time": "2018-02-04T20:20:09.212844Z",
     "start_time": "2018-02-04T20:20:09.178681Z"
    }
   },
   "outputs": [
    {
     "data": {
      "text/plain": [
       "1001226"
      ]
     },
     "execution_count": 6,
     "metadata": {},
     "output_type": "execute_result"
    }
   ],
   "source": [
    "book = 'Jorge Amado/Tereza Batista Cansada de Guerra.txt'\n",
    "texto = open(src_data_dir + book, 'r').read()\n",
    "texto = re.sub('(\\n\\n\\n\\*\\*\\*+ Page \\d+\\*+\\n\\n)', '', texto)\n",
    "open(dst_data_dir + book.replace(' ', '_').replace('/', '__'), 'w').write(texto)\n",
    "# print(texto[:5000])\n",
    "print(len(texto))"
   ]
  },
  {
   "cell_type": "markdown",
   "metadata": {},
   "source": [
    "## Machado de Assis\n",
    "### Memórias Póstumas de Brás Cubas"
   ]
  },
  {
   "cell_type": "code",
   "execution_count": 7,
   "metadata": {
    "ExecuteTime": {
     "end_time": "2018-02-04T20:20:10.025594Z",
     "start_time": "2018-02-04T20:20:10.013498Z"
    }
   },
   "outputs": [
    {
     "data": {
      "text/plain": [
       "353713"
      ]
     },
     "execution_count": 7,
     "metadata": {},
     "output_type": "execute_result"
    }
   ],
   "source": [
    "book = 'Machado de Assis/Memórias Póstumas de Brás Cubas.txt'\n",
    "texto = open(src_data_dir + book, 'r', encoding='latin-1').read()\n",
    "open(dst_data_dir + book.replace(' ', '_').replace('/', '__'), 'w').write(texto)\n",
    "# print(texto[:5000])\n",
    "print(len(texto))"
   ]
  },
  {
   "cell_type": "markdown",
   "metadata": {},
   "source": [
    "### Dom Casmurro"
   ]
  },
  {
   "cell_type": "code",
   "execution_count": 8,
   "metadata": {
    "ExecuteTime": {
     "end_time": "2018-02-04T20:20:10.608592Z",
     "start_time": "2018-02-04T20:20:10.596841Z"
    }
   },
   "outputs": [
    {
     "data": {
      "text/plain": [
       "373300"
      ]
     },
     "execution_count": 8,
     "metadata": {},
     "output_type": "execute_result"
    }
   ],
   "source": [
    "book = 'Machado de Assis/Dom Casmurro.txt'\n",
    "texto = open(src_data_dir + book, 'r', encoding='latin-1').read()\n",
    "open(dst_data_dir + book.replace(' ', '_').replace('/', '__'), 'w').write(texto)\n",
    "# print(texto[:5000])\n",
    "print(len(texto))"
   ]
  },
  {
   "cell_type": "markdown",
   "metadata": {},
   "source": [
    "### Quincas Borba"
   ]
  },
  {
   "cell_type": "code",
   "execution_count": 9,
   "metadata": {
    "ExecuteTime": {
     "end_time": "2017-12-12T20:00:44.492275Z",
     "start_time": "2017-12-12T20:00:44.482799Z"
    }
   },
   "outputs": [
    {
     "data": {
      "text/plain": [
       "445193"
      ]
     },
     "execution_count": 9,
     "metadata": {},
     "output_type": "execute_result"
    }
   ],
   "source": [
    "book = 'Machado de Assis/Quincas Borba.txt'\n",
    "texto = open(src_data_dir + book, 'r', encoding='latin-1').read()\n",
    "open(dst_data_dir + book.replace(' ', '_').replace('/', '__'), 'w').write(texto)\n",
    "# print(texto[:5000])\n",
    "print(len(texto))"
   ]
  },
  {
   "cell_type": "markdown",
   "metadata": {},
   "source": [
    "### Esaú e Jacó"
   ]
  },
  {
   "cell_type": "code",
   "execution_count": 10,
   "metadata": {
    "ExecuteTime": {
     "end_time": "2017-12-12T20:00:44.502366Z",
     "start_time": "2017-12-12T20:00:44.493880Z"
    },
    "scrolled": false
   },
   "outputs": [
    {
     "data": {
      "text/plain": [
       "411870"
      ]
     },
     "execution_count": 10,
     "metadata": {},
     "output_type": "execute_result"
    }
   ],
   "source": [
    "book = 'Machado de Assis/Esaú e Jacó.txt'\n",
    "texto = open(src_data_dir + book, 'r', encoding='latin-1').read()\n",
    "open(dst_data_dir + book.replace(' ', '_').replace('/', '__'), 'w').write(texto)\n",
    "# print(texto[:5000])\n",
    "print(len(texto))"
   ]
  },
  {
   "cell_type": "markdown",
   "metadata": {},
   "source": [
    "### Memorial de Aires"
   ]
  },
  {
   "cell_type": "code",
   "execution_count": 11,
   "metadata": {
    "ExecuteTime": {
     "end_time": "2017-12-12T20:00:44.511592Z",
     "start_time": "2017-12-12T20:00:44.503930Z"
    }
   },
   "outputs": [
    {
     "data": {
      "text/plain": [
       "281167"
      ]
     },
     "execution_count": 11,
     "metadata": {},
     "output_type": "execute_result"
    }
   ],
   "source": [
    "book = 'Machado de Assis/Memorial de Aires.txt'\n",
    "texto = open(src_data_dir + book, 'r', encoding='latin-1').read()\n",
    "open(dst_data_dir + book.replace(' ', '_').replace('/', '__'), 'w').write(texto)\n",
    "# print(texto[:5000])\n",
    "print(len(texto))"
   ]
  },
  {
   "cell_type": "markdown",
   "metadata": {},
   "source": [
    "### Iaiá Garcia"
   ]
  },
  {
   "cell_type": "code",
   "execution_count": 12,
   "metadata": {
    "ExecuteTime": {
     "end_time": "2017-12-12T20:00:44.521811Z",
     "start_time": "2017-12-12T20:00:44.513203Z"
    }
   },
   "outputs": [
    {
     "data": {
      "text/plain": [
       "336677"
      ]
     },
     "execution_count": 12,
     "metadata": {},
     "output_type": "execute_result"
    }
   ],
   "source": [
    "book = 'Machado de Assis/Iaiá Garcia.txt'\n",
    "texto = open(src_data_dir + book, 'r', encoding='latin-1').read()\n",
    "open(dst_data_dir + book.replace(' ', '_').replace('/', '__'), 'w').write(texto)\n",
    "# print(texto[:5000])\n",
    "print(len(texto))"
   ]
  },
  {
   "cell_type": "markdown",
   "metadata": {},
   "source": [
    "### Helena"
   ]
  },
  {
   "cell_type": "code",
   "execution_count": 13,
   "metadata": {
    "ExecuteTime": {
     "end_time": "2017-12-12T20:00:44.531108Z",
     "start_time": "2017-12-12T20:00:44.523354Z"
    }
   },
   "outputs": [
    {
     "data": {
      "text/plain": [
       "337533"
      ]
     },
     "execution_count": 13,
     "metadata": {},
     "output_type": "execute_result"
    }
   ],
   "source": [
    "book = 'Machado de Assis/Helena.txt'\n",
    "texto = open(src_data_dir + book, 'r', encoding='latin-1').read()\n",
    "open(dst_data_dir + book.replace(' ', '_').replace('/', '__'), 'w').write(texto)\n",
    "# print(texto[:5000])\n",
    "print(len(texto))"
   ]
  },
  {
   "cell_type": "markdown",
   "metadata": {},
   "source": [
    "## Fernando Sabino\n",
    "### O Encontro Marcado"
   ]
  },
  {
   "cell_type": "code",
   "execution_count": 14,
   "metadata": {
    "ExecuteTime": {
     "end_time": "2017-12-12T20:00:44.550473Z",
     "start_time": "2017-12-12T20:00:44.532578Z"
    }
   },
   "outputs": [
    {
     "data": {
      "text/plain": [
       "511681"
      ]
     },
     "execution_count": 14,
     "metadata": {},
     "output_type": "execute_result"
    }
   ],
   "source": [
    "book = 'Fernando Sabino/O Encontro Marcado.txt'\n",
    "texto = open(src_data_dir + book, 'r').read()\n",
    "texto = re.sub('(\\n\\n\\n\\*\\*\\*+ Page \\d+\\*+\\n\\n)', '', texto)\n",
    "texto = re.sub('(\\n\\n)', '\\n', texto)\n",
    "open(dst_data_dir + book.replace(' ', '_').replace('/', '__'), 'w').write(texto)\n",
    "# print(texto[:5000])\n",
    "print(len(texto))"
   ]
  },
  {
   "cell_type": "markdown",
   "metadata": {},
   "source": [
    "### O Grande Mentecapto"
   ]
  },
  {
   "cell_type": "code",
   "execution_count": 15,
   "metadata": {
    "ExecuteTime": {
     "end_time": "2017-12-12T20:00:44.563308Z",
     "start_time": "2017-12-12T20:00:44.552124Z"
    }
   },
   "outputs": [
    {
     "data": {
      "text/plain": [
       "328288"
      ]
     },
     "execution_count": 15,
     "metadata": {},
     "output_type": "execute_result"
    }
   ],
   "source": [
    "book = 'Fernando Sabino/O Grande Mentecapto.txt'\n",
    "texto = open(src_data_dir + book, 'r').read()\n",
    "texto = re.sub('(\\n\\n\\n\\*\\*\\*+ Page \\d+\\*+\\n\\n)', '', texto)\n",
    "texto = re.sub('(\\n\\n)', '\\n', texto)\n",
    "open(dst_data_dir + book.replace(' ', '_').replace('/', '__'), 'w').write(texto)\n",
    "# print(texto[:5000])\n",
    "print(len(texto))"
   ]
  },
  {
   "cell_type": "markdown",
   "metadata": {},
   "source": [
    "### O Menino no Espelho"
   ]
  },
  {
   "cell_type": "code",
   "execution_count": 16,
   "metadata": {
    "ExecuteTime": {
     "end_time": "2017-12-12T20:00:44.575147Z",
     "start_time": "2017-12-12T20:00:44.564690Z"
    }
   },
   "outputs": [
    {
     "data": {
      "text/plain": [
       "180313"
      ]
     },
     "execution_count": 16,
     "metadata": {},
     "output_type": "execute_result"
    }
   ],
   "source": [
    "book = 'Fernando Sabino/O Menino no Espelho.txt'\n",
    "texto = open(src_data_dir + book, 'r').read()\n",
    "texto = re.sub('(\\n\\n\\n\\*\\*\\*+ Page \\d+\\*+\\n\\n)', '', texto)\n",
    "texto = re.sub('(\\n\\n)', '\\n', texto)\n",
    "open(dst_data_dir + book.replace(' ', '_').replace('/', '__'), 'w').write(texto)\n",
    "# print(texto[:5000])\n",
    "print(len(texto))"
   ]
  },
  {
   "cell_type": "markdown",
   "metadata": {},
   "source": [
    "### O Bom Ladrão"
   ]
  },
  {
   "cell_type": "code",
   "execution_count": 17,
   "metadata": {
    "ExecuteTime": {
     "end_time": "2017-12-12T20:00:44.586229Z",
     "start_time": "2017-12-12T20:00:44.576668Z"
    }
   },
   "outputs": [
    {
     "data": {
      "text/plain": [
       "87788"
      ]
     },
     "execution_count": 17,
     "metadata": {},
     "output_type": "execute_result"
    }
   ],
   "source": [
    "book = 'Fernando Sabino/O Bom Ladrão.txt'\n",
    "texto = open(src_data_dir + book, 'r').read()\n",
    "texto = re.sub('(\\n\\n\\n\\*\\*\\*+ Page \\d+\\*+\\n\\n)', '', texto)\n",
    "texto = re.sub('(\\n\\n)', '\\n', texto)\n",
    "open(dst_data_dir + book.replace(' ', '_').replace('/', '__'), 'w').write(texto)\n",
    "# print(texto[:5000])\n",
    "print(len(texto))"
   ]
  },
  {
   "cell_type": "markdown",
   "metadata": {},
   "source": [
    "## Érico Veríssimo"
   ]
  },
  {
   "cell_type": "markdown",
   "metadata": {},
   "source": [
    "### O Tempo e o Vento\n",
    "#### O Continente, vol. 1\n"
   ]
  },
  {
   "cell_type": "code",
   "execution_count": 18,
   "metadata": {
    "ExecuteTime": {
     "end_time": "2017-12-12T20:00:44.603789Z",
     "start_time": "2017-12-12T20:00:44.587822Z"
    }
   },
   "outputs": [
    {
     "data": {
      "text/plain": [
       "749265"
      ]
     },
     "execution_count": 18,
     "metadata": {},
     "output_type": "execute_result"
    }
   ],
   "source": [
    "book = 'Érico Veríssimo/O Tempo e o Vento - O Continente.txt'\n",
    "texto = open(src_data_dir + book, 'r').read()\n",
    "texto = re.sub('(\\n\\n\\n\\*\\*\\*+ Page \\d+\\*+\\n\\n)', '', texto)\n",
    "open(dst_data_dir + book.replace(' ', '_').replace('/', '__'), 'w').write(texto)\n",
    "# print(texto[:5000])\n",
    "print(len(texto))"
   ]
  },
  {
   "cell_type": "markdown",
   "metadata": {},
   "source": [
    "#### O Arquipélago, vol. 1"
   ]
  },
  {
   "cell_type": "code",
   "execution_count": 19,
   "metadata": {
    "ExecuteTime": {
     "end_time": "2017-12-12T20:00:44.619716Z",
     "start_time": "2017-12-12T20:00:44.605389Z"
    }
   },
   "outputs": [
    {
     "data": {
      "text/plain": [
       "699390"
      ]
     },
     "execution_count": 19,
     "metadata": {},
     "output_type": "execute_result"
    }
   ],
   "source": [
    "book = 'Érico Veríssimo/O Tempo e o Vento - O Arquipélago.txt'\n",
    "texto = open(src_data_dir + book, 'r').read()\n",
    "texto = re.sub('(\\n\\n\\n\\*\\*\\*+ Page \\d+\\*+\\n\\n)', '', texto)\n",
    "open(dst_data_dir + book.replace(' ', '_').replace('/', '__'), 'w').write(texto)\n",
    "# print(texto[:5000])\n",
    "print(len(texto))"
   ]
  },
  {
   "cell_type": "markdown",
   "metadata": {},
   "source": [
    "### Incidente em Antares"
   ]
  },
  {
   "cell_type": "code",
   "execution_count": 20,
   "metadata": {
    "ExecuteTime": {
     "end_time": "2017-12-12T20:00:44.637745Z",
     "start_time": "2017-12-12T20:00:44.621238Z"
    }
   },
   "outputs": [
    {
     "data": {
      "text/plain": [
       "890215"
      ]
     },
     "execution_count": 20,
     "metadata": {},
     "output_type": "execute_result"
    }
   ],
   "source": [
    "book = 'Érico Veríssimo/Incidente em Antares.txt'\n",
    "texto = open(src_data_dir + book, 'r').read()\n",
    "texto = re.sub('(\\n\\n\\n\\*\\*\\*+ Page \\d+\\*+\\n\\n)', '', texto)\n",
    "open(dst_data_dir + book.replace(' ', '_').replace('/', '__'), 'w').write(texto)\n",
    "# print(texto[:5000])\n",
    "print(len(texto))"
   ]
  },
  {
   "cell_type": "markdown",
   "metadata": {},
   "source": [
    "### Clarissa"
   ]
  },
  {
   "cell_type": "code",
   "execution_count": 21,
   "metadata": {
    "ExecuteTime": {
     "end_time": "2017-12-12T20:00:44.649656Z",
     "start_time": "2017-12-12T20:00:44.639297Z"
    }
   },
   "outputs": [
    {
     "data": {
      "text/plain": [
       "294049"
      ]
     },
     "execution_count": 21,
     "metadata": {},
     "output_type": "execute_result"
    }
   ],
   "source": [
    "book = 'Érico Veríssimo/Clarissa.txt'\n",
    "texto = open(src_data_dir + book, 'r').read()\n",
    "texto = re.sub('(\\n\\n\\n\\*\\*\\*+ Page \\d+\\*+\\n\\n)', '', texto)\n",
    "open(dst_data_dir + book.replace(' ', '_').replace('/', '__'), 'w').write(texto)\n",
    "# print(texto[:5000])\n",
    "print(len(texto))"
   ]
  }
 ],
 "metadata": {
  "kernelspec": {
   "display_name": "Python 3",
   "language": "python",
   "name": "python3"
  },
  "language_info": {
   "codemirror_mode": {
    "name": "ipython",
    "version": 3
   },
   "file_extension": ".py",
   "mimetype": "text/x-python",
   "name": "python",
   "nbconvert_exporter": "python",
   "pygments_lexer": "ipython3",
   "version": "3.6.0"
  },
  "latex_envs": {
   "LaTeX_envs_menu_present": true,
   "autocomplete": true,
   "bibliofile": "biblio.bib",
   "cite_by": "apalike",
   "current_citInitial": 1,
   "eqLabelWithNumbers": true,
   "eqNumInitial": 1,
   "hotkeys": {
    "equation": "Ctrl-E",
    "itemize": "Ctrl-I"
   },
   "labels_anchors": false,
   "latex_user_defs": false,
   "report_style_numbering": false,
   "user_envs_cfg": false
  },
  "toc": {
   "nav_menu": {
    "height": "12px",
    "width": "252px"
   },
   "number_sections": true,
   "sideBar": true,
   "skip_h1_title": false,
   "toc_cell": false,
   "toc_position": {},
   "toc_section_display": "block",
   "toc_window_display": false
  }
 },
 "nbformat": 4,
 "nbformat_minor": 2
}
