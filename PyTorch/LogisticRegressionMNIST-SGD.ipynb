{
 "cells": [
  {
   "cell_type": "markdown",
   "metadata": {},
   "source": [
    "# Regressão Softmax com dados do MNIST utilizando gradiente descendente estocástico por minibatches"
   ]
  },
  {
   "cell_type": "markdown",
   "metadata": {},
   "source": [
    "O objetivo deste notebook é ilustrar \n",
    "- o uso do gradiente estocástico por mini-batchs\n",
    "- utilizando as classes Dataset e DataLoater.\n",
    "\n",
    "A apresentação da perda nos gráficos é um pouco diferente da usual, mostrando a perda de cada um dos vários minibatches dentro de cada época, de forma que as épocas são apresentadas com valores fracionários."
   ]
  },
  {
   "cell_type": "markdown",
   "metadata": {},
   "source": [
    "## Importação das bibliotecas"
   ]
  },
  {
   "cell_type": "code",
   "execution_count": 1,
   "metadata": {
    "ExecuteTime": {
     "end_time": "2017-10-19T14:56:13.955050",
     "start_time": "2017-10-19T14:56:12.695323"
    },
    "collapsed": true
   },
   "outputs": [],
   "source": [
    "%matplotlib inline\n",
    "import numpy as np\n",
    "import matplotlib.pyplot as plt\n",
    "import pandas as pd\n",
    "\n",
    "import torch\n",
    "from torch.autograd import Variable\n",
    "\n",
    "import torchvision"
   ]
  },
  {
   "cell_type": "markdown",
   "metadata": {},
   "source": [
    "## Inicialização do histórico de treinamentos"
   ]
  },
  {
   "cell_type": "code",
   "execution_count": 2,
   "metadata": {
    "ExecuteTime": {
     "end_time": "2017-10-19T14:56:14.732666",
     "start_time": "2017-10-19T14:56:14.729759"
    },
    "collapsed": true
   },
   "outputs": [],
   "source": [
    "d_batchsize = dict()"
   ]
  },
  {
   "cell_type": "markdown",
   "metadata": {},
   "source": [
    "## Definição do tamanho do minibatch"
   ]
  },
  {
   "cell_type": "code",
   "execution_count": 22,
   "metadata": {
    "ExecuteTime": {
     "end_time": "2017-10-19T15:12:01.957411",
     "start_time": "2017-10-19T15:12:01.954470"
    },
    "collapsed": true
   },
   "outputs": [],
   "source": [
    "batch_size = 50"
   ]
  },
  {
   "cell_type": "markdown",
   "metadata": {},
   "source": [
    "## Carregamento e normalização dos dados do MNIST"
   ]
  },
  {
   "cell_type": "code",
   "execution_count": 23,
   "metadata": {
    "ExecuteTime": {
     "end_time": "2017-10-19T15:12:02.823479",
     "start_time": "2017-10-19T15:12:02.775524"
    }
   },
   "outputs": [
    {
     "name": "stdout",
     "output_type": "stream",
     "text": [
      "Número de minibatches de trenamento: 1200\n",
      "Número de minibatches de teste:      200\n",
      "\n",
      "Dimensões dos dados de um minibatch: torch.Size([50, 1, 28, 28])\n",
      "Valores mínimo e máximo dos pixels:  0.0 1.0\n",
      "Tipo dos dados das imagens:          <class 'torch.FloatTensor'>\n",
      "Tipo das classes das imagens:        <class 'torch.LongTensor'>\n"
     ]
    }
   ],
   "source": [
    "dataset_dir = '/data/datasets/MNIST/'\n",
    "\n",
    "dataset_train = torchvision.datasets.MNIST(dataset_dir, train=True, download=False,\n",
    "                                           transform=torchvision.transforms.ToTensor())\n",
    "dataset_test = torchvision.datasets.MNIST(dataset_dir, train=False, download=False,\n",
    "                                          transform=torchvision.transforms.ToTensor())\n",
    "\n",
    "loader_train = torch.utils.data.DataLoader(dataset_train, batch_size=batch_size, shuffle=True)\n",
    "loader_test = torch.utils.data.DataLoader(dataset_test, batch_size=batch_size, shuffle=False)\n",
    "\n",
    "print('Número de minibatches de trenamento:', len(loader_train))\n",
    "print('Número de minibatches de teste:     ', len(loader_test))\n",
    "\n",
    "x_train, y_train = next(iter(loader_train))\n",
    "print(\"\\nDimensões dos dados de um minibatch:\", x_train.size())\n",
    "print(\"Valores mínimo e máximo dos pixels: \", torch.min(x_train), torch.max(x_train))\n",
    "print(\"Tipo dos dados das imagens:         \", type(x_train))\n",
    "print(\"Tipo das classes das imagens:       \", type(y_train))"
   ]
  },
  {
   "cell_type": "markdown",
   "metadata": {},
   "source": [
    "## Seleção dos dados do MNIST\n",
    "\n",
    "Neste exemplo utilizaremos 500 amostras de treinamento e 100 amostras de teste."
   ]
  },
  {
   "cell_type": "code",
   "execution_count": 24,
   "metadata": {
    "ExecuteTime": {
     "end_time": "2017-10-19T15:12:03.807672",
     "start_time": "2017-10-19T15:12:03.798939"
    }
   },
   "outputs": [
    {
     "name": "stdout",
     "output_type": "stream",
     "text": [
      "Número de minibatches de trenamento: 20\n",
      "Número de minibatches de teste:      10\n"
     ]
    }
   ],
   "source": [
    "if True:\n",
    "    n_samples_train = 1000\n",
    "    n_samples_test  = 500\n",
    "\n",
    "    dataset_train.train_data = dataset_train.train_data[:n_samples_train]\n",
    "    dataset_train.train_labels = dataset_train.train_labels[:n_samples_train]\n",
    "\n",
    "    dataset_test.test_data = dataset_test.test_data[:n_samples_test]\n",
    "    dataset_test.test_labels = dataset_test.test_labels[:n_samples_test]\n",
    "\n",
    "print('Número de minibatches de trenamento:', len(loader_train))\n",
    "print('Número de minibatches de teste:     ', len(loader_test))\n",
    "n_batches_train = len(loader_train)\n",
    "total_samples = dataset_train.train_data.size(0)"
   ]
  },
  {
   "cell_type": "markdown",
   "metadata": {},
   "source": [
    "## Treinamento"
   ]
  },
  {
   "cell_type": "markdown",
   "metadata": {},
   "source": [
    "### Inicialização dos parâmetros"
   ]
  },
  {
   "cell_type": "code",
   "execution_count": 25,
   "metadata": {
    "ExecuteTime": {
     "end_time": "2017-10-19T15:12:16.877819",
     "start_time": "2017-10-19T15:12:16.871723"
    },
    "collapsed": true
   },
   "outputs": [],
   "source": [
    "n_epochs = 100\n",
    "learningRate = 0.5\n",
    "\n",
    "# Cria uma operação linear com entrada de tamanho 28*28 e saída com 10 neurônios (classes)\n",
    "# O objeto criado armazenará os pesos\n",
    "model = torch.nn.Linear(28*28, 10)\n",
    "\n",
    "# Utilizaremos CrossEntropyLoss como função de perda\n",
    "criterion = torch.nn.CrossEntropyLoss(size_average=True)\n",
    "\n",
    "# Nosso otomizador será SDG\n",
    "optimizer = torch.optim.SGD(model.parameters(), lr=learningRate)"
   ]
  },
  {
   "cell_type": "markdown",
   "metadata": {},
   "source": [
    "### Laço de treinamento dos pesos"
   ]
  },
  {
   "cell_type": "code",
   "execution_count": 26,
   "metadata": {
    "ExecuteTime": {
     "end_time": "2017-10-19T15:12:31.022560",
     "start_time": "2017-10-19T15:12:19.774280"
    }
   },
   "outputs": [
    {
     "name": "stdout",
     "output_type": "stream",
     "text": [
      "Época: 99/100\r"
     ]
    }
   ],
   "source": [
    "epochs = []\n",
    "losses = []\n",
    "\n",
    "total_trained_samples = 0\n",
    "for i in range(n_epochs):\n",
    "    for x_train, y_train in loader_train:\n",
    "        # Transforma a entrada para uma dimensão\n",
    "        inputs = Variable(x_train.view(-1, 28 * 28))\n",
    "        # calcula a saída da operação linear\n",
    "        outputs = model(inputs)\n",
    "\n",
    "        # calcula a perda\n",
    "        targets = Variable(y_train)\n",
    "        loss = criterion(outputs, targets)\n",
    "\n",
    "        # zero, backpropagation, ajusta parâmetros pelo gradiente descendente\n",
    "        optimizer.zero_grad()\n",
    "        loss.backward()\n",
    "        optimizer.step()\n",
    "\n",
    "        total_trained_samples += x_train.size(0)\n",
    "        epochs.append(total_trained_samples / total_samples)\n",
    "        losses.append(loss.data[0])\n",
    "    print('Época: {:d}/{:d}'.format(i,n_epochs-1), end='\\r')\n",
    "\n",
    "d_batchsize[batch_size] = (epochs, losses)"
   ]
  },
  {
   "cell_type": "code",
   "execution_count": 27,
   "metadata": {
    "ExecuteTime": {
     "end_time": "2017-10-19T15:12:49.917803",
     "start_time": "2017-10-19T15:12:49.913843"
    }
   },
   "outputs": [
    {
     "name": "stdout",
     "output_type": "stream",
     "text": [
      "Final loss: 0.018596259877085686\n"
     ]
    }
   ],
   "source": [
    "print('Final loss:', loss.data[0])"
   ]
  },
  {
   "cell_type": "markdown",
   "metadata": {},
   "source": [
    "## Visualizando gráfico de perda durante o treinamento"
   ]
  },
  {
   "cell_type": "markdown",
   "metadata": {},
   "source": [
    "### Todo o treinamento, com a perda em cada minibatch"
   ]
  },
  {
   "cell_type": "code",
   "execution_count": 28,
   "metadata": {
    "ExecuteTime": {
     "end_time": "2017-10-19T15:12:52.251230",
     "start_time": "2017-10-19T15:12:52.073212"
    }
   },
   "outputs": [
    {
     "data": {
      "text/plain": [
       "<matplotlib.text.Text at 0x113402da0>"
      ]
     },
     "execution_count": 28,
     "metadata": {},
     "output_type": "execute_result"
    },
    {
     "data": {
      "image/png": "[encoded data removed]",
      "text/plain": [
       "<matplotlib.figure.Figure at 0x13b29f0b8>"
      ]
     },
     "metadata": {},
     "output_type": "display_data"
    }
   ],
   "source": [
    "plt.plot(epochs, losses)\n",
    "plt.xlabel('época')"
   ]
  },
  {
   "cell_type": "markdown",
   "metadata": {},
   "source": [
    "### Perda dos primeiro 100 minibatches (5 épocas)"
   ]
  },
  {
   "cell_type": "code",
   "execution_count": 33,
   "metadata": {
    "ExecuteTime": {
     "end_time": "2017-10-19T15:17:41.076065",
     "start_time": "2017-10-19T15:17:40.898666"
    }
   },
   "outputs": [
    {
     "data": {
      "text/plain": [
       "<matplotlib.text.Text at 0x112c379b0>"
      ]
     },
     "execution_count": 33,
     "metadata": {},
     "output_type": "execute_result"
    },
    {
     "data": {
      "image/png": "[encoded data removed]",
      "text/plain": [
       "<matplotlib.figure.Figure at 0x112d89d68>"
      ]
     },
     "metadata": {},
     "output_type": "display_data"
    }
   ],
   "source": [
    "plt.plot(epochs[:5 * n_batches_train], losses[:5 * n_batches_train])\n",
    "plt.xlabel('época')"
   ]
  },
  {
   "cell_type": "markdown",
   "metadata": {},
   "source": [
    "### Visualização usual da perda, somente no final de cada minibatch"
   ]
  },
  {
   "cell_type": "code",
   "execution_count": 35,
   "metadata": {
    "ExecuteTime": {
     "end_time": "2017-10-19T15:18:37.960342",
     "start_time": "2017-10-19T15:18:37.778213"
    }
   },
   "outputs": [
    {
     "data": {
      "text/plain": [
       "<matplotlib.text.Text at 0x112e9c6d8>"
      ]
     },
     "execution_count": 35,
     "metadata": {},
     "output_type": "execute_result"
    },
    {
     "data": {
      "image/png": "[encoded data removed]",
      "text/plain": [
       "<matplotlib.figure.Figure at 0x1130af6d8>"
      ]
     },
     "metadata": {},
     "output_type": "display_data"
    }
   ],
   "source": [
    "plt.plot(epochs[:5 * n_batches_train +1:n_batches_train], losses[:5 * n_batches_train+1:n_batches_train])\n",
    "plt.xlabel('época')"
   ]
  },
  {
   "cell_type": "markdown",
   "metadata": {},
   "source": [
    "## Avaliando a acurácia tanto no conjunto de treinamento como no conjunto de testes"
   ]
  },
  {
   "cell_type": "code",
   "execution_count": 54,
   "metadata": {
    "ExecuteTime": {
     "end_time": "2017-10-08T11:42:55.158664Z",
     "start_time": "2017-10-08T11:42:55.080122Z"
    }
   },
   "outputs": [
    {
     "name": "stdout",
     "output_type": "stream",
     "text": [
      "Training Accuracy: 1.0\n",
      "Test Accuracy    : 0.846\n"
     ]
    }
   ],
   "source": [
    "def getAccuracy(model, input_data, targets):\n",
    "    outputs = model(Variable(input_data))\n",
    "    _, predicts = torch.max(outputs, 1)\n",
    "\n",
    "    predicts = predicts.data.numpy()\n",
    "    targets = targets.numpy()\n",
    "    \n",
    "    accuracy = (predicts == targets).mean()\n",
    "    return accuracy\n",
    "\n",
    "x_train, y_train = dataset_train.train_data, dataset_train.train_labels\n",
    "x_train = x_train.float() / 255.\n",
    "print('Training Accuracy:', getAccuracy(model, x_train.view(-1, 28*28), y_train))\n",
    "\n",
    "x_test, y_test = dataset_test.test_data, dataset_test.test_labels\n",
    "x_test = x_test.float() / 255.\n",
    "print('Test Accuracy    :', getAccuracy(model, x_test.view(-1, 28*28), y_test))"
   ]
  },
  {
   "cell_type": "markdown",
   "metadata": {},
   "source": [
    "# Atividades"
   ]
  },
  {
   "cell_type": "markdown",
   "metadata": {},
   "source": [
    "## Exercícios\n"
   ]
  },
  {
   "cell_type": "markdown",
   "metadata": {},
   "source": [
    "1. Coloque um print no final de cada minibatch, no mesmo estilo do print do final de época.\n",
    "2. Altere o tamanho de minibatch (batch_size) algumas vezes, refaça o treinamento, e compare no gráfico abaixo a queda da perda para cada tamanho de minibatch."
   ]
  },
  {
   "cell_type": "code",
   "execution_count": 55,
   "metadata": {
    "ExecuteTime": {
     "end_time": "2017-10-08T11:42:55.989480Z",
     "start_time": "2017-10-08T11:42:55.805172Z"
    }
   },
   "outputs": [
    {
     "data": {
      "image/png": "[encoded data removed]",
      "text/plain": [
       "<matplotlib.figure.Figure at 0x7facf0296550>"
      ]
     },
     "metadata": {},
     "output_type": "display_data"
    }
   ],
   "source": [
    "plt.figure()\n",
    "plt.title('Perda de todos minibatches')\n",
    "plt.xlabel('época')\n",
    "for batchsize, (epochs, losses) in sorted(d_batchsize.items(), reverse=True):\n",
    "    plt.plot(epochs, losses, label='batch_size: {}'.format(batchsize))\n",
    "plt.legend()\n",
    "plt.show()"
   ]
  },
  {
   "cell_type": "code",
   "execution_count": 57,
   "metadata": {
    "ExecuteTime": {
     "end_time": "2017-10-08T11:42:55.989480Z",
     "start_time": "2017-10-08T11:42:55.805172Z"
    }
   },
   "outputs": [
    {
     "data": {
      "image/png": "[encoded data removed]",
      "text/plain": [
       "<matplotlib.figure.Figure at 0x7facf2fb4ac8>"
      ]
     },
     "metadata": {},
     "output_type": "display_data"
    }
   ],
   "source": [
    "n_show_minibatches = 50\n",
    "plt.figure()\n",
    "plt.title('Perda dos primeiros {} minibatches'.format(n_show_minibatches))\n",
    "plt.xlabel('época')\n",
    "for batchsize, (epochs, losses) in sorted(d_batchsize.items(), reverse=True):\n",
    "    plt.plot(epochs[:n_show_minibatches], losses[:n_show_minibatches], label='batch_size: {}'.format(batchsize))\n",
    "plt.legend()\n",
    "plt.show()"
   ]
  },
  {
   "cell_type": "markdown",
   "metadata": {},
   "source": [
    "## Perguntas"
   ]
  },
  {
   "cell_type": "markdown",
   "metadata": {},
   "source": [
    "1. Qual é o tamanho do mini-batch?\n",
    "2. Em uma época, quantos mini-batches existem?"
   ]
  },
  {
   "cell_type": "markdown",
   "metadata": {},
   "source": [
    "## Conclusões sobre os experimentos deste notebook\n"
   ]
  }
 ],
 "metadata": {
  "anaconda-cloud": {},
  "kernelspec": {
   "display_name": "Python 3",
   "language": "python",
   "name": "python3"
  },
  "language_info": {
   "codemirror_mode": {
    "name": "ipython",
    "version": 3
   },
   "file_extension": ".py",
   "mimetype": "text/x-python",
   "name": "python",
   "nbconvert_exporter": "python",
   "pygments_lexer": "ipython3",
   "version": "3.6.1"
  },
  "toc": {
   "nav_menu": {
    "height": "318px",
    "width": "252px"
   },
   "number_sections": true,
   "sideBar": true,
   "skip_h1_title": false,
   "toc_cell": false,
   "toc_position": {},
   "toc_section_display": "block",
   "toc_window_display": false
  }
 },
 "nbformat": 4,
 "nbformat_minor": 1
}
