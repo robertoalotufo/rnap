{
 "cells": [
  {
   "cell_type": "markdown",
   "metadata": {},
   "source": [
    "# Cats and Dogs: Transferência de Aprendizado\n",
    "\n",
    "Serão apresentadas as técnicas de *transfer learning* e *fine tunning*. Elas consistem em\n",
    "utilizar uma rede vencedora da competição anual ImageNet, tanto sua arquitetura como seus\n",
    "parâmetros treinados em uma outra aplicação envolvendo imagens.\n",
    "\n",
    "A ideia consiste em utilizar as camadas convolucionais da rede vencedora e trocar apenas as\n",
    "camadas densas. Num primeiro momento, treina-se apenas as camadas densas (*transfer learning*)\n",
    "e após este treinamento inicial, continua-se o treinamento com as camadas densas e \n",
    "algumas últimas camadas convolucionais da rede (*fine tuning*)\n",
    "\n",
    "Neste notebook utilizam-se as camadas convolucionais de uma rede ResNet já treinada para gerar as \"características\" das imagens e treina-se com uma rede neural densa de duas camadas. "
   ]
  },
  {
   "cell_type": "code",
   "execution_count": 1,
   "metadata": {},
   "outputs": [],
   "source": [
    "%matplotlib inline\n",
    "import matplotlib.pyplot as plt\n",
    "from IPython import display\n",
    "\n",
    "import os, glob\n",
    "import PIL.Image\n",
    "\n",
    "import numpy as np\n",
    "import torch\n",
    "from torch import nn\n",
    "import torch.utils.data\n",
    "import torch.optim.lr_scheduler\n",
    "from torch.autograd import Variable\n",
    "import torchvision\n",
    "from torchvision.models.resnet import BasicBlock\n",
    "\n",
    "from lib import pytorch_trainer as ptt"
   ]
  },
  {
   "cell_type": "markdown",
   "metadata": {},
   "source": [
    "## Dataset"
   ]
  },
  {
   "cell_type": "code",
   "execution_count": 2,
   "metadata": {},
   "outputs": [],
   "source": [
    "class CatsDogsDataset(torch.utils.data.Dataset):\n",
    "    def __init__(self, rootdir, train=True, transform=None):\n",
    "        self.train = train\n",
    "        self.transform = transform\n",
    "        if self.train:\n",
    "            self.dirpath = os.path.join(rootdir, 'train')\n",
    "        else:\n",
    "            self.dirpath = os.path.join(rootdir, 'validation')\n",
    "        print(self.dirpath)\n",
    "        self.l_filepaths = [fp for fp in sorted(glob.glob(os.path.join(self.dirpath, '**'), recursive=True))\n",
    "                          if fp[-4:].lower() == '.jpg']\n",
    "    def __len__(self):\n",
    "        return len(self.l_filepaths)\n",
    "    def __getitem__(self, index):\n",
    "        fp = self.l_filepaths[index]\n",
    "        out = int(os.path.basename(fp)[:3].lower() == 'dog')\n",
    "        inp = PIL.Image.open(fp)\n",
    "        if self.transform is not None:\n",
    "            inp = self.transform(inp)\n",
    "        return inp, out"
   ]
  },
  {
   "cell_type": "code",
   "execution_count": 3,
   "metadata": {},
   "outputs": [
    {
     "name": "stdout",
     "output_type": "stream",
     "text": [
      "/data/datasets/catsdogs_fewsamples/train\n",
      "/data/datasets/catsdogs_fewsamples/validation\n"
     ]
    }
   ],
   "source": [
    "rootdir = '/data/datasets/catsdogs_fewsamples'\n",
    "size_final = (150, 150)\n",
    "transf_comp_train = torchvision.transforms.Compose([torchvision.transforms.Scale(size=size_final),\n",
    "                                                    torchvision.transforms.ToTensor()])\n",
    "\n",
    "transf_comp_valid = torchvision.transforms.Compose([torchvision.transforms.Scale(size=size_final),\n",
    "                                                    torchvision.transforms.ToTensor()])\n",
    "\n",
    "dataset_train = CatsDogsDataset(rootdir, train=True, transform=transf_comp_train)\n",
    "dataset_valid = CatsDogsDataset(rootdir, train=False, transform=transf_comp_valid)"
   ]
  },
  {
   "cell_type": "markdown",
   "metadata": {},
   "source": [
    "## Data Loader"
   ]
  },
  {
   "cell_type": "code",
   "execution_count": 4,
   "metadata": {},
   "outputs": [],
   "source": [
    "loader_train = torch.utils.data.DataLoader(dataset_train, batch_size=len(dataset_train), shuffle=True)\n",
    "loader_valid = torch.utils.data.DataLoader(dataset_valid, batch_size=len(dataset_valid), shuffle=False)\n",
    "x_train, y_train = next(iter(loader_train))\n",
    "x_valid, y_valid = next(iter(loader_valid))"
   ]
  },
  {
   "cell_type": "markdown",
   "metadata": {},
   "source": [
    "## Construção da rede neural\n",
    "O *transfer learning* permite que utilizemos uma rede já treinada (a *ResNet34*, utilizando apenas uma parte convolucional da rede) para gerar um vetor de features. Essa primeira parte do modelo será chamado de *MyResNetConv*.\n",
    "\n",
    "É possível utilizar esse vetor de features como entrada de uma rede densa simples, que terá como *output* a saída que será comparada com o resultado desejado. Essa parte final do modelo será chamada de *MyResNetDens*.\n",
    "\n",
    "Essas duas partes serão integradas no modelo *MyResNet*, com o benefício de podermos utilizar a primeira parte para gerar as *features* convolucionais, que serão utilizadas no treinamento exclusivo da segunda parte."
   ]
  },
  {
   "cell_type": "markdown",
   "metadata": {},
   "source": [
    "### Modelos: mrn_conv, mrn_dens e o model básico\n",
    "\n",
    "São criadas duas classes: rede convolucional e da rede densa.\n",
    "A classe MyResNet instancia as duas classes referente às redes convolucional e densa.\n",
    "Dessa forma é possível treinar as redes separadamente e chamá-las diretamente pela\n",
    "rede principal.\n",
    "\n",
    "A codificação da rede ResNet está disponível em:\n",
    "https://github.com/pytorch/vision/blob/master/torchvision/models/resnet.py"
   ]
  },
  {
   "cell_type": "code",
   "execution_count": 5,
   "metadata": {
    "scrolled": true
   },
   "outputs": [
    {
     "name": "stdout",
     "output_type": "stream",
     "text": [
      "MyResNet (\n",
      "  (mrn_conv): MyResNetConv (\n",
      "    (conv1): Conv2d(3, 64, kernel_size=(7, 7), stride=(2, 2), padding=(3, 3), bias=False)\n",
      "    (bn1): BatchNorm2d(64, eps=1e-05, momentum=0.1, affine=True)\n",
      "    (relu): ReLU (inplace)\n",
      "    (maxpool): MaxPool2d (size=(3, 3), stride=(2, 2), padding=(1, 1), dilation=(1, 1))\n",
      "    (layer1): Sequential (\n",
      "      (0): BasicBlock (\n",
      "        (conv1): Conv2d(64, 64, kernel_size=(3, 3), stride=(1, 1), padding=(1, 1), bias=False)\n",
      "        (bn1): BatchNorm2d(64, eps=1e-05, momentum=0.1, affine=True)\n",
      "        (relu): ReLU (inplace)\n",
      "        (conv2): Conv2d(64, 64, kernel_size=(3, 3), stride=(1, 1), padding=(1, 1), bias=False)\n",
      "        (bn2): BatchNorm2d(64, eps=1e-05, momentum=0.1, affine=True)\n",
      "      )\n",
      "      (1): BasicBlock (\n",
      "        (conv1): Conv2d(64, 64, kernel_size=(3, 3), stride=(1, 1), padding=(1, 1), bias=False)\n",
      "        (bn1): BatchNorm2d(64, eps=1e-05, momentum=0.1, affine=True)\n",
      "        (relu): ReLU (inplace)\n",
      "        (conv2): Conv2d(64, 64, kernel_size=(3, 3), stride=(1, 1), padding=(1, 1), bias=False)\n",
      "        (bn2): BatchNorm2d(64, eps=1e-05, momentum=0.1, affine=True)\n",
      "      )\n",
      "      (2): BasicBlock (\n",
      "        (conv1): Conv2d(64, 64, kernel_size=(3, 3), stride=(1, 1), padding=(1, 1), bias=False)\n",
      "        (bn1): BatchNorm2d(64, eps=1e-05, momentum=0.1, affine=True)\n",
      "        (relu): ReLU (inplace)\n",
      "        (conv2): Conv2d(64, 64, kernel_size=(3, 3), stride=(1, 1), padding=(1, 1), bias=False)\n",
      "        (bn2): BatchNorm2d(64, eps=1e-05, momentum=0.1, affine=True)\n",
      "      )\n",
      "    )\n",
      "    (layer2): Sequential (\n",
      "      (0): BasicBlock (\n",
      "        (conv1): Conv2d(64, 128, kernel_size=(3, 3), stride=(2, 2), padding=(1, 1), bias=False)\n",
      "        (bn1): BatchNorm2d(128, eps=1e-05, momentum=0.1, affine=True)\n",
      "        (relu): ReLU (inplace)\n",
      "        (conv2): Conv2d(128, 128, kernel_size=(3, 3), stride=(1, 1), padding=(1, 1), bias=False)\n",
      "        (bn2): BatchNorm2d(128, eps=1e-05, momentum=0.1, affine=True)\n",
      "        (downsample): Sequential (\n",
      "          (0): Conv2d(64, 128, kernel_size=(1, 1), stride=(2, 2), bias=False)\n",
      "          (1): BatchNorm2d(128, eps=1e-05, momentum=0.1, affine=True)\n",
      "        )\n",
      "      )\n",
      "      (1): BasicBlock (\n",
      "        (conv1): Conv2d(128, 128, kernel_size=(3, 3), stride=(1, 1), padding=(1, 1), bias=False)\n",
      "        (bn1): BatchNorm2d(128, eps=1e-05, momentum=0.1, affine=True)\n",
      "        (relu): ReLU (inplace)\n",
      "        (conv2): Conv2d(128, 128, kernel_size=(3, 3), stride=(1, 1), padding=(1, 1), bias=False)\n",
      "        (bn2): BatchNorm2d(128, eps=1e-05, momentum=0.1, affine=True)\n",
      "      )\n",
      "      (2): BasicBlock (\n",
      "        (conv1): Conv2d(128, 128, kernel_size=(3, 3), stride=(1, 1), padding=(1, 1), bias=False)\n",
      "        (bn1): BatchNorm2d(128, eps=1e-05, momentum=0.1, affine=True)\n",
      "        (relu): ReLU (inplace)\n",
      "        (conv2): Conv2d(128, 128, kernel_size=(3, 3), stride=(1, 1), padding=(1, 1), bias=False)\n",
      "        (bn2): BatchNorm2d(128, eps=1e-05, momentum=0.1, affine=True)\n",
      "      )\n",
      "      (3): BasicBlock (\n",
      "        (conv1): Conv2d(128, 128, kernel_size=(3, 3), stride=(1, 1), padding=(1, 1), bias=False)\n",
      "        (bn1): BatchNorm2d(128, eps=1e-05, momentum=0.1, affine=True)\n",
      "        (relu): ReLU (inplace)\n",
      "        (conv2): Conv2d(128, 128, kernel_size=(3, 3), stride=(1, 1), padding=(1, 1), bias=False)\n",
      "        (bn2): BatchNorm2d(128, eps=1e-05, momentum=0.1, affine=True)\n",
      "      )\n",
      "    )\n",
      "    (layer3): Sequential (\n",
      "      (0): BasicBlock (\n",
      "        (conv1): Conv2d(128, 256, kernel_size=(3, 3), stride=(2, 2), padding=(1, 1), bias=False)\n",
      "        (bn1): BatchNorm2d(256, eps=1e-05, momentum=0.1, affine=True)\n",
      "        (relu): ReLU (inplace)\n",
      "        (conv2): Conv2d(256, 256, kernel_size=(3, 3), stride=(1, 1), padding=(1, 1), bias=False)\n",
      "        (bn2): BatchNorm2d(256, eps=1e-05, momentum=0.1, affine=True)\n",
      "        (downsample): Sequential (\n",
      "          (0): Conv2d(128, 256, kernel_size=(1, 1), stride=(2, 2), bias=False)\n",
      "          (1): BatchNorm2d(256, eps=1e-05, momentum=0.1, affine=True)\n",
      "        )\n",
      "      )\n",
      "      (1): BasicBlock (\n",
      "        (conv1): Conv2d(256, 256, kernel_size=(3, 3), stride=(1, 1), padding=(1, 1), bias=False)\n",
      "        (bn1): BatchNorm2d(256, eps=1e-05, momentum=0.1, affine=True)\n",
      "        (relu): ReLU (inplace)\n",
      "        (conv2): Conv2d(256, 256, kernel_size=(3, 3), stride=(1, 1), padding=(1, 1), bias=False)\n",
      "        (bn2): BatchNorm2d(256, eps=1e-05, momentum=0.1, affine=True)\n",
      "      )\n",
      "      (2): BasicBlock (\n",
      "        (conv1): Conv2d(256, 256, kernel_size=(3, 3), stride=(1, 1), padding=(1, 1), bias=False)\n",
      "        (bn1): BatchNorm2d(256, eps=1e-05, momentum=0.1, affine=True)\n",
      "        (relu): ReLU (inplace)\n",
      "        (conv2): Conv2d(256, 256, kernel_size=(3, 3), stride=(1, 1), padding=(1, 1), bias=False)\n",
      "        (bn2): BatchNorm2d(256, eps=1e-05, momentum=0.1, affine=True)\n",
      "      )\n",
      "      (3): BasicBlock (\n",
      "        (conv1): Conv2d(256, 256, kernel_size=(3, 3), stride=(1, 1), padding=(1, 1), bias=False)\n",
      "        (bn1): BatchNorm2d(256, eps=1e-05, momentum=0.1, affine=True)\n",
      "        (relu): ReLU (inplace)\n",
      "        (conv2): Conv2d(256, 256, kernel_size=(3, 3), stride=(1, 1), padding=(1, 1), bias=False)\n",
      "        (bn2): BatchNorm2d(256, eps=1e-05, momentum=0.1, affine=True)\n",
      "      )\n",
      "      (4): BasicBlock (\n",
      "        (conv1): Conv2d(256, 256, kernel_size=(3, 3), stride=(1, 1), padding=(1, 1), bias=False)\n",
      "        (bn1): BatchNorm2d(256, eps=1e-05, momentum=0.1, affine=True)\n",
      "        (relu): ReLU (inplace)\n",
      "        (conv2): Conv2d(256, 256, kernel_size=(3, 3), stride=(1, 1), padding=(1, 1), bias=False)\n",
      "        (bn2): BatchNorm2d(256, eps=1e-05, momentum=0.1, affine=True)\n",
      "      )\n",
      "      (5): BasicBlock (\n",
      "        (conv1): Conv2d(256, 256, kernel_size=(3, 3), stride=(1, 1), padding=(1, 1), bias=False)\n",
      "        (bn1): BatchNorm2d(256, eps=1e-05, momentum=0.1, affine=True)\n",
      "        (relu): ReLU (inplace)\n",
      "        (conv2): Conv2d(256, 256, kernel_size=(3, 3), stride=(1, 1), padding=(1, 1), bias=False)\n",
      "        (bn2): BatchNorm2d(256, eps=1e-05, momentum=0.1, affine=True)\n",
      "      )\n",
      "    )\n",
      "    (avgpool): AvgPool2d (size=7, stride=7, padding=0, ceil_mode=False, count_include_pad=True)\n",
      "  )\n",
      "  (mrn_dens): MyResNetDens (\n",
      "    (dens1): Linear (256 -> 50)\n",
      "    (relu1): ReLU ()\n",
      "    (dens2): Linear (50 -> 2)\n",
      "  )\n",
      ")\n"
     ]
    }
   ],
   "source": [
    "class MyResNetConv(torchvision.models.ResNet):\n",
    "    def __init__(self):\n",
    "        super().__init__(BasicBlock, [3, 4, 6, 3]) # ResNet34\n",
    "        self.load_state_dict(torch.utils.model_zoo.load_url(\n",
    "            'https://download.pytorch.org/models/resnet34-333f7ec4.pth'))\n",
    "        del self.layer4\n",
    "        del self.fc\n",
    "        for param in self.parameters():\n",
    "            param.requires_grad = False\n",
    "\n",
    "    def forward(self, x):\n",
    "        x = self.conv1(x)\n",
    "        x = self.bn1(x)\n",
    "        x = self.relu(x)\n",
    "        x = self.maxpool(x)\n",
    "        x = self.layer1(x)\n",
    "        x = self.layer2(x)\n",
    "        x = self.layer3(x)\n",
    "#         x = self.layer4(x)\n",
    "        x = self.avgpool(x)\n",
    "        x = x.view(x.size(0), -1)\n",
    "        return x\n",
    "\n",
    "class MyResNetDens(nn.Module):\n",
    "    def __init__(self):\n",
    "        super().__init__()\n",
    "        self.dens1 = nn.Linear(in_features=256, out_features=50)\n",
    "        self.relu1 = nn.ReLU()\n",
    "        self.dens2 = nn.Linear(in_features=50, out_features=2)\n",
    "\n",
    "    def forward(self, x):\n",
    "        x = self.dens1(x)\n",
    "        x = self.relu1(x)\n",
    "        x = self.dens2(x)\n",
    "        return x\n",
    "\n",
    "class MyResNet(nn.Module):\n",
    "    def __init__(self):\n",
    "        super().__init__()\n",
    "        self.mrn_conv = MyResNetConv() # instância rede convolucional\n",
    "        self.mrn_dens = MyResNetDens() # instância rede densa\n",
    "\n",
    "    def forward(self, x):\n",
    "        x = self.mrn_conv(x)\n",
    "        x = self.mrn_dens(x)\n",
    "        return x\n",
    "\n",
    "model = MyResNet()\n",
    "if torch.cuda.is_available:\n",
    "    model = model.cuda()\n",
    "print(model)"
   ]
  },
  {
   "cell_type": "markdown",
   "metadata": {},
   "source": [
    "## Testando o predict: mrn_conv, mrn_dens e model"
   ]
  },
  {
   "cell_type": "code",
   "execution_count": 6,
   "metadata": {
    "scrolled": true
   },
   "outputs": [
    {
     "name": "stdout",
     "output_type": "stream",
     "text": [
      "output of model.mrn_conv: torch.Size([1, 256])\n",
      "output of model.mrn_dens: torch.Size([1, 2])\n",
      "\n",
      "output of model: torch.Size([1, 2])\n"
     ]
    }
   ],
   "source": [
    "xin = Variable(x_train[:1])\n",
    "if torch.cuda.is_available:\n",
    "    xin = xin.cuda()\n",
    "o1 = model.mrn_conv(xin)\n",
    "print('output of model.mrn_conv:', o1.data.size())\n",
    "\n",
    "o2 = model.mrn_dens(o1)\n",
    "print('output of model.mrn_dens:', o2.data.size())\n",
    "\n",
    "o0 = model(xin)\n",
    "print('\\noutput of model:', o0.data.size())"
   ]
  },
  {
   "cell_type": "markdown",
   "metadata": {},
   "source": [
    "## Geração de *features* convolucionais\n",
    "\n",
    "A técnica aqui é fazer o predict de todo o dataset apenas uma única vez\n",
    "na rede convolucional pré treinada e guardar os resultados (*features*).\n",
    "Desta forma, para se treinar a rede densa, usa-se as *features* de entrada\n",
    "sem necessidade de executar a rede convolucional pré treinada durante o\n",
    "treinamento das camadas densas."
   ]
  },
  {
   "cell_type": "code",
   "execution_count": 7,
   "metadata": {
    "scrolled": false
   },
   "outputs": [
    {
     "name": "stdout",
     "output_type": "stream",
     "text": [
      "training features:   torch.Size([2000, 256])\n",
      "validation features: torch.Size([800, 256])\n"
     ]
    }
   ],
   "source": [
    "inp_train = x_train\n",
    "inp_valid = x_valid\n",
    "if torch.cuda.is_available():\n",
    "    inp_train = inp_train.cuda()\n",
    "    inp_valid = inp_valid.cuda()\n",
    "inp_train = Variable(inp_train)\n",
    "inp_valid = Variable(inp_valid)\n",
    "\n",
    "model.mrn_conv.eval()\n",
    "feat_train = model.mrn_conv(inp_train).data\n",
    "feat_valid = model.mrn_conv(inp_valid).data\n",
    "\n",
    "print('training features:  ', feat_train.size())\n",
    "print('validation features:', feat_valid.size())"
   ]
  },
  {
   "cell_type": "markdown",
   "metadata": {},
   "source": [
    "## Treinamento da camada densa utilizando as *features*: mrn_dens"
   ]
  },
  {
   "cell_type": "code",
   "execution_count": 8,
   "metadata": {},
   "outputs": [],
   "source": [
    "n_epochs = 10\n",
    "optm = torch.optim.Adam(params=model.mrn_dens.parameters(), lr=1.e-2, betas=(0.9, 0.999))\n",
    "schd = torch.optim.lr_scheduler.StepLR(optm, step_size=10, gamma=0.75)\n",
    "cb_chkpt = ptt.ModelCheckpoint('../../models/transferlearning_features_catsdogs', reset=True, verbose=1)\n",
    "\n",
    "trainer_dens = ptt.DeepNetTrainer(model         = model.mrn_dens,\n",
    "                                  criterion     = nn.CrossEntropyLoss(),\n",
    "                                  optimizer     = optm,\n",
    "                                  lr_scheduler  = schd,\n",
    "                                  callbacks = [ptt.AccuracyMetric(), \n",
    "                                               ptt.PrintCallback(), \n",
    "                                               cb_chkpt])"
   ]
  },
  {
   "cell_type": "code",
   "execution_count": 9,
   "metadata": {
    "scrolled": true
   },
   "outputs": [
    {
     "name": "stdout",
     "output_type": "stream",
     "text": [
      "Start training for 10 epochs\n",
      "  1:   0.6s   T: 0.48356 0.79650   V: 0.24084 0.93375 best\n",
      "  2:   0.0s   T: 0.19657 0.92600   V: 0.15000 0.93875 best\n",
      "  3:   0.0s   T: 0.14977 0.93850   V: 0.12761 0.94125 best\n",
      "  4:   0.0s   T: 0.12723 0.95200   V: 0.12472 0.94625 best\n",
      "  5:   0.0s   T: 0.11515 0.95150   V: 0.12180 0.94875 best\n",
      "  6:   0.0s   T: 0.10949 0.95400   V: 0.12398 0.94250 \n",
      "  7:   0.0s   T: 0.10640 0.95500   V: 0.12460 0.95125 \n",
      "  8:   0.0s   T: 0.11404 0.95250   V: 0.16397 0.93875 \n",
      "  9:   0.0s   T: 0.09776 0.95750   V: 0.12246 0.94500 \n",
      " 10:   0.0s   T: 0.08999 0.96550   V: 0.13192 0.95000 \n",
      "Stop training at epoch: 10/10\n",
      "Best model was saved at epoch 5 with loss 0.12180: ../../models/transferlearning_features_catsdogs\n"
     ]
    }
   ],
   "source": [
    "train = True\n",
    "if train:\n",
    "    trainer_dens.fit(n_epochs   = n_epochs,\n",
    "                     Xin        = feat_train,\n",
    "                     Yin        = y_train,\n",
    "                     shuffle    = True,\n",
    "                     batch_size = 100,\n",
    "                     valid_data = (feat_valid, y_valid))\n",
    "else:\n",
    "    trainer_dens.load_state('/data/models/transferlearning_features_catsdogs')"
   ]
  },
  {
   "cell_type": "code",
   "execution_count": 10,
   "metadata": {
    "scrolled": false
   },
   "outputs": [],
   "source": [
    "def show_history(trainer):\n",
    "    idx = np.argmin(trainer.metrics['valid']['losses'])\n",
    "    idx = min(idx, len(trainer.metrics['valid']['acc']) - 1)\n",
    "    fig = plt.figure(figsize=(10, 4), dpi=100)\n",
    "    ax = fig.add_subplot(1, 2, 1)\n",
    "    a_epochs = np.arange(1, 1 + len(trainer.metrics['train']['losses']))\n",
    "    ax.plot(a_epochs, trainer.metrics['train']['losses'], label='training')\n",
    "    a_epochs = np.arange(1, 1 + len(trainer.metrics['valid']['losses']))\n",
    "    ax.plot(a_epochs, trainer.metrics['valid']['losses'], label='validation')\n",
    "    ax.set_title('best validation loss: {:.2f}'.format(trainer.metrics['valid']['losses'][idx]))\n",
    "    ax.plot(idx + 1, trainer.metrics['valid']['losses'][idx], 'kx')\n",
    "    ax.legend()\n",
    "    ax.grid(True)\n",
    "\n",
    "    ax = fig.add_subplot(1, 2, 2)\n",
    "    a_epochs = np.arange(1, 1 + len(trainer.metrics['train']['acc']))\n",
    "    ax.plot(a_epochs, trainer.metrics['train']['acc'], label='training')\n",
    "    a_epochs = np.arange(1, 1 + len(trainer.metrics['valid']['acc']))\n",
    "    ax.plot(a_epochs, trainer.metrics['valid']['acc'], label='validation')\n",
    "    ax.set_title('best loss\\' validation accuracy: {:.2f}'.format(trainer.metrics['valid']['acc'][idx]))\n",
    "    ax.plot(idx + 1, trainer.metrics['valid']['acc'][idx], 'kx')\n",
    "    ax.legend()\n",
    "    ax.grid(True)\n",
    "    plt.show()"
   ]
  },
  {
   "cell_type": "code",
   "execution_count": 11,
   "metadata": {},
   "outputs": [
    {
     "data": {
      "image/png": "[encoded data removed]",
      "text/plain": [
       "<matplotlib.figure.Figure at 0x7fe10aba2588>"
      ]
     },
     "metadata": {},
     "output_type": "display_data"
    }
   ],
   "source": [
    "show_history(trainer_dens)"
   ]
  },
  {
   "cell_type": "code",
   "execution_count": 12,
   "metadata": {},
   "outputs": [
    {
     "name": "stdout",
     "output_type": "stream",
     "text": [
      "\r",
      "evaluate: 0/7\r",
      "evaluate: 1/7\r",
      "evaluate: 2/7\r",
      "evaluate: 3/7\r",
      "evaluate: 4/7\r",
      "evaluate: 5/7\r",
      "evaluate: 6/7\r",
      "evaluate: 7/7 ok\n",
      "acc_val: {'losses': 0.12180276308208704, 'acc': 0.94875}\n"
     ]
    }
   ],
   "source": [
    "#trainer_dens.load_state('/data/models/transferlearning_features_catsdogs')\n",
    "trainer_dens.load_state('../../models/transferlearning_features_catsdogs')\n",
    "acc_val = trainer_dens.evaluate(feat_valid,y_valid, batch_size=100, metrics=[ptt.AccuracyMetric()])\n",
    "print('acc_val:', acc_val)"
   ]
  },
  {
   "cell_type": "markdown",
   "metadata": {},
   "source": [
    "## Fine tunning\n",
    "É possível ainda refazer o treinamento da camada densa junto junto com a parte convolucional da rede *ResNet*, utilizando um *learning rate* com valor bem baixo."
   ]
  },
  {
   "cell_type": "code",
   "execution_count": 13,
   "metadata": {},
   "outputs": [],
   "source": [
    "for param in model.parameters():\n",
    "    param.requires_grad = True"
   ]
  },
  {
   "cell_type": "markdown",
   "metadata": {},
   "source": [
    "## Agora os dados de entrada são os dados originais. Criando os loaders"
   ]
  },
  {
   "cell_type": "code",
   "execution_count": 14,
   "metadata": {},
   "outputs": [],
   "source": [
    "batch_size = 200\n",
    "loader_train = torch.utils.data.DataLoader(dataset_train, batch_size=batch_size, shuffle=True)\n",
    "loader_valid = torch.utils.data.DataLoader(dataset_valid, batch_size=batch_size, shuffle=False)"
   ]
  },
  {
   "cell_type": "markdown",
   "metadata": {},
   "source": [
    "## Preparando para treinar"
   ]
  },
  {
   "cell_type": "code",
   "execution_count": 15,
   "metadata": {},
   "outputs": [],
   "source": [
    "n_epochs = 5\n",
    "optm = torch.optim.Adam(params=model.parameters(),  lr=1.e-4)\n",
    "schd = torch.optim.lr_scheduler.StepLR(optm, step_size=10, gamma=0.75)\n",
    "cb_chkpt = ptt.ModelCheckpoint('../../models/transferlearning_finetunning_catsdogs', \n",
    "                               reset=True, verbose=1)\n",
    "\n",
    "trainer_finetunning = ptt.DeepNetTrainer(model         = model,\n",
    "                                         criterion     = nn.CrossEntropyLoss(),\n",
    "                                         optimizer     = optm,\n",
    "                                         lr_scheduler  = schd,\n",
    "                                         callbacks = [ptt.AccuracyMetric(), \n",
    "                                                      ptt.PrintCallback(),\n",
    "                                                      cb_chkpt])"
   ]
  },
  {
   "cell_type": "code",
   "execution_count": 16,
   "metadata": {
    "scrolled": true
   },
   "outputs": [],
   "source": [
    "train = False\n",
    "if train:\n",
    "    trainer_finetunning.fit_loader(n_epochs, loader_train, loader_valid)\n",
    "else:\n",
    "    trainer_finetunning.load_state('/data/models/transferlearning_finetunning_catsdogs')"
   ]
  },
  {
   "cell_type": "code",
   "execution_count": 17,
   "metadata": {
    "scrolled": false
   },
   "outputs": [
    {
     "data": {
      "image/png": "[encoded data removed]",
      "text/plain": [
       "<matplotlib.figure.Figure at 0x7fe10168bf60>"
      ]
     },
     "metadata": {},
     "output_type": "display_data"
    }
   ],
   "source": [
    "show_history(trainer_finetunning)"
   ]
  },
  {
   "cell_type": "code",
   "execution_count": 18,
   "metadata": {},
   "outputs": [
    {
     "name": "stdout",
     "output_type": "stream",
     "text": [
      "evaluate: 3/3 ok\n",
      "acc: {'losses': 0.07654391881078482, 'acc': 0.9775}\n"
     ]
    }
   ],
   "source": [
    "trainer_finetunning.load_state('/data/models/transferlearning_finetunning_catsdogs')\n",
    "acc = trainer_finetunning.evaluate_loader(loader_valid,\n",
    "                                    metrics=[ptt.AccuracyMetric()])\n",
    "\n",
    "print('acc:',acc)"
   ]
  },
  {
   "cell_type": "markdown",
   "metadata": {},
   "source": [
    "## Exercícios\n",
    "\n",
    "1. Veja a codificação da rede ResNet (veja o link no github) e explique a inicialização\n",
    "   da classe do modelo: `super().__init__(BasicBlock, [3, 4, 6, 3])`\n",
    "2. Observe que a camada densa (`fc`) da ResNet foi suprimida (`del self.fc`). Qual é a\n",
    "   implicação caso ela não fosse removida? Experimente.\n",
    "3. Qual é a célula deste notebook que inicializa os pesos de todas as redes?\n",
    "4. Quantos parâmetros são treinados durante o *transfer learning* da primeira etapa?"
   ]
  },
  {
   "cell_type": "markdown",
   "metadata": {},
   "source": [
    "## Atividade\n",
    "\n",
    "1. Utilize a rede ResNet18 e a ResNet50 para fazer o *transfer learning*. \n",
    "   Compare os resultados."
   ]
  },
  {
   "cell_type": "markdown",
   "metadata": {
    "collapsed": true
   },
   "source": [
    "## Aprendizados com este notebook\n"
   ]
  },
  {
   "cell_type": "code",
   "execution_count": null,
   "metadata": {},
   "outputs": [],
   "source": []
  }
 ],
 "metadata": {
  "anaconda-cloud": {},
  "kernelspec": {
   "display_name": "Python 3",
   "language": "python",
   "name": "python3"
  },
  "language_info": {
   "codemirror_mode": {
    "name": "ipython",
    "version": 3
   },
   "file_extension": ".py",
   "mimetype": "text/x-python",
   "name": "python",
   "nbconvert_exporter": "python",
   "pygments_lexer": "ipython3",
   "version": "3.6.1"
  },
  "latex_envs": {
   "LaTeX_envs_menu_present": true,
   "autocomplete": true,
   "bibliofile": "biblio.bib",
   "cite_by": "apalike",
   "current_citInitial": 1,
   "eqLabelWithNumbers": true,
   "eqNumInitial": 1,
   "hotkeys": {
    "equation": "Ctrl-E",
    "itemize": "Ctrl-I"
   },
   "labels_anchors": false,
   "latex_user_defs": false,
   "report_style_numbering": false,
   "user_envs_cfg": false
  },
  "toc": {
   "nav_menu": {
    "height": "138px",
    "width": "252px"
   },
   "number_sections": true,
   "sideBar": true,
   "skip_h1_title": false,
   "toc_cell": false,
   "toc_position": {},
   "toc_section_display": "block",
   "toc_window_display": false
  }
 },
 "nbformat": 4,
 "nbformat_minor": 1
}
