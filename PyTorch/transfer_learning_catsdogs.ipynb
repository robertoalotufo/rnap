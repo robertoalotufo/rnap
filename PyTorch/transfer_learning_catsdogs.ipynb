{
 "cells": [
  {
   "cell_type": "markdown",
   "metadata": {},
   "source": [
    "# Cats and Dogs: Transferência de Aprendizado\n",
    "\n",
    "Serão apresentadas as técnicas de *transfer learning* e *fine tunning*. Elas consistem em\n",
    "utilizar uma rede vencedora da competição anual ImageNet, tanto sua arquitetura como seus\n",
    "parâmetros treinados em uma outra aplicação envolvendo imagens.\n",
    "\n",
    "A ideia consiste em utilizar as camadas convolucionais da rede vencedora e trocar apenas as\n",
    "camadas densas. Num primeiro momento, treina-se apenas as camadas densas (*transfer learning*)\n",
    "e após este treinamento inicial, continua-se o treinamento com as camadas densas e \n",
    "algumas últimas camadas convolucionais da rede (*fine tuning*)\n",
    "\n",
    "Neste notebook utilizam-se as camadas convolucionais de uma rede ResNet já treinada para gerar as \"características\" das imagens e treina-se com uma rede neural densa de duas camadas. "
   ]
  },
  {
   "cell_type": "code",
   "execution_count": 10,
   "metadata": {
    "ExecuteTime": {
     "end_time": "2018-08-27T01:21:58.583940Z",
     "start_time": "2018-08-27T01:21:58.478710Z"
    }
   },
   "outputs": [
    {
     "name": "stdout",
     "output_type": "stream",
     "text": [
      "GPU available: cpu\n"
     ]
    }
   ],
   "source": [
    "%matplotlib inline\n",
    "import matplotlib.pyplot as plt\n",
    "from IPython import display\n",
    "\n",
    "import os, glob\n",
    "import PIL.Image\n",
    "\n",
    "import numpy as np\n",
    "import torch\n",
    "from torch import nn\n",
    "import torch.nn.functional as F\n",
    "import torch.utils.data\n",
    "import torch.optim.lr_scheduler\n",
    "import torchvision\n",
    "from torchvision import transforms\n",
    "from torchvision import datasets\n",
    "\n",
    "from lib import pytorch_trainer_v2 as ptt\n",
    "device = torch.device(\"cuda:0\" if torch.cuda.is_available() else \"cpu\")\n",
    "print('GPU available:', device)"
   ]
  },
  {
   "cell_type": "markdown",
   "metadata": {},
   "source": [
    "## Dataset"
   ]
  },
  {
   "cell_type": "code",
   "execution_count": 20,
   "metadata": {
    "ExecuteTime": {
     "end_time": "2018-08-27T02:01:35.580623Z",
     "start_time": "2018-08-27T02:01:35.524033Z"
    }
   },
   "outputs": [],
   "source": [
    "batch_size = 50\n",
    "rootdir = '/data/datasets/catsdogs_fewsamples'\n",
    "size_final = (224, 224)\n",
    "transform_noaug = transforms.Compose(\n",
    "            [transforms.Resize(size=size_final),\n",
    "             transforms.ToTensor(),\n",
    "             transforms.Normalize([0.485, 0.456, 0.406], [0.229, 0.224, 0.225])])\n",
    "\n",
    "dataset_train = datasets.ImageFolder(rootdir + '/train/', transform = transform_noaug)\n",
    "dataset_valid = datasets.ImageFolder(rootdir + '/validation/',transform = transform_noaug)\n",
    "\n",
    "loader_train = torch.utils.data.DataLoader(dataset_train, batch_size=batch_size, shuffle=True, num_workers=4)\n",
    "loader_valid = torch.utils.data.DataLoader(dataset_valid, batch_size=batch_size, shuffle=False, num_workers=4)\n"
   ]
  },
  {
   "cell_type": "markdown",
   "metadata": {},
   "source": [
    "## Data Loader"
   ]
  },
  {
   "cell_type": "code",
   "execution_count": 21,
   "metadata": {
    "ExecuteTime": {
     "end_time": "2018-08-27T02:01:37.453653Z",
     "start_time": "2018-08-27T02:01:37.449121Z"
    }
   },
   "outputs": [],
   "source": [
    "#loader_train = torch.utils.data.DataLoader(dataset_train, batch_size=len(dataset_train), shuffle=True)\n",
    "#loader_valid = torch.utils.data.DataLoader(dataset_valid, batch_size=len(dataset_valid), shuffle=False)\n",
    "#x_train, y_train = next(iter(loader_train))\n",
    "#x_valid, y_valid = next(iter(loader_valid))"
   ]
  },
  {
   "cell_type": "markdown",
   "metadata": {},
   "source": [
    "## Construção da rede neural\n",
    "O *transfer learning* permite que utilizemos uma rede já treinada (a *ResNet34*, utilizando apenas uma parte convolucional da rede) para gerar um vetor de features. Essa primeira parte do modelo será chamado de *MyResNetConv*.\n",
    "\n",
    "É possível utilizar esse vetor de features como entrada de uma rede densa simples, que terá como *output* a saída que será comparada com o resultado desejado. Essa parte final do modelo será chamada de *MyResNetDens*.\n",
    "\n",
    "Essas duas partes serão integradas no modelo *MyResNet*, com o benefício de podermos utilizar a primeira parte para gerar as *features* convolucionais, que serão utilizadas no treinamento exclusivo da segunda parte."
   ]
  },
  {
   "cell_type": "code",
   "execution_count": 24,
   "metadata": {
    "ExecuteTime": {
     "end_time": "2018-08-27T02:01:55.743469Z",
     "start_time": "2018-08-27T02:01:55.276460Z"
    }
   },
   "outputs": [],
   "source": [
    "model_tl = torchvision.models.resnet18(pretrained=True)\n",
    "for param in model_tl.parameters():\n",
    "    param.requires_grad = False\n",
    "    \n",
    "num_ftrs = model_tl.fc.in_features\n",
    "model_tl.fc = nn.Linear(num_ftrs, 2)\n",
    "\n",
    "model_tl = model_tl.to(device)\n"
   ]
  },
  {
   "cell_type": "markdown",
   "metadata": {},
   "source": [
    "### Modelos: mrn_conv, mrn_dens e o model básico\n",
    "\n",
    "São criadas duas classes: rede convolucional e da rede densa.\n",
    "A classe MyResNet instancia as duas classes referente às redes convolucional e densa.\n",
    "Dessa forma é possível treinar as redes separadamente e chamá-las diretamente pela\n",
    "rede principal.\n",
    "\n",
    "A codificação da rede ResNet está disponível em:\n",
    "https://github.com/pytorch/vision/blob/master/torchvision/models/resnet.py"
   ]
  },
  {
   "cell_type": "markdown",
   "metadata": {},
   "source": [
    "## Testando o predict: mrn_conv, mrn_dens e model"
   ]
  },
  {
   "cell_type": "code",
   "execution_count": 26,
   "metadata": {
    "ExecuteTime": {
     "end_time": "2018-08-27T02:02:11.945319Z",
     "start_time": "2018-08-27T02:02:10.671838Z"
    },
    "scrolled": true
   },
   "outputs": [
    {
     "data": {
      "text/plain": [
       "tensor([[0.2550, 0.1197]], grad_fn=<ThAddmmBackward>)"
      ]
     },
     "execution_count": 26,
     "metadata": {},
     "output_type": "execute_result"
    }
   ],
   "source": [
    "x_train, y_train = next(iter(loader_train))\n",
    "y = model_tl(x_train[:1].to(device))\n",
    "y"
   ]
  },
  {
   "cell_type": "markdown",
   "metadata": {},
   "source": [
    "## Treinamento da camada densa utilizando as *features*: mrn_dens"
   ]
  },
  {
   "cell_type": "code",
   "execution_count": 27,
   "metadata": {
    "ExecuteTime": {
     "end_time": "2018-08-27T02:02:22.057658Z",
     "start_time": "2018-08-27T02:02:22.036535Z"
    }
   },
   "outputs": [],
   "source": [
    "n_epochs = 10\n",
    "optm = torch.optim.Adam(params=model_tl.parameters())\n",
    "schd = torch.optim.lr_scheduler.StepLR(optm, step_size=10, gamma=0.75)\n",
    "cb_chkpt = ptt.ModelCheckpoint('../../models/transferlearning_features_catsdogs', reset=True, verbose=1)\n",
    "\n",
    "trainer_tl = ptt.DeepNetTrainer(model         = model_tl,\n",
    "                                criterion     = nn.CrossEntropyLoss(),\n",
    "                                optimizer     = optm,\n",
    "                                lr_scheduler  = schd,\n",
    "                                callbacks     = [ptt.AccuracyMetric(), \n",
    "                                                ptt.PrintCallback(), \n",
    "                                                cb_chkpt],\n",
    "                                devname       = device)"
   ]
  },
  {
   "cell_type": "code",
   "execution_count": null,
   "metadata": {
    "ExecuteTime": {
     "start_time": "2018-08-27T02:02:23.262Z"
    },
    "scrolled": true
   },
   "outputs": [
    {
     "name": "stdout",
     "output_type": "stream",
     "text": [
      "Start training for 10 epochs\n",
      "Batch end epoch 1 batch 11 of 40\r"
     ]
    }
   ],
   "source": [
    "train = True\n",
    "if train:\n",
    "    trainer_tl.fit_loader(n_epochs   = n_epochs,\n",
    "                          train_data = loader_train,\n",
    "                          valid_data = loader_valid,\n",
    "                          )\n",
    "else:\n",
    "    trainer_dens.load_state('/data/models/transferlearning_features_catsdogs')"
   ]
  },
  {
   "cell_type": "code",
   "execution_count": 14,
   "metadata": {
    "ExecuteTime": {
     "end_time": "2018-08-23T09:45:09.642490",
     "start_time": "2018-08-23T09:45:09.612332"
    },
    "collapsed": true,
    "scrolled": false
   },
   "outputs": [],
   "source": [
    "def show_history(trainer):\n",
    "    idx = np.argmin(trainer.metrics['valid']['losses'])\n",
    "    idx = min(idx, len(trainer.metrics['valid']['acc']) - 1)\n",
    "    fig = plt.figure(figsize=(10, 4), dpi=100)\n",
    "    ax = fig.add_subplot(1, 2, 1)\n",
    "    a_epochs = np.arange(1, 1 + len(trainer.metrics['train']['losses']))\n",
    "    ax.plot(a_epochs, trainer.metrics['train']['losses'], label='training')\n",
    "    a_epochs = np.arange(1, 1 + len(trainer.metrics['valid']['losses']))\n",
    "    ax.plot(a_epochs, trainer.metrics['valid']['losses'], label='validation')\n",
    "    ax.set_title('best validation loss: {:.2f}'.format(trainer.metrics['valid']['losses'][idx]))\n",
    "    ax.plot(idx + 1, trainer.metrics['valid']['losses'][idx], 'kx')\n",
    "    ax.legend()\n",
    "    ax.grid(True)\n",
    "\n",
    "    ax = fig.add_subplot(1, 2, 2)\n",
    "    a_epochs = np.arange(1, 1 + len(trainer.metrics['train']['acc']))\n",
    "    ax.plot(a_epochs, trainer.metrics['train']['acc'], label='training')\n",
    "    a_epochs = np.arange(1, 1 + len(trainer.metrics['valid']['acc']))\n",
    "    ax.plot(a_epochs, trainer.metrics['valid']['acc'], label='validation')\n",
    "    ax.set_title('best loss\\' validation accuracy: {:.2f}'.format(trainer.metrics['valid']['acc'][idx]))\n",
    "    ax.plot(idx + 1, trainer.metrics['valid']['acc'][idx], 'kx')\n",
    "    ax.legend()\n",
    "    ax.grid(True)\n",
    "    plt.show()"
   ]
  },
  {
   "cell_type": "code",
   "execution_count": 15,
   "metadata": {
    "ExecuteTime": {
     "end_time": "2018-08-23T09:45:11.083016",
     "start_time": "2018-08-23T09:45:10.523994"
    }
   },
   "outputs": [
    {
     "data": {
      "image/png": "[encoded data removed]",
      "text/plain": [
       "<Figure size 1000x400 with 2 Axes>"
      ]
     },
     "metadata": {},
     "output_type": "display_data"
    }
   ],
   "source": [
    "show_history(trainer_dens)"
   ]
  },
  {
   "cell_type": "markdown",
   "metadata": {},
   "source": [
    "## Fine tunning\n",
    "É possível ainda refazer o treinamento da camada densa junto com a parte convolucional da rede *ResNet*, utilizando um *learning rate* com valor bem baixo."
   ]
  },
  {
   "cell_type": "code",
   "execution_count": 16,
   "metadata": {
    "ExecuteTime": {
     "end_time": "2018-08-23T09:45:14.337162",
     "start_time": "2018-08-23T09:45:14.333303"
    },
    "collapsed": true
   },
   "outputs": [],
   "source": [
    "for param in model.parameters():\n",
    "    param.requires_grad = True"
   ]
  },
  {
   "cell_type": "markdown",
   "metadata": {},
   "source": [
    "## Agora os dados de entrada são os dados originais. Criando os loaders"
   ]
  },
  {
   "cell_type": "code",
   "execution_count": 17,
   "metadata": {
    "ExecuteTime": {
     "end_time": "2018-08-23T09:45:19.800670",
     "start_time": "2018-08-23T09:45:19.796216"
    },
    "collapsed": true
   },
   "outputs": [],
   "source": [
    "batch_size = 200\n",
    "loader_train = torch.utils.data.DataLoader(dataset_train, batch_size=batch_size, shuffle=True)\n",
    "loader_valid = torch.utils.data.DataLoader(dataset_valid, batch_size=batch_size, shuffle=False)"
   ]
  },
  {
   "cell_type": "markdown",
   "metadata": {},
   "source": [
    "## Preparando para treinar"
   ]
  },
  {
   "cell_type": "code",
   "execution_count": 18,
   "metadata": {
    "ExecuteTime": {
     "end_time": "2018-08-23T09:45:23.289181",
     "start_time": "2018-08-23T09:45:23.280462"
    },
    "collapsed": true
   },
   "outputs": [],
   "source": [
    "n_epochs = 5\n",
    "optm = torch.optim.Adam(params=model.parameters(),  lr=1.e-4)\n",
    "schd = torch.optim.lr_scheduler.StepLR(optm, step_size=10, gamma=0.75)\n",
    "cb_chkpt = ptt.ModelCheckpoint('../../models/transferlearning_finetunning_catsdogs', \n",
    "                               reset=True, verbose=1)\n",
    "\n",
    "trainer_finetunning = ptt.DeepNetTrainer(model         = model,\n",
    "                                         criterion     = nn.CrossEntropyLoss(),\n",
    "                                         optimizer     = optm,\n",
    "                                         lr_scheduler  = schd,\n",
    "                                         callbacks = [ptt.AccuracyMetric(), \n",
    "                                                      ptt.PrintCallback(),\n",
    "                                                      cb_chkpt])"
   ]
  },
  {
   "cell_type": "code",
   "execution_count": 22,
   "metadata": {
    "ExecuteTime": {
     "end_time": "2018-08-23T09:46:14.012888",
     "start_time": "2018-08-23T09:46:14.009698"
    },
    "scrolled": true
   },
   "outputs": [],
   "source": [
    "#train = False\n",
    "#if train:\n",
    "#    trainer_finetunning.fit_loader(n_epochs, loader_train, loader_valid)\n",
    "#else:\n",
    "#    trainer_finetunning.load_state('/data/models/transferlearning_finetunning_catsdogs')"
   ]
  },
  {
   "cell_type": "markdown",
   "metadata": {},
   "source": [
    "Resultado do treinamento em GPU 1080:\n",
    "\n",
    "    Start training for 5 epochs\n",
    "      1:  10.2s   T: 0.10348 0.95750   V: 0.08778 0.96125 best\n",
    "      2:  10.2s   T: 0.01205 0.99800   V: 0.06722 0.97375 best\n",
    "      3:  10.2s   T: 0.00294 1.00000   V: 0.09732 0.96500 \n",
    "      4:  10.2s   T: 0.00121 1.00000   V: 0.06344 0.97625 best\n",
    "      5:  10.3s   T: 0.00077 1.00000   V: 0.06478 0.98125 \n",
    "    Stop training at epoch: 5/5\n",
    "    Best model was saved at epoch 4 with loss 0.06344: ../../models/transferlearning_finetunning_catsdogs"
   ]
  },
  {
   "cell_type": "code",
   "execution_count": 23,
   "metadata": {
    "ExecuteTime": {
     "end_time": "2018-08-23T09:46:20.041600",
     "start_time": "2018-08-23T09:46:20.038977"
    },
    "scrolled": false
   },
   "outputs": [],
   "source": [
    "#show_history(trainer_finetunning)"
   ]
  },
  {
   "cell_type": "code",
   "execution_count": 24,
   "metadata": {
    "ExecuteTime": {
     "end_time": "2018-08-23T09:46:32.630621",
     "start_time": "2018-08-23T09:46:32.627486"
    }
   },
   "outputs": [],
   "source": [
    "#trainer_finetunning.load_state('/data/models/transferlearning_finetunning_catsdogs')\n",
    "#acc = trainer_finetunning.evaluate_loader(loader_valid,\n",
    "#                                    metrics=[ptt.AccuracyMetric()])\n",
    "#\n",
    "#print('acc:',acc)"
   ]
  },
  {
   "cell_type": "markdown",
   "metadata": {},
   "source": [
    "## Exercícios\n",
    "\n",
    "1. Veja a codificação da rede ResNet (veja o link no github) e explique a inicialização\n",
    "   da classe do modelo: `super().__init__(BasicBlock, [3, 4, 6, 3])`\n",
    "2. Observe que a camada densa (`fc`) da ResNet foi suprimida (`del self.fc`). Qual é a\n",
    "   implicação caso ela não fosse removida? Experimente.\n",
    "3. Qual é a célula deste notebook que inicializa os pesos de todas as redes?\n",
    "4. Quantos parâmetros são treinados durante o *transfer learning* da primeira etapa?"
   ]
  },
  {
   "cell_type": "markdown",
   "metadata": {},
   "source": [
    "## Atividade\n",
    "\n",
    "1. Utilize a rede ResNet18 e a ResNet50 para fazer o *transfer learning*. \n",
    "   Compare os resultados."
   ]
  },
  {
   "cell_type": "markdown",
   "metadata": {
    "collapsed": true
   },
   "source": [
    "## Aprendizados com este notebook\n"
   ]
  }
 ],
 "metadata": {
  "anaconda-cloud": {},
  "kernelspec": {
   "display_name": "Python 3",
   "language": "python",
   "name": "python3"
  },
  "language_info": {
   "codemirror_mode": {
    "name": "ipython",
    "version": 3
   },
   "file_extension": ".py",
   "mimetype": "text/x-python",
   "name": "python",
   "nbconvert_exporter": "python",
   "pygments_lexer": "ipython3",
   "version": "3.6.5"
  },
  "latex_envs": {
   "LaTeX_envs_menu_present": true,
   "autocomplete": true,
   "bibliofile": "biblio.bib",
   "cite_by": "apalike",
   "current_citInitial": 1,
   "eqLabelWithNumbers": true,
   "eqNumInitial": 1,
   "hotkeys": {
    "equation": "Ctrl-E",
    "itemize": "Ctrl-I"
   },
   "labels_anchors": false,
   "latex_user_defs": false,
   "report_style_numbering": false,
   "user_envs_cfg": false
  },
  "toc": {
   "nav_menu": {
    "height": "138px",
    "width": "252px"
   },
   "number_sections": true,
   "sideBar": true,
   "skip_h1_title": false,
   "toc_cell": false,
   "toc_position": {},
   "toc_section_display": "block",
   "toc_window_display": false
  }
 },
 "nbformat": 4,
 "nbformat_minor": 1
}
