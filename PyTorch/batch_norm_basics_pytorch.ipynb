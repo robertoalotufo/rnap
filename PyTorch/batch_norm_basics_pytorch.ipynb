{
 "cells": [
  {
   "cell_type": "markdown",
   "metadata": {},
   "source": [
    "# Batch Normalization"
   ]
  },
  {
   "cell_type": "markdown",
   "metadata": {
    "heading_collapsed": true
   },
   "source": [
    "## Introdução"
   ]
  },
  {
   "cell_type": "markdown",
   "metadata": {
    "hidden": true
   },
   "source": [
    "Batch Normalization é uma técnica que permite normalizar automaticamente os valores que atravessam uma camada da rede neural. Normalmente o uso do BatchNorm permite um treinamento mais rápido e com menores cuidados na inicialização dos pesos. Permite que redes profundas sejam treinadas mais facilmente. \n",
    "\n",
    "A normalização é feita para que o resultado tenha média zero e variância unitária, porém, em seguida, o resultado é\n",
    "escalado pelo fator $\\gamma$ e somado ao fator $\\beta$. Estes dois fatores são parâmetros que serão também otimizados durante o treinamento do gradiente descendente.\n",
    "\n",
    "Atualmente a técnica de batch normalization é utilizada em todas as redes profundas. \n",
    "\n",
    "A camada de batch normalization é colocada entre a camada densa ou convolucional e antes da camada de ativação."
   ]
  },
  {
   "cell_type": "markdown",
   "metadata": {
    "hidden": true
   },
   "source": [
    "**Referência:**\n",
    "- Ioffe, S. and Szegedy, C. (2015), Batch Normalization: Accelerating Deep Network Training by Reducing Internal Covariate Shift., in Francis R. Bach & David M. Blei, ed., 'ICML' , JMLR.org, , pp. 448-456. \n",
    "    [PDF:arxiv](http://arxiv.org/pdf/1502.03167.pdf) "
   ]
  },
  {
   "cell_type": "markdown",
   "metadata": {
    "hidden": true
   },
   "source": [
    "<img src='../figures/batchnorm_neuronios.png', width=900></img>"
   ]
  },
  {
   "cell_type": "markdown",
   "metadata": {
    "hidden": true
   },
   "source": [
    "<img src='../figures/batchnorm_equations.png',width=500></a>"
   ]
  },
  {
   "cell_type": "markdown",
   "metadata": {
    "heading_collapsed": true
   },
   "source": [
    "## Diferença entre fase de treinamento e fase de predição ou avaliação"
   ]
  },
  {
   "cell_type": "markdown",
   "metadata": {
    "hidden": true
   },
   "source": [
    "A normalização ocorre de forma distinta na fase de treinamento e na fase de avaliação:\n",
    "- em treinamento: a média e variância ($\\mu$ e $\\sigma^2$) são estimados a partir dos valores\n",
    "das amostras no mini-batch:\n",
    "    - `running_mean`\n",
    "    - `running_var`\n",
    "- em avaliação: a média e variância é calculada pela média móvel, definida pelo parâmetro momentum ($\\lambda$):"
   ]
  },
  {
   "cell_type": "markdown",
   "metadata": {
    "hidden": true
   },
   "source": [
    "\\begin{align*} \n",
    "\\boldsymbol{m}_{t} &=  \\lambda \\boldsymbol{\\mu_t} + (1 - \\lambda) \\boldsymbol{m}_{t-1} &&\n",
    "\\boldsymbol{v}_{t} =   \\lambda \\boldsymbol{\\sigma^{2}_t} + (1 - \\lambda) \\boldsymbol{v}_{t-1} \n",
    "\\end{align*}"
   ]
  },
  {
   "cell_type": "markdown",
   "metadata": {
    "heading_collapsed": true
   },
   "source": [
    "## Importações"
   ]
  },
  {
   "cell_type": "code",
   "execution_count": 15,
   "metadata": {
    "ExecuteTime": {
     "end_time": "2017-10-03T14:27:18.839311",
     "start_time": "2017-10-03T14:27:18.595038"
    },
    "hidden": true
   },
   "outputs": [],
   "source": [
    "%matplotlib inline\n",
    "import matplotlib.pyplot as plot\n",
    "from IPython import display\n",
    "\n",
    "import sys, copy\n",
    "import numpy as np\n",
    "import numpy.random as nr\n",
    "import pandas as pd\n",
    "\n",
    "import torch\n",
    "from torch.autograd import Variable\n",
    "\n",
    "np.set_printoptions(precision=2, suppress=True)\n",
    "nr.seed(23456)\n"
   ]
  },
  {
   "cell_type": "markdown",
   "metadata": {
    "heading_collapsed": true
   },
   "source": [
    "## nn.BatchNorm1d - Entrada com dimensão 2"
   ]
  },
  {
   "cell_type": "markdown",
   "metadata": {
    "hidden": true
   },
   "source": [
    "- Documentação oficial: http://pytorch.org/docs/master/nn.html#normalization-layers\n",
    "\n",
    "Quando a entrada da camada tem duas dimensões (amostras e atributos) a normalização por atributo. Ou seja, calcula-se a estatística (média e variância) para cada coluna da matriz de dados, em cada *mini-batch*."
   ]
  },
  {
   "cell_type": "markdown",
   "metadata": {
    "heading_collapsed": true
   },
   "source": [
    "## Criação rede com apenas uma camada BatchNorm"
   ]
  },
  {
   "cell_type": "code",
   "execution_count": 2,
   "metadata": {
    "hidden": true
   },
   "outputs": [],
   "source": [
    "torch.manual_seed(1234)\n",
    "\n",
    "momentum = 0.1\n",
    "model = torch.nn.BatchNorm1d(5, momentum=momentum)        # Rede formada de apenas uma camada BatchNorm"
   ]
  },
  {
   "cell_type": "markdown",
   "metadata": {
    "heading_collapsed": true
   },
   "source": [
    "## Parâmetros iniciais, mv_mean = 0. e mv_var = 1."
   ]
  },
  {
   "cell_type": "code",
   "execution_count": 3,
   "metadata": {
    "hidden": true
   },
   "outputs": [
    {
     "name": "stdout",
     "output_type": "stream",
     "text": [
      "Training: True\n",
      "weight\n",
      "[ 0.19  0.5   0.62  0.82  0.44]\n",
      "bias\n",
      "[ 0.  0.  0.  0.  0.]\n",
      "running_mean\n",
      "[ 0.  0.  0.  0.  0.]\n",
      "running_var\n",
      "[ 1.  1.  1.  1.  1.]\n"
     ]
    }
   ],
   "source": [
    "print('Training:', model.training)\n",
    "gamma, beta, mv_mean, mv_var = copy.deepcopy(model.state_dict()).values()\n",
    "param_dict = model.state_dict()\n",
    "for name,value in param_dict.items():\n",
    "    print(name)\n",
    "    print(value.numpy())"
   ]
  },
  {
   "cell_type": "markdown",
   "metadata": {
    "heading_collapsed": true
   },
   "source": [
    "## Entrada x (não normalizada)"
   ]
  },
  {
   "cell_type": "code",
   "execution_count": 4,
   "metadata": {
    "hidden": true
   },
   "outputs": [
    {
     "name": "stdout",
     "output_type": "stream",
     "text": [
      "x:\n",
      " Variable containing:\n",
      "-133.6756 -113.6071   23.2839 -172.4477   51.1140\n",
      " -61.2595   47.0261   65.2737   57.1934  170.6041\n",
      " 100.2897 -231.1064  110.7505  171.6769   70.1500\n",
      "  62.7425  117.5225    9.5521 -151.1595   12.5337\n",
      "[torch.FloatTensor of size 4x5]\n",
      "\n"
     ]
    }
   ],
   "source": [
    "x = Variable(torch.randn(4, 5)) * 100. # Entrada x\n",
    "print('x:\\n',x)"
   ]
  },
  {
   "cell_type": "markdown",
   "metadata": {
    "heading_collapsed": true
   },
   "source": [
    "## Forward em treinamento: faz predict usando média e var do mini-batch e atualiza mv_mean e mv_var"
   ]
  },
  {
   "cell_type": "code",
   "execution_count": 5,
   "metadata": {
    "hidden": true
   },
   "outputs": [
    {
     "name": "stdout",
     "output_type": "stream",
     "text": [
      "Training: True\n"
     ]
    }
   ],
   "source": [
    "print('Training:', model.training)\n",
    "y = model(x)                           # Forward"
   ]
  },
  {
   "cell_type": "markdown",
   "metadata": {
    "heading_collapsed": true
   },
   "source": [
    "## Parâmetros: running_mean e running_var estimados com momentum 10% atual e 90% do anterior"
   ]
  },
  {
   "cell_type": "code",
   "execution_count": 6,
   "metadata": {
    "hidden": true
   },
   "outputs": [
    {
     "name": "stdout",
     "output_type": "stream",
     "text": [
      "Training: True\n",
      "weight\n",
      "[ 0.19  0.5   0.62  0.82  0.44]\n",
      "bias\n",
      "[ 0.  0.  0.  0.  0.]\n",
      "running_mean\n",
      "[-0.8  -4.5   5.22 -2.37  7.61]\n",
      "running_var\n",
      "[ 1179.64  2475.06   209.37  2770.49   455.28]\n"
     ]
    }
   ],
   "source": [
    "print('Training:', model.training)\n",
    "param_dict = model.state_dict()\n",
    "for name,value in param_dict.items():\n",
    "    print(name)\n",
    "    print(value.numpy())"
   ]
  },
  {
   "cell_type": "markdown",
   "metadata": {
    "heading_collapsed": true
   },
   "source": [
    "## Conferindo os novos valores de running_mean e running_var"
   ]
  },
  {
   "cell_type": "markdown",
   "metadata": {
    "hidden": true
   },
   "source": [
    "\\begin{align*} \n",
    "\\boldsymbol{m}_{t} &=  \\lambda \\boldsymbol{\\mu_t} + (1 - \\lambda) \\boldsymbol{m}_{t-1} &&\n",
    "\\boldsymbol{v}_{t} =   \\lambda \\boldsymbol{\\sigma^{2}_t} + (1 - \\lambda) \\boldsymbol{v}_{t-1} \n",
    "\\end{align*}"
   ]
  },
  {
   "cell_type": "code",
   "execution_count": 7,
   "metadata": {
    "hidden": true
   },
   "outputs": [
    {
     "name": "stdout",
     "output_type": "stream",
     "text": [
      "old mv_mean, mv_var: [ 0.  0.  0.  0.  0.] [ 1.  1.  1.  1.  1.]\n",
      "my new running mean: [-0.8  -4.5   5.22 -2.37  7.61]\n",
      "my new running var : [ 1179.64  2475.06   209.37  2770.49   455.28]\n"
     ]
    }
   ],
   "source": [
    "print('old mv_mean, mv_var:', mv_mean.numpy(), mv_var.numpy())\n",
    "\n",
    "mv_mean_new = momentum * x.data.mean(0) + (1 - momentum) * mv_mean\n",
    "mv_var_new  = momentum * x.data.var(0,unbiased=True) + (1 - momentum) * mv_var\n",
    "\n",
    "print('my new running mean:',mv_mean_new.numpy())\n",
    "print('my new running var :',mv_var_new.numpy())"
   ]
  },
  {
   "cell_type": "markdown",
   "metadata": {
    "heading_collapsed": true
   },
   "source": [
    "## Saída  y"
   ]
  },
  {
   "cell_type": "code",
   "execution_count": 8,
   "metadata": {
    "hidden": true
   },
   "outputs": [
    {
     "data": {
      "text/plain": [
       "Variable containing:\n",
       "-0.2560 -0.2505 -0.4552 -0.8442 -0.1874\n",
       "-0.1085  0.3364  0.2055  0.4589  0.7086\n",
       " 0.2205 -0.6798  0.9209  1.1086 -0.0446\n",
       " 0.1440  0.5939 -0.6712 -0.7234 -0.4766\n",
       "[torch.FloatTensor of size 4x5]"
      ]
     },
     "execution_count": 8,
     "metadata": {},
     "output_type": "execute_result"
    }
   ],
   "source": [
    "y"
   ]
  },
  {
   "cell_type": "markdown",
   "metadata": {
    "heading_collapsed": true
   },
   "source": [
    "## Conferindo com código próprio"
   ]
  },
  {
   "cell_type": "markdown",
   "metadata": {
    "hidden": true
   },
   "source": [
    "Em treinamento, a normalização é feita com a estatística do mini-batch"
   ]
  },
  {
   "cell_type": "markdown",
   "metadata": {
    "hidden": true
   },
   "source": [
    "$$  y = \\frac{x - mean[x]}{ \\sqrt{Var[x] + \\epsilon}} * gamma + beta $$"
   ]
  },
  {
   "cell_type": "code",
   "execution_count": 9,
   "metadata": {
    "hidden": true
   },
   "outputs": [
    {
     "name": "stdout",
     "output_type": "stream",
     "text": [
      "mean: [ -7.98 -45.04  52.22 -23.68  76.1 ]\n",
      "var:  [  8840.52  18556.22   1563.52  20771.92   3407.85]\n",
      "\n",
      "-0.2560 -0.2505 -0.4552 -0.8442 -0.1874\n",
      "-0.1085  0.3364  0.2055  0.4589  0.7086\n",
      " 0.2205 -0.6798  0.9209  1.1086 -0.0446\n",
      " 0.1440  0.5939 -0.6712 -0.7234 -0.4766\n",
      "[torch.FloatTensor of size 4x5]\n",
      "\n"
     ]
    }
   ],
   "source": [
    "mean = x.mean(dim=0).data\n",
    "var  = x.var(dim=0, unbiased=False).data\n",
    "print('mean:',mean.numpy())\n",
    "print('var: ',var.numpy())\n",
    "y2 = (x.data - mean) / torch.sqrt(var + model.eps) * gamma + beta\n",
    "\n",
    "print(y2)"
   ]
  },
  {
   "cell_type": "markdown",
   "metadata": {
    "heading_collapsed": true
   },
   "source": [
    "## Modo predict sem treinamento"
   ]
  },
  {
   "cell_type": "code",
   "execution_count": 10,
   "metadata": {
    "hidden": true
   },
   "outputs": [],
   "source": [
    "model.training = False\n",
    "y = model(x)                           # Forward"
   ]
  },
  {
   "cell_type": "markdown",
   "metadata": {
    "hidden": true
   },
   "source": [
    "Observe que agora, o running_mean e running_var serão utilizados"
   ]
  },
  {
   "cell_type": "code",
   "execution_count": 11,
   "metadata": {
    "hidden": true
   },
   "outputs": [
    {
     "name": "stdout",
     "output_type": "stream",
     "text": [
      "Training: False\n",
      "weight\n",
      "[ 0.19  0.5   0.62  0.82  0.44]\n",
      "bias\n",
      "[ 0.  0.  0.  0.  0.]\n",
      "running_mean\n",
      "[-0.8  -4.5   5.22 -2.37  7.61]\n",
      "running_var\n",
      "[ 1179.64  2475.06   209.37  2770.49   455.28]\n"
     ]
    }
   ],
   "source": [
    "print('Training:', model.training)\n",
    "param_dict = model.state_dict()\n",
    "for name,value in param_dict.items():\n",
    "    print(name)\n",
    "    print(value.numpy())"
   ]
  },
  {
   "cell_type": "markdown",
   "metadata": {
    "heading_collapsed": true
   },
   "source": [
    "## Resultado da rede no modo eval(), note que os valores não ficaram tão normalizados (por quê?)"
   ]
  },
  {
   "cell_type": "code",
   "execution_count": 12,
   "metadata": {
    "hidden": true
   },
   "outputs": [
    {
     "data": {
      "text/plain": [
       "Variable containing:\n",
       "-0.7410 -1.0914  0.7766 -2.6427  0.8925\n",
       "-0.3371  0.5155  2.5819  0.9255  3.3438\n",
       " 0.5637 -2.2668  4.5371  2.7043  1.2830\n",
       " 0.3543  1.2207  0.1862 -2.3119  0.1010\n",
       "[torch.FloatTensor of size 4x5]"
      ]
     },
     "execution_count": 12,
     "metadata": {},
     "output_type": "execute_result"
    }
   ],
   "source": [
    "y"
   ]
  },
  {
   "cell_type": "markdown",
   "metadata": {
    "heading_collapsed": true
   },
   "source": [
    "## Conferindo com código próprio, note que usa-se o running_mean e running_var"
   ]
  },
  {
   "cell_type": "code",
   "execution_count": 13,
   "metadata": {
    "hidden": true
   },
   "outputs": [
    {
     "name": "stdout",
     "output_type": "stream",
     "text": [
      "\n",
      "-0.7410 -1.0914  0.7766 -2.6427  0.8925\n",
      "-0.3371  0.5155  2.5819  0.9255  3.3438\n",
      " 0.5637 -2.2668  4.5371  2.7043  1.2830\n",
      " 0.3543  1.2207  0.1862 -2.3119  0.1010\n",
      "[torch.FloatTensor of size 4x5]\n",
      "\n"
     ]
    }
   ],
   "source": [
    "gamma, beta, mv_mean, mv_var = model.state_dict().values()\n",
    "\n",
    "mean = mv_mean\n",
    "var  = mv_var\n",
    "\n",
    "y2 = (x.data - mean) / torch.sqrt(var + model.eps) * gamma + beta\n",
    "\n",
    "print(y2)"
   ]
  },
  {
   "cell_type": "markdown",
   "metadata": {
    "collapsed": true,
    "heading_collapsed": true
   },
   "source": [
    "## Exercícios"
   ]
  },
  {
   "cell_type": "markdown",
   "metadata": {
    "hidden": true
   },
   "source": [
    "1. Coloque a rede no modo treinamento em um laço, de modo que a running_mean e running_var se aproximem da média e variância do mini-batch. Quantas execuções da rede serão necessárias?"
   ]
  },
  {
   "cell_type": "code",
   "execution_count": 14,
   "metadata": {
    "hidden": true
   },
   "outputs": [],
   "source": [
    "model.training = True\n",
    "#for i in range(100):\n",
    "    #y = model(x)\n",
    "    # Busque aqui os valores da média móvel da média e variância que estão sendo aprendidos\n",
    "    #\n",
    "    #\n",
    "    #print(mv_mean.numpy(), mv_var.numpy())"
   ]
  }
 ],
 "metadata": {
  "kernelspec": {
   "display_name": "Python 3",
   "language": "python",
   "name": "python3"
  },
  "language_info": {
   "codemirror_mode": {
    "name": "ipython",
    "version": 3
   },
   "file_extension": ".py",
   "mimetype": "text/x-python",
   "name": "python",
   "nbconvert_exporter": "python",
   "pygments_lexer": "ipython3",
   "version": "3.6.1"
  },
  "latex_envs": {
   "LaTeX_envs_menu_present": true,
   "autocomplete": true,
   "bibliofile": "biblio.bib",
   "cite_by": "apalike",
   "current_citInitial": 1,
   "eqLabelWithNumbers": true,
   "eqNumInitial": 1,
   "hotkeys": {
    "equation": "Ctrl-E",
    "itemize": "Ctrl-I"
   },
   "labels_anchors": false,
   "latex_user_defs": false,
   "report_style_numbering": false,
   "user_envs_cfg": false
  },
  "toc": {
   "nav_menu": {
    "height": "12px",
    "width": "252px"
   },
   "number_sections": true,
   "sideBar": true,
   "skip_h1_title": false,
   "toc_cell": false,
   "toc_position": {
    "height": "1260px",
    "left": "0px",
    "right": "2348px",
    "top": "106px",
    "width": "212px"
   },
   "toc_section_display": "block",
   "toc_window_display": false
  },
  "varInspector": {
   "cols": {
    "lenName": 16,
    "lenType": 16,
    "lenVar": 40
   },
   "kernels_config": {
    "python": {
     "delete_cmd_postfix": "",
     "delete_cmd_prefix": "del ",
     "library": "var_list.py",
     "varRefreshCmd": "print(var_dic_list())"
    },
    "r": {
     "delete_cmd_postfix": ") ",
     "delete_cmd_prefix": "rm(",
     "library": "var_list.r",
     "varRefreshCmd": "cat(var_dic_list()) "
    }
   },
   "types_to_exclude": [
    "module",
    "function",
    "builtin_function_or_method",
    "instance",
    "_Feature"
   ],
   "window_display": false
  }
 },
 "nbformat": 4,
 "nbformat_minor": 2
}
