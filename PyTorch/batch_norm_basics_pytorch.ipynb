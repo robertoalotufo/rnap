{
 "cells": [
  {
   "cell_type": "markdown",
   "metadata": {},
   "source": [
    "# Batch Normalization"
   ]
  },
  {
   "cell_type": "markdown",
   "metadata": {},
   "source": [
    "## Introdução"
   ]
  },
  {
   "cell_type": "markdown",
   "metadata": {},
   "source": [
    "Batch Normalization é uma técnica que permite normalizar automaticamente os valores que atravessam uma camada da rede neural. Normalmente o uso do BatchNorm permite um treinamento mais rápido e com menores cuidados na inicialização dos pesos. Permite que redes profundas sejam treinadas mais facilmente. \n",
    "\n",
    "A normalização é feita para que o resultado tenha média zero e variância unitária, porém, em seguida, o resultado é\n",
    "escalado pelo fator $\\gamma$ e somado ao fator $\\beta$. Estes dois fatores são parâmetros que serão também otimizados durante o treinamento do gradiente descendente.\n",
    "\n",
    "Atualmente a técnica de batch normalization é utilizada em todas as redes profundas. \n",
    "\n",
    "A camada de batch normalization é colocada entre a camada densa ou convolucional e antes da camada de ativação."
   ]
  },
  {
   "cell_type": "markdown",
   "metadata": {},
   "source": [
    "**Referência:**\n",
    "- Ioffe, S. and Szegedy, C. (2015), Batch Normalization: Accelerating Deep Network Training by Reducing Internal Covariate Shift., in Francis R. Bach & David M. Blei, ed., 'ICML' , JMLR.org, , pp. 448-456. \n",
    "    [PDF:arxiv](http://arxiv.org/pdf/1502.03167.pdf) "
   ]
  },
  {
   "cell_type": "markdown",
   "metadata": {},
   "source": [
    "<img src='../figures/batchnorm_neuronios.png' width=\"900\"></img>"
   ]
  },
  {
   "cell_type": "markdown",
   "metadata": {},
   "source": [
    "<img src='../figures/batchnorm_equations.png' width=\"500\"></a>"
   ]
  },
  {
   "cell_type": "markdown",
   "metadata": {},
   "source": [
    "## Diferença entre fase de treinamento e fase de predição ou avaliação"
   ]
  },
  {
   "cell_type": "markdown",
   "metadata": {},
   "source": [
    "A normalização ocorre de forma distinta na fase de treinamento e na fase de avaliação:\n",
    "- em treinamento: a média e variância ($\\mu$ e $\\sigma^2$) são estimados a partir dos valores\n",
    "das amostras no mini-batch:\n",
    "    - `running_mean`\n",
    "    - `running_var`\n",
    "- em avaliação: a média e variância é calculada pela média móvel, definida pelo parâmetro momentum ($\\lambda$):"
   ]
  },
  {
   "cell_type": "markdown",
   "metadata": {},
   "source": [
    "\\begin{align*} \n",
    "\\boldsymbol{m}_{t} &=  \\lambda \\boldsymbol{\\mu_t} + (1 - \\lambda) \\boldsymbol{m}_{t-1} &&\n",
    "\\boldsymbol{v}_{t} =   \\lambda \\boldsymbol{\\sigma^{2}_t} + (1 - \\lambda) \\boldsymbol{v}_{t-1} \n",
    "\\end{align*}"
   ]
  },
  {
   "cell_type": "markdown",
   "metadata": {},
   "source": [
    "## Importações"
   ]
  },
  {
   "cell_type": "code",
   "execution_count": 1,
   "metadata": {
    "ExecuteTime": {
     "end_time": "2018-08-21T23:14:39.406451Z",
     "start_time": "2018-08-21T23:14:37.880838Z"
    }
   },
   "outputs": [],
   "source": [
    "%matplotlib inline\n",
    "import matplotlib.pyplot as plot\n",
    "from IPython import display\n",
    "\n",
    "import sys, copy\n",
    "import numpy as np\n",
    "import numpy.random as nr\n",
    "import pandas as pd\n",
    "\n",
    "import torch\n",
    "\n",
    "np.set_printoptions(precision=2, suppress=True)\n",
    "nr.seed(23456)\n"
   ]
  },
  {
   "cell_type": "markdown",
   "metadata": {},
   "source": [
    "## nn.BatchNorm1d - Entrada com dimensão 2"
   ]
  },
  {
   "cell_type": "markdown",
   "metadata": {},
   "source": [
    "- Documentação oficial: http://pytorch.org/docs/master/nn.html#normalization-layers\n",
    "\n",
    "Quando a entrada da camada tem duas dimensões (amostras e atributos) a normalização por atributo. Ou seja, calcula-se a estatística (média e variância) para cada coluna da matriz de dados, em cada *mini-batch*."
   ]
  },
  {
   "cell_type": "markdown",
   "metadata": {},
   "source": [
    "## Criação rede com apenas uma camada BatchNorm"
   ]
  },
  {
   "cell_type": "code",
   "execution_count": 18,
   "metadata": {
    "ExecuteTime": {
     "end_time": "2018-08-21T23:22:09.141755Z",
     "start_time": "2018-08-21T23:22:09.135696Z"
    }
   },
   "outputs": [],
   "source": [
    "torch.manual_seed(1234)\n",
    "\n",
    "momentum = 0.1\n",
    "model = torch.nn.BatchNorm1d(5, momentum=momentum)        # Rede formada de apenas uma camada BatchNorm"
   ]
  },
  {
   "cell_type": "markdown",
   "metadata": {},
   "source": [
    "## Parâmetros iniciais, mv_mean = 0. e mv_var = 1."
   ]
  },
  {
   "cell_type": "code",
   "execution_count": 19,
   "metadata": {
    "ExecuteTime": {
     "end_time": "2018-08-21T23:22:10.436776Z",
     "start_time": "2018-08-21T23:22:10.426146Z"
    }
   },
   "outputs": [
    {
     "name": "stdout",
     "output_type": "stream",
     "text": [
      "Training: True\n",
      "weight\n",
      "[0.03 0.4  0.26 0.37 0.06]\n",
      "bias\n",
      "[0. 0. 0. 0. 0.]\n",
      "running_mean\n",
      "[0. 0. 0. 0. 0.]\n",
      "running_var\n",
      "[1. 1. 1. 1. 1.]\n",
      "num_batches_tracked\n",
      "0\n"
     ]
    }
   ],
   "source": [
    "print('Training:', model.training)\n",
    "gamma, beta, mv_mean, mv_var, _ = copy.deepcopy(model.state_dict()).values()\n",
    "param_dict = model.state_dict()\n",
    "for name,value in param_dict.items():\n",
    "    print(name)\n",
    "    print(value.numpy())"
   ]
  },
  {
   "cell_type": "markdown",
   "metadata": {},
   "source": [
    "## Entrada x (não normalizada)"
   ]
  },
  {
   "cell_type": "code",
   "execution_count": 20,
   "metadata": {
    "ExecuteTime": {
     "end_time": "2018-08-21T23:22:16.900072Z",
     "start_time": "2018-08-21T23:22:16.891059Z"
    }
   },
   "outputs": [
    {
     "name": "stdout",
     "output_type": "stream",
     "text": [
      "x:\n",
      " tensor([[  66.8374,   -5.9658,  -46.7498,  -31.4352,  -71.4080],\n",
      "        [-108.3124,  -55.4724,   97.1685,  -51.5009,  142.5527],\n",
      "        [  79.8685, -149.4876,  147.7784,  -16.9624,  -99.1857],\n",
      "        [-145.6908,   25.6292,  -40.3047,   41.9527,   93.8027]])\n"
     ]
    }
   ],
   "source": [
    "x = torch.randn(4, 5) * 100. # Entrada x\n",
    "print('x:\\n',x)"
   ]
  },
  {
   "cell_type": "markdown",
   "metadata": {},
   "source": [
    "## Forward em treinamento: faz predict usando média e var do mini-batch e atualiza mv_mean e mv_var"
   ]
  },
  {
   "cell_type": "code",
   "execution_count": 21,
   "metadata": {
    "ExecuteTime": {
     "end_time": "2018-08-21T23:22:21.831863Z",
     "start_time": "2018-08-21T23:22:21.822549Z"
    }
   },
   "outputs": [
    {
     "name": "stdout",
     "output_type": "stream",
     "text": [
      "Training: True\n"
     ]
    }
   ],
   "source": [
    "print('Training:', model.training)\n",
    "y = model(x)                           # Forward"
   ]
  },
  {
   "cell_type": "markdown",
   "metadata": {},
   "source": [
    "## Parâmetros: running_mean e running_var estimados com momentum 10% atual e 90% do anterior"
   ]
  },
  {
   "cell_type": "code",
   "execution_count": 22,
   "metadata": {
    "ExecuteTime": {
     "end_time": "2018-08-21T23:22:24.551134Z",
     "start_time": "2018-08-21T23:22:24.537355Z"
    }
   },
   "outputs": [
    {
     "name": "stdout",
     "output_type": "stream",
     "text": [
      "Training: True\n",
      "weight\n",
      "[0.03 0.4  0.26 0.37 0.06]\n",
      "bias\n",
      "[0. 0. 0. 0. 0.]\n",
      "running_mean\n",
      "[-2.68 -4.63  3.95 -1.45  1.64]\n",
      "running_var\n",
      "[1365.08  585.32  962.82  162.53 1433.43]\n",
      "num_batches_tracked\n",
      "1\n"
     ]
    }
   ],
   "source": [
    "print('Training:', model.training)\n",
    "param_dict = model.state_dict()\n",
    "for name,value in param_dict.items():\n",
    "    print(name)\n",
    "    print(value.numpy())"
   ]
  },
  {
   "cell_type": "markdown",
   "metadata": {},
   "source": [
    "## Conferindo os novos valores de running_mean e running_var"
   ]
  },
  {
   "cell_type": "markdown",
   "metadata": {},
   "source": [
    "\\begin{align*} \n",
    "\\boldsymbol{m}_{t} &=  \\lambda \\boldsymbol{\\mu_t} + (1 - \\lambda) \\boldsymbol{m}_{t-1} &&\n",
    "\\boldsymbol{v}_{t} =   \\lambda \\boldsymbol{\\sigma^{2}_t} + (1 - \\lambda) \\boldsymbol{v}_{t-1} \n",
    "\\end{align*}"
   ]
  },
  {
   "cell_type": "code",
   "execution_count": 23,
   "metadata": {
    "ExecuteTime": {
     "end_time": "2018-08-21T23:22:42.337136Z",
     "start_time": "2018-08-21T23:22:42.323052Z"
    }
   },
   "outputs": [
    {
     "name": "stdout",
     "output_type": "stream",
     "text": [
      "old mv_mean, mv_var: [0. 0. 0. 0. 0.] [1. 1. 1. 1. 1.]\n",
      "my new running mean: [-2.68 -4.63  3.95 -1.45  1.64]\n",
      "my new running var : [1365.08  585.32  962.82  162.53 1433.43]\n"
     ]
    }
   ],
   "source": [
    "print('old mv_mean, mv_var:', mv_mean.numpy(), mv_var.numpy())\n",
    "\n",
    "mv_mean_new = momentum * x.data.mean(0) + (1 - momentum) * mv_mean\n",
    "mv_var_new  = momentum * x.data.var(0,unbiased=True) + (1 - momentum) * mv_var\n",
    "\n",
    "print('my new running mean:',mv_mean_new.numpy())\n",
    "print('my new running var :',mv_var_new.numpy())"
   ]
  },
  {
   "cell_type": "markdown",
   "metadata": {},
   "source": [
    "## Saída  y"
   ]
  },
  {
   "cell_type": "code",
   "execution_count": 24,
   "metadata": {
    "ExecuteTime": {
     "end_time": "2018-08-21T23:22:53.402156Z",
     "start_time": "2018-08-21T23:22:53.395060Z"
    }
   },
   "outputs": [
    {
     "data": {
      "text/plain": [
       "tensor([[ 0.0268,  0.2450, -0.2638, -0.1785, -0.0494],\n",
       "        [-0.0233, -0.0555,  0.1765, -0.3898,  0.0709],\n",
       "        [ 0.0306, -0.6263,  0.3313, -0.0261, -0.0650],\n",
       "        [-0.0341,  0.4368, -0.2441,  0.5943,  0.0435]],\n",
       "       grad_fn=<ThnnBatchNormBackward>)"
      ]
     },
     "execution_count": 24,
     "metadata": {},
     "output_type": "execute_result"
    }
   ],
   "source": [
    "y"
   ]
  },
  {
   "cell_type": "markdown",
   "metadata": {},
   "source": [
    "## Conferindo com código próprio"
   ]
  },
  {
   "cell_type": "markdown",
   "metadata": {},
   "source": [
    "Em treinamento, a normalização é feita com a estatística do mini-batch"
   ]
  },
  {
   "cell_type": "markdown",
   "metadata": {},
   "source": [
    "$$  y = \\frac{x - mean[x]}{ \\sqrt{Var[x] + \\epsilon}} * gamma + beta $$"
   ]
  },
  {
   "cell_type": "code",
   "execution_count": 25,
   "metadata": {
    "ExecuteTime": {
     "end_time": "2018-08-21T23:22:59.837301Z",
     "start_time": "2018-08-21T23:22:59.826581Z"
    }
   },
   "outputs": [
    {
     "name": "stdout",
     "output_type": "stream",
     "text": [
      "mean: [-26.82 -46.32  39.47 -14.49  16.44]\n",
      "var:  [10231.36  4383.12  7214.42  1212.21 10743.99]\n",
      "tensor([[ 0.0268,  0.2450, -0.2638, -0.1785, -0.0494],\n",
      "        [-0.0233, -0.0555,  0.1765, -0.3898,  0.0709],\n",
      "        [ 0.0306, -0.6263,  0.3313, -0.0261, -0.0650],\n",
      "        [-0.0341,  0.4368, -0.2441,  0.5943,  0.0435]])\n"
     ]
    }
   ],
   "source": [
    "mean = x.mean(dim=0).data\n",
    "var  = x.var(dim=0, unbiased=False).data # Veja que aqui é unbiased\n",
    "print('mean:',mean.numpy())\n",
    "print('var: ',var.numpy())\n",
    "y2 = (x.data - mean) / torch.sqrt(var + model.eps) * gamma + beta\n",
    "\n",
    "print(y2)"
   ]
  },
  {
   "cell_type": "markdown",
   "metadata": {},
   "source": [
    "## Modo predict sem treinamento"
   ]
  },
  {
   "cell_type": "code",
   "execution_count": 26,
   "metadata": {
    "ExecuteTime": {
     "end_time": "2018-08-21T23:23:16.527237Z",
     "start_time": "2018-08-21T23:23:16.522317Z"
    }
   },
   "outputs": [],
   "source": [
    "model.training = False\n",
    "y = model(x)                           # Forward"
   ]
  },
  {
   "cell_type": "markdown",
   "metadata": {},
   "source": [
    "Observe que agora, o running_mean e running_var serão utilizados"
   ]
  },
  {
   "cell_type": "code",
   "execution_count": 27,
   "metadata": {
    "ExecuteTime": {
     "end_time": "2018-08-21T23:23:18.616154Z",
     "start_time": "2018-08-21T23:23:18.602866Z"
    }
   },
   "outputs": [
    {
     "name": "stdout",
     "output_type": "stream",
     "text": [
      "Training: False\n",
      "weight\n",
      "[0.03 0.4  0.26 0.37 0.06]\n",
      "bias\n",
      "[0. 0. 0. 0. 0.]\n",
      "running_mean\n",
      "[-2.68 -4.63  3.95 -1.45  1.64]\n",
      "running_var\n",
      "[1365.08  585.32  962.82  162.53 1433.43]\n",
      "num_batches_tracked\n",
      "1\n"
     ]
    }
   ],
   "source": [
    "print('Training:', model.training)\n",
    "param_dict = model.state_dict()\n",
    "for name,value in param_dict.items():\n",
    "    print(name)\n",
    "    print(value.numpy())"
   ]
  },
  {
   "cell_type": "markdown",
   "metadata": {},
   "source": [
    "## Resultado da rede no modo eval(), note que os valores não ficaram tão normalizados (por quê?)"
   ]
  },
  {
   "cell_type": "code",
   "execution_count": 28,
   "metadata": {
    "ExecuteTime": {
     "end_time": "2018-08-21T23:23:52.740891Z",
     "start_time": "2018-08-21T23:23:52.731312Z"
    }
   },
   "outputs": [
    {
     "data": {
      "text/plain": [
       "tensor([[ 0.0545, -0.0221, -0.4245, -0.8624, -0.1125],\n",
       "        [-0.0829, -0.8446,  0.7806, -1.4395,  0.2170],\n",
       "        [ 0.0647, -2.4063,  1.2045, -0.4462, -0.1553],\n",
       "        [-0.1122,  0.5027, -0.3706,  1.2482,  0.1419]],\n",
       "       grad_fn=<ThnnBatchNormBackward>)"
      ]
     },
     "execution_count": 28,
     "metadata": {},
     "output_type": "execute_result"
    }
   ],
   "source": [
    "y"
   ]
  },
  {
   "cell_type": "markdown",
   "metadata": {},
   "source": [
    "## Conferindo com código próprio, note que usa-se o running_mean e running_var"
   ]
  },
  {
   "cell_type": "code",
   "execution_count": 29,
   "metadata": {
    "ExecuteTime": {
     "end_time": "2018-08-21T23:24:15.102879Z",
     "start_time": "2018-08-21T23:24:15.095641Z"
    }
   },
   "outputs": [
    {
     "name": "stdout",
     "output_type": "stream",
     "text": [
      "tensor([[ 0.0545, -0.0221, -0.4245, -0.8624, -0.1125],\n",
      "        [-0.0829, -0.8446,  0.7806, -1.4395,  0.2170],\n",
      "        [ 0.0647, -2.4063,  1.2045, -0.4462, -0.1553],\n",
      "        [-0.1122,  0.5027, -0.3706,  1.2482,  0.1419]])\n"
     ]
    }
   ],
   "source": [
    "gamma, beta, mv_mean, mv_var, _ = model.state_dict().values()\n",
    "\n",
    "mean = mv_mean\n",
    "var  = mv_var\n",
    "\n",
    "y2 = (x.data - mean) / torch.sqrt(var + model.eps) * gamma + beta\n",
    "\n",
    "print(y2)"
   ]
  },
  {
   "cell_type": "markdown",
   "metadata": {
    "collapsed": true
   },
   "source": [
    "## Exercícios"
   ]
  },
  {
   "cell_type": "markdown",
   "metadata": {},
   "source": [
    "1. Coloque a rede no modo treinamento em um laço, de modo que a running_mean e running_var se aproximem da média e variância do mini-batch. Quantas execuções da rede serão necessárias?"
   ]
  },
  {
   "cell_type": "code",
   "execution_count": 14,
   "metadata": {},
   "outputs": [],
   "source": [
    "model.training = True\n",
    "#for i in range(100):\n",
    "    #y = model(x)\n",
    "    # Busque aqui os valores da média móvel da média e variância que estão sendo aprendidos\n",
    "    #\n",
    "    #\n",
    "    #print(mv_mean.numpy(), mv_var.numpy())"
   ]
  }
 ],
 "metadata": {
  "kernelspec": {
   "display_name": "Python 3",
   "language": "python",
   "name": "python3"
  },
  "language_info": {
   "codemirror_mode": {
    "name": "ipython",
    "version": 3
   },
   "file_extension": ".py",
   "mimetype": "text/x-python",
   "name": "python",
   "nbconvert_exporter": "python",
   "pygments_lexer": "ipython3",
   "version": "3.6.5"
  },
  "latex_envs": {
   "LaTeX_envs_menu_present": true,
   "autocomplete": true,
   "bibliofile": "biblio.bib",
   "cite_by": "apalike",
   "current_citInitial": 1,
   "eqLabelWithNumbers": true,
   "eqNumInitial": 1,
   "hotkeys": {
    "equation": "Ctrl-E",
    "itemize": "Ctrl-I"
   },
   "labels_anchors": false,
   "latex_user_defs": false,
   "report_style_numbering": false,
   "user_envs_cfg": false
  },
  "toc": {
   "nav_menu": {
    "height": "12px",
    "width": "252px"
   },
   "number_sections": true,
   "sideBar": true,
   "skip_h1_title": false,
   "toc_cell": false,
   "toc_position": {
    "height": "1260px",
    "left": "0px",
    "right": "2348px",
    "top": "106px",
    "width": "212px"
   },
   "toc_section_display": "block",
   "toc_window_display": false
  },
  "varInspector": {
   "cols": {
    "lenName": 16,
    "lenType": 16,
    "lenVar": 40
   },
   "kernels_config": {
    "python": {
     "delete_cmd_postfix": "",
     "delete_cmd_prefix": "del ",
     "library": "var_list.py",
     "varRefreshCmd": "print(var_dic_list())"
    },
    "r": {
     "delete_cmd_postfix": ") ",
     "delete_cmd_prefix": "rm(",
     "library": "var_list.r",
     "varRefreshCmd": "cat(var_dic_list()) "
    }
   },
   "types_to_exclude": [
    "module",
    "function",
    "builtin_function_or_method",
    "instance",
    "_Feature"
   ],
   "window_display": false
  }
 },
 "nbformat": 4,
 "nbformat_minor": 2
}
