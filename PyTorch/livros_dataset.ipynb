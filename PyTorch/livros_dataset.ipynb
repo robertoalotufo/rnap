{
 "cells": [
  {
   "cell_type": "markdown",
   "metadata": {
    "toc": "true"
   },
   "source": [
    " # Table of Contents\n",
    "<div class=\"toc\" style=\"margin-top: 1em;\"><ul class=\"toc-item\" id=\"toc-level0\"><li><span><a href=\"https://rnap-nm.ddns.net/jupyterhub/user/yugo4k/notebooks/yugo4k/rnap-cs3/PyTorch/livros_dataset.ipynb#Classificação-de-Textos\" data-toc-modified-id=\"Classificação-de-Textos-1\"><span class=\"toc-item-num\">1&nbsp;&nbsp;</span>Classificação de Textos</a></span><ul class=\"toc-item\"><li><span><a href=\"https://rnap-nm.ddns.net/jupyterhub/user/yugo4k/notebooks/yugo4k/rnap-cs3/PyTorch/livros_dataset.ipynb#Preâmbulo\" data-toc-modified-id=\"Preâmbulo-1.1\"><span class=\"toc-item-num\">1.1&nbsp;&nbsp;</span>Preâmbulo</a></span></li><li><span><a href=\"https://rnap-nm.ddns.net/jupyterhub/user/yugo4k/notebooks/yugo4k/rnap-cs3/PyTorch/livros_dataset.ipynb#Preparando-o-dataset\" data-toc-modified-id=\"Preparando-o-dataset-1.2\"><span class=\"toc-item-num\">1.2&nbsp;&nbsp;</span>Preparando o dataset</a></span><ul class=\"toc-item\"><li><span><a href=\"https://rnap-nm.ddns.net/jupyterhub/user/yugo4k/notebooks/yugo4k/rnap-cs3/PyTorch/livros_dataset.ipynb#Buscando-o-texto-dos-livros-e-definindo-os-rótulos\" data-toc-modified-id=\"Buscando-o-texto-dos-livros-e-definindo-os-rótulos-1.2.1\"><span class=\"toc-item-num\">1.2.1&nbsp;&nbsp;</span>Buscando o texto dos livros e definindo os rótulos</a></span></li><li><span><a href=\"https://rnap-nm.ddns.net/jupyterhub/user/yugo4k/notebooks/yugo4k/rnap-cs3/PyTorch/livros_dataset.ipynb#Representando-as-palavras-através-de-índices-inteiros\" data-toc-modified-id=\"Representando-as-palavras-através-de-índices-inteiros-1.2.2\"><span class=\"toc-item-num\">1.2.2&nbsp;&nbsp;</span>Representando as palavras através de índices inteiros</a></span></li><li><span><a href=\"https://rnap-nm.ddns.net/jupyterhub/user/yugo4k/notebooks/yugo4k/rnap-cs3/PyTorch/livros_dataset.ipynb#Palavras-características-de-cada-livro\" data-toc-modified-id=\"Palavras-características-de-cada-livro-1.2.3\"><span class=\"toc-item-num\">1.2.3&nbsp;&nbsp;</span>Palavras características de cada livro</a></span></li></ul></li><li><span><a href=\"https://rnap-nm.ddns.net/jupyterhub/user/yugo4k/notebooks/yugo4k/rnap-cs3/PyTorch/livros_dataset.ipynb#Dividindo-o-dataset-entre-treinamento-e-validação\" data-toc-modified-id=\"Dividindo-o-dataset-entre-treinamento-e-validação-1.3\"><span class=\"toc-item-num\">1.3&nbsp;&nbsp;</span>Dividindo o dataset entre treinamento e validação</a></span><ul class=\"toc-item\"><li><span><a href=\"https://rnap-nm.ddns.net/jupyterhub/user/yugo4k/notebooks/yugo4k/rnap-cs3/PyTorch/livros_dataset.ipynb#Divisão-simples\" data-toc-modified-id=\"Divisão-simples-1.3.1\"><span class=\"toc-item-num\">1.3.1&nbsp;&nbsp;</span>Divisão simples</a></span></li><li><span><a href=\"https://rnap-nm.ddns.net/jupyterhub/user/yugo4k/notebooks/yugo4k/rnap-cs3/PyTorch/livros_dataset.ipynb#Divisão-para-uso-com-geradores-e-aumento-de-dados\" data-toc-modified-id=\"Divisão-para-uso-com-geradores-e-aumento-de-dados-1.3.2\"><span class=\"toc-item-num\">1.3.2&nbsp;&nbsp;</span>Divisão para uso com geradores e aumento de dados</a></span><ul class=\"toc-item\"><li><span><a href=\"https://rnap-nm.ddns.net/jupyterhub/user/yugo4k/notebooks/yugo4k/rnap-cs3/PyTorch/livros_dataset.ipynb#Criando--geradores-para-treino-e-validação\" data-toc-modified-id=\"Criando--geradores-para-treino-e-validação-1.3.2.1\"><span class=\"toc-item-num\">1.3.2.1&nbsp;&nbsp;</span>Criando  geradores para treino e validação</a></span></li></ul></li></ul></li></ul></li></ul></div>"
   ]
  },
  {
   "cell_type": "markdown",
   "metadata": {},
   "source": [
    "# Classificação de Textos"
   ]
  },
  {
   "cell_type": "markdown",
   "metadata": {},
   "source": [
    "## Preâmbulo"
   ]
  },
  {
   "cell_type": "code",
   "execution_count": 1,
   "metadata": {
    "ExecuteTime": {
     "end_time": "2017-12-12T20:00:15.467409Z",
     "start_time": "2017-12-12T20:00:15.115853Z"
    }
   },
   "outputs": [
    {
     "name": "stdout",
     "output_type": "stream",
     "text": [
      "GPU available: False\n",
      "torch 0.2.0_3\n",
      "Python 3.6.2 (default, Sep 28 2017, 13:18:00) \n",
      "[GCC 5.4.0 20160609]\n"
     ]
    }
   ],
   "source": [
    "%matplotlib inline\n",
    "import matplotlib.pyplot as plt\n",
    "from IPython import display\n",
    "\n",
    "import os\n",
    "import sys\n",
    "import imp\n",
    "import time\n",
    "import glob\n",
    "import numpy as np\n",
    "import numpy.random as nr\n",
    "\n",
    "import torch\n",
    "import torch.nn as nn\n",
    "import torch.nn.functional as F\n",
    "from torch.optim.lr_scheduler import MultiStepLR, StepLR\n",
    "from torch.utils.data import DataLoader, TensorDataset\n",
    "from torch.autograd import Variable\n",
    "\n",
    "import torchvision as tv\n",
    "import lib.pytorch_trainer as ptt\n",
    "from lib.tokenizer import Tokenizer\n",
    "\n",
    "use_gpu = torch.cuda.is_available()\n",
    "print('GPU available:', use_gpu)\n",
    "print('torch', torch.version.__version__)\n",
    "print('Python', sys.version)\n",
    "\n",
    "np.set_printoptions(precision=3, linewidth=120)"
   ]
  },
  {
   "cell_type": "markdown",
   "metadata": {},
   "source": [
    "## Preparando o dataset"
   ]
  },
  {
   "cell_type": "markdown",
   "metadata": {},
   "source": [
    "### Buscando o texto dos livros e definindo os rótulos"
   ]
  },
  {
   "cell_type": "code",
   "execution_count": 2,
   "metadata": {
    "ExecuteTime": {
     "end_time": "2017-12-12T20:00:15.568488Z",
     "start_time": "2017-12-12T20:00:15.469080Z"
    }
   },
   "outputs": [
    {
     "name": "stdout",
     "output_type": "stream",
     "text": [
      "1030735  Jorge_Amado        Dona_flor_seus_dois_maridos\n",
      " 828417  Jorge_Amado        Gabriela\n",
      " 427711  Jorge_Amado        Capitães_de_Areia\n",
      "1001226  Jorge_Amado        Tereza_Batista_Cansada_de_Guerra\n",
      " 372459  Machado_de_Assis   Dom_Casmurro\n",
      " 443778  Machado_de_Assis   Quincas_Borba\n",
      " 337533  Machado_de_Assis   Helena\n",
      " 336677  Machado_de_Assis   Iaiá_Garcia\n",
      " 411043  Machado_de_Assis   Esaú_e_Jacó\n",
      " 352965  Machado_de_Assis   Memórias_Póstumas_de_Brás_Cubas\n",
      " 280683  Machado_de_Assis   Memorial_de_Aires\n",
      " 749265  Érico_Veríssimo    O_Tempo_e_o_Vento_-_O_Continente\n",
      " 890215  Érico_Veríssimo    Incidente_em_Antares\n",
      " 294049  Érico_Veríssimo    Clarissa\n",
      " 699390  Érico_Veríssimo    O_Tempo_e_o_Vento_-_O_Arquipélago\n",
      "\n",
      "3 Labels:\n",
      "     0: Machado_de_Assis\n",
      "     1: Érico_Veríssimo\n",
      "     2: Jorge_Amado\n"
     ]
    }
   ],
   "source": [
    "data_dir = '/data/datasets/livros/'\n",
    "\n",
    "autores = [\n",
    "    'Jorge_Amado',\n",
    "    'Machado_de_Assis',\n",
    "    'Érico_Veríssimo',\n",
    "]\n",
    "\n",
    "book_text = []\n",
    "book_author = []\n",
    "book_title = []\n",
    "for aut in autores:\n",
    "    for fn in glob.glob(data_dir + 'processed/' + aut + '*.txt'):\n",
    "        author, book = os.path.basename(fn).split('__')\n",
    "        txt = open(fn, encoding='utf-8').read().replace('\\x97', '')\n",
    "        book_text.append(txt)\n",
    "        book_author.append(author)\n",
    "        book_title.append(book[:-4])\n",
    "        print('{:7d}  {:18s} {}'.format(len(txt), author, book[:-4]))\n",
    "\n",
    "author_list = list(set(book_author))\n",
    "n_labels = len(author_list)\n",
    "n_books = len(book_title)\n",
    "book_label = [author_list.index(a) for a in book_author]\n",
    "print('\\n{} Labels:'.format(n_labels))\n",
    "for i, autor in enumerate(author_list):\n",
    "    print('    {:2d}: {}'.format(i, autor))"
   ]
  },
  {
   "cell_type": "markdown",
   "metadata": {},
   "source": [
    "### Representando as palavras através de índices inteiros"
   ]
  },
  {
   "cell_type": "code",
   "execution_count": 3,
   "metadata": {
    "ExecuteTime": {
     "end_time": "2017-12-12T20:00:18.433370Z",
     "start_time": "2017-12-12T20:00:15.569914Z"
    }
   },
   "outputs": [
    {
     "name": "stdout",
     "output_type": "stream",
     "text": [
      "Found 61707 unique tokens.\n",
      "Using the first 19999 words.\n"
     ]
    }
   ],
   "source": [
    "MAX_NB_WORDS = 20000\n",
    "\n",
    "tokenizer = Tokenizer(num_words=MAX_NB_WORDS)\n",
    "tokenizer.fit_on_texts(book_text)\n",
    "sequences = tokenizer.texts_to_sequences(book_text)\n",
    "\n",
    "w2i = tokenizer.word_index\n",
    "i2w = dict([(v, k) for k, v in w2i.items()])\n",
    "\n",
    "i2w_vec = np.array([i2w[i+1] for i in range(len(i2w))])\n",
    "\n",
    "print('Found %d unique tokens.' % len(i2w))\n",
    "print('Using the first %d words.' % max([max(s) for s in sequences]))"
   ]
  },
  {
   "cell_type": "code",
   "execution_count": 4,
   "metadata": {
    "ExecuteTime": {
     "end_time": "2017-12-12T20:00:18.445889Z",
     "start_time": "2017-12-12T20:00:18.434922Z"
    },
    "scrolled": false
   },
   "outputs": [
    {
     "name": "stdout",
     "output_type": "stream",
     "text": [
      "Jorge Amado: Dona flor seus dois maridos -- 166625 palavras\n",
      "e as más recordações todas elas a a carregar o nojo a transpor aquele tempo gris de desespero e ausência um deserto de cinzas mesmo ao rever lembranças e imagens tão como a da ex aluna com seu riso e sua cínica mesmo ao ferir se novamente em tais espinhos ao aquelas humilhações sentia uma espécie de agre consolo como se lembranças e imagens espinhos e humilhações tudo quanto vivera com ele fosse para esse sofrimento esse de agora sem medida e sem jeito porque afinal quem saíra vitoriosa quem vence ra a parada quem ficara com ele por quem\n",
      "\n",
      "Jorge Amado: Gabriela -- 134498 palavras\n",
      "eu lhe digo minha filha é só você querer saber levar as coisas com jeito dando e negando deixando ele com água na boca ele já anda assustado pág m eu chico me contou que o juiz fala em botar casa pra você ele ouviu seu nhô galo dizer seu nacib anda com o coração na mão quero não morria o sorriso em seus lábios gosto dele não velho sem graça esse tal de juiz lá está outro dona arminda 0 coronel manuel das onças com seu andar de subia a rua parava ante as mulheres tirava o chapéu panamá\n",
      "\n",
      "Jorge Amado: Capitães de Areia -- 76132 palavras\n",
      "pelos seus dezesseis d ora foi leva da ao orfanato nossa senhora da piedade neste santo ambiente não a esquecer pedro bala o romântico noivo bandido e a sua vida criminosa entre os “capitães da areia” quanto a pedro bala será recolhido ao reformatório de menores o que a polícia consiga que ele qual o local onde se esconde o grupo a polícia tem grandes esperanças de consegui lo ainda hoje ouvindo o diretor no reformatório o diretor do reformatório baiano de menores abandonados e delinqüentes é um ve lho amigo do “jornal da tarde” certa vez uma reportagem nossa\n",
      "\n",
      "Jorge Amado: Tereza Batista Cansada de Guerra -- 164906 palavras\n",
      "que grega o vereador leu — desejou perguntar o excelentíssimo mas a hora não é própria jorge amado para contenta se em mandá lo esperar enquanto tomará as necessárias providências aqui caro pavão e terá boas n a transmitir às nossas — como foi mesmo que você disse aquela expressão tão bonita ah sim às nossas irmãs do meretrício — prostitutas porém excelência do gabinete o governador comunica se com o chefe de polícia — q ue história é essa de mudar à força as raparigas greve de rameiras onde já se viu só mesmo na bahia e em meu\n",
      "\n",
      "Machado de Assis: Dom Casmurro -- 64547 palavras\n",
      "vinha eu dizendo rua abaixo que faria o público se ela deveras fosse culpada tão culpada como capitu e que morte lhe daria o mouro um travesseiro não bastaria era preciso sangue e fogo um fogo intenso e vasto que a de todo e a a pó e o pó seria lançado ao vento como eterna extinção pelas ruas o resto da noite é verdade um quase nada mas o bastante para ir até à manhã vi as últimas horas da noite e as primeiras do dia vi os derradeiros e os primeiros as primeiras carroças os primeiros ruídos os\n",
      "\n",
      "Machado de Assis: Quincas Borba -- 74965 palavras\n",
      "homens as águas que passam e os ventos que não são outra coisa capítulo bem vai casar tanto melhor pensou rubião entre aquela noite e o dia do casamento rubião apanhou no ar algumas de sofia suspeitas de tentação carlos maria se lhe correspondeu foi antes por polidez que outra coisa rubião concluiu que o caso era lembrava se ainda da lágrima de sofia na noite dos anos quando lhe explicou a história da carta oh boa lágrima inesperada tu que a persuadir um homem podes não ser explicável a outros e assim vai o mundo que importa que os\n",
      "\n",
      "Machado de Assis: Helena -- 54778 palavras\n",
      "numa poltrona com o lenço na cara como a soluçar a tia correu com a velocidade que lhe permitiam os anos estácio não a ouviu entrar só deu por ela quando as mãos da boa senhora lhe arrancaram as suas dos olhos o assombro de d úrsula foi indescritível sobretudo quando estácio erguendo se atirou se lhe aos braços exclamando que fatalidade mas que é explica te estácio enxugou as faces molhadas do longo e silencioso pranto com o gesto decidido de um homem que se de um ato de debilidade a explosão lhe o espírito podia enfim ser homem\n",
      "\n",
      "Machado de Assis: Iaiá Garcia -- 55342 palavras\n",
      "de conselho pediu lhe que fizesse feliz a sua filha de criação e não obteve dele uma palavra ou um gesto de assentimento supô lo comovido mas ele estava simplesmente atônito saindo fora da casa se à porta na mesma pedra assaz larga e extensa para dois foi preciso dizer lhe aquilo explicou iaiá porque eu desejo conversar com o senhor e os noivos conversam mais à vontade de mais ela não é só paralítica tem a vista fraca amanhã posso substituí lo sem que ela dê pela mudança agora falemos de nós e daquela carta e antes da carta\n",
      "\n",
      "Machado de Assis: Esaú e Jacó -- 70153 palavras\n",
      "de coisas e obedecer aos dados da sorte mas não podia e façamos justiça ao homem quando ele pensava só na fidelidade aos amigos sentia se melhor a mesma fé existia o mesmo costume a mesma esperança o mal vinha de olhar para o lado de lá e era d cláudia que lhe mostrava com o dedo a carreira a alegria a vida a marcha certa e longa a presidência o ministério ele torcia os olhos e ficava a sós consigo batista pensou muita vez na situação pessoal e política apalpava se moralmente cláudia podia ter razão que é que\n",
      "\n",
      "Machado de Assis: Memórias Póstumas de Brás Cubas -- 58580 palavras\n",
      "fui dormir mas o sonho que é uma fresta do espírito deixou novamente entrar o bichinho e aí fiquei eu a noite toda a cavar o mistério sem explicá lo amanheceu chovendo a descida mas no outro dia a manhã era límpida e azul e apesar disso deixei me ficar não menos que no terceiro dia e no quarto até o fim da semana manhãs bonitas frescas lá embaixo a família a chamar me e a noiva e o parlamento e eu sem acudir a coisa nenhuma enlevado ao pé da minha vênus manca enlevado é uma maneira de o\n",
      "\n",
      "Machado de Assis: Memorial de Aires -- 50033 palavras\n",
      "a última visita e o resto do poema em prosa que a minha musa não dá para mais foi assim que o não na outra noite a de 3 mas na de hoje 6 depois de levar a mana a andaraí apareceu me aqui de manhã já outros amigos e até indiferentes me tinham como aquele dr faria que me deixou lembranças da mulher e o corretor miranda que também mas trouxe da sua tristão esteve cá anteontem e eu saí à tarde e ontem de manhã estou bom nem por isso deixei de lhe chamar ingrata rita confessou me\n",
      "\n",
      "Érico Veríssimo: O Tempo e o Vento - O Continente -- 129346 palavras\n",
      "os homens de chapéu na mão ricardo amaral não apeou de cima do cavalo informou se sobre as colheitas ouviu as queixas e resolveu duas ou três questões entre os moradores dos ranchos naquelas redondezas ele não era apenas o comandante militar mas também uma espécie de juiz de paz e conselheiro marciano bezerra aproveitou uma pausa e disse — coronel esta é a moça que falei a vossa mercê apontou para ana que segurava a mão do filho — ah — fez o estancieiro baixando os olhos — linda moça — e num relâmpago ana viu rafael pinto bandeira\n",
      "\n",
      "Érico Veríssimo: Incidente em Antares -- 144785 palavras\n",
      "são dessas difíceis de serem guardadas na memória tem o orgulho de ser uma isto é and branca e protestante “que remédio senão fazer a perfeita ” – pensa ela agora suspirando e para dizer alguma coisa queixa se do calor abafado do dia e da noite e quando o marido lhe que no sul dos estados unidos geralmente faz mais calor que em antares ela se irrita e replica que ele costuma dizer isso “para ser agradável aos até ao terceiro millicent conseguiu observar as regras que o comportamento da perfeita anfitrioa mas agora os espíritos sobem lhe à\n",
      "\n",
      "Érico Veríssimo: Clarissa -- 47827 palavras\n",
      "que cantam em coro ouviram do ipiranga as margens clarissa contempla a menina contente que está no fundo do espelho tão contente que nem pode deixar de sorrir e porquê ora a vida é tão boa o sol salta pela janela como um companheiro brincalhão e põe as cores do arco íris nas do espelho lá fora os jardins estão floridos mamãe escreveu dizendo que tudo na fazenda vai bem a vaca a querida de clarissa continua gorda dando muito leite primo vasco parece que está criando juízo o romeu pelos cantos os papai melhorou da asma mas a pessegada\n",
      "\n",
      "Érico Veríssimo: O Tempo e o Vento - O Arquipélago -- 115533 palavras\n",
      "assistir à cerimônia de sua formatura — temos o dante já doutor — disse rodrigo sorrindo — quem diria — se toríbio — o engraxate da vesúvio — vou pôr o rapaz a trabalhar no meu consultório e na casa de saúde com o carbone — esse guri nasceu com o rabo pra lua rodrigo atirou se aos jornais continuava o debate em torno do tribunal de honra que os de assis brasil haviam proposto em carta a borges de medeiros para julgar a eleição em um editorial a federação que comentava essa carta collor seus lhes o português —\n",
      "\n"
     ]
    }
   ],
   "source": [
    "# escolhe e imprime uma sequencia aleatoria de cada livro\n",
    "rseq_len = 100\n",
    "for i, seq in enumerate(sequences):\n",
    "    k = nr.randint(len(seq) - rseq_len)\n",
    "    print('{}: {} -- {} palavras'.format(book_author[i], book_title[i], len(seq)).replace('_', ' '))\n",
    "    print(' '.join([i2w[x] for x in seq[k:k+rseq_len]]), end='\\n\\n')\n"
   ]
  },
  {
   "cell_type": "markdown",
   "metadata": {},
   "source": [
    "### Palavras características de cada livro"
   ]
  },
  {
   "cell_type": "code",
   "execution_count": 5,
   "metadata": {
    "ExecuteTime": {
     "end_time": "2017-12-12T20:00:18.974873Z",
     "start_time": "2017-12-12T20:00:18.447364Z"
    }
   },
   "outputs": [
    {
     "name": "stdout",
     "output_type": "stream",
     "text": [
      "[['marilda' 'dinorá' 'teodoro' 'pelancchi' 'gisa' 'mirandão' 'rozilda' 'vadinho']\n",
      " ['tuísca' 'tonico' 'ribeirinho' 'malvina' 'amâncio' 'fulgêncio' 'gabriela' 'nacib']\n",
      " ['trapiche' 'bedel' 'ester' 'barandão' 'almiro' 'dora' '–' 'pirulito']\n",
      " ['vavá' 'januário' 'almério' '—' 'dóris' 'brígida' 'justiniano' 'tereza']\n",
      " ['manduca' 'protonotário' 'bentinho' 'sancha' 'pádua' 'justina' 'escobar' 'capitu']\n",
      " ['camacho' 'teófilo' 'tonica' 'borba' 'sofia' 'fernanda' 'benedita' 'rubião']\n",
      " ['ângela' 'eugênia' 'tomásia' 'melchior' 'helena' 'camargo' 'estácio' 'úrsula']\n",
      " ['procópio' 'valéria' 'jorge' 'garcia' 'madrasta' 'enteada' 'iaiá' 'estela']\n",
      " ['coupé' 'gêmeos' 'excia' 'custódio' 'nóbrega' 'natividade' 'flora' 'cláudia']\n",
      " ['loló' 'eusébia' 'cubas' 'borba' 'sabina' 'cotrim' 'marcela' 'virgília']\n",
      " ['carmo' 'libertos' 'prainha' 'noronha' 'cesária' 'aguiar' 'fidélia' 'tristão']\n",
      " ['maneco' 'amaral' 'lara' 'vosmecê' 'bibiana' '—' 'alonzo' 'rodrigo']\n",
      " ['campolargo' 'vacariano' 'vivaldino' 'getúlio' 'quitéria' '–' 'tibério' 'antares']\n",
      " ['gamaliel' 'dudu' 'eufrasina' 'tatá' 'belmira' 'tónico' 'zina' 'clarissa']\n",
      " ['dinda' 'alicinha' 'toríbio' 'chiru' 'stein' 'camerino' '—' 'rodrigo']]\n"
     ]
    }
   ],
   "source": [
    "tfidf = tokenizer.sequences_to_matrix(sequences, mode='tfidf')\n",
    "ww = np.argsort(tfidf, axis=1)[:, -8:]\n",
    "print(i2w_vec[ww-1])"
   ]
  },
  {
   "cell_type": "markdown",
   "metadata": {},
   "source": [
    "## Dividindo o dataset entre treinamento e validação"
   ]
  },
  {
   "cell_type": "code",
   "execution_count": 6,
   "metadata": {
    "ExecuteTime": {
     "end_time": "2017-12-12T20:00:18.979407Z",
     "start_time": "2017-12-12T20:00:18.976411Z"
    }
   },
   "outputs": [],
   "source": [
    "nr.seed(20170607)\n",
    "\n",
    "batch_size  = 32\n",
    "seq_size    = 50\n",
    "valid_split = 0.2"
   ]
  },
  {
   "cell_type": "markdown",
   "metadata": {},
   "source": [
    "### Divisão simples"
   ]
  },
  {
   "cell_type": "code",
   "execution_count": 7,
   "metadata": {
    "ExecuteTime": {
     "end_time": "2017-12-12T20:00:19.104632Z",
     "start_time": "2017-12-12T20:00:18.980758Z"
    }
   },
   "outputs": [
    {
     "name": "stdout",
     "output_type": "stream",
     "text": [
      "Sequencias obtidas para cada autor: [8564, 8747, 10841]\n",
      "O dataset conterá 8564 sequencias por autor, totalizando 25692 sequencias.\n",
      "\n",
      "Dataset shapes: (25692, 50) (25692,)\n"
     ]
    }
   ],
   "source": [
    "all_data = [[] for i in range(n_labels)]\n",
    "\n",
    "# divide cada livro em sequencias de 'seq_size' words\n",
    "# 'all_data' contem as sequencias agrupadas por autor\n",
    "for sequence, label in zip(sequences, book_label):\n",
    "    n_seqs = len(sequence) // seq_size\n",
    "    for i in range(n_seqs):\n",
    "        beg = i * seq_size\n",
    "        all_data[label].append(sequence[beg:beg+seq_size])\n",
    "\n",
    "print('Sequencias obtidas para cada autor:', [len(x) for x in all_data])\n",
    "\n",
    "# balanceando o dataset:\n",
    "# calcula o numero de sequencias, N, de forma que o dataset \n",
    "# contenha N sequencias para cada autor\n",
    "N = min([len(x) for x in all_data])\n",
    "print('O dataset conterá {} sequencias por autor, totalizando {} sequencias.'.format(N, 3*N))\n",
    "\n",
    "all_data = np.array([seq[:N] for seq in all_data], np.int32).reshape(-1, seq_size)\n",
    "all_labels = np.array([[i] * N for i in range(n_labels)], np.int32).reshape(-1)\n",
    "print('\\nDataset shapes:', all_data.shape, all_labels.shape)\n"
   ]
  },
  {
   "cell_type": "code",
   "execution_count": 8,
   "metadata": {
    "ExecuteTime": {
     "end_time": "2017-12-12T20:00:19.339480Z",
     "start_time": "2017-12-12T20:00:19.106099Z"
    }
   },
   "outputs": [
    {
     "name": "stdout",
     "output_type": "stream",
     "text": [
      "(20553, 50) (20553,) (5139, 50) (5139,)\n"
     ]
    }
   ],
   "source": [
    "from sklearn.model_selection import train_test_split\n",
    "\n",
    "Xtra, Xval, ytra, yval = train_test_split(all_data, all_labels, test_size=valid_split)\n",
    "print(Xtra.shape, ytra.shape, Xval.shape, yval.shape)"
   ]
  },
  {
   "cell_type": "code",
   "execution_count": 9,
   "metadata": {
    "ExecuteTime": {
     "end_time": "2017-12-12T20:00:20.074206Z",
     "start_time": "2017-12-12T20:00:19.340997Z"
    }
   },
   "outputs": [],
   "source": [
    "fn = data_dir + 'livros_sequences_{}.npz'.format(seq_size)\n",
    "np.savez_compressed(fn, Xtra=Xtra, Xval=Xval, ytra=ytra, yval=yval, i2w=i2w_vec[:MAX_NB_WORDS])"
   ]
  },
  {
   "cell_type": "markdown",
   "metadata": {},
   "source": [
    "### Divisão para uso com geradores e aumento de dados"
   ]
  },
  {
   "cell_type": "code",
   "execution_count": 10,
   "metadata": {
    "ExecuteTime": {
     "end_time": "2017-12-12T20:00:20.136349Z",
     "start_time": "2017-12-12T20:00:20.075766Z"
    }
   },
   "outputs": [
    {
     "name": "stdout",
     "output_type": "stream",
     "text": [
      "Training sequences:\n",
      "-------------------\n",
      " 1. Jorge_Amado      (2) -- 116879 palavras do início do livro Dona_flor_seus_dois_maridos\n",
      " 2. Jorge_Amado      (2) --  58438 palavras do início do livro Gabriela\n",
      " 3. Jorge_Amado      (2) --  34178 palavras do início do livro Capitães_de_Areia\n",
      " 4. Jorge_Amado      (2) --  33045 palavras do início do livro Tereza_Batista_Cansada_de_Guerra\n",
      " 5. Machado_de_Assis (0) --   3266 palavras do início do livro Dom_Casmurro\n",
      " 6. Machado_de_Assis (0) --  37666 palavras do início do livro Quincas_Borba\n",
      " 7. Machado_de_Assis (0) --  10817 palavras do início do livro Helena\n",
      " 8. Machado_de_Assis (0) --  33350 palavras do início do livro Iaiá_Garcia\n",
      " 9. Machado_de_Assis (0) --   3461 palavras do início do livro Esaú_e_Jacó\n",
      "10. Machado_de_Assis (0) --  11576 palavras do início do livro Memórias_Póstumas_de_Brás_Cubas\n",
      "11. Machado_de_Assis (0) --  26516 palavras do início do livro Memorial_de_Aires\n",
      "12. Érico_Veríssimo  (1) --  22847 palavras do início do livro O_Tempo_e_o_Vento_-_O_Continente\n",
      "13. Érico_Veríssimo  (1) --  42800 palavras do início do livro Incidente_em_Antares\n",
      "14. Érico_Veríssimo  (1) --  17350 palavras do início do livro Clarissa\n",
      "15. Érico_Veríssimo  (1) --  57841 palavras do início do livro O_Tempo_e_o_Vento_-_O_Arquipélago\n",
      "16. Jorge_Amado      (2) --  16421 palavras do final do livro  Dona_flor_seus_dois_maridos\n",
      "17. Jorge_Amado      (2) --  49161 palavras do final do livro  Gabriela\n",
      "18. Jorge_Amado      (2) --  26728 palavras do final do livro  Capitães_de_Areia\n",
      "19. Jorge_Amado      (2) --  98880 palavras do final do livro  Tereza_Batista_Cansada_de_Guerra\n",
      "20. Machado_de_Assis (0) --  48372 palavras do final do livro  Dom_Casmurro\n",
      "21. Machado_de_Assis (0) --  22306 palavras do final do livro  Quincas_Borba\n",
      "22. Machado_de_Assis (0) --  33006 palavras do final do livro  Helena\n",
      "23. Machado_de_Assis (0) --  10924 palavras do final do livro  Iaiá_Garcia\n",
      "24. Machado_de_Assis (0) --  52662 palavras do final do livro  Esaú_e_Jacó\n",
      "25. Machado_de_Assis (0) --  35288 palavras do final do livro  Memórias_Póstumas_de_Brás_Cubas\n",
      "26. Machado_de_Assis (0) --  13511 palavras do final do livro  Memorial_de_Aires\n",
      "27. Érico_Veríssimo  (1) --  80630 palavras do final do livro  O_Tempo_e_o_Vento_-_O_Continente\n",
      "28. Érico_Veríssimo  (1) --  73028 palavras do final do livro  Incidente_em_Antares\n",
      "29. Érico_Veríssimo  (1) --  20912 palavras do final do livro  Clarissa\n",
      "30. Érico_Veríssimo  (1) --  34586 palavras do final do livro  O_Tempo_e_o_Vento_-_O_Arquipélago\n",
      "\n",
      "Validation sequences:\n",
      "---------------------\n",
      " 1. Jorge_Amado      (2) --  33325 palavras do meio do livro Dona_flor_seus_dois_maridos\n",
      " 2. Jorge_Amado      (2) --  26899 palavras do meio do livro Gabriela\n",
      " 3. Jorge_Amado      (2) --  15226 palavras do meio do livro Capitães_de_Areia\n",
      " 4. Jorge_Amado      (2) --  32981 palavras do meio do livro Tereza_Batista_Cansada_de_Guerra\n",
      " 5. Machado_de_Assis (0) --  12909 palavras do meio do livro Dom_Casmurro\n",
      " 6. Machado_de_Assis (0) --  14993 palavras do meio do livro Quincas_Borba\n",
      " 7. Machado_de_Assis (0) --  10955 palavras do meio do livro Helena\n",
      " 8. Machado_de_Assis (0) --  11068 palavras do meio do livro Iaiá_Garcia\n",
      " 9. Machado_de_Assis (0) --  14030 palavras do meio do livro Esaú_e_Jacó\n",
      "10. Machado_de_Assis (0) --  11716 palavras do meio do livro Memórias_Póstumas_de_Brás_Cubas\n",
      "11. Machado_de_Assis (0) --  10006 palavras do meio do livro Memorial_de_Aires\n",
      "12. Érico_Veríssimo  (1) --  25869 palavras do meio do livro O_Tempo_e_o_Vento_-_O_Continente\n",
      "13. Érico_Veríssimo  (1) --  28957 palavras do meio do livro Incidente_em_Antares\n",
      "14. Érico_Veríssimo  (1) --   9565 palavras do meio do livro Clarissa\n",
      "15. Érico_Veríssimo  (1) --  23106 palavras do meio do livro O_Tempo_e_o_Vento_-_O_Arquipélago\n",
      "\n",
      "Total number of training words:   1126445\n",
      "Total number of validation words: 281605\n"
     ]
    }
   ],
   "source": [
    "valid_length = [int(0.2 * len(x)) for x in sequences]\n",
    "valid_start = [nr.randint(2000, len(x) - 2000 - n) for x, n in zip(sequences, valid_length)]\n",
    "\n",
    "valid_sequences = [seq[x0:x0+n] for seq, x0, n in zip(sequences, valid_start, valid_length)]\n",
    "\n",
    "train_sequences = [seq[:x0] for seq, x0 in zip(sequences, valid_start)] + \\\n",
    "                  [seq[x0+n:] for seq, x0, n in zip(sequences, valid_start, valid_length)]\n",
    "\n",
    "valid_labels = book_label\n",
    "train_labels = book_label + book_label\n",
    "\n",
    "n_train_words = sum([len(x) for x in train_sequences])\n",
    "n_valid_words = sum([len(x) for x in valid_sequences])\n",
    "\n",
    "print('Training sequences:')\n",
    "print('-------------------')\n",
    "for i, (seq, lab) in enumerate(zip(train_sequences, train_labels)):\n",
    "    if i < n_books:\n",
    "        print('{:2d}. {:16s} ({}) -- {:6d} palavras do início do livro {}'.format(i+1, book_author[i%n_books], lab,\n",
    "                                                                                  len(seq), book_title[i%n_books]))\n",
    "    else:\n",
    "        print('{:2d}. {:16s} ({}) -- {:6d} palavras do final do livro  {}'.format(i+1, book_author[i%n_books], lab,\n",
    "                                                                                  len(seq), book_title[i%n_books]))\n",
    "print()\n",
    "print('Validation sequences:')\n",
    "print('---------------------')\n",
    "for i, (seq, lab) in enumerate(zip(valid_sequences, valid_labels)):\n",
    "    print('{:2d}. {:16s} ({}) -- {:6d} palavras do meio do livro {}'.format(i+1, book_author[i%n_books], lab,\n",
    "                                                                            len(seq), book_title[i%n_books]))\n",
    "print()\n",
    "print('Total number of training words:  ', n_train_words)\n",
    "print('Total number of validation words:', n_valid_words)"
   ]
  },
  {
   "cell_type": "markdown",
   "metadata": {},
   "source": [
    "#### Criando  geradores para treino e validação"
   ]
  },
  {
   "cell_type": "code",
   "execution_count": 11,
   "metadata": {
    "ExecuteTime": {
     "end_time": "2017-12-12T20:00:20.167820Z",
     "start_time": "2017-12-12T20:00:20.137813Z"
    }
   },
   "outputs": [],
   "source": [
    "class MyDataGenerator:\n",
    "    def __init__(self, batch_size, seq_size, sequences, labels):\n",
    "        self.batch_size = batch_size\n",
    "        self.length = seq_size\n",
    "        self.sequences = sequences\n",
    "        self.labels = labels\n",
    "        sizes = np.array([len(seq) for seq in sequences])\n",
    "        self.p = 1.0 * sizes / sizes.sum()        # probabilidade de escolha para cada sequencia\n",
    "        self.n = np.arange(len(sequences))        # indices de cada sequencia (para o choice abaixo)\n",
    "        \n",
    "    def __call__(self):\n",
    "        while True:\n",
    "            batch = np.empty((self.batch_size, self.length), np.int32)\n",
    "            label = np.empty((self.batch_size, n_labels), np.int32)\n",
    "            for i in range(self.batch_size):\n",
    "                k = nr.choice(self.n, p=self.p)\n",
    "                p = nr.randint(0, len(self.sequences[k]) - self.length)\n",
    "                batch[i] = self.sequences[k][p:p+self.length]\n",
    "                label[i] = to_categorical(self.labels[k], num_classes=n_labels)\n",
    "            yield batch, label\n",
    "\n",
    "            \n",
    "train_gen = MyDataGenerator(batch_size, seq_size, train_sequences, train_labels)\n",
    "valid_gen = MyDataGenerator(batch_size, seq_size, valid_sequences, valid_labels)\n"
   ]
  },
  {
   "cell_type": "code",
   "execution_count": 12,
   "metadata": {
    "ExecuteTime": {
     "end_time": "2017-12-12T20:00:20.223618Z",
     "start_time": "2017-12-12T20:00:20.169134Z"
    }
   },
   "outputs": [],
   "source": [
    "import pickle\n",
    "fn = data_dir + 'livros_generators_{}.pkl'.format(seq_size)\n",
    "pickle.dump([train_gen, valid_gen, i2w_vec[:MAX_NB_WORDS]], open(fn, 'wb'))"
   ]
  }
 ],
 "metadata": {
  "kernelspec": {
   "display_name": "Python 3",
   "language": "python",
   "name": "python3"
  },
  "language_info": {
   "codemirror_mode": {
    "name": "ipython",
    "version": 3
   },
   "file_extension": ".py",
   "mimetype": "text/x-python",
   "name": "python",
   "nbconvert_exporter": "python",
   "pygments_lexer": "ipython3",
   "version": "3.6.2"
  },
  "latex_envs": {
   "LaTeX_envs_menu_present": true,
   "autocomplete": true,
   "bibliofile": "biblio.bib",
   "cite_by": "apalike",
   "current_citInitial": 1,
   "eqLabelWithNumbers": true,
   "eqNumInitial": 1,
   "hotkeys": {
    "equation": "Ctrl-E",
    "itemize": "Ctrl-I"
   },
   "labels_anchors": false,
   "latex_user_defs": false,
   "report_style_numbering": false,
   "user_envs_cfg": false
  },
  "toc": {
   "nav_menu": {
    "height": "264px",
    "width": "252px"
   },
   "number_sections": true,
   "sideBar": true,
   "skip_h1_title": false,
   "toc_cell": true,
   "toc_position": {},
   "toc_section_display": "block",
   "toc_window_display": false
  }
 },
 "nbformat": 4,
 "nbformat_minor": 2
}
