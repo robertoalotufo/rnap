{
 "cells": [
  {
   "cell_type": "markdown",
   "metadata": {},
   "source": [
    "# Sistema de Recomendação"
   ]
  },
  {
   "cell_type": "markdown",
   "metadata": {},
   "source": [
    "Este notebook apresenta algumas implementações de sistema de recomendação utilizando\n",
    "o dataset Movielens.\n",
    "Este notebook contém:\n",
    "- Modelo de Sistema de Recomendação utilizando atributos latentes e produto interno\n",
    "- Modelo utilizando atributos latentes concatenados e uma rede neural\n",
    "- Calcula a predição para todos os filmes e usuários que não fizeram suas avaliações\n",
    "- Visualiza a matriz de avaliações por usuários x filmes com todas as predições\n",
    "- Análise do significado dos embeddings"
   ]
  },
  {
   "cell_type": "markdown",
   "metadata": {},
   "source": [
    "Obs: Este notebook foi inspirado em exemplo divulgado pelo curso online disponível em [fast.ai](http://fast.ai)"
   ]
  },
  {
   "cell_type": "markdown",
   "metadata": {},
   "source": [
    "## Importação da bibliotecas"
   ]
  },
  {
   "cell_type": "code",
   "execution_count": 133,
   "metadata": {
    "ExecuteTime": {
     "end_time": "2017-10-01T15:16:30.917794Z",
     "start_time": "2017-10-01T15:16:30.899530Z"
    },
    "collapsed": true
   },
   "outputs": [],
   "source": [
    "%matplotlib inline\n",
    "import matplotlib.pyplot as plt\n",
    "from collections import OrderedDict\n",
    "import numpy as np\n",
    "import os, sys\n",
    "import pandas as pd"
   ]
  },
  {
   "cell_type": "code",
   "execution_count": 134,
   "metadata": {
    "ExecuteTime": {
     "end_time": "2017-10-01T15:16:36.940875Z",
     "start_time": "2017-10-01T15:16:36.935002Z"
    },
    "collapsed": true
   },
   "outputs": [],
   "source": [
    "import torch\n",
    "from torch import nn\n",
    "from torch.autograd import Variable"
   ]
  },
  {
   "cell_type": "code",
   "execution_count": 135,
   "metadata": {
    "ExecuteTime": {
     "end_time": "2017-10-01T15:16:39.989806Z",
     "start_time": "2017-10-01T15:16:39.985634Z"
    },
    "collapsed": true
   },
   "outputs": [],
   "source": [
    "np.set_printoptions(formatter={'float': '{: 0.1f}'.format})\n",
    "\n",
    "# from course libs\n",
    "sys.path.append('./lib')\n",
    "from pytorch_utils import DeepNetTrainer"
   ]
  },
  {
   "cell_type": "code",
   "execution_count": 136,
   "metadata": {
    "ExecuteTime": {
     "end_time": "2017-10-01T15:16:41.203113Z",
     "start_time": "2017-10-01T15:16:41.194064Z"
    }
   },
   "outputs": [
    {
     "name": "stdout",
     "output_type": "stream",
     "text": [
      "The watermark extension is already loaded. To reload it, use:\n",
      "  %reload_ext watermark\n",
      "json        2.0.9\n",
      "numpy       1.13.1\n",
      "pandas      0.20.3\n",
      "torch       0.2.0_4\n",
      "2017-10-01T15:16:41-03:00\n",
      "\n",
      "CPython 3.6.0\n",
      "IPython 5.1.0\n"
     ]
    }
   ],
   "source": [
    "%load_ext watermark\n",
    "%watermark -i -iv -v"
   ]
  },
  {
   "cell_type": "markdown",
   "metadata": {},
   "source": [
    "## Movielens dataset"
   ]
  },
  {
   "cell_type": "markdown",
   "metadata": {},
   "source": [
    "- [Movielens - Readme](http://files.grouplens.org/datasets/movielens/ml-latest-small-README.html)\n",
    "- Movielens - Small data set - 100.000 avaliações:[ml-latest-small.zip](http://files.grouplens.org/datasets/movielens/ml-latest-small.zip)\n",
    "\n",
    "F. Maxwell Harper and Joseph A. Konstan. 2015. The MovieLens Datasets: History and Context. ACM Transactions on Interactive Intelligent Systems (TiiS) 5, 4, Article 19 (December 2015).\n"
   ]
  },
  {
   "cell_type": "markdown",
   "metadata": {},
   "source": [
    "### Leitura dos Dados - Movielens dataset"
   ]
  },
  {
   "cell_type": "markdown",
   "metadata": {},
   "source": [
    "Caso a célula a seguir falhar, é necessário executar o notebook:\n",
    "- [Movielens Dataset](MovieLens_dataset.ipynb) que é responsável por ler o dataset original e\n",
    "prepará-lo para este notebook\n",
    "\n",
    "Este dataset consiste de:\n",
    "- 100.004 avaliações de filmes (amostras), feitas por\n",
    "- 671 usuários, sobre\n",
    "- 9066 filmes\n",
    "\n",
    "As amostras estão no array `ratings` organizados da seguinte forma:\n",
    "- cada linha é uma amostra\n",
    "- coluna 0 é o iD do usuário\n",
    "- coluna 1 é o iD do filme\n",
    "- coluna 2 é a avaliação do usuários entre 0.0 e 5.0"
   ]
  },
  {
   "cell_type": "code",
   "execution_count": 4,
   "metadata": {
    "ExecuteTime": {
     "end_time": "2017-09-30T23:28:18.735906Z",
     "start_time": "2017-09-30T23:28:18.665383Z"
    }
   },
   "outputs": [
    {
     "name": "stdout",
     "output_type": "stream",
     "text": [
      "n_samples: 100004\n",
      "ratings:\n",
      " [[ 0.0  30.0  2.5]\n",
      " [ 0.0  833.0  3.0]\n",
      " [ 0.0  859.0  3.0]\n",
      " [ 0.0  906.0  2.0]\n",
      " [ 0.0  931.0  4.0]]\n"
     ]
    }
   ],
   "source": [
    "data = np.load('../data/movielens_norm.npz')\n",
    "ratings = data['ratings']\n",
    "movie_names = data['movie_names']\n",
    "n_samples = ratings.shape[0]\n",
    "print('n_samples:',n_samples)\n",
    "print('ratings:\\n', ratings[:5])"
   ]
  },
  {
   "cell_type": "code",
   "execution_count": 5,
   "metadata": {
    "ExecuteTime": {
     "end_time": "2017-09-30T23:28:18.744512Z",
     "start_time": "2017-09-30T23:28:18.738049Z"
    }
   },
   "outputs": [
    {
     "name": "stdout",
     "output_type": "stream",
     "text": [
      "Dangerous Minds (1995)\n",
      "Dumbo (1941)\n",
      "Sleepers (1996)\n",
      "Escape from New York (1981)\n",
      "Cinema Paradiso (Nuovo cinema Paradiso) (1989)\n"
     ]
    }
   ],
   "source": [
    "for i in (ratings[:5,1]).astype(np.int):\n",
    "    print(movie_names[i])"
   ]
  },
  {
   "cell_type": "code",
   "execution_count": 6,
   "metadata": {
    "ExecuteTime": {
     "end_time": "2017-09-30T23:28:18.757779Z",
     "start_time": "2017-09-30T23:28:18.747142Z"
    }
   },
   "outputs": [
    {
     "name": "stdout",
     "output_type": "stream",
     "text": [
      "n_users: 671\n",
      "n_movies: 9066\n"
     ]
    }
   ],
   "source": [
    "h_userId = np.bincount(ratings[:,0].astype(np.int))\n",
    "n_users = h_userId.size\n",
    "h_movieId = np.bincount(ratings[:,1].astype(np.int))\n",
    "n_movies = h_movieId.size\n",
    "print('n_users:',n_users)\n",
    "print('n_movies:',n_movies)"
   ]
  },
  {
   "cell_type": "markdown",
   "metadata": {},
   "source": [
    "## Divisão dos dados em treinamento e validação"
   ]
  },
  {
   "cell_type": "code",
   "execution_count": 7,
   "metadata": {
    "ExecuteTime": {
     "end_time": "2017-09-30T23:28:18.766427Z",
     "start_time": "2017-09-30T23:28:18.760234Z"
    },
    "collapsed": true
   },
   "outputs": [],
   "source": [
    "np.random.seed = 42"
   ]
  },
  {
   "cell_type": "markdown",
   "metadata": {},
   "source": [
    "Faz a divisão com 80% das amostras para treinamento e 20% para validação:"
   ]
  },
  {
   "cell_type": "code",
   "execution_count": 8,
   "metadata": {
    "ExecuteTime": {
     "end_time": "2017-09-30T23:28:18.791730Z",
     "start_time": "2017-09-30T23:28:18.769229Z"
    }
   },
   "outputs": [
    {
     "name": "stdout",
     "output_type": "stream",
     "text": [
      "train: 80005  amostras:\n",
      " [[ 0.0  30.0  2.5]\n",
      " [ 0.0  833.0  3.0]\n",
      " [ 0.0  859.0  3.0]\n",
      " [ 0.0  906.0  2.0]\n",
      " [ 0.0  1017.0  2.0]]\n",
      "valid: 19999  amostras:\n",
      " [[ 0.0  931.0  4.0]\n",
      " [ 0.0  1140.0  1.0]\n",
      " [ 0.0  1665.0  4.0]\n",
      " [ 1.0  37.0  5.0]\n",
      " [ 1.0  45.0  4.0]]\n"
     ]
    }
   ],
   "source": [
    "msk = np.random.rand(n_samples) < 0.8\n",
    "train = ratings[msk]\n",
    "valid = ratings[~msk]\n",
    "print('train:',train.shape[0],' amostras:\\n',train[:5])\n",
    "print('valid:',valid.shape[0],' amostras:\\n',valid[:5])"
   ]
  },
  {
   "cell_type": "markdown",
   "metadata": {},
   "source": [
    "`userId` e `movieId` precisam ser inteiros pois são entradas do *Embedding*:"
   ]
  },
  {
   "cell_type": "code",
   "execution_count": 9,
   "metadata": {
    "ExecuteTime": {
     "end_time": "2017-09-30T23:28:18.848597Z",
     "start_time": "2017-09-30T23:28:18.794329Z"
    }
   },
   "outputs": [],
   "source": [
    "train_userId =  torch.LongTensor(train[:,0].astype(np.int))\n",
    "train_movieId = torch.LongTensor(train[:,1].astype(np.int))\n",
    "train_ratings = torch.FloatTensor(train[:,2:3]) # importante que fique bidimensional\n",
    "valid_userId =  torch.LongTensor(valid[:,0].astype(np.int))\n",
    "valid_movieId = torch.LongTensor(valid[:,1].astype(np.int))\n",
    "valid_ratings = torch.FloatTensor(valid[:,2:3]) # importante que fique bidimensional"
   ]
  },
  {
   "cell_type": "markdown",
   "metadata": {},
   "source": [
    "## Definição da classe MLDataset"
   ]
  },
  {
   "cell_type": "code",
   "execution_count": 10,
   "metadata": {
    "ExecuteTime": {
     "end_time": "2017-09-30T23:28:18.876075Z",
     "start_time": "2017-09-30T23:28:18.851336Z"
    }
   },
   "outputs": [],
   "source": [
    "from torch.utils.data import Dataset\n",
    "class MLDataset(Dataset):\n",
    "    \n",
    "    def __init__(self, data_user, data_movie, target):\n",
    "        assert data_user.size(0) == target.size(0) and \\\n",
    "               data_movie.size(0) == target.size(0)\n",
    "        \n",
    "        self.data = torch.transpose(torch.stack( (data_user, data_movie) ),0,1)\n",
    "        self.target = target\n",
    "    \n",
    "    def __len__(self):\n",
    "        return self.target.size(0)\n",
    "    \n",
    "    def __getitem__(self, i):\n",
    "        return (self.data[i], self.target[i])"
   ]
  },
  {
   "cell_type": "markdown",
   "metadata": {},
   "source": [
    "### Criação dos objetos datasets e dataloaders"
   ]
  },
  {
   "cell_type": "code",
   "execution_count": 61,
   "metadata": {
    "ExecuteTime": {
     "end_time": "2017-10-01T00:52:50.432038Z",
     "start_time": "2017-10-01T00:52:50.410395Z"
    }
   },
   "outputs": [
    {
     "name": "stdout",
     "output_type": "stream",
     "text": [
      "{'train': 80005, 'val': 19999}\n"
     ]
    }
   ],
   "source": [
    "datasets = {\n",
    "    'train': MLDataset(train_userId, train_movieId, train_ratings),\n",
    "    'val'  : MLDataset(valid_userId, valid_movieId, valid_ratings)\n",
    "    }\n",
    "\n",
    "dataloaders = {\n",
    "    'train': torch.utils.data.DataLoader(datasets['train'], batch_size=64, shuffle=True, num_workers=0),\n",
    "    'val'  : torch.utils.data.DataLoader(datasets['val'], batch_size=64, shuffle=True, num_workers=0)\n",
    "    }\n",
    "\n",
    "dataset_sizes = {\n",
    "    'train': len(datasets['train']),\n",
    "    'val'  : len(datasets['val'])\n",
    "    }\n",
    "\n",
    "print(dataset_sizes)"
   ]
  },
  {
   "cell_type": "markdown",
   "metadata": {},
   "source": [
    "### Testando os datasets"
   ]
  },
  {
   "cell_type": "code",
   "execution_count": 62,
   "metadata": {
    "ExecuteTime": {
     "end_time": "2017-10-01T00:52:55.570234Z",
     "start_time": "2017-10-01T00:52:55.563096Z"
    }
   },
   "outputs": [
    {
     "name": "stdout",
     "output_type": "stream",
     "text": [
      "\n",
      "   0  906\n",
      "[torch.LongTensor of size 1x2]\n",
      "\n",
      "\n",
      " 2\n",
      "[torch.FloatTensor of size 1x1]\n",
      "\n"
     ]
    }
   ],
   "source": [
    "x, y = datasets['train'][3:4]\n",
    "print(x)\n",
    "print(y)"
   ]
  },
  {
   "cell_type": "markdown",
   "metadata": {},
   "source": [
    "### Testando os dataloaders"
   ]
  },
  {
   "cell_type": "code",
   "execution_count": 63,
   "metadata": {
    "ExecuteTime": {
     "end_time": "2017-10-01T00:52:57.199850Z",
     "start_time": "2017-10-01T00:52:57.184118Z"
    },
    "scrolled": false
   },
   "outputs": [
    {
     "name": "stdout",
     "output_type": "stream",
     "text": [
      "20032\n",
      "0 64 64\n",
      "1 64 64\n",
      "2 64 64\n"
     ]
    }
   ],
   "source": [
    "batch_size = 64\n",
    "print( len(dataloaders['val']) * batch_size ) # verificando mini-batches\n",
    "for k,data in enumerate(dataloaders['val']):\n",
    "    print(k, len(data[0]), len(data[1]))\n",
    "    if k > 1: break"
   ]
  },
  {
   "cell_type": "markdown",
   "metadata": {
    "collapsed": true
   },
   "source": [
    "## Primeira solução - usando produto interno: Dot"
   ]
  },
  {
   "cell_type": "markdown",
   "metadata": {},
   "source": [
    "<img src='../figures/Recomendacao_dot.png', width=600ptx></img>"
   ]
  },
  {
   "cell_type": "markdown",
   "metadata": {},
   "source": [
    "O primeiro modelo é o produto interno entre os atributos latentes dos usuários e dos filmes.\n",
    "Este produto interno é implementado pela operação `dot` do Keras. Como o modelo agora não é\n",
    "sequencial, há necessidade de utilizarmos o modelo API:"
   ]
  },
  {
   "cell_type": "code",
   "execution_count": 101,
   "metadata": {
    "ExecuteTime": {
     "end_time": "2017-10-01T13:41:31.515315Z",
     "start_time": "2017-10-01T13:41:31.500369Z"
    },
    "collapsed": true
   },
   "outputs": [],
   "source": [
    "class DotNet(nn.Module):\n",
    "    def __init__(self, n_users, n_movies, n_attributes):\n",
    "        \"\"\"\n",
    "        No construtor, criamos as duas embeddings, uma para os usuários e \n",
    "        outra para os filmes.\n",
    "        \"\"\"\n",
    "        super(DotNet, self).__init__()\n",
    "        self.user_emb  = nn.Embedding(n_users, n_attributes)\n",
    "        nn.init.xavier_uniform(self.user_emb.weight)\n",
    "        self.movie_emb = nn.Embedding(n_movies, n_attributes)\n",
    "        nn.init.xavier_uniform(self.movie_emb.weight)\n",
    "\n",
    "    def forward(self, x):\n",
    "        \"\"\"\n",
    "        x: (user_id, movie_id)\n",
    "        \"\"\"\n",
    "        user_id  = x[:,0]\n",
    "        movie_id = x[:,1]\n",
    "        user_attr  = self.user_emb(user_id)\n",
    "        movie_attr = self.movie_emb(movie_id)\n",
    "        y_pred = (user_attr * movie_attr).sum(1)\n",
    "        return y_pred\n"
   ]
  },
  {
   "cell_type": "markdown",
   "metadata": {},
   "source": [
    "### Instanciando a rede"
   ]
  },
  {
   "cell_type": "code",
   "execution_count": 102,
   "metadata": {
    "ExecuteTime": {
     "end_time": "2017-10-01T13:41:33.333627Z",
     "start_time": "2017-10-01T13:41:33.292979Z"
    }
   },
   "outputs": [
    {
     "data": {
      "text/plain": [
       "DotNet (\n",
       "  (user_emb): Embedding(671, 50)\n",
       "  (movie_emb): Embedding(9066, 50)\n",
       ")"
      ]
     },
     "execution_count": 102,
     "metadata": {},
     "output_type": "execute_result"
    }
   ],
   "source": [
    "n_factors = 50\n",
    "model_dot = DotNet(n_users, n_movies, n_factors)\n",
    "model_dot"
   ]
  },
  {
   "cell_type": "markdown",
   "metadata": {},
   "source": [
    "### Testando o predict e o loss da rede com poucos dados e sem treinar"
   ]
  },
  {
   "cell_type": "code",
   "execution_count": 103,
   "metadata": {
    "ExecuteTime": {
     "end_time": "2017-10-01T13:42:00.964298Z",
     "start_time": "2017-10-01T13:42:00.952134Z"
    }
   },
   "outputs": [
    {
     "name": "stdout",
     "output_type": "stream",
     "text": [
      "\n",
      "   0   30\n",
      "   0  833\n",
      "   0  859\n",
      "[torch.LongTensor of size 3x2]\n",
      "\n",
      "Variable containing:\n",
      "1.00000e-02 *\n",
      " -0.1064\n",
      " -0.4248\n",
      " -1.2265\n",
      "[torch.FloatTensor of size 3]\n",
      "\n",
      "Variable containing:\n",
      " 8.1182\n",
      "[torch.FloatTensor of size 1]\n",
      "\n"
     ]
    }
   ],
   "source": [
    "criterion = nn.MSELoss(size_average=True)\n",
    "data_um = torch.transpose(torch.stack( (train_userId[0:3],train_movieId[0:3]) ),1,0)\n",
    "print(data_um)\n",
    "y_pred = model_dot(Variable(data_um))\n",
    "print(y_pred)\n",
    "loss = criterion(y_pred, Variable(train_ratings[0:3]))\n",
    "print(loss)"
   ]
  },
  {
   "cell_type": "markdown",
   "metadata": {},
   "source": [
    "### Testando o predict e loss com dataset"
   ]
  },
  {
   "cell_type": "code",
   "execution_count": 104,
   "metadata": {
    "ExecuteTime": {
     "end_time": "2017-10-01T13:42:20.442885Z",
     "start_time": "2017-10-01T13:42:20.433984Z"
    }
   },
   "outputs": [
    {
     "name": "stdout",
     "output_type": "stream",
     "text": [
      "\n",
      "   0  906\n",
      "[torch.LongTensor of size 1x2]\n",
      "\n",
      "\n",
      " 2\n",
      "[torch.FloatTensor of size 1x1]\n",
      "\n",
      "Variable containing:\n",
      "1.00000e-03 *\n",
      " -1.7725\n",
      "[torch.FloatTensor of size 1]\n",
      "\n",
      "Variable containing:\n",
      " 4.0071\n",
      "[torch.FloatTensor of size 1]\n",
      "\n"
     ]
    }
   ],
   "source": [
    "x,y = datasets['train'][3:4]\n",
    "print(x)\n",
    "print(y)\n",
    "y_pred = model_dot(Variable(x))\n",
    "print(y_pred)\n",
    "loss = criterion(y_pred, Variable(y))\n",
    "print(loss)"
   ]
  },
  {
   "cell_type": "markdown",
   "metadata": {},
   "source": [
    "### Testando o predict e o dataset"
   ]
  },
  {
   "cell_type": "markdown",
   "metadata": {},
   "source": [
    "### Treinando a rede"
   ]
  },
  {
   "cell_type": "markdown",
   "metadata": {},
   "source": [
    "Verificando se um pequeno conjunto de dados consegue treinar a rede"
   ]
  },
  {
   "cell_type": "code",
   "execution_count": 173,
   "metadata": {
    "ExecuteTime": {
     "end_time": "2017-10-01T15:58:10.910435Z",
     "start_time": "2017-10-01T15:58:10.862805Z"
    }
   },
   "outputs": [
    {
     "name": "stdout",
     "output_type": "stream",
     "text": [
      "0 0.5121944546699524\n",
      "1 0.4918783903121948\n",
      "2 0.47250130772590637\n",
      "3 0.4540085792541504\n",
      "4 0.43636298179626465\n"
     ]
    }
   ],
   "source": [
    "batch_size = 64\n",
    "optimizer = torch.optim.Adam(model_dot.parameters())\n",
    "for t in range(5):\n",
    "    # Forward pass: Compute predicted y by passing x to the model\n",
    "    data_um = torch.transpose(torch.stack( (train_userId[0:batch_size],\n",
    "                                            train_movieId[0:batch_size]) ),0,1)\n",
    "\n",
    "    y_pred = model_dot((Variable(data_um)))\n",
    "\n",
    "    # Compute and print loss\n",
    "    loss = criterion(y_pred, Variable(train_ratings[:batch_size]))\n",
    "    print(t, loss.data[0])\n",
    "\n",
    "    # Zero gradients, perform a backward pass, and update the weights.\n",
    "    optimizer.zero_grad()\n",
    "    loss.backward()\n",
    "    optimizer.step()"
   ]
  },
  {
   "cell_type": "code",
   "execution_count": 106,
   "metadata": {
    "ExecuteTime": {
     "end_time": "2017-10-01T13:42:56.068880Z",
     "start_time": "2017-10-01T13:42:54.594765Z"
    }
   },
   "outputs": [
    {
     "data": {
      "text/plain": [
       "0.0002626609645765835"
      ]
     },
     "execution_count": 106,
     "metadata": {},
     "output_type": "execute_result"
    }
   ],
   "source": [
    "a = torch.pow(y_pred.data - train_ratings[:batch_size],2).mean()\n",
    "a = torch.pow(y_pred.data ,2).mean()\n",
    "a"
   ]
  },
  {
   "cell_type": "code",
   "execution_count": 171,
   "metadata": {
    "ExecuteTime": {
     "end_time": "2017-10-01T15:57:25.413676Z",
     "start_time": "2017-10-01T15:57:25.402032Z"
    }
   },
   "outputs": [
    {
     "name": "stdout",
     "output_type": "stream",
     "text": [
      "Model loaded from ../../models/Recomendacao_dot.model\n"
     ]
    }
   ],
   "source": [
    "trainer = DeepNetTrainer(\n",
    "    file_basename='../../models/Recomendacao_dot', \n",
    "    model=        model_dot, \n",
    "    criterion=    nn.MSELoss(), \n",
    "    optimizer=    torch.optim.Adam(model_dot.parameters()), \n",
    "    reset=False)"
   ]
  },
  {
   "cell_type": "code",
   "execution_count": 172,
   "metadata": {
    "ExecuteTime": {
     "end_time": "2017-10-01T15:58:00.228923Z",
     "start_time": "2017-10-01T15:57:28.431496Z"
    },
    "scrolled": false
   },
   "outputs": [
    {
     "name": "stdout",
     "output_type": "stream",
     "text": [
      "Starting training for 20 epochs\n",
      "\n",
      "  6:   0.0s   T: 0.61847   V: 1.27346 best\n",
      "  7:  10.0s   T: 0.55236   V: 1.27496 \n",
      "  8:  17.7s   T: 0.49996   V: 1.28211 \n",
      "Interrupted!!\n",
      "\n",
      "Model from epoch 6 saved as \"../../models/Recomendacao_dot.*\", loss = 1.27346\n"
     ]
    }
   ],
   "source": [
    "trainer.fit(n_epochs=20, \n",
    "            train_data = dataloaders['train'], \n",
    "            valid_data = dataloaders['val'])"
   ]
  },
  {
   "cell_type": "markdown",
   "metadata": {},
   "source": [
    "### Avaliando a rede"
   ]
  },
  {
   "cell_type": "code",
   "execution_count": 114,
   "metadata": {
    "ExecuteTime": {
     "end_time": "2017-10-01T14:03:43.864792Z",
     "start_time": "2017-10-01T14:03:43.462586Z"
    }
   },
   "outputs": [
    {
     "name": "stdout",
     "output_type": "stream",
     "text": [
      "predict: 312 ok\n"
     ]
    }
   ],
   "source": [
    "y_pred = trainer.predict(dataloaders['val'])"
   ]
  },
  {
   "cell_type": "code",
   "execution_count": 115,
   "metadata": {
    "ExecuteTime": {
     "end_time": "2017-10-01T14:03:50.648513Z",
     "start_time": "2017-10-01T14:03:47.468770Z"
    }
   },
   "outputs": [
    {
     "data": {
      "text/plain": [
       "2.1299069"
      ]
     },
     "execution_count": 115,
     "metadata": {},
     "output_type": "execute_result"
    }
   ],
   "source": [
    "a = ((y_pred.numpy() - valid_ratings.numpy())**2).mean()\n",
    "a"
   ]
  },
  {
   "cell_type": "code",
   "execution_count": 116,
   "metadata": {
    "ExecuteTime": {
     "end_time": "2017-10-01T14:04:28.357315Z",
     "start_time": "2017-10-01T14:04:28.343939Z"
    },
    "collapsed": true
   },
   "outputs": [],
   "source": [
    "w_dict = torch.load('../../models/Recomendacao_dot.model')"
   ]
  },
  {
   "cell_type": "code",
   "execution_count": 110,
   "metadata": {
    "ExecuteTime": {
     "end_time": "2017-10-01T13:55:42.155428Z",
     "start_time": "2017-10-01T13:55:42.152050Z"
    },
    "collapsed": true
   },
   "outputs": [],
   "source": [
    "w_dict = model_dot.state_dict()"
   ]
  },
  {
   "cell_type": "code",
   "execution_count": 118,
   "metadata": {
    "ExecuteTime": {
     "end_time": "2017-10-01T14:04:56.684344Z",
     "start_time": "2017-10-01T14:04:56.388370Z"
    }
   },
   "outputs": [
    {
     "name": "stdout",
     "output_type": "stream",
     "text": [
      "-1.646892786026001 1.6257662773132324 -0.038306569798442505 0.44894354351702215\n",
      "-0.556715190410614 0.5065192580223083 -0.011093761007519281 0.14362108206893034\n"
     ]
    },
    {
     "data": {
      "image/png": "[encoded data removed]",
      "text/plain": [
       "<matplotlib.figure.Figure at 0x11eb88c18>"
      ]
     },
     "metadata": {},
     "output_type": "display_data"
    }
   ],
   "source": [
    "w_user = w_dict['user_emb.weight']\n",
    "w_movie= w_dict['movie_emb.weight']\n",
    "print(w_user.min(), w_user.max(), w_user.mean(),w_user.std())\n",
    "print(w_movie.min(), w_movie.max(), w_movie.mean(),w_movie.std())\n",
    "plt.hist(w_user.numpy().ravel());"
   ]
  },
  {
   "cell_type": "code",
   "execution_count": 68,
   "metadata": {
    "ExecuteTime": {
     "end_time": "2017-10-01T09:51:42.760826Z",
     "start_time": "2017-10-01T09:51:42.755585Z"
    }
   },
   "outputs": [
    {
     "name": "stdout",
     "output_type": "stream",
     "text": [
      "  0:   0.0s   T: 0.01000   V: 2.34504 best\n"
     ]
    }
   ],
   "source": [
    "trainer.print_losses(0)"
   ]
  },
  {
   "cell_type": "markdown",
   "metadata": {},
   "source": [
    "Os bons modelos [best benchmarks](http://www.librec.net/example.html) são próximos de 0.9, há necessidade de melhorias."
   ]
  },
  {
   "cell_type": "markdown",
   "metadata": {},
   "source": [
    "### Predição de usuário e filme"
   ]
  },
  {
   "cell_type": "markdown",
   "metadata": {},
   "source": [
    "Para calcular qualquer predição de qualquer usuário e qualquer filme, usa-se o `predict` do modelo treinado:"
   ]
  },
  {
   "cell_type": "code",
   "execution_count": 121,
   "metadata": {
    "ExecuteTime": {
     "end_time": "2017-10-01T14:06:06.723088Z",
     "start_time": "2017-10-01T14:06:06.706358Z"
    }
   },
   "outputs": [
    {
     "ename": "ValueError",
     "evalue": "not enough values to unpack (expected 2, got 1)",
     "output_type": "error",
     "traceback": [
      "\u001b[0;31m---------------------------------------------------------------------------\u001b[0m",
      "\u001b[0;31mValueError\u001b[0m                                Traceback (most recent call last)",
      "\u001b[0;32m<ipython-input-121-8872389f7e78>\u001b[0m in \u001b[0;36m<module>\u001b[0;34m()\u001b[0m\n\u001b[0;32m----> 1\u001b[0;31m \u001b[0mtrainer\u001b[0m\u001b[0;34m.\u001b[0m\u001b[0mpredict\u001b[0m\u001b[0;34m(\u001b[0m\u001b[0;34m[\u001b[0m\u001b[0mnp\u001b[0m\u001b[0;34m.\u001b[0m\u001b[0marray\u001b[0m\u001b[0;34m(\u001b[0m\u001b[0;34m[\u001b[0m\u001b[0;36m3\u001b[0m\u001b[0;34m]\u001b[0m\u001b[0;34m)\u001b[0m\u001b[0;34m,\u001b[0m \u001b[0mnp\u001b[0m\u001b[0;34m.\u001b[0m\u001b[0marray\u001b[0m\u001b[0;34m(\u001b[0m\u001b[0;34m[\u001b[0m\u001b[0;36m6\u001b[0m\u001b[0;34m]\u001b[0m\u001b[0;34m)\u001b[0m\u001b[0;34m]\u001b[0m\u001b[0;34m)\u001b[0m\u001b[0;34m\u001b[0m\u001b[0m\n\u001b[0m",
      "\u001b[0;32m/Users/robertoalotufo/mylocalprojects/rnap/PyTorch/lib/pytorch_utils.py\u001b[0m in \u001b[0;36mpredict\u001b[0;34m(self, data_loader)\u001b[0m\n\u001b[1;32m    147\u001b[0m         \u001b[0;32mtry\u001b[0m\u001b[0;34m:\u001b[0m\u001b[0;34m\u001b[0m\u001b[0m\n\u001b[1;32m    148\u001b[0m             \u001b[0mself\u001b[0m\u001b[0;34m.\u001b[0m\u001b[0mmodel\u001b[0m\u001b[0;34m.\u001b[0m\u001b[0mtrain\u001b[0m\u001b[0;34m(\u001b[0m\u001b[0;32mFalse\u001b[0m\u001b[0;34m)\u001b[0m  \u001b[0;31m# Set model to evaluate mode\u001b[0m\u001b[0;34m\u001b[0m\u001b[0m\n\u001b[0;32m--> 149\u001b[0;31m             \u001b[0;32mfor\u001b[0m \u001b[0mii\u001b[0m\u001b[0;34m,\u001b[0m \u001b[0;34m(\u001b[0m\u001b[0mimage\u001b[0m\u001b[0;34m,\u001b[0m \u001b[0mlabels\u001b[0m\u001b[0;34m)\u001b[0m \u001b[0;32min\u001b[0m \u001b[0menumerate\u001b[0m\u001b[0;34m(\u001b[0m\u001b[0mdata_loader\u001b[0m\u001b[0;34m)\u001b[0m\u001b[0;34m:\u001b[0m\u001b[0;34m\u001b[0m\u001b[0m\n\u001b[0m\u001b[1;32m    150\u001b[0m                 \u001b[0;32mif\u001b[0m \u001b[0muse_gpu\u001b[0m\u001b[0;34m:\u001b[0m\u001b[0;34m\u001b[0m\u001b[0m\n\u001b[1;32m    151\u001b[0m                     \u001b[0mimage\u001b[0m \u001b[0;34m=\u001b[0m \u001b[0mVariable\u001b[0m\u001b[0;34m(\u001b[0m\u001b[0mimage\u001b[0m\u001b[0;34m.\u001b[0m\u001b[0mcuda\u001b[0m\u001b[0;34m(\u001b[0m\u001b[0;34m)\u001b[0m\u001b[0;34m)\u001b[0m\u001b[0;34m\u001b[0m\u001b[0m\n",
      "\u001b[0;31mValueError\u001b[0m: not enough values to unpack (expected 2, got 1)"
     ]
    }
   ],
   "source": [
    "trainer.predict([np.array([3]), np.array([6])])"
   ]
  },
  {
   "cell_type": "markdown",
   "metadata": {},
   "source": [
    "##  Usado Rede Neural"
   ]
  },
  {
   "cell_type": "markdown",
   "metadata": {},
   "source": [
    "<img src='../figures/Recomendacao_NN.png', width=600ptx></img>"
   ]
  },
  {
   "cell_type": "markdown",
   "metadata": {},
   "source": [
    "Uma solução usando rede neural é concatenar a saída dos embeddings e em seguida colocar uma camada densa\n",
    "antes da última camada de um neurônio. No exemplo a seguir foi utilizado uma camada de 70 neurônios."
   ]
  },
  {
   "cell_type": "code",
   "execution_count": 161,
   "metadata": {
    "ExecuteTime": {
     "end_time": "2017-10-01T15:37:28.618371Z",
     "start_time": "2017-10-01T15:37:28.553504Z"
    }
   },
   "outputs": [],
   "source": [
    "class RecommendNet(nn.Module):\n",
    "    def __init__(self, n_users, n_movies, n_attributes):\n",
    "        \"\"\"\n",
    "        No construtor, criamos as duas embeddings, uma para os usuários e \n",
    "        outra para os filmes e duas densas.\n",
    "        \"\"\"\n",
    "        super(RecommendNet, self).__init__()\n",
    "        self.user_emb  = nn.Embedding(n_users, n_attributes)\n",
    "        nn.init.xavier_uniform(self.user_emb.weight)\n",
    "        self.movie_emb = nn.Embedding(n_movies, n_attributes)\n",
    "        nn.init.xavier_uniform(self.movie_emb.weight)\n",
    "        self.dense1 = nn.Linear(2*n_attributes, 70)\n",
    "        nn.init.xavier_uniform(self.dense1.weight, gain=nn.init.calculate_gain('relu'))\n",
    "        self.dense2 = nn.Linear(70,1)\n",
    "        nn.init.xavier_uniform(self.dense2.weight, gain=nn.init.calculate_gain('relu'))\n",
    "\n",
    "    def forward(self, x):\n",
    "        \"\"\"\n",
    "        x: (user_id, movie_id)\n",
    "        \"\"\"\n",
    "        user_id  = x[:,0]\n",
    "        movie_id = x[:,1]\n",
    "        user_attr  = self.user_emb(user_id)\n",
    "        movie_attr = self.movie_emb(movie_id)\n",
    "        x1 = torch.cat((user_attr,movie_attr),dim=1)\n",
    "        x2 = nn.functional.dropout(x1,0.3)\n",
    "        x3 = nn.functional.relu(self.dense1(x2))\n",
    "        x4 = nn.functional.dropout(x3,0.75)\n",
    "        y_pred = self.dense2(x4)\n",
    "        return y_pred\n",
    "    \n",
    "    # Método auxiliar para depuração, para mostrar a saída de cada parte da rede\n",
    "    def modules_output(self, x):\n",
    "        output = OrderedDict()        \n",
    "\n",
    "        user_id  = x[:,0]\n",
    "        movie_id = x[:,1]\n",
    "        user_attr  = self.user_emb(user_id)\n",
    "        movie_attr = self.movie_emb(movie_id)\n",
    "        x0 = torch.cat((user_attr,movie_attr),dim=1)\n",
    "        output['x0'] = x0\n",
    "        x1 = x0\n",
    "        output['x1'] = x1\n",
    "        x2 = nn.functional.dropout(x1,0.3)\n",
    "        output['x2'] = x2\n",
    "        x3 = nn.functional.relu(self.dense1(x2))\n",
    "        output['x3'] = x3\n",
    "        x4 = nn.functional.dropout(x3,0.75)\n",
    "        output['x4'] = x4\n",
    "        y_pred = self.dense2(x4)\n",
    "        output['y_pred'] = y_pred\n",
    "        \n",
    "        return output"
   ]
  },
  {
   "cell_type": "code",
   "execution_count": 162,
   "metadata": {
    "ExecuteTime": {
     "end_time": "2017-10-01T15:37:31.624807Z",
     "start_time": "2017-10-01T15:37:31.582792Z"
    }
   },
   "outputs": [
    {
     "data": {
      "text/plain": [
       "RecommendNet (\n",
       "  (user_emb): Embedding(671, 50)\n",
       "  (movie_emb): Embedding(9066, 50)\n",
       "  (dense1): Linear (100 -> 70)\n",
       "  (dense2): Linear (70 -> 1)\n",
       ")"
      ]
     },
     "execution_count": 162,
     "metadata": {},
     "output_type": "execute_result"
    }
   ],
   "source": [
    "model_net = RecommendNet(n_users, n_movies, n_factors)\n",
    "model_net"
   ]
  },
  {
   "cell_type": "markdown",
   "metadata": {},
   "source": [
    "### Testando o predict da rede com uma amostra"
   ]
  },
  {
   "cell_type": "code",
   "execution_count": 170,
   "metadata": {
    "ExecuteTime": {
     "end_time": "2017-10-01T15:53:42.230131Z",
     "start_time": "2017-10-01T15:53:42.218785Z"
    }
   },
   "outputs": [
    {
     "name": "stdout",
     "output_type": "stream",
     "text": [
      "\n",
      "  0  30\n",
      "[torch.LongTensor of size 1x2]\n",
      "\n",
      "Variable containing:\n",
      " 1.8143\n",
      "[torch.FloatTensor of size 1x1]\n",
      " \n",
      " 2.5000\n",
      "[torch.FloatTensor of size 1x1]\n",
      "\n",
      "Variable containing:\n",
      " 0.4702\n",
      "[torch.FloatTensor of size 1]\n",
      "\n"
     ]
    }
   ],
   "source": [
    "data_um = torch.transpose(torch.stack( (train_userId[0:1],train_movieId[0:1]) ),1,0)\n",
    "print(data_um)\n",
    "y_pred = model_net(Variable(data_um))\n",
    "print(y_pred, train_ratings[0:1])\n",
    "loss = criterion(y_pred, Variable(train_ratings[0:1]))\n",
    "print(loss)"
   ]
  },
  {
   "cell_type": "code",
   "execution_count": 164,
   "metadata": {
    "ExecuteTime": {
     "end_time": "2017-10-01T15:38:05.481939Z",
     "start_time": "2017-10-01T15:38:05.472475Z"
    }
   },
   "outputs": [
    {
     "name": "stdout",
     "output_type": "stream",
     "text": [
      "x0 [-0.0  0.1  0.0 -0.1  0.1  0.1 -0.1  0.1  0.0  0.1  0.0 -0.1  0.0 -0.1] (1, 100)\n",
      "x1 [-0.0  0.1  0.0 -0.1  0.1  0.1 -0.1  0.1  0.0  0.1  0.0 -0.1  0.0 -0.1] (1, 100)\n",
      "x2 [-0.0  0.1  0.0 -0.1  0.1  0.1 -0.1  0.1  0.0  0.1  0.0 -0.1  0.0 -0.1] (1, 100)\n",
      "x3 [ 0.0  0.0  0.1  0.1  0.0  0.1  0.1  0.0  0.0  0.0  0.0  0.0  0.0  0.0] (1, 70)\n",
      "x4 [ 0.0  0.0  0.1  0.1  0.0  0.1  0.1  0.0  0.0  0.0  0.0  0.0  0.0  0.0] (1, 70)\n",
      "y_pred [-0.1] (1, 1)\n"
     ]
    }
   ],
   "source": [
    "output = model_net.modules_output(Variable(data_um))\n",
    "for layer in ['x0','x1','x2','x3','x4','y_pred']:\n",
    "    print(layer,output[layer].data.numpy()[0,:14],output[layer].data.numpy().shape)\n"
   ]
  },
  {
   "cell_type": "code",
   "execution_count": 167,
   "metadata": {
    "ExecuteTime": {
     "end_time": "2017-10-01T15:47:23.777544Z",
     "start_time": "2017-10-01T15:47:23.771081Z"
    },
    "collapsed": true
   },
   "outputs": [],
   "source": [
    "trainer_net = DeepNetTrainer(\n",
    "    file_basename= '../../models/Recomendacao_net', \n",
    "    model=         model_net, \n",
    "    criterion=     nn.MSELoss(), \n",
    "    optimizer=     torch.optim.Adam(model_net.parameters()), \n",
    "    reset=         True)"
   ]
  },
  {
   "cell_type": "code",
   "execution_count": 168,
   "metadata": {
    "ExecuteTime": {
     "end_time": "2017-10-01T15:49:13.673168Z",
     "start_time": "2017-10-01T15:47:26.161445Z"
    }
   },
   "outputs": [
    {
     "name": "stdout",
     "output_type": "stream",
     "text": [
      "Starting training for 20 epochs\n",
      "\n",
      "  1:  11.1s   T: 1.46950   V: 0.81898 best\n",
      "  2:  18.8s   T: 0.75725   V: 0.79574 best\n",
      "  3:  19.9s   T: 0.70316   V: 0.79452 best\n",
      "  4:  20.0s   T: 0.65484   V: 0.79428 best\n",
      "  5:  20.1s   T: 0.60328   V: 0.80472 \n",
      "Interrupted!!\n",
      "\n",
      "Model from epoch 4 saved as \"../../models/Recomendacao_net.*\", loss = 0.79428\n"
     ]
    }
   ],
   "source": [
    "trainer_net.fit(n_epochs=20, \n",
    "            train_data = dataloaders['train'], \n",
    "            valid_data = dataloaders['val'])"
   ]
  },
  {
   "cell_type": "markdown",
   "metadata": {},
   "source": [
    "### Avaliando a rede"
   ]
  },
  {
   "cell_type": "code",
   "execution_count": null,
   "metadata": {
    "ExecuteTime": {
     "end_time": "2017-09-30T23:28:27.533382Z",
     "start_time": "2017-10-01T02:28:16.786Z"
    }
   },
   "outputs": [],
   "source": []
  },
  {
   "cell_type": "code",
   "execution_count": null,
   "metadata": {
    "ExecuteTime": {
     "end_time": "2017-09-30T23:28:27.533648Z",
     "start_time": "2017-10-01T02:28:16.791Z"
    }
   },
   "outputs": [],
   "source": []
  },
  {
   "cell_type": "markdown",
   "metadata": {},
   "source": [
    "Com esta rede, a perda já é bem melhor, comparável com os melhores sistemas de recomendação."
   ]
  },
  {
   "cell_type": "markdown",
   "metadata": {},
   "source": [
    "## Matriz de recomendações, por usuário e por filme"
   ]
  },
  {
   "cell_type": "markdown",
   "metadata": {},
   "source": [
    "O sistema de recomendação pode ser visualizado por uma matriz onde as linhas sejam os\n",
    "IDs dos usuários e as colunas sejam os IDs dos títulos dos filmes. Colocamos como -1\n",
    "os elementos em que não existem avaliações. Esta matriz é bastante esparsa, pois existem\n",
    "normalmente poucas avaliações feitas."
   ]
  },
  {
   "cell_type": "code",
   "execution_count": 174,
   "metadata": {
    "ExecuteTime": {
     "end_time": "2017-10-01T15:59:29.792024Z",
     "start_time": "2017-10-01T15:59:29.735659Z"
    }
   },
   "outputs": [
    {
     "name": "stdout",
     "output_type": "stream",
     "text": [
      "(671, 9066)\n"
     ]
    }
   ],
   "source": [
    "grid_ratings = -1. * np.ones((n_users,n_movies))\n",
    "uId = (ratings[:,0]).astype(np.int)\n",
    "mId = (ratings[:,1]).astype(np.int)\n",
    "grid_ratings[uId,mId] = ratings[:,2] # Criação da matriz\n",
    "print(grid_ratings.shape)"
   ]
  },
  {
   "cell_type": "markdown",
   "metadata": {},
   "source": [
    "### Visualização da matriz de recomendações, original"
   ]
  },
  {
   "cell_type": "code",
   "execution_count": 175,
   "metadata": {
    "ExecuteTime": {
     "end_time": "2017-10-01T15:59:37.683790Z",
     "start_time": "2017-10-01T15:59:36.993837Z"
    }
   },
   "outputs": [
    {
     "data": {
      "image/png": "[encoded data removed]",
      "text/plain": [
       "<matplotlib.figure.Figure at 0x11dda4dd8>"
      ]
     },
     "metadata": {},
     "output_type": "display_data"
    }
   ],
   "source": [
    "show_ratings = np.zeros((n_users,n_movies,3))\n",
    "show_ratings[:,:,0] = np.where(grid_ratings == -1., 5, grid_ratings)\n",
    "show_ratings[:,:,1] = np.where(grid_ratings == -1., 0., grid_ratings)\n",
    "show_ratings[:,:,2] = np.where(grid_ratings == -1., 0., grid_ratings)\n",
    "\n",
    "\n",
    "import matplotlib.pyplot as plt\n",
    "plt.figure(figsize=(7,7))\n",
    "plt.title('usuários (linhas) x filmes (colunas)')\n",
    "plt.imshow(show_ratings[:150,:150,:])\n",
    "plt.xlabel('filmes')\n",
    "plt.ylabel('usuários')\n",
    "plt.show()"
   ]
  },
  {
   "cell_type": "markdown",
   "metadata": {},
   "source": [
    "## Predições para todos os usuários e filmes"
   ]
  },
  {
   "cell_type": "code",
   "execution_count": null,
   "metadata": {
    "ExecuteTime": {
     "end_time": "2017-09-30T23:28:27.534718Z",
     "start_time": "2017-10-01T02:28:16.811Z"
    }
   },
   "outputs": [],
   "source": [
    "n2p_user,n2p_movie = np.nonzero(grid_ratings==-1)\n",
    "recommend = model_nn.predict([n2p_user, n2p_movie])"
   ]
  },
  {
   "cell_type": "markdown",
   "metadata": {},
   "source": [
    "### Montagem da matriz de recomendação \"cheia\""
   ]
  },
  {
   "cell_type": "code",
   "execution_count": null,
   "metadata": {
    "ExecuteTime": {
     "end_time": "2017-09-30T23:28:27.535015Z",
     "start_time": "2017-10-01T02:28:16.816Z"
    }
   },
   "outputs": [],
   "source": [
    "gg = grid_ratings.copy()\n",
    "gg[n2p_user,n2p_movie] = recommend[:,0]\n",
    "\n",
    "plt.figure(figsize=(8,8))\n",
    "plt.title('usuários (linhas) x filmes (colunas)')\n",
    "plt.xlabel('usuarios')\n",
    "plt.ylabel('filmes')\n",
    "plt.imshow(gg[:150,:150],cmap='gray')\n",
    "plt.show()"
   ]
  },
  {
   "cell_type": "markdown",
   "metadata": {},
   "source": [
    "### Visualização de uma parte da matriz"
   ]
  },
  {
   "cell_type": "code",
   "execution_count": null,
   "metadata": {
    "ExecuteTime": {
     "end_time": "2017-09-30T23:28:27.535433Z",
     "start_time": "2017-10-01T02:28:16.822Z"
    }
   },
   "outputs": [],
   "source": [
    "plt.figure(figsize=(8,8))\n",
    "plt.imshow(show_ratings[:150,:150,:])"
   ]
  },
  {
   "cell_type": "markdown",
   "metadata": {},
   "source": [
    "### Visualização da parte de usuários mais ativos e filmes mais populares"
   ]
  },
  {
   "cell_type": "code",
   "execution_count": null,
   "metadata": {
    "ExecuteTime": {
     "end_time": "2017-09-30T23:28:27.535935Z",
     "start_time": "2017-10-01T02:28:16.827Z"
    }
   },
   "outputs": [],
   "source": [
    "io_popular_movies = np.argsort(h_movieId)[::-1]\n",
    "io_top_users = np.argsort(h_userId)[::-1].astype(np.int)\n",
    "gg_ord = gg[np.ix_(io_top_users,io_popular_movies)]\n",
    "plt.figure(figsize=(7,7))\n",
    "plt.title('usuários (linhas) x filmes (colunas)')\n",
    "plt.imshow(gg_ord[:150,:150],cmap='gray')\n",
    "plt.show()"
   ]
  },
  {
   "cell_type": "markdown",
   "metadata": {},
   "source": [
    "### Visualização dos usuários menos ativos e filmes menos avaliados"
   ]
  },
  {
   "cell_type": "code",
   "execution_count": null,
   "metadata": {
    "ExecuteTime": {
     "end_time": "2017-09-30T23:28:27.536396Z",
     "start_time": "2017-10-01T02:28:16.833Z"
    }
   },
   "outputs": [],
   "source": [
    "plt.figure(figsize=(7,7))\n",
    "plt.title('usuários (linhas) x filmes (colunas)')\n",
    "plt.imshow(gg_ord[-150:,-150:],cmap='gray')\n",
    "plt.show()"
   ]
  },
  {
   "cell_type": "markdown",
   "metadata": {},
   "source": [
    "## Analise dos embeddings dos filmes"
   ]
  },
  {
   "cell_type": "markdown",
   "metadata": {},
   "source": [
    "A análise a seguir será feita apenas com os 2000 filmes mais populares:"
   ]
  },
  {
   "cell_type": "code",
   "execution_count": null,
   "metadata": {
    "ExecuteTime": {
     "end_time": "2017-09-30T23:28:27.536733Z",
     "start_time": "2017-10-01T02:28:16.838Z"
    }
   },
   "outputs": [],
   "source": [
    "topMovies = io_popular_movies[:2000]"
   ]
  },
  {
   "cell_type": "markdown",
   "metadata": {},
   "source": [
    "### Extração dos atributos latentes (embeddings) dos 2000 fimes mais populares"
   ]
  },
  {
   "cell_type": "markdown",
   "metadata": {},
   "source": [
    "Para obter os atributos latentes dos 2000 filmes mais populares, primeiro criamos uma\n",
    "nova rede, denominada `get_movie_emb`, a partir da rede `Model`, com a entrada apenas o ID dos filmes e\n",
    "a saída `m`, após o embedding. Aplicamos a predição desta rede nos `topMovies`:"
   ]
  },
  {
   "cell_type": "code",
   "execution_count": null,
   "metadata": {
    "ExecuteTime": {
     "end_time": "2017-09-30T23:28:27.537016Z",
     "start_time": "2017-10-01T02:28:16.844Z"
    }
   },
   "outputs": [],
   "source": [
    "get_movie_emb = Model(movie_in, m)\n",
    "m_emb = get_movie_emb.predict([topMovies])\n",
    "movie_emb = np.squeeze(m_emb) # elimina dimensões 1\n",
    "print(m_emb.shape)\n",
    "movie_emb.shape"
   ]
  },
  {
   "cell_type": "markdown",
   "metadata": {},
   "source": [
    "Como o embedding de cada filme tem dimensão 50, é muito difícil conseguir analisá-lo desta forma.\n",
    "Uma forma muito usual é reduzir esta dimensionalidade utilizando uma técnica denominada PCA -\n",
    "Principal Component Analysis: [PCA](https://plot.ly/ipython-notebooks/principal-component-analysis/).\n",
    "Iremos reduzir a dimensão dos embeddings de 50 para 3. "
   ]
  },
  {
   "cell_type": "code",
   "execution_count": null,
   "metadata": {
    "ExecuteTime": {
     "end_time": "2017-09-30T23:28:27.537308Z",
     "start_time": "2017-10-01T02:28:16.850Z"
    },
    "collapsed": true
   },
   "outputs": [],
   "source": [
    "from sklearn.decomposition import PCA\n",
    "pca = PCA(n_components=3)\n",
    "movie_pca = pca.fit(movie_emb.T).components_"
   ]
  },
  {
   "cell_type": "markdown",
   "metadata": {},
   "source": [
    "#### Filmes com alto valor na primeira dimensão do PCA"
   ]
  },
  {
   "cell_type": "code",
   "execution_count": null,
   "metadata": {
    "ExecuteTime": {
     "end_time": "2017-09-30T23:28:27.537587Z",
     "start_time": "2017-10-01T02:28:16.856Z"
    }
   },
   "outputs": [],
   "source": [
    "fac0 = movie_pca[0]\n",
    "isort = np.argsort(fac0)[::-1]\n",
    "\n",
    "for ii in isort[:15]:\n",
    "    print(fac0[ii],movie_names[ii])"
   ]
  },
  {
   "cell_type": "markdown",
   "metadata": {},
   "source": [
    "#### Filmes com baixo valor na primeira dimensão do PCA"
   ]
  },
  {
   "cell_type": "code",
   "execution_count": null,
   "metadata": {
    "ExecuteTime": {
     "end_time": "2017-09-30T23:28:27.537853Z",
     "start_time": "2017-10-01T02:28:16.861Z"
    }
   },
   "outputs": [],
   "source": [
    "for ii in isort[-15:]:\n",
    "    print(fac0[ii],movie_names[ii])"
   ]
  },
  {
   "cell_type": "markdown",
   "metadata": {},
   "source": [
    "### Análise da segunda dimensão do PCA"
   ]
  },
  {
   "cell_type": "code",
   "execution_count": null,
   "metadata": {
    "ExecuteTime": {
     "end_time": "2017-09-30T23:28:27.538124Z",
     "start_time": "2017-10-01T02:28:16.867Z"
    },
    "collapsed": true
   },
   "outputs": [],
   "source": [
    "fac1 = movie_pca[1]\n",
    "isort = np.argsort(fac1)[::-1]"
   ]
  },
  {
   "cell_type": "markdown",
   "metadata": {},
   "source": [
    "#### Mais bem avaliados na segunda dimensão"
   ]
  },
  {
   "cell_type": "code",
   "execution_count": null,
   "metadata": {
    "ExecuteTime": {
     "end_time": "2017-09-30T23:28:27.538397Z",
     "start_time": "2017-10-01T02:28:16.872Z"
    }
   },
   "outputs": [],
   "source": [
    "for ii in isort[:15]:\n",
    "    print(fac1[ii],movie_names[ii])"
   ]
  },
  {
   "cell_type": "markdown",
   "metadata": {},
   "source": [
    "#### Piores avaliados na segunda dimensão"
   ]
  },
  {
   "cell_type": "code",
   "execution_count": null,
   "metadata": {
    "ExecuteTime": {
     "end_time": "2017-09-30T23:28:27.538663Z",
     "start_time": "2017-10-01T02:28:16.878Z"
    }
   },
   "outputs": [],
   "source": [
    "for ii in isort[-15:]:\n",
    "    print(fac1[ii],movie_names[ii])"
   ]
  },
  {
   "cell_type": "markdown",
   "metadata": {},
   "source": [
    "### Análise da terceira dimensão do PCA"
   ]
  },
  {
   "cell_type": "code",
   "execution_count": null,
   "metadata": {
    "ExecuteTime": {
     "end_time": "2017-09-30T23:28:27.538941Z",
     "start_time": "2017-10-01T02:28:16.886Z"
    },
    "collapsed": true
   },
   "outputs": [],
   "source": [
    "fac2 = movie_pca[2]\n",
    "isort = np.argsort(fac2)[::-1]"
   ]
  },
  {
   "cell_type": "markdown",
   "metadata": {
    "ExecuteTime": {
     "end_time": "2017-06-11T07:23:06.447188",
     "start_time": "2017-06-11T07:23:06.443940"
    }
   },
   "source": [
    "#### Mais bem avaliados na terceira dimensão do PCA"
   ]
  },
  {
   "cell_type": "code",
   "execution_count": null,
   "metadata": {
    "ExecuteTime": {
     "end_time": "2017-09-30T23:28:27.539220Z",
     "start_time": "2017-10-01T02:28:16.894Z"
    }
   },
   "outputs": [],
   "source": [
    "for ii in isort[:15]:\n",
    "    print(fac2[ii],movie_names[ii])"
   ]
  },
  {
   "cell_type": "markdown",
   "metadata": {},
   "source": [
    "#### Piores avaliados na terceira dimensão do PCA"
   ]
  },
  {
   "cell_type": "code",
   "execution_count": null,
   "metadata": {
    "ExecuteTime": {
     "end_time": "2017-09-30T23:28:27.539611Z",
     "start_time": "2017-10-01T02:28:16.901Z"
    }
   },
   "outputs": [],
   "source": [
    "for ii in isort[-15:]:\n",
    "    print(fac2[ii],movie_names[ii])"
   ]
  },
  {
   "cell_type": "markdown",
   "metadata": {},
   "source": [
    "### Visualizando duas dimensões do PCA"
   ]
  },
  {
   "cell_type": "code",
   "execution_count": null,
   "metadata": {
    "ExecuteTime": {
     "end_time": "2017-09-30T23:28:27.539970Z",
     "start_time": "2017-10-01T02:28:16.909Z"
    }
   },
   "outputs": [],
   "source": [
    "start=50; end=100\n",
    "X = fac0[start:end]\n",
    "Y = fac2[start:end]\n",
    "plt.figure(figsize=(15,15))\n",
    "plt.scatter(X, Y)\n",
    "for i, x, y in zip(topMovies[start:end], X, Y):\n",
    "    plt.text(x,y,movie_names[i], color=np.random.rand(3)*0.7, fontsize=14)\n",
    "plt.show()"
   ]
  },
  {
   "cell_type": "markdown",
   "metadata": {},
   "source": [
    "## Exercícios"
   ]
  },
  {
   "cell_type": "markdown",
   "metadata": {
    "collapsed": true
   },
   "source": [
    "1. Inclua um novo usuário, sem nenhuma avaliação. Treine a rede e verifique\n",
    "   se após a rede treinada, se haverá alguma avaliação.\n",
    "2. Com o novo usuário, faça uma única avaliação e verifique quais os 10 filmes\n",
    "   mais recomendados para ele."
   ]
  },
  {
   "cell_type": "markdown",
   "metadata": {
    "collapsed": true
   },
   "source": [
    "## Aprendizados com este notebook"
   ]
  },
  {
   "cell_type": "code",
   "execution_count": null,
   "metadata": {
    "collapsed": true
   },
   "outputs": [],
   "source": []
  }
 ],
 "metadata": {
  "kernelspec": {
   "display_name": "Python 3",
   "language": "python",
   "name": "python3"
  },
  "language_info": {
   "codemirror_mode": {
    "name": "ipython",
    "version": 3
   },
   "file_extension": ".py",
   "mimetype": "text/x-python",
   "name": "python",
   "nbconvert_exporter": "python",
   "pygments_lexer": "ipython3",
   "version": "3.6.0"
  },
  "toc": {
   "nav_menu": {
    "height": "119px",
    "width": "252px"
   },
   "number_sections": true,
   "sideBar": true,
   "skip_h1_title": false,
   "toc_cell": false,
   "toc_position": {},
   "toc_section_display": "block",
   "toc_window_display": false
  }
 },
 "nbformat": 4,
 "nbformat_minor": 1
}
