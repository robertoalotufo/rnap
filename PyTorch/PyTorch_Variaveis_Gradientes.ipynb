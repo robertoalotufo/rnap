{
 "cells": [
  {
   "cell_type": "markdown",
   "metadata": {},
   "source": [
    "# PyTorch: Variable, Gradientes e Grafo Computacional"
   ]
  },
  {
   "cell_type": "markdown",
   "metadata": {
    "heading_collapsed": true
   },
   "source": [
    "## Objetivos"
   ]
  },
  {
   "cell_type": "markdown",
   "metadata": {
    "hidden": true
   },
   "source": [
    "Este notebook introduz \n",
    "- o conceito de `Variables` do Python,\n",
    "- uma interpretação numérica intuitiva do gradiente, e o\n",
    "- grafo computacional, utilizado para o cálculo automático do gradiente de uma função."
   ]
  },
  {
   "cell_type": "markdown",
   "metadata": {
    "hidden": true
   },
   "source": [
    "Um dos principais fundamentos para que o PyTorch seja adequado para deep learning é a sua habilidade de\n",
    "calcular o gradiente automaticamente a partir da expressões definidas. Essa facilidade é implementada\n",
    "pelo tipo Variable do PyTorch, que adiciona ao tensor a facilidade de cálculo automático do gradiente pela construção dinâmica do grafo computacional."
   ]
  },
  {
   "cell_type": "markdown",
   "metadata": {
    "heading_collapsed": true
   },
   "source": [
    "## Grafo computacional"
   ]
  },
  {
   "cell_type": "markdown",
   "metadata": {
    "hidden": true
   },
   "source": [
    "```\n",
    "    y_pred = x * w\n",
    "    e = y_pred - y\n",
    "    e2 = e**2\n",
    "    J = e2.sum()\n",
    "```"
   ]
  },
  {
   "cell_type": "markdown",
   "metadata": {
    "hidden": true
   },
   "source": [
    "<img src='../figures/GrafoComputacional.png', width=600pt></img>"
   ]
  },
  {
   "cell_type": "markdown",
   "metadata": {
    "hidden": true
   },
   "source": [
    "Variable possui 3 campos: o dado em si (data), o gradiente (grad) e um apontador (creator) para construir o grafo da backpropagation. Uma expressão utilizada para o cálculo do gradiente exige que todas suas expressões sejam calculadas com Variables, caso contrário não é possível construir o grafo computacional."
   ]
  },
  {
   "cell_type": "markdown",
   "metadata": {
    "hidden": true
   },
   "source": [
    "<img src='../figures/variables.png'></a>"
   ]
  },
  {
   "cell_type": "code",
   "execution_count": 1,
   "metadata": {
    "ExecuteTime": {
     "end_time": "2017-11-23T22:20:40.819842Z",
     "start_time": "2017-11-23T22:20:40.084026Z"
    },
    "collapsed": true,
    "hidden": true
   },
   "outputs": [],
   "source": [
    "import torch\n",
    "from torch.autograd import Variable"
   ]
  },
  {
   "cell_type": "markdown",
   "metadata": {
    "heading_collapsed": true
   },
   "source": [
    "## Variable é criada a partir de um tensor"
   ]
  },
  {
   "cell_type": "code",
   "execution_count": 2,
   "metadata": {
    "ExecuteTime": {
     "end_time": "2017-11-23T22:20:40.836771Z",
     "start_time": "2017-11-23T22:20:40.822199Z"
    },
    "hidden": true
   },
   "outputs": [
    {
     "data": {
      "text/plain": [
       "Variable containing:\n",
       " 0\n",
       " 2\n",
       " 4\n",
       " 6\n",
       "[torch.FloatTensor of size 4]"
      ]
     },
     "execution_count": 2,
     "metadata": {},
     "output_type": "execute_result"
    }
   ],
   "source": [
    "y_t = 2 * torch.arange(0,4)\n",
    "y = Variable(y_t); y"
   ]
  },
  {
   "cell_type": "code",
   "execution_count": 3,
   "metadata": {
    "ExecuteTime": {
     "end_time": "2017-11-23T22:20:40.846251Z",
     "start_time": "2017-11-23T22:20:40.839196Z"
    },
    "hidden": true
   },
   "outputs": [
    {
     "data": {
      "text/plain": [
       "Variable containing:\n",
       " 0\n",
       " 1\n",
       " 2\n",
       " 3\n",
       "[torch.FloatTensor of size 4]"
      ]
     },
     "execution_count": 3,
     "metadata": {},
     "output_type": "execute_result"
    }
   ],
   "source": [
    "x = Variable(torch.arange(0,4)); x"
   ]
  },
  {
   "cell_type": "code",
   "execution_count": 4,
   "metadata": {
    "ExecuteTime": {
     "end_time": "2017-11-23T22:20:40.857277Z",
     "start_time": "2017-11-23T22:20:40.848986Z"
    },
    "hidden": true
   },
   "outputs": [
    {
     "data": {
      "text/plain": [
       "Variable containing:\n",
       " 1\n",
       "[torch.FloatTensor of size 1]"
      ]
     },
     "execution_count": 4,
     "metadata": {},
     "output_type": "execute_result"
    }
   ],
   "source": [
    "w = Variable(torch.ones(1),requires_grad=True); w"
   ]
  },
  {
   "cell_type": "markdown",
   "metadata": {},
   "source": [
    "## Variable possui as mesmas funcionalidades dos tensores"
   ]
  },
  {
   "cell_type": "markdown",
   "metadata": {
    "heading_collapsed": true
   },
   "source": [
    "## Cálculo automático do gradiente da função perda J"
   ]
  },
  {
   "cell_type": "markdown",
   "metadata": {
    "hidden": true
   },
   "source": [
    "Seja a expressão: $$ J = ((x  w) - y)^2 $$\n",
    "\n",
    "Queremos calcular a derivada de $J$ em relação a $w$."
   ]
  },
  {
   "cell_type": "markdown",
   "metadata": {
    "hidden": true
   },
   "source": [
    "### Montagem do grafo computacional"
   ]
  },
  {
   "cell_type": "code",
   "execution_count": 5,
   "metadata": {
    "ExecuteTime": {
     "end_time": "2017-11-23T22:20:40.870640Z",
     "start_time": "2017-11-23T22:20:40.861030Z"
    },
    "hidden": true
   },
   "outputs": [
    {
     "data": {
      "text/plain": [
       "Variable containing:\n",
       " 14\n",
       "[torch.FloatTensor of size 1]"
      ]
     },
     "execution_count": 5,
     "metadata": {},
     "output_type": "execute_result"
    }
   ],
   "source": [
    "# predict (forward)\n",
    "y_pred = x * w\n",
    "\n",
    "# cálculo da perda J: loss\n",
    "e = y_pred - y\n",
    "e2 = e.pow(2)\n",
    "J = e2.sum()\n",
    "J"
   ]
  },
  {
   "cell_type": "markdown",
   "metadata": {
    "heading_collapsed": true
   },
   "source": [
    "## Auto grad - processa o grafo computacional backwards"
   ]
  },
  {
   "cell_type": "markdown",
   "metadata": {
    "ExecuteTime": {
     "end_time": "2017-10-04T15:55:45.308858",
     "start_time": "2017-10-04T15:55:45.304654"
    },
    "hidden": true
   },
   "source": [
    "O `backward()` varre o grafo computacional a partir da variável a ele associada e calcula o gradiente para todas as `Variables` que possuem o atributo `requires_grad` como verdadeiro.\n",
    "O `backward()` destroi o grafo após sua execução. Isso é intrínsico ao PyTorch pelo fato dele ser uma rede dinâmica."
   ]
  },
  {
   "cell_type": "code",
   "execution_count": 6,
   "metadata": {
    "ExecuteTime": {
     "end_time": "2017-11-23T22:20:40.880814Z",
     "start_time": "2017-11-23T22:20:40.873222Z"
    },
    "hidden": true
   },
   "outputs": [
    {
     "name": "stdout",
     "output_type": "stream",
     "text": [
      "Variable containing:\n",
      "-28\n",
      "[torch.FloatTensor of size 1]\n",
      "\n"
     ]
    }
   ],
   "source": [
    "J.backward()\n",
    "print(w.grad)"
   ]
  },
  {
   "cell_type": "code",
   "execution_count": 7,
   "metadata": {
    "ExecuteTime": {
     "end_time": "2017-11-23T22:20:40.887146Z",
     "start_time": "2017-11-23T22:20:40.882964Z"
    },
    "collapsed": true,
    "hidden": true
   },
   "outputs": [],
   "source": [
    "w.grad.data.zero_();"
   ]
  },
  {
   "cell_type": "markdown",
   "metadata": {
    "heading_collapsed": true
   },
   "source": [
    "## Interpretação do Gradiente"
   ]
  },
  {
   "cell_type": "markdown",
   "metadata": {
    "hidden": true
   },
   "source": [
    "O gradiente de uma variável final (J) com respeito à outra variável de entrada (w) pode ser interpretado como o quanto a variável final J vai aumentar se houver um pequeno aumento na variável de entrada (w).\n",
    "Por exemplo suponha que o gradiente seja 28. Isto significa se aumentarmos a variável w de 0.001, então J vai aumentar de 0.028."
   ]
  },
  {
   "cell_type": "code",
   "execution_count": 8,
   "metadata": {
    "ExecuteTime": {
     "end_time": "2017-11-23T22:20:40.897557Z",
     "start_time": "2017-11-23T22:20:40.889826Z"
    },
    "hidden": true
   },
   "outputs": [
    {
     "data": {
      "text/plain": [
       "Variable containing:\n",
       " 13.9720\n",
       "[torch.FloatTensor of size 1]"
      ]
     },
     "execution_count": 8,
     "metadata": {},
     "output_type": "execute_result"
    }
   ],
   "source": [
    "eps = 0.001\n",
    "y_pred = x * (w+eps)\n",
    "J_new = (y_pred - y).pow(2).sum()\n",
    "J_new"
   ]
  },
  {
   "cell_type": "code",
   "execution_count": 9,
   "metadata": {
    "ExecuteTime": {
     "end_time": "2017-11-23T22:20:40.906006Z",
     "start_time": "2017-11-23T22:20:40.899819Z"
    },
    "hidden": true
   },
   "outputs": [
    {
     "name": "stdout",
     "output_type": "stream",
     "text": [
      "[-0.02798843]\n"
     ]
    }
   ],
   "source": [
    "print((J_new - J).data.numpy())"
   ]
  },
  {
   "cell_type": "markdown",
   "metadata": {
    "heading_collapsed": true
   },
   "source": [
    "## Back propagation"
   ]
  },
  {
   "cell_type": "markdown",
   "metadata": {
    "hidden": true
   },
   "source": [
    "Uma forma equivalente explícita de calcular o gradiente é fazendo o processamento do backpropagation no grafo computacional, de forma explícita.\n",
    "Apenas como ilustração."
   ]
  },
  {
   "cell_type": "code",
   "execution_count": 10,
   "metadata": {
    "ExecuteTime": {
     "end_time": "2017-11-23T22:20:40.920402Z",
     "start_time": "2017-11-23T22:20:40.909045Z"
    },
    "hidden": true,
    "scrolled": false
   },
   "outputs": [
    {
     "name": "stdout",
     "output_type": "stream",
     "text": [
      "1.0\n",
      "[ 1.  1.  1.  1.]\n",
      "[ 0. -2. -4. -6.]\n",
      "-28.0\n"
     ]
    }
   ],
   "source": [
    "import numpy as np\n",
    "\n",
    "dJ = 1.\n",
    "de2 = dJ * np.ones((4,))\n",
    "de = de2 * 2 * e.data.numpy()\n",
    "dy_pred = de\n",
    "dw = (dy_pred * x.data.numpy()).sum()\n",
    "print(dJ)\n",
    "print(de2)\n",
    "print(de)\n",
    "print(dw)\n"
   ]
  },
  {
   "cell_type": "markdown",
   "metadata": {
    "heading_collapsed": true
   },
   "source": [
    "## Visualizando o grafo computacional"
   ]
  },
  {
   "cell_type": "code",
   "execution_count": 16,
   "metadata": {
    "ExecuteTime": {
     "end_time": "2017-11-23T22:23:35.524742Z",
     "start_time": "2017-11-23T22:23:35.519639Z"
    },
    "hidden": true
   },
   "outputs": [],
   "source": [
    "import lib.pytorch_visualize as ptviz\n"
   ]
  },
  {
   "cell_type": "code",
   "execution_count": 17,
   "metadata": {
    "ExecuteTime": {
     "end_time": "2017-11-23T22:23:36.213676Z",
     "start_time": "2017-11-23T22:23:36.162866Z"
    },
    "hidden": true
   },
   "outputs": [
    {
     "data": {
      "image/svg+xml": [
       "<?xml version=\"1.0\" encoding=\"UTF-8\" standalone=\"no\"?>\n",
       "<!DOCTYPE svg PUBLIC \"-//W3C//DTD SVG 1.1//EN\"\n",
       " \"http://www.w3.org/Graphics/SVG/1.1/DTD/svg11.dtd\">\n",
       "<!-- Generated by graphviz version 2.38.0 (20140413.2041)\n",
       " -->\n",
       "<!-- Title: %3 Pages: 1 -->\n",
       "<svg width=\"109pt\" height=\"320pt\"\n",
       " viewBox=\"0.00 0.00 109.30 320.00\" xmlns=\"http://www.w3.org/2000/svg\" xmlns:xlink=\"http://www.w3.org/1999/xlink\">\n",
       "<g id=\"graph0\" class=\"graph\" transform=\"scale(1 1) rotate(0) translate(4 316)\">\n",
       "<title>%3</title>\n",
       "<polygon fill=\"white\" stroke=\"none\" points=\"-4,4 -4,-316 105.301,-316 105.301,4 -4,4\"/>\n",
       "<!-- 4639317576 -->\n",
       "<g id=\"node1\" class=\"node\"><title>4639317576</title>\n",
       "<polygon fill=\"lightgrey\" stroke=\"black\" points=\"96.8034,-20 4.4974,-20 4.4974,-0 96.8034,-0 96.8034,-20\"/>\n",
       "<text text-anchor=\"middle\" x=\"50.6504\" y=\"-6.4\" font-family=\"Times,serif\" font-size=\"12.00\">SumBackward0</text>\n",
       "</g>\n",
       "<!-- 4639589488 -->\n",
       "<g id=\"node2\" class=\"node\"><title>4639589488</title>\n",
       "<polygon fill=\"lightgrey\" stroke=\"black\" points=\"96.6348,-76 4.66601,-76 4.66601,-56 96.6348,-56 96.6348,-76\"/>\n",
       "<text text-anchor=\"middle\" x=\"50.6504\" y=\"-62.4\" font-family=\"Times,serif\" font-size=\"12.00\">PowBackward0</text>\n",
       "</g>\n",
       "<!-- 4639589488&#45;&gt;4639317576 -->\n",
       "<g id=\"edge1\" class=\"edge\"><title>4639589488&#45;&gt;4639317576</title>\n",
       "<path fill=\"none\" stroke=\"black\" d=\"M50.6504,-55.5939C50.6504,-48.7024 50.6504,-39.1024 50.6504,-30.5741\"/>\n",
       "<polygon fill=\"black\" stroke=\"black\" points=\"54.1505,-30.2983 50.6504,-20.2983 47.1505,-30.2983 54.1505,-30.2983\"/>\n",
       "</g>\n",
       "<!-- 4639589264 -->\n",
       "<g id=\"node3\" class=\"node\"><title>4639589264</title>\n",
       "<polygon fill=\"lightgrey\" stroke=\"black\" points=\"95.4693,-132 5.83146,-132 5.83146,-112 95.4693,-112 95.4693,-132\"/>\n",
       "<text text-anchor=\"middle\" x=\"50.6504\" y=\"-118.4\" font-family=\"Times,serif\" font-size=\"12.00\">SubBackward1</text>\n",
       "</g>\n",
       "<!-- 4639589264&#45;&gt;4639589488 -->\n",
       "<g id=\"edge2\" class=\"edge\"><title>4639589264&#45;&gt;4639589488</title>\n",
       "<path fill=\"none\" stroke=\"black\" d=\"M50.6504,-111.594C50.6504,-104.702 50.6504,-95.1024 50.6504,-86.5741\"/>\n",
       "<polygon fill=\"black\" stroke=\"black\" points=\"54.1505,-86.2983 50.6504,-76.2983 47.1505,-86.2983 54.1505,-86.2983\"/>\n",
       "</g>\n",
       "<!-- 4639588984 -->\n",
       "<g id=\"node4\" class=\"node\"><title>4639588984</title>\n",
       "<polygon fill=\"lightgrey\" stroke=\"black\" points=\"95.7995,-188 5.50127,-188 5.50127,-168 95.7995,-168 95.7995,-188\"/>\n",
       "<text text-anchor=\"middle\" x=\"50.6504\" y=\"-174.4\" font-family=\"Times,serif\" font-size=\"12.00\">MulBackward1</text>\n",
       "</g>\n",
       "<!-- 4639588984&#45;&gt;4639589264 -->\n",
       "<g id=\"edge3\" class=\"edge\"><title>4639588984&#45;&gt;4639589264</title>\n",
       "<path fill=\"none\" stroke=\"black\" d=\"M50.6504,-167.594C50.6504,-160.702 50.6504,-151.102 50.6504,-142.574\"/>\n",
       "<polygon fill=\"black\" stroke=\"black\" points=\"54.1505,-142.298 50.6504,-132.298 47.1505,-142.298 54.1505,-142.298\"/>\n",
       "</g>\n",
       "<!-- 4639589656 -->\n",
       "<g id=\"node5\" class=\"node\"><title>4639589656</title>\n",
       "<polygon fill=\"lightgrey\" stroke=\"black\" points=\"101.452,-244 -0.150838,-244 -0.150838,-224 101.452,-224 101.452,-244\"/>\n",
       "<text text-anchor=\"middle\" x=\"50.6504\" y=\"-230.4\" font-family=\"Times,serif\" font-size=\"12.00\">ExpandBackward</text>\n",
       "</g>\n",
       "<!-- 4639589656&#45;&gt;4639588984 -->\n",
       "<g id=\"edge4\" class=\"edge\"><title>4639589656&#45;&gt;4639588984</title>\n",
       "<path fill=\"none\" stroke=\"black\" d=\"M50.6504,-223.594C50.6504,-216.702 50.6504,-207.102 50.6504,-198.574\"/>\n",
       "<polygon fill=\"black\" stroke=\"black\" points=\"54.1505,-198.298 50.6504,-188.298 47.1505,-198.298 54.1505,-198.298\"/>\n",
       "</g>\n",
       "<!-- 4639522544 -->\n",
       "<g id=\"node6\" class=\"node\"><title>4639522544</title>\n",
       "<polygon fill=\"lightblue\" stroke=\"black\" points=\"77.6504,-312 23.6504,-312 23.6504,-280 77.6504,-280 77.6504,-312\"/>\n",
       "<text text-anchor=\"middle\" x=\"50.6504\" y=\"-298.4\" font-family=\"Times,serif\" font-size=\"12.00\">w</text>\n",
       "<text text-anchor=\"middle\" x=\"50.6504\" y=\"-286.4\" font-family=\"Times,serif\" font-size=\"12.00\"> (1)</text>\n",
       "</g>\n",
       "<!-- 4639522544&#45;&gt;4639589656 -->\n",
       "<g id=\"edge5\" class=\"edge\"><title>4639522544&#45;&gt;4639589656</title>\n",
       "<path fill=\"none\" stroke=\"black\" d=\"M50.6504,-279.859C50.6504,-272.127 50.6504,-262.631 50.6504,-254.371\"/>\n",
       "<polygon fill=\"black\" stroke=\"black\" points=\"54.1505,-254.153 50.6504,-244.154 47.1505,-254.154 54.1505,-254.153\"/>\n",
       "</g>\n",
       "</g>\n",
       "</svg>\n"
      ],
      "text/plain": [
       "<graphviz.dot.Digraph at 0x114897b38>"
      ]
     },
     "execution_count": 17,
     "metadata": {},
     "output_type": "execute_result"
    }
   ],
   "source": [
    "J = ((w * x) - y).pow(2).sum()\n",
    "p = {'w':w} # dicionário de parâmetros\n",
    "out = ptviz.make_dot(J,params=p)\n",
    "out"
   ]
  },
  {
   "cell_type": "markdown",
   "metadata": {
    "collapsed": true,
    "heading_collapsed": true
   },
   "source": [
    "# Exercícios"
   ]
  },
  {
   "cell_type": "markdown",
   "metadata": {
    "hidden": true
   },
   "source": [
    "## Questões"
   ]
  },
  {
   "cell_type": "markdown",
   "metadata": {
    "hidden": true
   },
   "source": [
    "1. Por que numa expressão computacional não é possível misturar `Variable` com tensores?\n",
    "2. O que acontece com o grafo computacional após execução do `backward()`?"
   ]
  },
  {
   "cell_type": "markdown",
   "metadata": {
    "hidden": true
   },
   "source": [
    "## Atividades"
   ]
  },
  {
   "cell_type": "markdown",
   "metadata": {
    "ExecuteTime": {
     "end_time": "2017-10-06T22:02:17.474843Z",
     "start_time": "2017-10-06T22:02:17.468865Z"
    },
    "hidden": true
   },
   "source": [
    "1. Execute um passo de atualização do valor de w, pelo \n",
    "gradiente descendente. Utilize um fator de aprendizado (*learning rate*) de 0.1 \n",
    "para atualizar o `w`. Após, recalcule a função de perda:\n",
    "\n",
    "    - w = w - lr * w.grad.data\n",
    "    - execute a célula 1.3.1 e verifique o quanto que a perda J diminuiu\n",
    "    \n",
    "2. No trecho abaixo, uma rede bastante conhecida, `resnet18` contendo 18 camadas \n",
    "   é criada, tendo\n",
    "   como entrada `xin` que é convertida para `Variable`, resultando na saída `y`.\n",
    "   \n",
    "   Descomente a linha que cria a vizualização do grafo computacional e execute a\n",
    "   célula para visualizar o grafo computacional da rede `resnet18`:"
   ]
  },
  {
   "cell_type": "code",
   "execution_count": 21,
   "metadata": {
    "ExecuteTime": {
     "end_time": "2017-11-23T22:45:39.011350Z",
     "start_time": "2017-11-23T22:45:38.119858Z"
    },
    "hidden": true
   },
   "outputs": [],
   "source": [
    "from torchvision import models\n",
    "xin = torch.randn(1,3,224,224)\n",
    "resnet18 = models.resnet18()\n",
    "y = resnet18(Variable(xin))\n",
    "\n",
    "#g = ptviz.make_dot(y)\n",
    "#g"
   ]
  },
  {
   "cell_type": "markdown",
   "metadata": {
    "heading_collapsed": true
   },
   "source": [
    "# Aprendizados com este notebook"
   ]
  },
  {
   "cell_type": "code",
   "execution_count": null,
   "metadata": {
    "collapsed": true,
    "hidden": true
   },
   "outputs": [],
   "source": []
  }
 ],
 "metadata": {
  "kernelspec": {
   "display_name": "Python 3",
   "language": "python",
   "name": "python3"
  },
  "language_info": {
   "codemirror_mode": {
    "name": "ipython",
    "version": 3
   },
   "file_extension": ".py",
   "mimetype": "text/x-python",
   "name": "python",
   "nbconvert_exporter": "python",
   "pygments_lexer": "ipython3",
   "version": "3.6.0"
  },
  "toc": {
   "nav_menu": {
    "height": "117px",
    "width": "252px"
   },
   "number_sections": true,
   "sideBar": true,
   "skip_h1_title": false,
   "toc_cell": false,
   "toc_position": {},
   "toc_section_display": "block",
   "toc_window_display": false
  },
  "varInspector": {
   "cols": {
    "lenName": 16,
    "lenType": 16,
    "lenVar": 40
   },
   "kernels_config": {
    "python": {
     "delete_cmd_postfix": "",
     "delete_cmd_prefix": "del ",
     "library": "var_list.py",
     "varRefreshCmd": "print(var_dic_list())"
    },
    "r": {
     "delete_cmd_postfix": ") ",
     "delete_cmd_prefix": "rm(",
     "library": "var_list.r",
     "varRefreshCmd": "cat(var_dic_list()) "
    }
   },
   "types_to_exclude": [
    "module",
    "function",
    "builtin_function_or_method",
    "instance",
    "_Feature"
   ],
   "window_display": false
  }
 },
 "nbformat": 4,
 "nbformat_minor": 2
}
