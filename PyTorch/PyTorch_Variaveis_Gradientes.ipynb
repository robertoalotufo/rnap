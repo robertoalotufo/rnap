{
 "cells": [
  {
   "cell_type": "markdown",
   "metadata": {},
   "source": [
    "# PyTorch: Variable, Gradientes e Grafo Computacional"
   ]
  },
  {
   "cell_type": "markdown",
   "metadata": {
    "heading_collapsed": true
   },
   "source": [
    "## Objetivos"
   ]
  },
  {
   "cell_type": "markdown",
   "metadata": {
    "hidden": true
   },
   "source": [
    "Este notebook introduz \n",
    "- o conceito de `Variables` do Python,\n",
    "- uma interpretação numérica intuitiva do gradiente, e o\n",
    "- grafo computacional, utilizado para o cálculo automático do gradiente de uma função."
   ]
  },
  {
   "cell_type": "markdown",
   "metadata": {
    "hidden": true
   },
   "source": [
    "Um dos principais fundamentos para que o PyTorch seja adequado para deep learning é a sua habilidade de\n",
    "calcular o gradiente automaticamente a partir da expressões definidas. Essa facilidade é implementada\n",
    "pelo tipo Variable do PyTorch, que adiciona ao tensor a facilidade de cálculo automático do gradiente pela construção dinâmica do grafo computacional."
   ]
  },
  {
   "cell_type": "markdown",
   "metadata": {
    "heading_collapsed": true
   },
   "source": [
    "## Grafo computacional"
   ]
  },
  {
   "cell_type": "markdown",
   "metadata": {
    "hidden": true
   },
   "source": [
    "```\n",
    "    y_pred = x * w\n",
    "    e = y_pred - y\n",
    "    e2 = e**2\n",
    "    J = e2.sum()\n",
    "```"
   ]
  },
  {
   "cell_type": "markdown",
   "metadata": {
    "hidden": true
   },
   "source": [
    "<img src='../figures/GrafoComputacional.png', width=600pt></img>"
   ]
  },
  {
   "cell_type": "markdown",
   "metadata": {
    "hidden": true
   },
   "source": [
    "Variable possui 3 campos: o dado em si (data), o gradiente (grad) e um apontador (creator) para construir o grafo da backpropagation. Uma expressão utilizada para o cálculo do gradiente exige que todas suas expressões sejam calculadas com Variables, caso contrário não é possível construir o grafo computacional."
   ]
  },
  {
   "cell_type": "markdown",
   "metadata": {
    "hidden": true
   },
   "source": [
    "<img src='../figures/variables.png'></a>"
   ]
  },
  {
   "cell_type": "code",
   "execution_count": 1,
   "metadata": {
    "ExecuteTime": {
     "end_time": "2017-11-24T14:09:19.148492",
     "start_time": "2017-11-24T14:09:18.096752"
    },
    "collapsed": true,
    "hidden": true
   },
   "outputs": [],
   "source": [
    "import torch\n",
    "from torch.autograd import Variable"
   ]
  },
  {
   "cell_type": "markdown",
   "metadata": {
    "heading_collapsed": true
   },
   "source": [
    "## Variable é criada a partir de um tensor e possui as mesmas funcionalidades"
   ]
  },
  {
   "cell_type": "code",
   "execution_count": 2,
   "metadata": {
    "ExecuteTime": {
     "end_time": "2017-11-24T14:09:19.305082",
     "start_time": "2017-11-24T14:09:19.150032"
    },
    "hidden": true
   },
   "outputs": [
    {
     "data": {
      "text/plain": [
       "Variable containing:\n",
       " 0\n",
       " 2\n",
       " 4\n",
       " 6\n",
       "[torch.FloatTensor of size 4]"
      ]
     },
     "execution_count": 2,
     "metadata": {},
     "output_type": "execute_result"
    }
   ],
   "source": [
    "y_t = 2 * torch.arange(0,4)\n",
    "y = Variable(y_t); y"
   ]
  },
  {
   "cell_type": "code",
   "execution_count": 3,
   "metadata": {
    "ExecuteTime": {
     "end_time": "2017-11-24T14:09:19.311537",
     "start_time": "2017-11-24T14:09:19.306712"
    },
    "hidden": true
   },
   "outputs": [
    {
     "data": {
      "text/plain": [
       "Variable containing:\n",
       " 0\n",
       " 1\n",
       " 2\n",
       " 3\n",
       "[torch.FloatTensor of size 4]"
      ]
     },
     "execution_count": 3,
     "metadata": {},
     "output_type": "execute_result"
    }
   ],
   "source": [
    "x = Variable(torch.arange(0,4)); x"
   ]
  },
  {
   "cell_type": "code",
   "execution_count": 4,
   "metadata": {
    "ExecuteTime": {
     "end_time": "2017-11-24T14:09:19.318102",
     "start_time": "2017-11-24T14:09:19.313131"
    },
    "hidden": true
   },
   "outputs": [
    {
     "data": {
      "text/plain": [
       "Variable containing:\n",
       " 1\n",
       "[torch.FloatTensor of size 1]"
      ]
     },
     "execution_count": 4,
     "metadata": {},
     "output_type": "execute_result"
    }
   ],
   "source": [
    "w = Variable(torch.ones(1),requires_grad=True); w"
   ]
  },
  {
   "cell_type": "markdown",
   "metadata": {
    "heading_collapsed": true
   },
   "source": [
    "## Cálculo automático do gradiente da função perda J"
   ]
  },
  {
   "cell_type": "markdown",
   "metadata": {
    "hidden": true
   },
   "source": [
    "Seja a expressão: $$ J = ((x  w) - y)^2 $$\n",
    "\n",
    "Queremos calcular a derivada de $J$ em relação a $w$."
   ]
  },
  {
   "cell_type": "markdown",
   "metadata": {
    "heading_collapsed": true,
    "hidden": true
   },
   "source": [
    "### Montagem do grafo computacional"
   ]
  },
  {
   "cell_type": "code",
   "execution_count": 5,
   "metadata": {
    "ExecuteTime": {
     "end_time": "2017-11-24T14:09:19.344631",
     "start_time": "2017-11-24T14:09:19.319779"
    },
    "hidden": true
   },
   "outputs": [
    {
     "data": {
      "text/plain": [
       "Variable containing:\n",
       " 14\n",
       "[torch.FloatTensor of size 1]"
      ]
     },
     "execution_count": 5,
     "metadata": {},
     "output_type": "execute_result"
    }
   ],
   "source": [
    "# predict (forward)\n",
    "y_pred = x * w\n",
    "\n",
    "# cálculo da perda J: loss\n",
    "e = y_pred - y\n",
    "e2 = e.pow(2)\n",
    "J = e2.sum()\n",
    "J"
   ]
  },
  {
   "cell_type": "markdown",
   "metadata": {
    "heading_collapsed": true
   },
   "source": [
    "## Auto grad - processa o grafo computacional backwards"
   ]
  },
  {
   "cell_type": "markdown",
   "metadata": {
    "ExecuteTime": {
     "end_time": "2017-10-04T15:55:45.308858",
     "start_time": "2017-10-04T15:55:45.304654"
    },
    "hidden": true
   },
   "source": [
    "O `backward()` varre o grafo computacional a partir da variável a ele associada e calcula o gradiente para todas as `Variables` que possuem o atributo `requires_grad` como verdadeiro.\n",
    "O `backward()` destroi o grafo após sua execução. Isso é intrínsico ao PyTorch pelo fato dele ser uma rede dinâmica."
   ]
  },
  {
   "cell_type": "code",
   "execution_count": 6,
   "metadata": {
    "ExecuteTime": {
     "end_time": "2017-11-24T14:09:19.355085",
     "start_time": "2017-11-24T14:09:19.346403"
    },
    "hidden": true
   },
   "outputs": [
    {
     "name": "stdout",
     "output_type": "stream",
     "text": [
      "Variable containing:\n",
      "-28\n",
      "[torch.FloatTensor of size 1]\n",
      "\n"
     ]
    }
   ],
   "source": [
    "J.backward()\n",
    "print(w.grad)"
   ]
  },
  {
   "cell_type": "code",
   "execution_count": 7,
   "metadata": {
    "ExecuteTime": {
     "end_time": "2017-11-24T14:09:19.363848",
     "start_time": "2017-11-24T14:09:19.356800"
    },
    "collapsed": true,
    "hidden": true
   },
   "outputs": [],
   "source": [
    "w.grad.data.zero_();"
   ]
  },
  {
   "cell_type": "markdown",
   "metadata": {
    "heading_collapsed": true
   },
   "source": [
    "## Interpretação do Gradiente"
   ]
  },
  {
   "cell_type": "markdown",
   "metadata": {
    "hidden": true
   },
   "source": [
    "O gradiente de uma variável final (J) com respeito à outra variável de entrada (w) pode ser interpretado como o quanto a variável final J vai aumentar se houver um pequeno aumento na variável de entrada (w).\n",
    "Por exemplo suponha que o gradiente seja 28. Isto significa se aumentarmos a variável w de 0.001, então J vai aumentar de 0.028."
   ]
  },
  {
   "cell_type": "code",
   "execution_count": 8,
   "metadata": {
    "ExecuteTime": {
     "end_time": "2017-11-24T14:09:19.372040",
     "start_time": "2017-11-24T14:09:19.365927"
    },
    "hidden": true
   },
   "outputs": [
    {
     "data": {
      "text/plain": [
       "Variable containing:\n",
       " 13.9720\n",
       "[torch.FloatTensor of size 1]"
      ]
     },
     "execution_count": 8,
     "metadata": {},
     "output_type": "execute_result"
    }
   ],
   "source": [
    "eps = 0.001\n",
    "y_pred = x * (w+eps)\n",
    "J_new = (y_pred - y).pow(2).sum()\n",
    "J_new"
   ]
  },
  {
   "cell_type": "code",
   "execution_count": 9,
   "metadata": {
    "ExecuteTime": {
     "end_time": "2017-11-24T14:09:19.403233",
     "start_time": "2017-11-24T14:09:19.373831"
    },
    "hidden": true
   },
   "outputs": [
    {
     "name": "stdout",
     "output_type": "stream",
     "text": [
      "[-0.02798843]\n"
     ]
    }
   ],
   "source": [
    "print((J_new - J).data.numpy())"
   ]
  },
  {
   "cell_type": "markdown",
   "metadata": {
    "heading_collapsed": true
   },
   "source": [
    "## Back propagation"
   ]
  },
  {
   "cell_type": "markdown",
   "metadata": {
    "hidden": true
   },
   "source": [
    "Uma forma equivalente explícita de calcular o gradiente é fazendo o processamento do backpropagation no grafo computacional, de forma explícita.\n",
    "Apenas como ilustração."
   ]
  },
  {
   "cell_type": "code",
   "execution_count": 10,
   "metadata": {
    "ExecuteTime": {
     "end_time": "2017-11-24T14:09:19.413681",
     "start_time": "2017-11-24T14:09:19.405014"
    },
    "hidden": true,
    "scrolled": false
   },
   "outputs": [
    {
     "name": "stdout",
     "output_type": "stream",
     "text": [
      "1.0\n",
      "[ 1.  1.  1.  1.]\n",
      "[ 0. -2. -4. -6.]\n",
      "-28.0\n"
     ]
    }
   ],
   "source": [
    "import numpy as np\n",
    "\n",
    "dJ = 1.\n",
    "de2 = dJ * np.ones((4,))\n",
    "de = de2 * 2 * e.data.numpy()\n",
    "dy_pred = de\n",
    "dw = (dy_pred * x.data.numpy()).sum()\n",
    "print(dJ)\n",
    "print(de2)\n",
    "print(de)\n",
    "print(dw)\n"
   ]
  },
  {
   "cell_type": "markdown",
   "metadata": {
    "heading_collapsed": true
   },
   "source": [
    "## Visualizando o grafo computacional"
   ]
  },
  {
   "cell_type": "code",
   "execution_count": 12,
   "metadata": {
    "ExecuteTime": {
     "end_time": "2017-11-24T14:12:43.936323",
     "start_time": "2017-11-24T14:12:43.901031"
    },
    "hidden": true
   },
   "outputs": [],
   "source": [
    "import lib.pytorch_visualize as ptviz"
   ]
  },
  {
   "cell_type": "code",
   "execution_count": 13,
   "metadata": {
    "ExecuteTime": {
     "end_time": "2017-11-24T14:12:48.618907",
     "start_time": "2017-11-24T14:12:48.545922"
    },
    "hidden": true
   },
   "outputs": [
    {
     "data": {
      "image/svg+xml": [
       "<?xml version=\"1.0\" encoding=\"UTF-8\" standalone=\"no\"?>\n",
       "<!DOCTYPE svg PUBLIC \"-//W3C//DTD SVG 1.1//EN\"\n",
       " \"http://www.w3.org/Graphics/SVG/1.1/DTD/svg11.dtd\">\n",
       "<!-- Generated by graphviz version 2.38.0 (20140413.2041)\n",
       " -->\n",
       "<!-- Title: %3 Pages: 1 -->\n",
       "<svg width=\"221pt\" height=\"264pt\"\n",
       " viewBox=\"0.00 0.00 221.00 264.00\" xmlns=\"http://www.w3.org/2000/svg\" xmlns:xlink=\"http://www.w3.org/1999/xlink\">\n",
       "<g id=\"graph0\" class=\"graph\" transform=\"scale(1 1) rotate(0) translate(4 260)\">\n",
       "<title>%3</title>\n",
       "<polygon fill=\"white\" stroke=\"none\" points=\"-4,4 -4,-260 217,-260 217,4 -4,4\"/>\n",
       "<!-- 4479541320 -->\n",
       "<g id=\"node1\" class=\"node\"><title>4479541320</title>\n",
       "<polygon fill=\"lightgrey\" stroke=\"black\" points=\"185.153,-20 98.847,-20 98.847,-0 185.153,-0 185.153,-20\"/>\n",
       "<text text-anchor=\"middle\" x=\"142\" y=\"-6.4\" font-family=\"Times,serif\" font-size=\"12.00\">SumBackward</text>\n",
       "</g>\n",
       "<!-- 4479542280 -->\n",
       "<g id=\"node2\" class=\"node\"><title>4479542280</title>\n",
       "<polygon fill=\"lightgrey\" stroke=\"black\" points=\"206.153,-76 77.8472,-76 77.8472,-56 206.153,-56 206.153,-76\"/>\n",
       "<text text-anchor=\"middle\" x=\"142\" y=\"-62.4\" font-family=\"Times,serif\" font-size=\"12.00\">PowConstantBackward</text>\n",
       "</g>\n",
       "<!-- 4479542280&#45;&gt;4479541320 -->\n",
       "<g id=\"edge1\" class=\"edge\"><title>4479542280&#45;&gt;4479541320</title>\n",
       "<path fill=\"none\" stroke=\"black\" d=\"M142,-55.5939C142,-48.7024 142,-39.1024 142,-30.5741\"/>\n",
       "<polygon fill=\"black\" stroke=\"black\" points=\"145.5,-30.2983 142,-20.2983 138.5,-30.2983 145.5,-30.2983\"/>\n",
       "</g>\n",
       "<!-- 4479543720 -->\n",
       "<g id=\"node3\" class=\"node\"><title>4479543720</title>\n",
       "<polygon fill=\"lightgrey\" stroke=\"black\" points=\"140.819,-132 57.181,-132 57.181,-112 140.819,-112 140.819,-132\"/>\n",
       "<text text-anchor=\"middle\" x=\"99\" y=\"-118.4\" font-family=\"Times,serif\" font-size=\"12.00\">SubBackward</text>\n",
       "</g>\n",
       "<!-- 4479543720&#45;&gt;4479542280 -->\n",
       "<g id=\"edge2\" class=\"edge\"><title>4479543720&#45;&gt;4479542280</title>\n",
       "<path fill=\"none\" stroke=\"black\" d=\"M106.49,-111.594C112.471,-104.083 121.014,-93.3547 128.222,-84.3031\"/>\n",
       "<polygon fill=\"black\" stroke=\"black\" points=\"131.104,-86.3014 134.596,-76.2983 125.629,-81.9409 131.104,-86.3014\"/>\n",
       "</g>\n",
       "<!-- 4479543960 -->\n",
       "<g id=\"node4\" class=\"node\"><title>4479543960</title>\n",
       "<polygon fill=\"lightgrey\" stroke=\"black\" points=\"141.149,-188 56.8508,-188 56.8508,-168 141.149,-168 141.149,-188\"/>\n",
       "<text text-anchor=\"middle\" x=\"99\" y=\"-174.4\" font-family=\"Times,serif\" font-size=\"12.00\">MulBackward</text>\n",
       "</g>\n",
       "<!-- 4479543960&#45;&gt;4479543720 -->\n",
       "<g id=\"edge3\" class=\"edge\"><title>4479543960&#45;&gt;4479543720</title>\n",
       "<path fill=\"none\" stroke=\"black\" d=\"M99,-167.594C99,-160.702 99,-151.102 99,-142.574\"/>\n",
       "<polygon fill=\"black\" stroke=\"black\" points=\"102.5,-142.298 99,-132.298 95.5001,-142.298 102.5,-142.298\"/>\n",
       "</g>\n",
       "<!-- 4480113576 -->\n",
       "<g id=\"node5\" class=\"node\"><title>4480113576</title>\n",
       "<polygon fill=\"lightblue\" stroke=\"black\" points=\"54,-256 0,-256 0,-224 54,-224 54,-256\"/>\n",
       "<text text-anchor=\"middle\" x=\"27\" y=\"-242.4\" font-family=\"Times,serif\" font-size=\"12.00\">w</text>\n",
       "<text text-anchor=\"middle\" x=\"27\" y=\"-230.4\" font-family=\"Times,serif\" font-size=\"12.00\"> (1)</text>\n",
       "</g>\n",
       "<!-- 4480113576&#45;&gt;4479543960 -->\n",
       "<g id=\"edge4\" class=\"edge\"><title>4480113576&#45;&gt;4479543960</title>\n",
       "<path fill=\"none\" stroke=\"black\" d=\"M45.1686,-223.859C55.819,-214.984 69.255,-203.787 80.0394,-194.801\"/>\n",
       "<polygon fill=\"black\" stroke=\"black\" points=\"82.5742,-197.244 88.0158,-188.154 78.0929,-191.867 82.5742,-197.244\"/>\n",
       "</g>\n",
       "<!-- 4480009352 -->\n",
       "<g id=\"node6\" class=\"node\"><title>4480009352</title>\n",
       "<polygon fill=\"orange\" stroke=\"black\" points=\"126,-250 72,-250 72,-230 126,-230 126,-250\"/>\n",
       "<text text-anchor=\"middle\" x=\"99\" y=\"-236.4\" font-family=\"Times,serif\" font-size=\"12.00\">(1)</text>\n",
       "</g>\n",
       "<!-- 4480009352&#45;&gt;4479543960 -->\n",
       "<g id=\"edge5\" class=\"edge\"><title>4480009352&#45;&gt;4479543960</title>\n",
       "<path fill=\"none\" stroke=\"black\" d=\"M99,-229.887C99,-221.517 99,-208.841 99,-198.235\"/>\n",
       "<polygon fill=\"black\" stroke=\"black\" points=\"102.5,-198.198 99,-188.198 95.5001,-198.199 102.5,-198.198\"/>\n",
       "</g>\n",
       "<!-- 4349968712 -->\n",
       "<g id=\"node7\" class=\"node\"><title>4349968712</title>\n",
       "<polygon fill=\"orange\" stroke=\"black\" points=\"198,-250 144,-250 144,-230 198,-230 198,-250\"/>\n",
       "<text text-anchor=\"middle\" x=\"171\" y=\"-236.4\" font-family=\"Times,serif\" font-size=\"12.00\">(4)</text>\n",
       "</g>\n",
       "<!-- 4349968712&#45;&gt;4479543960 -->\n",
       "<g id=\"edge6\" class=\"edge\"><title>4349968712&#45;&gt;4479543960</title>\n",
       "<path fill=\"none\" stroke=\"black\" d=\"M160.065,-229.887C148.858,-220.548 131.218,-205.848 117.773,-194.644\"/>\n",
       "<polygon fill=\"black\" stroke=\"black\" points=\"119.961,-191.912 110.038,-188.198 115.48,-197.289 119.961,-191.912\"/>\n",
       "</g>\n",
       "<!-- 4480063368 -->\n",
       "<g id=\"node8\" class=\"node\"><title>4480063368</title>\n",
       "<polygon fill=\"orange\" stroke=\"black\" points=\"213,-132 159,-132 159,-112 213,-112 213,-132\"/>\n",
       "<text text-anchor=\"middle\" x=\"186\" y=\"-118.4\" font-family=\"Times,serif\" font-size=\"12.00\">(4)</text>\n",
       "</g>\n",
       "<!-- 4480063368&#45;&gt;4479542280 -->\n",
       "<g id=\"edge7\" class=\"edge\"><title>4480063368&#45;&gt;4479542280</title>\n",
       "<path fill=\"none\" stroke=\"black\" d=\"M178.336,-111.594C172.216,-104.083 163.474,-93.3547 156.099,-84.3031\"/>\n",
       "<polygon fill=\"black\" stroke=\"black\" points=\"158.606,-81.8398 149.576,-76.2983 153.18,-86.2615 158.606,-81.8398\"/>\n",
       "</g>\n",
       "</g>\n",
       "</svg>\n"
      ],
      "text/plain": [
       "<graphviz.dot.Digraph at 0x10b091a90>"
      ]
     },
     "execution_count": 13,
     "metadata": {},
     "output_type": "execute_result"
    }
   ],
   "source": [
    "J = ((w * x) - y).pow(2).sum()\n",
    "p = {'w':w} # dicionário de parâmetros\n",
    "out = ptviz.make_dot(J,params=p)\n",
    "out"
   ]
  },
  {
   "cell_type": "markdown",
   "metadata": {
    "collapsed": true,
    "heading_collapsed": true
   },
   "source": [
    "# Exercícios"
   ]
  },
  {
   "cell_type": "markdown",
   "metadata": {
    "hidden": true
   },
   "source": [
    "## Questões"
   ]
  },
  {
   "cell_type": "markdown",
   "metadata": {
    "hidden": true
   },
   "source": [
    "1. Por que numa expressão computacional não é possível misturar `Variable` com tensores?\n",
    "2. O que acontece com o grafo computacional após execução do `backward()`?"
   ]
  },
  {
   "cell_type": "markdown",
   "metadata": {
    "hidden": true
   },
   "source": [
    "## Atividades"
   ]
  },
  {
   "cell_type": "markdown",
   "metadata": {
    "ExecuteTime": {
     "end_time": "2017-10-06T22:02:17.474843Z",
     "start_time": "2017-10-06T22:02:17.468865Z"
    },
    "hidden": true
   },
   "source": [
    "1. Execute um passo de atualização do valor de w, pelo \n",
    "gradiente descendente. Utilize um fator de aprendizado (*learning rate*) de 0.1 \n",
    "para atualizar o `w`. Após, recalcule a função de perda:\n",
    "\n",
    "    - w = w - lr * w.grad.data\n",
    "    - execute a célula 1.3.1 e verifique o quanto que a perda J diminuiu\n",
    "    \n",
    "2. No trecho abaixo, uma rede bastante conhecida, `resnet18` contendo 18 camadas \n",
    "   é criada, tendo\n",
    "   como entrada `xin` que é convertida para `Variable`, resultando na saída `y`.\n",
    "   \n",
    "   Descomente a linha que cria a vizualização do grafo computacional e execute a\n",
    "   célula para visualizar o grafo computacional da rede `resnet18`:"
   ]
  },
  {
   "cell_type": "code",
   "execution_count": null,
   "metadata": {
    "ExecuteTime": {
     "end_time": "2017-11-24T14:09:19.519949",
     "start_time": "2017-11-24T16:09:18.148Z"
    },
    "collapsed": true,
    "hidden": true,
    "scrolled": true
   },
   "outputs": [],
   "source": [
    "from torchvision import models\n",
    "xin = torch.randn(1,3,224,224)\n",
    "resnet18 = models.resnet18()\n",
    "y = resnet18(Variable(xin))"
   ]
  },
  {
   "cell_type": "code",
   "execution_count": null,
   "metadata": {
    "ExecuteTime": {
     "end_time": "2017-11-24T14:09:19.520234",
     "start_time": "2017-11-24T16:09:18.153Z"
    },
    "collapsed": true,
    "hidden": true
   },
   "outputs": [],
   "source": [
    "#g = ptviz.make_dot(y, dict(resnet18.named_parameters()))\n",
    "#g"
   ]
  },
  {
   "cell_type": "markdown",
   "metadata": {
    "heading_collapsed": true
   },
   "source": [
    "# Aprendizados com este notebook"
   ]
  },
  {
   "cell_type": "code",
   "execution_count": null,
   "metadata": {
    "collapsed": true,
    "hidden": true
   },
   "outputs": [],
   "source": []
  }
 ],
 "metadata": {
  "kernelspec": {
   "display_name": "Python 3",
   "language": "python",
   "name": "python3"
  },
  "language_info": {
   "codemirror_mode": {
    "name": "ipython",
    "version": 3
   },
   "file_extension": ".py",
   "mimetype": "text/x-python",
   "name": "python",
   "nbconvert_exporter": "python",
   "pygments_lexer": "ipython3",
   "version": "3.6.0"
  },
  "toc": {
   "colors": {
    "hover_highlight": "#DAA520",
    "running_highlight": "#FF0000",
    "selected_highlight": "#FFD700"
   },
   "moveMenuLeft": true,
   "nav_menu": {
    "height": "117px",
    "width": "252px"
   },
   "navigate_menu": true,
   "number_sections": true,
   "sideBar": true,
   "skip_h1_title": false,
   "threshold": 4,
   "toc_cell": false,
   "toc_position": {},
   "toc_section_display": "block",
   "toc_window_display": false
  },
  "varInspector": {
   "cols": {
    "lenName": 16,
    "lenType": 16,
    "lenVar": 40
   },
   "kernels_config": {
    "python": {
     "delete_cmd_postfix": "",
     "delete_cmd_prefix": "del ",
     "library": "var_list.py",
     "varRefreshCmd": "print(var_dic_list())"
    },
    "r": {
     "delete_cmd_postfix": ") ",
     "delete_cmd_prefix": "rm(",
     "library": "var_list.r",
     "varRefreshCmd": "cat(var_dic_list()) "
    }
   },
   "types_to_exclude": [
    "module",
    "function",
    "builtin_function_or_method",
    "instance",
    "_Feature"
   ],
   "window_display": false
  }
 },
 "nbformat": 4,
 "nbformat_minor": 2
}
