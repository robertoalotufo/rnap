{
 "cells": [
  {
   "cell_type": "markdown",
   "metadata": {},
   "source": [
    "# PyTorch: Gradientes e Grafo Computacional"
   ]
  },
  {
   "cell_type": "markdown",
   "metadata": {},
   "source": [
    "## Objetivos"
   ]
  },
  {
   "cell_type": "markdown",
   "metadata": {},
   "source": [
    "Este notebook introduz \n",
    "- o conceito de autograd do PyTorch,\n",
    "- uma interpretação numérica intuitiva do gradiente, e o\n",
    "- grafo computacional, utilizado para o cálculo automático do gradiente de uma função."
   ]
  },
  {
   "cell_type": "markdown",
   "metadata": {},
   "source": [
    "Um dos principais fundamentos para que o PyTorch seja adequado para deep learning é a sua habilidade de\n",
    "calcular o gradiente automaticamente a partir da expressões definidas. Essa facilidade é implementada\n",
    "pelo tensor através do cálculo automático do gradiente pela construção dinâmica do grafo computacional."
   ]
  },
  {
   "cell_type": "markdown",
   "metadata": {},
   "source": [
    "## Grafo computacional"
   ]
  },
  {
   "cell_type": "markdown",
   "metadata": {},
   "source": [
    "```\n",
    "    y_pred = x * w\n",
    "    e = y_pred - y\n",
    "    e2 = e**2\n",
    "    J = e2.sum()\n",
    "```"
   ]
  },
  {
   "cell_type": "markdown",
   "metadata": {},
   "source": [
    "<img src=\"../figures/GrafoComputacional.png\", width=\"600pt\"/>"
   ]
  },
  {
   "cell_type": "code",
   "execution_count": null,
   "metadata": {},
   "outputs": [],
   "source": []
  },
  {
   "cell_type": "markdown",
   "metadata": {},
   "source": [
    "Para entender melhor o funcionamento do grafo computacional com os tensores, recomenda-se leitura em:\n",
    "\n",
    "https://pytorch.org/docs/stable/notes/autograd.html"
   ]
  },
  {
   "cell_type": "code",
   "execution_count": 1,
   "metadata": {
    "ExecuteTime": {
     "end_time": "2018-05-21T21:42:48.675286Z",
     "start_time": "2018-05-21T21:42:48.041814Z"
    }
   },
   "outputs": [],
   "source": [
    "import torch"
   ]
  },
  {
   "cell_type": "markdown",
   "metadata": {},
   "source": [
    "## Se um tensor possui .requires_grad=True"
   ]
  },
  {
   "cell_type": "code",
   "execution_count": 4,
   "metadata": {
    "ExecuteTime": {
     "end_time": "2018-05-21T21:43:52.708836Z",
     "start_time": "2018-05-21T21:43:52.702367Z"
    }
   },
   "outputs": [
    {
     "data": {
      "text/plain": [
       "tensor([ 0.,  2.,  4.,  6.])"
      ]
     },
     "execution_count": 4,
     "metadata": {},
     "output_type": "execute_result"
    }
   ],
   "source": [
    "y = 2 * torch.arange(0,4)\n",
    "y"
   ]
  },
  {
   "cell_type": "code",
   "execution_count": 5,
   "metadata": {
    "ExecuteTime": {
     "end_time": "2018-05-21T21:43:53.358075Z",
     "start_time": "2018-05-21T21:43:53.351161Z"
    }
   },
   "outputs": [
    {
     "data": {
      "text/plain": [
       "tensor([ 0.,  1.,  2.,  3.])"
      ]
     },
     "execution_count": 5,
     "metadata": {},
     "output_type": "execute_result"
    }
   ],
   "source": [
    "x = torch.arange(0,4); x"
   ]
  },
  {
   "cell_type": "code",
   "execution_count": 6,
   "metadata": {
    "ExecuteTime": {
     "end_time": "2018-05-21T21:43:54.582051Z",
     "start_time": "2018-05-21T21:43:54.572264Z"
    }
   },
   "outputs": [
    {
     "data": {
      "text/plain": [
       "tensor([ 1.])"
      ]
     },
     "execution_count": 6,
     "metadata": {},
     "output_type": "execute_result"
    }
   ],
   "source": [
    "w = torch.ones(1,requires_grad=True); w"
   ]
  },
  {
   "cell_type": "markdown",
   "metadata": {},
   "source": [
    "## Cálculo automático do gradiente da função perda J"
   ]
  },
  {
   "cell_type": "markdown",
   "metadata": {},
   "source": [
    "Seja a expressão: $$ J = ((x  w) - y)^2 $$\n",
    "\n",
    "Queremos calcular a derivada de $J$ em relação a $w$."
   ]
  },
  {
   "cell_type": "markdown",
   "metadata": {},
   "source": [
    "### Montagem do grafo computacional"
   ]
  },
  {
   "cell_type": "code",
   "execution_count": 7,
   "metadata": {
    "ExecuteTime": {
     "end_time": "2018-05-21T21:43:59.926190Z",
     "start_time": "2018-05-21T21:43:59.917681Z"
    }
   },
   "outputs": [
    {
     "data": {
      "text/plain": [
       "tensor(14.)"
      ]
     },
     "execution_count": 7,
     "metadata": {},
     "output_type": "execute_result"
    }
   ],
   "source": [
    "# predict (forward)\n",
    "y_pred = x * w\n",
    "\n",
    "# cálculo da perda J: loss\n",
    "e = y_pred - y\n",
    "e2 = e.pow(2)\n",
    "J = e2.sum()\n",
    "J"
   ]
  },
  {
   "cell_type": "markdown",
   "metadata": {},
   "source": [
    "## Auto grad - processa o grafo computacional backwards"
   ]
  },
  {
   "cell_type": "markdown",
   "metadata": {
    "ExecuteTime": {
     "end_time": "2017-10-04T15:55:45.308858",
     "start_time": "2017-10-04T15:55:45.304654"
    }
   },
   "source": [
    "O `backward()` varre o grafo computacional a partir da variável a ele associada e calcula o gradiente para todos os tensores que possuem o atributo `requires_grad` como verdadeiro.\n",
    "O `backward()` destroi o grafo após sua execução. Isso é intrínsico ao PyTorch pelo fato dele ser uma rede dinâmica."
   ]
  },
  {
   "cell_type": "code",
   "execution_count": 8,
   "metadata": {
    "ExecuteTime": {
     "end_time": "2018-05-21T21:44:01.671957Z",
     "start_time": "2018-05-21T21:44:01.664128Z"
    }
   },
   "outputs": [
    {
     "name": "stdout",
     "output_type": "stream",
     "text": [
      "tensor([-28.])\n"
     ]
    }
   ],
   "source": [
    "J.backward()\n",
    "print(w.grad)"
   ]
  },
  {
   "cell_type": "code",
   "execution_count": 9,
   "metadata": {
    "ExecuteTime": {
     "end_time": "2018-05-21T21:44:02.428737Z",
     "start_time": "2018-05-21T21:44:02.423583Z"
    },
    "collapsed": true
   },
   "outputs": [],
   "source": [
    "w.grad.data.zero_();"
   ]
  },
  {
   "cell_type": "markdown",
   "metadata": {},
   "source": [
    "## Interpretação do Gradiente"
   ]
  },
  {
   "cell_type": "markdown",
   "metadata": {},
   "source": [
    "O gradiente de uma variável final (J) com respeito à outra variável de entrada (w) pode ser interpretado como o quanto a variável final J vai aumentar se houver um pequeno aumento na variável de entrada (w).\n",
    "Por exemplo suponha que o gradiente seja 28. Isto significa se aumentarmos a variável w de 0.001, então J vai aumentar de 0.028."
   ]
  },
  {
   "cell_type": "code",
   "execution_count": 10,
   "metadata": {
    "ExecuteTime": {
     "end_time": "2018-05-21T21:44:04.205496Z",
     "start_time": "2018-05-21T21:44:04.197001Z"
    }
   },
   "outputs": [
    {
     "data": {
      "text/plain": [
       "tensor(13.9720)"
      ]
     },
     "execution_count": 10,
     "metadata": {},
     "output_type": "execute_result"
    }
   ],
   "source": [
    "eps = 0.001\n",
    "y_pred = x * (w+eps)\n",
    "J_new = (y_pred - y).pow(2).sum()\n",
    "J_new"
   ]
  },
  {
   "cell_type": "code",
   "execution_count": 11,
   "metadata": {
    "ExecuteTime": {
     "end_time": "2018-05-21T21:44:04.853153Z",
     "start_time": "2018-05-21T21:44:04.848547Z"
    }
   },
   "outputs": [
    {
     "name": "stdout",
     "output_type": "stream",
     "text": [
      "-0.027988433837890625\n"
     ]
    }
   ],
   "source": [
    "print((J_new - J).data.numpy())"
   ]
  },
  {
   "cell_type": "markdown",
   "metadata": {},
   "source": [
    "## Back propagation"
   ]
  },
  {
   "cell_type": "markdown",
   "metadata": {},
   "source": [
    "Uma forma equivalente explícita de calcular o gradiente é fazendo o processamento do backpropagation no grafo computacional, de forma explícita.\n",
    "Apenas como ilustração."
   ]
  },
  {
   "cell_type": "code",
   "execution_count": 12,
   "metadata": {
    "ExecuteTime": {
     "end_time": "2018-05-21T21:44:06.416010Z",
     "start_time": "2018-05-21T21:44:06.402508Z"
    },
    "scrolled": false
   },
   "outputs": [
    {
     "name": "stdout",
     "output_type": "stream",
     "text": [
      "1.0\n",
      "[ 1.  1.  1.  1.]\n",
      "[ 0. -2. -4. -6.]\n",
      "-28.0\n"
     ]
    }
   ],
   "source": [
    "import numpy as np\n",
    "\n",
    "dJ = 1.\n",
    "de2 = dJ * np.ones((4,))\n",
    "de = de2 * 2 * e.data.numpy()\n",
    "dy_pred = de\n",
    "dw = (dy_pred * x.data.numpy()).sum()\n",
    "print(dJ)\n",
    "print(de2)\n",
    "print(de)\n",
    "print(dw)\n"
   ]
  },
  {
   "cell_type": "markdown",
   "metadata": {},
   "source": [
    "## Visualizando o grafo computacional"
   ]
  },
  {
   "cell_type": "code",
   "execution_count": 13,
   "metadata": {
    "ExecuteTime": {
     "end_time": "2018-05-21T21:44:10.217536Z",
     "start_time": "2018-05-21T21:44:10.201618Z"
    },
    "collapsed": true
   },
   "outputs": [],
   "source": [
    "import lib.pytorch_visualize as ptviz"
   ]
  },
  {
   "cell_type": "code",
   "execution_count": 14,
   "metadata": {
    "ExecuteTime": {
     "end_time": "2018-05-21T21:44:11.763352Z",
     "start_time": "2018-05-21T21:44:11.067548Z"
    }
   },
   "outputs": [
    {
     "data": {
      "image/svg+xml": [
       "<?xml version=\"1.0\" encoding=\"UTF-8\" standalone=\"no\"?>\n",
       "<!DOCTYPE svg PUBLIC \"-//W3C//DTD SVG 1.1//EN\"\n",
       " \"http://www.w3.org/Graphics/SVG/1.1/DTD/svg11.dtd\">\n",
       "<!-- Generated by graphviz version 2.40.1 (20161225.0304)\n",
       " -->\n",
       "<!-- Title: %3 Pages: 1 -->\n",
       "<svg width=\"88pt\" height=\"327pt\"\n",
       " viewBox=\"0.00 0.00 88.00 327.00\" xmlns=\"http://www.w3.org/2000/svg\" xmlns:xlink=\"http://www.w3.org/1999/xlink\">\n",
       "<g id=\"graph0\" class=\"graph\" transform=\"scale(1 1) rotate(0) translate(4 323)\">\n",
       "<title>%3</title>\n",
       "<polygon fill=\"#ffffff\" stroke=\"transparent\" points=\"-4,4 -4,-323 84,-323 84,4 -4,4\"/>\n",
       "<!-- 4574540296 -->\n",
       "<g id=\"node1\" class=\"node\">\n",
       "<title>4574540296</title>\n",
       "<polygon fill=\"#d3d3d3\" stroke=\"#000000\" points=\"77,-21 3,-21 3,0 77,0 77,-21\"/>\n",
       "<text text-anchor=\"middle\" x=\"40\" y=\"-7.4\" font-family=\"Times,serif\" font-size=\"12.00\" fill=\"#000000\">SumBackward0</text>\n",
       "</g>\n",
       "<!-- 4574540352 -->\n",
       "<g id=\"node2\" class=\"node\">\n",
       "<title>4574540352</title>\n",
       "<polygon fill=\"#d3d3d3\" stroke=\"#000000\" points=\"76.5,-78 3.5,-78 3.5,-57 76.5,-57 76.5,-78\"/>\n",
       "<text text-anchor=\"middle\" x=\"40\" y=\"-64.4\" font-family=\"Times,serif\" font-size=\"12.00\" fill=\"#000000\">PowBackward0</text>\n",
       "</g>\n",
       "<!-- 4574540352&#45;&gt;4574540296 -->\n",
       "<g id=\"edge1\" class=\"edge\">\n",
       "<title>4574540352&#45;&gt;4574540296</title>\n",
       "<path fill=\"none\" stroke=\"#000000\" d=\"M40,-56.7787C40,-49.6134 40,-39.9517 40,-31.3097\"/>\n",
       "<polygon fill=\"#000000\" stroke=\"#000000\" points=\"43.5001,-31.1732 40,-21.1732 36.5001,-31.1732 43.5001,-31.1732\"/>\n",
       "</g>\n",
       "<!-- 4574540464 -->\n",
       "<g id=\"node3\" class=\"node\">\n",
       "<title>4574540464</title>\n",
       "<polygon fill=\"#d3d3d3\" stroke=\"#000000\" points=\"75.5,-135 4.5,-135 4.5,-114 75.5,-114 75.5,-135\"/>\n",
       "<text text-anchor=\"middle\" x=\"40\" y=\"-121.4\" font-family=\"Times,serif\" font-size=\"12.00\" fill=\"#000000\">SubBackward1</text>\n",
       "</g>\n",
       "<!-- 4574540464&#45;&gt;4574540352 -->\n",
       "<g id=\"edge2\" class=\"edge\">\n",
       "<title>4574540464&#45;&gt;4574540352</title>\n",
       "<path fill=\"none\" stroke=\"#000000\" d=\"M40,-113.7787C40,-106.6134 40,-96.9517 40,-88.3097\"/>\n",
       "<polygon fill=\"#000000\" stroke=\"#000000\" points=\"43.5001,-88.1732 40,-78.1732 36.5001,-88.1732 43.5001,-88.1732\"/>\n",
       "</g>\n",
       "<!-- 4570151848 -->\n",
       "<g id=\"node4\" class=\"node\">\n",
       "<title>4570151848</title>\n",
       "<polygon fill=\"#d3d3d3\" stroke=\"#000000\" points=\"76,-192 4,-192 4,-171 76,-171 76,-192\"/>\n",
       "<text text-anchor=\"middle\" x=\"40\" y=\"-178.4\" font-family=\"Times,serif\" font-size=\"12.00\" fill=\"#000000\">MulBackward1</text>\n",
       "</g>\n",
       "<!-- 4570151848&#45;&gt;4574540464 -->\n",
       "<g id=\"edge3\" class=\"edge\">\n",
       "<title>4570151848&#45;&gt;4574540464</title>\n",
       "<path fill=\"none\" stroke=\"#000000\" d=\"M40,-170.7787C40,-163.6134 40,-153.9517 40,-145.3097\"/>\n",
       "<polygon fill=\"#000000\" stroke=\"#000000\" points=\"43.5001,-145.1732 40,-135.1732 36.5001,-145.1732 43.5001,-145.1732\"/>\n",
       "</g>\n",
       "<!-- 4522635728 -->\n",
       "<g id=\"node5\" class=\"node\">\n",
       "<title>4522635728</title>\n",
       "<polygon fill=\"#d3d3d3\" stroke=\"#000000\" points=\"80,-249 0,-249 0,-228 80,-228 80,-249\"/>\n",
       "<text text-anchor=\"middle\" x=\"40\" y=\"-235.4\" font-family=\"Times,serif\" font-size=\"12.00\" fill=\"#000000\">ExpandBackward</text>\n",
       "</g>\n",
       "<!-- 4522635728&#45;&gt;4570151848 -->\n",
       "<g id=\"edge4\" class=\"edge\">\n",
       "<title>4522635728&#45;&gt;4570151848</title>\n",
       "<path fill=\"none\" stroke=\"#000000\" d=\"M40,-227.7787C40,-220.6134 40,-210.9517 40,-202.3097\"/>\n",
       "<polygon fill=\"#000000\" stroke=\"#000000\" points=\"43.5001,-202.1732 40,-192.1732 36.5001,-202.1732 43.5001,-202.1732\"/>\n",
       "</g>\n",
       "<!-- 4522523448 -->\n",
       "<g id=\"node6\" class=\"node\">\n",
       "<title>4522523448</title>\n",
       "<polygon fill=\"#add8e6\" stroke=\"#000000\" points=\"67,-319 13,-319 13,-285 67,-285 67,-319\"/>\n",
       "<text text-anchor=\"middle\" x=\"40\" y=\"-305.4\" font-family=\"Times,serif\" font-size=\"12.00\" fill=\"#000000\">w</text>\n",
       "<text text-anchor=\"middle\" x=\"40\" y=\"-292.4\" font-family=\"Times,serif\" font-size=\"12.00\" fill=\"#000000\"> (1)</text>\n",
       "</g>\n",
       "<!-- 4522523448&#45;&gt;4522635728 -->\n",
       "<g id=\"edge5\" class=\"edge\">\n",
       "<title>4522523448&#45;&gt;4522635728</title>\n",
       "<path fill=\"none\" stroke=\"#000000\" d=\"M40,-284.9832C40,-277.1157 40,-267.6973 40,-259.4019\"/>\n",
       "<polygon fill=\"#000000\" stroke=\"#000000\" points=\"43.5001,-259.3686 40,-249.3687 36.5001,-259.3687 43.5001,-259.3686\"/>\n",
       "</g>\n",
       "</g>\n",
       "</svg>\n"
      ],
      "text/plain": [
       "<graphviz.dot.Digraph at 0x117108668>"
      ]
     },
     "execution_count": 14,
     "metadata": {},
     "output_type": "execute_result"
    }
   ],
   "source": [
    "J = ((w * x) - y).pow(2).sum()\n",
    "p = {'w':w} # dicionário de parâmetros\n",
    "out = ptviz.make_dot(J,params=p)\n",
    "out"
   ]
  },
  {
   "cell_type": "markdown",
   "metadata": {
    "collapsed": true
   },
   "source": [
    "# Exercícios"
   ]
  },
  {
   "cell_type": "markdown",
   "metadata": {},
   "source": [
    "## Questões"
   ]
  },
  {
   "cell_type": "markdown",
   "metadata": {},
   "source": [
    "1. O que acontece com o grafo computacional após execução do `backward()`?"
   ]
  },
  {
   "cell_type": "markdown",
   "metadata": {},
   "source": [
    "## Atividades"
   ]
  },
  {
   "cell_type": "markdown",
   "metadata": {
    "ExecuteTime": {
     "end_time": "2017-10-06T22:02:17.474843Z",
     "start_time": "2017-10-06T22:02:17.468865Z"
    }
   },
   "source": [
    "1. Execute um passo de atualização do valor de w, pelo \n",
    "gradiente descendente. Utilize um fator de aprendizado (*learning rate*) de 0.1 \n",
    "para atualizar o `w`. Após, recalcule a função de perda:\n",
    "\n",
    "    - w = w - lr * w.grad.data\n",
    "    - execute a célula 1.3.1 e verifique o quanto que a perda J diminuiu\n",
    "    \n",
    "2. No trecho abaixo, uma rede bastante conhecida, `resnet18` contendo 18 camadas \n",
    "   é criada, tendo\n",
    "   como entrada `xin`, resultando na saída `y`.\n",
    "   \n",
    "   Descomente a linha que cria a vizualização do grafo computacional e execute a\n",
    "   célula para visualizar o grafo computacional da rede `resnet18`:"
   ]
  },
  {
   "cell_type": "code",
   "execution_count": 15,
   "metadata": {
    "ExecuteTime": {
     "end_time": "2018-05-21T21:44:34.688035Z",
     "start_time": "2018-05-21T21:44:33.749364Z"
    },
    "scrolled": true
   },
   "outputs": [],
   "source": [
    "from torchvision import models\n",
    "xin = torch.randn(1,3,224,224)\n",
    "resnet18 = models.resnet18()\n",
    "y = resnet18(xin)"
   ]
  },
  {
   "cell_type": "code",
   "execution_count": 16,
   "metadata": {
    "ExecuteTime": {
     "end_time": "2018-05-21T21:44:40.557889Z",
     "start_time": "2018-05-21T21:44:40.554310Z"
    }
   },
   "outputs": [],
   "source": [
    "#g = ptviz.make_dot(y, dict(resnet18.named_parameters()))\n",
    "#g"
   ]
  },
  {
   "cell_type": "markdown",
   "metadata": {
    "heading_collapsed": true
   },
   "source": [
    "# Aprendizados com este notebook"
   ]
  },
  {
   "cell_type": "code",
   "execution_count": null,
   "metadata": {
    "collapsed": true,
    "hidden": true
   },
   "outputs": [],
   "source": []
  }
 ],
 "metadata": {
  "kernelspec": {
   "display_name": "Python [default]",
   "language": "python",
   "name": "python3"
  },
  "language_info": {
   "codemirror_mode": {
    "name": "ipython",
    "version": 3
   },
   "file_extension": ".py",
   "mimetype": "text/x-python",
   "name": "python",
   "nbconvert_exporter": "python",
   "pygments_lexer": "ipython3",
   "version": "3.6.5"
  },
  "toc": {
   "nav_menu": {
    "height": "117px",
    "width": "252px"
   },
   "number_sections": true,
   "sideBar": true,
   "skip_h1_title": false,
   "toc_cell": false,
   "toc_position": {},
   "toc_section_display": "block",
   "toc_window_display": false
  },
  "varInspector": {
   "cols": {
    "lenName": 16,
    "lenType": 16,
    "lenVar": 40
   },
   "kernels_config": {
    "python": {
     "delete_cmd_postfix": "",
     "delete_cmd_prefix": "del ",
     "library": "var_list.py",
     "varRefreshCmd": "print(var_dic_list())"
    },
    "r": {
     "delete_cmd_postfix": ") ",
     "delete_cmd_prefix": "rm(",
     "library": "var_list.r",
     "varRefreshCmd": "cat(var_dic_list()) "
    }
   },
   "types_to_exclude": [
    "module",
    "function",
    "builtin_function_or_method",
    "instance",
    "_Feature"
   ],
   "window_display": false
  }
 },
 "nbformat": 4,
 "nbformat_minor": 2
}
