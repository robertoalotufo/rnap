{
 "cells": [
  {
   "cell_type": "markdown",
   "metadata": {},
   "source": [
    "# Curso Deep Learning na Prática"
   ]
  },
  {
   "cell_type": "markdown",
   "metadata": {},
   "source": [
    "<img src=\"../figures/capa_nm_artenote_dlnapratica.png\"></a>"
   ]
  },
  {
   "cell_type": "code",
   "execution_count": 3,
   "metadata": {
    "ExecuteTime": {
     "end_time": "2017-10-04T22:47:30.775249Z",
     "start_time": "2017-10-04T22:47:30.501472Z"
    }
   },
   "outputs": [
    {
     "name": "stdout",
     "output_type": "stream",
     "text": [
      "      27\n",
      "0_index.ipynb\n",
      "Activations_pytorch.ipynb\n",
      "Cats_and_dogs.ipynb\n",
      "Exercicio-MNIST-varias-camadas.ipynb\n",
      "ExercicioIntrodutorio.ipynb\n",
      "Explorando-Convolucao-no-PyTorch.ipynb\n",
      "Introducao-CNN-PyTorch.ipynb\n",
      "Iris-dataset-2-ou-mais-camadas-fronteira-dinamica.ipynb\n",
      "LinearRegressionIrisNumPy.ipynb\n",
      "LinearRegressionIrisOptimizer.ipynb\n",
      "LinearRegressionIrisPyTorch.ipynb\n",
      "LogisticRegressionIris.ipynb\n",
      "Matrizes_Arrays_Tensores.ipynb\n",
      "MovieLens_dataset_pytorch.ipynb\n",
      "MovingMean_Momentum.ipynb\n",
      "PyTorch_Variaveis_Gradientes.ipynb\n",
      "Regressao-Logistica-MNIST-matricial.ipynb\n",
      "RegressaoLinearDemo.ipynb\n",
      "SistemaRecomendacao-pytorch.ipynb\n",
      "cifar10-CNN-features.ipynb\n",
      "datasets-e-dataloaders.ipynb\n",
      "embedding-basics-pytorch.ipynb\n",
      "fully_convolutional.ipynb\n",
      "\u001b[34mimages\u001b[m\u001b[m/\n",
      "lenet-mnist.ipynb\n",
      "\u001b[34mlib\u001b[m\u001b[m/\n",
      "underfitting-overfitting-regularization.ipynb\n"
     ]
    }
   ],
   "source": [
    "%ls | wc -l\n",
    "%ls"
   ]
  },
  {
   "cell_type": "markdown",
   "metadata": {},
   "source": [
    "## I - Introdução"
   ]
  },
  {
   "cell_type": "markdown",
   "metadata": {},
   "source": [
    "- [ExercicioIntrodutorio.ipynb](ExercicioIntrodutorio.ipynb)\n",
    "- [Matrizes_Arrays_Tensores.ipynb](Matrizes_Arrays_Tensores.ipynb)\n",
    "- [MovingMean_Momentum.ipynb](MovingMean_Momentum.ipynb)"
   ]
  },
  {
   "cell_type": "markdown",
   "metadata": {},
   "source": [
    "- [Cats_and_dogs.ipynb](Cats_and_dogs.ipynb)"
   ]
  },
  {
   "cell_type": "markdown",
   "metadata": {},
   "source": [
    "## II - Introdução a Redes Neurais"
   ]
  },
  {
   "cell_type": "markdown",
   "metadata": {},
   "source": [
    "### Regressão Linear"
   ]
  },
  {
   "cell_type": "markdown",
   "metadata": {},
   "source": [
    "- [RegressaoLinearDemo.ipynb](RegressaoLinearDemo.ipynb)\n",
    "    - Problema Regressão Linear\n",
    "    - Ilustração da dinâmica da otimização via gradiente descendente\n",
    "    - reta sendo ajustada, espaço de parâmetros, curva de perda"
   ]
  },
  {
   "cell_type": "markdown",
   "metadata": {},
   "source": [
    "- [LinearRegressionIrisNumPy.ipynb](LinearRegressionIrisNumPy.ipynb)\n",
    "    - programação matricial NumPy\n",
    "    - gradiente calculado analiticamente\n",
    "    - atualização explicíta do gradiente \n",
    "    \n",
    "- Exercício de utilizar tensores na solução com NumPy"
   ]
  },
  {
   "cell_type": "markdown",
   "metadata": {},
   "source": [
    "- [PyTorch_Variaveis_Gradientes.ipynb](PyTorch_Variaveis_Gradientes.ipynb)\n",
    "    - Introdução à Variables\n",
    "    - autograd do PyTorch - grafo computacional\n",
    "    - cálculo do gradiente\n",
    "- [LinearRegressionIrisPyTorch.ipynb](LinearRegressionIrisPyTorch.ipynb)\n",
    "    - uso da classe nn.Linear\n",
    "    - uso do autograd\n",
    "    - loss explícito\n",
    "    - atualização do parâmetro explícito"
   ]
  },
  {
   "cell_type": "markdown",
   "metadata": {},
   "source": [
    "- [LinearRegressionIrisOptimizer.ipynb](LinearRegressionIrisOptimizer.ipynb)\n",
    "- uso da classe nn.Linear\n",
    "    - uso de função perda nn.MSELoss\n",
    "    - uso do otimizador"
   ]
  },
  {
   "cell_type": "markdown",
   "metadata": {
    "ExecuteTime": {
     "end_time": "2017-10-02T15:25:47.588837Z",
     "start_time": "2017-10-02T15:25:47.582749Z"
    },
    "collapsed": true
   },
   "source": [
    "- funções de loss - MSE e CrossEntropia (novo) - Yugo\n",
    "- [LogisticRegressionIris.ipynb](LogisticRegressionIris.ipynb)\n",
    "    - alvo: 3 classes iris\n",
    "    - função de perda nn.CrossEntropy\n",
    "    - cálculo da probabilidade pelo SoftMax\n",
    "    - salvando e recuperando pesos de um arquivo\n",
    "- [dataset e dataload com MNIST](datasets-e-dataloaders.ipynb)\n",
    "    - dataload via mini-batches\n",
    "- [logística MNIST loader - visualização dos pesos](Regressao-Logistica-MNIST-matricial.ipynb)\n",
    "    - gradiente descendente estocástico via mini-batch\n",
    "    - visualização dos pesos durante gradiente descendente"
   ]
  },
  {
   "cell_type": "markdown",
   "metadata": {},
   "source": [
    "### Redes Neurais"
   ]
  },
  {
   "cell_type": "markdown",
   "metadata": {},
   "source": [
    " - [Activations_pytorch.ipynb](Activations_pytorch.ipynb)\n",
    "     - apresentação das ativações com suas equações e gráficos \n",
    " - [Iris classificação com 2 ou mais camadas](Iris-dataset-2-ou-mais-camadas-fronteira-dinamica.ipynb)\n",
    "     - Construção da rede via classe nn\n",
    "     - Rede com mais de uma camada\n",
    " - [Exercício com o MNIST - várias camadas](Exercicio-MNIST-varias-camadas.ipynb)\n",
    " - [Exercício com o MNIST - várias camadas - Gabarito](Exercicio-MNIST-varias-camadas-Gabarito.ipynb)\n",
    "     - Exercício com MNIST para treinar a criação de de DataLoaders e a Criação da rede com mais de uma camada\n",
    " - [underfitting-overfitting-regularization.ipynb](underfitting-overfitting-regularization.ipynb)\n",
    "     - ilustração gráfica do underfitting e overfitting\n",
    "     - regularizaçào L2\n",
    " - Exemplo de aplicação - qualidade de vinho (exercício com notebook a ser preenchido) (Lotufo)"
   ]
  },
  {
   "cell_type": "markdown",
   "metadata": {},
   "source": [
    "## III - Redes Neurais Profundas - Redes Convolucionais"
   ]
  },
  {
   "cell_type": "markdown",
   "metadata": {},
   "source": [
    "- [Explorando-Convolucao-no-PyTorch.ipynb](Explorando-Convolucao-no-PyTorch.ipynb)\n",
    "- [Introducao-CNN-PyTorch.ipynb](Introducao-CNN-PyTorch.ipynb)\n",
    "- [cifar10-CNN-features.ipynb](cifar10-CNN-features.ipynb)\n",
    "- [lenet-mnist.ipynb](lenet-mnist.ipynb)\n",
    "- [Cats_and_dogs.ipynb](Cats_and_dogs.ipynb)\n",
    "    - Transferência de conhecimento"
   ]
  },
  {
   "cell_type": "markdown",
   "metadata": {},
   "source": [
    "- [fully_convolutional.ipynb](fully_convolutional.ipynb)"
   ]
  },
  {
   "cell_type": "markdown",
   "metadata": {
    "ExecuteTime": {
     "end_time": "2017-09-30T16:43:01.960631Z",
     "start_time": "2017-09-30T16:43:01.950225Z"
    }
   },
   "source": [
    "## IV - Embeddings"
   ]
  },
  {
   "cell_type": "markdown",
   "metadata": {
    "ExecuteTime": {
     "end_time": "2017-09-30T16:59:54.948077Z",
     "start_time": "2017-09-30T16:59:54.831572Z"
    }
   },
   "source": [
    "- [MovieLens_dataset_pytorch.ipynb](MovieLens_dataset_pytorch.ipynb)\n",
    "- [embedding-basics-pytorch.ipynb](embedding-basics-pytorch.ipynb)\n",
    "- [SistemaRecomendacao-pytorch.ipynb](SistemaRecomendacao-pytorch.ipynb)"
   ]
  },
  {
   "cell_type": "markdown",
   "metadata": {},
   "source": [
    "## Código para jupyter notebook utilizar toda a largura da tela"
   ]
  },
  {
   "cell_type": "code",
   "execution_count": 1,
   "metadata": {
    "ExecuteTime": {
     "end_time": "2017-10-04T21:10:45.426332Z",
     "start_time": "2017-10-04T21:10:45.412918Z"
    }
   },
   "outputs": [
    {
     "data": {
      "text/html": [
       "<style>.container { width:100% !important; }</style>"
      ],
      "text/plain": [
       "<IPython.core.display.HTML object>"
      ]
     },
     "metadata": {},
     "output_type": "display_data"
    }
   ],
   "source": [
    "from IPython.core.display import display, HTML\n",
    "display(HTML(\"<style>.container { width:100% !important; }</style>\"))"
   ]
  },
  {
   "cell_type": "markdown",
   "metadata": {},
   "source": [
    "## Versões dos software instalados"
   ]
  },
  {
   "cell_type": "code",
   "execution_count": 2,
   "metadata": {
    "ExecuteTime": {
     "end_time": "2017-10-04T21:10:56.169181Z",
     "start_time": "2017-10-04T21:10:53.718330Z"
    }
   },
   "outputs": [
    {
     "name": "stdout",
     "output_type": "stream",
     "text": [
      "5.0.0\n",
      "numpy versão: 1.13.1\n",
      "pytorch versão: 0.2.0_4\n"
     ]
    }
   ],
   "source": [
    "!jupyter notebook --version\n",
    "import numpy\n",
    "print('numpy versão:',numpy.__version__)\n",
    "import torch\n",
    "print('pytorch versão:',torch.__version__)"
   ]
  },
  {
   "cell_type": "code",
   "execution_count": null,
   "metadata": {
    "collapsed": true
   },
   "outputs": [],
   "source": []
  }
 ],
 "metadata": {
  "kernelspec": {
   "display_name": "Python 3",
   "language": "python",
   "name": "python3"
  },
  "language_info": {
   "codemirror_mode": {
    "name": "ipython",
    "version": 3
   },
   "file_extension": ".py",
   "mimetype": "text/x-python",
   "name": "python",
   "nbconvert_exporter": "python",
   "pygments_lexer": "ipython3",
   "version": "3.6.1"
  },
  "toc": {
   "nav_menu": {
    "height": "30px",
    "width": "252px"
   },
   "number_sections": true,
   "sideBar": true,
   "skip_h1_title": false,
   "toc_cell": false,
   "toc_position": {},
   "toc_section_display": "block",
   "toc_window_display": false
  },
  "varInspector": {
   "cols": {
    "lenName": 16,
    "lenType": 16,
    "lenVar": 40
   },
   "kernels_config": {
    "python": {
     "delete_cmd_postfix": "",
     "delete_cmd_prefix": "del ",
     "library": "var_list.py",
     "varRefreshCmd": "print(var_dic_list())"
    },
    "r": {
     "delete_cmd_postfix": ") ",
     "delete_cmd_prefix": "rm(",
     "library": "var_list.r",
     "varRefreshCmd": "cat(var_dic_list()) "
    }
   },
   "types_to_exclude": [
    "module",
    "function",
    "builtin_function_or_method",
    "instance",
    "_Feature"
   ],
   "window_display": false
  }
 },
 "nbformat": 4,
 "nbformat_minor": 2
}
