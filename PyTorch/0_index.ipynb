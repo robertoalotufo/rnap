{
 "cells": [
  {
   "cell_type": "markdown",
   "metadata": {},
   "source": [
    "# Curso Deep Learning na Prática"
   ]
  },
  {
   "cell_type": "markdown",
   "metadata": {},
   "source": [
    "<img src=\"../figures/capa_nm_artenote_dlnapratica.png\"></a>"
   ]
  },
  {
   "cell_type": "markdown",
   "metadata": {},
   "source": [
    "## I - Introdução"
   ]
  },
  {
   "cell_type": "markdown",
   "metadata": {},
   "source": [
    "- [ExercicioIntrodutorio.ipynb](ExercicioIntrodutorio.ipynb)\n",
    "- [Matrizes_Arrays_Tensores.ipynb](Matrizes_Arrays_Tensores.ipynb)\n",
    "- [MovingMean_Momentum.ipynb](MovingMean_Momentum.ipynb)"
   ]
  },
  {
   "cell_type": "markdown",
   "metadata": {},
   "source": [
    "### Competição Kaggle cats and dogs (motivação)"
   ]
  },
  {
   "cell_type": "markdown",
   "metadata": {},
   "source": [
    "- [Cats_and_dogs.ipynb](Cats_and_dogs.ipynb)\n",
    "    - competição iniciada 4 anos atrás: 80%\n",
    "    - hoje, mais que 98%"
   ]
  },
  {
   "cell_type": "markdown",
   "metadata": {},
   "source": [
    "## II - Introdução a Redes Neurais"
   ]
  },
  {
   "cell_type": "markdown",
   "metadata": {},
   "source": [
    "### Regressão Linear"
   ]
  },
  {
   "cell_type": "markdown",
   "metadata": {},
   "source": [
    "- [RegressaoLinearDemo.ipynb](RegressaoLinearDemo.ipynb)\n",
    "    - Problema Regressão Linear\n",
    "    - Ilustração da dinâmica da otimização via gradiente descendente\n",
    "    - reta sendo ajustada, espaço de parâmetros, curva de perda"
   ]
  },
  {
   "cell_type": "markdown",
   "metadata": {},
   "source": [
    "- [LinearRegressionIrisNumPy.ipynb](LinearRegressionIrisNumPy.ipynb)\n",
    "    - programação matricial NumPy\n",
    "    - gradiente calculado analiticamente\n",
    "    - atualização explicíta do gradiente \n",
    "    "
   ]
  },
  {
   "cell_type": "markdown",
   "metadata": {},
   "source": [
    "- [Exercício de Regressão Linear com Tensores](LinearRegressionIris-Tensor.ipynb)\n",
    "- [Exercício de Regressão Linear com Tensores - Solução](LinearRegressionIris-Tensor-Solucao.ipynb)\n",
    "    - programação matricial PyTorch\n",
    "    - gradiente calculado analiticamente\n",
    "    - atualização explicíta do gradiente "
   ]
  },
  {
   "cell_type": "markdown",
   "metadata": {},
   "source": [
    "- [PyTorch_Variaveis_Gradientes.ipynb](PyTorch_Variaveis_Gradientes.ipynb)\n",
    "    - Introdução à Variables\n",
    "    - autograd do PyTorch - grafo computacional\n",
    "    - cálculo do gradiente"
   ]
  },
  {
   "cell_type": "markdown",
   "metadata": {},
   "source": [
    "- [LinearRegressionIrisPyTorch.ipynb](LinearRegressionIrisPyTorch.ipynb)\n",
    "    - uso da classe nn.Linear\n",
    "    - uso do autograd\n",
    "    - loss explícito\n",
    "    - atualização do parâmetro explícito"
   ]
  },
  {
   "cell_type": "markdown",
   "metadata": {},
   "source": [
    "- [LinearRegressionIrisOptimizer.ipynb](LinearRegressionIrisOptimizer.ipynb)\n",
    "    - uso da classe nn.Linear\n",
    "    - uso de função perda nn.MSELoss\n",
    "    - uso do otimizador"
   ]
  },
  {
   "cell_type": "markdown",
   "metadata": {},
   "source": [
    "### Regressão Logística - classificador"
   ]
  },
  {
   "cell_type": "markdown",
   "metadata": {},
   "source": [
    "- [LogisticRegressionIris.ipynb](LogisticRegressionIris.ipynb)\n",
    "    - alvo: 3 classes iris\n",
    "    - função de perda nn.CrossEntropy\n",
    "    - cálculo da probabilidade pelo SoftMax\n",
    "    - salvando e recuperando pesos de um arquivo"
   ]
  },
  {
   "cell_type": "markdown",
   "metadata": {
    "ExecuteTime": {
     "end_time": "2017-10-02T15:25:47.588837Z",
     "start_time": "2017-10-02T15:25:47.582749Z"
    },
    "collapsed": true
   },
   "source": [
    "- [LogisticRegressionMNIST.ipynb](LogisticRegressionMNIST.ipynb)\n",
    "    - gradiente descendente com uma única camada\n",
    "    - visualização dos pesos"
   ]
  },
  {
   "cell_type": "markdown",
   "metadata": {},
   "source": [
    "### Redes Neurais"
   ]
  },
  {
   "cell_type": "markdown",
   "metadata": {},
   "source": [
    " - [Activations_pytorch.ipynb](Activations_pytorch.ipynb)\n",
    "     - apresentação das ativações com suas equações e gráficos "
   ]
  },
  {
   "cell_type": "markdown",
   "metadata": {},
   "source": [
    " - [Iris classificação com 2 ou mais camadas](Iris-dataset-2-ou-mais-camadas-fronteira-dinamica.ipynb)\n",
    "     - Construção da rede via classe nn\n",
    "     - Rede com mais de uma camada"
   ]
  },
  {
   "cell_type": "markdown",
   "metadata": {},
   "source": [
    "** Exercício de colocar GPU **"
   ]
  },
  {
   "cell_type": "markdown",
   "metadata": {},
   "source": [
    " - [underfitting-overfitting-regularization.ipynb](underfitting-overfitting-regularization.ipynb)\n",
    "     - ilustração gráfica do underfitting e overfitting\n",
    "     - regularizaçào L2\n",
    "     - Dados de validação"
   ]
  },
  {
   "cell_type": "markdown",
   "metadata": {},
   "source": [
    "- [dataset e dataload com MNIST](datasets-e-dataloaders.ipynb)\n",
    "    - dataload via mini-batches"
   ]
  },
  {
   "cell_type": "markdown",
   "metadata": {},
   "source": [
    "**OBS:** A partir deste ponto todos os exemplos devem utilizar mini-batch, validação e dataloader"
   ]
  },
  {
   "cell_type": "markdown",
   "metadata": {},
   "source": [
    " - [Exercício com o MNIST - várias camadas](Exercicio-MNIST-varias-camadas.ipynb)\n",
    " - [Exercício com o MNIST - várias camadas - Gabarito](Exercicio-MNIST-varias-camadas-Gabarito.ipynb)\n",
    "     - Exercício com MNIST\n",
    "     - Dataset e DataLoaders\n",
    "     - Dados Treino e Validação\n",
    "     - Gráfico de histórico no final do treinamento\n",
    "     - Uso GPU"
   ]
  },
  {
   "cell_type": "markdown",
   "metadata": {},
   "source": [
    "- [optimizer.ipynb](optimizer.ipynb)\n",
    "    - Otimizadores do gradiente descendente\n",
    "    - Demo com regressão linear e rede com 2 camadas\n",
    "    - SGD, SGD-Momentum, SGD-Nesterov, RMSProp, Adam"
   ]
  },
  {
   "cell_type": "markdown",
   "metadata": {
    "ExecuteTime": {
     "end_time": "2017-10-05T17:19:34.536433",
     "start_time": "2017-10-05T17:19:34.531857"
    }
   },
   "source": [
    "- [MNIST_neuralnet.ipynb](MNIST_neuralnet.ipynb)\n",
    "    - Treinamento em alto nível, eventualmente com gráficos de treino e validação\n",
    "    - **MODELO com a biblioteca, usado como referência para todos os próximos notebooks**"
   ]
  },
  {
   "cell_type": "markdown",
   "metadata": {
    "ExecuteTime": {
     "end_time": "2017-10-05T17:19:34.536433",
     "start_time": "2017-10-05T17:19:34.531857"
    }
   },
   "source": [
    "- [boston_housing.ipynb](boston_housing.ipynb)\n",
    "    - Dataset de preços de casas\n",
    "    - visualização dados, normalização\n",
    "    - exercício para projetar estimativa dos preços das casas deste dataset"
   ]
  },
  {
   "cell_type": "markdown",
   "metadata": {},
   "source": [
    "- [Predict_Boston_House_Prices.ipynb](Predict_Boston_House_Prices.ipynb)\n",
    "    - Rede camada escondida para regressão multivariada\n",
    "    - Valor conseguido MSE: 14,8 \n",
    "        - rede neural Rubens vintage e Keras: 9 (não consegui reproduzir), \n",
    "        - sklearn xgboost: 6.62"
   ]
  },
  {
   "cell_type": "markdown",
   "metadata": {},
   "source": [
    "- [batch_norm_basics_pytorch.ipynb](batch_norm_basics_pytorch.ipynb)\n",
    "    - Introdução batch-normalization\n",
    "    - Exemplo numérico"
   ]
  },
  {
   "cell_type": "markdown",
   "metadata": {},
   "source": [
    "- [credit_card_fraud_detection_kaggle_pytorch.ipynb](credit_card_fraud_detection_kaggle_pytorch.ipynb)\n",
    "    - Base de dados do Kaggle\n",
    "    - Detecção de anomalia - fraude\n",
    "    - Utiliza Batchnorm\n",
    "    - Não consegui fazer com o que batchnorm do PyTorch funcionasse com esse problema de classes desbalanceadas"
   ]
  },
  {
   "cell_type": "markdown",
   "metadata": {},
   "source": [
    "- [AnaliseSentimento_IMDB_bagwords.ipynb](AnaliseSentimento_IMDB_bagwords.ipynb)\n",
    "    - Rede neural 1 camada escondida\n",
    "    - Entrada como bag of words\n",
    "    - (Em desenvolvimento)"
   ]
  },
  {
   "cell_type": "markdown",
   "metadata": {},
   "source": [
    "- [autoencoder.ipynb](autoencoder.ipynb)\n",
    "    - Autocodificador\n",
    "    - Rede generativa\n",
    "    - clusterização"
   ]
  },
  {
   "cell_type": "markdown",
   "metadata": {},
   "source": [
    "## III - Redes Neurais Profundas - Redes Convolucionais"
   ]
  },
  {
   "cell_type": "markdown",
   "metadata": {},
   "source": [
    "- [Explorando-Convolucao-no-PyTorch.ipynb](Explorando-Convolucao-no-PyTorch.ipynb)\n",
    "    - uso da convolução do PyTorch\n",
    "    - exemplos numéricos\n",
    "    - exemplos com imagem"
   ]
  },
  {
   "cell_type": "markdown",
   "metadata": {},
   "source": [
    "- [Introducao-CNN-PyTorch.ipynb](Introducao-CNN-PyTorch.ipynb)\n",
    "    - uso da rede convolucional num exemplo numérico\n",
    "    - acesso aos pesos\n",
    "    - acesso aos resultados em cada camada"
   ]
  },
  {
   "cell_type": "markdown",
   "metadata": {},
   "source": [
    "- [cifar10-CNN-features.ipynb](cifar10-CNN-features.ipynb)\n",
    "    - rede convolucional similar à LeNet\n",
    "    - classificador 3 classes da base CIFAR-10\n",
    "    - visualização camadas intermediárias (extração de atributos)"
   ]
  },
  {
   "cell_type": "markdown",
   "metadata": {},
   "source": [
    "- [lenet-mnist.ipynb](lenet-mnist.ipynb)\n",
    "    - rede convolucional similar à LeNet\n",
    "    - classificador 10 classes MNIST"
   ]
  },
  {
   "cell_type": "markdown",
   "metadata": {},
   "source": [
    "- [Cats_and_dogs.ipynb](Cats_and_dogs.ipynb)\n",
    "    - Transferência de conhecimento"
   ]
  },
  {
   "cell_type": "markdown",
   "metadata": {},
   "source": [
    "- [fully_convolutional.ipynb](fully_convolutional.ipynb)\n",
    "    - Convertendo rede convolucional para totalmente convolucional"
   ]
  },
  {
   "cell_type": "markdown",
   "metadata": {},
   "source": [
    "- [svhn_first_take.ipynb](svhn_first_take.ipynb)\n",
    "    - Street View House Numbers\n",
    "    - Classificação de dígitos de casas com fotos capturadas pelo Google Street View"
   ]
  },
  {
   "cell_type": "markdown",
   "metadata": {
    "ExecuteTime": {
     "end_time": "2017-09-30T16:43:01.960631Z",
     "start_time": "2017-09-30T16:43:01.950225Z"
    }
   },
   "source": [
    "## IV - Embeddings"
   ]
  },
  {
   "cell_type": "markdown",
   "metadata": {
    "ExecuteTime": {
     "end_time": "2017-09-30T16:59:54.948077Z",
     "start_time": "2017-09-30T16:59:54.831572Z"
    }
   },
   "source": [
    "- [MovieLens_dataset_pytorch.ipynb](MovieLens_dataset_pytorch.ipynb)\n",
    "- [embedding-basics-pytorch.ipynb](embedding-basics-pytorch.ipynb)\n",
    "- [SistemaRecomendacao-pytorch.ipynb](SistemaRecomendacao-pytorch.ipynb)"
   ]
  },
  {
   "cell_type": "markdown",
   "metadata": {},
   "source": [
    "# V - Redes Neurais Recorrentes - RNN - LSTM"
   ]
  },
  {
   "cell_type": "markdown",
   "metadata": {},
   "source": [
    "- [SimpleRNN_Numerical-PyTorch.ipynb](SimpleRNN_Numerical-PyTorch.ipynb)\n",
    "    - Em desenvolvimento"
   ]
  },
  {
   "cell_type": "markdown",
   "metadata": {},
   "source": [
    "## Código para jupyter notebook utilizar toda a largura da tela"
   ]
  },
  {
   "cell_type": "code",
   "execution_count": 1,
   "metadata": {
    "ExecuteTime": {
     "end_time": "2017-10-04T21:10:45.426332Z",
     "start_time": "2017-10-04T21:10:45.412918Z"
    }
   },
   "outputs": [
    {
     "data": {
      "text/html": [
       "<style>.container { width:100% !important; }</style>"
      ],
      "text/plain": [
       "<IPython.core.display.HTML object>"
      ]
     },
     "metadata": {},
     "output_type": "display_data"
    }
   ],
   "source": [
    "from IPython.core.display import display, HTML\n",
    "display(HTML(\"<style>.container { width:100% !important; }</style>\"))"
   ]
  },
  {
   "cell_type": "markdown",
   "metadata": {},
   "source": [
    "## Versões dos software instalados"
   ]
  },
  {
   "cell_type": "code",
   "execution_count": 1,
   "metadata": {
    "ExecuteTime": {
     "end_time": "2017-10-05T20:33:21.788655Z",
     "start_time": "2017-10-05T20:33:19.209729Z"
    }
   },
   "outputs": [
    {
     "name": "stdout",
     "output_type": "stream",
     "text": [
      "5.1.0\n",
      "numpy versão: 1.13.1\n",
      "pytorch versão: 0.2.0_3\n"
     ]
    }
   ],
   "source": [
    "!jupyter notebook --version\n",
    "import numpy\n",
    "print('numpy versão:',numpy.__version__)\n",
    "import torch\n",
    "print('pytorch versão:',torch.__version__)"
   ]
  },
  {
   "cell_type": "code",
   "execution_count": null,
   "metadata": {
    "collapsed": true
   },
   "outputs": [],
   "source": []
  }
 ],
 "metadata": {
  "kernelspec": {
   "display_name": "Python 3",
   "language": "python",
   "name": "python3"
  },
  "language_info": {
   "codemirror_mode": {
    "name": "ipython",
    "version": 3
   },
   "file_extension": ".py",
   "mimetype": "text/x-python",
   "name": "python",
   "nbconvert_exporter": "python",
   "pygments_lexer": "ipython3",
   "version": "3.6.1"
  },
  "toc": {
   "nav_menu": {
    "height": "30px",
    "width": "252px"
   },
   "number_sections": true,
   "sideBar": true,
   "skip_h1_title": false,
   "toc_cell": false,
   "toc_position": {},
   "toc_section_display": "block",
   "toc_window_display": false
  },
  "varInspector": {
   "cols": {
    "lenName": 16,
    "lenType": 16,
    "lenVar": 40
   },
   "kernels_config": {
    "python": {
     "delete_cmd_postfix": "",
     "delete_cmd_prefix": "del ",
     "library": "var_list.py",
     "varRefreshCmd": "print(var_dic_list())"
    },
    "r": {
     "delete_cmd_postfix": ") ",
     "delete_cmd_prefix": "rm(",
     "library": "var_list.r",
     "varRefreshCmd": "cat(var_dic_list()) "
    }
   },
   "types_to_exclude": [
    "module",
    "function",
    "builtin_function_or_method",
    "instance",
    "_Feature"
   ],
   "window_display": false
  }
 },
 "nbformat": 4,
 "nbformat_minor": 2
}
