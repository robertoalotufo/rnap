{
 "cells": [
  {
   "cell_type": "markdown",
   "metadata": {},
   "source": [
    "# Curso Deep Learning na Prática"
   ]
  },
  {
   "cell_type": "markdown",
   "metadata": {},
   "source": [
    "<img src=\"../figures/capa_nm_artenote_dlnapratica.png\"></a>"
   ]
  },
  {
   "cell_type": "code",
   "execution_count": 9,
   "metadata": {
    "ExecuteTime": {
     "end_time": "2017-10-04T09:45:16.289944",
     "start_time": "2017-10-04T09:45:16.011931"
    }
   },
   "outputs": [
    {
     "name": "stdout",
     "output_type": "stream",
     "text": [
      "      23\n",
      "0_index.ipynb\n",
      "Activations_pytorch.ipynb\n",
      "Cats_and_dogs.ipynb\n",
      "Exercicio-MNIST-varias-camadas.ipynb\n",
      "ExercicioIntrodutorio.ipynb\n",
      "Explorando-Convolucao-no-PyTorch.ipynb\n",
      "Introducao-CNN-PyTorch.ipynb\n",
      "Iris-dataset-2-ou-mais-camadas-fronteira-dinamica.ipynb\n",
      "Matrizes_Arrays_Tensores.ipynb\n",
      "MovieLens_dataset_pytorch.ipynb\n",
      "MovingMean_Momentum.ipynb\n",
      "PyTorch_Variaveis_Gradientes.ipynb\n",
      "Regressao-Logistica-MNIST-matricial.ipynb\n",
      "RegressaoLinearDemo.ipynb\n",
      "SistemaRecomendacao-pytorch.ipynb\n",
      "cifar10-CNN-features.ipynb\n",
      "datasets-e-dataloaders.ipynb\n",
      "embedding-basics-pytorch.ipynb\n",
      "fully_convolutional.ipynb\n",
      "\u001b[34mimages\u001b[m\u001b[m/\n",
      "lenet-mnist.ipynb\n",
      "\u001b[34mlib\u001b[m\u001b[m/\n",
      "underfitting-overfitting-regularization.ipynb\n"
     ]
    }
   ],
   "source": [
    "%ls | wc -l\n",
    "%ls"
   ]
  },
  {
   "cell_type": "markdown",
   "metadata": {},
   "source": [
    "## I - Introdução ambiente de programação"
   ]
  },
  {
   "cell_type": "markdown",
   "metadata": {},
   "source": [
    "- [ExercicioIntrodutorio.ipynb](ExercicioIntrodutorio.ipynb)\n",
    "- [Matrizes_Arrays_Tensores.ipynb](Matrizes_Arrays_Tensores.ipynb)\n",
    "- [PyTorch_Variaveis_Gradientes.ipynb](PyTorch_Variaveis_Gradientes.ipynb)\n",
    "- [MovingMean_Momentum.ipynb](MovingMean_Momentum.ipynb)"
   ]
  },
  {
   "cell_type": "markdown",
   "metadata": {},
   "source": [
    "- [Cats_and_dogs.ipynb](Cats_and_dogs.ipynb)"
   ]
  },
  {
   "cell_type": "markdown",
   "metadata": {},
   "source": [
    "## II - Introdução a Redes Neurais"
   ]
  },
  {
   "cell_type": "markdown",
   "metadata": {},
   "source": [
    "### Regressão Linear"
   ]
  },
  {
   "cell_type": "markdown",
   "metadata": {},
   "source": [
    "- [RegressaoLinearDemo.ipynb](RegressaoLinearDemo.ipynb)\n",
    "    - Problema Regressão Linear\n",
    "    - Ilustração da dinâmica da otimização via gradiente descendente\n",
    "    - reta sendo ajustada, espaço de parâmetros, curva de perda\n",
    "- NumPy (lotufo)\n",
    "- Tensor PyTorch (lotufo)\n",
    "- PyTorch - autograd (lotufo)\n",
    "- [../dev/RAL-2017-10-01-LinearRegressionPyTorch.ipynb](../dev/RAL-2017-10-01-LinearRegressionPyTorch.ipynb) (lotufo)"
   ]
  },
  {
   "cell_type": "markdown",
   "metadata": {
    "ExecuteTime": {
     "end_time": "2017-10-02T15:25:47.588837Z",
     "start_time": "2017-10-02T15:25:47.582749Z"
    },
    "collapsed": true
   },
   "source": [
    "- funções de loss - MSE e CrossEntropia (novo) - Yugo\n",
    "- logística: 3 classes iris - PyTorch - classe rede derivada Module visualizaçào probabilidade (Yugo)\n",
    "- [dataset e dataload com MNIST](datasets-e-dataloaders.ipynb)\n",
    "    - dataload via mini-batches\n",
    "- [logística MNIST loader - visualização dos pesos](Regressao-Logistica-MNIST-matricial.ipynb)\n",
    "    - gradiente descendente estocástico via mini-batch\n",
    "    - visualização dos pesos durante gradiente descendente"
   ]
  },
  {
   "cell_type": "markdown",
   "metadata": {},
   "source": [
    "### Redes Neurais"
   ]
  },
  {
   "cell_type": "markdown",
   "metadata": {},
   "source": [
    " - [Activations_pytorch.ipynb](Activations_pytorch.ipynb)\n",
    "     - apresentação das ativações com suas equações e gráficos \n",
    " - [Iris classificação com 2 ou mais camadas](Iris-dataset-2-ou-mais-camadas-fronteira-dinamica.ipynb)\n",
    "     - Construção da rede via classe nn\n",
    "     - Rede com mais de uma camada\n",
    " - [Exercício com o MNIST - várias camdas](Exercicio-MNIST-varias-camadas.ipynb)\n",
    " - MNIST (exemplo no curso Keras e também no Pytorch-beginners) (Erick)\n",
    " - [underfitting-overfitting-regularization.ipynb](underfitting-overfitting-regularization.ipynb)\n",
    "     - ilustração gráfica do underfitting e overfitting\n",
    "     - regularizaçào L2\n",
    " - Exemplo de aplicação - qualidade de vinho (exercício com notebook a ser preenchido) (Lotufo)"
   ]
  },
  {
   "cell_type": "markdown",
   "metadata": {},
   "source": [
    "## III - Redes Neurais Profundas - Redes Convolucionais"
   ]
  },
  {
   "cell_type": "markdown",
   "metadata": {},
   "source": [
    "- [Explorando-Convolucao-no-PyTorch.ipynb](Explorando-Convolucao-no-PyTorch.ipynb)\n",
    "- [Introducao-CNN-PyTorch.ipynb](Introducao-CNN-PyTorch.ipynb)\n",
    "- [cifar10-CNN-features.ipynb](cifar10-CNN-features.ipynb)\n",
    "- [lenet-mnist.ipynb](lenet-mnist.ipynb)\n",
    "- [Cats_and_dogs.ipynb](Cats_and_dogs.ipynb)\n",
    "    - Transferência de conhecimento"
   ]
  },
  {
   "cell_type": "markdown",
   "metadata": {},
   "source": [
    "- [fully_convolutional.ipynb](fully_convolutional.ipynb)"
   ]
  },
  {
   "cell_type": "markdown",
   "metadata": {
    "ExecuteTime": {
     "end_time": "2017-09-30T16:43:01.960631Z",
     "start_time": "2017-09-30T16:43:01.950225Z"
    }
   },
   "source": [
    "## IV - Embeddings"
   ]
  },
  {
   "cell_type": "markdown",
   "metadata": {
    "ExecuteTime": {
     "end_time": "2017-09-30T16:59:54.948077Z",
     "start_time": "2017-09-30T16:59:54.831572Z"
    }
   },
   "source": [
    "- [MovieLens_dataset_pytorch.ipynb](MovieLens_dataset_pytorch.ipynb)\n",
    "- [embedding-basics-pytorch.ipynb](embedding-basics-pytorch.ipynb)\n",
    "- [SistemaRecomendacao-pytorch.ipynb](SistemaRecomendacao-pytorch.ipynb)"
   ]
  },
  {
   "cell_type": "markdown",
   "metadata": {},
   "source": [
    "## Código para jupyter notebook utilizar toda a largura da tela"
   ]
  },
  {
   "cell_type": "code",
   "execution_count": 10,
   "metadata": {
    "ExecuteTime": {
     "end_time": "2017-10-04T09:45:16.297675",
     "start_time": "2017-10-04T09:45:16.291824"
    }
   },
   "outputs": [
    {
     "data": {
      "text/html": [
       "<style>.container { width:100% !important; }</style>"
      ],
      "text/plain": [
       "<IPython.core.display.HTML object>"
      ]
     },
     "metadata": {},
     "output_type": "display_data"
    }
   ],
   "source": [
    "from IPython.core.display import display, HTML\n",
    "display(HTML(\"<style>.container { width:100% !important; }</style>\"))"
   ]
  }
 ],
 "metadata": {
  "kernelspec": {
   "display_name": "Python 3",
   "language": "python",
   "name": "python3"
  },
  "language_info": {
   "codemirror_mode": {
    "name": "ipython",
    "version": 3
   },
   "file_extension": ".py",
   "mimetype": "text/x-python",
   "name": "python",
   "nbconvert_exporter": "python",
   "pygments_lexer": "ipython3",
   "version": "3.6.0"
  },
  "toc": {
   "colors": {
    "hover_highlight": "#DAA520",
    "running_highlight": "#FF0000",
    "selected_highlight": "#FFD700"
   },
   "moveMenuLeft": true,
   "nav_menu": {
    "height": "30px",
    "width": "252px"
   },
   "navigate_menu": true,
   "number_sections": true,
   "sideBar": true,
   "skip_h1_title": false,
   "threshold": 4,
   "toc_cell": false,
   "toc_position": {},
   "toc_section_display": "block",
   "toc_window_display": false
  },
  "varInspector": {
   "cols": {
    "lenName": 16,
    "lenType": 16,
    "lenVar": 40
   },
   "kernels_config": {
    "python": {
     "delete_cmd_postfix": "",
     "delete_cmd_prefix": "del ",
     "library": "var_list.py",
     "varRefreshCmd": "print(var_dic_list())"
    },
    "r": {
     "delete_cmd_postfix": ") ",
     "delete_cmd_prefix": "rm(",
     "library": "var_list.r",
     "varRefreshCmd": "cat(var_dic_list()) "
    }
   },
   "types_to_exclude": [
    "module",
    "function",
    "builtin_function_or_method",
    "instance",
    "_Feature"
   ],
   "window_display": false
  }
 },
 "nbformat": 4,
 "nbformat_minor": 2
}
