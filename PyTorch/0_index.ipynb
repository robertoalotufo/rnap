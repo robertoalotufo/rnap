{
 "cells": [
  {
   "cell_type": "markdown",
   "metadata": {},
   "source": [
    "# Curso Deep Learning na Prática"
   ]
  },
  {
   "cell_type": "markdown",
   "metadata": {},
   "source": [
    "<img src=\"../figures/capa_nm_artenote_dlnapratica.png\"></a>"
   ]
  },
  {
   "cell_type": "markdown",
   "metadata": {},
   "source": [
    "## I - Introdução"
   ]
  },
  {
   "cell_type": "markdown",
   "metadata": {},
   "source": [
    "- [ExercicioIntrodutorio.ipynb](ExercicioIntrodutorio.ipynb)\n",
    "- [Matrizes_Arrays_Tensores.ipynb](Matrizes_Arrays_Tensores.ipynb)\n",
    "- [MovingMean_Momentum.ipynb](MovingMean_Momentum.ipynb)"
   ]
  },
  {
   "cell_type": "markdown",
   "metadata": {},
   "source": [
    "### Competição Kaggle cats and dogs (motivação)"
   ]
  },
  {
   "cell_type": "markdown",
   "metadata": {},
   "source": [
    "- [Cats_and_dogs.ipynb](Cats_and_dogs.ipynb)\n",
    "    - Exemplo completo: dataset, modelo, treinamento, avaliação e submissão"
   ]
  },
  {
   "cell_type": "markdown",
   "metadata": {},
   "source": [
    "## II - Introdução a Redes Neurais"
   ]
  },
  {
   "cell_type": "markdown",
   "metadata": {},
   "source": [
    "### Regressão Linear"
   ]
  },
  {
   "cell_type": "markdown",
   "metadata": {},
   "source": [
    "- [RegressaoLinearDemo.ipynb](RegressaoLinearDemo.ipynb)\n",
    "    - Problema Regressão Linear\n",
    "    - Ilustração da dinâmica da otimização via gradiente descendente\n",
    "    - reta sendo ajustada, espaço de parâmetros, curva de perda"
   ]
  },
  {
   "cell_type": "markdown",
   "metadata": {},
   "source": [
    "- [LinearRegressionIrisNumPy.ipynb](LinearRegressionIrisNumPy.ipynb)\n",
    "    - programação matricial NumPy\n",
    "    - gradiente calculado analiticamente\n",
    "    - atualização explicíta do gradiente \n",
    "    "
   ]
  },
  {
   "cell_type": "markdown",
   "metadata": {},
   "source": [
    "- [Exercício de Regressão Linear com Tensores](LinearRegressionIris-Tensor.ipynb)\n",
    "    - reescrita do código NumPy feito no exercício anterior\n",
    "\n",
    "    - Apenas olhe a solução após tentar resolvê-lo por vários minutos:\n",
    "        - [Exercício de Regressão Linear com Tensores - Solução](LinearRegressionIris-Tensor-Solucao.ipynb)\n"
   ]
  },
  {
   "cell_type": "markdown",
   "metadata": {},
   "source": [
    "- [PyTorch_Variaveis_Gradientes.ipynb](PyTorch_Variaveis_Gradientes.ipynb)\n",
    "    - Introdução à Variables\n",
    "    - autograd do PyTorch - grafo computacional\n",
    "    - interpretação numérica do gradiente\n",
    "    - visualização do grafo computacional"
   ]
  },
  {
   "cell_type": "markdown",
   "metadata": {},
   "source": [
    "- [LinearRegressionIrisPyTorch.ipynb](LinearRegressionIrisPyTorch.ipynb)\n",
    "    - uso da classe nn.Linear\n",
    "    - uso do autograd\n",
    "    - loss explícito\n",
    "    - atualização do parâmetro explícito"
   ]
  },
  {
   "cell_type": "markdown",
   "metadata": {},
   "source": [
    "- [LinearRegressionIrisOptimizer.ipynb](LinearRegressionIrisOptimizer.ipynb)\n",
    "    - uso da classe nn.Linear\n",
    "    - uso de função perda nn.MSELoss\n",
    "    - uso do otimizador"
   ]
  },
  {
   "cell_type": "markdown",
   "metadata": {},
   "source": [
    "### Regressão Logística - classificador"
   ]
  },
  {
   "cell_type": "markdown",
   "metadata": {},
   "source": [
    "- [LogisticRegressionIris.ipynb](LogisticRegressionIris.ipynb)\n",
    "    - alvo: 3 classes iris\n",
    "    - função de perda nn.CrossEntropy\n",
    "    - cálculo da probabilidade pelo SoftMax\n",
    "    - salvando e recuperando pesos de um arquivo\n",
    "    - visualizando fronteira e probabilidades"
   ]
  },
  {
   "cell_type": "markdown",
   "metadata": {
    "ExecuteTime": {
     "end_time": "2017-10-02T15:25:47.588837Z",
     "start_time": "2017-10-02T15:25:47.582749Z"
    },
    "collapsed": true
   },
   "source": [
    "- [LogisticRegressionMNIST.ipynb](LogisticRegressionMNIST.ipynb)\n",
    "    - gradiente descendente com uma única camada\n",
    "    - alvo: 10 classes dígitos manuscritos MNIST\n",
    "    - maior número de atributos\n",
    "    - visualização e interpretação dos parâmetros"
   ]
  },
  {
   "cell_type": "markdown",
   "metadata": {},
   "source": [
    "- [datasets-e-dataloaders.ipynb](datasets-e-dataloaders.ipynb)\n",
    "    - dataload via mini-batches"
   ]
  },
  {
   "cell_type": "markdown",
   "metadata": {},
   "source": [
    "- [LogisticRegressionMNIST-SGD.ipynb](LogisticRegressionMNIST-SGD.ipynb)\n",
    "    - Gradiente estocástico por mini-batch\n",
    "    - Uso do dataloader como gerador de mini-batches\n"
   ]
  },
  {
   "cell_type": "markdown",
   "metadata": {},
   "source": [
    "### Redes Neurais"
   ]
  },
  {
   "cell_type": "markdown",
   "metadata": {},
   "source": [
    " - [Activations_pytorch.ipynb](Activations_pytorch.ipynb)\n",
    "     - apresentação das ativações com suas equações e gráficos "
   ]
  },
  {
   "cell_type": "markdown",
   "metadata": {},
   "source": [
    " - [Iris classificação com 2 ou mais camadas](Iris-dataset-2-ou-mais-camadas-fronteira-dinamica.ipynb)\n",
    "     - Construção da rede via classe nn\n",
    "     - Rede com mais de uma camada"
   ]
  },
  {
   "cell_type": "markdown",
   "metadata": {},
   "source": [
    " - [underfitting-overfitting-regularization.ipynb](underfitting-overfitting-regularization.ipynb)\n",
    "     - ilustração gráfica do underfitting e overfitting\n",
    "     - regularização L2\n",
    "     - Dados de validação"
   ]
  },
  {
   "cell_type": "markdown",
   "metadata": {
    "ExecuteTime": {
     "end_time": "2017-11-29T13:56:15.085290",
     "start_time": "2017-11-29T13:56:15.080432"
    }
   },
   "source": [
    "- [RegressaoLinearOtimizadores.ipynb](RegressaoLinearOtimizadores.ipynb)\n",
    "    - Otimizadores do gradiente descendente\n",
    "    - Demo com regressão linear\n",
    "    - SGD, SGD-Momentum, SGD-Nesterov, RMSProp, Adam"
   ]
  },
  {
   "cell_type": "markdown",
   "metadata": {
    "ExecuteTime": {
     "end_time": "2017-11-29T13:56:15.085290",
     "start_time": "2017-11-29T13:56:15.080432"
    }
   },
   "source": [
    "- [optimizer.ipynb](optimizer.ipynb)\n",
    "    - Demo com regressão linear e rede com 2 camadas"
   ]
  },
  {
   "cell_type": "markdown",
   "metadata": {
    "ExecuteTime": {
     "end_time": "2017-10-05T17:19:34.536433",
     "start_time": "2017-10-05T17:19:34.531857"
    }
   },
   "source": [
    "- [MNIST_neuralnet.ipynb](MNIST_neuralnet.ipynb)\n",
    "    - Uso da biblioteca `pytorch_trainer`, classe DeepNetTrainer\n",
    "    - Funções de alto nível, fit, callbacks\n",
    "    - **MODELO, deve ser usado como referência para todos os próximos notebooks**"
   ]
  },
  {
   "cell_type": "markdown",
   "metadata": {
    "ExecuteTime": {
     "end_time": "2017-10-05T17:19:34.536433",
     "start_time": "2017-10-05T17:19:34.531857"
    }
   },
   "source": [
    "- [boston_housing.ipynb](boston_housing.ipynb)\n",
    "    - Dataset de preços de casas\n",
    "    - visualização dados, normalização"
   ]
  },
  {
   "cell_type": "markdown",
   "metadata": {},
   "source": [
    "- [Predict_Boston_House_Prices.ipynb](Predict_Boston_House_Prices.ipynb)\n",
    "    - Rede camada escondida para regressão multivariada\n",
    "    - Valor conseguido MSE: 9"
   ]
  },
  {
   "cell_type": "markdown",
   "metadata": {},
   "source": [
    "- [batch_norm_basics_pytorch.ipynb](batch_norm_basics_pytorch.ipynb)\n",
    "    - Introdução batch-normalization\n",
    "    - Exemplo numérico"
   ]
  },
  {
   "cell_type": "markdown",
   "metadata": {},
   "source": [
    "- [credit_card_fraud_detection_kaggle_pytorch.ipynb](credit_card_fraud_detection_kaggle_pytorch.ipynb)\n",
    "    - Base de dados do Kaggle\n",
    "    - Detecção de anomalia - fraude"
   ]
  },
  {
   "cell_type": "markdown",
   "metadata": {},
   "source": [
    "- [AnaliseSentimento_IMDB_bagwords.ipynb](AnaliseSentimento_IMDB_bagwords.ipynb)\n",
    "    - Rede neural 1 camada escondida\n",
    "    - Entrada como bag of words"
   ]
  },
  {
   "cell_type": "markdown",
   "metadata": {},
   "source": [
    "- [autoencoder.ipynb](autoencoder.ipynb)\n",
    "    - Autocodificador\n",
    "    - Rede generativa\n",
    "    - clusterização"
   ]
  },
  {
   "cell_type": "markdown",
   "metadata": {},
   "source": [
    "- [model_selection_mnist.ipynb](model_selection_mnist.ipynb)\n",
    "    - Seleção de modelo\n",
    "    - Busca hyperparâmetros"
   ]
  },
  {
   "cell_type": "markdown",
   "metadata": {},
   "source": [
    "## III - Redes Neurais Profundas - Redes Convolucionais"
   ]
  },
  {
   "cell_type": "markdown",
   "metadata": {},
   "source": [
    "- [Explorando-Convolucao-no-PyTorch.ipynb](Explorando-Convolucao-no-PyTorch.ipynb)\n",
    "    - uso da convolução do PyTorch\n",
    "    - exemplos numéricos\n",
    "    - exemplos com imagem"
   ]
  },
  {
   "cell_type": "markdown",
   "metadata": {},
   "source": [
    "- [Introducao-CNN-PyTorch.ipynb](Introducao-CNN-PyTorch.ipynb)\n",
    "    - uso da rede convolucional num exemplo numérico\n",
    "    - acesso aos pesos\n",
    "    - acesso aos resultados em cada camada"
   ]
  },
  {
   "cell_type": "markdown",
   "metadata": {},
   "source": [
    "- [cifar10-CNN-features.ipynb](cifar10-CNN-features.ipynb)\n",
    "    - rede convolucional similar à LeNet\n",
    "    - classificador 3 classes da base CIFAR-10\n",
    "    - visualização camadas intermediárias (extração de atributos)"
   ]
  },
  {
   "cell_type": "markdown",
   "metadata": {},
   "source": [
    "- [Models_ImageNet.ipynb](Models_ImageNet.ipynb)"
   ]
  },
  {
   "cell_type": "markdown",
   "metadata": {},
   "source": [
    "- [lenet-mnist.ipynb](lenet-mnist.ipynb)\n",
    "    - rede convolucional similar à LeNet\n",
    "    - classificador 10 classes MNIST"
   ]
  },
  {
   "cell_type": "markdown",
   "metadata": {
    "ExecuteTime": {
     "end_time": "2017-10-26T15:52:23.586599",
     "start_time": "2017-10-26T15:52:23.484480"
    }
   },
   "source": [
    "- [data_augmentation_catsdogs.ipynb](data_augmentation_catsdogs.ipynb)\n",
    "    - Ilustração do aumento de dados, usando base cats&dogs"
   ]
  },
  {
   "cell_type": "markdown",
   "metadata": {},
   "source": [
    "- [transfer_learning_catsdogs.ipynb](transfer_learning_catsdogs.ipynb)\n",
    "    - Ilustração do *transfer learning* utilizando base cats&dogs"
   ]
  },
  {
   "cell_type": "markdown",
   "metadata": {},
   "source": [
    "- [facial_features.ipynb](facial_features.ipynb)\n",
    "    - Detecção de pontos faciais utilizando *transfer learning*"
   ]
  },
  {
   "cell_type": "markdown",
   "metadata": {},
   "source": [
    "- [fully_convolutional.ipynb](fully_convolutional.ipynb)\n",
    "    - Convertendo rede convolucional para totalmente convolucional"
   ]
  },
  {
   "cell_type": "markdown",
   "metadata": {
    "ExecuteTime": {
     "end_time": "2017-10-19T08:19:48.631176Z",
     "start_time": "2017-10-19T08:19:48.616113Z"
    }
   },
   "source": [
    "- [svhn_dnt.ipynb](svhn_dnt.ipynb)\n",
    "    - Street View House Numbers\n",
    "    - Classificação de dígitos de casas com fotos capturadas pelo Google Street View"
   ]
  },
  {
   "cell_type": "markdown",
   "metadata": {},
   "source": [
    "- [vae_mnist.ipynb](vae_mnist.ipynb)\n",
    "    - Autocodificador Variacional, exemplo com dataset MNIST"
   ]
  },
  {
   "cell_type": "markdown",
   "metadata": {},
   "source": [
    "- [vae_celeba.ipynb](vae_celeba.ipynb)\n",
    "    - Autocodificador Variacional, exemplo com dataset de celebridades"
   ]
  },
  {
   "cell_type": "markdown",
   "metadata": {},
   "source": [
    "- [dcgan_mnist.ipynb](dcgan_mnist.ipynb)\n",
    "    - Adversarial network"
   ]
  },
  {
   "cell_type": "markdown",
   "metadata": {},
   "source": [
    "- [transposed_convolution.ipynb](transposed_convolution.ipynb)\n",
    "    - Ilustração da convolução transposta"
   ]
  },
  {
   "cell_type": "markdown",
   "metadata": {
    "ExecuteTime": {
     "end_time": "2017-09-30T16:43:01.960631Z",
     "start_time": "2017-09-30T16:43:01.950225Z"
    }
   },
   "source": [
    "## IV - Embeddings e Sistema de Recomendação"
   ]
  },
  {
   "cell_type": "markdown",
   "metadata": {},
   "source": [
    "- [movieLens_dataset.ipynb](movieLens_dataset.ipynb)\n",
    "    - Normalização dos *ids* de filmes e usuários dataset MovieLens"
   ]
  },
  {
   "cell_type": "markdown",
   "metadata": {},
   "source": [
    "- [embedding-basics-pytorch.ipynb](embedding-basics-pytorch.ipynb)\n",
    "    - Conceito de *embeddings* e atributos latentes"
   ]
  },
  {
   "cell_type": "markdown",
   "metadata": {
    "ExecuteTime": {
     "end_time": "2017-09-30T16:59:54.948077Z",
     "start_time": "2017-09-30T16:59:54.831572Z"
    }
   },
   "source": [
    "- [sistema_recomendacao.ipynb](sistema_recomendacao.ipynb)\n",
    "    - Sistema de recomendação dataset MovieLens\n",
    "    - Solução *dot product*\n",
    "    - Solução com redes neurais"
   ]
  },
  {
   "cell_type": "markdown",
   "metadata": {},
   "source": [
    "## V - Processamento de Texto"
   ]
  },
  {
   "cell_type": "markdown",
   "metadata": {},
   "source": [
    "- [livros_dataset.ipynb](livros_dataset.ipynb)\n",
    "    - Limpeza dos datasets de livros, retirada prefácio, rodapé, etc."
   ]
  },
  {
   "cell_type": "markdown",
   "metadata": {},
   "source": [
    "- [livros_preprocessing.ipynb](livros_preprocessing.ipynb)\n",
    "    - Preparação das amostras para os exercícios de classificação"
   ]
  },
  {
   "cell_type": "markdown",
   "metadata": {},
   "source": [
    "- [livros_classif.ipynb](livros_classif.ipynb)\n",
    "    - Classificação de autor de livros usando atributos latentes treináveis"
   ]
  },
  {
   "cell_type": "markdown",
   "metadata": {},
   "source": [
    "- [livros_classif_w2v.ipynb](livros_classif_w2v.ipynb)\n",
    "    - Classificação de autor de livros inicializando *embeddings* com word2vec"
   ]
  },
  {
   "cell_type": "markdown",
   "metadata": {},
   "source": [
    "- [analise_sentimento_imdb.ipynb](analise_sentimento_imdb.ipynb)\n",
    "    - Análise de sentimento base IMDB usando atributos latentes\n",
    "    - Soluções com rede densa e convolucional"
   ]
  },
  {
   "cell_type": "markdown",
   "metadata": {},
   "source": [
    "## VI - Redes Neurais Recorrentes - RNN - LSTM"
   ]
  },
  {
   "cell_type": "markdown",
   "metadata": {},
   "source": [
    "- [simpleRNN_numerical.ipynb](simpleRNN_numerical.ipynb)\n",
    "    - Exemplo simples numérico do funcionamento da RNN"
   ]
  },
  {
   "cell_type": "markdown",
   "metadata": {},
   "source": [
    "- [simpleRNN_MNIST.ipynb](simpleRNN_MNIST.ipynb)\n",
    "    - Classificador dígitos MNIST usando RNN ou LSTM"
   ]
  },
  {
   "cell_type": "markdown",
   "metadata": {},
   "source": [
    "- [analise_sentimento_lstm_imdb.ipynb](analise_sentimento_lstm_imdb.ipynb)\n",
    "    - Análise de sentimento base IMDB usando rede recorrente RNN e LSTM"
   ]
  },
  {
   "cell_type": "markdown",
   "metadata": {
    "ExecuteTime": {
     "end_time": "2017-10-18T13:46:18.994393",
     "start_time": "2017-10-18T13:46:18.990237"
    }
   },
   "source": [
    "- [seq2seq-translation.ipynb](seq2seq-translation.ipynb)\n",
    "    - Tradutor seq2seq com matriz de atenção"
   ]
  },
  {
   "cell_type": "markdown",
   "metadata": {},
   "source": [
    "## Código para jupyter notebook utilizar toda a largura da tela"
   ]
  },
  {
   "cell_type": "code",
   "execution_count": 1,
   "metadata": {
    "ExecuteTime": {
     "end_time": "2017-12-15T18:24:38.361160Z",
     "start_time": "2017-12-15T18:24:38.351005Z"
    }
   },
   "outputs": [
    {
     "data": {
      "text/html": [
       "<style>.container { width:100% !important; }</style>"
      ],
      "text/plain": [
       "<IPython.core.display.HTML object>"
      ]
     },
     "metadata": {},
     "output_type": "display_data"
    }
   ],
   "source": [
    "from IPython.core.display import display, HTML\n",
    "display(HTML(\"<style>.container { width:100% !important; }</style>\"))"
   ]
  },
  {
   "cell_type": "markdown",
   "metadata": {},
   "source": [
    "## Versões dos software instalados"
   ]
  },
  {
   "cell_type": "code",
   "execution_count": 2,
   "metadata": {
    "ExecuteTime": {
     "end_time": "2017-12-15T18:24:39.083930Z",
     "start_time": "2017-12-15T18:24:38.362761Z"
    }
   },
   "outputs": [
    {
     "name": "stdout",
     "output_type": "stream",
     "text": [
      "5.1.0\n",
      "Python versão: 3.6.2 (default, Sep 28 2017, 13:18:00) \n",
      "[GCC 5.4.0 20160609]\n",
      "NumPy versão: 1.13.2\n",
      "PyTorch versão: 0.2.0_3\n"
     ]
    }
   ],
   "source": [
    "!jupyter notebook --version\n",
    "import sys \n",
    "print('Python versão:', sys.version)\n",
    "import numpy\n",
    "print('NumPy versão:',numpy.__version__)\n",
    "import torch\n",
    "print('PyTorch versão:',torch.__version__)"
   ]
  },
  {
   "cell_type": "code",
   "execution_count": 6,
   "metadata": {
    "ExecuteTime": {
     "end_time": "2017-12-15T18:25:46.108427Z",
     "start_time": "2017-12-15T18:25:45.497797Z"
    }
   },
   "outputs": [
    {
     "name": "stdout",
     "output_type": "stream",
     "text": [
      "alembic==0.9.5\r\n",
      "bleach==1.5.0\r\n",
      "certifi==2017.7.27.1\r\n",
      "chardet==3.0.4\r\n",
      "cycler==0.10.0\r\n",
      "decorator==4.1.2\r\n",
      "entrypoints==0.2.3\r\n",
      "graphviz==0.8.1\r\n",
      "h5py==2.7.1\r\n",
      "html5lib==0.9999999\r\n",
      "idna==2.6\r\n",
      "ipykernel==4.6.1\r\n",
      "ipython==6.2.0\r\n",
      "ipython-genutils==0.2.0\r\n",
      "ipywidgets==7.0.1\r\n",
      "jedi==0.11.0\r\n",
      "Jinja2==2.9.6\r\n",
      "jsonschema==2.6.0\r\n",
      "jupyter-client==5.1.0\r\n",
      "jupyter-contrib-core==0.3.3\r\n",
      "jupyter-contrib-nbextensions==0.3.1\r\n",
      "jupyter-core==4.3.0\r\n",
      "jupyter-highlight-selected-word==0.0.11\r\n",
      "jupyter-latex-envs==1.3.8.4\r\n",
      "jupyter-nbextensions-configurator==0.2.7\r\n",
      "jupyterhub==0.7.2\r\n",
      "Keras==2.0.8\r\n",
      "Mako==1.0.7\r\n",
      "Markdown==2.6.9\r\n",
      "MarkupSafe==1.0\r\n",
      "matplotlib==2.0.2\r\n",
      "mistune==0.7.4\r\n",
      "nbconvert==5.3.1\r\n",
      "nbformat==4.4.0\r\n",
      "notebook==5.1.0\r\n",
      "numpy==1.13.2\r\n",
      "olefile==0.44\r\n",
      "pamela==0.3.0\r\n",
      "pandas==0.20.3\r\n",
      "pandocfilters==1.4.2\r\n",
      "parso==0.1.0\r\n",
      "pexpect==4.2.1\r\n",
      "pickleshare==0.7.4\r\n",
      "Pillow==4.2.1\r\n",
      "prompt-toolkit==1.0.15\r\n",
      "protobuf==3.4.0\r\n",
      "ptyprocess==0.5.2\r\n",
      "Pygments==2.2.0\r\n",
      "pygraphviz==1.3.1\r\n",
      "pyparsing==2.2.0\r\n",
      "python-dateutil==2.6.1\r\n",
      "python-editor==1.0.3\r\n",
      "pytz==2017.2\r\n",
      "PyYAML==3.12\r\n",
      "pyzmq==16.0.2\r\n",
      "requests==2.18.4\r\n",
      "scikit-learn==0.19.0\r\n",
      "scipy==0.19.1\r\n",
      "seaborn==0.8.1\r\n",
      "simplegeneric==0.8.1\r\n",
      "six==1.11.0\r\n",
      "sklearn==0.0\r\n",
      "SQLAlchemy==1.1.14\r\n",
      "sudospawner==0.5.0\r\n",
      "tensorflow==1.3.0\r\n",
      "tensorflow-tensorboard==0.1.7\r\n",
      "terminado==0.6\r\n",
      "testpath==0.3.1\r\n",
      "torch==0.2.0.post3\r\n",
      "torchvision==0.1.9\r\n",
      "tornado==4.5.2\r\n",
      "traitlets==4.3.2\r\n",
      "urllib3==1.22\r\n",
      "wcwidth==0.1.7\r\n",
      "webencodings==0.5.1\r\n",
      "Werkzeug==0.12.2\r\n",
      "widgetsnbextension==3.0.3\r\n"
     ]
    }
   ],
   "source": [
    "!pip3.6 freeze"
   ]
  }
 ],
 "metadata": {
  "kernelspec": {
   "display_name": "Python 3",
   "language": "python",
   "name": "python3"
  },
  "language_info": {
   "codemirror_mode": {
    "name": "ipython",
    "version": 3
   },
   "file_extension": ".py",
   "mimetype": "text/x-python",
   "name": "python",
   "nbconvert_exporter": "python",
   "pygments_lexer": "ipython3",
   "version": "3.6.1"
  },
  "toc": {
   "nav_menu": {
    "height": "30px",
    "width": "252px"
   },
   "number_sections": true,
   "sideBar": true,
   "skip_h1_title": false,
   "toc_cell": false,
   "toc_position": {},
   "toc_section_display": "block",
   "toc_window_display": false
  },
  "varInspector": {
   "cols": {
    "lenName": 16,
    "lenType": 16,
    "lenVar": 40
   },
   "kernels_config": {
    "python": {
     "delete_cmd_postfix": "",
     "delete_cmd_prefix": "del ",
     "library": "var_list.py",
     "varRefreshCmd": "print(var_dic_list())"
    },
    "r": {
     "delete_cmd_postfix": ") ",
     "delete_cmd_prefix": "rm(",
     "library": "var_list.r",
     "varRefreshCmd": "cat(var_dic_list()) "
    }
   },
   "types_to_exclude": [
    "module",
    "function",
    "builtin_function_or_method",
    "instance",
    "_Feature"
   ],
   "window_display": false
  }
 },
 "nbformat": 4,
 "nbformat_minor": 2
}
