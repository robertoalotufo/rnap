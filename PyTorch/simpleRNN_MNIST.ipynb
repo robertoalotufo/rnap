{
 "cells": [
  {
   "cell_type": "markdown",
   "metadata": {},
   "source": [
    "# Rede Neural Recorrente simples para classificar dígitos MNIST"
   ]
  },
  {
   "cell_type": "markdown",
   "metadata": {},
   "source": [
    "Este experimento ilustra o uso de uma rede neural recorrente na tarefa de classificação\n",
    "de dígitos manuscritos do dataset MNIST.\n",
    "\n",
    "A imagem é estruturada em 28 sequências de 28 pixels cada. Cada elemento da sequência é\n",
    "formado por uma linha da imagem. Cada linha da imagem contém 28 atributos (pixels)."
   ]
  },
  {
   "cell_type": "markdown",
   "metadata": {},
   "source": [
    "<img src='../figures/RNN_MNIST.png', width= 700></img>"
   ]
  },
  {
   "cell_type": "markdown",
   "metadata": {},
   "source": [
    "**Obs:** Este experimento foi inspirado no artigo:\n",
    "\"A Simple Way to Initialize Recurrent Networks of Rectified Linear Units\"\n",
    "by Quoc V. Le, Navdeep Jaitly, Geoffrey E. Hinton\n",
    "arxiv:1504.00941v2 [cs.NE] 7 Apr 2015\n",
    "http://arxiv.org/pdf/1504.00941v2.pdf\n",
    "\n",
    "A principal modificação é a formatação da imagem em 28 sequências de 28 pixels."
   ]
  },
  {
   "cell_type": "markdown",
   "metadata": {},
   "source": [
    "## Importação"
   ]
  },
  {
   "cell_type": "code",
   "execution_count": 1,
   "metadata": {
    "ExecuteTime": {
     "end_time": "2017-12-15T17:34:13.345448Z",
     "start_time": "2017-12-15T17:34:12.991185Z"
    }
   },
   "outputs": [
    {
     "name": "stdout",
     "output_type": "stream",
     "text": [
      "GPU available: False\n"
     ]
    }
   ],
   "source": [
    "%matplotlib inline\n",
    "import matplotlib.pyplot as plt\n",
    "import numpy as np\n",
    "import os\n",
    "\n",
    "import torch\n",
    "import torch.nn as nn\n",
    "from   torch.autograd import Variable\n",
    "\n",
    "import torchvision\n",
    "\n",
    "import lib.pytorch_trainer as ptt\n",
    "use_gpu = torch.cuda.is_available()\n",
    "print('GPU available:', use_gpu)"
   ]
  },
  {
   "cell_type": "markdown",
   "metadata": {
    "ExecuteTime": {
     "end_time": "2017-06-15T18:50:02.440859",
     "start_time": "2017-06-15T18:50:02.432635"
    }
   },
   "source": [
    "## Leitura do dataset"
   ]
  },
  {
   "cell_type": "code",
   "execution_count": 2,
   "metadata": {
    "ExecuteTime": {
     "end_time": "2017-12-15T17:34:13.496354Z",
     "start_time": "2017-12-15T17:34:13.346978Z"
    }
   },
   "outputs": [],
   "source": [
    "dataset_dir = '/data/datasets/MNIST/'\n",
    "\n",
    "data_train, target_train = torch.load(dataset_dir + 'processed/training.pt')\n",
    "data_test,  target_test  = torch.load(dataset_dir + 'processed/test.pt')\n",
    "\n",
    "data_train = data_train.float() / 255.\n",
    "data_test  = data_test.float() / 255."
   ]
  },
  {
   "cell_type": "markdown",
   "metadata": {},
   "source": [
    "## Pouquíssimas amostras - depurando apenas\n",
    "\n",
    "Para facilitar a depuração e rápida execução de testes, é importante treinar com\n",
    "poucas amostras. Entretanto, quando o modelo precisar de fato ser treinado, é\n",
    "preciso utilizar todas as amostras.\n",
    "Na célula abaixo, controle o uso ou não de poucas amostras trocando o `True/False` do `if`:"
   ]
  },
  {
   "cell_type": "code",
   "execution_count": 3,
   "metadata": {
    "ExecuteTime": {
     "end_time": "2017-12-15T17:34:13.508073Z",
     "start_time": "2017-12-15T17:34:13.497919Z"
    }
   },
   "outputs": [],
   "source": [
    "if True:\n",
    "    n_samples_train = 1000\n",
    "    n_samples_test  = 500\n",
    "else:\n",
    "    n_samples_train = data_train.size(0)\n",
    "    n_samples_test  = data_test.size(0)\n",
    "    \n",
    "x_train = data_train[:n_samples_train].clone()\n",
    "y_train = target_train[:n_samples_train].clone()\n",
    "x_test  = data_test[:n_samples_test].clone()\n",
    "y_test  = target_test[:n_samples_test].clone()\n",
    "del data_train, target_train, data_test, target_test"
   ]
  },
  {
   "cell_type": "code",
   "execution_count": 4,
   "metadata": {
    "ExecuteTime": {
     "end_time": "2017-12-15T17:34:13.513809Z",
     "start_time": "2017-12-15T17:34:13.509443Z"
    }
   },
   "outputs": [
    {
     "data": {
      "text/plain": [
       "torch.Size([1000, 28, 28])"
      ]
     },
     "execution_count": 4,
     "metadata": {},
     "output_type": "execute_result"
    }
   ],
   "source": [
    "x_train.shape"
   ]
  },
  {
   "cell_type": "markdown",
   "metadata": {},
   "source": [
    "## SimpleRNN com 100 neurônios"
   ]
  },
  {
   "cell_type": "code",
   "execution_count": 5,
   "metadata": {
    "ExecuteTime": {
     "end_time": "2017-12-15T17:34:13.532492Z",
     "start_time": "2017-12-15T17:34:13.515162Z"
    }
   },
   "outputs": [
    {
     "data": {
      "text/plain": [
       "Model_RNN (\n",
       "  (rnn): RNN(28, 100, batch_first=True, dropout=0.05)\n",
       "  (out): Linear (100 -> 10)\n",
       ")"
      ]
     },
     "execution_count": 5,
     "metadata": {},
     "output_type": "execute_result"
    }
   ],
   "source": [
    "class Model_RNN(nn.Module):\n",
    "    def __init__(self, hidden_size):\n",
    "        super(Model_RNN, self).__init__()\n",
    "        self.rnn = nn.RNN(28, hidden_size, 1, \n",
    "                          batch_first=True, \n",
    "                          nonlinearity='relu', \n",
    "                          dropout=0.05) # 28 atributos, 100 neurônios, 1 camada  \n",
    "        self.out = nn.Linear(hidden_size, 10)\n",
    "\n",
    "    def forward(self, xin):\n",
    "        _,x = self.rnn(xin)\n",
    "        x  = self.out(x)\n",
    "        return torch.squeeze(x,dim=0)\n",
    "    \n",
    "\n",
    "model_rnn = Model_RNN(100)\n",
    "if use_gpu:\n",
    "    model_rnn = model_rnn.cuda()\n",
    "model_rnn"
   ]
  },
  {
   "cell_type": "markdown",
   "metadata": {},
   "source": [
    "## Predict com uma amostra"
   ]
  },
  {
   "cell_type": "code",
   "execution_count": 6,
   "metadata": {
    "ExecuteTime": {
     "end_time": "2017-12-15T17:34:13.544665Z",
     "start_time": "2017-12-15T17:34:13.533819Z"
    },
    "scrolled": false
   },
   "outputs": [
    {
     "name": "stdout",
     "output_type": "stream",
     "text": [
      "xin.shape: torch.Size([2, 28, 28])\n",
      "Variable containing:\n",
      "-0.0405 -0.0871 -0.0326  0.0324 -0.0530 -0.0210 -0.0680  0.0992 -0.0396  0.0863\n",
      "-0.0355 -0.0828 -0.0352  0.0302 -0.0594 -0.0180 -0.0677  0.1015 -0.0390  0.0868\n",
      "[torch.FloatTensor of size 2x10]\n",
      "\n"
     ]
    }
   ],
   "source": [
    "xin = x_train[0:2]\n",
    "print('xin.shape:',xin.shape)\n",
    "xv_in = Variable(xin)\n",
    "if use_gpu:\n",
    "    xv_in = xv_in.cuda()\n",
    "ypred = model_rnn(xv_in)\n",
    "print(torch.squeeze(ypred[:,:10]))"
   ]
  },
  {
   "cell_type": "markdown",
   "metadata": {},
   "source": [
    "## Criando o treinador"
   ]
  },
  {
   "cell_type": "code",
   "execution_count": 7,
   "metadata": {
    "ExecuteTime": {
     "end_time": "2017-12-15T17:34:13.550415Z",
     "start_time": "2017-12-15T17:34:13.546050Z"
    }
   },
   "outputs": [],
   "source": [
    "chkpt_cb = ptt.ModelCheckpoint('../../models/SimpleRNN_MNIST_rnn', reset=True, verbose=1)\n",
    "\n",
    "trainer = ptt.DeepNetTrainer(model_rnn,\n",
    "                        criterion = nn.CrossEntropyLoss(),\n",
    "                        optimizer = torch.optim.Adam(model_rnn.parameters(),lr=1e-3),\n",
    "                        callbacks = [ptt.AccuracyMetric(),\n",
    "                                     ptt.PrintCallback(),\n",
    "                                     chkpt_cb]\n",
    "                        )"
   ]
  },
  {
   "cell_type": "markdown",
   "metadata": {},
   "source": [
    "### Treinando ou carregando modelo pré treinado"
   ]
  },
  {
   "cell_type": "code",
   "execution_count": 8,
   "metadata": {
    "ExecuteTime": {
     "end_time": "2017-12-15T17:34:13.557822Z",
     "start_time": "2017-12-15T17:34:13.551833Z"
    }
   },
   "outputs": [],
   "source": [
    "if False:\n",
    "    trainer.fit(20, x_train, y_train, valid_data=(x_test, y_test),batch_size=32)\n",
    "else:\n",
    "    trainer.load_state('/data/models/SimpleRNN_MNIST_rnn')"
   ]
  },
  {
   "cell_type": "markdown",
   "metadata": {},
   "source": [
    "### Resultado quando foi treinado em GPU:\n",
    "\n",
    "        Start training for 20 epochs\n",
    "          1:   6.4s   T: 0.71404 0.75580   V: 0.28260 0.91540 best\n",
    "          2:   6.5s   T: 0.28147 0.91710   V: 0.19563 0.94540 best\n",
    "          3:   6.3s   T: 0.20546 0.94018   V: 0.19529 0.94650 best\n",
    "          4:   6.4s   T: 0.18091 0.94835   V: 0.12322 0.96560 best\n",
    "          5:   6.7s   T: 0.16066 0.95412   V: 0.18050 0.94920 \n",
    "          6:   6.4s   T: 0.14633 0.95803   V: 0.12754 0.96220 \n",
    "          7:   6.4s   T: 0.13626 0.96088   V: 0.14361 0.96070 \n",
    "          8:   6.5s   T: 0.12443 0.96495   V: 0.10138 0.96990 best\n",
    "          9:   6.4s   T: 0.11747 0.96702   V: 0.09719 0.97200 best\n",
    "         10:   6.5s   T: 0.11033 0.96883   V: 0.12866 0.96400 \n",
    "         11:   6.6s   T: 0.10589 0.97027   V: 0.12193 0.96640 \n",
    "         12:   6.3s   T: 0.10110 0.97183   V: 0.09986 0.97100 \n",
    "         13:   6.5s   T: 0.09670 0.97312   V: 0.09970 0.97310 \n",
    "         14:   6.5s   T: 0.09486 0.97372   V: 0.09300 0.97470 best\n",
    "         15:   6.3s   T: 0.09202 0.97380   V: 0.08467 0.97590 best\n",
    "         16:   6.5s   T: 0.09106 0.97435   V: 0.09000 0.97590 \n",
    "         17:   6.4s   T: 0.08923 0.97462   V: 0.10739 0.97060 \n",
    "         18:   6.2s   T: 0.08400 0.97615   V: 0.08674 0.97770 \n",
    "         19:   6.5s   T: 0.08492 0.97612   V: 0.10110 0.97250 \n",
    "         20:   6.6s   T: 0.08428 0.97575   V: 0.09164 0.97590 \n",
    "        Stop training at epoch: 20/20\n",
    "        Best model was saved at epoch 15 with loss 0.08467: ../../models/SimpleRNN_MNIST_rnn"
   ]
  },
  {
   "cell_type": "code",
   "execution_count": 9,
   "metadata": {
    "ExecuteTime": {
     "end_time": "2017-12-15T17:34:13.692226Z",
     "start_time": "2017-12-15T17:34:13.559588Z"
    }
   },
   "outputs": [
    {
     "name": "stdout",
     "output_type": "stream",
     "text": [
      "Acc: 0.9759\n"
     ]
    },
    {
     "data": {
      "image/png": "[encoded data removed]",
      "text/plain": [
       "<matplotlib.figure.Figure at 0x7fa2682098d0>"
      ]
     },
     "metadata": {},
     "output_type": "display_data"
    }
   ],
   "source": [
    "print('Acc:', trainer.metrics['valid']['acc'][-1])\n",
    "plt.plot(trainer.metrics['valid']['acc']);"
   ]
  },
  {
   "cell_type": "markdown",
   "metadata": {
    "collapsed": true
   },
   "source": [
    "## Usando LSTM"
   ]
  },
  {
   "cell_type": "markdown",
   "metadata": {},
   "source": [
    "A rede LSTM foi introduzida em 1997 por Sepp Hochreiter e Jürgen Schmidhuber:\n",
    "https://www.researchgate.net/publication/13853244_Long_Short-term_Memory\n",
    "\n",
    "A rede LSTM está presente nos tradutores, nos sistemas de reconhecimento de voz,\n",
    "nos assistentes pessoas do Google, Apple e Facebook e inúmeras outras aplicações\n",
    "aplicáveis em sequências.\n",
    "\n",
    "Ela é basicamente uma rede recorrente simples, similar à RNN, porém possui uma\n",
    "entrada e saída adicional, além de possuir 3 chaves (válvulas) controladas por\n",
    "3 redes neurais.\n",
    "\n",
    "O diagrama de blocos da célula LSTM é mostrado abaixo:"
   ]
  },
  {
   "cell_type": "markdown",
   "metadata": {},
   "source": [
    "<table align='left'>\n",
    "<tr><td> <img src=\"../figures/rnn_3.png\"> </td></tr>\n",
    "</table>"
   ]
  },
  {
   "cell_type": "code",
   "execution_count": 10,
   "metadata": {
    "ExecuteTime": {
     "end_time": "2017-12-15T17:34:13.708777Z",
     "start_time": "2017-12-15T17:34:13.694183Z"
    }
   },
   "outputs": [],
   "source": [
    "class Model_LSTM(nn.Module):\n",
    "    def __init__(self, hidden_size):\n",
    "        super(Model_LSTM, self).__init__()\n",
    "        self.rnn = nn.LSTM(28, hidden_size, 1, batch_first=True, dropout=0.05) # 28 atributos, 100 neurônios, 1 camada  \n",
    "        self.out = nn.Linear(hidden_size, 10)\n",
    "\n",
    "    def forward(self, xin):\n",
    "        _,(x,_) = self.rnn(xin)\n",
    "        x  = self.out(x)\n",
    "        return torch.squeeze(x,dim=0)\n",
    "    \n",
    "model_lstm = Model_LSTM(100)\n",
    "if use_gpu:\n",
    "    model_lstm = model_lstm.cuda()"
   ]
  },
  {
   "cell_type": "markdown",
   "metadata": {},
   "source": [
    "### Predict com uma amostra"
   ]
  },
  {
   "cell_type": "code",
   "execution_count": 11,
   "metadata": {
    "ExecuteTime": {
     "end_time": "2017-12-15T17:34:13.725546Z",
     "start_time": "2017-12-15T17:34:13.710779Z"
    }
   },
   "outputs": [
    {
     "name": "stdout",
     "output_type": "stream",
     "text": [
      "xin.shape: torch.Size([2, 28, 28])\n",
      "Variable containing:\n",
      "-0.0763  0.0223  0.0635  0.0845  0.0651 -0.0261  0.1102  0.0435 -0.0132  0.0347\n",
      "-0.0723  0.0156  0.0665  0.0872  0.0587 -0.0296  0.1050  0.0435 -0.0123  0.0336\n",
      "[torch.FloatTensor of size 2x10]\n",
      "\n"
     ]
    }
   ],
   "source": [
    "xin = x_train[0:2]\n",
    "print('xin.shape:',xin.shape)\n",
    "xv_in = Variable(xin)\n",
    "if use_gpu:\n",
    "    xv_in = xv_in.cuda()\n",
    "ypred = model_lstm(xv_in)\n",
    "print(torch.squeeze(ypred[:,:10]))"
   ]
  },
  {
   "cell_type": "markdown",
   "metadata": {},
   "source": [
    "### Criando o treinador"
   ]
  },
  {
   "cell_type": "code",
   "execution_count": 12,
   "metadata": {
    "ExecuteTime": {
     "end_time": "2017-12-15T17:34:13.732030Z",
     "start_time": "2017-12-15T17:34:13.727245Z"
    }
   },
   "outputs": [],
   "source": [
    "chkpt_cb = ptt.ModelCheckpoint('../../models/SimpleRNN_MNIST_lstm', reset=True, verbose=1)\n",
    "\n",
    "trainer_lstm = ptt.DeepNetTrainer(\n",
    "                model_lstm,\n",
    "                criterion = nn.CrossEntropyLoss(),\n",
    "                optimizer = torch.optim.Adam(model_lstm.parameters(),lr=1e-3),\n",
    "                callbacks = [ptt.AccuracyMetric(),\n",
    "                             ptt.PrintCallback(),\n",
    "                             chkpt_cb]\n",
    "                )"
   ]
  },
  {
   "cell_type": "markdown",
   "metadata": {},
   "source": [
    "### Treinando ou criando modelo pré treinado"
   ]
  },
  {
   "cell_type": "code",
   "execution_count": 13,
   "metadata": {
    "ExecuteTime": {
     "end_time": "2017-12-15T17:34:13.739937Z",
     "start_time": "2017-12-15T17:34:13.733579Z"
    }
   },
   "outputs": [],
   "source": [
    "if False:\n",
    "    trainer_lstm.fit(20, x_train, y_train, valid_data=(x_test, y_test),batch_size=32)\n",
    "else:\n",
    "    trainer_lstm.load_state('/data/models/SimpleRNN_MNIST_lstm')"
   ]
  },
  {
   "cell_type": "markdown",
   "metadata": {},
   "source": [
    "- Resultado do treinamento na GPU:\n",
    "        Start training for 20 epochs\n",
    "          1:   7.9s   T: 0.44033 0.86317   V: 0.16067 0.95540 best\n",
    "          2:   7.7s   T: 0.14068 0.95862   V: 0.11364 0.96690 best\n",
    "          3:   8.0s   T: 0.09463 0.97182   V: 0.08013 0.97440 best\n",
    "          4:   7.7s   T: 0.07338 0.97805   V: 0.08376 0.97550 \n",
    "          5:   7.9s   T: 0.06093 0.98127   V: 0.07614 0.97670 best\n",
    "          6:   7.9s   T: 0.04963 0.98460   V: 0.05543 0.98240 best\n",
    "          7:   7.7s   T: 0.04467 0.98662   V: 0.06603 0.98020 \n",
    "          8:   7.9s   T: 0.03965 0.98748   V: 0.05926 0.98200 \n",
    "          9:   7.7s   T: 0.03368 0.98980   V: 0.05323 0.98460 best\n",
    "         10:   7.9s   T: 0.03080 0.99008   V: 0.05112 0.98530 best\n",
    "         11:   7.9s   T: 0.02793 0.99142   V: 0.04420 0.98740 best\n",
    "         12:   7.6s   T: 0.02403 0.99257   V: 0.05742 0.98420 \n",
    "         13:   7.9s   T: 0.02233 0.99298   V: 0.05009 0.98580 \n",
    "         14:   7.8s   T: 0.02128 0.99313   V: 0.04611 0.98780 \n",
    "         15:   7.8s   T: 0.01861 0.99402   V: 0.04507 0.98760 \n",
    "         16:   8.0s   T: 0.01692 0.99490   V: 0.05036 0.98600 \n",
    "         17:   7.7s   T: 0.01715 0.99480   V: 0.05005 0.98720 \n",
    "         18:   7.9s   T: 0.01322 0.99592   V: 0.07054 0.98320 \n",
    "         19:   7.8s   T: 0.01438 0.99553   V: 0.04601 0.98840 \n",
    "         20:   7.7s   T: 0.01321 0.99597   V: 0.04621 0.98790 \n",
    "        Stop training at epoch: 20/20\n",
    "        Best model was saved at epoch 11 with loss 0.04420: ../../models/SimpleRNN_MNIST_lstm"
   ]
  },
  {
   "cell_type": "code",
   "execution_count": 14,
   "metadata": {
    "ExecuteTime": {
     "end_time": "2017-12-15T17:34:13.874649Z",
     "start_time": "2017-12-15T17:34:13.741561Z"
    }
   },
   "outputs": [
    {
     "name": "stdout",
     "output_type": "stream",
     "text": [
      "Acc:  0.9874\n"
     ]
    },
    {
     "data": {
      "image/png": "[encoded data removed]",
      "text/plain": [
       "<matplotlib.figure.Figure at 0x7fa26ecf07f0>"
      ]
     },
     "metadata": {},
     "output_type": "display_data"
    }
   ],
   "source": [
    "print('Acc: ', trainer_lstm.metrics['valid']['acc'][-1])\n",
    "plt.plot(trainer_lstm.metrics['valid']['acc']);"
   ]
  },
  {
   "cell_type": "markdown",
   "metadata": {},
   "source": [
    "## Comparação RNN x LSTM\n",
    "\n",
    "    - Acurácia RNN: 97,5%\n",
    "    - Acurácia LSTM: 98,7%"
   ]
  },
  {
   "cell_type": "markdown",
   "metadata": {},
   "source": [
    "# Exercícios"
   ]
  },
  {
   "cell_type": "markdown",
   "metadata": {},
   "source": [
    "1. Qual é o número de parâmetros treináveis da rede com solução RNN?\n",
    "2. Qual é o número de parâmetros para a rede com LSTM?\n",
    "3. Imprima o dicionário de cada rede e verifique se acertou. \n",
    "   Utilize o método `state_dict()` do modelo usado para retornar o dicionário dos pesos.\n",
    "4. Faça um programa que imprima o número de pesos de cada camada e o número total de pesos."
   ]
  }
 ],
 "metadata": {
  "kernelspec": {
   "display_name": "Python 3",
   "language": "python",
   "name": "python3"
  },
  "language_info": {
   "codemirror_mode": {
    "name": "ipython",
    "version": 3
   },
   "file_extension": ".py",
   "mimetype": "text/x-python",
   "name": "python",
   "nbconvert_exporter": "python",
   "pygments_lexer": "ipython3",
   "version": "3.6.2"
  },
  "toc": {
   "nav_menu": {
    "height": "12px",
    "width": "252px"
   },
   "number_sections": true,
   "sideBar": true,
   "skip_h1_title": false,
   "toc_cell": false,
   "toc_position": {},
   "toc_section_display": "block",
   "toc_window_display": false
  }
 },
 "nbformat": 4,
 "nbformat_minor": 2
}
