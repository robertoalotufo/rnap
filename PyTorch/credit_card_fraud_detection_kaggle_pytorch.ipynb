{
 "cells": [
  {
   "cell_type": "markdown",
   "metadata": {},
   "source": [
    "# Detecção de fraude - cartão de crédito - Kaggle"
   ]
  },
  {
   "cell_type": "markdown",
   "metadata": {},
   "source": [
    "## Introdução"
   ]
  },
  {
   "cell_type": "markdown",
   "metadata": {},
   "source": [
    "Este notebook utiliza base de dados do Kaggle:\n",
    "- https://www.kaggle.com/dalpozz/creditcardfraud\n",
    "\n",
    "A base de dados contém mais de 284 mil transações de cartão de crédito contendo hora, valor e\n",
    "28 atributos normalizados obtidos através de transformação PCA de redução de dimensionalidade.\n",
    "Assim, ao todo são 30 atributos. O alvo do problema é prever se a transação é fraudulenta ou\n",
    "genuína.\n",
    "Uma característica fundamental deste dataset e que é comum em sistemas de fraudes é a diferença\n",
    "entre respostas positivas: 284315 versus respostas negativas fraudulentas: 492. As fraudes \n",
    "representam apenas 0,17% das transações.\n",
    "Este problema pode ser visto como sendo um problema de detecção de anomalia, entretanto iremos\n",
    "tratá-la como um problema de classificação em duas classes utilizando redes neurais com\n",
    "várias técnicas de regularização."
   ]
  },
  {
   "cell_type": "markdown",
   "metadata": {},
   "source": [
    "## Importação"
   ]
  },
  {
   "cell_type": "code",
   "execution_count": 1,
   "metadata": {
    "ExecuteTime": {
     "end_time": "2017-10-12T09:39:57.936588Z",
     "start_time": "2017-10-12T09:39:57.914327Z"
    }
   },
   "outputs": [
    {
     "name": "stdout",
     "output_type": "stream",
     "text": [
      "GPU available: True\n"
     ]
    }
   ],
   "source": [
    "%matplotlib inline\n",
    "import matplotlib.pyplot as plt\n",
    "from IPython import display\n",
    "import os,sys\n",
    "import time\n",
    "import numpy as np\n",
    "import pandas as pd\n",
    "import seaborn as sns\n",
    "\n",
    "import torch\n",
    "import torch.nn as nn\n",
    "import torch.nn.functional as F\n",
    "#import torch.optim as optim\n",
    "from torch.optim.lr_scheduler import MultiStepLR, StepLR\n",
    "from torch.utils.data import DataLoader, TensorDataset\n",
    "from torch.autograd import Variable\n",
    "\n",
    "#from torchvision import datasets, transforms, models\n",
    "\n",
    "import sklearn.metrics\n",
    "\n",
    "from lib.pytorch_utils import DeepNetTrainer, test_network\n",
    "\n",
    "use_gpu = torch.cuda.is_available()\n",
    "print('GPU available:', use_gpu)"
   ]
  },
  {
   "cell_type": "markdown",
   "metadata": {},
   "source": [
    "## Funções de apoio ao treinamento"
   ]
  },
  {
   "cell_type": "code",
   "execution_count": 2,
   "metadata": {
    "ExecuteTime": {
     "end_time": "2017-10-12T06:46:53.338082Z",
     "start_time": "2017-10-12T06:46:53.247899Z"
    }
   },
   "outputs": [],
   "source": [
    "class MyCallback(object):\n",
    "    def __init__(self, interval=1):\n",
    "        self.interval = interval\n",
    "    \n",
    "    def on_train_begin(self, trainer, has_validation=False):\n",
    "        self.val = has_validation\n",
    "        self.line_train = None\n",
    "        self.line_valid = None\n",
    "        \n",
    "        self.fig = plt.figure(figsize=(15,6))\n",
    "        self.ax = self.fig.add_subplot(1, 1, 1)\n",
    "        self.ax.grid(True)\n",
    "        self.plot_losses(trainer.metrics['train']['losses'], \n",
    "                         trainer.metrics['valid']['losses'])\n",
    "    \n",
    "    def on_epoch_end(self, trainer, epoch, best_epoch, t0):\n",
    "        return\n",
    "        display.clear_output(wait=True)\n",
    "        print('n epochs:', len(trainer.metrics['train']['losses']))\n",
    "        for i in range(len(trainer.metrics['train']['losses'])):\n",
    "            trainer.print_losses(i)\n",
    "        if epoch % self.interval == 0:\n",
    "            self.plot_losses(trainer.metrics['train']['losses'],\n",
    "                             trainer.metrics['valid']['losses'], best_epoch==epoch)\n",
    "        \n",
    "    def plot_losses(self, htrain, hvalid, best_epoch=0):\n",
    "        if self.line_train: self.line_train.remove()\n",
    "        if self.line_valid: self.line_valid.remove()\n",
    "        \n",
    "        x = np.arange(1, len(htrain) + 1)\n",
    "        self.line_train, = self.ax.plot(x, htrain, color='#1f77b4', linewidth=2, label='training loss')\n",
    "        self.line_valid, = self.ax.plot(x, hvalid, color='#ff7f0e', linewidth=2, label='validation loss')\n",
    "        self.ax.legend()\n",
    "                \n",
    "        if best_epoch:\n",
    "            self.ax.vlines(best_epoch, *(self.ax.get_ylim()), colors='#EBDDE2', linestyles='dashed')\n",
    "\n",
    "        display.display(self.fig)\n",
    "        time.sleep(0.1)\n",
    "\n",
    "    def plot_losses_2(self, htrain, hvalid, best_epoch=0):\n",
    "        if self.line_train is None:\n",
    "            line_train = plt.plot(htrain, linewidth=2, label='training loss')\n",
    "            if hvalid[0]:\n",
    "                line_valid = plt.plot(hvalid, linewidth=2, label='validation loss')\n",
    "        else:\n",
    "            self.line_train.set_xdata(np.arange(htrain.shape[0]))\n",
    "            self.line_train.set_ydata(htrain)\n",
    "            if hvalid[0]:\n",
    "                self.line_valid.set_xdata(np.arange(hvalid.shape[0]))\n",
    "                self.line_valid.set_ydata(hvalid)\n",
    "                \n",
    "        if best_epoch:\n",
    "            plt.vlines(best_epoch, 0, 100, colors='#EBDDE2', linestyles='dashed')\n",
    "            \n",
    "        plt.legend()\n",
    "        \n",
    "        display.display(plt.gcf())\n",
    "        display.clear_output(wait=True)"
   ]
  },
  {
   "cell_type": "markdown",
   "metadata": {},
   "source": [
    "## Leitura dos dados"
   ]
  },
  {
   "cell_type": "code",
   "execution_count": 3,
   "metadata": {
    "ExecuteTime": {
     "end_time": "2017-10-12T07:16:35.679025Z",
     "start_time": "2017-10-12T07:16:31.637998Z"
    }
   },
   "outputs": [
    {
     "name": "stdout",
     "output_type": "stream",
     "text": [
      "dataframe.shape: (284807, 31)\n"
     ]
    },
    {
     "data": {
      "text/html": [
       "<div>\n",
       "<style>\n",
       "    .dataframe thead tr:only-child th {\n",
       "        text-align: right;\n",
       "    }\n",
       "\n",
       "    .dataframe thead th {\n",
       "        text-align: left;\n",
       "    }\n",
       "\n",
       "    .dataframe tbody tr th {\n",
       "        vertical-align: top;\n",
       "    }\n",
       "</style>\n",
       "<table border=\"1\" class=\"dataframe\">\n",
       "  <thead>\n",
       "    <tr style=\"text-align: right;\">\n",
       "      <th></th>\n",
       "      <th>Time</th>\n",
       "      <th>V1</th>\n",
       "      <th>V2</th>\n",
       "      <th>V3</th>\n",
       "      <th>V4</th>\n",
       "      <th>V5</th>\n",
       "      <th>V6</th>\n",
       "      <th>V7</th>\n",
       "      <th>V8</th>\n",
       "      <th>V9</th>\n",
       "      <th>...</th>\n",
       "      <th>V21</th>\n",
       "      <th>V22</th>\n",
       "      <th>V23</th>\n",
       "      <th>V24</th>\n",
       "      <th>V25</th>\n",
       "      <th>V26</th>\n",
       "      <th>V27</th>\n",
       "      <th>V28</th>\n",
       "      <th>Amount</th>\n",
       "      <th>Class</th>\n",
       "    </tr>\n",
       "  </thead>\n",
       "  <tbody>\n",
       "    <tr>\n",
       "      <th>0</th>\n",
       "      <td>0.0</td>\n",
       "      <td>-1.359807</td>\n",
       "      <td>-0.072781</td>\n",
       "      <td>2.536347</td>\n",
       "      <td>1.378155</td>\n",
       "      <td>-0.338321</td>\n",
       "      <td>0.462388</td>\n",
       "      <td>0.239599</td>\n",
       "      <td>0.098698</td>\n",
       "      <td>0.363787</td>\n",
       "      <td>...</td>\n",
       "      <td>-0.018307</td>\n",
       "      <td>0.277838</td>\n",
       "      <td>-0.110474</td>\n",
       "      <td>0.066928</td>\n",
       "      <td>0.128539</td>\n",
       "      <td>-0.189115</td>\n",
       "      <td>0.133558</td>\n",
       "      <td>-0.021053</td>\n",
       "      <td>149.62</td>\n",
       "      <td>0</td>\n",
       "    </tr>\n",
       "    <tr>\n",
       "      <th>1</th>\n",
       "      <td>0.0</td>\n",
       "      <td>1.191857</td>\n",
       "      <td>0.266151</td>\n",
       "      <td>0.166480</td>\n",
       "      <td>0.448154</td>\n",
       "      <td>0.060018</td>\n",
       "      <td>-0.082361</td>\n",
       "      <td>-0.078803</td>\n",
       "      <td>0.085102</td>\n",
       "      <td>-0.255425</td>\n",
       "      <td>...</td>\n",
       "      <td>-0.225775</td>\n",
       "      <td>-0.638672</td>\n",
       "      <td>0.101288</td>\n",
       "      <td>-0.339846</td>\n",
       "      <td>0.167170</td>\n",
       "      <td>0.125895</td>\n",
       "      <td>-0.008983</td>\n",
       "      <td>0.014724</td>\n",
       "      <td>2.69</td>\n",
       "      <td>0</td>\n",
       "    </tr>\n",
       "    <tr>\n",
       "      <th>2</th>\n",
       "      <td>1.0</td>\n",
       "      <td>-1.358354</td>\n",
       "      <td>-1.340163</td>\n",
       "      <td>1.773209</td>\n",
       "      <td>0.379780</td>\n",
       "      <td>-0.503198</td>\n",
       "      <td>1.800499</td>\n",
       "      <td>0.791461</td>\n",
       "      <td>0.247676</td>\n",
       "      <td>-1.514654</td>\n",
       "      <td>...</td>\n",
       "      <td>0.247998</td>\n",
       "      <td>0.771679</td>\n",
       "      <td>0.909412</td>\n",
       "      <td>-0.689281</td>\n",
       "      <td>-0.327642</td>\n",
       "      <td>-0.139097</td>\n",
       "      <td>-0.055353</td>\n",
       "      <td>-0.059752</td>\n",
       "      <td>378.66</td>\n",
       "      <td>0</td>\n",
       "    </tr>\n",
       "    <tr>\n",
       "      <th>3</th>\n",
       "      <td>1.0</td>\n",
       "      <td>-0.966272</td>\n",
       "      <td>-0.185226</td>\n",
       "      <td>1.792993</td>\n",
       "      <td>-0.863291</td>\n",
       "      <td>-0.010309</td>\n",
       "      <td>1.247203</td>\n",
       "      <td>0.237609</td>\n",
       "      <td>0.377436</td>\n",
       "      <td>-1.387024</td>\n",
       "      <td>...</td>\n",
       "      <td>-0.108300</td>\n",
       "      <td>0.005274</td>\n",
       "      <td>-0.190321</td>\n",
       "      <td>-1.175575</td>\n",
       "      <td>0.647376</td>\n",
       "      <td>-0.221929</td>\n",
       "      <td>0.062723</td>\n",
       "      <td>0.061458</td>\n",
       "      <td>123.50</td>\n",
       "      <td>0</td>\n",
       "    </tr>\n",
       "    <tr>\n",
       "      <th>4</th>\n",
       "      <td>2.0</td>\n",
       "      <td>-1.158233</td>\n",
       "      <td>0.877737</td>\n",
       "      <td>1.548718</td>\n",
       "      <td>0.403034</td>\n",
       "      <td>-0.407193</td>\n",
       "      <td>0.095921</td>\n",
       "      <td>0.592941</td>\n",
       "      <td>-0.270533</td>\n",
       "      <td>0.817739</td>\n",
       "      <td>...</td>\n",
       "      <td>-0.009431</td>\n",
       "      <td>0.798278</td>\n",
       "      <td>-0.137458</td>\n",
       "      <td>0.141267</td>\n",
       "      <td>-0.206010</td>\n",
       "      <td>0.502292</td>\n",
       "      <td>0.219422</td>\n",
       "      <td>0.215153</td>\n",
       "      <td>69.99</td>\n",
       "      <td>0</td>\n",
       "    </tr>\n",
       "  </tbody>\n",
       "</table>\n",
       "<p>5 rows × 31 columns</p>\n",
       "</div>"
      ],
      "text/plain": [
       "   Time        V1        V2        V3        V4        V5        V6        V7  \\\n",
       "0   0.0 -1.359807 -0.072781  2.536347  1.378155 -0.338321  0.462388  0.239599   \n",
       "1   0.0  1.191857  0.266151  0.166480  0.448154  0.060018 -0.082361 -0.078803   \n",
       "2   1.0 -1.358354 -1.340163  1.773209  0.379780 -0.503198  1.800499  0.791461   \n",
       "3   1.0 -0.966272 -0.185226  1.792993 -0.863291 -0.010309  1.247203  0.237609   \n",
       "4   2.0 -1.158233  0.877737  1.548718  0.403034 -0.407193  0.095921  0.592941   \n",
       "\n",
       "         V8        V9  ...         V21       V22       V23       V24  \\\n",
       "0  0.098698  0.363787  ...   -0.018307  0.277838 -0.110474  0.066928   \n",
       "1  0.085102 -0.255425  ...   -0.225775 -0.638672  0.101288 -0.339846   \n",
       "2  0.247676 -1.514654  ...    0.247998  0.771679  0.909412 -0.689281   \n",
       "3  0.377436 -1.387024  ...   -0.108300  0.005274 -0.190321 -1.175575   \n",
       "4 -0.270533  0.817739  ...   -0.009431  0.798278 -0.137458  0.141267   \n",
       "\n",
       "        V25       V26       V27       V28  Amount  Class  \n",
       "0  0.128539 -0.189115  0.133558 -0.021053  149.62      0  \n",
       "1  0.167170  0.125895 -0.008983  0.014724    2.69      0  \n",
       "2 -0.327642 -0.139097 -0.055353 -0.059752  378.66      0  \n",
       "3  0.647376 -0.221929  0.062723  0.061458  123.50      0  \n",
       "4 -0.206010  0.502292  0.219422  0.215153   69.99      0  \n",
       "\n",
       "[5 rows x 31 columns]"
      ]
     },
     "execution_count": 3,
     "metadata": {},
     "output_type": "execute_result"
    }
   ],
   "source": [
    "dataframe = pd.read_csv('/data/datasets/creditcard.csv', header=0)\n",
    "print('dataframe.shape:',dataframe.shape)\n",
    "dataframe.head()"
   ]
  },
  {
   "cell_type": "markdown",
   "metadata": {},
   "source": [
    "### converte rótulos para codificação one-hot e conta número de amostras em cada classe"
   ]
  },
  {
   "cell_type": "code",
   "execution_count": 4,
   "metadata": {
    "ExecuteTime": {
     "end_time": "2017-10-12T07:07:43.488101Z",
     "start_time": "2017-10-12T07:07:43.475228Z"
    }
   },
   "outputs": [
    {
     "name": "stdout",
     "output_type": "stream",
     "text": [
      "n. de amostras: 284807\n",
      "transações legítimas: 284315\n",
      "transações fraudulentas: 492\n"
     ]
    }
   ],
   "source": [
    "target = np.asarray(dataframe['Class'])\n",
    "n_samples = target.shape[0]\n",
    "print('n. de amostras:', n_samples)\n",
    "print('transações legítimas:', (target==0).sum())\n",
    "print('transações fraudulentas:', (target==1).sum())"
   ]
  },
  {
   "cell_type": "markdown",
   "metadata": {
    "ExecuteTime": {
     "end_time": "2017-06-12T19:54:10.179519",
     "start_time": "2017-06-12T19:54:10.171635"
    }
   },
   "source": [
    "### Aplica mod no Timestamp para ser uma indicação da hora diária e normaliza dados "
   ]
  },
  {
   "cell_type": "code",
   "execution_count": 5,
   "metadata": {
    "ExecuteTime": {
     "end_time": "2017-10-12T06:54:27.888661Z",
     "start_time": "2017-10-12T06:54:27.703301Z"
    }
   },
   "outputs": [
    {
     "data": {
      "text/plain": [
       "(array([[ 0.        ,  0.93519234,  0.76649042,  0.8813649 ,  0.31302266,\n",
       "          0.76343873,  0.26766864,  0.26681518,  0.7864442 ,  0.47531173,\n",
       "          0.51060048,  0.25248432,  0.68090763,  0.3715906 ,  0.63559053,\n",
       "          0.4460837 ,  0.43439239,  0.73717255,  0.65506586,  0.59486323,\n",
       "          0.58294223,  0.56118439,  0.52299212,  0.66379298,  0.39125268,\n",
       "          0.58512179,  0.39455679,  0.41897614,  0.31269663,  0.00582379]]),\n",
       " (284807, 30))"
      ]
     },
     "execution_count": 5,
     "metadata": {},
     "output_type": "execute_result"
    }
   ],
   "source": [
    "df_cp = dataframe.copy()\n",
    "inputs = np.asarray(df_cp.values)[:,:-1]\n",
    "timestamp = inputs[:,0]\n",
    "timestamp = timestamp % (60* 60 * 24) # modulo número de segundos por dia\n",
    "inputs -= inputs.min(axis=0)\n",
    "inputs /= inputs.max(axis=0)\n",
    "inputs[:1],inputs.shape  # dados de uma amostra normalizada"
   ]
  },
  {
   "cell_type": "markdown",
   "metadata": {},
   "source": [
    "### Visualiza com boxplot"
   ]
  },
  {
   "cell_type": "code",
   "execution_count": 6,
   "metadata": {
    "ExecuteTime": {
     "end_time": "2017-10-12T06:54:34.987746Z",
     "start_time": "2017-10-12T06:54:31.769700Z"
    },
    "scrolled": true
   },
   "outputs": [
    {
     "data": {
      "image/png": "[encoded data removed]",
      "text/plain": [
       "<matplotlib.figure.Figure at 0x7fb78ef51a58>"
      ]
     },
     "metadata": {},
     "output_type": "display_data"
    }
   ],
   "source": [
    "sns.boxplot(data=inputs[:,:]);"
   ]
  },
  {
   "cell_type": "markdown",
   "metadata": {},
   "source": [
    "## Separação dados em treinamento e teste (20%)"
   ]
  },
  {
   "cell_type": "code",
   "execution_count": 7,
   "metadata": {
    "ExecuteTime": {
     "end_time": "2017-10-12T07:22:58.158745Z",
     "start_time": "2017-10-12T07:22:57.854634Z"
    }
   },
   "outputs": [
    {
     "name": "stdout",
     "output_type": "stream",
     "text": [
      "fraudes no treino e total amostras: 405 227845\n",
      "fraudes na validação e total amostras: 87 56962\n"
     ]
    }
   ],
   "source": [
    "i = np.arange(n_samples)\n",
    "np.random.shuffle(i)\n",
    "\n",
    "split_index = int(0.8 * n_samples)\n",
    "train_i = i[:split_index]\n",
    "val_i   = i[split_index:]\n",
    "x_train, y_train = inputs[train_i], target[train_i]\n",
    "x_val,   y_val   = inputs[val_i],   target[val_i]\n",
    "print('fraudes no treino e total amostras:',    (y_train==1).sum(), y_train.shape[0])\n",
    "print('fraudes na validação e total amostras:', (y_val==1).sum(),   y_val.shape[0])"
   ]
  },
  {
   "cell_type": "code",
   "execution_count": 8,
   "metadata": {
    "ExecuteTime": {
     "end_time": "2017-10-12T07:22:59.597344Z",
     "start_time": "2017-10-12T07:22:58.881765Z"
    }
   },
   "outputs": [],
   "source": [
    "batch_size = 1000 # A escolha do batch_size é crítica pois se batch_size for pequeno, só treina com legítimos\n",
    "xt_train = torch.FloatTensor(x_train)\n",
    "yt_train = torch.LongTensor(y_train)\n",
    "train_data = TensorDataset(xt_train, yt_train)\n",
    "train_loader = DataLoader(train_data, batch_size=batch_size, shuffle=True)\n",
    "\n",
    "xt_val = torch.FloatTensor(x_val)\n",
    "yt_val = torch.LongTensor(y_val)\n",
    "val_data = TensorDataset(xt_val, yt_val)\n",
    "val_loader = DataLoader(val_data, batch_size=batch_size, shuffle=False)"
   ]
  },
  {
   "cell_type": "code",
   "execution_count": 9,
   "metadata": {
    "ExecuteTime": {
     "end_time": "2017-10-12T07:23:01.934792Z",
     "start_time": "2017-10-12T07:23:01.930697Z"
    }
   },
   "outputs": [],
   "source": [
    "FEATURE_NUM = 30\n",
    "CLASSES = 2"
   ]
  },
  {
   "cell_type": "code",
   "execution_count": 10,
   "metadata": {
    "ExecuteTime": {
     "end_time": "2017-10-12T07:58:28.358866Z",
     "start_time": "2017-10-12T07:58:27.199539Z"
    }
   },
   "outputs": [
    {
     "name": "stdout",
     "output_type": "stream",
     "text": [
      "N amostras treinamento e validação: 227845 56962\n",
      "Número de batches e número de amostras: 227 227845\n"
     ]
    }
   ],
   "source": [
    "print('N amostras treinamento e validação:',len(train_data),len(val_data))\n",
    "n=0\n",
    "for k,batch in enumerate(train_loader):\n",
    "    n = n + len(batch[0]) # comprimento de cada batch, 0 para pegar inputs\n",
    "print('Número de batches e número de amostras:',k,n)"
   ]
  },
  {
   "cell_type": "markdown",
   "metadata": {},
   "source": [
    "## Definição da rede"
   ]
  },
  {
   "cell_type": "code",
   "execution_count": 11,
   "metadata": {
    "ExecuteTime": {
     "end_time": "2017-10-12T08:41:55.980125Z",
     "start_time": "2017-10-12T08:41:55.947626Z"
    }
   },
   "outputs": [
    {
     "data": {
      "text/plain": [
       "Model (\n",
       "  (bn1): BatchNorm1d(30, eps=1e-05, momentum=0.1, affine=True)\n",
       "  (ln1): Linear (30 -> 100)\n",
       "  (bn2): BatchNorm1d(100, eps=1e-05, momentum=0.9, affine=True)\n",
       "  (ln2): Linear (100 -> 100)\n",
       "  (ln3): Linear (100 -> 50)\n",
       "  (ln4): Linear (50 -> 2)\n",
       ")"
      ]
     },
     "execution_count": 11,
     "metadata": {},
     "output_type": "execute_result"
    }
   ],
   "source": [
    "class Model(nn.Module):\n",
    "    def __init__(self):\n",
    "        super(Model, self).__init__()\n",
    "        self.bn1   = nn.BatchNorm1d(FEATURE_NUM)\n",
    "        self.ln1   = nn.Linear(FEATURE_NUM,100)\n",
    "        self.bn2   = nn.BatchNorm1d(100, momentum=0.9)\n",
    "        self.ln2   = nn.Linear(100,100)\n",
    "        self.ln3   = nn.Linear(100,50)\n",
    "        self.ln4   = nn.Linear(50,CLASSES)\n",
    "\n",
    "    def forward(self, x):\n",
    "        #x = self.bn1(x)         # (FEATURE_NUM,FEATURE_NUM)\n",
    "        \n",
    "        x = self.ln1(x)         # (FEATURE_NUM,100)\n",
    "        x = F.relu(x)\n",
    "        x = F.dropout(x,0.5)  \n",
    "        #x = self.bn2(x)         # (100,100)\n",
    "        \n",
    "        x = self.ln2(x)         # (100,100)\n",
    "        x = F.relu(x)\n",
    "        x = F.dropout(x,0.5)\n",
    "        \n",
    "        x = self.ln3(x)         # (100,50)\n",
    "        x = F.relu(x)\n",
    "        x = F.dropout(x,0.5)\n",
    "        \n",
    "        x = self.ln4(x)         # (50,2)\n",
    "        return x\n",
    "\n",
    "model = Model()\n",
    "if use_gpu:\n",
    "    model.cuda()\n",
    "model"
   ]
  },
  {
   "cell_type": "markdown",
   "metadata": {},
   "source": [
    "## Testando um predict"
   ]
  },
  {
   "cell_type": "code",
   "execution_count": 12,
   "metadata": {
    "ExecuteTime": {
     "end_time": "2017-10-12T08:41:57.648672Z",
     "start_time": "2017-10-12T08:41:57.640719Z"
    }
   },
   "outputs": [
    {
     "name": "stdout",
     "output_type": "stream",
     "text": [
      "Variable containing:\n",
      "-0.1451 -0.1114\n",
      "[torch.cuda.FloatTensor of size 1x2 (GPU 0)]\n",
      "\n",
      "Variable containing:\n",
      " 0.4916  0.5084\n",
      "[torch.cuda.FloatTensor of size 1x2 (GPU 0)]\n",
      "\n"
     ]
    }
   ],
   "source": [
    "if use_gpu:\n",
    "    y = model(Variable(train_data[0:1][0]).cuda())\n",
    "else:\n",
    "    y = model(Variable(train_data[0:1][0]))\n",
    "print(y)\n",
    "print(F.softmax(y))"
   ]
  },
  {
   "cell_type": "markdown",
   "metadata": {},
   "source": [
    "## Treinamento"
   ]
  },
  {
   "cell_type": "code",
   "execution_count": 13,
   "metadata": {
    "ExecuteTime": {
     "end_time": "2017-10-12T09:08:57.989712Z",
     "start_time": "2017-10-12T09:08:57.984790Z"
    }
   },
   "outputs": [],
   "source": [
    "def confmatrix_prec_recall(y,y_pred):\n",
    "    ''' Compute Confusion Matrix, Precision and Recall'''\n",
    "    n = len(y)\n",
    "    assert n == len(y_pred)\n",
    "    xy = y_pred + 2* y\n",
    "    cm = np.bincount(xy,minlength=4)\n",
    "    precision = cm[3]/(cm[3]+cm[1]+sys.float_info.epsilon)\n",
    "    recall = cm[3]/(cm[3]+cm[2]+sys.float_info.epsilon)\n",
    "    return cm.reshape(2,2), precision, recall\n",
    "\n",
    "def compute_accuracy(logits, labels):\n",
    "    _, preds = torch.max(logits.data, 1)\n",
    "    return (preds == labels.data).type(torch.FloatTensor).mean()\n",
    "\n",
    "def compute_confmatrix_prec_recall(logits, labels):\n",
    "    _, preds = torch.max(logits.data, 1)\n",
    "    preds = preds.cpu()\n",
    "    labels = labels.cpu()\n",
    "    return confmatrix_prec_recall(labels.data.numpy(), preds.numpy())\n",
    "\n",
    "def compute_precision(logits, labels):\n",
    "    _, p, r = compute_confmatrix_prec_recall(logits, labels)\n",
    "    return p\n"
   ]
  },
  {
   "cell_type": "code",
   "execution_count": 105,
   "metadata": {
    "ExecuteTime": {
     "end_time": "2017-10-12T09:08:59.485713Z",
     "start_time": "2017-10-12T09:08:59.477940Z"
    }
   },
   "outputs": [
    {
     "name": "stdout",
     "output_type": "stream",
     "text": [
      "\n",
      " 0.3000\n",
      " 0.7000\n",
      "[torch.cuda.FloatTensor of size 2 (GPU 0)]\n",
      "\n"
     ]
    }
   ],
   "source": [
    "w_class = torch.FloatTensor(np.array([0.3, 0.7])).cuda()\n",
    "print(w_class)"
   ]
  },
  {
   "cell_type": "code",
   "execution_count": 128,
   "metadata": {
    "ExecuteTime": {
     "end_time": "2017-10-12T09:08:59.485713Z",
     "start_time": "2017-10-12T09:08:59.477940Z"
    }
   },
   "outputs": [
    {
     "name": "stdout",
     "output_type": "stream",
     "text": [
      "Model loaded from ../../models/creditcardfraud_pt.model\n"
     ]
    }
   ],
   "source": [
    "optimizer = torch.optim.Adam(model.parameters(), lr=7e-3)\n",
    "scheduler = StepLR(optimizer, step_size=5, gamma=0.75)\n",
    "criterion = nn.CrossEntropyLoss(weight=Variable(w_class))\n",
    "trainer = DeepNetTrainer(\n",
    "        file_basename = '../../models/creditcardfraud_pt',\n",
    "        model =         model,\n",
    "        criterion =     criterion,\n",
    "        metrics =       dict(acc=compute_accuracy),\n",
    "        optimizer =     optimizer,\n",
    "        lr_scheduler =  scheduler,\n",
    "        callbacks =     [MyCallback()],\n",
    "        reset =         False\n",
    "        )"
   ]
  },
  {
   "cell_type": "code",
   "execution_count": 130,
   "metadata": {
    "ExecuteTime": {
     "end_time": "2017-10-12T09:09:55.665508Z",
     "start_time": "2017-10-12T09:08:59.949208Z"
    },
    "scrolled": false
   },
   "outputs": [
    {
     "name": "stdout",
     "output_type": "stream",
     "text": [
      "Starting training for 3 epochs\n",
      "\n",
      "335:   0.0s   T: 0.00690 0.99936   V: 0.00593 0.99937 best\n"
     ]
    },
    {
     "data": {
      "image/png": "[encoded data removed]",
      "text/plain": [
       "<matplotlib.figure.Figure at 0x7fb7838ad0b8>"
      ]
     },
     "metadata": {},
     "output_type": "display_data"
    },
    {
     "name": "stdout",
     "output_type": "stream",
     "text": [
      "336:   1.1s   T: 0.00689 0.99936   V: 0.00593 0.99937 \n",
      "337:   1.1s   T: 0.00691 0.99936   V: 0.00593 0.99937 \n",
      "338:   1.0s   T: 0.00690 0.99936   V: 0.00593 0.99937 \n",
      "\n",
      "Model from epoch 335 saved as \"../../models/creditcardfraud_pt.*\", loss = 0.00593\n"
     ]
    },
    {
     "data": {
      "image/png": "[encoded data removed]",
      "text/plain": [
       "<matplotlib.figure.Figure at 0x7fb7838ad0b8>"
      ]
     },
     "metadata": {},
     "output_type": "display_data"
    }
   ],
   "source": [
    "trainer.fit(3, train_loader, val_loader)\n"
   ]
  },
  {
   "cell_type": "markdown",
   "metadata": {},
   "source": [
    "## Avaliação"
   ]
  },
  {
   "cell_type": "markdown",
   "metadata": {},
   "source": [
    "\n",
    "<table border=\"1px\">\n",
    "<tr>\n",
    "    <th> </th> <th> </th> <th colspan=\"2\">Dataset</th>\n",
    "</tr><tr>\n",
    "    <th> </th> <th> </th>                                 <th>Legítima (0)</th> <th>Fraude (1)</th>\n",
    "</tr><tr>\n",
    "<th rowspan=\"4\">Detecção </th> <th rowspan=\"2\"> Negativo (0)  </th> <th>VN   </th> <th>FN</th>\n",
    "</tr><tr>\n",
    "                                                      <th>(legítima correta)</th> <th>(fraude não detectada)</th>\n",
    "</tr><tr>\n",
    "                               <th rowspan=\"2\"> Positivo (1)  </th> <th>FP   </th> <th>VP</th>\n",
    "</tr><tr>\n",
    "                                                          <th>(alarme falso)   </th> <th>(fraude detectada)</th>\n",
    "</tr>\n",
    "</table>"
   ]
  },
  {
   "cell_type": "markdown",
   "metadata": {},
   "source": [
    "- Amostras: $M = VP+VN+FP+FN$\n",
    "- Acurácia ou Exatidão: $ACC = \\frac{VP+VN}{M} $ Detecções corretas sobre o total\n",
    "- Precisão: $P  = \\frac{VP}{VP+FP}$ Taxa de fraudes detectadas são realmente fraudes (não quer perder vendas)\n",
    "- Sensibilidade:$S  = \\frac{VP}{VP+FN} $ Capacidade de detectar todas as fraudes (não quer perder dinheiro)"
   ]
  },
  {
   "cell_type": "code",
   "execution_count": 122,
   "metadata": {
    "ExecuteTime": {
     "end_time": "2017-10-12T09:21:35.104656Z",
     "start_time": "2017-10-12T09:21:28.269307Z"
    }
   },
   "outputs": [
    {
     "name": "stdout",
     "output_type": "stream",
     "text": [
      "evaluate: 227/227 ok\n",
      "Model training set accuracy after training: 0.99936\n",
      "\n",
      "evaluate: 56/56 ok\n",
      "Model validation set accuracy after training: 0.99937\n"
     ]
    }
   ],
   "source": [
    "metrics = trainer.evaluate(train_loader)\n",
    "print('Model training set accuracy after training: {:.5f}'.format(metrics['acc']))\n",
    "print()\n",
    "metrics = trainer.evaluate(val_loader)\n",
    "print('Model validation set accuracy after training: {:.5f}'.format(metrics['acc']))"
   ]
  },
  {
   "cell_type": "code",
   "execution_count": 123,
   "metadata": {},
   "outputs": [
    {
     "name": "stdout",
     "output_type": "stream",
     "text": [
      "predict: 227/227 ok\n",
      "[[227398     42]\n",
      " [   104    301]]\n"
     ]
    }
   ],
   "source": [
    "cm = trainer.evaluate_confusion_matrix(train_loader)\n",
    "print(cm)"
   ]
  },
  {
   "cell_type": "code",
   "execution_count": 124,
   "metadata": {},
   "outputs": [
    {
     "name": "stdout",
     "output_type": "stream",
     "text": [
      "\r",
      "predict: 0/56\r",
      "predict: 1/56\r",
      "predict: 2/56\r",
      "predict: 3/56\r",
      "predict: 4/56\r",
      "predict: 5/56\r",
      "predict: 6/56\r",
      "predict: 7/56\r",
      "predict: 8/56\r",
      "predict: 9/56\r",
      "predict: 10/56\r",
      "predict: 11/56\r",
      "predict: 12/56\r",
      "predict: 13/56\r",
      "predict: 14/56\r",
      "predict: 15/56\r",
      "predict: 16/56\r",
      "predict: 17/56\r",
      "predict: 18/56\r",
      "predict: 19/56\r",
      "predict: 20/56\r",
      "predict: 21/56\r",
      "predict: 22/56\r",
      "predict: 23/56\r",
      "predict: 24/56\r",
      "predict: 25/56\r",
      "predict: 26/56\r",
      "predict: 27/56\r",
      "predict: 28/56\r",
      "predict: 29/56\r",
      "predict: 30/56\r",
      "predict: 31/56\r",
      "predict: 32/56\r",
      "predict: 33/56\r",
      "predict: 34/56\r",
      "predict: 35/56\r",
      "predict: 36/56\r",
      "predict: 37/56\r",
      "predict: 38/56\r",
      "predict: 39/56\r",
      "predict: 40/56\r",
      "predict: 41/56\r",
      "predict: 42/56\r",
      "predict: 43/56\r",
      "predict: 44/56\r",
      "predict: 45/56\r",
      "predict: 46/56\r",
      "predict: 47/56\r",
      "predict: 48/56\r",
      "predict: 49/56\r",
      "predict: 50/56\r",
      "predict: 51/56\r",
      "predict: 52/56\r",
      "predict: 53/56\r",
      "predict: 54/56\r",
      "predict: 55/56\r",
      "predict: 56/56 ok\n",
      "[[56861    14]\n",
      " [   22    65]]\n"
     ]
    }
   ],
   "source": [
    "cm = trainer.evaluate_confusion_matrix(val_loader)\n",
    "print(cm)"
   ]
  },
  {
   "cell_type": "code",
   "execution_count": 38,
   "metadata": {},
   "outputs": [],
   "source": [
    "def evaluate_loss(model, criterion, dataloader):\n",
    "    loss = 0\n",
    "    n = 0\n",
    "    model.train(False)\n",
    "\n",
    "    for k,(x,y) in enumerate(dataloader):\n",
    "        if use_gpu:\n",
    "            x, y = Variable(x.cuda()), Variable(y.cuda())\n",
    "        else:\n",
    "            x, y = Variable(x), Variable(y)\n",
    "\n",
    "        y_pred = model(x)\n",
    "        nn = y_pred.size(0)\n",
    "        mb_loss = criterion(y_pred, y)\n",
    "                                \n",
    "        loss += mb_loss * nn\n",
    "        n += nn\n",
    "    loss /= n\n",
    "    return loss"
   ]
  },
  {
   "cell_type": "code",
   "execution_count": 27,
   "metadata": {
    "scrolled": true
   },
   "outputs": [],
   "source": [
    "new_model = Model()\n",
    "if use_gpu:\n",
    "    new_model.cuda()\n",
    "\n",
    "loss_train = evaluate_loss(trainer.model, criterion, train_loader)\n",
    "loss_val =   evaluate_loss(trainer.model, criterion, val_loader)"
   ]
  },
  {
   "cell_type": "code",
   "execution_count": 28,
   "metadata": {},
   "outputs": [
    {
     "name": "stdout",
     "output_type": "stream",
     "text": [
      "0.04731 0.04657\n"
     ]
    }
   ],
   "source": [
    "lt = loss_train.cpu()\n",
    "lv = loss_val.cpu()\n",
    "print('{:.5f} {:.5f}'.format(lt.data.numpy()[0], lv.data.numpy()[0]) )"
   ]
  },
  {
   "cell_type": "markdown",
   "metadata": {},
   "source": [
    "## Aprendizados"
   ]
  },
  {
   "cell_type": "code",
   "execution_count": null,
   "metadata": {},
   "outputs": [],
   "source": []
  }
 ],
 "metadata": {
  "kernelspec": {
   "display_name": "Python 3",
   "language": "python",
   "name": "python3"
  },
  "language_info": {
   "codemirror_mode": {
    "name": "ipython",
    "version": 3
   },
   "file_extension": ".py",
   "mimetype": "text/x-python",
   "name": "python",
   "nbconvert_exporter": "python",
   "pygments_lexer": "ipython3",
   "version": "3.6.1"
  },
  "toc": {
   "nav_menu": {
    "height": "30px",
    "width": "252px"
   },
   "number_sections": true,
   "sideBar": true,
   "skip_h1_title": false,
   "toc_cell": false,
   "toc_position": {},
   "toc_section_display": "block",
   "toc_window_display": false
  },
  "varInspector": {
   "cols": {
    "lenName": 16,
    "lenType": 16,
    "lenVar": 40
   },
   "kernels_config": {
    "python": {
     "delete_cmd_postfix": "",
     "delete_cmd_prefix": "del ",
     "library": "var_list.py",
     "varRefreshCmd": "print(var_dic_list())"
    },
    "r": {
     "delete_cmd_postfix": ") ",
     "delete_cmd_prefix": "rm(",
     "library": "var_list.r",
     "varRefreshCmd": "cat(var_dic_list()) "
    }
   },
   "types_to_exclude": [
    "module",
    "function",
    "builtin_function_or_method",
    "instance",
    "_Feature"
   ],
   "window_display": false
  }
 },
 "nbformat": 4,
 "nbformat_minor": 2
}
