{
 "cells": [
  {
   "cell_type": "markdown",
   "metadata": {},
   "source": [
    "# Detecção de fraude - cartão de crédito - Kaggle"
   ]
  },
  {
   "cell_type": "markdown",
   "metadata": {},
   "source": [
    "## Introdução"
   ]
  },
  {
   "cell_type": "markdown",
   "metadata": {},
   "source": [
    "Este notebook utiliza base de dados do Kaggle:\n",
    "- https://www.kaggle.com/dalpozz/creditcardfraud\n",
    "\n",
    "A base de dados contém mais de 284 mil transações de cartão de crédito contendo hora, valor e\n",
    "28 atributos normalizados obtidos através de transformação PCA de redução de dimensionalidade.\n",
    "Assim, ao todo são 30 atributos. O alvo do problema é prever se a transação é fraudulenta ou\n",
    "genuína.\n",
    "Uma característica fundamental deste dataset e que é comum em sistemas de fraudes é a diferença\n",
    "entre respostas positivas: 284315 versus respostas negativas fraudulentas: 492. As fraudes \n",
    "representam apenas 0,17% das transações.\n",
    "Este problema pode ser visto como sendo um problema de detecção de anomalia, entretanto iremos\n",
    "tratá-la como um problema de classificação em duas classes utilizando redes neurais com\n",
    "várias técnicas de regularização."
   ]
  },
  {
   "cell_type": "markdown",
   "metadata": {},
   "source": [
    "## Importação"
   ]
  },
  {
   "cell_type": "code",
   "execution_count": 1,
   "metadata": {
    "ExecuteTime": {
     "end_time": "2017-10-19T16:38:01.681223",
     "start_time": "2017-10-19T16:37:59.970232"
    }
   },
   "outputs": [
    {
     "name": "stdout",
     "output_type": "stream",
     "text": [
      "GPU available: False\n"
     ]
    }
   ],
   "source": [
    "%matplotlib inline\n",
    "import matplotlib.pyplot as plt\n",
    "from IPython import display\n",
    "import os,sys\n",
    "import time\n",
    "import numpy as np\n",
    "import pandas as pd\n",
    "import seaborn as sns\n",
    "\n",
    "import torch\n",
    "import torch.nn as nn\n",
    "import torch.nn.functional as F\n",
    "from torch.optim.lr_scheduler import MultiStepLR, StepLR\n",
    "from torch.utils.data import DataLoader, TensorDataset\n",
    "from torch.autograd import Variable\n",
    "\n",
    "#from torchvision import datasets, transforms, models\n",
    "\n",
    "import sklearn.metrics\n",
    "\n",
    "import lib.pytorch_trainer as ptt\n",
    "\n",
    "use_gpu = torch.cuda.is_available()\n",
    "print('GPU available:', use_gpu)"
   ]
  },
  {
   "cell_type": "markdown",
   "metadata": {},
   "source": [
    "## Leitura dos dados"
   ]
  },
  {
   "cell_type": "code",
   "execution_count": 2,
   "metadata": {
    "ExecuteTime": {
     "end_time": "2017-10-19T16:38:06.535599",
     "start_time": "2017-10-19T16:38:02.796868"
    }
   },
   "outputs": [
    {
     "name": "stdout",
     "output_type": "stream",
     "text": [
      "dataframe.shape: (284807, 31)\n"
     ]
    },
    {
     "data": {
      "text/html": [
       "<div>\n",
       "<style>\n",
       "    .dataframe thead tr:only-child th {\n",
       "        text-align: right;\n",
       "    }\n",
       "\n",
       "    .dataframe thead th {\n",
       "        text-align: left;\n",
       "    }\n",
       "\n",
       "    .dataframe tbody tr th {\n",
       "        vertical-align: top;\n",
       "    }\n",
       "</style>\n",
       "<table border=\"1\" class=\"dataframe\">\n",
       "  <thead>\n",
       "    <tr style=\"text-align: right;\">\n",
       "      <th></th>\n",
       "      <th>Time</th>\n",
       "      <th>V1</th>\n",
       "      <th>V2</th>\n",
       "      <th>V3</th>\n",
       "      <th>V4</th>\n",
       "      <th>V5</th>\n",
       "      <th>V6</th>\n",
       "      <th>V7</th>\n",
       "      <th>V8</th>\n",
       "      <th>V9</th>\n",
       "      <th>...</th>\n",
       "      <th>V21</th>\n",
       "      <th>V22</th>\n",
       "      <th>V23</th>\n",
       "      <th>V24</th>\n",
       "      <th>V25</th>\n",
       "      <th>V26</th>\n",
       "      <th>V27</th>\n",
       "      <th>V28</th>\n",
       "      <th>Amount</th>\n",
       "      <th>Class</th>\n",
       "    </tr>\n",
       "  </thead>\n",
       "  <tbody>\n",
       "    <tr>\n",
       "      <th>0</th>\n",
       "      <td>0.0</td>\n",
       "      <td>-1.359807</td>\n",
       "      <td>-0.072781</td>\n",
       "      <td>2.536347</td>\n",
       "      <td>1.378155</td>\n",
       "      <td>-0.338321</td>\n",
       "      <td>0.462388</td>\n",
       "      <td>0.239599</td>\n",
       "      <td>0.098698</td>\n",
       "      <td>0.363787</td>\n",
       "      <td>...</td>\n",
       "      <td>-0.018307</td>\n",
       "      <td>0.277838</td>\n",
       "      <td>-0.110474</td>\n",
       "      <td>0.066928</td>\n",
       "      <td>0.128539</td>\n",
       "      <td>-0.189115</td>\n",
       "      <td>0.133558</td>\n",
       "      <td>-0.021053</td>\n",
       "      <td>149.62</td>\n",
       "      <td>0</td>\n",
       "    </tr>\n",
       "    <tr>\n",
       "      <th>1</th>\n",
       "      <td>0.0</td>\n",
       "      <td>1.191857</td>\n",
       "      <td>0.266151</td>\n",
       "      <td>0.166480</td>\n",
       "      <td>0.448154</td>\n",
       "      <td>0.060018</td>\n",
       "      <td>-0.082361</td>\n",
       "      <td>-0.078803</td>\n",
       "      <td>0.085102</td>\n",
       "      <td>-0.255425</td>\n",
       "      <td>...</td>\n",
       "      <td>-0.225775</td>\n",
       "      <td>-0.638672</td>\n",
       "      <td>0.101288</td>\n",
       "      <td>-0.339846</td>\n",
       "      <td>0.167170</td>\n",
       "      <td>0.125895</td>\n",
       "      <td>-0.008983</td>\n",
       "      <td>0.014724</td>\n",
       "      <td>2.69</td>\n",
       "      <td>0</td>\n",
       "    </tr>\n",
       "    <tr>\n",
       "      <th>2</th>\n",
       "      <td>1.0</td>\n",
       "      <td>-1.358354</td>\n",
       "      <td>-1.340163</td>\n",
       "      <td>1.773209</td>\n",
       "      <td>0.379780</td>\n",
       "      <td>-0.503198</td>\n",
       "      <td>1.800499</td>\n",
       "      <td>0.791461</td>\n",
       "      <td>0.247676</td>\n",
       "      <td>-1.514654</td>\n",
       "      <td>...</td>\n",
       "      <td>0.247998</td>\n",
       "      <td>0.771679</td>\n",
       "      <td>0.909412</td>\n",
       "      <td>-0.689281</td>\n",
       "      <td>-0.327642</td>\n",
       "      <td>-0.139097</td>\n",
       "      <td>-0.055353</td>\n",
       "      <td>-0.059752</td>\n",
       "      <td>378.66</td>\n",
       "      <td>0</td>\n",
       "    </tr>\n",
       "    <tr>\n",
       "      <th>3</th>\n",
       "      <td>1.0</td>\n",
       "      <td>-0.966272</td>\n",
       "      <td>-0.185226</td>\n",
       "      <td>1.792993</td>\n",
       "      <td>-0.863291</td>\n",
       "      <td>-0.010309</td>\n",
       "      <td>1.247203</td>\n",
       "      <td>0.237609</td>\n",
       "      <td>0.377436</td>\n",
       "      <td>-1.387024</td>\n",
       "      <td>...</td>\n",
       "      <td>-0.108300</td>\n",
       "      <td>0.005274</td>\n",
       "      <td>-0.190321</td>\n",
       "      <td>-1.175575</td>\n",
       "      <td>0.647376</td>\n",
       "      <td>-0.221929</td>\n",
       "      <td>0.062723</td>\n",
       "      <td>0.061458</td>\n",
       "      <td>123.50</td>\n",
       "      <td>0</td>\n",
       "    </tr>\n",
       "    <tr>\n",
       "      <th>4</th>\n",
       "      <td>2.0</td>\n",
       "      <td>-1.158233</td>\n",
       "      <td>0.877737</td>\n",
       "      <td>1.548718</td>\n",
       "      <td>0.403034</td>\n",
       "      <td>-0.407193</td>\n",
       "      <td>0.095921</td>\n",
       "      <td>0.592941</td>\n",
       "      <td>-0.270533</td>\n",
       "      <td>0.817739</td>\n",
       "      <td>...</td>\n",
       "      <td>-0.009431</td>\n",
       "      <td>0.798278</td>\n",
       "      <td>-0.137458</td>\n",
       "      <td>0.141267</td>\n",
       "      <td>-0.206010</td>\n",
       "      <td>0.502292</td>\n",
       "      <td>0.219422</td>\n",
       "      <td>0.215153</td>\n",
       "      <td>69.99</td>\n",
       "      <td>0</td>\n",
       "    </tr>\n",
       "  </tbody>\n",
       "</table>\n",
       "<p>5 rows × 31 columns</p>\n",
       "</div>"
      ],
      "text/plain": [
       "   Time        V1        V2        V3        V4        V5        V6        V7  \\\n",
       "0   0.0 -1.359807 -0.072781  2.536347  1.378155 -0.338321  0.462388  0.239599   \n",
       "1   0.0  1.191857  0.266151  0.166480  0.448154  0.060018 -0.082361 -0.078803   \n",
       "2   1.0 -1.358354 -1.340163  1.773209  0.379780 -0.503198  1.800499  0.791461   \n",
       "3   1.0 -0.966272 -0.185226  1.792993 -0.863291 -0.010309  1.247203  0.237609   \n",
       "4   2.0 -1.158233  0.877737  1.548718  0.403034 -0.407193  0.095921  0.592941   \n",
       "\n",
       "         V8        V9  ...         V21       V22       V23       V24  \\\n",
       "0  0.098698  0.363787  ...   -0.018307  0.277838 -0.110474  0.066928   \n",
       "1  0.085102 -0.255425  ...   -0.225775 -0.638672  0.101288 -0.339846   \n",
       "2  0.247676 -1.514654  ...    0.247998  0.771679  0.909412 -0.689281   \n",
       "3  0.377436 -1.387024  ...   -0.108300  0.005274 -0.190321 -1.175575   \n",
       "4 -0.270533  0.817739  ...   -0.009431  0.798278 -0.137458  0.141267   \n",
       "\n",
       "        V25       V26       V27       V28  Amount  Class  \n",
       "0  0.128539 -0.189115  0.133558 -0.021053  149.62      0  \n",
       "1  0.167170  0.125895 -0.008983  0.014724    2.69      0  \n",
       "2 -0.327642 -0.139097 -0.055353 -0.059752  378.66      0  \n",
       "3  0.647376 -0.221929  0.062723  0.061458  123.50      0  \n",
       "4 -0.206010  0.502292  0.219422  0.215153   69.99      0  \n",
       "\n",
       "[5 rows x 31 columns]"
      ]
     },
     "execution_count": 2,
     "metadata": {},
     "output_type": "execute_result"
    }
   ],
   "source": [
    "dataframe = pd.read_csv('/data/datasets/creditcard.csv', header=0)\n",
    "print('dataframe.shape:',dataframe.shape)\n",
    "dataframe.head()"
   ]
  },
  {
   "cell_type": "markdown",
   "metadata": {},
   "source": [
    "### Número de amostras legítimas e fraudulentas"
   ]
  },
  {
   "cell_type": "code",
   "execution_count": 3,
   "metadata": {
    "ExecuteTime": {
     "end_time": "2017-10-19T16:38:07.942979",
     "start_time": "2017-10-19T16:38:07.935639"
    }
   },
   "outputs": [
    {
     "name": "stdout",
     "output_type": "stream",
     "text": [
      "n. de amostras: 284807\n",
      "transações legítimas: 284315\n",
      "transações fraudulentas: 492\n"
     ]
    }
   ],
   "source": [
    "target = np.asarray(dataframe['Class'])\n",
    "n_samples = target.shape[0]\n",
    "print('n. de amostras:', n_samples)\n",
    "print('transações legítimas:', (target==0).sum())\n",
    "print('transações fraudulentas:', (target==1).sum())"
   ]
  },
  {
   "cell_type": "markdown",
   "metadata": {
    "ExecuteTime": {
     "end_time": "2017-06-12T19:54:10.179519",
     "start_time": "2017-06-12T19:54:10.171635"
    }
   },
   "source": [
    "### Aplica mod no Timestamp para ser uma indicação da hora diária e normaliza dados "
   ]
  },
  {
   "cell_type": "code",
   "execution_count": 4,
   "metadata": {
    "ExecuteTime": {
     "end_time": "2017-10-19T16:38:09.179172",
     "start_time": "2017-10-19T16:38:09.049305"
    }
   },
   "outputs": [
    {
     "data": {
      "text/plain": [
       "(array([[ 0.        ,  0.93519234,  0.76649042,  0.8813649 ,  0.31302266,\n",
       "          0.76343873,  0.26766864,  0.26681518,  0.7864442 ,  0.47531173,\n",
       "          0.51060048,  0.25248432,  0.68090763,  0.3715906 ,  0.63559053,\n",
       "          0.4460837 ,  0.43439239,  0.73717255,  0.65506586,  0.59486323,\n",
       "          0.58294223,  0.56118439,  0.52299212,  0.66379298,  0.39125268,\n",
       "          0.58512179,  0.39455679,  0.41897614,  0.31269663,  0.00582379]]),\n",
       " (284807, 30))"
      ]
     },
     "execution_count": 4,
     "metadata": {},
     "output_type": "execute_result"
    }
   ],
   "source": [
    "df_cp = dataframe.copy()\n",
    "inputs = np.asarray(df_cp.values)[:,:-1]\n",
    "timestamp = inputs[:,0]\n",
    "timestamp = timestamp % (60* 60 * 24) # modulo número de segundos por dia\n",
    "inputs -= inputs.min(axis=0)\n",
    "inputs /= inputs.max(axis=0)\n",
    "inputs[:1],inputs.shape  # dados de uma amostra normalizada"
   ]
  },
  {
   "cell_type": "markdown",
   "metadata": {},
   "source": [
    "### Visualiza com boxplot"
   ]
  },
  {
   "cell_type": "code",
   "execution_count": 5,
   "metadata": {
    "ExecuteTime": {
     "end_time": "2017-10-19T16:38:12.680619",
     "start_time": "2017-10-19T16:38:10.185181"
    },
    "scrolled": true
   },
   "outputs": [
    {
     "data": {
      "image/png": "[encoded data removed]",
      "text/plain": [
       "<matplotlib.figure.Figure at 0x110ea0898>"
      ]
     },
     "metadata": {},
     "output_type": "display_data"
    }
   ],
   "source": [
    "sns.boxplot(data=inputs[:,:]);"
   ]
  },
  {
   "cell_type": "markdown",
   "metadata": {},
   "source": [
    "## Separação dados em treinamento e teste (20%)"
   ]
  },
  {
   "cell_type": "code",
   "execution_count": 6,
   "metadata": {
    "ExecuteTime": {
     "end_time": "2017-10-19T16:38:14.263713",
     "start_time": "2017-10-19T16:38:13.582553"
    },
    "collapsed": true
   },
   "outputs": [],
   "source": [
    "iv = int(0.2 * inputs.shape[0])\n",
    "xt_train = torch.FloatTensor(inputs[iv:])\n",
    "yt_train = torch.LongTensor( target[iv:])\n",
    "xt_valid = torch.FloatTensor(inputs[:iv])\n",
    "yt_valid = torch.LongTensor( target[:iv])\n"
   ]
  },
  {
   "cell_type": "code",
   "execution_count": 7,
   "metadata": {
    "ExecuteTime": {
     "end_time": "2017-10-19T16:38:14.268663",
     "start_time": "2017-10-19T16:38:14.265725"
    },
    "collapsed": true
   },
   "outputs": [],
   "source": [
    "FEATURE_NUM = 30\n",
    "CLASSES = 2"
   ]
  },
  {
   "cell_type": "markdown",
   "metadata": {},
   "source": [
    "## Definição da rede"
   ]
  },
  {
   "cell_type": "code",
   "execution_count": 8,
   "metadata": {
    "ExecuteTime": {
     "end_time": "2017-10-19T16:38:15.540345",
     "start_time": "2017-10-19T16:38:15.450932"
    }
   },
   "outputs": [
    {
     "data": {
      "text/plain": [
       "Model (\n",
       "  (ln1): Linear (30 -> 100)\n",
       "  (do1): AlphaDropout (p = 0.3)\n",
       "  (ln2): Linear (100 -> 100)\n",
       "  (do2): AlphaDropout (p = 0.3)\n",
       "  (ln2_1): Linear (100 -> 100)\n",
       "  (do2_1): AlphaDropout (p = 0.3)\n",
       "  (ln2_2): Linear (100 -> 100)\n",
       "  (do2_2): AlphaDropout (p = 0.3)\n",
       "  (ln3): Linear (100 -> 50)\n",
       "  (do3): AlphaDropout (p = 0.3)\n",
       "  (ln4): Linear (50 -> 2)\n",
       ")"
      ]
     },
     "execution_count": 8,
     "metadata": {},
     "output_type": "execute_result"
    }
   ],
   "source": [
    "class Model2(nn.Module):\n",
    "    def __init__(self):\n",
    "        super(Model, self).__init__()\n",
    "        self.bn1   = nn.BatchNorm1d(FEATURE_NUM)\n",
    "        self.ln1   = nn.Linear(FEATURE_NUM,100)\n",
    "        self.bn2   = nn.BatchNorm1d(100, momentum=0.01)\n",
    "        self.ln2   = nn.Linear(100,100)\n",
    "        self.ln3   = nn.Linear(100,50)\n",
    "        self.ln4   = nn.Linear(50,CLASSES)\n",
    "\n",
    "    def forward(self, x):\n",
    "        #x = self.bn1(x)         # (FEATURE_NUM,FEATURE_NUM)\n",
    "        \n",
    "        x = self.ln1(x)         # (FEATURE_NUM,100)\n",
    "        x = F.relu(x)\n",
    "        x = F.dropout(x,0.5)  \n",
    "        x = self.bn2(x)         # (100,100)\n",
    "        \n",
    "        x = self.ln2(x)         # (100,100)\n",
    "        x = F.relu(x)\n",
    "        x = F.dropout(x,0.5)\n",
    "        \n",
    "        x = self.ln3(x)         # (100,50)\n",
    "        x = F.relu(x)\n",
    "        x = F.dropout(x,0.5)\n",
    "        \n",
    "        x = self.ln4(x)         # (50,2)\n",
    "        return x\n",
    "\n",
    "class Model(nn.Module):\n",
    "    def __init__(self):\n",
    "        super(Model, self).__init__()\n",
    "        self.ln1   = nn.Linear(FEATURE_NUM,100)\n",
    "        self.do1   = nn.AlphaDropout(0.3)\n",
    "        self.ln2   = nn.Linear(100,100)\n",
    "        self.do2   = nn.AlphaDropout(0.3)\n",
    "        self.ln2_1   = nn.Linear(100,100)\n",
    "        self.do2_1   = nn.AlphaDropout(0.3)\n",
    "        self.ln2_2   = nn.Linear(100,100)\n",
    "        self.do2_2   = nn.AlphaDropout(0.3)\n",
    "        self.ln3   = nn.Linear(100,50)\n",
    "        self.do3   = nn.AlphaDropout(0.3)\n",
    "        self.ln4   = nn.Linear(50,CLASSES)\n",
    "\n",
    "    def forward(self, x):\n",
    "        \n",
    "        x = self.ln1(x)         # (FEATURE_NUM,100)\n",
    "        x = F.selu(x)\n",
    "        x = self.do1(x)  \n",
    "        \n",
    "        x = self.ln2(x)         # (100,100)\n",
    "        x = F.selu(x)\n",
    "        x = self.do2(x)\n",
    "        \n",
    "        x = self.ln2_1(x)         # (100,100)\n",
    "        x = F.selu(x)\n",
    "        x = self.do2_1(x)\n",
    " \n",
    "        x = self.ln2_2(x)         # (100,100)\n",
    "        x = F.selu(x)\n",
    "        x = self.do2_2(x)\n",
    " \n",
    "        x = self.ln3(x)         # (100,50)\n",
    "        x = F.selu(x)\n",
    "        x = self.do3(x)\n",
    "        \n",
    "        x = self.ln4(x)         # (50,2)\n",
    "        return x\n",
    "\n",
    "model = Model()\n",
    "if use_gpu:\n",
    "    model.cuda()\n",
    "model"
   ]
  },
  {
   "cell_type": "markdown",
   "metadata": {},
   "source": [
    "## Testando um predict"
   ]
  },
  {
   "cell_type": "code",
   "execution_count": 9,
   "metadata": {
    "ExecuteTime": {
     "end_time": "2017-10-19T16:38:16.753955",
     "start_time": "2017-10-19T16:38:16.743643"
    }
   },
   "outputs": [
    {
     "name": "stdout",
     "output_type": "stream",
     "text": [
      "Variable containing:\n",
      "-0.6445\n",
      " 0.1404\n",
      "[torch.FloatTensor of size 2]\n",
      "\n",
      "Variable containing:\n",
      " 0.3133\n",
      " 0.6867\n",
      "[torch.FloatTensor of size 2]\n",
      "\n"
     ]
    }
   ],
   "source": [
    "if use_gpu:\n",
    "    y = model(Variable(xt_train[0]).cuda())\n",
    "else:\n",
    "    y = model(Variable(xt_train[0]))\n",
    "print(y)\n",
    "print(F.softmax(y))"
   ]
  },
  {
   "cell_type": "markdown",
   "metadata": {},
   "source": [
    "## Treinamento"
   ]
  },
  {
   "cell_type": "code",
   "execution_count": 10,
   "metadata": {
    "ExecuteTime": {
     "end_time": "2017-10-19T16:38:18.661077",
     "start_time": "2017-10-19T16:38:18.656167"
    }
   },
   "outputs": [
    {
     "name": "stdout",
     "output_type": "stream",
     "text": [
      "\n",
      " 0.3000\n",
      " 0.7000\n",
      "[torch.FloatTensor of size 2]\n",
      "\n"
     ]
    }
   ],
   "source": [
    "w_class = torch.FloatTensor(np.array([0.3, 0.7]))\n",
    "if use_gpu:\n",
    "    w_class.cuda()\n",
    "print(w_class)"
   ]
  },
  {
   "cell_type": "code",
   "execution_count": 11,
   "metadata": {
    "ExecuteTime": {
     "end_time": "2017-10-19T16:38:19.484652",
     "start_time": "2017-10-19T16:38:19.478210"
    }
   },
   "outputs": [],
   "source": [
    "optimizer = torch.optim.Adam(model.parameters(), lr=5e-3)\n",
    "scheduler = StepLR(optimizer, step_size=5, gamma=0.75)\n",
    "criterion = nn.CrossEntropyLoss(weight=Variable(w_class))\n",
    "savebest  = ptt.ModelCheckpoint('../../models/creditcardfraud_pt',reset=True,verbose=1)\n",
    "trainer = ptt.DeepNetTrainer(\n",
    "        model =         model,\n",
    "        criterion =     criterion,\n",
    "        optimizer =     optimizer,\n",
    "        lr_scheduler =  scheduler,\n",
    "        callbacks =     [savebest, ptt.PrintCallback()],\n",
    "        )"
   ]
  },
  {
   "cell_type": "code",
   "execution_count": 12,
   "metadata": {
    "ExecuteTime": {
     "end_time": "2017-10-19T16:40:04.647120",
     "start_time": "2017-10-19T16:38:26.497917"
    },
    "scrolled": false
   },
   "outputs": [
    {
     "name": "stdout",
     "output_type": "stream",
     "text": [
      "Start training for 10 epochs\n",
      "  1:   9.7s   T: 0.03305   V: 0.06458 best\n",
      "  2:   9.8s   T: 0.02322   V: 0.06778 \n",
      "  3:   9.7s   T: 0.02310   V: 0.06208 best\n",
      "  4:   9.9s   T: 0.02313   V: 0.06007 best\n",
      "  5:   9.9s   T: 0.02307   V: 0.05566 best\n",
      "  6:   9.8s   T: 0.02301   V: 0.05879 \n",
      "  7:   9.8s   T: 0.02308   V: 0.06429 \n",
      "  8:   9.9s   T: 0.02314   V: 0.07363 \n",
      "  9:   9.9s   T: 0.02315   V: 0.06014 \n",
      " 10:   9.7s   T: 0.02306   V: 0.06183 \n",
      "Best model was saved at epoch 5 with loss 0.05566: ../../models/creditcardfraud_pt\n",
      "Stop training at epoch: 10/10\n"
     ]
    }
   ],
   "source": [
    "batch_size = 1000 # A escolha do batch_size é crítica pois se batch_size for pequeno, só treina com legítimos\n",
    "trainer.fit(10, xt_train, yt_train, valid_data=(xt_valid,yt_valid), batch_size=batch_size)\n"
   ]
  },
  {
   "cell_type": "markdown",
   "metadata": {},
   "source": [
    "## Avaliação"
   ]
  },
  {
   "cell_type": "markdown",
   "metadata": {},
   "source": [
    "\n",
    "<table border=\"1px\">\n",
    "<tr>\n",
    "    <th> </th> <th> </th> <th colspan=\"2\">Dataset</th>\n",
    "</tr><tr>\n",
    "    <th> </th> <th> </th>                                 <th>Legítima (0)</th> <th>Fraude (1)</th>\n",
    "</tr><tr>\n",
    "<th rowspan=\"4\">Detecção </th> <th rowspan=\"2\"> Negativo (0)  </th> <th>VN   </th> <th>FN</th>\n",
    "</tr><tr>\n",
    "                                                      <th>(legítima correta)</th> <th>(fraude não detectada)</th>\n",
    "</tr><tr>\n",
    "                               <th rowspan=\"2\"> Positivo (1)  </th> <th>FP   </th> <th>VP</th>\n",
    "</tr><tr>\n",
    "                                                          <th>(alarme falso)   </th> <th>(fraude detectada)</th>\n",
    "</tr>\n",
    "</table>"
   ]
  },
  {
   "cell_type": "markdown",
   "metadata": {},
   "source": [
    "- Amostras: $M = VP+VN+FP+FN$\n",
    "- Acurácia ou Exatidão: $ACC = \\frac{VP+VN}{M} $ Detecções corretas sobre o total\n",
    "- Precisão: $P  = \\frac{VP}{VP+FP}$ Taxa de fraudes detectadas são realmente fraudes (não quer perder vendas)\n",
    "- Sensibilidade:$S  = \\frac{VP}{VP+FN} $ Capacidade de detectar todas as fraudes (não quer perder dinheiro)"
   ]
  },
  {
   "cell_type": "code",
   "execution_count": 14,
   "metadata": {
    "ExecuteTime": {
     "end_time": "2017-10-19T16:45:42.838746",
     "start_time": "2017-10-19T16:45:19.423804"
    }
   },
   "outputs": [
    {
     "name": "stdout",
     "output_type": "stream",
     "text": [
      "predict: 22784/22784 ok\n"
     ]
    }
   ],
   "source": [
    "trainer.load_state('../../models/creditcardfraud_pt')\n",
    "y_pred = trainer.predict(xt_train)"
   ]
  },
  {
   "cell_type": "code",
   "execution_count": 15,
   "metadata": {
    "ExecuteTime": {
     "end_time": "2017-10-19T16:46:39.250620",
     "start_time": "2017-10-19T16:46:39.231149"
    }
   },
   "outputs": [
    {
     "data": {
      "text/plain": [
       "\n",
       " 3.4821 -5.1892\n",
       " 3.4822 -5.1893\n",
       " 3.4821 -5.1891\n",
       "       ⋮        \n",
       " 3.4821 -5.1890\n",
       " 3.4821 -5.1890\n",
       " 3.4821 -5.1892\n",
       "[torch.FloatTensor of size 227846x2]"
      ]
     },
     "execution_count": 15,
     "metadata": {},
     "output_type": "execute_result"
    }
   ],
   "source": [
    "y_pred"
   ]
  },
  {
   "cell_type": "code",
   "execution_count": 22,
   "metadata": {
    "ExecuteTime": {
     "end_time": "2017-10-19T16:26:38.825927",
     "start_time": "2017-10-19T16:26:38.777724"
    }
   },
   "outputs": [
    {
     "ename": "ValueError",
     "evalue": "object of too small depth for desired array",
     "output_type": "error",
     "traceback": [
      "\u001b[0;31m---------------------------------------------------------------------------\u001b[0m",
      "\u001b[0;31mValueError\u001b[0m                                Traceback (most recent call last)",
      "\u001b[0;32m<ipython-input-22-0b35370be4ca>\u001b[0m in \u001b[0;36m<module>\u001b[0;34m()\u001b[0m\n\u001b[1;32m      3\u001b[0m     \u001b[0;32mreturn\u001b[0m \u001b[0mconfmatrix_prec_recall\u001b[0m\u001b[0;34m(\u001b[0m\u001b[0mlabels\u001b[0m\u001b[0;34m,\u001b[0m \u001b[0mpreds\u001b[0m\u001b[0;34m)\u001b[0m\u001b[0;34m\u001b[0m\u001b[0m\n\u001b[1;32m      4\u001b[0m \u001b[0;34m\u001b[0m\u001b[0m\n\u001b[0;32m----> 5\u001b[0;31m \u001b[0mcompute_confmatrix_prec_recall_numpy\u001b[0m\u001b[0;34m(\u001b[0m\u001b[0my_pred\u001b[0m\u001b[0;34m,\u001b[0m \u001b[0myt_train\u001b[0m\u001b[0;34m)\u001b[0m\u001b[0;34m\u001b[0m\u001b[0m\n\u001b[0m",
      "\u001b[0;32m<ipython-input-22-0b35370be4ca>\u001b[0m in \u001b[0;36mcompute_confmatrix_prec_recall_numpy\u001b[0;34m(logits, labels)\u001b[0m\n\u001b[1;32m      1\u001b[0m \u001b[0;32mdef\u001b[0m \u001b[0mcompute_confmatrix_prec_recall_numpy\u001b[0m\u001b[0;34m(\u001b[0m\u001b[0mlogits\u001b[0m\u001b[0;34m,\u001b[0m \u001b[0mlabels\u001b[0m\u001b[0;34m)\u001b[0m\u001b[0;34m:\u001b[0m\u001b[0;34m\u001b[0m\u001b[0m\n\u001b[1;32m      2\u001b[0m     \u001b[0m_\u001b[0m\u001b[0;34m,\u001b[0m \u001b[0mpreds\u001b[0m \u001b[0;34m=\u001b[0m \u001b[0mtorch\u001b[0m\u001b[0;34m.\u001b[0m\u001b[0mmax\u001b[0m\u001b[0;34m(\u001b[0m\u001b[0mlogits\u001b[0m\u001b[0;34m,\u001b[0m \u001b[0;36m1\u001b[0m\u001b[0;34m)\u001b[0m\u001b[0;34m\u001b[0m\u001b[0m\n\u001b[0;32m----> 3\u001b[0;31m     \u001b[0;32mreturn\u001b[0m \u001b[0mconfmatrix_prec_recall\u001b[0m\u001b[0;34m(\u001b[0m\u001b[0mlabels\u001b[0m\u001b[0;34m,\u001b[0m \u001b[0mpreds\u001b[0m\u001b[0;34m)\u001b[0m\u001b[0;34m\u001b[0m\u001b[0m\n\u001b[0m\u001b[1;32m      4\u001b[0m \u001b[0;34m\u001b[0m\u001b[0m\n\u001b[1;32m      5\u001b[0m \u001b[0mcompute_confmatrix_prec_recall_numpy\u001b[0m\u001b[0;34m(\u001b[0m\u001b[0my_pred\u001b[0m\u001b[0;34m,\u001b[0m \u001b[0myt_train\u001b[0m\u001b[0;34m)\u001b[0m\u001b[0;34m\u001b[0m\u001b[0m\n",
      "\u001b[0;32m<ipython-input-21-cf4b5edce7d3>\u001b[0m in \u001b[0;36mconfmatrix_prec_recall\u001b[0;34m(y, y_pred)\u001b[0m\n\u001b[1;32m      4\u001b[0m     \u001b[0;32massert\u001b[0m \u001b[0mn\u001b[0m \u001b[0;34m==\u001b[0m \u001b[0mlen\u001b[0m\u001b[0;34m(\u001b[0m\u001b[0my_pred\u001b[0m\u001b[0;34m)\u001b[0m\u001b[0;34m\u001b[0m\u001b[0m\n\u001b[1;32m      5\u001b[0m     \u001b[0mxy\u001b[0m \u001b[0;34m=\u001b[0m \u001b[0my_pred\u001b[0m \u001b[0;34m+\u001b[0m \u001b[0;36m2\u001b[0m\u001b[0;34m*\u001b[0m \u001b[0my\u001b[0m\u001b[0;34m\u001b[0m\u001b[0m\n\u001b[0;32m----> 6\u001b[0;31m     \u001b[0mcm\u001b[0m \u001b[0;34m=\u001b[0m \u001b[0mnp\u001b[0m\u001b[0;34m.\u001b[0m\u001b[0mbincount\u001b[0m\u001b[0;34m(\u001b[0m\u001b[0mxy\u001b[0m\u001b[0;34m,\u001b[0m\u001b[0mminlength\u001b[0m\u001b[0;34m=\u001b[0m\u001b[0;36m4\u001b[0m\u001b[0;34m)\u001b[0m\u001b[0;34m\u001b[0m\u001b[0m\n\u001b[0m\u001b[1;32m      7\u001b[0m     \u001b[0mprecision\u001b[0m \u001b[0;34m=\u001b[0m \u001b[0mcm\u001b[0m\u001b[0;34m[\u001b[0m\u001b[0;36m3\u001b[0m\u001b[0;34m]\u001b[0m\u001b[0;34m/\u001b[0m\u001b[0;34m(\u001b[0m\u001b[0mcm\u001b[0m\u001b[0;34m[\u001b[0m\u001b[0;36m3\u001b[0m\u001b[0;34m]\u001b[0m\u001b[0;34m+\u001b[0m\u001b[0mcm\u001b[0m\u001b[0;34m[\u001b[0m\u001b[0;36m1\u001b[0m\u001b[0;34m]\u001b[0m\u001b[0;34m+\u001b[0m\u001b[0msys\u001b[0m\u001b[0;34m.\u001b[0m\u001b[0mfloat_info\u001b[0m\u001b[0;34m.\u001b[0m\u001b[0mepsilon\u001b[0m\u001b[0;34m)\u001b[0m\u001b[0;34m\u001b[0m\u001b[0m\n\u001b[1;32m      8\u001b[0m     \u001b[0mrecall\u001b[0m \u001b[0;34m=\u001b[0m \u001b[0mcm\u001b[0m\u001b[0;34m[\u001b[0m\u001b[0;36m3\u001b[0m\u001b[0;34m]\u001b[0m\u001b[0;34m/\u001b[0m\u001b[0;34m(\u001b[0m\u001b[0mcm\u001b[0m\u001b[0;34m[\u001b[0m\u001b[0;36m3\u001b[0m\u001b[0;34m]\u001b[0m\u001b[0;34m+\u001b[0m\u001b[0mcm\u001b[0m\u001b[0;34m[\u001b[0m\u001b[0;36m2\u001b[0m\u001b[0;34m]\u001b[0m\u001b[0;34m+\u001b[0m\u001b[0msys\u001b[0m\u001b[0;34m.\u001b[0m\u001b[0mfloat_info\u001b[0m\u001b[0;34m.\u001b[0m\u001b[0mepsilon\u001b[0m\u001b[0;34m)\u001b[0m\u001b[0;34m\u001b[0m\u001b[0m\n",
      "\u001b[0;31mValueError\u001b[0m: object of too small depth for desired array"
     ]
    }
   ],
   "source": [
    "def compute_confmatrix_prec_recall_numpy(logits, labels):\n",
    "    _, preds = torch.max(logits, 1)\n",
    "    return confmatrix_prec_recall(labels, preds)\n",
    "\n",
    "compute_confmatrix_prec_recall_numpy(y_pred, yt_train)\n"
   ]
  },
  {
   "cell_type": "code",
   "execution_count": null,
   "metadata": {
    "collapsed": true
   },
   "outputs": [],
   "source": [
    "metrics = trainer.evaluate(xt_train,yt_train)"
   ]
  },
  {
   "cell_type": "code",
   "execution_count": 21,
   "metadata": {
    "ExecuteTime": {
     "end_time": "2017-10-19T16:26:34.777285",
     "start_time": "2017-10-19T16:26:34.761436"
    },
    "collapsed": true
   },
   "outputs": [],
   "source": [
    "def confmatrix_prec_recall(y,y_pred):\n",
    "    ''' Compute Confusion Matrix, Precision and Recall'''\n",
    "    n = len(y)\n",
    "    assert n == len(y_pred)\n",
    "    xy = y_pred + 2* y\n",
    "    cm = np.bincount(xy,minlength=4)\n",
    "    precision = cm[3]/(cm[3]+cm[1]+sys.float_info.epsilon)\n",
    "    recall = cm[3]/(cm[3]+cm[2]+sys.float_info.epsilon)\n",
    "    return cm.reshape(2,2), precision, recall\n",
    "\n",
    "def compute_accuracy(logits, labels):\n",
    "    _, preds = torch.max(logits.data, 1)\n",
    "    return (preds == labels.data).type(torch.FloatTensor).mean()\n",
    "\n",
    "def compute_confmatrix_prec_recall(logits, labels):\n",
    "    _, preds = torch.max(logits.data, 1)\n",
    "    preds = preds.cpu()\n",
    "    labels = labels.cpu()\n",
    "    return confmatrix_prec_recall(labels.data.numpy(), preds.numpy())\n",
    "\n",
    "def compute_precision(logits, labels):\n",
    "    _, p, r = compute_confmatrix_prec_recall(logits, labels)\n",
    "    return p\n"
   ]
  },
  {
   "cell_type": "code",
   "execution_count": 24,
   "metadata": {
    "ExecuteTime": {
     "end_time": "2017-10-19T16:28:08.691487",
     "start_time": "2017-10-19T16:28:08.687483"
    }
   },
   "outputs": [
    {
     "data": {
      "text/plain": [
       "{'loss': 1.50903603600386e-07}"
      ]
     },
     "execution_count": 24,
     "metadata": {},
     "output_type": "execute_result"
    }
   ],
   "source": [
    "metrics"
   ]
  },
  {
   "cell_type": "code",
   "execution_count": 113,
   "metadata": {},
   "outputs": [
    {
     "name": "stdout",
     "output_type": "stream",
     "text": [
      "predict: 227/227 ok\n",
      "[[227387     75]\n",
      " [    72    311]]\n"
     ]
    }
   ],
   "source": [
    "cm = trainer.evaluate_confusion_matrix(train_loader)\n",
    "print(cm)"
   ]
  },
  {
   "cell_type": "code",
   "execution_count": 114,
   "metadata": {},
   "outputs": [
    {
     "name": "stdout",
     "output_type": "stream",
     "text": [
      "\r",
      "predict: 0/56\r",
      "predict: 1/56\r",
      "predict: 2/56\r",
      "predict: 3/56\r",
      "predict: 4/56\r",
      "predict: 5/56\r",
      "predict: 6/56\r",
      "predict: 7/56\r",
      "predict: 8/56\r",
      "predict: 9/56\r",
      "predict: 10/56\r",
      "predict: 11/56\r",
      "predict: 12/56\r",
      "predict: 13/56\r",
      "predict: 14/56\r",
      "predict: 15/56\r",
      "predict: 16/56\r",
      "predict: 17/56\r",
      "predict: 18/56\r",
      "predict: 19/56\r",
      "predict: 20/56\r",
      "predict: 21/56\r",
      "predict: 22/56\r",
      "predict: 23/56\r",
      "predict: 24/56\r",
      "predict: 25/56\r",
      "predict: 26/56\r",
      "predict: 27/56\r",
      "predict: 28/56\r",
      "predict: 29/56\r",
      "predict: 30/56\r",
      "predict: 31/56\r",
      "predict: 32/56\r",
      "predict: 33/56\r",
      "predict: 34/56\r",
      "predict: 35/56\r",
      "predict: 36/56\r",
      "predict: 37/56\r",
      "predict: 38/56\r",
      "predict: 39/56\r",
      "predict: 40/56\r",
      "predict: 41/56\r",
      "predict: 42/56\r",
      "predict: 43/56\r",
      "predict: 44/56\r",
      "predict: 45/56\r",
      "predict: 46/56\r",
      "predict: 47/56\r",
      "predict: 48/56\r",
      "predict: 49/56\r",
      "predict: 50/56\r",
      "predict: 51/56\r",
      "predict: 52/56\r",
      "predict: 53/56\r",
      "predict: 54/56\r",
      "predict: 55/56\r",
      "predict: 56/56 ok\n",
      "[[56825    28]\n",
      " [   21    88]]\n"
     ]
    }
   ],
   "source": [
    "cm = trainer.evaluate_confusion_matrix(val_loader)\n",
    "print(cm)"
   ]
  },
  {
   "cell_type": "code",
   "execution_count": 21,
   "metadata": {
    "collapsed": true
   },
   "outputs": [],
   "source": [
    "def evaluate_loss(model, criterion, dataloader):\n",
    "    loss = 0\n",
    "    n = 0\n",
    "    model.train(False)\n",
    "\n",
    "    for k,(x,y) in enumerate(dataloader):\n",
    "        if use_gpu:\n",
    "            x, y = Variable(x.cuda()), Variable(y.cuda())\n",
    "        else:\n",
    "            x, y = Variable(x), Variable(y)\n",
    "\n",
    "        y_pred = model(x)\n",
    "        nn = y_pred.size(0)\n",
    "        mb_loss = criterion(y_pred, y)\n",
    "                                \n",
    "        loss += mb_loss * nn\n",
    "        n += nn\n",
    "    loss /= n\n",
    "    return loss"
   ]
  },
  {
   "cell_type": "code",
   "execution_count": 22,
   "metadata": {
    "collapsed": true,
    "scrolled": true
   },
   "outputs": [],
   "source": [
    "new_model = Model()\n",
    "if use_gpu:\n",
    "    new_model.cuda()\n",
    "\n",
    "loss_train = evaluate_loss(trainer.model, criterion, train_loader)\n",
    "loss_val =   evaluate_loss(trainer.model, criterion, val_loader)"
   ]
  },
  {
   "cell_type": "code",
   "execution_count": 23,
   "metadata": {},
   "outputs": [
    {
     "name": "stdout",
     "output_type": "stream",
     "text": [
      "0.02523 0.03141\n"
     ]
    }
   ],
   "source": [
    "lt = loss_train.cpu()\n",
    "lv = loss_val.cpu()\n",
    "print('{:.5f} {:.5f}'.format(lt.data.numpy()[0], lv.data.numpy()[0]) )"
   ]
  },
  {
   "cell_type": "markdown",
   "metadata": {},
   "source": [
    "## Aprendizados"
   ]
  },
  {
   "cell_type": "code",
   "execution_count": null,
   "metadata": {
    "collapsed": true
   },
   "outputs": [],
   "source": []
  }
 ],
 "metadata": {
  "kernelspec": {
   "display_name": "Python 3",
   "language": "python",
   "name": "python3"
  },
  "language_info": {
   "codemirror_mode": {
    "name": "ipython",
    "version": 3
   },
   "file_extension": ".py",
   "mimetype": "text/x-python",
   "name": "python",
   "nbconvert_exporter": "python",
   "pygments_lexer": "ipython3",
   "version": "3.6.0"
  },
  "toc": {
   "colors": {
    "hover_highlight": "#DAA520",
    "running_highlight": "#FF0000",
    "selected_highlight": "#FFD700"
   },
   "moveMenuLeft": true,
   "nav_menu": {
    "height": "30px",
    "width": "252px"
   },
   "navigate_menu": true,
   "number_sections": true,
   "sideBar": true,
   "skip_h1_title": false,
   "threshold": 4,
   "toc_cell": false,
   "toc_position": {},
   "toc_section_display": "block",
   "toc_window_display": false
  },
  "varInspector": {
   "cols": {
    "lenName": 16,
    "lenType": 16,
    "lenVar": 40
   },
   "kernels_config": {
    "python": {
     "delete_cmd_postfix": "",
     "delete_cmd_prefix": "del ",
     "library": "var_list.py",
     "varRefreshCmd": "print(var_dic_list())"
    },
    "r": {
     "delete_cmd_postfix": ") ",
     "delete_cmd_prefix": "rm(",
     "library": "var_list.r",
     "varRefreshCmd": "cat(var_dic_list()) "
    }
   },
   "types_to_exclude": [
    "module",
    "function",
    "builtin_function_or_method",
    "instance",
    "_Feature"
   ],
   "window_display": false
  }
 },
 "nbformat": 4,
 "nbformat_minor": 2
}
