{
 "cells": [
  {
   "cell_type": "markdown",
   "metadata": {},
   "source": [
    "# Detecção de fraude - cartão de crédito - Kaggle"
   ]
  },
  {
   "cell_type": "markdown",
   "metadata": {},
   "source": [
    "## Introdução"
   ]
  },
  {
   "cell_type": "markdown",
   "metadata": {},
   "source": [
    "Este notebook utiliza base de dados do Kaggle:\n",
    "- https://www.kaggle.com/dalpozz/creditcardfraud\n",
    "\n",
    "A base de dados contém mais de 284 mil transações de cartão de crédito contendo hora, valor e\n",
    "28 atributos normalizados obtidos através de transformação PCA de redução de dimensionalidade.\n",
    "Assim, ao todo são 30 atributos. O alvo do problema é prever se a transação é fraudulenta ou\n",
    "genuína.\n",
    "Uma característica fundamental deste dataset e que é comum em sistemas de fraudes é a diferença\n",
    "entre respostas positivas: 284315 versus respostas negativas fraudulentas: 492. As fraudes \n",
    "representam apenas 0,17% das transações.\n",
    "Este problema pode ser visto como sendo um problema de detecção de anomalia, entretanto iremos\n",
    "tratá-la como um problema de classificação em duas classes utilizando redes neurais com\n",
    "várias técnicas de regularização."
   ]
  },
  {
   "cell_type": "markdown",
   "metadata": {},
   "source": [
    "## Importação"
   ]
  },
  {
   "cell_type": "code",
   "execution_count": 1,
   "metadata": {
    "ExecuteTime": {
     "end_time": "2018-01-08T22:15:45.264497Z",
     "start_time": "2018-01-08T22:15:41.921875Z"
    }
   },
   "outputs": [
    {
     "name": "stdout",
     "output_type": "stream",
     "text": [
      "GPU available: False\n"
     ]
    }
   ],
   "source": [
    "%matplotlib inline\n",
    "import matplotlib.pyplot as plt\n",
    "from IPython import display\n",
    "import os,sys\n",
    "import time\n",
    "import numpy as np\n",
    "import pandas as pd\n",
    "import seaborn as sns\n",
    "\n",
    "import torch\n",
    "import torch.nn as nn\n",
    "import torch.nn.functional as F\n",
    "from torch.optim.lr_scheduler import MultiStepLR, StepLR\n",
    "from torch.utils.data import DataLoader, TensorDataset\n",
    "from torch.autograd import Variable\n",
    "\n",
    "#from torchvision import datasets, transforms, models\n",
    "\n",
    "import sklearn.metrics\n",
    "\n",
    "import lib.pytorch_trainer as ptt\n",
    "\n",
    "use_gpu = torch.cuda.is_available()\n",
    "print('GPU available:', use_gpu)"
   ]
  },
  {
   "cell_type": "markdown",
   "metadata": {},
   "source": [
    "## Leitura dos dados"
   ]
  },
  {
   "cell_type": "code",
   "execution_count": 2,
   "metadata": {
    "ExecuteTime": {
     "end_time": "2018-01-08T22:15:54.280771Z",
     "start_time": "2018-01-08T22:15:50.146480Z"
    }
   },
   "outputs": [
    {
     "name": "stdout",
     "output_type": "stream",
     "text": [
      "dataframe.shape: (284807, 31)\n"
     ]
    },
    {
     "data": {
      "text/html": [
       "<div>\n",
       "<style>\n",
       "    .dataframe thead tr:only-child th {\n",
       "        text-align: right;\n",
       "    }\n",
       "\n",
       "    .dataframe thead th {\n",
       "        text-align: left;\n",
       "    }\n",
       "\n",
       "    .dataframe tbody tr th {\n",
       "        vertical-align: top;\n",
       "    }\n",
       "</style>\n",
       "<table border=\"1\" class=\"dataframe\">\n",
       "  <thead>\n",
       "    <tr style=\"text-align: right;\">\n",
       "      <th></th>\n",
       "      <th>Time</th>\n",
       "      <th>V1</th>\n",
       "      <th>V2</th>\n",
       "      <th>V3</th>\n",
       "      <th>V4</th>\n",
       "      <th>V5</th>\n",
       "      <th>V6</th>\n",
       "      <th>V7</th>\n",
       "      <th>V8</th>\n",
       "      <th>V9</th>\n",
       "      <th>...</th>\n",
       "      <th>V21</th>\n",
       "      <th>V22</th>\n",
       "      <th>V23</th>\n",
       "      <th>V24</th>\n",
       "      <th>V25</th>\n",
       "      <th>V26</th>\n",
       "      <th>V27</th>\n",
       "      <th>V28</th>\n",
       "      <th>Amount</th>\n",
       "      <th>Class</th>\n",
       "    </tr>\n",
       "  </thead>\n",
       "  <tbody>\n",
       "    <tr>\n",
       "      <th>0</th>\n",
       "      <td>0.0</td>\n",
       "      <td>-1.359807</td>\n",
       "      <td>-0.072781</td>\n",
       "      <td>2.536347</td>\n",
       "      <td>1.378155</td>\n",
       "      <td>-0.338321</td>\n",
       "      <td>0.462388</td>\n",
       "      <td>0.239599</td>\n",
       "      <td>0.098698</td>\n",
       "      <td>0.363787</td>\n",
       "      <td>...</td>\n",
       "      <td>-0.018307</td>\n",
       "      <td>0.277838</td>\n",
       "      <td>-0.110474</td>\n",
       "      <td>0.066928</td>\n",
       "      <td>0.128539</td>\n",
       "      <td>-0.189115</td>\n",
       "      <td>0.133558</td>\n",
       "      <td>-0.021053</td>\n",
       "      <td>149.62</td>\n",
       "      <td>0</td>\n",
       "    </tr>\n",
       "    <tr>\n",
       "      <th>1</th>\n",
       "      <td>0.0</td>\n",
       "      <td>1.191857</td>\n",
       "      <td>0.266151</td>\n",
       "      <td>0.166480</td>\n",
       "      <td>0.448154</td>\n",
       "      <td>0.060018</td>\n",
       "      <td>-0.082361</td>\n",
       "      <td>-0.078803</td>\n",
       "      <td>0.085102</td>\n",
       "      <td>-0.255425</td>\n",
       "      <td>...</td>\n",
       "      <td>-0.225775</td>\n",
       "      <td>-0.638672</td>\n",
       "      <td>0.101288</td>\n",
       "      <td>-0.339846</td>\n",
       "      <td>0.167170</td>\n",
       "      <td>0.125895</td>\n",
       "      <td>-0.008983</td>\n",
       "      <td>0.014724</td>\n",
       "      <td>2.69</td>\n",
       "      <td>0</td>\n",
       "    </tr>\n",
       "    <tr>\n",
       "      <th>2</th>\n",
       "      <td>1.0</td>\n",
       "      <td>-1.358354</td>\n",
       "      <td>-1.340163</td>\n",
       "      <td>1.773209</td>\n",
       "      <td>0.379780</td>\n",
       "      <td>-0.503198</td>\n",
       "      <td>1.800499</td>\n",
       "      <td>0.791461</td>\n",
       "      <td>0.247676</td>\n",
       "      <td>-1.514654</td>\n",
       "      <td>...</td>\n",
       "      <td>0.247998</td>\n",
       "      <td>0.771679</td>\n",
       "      <td>0.909412</td>\n",
       "      <td>-0.689281</td>\n",
       "      <td>-0.327642</td>\n",
       "      <td>-0.139097</td>\n",
       "      <td>-0.055353</td>\n",
       "      <td>-0.059752</td>\n",
       "      <td>378.66</td>\n",
       "      <td>0</td>\n",
       "    </tr>\n",
       "    <tr>\n",
       "      <th>3</th>\n",
       "      <td>1.0</td>\n",
       "      <td>-0.966272</td>\n",
       "      <td>-0.185226</td>\n",
       "      <td>1.792993</td>\n",
       "      <td>-0.863291</td>\n",
       "      <td>-0.010309</td>\n",
       "      <td>1.247203</td>\n",
       "      <td>0.237609</td>\n",
       "      <td>0.377436</td>\n",
       "      <td>-1.387024</td>\n",
       "      <td>...</td>\n",
       "      <td>-0.108300</td>\n",
       "      <td>0.005274</td>\n",
       "      <td>-0.190321</td>\n",
       "      <td>-1.175575</td>\n",
       "      <td>0.647376</td>\n",
       "      <td>-0.221929</td>\n",
       "      <td>0.062723</td>\n",
       "      <td>0.061458</td>\n",
       "      <td>123.50</td>\n",
       "      <td>0</td>\n",
       "    </tr>\n",
       "    <tr>\n",
       "      <th>4</th>\n",
       "      <td>2.0</td>\n",
       "      <td>-1.158233</td>\n",
       "      <td>0.877737</td>\n",
       "      <td>1.548718</td>\n",
       "      <td>0.403034</td>\n",
       "      <td>-0.407193</td>\n",
       "      <td>0.095921</td>\n",
       "      <td>0.592941</td>\n",
       "      <td>-0.270533</td>\n",
       "      <td>0.817739</td>\n",
       "      <td>...</td>\n",
       "      <td>-0.009431</td>\n",
       "      <td>0.798278</td>\n",
       "      <td>-0.137458</td>\n",
       "      <td>0.141267</td>\n",
       "      <td>-0.206010</td>\n",
       "      <td>0.502292</td>\n",
       "      <td>0.219422</td>\n",
       "      <td>0.215153</td>\n",
       "      <td>69.99</td>\n",
       "      <td>0</td>\n",
       "    </tr>\n",
       "  </tbody>\n",
       "</table>\n",
       "<p>5 rows × 31 columns</p>\n",
       "</div>"
      ],
      "text/plain": [
       "   Time        V1        V2        V3        V4        V5        V6        V7  \\\n",
       "0   0.0 -1.359807 -0.072781  2.536347  1.378155 -0.338321  0.462388  0.239599   \n",
       "1   0.0  1.191857  0.266151  0.166480  0.448154  0.060018 -0.082361 -0.078803   \n",
       "2   1.0 -1.358354 -1.340163  1.773209  0.379780 -0.503198  1.800499  0.791461   \n",
       "3   1.0 -0.966272 -0.185226  1.792993 -0.863291 -0.010309  1.247203  0.237609   \n",
       "4   2.0 -1.158233  0.877737  1.548718  0.403034 -0.407193  0.095921  0.592941   \n",
       "\n",
       "         V8        V9  ...         V21       V22       V23       V24  \\\n",
       "0  0.098698  0.363787  ...   -0.018307  0.277838 -0.110474  0.066928   \n",
       "1  0.085102 -0.255425  ...   -0.225775 -0.638672  0.101288 -0.339846   \n",
       "2  0.247676 -1.514654  ...    0.247998  0.771679  0.909412 -0.689281   \n",
       "3  0.377436 -1.387024  ...   -0.108300  0.005274 -0.190321 -1.175575   \n",
       "4 -0.270533  0.817739  ...   -0.009431  0.798278 -0.137458  0.141267   \n",
       "\n",
       "        V25       V26       V27       V28  Amount  Class  \n",
       "0  0.128539 -0.189115  0.133558 -0.021053  149.62      0  \n",
       "1  0.167170  0.125895 -0.008983  0.014724    2.69      0  \n",
       "2 -0.327642 -0.139097 -0.055353 -0.059752  378.66      0  \n",
       "3  0.647376 -0.221929  0.062723  0.061458  123.50      0  \n",
       "4 -0.206010  0.502292  0.219422  0.215153   69.99      0  \n",
       "\n",
       "[5 rows x 31 columns]"
      ]
     },
     "execution_count": 2,
     "metadata": {},
     "output_type": "execute_result"
    }
   ],
   "source": [
    "dataframe = pd.read_csv('/data/datasets/creditcard.csv', header=0)\n",
    "print('dataframe.shape:',dataframe.shape)\n",
    "dataframe.head()"
   ]
  },
  {
   "cell_type": "markdown",
   "metadata": {},
   "source": [
    "### Número de amostras legítimas e fraudulentas"
   ]
  },
  {
   "cell_type": "code",
   "execution_count": 3,
   "metadata": {
    "ExecuteTime": {
     "end_time": "2018-01-08T22:15:57.032466Z",
     "start_time": "2018-01-08T22:15:57.019825Z"
    }
   },
   "outputs": [
    {
     "name": "stdout",
     "output_type": "stream",
     "text": [
      "n. de amostras: 284807\n",
      "transações legítimas: 284315\n",
      "transações fraudulentas: 492\n"
     ]
    }
   ],
   "source": [
    "target = np.asarray(dataframe['Class'])\n",
    "n_samples = target.shape[0]\n",
    "print('n. de amostras:', n_samples)\n",
    "print('transações legítimas:', (target==0).sum())\n",
    "print('transações fraudulentas:', (target==1).sum())"
   ]
  },
  {
   "cell_type": "markdown",
   "metadata": {
    "ExecuteTime": {
     "end_time": "2017-06-12T19:54:10.179519",
     "start_time": "2017-06-12T19:54:10.171635"
    }
   },
   "source": [
    "### Aplica mod no Timestamp para ser uma indicação da hora diária e normaliza dados "
   ]
  },
  {
   "cell_type": "code",
   "execution_count": 4,
   "metadata": {
    "ExecuteTime": {
     "end_time": "2018-01-08T22:16:05.882614Z",
     "start_time": "2018-01-08T22:16:05.706584Z"
    }
   },
   "outputs": [
    {
     "data": {
      "text/plain": [
       "(array([[ 0.        ,  0.93519234,  0.76649042,  0.8813649 ,  0.31302266,\n",
       "          0.76343873,  0.26766864,  0.26681518,  0.7864442 ,  0.47531173,\n",
       "          0.51060048,  0.25248432,  0.68090763,  0.3715906 ,  0.63559053,\n",
       "          0.4460837 ,  0.43439239,  0.73717255,  0.65506586,  0.59486323,\n",
       "          0.58294223,  0.56118439,  0.52299212,  0.66379298,  0.39125268,\n",
       "          0.58512179,  0.39455679,  0.41897614,  0.31269663,  0.00582379]]),\n",
       " (284807, 30))"
      ]
     },
     "execution_count": 4,
     "metadata": {},
     "output_type": "execute_result"
    }
   ],
   "source": [
    "df_cp = dataframe.copy()\n",
    "inputs = np.asarray(df_cp.values)[:,:-1]\n",
    "timestamp = inputs[:,0]\n",
    "timestamp = timestamp % (60* 60 * 24) # modulo número de segundos por dia\n",
    "inputs -= inputs.min(axis=0)\n",
    "inputs /= inputs.max(axis=0)\n",
    "inputs[:1],inputs.shape  # dados de uma amostra normalizada"
   ]
  },
  {
   "cell_type": "markdown",
   "metadata": {},
   "source": [
    "### Visualiza com boxplot"
   ]
  },
  {
   "cell_type": "code",
   "execution_count": 5,
   "metadata": {
    "ExecuteTime": {
     "end_time": "2018-01-08T22:16:09.410196Z",
     "start_time": "2018-01-08T22:16:07.628266Z"
    },
    "scrolled": true
   },
   "outputs": [
    {
     "data": {
      "image/png": "[encoded data removed]",
      "text/plain": [
       "<matplotlib.figure.Figure at 0x10e30a860>"
      ]
     },
     "metadata": {},
     "output_type": "display_data"
    }
   ],
   "source": [
    "sns.boxplot(data=inputs[:,:]);"
   ]
  },
  {
   "cell_type": "markdown",
   "metadata": {},
   "source": [
    "## Separação dados em treinamento e teste (20%)"
   ]
  },
  {
   "cell_type": "code",
   "execution_count": 6,
   "metadata": {
    "ExecuteTime": {
     "end_time": "2018-01-08T22:16:10.999651Z",
     "start_time": "2018-01-08T22:16:10.927804Z"
    },
    "collapsed": true
   },
   "outputs": [],
   "source": [
    "iv = int(0.2 * inputs.shape[0])\n",
    "xt_train = torch.from_numpy(inputs[iv:]).type(torch.FloatTensor)\n",
    "yt_train = torch.from_numpy( target[iv:])\n",
    "xt_valid = torch.from_numpy(inputs[:iv]).type(torch.FloatTensor)\n",
    "yt_valid = torch.from_numpy( target[:iv])\n"
   ]
  },
  {
   "cell_type": "code",
   "execution_count": 7,
   "metadata": {
    "ExecuteTime": {
     "end_time": "2018-01-08T22:16:11.621305Z",
     "start_time": "2018-01-08T22:16:11.617498Z"
    },
    "collapsed": true
   },
   "outputs": [],
   "source": [
    "FEATURE_NUM = 30\n",
    "CLASSES = 2"
   ]
  },
  {
   "cell_type": "markdown",
   "metadata": {},
   "source": [
    "## Definição da rede"
   ]
  },
  {
   "cell_type": "code",
   "execution_count": 8,
   "metadata": {
    "ExecuteTime": {
     "end_time": "2018-01-08T22:16:13.116711Z",
     "start_time": "2018-01-08T22:16:12.981304Z"
    }
   },
   "outputs": [
    {
     "data": {
      "text/plain": [
       "Model2(\n",
       "  (ln1): Linear(in_features=30, out_features=100)\n",
       "  (ln2): Linear(in_features=100, out_features=100)\n",
       "  (ln3): Linear(in_features=100, out_features=50)\n",
       "  (ln4): Linear(in_features=50, out_features=2)\n",
       ")"
      ]
     },
     "execution_count": 8,
     "metadata": {},
     "output_type": "execute_result"
    }
   ],
   "source": [
    "class Model2(nn.Module):\n",
    "    def __init__(self):\n",
    "        super(Model2, self).__init__()\n",
    "        #self.bn1   = nn.BatchNorm1d(FEATURE_NUM)\n",
    "        self.ln1   = nn.Linear(FEATURE_NUM,100)\n",
    "        #self.bn2   = nn.BatchNorm1d(100, momentum=0.01)\n",
    "        self.ln2   = nn.Linear(100,100)\n",
    "        self.ln3   = nn.Linear(100,50)\n",
    "        self.ln4   = nn.Linear(50,CLASSES)\n",
    "\n",
    "    def forward(self, x):\n",
    "        #x = self.bn1(x)         # (FEATURE_NUM,FEATURE_NUM)\n",
    "        \n",
    "        x = self.ln1(x)         # (FEATURE_NUM,100)\n",
    "        x = F.relu(x)\n",
    "        x = F.dropout(x,0.5)  \n",
    "        #x = self.bn2(x)         # (100,100)\n",
    "        \n",
    "        x = self.ln2(x)         # (100,100)\n",
    "        x = F.relu(x)\n",
    "        x = F.dropout(x,0.5)\n",
    "        \n",
    "        x = self.ln3(x)         # (100,50)\n",
    "        x = F.relu(x)\n",
    "        x = F.dropout(x,0.5)\n",
    "        \n",
    "        x = self.ln4(x)         # (50,2)\n",
    "        return x\n",
    "\n",
    "class Model(nn.Module):\n",
    "    def __init__(self):\n",
    "        super(Model, self).__init__()\n",
    "        self.ln1   = nn.Linear(FEATURE_NUM,100)\n",
    "        self.do1   = nn.AlphaDropout(0.3)\n",
    "        self.ln2   = nn.Linear(100,100)\n",
    "        self.do2   = nn.AlphaDropout(0.3)\n",
    "        self.ln2_1   = nn.Linear(100,100)\n",
    "        self.do2_1   = nn.AlphaDropout(0.3)\n",
    "        self.ln2_2   = nn.Linear(100,100)\n",
    "        self.do2_2   = nn.AlphaDropout(0.3)\n",
    "        self.ln3   = nn.Linear(100,50)\n",
    "        self.do3   = nn.AlphaDropout(0.3)\n",
    "        self.ln4   = nn.Linear(50,CLASSES)\n",
    "\n",
    "    def forward(self, x):\n",
    "        \n",
    "        x = self.ln1(x)         # (FEATURE_NUM,100)\n",
    "        x = F.selu(x)\n",
    "        x = self.do1(x)  \n",
    "        \n",
    "        x = self.ln2(x)         # (100,100)\n",
    "        x = F.selu(x)\n",
    "        x = self.do2(x)\n",
    "        \n",
    "        x = self.ln2_1(x)         # (100,100)\n",
    "        x = F.selu(x)\n",
    "        x = self.do2_1(x)\n",
    " \n",
    "        x = self.ln2_2(x)         # (100,100)\n",
    "        x = F.selu(x)\n",
    "        x = self.do2_2(x)\n",
    " \n",
    "        x = self.ln3(x)         # (100,50)\n",
    "        x = F.selu(x)\n",
    "        x = self.do3(x)\n",
    "        \n",
    "        x = self.ln4(x)         # (50,2)\n",
    "        return x\n",
    "\n",
    "model = Model2()\n",
    "if use_gpu:\n",
    "    model.cuda()\n",
    "model"
   ]
  },
  {
   "cell_type": "markdown",
   "metadata": {},
   "source": [
    "## Testando um predict"
   ]
  },
  {
   "cell_type": "code",
   "execution_count": 9,
   "metadata": {
    "ExecuteTime": {
     "end_time": "2018-01-08T22:16:15.099042Z",
     "start_time": "2018-01-08T22:16:14.920461Z"
    }
   },
   "outputs": [
    {
     "name": "stdout",
     "output_type": "stream",
     "text": [
      "Variable containing:\n",
      "-0.0451  0.1200\n",
      "-0.0438  0.1177\n",
      "-0.0456  0.1215\n",
      "[torch.FloatTensor of size 3x2]\n",
      "\n",
      "Variable containing:\n",
      " 0.4588  0.5412\n",
      " 0.4597  0.5403\n",
      " 0.4583  0.5417\n",
      "[torch.FloatTensor of size 3x2]\n",
      "\n"
     ]
    }
   ],
   "source": [
    "if use_gpu:\n",
    "    y = model(Variable(xt_train[0:3]).cuda())\n",
    "else:\n",
    "    y = model(Variable(xt_train[0:3]))\n",
    "print(y)\n",
    "print(F.softmax(y,dim=1))"
   ]
  },
  {
   "cell_type": "markdown",
   "metadata": {},
   "source": [
    "## Treinamento"
   ]
  },
  {
   "cell_type": "code",
   "execution_count": 10,
   "metadata": {
    "ExecuteTime": {
     "end_time": "2018-01-08T22:16:17.230276Z",
     "start_time": "2018-01-08T22:16:17.222514Z"
    },
    "collapsed": true
   },
   "outputs": [],
   "source": [
    "optimizer = torch.optim.Adam(model.parameters(), lr=5e-3)\n",
    "scheduler = StepLR(optimizer, step_size=5, gamma=0.75)\n",
    "criterion = nn.CrossEntropyLoss()\n",
    "savebest  = ptt.ModelCheckpoint('../../models/creditcardfraud_pt',reset=True,verbose=1)\n",
    "trainer = ptt.DeepNetTrainer(\n",
    "        model =         model,\n",
    "        criterion =     criterion,\n",
    "        optimizer =     optimizer,\n",
    "        lr_scheduler =  scheduler,\n",
    "        callbacks =     [savebest, ptt.PrintCallback()],\n",
    "        )"
   ]
  },
  {
   "cell_type": "code",
   "execution_count": 11,
   "metadata": {
    "ExecuteTime": {
     "end_time": "2018-01-08T22:16:49.542177Z",
     "start_time": "2018-01-08T22:16:19.104250Z"
    },
    "scrolled": false
   },
   "outputs": [
    {
     "name": "stdout",
     "output_type": "stream",
     "text": [
      "Start training for 10 epochs\n",
      "  1:   3.1s   T: 0.02511   V: 0.00602 best\n",
      "  2:   2.9s   T: 0.00476   V: 0.00518 best\n",
      "  3:   2.9s   T: 0.00371   V: 0.00509 best\n",
      "  4:   3.1s   T: 0.00409   V: 0.00486 best\n",
      "  5:   3.1s   T: 0.00347   V: 0.00500 \n",
      "  6:   3.1s   T: 0.00333   V: 0.00579 \n",
      "  7:   3.0s   T: 0.00349   V: 0.00462 best\n",
      "  8:   3.1s   T: 0.00333   V: 0.00591 \n",
      "  9:   3.0s   T: 0.00346   V: 0.00514 \n",
      " 10:   3.2s   T: 0.00335   V: 0.00542 \n",
      "Best model was saved at epoch 7 with loss 0.00462: ../../models/creditcardfraud_pt\n",
      "Stop training at epoch: 10/10\n"
     ]
    }
   ],
   "source": [
    "batch_size = 1000 # A escolha do batch_size é crítica pois se batch_size for pequeno, só treina com legítimos\n",
    "trainer.fit(10, xt_train, yt_train, valid_data=(xt_valid,yt_valid), batch_size=batch_size)\n"
   ]
  },
  {
   "cell_type": "markdown",
   "metadata": {},
   "source": [
    "## Avaliação"
   ]
  },
  {
   "cell_type": "markdown",
   "metadata": {},
   "source": [
    "\n",
    "<table border=\"1px\">\n",
    "<tr>\n",
    "    <th> </th> <th> </th> <th colspan=\"2\">Dataset</th>\n",
    "</tr><tr>\n",
    "    <th> </th> <th> </th>                                 <th>Legítima (0)</th> <th>Fraude (1)</th>\n",
    "</tr><tr>\n",
    "<th rowspan=\"4\">Detecção </th> <th rowspan=\"2\"> Negativo (0)  </th> <th>VN   </th> <th>FN</th>\n",
    "</tr><tr>\n",
    "                                                      <th>(legítima correta)</th> <th>(fraude não detectada)</th>\n",
    "</tr><tr>\n",
    "                               <th rowspan=\"2\"> Positivo (1)  </th> <th>FP   </th> <th>VP</th>\n",
    "</tr><tr>\n",
    "                                                          <th>(alarme falso)   </th> <th>(fraude detectada)</th>\n",
    "</tr>\n",
    "</table>"
   ]
  },
  {
   "cell_type": "markdown",
   "metadata": {},
   "source": [
    "- Amostras: $M = VP+VN+FP+FN$\n",
    "- Acurácia ou Exatidão: $ACC = \\frac{VP+VN}{M} $ Detecções corretas sobre o total\n",
    "- Precisão: $P  = \\frac{VP}{VP+FP}$ Taxa de fraudes detectadas são realmente fraudes (não quer perder vendas)\n",
    "- Sensibilidade:$S  = \\frac{VP}{VP+FN} $ Capacidade de detectar todas as fraudes (não quer perder dinheiro)"
   ]
  },
  {
   "cell_type": "code",
   "execution_count": 12,
   "metadata": {
    "ExecuteTime": {
     "end_time": "2018-01-08T22:16:59.579032Z",
     "start_time": "2018-01-08T22:16:59.571415Z"
    },
    "collapsed": true
   },
   "outputs": [],
   "source": [
    "trainer.load_state('../../models/creditcardfraud_pt')"
   ]
  },
  {
   "cell_type": "code",
   "execution_count": 13,
   "metadata": {
    "ExecuteTime": {
     "end_time": "2018-01-08T22:17:01.468584Z",
     "start_time": "2018-01-08T22:17:00.833351Z"
    },
    "collapsed": true
   },
   "outputs": [],
   "source": [
    "y_pred = trainer.predict_classes(xt_train)"
   ]
  },
  {
   "cell_type": "code",
   "execution_count": 14,
   "metadata": {
    "ExecuteTime": {
     "end_time": "2018-01-08T22:17:02.127116Z",
     "start_time": "2018-01-08T22:17:02.118174Z"
    },
    "collapsed": true
   },
   "outputs": [],
   "source": [
    "def confmatrix_prec_recall(y,y_pred):\n",
    "    ''' Compute Confusion Matrix, Precision and Recall'''\n",
    "    n = len(y)\n",
    "    assert n == len(y_pred)\n",
    "    xy = y_pred + 2* y\n",
    "    cm = np.bincount(xy,minlength=4)\n",
    "    precision = cm[3]/(cm[3]+cm[1]+sys.float_info.epsilon)\n",
    "    recall = cm[3]/(cm[3]+cm[2]+sys.float_info.epsilon)\n",
    "    return cm.reshape(2,2), precision, recall\n"
   ]
  },
  {
   "cell_type": "code",
   "execution_count": 15,
   "metadata": {
    "ExecuteTime": {
     "end_time": "2018-01-08T22:17:09.816863Z",
     "start_time": "2018-01-08T22:17:09.807167Z"
    }
   },
   "outputs": [
    {
     "data": {
      "text/plain": [
       "array([[227496,    112],\n",
       "       [    15,    223]])"
      ]
     },
     "execution_count": 15,
     "metadata": {},
     "output_type": "execute_result"
    }
   ],
   "source": [
    "cm,p,r = confmatrix_prec_recall(y_pred.cpu().numpy(),yt_train.numpy())\n",
    "cm"
   ]
  },
  {
   "cell_type": "code",
   "execution_count": 16,
   "metadata": {
    "ExecuteTime": {
     "end_time": "2018-01-08T22:17:39.526115Z",
     "start_time": "2018-01-08T22:17:26.818214Z"
    }
   },
   "outputs": [
    {
     "name": "stdout",
     "output_type": "stream",
     "text": [
      "evaluate: 22784/22784 ok\n",
      "Treinamento: {'losses': 0.003252776906288671}\n"
     ]
    }
   ],
   "source": [
    "metrics = trainer.evaluate(xt_train,yt_train)\n",
    "print('Treinamento:',metrics)"
   ]
  },
  {
   "cell_type": "code",
   "execution_count": 17,
   "metadata": {
    "ExecuteTime": {
     "end_time": "2018-01-08T22:17:43.853762Z",
     "start_time": "2018-01-08T22:17:40.652657Z"
    }
   },
   "outputs": [
    {
     "name": "stdout",
     "output_type": "stream",
     "text": [
      "evaluate: 5696/5696 ok\n",
      "Validação: {'losses': 0.0046192073374337886}\n"
     ]
    }
   ],
   "source": [
    "metrics = trainer.evaluate(xt_valid,yt_valid)\n",
    "print('Validação:',metrics)"
   ]
  },
  {
   "cell_type": "code",
   "execution_count": 18,
   "metadata": {
    "ExecuteTime": {
     "end_time": "2018-01-08T22:17:44.823011Z",
     "start_time": "2018-01-08T22:17:44.621314Z"
    }
   },
   "outputs": [
    {
     "data": {
      "text/plain": [
       "array([[56768,    24],\n",
       "       [   36,   133]])"
      ]
     },
     "execution_count": 18,
     "metadata": {},
     "output_type": "execute_result"
    }
   ],
   "source": [
    "y_pred = trainer.predict_classes(xt_valid)\n",
    "cm,p,r = confmatrix_prec_recall(y_pred.cpu().numpy(),yt_valid.numpy())\n",
    "cm"
   ]
  },
  {
   "cell_type": "code",
   "execution_count": 19,
   "metadata": {
    "ExecuteTime": {
     "end_time": "2018-01-08T22:17:48.974572Z",
     "start_time": "2018-01-08T22:17:48.968864Z"
    }
   },
   "outputs": [
    {
     "name": "stdout",
     "output_type": "stream",
     "text": [
      "0.00349 0.00462\n"
     ]
    }
   ],
   "source": [
    "lt = trainer.metrics['train']['losses'][-1]\n",
    "lv = trainer.metrics['valid']['losses'][-1]\n",
    "print('{:.5f} {:.5f}'.format(lt, lv) )"
   ]
  },
  {
   "cell_type": "markdown",
   "metadata": {},
   "source": [
    "## Aprendizados"
   ]
  }
 ],
 "metadata": {
  "kernelspec": {
   "display_name": "Python 3",
   "language": "python",
   "name": "python3"
  },
  "language_info": {
   "codemirror_mode": {
    "name": "ipython",
    "version": 3
   },
   "file_extension": ".py",
   "mimetype": "text/x-python",
   "name": "python",
   "nbconvert_exporter": "python",
   "pygments_lexer": "ipython3",
   "version": "3.6.0"
  },
  "toc": {
   "nav_menu": {
    "height": "30px",
    "width": "252px"
   },
   "number_sections": true,
   "sideBar": true,
   "skip_h1_title": false,
   "toc_cell": false,
   "toc_position": {},
   "toc_section_display": "block",
   "toc_window_display": false
  },
  "varInspector": {
   "cols": {
    "lenName": 16,
    "lenType": 16,
    "lenVar": 40
   },
   "kernels_config": {
    "python": {
     "delete_cmd_postfix": "",
     "delete_cmd_prefix": "del ",
     "library": "var_list.py",
     "varRefreshCmd": "print(var_dic_list())"
    },
    "r": {
     "delete_cmd_postfix": ") ",
     "delete_cmd_prefix": "rm(",
     "library": "var_list.r",
     "varRefreshCmd": "cat(var_dic_list()) "
    }
   },
   "types_to_exclude": [
    "module",
    "function",
    "builtin_function_or_method",
    "instance",
    "_Feature"
   ],
   "window_display": false
  }
 },
 "nbformat": 4,
 "nbformat_minor": 2
}
