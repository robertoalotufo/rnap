{
 "cells": [
  {
   "cell_type": "markdown",
   "metadata": {},
   "source": [
    "# Exercício Regressão Linear com PyTorch (Solução)"
   ]
  },
  {
   "cell_type": "markdown",
   "metadata": {
    "ExecuteTime": {
     "end_time": "2017-11-23T20:26:31.045355Z",
     "start_time": "2017-11-23T20:26:31.038008Z"
    }
   },
   "source": [
    "Este notebook é a solução do exercício do notebook:\n",
    "- [LinearRegressionIris-Tensor.ipynb](LinearRegressionIris-Tensor.ipynb)\n",
    "\n",
    "Procure fazer o exercício sem olhar a solução, apenas venha olhar após tentar\n",
    "a solução por vários minutos."
   ]
  },
  {
   "cell_type": "markdown",
   "metadata": {
    "heading_collapsed": true
   },
   "source": [
    "## Importação dos pacotes"
   ]
  },
  {
   "cell_type": "code",
   "execution_count": 1,
   "metadata": {
    "ExecuteTime": {
     "end_time": "2017-11-24T17:36:24.393463",
     "start_time": "2017-11-24T17:36:23.318013"
    },
    "collapsed": true,
    "hidden": true
   },
   "outputs": [],
   "source": [
    "%matplotlib inline\n",
    "import torch\n",
    "\n",
    "import matplotlib.pyplot as plt\n",
    "from sklearn.datasets import load_iris\n",
    "\n",
    "torch.manual_seed(1234)\n",
    "\n",
    "def print_assert(r):\n",
    "    if r:\n",
    "        return 'OK!'\n",
    "    else:\n",
    "        return 'Incorreto!'"
   ]
  },
  {
   "cell_type": "markdown",
   "metadata": {
    "heading_collapsed": true
   },
   "source": [
    "## Dataset"
   ]
  },
  {
   "cell_type": "markdown",
   "metadata": {
    "hidden": true
   },
   "source": [
    "### Leitura dos dados"
   ]
  },
  {
   "cell_type": "code",
   "execution_count": 2,
   "metadata": {
    "ExecuteTime": {
     "end_time": "2017-11-24T17:36:26.335545",
     "start_time": "2017-11-24T17:36:26.321566"
    },
    "hidden": true
   },
   "outputs": [
    {
     "name": "stdout",
     "output_type": "stream",
     "text": [
      "x_train.shape: torch.Size([50, 1]) <class 'torch.FloatTensor'>\n",
      "y_train.shape: torch.Size([50, 1]) <class 'torch.FloatTensor'>\n",
      "x_train[:5]:\n",
      " \n",
      " 7.0000\n",
      " 6.4000\n",
      " 6.9000\n",
      " 5.5000\n",
      " 6.5000\n",
      "[torch.FloatTensor of size 5x1]\n",
      "\n",
      "y_train[:5]:\n",
      " \n",
      " 4.7000\n",
      " 4.5000\n",
      " 4.9000\n",
      " 4.0000\n",
      " 4.6000\n",
      "[torch.FloatTensor of size 5x1]\n",
      "\n"
     ]
    }
   ],
   "source": [
    "iris = load_iris()\n",
    "data = iris.data[iris.target==1,::2]  # comprimento das sépalas e pétalas, indices 0 e 2\n",
    "\n",
    "x_train = torch.FloatTensor(data[:,0:1])\n",
    "y_train = torch.FloatTensor(data[:,1:2])\n",
    "\n",
    "n_samples = x_train.size(0)\n",
    "print('x_train.shape:',x_train.shape, type(x_train))\n",
    "print('y_train.shape:',y_train.shape, type(y_train))\n",
    "\n",
    "print('x_train[:5]:\\n', x_train[:5])\n",
    "print('y_train[:5]:\\n', y_train[:5])"
   ]
  },
  {
   "cell_type": "markdown",
   "metadata": {
    "hidden": true
   },
   "source": [
    "### Normalização dos dados"
   ]
  },
  {
   "cell_type": "code",
   "execution_count": 3,
   "metadata": {
    "ExecuteTime": {
     "end_time": "2017-11-24T17:36:27.742088",
     "start_time": "2017-11-24T17:36:27.738206"
    },
    "collapsed": true,
    "hidden": true
   },
   "outputs": [],
   "source": [
    "x_train -= x_train.min()\n",
    "x_train /= x_train.max()\n",
    "y_train -= y_train.min()\n",
    "y_train /= y_train.max()"
   ]
  },
  {
   "cell_type": "markdown",
   "metadata": {
    "hidden": true
   },
   "source": [
    "### Exercício 1 - criação do `x_train_bias`"
   ]
  },
  {
   "cell_type": "markdown",
   "metadata": {
    "hidden": true
   },
   "source": [
    "faça o `x_train_bias` ser uma matriz com zeros na primeira coluna e x_train na segunda coluna.\n",
    "\n",
    "Dica: você pode precisar da função [torch.cat](http://pytorch.org/docs/master/torch.html#torch.cat) e [torch.ones](http://pytorch.org/docs/master/torch.html#torch.ones)."
   ]
  },
  {
   "cell_type": "code",
   "execution_count": 4,
   "metadata": {
    "ExecuteTime": {
     "end_time": "2017-11-24T17:36:29.823192",
     "start_time": "2017-11-24T17:36:29.818927"
    },
    "hidden": true
   },
   "outputs": [
    {
     "name": "stdout",
     "output_type": "stream",
     "text": [
      "torch.Size([50, 2])\n"
     ]
    }
   ],
   "source": [
    "x_train_bias = torch.cat((torch.ones(n_samples, 1), x_train), dim=1)\n",
    "print(x_train_bias.size())"
   ]
  },
  {
   "cell_type": "code",
   "execution_count": 5,
   "metadata": {
    "ExecuteTime": {
     "end_time": "2017-11-24T17:36:31.796614",
     "start_time": "2017-11-24T17:36:31.787850"
    },
    "hidden": true
   },
   "outputs": [
    {
     "name": "stdout",
     "output_type": "stream",
     "text": [
      "x_train_bias é um tensor: OK!\n",
      "tamanho do x_train_bias: OK!\n",
      "primeira coluna é só de uns: OK!\n",
      "segunda coluna é igual a x_train: OK!\n"
     ]
    }
   ],
   "source": [
    "# Verificação do exercício - Execute para testar sua implementação\n",
    "\n",
    "print('x_train_bias é um tensor: {}'.format(print_assert(\n",
    "    isinstance(x_train_bias, torch.FloatTensor)\n",
    ")))\n",
    "\n",
    "    \n",
    "print('tamanho do x_train_bias: {}'.format(print_assert(\n",
    "    x_train_bias.size() == torch.Size([50, 2])\n",
    ")))\n",
    "\n",
    "print('primeira coluna é só de uns: {}'.format(print_assert(\n",
    "    (x_train_bias[:, 0] - torch.ones(n_samples)).sum() == 0\n",
    ")))\n",
    "\n",
    "print('segunda coluna é igual a x_train: {}'.format(print_assert(\n",
    "    (x_train_bias[:, 1] - x_train).sum() == 0\n",
    ")))"
   ]
  },
  {
   "cell_type": "markdown",
   "metadata": {
    "heading_collapsed": true
   },
   "source": [
    "## Modelo da rede"
   ]
  },
  {
   "cell_type": "markdown",
   "metadata": {
    "hidden": true
   },
   "source": [
    "### Definição da classe"
   ]
  },
  {
   "cell_type": "code",
   "execution_count": 6,
   "metadata": {
    "ExecuteTime": {
     "end_time": "2017-11-24T17:36:39.670095",
     "start_time": "2017-11-24T17:36:39.664897"
    },
    "collapsed": true,
    "hidden": true
   },
   "outputs": [],
   "source": [
    "class Net():\n",
    "    def __init__(self, n_in, n_out):\n",
    "        self.w = torch.Tensor(n_out, n_in)\n",
    "        self.w.uniform_(-0.1,0.1) #inicialização dos parâmetros\n",
    "    \n",
    "    def forward(self, x_bias):\n",
    "        return x_bias.matmul(self.w.t())\n",
    "    "
   ]
  },
  {
   "cell_type": "markdown",
   "metadata": {
    "hidden": true
   },
   "source": [
    "### Instanciando a rede"
   ]
  },
  {
   "cell_type": "code",
   "execution_count": 7,
   "metadata": {
    "ExecuteTime": {
     "end_time": "2017-11-24T17:36:40.576662",
     "start_time": "2017-11-24T17:36:40.573921"
    },
    "collapsed": true,
    "hidden": true
   },
   "outputs": [],
   "source": [
    "model = Net(2,1)"
   ]
  },
  {
   "cell_type": "markdown",
   "metadata": {
    "hidden": true
   },
   "source": [
    "### Testando o predict da rede"
   ]
  },
  {
   "cell_type": "code",
   "execution_count": 8,
   "metadata": {
    "ExecuteTime": {
     "end_time": "2017-11-24T17:36:41.453229",
     "start_time": "2017-11-24T17:36:41.384149"
    },
    "hidden": true
   },
   "outputs": [
    {
     "data": {
      "text/plain": [
       "\n",
       "1.00000e-02 *\n",
       "  8.2557\n",
       "  7.8247\n",
       " -2.2571\n",
       " -2.2023\n",
       "[torch.FloatTensor of size 4x1]"
      ]
     },
     "execution_count": 8,
     "metadata": {},
     "output_type": "execute_result"
    }
   ],
   "source": [
    "#model.forward(torch.ones((4,2)))\n",
    "model.forward(torch.randn(4,2))"
   ]
  },
  {
   "cell_type": "markdown",
   "metadata": {
    "heading_collapsed": true
   },
   "source": [
    "## Treinamento"
   ]
  },
  {
   "cell_type": "markdown",
   "metadata": {
    "hidden": true
   },
   "source": [
    "### Exercício 2 - Treinamento"
   ]
  },
  {
   "cell_type": "markdown",
   "metadata": {
    "hidden": true
   },
   "source": [
    "Refaça o código de treinamento da rede, mas agora utilizando somente Tensores do PyTorch. Faça o mesmo procedimento que o notebook [LinearRegressionIrisNumPy](LinearRegressionIrisNumPy.ipynb). Para consultar as operações disponíveis no PyTorch use a [documentação do PyTorch](http://pytorch.org/docs/master/torch.html).\n",
    "\n",
    "Funções que podem ser úteis:\n",
    "- torch.t\n",
    "- torch.mean\n",
    "- torch.matmul"
   ]
  },
  {
   "cell_type": "code",
   "execution_count": 16,
   "metadata": {
    "ExecuteTime": {
     "end_time": "2017-11-24T17:39:33.051098",
     "start_time": "2017-11-24T17:39:33.039177"
    },
    "hidden": true,
    "scrolled": false
   },
   "outputs": [
    {
     "name": "stdout",
     "output_type": "stream",
     "text": [
      "Epoch[2/10], loss: 0.022490\n",
      "Epoch[4/10], loss: 0.022258\n",
      "Epoch[6/10], loss: 0.022067\n",
      "Epoch[8/10], loss: 0.021909\n",
      "Epoch[10/10], loss: 0.021779\n"
     ]
    }
   ],
   "source": [
    "num_epochs = 10\n",
    "learning_rate = 0.5\n",
    "\n",
    "for epoch in range(num_epochs):\n",
    "    # forward - predict\n",
    "    y_pred = model.forward(x_train_bias)\n",
    "\n",
    "    #loss cálculo da função de perda\n",
    "    loss = torch.mean((y_pred - y_train)**2)\n",
    "    \n",
    "    # cálculo do gradiente pelas derivadas parciais\n",
    "    weight_grad = (2.0/n_samples) * x_train_bias.t().matmul(x_train_bias.matmul(model.w.t()) - y_train)\n",
    "    \n",
    "    # gradiente descendente\n",
    "    model.w = model.w - learning_rate * weight_grad.t()\n",
    "    \n",
    "    # verbose\n",
    "    if (epoch+1) % 2 == 0:\n",
    "        print('Epoch[{}/{}], loss: {:.6f}'\n",
    "              .format(epoch+1, num_epochs, loss))"
   ]
  },
  {
   "cell_type": "markdown",
   "metadata": {
    "heading_collapsed": true
   },
   "source": [
    "## Avaliação"
   ]
  },
  {
   "cell_type": "markdown",
   "metadata": {
    "hidden": true
   },
   "source": [
    "### Predict"
   ]
  },
  {
   "cell_type": "code",
   "execution_count": 10,
   "metadata": {
    "ExecuteTime": {
     "end_time": "2017-11-24T17:36:45.902438",
     "start_time": "2017-11-24T17:36:45.737673"
    },
    "hidden": true
   },
   "outputs": [
    {
     "data": {
      "image/png": "[encoded data removed]",
      "text/plain": [
       "<matplotlib.figure.Figure at 0x1a15e59518>"
      ]
     },
     "metadata": {},
     "output_type": "display_data"
    }
   ],
   "source": [
    "y_pred = model.forward(x_train_bias)\n",
    "plt.plot(x_train.numpy(), y_train.numpy(), 'ro', label='Original data')\n",
    "plt.plot(x_train.numpy(), y_pred.numpy(), 'kx-', label='Fitting Line')\n",
    "plt.show()"
   ]
  },
  {
   "cell_type": "markdown",
   "metadata": {
    "hidden": true
   },
   "source": [
    "### Parâmetro treinado"
   ]
  },
  {
   "cell_type": "code",
   "execution_count": 11,
   "metadata": {
    "ExecuteTime": {
     "end_time": "2017-11-24T17:36:46.945367",
     "start_time": "2017-11-24T17:36:46.941566"
    },
    "hidden": true
   },
   "outputs": [
    {
     "name": "stdout",
     "output_type": "stream",
     "text": [
      "\n",
      " 0.3922  0.4337\n",
      "[torch.FloatTensor of size 1x2]\n",
      "\n"
     ]
    }
   ],
   "source": [
    "print(model.w)"
   ]
  },
  {
   "cell_type": "markdown",
   "metadata": {
    "hidden": true
   },
   "source": [
    "### Valor ótimo, solução analítica"
   ]
  },
  {
   "cell_type": "code",
   "execution_count": 17,
   "metadata": {
    "ExecuteTime": {
     "end_time": "2017-11-24T17:40:51.435398",
     "start_time": "2017-11-24T17:40:51.430254"
    },
    "hidden": true
   },
   "outputs": [
    {
     "name": "stdout",
     "output_type": "stream",
     "text": [
      "\n",
      " 0.2613  0.6865\n",
      "[torch.FloatTensor of size 1x2]\n",
      "\n"
     ]
    }
   ],
   "source": [
    "x_bias = x_train_bias\n",
    "y = y_train\n",
    "w_opt = (torch.inverse(x_bias.t().mm(x_bias)).mm(x_bias.t())).mm(y)\n",
    "print(w_opt.t())"
   ]
  },
  {
   "cell_type": "code",
   "execution_count": null,
   "metadata": {
    "collapsed": true,
    "hidden": true
   },
   "outputs": [],
   "source": []
  }
 ],
 "metadata": {
  "kernelspec": {
   "display_name": "Python 3",
   "language": "python",
   "name": "python3"
  },
  "language_info": {
   "codemirror_mode": {
    "name": "ipython",
    "version": 3
   },
   "file_extension": ".py",
   "mimetype": "text/x-python",
   "name": "python",
   "nbconvert_exporter": "python",
   "pygments_lexer": "ipython3",
   "version": "3.6.0"
  },
  "toc": {
   "colors": {
    "hover_highlight": "#DAA520",
    "running_highlight": "#FF0000",
    "selected_highlight": "#FFD700"
   },
   "moveMenuLeft": true,
   "nav_menu": {},
   "navigate_menu": true,
   "number_sections": true,
   "sideBar": true,
   "skip_h1_title": false,
   "threshold": 4,
   "toc_cell": false,
   "toc_position": {},
   "toc_section_display": "block",
   "toc_window_display": false
  },
  "varInspector": {
   "cols": {
    "lenName": 16,
    "lenType": 16,
    "lenVar": 40
   },
   "kernels_config": {
    "python": {
     "delete_cmd_postfix": "",
     "delete_cmd_prefix": "del ",
     "library": "var_list.py",
     "varRefreshCmd": "print(var_dic_list())"
    },
    "r": {
     "delete_cmd_postfix": ") ",
     "delete_cmd_prefix": "rm(",
     "library": "var_list.r",
     "varRefreshCmd": "cat(var_dic_list()) "
    }
   },
   "types_to_exclude": [
    "module",
    "function",
    "builtin_function_or_method",
    "instance",
    "_Feature"
   ],
   "window_display": false
  }
 },
 "nbformat": 4,
 "nbformat_minor": 2
}
