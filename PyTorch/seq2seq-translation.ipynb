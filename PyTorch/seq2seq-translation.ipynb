{
 "cells": [
  {
   "cell_type": "markdown",
   "metadata": {},
   "source": [
    "# Sequence to Sequence em PyTorch"
   ]
  },
  {
   "cell_type": "markdown",
   "metadata": {},
   "source": [
    "Este tutorial é uma versão modificada de https://github.com/spro/practical-pytorch/blob/master/seq2seq-translation/seq2seq-translation.ipynb"
   ]
  },
  {
   "cell_type": "markdown",
   "metadata": {},
   "source": [
    "Neste tutorial iremos ensinar como treinar uma rede neural para traduzir sentenças do portugues para o inglês.\n",
    "\n",
    "Isto é possível graças a simples mas poderosa idéia da [rede sequence to sequence](http://arxiv.org/abs/1409.3215), na qual duas redes neurais recorrentes transformam uma sequência de símbolos em outra sequência. A rede codificadora condensa uma sequência de entrada em um vetor e a rede decodificadora converte esse vetor em uma nova sequência.\n",
    "\n",
    "Para melhorar este modelo iremos usar o [mecanismo de atenção](https://arxiv.org/abs/1409.0473), o qual faz com que o decodificador aprenda a se atentar a partes específicas da sequência de entrada."
   ]
  },
  {
   "cell_type": "markdown",
   "metadata": {},
   "source": [
    "# O modelo de Sequence to Sequence"
   ]
  },
  {
   "cell_type": "markdown",
   "metadata": {},
   "source": [
    "A [rede Sequence to Sequence](http://arxiv.org/abs/1409.3215), ou rede seq2seq, ou [rede Codificadora-Decodificadora](https://arxiv.org/pdf/1406.1078v3.pdf), é um modelo que possui duas redes RNNs chamadas de  **codificadora** e **decodificadora**. O codificador lê a sequência de entrada um item por vez e retorna um vetor a cada passo. A saída final do codificador é um vetor de **contexto**, representado na figura abaixo por $h_5$. O decodificador usa esse vetor de contexto para produzir uma sequência de simbolos, um de cada vez.\n",
    "\n",
    "<img src=\"../figures/NMT-Simples.png\",width=700>\n",
    "\n",
    "Quando trabalhamos com tradução automática, é comum não termos uma relação de um para um entre os textos de entrada e os de saída. Por exemplo, dada a sentença \"Eu não gosto daquele vestido preto\" e sua tradução \"I don't like that black dress\", muitas das palavras tem uma tradução direta, como \"gosto\" e \"like\". Entretanto, diferenças gramaticais podem acaretar em diferentes ordenações das palavras, como por exemplo \"vestido preto\" e \"black dress\". Há também diferenças na construção da negação 'do not' e 'não', que faz com que as sentenças tenham diferentes tamanhos.\n",
    "\n",
    "Com o modelo seq2seq, o codificador converte a entrada para um vetor de tamanho fixo, não importando seu tamanho original. E o decodificador produz sequências de tamanho não fixo, mesmo usando um vetor de tamanho fixo como entrada.\n",
    "\n",
    "Esta idéia pode ser estendida para além de sequências. Geração automática de legenda de imagens é uma delas (https://arxiv.org/abs/1411.4555), onde a entrada é uma imagem e a saída é um texto descrevendo a imagem. O inverso também é possivel, onde a entrada é a descrição textual de um objeto e a saída é a imagem deste objeto (https://arxiv.org/abs/1511.02793). Estes modelos podem ser mais genericamente chamados de redes \"codificadoras decodificadoras\"."
   ]
  },
  {
   "cell_type": "markdown",
   "metadata": {},
   "source": [
    "## O Mecanismo de Atenção"
   ]
  },
  {
   "cell_type": "markdown",
   "metadata": {},
   "source": [
    "O vetor de tamanho fixo carrega o ônus de representar todo a \"semântica\" da sequência de entrada, não importa o quão longa ela seja. Com todas as variações da linguagem, este é um problema bem difícil. Imagine duas sentenças quase idênticas, com 20 palavras cada, diferindo em apenas uma palavra. O codificador e o decodificador precisam ser poderosos o suficiente para capturar essa pequena mudança na representação.\n",
    "\n",
    "O **mecanismo de atenção** introduzido por [Bahdanau et al.](https://arxiv.org/abs/1409.0473) tenta resolver esse problema através de um mecanismo que permite que o decodificador \"preste atenção\" em partes da sequência de entrada ao invés de depender de uma vetor de tamanho fixo. A cada passo, o decodificador pode considerar partes diferentes da sequência de entrada.\n",
    "\n",
    "A figura abaixo mostra uma rede seq2seq com o mecanismo de atenção. O módulo de atenção (Att) tem como entrada todos os vetores da sequência de entrada ($h_0, ..., h_5$), e a saída é um vetor de tamanho fixo ($h'_2$) que é a soma ponderada dos vetores da sequência de entrada. Os pesos dessa soma ponderada são calculados por uma rede neural simples que tem como entrada o vetor de estado obtido no passo anterior ($g_1$) e os vetores da sequência de entrada ($h_0, ..., h_5$). Para que a soma dos pesos fique entre 0 e 1, a função de softmax é usada.\n",
    "O novo vetor de atenção ($g_2$) é então usado para gerar a próxima saída.\n",
    "\n",
    "<img src=\"../figures/NMT-Attention.png\",width=700>"
   ]
  },
  {
   "cell_type": "markdown",
   "metadata": {},
   "source": [
    "# Importação dos pacotes"
   ]
  },
  {
   "cell_type": "code",
   "execution_count": 1,
   "metadata": {
    "ExecuteTime": {
     "end_time": "2017-10-28T09:43:23.691624",
     "start_time": "2017-10-28T09:43:22.907240"
    }
   },
   "outputs": [
    {
     "name": "stdout",
     "output_type": "stream",
     "text": [
      "GPU available: False\n"
     ]
    }
   ],
   "source": [
    "import unicodedata\n",
    "import string\n",
    "import re\n",
    "import random\n",
    "import time\n",
    "import math\n",
    "\n",
    "import torch\n",
    "import torch.nn as nn\n",
    "from torch.autograd import Variable\n",
    "from torch import optim\n",
    "import torch.nn.functional as F\n",
    "\n",
    "use_gpu = torch.cuda.is_available()\n",
    "print('GPU available:', use_gpu)"
   ]
  },
  {
   "cell_type": "markdown",
   "metadata": {},
   "source": [
    "# Carregando o Dataset"
   ]
  },
  {
   "cell_type": "markdown",
   "metadata": {},
   "source": [
    "Os dados para esse tutorial vem do site http://www.manythings.org/anki/, o qual contém milhares de pares de sentenças em diversos idiomas que foram originalmente extraídos de http://tatoeba.org/. Neste tutorial iremos usar apenas os pares português-inglês, então basta fazer download do arquivo http://www.manythings.org/anki/por-eng.zip, extraí-lo na mesma pasta deste notebook e renomeá-lo para `eng-por.txt`. Este arquivo contém mais de 100.000 pares de sentenças separadas por tab:\n",
    "\n",
    "```\n",
    "I'm cold.\tEstou com frio.\n",
    "```"
   ]
  },
  {
   "cell_type": "markdown",
   "metadata": {},
   "source": [
    "Nós iremos reprensentar cada palavra como um vetor one-hot, que é um vetor do tamanho do vocabulário usado (ex: 300.000 palavras únicas) onde todos os elementos são zero com exceção de um único elemento, que corresponde ao índice da palavra. Como este vetor pode ser muito grande, iremos limitar nosso vocabulário para apenas algumas milhares de palavras por língua."
   ]
  },
  {
   "cell_type": "markdown",
   "metadata": {},
   "source": [
    "### Indexando palavras\n",
    "\n",
    "Nós precisaremos de um índice único por palavra para usá-lo como entrada e sáida da rede. Para isso, utilizaremos uma classe que chamaremos de 'Lang', que possui dois dicionários: palavra &rarr; índice (`word2index`) e índice &rarr; palavra (`index2word`). Esta classe também armazena o número de ocorrências de cada palavra (`word2count`), que será usada mais tarde para lidarmos com palavras raras."
   ]
  },
  {
   "cell_type": "code",
   "execution_count": 2,
   "metadata": {
    "ExecuteTime": {
     "end_time": "2017-10-18T13:16:51.701772",
     "start_time": "2017-10-18T13:16:51.687581"
    },
    "collapsed": true
   },
   "outputs": [],
   "source": [
    "SOS_token = 0\n",
    "EOS_token = 1\n",
    "\n",
    "class Lang:\n",
    "    def __init__(self, name):\n",
    "        self.name = name\n",
    "        self.word2index = {}\n",
    "        self.word2count = {}\n",
    "        self.index2word = {0: \"SOS\", 1: \"EOS\"}\n",
    "        self.n_words = 2 # Conta Start-of-Sequence (SOS) e End-of-Sequence (EOS)\n",
    "      \n",
    "    def index_words(self, sentence):\n",
    "        '''\n",
    "        Adiciona o número de ocorrências das palavras de uma sentença no contador geral. \n",
    "        '''\n",
    "        for word in sentence.split(' '):\n",
    "            self.index_word(word)\n",
    "\n",
    "    def index_word(self, word):\n",
    "        if word not in self.word2index:\n",
    "            # Se a palavra não estiver no dicionário, crie uma entrada para ela, com contagem = 1.\n",
    "            self.word2index[word] = self.n_words\n",
    "            self.word2count[word] = 1\n",
    "            self.index2word[self.n_words] = word\n",
    "            self.n_words += 1\n",
    "        else:\n",
    "            # Caso já exista no dicionário, apenas incremente seu número de ocorrências.\n",
    "            self.word2count[word] += 1"
   ]
  },
  {
   "cell_type": "markdown",
   "metadata": {},
   "source": [
    "### Lendo e decodificando arquivos\n",
    "\n",
    "Os arquivos estão em formato unicode e para simplificar iremos convertê-los para ASCII, caixa baixa, e remover a maioria da pontuação."
   ]
  },
  {
   "cell_type": "code",
   "execution_count": 3,
   "metadata": {
    "ExecuteTime": {
     "end_time": "2017-10-18T13:16:51.710785",
     "start_time": "2017-10-18T13:16:51.703563"
    },
    "collapsed": true
   },
   "outputs": [],
   "source": [
    "# Converte uma string Unicode para ASCII. Extraído de http://stackoverflow.com/a/518232/2809427\n",
    "def unicode_to_ascii(s):\n",
    "    return ''.join(\n",
    "        c for c in unicodedata.normalize('NFD', s)\n",
    "        if unicodedata.category(c) != 'Mn'\n",
    "    )\n",
    "\n",
    "# Caixa baixa, remove espaços antes e depois, e remove caracteres que não são letras\n",
    "def normalize_string(s):\n",
    "    #s = s.decode('ascii', 'ignore').lower().strip()\n",
    "    s = unicode_to_ascii(s.lower().strip())\n",
    "    s = re.sub(r\"([.!?])\", r\" \\1\", s)\n",
    "    #s = re.sub(r\"[^a-zA-Z.!?]+\", r\" \", s)\n",
    "    return s"
   ]
  },
  {
   "cell_type": "markdown",
   "metadata": {},
   "source": [
    "O arquivo é lido linha por linha, e cada linha é dividida em um par de sentenças. Os arquivos são sempre do tipo  Inglês &rarr; Outra Língua, então se quisermos traduzir da outra língua para o inglês basta passarmos o argumento reverse=True para a função abaixo."
   ]
  },
  {
   "cell_type": "code",
   "execution_count": 4,
   "metadata": {
    "ExecuteTime": {
     "end_time": "2017-10-18T13:16:51.724545",
     "start_time": "2017-10-18T13:16:51.712697"
    },
    "collapsed": true
   },
   "outputs": [],
   "source": [
    "def read_langs(lang1, lang2, reverse=False):\n",
    "    print(\"Lendo Linhas...\")\n",
    "\n",
    "    # Lê o arquivo e o divide em linhas\n",
    "    lines = open('/data/datasets/seq2seq-translation/%s-%s.txt' % (lang1, lang2)).read().strip().split('\\n')\n",
    "    \n",
    "    # Divide cada linha em um par de sentenças e normaliza-as.\n",
    "    pairs = [[normalize_string(s) for s in l.split('\\t')] for l in lines]\n",
    "    \n",
    "    # Inverte os pares\n",
    "    if reverse:\n",
    "        pairs = [list(reversed(p)) for p in pairs]\n",
    "        input_lang = Lang(lang2)\n",
    "        output_lang = Lang(lang1)\n",
    "    else:\n",
    "        input_lang = Lang(lang1)\n",
    "        output_lang = Lang(lang2)\n",
    "        \n",
    "    return input_lang, output_lang, pairs"
   ]
  },
  {
   "cell_type": "markdown",
   "metadata": {},
   "source": [
    "### Removendo sequências longas\n",
    "\n",
    "Como temos muitos exemplos (mais de 100.000) e queremos que o treinamento seja rápido, iremos remover todas as sentenças com mais de 10 palavras do dataset. Também removeremos todas as sentenças que não começam com termos simples, como \"I am\" and \"He is\", pois isso acelera o treino ainda mais."
   ]
  },
  {
   "cell_type": "code",
   "execution_count": 5,
   "metadata": {
    "ExecuteTime": {
     "end_time": "2017-10-18T13:16:51.732784",
     "start_time": "2017-10-18T13:16:51.726692"
    },
    "collapsed": true
   },
   "outputs": [],
   "source": [
    "MAX_LENGTH = 10\n",
    "\n",
    "good_prefixes = (\n",
    "    \"i am \", \"i m \",\n",
    "    \"he is\", \"he s \",\n",
    "    \"she is\", \"she s\",\n",
    "    \"you are\", \"you re \"\n",
    ")\n",
    "\n",
    "def filter_pair(p):\n",
    "    return len(p[0].split(' ')) < MAX_LENGTH and len(p[1].split(' ')) < MAX_LENGTH and \\\n",
    "        p[1].startswith(good_prefixes)\n",
    "\n",
    "def filter_pairs(pairs):\n",
    "    return [pair for pair in pairs if filter_pair(pair)]"
   ]
  },
  {
   "cell_type": "markdown",
   "metadata": {},
   "source": [
    "Em suma, o processo de preparação dos dados é:\n",
    "* Ler o arquivo texto e separá-lo em linhas e depois dividir as linhas em pares.\n",
    "* Normalizar o texto, filtrar por comprimento e conteúdo.\n",
    "* Converter os pares de sentenças em listas de palavras."
   ]
  },
  {
   "cell_type": "code",
   "execution_count": 9,
   "metadata": {
    "ExecuteTime": {
     "end_time": "2017-10-18T13:16:56.554508",
     "start_time": "2017-10-18T13:16:51.734802"
    }
   },
   "outputs": [
    {
     "name": "stdout",
     "output_type": "stream",
     "text": [
      "Lendo Linhas...\n",
      "Lendo par de sentenças 110158\n",
      "Removendo espaços do par de sentenças 1773\n",
      "Indexando palavras...\n"
     ]
    }
   ],
   "source": [
    "def prepare_data(lang1_name, lang2_name, reverse=False):\n",
    "    input_lang, output_lang, pairs = read_langs(lang1_name, lang2_name, reverse)\n",
    "    print(\"Lendo par de sentenças %s\" % len(pairs))\n",
    "    \n",
    "    pairs = filter_pairs(pairs)\n",
    "    print(\"Removendo espaços do par de sentenças %s\" % len(pairs))\n",
    "    \n",
    "    print(\"Indexando palavras...\")\n",
    "    for pair in pairs:\n",
    "        input_lang.index_words(pair[0])\n",
    "        output_lang.index_words(pair[1])\n",
    "\n",
    "    return input_lang, output_lang, pairs\n",
    "\n",
    "input_lang, output_lang, pairs = prepare_data('eng', 'por', True)"
   ]
  },
  {
   "cell_type": "code",
   "execution_count": 10,
   "metadata": {
    "ExecuteTime": {
     "end_time": "2017-10-18T13:16:56.554508",
     "start_time": "2017-10-18T13:16:51.734802"
    }
   },
   "outputs": [
    {
     "name": "stdout",
     "output_type": "stream",
     "text": [
      "['eu sou um estranho aqui .', 'i am a stranger here .']\n"
     ]
    }
   ],
   "source": [
    "# Imprime um par exemplo\n",
    "print(random.choice(pairs))"
   ]
  },
  {
   "cell_type": "code",
   "execution_count": 11,
   "metadata": {
    "ExecuteTime": {
     "end_time": "2017-10-18T13:16:56.566093",
     "start_time": "2017-10-18T13:16:56.556318"
    },
    "collapsed": true
   },
   "outputs": [],
   "source": [
    "# Retorna uma lista de índices, um para cada palavra na sentença.\n",
    "def indexes_from_sentence(lang, sentence):\n",
    "    return [lang.word2index[word] for word in sentence.split(' ')]\n",
    "\n",
    "def variable_from_sentence(lang, sentence):\n",
    "    indexes = indexes_from_sentence(lang, sentence)\n",
    "    indexes.append(EOS_token)\n",
    "    var = Variable(torch.LongTensor(indexes).view(-1, 1))\n",
    "    if use_gpu: var = var.cuda()\n",
    "    return var\n",
    "\n",
    "def variables_from_pair(pair):\n",
    "    input_variable = variable_from_sentence(input_lang, pair[0])\n",
    "    target_variable = variable_from_sentence(output_lang, pair[1])\n",
    "    return (input_variable, target_variable)"
   ]
  },
  {
   "cell_type": "markdown",
   "metadata": {},
   "source": [
    "## Convertendo o dataset de treino em Tensores"
   ]
  },
  {
   "cell_type": "markdown",
   "metadata": {},
   "source": [
    "Para treinar uma rede neural precisamos converter as sentenças (strings) em algo que a rede entenda (tensores). Cada sentença será dividida em palavras. Cada palavra será convertida para um índice (que é nada mais que um número inteiro) e isso que é feito pela classe \"Lang\", como explicado anteriormente. Após converter todas as palavras em índices, um símbolo chamado de EOS (End-of-Sequence, fim da sequência) é adicionado ao fim da sequência. Este símbolo é a forma de indicarmos para a rede neural que a sequência terminou.\n",
    "\n",
    "![](https://i.imgur.com/LzocpGH.png)\n",
    "\n",
    "Um Tensor é um array númerico multi-dimensional e que possui um tipo, por exemplo, Float ou Long. Iremos usar tensores do tipo Long para representar os índices do array.\n",
    "\n",
    "As redes neurais em pytorch tem como entrada objetos do tipo Variable, que são que tensores que armazenam o  estado do grafo. Isso torna possível o cálculo automático dos gradientes."
   ]
  },
  {
   "cell_type": "markdown",
   "metadata": {},
   "source": [
    "# Construindo os modelos"
   ]
  },
  {
   "cell_type": "markdown",
   "metadata": {},
   "source": [
    "## O Codificador"
   ]
  },
  {
   "cell_type": "markdown",
   "metadata": {},
   "source": [
    "O codificador de uma rede seq2seq é uma RNN que produz um vetor saída e um vetor de estado para cada palavra da sequência de entrada.\n",
    "\n",
    "<img src=\"../figures/encoder-network.png\" />"
   ]
  },
  {
   "cell_type": "code",
   "execution_count": 12,
   "metadata": {
    "ExecuteTime": {
     "end_time": "2017-10-18T13:16:56.581322",
     "start_time": "2017-10-18T13:16:56.567999"
    },
    "collapsed": true
   },
   "outputs": [],
   "source": [
    "class EncoderRNN(nn.Module):\n",
    "    def __init__(self, input_size, hidden_size, n_layers=1):\n",
    "        super(EncoderRNN, self).__init__()\n",
    "        \n",
    "        self.input_size = input_size\n",
    "        self.hidden_size = hidden_size\n",
    "        self.n_layers = n_layers\n",
    "        \n",
    "        self.embedding = nn.Embedding(input_size, hidden_size)\n",
    "        self.gru = nn.GRU(hidden_size, hidden_size, n_layers)\n",
    "        \n",
    "    def forward(self, word_inputs, hidden):\n",
    "        # Nota: está função é executado de uma só vez em toda a sequência de entrada.\n",
    "        seq_len = len(word_inputs)\n",
    "        embedded = self.embedding(word_inputs).view(seq_len, 1, -1)\n",
    "        output, hidden = self.gru(embedded, hidden)\n",
    "        return output, hidden\n",
    "\n",
    "    def init_hidden(self):\n",
    "        hidden = Variable(torch.zeros(self.n_layers, 1, self.hidden_size))\n",
    "        if use_gpu: hidden = hidden.cuda()\n",
    "        return hidden"
   ]
  },
  {
   "cell_type": "markdown",
   "metadata": {},
   "source": [
    "## Decodificador com Mecanismo de Atenção"
   ]
  },
  {
   "cell_type": "markdown",
   "metadata": {},
   "source": [
    "### Interpretando o modelo de Bahdanau et al."
   ]
  },
  {
   "cell_type": "markdown",
   "metadata": {},
   "source": [
    "O mecanismo de atenção (https://arxiv.org/abs/1409.0473) é descrito a seguir pelas equações abaixo.\n",
    "\n",
    "Cada saída do decodificador é condicionada pelas saídas anteriores e alguns $\\mathbf x$, onde $\\mathbf x$ consiste nos vetores de estado atuais (os quais codificam as saídas anteriores) e o \"contexto\" de atenção, o qual é calculado abaixo. A função $g$ é uma camada fully-connected com ativação não-linear que tem como entrada os vetores $y_{i-1}$, $s_i$, e $c_i$ concatenados.\n",
    "\n",
    "$$\n",
    "p(y_i \\mid \\{y_1,...,y_{i-1}\\},\\mathbf{x}) = g(y_{i-1}, s_i, c_i)\n",
    "$$\n",
    "\n",
    "O vetor de estado atual $s_i$ é calculado por uma RNN $f$ usando o vetor de estado anterior $s_{i-1}$, a última saída do decodificador $y_{i-1}$, e o vetor de contexto $c_i$.\n",
    "\n",
    "No código, a RNN será uma camada do tipo `nn.GRU`, o vetor de estado $s_i$ será chamado de `hidden`, a sáida $y_i$ será chamada `output`, e o contexto $c_i$ será chamado `context`.\n",
    "\n",
    "$$\n",
    "s_i = f(s_{i-1}, y_{i-1}, c_i)\n",
    "$$\n",
    "\n",
    "O vetor de contexto $c_i$ é a soma ponderada de todas as saídas do codificador, onde cada peso $a_{ij}$ é a quantidade de atenção \"attention\" que é prestada ao vetor $h_j$.\n",
    "\n",
    "$$\n",
    "c_i = \\sum_{j=1}^{T_x} a_{ij} h_j\n",
    "$$\n",
    "\n",
    "... onde cada peso $a_{ij}$ é a \"pontuação\" $e_{ij}$ normalizada ...\n",
    "\n",
    "$$\n",
    "a_{ij} = \\dfrac{exp(e_{ij})}{\\sum_{k=1}^{T} exp(e_{ik})}\n",
    "$$\n",
    "\n",
    "... onde cada pontuação é calculada como usando uma função $a$ (como uma outra camada linear) que tem como entrada o último vetor de estado $s_{i-1}$ e a saída do codificador $h_j$:\n",
    "\n",
    "$$\n",
    "e_{ij} = a(s_{i-1}, h_j)\n",
    "$$"
   ]
  },
  {
   "cell_type": "markdown",
   "metadata": {},
   "source": [
    "### Implementando o modelo de Bahdanau et al."
   ]
  },
  {
   "cell_type": "markdown",
   "metadata": {},
   "source": [
    "Em suma, nosso decodificador consiste em quatro módulos principais: - uma camada de embedding que converte uma palavra (string) em um vetor; uma camada que calcula a pontuação para cada saída do codificador; uma camada RNN; e uma camada de saída.\n",
    "\n",
    "As entradas do decodificador são o último vetor de estado da RNN $s_{i-1}$, última saida do decodificador $y_{i-1}$, e todas as entradas do codificador $h_*$.\n",
    "\n",
    "* Camada embedding com entradas $y_{i-1}$\n",
    "    * `embedded = embedding(last_rnn_output)`\n",
    "* Camada de atenção $a$ com entradas $(s_{i-1}, h_j)$ e saídas $e_{ij}$, normalizadas de maneira a criar $a_{ij}$\n",
    "    * `attn_energies[j] = attn_layer(last_hidden, encoder_outputs[j])`\n",
    "    * `attn_weights = normalize(attn_energies)`\n",
    "* Vetor de contexto $c_i$, que é a média ponderada das saídas do codificador de acordo com os pesos atribuídos pelo mecanismo de atenção.\n",
    "    * `context = sum(attn_weights * encoder_outputs)`\n",
    "* Camada(s) RNN $f$ com entradas $(s_{i-1}, y_{i-1}, c_i)$ e vetores de estados, resultantes em $s_i$\n",
    "    * `rnn_input = concat(embedded, context)`\n",
    "    * `rnn_output, rnn_hidden = rnn(rnn_input, last_hidden)`\n",
    "* Camada de saída $g$ com entradas $(y_{i-1}, s_i, c_i)$, e saída $y_i$\n",
    "    * `output = out(embedded, rnn_output, context)`"
   ]
  },
  {
   "cell_type": "code",
   "execution_count": 13,
   "metadata": {
    "ExecuteTime": {
     "end_time": "2017-10-18T13:16:56.637332",
     "start_time": "2017-10-18T13:16:56.583111"
    },
    "collapsed": true
   },
   "outputs": [],
   "source": [
    "class BahdanauAttnDecoderRNN(nn.Module):\n",
    "    def __init__(self, hidden_size, output_size, n_layers=1, dropout_p=0.1):\n",
    "        super(AttnDecoderRNN, self).__init__()\n",
    "        \n",
    "        # Define os parâmetros\n",
    "        self.hidden_size = hidden_size\n",
    "        self.output_size = output_size\n",
    "        self.n_layers = n_layers\n",
    "        self.dropout_p = dropout_p\n",
    "        self.max_length = max_length\n",
    "        \n",
    "        # Define as camadas\n",
    "        self.embedding = nn.Embedding(output_size, hidden_size)\n",
    "        self.dropout = nn.Dropout(dropout_p)\n",
    "        self.attn = GeneralAttn(hidden_size)\n",
    "        self.gru = nn.GRU(hidden_size * 2, hidden_size, n_layers, dropout=dropout_p)\n",
    "        self.out = nn.Linear(hidden_size, output_size)\n",
    "    \n",
    "    def forward(self, word_input, last_hidden, encoder_outputs):\n",
    "        # Note que esta função roda o decodificador por apenas um passo mas usa todas as saídas do codificador.\n",
    "        \n",
    "        # Converte a última palavra escolhida pelo decodificador para um vetor (embedding)\n",
    "        word_embedded = self.embedding(word_input).view(1, 1, -1) # S=1 x B x N\n",
    "        word_embedded = self.dropout(word_embedded)\n",
    "        \n",
    "        # Calcula os pesos de atenção e aplica-os as saídas do codificador.\n",
    "        attn_weights = self.attn(last_hidden[-1], encoder_outputs)\n",
    "        context = attn_weights.bmm(encoder_outputs.transpose(0, 1)) # B x 1 x N\n",
    "        \n",
    "        # Concatena o vetor da palavra de entrada com o vetor de contexto de atenção, e envia-os para a RNN\n",
    "        rnn_input = torch.cat((word_embedded, context), 2)\n",
    "        output, hidden = self.gru(rnn_input, last_hidden)\n",
    "        \n",
    "        # Camada de saída final\n",
    "        output = output.squeeze(0) # B x N\n",
    "        output = F.log_softmax(self.out(torch.cat((output, context), 1)))\n",
    "        \n",
    "        # Retorna saída final (palavra escolhida), vetor de estado, e pesos do mecanismo de atenção (para visualização)\n",
    "        return output, hidden, attn_weights"
   ]
  },
  {
   "cell_type": "markdown",
   "metadata": {},
   "source": [
    "### Interpretando os modelos de Luong et al."
   ]
  },
  {
   "cell_type": "markdown",
   "metadata": {},
   "source": [
    "O artigo [Effective Approaches to Attention-based Neural Machine Translation](https://arxiv.org/abs/1508.04025) por Luong et al. descreve outros modelos de atenção que possuem melhores resultados e algumas simplicações. Eles descrevem alguns modelos de \"atenção global\", que diferem do original na forma como as pontuações de atenção são calculadas.\n",
    "\n",
    "De maneira geral, o cálculo dos pesos de atenção depende do vetor de estado produzido pelo decodificador e de todos os vetores de estado produzidos pelo codificador. Uma normalização para que a soma dos pesos seja 1 é feita em seguida.\n",
    "\n",
    "$$\n",
    "a_t(s) = align(h_t, \\bar h_s)  = \\dfrac{exp(score(h_t, \\bar h_s))}{\\sum_{s'} exp(score(h_t, \\bar h_{s'}))}\n",
    "$$\n",
    "\n",
    "A função \"score\" que compara os dois estados pode ser: *dot*, o produto escalar entre esses dois vetores (*dot*); *general*, um produto escalar entre o vetor de estado do decodificador e uma transformação linear do vetor de estado do codificador; ou *concat*, um produto escalar entre um novo parâmetro $v_a$ e uma transformação linear dos vetores de estados concatenados.\n",
    "\n",
    "$$\n",
    "score(h_t, \\bar h_s) =\n",
    "\\begin{cases}\n",
    "h_t ^\\top \\bar h_s & dot \\\\\n",
    "h_t ^\\top \\textbf{W}_a \\bar h_s & general \\\\\n",
    "v_a ^\\top \\textbf{W}_a [ h_t ; \\bar h_s ] & concat\n",
    "\\end{cases}\n",
    "$$\n",
    "\n",
    "A definição dessas funções nos dá a oportunidade de criar módulos de atenção específicos. A entrada para este módulo é sempre o vetor de estado do decoficador e as saídas do codificador."
   ]
  },
  {
   "cell_type": "code",
   "execution_count": 14,
   "metadata": {
    "ExecuteTime": {
     "end_time": "2017-10-18T13:16:56.689476",
     "start_time": "2017-10-18T13:16:56.649298"
    },
    "collapsed": true
   },
   "outputs": [],
   "source": [
    "class Attn(nn.Module):\n",
    "    def __init__(self, method, hidden_size, max_length=MAX_LENGTH):\n",
    "        super(Attn, self).__init__()\n",
    "        \n",
    "        self.method = method\n",
    "        self.hidden_size = hidden_size\n",
    "        \n",
    "        if self.method == 'general':\n",
    "            self.attn = nn.Linear(self.hidden_size, hidden_size)\n",
    "\n",
    "        elif self.method == 'concat':\n",
    "            self.attn = nn.Linear(self.hidden_size * 2, hidden_size)\n",
    "            self.other = nn.Parameter(torch.FloatTensor(1, hidden_size))\n",
    "\n",
    "    def forward(self, hidden, encoder_outputs):\n",
    "        seq_len = len(encoder_outputs)\n",
    "\n",
    "        # Cria variável para amarzenar os pesos calculados pelo mecanismo de atenção.\n",
    "        attn_energies = Variable(torch.zeros(seq_len)) # B x 1 x S\n",
    "        if use_gpu: attn_energies = attn_energies.cuda()\n",
    "\n",
    "        # Calcula os pesos para cada saída do codificador.\n",
    "        for i in range(seq_len):\n",
    "            attn_energies[i] = self.score(hidden.squeeze(0), encoder_outputs[i].squeeze(0))\n",
    "\n",
    "        # Normaliza os pesos para ficarem entre 0 e 1, redimensiona para 1 x 1 x seq_len\n",
    "        return F.softmax(attn_energies).unsqueeze(0).unsqueeze(0)\n",
    "    \n",
    "    def score(self, hidden, encoder_output):\n",
    "        \n",
    "        if self.method == 'dot':\n",
    "            energy = hidden.dot(encoder_output)\n",
    "            return energy\n",
    "        \n",
    "        elif self.method == 'general':\n",
    "            energy = self.attn(encoder_output)\n",
    "            energy = hidden.dot(energy)\n",
    "            return energy\n",
    "        \n",
    "        elif self.method == 'concat':\n",
    "            energy = self.attn(torch.cat((hidden, encoder_output), 1))\n",
    "            energy = self.other.dot(energy)\n",
    "            return energy"
   ]
  },
  {
   "cell_type": "markdown",
   "metadata": {},
   "source": [
    "Agora podemos criar um decodificador que usa esse módulo de atenção após a chamada da RNN. Este módulo calculará os pesos e fará a soma ponderada das saídas do codificador usando esses pesos para obter o vetor de contexto."
   ]
  },
  {
   "cell_type": "code",
   "execution_count": 15,
   "metadata": {
    "ExecuteTime": {
     "end_time": "2017-10-18T13:16:56.720359",
     "start_time": "2017-10-18T13:16:56.691386"
    },
    "collapsed": true
   },
   "outputs": [],
   "source": [
    "class AttnDecoderRNN(nn.Module):\n",
    "    def __init__(self, attn_model, hidden_size, output_size, n_layers=1, dropout_p=0.1):\n",
    "        super(AttnDecoderRNN, self).__init__()\n",
    "        \n",
    "        # Mantém os parâmetros para referências futuras.\n",
    "        self.attn_model = attn_model\n",
    "        self.hidden_size = hidden_size\n",
    "        self.output_size = output_size\n",
    "        self.n_layers = n_layers\n",
    "        self.dropout_p = dropout_p\n",
    "        \n",
    "        # Define as camadas.\n",
    "        self.embedding = nn.Embedding(output_size, hidden_size)\n",
    "        self.gru = nn.GRU(hidden_size * 2, hidden_size, n_layers, dropout=dropout_p)\n",
    "        self.out = nn.Linear(hidden_size * 2, output_size)\n",
    "        \n",
    "        # Escolhe o modelo de atenção\n",
    "        if attn_model != 'none':\n",
    "            self.attn = Attn(attn_model, hidden_size)\n",
    "    \n",
    "    def forward(self, word_input, last_context, last_hidden, encoder_outputs):\n",
    "        # Nota: rodamos essa função a cada passo\n",
    "        \n",
    "        # Transforma palavra atual em vetor (embedding)\n",
    "        word_embedded = self.embedding(word_input).view(1, 1, -1) # S=1 x B x N\n",
    "        \n",
    "        # Combina o vetor da palavra com o último vetor de contexto e roda a RNN\n",
    "        rnn_input = torch.cat((word_embedded, last_context.unsqueeze(0)), 2)\n",
    "        rnn_output, hidden = self.gru(rnn_input, last_hidden)\n",
    "\n",
    "        # Calcula os pesos do mecanismo de atenção usando o vetor de estado atual e todas as saídas do codificador\n",
    "        attn_weights = self.attn(rnn_output.squeeze(0), encoder_outputs)\n",
    "        # Aplica os pesos nos vetores do codificador\n",
    "        context = attn_weights.bmm(encoder_outputs.transpose(0, 1)) # B x 1 x N\n",
    "        \n",
    "        # Camada final (predição da próxima palavra) usando o vetor de estado da RNN e o vetor de contexto.\n",
    "        rnn_output = rnn_output.squeeze(0) # S=1 x B x N -> B x N\n",
    "        context = context.squeeze(1)       # B x S=1 x N -> B x N\n",
    "        output = F.log_softmax(self.out(torch.cat((rnn_output, context), 1)))\n",
    "        \n",
    "        # Retorna a palavra selecionada, vetor de estado, e pesos do mecanismo de atenção (para visualização)\n",
    "        return output, context, hidden, attn_weights"
   ]
  },
  {
   "cell_type": "markdown",
   "metadata": {},
   "source": [
    "### Testando os modelos"
   ]
  },
  {
   "cell_type": "markdown",
   "metadata": {},
   "source": [
    "Para garantir que o codificador e o decodificador estejam funcionando, iremos fazer um teste rápido com entradas artificiais:"
   ]
  },
  {
   "cell_type": "code",
   "execution_count": 16,
   "metadata": {
    "ExecuteTime": {
     "end_time": "2017-10-18T13:16:56.768491",
     "start_time": "2017-10-18T13:16:56.722199"
    },
    "scrolled": false
   },
   "outputs": [
    {
     "name": "stdout",
     "output_type": "stream",
     "text": [
      "EncoderRNN (\n",
      "  (embedding): Embedding(10, 10)\n",
      "  (gru): GRU(10, 10, num_layers=2)\n",
      ")\n",
      "AttnDecoderRNN (\n",
      "  (embedding): Embedding(10, 10)\n",
      "  (gru): GRU(20, 10, num_layers=2, dropout=0.1)\n",
      "  (out): Linear (20 -> 10)\n",
      "  (attn): Attn (\n",
      "    (attn): Linear (10 -> 10)\n",
      "  )\n",
      ")\n",
      "torch.Size([1, 10]) torch.Size([2, 1, 10]) torch.Size([1, 1, 3])\n",
      "torch.Size([1, 10]) torch.Size([2, 1, 10]) torch.Size([1, 1, 3])\n",
      "torch.Size([1, 10]) torch.Size([2, 1, 10]) torch.Size([1, 1, 3])\n"
     ]
    }
   ],
   "source": [
    "encoder_test = EncoderRNN(10, 10, 2)\n",
    "decoder_test = AttnDecoderRNN('general', 10, 10, 2)\n",
    "print(encoder_test)\n",
    "print(decoder_test)\n",
    "\n",
    "encoder_hidden = encoder_test.init_hidden()\n",
    "word_input = Variable(torch.LongTensor([1, 2, 3]))\n",
    "if use_gpu:\n",
    "    encoder_test.cuda()\n",
    "    word_input = word_input.cuda()\n",
    "encoder_outputs, encoder_hidden = encoder_test(word_input, encoder_hidden)\n",
    "\n",
    "word_inputs = Variable(torch.LongTensor([1, 2, 3]))\n",
    "decoder_attns = torch.zeros(1, 3, 3)\n",
    "decoder_hidden = encoder_hidden\n",
    "decoder_context = Variable(torch.zeros(1, decoder_test.hidden_size))\n",
    "\n",
    "if use_gpu:\n",
    "    decoder_test.cuda()\n",
    "    word_inputs = word_inputs.cuda()\n",
    "    decoder_context = decoder_context.cuda()\n",
    "\n",
    "for i in range(3):\n",
    "    decoder_output, decoder_context, decoder_hidden, decoder_attn = decoder_test(word_inputs[i], decoder_context, decoder_hidden, encoder_outputs)\n",
    "    print(decoder_output.size(), decoder_hidden.size(), decoder_attn.size())\n",
    "    decoder_attns[0, i] = decoder_attn.squeeze(0).cpu().data"
   ]
  },
  {
   "cell_type": "markdown",
   "metadata": {},
   "source": [
    "# Treinamento"
   ]
  },
  {
   "cell_type": "markdown",
   "metadata": {},
   "source": [
    "## Definindo uma iteração"
   ]
  },
  {
   "cell_type": "markdown",
   "metadata": {},
   "source": [
    "Para treinar, primeiramente entramos com a sentença original no codificador, palavra por palavra, e mantemos cada saída e o último vetor de estado. Em seguida, o último vetor de estado do codificador é usado como o primeiro vetor de estado do decodificador e o símbolo `<SOS>` (Start Of Sequence, início da sequência) é dado como primeira palavra de entrada. A partir daí, iremos iterar o decodificador para prever as próximas palavras."
   ]
  },
  {
   "cell_type": "markdown",
   "metadata": {},
   "source": [
    "### Aprendizado Supervisionado e Scheduled Sampling"
   ]
  },
  {
   "cell_type": "markdown",
   "metadata": {},
   "source": [
    "No aprendizado supervisionado (também chamado de \"Teacher Forcing\" ou maximum likelihood sampling) uma saída \"real\" é usada como sinal de treino para o modelo. Uma alternativa seria usar a própria predição do decodificador como próxima entrada.\n",
    "\n",
    "As saídas das redes treinadas com supervisão frequentemente geram traduções que são corretas gramaticalmente mas erradas do ponto de vista semântico. É como se a rede tivesse aprendido a prestar atenção nas instruções do professor mas não consegue criar frases próprias.\n",
    "\n",
    "Uma solução para este problema é método de [Scheduled Sampling](https://arxiv.org/abs/1506.03099), que alterna entre valores preditos pela rede e os sinais de supervisão durante o treinamento. Durante o treinameto, iremos escolher aleatoriamente quando usar um sinal supervisionado e quando seguir a própria predição da rede."
   ]
  },
  {
   "cell_type": "code",
   "execution_count": 17,
   "metadata": {
    "ExecuteTime": {
     "end_time": "2017-10-18T13:16:56.817781",
     "start_time": "2017-10-18T13:16:56.770442"
    },
    "collapsed": true
   },
   "outputs": [],
   "source": [
    "teacher_forcing_ratio = 0.5\n",
    "clip = 5.0\n",
    "\n",
    "def train(input_variable, target_variable, encoder, decoder, encoder_optimizer, decoder_optimizer, criterion, max_length=MAX_LENGTH):\n",
    "\n",
    "    # Zerar os gradientes\n",
    "    encoder_optimizer.zero_grad()\n",
    "    decoder_optimizer.zero_grad()\n",
    "    loss = 0\n",
    "\n",
    "    # Obter o tamanho das sentenças de entrada e reais\n",
    "    input_length = input_variable.size()[0]\n",
    "    target_length = target_variable.size()[0]\n",
    "\n",
    "    # Codificar\n",
    "    encoder_hidden = encoder.init_hidden()\n",
    "    encoder_outputs, encoder_hidden = encoder(input_variable, encoder_hidden)\n",
    "    \n",
    "    # Preparar entradas para o decodificador\n",
    "    decoder_input = Variable(torch.LongTensor([[SOS_token]]))\n",
    "    decoder_context = Variable(torch.zeros(1, decoder.hidden_size))\n",
    "    decoder_hidden = encoder_hidden # Use last hidden state from encoder to start decoder\n",
    "    if use_gpu:\n",
    "        decoder_input = decoder_input.cuda()\n",
    "        decoder_context = decoder_context.cuda()\n",
    "\n",
    "    # Escolher se iremos usar sinal supervisionado (teacher forcing)\n",
    "    use_teacher_forcing = random.random() < teacher_forcing_ratio\n",
    "    if use_teacher_forcing:\n",
    "        \n",
    "        # Teacher forcing: use a palavra \"real/verdadeira\" como próxima entrada.\n",
    "        for di in range(target_length):\n",
    "            decoder_output, decoder_context, decoder_hidden, decoder_attention = decoder(decoder_input, decoder_context, decoder_hidden, encoder_outputs)\n",
    "            loss += criterion(decoder_output, target_variable[di])\n",
    "            decoder_input = target_variable[di] # Next target is next input\n",
    "\n",
    "    else:\n",
    "        # Sem teacher forcing: use a última predição da rede como próxima entrada.\n",
    "        for di in range(target_length):\n",
    "            decoder_output, decoder_context, decoder_hidden, decoder_attention = decoder(decoder_input, decoder_context, decoder_hidden, encoder_outputs)\n",
    "            loss += criterion(decoder_output, target_variable[di])\n",
    "            \n",
    "            # Use a palavra com maior probabilidade como saída\n",
    "            topv, topi = decoder_output.data.topk(1)\n",
    "            ni = topi[0][0]\n",
    "            \n",
    "            decoder_input = Variable(torch.LongTensor([[ni]])) # Palavra escolhida será a próxima entrada\n",
    "            if use_gpu: decoder_input = decoder_input.cuda()\n",
    "\n",
    "            # Pare caso o símbolo de EOS (End-Of-Sequence) foi escolhido.\n",
    "            if ni == EOS_token: break\n",
    "\n",
    "    # Backpropagation\n",
    "    loss.backward()\n",
    "    torch.nn.utils.clip_grad_norm(encoder.parameters(), clip)\n",
    "    torch.nn.utils.clip_grad_norm(decoder.parameters(), clip)\n",
    "    encoder_optimizer.step()\n",
    "    decoder_optimizer.step()\n",
    "    \n",
    "    return loss.data[0] / target_length"
   ]
  },
  {
   "cell_type": "markdown",
   "metadata": {},
   "source": [
    "Algumas funções auxiliares para imprimir os tempos de processamento e progresso."
   ]
  },
  {
   "cell_type": "code",
   "execution_count": 18,
   "metadata": {
    "ExecuteTime": {
     "end_time": "2017-10-18T13:16:56.826201",
     "start_time": "2017-10-18T13:16:56.819790"
    },
    "collapsed": true
   },
   "outputs": [],
   "source": [
    "def as_minutes(s):\n",
    "    m = math.floor(s / 60)\n",
    "    s -= m * 60\n",
    "    return '%dm %ds' % (m, s)\n",
    "\n",
    "def time_since(since, percent):\n",
    "    now = time.time()\n",
    "    s = now - since\n",
    "    es = s / max(0.0001,percent)\n",
    "    rs = es - s\n",
    "    return '%s (- %s)' % (as_minutes(s), as_minutes(rs))"
   ]
  },
  {
   "cell_type": "markdown",
   "metadata": {},
   "source": [
    "## Treinando"
   ]
  },
  {
   "cell_type": "markdown",
   "metadata": {},
   "source": [
    "Finalmente, podemos iniciar o treino."
   ]
  },
  {
   "cell_type": "code",
   "execution_count": 19,
   "metadata": {
    "ExecuteTime": {
     "end_time": "2017-10-18T13:16:56.977352",
     "start_time": "2017-10-18T13:16:56.828388"
    },
    "collapsed": true
   },
   "outputs": [],
   "source": [
    "attn_model = 'general'\n",
    "hidden_size = 500\n",
    "n_layers = 2\n",
    "dropout_p = 0.05\n",
    "\n",
    "# Inicializa os modelos\n",
    "encoder = EncoderRNN(input_lang.n_words, hidden_size, n_layers)\n",
    "decoder = AttnDecoderRNN(attn_model, hidden_size, output_lang.n_words, n_layers, dropout_p=dropout_p)\n",
    "\n",
    "# Move os modelos para a GPU\n",
    "if use_gpu:\n",
    "    encoder.cuda()\n",
    "    decoder.cuda()\n",
    "\n",
    "# Inicializa os otimizadores e função de custo (aqui chamada de criterion)\n",
    "learning_rate = 0.0001\n",
    "encoder_optimizer = optim.Adam(encoder.parameters(), lr=learning_rate)\n",
    "decoder_optimizer = optim.Adam(decoder.parameters(), lr=learning_rate)\n",
    "criterion = nn.NLLLoss()"
   ]
  },
  {
   "cell_type": "markdown",
   "metadata": {},
   "source": [
    "Configura as variáveis de treino e monitoramento:"
   ]
  },
  {
   "cell_type": "code",
   "execution_count": 20,
   "metadata": {
    "ExecuteTime": {
     "end_time": "2017-10-18T13:16:56.983809",
     "start_time": "2017-10-18T13:16:56.979015"
    },
    "collapsed": true
   },
   "outputs": [],
   "source": [
    "n_epochs = 50000\n",
    "plot_every = 200\n",
    "print_every = 1000\n",
    "\n",
    "# mantenha o tempo gasto e custo médio por iteração\n",
    "start = time.time()\n",
    "plot_losses = []\n",
    "print_loss_total = 0\n",
    "plot_loss_total = 0"
   ]
  },
  {
   "cell_type": "markdown",
   "metadata": {},
   "source": [
    "Para treinar, podemos chamar a função \"train\" várias vezes, que imprimirá um resumo cada vez que for interrompida."
   ]
  },
  {
   "cell_type": "code",
   "execution_count": 21,
   "metadata": {
    "ExecuteTime": {
     "end_time": "2017-10-18T13:17:34.085668",
     "start_time": "2017-10-18T13:16:56.985873"
    },
    "scrolled": false
   },
   "outputs": [
    {
     "name": "stdout",
     "output_type": "stream",
     "text": [
      "0m 35s (- 29m 6s) (1000 2%) 3.0907\n",
      "1m 12s (- 28m 51s) (2000 4%) 2.5510\n",
      "1m 49s (- 28m 33s) (3000 6%) 2.2796\n",
      "2m 27s (- 28m 18s) (4000 8%) 2.0324\n",
      "3m 5s (- 27m 51s) (5000 10%) 1.8022\n",
      "3m 44s (- 27m 23s) (6000 12%) 1.5597\n",
      "4m 22s (- 26m 54s) (7000 14%) 1.4458\n",
      "5m 1s (- 26m 20s) (8000 16%) 1.2756\n",
      "5m 39s (- 25m 46s) (9000 18%) 1.0543\n"
     ]
    }
   ],
   "source": [
    "# Começa!\n",
    "try:\n",
    "    for epoch in range(1, n_epochs + 1):\n",
    "\n",
    "        # Amostra dados de treino para esta época.\n",
    "        training_pair = variables_from_pair(random.choice(pairs))\n",
    "        input_variable = training_pair[0]\n",
    "        target_variable = training_pair[1]\n",
    "\n",
    "        # Roda a função de treino.\n",
    "        loss = train(input_variable, target_variable, encoder, decoder, encoder_optimizer, decoder_optimizer, criterion)\n",
    "\n",
    "        print_loss_total += loss\n",
    "        plot_loss_total += loss\n",
    "\n",
    "        if epoch == 0: continue\n",
    "\n",
    "        if epoch % print_every == 0:\n",
    "            print_loss_avg = print_loss_total / print_every\n",
    "            print_loss_total = 0\n",
    "            print_summary = '%s (%d %d%%) %.4f' % (time_since(start, epoch / n_epochs), epoch, epoch / n_epochs * 100, print_loss_avg)\n",
    "            print(print_summary)\n",
    "\n",
    "        if epoch % plot_every == 0:\n",
    "            plot_loss_avg = plot_loss_total / plot_every\n",
    "            plot_losses.append(plot_loss_avg)\n",
    "            plot_loss_total = 0\n",
    "except KeyboardInterrupt:\n",
    "    pass"
   ]
  },
  {
   "cell_type": "markdown",
   "metadata": {},
   "source": [
    "## Visualizando as curvas de custo"
   ]
  },
  {
   "cell_type": "markdown",
   "metadata": {},
   "source": [
    "Usamos o matplotlib e o array `plot_losses`, que foi criado enquanto treinávamos."
   ]
  },
  {
   "cell_type": "code",
   "execution_count": 31,
   "metadata": {
    "ExecuteTime": {
     "end_time": "2017-10-18T13:17:45.829087",
     "start_time": "2017-10-18T13:17:45.448946"
    }
   },
   "outputs": [
    {
     "data": {
      "text/plain": [
       "<matplotlib.figure.Figure at 0x7efe54ecc6a0>"
      ]
     },
     "metadata": {},
     "output_type": "display_data"
    },
    {
     "data": {
      "image/png": "[encoded data removed]",
      "text/plain": [
       "<matplotlib.figure.Figure at 0x7efe51f3b0b8>"
      ]
     },
     "metadata": {},
     "output_type": "display_data"
    }
   ],
   "source": [
    "import matplotlib.pyplot as plt\n",
    "import matplotlib.ticker as ticker\n",
    "import numpy as np\n",
    "%matplotlib inline\n",
    "\n",
    "def show_plot(points):\n",
    "    plt.figure()\n",
    "    fig, ax = plt.subplots()\n",
    "    loc = ticker.MultipleLocator(base=0.2) # coloque ticks em intervalos regulares\n",
    "    ax.yaxis.set_major_locator(loc)\n",
    "    plt.plot(points)\n",
    "\n",
    "show_plot(plot_losses)"
   ]
  },
  {
   "cell_type": "markdown",
   "metadata": {},
   "source": [
    "# Avaliando a rede"
   ]
  },
  {
   "cell_type": "markdown",
   "metadata": {},
   "source": [
    "O procedimento para avaliação é quase o mesmo que o de treinamento, mas agora não existem senteças \"reais\" como referência. Neste caso, as predições do decodificador são sempre usadas como a próxima entrada. Ou seja, toda vez que o decodificador prediz uma palavra, essa palavra será adicionada na string de saída. Se o decodificador predizer o símbolo EOS, a execução será interrompida. Iremos também armazenar os pesos de atenção para visualização."
   ]
  },
  {
   "cell_type": "code",
   "execution_count": 32,
   "metadata": {
    "ExecuteTime": {
     "end_time": "2017-10-18T13:17:46.543612",
     "start_time": "2017-10-18T13:17:46.517333"
    },
    "collapsed": true
   },
   "outputs": [],
   "source": [
    "def evaluate(sentence, max_length=MAX_LENGTH):\n",
    "    input_variable = variable_from_sentence(input_lang, sentence)\n",
    "    input_length = input_variable.size()[0]\n",
    "    \n",
    "    # Codificação\n",
    "    encoder_hidden = encoder.init_hidden()\n",
    "    encoder_outputs, encoder_hidden = encoder(input_variable, encoder_hidden)\n",
    "\n",
    "    # Cria os vetores iniciais para o decodificador.\n",
    "    decoder_input = Variable(torch.LongTensor([[SOS_token]])) # SOS\n",
    "    decoder_context = Variable(torch.zeros(1, decoder.hidden_size))\n",
    "    if use_gpu:\n",
    "        decoder_input = decoder_input.cuda()\n",
    "        decoder_context = decoder_context.cuda()\n",
    "\n",
    "    decoder_hidden = encoder_hidden\n",
    "    \n",
    "    decoded_words = []\n",
    "    decoder_attentions = torch.zeros(max_length, max_length)\n",
    "    \n",
    "    # Decodificação\n",
    "    for di in range(max_length):\n",
    "        decoder_output, decoder_context, decoder_hidden, decoder_attention = decoder(decoder_input, decoder_context, decoder_hidden, encoder_outputs)\n",
    "        decoder_attentions[di,:decoder_attention.size(2)] += decoder_attention.squeeze(0).squeeze(0).cpu().data\n",
    "\n",
    "        # Escolha a palavra com maior probabilidade\n",
    "        topv, topi = decoder_output.data.topk(1)\n",
    "        ni = topi[0][0]\n",
    "        if ni == EOS_token:\n",
    "            decoded_words.append('<EOS>')\n",
    "            break\n",
    "        else:\n",
    "            decoded_words.append(output_lang.index2word[ni])\n",
    "            \n",
    "        # A próxima entrada será a palavra escolhida como saída deste passo.\n",
    "        decoder_input = Variable(torch.LongTensor([[ni]]))\n",
    "        if use_gpu: decoder_input = decoder_input.cuda()\n",
    "    \n",
    "    return decoded_words, decoder_attentions[:di+1, :len(encoder_outputs)]"
   ]
  },
  {
   "cell_type": "markdown",
   "metadata": {},
   "source": [
    "Podemos avaliar sentenças escolhidas aleatóriamente do dataset de treino para fazermos uma análise qualitativa:"
   ]
  },
  {
   "cell_type": "code",
   "execution_count": 33,
   "metadata": {
    "ExecuteTime": {
     "end_time": "2017-10-18T13:17:47.355335",
     "start_time": "2017-10-18T13:17:47.349356"
    },
    "collapsed": true
   },
   "outputs": [],
   "source": [
    "def evaluate_randomly():\n",
    "    pair = random.choice(pairs)\n",
    "    \n",
    "    output_words, decoder_attn = evaluate(pair[0])\n",
    "    output_sentence = ' '.join(output_words)\n",
    "    \n",
    "    print('>', pair[0])\n",
    "    print('=', pair[1])\n",
    "    print('<', output_sentence)\n",
    "    print('')"
   ]
  },
  {
   "cell_type": "code",
   "execution_count": 34,
   "metadata": {
    "ExecuteTime": {
     "end_time": "2017-10-18T13:17:47.833705",
     "start_time": "2017-10-18T13:17:47.766763"
    },
    "scrolled": false
   },
   "outputs": [
    {
     "name": "stdout",
     "output_type": "stream",
     "text": [
      "> voce esta livre para sair .\n",
      "= you are free to go out .\n",
      "< you are free to go out . <EOS>\n",
      "\n"
     ]
    }
   ],
   "source": [
    "evaluate_randomly()"
   ]
  },
  {
   "cell_type": "markdown",
   "metadata": {},
   "source": [
    "# Visualizando o mecanismo de atenção"
   ]
  },
  {
   "cell_type": "markdown",
   "metadata": {},
   "source": [
    "Uma propriedade útil do mecanismo de atenção são as saídas interpretáveis. Os pesos desse mecanismo podem ser usados para availar onde a rede prestou mais atenção em cada passo.\n",
    "\n",
    "Rode `plt.matshow(attentions)` para ver a saída mostrada como uma matriz, onde as colunas são passos de entrada e as linhas são os passos de saída:"
   ]
  },
  {
   "cell_type": "code",
   "execution_count": 35,
   "metadata": {
    "ExecuteTime": {
     "end_time": "2017-10-18T13:17:48.756341",
     "start_time": "2017-10-18T13:17:48.530539"
    }
   },
   "outputs": [
    {
     "data": {
      "text/plain": [
       "<matplotlib.image.AxesImage at 0x7efe532eed68>"
      ]
     },
     "execution_count": 35,
     "metadata": {},
     "output_type": "execute_result"
    },
    {
     "data": {
      "image/png": "[encoded data removed]",
      "text/plain": [
       "<matplotlib.figure.Figure at 0x7efe5327fa90>"
      ]
     },
     "metadata": {},
     "output_type": "display_data"
    }
   ],
   "source": [
    "output_words, attentions = evaluate(\"eu estou com frio .\")\n",
    "plt.matshow(attentions.numpy())"
   ]
  },
  {
   "cell_type": "markdown",
   "metadata": {},
   "source": [
    "Para uma melhor visualização, adicionamos títulos nos eixos e legenda:"
   ]
  },
  {
   "cell_type": "code",
   "execution_count": 36,
   "metadata": {
    "ExecuteTime": {
     "end_time": "2017-10-18T13:17:49.420564",
     "start_time": "2017-10-18T13:17:49.408187"
    },
    "collapsed": true
   },
   "outputs": [],
   "source": [
    "def show_attention(input_sentence, output_words, attentions):\n",
    "    fig = plt.figure()\n",
    "    ax = fig.add_subplot(111)\n",
    "    cax = ax.matshow(attentions.numpy(), cmap='bone')\n",
    "    fig.colorbar(cax)\n",
    "\n",
    "    # Configura eixos\n",
    "    ax.set_xticklabels([''] + input_sentence.split(' ') + ['<EOS>'], rotation=90)\n",
    "    ax.set_yticklabels([''] + output_words)\n",
    "\n",
    "    # Exibe legenda\n",
    "    ax.xaxis.set_major_locator(ticker.MultipleLocator(1))\n",
    "    ax.yaxis.set_major_locator(ticker.MultipleLocator(1))\n",
    "\n",
    "    plt.show()\n",
    "    plt.close()\n",
    "\n",
    "def evaluate_and_show_attention(input_sentence):\n",
    "    output_words, attentions = evaluate(input_sentence)\n",
    "    print('input =', input_sentence)\n",
    "    print('output =', ' '.join(output_words))\n",
    "    show_attention(input_sentence, output_words, attentions)"
   ]
  },
  {
   "cell_type": "code",
   "execution_count": 37,
   "metadata": {
    "ExecuteTime": {
     "end_time": "2017-10-18T13:17:50.222385",
     "start_time": "2017-10-18T13:17:49.838278"
    }
   },
   "outputs": [
    {
     "name": "stdout",
     "output_type": "stream",
     "text": [
      "input = ela tem cinco anos a menos que eu .\n",
      "output = she is less years old . <EOS>\n"
     ]
    },
    {
     "data": {
      "image/png": "[encoded data removed]",
      "text/plain": [
       "<matplotlib.figure.Figure at 0x7efe532dd2e8>"
      ]
     },
     "metadata": {},
     "output_type": "display_data"
    }
   ],
   "source": [
    "evaluate_and_show_attention(\"ela tem cinco anos a menos que eu .\")"
   ]
  },
  {
   "cell_type": "code",
   "execution_count": 38,
   "metadata": {
    "ExecuteTime": {
     "end_time": "2017-10-18T13:17:51.114492",
     "start_time": "2017-10-18T13:17:50.792591"
    }
   },
   "outputs": [
    {
     "name": "stdout",
     "output_type": "stream",
     "text": [
      "input = o carro era muito grande .\n",
      "output = i am badly to play at school . <EOS>\n"
     ]
    },
    {
     "data": {
      "image/png": "[encoded data removed]",
      "text/plain": [
       "<matplotlib.figure.Figure at 0x7efe54e17630>"
      ]
     },
     "metadata": {},
     "output_type": "display_data"
    }
   ],
   "source": [
    "evaluate_and_show_attention(\"o carro era muito grande .\")"
   ]
  },
  {
   "cell_type": "code",
   "execution_count": 39,
   "metadata": {
    "ExecuteTime": {
     "end_time": "2017-10-18T13:17:51.622875",
     "start_time": "2017-10-18T13:17:51.264718"
    }
   },
   "outputs": [
    {
     "name": "stdout",
     "output_type": "stream",
     "text": [
      "input = eu tenho medo de altura .\n",
      "output = i am afraid of dying . <EOS>\n"
     ]
    },
    {
     "data": {
      "image/png": "[encoded data removed]",
      "text/plain": [
       "<matplotlib.figure.Figure at 0x7efe51dcbb38>"
      ]
     },
     "metadata": {},
     "output_type": "display_data"
    }
   ],
   "source": [
    "evaluate_and_show_attention(\"eu tenho medo de altura .\")"
   ]
  },
  {
   "cell_type": "code",
   "execution_count": null,
   "metadata": {
    "collapsed": true
   },
   "outputs": [],
   "source": []
  },
  {
   "cell_type": "code",
   "execution_count": null,
   "metadata": {
    "collapsed": true
   },
   "outputs": [],
   "source": []
  }
 ],
 "metadata": {
  "anaconda-cloud": {},
  "kernelspec": {
   "display_name": "Python 3",
   "language": "python",
   "name": "python3"
  },
  "language_info": {
   "codemirror_mode": {
    "name": "ipython",
    "version": 3
   },
   "file_extension": ".py",
   "mimetype": "text/x-python",
   "name": "python",
   "nbconvert_exporter": "python",
   "pygments_lexer": "ipython3",
   "version": "3.6.0"
  },
  "toc": {
   "colors": {
    "hover_highlight": "#DAA520",
    "running_highlight": "#FF0000",
    "selected_highlight": "#FFD700"
   },
   "moveMenuLeft": true,
   "nav_menu": {
    "height": "447px",
    "width": "252px"
   },
   "navigate_menu": true,
   "number_sections": true,
   "sideBar": true,
   "skip_h1_title": false,
   "threshold": 4,
   "toc_cell": false,
   "toc_position": {},
   "toc_section_display": "block",
   "toc_window_display": false
  }
 },
 "nbformat": 4,
 "nbformat_minor": 1
}
