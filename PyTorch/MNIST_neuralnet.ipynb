{
 "cells": [
  {
   "cell_type": "markdown",
   "metadata": {},
   "source": [
    "# Treinamento com interface de alto nível"
   ]
  },
  {
   "cell_type": "markdown",
   "metadata": {},
   "source": [
    "O objetivo deste notebook é ilustrar o uso da biblioteca `pytorch_trainer` que permite uma programação de mais alto nível.\n",
    "As principais classes e funções implementadas são:\n",
    "- DeepNetTrainer\n",
    "    - **métodos**:\n",
    "        - fit e fit_loader\n",
    "        - evaluate e evaluate_loader\n",
    "        - predict e predict_loader\n",
    "        - predict_classes e predict_classes_loader\n",
    "        - predict_probas e predict_probas_loader\n",
    "        - load_state e save_state\n",
    "\n",
    "Conceito de **callback**:\n",
    "- classe DeepNetTrainer:\n",
    "    - responsável pelo treinamento com praticamente todas as opções possíveis\n",
    "    - uso de 8 entry points para uso de callbacks:\n",
    "        - início de treinamento                     :`on_train_begin`\n",
    "            - início de época                       :`on_epoch_begin`\n",
    "                - início de minibatch de treinamento:`on_batch_begin`\n",
    "                - final de minibatch de treinamento :`on_batch_end`\n",
    "                - início de minibatch de validação  :`on_vbatch_begin`\n",
    "                - final de minibatch de validação   :`on_vbatch_end`\n",
    "            - final de época                        :`on_epoch_end`\n",
    "        - final de treinamento                      :`on_train_end`\n",
    "- classe Callback\n",
    "    - permite a implementação de vários callbacks úteis:\n",
    "        - AccuracyMetric: cálculo da acurácia\n",
    "        - PrintCallback:  impressão das métricas durante treinamento\n",
    "        - ModelCheckpoint:salva modelo sempre que loss de validação é melhor"
   ]
  },
  {
   "cell_type": "markdown",
   "metadata": {
    "ExecuteTime": {
     "end_time": "2017-11-29T19:13:27.530110Z",
     "start_time": "2017-11-29T19:13:27.524742Z"
    }
   },
   "source": [
    "Analise o arquivo da biblioteca `pytorch_trainer`:"
   ]
  },
  {
   "cell_type": "code",
   "execution_count": 1,
   "metadata": {
    "ExecuteTime": {
     "end_time": "2017-11-29T20:30:47.707617Z",
     "start_time": "2017-11-29T20:30:47.677640Z"
    }
   },
   "outputs": [],
   "source": [
    "%pycat lib/pytorch_trainer.py"
   ]
  },
  {
   "cell_type": "markdown",
   "metadata": {},
   "source": [
    "## Importação das bibliotecas"
   ]
  },
  {
   "cell_type": "code",
   "execution_count": 2,
   "metadata": {
    "ExecuteTime": {
     "end_time": "2017-11-29T20:30:48.021731Z",
     "start_time": "2017-11-29T20:30:47.708982Z"
    }
   },
   "outputs": [],
   "source": [
    "%matplotlib inline\n",
    "import matplotlib.pyplot as plt\n",
    "import numpy as np\n",
    "import pandas as pd\n",
    "import os\n",
    "\n",
    "import torch\n",
    "import torch.nn as nn\n",
    "\n",
    "import torchvision\n",
    "\n",
    "import lib.pytorch_trainer as ptt"
   ]
  },
  {
   "cell_type": "markdown",
   "metadata": {},
   "source": [
    "## Leitura do Dataset"
   ]
  },
  {
   "cell_type": "markdown",
   "metadata": {},
   "source": [
    "### Carregamento, normalização e seleção dos dados do MNIST\n"
   ]
  },
  {
   "cell_type": "code",
   "execution_count": 3,
   "metadata": {
    "ExecuteTime": {
     "end_time": "2017-11-29T20:30:48.148741Z",
     "start_time": "2017-11-29T20:30:48.044174Z"
    }
   },
   "outputs": [],
   "source": [
    "dataset_dir = '/data/datasets/MNIST/'\n",
    "\n",
    "x_train, y_train = torch.load(dataset_dir + 'processed/training.pt')\n",
    "x_test,  y_test  = torch.load(dataset_dir + 'processed/test.pt')\n",
    "\n",
    "x_train = x_train.float()\n",
    "x_test  = x_test.float()\n",
    "\n",
    "x_train = x_train / 255.\n",
    "x_test  = x_test  / 255."
   ]
  },
  {
   "cell_type": "markdown",
   "metadata": {},
   "source": [
    "### Poucos dados, apenas para depurar experimento"
   ]
  },
  {
   "cell_type": "code",
   "execution_count": 4,
   "metadata": {
    "ExecuteTime": {
     "end_time": "2017-11-29T20:30:48.154088Z",
     "start_time": "2017-11-29T20:30:48.149852Z"
    }
   },
   "outputs": [],
   "source": [
    "if True:\n",
    "    n_samples_train = 1000\n",
    "    n_samples_test  = 500\n",
    "\n",
    "    x_train = x_train[:n_samples_train]\n",
    "    y_train = y_train[:n_samples_train]\n",
    "    x_test  = x_test[:n_samples_test]\n",
    "    y_test  = y_test[:n_samples_test]"
   ]
  },
  {
   "cell_type": "markdown",
   "metadata": {},
   "source": [
    "## Criação da rede"
   ]
  },
  {
   "cell_type": "code",
   "execution_count": 5,
   "metadata": {
    "ExecuteTime": {
     "end_time": "2017-11-29T20:30:48.163556Z",
     "start_time": "2017-11-29T20:30:48.154884Z"
    }
   },
   "outputs": [],
   "source": [
    "class Model(nn.Module):\n",
    "    def __init__(self):\n",
    "        super().__init__()\n",
    "        self.fc1 = nn.Linear(28 * 28, 50)\n",
    "        self.at1 = nn.ReLU()\n",
    "        self.fc2 = nn.Linear(50, 10)\n",
    "\n",
    "    def forward(self, x):\n",
    "        x = x.view(-1, 28 * 28)\n",
    "        x = self.fc1(x)\n",
    "        x = self.at1(x)\n",
    "        x = self.fc2(x)\n",
    "        return x\n",
    "    \n",
    "model = Model()"
   ]
  },
  {
   "cell_type": "markdown",
   "metadata": {},
   "source": [
    "## Treinamento"
   ]
  },
  {
   "cell_type": "markdown",
   "metadata": {},
   "source": [
    "### Criando o objeto de treinamento"
   ]
  },
  {
   "cell_type": "markdown",
   "metadata": {},
   "source": [
    "A biblioteca 'lib/pytorch_trainer.py' implementa a classe `DeepNetTrainer`, assim como vários *callbacks*:\n",
    "- ModelCheckpoint: usado para salvar o melhor modelo, de menor Loss\n",
    "- AccuracyMetric: calcular a acurácia durante o treinamento\n",
    "- PrintCallback: imprimir dados de cada época durante o treinamento"
   ]
  },
  {
   "cell_type": "code",
   "execution_count": 6,
   "metadata": {
    "ExecuteTime": {
     "end_time": "2017-11-29T20:30:49.258216Z",
     "start_time": "2017-11-29T20:30:48.164425Z"
    }
   },
   "outputs": [],
   "source": [
    "chkpt_cb = ptt.ModelCheckpoint('../../models/MNIST_neuralnet', reset=True, verbose=1)\n",
    "\n",
    "trainer = ptt.DeepNetTrainer(model,\n",
    "                        criterion = nn.CrossEntropyLoss(),\n",
    "                        optimizer = torch.optim.SGD(model.parameters(),lr=0.03),\n",
    "                        callbacks = [ptt.AccuracyMetric(),ptt.PrintCallback(),chkpt_cb]\n",
    "                        )"
   ]
  },
  {
   "cell_type": "code",
   "execution_count": 7,
   "metadata": {
    "ExecuteTime": {
     "end_time": "2017-11-29T20:30:51.259840Z",
     "start_time": "2017-11-29T20:30:49.259221Z"
    }
   },
   "outputs": [
    {
     "name": "stdout",
     "output_type": "stream",
     "text": [
      "Start training for 20 epochs\n",
      "  1:   0.1s   T: 1.96048 0.49100   V: 1.62838 0.58400 best\n",
      "  2:   0.1s   T: 1.11939 0.75600   V: 1.02888 0.75600 best\n",
      "  3:   0.1s   T: 0.71043 0.84200   V: 0.78550 0.77800 best\n",
      "  4:   0.1s   T: 0.53909 0.86500   V: 0.66290 0.81200 best\n",
      "  5:   0.1s   T: 0.45091 0.89200   V: 0.58982 0.82200 best\n",
      "  6:   0.2s   T: 0.38695 0.89700   V: 0.55475 0.82200 best\n",
      "  7:   0.1s   T: 0.35107 0.91000   V: 0.51192 0.84400 best\n",
      "  8:   0.1s   T: 0.31701 0.91300   V: 0.48745 0.84600 best\n",
      "  9:   0.1s   T: 0.28990 0.92700   V: 0.47838 0.83800 best\n",
      " 10:   0.1s   T: 0.26691 0.93100   V: 0.47095 0.84600 best\n",
      " 11:   0.1s   T: 0.24509 0.93200   V: 0.46031 0.84600 best\n",
      " 12:   0.1s   T: 0.22437 0.94100   V: 0.45784 0.85000 best\n",
      " 13:   0.1s   T: 0.21024 0.94700   V: 0.44321 0.86000 best\n",
      " 14:   0.1s   T: 0.19352 0.95600   V: 0.44618 0.85400 \n",
      " 15:   0.1s   T: 0.17756 0.95700   V: 0.44294 0.85000 best\n",
      " 16:   0.1s   T: 0.16762 0.96100   V: 0.45150 0.85000 \n",
      " 17:   0.1s   T: 0.15561 0.96100   V: 0.43812 0.86000 best\n",
      " 18:   0.1s   T: 0.14298 0.96600   V: 0.43456 0.86000 best\n",
      " 19:   0.1s   T: 0.13027 0.97300   V: 0.42912 0.86400 best\n",
      " 20:   0.1s   T: 0.12245 0.97400   V: 0.43748 0.85600 \n",
      "Stop training at epoch: 20/20\n",
      "Best model was saved at epoch 19 with loss 0.42912: ../../models/MNIST_neuralnet\n"
     ]
    }
   ],
   "source": [
    "trainer.fit(20, x_train, y_train, valid_data=(x_test, y_test))"
   ]
  },
  {
   "cell_type": "markdown",
   "metadata": {},
   "source": [
    "## Avaliação"
   ]
  },
  {
   "cell_type": "markdown",
   "metadata": {},
   "source": [
    "### Plotando as métricas do treinamento"
   ]
  },
  {
   "cell_type": "code",
   "execution_count": 8,
   "metadata": {
    "ExecuteTime": {
     "end_time": "2017-11-29T20:30:51.381917Z",
     "start_time": "2017-11-29T20:30:51.260840Z"
    }
   },
   "outputs": [
    {
     "data": {
      "image/png": "[encoded data removed]",
      "text/plain": [
       "<matplotlib.figure.Figure at 0x7f3b40d97c88>"
      ]
     },
     "metadata": {},
     "output_type": "display_data"
    }
   ],
   "source": [
    "histo_loss_val = trainer.metrics['valid']['losses']\n",
    "histo_loss_tra = trainer.metrics['train']['losses']\n",
    "epochs = np.arange(len(histo_loss_val))\n",
    "plt.plot(epochs,histo_loss_tra, epochs,histo_loss_val);"
   ]
  },
  {
   "cell_type": "code",
   "execution_count": 9,
   "metadata": {
    "ExecuteTime": {
     "end_time": "2017-11-29T20:30:51.459654Z",
     "start_time": "2017-11-29T20:30:51.382743Z"
    }
   },
   "outputs": [
    {
     "data": {
      "image/png": "[encoded data removed]",
      "text/plain": [
       "<matplotlib.figure.Figure at 0x7f3b40dfc828>"
      ]
     },
     "metadata": {},
     "output_type": "display_data"
    }
   ],
   "source": [
    "histo_acc_val = trainer.metrics['valid']['acc']\n",
    "histo_acc_tra = trainer.metrics['train']['acc']\n",
    "epochs = np.arange(len(histo_acc_val))\n",
    "plt.plot(epochs,histo_acc_tra, epochs,histo_acc_val);"
   ]
  },
  {
   "cell_type": "markdown",
   "metadata": {},
   "source": [
    "### Recuperando o modelo da melhor época"
   ]
  },
  {
   "cell_type": "code",
   "execution_count": 10,
   "metadata": {
    "ExecuteTime": {
     "end_time": "2017-11-29T20:30:51.462810Z",
     "start_time": "2017-11-29T20:30:51.460528Z"
    }
   },
   "outputs": [],
   "source": [
    "trainer.load_state('../../models/MNIST_neuralnet')"
   ]
  },
  {
   "cell_type": "markdown",
   "metadata": {},
   "source": [
    "### Avaliando a acurácia tanto no conjunto de treinamento como no conjunto de validação"
   ]
  },
  {
   "cell_type": "markdown",
   "metadata": {},
   "source": [
    "Uso do `trainer.evaluate`"
   ]
  },
  {
   "cell_type": "code",
   "execution_count": 11,
   "metadata": {
    "ExecuteTime": {
     "end_time": "2017-11-29T20:30:51.523146Z",
     "start_time": "2017-11-29T20:30:51.463610Z"
    }
   },
   "outputs": [
    {
     "name": "stdout",
     "output_type": "stream",
     "text": [
      "\r",
      "evaluate: 0/99\r",
      "evaluate: 1/99\r",
      "evaluate: 2/99\r",
      "evaluate: 3/99\r",
      "evaluate: 4/99\r",
      "evaluate: 5/99\r",
      "evaluate: 6/99\r",
      "evaluate: 7/99\r",
      "evaluate: 8/99\r",
      "evaluate: 9/99\r",
      "evaluate: 10/99\r",
      "evaluate: 11/99\r",
      "evaluate: 12/99\r",
      "evaluate: 13/99\r",
      "evaluate: 14/99\r",
      "evaluate: 15/99\r",
      "evaluate: 16/99\r",
      "evaluate: 17/99\r",
      "evaluate: 18/99\r",
      "evaluate: 19/99\r",
      "evaluate: 20/99\r",
      "evaluate: 21/99\r",
      "evaluate: 22/99\r",
      "evaluate: 23/99\r",
      "evaluate: 24/99\r",
      "evaluate: 25/99\r",
      "evaluate: 26/99\r",
      "evaluate: 27/99\r",
      "evaluate: 28/99\r",
      "evaluate: 29/99\r",
      "evaluate: 30/99\r",
      "evaluate: 31/99\r",
      "evaluate: 32/99\r",
      "evaluate: 33/99\r",
      "evaluate: 34/99\r",
      "evaluate: 35/99\r",
      "evaluate: 36/99\r",
      "evaluate: 37/99\r",
      "evaluate: 38/99\r",
      "evaluate: 39/99\r",
      "evaluate: 40/99\r",
      "evaluate: 41/99\r",
      "evaluate: 42/99\r",
      "evaluate: 43/99\r",
      "evaluate: 44/99\r",
      "evaluate: 45/99\r",
      "evaluate: 46/99\r",
      "evaluate: 47/99\r",
      "evaluate: 48/99\r",
      "evaluate: 49/99\r",
      "evaluate: 50/99\r",
      "evaluate: 51/99\r",
      "evaluate: 52/99\r",
      "evaluate: 53/99\r",
      "evaluate: 54/99\r",
      "evaluate: 55/99\r",
      "evaluate: 56/99\r",
      "evaluate: 57/99\r",
      "evaluate: 58/99\r",
      "evaluate: 59/99\r",
      "evaluate: 60/99\r",
      "evaluate: 61/99\r",
      "evaluate: 62/99\r",
      "evaluate: 63/99\r",
      "evaluate: 64/99\r",
      "evaluate: 65/99\r",
      "evaluate: 66/99\r",
      "evaluate: 67/99\r",
      "evaluate: 68/99\r",
      "evaluate: 69/99\r",
      "evaluate: 70/99\r",
      "evaluate: 71/99\r",
      "evaluate: 72/99\r",
      "evaluate: 73/99\r",
      "evaluate: 74/99\r",
      "evaluate: 75/99\r",
      "evaluate: 76/99\r",
      "evaluate: 77/99\r",
      "evaluate: 78/99\r",
      "evaluate: 79/99\r",
      "evaluate: 80/99\r",
      "evaluate: 81/99\r",
      "evaluate: 82/99\r",
      "evaluate: 83/99\r",
      "evaluate: 84/99\r",
      "evaluate: 85/99\r",
      "evaluate: 86/99\r",
      "evaluate: 87/99\r",
      "evaluate: 88/99\r",
      "evaluate: 89/99\r",
      "evaluate: 90/99\r",
      "evaluate: 91/99\r",
      "evaluate: 92/99\r",
      "evaluate: 93/99\r",
      "evaluate: 94/99\r",
      "evaluate: 95/99\r",
      "evaluate: 96/99\r",
      "evaluate: 97/99\r",
      "evaluate: 98/99\r",
      "evaluate: 99/99 ok\n",
      "\r",
      "evaluate: 0/49\r",
      "evaluate: 1/49\r",
      "evaluate: 2/49\r",
      "evaluate: 3/49\r",
      "evaluate: 4/49\r",
      "evaluate: 5/49\r",
      "evaluate: 6/49\r",
      "evaluate: 7/49\r",
      "evaluate: 8/49\r",
      "evaluate: 9/49\r",
      "evaluate: 10/49\r",
      "evaluate: 11/49\r",
      "evaluate: 12/49\r",
      "evaluate: 13/49\r",
      "evaluate: 14/49\r",
      "evaluate: 15/49\r",
      "evaluate: 16/49\r",
      "evaluate: 17/49\r",
      "evaluate: 18/49\r",
      "evaluate: 19/49\r",
      "evaluate: 20/49\r",
      "evaluate: 21/49\r",
      "evaluate: 22/49\r",
      "evaluate: 23/49\r",
      "evaluate: 24/49\r",
      "evaluate: 25/49\r",
      "evaluate: 26/49\r",
      "evaluate: 27/49\r",
      "evaluate: 28/49\r",
      "evaluate: 29/49\r",
      "evaluate: 30/49\r",
      "evaluate: 31/49\r",
      "evaluate: 32/49\r",
      "evaluate: 33/49\r",
      "evaluate: 34/49\r",
      "evaluate: 35/49\r",
      "evaluate: 36/49\r",
      "evaluate: 37/49\r",
      "evaluate: 38/49\r",
      "evaluate: 39/49\r",
      "evaluate: 40/49\r",
      "evaluate: 41/49\r",
      "evaluate: 42/49\r",
      "evaluate: 43/49\r",
      "evaluate: 44/49\r",
      "evaluate: 45/49\r",
      "evaluate: 46/49\r",
      "evaluate: 47/49\r",
      "evaluate: 48/49\r",
      "evaluate: 49/49 ok\n",
      "Training Accuracy:   0.980000\n",
      "Validation Accuracy: 0.864000\n"
     ]
    }
   ],
   "source": [
    "acc_train = trainer.evaluate(x_train,y_train, metrics=[ptt.AccuracyMetric()])\n",
    "acc_val = trainer.evaluate(x_test,y_test, metrics=[ptt.AccuracyMetric()])\n",
    "\n",
    "print('Training Accuracy:   {:f}'.format(acc_train['acc']))\n",
    "print('Validation Accuracy: {:f}'.format(acc_val['acc']))"
   ]
  },
  {
   "cell_type": "markdown",
   "metadata": {},
   "source": [
    "### Matriz de confusão com dados de treinamento e validação"
   ]
  },
  {
   "cell_type": "markdown",
   "metadata": {},
   "source": [
    "Uso do `trainer.predict_classes`"
   ]
  },
  {
   "cell_type": "code",
   "execution_count": 12,
   "metadata": {
    "ExecuteTime": {
     "end_time": "2017-11-29T20:30:51.527348Z",
     "start_time": "2017-11-29T20:30:51.523906Z"
    }
   },
   "outputs": [],
   "source": [
    "y_pred     = trainer.predict_classes(x_train)\n",
    "y_val_pred = trainer.predict_classes(x_test)"
   ]
  },
  {
   "cell_type": "code",
   "execution_count": 13,
   "metadata": {
    "ExecuteTime": {
     "end_time": "2017-11-29T20:30:51.540831Z",
     "start_time": "2017-11-29T20:30:51.528171Z"
    }
   },
   "outputs": [
    {
     "data": {
      "text/html": [
       "<div>\n",
       "<style>\n",
       "    .dataframe thead tr:only-child th {\n",
       "        text-align: right;\n",
       "    }\n",
       "\n",
       "    .dataframe thead th {\n",
       "        text-align: left;\n",
       "    }\n",
       "\n",
       "    .dataframe tbody tr th {\n",
       "        vertical-align: top;\n",
       "    }\n",
       "</style>\n",
       "<table border=\"1\" class=\"dataframe\">\n",
       "  <thead>\n",
       "    <tr style=\"text-align: right;\">\n",
       "      <th>col_0</th>\n",
       "      <th>0</th>\n",
       "      <th>1</th>\n",
       "      <th>2</th>\n",
       "      <th>3</th>\n",
       "      <th>4</th>\n",
       "      <th>5</th>\n",
       "      <th>6</th>\n",
       "      <th>7</th>\n",
       "      <th>8</th>\n",
       "      <th>9</th>\n",
       "    </tr>\n",
       "    <tr>\n",
       "      <th>row_0</th>\n",
       "      <th></th>\n",
       "      <th></th>\n",
       "      <th></th>\n",
       "      <th></th>\n",
       "      <th></th>\n",
       "      <th></th>\n",
       "      <th></th>\n",
       "      <th></th>\n",
       "      <th></th>\n",
       "      <th></th>\n",
       "    </tr>\n",
       "  </thead>\n",
       "  <tbody>\n",
       "    <tr>\n",
       "      <th>0</th>\n",
       "      <td>97</td>\n",
       "      <td>0</td>\n",
       "      <td>0</td>\n",
       "      <td>0</td>\n",
       "      <td>0</td>\n",
       "      <td>0</td>\n",
       "      <td>0</td>\n",
       "      <td>0</td>\n",
       "      <td>0</td>\n",
       "      <td>1</td>\n",
       "    </tr>\n",
       "    <tr>\n",
       "      <th>1</th>\n",
       "      <td>0</td>\n",
       "      <td>112</td>\n",
       "      <td>0</td>\n",
       "      <td>0</td>\n",
       "      <td>0</td>\n",
       "      <td>0</td>\n",
       "      <td>0</td>\n",
       "      <td>0</td>\n",
       "      <td>0</td>\n",
       "      <td>0</td>\n",
       "    </tr>\n",
       "    <tr>\n",
       "      <th>2</th>\n",
       "      <td>0</td>\n",
       "      <td>0</td>\n",
       "      <td>93</td>\n",
       "      <td>0</td>\n",
       "      <td>0</td>\n",
       "      <td>0</td>\n",
       "      <td>0</td>\n",
       "      <td>0</td>\n",
       "      <td>0</td>\n",
       "      <td>0</td>\n",
       "    </tr>\n",
       "    <tr>\n",
       "      <th>3</th>\n",
       "      <td>0</td>\n",
       "      <td>0</td>\n",
       "      <td>0</td>\n",
       "      <td>92</td>\n",
       "      <td>0</td>\n",
       "      <td>0</td>\n",
       "      <td>0</td>\n",
       "      <td>0</td>\n",
       "      <td>0</td>\n",
       "      <td>0</td>\n",
       "    </tr>\n",
       "    <tr>\n",
       "      <th>4</th>\n",
       "      <td>0</td>\n",
       "      <td>0</td>\n",
       "      <td>0</td>\n",
       "      <td>0</td>\n",
       "      <td>105</td>\n",
       "      <td>1</td>\n",
       "      <td>0</td>\n",
       "      <td>1</td>\n",
       "      <td>0</td>\n",
       "      <td>1</td>\n",
       "    </tr>\n",
       "    <tr>\n",
       "      <th>5</th>\n",
       "      <td>0</td>\n",
       "      <td>1</td>\n",
       "      <td>1</td>\n",
       "      <td>1</td>\n",
       "      <td>0</td>\n",
       "      <td>90</td>\n",
       "      <td>0</td>\n",
       "      <td>0</td>\n",
       "      <td>1</td>\n",
       "      <td>1</td>\n",
       "    </tr>\n",
       "    <tr>\n",
       "      <th>6</th>\n",
       "      <td>0</td>\n",
       "      <td>0</td>\n",
       "      <td>1</td>\n",
       "      <td>0</td>\n",
       "      <td>0</td>\n",
       "      <td>1</td>\n",
       "      <td>94</td>\n",
       "      <td>0</td>\n",
       "      <td>0</td>\n",
       "      <td>0</td>\n",
       "    </tr>\n",
       "    <tr>\n",
       "      <th>7</th>\n",
       "      <td>0</td>\n",
       "      <td>0</td>\n",
       "      <td>1</td>\n",
       "      <td>0</td>\n",
       "      <td>0</td>\n",
       "      <td>0</td>\n",
       "      <td>0</td>\n",
       "      <td>116</td>\n",
       "      <td>0</td>\n",
       "      <td>1</td>\n",
       "    </tr>\n",
       "    <tr>\n",
       "      <th>8</th>\n",
       "      <td>0</td>\n",
       "      <td>3</td>\n",
       "      <td>2</td>\n",
       "      <td>0</td>\n",
       "      <td>0</td>\n",
       "      <td>0</td>\n",
       "      <td>0</td>\n",
       "      <td>0</td>\n",
       "      <td>86</td>\n",
       "      <td>1</td>\n",
       "    </tr>\n",
       "    <tr>\n",
       "      <th>9</th>\n",
       "      <td>0</td>\n",
       "      <td>0</td>\n",
       "      <td>1</td>\n",
       "      <td>0</td>\n",
       "      <td>0</td>\n",
       "      <td>0</td>\n",
       "      <td>0</td>\n",
       "      <td>0</td>\n",
       "      <td>0</td>\n",
       "      <td>95</td>\n",
       "    </tr>\n",
       "  </tbody>\n",
       "</table>\n",
       "</div>"
      ],
      "text/plain": [
       "col_0   0    1   2   3    4   5   6    7   8   9\n",
       "row_0                                           \n",
       "0      97    0   0   0    0   0   0    0   0   1\n",
       "1       0  112   0   0    0   0   0    0   0   0\n",
       "2       0    0  93   0    0   0   0    0   0   0\n",
       "3       0    0   0  92    0   0   0    0   0   0\n",
       "4       0    0   0   0  105   1   0    1   0   1\n",
       "5       0    1   1   1    0  90   0    0   1   1\n",
       "6       0    0   1   0    0   1  94    0   0   0\n",
       "7       0    0   1   0    0   0   0  116   0   1\n",
       "8       0    3   2   0    0   0   0    0  86   1\n",
       "9       0    0   1   0    0   0   0    0   0  95"
      ]
     },
     "execution_count": 13,
     "metadata": {},
     "output_type": "execute_result"
    }
   ],
   "source": [
    "pd.crosstab(y_pred.cpu().numpy(),y_train.cpu().numpy())"
   ]
  },
  {
   "cell_type": "code",
   "execution_count": 14,
   "metadata": {
    "ExecuteTime": {
     "end_time": "2017-11-29T20:30:51.554080Z",
     "start_time": "2017-11-29T20:30:51.541764Z"
    }
   },
   "outputs": [
    {
     "data": {
      "text/html": [
       "<div>\n",
       "<style>\n",
       "    .dataframe thead tr:only-child th {\n",
       "        text-align: right;\n",
       "    }\n",
       "\n",
       "    .dataframe thead th {\n",
       "        text-align: left;\n",
       "    }\n",
       "\n",
       "    .dataframe tbody tr th {\n",
       "        vertical-align: top;\n",
       "    }\n",
       "</style>\n",
       "<table border=\"1\" class=\"dataframe\">\n",
       "  <thead>\n",
       "    <tr style=\"text-align: right;\">\n",
       "      <th>col_0</th>\n",
       "      <th>0</th>\n",
       "      <th>1</th>\n",
       "      <th>2</th>\n",
       "      <th>3</th>\n",
       "      <th>4</th>\n",
       "      <th>5</th>\n",
       "      <th>6</th>\n",
       "      <th>7</th>\n",
       "      <th>8</th>\n",
       "      <th>9</th>\n",
       "    </tr>\n",
       "    <tr>\n",
       "      <th>row_0</th>\n",
       "      <th></th>\n",
       "      <th></th>\n",
       "      <th></th>\n",
       "      <th></th>\n",
       "      <th></th>\n",
       "      <th></th>\n",
       "      <th></th>\n",
       "      <th></th>\n",
       "      <th></th>\n",
       "      <th></th>\n",
       "    </tr>\n",
       "  </thead>\n",
       "  <tbody>\n",
       "    <tr>\n",
       "      <th>0</th>\n",
       "      <td>41</td>\n",
       "      <td>0</td>\n",
       "      <td>1</td>\n",
       "      <td>0</td>\n",
       "      <td>0</td>\n",
       "      <td>0</td>\n",
       "      <td>1</td>\n",
       "      <td>0</td>\n",
       "      <td>0</td>\n",
       "      <td>0</td>\n",
       "    </tr>\n",
       "    <tr>\n",
       "      <th>1</th>\n",
       "      <td>0</td>\n",
       "      <td>67</td>\n",
       "      <td>0</td>\n",
       "      <td>0</td>\n",
       "      <td>0</td>\n",
       "      <td>0</td>\n",
       "      <td>0</td>\n",
       "      <td>0</td>\n",
       "      <td>0</td>\n",
       "      <td>0</td>\n",
       "    </tr>\n",
       "    <tr>\n",
       "      <th>2</th>\n",
       "      <td>0</td>\n",
       "      <td>0</td>\n",
       "      <td>47</td>\n",
       "      <td>1</td>\n",
       "      <td>0</td>\n",
       "      <td>1</td>\n",
       "      <td>1</td>\n",
       "      <td>1</td>\n",
       "      <td>0</td>\n",
       "      <td>0</td>\n",
       "    </tr>\n",
       "    <tr>\n",
       "      <th>3</th>\n",
       "      <td>0</td>\n",
       "      <td>0</td>\n",
       "      <td>1</td>\n",
       "      <td>34</td>\n",
       "      <td>0</td>\n",
       "      <td>1</td>\n",
       "      <td>0</td>\n",
       "      <td>0</td>\n",
       "      <td>0</td>\n",
       "      <td>1</td>\n",
       "    </tr>\n",
       "    <tr>\n",
       "      <th>4</th>\n",
       "      <td>0</td>\n",
       "      <td>0</td>\n",
       "      <td>1</td>\n",
       "      <td>0</td>\n",
       "      <td>49</td>\n",
       "      <td>1</td>\n",
       "      <td>2</td>\n",
       "      <td>2</td>\n",
       "      <td>1</td>\n",
       "      <td>1</td>\n",
       "    </tr>\n",
       "    <tr>\n",
       "      <th>5</th>\n",
       "      <td>1</td>\n",
       "      <td>0</td>\n",
       "      <td>0</td>\n",
       "      <td>8</td>\n",
       "      <td>0</td>\n",
       "      <td>38</td>\n",
       "      <td>3</td>\n",
       "      <td>0</td>\n",
       "      <td>4</td>\n",
       "      <td>1</td>\n",
       "    </tr>\n",
       "    <tr>\n",
       "      <th>6</th>\n",
       "      <td>0</td>\n",
       "      <td>0</td>\n",
       "      <td>1</td>\n",
       "      <td>0</td>\n",
       "      <td>3</td>\n",
       "      <td>1</td>\n",
       "      <td>36</td>\n",
       "      <td>0</td>\n",
       "      <td>0</td>\n",
       "      <td>0</td>\n",
       "    </tr>\n",
       "    <tr>\n",
       "      <th>7</th>\n",
       "      <td>0</td>\n",
       "      <td>0</td>\n",
       "      <td>3</td>\n",
       "      <td>2</td>\n",
       "      <td>0</td>\n",
       "      <td>4</td>\n",
       "      <td>0</td>\n",
       "      <td>44</td>\n",
       "      <td>2</td>\n",
       "      <td>5</td>\n",
       "    </tr>\n",
       "    <tr>\n",
       "      <th>8</th>\n",
       "      <td>0</td>\n",
       "      <td>0</td>\n",
       "      <td>1</td>\n",
       "      <td>0</td>\n",
       "      <td>0</td>\n",
       "      <td>3</td>\n",
       "      <td>0</td>\n",
       "      <td>0</td>\n",
       "      <td>31</td>\n",
       "      <td>1</td>\n",
       "    </tr>\n",
       "    <tr>\n",
       "      <th>9</th>\n",
       "      <td>0</td>\n",
       "      <td>0</td>\n",
       "      <td>0</td>\n",
       "      <td>0</td>\n",
       "      <td>3</td>\n",
       "      <td>1</td>\n",
       "      <td>0</td>\n",
       "      <td>2</td>\n",
       "      <td>2</td>\n",
       "      <td>45</td>\n",
       "    </tr>\n",
       "  </tbody>\n",
       "</table>\n",
       "</div>"
      ],
      "text/plain": [
       "col_0   0   1   2   3   4   5   6   7   8   9\n",
       "row_0                                        \n",
       "0      41   0   1   0   0   0   1   0   0   0\n",
       "1       0  67   0   0   0   0   0   0   0   0\n",
       "2       0   0  47   1   0   1   1   1   0   0\n",
       "3       0   0   1  34   0   1   0   0   0   1\n",
       "4       0   0   1   0  49   1   2   2   1   1\n",
       "5       1   0   0   8   0  38   3   0   4   1\n",
       "6       0   0   1   0   3   1  36   0   0   0\n",
       "7       0   0   3   2   0   4   0  44   2   5\n",
       "8       0   0   1   0   0   3   0   0  31   1\n",
       "9       0   0   0   0   3   1   0   2   2  45"
      ]
     },
     "execution_count": 14,
     "metadata": {},
     "output_type": "execute_result"
    }
   ],
   "source": [
    "pd.crosstab(y_val_pred.cpu().numpy(),y_test.cpu().numpy())"
   ]
  },
  {
   "cell_type": "markdown",
   "metadata": {},
   "source": [
    "## Exercícios"
   ]
  },
  {
   "cell_type": "markdown",
   "metadata": {},
   "source": [
    "1. Implemente e teste uma nova classe de callback para imprimir o número do minibatch e o número da época durante o treinamento.\n",
    "2. Implemente e teste uma classe de callback para imprimir o valor médio e a variância dos pesos da primeira camada da rede à medida que ela é treinada."
   ]
  },
  {
   "cell_type": "markdown",
   "metadata": {
    "collapsed": true
   },
   "source": [
    "## Aprendizados"
   ]
  }
 ],
 "metadata": {
  "kernelspec": {
   "display_name": "Python 3",
   "language": "python",
   "name": "python3"
  },
  "language_info": {
   "codemirror_mode": {
    "name": "ipython",
    "version": 3
   },
   "file_extension": ".py",
   "mimetype": "text/x-python",
   "name": "python",
   "nbconvert_exporter": "python",
   "pygments_lexer": "ipython3",
   "version": "3.6.2"
  },
  "toc": {
   "nav_menu": {},
   "number_sections": true,
   "sideBar": true,
   "skip_h1_title": false,
   "toc_cell": false,
   "toc_position": {},
   "toc_section_display": "block",
   "toc_window_display": false
  }
 },
 "nbformat": 4,
 "nbformat_minor": 2
}
