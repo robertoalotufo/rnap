{
 "cells": [
  {
   "cell_type": "markdown",
   "metadata": {},
   "source": [
    "# Treinamento com interface de alto nível"
   ]
  },
  {
   "cell_type": "markdown",
   "metadata": {},
   "source": [
    "O objetivo deste notebook é treinar uma rede usando a metodologia de treinamento de alto nível."
   ]
  },
  {
   "cell_type": "markdown",
   "metadata": {},
   "source": [
    "## Importação das bibliotecas"
   ]
  },
  {
   "cell_type": "code",
   "execution_count": 4,
   "metadata": {
    "ExecuteTime": {
     "end_time": "2017-10-19T08:14:59.004740Z",
     "start_time": "2017-10-19T08:14:58.917793Z"
    },
    "collapsed": true
   },
   "outputs": [],
   "source": [
    "%matplotlib inline\n",
    "import matplotlib.pyplot as plt\n",
    "import numpy as np\n",
    "import pandas as pd\n",
    "import os\n",
    "\n",
    "import torch\n",
    "import torch.nn as nn\n",
    "import torch.nn.functional as F\n",
    "import torchvision\n",
    "\n",
    "import lib.pytorch_trainer as ptt"
   ]
  },
  {
   "cell_type": "markdown",
   "metadata": {},
   "source": [
    "## Carregamento, normalização e seleção dos dados do MNIST\n",
    "\n",
    "Neste exemplo utilizaremos 500 amostras de treinamento e 100 amostras de validação."
   ]
  },
  {
   "cell_type": "code",
   "execution_count": 5,
   "metadata": {
    "ExecuteTime": {
     "end_time": "2017-10-19T08:15:00.596383Z",
     "start_time": "2017-10-19T08:15:00.097717Z"
    },
    "collapsed": true
   },
   "outputs": [],
   "source": [
    "dataset_dir = '/data/datasets/MNIST/'\n",
    "\n",
    "x_train, y_train = torch.load(dataset_dir + 'processed/training.pt')\n",
    "x_test,  y_test  = torch.load(dataset_dir + 'processed/test.pt')\n",
    "\n",
    "x_train = x_train.float()\n",
    "x_test = x_test.float()\n",
    "\n",
    "x_train = x_train / 255.\n",
    "x_test = x_test / 255.\n",
    "\n",
    "if True:\n",
    "    n_samples_train = 1000\n",
    "    n_samples_test  = 500\n",
    "\n",
    "    x_train = x_train[:n_samples_train]\n",
    "    y_train = y_train[:n_samples_train]\n",
    "    x_test  = x_test[:n_samples_test]\n",
    "    y_test  = y_test[:n_samples_test]"
   ]
  },
  {
   "cell_type": "markdown",
   "metadata": {},
   "source": [
    "## Visualizando os dados"
   ]
  },
  {
   "cell_type": "code",
   "execution_count": 6,
   "metadata": {
    "ExecuteTime": {
     "end_time": "2017-10-19T08:15:06.244329Z",
     "start_time": "2017-10-19T08:15:05.895932Z"
    }
   },
   "outputs": [
    {
     "data": {
      "image/png": "[encoded data removed]",
      "text/plain": [
       "<matplotlib.figure.Figure at 0x117718a58>"
      ]
     },
     "metadata": {},
     "output_type": "display_data"
    }
   ],
   "source": [
    "N = 24\n",
    "grid = torchvision.utils.make_grid(x_train[:N].unsqueeze(1), normalize=True, pad_value=1.0, padding=1)\n",
    "\n",
    "plt.figure(figsize=(15, 10))\n",
    "plt.imshow(grid.numpy().transpose(1, 2, 0))\n",
    "plt.axis('off')\n",
    "plt.show()"
   ]
  },
  {
   "cell_type": "markdown",
   "metadata": {},
   "source": [
    "## Criação da rede"
   ]
  },
  {
   "cell_type": "code",
   "execution_count": 8,
   "metadata": {
    "ExecuteTime": {
     "end_time": "2017-10-19T08:15:29.588556Z",
     "start_time": "2017-10-19T08:15:29.572663Z"
    }
   },
   "outputs": [
    {
     "data": {
      "text/plain": [
       "Model (\n",
       "  (fc1): Linear (784 -> 50)\n",
       "  (fc2): Linear (50 -> 10)\n",
       ")"
      ]
     },
     "execution_count": 8,
     "metadata": {},
     "output_type": "execute_result"
    }
   ],
   "source": [
    "class Model(nn.Module):\n",
    "    def __init__(self):\n",
    "        super().__init__()\n",
    "        self.fc1 = nn.Linear(28 * 28, 50)\n",
    "        self.fc2 = nn.Linear(50, 10)\n",
    "\n",
    "    def forward(self, x):\n",
    "        x = x.view(-1, 28 * 28)\n",
    "        x = self.fc1(x)\n",
    "        x = F.relu(x)\n",
    "        x = self.fc2(x)\n",
    "        return x\n",
    "    \n",
    "model = Model()\n",
    "model"
   ]
  },
  {
   "cell_type": "markdown",
   "metadata": {},
   "source": [
    "## Treinamento"
   ]
  },
  {
   "cell_type": "code",
   "execution_count": 9,
   "metadata": {
    "ExecuteTime": {
     "end_time": "2017-10-19T08:15:35.545093Z",
     "start_time": "2017-10-19T08:15:35.539837Z"
    },
    "collapsed": true
   },
   "outputs": [],
   "source": [
    "def compute_accuracy(logits, labels):\n",
    "    _, preds = torch.max(logits.data, 1)\n",
    "    return (preds == labels.data).type(torch.FloatTensor).mean()"
   ]
  },
  {
   "cell_type": "code",
   "execution_count": 10,
   "metadata": {
    "ExecuteTime": {
     "end_time": "2017-10-19T08:15:51.372903Z",
     "start_time": "2017-10-19T08:15:51.366980Z"
    },
    "collapsed": true
   },
   "outputs": [],
   "source": [
    "trainer = ptt.DeepNetTrainer(model,\n",
    "                        criterion = nn.CrossEntropyLoss(),\n",
    "                        optimizer = torch.optim.SGD(model.parameters(),lr=0.01),\n",
    "                        metrics   = dict(acc=compute_accuracy), \n",
    "                        #callbacks = [ptt.PrintCallback()]\n",
    "                        )"
   ]
  },
  {
   "cell_type": "code",
   "execution_count": 11,
   "metadata": {
    "ExecuteTime": {
     "end_time": "2017-10-19T08:15:58.027752Z",
     "start_time": "2017-10-19T08:15:56.871758Z"
    },
    "collapsed": true
   },
   "outputs": [],
   "source": [
    "trainer.fit(10, x_train, y_train)"
   ]
  },
  {
   "cell_type": "markdown",
   "metadata": {},
   "source": [
    "## Avaliando a acurácia tanto no conjunto de treinamento como no conjunto de validação"
   ]
  },
  {
   "cell_type": "code",
   "execution_count": 12,
   "metadata": {
    "ExecuteTime": {
     "end_time": "2017-10-19T08:16:00.593581Z",
     "start_time": "2017-10-19T08:16:00.495131Z"
    }
   },
   "outputs": [
    {
     "name": "stdout",
     "output_type": "stream",
     "text": [
      "\r",
      "evaluate: 0/99\r",
      "evaluate: 1/99\r",
      "evaluate: 2/99\r",
      "evaluate: 3/99\r",
      "evaluate: 4/99\r",
      "evaluate: 5/99\r",
      "evaluate: 6/99\r",
      "evaluate: 7/99\r",
      "evaluate: 8/99\r",
      "evaluate: 9/99\r",
      "evaluate: 10/99\r",
      "evaluate: 11/99\r",
      "evaluate: 12/99\r",
      "evaluate: 13/99\r",
      "evaluate: 14/99\r",
      "evaluate: 15/99\r",
      "evaluate: 16/99\r",
      "evaluate: 17/99\r",
      "evaluate: 18/99\r",
      "evaluate: 19/99\r",
      "evaluate: 20/99\r",
      "evaluate: 21/99\r",
      "evaluate: 22/99\r",
      "evaluate: 23/99\r",
      "evaluate: 24/99\r",
      "evaluate: 25/99\r",
      "evaluate: 26/99\r",
      "evaluate: 27/99\r",
      "evaluate: 28/99\r",
      "evaluate: 29/99\r",
      "evaluate: 30/99\r",
      "evaluate: 31/99\r",
      "evaluate: 32/99\r",
      "evaluate: 33/99\r",
      "evaluate: 34/99\r",
      "evaluate: 35/99\r",
      "evaluate: 36/99\r",
      "evaluate: 37/99\r",
      "evaluate: 38/99\r",
      "evaluate: 39/99\r",
      "evaluate: 40/99\r",
      "evaluate: 41/99\r",
      "evaluate: 42/99\r",
      "evaluate: 43/99\r",
      "evaluate: 44/99\r",
      "evaluate: 45/99\r",
      "evaluate: 46/99\r",
      "evaluate: 47/99\r",
      "evaluate: 48/99\r",
      "evaluate: 49/99\r",
      "evaluate: 50/99\r",
      "evaluate: 51/99\r",
      "evaluate: 52/99\r",
      "evaluate: 53/99\r",
      "evaluate: 54/99\r",
      "evaluate: 55/99\r",
      "evaluate: 56/99\r",
      "evaluate: 57/99\r",
      "evaluate: 58/99\r",
      "evaluate: 59/99\r",
      "evaluate: 60/99\r",
      "evaluate: 61/99\r",
      "evaluate: 62/99\r",
      "evaluate: 63/99\r",
      "evaluate: 64/99\r",
      "evaluate: 65/99\r",
      "evaluate: 66/99\r",
      "evaluate: 67/99\r",
      "evaluate: 68/99\r",
      "evaluate: 69/99\r",
      "evaluate: 70/99\r",
      "evaluate: 71/99\r",
      "evaluate: 72/99\r",
      "evaluate: 73/99\r",
      "evaluate: 74/99\r",
      "evaluate: 75/99\r",
      "evaluate: 76/99\r",
      "evaluate: 77/99\r",
      "evaluate: 78/99\r",
      "evaluate: 79/99\r",
      "evaluate: 80/99\r",
      "evaluate: 81/99\r",
      "evaluate: 82/99\r",
      "evaluate: 83/99\r",
      "evaluate: 84/99\r",
      "evaluate: 85/99\r",
      "evaluate: 86/99\r",
      "evaluate: 87/99\r",
      "evaluate: 88/99\r",
      "evaluate: 89/99\r",
      "evaluate: 90/99\r",
      "evaluate: 91/99\r",
      "evaluate: 92/99\r",
      "evaluate: 93/99\r",
      "evaluate: 94/99\r",
      "evaluate: 95/99\r",
      "evaluate: 96/99\r",
      "evaluate: 97/99\r",
      "evaluate: 98/99\r",
      "evaluate: 99/99 ok\n"
     ]
    }
   ],
   "source": [
    "val = trainer.evaluate(x_train,y_train)"
   ]
  },
  {
   "cell_type": "code",
   "execution_count": 13,
   "metadata": {
    "ExecuteTime": {
     "end_time": "2017-10-19T08:16:01.994438Z",
     "start_time": "2017-10-19T08:16:01.989399Z"
    }
   },
   "outputs": [
    {
     "name": "stdout",
     "output_type": "stream",
     "text": [
      "Training Accuracy:   0.884000\n"
     ]
    }
   ],
   "source": [
    "print('Training Accuracy:   {:f}'.format(val['acc']))"
   ]
  },
  {
   "cell_type": "markdown",
   "metadata": {},
   "source": [
    "## Matriz de confusão com dados de treinamento e validação"
   ]
  },
  {
   "cell_type": "code",
   "execution_count": 14,
   "metadata": {
    "ExecuteTime": {
     "end_time": "2017-10-19T08:16:09.682552Z",
     "start_time": "2017-10-19T08:16:09.590492Z"
    }
   },
   "outputs": [
    {
     "name": "stdout",
     "output_type": "stream",
     "text": [
      "\r",
      "predict: 0/99\r",
      "predict: 1/99\r",
      "predict: 2/99\r",
      "predict: 3/99\r",
      "predict: 4/99\r",
      "predict: 5/99\r",
      "predict: 6/99\r",
      "predict: 7/99\r",
      "predict: 8/99\r",
      "predict: 9/99\r",
      "predict: 10/99\r",
      "predict: 11/99\r",
      "predict: 12/99\r",
      "predict: 13/99\r",
      "predict: 14/99\r",
      "predict: 15/99\r",
      "predict: 16/99\r",
      "predict: 17/99\r",
      "predict: 18/99\r",
      "predict: 19/99\r",
      "predict: 20/99\r",
      "predict: 21/99\r",
      "predict: 22/99\r",
      "predict: 23/99\r",
      "predict: 24/99\r",
      "predict: 25/99\r",
      "predict: 26/99\r",
      "predict: 27/99\r",
      "predict: 28/99\r",
      "predict: 29/99\r",
      "predict: 30/99\r",
      "predict: 31/99\r",
      "predict: 32/99\r",
      "predict: 33/99\r",
      "predict: 34/99\r",
      "predict: 35/99\r",
      "predict: 36/99\r",
      "predict: 37/99\r",
      "predict: 38/99\r",
      "predict: 39/99\r",
      "predict: 40/99\r",
      "predict: 41/99\r",
      "predict: 42/99\r",
      "predict: 43/99\r",
      "predict: 44/99\r",
      "predict: 45/99\r",
      "predict: 46/99\r",
      "predict: 47/99\r",
      "predict: 48/99\r",
      "predict: 49/99\r",
      "predict: 50/99\r",
      "predict: 51/99\r",
      "predict: 52/99\r",
      "predict: 53/99\r",
      "predict: 54/99\r",
      "predict: 55/99\r",
      "predict: 56/99\r",
      "predict: 57/99\r",
      "predict: 58/99\r",
      "predict: 59/99\r",
      "predict: 60/99\r",
      "predict: 61/99\r",
      "predict: 62/99\r",
      "predict: 63/99\r",
      "predict: 64/99\r",
      "predict: 65/99\r",
      "predict: 66/99\r",
      "predict: 67/99\r",
      "predict: 68/99\r",
      "predict: 69/99\r",
      "predict: 70/99\r",
      "predict: 71/99\r",
      "predict: 72/99\r",
      "predict: 73/99\r",
      "predict: 74/99\r",
      "predict: 75/99\r",
      "predict: 76/99\r",
      "predict: 77/99\r",
      "predict: 78/99\r",
      "predict: 79/99\r",
      "predict: 80/99\r",
      "predict: 81/99\r",
      "predict: 82/99\r",
      "predict: 83/99\r",
      "predict: 84/99\r",
      "predict: 85/99\r",
      "predict: 86/99\r",
      "predict: 87/99\r",
      "predict: 88/99\r",
      "predict: 89/99\r",
      "predict: 90/99\r",
      "predict: 91/99\r",
      "predict: 92/99\r",
      "predict: 93/99\r",
      "predict: 94/99\r",
      "predict: 95/99\r",
      "predict: 96/99\r",
      "predict: 97/99\r",
      "predict: 98/99\r",
      "predict: 99/99 ok\n"
     ]
    }
   ],
   "source": [
    "y_pred = torch.max(trainer.predict(x_train),1)[1]"
   ]
  },
  {
   "cell_type": "code",
   "execution_count": 15,
   "metadata": {
    "ExecuteTime": {
     "end_time": "2017-10-19T08:16:13.977502Z",
     "start_time": "2017-10-19T08:16:13.925360Z"
    }
   },
   "outputs": [
    {
     "data": {
      "text/html": [
       "<div>\n",
       "<style>\n",
       "    .dataframe thead tr:only-child th {\n",
       "        text-align: right;\n",
       "    }\n",
       "\n",
       "    .dataframe thead th {\n",
       "        text-align: left;\n",
       "    }\n",
       "\n",
       "    .dataframe tbody tr th {\n",
       "        vertical-align: top;\n",
       "    }\n",
       "</style>\n",
       "<table border=\"1\" class=\"dataframe\">\n",
       "  <thead>\n",
       "    <tr style=\"text-align: right;\">\n",
       "      <th>col_0</th>\n",
       "      <th>0</th>\n",
       "      <th>1</th>\n",
       "      <th>2</th>\n",
       "      <th>3</th>\n",
       "      <th>4</th>\n",
       "      <th>5</th>\n",
       "      <th>6</th>\n",
       "      <th>7</th>\n",
       "      <th>8</th>\n",
       "      <th>9</th>\n",
       "    </tr>\n",
       "    <tr>\n",
       "      <th>row_0</th>\n",
       "      <th></th>\n",
       "      <th></th>\n",
       "      <th></th>\n",
       "      <th></th>\n",
       "      <th></th>\n",
       "      <th></th>\n",
       "      <th></th>\n",
       "      <th></th>\n",
       "      <th></th>\n",
       "      <th></th>\n",
       "    </tr>\n",
       "  </thead>\n",
       "  <tbody>\n",
       "    <tr>\n",
       "      <th>0</th>\n",
       "      <td>94</td>\n",
       "      <td>0</td>\n",
       "      <td>1</td>\n",
       "      <td>1</td>\n",
       "      <td>0</td>\n",
       "      <td>0</td>\n",
       "      <td>1</td>\n",
       "      <td>0</td>\n",
       "      <td>0</td>\n",
       "      <td>2</td>\n",
       "    </tr>\n",
       "    <tr>\n",
       "      <th>1</th>\n",
       "      <td>0</td>\n",
       "      <td>110</td>\n",
       "      <td>6</td>\n",
       "      <td>0</td>\n",
       "      <td>1</td>\n",
       "      <td>1</td>\n",
       "      <td>2</td>\n",
       "      <td>4</td>\n",
       "      <td>1</td>\n",
       "      <td>0</td>\n",
       "    </tr>\n",
       "    <tr>\n",
       "      <th>2</th>\n",
       "      <td>0</td>\n",
       "      <td>0</td>\n",
       "      <td>81</td>\n",
       "      <td>0</td>\n",
       "      <td>1</td>\n",
       "      <td>2</td>\n",
       "      <td>2</td>\n",
       "      <td>0</td>\n",
       "      <td>2</td>\n",
       "      <td>0</td>\n",
       "    </tr>\n",
       "    <tr>\n",
       "      <th>3</th>\n",
       "      <td>0</td>\n",
       "      <td>0</td>\n",
       "      <td>2</td>\n",
       "      <td>78</td>\n",
       "      <td>0</td>\n",
       "      <td>6</td>\n",
       "      <td>0</td>\n",
       "      <td>0</td>\n",
       "      <td>2</td>\n",
       "      <td>1</td>\n",
       "    </tr>\n",
       "    <tr>\n",
       "      <th>4</th>\n",
       "      <td>0</td>\n",
       "      <td>0</td>\n",
       "      <td>1</td>\n",
       "      <td>1</td>\n",
       "      <td>95</td>\n",
       "      <td>2</td>\n",
       "      <td>0</td>\n",
       "      <td>3</td>\n",
       "      <td>0</td>\n",
       "      <td>4</td>\n",
       "    </tr>\n",
       "    <tr>\n",
       "      <th>5</th>\n",
       "      <td>2</td>\n",
       "      <td>2</td>\n",
       "      <td>0</td>\n",
       "      <td>7</td>\n",
       "      <td>1</td>\n",
       "      <td>73</td>\n",
       "      <td>0</td>\n",
       "      <td>0</td>\n",
       "      <td>3</td>\n",
       "      <td>2</td>\n",
       "    </tr>\n",
       "    <tr>\n",
       "      <th>6</th>\n",
       "      <td>1</td>\n",
       "      <td>0</td>\n",
       "      <td>2</td>\n",
       "      <td>1</td>\n",
       "      <td>2</td>\n",
       "      <td>4</td>\n",
       "      <td>88</td>\n",
       "      <td>0</td>\n",
       "      <td>1</td>\n",
       "      <td>1</td>\n",
       "    </tr>\n",
       "    <tr>\n",
       "      <th>7</th>\n",
       "      <td>0</td>\n",
       "      <td>1</td>\n",
       "      <td>5</td>\n",
       "      <td>1</td>\n",
       "      <td>0</td>\n",
       "      <td>0</td>\n",
       "      <td>0</td>\n",
       "      <td>107</td>\n",
       "      <td>0</td>\n",
       "      <td>8</td>\n",
       "    </tr>\n",
       "    <tr>\n",
       "      <th>8</th>\n",
       "      <td>0</td>\n",
       "      <td>3</td>\n",
       "      <td>1</td>\n",
       "      <td>3</td>\n",
       "      <td>0</td>\n",
       "      <td>2</td>\n",
       "      <td>1</td>\n",
       "      <td>0</td>\n",
       "      <td>76</td>\n",
       "      <td>0</td>\n",
       "    </tr>\n",
       "    <tr>\n",
       "      <th>9</th>\n",
       "      <td>0</td>\n",
       "      <td>0</td>\n",
       "      <td>0</td>\n",
       "      <td>1</td>\n",
       "      <td>5</td>\n",
       "      <td>2</td>\n",
       "      <td>0</td>\n",
       "      <td>3</td>\n",
       "      <td>2</td>\n",
       "      <td>82</td>\n",
       "    </tr>\n",
       "  </tbody>\n",
       "</table>\n",
       "</div>"
      ],
      "text/plain": [
       "col_0   0    1   2   3   4   5   6    7   8   9\n",
       "row_0                                          \n",
       "0      94    0   1   1   0   0   1    0   0   2\n",
       "1       0  110   6   0   1   1   2    4   1   0\n",
       "2       0    0  81   0   1   2   2    0   2   0\n",
       "3       0    0   2  78   0   6   0    0   2   1\n",
       "4       0    0   1   1  95   2   0    3   0   4\n",
       "5       2    2   0   7   1  73   0    0   3   2\n",
       "6       1    0   2   1   2   4  88    0   1   1\n",
       "7       0    1   5   1   0   0   0  107   0   8\n",
       "8       0    3   1   3   0   2   1    0  76   0\n",
       "9       0    0   0   1   5   2   0    3   2  82"
      ]
     },
     "execution_count": 15,
     "metadata": {},
     "output_type": "execute_result"
    }
   ],
   "source": [
    "pd.crosstab(y_pred.numpy(),y_train.numpy())"
   ]
  },
  {
   "cell_type": "code",
   "execution_count": null,
   "metadata": {
    "collapsed": true
   },
   "outputs": [],
   "source": []
  }
 ],
 "metadata": {
  "kernelspec": {
   "display_name": "Python 3",
   "language": "python",
   "name": "python3"
  },
  "language_info": {
   "codemirror_mode": {
    "name": "ipython",
    "version": 3
   },
   "file_extension": ".py",
   "mimetype": "text/x-python",
   "name": "python",
   "nbconvert_exporter": "python",
   "pygments_lexer": "ipython3",
   "version": "3.6.0"
  },
  "toc": {
   "nav_menu": {},
   "number_sections": true,
   "sideBar": true,
   "skip_h1_title": false,
   "toc_cell": false,
   "toc_position": {},
   "toc_section_display": "block",
   "toc_window_display": false
  }
 },
 "nbformat": 4,
 "nbformat_minor": 2
}
