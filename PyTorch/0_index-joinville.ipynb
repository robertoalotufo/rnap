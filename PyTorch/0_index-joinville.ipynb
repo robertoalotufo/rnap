{
 "cells": [
  {
   "cell_type": "markdown",
   "metadata": {},
   "source": [
    "# Curso Deep Learning na Prática"
   ]
  },
  {
   "cell_type": "code",
   "execution_count": null,
   "metadata": {
    "collapsed": true
   },
   "outputs": [],
   "source": [
    "# <img src=\"../figures/capa_nm_artenote_dlnapratica.png\"></a>"
   ]
  },
  {
   "cell_type": "markdown",
   "metadata": {},
   "source": [
    "## I - Introdução"
   ]
  },
  {
   "cell_type": "markdown",
   "metadata": {},
   "source": [
    "- [ExercicioIntrodutorio.ipynb](ExercicioIntrodutorio.ipynb)\n",
    "- [Matrizes_Arrays_Tensores.ipynb](Matrizes_Arrays_Tensores.ipynb)\n",
    "- [MovingMean_Momentum.ipynb](MovingMean_Momentum.ipynb)"
   ]
  },
  {
   "cell_type": "markdown",
   "metadata": {},
   "source": [
    "### Competição Kaggle cats and dogs (motivação)"
   ]
  },
  {
   "cell_type": "markdown",
   "metadata": {},
   "source": [
    "MOSTRAR A ANATOMIA DE UM PROJETO COMPLETO\n",
    "\n",
    "- [Cats_and_dogs.ipynb](Cats_and_dogs.ipynb)\n",
    "    - competição iniciada 4 anos atrás: 80%\n",
    "    - hoje, mais que 98%"
   ]
  },
  {
   "cell_type": "markdown",
   "metadata": {},
   "source": [
    "## II - Introdução a Redes Neurais"
   ]
  },
  {
   "cell_type": "markdown",
   "metadata": {},
   "source": [
    "### Regressão Linear"
   ]
  },
  {
   "cell_type": "markdown",
   "metadata": {},
   "source": [
    "USAR ESSE INICIAL e depois para mostrar minibatch\n",
    "\n",
    "- [RegressaoLinearDemo.ipynb](RegressaoLinearDemo.ipynb)\n",
    "    - Problema Regressão Linear\n",
    "    - Ilustração da dinâmica da otimização via gradiente descendente\n",
    "    - reta sendo ajustada, espaço de parâmetros, curva de perda"
   ]
  },
  {
   "cell_type": "markdown",
   "metadata": {},
   "source": [
    "- [LinearRegressionIrisNumPy.ipynb](LinearRegressionIrisNumPy.ipynb)\n",
    "    - programação matricial NumPy\n",
    "    - gradiente calculado analiticamente\n",
    "    - atualização explicíta do gradiente \n",
    "    "
   ]
  },
  {
   "cell_type": "markdown",
   "metadata": {},
   "source": [
    "- [Exercício de Regressão Linear com Tensores](LinearRegressionIris-Tensor.ipynb)\n",
    "- [Exercício de Regressão Linear com Tensores - Solução](LinearRegressionIris-Tensor-Solucao.ipynb)\n",
    "    - programação matricial PyTorch\n",
    "    - gradiente calculado analiticamente\n",
    "    - atualização explicíta do gradiente "
   ]
  },
  {
   "cell_type": "markdown",
   "metadata": {},
   "source": [
    "USAR ESSE para mostrar como se calcula o gradiente nas linguagens modernas. Mostrar o significado do gradiente.\n",
    "\n",
    "- [PyTorch_Variaveis_Gradientes.ipynb](PyTorch_Variaveis_Gradientes.ipynb)\n",
    "    - Introdução à Variables\n",
    "    - autograd do PyTorch - grafo computacional\n",
    "    - cálculo do gradiente"
   ]
  },
  {
   "cell_type": "markdown",
   "metadata": {},
   "source": [
    "- [LinearRegressionIrisPyTorch.ipynb](LinearRegressionIrisPyTorch.ipynb)\n",
    "    - uso da classe nn.Linear\n",
    "    - uso do autograd\n",
    "    - loss explícito\n",
    "    - atualização do parâmetro explícito"
   ]
  },
  {
   "cell_type": "markdown",
   "metadata": {},
   "source": [
    "- [LinearRegressionIrisOptimizer.ipynb](LinearRegressionIrisOptimizer.ipynb)\n",
    "    - uso da classe nn.Linear\n",
    "    - uso de função perda nn.MSELoss\n",
    "    - uso do otimizador"
   ]
  },
  {
   "cell_type": "markdown",
   "metadata": {},
   "source": [
    "### Regressão Logística - classificador"
   ]
  },
  {
   "cell_type": "markdown",
   "metadata": {},
   "source": [
    "INTRODUZIR CLASSIFICADOR - mostrar as semelhanças e diferenças.\n",
    "\n",
    "- [LogisticRegressionIris.ipynb](LogisticRegressionIris.ipynb)\n",
    "    - alvo: 3 classes iris\n",
    "    - função de perda nn.CrossEntropy\n",
    "    - cálculo da probabilidade pelo SoftMax\n",
    "    - salvando e recuperando pesos de um arquivo"
   ]
  },
  {
   "cell_type": "markdown",
   "metadata": {
    "ExecuteTime": {
     "end_time": "2017-10-02T15:25:47.588837Z",
     "start_time": "2017-10-02T15:25:47.582749Z"
    },
    "collapsed": true
   },
   "source": [
    "VISUALizacao dos pesos e também do gradiente\n",
    "\n",
    "- [LogisticRegressionMNIST.ipynb](LogisticRegressionMNIST.ipynb)\n",
    "    - gradiente descendente com uma única camada\n",
    "    - visualização dos pesos"
   ]
  },
  {
   "cell_type": "markdown",
   "metadata": {},
   "source": [
    "- [datasets-e-dataloaders.ipynb](datasets-e-dataloaders.ipynb)\n",
    "    - dataload via mini-batches"
   ]
  },
  {
   "cell_type": "markdown",
   "metadata": {},
   "source": [
    "MINIBATCH - explicar também com o apoio do Regressão Linear - DEMO\n",
    "\n",
    "- [LogisticRegressionMNIST-SGD.ipynb](LogisticRegressionMNIST-SGD.ipynb)\n",
    "    - Gradiente estocástico por mini-batch\n",
    "    - Uso do dataloader como gerador de mini-batches\n"
   ]
  },
  {
   "cell_type": "markdown",
   "metadata": {},
   "source": [
    "### Redes Neurais"
   ]
  },
  {
   "cell_type": "markdown",
   "metadata": {},
   "source": [
    "ATIVACOES\n",
    "\n",
    "- [Activations_pytorch.ipynb](Activations_pytorch.ipynb)\n",
    "     - apresentação das ativações com suas equações e gráficos "
   ]
  },
  {
   "cell_type": "code",
   "execution_count": null,
   "metadata": {
    "collapsed": true
   },
   "outputs": [],
   "source": [
    "PLAYGROUND DO TENSORFLOW:\n",
    "    - IMPORTANCIA DA NAO LINEARIDADE\n",
    "    - MULTIPLAS CAMADAS (AUMENTO DA COMPLEXIDADE DO MODELO)\n",
    "    - REGULARIZACAO"
   ]
  },
  {
   "cell_type": "markdown",
   "metadata": {},
   "source": [
    " - [Iris classificação com 2 ou mais camadas](Iris-dataset-2-ou-mais-camadas-fronteira-dinamica.ipynb)\n",
    "     - Construção da rede via classe nn\n",
    "     - Rede com mais de uma camada"
   ]
  },
  {
   "cell_type": "markdown",
   "metadata": {},
   "source": [
    "DADOS TREINAMENTO - VALIDACAO (OVERFITTING)\n",
    "\n",
    "- [underfitting-overfitting-regularization.ipynb](underfitting-overfitting-regularization.ipynb)\n",
    "     - ilustração gráfica do underfitting e overfitting\n",
    "     - regularização L2\n",
    "     - Dados de validação"
   ]
  },
  {
   "cell_type": "markdown",
   "metadata": {},
   "source": [
    "OTIMIZADORES\n",
    "\n",
    "- [optimizer.ipynb](optimizer.ipynb)\n",
    "    - Otimizadores do gradiente descendente\n",
    "    - Demo com regressão linear e rede com 2 camadas\n",
    "    - SGD, SGD-Momentum, SGD-Nesterov, RMSProp, Adam"
   ]
  },
  {
   "cell_type": "markdown",
   "metadata": {
    "ExecuteTime": {
     "end_time": "2017-10-05T17:19:34.536433",
     "start_time": "2017-10-05T17:19:34.531857"
    }
   },
   "source": [
    "EXEMPLO\n",
    "\n",
    "- [MNIST_neuralnet.ipynb](MNIST_neuralnet.ipynb)\n",
    "    - Uso da biblioteca `pytorch_trainer`, classe DeepNetTrainer\n",
    "    - Funções de alto nível, fit, callbacks\n",
    "    - **MODELO, deve ser usado como referência para todos os próximos notebooks**"
   ]
  },
  {
   "cell_type": "markdown",
   "metadata": {
    "ExecuteTime": {
     "end_time": "2017-10-05T17:19:34.536433",
     "start_time": "2017-10-05T17:19:34.531857"
    }
   },
   "source": [
    "- [boston_housing.ipynb](boston_housing.ipynb)\n",
    "    - Dataset de preços de casas\n",
    "    - visualização dados, normalização"
   ]
  },
  {
   "cell_type": "markdown",
   "metadata": {},
   "source": [
    "EXEMPLO\n",
    "\n",
    "- [Predict_Boston_House_Prices.ipynb](Predict_Boston_House_Prices.ipynb)\n",
    "    - Rede camada escondida para regressão multivariada\n",
    "    - Valor conseguido MSE: 9"
   ]
  },
  {
   "cell_type": "markdown",
   "metadata": {},
   "source": [
    "BATCH NORM - DROPOUT\n",
    "\n",
    "- [batch_norm_basics_pytorch.ipynb](batch_norm_basics_pytorch.ipynb)\n",
    "    - Introdução batch-normalization\n",
    "    - Exemplo numérico"
   ]
  },
  {
   "cell_type": "markdown",
   "metadata": {},
   "source": [
    "- [credit_card_fraud_detection_kaggle_pytorch.ipynb](credit_card_fraud_detection_kaggle_pytorch.ipynb)\n",
    "    - Base de dados do Kaggle\n",
    "    - Detecção de anomalia - fraude"
   ]
  },
  {
   "cell_type": "markdown",
   "metadata": {},
   "source": [
    "BAG OF WORDS\n",
    "\n",
    "- [AnaliseSentimento_IMDB_bagwords.ipynb](AnaliseSentimento_IMDB_bagwords.ipynb)\n",
    "    - Rede neural 1 camada escondida\n",
    "    - Entrada como bag of words"
   ]
  },
  {
   "cell_type": "markdown",
   "metadata": {},
   "source": [
    "AUTOCODIFICADOR - EMBEDDING\n",
    "\n",
    "- [autoencoder.ipynb](autoencoder.ipynb)\n",
    "    - Autocodificador\n",
    "    - Rede generativa\n",
    "    - clusterização"
   ]
  },
  {
   "cell_type": "markdown",
   "metadata": {},
   "source": [
    "- [model_selection_mnist.ipynb](model_selection_mnist.ipynb)\n",
    "    - Seleção de modelo\n",
    "    - Busca hyperparâmetros"
   ]
  },
  {
   "cell_type": "markdown",
   "metadata": {
    "heading_collapsed": true
   },
   "source": [
    "## III - Redes Neurais Profundas - Redes Convolucionais"
   ]
  },
  {
   "cell_type": "markdown",
   "metadata": {
    "hidden": true
   },
   "source": [
    "- [Explorando-Convolucao-no-PyTorch.ipynb](Explorando-Convolucao-no-PyTorch.ipynb)\n",
    "    - uso da convolução do PyTorch\n",
    "    - exemplos numéricos\n",
    "    - exemplos com imagem"
   ]
  },
  {
   "cell_type": "markdown",
   "metadata": {
    "hidden": true
   },
   "source": [
    "- [Introducao-CNN-PyTorch.ipynb](Introducao-CNN-PyTorch.ipynb)\n",
    "    - uso da rede convolucional num exemplo numérico\n",
    "    - acesso aos pesos\n",
    "    - acesso aos resultados em cada camada"
   ]
  },
  {
   "cell_type": "markdown",
   "metadata": {
    "hidden": true
   },
   "source": [
    "- [cifar10-CNN-features.ipynb](cifar10-CNN-features.ipynb)\n",
    "    - rede convolucional similar à LeNet\n",
    "    - classificador 3 classes da base CIFAR-10\n",
    "    - visualização camadas intermediárias (extração de atributos)"
   ]
  },
  {
   "cell_type": "markdown",
   "metadata": {
    "hidden": true
   },
   "source": [
    "- [Models_ImageNet.ipynb](Models_ImageNet.ipynb)"
   ]
  },
  {
   "cell_type": "markdown",
   "metadata": {
    "hidden": true
   },
   "source": [
    "- [lenet-mnist.ipynb](lenet-mnist.ipynb)\n",
    "    - rede convolucional similar à LeNet\n",
    "    - classificador 10 classes MNIST"
   ]
  },
  {
   "cell_type": "markdown",
   "metadata": {
    "ExecuteTime": {
     "end_time": "2017-10-26T15:52:23.586599",
     "start_time": "2017-10-26T15:52:23.484480"
    },
    "hidden": true
   },
   "source": [
    "- [data_augmentation_catsdogs.ipynb](data_augmentation_catsdogs.ipynb)\n",
    "    - Ilustração do aumento de dados, usando base cats&dogs"
   ]
  },
  {
   "cell_type": "markdown",
   "metadata": {
    "hidden": true
   },
   "source": [
    "- [transfer_learning_catsdogs.ipynb](transfer_learning_catsdogs.ipynb)\n",
    "    - Ilustração do *transfer learning* utilizando base cats&dogs"
   ]
  },
  {
   "cell_type": "markdown",
   "metadata": {
    "hidden": true
   },
   "source": [
    "- [facial_features.ipynb](facial_features.ipynb)\n",
    "    - Detecção de pontos faciais utilizando *transfer learning*"
   ]
  },
  {
   "cell_type": "markdown",
   "metadata": {
    "hidden": true
   },
   "source": [
    "- [Cats_and_dogs.ipynb](Cats_and_dogs.ipynb)\n",
    "    - Transferência de conhecimento"
   ]
  },
  {
   "cell_type": "markdown",
   "metadata": {
    "hidden": true
   },
   "source": [
    "- [fully_convolutional.ipynb](fully_convolutional.ipynb)\n",
    "    - Convertendo rede convolucional para totalmente convolucional"
   ]
  },
  {
   "cell_type": "markdown",
   "metadata": {
    "ExecuteTime": {
     "end_time": "2017-10-19T08:19:48.631176Z",
     "start_time": "2017-10-19T08:19:48.616113Z"
    },
    "hidden": true
   },
   "source": [
    "- [svhn_dnt.ipynb](svhn_dnt.ipynb)\n",
    "    - Street View House Numbers\n",
    "    - Classificação de dígitos de casas com fotos capturadas pelo Google Street View"
   ]
  },
  {
   "cell_type": "markdown",
   "metadata": {
    "hidden": true
   },
   "source": [
    "- [vae_mnist.ipynb](vae_mnist.ipynb)\n",
    "    - Autocodificador Variacional, exemplo com dataset MNIST"
   ]
  },
  {
   "cell_type": "markdown",
   "metadata": {
    "hidden": true
   },
   "source": [
    "- [vae_celeba.ipynb](vae_celeba.ipynb)\n",
    "    - Autocodificador Variacional, exemplo com dataset de celebridades"
   ]
  },
  {
   "cell_type": "markdown",
   "metadata": {
    "hidden": true
   },
   "source": [
    "- [dcgan_mnist.ipynb](dcgan_mnist.ipynb)\n",
    "    - Adversarial network"
   ]
  },
  {
   "cell_type": "markdown",
   "metadata": {
    "hidden": true
   },
   "source": [
    "- [transposed_convolution.ipynb](transposed_convolution.ipynb)\n",
    "    - Ilustração da convolução transposta"
   ]
  },
  {
   "cell_type": "markdown",
   "metadata": {
    "ExecuteTime": {
     "end_time": "2017-09-30T16:43:01.960631Z",
     "start_time": "2017-09-30T16:43:01.950225Z"
    },
    "heading_collapsed": true
   },
   "source": [
    "## IV - Embeddings e Sistema de Recomendação"
   ]
  },
  {
   "cell_type": "markdown",
   "metadata": {
    "hidden": true
   },
   "source": [
    "- [MovieLens_dataset_pytorch.ipynb](MovieLens_dataset_pytorch.ipynb)\n",
    "    - Normalização dos *ids* de filmes e usuários dataset MovieLens"
   ]
  },
  {
   "cell_type": "markdown",
   "metadata": {
    "hidden": true
   },
   "source": [
    "- [embedding-basics-pytorch.ipynb](embedding-basics-pytorch.ipynb)\n",
    "    - Conceito de *embeddings* e atributos latentes"
   ]
  },
  {
   "cell_type": "markdown",
   "metadata": {
    "ExecuteTime": {
     "end_time": "2017-09-30T16:59:54.948077Z",
     "start_time": "2017-09-30T16:59:54.831572Z"
    },
    "hidden": true
   },
   "source": [
    "- [SistemaRecomendacao-pytorch.ipynb](SistemaRecomendacao-pytorch.ipynb)\n",
    "    - Sistema de recomendação dataset MovieLens\n",
    "    - Solução *dot product*\n",
    "    - Solução com redes neurais"
   ]
  },
  {
   "cell_type": "markdown",
   "metadata": {
    "heading_collapsed": true
   },
   "source": [
    "## V - Processamento de Texto"
   ]
  },
  {
   "cell_type": "markdown",
   "metadata": {
    "hidden": true
   },
   "source": [
    "- [livros_dataset.ipynb](livros_dataset.ipynb)\n",
    "    - Limpeza dos datasets de livros, retirada prefácio, rodapé, etc."
   ]
  },
  {
   "cell_type": "markdown",
   "metadata": {
    "hidden": true
   },
   "source": [
    "- [livros_preprocessing.ipynb](livros_preprocessing.ipynb)\n",
    "    - Preparação das amostras para os exercícios de classificação"
   ]
  },
  {
   "cell_type": "markdown",
   "metadata": {
    "hidden": true
   },
   "source": [
    "- [livros_classif.ipynb](livros_classif.ipynb)\n",
    "    - Classificação de autor de livros usando atributos latentes treináveis"
   ]
  },
  {
   "cell_type": "markdown",
   "metadata": {
    "hidden": true
   },
   "source": [
    "- [livros_classif_w2v.ipynb](livros_classif_w2v.ipynb)\n",
    "    - Classificação de autor de livros inicializando *embeddings* com word2vec"
   ]
  },
  {
   "cell_type": "markdown",
   "metadata": {
    "hidden": true
   },
   "source": [
    "- [analise_sentimento_imdb.ipynb](analise_sentimento_imdb.ipynb)\n",
    "    - Análise de sentimento base IMDB usando atributos latentes\n",
    "    - Soluções com rede densa e convolucional"
   ]
  },
  {
   "cell_type": "markdown",
   "metadata": {
    "heading_collapsed": true
   },
   "source": [
    "## VI - Redes Neurais Recorrentes - RNN - LSTM"
   ]
  },
  {
   "cell_type": "markdown",
   "metadata": {
    "hidden": true
   },
   "source": [
    "- [SimpleRNN_Numerical-PyTorch.ipynb](SimpleRNN_Numerical-PyTorch.ipynb)\n",
    "    - Exemplo simples numérico do funcionamento da RNN"
   ]
  },
  {
   "cell_type": "markdown",
   "metadata": {
    "hidden": true
   },
   "source": [
    "- [SimpleRNN_MNIST.ipynb](SimpleRNN_MNIST.ipynb)\n",
    "    - Classificador dígitos MNIST usando RNN ou LSTM"
   ]
  },
  {
   "cell_type": "markdown",
   "metadata": {
    "hidden": true
   },
   "source": [
    "- [analise_sentimento_lstm_imdb.ipynb](analise_sentimento_lstm_imdb.ipynb)\n",
    "    - Análise de sentimento base IMDB usando rede recorrente RNN e LSTM"
   ]
  },
  {
   "cell_type": "markdown",
   "metadata": {
    "ExecuteTime": {
     "end_time": "2017-10-18T13:46:18.994393",
     "start_time": "2017-10-18T13:46:18.990237"
    },
    "hidden": true
   },
   "source": [
    "- [seq2seq-translation.ipynb](seq2seq-translation.ipynb)\n",
    "    - Tradutor seq2seq com matriz de atenção"
   ]
  },
  {
   "cell_type": "markdown",
   "metadata": {},
   "source": [
    "## Código para jupyter notebook utilizar toda a largura da tela"
   ]
  },
  {
   "cell_type": "code",
   "execution_count": 1,
   "metadata": {
    "ExecuteTime": {
     "end_time": "2017-10-04T21:10:45.426332Z",
     "start_time": "2017-10-04T21:10:45.412918Z"
    }
   },
   "outputs": [
    {
     "data": {
      "text/html": [
       "<style>.container { width:100% !important; }</style>"
      ],
      "text/plain": [
       "<IPython.core.display.HTML object>"
      ]
     },
     "metadata": {},
     "output_type": "display_data"
    }
   ],
   "source": [
    "from IPython.core.display import display, HTML\n",
    "display(HTML(\"<style>.container { width:100% !important; }</style>\"))"
   ]
  },
  {
   "cell_type": "markdown",
   "metadata": {},
   "source": [
    "## Versões dos software instalados"
   ]
  },
  {
   "cell_type": "code",
   "execution_count": 1,
   "metadata": {
    "ExecuteTime": {
     "end_time": "2017-11-02T13:54:27.520229Z",
     "start_time": "2017-11-02T13:54:25.041519Z"
    }
   },
   "outputs": [
    {
     "name": "stdout",
     "output_type": "stream",
     "text": [
      "5.0.0\n",
      "Python versão: 3.6.0 |Anaconda custom (x86_64)| (default, Dec 23 2016, 13:19:00) \n",
      "[GCC 4.2.1 Compatible Apple LLVM 6.0 (clang-600.0.57)]\n",
      "NumPy versão: 1.13.1\n",
      "PyTorch versão: 0.2.0_4\n"
     ]
    }
   ],
   "source": [
    "!jupyter notebook --version\n",
    "import sys \n",
    "print('Python versão:', sys.version)\n",
    "import numpy\n",
    "print('NumPy versão:',numpy.__version__)\n",
    "import torch\n",
    "print('PyTorch versão:',torch.__version__)"
   ]
  },
  {
   "cell_type": "code",
   "execution_count": null,
   "metadata": {
    "collapsed": true
   },
   "outputs": [],
   "source": [
    "st = 'vm_stat |grep free' if os.name == 'posix' else 'free -th -m'\n",
    "print(''.join(os.popen(st).readlines()))"
   ]
  }
 ],
 "metadata": {
  "kernelspec": {
   "display_name": "Python 3",
   "language": "python",
   "name": "python3"
  },
  "language_info": {
   "codemirror_mode": {
    "name": "ipython",
    "version": 3
   },
   "file_extension": ".py",
   "mimetype": "text/x-python",
   "name": "python",
   "nbconvert_exporter": "python",
   "pygments_lexer": "ipython3",
   "version": "3.6.0"
  },
  "toc": {
   "colors": {
    "hover_highlight": "#DAA520",
    "running_highlight": "#FF0000",
    "selected_highlight": "#FFD700"
   },
   "moveMenuLeft": true,
   "nav_menu": {
    "height": "30px",
    "width": "252px"
   },
   "navigate_menu": true,
   "number_sections": true,
   "sideBar": true,
   "skip_h1_title": false,
   "threshold": 4,
   "toc_cell": false,
   "toc_position": {},
   "toc_section_display": "block",
   "toc_window_display": false
  },
  "varInspector": {
   "cols": {
    "lenName": 16,
    "lenType": 16,
    "lenVar": 40
   },
   "kernels_config": {
    "python": {
     "delete_cmd_postfix": "",
     "delete_cmd_prefix": "del ",
     "library": "var_list.py",
     "varRefreshCmd": "print(var_dic_list())"
    },
    "r": {
     "delete_cmd_postfix": ") ",
     "delete_cmd_prefix": "rm(",
     "library": "var_list.r",
     "varRefreshCmd": "cat(var_dic_list()) "
    }
   },
   "types_to_exclude": [
    "module",
    "function",
    "builtin_function_or_method",
    "instance",
    "_Feature"
   ],
   "window_display": false
  }
 },
 "nbformat": 4,
 "nbformat_minor": 2
}
