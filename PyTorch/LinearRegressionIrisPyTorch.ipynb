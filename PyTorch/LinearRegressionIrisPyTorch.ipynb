{
 "cells": [
  {
   "cell_type": "markdown",
   "metadata": {},
   "source": [
    "# Regressão Linear com PyTorch"
   ]
  },
  {
   "cell_type": "markdown",
   "metadata": {},
   "source": [
    "Este exemplo utiliza regressão linear para estimar o comprimento das sépalas da íris a partir do seu comprimento das pétalas.\n",
    "Utiliza-se \n",
    "- o cálculo do gradiente automático do PyTorch, porém \n",
    "- a função de perda e \n",
    "- atualização dos parâmetros é feita de forma explícita.\n",
    "- A rede é criada com uma camada nn.Linear()"
   ]
  },
  {
   "cell_type": "markdown",
   "metadata": {},
   "source": [
    "<img src='../figures/RegressaoLinear_Otimizacao.png',width=500></a>"
   ]
  },
  {
   "cell_type": "markdown",
   "metadata": {},
   "source": [
    "## Importação dos pacotes"
   ]
  },
  {
   "cell_type": "code",
   "execution_count": 1,
   "metadata": {
    "ExecuteTime": {
     "end_time": "2017-10-08T11:22:50.272028Z",
     "start_time": "2017-10-08T11:22:49.129687Z"
    }
   },
   "outputs": [
    {
     "data": {
      "text/plain": [
       "<torch._C.Generator at 0x10eab6978>"
      ]
     },
     "execution_count": 1,
     "metadata": {},
     "output_type": "execute_result"
    }
   ],
   "source": [
    "%matplotlib inline\n",
    "import torch\n",
    "from torch import nn, optim\n",
    "from torch.autograd import Variable\n",
    "import numpy as np\n",
    "import matplotlib.pyplot as plt\n",
    "from sklearn.datasets import load_iris\n",
    "\n",
    "torch.manual_seed(1234)"
   ]
  },
  {
   "cell_type": "markdown",
   "metadata": {},
   "source": [
    "## Leitura dos dados"
   ]
  },
  {
   "cell_type": "code",
   "execution_count": 2,
   "metadata": {
    "ExecuteTime": {
     "end_time": "2017-10-08T11:22:50.291818Z",
     "start_time": "2017-10-08T11:22:50.274232Z"
    }
   },
   "outputs": [
    {
     "name": "stdout",
     "output_type": "stream",
     "text": [
      "x_train.shape: (50, 1) float32\n",
      "y_train.shape: (50, 1) float32\n",
      "x_train[:5]:\n",
      " [[ 7.       ]\n",
      " [ 6.4000001]\n",
      " [ 6.9000001]\n",
      " [ 5.5      ]\n",
      " [ 6.5      ]]\n",
      "y_train[:5]:\n",
      " [[ 4.69999981]\n",
      " [ 4.5       ]\n",
      " [ 4.9000001 ]\n",
      " [ 4.        ]\n",
      " [ 4.5999999 ]]\n"
     ]
    }
   ],
   "source": [
    "iris = load_iris()\n",
    "data = iris.data[iris.target==1,::2]  # comprimento das sépalas e pétalas, indices 0 e 2\n",
    "\n",
    "x_train = data[:,0:1].astype(np.float32)\n",
    "y_train = data[:,1:2].astype(np.float32)\n",
    "\n",
    "n_samples = x_train.shape[0]\n",
    "print('x_train.shape:',x_train.shape, x_train.dtype)\n",
    "print('y_train.shape:',y_train.shape, y_train.dtype)\n",
    "\n",
    "print('x_train[:5]:\\n', x_train[:5])\n",
    "print('y_train[:5]:\\n', y_train[:5])"
   ]
  },
  {
   "cell_type": "markdown",
   "metadata": {},
   "source": [
    "## Normalização dos dados"
   ]
  },
  {
   "cell_type": "code",
   "execution_count": 3,
   "metadata": {
    "ExecuteTime": {
     "end_time": "2017-10-08T11:22:50.301392Z",
     "start_time": "2017-10-08T11:22:50.294628Z"
    },
    "collapsed": true
   },
   "outputs": [],
   "source": [
    "x_train -= x_train.min()\n",
    "x_train /= x_train.max()\n",
    "y_train -= y_train.min()\n",
    "y_train /= y_train.max()\n"
   ]
  },
  {
   "cell_type": "code",
   "execution_count": 4,
   "metadata": {
    "ExecuteTime": {
     "end_time": "2017-10-08T11:22:50.309841Z",
     "start_time": "2017-10-08T11:22:50.304586Z"
    },
    "collapsed": true
   },
   "outputs": [],
   "source": [
    "x_train_bias = np.hstack([np.ones(shape=(n_samples,1)), x_train])"
   ]
  },
  {
   "cell_type": "code",
   "execution_count": 5,
   "metadata": {
    "ExecuteTime": {
     "end_time": "2017-10-08T11:22:50.317006Z",
     "start_time": "2017-10-08T11:22:50.312230Z"
    },
    "collapsed": true
   },
   "outputs": [],
   "source": [
    "x_train_bias = torch.FloatTensor(x_train_bias)\n",
    "y_train      = torch.FloatTensor(y_train)"
   ]
  },
  {
   "cell_type": "markdown",
   "metadata": {},
   "source": [
    "# Linear Regression Model"
   ]
  },
  {
   "cell_type": "markdown",
   "metadata": {},
   "source": [
    "<img src='../figures/RegressaoLinearNeuronio.png', width=400></a>"
   ]
  },
  {
   "cell_type": "code",
   "execution_count": 6,
   "metadata": {
    "ExecuteTime": {
     "end_time": "2017-10-08T11:22:50.328776Z",
     "start_time": "2017-10-08T11:22:50.318915Z"
    },
    "collapsed": true
   },
   "outputs": [],
   "source": [
    "model = torch.nn.Linear(2, 1, bias=False)"
   ]
  },
  {
   "cell_type": "markdown",
   "metadata": {},
   "source": [
    "## Verificando a inicialização dos parâmetros"
   ]
  },
  {
   "cell_type": "code",
   "execution_count": 7,
   "metadata": {
    "ExecuteTime": {
     "end_time": "2017-10-08T11:22:50.338390Z",
     "start_time": "2017-10-08T11:22:50.331231Z"
    }
   },
   "outputs": [
    {
     "data": {
      "text/plain": [
       "\n",
       "-0.4363 -0.0033\n",
       "[torch.FloatTensor of size 1x2]"
      ]
     },
     "execution_count": 7,
     "metadata": {},
     "output_type": "execute_result"
    }
   ],
   "source": [
    "#model.weight.data = torch.zeros(1,2)\n",
    "#torch.nn.init.uniform(model.weight.data, -0.1, 0.1)\n",
    "model.weight.data"
   ]
  },
  {
   "cell_type": "markdown",
   "metadata": {},
   "source": [
    "## Testando o predict da rede"
   ]
  },
  {
   "cell_type": "code",
   "execution_count": 8,
   "metadata": {
    "ExecuteTime": {
     "end_time": "2017-10-08T11:22:50.400321Z",
     "start_time": "2017-10-08T11:22:50.341455Z"
    }
   },
   "outputs": [
    {
     "data": {
      "text/plain": [
       "Variable containing:\n",
       "-0.4396\n",
       "-0.4396\n",
       "-0.4396\n",
       "-0.4396\n",
       "-0.4396\n",
       "[torch.FloatTensor of size 5x1]"
      ]
     },
     "execution_count": 8,
     "metadata": {},
     "output_type": "execute_result"
    }
   ],
   "source": [
    "model(Variable(torch.ones((5,2))))"
   ]
  },
  {
   "cell_type": "markdown",
   "metadata": {},
   "source": [
    "## Treinamento"
   ]
  },
  {
   "cell_type": "code",
   "execution_count": 9,
   "metadata": {
    "ExecuteTime": {
     "end_time": "2017-10-08T11:22:50.448386Z",
     "start_time": "2017-10-08T11:22:50.403445Z"
    },
    "scrolled": false
   },
   "outputs": [
    {
     "name": "stdout",
     "output_type": "stream",
     "text": [
      "loss: [ 1.12654984]\n",
      "loss: [ 0.09666983]\n",
      "loss: [ 0.02916735]\n",
      "loss: [ 0.02448046]\n",
      "loss: [ 0.02391779]\n",
      "loss: [ 0.02364786]\n",
      "loss: [ 0.0234185]\n",
      "loss: [ 0.02321129]\n",
      "loss: [ 0.02302324]\n",
      "loss: [ 0.0228525]\n"
     ]
    }
   ],
   "source": [
    "num_epochs = 10\n",
    "learning_rate = 0.5\n",
    "for epoch in range(num_epochs):\n",
    "    inputs = Variable(x_train_bias)\n",
    "    target = Variable(y_train)\n",
    "\n",
    "    # forward - predict\n",
    "    out = model(inputs)\n",
    "\n",
    "    #loss cálculo da função de perda\n",
    "    loss = torch.pow(out - target, 2).mean()\n",
    "    print('loss:',loss.data.numpy())\n",
    "    \n",
    "    # backward propagation - cálculo gradiente\n",
    "    loss.backward()\n",
    "    \n",
    "    # gradiente descendente\n",
    "    model.weight.data = model.weight.data - learning_rate * model.weight.grad.data\n",
    "    \n",
    "    # zeragem parâmetros próximo cálculo do gradiente\n",
    "    model.weight.grad.data.zero_()\n",
    "\n",
    "    # verbose\n",
    "    if (epoch+1) % 20 == 0:\n",
    "        print('Epoch[{}/{}], loss: {:.6f}'\n",
    "              .format(epoch+1, num_epochs, loss.data[0]))"
   ]
  },
  {
   "cell_type": "code",
   "execution_count": 10,
   "metadata": {
    "ExecuteTime": {
     "end_time": "2017-10-08T11:22:50.677485Z",
     "start_time": "2017-10-08T11:22:50.450708Z"
    }
   },
   "outputs": [
    {
     "data": {
      "image/png": "[encoded data removed]",
      "text/plain": [
       "<matplotlib.figure.Figure at 0x112368208>"
      ]
     },
     "metadata": {},
     "output_type": "display_data"
    }
   ],
   "source": [
    "y_pred = model(Variable(x_train_bias))\n",
    "plt.plot(x_train, y_train.numpy(), 'ro', label='Original data')\n",
    "plt.plot(x_train, y_pred.data.numpy(), 'kx-', label='Fitting Line')\n",
    "plt.show()"
   ]
  },
  {
   "cell_type": "markdown",
   "metadata": {},
   "source": [
    "## Parametros"
   ]
  },
  {
   "cell_type": "code",
   "execution_count": 11,
   "metadata": {
    "ExecuteTime": {
     "end_time": "2017-10-08T11:22:50.685819Z",
     "start_time": "2017-10-08T11:22:50.679693Z"
    }
   },
   "outputs": [
    {
     "name": "stdout",
     "output_type": "stream",
     "text": [
      "weight [[ 0.34410238  0.52662081]]\n"
     ]
    }
   ],
   "source": [
    "for p,w in model.state_dict().items():\n",
    "    print(p, w.numpy())"
   ]
  },
  {
   "cell_type": "code",
   "execution_count": 12,
   "metadata": {
    "ExecuteTime": {
     "end_time": "2017-10-08T11:22:50.699664Z",
     "start_time": "2017-10-08T11:22:50.687748Z"
    }
   },
   "outputs": [
    {
     "name": "stdout",
     "output_type": "stream",
     "text": [
      "[[ 0.26134121]\n",
      " [ 0.68647075]]\n"
     ]
    }
   ],
   "source": [
    "# valor ótimo, solução analítica\n",
    "x_bias = x_train_bias.numpy()\n",
    "y = y_train.numpy()\n",
    "w_opt = (np.linalg.inv((x_bias.T).dot(x_bias)).dot(x_bias.T)).dot(y)\n",
    "print(w_opt)"
   ]
  },
  {
   "cell_type": "markdown",
   "metadata": {
    "collapsed": true
   },
   "source": [
    "# Exercícios"
   ]
  },
  {
   "cell_type": "markdown",
   "metadata": {},
   "source": [
    "1. Crie uma lista w_list para guardar o valor dos parâmetros durante o treinamento.\n",
    "Plote o gráfico tipo **scatter plot** para visualizar a variação dos parâmetros em \n",
    "duas dimensões. Marque neste gráfico o valor ótimo do parâmetro dado pela solução\n",
    "analítica."
   ]
  }
 ],
 "metadata": {
  "kernelspec": {
   "display_name": "Python 3",
   "language": "python",
   "name": "python3"
  },
  "language_info": {
   "codemirror_mode": {
    "name": "ipython",
    "version": 3
   },
   "file_extension": ".py",
   "mimetype": "text/x-python",
   "name": "python",
   "nbconvert_exporter": "python",
   "pygments_lexer": "ipython3",
   "version": "3.6.0"
  },
  "toc": {
   "nav_menu": {},
   "number_sections": true,
   "sideBar": true,
   "skip_h1_title": false,
   "toc_cell": false,
   "toc_position": {},
   "toc_section_display": "block",
   "toc_window_display": false
  },
  "varInspector": {
   "cols": {
    "lenName": 16,
    "lenType": 16,
    "lenVar": 40
   },
   "kernels_config": {
    "python": {
     "delete_cmd_postfix": "",
     "delete_cmd_prefix": "del ",
     "library": "var_list.py",
     "varRefreshCmd": "print(var_dic_list())"
    },
    "r": {
     "delete_cmd_postfix": ") ",
     "delete_cmd_prefix": "rm(",
     "library": "var_list.r",
     "varRefreshCmd": "cat(var_dic_list()) "
    }
   },
   "types_to_exclude": [
    "module",
    "function",
    "builtin_function_or_method",
    "instance",
    "_Feature"
   ],
   "window_display": false
  }
 },
 "nbformat": 4,
 "nbformat_minor": 2
}
