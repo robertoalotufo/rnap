{
 "cells": [
  {
   "cell_type": "markdown",
   "metadata": {},
   "source": [
    "# Regressão Linear com PyTorch"
   ]
  },
  {
   "cell_type": "markdown",
   "metadata": {},
   "source": [
    "Este exemplo utiliza regressão linear para estimar o comprimento das sépalas da íris a partir do seu comprimento das pétalas.\n",
    "Utiliza-se \n",
    "- o cálculo do gradiente automático do PyTorch, porém \n",
    "- a função de perda e \n",
    "- atualização dos parâmetros é feita de forma explícita.\n",
    "- A rede é criada com uma camada nn.Linear()"
   ]
  },
  {
   "cell_type": "markdown",
   "metadata": {},
   "source": [
    "## Importação dos pacotes"
   ]
  },
  {
   "cell_type": "code",
   "execution_count": 2,
   "metadata": {
    "ExecuteTime": {
     "end_time": "2017-10-04T16:54:13.167019",
     "start_time": "2017-10-04T16:54:09.583947"
    }
   },
   "outputs": [
    {
     "data": {
      "text/plain": [
       "<torch._C.Generator at 0x1105d8a08>"
      ]
     },
     "execution_count": 2,
     "metadata": {},
     "output_type": "execute_result"
    }
   ],
   "source": [
    "%matplotlib inline\n",
    "import torch\n",
    "from torch import nn, optim\n",
    "from torch.autograd import Variable\n",
    "import numpy as np\n",
    "import matplotlib.pyplot as plt\n",
    "from sklearn.datasets import load_iris\n",
    "\n",
    "torch.manual_seed(1234)"
   ]
  },
  {
   "cell_type": "markdown",
   "metadata": {},
   "source": [
    "## Leitura dos dados"
   ]
  },
  {
   "cell_type": "code",
   "execution_count": 3,
   "metadata": {
    "ExecuteTime": {
     "end_time": "2017-10-04T16:54:13.197318",
     "start_time": "2017-10-04T16:54:13.178593"
    }
   },
   "outputs": [
    {
     "name": "stdout",
     "output_type": "stream",
     "text": [
      "x_train.shape: (50, 1) float32\n",
      "y_train.shape: (50, 1) float32\n",
      "x_train[:5]:\n",
      " [[ 7.       ]\n",
      " [ 6.4000001]\n",
      " [ 6.9000001]\n",
      " [ 5.5      ]\n",
      " [ 6.5      ]]\n",
      "y_train[:5]:\n",
      " [[ 4.69999981]\n",
      " [ 4.5       ]\n",
      " [ 4.9000001 ]\n",
      " [ 4.        ]\n",
      " [ 4.5999999 ]]\n"
     ]
    }
   ],
   "source": [
    "iris = load_iris()\n",
    "data = iris.data[iris.target==1,::2]  # comprimento das sépalas e pétalas, indices 0 e 2\n",
    "\n",
    "x_train = data[:,0:1].astype(np.float32)\n",
    "y_train = data[:,1:2].astype(np.float32)\n",
    "\n",
    "n_samples = x_train.shape[0]\n",
    "print('x_train.shape:',x_train.shape, x_train.dtype)\n",
    "print('y_train.shape:',y_train.shape, y_train.dtype)\n",
    "\n",
    "print('x_train[:5]:\\n', x_train[:5])\n",
    "print('y_train[:5]:\\n', y_train[:5])"
   ]
  },
  {
   "cell_type": "markdown",
   "metadata": {},
   "source": [
    "## Normalização dos dados"
   ]
  },
  {
   "cell_type": "code",
   "execution_count": 4,
   "metadata": {
    "ExecuteTime": {
     "end_time": "2017-10-04T16:54:13.895445",
     "start_time": "2017-10-04T16:54:13.891890"
    },
    "collapsed": true
   },
   "outputs": [],
   "source": [
    "x_train -= x_train.min()\n",
    "x_train /= x_train.max()\n",
    "y_train -= y_train.min()\n",
    "y_train /= y_train.max()\n"
   ]
  },
  {
   "cell_type": "code",
   "execution_count": 5,
   "metadata": {
    "ExecuteTime": {
     "end_time": "2017-10-04T16:54:14.795085",
     "start_time": "2017-10-04T16:54:14.792098"
    },
    "collapsed": true
   },
   "outputs": [],
   "source": [
    "x_train_bias = np.hstack([np.ones(shape=(n_samples,1)), x_train])"
   ]
  },
  {
   "cell_type": "code",
   "execution_count": 6,
   "metadata": {
    "ExecuteTime": {
     "end_time": "2017-10-04T16:54:15.357300",
     "start_time": "2017-10-04T16:54:15.354162"
    },
    "collapsed": true
   },
   "outputs": [],
   "source": [
    "x_train_bias = torch.FloatTensor(x_train_bias)\n",
    "y_train      = torch.FloatTensor(y_train)"
   ]
  },
  {
   "cell_type": "markdown",
   "metadata": {},
   "source": [
    "# Linear Regression Model"
   ]
  },
  {
   "cell_type": "code",
   "execution_count": 7,
   "metadata": {
    "ExecuteTime": {
     "end_time": "2017-10-04T16:54:16.514747",
     "start_time": "2017-10-04T16:54:16.511595"
    },
    "collapsed": true
   },
   "outputs": [],
   "source": [
    "net = torch.nn.Linear(2, 1, bias=False)"
   ]
  },
  {
   "cell_type": "markdown",
   "metadata": {},
   "source": [
    "## Inicialização dos parâmetros"
   ]
  },
  {
   "cell_type": "code",
   "execution_count": 18,
   "metadata": {
    "ExecuteTime": {
     "end_time": "2017-10-04T17:18:36.720248",
     "start_time": "2017-10-04T17:18:36.714990"
    }
   },
   "outputs": [
    {
     "data": {
      "text/plain": [
       "\n",
       " 0  0\n",
       "[torch.FloatTensor of size 1x2]"
      ]
     },
     "execution_count": 18,
     "metadata": {},
     "output_type": "execute_result"
    }
   ],
   "source": [
    "net.weight.data = torch.zeros(1,2)\n",
    "#torch.nn.init.uniform(net.weight.data, -0.1, 0.1)\n",
    "net.weight.data"
   ]
  },
  {
   "cell_type": "markdown",
   "metadata": {},
   "source": [
    "## Testando o predict da rede"
   ]
  },
  {
   "cell_type": "code",
   "execution_count": 19,
   "metadata": {
    "ExecuteTime": {
     "end_time": "2017-10-04T17:18:37.844675",
     "start_time": "2017-10-04T17:18:37.839518"
    }
   },
   "outputs": [
    {
     "data": {
      "text/plain": [
       "Variable containing:\n",
       " 0\n",
       " 0\n",
       " 0\n",
       " 0\n",
       " 0\n",
       "[torch.FloatTensor of size 5x1]"
      ]
     },
     "execution_count": 19,
     "metadata": {},
     "output_type": "execute_result"
    }
   ],
   "source": [
    "net(Variable(torch.ones((5,2))))"
   ]
  },
  {
   "cell_type": "markdown",
   "metadata": {},
   "source": [
    "## Treinamento"
   ]
  },
  {
   "cell_type": "code",
   "execution_count": 20,
   "metadata": {
    "ExecuteTime": {
     "end_time": "2017-10-04T17:18:38.943590",
     "start_time": "2017-10-04T17:18:38.918538"
    },
    "scrolled": false
   },
   "outputs": [
    {
     "name": "stdout",
     "output_type": "stream",
     "text": [
      "loss: [ 0.40907031]\n",
      "loss: [ 0.05599689]\n",
      "loss: [ 0.03208511]\n",
      "loss: [ 0.02972903]\n",
      "loss: [ 0.02885257]\n",
      "loss: [ 0.02813922]\n",
      "loss: [ 0.02749694]\n",
      "loss: [ 0.02691416]\n",
      "loss: [ 0.02638508]\n",
      "loss: [ 0.02590473]\n"
     ]
    }
   ],
   "source": [
    "num_epochs = 10\n",
    "learning_rate = 0.5\n",
    "for epoch in range(num_epochs):\n",
    "    inputs = Variable(x_train_bias)\n",
    "    target = Variable(y_train)\n",
    "\n",
    "    # forward - predict\n",
    "    out = net(inputs)\n",
    "\n",
    "    #loss cálculo da função de perda\n",
    "    loss = torch.pow(out - Variable(y_train), 2).mean()\n",
    "    print('loss:',loss.data.numpy())\n",
    "    \n",
    "    # backward propagation - cálculo gradiente\n",
    "    loss.backward()\n",
    "    \n",
    "    # gradiente descendente\n",
    "    net.weight.data = net.weight.data - learning_rate * net.weight.grad.data\n",
    "    \n",
    "    # zeragem parâmetros próximo cálculo do gradiente\n",
    "    net.weight.grad.data.zero_()\n",
    "\n",
    "    # verbose\n",
    "    if (epoch+1) % 20 == 0:\n",
    "        print('Epoch[{}/{}], loss: {:.6f}'\n",
    "              .format(epoch+1, num_epochs, loss.data[0]))"
   ]
  },
  {
   "cell_type": "code",
   "execution_count": 10,
   "metadata": {
    "ExecuteTime": {
     "end_time": "2017-10-04T15:16:17.002441",
     "start_time": "2017-10-04T15:16:16.787974"
    }
   },
   "outputs": [
    {
     "data": {
      "image/png": "[encoded data removed]",
      "text/plain": [
       "<matplotlib.figure.Figure at 0x1a0d440ba8>"
      ]
     },
     "metadata": {},
     "output_type": "display_data"
    }
   ],
   "source": [
    "y_pred = net(Variable(x_train_bias))\n",
    "plt.plot(x_train, y_train.numpy(), 'ro', label='Original data')\n",
    "plt.plot(x_train, y_pred.data.numpy(), 'kx-', label='Fitting Line')\n",
    "plt.show()"
   ]
  },
  {
   "cell_type": "markdown",
   "metadata": {},
   "source": [
    "## Parametros"
   ]
  },
  {
   "cell_type": "code",
   "execution_count": 11,
   "metadata": {
    "ExecuteTime": {
     "end_time": "2017-10-04T15:16:17.009852",
     "start_time": "2017-10-04T15:16:17.004714"
    }
   },
   "outputs": [
    {
     "name": "stdout",
     "output_type": "stream",
     "text": [
      "weight [[ 0.26152217  0.68612105]]\n"
     ]
    }
   ],
   "source": [
    "for p,w in net.state_dict().items():\n",
    "    print(p, w.numpy())"
   ]
  },
  {
   "cell_type": "code",
   "execution_count": 12,
   "metadata": {
    "ExecuteTime": {
     "end_time": "2017-10-04T15:16:17.019448",
     "start_time": "2017-10-04T15:16:17.012552"
    }
   },
   "outputs": [
    {
     "name": "stdout",
     "output_type": "stream",
     "text": [
      "[[ 0.2613416 ]\n",
      " [ 0.68647009]]\n"
     ]
    }
   ],
   "source": [
    "# valor ótimo, solução analítica\n",
    "x_bias = x_train_bias.numpy()\n",
    "y = y_train.numpy()\n",
    "w_opt = (np.linalg.inv((x_bias.T).dot(x_bias)).dot(x_bias.T)).dot(y)\n",
    "print(w_opt)"
   ]
  },
  {
   "cell_type": "code",
   "execution_count": null,
   "metadata": {
    "collapsed": true
   },
   "outputs": [],
   "source": []
  }
 ],
 "metadata": {
  "kernelspec": {
   "display_name": "Python 3",
   "language": "python",
   "name": "python3"
  },
  "language_info": {
   "codemirror_mode": {
    "name": "ipython",
    "version": 3
   },
   "file_extension": ".py",
   "mimetype": "text/x-python",
   "name": "python",
   "nbconvert_exporter": "python",
   "pygments_lexer": "ipython3",
   "version": "3.6.0"
  },
  "toc": {
   "colors": {
    "hover_highlight": "#DAA520",
    "running_highlight": "#FF0000",
    "selected_highlight": "#FFD700"
   },
   "moveMenuLeft": true,
   "nav_menu": {},
   "navigate_menu": true,
   "number_sections": true,
   "sideBar": true,
   "skip_h1_title": false,
   "threshold": 4,
   "toc_cell": false,
   "toc_position": {},
   "toc_section_display": "block",
   "toc_window_display": false
  },
  "varInspector": {
   "cols": {
    "lenName": 16,
    "lenType": 16,
    "lenVar": 40
   },
   "kernels_config": {
    "python": {
     "delete_cmd_postfix": "",
     "delete_cmd_prefix": "del ",
     "library": "var_list.py",
     "varRefreshCmd": "print(var_dic_list())"
    },
    "r": {
     "delete_cmd_postfix": ") ",
     "delete_cmd_prefix": "rm(",
     "library": "var_list.r",
     "varRefreshCmd": "cat(var_dic_list()) "
    }
   },
   "types_to_exclude": [
    "module",
    "function",
    "builtin_function_or_method",
    "instance",
    "_Feature"
   ],
   "window_display": false
  }
 },
 "nbformat": 4,
 "nbformat_minor": 2
}
