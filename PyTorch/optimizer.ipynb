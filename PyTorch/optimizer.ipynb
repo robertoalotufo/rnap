{
 "cells": [
  {
   "cell_type": "markdown",
   "metadata": {},
   "source": [
    "# Otimizadores do gradiente descendente"
   ]
  },
  {
   "cell_type": "markdown",
   "metadata": {},
   "source": [
    "Este exercício foi inspirado no tutorial apresentado em: https://morvanzhou.github.io/tutorials/\n",
    "\n",
    "Este post tem uma excelente descrição dos principais métodos de otimização:\n",
    "http://ruder.io/optimizing-gradient-descent/\n"
   ]
  },
  {
   "cell_type": "markdown",
   "metadata": {},
   "source": [
    "## Gradiente descendente"
   ]
  },
  {
   "cell_type": "markdown",
   "metadata": {
    "ExecuteTime": {
     "end_time": "2017-10-10T13:31:45.257229",
     "start_time": "2017-10-10T13:31:45.253164"
    }
   },
   "source": [
    "$$ W_{t+1} = W_t - \\eta \\nabla J(W_t) $$"
   ]
  },
  {
   "cell_type": "markdown",
   "metadata": {},
   "source": [
    "## Gradiente descendente - Momentum\n"
   ]
  },
  {
   "cell_type": "markdown",
   "metadata": {
    "ExecuteTime": {
     "end_time": "2017-10-10T13:31:45.257229",
     "start_time": "2017-10-10T13:31:45.253164"
    }
   },
   "source": [
    "$$ v_{t+1} = \\gamma v_t + \\nabla J(W_t) $$\n",
    "$$ W_{t+1} = W_t - \\eta v_{t+1}$$"
   ]
  },
  {
   "cell_type": "markdown",
   "metadata": {},
   "source": [
    "## Gradiente descendente - Momentum - Nesterov"
   ]
  },
  {
   "cell_type": "markdown",
   "metadata": {
    "ExecuteTime": {
     "end_time": "2017-10-10T13:31:45.257229",
     "start_time": "2017-10-10T13:31:45.253164"
    }
   },
   "source": [
    "$$ v_{t+1} = \\gamma v_{t} + \\nabla J(W_t - \\gamma v_{t}) $$\n",
    "$$ W_{t+1} = W_{t} - \\eta v_{t+1}$$"
   ]
  },
  {
   "cell_type": "markdown",
   "metadata": {},
   "source": [
    "## Gradiente descendente - Métodos com learning rates diferentes para cada dimensão do gradiente"
   ]
  },
  {
   "cell_type": "markdown",
   "metadata": {
    "ExecuteTime": {
     "end_time": "2017-10-10T13:31:45.257229",
     "start_time": "2017-10-10T13:31:45.253164"
    }
   },
   "source": [
    "\n",
    "$$ W_{t+1,i} = W_{t,i} - \\frac{\\eta}{\\sqrt{G_{t,ii} + \\epsilon}} \\nabla J(W_t)$$"
   ]
  },
  {
   "cell_type": "markdown",
   "metadata": {},
   "source": [
    "- Adagrad: Termo $G_{t,ii}$ é soma do quadrado dos gradientes na época\n",
    "- RMSprop e Adadelta: Termo $G_{t,ii}$ é média móvel do termo $G$ passada (possui termo momentum)\n",
    "- Adam: adiciona a média móvel tanto no termo $G$ mas também no gradiente $\\nabla J(W)$"
   ]
  },
  {
   "cell_type": "code",
   "execution_count": 1,
   "metadata": {
    "ExecuteTime": {
     "end_time": "2017-10-10T16:47:08.945542Z",
     "start_time": "2017-10-10T16:47:07.977867Z"
    }
   },
   "outputs": [],
   "source": [
    "import torch\n",
    "import torch.utils.data\n",
    "import torch.nn.functional as F\n",
    "from torch.autograd import Variable\n",
    "import matplotlib.pyplot as plt\n",
    "%matplotlib inline"
   ]
  },
  {
   "cell_type": "code",
   "execution_count": 2,
   "metadata": {
    "ExecuteTime": {
     "end_time": "2017-10-10T16:47:08.952216Z",
     "start_time": "2017-10-10T16:47:08.948121Z"
    }
   },
   "outputs": [],
   "source": [
    "torch.manual_seed(1);    #semente do gerador pseudoaleatório "
   ]
  },
  {
   "cell_type": "code",
   "execution_count": 3,
   "metadata": {
    "ExecuteTime": {
     "end_time": "2017-10-10T16:47:08.958886Z",
     "start_time": "2017-10-10T16:47:08.954206Z"
    }
   },
   "outputs": [],
   "source": [
    "LR = 0.01\n",
    "BATCH_SIZE = 50\n",
    "EPOCH = 6\n",
    "REGR_RN = True  # opção: True: Regressão Linear, False: Rede neural 2 camadas"
   ]
  },
  {
   "cell_type": "markdown",
   "metadata": {},
   "source": [
    "## Geração sintética do dataset"
   ]
  },
  {
   "cell_type": "code",
   "execution_count": 4,
   "metadata": {
    "ExecuteTime": {
     "end_time": "2017-10-10T16:47:09.201693Z",
     "start_time": "2017-10-10T16:47:08.960821Z"
    }
   },
   "outputs": [
    {
     "data": {
      "image/png": "[encoded data removed]",
      "text/plain": [
       "<matplotlib.figure.Figure at 0x7eff0db0eac8>"
      ]
     },
     "metadata": {},
     "output_type": "display_data"
    }
   ],
   "source": [
    "x = torch.unsqueeze(torch.linspace(-1, 1, 500), dim=1)\n",
    "if REGR_RN:\n",
    "    y = 0.25 * x + 0.68 + 0.1*torch.normal(torch.zeros(*x.size()))\n",
    "else:\n",
    "    y = x.pow(2) + 0.1*torch.normal(torch.zeros(*x.size()))\n",
    "\n",
    "plt.scatter(x.numpy(), y.numpy())\n",
    "plt.show()"
   ]
  },
  {
   "cell_type": "markdown",
   "metadata": {},
   "source": [
    "## Criando dataset e loader"
   ]
  },
  {
   "cell_type": "code",
   "execution_count": 5,
   "metadata": {
    "ExecuteTime": {
     "end_time": "2017-10-10T16:47:09.209042Z",
     "start_time": "2017-10-10T16:47:09.204204Z"
    }
   },
   "outputs": [],
   "source": [
    "torch_dataset = torch.utils.data.TensorDataset(data_tensor=x, target_tensor=y)\n",
    "loader = torch.utils.data.DataLoader(\n",
    "    dataset=torch_dataset, \n",
    "    batch_size=BATCH_SIZE, \n",
    "    shuffle=True)"
   ]
  },
  {
   "cell_type": "markdown",
   "metadata": {},
   "source": [
    "## Rede neural 2 camadas"
   ]
  },
  {
   "cell_type": "code",
   "execution_count": 6,
   "metadata": {
    "ExecuteTime": {
     "end_time": "2017-10-10T16:47:09.231538Z",
     "start_time": "2017-10-10T16:47:09.211116Z"
    }
   },
   "outputs": [],
   "source": [
    "class Net1(torch.nn.Module):\n",
    "    def __init__(self):\n",
    "        super(Net1, self).__init__()\n",
    "        self.predict = torch.nn.Linear(1, 1)   # saída\n",
    "        torch.nn.init.constant(self.predict.weight,0) # peso em 0\n",
    "        torch.nn.init.constant(self.predict.bias,0.)  # bias em 0\n",
    "\n",
    "    def forward(self, x):\n",
    "        x = self.predict(x) \n",
    "        return x"
   ]
  },
  {
   "cell_type": "code",
   "execution_count": 7,
   "metadata": {
    "ExecuteTime": {
     "end_time": "2017-10-10T16:47:09.243440Z",
     "start_time": "2017-10-10T16:47:09.233359Z"
    }
   },
   "outputs": [],
   "source": [
    "class Net2(torch.nn.Module):\n",
    "    def __init__(self):\n",
    "        super(Net2, self).__init__()\n",
    "        self.hidden = torch.nn.Linear(1, 20)    # camada escondida\n",
    "        self.predict = torch.nn.Linear(20, 1)   # saída\n",
    "        torch.nn.init.constant(self.predict.weight,0) # peso em 0\n",
    "        torch.nn.init.constant(self.predict.bias,0.)  # bias em 0\n",
    "\n",
    "    def forward(self, x):\n",
    "        x = F.relu(self.hidden(x))      # activation function for hidden layer\n",
    "        x = self.predict(x)             # linear output\n",
    "        return x"
   ]
  },
  {
   "cell_type": "markdown",
   "metadata": {},
   "source": [
    "## Uma rede com otimizador diferente"
   ]
  },
  {
   "cell_type": "code",
   "execution_count": 8,
   "metadata": {
    "ExecuteTime": {
     "end_time": "2017-10-10T16:47:09.308480Z",
     "start_time": "2017-10-10T16:47:09.245535Z"
    }
   },
   "outputs": [],
   "source": [
    "net_SGD         = Net1() if REGR_RN else Net2()\n",
    "net_Momentum    = Net1() if REGR_RN else Net2()\n",
    "net_Nesterov    = Net1() if REGR_RN else Net2()\n",
    "net_RMSprop     = Net1() if REGR_RN else Net2()\n",
    "net_Adam        = Net1() if REGR_RN else Net2()\n",
    "nets = [net_SGD, net_Momentum, net_Nesterov, net_RMSprop, net_Adam]"
   ]
  },
  {
   "cell_type": "markdown",
   "metadata": {},
   "source": [
    "## Cinco otimizadores, um para cada rede"
   ]
  },
  {
   "cell_type": "code",
   "execution_count": 9,
   "metadata": {
    "ExecuteTime": {
     "end_time": "2017-10-10T16:47:09.318542Z",
     "start_time": "2017-10-10T16:47:09.311176Z"
    }
   },
   "outputs": [],
   "source": [
    "opt_SGD      = torch.optim.SGD(net_SGD.parameters(), lr=LR)\n",
    "opt_Momentum = torch.optim.SGD(net_Momentum.parameters(), lr=LR, momentum=0.9)\n",
    "opt_Nesterov = torch.optim.SGD(net_Nesterov.parameters(), lr=LR, momentum=0.9, nesterov=True)\n",
    "opt_RMSprop  = torch.optim.RMSprop(net_RMSprop.parameters(), lr=LR, alpha=0.9)\n",
    "opt_Adam     = torch.optim.Adam(net_Adam.parameters(), lr=LR, betas=(0.9, 0.99))\n",
    "optimizers   = [opt_SGD, opt_Momentum, opt_Nesterov, opt_RMSprop, opt_Adam]"
   ]
  },
  {
   "cell_type": "code",
   "execution_count": 10,
   "metadata": {
    "ExecuteTime": {
     "end_time": "2017-10-10T16:47:09.326056Z",
     "start_time": "2017-10-10T16:47:09.320914Z"
    }
   },
   "outputs": [],
   "source": [
    "loss_func = torch.nn.MSELoss()\n",
    "losses_his = [[], [], [], [], []]   # record loss\n",
    "ws_his = [[],[],[],[],[]] # record w\n",
    "bs_his = [[],[],[],[],[]] # record b"
   ]
  },
  {
   "cell_type": "markdown",
   "metadata": {},
   "source": [
    "## training"
   ]
  },
  {
   "cell_type": "code",
   "execution_count": 11,
   "metadata": {
    "ExecuteTime": {
     "end_time": "2017-10-10T16:47:10.186560Z",
     "start_time": "2017-10-10T16:47:09.328458Z"
    }
   },
   "outputs": [
    {
     "name": "stdout",
     "output_type": "stream",
     "text": [
      "Epoch:  0\n",
      "Epoch:  1\n",
      "Epoch:  2\n",
      "Epoch:  3\n",
      "Epoch:  4\n",
      "Epoch:  5\n"
     ]
    },
    {
     "data": {
      "image/png": "[encoded data removed]",
      "text/plain": [
       "<matplotlib.figure.Figure at 0x7eff0b715e10>"
      ]
     },
     "metadata": {},
     "output_type": "display_data"
    }
   ],
   "source": [
    "for epoch in range(EPOCH):\n",
    "    print('Epoch: ', epoch)\n",
    "    for step, (batch_x, batch_y) in enumerate(loader):          # for each training step\n",
    "        b_x = Variable(batch_x)\n",
    "        b_y = Variable(batch_y)\n",
    "\n",
    "        for net, opt, l_his, w_his, b_his in zip(nets, optimizers, losses_his, ws_his, bs_his):\n",
    "            output = net(b_x)              # get output for every net\n",
    "            loss = loss_func(output, b_y)  # compute loss for every net\n",
    "            opt.zero_grad()                # clear gradients for next train\n",
    "            loss.backward()                # backpropagation, compute gradients\n",
    "            opt.step()                     # apply gradients\n",
    "            l_his.append(loss.data[0])     # loss recoder\n",
    "            w = net.predict.weight.data.numpy()[0,0]\n",
    "            w_his.append(w)\n",
    "            b = net.predict.bias.data.numpy()[0]\n",
    "            b_his.append(b)\n",
    "\n",
    "labels = ['SGD', 'Momentum', 'Nesterov', 'RMSprop', 'Adam']\n",
    "if REGR_RN:\n",
    "    for i, (w_his, b_his) in enumerate(zip(ws_his,bs_his)):\n",
    "        plt.scatter(b_his,w_his,label=labels[i])\n",
    "else:\n",
    "    for i, l_his in enumerate(losses_his):\n",
    "        plt.plot(l_his, label=labels[i])\n",
    "plt.legend(loc='best')\n",
    "plt.xlabel('Steps')\n",
    "plt.ylabel('Loss')\n",
    "plt.show()"
   ]
  }
 ],
 "metadata": {
  "kernelspec": {
   "display_name": "Python 3",
   "language": "python",
   "name": "python3"
  },
  "language_info": {
   "codemirror_mode": {
    "name": "ipython",
    "version": 3
   },
   "file_extension": ".py",
   "mimetype": "text/x-python",
   "name": "python",
   "nbconvert_exporter": "python",
   "pygments_lexer": "ipython3",
   "version": "3.6.2"
  },
  "toc": {
   "nav_menu": {},
   "number_sections": true,
   "sideBar": true,
   "skip_h1_title": false,
   "toc_cell": false,
   "toc_position": {},
   "toc_section_display": "block",
   "toc_window_display": false
  },
  "varInspector": {
   "cols": {
    "lenName": 16,
    "lenType": 16,
    "lenVar": 40
   },
   "kernels_config": {
    "python": {
     "delete_cmd_postfix": "",
     "delete_cmd_prefix": "del ",
     "library": "var_list.py",
     "varRefreshCmd": "print(var_dic_list())"
    },
    "r": {
     "delete_cmd_postfix": ") ",
     "delete_cmd_prefix": "rm(",
     "library": "var_list.r",
     "varRefreshCmd": "cat(var_dic_list()) "
    }
   },
   "types_to_exclude": [
    "module",
    "function",
    "builtin_function_or_method",
    "instance",
    "_Feature"
   ],
   "window_display": false
  }
 },
 "nbformat": 4,
 "nbformat_minor": 2
}
