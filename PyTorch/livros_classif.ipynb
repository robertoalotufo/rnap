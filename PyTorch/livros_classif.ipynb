{
 "cells": [
  {
   "cell_type": "markdown",
   "metadata": {},
   "source": [
    "# Classificação de Textos"
   ]
  },
  {
   "cell_type": "markdown",
   "metadata": {},
   "source": [
    "## Preâmbulo"
   ]
  },
  {
   "cell_type": "code",
   "execution_count": 1,
   "metadata": {
    "ExecuteTime": {
     "end_time": "2018-02-04T20:42:01.287188Z",
     "start_time": "2018-02-04T20:41:59.511268Z"
    }
   },
   "outputs": [
    {
     "name": "stdout",
     "output_type": "stream",
     "text": [
      "GPU available: False\n"
     ]
    }
   ],
   "source": [
    "%matplotlib inline\n",
    "import matplotlib.pyplot as plt\n",
    "import os,sys\n",
    "import numpy as np\n",
    "import pandas as pd\n",
    "import numpy.random as nr\n",
    "\n",
    "import torch\n",
    "import torch.nn as nn\n",
    "import torch.nn.functional as F\n",
    "from torch.optim.lr_scheduler import MultiStepLR, StepLR\n",
    "from torch.utils.data import DataLoader, TensorDataset\n",
    "from torch.autograd import Variable\n",
    "\n",
    "from torchvision import datasets, transforms, models\n",
    "\n",
    "import lib.pytorch_trainer as ptt\n",
    "\n",
    "use_gpu = torch.cuda.is_available()\n",
    "print('GPU available:', use_gpu)"
   ]
  },
  {
   "cell_type": "markdown",
   "metadata": {},
   "source": [
    "## O Dataset"
   ]
  },
  {
   "cell_type": "markdown",
   "metadata": {},
   "source": [
    "### Lendo do disco"
   ]
  },
  {
   "cell_type": "code",
   "execution_count": 2,
   "metadata": {
    "ExecuteTime": {
     "end_time": "2018-02-04T20:42:03.803584Z",
     "start_time": "2018-02-04T20:42:03.661581Z"
    }
   },
   "outputs": [
    {
     "name": "stdout",
     "output_type": "stream",
     "text": [
      "Vocabulary: 20000 words\n",
      "Training dataset: (13764, 50) (13764,)\n",
      "Validation dataset: (3442, 50) (3442,)\n"
     ]
    },
    {
     "data": {
      "text/plain": [
       "(dtype('int64'), dtype('int64'))"
      ]
     },
     "execution_count": 2,
     "metadata": {},
     "output_type": "execute_result"
    }
   ],
   "source": [
    "dd = np.load('/data/datasets/livros/livros_sequences_50.npz')\n",
    "Xtra, ytra = dd['Xtra'], dd['ytra']\n",
    "Xval, yval = dd['Xval'], dd['yval']\n",
    "i2w = dd['i2w']\n",
    "\n",
    "num_words = len(i2w)\n",
    "seq_size = Xtra.shape[1]\n",
    "n_labels = max(ytra) + 1\n",
    "embedding_dim = 300\n",
    "\n",
    "Xtra, ytra = Xtra.astype(np.int), ytra.astype(np.int)\n",
    "Xval, yval = Xval.astype(np.int), yval.astype(np.int)\n",
    "\n",
    "print('Vocabulary: {} words'.format(len(i2w)))\n",
    "print('Training dataset:', Xtra.shape, ytra.shape)\n",
    "print('Validation dataset:', Xval.shape, yval.shape)\n",
    "\n",
    "Xtra.dtype, ytra.dtype"
   ]
  },
  {
   "cell_type": "markdown",
   "metadata": {},
   "source": [
    "## A Rede Neural"
   ]
  },
  {
   "cell_type": "markdown",
   "metadata": {},
   "source": [
    "### Preparando a matriz de embeddings\n",
    "\n",
    "Neste notebook o embedding é treinado a partir de pesos aleatórios.\n"
   ]
  },
  {
   "cell_type": "code",
   "execution_count": 3,
   "metadata": {
    "ExecuteTime": {
     "end_time": "2018-02-04T20:42:07.138426Z",
     "start_time": "2018-02-04T20:42:06.778772Z"
    }
   },
   "outputs": [
    {
     "data": {
      "text/plain": [
       "(torch.Size([5, 50, 300]), torch.Size([5, 50]))"
      ]
     },
     "execution_count": 3,
     "metadata": {},
     "output_type": "execute_result"
    }
   ],
   "source": [
    "xx = Variable(torch.from_numpy(Xtra[:5].astype(int)))\n",
    "\n",
    "emb = nn.Embedding(num_words, embedding_dim)\n",
    "a = emb(xx)\n",
    "a.data.shape, xx.data.shape"
   ]
  },
  {
   "cell_type": "markdown",
   "metadata": {},
   "source": [
    "### Construindo a rede"
   ]
  },
  {
   "cell_type": "code",
   "execution_count": 4,
   "metadata": {
    "ExecuteTime": {
     "end_time": "2018-02-04T20:42:08.549309Z",
     "start_time": "2018-02-04T20:42:08.489036Z"
    },
    "collapsed": true
   },
   "outputs": [],
   "source": [
    "class MyNet(nn.Module):\n",
    "    def __init__(self, seq_len=seq_size, voc_size=num_words, embed_dim=embedding_dim, \n",
    "                 n_conv_filters=128, conv_kernel_size=5):\n",
    "        super().__init__()\n",
    "        \n",
    "        k = conv_kernel_size - 1\n",
    "        n = (((seq_len - k) // 2 - k) // 2 - k) // 2\n",
    "        self.flat_size = n * n_conv_filters\n",
    "        \n",
    "        self.emb = nn.Embedding(voc_size, embed_dim)\n",
    "        nn.init.xavier_uniform(self.emb.weight)\n",
    "\n",
    "        self.conv1 = nn.Conv1d(embed_dim, n_conv_filters, conv_kernel_size)\n",
    "        self.conv2 = nn.Conv1d(n_conv_filters, n_conv_filters, conv_kernel_size)\n",
    "        self.conv3 = nn.Conv1d(n_conv_filters, n_conv_filters, conv_kernel_size)\n",
    "        \n",
    "        self.fc1 = nn.Linear(self.flat_size, 128)\n",
    "        self.fc2 = nn.Linear(128, 3)\n",
    "\n",
    "    def forward(self, x):\n",
    "        x = self.emb(x)\n",
    "        \n",
    "        x = x.transpose(1, 2)\n",
    "        \n",
    "        x = F.relu(self.conv1(x))\n",
    "        x = F.max_pool1d(x, 2)\n",
    "        x = F.dropout(x, 0.5)\n",
    "    \n",
    "        x = F.relu(self.conv2(x))\n",
    "        x = F.max_pool1d(x, 2)\n",
    "\n",
    "        x = F.relu(self.conv3(x))\n",
    "        x = F.max_pool1d(x, 2)\n",
    "        x = F.dropout(x, 0.5)\n",
    "        \n",
    "        x = x.view(-1, self.flat_size)\n",
    "        \n",
    "        x = F.relu(self.fc1(x))\n",
    "        x = F.dropout(x, 0.5)\n",
    "        \n",
    "        x = self.fc2(x)\n",
    "        \n",
    "        return x"
   ]
  },
  {
   "cell_type": "markdown",
   "metadata": {},
   "source": [
    "## Treinando"
   ]
  },
  {
   "cell_type": "code",
   "execution_count": 5,
   "metadata": {
    "ExecuteTime": {
     "end_time": "2018-02-04T20:42:11.795758Z",
     "start_time": "2018-02-04T20:42:11.394095Z"
    },
    "collapsed": true,
    "scrolled": false
   },
   "outputs": [],
   "source": [
    "trainIt = False\n",
    "resetIt = False\n",
    "\n",
    "# Callbacks\n",
    "# ---------\n",
    "accuracy_cb = ptt.AccuracyMetric()\n",
    "chkpt_cb = ptt.ModelCheckpoint('../../models/livros_classif_50_1', reset=resetIt, verbose=1)\n",
    "print_cb = ptt.PrintCallback()\n",
    "plot_cb = ptt.PlotCallback()\n",
    "\n",
    "# Model, optimizer and learning rate scheduler\n",
    "# --------------------------------------------\n",
    "model = MyNet()\n",
    "optimizer = torch.optim.Adam(model.parameters(), lr=1e-4)\n",
    "scheduler = StepLR(optimizer, step_size=5, gamma=0.75)\n",
    "\n",
    "# Network trainer\n",
    "# ---------------\n",
    "training_parameters = {\n",
    "    'model':         model, \n",
    "    'criterion':     nn.CrossEntropyLoss(),\n",
    "    'optimizer':     optimizer, \n",
    "    'lr_scheduler':  scheduler, \n",
    "    'callbacks':     [accuracy_cb, print_cb, chkpt_cb],\n",
    "}\n",
    "trainer = ptt.DeepNetTrainer(**training_parameters)"
   ]
  },
  {
   "cell_type": "code",
   "execution_count": 6,
   "metadata": {
    "ExecuteTime": {
     "end_time": "2018-02-04T20:42:12.512806Z",
     "start_time": "2018-02-04T20:42:12.433358Z"
    },
    "scrolled": true
   },
   "outputs": [
    {
     "name": "stdout",
     "output_type": "stream",
     "text": [
      "\n",
      "Training disabled.\n",
      "This model was trained for 2 epochs.\n"
     ]
    }
   ],
   "source": [
    "Xtrain = torch.from_numpy(Xtra)\n",
    "ytrain = torch.from_numpy(ytra)\n",
    "Xvalid = torch.from_numpy(Xval)\n",
    "yvalid = torch.from_numpy(yval)\n",
    "\n",
    "if trainIt:\n",
    "    trainer.fit(10, Xtrain, ytrain, valid_data=(Xvalid, yvalid))\n",
    "else:\n",
    "    trainer.load_state('/data/models/livros_classif_50_1')\n",
    "    print('\\nTraining disabled.\\nThis model was trained for {} epochs.'.format(trainer.last_epoch))"
   ]
  },
  {
   "cell_type": "markdown",
   "metadata": {},
   "source": [
    "## Treinamento em GPU\n",
    "`\n",
    "Start training for 10 epochs\n",
    "  1:   9.7s   T: 0.55538 0.72087   V: 0.20912 0.92392 best\n",
    "  2:   9.1s   T: 0.09597 0.96584   V: 0.15606 0.94668 best\n",
    "  3:   9.1s   T: 0.01565 0.99557   V: 0.23586 0.93851 \n",
    "  4:   9.2s   T: 0.00339 0.99917   V: 0.25678 0.94376 \n",
    "  5:   9.1s   T: 0.00111 0.99976   V: 0.30262 0.94376 \n",
    "  6:   9.1s   T: 0.00040 0.99995   V: 0.31673 0.94221 \n",
    "  7:   9.3s   T: 0.00002 1.00000   V: 0.33130 0.94279 \n",
    "  8:   9.2s   T: 0.00000 1.00000   V: 0.34154 0.94279 \n",
    "  9:   9.2s   T: 0.00000 1.00000   V: 0.35736 0.94318 \n",
    " 10:   9.3s   T: 0.00000 1.00000   V: 0.37403 0.94221 \n",
    "Stop training at epoch: 10/10\n",
    "Best model was saved at epoch 2 with loss 0.15606: ../../models/livros_classif_50_1\n",
    "`"
   ]
  },
  {
   "cell_type": "markdown",
   "metadata": {},
   "source": [
    "## Avaliando"
   ]
  },
  {
   "cell_type": "code",
   "execution_count": 7,
   "metadata": {
    "ExecuteTime": {
     "end_time": "2018-02-04T20:42:32.239096Z",
     "start_time": "2018-02-04T20:42:19.320961Z"
    }
   },
   "outputs": [
    {
     "name": "stdout",
     "output_type": "stream",
     "text": [
      "evaluate: 1376/1376 ok\n",
      "Model training set accuracy after training: 0.28749\n",
      "\n",
      "evaluate: 344/344 ok\n",
      "Model validation set accuracy after training: 0.29692\n"
     ]
    }
   ],
   "source": [
    "rmetrics = trainer.evaluate(Xtrain, ytrain, metrics=[accuracy_cb])\n",
    "print('Model training set accuracy after training: {:.5f}'.format(rmetrics['acc']))\n",
    "print()\n",
    "rmetrics = trainer.evaluate(Xvalid, yvalid, metrics=[accuracy_cb])\n",
    "print('Model validation set accuracy after training: {:.5f}'.format(rmetrics['acc']))"
   ]
  },
  {
   "cell_type": "code",
   "execution_count": null,
   "metadata": {
    "collapsed": true
   },
   "outputs": [],
   "source": []
  }
 ],
 "metadata": {
  "kernelspec": {
   "display_name": "Python 3",
   "language": "python",
   "name": "python3"
  },
  "language_info": {
   "codemirror_mode": {
    "name": "ipython",
    "version": 3
   },
   "file_extension": ".py",
   "mimetype": "text/x-python",
   "name": "python",
   "nbconvert_exporter": "python",
   "pygments_lexer": "ipython3",
   "version": "3.6.0"
  },
  "latex_envs": {
   "LaTeX_envs_menu_present": true,
   "autocomplete": true,
   "bibliofile": "biblio.bib",
   "cite_by": "apalike",
   "current_citInitial": 1,
   "eqLabelWithNumbers": true,
   "eqNumInitial": 1,
   "hotkeys": {
    "equation": "Ctrl-E",
    "itemize": "Ctrl-I"
   },
   "labels_anchors": false,
   "latex_user_defs": false,
   "report_style_numbering": false,
   "user_envs_cfg": false
  },
  "toc": {
   "nav_menu": {
    "height": "264px",
    "width": "252px"
   },
   "number_sections": true,
   "sideBar": true,
   "skip_h1_title": false,
   "toc_cell": false,
   "toc_position": {},
   "toc_section_display": "block",
   "toc_window_display": false
  }
 },
 "nbformat": 4,
 "nbformat_minor": 2
}
