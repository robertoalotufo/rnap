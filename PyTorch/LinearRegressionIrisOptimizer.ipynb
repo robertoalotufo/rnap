{
  "nbformat": 4,
  "nbformat_minor": 0,
  "metadata": {
    "kernelspec": {
      "display_name": "Python 3",
      "language": "python",
      "name": "python3"
    },
    "language_info": {
      "codemirror_mode": {
        "name": "ipython",
        "version": 3
      },
      "file_extension": ".py",
      "mimetype": "text/x-python",
      "name": "python",
      "nbconvert_exporter": "python",
      "pygments_lexer": "ipython3",
      "version": "3.6.0"
    },
    "toc": {
      "nav_menu": {},
      "number_sections": true,
      "sideBar": true,
      "skip_h1_title": false,
      "toc_cell": false,
      "toc_position": {},
      "toc_section_display": "block",
      "toc_window_display": false
    },
    "varInspector": {
      "cols": {
        "lenName": 16,
        "lenType": 16,
        "lenVar": 40
      },
      "kernels_config": {
        "python": {
          "delete_cmd_postfix": "",
          "delete_cmd_prefix": "del ",
          "library": "var_list.py",
          "varRefreshCmd": "print(var_dic_list())"
        },
        "r": {
          "delete_cmd_postfix": ") ",
          "delete_cmd_prefix": "rm(",
          "library": "var_list.r",
          "varRefreshCmd": "cat(var_dic_list()) "
        }
      },
      "types_to_exclude": [
        "module",
        "function",
        "builtin_function_or_method",
        "instance",
        "_Feature"
      ],
      "window_display": false
    },
    "colab": {
      "name": "LinearRegressionIrisOptimizer.ipynb",
      "provenance": [],
      "collapsed_sections": [],
      "include_colab_link": true
    }
  },
  "cells": [
    {
      "cell_type": "markdown",
      "metadata": {
        "id": "view-in-github",
        "colab_type": "text"
      },
      "source": [
        "<a href=\"https://colab.research.google.com/github/robertoalotufo/rnap/blob/master/PyTorch/LinearRegressionIrisOptimizer.ipynb\" target=\"_parent\"><img src=\"https://colab.research.google.com/assets/colab-badge.svg\" alt=\"Open In Colab\"/></a>"
      ]
    },
    {
      "cell_type": "markdown",
      "metadata": {
        "id": "yDFSVvI7NT1U"
      },
      "source": [
        "# Regressão Linear com PyTorch"
      ]
    },
    {
      "cell_type": "markdown",
      "metadata": {
        "id": "0sDlsVeVNT1X"
      },
      "source": [
        "## Objetivos"
      ]
    },
    {
      "cell_type": "markdown",
      "metadata": {
        "id": "9sD2qXp3NT1Y"
      },
      "source": [
        "Este exemplo utiliza regressão linear para estimar o comprimento das sépalas da íris a partir do seu comprimento das pétalas.\n",
        "Utiliza-se:\n",
        "- a função de perda MSE do PyTorch, \n",
        "- treinamento dos parâmetros via gradiente descendente usando o otimizador.\n",
        "- A rede é criada com uma camada nn.Linear()"
      ]
    },
    {
      "cell_type": "markdown",
      "metadata": {
        "id": "9ppjgVtXNT1Z"
      },
      "source": [
        "## Importação dos pacotes"
      ]
    },
    {
      "cell_type": "code",
      "metadata": {
        "ExecuteTime": {
          "end_time": "2018-05-21T21:57:25.181423Z",
          "start_time": "2018-05-21T21:57:23.565949Z"
        },
        "id": "rFuEapkaNT1a",
        "colab": {
          "base_uri": "https://localhost:8080/"
        },
        "outputId": "4390e1bf-b34e-490e-9740-d1b8602231db"
      },
      "source": [
        "%matplotlib inline\n",
        "import torch\n",
        "from torch import nn, optim\n",
        "import numpy as np\n",
        "import matplotlib.pyplot as plt\n",
        "from sklearn.datasets import load_iris\n",
        "\n",
        "torch.manual_seed(1234)"
      ],
      "execution_count": 1,
      "outputs": [
        {
          "output_type": "execute_result",
          "data": {
            "text/plain": [
              "<torch._C.Generator at 0x7f7aca97feb0>"
            ]
          },
          "metadata": {},
          "execution_count": 1
        }
      ]
    },
    {
      "cell_type": "markdown",
      "metadata": {
        "id": "DHwXwDAANT1f"
      },
      "source": [
        "## Leitura dos dados"
      ]
    },
    {
      "cell_type": "code",
      "metadata": {
        "ExecuteTime": {
          "end_time": "2018-05-21T21:57:25.208000Z",
          "start_time": "2018-05-21T21:57:25.184353Z"
        },
        "id": "lnf_oGRpNT1g",
        "colab": {
          "base_uri": "https://localhost:8080/"
        },
        "outputId": "54c2b6ac-73af-4db1-cc41-c4273a2d412d"
      },
      "source": [
        "iris = load_iris()\n",
        "data = iris.data[iris.target==1,::2]  # comprimento das sépalas e pétalas, indices 0 e 2\n",
        "\n",
        "x_train = torch.FloatTensor(data[:,0:1])\n",
        "y_train = torch.FloatTensor(data[:,1:2])\n",
        "\n",
        "n_samples = x_train.shape[0]\n",
        "print('x_train.shape:',x_train.shape, x_train.dtype)\n",
        "print('y_train.shape:',y_train.shape, y_train.dtype)\n",
        "\n",
        "print('x_train[:5]:\\n', x_train[:5])\n",
        "print('y_train[:5]:\\n', y_train[:5])"
      ],
      "execution_count": 2,
      "outputs": [
        {
          "output_type": "stream",
          "name": "stdout",
          "text": [
            "x_train.shape: torch.Size([50, 1]) torch.float32\n",
            "y_train.shape: torch.Size([50, 1]) torch.float32\n",
            "x_train[:5]:\n",
            " tensor([[7.0000],\n",
            "        [6.4000],\n",
            "        [6.9000],\n",
            "        [5.5000],\n",
            "        [6.5000]])\n",
            "y_train[:5]:\n",
            " tensor([[4.7000],\n",
            "        [4.5000],\n",
            "        [4.9000],\n",
            "        [4.0000],\n",
            "        [4.6000]])\n"
          ]
        }
      ]
    },
    {
      "cell_type": "markdown",
      "metadata": {
        "id": "DE_SfPFQNT1j"
      },
      "source": [
        "### Normalização dos dados"
      ]
    },
    {
      "cell_type": "code",
      "metadata": {
        "ExecuteTime": {
          "end_time": "2018-05-21T21:57:25.217876Z",
          "start_time": "2018-05-21T21:57:25.210628Z"
        },
        "id": "FvJX3DgYNT1k"
      },
      "source": [
        "xt_min = x_train.min()\n",
        "xt_max = x_train.max()\n",
        "x_train_n = (x_train - xt_min)/(xt_max - xt_min)\n",
        "\n",
        "yt_min = y_train.min()\n",
        "yt_max = y_train.max()\n",
        "y_train_n = (y_train - yt_min)/(yt_max - yt_min)\n"
      ],
      "execution_count": 3,
      "outputs": []
    },
    {
      "cell_type": "code",
      "metadata": {
        "ExecuteTime": {
          "end_time": "2018-05-21T21:57:25.227753Z",
          "start_time": "2018-05-21T21:57:25.221365Z"
        },
        "id": "EJT_QxkJNT1m"
      },
      "source": [
        "x_train_bias = torch.cat([torch.ones(size=(n_samples,1)), x_train_n],dim=1)"
      ],
      "execution_count": 4,
      "outputs": []
    },
    {
      "cell_type": "code",
      "metadata": {
        "ExecuteTime": {
          "end_time": "2018-05-21T21:57:25.238318Z",
          "start_time": "2018-05-21T21:57:25.230195Z"
        },
        "id": "RCOou7BzNT1p",
        "colab": {
          "base_uri": "https://localhost:8080/"
        },
        "outputId": "ca40282c-fe2c-4cf2-94cd-aaff9c7114df"
      },
      "source": [
        "x_train_bias.shape"
      ],
      "execution_count": 5,
      "outputs": [
        {
          "output_type": "execute_result",
          "data": {
            "text/plain": [
              "torch.Size([50, 2])"
            ]
          },
          "metadata": {},
          "execution_count": 5
        }
      ]
    },
    {
      "cell_type": "markdown",
      "metadata": {
        "id": "YZ0JMp-WNT1r"
      },
      "source": [
        "## Criação do modelo da rede"
      ]
    },
    {
      "cell_type": "code",
      "metadata": {
        "ExecuteTime": {
          "end_time": "2018-05-21T21:57:25.262851Z",
          "start_time": "2018-05-21T21:57:25.241172Z"
        },
        "id": "SGNipjpmNT1s"
      },
      "source": [
        "model = torch.nn.Linear(2, 1, bias=False)"
      ],
      "execution_count": 6,
      "outputs": []
    },
    {
      "cell_type": "markdown",
      "metadata": {
        "id": "CjQzwgWbNT1v"
      },
      "source": [
        "### Verificando a inicialização dos parâmetros"
      ]
    },
    {
      "cell_type": "code",
      "metadata": {
        "ExecuteTime": {
          "end_time": "2018-05-21T21:57:25.302308Z",
          "start_time": "2018-05-21T21:57:25.272089Z"
        },
        "id": "0E9hEtDFNT1v",
        "colab": {
          "base_uri": "https://localhost:8080/"
        },
        "outputId": "bc43c5d9-bc6f-4856-e1b8-1e4a91246835"
      },
      "source": [
        "#model.weight.data = torch.zeros(1,2)\n",
        "#torch.nn.init.uniform(model.weight.data, -0.1, 0.1)\n",
        "model.weight.data"
      ],
      "execution_count": 7,
      "outputs": [
        {
          "output_type": "execute_result",
          "data": {
            "text/plain": [
              "tensor([[-0.6661, -0.1387]])"
            ]
          },
          "metadata": {},
          "execution_count": 7
        }
      ]
    },
    {
      "cell_type": "markdown",
      "metadata": {
        "id": "7U4FWmi4NT1y"
      },
      "source": [
        "### Testando o predict da rede"
      ]
    },
    {
      "cell_type": "code",
      "metadata": {
        "ExecuteTime": {
          "end_time": "2018-05-21T21:57:25.539865Z",
          "start_time": "2018-05-21T21:57:25.335554Z"
        },
        "id": "k3IJGXc5NT1z",
        "colab": {
          "base_uri": "https://localhost:8080/"
        },
        "outputId": "5325b24d-1961-44db-d20c-34dc408ad735"
      },
      "source": [
        "model(torch.ones((5,2)))"
      ],
      "execution_count": 8,
      "outputs": [
        {
          "output_type": "execute_result",
          "data": {
            "text/plain": [
              "tensor([[-0.8049],\n",
              "        [-0.8049],\n",
              "        [-0.8049],\n",
              "        [-0.8049],\n",
              "        [-0.8049]], grad_fn=<MmBackward0>)"
            ]
          },
          "metadata": {},
          "execution_count": 8
        }
      ]
    },
    {
      "cell_type": "markdown",
      "metadata": {
        "id": "NeOl_iIANT11"
      },
      "source": [
        "## Treinamento"
      ]
    },
    {
      "cell_type": "markdown",
      "metadata": {
        "id": "1weXR-zSNT12"
      },
      "source": [
        "### Definindo função de perda e otimizador"
      ]
    },
    {
      "cell_type": "code",
      "metadata": {
        "ExecuteTime": {
          "end_time": "2018-05-21T21:57:25.551065Z",
          "start_time": "2018-05-21T21:57:25.543991Z"
        },
        "id": "0jXJc2eXNT12"
      },
      "source": [
        "criterion = nn.MSELoss()\n",
        "optimizer = optim.SGD(model.parameters(), lr=0.5)"
      ],
      "execution_count": 9,
      "outputs": []
    },
    {
      "cell_type": "markdown",
      "metadata": {
        "id": "ej2JXNI9NT15"
      },
      "source": [
        "### Laço de treinamento"
      ]
    },
    {
      "cell_type": "code",
      "metadata": {
        "ExecuteTime": {
          "end_time": "2018-05-21T21:57:25.594648Z",
          "start_time": "2018-05-21T21:57:25.556073Z"
        },
        "scrolled": false,
        "id": "EMJ-RL49NT15",
        "colab": {
          "base_uri": "https://localhost:8080/"
        },
        "outputId": "f281237a-cca9-464d-9b76-1d93564becdd"
      },
      "source": [
        "num_epochs = 100\n",
        "for epoch in range(num_epochs):\n",
        "    inputs = x_train_bias\n",
        "    target = y_train_n\n",
        "\n",
        "    # forward - predict\n",
        "    out = model(inputs)\n",
        "\n",
        "    #loss cálculo da função de perda\n",
        "    loss = criterion(out, target)\n",
        "    \n",
        "    # backward e otimizador\n",
        "    optimizer.zero_grad()\n",
        "    loss.backward()\n",
        "    optimizer.step()\n",
        "    \n",
        "    # verbose\n",
        "    if (epoch+1) % 20 == 0:\n",
        "        print('Epoch[{}/{}], loss: {:.6f}'\n",
        "              .format(epoch+1, num_epochs, loss.item()))"
      ],
      "execution_count": 10,
      "outputs": [
        {
          "output_type": "stream",
          "name": "stdout",
          "text": [
            "Epoch[20/100], loss: 0.021875\n",
            "Epoch[40/100], loss: 0.021272\n",
            "Epoch[60/100], loss: 0.021184\n",
            "Epoch[80/100], loss: 0.021172\n",
            "Epoch[100/100], loss: 0.021170\n"
          ]
        }
      ]
    },
    {
      "cell_type": "markdown",
      "metadata": {
        "id": "qJCOXtFyNT18"
      },
      "source": [
        "## Avaliação"
      ]
    },
    {
      "cell_type": "code",
      "metadata": {
        "ExecuteTime": {
          "end_time": "2018-05-21T21:57:26.193530Z",
          "start_time": "2018-05-21T21:57:25.597294Z"
        },
        "id": "-YXO1sVDNT18",
        "colab": {
          "base_uri": "https://localhost:8080/",
          "height": 265
        },
        "outputId": "5d7aca1e-b661-4d96-f007-e9b0b2366181"
      },
      "source": [
        "y_pred = model(x_train_bias)\n",
        "plt.plot(x_train_n, y_train_n,     'ro',  label='Original data')\n",
        "plt.plot(x_train_n, y_pred.data, 'kx-', label='Fitting Line')\n",
        "plt.show()"
      ],
      "execution_count": 11,
      "outputs": [
        {
          "output_type": "display_data",
          "data": {
            "text/plain": [
              "<Figure size 432x288 with 1 Axes>"
            ],
            "image/png": "[encoded data removed]"
          },
          "metadata": {
            "needs_background": "light"
          }
        }
      ]
    },
    {
      "cell_type": "code",
      "source": [
        "model.weight.data"
      ],
      "metadata": {
        "id": "WRJDw2AUbOKe",
        "outputId": "450d13f7-176e-40a9-843c-862fa5bc804e",
        "colab": {
          "base_uri": "https://localhost:8080/"
        }
      },
      "execution_count": 15,
      "outputs": [
        {
          "output_type": "execute_result",
          "data": {
            "text/plain": [
              "tensor([[0.2625, 0.6843]])"
            ]
          },
          "metadata": {},
          "execution_count": 15
        }
      ]
    },
    {
      "cell_type": "code",
      "source": [
        "loss = criterion(y_pred, y_train_n)\n",
        "loss.item()"
      ],
      "metadata": {
        "id": "sdR1nuBmbjIA",
        "outputId": "b5c0c81f-b522-4cf8-8ddd-3b8947a92f30",
        "colab": {
          "base_uri": "https://localhost:8080/"
        }
      },
      "execution_count": 18,
      "outputs": [
        {
          "output_type": "execute_result",
          "data": {
            "text/plain": [
              "0.02116970345377922"
            ]
          },
          "metadata": {},
          "execution_count": 18
        }
      ]
    },
    {
      "cell_type": "markdown",
      "metadata": {
        "id": "AzcLAaORNT2C"
      },
      "source": [
        "# Aprendizados"
      ]
    },
    {
      "cell_type": "code",
      "metadata": {
        "id": "9bns2ZyINT2D"
      },
      "source": [
        ""
      ],
      "execution_count": 11,
      "outputs": []
    }
  ]
}