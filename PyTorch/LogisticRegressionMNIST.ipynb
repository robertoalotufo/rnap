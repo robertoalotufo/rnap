{
 "cells": [
  {
   "cell_type": "markdown",
   "metadata": {},
   "source": [
    "# Regressão Softmax com dados do MNIST"
   ]
  },
  {
   "cell_type": "markdown",
   "metadata": {},
   "source": [
    "## Objetivo"
   ]
  },
  {
   "cell_type": "markdown",
   "metadata": {},
   "source": [
    "O objetivo deste notebook é ilustrar o uso de praticamente a mesma rede desenvolvida para a classificação das flores Íris, porém agora com o problema de classificação de dígitos manuscritos utilizando o dataset MNIST.\n",
    "As principais diferenças são:\n",
    "- tipo do dado, agora imagem com muito atributos: 28 x 28 pixels\n",
    "- número de amostras, muito maior, 60 mil\n",
    "Neste exercício será possível a interpretação do significado dos parâmetros treinados"
   ]
  },
  {
   "cell_type": "markdown",
   "metadata": {},
   "source": [
    "## Importação das bibliotecas"
   ]
  },
  {
   "cell_type": "code",
   "execution_count": 1,
   "metadata": {
    "ExecuteTime": {
     "end_time": "2018-08-21T14:07:17.998413Z",
     "start_time": "2018-08-21T14:07:09.414743Z"
    }
   },
   "outputs": [],
   "source": [
    "%matplotlib inline\n",
    "import numpy as np\n",
    "import matplotlib.pyplot as plt\n",
    "import pandas as pd\n",
    "\n",
    "import torch\n",
    "import torchvision"
   ]
  },
  {
   "cell_type": "markdown",
   "metadata": {},
   "source": [
    "## Carregamento dos dados do MNIST"
   ]
  },
  {
   "cell_type": "code",
   "execution_count": 2,
   "metadata": {
    "ExecuteTime": {
     "end_time": "2018-08-20T21:06:53.229490Z",
     "start_time": "2018-08-20T21:06:52.995652Z"
    }
   },
   "outputs": [
    {
     "name": "stdout",
     "output_type": "stream",
     "text": [
      "Amostras de treinamento: 60000\n",
      "\n",
      "Dimensões dos dados das imagens:    torch.Size([60000, 28, 28])\n",
      "Valores mínimo e máximo dos pixels: tensor(0, dtype=torch.uint8) tensor(255, dtype=torch.uint8)\n",
      "Tipo dos dados das imagens:         <class 'torch.Tensor'>\n",
      "Tipo das classes das imagens:       <class 'torch.Tensor'>\n"
     ]
    }
   ],
   "source": [
    "dataset_dir = '/data/datasets/MNIST/'\n",
    "\n",
    "x_train, y_train = torch.load(dataset_dir + 'processed/training.pt')\n",
    "\n",
    "print(\"Amostras de treinamento:\", x_train.size(0))\n",
    "\n",
    "print(\"\\nDimensões dos dados das imagens:   \", x_train.size())\n",
    "print(\"Valores mínimo e máximo dos pixels:\", torch.min(x_train), torch.max(x_train))\n",
    "print(\"Tipo dos dados das imagens:        \", type(x_train))\n",
    "print(\"Tipo das classes das imagens:      \", type(y_train))"
   ]
  },
  {
   "cell_type": "markdown",
   "metadata": {},
   "source": [
    "### Carregamento, normalização e seleção dos dados do MNIST\n",
    "\n",
    "Neste exemplo utilizaremos apenas 1000 amostras de treinamento."
   ]
  },
  {
   "cell_type": "code",
   "execution_count": 3,
   "metadata": {
    "ExecuteTime": {
     "end_time": "2018-08-20T21:06:55.785306Z",
     "start_time": "2018-08-20T21:06:54.936460Z"
    }
   },
   "outputs": [
    {
     "name": "stdout",
     "output_type": "stream",
     "text": [
      "Amostras de treinamento: 1000\n",
      "\n",
      "Dimensões dos dados das imagens:    torch.Size([1000, 28, 28])\n",
      "Valores mínimo e máximo dos pixels: tensor(0.) tensor(1.)\n",
      "Tipo dos dados das imagens:         <class 'torch.Tensor'>\n",
      "Tipo das classes das imagens:       <class 'torch.Tensor'>\n"
     ]
    }
   ],
   "source": [
    "x_train = x_train.float()\n",
    "\n",
    "x_train = x_train / 255.\n",
    "\n",
    "if True:\n",
    "    n_samples_train = 1000\n",
    "\n",
    "    x_train = x_train[:n_samples_train]\n",
    "    y_train = y_train[:n_samples_train]\n",
    "\n",
    "print(\"Amostras de treinamento:\", x_train.size(0))\n",
    "\n",
    "print(\"\\nDimensões dos dados das imagens:   \", x_train.size())\n",
    "print(\"Valores mínimo e máximo dos pixels:\", torch.min(x_train), torch.max(x_train))\n",
    "print(\"Tipo dos dados das imagens:        \", type(x_train))\n",
    "print(\"Tipo das classes das imagens:      \", type(y_train))"
   ]
  },
  {
   "cell_type": "markdown",
   "metadata": {},
   "source": [
    "### Visualizando os dados"
   ]
  },
  {
   "cell_type": "code",
   "execution_count": 4,
   "metadata": {
    "ExecuteTime": {
     "end_time": "2018-08-20T21:06:57.405364Z",
     "start_time": "2018-08-20T21:06:57.016124Z"
    }
   },
   "outputs": [
    {
     "data": {
      "text/plain": [
       "(-0.5, 232.5, 87.5, -0.5)"
      ]
     },
     "execution_count": 4,
     "metadata": {},
     "output_type": "execute_result"
    },
    {
     "data": {
      "image/png": "[encoded data removed]",
      "text/plain": [
       "<Figure size 1080x720 with 1 Axes>"
      ]
     },
     "metadata": {},
     "output_type": "display_data"
    }
   ],
   "source": [
    "n_samples = 24\n",
    "\n",
    "# cria um grid com as imagens\n",
    "grid = torchvision.utils.make_grid(x_train[:n_samples].unsqueeze(1), pad_value=1.0, padding=1)\n",
    "\n",
    "plt.figure(figsize=(15, 10))\n",
    "plt.imshow(grid.numpy().transpose(1, 2, 0))\n",
    "plt.axis('off')"
   ]
  },
  {
   "cell_type": "markdown",
   "metadata": {},
   "source": [
    "### Visualizando uma imagem com o matplotlib"
   ]
  },
  {
   "cell_type": "code",
   "execution_count": 5,
   "metadata": {
    "ExecuteTime": {
     "end_time": "2018-08-20T21:06:58.717746Z",
     "start_time": "2018-08-20T21:06:58.529698Z"
    }
   },
   "outputs": [
    {
     "name": "stdout",
     "output_type": "stream",
     "text": [
      "class: tensor(5)\n"
     ]
    },
    {
     "data": {
      "image/png": "[encoded data removed]",
      "text/plain": [
       "<Figure size 432x288 with 1 Axes>"
      ]
     },
     "metadata": {},
     "output_type": "display_data"
    }
   ],
   "source": [
    "image  = x_train[0]\n",
    "target = y_train[0]\n",
    "\n",
    "plt.imshow(image.numpy().reshape(28,28), cmap='gray')\n",
    "print('class:', target)"
   ]
  },
  {
   "cell_type": "markdown",
   "metadata": {},
   "source": [
    "## Modelo"
   ]
  },
  {
   "cell_type": "code",
   "execution_count": 6,
   "metadata": {
    "ExecuteTime": {
     "end_time": "2018-08-20T21:07:01.941956Z",
     "start_time": "2018-08-20T21:07:01.937390Z"
    }
   },
   "outputs": [],
   "source": [
    "model = torch.nn.Linear(28*28, 10) # 28*28 atributos de entrada e 10 neurônios na sáida"
   ]
  },
  {
   "cell_type": "markdown",
   "metadata": {},
   "source": [
    "### Testando um predict com poucas amostras"
   ]
  },
  {
   "cell_type": "code",
   "execution_count": null,
   "metadata": {},
   "outputs": [],
   "source": []
  },
  {
   "cell_type": "markdown",
   "metadata": {},
   "source": [
    "## Treinamento"
   ]
  },
  {
   "cell_type": "markdown",
   "metadata": {},
   "source": [
    "### Inicialização dos parâmetros"
   ]
  },
  {
   "cell_type": "code",
   "execution_count": 7,
   "metadata": {
    "ExecuteTime": {
     "end_time": "2018-08-20T21:07:05.456544Z",
     "start_time": "2018-08-20T21:07:05.452663Z"
    }
   },
   "outputs": [],
   "source": [
    "epochs = 100\n",
    "learningRate = 0.5\n",
    "\n",
    "# Utilizaremos CrossEntropyLoss como função de perda\n",
    "criterion = torch.nn.CrossEntropyLoss()\n",
    "\n",
    "# Gradiente descendente\n",
    "optimizer = torch.optim.SGD(model.parameters(), lr=learningRate)"
   ]
  },
  {
   "cell_type": "markdown",
   "metadata": {},
   "source": [
    "### Visualização do grafo computacional da perda (loss)"
   ]
  },
  {
   "cell_type": "code",
   "execution_count": 8,
   "metadata": {
    "ExecuteTime": {
     "end_time": "2018-08-20T21:07:07.704349Z",
     "start_time": "2018-08-20T21:07:06.885783Z"
    }
   },
   "outputs": [
    {
     "data": {
      "image/svg+xml": [
       "<?xml version=\"1.0\" encoding=\"UTF-8\" standalone=\"no\"?>\n",
       "<!DOCTYPE svg PUBLIC \"-//W3C//DTD SVG 1.1//EN\"\n",
       " \"http://www.w3.org/Graphics/SVG/1.1/DTD/svg11.dtd\">\n",
       "<!-- Generated by graphviz version 2.40.1 (20161225.0304)\n",
       " -->\n",
       "<!-- Title: %3 Pages: 1 -->\n",
       "<svg width=\"164pt\" height=\"270pt\"\n",
       " viewBox=\"0.00 0.00 164.00 270.00\" xmlns=\"http://www.w3.org/2000/svg\" xmlns:xlink=\"http://www.w3.org/1999/xlink\">\n",
       "<g id=\"graph0\" class=\"graph\" transform=\"scale(1 1) rotate(0) translate(4 266)\">\n",
       "<title>%3</title>\n",
       "<polygon fill=\"#ffffff\" stroke=\"transparent\" points=\"-4,4 -4,-266 160,-266 160,4 -4,4\"/>\n",
       "<!-- 4732935416 -->\n",
       "<g id=\"node1\" class=\"node\">\n",
       "<title>4732935416</title>\n",
       "<polygon fill=\"#d3d3d3\" stroke=\"#000000\" points=\"123.5,-21 42.5,-21 42.5,0 123.5,0 123.5,-21\"/>\n",
       "<text text-anchor=\"middle\" x=\"83\" y=\"-7.4\" font-family=\"Times,serif\" font-size=\"12.00\" fill=\"#000000\">NllLossBackward</text>\n",
       "</g>\n",
       "<!-- 4732935472 -->\n",
       "<g id=\"node2\" class=\"node\">\n",
       "<title>4732935472</title>\n",
       "<polygon fill=\"#d3d3d3\" stroke=\"#000000\" points=\"132,-78 34,-78 34,-57 132,-57 132,-78\"/>\n",
       "<text text-anchor=\"middle\" x=\"83\" y=\"-64.4\" font-family=\"Times,serif\" font-size=\"12.00\" fill=\"#000000\">LogSoftmaxBackward</text>\n",
       "</g>\n",
       "<!-- 4732935472&#45;&gt;4732935416 -->\n",
       "<g id=\"edge1\" class=\"edge\">\n",
       "<title>4732935472&#45;&gt;4732935416</title>\n",
       "<path fill=\"none\" stroke=\"#000000\" d=\"M83,-56.7787C83,-49.6134 83,-39.9517 83,-31.3097\"/>\n",
       "<polygon fill=\"#000000\" stroke=\"#000000\" points=\"86.5001,-31.1732 83,-21.1732 79.5001,-31.1732 86.5001,-31.1732\"/>\n",
       "</g>\n",
       "<!-- 4732932504 -->\n",
       "<g id=\"node3\" class=\"node\">\n",
       "<title>4732932504</title>\n",
       "<polygon fill=\"#d3d3d3\" stroke=\"#000000\" points=\"129,-135 37,-135 37,-114 129,-114 129,-135\"/>\n",
       "<text text-anchor=\"middle\" x=\"83\" y=\"-121.4\" font-family=\"Times,serif\" font-size=\"12.00\" fill=\"#000000\">ThAddmmBackward</text>\n",
       "</g>\n",
       "<!-- 4732932504&#45;&gt;4732935472 -->\n",
       "<g id=\"edge2\" class=\"edge\">\n",
       "<title>4732932504&#45;&gt;4732935472</title>\n",
       "<path fill=\"none\" stroke=\"#000000\" d=\"M83,-113.7787C83,-106.6134 83,-96.9517 83,-88.3097\"/>\n",
       "<polygon fill=\"#000000\" stroke=\"#000000\" points=\"86.5001,-88.1732 83,-78.1732 79.5001,-88.1732 86.5001,-88.1732\"/>\n",
       "</g>\n",
       "<!-- 4732936088 -->\n",
       "<g id=\"node4\" class=\"node\">\n",
       "<title>4732936088</title>\n",
       "<polygon fill=\"#d3d3d3\" stroke=\"#000000\" points=\"80,-192 0,-192 0,-171 80,-171 80,-192\"/>\n",
       "<text text-anchor=\"middle\" x=\"40\" y=\"-178.4\" font-family=\"Times,serif\" font-size=\"12.00\" fill=\"#000000\">ExpandBackward</text>\n",
       "</g>\n",
       "<!-- 4732936088&#45;&gt;4732932504 -->\n",
       "<g id=\"edge3\" class=\"edge\">\n",
       "<title>4732936088&#45;&gt;4732932504</title>\n",
       "<path fill=\"none\" stroke=\"#000000\" d=\"M48.088,-170.7787C53.9138,-163.0561 61.9272,-152.4337 68.8074,-143.3134\"/>\n",
       "<polygon fill=\"#000000\" stroke=\"#000000\" points=\"71.72,-145.2642 74.9483,-135.1732 66.1318,-141.0485 71.72,-145.2642\"/>\n",
       "</g>\n",
       "<!-- 4755958696 -->\n",
       "<g id=\"node5\" class=\"node\">\n",
       "<title>4755958696</title>\n",
       "<polygon fill=\"#add8e6\" stroke=\"#000000\" points=\"67,-262 13,-262 13,-228 67,-228 67,-262\"/>\n",
       "<text text-anchor=\"middle\" x=\"40\" y=\"-248.4\" font-family=\"Times,serif\" font-size=\"12.00\" fill=\"#000000\">bias</text>\n",
       "<text text-anchor=\"middle\" x=\"40\" y=\"-235.4\" font-family=\"Times,serif\" font-size=\"12.00\" fill=\"#000000\"> (10)</text>\n",
       "</g>\n",
       "<!-- 4755958696&#45;&gt;4732936088 -->\n",
       "<g id=\"edge4\" class=\"edge\">\n",
       "<title>4755958696&#45;&gt;4732936088</title>\n",
       "<path fill=\"none\" stroke=\"#000000\" d=\"M40,-227.9832C40,-220.1157 40,-210.6973 40,-202.4019\"/>\n",
       "<polygon fill=\"#000000\" stroke=\"#000000\" points=\"43.5001,-202.3686 40,-192.3687 36.5001,-202.3687 43.5001,-202.3686\"/>\n",
       "</g>\n",
       "<!-- 4732935136 -->\n",
       "<g id=\"node6\" class=\"node\">\n",
       "<title>4732935136</title>\n",
       "<polygon fill=\"#d3d3d3\" stroke=\"#000000\" points=\"156,-192 98,-192 98,-171 156,-171 156,-192\"/>\n",
       "<text text-anchor=\"middle\" x=\"127\" y=\"-178.4\" font-family=\"Times,serif\" font-size=\"12.00\" fill=\"#000000\">TBackward</text>\n",
       "</g>\n",
       "<!-- 4732935136&#45;&gt;4732932504 -->\n",
       "<g id=\"edge5\" class=\"edge\">\n",
       "<title>4732935136&#45;&gt;4732932504</title>\n",
       "<path fill=\"none\" stroke=\"#000000\" d=\"M118.7239,-170.7787C112.7626,-163.0561 104.5629,-152.4337 97.5226,-143.3134\"/>\n",
       "<polygon fill=\"#000000\" stroke=\"#000000\" points=\"100.1201,-140.9504 91.239,-135.1732 94.5789,-145.2278 100.1201,-140.9504\"/>\n",
       "</g>\n",
       "<!-- 4755958808 -->\n",
       "<g id=\"node7\" class=\"node\">\n",
       "<title>4755958808</title>\n",
       "<polygon fill=\"#add8e6\" stroke=\"#000000\" points=\"154,-262 100,-262 100,-228 154,-228 154,-262\"/>\n",
       "<text text-anchor=\"middle\" x=\"127\" y=\"-248.4\" font-family=\"Times,serif\" font-size=\"12.00\" fill=\"#000000\">weight</text>\n",
       "<text text-anchor=\"middle\" x=\"127\" y=\"-235.4\" font-family=\"Times,serif\" font-size=\"12.00\" fill=\"#000000\"> (10, 784)</text>\n",
       "</g>\n",
       "<!-- 4755958808&#45;&gt;4732935136 -->\n",
       "<g id=\"edge6\" class=\"edge\">\n",
       "<title>4755958808&#45;&gt;4732935136</title>\n",
       "<path fill=\"none\" stroke=\"#000000\" d=\"M127,-227.9832C127,-220.1157 127,-210.6973 127,-202.4019\"/>\n",
       "<polygon fill=\"#000000\" stroke=\"#000000\" points=\"130.5001,-202.3686 127,-192.3687 123.5001,-202.3687 130.5001,-202.3686\"/>\n",
       "</g>\n",
       "</g>\n",
       "</svg>\n"
      ],
      "text/plain": [
       "<graphviz.dot.Digraph at 0x11a1a44a8>"
      ]
     },
     "execution_count": 8,
     "metadata": {},
     "output_type": "execute_result"
    }
   ],
   "source": [
    "y_pred = model(x_train.view(-1,28*28))\n",
    "loss = criterion(y_pred, y_train)\n",
    "from lib.pytorch_visualize import make_dot\n",
    "p = make_dot(loss, dict(model.named_parameters()))\n",
    "p"
   ]
  },
  {
   "cell_type": "markdown",
   "metadata": {},
   "source": [
    "### Laço de treinamento dos pesos"
   ]
  },
  {
   "cell_type": "code",
   "execution_count": 9,
   "metadata": {
    "ExecuteTime": {
     "end_time": "2018-08-20T21:07:18.685776Z",
     "start_time": "2018-08-20T21:07:18.338268Z"
    }
   },
   "outputs": [],
   "source": [
    "losses = []\n",
    "\n",
    "for i in range(epochs):\n",
    "    # Transforma a entrada para uma dimensão\n",
    "    inputs = x_train.view(-1, 28 * 28)\n",
    "    # Predict da rede\n",
    "    outputs = model(inputs)\n",
    "\n",
    "    # calcula a perda\n",
    "    loss = criterion(outputs, y_train)\n",
    "\n",
    "    # zero, backpropagation, ajusta parâmetros pelo gradiente descendente\n",
    "    optimizer.zero_grad()\n",
    "    loss.backward()\n",
    "    optimizer.step()\n",
    "\n",
    "    losses.append(loss.item())"
   ]
  },
  {
   "cell_type": "code",
   "execution_count": 10,
   "metadata": {
    "ExecuteTime": {
     "end_time": "2018-08-20T21:07:20.157187Z",
     "start_time": "2018-08-20T21:07:20.147356Z"
    }
   },
   "outputs": [
    {
     "name": "stdout",
     "output_type": "stream",
     "text": [
      "Final loss: 0.26502883434295654\n"
     ]
    }
   ],
   "source": [
    "print('Final loss:', loss.item())"
   ]
  },
  {
   "cell_type": "markdown",
   "metadata": {},
   "source": [
    "### Visualizando gráfico de perda durante o treinamento"
   ]
  },
  {
   "cell_type": "code",
   "execution_count": 11,
   "metadata": {
    "ExecuteTime": {
     "end_time": "2018-08-20T21:07:22.357424Z",
     "start_time": "2018-08-20T21:07:22.089769Z"
    }
   },
   "outputs": [
    {
     "data": {
      "text/plain": [
       "[<matplotlib.lines.Line2D at 0x11b86a438>]"
      ]
     },
     "execution_count": 11,
     "metadata": {},
     "output_type": "execute_result"
    },
    {
     "data": {
      "image/png": "[encoded data removed]",
      "text/plain": [
       "<Figure size 432x288 with 1 Axes>"
      ]
     },
     "metadata": {},
     "output_type": "display_data"
    }
   ],
   "source": [
    "plt.plot(losses)"
   ]
  },
  {
   "cell_type": "markdown",
   "metadata": {},
   "source": [
    "## Avaliação"
   ]
  },
  {
   "cell_type": "markdown",
   "metadata": {},
   "source": [
    "### Acurácia tanto no conjunto de treinamento como no conjunto de testes"
   ]
  },
  {
   "cell_type": "code",
   "execution_count": 12,
   "metadata": {
    "ExecuteTime": {
     "end_time": "2018-08-20T21:07:26.762339Z",
     "start_time": "2018-08-20T21:07:26.752102Z"
    }
   },
   "outputs": [
    {
     "name": "stdout",
     "output_type": "stream",
     "text": [
      "Accuracy: 0.942\n"
     ]
    }
   ],
   "source": [
    "def predict(model, input_data):\n",
    "    outputs = model(input_data)\n",
    "    _, predicts = torch.max(outputs, 1)\n",
    "    \n",
    "    return predicts.data\n",
    "\n",
    "y_pred = predict(model, x_train.view(-1, 28*28))\n",
    "accuracy = (y_pred.numpy() == y_train.numpy()).mean()\n",
    "print('Accuracy:', accuracy)"
   ]
  },
  {
   "cell_type": "markdown",
   "metadata": {},
   "source": [
    "### Matriz de confusão com dados de treinamento e teste"
   ]
  },
  {
   "cell_type": "code",
   "execution_count": 13,
   "metadata": {
    "ExecuteTime": {
     "end_time": "2018-08-20T21:07:28.780614Z",
     "start_time": "2018-08-20T21:07:28.696618Z"
    }
   },
   "outputs": [
    {
     "name": "stdout",
     "output_type": "stream",
     "text": [
      "Matriz de confusão:\n"
     ]
    },
    {
     "data": {
      "text/html": [
       "<div>\n",
       "<style scoped>\n",
       "    .dataframe tbody tr th:only-of-type {\n",
       "        vertical-align: middle;\n",
       "    }\n",
       "\n",
       "    .dataframe tbody tr th {\n",
       "        vertical-align: top;\n",
       "    }\n",
       "\n",
       "    .dataframe thead th {\n",
       "        text-align: right;\n",
       "    }\n",
       "</style>\n",
       "<table border=\"1\" class=\"dataframe\">\n",
       "  <thead>\n",
       "    <tr style=\"text-align: right;\">\n",
       "      <th>col_0</th>\n",
       "      <th>0</th>\n",
       "      <th>1</th>\n",
       "      <th>2</th>\n",
       "      <th>3</th>\n",
       "      <th>4</th>\n",
       "      <th>5</th>\n",
       "      <th>6</th>\n",
       "      <th>7</th>\n",
       "      <th>8</th>\n",
       "      <th>9</th>\n",
       "    </tr>\n",
       "    <tr>\n",
       "      <th>row_0</th>\n",
       "      <th></th>\n",
       "      <th></th>\n",
       "      <th></th>\n",
       "      <th></th>\n",
       "      <th></th>\n",
       "      <th></th>\n",
       "      <th></th>\n",
       "      <th></th>\n",
       "      <th></th>\n",
       "      <th></th>\n",
       "    </tr>\n",
       "  </thead>\n",
       "  <tbody>\n",
       "    <tr>\n",
       "      <th>0</th>\n",
       "      <td>96</td>\n",
       "      <td>0</td>\n",
       "      <td>1</td>\n",
       "      <td>0</td>\n",
       "      <td>0</td>\n",
       "      <td>0</td>\n",
       "      <td>1</td>\n",
       "      <td>0</td>\n",
       "      <td>0</td>\n",
       "      <td>2</td>\n",
       "    </tr>\n",
       "    <tr>\n",
       "      <th>1</th>\n",
       "      <td>0</td>\n",
       "      <td>110</td>\n",
       "      <td>1</td>\n",
       "      <td>0</td>\n",
       "      <td>0</td>\n",
       "      <td>0</td>\n",
       "      <td>1</td>\n",
       "      <td>3</td>\n",
       "      <td>1</td>\n",
       "      <td>0</td>\n",
       "    </tr>\n",
       "    <tr>\n",
       "      <th>2</th>\n",
       "      <td>0</td>\n",
       "      <td>1</td>\n",
       "      <td>91</td>\n",
       "      <td>1</td>\n",
       "      <td>0</td>\n",
       "      <td>1</td>\n",
       "      <td>1</td>\n",
       "      <td>1</td>\n",
       "      <td>2</td>\n",
       "      <td>1</td>\n",
       "    </tr>\n",
       "    <tr>\n",
       "      <th>3</th>\n",
       "      <td>0</td>\n",
       "      <td>0</td>\n",
       "      <td>0</td>\n",
       "      <td>88</td>\n",
       "      <td>0</td>\n",
       "      <td>2</td>\n",
       "      <td>0</td>\n",
       "      <td>0</td>\n",
       "      <td>0</td>\n",
       "      <td>0</td>\n",
       "    </tr>\n",
       "    <tr>\n",
       "      <th>4</th>\n",
       "      <td>0</td>\n",
       "      <td>0</td>\n",
       "      <td>1</td>\n",
       "      <td>0</td>\n",
       "      <td>102</td>\n",
       "      <td>1</td>\n",
       "      <td>0</td>\n",
       "      <td>2</td>\n",
       "      <td>0</td>\n",
       "      <td>3</td>\n",
       "    </tr>\n",
       "    <tr>\n",
       "      <th>5</th>\n",
       "      <td>0</td>\n",
       "      <td>2</td>\n",
       "      <td>0</td>\n",
       "      <td>1</td>\n",
       "      <td>0</td>\n",
       "      <td>83</td>\n",
       "      <td>0</td>\n",
       "      <td>0</td>\n",
       "      <td>2</td>\n",
       "      <td>1</td>\n",
       "    </tr>\n",
       "    <tr>\n",
       "      <th>6</th>\n",
       "      <td>1</td>\n",
       "      <td>0</td>\n",
       "      <td>1</td>\n",
       "      <td>1</td>\n",
       "      <td>2</td>\n",
       "      <td>2</td>\n",
       "      <td>90</td>\n",
       "      <td>0</td>\n",
       "      <td>0</td>\n",
       "      <td>0</td>\n",
       "    </tr>\n",
       "    <tr>\n",
       "      <th>7</th>\n",
       "      <td>0</td>\n",
       "      <td>1</td>\n",
       "      <td>1</td>\n",
       "      <td>1</td>\n",
       "      <td>0</td>\n",
       "      <td>0</td>\n",
       "      <td>0</td>\n",
       "      <td>110</td>\n",
       "      <td>0</td>\n",
       "      <td>3</td>\n",
       "    </tr>\n",
       "    <tr>\n",
       "      <th>8</th>\n",
       "      <td>0</td>\n",
       "      <td>2</td>\n",
       "      <td>2</td>\n",
       "      <td>0</td>\n",
       "      <td>0</td>\n",
       "      <td>1</td>\n",
       "      <td>1</td>\n",
       "      <td>0</td>\n",
       "      <td>82</td>\n",
       "      <td>0</td>\n",
       "    </tr>\n",
       "    <tr>\n",
       "      <th>9</th>\n",
       "      <td>0</td>\n",
       "      <td>0</td>\n",
       "      <td>1</td>\n",
       "      <td>1</td>\n",
       "      <td>1</td>\n",
       "      <td>2</td>\n",
       "      <td>0</td>\n",
       "      <td>1</td>\n",
       "      <td>0</td>\n",
       "      <td>90</td>\n",
       "    </tr>\n",
       "  </tbody>\n",
       "</table>\n",
       "</div>"
      ],
      "text/plain": [
       "col_0   0    1   2   3    4   5   6    7   8   9\n",
       "row_0                                           \n",
       "0      96    0   1   0    0   0   1    0   0   2\n",
       "1       0  110   1   0    0   0   1    3   1   0\n",
       "2       0    1  91   1    0   1   1    1   2   1\n",
       "3       0    0   0  88    0   2   0    0   0   0\n",
       "4       0    0   1   0  102   1   0    2   0   3\n",
       "5       0    2   0   1    0  83   0    0   2   1\n",
       "6       1    0   1   1    2   2  90    0   0   0\n",
       "7       0    1   1   1    0   0   0  110   0   3\n",
       "8       0    2   2   0    0   1   1    0  82   0\n",
       "9       0    0   1   1    1   2   0    1   0  90"
      ]
     },
     "execution_count": 13,
     "metadata": {},
     "output_type": "execute_result"
    }
   ],
   "source": [
    "print('Matriz de confusão:')\n",
    "pd.crosstab(y_pred.numpy(), y_train.numpy())"
   ]
  },
  {
   "cell_type": "markdown",
   "metadata": {},
   "source": [
    "## Visualizando a matriz de pesos treinados"
   ]
  },
  {
   "cell_type": "markdown",
   "metadata": {},
   "source": [
    "Observe que a matriz de peso treinado para cada classe mostra a importância dos pesos associados aos caracteres de cada classe."
   ]
  },
  {
   "cell_type": "code",
   "execution_count": 14,
   "metadata": {
    "ExecuteTime": {
     "end_time": "2018-08-20T21:07:30.947279Z",
     "start_time": "2018-08-20T21:07:30.735095Z"
    }
   },
   "outputs": [
    {
     "name": "stdout",
     "output_type": "stream",
     "text": [
      "weights: torch.Size([10, 784])\n",
      "bias:    torch.Size([10])\n"
     ]
    },
    {
     "data": {
      "image/png": "[encoded data removed]",
      "text/plain": [
       "<Figure size 432x288 with 1 Axes>"
      ]
     },
     "metadata": {},
     "output_type": "display_data"
    }
   ],
   "source": [
    "weights = model.state_dict()['weight']\n",
    "print('weights:', weights.shape)\n",
    "\n",
    "bias = model.state_dict()['bias']\n",
    "print('bias:   ', bias.shape)\n",
    "\n",
    "# Visualizando pesos da classe 3\n",
    "plt.imshow(weights[3, :].numpy().reshape((28,28)),cmap = 'gray')\n",
    "plt.show()"
   ]
  },
  {
   "cell_type": "markdown",
   "metadata": {},
   "source": [
    "### Visualizando os pesos de todas as classes"
   ]
  },
  {
   "cell_type": "code",
   "execution_count": 15,
   "metadata": {
    "ExecuteTime": {
     "end_time": "2018-08-20T21:07:33.407081Z",
     "start_time": "2018-08-20T21:07:32.980285Z"
    }
   },
   "outputs": [
    {
     "data": {
      "image/png": "[encoded data removed]",
      "text/plain": [
       "<Figure size 1080x720 with 1 Axes>"
      ]
     },
     "metadata": {},
     "output_type": "display_data"
    }
   ],
   "source": [
    "# cria um grid com as imagens\n",
    "grid = torchvision.utils.make_grid(weights.view(-1, 1, 28, 28), normalize=True, pad_value=1.0, padding=1, nrow=10)\n",
    "\n",
    "plt.figure(figsize=(15, 10))\n",
    "plt.imshow(grid.numpy().transpose(1, 2, 0))\n",
    "plt.axis('off');"
   ]
  },
  {
   "cell_type": "markdown",
   "metadata": {},
   "source": [
    "### Diagrama da regressão softmax com visualização dos pesos W"
   ]
  },
  {
   "cell_type": "markdown",
   "metadata": {},
   "source": [
    "<img src=\"../figures/RegressaoSoftmaxArgmaxNMIST.png\" width = \"400\">"
   ]
  },
  {
   "cell_type": "markdown",
   "metadata": {},
   "source": [
    "# Atividades"
   ]
  },
  {
   "cell_type": "markdown",
   "metadata": {},
   "source": [
    "## Exercícios"
   ]
  },
  {
   "cell_type": "markdown",
   "metadata": {},
   "source": [
    "- 1) Na configuração da figura acima, mostre os valores de z0 até z9, os valores das probabilidades y_hat, após o softmax, quando a rede recebe como entrada a nona amostra que contém o manuscrito do dígito '4':"
   ]
  },
  {
   "cell_type": "code",
   "execution_count": 18,
   "metadata": {
    "ExecuteTime": {
     "end_time": "2018-08-20T21:02:26.658663Z",
     "start_time": "2018-08-20T21:02:26.476702Z"
    }
   },
   "outputs": [
    {
     "name": "stdout",
     "output_type": "stream",
     "text": [
      "class: tensor(4)\n"
     ]
    },
    {
     "data": {
      "image/png": "[encoded data removed]",
      "text/plain": [
       "<Figure size 432x288 with 1 Axes>"
      ]
     },
     "metadata": {},
     "output_type": "display_data"
    }
   ],
   "source": [
    "image  = x_train[9]\n",
    "target = y_train[9]\n",
    "\n",
    "plt.imshow(image.numpy().reshape(28,28), cmap='gray')\n",
    "print('class:', target)"
   ]
  },
  {
   "cell_type": "markdown",
   "metadata": {},
   "source": [
    "- 2) Insira código no laço do treinamento para que no final de cada época, \n",
    "     seja impresso: o número da época e a perda e a acurácia"
   ]
  },
  {
   "cell_type": "markdown",
   "metadata": {},
   "source": [
    "- 3) Insira código no laço do treinamento para visualização dos valores dos gradientes referentes à classe do dígito 4, no final de cada época."
   ]
  },
  {
   "cell_type": "markdown",
   "metadata": {},
   "source": [
    "## Perguntas"
   ]
  },
  {
   "cell_type": "markdown",
   "metadata": {},
   "source": [
    "1. Qual é o shape da matriz de entrada na rede?\n",
    "2. Qual é o shape da saída da rede?\n",
    "3. Qual é o número total de parâmetros da rede, incluindo o bias?"
   ]
  },
  {
   "cell_type": "markdown",
   "metadata": {
    "heading_collapsed": true
   },
   "source": [
    "# Aprendizados\n"
   ]
  },
  {
   "cell_type": "code",
   "execution_count": null,
   "metadata": {
    "collapsed": true,
    "hidden": true
   },
   "outputs": [],
   "source": []
  }
 ],
 "metadata": {
  "anaconda-cloud": {},
  "kernelspec": {
   "display_name": "Python 3",
   "language": "python",
   "name": "python3"
  },
  "language_info": {
   "codemirror_mode": {
    "name": "ipython",
    "version": 3
   },
   "file_extension": ".py",
   "mimetype": "text/x-python",
   "name": "python",
   "nbconvert_exporter": "python",
   "pygments_lexer": "ipython3",
   "version": "3.6.5"
  },
  "toc": {
   "nav_menu": {
    "height": "318px",
    "width": "252px"
   },
   "number_sections": true,
   "sideBar": true,
   "skip_h1_title": false,
   "toc_cell": false,
   "toc_position": {},
   "toc_section_display": "block",
   "toc_window_display": false
  }
 },
 "nbformat": 4,
 "nbformat_minor": 1
}
