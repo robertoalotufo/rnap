{
 "cells": [
  {
   "cell_type": "markdown",
   "metadata": {},
   "source": [
    "# Regressão Softmax com dados do MNIST"
   ]
  },
  {
   "cell_type": "markdown",
   "metadata": {
    "heading_collapsed": true
   },
   "source": [
    "## Objetivo"
   ]
  },
  {
   "cell_type": "markdown",
   "metadata": {
    "hidden": true
   },
   "source": [
    "O objetivo deste notebook é ilustrar o uso de praticamente a mesma rede desenvolvida para a classificação das flores Íris, porém agora com o problema de classificação de dígitos manuscritos utilizando o dataset MNIST.\n",
    "As principais diferenças são:\n",
    "- tipo do dado, agora imagem com muito atributos: 28 x 28 pixels\n",
    "- número de amostras, muito maior, 60 mil\n",
    "Neste exercício será possível a interpretação do significado dos parâmetros treinados"
   ]
  },
  {
   "cell_type": "markdown",
   "metadata": {
    "heading_collapsed": true
   },
   "source": [
    "## Importação das bibliotecas"
   ]
  },
  {
   "cell_type": "code",
   "execution_count": 3,
   "metadata": {
    "ExecuteTime": {
     "end_time": "2017-11-24T15:44:50.097111",
     "start_time": "2017-11-24T15:44:48.915046"
    },
    "collapsed": true,
    "hidden": true
   },
   "outputs": [],
   "source": [
    "%matplotlib inline\n",
    "import numpy as np\n",
    "import matplotlib.pyplot as plt\n",
    "import pandas as pd\n",
    "\n",
    "import torch\n",
    "from torch.autograd import Variable\n",
    "\n",
    "import torchvision"
   ]
  },
  {
   "cell_type": "markdown",
   "metadata": {
    "heading_collapsed": true
   },
   "source": [
    "## Carregamento dos dados do MNIST"
   ]
  },
  {
   "cell_type": "code",
   "execution_count": 4,
   "metadata": {
    "ExecuteTime": {
     "end_time": "2017-11-24T15:44:50.638218",
     "start_time": "2017-11-24T15:44:50.098808"
    },
    "hidden": true
   },
   "outputs": [
    {
     "name": "stdout",
     "output_type": "stream",
     "text": [
      "Amostras de treinamento: 60000\n",
      "\n",
      "Dimensões dos dados das imagens:    torch.Size([60000, 28, 28])\n",
      "Valores mínimo e máximo dos pixels: 0 255\n",
      "Tipo dos dados das imagens:         <class 'torch.ByteTensor'>\n",
      "Tipo das classes das imagens:       <class 'torch.LongTensor'>\n"
     ]
    }
   ],
   "source": [
    "dataset_dir = '/data/datasets/MNIST/'\n",
    "\n",
    "x_train, y_train = torch.load(dataset_dir + 'processed/training.pt')\n",
    "\n",
    "print(\"Amostras de treinamento:\", x_train.size(0))\n",
    "\n",
    "print(\"\\nDimensões dos dados das imagens:   \", x_train.size())\n",
    "print(\"Valores mínimo e máximo dos pixels:\", torch.min(x_train), torch.max(x_train))\n",
    "print(\"Tipo dos dados das imagens:        \", type(x_train))\n",
    "print(\"Tipo das classes das imagens:      \", type(y_train))"
   ]
  },
  {
   "cell_type": "markdown",
   "metadata": {
    "hidden": true
   },
   "source": [
    "### Carregamento, normalização e seleção dos dados do MNIST\n",
    "\n",
    "Neste exemplo utilizaremos apenas 1000 amostras de treinamento."
   ]
  },
  {
   "cell_type": "code",
   "execution_count": 5,
   "metadata": {
    "ExecuteTime": {
     "end_time": "2017-11-24T15:44:50.895668",
     "start_time": "2017-11-24T15:44:50.640110"
    },
    "hidden": true
   },
   "outputs": [
    {
     "name": "stdout",
     "output_type": "stream",
     "text": [
      "Amostras de treinamento: 1000\n",
      "\n",
      "Dimensões dos dados das imagens:    torch.Size([1000, 28, 28])\n",
      "Valores mínimo e máximo dos pixels: 0.0 1.0\n",
      "Tipo dos dados das imagens:         <class 'torch.FloatTensor'>\n",
      "Tipo das classes das imagens:       <class 'torch.LongTensor'>\n"
     ]
    }
   ],
   "source": [
    "x_train = x_train.float()\n",
    "\n",
    "x_train = x_train / 255.\n",
    "\n",
    "if True:\n",
    "    n_samples_train = 1000\n",
    "\n",
    "    x_train = x_train[:n_samples_train]\n",
    "    y_train = y_train[:n_samples_train]\n",
    "\n",
    "print(\"Amostras de treinamento:\", x_train.size(0))\n",
    "\n",
    "print(\"\\nDimensões dos dados das imagens:   \", x_train.size())\n",
    "print(\"Valores mínimo e máximo dos pixels:\", torch.min(x_train), torch.max(x_train))\n",
    "print(\"Tipo dos dados das imagens:        \", type(x_train))\n",
    "print(\"Tipo das classes das imagens:      \", type(y_train))"
   ]
  },
  {
   "cell_type": "markdown",
   "metadata": {
    "hidden": true
   },
   "source": [
    "### Visualizando os dados"
   ]
  },
  {
   "cell_type": "code",
   "execution_count": 47,
   "metadata": {
    "ExecuteTime": {
     "end_time": "2017-11-24T16:32:19.474568",
     "start_time": "2017-11-24T16:32:19.207270"
    },
    "hidden": true
   },
   "outputs": [
    {
     "data": {
      "text/plain": [
       "(-0.5, 232.5, 87.5, -0.5)"
      ]
     },
     "execution_count": 47,
     "metadata": {},
     "output_type": "execute_result"
    },
    {
     "data": {
      "image/png": "[encoded data removed]",
      "text/plain": [
       "<matplotlib.figure.Figure at 0x1152bda90>"
      ]
     },
     "metadata": {},
     "output_type": "display_data"
    }
   ],
   "source": [
    "n_samples = 24\n",
    "\n",
    "# cria um grid com as imagens\n",
    "grid = torchvision.utils.make_grid(x_train[:n_samples].unsqueeze(1), pad_value=1.0, padding=1)\n",
    "\n",
    "plt.figure(figsize=(15, 10))\n",
    "plt.imshow(grid.numpy().transpose(1, 2, 0))\n",
    "plt.axis('off')"
   ]
  },
  {
   "cell_type": "markdown",
   "metadata": {
    "hidden": true
   },
   "source": [
    "### Visualizando uma imagem com o matplotlib"
   ]
  },
  {
   "cell_type": "code",
   "execution_count": 7,
   "metadata": {
    "ExecuteTime": {
     "end_time": "2017-11-24T15:44:51.413232",
     "start_time": "2017-11-24T15:44:51.251376"
    },
    "hidden": true
   },
   "outputs": [
    {
     "name": "stdout",
     "output_type": "stream",
     "text": [
      "class: 5\n"
     ]
    },
    {
     "data": {
      "image/png": "[encoded data removed]",
      "text/plain": [
       "<matplotlib.figure.Figure at 0x10e700860>"
      ]
     },
     "metadata": {},
     "output_type": "display_data"
    }
   ],
   "source": [
    "image  = x_train[0]\n",
    "target = y_train[0]\n",
    "\n",
    "plt.imshow(image.numpy().reshape(28,28), cmap='gray')\n",
    "print('class:', target)"
   ]
  },
  {
   "cell_type": "markdown",
   "metadata": {
    "heading_collapsed": true
   },
   "source": [
    "## Modelo"
   ]
  },
  {
   "cell_type": "code",
   "execution_count": 8,
   "metadata": {
    "ExecuteTime": {
     "end_time": "2017-11-24T15:44:51.419287",
     "start_time": "2017-11-24T15:44:51.415065"
    },
    "collapsed": true,
    "hidden": true
   },
   "outputs": [],
   "source": [
    "model = torch.nn.Linear(28*28, 10) # 28*28 atributos de entrada e 10 neurônios na sáida"
   ]
  },
  {
   "cell_type": "markdown",
   "metadata": {
    "hidden": true
   },
   "source": [
    "### Testando um predict com poucas amostras"
   ]
  },
  {
   "cell_type": "code",
   "execution_count": null,
   "metadata": {
    "collapsed": true,
    "hidden": true
   },
   "outputs": [],
   "source": []
  },
  {
   "cell_type": "markdown",
   "metadata": {
    "heading_collapsed": true
   },
   "source": [
    "## Treinamento"
   ]
  },
  {
   "cell_type": "markdown",
   "metadata": {
    "hidden": true
   },
   "source": [
    "### Inicialização dos parâmetros"
   ]
  },
  {
   "cell_type": "code",
   "execution_count": 9,
   "metadata": {
    "ExecuteTime": {
     "end_time": "2017-11-24T15:44:51.425768",
     "start_time": "2017-11-24T15:44:51.420825"
    },
    "collapsed": true,
    "hidden": true
   },
   "outputs": [],
   "source": [
    "epochs = 100\n",
    "learningRate = 0.5\n",
    "\n",
    "# Utilizaremos CrossEntropyLoss como função de perda\n",
    "criterion = torch.nn.CrossEntropyLoss()\n",
    "\n",
    "# Gradiente descendente\n",
    "optimizer = torch.optim.SGD(model.parameters(), lr=learningRate)"
   ]
  },
  {
   "cell_type": "markdown",
   "metadata": {
    "hidden": true
   },
   "source": [
    "### Visualização do grafo computacional da perda (loss)"
   ]
  },
  {
   "cell_type": "code",
   "execution_count": 42,
   "metadata": {
    "ExecuteTime": {
     "end_time": "2017-11-24T16:28:18.101867",
     "start_time": "2017-11-24T16:28:18.062312"
    },
    "hidden": true
   },
   "outputs": [
    {
     "data": {
      "image/svg+xml": [
       "<?xml version=\"1.0\" encoding=\"UTF-8\" standalone=\"no\"?>\n",
       "<!DOCTYPE svg PUBLIC \"-//W3C//DTD SVG 1.1//EN\"\n",
       " \"http://www.w3.org/Graphics/SVG/1.1/DTD/svg11.dtd\">\n",
       "<!-- Generated by graphviz version 2.38.0 (20140413.2041)\n",
       " -->\n",
       "<!-- Title: %3 Pages: 1 -->\n",
       "<svg width=\"513pt\" height=\"276pt\"\n",
       " viewBox=\"0.00 0.00 513.00 276.00\" xmlns=\"http://www.w3.org/2000/svg\" xmlns:xlink=\"http://www.w3.org/1999/xlink\">\n",
       "<g id=\"graph0\" class=\"graph\" transform=\"scale(1 1) rotate(0) translate(4 272)\">\n",
       "<title>%3</title>\n",
       "<polygon fill=\"white\" stroke=\"none\" points=\"-4,4 -4,-272 509,-272 509,4 -4,4\"/>\n",
       "<!-- 4655794600 -->\n",
       "<g id=\"node1\" class=\"node\"><title>4655794600</title>\n",
       "<polygon fill=\"lightgrey\" stroke=\"black\" points=\"455.141,-20 344.859,-20 344.859,-0 455.141,-0 455.141,-20\"/>\n",
       "<text text-anchor=\"middle\" x=\"400\" y=\"-6.4\" font-family=\"Times,serif\" font-size=\"12.00\">NLLLossBackward</text>\n",
       "</g>\n",
       "<!-- 4655795320 -->\n",
       "<g id=\"node2\" class=\"node\"><title>4655795320</title>\n",
       "<polygon fill=\"lightgrey\" stroke=\"black\" points=\"349.139,-76 224.861,-76 224.861,-56 349.139,-56 349.139,-76\"/>\n",
       "<text text-anchor=\"middle\" x=\"287\" y=\"-62.4\" font-family=\"Times,serif\" font-size=\"12.00\">LogSoftmaxBackward</text>\n",
       "</g>\n",
       "<!-- 4655795320&#45;&gt;4655794600 -->\n",
       "<g id=\"edge1\" class=\"edge\"><title>4655795320&#45;&gt;4655794600</title>\n",
       "<path fill=\"none\" stroke=\"black\" d=\"M305.914,-55.9616C323.921,-47.3563 351.251,-34.2962 371.823,-24.4652\"/>\n",
       "<polygon fill=\"black\" stroke=\"black\" points=\"373.511,-27.5376 381.025,-20.0679 370.493,-21.2217 373.511,-27.5376\"/>\n",
       "</g>\n",
       "<!-- 4655793400 -->\n",
       "<g id=\"node3\" class=\"node\"><title>4655793400</title>\n",
       "<polygon fill=\"lightgrey\" stroke=\"black\" points=\"235.979,-132 132.021,-132 132.021,-112 235.979,-112 235.979,-132\"/>\n",
       "<text text-anchor=\"middle\" x=\"184\" y=\"-118.4\" font-family=\"Times,serif\" font-size=\"12.00\">AddmmBackward</text>\n",
       "</g>\n",
       "<!-- 4655793400&#45;&gt;4655795320 -->\n",
       "<g id=\"edge2\" class=\"edge\"><title>4655793400&#45;&gt;4655795320</title>\n",
       "<path fill=\"none\" stroke=\"black\" d=\"M201.473,-111.84C217.774,-103.293 242.308,-90.431 260.924,-80.6707\"/>\n",
       "<polygon fill=\"black\" stroke=\"black\" points=\"262.554,-83.7682 269.785,-76.0251 259.304,-77.5686 262.554,-83.7682\"/>\n",
       "</g>\n",
       "<!-- 4655722224 -->\n",
       "<g id=\"node4\" class=\"node\"><title>4655722224</title>\n",
       "<polygon fill=\"lightblue\" stroke=\"black\" points=\"54,-200 0,-200 0,-168 54,-168 54,-200\"/>\n",
       "<text text-anchor=\"middle\" x=\"27\" y=\"-186.4\" font-family=\"Times,serif\" font-size=\"12.00\">bias</text>\n",
       "<text text-anchor=\"middle\" x=\"27\" y=\"-174.4\" font-family=\"Times,serif\" font-size=\"12.00\"> (10)</text>\n",
       "</g>\n",
       "<!-- 4655722224&#45;&gt;4655793400 -->\n",
       "<g id=\"edge3\" class=\"edge\"><title>4655722224&#45;&gt;4655793400</title>\n",
       "<path fill=\"none\" stroke=\"black\" d=\"M54.081,-171.584C57.0837,-170.358 60.1023,-169.142 63,-168 91.9561,-156.588 125.102,-144.316 149.372,-135.474\"/>\n",
       "<polygon fill=\"black\" stroke=\"black\" points=\"150.66,-138.73 158.864,-132.026 148.27,-132.151 150.66,-138.73\"/>\n",
       "</g>\n",
       "<!-- 4655793640 -->\n",
       "<g id=\"node5\" class=\"node\"><title>4655793640</title>\n",
       "<polygon fill=\"lightgrey\" stroke=\"black\" points=\"185.548,-194 72.4522,-194 72.4522,-174 185.548,-174 185.548,-194\"/>\n",
       "<text text-anchor=\"middle\" x=\"129\" y=\"-180.4\" font-family=\"Times,serif\" font-size=\"12.00\">TransposeBackward</text>\n",
       "</g>\n",
       "<!-- 4655793640&#45;&gt;4655793400 -->\n",
       "<g id=\"edge4\" class=\"edge\"><title>4655793640&#45;&gt;4655793400</title>\n",
       "<path fill=\"none\" stroke=\"black\" d=\"M137.353,-173.887C145.672,-164.813 158.63,-150.676 168.78,-139.603\"/>\n",
       "<polygon fill=\"black\" stroke=\"black\" points=\"171.391,-141.935 175.568,-132.198 166.231,-137.205 171.391,-141.935\"/>\n",
       "</g>\n",
       "<!-- 4655722448 -->\n",
       "<g id=\"node6\" class=\"node\"><title>4655722448</title>\n",
       "<polygon fill=\"lightblue\" stroke=\"black\" points=\"160.492,-268 97.5078,-268 97.5078,-236 160.492,-236 160.492,-268\"/>\n",
       "<text text-anchor=\"middle\" x=\"129\" y=\"-254.4\" font-family=\"Times,serif\" font-size=\"12.00\">weight</text>\n",
       "<text text-anchor=\"middle\" x=\"129\" y=\"-242.4\" font-family=\"Times,serif\" font-size=\"12.00\"> (10, 784)</text>\n",
       "</g>\n",
       "<!-- 4655722448&#45;&gt;4655793640 -->\n",
       "<g id=\"edge5\" class=\"edge\"><title>4655722448&#45;&gt;4655793640</title>\n",
       "<path fill=\"none\" stroke=\"black\" d=\"M129,-235.692C129,-226.396 129,-214.44 129,-204.474\"/>\n",
       "<polygon fill=\"black\" stroke=\"black\" points=\"132.5,-204.316 129,-194.316 125.5,-204.316 132.5,-204.316\"/>\n",
       "</g>\n",
       "<!-- 4655751688 -->\n",
       "<g id=\"node7\" class=\"node\"><title>4655751688</title>\n",
       "<polygon fill=\"orange\" stroke=\"black\" points=\"275.992,-194 204.008,-194 204.008,-174 275.992,-174 275.992,-194\"/>\n",
       "<text text-anchor=\"middle\" x=\"240\" y=\"-180.4\" font-family=\"Times,serif\" font-size=\"12.00\">(1000, 784)</text>\n",
       "</g>\n",
       "<!-- 4655751688&#45;&gt;4655793400 -->\n",
       "<g id=\"edge6\" class=\"edge\"><title>4655751688&#45;&gt;4655793400</title>\n",
       "<path fill=\"none\" stroke=\"black\" d=\"M231.495,-173.887C223.025,-164.813 209.831,-150.676 199.496,-139.603\"/>\n",
       "<polygon fill=\"black\" stroke=\"black\" points=\"201.967,-137.121 192.585,-132.198 196.85,-141.897 201.967,-137.121\"/>\n",
       "</g>\n",
       "<!-- 4655755016 -->\n",
       "<g id=\"node8\" class=\"node\"><title>4655755016</title>\n",
       "<polygon fill=\"orange\" stroke=\"black\" points=\"353.992,-194 294.008,-194 294.008,-174 353.992,-174 353.992,-194\"/>\n",
       "<text text-anchor=\"middle\" x=\"324\" y=\"-180.4\" font-family=\"Times,serif\" font-size=\"12.00\">(784, 10)</text>\n",
       "</g>\n",
       "<!-- 4655755016&#45;&gt;4655793400 -->\n",
       "<g id=\"edge7\" class=\"edge\"><title>4655755016&#45;&gt;4655793400</title>\n",
       "<path fill=\"none\" stroke=\"black\" d=\"M302.737,-173.887C279.165,-163.785 240.956,-147.41 214.267,-135.972\"/>\n",
       "<polygon fill=\"black\" stroke=\"black\" points=\"215.575,-132.724 205.004,-132.002 212.817,-139.158 215.575,-132.724\"/>\n",
       "</g>\n",
       "<!-- 4655753800 -->\n",
       "<g id=\"node9\" class=\"node\"><title>4655753800</title>\n",
       "<polygon fill=\"orange\" stroke=\"black\" points=\"319.992,-132 254.008,-132 254.008,-112 319.992,-112 319.992,-132\"/>\n",
       "<text text-anchor=\"middle\" x=\"287\" y=\"-118.4\" font-family=\"Times,serif\" font-size=\"12.00\">(1000, 10)</text>\n",
       "</g>\n",
       "<!-- 4655753800&#45;&gt;4655795320 -->\n",
       "<g id=\"edge8\" class=\"edge\"><title>4655753800&#45;&gt;4655795320</title>\n",
       "<path fill=\"none\" stroke=\"black\" d=\"M287,-111.594C287,-104.702 287,-95.1024 287,-86.5741\"/>\n",
       "<polygon fill=\"black\" stroke=\"black\" points=\"290.5,-86.2983 287,-76.2983 283.5,-86.2983 290.5,-86.2983\"/>\n",
       "</g>\n",
       "<!-- 4655781640 -->\n",
       "<g id=\"node10\" class=\"node\"><title>4655781640</title>\n",
       "<polygon fill=\"orange\" stroke=\"black\" points=\"403.992,-132 338.008,-132 338.008,-112 403.992,-112 403.992,-132\"/>\n",
       "<text text-anchor=\"middle\" x=\"371\" y=\"-118.4\" font-family=\"Times,serif\" font-size=\"12.00\">(1000, 10)</text>\n",
       "</g>\n",
       "<!-- 4655781640&#45;&gt;4655795320 -->\n",
       "<g id=\"edge9\" class=\"edge\"><title>4655781640&#45;&gt;4655795320</title>\n",
       "<path fill=\"none\" stroke=\"black\" d=\"M356.751,-111.84C343.881,-103.567 324.72,-91.2488 309.736,-81.6159\"/>\n",
       "<polygon fill=\"black\" stroke=\"black\" points=\"311.343,-78.4886 301.039,-76.0251 307.558,-84.3768 311.343,-78.4886\"/>\n",
       "</g>\n",
       "<!-- 4642016648 -->\n",
       "<g id=\"node11\" class=\"node\"><title>4642016648</title>\n",
       "<polygon fill=\"orange\" stroke=\"black\" points=\"432.992,-76 367.008,-76 367.008,-56 432.992,-56 432.992,-76\"/>\n",
       "<text text-anchor=\"middle\" x=\"400\" y=\"-62.4\" font-family=\"Times,serif\" font-size=\"12.00\">(1000, 10)</text>\n",
       "</g>\n",
       "<!-- 4642016648&#45;&gt;4655794600 -->\n",
       "<g id=\"edge10\" class=\"edge\"><title>4642016648&#45;&gt;4655794600</title>\n",
       "<path fill=\"none\" stroke=\"black\" d=\"M400,-55.5939C400,-48.7024 400,-39.1024 400,-30.5741\"/>\n",
       "<polygon fill=\"black\" stroke=\"black\" points=\"403.5,-30.2983 400,-20.2983 396.5,-30.2983 403.5,-30.2983\"/>\n",
       "</g>\n",
       "<!-- 4655777800 -->\n",
       "<g id=\"node12\" class=\"node\"><title>4655777800</title>\n",
       "<polygon fill=\"orange\" stroke=\"black\" points=\"505,-76 451,-76 451,-56 505,-56 505,-76\"/>\n",
       "<text text-anchor=\"middle\" x=\"478\" y=\"-62.4\" font-family=\"Times,serif\" font-size=\"12.00\">(1000)</text>\n",
       "</g>\n",
       "<!-- 4655777800&#45;&gt;4655794600 -->\n",
       "<g id=\"edge11\" class=\"edge\"><title>4655777800&#45;&gt;4655794600</title>\n",
       "<path fill=\"none\" stroke=\"black\" d=\"M464.768,-55.8396C452.931,-47.6446 435.361,-35.4809 421.507,-25.8892\"/>\n",
       "<polygon fill=\"black\" stroke=\"black\" points=\"423.25,-22.8395 413.036,-20.0251 419.266,-28.5949 423.25,-22.8395\"/>\n",
       "</g>\n",
       "</g>\n",
       "</svg>\n"
      ],
      "text/plain": [
       "<graphviz.dot.Digraph at 0x1154bada0>"
      ]
     },
     "execution_count": 42,
     "metadata": {},
     "output_type": "execute_result"
    }
   ],
   "source": [
    "y_pred = model(Variable(x_train.view(-1,28*28)))\n",
    "loss = criterion(y_pred, Variable(y_train))\n",
    "from lib.pytorch_visualize import make_dot\n",
    "p = make_dot(loss, dict(model.named_parameters()))\n",
    "p"
   ]
  },
  {
   "cell_type": "markdown",
   "metadata": {
    "hidden": true
   },
   "source": [
    "### Laço de treinamento dos pesos"
   ]
  },
  {
   "cell_type": "code",
   "execution_count": 10,
   "metadata": {
    "ExecuteTime": {
     "end_time": "2017-11-24T15:44:51.678678",
     "start_time": "2017-11-24T15:44:51.427695"
    },
    "collapsed": true,
    "hidden": true
   },
   "outputs": [],
   "source": [
    "losses = []\n",
    "\n",
    "for i in range(epochs):\n",
    "    # Transforma a entrada para uma dimensão\n",
    "    inputs = Variable(x_train.view(-1, 28 * 28))\n",
    "    # Predict da rede\n",
    "    outputs = model(inputs)\n",
    "\n",
    "    # calcula a perda\n",
    "    loss = criterion(outputs, Variable(y_train))\n",
    "\n",
    "    # zero, backpropagation, ajusta parâmetros pelo gradiente descendente\n",
    "    optimizer.zero_grad()\n",
    "    loss.backward()\n",
    "    optimizer.step()\n",
    "\n",
    "    losses.append(loss.data[0])"
   ]
  },
  {
   "cell_type": "code",
   "execution_count": 11,
   "metadata": {
    "ExecuteTime": {
     "end_time": "2017-11-24T15:44:51.685301",
     "start_time": "2017-11-24T15:44:51.680419"
    },
    "hidden": true
   },
   "outputs": [
    {
     "name": "stdout",
     "output_type": "stream",
     "text": [
      "Final loss: 0.26606374979019165\n"
     ]
    }
   ],
   "source": [
    "print('Final loss:', loss.data[0])"
   ]
  },
  {
   "cell_type": "markdown",
   "metadata": {
    "hidden": true
   },
   "source": [
    "### Visualizando gráfico de perda durante o treinamento"
   ]
  },
  {
   "cell_type": "code",
   "execution_count": 12,
   "metadata": {
    "ExecuteTime": {
     "end_time": "2017-11-24T15:44:56.787741",
     "start_time": "2017-11-24T15:44:56.627754"
    },
    "hidden": true
   },
   "outputs": [
    {
     "data": {
      "text/plain": [
       "[<matplotlib.lines.Line2D at 0x1150be160>]"
      ]
     },
     "execution_count": 12,
     "metadata": {},
     "output_type": "execute_result"
    },
    {
     "data": {
      "image/png": "[encoded data removed]",
      "text/plain": [
       "<matplotlib.figure.Figure at 0x114a4c748>"
      ]
     },
     "metadata": {},
     "output_type": "display_data"
    }
   ],
   "source": [
    "plt.plot(losses)"
   ]
  },
  {
   "cell_type": "markdown",
   "metadata": {
    "heading_collapsed": true
   },
   "source": [
    "## Avaliação"
   ]
  },
  {
   "cell_type": "markdown",
   "metadata": {
    "hidden": true
   },
   "source": [
    "### Acurácia tanto no conjunto de treinamento como no conjunto de testes"
   ]
  },
  {
   "cell_type": "code",
   "execution_count": 22,
   "metadata": {
    "ExecuteTime": {
     "end_time": "2017-11-24T15:50:29.922115",
     "start_time": "2017-11-24T15:50:29.914004"
    },
    "hidden": true
   },
   "outputs": [
    {
     "name": "stdout",
     "output_type": "stream",
     "text": [
      "Accuracy: 0.942\n"
     ]
    }
   ],
   "source": [
    "def predict(model, input_data):\n",
    "    outputs = model(Variable(input_data))\n",
    "    _, predicts = torch.max(outputs, 1)\n",
    "    \n",
    "    return predicts.data\n",
    "\n",
    "y_pred = predict(model, x_train.view(-1, 28*28))\n",
    "accuracy = (y_pred.numpy() == y_train.numpy()).mean()\n",
    "print('Accuracy:', accuracy)"
   ]
  },
  {
   "cell_type": "markdown",
   "metadata": {
    "hidden": true
   },
   "source": [
    "### Matriz de confusão com dados de treinamento e teste"
   ]
  },
  {
   "cell_type": "code",
   "execution_count": 24,
   "metadata": {
    "ExecuteTime": {
     "end_time": "2017-11-24T15:51:40.706177",
     "start_time": "2017-11-24T15:51:40.679474"
    },
    "hidden": true
   },
   "outputs": [
    {
     "name": "stdout",
     "output_type": "stream",
     "text": [
      "Matriz de confusão:\n"
     ]
    },
    {
     "data": {
      "text/html": [
       "<div>\n",
       "<style>\n",
       "    .dataframe thead tr:only-child th {\n",
       "        text-align: right;\n",
       "    }\n",
       "\n",
       "    .dataframe thead th {\n",
       "        text-align: left;\n",
       "    }\n",
       "\n",
       "    .dataframe tbody tr th {\n",
       "        vertical-align: top;\n",
       "    }\n",
       "</style>\n",
       "<table border=\"1\" class=\"dataframe\">\n",
       "  <thead>\n",
       "    <tr style=\"text-align: right;\">\n",
       "      <th>col_0</th>\n",
       "      <th>0</th>\n",
       "      <th>1</th>\n",
       "      <th>2</th>\n",
       "      <th>3</th>\n",
       "      <th>4</th>\n",
       "      <th>5</th>\n",
       "      <th>6</th>\n",
       "      <th>7</th>\n",
       "      <th>8</th>\n",
       "      <th>9</th>\n",
       "    </tr>\n",
       "    <tr>\n",
       "      <th>row_0</th>\n",
       "      <th></th>\n",
       "      <th></th>\n",
       "      <th></th>\n",
       "      <th></th>\n",
       "      <th></th>\n",
       "      <th></th>\n",
       "      <th></th>\n",
       "      <th></th>\n",
       "      <th></th>\n",
       "      <th></th>\n",
       "    </tr>\n",
       "  </thead>\n",
       "  <tbody>\n",
       "    <tr>\n",
       "      <th>0</th>\n",
       "      <td>96</td>\n",
       "      <td>0</td>\n",
       "      <td>1</td>\n",
       "      <td>0</td>\n",
       "      <td>0</td>\n",
       "      <td>0</td>\n",
       "      <td>1</td>\n",
       "      <td>0</td>\n",
       "      <td>0</td>\n",
       "      <td>2</td>\n",
       "    </tr>\n",
       "    <tr>\n",
       "      <th>1</th>\n",
       "      <td>0</td>\n",
       "      <td>111</td>\n",
       "      <td>1</td>\n",
       "      <td>0</td>\n",
       "      <td>0</td>\n",
       "      <td>0</td>\n",
       "      <td>1</td>\n",
       "      <td>3</td>\n",
       "      <td>1</td>\n",
       "      <td>0</td>\n",
       "    </tr>\n",
       "    <tr>\n",
       "      <th>2</th>\n",
       "      <td>0</td>\n",
       "      <td>0</td>\n",
       "      <td>91</td>\n",
       "      <td>1</td>\n",
       "      <td>0</td>\n",
       "      <td>1</td>\n",
       "      <td>0</td>\n",
       "      <td>1</td>\n",
       "      <td>2</td>\n",
       "      <td>1</td>\n",
       "    </tr>\n",
       "    <tr>\n",
       "      <th>3</th>\n",
       "      <td>0</td>\n",
       "      <td>0</td>\n",
       "      <td>0</td>\n",
       "      <td>88</td>\n",
       "      <td>0</td>\n",
       "      <td>2</td>\n",
       "      <td>0</td>\n",
       "      <td>0</td>\n",
       "      <td>0</td>\n",
       "      <td>0</td>\n",
       "    </tr>\n",
       "    <tr>\n",
       "      <th>4</th>\n",
       "      <td>0</td>\n",
       "      <td>0</td>\n",
       "      <td>1</td>\n",
       "      <td>0</td>\n",
       "      <td>102</td>\n",
       "      <td>2</td>\n",
       "      <td>1</td>\n",
       "      <td>2</td>\n",
       "      <td>0</td>\n",
       "      <td>3</td>\n",
       "    </tr>\n",
       "    <tr>\n",
       "      <th>5</th>\n",
       "      <td>0</td>\n",
       "      <td>2</td>\n",
       "      <td>0</td>\n",
       "      <td>1</td>\n",
       "      <td>0</td>\n",
       "      <td>82</td>\n",
       "      <td>0</td>\n",
       "      <td>0</td>\n",
       "      <td>2</td>\n",
       "      <td>1</td>\n",
       "    </tr>\n",
       "    <tr>\n",
       "      <th>6</th>\n",
       "      <td>1</td>\n",
       "      <td>0</td>\n",
       "      <td>1</td>\n",
       "      <td>1</td>\n",
       "      <td>2</td>\n",
       "      <td>2</td>\n",
       "      <td>90</td>\n",
       "      <td>0</td>\n",
       "      <td>0</td>\n",
       "      <td>0</td>\n",
       "    </tr>\n",
       "    <tr>\n",
       "      <th>7</th>\n",
       "      <td>0</td>\n",
       "      <td>1</td>\n",
       "      <td>1</td>\n",
       "      <td>1</td>\n",
       "      <td>0</td>\n",
       "      <td>0</td>\n",
       "      <td>0</td>\n",
       "      <td>110</td>\n",
       "      <td>0</td>\n",
       "      <td>3</td>\n",
       "    </tr>\n",
       "    <tr>\n",
       "      <th>8</th>\n",
       "      <td>0</td>\n",
       "      <td>2</td>\n",
       "      <td>2</td>\n",
       "      <td>0</td>\n",
       "      <td>0</td>\n",
       "      <td>1</td>\n",
       "      <td>1</td>\n",
       "      <td>0</td>\n",
       "      <td>82</td>\n",
       "      <td>0</td>\n",
       "    </tr>\n",
       "    <tr>\n",
       "      <th>9</th>\n",
       "      <td>0</td>\n",
       "      <td>0</td>\n",
       "      <td>1</td>\n",
       "      <td>1</td>\n",
       "      <td>1</td>\n",
       "      <td>2</td>\n",
       "      <td>0</td>\n",
       "      <td>1</td>\n",
       "      <td>0</td>\n",
       "      <td>90</td>\n",
       "    </tr>\n",
       "  </tbody>\n",
       "</table>\n",
       "</div>"
      ],
      "text/plain": [
       "col_0   0    1   2   3    4   5   6    7   8   9\n",
       "row_0                                           \n",
       "0      96    0   1   0    0   0   1    0   0   2\n",
       "1       0  111   1   0    0   0   1    3   1   0\n",
       "2       0    0  91   1    0   1   0    1   2   1\n",
       "3       0    0   0  88    0   2   0    0   0   0\n",
       "4       0    0   1   0  102   2   1    2   0   3\n",
       "5       0    2   0   1    0  82   0    0   2   1\n",
       "6       1    0   1   1    2   2  90    0   0   0\n",
       "7       0    1   1   1    0   0   0  110   0   3\n",
       "8       0    2   2   0    0   1   1    0  82   0\n",
       "9       0    0   1   1    1   2   0    1   0  90"
      ]
     },
     "execution_count": 24,
     "metadata": {},
     "output_type": "execute_result"
    }
   ],
   "source": [
    "print('Matriz de confusão:')\n",
    "pd.crosstab(y_pred.numpy(), y_train.numpy())"
   ]
  },
  {
   "cell_type": "markdown",
   "metadata": {
    "heading_collapsed": true
   },
   "source": [
    "## Visualizando a matriz de pesos treinados"
   ]
  },
  {
   "cell_type": "markdown",
   "metadata": {
    "hidden": true
   },
   "source": [
    "Observe que a matriz de peso treinado para cada classe mostra a importância dos pesos associados aos caracteres de cada classe."
   ]
  },
  {
   "cell_type": "code",
   "execution_count": 51,
   "metadata": {
    "ExecuteTime": {
     "end_time": "2017-11-24T16:34:49.367135",
     "start_time": "2017-11-24T16:34:49.204452"
    },
    "hidden": true
   },
   "outputs": [
    {
     "name": "stdout",
     "output_type": "stream",
     "text": [
      "weights: torch.Size([10, 784])\n",
      "bias:    torch.Size([10])\n"
     ]
    },
    {
     "data": {
      "image/png": "[encoded data removed]",
      "text/plain": [
       "<matplotlib.figure.Figure at 0x115230550>"
      ]
     },
     "metadata": {},
     "output_type": "display_data"
    }
   ],
   "source": [
    "weights = model.state_dict()['weight']\n",
    "print('weights:', weights.shape)\n",
    "\n",
    "bias = model.state_dict()['bias']\n",
    "print('bias:   ', bias.shape)\n",
    "\n",
    "# Visualizando pesos da classe 3\n",
    "plt.imshow(weights[3, :].numpy().reshape((28,28)),cmap = 'gray')\n",
    "plt.show()"
   ]
  },
  {
   "cell_type": "markdown",
   "metadata": {
    "hidden": true
   },
   "source": [
    "### Visualizando os pesos de todas as classes"
   ]
  },
  {
   "cell_type": "code",
   "execution_count": 52,
   "metadata": {
    "ExecuteTime": {
     "end_time": "2017-11-24T16:34:50.240218",
     "start_time": "2017-11-24T16:34:50.025515"
    },
    "hidden": true
   },
   "outputs": [
    {
     "data": {
      "image/png": "[encoded data removed]",
      "text/plain": [
       "<matplotlib.figure.Figure at 0x1150cbf98>"
      ]
     },
     "metadata": {},
     "output_type": "display_data"
    }
   ],
   "source": [
    "# cria um grid com as imagens\n",
    "grid = torchvision.utils.make_grid(weights.view(-1, 1, 28, 28), normalize=True, pad_value=1.0, padding=1, nrow=10)\n",
    "\n",
    "plt.figure(figsize=(15, 10))\n",
    "plt.imshow(grid.numpy().transpose(1, 2, 0))\n",
    "plt.axis('off');"
   ]
  },
  {
   "cell_type": "markdown",
   "metadata": {
    "hidden": true
   },
   "source": [
    "### Diagrama da regressão softmax com visualização dos pesos W"
   ]
  },
  {
   "cell_type": "markdown",
   "metadata": {
    "hidden": true
   },
   "source": [
    "<img src=\"../figures/RegressaoSoftmaxArgmaxNMIST.png\",width = 400>"
   ]
  },
  {
   "cell_type": "markdown",
   "metadata": {},
   "source": [
    "# Atividades"
   ]
  },
  {
   "cell_type": "markdown",
   "metadata": {
    "heading_collapsed": true
   },
   "source": [
    "## Exercícios"
   ]
  },
  {
   "cell_type": "markdown",
   "metadata": {
    "hidden": true
   },
   "source": [
    "- 1) Na configuração da figura acima, mostre os valores de z0 até z9, os valores das probabilidades y_hat, após o softmax, quando a rede recebe como entrada a nona amostra que contém o manuscrito do dígito '4':"
   ]
  },
  {
   "cell_type": "code",
   "execution_count": 53,
   "metadata": {
    "ExecuteTime": {
     "end_time": "2017-11-24T16:34:53.969413",
     "start_time": "2017-11-24T16:34:53.805978"
    },
    "hidden": true
   },
   "outputs": [
    {
     "name": "stdout",
     "output_type": "stream",
     "text": [
      "class: 4\n"
     ]
    },
    {
     "data": {
      "image/png": "[encoded data removed]",
      "text/plain": [
       "<matplotlib.figure.Figure at 0x1150cb668>"
      ]
     },
     "metadata": {},
     "output_type": "display_data"
    }
   ],
   "source": [
    "image  = x_train[9]\n",
    "target = y_train[9]\n",
    "\n",
    "plt.imshow(image.numpy().reshape(28,28), cmap='gray')\n",
    "print('class:', target)"
   ]
  },
  {
   "cell_type": "markdown",
   "metadata": {
    "hidden": true
   },
   "source": [
    "- 2) Insira código no laço do treinamento para que no final de cada época, \n",
    "     seja impresso: o número da época e a perda e a acurácia"
   ]
  },
  {
   "cell_type": "markdown",
   "metadata": {
    "hidden": true
   },
   "source": [
    "- 3) Insira código no laço do treinamento para visualização dos valores dos gradientes referentes à classe do dígito 4, no final de cada época."
   ]
  },
  {
   "cell_type": "markdown",
   "metadata": {
    "heading_collapsed": true
   },
   "source": [
    "## Perguntas"
   ]
  },
  {
   "cell_type": "markdown",
   "metadata": {
    "hidden": true
   },
   "source": [
    "1. Qual é o shape da matriz de entrada na rede?\n",
    "2. Qual é o shape da saída da rede?\n",
    "3. Qual é o número total de parâmetros da rede, incluindo o bias?"
   ]
  },
  {
   "cell_type": "markdown",
   "metadata": {
    "heading_collapsed": true
   },
   "source": [
    "# Aprendizados\n"
   ]
  },
  {
   "cell_type": "code",
   "execution_count": null,
   "metadata": {
    "collapsed": true,
    "hidden": true
   },
   "outputs": [],
   "source": []
  }
 ],
 "metadata": {
  "anaconda-cloud": {},
  "kernelspec": {
   "display_name": "Python 3",
   "language": "python",
   "name": "python3"
  },
  "language_info": {
   "codemirror_mode": {
    "name": "ipython",
    "version": 3
   },
   "file_extension": ".py",
   "mimetype": "text/x-python",
   "name": "python",
   "nbconvert_exporter": "python",
   "pygments_lexer": "ipython3",
   "version": "3.6.0"
  },
  "toc": {
   "colors": {
    "hover_highlight": "#DAA520",
    "running_highlight": "#FF0000",
    "selected_highlight": "#FFD700"
   },
   "moveMenuLeft": true,
   "nav_menu": {
    "height": "318px",
    "width": "252px"
   },
   "navigate_menu": true,
   "number_sections": true,
   "sideBar": true,
   "skip_h1_title": false,
   "threshold": 4,
   "toc_cell": false,
   "toc_position": {},
   "toc_section_display": "block",
   "toc_window_display": false
  }
 },
 "nbformat": 4,
 "nbformat_minor": 1
}
