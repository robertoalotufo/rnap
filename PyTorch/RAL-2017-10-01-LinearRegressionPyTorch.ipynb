{
 "cells": [
  {
   "cell_type": "code",
   "execution_count": 3,
   "metadata": {
    "ExecuteTime": {
     "end_time": "2017-10-01T23:33:01.382976Z",
     "start_time": "2017-10-01T23:33:01.372581Z"
    },
    "collapsed": true
   },
   "outputs": [],
   "source": [
    "%matplotlib inline\n",
    "import torch\n",
    "from torch import nn, optim\n",
    "from torch.autograd import Variable\n",
    "import numpy as np\n",
    "import matplotlib.pyplot as plt"
   ]
  },
  {
   "cell_type": "code",
   "execution_count": 4,
   "metadata": {
    "ExecuteTime": {
     "end_time": "2017-10-01T23:33:02.563516Z",
     "start_time": "2017-10-01T23:33:02.551540Z"
    },
    "collapsed": true
   },
   "outputs": [],
   "source": [
    "x_train = np.array([[3.3], [4.4], [5.5], [6.71], [6.93], [4.168],\n",
    "                    [9.779], [6.182], [7.59], [2.167], [7.042],\n",
    "                    [10.791], [5.313], [7.997], [3.1]], dtype=np.float32)\n",
    "\n",
    "y_train = np.array([[1.7], [2.76], [2.09], [3.19], [1.694], [1.573],\n",
    "                    [3.366], [2.596], [2.53], [1.221], [2.827],\n",
    "                    [3.465], [1.65], [2.904], [1.3]], dtype=np.float32)\n",
    "\n",
    "\n",
    "x_train = torch.from_numpy(x_train)\n",
    "y_train = torch.from_numpy(y_train)"
   ]
  },
  {
   "cell_type": "markdown",
   "metadata": {},
   "source": [
    "# Linear Regression Model"
   ]
  },
  {
   "cell_type": "code",
   "execution_count": 15,
   "metadata": {
    "ExecuteTime": {
     "end_time": "2017-10-01T23:36:25.173790Z",
     "start_time": "2017-10-01T23:36:25.163298Z"
    }
   },
   "outputs": [
    {
     "data": {
      "text/plain": [
       "LinearRegression (\n",
       "  (linear): Linear (1 -> 1)\n",
       ")"
      ]
     },
     "execution_count": 15,
     "metadata": {},
     "output_type": "execute_result"
    }
   ],
   "source": [
    "class LinearRegression(nn.Module):\n",
    "    def __init__(self):\n",
    "        super(LinearRegression, self).__init__()\n",
    "        self.linear = nn.Linear(1, 1)  # input and output is 1 dimension\n",
    "\n",
    "    def forward(self, x):\n",
    "        out = self.linear(x)\n",
    "        return out\n",
    "\n",
    "\n",
    "model = LinearRegression()\n",
    "model"
   ]
  },
  {
   "cell_type": "markdown",
   "metadata": {},
   "source": [
    "# Definição da perda e otimizador"
   ]
  },
  {
   "cell_type": "code",
   "execution_count": 6,
   "metadata": {
    "ExecuteTime": {
     "end_time": "2017-10-01T23:33:06.068939Z",
     "start_time": "2017-10-01T23:33:06.064160Z"
    }
   },
   "outputs": [],
   "source": [
    "criterion = nn.MSELoss()\n",
    "optimizer = optim.SGD(model.parameters(), lr=1e-4)"
   ]
  },
  {
   "cell_type": "markdown",
   "metadata": {},
   "source": [
    "## Treinamento"
   ]
  },
  {
   "cell_type": "code",
   "execution_count": 7,
   "metadata": {
    "ExecuteTime": {
     "end_time": "2017-10-01T23:33:08.174714Z",
     "start_time": "2017-10-01T23:33:07.721050Z"
    }
   },
   "outputs": [
    {
     "name": "stdout",
     "output_type": "stream",
     "text": [
      "Epoch[20/1000], loss: 9.179435\n",
      "Epoch[40/1000], loss: 6.564889\n",
      "Epoch[60/1000], loss: 4.717040\n",
      "Epoch[80/1000], loss: 3.411057\n",
      "Epoch[100/1000], loss: 2.488026\n",
      "Epoch[120/1000], loss: 1.835654\n",
      "Epoch[140/1000], loss: 1.374567\n",
      "Epoch[160/1000], loss: 1.048666\n",
      "Epoch[180/1000], loss: 0.818309\n",
      "Epoch[200/1000], loss: 0.655477\n",
      "Epoch[220/1000], loss: 0.540368\n",
      "Epoch[240/1000], loss: 0.458988\n",
      "Epoch[260/1000], loss: 0.401444\n",
      "Epoch[280/1000], loss: 0.360747\n",
      "Epoch[300/1000], loss: 0.331956\n",
      "Epoch[320/1000], loss: 0.311581\n",
      "Epoch[340/1000], loss: 0.297152\n",
      "Epoch[360/1000], loss: 0.286927\n",
      "Epoch[380/1000], loss: 0.279672\n",
      "Epoch[400/1000], loss: 0.274516\n",
      "Epoch[420/1000], loss: 0.270844\n",
      "Epoch[440/1000], loss: 0.268221\n",
      "Epoch[460/1000], loss: 0.266340\n",
      "Epoch[480/1000], loss: 0.264982\n",
      "Epoch[500/1000], loss: 0.263994\n",
      "Epoch[520/1000], loss: 0.263268\n",
      "Epoch[540/1000], loss: 0.262727\n",
      "Epoch[560/1000], loss: 0.262317\n",
      "Epoch[580/1000], loss: 0.261999\n",
      "Epoch[600/1000], loss: 0.261747\n",
      "Epoch[620/1000], loss: 0.261541\n",
      "Epoch[640/1000], loss: 0.261368\n",
      "Epoch[660/1000], loss: 0.261217\n",
      "Epoch[680/1000], loss: 0.261084\n",
      "Epoch[700/1000], loss: 0.260961\n",
      "Epoch[720/1000], loss: 0.260847\n",
      "Epoch[740/1000], loss: 0.260739\n",
      "Epoch[760/1000], loss: 0.260635\n",
      "Epoch[780/1000], loss: 0.260534\n",
      "Epoch[800/1000], loss: 0.260435\n",
      "Epoch[820/1000], loss: 0.260338\n",
      "Epoch[840/1000], loss: 0.260241\n",
      "Epoch[860/1000], loss: 0.260146\n",
      "Epoch[880/1000], loss: 0.260051\n",
      "Epoch[900/1000], loss: 0.259956\n",
      "Epoch[920/1000], loss: 0.259862\n",
      "Epoch[940/1000], loss: 0.259769\n",
      "Epoch[960/1000], loss: 0.259675\n",
      "Epoch[980/1000], loss: 0.259582\n",
      "Epoch[1000/1000], loss: 0.259488\n"
     ]
    }
   ],
   "source": [
    "num_epochs = 1000\n",
    "for epoch in range(num_epochs):\n",
    "    inputs = Variable(x_train)\n",
    "    target = Variable(y_train)\n",
    "\n",
    "    # forward\n",
    "    out = model(inputs)\n",
    "    loss = criterion(out, target)\n",
    "    # backward\n",
    "    optimizer.zero_grad()\n",
    "    loss.backward()\n",
    "    optimizer.step()\n",
    "\n",
    "    if (epoch+1) % 20 == 0:\n",
    "        print('Epoch[{}/{}], loss: {:.6f}'\n",
    "              .format(epoch+1, num_epochs, loss.data[0]))"
   ]
  },
  {
   "cell_type": "code",
   "execution_count": 19,
   "metadata": {
    "ExecuteTime": {
     "end_time": "2017-10-01T23:42:24.207470Z",
     "start_time": "2017-10-01T23:42:24.011959Z"
    }
   },
   "outputs": [
    {
     "data": {
      "image/png": "[encoded data removed]",
      "text/plain": [
       "<matplotlib.figure.Figure at 0x10cf895f8>"
      ]
     },
     "metadata": {},
     "output_type": "display_data"
    }
   ],
   "source": [
    "y_pred = model(Variable(x_train))\n",
    "plt.plot(x_train.numpy(), y_train.numpy(), 'ro', label='Original data')\n",
    "plt.plot(x_train.numpy(), y_pred.data.numpy(), 'kx-', label='Fitting Line')\n",
    "plt.show()"
   ]
  },
  {
   "cell_type": "markdown",
   "metadata": {},
   "source": [
    "## Parametros"
   ]
  },
  {
   "cell_type": "code",
   "execution_count": 14,
   "metadata": {
    "ExecuteTime": {
     "end_time": "2017-10-01T23:35:52.825892Z",
     "start_time": "2017-10-01T23:35:52.816627Z"
    }
   },
   "outputs": [
    {
     "name": "stdout",
     "output_type": "stream",
     "text": [
      "linear.weight [[ 0.37955016]]\n",
      "linear.bias [-0.08360373]\n"
     ]
    }
   ],
   "source": [
    "for p,w in model.state_dict().items():\n",
    "    print(p, w.numpy())"
   ]
  },
  {
   "cell_type": "code",
   "execution_count": null,
   "metadata": {
    "collapsed": true
   },
   "outputs": [],
   "source": []
  }
 ],
 "metadata": {
  "kernelspec": {
   "display_name": "Python 3",
   "language": "python",
   "name": "python3"
  },
  "language_info": {
   "codemirror_mode": {
    "name": "ipython",
    "version": 3
   },
   "file_extension": ".py",
   "mimetype": "text/x-python",
   "name": "python",
   "nbconvert_exporter": "python",
   "pygments_lexer": "ipython3",
   "version": "3.6.0"
  },
  "toc": {
   "nav_menu": {},
   "number_sections": true,
   "sideBar": true,
   "skip_h1_title": false,
   "toc_cell": false,
   "toc_position": {},
   "toc_section_display": "block",
   "toc_window_display": false
  }
 },
 "nbformat": 4,
 "nbformat_minor": 2
}
