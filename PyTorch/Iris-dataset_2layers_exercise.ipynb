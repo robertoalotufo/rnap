{
 "cells": [
  {
   "cell_type": "markdown",
   "metadata": {},
   "source": [
    "# Rede neural com uma camadas escondida - Exercício manual"
   ]
  },
  {
   "cell_type": "markdown",
   "metadata": {
    "ExecuteTime": {
     "end_time": "2017-10-17T11:35:30.295471",
     "start_time": "2017-10-17T11:35:30.291532"
    }
   },
   "source": [
    "<img src='../figures/rede_neural_exercicio_manual.png' width=\"600\"></img>"
   ]
  },
  {
   "cell_type": "markdown",
   "metadata": {},
   "source": [
    "## Importando as bibliotecas"
   ]
  },
  {
   "cell_type": "code",
   "execution_count": 1,
   "metadata": {
    "ExecuteTime": {
     "end_time": "2018-08-20T23:06:13.490321Z",
     "start_time": "2018-08-20T23:06:09.388886Z"
    }
   },
   "outputs": [],
   "source": [
    "%matplotlib inline\n",
    "from sklearn import datasets\n",
    "from IPython import display\n",
    "import numpy as np\n",
    "import matplotlib.pyplot as plt\n",
    "import pandas as pd\n",
    "\n",
    "import torch\n",
    "import torch.nn as nn"
   ]
  },
  {
   "cell_type": "markdown",
   "metadata": {},
   "source": [
    "## Leitura, normalização e visualização dos dados"
   ]
  },
  {
   "cell_type": "code",
   "execution_count": 2,
   "metadata": {
    "ExecuteTime": {
     "end_time": "2018-08-20T23:06:14.588439Z",
     "start_time": "2018-08-20T23:06:13.611538Z"
    }
   },
   "outputs": [
    {
     "data": {
      "image/png": "[encoded data removed]",
      "text/plain": [
       "<Figure size 432x288 with 1 Axes>"
      ]
     },
     "metadata": {},
     "output_type": "display_data"
    }
   ],
   "source": [
    "n_samples = 150\n",
    "iris = datasets.load_iris()\n",
    "Y = iris.target - 1\n",
    "X = iris.data[Y>=0,:3]  # comprimento das sépalas e pétalas, indices 0, 1 e 2\n",
    "Y = Y[Y>=0]\n",
    "colors = np.array(['r','y','b'])\n",
    "plt.scatter(X[:, 0], X[:, 2], c=colors[Y])\n",
    "plt.xlabel('Sepal length')\n",
    "plt.ylabel('Sepal width')\n",
    "plt.show()"
   ]
  },
  {
   "cell_type": "markdown",
   "metadata": {},
   "source": [
    "### Prepara os dados para o PyTorch"
   ]
  },
  {
   "cell_type": "code",
   "execution_count": 3,
   "metadata": {
    "ExecuteTime": {
     "end_time": "2018-08-20T23:06:16.398984Z",
     "start_time": "2018-08-20T23:06:16.386450Z"
    }
   },
   "outputs": [],
   "source": [
    "X_tensor = torch.FloatTensor(X)\n",
    "Y_tensor = torch.LongTensor(Y)"
   ]
  },
  {
   "cell_type": "markdown",
   "metadata": {},
   "source": [
    "## Construindo o modelo da rede"
   ]
  },
  {
   "cell_type": "code",
   "execution_count": 4,
   "metadata": {
    "ExecuteTime": {
     "end_time": "2018-08-20T23:06:19.936996Z",
     "start_time": "2018-08-20T23:06:19.911422Z"
    }
   },
   "outputs": [
    {
     "name": "stdout",
     "output_type": "stream",
     "text": [
      "Modelo(\n",
      "  (linear1): Linear(in_features=3, out_features=4, bias=True)\n",
      "  (linear2): Linear(in_features=4, out_features=2, bias=True)\n",
      ")\n"
     ]
    }
   ],
   "source": [
    "class Modelo(nn.Module):\n",
    "    def __init__(self):\n",
    "        super(Modelo, self).__init__()\n",
    "        self.linear1 = nn.Linear(3, 4)\n",
    "        self.linear2 = nn.Linear(4, 2)\n",
    "    \n",
    "    def forward(self, x):\n",
    "        x = self.linear1(x)\n",
    "        x = nn.functional.relu(x)\n",
    "        x = self.linear2(x)\n",
    "        return x\n",
    "    \n",
    "model = Modelo()\n",
    "print(model)"
   ]
  },
  {
   "cell_type": "markdown",
   "metadata": {},
   "source": [
    "## Fazendo um predict para testar"
   ]
  },
  {
   "cell_type": "code",
   "execution_count": 5,
   "metadata": {
    "ExecuteTime": {
     "end_time": "2018-04-13T20:43:24.602528Z",
     "start_time": "2018-04-13T20:43:24.593125Z"
    }
   },
   "outputs": [
    {
     "data": {
      "text/plain": [
       "array([[ 7. ,  3.2,  4.7]])"
      ]
     },
     "execution_count": 5,
     "metadata": {},
     "output_type": "execute_result"
    }
   ],
   "source": [
    "X[:1,:]"
   ]
  },
  {
   "cell_type": "code",
   "execution_count": 5,
   "metadata": {
    "ExecuteTime": {
     "end_time": "2018-08-20T23:06:29.184359Z",
     "start_time": "2018-08-20T23:06:29.135135Z"
    }
   },
   "outputs": [
    {
     "data": {
      "text/plain": [
       "tensor([[-0.0494, -0.4333],\n",
       "        [-0.0494, -0.4333]], grad_fn=<ThAddmmBackward>)"
      ]
     },
     "execution_count": 5,
     "metadata": {},
     "output_type": "execute_result"
    }
   ],
   "source": [
    "z = model(X_tensor[:2,:])\n",
    "z"
   ]
  },
  {
   "cell_type": "markdown",
   "metadata": {},
   "source": [
    "## Treinamento"
   ]
  },
  {
   "cell_type": "code",
   "execution_count": 6,
   "metadata": {
    "ExecuteTime": {
     "end_time": "2018-08-20T23:06:34.837410Z",
     "start_time": "2018-08-20T23:06:34.830563Z"
    }
   },
   "outputs": [],
   "source": [
    "lr = 0.015\n",
    "\n",
    "optimizer = torch.optim.SGD(model.parameters(), lr=lr)\n",
    "\n",
    "criterion = nn.CrossEntropyLoss()"
   ]
  },
  {
   "cell_type": "markdown",
   "metadata": {},
   "source": [
    "### Laço principal de treinamento"
   ]
  },
  {
   "cell_type": "code",
   "execution_count": 7,
   "metadata": {
    "ExecuteTime": {
     "end_time": "2018-08-20T23:07:03.272284Z",
     "start_time": "2018-08-20T23:07:00.143054Z"
    },
    "scrolled": false
   },
   "outputs": [
    {
     "name": "stdout",
     "output_type": "stream",
     "text": [
      "Final loss: 0.1785212755203247\n"
     ]
    }
   ],
   "source": [
    "nb_epoch = 3000\n",
    "\n",
    "losses = []\n",
    "for i in range(nb_epoch):\n",
    "    # predict da rede\n",
    "    output = model(X_tensor)\n",
    "\n",
    "    loss = criterion(output, Y_tensor)\n",
    "\n",
    "    # zero, backpropagation gradient, atualiza param gradiente descendente\n",
    "    optimizer.zero_grad()\n",
    "    loss.backward()\n",
    "    optimizer.step()\n",
    "    \n",
    "    losses.append(loss.item())\n",
    "    \n",
    "print('Final loss:', loss.item())"
   ]
  },
  {
   "cell_type": "code",
   "execution_count": 9,
   "metadata": {
    "ExecuteTime": {
     "end_time": "2018-08-20T23:07:12.167833Z",
     "start_time": "2018-08-20T23:07:11.665485Z"
    }
   },
   "outputs": [
    {
     "data": {
      "image/png": "[encoded data removed]",
      "text/plain": [
       "<Figure size 432x288 with 1 Axes>"
      ]
     },
     "metadata": {},
     "output_type": "display_data"
    }
   ],
   "source": [
    "plt.plot(losses);"
   ]
  },
  {
   "cell_type": "markdown",
   "metadata": {},
   "source": [
    "## Avaliação"
   ]
  },
  {
   "cell_type": "markdown",
   "metadata": {},
   "source": [
    "### Imprimindo pesos finais"
   ]
  },
  {
   "cell_type": "code",
   "execution_count": 10,
   "metadata": {
    "ExecuteTime": {
     "end_time": "2018-08-20T23:07:17.403372Z",
     "start_time": "2018-08-20T23:07:17.384072Z"
    },
    "scrolled": false
   },
   "outputs": [
    {
     "name": "stdout",
     "output_type": "stream",
     "text": [
      "linear1.weight  torch.Size([4, 3])\n",
      "tensor([[ 0.0289, -0.3011, -0.0569, -0.9911],\n",
      "        [-0.5437,  0.3198, -0.5688, -0.7724],\n",
      "        [-0.4886, -0.0117,  0.0208,  2.0878]])\n",
      "linear1.bias    torch.Size([4])\n",
      "tensor([-0.1853,  0.2065,  0.0184, -0.8634])\n",
      "linear2.weight  torch.Size([2, 4])\n",
      "tensor([[-0.0733,  0.1040],\n",
      "        [-0.1182,  0.4546],\n",
      "        [ 0.0576,  0.2068],\n",
      "        [-1.9783,  1.6020]])\n",
      "linear2.bias    torch.Size([2])\n",
      "tensor([ 1.3763, -1.8590])\n"
     ]
    }
   ],
   "source": [
    "for name, w in model.state_dict().items():\n",
    "    print('{:16}{}'.format(name, w.size()))\n",
    "    if len(w.size()) > 1:\n",
    "        print(w.t())\n",
    "    else:\n",
    "        print(w)"
   ]
  },
  {
   "cell_type": "markdown",
   "metadata": {},
   "source": [
    "### Avaliação do classificador"
   ]
  },
  {
   "cell_type": "code",
   "execution_count": 12,
   "metadata": {
    "ExecuteTime": {
     "end_time": "2018-08-20T23:07:30.492727Z",
     "start_time": "2018-08-20T23:07:30.486215Z"
    }
   },
   "outputs": [],
   "source": [
    "def predict(model, inputs):\n",
    "    outputs = model(inputs)\n",
    "    _, predicts = torch.max(outputs, 1)\n",
    "    \n",
    "    return predicts.data.numpy()"
   ]
  },
  {
   "cell_type": "code",
   "execution_count": 13,
   "metadata": {
    "ExecuteTime": {
     "end_time": "2018-08-20T23:07:31.327682Z",
     "start_time": "2018-08-20T23:07:31.307221Z"
    }
   },
   "outputs": [
    {
     "name": "stdout",
     "output_type": "stream",
     "text": [
      "\n",
      "Training Accuracy:  0.94\n"
     ]
    }
   ],
   "source": [
    "Y_hat = predict(model, X_tensor)\n",
    "accuracy = (Y_hat == Y).mean()\n",
    "print() \n",
    "print('Training Accuracy: ', accuracy)"
   ]
  },
  {
   "cell_type": "markdown",
   "metadata": {},
   "source": [
    "### Matriz de confusão"
   ]
  },
  {
   "cell_type": "code",
   "execution_count": 14,
   "metadata": {
    "ExecuteTime": {
     "end_time": "2018-08-20T23:07:34.325794Z",
     "start_time": "2018-08-20T23:07:34.207369Z"
    }
   },
   "outputs": [
    {
     "data": {
      "text/html": [
       "<div>\n",
       "<style scoped>\n",
       "    .dataframe tbody tr th:only-of-type {\n",
       "        vertical-align: middle;\n",
       "    }\n",
       "\n",
       "    .dataframe tbody tr th {\n",
       "        vertical-align: top;\n",
       "    }\n",
       "\n",
       "    .dataframe thead th {\n",
       "        text-align: right;\n",
       "    }\n",
       "</style>\n",
       "<table border=\"1\" class=\"dataframe\">\n",
       "  <thead>\n",
       "    <tr style=\"text-align: right;\">\n",
       "      <th>col_0</th>\n",
       "      <th>0</th>\n",
       "      <th>1</th>\n",
       "    </tr>\n",
       "    <tr>\n",
       "      <th>row_0</th>\n",
       "      <th></th>\n",
       "      <th></th>\n",
       "    </tr>\n",
       "  </thead>\n",
       "  <tbody>\n",
       "    <tr>\n",
       "      <th>0</th>\n",
       "      <td>48</td>\n",
       "      <td>4</td>\n",
       "    </tr>\n",
       "    <tr>\n",
       "      <th>1</th>\n",
       "      <td>2</td>\n",
       "      <td>46</td>\n",
       "    </tr>\n",
       "  </tbody>\n",
       "</table>\n",
       "</div>"
      ],
      "text/plain": [
       "col_0   0   1\n",
       "row_0        \n",
       "0      48   4\n",
       "1       2  46"
      ]
     },
     "execution_count": 14,
     "metadata": {},
     "output_type": "execute_result"
    }
   ],
   "source": [
    "import pandas as pd\n",
    "pd.crosstab(Y_hat, Y)"
   ]
  },
  {
   "cell_type": "markdown",
   "metadata": {},
   "source": [
    "## Atividades"
   ]
  },
  {
   "cell_type": "markdown",
   "metadata": {},
   "source": [
    "### Experimentos:"
   ]
  },
  {
   "cell_type": "markdown",
   "metadata": {},
   "source": [
    "1. Simule na mão, com o auxílio da figura, o cálculo do score z para algumas amostras"
   ]
  },
  {
   "cell_type": "code",
   "execution_count": 16,
   "metadata": {
    "ExecuteTime": {
     "end_time": "2018-08-20T23:07:43.827543Z",
     "start_time": "2018-08-20T23:07:43.814110Z"
    }
   },
   "outputs": [
    {
     "name": "stdout",
     "output_type": "stream",
     "text": [
      "tensor([[7.0000, 3.2000, 4.7000]])\n",
      "tensor([[ 1.3763, -1.8590]], grad_fn=<ThAddmmBackward>)\n"
     ]
    }
   ],
   "source": [
    "xin = X_tensor[:1,:]\n",
    "print(xin)\n",
    "z = model(xin)\n",
    "print(z)"
   ]
  },
  {
   "cell_type": "markdown",
   "metadata": {},
   "source": [
    "## Principais aprendizados"
   ]
  }
 ],
 "metadata": {
  "kernelspec": {
   "display_name": "Python 3",
   "language": "python",
   "name": "python3"
  },
  "language_info": {
   "codemirror_mode": {
    "name": "ipython",
    "version": 3
   },
   "file_extension": ".py",
   "mimetype": "text/x-python",
   "name": "python",
   "nbconvert_exporter": "python",
   "pygments_lexer": "ipython3",
   "version": "3.6.5"
  },
  "toc": {
   "nav_menu": {
    "height": "248px",
    "width": "252px"
   },
   "number_sections": true,
   "sideBar": true,
   "skip_h1_title": false,
   "toc_cell": false,
   "toc_position": {},
   "toc_section_display": "block",
   "toc_window_display": false
  }
 },
 "nbformat": 4,
 "nbformat_minor": 1
}
