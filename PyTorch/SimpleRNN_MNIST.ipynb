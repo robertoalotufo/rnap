{
 "cells": [
  {
   "cell_type": "markdown",
   "metadata": {},
   "source": [
    "# Rede Neural Recorrente simples para classificar dígitos MNIST"
   ]
  },
  {
   "cell_type": "markdown",
   "metadata": {},
   "source": [
    "Este experimento ilustra o uso de uma rede neural recorrente na tarefa de classificação\n",
    "de dígitos manuscritos do dataset MNIST.\n",
    "\n",
    "A imagem é estruturada em 28 sequências de 28 pixels cada. Cada elemento da sequência é\n",
    "formado por uma linha da imagem. Cada linha da imagem contém 28 atributos (pixels)."
   ]
  },
  {
   "cell_type": "markdown",
   "metadata": {},
   "source": [
    "<img src='../figures/RNN_MNIST.png', width= 700></img>"
   ]
  },
  {
   "cell_type": "markdown",
   "metadata": {},
   "source": [
    "**Obs:** Este experimento foi inspirado no artigo:\n",
    "\"A Simple Way to Initialize Recurrent Networks of Rectified Linear Units\"\n",
    "by Quoc V. Le, Navdeep Jaitly, Geoffrey E. Hinton\n",
    "arxiv:1504.00941v2 [cs.NE] 7 Apr 2015\n",
    "http://arxiv.org/pdf/1504.00941v2.pdf\n",
    "\n",
    "A principal modificação é a formatação da imagem em 28 sequências de 28 pixels."
   ]
  },
  {
   "cell_type": "markdown",
   "metadata": {},
   "source": [
    "## Importação"
   ]
  },
  {
   "cell_type": "code",
   "execution_count": 1,
   "metadata": {
    "ExecuteTime": {
     "end_time": "2017-11-02T13:49:23.773205Z",
     "start_time": "2017-11-02T13:49:22.578606Z"
    }
   },
   "outputs": [
    {
     "name": "stdout",
     "output_type": "stream",
     "text": [
      "GPU available: False\n"
     ]
    }
   ],
   "source": [
    "%matplotlib inline\n",
    "import matplotlib.pyplot as plt\n",
    "import numpy as np\n",
    "import os\n",
    "\n",
    "import torch\n",
    "import torch.nn as nn\n",
    "from   torch.autograd import Variable\n",
    "\n",
    "import torchvision\n",
    "\n",
    "import lib.pytorch_trainer as ptt\n",
    "use_gpu = torch.cuda.is_available()\n",
    "print('GPU available:', use_gpu)"
   ]
  },
  {
   "cell_type": "markdown",
   "metadata": {
    "ExecuteTime": {
     "end_time": "2017-06-15T18:50:02.440859",
     "start_time": "2017-06-15T18:50:02.432635"
    }
   },
   "source": [
    "## Leitura do dataset"
   ]
  },
  {
   "cell_type": "code",
   "execution_count": 3,
   "metadata": {
    "ExecuteTime": {
     "end_time": "2017-11-02T13:49:30.846317Z",
     "start_time": "2017-11-02T13:49:30.140034Z"
    },
    "collapsed": true
   },
   "outputs": [],
   "source": [
    "dataset_dir = '/data/datasets/MNIST/'\n",
    "\n",
    "data_train, target_train = torch.load(dataset_dir + 'processed/training.pt')\n",
    "data_test,  target_test  = torch.load(dataset_dir + 'processed/test.pt')\n",
    "\n",
    "data_train = data_train.float() / 255.\n",
    "data_test  = data_test.float() / 255."
   ]
  },
  {
   "cell_type": "markdown",
   "metadata": {},
   "source": [
    "## Pouquíssimas amostras - depurando apenas"
   ]
  },
  {
   "cell_type": "code",
   "execution_count": 5,
   "metadata": {
    "ExecuteTime": {
     "end_time": "2017-11-02T13:49:59.685601Z",
     "start_time": "2017-11-02T13:49:59.644338Z"
    },
    "collapsed": true
   },
   "outputs": [],
   "source": [
    "if True:\n",
    "    n_samples_train = 1000\n",
    "    n_samples_test  = 500\n",
    "else:\n",
    "    n_samples_train = data_train.size(0)\n",
    "    n_samples_test  = data_test.size(0)\n",
    "    \n",
    "x_train = data_train[:n_samples_train].clone()\n",
    "y_train = target_train[:n_samples_train].clone()\n",
    "x_test  = data_test[:n_samples_test].clone()\n",
    "y_test  = target_test[:n_samples_test].clone()\n",
    "del data_train, target_train, data_test, target_test"
   ]
  },
  {
   "cell_type": "code",
   "execution_count": 6,
   "metadata": {
    "ExecuteTime": {
     "end_time": "2017-11-02T13:50:00.837326Z",
     "start_time": "2017-11-02T13:50:00.828319Z"
    }
   },
   "outputs": [
    {
     "data": {
      "text/plain": [
       "torch.Size([1000, 28, 28])"
      ]
     },
     "execution_count": 6,
     "metadata": {},
     "output_type": "execute_result"
    }
   ],
   "source": [
    "x_train.shape"
   ]
  },
  {
   "cell_type": "markdown",
   "metadata": {},
   "source": [
    "## SimpleRNN com 100 neurônios"
   ]
  },
  {
   "cell_type": "code",
   "execution_count": 8,
   "metadata": {
    "ExecuteTime": {
     "end_time": "2017-11-02T13:50:10.435881Z",
     "start_time": "2017-11-02T13:50:10.409183Z"
    }
   },
   "outputs": [
    {
     "data": {
      "text/plain": [
       "Model_RNN (\n",
       "  (rnn): RNN(28, 100, batch_first=True, dropout=0.05)\n",
       "  (out): Linear (100 -> 10)\n",
       ")"
      ]
     },
     "execution_count": 8,
     "metadata": {},
     "output_type": "execute_result"
    }
   ],
   "source": [
    "class Model_RNN(nn.Module):\n",
    "    def __init__(self, hidden_size):\n",
    "        super(Model_RNN, self).__init__()\n",
    "        self.rnn = nn.RNN(28, hidden_size, 1, batch_first=True, nonlinearity='relu', dropout=0.05) # 28 atributos, 100 neurônios, 1 camada  \n",
    "        self.out = nn.Linear(hidden_size, 10)\n",
    "\n",
    "    def forward(self, xin):\n",
    "        _,x = self.rnn(xin)\n",
    "        x  = self.out(x)\n",
    "        return torch.squeeze(x,dim=0)\n",
    "    \n",
    "\n",
    "model_rnn = Model_RNN(100)\n",
    "if use_gpu:\n",
    "    model_rnn = model_rnn.cuda()\n",
    "model_rnn"
   ]
  },
  {
   "cell_type": "markdown",
   "metadata": {},
   "source": [
    "## Predict com uma amostra"
   ]
  },
  {
   "cell_type": "code",
   "execution_count": 32,
   "metadata": {
    "ExecuteTime": {
     "end_time": "2017-11-02T14:12:57.539509Z",
     "start_time": "2017-11-02T14:12:57.521299Z"
    },
    "scrolled": false
   },
   "outputs": [
    {
     "name": "stdout",
     "output_type": "stream",
     "text": [
      "xin.shape: torch.Size([2, 28, 28])\n",
      "Variable containing:\n",
      "\n",
      "Columns 0 to 7 \n",
      " -0.1408  -5.5384   0.7653   1.1210 -15.1842   0.3694 -11.4713  -1.6769\n",
      "  3.0954  -3.0685   0.4708  -0.9883  -7.3848   0.2567  -1.6035  -6.0274\n",
      "\n",
      "Columns 8 to 9 \n",
      " -2.0571  -4.3757\n",
      " -1.5697  -1.8740\n",
      "[torch.FloatTensor of size 2x10]\n",
      "\n"
     ]
    }
   ],
   "source": [
    "xin = x_train[0:2]\n",
    "print('xin.shape:',xin.shape)\n",
    "xv_in = Variable(xin)\n",
    "if use_gpu:\n",
    "    xv_in = xv_in.cuda()\n",
    "ypred = model_rnn(xv_in)\n",
    "print(torch.squeeze(ypred[:,:10]))"
   ]
  },
  {
   "cell_type": "markdown",
   "metadata": {},
   "source": [
    "## Criando o treinador"
   ]
  },
  {
   "cell_type": "code",
   "execution_count": 11,
   "metadata": {
    "ExecuteTime": {
     "end_time": "2017-11-02T13:50:30.681905Z",
     "start_time": "2017-11-02T13:50:30.674039Z"
    },
    "collapsed": true
   },
   "outputs": [],
   "source": [
    "chkpt_cb = ptt.ModelCheckpoint('../../models/SimpleRNN_MNIST_t', reset=True, verbose=1)\n",
    "\n",
    "trainer = ptt.DeepNetTrainer(model_rnn,\n",
    "                        criterion = nn.CrossEntropyLoss(),\n",
    "                        optimizer = torch.optim.Adam(model_rnn.parameters(),lr=1e-3),\n",
    "                        callbacks = [chkpt_cb, ptt.AccuracyMetric(),ptt.PrintCallback()]\n",
    "                        )"
   ]
  },
  {
   "cell_type": "code",
   "execution_count": 27,
   "metadata": {
    "ExecuteTime": {
     "end_time": "2017-11-02T14:11:42.830105Z",
     "start_time": "2017-11-02T14:11:37.255839Z"
    }
   },
   "outputs": [
    {
     "name": "stdout",
     "output_type": "stream",
     "text": [
      "Start training for 20 epochs\n",
      " 21:   0.8s   T: 0.60491 0.80000   V: 0.82260 0.72600 best\n",
      " 22:   0.7s   T: 0.51764 0.83200   V: 0.77415 0.74800 best\n",
      " 23:   0.7s   T: 0.54383 0.84400   V: 0.78698 0.74600 \n",
      " 24:   0.7s   T: 0.48250 0.85400   V: 0.74022 0.77600 best\n",
      " 25:   0.7s   T: 0.43978 0.86400   V: 0.94426 0.73800 \n",
      " 26:   0.8s   T: 0.46158 0.86200   V: 0.74491 0.78000 \n",
      " 27:   0.8s   T: 0.37783 0.89500   V: 0.82677 0.77800 \n",
      "Best model was saved at epoch 24 with loss 0.74022: ../../models/SimpleRNN_MNIST_t\n",
      "Stop training at epoch: 27/40\n"
     ]
    }
   ],
   "source": [
    "if True:\n",
    "    trainer.fit(20, x_train, y_train, valid_data=(x_test, y_test),batch_size=32)\n",
    "else:\n",
    "    trainer.load_state('/data/models/SimpleRNN_MNIST_rnn')"
   ]
  },
  {
   "cell_type": "code",
   "execution_count": 28,
   "metadata": {
    "ExecuteTime": {
     "end_time": "2017-11-02T14:11:51.424555Z",
     "start_time": "2017-11-02T14:11:51.162350Z"
    }
   },
   "outputs": [
    {
     "data": {
      "text/plain": [
       "[<matplotlib.lines.Line2D at 0x11f100780>]"
      ]
     },
     "execution_count": 28,
     "metadata": {},
     "output_type": "execute_result"
    },
    {
     "data": {
      "image/png": "[encoded data removed]",
      "text/plain": [
       "<matplotlib.figure.Figure at 0x11f0d75c0>"
      ]
     },
     "metadata": {},
     "output_type": "display_data"
    }
   ],
   "source": [
    "plt.plot(trainer.metrics['valid']['acc'])"
   ]
  },
  {
   "cell_type": "markdown",
   "metadata": {
    "collapsed": true
   },
   "source": [
    "## Usando LSTM"
   ]
  },
  {
   "cell_type": "code",
   "execution_count": 29,
   "metadata": {
    "ExecuteTime": {
     "end_time": "2017-11-02T14:11:54.846455Z",
     "start_time": "2017-11-02T14:11:54.831898Z"
    },
    "collapsed": true
   },
   "outputs": [],
   "source": [
    "class Model_LSTM(nn.Module):\n",
    "    def __init__(self, hidden_size):\n",
    "        super(Model_LSTM, self).__init__()\n",
    "        self.rnn = nn.LSTM(28, hidden_size, 1, batch_first=True, dropout=0.05) # 28 atributos, 100 neurônios, 1 camada  \n",
    "        self.out = nn.Linear(hidden_size, 10)\n",
    "\n",
    "    def forward(self, xin):\n",
    "        _,(x,_) = self.rnn(xin)\n",
    "        x  = self.out(x)\n",
    "        return torch.squeeze(x,dim=0)\n",
    "    \n",
    "model_lstm = Model_LSTM(100)\n",
    "if use_gpu:\n",
    "    model_lstm = model_lstm.cuda()"
   ]
  },
  {
   "cell_type": "markdown",
   "metadata": {},
   "source": [
    "### Predict com uma amostra"
   ]
  },
  {
   "cell_type": "code",
   "execution_count": 33,
   "metadata": {
    "ExecuteTime": {
     "end_time": "2017-11-02T14:13:20.392120Z",
     "start_time": "2017-11-02T14:13:20.369034Z"
    }
   },
   "outputs": [
    {
     "name": "stdout",
     "output_type": "stream",
     "text": [
      "xin.shape: torch.Size([2, 28, 28])\n",
      "Variable containing:\n",
      " 0.0863  0.0773  0.0372 -0.0987 -0.0949  0.0862  0.1062 -0.0467  0.0474  0.0955\n",
      " 0.0855  0.0733  0.0374 -0.0978 -0.1026  0.0863  0.1016 -0.0459  0.0424  0.0947\n",
      "[torch.FloatTensor of size 2x10]\n",
      "\n"
     ]
    }
   ],
   "source": [
    "xin = x_train[0:2]\n",
    "print('xin.shape:',xin.shape)\n",
    "xv_in = Variable(xin)\n",
    "if use_gpu:\n",
    "    xv_in = xv_in.cuda()\n",
    "ypred = model_lstm(xv_in)\n",
    "print(torch.squeeze(ypred[:,:10]))"
   ]
  },
  {
   "cell_type": "markdown",
   "metadata": {},
   "source": [
    "### Criando o treinador"
   ]
  },
  {
   "cell_type": "code",
   "execution_count": 34,
   "metadata": {
    "ExecuteTime": {
     "end_time": "2017-11-02T14:13:21.641101Z",
     "start_time": "2017-11-02T14:13:21.632775Z"
    },
    "collapsed": true
   },
   "outputs": [],
   "source": [
    "chkpt_cb = ptt.ModelCheckpoint('../../models/SimpleRNN_MNIST_lstm', reset=True, verbose=1)\n",
    "\n",
    "trainer_lstm = ptt.DeepNetTrainer(\n",
    "                model_lstm,\n",
    "                criterion = nn.CrossEntropyLoss(),\n",
    "                optimizer = torch.optim.Adam(model_lstm.parameters(),lr=1e-3),\n",
    "                callbacks = [chkpt_cb, ptt.AccuracyMetric(),ptt.PrintCallback()]\n",
    "                )"
   ]
  },
  {
   "cell_type": "code",
   "execution_count": 35,
   "metadata": {
    "ExecuteTime": {
     "end_time": "2017-11-02T14:13:30.422147Z",
     "start_time": "2017-11-02T14:13:22.580637Z"
    }
   },
   "outputs": [
    {
     "name": "stdout",
     "output_type": "stream",
     "text": [
      "Start training for 20 epochs\n",
      "  1:   1.9s   T: 2.29543 0.14500   V: 2.26182 0.26200 best\n",
      "  2:   2.1s   T: 2.05889 0.28200   V: 1.95243 0.33600 best\n",
      "  3:   2.0s   T: 1.52679 0.49600   V: 1.33567 0.52000 best\n",
      "Best model was saved at epoch 3 with loss 1.33567: ../../models/SimpleRNN_MNIST_lstm\n",
      "Stop training at epoch: 4/20\n"
     ]
    }
   ],
   "source": [
    "trainer_lstm.fit(20, x_train, y_train, valid_data=(x_test, y_test),batch_size=32)"
   ]
  },
  {
   "cell_type": "code",
   "execution_count": 36,
   "metadata": {
    "ExecuteTime": {
     "end_time": "2017-11-02T14:13:31.722151Z",
     "start_time": "2017-11-02T14:13:31.487029Z"
    }
   },
   "outputs": [
    {
     "data": {
      "text/plain": [
       "[<matplotlib.lines.Line2D at 0x11f2002b0>]"
      ]
     },
     "execution_count": 36,
     "metadata": {},
     "output_type": "execute_result"
    },
    {
     "data": {
      "image/png": "[encoded data removed]",
      "text/plain": [
       "<matplotlib.figure.Figure at 0x11e848860>"
      ]
     },
     "metadata": {},
     "output_type": "display_data"
    }
   ],
   "source": [
    "plt.plot(trainer_lstm.metrics['valid']['acc'])"
   ]
  },
  {
   "cell_type": "markdown",
   "metadata": {},
   "source": [
    "## Comparação RNN x LSTM\n",
    "\n",
    "    - Acurácia RNN: 97,5%\n",
    "    - Acurácia LSTM: 98,9%"
   ]
  },
  {
   "cell_type": "markdown",
   "metadata": {},
   "source": [
    "# Exercícios"
   ]
  },
  {
   "cell_type": "code",
   "execution_count": null,
   "metadata": {
    "collapsed": true
   },
   "outputs": [],
   "source": [
    "1. "
   ]
  }
 ],
 "metadata": {
  "kernelspec": {
   "display_name": "Python 3",
   "language": "python",
   "name": "python3"
  },
  "language_info": {
   "codemirror_mode": {
    "name": "ipython",
    "version": 3
   },
   "file_extension": ".py",
   "mimetype": "text/x-python",
   "name": "python",
   "nbconvert_exporter": "python",
   "pygments_lexer": "ipython3",
   "version": "3.6.0"
  },
  "toc": {
   "nav_menu": {
    "height": "12px",
    "width": "252px"
   },
   "number_sections": true,
   "sideBar": true,
   "skip_h1_title": false,
   "toc_cell": false,
   "toc_position": {},
   "toc_section_display": "block",
   "toc_window_display": false
  }
 },
 "nbformat": 4,
 "nbformat_minor": 2
}
