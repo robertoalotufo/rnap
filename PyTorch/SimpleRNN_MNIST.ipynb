{
 "cells": [
  {
   "cell_type": "markdown",
   "metadata": {},
   "source": [
    "# Rede Neural Recorrente simples para classificar dígitos MNIST"
   ]
  },
  {
   "cell_type": "markdown",
   "metadata": {},
   "source": [
    "Este experimento ilustra o uso de uma rede neural recorrente na tarefa de classificação\n",
    "de dígitos manuscritos do dataset MNIST.\n",
    "\n",
    "A imagem é estruturada em 28 sequências de 28 pixels cada. Cada elemento da sequência é\n",
    "formado por uma linha da imagem. Cada linha da imagem contém 28 atributos (pixels)."
   ]
  },
  {
   "cell_type": "markdown",
   "metadata": {},
   "source": [
    "<img src='../figures/RNN_MNIST.png', width= 700></img>"
   ]
  },
  {
   "cell_type": "markdown",
   "metadata": {},
   "source": [
    "**Obs:** Este experimento foi inspirado no artigo:\n",
    "\"A Simple Way to Initialize Recurrent Networks of Rectified Linear Units\"\n",
    "by Quoc V. Le, Navdeep Jaitly, Geoffrey E. Hinton\n",
    "arxiv:1504.00941v2 [cs.NE] 7 Apr 2015\n",
    "http://arxiv.org/pdf/1504.00941v2.pdf\n",
    "\n",
    "A principal modificação é a formatação da imagem em 28 sequências de 28 pixels."
   ]
  },
  {
   "cell_type": "markdown",
   "metadata": {},
   "source": [
    "## Importação"
   ]
  },
  {
   "cell_type": "code",
   "execution_count": 1,
   "metadata": {
    "ExecuteTime": {
     "end_time": "2017-11-02T11:26:21.005340Z",
     "start_time": "2017-11-02T11:26:19.430234Z"
    }
   },
   "outputs": [
    {
     "name": "stdout",
     "output_type": "stream",
     "text": [
      "GPU available: True\n"
     ]
    }
   ],
   "source": [
    "%matplotlib inline\n",
    "import matplotlib.pyplot as plt\n",
    "import numpy as np\n",
    "\n",
    "import torch\n",
    "import torch.nn as nn\n",
    "from   torch.autograd import Variable\n",
    "\n",
    "import torchvision\n",
    "\n",
    "import lib.pytorch_trainer as ptt\n",
    "use_gpu = torch.cuda.is_available()\n",
    "print('GPU available:', use_gpu)"
   ]
  },
  {
   "cell_type": "markdown",
   "metadata": {
    "ExecuteTime": {
     "end_time": "2017-06-15T18:50:02.440859",
     "start_time": "2017-06-15T18:50:02.432635"
    }
   },
   "source": [
    "## Leitura do dataset"
   ]
  },
  {
   "cell_type": "code",
   "execution_count": 29,
   "metadata": {
    "ExecuteTime": {
     "end_time": "2017-11-02T11:26:25.560270Z",
     "start_time": "2017-11-02T11:26:24.917968Z"
    }
   },
   "outputs": [],
   "source": [
    "dataset_dir = '/data/datasets/MNIST/'\n",
    "\n",
    "datax_train, datay_train = torch.load(dataset_dir + 'processed/training.pt')\n",
    "datax_test,  datay_test  = torch.load(dataset_dir + 'processed/test.pt')\n",
    "\n",
    "datax_train = datax_train.float() / 255.\n",
    "datax_test  = datax_test.float() / 255."
   ]
  },
  {
   "cell_type": "markdown",
   "metadata": {},
   "source": [
    "## Pouquíssimas amostras - depurando apenas"
   ]
  },
  {
   "cell_type": "code",
   "execution_count": 30,
   "metadata": {
    "ExecuteTime": {
     "end_time": "2017-11-02T11:26:31.862228Z",
     "start_time": "2017-11-02T11:26:31.853662Z"
    }
   },
   "outputs": [],
   "source": [
    "if True:\n",
    "    n_samples_train = 1000\n",
    "    n_samples_test  = 500\n",
    "else:\n",
    "    n_samples_train = datax_train.size(0)\n",
    "    n_samples_test  = datax_test.size(0)\n",
    "    \n",
    "x_train = datax_train[:n_samples_train]\n",
    "y_train = datay_train[:n_samples_train]\n",
    "x_test  = datax_test[:n_samples_test]\n",
    "y_test  = datay_test[:n_samples_test]"
   ]
  },
  {
   "cell_type": "code",
   "execution_count": 14,
   "metadata": {
    "ExecuteTime": {
     "end_time": "2017-11-02T11:26:33.911742Z",
     "start_time": "2017-11-02T11:26:33.901565Z"
    }
   },
   "outputs": [
    {
     "data": {
      "text/plain": [
       "torch.Size([60000, 28, 28])"
      ]
     },
     "execution_count": 14,
     "metadata": {},
     "output_type": "execute_result"
    }
   ],
   "source": [
    "x_train.shape"
   ]
  },
  {
   "cell_type": "markdown",
   "metadata": {},
   "source": [
    "## SimpleRNN com 100 neurônios"
   ]
  },
  {
   "cell_type": "code",
   "execution_count": 15,
   "metadata": {
    "ExecuteTime": {
     "end_time": "2017-11-02T11:27:37.643069Z",
     "start_time": "2017-11-02T11:27:37.598344Z"
    }
   },
   "outputs": [
    {
     "data": {
      "text/plain": [
       "Model_RNN (\n",
       "  (rnn): RNN(28, 100, batch_first=True, dropout=0.05)\n",
       "  (out): Linear (100 -> 10)\n",
       ")"
      ]
     },
     "execution_count": 15,
     "metadata": {},
     "output_type": "execute_result"
    }
   ],
   "source": [
    "class Model_LSTM(nn.Module):\n",
    "    def __init__(self, hidden_size):\n",
    "        super(Model_LSTM, self).__init__()\n",
    "        self.rnn = nn.LSTM(28, hidden_size, 1, batch_first=True, dropout=0.05) # 28 atributos, 100 neurônios, 1 camada  \n",
    "        self.out = nn.Linear(hidden_size, 10)\n",
    "\n",
    "    def forward(self, xin):\n",
    "        _,(x,_) = self.rnn(xin)\n",
    "        x  = self.out(x)\n",
    "        return torch.squeeze(x,dim=0)\n",
    "    \n",
    "class Model_RNN(nn.Module):\n",
    "    def __init__(self, hidden_size):\n",
    "        super(Model_RNN, self).__init__()\n",
    "        self.rnn = nn.RNN(28, hidden_size, 1, batch_first=True, nonlinearity='relu', dropout=0.05) # 28 atributos, 100 neurônios, 1 camada  \n",
    "        self.out = nn.Linear(hidden_size, 10)\n",
    "\n",
    "    def forward(self, xin):\n",
    "        _,x = self.rnn(xin)\n",
    "        x  = self.out(x)\n",
    "        return torch.squeeze(x,dim=0)\n",
    "    \n",
    "\n",
    "model_rnn = Model_RNN(100)\n",
    "if use_gpu:\n",
    "    model_rnn = model_rnn.cuda()\n",
    "model_rnn"
   ]
  },
  {
   "cell_type": "markdown",
   "metadata": {},
   "source": [
    "## Predict com uma amostra"
   ]
  },
  {
   "cell_type": "code",
   "execution_count": 16,
   "metadata": {
    "ExecuteTime": {
     "end_time": "2017-11-02T11:27:55.697203Z",
     "start_time": "2017-11-02T11:27:55.602913Z"
    },
    "scrolled": false
   },
   "outputs": [
    {
     "name": "stdout",
     "output_type": "stream",
     "text": [
      "xin.shape: torch.Size([1, 28, 28])\n",
      "Variable containing:\n",
      " 0.0773\n",
      "-0.0741\n",
      "-0.0478\n",
      "-0.0038\n",
      " 0.1620\n",
      "-0.0026\n",
      "-0.0380\n",
      " 0.0150\n",
      " 0.0045\n",
      " 0.0537\n",
      "[torch.cuda.FloatTensor of size 10 (GPU 0)]\n",
      "\n"
     ]
    }
   ],
   "source": [
    "xin = x_train[0:1]\n",
    "xin = torch.zeros((1,28,28))\n",
    "print('xin.shape:',xin.shape)\n",
    "xv_in = Variable(xin)\n",
    "if use_gpu:\n",
    "    xv_in = xv_in.cuda()\n",
    "ypred = model_rnn(xv_in)\n",
    "print(torch.squeeze(ypred[:,:10]))"
   ]
  },
  {
   "cell_type": "markdown",
   "metadata": {},
   "source": [
    "## Criando o treinador"
   ]
  },
  {
   "cell_type": "code",
   "execution_count": 17,
   "metadata": {
    "ExecuteTime": {
     "end_time": "2017-11-02T11:28:04.101609Z",
     "start_time": "2017-11-02T11:28:04.093620Z"
    }
   },
   "outputs": [],
   "source": [
    "chkpt_cb = ptt.ModelCheckpoint('../../models/SimpleRNN_MNIST_t', reset=True, verbose=1)\n",
    "\n",
    "trainer = ptt.DeepNetTrainer(model_rnn,\n",
    "                        criterion = nn.CrossEntropyLoss(),\n",
    "                        optimizer = torch.optim.Adam(model_rnn.parameters(),lr=1e-3),\n",
    "                        callbacks = [chkpt_cb, ptt.AccuracyMetric(),ptt.PrintCallback()]\n",
    "                        )"
   ]
  },
  {
   "cell_type": "code",
   "execution_count": 18,
   "metadata": {
    "ExecuteTime": {
     "end_time": "2017-11-02T11:28:25.383487Z",
     "start_time": "2017-11-02T11:28:11.565343Z"
    }
   },
   "outputs": [
    {
     "name": "stdout",
     "output_type": "stream",
     "text": [
      "Start training for 20 epochs\n",
      "  1:   4.6s   T: 0.68101 0.76970   V: 0.33845 0.89930 best\n",
      "  2:   4.5s   T: 0.31000 0.90733   V: 0.24840 0.92170 best\n",
      "  3:   4.5s   T: 0.24744 0.92668   V: 0.19533 0.94080 best\n",
      "  4:   4.4s   T: 0.20373 0.94132   V: 0.18599 0.94630 best\n",
      "  5:   4.5s   T: 0.17559 0.94932   V: 0.15068 0.95570 best\n",
      "  6:   4.5s   T: 0.15685 0.95507   V: 0.17643 0.94680 \n",
      "  7:   4.5s   T: 0.14610 0.95780   V: 0.13883 0.96290 best\n",
      "  8:   4.5s   T: 0.13069 0.96288   V: 0.13359 0.96060 best\n",
      "  9:   4.5s   T: 0.12087 0.96555   V: 0.10576 0.97000 best\n",
      " 10:   4.5s   T: 0.11473 0.96787   V: 0.13184 0.96780 \n",
      " 11:   4.5s   T: 0.11229 0.96770   V: 0.11563 0.96910 \n",
      " 12:   4.5s   T: 0.10652 0.97020   V: 0.09957 0.97050 best\n",
      " 13:   4.5s   T: 0.10054 0.97173   V: 0.12366 0.96420 \n",
      " 14:   4.5s   T: 0.10091 0.97173   V: 0.09998 0.97270 \n",
      " 15:   4.5s   T: 0.09645 0.97247   V: 0.09089 0.97350 best\n",
      " 16:   4.5s   T: 0.09180 0.97487   V: 0.10990 0.96740 \n",
      " 17:   4.4s   T: 0.09229 0.97423   V: 0.08893 0.97560 best\n",
      " 18:   4.4s   T: 0.08977 0.97427   V: 0.09559 0.97320 \n",
      " 19:   4.5s   T: 0.09120 0.97447   V: 0.10127 0.97310 \n",
      " 20:   4.4s   T: 0.08275 0.97675   V: 0.11544 0.96710 \n",
      "Best model was saved at epoch 17 with loss 0.08893: ../../models/SimpleRNN_MNIST_t\n",
      "Stop training at epoch: 20/20\n"
     ]
    }
   ],
   "source": [
    "trainer.fit(20, x_train, y_train, valid_data=(x_test, y_test),batch_size=32)"
   ]
  },
  {
   "cell_type": "code",
   "execution_count": 19,
   "metadata": {
    "ExecuteTime": {
     "end_time": "2017-11-02T11:28:27.356502Z",
     "start_time": "2017-11-02T11:28:27.080287Z"
    }
   },
   "outputs": [
    {
     "data": {
      "text/plain": [
       "[<matplotlib.lines.Line2D at 0x7fbb07cff400>]"
      ]
     },
     "execution_count": 19,
     "metadata": {},
     "output_type": "execute_result"
    },
    {
     "data": {
      "image/png": "[encoded data removed]",
      "text/plain": [
       "<matplotlib.figure.Figure at 0x7fba95ad91d0>"
      ]
     },
     "metadata": {},
     "output_type": "display_data"
    }
   ],
   "source": [
    "plt.plot(trainer.metrics['valid']['acc'])"
   ]
  },
  {
   "cell_type": "markdown",
   "metadata": {
    "collapsed": true
   },
   "source": [
    "## Usando LSTM"
   ]
  },
  {
   "cell_type": "code",
   "execution_count": 20,
   "metadata": {},
   "outputs": [],
   "source": [
    "class Model_LSTM(nn.Module):\n",
    "    def __init__(self, hidden_size):\n",
    "        super(Model_LSTM, self).__init__()\n",
    "        self.rnn = nn.LSTM(28, hidden_size, 1, batch_first=True, dropout=0.05) # 28 atributos, 100 neurônios, 1 camada  \n",
    "        self.out = nn.Linear(hidden_size, 10)\n",
    "\n",
    "    def forward(self, xin):\n",
    "        _,(x,_) = self.rnn(xin)\n",
    "        x  = self.out(x)\n",
    "        return torch.squeeze(x,dim=0)\n",
    "    \n",
    "model_lstm = Model_LSTM(100)\n",
    "if use_gpu:\n",
    "    model_lstm = model_lstm.cuda()"
   ]
  },
  {
   "cell_type": "markdown",
   "metadata": {},
   "source": [
    "### Predict com uma amostra"
   ]
  },
  {
   "cell_type": "code",
   "execution_count": 21,
   "metadata": {},
   "outputs": [
    {
     "name": "stdout",
     "output_type": "stream",
     "text": [
      "xin.shape: torch.Size([1, 28, 28])\n",
      "Variable containing:\n",
      "-0.0461\n",
      "-0.0470\n",
      "-0.0207\n",
      "-0.0390\n",
      "-0.1061\n",
      " 0.0903\n",
      "-0.0442\n",
      "-0.0328\n",
      " 0.0375\n",
      " 0.0611\n",
      "[torch.cuda.FloatTensor of size 10 (GPU 0)]\n",
      "\n"
     ]
    }
   ],
   "source": [
    "xin = x_train[0:1]\n",
    "xin = torch.zeros((1,28,28))\n",
    "print('xin.shape:',xin.shape)\n",
    "xv_in = Variable(xin)\n",
    "if use_gpu:\n",
    "    xv_in = xv_in.cuda()\n",
    "ypred = model_lstm(xv_in)\n",
    "print(torch.squeeze(ypred[:,:10]))"
   ]
  },
  {
   "cell_type": "markdown",
   "metadata": {},
   "source": [
    "### Criando o treinador"
   ]
  },
  {
   "cell_type": "code",
   "execution_count": 24,
   "metadata": {},
   "outputs": [],
   "source": [
    "chkpt_cb = ptt.ModelCheckpoint('../../models/SimpleRNN_MNIST_lstm', reset=True, verbose=1)\n",
    "\n",
    "trainer_lstm = ptt.DeepNetTrainer(\n",
    "                model_lstm,\n",
    "                criterion = nn.CrossEntropyLoss(),\n",
    "                optimizer = torch.optim.Adam(model_lstm.parameters(),lr=1e-3),\n",
    "                callbacks = [chkpt_cb, ptt.AccuracyMetric(),ptt.PrintCallback()]\n",
    "                )"
   ]
  },
  {
   "cell_type": "code",
   "execution_count": 25,
   "metadata": {},
   "outputs": [
    {
     "name": "stdout",
     "output_type": "stream",
     "text": [
      "Start training for 20 epochs\n",
      "  1:   6.0s   T: 0.43526 0.86082   V: 0.17086 0.94750 best\n",
      "  2:   5.6s   T: 0.14115 0.95792   V: 0.11651 0.96370 best\n",
      "  3:   5.6s   T: 0.09703 0.97047   V: 0.07900 0.97700 best\n",
      "  4:   5.6s   T: 0.07580 0.97757   V: 0.07050 0.97770 best\n",
      "  5:   5.6s   T: 0.05955 0.98195   V: 0.06605 0.98100 best\n",
      "  6:   5.6s   T: 0.05023 0.98470   V: 0.06118 0.98190 best\n",
      "  7:   5.6s   T: 0.04391 0.98635   V: 0.06083 0.98200 best\n",
      "  8:   5.6s   T: 0.03895 0.98803   V: 0.05865 0.98430 best\n",
      "  9:   5.6s   T: 0.03401 0.98940   V: 0.05242 0.98450 best\n",
      " 10:   5.6s   T: 0.02884 0.99138   V: 0.05575 0.98420 \n",
      " 11:   5.6s   T: 0.02699 0.99167   V: 0.04844 0.98510 best\n",
      " 12:   5.6s   T: 0.02496 0.99267   V: 0.04351 0.98670 best\n",
      " 13:   5.6s   T: 0.02103 0.99362   V: 0.04415 0.98730 \n",
      " 14:   5.6s   T: 0.02247 0.99262   V: 0.04223 0.98840 best\n",
      " 15:   5.6s   T: 0.01661 0.99480   V: 0.04322 0.98760 \n",
      " 16:   5.6s   T: 0.01736 0.99427   V: 0.04557 0.98820 \n",
      " 17:   5.6s   T: 0.01615 0.99488   V: 0.04364 0.98790 \n",
      " 18:   5.6s   T: 0.01413 0.99533   V: 0.04103 0.98980 best\n",
      " 19:   5.6s   T: 0.01276 0.99605   V: 0.04641 0.98870 \n",
      " 20:   5.6s   T: 0.01301 0.99575   V: 0.04590 0.98840 \n",
      "Best model was saved at epoch 18 with loss 0.04103: ../../models/SimpleRNN_MNIST_lstm\n",
      "Stop training at epoch: 20/20\n"
     ]
    }
   ],
   "source": [
    "trainer_lstm.fit(20, x_train, y_train, valid_data=(x_test, y_test),batch_size=32)"
   ]
  },
  {
   "cell_type": "code",
   "execution_count": 26,
   "metadata": {},
   "outputs": [
    {
     "data": {
      "text/plain": [
       "[<matplotlib.lines.Line2D at 0x7fba94d5b0f0>]"
      ]
     },
     "execution_count": 26,
     "metadata": {},
     "output_type": "execute_result"
    },
    {
     "data": {
      "image/png": "[encoded data removed]",
      "text/plain": [
       "<matplotlib.figure.Figure at 0x7fba94dc8eb8>"
      ]
     },
     "metadata": {},
     "output_type": "display_data"
    }
   ],
   "source": [
    "plt.plot(trainer_lstm.metrics['valid']['acc'])"
   ]
  },
  {
   "cell_type": "markdown",
   "metadata": {},
   "source": [
    "## Comparação RNN x LSTM\n",
    "\n",
    "    - Acurácia RNN: 97,5%\n",
    "    - Acurácia LSTM: 98,9%"
   ]
  },
  {
   "cell_type": "markdown",
   "metadata": {},
   "source": [
    "# Exercícios"
   ]
  },
  {
   "cell_type": "code",
   "execution_count": null,
   "metadata": {},
   "outputs": [],
   "source": [
    "1. "
   ]
  }
 ],
 "metadata": {
  "kernelspec": {
   "display_name": "Python 3",
   "language": "python",
   "name": "python3"
  },
  "language_info": {
   "codemirror_mode": {
    "name": "ipython",
    "version": 3
   },
   "file_extension": ".py",
   "mimetype": "text/x-python",
   "name": "python",
   "nbconvert_exporter": "python",
   "pygments_lexer": "ipython3",
   "version": "3.6.1"
  },
  "toc": {
   "nav_menu": {
    "height": "12px",
    "width": "252px"
   },
   "number_sections": true,
   "sideBar": true,
   "skip_h1_title": false,
   "toc_cell": false,
   "toc_position": {},
   "toc_section_display": "block",
   "toc_window_display": false
  }
 },
 "nbformat": 4,
 "nbformat_minor": 2
}
