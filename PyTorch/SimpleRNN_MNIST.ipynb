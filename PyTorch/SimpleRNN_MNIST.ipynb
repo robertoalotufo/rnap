{
 "cells": [
  {
   "cell_type": "markdown",
   "metadata": {},
   "source": [
    "# Rede Neural Recorrente simples para classificar dígitos MNIST"
   ]
  },
  {
   "cell_type": "markdown",
   "metadata": {},
   "source": [
    "Este experimento ilustra o uso de uma rede neural recorrente na tarefa de classificação\n",
    "de dígitos manuscritos do dataset MNIST.\n",
    "\n",
    "A imagem é estruturada em 28 sequências de 28 pixels cada. Cada elemento da sequência é\n",
    "formado por uma linha da imagem. Cada linha da imagem contém 28 atributos (pixels)."
   ]
  },
  {
   "cell_type": "markdown",
   "metadata": {},
   "source": [
    "<img src='../figures/RNN_MNIST.png', width= 700></img>"
   ]
  },
  {
   "cell_type": "markdown",
   "metadata": {},
   "source": [
    "**Obs:** Este experimento foi inspirado no artigo:\n",
    "\"A Simple Way to Initialize Recurrent Networks of Rectified Linear Units\"\n",
    "by Quoc V. Le, Navdeep Jaitly, Geoffrey E. Hinton\n",
    "arxiv:1504.00941v2 [cs.NE] 7 Apr 2015\n",
    "http://arxiv.org/pdf/1504.00941v2.pdf\n",
    "\n",
    "A principal modificação é a formatação da imagem em 28 sequências de 28 pixels."
   ]
  },
  {
   "cell_type": "markdown",
   "metadata": {},
   "source": [
    "## Importação"
   ]
  },
  {
   "cell_type": "code",
   "execution_count": 1,
   "metadata": {
    "ExecuteTime": {
     "end_time": "2017-11-02T11:26:21.005340Z",
     "start_time": "2017-11-02T11:26:19.430234Z"
    }
   },
   "outputs": [
    {
     "name": "stdout",
     "output_type": "stream",
     "text": [
      "GPU available: False\n"
     ]
    }
   ],
   "source": [
    "%matplotlib inline\n",
    "import matplotlib.pyplot as plt\n",
    "import numpy as np\n",
    "\n",
    "import torch\n",
    "import torch.nn as nn\n",
    "from   torch.autograd import Variable\n",
    "\n",
    "import torchvision\n",
    "\n",
    "import lib.pytorch_trainer as ptt\n",
    "use_gpu = torch.cuda.is_available()\n",
    "print('GPU available:', use_gpu)"
   ]
  },
  {
   "cell_type": "markdown",
   "metadata": {
    "ExecuteTime": {
     "end_time": "2017-06-15T18:50:02.440859",
     "start_time": "2017-06-15T18:50:02.432635"
    }
   },
   "source": [
    "## Leitura do dataset"
   ]
  },
  {
   "cell_type": "code",
   "execution_count": 2,
   "metadata": {
    "ExecuteTime": {
     "end_time": "2017-11-02T11:26:25.560270Z",
     "start_time": "2017-11-02T11:26:24.917968Z"
    },
    "collapsed": true
   },
   "outputs": [],
   "source": [
    "dataset_dir = '/data/datasets/MNIST/'\n",
    "\n",
    "x_train, y_train = torch.load(dataset_dir + 'processed/training.pt')\n",
    "x_test,  y_test  = torch.load(dataset_dir + 'processed/test.pt')\n",
    "\n",
    "x_train = x_train.float()\n",
    "x_test  = x_test.float()\n",
    "\n",
    "x_train = x_train / 255.\n",
    "x_test  = x_test  / 255."
   ]
  },
  {
   "cell_type": "markdown",
   "metadata": {},
   "source": [
    "## Pouquíssimas amostras - depurando apenas"
   ]
  },
  {
   "cell_type": "code",
   "execution_count": 3,
   "metadata": {
    "ExecuteTime": {
     "end_time": "2017-11-02T11:26:31.862228Z",
     "start_time": "2017-11-02T11:26:31.853662Z"
    },
    "collapsed": true
   },
   "outputs": [],
   "source": [
    "if True:\n",
    "    n_samples_train = 1000\n",
    "    n_samples_test  = 500\n",
    "\n",
    "    x_train = x_train[:n_samples_train]\n",
    "    y_train = y_train[:n_samples_train]\n",
    "    x_test  = x_test[:n_samples_test]\n",
    "    y_test  = y_test[:n_samples_test]"
   ]
  },
  {
   "cell_type": "code",
   "execution_count": 4,
   "metadata": {
    "ExecuteTime": {
     "end_time": "2017-11-02T11:26:33.911742Z",
     "start_time": "2017-11-02T11:26:33.901565Z"
    }
   },
   "outputs": [
    {
     "data": {
      "text/plain": [
       "torch.Size([1000, 28, 28])"
      ]
     },
     "execution_count": 4,
     "metadata": {},
     "output_type": "execute_result"
    }
   ],
   "source": [
    "x_train.shape"
   ]
  },
  {
   "cell_type": "markdown",
   "metadata": {},
   "source": [
    "## SimpleRNN com 100 neurônios"
   ]
  },
  {
   "cell_type": "code",
   "execution_count": 5,
   "metadata": {
    "ExecuteTime": {
     "end_time": "2017-11-02T11:27:37.643069Z",
     "start_time": "2017-11-02T11:27:37.598344Z"
    }
   },
   "outputs": [
    {
     "data": {
      "text/plain": [
       "Model_RNN (\n",
       "  (rnn): RNN(28, 100, batch_first=True, dropout=0.05)\n",
       "  (out): Linear (100 -> 10)\n",
       ")"
      ]
     },
     "execution_count": 5,
     "metadata": {},
     "output_type": "execute_result"
    }
   ],
   "source": [
    "class Model_LSTM(nn.Module):\n",
    "    def __init__(self, hidden_size):\n",
    "        super(Model_LSTM, self).__init__()\n",
    "        #self.rnn = nn.RNN(28, hidden_size, 1, batch_first=True, nonlinearity='relu', dropout=0.05) # 28 atributos, 100 neurônios, 1 camada  \n",
    "        self.rnn = nn.LSTM(28, hidden_size, 1, batch_first=True, dropout=0.05) # 28 atributos, 100 neurônios, 1 camada  \n",
    "        self.out = nn.Linear(hidden_size, 10)\n",
    "\n",
    "    def forward(self, xin):\n",
    "        _,(x,_) = self.rnn(xin)\n",
    "        x  = self.out(x)\n",
    "        return torch.squeeze(x,dim=0)\n",
    "    \n",
    "class Model_RNN(nn.Module):\n",
    "    def __init__(self, hidden_size):\n",
    "        super(Model_RNN, self).__init__()\n",
    "        self.rnn = nn.RNN(28, hidden_size, 1, batch_first=True, nonlinearity='relu', dropout=0.05) # 28 atributos, 100 neurônios, 1 camada  \n",
    "        self.out = nn.Linear(hidden_size, 10)\n",
    "\n",
    "    def forward(self, xin):\n",
    "        _,x = self.rnn(xin)\n",
    "        x  = self.out(x)\n",
    "        return torch.squeeze(x,dim=0)\n",
    "    \n",
    "\n",
    "model_rnn = Model_RNN(100)\n",
    "#model_rnn = Model_LSTM(100)\n",
    "if use_gpu:\n",
    "    model_rnn = model_rnn.cuda()\n",
    "model_rnn"
   ]
  },
  {
   "cell_type": "markdown",
   "metadata": {},
   "source": [
    "## Predict com uma amostra"
   ]
  },
  {
   "cell_type": "code",
   "execution_count": 7,
   "metadata": {
    "ExecuteTime": {
     "end_time": "2017-11-02T11:27:55.697203Z",
     "start_time": "2017-11-02T11:27:55.602913Z"
    },
    "scrolled": false
   },
   "outputs": [
    {
     "name": "stdout",
     "output_type": "stream",
     "text": [
      "xin.shape: torch.Size([1, 28, 28])\n",
      "Variable containing:\n",
      "-0.0294\n",
      " 0.1265\n",
      "-0.0573\n",
      " 0.1063\n",
      " 0.0390\n",
      " 0.0837\n",
      " 0.0423\n",
      " 0.0519\n",
      " 0.0397\n",
      " 0.0323\n",
      "[torch.FloatTensor of size 10]\n",
      "\n"
     ]
    }
   ],
   "source": [
    "xin = x_train[0:1]\n",
    "xin = torch.zeros((1,28,28))\n",
    "print('xin.shape:',xin.shape)\n",
    "xv_in = Variable(xin)\n",
    "ypred = model_rnn(xv_in)\n",
    "print(torch.squeeze(ypred[:,:10]))"
   ]
  },
  {
   "cell_type": "code",
   "execution_count": 8,
   "metadata": {
    "ExecuteTime": {
     "end_time": "2017-11-02T11:28:04.101609Z",
     "start_time": "2017-11-02T11:28:04.093620Z"
    },
    "collapsed": true
   },
   "outputs": [],
   "source": [
    "chkpt_cb = ptt.ModelCheckpoint('../../models/SimpleRNN_MNIST_t', reset=False, verbose=1)\n",
    "\n",
    "trainer = ptt.DeepNetTrainer(model_rnn,\n",
    "                        criterion = nn.CrossEntropyLoss(),\n",
    "                        optimizer = torch.optim.Adam(model_rnn.parameters(),lr=1e-3),\n",
    "                        callbacks = [chkpt_cb, ptt.AccuracyMetric(),ptt.PrintCallback()]\n",
    "                        )"
   ]
  },
  {
   "cell_type": "code",
   "execution_count": 9,
   "metadata": {
    "ExecuteTime": {
     "end_time": "2017-11-02T11:28:25.383487Z",
     "start_time": "2017-11-02T11:28:11.565343Z"
    }
   },
   "outputs": [
    {
     "name": "stdout",
     "output_type": "stream",
     "text": [
      "Start training for 20 epochs\n",
      "  1:   0.8s   T: 2.28785 0.13500   V: 2.26854 0.11000 best\n",
      "  2:   0.7s   T: 2.14923 0.21900   V: 1.99881 0.30800 best\n",
      "  3:   0.7s   T: 1.61806 0.43900   V: 1.60264 0.50400 best\n",
      "  4:   0.7s   T: 1.35067 0.52400   V: 1.49860 0.53000 best\n",
      "  5:   0.7s   T: 1.26618 0.56400   V: 1.44860 0.53400 best\n",
      "  6:   0.7s   T: 1.20748 0.57100   V: 1.48562 0.48400 \n",
      "  7:   0.7s   T: 1.19117 0.58300   V: 1.32602 0.54800 best\n",
      "  8:   0.7s   T: 1.08198 0.62700   V: 1.34119 0.52400 \n",
      "  9:   0.7s   T: 1.10301 0.61000   V: 1.23616 0.57400 best\n",
      " 10:   0.7s   T: 1.07534 0.59900   V: 1.27465 0.57400 \n",
      " 11:   0.7s   T: 1.03049 0.63100   V: 1.33033 0.53800 \n",
      " 12:   0.7s   T: 1.00338 0.64700   V: 1.23322 0.58800 best\n",
      " 13:   0.7s   T: 1.06497 0.61200   V: 1.22904 0.53600 best\n",
      " 14:   0.7s   T: 0.97021 0.64600   V: 1.27806 0.55200 \n",
      " 15:   0.7s   T: 0.95536 0.66500   V: 1.19279 0.60000 best\n",
      " 16:   0.7s   T: 0.93714 0.65400   V: 1.26531 0.55800 \n",
      " 17:   0.7s   T: 0.84151 0.69200   V: 1.24803 0.59600 \n",
      " 18:   0.7s   T: 0.88688 0.69000   V: 1.27321 0.53200 \n",
      " 19:   0.7s   T: 0.84354 0.70700   V: 1.08994 0.62600 best\n",
      " 20:   0.7s   T: 0.80878 0.71800   V: 1.09109 0.62200 \n",
      "Best model was saved at epoch 19 with loss 1.08994: ../../models/SimpleRNN_MNIST_t\n",
      "Stop training at epoch: 20/20\n"
     ]
    }
   ],
   "source": [
    "trainer.fit(20, x_train, y_train, valid_data=(x_test, y_test),batch_size=32)"
   ]
  },
  {
   "cell_type": "code",
   "execution_count": 10,
   "metadata": {
    "ExecuteTime": {
     "end_time": "2017-11-02T11:28:27.356502Z",
     "start_time": "2017-11-02T11:28:27.080287Z"
    }
   },
   "outputs": [
    {
     "data": {
      "text/plain": [
       "[<matplotlib.lines.Line2D at 0x116e01198>]"
      ]
     },
     "execution_count": 10,
     "metadata": {},
     "output_type": "execute_result"
    },
    {
     "data": {
      "image/png": "[encoded data removed]",
      "text/plain": [
       "<matplotlib.figure.Figure at 0x10e64ddd8>"
      ]
     },
     "metadata": {},
     "output_type": "display_data"
    }
   ],
   "source": [
    "plt.plot(trainer.metrics['valid']['acc'])"
   ]
  },
  {
   "cell_type": "code",
   "execution_count": null,
   "metadata": {
    "collapsed": true
   },
   "outputs": [],
   "source": []
  }
 ],
 "metadata": {
  "kernelspec": {
   "display_name": "Python 3",
   "language": "python",
   "name": "python3"
  },
  "language_info": {
   "codemirror_mode": {
    "name": "ipython",
    "version": 3
   },
   "file_extension": ".py",
   "mimetype": "text/x-python",
   "name": "python",
   "nbconvert_exporter": "python",
   "pygments_lexer": "ipython3",
   "version": "3.6.0"
  },
  "toc": {
   "nav_menu": {
    "height": "12px",
    "width": "252px"
   },
   "number_sections": true,
   "sideBar": true,
   "skip_h1_title": false,
   "toc_cell": false,
   "toc_position": {},
   "toc_section_display": "block",
   "toc_window_display": false
  }
 },
 "nbformat": 4,
 "nbformat_minor": 2
}
