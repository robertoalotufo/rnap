{
 "cells": [
  {
   "cell_type": "markdown",
   "metadata": {},
   "source": [
    "# Rede Neural Recorrente simples para classificar dígitos MNIST"
   ]
  },
  {
   "cell_type": "markdown",
   "metadata": {},
   "source": [
    "Este experimento ilustra o uso de uma rede neural recorrente na tarefa de classificação\n",
    "de dígitos manuscritos do dataset MNIST.\n",
    "\n",
    "A imagem é estruturada em 28 sequências de 28 pixels cada. Cada elemento da sequência é\n",
    "formado por uma linha da imagem. Cada linha da imagem contém 28 atributos (pixels)."
   ]
  },
  {
   "cell_type": "markdown",
   "metadata": {},
   "source": [
    "<img src='../figures/RNN_MNIST.png', width= 700></img>"
   ]
  },
  {
   "cell_type": "markdown",
   "metadata": {},
   "source": [
    "**Obs:** Este experimento foi inspirado no artigo:\n",
    "\"A Simple Way to Initialize Recurrent Networks of Rectified Linear Units\"\n",
    "by Quoc V. Le, Navdeep Jaitly, Geoffrey E. Hinton\n",
    "arxiv:1504.00941v2 [cs.NE] 7 Apr 2015\n",
    "http://arxiv.org/pdf/1504.00941v2.pdf\n",
    "\n",
    "A principal modificação é a formatação da imagem em 28 sequências de 28 pixels."
   ]
  },
  {
   "cell_type": "markdown",
   "metadata": {},
   "source": [
    "## Importação"
   ]
  },
  {
   "cell_type": "code",
   "execution_count": 1,
   "metadata": {
    "ExecuteTime": {
     "end_time": "2017-11-02T11:26:21.005340Z",
     "start_time": "2017-11-02T11:26:19.430234Z"
    }
   },
   "outputs": [
    {
     "name": "stdout",
     "output_type": "stream",
     "text": [
      "GPU available: True\n"
     ]
    }
   ],
   "source": [
    "%matplotlib inline\n",
    "import matplotlib.pyplot as plt\n",
    "import numpy as np\n",
    "import os\n",
    "\n",
    "import torch\n",
    "import torch.nn as nn\n",
    "from   torch.autograd import Variable\n",
    "\n",
    "import torchvision\n",
    "\n",
    "import lib.pytorch_trainer as ptt\n",
    "use_gpu = torch.cuda.is_available()\n",
    "print('GPU available:', use_gpu)"
   ]
  },
  {
   "cell_type": "code",
   "execution_count": 2,
   "metadata": {},
   "outputs": [
    {
     "name": "stdout",
     "output_type": "stream",
     "text": [
      "              total        used        free      shared  buff/cache   available\n",
      "Mem:            15G        3.4G        5.3G        181M        6.9G         11G\n",
      "Swap:           15G        912M         14G\n",
      "Total:          31G        4.3G         20G\n",
      "\n"
     ]
    }
   ],
   "source": [
    "print(''.join(os.popen('free -th -m').readlines()))\n"
   ]
  },
  {
   "cell_type": "markdown",
   "metadata": {
    "ExecuteTime": {
     "end_time": "2017-06-15T18:50:02.440859",
     "start_time": "2017-06-15T18:50:02.432635"
    }
   },
   "source": [
    "## Leitura do dataset"
   ]
  },
  {
   "cell_type": "code",
   "execution_count": 3,
   "metadata": {
    "ExecuteTime": {
     "end_time": "2017-11-02T11:26:25.560270Z",
     "start_time": "2017-11-02T11:26:24.917968Z"
    }
   },
   "outputs": [],
   "source": [
    "dataset_dir = '/data/datasets/MNIST/'\n",
    "\n",
    "data_train, target_train = torch.load(dataset_dir + 'processed/training.pt')\n",
    "data_test,  target_test  = torch.load(dataset_dir + 'processed/test.pt')\n",
    "\n",
    "data_train = data_train.float() / 255.\n",
    "data_test  = data_test.float() / 255."
   ]
  },
  {
   "cell_type": "code",
   "execution_count": 4,
   "metadata": {},
   "outputs": [
    {
     "name": "stdout",
     "output_type": "stream",
     "text": [
      "              total        used        free      shared  buff/cache   available\n",
      "Mem:            15G        3.6G        5.1G        181M        6.9G         11G\n",
      "Swap:           15G        912M         14G\n",
      "Total:          31G        4.5G         20G\n",
      "\n"
     ]
    }
   ],
   "source": [
    "print(''.join(os.popen('free -th -m').readlines()))\n"
   ]
  },
  {
   "cell_type": "markdown",
   "metadata": {},
   "source": [
    "## Pouquíssimas amostras - depurando apenas"
   ]
  },
  {
   "cell_type": "code",
   "execution_count": 5,
   "metadata": {
    "ExecuteTime": {
     "end_time": "2017-11-02T11:26:31.862228Z",
     "start_time": "2017-11-02T11:26:31.853662Z"
    }
   },
   "outputs": [],
   "source": [
    "if True:\n",
    "    n_samples_train = 1000\n",
    "    n_samples_test  = 500\n",
    "else:\n",
    "    n_samples_train = data_train.size(0)\n",
    "    n_samples_test  = data_test.size(0)\n",
    "    \n",
    "x_train = data_train[:n_samples_train].clone()\n",
    "y_train = target_train[:n_samples_train].clone()\n",
    "x_test  = data_test[:n_samples_test].clone()\n",
    "y_test  = target_test[:n_samples_test].clone()\n",
    "del data_train, target_train, data_test, target_test"
   ]
  },
  {
   "cell_type": "code",
   "execution_count": 6,
   "metadata": {
    "ExecuteTime": {
     "end_time": "2017-11-02T11:26:33.911742Z",
     "start_time": "2017-11-02T11:26:33.901565Z"
    }
   },
   "outputs": [
    {
     "data": {
      "text/plain": [
       "torch.Size([1000, 28, 28])"
      ]
     },
     "execution_count": 6,
     "metadata": {},
     "output_type": "execute_result"
    }
   ],
   "source": [
    "x_train.shape"
   ]
  },
  {
   "cell_type": "code",
   "execution_count": 7,
   "metadata": {},
   "outputs": [
    {
     "name": "stdout",
     "output_type": "stream",
     "text": [
      "              total        used        free      shared  buff/cache   available\n",
      "Mem:            15G        3.4G        5.3G        181M        6.9G         11G\n",
      "Swap:           15G        912M         14G\n",
      "Total:          31G        4.3G         20G\n",
      "\n"
     ]
    }
   ],
   "source": [
    "print(''.join(os.popen('free -th -m').readlines()))"
   ]
  },
  {
   "cell_type": "markdown",
   "metadata": {},
   "source": [
    "## SimpleRNN com 100 neurônios"
   ]
  },
  {
   "cell_type": "code",
   "execution_count": 8,
   "metadata": {
    "ExecuteTime": {
     "end_time": "2017-11-02T11:27:37.643069Z",
     "start_time": "2017-11-02T11:27:37.598344Z"
    }
   },
   "outputs": [
    {
     "data": {
      "text/plain": [
       "Model_RNN (\n",
       "  (rnn): RNN(28, 100, batch_first=True, dropout=0.05)\n",
       "  (out): Linear (100 -> 10)\n",
       ")"
      ]
     },
     "execution_count": 8,
     "metadata": {},
     "output_type": "execute_result"
    }
   ],
   "source": [
    "class Model_RNN(nn.Module):\n",
    "    def __init__(self, hidden_size):\n",
    "        super(Model_RNN, self).__init__()\n",
    "        self.rnn = nn.RNN(28, hidden_size, 1, batch_first=True, nonlinearity='relu', dropout=0.05) # 28 atributos, 100 neurônios, 1 camada  \n",
    "        self.out = nn.Linear(hidden_size, 10)\n",
    "\n",
    "    def forward(self, xin):\n",
    "        _,x = self.rnn(xin)\n",
    "        x  = self.out(x)\n",
    "        return torch.squeeze(x,dim=0)\n",
    "    \n",
    "\n",
    "model_rnn = Model_RNN(100)\n",
    "if use_gpu:\n",
    "    model_rnn = model_rnn.cuda()\n",
    "model_rnn"
   ]
  },
  {
   "cell_type": "code",
   "execution_count": 9,
   "metadata": {},
   "outputs": [
    {
     "name": "stdout",
     "output_type": "stream",
     "text": [
      "              total        used        free      shared  buff/cache   available\n",
      "Mem:            15G        4.7G        3.9G        187M        6.9G         10G\n",
      "Swap:           15G        912M         14G\n",
      "Total:          31G        5.6G         18G\n",
      "\n"
     ]
    }
   ],
   "source": [
    "print(''.join(os.popen('free -th -m').readlines()))"
   ]
  },
  {
   "cell_type": "markdown",
   "metadata": {},
   "source": [
    "## Predict com uma amostra"
   ]
  },
  {
   "cell_type": "code",
   "execution_count": null,
   "metadata": {
    "ExecuteTime": {
     "end_time": "2017-11-02T11:27:55.697203Z",
     "start_time": "2017-11-02T11:27:55.602913Z"
    },
    "scrolled": false
   },
   "outputs": [],
   "source": [
    "xin = x_train[0:1]\n",
    "xin = torch.zeros((1,28,28))\n",
    "print('xin.shape:',xin.shape)\n",
    "xv_in = Variable(xin)\n",
    "if use_gpu:\n",
    "    xv_in = xv_in.cuda()\n",
    "ypred = model_rnn(xv_in)\n",
    "print(torch.squeeze(ypred[:,:10]))"
   ]
  },
  {
   "cell_type": "markdown",
   "metadata": {},
   "source": [
    "## Criando o treinador"
   ]
  },
  {
   "cell_type": "code",
   "execution_count": null,
   "metadata": {
    "ExecuteTime": {
     "end_time": "2017-11-02T11:28:04.101609Z",
     "start_time": "2017-11-02T11:28:04.093620Z"
    }
   },
   "outputs": [],
   "source": [
    "chkpt_cb = ptt.ModelCheckpoint('../../models/SimpleRNN_MNIST_t', reset=True, verbose=1)\n",
    "\n",
    "trainer = ptt.DeepNetTrainer(model_rnn,\n",
    "                        criterion = nn.CrossEntropyLoss(),\n",
    "                        optimizer = torch.optim.Adam(model_rnn.parameters(),lr=1e-3),\n",
    "                        callbacks = [chkpt_cb, ptt.AccuracyMetric(),ptt.PrintCallback()]\n",
    "                        )"
   ]
  },
  {
   "cell_type": "code",
   "execution_count": null,
   "metadata": {},
   "outputs": [],
   "source": [
    "print(''.join(os.popen('free -th -m').readlines()))"
   ]
  },
  {
   "cell_type": "code",
   "execution_count": null,
   "metadata": {
    "ExecuteTime": {
     "end_time": "2017-11-02T11:28:25.383487Z",
     "start_time": "2017-11-02T11:28:11.565343Z"
    }
   },
   "outputs": [],
   "source": [
    "trainer.fit(20, x_train, y_train, valid_data=(x_test, y_test),batch_size=32)"
   ]
  },
  {
   "cell_type": "code",
   "execution_count": null,
   "metadata": {},
   "outputs": [],
   "source": [
    "print(''.join(os.popen('free -th -m').readlines()))"
   ]
  },
  {
   "cell_type": "code",
   "execution_count": null,
   "metadata": {
    "ExecuteTime": {
     "end_time": "2017-11-02T11:28:27.356502Z",
     "start_time": "2017-11-02T11:28:27.080287Z"
    }
   },
   "outputs": [],
   "source": [
    "plt.plot(trainer.metrics['valid']['acc'])"
   ]
  },
  {
   "cell_type": "markdown",
   "metadata": {
    "collapsed": true
   },
   "source": [
    "## Usando LSTM"
   ]
  },
  {
   "cell_type": "code",
   "execution_count": null,
   "metadata": {},
   "outputs": [],
   "source": [
    "class Model_LSTM(nn.Module):\n",
    "    def __init__(self, hidden_size):\n",
    "        super(Model_LSTM, self).__init__()\n",
    "        self.rnn = nn.LSTM(28, hidden_size, 1, batch_first=True, dropout=0.05) # 28 atributos, 100 neurônios, 1 camada  \n",
    "        self.out = nn.Linear(hidden_size, 10)\n",
    "\n",
    "    def forward(self, xin):\n",
    "        _,(x,_) = self.rnn(xin)\n",
    "        x  = self.out(x)\n",
    "        return torch.squeeze(x,dim=0)\n",
    "    \n",
    "model_lstm = Model_LSTM(100)\n",
    "if use_gpu:\n",
    "    model_lstm = model_lstm.cuda()"
   ]
  },
  {
   "cell_type": "code",
   "execution_count": null,
   "metadata": {},
   "outputs": [],
   "source": [
    "print(''.join(os.popen('free -th -m').readlines()))"
   ]
  },
  {
   "cell_type": "markdown",
   "metadata": {},
   "source": [
    "### Predict com uma amostra"
   ]
  },
  {
   "cell_type": "code",
   "execution_count": null,
   "metadata": {},
   "outputs": [],
   "source": [
    "xin = x_train[0:1]\n",
    "xin = torch.zeros((1,28,28))\n",
    "print('xin.shape:',xin.shape)\n",
    "xv_in = Variable(xin)\n",
    "if use_gpu:\n",
    "    xv_in = xv_in.cuda()\n",
    "ypred = model_lstm(xv_in)\n",
    "print(torch.squeeze(ypred[:,:10]))"
   ]
  },
  {
   "cell_type": "markdown",
   "metadata": {},
   "source": [
    "### Criando o treinador"
   ]
  },
  {
   "cell_type": "code",
   "execution_count": null,
   "metadata": {},
   "outputs": [],
   "source": [
    "chkpt_cb = ptt.ModelCheckpoint('../../models/SimpleRNN_MNIST_lstm', reset=True, verbose=1)\n",
    "\n",
    "trainer_lstm = ptt.DeepNetTrainer(\n",
    "                model_lstm,\n",
    "                criterion = nn.CrossEntropyLoss(),\n",
    "                optimizer = torch.optim.Adam(model_lstm.parameters(),lr=1e-3),\n",
    "                callbacks = [chkpt_cb, ptt.AccuracyMetric(),ptt.PrintCallback()]\n",
    "                )"
   ]
  },
  {
   "cell_type": "code",
   "execution_count": null,
   "metadata": {},
   "outputs": [],
   "source": [
    "trainer_lstm.fit(20, x_train, y_train, valid_data=(x_test, y_test),batch_size=32)"
   ]
  },
  {
   "cell_type": "code",
   "execution_count": null,
   "metadata": {},
   "outputs": [],
   "source": [
    "print(''.join(os.popen('free -th -m').readlines()))"
   ]
  },
  {
   "cell_type": "code",
   "execution_count": null,
   "metadata": {},
   "outputs": [],
   "source": [
    "plt.plot(trainer_lstm.metrics['valid']['acc'])"
   ]
  },
  {
   "cell_type": "markdown",
   "metadata": {},
   "source": [
    "## Comparação RNN x LSTM\n",
    "\n",
    "    - Acurácia RNN: 97,5%\n",
    "    - Acurácia LSTM: 98,9%"
   ]
  },
  {
   "cell_type": "markdown",
   "metadata": {},
   "source": [
    "# Exercícios"
   ]
  },
  {
   "cell_type": "code",
   "execution_count": null,
   "metadata": {},
   "outputs": [],
   "source": [
    "1. "
   ]
  }
 ],
 "metadata": {
  "kernelspec": {
   "display_name": "Python 3",
   "language": "python",
   "name": "python3"
  },
  "language_info": {
   "codemirror_mode": {
    "name": "ipython",
    "version": 3
   },
   "file_extension": ".py",
   "mimetype": "text/x-python",
   "name": "python",
   "nbconvert_exporter": "python",
   "pygments_lexer": "ipython3",
   "version": "3.6.1"
  },
  "toc": {
   "nav_menu": {
    "height": "12px",
    "width": "252px"
   },
   "number_sections": true,
   "sideBar": true,
   "skip_h1_title": false,
   "toc_cell": false,
   "toc_position": {},
   "toc_section_display": "block",
   "toc_window_display": false
  }
 },
 "nbformat": 4,
 "nbformat_minor": 2
}
