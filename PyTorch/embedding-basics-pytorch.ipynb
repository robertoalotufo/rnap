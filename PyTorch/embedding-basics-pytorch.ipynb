{
 "cells": [
  {
   "cell_type": "markdown",
   "metadata": {},
   "source": [
    "# Embedding - Atributos Latentes - Entradas categóricas"
   ]
  },
  {
   "cell_type": "markdown",
   "metadata": {},
   "source": [
    "Este notebook apresenta o conceito de embedding e como usá-lo no PyTorch, através dos seguintes exemplos numéricos:\n",
    "- Rede com entrada categórica (one-hot) e camada densa linear\n",
    "- Embedding como forma eficiente de tratar entrada categórica"
   ]
  },
  {
   "cell_type": "markdown",
   "metadata": {},
   "source": [
    "## Importação"
   ]
  },
  {
   "cell_type": "code",
   "execution_count": 1,
   "metadata": {
    "ExecuteTime": {
     "end_time": "2017-12-12T19:30:21.446171Z",
     "start_time": "2017-12-12T19:30:21.279812Z"
    }
   },
   "outputs": [],
   "source": [
    "from collections import OrderedDict\n",
    "import numpy as np\n",
    "import torch\n",
    "from torch import nn\n",
    "from torch.autograd import Variable"
   ]
  },
  {
   "cell_type": "markdown",
   "metadata": {},
   "source": [
    "## Entrada categórica"
   ]
  },
  {
   "cell_type": "markdown",
   "metadata": {},
   "source": [
    "Uma variável categórica pode ter um valor dentro de um conjunto limitado que represente uma categoria nominal.\n",
    "Alguns exemplos de variáveis categóricas:\n",
    "- Grupo sanguíneo: A, B, AB or O.\n",
    "- Cidade onde uma pessoa reside\n",
    "- Cor de um produto: vermelho, verde, azul\n",
    "- Uma palavra, dentro de um vocabulário limitado"
   ]
  },
  {
   "cell_type": "markdown",
   "metadata": {},
   "source": [
    "# Rede neural com entrada categórica"
   ]
  },
  {
   "cell_type": "markdown",
   "metadata": {},
   "source": [
    "Quando a rede neural possui entradas categóricas, temos a necessidade de colocá-lo na forma \n",
    "categórica utilizando a codificação *one-hot*. \n",
    "Iremos fazer um exemplo de rede neural com apenas uma camada densa e entrada com \n",
    "dados categóricos com os seguintes parâmetros:\n",
    "- entrada categórica pertencente a um conjunto de 20 classes (n_classes)\n",
    "- entrada é constituída de 10 amostras categóricos (n_amostras)\n",
    "- cada amostra é um número (id) entre 0 e 19: [19, 10, 0, 1, 7, 5, 0, 1, 15, 2]\n",
    "- camada densa linear com 5 neurônios (n_neuronios)"
   ]
  },
  {
   "cell_type": "code",
   "execution_count": 2,
   "metadata": {
    "ExecuteTime": {
     "end_time": "2017-12-12T19:30:21.450455Z",
     "start_time": "2017-12-12T19:30:21.447768Z"
    }
   },
   "outputs": [],
   "source": [
    "n_classes = 20\n",
    "n_neuronios = 5\n",
    "n_amostras = 10"
   ]
  },
  {
   "cell_type": "markdown",
   "metadata": {},
   "source": [
    "## Diagrama da rede neural com entradas categóricas de uma camada e sem bias"
   ]
  },
  {
   "cell_type": "markdown",
   "metadata": {},
   "source": [
    "<img src='../figures/Embedding_neural.png', width = 400></img>"
   ]
  },
  {
   "cell_type": "markdown",
   "metadata": {},
   "source": [
    "### Criação da codificação categórica (one-hot) da sequência de entrada"
   ]
  },
  {
   "cell_type": "code",
   "execution_count": 3,
   "metadata": {
    "ExecuteTime": {
     "end_time": "2017-12-12T19:30:21.461445Z",
     "start_time": "2017-12-12T19:30:21.451888Z"
    }
   },
   "outputs": [
    {
     "data": {
      "text/plain": [
       "(array([19, 10,  0,  1,  7,  5,  0,  1, 15,  2]), (10,))"
      ]
     },
     "execution_count": 3,
     "metadata": {},
     "output_type": "execute_result"
    }
   ],
   "source": [
    "data = np.array([19, 10, 0, 1, 7, 5, 0, 1, 15, 2])\n",
    "data, data.shape"
   ]
  },
  {
   "cell_type": "markdown",
   "metadata": {},
   "source": [
    "Codificação one-hot é feita utilizando `np.eye` indexado pela entrada:"
   ]
  },
  {
   "cell_type": "code",
   "execution_count": 4,
   "metadata": {
    "ExecuteTime": {
     "end_time": "2017-12-12T19:30:21.466330Z",
     "start_time": "2017-12-12T19:30:21.462770Z"
    }
   },
   "outputs": [
    {
     "name": "stdout",
     "output_type": "stream",
     "text": [
      "[[0 0 0 0 0 0 0 0 0 0 0 0 0 0 0 0 0 0 0 1]\n",
      " [0 0 0 0 0 0 0 0 0 0 1 0 0 0 0 0 0 0 0 0]\n",
      " [1 0 0 0 0 0 0 0 0 0 0 0 0 0 0 0 0 0 0 0]\n",
      " [0 1 0 0 0 0 0 0 0 0 0 0 0 0 0 0 0 0 0 0]\n",
      " [0 0 0 0 0 0 0 1 0 0 0 0 0 0 0 0 0 0 0 0]\n",
      " [0 0 0 0 0 1 0 0 0 0 0 0 0 0 0 0 0 0 0 0]\n",
      " [1 0 0 0 0 0 0 0 0 0 0 0 0 0 0 0 0 0 0 0]\n",
      " [0 1 0 0 0 0 0 0 0 0 0 0 0 0 0 0 0 0 0 0]\n",
      " [0 0 0 0 0 0 0 0 0 0 0 0 0 0 0 1 0 0 0 0]\n",
      " [0 0 1 0 0 0 0 0 0 0 0 0 0 0 0 0 0 0 0 0]]\n"
     ]
    }
   ],
   "source": [
    "data_oh = np.eye(n_classes)[data] # to categorical\n",
    "print(data_oh.astype(np.int))"
   ]
  },
  {
   "cell_type": "markdown",
   "metadata": {},
   "source": [
    "## Criação do modelo da rede densa com 5 camadas"
   ]
  },
  {
   "cell_type": "code",
   "execution_count": 5,
   "metadata": {
    "ExecuteTime": {
     "end_time": "2017-12-12T19:30:21.471557Z",
     "start_time": "2017-12-12T19:30:21.467712Z"
    }
   },
   "outputs": [
    {
     "data": {
      "text/plain": [
       "Linear (20 -> 5)"
      ]
     },
     "execution_count": 5,
     "metadata": {},
     "output_type": "execute_result"
    }
   ],
   "source": [
    "linear = nn.Linear(n_classes,n_neuronios,bias=False)\n",
    "linear"
   ]
  },
  {
   "cell_type": "markdown",
   "metadata": {},
   "source": [
    "### Criação dos pesos da rede"
   ]
  },
  {
   "cell_type": "markdown",
   "metadata": {},
   "source": [
    "Como ilustração, iremos inicializar a rede com pesos de modo que possamos identificar quando cada conjunto de pesos\n",
    "for utilizado para cada símbolo categórico:\n",
    "- quando a categoria for $i$, os neurônios de saída devem receber os valores $[i,2i,3i,4i,5i]$.\n",
    "\n",
    "Os pesos da rede possuem 20 linhas (uma para cada classes de entrada) por 5 colunas (atributos de cada categoria):"
   ]
  },
  {
   "cell_type": "code",
   "execution_count": 6,
   "metadata": {
    "ExecuteTime": {
     "end_time": "2017-12-12T19:30:21.480301Z",
     "start_time": "2017-12-12T19:30:21.472860Z"
    }
   },
   "outputs": [
    {
     "data": {
      "text/plain": [
       "OrderedDict([('weight', \n",
       "              \n",
       "              Columns 0 to 12 \n",
       "                  0     1     2     3     4     5     6     7     8     9    10    11    12\n",
       "                  0     2     4     6     8    10    12    14    16    18    20    22    24\n",
       "                  0     3     6     9    12    15    18    21    24    27    30    33    36\n",
       "                  0     4     8    12    16    20    24    28    32    36    40    44    48\n",
       "                  0     5    10    15    20    25    30    35    40    45    50    55    60\n",
       "              \n",
       "              Columns 13 to 19 \n",
       "                 13    14    15    16    17    18    19\n",
       "                 26    28    30    32    34    36    38\n",
       "                 39    42    45    48    51    54    57\n",
       "                 52    56    60    64    68    72    76\n",
       "                 65    70    75    80    85    90    95\n",
       "              [torch.FloatTensor of size 5x20])])"
      ]
     },
     "execution_count": 6,
     "metadata": {},
     "output_type": "execute_result"
    }
   ],
   "source": [
    "W = np.arange(1,n_neuronios+1).reshape(-1,1).dot(np.arange(n_classes).reshape(1,-1))\n",
    "\n",
    "my_weights = OrderedDict([\n",
    "    ('weight',  torch.FloatTensor(W.astype(np.float)))])\n",
    "\n",
    "linear.load_state_dict(my_weights) # inicializa pesos da camada linear\n",
    "linear.state_dict()"
   ]
  },
  {
   "cell_type": "code",
   "execution_count": 7,
   "metadata": {
    "ExecuteTime": {
     "end_time": "2017-12-12T19:30:21.485891Z",
     "start_time": "2017-12-12T19:30:21.481759Z"
    }
   },
   "outputs": [
    {
     "data": {
      "text/plain": [
       "Variable containing:\n",
       "\n",
       "Columns 0 to 12 \n",
       "    0     0     0     0     0     0     0     0     0     0     0     0     0\n",
       "    0     0     0     0     0     0     0     0     0     0     1     0     0\n",
       "    1     0     0     0     0     0     0     0     0     0     0     0     0\n",
       "    0     1     0     0     0     0     0     0     0     0     0     0     0\n",
       "    0     0     0     0     0     0     0     1     0     0     0     0     0\n",
       "    0     0     0     0     0     1     0     0     0     0     0     0     0\n",
       "    1     0     0     0     0     0     0     0     0     0     0     0     0\n",
       "    0     1     0     0     0     0     0     0     0     0     0     0     0\n",
       "    0     0     0     0     0     0     0     0     0     0     0     0     0\n",
       "    0     0     1     0     0     0     0     0     0     0     0     0     0\n",
       "\n",
       "Columns 13 to 19 \n",
       "    0     0     0     0     0     0     1\n",
       "    0     0     0     0     0     0     0\n",
       "    0     0     0     0     0     0     0\n",
       "    0     0     0     0     0     0     0\n",
       "    0     0     0     0     0     0     0\n",
       "    0     0     0     0     0     0     0\n",
       "    0     0     0     0     0     0     0\n",
       "    0     0     0     0     0     0     0\n",
       "    0     0     1     0     0     0     0\n",
       "    0     0     0     0     0     0     0\n",
       "[torch.FloatTensor of size 10x20]"
      ]
     },
     "execution_count": 7,
     "metadata": {},
     "output_type": "execute_result"
    }
   ],
   "source": [
    "data_var = Variable(torch.Tensor(data_oh))\n",
    "data_var"
   ]
  },
  {
   "cell_type": "markdown",
   "metadata": {},
   "source": [
    "## Predição com as 10 amostras: [19, 10, 0, 1, 7, 5, 0, 1, 15, 2]"
   ]
  },
  {
   "cell_type": "markdown",
   "metadata": {},
   "source": [
    "<img src = '../figures/Embedding_categorical_predict.png', width=800></img>"
   ]
  },
  {
   "cell_type": "markdown",
   "metadata": {},
   "source": [
    "Observe que a predição da rede com a sequência categórica acima é feita com a substituição\n",
    "da categoria com os 5 atributos de cada classe."
   ]
  },
  {
   "cell_type": "code",
   "execution_count": 8,
   "metadata": {
    "ExecuteTime": {
     "end_time": "2017-12-12T19:30:21.491947Z",
     "start_time": "2017-12-12T19:30:21.487323Z"
    }
   },
   "outputs": [
    {
     "data": {
      "text/plain": [
       "Variable containing:\n",
       "   19    38    57    76    95\n",
       "   10    20    30    40    50\n",
       "    0     0     0     0     0\n",
       "    1     2     3     4     5\n",
       "    7    14    21    28    35\n",
       "    5    10    15    20    25\n",
       "    0     0     0     0     0\n",
       "    1     2     3     4     5\n",
       "   15    30    45    60    75\n",
       "    2     4     6     8    10\n",
       "[torch.FloatTensor of size 10x5]"
      ]
     },
     "execution_count": 8,
     "metadata": {},
     "output_type": "execute_result"
    }
   ],
   "source": [
    "pp = linear(data_var)\n",
    "pp"
   ]
  },
  {
   "cell_type": "markdown",
   "metadata": {},
   "source": [
    "# Embedding como implementação eficiente de entradas categóricas"
   ]
  },
  {
   "cell_type": "markdown",
   "metadata": {},
   "source": [
    "Nesta implementação de rede neural com entrada categórica, existem dois fatores que dificultam a sua\n",
    "implementação eficiente:\n",
    "- necessidade de se fazer a codificação para categórico antes de colocá-lo na rede\n",
    "- se o número de classes for muito alto, a implementação pode se tornar muito ineficiente. É comum\n",
    "  termos centenas de milhares de classes, como é o caso de palavras dentro de um vocabulário.\n",
    "  \n",
    "A camada `Embedding` resolve estes dois problemas de forma eficiente:\n",
    "- faz a codificação categórica automaticamente e já retorna a aplicação dos pesos nos valores categóricos\n",
    "\n",
    "Assim, a camada `Embedding` é sempre uma camada de entrada e nela é preciso especificar o número de\n",
    "classes e o número de atributos de cada classe:\n",
    "\n",
    "O diagrama a seguir mostra a aplicação do Embedding."
   ]
  },
  {
   "cell_type": "markdown",
   "metadata": {},
   "source": [
    "<img src = '../figures/Embedding_1.png',width=700pt></img>"
   ]
  },
  {
   "cell_type": "markdown",
   "metadata": {},
   "source": [
    "## Criação da mesma rede, porém agora mais eficiente, com o uso do Embedding"
   ]
  },
  {
   "cell_type": "code",
   "execution_count": 9,
   "metadata": {
    "ExecuteTime": {
     "end_time": "2017-12-12T19:30:21.497105Z",
     "start_time": "2017-12-12T19:30:21.493460Z"
    }
   },
   "outputs": [
    {
     "data": {
      "text/plain": [
       "Embedding(20, 5)"
      ]
     },
     "execution_count": 9,
     "metadata": {},
     "output_type": "execute_result"
    }
   ],
   "source": [
    "emb = nn.Embedding(n_classes, n_neuronios)\n",
    "emb"
   ]
  },
  {
   "cell_type": "code",
   "execution_count": 10,
   "metadata": {
    "ExecuteTime": {
     "end_time": "2017-12-12T19:30:21.504120Z",
     "start_time": "2017-12-12T19:30:21.498824Z"
    }
   },
   "outputs": [
    {
     "data": {
      "text/plain": [
       "OrderedDict([('weight', \n",
       "                  0     0     0     0     0\n",
       "                  1     2     3     4     5\n",
       "                  2     4     6     8    10\n",
       "                  3     6     9    12    15\n",
       "                  4     8    12    16    20\n",
       "                  5    10    15    20    25\n",
       "                  6    12    18    24    30\n",
       "                  7    14    21    28    35\n",
       "                  8    16    24    32    40\n",
       "                  9    18    27    36    45\n",
       "                 10    20    30    40    50\n",
       "                 11    22    33    44    55\n",
       "                 12    24    36    48    60\n",
       "                 13    26    39    52    65\n",
       "                 14    28    42    56    70\n",
       "                 15    30    45    60    75\n",
       "                 16    32    48    64    80\n",
       "                 17    34    51    68    85\n",
       "                 18    36    54    72    90\n",
       "                 19    38    57    76    95\n",
       "              [torch.FloatTensor of size 20x5])])"
      ]
     },
     "execution_count": 10,
     "metadata": {},
     "output_type": "execute_result"
    }
   ],
   "source": [
    "my_weights = OrderedDict([\n",
    "    ('weight',  torch.FloatTensor(W.T.astype(np.float)))])\n",
    "emb.load_state_dict(my_weights) # inicializa pesos da camada linear\n",
    "emb.state_dict()"
   ]
  },
  {
   "cell_type": "markdown",
   "metadata": {},
   "source": [
    "## Predição com mesma sequência: [19, 10, 0, 1, 7, 5, 0, 1, 15, 2]"
   ]
  },
  {
   "cell_type": "markdown",
   "metadata": {},
   "source": [
    "Confirmamos aqui que a camada Embedding é equivalente à rede densa da entrada categórica feita anteriormente."
   ]
  },
  {
   "cell_type": "code",
   "execution_count": 11,
   "metadata": {
    "ExecuteTime": {
     "end_time": "2017-12-12T19:30:21.511365Z",
     "start_time": "2017-12-12T19:30:21.505630Z"
    }
   },
   "outputs": [
    {
     "data": {
      "text/plain": [
       "Variable containing:\n",
       "   19    38    57    76    95\n",
       "   10    20    30    40    50\n",
       "    0     0     0     0     0\n",
       "    1     2     3     4     5\n",
       "    7    14    21    28    35\n",
       "    5    10    15    20    25\n",
       "    0     0     0     0     0\n",
       "    1     2     3     4     5\n",
       "   15    30    45    60    75\n",
       "    2     4     6     8    10\n",
       "[torch.FloatTensor of size 10x5]"
      ]
     },
     "execution_count": 11,
     "metadata": {},
     "output_type": "execute_result"
    }
   ],
   "source": [
    "data_emb_var = Variable(torch.LongTensor(data.astype(np.int)))\n",
    "p = emb(data_emb_var)  # predição da rede\n",
    "p"
   ]
  },
  {
   "cell_type": "markdown",
   "metadata": {},
   "source": [
    "## Embedding como atributos latentes de um objeto categórico"
   ]
  },
  {
   "cell_type": "markdown",
   "metadata": {},
   "source": [
    "Podemos interpretar o embedding como uma codificação de atributos latentes de um objeto\n",
    "categórico. Por exemplo, se estamos codificando filmes, as 5 categorias visto no exemplo\n",
    "acima poderiam representar a quantidade de suspense, romantismo, aventura, infantil e terror\n",
    "que um filme possui. Se fosse processar palavras, os atributos poderiam representar o seu\n",
    "significado (*word embedding*).\n",
    "\n",
    "O embedding pode ser fixo (não deve ser treinado), quando sabemos exatamente os atributos\n",
    "das classes ou treináveis, quando queremos que a rede utilize estes atributos como parâmetros\n",
    "a serem minimizados."
   ]
  },
  {
   "cell_type": "markdown",
   "metadata": {},
   "source": [
    "# Aprendizados com este notebook"
   ]
  }
 ],
 "metadata": {
  "kernelspec": {
   "display_name": "Python 3",
   "language": "python",
   "name": "python3"
  },
  "language_info": {
   "codemirror_mode": {
    "name": "ipython",
    "version": 3
   },
   "file_extension": ".py",
   "mimetype": "text/x-python",
   "name": "python",
   "nbconvert_exporter": "python",
   "pygments_lexer": "ipython3",
   "version": "3.6.2"
  },
  "latex_envs": {
   "LaTeX_envs_menu_present": true,
   "autocomplete": true,
   "bibliofile": "biblio.bib",
   "cite_by": "apalike",
   "current_citInitial": 1,
   "eqLabelWithNumbers": true,
   "eqNumInitial": 1,
   "hotkeys": {
    "equation": "Ctrl-E",
    "itemize": "Ctrl-I"
   },
   "labels_anchors": false,
   "latex_user_defs": false,
   "report_style_numbering": false,
   "user_envs_cfg": false
  },
  "toc": {
   "nav_menu": {
    "height": "12px",
    "width": "252px"
   },
   "number_sections": true,
   "sideBar": true,
   "skip_h1_title": false,
   "toc_cell": false,
   "toc_position": {},
   "toc_section_display": "block",
   "toc_window_display": false
  },
  "varInspector": {
   "cols": {
    "lenName": 16,
    "lenType": 16,
    "lenVar": 40
   },
   "kernels_config": {
    "python": {
     "delete_cmd_postfix": "",
     "delete_cmd_prefix": "del ",
     "library": "var_list.py",
     "varRefreshCmd": "print(var_dic_list())"
    },
    "r": {
     "delete_cmd_postfix": ") ",
     "delete_cmd_prefix": "rm(",
     "library": "var_list.r",
     "varRefreshCmd": "cat(var_dic_list()) "
    }
   },
   "types_to_exclude": [
    "module",
    "function",
    "builtin_function_or_method",
    "instance",
    "_Feature"
   ],
   "window_display": false
  }
 },
 "nbformat": 4,
 "nbformat_minor": 2
}
