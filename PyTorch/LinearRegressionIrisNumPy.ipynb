{
 "cells": [
  {
   "cell_type": "markdown",
   "metadata": {},
   "source": [
    "# Regressão Linear com NumPy"
   ]
  },
  {
   "cell_type": "markdown",
   "metadata": {},
   "source": [
    "Este exemplo utiliza regressão linear para estimar o comprimento das sépalas da íris a partir do seu comprimento das pétalas.\n",
    "Utiliza-se programação totalmente NumPy com:\n",
    "- o **cálculo do gradiente**, \n",
    "- a **função de perda** e\n",
    "- a atualização dos parâmetros são feitos de forma explícita.\n",
    "- A rede é criada com uma camada como uma classe"
   ]
  },
  {
   "cell_type": "markdown",
   "metadata": {},
   "source": [
    "<img src='../figures/RegressaoLinear_Otimizacao.png',width=500></a>"
   ]
  },
  {
   "cell_type": "markdown",
   "metadata": {},
   "source": [
    "## Importação dos pacotes"
   ]
  },
  {
   "cell_type": "code",
   "execution_count": 1,
   "metadata": {
    "ExecuteTime": {
     "end_time": "2017-10-08T11:19:38.728936Z",
     "start_time": "2017-10-08T11:19:36.888541Z"
    },
    "collapsed": true
   },
   "outputs": [],
   "source": [
    "%matplotlib inline\n",
    "import matplotlib.pyplot as plt\n",
    "import numpy as np\n",
    "import matplotlib.pyplot as plt\n",
    "from sklearn.datasets import load_iris\n",
    "\n",
    "np.random.seed(1234)"
   ]
  },
  {
   "cell_type": "markdown",
   "metadata": {},
   "source": [
    "## Leitura dos dados"
   ]
  },
  {
   "cell_type": "code",
   "execution_count": 2,
   "metadata": {
    "ExecuteTime": {
     "end_time": "2017-10-08T11:19:38.747769Z",
     "start_time": "2017-10-08T11:19:38.730907Z"
    }
   },
   "outputs": [
    {
     "name": "stdout",
     "output_type": "stream",
     "text": [
      "x_train.shape: (50, 1) float64\n",
      "y_train.shape: (50, 1) float64\n",
      "x_train[:5]:\n",
      " [[ 7. ]\n",
      " [ 6.4]\n",
      " [ 6.9]\n",
      " [ 5.5]\n",
      " [ 6.5]]\n",
      "y_train[:5]:\n",
      " [[ 4.7]\n",
      " [ 4.5]\n",
      " [ 4.9]\n",
      " [ 4. ]\n",
      " [ 4.6]]\n"
     ]
    }
   ],
   "source": [
    "iris = load_iris()\n",
    "data = iris.data[iris.target==1,::2]  # comprimento das sépalas e pétalas, indices 0 e 2\n",
    "\n",
    "x_train = data[:,0:1]\n",
    "y_train = data[:,1:2]\n",
    "\n",
    "n_samples = x_train.shape[0]\n",
    "print('x_train.shape:',x_train.shape, x_train.dtype)\n",
    "print('y_train.shape:',y_train.shape, y_train.dtype)\n",
    "\n",
    "print('x_train[:5]:\\n', x_train[:5])\n",
    "print('y_train[:5]:\\n', y_train[:5])"
   ]
  },
  {
   "cell_type": "markdown",
   "metadata": {},
   "source": [
    "## Normalização dos dados"
   ]
  },
  {
   "cell_type": "code",
   "execution_count": 3,
   "metadata": {
    "ExecuteTime": {
     "end_time": "2017-10-08T11:19:38.756343Z",
     "start_time": "2017-10-08T11:19:38.750395Z"
    },
    "collapsed": true
   },
   "outputs": [],
   "source": [
    "x_train -= x_train.min()\n",
    "x_train /= x_train.max()\n",
    "y_train -= y_train.min()\n",
    "y_train /= y_train.max()"
   ]
  },
  {
   "cell_type": "code",
   "execution_count": 4,
   "metadata": {
    "ExecuteTime": {
     "end_time": "2017-10-08T11:19:39.127199Z",
     "start_time": "2017-10-08T11:19:38.759104Z"
    }
   },
   "outputs": [
    {
     "data": {
      "text/plain": [
       "<matplotlib.text.Text at 0x116e9b358>"
      ]
     },
     "execution_count": 4,
     "metadata": {},
     "output_type": "execute_result"
    },
    {
     "data": {
      "image/png": "[encoded data removed]",
      "text/plain": [
       "<matplotlib.figure.Figure at 0x10b1b9358>"
      ]
     },
     "metadata": {},
     "output_type": "display_data"
    }
   ],
   "source": [
    "plt.scatter(x_train,y_train)\n",
    "plt.xlabel('Comprimento sepalas')\n",
    "plt.ylabel('Comprimento petalas')"
   ]
  },
  {
   "cell_type": "markdown",
   "metadata": {},
   "source": [
    "## Reta de ajuste"
   ]
  },
  {
   "cell_type": "markdown",
   "metadata": {},
   "source": [
    "A equação da reta no plano necessita de dois parâmetros, aqui denominados $w_0$ (*bias*) e inclinação $w_1$. Veja figura:\n",
    "\n",
    "\n",
    "<img src=\"../figures/linhareta.png\", width=300pt>\n",
    "\n",
    "A reta de ajuste será dada por:\n",
    "\n",
    "$$ \\hat{y} = w_0 + w_1 x $$\n",
    "\n",
    "onde \n",
    "* $w_1$ é o coeficiente angular da reta e \n",
    "* $w_0$ é a interseção do eixo vertical quando x é igual a zero, também denominado de *bias*.\n",
    "* $x$ é a variável de entrada (comprimento das sépalas) e \n",
    "* $\\hat{y}$ é a predição (comprimento estimado das pétalas)."
   ]
  },
  {
   "cell_type": "markdown",
   "metadata": {},
   "source": [
    "# Linear Regression Model"
   ]
  },
  {
   "cell_type": "markdown",
   "metadata": {},
   "source": [
    "<img src='../figures/RegressaoLinearNeuronio.png', width=400></a>"
   ]
  },
  {
   "cell_type": "markdown",
   "metadata": {},
   "source": [
    "## Preenchendo x com coluna de 1's para bias"
   ]
  },
  {
   "cell_type": "code",
   "execution_count": 5,
   "metadata": {
    "ExecuteTime": {
     "end_time": "2017-10-08T11:19:39.135089Z",
     "start_time": "2017-10-08T11:19:39.129385Z"
    },
    "collapsed": true
   },
   "outputs": [],
   "source": [
    "x_train_bias = np.hstack([np.ones(shape=(n_samples,1)), x_train])"
   ]
  },
  {
   "cell_type": "markdown",
   "metadata": {
    "ExecuteTime": {
     "end_time": "2017-10-05T14:09:42.525096",
     "start_time": "2017-10-05T14:09:42.520972"
    }
   },
   "source": [
    "$$ \\mathbf{\\hat{y}} = \\mathbf{x} \\mathbf{w^T} $$"
   ]
  },
  {
   "cell_type": "code",
   "execution_count": 6,
   "metadata": {
    "ExecuteTime": {
     "end_time": "2017-10-08T11:19:39.143879Z",
     "start_time": "2017-10-08T11:19:39.137134Z"
    },
    "collapsed": true
   },
   "outputs": [],
   "source": [
    "class Net():\n",
    "    def __init__(self, n_in, n_out):\n",
    "        self.weight = np.random.uniform(-0.1,0.1,(n_out,n_in)) #inicialização dos parâmetros\n",
    "    \n",
    "    def __call__(self, x_bias):\n",
    "        return x_bias.dot(self.weight.T)"
   ]
  },
  {
   "cell_type": "markdown",
   "metadata": {},
   "source": [
    "## Criando a rede, instanciando o objeto net"
   ]
  },
  {
   "cell_type": "code",
   "execution_count": 7,
   "metadata": {
    "ExecuteTime": {
     "end_time": "2017-10-08T11:19:39.151717Z",
     "start_time": "2017-10-08T11:19:39.146858Z"
    },
    "collapsed": true
   },
   "outputs": [],
   "source": [
    "model = Net(2,1)"
   ]
  },
  {
   "cell_type": "markdown",
   "metadata": {},
   "source": [
    "## Testando o predict da rede"
   ]
  },
  {
   "cell_type": "code",
   "execution_count": 8,
   "metadata": {
    "ExecuteTime": {
     "end_time": "2017-10-08T11:19:39.162189Z",
     "start_time": "2017-10-08T11:19:39.156018Z"
    }
   },
   "outputs": [
    {
     "data": {
      "text/plain": [
       "array([[-0.03727436],\n",
       "       [-0.03727436],\n",
       "       [-0.03727436],\n",
       "       [-0.03727436]])"
      ]
     },
     "execution_count": 8,
     "metadata": {},
     "output_type": "execute_result"
    }
   ],
   "source": [
    "model(np.ones((4,2)))"
   ]
  },
  {
   "cell_type": "markdown",
   "metadata": {},
   "source": [
    "## Treinamento"
   ]
  },
  {
   "cell_type": "markdown",
   "metadata": {},
   "source": [
    "Função de perda:\n",
    "$$ J(\\hat{y_i},y_i) = \\frac{1}{M} \\sum_{i=0}^{M-1} (\\hat{y_i} - y_i)^2 $$"
   ]
  },
  {
   "cell_type": "markdown",
   "metadata": {
    "ExecuteTime": {
     "end_time": "2017-10-05T14:05:06.244776",
     "start_time": "2017-10-05T14:05:06.240743"
    }
   },
   "source": [
    "Gradiente:\n",
    "    $$  \\mathbf{\\nabla{J_w}} = \\frac{2}{M}\\mathbf{x^T}(\\mathbf{x w^T} - \\mathbf{y}) $$"
   ]
  },
  {
   "cell_type": "markdown",
   "metadata": {
    "ExecuteTime": {
     "end_time": "2017-10-05T14:06:17.929718",
     "start_time": "2017-10-05T14:06:17.925519"
    }
   },
   "source": [
    "Atualização dos parâmetros pelo gradiente descendente:\n",
    "    $$ \\mathbf{w} = \\mathbf{w} − \\eta (\\mathbf{\\nabla J_w})^T $$"
   ]
  },
  {
   "cell_type": "code",
   "execution_count": 9,
   "metadata": {
    "ExecuteTime": {
     "end_time": "2017-10-08T11:19:39.183784Z",
     "start_time": "2017-10-08T11:19:39.165347Z"
    },
    "scrolled": false
   },
   "outputs": [
    {
     "name": "stdout",
     "output_type": "stream",
     "text": [
      "Epoch[20/100], loss: 0.022622\n",
      "Epoch[40/100], loss: 0.021380\n",
      "Epoch[60/100], loss: 0.021200\n",
      "Epoch[80/100], loss: 0.021174\n",
      "Epoch[100/100], loss: 0.021170\n"
     ]
    }
   ],
   "source": [
    "num_epochs = 100\n",
    "learning_rate = 0.5\n",
    "for epoch in range(num_epochs):\n",
    "    inputs = x_train_bias\n",
    "    target = y_train\n",
    "\n",
    "    # forward - predict\n",
    "    out = model(inputs)\n",
    "\n",
    "    #loss cálculo da função de perda\n",
    "    loss = np.square(out - target).mean()\n",
    "    \n",
    "    # cálculo do gradiente pelas derivadas parciais\n",
    "    weight_grad = (2.0/n_samples) * (x_train_bias.T).dot(x_train_bias.dot(model.weight.T) - y_train)\n",
    "    \n",
    "    # gradiente descendente\n",
    "    model.weight = model.weight - learning_rate * weight_grad.T\n",
    "    \n",
    "    # verbose\n",
    "    if (epoch+1) % 20 == 0:\n",
    "        print('Epoch[{}/{}], loss: {:.6f}'\n",
    "              .format(epoch+1, num_epochs, loss))"
   ]
  },
  {
   "cell_type": "markdown",
   "metadata": {},
   "source": [
    "## Predict"
   ]
  },
  {
   "cell_type": "code",
   "execution_count": 10,
   "metadata": {
    "ExecuteTime": {
     "end_time": "2017-10-08T11:19:39.408412Z",
     "start_time": "2017-10-08T11:19:39.186021Z"
    }
   },
   "outputs": [
    {
     "data": {
      "text/plain": [
       "[<matplotlib.lines.Line2D at 0x116fe34e0>]"
      ]
     },
     "execution_count": 10,
     "metadata": {},
     "output_type": "execute_result"
    },
    {
     "data": {
      "image/png": "[encoded data removed]",
      "text/plain": [
       "<matplotlib.figure.Figure at 0x116fe3438>"
      ]
     },
     "metadata": {},
     "output_type": "display_data"
    }
   ],
   "source": [
    "y_pred = model(x_train_bias)\n",
    "plt.plot(x_train, y_train, 'ro', label='Original data')\n",
    "plt.plot(x_train, y_pred, 'kx-', label='Fitting Line')"
   ]
  },
  {
   "cell_type": "markdown",
   "metadata": {},
   "source": [
    "## Parâmetro aprendido"
   ]
  },
  {
   "cell_type": "code",
   "execution_count": 11,
   "metadata": {
    "ExecuteTime": {
     "end_time": "2017-10-08T11:19:39.417569Z",
     "start_time": "2017-10-08T11:19:39.411060Z"
    }
   },
   "outputs": [
    {
     "name": "stdout",
     "output_type": "stream",
     "text": [
      "[[ 0.26295353  0.68335641]]\n"
     ]
    }
   ],
   "source": [
    "print(model.weight)"
   ]
  },
  {
   "cell_type": "markdown",
   "metadata": {},
   "source": [
    "## Valor ótimo, solução analítica"
   ]
  },
  {
   "cell_type": "markdown",
   "metadata": {},
   "source": [
    "$$  \\mathbf{w} =(\\mathbf{x^T} \\mathbf{x})^{−1}\\mathbf{x^T} \\mathbf{y} $$"
   ]
  },
  {
   "cell_type": "code",
   "execution_count": 12,
   "metadata": {
    "ExecuteTime": {
     "end_time": "2017-10-08T11:19:39.432480Z",
     "start_time": "2017-10-08T11:19:39.420006Z"
    }
   },
   "outputs": [
    {
     "name": "stdout",
     "output_type": "stream",
     "text": [
      "[[ 0.26134159  0.68646976]]\n"
     ]
    }
   ],
   "source": [
    "x_bias = x_train_bias\n",
    "y = y_train\n",
    "w_opt = (np.linalg.inv((x_bias.T).dot(x_bias)).dot(x_bias.T)).dot(y)\n",
    "print(w_opt.T)"
   ]
  },
  {
   "cell_type": "markdown",
   "metadata": {},
   "source": [
    "# Exercícios"
   ]
  },
  {
   "cell_type": "markdown",
   "metadata": {},
   "source": [
    "1. Guarde o valor da perda em cada época durante o laço de aprendizagem e plote no final, o valor da perda em função da época."
   ]
  },
  {
   "cell_type": "markdown",
   "metadata": {
    "collapsed": true
   },
   "source": [
    "# Aprendizados"
   ]
  },
  {
   "cell_type": "code",
   "execution_count": null,
   "metadata": {
    "collapsed": true
   },
   "outputs": [],
   "source": []
  }
 ],
 "metadata": {
  "kernelspec": {
   "display_name": "Python 3",
   "language": "python",
   "name": "python3"
  },
  "language_info": {
   "codemirror_mode": {
    "name": "ipython",
    "version": 3
   },
   "file_extension": ".py",
   "mimetype": "text/x-python",
   "name": "python",
   "nbconvert_exporter": "python",
   "pygments_lexer": "ipython3",
   "version": "3.6.0"
  },
  "toc": {
   "nav_menu": {},
   "number_sections": true,
   "sideBar": true,
   "skip_h1_title": false,
   "toc_cell": false,
   "toc_position": {},
   "toc_section_display": "block",
   "toc_window_display": false
  },
  "varInspector": {
   "cols": {
    "lenName": 16,
    "lenType": 16,
    "lenVar": 40
   },
   "kernels_config": {
    "python": {
     "delete_cmd_postfix": "",
     "delete_cmd_prefix": "del ",
     "library": "var_list.py",
     "varRefreshCmd": "print(var_dic_list())"
    },
    "r": {
     "delete_cmd_postfix": ") ",
     "delete_cmd_prefix": "rm(",
     "library": "var_list.r",
     "varRefreshCmd": "cat(var_dic_list()) "
    }
   },
   "types_to_exclude": [
    "module",
    "function",
    "builtin_function_or_method",
    "instance",
    "_Feature"
   ],
   "window_display": false
  }
 },
 "nbformat": 4,
 "nbformat_minor": 2
}
