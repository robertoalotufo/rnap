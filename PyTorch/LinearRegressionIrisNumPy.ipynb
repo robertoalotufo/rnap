{
 "cells": [
  {
   "cell_type": "markdown",
   "metadata": {},
   "source": [
    "# Regressão Linear com NumPy"
   ]
  },
  {
   "cell_type": "markdown",
   "metadata": {},
   "source": [
    "## Objetivos deste experimento"
   ]
  },
  {
   "cell_type": "markdown",
   "metadata": {},
   "source": [
    "Este exemplo utiliza regressão linear para estimar o comprimento das sépalas da íris a partir do seu comprimento das pétalas.\n",
    "Utiliza-se programação totalmente NumPy com:\n",
    "- o **cálculo do gradiente**, \n",
    "- a **função de perda** e\n",
    "- a atualização dos parâmetros são feitos de forma explícita.\n",
    "- A rede é criada com uma camada como uma classe"
   ]
  },
  {
   "cell_type": "markdown",
   "metadata": {},
   "source": [
    "<img src='../figures/RegressaoLinear_Otimizacao.png' width='500'></a>"
   ]
  },
  {
   "cell_type": "markdown",
   "metadata": {},
   "source": [
    "## Importação dos pacotes"
   ]
  },
  {
   "cell_type": "code",
   "execution_count": 1,
   "metadata": {
    "ExecuteTime": {
     "end_time": "2018-08-20T20:47:56.422818Z",
     "start_time": "2018-08-20T20:47:54.595332Z"
    }
   },
   "outputs": [],
   "source": [
    "%matplotlib inline\n",
    "import matplotlib.pyplot as plt   # para plotting\n",
    "\n",
    "from sklearn.datasets import load_iris  # para carregar dataset\n",
    "\n",
    "import numpy as np  # processamento matricial\n",
    "\n",
    "np.random.seed(1234)"
   ]
  },
  {
   "cell_type": "markdown",
   "metadata": {},
   "source": [
    "## Dataset"
   ]
  },
  {
   "cell_type": "markdown",
   "metadata": {},
   "source": [
    "### Leitura dos dados"
   ]
  },
  {
   "cell_type": "code",
   "execution_count": 2,
   "metadata": {
    "ExecuteTime": {
     "end_time": "2018-08-20T20:47:59.164919Z",
     "start_time": "2018-08-20T20:47:59.149482Z"
    }
   },
   "outputs": [
    {
     "name": "stdout",
     "output_type": "stream",
     "text": [
      "x_train.shape: (50, 1) float64\n",
      "y_train.shape: (50, 1) float64\n",
      "x_train[:5]:\n",
      " [[7. ]\n",
      " [6.4]\n",
      " [6.9]\n",
      " [5.5]\n",
      " [6.5]]\n",
      "y_train[:5]:\n",
      " [[4.7]\n",
      " [4.5]\n",
      " [4.9]\n",
      " [4. ]\n",
      " [4.6]]\n"
     ]
    }
   ],
   "source": [
    "iris = load_iris()\n",
    "data = iris.data[iris.target==1,::2]  # comprimento das sépalas e pétalas, indices 0 e 2\n",
    "\n",
    "x_train = data[:,0:1]\n",
    "y_train = data[:,1:2]\n",
    "\n",
    "n_samples = x_train.shape[0]\n",
    "print('x_train.shape:',x_train.shape, x_train.dtype)\n",
    "print('y_train.shape:',y_train.shape, y_train.dtype)\n",
    "\n",
    "print('x_train[:5]:\\n', x_train[:5])\n",
    "print('y_train[:5]:\\n', y_train[:5])"
   ]
  },
  {
   "cell_type": "markdown",
   "metadata": {},
   "source": [
    "### Normalização dos dados"
   ]
  },
  {
   "cell_type": "code",
   "execution_count": 3,
   "metadata": {
    "ExecuteTime": {
     "end_time": "2018-08-20T20:48:01.121043Z",
     "start_time": "2018-08-20T20:48:01.111581Z"
    }
   },
   "outputs": [],
   "source": [
    "x_train -= x_train.min()\n",
    "x_train /= x_train.max()\n",
    "y_train -= y_train.min()\n",
    "y_train /= y_train.max()"
   ]
  },
  {
   "cell_type": "code",
   "execution_count": 4,
   "metadata": {
    "ExecuteTime": {
     "end_time": "2018-08-20T20:48:02.517202Z",
     "start_time": "2018-08-20T20:48:02.023436Z"
    }
   },
   "outputs": [
    {
     "data": {
      "text/plain": [
       "Text(0,0.5,'Comprimento petalas')"
      ]
     },
     "execution_count": 4,
     "metadata": {},
     "output_type": "execute_result"
    },
    {
     "data": {
      "image/png": "[encoded data removed]",
      "text/plain": [
       "<Figure size 432x288 with 1 Axes>"
      ]
     },
     "metadata": {},
     "output_type": "display_data"
    }
   ],
   "source": [
    "plt.scatter(x_train,y_train)\n",
    "plt.xlabel('Comprimento sepalas')\n",
    "plt.ylabel('Comprimento petalas')"
   ]
  },
  {
   "cell_type": "markdown",
   "metadata": {},
   "source": [
    "## Modelo da rede"
   ]
  },
  {
   "cell_type": "markdown",
   "metadata": {},
   "source": [
    "### Reta de ajuste"
   ]
  },
  {
   "cell_type": "markdown",
   "metadata": {},
   "source": [
    "A equação da reta no plano necessita de dois parâmetros, aqui denominados $w_0$ (*bias*) e inclinação $w_1$. Veja figura:\n",
    "\n",
    "\n",
    "<img src=\"../figures/linhareta.png\" width=\"300pt\">\n",
    "\n",
    "A reta de ajuste será dada por:\n",
    "\n",
    "$$ \\hat{y} = w_0 + w_1 x $$\n",
    "\n",
    "onde \n",
    "* $w_1$ é o coeficiente angular da reta e \n",
    "* $w_0$ é a interseção do eixo vertical quando x é igual a zero, também denominado de *bias*.\n",
    "* $x$ é a variável de entrada (comprimento das sépalas) e \n",
    "* $\\hat{y}$ é a predição (comprimento estimado das pétalas)."
   ]
  },
  {
   "cell_type": "markdown",
   "metadata": {},
   "source": [
    "### Linear Regression Model"
   ]
  },
  {
   "cell_type": "markdown",
   "metadata": {},
   "source": [
    "<img src='../figures/RegressaoLinearNeuronio.png' width='400'></a>"
   ]
  },
  {
   "cell_type": "markdown",
   "metadata": {},
   "source": [
    "### Formulação matricial do neurônio"
   ]
  },
  {
   "cell_type": "markdown",
   "metadata": {},
   "source": [
    "* $\\mathbf{w} = [w_0 \\ w_1]$ é vetor linha de parâmetros e \n",
    "* $\\mathbf{x} = [1 \\ x_0] $ é vetor linha de uma amostra (com *bias*).\n",
    "\n",
    "$$ \\hat{y} = 1 w_0 + x_0 w_1 $$\n",
    "\n",
    "$$ [\\hat{y}] = [1 \\ x_0] \\begin{bmatrix} w_0 \\\\ w_1 \\end{bmatrix} $$\n",
    "\n",
    "$$ \\mathbf{\\hat{y}} = \\mathbf{x} \\mathbf{w^T} $$"
   ]
  },
  {
   "cell_type": "markdown",
   "metadata": {},
   "source": [
    "### Fazendo o predict de várias amostras"
   ]
  },
  {
   "cell_type": "markdown",
   "metadata": {},
   "source": [
    "$$ \\begin{matrix} \n",
    "\\begin{bmatrix}\n",
    "\\hat{y}_0\\\\ \n",
    "\\hat{y}_1\\\\\n",
    "\\\\\n",
    "\\hat{y}_{M-1} \n",
    "\\end{bmatrix} &=& \\begin{bmatrix}\n",
    "1 & x_0 \\\\ \n",
    "1 & x_1\\\\\n",
    "\\\\ \n",
    "1 & x_{M-1} \\\\ \n",
    "\\end{bmatrix}\n",
    "&\n",
    "\\begin{bmatrix}\n",
    "w_0\\\\ \n",
    "w_1\n",
    "\\end{bmatrix} \\\\\n",
    "(M,1) & & (M,2) & (2,1) \\\\\n",
    "\\end{matrix} $$"
   ]
  },
  {
   "cell_type": "markdown",
   "metadata": {},
   "source": [
    "### Preenchendo x com coluna de 1's para bias"
   ]
  },
  {
   "cell_type": "code",
   "execution_count": 5,
   "metadata": {
    "ExecuteTime": {
     "end_time": "2018-08-20T20:48:35.127451Z",
     "start_time": "2018-08-20T20:48:35.123247Z"
    }
   },
   "outputs": [],
   "source": [
    "x_train_bias = np.hstack([np.ones(shape=(n_samples,1)), x_train])"
   ]
  },
  {
   "cell_type": "markdown",
   "metadata": {},
   "source": [
    "### Classe com o modelo da rede"
   ]
  },
  {
   "cell_type": "code",
   "execution_count": 6,
   "metadata": {
    "ExecuteTime": {
     "end_time": "2018-08-20T20:48:36.613955Z",
     "start_time": "2018-08-20T20:48:36.608793Z"
    }
   },
   "outputs": [],
   "source": [
    "class Net():\n",
    "    def __init__(self, n_in, n_out):\n",
    "        self.w = np.random.uniform(-0.1,0.1,(n_out,n_in)) #inicialização dos parâmetros\n",
    "    \n",
    "    def forward(self, x_bias):\n",
    "        return x_bias.dot(self.w.T)"
   ]
  },
  {
   "cell_type": "markdown",
   "metadata": {},
   "source": [
    "### Criando a rede, instanciando o objeto model"
   ]
  },
  {
   "cell_type": "code",
   "execution_count": 7,
   "metadata": {
    "ExecuteTime": {
     "end_time": "2018-08-20T20:48:37.725709Z",
     "start_time": "2018-08-20T20:48:37.717690Z"
    }
   },
   "outputs": [],
   "source": [
    "model = Net(2,1) # duas entradas (1 + x0) e uma saída y_pred"
   ]
  },
  {
   "cell_type": "markdown",
   "metadata": {},
   "source": [
    "### Testando o predict da rede (mesmo sem treiná-la)"
   ]
  },
  {
   "cell_type": "code",
   "execution_count": 8,
   "metadata": {
    "ExecuteTime": {
     "end_time": "2018-08-20T20:48:38.670754Z",
     "start_time": "2018-08-20T20:48:38.658513Z"
    }
   },
   "outputs": [
    {
     "data": {
      "text/plain": [
       "array([[-0.09602795],\n",
       "       [ 0.0661236 ],\n",
       "       [-0.06857828],\n",
       "       [-0.05573871]])"
      ]
     },
     "execution_count": 8,
     "metadata": {},
     "output_type": "execute_result"
    }
   ],
   "source": [
    "xin = np.random.randn(4,2) # 4 amostras, 2 entradas (1 + x0)\n",
    "ypred = model.forward(xin)\n",
    "ypred"
   ]
  },
  {
   "cell_type": "markdown",
   "metadata": {},
   "source": [
    "## Treinamento via gradiente descendente"
   ]
  },
  {
   "cell_type": "markdown",
   "metadata": {},
   "source": [
    "Função de perda:\n",
    "$$ J(\\hat{y_i},y_i) = \\frac{1}{M} \\sum_{i=0}^{M-1} (\\hat{y_i} - y_i)^2 $$"
   ]
  },
  {
   "cell_type": "markdown",
   "metadata": {
    "ExecuteTime": {
     "end_time": "2017-10-05T14:05:06.244776",
     "start_time": "2017-10-05T14:05:06.240743"
    }
   },
   "source": [
    "Gradiente:\n",
    "    $$  \\mathbf{\\nabla{J_w}} = \\frac{2}{M}\\mathbf{x^T}(\\mathbf{x w^T} - \\mathbf{y}) $$"
   ]
  },
  {
   "cell_type": "markdown",
   "metadata": {
    "ExecuteTime": {
     "end_time": "2017-10-05T14:06:17.929718",
     "start_time": "2017-10-05T14:06:17.925519"
    }
   },
   "source": [
    "Atualização dos parâmetros pelo gradiente descendente:\n",
    "    $$ \\mathbf{w} = \\mathbf{w} − \\eta (\\mathbf{\\nabla J_w})^T $$"
   ]
  },
  {
   "cell_type": "markdown",
   "metadata": {},
   "source": [
    "### Laço de treinamento"
   ]
  },
  {
   "cell_type": "code",
   "execution_count": 9,
   "metadata": {
    "ExecuteTime": {
     "end_time": "2018-08-20T20:48:42.599816Z",
     "start_time": "2018-08-20T20:48:42.583171Z"
    },
    "scrolled": false
   },
   "outputs": [
    {
     "name": "stdout",
     "output_type": "stream",
     "text": [
      "Epoch[20/100], loss: 0.022622\n",
      "Epoch[40/100], loss: 0.021380\n",
      "Epoch[60/100], loss: 0.021200\n",
      "Epoch[80/100], loss: 0.021174\n",
      "Epoch[100/100], loss: 0.021170\n"
     ]
    }
   ],
   "source": [
    "num_epochs = 100\n",
    "learning_rate = 0.5\n",
    "for epoch in range(num_epochs):\n",
    "\n",
    "    # forward - predict\n",
    "    y_pred = model.forward(x_train_bias)\n",
    "\n",
    "    #loss cálculo da função de perda\n",
    "    loss = np.square(y_pred - y_train).mean()\n",
    "    \n",
    "    # cálculo do gradiente pelas derivadas parciais\n",
    "    w_grad = (2.0/n_samples) * (x_train_bias.T).dot(x_train_bias.dot(model.w.T) - y_train)\n",
    "    \n",
    "    # gradiente descendente\n",
    "    model.w = model.w - learning_rate * w_grad.T\n",
    "    \n",
    "    # verbose\n",
    "    if (epoch+1) % 20 == 0:\n",
    "        print('Epoch[{}/{}], loss: {:.6f}'\n",
    "              .format(epoch+1, num_epochs, loss))"
   ]
  },
  {
   "cell_type": "markdown",
   "metadata": {},
   "source": [
    "## Avaliação"
   ]
  },
  {
   "cell_type": "markdown",
   "metadata": {},
   "source": [
    "### Predict"
   ]
  },
  {
   "cell_type": "code",
   "execution_count": 10,
   "metadata": {
    "ExecuteTime": {
     "end_time": "2018-08-20T20:48:45.232535Z",
     "start_time": "2018-08-20T20:48:44.947754Z"
    }
   },
   "outputs": [
    {
     "data": {
      "text/plain": [
       "[<matplotlib.lines.Line2D at 0x10ddaff98>]"
      ]
     },
     "execution_count": 10,
     "metadata": {},
     "output_type": "execute_result"
    },
    {
     "data": {
      "image/png": "[encoded data removed]",
      "text/plain": [
       "<Figure size 432x288 with 1 Axes>"
      ]
     },
     "metadata": {},
     "output_type": "display_data"
    }
   ],
   "source": [
    "y_pred = model.forward(x_train_bias)\n",
    "plt.plot(x_train, y_train, 'ro', label='Original data')\n",
    "plt.plot(x_train, y_pred, 'kx-', label='Fitting Line')"
   ]
  },
  {
   "cell_type": "markdown",
   "metadata": {},
   "source": [
    "### Parâmetros treinados"
   ]
  },
  {
   "cell_type": "code",
   "execution_count": 11,
   "metadata": {
    "ExecuteTime": {
     "end_time": "2018-08-20T20:48:46.142987Z",
     "start_time": "2018-08-20T20:48:46.138783Z"
    }
   },
   "outputs": [
    {
     "name": "stdout",
     "output_type": "stream",
     "text": [
      "[[0.26295353 0.68335641]]\n"
     ]
    }
   ],
   "source": [
    "print(model.w)"
   ]
  },
  {
   "cell_type": "markdown",
   "metadata": {},
   "source": [
    "### Avaliação do modelo"
   ]
  },
  {
   "cell_type": "code",
   "execution_count": 12,
   "metadata": {
    "ExecuteTime": {
     "end_time": "2018-08-20T20:48:47.187423Z",
     "start_time": "2018-08-20T20:48:47.178588Z"
    }
   },
   "outputs": [
    {
     "data": {
      "text/plain": [
       "0.02117000379151052"
      ]
     },
     "execution_count": 12,
     "metadata": {},
     "output_type": "execute_result"
    }
   ],
   "source": [
    "loss = np.square(y_pred - y_train).mean()\n",
    "loss"
   ]
  },
  {
   "cell_type": "markdown",
   "metadata": {},
   "source": [
    "### Valor ótimo, solução analítica"
   ]
  },
  {
   "cell_type": "markdown",
   "metadata": {},
   "source": [
    "$$  \\mathbf{w} =(\\mathbf{x^T} \\mathbf{x})^{−1}\\mathbf{x^T} \\mathbf{y} $$"
   ]
  },
  {
   "cell_type": "code",
   "execution_count": 13,
   "metadata": {
    "ExecuteTime": {
     "end_time": "2018-08-20T20:48:49.733653Z",
     "start_time": "2018-08-20T20:48:49.712898Z"
    }
   },
   "outputs": [
    {
     "name": "stdout",
     "output_type": "stream",
     "text": [
      "[[0.26134159 0.68646976]]\n"
     ]
    }
   ],
   "source": [
    "x = x_train_bias\n",
    "y = y_train\n",
    "w_opt = (np.linalg.inv((x.T).dot(x)).dot(x.T)).dot(y)\n",
    "print(w_opt.T)"
   ]
  },
  {
   "cell_type": "markdown",
   "metadata": {},
   "source": [
    "# Exercícios"
   ]
  },
  {
   "cell_type": "markdown",
   "metadata": {},
   "source": [
    "## Questões"
   ]
  },
  {
   "cell_type": "markdown",
   "metadata": {},
   "source": [
    "1. Quantos parâmetros são treinados nesse modelo?\n",
    "2. Qual é o número de atributos de entrada para a rede?\n",
    "3. Qual é o número de saídas da rede?\n",
    "4. Suponha que eu tenha agora 5 mil amostras para fazer a predição. Qual é o shape da matriz de entrada? \n",
    "   Qual é o shape do matriz de saída?"
   ]
  },
  {
   "cell_type": "markdown",
   "metadata": {},
   "source": [
    "## Atividades"
   ]
  },
  {
   "cell_type": "markdown",
   "metadata": {},
   "source": [
    "1. Modifique o laço do treinamento via gradiente descendente para guardar em uma lista, o valor da perda no final\n",
    "   de cada época. Após o treinamento, plote o valor da perda em função da época.\n",
    "2. Calcule o valor da perda (MSE) da rede com os parâmetros inicializados, sem serem treinados.\n",
    "3. Coloque os valores dos pesos da solução ótima analítica no modelo da rede e calcule o valor da perda (MSE) e\n",
    "   compare com o valor da perda obtida pelo método da otimização via gradiente descendente."
   ]
  },
  {
   "cell_type": "markdown",
   "metadata": {
    "collapsed": true
   },
   "source": [
    "# Aprendizados"
   ]
  },
  {
   "cell_type": "code",
   "execution_count": null,
   "metadata": {},
   "outputs": [],
   "source": []
  }
 ],
 "metadata": {
  "kernelspec": {
   "display_name": "Python 3",
   "language": "python",
   "name": "python3"
  },
  "language_info": {
   "codemirror_mode": {
    "name": "ipython",
    "version": 3
   },
   "file_extension": ".py",
   "mimetype": "text/x-python",
   "name": "python",
   "nbconvert_exporter": "python",
   "pygments_lexer": "ipython3",
   "version": "3.6.5"
  },
  "toc": {
   "nav_menu": {},
   "number_sections": true,
   "sideBar": true,
   "skip_h1_title": false,
   "toc_cell": false,
   "toc_position": {},
   "toc_section_display": "block",
   "toc_window_display": false
  },
  "varInspector": {
   "cols": {
    "lenName": 16,
    "lenType": 16,
    "lenVar": 40
   },
   "kernels_config": {
    "python": {
     "delete_cmd_postfix": "",
     "delete_cmd_prefix": "del ",
     "library": "var_list.py",
     "varRefreshCmd": "print(var_dic_list())"
    },
    "r": {
     "delete_cmd_postfix": ") ",
     "delete_cmd_prefix": "rm(",
     "library": "var_list.r",
     "varRefreshCmd": "cat(var_dic_list()) "
    }
   },
   "types_to_exclude": [
    "module",
    "function",
    "builtin_function_or_method",
    "instance",
    "_Feature"
   ],
   "window_display": false
  }
 },
 "nbformat": 4,
 "nbformat_minor": 2
}
