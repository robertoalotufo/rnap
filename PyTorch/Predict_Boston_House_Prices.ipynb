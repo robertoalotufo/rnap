{
 "cells": [
  {
   "cell_type": "markdown",
   "metadata": {},
   "source": [
    "# Estimativa preços de venda do dataset Boston_housing"
   ]
  },
  {
   "cell_type": "markdown",
   "metadata": {},
   "source": [
    "Um dos problemas clássicos de machine learning é a previsão dos preços das casas de Boston apresentado no final da década de 1970.\n",
    "\n",
    "Existe uma competição no Kaggle que utiliza este dataset:\n",
    "https://www.kaggle.com/c/boston-housing\n",
    "\n",
    "O objetivo desse notebook é fazer a previsão dos preços das casas utilizando uma rede neural com uma camada escondida de 40 neurônios.\n"
   ]
  },
  {
   "cell_type": "markdown",
   "metadata": {},
   "source": [
    "## Importação dos pacotes"
   ]
  },
  {
   "cell_type": "code",
   "execution_count": 4,
   "metadata": {
    "ExecuteTime": {
     "end_time": "2017-10-19T10:54:54.328391",
     "start_time": "2017-10-19T10:54:54.317960"
    }
   },
   "outputs": [
    {
     "name": "stdout",
     "output_type": "stream",
     "text": [
      "GPU available: False\n"
     ]
    }
   ],
   "source": [
    "%matplotlib inline\n",
    "import matplotlib.pyplot as plt\n",
    "import numpy as np\n",
    "\n",
    "import torch\n",
    "from torch import nn\n",
    "from torch.utils.data import DataLoader, TensorDataset\n",
    "from torch.optim.lr_scheduler import MultiStepLR, StepLR\n",
    "from torch.autograd import Variable\n",
    "\n",
    "import lib.pytorch_trainer as ptt\n",
    "\n",
    "use_gpu = torch.cuda.is_available()\n",
    "print('GPU available:', use_gpu)"
   ]
  },
  {
   "cell_type": "markdown",
   "metadata": {},
   "source": [
    "## Leitura do Dataset"
   ]
  },
  {
   "cell_type": "markdown",
   "metadata": {},
   "source": [
    "Leitura do Dataset já normalizado: [boston_housing.ipynb](boston_housing.ipynb)\n",
    "- **Atenção**: se houver erro em não achar o arquivo, executar o notebook boston_housing.ipynb"
   ]
  },
  {
   "cell_type": "code",
   "execution_count": 29,
   "metadata": {
    "ExecuteTime": {
     "end_time": "2017-10-19T11:32:43.989926",
     "start_time": "2017-10-19T11:32:43.984480"
    }
   },
   "outputs": [],
   "source": [
    "datain = np.load('../data/boston_housing_normalize.npz')\n",
    "\n",
    "x, y = datain['Xtra'], datain['ytra']"
   ]
  },
  {
   "cell_type": "code",
   "execution_count": 30,
   "metadata": {
    "ExecuteTime": {
     "end_time": "2017-10-19T11:32:44.439944",
     "start_time": "2017-10-19T11:32:44.435250"
    }
   },
   "outputs": [
    {
     "name": "stdout",
     "output_type": "stream",
     "text": [
      "n_samples: 506\n",
      "n_attributes: 13\n"
     ]
    }
   ],
   "source": [
    "n_samples, n_attributes = x.shape\n",
    "print('n_samples:', n_samples)\n",
    "print('n_attributes:', n_attributes)"
   ]
  },
  {
   "cell_type": "markdown",
   "metadata": {},
   "source": [
    "### Conversão para Tensor"
   ]
  },
  {
   "cell_type": "code",
   "execution_count": 7,
   "metadata": {
    "ExecuteTime": {
     "end_time": "2017-10-19T10:54:54.364817",
     "start_time": "2017-10-19T10:54:54.344769"
    },
    "collapsed": true
   },
   "outputs": [],
   "source": [
    "x_train = torch.FloatTensor(x)\n",
    "y_train = torch.FloatTensor(y)"
   ]
  },
  {
   "cell_type": "markdown",
   "metadata": {},
   "source": [
    "## Rede, uma camada escondida de 40 neurônios"
   ]
  },
  {
   "cell_type": "code",
   "execution_count": 44,
   "metadata": {
    "ExecuteTime": {
     "end_time": "2017-10-19T11:37:40.719716",
     "start_time": "2017-10-19T11:37:40.707073"
    }
   },
   "outputs": [
    {
     "data": {
      "text/plain": [
       "Model (\n",
       "  (layer1): Linear (13 -> 40)\n",
       "  (ativ1): ReLU ()\n",
       "  (layer2): Linear (40 -> 1)\n",
       ")"
      ]
     },
     "execution_count": 44,
     "metadata": {},
     "output_type": "execute_result"
    }
   ],
   "source": [
    "class Model(nn.Module):\n",
    "    def __init__(self):\n",
    "        super(Model, self).__init__()\n",
    "        self.layer1 = nn.Linear(n_attributes, 40)\n",
    "        self.ativ1  = nn.ReLU()\n",
    "        self.layer2 = nn.Linear(40, 1)\n",
    "\n",
    "    def forward(self, x):\n",
    "        x = self.layer1(x)\n",
    "        x = self.ativ1(x)\n",
    "        x = self.layer2(x)\n",
    "        return x\n",
    "\n",
    "model = Model()\n",
    "if use_gpu:\n",
    "    model.cuda()\n",
    "model"
   ]
  },
  {
   "cell_type": "markdown",
   "metadata": {},
   "source": [
    "## Parâmetros do otimizador"
   ]
  },
  {
   "cell_type": "markdown",
   "metadata": {},
   "source": [
    "A escolha dos parâmetros para o treinamento é crítica. A escolha do learning rate,\n",
    "do método de ótimização, do tamanho do mini-batch, do número de camadas, do número de neurônios em\n",
    "cada camada, são todas críticas para o sucesso do estimador."
   ]
  },
  {
   "cell_type": "code",
   "execution_count": 45,
   "metadata": {
    "ExecuteTime": {
     "end_time": "2017-10-19T11:37:41.961113",
     "start_time": "2017-10-19T11:37:41.955428"
    },
    "collapsed": true
   },
   "outputs": [],
   "source": [
    "criterion = nn.MSELoss()\n",
    "optimizer = torch.optim.SGD(model.parameters(), lr=0.0001, momentum=0.9, nesterov=True)\n",
    "savebest = ptt.ModelCheckpoint('../../models/bostonhousing',reset=True, verbose=True)\n",
    "\n",
    "trainer = ptt.DeepNetTrainer(\n",
    "        model =         model,\n",
    "        criterion =     criterion,\n",
    "        optimizer =     optimizer,\n",
    "        callbacks =     [savebest]\n",
    "        #callbacks =     [PrintCallback()],\n",
    "        )"
   ]
  },
  {
   "cell_type": "markdown",
   "metadata": {},
   "source": [
    "## Treinamento"
   ]
  },
  {
   "cell_type": "code",
   "execution_count": 46,
   "metadata": {
    "ExecuteTime": {
     "end_time": "2017-10-19T11:37:46.713944",
     "start_time": "2017-10-19T11:37:43.305839"
    },
    "scrolled": false
   },
   "outputs": [
    {
     "name": "stdout",
     "output_type": "stream",
     "text": [
      "Best model was saved at epoch 35 with loss 8.70391: ../../models/bostonhousing\n"
     ]
    }
   ],
   "source": [
    "trainer.fit(100, x_train, y_train, valid_split=0.2, shuffle=True, batch_size=10)"
   ]
  },
  {
   "cell_type": "markdown",
   "metadata": {},
   "source": [
    "## Avaliação"
   ]
  },
  {
   "cell_type": "code",
   "execution_count": 47,
   "metadata": {
    "ExecuteTime": {
     "end_time": "2017-10-19T11:37:48.180106",
     "start_time": "2017-10-19T11:37:47.996683"
    }
   },
   "outputs": [
    {
     "data": {
      "text/plain": [
       "[<matplotlib.lines.Line2D at 0x10f44c358>,\n",
       " <matplotlib.lines.Line2D at 0x10f44ca90>]"
      ]
     },
     "execution_count": 47,
     "metadata": {},
     "output_type": "execute_result"
    },
    {
     "data": {
      "image/png": "[encoded data removed]",
      "text/plain": [
       "<matplotlib.figure.Figure at 0x1032ea6d8>"
      ]
     },
     "metadata": {},
     "output_type": "display_data"
    }
   ],
   "source": [
    "train_loss = trainer.metrics['train']['losses']\n",
    "valid_loss = trainer.metrics['valid']['losses']\n",
    "epochs = np.arange(len(train_loss))\n",
    "plt.plot(epochs, np.log(train_loss),\n",
    "         epochs, np.log(valid_loss))"
   ]
  },
  {
   "cell_type": "code",
   "execution_count": 21,
   "metadata": {
    "ExecuteTime": {
     "end_time": "2017-10-19T11:06:06.620136",
     "start_time": "2017-10-19T11:06:06.615957"
    },
    "collapsed": true
   },
   "outputs": [],
   "source": [
    "ptt.load_trainer_state('../../models/bostonhousing',trainer.model, trainer.metrics )"
   ]
  },
  {
   "cell_type": "code",
   "execution_count": 22,
   "metadata": {
    "ExecuteTime": {
     "end_time": "2017-10-19T11:06:07.246225",
     "start_time": "2017-10-19T11:06:07.212319"
    }
   },
   "outputs": [
    {
     "name": "stdout",
     "output_type": "stream",
     "text": [
      "\r",
      "evaluate: 0/50\r",
      "evaluate: 1/50\r",
      "evaluate: 2/50\r",
      "evaluate: 3/50\r",
      "evaluate: 4/50\r",
      "evaluate: 5/50\r",
      "evaluate: 6/50\r",
      "evaluate: 7/50\r",
      "evaluate: 8/50\r",
      "evaluate: 9/50\r",
      "evaluate: 10/50\r",
      "evaluate: 11/50\r",
      "evaluate: 12/50\r",
      "evaluate: 13/50\r",
      "evaluate: 14/50\r",
      "evaluate: 15/50\r",
      "evaluate: 16/50\r",
      "evaluate: 17/50\r",
      "evaluate: 18/50\r",
      "evaluate: 19/50\r",
      "evaluate: 20/50\r",
      "evaluate: 21/50\r",
      "evaluate: 22/50\r",
      "evaluate: 23/50\r",
      "evaluate: 24/50\r",
      "evaluate: 25/50\r",
      "evaluate: 26/50\r",
      "evaluate: 27/50\r",
      "evaluate: 28/50\r",
      "evaluate: 29/50\r",
      "evaluate: 30/50\r",
      "evaluate: 31/50\r",
      "evaluate: 32/50\r",
      "evaluate: 33/50\r",
      "evaluate: 34/50\r",
      "evaluate: 35/50\r",
      "evaluate: 36/50\r",
      "evaluate: 37/50\r",
      "evaluate: 38/50\r",
      "evaluate: 39/50\r",
      "evaluate: 40/50\r",
      "evaluate: 41/50\r",
      "evaluate: 42/50\r",
      "evaluate: 43/50\r",
      "evaluate: 44/50\r",
      "evaluate: 45/50\r",
      "evaluate: 46/50\r",
      "evaluate: 47/50\r",
      "evaluate: 48/50\r",
      "evaluate: 49/50\r",
      "evaluate: 50/50 ok\n"
     ]
    },
    {
     "data": {
      "text/plain": [
       "{}"
      ]
     },
     "execution_count": 22,
     "metadata": {},
     "output_type": "execute_result"
    }
   ],
   "source": [
    "trainer.evaluate(x_train,y_train)"
   ]
  },
  {
   "cell_type": "code",
   "execution_count": 23,
   "metadata": {
    "ExecuteTime": {
     "end_time": "2017-10-19T11:06:08.361161",
     "start_time": "2017-10-19T11:06:08.191272"
    }
   },
   "outputs": [
    {
     "data": {
      "text/plain": [
       "[<matplotlib.lines.Line2D at 0x10f202e80>,\n",
       " <matplotlib.lines.Line2D at 0x10f2090b8>]"
      ]
     },
     "execution_count": 23,
     "metadata": {},
     "output_type": "execute_result"
    },
    {
     "data": {
      "image/png": "[encoded data removed]",
      "text/plain": [
       "<matplotlib.figure.Figure at 0x10f1d17f0>"
      ]
     },
     "metadata": {},
     "output_type": "display_data"
    }
   ],
   "source": [
    "train_loss = trainer.metrics['train']['losses']\n",
    "valid_loss = trainer.metrics['valid']['losses']\n",
    "epochs = np.arange(len(train_loss))\n",
    "plt.plot(epochs, train_loss,\n",
    "         epochs, valid_loss)"
   ]
  },
  {
   "cell_type": "code",
   "execution_count": 25,
   "metadata": {
    "ExecuteTime": {
     "end_time": "2017-10-19T11:08:59.321444",
     "start_time": "2017-10-19T11:08:59.316857"
    }
   },
   "outputs": [
    {
     "name": "stdout",
     "output_type": "stream",
     "text": [
      "MSE: 8.429780960083008\n",
      "RMSE: 2.90340850727\n"
     ]
    }
   ],
   "source": [
    "print('MSE:',valid_loss[-1])\n",
    "print('RMSE:', np.sqrt(valid_loss[-1]))"
   ]
  },
  {
   "cell_type": "markdown",
   "metadata": {},
   "source": [
    "# Exercícios"
   ]
  },
  {
   "cell_type": "markdown",
   "metadata": {
    "ExecuteTime": {
     "end_time": "2017-10-19T11:45:27.400682",
     "start_time": "2017-10-19T11:45:27.395525"
    }
   },
   "source": [
    "- Troque os hyperparâmetros para verificar se você consegue obter valores melhores. A forma de\n",
    "  escolha e alteração de parâmetros é algo que se aprende com a experiência. Procure fazer\n",
    "  sintonias finas, variando apenas um ou poucos parâmetros de cada vez.\n",
    "  \n",
    "  Parâmetros que podem ser trocados:\n",
    "  - learning rate\n",
    "  - n. de camadas\n",
    "  - n. de neurônios\n",
    "  - troca de função de ativação\n",
    "  - método de otimizador do gradiente descendente\n"
   ]
  },
  {
   "cell_type": "code",
   "execution_count": null,
   "metadata": {
    "collapsed": true
   },
   "outputs": [],
   "source": []
  }
 ],
 "metadata": {
  "kernelspec": {
   "display_name": "Python 3",
   "language": "python",
   "name": "python3"
  },
  "language_info": {
   "codemirror_mode": {
    "name": "ipython",
    "version": 3
   },
   "file_extension": ".py",
   "mimetype": "text/x-python",
   "name": "python",
   "nbconvert_exporter": "python",
   "pygments_lexer": "ipython3",
   "version": "3.6.0"
  },
  "toc": {
   "colors": {
    "hover_highlight": "#DAA520",
    "running_highlight": "#FF0000",
    "selected_highlight": "#FFD700"
   },
   "moveMenuLeft": true,
   "nav_menu": {},
   "navigate_menu": true,
   "number_sections": true,
   "sideBar": true,
   "skip_h1_title": false,
   "threshold": 4,
   "toc_cell": false,
   "toc_position": {},
   "toc_section_display": "block",
   "toc_window_display": false
  }
 },
 "nbformat": 4,
 "nbformat_minor": 2
}
