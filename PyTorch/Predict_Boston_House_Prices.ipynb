{
 "cells": [
  {
   "cell_type": "markdown",
   "metadata": {},
   "source": [
    "# Estimativa preços de venda do dataset Boston_housing"
   ]
  },
  {
   "cell_type": "markdown",
   "metadata": {
    "heading_collapsed": true
   },
   "source": [
    "## Importação dos pacotes"
   ]
  },
  {
   "cell_type": "code",
   "execution_count": 1,
   "metadata": {
    "hidden": true
   },
   "outputs": [
    {
     "name": "stdout",
     "output_type": "stream",
     "text": [
      "GPU available: True\n"
     ]
    }
   ],
   "source": [
    "import numpy as np\n",
    "\n",
    "import torch\n",
    "from torch import nn\n",
    "from torch.utils.data import DataLoader, TensorDataset\n",
    "from torch.optim.lr_scheduler import MultiStepLR, StepLR\n",
    "from torch.autograd import Variable\n",
    "import torch.nn.functional as F\n",
    "\n",
    "from lib.pytorch_utils import DeepNetTrainer, test_network\n",
    "\n",
    "use_gpu = torch.cuda.is_available()\n",
    "print('GPU available:', use_gpu)"
   ]
  },
  {
   "cell_type": "markdown",
   "metadata": {
    "heading_collapsed": true
   },
   "source": [
    "## Dataset - o arquivo foi gerado pelo notebook:"
   ]
  },
  {
   "cell_type": "markdown",
   "metadata": {
    "hidden": true
   },
   "source": [
    "Leitura e normalização do Dataset: [boston_housing.ipynb](boston_housing.ipynb)"
   ]
  },
  {
   "cell_type": "code",
   "execution_count": 2,
   "metadata": {
    "hidden": true
   },
   "outputs": [],
   "source": [
    "datain = np.load('../data/boston_housing_normalize.npz')\n",
    "\n",
    "x, y = datain['Xtra'], datain['ytra']"
   ]
  },
  {
   "cell_type": "markdown",
   "metadata": {
    "heading_collapsed": true
   },
   "source": [
    "## Dividindo em treino (80%) e validação (20%)"
   ]
  },
  {
   "cell_type": "code",
   "execution_count": 3,
   "metadata": {
    "hidden": true
   },
   "outputs": [],
   "source": [
    "i = np.arange(len(x))\n",
    "np.random.shuffle(i)\n",
    "n_train = int(0.8 * len(x))\n",
    "i_train = i[:n_train]\n",
    "i_test  = i[n_train:]"
   ]
  },
  {
   "cell_type": "code",
   "execution_count": 4,
   "metadata": {
    "hidden": true
   },
   "outputs": [],
   "source": [
    "x_train = x[:n_train]\n",
    "y_train = y[:n_train]\n",
    "x_test  = x[n_train:]\n",
    "y_test  = y[n_train:]"
   ]
  },
  {
   "cell_type": "code",
   "execution_count": 5,
   "metadata": {
    "hidden": true
   },
   "outputs": [
    {
     "name": "stdout",
     "output_type": "stream",
     "text": [
      "n_samples: 404\n",
      "n_attributes: 13\n"
     ]
    }
   ],
   "source": [
    "n_samples, n_attributes = x_train.shape\n",
    "print('n_samples:', n_samples)\n",
    "print('n_attributes:', n_attributes)"
   ]
  },
  {
   "cell_type": "markdown",
   "metadata": {
    "heading_collapsed": true
   },
   "source": [
    "## Criando datasets e loaders"
   ]
  },
  {
   "cell_type": "code",
   "execution_count": 6,
   "metadata": {
    "hidden": true
   },
   "outputs": [],
   "source": [
    "data_train = TensorDataset(torch.FloatTensor(x_train), torch.FloatTensor(y_train))\n",
    "data_eval  = TensorDataset(torch.FloatTensor(x_test) , torch.FloatTensor(y_test))\n",
    "loader_train = DataLoader(data_train,batch_size=len(y_train)//2,shuffle=True)\n",
    "loader_eval  = DataLoader(data_eval, batch_size=len(y_test))"
   ]
  },
  {
   "cell_type": "markdown",
   "metadata": {
    "heading_collapsed": true
   },
   "source": [
    "## Rede, uma camada de escondida de 40 neurônios"
   ]
  },
  {
   "cell_type": "code",
   "execution_count": 7,
   "metadata": {
    "hidden": true
   },
   "outputs": [
    {
     "data": {
      "text/plain": [
       "Model (\n",
       "  (layer1): Linear (13 -> 40)\n",
       "  (layer2): Linear (40 -> 1)\n",
       ")"
      ]
     },
     "execution_count": 7,
     "metadata": {},
     "output_type": "execute_result"
    }
   ],
   "source": [
    "class Model(nn.Module):\n",
    "    def __init__(self):\n",
    "        super(Model, self).__init__()\n",
    "        self.layer1 = nn.Linear(n_attributes, 40)\n",
    "        self.layer2 = nn.Linear(40, 1)\n",
    "\n",
    "    def forward(self, x):\n",
    "        x = self.layer1(x)\n",
    "        x = F.relu(x)\n",
    "        x = self.layer2(x)\n",
    "        return x\n",
    "\n",
    "model = Model()\n",
    "if use_gpu:\n",
    "    model.cuda()\n",
    "model"
   ]
  },
  {
   "cell_type": "markdown",
   "metadata": {
    "heading_collapsed": true
   },
   "source": [
    "## Parâmetros do otimizador"
   ]
  },
  {
   "cell_type": "code",
   "execution_count": 8,
   "metadata": {
    "hidden": true
   },
   "outputs": [
    {
     "name": "stdout",
     "output_type": "stream",
     "text": [
      "Model loaded from ../../models/bostonhousing_pt.model\n"
     ]
    }
   ],
   "source": [
    "optimizer = torch.optim.SGD(model.parameters(), lr=0.0001, momentum=0.9, nesterov=True)\n",
    "criterion = nn.MSELoss()\n",
    "trainer = DeepNetTrainer(\n",
    "        file_basename = '../../models/bostonhousing_pt',\n",
    "        model =         model,\n",
    "        criterion =     criterion,\n",
    "        optimizer =     optimizer,\n",
    "        #callbacks =     [MyCallback()],\n",
    "        reset =         False\n",
    "        )"
   ]
  },
  {
   "cell_type": "markdown",
   "metadata": {
    "heading_collapsed": true
   },
   "source": [
    "## Treinamento"
   ]
  },
  {
   "cell_type": "code",
   "execution_count": 9,
   "metadata": {
    "hidden": true,
    "scrolled": false
   },
   "outputs": [
    {
     "name": "stdout",
     "output_type": "stream",
     "text": [
      "Starting training for 300 epochs\n",
      "\n",
      "626:   0.0s   T: 9.85622   V: 15.69830 best\n",
      "627:   0.1s   T: 9.85013   V: 15.70144 \n",
      "628:   0.0s   T: 9.84992   V: 15.70434 \n",
      "629:   0.0s   T: 9.84628   V: 15.70860 \n",
      "630:   0.0s   T: 9.84174   V: 15.70835 \n",
      "631:   0.0s   T: 9.83803   V: 15.70558 \n",
      "632:   0.0s   T: 9.83189   V: 15.70567 \n",
      "633:   0.0s   T: 9.83449   V: 15.69919 \n",
      "634:   0.0s   T: 9.82352   V: 15.70302 \n",
      "635:   0.0s   T: 9.81671   V: 15.70746 \n",
      "636:   0.0s   T: 9.81075   V: 15.70950 \n",
      "637:   0.0s   T: 9.80465   V: 15.70990 \n",
      "638:   0.0s   T: 9.79974   V: 15.71488 \n",
      "639:   0.0s   T: 9.79215   V: 15.71724 \n",
      "640:   0.0s   T: 9.78856   V: 15.72085 \n",
      "641:   0.0s   T: 9.78090   V: 15.72206 \n",
      "642:   0.0s   T: 9.77451   V: 15.71875 \n",
      "643:   0.0s   T: 9.76897   V: 15.71423 \n",
      "644:   0.0s   T: 9.76267   V: 15.71112 \n",
      "645:   0.0s   T: 9.75449   V: 15.71134 \n",
      "646:   0.0s   T: 9.75443   V: 15.72222 \n",
      "647:   0.0s   T: 9.74250   V: 15.72138 \n",
      "648:   0.0s   T: 9.73546   V: 15.72130 \n",
      "649:   0.0s   T: 9.73021   V: 15.72464 \n",
      "650:   0.0s   T: 9.72366   V: 15.73033 \n",
      "651:   0.0s   T: 9.71625   V: 15.72881 \n",
      "652:   0.0s   T: 9.71046   V: 15.73051 \n",
      "653:   0.0s   T: 9.70479   V: 15.73103 \n",
      "654:   0.0s   T: 9.69756   V: 15.73089 \n",
      "655:   0.0s   T: 9.69246   V: 15.73479 \n",
      "656:   0.0s   T: 9.68689   V: 15.73974 \n",
      "657:   0.0s   T: 9.67983   V: 15.73830 \n",
      "658:   0.0s   T: 9.67811   V: 15.74224 \n",
      "659:   0.0s   T: 9.66772   V: 15.73913 \n",
      "660:   0.0s   T: 9.66240   V: 15.74392 \n",
      "661:   0.0s   T: 9.65470   V: 15.74266 \n",
      "662:   0.0s   T: 9.64843   V: 15.74335 \n",
      "663:   0.0s   T: 9.64683   V: 15.75021 \n",
      "664:   0.0s   T: 9.64130   V: 15.75268 \n",
      "665:   0.0s   T: 9.63261   V: 15.75438 \n",
      "666:   0.0s   T: 9.62501   V: 15.75152 \n",
      "667:   0.0s   T: 9.61954   V: 15.75125 \n",
      "668:   0.0s   T: 9.61379   V: 15.75570 \n",
      "669:   0.0s   T: 9.60641   V: 15.75709 \n",
      "670:   0.0s   T: 9.60128   V: 15.75978 \n",
      "671:   0.0s   T: 9.59588   V: 15.76184 \n",
      "672:   0.0s   T: 9.58910   V: 15.76277 \n",
      "673:   0.0s   T: 9.58870   V: 15.76832 \n",
      "674:   0.0s   T: 9.57947   V: 15.76864 \n",
      "675:   0.0s   T: 9.57511   V: 15.77059 \n",
      "676:   0.0s   T: 9.56751   V: 15.76958 \n",
      "677:   0.0s   T: 9.56112   V: 15.76487 \n",
      "678:   0.0s   T: 9.55544   V: 15.76787 \n",
      "679:   0.0s   T: 9.54893   V: 15.76773 \n",
      "680:   0.0s   T: 9.54404   V: 15.77377 \n",
      "681:   0.0s   T: 9.53972   V: 15.77604 \n",
      "682:   0.0s   T: 9.53304   V: 15.77637 \n",
      "683:   0.0s   T: 9.52812   V: 15.77671 \n",
      "684:   0.0s   T: 9.52015   V: 15.77616 \n",
      "685:   0.0s   T: 9.51368   V: 15.77708 \n",
      "686:   0.0s   T: 9.51361   V: 15.77222 \n",
      "687:   0.0s   T: 9.50379   V: 15.77538 \n",
      "688:   0.0s   T: 9.49629   V: 15.77852 \n",
      "689:   0.0s   T: 9.49297   V: 15.78843 \n",
      "690:   0.0s   T: 9.48665   V: 15.79281 \n",
      "691:   0.0s   T: 9.48170   V: 15.79507 \n",
      "692:   0.0s   T: 9.47812   V: 15.80277 \n",
      "693:   0.0s   T: 9.46892   V: 15.79607 \n",
      "694:   0.0s   T: 9.46045   V: 15.79809 \n",
      "695:   0.0s   T: 9.45435   V: 15.79684 \n",
      "696:   0.0s   T: 9.44867   V: 15.79858 \n",
      "697:   0.0s   T: 9.44298   V: 15.80442 \n",
      "698:   0.0s   T: 9.43625   V: 15.80765 \n",
      "699:   0.0s   T: 9.43659   V: 15.81450 \n",
      "700:   0.0s   T: 9.42663   V: 15.81187 \n",
      "701:   0.0s   T: 9.42116   V: 15.81504 \n",
      "702:   0.0s   T: 9.41679   V: 15.81092 \n",
      "703:   0.0s   T: 9.40819   V: 15.81220 \n",
      "704:   0.0s   T: 9.40225   V: 15.81612 \n",
      "705:   0.0s   T: 9.40106   V: 15.82293 \n",
      "706:   0.0s   T: 9.39245   V: 15.81938 \n",
      "707:   0.0s   T: 9.38845   V: 15.81291 \n",
      "708:   0.0s   T: 9.38050   V: 15.81760 \n",
      "709:   0.0s   T: 9.37490   V: 15.82077 \n",
      "710:   0.0s   T: 9.37188   V: 15.81825 \n",
      "711:   0.0s   T: 9.36711   V: 15.81191 \n",
      "712:   0.0s   T: 9.35755   V: 15.81303 \n",
      "713:   0.0s   T: 9.35214   V: 15.81871 \n",
      "714:   0.0s   T: 9.34767   V: 15.81904 \n",
      "715:   0.0s   T: 9.34246   V: 15.82075 \n",
      "716:   0.0s   T: 9.33825   V: 15.81993 \n",
      "717:   0.0s   T: 9.33096   V: 15.82169 \n",
      "718:   0.0s   T: 9.33053   V: 15.83043 \n",
      "719:   0.0s   T: 9.32171   V: 15.82966 \n",
      "720:   0.0s   T: 9.31525   V: 15.82812 \n",
      "721:   0.0s   T: 9.31311   V: 15.83797 \n",
      "722:   0.0s   T: 9.30773   V: 15.83667 \n",
      "723:   0.0s   T: 9.30031   V: 15.83685 \n",
      "724:   0.0s   T: 9.29512   V: 15.83774 \n",
      "725:   0.0s   T: 9.29012   V: 15.84497 \n",
      "726:   0.0s   T: 9.28427   V: 15.84799 \n",
      "727:   0.0s   T: 9.27831   V: 15.84707 \n",
      "728:   0.0s   T: 9.27276   V: 15.85083 \n",
      "729:   0.0s   T: 9.27068   V: 15.84555 \n",
      "730:   0.0s   T: 9.26295   V: 15.84584 \n",
      "731:   0.0s   T: 9.26244   V: 15.85646 \n",
      "732:   0.0s   T: 9.25658   V: 15.86589 \n",
      "733:   0.0s   T: 9.24833   V: 15.86190 \n",
      "734:   0.0s   T: 9.24435   V: 15.85641 \n",
      "735:   0.0s   T: 9.23832   V: 15.86516 \n",
      "736:   0.0s   T: 9.23498   V: 15.86211 \n",
      "737:   0.0s   T: 9.23288   V: 15.86346 \n",
      "738:   0.0s   T: 9.22295   V: 15.86648 \n",
      "739:   0.0s   T: 9.21697   V: 15.86476 \n",
      "740:   0.0s   T: 9.21328   V: 15.86608 \n",
      "741:   0.0s   T: 9.20896   V: 15.86631 \n",
      "742:   0.0s   T: 9.20552   V: 15.87150 \n",
      "743:   0.0s   T: 9.19995   V: 15.86890 \n",
      "744:   0.0s   T: 9.19519   V: 15.87857 \n",
      "745:   0.0s   T: 9.19067   V: 15.87621 \n",
      "746:   0.0s   T: 9.18571   V: 15.88252 \n",
      "747:   0.0s   T: 9.18048   V: 15.88319 \n",
      "748:   0.0s   T: 9.17753   V: 15.88222 \n",
      "749:   0.0s   T: 9.16911   V: 15.88719 \n",
      "750:   0.0s   T: 9.16936   V: 15.88416 \n",
      "751:   0.0s   T: 9.16383   V: 15.89465 \n",
      "752:   0.0s   T: 9.16223   V: 15.89875 \n",
      "753:   0.0s   T: 9.15222   V: 15.90124 \n",
      "754:   0.0s   T: 9.14891   V: 15.89948 \n",
      "755:   0.0s   T: 9.14614   V: 15.90137 \n",
      "756:   0.0s   T: 9.13673   V: 15.90856 \n",
      "757:   0.0s   T: 9.13344   V: 15.91307 \n",
      "758:   0.0s   T: 9.13021   V: 15.91182 \n",
      "759:   0.0s   T: 9.12348   V: 15.91667 \n",
      "760:   0.0s   T: 9.11817   V: 15.91976 \n",
      "761:   0.0s   T: 9.11767   V: 15.92487 \n",
      "762:   0.0s   T: 9.11068   V: 15.92247 \n",
      "763:   0.0s   T: 9.10768   V: 15.92882 \n",
      "764:   0.0s   T: 9.10180   V: 15.93329 \n",
      "765:   0.0s   T: 9.10461   V: 15.94498 \n",
      "766:   0.0s   T: 9.09277   V: 15.94185 \n",
      "767:   0.0s   T: 9.08724   V: 15.94227 \n",
      "768:   0.0s   T: 9.08599   V: 15.95020 \n",
      "769:   0.0s   T: 9.07896   V: 15.95112 \n",
      "770:   0.0s   T: 9.07689   V: 15.94742 \n",
      "771:   0.0s   T: 9.07195   V: 15.94876 \n",
      "772:   0.0s   T: 9.06633   V: 15.95653 \n",
      "773:   0.0s   T: 9.06495   V: 15.95910 \n",
      "774:   0.0s   T: 9.05865   V: 15.96094 \n",
      "775:   0.0s   T: 9.05242   V: 15.96419 \n",
      "776:   0.0s   T: 9.05477   V: 15.97362 \n",
      "777:   0.0s   T: 9.04702   V: 15.97295 \n",
      "778:   0.0s   T: 9.04472   V: 15.96756 \n",
      "779:   0.0s   T: 9.03555   V: 15.96939 \n",
      "780:   0.0s   T: 9.03284   V: 15.97064 \n",
      "781:   0.0s   T: 9.02882   V: 15.97574 \n",
      "782:   0.0s   T: 9.02577   V: 15.97968 \n",
      "783:   0.0s   T: 9.02231   V: 15.98000 \n",
      "784:   0.0s   T: 9.01788   V: 15.98179 \n",
      "785:   0.0s   T: 9.01424   V: 15.99685 \n",
      "786:   0.0s   T: 9.00651   V: 16.00327 \n",
      "787:   0.0s   T: 9.00620   V: 16.01342 \n",
      "788:   0.0s   T: 8.99719   V: 16.01462 \n",
      "789:   0.0s   T: 8.99330   V: 16.02135 \n",
      "790:   0.0s   T: 8.99133   V: 16.02070 \n",
      "791:   0.0s   T: 8.98725   V: 16.02945 \n",
      "792:   0.0s   T: 8.98950   V: 16.02093 \n",
      "793:   0.0s   T: 8.97945   V: 16.03023 \n",
      "794:   0.0s   T: 8.97515   V: 16.03463 \n",
      "795:   0.0s   T: 8.96955   V: 16.03276 \n",
      "796:   0.0s   T: 8.96548   V: 16.03635 \n",
      "797:   0.0s   T: 8.96173   V: 16.04088 \n",
      "798:   0.0s   T: 8.95934   V: 16.03909 \n",
      "799:   0.0s   T: 8.95273   V: 16.04321 \n",
      "800:   0.0s   T: 8.94965   V: 16.04717 \n",
      "801:   0.0s   T: 8.94673   V: 16.04736 \n",
      "802:   0.0s   T: 8.94258   V: 16.05668 \n",
      "803:   0.0s   T: 8.94005   V: 16.05868 \n",
      "804:   0.0s   T: 8.93840   V: 16.06804 \n",
      "805:   0.0s   T: 8.92996   V: 16.06403 \n",
      "806:   0.0s   T: 8.92716   V: 16.06667 \n",
      "807:   0.0s   T: 8.92240   V: 16.07383 \n",
      "808:   0.0s   T: 8.91877   V: 16.07858 \n",
      "809:   0.0s   T: 8.91435   V: 16.07784 \n",
      "810:   0.0s   T: 8.91461   V: 16.06984 \n",
      "811:   0.0s   T: 8.90641   V: 16.07515 \n",
      "812:   0.0s   T: 8.89985   V: 16.08210 \n",
      "813:   0.0s   T: 8.89809   V: 16.09125 \n",
      "814:   0.0s   T: 8.89232   V: 16.09133 \n",
      "815:   0.0s   T: 8.89067   V: 16.08893 \n",
      "816:   0.0s   T: 8.88439   V: 16.09051 \n",
      "817:   0.0s   T: 8.88140   V: 16.09936 \n",
      "818:   0.0s   T: 8.87921   V: 16.10887 \n",
      "819:   0.0s   T: 8.87686   V: 16.11721 \n",
      "820:   0.0s   T: 8.86977   V: 16.11485 \n",
      "821:   0.0s   T: 8.86558   V: 16.11264 \n",
      "822:   0.0s   T: 8.86119   V: 16.11694 \n",
      "823:   0.0s   T: 8.85718   V: 16.11909 \n",
      "824:   0.0s   T: 8.85402   V: 16.12020 \n",
      "825:   0.0s   T: 8.85286   V: 16.12788 \n",
      "826:   0.0s   T: 8.84717   V: 16.13324 \n",
      "827:   0.0s   T: 8.84189   V: 16.13486 \n",
      "828:   0.0s   T: 8.83889   V: 16.13944 \n",
      "829:   0.0s   T: 8.83622   V: 16.14147 \n",
      "830:   0.0s   T: 8.83099   V: 16.14438 \n",
      "831:   0.0s   T: 8.82771   V: 16.14167 \n",
      "832:   0.0s   T: 8.82604   V: 16.14856 \n",
      "833:   0.0s   T: 8.82099   V: 16.15345 \n",
      "834:   0.0s   T: 8.81570   V: 16.15305 \n",
      "835:   0.0s   T: 8.81273   V: 16.15618 \n",
      "836:   0.0s   T: 8.81071   V: 16.16290 \n",
      "837:   0.0s   T: 8.80495   V: 16.16449 \n",
      "838:   0.0s   T: 8.80206   V: 16.16323 \n",
      "839:   0.0s   T: 8.80379   V: 16.17139 \n",
      "840:   0.0s   T: 8.79401   V: 16.16944 \n",
      "841:   0.0s   T: 8.79038   V: 16.16975 \n",
      "842:   0.0s   T: 8.78580   V: 16.16960 \n",
      "843:   0.0s   T: 8.78324   V: 16.17409 \n",
      "844:   0.0s   T: 8.77926   V: 16.17939 \n"
     ]
    },
    {
     "name": "stdout",
     "output_type": "stream",
     "text": [
      "845:   0.0s   T: 8.77509   V: 16.17932 \n",
      "846:   0.0s   T: 8.77272   V: 16.18478 \n",
      "847:   0.0s   T: 8.76744   V: 16.18873 \n",
      "848:   0.0s   T: 8.76409   V: 16.18959 \n",
      "849:   0.0s   T: 8.76033   V: 16.19004 \n",
      "850:   0.0s   T: 8.75850   V: 16.18824 \n",
      "851:   0.0s   T: 8.75369   V: 16.19872 \n",
      "852:   0.0s   T: 8.75121   V: 16.20219 \n",
      "853:   0.0s   T: 8.74676   V: 16.20569 \n",
      "854:   0.0s   T: 8.74213   V: 16.21238 \n",
      "855:   0.0s   T: 8.73710   V: 16.22029 \n",
      "856:   0.0s   T: 8.73464   V: 16.22833 \n",
      "857:   0.0s   T: 8.73106   V: 16.23112 \n",
      "858:   0.0s   T: 8.72663   V: 16.23962 \n",
      "859:   0.0s   T: 8.72318   V: 16.24461 \n",
      "860:   0.0s   T: 8.71963   V: 16.24978 \n",
      "861:   0.0s   T: 8.71636   V: 16.25988 \n",
      "862:   0.0s   T: 8.71143   V: 16.26669 \n",
      "863:   0.0s   T: 8.70759   V: 16.27280 \n",
      "864:   0.0s   T: 8.70552   V: 16.27632 \n",
      "865:   0.0s   T: 8.70385   V: 16.28588 \n",
      "866:   0.0s   T: 8.69862   V: 16.28407 \n",
      "867:   0.0s   T: 8.69376   V: 16.28759 \n",
      "868:   0.0s   T: 8.69106   V: 16.28913 \n",
      "869:   0.0s   T: 8.68586   V: 16.29812 \n",
      "870:   0.0s   T: 8.68280   V: 16.30133 \n",
      "871:   0.0s   T: 8.67851   V: 16.30712 \n",
      "872:   0.0s   T: 8.67420   V: 16.31327 \n",
      "873:   0.0s   T: 8.67424   V: 16.32395 \n",
      "874:   0.0s   T: 8.66668   V: 16.32909 \n",
      "875:   0.0s   T: 8.66341   V: 16.33007 \n",
      "876:   0.0s   T: 8.66059   V: 16.32858 \n",
      "877:   0.0s   T: 8.65654   V: 16.33154 \n",
      "878:   0.0s   T: 8.65273   V: 16.34153 \n",
      "879:   0.0s   T: 8.65008   V: 16.34904 \n",
      "880:   0.0s   T: 8.64447   V: 16.35261 \n",
      "881:   0.0s   T: 8.64092   V: 16.35648 \n",
      "882:   0.0s   T: 8.63628   V: 16.36088 \n",
      "883:   0.0s   T: 8.63598   V: 16.36432 \n",
      "884:   0.0s   T: 8.63001   V: 16.36739 \n",
      "885:   0.0s   T: 8.62577   V: 16.37835 \n",
      "886:   0.0s   T: 8.62598   V: 16.38026 \n",
      "887:   0.0s   T: 8.62046   V: 16.38491 \n",
      "888:   0.0s   T: 8.61848   V: 16.40226 \n",
      "889:   0.0s   T: 8.61126   V: 16.40903 \n",
      "890:   0.0s   T: 8.60915   V: 16.41492 \n",
      "891:   0.0s   T: 8.60576   V: 16.42376 \n",
      "892:   0.0s   T: 8.60170   V: 16.42509 \n",
      "893:   0.0s   T: 8.60154   V: 16.43946 \n",
      "894:   0.0s   T: 8.59229   V: 16.44488 \n",
      "895:   0.0s   T: 8.59041   V: 16.44853 \n",
      "896:   0.0s   T: 8.58830   V: 16.45291 \n",
      "897:   0.0s   T: 8.58336   V: 16.45729 \n",
      "898:   0.0s   T: 8.57816   V: 16.46377 \n",
      "899:   0.0s   T: 8.58153   V: 16.45988 \n",
      "900:   0.0s   T: 8.57483   V: 16.46412 \n",
      "901:   0.0s   T: 8.56829   V: 16.47048 \n",
      "902:   0.0s   T: 8.56522   V: 16.48001 \n",
      "903:   0.0s   T: 8.56144   V: 16.48637 \n",
      "904:   0.0s   T: 8.55716   V: 16.49589 \n",
      "905:   0.0s   T: 8.56205   V: 16.51303 \n",
      "906:   0.0s   T: 8.55121   V: 16.51222 \n",
      "907:   0.0s   T: 8.54853   V: 16.52065 \n",
      "908:   0.0s   T: 8.54695   V: 16.52214 \n",
      "909:   0.0s   T: 8.54135   V: 16.52550 \n",
      "910:   0.0s   T: 8.53892   V: 16.52685 \n",
      "911:   0.0s   T: 8.53572   V: 16.52685 \n",
      "912:   0.0s   T: 8.53212   V: 16.53684 \n",
      "913:   0.0s   T: 8.52690   V: 16.54535 \n",
      "914:   0.0s   T: 8.52482   V: 16.54850 \n",
      "915:   0.0s   T: 8.52247   V: 16.56125 \n",
      "916:   0.0s   T: 8.52030   V: 16.57477 \n",
      "917:   0.0s   T: 8.51724   V: 16.57209 \n",
      "918:   0.0s   T: 8.51070   V: 16.57990 \n",
      "919:   0.0s   T: 8.50855   V: 16.58691 \n",
      "920:   0.0s   T: 8.50356   V: 16.58887 \n",
      "921:   0.0s   T: 8.50466   V: 16.59771 \n",
      "922:   0.0s   T: 8.49846   V: 16.59557 \n",
      "923:   0.0s   T: 8.49791   V: 16.60648 \n",
      "924:   0.0s   T: 8.49558   V: 16.60231 \n",
      "925:   0.0s   T: 8.48750   V: 16.61003 \n",
      "926:   0.0s   T: 8.48818   V: 16.62113 \n",
      "\n",
      "Model from epoch 626 saved as \"../../models/bostonhousing_pt.*\", loss = 15.69830\n"
     ]
    }
   ],
   "source": [
    "trainer.fit(300, loader_train, loader_eval)"
   ]
  },
  {
   "cell_type": "code",
   "execution_count": null,
   "metadata": {
    "hidden": true
   },
   "outputs": [],
   "source": []
  }
 ],
 "metadata": {
  "kernelspec": {
   "display_name": "Python 3",
   "language": "python",
   "name": "python3"
  },
  "language_info": {
   "codemirror_mode": {
    "name": "ipython",
    "version": 3
   },
   "file_extension": ".py",
   "mimetype": "text/x-python",
   "name": "python",
   "nbconvert_exporter": "python",
   "pygments_lexer": "ipython3",
   "version": "3.6.1"
  },
  "toc": {
   "nav_menu": {},
   "number_sections": true,
   "sideBar": true,
   "skip_h1_title": false,
   "toc_cell": false,
   "toc_position": {},
   "toc_section_display": "block",
   "toc_window_display": false
  }
 },
 "nbformat": 4,
 "nbformat_minor": 2
}
