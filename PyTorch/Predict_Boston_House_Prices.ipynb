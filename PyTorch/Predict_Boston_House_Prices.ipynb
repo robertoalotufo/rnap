{
 "cells": [
  {
   "cell_type": "markdown",
   "metadata": {},
   "source": [
    "# Estimativa preços de venda do dataset Boston_housing"
   ]
  },
  {
   "cell_type": "markdown",
   "metadata": {},
   "source": [
    "Um dos problemas clássicos de machine learning é a previsão dos preços das casas de Boston apresentado no final da década de 1970.\n",
    "\n",
    "Existe uma competição no Kaggle que utiliza este dataset:\n",
    "https://www.kaggle.com/c/boston-housing\n",
    "\n",
    "O objetivo desse notebook é fazer a previsão dos preços das casas utilizando uma rede neural com algumas camadas escondidas.\n"
   ]
  },
  {
   "cell_type": "markdown",
   "metadata": {},
   "source": [
    "## Importação dos pacotes"
   ]
  },
  {
   "cell_type": "code",
   "execution_count": 1,
   "metadata": {
    "ExecuteTime": {
     "end_time": "2017-12-17T23:09:14.884541Z",
     "start_time": "2017-12-17T23:09:13.798312Z"
    }
   },
   "outputs": [
    {
     "name": "stdout",
     "output_type": "stream",
     "text": [
      "GPU available: False\n"
     ]
    }
   ],
   "source": [
    "%matplotlib inline\n",
    "import matplotlib.pyplot as plt\n",
    "import numpy as np\n",
    "\n",
    "import torch\n",
    "from torch import nn\n",
    "from torch.utils.data import DataLoader, TensorDataset\n",
    "from torch.optim.lr_scheduler import MultiStepLR, StepLR\n",
    "from torch.autograd import Variable\n",
    "\n",
    "import lib.pytorch_trainer as ptt\n",
    "\n",
    "use_gpu = torch.cuda.is_available()\n",
    "print('GPU available:', use_gpu)"
   ]
  },
  {
   "cell_type": "markdown",
   "metadata": {},
   "source": [
    "## Leitura do Dataset"
   ]
  },
  {
   "cell_type": "markdown",
   "metadata": {},
   "source": [
    "Leitura do Dataset já normalizado: [boston_housing.ipynb](boston_housing.ipynb)\n",
    "- **Atenção**: se houver erro em não achar o arquivo, executar o notebook boston_housing.ipynb"
   ]
  },
  {
   "cell_type": "code",
   "execution_count": 2,
   "metadata": {
    "ExecuteTime": {
     "end_time": "2017-12-17T23:09:14.895592Z",
     "start_time": "2017-12-17T23:09:14.886685Z"
    },
    "collapsed": true
   },
   "outputs": [],
   "source": [
    "datain = np.load('../data/boston_housing_normalize.npz')\n",
    "\n",
    "x, y = datain['Xtra'], datain['ytra']"
   ]
  },
  {
   "cell_type": "code",
   "execution_count": 3,
   "metadata": {
    "ExecuteTime": {
     "end_time": "2017-12-17T23:09:14.905504Z",
     "start_time": "2017-12-17T23:09:14.897802Z"
    }
   },
   "outputs": [
    {
     "name": "stdout",
     "output_type": "stream",
     "text": [
      "n_samples: 506\n",
      "n_attributes: 13\n"
     ]
    }
   ],
   "source": [
    "n_samples, n_attributes = x.shape\n",
    "print('n_samples:', n_samples)\n",
    "print('n_attributes:', n_attributes)"
   ]
  },
  {
   "cell_type": "markdown",
   "metadata": {},
   "source": [
    "### Conversão para Tensor"
   ]
  },
  {
   "cell_type": "code",
   "execution_count": 4,
   "metadata": {
    "ExecuteTime": {
     "end_time": "2017-12-17T23:09:14.913531Z",
     "start_time": "2017-12-17T23:09:14.907866Z"
    },
    "collapsed": true
   },
   "outputs": [],
   "source": [
    "x_train = torch.FloatTensor(x)\n",
    "y_train = torch.FloatTensor(y)"
   ]
  },
  {
   "cell_type": "markdown",
   "metadata": {},
   "source": [
    "## Rede"
   ]
  },
  {
   "cell_type": "code",
   "execution_count": 43,
   "metadata": {
    "ExecuteTime": {
     "end_time": "2017-12-17T23:15:54.162387Z",
     "start_time": "2017-12-17T23:15:54.130953Z"
    }
   },
   "outputs": [
    {
     "data": {
      "text/plain": [
       "Model(\n",
       "  (layer1): Linear(in_features=13, out_features=64)\n",
       "  (ativ1): SELU\n",
       "  (layer2): Linear(in_features=64, out_features=64)\n",
       "  (ativ2): SELU\n",
       "  (layer3): Linear(in_features=64, out_features=64)\n",
       "  (ativ3): SELU\n",
       "  (layer4): Linear(in_features=64, out_features=1)\n",
       ")"
      ]
     },
     "execution_count": 43,
     "metadata": {},
     "output_type": "execute_result"
    }
   ],
   "source": [
    "class Model(nn.Module):\n",
    "    def __init__(self):\n",
    "        super(Model, self).__init__()\n",
    "        self.layer1 = nn.Linear(n_attributes, 64)\n",
    "        self.ativ1  = nn.SELU()\n",
    "        self.layer2 = nn.Linear(64, 64)\n",
    "        self.ativ2  = nn.SELU()\n",
    "        self.layer3 = nn.Linear(64, 64)\n",
    "        self.ativ3  = nn.SELU()\n",
    "        self.layer4 = nn.Linear(64, 1)\n",
    "\n",
    "    def forward(self, x):\n",
    "        x = self.layer1(x)\n",
    "        x = self.ativ1(x)\n",
    "        x = nn.functional.dropout(x)\n",
    "        x = self.layer2(x)\n",
    "        x = self.ativ2(x)\n",
    "        x = nn.functional.dropout(x)\n",
    "        x = self.layer3(x)\n",
    "        x = self.ativ3(x)\n",
    "        x = nn.functional.dropout(x)\n",
    "        x = self.layer4(x)\n",
    "        return x\n",
    "\n",
    "model = Model()\n",
    "if use_gpu:\n",
    "    model.cuda()\n",
    "model"
   ]
  },
  {
   "cell_type": "markdown",
   "metadata": {},
   "source": [
    "## Parâmetros do otimizador"
   ]
  },
  {
   "cell_type": "markdown",
   "metadata": {},
   "source": [
    "A escolha dos parâmetros para o treinamento é crítica. A escolha do learning rate,\n",
    "do método de ótimização, do tamanho do mini-batch, do número de camadas, do número de neurônios em\n",
    "cada camada, são todas críticas para o sucesso do estimador."
   ]
  },
  {
   "cell_type": "code",
   "execution_count": 44,
   "metadata": {
    "ExecuteTime": {
     "end_time": "2017-12-17T23:15:55.507309Z",
     "start_time": "2017-12-17T23:15:55.498504Z"
    },
    "collapsed": true
   },
   "outputs": [],
   "source": [
    "criterion = nn.MSELoss()\n",
    "optimizer = torch.optim.RMSprop(model.parameters(), lr=0.0005, alpha=0.7)\n",
    "savebest = ptt.ModelCheckpoint('../../models/bostonhousing',reset=True, verbose=1)\n",
    "\n",
    "trainer = ptt.DeepNetTrainer(\n",
    "        model =         model,\n",
    "        criterion =     criterion,\n",
    "        optimizer =     optimizer,\n",
    "        callbacks =     [savebest,ptt.PrintCallback()]\n",
    "        )"
   ]
  },
  {
   "cell_type": "markdown",
   "metadata": {},
   "source": [
    "## Treinamento"
   ]
  },
  {
   "cell_type": "code",
   "execution_count": 45,
   "metadata": {
    "ExecuteTime": {
     "end_time": "2017-12-17T23:16:05.943406Z",
     "start_time": "2017-12-17T23:15:56.897102Z"
    },
    "scrolled": false
   },
   "outputs": [
    {
     "name": "stdout",
     "output_type": "stream",
     "text": [
      "Start training for 50 epochs\n",
      "  1:   0.3s   T: 314.63419   V: 14.65629 best\n",
      "  2:   0.2s   T: 40.20692   V: 12.29823 best\n",
      "  3:   0.2s   T: 34.65493   V: 11.68305 best\n",
      "  4:   0.2s   T: 33.16625   V: 15.13483 \n",
      "  5:   0.2s   T: 29.59808   V: 10.92019 best\n",
      "  6:   0.2s   T: 28.39095   V: 9.99010 best\n",
      "  7:   0.2s   T: 26.10730   V: 9.31546 best\n",
      "  8:   0.2s   T: 25.27871   V: 9.35992 \n",
      "  9:   0.2s   T: 23.41432   V: 11.02827 \n",
      " 10:   0.2s   T: 22.82379   V: 8.34695 best\n",
      " 11:   0.2s   T: 21.60992   V: 7.85531 best\n",
      " 12:   0.2s   T: 21.15993   V: 7.72072 best\n",
      " 13:   0.2s   T: 20.49793   V: 7.94430 \n",
      " 14:   0.2s   T: 20.16572   V: 7.39360 best\n",
      " 15:   0.2s   T: 19.72098   V: 7.34859 best\n",
      " 16:   0.2s   T: 18.57602   V: 6.70086 best\n",
      " 17:   0.2s   T: 18.07237   V: 8.40427 \n",
      " 18:   0.2s   T: 17.51771   V: 7.43133 \n",
      " 19:   0.2s   T: 17.76988   V: 7.45629 \n",
      " 20:   0.2s   T: 17.47335   V: 7.54223 \n",
      " 21:   0.2s   T: 17.45758   V: 10.91012 \n",
      " 22:   0.2s   T: 17.25955   V: 7.21366 \n",
      " 23:   0.2s   T: 16.84137   V: 7.80464 \n",
      " 24:   0.2s   T: 16.74187   V: 7.17285 \n",
      " 25:   0.2s   T: 16.28494   V: 9.54365 \n",
      " 26:   0.2s   T: 16.11397   V: 6.73679 \n",
      " 27:   0.2s   T: 16.06115   V: 6.06666 best\n",
      " 28:   0.2s   T: 15.34921   V: 11.56597 \n",
      " 29:   0.2s   T: 15.38357   V: 8.69538 \n",
      " 30:   0.2s   T: 15.06323   V: 5.46669 best\n",
      " 31:   0.2s   T: 14.80856   V: 5.69021 \n",
      " 32:   0.2s   T: 14.77041   V: 7.80845 \n",
      " 33:   0.2s   T: 14.54348   V: 6.34985 \n",
      " 34:   0.2s   T: 13.84360   V: 6.39124 \n",
      " 35:   0.2s   T: 13.54712   V: 6.87628 \n",
      " 36:   0.2s   T: 13.93285   V: 5.58360 \n",
      " 37:   0.2s   T: 13.76971   V: 5.53594 \n",
      " 38:   0.2s   T: 13.29668   V: 5.60603 \n",
      " 39:   0.2s   T: 12.40147   V: 8.80606 \n",
      " 40:   0.2s   T: 13.52968   V: 6.22070 \n",
      " 41:   0.2s   T: 12.49719   V: 5.43953 best\n",
      " 42:   0.2s   T: 12.58499   V: 9.17213 \n",
      " 43:   0.2s   T: 12.40571   V: 7.97795 \n",
      " 44:   0.2s   T: 12.20925   V: 5.44590 \n",
      " 45:   0.2s   T: 11.88456   V: 7.20688 \n",
      " 46:   0.3s   T: 11.17239   V: 5.59722 \n",
      " 47:   0.2s   T: 11.47060   V: 7.69730 \n",
      " 48:   0.2s   T: 11.22910   V: 6.40537 \n",
      " 49:   0.2s   T: 11.41584   V: 5.54909 \n",
      " 50:   0.2s   T: 11.14290   V: 7.42772 \n",
      "Best model was saved at epoch 41 with loss 5.43953: ../../models/bostonhousing\n",
      "Stop training at epoch: 50/50\n"
     ]
    }
   ],
   "source": [
    "trainer.fit(50, x_train, y_train, valid_split=0.2, shuffle=True, batch_size=2)"
   ]
  },
  {
   "cell_type": "markdown",
   "metadata": {},
   "source": [
    "## Avaliação"
   ]
  },
  {
   "cell_type": "code",
   "execution_count": 46,
   "metadata": {
    "ExecuteTime": {
     "end_time": "2017-12-17T23:16:08.883267Z",
     "start_time": "2017-12-17T23:16:08.663846Z"
    }
   },
   "outputs": [
    {
     "data": {
      "text/plain": [
       "[<matplotlib.lines.Line2D at 0x11aa24668>,\n",
       " <matplotlib.lines.Line2D at 0x11aa247b8>]"
      ]
     },
     "execution_count": 46,
     "metadata": {},
     "output_type": "execute_result"
    },
    {
     "data": {
      "image/png": "[encoded data removed]",
      "text/plain": [
       "<matplotlib.figure.Figure at 0x11a9f20f0>"
      ]
     },
     "metadata": {},
     "output_type": "display_data"
    }
   ],
   "source": [
    "train_loss = trainer.metrics['train']['losses']\n",
    "valid_loss = trainer.metrics['valid']['losses']\n",
    "epochs = np.arange(len(train_loss))\n",
    "plt.plot(epochs, train_loss,\n",
    "         epochs, valid_loss)"
   ]
  },
  {
   "cell_type": "code",
   "execution_count": 47,
   "metadata": {
    "ExecuteTime": {
     "end_time": "2017-12-17T23:16:08.932119Z",
     "start_time": "2017-12-17T23:16:08.924236Z"
    },
    "collapsed": true
   },
   "outputs": [],
   "source": [
    "trainer.load_state('../../models/bostonhousing')"
   ]
  },
  {
   "cell_type": "code",
   "execution_count": 48,
   "metadata": {
    "ExecuteTime": {
     "end_time": "2017-12-17T23:16:09.249670Z",
     "start_time": "2017-12-17T23:16:09.185806Z"
    }
   },
   "outputs": [
    {
     "name": "stdout",
     "output_type": "stream",
     "text": [
      "\r",
      "evaluate: 0/50\r",
      "evaluate: 1/50\r",
      "evaluate: 2/50\r",
      "evaluate: 3/50\r",
      "evaluate: 4/50\r",
      "evaluate: 5/50\r",
      "evaluate: 6/50\r",
      "evaluate: 7/50\r",
      "evaluate: 8/50\r",
      "evaluate: 9/50\r",
      "evaluate: 10/50\r",
      "evaluate: 11/50\r",
      "evaluate: 12/50\r",
      "evaluate: 13/50\r",
      "evaluate: 14/50\r",
      "evaluate: 15/50\r",
      "evaluate: 16/50\r",
      "evaluate: 17/50\r",
      "evaluate: 18/50\r",
      "evaluate: 19/50\r",
      "evaluate: 20/50\r",
      "evaluate: 21/50\r",
      "evaluate: 22/50\r",
      "evaluate: 23/50\r",
      "evaluate: 24/50\r",
      "evaluate: 25/50\r",
      "evaluate: 26/50\r",
      "evaluate: 27/50\r",
      "evaluate: 28/50\r",
      "evaluate: 29/50\r",
      "evaluate: 30/50\r",
      "evaluate: 31/50\r",
      "evaluate: 32/50\r",
      "evaluate: 33/50\r",
      "evaluate: 34/50\r",
      "evaluate: 35/50\r",
      "evaluate: 36/50\r",
      "evaluate: 37/50\r",
      "evaluate: 38/50\r",
      "evaluate: 39/50\r",
      "evaluate: 40/50\r",
      "evaluate: 41/50\r",
      "evaluate: 42/50\r",
      "evaluate: 43/50\r",
      "evaluate: 44/50\r",
      "evaluate: 45/50\r",
      "evaluate: 46/50\r",
      "evaluate: 47/50\r",
      "evaluate: 48/50\r",
      "evaluate: 49/50\r",
      "evaluate: 50/50 ok\n"
     ]
    },
    {
     "data": {
      "text/plain": [
       "{'losses': 9.966361235959727}"
      ]
     },
     "execution_count": 48,
     "metadata": {},
     "output_type": "execute_result"
    }
   ],
   "source": [
    "eval = trainer.evaluate(x_train,y_train)\n",
    "eval"
   ]
  },
  {
   "cell_type": "code",
   "execution_count": 49,
   "metadata": {
    "ExecuteTime": {
     "end_time": "2017-12-17T23:16:09.728110Z",
     "start_time": "2017-12-17T23:16:09.490782Z"
    }
   },
   "outputs": [
    {
     "data": {
      "text/plain": [
       "[<matplotlib.lines.Line2D at 0x11abecb70>,\n",
       " <matplotlib.lines.Line2D at 0x11abeccc0>]"
      ]
     },
     "execution_count": 49,
     "metadata": {},
     "output_type": "execute_result"
    },
    {
     "data": {
      "image/png": "[encoded data removed]",
      "text/plain": [
       "<matplotlib.figure.Figure at 0x11aa0a278>"
      ]
     },
     "metadata": {},
     "output_type": "display_data"
    }
   ],
   "source": [
    "train_loss = trainer.metrics['train']['losses']\n",
    "valid_loss = trainer.metrics['valid']['losses']\n",
    "epochs = np.arange(len(train_loss))\n",
    "plt.plot(epochs, train_loss,\n",
    "         epochs, valid_loss)"
   ]
  },
  {
   "cell_type": "code",
   "execution_count": 50,
   "metadata": {
    "ExecuteTime": {
     "end_time": "2017-12-17T23:16:09.769709Z",
     "start_time": "2017-12-17T23:16:09.760349Z"
    }
   },
   "outputs": [
    {
     "name": "stdout",
     "output_type": "stream",
     "text": [
      "MSE: 5.439531635087316\n",
      "RMSE: 2.33228035088\n"
     ]
    }
   ],
   "source": [
    "print('MSE:',valid_loss[-1])\n",
    "print('RMSE:', np.sqrt(valid_loss[-1]))"
   ]
  },
  {
   "cell_type": "markdown",
   "metadata": {},
   "source": [
    "# Exercícios"
   ]
  },
  {
   "cell_type": "markdown",
   "metadata": {
    "ExecuteTime": {
     "end_time": "2017-10-19T11:45:27.400682",
     "start_time": "2017-10-19T11:45:27.395525"
    }
   },
   "source": [
    "- Troque os hyperparâmetros para verificar se você consegue obter valores melhores. A forma de\n",
    "  escolha e alteração de parâmetros é algo que se aprende com a experiência. Procure fazer\n",
    "  sintonias finas, variando apenas um ou poucos parâmetros de cada vez.\n",
    "  \n",
    "  Parâmetros que podem ser trocados:\n",
    "  - learning rate\n",
    "  - n. de camadas\n",
    "  - n. de neurônios\n",
    "  - troca de função de ativação\n",
    "  - método de otimizador do gradiente descendente\n"
   ]
  },
  {
   "cell_type": "code",
   "execution_count": null,
   "metadata": {
    "collapsed": true
   },
   "outputs": [],
   "source": []
  }
 ],
 "metadata": {
  "kernelspec": {
   "display_name": "Python 3",
   "language": "python",
   "name": "python3"
  },
  "language_info": {
   "codemirror_mode": {
    "name": "ipython",
    "version": 3
   },
   "file_extension": ".py",
   "mimetype": "text/x-python",
   "name": "python",
   "nbconvert_exporter": "python",
   "pygments_lexer": "ipython3",
   "version": "3.6.0"
  },
  "toc": {
   "nav_menu": {},
   "number_sections": true,
   "sideBar": true,
   "skip_h1_title": false,
   "toc_cell": false,
   "toc_position": {},
   "toc_section_display": "block",
   "toc_window_display": false
  }
 },
 "nbformat": 4,
 "nbformat_minor": 2
}
