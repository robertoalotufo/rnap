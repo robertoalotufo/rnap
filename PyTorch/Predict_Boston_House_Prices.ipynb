{
 "cells": [
  {
   "cell_type": "markdown",
   "metadata": {},
   "source": [
    "# Estimativa preços de venda do dataset Boston_housing"
   ]
  },
  {
   "cell_type": "markdown",
   "metadata": {},
   "source": [
    "Um dos problemas clássicos de machine learning é a previsão dos preços das casas de Boston apresentado no final da década de 1970.\n",
    "\n",
    "Existe uma competição no Kaggle que utiliza este dataset:\n",
    "https://www.kaggle.com/c/boston-housing\n",
    "\n",
    "O objetivo desse notebook é fazer a previsão dos preços das casas utilizando uma rede neural com uma camada escondida de 40 neurônios.\n"
   ]
  },
  {
   "cell_type": "markdown",
   "metadata": {},
   "source": [
    "## Importação dos pacotes"
   ]
  },
  {
   "cell_type": "code",
   "execution_count": 1,
   "metadata": {
    "ExecuteTime": {
     "end_time": "2017-10-19T16:06:15.246707",
     "start_time": "2017-10-19T16:06:14.507674"
    }
   },
   "outputs": [
    {
     "name": "stdout",
     "output_type": "stream",
     "text": [
      "GPU available: True\n"
     ]
    }
   ],
   "source": [
    "%matplotlib inline\n",
    "import matplotlib.pyplot as plt\n",
    "import numpy as np\n",
    "\n",
    "import torch\n",
    "from torch import nn\n",
    "from torch.utils.data import DataLoader, TensorDataset\n",
    "from torch.optim.lr_scheduler import MultiStepLR, StepLR\n",
    "from torch.autograd import Variable\n",
    "\n",
    "import lib.pytorch_trainer as ptt\n",
    "\n",
    "use_gpu = torch.cuda.is_available()\n",
    "print('GPU available:', use_gpu)"
   ]
  },
  {
   "cell_type": "markdown",
   "metadata": {},
   "source": [
    "## Leitura do Dataset"
   ]
  },
  {
   "cell_type": "markdown",
   "metadata": {},
   "source": [
    "Leitura do Dataset já normalizado: [boston_housing.ipynb](boston_housing.ipynb)\n",
    "- **Atenção**: se houver erro em não achar o arquivo, executar o notebook boston_housing.ipynb"
   ]
  },
  {
   "cell_type": "code",
   "execution_count": 2,
   "metadata": {
    "ExecuteTime": {
     "end_time": "2017-10-19T16:06:16.097104",
     "start_time": "2017-10-19T16:06:16.091848"
    }
   },
   "outputs": [],
   "source": [
    "datain = np.load('../data/boston_housing_normalize.npz')\n",
    "\n",
    "x, y = datain['Xtra'], datain['ytra']"
   ]
  },
  {
   "cell_type": "code",
   "execution_count": 3,
   "metadata": {
    "ExecuteTime": {
     "end_time": "2017-10-19T16:06:16.795255",
     "start_time": "2017-10-19T16:06:16.790404"
    }
   },
   "outputs": [
    {
     "name": "stdout",
     "output_type": "stream",
     "text": [
      "n_samples: 506\n",
      "n_attributes: 13\n"
     ]
    }
   ],
   "source": [
    "n_samples, n_attributes = x.shape\n",
    "print('n_samples:', n_samples)\n",
    "print('n_attributes:', n_attributes)"
   ]
  },
  {
   "cell_type": "markdown",
   "metadata": {},
   "source": [
    "### Conversão para Tensor"
   ]
  },
  {
   "cell_type": "code",
   "execution_count": 4,
   "metadata": {
    "ExecuteTime": {
     "end_time": "2017-10-19T16:06:18.378731",
     "start_time": "2017-10-19T16:06:18.375468"
    }
   },
   "outputs": [],
   "source": [
    "x_train = torch.FloatTensor(x)\n",
    "y_train = torch.FloatTensor(y)"
   ]
  },
  {
   "cell_type": "markdown",
   "metadata": {},
   "source": [
    "## Rede, uma camada escondida de 40 neurônios"
   ]
  },
  {
   "cell_type": "code",
   "execution_count": 5,
   "metadata": {
    "ExecuteTime": {
     "end_time": "2017-10-19T16:07:27.802992",
     "start_time": "2017-10-19T16:07:27.790579"
    }
   },
   "outputs": [
    {
     "data": {
      "text/plain": [
       "Model (\n",
       "  (layer1): Linear (13 -> 40)\n",
       "  (ativ1): ReLU ()\n",
       "  (layer2): Linear (40 -> 1)\n",
       ")"
      ]
     },
     "execution_count": 5,
     "metadata": {},
     "output_type": "execute_result"
    }
   ],
   "source": [
    "class Model(nn.Module):\n",
    "    def __init__(self):\n",
    "        super(Model, self).__init__()\n",
    "        self.layer1 = nn.Linear(n_attributes, 40)\n",
    "        self.ativ1  = nn.ReLU()\n",
    "        self.layer2 = nn.Linear(40, 1)\n",
    "\n",
    "    def forward(self, x):\n",
    "        x = self.layer1(x)\n",
    "        x = self.ativ1(x)\n",
    "        x = self.layer2(x)\n",
    "        return x\n",
    "\n",
    "model = Model()\n",
    "if use_gpu:\n",
    "    model.cuda()\n",
    "model"
   ]
  },
  {
   "cell_type": "markdown",
   "metadata": {},
   "source": [
    "## Parâmetros do otimizador"
   ]
  },
  {
   "cell_type": "markdown",
   "metadata": {},
   "source": [
    "A escolha dos parâmetros para o treinamento é crítica. A escolha do learning rate,\n",
    "do método de ótimização, do tamanho do mini-batch, do número de camadas, do número de neurônios em\n",
    "cada camada, são todas críticas para o sucesso do estimador."
   ]
  },
  {
   "cell_type": "code",
   "execution_count": 6,
   "metadata": {
    "ExecuteTime": {
     "end_time": "2017-10-19T16:07:29.291119",
     "start_time": "2017-10-19T16:07:29.285454"
    }
   },
   "outputs": [],
   "source": [
    "criterion = nn.MSELoss()\n",
    "optimizer = torch.optim.SGD(model.parameters(), lr=0.0001, momentum=0.9, nesterov=True)\n",
    "savebest = ptt.ModelCheckpoint('../../models/bostonhousing',reset=True, verbose=1)\n",
    "\n",
    "trainer = ptt.DeepNetTrainer(\n",
    "        model =         model,\n",
    "        criterion =     criterion,\n",
    "        optimizer =     optimizer,\n",
    "        callbacks =     [savebest,ptt.PrintCallback()]\n",
    "        )"
   ]
  },
  {
   "cell_type": "markdown",
   "metadata": {},
   "source": [
    "## Treinamento"
   ]
  },
  {
   "cell_type": "code",
   "execution_count": 7,
   "metadata": {
    "ExecuteTime": {
     "end_time": "2017-10-19T16:07:32.977091",
     "start_time": "2017-10-19T16:07:30.837526"
    },
    "scrolled": false
   },
   "outputs": [
    {
     "name": "stdout",
     "output_type": "stream",
     "text": [
      "Start training for 60 epochs\n",
      "  1:   0.3s   T: 485.64477   V: 255.95408 best\n",
      "  2:   0.0s   T: 93.33496   V: 20.47292 best\n",
      "  3:   0.0s   T: 27.21996   V: 16.53130 best\n",
      "  4:   0.0s   T: 23.08813   V: 16.70944 \n",
      "  5:   0.0s   T: 21.61786   V: 16.60769 \n",
      "  6:   0.0s   T: 20.16970   V: 16.57279 \n",
      "  7:   0.0s   T: 19.37572   V: 17.10039 \n",
      "  8:   0.0s   T: 18.48626   V: 15.67437 best\n",
      "  9:   0.0s   T: 17.83855   V: 15.43886 best\n",
      " 10:   0.0s   T: 17.24217   V: 14.96298 best\n",
      " 11:   0.0s   T: 16.52250   V: 14.55654 best\n",
      " 12:   0.0s   T: 16.12699   V: 14.25677 best\n",
      " 13:   0.0s   T: 15.61224   V: 13.27481 best\n",
      " 14:   0.0s   T: 15.24562   V: 12.79816 best\n",
      " 15:   0.0s   T: 14.77031   V: 13.18845 \n",
      " 16:   0.0s   T: 14.47105   V: 11.74821 best\n",
      " 17:   0.0s   T: 14.26230   V: 11.25253 best\n",
      " 18:   0.0s   T: 13.77930   V: 10.72988 best\n",
      " 19:   0.0s   T: 13.44970   V: 10.82564 \n",
      " 20:   0.0s   T: 13.16751   V: 10.09915 best\n",
      " 21:   0.0s   T: 13.04803   V: 9.72564 best\n",
      " 22:   0.0s   T: 12.66951   V: 10.43595 \n",
      " 23:   0.0s   T: 12.32400   V: 9.96713 \n",
      " 24:   0.0s   T: 12.24204   V: 9.68223 best\n",
      " 25:   0.0s   T: 12.14557   V: 10.27841 \n",
      " 26:   0.0s   T: 12.22930   V: 9.55603 best\n",
      " 27:   0.0s   T: 11.83183   V: 9.24879 best\n",
      " 28:   0.0s   T: 11.66420   V: 9.63940 \n",
      " 29:   0.0s   T: 11.68233   V: 9.18672 best\n",
      " 30:   0.0s   T: 11.64658   V: 9.06921 best\n",
      " 31:   0.0s   T: 11.33965   V: 8.96427 best\n",
      " 32:   0.0s   T: 11.09859   V: 8.68119 best\n",
      " 33:   0.0s   T: 11.13780   V: 8.94804 \n",
      " 34:   0.0s   T: 10.87386   V: 8.80670 \n",
      " 35:   0.0s   T: 10.90829   V: 8.81067 \n",
      " 36:   0.0s   T: 10.63027   V: 8.94150 \n",
      " 37:   0.0s   T: 10.60676   V: 8.86745 \n",
      " 38:   0.0s   T: 10.57609   V: 8.74543 \n",
      " 39:   0.0s   T: 10.49941   V: 8.80078 \n",
      " 40:   0.0s   T: 10.29739   V: 9.39796 \n",
      " 41:   0.0s   T: 10.31516   V: 9.24086 \n",
      " 42:   0.0s   T: 10.45061   V: 8.77228 \n",
      " 43:   0.0s   T: 10.19014   V: 8.99977 \n",
      " 44:   0.0s   T: 10.27125   V: 8.87113 \n",
      " 45:   0.0s   T: 10.10684   V: 8.99182 \n",
      " 46:   0.0s   T: 9.81972   V: 8.95998 \n",
      " 47:   0.0s   T: 10.11399   V: 9.40271 \n",
      " 48:   0.0s   T: 9.83114   V: 9.13211 \n",
      " 49:   0.0s   T: 9.78041   V: 9.19978 \n",
      " 50:   0.0s   T: 9.72812   V: 9.22670 \n",
      " 51:   0.0s   T: 9.63025   V: 9.55912 \n",
      " 52:   0.0s   T: 9.57808   V: 9.38144 \n",
      " 53:   0.0s   T: 9.80871   V: 9.35468 \n",
      " 54:   0.0s   T: 9.39549   V: 9.35232 \n",
      " 55:   0.0s   T: 9.51500   V: 9.34380 \n",
      " 56:   0.0s   T: 9.63582   V: 9.97629 \n",
      " 57:   0.0s   T: 9.34669   V: 9.75639 \n",
      " 58:   0.0s   T: 9.20770   V: 9.91674 \n",
      " 59:   0.0s   T: 9.14558   V: 9.70145 \n",
      " 60:   0.0s   T: 9.06270   V: 9.61767 \n",
      "Best model was saved at epoch 32 with loss 8.68119: ../../models/bostonhousing\n",
      "Stop training at epoch: 60/60\n"
     ]
    }
   ],
   "source": [
    "trainer.fit(60, x_train, y_train, valid_split=0.2, shuffle=True, batch_size=10)"
   ]
  },
  {
   "cell_type": "markdown",
   "metadata": {},
   "source": [
    "## Avaliação"
   ]
  },
  {
   "cell_type": "code",
   "execution_count": 8,
   "metadata": {
    "ExecuteTime": {
     "end_time": "2017-10-19T16:07:43.477921",
     "start_time": "2017-10-19T16:07:43.291936"
    }
   },
   "outputs": [
    {
     "data": {
      "text/plain": [
       "[<matplotlib.lines.Line2D at 0x7f9920437cc0>,\n",
       " <matplotlib.lines.Line2D at 0x7f9920437e80>]"
      ]
     },
     "execution_count": 8,
     "metadata": {},
     "output_type": "execute_result"
    },
    {
     "data": {
      "image/png": "[encoded data removed]",
      "text/plain": [
       "<matplotlib.figure.Figure at 0x7f98b6c2a2b0>"
      ]
     },
     "metadata": {},
     "output_type": "display_data"
    }
   ],
   "source": [
    "train_loss = trainer.metrics['train']['losses']\n",
    "valid_loss = trainer.metrics['valid']['losses']\n",
    "epochs = np.arange(len(train_loss))\n",
    "plt.plot(epochs, np.log(train_loss),\n",
    "         epochs, np.log(valid_loss))"
   ]
  },
  {
   "cell_type": "code",
   "execution_count": 9,
   "metadata": {
    "ExecuteTime": {
     "end_time": "2017-10-19T16:07:51.890467",
     "start_time": "2017-10-19T16:07:51.886525"
    }
   },
   "outputs": [],
   "source": [
    "ptt.load_trainer_state('../../models/bostonhousing',trainer.model, trainer.metrics )"
   ]
  },
  {
   "cell_type": "code",
   "execution_count": 10,
   "metadata": {
    "ExecuteTime": {
     "end_time": "2017-10-19T16:07:52.810342",
     "start_time": "2017-10-19T16:07:52.775101"
    }
   },
   "outputs": [
    {
     "name": "stdout",
     "output_type": "stream",
     "text": [
      "\r",
      "evaluate: 0/50\r",
      "evaluate: 1/50\r",
      "evaluate: 2/50\r",
      "evaluate: 3/50\r",
      "evaluate: 4/50\r",
      "evaluate: 5/50\r",
      "evaluate: 6/50\r",
      "evaluate: 7/50\r",
      "evaluate: 8/50\r",
      "evaluate: 9/50\r",
      "evaluate: 10/50\r",
      "evaluate: 11/50\r",
      "evaluate: 12/50\r",
      "evaluate: 13/50\r",
      "evaluate: 14/50\r",
      "evaluate: 15/50\r",
      "evaluate: 16/50\r",
      "evaluate: 17/50\r",
      "evaluate: 18/50\r",
      "evaluate: 19/50\r",
      "evaluate: 20/50\r",
      "evaluate: 21/50\r",
      "evaluate: 22/50\r",
      "evaluate: 23/50\r",
      "evaluate: 24/50\r",
      "evaluate: 25/50\r",
      "evaluate: 26/50\r",
      "evaluate: 27/50\r",
      "evaluate: 28/50\r",
      "evaluate: 29/50\r",
      "evaluate: 30/50\r",
      "evaluate: 31/50\r",
      "evaluate: 32/50\r",
      "evaluate: 33/50\r",
      "evaluate: 34/50\r",
      "evaluate: 35/50\r",
      "evaluate: 36/50\r",
      "evaluate: 37/50\r",
      "evaluate: 38/50\r",
      "evaluate: 39/50\r",
      "evaluate: 40/50\r",
      "evaluate: 41/50\r",
      "evaluate: 42/50\r",
      "evaluate: 43/50\r",
      "evaluate: 44/50\r",
      "evaluate: 45/50\r",
      "evaluate: 46/50\r",
      "evaluate: 47/50\r",
      "evaluate: 48/50\r",
      "evaluate: 49/50\r",
      "evaluate: 50/50 ok\n"
     ]
    },
    {
     "data": {
      "text/plain": [
       "{'losses': 10.298332019756906}"
      ]
     },
     "execution_count": 10,
     "metadata": {},
     "output_type": "execute_result"
    }
   ],
   "source": [
    "trainer.evaluate(x_train,y_train)"
   ]
  },
  {
   "cell_type": "code",
   "execution_count": 11,
   "metadata": {
    "ExecuteTime": {
     "end_time": "2017-10-19T16:07:53.635677",
     "start_time": "2017-10-19T16:07:53.461879"
    }
   },
   "outputs": [
    {
     "data": {
      "text/plain": [
       "[<matplotlib.lines.Line2D at 0x7f98b6ce6da0>,\n",
       " <matplotlib.lines.Line2D at 0x7f98b6ce6f98>]"
      ]
     },
     "execution_count": 11,
     "metadata": {},
     "output_type": "execute_result"
    },
    {
     "data": {
      "image/png": "[encoded data removed]",
      "text/plain": [
       "<matplotlib.figure.Figure at 0x7f99204621d0>"
      ]
     },
     "metadata": {},
     "output_type": "display_data"
    }
   ],
   "source": [
    "train_loss = trainer.metrics['train']['losses']\n",
    "valid_loss = trainer.metrics['valid']['losses']\n",
    "epochs = np.arange(len(train_loss))\n",
    "plt.plot(epochs, train_loss,\n",
    "         epochs, valid_loss)"
   ]
  },
  {
   "cell_type": "code",
   "execution_count": 12,
   "metadata": {
    "ExecuteTime": {
     "end_time": "2017-10-19T16:08:01.149818",
     "start_time": "2017-10-19T16:08:01.145199"
    }
   },
   "outputs": [
    {
     "name": "stdout",
     "output_type": "stream",
     "text": [
      "MSE: 8.68118934584136\n",
      "RMSE: 2.94638581076\n"
     ]
    }
   ],
   "source": [
    "print('MSE:',valid_loss[-1])\n",
    "print('RMSE:', np.sqrt(valid_loss[-1]))"
   ]
  },
  {
   "cell_type": "markdown",
   "metadata": {},
   "source": [
    "# Exercícios"
   ]
  },
  {
   "cell_type": "markdown",
   "metadata": {
    "ExecuteTime": {
     "end_time": "2017-10-19T11:45:27.400682",
     "start_time": "2017-10-19T11:45:27.395525"
    }
   },
   "source": [
    "- Troque os hyperparâmetros para verificar se você consegue obter valores melhores. A forma de\n",
    "  escolha e alteração de parâmetros é algo que se aprende com a experiência. Procure fazer\n",
    "  sintonias finas, variando apenas um ou poucos parâmetros de cada vez.\n",
    "  \n",
    "  Parâmetros que podem ser trocados:\n",
    "  - learning rate\n",
    "  - n. de camadas\n",
    "  - n. de neurônios\n",
    "  - troca de função de ativação\n",
    "  - método de otimizador do gradiente descendente\n"
   ]
  },
  {
   "cell_type": "code",
   "execution_count": null,
   "metadata": {},
   "outputs": [],
   "source": []
  }
 ],
 "metadata": {
  "kernelspec": {
   "display_name": "Python 3",
   "language": "python",
   "name": "python3"
  },
  "language_info": {
   "codemirror_mode": {
    "name": "ipython",
    "version": 3
   },
   "file_extension": ".py",
   "mimetype": "text/x-python",
   "name": "python",
   "nbconvert_exporter": "python",
   "pygments_lexer": "ipython3",
   "version": "3.6.1"
  },
  "toc": {
   "nav_menu": {},
   "number_sections": true,
   "sideBar": true,
   "skip_h1_title": false,
   "toc_cell": false,
   "toc_position": {},
   "toc_section_display": "block",
   "toc_window_display": false
  }
 },
 "nbformat": 4,
 "nbformat_minor": 2
}
