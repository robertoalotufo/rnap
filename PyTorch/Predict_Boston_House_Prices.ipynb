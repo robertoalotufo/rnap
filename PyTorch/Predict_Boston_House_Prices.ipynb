{
 "cells": [
  {
   "cell_type": "markdown",
   "metadata": {},
   "source": [
    "# Estimativa preços de venda do dataset Boston_housing"
   ]
  },
  {
   "cell_type": "markdown",
   "metadata": {},
   "source": [
    "Um dos problemas clássicos de machine learning é a previsão dos preços das casas de Boston apresentado no final da década de 1970.\n",
    "\n",
    "Existe uma competição no Kaggle que utiliza este dataset:\n",
    "https://www.kaggle.com/c/boston-housing\n",
    "\n",
    "O objetivo desse notebook é fazer a previsão dos preços das casas utilizando uma rede neural com algumas camadas escondidas.\n"
   ]
  },
  {
   "cell_type": "markdown",
   "metadata": {},
   "source": [
    "## Importação dos pacotes"
   ]
  },
  {
   "cell_type": "code",
   "execution_count": 2,
   "metadata": {
    "ExecuteTime": {
     "end_time": "2018-08-21T22:57:40.904366Z",
     "start_time": "2018-08-21T22:57:39.677426Z"
    }
   },
   "outputs": [
    {
     "name": "stdout",
     "output_type": "stream",
     "text": [
      "GPU available: False\n"
     ]
    }
   ],
   "source": [
    "%matplotlib inline\n",
    "import matplotlib.pyplot as plt\n",
    "import numpy as np\n",
    "\n",
    "import torch\n",
    "from torch import nn\n",
    "from torch.utils.data import DataLoader, TensorDataset\n",
    "from torch.optim.lr_scheduler import MultiStepLR, StepLR\n",
    "\n",
    "import lib.pytorch_trainer_v2 as ptt\n",
    "\n",
    "use_gpu = torch.cuda.is_available()\n",
    "print('GPU available:', use_gpu)"
   ]
  },
  {
   "cell_type": "markdown",
   "metadata": {},
   "source": [
    "## Leitura do Dataset"
   ]
  },
  {
   "cell_type": "markdown",
   "metadata": {},
   "source": [
    "Leitura do Dataset já normalizado: [boston_housing.ipynb](boston_housing.ipynb)\n",
    "- **Atenção**: se houver erro em não achar o arquivo, executar o notebook boston_housing.ipynb"
   ]
  },
  {
   "cell_type": "code",
   "execution_count": 3,
   "metadata": {
    "ExecuteTime": {
     "end_time": "2018-08-21T22:57:47.375203Z",
     "start_time": "2018-08-21T22:57:47.361688Z"
    }
   },
   "outputs": [],
   "source": [
    "datain = np.load('../data/boston_housing_normalize.npz')\n",
    "\n",
    "x, y = datain['Xtra'], datain['ytra']"
   ]
  },
  {
   "cell_type": "code",
   "execution_count": 4,
   "metadata": {
    "ExecuteTime": {
     "end_time": "2018-08-21T22:57:49.182379Z",
     "start_time": "2018-08-21T22:57:49.175577Z"
    }
   },
   "outputs": [
    {
     "name": "stdout",
     "output_type": "stream",
     "text": [
      "n_samples: 506\n",
      "n_attributes: 13\n"
     ]
    }
   ],
   "source": [
    "n_samples, n_attributes = x.shape\n",
    "print('n_samples:', n_samples)\n",
    "print('n_attributes:', n_attributes)"
   ]
  },
  {
   "cell_type": "markdown",
   "metadata": {},
   "source": [
    "### Conversão para Tensor"
   ]
  },
  {
   "cell_type": "code",
   "execution_count": 5,
   "metadata": {
    "ExecuteTime": {
     "end_time": "2018-08-21T22:57:51.297866Z",
     "start_time": "2018-08-21T22:57:51.291713Z"
    }
   },
   "outputs": [],
   "source": [
    "x_train = torch.FloatTensor(x)\n",
    "y_train = torch.FloatTensor(y)"
   ]
  },
  {
   "cell_type": "markdown",
   "metadata": {},
   "source": [
    "## Rede"
   ]
  },
  {
   "cell_type": "code",
   "execution_count": 7,
   "metadata": {
    "ExecuteTime": {
     "end_time": "2018-08-21T22:59:25.809713Z",
     "start_time": "2018-08-21T22:59:25.782812Z"
    }
   },
   "outputs": [
    {
     "data": {
      "text/plain": [
       "Model(\n",
       "  (layer1): Linear(in_features=13, out_features=64, bias=True)\n",
       "  (layer2): Linear(in_features=64, out_features=64, bias=True)\n",
       "  (layer3): Linear(in_features=64, out_features=64, bias=True)\n",
       "  (layer4): Linear(in_features=64, out_features=1, bias=True)\n",
       ")"
      ]
     },
     "execution_count": 7,
     "metadata": {},
     "output_type": "execute_result"
    }
   ],
   "source": [
    "class Model(nn.Module):\n",
    "    def __init__(self):\n",
    "        super(Model, self).__init__()\n",
    "        self.layer1 = nn.Linear(n_attributes, 64)\n",
    "        self.layer2 = nn.Linear(64, 64)\n",
    "        self.layer3 = nn.Linear(64, 64)\n",
    "        self.layer4 = nn.Linear(64, 1)\n",
    "\n",
    "    def forward(self, x):\n",
    "        x = self.layer1(x)\n",
    "        x = nn.functional.selu(x)\n",
    "        x = nn.functional.dropout(x)\n",
    "        x = self.layer2(x)\n",
    "        x = nn.functional.selu(x)\n",
    "        x = nn.functional.dropout(x)\n",
    "        x = self.layer3(x)\n",
    "        x = nn.functional.selu(x)\n",
    "        x = nn.functional.dropout(x)\n",
    "        x = self.layer4(x)\n",
    "        return x\n",
    "\n",
    "model = Model()\n",
    "if use_gpu:\n",
    "    model.cuda()\n",
    "model"
   ]
  },
  {
   "cell_type": "markdown",
   "metadata": {},
   "source": [
    "## Parâmetros do otimizador"
   ]
  },
  {
   "cell_type": "markdown",
   "metadata": {},
   "source": [
    "A escolha dos parâmetros para o treinamento é crítica. A escolha do learning rate,\n",
    "do método de ótimização, do tamanho do mini-batch, do número de camadas, do número de neurônios em\n",
    "cada camada, são todas críticas para o sucesso do estimador."
   ]
  },
  {
   "cell_type": "code",
   "execution_count": 8,
   "metadata": {
    "ExecuteTime": {
     "end_time": "2018-08-21T22:59:34.693492Z",
     "start_time": "2018-08-21T22:59:34.669886Z"
    }
   },
   "outputs": [],
   "source": [
    "criterion = nn.MSELoss()\n",
    "optimizer = torch.optim.RMSprop(model.parameters(), lr=0.0005, alpha=0.7)\n",
    "savebest = ptt.ModelCheckpoint('../../models/bostonhousing',reset=True, verbose=1)\n",
    "\n",
    "trainer = ptt.DeepNetTrainer(\n",
    "        model =         model,\n",
    "        criterion =     criterion,\n",
    "        optimizer =     optimizer,\n",
    "        callbacks =     [savebest,ptt.PrintCallback()]\n",
    "        )"
   ]
  },
  {
   "cell_type": "markdown",
   "metadata": {},
   "source": [
    "## Treinamento"
   ]
  },
  {
   "cell_type": "code",
   "execution_count": 9,
   "metadata": {
    "ExecuteTime": {
     "end_time": "2018-08-21T22:59:53.925053Z",
     "start_time": "2018-08-21T22:59:41.135750Z"
    },
    "scrolled": false
   },
   "outputs": [
    {
     "name": "stdout",
     "output_type": "stream",
     "text": [
      "Start training for 50 epochs\n",
      "  1:   0.5s   T: 156.04656 *   V: 6.71998 *  \n",
      "  2:   0.2s   T: 18.95616 *   V: 6.98194    \n",
      "  3:   0.3s   T: 17.36549 *   V: 6.12331 *  \n",
      "  4:   0.3s   T: 15.77428 *   V: 5.62210 *  \n",
      "  5:   0.3s   T: 14.76643 *   V: 5.86391    \n",
      "  6:   0.2s   T: 14.07846 *   V: 5.64006    \n",
      "  7:   0.3s   T: 13.28713 *   V: 5.44351 *  \n",
      "  8:   0.3s   T: 13.01907 *   V: 6.32169    \n",
      "  9:   0.2s   T: 12.74608 *   V: 6.07890    \n",
      " 10:   0.3s   T: 12.40032 *   V: 4.99576 *  \n",
      " 11:   0.3s   T: 11.48492 *   V: 5.65089    \n",
      " 12:   0.2s   T: 11.43213 *   V: 4.55960 *  \n",
      " 13:   0.2s   T: 11.31665 *   V: 4.93928    \n",
      " 14:   0.2s   T: 10.70446 *   V: 4.23102 *  \n",
      " 15:   0.2s   T: 10.49471 *   V: 3.87195 *  \n",
      " 16:   0.2s   T: 10.12999 *   V: 4.15201    \n",
      " 17:   0.3s   T: 10.19280     V: 3.61108 *  \n",
      " 18:   0.2s   T: 9.63418 *   V: 3.66942    \n",
      " 19:   0.2s   T: 9.46021 *   V: 4.06815    \n",
      " 20:   0.2s   T: 9.35749 *   V: 3.62842    \n",
      " 21:   0.2s   T: 8.98910 *   V: 3.78351    \n",
      " 22:   0.2s   T: 8.98738 *   V: 3.16412 *  \n",
      " 23:   0.2s   T: 8.62791 *   V: 3.61162    \n",
      " 24:   0.2s   T: 8.52285 *   V: 3.46476    \n",
      " 25:   0.2s   T: 8.17406 *   V: 3.28018    \n",
      " 26:   0.2s   T: 8.13070 *   V: 3.54267    \n",
      " 27:   0.2s   T: 7.88274 *   V: 3.24697    \n",
      " 28:   0.2s   T: 8.13379     V: 3.24430    \n",
      " 29:   0.2s   T: 7.75753 *   V: 2.77337 *  \n",
      " 30:   0.2s   T: 7.99337     V: 2.97817    \n",
      " 31:   0.2s   T: 7.64914 *   V: 3.26701    \n",
      " 32:   0.2s   T: 6.74674 *   V: 4.00235    \n",
      " 33:   0.2s   T: 7.71436     V: 3.43434    \n",
      " 34:   0.3s   T: 7.24115     V: 3.47984    \n",
      " 35:   0.4s   T: 7.48415     V: 4.59990    \n",
      " 36:   0.3s   T: 7.17834     V: 3.69399    \n",
      " 37:   0.2s   T: 6.97363     V: 3.77113    \n",
      " 38:   0.3s   T: 7.39102     V: 3.96791    \n",
      " 39:   0.2s   T: 6.97384     V: 3.71097    \n",
      " 40:   0.3s   T: 6.77654     V: 3.36848    \n",
      " 41:   0.3s   T: 6.56925 *   V: 3.67525    \n",
      " 42:   0.2s   T: 6.72078     V: 3.87551    \n",
      " 43:   0.3s   T: 6.65340     V: 3.36663    \n",
      " 44:   0.2s   T: 6.39353 *   V: 3.63806    \n",
      " 45:   0.3s   T: 6.69670     V: 3.99198    \n",
      " 46:   0.2s   T: 6.55708     V: 3.61068    \n",
      " 47:   0.2s   T: 6.50617     V: 3.57562    \n",
      " 48:   0.3s   T: 6.47863     V: 3.97130    \n",
      " 49:   0.4s   T: 6.32285 *   V: 3.36705    \n",
      " 50:   0.2s   T: 6.05509 *   V: 3.23062    \n",
      "Best model was saved at epoch 29 with loss 2.77337: ../../models/bostonhousing\n",
      "Stop training at epoch: 50/50\n"
     ]
    }
   ],
   "source": [
    "trainer.fit(50, x_train, y_train, valid_split=0.2, shuffle=True, batch_size=2)"
   ]
  },
  {
   "cell_type": "markdown",
   "metadata": {},
   "source": [
    "## Avaliação"
   ]
  },
  {
   "cell_type": "code",
   "execution_count": 10,
   "metadata": {
    "ExecuteTime": {
     "end_time": "2018-08-21T22:59:58.625007Z",
     "start_time": "2018-08-21T22:59:58.274337Z"
    }
   },
   "outputs": [
    {
     "data": {
      "text/plain": [
       "[<matplotlib.lines.Line2D at 0x10b7ecc88>,\n",
       " <matplotlib.lines.Line2D at 0x10b7ecdd8>]"
      ]
     },
     "execution_count": 10,
     "metadata": {},
     "output_type": "execute_result"
    },
    {
     "data": {
      "image/png": "[encoded data removed]",
      "text/plain": [
       "<Figure size 432x288 with 1 Axes>"
      ]
     },
     "metadata": {},
     "output_type": "display_data"
    }
   ],
   "source": [
    "train_loss = trainer.metrics['train']['losses']\n",
    "valid_loss = trainer.metrics['valid']['losses']\n",
    "epochs = np.arange(len(train_loss))\n",
    "plt.plot(epochs, train_loss,\n",
    "         epochs, valid_loss)"
   ]
  },
  {
   "cell_type": "code",
   "execution_count": 11,
   "metadata": {
    "ExecuteTime": {
     "end_time": "2018-08-21T23:00:02.885336Z",
     "start_time": "2018-08-21T23:00:02.875799Z"
    }
   },
   "outputs": [],
   "source": [
    "trainer.load_state('../../models/bostonhousing')"
   ]
  },
  {
   "cell_type": "code",
   "execution_count": 12,
   "metadata": {
    "ExecuteTime": {
     "end_time": "2018-08-21T23:00:23.417513Z",
     "start_time": "2018-08-21T23:00:23.337274Z"
    }
   },
   "outputs": [
    {
     "name": "stdout",
     "output_type": "stream",
     "text": [
      "\r",
      "evaluate: 0/50\r",
      "evaluate: 1/50\r",
      "evaluate: 2/50\r",
      "evaluate: 3/50\r",
      "evaluate: 4/50\r",
      "evaluate: 5/50\r",
      "evaluate: 6/50\r",
      "evaluate: 7/50\r",
      "evaluate: 8/50\r",
      "evaluate: 9/50\r",
      "evaluate: 10/50\r",
      "evaluate: 11/50\r",
      "evaluate: 12/50\r",
      "evaluate: 13/50\r",
      "evaluate: 14/50\r",
      "evaluate: 15/50\r",
      "evaluate: 16/50\r",
      "evaluate: 17/50\r",
      "evaluate: 18/50\r",
      "evaluate: 19/50\r",
      "evaluate: 20/50\r",
      "evaluate: 21/50\r",
      "evaluate: 22/50\r",
      "evaluate: 23/50\r",
      "evaluate: 24/50\r",
      "evaluate: 25/50\r",
      "evaluate: 26/50\r",
      "evaluate: 27/50\r",
      "evaluate: 28/50\r",
      "evaluate: 29/50\r",
      "evaluate: 30/50\r",
      "evaluate: 31/50\r",
      "evaluate: 32/50\r",
      "evaluate: 33/50\r",
      "evaluate: 34/50\r",
      "evaluate: 35/50\r",
      "evaluate: 36/50\r",
      "evaluate: 37/50\r",
      "evaluate: 38/50\r",
      "evaluate: 39/50\r",
      "evaluate: 40/50\r",
      "evaluate: 41/50\r",
      "evaluate: 42/50\r",
      "evaluate: 43/50\r",
      "evaluate: 44/50\r",
      "evaluate: 45/50\r",
      "evaluate: 46/50\r",
      "evaluate: 47/50\r",
      "evaluate: 48/50\r",
      "evaluate: 49/50\r",
      "evaluate: 50/50 ok\n"
     ]
    },
    {
     "data": {
      "text/plain": [
       "{'losses': [1.4666555229383025]}"
      ]
     },
     "execution_count": 12,
     "metadata": {},
     "output_type": "execute_result"
    }
   ],
   "source": [
    "eval = trainer.evaluate(x_train,y_train)\n",
    "eval"
   ]
  },
  {
   "cell_type": "code",
   "execution_count": 13,
   "metadata": {
    "ExecuteTime": {
     "end_time": "2018-08-21T23:00:25.023931Z",
     "start_time": "2018-08-21T23:00:24.780553Z"
    }
   },
   "outputs": [
    {
     "data": {
      "text/plain": [
       "[<matplotlib.lines.Line2D at 0x119295898>,\n",
       " <matplotlib.lines.Line2D at 0x1192959e8>]"
      ]
     },
     "execution_count": 13,
     "metadata": {},
     "output_type": "execute_result"
    },
    {
     "data": {
      "image/png": "[encoded data removed]",
      "text/plain": [
       "<Figure size 432x288 with 1 Axes>"
      ]
     },
     "metadata": {},
     "output_type": "display_data"
    }
   ],
   "source": [
    "train_loss = trainer.metrics['train']['losses']\n",
    "valid_loss = trainer.metrics['valid']['losses']\n",
    "epochs = np.arange(len(train_loss))\n",
    "plt.plot(epochs, train_loss,\n",
    "         epochs, valid_loss)"
   ]
  },
  {
   "cell_type": "code",
   "execution_count": 14,
   "metadata": {
    "ExecuteTime": {
     "end_time": "2018-08-21T23:00:25.930325Z",
     "start_time": "2018-08-21T23:00:25.919140Z"
    }
   },
   "outputs": [
    {
     "name": "stdout",
     "output_type": "stream",
     "text": [
      "MSE: 2.7733680120862947\n",
      "RMSE: 1.6653432114991475\n"
     ]
    }
   ],
   "source": [
    "print('MSE:',valid_loss[-1])\n",
    "print('RMSE:', np.sqrt(valid_loss[-1]))"
   ]
  },
  {
   "cell_type": "markdown",
   "metadata": {},
   "source": [
    "# Exercícios"
   ]
  },
  {
   "cell_type": "markdown",
   "metadata": {
    "ExecuteTime": {
     "end_time": "2017-10-19T11:45:27.400682",
     "start_time": "2017-10-19T11:45:27.395525"
    }
   },
   "source": [
    "- Troque os hyperparâmetros para verificar se você consegue obter valores melhores. A forma de\n",
    "  escolha e alteração de parâmetros é algo que se aprende com a experiência. Procure fazer\n",
    "  sintonias finas, variando apenas um ou poucos parâmetros de cada vez.\n",
    "  \n",
    "  Parâmetros que podem ser trocados:\n",
    "  - learning rate\n",
    "  - n. de camadas\n",
    "  - n. de neurônios\n",
    "  - troca de função de ativação\n",
    "  - método de otimizador do gradiente descendente\n"
   ]
  },
  {
   "cell_type": "code",
   "execution_count": null,
   "metadata": {
    "collapsed": true
   },
   "outputs": [],
   "source": []
  }
 ],
 "metadata": {
  "kernelspec": {
   "display_name": "Python 3",
   "language": "python",
   "name": "python3"
  },
  "language_info": {
   "codemirror_mode": {
    "name": "ipython",
    "version": 3
   },
   "file_extension": ".py",
   "mimetype": "text/x-python",
   "name": "python",
   "nbconvert_exporter": "python",
   "pygments_lexer": "ipython3",
   "version": "3.6.5"
  },
  "toc": {
   "nav_menu": {},
   "number_sections": true,
   "sideBar": true,
   "skip_h1_title": false,
   "toc_cell": false,
   "toc_position": {},
   "toc_section_display": "block",
   "toc_window_display": false
  }
 },
 "nbformat": 4,
 "nbformat_minor": 2
}
