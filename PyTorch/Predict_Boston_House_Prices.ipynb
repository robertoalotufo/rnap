{
 "cells": [
  {
   "cell_type": "markdown",
   "metadata": {},
   "source": [
    "# Estimativa preços de venda do dataset Boston_housing"
   ]
  },
  {
   "cell_type": "markdown",
   "metadata": {},
   "source": [
    "## Importação dos pacotes"
   ]
  },
  {
   "cell_type": "code",
   "execution_count": 66,
   "metadata": {
    "ExecuteTime": {
     "end_time": "2017-10-18T20:51:20.404567Z",
     "start_time": "2017-10-18T20:51:20.385575Z"
    }
   },
   "outputs": [
    {
     "name": "stdout",
     "output_type": "stream",
     "text": [
      "GPU available: False\n"
     ]
    }
   ],
   "source": [
    "%matplotlib inline\n",
    "import matplotlib.pyplot as plt\n",
    "import numpy as np\n",
    "\n",
    "import torch\n",
    "from torch import nn\n",
    "from torch.utils.data import DataLoader, TensorDataset\n",
    "from torch.optim.lr_scheduler import MultiStepLR, StepLR\n",
    "from torch.autograd import Variable\n",
    "import torch.nn.functional as F\n",
    "\n",
    "import lib.pytorch_trainer as ptt\n",
    "\n",
    "use_gpu = torch.cuda.is_available()\n",
    "print('GPU available:', use_gpu)"
   ]
  },
  {
   "cell_type": "markdown",
   "metadata": {},
   "source": [
    "## Dataset - o arquivo foi gerado pelo notebook:"
   ]
  },
  {
   "cell_type": "markdown",
   "metadata": {},
   "source": [
    "Leitura e normalização do Dataset: [boston_housing.ipynb](boston_housing.ipynb)"
   ]
  },
  {
   "cell_type": "code",
   "execution_count": 2,
   "metadata": {
    "ExecuteTime": {
     "end_time": "2017-10-18T19:55:16.694139Z",
     "start_time": "2017-10-18T19:55:16.683782Z"
    },
    "collapsed": true
   },
   "outputs": [],
   "source": [
    "datain = np.load('../data/boston_housing_normalize.npz')\n",
    "\n",
    "x, y = datain['Xtra'], datain['ytra']"
   ]
  },
  {
   "cell_type": "code",
   "execution_count": 3,
   "metadata": {
    "ExecuteTime": {
     "end_time": "2017-10-18T19:57:25.173073Z",
     "start_time": "2017-10-18T19:57:25.167241Z"
    }
   },
   "outputs": [
    {
     "name": "stdout",
     "output_type": "stream",
     "text": [
      "n_samples: 506\n",
      "n_attributes: 13\n"
     ]
    }
   ],
   "source": [
    "n_samples, n_attributes = x.shape\n",
    "print('n_samples:', n_samples)\n",
    "print('n_attributes:', n_attributes)"
   ]
  },
  {
   "cell_type": "code",
   "execution_count": 6,
   "metadata": {
    "ExecuteTime": {
     "end_time": "2017-10-18T19:59:09.799475Z",
     "start_time": "2017-10-18T19:59:09.795154Z"
    },
    "collapsed": true
   },
   "outputs": [],
   "source": [
    "x_train = torch.FloatTensor(x)\n",
    "y_train = torch.FloatTensor(y)"
   ]
  },
  {
   "cell_type": "markdown",
   "metadata": {},
   "source": [
    "## Rede, uma camada de escondida de 40 neurônios"
   ]
  },
  {
   "cell_type": "code",
   "execution_count": 62,
   "metadata": {
    "ExecuteTime": {
     "end_time": "2017-10-18T20:43:47.350836Z",
     "start_time": "2017-10-18T20:43:47.334117Z"
    }
   },
   "outputs": [
    {
     "data": {
      "text/plain": [
       "Model (\n",
       "  (layer1): Linear (13 -> 40)\n",
       "  (layer2): Linear (40 -> 1)\n",
       ")"
      ]
     },
     "execution_count": 62,
     "metadata": {},
     "output_type": "execute_result"
    }
   ],
   "source": [
    "class Model(nn.Module):\n",
    "    def __init__(self):\n",
    "        super(Model, self).__init__()\n",
    "        self.layer1 = nn.Linear(n_attributes, 40)\n",
    "        self.layer2 = nn.Linear(40, 1)\n",
    "\n",
    "    def forward(self, x):\n",
    "        x = self.layer1(x)\n",
    "        x = F.relu(x)\n",
    "        x = self.layer2(x)\n",
    "        return x\n",
    "\n",
    "model = Model()\n",
    "if use_gpu:\n",
    "    model.cuda()\n",
    "model"
   ]
  },
  {
   "cell_type": "markdown",
   "metadata": {},
   "source": [
    "## Parâmetros do otimizador"
   ]
  },
  {
   "cell_type": "code",
   "execution_count": 63,
   "metadata": {
    "ExecuteTime": {
     "end_time": "2017-10-18T20:43:50.758900Z",
     "start_time": "2017-10-18T20:43:50.749332Z"
    },
    "collapsed": true
   },
   "outputs": [],
   "source": [
    "criterion = nn.MSELoss()\n",
    "optimizer = torch.optim.SGD(model.parameters(), lr=0.0001, momentum=0.9, nesterov=True)\n",
    "savebest = ptt.ModelCheckpoint('../../models/bostonhousing',reset=True, verbose=True)\n",
    "\n",
    "trainer = ptt.DeepNetTrainer(\n",
    "        model =         model,\n",
    "        criterion =     criterion,\n",
    "        optimizer =     optimizer,\n",
    "        callbacks =     [savebest]\n",
    "        #callbacks =     [PrintCallback()],\n",
    "        )"
   ]
  },
  {
   "cell_type": "markdown",
   "metadata": {},
   "source": [
    "## Treinamento"
   ]
  },
  {
   "cell_type": "code",
   "execution_count": 64,
   "metadata": {
    "ExecuteTime": {
     "end_time": "2017-10-18T20:43:56.997379Z",
     "start_time": "2017-10-18T20:43:53.275529Z"
    },
    "scrolled": false
   },
   "outputs": [
    {
     "name": "stdout",
     "output_type": "stream",
     "text": [
      "Best model was saved at epoch 34 with loss 8.35956: ../../models/bostonhousing\n"
     ]
    }
   ],
   "source": [
    "trainer.fit(100, x_train, y_train, valid_split=0.2, shuffle=True)"
   ]
  },
  {
   "cell_type": "markdown",
   "metadata": {},
   "source": [
    "## Avaliação"
   ]
  },
  {
   "cell_type": "code",
   "execution_count": 65,
   "metadata": {
    "ExecuteTime": {
     "end_time": "2017-10-18T20:43:59.423592Z",
     "start_time": "2017-10-18T20:43:59.200437Z"
    }
   },
   "outputs": [
    {
     "data": {
      "text/plain": [
       "[<matplotlib.lines.Line2D at 0x113bb17b8>,\n",
       " <matplotlib.lines.Line2D at 0x113bb19b0>]"
      ]
     },
     "execution_count": 65,
     "metadata": {},
     "output_type": "execute_result"
    },
    {
     "data": {
      "image/png": "[encoded data removed]",
      "text/plain": [
       "<matplotlib.figure.Figure at 0x113b65d30>"
      ]
     },
     "metadata": {},
     "output_type": "display_data"
    }
   ],
   "source": [
    "train_loss = trainer.metrics['train']['losses']\n",
    "valid_loss = trainer.metrics['valid']['losses']\n",
    "epochs = np.arange(len(train_loss))\n",
    "plt.plot(epochs, train_loss,\n",
    "         epochs, valid_loss)"
   ]
  },
  {
   "cell_type": "code",
   "execution_count": 73,
   "metadata": {
    "ExecuteTime": {
     "end_time": "2017-10-18T21:28:44.327317Z",
     "start_time": "2017-10-18T21:28:44.320964Z"
    }
   },
   "outputs": [],
   "source": [
    "metrics = {}\n",
    "ptt.load_trainer_state('../../models/bostonhousing',trainer.model, trainer.metrics )"
   ]
  },
  {
   "cell_type": "code",
   "execution_count": 75,
   "metadata": {
    "ExecuteTime": {
     "end_time": "2017-10-18T21:30:25.340673Z",
     "start_time": "2017-10-18T21:30:25.299486Z"
    }
   },
   "outputs": [
    {
     "name": "stdout",
     "output_type": "stream",
     "text": [
      "\r",
      "evaluate: 0/50\r",
      "evaluate: 1/50\r",
      "evaluate: 2/50\r",
      "evaluate: 3/50\r",
      "evaluate: 4/50\r",
      "evaluate: 5/50\r",
      "evaluate: 6/50\r",
      "evaluate: 7/50\r",
      "evaluate: 8/50\r",
      "evaluate: 9/50\r",
      "evaluate: 10/50\r",
      "evaluate: 11/50\r",
      "evaluate: 12/50\r",
      "evaluate: 13/50\r",
      "evaluate: 14/50\r",
      "evaluate: 15/50\r",
      "evaluate: 16/50\r",
      "evaluate: 17/50\r",
      "evaluate: 18/50\r",
      "evaluate: 19/50\r",
      "evaluate: 20/50\r",
      "evaluate: 21/50\r",
      "evaluate: 22/50\r",
      "evaluate: 23/50\r",
      "evaluate: 24/50\r",
      "evaluate: 25/50\r",
      "evaluate: 26/50\r",
      "evaluate: 27/50\r",
      "evaluate: 28/50\r",
      "evaluate: 29/50\r",
      "evaluate: 30/50\r",
      "evaluate: 31/50\r",
      "evaluate: 32/50\r",
      "evaluate: 33/50\r",
      "evaluate: 34/50\r",
      "evaluate: 35/50\r",
      "evaluate: 36/50\r",
      "evaluate: 37/50\r",
      "evaluate: 38/50\r",
      "evaluate: 39/50\r",
      "evaluate: 40/50\r",
      "evaluate: 41/50\r",
      "evaluate: 42/50\r",
      "evaluate: 43/50\r",
      "evaluate: 44/50\r",
      "evaluate: 45/50\r",
      "evaluate: 46/50\r",
      "evaluate: 47/50\r",
      "evaluate: 48/50\r",
      "evaluate: 49/50\r",
      "evaluate: 50/50 ok\n"
     ]
    },
    {
     "data": {
      "text/plain": [
       "{}"
      ]
     },
     "execution_count": 75,
     "metadata": {},
     "output_type": "execute_result"
    }
   ],
   "source": [
    "trainer.evaluate(x_train,y_train)"
   ]
  },
  {
   "cell_type": "code",
   "execution_count": null,
   "metadata": {
    "collapsed": true
   },
   "outputs": [],
   "source": []
  }
 ],
 "metadata": {
  "kernelspec": {
   "display_name": "Python 3",
   "language": "python",
   "name": "python3"
  },
  "language_info": {
   "codemirror_mode": {
    "name": "ipython",
    "version": 3
   },
   "file_extension": ".py",
   "mimetype": "text/x-python",
   "name": "python",
   "nbconvert_exporter": "python",
   "pygments_lexer": "ipython3",
   "version": "3.6.0"
  },
  "toc": {
   "nav_menu": {},
   "number_sections": true,
   "sideBar": true,
   "skip_h1_title": false,
   "toc_cell": false,
   "toc_position": {},
   "toc_section_display": "block",
   "toc_window_display": false
  }
 },
 "nbformat": 4,
 "nbformat_minor": 2
}
