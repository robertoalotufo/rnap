{
 "cells": [
  {
   "cell_type": "markdown",
   "metadata": {},
   "source": [
    "# Estimativa preços de venda do dataset Boston_housing"
   ]
  },
  {
   "cell_type": "markdown",
   "metadata": {},
   "source": [
    "Um dos problemas clássicos de machine learning é a previsão dos preços das casas de Boston apresentado no final da década de 1970.\n",
    "\n",
    "Existe uma competição no Kaggle que utiliza este dataset:\n",
    "https://www.kaggle.com/c/boston-housing\n",
    "\n",
    "O objetivo desse notebook é fazer a previsão dos preços das casas utilizando uma rede neural com uma camada escondida de 40 neurônios.\n"
   ]
  },
  {
   "cell_type": "markdown",
   "metadata": {},
   "source": [
    "## Importação dos pacotes"
   ]
  },
  {
   "cell_type": "code",
   "execution_count": 1,
   "metadata": {
    "ExecuteTime": {
     "end_time": "2017-10-19T16:06:15.246707",
     "start_time": "2017-10-19T16:06:14.507674"
    }
   },
   "outputs": [
    {
     "name": "stdout",
     "output_type": "stream",
     "text": [
      "GPU available: False\n"
     ]
    }
   ],
   "source": [
    "%matplotlib inline\n",
    "import matplotlib.pyplot as plt\n",
    "import numpy as np\n",
    "\n",
    "import torch\n",
    "from torch import nn\n",
    "from torch.utils.data import DataLoader, TensorDataset\n",
    "from torch.optim.lr_scheduler import MultiStepLR, StepLR\n",
    "from torch.autograd import Variable\n",
    "\n",
    "import lib.pytorch_trainer as ptt\n",
    "\n",
    "use_gpu = torch.cuda.is_available()\n",
    "print('GPU available:', use_gpu)"
   ]
  },
  {
   "cell_type": "markdown",
   "metadata": {},
   "source": [
    "## Leitura do Dataset"
   ]
  },
  {
   "cell_type": "markdown",
   "metadata": {},
   "source": [
    "Leitura do Dataset já normalizado: [boston_housing.ipynb](boston_housing.ipynb)\n",
    "- **Atenção**: se houver erro em não achar o arquivo, executar o notebook boston_housing.ipynb"
   ]
  },
  {
   "cell_type": "code",
   "execution_count": 2,
   "metadata": {
    "ExecuteTime": {
     "end_time": "2017-10-19T16:06:16.097104",
     "start_time": "2017-10-19T16:06:16.091848"
    },
    "collapsed": true
   },
   "outputs": [],
   "source": [
    "datain = np.load('../data/boston_housing_normalize.npz')\n",
    "\n",
    "x, y = datain['Xtra'], datain['ytra']"
   ]
  },
  {
   "cell_type": "code",
   "execution_count": 3,
   "metadata": {
    "ExecuteTime": {
     "end_time": "2017-10-19T16:06:16.795255",
     "start_time": "2017-10-19T16:06:16.790404"
    }
   },
   "outputs": [
    {
     "name": "stdout",
     "output_type": "stream",
     "text": [
      "n_samples: 506\n",
      "n_attributes: 13\n"
     ]
    }
   ],
   "source": [
    "n_samples, n_attributes = x.shape\n",
    "print('n_samples:', n_samples)\n",
    "print('n_attributes:', n_attributes)"
   ]
  },
  {
   "cell_type": "markdown",
   "metadata": {},
   "source": [
    "### Conversão para Tensor"
   ]
  },
  {
   "cell_type": "code",
   "execution_count": 4,
   "metadata": {
    "ExecuteTime": {
     "end_time": "2017-10-19T16:06:18.378731",
     "start_time": "2017-10-19T16:06:18.375468"
    },
    "collapsed": true
   },
   "outputs": [],
   "source": [
    "x_train = torch.FloatTensor(x)\n",
    "y_train = torch.FloatTensor(y)"
   ]
  },
  {
   "cell_type": "markdown",
   "metadata": {},
   "source": [
    "## Rede, uma camada escondida de 40 neurônios"
   ]
  },
  {
   "cell_type": "code",
   "execution_count": 9,
   "metadata": {
    "ExecuteTime": {
     "end_time": "2017-10-19T16:07:27.802992",
     "start_time": "2017-10-19T16:07:27.790579"
    }
   },
   "outputs": [
    {
     "data": {
      "text/plain": [
       "Model (\n",
       "  (layer1): Linear (13 -> 40)\n",
       "  (ativ1): ReLU ()\n",
       "  (layer2): Linear (40 -> 1)\n",
       ")"
      ]
     },
     "execution_count": 9,
     "metadata": {},
     "output_type": "execute_result"
    }
   ],
   "source": [
    "class Model(nn.Module):\n",
    "    def __init__(self):\n",
    "        super(Model, self).__init__()\n",
    "        self.layer1 = nn.Linear(n_attributes, 40)\n",
    "        self.ativ1  = nn.ReLU()\n",
    "        self.layer2 = nn.Linear(40, 1)\n",
    "\n",
    "    def forward(self, x):\n",
    "        x = self.layer1(x)\n",
    "        x = self.ativ1(x)\n",
    "        x = self.layer2(x)\n",
    "        return x\n",
    "\n",
    "model = Model()\n",
    "if use_gpu:\n",
    "    model.cuda()\n",
    "model"
   ]
  },
  {
   "cell_type": "markdown",
   "metadata": {},
   "source": [
    "## Parâmetros do otimizador"
   ]
  },
  {
   "cell_type": "markdown",
   "metadata": {},
   "source": [
    "A escolha dos parâmetros para o treinamento é crítica. A escolha do learning rate,\n",
    "do método de ótimização, do tamanho do mini-batch, do número de camadas, do número de neurônios em\n",
    "cada camada, são todas críticas para o sucesso do estimador."
   ]
  },
  {
   "cell_type": "code",
   "execution_count": 10,
   "metadata": {
    "ExecuteTime": {
     "end_time": "2017-10-19T16:07:29.291119",
     "start_time": "2017-10-19T16:07:29.285454"
    },
    "collapsed": true
   },
   "outputs": [],
   "source": [
    "criterion = nn.MSELoss()\n",
    "optimizer = torch.optim.SGD(model.parameters(), lr=0.0001, momentum=0.9, nesterov=True)\n",
    "savebest = ptt.ModelCheckpoint('../../models/bostonhousing',reset=True, verbose=True)\n",
    "\n",
    "trainer = ptt.DeepNetTrainer(\n",
    "        model =         model,\n",
    "        criterion =     criterion,\n",
    "        optimizer =     optimizer,\n",
    "        callbacks =     [savebest,ptt.PrintCallback()]\n",
    "        )"
   ]
  },
  {
   "cell_type": "markdown",
   "metadata": {},
   "source": [
    "## Treinamento"
   ]
  },
  {
   "cell_type": "code",
   "execution_count": 11,
   "metadata": {
    "ExecuteTime": {
     "end_time": "2017-10-19T16:07:32.977091",
     "start_time": "2017-10-19T16:07:30.837526"
    },
    "scrolled": false
   },
   "outputs": [
    {
     "name": "stdout",
     "output_type": "stream",
     "text": [
      "Start training for 60 epochs\n",
      "  1:   0.0s   T: 468.83251   V: 182.88720 best\n",
      "  2:   0.0s   T: 94.29165   V: 20.17867 best\n",
      "  3:   0.0s   T: 30.35625   V: 12.71947 best\n",
      "  4:   0.0s   T: 23.26583   V: 12.56687 best\n",
      "  5:   0.0s   T: 20.99705   V: 12.18597 best\n",
      "  6:   0.0s   T: 19.55620   V: 12.07727 best\n",
      "  7:   0.0s   T: 18.50999   V: 11.63718 best\n",
      "  8:   0.0s   T: 17.31703   V: 11.31055 best\n",
      "  9:   0.0s   T: 16.59785   V: 10.51864 best\n",
      " 10:   0.0s   T: 15.79993   V: 10.58900 \n",
      " 11:   0.0s   T: 15.15902   V: 10.69535 \n",
      " 12:   0.0s   T: 14.79031   V: 9.57824 best\n",
      " 13:   0.0s   T: 14.45834   V: 9.52772 best\n",
      " 14:   0.0s   T: 13.86659   V: 9.26318 best\n",
      " 15:   0.0s   T: 13.75825   V: 9.49959 \n",
      " 16:   0.0s   T: 13.21375   V: 8.99207 best\n",
      " 17:   0.0s   T: 13.00113   V: 9.04405 \n",
      " 18:   0.0s   T: 12.69768   V: 8.64405 best\n",
      " 19:   0.0s   T: 12.40066   V: 8.37456 best\n",
      " 20:   0.0s   T: 12.22684   V: 8.26789 best\n",
      " 21:   0.0s   T: 11.98909   V: 8.70873 \n",
      " 22:   0.0s   T: 11.81154   V: 8.45671 \n",
      " 23:   0.0s   T: 11.71325   V: 8.14601 best\n",
      " 24:   0.0s   T: 11.47460   V: 8.00630 best\n",
      " 25:   0.0s   T: 11.27119   V: 7.99374 best\n",
      " 26:   0.0s   T: 11.09361   V: 8.25277 \n",
      " 27:   0.0s   T: 11.26071   V: 8.21147 \n",
      " 28:   0.0s   T: 10.96967   V: 7.93593 best\n",
      " 29:   0.0s   T: 10.86246   V: 8.15809 \n",
      " 30:   0.0s   T: 10.85410   V: 8.48688 \n",
      " 31:   0.0s   T: 10.53803   V: 8.38802 \n",
      " 32:   0.0s   T: 10.63050   V: 7.92721 best\n",
      " 33:   0.0s   T: 10.47393   V: 8.27433 \n",
      " 34:   0.0s   T: 10.37098   V: 8.16209 \n",
      " 35:   0.0s   T: 10.39549   V: 8.16034 \n",
      " 36:   0.0s   T: 10.24865   V: 8.41182 \n",
      " 37:   0.0s   T: 10.20623   V: 8.24339 \n",
      " 38:   0.0s   T: 10.12199   V: 8.38888 \n",
      " 39:   0.0s   T: 9.97950   V: 8.40881 \n",
      " 40:   0.0s   T: 9.84839   V: 8.54211 \n",
      " 41:   0.0s   T: 9.98147   V: 8.44065 \n",
      " 42:   0.0s   T: 9.67170   V: 8.55942 \n",
      " 43:   0.0s   T: 9.75802   V: 8.20535 \n",
      " 44:   0.0s   T: 9.74317   V: 8.34433 \n",
      " 45:   0.0s   T: 9.65816   V: 8.17129 \n",
      " 46:   0.0s   T: 9.45630   V: 8.85078 \n",
      " 47:   0.0s   T: 9.49313   V: 8.15612 \n",
      " 48:   0.0s   T: 9.51213   V: 8.29791 \n",
      " 49:   0.0s   T: 9.39367   V: 8.50464 \n",
      " 50:   0.0s   T: 9.36151   V: 8.50917 \n",
      " 51:   0.0s   T: 9.40349   V: 8.50218 \n",
      " 52:   0.0s   T: 9.27302   V: 8.43613 \n",
      " 53:   0.0s   T: 9.17067   V: 8.27612 \n",
      " 54:   0.0s   T: 9.08164   V: 8.76211 \n",
      " 55:   0.0s   T: 9.19696   V: 8.62714 \n",
      " 56:   0.0s   T: 9.08604   V: 8.90322 \n",
      " 57:   0.0s   T: 8.98263   V: 8.68197 \n",
      " 58:   0.0s   T: 8.98224   V: 8.65408 \n",
      " 59:   0.0s   T: 9.03051   V: 8.88853 \n",
      " 60:   0.0s   T: 8.98524   V: 8.57268 \n",
      "Best model was saved at epoch 32 with loss 7.92721: ../../models/bostonhousing\n",
      "Stop training at epoch: 60/60\n"
     ]
    }
   ],
   "source": [
    "trainer.fit(60, x_train, y_train, valid_split=0.2, shuffle=True, batch_size=10)"
   ]
  },
  {
   "cell_type": "markdown",
   "metadata": {},
   "source": [
    "## Avaliação"
   ]
  },
  {
   "cell_type": "code",
   "execution_count": 12,
   "metadata": {
    "ExecuteTime": {
     "end_time": "2017-10-19T16:07:43.477921",
     "start_time": "2017-10-19T16:07:43.291936"
    }
   },
   "outputs": [
    {
     "data": {
      "text/plain": [
       "[<matplotlib.lines.Line2D at 0x110545588>,\n",
       " <matplotlib.lines.Line2D at 0x110545ef0>]"
      ]
     },
     "execution_count": 12,
     "metadata": {},
     "output_type": "execute_result"
    },
    {
     "data": {
      "image/png": "[encoded data removed]",
      "text/plain": [
       "<matplotlib.figure.Figure at 0x1103098d0>"
      ]
     },
     "metadata": {},
     "output_type": "display_data"
    }
   ],
   "source": [
    "train_loss = trainer.metrics['train']['losses']\n",
    "valid_loss = trainer.metrics['valid']['losses']\n",
    "epochs = np.arange(len(train_loss))\n",
    "plt.plot(epochs, np.log(train_loss),\n",
    "         epochs, np.log(valid_loss))"
   ]
  },
  {
   "cell_type": "code",
   "execution_count": 13,
   "metadata": {
    "ExecuteTime": {
     "end_time": "2017-10-19T16:07:51.890467",
     "start_time": "2017-10-19T16:07:51.886525"
    },
    "collapsed": true
   },
   "outputs": [],
   "source": [
    "ptt.load_trainer_state('../../models/bostonhousing',trainer.model, trainer.metrics )"
   ]
  },
  {
   "cell_type": "code",
   "execution_count": 14,
   "metadata": {
    "ExecuteTime": {
     "end_time": "2017-10-19T16:07:52.810342",
     "start_time": "2017-10-19T16:07:52.775101"
    }
   },
   "outputs": [
    {
     "name": "stdout",
     "output_type": "stream",
     "text": [
      "\r",
      "evaluate: 0/50\r",
      "evaluate: 1/50\r",
      "evaluate: 2/50\r",
      "evaluate: 3/50\r",
      "evaluate: 4/50\r",
      "evaluate: 5/50\r",
      "evaluate: 6/50\r",
      "evaluate: 7/50\r",
      "evaluate: 8/50\r",
      "evaluate: 9/50\r",
      "evaluate: 10/50\r",
      "evaluate: 11/50\r",
      "evaluate: 12/50\r",
      "evaluate: 13/50\r",
      "evaluate: 14/50\r",
      "evaluate: 15/50\r",
      "evaluate: 16/50\r",
      "evaluate: 17/50\r",
      "evaluate: 18/50\r",
      "evaluate: 19/50\r",
      "evaluate: 20/50\r",
      "evaluate: 21/50\r",
      "evaluate: 22/50\r",
      "evaluate: 23/50\r",
      "evaluate: 24/50\r",
      "evaluate: 25/50\r",
      "evaluate: 26/50\r",
      "evaluate: 27/50\r",
      "evaluate: 28/50\r",
      "evaluate: 29/50\r",
      "evaluate: 30/50\r",
      "evaluate: 31/50\r",
      "evaluate: 32/50\r",
      "evaluate: 33/50\r",
      "evaluate: 34/50\r",
      "evaluate: 35/50\r",
      "evaluate: 36/50\r",
      "evaluate: 37/50\r",
      "evaluate: 38/50\r",
      "evaluate: 39/50\r",
      "evaluate: 40/50\r",
      "evaluate: 41/50\r",
      "evaluate: 42/50\r",
      "evaluate: 43/50\r",
      "evaluate: 44/50\r",
      "evaluate: 45/50\r",
      "evaluate: 46/50\r",
      "evaluate: 47/50\r",
      "evaluate: 48/50\r",
      "evaluate: 49/50\r",
      "evaluate: 50/50 ok\n"
     ]
    },
    {
     "data": {
      "text/plain": [
       "{'loss': 0.019197035005571662}"
      ]
     },
     "execution_count": 14,
     "metadata": {},
     "output_type": "execute_result"
    }
   ],
   "source": [
    "trainer.evaluate(x_train,y_train)"
   ]
  },
  {
   "cell_type": "code",
   "execution_count": 15,
   "metadata": {
    "ExecuteTime": {
     "end_time": "2017-10-19T16:07:53.635677",
     "start_time": "2017-10-19T16:07:53.461879"
    }
   },
   "outputs": [
    {
     "data": {
      "text/plain": [
       "[<matplotlib.lines.Line2D at 0x11bc7d4e0>,\n",
       " <matplotlib.lines.Line2D at 0x11bc7d6d8>]"
      ]
     },
     "execution_count": 15,
     "metadata": {},
     "output_type": "execute_result"
    },
    {
     "data": {
      "image/png": "[encoded data removed]",
      "text/plain": [
       "<matplotlib.figure.Figure at 0x11bb31d30>"
      ]
     },
     "metadata": {},
     "output_type": "display_data"
    }
   ],
   "source": [
    "train_loss = trainer.metrics['train']['losses']\n",
    "valid_loss = trainer.metrics['valid']['losses']\n",
    "epochs = np.arange(len(train_loss))\n",
    "plt.plot(epochs, train_loss,\n",
    "         epochs, valid_loss)"
   ]
  },
  {
   "cell_type": "code",
   "execution_count": 16,
   "metadata": {
    "ExecuteTime": {
     "end_time": "2017-10-19T16:08:01.149818",
     "start_time": "2017-10-19T16:08:01.145199"
    }
   },
   "outputs": [
    {
     "name": "stdout",
     "output_type": "stream",
     "text": [
      "MSE: 7.9272105528576535\n",
      "RMSE: 2.81553024364\n"
     ]
    }
   ],
   "source": [
    "print('MSE:',valid_loss[-1])\n",
    "print('RMSE:', np.sqrt(valid_loss[-1]))"
   ]
  },
  {
   "cell_type": "markdown",
   "metadata": {},
   "source": [
    "# Exercícios"
   ]
  },
  {
   "cell_type": "markdown",
   "metadata": {
    "ExecuteTime": {
     "end_time": "2017-10-19T11:45:27.400682",
     "start_time": "2017-10-19T11:45:27.395525"
    }
   },
   "source": [
    "- Troque os hyperparâmetros para verificar se você consegue obter valores melhores. A forma de\n",
    "  escolha e alteração de parâmetros é algo que se aprende com a experiência. Procure fazer\n",
    "  sintonias finas, variando apenas um ou poucos parâmetros de cada vez.\n",
    "  \n",
    "  Parâmetros que podem ser trocados:\n",
    "  - learning rate\n",
    "  - n. de camadas\n",
    "  - n. de neurônios\n",
    "  - troca de função de ativação\n",
    "  - método de otimizador do gradiente descendente\n"
   ]
  },
  {
   "cell_type": "code",
   "execution_count": null,
   "metadata": {
    "collapsed": true
   },
   "outputs": [],
   "source": []
  }
 ],
 "metadata": {
  "kernelspec": {
   "display_name": "Python 3",
   "language": "python",
   "name": "python3"
  },
  "language_info": {
   "codemirror_mode": {
    "name": "ipython",
    "version": 3
   },
   "file_extension": ".py",
   "mimetype": "text/x-python",
   "name": "python",
   "nbconvert_exporter": "python",
   "pygments_lexer": "ipython3",
   "version": "3.6.0"
  },
  "toc": {
   "colors": {
    "hover_highlight": "#DAA520",
    "running_highlight": "#FF0000",
    "selected_highlight": "#FFD700"
   },
   "moveMenuLeft": true,
   "nav_menu": {},
   "navigate_menu": true,
   "number_sections": true,
   "sideBar": true,
   "skip_h1_title": false,
   "threshold": 4,
   "toc_cell": false,
   "toc_position": {},
   "toc_section_display": "block",
   "toc_window_display": false
  }
 },
 "nbformat": 4,
 "nbformat_minor": 2
}
