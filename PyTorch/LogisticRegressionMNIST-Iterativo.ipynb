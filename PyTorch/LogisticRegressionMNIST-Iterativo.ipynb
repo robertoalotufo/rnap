{
 "cells": [
  {
   "cell_type": "markdown",
   "metadata": {},
   "source": [
    "# Regressão Softmax com dados do MNIST"
   ]
  },
  {
   "cell_type": "markdown",
   "metadata": {},
   "source": [
    "## Objetivo"
   ]
  },
  {
   "cell_type": "markdown",
   "metadata": {},
   "source": [
    "O objetivo deste notebook é ilustrar o uso de praticamente a mesma rede desenvolvida para a classificação das flores Íris, porém agora com o problema de classificação de dígitos manuscritos utilizando o dataset MNIST.\n",
    "As principais diferenças são:\n",
    "- tipo do dado, agora imagem com muito atributos: 28 x 28 pixels\n",
    "- número de amostras, muito maior, 60 mil\n",
    "Neste exercício será possível a interpretação do significado dos parâmetros treinados"
   ]
  },
  {
   "cell_type": "markdown",
   "metadata": {},
   "source": [
    "## Importação das bibliotecas"
   ]
  },
  {
   "cell_type": "code",
   "execution_count": 1,
   "metadata": {
    "ExecuteTime": {
     "end_time": "2017-11-24T15:44:50.097111",
     "start_time": "2017-11-24T15:44:48.915046"
    }
   },
   "outputs": [],
   "source": [
    "%matplotlib inline\n",
    "import numpy as np\n",
    "import matplotlib.pyplot as plt\n",
    "import pandas as pd\n",
    "\n",
    "import torch\n",
    "from torch.autograd import Variable\n",
    "\n",
    "import torchvision"
   ]
  },
  {
   "cell_type": "markdown",
   "metadata": {},
   "source": [
    "## Carregamento dos dados do MNIST"
   ]
  },
  {
   "cell_type": "code",
   "execution_count": 2,
   "metadata": {
    "ExecuteTime": {
     "end_time": "2017-11-24T15:44:50.638218",
     "start_time": "2017-11-24T15:44:50.098808"
    }
   },
   "outputs": [
    {
     "name": "stdout",
     "output_type": "stream",
     "text": [
      "Amostras de treinamento: 60000\n",
      "\n",
      "Dimensões dos dados das imagens:    torch.Size([60000, 28, 28])\n",
      "Valores mínimo e máximo dos pixels: 0 255\n",
      "Tipo dos dados das imagens:         <class 'torch.ByteTensor'>\n",
      "Tipo das classes das imagens:       <class 'torch.LongTensor'>\n"
     ]
    }
   ],
   "source": [
    "dataset_dir = '/data/datasets/MNIST/'\n",
    "\n",
    "x_train, y_train = torch.load(dataset_dir + 'processed/training.pt')\n",
    "\n",
    "print(\"Amostras de treinamento:\", x_train.size(0))\n",
    "\n",
    "print(\"\\nDimensões dos dados das imagens:   \", x_train.size())\n",
    "print(\"Valores mínimo e máximo dos pixels:\", torch.min(x_train), torch.max(x_train))\n",
    "print(\"Tipo dos dados das imagens:        \", type(x_train))\n",
    "print(\"Tipo das classes das imagens:      \", type(y_train))"
   ]
  },
  {
   "cell_type": "markdown",
   "metadata": {},
   "source": [
    "### Carregamento, normalização e seleção dos dados do MNIST\n",
    "\n",
    "Neste exemplo utilizaremos apenas 1000 amostras de treinamento."
   ]
  },
  {
   "cell_type": "code",
   "execution_count": 3,
   "metadata": {
    "ExecuteTime": {
     "end_time": "2017-11-24T15:44:50.895668",
     "start_time": "2017-11-24T15:44:50.640110"
    }
   },
   "outputs": [
    {
     "name": "stdout",
     "output_type": "stream",
     "text": [
      "Amostras de treinamento: 1000\n",
      "\n",
      "Dimensões dos dados das imagens:    torch.Size([1000, 28, 28])\n",
      "Valores mínimo e máximo dos pixels: 0.0 1.0\n",
      "Tipo dos dados das imagens:         <class 'torch.FloatTensor'>\n",
      "Tipo das classes das imagens:       <class 'torch.LongTensor'>\n"
     ]
    }
   ],
   "source": [
    "x_train = x_train.float()\n",
    "\n",
    "x_train = x_train / 255.\n",
    "\n",
    "if True:\n",
    "    n_samples_train = 1000\n",
    "\n",
    "    x_train = x_train[:n_samples_train]\n",
    "    y_train = y_train[:n_samples_train]\n",
    "\n",
    "print(\"Amostras de treinamento:\", x_train.size(0))\n",
    "\n",
    "print(\"\\nDimensões dos dados das imagens:   \", x_train.size())\n",
    "print(\"Valores mínimo e máximo dos pixels:\", torch.min(x_train), torch.max(x_train))\n",
    "print(\"Tipo dos dados das imagens:        \", type(x_train))\n",
    "print(\"Tipo das classes das imagens:      \", type(y_train))"
   ]
  },
  {
   "cell_type": "markdown",
   "metadata": {},
   "source": [
    "### Visualizando os dados"
   ]
  },
  {
   "cell_type": "code",
   "execution_count": 4,
   "metadata": {
    "ExecuteTime": {
     "end_time": "2017-11-24T16:32:19.474568",
     "start_time": "2017-11-24T16:32:19.207270"
    }
   },
   "outputs": [
    {
     "data": {
      "text/plain": [
       "(-0.5, 232.5, 87.5, -0.5)"
      ]
     },
     "execution_count": 4,
     "metadata": {},
     "output_type": "execute_result"
    },
    {
     "data": {
      "image/png": "[encoded data removed]",
      "text/plain": [
       "<matplotlib.figure.Figure at 0x7f1eea92dda0>"
      ]
     },
     "metadata": {},
     "output_type": "display_data"
    }
   ],
   "source": [
    "n_samples = 24\n",
    "\n",
    "# cria um grid com as imagens\n",
    "grid = torchvision.utils.make_grid(x_train[:n_samples].unsqueeze(1), pad_value=1.0, padding=1)\n",
    "\n",
    "plt.figure(figsize=(15, 10))\n",
    "plt.imshow(grid.numpy().transpose(1, 2, 0))\n",
    "plt.axis('off')"
   ]
  },
  {
   "cell_type": "markdown",
   "metadata": {},
   "source": [
    "### Visualizando uma imagem com o matplotlib"
   ]
  },
  {
   "cell_type": "code",
   "execution_count": 5,
   "metadata": {
    "ExecuteTime": {
     "end_time": "2017-11-24T15:44:51.413232",
     "start_time": "2017-11-24T15:44:51.251376"
    }
   },
   "outputs": [
    {
     "name": "stdout",
     "output_type": "stream",
     "text": [
      "class: 5\n"
     ]
    },
    {
     "data": {
      "image/png": "[encoded data removed]",
      "text/plain": [
       "<matplotlib.figure.Figure at 0x7f1ee7103080>"
      ]
     },
     "metadata": {},
     "output_type": "display_data"
    }
   ],
   "source": [
    "image  = x_train[0]\n",
    "target = y_train[0]\n",
    "\n",
    "plt.imshow(image.numpy().reshape(28,28), cmap='gray')\n",
    "print('class:', target)"
   ]
  },
  {
   "cell_type": "markdown",
   "metadata": {},
   "source": [
    "## Modelo"
   ]
  },
  {
   "cell_type": "code",
   "execution_count": 6,
   "metadata": {
    "ExecuteTime": {
     "end_time": "2017-11-24T15:44:51.419287",
     "start_time": "2017-11-24T15:44:51.415065"
    }
   },
   "outputs": [],
   "source": [
    "model = torch.nn.Linear(28*28, 10) # 28*28 atributos de entrada e 10 neurônios na sáida"
   ]
  },
  {
   "cell_type": "markdown",
   "metadata": {},
   "source": [
    "### Testando um predict com poucas amostras"
   ]
  },
  {
   "cell_type": "code",
   "execution_count": null,
   "metadata": {},
   "outputs": [],
   "source": []
  },
  {
   "cell_type": "markdown",
   "metadata": {},
   "source": [
    "## Treinamento"
   ]
  },
  {
   "cell_type": "markdown",
   "metadata": {},
   "source": [
    "### Inicialização dos parâmetros"
   ]
  },
  {
   "cell_type": "code",
   "execution_count": 7,
   "metadata": {
    "ExecuteTime": {
     "end_time": "2017-11-24T15:44:51.425768",
     "start_time": "2017-11-24T15:44:51.420825"
    }
   },
   "outputs": [],
   "source": [
    "epochs = 100\n",
    "learningRate = 0.5\n",
    "\n",
    "# Utilizaremos CrossEntropyLoss como função de perda\n",
    "criterion = torch.nn.CrossEntropyLoss()\n",
    "\n",
    "# Gradiente descendente\n",
    "optimizer = torch.optim.SGD(model.parameters(), lr=learningRate)"
   ]
  },
  {
   "cell_type": "markdown",
   "metadata": {},
   "source": [
    "### Visualização do grafo computacional da perda (loss)"
   ]
  },
  {
   "cell_type": "code",
   "execution_count": 8,
   "metadata": {
    "ExecuteTime": {
     "end_time": "2017-11-24T16:28:18.101867",
     "start_time": "2017-11-24T16:28:18.062312"
    }
   },
   "outputs": [
    {
     "data": {
      "image/svg+xml": [
       "<?xml version=\"1.0\" encoding=\"UTF-8\" standalone=\"no\"?>\n",
       "<!DOCTYPE svg PUBLIC \"-//W3C//DTD SVG 1.1//EN\"\n",
       " \"http://www.w3.org/Graphics/SVG/1.1/DTD/svg11.dtd\">\n",
       "<!-- Generated by graphviz version 2.38.0 (20140413.2041)\n",
       " -->\n",
       "<!-- Title: %3 Pages: 1 -->\n",
       "<svg width=\"514pt\" height=\"283pt\"\n",
       " viewBox=\"0.00 0.00 514.00 283.00\" xmlns=\"http://www.w3.org/2000/svg\" xmlns:xlink=\"http://www.w3.org/1999/xlink\">\n",
       "<g id=\"graph0\" class=\"graph\" transform=\"scale(1 1) rotate(0) translate(4 279)\">\n",
       "<title>%3</title>\n",
       "<polygon fill=\"white\" stroke=\"none\" points=\"-4,4 -4,-279 510,-279 510,4 -4,4\"/>\n",
       "<!-- 139770761205464 -->\n",
       "<g id=\"node1\" class=\"node\"><title>139770761205464</title>\n",
       "<polygon fill=\"lightgrey\" stroke=\"black\" points=\"457,-21 345,-21 345,-0 457,-0 457,-21\"/>\n",
       "<text text-anchor=\"middle\" x=\"401\" y=\"-7.4\" font-family=\"Times,serif\" font-size=\"12.00\">NLLLossBackward</text>\n",
       "</g>\n",
       "<!-- 139770761205224 -->\n",
       "<g id=\"node2\" class=\"node\"><title>139770761205224</title>\n",
       "<polygon fill=\"lightgrey\" stroke=\"black\" points=\"349.5,-78 224.5,-78 224.5,-57 349.5,-57 349.5,-78\"/>\n",
       "<text text-anchor=\"middle\" x=\"287\" y=\"-64.4\" font-family=\"Times,serif\" font-size=\"12.00\">LogSoftmaxBackward</text>\n",
       "</g>\n",
       "<!-- 139770761205224&#45;&gt;139770761205464 -->\n",
       "<g id=\"edge1\" class=\"edge\"><title>139770761205224&#45;&gt;139770761205464</title>\n",
       "<path fill=\"none\" stroke=\"black\" d=\"M306.857,-56.9197C324.81,-48.2581 351.471,-35.3957 371.842,-25.5675\"/>\n",
       "<polygon fill=\"black\" stroke=\"black\" points=\"373.502,-28.6527 380.988,-21.155 370.46,-22.3481 373.502,-28.6527\"/>\n",
       "</g>\n",
       "<!-- 139770761204984 -->\n",
       "<g id=\"node3\" class=\"node\"><title>139770761204984</title>\n",
       "<polygon fill=\"lightgrey\" stroke=\"black\" points=\"236,-135 132,-135 132,-114 236,-114 236,-135\"/>\n",
       "<text text-anchor=\"middle\" x=\"184\" y=\"-121.4\" font-family=\"Times,serif\" font-size=\"12.00\">AddmmBackward</text>\n",
       "</g>\n",
       "<!-- 139770761204984&#45;&gt;139770761205224 -->\n",
       "<g id=\"edge2\" class=\"edge\"><title>139770761204984&#45;&gt;139770761205224</title>\n",
       "<path fill=\"none\" stroke=\"black\" d=\"M201.941,-113.92C217.942,-105.376 241.597,-92.7441 259.903,-82.9694\"/>\n",
       "<polygon fill=\"black\" stroke=\"black\" points=\"261.746,-85.9528 268.919,-78.155 258.449,-79.778 261.746,-85.9528\"/>\n",
       "</g>\n",
       "<!-- 139770697928376 -->\n",
       "<g id=\"node4\" class=\"node\"><title>139770697928376</title>\n",
       "<polygon fill=\"lightblue\" stroke=\"black\" points=\"54,-205 0,-205 0,-171 54,-171 54,-205\"/>\n",
       "<text text-anchor=\"middle\" x=\"27\" y=\"-191.4\" font-family=\"Times,serif\" font-size=\"12.00\">bias</text>\n",
       "<text text-anchor=\"middle\" x=\"27\" y=\"-178.4\" font-family=\"Times,serif\" font-size=\"12.00\"> (10)</text>\n",
       "</g>\n",
       "<!-- 139770697928376&#45;&gt;139770761204984 -->\n",
       "<g id=\"edge3\" class=\"edge\"><title>139770697928376&#45;&gt;139770761204984</title>\n",
       "<path fill=\"none\" stroke=\"black\" d=\"M54.0538,-174.773C57.0615,-173.474 60.0888,-172.193 63,-171 91.1081,-159.481 123.318,-147.423 147.435,-138.617\"/>\n",
       "<polygon fill=\"black\" stroke=\"black\" points=\"148.709,-141.878 156.911,-135.172 146.317,-135.299 148.709,-141.878\"/>\n",
       "</g>\n",
       "<!-- 139770761204504 -->\n",
       "<g id=\"node5\" class=\"node\"><title>139770761204504</title>\n",
       "<polygon fill=\"lightgrey\" stroke=\"black\" points=\"186,-198.5 72,-198.5 72,-177.5 186,-177.5 186,-198.5\"/>\n",
       "<text text-anchor=\"middle\" x=\"129\" y=\"-184.9\" font-family=\"Times,serif\" font-size=\"12.00\">TransposeBackward</text>\n",
       "</g>\n",
       "<!-- 139770761204504&#45;&gt;139770761204984 -->\n",
       "<g id=\"edge4\" class=\"edge\"><title>139770761204504&#45;&gt;139770761204984</title>\n",
       "<path fill=\"none\" stroke=\"black\" d=\"M137.594,-177.391C145.86,-168.148 158.543,-153.966 168.562,-142.763\"/>\n",
       "<polygon fill=\"black\" stroke=\"black\" points=\"171.228,-145.032 175.285,-135.245 166.01,-140.366 171.228,-145.032\"/>\n",
       "</g>\n",
       "<!-- 139770697927648 -->\n",
       "<g id=\"node6\" class=\"node\"><title>139770697927648</title>\n",
       "<polygon fill=\"lightblue\" stroke=\"black\" points=\"160.5,-275 97.5,-275 97.5,-241 160.5,-241 160.5,-275\"/>\n",
       "<text text-anchor=\"middle\" x=\"129\" y=\"-261.4\" font-family=\"Times,serif\" font-size=\"12.00\">weight</text>\n",
       "<text text-anchor=\"middle\" x=\"129\" y=\"-248.4\" font-family=\"Times,serif\" font-size=\"12.00\"> (10, 784)</text>\n",
       "</g>\n",
       "<!-- 139770697927648&#45;&gt;139770761204504 -->\n",
       "<g id=\"edge5\" class=\"edge\"><title>139770697927648&#45;&gt;139770761204504</title>\n",
       "<path fill=\"none\" stroke=\"black\" d=\"M129,-240.885C129,-231.309 129,-219.088 129,-208.912\"/>\n",
       "<polygon fill=\"black\" stroke=\"black\" points=\"132.5,-208.895 129,-198.895 125.5,-208.895 132.5,-208.895\"/>\n",
       "</g>\n",
       "<!-- 139770697458056 -->\n",
       "<g id=\"node7\" class=\"node\"><title>139770697458056</title>\n",
       "<polygon fill=\"orange\" stroke=\"black\" points=\"276,-198.5 204,-198.5 204,-177.5 276,-177.5 276,-198.5\"/>\n",
       "<text text-anchor=\"middle\" x=\"240\" y=\"-184.9\" font-family=\"Times,serif\" font-size=\"12.00\">(1000, 784)</text>\n",
       "</g>\n",
       "<!-- 139770697458056&#45;&gt;139770761204984 -->\n",
       "<g id=\"edge6\" class=\"edge\"><title>139770697458056&#45;&gt;139770761204984</title>\n",
       "<path fill=\"none\" stroke=\"black\" d=\"M231.25,-177.391C222.834,-168.148 209.92,-153.966 199.719,-142.763\"/>\n",
       "<polygon fill=\"black\" stroke=\"black\" points=\"202.194,-140.282 192.873,-135.245 197.018,-144.995 202.194,-140.282\"/>\n",
       "</g>\n",
       "<!-- 139770697460424 -->\n",
       "<g id=\"node8\" class=\"node\"><title>139770697460424</title>\n",
       "<polygon fill=\"orange\" stroke=\"black\" points=\"354,-198.5 294,-198.5 294,-177.5 354,-177.5 354,-198.5\"/>\n",
       "<text text-anchor=\"middle\" x=\"324\" y=\"-184.9\" font-family=\"Times,serif\" font-size=\"12.00\">(784, 10)</text>\n",
       "</g>\n",
       "<!-- 139770697460424&#45;&gt;139770761204984 -->\n",
       "<g id=\"edge7\" class=\"edge\"><title>139770697460424&#45;&gt;139770761204984</title>\n",
       "<path fill=\"none\" stroke=\"black\" d=\"M302.125,-177.391C278.7,-167.101 241.34,-150.689 214.916,-139.081\"/>\n",
       "<polygon fill=\"black\" stroke=\"black\" points=\"216.285,-135.859 205.721,-135.042 213.469,-142.268 216.285,-135.859\"/>\n",
       "</g>\n",
       "<!-- 139770764234312 -->\n",
       "<g id=\"node9\" class=\"node\"><title>139770764234312</title>\n",
       "<polygon fill=\"orange\" stroke=\"black\" points=\"320,-135 254,-135 254,-114 320,-114 320,-135\"/>\n",
       "<text text-anchor=\"middle\" x=\"287\" y=\"-121.4\" font-family=\"Times,serif\" font-size=\"12.00\">(1000, 10)</text>\n",
       "</g>\n",
       "<!-- 139770764234312&#45;&gt;139770761205224 -->\n",
       "<g id=\"edge8\" class=\"edge\"><title>139770764234312&#45;&gt;139770761205224</title>\n",
       "<path fill=\"none\" stroke=\"black\" d=\"M287,-113.92C287,-106.908 287,-97.1442 287,-88.4652\"/>\n",
       "<polygon fill=\"black\" stroke=\"black\" points=\"290.5,-88.3408 287,-78.3408 283.5,-88.3409 290.5,-88.3408\"/>\n",
       "</g>\n",
       "<!-- 139770697432200 -->\n",
       "<g id=\"node10\" class=\"node\"><title>139770697432200</title>\n",
       "<polygon fill=\"orange\" stroke=\"black\" points=\"404,-135 338,-135 338,-114 404,-114 404,-135\"/>\n",
       "<text text-anchor=\"middle\" x=\"371\" y=\"-121.4\" font-family=\"Times,serif\" font-size=\"12.00\">(1000, 10)</text>\n",
       "</g>\n",
       "<!-- 139770697432200&#45;&gt;139770761205224 -->\n",
       "<g id=\"edge9\" class=\"edge\"><title>139770697432200&#45;&gt;139770761205224</title>\n",
       "<path fill=\"none\" stroke=\"black\" d=\"M356.368,-113.92C343.678,-105.611 325.085,-93.4363 310.341,-83.7828\"/>\n",
       "<polygon fill=\"black\" stroke=\"black\" points=\"312.029,-80.7048 301.746,-78.155 308.195,-86.5611 312.029,-80.7048\"/>\n",
       "</g>\n",
       "<!-- 139770764695624 -->\n",
       "<g id=\"node11\" class=\"node\"><title>139770764695624</title>\n",
       "<polygon fill=\"orange\" stroke=\"black\" points=\"434,-78 368,-78 368,-57 434,-57 434,-78\"/>\n",
       "<text text-anchor=\"middle\" x=\"401\" y=\"-64.4\" font-family=\"Times,serif\" font-size=\"12.00\">(1000, 10)</text>\n",
       "</g>\n",
       "<!-- 139770764695624&#45;&gt;139770761205464 -->\n",
       "<g id=\"edge10\" class=\"edge\"><title>139770764695624&#45;&gt;139770761205464</title>\n",
       "<path fill=\"none\" stroke=\"black\" d=\"M401,-56.9197C401,-49.9083 401,-40.1442 401,-31.4652\"/>\n",
       "<polygon fill=\"black\" stroke=\"black\" points=\"404.5,-31.3408 401,-21.3408 397.5,-31.3409 404.5,-31.3408\"/>\n",
       "</g>\n",
       "<!-- 139770697502216 -->\n",
       "<g id=\"node12\" class=\"node\"><title>139770697502216</title>\n",
       "<polygon fill=\"orange\" stroke=\"black\" points=\"506,-78 452,-78 452,-57 506,-57 506,-78\"/>\n",
       "<text text-anchor=\"middle\" x=\"479\" y=\"-64.4\" font-family=\"Times,serif\" font-size=\"12.00\">(1000)</text>\n",
       "</g>\n",
       "<!-- 139770697502216&#45;&gt;139770761205464 -->\n",
       "<g id=\"edge11\" class=\"edge\"><title>139770697502216&#45;&gt;139770761205464</title>\n",
       "<path fill=\"none\" stroke=\"black\" d=\"M465.413,-56.9197C453.741,-48.6893 436.69,-36.6657 423.062,-27.0567\"/>\n",
       "<polygon fill=\"black\" stroke=\"black\" points=\"424.882,-24.0574 414.693,-21.155 420.848,-29.7782 424.882,-24.0574\"/>\n",
       "</g>\n",
       "</g>\n",
       "</svg>\n"
      ],
      "text/plain": [
       "<graphviz.dot.Digraph at 0x7f1ee6d1cc18>"
      ]
     },
     "execution_count": 8,
     "metadata": {},
     "output_type": "execute_result"
    }
   ],
   "source": [
    "y_pred = model(Variable(x_train.view(-1,28*28)))\n",
    "loss = criterion(y_pred, Variable(y_train))\n",
    "from lib.pytorch_visualize import make_dot\n",
    "p = make_dot(loss, dict(model.named_parameters()))\n",
    "p"
   ]
  },
  {
   "cell_type": "markdown",
   "metadata": {},
   "source": [
    "### Laço de treinamento dos pesos"
   ]
  },
  {
   "cell_type": "code",
   "execution_count": 9,
   "metadata": {
    "ExecuteTime": {
     "end_time": "2017-11-24T15:44:51.678678",
     "start_time": "2017-11-24T15:44:51.427695"
    }
   },
   "outputs": [
    {
     "data": {
      "image/png": "[encoded data removed]",
      "text/plain": [
       "<matplotlib.figure.Figure at 0x7f1ee6cb58d0>"
      ]
     },
     "metadata": {},
     "output_type": "display_data"
    }
   ],
   "source": [
    "from IPython import display\n",
    "a = 5\n",
    "losses = []\n",
    "fig = plt.figure(figsize=(18, 6))\n",
    "\n",
    "try:\n",
    "    for i in range(epochs):\n",
    "        # Transforma a entrada para uma dimensão\n",
    "        inputs = Variable(x_train.view(-1, 28 * 28))\n",
    "        # Predict da rede\n",
    "        outputs = model(inputs)\n",
    "\n",
    "        # calcula a perda\n",
    "        loss = criterion(outputs, Variable(y_train))\n",
    "\n",
    "        # zero, backpropagation, ajusta parâmetros pelo gradiente descendente\n",
    "        optimizer.zero_grad()\n",
    "        loss.backward()\n",
    "        optimizer.step()\n",
    "\n",
    "        losses.append(loss.data[0])\n",
    "        weights_d = model.weight.data[3].numpy().reshape(28,28)\n",
    "        weights_g = model.weight.grad.data[3].numpy().reshape(28,28)\n",
    "        ww = np.concatenate((weights_d,weights_g),1)\n",
    "        plt.imshow(ww.reshape((28,28*2)),cmap = 'gray')\n",
    "        display.display(fig)\n",
    "        display.clear_output(wait=True)\n",
    "        input(i)\n",
    "except KeyboardInterrupt:\n",
    "    pass"
   ]
  },
  {
   "cell_type": "code",
   "execution_count": 10,
   "metadata": {},
   "outputs": [
    {
     "data": {
      "text/plain": [
       "Variable containing:\n",
       "1.00000e-02 *\n",
       " 0.0000  0.0000  0.0000  ...   0.0000  0.0000  0.0000\n",
       " 0.0000  0.0000  0.0000  ...   0.0000  0.0000  0.0000\n",
       " 0.0000  0.0000  0.0000  ...   0.0000  0.0000  0.0000\n",
       "          ...             ⋱             ...          \n",
       " 0.0000  0.0000  0.0000  ...   0.0000  0.0000  0.0000\n",
       " 0.0000  0.0000  0.0000  ...   0.0000  0.0000  0.0000\n",
       " 0.0000  0.0000  0.0000  ...   0.0000  0.0000  0.0000\n",
       "[torch.FloatTensor of size 10x784]"
      ]
     },
     "execution_count": 10,
     "metadata": {},
     "output_type": "execute_result"
    }
   ],
   "source": [
    "model.weight.grad"
   ]
  },
  {
   "cell_type": "code",
   "execution_count": 11,
   "metadata": {
    "ExecuteTime": {
     "end_time": "2017-11-24T15:44:51.685301",
     "start_time": "2017-11-24T15:44:51.680419"
    }
   },
   "outputs": [
    {
     "name": "stdout",
     "output_type": "stream",
     "text": [
      "Final loss: 2.317106246948242\n"
     ]
    }
   ],
   "source": [
    "print('Final loss:', loss.data[0])"
   ]
  },
  {
   "cell_type": "markdown",
   "metadata": {},
   "source": [
    "### Visualizando gráfico de perda durante o treinamento"
   ]
  },
  {
   "cell_type": "code",
   "execution_count": 12,
   "metadata": {
    "ExecuteTime": {
     "end_time": "2017-11-24T15:44:56.787741",
     "start_time": "2017-11-24T15:44:56.627754"
    }
   },
   "outputs": [
    {
     "data": {
      "text/plain": [
       "[<matplotlib.lines.Line2D at 0x7f1f2c829a20>]"
      ]
     },
     "execution_count": 12,
     "metadata": {},
     "output_type": "execute_result"
    },
    {
     "data": {
      "image/png": "[encoded data removed]",
      "text/plain": [
       "<matplotlib.figure.Figure at 0x7f1ee6d16550>"
      ]
     },
     "metadata": {},
     "output_type": "display_data"
    }
   ],
   "source": [
    "plt.plot(losses)"
   ]
  },
  {
   "cell_type": "markdown",
   "metadata": {},
   "source": [
    "## Avaliação"
   ]
  },
  {
   "cell_type": "markdown",
   "metadata": {},
   "source": [
    "### Acurácia tanto no conjunto de treinamento como no conjunto de testes"
   ]
  },
  {
   "cell_type": "code",
   "execution_count": 13,
   "metadata": {
    "ExecuteTime": {
     "end_time": "2017-11-24T15:50:29.922115",
     "start_time": "2017-11-24T15:50:29.914004"
    }
   },
   "outputs": [
    {
     "name": "stdout",
     "output_type": "stream",
     "text": [
      "Accuracy: 0.643\n"
     ]
    }
   ],
   "source": [
    "def predict(model, input_data):\n",
    "    outputs = model(Variable(input_data))\n",
    "    _, predicts = torch.max(outputs, 1)\n",
    "    \n",
    "    return predicts.data\n",
    "\n",
    "y_pred = predict(model, x_train.view(-1, 28*28))\n",
    "accuracy = (y_pred.numpy() == y_train.numpy()).mean()\n",
    "print('Accuracy:', accuracy)"
   ]
  },
  {
   "cell_type": "markdown",
   "metadata": {},
   "source": [
    "### Matriz de confusão com dados de treinamento e teste"
   ]
  },
  {
   "cell_type": "code",
   "execution_count": 14,
   "metadata": {
    "ExecuteTime": {
     "end_time": "2017-11-24T15:51:40.706177",
     "start_time": "2017-11-24T15:51:40.679474"
    }
   },
   "outputs": [
    {
     "name": "stdout",
     "output_type": "stream",
     "text": [
      "Matriz de confusão:\n"
     ]
    },
    {
     "data": {
      "text/html": [
       "<div>\n",
       "<style>\n",
       "    .dataframe thead tr:only-child th {\n",
       "        text-align: right;\n",
       "    }\n",
       "\n",
       "    .dataframe thead th {\n",
       "        text-align: left;\n",
       "    }\n",
       "\n",
       "    .dataframe tbody tr th {\n",
       "        vertical-align: top;\n",
       "    }\n",
       "</style>\n",
       "<table border=\"1\" class=\"dataframe\">\n",
       "  <thead>\n",
       "    <tr style=\"text-align: right;\">\n",
       "      <th>col_0</th>\n",
       "      <th>0</th>\n",
       "      <th>1</th>\n",
       "      <th>2</th>\n",
       "      <th>3</th>\n",
       "      <th>4</th>\n",
       "      <th>5</th>\n",
       "      <th>6</th>\n",
       "      <th>7</th>\n",
       "      <th>8</th>\n",
       "      <th>9</th>\n",
       "    </tr>\n",
       "    <tr>\n",
       "      <th>row_0</th>\n",
       "      <th></th>\n",
       "      <th></th>\n",
       "      <th></th>\n",
       "      <th></th>\n",
       "      <th></th>\n",
       "      <th></th>\n",
       "      <th></th>\n",
       "      <th></th>\n",
       "      <th></th>\n",
       "      <th></th>\n",
       "    </tr>\n",
       "  </thead>\n",
       "  <tbody>\n",
       "    <tr>\n",
       "      <th>0</th>\n",
       "      <td>96</td>\n",
       "      <td>1</td>\n",
       "      <td>9</td>\n",
       "      <td>9</td>\n",
       "      <td>5</td>\n",
       "      <td>55</td>\n",
       "      <td>28</td>\n",
       "      <td>3</td>\n",
       "      <td>2</td>\n",
       "      <td>2</td>\n",
       "    </tr>\n",
       "    <tr>\n",
       "      <th>1</th>\n",
       "      <td>0</td>\n",
       "      <td>102</td>\n",
       "      <td>1</td>\n",
       "      <td>1</td>\n",
       "      <td>1</td>\n",
       "      <td>3</td>\n",
       "      <td>1</td>\n",
       "      <td>2</td>\n",
       "      <td>0</td>\n",
       "      <td>0</td>\n",
       "    </tr>\n",
       "    <tr>\n",
       "      <th>2</th>\n",
       "      <td>0</td>\n",
       "      <td>1</td>\n",
       "      <td>66</td>\n",
       "      <td>12</td>\n",
       "      <td>3</td>\n",
       "      <td>2</td>\n",
       "      <td>6</td>\n",
       "      <td>2</td>\n",
       "      <td>7</td>\n",
       "      <td>0</td>\n",
       "    </tr>\n",
       "    <tr>\n",
       "      <th>3</th>\n",
       "      <td>0</td>\n",
       "      <td>0</td>\n",
       "      <td>0</td>\n",
       "      <td>52</td>\n",
       "      <td>0</td>\n",
       "      <td>6</td>\n",
       "      <td>1</td>\n",
       "      <td>0</td>\n",
       "      <td>4</td>\n",
       "      <td>0</td>\n",
       "    </tr>\n",
       "    <tr>\n",
       "      <th>4</th>\n",
       "      <td>0</td>\n",
       "      <td>0</td>\n",
       "      <td>0</td>\n",
       "      <td>0</td>\n",
       "      <td>43</td>\n",
       "      <td>0</td>\n",
       "      <td>2</td>\n",
       "      <td>0</td>\n",
       "      <td>0</td>\n",
       "      <td>0</td>\n",
       "    </tr>\n",
       "    <tr>\n",
       "      <th>5</th>\n",
       "      <td>0</td>\n",
       "      <td>0</td>\n",
       "      <td>0</td>\n",
       "      <td>1</td>\n",
       "      <td>0</td>\n",
       "      <td>3</td>\n",
       "      <td>0</td>\n",
       "      <td>0</td>\n",
       "      <td>0</td>\n",
       "      <td>0</td>\n",
       "    </tr>\n",
       "    <tr>\n",
       "      <th>6</th>\n",
       "      <td>0</td>\n",
       "      <td>1</td>\n",
       "      <td>2</td>\n",
       "      <td>0</td>\n",
       "      <td>1</td>\n",
       "      <td>1</td>\n",
       "      <td>51</td>\n",
       "      <td>0</td>\n",
       "      <td>1</td>\n",
       "      <td>0</td>\n",
       "    </tr>\n",
       "    <tr>\n",
       "      <th>7</th>\n",
       "      <td>1</td>\n",
       "      <td>3</td>\n",
       "      <td>12</td>\n",
       "      <td>8</td>\n",
       "      <td>22</td>\n",
       "      <td>3</td>\n",
       "      <td>3</td>\n",
       "      <td>107</td>\n",
       "      <td>6</td>\n",
       "      <td>34</td>\n",
       "    </tr>\n",
       "    <tr>\n",
       "      <th>8</th>\n",
       "      <td>0</td>\n",
       "      <td>8</td>\n",
       "      <td>7</td>\n",
       "      <td>4</td>\n",
       "      <td>3</td>\n",
       "      <td>16</td>\n",
       "      <td>2</td>\n",
       "      <td>1</td>\n",
       "      <td>65</td>\n",
       "      <td>6</td>\n",
       "    </tr>\n",
       "    <tr>\n",
       "      <th>9</th>\n",
       "      <td>0</td>\n",
       "      <td>0</td>\n",
       "      <td>2</td>\n",
       "      <td>6</td>\n",
       "      <td>27</td>\n",
       "      <td>3</td>\n",
       "      <td>0</td>\n",
       "      <td>2</td>\n",
       "      <td>2</td>\n",
       "      <td>58</td>\n",
       "    </tr>\n",
       "  </tbody>\n",
       "</table>\n",
       "</div>"
      ],
      "text/plain": [
       "col_0   0    1   2   3   4   5   6    7   8   9\n",
       "row_0                                          \n",
       "0      96    1   9   9   5  55  28    3   2   2\n",
       "1       0  102   1   1   1   3   1    2   0   0\n",
       "2       0    1  66  12   3   2   6    2   7   0\n",
       "3       0    0   0  52   0   6   1    0   4   0\n",
       "4       0    0   0   0  43   0   2    0   0   0\n",
       "5       0    0   0   1   0   3   0    0   0   0\n",
       "6       0    1   2   0   1   1  51    0   1   0\n",
       "7       1    3  12   8  22   3   3  107   6  34\n",
       "8       0    8   7   4   3  16   2    1  65   6\n",
       "9       0    0   2   6  27   3   0    2   2  58"
      ]
     },
     "execution_count": 14,
     "metadata": {},
     "output_type": "execute_result"
    }
   ],
   "source": [
    "print('Matriz de confusão:')\n",
    "pd.crosstab(y_pred.numpy(), y_train.numpy())"
   ]
  },
  {
   "cell_type": "markdown",
   "metadata": {},
   "source": [
    "## Visualizando a matriz de pesos treinados"
   ]
  },
  {
   "cell_type": "markdown",
   "metadata": {},
   "source": [
    "Observe que a matriz de peso treinado para cada classe mostra a importância dos pesos associados aos caracteres de cada classe."
   ]
  },
  {
   "cell_type": "code",
   "execution_count": 15,
   "metadata": {
    "ExecuteTime": {
     "end_time": "2017-11-24T16:34:49.367135",
     "start_time": "2017-11-24T16:34:49.204452"
    }
   },
   "outputs": [
    {
     "name": "stdout",
     "output_type": "stream",
     "text": [
      "weights: torch.Size([10, 784])\n",
      "bias:    torch.Size([10])\n"
     ]
    },
    {
     "data": {
      "image/png": "[encoded data removed]",
      "text/plain": [
       "<matplotlib.figure.Figure at 0x7f1f2c89fc50>"
      ]
     },
     "metadata": {},
     "output_type": "display_data"
    }
   ],
   "source": [
    "weights = model.state_dict()['weight']\n",
    "print('weights:', weights.shape)\n",
    "\n",
    "bias = model.state_dict()['bias']\n",
    "print('bias:   ', bias.shape)\n",
    "\n",
    "# Visualizando pesos da classe 3\n",
    "plt.imshow(weights[3, :].numpy().reshape((28,28)),cmap = 'gray')\n",
    "plt.show()"
   ]
  },
  {
   "cell_type": "markdown",
   "metadata": {},
   "source": [
    "### Visualizando os pesos de todas as classes"
   ]
  },
  {
   "cell_type": "code",
   "execution_count": 16,
   "metadata": {
    "ExecuteTime": {
     "end_time": "2017-11-24T16:34:50.240218",
     "start_time": "2017-11-24T16:34:50.025515"
    }
   },
   "outputs": [
    {
     "data": {
      "image/png": "[encoded data removed]",
      "text/plain": [
       "<matplotlib.figure.Figure at 0x7f1f2c8048d0>"
      ]
     },
     "metadata": {},
     "output_type": "display_data"
    }
   ],
   "source": [
    "# cria um grid com as imagens\n",
    "grid = torchvision.utils.make_grid(weights.view(-1, 1, 28, 28), normalize=True, pad_value=1.0, padding=1, nrow=10)\n",
    "\n",
    "plt.figure(figsize=(15, 10))\n",
    "plt.imshow(grid.numpy().transpose(1, 2, 0))\n",
    "plt.axis('off');"
   ]
  },
  {
   "cell_type": "markdown",
   "metadata": {},
   "source": [
    "### Diagrama da regressão softmax com visualização dos pesos W"
   ]
  },
  {
   "cell_type": "markdown",
   "metadata": {},
   "source": [
    "<img src=\"../figures/RegressaoSoftmaxArgmaxNMIST.png\",width = 400>"
   ]
  },
  {
   "cell_type": "markdown",
   "metadata": {},
   "source": [
    "# Atividades"
   ]
  },
  {
   "cell_type": "markdown",
   "metadata": {},
   "source": [
    "## Exercícios"
   ]
  },
  {
   "cell_type": "markdown",
   "metadata": {},
   "source": [
    "- 1) Na configuração da figura acima, mostre os valores de z0 até z9, os valores das probabilidades y_hat, após o softmax, quando a rede recebe como entrada a nona amostra que contém o manuscrito do dígito '4':"
   ]
  },
  {
   "cell_type": "code",
   "execution_count": 17,
   "metadata": {
    "ExecuteTime": {
     "end_time": "2017-11-24T16:34:53.969413",
     "start_time": "2017-11-24T16:34:53.805978"
    }
   },
   "outputs": [
    {
     "name": "stdout",
     "output_type": "stream",
     "text": [
      "class: 4\n"
     ]
    },
    {
     "data": {
      "image/png": "[encoded data removed]",
      "text/plain": [
       "<matplotlib.figure.Figure at 0x7f1ee70702b0>"
      ]
     },
     "metadata": {},
     "output_type": "display_data"
    }
   ],
   "source": [
    "image  = x_train[9]\n",
    "target = y_train[9]\n",
    "\n",
    "plt.imshow(image.numpy().reshape(28,28), cmap='gray')\n",
    "print('class:', target)"
   ]
  },
  {
   "cell_type": "markdown",
   "metadata": {},
   "source": [
    "- 2) Insira código no laço do treinamento para que no final de cada época, \n",
    "     seja impresso: o número da época e a perda e a acurácia"
   ]
  },
  {
   "cell_type": "markdown",
   "metadata": {},
   "source": [
    "- 3) Insira código no laço do treinamento para visualização dos valores dos gradientes referentes à classe do dígito 4, no final de cada época."
   ]
  },
  {
   "cell_type": "markdown",
   "metadata": {
    "heading_collapsed": true
   },
   "source": [
    "## Perguntas"
   ]
  },
  {
   "cell_type": "markdown",
   "metadata": {
    "hidden": true
   },
   "source": [
    "1. Qual é o shape da matriz de entrada na rede?\n",
    "2. Qual é o shape da saída da rede?\n",
    "3. Qual é o número total de parâmetros da rede, incluindo o bias?"
   ]
  },
  {
   "cell_type": "markdown",
   "metadata": {},
   "source": [
    "# Aprendizados\n"
   ]
  },
  {
   "cell_type": "code",
   "execution_count": null,
   "metadata": {},
   "outputs": [],
   "source": [
    "\n",
    "\n",
    "\n"
   ]
  }
 ],
 "metadata": {
  "anaconda-cloud": {},
  "kernelspec": {
   "display_name": "Python 3",
   "language": "python",
   "name": "python3"
  },
  "language_info": {
   "codemirror_mode": {
    "name": "ipython",
    "version": 3
   },
   "file_extension": ".py",
   "mimetype": "text/x-python",
   "name": "python",
   "nbconvert_exporter": "python",
   "pygments_lexer": "ipython3",
   "version": "3.6.2"
  },
  "toc": {
   "nav_menu": {
    "height": "318px",
    "width": "252px"
   },
   "number_sections": true,
   "sideBar": true,
   "skip_h1_title": false,
   "toc_cell": false,
   "toc_position": {},
   "toc_section_display": "block",
   "toc_window_display": false
  }
 },
 "nbformat": 4,
 "nbformat_minor": 1
}
