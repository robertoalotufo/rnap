{
 "cells": [
  {
   "cell_type": "markdown",
   "metadata": {},
   "source": [
    "# Regressão Softmax com dados do MNIST"
   ]
  },
  {
   "cell_type": "markdown",
   "metadata": {},
   "source": [
    "## Objetivo"
   ]
  },
  {
   "cell_type": "markdown",
   "metadata": {},
   "source": [
    "O objetivo deste notebook é ilustrar o uso de praticamente a mesma rede desenvolvida para a classificação das flores Íris, porém agora com o problema de classificação de dígitos manuscritos utilizando o dataset MNIST.\n",
    "As principais diferenças são:\n",
    "- tipo do dado, agora imagem com muito atributos: 28 x 28 pixels\n",
    "- número de amostras, muito maior, 60 mil\n",
    "Neste exercício será possível a interpretação do significado dos parâmetros treinados"
   ]
  },
  {
   "cell_type": "markdown",
   "metadata": {},
   "source": [
    "## Importação das bibliotecas"
   ]
  },
  {
   "cell_type": "code",
   "execution_count": 22,
   "metadata": {
    "ExecuteTime": {
     "end_time": "2018-05-01T10:33:45.965595Z",
     "start_time": "2018-05-01T10:33:45.950247Z"
    },
    "collapsed": true
   },
   "outputs": [],
   "source": [
    "%matplotlib inline\n",
    "import numpy as np\n",
    "import matplotlib.pyplot as plt\n",
    "import pandas as pd\n",
    "\n",
    "import torch\n",
    "from torch.autograd import Variable\n",
    "\n",
    "import torchvision"
   ]
  },
  {
   "cell_type": "markdown",
   "metadata": {},
   "source": [
    "## Carregamento dos dados do MNIST"
   ]
  },
  {
   "cell_type": "code",
   "execution_count": 23,
   "metadata": {
    "ExecuteTime": {
     "end_time": "2018-05-01T10:33:46.124968Z",
     "start_time": "2018-05-01T10:33:45.968284Z"
    }
   },
   "outputs": [
    {
     "name": "stdout",
     "output_type": "stream",
     "text": [
      "Amostras de treinamento: 60000\n",
      "\n",
      "Dimensões dos dados das imagens:    torch.Size([60000, 28, 28])\n",
      "Valores mínimo e máximo dos pixels: 0 255\n",
      "Tipo dos dados das imagens:         <class 'torch.ByteTensor'>\n",
      "Tipo das classes das imagens:       <class 'torch.LongTensor'>\n"
     ]
    }
   ],
   "source": [
    "dataset_dir = '/data/datasets/MNIST/'\n",
    "\n",
    "x_train, y_train = torch.load(dataset_dir + 'processed/training.pt')\n",
    "\n",
    "print(\"Amostras de treinamento:\", x_train.size(0))\n",
    "\n",
    "print(\"\\nDimensões dos dados das imagens:   \", x_train.size())\n",
    "print(\"Valores mínimo e máximo dos pixels:\", torch.min(x_train), torch.max(x_train))\n",
    "print(\"Tipo dos dados das imagens:        \", type(x_train))\n",
    "print(\"Tipo das classes das imagens:      \", type(y_train))"
   ]
  },
  {
   "cell_type": "markdown",
   "metadata": {},
   "source": [
    "### Carregamento, normalização e seleção dos dados do MNIST\n",
    "\n",
    "Neste exemplo utilizaremos apenas 1000 amostras de treinamento."
   ]
  },
  {
   "cell_type": "code",
   "execution_count": 24,
   "metadata": {
    "ExecuteTime": {
     "end_time": "2018-05-01T10:33:46.739850Z",
     "start_time": "2018-05-01T10:33:46.128059Z"
    }
   },
   "outputs": [
    {
     "name": "stdout",
     "output_type": "stream",
     "text": [
      "Amostras de treinamento: 60000\n",
      "\n",
      "Dimensões dos dados das imagens:    torch.Size([60000, 28, 28])\n",
      "Valores mínimo e máximo dos pixels: 0.0 1.0\n",
      "Tipo dos dados das imagens:         <class 'torch.FloatTensor'>\n",
      "Tipo das classes das imagens:       <class 'torch.LongTensor'>\n"
     ]
    }
   ],
   "source": [
    "x_train = x_train.float()\n",
    "\n",
    "x_train = x_train / 255.\n",
    "\n",
    "if False:\n",
    "    n_samples_train = 1000\n",
    "\n",
    "    x_train = x_train[:n_samples_train]\n",
    "    y_train = y_train[:n_samples_train]\n",
    "\n",
    "print(\"Amostras de treinamento:\", x_train.size(0))\n",
    "\n",
    "print(\"\\nDimensões dos dados das imagens:   \", x_train.size())\n",
    "print(\"Valores mínimo e máximo dos pixels:\", torch.min(x_train), torch.max(x_train))\n",
    "print(\"Tipo dos dados das imagens:        \", type(x_train))\n",
    "print(\"Tipo das classes das imagens:      \", type(y_train))"
   ]
  },
  {
   "cell_type": "markdown",
   "metadata": {},
   "source": [
    "### Visualizando os dados"
   ]
  },
  {
   "cell_type": "code",
   "execution_count": 25,
   "metadata": {
    "ExecuteTime": {
     "end_time": "2018-05-01T10:33:47.161237Z",
     "start_time": "2018-05-01T10:33:46.742413Z"
    }
   },
   "outputs": [
    {
     "data": {
      "text/plain": [
       "(-0.5, 232.5, 87.5, -0.5)"
      ]
     },
     "execution_count": 25,
     "metadata": {},
     "output_type": "execute_result"
    },
    {
     "data": {
      "image/png": "[encoded data removed]",
      "text/plain": [
       "<matplotlib.figure.Figure at 0x1290e56d8>"
      ]
     },
     "metadata": {},
     "output_type": "display_data"
    }
   ],
   "source": [
    "n_samples = 24\n",
    "\n",
    "# cria um grid com as imagens\n",
    "grid = torchvision.utils.make_grid(x_train[:n_samples].unsqueeze(1), pad_value=1.0, padding=1)\n",
    "\n",
    "plt.figure(figsize=(15, 10))\n",
    "plt.imshow(grid.numpy().transpose(1, 2, 0))\n",
    "plt.axis('off')"
   ]
  },
  {
   "cell_type": "code",
   "execution_count": 26,
   "metadata": {
    "ExecuteTime": {
     "end_time": "2018-05-01T10:33:47.172340Z",
     "start_time": "2018-05-01T10:33:47.163764Z"
    }
   },
   "outputs": [
    {
     "data": {
      "text/plain": [
       "torch.Size([24, 1, 28, 28])"
      ]
     },
     "execution_count": 26,
     "metadata": {},
     "output_type": "execute_result"
    }
   ],
   "source": [
    "x_train[:n_samples].unsqueeze(1).shape"
   ]
  },
  {
   "cell_type": "markdown",
   "metadata": {},
   "source": [
    "### Visualizando uma imagem com o matplotlib"
   ]
  },
  {
   "cell_type": "code",
   "execution_count": 27,
   "metadata": {
    "ExecuteTime": {
     "end_time": "2018-05-01T10:33:47.387495Z",
     "start_time": "2018-05-01T10:33:47.175361Z"
    }
   },
   "outputs": [
    {
     "name": "stdout",
     "output_type": "stream",
     "text": [
      "class: 5\n"
     ]
    },
    {
     "data": {
      "image/png": "[encoded data removed]",
      "text/plain": [
       "<matplotlib.figure.Figure at 0x1291110b8>"
      ]
     },
     "metadata": {},
     "output_type": "display_data"
    }
   ],
   "source": [
    "image  = x_train[0]\n",
    "target = y_train[0]\n",
    "\n",
    "plt.imshow(image.numpy().reshape(28,28), cmap='gray')\n",
    "print('class:', target)"
   ]
  },
  {
   "cell_type": "markdown",
   "metadata": {},
   "source": [
    "## Modelo"
   ]
  },
  {
   "cell_type": "code",
   "execution_count": 28,
   "metadata": {
    "ExecuteTime": {
     "end_time": "2018-05-01T10:33:47.394399Z",
     "start_time": "2018-05-01T10:33:47.390216Z"
    },
    "collapsed": true
   },
   "outputs": [],
   "source": [
    "model = torch.nn.Linear(28*28, 10) # 28*28 atributos de entrada e 10 neurônios na sáida"
   ]
  },
  {
   "cell_type": "markdown",
   "metadata": {},
   "source": [
    "### Testando um predict com poucas amostras"
   ]
  },
  {
   "cell_type": "code",
   "execution_count": null,
   "metadata": {
    "collapsed": true
   },
   "outputs": [],
   "source": []
  },
  {
   "cell_type": "markdown",
   "metadata": {},
   "source": [
    "## Treinamento"
   ]
  },
  {
   "cell_type": "markdown",
   "metadata": {},
   "source": [
    "### Inicialização dos parâmetros"
   ]
  },
  {
   "cell_type": "code",
   "execution_count": 29,
   "metadata": {
    "ExecuteTime": {
     "end_time": "2018-05-01T10:33:47.402537Z",
     "start_time": "2018-05-01T10:33:47.397121Z"
    },
    "collapsed": true
   },
   "outputs": [],
   "source": [
    "epochs = 100\n",
    "learningRate = 0.8\n",
    "\n",
    "# Utilizaremos CrossEntropyLoss como função de perda\n",
    "criterion = torch.nn.CrossEntropyLoss()\n",
    "\n",
    "# Gradiente descendente\n",
    "optimizer = torch.optim.SGD(model.parameters(), lr=learningRate)"
   ]
  },
  {
   "cell_type": "markdown",
   "metadata": {},
   "source": [
    "### Visualização do grafo computacional da perda (loss)"
   ]
  },
  {
   "cell_type": "code",
   "execution_count": 30,
   "metadata": {
    "ExecuteTime": {
     "end_time": "2018-05-01T10:33:47.582029Z",
     "start_time": "2018-05-01T10:33:47.405118Z"
    }
   },
   "outputs": [
    {
     "data": {
      "image/svg+xml": [
       "<?xml version=\"1.0\" encoding=\"UTF-8\" standalone=\"no\"?>\n",
       "<!DOCTYPE svg PUBLIC \"-//W3C//DTD SVG 1.1//EN\"\n",
       " \"http://www.w3.org/Graphics/SVG/1.1/DTD/svg11.dtd\">\n",
       "<!-- Generated by graphviz version 2.38.0 (20140413.2041)\n",
       " -->\n",
       "<!-- Title: %3 Pages: 1 -->\n",
       "<svg width=\"200pt\" height=\"264pt\"\n",
       " viewBox=\"0.00 0.00 199.64 264.00\" xmlns=\"http://www.w3.org/2000/svg\" xmlns:xlink=\"http://www.w3.org/1999/xlink\">\n",
       "<g id=\"graph0\" class=\"graph\" transform=\"scale(1 1) rotate(0) translate(4 260)\">\n",
       "<title>%3</title>\n",
       "<polygon fill=\"white\" stroke=\"none\" points=\"-4,4 -4,-260 195.638,-260 195.638,4 -4,4\"/>\n",
       "<!-- 4988056632 -->\n",
       "<g id=\"node1\" class=\"node\"><title>4988056632</title>\n",
       "<polygon fill=\"lightgrey\" stroke=\"black\" points=\"153.799,-20 51.5014,-20 51.5014,-0 153.799,-0 153.799,-20\"/>\n",
       "<text text-anchor=\"middle\" x=\"102.65\" y=\"-6.4\" font-family=\"Times,serif\" font-size=\"12.00\">NllLossBackward</text>\n",
       "</g>\n",
       "<!-- 4977646840 -->\n",
       "<g id=\"node2\" class=\"node\"><title>4977646840</title>\n",
       "<polygon fill=\"lightgrey\" stroke=\"black\" points=\"164.79,-76 40.5112,-76 40.5112,-56 164.79,-56 164.79,-76\"/>\n",
       "<text text-anchor=\"middle\" x=\"102.65\" y=\"-62.4\" font-family=\"Times,serif\" font-size=\"12.00\">LogSoftmaxBackward</text>\n",
       "</g>\n",
       "<!-- 4977646840&#45;&gt;4988056632 -->\n",
       "<g id=\"edge1\" class=\"edge\"><title>4977646840&#45;&gt;4988056632</title>\n",
       "<path fill=\"none\" stroke=\"black\" d=\"M102.65,-55.5939C102.65,-48.7024 102.65,-39.1024 102.65,-30.5741\"/>\n",
       "<polygon fill=\"black\" stroke=\"black\" points=\"106.15,-30.2983 102.65,-20.2983 99.1505,-30.2983 106.15,-30.2983\"/>\n",
       "</g>\n",
       "<!-- 4848859064 -->\n",
       "<g id=\"node3\" class=\"node\"><title>4848859064</title>\n",
       "<polygon fill=\"lightgrey\" stroke=\"black\" points=\"154.629,-132 50.6719,-132 50.6719,-112 154.629,-112 154.629,-132\"/>\n",
       "<text text-anchor=\"middle\" x=\"102.65\" y=\"-118.4\" font-family=\"Times,serif\" font-size=\"12.00\">AddmmBackward</text>\n",
       "</g>\n",
       "<!-- 4848859064&#45;&gt;4977646840 -->\n",
       "<g id=\"edge2\" class=\"edge\"><title>4848859064&#45;&gt;4977646840</title>\n",
       "<path fill=\"none\" stroke=\"black\" d=\"M102.65,-111.594C102.65,-104.702 102.65,-95.1024 102.65,-86.5741\"/>\n",
       "<polygon fill=\"black\" stroke=\"black\" points=\"106.15,-86.2983 102.65,-76.2983 99.1505,-86.2983 106.15,-86.2983\"/>\n",
       "</g>\n",
       "<!-- 4987894696 -->\n",
       "<g id=\"node4\" class=\"node\"><title>4987894696</title>\n",
       "<polygon fill=\"lightgrey\" stroke=\"black\" points=\"101.452,-188 -0.150838,-188 -0.150838,-168 101.452,-168 101.452,-188\"/>\n",
       "<text text-anchor=\"middle\" x=\"50.6504\" y=\"-174.4\" font-family=\"Times,serif\" font-size=\"12.00\">ExpandBackward</text>\n",
       "</g>\n",
       "<!-- 4987894696&#45;&gt;4848859064 -->\n",
       "<g id=\"edge3\" class=\"edge\"><title>4987894696&#45;&gt;4848859064</title>\n",
       "<path fill=\"none\" stroke=\"black\" d=\"M59.7081,-167.594C67.09,-159.928 77.6992,-148.911 86.5252,-139.745\"/>\n",
       "<polygon fill=\"black\" stroke=\"black\" points=\"89.2812,-141.929 93.6965,-132.298 84.2389,-137.074 89.2812,-141.929\"/>\n",
       "</g>\n",
       "<!-- 4987866080 -->\n",
       "<g id=\"node5\" class=\"node\"><title>4987866080</title>\n",
       "<polygon fill=\"lightblue\" stroke=\"black\" points=\"77.6504,-256 23.6504,-256 23.6504,-224 77.6504,-224 77.6504,-256\"/>\n",
       "<text text-anchor=\"middle\" x=\"50.6504\" y=\"-242.4\" font-family=\"Times,serif\" font-size=\"12.00\">bias</text>\n",
       "<text text-anchor=\"middle\" x=\"50.6504\" y=\"-230.4\" font-family=\"Times,serif\" font-size=\"12.00\"> (10)</text>\n",
       "</g>\n",
       "<!-- 4987866080&#45;&gt;4987894696 -->\n",
       "<g id=\"edge4\" class=\"edge\"><title>4987866080&#45;&gt;4987894696</title>\n",
       "<path fill=\"none\" stroke=\"black\" d=\"M50.6504,-223.859C50.6504,-216.127 50.6504,-206.631 50.6504,-198.371\"/>\n",
       "<polygon fill=\"black\" stroke=\"black\" points=\"54.1505,-198.153 50.6504,-188.154 47.1505,-198.154 54.1505,-198.153\"/>\n",
       "</g>\n",
       "<!-- 4987864064 -->\n",
       "<g id=\"node6\" class=\"node\"><title>4987864064</title>\n",
       "<polygon fill=\"lightgrey\" stroke=\"black\" points=\"191.625,-188 119.676,-188 119.676,-168 191.625,-168 191.625,-188\"/>\n",
       "<text text-anchor=\"middle\" x=\"155.65\" y=\"-174.4\" font-family=\"Times,serif\" font-size=\"12.00\">TBackward</text>\n",
       "</g>\n",
       "<!-- 4987864064&#45;&gt;4848859064 -->\n",
       "<g id=\"edge5\" class=\"edge\"><title>4987864064&#45;&gt;4848859064</title>\n",
       "<path fill=\"none\" stroke=\"black\" d=\"M146.418,-167.594C138.819,-159.851 127.863,-148.688 118.814,-139.468\"/>\n",
       "<polygon fill=\"black\" stroke=\"black\" points=\"121.279,-136.984 111.776,-132.298 116.283,-141.887 121.279,-136.984\"/>\n",
       "</g>\n",
       "<!-- 4987863392 -->\n",
       "<g id=\"node7\" class=\"node\"><title>4987863392</title>\n",
       "<polygon fill=\"lightblue\" stroke=\"black\" points=\"187.143,-256 124.158,-256 124.158,-224 187.143,-224 187.143,-256\"/>\n",
       "<text text-anchor=\"middle\" x=\"155.65\" y=\"-242.4\" font-family=\"Times,serif\" font-size=\"12.00\">weight</text>\n",
       "<text text-anchor=\"middle\" x=\"155.65\" y=\"-230.4\" font-family=\"Times,serif\" font-size=\"12.00\"> (10, 784)</text>\n",
       "</g>\n",
       "<!-- 4987863392&#45;&gt;4987864064 -->\n",
       "<g id=\"edge6\" class=\"edge\"><title>4987863392&#45;&gt;4987864064</title>\n",
       "<path fill=\"none\" stroke=\"black\" d=\"M155.65,-223.859C155.65,-216.127 155.65,-206.631 155.65,-198.371\"/>\n",
       "<polygon fill=\"black\" stroke=\"black\" points=\"159.15,-198.153 155.65,-188.154 152.15,-198.154 159.15,-198.153\"/>\n",
       "</g>\n",
       "</g>\n",
       "</svg>\n"
      ],
      "text/plain": [
       "<graphviz.dot.Digraph at 0x1294e1a20>"
      ]
     },
     "execution_count": 30,
     "metadata": {},
     "output_type": "execute_result"
    }
   ],
   "source": [
    "y_pred = model(Variable(x_train.view(-1,28*28)))\n",
    "loss = criterion(y_pred, Variable(y_train))\n",
    "from lib.pytorch_visualize import make_dot\n",
    "p = make_dot(loss, dict(model.named_parameters()))\n",
    "p"
   ]
  },
  {
   "cell_type": "markdown",
   "metadata": {},
   "source": [
    "### Laço de treinamento dos pesos"
   ]
  },
  {
   "cell_type": "code",
   "execution_count": 31,
   "metadata": {
    "ExecuteTime": {
     "end_time": "2018-05-01T10:33:54.323093Z",
     "start_time": "2018-05-01T10:33:51.310950Z"
    }
   },
   "outputs": [
    {
     "data": {
      "image/png": "[encoded data removed]",
      "text/plain": [
       "<matplotlib.figure.Figure at 0x12982b518>"
      ]
     },
     "metadata": {},
     "output_type": "display_data"
    }
   ],
   "source": [
    "from IPython import display\n",
    "a = 5\n",
    "j = 0\n",
    "losses = []\n",
    "fig = plt.figure(figsize=(18, 6))\n",
    "\n",
    "try:\n",
    "    for i in range(epochs):\n",
    "        # Transforma a entrada para uma dimensão\n",
    "        inputs = Variable(x_train.view(-1, 28 * 28))\n",
    "        # Predict da rede\n",
    "        outputs = model(inputs)\n",
    "\n",
    "        # calcula a perda\n",
    "        loss = criterion(outputs, Variable(y_train))\n",
    "\n",
    "        # zero, backpropagation, ajusta parâmetros pelo gradiente descendente\n",
    "        optimizer.zero_grad()\n",
    "        loss.backward()\n",
    "        optimizer.step()\n",
    "\n",
    "        losses.append(loss.data[0])\n",
    "        \n",
    "        wv = model.weight.data.view(10,28,28).unsqueeze(1)\n",
    "        wg = model.weight.grad.data.view(10,28,28).unsqueeze(1)\n",
    "        wc = torch.cat((wv,wg),0)\n",
    "        wc -= wc.min()\n",
    "        wc /= wc.max()\n",
    "        grid = torchvision.utils.make_grid(wc, nrow=10, pad_value=1.0, padding=1)\n",
    "        plt.imshow(grid.numpy().transpose(1, 2, 0))\n",
    "\n",
    "        display.display(fig)\n",
    "        display.clear_output(wait=True)\n",
    "        input(j)\n",
    "except KeyboardInterrupt:\n",
    "    pass"
   ]
  },
  {
   "cell_type": "code",
   "execution_count": null,
   "metadata": {
    "ExecuteTime": {
     "end_time": "2018-05-01T10:30:57.826404Z",
     "start_time": "2018-05-01T13:30:53.292Z"
    }
   },
   "outputs": [],
   "source": [
    "print('Final loss:', loss.data[0])"
   ]
  },
  {
   "cell_type": "markdown",
   "metadata": {},
   "source": [
    "### Visualizando gráfico de perda durante o treinamento"
   ]
  },
  {
   "cell_type": "code",
   "execution_count": null,
   "metadata": {
    "ExecuteTime": {
     "end_time": "2018-05-01T10:30:57.826900Z",
     "start_time": "2018-05-01T13:30:53.296Z"
    }
   },
   "outputs": [],
   "source": [
    "plt.plot(losses)"
   ]
  },
  {
   "cell_type": "markdown",
   "metadata": {},
   "source": [
    "## Avaliação"
   ]
  },
  {
   "cell_type": "markdown",
   "metadata": {},
   "source": [
    "### Acurácia tanto no conjunto de treinamento como no conjunto de testes"
   ]
  },
  {
   "cell_type": "code",
   "execution_count": null,
   "metadata": {
    "ExecuteTime": {
     "end_time": "2018-05-01T10:30:57.827361Z",
     "start_time": "2018-05-01T13:30:53.301Z"
    }
   },
   "outputs": [],
   "source": [
    "def predict(model, input_data):\n",
    "    outputs = model(Variable(input_data))\n",
    "    _, predicts = torch.max(outputs, 1)\n",
    "    \n",
    "    return predicts.data\n",
    "\n",
    "y_pred = predict(model, x_train.view(-1, 28*28))\n",
    "accuracy = (y_pred.numpy() == y_train.numpy()).mean()\n",
    "print('Accuracy:', accuracy)"
   ]
  },
  {
   "cell_type": "markdown",
   "metadata": {},
   "source": [
    "### Matriz de confusão com dados de treinamento e teste"
   ]
  },
  {
   "cell_type": "code",
   "execution_count": null,
   "metadata": {
    "ExecuteTime": {
     "end_time": "2018-05-01T10:30:57.827826Z",
     "start_time": "2018-05-01T13:30:53.308Z"
    }
   },
   "outputs": [],
   "source": [
    "print('Matriz de confusão:')\n",
    "pd.crosstab(y_pred.numpy(), y_train.numpy())"
   ]
  },
  {
   "cell_type": "markdown",
   "metadata": {},
   "source": [
    "## Visualizando a matriz de pesos treinados"
   ]
  },
  {
   "cell_type": "markdown",
   "metadata": {},
   "source": [
    "Observe que a matriz de peso treinado para cada classe mostra a importância dos pesos associados aos caracteres de cada classe."
   ]
  },
  {
   "cell_type": "code",
   "execution_count": null,
   "metadata": {
    "ExecuteTime": {
     "end_time": "2018-05-01T10:30:57.828560Z",
     "start_time": "2018-05-01T13:30:53.317Z"
    }
   },
   "outputs": [],
   "source": [
    "weights = model.state_dict()['weight']\n",
    "print('weights:', weights.shape)\n",
    "\n",
    "bias = model.state_dict()['bias']\n",
    "print('bias:   ', bias.shape)\n",
    "\n",
    "# Visualizando pesos da classe 3\n",
    "plt.imshow(weights[3, :].numpy().reshape((28,28)),cmap = 'gray')\n",
    "plt.show()"
   ]
  },
  {
   "cell_type": "markdown",
   "metadata": {},
   "source": [
    "### Visualizando os pesos de todas as classes"
   ]
  },
  {
   "cell_type": "code",
   "execution_count": null,
   "metadata": {
    "ExecuteTime": {
     "end_time": "2018-05-01T10:30:57.829618Z",
     "start_time": "2018-05-01T13:30:53.321Z"
    }
   },
   "outputs": [],
   "source": [
    "# cria um grid com as imagens\n",
    "grid = torchvision.utils.make_grid(weights.view(-1, 1, 28, 28), normalize=True, pad_value=1.0, padding=1, nrow=10)\n",
    "\n",
    "plt.figure(figsize=(15, 10))\n",
    "plt.imshow(grid.numpy().transpose(1, 2, 0))\n",
    "plt.axis('off');"
   ]
  },
  {
   "cell_type": "markdown",
   "metadata": {},
   "source": [
    "### Diagrama da regressão softmax com visualização dos pesos W"
   ]
  },
  {
   "cell_type": "markdown",
   "metadata": {},
   "source": [
    "<img src=\"../figures/RegressaoSoftmaxArgmaxNMIST.png\",width = 400>"
   ]
  },
  {
   "cell_type": "markdown",
   "metadata": {},
   "source": [
    "# Atividades"
   ]
  },
  {
   "cell_type": "markdown",
   "metadata": {},
   "source": [
    "## Exercícios"
   ]
  },
  {
   "cell_type": "markdown",
   "metadata": {},
   "source": [
    "- 1) Na configuração da figura acima, mostre os valores de z0 até z9, os valores das probabilidades y_hat, após o softmax, quando a rede recebe como entrada a nona amostra que contém o manuscrito do dígito '4':"
   ]
  },
  {
   "cell_type": "code",
   "execution_count": null,
   "metadata": {
    "ExecuteTime": {
     "end_time": "2018-05-01T10:30:57.830923Z",
     "start_time": "2018-05-01T13:30:53.538Z"
    }
   },
   "outputs": [],
   "source": [
    "image  = x_train[9]\n",
    "target = y_train[9]\n",
    "\n",
    "plt.imshow(image.numpy().reshape(28,28), cmap='gray')\n",
    "print('class:', target)"
   ]
  },
  {
   "cell_type": "markdown",
   "metadata": {},
   "source": [
    "- 2) Insira código no laço do treinamento para que no final de cada época, \n",
    "     seja impresso: o número da época e a perda e a acurácia"
   ]
  },
  {
   "cell_type": "markdown",
   "metadata": {},
   "source": [
    "- 3) Insira código no laço do treinamento para visualização dos valores dos gradientes referentes à classe do dígito 4, no final de cada época."
   ]
  },
  {
   "cell_type": "markdown",
   "metadata": {
    "heading_collapsed": true
   },
   "source": [
    "## Perguntas"
   ]
  },
  {
   "cell_type": "markdown",
   "metadata": {
    "hidden": true
   },
   "source": [
    "1. Qual é o shape da matriz de entrada na rede?\n",
    "2. Qual é o shape da saída da rede?\n",
    "3. Qual é o número total de parâmetros da rede, incluindo o bias?"
   ]
  },
  {
   "cell_type": "markdown",
   "metadata": {},
   "source": [
    "# Aprendizados\n"
   ]
  },
  {
   "cell_type": "code",
   "execution_count": null,
   "metadata": {
    "collapsed": true
   },
   "outputs": [],
   "source": [
    "\n",
    "\n",
    "\n"
   ]
  }
 ],
 "metadata": {
  "anaconda-cloud": {},
  "kernelspec": {
   "display_name": "Python 3",
   "language": "python",
   "name": "python3"
  },
  "language_info": {
   "codemirror_mode": {
    "name": "ipython",
    "version": 3
   },
   "file_extension": ".py",
   "mimetype": "text/x-python",
   "name": "python",
   "nbconvert_exporter": "python",
   "pygments_lexer": "ipython3",
   "version": "3.6.0"
  },
  "toc": {
   "nav_menu": {
    "height": "318px",
    "width": "252px"
   },
   "number_sections": true,
   "sideBar": true,
   "skip_h1_title": false,
   "toc_cell": false,
   "toc_position": {},
   "toc_section_display": "block",
   "toc_window_display": false
  }
 },
 "nbformat": 4,
 "nbformat_minor": 1
}
