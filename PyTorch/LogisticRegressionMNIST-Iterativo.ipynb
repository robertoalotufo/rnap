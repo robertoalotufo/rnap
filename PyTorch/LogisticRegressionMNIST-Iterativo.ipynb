{
  "cells": [
    {
      "cell_type": "markdown",
      "metadata": {
        "id": "view-in-github",
        "colab_type": "text"
      },
      "source": [
        "<a href=\"https://colab.research.google.com/github/robertoalotufo/rnap/blob/master/PyTorch/LogisticRegressionMNIST-Iterativo.ipynb\" target=\"_parent\"><img src=\"https://colab.research.google.com/assets/colab-badge.svg\" alt=\"Open In Colab\"/></a>"
      ]
    },
    {
      "cell_type": "markdown",
      "metadata": {
        "id": "268wFwYwAPiC"
      },
      "source": [
        "# Regressão Softmax com dados do MNIST - Visualização do gradiente e pesos\n"
      ]
    },
    {
      "cell_type": "markdown",
      "metadata": {
        "id": "_L228UNBAPiD"
      },
      "source": [
        "## Objetivo"
      ]
    },
    {
      "cell_type": "markdown",
      "metadata": {
        "id": "xMFGlqP-APiE"
      },
      "source": [
        "O objetivo deste notebook é ilustrar visualmente o gradiente e a atualização dos pesos a cada época de iteração nos dados de treinamento."
      ]
    },
    {
      "cell_type": "markdown",
      "metadata": {
        "id": "PLNITWRrAPiE"
      },
      "source": [
        "## Importação das bibliotecas"
      ]
    },
    {
      "cell_type": "code",
      "execution_count": 1,
      "metadata": {
        "ExecuteTime": {
          "end_time": "2018-05-01T10:33:45.965595Z",
          "start_time": "2018-05-01T10:33:45.950247Z"
        },
        "collapsed": true,
        "id": "zlkfgBqCAPiE"
      },
      "outputs": [],
      "source": [
        "%matplotlib inline\n",
        "import numpy as np\n",
        "import matplotlib.pyplot as plt\n",
        "import pandas as pd\n",
        "\n",
        "import torch\n",
        "import torchvision\n",
        "from keras.datasets import mnist"
      ]
    },
    {
      "cell_type": "markdown",
      "metadata": {
        "id": "1zLmFzCdAPiF"
      },
      "source": [
        "## Carregamento dos dados do MNIST"
      ]
    },
    {
      "cell_type": "code",
      "execution_count": 2,
      "metadata": {
        "ExecuteTime": {
          "end_time": "2018-05-01T10:33:46.124968Z",
          "start_time": "2018-05-01T10:33:45.968284Z"
        },
        "id": "QXI8hNqjAPiF",
        "outputId": "09cc2106-e0e4-4a58-fa41-109cb27dae29",
        "colab": {
          "base_uri": "https://localhost:8080/"
        }
      },
      "outputs": [
        {
          "output_type": "execute_result",
          "data": {
            "text/plain": [
              "(torch.float32, torch.Size([10000, 28, 28]), torch.int64, torch.Size([10000]))"
            ]
          },
          "metadata": {},
          "execution_count": 2
        }
      ],
      "source": [
        "(train_X, train_y), (test_X, test_y) = mnist.load_data()\n",
        "x_train, y_train = torch.FloatTensor(test_X)/255., torch.LongTensor(test_y)\n",
        "x_train.dtype, x_train.shape, y_train.dtype, y_train.shape"
      ]
    },
    {
      "cell_type": "markdown",
      "metadata": {
        "id": "_P1gNnUuAPiG"
      },
      "source": [
        "### Carregamento, normalização e seleção dos dados do MNIST\n",
        "\n",
        "Neste exemplo utilizaremos apenas 1000 amostras de treinamento."
      ]
    },
    {
      "cell_type": "code",
      "execution_count": 3,
      "metadata": {
        "ExecuteTime": {
          "end_time": "2018-05-01T10:33:46.739850Z",
          "start_time": "2018-05-01T10:33:46.128059Z"
        },
        "id": "k7ierm1nAPiG",
        "outputId": "ccb3a906-6909-4d25-e5af-47a4516f53ce",
        "colab": {
          "base_uri": "https://localhost:8080/"
        }
      },
      "outputs": [
        {
          "output_type": "stream",
          "name": "stdout",
          "text": [
            "Amostras de treinamento: 2000\n",
            "\n",
            "Dimensões dos dados das imagens:    torch.Size([2000, 28, 28])\n",
            "Valores mínimo e máximo dos pixels: tensor(0.) tensor(1.)\n",
            "Tipo dos dados das imagens:         <class 'torch.Tensor'>\n",
            "Tipo das classes das imagens:       <class 'torch.Tensor'>\n"
          ]
        }
      ],
      "source": [
        "\n",
        "if True:\n",
        "    n_samples_train = 2000\n",
        "\n",
        "    x_train = x_train[:n_samples_train]\n",
        "    y_train = y_train[:n_samples_train]\n",
        "\n",
        "print(\"Amostras de treinamento:\", x_train.size(0))\n",
        "\n",
        "print(\"\\nDimensões dos dados das imagens:   \", x_train.size())\n",
        "print(\"Valores mínimo e máximo dos pixels:\", torch.min(x_train), torch.max(x_train))\n",
        "print(\"Tipo dos dados das imagens:        \", type(x_train))\n",
        "print(\"Tipo das classes das imagens:      \", type(y_train))"
      ]
    },
    {
      "cell_type": "markdown",
      "metadata": {
        "id": "lDdYBhCRAPiH"
      },
      "source": [
        "### Visualizando os dados"
      ]
    },
    {
      "cell_type": "code",
      "execution_count": 4,
      "metadata": {
        "ExecuteTime": {
          "end_time": "2018-05-01T10:33:47.161237Z",
          "start_time": "2018-05-01T10:33:46.742413Z"
        },
        "id": "3FmRUHhCAPiH",
        "outputId": "b76d3f16-4544-4e74-ec4b-0041c6e48418",
        "colab": {
          "base_uri": "https://localhost:8080/",
          "height": 364
        }
      },
      "outputs": [
        {
          "output_type": "execute_result",
          "data": {
            "text/plain": [
              "(-0.5, 232.5, 87.5, -0.5)"
            ]
          },
          "metadata": {},
          "execution_count": 4
        },
        {
          "output_type": "display_data",
          "data": {
            "text/plain": [
              "<Figure size 1080x720 with 1 Axes>"
            ],
            "image/png": "[encoded data removed]"
          },
          "metadata": {
            "needs_background": "light"
          }
        }
      ],
      "source": [
        "n_samples = 24\n",
        "\n",
        "# cria um grid com as imagens\n",
        "grid = torchvision.utils.make_grid(x_train[:n_samples].unsqueeze(1), pad_value=1.0, padding=1)\n",
        "\n",
        "plt.figure(figsize=(15, 10))\n",
        "plt.imshow(grid.numpy().transpose(1, 2, 0))\n",
        "plt.axis('off')"
      ]
    },
    {
      "cell_type": "markdown",
      "metadata": {
        "id": "oQepCzbsAPiI"
      },
      "source": [
        "## Modelo"
      ]
    },
    {
      "cell_type": "code",
      "source": [
        "class Model2(torch.nn.Module):\n",
        "\n",
        "    def __init__(self, nlayers=1, hidden_dim=10):\n",
        "        super(Model2, self).__init__()\n",
        "\n",
        "        self.nlayers = nlayers\n",
        "        self.linear1 = torch.nn.Linear(28*28, hidden_dim)\n",
        "        self.linear2 = torch.nn.Linear(hidden_dim, 10)\n",
        "\n",
        "    def forward(self, inputs):\n",
        "        out = self.linear1(inputs)\n",
        "        if self.nlayers == 2:\n",
        "            out = torch.nn.functional.relu(out)\n",
        "            out = self.linear2(out)\n",
        "        return out\n",
        "#model = Model2()  # uma camada apenas (28*28, 10)\n",
        "model = Model2(2). # duas camadas (28*28, 10, 10)"
      ],
      "metadata": {
        "id": "68VuBOC3o7Dp"
      },
      "execution_count": 7,
      "outputs": []
    },
    {
      "cell_type": "markdown",
      "metadata": {
        "id": "XmtZXZmYAPiI"
      },
      "source": [
        "## Treinamento"
      ]
    },
    {
      "cell_type": "markdown",
      "metadata": {
        "id": "aaahd5pOAPiI"
      },
      "source": [
        "### Inicialização dos parâmetros"
      ]
    },
    {
      "cell_type": "code",
      "execution_count": 8,
      "metadata": {
        "ExecuteTime": {
          "end_time": "2018-05-01T10:33:47.402537Z",
          "start_time": "2018-05-01T10:33:47.397121Z"
        },
        "collapsed": true,
        "id": "dLmX0PHMAPiI"
      },
      "outputs": [],
      "source": [
        "epochs = 100\n",
        "learningRate = 0.8\n",
        "\n",
        "# Utilizaremos CrossEntropyLoss como função de perda\n",
        "criterion = torch.nn.CrossEntropyLoss()\n",
        "\n",
        "# Gradiente descendente\n",
        "optimizer = torch.optim.SGD(model.parameters(), lr=learningRate)"
      ]
    },
    {
      "cell_type": "markdown",
      "metadata": {
        "id": "w6z5t8dFAPiJ"
      },
      "source": [
        "### Laço de treinamento dos pesos"
      ]
    },
    {
      "cell_type": "code",
      "execution_count": 10,
      "metadata": {
        "ExecuteTime": {
          "end_time": "2018-05-01T10:33:54.323093Z",
          "start_time": "2018-05-01T10:33:51.310950Z"
        },
        "id": "aBPZkSEwAPiJ",
        "outputId": "93d33be4-a7db-4118-8a8f-bbd3e242dcda",
        "colab": {
          "base_uri": "https://localhost:8080/",
          "height": 232
        }
      },
      "outputs": [
        {
          "output_type": "display_data",
          "data": {
            "text/plain": [
              "<Figure size 1296x432 with 1 Axes>"
            ],
            "image/png": "[encoded data removed]"
          },
          "metadata": {
            "needs_background": "light"
          }
        }
      ],
      "source": [
        "from IPython import display\n",
        "a = 5\n",
        "j = 0\n",
        "losses = []\n",
        "fig = plt.figure(figsize=(18, 6))\n",
        "\n",
        "try:\n",
        "    for i in range(epochs):\n",
        "        # Transforma a entrada para uma dimensão\n",
        "        inputs = x_train.view(-1, 28 * 28)\n",
        "        # Predict da rede\n",
        "        outputs = model(inputs)\n",
        "\n",
        "        # calcula a perda\n",
        "        loss = criterion(outputs, y_train)\n",
        "\n",
        "        # zero, backpropagation, ajusta parâmetros pelo gradiente descendente\n",
        "        optimizer.zero_grad()\n",
        "        loss.backward()\n",
        "        optimizer.step()\n",
        "\n",
        "        losses.append(loss.data.item())\n",
        "        \n",
        "        wv = model.linear1.weight.data.view(10,28,28).unsqueeze(1)\n",
        "        wg = model.linear1.weight.grad.data.view(10,28,28).unsqueeze(1)\n",
        "        wc = torch.cat((wv,wg),0)\n",
        "        wc -= wc.min()\n",
        "        wc /= wc.max()\n",
        "        grid = torchvision.utils.make_grid(wc, nrow=10, pad_value=1.0, padding=1)\n",
        "        plt.imshow(grid.numpy().transpose(1, 2, 0))\n",
        "\n",
        "        display.display(fig)\n",
        "        display.clear_output(wait=True)\n",
        "        input(j)\n",
        "except KeyboardInterrupt:\n",
        "    pass"
      ]
    },
    {
      "cell_type": "markdown",
      "metadata": {
        "id": "wzA8lFylAPiK"
      },
      "source": [
        "<img src=\"https://raw.githubusercontent.com/robertoalotufo/files/master/figures/RegressaoSoftmaxArgmaxNMIST.png\" width = \"400\">"
      ]
    }
  ],
  "metadata": {
    "anaconda-cloud": {},
    "kernelspec": {
      "display_name": "Python 3",
      "language": "python",
      "name": "python3"
    },
    "language_info": {
      "codemirror_mode": {
        "name": "ipython",
        "version": 3
      },
      "file_extension": ".py",
      "mimetype": "text/x-python",
      "name": "python",
      "nbconvert_exporter": "python",
      "pygments_lexer": "ipython3",
      "version": "3.6.0"
    },
    "toc": {
      "nav_menu": {
        "height": "318px",
        "width": "252px"
      },
      "number_sections": true,
      "sideBar": true,
      "skip_h1_title": false,
      "toc_cell": false,
      "toc_position": {},
      "toc_section_display": "block",
      "toc_window_display": false
    },
    "colab": {
      "name": "LogisticRegressionMNIST-Iterativo.ipynb",
      "provenance": [],
      "include_colab_link": true
    }
  },
  "nbformat": 4,
  "nbformat_minor": 0
}