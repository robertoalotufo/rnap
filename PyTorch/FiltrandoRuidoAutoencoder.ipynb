{
 "cells": [
  {
   "cell_type": "markdown",
   "metadata": {},
   "source": [
    "# Filtrando ruído com autoencoder convolucional"
   ]
  },
  {
   "cell_type": "markdown",
   "metadata": {},
   "source": [
    "Nesta aplicação o autocodificador é utilizado como filtro de ruído. \n",
    "Utiliza-se o dataset do MNIST, adicionando ruído gaussiano.\n",
    "A rede é treinada com a entrada com a imagem ruidosa e a saída como a imagem original.\n",
    "\n",
    "Esta é uma rede totalmente convolucional e para tanto, a rede aceita imagens de entrada de quaisquer dimensões."
   ]
  },
  {
   "cell_type": "markdown",
   "metadata": {},
   "source": [
    "## Importando as bibliotecas"
   ]
  },
  {
   "cell_type": "code",
   "execution_count": 1,
   "metadata": {},
   "outputs": [],
   "source": [
    "%matplotlib inline\n",
    "\n",
    "import numpy as np\n",
    "import matplotlib.pyplot as plt\n",
    "from IPython.display import display\n",
    "from PIL import Image\n",
    "\n",
    "#import codecs\n",
    "#import errno\n",
    "import os\n",
    "import os.path\n",
    "\n",
    "# from torch\n",
    "import torch\n",
    "from torch import nn\n",
    "from torch.autograd import Variable\n",
    "import torch.utils.data as data\n",
    "\n",
    "# from torchvision\n",
    "import torchvision\n",
    "from torchvision import transforms\n",
    "from torchvision.datasets.mnist import read_image_file"
   ]
  },
  {
   "cell_type": "code",
   "execution_count": 2,
   "metadata": {},
   "outputs": [
    {
     "name": "stdout",
     "output_type": "stream",
     "text": [
      "Usando GPU: False\n"
     ]
    }
   ],
   "source": [
    "# verifica se a GPU esta disponivel\n",
    "use_gpu = torch.cuda.is_available()\n",
    "print(\"Usando GPU:\", use_gpu)"
   ]
  },
  {
   "cell_type": "markdown",
   "metadata": {},
   "source": [
    "## Classe para carregar os dados e adicionar ruído"
   ]
  },
  {
   "cell_type": "code",
   "execution_count": 3,
   "metadata": {},
   "outputs": [],
   "source": [
    "class MNIST_Noise(data.Dataset):\n",
    "    \"\"\"`MNIST <http://yann.lecun.com/exdb/mnist/>`_ Dataset.\n",
    "    Args:\n",
    "        root (string): Root directory of dataset where ``processed/training.pt``\n",
    "            and  ``processed/test.pt`` exist.\n",
    "        train (bool, optional): If True, creates dataset from ``training.pt``,\n",
    "            otherwise from ``test.pt``.\n",
    "        download (bool, optional): If true, downloads the dataset from the internet and\n",
    "            puts it in root directory. If dataset is already downloaded, it is not\n",
    "            downloaded again.\n",
    "        transform (callable, optional): A function/transform that  takes in an PIL image\n",
    "            and returns a transformed version. E.g, ``transforms.RandomCrop``\n",
    "        target_transform (callable, optional): A function/transform that takes in the\n",
    "            target and transforms it.\n",
    "    \"\"\"\n",
    "    urls = [\n",
    "        'http://yann.lecun.com/exdb/mnist/train-images-idx3-ubyte.gz',\n",
    "        'http://yann.lecun.com/exdb/mnist/t10k-images-idx3-ubyte.gz',\n",
    "    ]\n",
    "    raw_folder = 'raw'\n",
    "    processed_folder = 'processed'\n",
    "    training_file = 'training.pt'\n",
    "    test_file = 'test.pt'\n",
    "\n",
    "    def __init__(self, root, train=True, transform=None, target_transform=None, download=False):\n",
    "        self.root = os.path.expanduser(root)\n",
    "        self.transform = transform\n",
    "        self.target_transform = target_transform\n",
    "        self.train = train  # training set or test set\n",
    "\n",
    "        if download:\n",
    "            self.download()\n",
    "\n",
    "        if not self._check_exists():\n",
    "            raise RuntimeError('Dataset not found.' +\n",
    "                               ' You can use download=True to download it')\n",
    "\n",
    "        if self.train:\n",
    "            self.train_data, self.train_labels = torch.load(\n",
    "                os.path.join(self.root, self.processed_folder, self.training_file))\n",
    "        else:\n",
    "            self.test_data, self.test_labels = torch.load(\n",
    "                os.path.join(self.root, self.processed_folder, self.test_file))\n",
    "\n",
    "    def __getitem__(self, index):\n",
    "        \"\"\"\n",
    "        Args:\n",
    "            index (int): Index\n",
    "        Returns:\n",
    "            tuple: (image, target) where target is index of the target class.\n",
    "        \"\"\"\n",
    "        if self.train:\n",
    "            img, target = self.train_data[index], self.train_labels[index]\n",
    "        else:\n",
    "            img, target = self.test_data[index], self.test_labels[index]\n",
    "\n",
    "        # doing this so that it is consistent with all other datasets\n",
    "        # to return a PIL Image\n",
    "        img = Image.fromarray(img.numpy(), mode='L')\n",
    "        target = Image.fromarray(target.numpy(), mode='L')\n",
    "\n",
    "        if self.transform is not None:\n",
    "            img = self.transform(img)\n",
    "\n",
    "        if self.target_transform is not None:\n",
    "            target = self.target_transform(target)\n",
    "\n",
    "        return img, target\n",
    "\n",
    "    def __len__(self):\n",
    "        if self.train:\n",
    "            return len(self.train_data)\n",
    "        else:\n",
    "            return len(self.test_data)\n",
    "\n",
    "    def _check_exists(self):\n",
    "        return os.path.exists(os.path.join(self.root, self.processed_folder, self.training_file)) and \\\n",
    "            os.path.exists(os.path.join(self.root, self.processed_folder, self.test_file))\n",
    "\n",
    "    def download(self):\n",
    "        \"\"\"Download the MNIST data if it doesn't exist in processed_folder already.\"\"\"\n",
    "        from six.moves import urllib\n",
    "        import gzip\n",
    "\n",
    "        if self._check_exists():\n",
    "            return\n",
    "\n",
    "        # download files\n",
    "        try:\n",
    "            os.makedirs(os.path.join(self.root, self.raw_folder))\n",
    "            os.makedirs(os.path.join(self.root, self.processed_folder))\n",
    "        except OSError as e:\n",
    "            if e.errno == errno.EEXIST:\n",
    "                pass\n",
    "            else:\n",
    "                raise\n",
    "\n",
    "        for url in self.urls:\n",
    "            print('Downloading ' + url)\n",
    "            data = urllib.request.urlopen(url)\n",
    "            filename = url.rpartition('/')[2]\n",
    "            file_path = os.path.join(self.root, self.raw_folder, filename)\n",
    "            with open(file_path, 'wb') as f:\n",
    "                f.write(data.read())\n",
    "            with open(file_path.replace('.gz', ''), 'wb') as out_f, \\\n",
    "                    gzip.GzipFile(file_path) as zip_f:\n",
    "                out_f.write(zip_f.read())\n",
    "            os.unlink(file_path)\n",
    "\n",
    "        # process and save as torch files\n",
    "        print('Processing...')\n",
    "\n",
    "        train_file = read_image_file(os.path.join(self.root, self.raw_folder, 'train-images-idx3-ubyte'))\n",
    "        test_file = read_image_file(os.path.join(self.root, self.raw_folder, 't10k-images-idx3-ubyte'))\n",
    "        \n",
    "        # add noise\n",
    "        train_noise = train_file + torch.from_numpy(np.random.normal(loc=0, scale=1, size=train_file.shape)).type(torch.ByteTensor)\n",
    "        train_noise = torch.clamp(train_noise, 0, 255)\n",
    "        \n",
    "        test_noise = test_file + torch.from_numpy(np.random.normal(loc=0, scale=1, size=test_file.shape)).type(torch.ByteTensor)\n",
    "        test_noise = torch.clamp(test_noise, 0, 255)\n",
    "        \n",
    "        # create sets\n",
    "        training_set = (\n",
    "            train_noise,\n",
    "            train_file\n",
    "        )\n",
    "        test_set = (\n",
    "            test_noise,\n",
    "            test_file\n",
    "        )\n",
    "        with open(os.path.join(self.root, self.processed_folder, self.training_file), 'wb') as f:\n",
    "            torch.save(training_set, f)\n",
    "        with open(os.path.join(self.root, self.processed_folder, self.test_file), 'wb') as f:\n",
    "            torch.save(test_set, f)\n",
    "\n",
    "        print('Done!')\n"
   ]
  },
  {
   "cell_type": "markdown",
   "metadata": {},
   "source": [
    "## Carregando e mostrando os dados"
   ]
  },
  {
   "cell_type": "code",
   "execution_count": 4,
   "metadata": {},
   "outputs": [
    {
     "name": "stdout",
     "output_type": "stream",
     "text": [
      "Downloading http://yann.lecun.com/exdb/mnist/train-images-idx3-ubyte.gz\n",
      "Downloading http://yann.lecun.com/exdb/mnist/t10k-images-idx3-ubyte.gz\n",
      "Processing...\n",
      "Done!\n",
      "amostras para treinamento: 60000\n",
      "amostras para validação: 10000\n"
     ]
    }
   ],
   "source": [
    "dataset_dir = './data/datasets/MNIST_Noise/'\n",
    "\n",
    "# Transformara os dados em tensores no intervalo [0.0, 1.0] (Os dados serão normalizados)\n",
    "data_transform = transforms.ToTensor()\n",
    "\n",
    "# carrega o conjunto de treinamento e de teste\n",
    "mnist_datasets = {\n",
    "    'train' : MNIST_Noise(dataset_dir, train=True, transform=data_transform, target_transform=data_transform, download=True),\n",
    "    'val'   : MNIST_Noise(dataset_dir, train=False, transform=data_transform, target_transform=data_transform, download=True),\n",
    "}\n",
    "\n",
    "print('amostras para treinamento:', len(mnist_datasets['train']))\n",
    "print('amostras para validação:',   len(mnist_datasets['val']))"
   ]
  },
  {
   "cell_type": "markdown",
   "metadata": {},
   "source": [
    "## Mostrando algumas imagens do conjunto de treinamento"
   ]
  },
  {
   "cell_type": "code",
   "execution_count": 10,
   "metadata": {},
   "outputs": [
    {
     "data": {
      "image/png": "[encoded data removed]",
      "text/plain": [
       "<matplotlib.figure.Figure at 0x7f48228d9588>"
      ]
     },
     "metadata": {},
     "output_type": "display_data"
    },
    {
     "data": {
      "image/png": "[encoded data removed]",
      "text/plain": [
       "<matplotlib.figure.Figure at 0x7f48227b9e10>"
      ]
     },
     "metadata": {},
     "output_type": "display_data"
    }
   ],
   "source": [
    "n_samples = 8\n",
    "\n",
    "# cria um DataLoader temporario para pegar um batch de 'n_samples' imagens de treinamento\n",
    "temp_dataloader = torch.utils.data.DataLoader(mnist_datasets['train'], \n",
    "                                              batch_size = n_samples,\n",
    "                                              shuffle=True, num_workers=4)\n",
    "\n",
    "# pega um batch de imagens\n",
    "image_batch, labels = next(iter(temp_dataloader))\n",
    "\n",
    "# cria um grid com as imagens\n",
    "grid_data = torchvision.utils.make_grid(image_batch, normalize=True, pad_value=1.0, padding=1)\n",
    "grid_labels = torchvision.utils.make_grid(labels, normalize=True, pad_value=1.0, padding=1)\n",
    "\n",
    "# dados com ruído\n",
    "plt.figure(figsize=(15, 10))\n",
    "plt.title(\"Dados com ruído\")\n",
    "plt.imshow(grid_data.numpy().transpose(1, 2, 0))\n",
    "plt.axis('off')\n",
    "plt.show()\n",
    "# dados originais\n",
    "plt.figure(figsize=(15, 10))\n",
    "plt.title(\"Dados originais\")\n",
    "plt.imshow(grid_labels.numpy().transpose(1, 2, 0))\n",
    "plt.axis('off')\n",
    "plt.show()\n",
    "\n",
    "del temp_dataloader"
   ]
  },
  {
   "cell_type": "markdown",
   "metadata": {},
   "source": [
    "## Cria DataLoader para os dados"
   ]
  },
  {
   "cell_type": "code",
   "execution_count": 13,
   "metadata": {},
   "outputs": [],
   "source": [
    "train_loader = torch.utils.data.DataLoader(mnist_datasets['train'],\n",
    "                                          batch_size=64,\n",
    "                                          shuffle=True,\n",
    "                                          num_workers=1)\n",
    "\n",
    "val_loader = torch.utils.data.DataLoader(mnist_datasets['val'],\n",
    "                                         batch_size=10000,\n",
    "                                         shuffle=False,\n",
    "                                         num_workers=2)"
   ]
  },
  {
   "cell_type": "markdown",
   "metadata": {},
   "source": [
    "## Definição das classes que representam as redes"
   ]
  },
  {
   "cell_type": "code",
   "execution_count": 6,
   "metadata": {},
   "outputs": [],
   "source": [
    "import torch.nn.functional as F\n",
    "\n",
    "# classe do AutoEncoder (Encoder + Decoder)\n",
    "class AutoEncoder(torch.nn.Module):\n",
    "    def __init__(self, encoder, decoder):\n",
    "        super(AutoEncoder, self).__init__()\n",
    "        \n",
    "        self.encoder = encoder\n",
    "        self.decoder = decoder\n",
    "        \n",
    "    def forward(self, x):\n",
    "        x = self.encoder(x)\n",
    "        x = self.decoder(x)\n",
    "        return x\n",
    "\n",
    "# classe do Encoder\n",
    "class Encoder(torch.nn.Module):\n",
    "    def __init__(self):\n",
    "        super(Encoder, self).__init__()\n",
    "        \n",
    "        self.encode_conv1 = torch.nn.Conv2d(1, 16, 3, stride=3, padding=1)\n",
    "        self.encode_pool1 = torch.nn.MaxPool2d(2, stride=2)\n",
    "        self.encode_conv2 = torch.nn.Conv2d(16, 8, 3, stride=2, padding=1)\n",
    "        self.encode_pool2 = torch.nn.MaxPool2d(2, stride=1)\n",
    "\n",
    "    def forward(self, x):\n",
    "        x = F.relu(self.encode_conv1(x))\n",
    "        x = self.encode_pool1(x)\n",
    "        x = F.relu(self.encode_conv2(x))\n",
    "        x = self.encode_pool2(x)\n",
    "        return x\n",
    "\n",
    "# classe do Decoder\n",
    "class Decoder(torch.nn.Module):\n",
    "    def __init__(self):\n",
    "        super(Decoder, self).__init__()\n",
    "        \n",
    "        self.decode_conv1 = torch.nn.ConvTranspose2d(8, 16, 3, stride=2)\n",
    "        self.decode_conv2 = torch.nn.ConvTranspose2d(16, 8, 5, stride=3, padding=1)\n",
    "        self.decode_conv3 = torch.nn.ConvTranspose2d(8, 1, 2, stride=2, padding=1)\n",
    "        \n",
    "    def forward(self, x):\n",
    "        x = F.relu(self.decode_conv1(x))\n",
    "        x = F.relu(self.decode_conv2(x))\n",
    "        x = F.tanh(self.decode_conv3(x))\n",
    "        return x"
   ]
  },
  {
   "cell_type": "markdown",
   "metadata": {},
   "source": [
    "## Rede autoencoder"
   ]
  },
  {
   "cell_type": "code",
   "execution_count": 11,
   "metadata": {},
   "outputs": [],
   "source": [
    "autoencoder = AutoEncoder(Encoder(), Decoder())\n",
    "if use_gpu:\n",
    "    autoencoder = autoencoder.cuda()"
   ]
  },
  {
   "cell_type": "code",
   "execution_count": null,
   "metadata": {
    "ExecuteTime": {
     "end_time": "2017-08-12T17:28:08.661324",
     "start_time": "2017-08-12T17:28:08.339147"
    }
   },
   "outputs": [],
   "source": [
    "input_img = Input(shape=(None, None, 1))  # adapt this if using `channels_first` image data format\n",
    "\n",
    "x = Conv2D(32, (3, 3), activation='relu', padding='same')(input_img)\n",
    "x = MaxPooling2D((2, 2), padding='same')(x)\n",
    "x = Conv2D(32, (3, 3), activation='relu', padding='same')(x)\n",
    "encoded = MaxPooling2D((2, 2), padding='same')(x)\n",
    "\n",
    "# at this point the representation is (7, 7, 32)\n",
    "\n",
    "x = Conv2D(32, (3, 3), activation='relu', padding='same')(encoded)\n",
    "x = UpSampling2D((2, 2))(x)\n",
    "x = Conv2D(32, (3, 3), activation='relu', padding='same')(x)\n",
    "x = UpSampling2D((2, 2))(x)\n",
    "decoded = Conv2D(1, (3, 3), activation='linear', padding='same')(x)\n",
    "\n",
    "autoencoder = Model(input_img,decoded)"
   ]
  },
  {
   "cell_type": "markdown",
   "metadata": {},
   "source": [
    "## Sumário da rede"
   ]
  },
  {
   "cell_type": "markdown",
   "metadata": {},
   "source": [
    "Observe que nesta rede, as dimensões das imagens em todas as camadas podem ser quaisquer, com exceção dos canais (última dimensão) que são 1 na entrada (imagem de cinza) e 1 na saída (imagem de cinza).\n",
    "Assim, esta rede é dita totalmente convolucional, aceitando portanto imagens de cinza de qualquer tamanho."
   ]
  },
  {
   "cell_type": "code",
   "execution_count": 8,
   "metadata": {
    "ExecuteTime": {
     "end_time": "2017-08-12T17:28:08.674836",
     "start_time": "2017-08-12T17:28:08.663117"
    }
   },
   "outputs": [
    {
     "name": "stdout",
     "output_type": "stream",
     "text": [
      "AutoEncoder(\n",
      "  (encoder): Encoder(\n",
      "    (encode_conv1): Conv2d(1, 16, kernel_size=(3, 3), stride=(3, 3), padding=(1, 1))\n",
      "    (encode_pool1): MaxPool2d(kernel_size=(2, 2), stride=(2, 2), dilation=(1, 1), ceil_mode=False)\n",
      "    (encode_conv2): Conv2d(16, 8, kernel_size=(3, 3), stride=(2, 2), padding=(1, 1))\n",
      "    (encode_pool2): MaxPool2d(kernel_size=(2, 2), stride=(1, 1), dilation=(1, 1), ceil_mode=False)\n",
      "  )\n",
      "  (decoder): Decoder(\n",
      "    (decode_conv1): ConvTranspose2d(8, 16, kernel_size=(3, 3), stride=(2, 2))\n",
      "    (decode_conv2): ConvTranspose2d(16, 8, kernel_size=(5, 5), stride=(3, 3), padding=(1, 1))\n",
      "    (decode_conv3): ConvTranspose2d(8, 1, kernel_size=(2, 2), stride=(2, 2), padding=(1, 1))\n",
      "  )\n",
      ")\n"
     ]
    }
   ],
   "source": [
    "print(autoencoder)"
   ]
  },
  {
   "cell_type": "markdown",
   "metadata": {},
   "source": [
    "## Poucas amostras para teste inicial"
   ]
  },
  {
   "cell_type": "code",
   "execution_count": null,
   "metadata": {
    "ExecuteTime": {
     "end_time": "2017-08-12T17:28:08.690418",
     "start_time": "2017-08-12T17:28:08.677869"
    }
   },
   "outputs": [],
   "source": [
    "testing = True\n",
    "if testing:\n",
    "    n_samples = 1000\n",
    "    x_train = x_train[:n_samples]\n",
    "    x_train_noisy = x_train_noisy[:n_samples]\n",
    "    \n",
    "    n_samples_test = 200\n",
    "    x_test = x_test[:n_samples_test]\n",
    "    x_test_noisy = x_test_noisy[:n_samples_test]\n",
    "print(x_train.shape, x_train_noisy.shape)"
   ]
  },
  {
   "cell_type": "code",
   "execution_count": null,
   "metadata": {
    "ExecuteTime": {
     "end_time": "2017-08-12T17:28:08.700356",
     "start_time": "2017-08-12T17:28:08.693017"
    }
   },
   "outputs": [],
   "source": [
    "print(x_train[0].mean(),x_train_noisy[0].mean())"
   ]
  },
  {
   "cell_type": "code",
   "execution_count": 14,
   "metadata": {},
   "outputs": [],
   "source": [
    "def prediction(loader, model, loss_fn):\n",
    "    for data in loader:\n",
    "        images, labels = data\n",
    "        \n",
    "        # forward pass\n",
    "        outputs = model(Variable(images))\n",
    "\n",
    "        # loss\n",
    "        loss = loss_fn(outputs, Variable(images))\n",
    "    return (loss.data[0])"
   ]
  },
  {
   "cell_type": "markdown",
   "metadata": {},
   "source": [
    "## Treinamento da rede"
   ]
  },
  {
   "cell_type": "code",
   "execution_count": 16,
   "metadata": {},
   "outputs": [
    {
     "name": "stdout",
     "output_type": "stream",
     "text": [
      "Epoch: 0 - 13.0 s \t train loss: 0.14572 \t val loss: 0.14335\n",
      "Loss improved, saving model from epoch 0\n",
      "Epoch: 1 - 14.0 s \t train loss: 0.14085 \t val loss: 0.13651\n",
      "Loss improved, saving model from epoch 1\n",
      "Epoch: 2 - 13.0 s \t train loss: 0.13863 \t val loss: 0.13488\n",
      "Loss improved, saving model from epoch 2\n",
      "Epoch: 3 - 14.0 s \t train loss: 0.13584 \t val loss: 0.13352\n",
      "Loss improved, saving model from epoch 3\n",
      "Epoch: 4 - 13.0 s \t train loss: 0.13604 \t val loss: 0.1324\n",
      "Loss improved, saving model from epoch 4\n",
      "Epoch: 5 - 13.0 s \t train loss: 0.1345 \t val loss: 0.13166\n",
      "Loss improved, saving model from epoch 5\n",
      "Epoch: 6 - 15.0 s \t train loss: 0.13608 \t val loss: 0.13124\n",
      "Loss improved, saving model from epoch 6\n",
      "Epoch: 7 - 16.0 s \t train loss: 0.13394 \t val loss: 0.13095\n",
      "Loss improved, saving model from epoch 7\n",
      "Epoch: 8 - 15.0 s \t train loss: 0.13262 \t val loss: 0.13096\n",
      "Epoch: 9 - 17.0 s \t train loss: 0.13374 \t val loss: 0.13066\n",
      "Loss improved, saving model from epoch 9\n",
      "Epoch: 10 - 14.0 s \t train loss: 0.1345 \t val loss: 0.12998\n",
      "Loss improved, saving model from epoch 10\n",
      "Epoch: 11 - 15.0 s \t train loss: 0.136 \t val loss: 0.12882\n",
      "Loss improved, saving model from epoch 11\n",
      "Epoch: 12 - 15.0 s \t train loss: 0.12966 \t val loss: 0.12831\n",
      "Loss improved, saving model from epoch 12\n",
      "Epoch: 13 - 15.0 s \t train loss: 0.13413 \t val loss: 0.12814\n",
      "Loss improved, saving model from epoch 13\n",
      "Epoch: 14 - 15.0 s \t train loss: 0.1339 \t val loss: 0.12775\n",
      "Loss improved, saving model from epoch 14\n",
      "Epoch: 15 - 15.0 s \t train loss: 0.135 \t val loss: 0.12758\n",
      "Loss improved, saving model from epoch 15\n",
      "Epoch: 16 - 16.0 s \t train loss: 0.13171 \t val loss: 0.12743\n",
      "Loss improved, saving model from epoch 16\n",
      "Epoch: 17 - 15.0 s \t train loss: 0.13292 \t val loss: 0.12734\n",
      "Loss improved, saving model from epoch 17\n",
      "Epoch: 18 - 17.0 s \t train loss: 0.13298 \t val loss: 0.12742\n",
      "Epoch: 19 - 16.0 s \t train loss: 0.13435 \t val loss: 0.12746\n",
      "Epoch: 20 - 16.0 s \t train loss: 0.13227 \t val loss: 0.12711\n",
      "Loss improved, saving model from epoch 20\n",
      "Epoch: 21 - 16.0 s \t train loss: 0.13279 \t val loss: 0.12689\n",
      "Loss improved, saving model from epoch 21\n",
      "Epoch: 22 - 15.0 s \t train loss: 0.13426 \t val loss: 0.12687\n",
      "Loss improved, saving model from epoch 22\n",
      "Epoch: 23 - 15.0 s \t train loss: 0.13336 \t val loss: 0.12702\n",
      "Epoch: 24 - 15.0 s \t train loss: 0.13354 \t val loss: 0.12678\n",
      "Loss improved, saving model from epoch 24\n",
      "Epoch: 25 - 15.0 s \t train loss: 0.13287 \t val loss: 0.12668\n",
      "Loss improved, saving model from epoch 25\n",
      "Epoch: 26 - 15.0 s \t train loss: 0.13569 \t val loss: 0.12671\n",
      "Epoch: 27 - 16.0 s \t train loss: 0.13222 \t val loss: 0.12687\n",
      "Epoch: 28 - 15.0 s \t train loss: 0.13367 \t val loss: 0.12677\n",
      "Epoch: 29 - 16.0 s \t train loss: 0.13118 \t val loss: 0.12664\n",
      "Loss improved, saving model from epoch 29\n",
      "Epoch: 30 - 16.0 s \t train loss: 0.13203 \t val loss: 0.12644\n",
      "Loss improved, saving model from epoch 30\n",
      "Epoch: 31 - 15.0 s \t train loss: 0.1322 \t val loss: 0.12631\n",
      "Loss improved, saving model from epoch 31\n",
      "Epoch: 32 - 16.0 s \t train loss: 0.13025 \t val loss: 0.12633\n",
      "Epoch: 33 - 16.0 s \t train loss: 0.13145 \t val loss: 0.12644\n",
      "Epoch: 34 - 16.0 s \t train loss: 0.13166 \t val loss: 0.12634\n",
      "Epoch: 35 - 16.0 s \t train loss: 0.13433 \t val loss: 0.12644\n",
      "Epoch: 36 - 16.0 s \t train loss: 0.13334 \t val loss: 0.12631\n",
      "Loss improved, saving model from epoch 36\n",
      "Epoch: 37 - 16.0 s \t train loss: 0.13355 \t val loss: 0.12646\n",
      "Epoch: 38 - 16.0 s \t train loss: 0.13408 \t val loss: 0.12597\n",
      "Loss improved, saving model from epoch 38\n",
      "Epoch: 39 - 16.0 s \t train loss: 0.13114 \t val loss: 0.12611\n",
      "Epoch: 40 - 15.0 s \t train loss: 0.13245 \t val loss: 0.12608\n",
      "Epoch: 41 - 16.0 s \t train loss: 0.13416 \t val loss: 0.12609\n",
      "Epoch: 42 - 15.0 s \t train loss: 0.13122 \t val loss: 0.1261\n",
      "Epoch: 43 - 16.0 s \t train loss: 0.13226 \t val loss: 0.12604\n",
      "Epoch: 44 - 15.0 s \t train loss: 0.13406 \t val loss: 0.12611\n",
      "Epoch: 45 - 15.0 s \t train loss: 0.13439 \t val loss: 0.12594\n",
      "Loss improved, saving model from epoch 45\n",
      "Epoch: 46 - 16.0 s \t train loss: 0.13048 \t val loss: 0.126\n",
      "Epoch: 47 - 15.0 s \t train loss: 0.13406 \t val loss: 0.12578\n",
      "Loss improved, saving model from epoch 47\n",
      "Epoch: 48 - 16.0 s \t train loss: 0.13001 \t val loss: 0.12591\n",
      "Epoch: 49 - 15.0 s \t train loss: 0.13561 \t val loss: 0.1259\n",
      "Epoch: 50 - 16.0 s \t train loss: 0.13037 \t val loss: 0.12596\n",
      "Epoch: 51 - 16.0 s \t train loss: 0.13086 \t val loss: 0.12585\n",
      "Epoch: 52 - 15.0 s \t train loss: 0.1347 \t val loss: 0.12589\n",
      "Epoch: 53 - 16.0 s \t train loss: 0.13211 \t val loss: 0.12567\n",
      "Loss improved, saving model from epoch 53\n",
      "Epoch: 54 - 16.0 s \t train loss: 0.13397 \t val loss: 0.12575\n",
      "Epoch: 55 - 16.0 s \t train loss: 0.13537 \t val loss: 0.12581\n",
      "Epoch: 56 - 15.0 s \t train loss: 0.13414 \t val loss: 0.12573\n",
      "Epoch: 57 - 16.0 s \t train loss: 0.13621 \t val loss: 0.12589\n",
      "Epoch: 58 - 15.0 s \t train loss: 0.13459 \t val loss: 0.12594\n",
      "Epoch: 59 - 16.0 s \t train loss: 0.13148 \t val loss: 0.12559\n",
      "Loss improved, saving model from epoch 59\n",
      "Epoch: 60 - 16.0 s \t train loss: 0.13198 \t val loss: 0.12577\n",
      "Epoch: 61 - 16.0 s \t train loss: 0.13252 \t val loss: 0.12584\n",
      "Epoch: 62 - 16.0 s \t train loss: 0.12851 \t val loss: 0.12575\n",
      "Epoch: 63 - 15.0 s \t train loss: 0.13282 \t val loss: 0.12566\n",
      "Epoch: 64 - 15.0 s \t train loss: 0.13417 \t val loss: 0.12543\n",
      "Loss improved, saving model from epoch 64\n",
      "Epoch: 65 - 16.0 s \t train loss: 0.13184 \t val loss: 0.12553\n",
      "Epoch: 66 - 16.0 s \t train loss: 0.13676 \t val loss: 0.12571\n",
      "Epoch: 67 - 15.0 s \t train loss: 0.13304 \t val loss: 0.12563\n",
      "Epoch: 68 - 15.0 s \t train loss: 0.13362 \t val loss: 0.12578\n",
      "Epoch: 69 - 16.0 s \t train loss: 0.1361 \t val loss: 0.12561\n",
      "Epoch: 70 - 16.0 s \t train loss: 0.13278 \t val loss: 0.12558\n",
      "Epoch: 71 - 16.0 s \t train loss: 0.13227 \t val loss: 0.12547\n",
      "Epoch: 72 - 15.0 s \t train loss: 0.13278 \t val loss: 0.12557\n",
      "Epoch: 73 - 15.0 s \t train loss: 0.12927 \t val loss: 0.12552\n",
      "Epoch: 74 - 19.0 s \t train loss: 0.13038 \t val loss: 0.12549\n",
      "Epoch: 75 - 19.0 s \t train loss: 0.13261 \t val loss: 0.12568\n",
      "\n",
      "Early stopping as accuracy did not improve on last 10 epochs!\n",
      "Trainning completed!\n"
     ]
    }
   ],
   "source": [
    "import copy\n",
    "from time import time\n",
    "\n",
    "epochs = 100\n",
    "last_epoch = epochs - 1\n",
    "patience = 10\n",
    "patience_count = 0\n",
    "best_model = []\n",
    "best_val_loss = 999\n",
    "loss_fn = torch.nn.MSELoss()\n",
    "optimizer = torch.optim.Adam(autoencoder.parameters(), lr=1e-3, weight_decay=1e-5)\n",
    "\n",
    "# histórico de acurácia e perda\n",
    "train_loss = np.empty(epochs)\n",
    "val_loss = np.empty(epochs)\n",
    "    \n",
    "for t in range(epochs):\n",
    "    start_time = time()\n",
    "    for i, data in enumerate(train_loader):\n",
    "        # pega entradas\n",
    "        inputs, labels = data\n",
    "        inputs, labels = Variable(inputs), Variable(labels.type(torch.LongTensor))\n",
    "\n",
    "        # forward pass\n",
    "        predict = autoencoder(inputs)\n",
    "\n",
    "        # loss\n",
    "        loss = loss_fn(predict, inputs)\n",
    "\n",
    "        # zera gradiente\n",
    "        optimizer.zero_grad()\n",
    "            \n",
    "        # calcula novos gradientes\n",
    "        loss.backward()\n",
    "\n",
    "        # atualiza pesos\n",
    "        optimizer.step()\n",
    "\n",
    "    elapsed_time = time() - start_time\n",
    "    # perda no conjunto de treinamento\n",
    "    train_loss[t] = prediction(train_loader, autoencoder, loss_fn)\n",
    "    # perda no conjunto de teste\n",
    "    val_loss[t] = prediction(val_loader, autoencoder, loss_fn)\n",
    "    # imprime dados do treinamento\n",
    "    print('Epoch:', t, '-',round(elapsed_time,0),'s',\n",
    "          '\\t train loss:', round(train_loss[t],5), \n",
    "          '\\t val loss:', round(val_loss[t],5))\n",
    "\n",
    "    # verifica melhora do modelo\n",
    "    if(best_val_loss > val_loss[t]):\n",
    "        patience_count = 0\n",
    "        best_val_loss = val_loss[t]\n",
    "        best_model = copy.deepcopy(autoencoder)\n",
    "        print('Loss improved, saving model from epoch', t)\n",
    "\n",
    "    # early stop\n",
    "    if(patience_count > patience):\n",
    "        print('\\nEarly stopping as accuracy did not improve on last', patience, 'epochs!')\n",
    "        last_epoch = t\n",
    "        break;\n",
    "\n",
    "    patience_count += 1\n",
    "\n",
    "# recupera melhor modelo\n",
    "autoencoder = best_model\n",
    "print('Trainning completed!')"
   ]
  },
  {
   "cell_type": "code",
   "execution_count": null,
   "metadata": {
    "ExecuteTime": {
     "end_time": "2017-08-12T17:28:55.201628",
     "start_time": "2017-08-12T17:28:37.193992"
    }
   },
   "outputs": [],
   "source": [
    "model_name = '../../models/FiltrandoRuidoAutoencoder'\n",
    "fit_params = {\n",
    "    'model_name': model_name,\n",
    "    'loss':       'mse',\n",
    "    'opt':        Adam(),\n",
    "    'batch_size': 32, \n",
    "    'nepochs':    50,\n",
    "    'patience':   5,\n",
    "    'ploss':      0.07,\n",
    "    'reset':      False,\n",
    "}\n",
    "\n",
    "autoencoder_trained,_ = train_network(autoencoder, x_train_noisy, x_train, x_test_noisy, x_test, **fit_params);"
   ]
  },
  {
   "cell_type": "markdown",
   "metadata": {},
   "source": [
    "## Testando 10 primeiras amostras de teste"
   ]
  },
  {
   "cell_type": "code",
   "execution_count": null,
   "metadata": {
    "ExecuteTime": {
     "end_time": "2017-08-12T17:29:07.838324",
     "start_time": "2017-08-12T17:29:07.745550"
    }
   },
   "outputs": [],
   "source": [
    "y_hat = autoencoder_trained.predict(x_test_noisy[:10],batch_size=10)\n",
    "print(y_hat.shape)"
   ]
  },
  {
   "cell_type": "code",
   "execution_count": null,
   "metadata": {
    "ExecuteTime": {
     "end_time": "2017-08-12T17:29:13.557833",
     "start_time": "2017-08-12T17:29:11.617414"
    }
   },
   "outputs": [],
   "source": [
    "n = 10\n",
    "fig = plt.figure(figsize=(20, 4))\n",
    "plt.gray()\n",
    "for i in range(n):\n",
    "    ax = fig.add_subplot(2, 10, i+1)\n",
    "    ax.imshow(x_test_noisy[i].reshape(28, 28))\n",
    "    ax.axis('off')\n",
    "for i in range(n):\n",
    "    ax = fig.add_subplot(2, 10, i+11)\n",
    "    ax.imshow(y_hat[i].reshape(28, 28))\n",
    "    ax.axis('off')\n",
    "plt.show();"
   ]
  },
  {
   "cell_type": "markdown",
   "metadata": {},
   "source": [
    "## Testando com imagem de tamanho maior"
   ]
  },
  {
   "cell_type": "markdown",
   "metadata": {},
   "source": [
    "Como a rede é formada de camadas convolucionais, é possível que a imagem de entrada tenha qualquer tamanho.\n",
    "Veja o exemplo a seguir, onde 4 imagens são juntadas para formar uma de shape=(56,56)."
   ]
  },
  {
   "cell_type": "code",
   "execution_count": null,
   "metadata": {
    "ExecuteTime": {
     "end_time": "2017-08-12T17:29:16.408601",
     "start_time": "2017-08-12T17:29:16.180386"
    }
   },
   "outputs": [],
   "source": [
    "img1 = np.hstack([x_test_noisy[0],x_test_noisy[1]])\n",
    "img2 = np.hstack([x_test_noisy[2],x_test_noisy[3]])\n",
    "img = np.vstack([img1,img2]).reshape(1,56,56,1)\n",
    "print(img.shape)\n",
    "plt.imshow(img.reshape(56,56),cmap='gray')\n",
    "                 "
   ]
  },
  {
   "cell_type": "code",
   "execution_count": null,
   "metadata": {
    "ExecuteTime": {
     "end_time": "2017-08-12T17:29:17.442307",
     "start_time": "2017-08-12T17:29:17.231722"
    }
   },
   "outputs": [],
   "source": [
    "yy_hat = autoencoder_trained.predict(img,batch_size=1)\n",
    "plt.imshow(yy_hat.reshape(56,56),cmap='gray');"
   ]
  },
  {
   "cell_type": "markdown",
   "metadata": {},
   "source": [
    "## Aprendizados"
   ]
  },
  {
   "cell_type": "code",
   "execution_count": null,
   "metadata": {},
   "outputs": [],
   "source": []
  }
 ],
 "metadata": {
  "kernelspec": {
   "display_name": "Python 3",
   "language": "python",
   "name": "python3"
  },
  "language_info": {
   "codemirror_mode": {
    "name": "ipython",
    "version": 3
   },
   "file_extension": ".py",
   "mimetype": "text/x-python",
   "name": "python",
   "nbconvert_exporter": "python",
   "pygments_lexer": "ipython3",
   "version": "3.6.4"
  },
  "toc": {
   "colors": {
    "hover_highlight": "#DAA520",
    "running_highlight": "#FF0000",
    "selected_highlight": "#FFD700"
   },
   "moveMenuLeft": true,
   "nav_menu": {
    "height": "30px",
    "width": "252px"
   },
   "navigate_menu": true,
   "number_sections": true,
   "sideBar": true,
   "threshold": 4,
   "toc_cell": false,
   "toc_section_display": "block",
   "toc_window_display": false
  }
 },
 "nbformat": 4,
 "nbformat_minor": 2
}
